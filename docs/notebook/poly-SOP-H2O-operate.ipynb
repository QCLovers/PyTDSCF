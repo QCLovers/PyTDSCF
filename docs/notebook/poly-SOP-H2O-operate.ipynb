{
 "cells": [
  {
   "cell_type": "markdown",
   "id": "bcbc9641-d5d1-4f1c-a168-804cff801d8e",
   "metadata": {},
   "source": [
    "# Example 2: Operation of dipole moment operator to H2O vibrational ground state"
   ]
  },
  {
   "cell_type": "markdown",
   "id": "66e0443d-0b0a-4456-9b83-15ce3a003855",
   "metadata": {},
   "source": [
    "| run type | restart | wavefunction | backend | Basis  | max iteration |\n",
    "| ---       | ---   | ---          | ---     | ---    | ---   |\n",
    "| operation  | True (file suffix `_gs`)  | MPS-SM (restart) | Numpy   | HO-FBR | 10    |"
   ]
  },
  {
   "cell_type": "markdown",
   "id": "d484ceaa-861c-4347-8cf0-52c3d5e6201b",
   "metadata": {},
   "source": [
    "## 1. Import modules"
   ]
  },
  {
   "cell_type": "markdown",
   "id": "0b50fd02-cf7c-42b5-a02d-ca3450ebf70e",
   "metadata": {},
   "source": [
    "- Required in **any** calculations"
   ]
  },
  {
   "cell_type": "code",
   "execution_count": 1,
   "id": "6460756f-ff3a-4c0f-a761-013f629aa161",
   "metadata": {
    "ExecuteTime": {
     "end_time": "2023-06-26T07:02:37.114255Z",
     "start_time": "2023-06-26T07:02:34.738021Z"
    }
   },
   "outputs": [],
   "source": [
    "from pytdscf import BasInfo, Model, Simulator"
   ]
  },
  {
   "cell_type": "markdown",
   "id": "eb10b01d-3471-4800-952a-ffc6857fe942",
   "metadata": {},
   "source": [
    "## 2. Set FBR primitive basis"
   ]
  },
  {
   "cell_type": "markdown",
   "id": "83d3e0aa-ade3-4399-ad7a-0b4d5ef7456e",
   "metadata": {},
   "source": [
    "**MPS-MCTDH wavefunction**\n",
    "$$\n",
    "|\\Psi_{\\rm{MPS-MCTDH}}\\rangle = \\sum_{\\mathbf \\{j\\}}\\sum_{\\mathbf \\{\\tau\\}}\n",
    "a\\substack{j_1 \\\\ 1\\tau_1}a\\substack{j_2 \\\\ \\tau_1\\tau_2} \\cdots a\\substack{j_f \\\\ \\tau_{f-1}1}\n",
    "|\\varphi_{j_1}^{(1)}(q_1)\\rangle|\\varphi_{j_2}^{(2)}(q_2)\\rangle\n",
    "\\cdots|\\varphi_{j_f}^{(f)}(q_f)\\rangle\n",
    "$$\n",
    "where SPF is \n",
    "$$\n",
    "\\varphi_{j_p}^{(p)}(q_p) = \\sum_{i_p=1}^{n_p} c_{i_p}^{j_p}\\chi_{i_p}^{(p)}(q_p) \\; (j_p = 1,2,\\ldots, N_p)\n",
    "$$\n",
    "\n",
    "Here, select $\\{\\chi_{i_p}^{(p)}(q_p)\\}$ as Harmonic Oscillator eigenfunction.\n",
    "See detail in [documenation](https://qclovers.github.io/PyTDSCF/pytdscf.html#pytdscf.primints_cls.PrimBas_HO).\n",
    "Here one define $n_p$ = 9, $N_p$ = 9. \n",
    "\n",
    "**NOTE**\n",
    "\n",
    "- First argument of `Primbas_HO` is displaced dimensionless coordinate from q=0.0.\n",
    "\n",
    "- In MPS,  $n = N$ (SM) is usually better than $n < M$ (MCTDH). Only when using a laptop computer, MCTDH sometimes works better. (because the required RAM in MCTDH is smaller than SM.)\n",
    "\n",
    "- Primitive basis information must be the same as restart one."
   ]
  },
  {
   "cell_type": "code",
   "execution_count": 2,
   "id": "30b4b23a-8cdb-49eb-a01e-0719361583cd",
   "metadata": {
    "ExecuteTime": {
     "end_time": "2023-06-26T07:02:37.187153Z",
     "start_time": "2023-06-26T07:02:37.145046Z"
    }
   },
   "outputs": [],
   "source": [
    "from math import sqrt\n",
    "\n",
    "from discvar import PrimBas_HO\n",
    "\n",
    "from pytdscf import units\n",
    "from pytdscf.potentials.h2o_potential import k_orig\n",
    "\n",
    "freqs = [\n",
    "    sqrt(k_orig[(1, 1)]),\n",
    "    sqrt(k_orig[(2, 2)]),\n",
    "    sqrt(k_orig[(3, 3)]),\n",
    "]  # a.u. (sqrt{omega^2} = omega)\n",
    "nprims = [9, 9, 9]\n",
    "prim_info = [\n",
    "    [\n",
    "        PrimBas_HO(0.0, omega * units.au_in_cm1, nprim)\n",
    "        for nprim, omega in zip(nprims, freqs, strict=False)\n",
    "    ]\n",
    "]  # number of state is 1 --> S0\n",
    "nstate = len(prim_info)\n",
    "ndof = len(prim_info[0])\n",
    "basinfo = BasInfo(prim_info)"
   ]
  },
  {
   "cell_type": "markdown",
   "id": "98a65e22-92d8-4732-84a8-e0231bb24560",
   "metadata": {},
   "source": [
    "## 3. Set Dipole Operator (Polynomial Function)"
   ]
  },
  {
   "cell_type": "markdown",
   "id": "af70e00d-0c9c-4a46-b764-c67e7fc2febf",
   "metadata": {},
   "source": [
    "Here, one use pre-calculated Polyonimal PES and DMS.\n",
    "When `potential_emu=None`, `read_potential_nMR` does **not** inculde kinetic term."
   ]
  },
  {
   "cell_type": "code",
   "execution_count": 3,
   "id": "55f1d56b-bf06-48d2-accd-e52265659a84",
   "metadata": {
    "ExecuteTime": {
     "end_time": "2023-06-26T07:02:37.205923Z",
     "start_time": "2023-06-26T07:02:37.175467Z"
    },
    "scrolled": true,
    "tags": []
   },
   "outputs": [
    {
     "data": {
      "text/plain": [
       "{(): [-1.69908e-15, 1.24913e-14, -1.93795],\n",
       " (3,): [-2.20831e-17, 0.00853527, -8.32759e-16],\n",
       " (2,): [1.50857e-17, 2.08217e-15, -0.00326347],\n",
       " (1,): [6.37588e-18, 8.65662e-16, 0.0142383],\n",
       " (3, 3): [3.5274e-18, -1.35302e-15, -2.31565e-05],\n",
       " (2, 3): [3.46044e-18, -0.000294259, -7.3169e-16],\n",
       " (2, 2): [-1.5306e-18, -1.42229e-15, 0.00020955],\n",
       " (1, 3): [1.45261e-17, 0.000327409, -2.99469e-17],\n",
       " (1, 2): [3.90656e-18, 1.26166e-16, -0.000112968],\n",
       " (1, 1): [-6.45481e-18, 6.79098e-16, 0.000192831],\n",
       " (3, 3, 3): [-1.34711e-21, 7.33335e-06, 9.41511e-22],\n",
       " (2, 3, 3): [2.2067e-22, -3.92968e-22, 3.0608e-06],\n",
       " (1, 3, 3): [-2.55725e-22, 4.55392e-22, -3.54702e-06],\n",
       " (2, 2, 3): [6.16547e-22, -3.35633e-06, -4.3091e-22],\n",
       " (2, 2, 2): [1.69378e-22, -3.01627e-22, 2.34936e-06],\n",
       " (1, 2, 2): [3.17065e-22, -5.64628e-22, 4.39783e-06],\n",
       " (1, 1, 3): [-1.08836e-21, 5.92476e-06, 7.60666e-22],\n",
       " (1, 1, 2): [-2.92033e-23, 5.20049e-23, -4.05062e-07],\n",
       " (1, 1, 1): [5.60185e-22, -9.97572e-22, 7.77e-06]}"
      ]
     },
     "execution_count": 3,
     "metadata": {},
     "output_type": "execute_result"
    }
   ],
   "source": [
    "from pytdscf.hamiltonian_cls import read_potential_nMR\n",
    "from pytdscf.potentials.h2o_dipole import mu\n",
    "\n",
    "mu  # Dipole has (x,y,z) elements"
   ]
  },
  {
   "cell_type": "code",
   "execution_count": 4,
   "id": "232ec00b-d71e-4588-939b-1058715c8b9d",
   "metadata": {
    "ExecuteTime": {
     "end_time": "2023-06-26T07:02:37.205923Z",
     "start_time": "2023-06-26T07:02:37.175467Z"
    },
    "scrolled": true,
    "tags": []
   },
   "outputs": [
    {
     "name": "stdout",
     "output_type": "stream",
     "text": [
      "Constant terms: (-1.9379499999999892+0j)\n",
      "Onesite terms: +8.5353e-03 q^1_2 -3.2635e-03 q^1_1 +1.4238e-02 q^1_0 -1.1578e-05 q^2_2 +1.0477e-04 q^2_1 +9.6416e-05 q^2_0 +1.2222e-06 q^3_2 +3.9156e-07 q^3_1 +1.2950e-06 q^3_0\n",
      "Multisite terms -2.9426e-04 q^1_1 * q^1_2 +3.2741e-04 q^1_0 * q^1_2 -1.1297e-04 q^1_0 * q^1_1 +1.5304e-06 q^1_1 * q^2_2 -1.7735e-06 q^1_0 * q^2_2 -1.6782e-06 q^2_1 * q^1_2 +2.1989e-06 q^1_0 * q^2_1 +2.9624e-06 q^2_0 * q^1_2 -2.0253e-07 q^2_0 * q^1_1\n"
     ]
    }
   ],
   "source": [
    "dipole = read_potential_nMR(potential_emu=None, cut_off=-1.0e-10, dipole_emu=mu)\n",
    "print(\"Constant terms:\", dipole.coupleJ[0][0])\n",
    "print(\"Onesite terms:\", *dipole.onesite[0][0])\n",
    "print(\"Multisite terms\", *dipole.general[0][0])\n",
    "operators = {\"hamiltonian\": dipole}"
   ]
  },
  {
   "cell_type": "markdown",
   "id": "2b82c15c-62d4-474e-964b-49637a6dcd9c",
   "metadata": {
    "tags": []
   },
   "source": [
    "## 4. Set wave function (MPS) and All Model\n",
    "\n",
    "- `m_aux_max` is MPS bond dimenison (maximum of auxiliary index $\\tau_p$)"
   ]
  },
  {
   "cell_type": "code",
   "execution_count": 5,
   "id": "79beeb3a-565e-4d80-bdb3-cc79a821f6f3",
   "metadata": {
    "ExecuteTime": {
     "end_time": "2023-06-26T07:02:37.236930Z",
     "start_time": "2023-06-26T07:02:37.207186Z"
    }
   },
   "outputs": [],
   "source": [
    "model = Model(basinfo=basinfo, operators=operators)\n",
    "model.m_aux_max = 9"
   ]
  },
  {
   "cell_type": "markdown",
   "id": "cb495b77-ca3f-4771-bae6-1a4d6dc1b503",
   "metadata": {},
   "source": [
    "## 5. Execute Calculation"
   ]
  },
  {
   "cell_type": "code",
   "execution_count": 6,
   "id": "c121c2b6-d7c2-40a6-93ae-1578ca67f256",
   "metadata": {
    "ExecuteTime": {
     "end_time": "2023-06-26T07:02:37.145184Z",
     "start_time": "2023-06-26T07:02:37.115028Z"
    }
   },
   "outputs": [
    {
     "name": "stdout",
     "output_type": "stream",
     "text": [
      "wf_h2o_polynomial_gs.pkl\n"
     ]
    }
   ],
   "source": [
    "! ls wf_h2o_polynomial_gs.pkl"
   ]
  },
  {
   "cell_type": "markdown",
   "id": "d06941d9-23d2-40af-a92b-6afbc9fecedf",
   "metadata": {},
   "source": [
    "F.Y.I., See also about [Simulator](https://qclovers.github.io/PyTDSCF/pytdscf.html#pytdscf.simulator_cls.Simulator)\n",
    "\n",
    "This run type prepare $|\\Psi_{\\mu}\\rangle$ by variationally optimizing\n",
    "$$\\langle \\delta\\Psi_{\\mu}|\\Psi_{\\mu} - \\hat{\\mu}\\Psi_{\\mathrm{gs}}\\rangle=0$$\n",
    "where $\\Psi_{\\mathrm{gs}}$ is a vibrational ground state wavefunction.\n",
    "\n",
    "**NOTE**\n",
    "\n",
    "- Runtype cannnot rebind. If you want to change runtype, you should restart kernel."
   ]
  },
  {
   "cell_type": "code",
   "execution_count": 7,
   "id": "fabba1c2-8b8a-4adc-a784-73d310737842",
   "metadata": {
    "ExecuteTime": {
     "end_time": "2023-06-26T07:02:37.328268Z",
     "start_time": "2023-06-26T07:02:37.237287Z"
    }
   },
   "outputs": [
    {
     "name": "stderr",
     "output_type": "stream",
     "text": [
      "2025-02-04 23:34:41,780 - INFO:main.pytdscf._const_cls - \u001b[1m\u001b[35m\n",
      "     ____     __________   .____ ____   _____\n",
      "    / _  |   /__  __/ _ \\ / ___ / _  \\ / ___/\n",
      "   / /_) /_  __/ / / / ||/ /__ / / )_// /__\n",
      "  /  ___/ / / / / / / / |.__  / |  __/ ___/\n",
      " /  /  / /_/ / / / /_/ /___/ /| \\_/ / /\n",
      "/__/   \\__, /_/ /_____/_____/ \\____/_/\n",
      "      /____/\n",
      "\u001b[0m\n",
      "2025-02-04 23:34:41,781 - INFO:main.pytdscf._const_cls - Log file is ./h2o_polynomial_operate/main.log\n",
      "2025-02-04 23:34:41,782 - INFO:main.pytdscf.simulator_cls - Set integral of FBR basis\n",
      "2025-02-04 23:34:41,805 - INFO:main.pytdscf.simulator_cls - Set initial wave function (FBR basis)\n",
      "2025-02-04 23:34:41,807 - INFO:main.pytdscf.simulator_cls - Wave function is loaded from wf_h2o_polynomial_gs.pkl\n",
      "2025-02-04 23:34:41,807 - INFO:main.pytdscf.simulator_cls - Start: apply operator to wave function\n",
      "2025-02-04 23:34:41,833 - INFO:main.pytdscf.simulator_cls - Wave function is saved in wf_h2o_polynomial_dipole.pkl\n",
      "2025-02-04 23:34:41,833 - INFO:main.pytdscf.simulator_cls - End  : apply operator to wave function\n"
     ]
    },
    {
     "data": {
      "text/plain": [
       "(1.9386775043559428, <pytdscf.wavefunction.WFunc at 0x10dc04f50>)"
      ]
     },
     "execution_count": 7,
     "metadata": {},
     "output_type": "execute_result"
    }
   ],
   "source": [
    "jobname = \"h2o_polynomial\"\n",
    "simulator = Simulator(jobname, model, backend=\"numpy\", verbose=4)\n",
    "simulator.operate(\n",
    "    loadfile_ext=\"_gs\", savefile_ext=\"_dipole\", restart=True, maxstep=10\n",
    ")"
   ]
  },
  {
   "cell_type": "markdown",
   "id": "aee22b8b-88ad-469b-bb18-bf9b979386a8",
   "metadata": {},
   "source": [
    "## 6. Check Log file\n",
    "See `h2o_polynomial_operate/main.log`, which is defined by `jobname`."
   ]
  },
  {
   "cell_type": "code",
   "execution_count": 8,
   "id": "3024ea78-6f16-402f-9773-68595ab0eeba",
   "metadata": {
    "ExecuteTime": {
     "end_time": "2023-06-26T07:02:37.466206Z",
     "start_time": "2023-06-26T07:02:37.312945Z"
    }
   },
   "outputs": [
    {
     "name": "stdout",
     "output_type": "stream",
     "text": [
      "Wave function is loaded from wf_h2o_polynomial_gs.pkl\n",
      "Start: apply operator to wave function\n",
      "----------------------------------------\n",
      "iterations: 0 norm: 1.9386775043559425\n",
      "convergence : 0.9977392513409664\n",
      "----------------------------------------\n",
      "iterations: 1 norm: 1.9386775043559428\n",
      "convergence : 1.0000000000000004\n",
      "Wave function is saved in wf_h2o_polynomial_dipole.pkl\n",
      "End  : apply operator to wave function\n"
     ]
    }
   ],
   "source": [
    "!tail h2o_polynomial_operate/main.log"
   ]
  }
 ],
 "metadata": {
  "kernelspec": {
   "display_name": "Python 3 (ipykernel)",
   "language": "python",
   "name": "python3"
  },
  "language_info": {
   "codemirror_mode": {
    "name": "ipython",
    "version": 3
   },
   "file_extension": ".py",
   "mimetype": "text/x-python",
   "name": "python",
   "nbconvert_exporter": "python",
   "pygments_lexer": "ipython3",
   "version": "3.13.0"
  }
 },
 "nbformat": 4,
 "nbformat_minor": 5
}
