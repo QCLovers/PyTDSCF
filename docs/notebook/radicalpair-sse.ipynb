{
 "cells": [
  {
   "cell_type": "markdown",
   "id": "4162ec45-9d55-4031-976a-32ea17a46507",
   "metadata": {},
   "source": [
    "# Example 14 Electron and nuclear spin mixed state dynamics with [RadicalPy](https://github.com/Spin-Chemistry-Labs/radicalpy)\n",
    "\n",
    "In this tutorial, one constructs MPO of radical pair system (two electron spins and a couple of nuclear spins under magnetic field) by using RadicalPy library."
   ]
  },
  {
   "cell_type": "markdown",
   "id": "a02389a0-5951-4c4d-b3e2-926dc2246046",
   "metadata": {},
   "source": [
    "For parallelization number of threads should be set before importing any packages"
   ]
  },
  {
   "cell_type": "code",
   "execution_count": 1,
   "id": "4a042a13-1167-48e0-b0f5-f70bdc27cbc5",
   "metadata": {},
   "outputs": [],
   "source": [
    "import multiprocessing as mp\n",
    "\n",
    "mp.set_start_method(\"fork\", force=True)\n",
    "# <-- Spawn (Mac OS default) does not work.\n",
    "# If you want, change code to adopt main() block and separate process_pair() from main()\n",
    "\n",
    "nthreads = 1\n",
    "import os\n",
    "\n",
    "os.environ[\"OMP_NUM_THREADS\"] = f\"{nthreads}\"\n",
    "os.environ[\"OPENBLAS_NUM_THREADS\"] = f\"{nthreads}\"\n",
    "os.environ[\"MKL_NUM_THREADS\"] = f\"{nthreads}\"\n",
    "os.environ[\"VECLIB_MAXIMUM_THREADS\"] = f\"{nthreads}\"\n",
    "os.environ[\"NUMEXPR_NUM_THREADS\"] = f\"{nthreads}\""
   ]
  },
  {
   "cell_type": "markdown",
   "id": "7ea428f9-dbb6-4a96-a8a8-57fd7ebf7b40",
   "metadata": {},
   "source": [
    "Import required modules"
   ]
  },
  {
   "cell_type": "code",
   "execution_count": 2,
   "id": "f0af061c-5932-451b-a519-cf8a987e72fc",
   "metadata": {},
   "outputs": [
    {
     "name": "stdout",
     "output_type": "stream",
     "text": [
      "\u001b[2mUsing Python 3.12.2 environment at: /home/hinom/GitHub/PyTDSCF-dev/.venv\u001b[0m\n",
      "Name: radicalpy\n",
      "Version: 0.8.1\n",
      "Location: /home/hinom/GitHub/PyTDSCF-dev/.venv/lib/python3.12/site-packages\n",
      "Requires: dot2tex, graphviz, importlib-resources, matplotlib, numpy, pint, scikit-learn, scipy, seaborn, sympy, tqdm\n",
      "Required-by:\n"
     ]
    }
   ],
   "source": [
    "try:\n",
    "    import radicalpy\n",
    "except ModuleNotFoundError:\n",
    "    # remove uv if you are not using uv\n",
    "    !uv pip install radicalpy --quiet\n",
    "\n",
    "!uv pip show radicalpy"
   ]
  },
  {
   "cell_type": "code",
   "execution_count": 3,
   "id": "85574e64-c594-4ba8-a482-6446e3071f17",
   "metadata": {},
   "outputs": [],
   "source": [
    "import concurrent.futures\n",
    "import time\n",
    "from concurrent.futures import ProcessPoolExecutor\n",
    "\n",
    "import matplotlib.pyplot as plt\n",
    "import netCDF4 as nc\n",
    "import numpy as np\n",
    "import radicalpy as rp\n",
    "from IPython.display import HTML\n",
    "from pympo import (\n",
    "    AssignManager,\n",
    "    OpSite,\n",
    "    SumOfProducts,\n",
    ")\n",
    "from radicalpy.simulation import State\n",
    "from scipy.linalg import expm\n",
    "from scipy.stats import qmc\n",
    "from sympy import Symbol\n",
    "from tqdm.auto import tqdm\n",
    "\n",
    "from pytdscf import BasInfo, Exciton, Model, Simulator, units\n",
    "from pytdscf.dvr_operator_cls import TensorOperator\n",
    "from pytdscf.hamiltonian_cls import TensorHamiltonian\n",
    "from pytdscf.util.anim_density_matrix import get_anim"
   ]
  },
  {
   "cell_type": "markdown",
   "id": "84eaac2e-bada-443f-bbdc-8a4df63f1a70",
   "metadata": {},
   "source": [
    "## Total Hamiltonian\n",
    "$$\n",
    "\\hat{H}_{\\text{total}} =\n",
    "\\hat{H}_{\\text{Z}} + \\hat{H}_{\\text{H}} + \\hat{H}_{\\text{J}} + \\hat{H}_{\\text{D}}    \n",
    "$$"
   ]
  },
  {
   "cell_type": "markdown",
   "id": "c28b08bc-2395-43ed-b8e5-ff7745df2e58",
   "metadata": {},
   "source": [
    "## Define systems"
   ]
  },
  {
   "cell_type": "markdown",
   "id": "e0829519-2f3d-4c14-8ba2-cae086e014d7",
   "metadata": {},
   "source": [
    "```py\n",
    "# You can use following block instead\n",
    "n_nuc_spins = 3 # In total, 3*2=6 nuclear spins + 2 electrons = 2^8 Hilbert space\n",
    "flavin = rp.simulation.Molecule.fromisotopes(\n",
    "    isotopes=[\"1H\"] * n_nuc_spins, hfcs=[0.4] * n_nuc_spins\n",
    ")\n",
    "Z = rp.simulation.Molecule.fromisotopes(\n",
    "    isotopes=[\"1H\"] * n_nuc_spins, hfcs=[0.5] * n_nuc_spins\n",
    ")\n",
    "sim = rp.simulation.HilbertSimulation([flavin, Z])\n",
    "\n",
    "# Parameters\n",
    "A = {} # mT\n",
    "isotropic = True\n",
    "\n",
    "# Isotropic\n",
    "for i in range(len(sim.radicals)):\n",
    "    for j, nuc in enumerate(sim.molecules[i].nuclei):\n",
    "        if isotropic:\n",
    "            A[(i, j)] = np.eye(3) * nuc.hfc.isotropic\n",
    "        else:\n",
    "            A[(i, j)] = nuc.hfc.anisotropic\n",
    "B0 = 0.2 # 2J\n",
    "B = np.array((0.0, 0.0, 1.0)) * B0 # mT\n",
    "J = 0.1 # Typically 1.0e+03 scale # mT\n",
    "\n",
    "D = 1.0 # mT\n",
    "\n",
    "if isinstance(D, float):\n",
    "    D = 2 / 3 * np.diag((-1.0, -1.0, 2.0)) * D *sim.radicals[0].gamma_mT\n",
    "sim\n",
    "```"
   ]
  },
  {
   "cell_type": "code",
   "execution_count": 4,
   "id": "47feba6a-1587-4678-9e7a-390a856200eb",
   "metadata": {},
   "outputs": [
    {
     "data": {
      "text/plain": [
       "Number of electrons: 2\n",
       "Number of nuclei: 27\n",
       "Number of particles: 29\n",
       "Multiplicities: [2, 2, 3, 3, 3, 2, 2, 2, 2, 2, 2, 2, 2, 2, 2, 2, 2, 3, 2, 3, 3, 2, 2, 2, 2, 2, 2, 2, 2]\n",
       "Magnetogyric ratios (mT): [-176085963.023, -176085963.023, 19337.792, 19337.792, 19337.792, 267522.18744, 267522.18744, 267522.18744, 267522.18744, 267522.18744, 267522.18744, 267522.18744, 267522.18744, 267522.18744, 267522.18744, 267522.18744, 267522.18744, 19337.792, 267522.18744, 19337.792, 19337.792, 267522.18744, 267522.18744, 267522.18744, 267522.18744, 267522.18744, 267522.18744, 267522.18744, 267522.18744]\n",
       "Nuclei: [14N(19337792.0, 3, 0.5141 <anisotropic available>), 14N(19337792.0, 3, -0.001275 <anisotropic available>), 14N(19337792.0, 3, -0.03654 <anisotropic available>), 1H(267522187.44, 2, 0.05075 <anisotropic available>), 1H(267522187.44, 2, -0.1371 <anisotropic available>), 1H(267522187.44, 2, -0.1371 <anisotropic available>), 1H(267522187.44, 2, -0.1371 <anisotropic available>), 1H(267522187.44, 2, -0.4403 <anisotropic available>), 1H(267522187.44, 2, 0.4546 <anisotropic available>), 1H(267522187.44, 2, 0.4546 <anisotropic available>), 1H(267522187.44, 2, 0.4546 <anisotropic available>), 1H(267522187.44, 2, 0.009597 <anisotropic available>), 1H(267522187.44, 2, 0.4263 <anisotropic available>), 1H(267522187.44, 2, 0.4233 <anisotropic available>), 1H(267522187.44, 2, -0.02004 <anisotropic available>), 14N(19337792.0, 3, 0.1784 <anisotropic available>), 1H(267522187.44, 2, 1.605 <anisotropic available>), 14N(19337792.0, 3, 0.3216 <anisotropic available>), 14N(19337792.0, 3, 0.1465 <anisotropic available>), 1H(267522187.44, 2, 0.04567 <anisotropic available>), 1H(267522187.44, 2, -0.03213 <anisotropic available>), 1H(267522187.44, 2, -0.04 <anisotropic available>), 1H(267522187.44, 2, -0.09307 <anisotropic available>), 1H(267522187.44, 2, -0.278 <anisotropic available>), 1H(267522187.44, 2, -0.3634 <anisotropic available>), 1H(267522187.44, 2, -0.4879 <anisotropic available>), 1H(267522187.44, 2, -0.5983 <anisotropic available>)]\n",
       "Couplings: [0, 0, 0, 0, 0, 0, 0, 0, 0, 0, 0, 0, 0, 0, 0, 0, 1, 1, 1, 1, 1, 1, 1, 1, 1, 1, 1]\n",
       "HFCs (mT): [0.5141 <anisotropic available>, -0.001275 <anisotropic available>, -0.03654 <anisotropic available>, 0.05075 <anisotropic available>, -0.1371 <anisotropic available>, -0.1371 <anisotropic available>, -0.1371 <anisotropic available>, -0.4403 <anisotropic available>, 0.4546 <anisotropic available>, 0.4546 <anisotropic available>, 0.4546 <anisotropic available>, 0.009597 <anisotropic available>, 0.4263 <anisotropic available>, 0.4233 <anisotropic available>, -0.02004 <anisotropic available>, 0.1784 <anisotropic available>, 1.605 <anisotropic available>, 0.3216 <anisotropic available>, 0.1465 <anisotropic available>, 0.04567 <anisotropic available>, -0.03213 <anisotropic available>, -0.04 <anisotropic available>, -0.09307 <anisotropic available>, -0.278 <anisotropic available>, -0.3634 <anisotropic available>, -0.4879 <anisotropic available>, -0.5983 <anisotropic available>]"
      ]
     },
     "execution_count": 4,
     "metadata": {},
     "output_type": "execute_result"
    }
   ],
   "source": [
    "flavin = rp.simulation.Molecule.all_nuclei(\"flavin_anion\")\n",
    "trp = rp.simulation.Molecule.all_nuclei(\"tryptophan_cation\")\n",
    "sim = rp.simulation.HilbertSimulation([flavin, trp])\n",
    "A = {}\n",
    "isotropic = False\n",
    "\n",
    "# Isotropic\n",
    "for i in range(len(sim.radicals)):\n",
    "    for j, nuc in enumerate(sim.molecules[i].nuclei):\n",
    "        if isotropic:\n",
    "            A[(i, j)] = np.eye(3) * nuc.hfc.isotropic\n",
    "        else:\n",
    "            A[(i, j)] = nuc.hfc.anisotropic\n",
    "B0 = 3.0  # Typically 0.01 mT~10 mT\n",
    "B = np.array((0.0, 0.0, 1.0)) * B0\n",
    "J = 0.1  # Typically 1.0e+03 scale\n",
    "\n",
    "D = (\n",
    "    np.array(\n",
    "        [[-0.225, 0.156, 0.198], [0.156, 0.117, -0.082], [0.198, -0.082, 0.107]]\n",
    "    )\n",
    "    * sim.radicals[0].gamma_mT\n",
    ")\n",
    "# k = 1.0e-06 # Exponential model in s-1\n",
    "if isinstance(D, float):\n",
    "    D = 2 / 3 * np.diag((-1.0, -1.0, 2.0)) * D * sim.radicals[0].gamma_mT\n",
    "\n",
    "sim"
   ]
  },
  {
   "cell_type": "markdown",
   "id": "fce6dc6c-5756-4207-b54d-c3c338d6b908",
   "metadata": {},
   "source": [
    "Now, one defines matrix product state (MPS) in the following order\n",
    "\n",
    "(nuclei in `flavin`) $\\to$ (electronic states $\\{|T_{+}\\rangle, |T_{0}\\rangle, |S\\rangle, |T_{-}\\rangle\\}$) $\\to$ (neclei in `Z`)"
   ]
  },
  {
   "cell_type": "markdown",
   "id": "6350e7ad-e801-4fdd-9a2d-0cee73b3b549",
   "metadata": {},
   "source": [
    "## Extract one particle operator\n",
    "\n",
    "RadicalPy provides variety of spin operators such as \n",
    "\n",
    "- $\\hat{s}_x, \\hat{s}_y, \\hat{s}_z$ for radical singlet-triplet basis\n",
    "- $\\hat{I}_x, \\hat{I}_y, \\hat{I}_z$ for nuclear Zeeman basis"
   ]
  },
  {
   "cell_type": "code",
   "execution_count": 5,
   "id": "a79a6209-e62c-4a58-beec-8d6f281f100b",
   "metadata": {},
   "outputs": [
    {
     "data": {
      "image/png": "[encoded data removed]",
      "text/plain": [
       "<Figure size 640x480 with 2 Axes>"
      ]
     },
     "metadata": {},
     "output_type": "display_data"
    }
   ],
   "source": [
    "# Clear nuclei temporally\n",
    "_nuclei_tmp0 = sim.molecules[0].nuclei\n",
    "_nuclei_tmp1 = sim.molecules[1].nuclei\n",
    "sim.molecules[0].nuclei = []\n",
    "sim.molecules[1].nuclei = []\n",
    "\n",
    "# for Singlet-Triplet basis\n",
    "sx_1 = sim.spin_operator(0, \"x\")\n",
    "sy_1 = sim.spin_operator(0, \"y\").imag  # <== Caution!\n",
    "sz_1 = sim.spin_operator(0, \"z\")\n",
    "sx_2 = sim.spin_operator(1, \"x\")\n",
    "sy_2 = sim.spin_operator(1, \"y\").imag  # <== Caution!\n",
    "sz_2 = sim.spin_operator(1, \"z\")\n",
    "\n",
    "# Revert nuclei\n",
    "sim.molecules[0].nuclei = _nuclei_tmp0\n",
    "sim.molecules[1].nuclei = _nuclei_tmp1\n",
    "\n",
    "plt.imshow(\n",
    "    2 * (sx_1 @ sx_2 - sy_1 @ sy_2 + sz_1 @ sz_2).real\n",
    "    + 0.5 * np.eye(*sx_1.shape),\n",
    "    cmap=\"bwr\",\n",
    "    vmin=-1.0,\n",
    "    vmax=1.0,\n",
    ")\n",
    "plt.title(\n",
    "    r\"$2\\hat{S}_1\\cdot \\hat{S}_2 + \\frac{1}{2}\\hat{E}$ (Singlet Triplet basis)\"\n",
    ")\n",
    "plt.colorbar()\n",
    "plt.xticks(\n",
    "    [0, 1, 2, 3],\n",
    "    [r\"$|T_+\\rangle$\", r\"$|T_0\\rangle$\", r\"$|S\\rangle$\", r\"$|T_-\\rangle$\"],\n",
    ")\n",
    "plt.yticks(\n",
    "    [0, 1, 2, 3],\n",
    "    [\n",
    "        r\"$\\langle T_+|$\",\n",
    "        r\"$\\langle T_0 |$\",\n",
    "        r\"$\\langle S|$\",\n",
    "        r\"$\\langle T_- |$\",\n",
    "    ],\n",
    ")\n",
    "plt.show()"
   ]
  },
  {
   "cell_type": "markdown",
   "id": "ecf9d838-e0d2-4b7f-ac39-f42171907395",
   "metadata": {},
   "source": [
    "## Define `OpSite` and coefficients\n",
    "\n",
    "- RadicalPy uses Hz in energy unit but it is too large to keep numerical stabiltiy\n",
    "- Thus, one will use GHz in energy unit\n",
    "- For some reasons, extraction of imaginary unit of pauli y operator leads stable simulation for degenerate system (why??)"
   ]
  },
  {
   "cell_type": "code",
   "execution_count": 6,
   "id": "7589a1fc-8192-4178-859d-df868692e1a5",
   "metadata": {},
   "outputs": [],
   "source": [
    "SCALE = 1.0e-09\n",
    "gamma = [p.gamma_mT for p in sim.particles]\n",
    "\n",
    "g_ele_sym = [\n",
    "    Symbol(r\"\\gamma_e^{(\" + f\"{i + 1}\" + \")}\") for i in range(len(sim.radicals))\n",
    "]\n",
    "g_nuc_sym = {}\n",
    "for i in range(len(sim.radicals)):\n",
    "    for j in range(len(sim.molecules[i].nuclei)):\n",
    "        g_nuc_sym[(i, j)] = Symbol(r\"\\gamma_n^{\" + f\"{(i + 1, j + 1)}\" + \"}\")\n",
    "\n",
    "subs = {}\n",
    "for i, ge in enumerate(g_ele_sym):\n",
    "    subs[ge] = sim.radicals[i].gamma_mT\n",
    "for (i, j), gn in g_nuc_sym.items():\n",
    "    subs[gn] = sim.molecules[i].nuclei[j].gamma_mT"
   ]
  },
  {
   "cell_type": "markdown",
   "id": "83a89c40-3258-4315-b5c5-333b5e851171",
   "metadata": {},
   "source": [
    "Define radical spin operators"
   ]
  },
  {
   "cell_type": "code",
   "execution_count": 7,
   "id": "c4682c79-fc37-4e35-b171-7397d3ab03c7",
   "metadata": {},
   "outputs": [],
   "source": [
    "ele_site = len(sim.molecules[0].nuclei)\n",
    "\n",
    "Sx_ops = []\n",
    "Sy_ops = []\n",
    "Sz_ops = []\n",
    "\n",
    "S1S2_op = OpSite(\n",
    "    r\"\\hat{S}_1\\cdot\\hat{S}_2\",\n",
    "    ele_site,\n",
    "    value=(sx_1 @ sx_2 - sy_1 @ sy_2 + sz_1 @ sz_2).real,\n",
    ")\n",
    "E_op = OpSite(r\"\\hat{E}\", ele_site, value=np.eye(*sx_1.shape))\n",
    "\n",
    "Sx_ops.append(OpSite(r\"\\hat{S}_x^{(1)}\", ele_site, value=sx_1))\n",
    "Sy_ops.append(OpSite(r\"\\hat{S}_y^{(1)}\", ele_site, value=sy_1))\n",
    "Sz_ops.append(OpSite(r\"\\hat{S}_z^{(1)}\", ele_site, value=sz_1))\n",
    "Sx_ops.append(OpSite(r\"\\hat{S}_x^{(2)}\", ele_site, value=sx_2))\n",
    "Sy_ops.append(OpSite(r\"\\hat{S}_y^{(2)}\", ele_site, value=sy_2))\n",
    "Sz_ops.append(OpSite(r\"\\hat{S}_z^{(2)}\", ele_site, value=sz_2))\n",
    "\n",
    "Sr_ops = [Sx_ops, Sy_ops, Sz_ops]"
   ]
  },
  {
   "cell_type": "markdown",
   "id": "b7925d67-965d-446c-8edb-4827117d38db",
   "metadata": {},
   "source": [
    "Define nuclear spin operators"
   ]
  },
  {
   "cell_type": "code",
   "execution_count": 8,
   "id": "d6792f47-10e2-4119-bdbc-5265b39a5b44",
   "metadata": {},
   "outputs": [],
   "source": [
    "Ix_ops = {}\n",
    "Iy_ops = {}\n",
    "Iz_ops = {}\n",
    "\n",
    "for j, nuc in enumerate(sim.molecules[0].nuclei):\n",
    "    Ix_ops[(0, j)] = OpSite(\n",
    "        r\"\\hat{I}_x^{\" + f\"{(1, j + 1)}\" + \"}\", j, value=nuc.pauli[\"x\"]\n",
    "    )\n",
    "    Iy_ops[(0, j)] = OpSite(\n",
    "        r\"\\hat{I}_y^{\" + f\"{(1, j + 1)}\" + \"}\", j, value=nuc.pauli[\"y\"].imag\n",
    "    )\n",
    "    Iz_ops[(0, j)] = OpSite(\n",
    "        r\"\\hat{I}_z^{\" + f\"{(1, j + 1)}\" + \"}\", j, value=nuc.pauli[\"z\"]\n",
    "    )\n",
    "\n",
    "for j, nuc in enumerate(sim.molecules[1].nuclei):\n",
    "    Ix_ops[(1, j)] = OpSite(\n",
    "        r\"\\hat{I}_x^{\" + f\"{(2, j + 1)}\" + \"}\",\n",
    "        ele_site + 1 + j,\n",
    "        value=nuc.pauli[\"x\"],\n",
    "    )\n",
    "    Iy_ops[(1, j)] = OpSite(\n",
    "        r\"\\hat{I}_y^{\" + f\"{(2, j + 1)}\" + \"}\",\n",
    "        ele_site + 1 + j,\n",
    "        value=nuc.pauli[\"y\"].imag,\n",
    "    )\n",
    "    Iz_ops[(1, j)] = OpSite(\n",
    "        r\"\\hat{I}_z^{\" + f\"{(2, j + 1)}\" + \"}\",\n",
    "        ele_site + 1 + j,\n",
    "        value=nuc.pauli[\"z\"],\n",
    "    )\n",
    "\n",
    "Ir_ops = [Ix_ops, Iy_ops, Iz_ops]"
   ]
  },
  {
   "cell_type": "markdown",
   "id": "ff2c4f7d-35e6-4014-beed-85206ce06f82",
   "metadata": {},
   "source": [
    "## Hyperfine coupling Hamiltonian\n",
    "$$\n",
    "\\hat{H}_{\\text{H}} = \\sum_i \\sum_j \\hat{S}_i\\cdot A_{ij}\\cdot \\hat{I}_{ij}\n",
    "= \\sum_i \\sum_j \\sum_{r\\in\\{x, y, z\\}} A_{ij}\\hat{S}_{r}^{(i)}\\hat{I}_{r}^{(ij)}\n",
    "$$"
   ]
  },
  {
   "cell_type": "code",
   "execution_count": 9,
   "id": "7d6a0cc4-3412-4623-ac70-9115b65e0309",
   "metadata": {},
   "outputs": [],
   "source": [
    "hyperfine = SumOfProducts()\n",
    "\n",
    "xyz = \"xyz\"\n",
    "\n",
    "for i in range(len(sim.radicals)):\n",
    "    for j in range(len(sim.molecules[i].nuclei)):\n",
    "        for k, Sr_op in enumerate(Sr_ops):\n",
    "            for l, Ir_op in enumerate(Ir_ops):\n",
    "                if A[(i, j)][k, l] == 0.0:\n",
    "                    continue\n",
    "                Asym = Symbol(\n",
    "                    \"A^{\"\n",
    "                    + f\"{(i + 1, j + 1)}\"\n",
    "                    + \"}_{\"\n",
    "                    + f\"{xyz[k]}\"\n",
    "                    + f\"{xyz[l]}\"\n",
    "                    + \"}\"\n",
    "                )\n",
    "                subs[Asym] = A[(i, j)][k, l].item() * SCALE\n",
    "                if k == l == 1:\n",
    "                    hyperfine -= Asym * g_ele_sym[i] * Sr_op[i] * Ir_op[(i, j)]\n",
    "                elif k != 1 and l != 1:\n",
    "                    hyperfine += Asym * g_ele_sym[i] * Sr_op[i] * Ir_op[(i, j)]\n",
    "                else:\n",
    "                    hyperfine += (\n",
    "                        1.0j * Asym * g_ele_sym[i] * Sr_op[i] * Ir_op[(i, j)]\n",
    "                    )"
   ]
  },
  {
   "cell_type": "code",
   "execution_count": 10,
   "id": "60929528-d031-4dd7-aec9-37f4196bd3bf",
   "metadata": {},
   "outputs": [
    {
     "data": {
      "text/latex": [
       "$\\displaystyle A^{(1, 1)}_{xx} \\gamma_e^{(1)} \\hat{I}_x^{(1, 1)} \\hat{S}_x^{(1)} + 1.0 i A^{(1, 1)}_{xy} \\gamma_e^{(1)} \\hat{I}_y^{(1, 1)} \\hat{S}_x^{(1)} + A^{(1, 1)}_{xz} \\gamma_e^{(1)} \\hat{I}_z^{(1, 1)} \\hat{S}_x^{(1)} + 1.0 i A^{(1, 1)}_{yx} \\gamma_e^{(1)} \\hat{I}_x^{(1, 1)} \\hat{S}_y^{(1)} - A^{(1, 1)}_{yy} \\gamma_e^{(1)} \\hat{I}_y^{(1, 1)} \\hat{S}_y^{(1)} + 1.0 i A^{(1, 1)}_{yz} \\gamma_e^{(1)} \\hat{I}_z^{(1, 1)} \\hat{S}_y^{(1)} + A^{(1, 1)}_{zx} \\gamma_e^{(1)} \\hat{I}_x^{(1, 1)} \\hat{S}_z^{(1)} + 1.0 i A^{(1, 1)}_{zy} \\gamma_e^{(1)} \\hat{I}_y^{(1, 1)} \\hat{S}_z^{(1)} + A^{(1, 1)}_{zz} \\gamma_e^{(1)} \\hat{I}_z^{(1, 1)} \\hat{S}_z^{(1)} + A^{(1, 10)}_{xx} \\gamma_e^{(1)} \\hat{I}_x^{(1, 10)} \\hat{S}_x^{(1)} + 1.0 i A^{(1, 10)}_{xy} \\gamma_e^{(1)} \\hat{I}_y^{(1, 10)} \\hat{S}_x^{(1)} + A^{(1, 10)}_{xz} \\gamma_e^{(1)} \\hat{I}_z^{(1, 10)} \\hat{S}_x^{(1)} + 1.0 i A^{(1, 10)}_{yx} \\gamma_e^{(1)} \\hat{I}_x^{(1, 10)} \\hat{S}_y^{(1)} - A^{(1, 10)}_{yy} \\gamma_e^{(1)} \\hat{I}_y^{(1, 10)} \\hat{S}_y^{(1)} + 1.0 i A^{(1, 10)}_{yz} \\gamma_e^{(1)} \\hat{I}_z^{(1, 10)} \\hat{S}_y^{(1)} + A^{(1, 10)}_{zx} \\gamma_e^{(1)} \\hat{I}_x^{(1, 10)} \\hat{S}_z^{(1)} + 1.0 i A^{(1, 10)}_{zy} \\gamma_e^{(1)} \\hat{I}_y^{(1, 10)} \\hat{S}_z^{(1)} + A^{(1, 10)}_{zz} \\gamma_e^{(1)} \\hat{I}_z^{(1, 10)} \\hat{S}_z^{(1)} + A^{(1, 11)}_{xx} \\gamma_e^{(1)} \\hat{I}_x^{(1, 11)} \\hat{S}_x^{(1)} + 1.0 i A^{(1, 11)}_{xy} \\gamma_e^{(1)} \\hat{I}_y^{(1, 11)} \\hat{S}_x^{(1)} + A^{(1, 11)}_{xz} \\gamma_e^{(1)} \\hat{I}_z^{(1, 11)} \\hat{S}_x^{(1)} + 1.0 i A^{(1, 11)}_{yx} \\gamma_e^{(1)} \\hat{I}_x^{(1, 11)} \\hat{S}_y^{(1)} - A^{(1, 11)}_{yy} \\gamma_e^{(1)} \\hat{I}_y^{(1, 11)} \\hat{S}_y^{(1)} + 1.0 i A^{(1, 11)}_{yz} \\gamma_e^{(1)} \\hat{I}_z^{(1, 11)} \\hat{S}_y^{(1)} + A^{(1, 11)}_{zx} \\gamma_e^{(1)} \\hat{I}_x^{(1, 11)} \\hat{S}_z^{(1)} + 1.0 i A^{(1, 11)}_{zy} \\gamma_e^{(1)} \\hat{I}_y^{(1, 11)} \\hat{S}_z^{(1)} + A^{(1, 11)}_{zz} \\gamma_e^{(1)} \\hat{I}_z^{(1, 11)} \\hat{S}_z^{(1)} + A^{(1, 12)}_{xx} \\gamma_e^{(1)} \\hat{I}_x^{(1, 12)} \\hat{S}_x^{(1)} + 1.0 i A^{(1, 12)}_{xy} \\gamma_e^{(1)} \\hat{I}_y^{(1, 12)} \\hat{S}_x^{(1)} + A^{(1, 12)}_{xz} \\gamma_e^{(1)} \\hat{I}_z^{(1, 12)} \\hat{S}_x^{(1)} + 1.0 i A^{(1, 12)}_{yx} \\gamma_e^{(1)} \\hat{I}_x^{(1, 12)} \\hat{S}_y^{(1)} - A^{(1, 12)}_{yy} \\gamma_e^{(1)} \\hat{I}_y^{(1, 12)} \\hat{S}_y^{(1)} + 1.0 i A^{(1, 12)}_{yz} \\gamma_e^{(1)} \\hat{I}_z^{(1, 12)} \\hat{S}_y^{(1)} + A^{(1, 12)}_{zx} \\gamma_e^{(1)} \\hat{I}_x^{(1, 12)} \\hat{S}_z^{(1)} + 1.0 i A^{(1, 12)}_{zy} \\gamma_e^{(1)} \\hat{I}_y^{(1, 12)} \\hat{S}_z^{(1)} + A^{(1, 12)}_{zz} \\gamma_e^{(1)} \\hat{I}_z^{(1, 12)} \\hat{S}_z^{(1)} + A^{(1, 13)}_{xx} \\gamma_e^{(1)} \\hat{I}_x^{(1, 13)} \\hat{S}_x^{(1)} + 1.0 i A^{(1, 13)}_{xy} \\gamma_e^{(1)} \\hat{I}_y^{(1, 13)} \\hat{S}_x^{(1)} + A^{(1, 13)}_{xz} \\gamma_e^{(1)} \\hat{I}_z^{(1, 13)} \\hat{S}_x^{(1)} + 1.0 i A^{(1, 13)}_{yx} \\gamma_e^{(1)} \\hat{I}_x^{(1, 13)} \\hat{S}_y^{(1)} - A^{(1, 13)}_{yy} \\gamma_e^{(1)} \\hat{I}_y^{(1, 13)} \\hat{S}_y^{(1)} + 1.0 i A^{(1, 13)}_{yz} \\gamma_e^{(1)} \\hat{I}_z^{(1, 13)} \\hat{S}_y^{(1)} + A^{(1, 13)}_{zx} \\gamma_e^{(1)} \\hat{I}_x^{(1, 13)} \\hat{S}_z^{(1)} + 1.0 i A^{(1, 13)}_{zy} \\gamma_e^{(1)} \\hat{I}_y^{(1, 13)} \\hat{S}_z^{(1)} + A^{(1, 13)}_{zz} \\gamma_e^{(1)} \\hat{I}_z^{(1, 13)} \\hat{S}_z^{(1)} + A^{(1, 14)}_{xx} \\gamma_e^{(1)} \\hat{I}_x^{(1, 14)} \\hat{S}_x^{(1)} + 1.0 i A^{(1, 14)}_{xy} \\gamma_e^{(1)} \\hat{I}_y^{(1, 14)} \\hat{S}_x^{(1)} + A^{(1, 14)}_{xz} \\gamma_e^{(1)} \\hat{I}_z^{(1, 14)} \\hat{S}_x^{(1)} + 1.0 i A^{(1, 14)}_{yx} \\gamma_e^{(1)} \\hat{I}_x^{(1, 14)} \\hat{S}_y^{(1)} - A^{(1, 14)}_{yy} \\gamma_e^{(1)} \\hat{I}_y^{(1, 14)} \\hat{S}_y^{(1)} + 1.0 i A^{(1, 14)}_{yz} \\gamma_e^{(1)} \\hat{I}_z^{(1, 14)} \\hat{S}_y^{(1)} + A^{(1, 14)}_{zx} \\gamma_e^{(1)} \\hat{I}_x^{(1, 14)} \\hat{S}_z^{(1)} + 1.0 i A^{(1, 14)}_{zy} \\gamma_e^{(1)} \\hat{I}_y^{(1, 14)} \\hat{S}_z^{(1)} + A^{(1, 14)}_{zz} \\gamma_e^{(1)} \\hat{I}_z^{(1, 14)} \\hat{S}_z^{(1)} + A^{(1, 15)}_{xx} \\gamma_e^{(1)} \\hat{I}_x^{(1, 15)} \\hat{S}_x^{(1)} + 1.0 i A^{(1, 15)}_{xy} \\gamma_e^{(1)} \\hat{I}_y^{(1, 15)} \\hat{S}_x^{(1)} + A^{(1, 15)}_{xz} \\gamma_e^{(1)} \\hat{I}_z^{(1, 15)} \\hat{S}_x^{(1)} + 1.0 i A^{(1, 15)}_{yx} \\gamma_e^{(1)} \\hat{I}_x^{(1, 15)} \\hat{S}_y^{(1)} - A^{(1, 15)}_{yy} \\gamma_e^{(1)} \\hat{I}_y^{(1, 15)} \\hat{S}_y^{(1)} + 1.0 i A^{(1, 15)}_{yz} \\gamma_e^{(1)} \\hat{I}_z^{(1, 15)} \\hat{S}_y^{(1)} + A^{(1, 15)}_{zx} \\gamma_e^{(1)} \\hat{I}_x^{(1, 15)} \\hat{S}_z^{(1)} + 1.0 i A^{(1, 15)}_{zy} \\gamma_e^{(1)} \\hat{I}_y^{(1, 15)} \\hat{S}_z^{(1)} + A^{(1, 15)}_{zz} \\gamma_e^{(1)} \\hat{I}_z^{(1, 15)} \\hat{S}_z^{(1)} + A^{(1, 16)}_{xx} \\gamma_e^{(1)} \\hat{I}_x^{(1, 16)} \\hat{S}_x^{(1)} + 1.0 i A^{(1, 16)}_{xy} \\gamma_e^{(1)} \\hat{I}_y^{(1, 16)} \\hat{S}_x^{(1)} + A^{(1, 16)}_{xz} \\gamma_e^{(1)} \\hat{I}_z^{(1, 16)} \\hat{S}_x^{(1)} + 1.0 i A^{(1, 16)}_{yx} \\gamma_e^{(1)} \\hat{I}_x^{(1, 16)} \\hat{S}_y^{(1)} - A^{(1, 16)}_{yy} \\gamma_e^{(1)} \\hat{I}_y^{(1, 16)} \\hat{S}_y^{(1)} + 1.0 i A^{(1, 16)}_{yz} \\gamma_e^{(1)} \\hat{I}_z^{(1, 16)} \\hat{S}_y^{(1)} + A^{(1, 16)}_{zx} \\gamma_e^{(1)} \\hat{I}_x^{(1, 16)} \\hat{S}_z^{(1)} + 1.0 i A^{(1, 16)}_{zy} \\gamma_e^{(1)} \\hat{I}_y^{(1, 16)} \\hat{S}_z^{(1)} + A^{(1, 16)}_{zz} \\gamma_e^{(1)} \\hat{I}_z^{(1, 16)} \\hat{S}_z^{(1)} + A^{(1, 2)}_{xx} \\gamma_e^{(1)} \\hat{I}_x^{(1, 2)} \\hat{S}_x^{(1)} + 1.0 i A^{(1, 2)}_{xy} \\gamma_e^{(1)} \\hat{I}_y^{(1, 2)} \\hat{S}_x^{(1)} + A^{(1, 2)}_{xz} \\gamma_e^{(1)} \\hat{I}_z^{(1, 2)} \\hat{S}_x^{(1)} + 1.0 i A^{(1, 2)}_{yx} \\gamma_e^{(1)} \\hat{I}_x^{(1, 2)} \\hat{S}_y^{(1)} - A^{(1, 2)}_{yy} \\gamma_e^{(1)} \\hat{I}_y^{(1, 2)} \\hat{S}_y^{(1)} + 1.0 i A^{(1, 2)}_{yz} \\gamma_e^{(1)} \\hat{I}_z^{(1, 2)} \\hat{S}_y^{(1)} + A^{(1, 2)}_{zx} \\gamma_e^{(1)} \\hat{I}_x^{(1, 2)} \\hat{S}_z^{(1)} + 1.0 i A^{(1, 2)}_{zy} \\gamma_e^{(1)} \\hat{I}_y^{(1, 2)} \\hat{S}_z^{(1)} + A^{(1, 2)}_{zz} \\gamma_e^{(1)} \\hat{I}_z^{(1, 2)} \\hat{S}_z^{(1)} + A^{(1, 3)}_{xx} \\gamma_e^{(1)} \\hat{I}_x^{(1, 3)} \\hat{S}_x^{(1)} + 1.0 i A^{(1, 3)}_{xy} \\gamma_e^{(1)} \\hat{I}_y^{(1, 3)} \\hat{S}_x^{(1)} + A^{(1, 3)}_{xz} \\gamma_e^{(1)} \\hat{I}_z^{(1, 3)} \\hat{S}_x^{(1)} + 1.0 i A^{(1, 3)}_{yx} \\gamma_e^{(1)} \\hat{I}_x^{(1, 3)} \\hat{S}_y^{(1)} - A^{(1, 3)}_{yy} \\gamma_e^{(1)} \\hat{I}_y^{(1, 3)} \\hat{S}_y^{(1)} + 1.0 i A^{(1, 3)}_{yz} \\gamma_e^{(1)} \\hat{I}_z^{(1, 3)} \\hat{S}_y^{(1)} + A^{(1, 3)}_{zx} \\gamma_e^{(1)} \\hat{I}_x^{(1, 3)} \\hat{S}_z^{(1)} + 1.0 i A^{(1, 3)}_{zy} \\gamma_e^{(1)} \\hat{I}_y^{(1, 3)} \\hat{S}_z^{(1)} + A^{(1, 3)}_{zz} \\gamma_e^{(1)} \\hat{I}_z^{(1, 3)} \\hat{S}_z^{(1)} + A^{(1, 4)}_{xx} \\gamma_e^{(1)} \\hat{I}_x^{(1, 4)} \\hat{S}_x^{(1)} + 1.0 i A^{(1, 4)}_{xy} \\gamma_e^{(1)} \\hat{I}_y^{(1, 4)} \\hat{S}_x^{(1)} + A^{(1, 4)}_{xz} \\gamma_e^{(1)} \\hat{I}_z^{(1, 4)} \\hat{S}_x^{(1)} + 1.0 i A^{(1, 4)}_{yx} \\gamma_e^{(1)} \\hat{I}_x^{(1, 4)} \\hat{S}_y^{(1)} - A^{(1, 4)}_{yy} \\gamma_e^{(1)} \\hat{I}_y^{(1, 4)} \\hat{S}_y^{(1)} + 1.0 i A^{(1, 4)}_{yz} \\gamma_e^{(1)} \\hat{I}_z^{(1, 4)} \\hat{S}_y^{(1)} + A^{(1, 4)}_{zx} \\gamma_e^{(1)} \\hat{I}_x^{(1, 4)} \\hat{S}_z^{(1)} + 1.0 i A^{(1, 4)}_{zy} \\gamma_e^{(1)} \\hat{I}_y^{(1, 4)} \\hat{S}_z^{(1)} + A^{(1, 4)}_{zz} \\gamma_e^{(1)} \\hat{I}_z^{(1, 4)} \\hat{S}_z^{(1)} + A^{(1, 5)}_{xx} \\gamma_e^{(1)} \\hat{I}_x^{(1, 5)} \\hat{S}_x^{(1)} + 1.0 i A^{(1, 5)}_{xy} \\gamma_e^{(1)} \\hat{I}_y^{(1, 5)} \\hat{S}_x^{(1)} + A^{(1, 5)}_{xz} \\gamma_e^{(1)} \\hat{I}_z^{(1, 5)} \\hat{S}_x^{(1)} + 1.0 i A^{(1, 5)}_{yx} \\gamma_e^{(1)} \\hat{I}_x^{(1, 5)} \\hat{S}_y^{(1)} - A^{(1, 5)}_{yy} \\gamma_e^{(1)} \\hat{I}_y^{(1, 5)} \\hat{S}_y^{(1)} + 1.0 i A^{(1, 5)}_{yz} \\gamma_e^{(1)} \\hat{I}_z^{(1, 5)} \\hat{S}_y^{(1)} + A^{(1, 5)}_{zx} \\gamma_e^{(1)} \\hat{I}_x^{(1, 5)} \\hat{S}_z^{(1)} + 1.0 i A^{(1, 5)}_{zy} \\gamma_e^{(1)} \\hat{I}_y^{(1, 5)} \\hat{S}_z^{(1)} + A^{(1, 5)}_{zz} \\gamma_e^{(1)} \\hat{I}_z^{(1, 5)} \\hat{S}_z^{(1)} + A^{(1, 6)}_{xx} \\gamma_e^{(1)} \\hat{I}_x^{(1, 6)} \\hat{S}_x^{(1)} + 1.0 i A^{(1, 6)}_{xy} \\gamma_e^{(1)} \\hat{I}_y^{(1, 6)} \\hat{S}_x^{(1)} + A^{(1, 6)}_{xz} \\gamma_e^{(1)} \\hat{I}_z^{(1, 6)} \\hat{S}_x^{(1)} + 1.0 i A^{(1, 6)}_{yx} \\gamma_e^{(1)} \\hat{I}_x^{(1, 6)} \\hat{S}_y^{(1)} - A^{(1, 6)}_{yy} \\gamma_e^{(1)} \\hat{I}_y^{(1, 6)} \\hat{S}_y^{(1)} + 1.0 i A^{(1, 6)}_{yz} \\gamma_e^{(1)} \\hat{I}_z^{(1, 6)} \\hat{S}_y^{(1)} + A^{(1, 6)}_{zx} \\gamma_e^{(1)} \\hat{I}_x^{(1, 6)} \\hat{S}_z^{(1)} + 1.0 i A^{(1, 6)}_{zy} \\gamma_e^{(1)} \\hat{I}_y^{(1, 6)} \\hat{S}_z^{(1)} + A^{(1, 6)}_{zz} \\gamma_e^{(1)} \\hat{I}_z^{(1, 6)} \\hat{S}_z^{(1)} + A^{(1, 7)}_{xx} \\gamma_e^{(1)} \\hat{I}_x^{(1, 7)} \\hat{S}_x^{(1)} + 1.0 i A^{(1, 7)}_{xy} \\gamma_e^{(1)} \\hat{I}_y^{(1, 7)} \\hat{S}_x^{(1)} + A^{(1, 7)}_{xz} \\gamma_e^{(1)} \\hat{I}_z^{(1, 7)} \\hat{S}_x^{(1)} + 1.0 i A^{(1, 7)}_{yx} \\gamma_e^{(1)} \\hat{I}_x^{(1, 7)} \\hat{S}_y^{(1)} - A^{(1, 7)}_{yy} \\gamma_e^{(1)} \\hat{I}_y^{(1, 7)} \\hat{S}_y^{(1)} + 1.0 i A^{(1, 7)}_{yz} \\gamma_e^{(1)} \\hat{I}_z^{(1, 7)} \\hat{S}_y^{(1)} + A^{(1, 7)}_{zx} \\gamma_e^{(1)} \\hat{I}_x^{(1, 7)} \\hat{S}_z^{(1)} + 1.0 i A^{(1, 7)}_{zy} \\gamma_e^{(1)} \\hat{I}_y^{(1, 7)} \\hat{S}_z^{(1)} + A^{(1, 7)}_{zz} \\gamma_e^{(1)} \\hat{I}_z^{(1, 7)} \\hat{S}_z^{(1)} + A^{(1, 8)}_{xx} \\gamma_e^{(1)} \\hat{I}_x^{(1, 8)} \\hat{S}_x^{(1)} + 1.0 i A^{(1, 8)}_{xy} \\gamma_e^{(1)} \\hat{I}_y^{(1, 8)} \\hat{S}_x^{(1)} + A^{(1, 8)}_{xz} \\gamma_e^{(1)} \\hat{I}_z^{(1, 8)} \\hat{S}_x^{(1)} + 1.0 i A^{(1, 8)}_{yx} \\gamma_e^{(1)} \\hat{I}_x^{(1, 8)} \\hat{S}_y^{(1)} - A^{(1, 8)}_{yy} \\gamma_e^{(1)} \\hat{I}_y^{(1, 8)} \\hat{S}_y^{(1)} + 1.0 i A^{(1, 8)}_{yz} \\gamma_e^{(1)} \\hat{I}_z^{(1, 8)} \\hat{S}_y^{(1)} + A^{(1, 8)}_{zx} \\gamma_e^{(1)} \\hat{I}_x^{(1, 8)} \\hat{S}_z^{(1)} + 1.0 i A^{(1, 8)}_{zy} \\gamma_e^{(1)} \\hat{I}_y^{(1, 8)} \\hat{S}_z^{(1)} + A^{(1, 8)}_{zz} \\gamma_e^{(1)} \\hat{I}_z^{(1, 8)} \\hat{S}_z^{(1)} + A^{(1, 9)}_{xx} \\gamma_e^{(1)} \\hat{I}_x^{(1, 9)} \\hat{S}_x^{(1)} + 1.0 i A^{(1, 9)}_{xy} \\gamma_e^{(1)} \\hat{I}_y^{(1, 9)} \\hat{S}_x^{(1)} + A^{(1, 9)}_{xz} \\gamma_e^{(1)} \\hat{I}_z^{(1, 9)} \\hat{S}_x^{(1)} + 1.0 i A^{(1, 9)}_{yx} \\gamma_e^{(1)} \\hat{I}_x^{(1, 9)} \\hat{S}_y^{(1)} - A^{(1, 9)}_{yy} \\gamma_e^{(1)} \\hat{I}_y^{(1, 9)} \\hat{S}_y^{(1)} + 1.0 i A^{(1, 9)}_{yz} \\gamma_e^{(1)} \\hat{I}_z^{(1, 9)} \\hat{S}_y^{(1)} + A^{(1, 9)}_{zx} \\gamma_e^{(1)} \\hat{I}_x^{(1, 9)} \\hat{S}_z^{(1)} + 1.0 i A^{(1, 9)}_{zy} \\gamma_e^{(1)} \\hat{I}_y^{(1, 9)} \\hat{S}_z^{(1)} + A^{(1, 9)}_{zz} \\gamma_e^{(1)} \\hat{I}_z^{(1, 9)} \\hat{S}_z^{(1)} + A^{(2, 1)}_{xx} \\gamma_e^{(2)} \\hat{S}_x^{(2)} \\hat{I}_x^{(2, 1)} + 1.0 i A^{(2, 1)}_{xy} \\gamma_e^{(2)} \\hat{S}_x^{(2)} \\hat{I}_y^{(2, 1)} + A^{(2, 1)}_{xz} \\gamma_e^{(2)} \\hat{S}_x^{(2)} \\hat{I}_z^{(2, 1)} + 1.0 i A^{(2, 1)}_{yx} \\gamma_e^{(2)} \\hat{S}_y^{(2)} \\hat{I}_x^{(2, 1)} - A^{(2, 1)}_{yy} \\gamma_e^{(2)} \\hat{S}_y^{(2)} \\hat{I}_y^{(2, 1)} + 1.0 i A^{(2, 1)}_{yz} \\gamma_e^{(2)} \\hat{S}_y^{(2)} \\hat{I}_z^{(2, 1)} + A^{(2, 1)}_{zx} \\gamma_e^{(2)} \\hat{S}_z^{(2)} \\hat{I}_x^{(2, 1)} + 1.0 i A^{(2, 1)}_{zy} \\gamma_e^{(2)} \\hat{S}_z^{(2)} \\hat{I}_y^{(2, 1)} + A^{(2, 1)}_{zz} \\gamma_e^{(2)} \\hat{S}_z^{(2)} \\hat{I}_z^{(2, 1)} + A^{(2, 10)}_{xx} \\gamma_e^{(2)} \\hat{S}_x^{(2)} \\hat{I}_x^{(2, 10)} + 1.0 i A^{(2, 10)}_{xy} \\gamma_e^{(2)} \\hat{S}_x^{(2)} \\hat{I}_y^{(2, 10)} + A^{(2, 10)}_{xz} \\gamma_e^{(2)} \\hat{S}_x^{(2)} \\hat{I}_z^{(2, 10)} + 1.0 i A^{(2, 10)}_{yx} \\gamma_e^{(2)} \\hat{S}_y^{(2)} \\hat{I}_x^{(2, 10)} - A^{(2, 10)}_{yy} \\gamma_e^{(2)} \\hat{S}_y^{(2)} \\hat{I}_y^{(2, 10)} + 1.0 i A^{(2, 10)}_{yz} \\gamma_e^{(2)} \\hat{S}_y^{(2)} \\hat{I}_z^{(2, 10)} + A^{(2, 10)}_{zx} \\gamma_e^{(2)} \\hat{S}_z^{(2)} \\hat{I}_x^{(2, 10)} + 1.0 i A^{(2, 10)}_{zy} \\gamma_e^{(2)} \\hat{S}_z^{(2)} \\hat{I}_y^{(2, 10)} + A^{(2, 10)}_{zz} \\gamma_e^{(2)} \\hat{S}_z^{(2)} \\hat{I}_z^{(2, 10)} + A^{(2, 11)}_{xx} \\gamma_e^{(2)} \\hat{S}_x^{(2)} \\hat{I}_x^{(2, 11)} + 1.0 i A^{(2, 11)}_{xy} \\gamma_e^{(2)} \\hat{S}_x^{(2)} \\hat{I}_y^{(2, 11)} + A^{(2, 11)}_{xz} \\gamma_e^{(2)} \\hat{S}_x^{(2)} \\hat{I}_z^{(2, 11)} + 1.0 i A^{(2, 11)}_{yx} \\gamma_e^{(2)} \\hat{S}_y^{(2)} \\hat{I}_x^{(2, 11)} - A^{(2, 11)}_{yy} \\gamma_e^{(2)} \\hat{S}_y^{(2)} \\hat{I}_y^{(2, 11)} + 1.0 i A^{(2, 11)}_{yz} \\gamma_e^{(2)} \\hat{S}_y^{(2)} \\hat{I}_z^{(2, 11)} + A^{(2, 11)}_{zx} \\gamma_e^{(2)} \\hat{S}_z^{(2)} \\hat{I}_x^{(2, 11)} + 1.0 i A^{(2, 11)}_{zy} \\gamma_e^{(2)} \\hat{S}_z^{(2)} \\hat{I}_y^{(2, 11)} + A^{(2, 11)}_{zz} \\gamma_e^{(2)} \\hat{S}_z^{(2)} \\hat{I}_z^{(2, 11)} + A^{(2, 2)}_{xx} \\gamma_e^{(2)} \\hat{S}_x^{(2)} \\hat{I}_x^{(2, 2)} + 1.0 i A^{(2, 2)}_{xy} \\gamma_e^{(2)} \\hat{S}_x^{(2)} \\hat{I}_y^{(2, 2)} + A^{(2, 2)}_{xz} \\gamma_e^{(2)} \\hat{S}_x^{(2)} \\hat{I}_z^{(2, 2)} + 1.0 i A^{(2, 2)}_{yx} \\gamma_e^{(2)} \\hat{S}_y^{(2)} \\hat{I}_x^{(2, 2)} - A^{(2, 2)}_{yy} \\gamma_e^{(2)} \\hat{S}_y^{(2)} \\hat{I}_y^{(2, 2)} + 1.0 i A^{(2, 2)}_{yz} \\gamma_e^{(2)} \\hat{S}_y^{(2)} \\hat{I}_z^{(2, 2)} + A^{(2, 2)}_{zx} \\gamma_e^{(2)} \\hat{S}_z^{(2)} \\hat{I}_x^{(2, 2)} + 1.0 i A^{(2, 2)}_{zy} \\gamma_e^{(2)} \\hat{S}_z^{(2)} \\hat{I}_y^{(2, 2)} + A^{(2, 2)}_{zz} \\gamma_e^{(2)} \\hat{S}_z^{(2)} \\hat{I}_z^{(2, 2)} + A^{(2, 3)}_{xx} \\gamma_e^{(2)} \\hat{S}_x^{(2)} \\hat{I}_x^{(2, 3)} + 1.0 i A^{(2, 3)}_{xy} \\gamma_e^{(2)} \\hat{S}_x^{(2)} \\hat{I}_y^{(2, 3)} + A^{(2, 3)}_{xz} \\gamma_e^{(2)} \\hat{S}_x^{(2)} \\hat{I}_z^{(2, 3)} + 1.0 i A^{(2, 3)}_{yx} \\gamma_e^{(2)} \\hat{S}_y^{(2)} \\hat{I}_x^{(2, 3)} - A^{(2, 3)}_{yy} \\gamma_e^{(2)} \\hat{S}_y^{(2)} \\hat{I}_y^{(2, 3)} + 1.0 i A^{(2, 3)}_{yz} \\gamma_e^{(2)} \\hat{S}_y^{(2)} \\hat{I}_z^{(2, 3)} + A^{(2, 3)}_{zx} \\gamma_e^{(2)} \\hat{S}_z^{(2)} \\hat{I}_x^{(2, 3)} + 1.0 i A^{(2, 3)}_{zy} \\gamma_e^{(2)} \\hat{S}_z^{(2)} \\hat{I}_y^{(2, 3)} + A^{(2, 3)}_{zz} \\gamma_e^{(2)} \\hat{S}_z^{(2)} \\hat{I}_z^{(2, 3)} + A^{(2, 4)}_{xx} \\gamma_e^{(2)} \\hat{S}_x^{(2)} \\hat{I}_x^{(2, 4)} + 1.0 i A^{(2, 4)}_{xy} \\gamma_e^{(2)} \\hat{S}_x^{(2)} \\hat{I}_y^{(2, 4)} + A^{(2, 4)}_{xz} \\gamma_e^{(2)} \\hat{S}_x^{(2)} \\hat{I}_z^{(2, 4)} + 1.0 i A^{(2, 4)}_{yx} \\gamma_e^{(2)} \\hat{S}_y^{(2)} \\hat{I}_x^{(2, 4)} - A^{(2, 4)}_{yy} \\gamma_e^{(2)} \\hat{S}_y^{(2)} \\hat{I}_y^{(2, 4)} + 1.0 i A^{(2, 4)}_{yz} \\gamma_e^{(2)} \\hat{S}_y^{(2)} \\hat{I}_z^{(2, 4)} + A^{(2, 4)}_{zx} \\gamma_e^{(2)} \\hat{S}_z^{(2)} \\hat{I}_x^{(2, 4)} + 1.0 i A^{(2, 4)}_{zy} \\gamma_e^{(2)} \\hat{S}_z^{(2)} \\hat{I}_y^{(2, 4)} + A^{(2, 4)}_{zz} \\gamma_e^{(2)} \\hat{S}_z^{(2)} \\hat{I}_z^{(2, 4)} + A^{(2, 5)}_{xx} \\gamma_e^{(2)} \\hat{S}_x^{(2)} \\hat{I}_x^{(2, 5)} + 1.0 i A^{(2, 5)}_{xy} \\gamma_e^{(2)} \\hat{S}_x^{(2)} \\hat{I}_y^{(2, 5)} + A^{(2, 5)}_{xz} \\gamma_e^{(2)} \\hat{S}_x^{(2)} \\hat{I}_z^{(2, 5)} + 1.0 i A^{(2, 5)}_{yx} \\gamma_e^{(2)} \\hat{S}_y^{(2)} \\hat{I}_x^{(2, 5)} - A^{(2, 5)}_{yy} \\gamma_e^{(2)} \\hat{S}_y^{(2)} \\hat{I}_y^{(2, 5)} + 1.0 i A^{(2, 5)}_{yz} \\gamma_e^{(2)} \\hat{S}_y^{(2)} \\hat{I}_z^{(2, 5)} + A^{(2, 5)}_{zx} \\gamma_e^{(2)} \\hat{S}_z^{(2)} \\hat{I}_x^{(2, 5)} + 1.0 i A^{(2, 5)}_{zy} \\gamma_e^{(2)} \\hat{S}_z^{(2)} \\hat{I}_y^{(2, 5)} + A^{(2, 5)}_{zz} \\gamma_e^{(2)} \\hat{S}_z^{(2)} \\hat{I}_z^{(2, 5)} + A^{(2, 6)}_{xx} \\gamma_e^{(2)} \\hat{S}_x^{(2)} \\hat{I}_x^{(2, 6)} + 1.0 i A^{(2, 6)}_{xy} \\gamma_e^{(2)} \\hat{S}_x^{(2)} \\hat{I}_y^{(2, 6)} + A^{(2, 6)}_{xz} \\gamma_e^{(2)} \\hat{S}_x^{(2)} \\hat{I}_z^{(2, 6)} + 1.0 i A^{(2, 6)}_{yx} \\gamma_e^{(2)} \\hat{S}_y^{(2)} \\hat{I}_x^{(2, 6)} - A^{(2, 6)}_{yy} \\gamma_e^{(2)} \\hat{S}_y^{(2)} \\hat{I}_y^{(2, 6)} + 1.0 i A^{(2, 6)}_{yz} \\gamma_e^{(2)} \\hat{S}_y^{(2)} \\hat{I}_z^{(2, 6)} + A^{(2, 6)}_{zx} \\gamma_e^{(2)} \\hat{S}_z^{(2)} \\hat{I}_x^{(2, 6)} + 1.0 i A^{(2, 6)}_{zy} \\gamma_e^{(2)} \\hat{S}_z^{(2)} \\hat{I}_y^{(2, 6)} + A^{(2, 6)}_{zz} \\gamma_e^{(2)} \\hat{S}_z^{(2)} \\hat{I}_z^{(2, 6)} + A^{(2, 7)}_{xx} \\gamma_e^{(2)} \\hat{S}_x^{(2)} \\hat{I}_x^{(2, 7)} + 1.0 i A^{(2, 7)}_{xy} \\gamma_e^{(2)} \\hat{S}_x^{(2)} \\hat{I}_y^{(2, 7)} + A^{(2, 7)}_{xz} \\gamma_e^{(2)} \\hat{S}_x^{(2)} \\hat{I}_z^{(2, 7)} + 1.0 i A^{(2, 7)}_{yx} \\gamma_e^{(2)} \\hat{S}_y^{(2)} \\hat{I}_x^{(2, 7)} - A^{(2, 7)}_{yy} \\gamma_e^{(2)} \\hat{S}_y^{(2)} \\hat{I}_y^{(2, 7)} + 1.0 i A^{(2, 7)}_{yz} \\gamma_e^{(2)} \\hat{S}_y^{(2)} \\hat{I}_z^{(2, 7)} + A^{(2, 7)}_{zx} \\gamma_e^{(2)} \\hat{S}_z^{(2)} \\hat{I}_x^{(2, 7)} + 1.0 i A^{(2, 7)}_{zy} \\gamma_e^{(2)} \\hat{S}_z^{(2)} \\hat{I}_y^{(2, 7)} + A^{(2, 7)}_{zz} \\gamma_e^{(2)} \\hat{S}_z^{(2)} \\hat{I}_z^{(2, 7)} + A^{(2, 8)}_{xx} \\gamma_e^{(2)} \\hat{S}_x^{(2)} \\hat{I}_x^{(2, 8)} + 1.0 i A^{(2, 8)}_{xy} \\gamma_e^{(2)} \\hat{S}_x^{(2)} \\hat{I}_y^{(2, 8)} + A^{(2, 8)}_{xz} \\gamma_e^{(2)} \\hat{S}_x^{(2)} \\hat{I}_z^{(2, 8)} + 1.0 i A^{(2, 8)}_{yx} \\gamma_e^{(2)} \\hat{S}_y^{(2)} \\hat{I}_x^{(2, 8)} - A^{(2, 8)}_{yy} \\gamma_e^{(2)} \\hat{S}_y^{(2)} \\hat{I}_y^{(2, 8)} + 1.0 i A^{(2, 8)}_{yz} \\gamma_e^{(2)} \\hat{S}_y^{(2)} \\hat{I}_z^{(2, 8)} + A^{(2, 8)}_{zx} \\gamma_e^{(2)} \\hat{S}_z^{(2)} \\hat{I}_x^{(2, 8)} + 1.0 i A^{(2, 8)}_{zy} \\gamma_e^{(2)} \\hat{S}_z^{(2)} \\hat{I}_y^{(2, 8)} + A^{(2, 8)}_{zz} \\gamma_e^{(2)} \\hat{S}_z^{(2)} \\hat{I}_z^{(2, 8)} + A^{(2, 9)}_{xx} \\gamma_e^{(2)} \\hat{S}_x^{(2)} \\hat{I}_x^{(2, 9)} + 1.0 i A^{(2, 9)}_{xy} \\gamma_e^{(2)} \\hat{S}_x^{(2)} \\hat{I}_y^{(2, 9)} + A^{(2, 9)}_{xz} \\gamma_e^{(2)} \\hat{S}_x^{(2)} \\hat{I}_z^{(2, 9)} + 1.0 i A^{(2, 9)}_{yx} \\gamma_e^{(2)} \\hat{S}_y^{(2)} \\hat{I}_x^{(2, 9)} - A^{(2, 9)}_{yy} \\gamma_e^{(2)} \\hat{S}_y^{(2)} \\hat{I}_y^{(2, 9)} + 1.0 i A^{(2, 9)}_{yz} \\gamma_e^{(2)} \\hat{S}_y^{(2)} \\hat{I}_z^{(2, 9)} + A^{(2, 9)}_{zx} \\gamma_e^{(2)} \\hat{S}_z^{(2)} \\hat{I}_x^{(2, 9)} + 1.0 i A^{(2, 9)}_{zy} \\gamma_e^{(2)} \\hat{S}_z^{(2)} \\hat{I}_y^{(2, 9)} + A^{(2, 9)}_{zz} \\gamma_e^{(2)} \\hat{S}_z^{(2)} \\hat{I}_z^{(2, 9)}$"
      ],
      "text/plain": [
       "A^{(1, 1)}_{xx}*\\gamma_e^{(1)}*\\hat{I}_x^{(1, 1)}*\\hat{S}_x^{(1)} + 1.0*I*A^{(1, 1)}_{xy}*\\gamma_e^{(1)}*\\hat{I}_y^{(1, 1)}*\\hat{S}_x^{(1)} + A^{(1, 1)}_{xz}*\\gamma_e^{(1)}*\\hat{I}_z^{(1, 1)}*\\hat{S}_x^{(1)} + 1.0*I*A^{(1, 1)}_{yx}*\\gamma_e^{(1)}*\\hat{I}_x^{(1, 1)}*\\hat{S}_y^{(1)} - A^{(1, 1)}_{yy}*\\gamma_e^{(1)}*\\hat{I}_y^{(1, 1)}*\\hat{S}_y^{(1)} + 1.0*I*A^{(1, 1)}_{yz}*\\gamma_e^{(1)}*\\hat{I}_z^{(1, 1)}*\\hat{S}_y^{(1)} + A^{(1, 1)}_{zx}*\\gamma_e^{(1)}*\\hat{I}_x^{(1, 1)}*\\hat{S}_z^{(1)} + 1.0*I*A^{(1, 1)}_{zy}*\\gamma_e^{(1)}*\\hat{I}_y^{(1, 1)}*\\hat{S}_z^{(1)} + A^{(1, 1)}_{zz}*\\gamma_e^{(1)}*\\hat{I}_z^{(1, 1)}*\\hat{S}_z^{(1)} + A^{(1, 10)}_{xx}*\\gamma_e^{(1)}*\\hat{I}_x^{(1, 10)}*\\hat{S}_x^{(1)} + 1.0*I*A^{(1, 10)}_{xy}*\\gamma_e^{(1)}*\\hat{I}_y^{(1, 10)}*\\hat{S}_x^{(1)} + A^{(1, 10)}_{xz}*\\gamma_e^{(1)}*\\hat{I}_z^{(1, 10)}*\\hat{S}_x^{(1)} + 1.0*I*A^{(1, 10)}_{yx}*\\gamma_e^{(1)}*\\hat{I}_x^{(1, 10)}*\\hat{S}_y^{(1)} - A^{(1, 10)}_{yy}*\\gamma_e^{(1)}*\\hat{I}_y^{(1, 10)}*\\hat{S}_y^{(1)} + 1.0*I*A^{(1, 10)}_{yz}*\\gamma_e^{(1)}*\\hat{I}_z^{(1, 10)}*\\hat{S}_y^{(1)} + A^{(1, 10)}_{zx}*\\gamma_e^{(1)}*\\hat{I}_x^{(1, 10)}*\\hat{S}_z^{(1)} + 1.0*I*A^{(1, 10)}_{zy}*\\gamma_e^{(1)}*\\hat{I}_y^{(1, 10)}*\\hat{S}_z^{(1)} + A^{(1, 10)}_{zz}*\\gamma_e^{(1)}*\\hat{I}_z^{(1, 10)}*\\hat{S}_z^{(1)} + A^{(1, 11)}_{xx}*\\gamma_e^{(1)}*\\hat{I}_x^{(1, 11)}*\\hat{S}_x^{(1)} + 1.0*I*A^{(1, 11)}_{xy}*\\gamma_e^{(1)}*\\hat{I}_y^{(1, 11)}*\\hat{S}_x^{(1)} + A^{(1, 11)}_{xz}*\\gamma_e^{(1)}*\\hat{I}_z^{(1, 11)}*\\hat{S}_x^{(1)} + 1.0*I*A^{(1, 11)}_{yx}*\\gamma_e^{(1)}*\\hat{I}_x^{(1, 11)}*\\hat{S}_y^{(1)} - A^{(1, 11)}_{yy}*\\gamma_e^{(1)}*\\hat{I}_y^{(1, 11)}*\\hat{S}_y^{(1)} + 1.0*I*A^{(1, 11)}_{yz}*\\gamma_e^{(1)}*\\hat{I}_z^{(1, 11)}*\\hat{S}_y^{(1)} + A^{(1, 11)}_{zx}*\\gamma_e^{(1)}*\\hat{I}_x^{(1, 11)}*\\hat{S}_z^{(1)} + 1.0*I*A^{(1, 11)}_{zy}*\\gamma_e^{(1)}*\\hat{I}_y^{(1, 11)}*\\hat{S}_z^{(1)} + A^{(1, 11)}_{zz}*\\gamma_e^{(1)}*\\hat{I}_z^{(1, 11)}*\\hat{S}_z^{(1)} + A^{(1, 12)}_{xx}*\\gamma_e^{(1)}*\\hat{I}_x^{(1, 12)}*\\hat{S}_x^{(1)} + 1.0*I*A^{(1, 12)}_{xy}*\\gamma_e^{(1)}*\\hat{I}_y^{(1, 12)}*\\hat{S}_x^{(1)} + A^{(1, 12)}_{xz}*\\gamma_e^{(1)}*\\hat{I}_z^{(1, 12)}*\\hat{S}_x^{(1)} + 1.0*I*A^{(1, 12)}_{yx}*\\gamma_e^{(1)}*\\hat{I}_x^{(1, 12)}*\\hat{S}_y^{(1)} - A^{(1, 12)}_{yy}*\\gamma_e^{(1)}*\\hat{I}_y^{(1, 12)}*\\hat{S}_y^{(1)} + 1.0*I*A^{(1, 12)}_{yz}*\\gamma_e^{(1)}*\\hat{I}_z^{(1, 12)}*\\hat{S}_y^{(1)} + A^{(1, 12)}_{zx}*\\gamma_e^{(1)}*\\hat{I}_x^{(1, 12)}*\\hat{S}_z^{(1)} + 1.0*I*A^{(1, 12)}_{zy}*\\gamma_e^{(1)}*\\hat{I}_y^{(1, 12)}*\\hat{S}_z^{(1)} + A^{(1, 12)}_{zz}*\\gamma_e^{(1)}*\\hat{I}_z^{(1, 12)}*\\hat{S}_z^{(1)} + A^{(1, 13)}_{xx}*\\gamma_e^{(1)}*\\hat{I}_x^{(1, 13)}*\\hat{S}_x^{(1)} + 1.0*I*A^{(1, 13)}_{xy}*\\gamma_e^{(1)}*\\hat{I}_y^{(1, 13)}*\\hat{S}_x^{(1)} + A^{(1, 13)}_{xz}*\\gamma_e^{(1)}*\\hat{I}_z^{(1, 13)}*\\hat{S}_x^{(1)} + 1.0*I*A^{(1, 13)}_{yx}*\\gamma_e^{(1)}*\\hat{I}_x^{(1, 13)}*\\hat{S}_y^{(1)} - A^{(1, 13)}_{yy}*\\gamma_e^{(1)}*\\hat{I}_y^{(1, 13)}*\\hat{S}_y^{(1)} + 1.0*I*A^{(1, 13)}_{yz}*\\gamma_e^{(1)}*\\hat{I}_z^{(1, 13)}*\\hat{S}_y^{(1)} + A^{(1, 13)}_{zx}*\\gamma_e^{(1)}*\\hat{I}_x^{(1, 13)}*\\hat{S}_z^{(1)} + 1.0*I*A^{(1, 13)}_{zy}*\\gamma_e^{(1)}*\\hat{I}_y^{(1, 13)}*\\hat{S}_z^{(1)} + A^{(1, 13)}_{zz}*\\gamma_e^{(1)}*\\hat{I}_z^{(1, 13)}*\\hat{S}_z^{(1)} + A^{(1, 14)}_{xx}*\\gamma_e^{(1)}*\\hat{I}_x^{(1, 14)}*\\hat{S}_x^{(1)} + 1.0*I*A^{(1, 14)}_{xy}*\\gamma_e^{(1)}*\\hat{I}_y^{(1, 14)}*\\hat{S}_x^{(1)} + A^{(1, 14)}_{xz}*\\gamma_e^{(1)}*\\hat{I}_z^{(1, 14)}*\\hat{S}_x^{(1)} + 1.0*I*A^{(1, 14)}_{yx}*\\gamma_e^{(1)}*\\hat{I}_x^{(1, 14)}*\\hat{S}_y^{(1)} - A^{(1, 14)}_{yy}*\\gamma_e^{(1)}*\\hat{I}_y^{(1, 14)}*\\hat{S}_y^{(1)} + 1.0*I*A^{(1, 14)}_{yz}*\\gamma_e^{(1)}*\\hat{I}_z^{(1, 14)}*\\hat{S}_y^{(1)} + A^{(1, 14)}_{zx}*\\gamma_e^{(1)}*\\hat{I}_x^{(1, 14)}*\\hat{S}_z^{(1)} + 1.0*I*A^{(1, 14)}_{zy}*\\gamma_e^{(1)}*\\hat{I}_y^{(1, 14)}*\\hat{S}_z^{(1)} + A^{(1, 14)}_{zz}*\\gamma_e^{(1)}*\\hat{I}_z^{(1, 14)}*\\hat{S}_z^{(1)} + A^{(1, 15)}_{xx}*\\gamma_e^{(1)}*\\hat{I}_x^{(1, 15)}*\\hat{S}_x^{(1)} + 1.0*I*A^{(1, 15)}_{xy}*\\gamma_e^{(1)}*\\hat{I}_y^{(1, 15)}*\\hat{S}_x^{(1)} + A^{(1, 15)}_{xz}*\\gamma_e^{(1)}*\\hat{I}_z^{(1, 15)}*\\hat{S}_x^{(1)} + 1.0*I*A^{(1, 15)}_{yx}*\\gamma_e^{(1)}*\\hat{I}_x^{(1, 15)}*\\hat{S}_y^{(1)} - A^{(1, 15)}_{yy}*\\gamma_e^{(1)}*\\hat{I}_y^{(1, 15)}*\\hat{S}_y^{(1)} + 1.0*I*A^{(1, 15)}_{yz}*\\gamma_e^{(1)}*\\hat{I}_z^{(1, 15)}*\\hat{S}_y^{(1)} + A^{(1, 15)}_{zx}*\\gamma_e^{(1)}*\\hat{I}_x^{(1, 15)}*\\hat{S}_z^{(1)} + 1.0*I*A^{(1, 15)}_{zy}*\\gamma_e^{(1)}*\\hat{I}_y^{(1, 15)}*\\hat{S}_z^{(1)} + A^{(1, 15)}_{zz}*\\gamma_e^{(1)}*\\hat{I}_z^{(1, 15)}*\\hat{S}_z^{(1)} + A^{(1, 16)}_{xx}*\\gamma_e^{(1)}*\\hat{I}_x^{(1, 16)}*\\hat{S}_x^{(1)} + 1.0*I*A^{(1, 16)}_{xy}*\\gamma_e^{(1)}*\\hat{I}_y^{(1, 16)}*\\hat{S}_x^{(1)} + A^{(1, 16)}_{xz}*\\gamma_e^{(1)}*\\hat{I}_z^{(1, 16)}*\\hat{S}_x^{(1)} + 1.0*I*A^{(1, 16)}_{yx}*\\gamma_e^{(1)}*\\hat{I}_x^{(1, 16)}*\\hat{S}_y^{(1)} - A^{(1, 16)}_{yy}*\\gamma_e^{(1)}*\\hat{I}_y^{(1, 16)}*\\hat{S}_y^{(1)} + 1.0*I*A^{(1, 16)}_{yz}*\\gamma_e^{(1)}*\\hat{I}_z^{(1, 16)}*\\hat{S}_y^{(1)} + A^{(1, 16)}_{zx}*\\gamma_e^{(1)}*\\hat{I}_x^{(1, 16)}*\\hat{S}_z^{(1)} + 1.0*I*A^{(1, 16)}_{zy}*\\gamma_e^{(1)}*\\hat{I}_y^{(1, 16)}*\\hat{S}_z^{(1)} + A^{(1, 16)}_{zz}*\\gamma_e^{(1)}*\\hat{I}_z^{(1, 16)}*\\hat{S}_z^{(1)} + A^{(1, 2)}_{xx}*\\gamma_e^{(1)}*\\hat{I}_x^{(1, 2)}*\\hat{S}_x^{(1)} + 1.0*I*A^{(1, 2)}_{xy}*\\gamma_e^{(1)}*\\hat{I}_y^{(1, 2)}*\\hat{S}_x^{(1)} + A^{(1, 2)}_{xz}*\\gamma_e^{(1)}*\\hat{I}_z^{(1, 2)}*\\hat{S}_x^{(1)} + 1.0*I*A^{(1, 2)}_{yx}*\\gamma_e^{(1)}*\\hat{I}_x^{(1, 2)}*\\hat{S}_y^{(1)} - A^{(1, 2)}_{yy}*\\gamma_e^{(1)}*\\hat{I}_y^{(1, 2)}*\\hat{S}_y^{(1)} + 1.0*I*A^{(1, 2)}_{yz}*\\gamma_e^{(1)}*\\hat{I}_z^{(1, 2)}*\\hat{S}_y^{(1)} + A^{(1, 2)}_{zx}*\\gamma_e^{(1)}*\\hat{I}_x^{(1, 2)}*\\hat{S}_z^{(1)} + 1.0*I*A^{(1, 2)}_{zy}*\\gamma_e^{(1)}*\\hat{I}_y^{(1, 2)}*\\hat{S}_z^{(1)} + A^{(1, 2)}_{zz}*\\gamma_e^{(1)}*\\hat{I}_z^{(1, 2)}*\\hat{S}_z^{(1)} + A^{(1, 3)}_{xx}*\\gamma_e^{(1)}*\\hat{I}_x^{(1, 3)}*\\hat{S}_x^{(1)} + 1.0*I*A^{(1, 3)}_{xy}*\\gamma_e^{(1)}*\\hat{I}_y^{(1, 3)}*\\hat{S}_x^{(1)} + A^{(1, 3)}_{xz}*\\gamma_e^{(1)}*\\hat{I}_z^{(1, 3)}*\\hat{S}_x^{(1)} + 1.0*I*A^{(1, 3)}_{yx}*\\gamma_e^{(1)}*\\hat{I}_x^{(1, 3)}*\\hat{S}_y^{(1)} - A^{(1, 3)}_{yy}*\\gamma_e^{(1)}*\\hat{I}_y^{(1, 3)}*\\hat{S}_y^{(1)} + 1.0*I*A^{(1, 3)}_{yz}*\\gamma_e^{(1)}*\\hat{I}_z^{(1, 3)}*\\hat{S}_y^{(1)} + A^{(1, 3)}_{zx}*\\gamma_e^{(1)}*\\hat{I}_x^{(1, 3)}*\\hat{S}_z^{(1)} + 1.0*I*A^{(1, 3)}_{zy}*\\gamma_e^{(1)}*\\hat{I}_y^{(1, 3)}*\\hat{S}_z^{(1)} + A^{(1, 3)}_{zz}*\\gamma_e^{(1)}*\\hat{I}_z^{(1, 3)}*\\hat{S}_z^{(1)} + A^{(1, 4)}_{xx}*\\gamma_e^{(1)}*\\hat{I}_x^{(1, 4)}*\\hat{S}_x^{(1)} + 1.0*I*A^{(1, 4)}_{xy}*\\gamma_e^{(1)}*\\hat{I}_y^{(1, 4)}*\\hat{S}_x^{(1)} + A^{(1, 4)}_{xz}*\\gamma_e^{(1)}*\\hat{I}_z^{(1, 4)}*\\hat{S}_x^{(1)} + 1.0*I*A^{(1, 4)}_{yx}*\\gamma_e^{(1)}*\\hat{I}_x^{(1, 4)}*\\hat{S}_y^{(1)} - A^{(1, 4)}_{yy}*\\gamma_e^{(1)}*\\hat{I}_y^{(1, 4)}*\\hat{S}_y^{(1)} + 1.0*I*A^{(1, 4)}_{yz}*\\gamma_e^{(1)}*\\hat{I}_z^{(1, 4)}*\\hat{S}_y^{(1)} + A^{(1, 4)}_{zx}*\\gamma_e^{(1)}*\\hat{I}_x^{(1, 4)}*\\hat{S}_z^{(1)} + 1.0*I*A^{(1, 4)}_{zy}*\\gamma_e^{(1)}*\\hat{I}_y^{(1, 4)}*\\hat{S}_z^{(1)} + A^{(1, 4)}_{zz}*\\gamma_e^{(1)}*\\hat{I}_z^{(1, 4)}*\\hat{S}_z^{(1)} + A^{(1, 5)}_{xx}*\\gamma_e^{(1)}*\\hat{I}_x^{(1, 5)}*\\hat{S}_x^{(1)} + 1.0*I*A^{(1, 5)}_{xy}*\\gamma_e^{(1)}*\\hat{I}_y^{(1, 5)}*\\hat{S}_x^{(1)} + A^{(1, 5)}_{xz}*\\gamma_e^{(1)}*\\hat{I}_z^{(1, 5)}*\\hat{S}_x^{(1)} + 1.0*I*A^{(1, 5)}_{yx}*\\gamma_e^{(1)}*\\hat{I}_x^{(1, 5)}*\\hat{S}_y^{(1)} - A^{(1, 5)}_{yy}*\\gamma_e^{(1)}*\\hat{I}_y^{(1, 5)}*\\hat{S}_y^{(1)} + 1.0*I*A^{(1, 5)}_{yz}*\\gamma_e^{(1)}*\\hat{I}_z^{(1, 5)}*\\hat{S}_y^{(1)} + A^{(1, 5)}_{zx}*\\gamma_e^{(1)}*\\hat{I}_x^{(1, 5)}*\\hat{S}_z^{(1)} + 1.0*I*A^{(1, 5)}_{zy}*\\gamma_e^{(1)}*\\hat{I}_y^{(1, 5)}*\\hat{S}_z^{(1)} + A^{(1, 5)}_{zz}*\\gamma_e^{(1)}*\\hat{I}_z^{(1, 5)}*\\hat{S}_z^{(1)} + A^{(1, 6)}_{xx}*\\gamma_e^{(1)}*\\hat{I}_x^{(1, 6)}*\\hat{S}_x^{(1)} + 1.0*I*A^{(1, 6)}_{xy}*\\gamma_e^{(1)}*\\hat{I}_y^{(1, 6)}*\\hat{S}_x^{(1)} + A^{(1, 6)}_{xz}*\\gamma_e^{(1)}*\\hat{I}_z^{(1, 6)}*\\hat{S}_x^{(1)} + 1.0*I*A^{(1, 6)}_{yx}*\\gamma_e^{(1)}*\\hat{I}_x^{(1, 6)}*\\hat{S}_y^{(1)} - A^{(1, 6)}_{yy}*\\gamma_e^{(1)}*\\hat{I}_y^{(1, 6)}*\\hat{S}_y^{(1)} + 1.0*I*A^{(1, 6)}_{yz}*\\gamma_e^{(1)}*\\hat{I}_z^{(1, 6)}*\\hat{S}_y^{(1)} + A^{(1, 6)}_{zx}*\\gamma_e^{(1)}*\\hat{I}_x^{(1, 6)}*\\hat{S}_z^{(1)} + 1.0*I*A^{(1, 6)}_{zy}*\\gamma_e^{(1)}*\\hat{I}_y^{(1, 6)}*\\hat{S}_z^{(1)} + A^{(1, 6)}_{zz}*\\gamma_e^{(1)}*\\hat{I}_z^{(1, 6)}*\\hat{S}_z^{(1)} + A^{(1, 7)}_{xx}*\\gamma_e^{(1)}*\\hat{I}_x^{(1, 7)}*\\hat{S}_x^{(1)} + 1.0*I*A^{(1, 7)}_{xy}*\\gamma_e^{(1)}*\\hat{I}_y^{(1, 7)}*\\hat{S}_x^{(1)} + A^{(1, 7)}_{xz}*\\gamma_e^{(1)}*\\hat{I}_z^{(1, 7)}*\\hat{S}_x^{(1)} + 1.0*I*A^{(1, 7)}_{yx}*\\gamma_e^{(1)}*\\hat{I}_x^{(1, 7)}*\\hat{S}_y^{(1)} - A^{(1, 7)}_{yy}*\\gamma_e^{(1)}*\\hat{I}_y^{(1, 7)}*\\hat{S}_y^{(1)} + 1.0*I*A^{(1, 7)}_{yz}*\\gamma_e^{(1)}*\\hat{I}_z^{(1, 7)}*\\hat{S}_y^{(1)} + A^{(1, 7)}_{zx}*\\gamma_e^{(1)}*\\hat{I}_x^{(1, 7)}*\\hat{S}_z^{(1)} + 1.0*I*A^{(1, 7)}_{zy}*\\gamma_e^{(1)}*\\hat{I}_y^{(1, 7)}*\\hat{S}_z^{(1)} + A^{(1, 7)}_{zz}*\\gamma_e^{(1)}*\\hat{I}_z^{(1, 7)}*\\hat{S}_z^{(1)} + A^{(1, 8)}_{xx}*\\gamma_e^{(1)}*\\hat{I}_x^{(1, 8)}*\\hat{S}_x^{(1)} + 1.0*I*A^{(1, 8)}_{xy}*\\gamma_e^{(1)}*\\hat{I}_y^{(1, 8)}*\\hat{S}_x^{(1)} + A^{(1, 8)}_{xz}*\\gamma_e^{(1)}*\\hat{I}_z^{(1, 8)}*\\hat{S}_x^{(1)} + 1.0*I*A^{(1, 8)}_{yx}*\\gamma_e^{(1)}*\\hat{I}_x^{(1, 8)}*\\hat{S}_y^{(1)} - A^{(1, 8)}_{yy}*\\gamma_e^{(1)}*\\hat{I}_y^{(1, 8)}*\\hat{S}_y^{(1)} + 1.0*I*A^{(1, 8)}_{yz}*\\gamma_e^{(1)}*\\hat{I}_z^{(1, 8)}*\\hat{S}_y^{(1)} + A^{(1, 8)}_{zx}*\\gamma_e^{(1)}*\\hat{I}_x^{(1, 8)}*\\hat{S}_z^{(1)} + 1.0*I*A^{(1, 8)}_{zy}*\\gamma_e^{(1)}*\\hat{I}_y^{(1, 8)}*\\hat{S}_z^{(1)} + A^{(1, 8)}_{zz}*\\gamma_e^{(1)}*\\hat{I}_z^{(1, 8)}*\\hat{S}_z^{(1)} + A^{(1, 9)}_{xx}*\\gamma_e^{(1)}*\\hat{I}_x^{(1, 9)}*\\hat{S}_x^{(1)} + 1.0*I*A^{(1, 9)}_{xy}*\\gamma_e^{(1)}*\\hat{I}_y^{(1, 9)}*\\hat{S}_x^{(1)} + A^{(1, 9)}_{xz}*\\gamma_e^{(1)}*\\hat{I}_z^{(1, 9)}*\\hat{S}_x^{(1)} + 1.0*I*A^{(1, 9)}_{yx}*\\gamma_e^{(1)}*\\hat{I}_x^{(1, 9)}*\\hat{S}_y^{(1)} - A^{(1, 9)}_{yy}*\\gamma_e^{(1)}*\\hat{I}_y^{(1, 9)}*\\hat{S}_y^{(1)} + 1.0*I*A^{(1, 9)}_{yz}*\\gamma_e^{(1)}*\\hat{I}_z^{(1, 9)}*\\hat{S}_y^{(1)} + A^{(1, 9)}_{zx}*\\gamma_e^{(1)}*\\hat{I}_x^{(1, 9)}*\\hat{S}_z^{(1)} + 1.0*I*A^{(1, 9)}_{zy}*\\gamma_e^{(1)}*\\hat{I}_y^{(1, 9)}*\\hat{S}_z^{(1)} + A^{(1, 9)}_{zz}*\\gamma_e^{(1)}*\\hat{I}_z^{(1, 9)}*\\hat{S}_z^{(1)} + A^{(2, 1)}_{xx}*\\gamma_e^{(2)}*\\hat{S}_x^{(2)}*\\hat{I}_x^{(2, 1)} + 1.0*I*A^{(2, 1)}_{xy}*\\gamma_e^{(2)}*\\hat{S}_x^{(2)}*\\hat{I}_y^{(2, 1)} + A^{(2, 1)}_{xz}*\\gamma_e^{(2)}*\\hat{S}_x^{(2)}*\\hat{I}_z^{(2, 1)} + 1.0*I*A^{(2, 1)}_{yx}*\\gamma_e^{(2)}*\\hat{S}_y^{(2)}*\\hat{I}_x^{(2, 1)} - A^{(2, 1)}_{yy}*\\gamma_e^{(2)}*\\hat{S}_y^{(2)}*\\hat{I}_y^{(2, 1)} + 1.0*I*A^{(2, 1)}_{yz}*\\gamma_e^{(2)}*\\hat{S}_y^{(2)}*\\hat{I}_z^{(2, 1)} + A^{(2, 1)}_{zx}*\\gamma_e^{(2)}*\\hat{S}_z^{(2)}*\\hat{I}_x^{(2, 1)} + 1.0*I*A^{(2, 1)}_{zy}*\\gamma_e^{(2)}*\\hat{S}_z^{(2)}*\\hat{I}_y^{(2, 1)} + A^{(2, 1)}_{zz}*\\gamma_e^{(2)}*\\hat{S}_z^{(2)}*\\hat{I}_z^{(2, 1)} + A^{(2, 10)}_{xx}*\\gamma_e^{(2)}*\\hat{S}_x^{(2)}*\\hat{I}_x^{(2, 10)} + 1.0*I*A^{(2, 10)}_{xy}*\\gamma_e^{(2)}*\\hat{S}_x^{(2)}*\\hat{I}_y^{(2, 10)} + A^{(2, 10)}_{xz}*\\gamma_e^{(2)}*\\hat{S}_x^{(2)}*\\hat{I}_z^{(2, 10)} + 1.0*I*A^{(2, 10)}_{yx}*\\gamma_e^{(2)}*\\hat{S}_y^{(2)}*\\hat{I}_x^{(2, 10)} - A^{(2, 10)}_{yy}*\\gamma_e^{(2)}*\\hat{S}_y^{(2)}*\\hat{I}_y^{(2, 10)} + 1.0*I*A^{(2, 10)}_{yz}*\\gamma_e^{(2)}*\\hat{S}_y^{(2)}*\\hat{I}_z^{(2, 10)} + A^{(2, 10)}_{zx}*\\gamma_e^{(2)}*\\hat{S}_z^{(2)}*\\hat{I}_x^{(2, 10)} + 1.0*I*A^{(2, 10)}_{zy}*\\gamma_e^{(2)}*\\hat{S}_z^{(2)}*\\hat{I}_y^{(2, 10)} + A^{(2, 10)}_{zz}*\\gamma_e^{(2)}*\\hat{S}_z^{(2)}*\\hat{I}_z^{(2, 10)} + A^{(2, 11)}_{xx}*\\gamma_e^{(2)}*\\hat{S}_x^{(2)}*\\hat{I}_x^{(2, 11)} + 1.0*I*A^{(2, 11)}_{xy}*\\gamma_e^{(2)}*\\hat{S}_x^{(2)}*\\hat{I}_y^{(2, 11)} + A^{(2, 11)}_{xz}*\\gamma_e^{(2)}*\\hat{S}_x^{(2)}*\\hat{I}_z^{(2, 11)} + 1.0*I*A^{(2, 11)}_{yx}*\\gamma_e^{(2)}*\\hat{S}_y^{(2)}*\\hat{I}_x^{(2, 11)} - A^{(2, 11)}_{yy}*\\gamma_e^{(2)}*\\hat{S}_y^{(2)}*\\hat{I}_y^{(2, 11)} + 1.0*I*A^{(2, 11)}_{yz}*\\gamma_e^{(2)}*\\hat{S}_y^{(2)}*\\hat{I}_z^{(2, 11)} + A^{(2, 11)}_{zx}*\\gamma_e^{(2)}*\\hat{S}_z^{(2)}*\\hat{I}_x^{(2, 11)} + 1.0*I*A^{(2, 11)}_{zy}*\\gamma_e^{(2)}*\\hat{S}_z^{(2)}*\\hat{I}_y^{(2, 11)} + A^{(2, 11)}_{zz}*\\gamma_e^{(2)}*\\hat{S}_z^{(2)}*\\hat{I}_z^{(2, 11)} + A^{(2, 2)}_{xx}*\\gamma_e^{(2)}*\\hat{S}_x^{(2)}*\\hat{I}_x^{(2, 2)} + 1.0*I*A^{(2, 2)}_{xy}*\\gamma_e^{(2)}*\\hat{S}_x^{(2)}*\\hat{I}_y^{(2, 2)} + A^{(2, 2)}_{xz}*\\gamma_e^{(2)}*\\hat{S}_x^{(2)}*\\hat{I}_z^{(2, 2)} + 1.0*I*A^{(2, 2)}_{yx}*\\gamma_e^{(2)}*\\hat{S}_y^{(2)}*\\hat{I}_x^{(2, 2)} - A^{(2, 2)}_{yy}*\\gamma_e^{(2)}*\\hat{S}_y^{(2)}*\\hat{I}_y^{(2, 2)} + 1.0*I*A^{(2, 2)}_{yz}*\\gamma_e^{(2)}*\\hat{S}_y^{(2)}*\\hat{I}_z^{(2, 2)} + A^{(2, 2)}_{zx}*\\gamma_e^{(2)}*\\hat{S}_z^{(2)}*\\hat{I}_x^{(2, 2)} + 1.0*I*A^{(2, 2)}_{zy}*\\gamma_e^{(2)}*\\hat{S}_z^{(2)}*\\hat{I}_y^{(2, 2)} + A^{(2, 2)}_{zz}*\\gamma_e^{(2)}*\\hat{S}_z^{(2)}*\\hat{I}_z^{(2, 2)} + A^{(2, 3)}_{xx}*\\gamma_e^{(2)}*\\hat{S}_x^{(2)}*\\hat{I}_x^{(2, 3)} + 1.0*I*A^{(2, 3)}_{xy}*\\gamma_e^{(2)}*\\hat{S}_x^{(2)}*\\hat{I}_y^{(2, 3)} + A^{(2, 3)}_{xz}*\\gamma_e^{(2)}*\\hat{S}_x^{(2)}*\\hat{I}_z^{(2, 3)} + 1.0*I*A^{(2, 3)}_{yx}*\\gamma_e^{(2)}*\\hat{S}_y^{(2)}*\\hat{I}_x^{(2, 3)} - A^{(2, 3)}_{yy}*\\gamma_e^{(2)}*\\hat{S}_y^{(2)}*\\hat{I}_y^{(2, 3)} + 1.0*I*A^{(2, 3)}_{yz}*\\gamma_e^{(2)}*\\hat{S}_y^{(2)}*\\hat{I}_z^{(2, 3)} + A^{(2, 3)}_{zx}*\\gamma_e^{(2)}*\\hat{S}_z^{(2)}*\\hat{I}_x^{(2, 3)} + 1.0*I*A^{(2, 3)}_{zy}*\\gamma_e^{(2)}*\\hat{S}_z^{(2)}*\\hat{I}_y^{(2, 3)} + A^{(2, 3)}_{zz}*\\gamma_e^{(2)}*\\hat{S}_z^{(2)}*\\hat{I}_z^{(2, 3)} + A^{(2, 4)}_{xx}*\\gamma_e^{(2)}*\\hat{S}_x^{(2)}*\\hat{I}_x^{(2, 4)} + 1.0*I*A^{(2, 4)}_{xy}*\\gamma_e^{(2)}*\\hat{S}_x^{(2)}*\\hat{I}_y^{(2, 4)} + A^{(2, 4)}_{xz}*\\gamma_e^{(2)}*\\hat{S}_x^{(2)}*\\hat{I}_z^{(2, 4)} + 1.0*I*A^{(2, 4)}_{yx}*\\gamma_e^{(2)}*\\hat{S}_y^{(2)}*\\hat{I}_x^{(2, 4)} - A^{(2, 4)}_{yy}*\\gamma_e^{(2)}*\\hat{S}_y^{(2)}*\\hat{I}_y^{(2, 4)} + 1.0*I*A^{(2, 4)}_{yz}*\\gamma_e^{(2)}*\\hat{S}_y^{(2)}*\\hat{I}_z^{(2, 4)} + A^{(2, 4)}_{zx}*\\gamma_e^{(2)}*\\hat{S}_z^{(2)}*\\hat{I}_x^{(2, 4)} + 1.0*I*A^{(2, 4)}_{zy}*\\gamma_e^{(2)}*\\hat{S}_z^{(2)}*\\hat{I}_y^{(2, 4)} + A^{(2, 4)}_{zz}*\\gamma_e^{(2)}*\\hat{S}_z^{(2)}*\\hat{I}_z^{(2, 4)} + A^{(2, 5)}_{xx}*\\gamma_e^{(2)}*\\hat{S}_x^{(2)}*\\hat{I}_x^{(2, 5)} + 1.0*I*A^{(2, 5)}_{xy}*\\gamma_e^{(2)}*\\hat{S}_x^{(2)}*\\hat{I}_y^{(2, 5)} + A^{(2, 5)}_{xz}*\\gamma_e^{(2)}*\\hat{S}_x^{(2)}*\\hat{I}_z^{(2, 5)} + 1.0*I*A^{(2, 5)}_{yx}*\\gamma_e^{(2)}*\\hat{S}_y^{(2)}*\\hat{I}_x^{(2, 5)} - A^{(2, 5)}_{yy}*\\gamma_e^{(2)}*\\hat{S}_y^{(2)}*\\hat{I}_y^{(2, 5)} + 1.0*I*A^{(2, 5)}_{yz}*\\gamma_e^{(2)}*\\hat{S}_y^{(2)}*\\hat{I}_z^{(2, 5)} + A^{(2, 5)}_{zx}*\\gamma_e^{(2)}*\\hat{S}_z^{(2)}*\\hat{I}_x^{(2, 5)} + 1.0*I*A^{(2, 5)}_{zy}*\\gamma_e^{(2)}*\\hat{S}_z^{(2)}*\\hat{I}_y^{(2, 5)} + A^{(2, 5)}_{zz}*\\gamma_e^{(2)}*\\hat{S}_z^{(2)}*\\hat{I}_z^{(2, 5)} + A^{(2, 6)}_{xx}*\\gamma_e^{(2)}*\\hat{S}_x^{(2)}*\\hat{I}_x^{(2, 6)} + 1.0*I*A^{(2, 6)}_{xy}*\\gamma_e^{(2)}*\\hat{S}_x^{(2)}*\\hat{I}_y^{(2, 6)} + A^{(2, 6)}_{xz}*\\gamma_e^{(2)}*\\hat{S}_x^{(2)}*\\hat{I}_z^{(2, 6)} + 1.0*I*A^{(2, 6)}_{yx}*\\gamma_e^{(2)}*\\hat{S}_y^{(2)}*\\hat{I}_x^{(2, 6)} - A^{(2, 6)}_{yy}*\\gamma_e^{(2)}*\\hat{S}_y^{(2)}*\\hat{I}_y^{(2, 6)} + 1.0*I*A^{(2, 6)}_{yz}*\\gamma_e^{(2)}*\\hat{S}_y^{(2)}*\\hat{I}_z^{(2, 6)} + A^{(2, 6)}_{zx}*\\gamma_e^{(2)}*\\hat{S}_z^{(2)}*\\hat{I}_x^{(2, 6)} + 1.0*I*A^{(2, 6)}_{zy}*\\gamma_e^{(2)}*\\hat{S}_z^{(2)}*\\hat{I}_y^{(2, 6)} + A^{(2, 6)}_{zz}*\\gamma_e^{(2)}*\\hat{S}_z^{(2)}*\\hat{I}_z^{(2, 6)} + A^{(2, 7)}_{xx}*\\gamma_e^{(2)}*\\hat{S}_x^{(2)}*\\hat{I}_x^{(2, 7)} + 1.0*I*A^{(2, 7)}_{xy}*\\gamma_e^{(2)}*\\hat{S}_x^{(2)}*\\hat{I}_y^{(2, 7)} + A^{(2, 7)}_{xz}*\\gamma_e^{(2)}*\\hat{S}_x^{(2)}*\\hat{I}_z^{(2, 7)} + 1.0*I*A^{(2, 7)}_{yx}*\\gamma_e^{(2)}*\\hat{S}_y^{(2)}*\\hat{I}_x^{(2, 7)} - A^{(2, 7)}_{yy}*\\gamma_e^{(2)}*\\hat{S}_y^{(2)}*\\hat{I}_y^{(2, 7)} + 1.0*I*A^{(2, 7)}_{yz}*\\gamma_e^{(2)}*\\hat{S}_y^{(2)}*\\hat{I}_z^{(2, 7)} + A^{(2, 7)}_{zx}*\\gamma_e^{(2)}*\\hat{S}_z^{(2)}*\\hat{I}_x^{(2, 7)} + 1.0*I*A^{(2, 7)}_{zy}*\\gamma_e^{(2)}*\\hat{S}_z^{(2)}*\\hat{I}_y^{(2, 7)} + A^{(2, 7)}_{zz}*\\gamma_e^{(2)}*\\hat{S}_z^{(2)}*\\hat{I}_z^{(2, 7)} + A^{(2, 8)}_{xx}*\\gamma_e^{(2)}*\\hat{S}_x^{(2)}*\\hat{I}_x^{(2, 8)} + 1.0*I*A^{(2, 8)}_{xy}*\\gamma_e^{(2)}*\\hat{S}_x^{(2)}*\\hat{I}_y^{(2, 8)} + A^{(2, 8)}_{xz}*\\gamma_e^{(2)}*\\hat{S}_x^{(2)}*\\hat{I}_z^{(2, 8)} + 1.0*I*A^{(2, 8)}_{yx}*\\gamma_e^{(2)}*\\hat{S}_y^{(2)}*\\hat{I}_x^{(2, 8)} - A^{(2, 8)}_{yy}*\\gamma_e^{(2)}*\\hat{S}_y^{(2)}*\\hat{I}_y^{(2, 8)} + 1.0*I*A^{(2, 8)}_{yz}*\\gamma_e^{(2)}*\\hat{S}_y^{(2)}*\\hat{I}_z^{(2, 8)} + A^{(2, 8)}_{zx}*\\gamma_e^{(2)}*\\hat{S}_z^{(2)}*\\hat{I}_x^{(2, 8)} + 1.0*I*A^{(2, 8)}_{zy}*\\gamma_e^{(2)}*\\hat{S}_z^{(2)}*\\hat{I}_y^{(2, 8)} + A^{(2, 8)}_{zz}*\\gamma_e^{(2)}*\\hat{S}_z^{(2)}*\\hat{I}_z^{(2, 8)} + A^{(2, 9)}_{xx}*\\gamma_e^{(2)}*\\hat{S}_x^{(2)}*\\hat{I}_x^{(2, 9)} + 1.0*I*A^{(2, 9)}_{xy}*\\gamma_e^{(2)}*\\hat{S}_x^{(2)}*\\hat{I}_y^{(2, 9)} + A^{(2, 9)}_{xz}*\\gamma_e^{(2)}*\\hat{S}_x^{(2)}*\\hat{I}_z^{(2, 9)} + 1.0*I*A^{(2, 9)}_{yx}*\\gamma_e^{(2)}*\\hat{S}_y^{(2)}*\\hat{I}_x^{(2, 9)} - A^{(2, 9)}_{yy}*\\gamma_e^{(2)}*\\hat{S}_y^{(2)}*\\hat{I}_y^{(2, 9)} + 1.0*I*A^{(2, 9)}_{yz}*\\gamma_e^{(2)}*\\hat{S}_y^{(2)}*\\hat{I}_z^{(2, 9)} + A^{(2, 9)}_{zx}*\\gamma_e^{(2)}*\\hat{S}_z^{(2)}*\\hat{I}_x^{(2, 9)} + 1.0*I*A^{(2, 9)}_{zy}*\\gamma_e^{(2)}*\\hat{S}_z^{(2)}*\\hat{I}_y^{(2, 9)} + A^{(2, 9)}_{zz}*\\gamma_e^{(2)}*\\hat{S}_z^{(2)}*\\hat{I}_z^{(2, 9)}"
      ]
     },
     "execution_count": 10,
     "metadata": {},
     "output_type": "execute_result"
    }
   ],
   "source": [
    "hyperfine = hyperfine.simplify()\n",
    "hyperfine.symbol"
   ]
  },
  {
   "cell_type": "markdown",
   "id": "89fa8620-01b4-40fa-8419-bf91373f65ff",
   "metadata": {},
   "source": [
    "## Zeeman Hamiltonian\n",
    "$$\n",
    "\\hat{H}_{\\text{Z}}\n",
    "= - \\vec{B} \\cdot \\sum_i \\left(\\gamma_{\\text{e}}\\vec{S}^{(i)} + \\left(\\sum_j\\gamma_{\\text{n}}^{(ij)}\\vec{I}^{(ij)}\\right)\\right)\n",
    "$$"
   ]
  },
  {
   "cell_type": "code",
   "execution_count": 11,
   "id": "4980005a-c969-4d4c-8dc2-683a2b67c036",
   "metadata": {},
   "outputs": [
    {
     "data": {
      "text/latex": [
       "$\\displaystyle - B_{z} \\gamma_e^{(1)} \\hat{S}_z^{(1)} - B_{z} \\gamma_e^{(2)} \\hat{S}_z^{(2)} - B_{z} \\gamma_n^{(1, 1)} \\hat{I}_z^{(1, 1)} - B_{z} \\gamma_n^{(1, 10)} \\hat{I}_z^{(1, 10)} - B_{z} \\gamma_n^{(1, 11)} \\hat{I}_z^{(1, 11)} - B_{z} \\gamma_n^{(1, 12)} \\hat{I}_z^{(1, 12)} - B_{z} \\gamma_n^{(1, 13)} \\hat{I}_z^{(1, 13)} - B_{z} \\gamma_n^{(1, 14)} \\hat{I}_z^{(1, 14)} - B_{z} \\gamma_n^{(1, 15)} \\hat{I}_z^{(1, 15)} - B_{z} \\gamma_n^{(1, 16)} \\hat{I}_z^{(1, 16)} - B_{z} \\gamma_n^{(1, 2)} \\hat{I}_z^{(1, 2)} - B_{z} \\gamma_n^{(1, 3)} \\hat{I}_z^{(1, 3)} - B_{z} \\gamma_n^{(1, 4)} \\hat{I}_z^{(1, 4)} - B_{z} \\gamma_n^{(1, 5)} \\hat{I}_z^{(1, 5)} - B_{z} \\gamma_n^{(1, 6)} \\hat{I}_z^{(1, 6)} - B_{z} \\gamma_n^{(1, 7)} \\hat{I}_z^{(1, 7)} - B_{z} \\gamma_n^{(1, 8)} \\hat{I}_z^{(1, 8)} - B_{z} \\gamma_n^{(1, 9)} \\hat{I}_z^{(1, 9)} - B_{z} \\gamma_n^{(2, 1)} \\hat{I}_z^{(2, 1)} - B_{z} \\gamma_n^{(2, 10)} \\hat{I}_z^{(2, 10)} - B_{z} \\gamma_n^{(2, 11)} \\hat{I}_z^{(2, 11)} - B_{z} \\gamma_n^{(2, 2)} \\hat{I}_z^{(2, 2)} - B_{z} \\gamma_n^{(2, 3)} \\hat{I}_z^{(2, 3)} - B_{z} \\gamma_n^{(2, 4)} \\hat{I}_z^{(2, 4)} - B_{z} \\gamma_n^{(2, 5)} \\hat{I}_z^{(2, 5)} - B_{z} \\gamma_n^{(2, 6)} \\hat{I}_z^{(2, 6)} - B_{z} \\gamma_n^{(2, 7)} \\hat{I}_z^{(2, 7)} - B_{z} \\gamma_n^{(2, 8)} \\hat{I}_z^{(2, 8)} - B_{z} \\gamma_n^{(2, 9)} \\hat{I}_z^{(2, 9)}$"
      ],
      "text/plain": [
       "-B_z*\\gamma_e^{(1)}*\\hat{S}_z^{(1)} - B_z*\\gamma_e^{(2)}*\\hat{S}_z^{(2)} - B_z*\\gamma_n^{(1, 1)}*\\hat{I}_z^{(1, 1)} - B_z*\\gamma_n^{(1, 10)}*\\hat{I}_z^{(1, 10)} - B_z*\\gamma_n^{(1, 11)}*\\hat{I}_z^{(1, 11)} - B_z*\\gamma_n^{(1, 12)}*\\hat{I}_z^{(1, 12)} - B_z*\\gamma_n^{(1, 13)}*\\hat{I}_z^{(1, 13)} - B_z*\\gamma_n^{(1, 14)}*\\hat{I}_z^{(1, 14)} - B_z*\\gamma_n^{(1, 15)}*\\hat{I}_z^{(1, 15)} - B_z*\\gamma_n^{(1, 16)}*\\hat{I}_z^{(1, 16)} - B_z*\\gamma_n^{(1, 2)}*\\hat{I}_z^{(1, 2)} - B_z*\\gamma_n^{(1, 3)}*\\hat{I}_z^{(1, 3)} - B_z*\\gamma_n^{(1, 4)}*\\hat{I}_z^{(1, 4)} - B_z*\\gamma_n^{(1, 5)}*\\hat{I}_z^{(1, 5)} - B_z*\\gamma_n^{(1, 6)}*\\hat{I}_z^{(1, 6)} - B_z*\\gamma_n^{(1, 7)}*\\hat{I}_z^{(1, 7)} - B_z*\\gamma_n^{(1, 8)}*\\hat{I}_z^{(1, 8)} - B_z*\\gamma_n^{(1, 9)}*\\hat{I}_z^{(1, 9)} - B_z*\\gamma_n^{(2, 1)}*\\hat{I}_z^{(2, 1)} - B_z*\\gamma_n^{(2, 10)}*\\hat{I}_z^{(2, 10)} - B_z*\\gamma_n^{(2, 11)}*\\hat{I}_z^{(2, 11)} - B_z*\\gamma_n^{(2, 2)}*\\hat{I}_z^{(2, 2)} - B_z*\\gamma_n^{(2, 3)}*\\hat{I}_z^{(2, 3)} - B_z*\\gamma_n^{(2, 4)}*\\hat{I}_z^{(2, 4)} - B_z*\\gamma_n^{(2, 5)}*\\hat{I}_z^{(2, 5)} - B_z*\\gamma_n^{(2, 6)}*\\hat{I}_z^{(2, 6)} - B_z*\\gamma_n^{(2, 7)}*\\hat{I}_z^{(2, 7)} - B_z*\\gamma_n^{(2, 8)}*\\hat{I}_z^{(2, 8)} - B_z*\\gamma_n^{(2, 9)}*\\hat{I}_z^{(2, 9)}"
      ]
     },
     "execution_count": 11,
     "metadata": {},
     "output_type": "execute_result"
    }
   ],
   "source": [
    "zeeman = SumOfProducts()\n",
    "\n",
    "xyz = \"xyz\"\n",
    "\n",
    "for k, (Sr_op, Ir_op) in enumerate(zip(Sr_ops, Ir_ops, strict=True)):\n",
    "    if B[k] == 0.0:\n",
    "        continue\n",
    "    r = xyz[k]\n",
    "    Br = Symbol(f\"B_{r}\")\n",
    "    subs[Br] = B[k] * SCALE\n",
    "    for i in range(len(sim.radicals)):\n",
    "        if k == 1:\n",
    "            zeeman += -1.0j * Br * g_ele_sym[i] * Sr_op[i]\n",
    "        else:\n",
    "            zeeman += -Br * g_ele_sym[i] * Sr_op[i]\n",
    "        for j in range(len(sim.molecules[i].nuclei)):\n",
    "            if k == 1:\n",
    "                zeeman += -1.0j * Br * g_nuc_sym[(i, j)] * Ir_op[(i, j)]\n",
    "            else:\n",
    "                zeeman += -Br * g_nuc_sym[(i, j)] * Ir_op[(i, j)]\n",
    "\n",
    "zeeman = zeeman.simplify()\n",
    "zeeman.symbol"
   ]
  },
  {
   "cell_type": "markdown",
   "id": "82c2446d-6bc7-483a-820a-6aa6f934f522",
   "metadata": {},
   "source": [
    "## Exchange Hamiltonian\n",
    "$$\n",
    "\\hat{H}_{\\text{J}}\n",
    "= J \\gamma_e \\left(\\vec{S}_1\\cdot\\vec{S_2}+\\frac{1}{2}\\hat{E}\\right)\n",
    "$$"
   ]
  },
  {
   "cell_type": "code",
   "execution_count": 12,
   "id": "5dbad2dc-37e0-4032-b2a8-9d0a6d6c412a",
   "metadata": {},
   "outputs": [
    {
     "data": {
      "text/latex": [
       "$\\displaystyle 0.5 J \\gamma_e^{(1)} \\hat{E} + 2 J \\gamma_e^{(1)} \\hat{S}_1\\cdot\\hat{S}_2$"
      ],
      "text/plain": [
       "0.5*J*\\gamma_e^{(1)}*\\hat{E} + 2*J*\\gamma_e^{(1)}*\\hat{S}_1\\cdot\\hat{S}_2"
      ]
     },
     "execution_count": 12,
     "metadata": {},
     "output_type": "execute_result"
    }
   ],
   "source": [
    "exchange = SumOfProducts()\n",
    "Jsym = Symbol(\"J\")\n",
    "subs[Jsym] = J * SCALE\n",
    "exchange += Jsym * g_ele_sym[0] * (2 * S1S2_op + 0.5 * E_op)\n",
    "exchange = exchange.simplify()\n",
    "exchange.symbol"
   ]
  },
  {
   "cell_type": "markdown",
   "id": "586ce902-d94d-45ba-a552-3d3532359618",
   "metadata": {},
   "source": [
    "## Dipolar Hamiltonian\n",
    "$$\n",
    "\\hat{H}_{\\text{J}}\n",
    "= \\vec{S}_1^\\top \\cdot D \\cdot \\vec{S_2}\n",
    "$$"
   ]
  },
  {
   "cell_type": "code",
   "execution_count": 13,
   "id": "54e6dc06-1495-4761-b4f6-fa4820229227",
   "metadata": {},
   "outputs": [
    {
     "data": {
      "text/latex": [
       "$\\displaystyle D_{xx} \\hat{S}_x^{(1)} \\hat{S}_x^{(2)} + 1.0 i D_{xy} \\hat{S}_x^{(1)} \\hat{S}_y^{(2)} + D_{xz} \\hat{S}_x^{(1)} \\hat{S}_z^{(2)} + 1.0 i D_{yx} \\hat{S}_y^{(1)} \\hat{S}_x^{(2)} - D_{yy} \\hat{S}_y^{(1)} \\hat{S}_y^{(2)} + 1.0 i D_{yz} \\hat{S}_y^{(1)} \\hat{S}_z^{(2)} + D_{zx} \\hat{S}_z^{(1)} \\hat{S}_x^{(2)} + 1.0 i D_{zy} \\hat{S}_z^{(1)} \\hat{S}_y^{(2)} + D_{zz} \\hat{S}_z^{(1)} \\hat{S}_z^{(2)}$"
      ],
      "text/plain": [
       "D_{xx}*\\hat{S}_x^{(1)}*\\hat{S}_x^{(2)} + 1.0*I*D_{xy}*\\hat{S}_x^{(1)}*\\hat{S}_y^{(2)} + D_{xz}*\\hat{S}_x^{(1)}*\\hat{S}_z^{(2)} + 1.0*I*D_{yx}*\\hat{S}_y^{(1)}*\\hat{S}_x^{(2)} - D_{yy}*\\hat{S}_y^{(1)}*\\hat{S}_y^{(2)} + 1.0*I*D_{yz}*\\hat{S}_y^{(1)}*\\hat{S}_z^{(2)} + D_{zx}*\\hat{S}_z^{(1)}*\\hat{S}_x^{(2)} + 1.0*I*D_{zy}*\\hat{S}_z^{(1)}*\\hat{S}_y^{(2)} + D_{zz}*\\hat{S}_z^{(1)}*\\hat{S}_z^{(2)}"
      ]
     },
     "execution_count": 13,
     "metadata": {},
     "output_type": "execute_result"
    }
   ],
   "source": [
    "dipolar = SumOfProducts()\n",
    "for k in range(3):\n",
    "    for l in range(3):\n",
    "        if D[k, l] == 0.0:\n",
    "            continue\n",
    "        else:\n",
    "            Dsym = Symbol(\"D_{\" + f\"{xyz[k]}\" + f\"{xyz[l]}\" + \"}\")\n",
    "            subs[Dsym] = D[k, l] * SCALE\n",
    "            if k == l == 1:\n",
    "                dipolar += -Dsym * Sr_ops[k][0] * Sr_ops[l][1]\n",
    "            elif k != 1 and l != 1:\n",
    "                dipolar += Dsym * Sr_ops[k][0] * Sr_ops[l][1]\n",
    "            else:\n",
    "                dipolar += 1.0j * Dsym * Sr_ops[k][0] * Sr_ops[l][1]\n",
    "dipolar = dipolar.simplify()\n",
    "dipolar.symbol"
   ]
  },
  {
   "cell_type": "markdown",
   "id": "08dd2e85-49ff-48f1-b618-87907da4c33c",
   "metadata": {},
   "source": [
    "Construct matrix product operator (MPO) for MPS propagation"
   ]
  },
  {
   "cell_type": "code",
   "execution_count": 14,
   "id": "33b309c1-aec3-4dba-a6e1-77e29a609faa",
   "metadata": {},
   "outputs": [],
   "source": [
    "hamiltonian = hyperfine + zeeman + exchange + dipolar\n",
    "hamiltonian = hamiltonian.simplify()\n",
    "am = AssignManager(hamiltonian)\n",
    "_ = am.assign()\n",
    "# display(*am.Wsym)\n",
    "mpo = am.numerical_mpo(subs=subs)"
   ]
  },
  {
   "cell_type": "markdown",
   "id": "e4a74374-8d4a-48c3-afc6-90aab734a299",
   "metadata": {},
   "source": [
    "## Mixed state (ensemble) simulation"
   ]
  },
  {
   "cell_type": "code",
   "execution_count": 15,
   "id": "f0248ac0-e862-48fb-a79b-43cfe60ed0d5",
   "metadata": {},
   "outputs": [],
   "source": [
    "backend = \"numpy\"\n",
    "m = 32  # Bond dimension\n",
    "Δt = 5.0e-10 / SCALE * units.au_in_fs  # dt = 0.5 ns\n",
    "\n",
    "spin_coherent = True  # Whether or not use coherent state sampling"
   ]
  },
  {
   "cell_type": "code",
   "execution_count": 16,
   "id": "93ad5ed7-c57c-4f30-bbe6-9623052627b4",
   "metadata": {},
   "outputs": [],
   "source": [
    "basis = []\n",
    "for nuc in sim.molecules[0].nuclei:\n",
    "    basis.append(Exciton(nstate=nuc.multiplicity))\n",
    "basis.append(Exciton(nstate=4))\n",
    "for nuc in sim.molecules[1].nuclei:\n",
    "    basis.append(Exciton(nstate=nuc.multiplicity))\n",
    "basinfo = BasInfo([basis], spf_info=None)\n",
    "\n",
    "nsite = len(basis)"
   ]
  },
  {
   "cell_type": "code",
   "execution_count": 17,
   "id": "d2f3301f-a1a4-4914-9da6-50bf045b2308",
   "metadata": {},
   "outputs": [],
   "source": [
    "op_dict = {\n",
    "    tuple([(isite, isite) for isite in range(nsite)]): TensorOperator(mpo=mpo)\n",
    "}\n",
    "H = TensorHamiltonian(\n",
    "    nsite, potential=[[op_dict]], kinetic=None, backend=backend\n",
    ")"
   ]
  },
  {
   "cell_type": "code",
   "execution_count": 18,
   "id": "692008c7-ef45-473a-be1b-054ee58f2f07",
   "metadata": {},
   "outputs": [],
   "source": [
    "def spin_coherenet_state(pair):\n",
    "    \"\"\"\n",
    "    J. Chem. Phys. 154, 084121 (2021); doi: 10.1063/5.0040519\n",
    "\n",
    "    Sample from spin coherent state\n",
    "    |Ω⁽ᴵ⁾⟩ = cos(θ/2)²ᴵ exp(tan(θ/2)exp(iϕ)Î₋) |I,I⟩\n",
    "    \"\"\"\n",
    "    hp = []\n",
    "    for isite in range(nsite):\n",
    "        if isite == ele_site:\n",
    "            hp.append([0, 0, 1, 0])  # Singlet\n",
    "        else:\n",
    "            mult = basis[isite].nstate\n",
    "            I = (mult - 1) / 2\n",
    "            nind = isite - int(ele_site <= isite)\n",
    "\n",
    "            theta = np.arccos(pair[2 * nind] * 2 - 1.0)\n",
    "            # same as\n",
    "            # theta = np.arcsin(pair[2*nind] * 2 - 1.0)\n",
    "            # if theta < 0:\n",
    "            #    theta += np.pi\n",
    "            phi = pair[2 * nind + 1] * 2 * np.pi\n",
    "            weights = np.zeros((mult, 1))\n",
    "            weights[0, 0] = 1.0\n",
    "            weights = (\n",
    "                (np.cos(theta / 2) ** (2 * I))\n",
    "                * expm(\n",
    "                    np.tan(theta / 2)\n",
    "                    * np.exp(1.0j * phi)\n",
    "                    * sim.nuclei[nind].pauli[\"m\"]\n",
    "                )\n",
    "                @ weights\n",
    "            )\n",
    "            assert (\n",
    "                abs((weights.conjugate().T @ weights).real[0, 0] - 1.0)\n",
    "                < 1.0e-14\n",
    "            ), (weights.conjugate().T @ weights)[0, 0]\n",
    "            # print(weights.conjugate().T @ weights, weights)\n",
    "            hp.append(weights.reshape(-1).tolist())\n",
    "    return hp\n",
    "\n",
    "\n",
    "def projection_state(pair):\n",
    "    \"\"\"\n",
    "    Sampel from projection state |M⟩\n",
    "    \"\"\"\n",
    "    init_nuc_spins = [\n",
    "        np.floor(pair[i] * basis[i + int(ele_site <= i)].nstate).astype(int)\n",
    "        for i in range(nsite - 1)\n",
    "    ]\n",
    "    hp = []\n",
    "    for isite in range(nsite):\n",
    "        if isite == ele_site:\n",
    "            hp.append([0, 0, 1, 0])  # Singlet\n",
    "        else:\n",
    "            weights = np.zeros(basis[isite].nstate)\n",
    "            weights[init_nuc_spins[isite - int(ele_site <= isite)]] = 1.0\n",
    "            hp.append(weights.tolist())\n",
    "    return hp\n",
    "\n",
    "\n",
    "def process_pair(pair, i, H):\n",
    "    operators = {\"hamiltonian\": H}\n",
    "    model = Model(basinfo=basinfo, operators=operators)\n",
    "    model.m_aux_max = m\n",
    "    if spin_coherent:\n",
    "        hp = spin_coherenet_state(pair)\n",
    "    else:\n",
    "        hp = projection_state(pair)\n",
    "    model.init_HartreeProduct = [hp]\n",
    "\n",
    "    jobname = f\"radicalpair_{i}\"\n",
    "    simulator = Simulator(\n",
    "        jobname=jobname, model=model, backend=backend, verbose=0\n",
    "    )\n",
    "    ener, wf = simulator.propagate(\n",
    "        reduced_density=(\n",
    "            [(ele_site, ele_site)],\n",
    "            2,\n",
    "        ),\n",
    "        maxstep=100,\n",
    "        stepsize=Δt,\n",
    "        autocorr=False,\n",
    "        energy=False,\n",
    "        norm=False,\n",
    "        populations=False,\n",
    "    )\n",
    "\n",
    "    with nc.Dataset(f\"{jobname}_prop/reduced_density.nc\", \"r\") as file:\n",
    "        density_data_real = file.variables[f\"rho_({ele_site}, {ele_site})_0\"][\n",
    "            :\n",
    "        ][\"real\"]\n",
    "        density_data_imag = file.variables[f\"rho_({ele_site}, {ele_site})_0\"][\n",
    "            :\n",
    "        ][\"imag\"]\n",
    "        time_data = file.variables[\"time\"][:]\n",
    "\n",
    "    density_data = np.array(density_data_real) + 1.0j * np.array(\n",
    "        density_data_imag\n",
    "    )\n",
    "    time_data = np.array(time_data)\n",
    "\n",
    "    return density_data, time_data"
   ]
  },
  {
   "cell_type": "markdown",
   "id": "889b2703-5d61-4b0b-bc47-078dc3507db0",
   "metadata": {},
   "source": [
    "Since nuclear spins are mixed state, one needs to consider ensemble of nuclear spin initial states. \n",
    "The calculation is performed in parallel for each trajectory.\n",
    "When the number of nuclear spins large, switch to quasi Monte Carlo approach. "
   ]
  },
  {
   "cell_type": "code",
   "execution_count": 19,
   "id": "54b2ebd4-bba0-4231-a7ac-ffcba206d6b4",
   "metadata": {
    "scrolled": true
   },
   "outputs": [],
   "source": [
    "futures = []\n",
    "density_sum = None\n",
    "\n",
    "# If number of nuclear spin is larger than 6,\n",
    "# initial states are randomly sampled by quasi Monte Carlo\n",
    "is_mc = len(basis) - 1 > 5\n",
    "\n",
    "if spin_coherent:\n",
    "    engine = qmc.Sobol(d=2 * (nsite - 1), scramble=True)\n",
    "else:\n",
    "    engine = qmc.Sobol(d=nsite - 1, scramble=True)\n",
    "pairs = engine.random(n=2**7)  # sample from [0, 1]^N hypercubic"
   ]
  },
  {
   "cell_type": "code",
   "execution_count": 20,
   "id": "7936efcb-8652-48fb-9352-fadffdd696f2",
   "metadata": {
    "scrolled": true
   },
   "outputs": [
    {
     "data": {
      "application/vnd.jupyter.widget-view+json": {
       "model_id": "50080385d66a4f8192bca82a44eeb730",
       "version_major": 2,
       "version_minor": 0
      },
      "text/plain": [
       "Processing pairs:   0%|          | 0/128 [00:00<?, ?it/s]"
      ]
     },
     "metadata": {},
     "output_type": "display_data"
    },
    {
     "name": "stderr",
     "output_type": "stream",
     "text": [
      "16:23:31 | INFO | Wave function is saved in wf_radicalpair_5.pkl\n",
      "16:23:31 | INFO | Wave function is saved in wf_radicalpair_1.pkl\n",
      "16:23:31 | INFO | Wave function is saved in wf_radicalpair_0.pkl\n",
      "16:23:31 | INFO | Wave function is saved in wf_radicalpair_3.pkl\n",
      "16:23:31 | INFO | Start initial step    0.000 [fs]\n",
      "16:23:31 | INFO | Wave function is saved in wf_radicalpair_6.pkl\n",
      "16:23:31 | INFO | Start initial step    0.000 [fs]\n",
      "16:23:31 | INFO | Start initial step    0.000 [fs]\n",
      "16:23:31 | INFO | Wave function is saved in wf_radicalpair_7.pkl\n",
      "16:23:31 | INFO | Wave function is saved in wf_radicalpair_2.pkl\n",
      "16:23:31 | INFO | Wave function is saved in wf_radicalpair_4.pkl\n",
      "16:23:31 | INFO | Start initial step    0.000 [fs]\n",
      "16:23:31 | INFO | Start initial step    0.000 [fs]\n",
      "16:23:31 | INFO | Start initial step    0.000 [fs]\n",
      "16:23:31 | INFO | Start initial step    0.000 [fs]\n",
      "16:23:31 | INFO | Start initial step    0.000 [fs]\n"
     ]
    },
    {
     "data": {
      "application/vnd.jupyter.widget-view+json": {
       "model_id": "6d43ee19eaf14a64b470b7557b7d2730",
       "version_major": 2,
       "version_minor": 0
      },
      "text/plain": [
       "  0%|          | 0/100 [00:00<?, ?it/s]"
      ]
     },
     "metadata": {},
     "output_type": "display_data"
    },
    {
     "data": {
      "application/vnd.jupyter.widget-view+json": {
       "model_id": "834aedcb2dd54edbb03c89c897468108",
       "version_major": 2,
       "version_minor": 0
      },
      "text/plain": [
       "  0%|          | 0/100 [00:00<?, ?it/s]"
      ]
     },
     "metadata": {},
     "output_type": "display_data"
    },
    {
     "data": {
      "application/vnd.jupyter.widget-view+json": {
       "model_id": "fd8fd25f58f8492baac50eb807f839b9",
       "version_major": 2,
       "version_minor": 0
      },
      "text/plain": [
       "  0%|          | 0/100 [00:00<?, ?it/s]"
      ]
     },
     "metadata": {},
     "output_type": "display_data"
    },
    {
     "data": {
      "application/vnd.jupyter.widget-view+json": {
       "model_id": "75b68cb31ca34f96a23c27d1c590728e",
       "version_major": 2,
       "version_minor": 0
      },
      "text/plain": [
       "  0%|          | 0/100 [00:00<?, ?it/s]"
      ]
     },
     "metadata": {},
     "output_type": "display_data"
    },
    {
     "data": {
      "application/vnd.jupyter.widget-view+json": {
       "model_id": "aeef5700922543189b2b69326379055b",
       "version_major": 2,
       "version_minor": 0
      },
      "text/plain": [
       "  0%|          | 0/100 [00:00<?, ?it/s]"
      ]
     },
     "metadata": {},
     "output_type": "display_data"
    },
    {
     "data": {
      "application/vnd.jupyter.widget-view+json": {
       "model_id": "62047d74eada45d290df171fb37661a7",
       "version_major": 2,
       "version_minor": 0
      },
      "text/plain": [
       "  0%|          | 0/100 [00:00<?, ?it/s]"
      ]
     },
     "metadata": {},
     "output_type": "display_data"
    },
    {
     "data": {
      "application/vnd.jupyter.widget-view+json": {
       "model_id": "c0bb3e4ccfcd49fd92c534dcdd467e5f",
       "version_major": 2,
       "version_minor": 0
      },
      "text/plain": [
       "  0%|          | 0/100 [00:00<?, ?it/s]"
      ]
     },
     "metadata": {},
     "output_type": "display_data"
    },
    {
     "data": {
      "application/vnd.jupyter.widget-view+json": {
       "model_id": "37ce2beac1294d59894ec9115268f461",
       "version_major": 2,
       "version_minor": 0
      },
      "text/plain": [
       "  0%|          | 0/100 [00:00<?, ?it/s]"
      ]
     },
     "metadata": {},
     "output_type": "display_data"
    },
    {
     "name": "stderr",
     "output_type": "stream",
     "text": [
      "16:23:31 | INFO | End     0 step; propagated    0.012 [fs]; AVG Krylov iteration: 6.04\n",
      "16:23:31 | INFO | End     0 step; propagated    0.012 [fs]; AVG Krylov iteration: 5.86\n",
      "16:23:31 | INFO | End     0 step; propagated    0.012 [fs]; AVG Krylov iteration: 5.93\n",
      "16:23:31 | INFO | End     0 step; propagated    0.012 [fs]; AVG Krylov iteration: 5.93\n",
      "16:23:31 | INFO | End     0 step; propagated    0.012 [fs]; AVG Krylov iteration: 5.93\n",
      "16:23:31 | INFO | End     0 step; propagated    0.012 [fs]; AVG Krylov iteration: 6.32\n",
      "16:23:31 | INFO | End     0 step; propagated    0.012 [fs]; AVG Krylov iteration: 5.86\n",
      "16:23:31 | INFO | End     0 step; propagated    0.012 [fs]; AVG Krylov iteration: 5.93\n",
      "16:24:03 | INFO | End    99 step; propagated    1.197 [fs]; AVG Krylov iteration: 5.75\n",
      "16:24:03 | INFO | End simulation and save wavefunction\n",
      "16:24:03 | INFO | Wave function is saved in wf_radicalpair_2.pkl\n",
      "16:24:03 | INFO | Wave function is saved in wf_radicalpair_8.pkl\n",
      "16:24:03 | INFO | Start initial step    0.000 [fs]\n"
     ]
    },
    {
     "data": {
      "application/vnd.jupyter.widget-view+json": {
       "model_id": "ca3dea4d0e964f5b923ee78478976601",
       "version_major": 2,
       "version_minor": 0
      },
      "text/plain": [
       "  0%|          | 0/100 [00:00<?, ?it/s]"
      ]
     },
     "metadata": {},
     "output_type": "display_data"
    },
    {
     "name": "stderr",
     "output_type": "stream",
     "text": [
      "16:24:03 | INFO | End     0 step; propagated    0.012 [fs]; AVG Krylov iteration: 6.54\n",
      "16:24:04 | INFO | End    99 step; propagated    1.197 [fs]; AVG Krylov iteration: 5.82\n",
      "16:24:04 | INFO | End simulation and save wavefunction\n",
      "16:24:04 | INFO | Wave function is saved in wf_radicalpair_5.pkl\n",
      "16:24:04 | INFO | End    99 step; propagated    1.197 [fs]; AVG Krylov iteration: 5.71\n",
      "16:24:04 | INFO | End simulation and save wavefunction\n",
      "16:24:04 | INFO | Wave function is saved in wf_radicalpair_9.pkl\n",
      "16:24:04 | INFO | Start initial step    0.000 [fs]\n"
     ]
    },
    {
     "data": {
      "application/vnd.jupyter.widget-view+json": {
       "model_id": "8f216512c9f84ef9991b6d3bd37e987d",
       "version_major": 2,
       "version_minor": 0
      },
      "text/plain": [
       "  0%|          | 0/100 [00:00<?, ?it/s]"
      ]
     },
     "metadata": {},
     "output_type": "display_data"
    },
    {
     "name": "stderr",
     "output_type": "stream",
     "text": [
      "16:24:04 | INFO | Wave function is saved in wf_radicalpair_4.pkl\n",
      "16:24:04 | INFO | Wave function is saved in wf_radicalpair_10.pkl\n",
      "16:24:04 | INFO | Start initial step    0.000 [fs]\n"
     ]
    },
    {
     "data": {
      "application/vnd.jupyter.widget-view+json": {
       "model_id": "577870b2f20a4e289992cd2008c2380b",
       "version_major": 2,
       "version_minor": 0
      },
      "text/plain": [
       "  0%|          | 0/100 [00:00<?, ?it/s]"
      ]
     },
     "metadata": {},
     "output_type": "display_data"
    },
    {
     "name": "stderr",
     "output_type": "stream",
     "text": [
      "16:24:05 | INFO | End     0 step; propagated    0.012 [fs]; AVG Krylov iteration: 5.93\n",
      "16:24:05 | INFO | End     0 step; propagated    0.012 [fs]; AVG Krylov iteration: 6.89\n",
      "16:24:05 | INFO | End    99 step; propagated    1.197 [fs]; AVG Krylov iteration: 5.93\n",
      "16:24:05 | INFO | End simulation and save wavefunction\n",
      "16:24:05 | INFO | Wave function is saved in wf_radicalpair_6.pkl\n",
      "16:24:05 | INFO | End    99 step; propagated    1.197 [fs]; AVG Krylov iteration: 5.89\n",
      "16:24:05 | INFO | End simulation and save wavefunction\n",
      "16:24:05 | INFO | Wave function is saved in wf_radicalpair_1.pkl\n",
      "16:24:05 | INFO | Wave function is saved in wf_radicalpair_11.pkl\n",
      "16:24:05 | INFO | Start initial step    0.000 [fs]\n"
     ]
    },
    {
     "data": {
      "application/vnd.jupyter.widget-view+json": {
       "model_id": "fd22cda1c9564574a7df4fcd56419b4b",
       "version_major": 2,
       "version_minor": 0
      },
      "text/plain": [
       "  0%|          | 0/100 [00:00<?, ?it/s]"
      ]
     },
     "metadata": {},
     "output_type": "display_data"
    },
    {
     "name": "stderr",
     "output_type": "stream",
     "text": [
      "16:24:05 | INFO | Wave function is saved in wf_radicalpair_12.pkl\n",
      "16:24:05 | INFO | Start initial step    0.000 [fs]\n"
     ]
    },
    {
     "data": {
      "application/vnd.jupyter.widget-view+json": {
       "model_id": "53c1bf7cfa924c7abe66da68565db454",
       "version_major": 2,
       "version_minor": 0
      },
      "text/plain": [
       "  0%|          | 0/100 [00:00<?, ?it/s]"
      ]
     },
     "metadata": {},
     "output_type": "display_data"
    },
    {
     "name": "stderr",
     "output_type": "stream",
     "text": [
      "16:24:05 | INFO | End    99 step; propagated    1.197 [fs]; AVG Krylov iteration: 5.89\n",
      "16:24:05 | INFO | End simulation and save wavefunction\n",
      "16:24:05 | INFO | Wave function is saved in wf_radicalpair_0.pkl\n",
      "16:24:05 | INFO | Wave function is saved in wf_radicalpair_13.pkl\n",
      "16:24:05 | INFO | Start initial step    0.000 [fs]\n"
     ]
    },
    {
     "data": {
      "application/vnd.jupyter.widget-view+json": {
       "model_id": "2f2a7866bfe54a66b604100717b08340",
       "version_major": 2,
       "version_minor": 0
      },
      "text/plain": [
       "  0%|          | 0/100 [00:00<?, ?it/s]"
      ]
     },
     "metadata": {},
     "output_type": "display_data"
    },
    {
     "name": "stderr",
     "output_type": "stream",
     "text": [
      "16:24:05 | INFO | End     0 step; propagated    0.012 [fs]; AVG Krylov iteration: 6.29\n",
      "16:24:05 | INFO | End     0 step; propagated    0.012 [fs]; AVG Krylov iteration: 6.04\n",
      "16:24:05 | INFO | End     0 step; propagated    0.012 [fs]; AVG Krylov iteration: 5.93\n",
      "16:24:06 | INFO | End    99 step; propagated    1.197 [fs]; AVG Krylov iteration: 6.11\n",
      "16:24:06 | INFO | End simulation and save wavefunction\n",
      "16:24:06 | INFO | Wave function is saved in wf_radicalpair_7.pkl\n",
      "16:24:06 | INFO | Wave function is saved in wf_radicalpair_14.pkl\n",
      "16:24:06 | INFO | Start initial step    0.000 [fs]\n"
     ]
    },
    {
     "data": {
      "application/vnd.jupyter.widget-view+json": {
       "model_id": "7323b51a28fd406f9dfb9fd944873619",
       "version_major": 2,
       "version_minor": 0
      },
      "text/plain": [
       "  0%|          | 0/100 [00:00<?, ?it/s]"
      ]
     },
     "metadata": {},
     "output_type": "display_data"
    },
    {
     "name": "stderr",
     "output_type": "stream",
     "text": [
      "16:24:06 | INFO | End    99 step; propagated    1.197 [fs]; AVG Krylov iteration: 6.11\n",
      "16:24:06 | INFO | End simulation and save wavefunction\n",
      "16:24:06 | INFO | Wave function is saved in wf_radicalpair_3.pkl\n",
      "16:24:06 | INFO | Wave function is saved in wf_radicalpair_15.pkl\n",
      "16:24:06 | INFO | Start initial step    0.000 [fs]\n"
     ]
    },
    {
     "data": {
      "application/vnd.jupyter.widget-view+json": {
       "model_id": "9be079825c63417f88da7166e041ba81",
       "version_major": 2,
       "version_minor": 0
      },
      "text/plain": [
       "  0%|          | 0/100 [00:00<?, ?it/s]"
      ]
     },
     "metadata": {},
     "output_type": "display_data"
    },
    {
     "name": "stderr",
     "output_type": "stream",
     "text": [
      "16:24:06 | INFO | End     0 step; propagated    0.012 [fs]; AVG Krylov iteration: 5.93\n",
      "16:24:07 | INFO | End     0 step; propagated    0.012 [fs]; AVG Krylov iteration: 6.79\n",
      "16:24:38 | INFO | End    99 step; propagated    1.197 [fs]; AVG Krylov iteration: 5.79\n",
      "16:24:38 | INFO | End simulation and save wavefunction\n",
      "16:24:38 | INFO | Wave function is saved in wf_radicalpair_9.pkl\n",
      "16:24:38 | INFO | Wave function is saved in wf_radicalpair_16.pkl\n",
      "16:24:38 | INFO | Start initial step    0.000 [fs]\n"
     ]
    },
    {
     "data": {
      "application/vnd.jupyter.widget-view+json": {
       "model_id": "092b68e60db642c28de5b34099991c4b",
       "version_major": 2,
       "version_minor": 0
      },
      "text/plain": [
       "  0%|          | 0/100 [00:00<?, ?it/s]"
      ]
     },
     "metadata": {},
     "output_type": "display_data"
    },
    {
     "name": "stderr",
     "output_type": "stream",
     "text": [
      "16:24:38 | INFO | End    99 step; propagated    1.197 [fs]; AVG Krylov iteration: 6.32\n",
      "16:24:38 | INFO | End simulation and save wavefunction\n",
      "16:24:38 | INFO | Wave function is saved in wf_radicalpair_8.pkl\n",
      "16:24:38 | INFO | Wave function is saved in wf_radicalpair_17.pkl\n",
      "16:24:38 | INFO | Start initial step    0.000 [fs]\n"
     ]
    },
    {
     "data": {
      "application/vnd.jupyter.widget-view+json": {
       "model_id": "66528357139c4e949c630815409cf0f7",
       "version_major": 2,
       "version_minor": 0
      },
      "text/plain": [
       "  0%|          | 0/100 [00:00<?, ?it/s]"
      ]
     },
     "metadata": {},
     "output_type": "display_data"
    },
    {
     "name": "stderr",
     "output_type": "stream",
     "text": [
      "16:24:38 | INFO | End     0 step; propagated    0.012 [fs]; AVG Krylov iteration: 6.39\n",
      "16:24:38 | INFO | End    99 step; propagated    1.197 [fs]; AVG Krylov iteration: 5.86\n",
      "16:24:38 | INFO | End simulation and save wavefunction\n",
      "16:24:38 | INFO | Wave function is saved in wf_radicalpair_13.pkl\n",
      "16:24:38 | INFO | End     0 step; propagated    0.012 [fs]; AVG Krylov iteration: 5.93\n",
      "16:24:38 | INFO | Wave function is saved in wf_radicalpair_18.pkl\n",
      "16:24:38 | INFO | Start initial step    0.000 [fs]\n"
     ]
    },
    {
     "data": {
      "application/vnd.jupyter.widget-view+json": {
       "model_id": "aa53e615f26147f3833f306c3d483b98",
       "version_major": 2,
       "version_minor": 0
      },
      "text/plain": [
       "  0%|          | 0/100 [00:00<?, ?it/s]"
      ]
     },
     "metadata": {},
     "output_type": "display_data"
    },
    {
     "name": "stderr",
     "output_type": "stream",
     "text": [
      "16:24:39 | INFO | End     0 step; propagated    0.012 [fs]; AVG Krylov iteration: 5.93\n",
      "16:24:39 | INFO | End    99 step; propagated    1.197 [fs]; AVG Krylov iteration: 5.96\n",
      "16:24:39 | INFO | End simulation and save wavefunction\n",
      "16:24:39 | INFO | Wave function is saved in wf_radicalpair_12.pkl\n",
      "16:24:39 | INFO | Wave function is saved in wf_radicalpair_19.pkl\n",
      "16:24:39 | INFO | Start initial step    0.000 [fs]\n"
     ]
    },
    {
     "data": {
      "application/vnd.jupyter.widget-view+json": {
       "model_id": "e01ff6ecee084c1f8ca46a260cdf48c2",
       "version_major": 2,
       "version_minor": 0
      },
      "text/plain": [
       "  0%|          | 0/100 [00:00<?, ?it/s]"
      ]
     },
     "metadata": {},
     "output_type": "display_data"
    },
    {
     "name": "stderr",
     "output_type": "stream",
     "text": [
      "16:24:39 | INFO | End    99 step; propagated    1.197 [fs]; AVG Krylov iteration: 5.86\n",
      "16:24:39 | INFO | End simulation and save wavefunction\n",
      "16:24:39 | INFO | Wave function is saved in wf_radicalpair_14.pkl\n",
      "16:24:39 | INFO | Wave function is saved in wf_radicalpair_20.pkl\n",
      "16:24:39 | INFO | Start initial step    0.000 [fs]\n"
     ]
    },
    {
     "data": {
      "application/vnd.jupyter.widget-view+json": {
       "model_id": "da7e1923eac14857bc48823c77a2e1df",
       "version_major": 2,
       "version_minor": 0
      },
      "text/plain": [
       "  0%|          | 0/100 [00:00<?, ?it/s]"
      ]
     },
     "metadata": {},
     "output_type": "display_data"
    },
    {
     "name": "stderr",
     "output_type": "stream",
     "text": [
      "16:24:39 | INFO | End     0 step; propagated    0.012 [fs]; AVG Krylov iteration: 6.46\n",
      "16:24:40 | INFO | End    99 step; propagated    1.197 [fs]; AVG Krylov iteration: 6.29\n",
      "16:24:40 | INFO | End simulation and save wavefunction\n",
      "16:24:40 | INFO | Wave function is saved in wf_radicalpair_11.pkl\n",
      "16:24:40 | INFO | Wave function is saved in wf_radicalpair_21.pkl\n",
      "16:24:40 | INFO | End     0 step; propagated    0.012 [fs]; AVG Krylov iteration: 6.00\n",
      "16:24:40 | INFO | Start initial step    0.000 [fs]\n"
     ]
    },
    {
     "data": {
      "application/vnd.jupyter.widget-view+json": {
       "model_id": "00f113efda2c4e828a359e603ffb58f4",
       "version_major": 2,
       "version_minor": 0
      },
      "text/plain": [
       "  0%|          | 0/100 [00:00<?, ?it/s]"
      ]
     },
     "metadata": {},
     "output_type": "display_data"
    },
    {
     "name": "stderr",
     "output_type": "stream",
     "text": [
      "16:24:40 | INFO | End    99 step; propagated    1.197 [fs]; AVG Krylov iteration: 6.46\n",
      "16:24:40 | INFO | End simulation and save wavefunction\n",
      "16:24:40 | INFO | Wave function is saved in wf_radicalpair_10.pkl\n",
      "16:24:40 | INFO | Wave function is saved in wf_radicalpair_22.pkl\n",
      "16:24:40 | INFO | Start initial step    0.000 [fs]\n"
     ]
    },
    {
     "data": {
      "application/vnd.jupyter.widget-view+json": {
       "model_id": "36e935dd88f8498da78d71a51c879b3d",
       "version_major": 2,
       "version_minor": 0
      },
      "text/plain": [
       "  0%|          | 0/100 [00:00<?, ?it/s]"
      ]
     },
     "metadata": {},
     "output_type": "display_data"
    },
    {
     "name": "stderr",
     "output_type": "stream",
     "text": [
      "16:24:40 | INFO | End     0 step; propagated    0.012 [fs]; AVG Krylov iteration: 5.93\n",
      "16:24:40 | INFO | End     0 step; propagated    0.012 [fs]; AVG Krylov iteration: 5.93\n",
      "16:24:42 | INFO | End    99 step; propagated    1.197 [fs]; AVG Krylov iteration: 6.50\n",
      "16:24:42 | INFO | End simulation and save wavefunction\n",
      "16:24:42 | INFO | Wave function is saved in wf_radicalpair_15.pkl\n",
      "16:24:42 | INFO | Wave function is saved in wf_radicalpair_23.pkl\n",
      "16:24:42 | INFO | Start initial step    0.000 [fs]\n"
     ]
    },
    {
     "data": {
      "application/vnd.jupyter.widget-view+json": {
       "model_id": "c448b6a4bb6d42ee9bbdbd8c5b280a4f",
       "version_major": 2,
       "version_minor": 0
      },
      "text/plain": [
       "  0%|          | 0/100 [00:00<?, ?it/s]"
      ]
     },
     "metadata": {},
     "output_type": "display_data"
    },
    {
     "name": "stderr",
     "output_type": "stream",
     "text": [
      "16:24:42 | INFO | End     0 step; propagated    0.012 [fs]; AVG Krylov iteration: 5.93\n",
      "16:25:14 | INFO | End    99 step; propagated    1.197 [fs]; AVG Krylov iteration: 5.86\n",
      "16:25:14 | INFO | End simulation and save wavefunction\n",
      "16:25:14 | INFO | Wave function is saved in wf_radicalpair_17.pkl\n",
      "16:25:14 | INFO | Wave function is saved in wf_radicalpair_24.pkl\n",
      "16:25:14 | INFO | Start initial step    0.000 [fs]\n"
     ]
    },
    {
     "data": {
      "application/vnd.jupyter.widget-view+json": {
       "model_id": "a64907cb62e9420bb5d5d1dc279ee294",
       "version_major": 2,
       "version_minor": 0
      },
      "text/plain": [
       "  0%|          | 0/100 [00:00<?, ?it/s]"
      ]
     },
     "metadata": {},
     "output_type": "display_data"
    },
    {
     "name": "stderr",
     "output_type": "stream",
     "text": [
      "16:25:15 | INFO | End     0 step; propagated    0.012 [fs]; AVG Krylov iteration: 5.93\n",
      "16:25:15 | INFO | End    99 step; propagated    1.197 [fs]; AVG Krylov iteration: 5.61\n",
      "16:25:15 | INFO | End simulation and save wavefunction\n",
      "16:25:15 | INFO | Wave function is saved in wf_radicalpair_18.pkl\n",
      "16:25:15 | INFO | Wave function is saved in wf_radicalpair_25.pkl\n",
      "16:25:15 | INFO | Start initial step    0.000 [fs]\n"
     ]
    },
    {
     "data": {
      "application/vnd.jupyter.widget-view+json": {
       "model_id": "5f9714ce98df4abf8b5e7058e71705c0",
       "version_major": 2,
       "version_minor": 0
      },
      "text/plain": [
       "  0%|          | 0/100 [00:00<?, ?it/s]"
      ]
     },
     "metadata": {},
     "output_type": "display_data"
    },
    {
     "name": "stderr",
     "output_type": "stream",
     "text": [
      "16:25:15 | INFO | End     0 step; propagated    0.012 [fs]; AVG Krylov iteration: 5.93\n",
      "16:25:16 | INFO | End    99 step; propagated    1.197 [fs]; AVG Krylov iteration: 6.07\n",
      "16:25:16 | INFO | End simulation and save wavefunction\n",
      "16:25:16 | INFO | Wave function is saved in wf_radicalpair_16.pkl\n",
      "16:25:16 | INFO | Wave function is saved in wf_radicalpair_26.pkl\n",
      "16:25:16 | INFO | Start initial step    0.000 [fs]\n"
     ]
    },
    {
     "data": {
      "application/vnd.jupyter.widget-view+json": {
       "model_id": "f32c6d0f1eed4c32bb9ccccccf120bda",
       "version_major": 2,
       "version_minor": 0
      },
      "text/plain": [
       "  0%|          | 0/100 [00:00<?, ?it/s]"
      ]
     },
     "metadata": {},
     "output_type": "display_data"
    },
    {
     "name": "stderr",
     "output_type": "stream",
     "text": [
      "16:25:16 | INFO | End    99 step; propagated    1.197 [fs]; AVG Krylov iteration: 5.82\n",
      "16:25:16 | INFO | End simulation and save wavefunction\n",
      "16:25:16 | INFO | Wave function is saved in wf_radicalpair_21.pkl\n",
      "16:25:16 | INFO | Wave function is saved in wf_radicalpair_27.pkl\n",
      "16:25:16 | INFO | Start initial step    0.000 [fs]\n"
     ]
    },
    {
     "data": {
      "application/vnd.jupyter.widget-view+json": {
       "model_id": "899aa66623ac40968b40de1a14a56c93",
       "version_major": 2,
       "version_minor": 0
      },
      "text/plain": [
       "  0%|          | 0/100 [00:00<?, ?it/s]"
      ]
     },
     "metadata": {},
     "output_type": "display_data"
    },
    {
     "name": "stderr",
     "output_type": "stream",
     "text": [
      "16:25:17 | INFO | End     0 step; propagated    0.012 [fs]; AVG Krylov iteration: 5.93\n",
      "16:25:17 | INFO | End     0 step; propagated    0.012 [fs]; AVG Krylov iteration: 6.00\n",
      "16:25:17 | INFO | End    99 step; propagated    1.197 [fs]; AVG Krylov iteration: 5.93\n",
      "16:25:17 | INFO | End simulation and save wavefunction\n",
      "16:25:18 | INFO | End    99 step; propagated    1.197 [fs]; AVG Krylov iteration: 6.00\n",
      "16:25:18 | INFO | End simulation and save wavefunction\n",
      "16:25:18 | INFO | Wave function is saved in wf_radicalpair_22.pkl\n",
      "16:25:18 | INFO | Wave function is saved in wf_radicalpair_20.pkl\n",
      "16:25:18 | INFO | Wave function is saved in wf_radicalpair_28.pkl\n",
      "16:25:18 | INFO | Start initial step    0.000 [fs]\n",
      "16:25:18 | INFO | Wave function is saved in wf_radicalpair_29.pkl\n",
      "16:25:18 | INFO | Start initial step    0.000 [fs]\n"
     ]
    },
    {
     "data": {
      "application/vnd.jupyter.widget-view+json": {
       "model_id": "6aaee93140e449fc8aa55d1c663aca08",
       "version_major": 2,
       "version_minor": 0
      },
      "text/plain": [
       "  0%|          | 0/100 [00:00<?, ?it/s]"
      ]
     },
     "metadata": {},
     "output_type": "display_data"
    },
    {
     "data": {
      "application/vnd.jupyter.widget-view+json": {
       "model_id": "9788e5a93ac3457eb3df6684d67339b7",
       "version_major": 2,
       "version_minor": 0
      },
      "text/plain": [
       "  0%|          | 0/100 [00:00<?, ?it/s]"
      ]
     },
     "metadata": {},
     "output_type": "display_data"
    },
    {
     "name": "stderr",
     "output_type": "stream",
     "text": [
      "16:25:18 | INFO | End     0 step; propagated    0.012 [fs]; AVG Krylov iteration: 5.93\n",
      "16:25:18 | INFO | End     0 step; propagated    0.012 [fs]; AVG Krylov iteration: 6.04\n",
      "16:25:18 | INFO | End    99 step; propagated    1.197 [fs]; AVG Krylov iteration: 6.18\n",
      "16:25:18 | INFO | End simulation and save wavefunction\n",
      "16:25:18 | INFO | Wave function is saved in wf_radicalpair_19.pkl\n",
      "16:25:19 | INFO | Wave function is saved in wf_radicalpair_30.pkl\n",
      "16:25:19 | INFO | Start initial step    0.000 [fs]\n"
     ]
    },
    {
     "data": {
      "application/vnd.jupyter.widget-view+json": {
       "model_id": "38bffac762654380b156f9f5d70f1e59",
       "version_major": 2,
       "version_minor": 0
      },
      "text/plain": [
       "  0%|          | 0/100 [00:00<?, ?it/s]"
      ]
     },
     "metadata": {},
     "output_type": "display_data"
    },
    {
     "name": "stderr",
     "output_type": "stream",
     "text": [
      "16:25:19 | INFO | End     0 step; propagated    0.012 [fs]; AVG Krylov iteration: 5.93\n",
      "16:25:19 | INFO | End    99 step; propagated    1.197 [fs]; AVG Krylov iteration: 5.93\n",
      "16:25:19 | INFO | End simulation and save wavefunction\n",
      "16:25:20 | INFO | Wave function is saved in wf_radicalpair_23.pkl\n",
      "16:25:20 | INFO | Wave function is saved in wf_radicalpair_31.pkl\n",
      "16:25:20 | INFO | Start initial step    0.000 [fs]\n"
     ]
    },
    {
     "data": {
      "application/vnd.jupyter.widget-view+json": {
       "model_id": "b67dcb5648af4c078a2c5b5e4a8f5917",
       "version_major": 2,
       "version_minor": 0
      },
      "text/plain": [
       "  0%|          | 0/100 [00:00<?, ?it/s]"
      ]
     },
     "metadata": {},
     "output_type": "display_data"
    },
    {
     "name": "stderr",
     "output_type": "stream",
     "text": [
      "16:25:20 | INFO | End     0 step; propagated    0.012 [fs]; AVG Krylov iteration: 6.79\n"
     ]
    },
    {
     "name": "stdout",
     "output_type": "stream",
     "text": [
      "\n",
      "Cancelling active tasks...\n"
     ]
    },
    {
     "name": "stderr",
     "output_type": "stream",
     "text": [
      "Exception ignored in: Process ForkProcess-1:\n",
      "Exception ignored in: Exception ignored in: Exception ignored in: Exception ignored in: Exception ignored in: Exception ignored in: <generator object tqdm.__iter__ at 0x7f240ec2fe20><generator object tqdm_notebook.__iter__ at 0x7f23b8ed6420>\n",
      "<generator object tqdm_notebook.__iter__ at 0x7f23b96ca960><generator object tqdm.__iter__ at 0x7f240ec2fe20><generator object tqdm.__iter__ at 0x7f23fdc10160>\n",
      "Traceback (most recent call last):\n",
      "\n",
      "\n",
      "<generator object tqdm.__iter__ at 0x7f240ec2fe20>  File \"/home/hinom/GitHub/PyTDSCF-dev/.venv/lib/python3.12/site-packages/tqdm/notebook.py\", line 255, in __iter__\n",
      "<generator object tqdm_notebook.__iter__ at 0x7f23b8ec4ba0>\n",
      "Traceback (most recent call last):\n",
      "\n",
      "    Traceback (most recent call last):\n",
      "Traceback (most recent call last):\n",
      "Traceback (most recent call last):\n",
      "self.disp(bar_style='danger')  File \"/home/hinom/GitHub/PyTDSCF-dev/.venv/lib/python3.12/site-packages/tqdm/std.py\", line 1196, in __iter__\n",
      "\n",
      "Traceback (most recent call last):\n",
      "Traceback (most recent call last):\n",
      "  File \"/home/hinom/GitHub/PyTDSCF-dev/.venv/lib/python3.12/site-packages/tqdm/notebook.py\", line 255, in __iter__\n",
      "  File \"/home/hinom/GitHub/PyTDSCF-dev/.venv/lib/python3.12/site-packages/tqdm/std.py\", line 1196, in __iter__\n",
      "      File \"/home/hinom/GitHub/PyTDSCF-dev/.venv/lib/python3.12/site-packages/tqdm/notebook.py\", line 255, in __iter__\n",
      "Traceback (most recent call last):\n",
      "  File \"/home/hinom/.local/share/uv/python/cpython-3.12.2-linux-x86_64-gnu/lib/python3.12/multiprocessing/process.py\", line 314, in _bootstrap\n",
      "    self.run()\n",
      "    \n",
      "  File \"/home/hinom/GitHub/PyTDSCF-dev/.venv/lib/python3.12/site-packages/tqdm/std.py\", line 1196, in __iter__\n",
      "self.disp(bar_style='danger')    self.close()  File \"/home/hinom/.local/share/uv/python/cpython-3.12.2-linux-x86_64-gnu/lib/python3.12/multiprocessing/process.py\", line 108, in run\n",
      "    self._target(*self._args, **self._kwargs)\n",
      "  File \"/home/hinom/GitHub/PyTDSCF-dev/.venv/lib/python3.12/site-packages/tqdm/std.py\", line 1196, in __iter__\n",
      "        self.close()\n",
      "    self.close()  File \"/home/hinom/.local/share/uv/python/cpython-3.12.2-linux-x86_64-gnu/lib/python3.12/concurrent/futures/process.py\", line 251, in _process_worker\n",
      "    call_item = call_queue.get(block=True)\n",
      "                ^^^^^^^^^^^^^^^^^^^^^^^^^^\n",
      "  File \"/home/hinom/GitHub/PyTDSCF-dev/.venv/lib/python3.12/site-packages/tqdm/notebook.py\", line 178, in display\n",
      "\n",
      "  File \"/home/hinom/GitHub/PyTDSCF-dev/.venv/lib/python3.12/site-packages/tqdm/notebook.py\", line 275, in close\n",
      "  File \"/home/hinom/.local/share/uv/python/cpython-3.12.2-linux-x86_64-gnu/lib/python3.12/multiprocessing/queues.py\", line 103, in get\n",
      "    res = self._recv_bytes()\n",
      "          ^^^^^^^^^^^^^^^^^^\n",
      "\n",
      "self.disp(bar_style='danger')    \n",
      "self.close()      File \"/home/hinom/.local/share/uv/python/cpython-3.12.2-linux-x86_64-gnu/lib/python3.12/multiprocessing/connection.py\", line 216, in recv_bytes\n",
      "    buf = self._recv_bytes(maxlength)\n",
      "          ^^^^^^^^^^^^^^^^^^^^^^^^^^^\n",
      "  File \"/home/hinom/GitHub/PyTDSCF-dev/.venv/lib/python3.12/site-packages/tqdm/notebook.py\", line 275, in close\n",
      "\n",
      "\n",
      "    pbar.bar_style = bar_stylesuper().close()  File \"/home/hinom/GitHub/PyTDSCF-dev/.venv/lib/python3.12/site-packages/tqdm/notebook.py\", line 275, in close\n",
      "      File \"/home/hinom/GitHub/PyTDSCF-dev/.venv/lib/python3.12/site-packages/tqdm/notebook.py\", line 275, in close\n",
      "super().close()  File \"/home/hinom/GitHub/PyTDSCF-dev/.venv/lib/python3.12/site-packages/tqdm/notebook.py\", line 171, in display\n",
      "  File \"/home/hinom/.local/share/uv/python/cpython-3.12.2-linux-x86_64-gnu/lib/python3.12/multiprocessing/connection.py\", line 430, in _recv_bytes\n",
      "    buf = self._recv(4)\n",
      "          ^^^^^^^^^^^^^\n",
      "      File \"/home/hinom/GitHub/PyTDSCF-dev/.venv/lib/python3.12/site-packages/tqdm/notebook.py\", line 171, in display\n",
      "\n",
      "\n",
      "      File \"/home/hinom/GitHub/PyTDSCF-dev/.venv/lib/python3.12/site-packages/tqdm/std.py\", line 1275, in close\n",
      "super().close()    rtext.value = right    \n",
      "\n",
      "super().close()\n",
      "  File \"/home/hinom/GitHub/PyTDSCF-dev/.venv/lib/python3.12/site-packages/tqdm/std.py\", line 1275, in close\n",
      "self._decr_instances(self)  File \"/home/hinom/GitHub/PyTDSCF-dev/.venv/lib/python3.12/site-packages/tqdm/std.py\", line 1275, in close\n",
      "\n",
      "    self._decr_instances(self)rtext.value = right    \n",
      "  \n",
      "  File \"/home/hinom/.local/share/uv/python/cpython-3.12.2-linux-x86_64-gnu/lib/python3.12/multiprocessing/connection.py\", line 395, in _recv\n",
      "    chunk = read(handle, remaining)\n",
      "            ^^^^^^^^^^^^^^^^^^^^^^^\n",
      "\n",
      "  File \"/home/hinom/GitHub/PyTDSCF-dev/.venv/lib/python3.12/site-packages/tqdm/std.py\", line 1275, in close\n",
      "self._decr_instances(self) \n",
      "KeyboardInterrupt\n",
      "  File \"/home/hinom/GitHub/PyTDSCF-dev/.venv/lib/python3.12/site-packages/tqdm/std.py\", line 696, in _decr_instances\n",
      "  File \"/home/hinom/GitHub/PyTDSCF-dev/.venv/lib/python3.12/site-packages/tqdm/std.py\", line 696, in _decr_instances\n",
      "    "
     ]
    },
    {
     "ename": "KeyboardInterrupt",
     "evalue": "",
     "output_type": "error",
     "traceback": [
      "\u001b[31m---------------------------------------------------------------------------\u001b[39m",
      "\u001b[31mKeyboardInterrupt\u001b[39m                         Traceback (most recent call last)",
      "\u001b[36mCell\u001b[39m\u001b[36m \u001b[39m\u001b[32mIn[20]\u001b[39m\u001b[32m, line 20\u001b[39m\n\u001b[32m     19\u001b[39m \u001b[38;5;66;03m# Wait for at least one job to complete\u001b[39;00m\n\u001b[32m---> \u001b[39m\u001b[32m20\u001b[39m done, not_done = \u001b[43mconcurrent\u001b[49m\u001b[43m.\u001b[49m\u001b[43mfutures\u001b[49m\u001b[43m.\u001b[49m\u001b[43mwait\u001b[49m\u001b[43m(\u001b[49m\n\u001b[32m     21\u001b[39m \u001b[43m    \u001b[49m\u001b[43m[\u001b[49m\u001b[43mf\u001b[49m\u001b[43m \u001b[49m\u001b[38;5;28;43;01mfor\u001b[39;49;00m\u001b[43m \u001b[49m\u001b[43mf\u001b[49m\u001b[43m,\u001b[49m\u001b[43m \u001b[49m\u001b[43m_\u001b[49m\u001b[43m \u001b[49m\u001b[38;5;129;43;01min\u001b[39;49;00m\u001b[43m \u001b[49m\u001b[43mactive_futures\u001b[49m\u001b[43m]\u001b[49m\u001b[43m,\u001b[49m\n\u001b[32m     22\u001b[39m \u001b[43m    \u001b[49m\u001b[43mreturn_when\u001b[49m\u001b[43m=\u001b[49m\u001b[43mconcurrent\u001b[49m\u001b[43m.\u001b[49m\u001b[43mfutures\u001b[49m\u001b[43m.\u001b[49m\u001b[43mFIRST_COMPLETED\u001b[49m\u001b[43m,\u001b[49m\n\u001b[32m     23\u001b[39m \u001b[43m\u001b[49m\u001b[43m)\u001b[49m\n\u001b[32m     25\u001b[39m \u001b[38;5;66;03m# Process completed jobs\u001b[39;00m\n",
      "\u001b[36mFile \u001b[39m\u001b[32m~/.local/share/uv/python/cpython-3.12.2-linux-x86_64-gnu/lib/python3.12/concurrent/futures/_base.py:305\u001b[39m, in \u001b[36mwait\u001b[39m\u001b[34m(fs, timeout, return_when)\u001b[39m\n\u001b[32m    303\u001b[39m     waiter = _create_and_install_waiters(fs, return_when)\n\u001b[32m--> \u001b[39m\u001b[32m305\u001b[39m \u001b[43mwaiter\u001b[49m\u001b[43m.\u001b[49m\u001b[43mevent\u001b[49m\u001b[43m.\u001b[49m\u001b[43mwait\u001b[49m\u001b[43m(\u001b[49m\u001b[43mtimeout\u001b[49m\u001b[43m)\u001b[49m\n\u001b[32m    306\u001b[39m \u001b[38;5;28;01mfor\u001b[39;00m f \u001b[38;5;129;01min\u001b[39;00m fs:\n",
      "\u001b[36mFile \u001b[39m\u001b[32m~/.local/share/uv/python/cpython-3.12.2-linux-x86_64-gnu/lib/python3.12/threading.py:655\u001b[39m, in \u001b[36mEvent.wait\u001b[39m\u001b[34m(self, timeout)\u001b[39m\n\u001b[32m    654\u001b[39m \u001b[38;5;28;01mif\u001b[39;00m \u001b[38;5;129;01mnot\u001b[39;00m signaled:\n\u001b[32m--> \u001b[39m\u001b[32m655\u001b[39m     signaled = \u001b[38;5;28;43mself\u001b[39;49m\u001b[43m.\u001b[49m\u001b[43m_cond\u001b[49m\u001b[43m.\u001b[49m\u001b[43mwait\u001b[49m\u001b[43m(\u001b[49m\u001b[43mtimeout\u001b[49m\u001b[43m)\u001b[49m\n\u001b[32m    656\u001b[39m \u001b[38;5;28;01mreturn\u001b[39;00m signaled\n",
      "\u001b[36mFile \u001b[39m\u001b[32m~/.local/share/uv/python/cpython-3.12.2-linux-x86_64-gnu/lib/python3.12/threading.py:355\u001b[39m, in \u001b[36mCondition.wait\u001b[39m\u001b[34m(self, timeout)\u001b[39m\n\u001b[32m    354\u001b[39m \u001b[38;5;28;01mif\u001b[39;00m timeout \u001b[38;5;129;01mis\u001b[39;00m \u001b[38;5;28;01mNone\u001b[39;00m:\n\u001b[32m--> \u001b[39m\u001b[32m355\u001b[39m     \u001b[43mwaiter\u001b[49m\u001b[43m.\u001b[49m\u001b[43macquire\u001b[49m\u001b[43m(\u001b[49m\u001b[43m)\u001b[49m\n\u001b[32m    356\u001b[39m     gotit = \u001b[38;5;28;01mTrue\u001b[39;00m\n",
      "\u001b[31mKeyboardInterrupt\u001b[39m: ",
      "\nDuring handling of the above exception, another exception occurred:\n",
      "\u001b[31mKeyboardInterrupt\u001b[39m                         Traceback (most recent call last)",
      "\u001b[36mCell\u001b[39m\u001b[36m \u001b[39m\u001b[32mIn[20]\u001b[39m\u001b[32m, line 48\u001b[39m\n\u001b[32m     46\u001b[39m         future.cancel()\n\u001b[32m     47\u001b[39m     executor.shutdown(wait=\u001b[38;5;28;01mFalse\u001b[39;00m)\n\u001b[32m---> \u001b[39m\u001b[32m48\u001b[39m     \u001b[43mpbar\u001b[49m\u001b[43m.\u001b[49m\u001b[43mclose\u001b[49m\u001b[43m(\u001b[49m\u001b[43m)\u001b[49m\n\u001b[32m     49\u001b[39m     \u001b[38;5;28;01mraise\u001b[39;00m\n\u001b[32m     51\u001b[39m pbar.close()\n",
      "\u001b[36mFile \u001b[39m\u001b[32m~/GitHub/PyTDSCF-dev/.venv/lib/python3.12/site-packages/tqdm/notebook.py:275\u001b[39m, in \u001b[36mtqdm_notebook.close\u001b[39m\u001b[34m(self)\u001b[39m\n\u001b[32m    273\u001b[39m \u001b[38;5;28;01mif\u001b[39;00m \u001b[38;5;28mself\u001b[39m.disable:\n\u001b[32m    274\u001b[39m     \u001b[38;5;28;01mreturn\u001b[39;00m\n\u001b[32m--> \u001b[39m\u001b[32m275\u001b[39m \u001b[38;5;28;43msuper\u001b[39;49m\u001b[43m(\u001b[49m\u001b[43m)\u001b[49m\u001b[43m.\u001b[49m\u001b[43mclose\u001b[49m\u001b[43m(\u001b[49m\u001b[43m)\u001b[49m\n\u001b[32m    276\u001b[39m \u001b[38;5;66;03m# Try to detect if there was an error or KeyboardInterrupt\u001b[39;00m\n\u001b[32m    277\u001b[39m \u001b[38;5;66;03m# in manual mode: if n < total, things probably got wrong\u001b[39;00m\n\u001b[32m    278\u001b[39m \u001b[38;5;28;01mif\u001b[39;00m \u001b[38;5;28mself\u001b[39m.total \u001b[38;5;129;01mand\u001b[39;00m \u001b[38;5;28mself\u001b[39m.n < \u001b[38;5;28mself\u001b[39m.total:\n",
      "\u001b[36mFile \u001b[39m\u001b[32m~/GitHub/PyTDSCF-dev/.venv/lib/python3.12/site-packages/tqdm/std.py:1275\u001b[39m, in \u001b[36mtqdm.close\u001b[39m\u001b[34m(self)\u001b[39m\n\u001b[32m   1273\u001b[39m \u001b[38;5;66;03m# decrement instance pos and remove from internal set\u001b[39;00m\n\u001b[32m   1274\u001b[39m pos = \u001b[38;5;28mabs\u001b[39m(\u001b[38;5;28mself\u001b[39m.pos)\n\u001b[32m-> \u001b[39m\u001b[32m1275\u001b[39m \u001b[38;5;28;43mself\u001b[39;49m\u001b[43m.\u001b[49m\u001b[43m_decr_instances\u001b[49m\u001b[43m(\u001b[49m\u001b[38;5;28;43mself\u001b[39;49m\u001b[43m)\u001b[49m\n\u001b[32m   1277\u001b[39m \u001b[38;5;28;01mif\u001b[39;00m \u001b[38;5;28mself\u001b[39m.last_print_t < \u001b[38;5;28mself\u001b[39m.start_t + \u001b[38;5;28mself\u001b[39m.delay:\n\u001b[32m   1278\u001b[39m     \u001b[38;5;66;03m# haven't ever displayed; nothing to clear\u001b[39;00m\n\u001b[32m   1279\u001b[39m     \u001b[38;5;28;01mreturn\u001b[39;00m\n",
      "\u001b[36mFile \u001b[39m\u001b[32m~/GitHub/PyTDSCF-dev/.venv/lib/python3.12/site-packages/tqdm/std.py:696\u001b[39m, in \u001b[36mtqdm._decr_instances\u001b[39m\u001b[34m(cls, instance)\u001b[39m\n\u001b[32m    686\u001b[39m \u001b[38;5;129m@classmethod\u001b[39m\n\u001b[32m    687\u001b[39m \u001b[38;5;28;01mdef\u001b[39;00m\u001b[38;5;250m \u001b[39m\u001b[34m_decr_instances\u001b[39m(\u001b[38;5;28mcls\u001b[39m, instance):\n\u001b[32m    688\u001b[39m \u001b[38;5;250m    \u001b[39m\u001b[33;03m\"\"\"\u001b[39;00m\n\u001b[32m    689\u001b[39m \u001b[33;03m    Remove from list and reposition another unfixed bar\u001b[39;00m\n\u001b[32m    690\u001b[39m \u001b[33;03m    to fill the new gap.\u001b[39;00m\n\u001b[32m   (...)\u001b[39m\u001b[32m    694\u001b[39m \u001b[33;03m    (tqdm<=4.44.1 moved ALL subsequent unfixed bars up.)\u001b[39;00m\n\u001b[32m    695\u001b[39m \u001b[33;03m    \"\"\"\u001b[39;00m\n\u001b[32m--> \u001b[39m\u001b[32m696\u001b[39m \u001b[43m    \u001b[49m\u001b[38;5;28;43;01mwith\u001b[39;49;00m\u001b[43m \u001b[49m\u001b[38;5;28;43mcls\u001b[39;49m\u001b[43m.\u001b[49m\u001b[43m_lock\u001b[49m\u001b[43m:\u001b[49m\n\u001b[32m    697\u001b[39m \u001b[43m        \u001b[49m\u001b[38;5;28;43;01mtry\u001b[39;49;00m\u001b[43m:\u001b[49m\n\u001b[32m    698\u001b[39m \u001b[43m            \u001b[49m\u001b[38;5;28;43mcls\u001b[39;49m\u001b[43m.\u001b[49m\u001b[43m_instances\u001b[49m\u001b[43m.\u001b[49m\u001b[43mremove\u001b[49m\u001b[43m(\u001b[49m\u001b[43minstance\u001b[49m\u001b[43m)\u001b[49m\n",
      "\u001b[36mFile \u001b[39m\u001b[32m~/GitHub/PyTDSCF-dev/.venv/lib/python3.12/site-packages/tqdm/std.py:111\u001b[39m, in \u001b[36mTqdmDefaultWriteLock.__enter__\u001b[39m\u001b[34m(self)\u001b[39m\n\u001b[32m    110\u001b[39m \u001b[38;5;28;01mdef\u001b[39;00m\u001b[38;5;250m \u001b[39m\u001b[34m__enter__\u001b[39m(\u001b[38;5;28mself\u001b[39m):\n\u001b[32m--> \u001b[39m\u001b[32m111\u001b[39m     \u001b[38;5;28;43mself\u001b[39;49m\u001b[43m.\u001b[49m\u001b[43macquire\u001b[49m\u001b[43m(\u001b[49m\u001b[43m)\u001b[49m\n",
      "\u001b[36mFile \u001b[39m\u001b[32m~/GitHub/PyTDSCF-dev/.venv/lib/python3.12/site-packages/tqdm/std.py:104\u001b[39m, in \u001b[36mTqdmDefaultWriteLock.acquire\u001b[39m\u001b[34m(self, *a, **k)\u001b[39m\n\u001b[32m    102\u001b[39m \u001b[38;5;28;01mdef\u001b[39;00m\u001b[38;5;250m \u001b[39m\u001b[34macquire\u001b[39m(\u001b[38;5;28mself\u001b[39m, *a, **k):\n\u001b[32m    103\u001b[39m     \u001b[38;5;28;01mfor\u001b[39;00m lock \u001b[38;5;129;01min\u001b[39;00m \u001b[38;5;28mself\u001b[39m.locks:\n\u001b[32m--> \u001b[39m\u001b[32m104\u001b[39m         \u001b[43mlock\u001b[49m\u001b[43m.\u001b[49m\u001b[43macquire\u001b[49m\u001b[43m(\u001b[49m\u001b[43m*\u001b[49m\u001b[43ma\u001b[49m\u001b[43m,\u001b[49m\u001b[43m \u001b[49m\u001b[43m*\u001b[49m\u001b[43m*\u001b[49m\u001b[43mk\u001b[49m\u001b[43m)\u001b[49m\n",
      "\u001b[31mKeyboardInterrupt\u001b[39m: "
     ]
    }
   ],
   "source": [
    "density_sums = []\n",
    "# execute `max_workers` process in parallel\n",
    "max_workers = 8\n",
    "with ProcessPoolExecutor(max_workers=max_workers) as executor:\n",
    "    try:\n",
    "        density_sum = None\n",
    "        active_futures = []\n",
    "        i = 0  # number of submitted jobs\n",
    "        j = 0  # number of finished jobs\n",
    "\n",
    "        pbar = tqdm(total=len(pairs), desc=\"Processing pairs\")\n",
    "        while i < len(pairs) or active_futures:\n",
    "            # Submit new jobs up to max_active\n",
    "            while len(active_futures) < max_workers and i < len(pairs):\n",
    "                future = executor.submit(process_pair, pairs[i], i, H)\n",
    "                active_futures.append((future, i))\n",
    "                i += 1\n",
    "\n",
    "            # Wait for at least one job to complete\n",
    "            done, not_done = concurrent.futures.wait(\n",
    "                [f for f, _ in active_futures],\n",
    "                return_when=concurrent.futures.FIRST_COMPLETED,\n",
    "            )\n",
    "\n",
    "            # Process completed jobs\n",
    "            remaining_futures = []\n",
    "            for future, job_i in active_futures:\n",
    "                if future in done:\n",
    "                    density_data, time_data = future.result()\n",
    "                    if density_sum is None:\n",
    "                        density_sum = density_data\n",
    "                    else:\n",
    "                        density_sum += density_data\n",
    "                    j += 1\n",
    "                    if is_mc and j >= 32 and j.bit_count() == 1:\n",
    "                        # when j in [4, 8, 16, ...] record result to estimate convergence of Monte Carlo\n",
    "                        density_sums.append(density_sum / j)\n",
    "                    pbar.update(1)\n",
    "                else:\n",
    "                    remaining_futures.append((future, job_i))\n",
    "            active_futures = remaining_futures\n",
    "\n",
    "    except KeyboardInterrupt:\n",
    "        print(\"\\nCancelling active tasks...\")\n",
    "        for future, _ in active_futures:\n",
    "            future.cancel()\n",
    "        executor.shutdown(wait=False)\n",
    "        pbar.close()\n",
    "        raise\n",
    "\n",
    "    pbar.close()"
   ]
  },
  {
   "cell_type": "code",
   "execution_count": null,
   "id": "46a3d799-0fe3-4fb5-91d1-ca716d1a8f85",
   "metadata": {},
   "outputs": [],
   "source": [
    "time_data_μs = time_data * SCALE * 1e06 / units.au_in_fs\n",
    "density_data = density_sum / len(pairs)"
   ]
  },
  {
   "cell_type": "code",
   "execution_count": null,
   "id": "8cad25ca-9c6a-436c-84b9-176920685566",
   "metadata": {},
   "outputs": [],
   "source": [
    "plt.clf()\n",
    "\n",
    "for i, (density_data, color) in enumerate(\n",
    "    zip(\n",
    "        density_sums,\n",
    "        plt.rcParams[\"axes.prop_cycle\"].by_key()[\"color\"],\n",
    "        strict=False,\n",
    "    )\n",
    "):\n",
    "    plt.plot(\n",
    "        time_data_μs,\n",
    "        density_data[:, 0, 0].real,\n",
    "        linewidth=1,\n",
    "        ls=\"dotted\",\n",
    "        color=color,\n",
    "        label=f\"T+ N={2 ** (i + 5)}\",\n",
    "    )\n",
    "    plt.plot(\n",
    "        time_data_μs,\n",
    "        density_data[:, 1, 1].real,\n",
    "        linewidth=1,\n",
    "        ls=\"dashed\",\n",
    "        color=color,\n",
    "        label=\"T0\",\n",
    "    )\n",
    "    plt.plot(\n",
    "        time_data_μs,\n",
    "        density_data[:, 2, 2].real,\n",
    "        linewidth=1,\n",
    "        ls=\"solid\",\n",
    "        color=color,\n",
    "        label=\"S\",\n",
    "    )\n",
    "    plt.plot(\n",
    "        time_data_μs,\n",
    "        density_data[:, 3, 3].real,\n",
    "        linewidth=1,\n",
    "        ls=\"dashdot\",\n",
    "        color=color,\n",
    "        label=\"T-\",\n",
    "    )\n",
    "plt.title(f\"MPS: {m=} {B0=} mT {J=} mT\")\n",
    "plt.legend(ncol=len(density_sums))\n",
    "plt.xlabel(\"Time [μs]\")\n",
    "plt.ylabel(\"Popultation\")\n",
    "plt.grid()\n",
    "plt.ylim([0, 1])\n",
    "plt.savefig(\"population.png\")\n",
    "plt.show()"
   ]
  },
  {
   "cell_type": "code",
   "execution_count": null,
   "id": "1a4b27c5-6026-4504-bc5f-2f94ecf5f6f0",
   "metadata": {},
   "outputs": [],
   "source": [
    "dt = time_data_μs[1] - time_data[0]\n",
    "k_s = 1e2  # 1/micro sec, typically 1.0~0.1\n",
    "phi_s = np.cumsum(\n",
    "    density_data[:, 2, 2].real * dt * k_s * np.exp(-k_s * time_data_μs)\n",
    ")\n",
    "\n",
    "plt.plot(time_data_μs, phi_s)\n",
    "plt.xlabel(\"Time [μs]\")\n",
    "plt.ylabel(r\"$\\Phi_S(t)=\\int_0^t dt \\langle P^S \\rangle(t) ke^{-kt} $\")\n",
    "plt.grid()\n",
    "plt.savefig(\"population.png\")\n",
    "plt.show()"
   ]
  },
  {
   "cell_type": "code",
   "execution_count": null,
   "id": "5499c2f5-d755-4c36-9019-65ae20b5f742",
   "metadata": {},
   "outputs": [],
   "source": [
    "# Note: spin coherent state sampling has slower convergence for off-diagnal term than projection state sampling\n",
    "fig, anim = get_anim(\n",
    "    density_data[::10, :, :],\n",
    "    time_data_μs[::10],\n",
    "    title=\"Reduced density matrix\",\n",
    "    time_unit=\"μs\",\n",
    "    save_gif=True,\n",
    "    dpi=30,\n",
    "    gif_filename=\"rdm-radical.gif\",\n",
    "    row_names=[\n",
    "        r\"$|T+\\rangle$\",\n",
    "        r\"$|T0\\rangle$\",\n",
    "        r\"$|S\\rangle$\",\n",
    "        r\"$|T-\\rangle$\",\n",
    "    ],\n",
    "    col_names=[\n",
    "        r\"$\\langle T+|$\",\n",
    "        r\"$\\langle T0|$\",\n",
    "        r\"$\\langle S|$\",\n",
    "        r\"$\\langle T-|$\",\n",
    "    ],\n",
    ")\n",
    "plt.show()\n",
    "HTML(anim.to_jshtml())"
   ]
  },
  {
   "cell_type": "markdown",
   "id": "e3e9d242-6f76-4604-b528-eeeb6a14f3b3",
   "metadata": {},
   "source": [
    "## Compare with RadicalPy simulation"
   ]
  },
  {
   "cell_type": "code",
   "execution_count": null,
   "id": "ef6c4aa4-86a1-44b2-97ff-a475858d1ff9",
   "metadata": {},
   "outputs": [],
   "source": [
    "if len(basis) < 8:\n",
    "    assert isinstance(D, np.ndarray)\n",
    "    H = sim.total_hamiltonian(B0=B0, D=D, J=J)\n",
    "    time = np.arange(0, 5e-8, 5e-10)\n",
    "    rhos = sim.time_evolution(State.SINGLET, time, H)\n",
    "    time_evol_s = sim.product_probability(State.SINGLET, rhos)\n",
    "    time_evol_tp = sim.product_probability(State.TRIPLET_PLUS, rhos)\n",
    "    time_evol_tz = sim.product_probability(State.TRIPLET_ZERO, rhos)\n",
    "    time_evol_tm = sim.product_probability(State.TRIPLET_MINUS, rhos)\n",
    "    x = time * 1e6\n",
    "\n",
    "    plt.plot(x, time_evol_tp, linewidth=2, label=\"T+\")\n",
    "    plt.plot(x, time_evol_tz, linewidth=2, label=\"T0\")\n",
    "    plt.plot(x, time_evol_s, linewidth=2, label=\"S\")\n",
    "    plt.plot(x, time_evol_tm, linewidth=2, label=\"T-\")\n",
    "    plt.legend()\n",
    "    plt.title(f\"RadicalPy: Density Matrix Approach {B0=}, {J=}\")\n",
    "    plt.xlabel(r\"Time ($\\mu s$)\")\n",
    "    plt.ylabel(\"Probability\")\n",
    "    plt.ylim([0, 1])\n",
    "    plt.show()"
   ]
  },
  {
   "cell_type": "code",
   "execution_count": null,
   "id": "bb8dc86e-4706-4c93-aa12-fbfcf5696c80",
   "metadata": {},
   "outputs": [],
   "source": [
    "if len(basis) < 6:\n",
    "    fig, anim = get_anim(\n",
    "        rhos[::, :, :],\n",
    "        x[::],\n",
    "        title=\"Full density matrix\",\n",
    "        time_unit=\"μs\",\n",
    "        dpi=30,\n",
    "    )\n",
    "    plt.show()\n",
    "    display(HTML(anim.to_jshtml()))\n",
    "elif len(basis) < 8:\n",
    "    red_rhos = np.einsum(\n",
    "        \"tikjk->tij\",\n",
    "        rhos.reshape(\n",
    "            rhos.shape[0], 4, rhos.shape[1] // 4, 4, rhos.shape[2] // 4\n",
    "        ),\n",
    "    )\n",
    "    fig, anim = get_anim(\n",
    "        red_rhos[::20, :, :],\n",
    "        x[::20],\n",
    "        title=\"Reduced density matrix\",\n",
    "        time_unit=\"μs\",\n",
    "        dpi=30,\n",
    "    )\n",
    "    plt.show()\n",
    "    display(HTML(anim.to_jshtml()))"
   ]
  },
  {
   "cell_type": "code",
   "execution_count": null,
   "id": "efadd68e-2b39-40dc-9322-cc2e02dec2fa",
   "metadata": {},
   "outputs": [],
   "source": [
    "# Clean files\n",
    "!rm -rf radicalpair_*_prop\n",
    "!rm -f wf_radicalpair_*.pkl"
   ]
  }
 ],
 "metadata": {
  "kernelspec": {
   "display_name": "Python 3 (ipykernel)",
   "language": "python",
   "name": "python3"
  },
  "language_info": {
   "codemirror_mode": {
    "name": "ipython",
    "version": 3
   },
   "file_extension": ".py",
   "mimetype": "text/x-python",
   "name": "python",
   "nbconvert_exporter": "python",
   "pygments_lexer": "ipython3",
   "version": "3.12.2"
  }
 },
 "nbformat": 4,
 "nbformat_minor": 5
}
