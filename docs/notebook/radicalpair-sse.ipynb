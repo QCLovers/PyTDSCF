{
 "cells": [
  {
   "cell_type": "markdown",
   "id": "4162ec45-9d55-4031-976a-32ea17a46507",
   "metadata": {},
   "source": [
    "# Example 14 Electron and nuclear spin mixed state dynamics with [RadicalPy](https://github.com/Spin-Chemistry-Labs/radicalpy)\n",
    "\n",
    "In this tutorial, one constructs MPO of radical pair system (two electron spins and a couple of nuclear spins under magnetic field) by using RadicalPy library."
   ]
  },
  {
   "cell_type": "markdown",
   "id": "a02389a0-5951-4c4d-b3e2-926dc2246046",
   "metadata": {},
   "source": [
    "For parallelization number of threads should be set before importing any packages"
   ]
  },
  {
   "cell_type": "code",
   "execution_count": 1,
   "id": "4a042a13-1167-48e0-b0f5-f70bdc27cbc5",
   "metadata": {},
   "outputs": [],
   "source": [
    "import multiprocessing as mp\n",
    "\n",
    "mp.set_start_method(\"fork\", force=True)\n",
    "# <-- Spawn (Mac OS default) does not work.\n",
    "# If you want, change code to adopt main() block and separate process_pair() from main()\n",
    "\n",
    "nthreads = 1\n",
    "import os\n",
    "\n",
    "os.environ[\"OMP_NUM_THREADS\"] = f\"{nthreads}\"\n",
    "os.environ[\"OPENBLAS_NUM_THREADS\"] = f\"{nthreads}\"\n",
    "os.environ[\"MKL_NUM_THREADS\"] = f\"{nthreads}\"\n",
    "os.environ[\"VECLIB_MAXIMUM_THREADS\"] = f\"{nthreads}\"\n",
    "os.environ[\"NUMEXPR_NUM_THREADS\"] = f\"{nthreads}\""
   ]
  },
  {
   "cell_type": "markdown",
   "id": "7ea428f9-dbb6-4a96-a8a8-57fd7ebf7b40",
   "metadata": {},
   "source": [
    "Import required modules"
   ]
  },
  {
   "cell_type": "code",
   "execution_count": 2,
   "id": "f0af061c-5932-451b-a519-cf8a987e72fc",
   "metadata": {},
   "outputs": [
    {
     "name": "stdout",
     "output_type": "stream",
     "text": [
      "\u001b[2mUsing Python 3.12.2 environment at: /home/hinom/GitHub/PyTDSCF/.venv\u001b[0m\n",
      "Name: radicalpy\n",
      "Version: 0.8.1\n",
      "Location: /home/hinom/GitHub/PyTDSCF/.venv/lib/python3.12/site-packages\n",
      "Requires: dot2tex, graphviz, importlib-resources, matplotlib, numpy, pint, scikit-learn, scipy, seaborn, sympy, tqdm\n",
      "Required-by:\n"
     ]
    }
   ],
   "source": [
    "try:\n",
    "    import radicalpy\n",
    "except ModuleNotFoundError:\n",
    "    # remove uv if you are not using uv\n",
    "    !uv pip install radicalpy --quiet\n",
    "\n",
    "!uv pip show radicalpy"
   ]
  },
  {
   "cell_type": "code",
   "execution_count": 3,
   "id": "85574e64-c594-4ba8-a482-6446e3071f17",
   "metadata": {},
   "outputs": [],
   "source": [
    "import concurrent.futures\n",
    "import time\n",
    "from concurrent.futures import ProcessPoolExecutor\n",
    "\n",
    "import matplotlib.pyplot as plt\n",
    "import netCDF4 as nc\n",
    "import numpy as np\n",
    "import radicalpy as rp\n",
    "from IPython.display import HTML\n",
    "from pympo import (\n",
    "    AssignManager,\n",
    "    OpSite,\n",
    "    SumOfProducts,\n",
    ")\n",
    "from radicalpy.simulation import State\n",
    "from scipy.linalg import expm\n",
    "from scipy.stats import qmc\n",
    "from sympy import Symbol\n",
    "from tqdm.auto import tqdm\n",
    "\n",
    "from pytdscf import BasInfo, Exciton, Model, Simulator, units\n",
    "from pytdscf.dvr_operator_cls import TensorOperator\n",
    "from pytdscf.hamiltonian_cls import TensorHamiltonian\n",
    "from pytdscf.util.anim_density_matrix import get_anim"
   ]
  },
  {
   "cell_type": "markdown",
   "id": "84eaac2e-bada-443f-bbdc-8a4df63f1a70",
   "metadata": {},
   "source": [
    "## Total Hamiltonian\n",
    "$$\n",
    "\\hat{H}_{\\text{total}} =\n",
    "\\hat{H}_{\\text{Z}} + \\hat{H}_{\\text{H}} + \\hat{H}_{\\text{J}} + \\hat{H}_{\\text{D}}    \n",
    "$$"
   ]
  },
  {
   "cell_type": "markdown",
   "id": "c28b08bc-2395-43ed-b8e5-ff7745df2e58",
   "metadata": {},
   "source": [
    "## Define systems"
   ]
  },
  {
   "cell_type": "markdown",
   "id": "e0829519-2f3d-4c14-8ba2-cae086e014d7",
   "metadata": {},
   "source": [
    "```py\n",
    "# You can use following block instead\n",
    "n_nuc_spins = 3 # In total, 3*2=6 nuclear spins + 2 electrons = 2^8 Hilbert space\n",
    "flavin = rp.simulation.Molecule.fromisotopes(\n",
    "    isotopes=[\"1H\"] * n_nuc_spins, hfcs=[0.4] * n_nuc_spins\n",
    ")\n",
    "Z = rp.simulation.Molecule.fromisotopes(\n",
    "    isotopes=[\"1H\"] * n_nuc_spins, hfcs=[0.5] * n_nuc_spins\n",
    ")\n",
    "sim = rp.simulation.HilbertSimulation([flavin, Z])\n",
    "\n",
    "# Parameters\n",
    "A = {} # mT\n",
    "isotropic = True\n",
    "\n",
    "# Isotropic\n",
    "for i in range(len(sim.radicals)):\n",
    "    for j, nuc in enumerate(sim.molecules[i].nuclei):\n",
    "        if isotropic:\n",
    "            A[(i, j)] = np.eye(3) * nuc.hfc.isotropic\n",
    "        else:\n",
    "            A[(i, j)] = nuc.hfc.anisotropic\n",
    "B0 = 0.2 # 2J\n",
    "B = np.array((0.0, 0.0, 1.0)) * B0 # mT\n",
    "J = 0.1 # Typically 1.0e+03 scale # mT\n",
    "\n",
    "D = 1.0 # mT\n",
    "\n",
    "if isinstance(D, float):\n",
    "    D = 2 / 3 * np.diag((-1.0, -1.0, 2.0)) * D *sim.radicals[0].gamma_mT\n",
    "sim\n",
    "```"
   ]
  },
  {
   "cell_type": "code",
   "execution_count": 4,
   "id": "47feba6a-1587-4678-9e7a-390a856200eb",
   "metadata": {},
   "outputs": [
    {
     "data": {
      "text/plain": [
       "Number of electrons: 2\n",
       "Number of nuclei: 27\n",
       "Number of particles: 29\n",
       "Multiplicities: [2, 2, 3, 3, 3, 2, 2, 2, 2, 2, 2, 2, 2, 2, 2, 2, 2, 3, 2, 3, 3, 2, 2, 2, 2, 2, 2, 2, 2]\n",
       "Magnetogyric ratios (mT): [-176085963.023, -176085963.023, 19337.792, 19337.792, 19337.792, 267522.18744, 267522.18744, 267522.18744, 267522.18744, 267522.18744, 267522.18744, 267522.18744, 267522.18744, 267522.18744, 267522.18744, 267522.18744, 267522.18744, 19337.792, 267522.18744, 19337.792, 19337.792, 267522.18744, 267522.18744, 267522.18744, 267522.18744, 267522.18744, 267522.18744, 267522.18744, 267522.18744]\n",
       "Nuclei: [14N(19337792.0, 3, 0.5141 <anisotropic available>), 14N(19337792.0, 3, -0.001275 <anisotropic available>), 14N(19337792.0, 3, -0.03654 <anisotropic available>), 1H(267522187.44, 2, 0.05075 <anisotropic available>), 1H(267522187.44, 2, -0.1371 <anisotropic available>), 1H(267522187.44, 2, -0.1371 <anisotropic available>), 1H(267522187.44, 2, -0.1371 <anisotropic available>), 1H(267522187.44, 2, -0.4403 <anisotropic available>), 1H(267522187.44, 2, 0.4546 <anisotropic available>), 1H(267522187.44, 2, 0.4546 <anisotropic available>), 1H(267522187.44, 2, 0.4546 <anisotropic available>), 1H(267522187.44, 2, 0.009597 <anisotropic available>), 1H(267522187.44, 2, 0.4263 <anisotropic available>), 1H(267522187.44, 2, 0.4233 <anisotropic available>), 1H(267522187.44, 2, -0.02004 <anisotropic available>), 14N(19337792.0, 3, 0.1784 <anisotropic available>), 1H(267522187.44, 2, 1.605 <anisotropic available>), 14N(19337792.0, 3, 0.3216 <anisotropic available>), 14N(19337792.0, 3, 0.1465 <anisotropic available>), 1H(267522187.44, 2, 0.04567 <anisotropic available>), 1H(267522187.44, 2, -0.03213 <anisotropic available>), 1H(267522187.44, 2, -0.04 <anisotropic available>), 1H(267522187.44, 2, -0.09307 <anisotropic available>), 1H(267522187.44, 2, -0.278 <anisotropic available>), 1H(267522187.44, 2, -0.3634 <anisotropic available>), 1H(267522187.44, 2, -0.4879 <anisotropic available>), 1H(267522187.44, 2, -0.5983 <anisotropic available>)]\n",
       "Couplings: [0, 0, 0, 0, 0, 0, 0, 0, 0, 0, 0, 0, 0, 0, 0, 0, 1, 1, 1, 1, 1, 1, 1, 1, 1, 1, 1]\n",
       "HFCs (mT): [0.5141 <anisotropic available>, -0.001275 <anisotropic available>, -0.03654 <anisotropic available>, 0.05075 <anisotropic available>, -0.1371 <anisotropic available>, -0.1371 <anisotropic available>, -0.1371 <anisotropic available>, -0.4403 <anisotropic available>, 0.4546 <anisotropic available>, 0.4546 <anisotropic available>, 0.4546 <anisotropic available>, 0.009597 <anisotropic available>, 0.4263 <anisotropic available>, 0.4233 <anisotropic available>, -0.02004 <anisotropic available>, 0.1784 <anisotropic available>, 1.605 <anisotropic available>, 0.3216 <anisotropic available>, 0.1465 <anisotropic available>, 0.04567 <anisotropic available>, -0.03213 <anisotropic available>, -0.04 <anisotropic available>, -0.09307 <anisotropic available>, -0.278 <anisotropic available>, -0.3634 <anisotropic available>, -0.4879 <anisotropic available>, -0.5983 <anisotropic available>]"
      ]
     },
     "execution_count": 4,
     "metadata": {},
     "output_type": "execute_result"
    }
   ],
   "source": [
    "flavin = rp.simulation.Molecule.all_nuclei(\"flavin_anion\")\n",
    "trp = rp.simulation.Molecule.all_nuclei(\"tryptophan_cation\")\n",
    "sim = rp.simulation.HilbertSimulation([flavin, trp])\n",
    "A = {}\n",
    "isotropic = False\n",
    "\n",
    "# Isotropic\n",
    "for i in range(len(sim.radicals)):\n",
    "    for j, nuc in enumerate(sim.molecules[i].nuclei):\n",
    "        if isotropic:\n",
    "            A[(i, j)] = np.eye(3) * nuc.hfc.isotropic\n",
    "        else:\n",
    "            A[(i, j)] = nuc.hfc.anisotropic\n",
    "B0 = 2.0  # Typically 0.01 mT~10 mT\n",
    "B = np.array((0.0, 0.0, 1.0)) * B0\n",
    "J = 0.1  # Typically 1.0e+03 scale\n",
    "\n",
    "D = (\n",
    "    np.array(\n",
    "        [[-0.225, 0.156, 0.198], [0.156, 0.117, -0.082], [0.198, -0.082, 0.107]]\n",
    "    )\n",
    "    * sim.radicals[0].gamma_mT\n",
    ")\n",
    "kS = 1.0e06  # Exponential model in s-1\n",
    "kT = 1.0e06\n",
    "if isinstance(D, float):\n",
    "    D = 2 / 3 * np.diag((-1.0, -1.0, 2.0)) * D * sim.radicals[0].gamma_mT\n",
    "\n",
    "sim"
   ]
  },
  {
   "cell_type": "markdown",
   "id": "fce6dc6c-5756-4207-b54d-c3c338d6b908",
   "metadata": {},
   "source": [
    "Now, one defines matrix product state (MPS) in the following order\n",
    "\n",
    "(nuclei in `flavin`) $\\to$ (electronic states $\\{|T_{+}\\rangle, |T_{0}\\rangle, |S\\rangle, |T_{-}\\rangle\\}$) $\\to$ (neclei in `Z`)"
   ]
  },
  {
   "cell_type": "markdown",
   "id": "6350e7ad-e801-4fdd-9a2d-0cee73b3b549",
   "metadata": {},
   "source": [
    "## Extract one particle operator\n",
    "\n",
    "RadicalPy provides variety of spin operators such as \n",
    "\n",
    "- $\\hat{s}_x, \\hat{s}_y, \\hat{s}_z$ for radical singlet-triplet basis\n",
    "- $\\hat{I}_x, \\hat{I}_y, \\hat{I}_z$ for nuclear Zeeman basis"
   ]
  },
  {
   "cell_type": "code",
   "execution_count": 5,
   "id": "a79a6209-e62c-4a58-beec-8d6f281f100b",
   "metadata": {},
   "outputs": [
    {
     "data": {
      "image/png": "[encoded data removed]",
      "text/plain": [
       "<Figure size 640x480 with 2 Axes>"
      ]
     },
     "metadata": {},
     "output_type": "display_data"
    }
   ],
   "source": [
    "# Clear nuclei temporally\n",
    "_nuclei_tmp0 = sim.molecules[0].nuclei\n",
    "_nuclei_tmp1 = sim.molecules[1].nuclei\n",
    "sim.molecules[0].nuclei = []\n",
    "sim.molecules[1].nuclei = []\n",
    "\n",
    "# for Singlet-Triplet basis\n",
    "sx_1 = sim.spin_operator(0, \"x\")\n",
    "sy_1 = sim.spin_operator(0, \"y\").imag  # <== Caution!\n",
    "sz_1 = sim.spin_operator(0, \"z\")\n",
    "sx_2 = sim.spin_operator(1, \"x\")\n",
    "sy_2 = sim.spin_operator(1, \"y\").imag  # <== Caution!\n",
    "sz_2 = sim.spin_operator(1, \"z\")\n",
    "\n",
    "Qs = sim.projection_operator(rp.simulation.State.SINGLET)\n",
    "Qt = sim.projection_operator(rp.simulation.State.TRIPLET)\n",
    "\n",
    "# Revert nuclei\n",
    "sim.molecules[0].nuclei = _nuclei_tmp0\n",
    "sim.molecules[1].nuclei = _nuclei_tmp1\n",
    "\n",
    "plt.imshow(\n",
    "    2 * (sx_1 @ sx_2 - sy_1 @ sy_2 + sz_1 @ sz_2).real\n",
    "    + 0.5 * np.eye(*sx_1.shape),\n",
    "    cmap=\"bwr\",\n",
    "    vmin=-1.0,\n",
    "    vmax=1.0,\n",
    ")\n",
    "plt.title(\n",
    "    r\"$2\\hat{S}_1\\cdot \\hat{S}_2 + \\frac{1}{2}\\hat{E}$ (Singlet Triplet basis)\"\n",
    ")\n",
    "plt.colorbar()\n",
    "plt.xticks(\n",
    "    [0, 1, 2, 3],\n",
    "    [r\"$|T_+\\rangle$\", r\"$|T_0\\rangle$\", r\"$|S\\rangle$\", r\"$|T_-\\rangle$\"],\n",
    ")\n",
    "plt.yticks(\n",
    "    [0, 1, 2, 3],\n",
    "    [\n",
    "        r\"$\\langle T_+|$\",\n",
    "        r\"$\\langle T_0 |$\",\n",
    "        r\"$\\langle S|$\",\n",
    "        r\"$\\langle T_- |$\",\n",
    "    ],\n",
    ")\n",
    "plt.show()"
   ]
  },
  {
   "cell_type": "markdown",
   "id": "ecf9d838-e0d2-4b7f-ac39-f42171907395",
   "metadata": {},
   "source": [
    "## Define `OpSite` and coefficients\n",
    "\n",
    "- RadicalPy uses Hz in energy unit but it is too large to keep numerical stabiltiy\n",
    "- Thus, one will use GHz in energy unit\n",
    "- For some reasons, extraction of imaginary unit of pauli y operator leads stable simulation for degenerate system (why??)"
   ]
  },
  {
   "cell_type": "code",
   "execution_count": 6,
   "id": "7589a1fc-8192-4178-859d-df868692e1a5",
   "metadata": {},
   "outputs": [],
   "source": [
    "SCALE = 1.0e-09\n",
    "gamma = [p.gamma_mT for p in sim.particles]\n",
    "\n",
    "g_ele_sym = [\n",
    "    Symbol(r\"\\gamma_e^{(\" + f\"{i + 1}\" + \")}\") for i in range(len(sim.radicals))\n",
    "]\n",
    "g_nuc_sym = {}\n",
    "for i in range(len(sim.radicals)):\n",
    "    for j in range(len(sim.molecules[i].nuclei)):\n",
    "        g_nuc_sym[(i, j)] = Symbol(r\"\\gamma_n^{\" + f\"{(i + 1, j + 1)}\" + \"}\")\n",
    "\n",
    "subs = {}\n",
    "for i, ge in enumerate(g_ele_sym):\n",
    "    subs[ge] = sim.radicals[i].gamma_mT\n",
    "for (i, j), gn in g_nuc_sym.items():\n",
    "    subs[gn] = sim.molecules[i].nuclei[j].gamma_mT"
   ]
  },
  {
   "cell_type": "markdown",
   "id": "83a89c40-3258-4315-b5c5-333b5e851171",
   "metadata": {},
   "source": [
    "Define radical spin operators"
   ]
  },
  {
   "cell_type": "code",
   "execution_count": 7,
   "id": "c4682c79-fc37-4e35-b171-7397d3ab03c7",
   "metadata": {},
   "outputs": [],
   "source": [
    "ele_site = len(sim.molecules[0].nuclei)\n",
    "\n",
    "Sx_ops = []\n",
    "Sy_ops = []\n",
    "Sz_ops = []\n",
    "\n",
    "S1S2_op = OpSite(\n",
    "    r\"\\hat{S}_1\\cdot\\hat{S}_2\",\n",
    "    ele_site,\n",
    "    value=(sx_1 @ sx_2 - sy_1 @ sy_2 + sz_1 @ sz_2).real,\n",
    ")\n",
    "E_op = OpSite(r\"\\hat{E}\", ele_site, value=np.eye(*sx_1.shape))\n",
    "\n",
    "Qs_op = OpSite(r\"\\hat{Q}_S\", ele_site, value=Qs)\n",
    "Qt_op = OpSite(r\"\\hat{Q}_T\", ele_site, value=Qt)\n",
    "\n",
    "Sx_ops.append(OpSite(r\"\\hat{S}_x^{(1)}\", ele_site, value=sx_1))\n",
    "Sy_ops.append(OpSite(r\"\\hat{S}_y^{(1)}\", ele_site, value=sy_1))\n",
    "Sz_ops.append(OpSite(r\"\\hat{S}_z^{(1)}\", ele_site, value=sz_1))\n",
    "Sx_ops.append(OpSite(r\"\\hat{S}_x^{(2)}\", ele_site, value=sx_2))\n",
    "Sy_ops.append(OpSite(r\"\\hat{S}_y^{(2)}\", ele_site, value=sy_2))\n",
    "Sz_ops.append(OpSite(r\"\\hat{S}_z^{(2)}\", ele_site, value=sz_2))\n",
    "\n",
    "Sr_ops = [Sx_ops, Sy_ops, Sz_ops]"
   ]
  },
  {
   "cell_type": "markdown",
   "id": "b7925d67-965d-446c-8edb-4827117d38db",
   "metadata": {},
   "source": [
    "Define nuclear spin operators"
   ]
  },
  {
   "cell_type": "code",
   "execution_count": 8,
   "id": "d6792f47-10e2-4119-bdbc-5265b39a5b44",
   "metadata": {},
   "outputs": [],
   "source": [
    "Ix_ops = {}\n",
    "Iy_ops = {}\n",
    "Iz_ops = {}\n",
    "\n",
    "for j, nuc in enumerate(sim.molecules[0].nuclei):\n",
    "    Ix_ops[(0, j)] = OpSite(\n",
    "        r\"\\hat{I}_x^{\" + f\"{(1, j + 1)}\" + \"}\", j, value=nuc.pauli[\"x\"]\n",
    "    )\n",
    "    Iy_ops[(0, j)] = OpSite(\n",
    "        r\"\\hat{I}_y^{\" + f\"{(1, j + 1)}\" + \"}\", j, value=nuc.pauli[\"y\"].imag\n",
    "    )\n",
    "    Iz_ops[(0, j)] = OpSite(\n",
    "        r\"\\hat{I}_z^{\" + f\"{(1, j + 1)}\" + \"}\", j, value=nuc.pauli[\"z\"]\n",
    "    )\n",
    "\n",
    "for j, nuc in enumerate(sim.molecules[1].nuclei):\n",
    "    Ix_ops[(1, j)] = OpSite(\n",
    "        r\"\\hat{I}_x^{\" + f\"{(2, j + 1)}\" + \"}\",\n",
    "        ele_site + 1 + j,\n",
    "        value=nuc.pauli[\"x\"],\n",
    "    )\n",
    "    Iy_ops[(1, j)] = OpSite(\n",
    "        r\"\\hat{I}_y^{\" + f\"{(2, j + 1)}\" + \"}\",\n",
    "        ele_site + 1 + j,\n",
    "        value=nuc.pauli[\"y\"].imag,\n",
    "    )\n",
    "    Iz_ops[(1, j)] = OpSite(\n",
    "        r\"\\hat{I}_z^{\" + f\"{(2, j + 1)}\" + \"}\",\n",
    "        ele_site + 1 + j,\n",
    "        value=nuc.pauli[\"z\"],\n",
    "    )\n",
    "\n",
    "Ir_ops = [Ix_ops, Iy_ops, Iz_ops]"
   ]
  },
  {
   "cell_type": "markdown",
   "id": "ff2c4f7d-35e6-4014-beed-85206ce06f82",
   "metadata": {},
   "source": [
    "## Hyperfine coupling Hamiltonian\n",
    "$$\n",
    "\\hat{H}_{\\text{H}} = \\sum_i \\sum_j \\hat{S}_i\\cdot A_{ij}\\cdot \\hat{I}_{ij}\n",
    "= \\sum_i \\sum_j \\sum_{r\\in\\{x, y, z\\}} A_{ij}\\hat{S}_{r}^{(i)}\\hat{I}_{r}^{(ij)}\n",
    "$$"
   ]
  },
  {
   "cell_type": "code",
   "execution_count": 9,
   "id": "7d6a0cc4-3412-4623-ac70-9115b65e0309",
   "metadata": {},
   "outputs": [],
   "source": [
    "hyperfine = SumOfProducts()\n",
    "\n",
    "xyz = \"xyz\"\n",
    "\n",
    "for i in range(len(sim.radicals)):\n",
    "    for j in range(len(sim.molecules[i].nuclei)):\n",
    "        for k, Sr_op in enumerate(Sr_ops):\n",
    "            for l, Ir_op in enumerate(Ir_ops):\n",
    "                if A[(i, j)][k, l] == 0.0:\n",
    "                    continue\n",
    "                Asym = Symbol(\n",
    "                    \"A^{\"\n",
    "                    + f\"{(i + 1, j + 1)}\"\n",
    "                    + \"}_{\"\n",
    "                    + f\"{xyz[k]}\"\n",
    "                    + f\"{xyz[l]}\"\n",
    "                    + \"}\"\n",
    "                )\n",
    "                subs[Asym] = A[(i, j)][k, l].item() * SCALE\n",
    "                if k == l == 1:\n",
    "                    hyperfine -= Asym * g_ele_sym[i] * Sr_op[i] * Ir_op[(i, j)]\n",
    "                elif k != 1 and l != 1:\n",
    "                    hyperfine += Asym * g_ele_sym[i] * Sr_op[i] * Ir_op[(i, j)]\n",
    "                else:\n",
    "                    hyperfine += (\n",
    "                        1.0j * Asym * g_ele_sym[i] * Sr_op[i] * Ir_op[(i, j)]\n",
    "                    )"
   ]
  },
  {
   "cell_type": "code",
   "execution_count": 10,
   "id": "60929528-d031-4dd7-aec9-37f4196bd3bf",
   "metadata": {},
   "outputs": [
    {
     "data": {
      "text/latex": [
       "$\\displaystyle A^{(1, 1)}_{xx} \\gamma_e^{(1)} \\hat{I}_x^{(1, 1)} \\hat{S}_x^{(1)} + 1.0 i A^{(1, 1)}_{xy} \\gamma_e^{(1)} \\hat{I}_y^{(1, 1)} \\hat{S}_x^{(1)} + A^{(1, 1)}_{xz} \\gamma_e^{(1)} \\hat{I}_z^{(1, 1)} \\hat{S}_x^{(1)} + 1.0 i A^{(1, 1)}_{yx} \\gamma_e^{(1)} \\hat{I}_x^{(1, 1)} \\hat{S}_y^{(1)} - A^{(1, 1)}_{yy} \\gamma_e^{(1)} \\hat{I}_y^{(1, 1)} \\hat{S}_y^{(1)} + 1.0 i A^{(1, 1)}_{yz} \\gamma_e^{(1)} \\hat{I}_z^{(1, 1)} \\hat{S}_y^{(1)} + A^{(1, 1)}_{zx} \\gamma_e^{(1)} \\hat{I}_x^{(1, 1)} \\hat{S}_z^{(1)} + 1.0 i A^{(1, 1)}_{zy} \\gamma_e^{(1)} \\hat{I}_y^{(1, 1)} \\hat{S}_z^{(1)} + A^{(1, 1)}_{zz} \\gamma_e^{(1)} \\hat{I}_z^{(1, 1)} \\hat{S}_z^{(1)} + A^{(1, 10)}_{xx} \\gamma_e^{(1)} \\hat{I}_x^{(1, 10)} \\hat{S}_x^{(1)} + 1.0 i A^{(1, 10)}_{xy} \\gamma_e^{(1)} \\hat{I}_y^{(1, 10)} \\hat{S}_x^{(1)} + A^{(1, 10)}_{xz} \\gamma_e^{(1)} \\hat{I}_z^{(1, 10)} \\hat{S}_x^{(1)} + 1.0 i A^{(1, 10)}_{yx} \\gamma_e^{(1)} \\hat{I}_x^{(1, 10)} \\hat{S}_y^{(1)} - A^{(1, 10)}_{yy} \\gamma_e^{(1)} \\hat{I}_y^{(1, 10)} \\hat{S}_y^{(1)} + 1.0 i A^{(1, 10)}_{yz} \\gamma_e^{(1)} \\hat{I}_z^{(1, 10)} \\hat{S}_y^{(1)} + A^{(1, 10)}_{zx} \\gamma_e^{(1)} \\hat{I}_x^{(1, 10)} \\hat{S}_z^{(1)} + 1.0 i A^{(1, 10)}_{zy} \\gamma_e^{(1)} \\hat{I}_y^{(1, 10)} \\hat{S}_z^{(1)} + A^{(1, 10)}_{zz} \\gamma_e^{(1)} \\hat{I}_z^{(1, 10)} \\hat{S}_z^{(1)} + A^{(1, 11)}_{xx} \\gamma_e^{(1)} \\hat{I}_x^{(1, 11)} \\hat{S}_x^{(1)} + 1.0 i A^{(1, 11)}_{xy} \\gamma_e^{(1)} \\hat{I}_y^{(1, 11)} \\hat{S}_x^{(1)} + A^{(1, 11)}_{xz} \\gamma_e^{(1)} \\hat{I}_z^{(1, 11)} \\hat{S}_x^{(1)} + 1.0 i A^{(1, 11)}_{yx} \\gamma_e^{(1)} \\hat{I}_x^{(1, 11)} \\hat{S}_y^{(1)} - A^{(1, 11)}_{yy} \\gamma_e^{(1)} \\hat{I}_y^{(1, 11)} \\hat{S}_y^{(1)} + 1.0 i A^{(1, 11)}_{yz} \\gamma_e^{(1)} \\hat{I}_z^{(1, 11)} \\hat{S}_y^{(1)} + A^{(1, 11)}_{zx} \\gamma_e^{(1)} \\hat{I}_x^{(1, 11)} \\hat{S}_z^{(1)} + 1.0 i A^{(1, 11)}_{zy} \\gamma_e^{(1)} \\hat{I}_y^{(1, 11)} \\hat{S}_z^{(1)} + A^{(1, 11)}_{zz} \\gamma_e^{(1)} \\hat{I}_z^{(1, 11)} \\hat{S}_z^{(1)} + A^{(1, 12)}_{xx} \\gamma_e^{(1)} \\hat{I}_x^{(1, 12)} \\hat{S}_x^{(1)} + 1.0 i A^{(1, 12)}_{xy} \\gamma_e^{(1)} \\hat{I}_y^{(1, 12)} \\hat{S}_x^{(1)} + A^{(1, 12)}_{xz} \\gamma_e^{(1)} \\hat{I}_z^{(1, 12)} \\hat{S}_x^{(1)} + 1.0 i A^{(1, 12)}_{yx} \\gamma_e^{(1)} \\hat{I}_x^{(1, 12)} \\hat{S}_y^{(1)} - A^{(1, 12)}_{yy} \\gamma_e^{(1)} \\hat{I}_y^{(1, 12)} \\hat{S}_y^{(1)} + 1.0 i A^{(1, 12)}_{yz} \\gamma_e^{(1)} \\hat{I}_z^{(1, 12)} \\hat{S}_y^{(1)} + A^{(1, 12)}_{zx} \\gamma_e^{(1)} \\hat{I}_x^{(1, 12)} \\hat{S}_z^{(1)} + 1.0 i A^{(1, 12)}_{zy} \\gamma_e^{(1)} \\hat{I}_y^{(1, 12)} \\hat{S}_z^{(1)} + A^{(1, 12)}_{zz} \\gamma_e^{(1)} \\hat{I}_z^{(1, 12)} \\hat{S}_z^{(1)} + A^{(1, 13)}_{xx} \\gamma_e^{(1)} \\hat{I}_x^{(1, 13)} \\hat{S}_x^{(1)} + 1.0 i A^{(1, 13)}_{xy} \\gamma_e^{(1)} \\hat{I}_y^{(1, 13)} \\hat{S}_x^{(1)} + A^{(1, 13)}_{xz} \\gamma_e^{(1)} \\hat{I}_z^{(1, 13)} \\hat{S}_x^{(1)} + 1.0 i A^{(1, 13)}_{yx} \\gamma_e^{(1)} \\hat{I}_x^{(1, 13)} \\hat{S}_y^{(1)} - A^{(1, 13)}_{yy} \\gamma_e^{(1)} \\hat{I}_y^{(1, 13)} \\hat{S}_y^{(1)} + 1.0 i A^{(1, 13)}_{yz} \\gamma_e^{(1)} \\hat{I}_z^{(1, 13)} \\hat{S}_y^{(1)} + A^{(1, 13)}_{zx} \\gamma_e^{(1)} \\hat{I}_x^{(1, 13)} \\hat{S}_z^{(1)} + 1.0 i A^{(1, 13)}_{zy} \\gamma_e^{(1)} \\hat{I}_y^{(1, 13)} \\hat{S}_z^{(1)} + A^{(1, 13)}_{zz} \\gamma_e^{(1)} \\hat{I}_z^{(1, 13)} \\hat{S}_z^{(1)} + A^{(1, 14)}_{xx} \\gamma_e^{(1)} \\hat{I}_x^{(1, 14)} \\hat{S}_x^{(1)} + 1.0 i A^{(1, 14)}_{xy} \\gamma_e^{(1)} \\hat{I}_y^{(1, 14)} \\hat{S}_x^{(1)} + A^{(1, 14)}_{xz} \\gamma_e^{(1)} \\hat{I}_z^{(1, 14)} \\hat{S}_x^{(1)} + 1.0 i A^{(1, 14)}_{yx} \\gamma_e^{(1)} \\hat{I}_x^{(1, 14)} \\hat{S}_y^{(1)} - A^{(1, 14)}_{yy} \\gamma_e^{(1)} \\hat{I}_y^{(1, 14)} \\hat{S}_y^{(1)} + 1.0 i A^{(1, 14)}_{yz} \\gamma_e^{(1)} \\hat{I}_z^{(1, 14)} \\hat{S}_y^{(1)} + A^{(1, 14)}_{zx} \\gamma_e^{(1)} \\hat{I}_x^{(1, 14)} \\hat{S}_z^{(1)} + 1.0 i A^{(1, 14)}_{zy} \\gamma_e^{(1)} \\hat{I}_y^{(1, 14)} \\hat{S}_z^{(1)} + A^{(1, 14)}_{zz} \\gamma_e^{(1)} \\hat{I}_z^{(1, 14)} \\hat{S}_z^{(1)} + A^{(1, 15)}_{xx} \\gamma_e^{(1)} \\hat{I}_x^{(1, 15)} \\hat{S}_x^{(1)} + 1.0 i A^{(1, 15)}_{xy} \\gamma_e^{(1)} \\hat{I}_y^{(1, 15)} \\hat{S}_x^{(1)} + A^{(1, 15)}_{xz} \\gamma_e^{(1)} \\hat{I}_z^{(1, 15)} \\hat{S}_x^{(1)} + 1.0 i A^{(1, 15)}_{yx} \\gamma_e^{(1)} \\hat{I}_x^{(1, 15)} \\hat{S}_y^{(1)} - A^{(1, 15)}_{yy} \\gamma_e^{(1)} \\hat{I}_y^{(1, 15)} \\hat{S}_y^{(1)} + 1.0 i A^{(1, 15)}_{yz} \\gamma_e^{(1)} \\hat{I}_z^{(1, 15)} \\hat{S}_y^{(1)} + A^{(1, 15)}_{zx} \\gamma_e^{(1)} \\hat{I}_x^{(1, 15)} \\hat{S}_z^{(1)} + 1.0 i A^{(1, 15)}_{zy} \\gamma_e^{(1)} \\hat{I}_y^{(1, 15)} \\hat{S}_z^{(1)} + A^{(1, 15)}_{zz} \\gamma_e^{(1)} \\hat{I}_z^{(1, 15)} \\hat{S}_z^{(1)} + A^{(1, 16)}_{xx} \\gamma_e^{(1)} \\hat{I}_x^{(1, 16)} \\hat{S}_x^{(1)} + 1.0 i A^{(1, 16)}_{xy} \\gamma_e^{(1)} \\hat{I}_y^{(1, 16)} \\hat{S}_x^{(1)} + A^{(1, 16)}_{xz} \\gamma_e^{(1)} \\hat{I}_z^{(1, 16)} \\hat{S}_x^{(1)} + 1.0 i A^{(1, 16)}_{yx} \\gamma_e^{(1)} \\hat{I}_x^{(1, 16)} \\hat{S}_y^{(1)} - A^{(1, 16)}_{yy} \\gamma_e^{(1)} \\hat{I}_y^{(1, 16)} \\hat{S}_y^{(1)} + 1.0 i A^{(1, 16)}_{yz} \\gamma_e^{(1)} \\hat{I}_z^{(1, 16)} \\hat{S}_y^{(1)} + A^{(1, 16)}_{zx} \\gamma_e^{(1)} \\hat{I}_x^{(1, 16)} \\hat{S}_z^{(1)} + 1.0 i A^{(1, 16)}_{zy} \\gamma_e^{(1)} \\hat{I}_y^{(1, 16)} \\hat{S}_z^{(1)} + A^{(1, 16)}_{zz} \\gamma_e^{(1)} \\hat{I}_z^{(1, 16)} \\hat{S}_z^{(1)} + A^{(1, 2)}_{xx} \\gamma_e^{(1)} \\hat{I}_x^{(1, 2)} \\hat{S}_x^{(1)} + 1.0 i A^{(1, 2)}_{xy} \\gamma_e^{(1)} \\hat{I}_y^{(1, 2)} \\hat{S}_x^{(1)} + A^{(1, 2)}_{xz} \\gamma_e^{(1)} \\hat{I}_z^{(1, 2)} \\hat{S}_x^{(1)} + 1.0 i A^{(1, 2)}_{yx} \\gamma_e^{(1)} \\hat{I}_x^{(1, 2)} \\hat{S}_y^{(1)} - A^{(1, 2)}_{yy} \\gamma_e^{(1)} \\hat{I}_y^{(1, 2)} \\hat{S}_y^{(1)} + 1.0 i A^{(1, 2)}_{yz} \\gamma_e^{(1)} \\hat{I}_z^{(1, 2)} \\hat{S}_y^{(1)} + A^{(1, 2)}_{zx} \\gamma_e^{(1)} \\hat{I}_x^{(1, 2)} \\hat{S}_z^{(1)} + 1.0 i A^{(1, 2)}_{zy} \\gamma_e^{(1)} \\hat{I}_y^{(1, 2)} \\hat{S}_z^{(1)} + A^{(1, 2)}_{zz} \\gamma_e^{(1)} \\hat{I}_z^{(1, 2)} \\hat{S}_z^{(1)} + A^{(1, 3)}_{xx} \\gamma_e^{(1)} \\hat{I}_x^{(1, 3)} \\hat{S}_x^{(1)} + 1.0 i A^{(1, 3)}_{xy} \\gamma_e^{(1)} \\hat{I}_y^{(1, 3)} \\hat{S}_x^{(1)} + A^{(1, 3)}_{xz} \\gamma_e^{(1)} \\hat{I}_z^{(1, 3)} \\hat{S}_x^{(1)} + 1.0 i A^{(1, 3)}_{yx} \\gamma_e^{(1)} \\hat{I}_x^{(1, 3)} \\hat{S}_y^{(1)} - A^{(1, 3)}_{yy} \\gamma_e^{(1)} \\hat{I}_y^{(1, 3)} \\hat{S}_y^{(1)} + 1.0 i A^{(1, 3)}_{yz} \\gamma_e^{(1)} \\hat{I}_z^{(1, 3)} \\hat{S}_y^{(1)} + A^{(1, 3)}_{zx} \\gamma_e^{(1)} \\hat{I}_x^{(1, 3)} \\hat{S}_z^{(1)} + 1.0 i A^{(1, 3)}_{zy} \\gamma_e^{(1)} \\hat{I}_y^{(1, 3)} \\hat{S}_z^{(1)} + A^{(1, 3)}_{zz} \\gamma_e^{(1)} \\hat{I}_z^{(1, 3)} \\hat{S}_z^{(1)} + A^{(1, 4)}_{xx} \\gamma_e^{(1)} \\hat{I}_x^{(1, 4)} \\hat{S}_x^{(1)} + 1.0 i A^{(1, 4)}_{xy} \\gamma_e^{(1)} \\hat{I}_y^{(1, 4)} \\hat{S}_x^{(1)} + A^{(1, 4)}_{xz} \\gamma_e^{(1)} \\hat{I}_z^{(1, 4)} \\hat{S}_x^{(1)} + 1.0 i A^{(1, 4)}_{yx} \\gamma_e^{(1)} \\hat{I}_x^{(1, 4)} \\hat{S}_y^{(1)} - A^{(1, 4)}_{yy} \\gamma_e^{(1)} \\hat{I}_y^{(1, 4)} \\hat{S}_y^{(1)} + 1.0 i A^{(1, 4)}_{yz} \\gamma_e^{(1)} \\hat{I}_z^{(1, 4)} \\hat{S}_y^{(1)} + A^{(1, 4)}_{zx} \\gamma_e^{(1)} \\hat{I}_x^{(1, 4)} \\hat{S}_z^{(1)} + 1.0 i A^{(1, 4)}_{zy} \\gamma_e^{(1)} \\hat{I}_y^{(1, 4)} \\hat{S}_z^{(1)} + A^{(1, 4)}_{zz} \\gamma_e^{(1)} \\hat{I}_z^{(1, 4)} \\hat{S}_z^{(1)} + A^{(1, 5)}_{xx} \\gamma_e^{(1)} \\hat{I}_x^{(1, 5)} \\hat{S}_x^{(1)} + 1.0 i A^{(1, 5)}_{xy} \\gamma_e^{(1)} \\hat{I}_y^{(1, 5)} \\hat{S}_x^{(1)} + A^{(1, 5)}_{xz} \\gamma_e^{(1)} \\hat{I}_z^{(1, 5)} \\hat{S}_x^{(1)} + 1.0 i A^{(1, 5)}_{yx} \\gamma_e^{(1)} \\hat{I}_x^{(1, 5)} \\hat{S}_y^{(1)} - A^{(1, 5)}_{yy} \\gamma_e^{(1)} \\hat{I}_y^{(1, 5)} \\hat{S}_y^{(1)} + 1.0 i A^{(1, 5)}_{yz} \\gamma_e^{(1)} \\hat{I}_z^{(1, 5)} \\hat{S}_y^{(1)} + A^{(1, 5)}_{zx} \\gamma_e^{(1)} \\hat{I}_x^{(1, 5)} \\hat{S}_z^{(1)} + 1.0 i A^{(1, 5)}_{zy} \\gamma_e^{(1)} \\hat{I}_y^{(1, 5)} \\hat{S}_z^{(1)} + A^{(1, 5)}_{zz} \\gamma_e^{(1)} \\hat{I}_z^{(1, 5)} \\hat{S}_z^{(1)} + A^{(1, 6)}_{xx} \\gamma_e^{(1)} \\hat{I}_x^{(1, 6)} \\hat{S}_x^{(1)} + 1.0 i A^{(1, 6)}_{xy} \\gamma_e^{(1)} \\hat{I}_y^{(1, 6)} \\hat{S}_x^{(1)} + A^{(1, 6)}_{xz} \\gamma_e^{(1)} \\hat{I}_z^{(1, 6)} \\hat{S}_x^{(1)} + 1.0 i A^{(1, 6)}_{yx} \\gamma_e^{(1)} \\hat{I}_x^{(1, 6)} \\hat{S}_y^{(1)} - A^{(1, 6)}_{yy} \\gamma_e^{(1)} \\hat{I}_y^{(1, 6)} \\hat{S}_y^{(1)} + 1.0 i A^{(1, 6)}_{yz} \\gamma_e^{(1)} \\hat{I}_z^{(1, 6)} \\hat{S}_y^{(1)} + A^{(1, 6)}_{zx} \\gamma_e^{(1)} \\hat{I}_x^{(1, 6)} \\hat{S}_z^{(1)} + 1.0 i A^{(1, 6)}_{zy} \\gamma_e^{(1)} \\hat{I}_y^{(1, 6)} \\hat{S}_z^{(1)} + A^{(1, 6)}_{zz} \\gamma_e^{(1)} \\hat{I}_z^{(1, 6)} \\hat{S}_z^{(1)} + A^{(1, 7)}_{xx} \\gamma_e^{(1)} \\hat{I}_x^{(1, 7)} \\hat{S}_x^{(1)} + 1.0 i A^{(1, 7)}_{xy} \\gamma_e^{(1)} \\hat{I}_y^{(1, 7)} \\hat{S}_x^{(1)} + A^{(1, 7)}_{xz} \\gamma_e^{(1)} \\hat{I}_z^{(1, 7)} \\hat{S}_x^{(1)} + 1.0 i A^{(1, 7)}_{yx} \\gamma_e^{(1)} \\hat{I}_x^{(1, 7)} \\hat{S}_y^{(1)} - A^{(1, 7)}_{yy} \\gamma_e^{(1)} \\hat{I}_y^{(1, 7)} \\hat{S}_y^{(1)} + 1.0 i A^{(1, 7)}_{yz} \\gamma_e^{(1)} \\hat{I}_z^{(1, 7)} \\hat{S}_y^{(1)} + A^{(1, 7)}_{zx} \\gamma_e^{(1)} \\hat{I}_x^{(1, 7)} \\hat{S}_z^{(1)} + 1.0 i A^{(1, 7)}_{zy} \\gamma_e^{(1)} \\hat{I}_y^{(1, 7)} \\hat{S}_z^{(1)} + A^{(1, 7)}_{zz} \\gamma_e^{(1)} \\hat{I}_z^{(1, 7)} \\hat{S}_z^{(1)} + A^{(1, 8)}_{xx} \\gamma_e^{(1)} \\hat{I}_x^{(1, 8)} \\hat{S}_x^{(1)} + 1.0 i A^{(1, 8)}_{xy} \\gamma_e^{(1)} \\hat{I}_y^{(1, 8)} \\hat{S}_x^{(1)} + A^{(1, 8)}_{xz} \\gamma_e^{(1)} \\hat{I}_z^{(1, 8)} \\hat{S}_x^{(1)} + 1.0 i A^{(1, 8)}_{yx} \\gamma_e^{(1)} \\hat{I}_x^{(1, 8)} \\hat{S}_y^{(1)} - A^{(1, 8)}_{yy} \\gamma_e^{(1)} \\hat{I}_y^{(1, 8)} \\hat{S}_y^{(1)} + 1.0 i A^{(1, 8)}_{yz} \\gamma_e^{(1)} \\hat{I}_z^{(1, 8)} \\hat{S}_y^{(1)} + A^{(1, 8)}_{zx} \\gamma_e^{(1)} \\hat{I}_x^{(1, 8)} \\hat{S}_z^{(1)} + 1.0 i A^{(1, 8)}_{zy} \\gamma_e^{(1)} \\hat{I}_y^{(1, 8)} \\hat{S}_z^{(1)} + A^{(1, 8)}_{zz} \\gamma_e^{(1)} \\hat{I}_z^{(1, 8)} \\hat{S}_z^{(1)} + A^{(1, 9)}_{xx} \\gamma_e^{(1)} \\hat{I}_x^{(1, 9)} \\hat{S}_x^{(1)} + 1.0 i A^{(1, 9)}_{xy} \\gamma_e^{(1)} \\hat{I}_y^{(1, 9)} \\hat{S}_x^{(1)} + A^{(1, 9)}_{xz} \\gamma_e^{(1)} \\hat{I}_z^{(1, 9)} \\hat{S}_x^{(1)} + 1.0 i A^{(1, 9)}_{yx} \\gamma_e^{(1)} \\hat{I}_x^{(1, 9)} \\hat{S}_y^{(1)} - A^{(1, 9)}_{yy} \\gamma_e^{(1)} \\hat{I}_y^{(1, 9)} \\hat{S}_y^{(1)} + 1.0 i A^{(1, 9)}_{yz} \\gamma_e^{(1)} \\hat{I}_z^{(1, 9)} \\hat{S}_y^{(1)} + A^{(1, 9)}_{zx} \\gamma_e^{(1)} \\hat{I}_x^{(1, 9)} \\hat{S}_z^{(1)} + 1.0 i A^{(1, 9)}_{zy} \\gamma_e^{(1)} \\hat{I}_y^{(1, 9)} \\hat{S}_z^{(1)} + A^{(1, 9)}_{zz} \\gamma_e^{(1)} \\hat{I}_z^{(1, 9)} \\hat{S}_z^{(1)} + A^{(2, 1)}_{xx} \\gamma_e^{(2)} \\hat{S}_x^{(2)} \\hat{I}_x^{(2, 1)} + 1.0 i A^{(2, 1)}_{xy} \\gamma_e^{(2)} \\hat{S}_x^{(2)} \\hat{I}_y^{(2, 1)} + A^{(2, 1)}_{xz} \\gamma_e^{(2)} \\hat{S}_x^{(2)} \\hat{I}_z^{(2, 1)} + 1.0 i A^{(2, 1)}_{yx} \\gamma_e^{(2)} \\hat{S}_y^{(2)} \\hat{I}_x^{(2, 1)} - A^{(2, 1)}_{yy} \\gamma_e^{(2)} \\hat{S}_y^{(2)} \\hat{I}_y^{(2, 1)} + 1.0 i A^{(2, 1)}_{yz} \\gamma_e^{(2)} \\hat{S}_y^{(2)} \\hat{I}_z^{(2, 1)} + A^{(2, 1)}_{zx} \\gamma_e^{(2)} \\hat{S}_z^{(2)} \\hat{I}_x^{(2, 1)} + 1.0 i A^{(2, 1)}_{zy} \\gamma_e^{(2)} \\hat{S}_z^{(2)} \\hat{I}_y^{(2, 1)} + A^{(2, 1)}_{zz} \\gamma_e^{(2)} \\hat{S}_z^{(2)} \\hat{I}_z^{(2, 1)} + A^{(2, 10)}_{xx} \\gamma_e^{(2)} \\hat{S}_x^{(2)} \\hat{I}_x^{(2, 10)} + 1.0 i A^{(2, 10)}_{xy} \\gamma_e^{(2)} \\hat{S}_x^{(2)} \\hat{I}_y^{(2, 10)} + A^{(2, 10)}_{xz} \\gamma_e^{(2)} \\hat{S}_x^{(2)} \\hat{I}_z^{(2, 10)} + 1.0 i A^{(2, 10)}_{yx} \\gamma_e^{(2)} \\hat{S}_y^{(2)} \\hat{I}_x^{(2, 10)} - A^{(2, 10)}_{yy} \\gamma_e^{(2)} \\hat{S}_y^{(2)} \\hat{I}_y^{(2, 10)} + 1.0 i A^{(2, 10)}_{yz} \\gamma_e^{(2)} \\hat{S}_y^{(2)} \\hat{I}_z^{(2, 10)} + A^{(2, 10)}_{zx} \\gamma_e^{(2)} \\hat{S}_z^{(2)} \\hat{I}_x^{(2, 10)} + 1.0 i A^{(2, 10)}_{zy} \\gamma_e^{(2)} \\hat{S}_z^{(2)} \\hat{I}_y^{(2, 10)} + A^{(2, 10)}_{zz} \\gamma_e^{(2)} \\hat{S}_z^{(2)} \\hat{I}_z^{(2, 10)} + A^{(2, 11)}_{xx} \\gamma_e^{(2)} \\hat{S}_x^{(2)} \\hat{I}_x^{(2, 11)} + 1.0 i A^{(2, 11)}_{xy} \\gamma_e^{(2)} \\hat{S}_x^{(2)} \\hat{I}_y^{(2, 11)} + A^{(2, 11)}_{xz} \\gamma_e^{(2)} \\hat{S}_x^{(2)} \\hat{I}_z^{(2, 11)} + 1.0 i A^{(2, 11)}_{yx} \\gamma_e^{(2)} \\hat{S}_y^{(2)} \\hat{I}_x^{(2, 11)} - A^{(2, 11)}_{yy} \\gamma_e^{(2)} \\hat{S}_y^{(2)} \\hat{I}_y^{(2, 11)} + 1.0 i A^{(2, 11)}_{yz} \\gamma_e^{(2)} \\hat{S}_y^{(2)} \\hat{I}_z^{(2, 11)} + A^{(2, 11)}_{zx} \\gamma_e^{(2)} \\hat{S}_z^{(2)} \\hat{I}_x^{(2, 11)} + 1.0 i A^{(2, 11)}_{zy} \\gamma_e^{(2)} \\hat{S}_z^{(2)} \\hat{I}_y^{(2, 11)} + A^{(2, 11)}_{zz} \\gamma_e^{(2)} \\hat{S}_z^{(2)} \\hat{I}_z^{(2, 11)} + A^{(2, 2)}_{xx} \\gamma_e^{(2)} \\hat{S}_x^{(2)} \\hat{I}_x^{(2, 2)} + 1.0 i A^{(2, 2)}_{xy} \\gamma_e^{(2)} \\hat{S}_x^{(2)} \\hat{I}_y^{(2, 2)} + A^{(2, 2)}_{xz} \\gamma_e^{(2)} \\hat{S}_x^{(2)} \\hat{I}_z^{(2, 2)} + 1.0 i A^{(2, 2)}_{yx} \\gamma_e^{(2)} \\hat{S}_y^{(2)} \\hat{I}_x^{(2, 2)} - A^{(2, 2)}_{yy} \\gamma_e^{(2)} \\hat{S}_y^{(2)} \\hat{I}_y^{(2, 2)} + 1.0 i A^{(2, 2)}_{yz} \\gamma_e^{(2)} \\hat{S}_y^{(2)} \\hat{I}_z^{(2, 2)} + A^{(2, 2)}_{zx} \\gamma_e^{(2)} \\hat{S}_z^{(2)} \\hat{I}_x^{(2, 2)} + 1.0 i A^{(2, 2)}_{zy} \\gamma_e^{(2)} \\hat{S}_z^{(2)} \\hat{I}_y^{(2, 2)} + A^{(2, 2)}_{zz} \\gamma_e^{(2)} \\hat{S}_z^{(2)} \\hat{I}_z^{(2, 2)} + A^{(2, 3)}_{xx} \\gamma_e^{(2)} \\hat{S}_x^{(2)} \\hat{I}_x^{(2, 3)} + 1.0 i A^{(2, 3)}_{xy} \\gamma_e^{(2)} \\hat{S}_x^{(2)} \\hat{I}_y^{(2, 3)} + A^{(2, 3)}_{xz} \\gamma_e^{(2)} \\hat{S}_x^{(2)} \\hat{I}_z^{(2, 3)} + 1.0 i A^{(2, 3)}_{yx} \\gamma_e^{(2)} \\hat{S}_y^{(2)} \\hat{I}_x^{(2, 3)} - A^{(2, 3)}_{yy} \\gamma_e^{(2)} \\hat{S}_y^{(2)} \\hat{I}_y^{(2, 3)} + 1.0 i A^{(2, 3)}_{yz} \\gamma_e^{(2)} \\hat{S}_y^{(2)} \\hat{I}_z^{(2, 3)} + A^{(2, 3)}_{zx} \\gamma_e^{(2)} \\hat{S}_z^{(2)} \\hat{I}_x^{(2, 3)} + 1.0 i A^{(2, 3)}_{zy} \\gamma_e^{(2)} \\hat{S}_z^{(2)} \\hat{I}_y^{(2, 3)} + A^{(2, 3)}_{zz} \\gamma_e^{(2)} \\hat{S}_z^{(2)} \\hat{I}_z^{(2, 3)} + A^{(2, 4)}_{xx} \\gamma_e^{(2)} \\hat{S}_x^{(2)} \\hat{I}_x^{(2, 4)} + 1.0 i A^{(2, 4)}_{xy} \\gamma_e^{(2)} \\hat{S}_x^{(2)} \\hat{I}_y^{(2, 4)} + A^{(2, 4)}_{xz} \\gamma_e^{(2)} \\hat{S}_x^{(2)} \\hat{I}_z^{(2, 4)} + 1.0 i A^{(2, 4)}_{yx} \\gamma_e^{(2)} \\hat{S}_y^{(2)} \\hat{I}_x^{(2, 4)} - A^{(2, 4)}_{yy} \\gamma_e^{(2)} \\hat{S}_y^{(2)} \\hat{I}_y^{(2, 4)} + 1.0 i A^{(2, 4)}_{yz} \\gamma_e^{(2)} \\hat{S}_y^{(2)} \\hat{I}_z^{(2, 4)} + A^{(2, 4)}_{zx} \\gamma_e^{(2)} \\hat{S}_z^{(2)} \\hat{I}_x^{(2, 4)} + 1.0 i A^{(2, 4)}_{zy} \\gamma_e^{(2)} \\hat{S}_z^{(2)} \\hat{I}_y^{(2, 4)} + A^{(2, 4)}_{zz} \\gamma_e^{(2)} \\hat{S}_z^{(2)} \\hat{I}_z^{(2, 4)} + A^{(2, 5)}_{xx} \\gamma_e^{(2)} \\hat{S}_x^{(2)} \\hat{I}_x^{(2, 5)} + 1.0 i A^{(2, 5)}_{xy} \\gamma_e^{(2)} \\hat{S}_x^{(2)} \\hat{I}_y^{(2, 5)} + A^{(2, 5)}_{xz} \\gamma_e^{(2)} \\hat{S}_x^{(2)} \\hat{I}_z^{(2, 5)} + 1.0 i A^{(2, 5)}_{yx} \\gamma_e^{(2)} \\hat{S}_y^{(2)} \\hat{I}_x^{(2, 5)} - A^{(2, 5)}_{yy} \\gamma_e^{(2)} \\hat{S}_y^{(2)} \\hat{I}_y^{(2, 5)} + 1.0 i A^{(2, 5)}_{yz} \\gamma_e^{(2)} \\hat{S}_y^{(2)} \\hat{I}_z^{(2, 5)} + A^{(2, 5)}_{zx} \\gamma_e^{(2)} \\hat{S}_z^{(2)} \\hat{I}_x^{(2, 5)} + 1.0 i A^{(2, 5)}_{zy} \\gamma_e^{(2)} \\hat{S}_z^{(2)} \\hat{I}_y^{(2, 5)} + A^{(2, 5)}_{zz} \\gamma_e^{(2)} \\hat{S}_z^{(2)} \\hat{I}_z^{(2, 5)} + A^{(2, 6)}_{xx} \\gamma_e^{(2)} \\hat{S}_x^{(2)} \\hat{I}_x^{(2, 6)} + 1.0 i A^{(2, 6)}_{xy} \\gamma_e^{(2)} \\hat{S}_x^{(2)} \\hat{I}_y^{(2, 6)} + A^{(2, 6)}_{xz} \\gamma_e^{(2)} \\hat{S}_x^{(2)} \\hat{I}_z^{(2, 6)} + 1.0 i A^{(2, 6)}_{yx} \\gamma_e^{(2)} \\hat{S}_y^{(2)} \\hat{I}_x^{(2, 6)} - A^{(2, 6)}_{yy} \\gamma_e^{(2)} \\hat{S}_y^{(2)} \\hat{I}_y^{(2, 6)} + 1.0 i A^{(2, 6)}_{yz} \\gamma_e^{(2)} \\hat{S}_y^{(2)} \\hat{I}_z^{(2, 6)} + A^{(2, 6)}_{zx} \\gamma_e^{(2)} \\hat{S}_z^{(2)} \\hat{I}_x^{(2, 6)} + 1.0 i A^{(2, 6)}_{zy} \\gamma_e^{(2)} \\hat{S}_z^{(2)} \\hat{I}_y^{(2, 6)} + A^{(2, 6)}_{zz} \\gamma_e^{(2)} \\hat{S}_z^{(2)} \\hat{I}_z^{(2, 6)} + A^{(2, 7)}_{xx} \\gamma_e^{(2)} \\hat{S}_x^{(2)} \\hat{I}_x^{(2, 7)} + 1.0 i A^{(2, 7)}_{xy} \\gamma_e^{(2)} \\hat{S}_x^{(2)} \\hat{I}_y^{(2, 7)} + A^{(2, 7)}_{xz} \\gamma_e^{(2)} \\hat{S}_x^{(2)} \\hat{I}_z^{(2, 7)} + 1.0 i A^{(2, 7)}_{yx} \\gamma_e^{(2)} \\hat{S}_y^{(2)} \\hat{I}_x^{(2, 7)} - A^{(2, 7)}_{yy} \\gamma_e^{(2)} \\hat{S}_y^{(2)} \\hat{I}_y^{(2, 7)} + 1.0 i A^{(2, 7)}_{yz} \\gamma_e^{(2)} \\hat{S}_y^{(2)} \\hat{I}_z^{(2, 7)} + A^{(2, 7)}_{zx} \\gamma_e^{(2)} \\hat{S}_z^{(2)} \\hat{I}_x^{(2, 7)} + 1.0 i A^{(2, 7)}_{zy} \\gamma_e^{(2)} \\hat{S}_z^{(2)} \\hat{I}_y^{(2, 7)} + A^{(2, 7)}_{zz} \\gamma_e^{(2)} \\hat{S}_z^{(2)} \\hat{I}_z^{(2, 7)} + A^{(2, 8)}_{xx} \\gamma_e^{(2)} \\hat{S}_x^{(2)} \\hat{I}_x^{(2, 8)} + 1.0 i A^{(2, 8)}_{xy} \\gamma_e^{(2)} \\hat{S}_x^{(2)} \\hat{I}_y^{(2, 8)} + A^{(2, 8)}_{xz} \\gamma_e^{(2)} \\hat{S}_x^{(2)} \\hat{I}_z^{(2, 8)} + 1.0 i A^{(2, 8)}_{yx} \\gamma_e^{(2)} \\hat{S}_y^{(2)} \\hat{I}_x^{(2, 8)} - A^{(2, 8)}_{yy} \\gamma_e^{(2)} \\hat{S}_y^{(2)} \\hat{I}_y^{(2, 8)} + 1.0 i A^{(2, 8)}_{yz} \\gamma_e^{(2)} \\hat{S}_y^{(2)} \\hat{I}_z^{(2, 8)} + A^{(2, 8)}_{zx} \\gamma_e^{(2)} \\hat{S}_z^{(2)} \\hat{I}_x^{(2, 8)} + 1.0 i A^{(2, 8)}_{zy} \\gamma_e^{(2)} \\hat{S}_z^{(2)} \\hat{I}_y^{(2, 8)} + A^{(2, 8)}_{zz} \\gamma_e^{(2)} \\hat{S}_z^{(2)} \\hat{I}_z^{(2, 8)} + A^{(2, 9)}_{xx} \\gamma_e^{(2)} \\hat{S}_x^{(2)} \\hat{I}_x^{(2, 9)} + 1.0 i A^{(2, 9)}_{xy} \\gamma_e^{(2)} \\hat{S}_x^{(2)} \\hat{I}_y^{(2, 9)} + A^{(2, 9)}_{xz} \\gamma_e^{(2)} \\hat{S}_x^{(2)} \\hat{I}_z^{(2, 9)} + 1.0 i A^{(2, 9)}_{yx} \\gamma_e^{(2)} \\hat{S}_y^{(2)} \\hat{I}_x^{(2, 9)} - A^{(2, 9)}_{yy} \\gamma_e^{(2)} \\hat{S}_y^{(2)} \\hat{I}_y^{(2, 9)} + 1.0 i A^{(2, 9)}_{yz} \\gamma_e^{(2)} \\hat{S}_y^{(2)} \\hat{I}_z^{(2, 9)} + A^{(2, 9)}_{zx} \\gamma_e^{(2)} \\hat{S}_z^{(2)} \\hat{I}_x^{(2, 9)} + 1.0 i A^{(2, 9)}_{zy} \\gamma_e^{(2)} \\hat{S}_z^{(2)} \\hat{I}_y^{(2, 9)} + A^{(2, 9)}_{zz} \\gamma_e^{(2)} \\hat{S}_z^{(2)} \\hat{I}_z^{(2, 9)}$"
      ],
      "text/plain": [
       "A^{(1, 1)}_{xx}*\\gamma_e^{(1)}*\\hat{I}_x^{(1, 1)}*\\hat{S}_x^{(1)} + 1.0*I*A^{(1, 1)}_{xy}*\\gamma_e^{(1)}*\\hat{I}_y^{(1, 1)}*\\hat{S}_x^{(1)} + A^{(1, 1)}_{xz}*\\gamma_e^{(1)}*\\hat{I}_z^{(1, 1)}*\\hat{S}_x^{(1)} + 1.0*I*A^{(1, 1)}_{yx}*\\gamma_e^{(1)}*\\hat{I}_x^{(1, 1)}*\\hat{S}_y^{(1)} - A^{(1, 1)}_{yy}*\\gamma_e^{(1)}*\\hat{I}_y^{(1, 1)}*\\hat{S}_y^{(1)} + 1.0*I*A^{(1, 1)}_{yz}*\\gamma_e^{(1)}*\\hat{I}_z^{(1, 1)}*\\hat{S}_y^{(1)} + A^{(1, 1)}_{zx}*\\gamma_e^{(1)}*\\hat{I}_x^{(1, 1)}*\\hat{S}_z^{(1)} + 1.0*I*A^{(1, 1)}_{zy}*\\gamma_e^{(1)}*\\hat{I}_y^{(1, 1)}*\\hat{S}_z^{(1)} + A^{(1, 1)}_{zz}*\\gamma_e^{(1)}*\\hat{I}_z^{(1, 1)}*\\hat{S}_z^{(1)} + A^{(1, 10)}_{xx}*\\gamma_e^{(1)}*\\hat{I}_x^{(1, 10)}*\\hat{S}_x^{(1)} + 1.0*I*A^{(1, 10)}_{xy}*\\gamma_e^{(1)}*\\hat{I}_y^{(1, 10)}*\\hat{S}_x^{(1)} + A^{(1, 10)}_{xz}*\\gamma_e^{(1)}*\\hat{I}_z^{(1, 10)}*\\hat{S}_x^{(1)} + 1.0*I*A^{(1, 10)}_{yx}*\\gamma_e^{(1)}*\\hat{I}_x^{(1, 10)}*\\hat{S}_y^{(1)} - A^{(1, 10)}_{yy}*\\gamma_e^{(1)}*\\hat{I}_y^{(1, 10)}*\\hat{S}_y^{(1)} + 1.0*I*A^{(1, 10)}_{yz}*\\gamma_e^{(1)}*\\hat{I}_z^{(1, 10)}*\\hat{S}_y^{(1)} + A^{(1, 10)}_{zx}*\\gamma_e^{(1)}*\\hat{I}_x^{(1, 10)}*\\hat{S}_z^{(1)} + 1.0*I*A^{(1, 10)}_{zy}*\\gamma_e^{(1)}*\\hat{I}_y^{(1, 10)}*\\hat{S}_z^{(1)} + A^{(1, 10)}_{zz}*\\gamma_e^{(1)}*\\hat{I}_z^{(1, 10)}*\\hat{S}_z^{(1)} + A^{(1, 11)}_{xx}*\\gamma_e^{(1)}*\\hat{I}_x^{(1, 11)}*\\hat{S}_x^{(1)} + 1.0*I*A^{(1, 11)}_{xy}*\\gamma_e^{(1)}*\\hat{I}_y^{(1, 11)}*\\hat{S}_x^{(1)} + A^{(1, 11)}_{xz}*\\gamma_e^{(1)}*\\hat{I}_z^{(1, 11)}*\\hat{S}_x^{(1)} + 1.0*I*A^{(1, 11)}_{yx}*\\gamma_e^{(1)}*\\hat{I}_x^{(1, 11)}*\\hat{S}_y^{(1)} - A^{(1, 11)}_{yy}*\\gamma_e^{(1)}*\\hat{I}_y^{(1, 11)}*\\hat{S}_y^{(1)} + 1.0*I*A^{(1, 11)}_{yz}*\\gamma_e^{(1)}*\\hat{I}_z^{(1, 11)}*\\hat{S}_y^{(1)} + A^{(1, 11)}_{zx}*\\gamma_e^{(1)}*\\hat{I}_x^{(1, 11)}*\\hat{S}_z^{(1)} + 1.0*I*A^{(1, 11)}_{zy}*\\gamma_e^{(1)}*\\hat{I}_y^{(1, 11)}*\\hat{S}_z^{(1)} + A^{(1, 11)}_{zz}*\\gamma_e^{(1)}*\\hat{I}_z^{(1, 11)}*\\hat{S}_z^{(1)} + A^{(1, 12)}_{xx}*\\gamma_e^{(1)}*\\hat{I}_x^{(1, 12)}*\\hat{S}_x^{(1)} + 1.0*I*A^{(1, 12)}_{xy}*\\gamma_e^{(1)}*\\hat{I}_y^{(1, 12)}*\\hat{S}_x^{(1)} + A^{(1, 12)}_{xz}*\\gamma_e^{(1)}*\\hat{I}_z^{(1, 12)}*\\hat{S}_x^{(1)} + 1.0*I*A^{(1, 12)}_{yx}*\\gamma_e^{(1)}*\\hat{I}_x^{(1, 12)}*\\hat{S}_y^{(1)} - A^{(1, 12)}_{yy}*\\gamma_e^{(1)}*\\hat{I}_y^{(1, 12)}*\\hat{S}_y^{(1)} + 1.0*I*A^{(1, 12)}_{yz}*\\gamma_e^{(1)}*\\hat{I}_z^{(1, 12)}*\\hat{S}_y^{(1)} + A^{(1, 12)}_{zx}*\\gamma_e^{(1)}*\\hat{I}_x^{(1, 12)}*\\hat{S}_z^{(1)} + 1.0*I*A^{(1, 12)}_{zy}*\\gamma_e^{(1)}*\\hat{I}_y^{(1, 12)}*\\hat{S}_z^{(1)} + A^{(1, 12)}_{zz}*\\gamma_e^{(1)}*\\hat{I}_z^{(1, 12)}*\\hat{S}_z^{(1)} + A^{(1, 13)}_{xx}*\\gamma_e^{(1)}*\\hat{I}_x^{(1, 13)}*\\hat{S}_x^{(1)} + 1.0*I*A^{(1, 13)}_{xy}*\\gamma_e^{(1)}*\\hat{I}_y^{(1, 13)}*\\hat{S}_x^{(1)} + A^{(1, 13)}_{xz}*\\gamma_e^{(1)}*\\hat{I}_z^{(1, 13)}*\\hat{S}_x^{(1)} + 1.0*I*A^{(1, 13)}_{yx}*\\gamma_e^{(1)}*\\hat{I}_x^{(1, 13)}*\\hat{S}_y^{(1)} - A^{(1, 13)}_{yy}*\\gamma_e^{(1)}*\\hat{I}_y^{(1, 13)}*\\hat{S}_y^{(1)} + 1.0*I*A^{(1, 13)}_{yz}*\\gamma_e^{(1)}*\\hat{I}_z^{(1, 13)}*\\hat{S}_y^{(1)} + A^{(1, 13)}_{zx}*\\gamma_e^{(1)}*\\hat{I}_x^{(1, 13)}*\\hat{S}_z^{(1)} + 1.0*I*A^{(1, 13)}_{zy}*\\gamma_e^{(1)}*\\hat{I}_y^{(1, 13)}*\\hat{S}_z^{(1)} + A^{(1, 13)}_{zz}*\\gamma_e^{(1)}*\\hat{I}_z^{(1, 13)}*\\hat{S}_z^{(1)} + A^{(1, 14)}_{xx}*\\gamma_e^{(1)}*\\hat{I}_x^{(1, 14)}*\\hat{S}_x^{(1)} + 1.0*I*A^{(1, 14)}_{xy}*\\gamma_e^{(1)}*\\hat{I}_y^{(1, 14)}*\\hat{S}_x^{(1)} + A^{(1, 14)}_{xz}*\\gamma_e^{(1)}*\\hat{I}_z^{(1, 14)}*\\hat{S}_x^{(1)} + 1.0*I*A^{(1, 14)}_{yx}*\\gamma_e^{(1)}*\\hat{I}_x^{(1, 14)}*\\hat{S}_y^{(1)} - A^{(1, 14)}_{yy}*\\gamma_e^{(1)}*\\hat{I}_y^{(1, 14)}*\\hat{S}_y^{(1)} + 1.0*I*A^{(1, 14)}_{yz}*\\gamma_e^{(1)}*\\hat{I}_z^{(1, 14)}*\\hat{S}_y^{(1)} + A^{(1, 14)}_{zx}*\\gamma_e^{(1)}*\\hat{I}_x^{(1, 14)}*\\hat{S}_z^{(1)} + 1.0*I*A^{(1, 14)}_{zy}*\\gamma_e^{(1)}*\\hat{I}_y^{(1, 14)}*\\hat{S}_z^{(1)} + A^{(1, 14)}_{zz}*\\gamma_e^{(1)}*\\hat{I}_z^{(1, 14)}*\\hat{S}_z^{(1)} + A^{(1, 15)}_{xx}*\\gamma_e^{(1)}*\\hat{I}_x^{(1, 15)}*\\hat{S}_x^{(1)} + 1.0*I*A^{(1, 15)}_{xy}*\\gamma_e^{(1)}*\\hat{I}_y^{(1, 15)}*\\hat{S}_x^{(1)} + A^{(1, 15)}_{xz}*\\gamma_e^{(1)}*\\hat{I}_z^{(1, 15)}*\\hat{S}_x^{(1)} + 1.0*I*A^{(1, 15)}_{yx}*\\gamma_e^{(1)}*\\hat{I}_x^{(1, 15)}*\\hat{S}_y^{(1)} - A^{(1, 15)}_{yy}*\\gamma_e^{(1)}*\\hat{I}_y^{(1, 15)}*\\hat{S}_y^{(1)} + 1.0*I*A^{(1, 15)}_{yz}*\\gamma_e^{(1)}*\\hat{I}_z^{(1, 15)}*\\hat{S}_y^{(1)} + A^{(1, 15)}_{zx}*\\gamma_e^{(1)}*\\hat{I}_x^{(1, 15)}*\\hat{S}_z^{(1)} + 1.0*I*A^{(1, 15)}_{zy}*\\gamma_e^{(1)}*\\hat{I}_y^{(1, 15)}*\\hat{S}_z^{(1)} + A^{(1, 15)}_{zz}*\\gamma_e^{(1)}*\\hat{I}_z^{(1, 15)}*\\hat{S}_z^{(1)} + A^{(1, 16)}_{xx}*\\gamma_e^{(1)}*\\hat{I}_x^{(1, 16)}*\\hat{S}_x^{(1)} + 1.0*I*A^{(1, 16)}_{xy}*\\gamma_e^{(1)}*\\hat{I}_y^{(1, 16)}*\\hat{S}_x^{(1)} + A^{(1, 16)}_{xz}*\\gamma_e^{(1)}*\\hat{I}_z^{(1, 16)}*\\hat{S}_x^{(1)} + 1.0*I*A^{(1, 16)}_{yx}*\\gamma_e^{(1)}*\\hat{I}_x^{(1, 16)}*\\hat{S}_y^{(1)} - A^{(1, 16)}_{yy}*\\gamma_e^{(1)}*\\hat{I}_y^{(1, 16)}*\\hat{S}_y^{(1)} + 1.0*I*A^{(1, 16)}_{yz}*\\gamma_e^{(1)}*\\hat{I}_z^{(1, 16)}*\\hat{S}_y^{(1)} + A^{(1, 16)}_{zx}*\\gamma_e^{(1)}*\\hat{I}_x^{(1, 16)}*\\hat{S}_z^{(1)} + 1.0*I*A^{(1, 16)}_{zy}*\\gamma_e^{(1)}*\\hat{I}_y^{(1, 16)}*\\hat{S}_z^{(1)} + A^{(1, 16)}_{zz}*\\gamma_e^{(1)}*\\hat{I}_z^{(1, 16)}*\\hat{S}_z^{(1)} + A^{(1, 2)}_{xx}*\\gamma_e^{(1)}*\\hat{I}_x^{(1, 2)}*\\hat{S}_x^{(1)} + 1.0*I*A^{(1, 2)}_{xy}*\\gamma_e^{(1)}*\\hat{I}_y^{(1, 2)}*\\hat{S}_x^{(1)} + A^{(1, 2)}_{xz}*\\gamma_e^{(1)}*\\hat{I}_z^{(1, 2)}*\\hat{S}_x^{(1)} + 1.0*I*A^{(1, 2)}_{yx}*\\gamma_e^{(1)}*\\hat{I}_x^{(1, 2)}*\\hat{S}_y^{(1)} - A^{(1, 2)}_{yy}*\\gamma_e^{(1)}*\\hat{I}_y^{(1, 2)}*\\hat{S}_y^{(1)} + 1.0*I*A^{(1, 2)}_{yz}*\\gamma_e^{(1)}*\\hat{I}_z^{(1, 2)}*\\hat{S}_y^{(1)} + A^{(1, 2)}_{zx}*\\gamma_e^{(1)}*\\hat{I}_x^{(1, 2)}*\\hat{S}_z^{(1)} + 1.0*I*A^{(1, 2)}_{zy}*\\gamma_e^{(1)}*\\hat{I}_y^{(1, 2)}*\\hat{S}_z^{(1)} + A^{(1, 2)}_{zz}*\\gamma_e^{(1)}*\\hat{I}_z^{(1, 2)}*\\hat{S}_z^{(1)} + A^{(1, 3)}_{xx}*\\gamma_e^{(1)}*\\hat{I}_x^{(1, 3)}*\\hat{S}_x^{(1)} + 1.0*I*A^{(1, 3)}_{xy}*\\gamma_e^{(1)}*\\hat{I}_y^{(1, 3)}*\\hat{S}_x^{(1)} + A^{(1, 3)}_{xz}*\\gamma_e^{(1)}*\\hat{I}_z^{(1, 3)}*\\hat{S}_x^{(1)} + 1.0*I*A^{(1, 3)}_{yx}*\\gamma_e^{(1)}*\\hat{I}_x^{(1, 3)}*\\hat{S}_y^{(1)} - A^{(1, 3)}_{yy}*\\gamma_e^{(1)}*\\hat{I}_y^{(1, 3)}*\\hat{S}_y^{(1)} + 1.0*I*A^{(1, 3)}_{yz}*\\gamma_e^{(1)}*\\hat{I}_z^{(1, 3)}*\\hat{S}_y^{(1)} + A^{(1, 3)}_{zx}*\\gamma_e^{(1)}*\\hat{I}_x^{(1, 3)}*\\hat{S}_z^{(1)} + 1.0*I*A^{(1, 3)}_{zy}*\\gamma_e^{(1)}*\\hat{I}_y^{(1, 3)}*\\hat{S}_z^{(1)} + A^{(1, 3)}_{zz}*\\gamma_e^{(1)}*\\hat{I}_z^{(1, 3)}*\\hat{S}_z^{(1)} + A^{(1, 4)}_{xx}*\\gamma_e^{(1)}*\\hat{I}_x^{(1, 4)}*\\hat{S}_x^{(1)} + 1.0*I*A^{(1, 4)}_{xy}*\\gamma_e^{(1)}*\\hat{I}_y^{(1, 4)}*\\hat{S}_x^{(1)} + A^{(1, 4)}_{xz}*\\gamma_e^{(1)}*\\hat{I}_z^{(1, 4)}*\\hat{S}_x^{(1)} + 1.0*I*A^{(1, 4)}_{yx}*\\gamma_e^{(1)}*\\hat{I}_x^{(1, 4)}*\\hat{S}_y^{(1)} - A^{(1, 4)}_{yy}*\\gamma_e^{(1)}*\\hat{I}_y^{(1, 4)}*\\hat{S}_y^{(1)} + 1.0*I*A^{(1, 4)}_{yz}*\\gamma_e^{(1)}*\\hat{I}_z^{(1, 4)}*\\hat{S}_y^{(1)} + A^{(1, 4)}_{zx}*\\gamma_e^{(1)}*\\hat{I}_x^{(1, 4)}*\\hat{S}_z^{(1)} + 1.0*I*A^{(1, 4)}_{zy}*\\gamma_e^{(1)}*\\hat{I}_y^{(1, 4)}*\\hat{S}_z^{(1)} + A^{(1, 4)}_{zz}*\\gamma_e^{(1)}*\\hat{I}_z^{(1, 4)}*\\hat{S}_z^{(1)} + A^{(1, 5)}_{xx}*\\gamma_e^{(1)}*\\hat{I}_x^{(1, 5)}*\\hat{S}_x^{(1)} + 1.0*I*A^{(1, 5)}_{xy}*\\gamma_e^{(1)}*\\hat{I}_y^{(1, 5)}*\\hat{S}_x^{(1)} + A^{(1, 5)}_{xz}*\\gamma_e^{(1)}*\\hat{I}_z^{(1, 5)}*\\hat{S}_x^{(1)} + 1.0*I*A^{(1, 5)}_{yx}*\\gamma_e^{(1)}*\\hat{I}_x^{(1, 5)}*\\hat{S}_y^{(1)} - A^{(1, 5)}_{yy}*\\gamma_e^{(1)}*\\hat{I}_y^{(1, 5)}*\\hat{S}_y^{(1)} + 1.0*I*A^{(1, 5)}_{yz}*\\gamma_e^{(1)}*\\hat{I}_z^{(1, 5)}*\\hat{S}_y^{(1)} + A^{(1, 5)}_{zx}*\\gamma_e^{(1)}*\\hat{I}_x^{(1, 5)}*\\hat{S}_z^{(1)} + 1.0*I*A^{(1, 5)}_{zy}*\\gamma_e^{(1)}*\\hat{I}_y^{(1, 5)}*\\hat{S}_z^{(1)} + A^{(1, 5)}_{zz}*\\gamma_e^{(1)}*\\hat{I}_z^{(1, 5)}*\\hat{S}_z^{(1)} + A^{(1, 6)}_{xx}*\\gamma_e^{(1)}*\\hat{I}_x^{(1, 6)}*\\hat{S}_x^{(1)} + 1.0*I*A^{(1, 6)}_{xy}*\\gamma_e^{(1)}*\\hat{I}_y^{(1, 6)}*\\hat{S}_x^{(1)} + A^{(1, 6)}_{xz}*\\gamma_e^{(1)}*\\hat{I}_z^{(1, 6)}*\\hat{S}_x^{(1)} + 1.0*I*A^{(1, 6)}_{yx}*\\gamma_e^{(1)}*\\hat{I}_x^{(1, 6)}*\\hat{S}_y^{(1)} - A^{(1, 6)}_{yy}*\\gamma_e^{(1)}*\\hat{I}_y^{(1, 6)}*\\hat{S}_y^{(1)} + 1.0*I*A^{(1, 6)}_{yz}*\\gamma_e^{(1)}*\\hat{I}_z^{(1, 6)}*\\hat{S}_y^{(1)} + A^{(1, 6)}_{zx}*\\gamma_e^{(1)}*\\hat{I}_x^{(1, 6)}*\\hat{S}_z^{(1)} + 1.0*I*A^{(1, 6)}_{zy}*\\gamma_e^{(1)}*\\hat{I}_y^{(1, 6)}*\\hat{S}_z^{(1)} + A^{(1, 6)}_{zz}*\\gamma_e^{(1)}*\\hat{I}_z^{(1, 6)}*\\hat{S}_z^{(1)} + A^{(1, 7)}_{xx}*\\gamma_e^{(1)}*\\hat{I}_x^{(1, 7)}*\\hat{S}_x^{(1)} + 1.0*I*A^{(1, 7)}_{xy}*\\gamma_e^{(1)}*\\hat{I}_y^{(1, 7)}*\\hat{S}_x^{(1)} + A^{(1, 7)}_{xz}*\\gamma_e^{(1)}*\\hat{I}_z^{(1, 7)}*\\hat{S}_x^{(1)} + 1.0*I*A^{(1, 7)}_{yx}*\\gamma_e^{(1)}*\\hat{I}_x^{(1, 7)}*\\hat{S}_y^{(1)} - A^{(1, 7)}_{yy}*\\gamma_e^{(1)}*\\hat{I}_y^{(1, 7)}*\\hat{S}_y^{(1)} + 1.0*I*A^{(1, 7)}_{yz}*\\gamma_e^{(1)}*\\hat{I}_z^{(1, 7)}*\\hat{S}_y^{(1)} + A^{(1, 7)}_{zx}*\\gamma_e^{(1)}*\\hat{I}_x^{(1, 7)}*\\hat{S}_z^{(1)} + 1.0*I*A^{(1, 7)}_{zy}*\\gamma_e^{(1)}*\\hat{I}_y^{(1, 7)}*\\hat{S}_z^{(1)} + A^{(1, 7)}_{zz}*\\gamma_e^{(1)}*\\hat{I}_z^{(1, 7)}*\\hat{S}_z^{(1)} + A^{(1, 8)}_{xx}*\\gamma_e^{(1)}*\\hat{I}_x^{(1, 8)}*\\hat{S}_x^{(1)} + 1.0*I*A^{(1, 8)}_{xy}*\\gamma_e^{(1)}*\\hat{I}_y^{(1, 8)}*\\hat{S}_x^{(1)} + A^{(1, 8)}_{xz}*\\gamma_e^{(1)}*\\hat{I}_z^{(1, 8)}*\\hat{S}_x^{(1)} + 1.0*I*A^{(1, 8)}_{yx}*\\gamma_e^{(1)}*\\hat{I}_x^{(1, 8)}*\\hat{S}_y^{(1)} - A^{(1, 8)}_{yy}*\\gamma_e^{(1)}*\\hat{I}_y^{(1, 8)}*\\hat{S}_y^{(1)} + 1.0*I*A^{(1, 8)}_{yz}*\\gamma_e^{(1)}*\\hat{I}_z^{(1, 8)}*\\hat{S}_y^{(1)} + A^{(1, 8)}_{zx}*\\gamma_e^{(1)}*\\hat{I}_x^{(1, 8)}*\\hat{S}_z^{(1)} + 1.0*I*A^{(1, 8)}_{zy}*\\gamma_e^{(1)}*\\hat{I}_y^{(1, 8)}*\\hat{S}_z^{(1)} + A^{(1, 8)}_{zz}*\\gamma_e^{(1)}*\\hat{I}_z^{(1, 8)}*\\hat{S}_z^{(1)} + A^{(1, 9)}_{xx}*\\gamma_e^{(1)}*\\hat{I}_x^{(1, 9)}*\\hat{S}_x^{(1)} + 1.0*I*A^{(1, 9)}_{xy}*\\gamma_e^{(1)}*\\hat{I}_y^{(1, 9)}*\\hat{S}_x^{(1)} + A^{(1, 9)}_{xz}*\\gamma_e^{(1)}*\\hat{I}_z^{(1, 9)}*\\hat{S}_x^{(1)} + 1.0*I*A^{(1, 9)}_{yx}*\\gamma_e^{(1)}*\\hat{I}_x^{(1, 9)}*\\hat{S}_y^{(1)} - A^{(1, 9)}_{yy}*\\gamma_e^{(1)}*\\hat{I}_y^{(1, 9)}*\\hat{S}_y^{(1)} + 1.0*I*A^{(1, 9)}_{yz}*\\gamma_e^{(1)}*\\hat{I}_z^{(1, 9)}*\\hat{S}_y^{(1)} + A^{(1, 9)}_{zx}*\\gamma_e^{(1)}*\\hat{I}_x^{(1, 9)}*\\hat{S}_z^{(1)} + 1.0*I*A^{(1, 9)}_{zy}*\\gamma_e^{(1)}*\\hat{I}_y^{(1, 9)}*\\hat{S}_z^{(1)} + A^{(1, 9)}_{zz}*\\gamma_e^{(1)}*\\hat{I}_z^{(1, 9)}*\\hat{S}_z^{(1)} + A^{(2, 1)}_{xx}*\\gamma_e^{(2)}*\\hat{S}_x^{(2)}*\\hat{I}_x^{(2, 1)} + 1.0*I*A^{(2, 1)}_{xy}*\\gamma_e^{(2)}*\\hat{S}_x^{(2)}*\\hat{I}_y^{(2, 1)} + A^{(2, 1)}_{xz}*\\gamma_e^{(2)}*\\hat{S}_x^{(2)}*\\hat{I}_z^{(2, 1)} + 1.0*I*A^{(2, 1)}_{yx}*\\gamma_e^{(2)}*\\hat{S}_y^{(2)}*\\hat{I}_x^{(2, 1)} - A^{(2, 1)}_{yy}*\\gamma_e^{(2)}*\\hat{S}_y^{(2)}*\\hat{I}_y^{(2, 1)} + 1.0*I*A^{(2, 1)}_{yz}*\\gamma_e^{(2)}*\\hat{S}_y^{(2)}*\\hat{I}_z^{(2, 1)} + A^{(2, 1)}_{zx}*\\gamma_e^{(2)}*\\hat{S}_z^{(2)}*\\hat{I}_x^{(2, 1)} + 1.0*I*A^{(2, 1)}_{zy}*\\gamma_e^{(2)}*\\hat{S}_z^{(2)}*\\hat{I}_y^{(2, 1)} + A^{(2, 1)}_{zz}*\\gamma_e^{(2)}*\\hat{S}_z^{(2)}*\\hat{I}_z^{(2, 1)} + A^{(2, 10)}_{xx}*\\gamma_e^{(2)}*\\hat{S}_x^{(2)}*\\hat{I}_x^{(2, 10)} + 1.0*I*A^{(2, 10)}_{xy}*\\gamma_e^{(2)}*\\hat{S}_x^{(2)}*\\hat{I}_y^{(2, 10)} + A^{(2, 10)}_{xz}*\\gamma_e^{(2)}*\\hat{S}_x^{(2)}*\\hat{I}_z^{(2, 10)} + 1.0*I*A^{(2, 10)}_{yx}*\\gamma_e^{(2)}*\\hat{S}_y^{(2)}*\\hat{I}_x^{(2, 10)} - A^{(2, 10)}_{yy}*\\gamma_e^{(2)}*\\hat{S}_y^{(2)}*\\hat{I}_y^{(2, 10)} + 1.0*I*A^{(2, 10)}_{yz}*\\gamma_e^{(2)}*\\hat{S}_y^{(2)}*\\hat{I}_z^{(2, 10)} + A^{(2, 10)}_{zx}*\\gamma_e^{(2)}*\\hat{S}_z^{(2)}*\\hat{I}_x^{(2, 10)} + 1.0*I*A^{(2, 10)}_{zy}*\\gamma_e^{(2)}*\\hat{S}_z^{(2)}*\\hat{I}_y^{(2, 10)} + A^{(2, 10)}_{zz}*\\gamma_e^{(2)}*\\hat{S}_z^{(2)}*\\hat{I}_z^{(2, 10)} + A^{(2, 11)}_{xx}*\\gamma_e^{(2)}*\\hat{S}_x^{(2)}*\\hat{I}_x^{(2, 11)} + 1.0*I*A^{(2, 11)}_{xy}*\\gamma_e^{(2)}*\\hat{S}_x^{(2)}*\\hat{I}_y^{(2, 11)} + A^{(2, 11)}_{xz}*\\gamma_e^{(2)}*\\hat{S}_x^{(2)}*\\hat{I}_z^{(2, 11)} + 1.0*I*A^{(2, 11)}_{yx}*\\gamma_e^{(2)}*\\hat{S}_y^{(2)}*\\hat{I}_x^{(2, 11)} - A^{(2, 11)}_{yy}*\\gamma_e^{(2)}*\\hat{S}_y^{(2)}*\\hat{I}_y^{(2, 11)} + 1.0*I*A^{(2, 11)}_{yz}*\\gamma_e^{(2)}*\\hat{S}_y^{(2)}*\\hat{I}_z^{(2, 11)} + A^{(2, 11)}_{zx}*\\gamma_e^{(2)}*\\hat{S}_z^{(2)}*\\hat{I}_x^{(2, 11)} + 1.0*I*A^{(2, 11)}_{zy}*\\gamma_e^{(2)}*\\hat{S}_z^{(2)}*\\hat{I}_y^{(2, 11)} + A^{(2, 11)}_{zz}*\\gamma_e^{(2)}*\\hat{S}_z^{(2)}*\\hat{I}_z^{(2, 11)} + A^{(2, 2)}_{xx}*\\gamma_e^{(2)}*\\hat{S}_x^{(2)}*\\hat{I}_x^{(2, 2)} + 1.0*I*A^{(2, 2)}_{xy}*\\gamma_e^{(2)}*\\hat{S}_x^{(2)}*\\hat{I}_y^{(2, 2)} + A^{(2, 2)}_{xz}*\\gamma_e^{(2)}*\\hat{S}_x^{(2)}*\\hat{I}_z^{(2, 2)} + 1.0*I*A^{(2, 2)}_{yx}*\\gamma_e^{(2)}*\\hat{S}_y^{(2)}*\\hat{I}_x^{(2, 2)} - A^{(2, 2)}_{yy}*\\gamma_e^{(2)}*\\hat{S}_y^{(2)}*\\hat{I}_y^{(2, 2)} + 1.0*I*A^{(2, 2)}_{yz}*\\gamma_e^{(2)}*\\hat{S}_y^{(2)}*\\hat{I}_z^{(2, 2)} + A^{(2, 2)}_{zx}*\\gamma_e^{(2)}*\\hat{S}_z^{(2)}*\\hat{I}_x^{(2, 2)} + 1.0*I*A^{(2, 2)}_{zy}*\\gamma_e^{(2)}*\\hat{S}_z^{(2)}*\\hat{I}_y^{(2, 2)} + A^{(2, 2)}_{zz}*\\gamma_e^{(2)}*\\hat{S}_z^{(2)}*\\hat{I}_z^{(2, 2)} + A^{(2, 3)}_{xx}*\\gamma_e^{(2)}*\\hat{S}_x^{(2)}*\\hat{I}_x^{(2, 3)} + 1.0*I*A^{(2, 3)}_{xy}*\\gamma_e^{(2)}*\\hat{S}_x^{(2)}*\\hat{I}_y^{(2, 3)} + A^{(2, 3)}_{xz}*\\gamma_e^{(2)}*\\hat{S}_x^{(2)}*\\hat{I}_z^{(2, 3)} + 1.0*I*A^{(2, 3)}_{yx}*\\gamma_e^{(2)}*\\hat{S}_y^{(2)}*\\hat{I}_x^{(2, 3)} - A^{(2, 3)}_{yy}*\\gamma_e^{(2)}*\\hat{S}_y^{(2)}*\\hat{I}_y^{(2, 3)} + 1.0*I*A^{(2, 3)}_{yz}*\\gamma_e^{(2)}*\\hat{S}_y^{(2)}*\\hat{I}_z^{(2, 3)} + A^{(2, 3)}_{zx}*\\gamma_e^{(2)}*\\hat{S}_z^{(2)}*\\hat{I}_x^{(2, 3)} + 1.0*I*A^{(2, 3)}_{zy}*\\gamma_e^{(2)}*\\hat{S}_z^{(2)}*\\hat{I}_y^{(2, 3)} + A^{(2, 3)}_{zz}*\\gamma_e^{(2)}*\\hat{S}_z^{(2)}*\\hat{I}_z^{(2, 3)} + A^{(2, 4)}_{xx}*\\gamma_e^{(2)}*\\hat{S}_x^{(2)}*\\hat{I}_x^{(2, 4)} + 1.0*I*A^{(2, 4)}_{xy}*\\gamma_e^{(2)}*\\hat{S}_x^{(2)}*\\hat{I}_y^{(2, 4)} + A^{(2, 4)}_{xz}*\\gamma_e^{(2)}*\\hat{S}_x^{(2)}*\\hat{I}_z^{(2, 4)} + 1.0*I*A^{(2, 4)}_{yx}*\\gamma_e^{(2)}*\\hat{S}_y^{(2)}*\\hat{I}_x^{(2, 4)} - A^{(2, 4)}_{yy}*\\gamma_e^{(2)}*\\hat{S}_y^{(2)}*\\hat{I}_y^{(2, 4)} + 1.0*I*A^{(2, 4)}_{yz}*\\gamma_e^{(2)}*\\hat{S}_y^{(2)}*\\hat{I}_z^{(2, 4)} + A^{(2, 4)}_{zx}*\\gamma_e^{(2)}*\\hat{S}_z^{(2)}*\\hat{I}_x^{(2, 4)} + 1.0*I*A^{(2, 4)}_{zy}*\\gamma_e^{(2)}*\\hat{S}_z^{(2)}*\\hat{I}_y^{(2, 4)} + A^{(2, 4)}_{zz}*\\gamma_e^{(2)}*\\hat{S}_z^{(2)}*\\hat{I}_z^{(2, 4)} + A^{(2, 5)}_{xx}*\\gamma_e^{(2)}*\\hat{S}_x^{(2)}*\\hat{I}_x^{(2, 5)} + 1.0*I*A^{(2, 5)}_{xy}*\\gamma_e^{(2)}*\\hat{S}_x^{(2)}*\\hat{I}_y^{(2, 5)} + A^{(2, 5)}_{xz}*\\gamma_e^{(2)}*\\hat{S}_x^{(2)}*\\hat{I}_z^{(2, 5)} + 1.0*I*A^{(2, 5)}_{yx}*\\gamma_e^{(2)}*\\hat{S}_y^{(2)}*\\hat{I}_x^{(2, 5)} - A^{(2, 5)}_{yy}*\\gamma_e^{(2)}*\\hat{S}_y^{(2)}*\\hat{I}_y^{(2, 5)} + 1.0*I*A^{(2, 5)}_{yz}*\\gamma_e^{(2)}*\\hat{S}_y^{(2)}*\\hat{I}_z^{(2, 5)} + A^{(2, 5)}_{zx}*\\gamma_e^{(2)}*\\hat{S}_z^{(2)}*\\hat{I}_x^{(2, 5)} + 1.0*I*A^{(2, 5)}_{zy}*\\gamma_e^{(2)}*\\hat{S}_z^{(2)}*\\hat{I}_y^{(2, 5)} + A^{(2, 5)}_{zz}*\\gamma_e^{(2)}*\\hat{S}_z^{(2)}*\\hat{I}_z^{(2, 5)} + A^{(2, 6)}_{xx}*\\gamma_e^{(2)}*\\hat{S}_x^{(2)}*\\hat{I}_x^{(2, 6)} + 1.0*I*A^{(2, 6)}_{xy}*\\gamma_e^{(2)}*\\hat{S}_x^{(2)}*\\hat{I}_y^{(2, 6)} + A^{(2, 6)}_{xz}*\\gamma_e^{(2)}*\\hat{S}_x^{(2)}*\\hat{I}_z^{(2, 6)} + 1.0*I*A^{(2, 6)}_{yx}*\\gamma_e^{(2)}*\\hat{S}_y^{(2)}*\\hat{I}_x^{(2, 6)} - A^{(2, 6)}_{yy}*\\gamma_e^{(2)}*\\hat{S}_y^{(2)}*\\hat{I}_y^{(2, 6)} + 1.0*I*A^{(2, 6)}_{yz}*\\gamma_e^{(2)}*\\hat{S}_y^{(2)}*\\hat{I}_z^{(2, 6)} + A^{(2, 6)}_{zx}*\\gamma_e^{(2)}*\\hat{S}_z^{(2)}*\\hat{I}_x^{(2, 6)} + 1.0*I*A^{(2, 6)}_{zy}*\\gamma_e^{(2)}*\\hat{S}_z^{(2)}*\\hat{I}_y^{(2, 6)} + A^{(2, 6)}_{zz}*\\gamma_e^{(2)}*\\hat{S}_z^{(2)}*\\hat{I}_z^{(2, 6)} + A^{(2, 7)}_{xx}*\\gamma_e^{(2)}*\\hat{S}_x^{(2)}*\\hat{I}_x^{(2, 7)} + 1.0*I*A^{(2, 7)}_{xy}*\\gamma_e^{(2)}*\\hat{S}_x^{(2)}*\\hat{I}_y^{(2, 7)} + A^{(2, 7)}_{xz}*\\gamma_e^{(2)}*\\hat{S}_x^{(2)}*\\hat{I}_z^{(2, 7)} + 1.0*I*A^{(2, 7)}_{yx}*\\gamma_e^{(2)}*\\hat{S}_y^{(2)}*\\hat{I}_x^{(2, 7)} - A^{(2, 7)}_{yy}*\\gamma_e^{(2)}*\\hat{S}_y^{(2)}*\\hat{I}_y^{(2, 7)} + 1.0*I*A^{(2, 7)}_{yz}*\\gamma_e^{(2)}*\\hat{S}_y^{(2)}*\\hat{I}_z^{(2, 7)} + A^{(2, 7)}_{zx}*\\gamma_e^{(2)}*\\hat{S}_z^{(2)}*\\hat{I}_x^{(2, 7)} + 1.0*I*A^{(2, 7)}_{zy}*\\gamma_e^{(2)}*\\hat{S}_z^{(2)}*\\hat{I}_y^{(2, 7)} + A^{(2, 7)}_{zz}*\\gamma_e^{(2)}*\\hat{S}_z^{(2)}*\\hat{I}_z^{(2, 7)} + A^{(2, 8)}_{xx}*\\gamma_e^{(2)}*\\hat{S}_x^{(2)}*\\hat{I}_x^{(2, 8)} + 1.0*I*A^{(2, 8)}_{xy}*\\gamma_e^{(2)}*\\hat{S}_x^{(2)}*\\hat{I}_y^{(2, 8)} + A^{(2, 8)}_{xz}*\\gamma_e^{(2)}*\\hat{S}_x^{(2)}*\\hat{I}_z^{(2, 8)} + 1.0*I*A^{(2, 8)}_{yx}*\\gamma_e^{(2)}*\\hat{S}_y^{(2)}*\\hat{I}_x^{(2, 8)} - A^{(2, 8)}_{yy}*\\gamma_e^{(2)}*\\hat{S}_y^{(2)}*\\hat{I}_y^{(2, 8)} + 1.0*I*A^{(2, 8)}_{yz}*\\gamma_e^{(2)}*\\hat{S}_y^{(2)}*\\hat{I}_z^{(2, 8)} + A^{(2, 8)}_{zx}*\\gamma_e^{(2)}*\\hat{S}_z^{(2)}*\\hat{I}_x^{(2, 8)} + 1.0*I*A^{(2, 8)}_{zy}*\\gamma_e^{(2)}*\\hat{S}_z^{(2)}*\\hat{I}_y^{(2, 8)} + A^{(2, 8)}_{zz}*\\gamma_e^{(2)}*\\hat{S}_z^{(2)}*\\hat{I}_z^{(2, 8)} + A^{(2, 9)}_{xx}*\\gamma_e^{(2)}*\\hat{S}_x^{(2)}*\\hat{I}_x^{(2, 9)} + 1.0*I*A^{(2, 9)}_{xy}*\\gamma_e^{(2)}*\\hat{S}_x^{(2)}*\\hat{I}_y^{(2, 9)} + A^{(2, 9)}_{xz}*\\gamma_e^{(2)}*\\hat{S}_x^{(2)}*\\hat{I}_z^{(2, 9)} + 1.0*I*A^{(2, 9)}_{yx}*\\gamma_e^{(2)}*\\hat{S}_y^{(2)}*\\hat{I}_x^{(2, 9)} - A^{(2, 9)}_{yy}*\\gamma_e^{(2)}*\\hat{S}_y^{(2)}*\\hat{I}_y^{(2, 9)} + 1.0*I*A^{(2, 9)}_{yz}*\\gamma_e^{(2)}*\\hat{S}_y^{(2)}*\\hat{I}_z^{(2, 9)} + A^{(2, 9)}_{zx}*\\gamma_e^{(2)}*\\hat{S}_z^{(2)}*\\hat{I}_x^{(2, 9)} + 1.0*I*A^{(2, 9)}_{zy}*\\gamma_e^{(2)}*\\hat{S}_z^{(2)}*\\hat{I}_y^{(2, 9)} + A^{(2, 9)}_{zz}*\\gamma_e^{(2)}*\\hat{S}_z^{(2)}*\\hat{I}_z^{(2, 9)}"
      ]
     },
     "execution_count": 10,
     "metadata": {},
     "output_type": "execute_result"
    }
   ],
   "source": [
    "hyperfine = hyperfine.simplify()\n",
    "hyperfine.symbol"
   ]
  },
  {
   "cell_type": "markdown",
   "id": "89fa8620-01b4-40fa-8419-bf91373f65ff",
   "metadata": {},
   "source": [
    "## Zeeman Hamiltonian\n",
    "$$\n",
    "\\hat{H}_{\\text{Z}}\n",
    "= - \\vec{B} \\cdot \\sum_i \\left(\\gamma_{\\text{e}}\\vec{S}^{(i)} + \\left(\\sum_j\\gamma_{\\text{n}}^{(ij)}\\vec{I}^{(ij)}\\right)\\right)\n",
    "$$"
   ]
  },
  {
   "cell_type": "code",
   "execution_count": 11,
   "id": "4980005a-c969-4d4c-8dc2-683a2b67c036",
   "metadata": {},
   "outputs": [
    {
     "data": {
      "text/latex": [
       "$\\displaystyle - B_{z} \\gamma_e^{(1)} \\hat{S}_z^{(1)} - B_{z} \\gamma_e^{(2)} \\hat{S}_z^{(2)} - B_{z} \\gamma_n^{(1, 1)} \\hat{I}_z^{(1, 1)} - B_{z} \\gamma_n^{(1, 10)} \\hat{I}_z^{(1, 10)} - B_{z} \\gamma_n^{(1, 11)} \\hat{I}_z^{(1, 11)} - B_{z} \\gamma_n^{(1, 12)} \\hat{I}_z^{(1, 12)} - B_{z} \\gamma_n^{(1, 13)} \\hat{I}_z^{(1, 13)} - B_{z} \\gamma_n^{(1, 14)} \\hat{I}_z^{(1, 14)} - B_{z} \\gamma_n^{(1, 15)} \\hat{I}_z^{(1, 15)} - B_{z} \\gamma_n^{(1, 16)} \\hat{I}_z^{(1, 16)} - B_{z} \\gamma_n^{(1, 2)} \\hat{I}_z^{(1, 2)} - B_{z} \\gamma_n^{(1, 3)} \\hat{I}_z^{(1, 3)} - B_{z} \\gamma_n^{(1, 4)} \\hat{I}_z^{(1, 4)} - B_{z} \\gamma_n^{(1, 5)} \\hat{I}_z^{(1, 5)} - B_{z} \\gamma_n^{(1, 6)} \\hat{I}_z^{(1, 6)} - B_{z} \\gamma_n^{(1, 7)} \\hat{I}_z^{(1, 7)} - B_{z} \\gamma_n^{(1, 8)} \\hat{I}_z^{(1, 8)} - B_{z} \\gamma_n^{(1, 9)} \\hat{I}_z^{(1, 9)} - B_{z} \\gamma_n^{(2, 1)} \\hat{I}_z^{(2, 1)} - B_{z} \\gamma_n^{(2, 10)} \\hat{I}_z^{(2, 10)} - B_{z} \\gamma_n^{(2, 11)} \\hat{I}_z^{(2, 11)} - B_{z} \\gamma_n^{(2, 2)} \\hat{I}_z^{(2, 2)} - B_{z} \\gamma_n^{(2, 3)} \\hat{I}_z^{(2, 3)} - B_{z} \\gamma_n^{(2, 4)} \\hat{I}_z^{(2, 4)} - B_{z} \\gamma_n^{(2, 5)} \\hat{I}_z^{(2, 5)} - B_{z} \\gamma_n^{(2, 6)} \\hat{I}_z^{(2, 6)} - B_{z} \\gamma_n^{(2, 7)} \\hat{I}_z^{(2, 7)} - B_{z} \\gamma_n^{(2, 8)} \\hat{I}_z^{(2, 8)} - B_{z} \\gamma_n^{(2, 9)} \\hat{I}_z^{(2, 9)}$"
      ],
      "text/plain": [
       "-B_z*\\gamma_e^{(1)}*\\hat{S}_z^{(1)} - B_z*\\gamma_e^{(2)}*\\hat{S}_z^{(2)} - B_z*\\gamma_n^{(1, 1)}*\\hat{I}_z^{(1, 1)} - B_z*\\gamma_n^{(1, 10)}*\\hat{I}_z^{(1, 10)} - B_z*\\gamma_n^{(1, 11)}*\\hat{I}_z^{(1, 11)} - B_z*\\gamma_n^{(1, 12)}*\\hat{I}_z^{(1, 12)} - B_z*\\gamma_n^{(1, 13)}*\\hat{I}_z^{(1, 13)} - B_z*\\gamma_n^{(1, 14)}*\\hat{I}_z^{(1, 14)} - B_z*\\gamma_n^{(1, 15)}*\\hat{I}_z^{(1, 15)} - B_z*\\gamma_n^{(1, 16)}*\\hat{I}_z^{(1, 16)} - B_z*\\gamma_n^{(1, 2)}*\\hat{I}_z^{(1, 2)} - B_z*\\gamma_n^{(1, 3)}*\\hat{I}_z^{(1, 3)} - B_z*\\gamma_n^{(1, 4)}*\\hat{I}_z^{(1, 4)} - B_z*\\gamma_n^{(1, 5)}*\\hat{I}_z^{(1, 5)} - B_z*\\gamma_n^{(1, 6)}*\\hat{I}_z^{(1, 6)} - B_z*\\gamma_n^{(1, 7)}*\\hat{I}_z^{(1, 7)} - B_z*\\gamma_n^{(1, 8)}*\\hat{I}_z^{(1, 8)} - B_z*\\gamma_n^{(1, 9)}*\\hat{I}_z^{(1, 9)} - B_z*\\gamma_n^{(2, 1)}*\\hat{I}_z^{(2, 1)} - B_z*\\gamma_n^{(2, 10)}*\\hat{I}_z^{(2, 10)} - B_z*\\gamma_n^{(2, 11)}*\\hat{I}_z^{(2, 11)} - B_z*\\gamma_n^{(2, 2)}*\\hat{I}_z^{(2, 2)} - B_z*\\gamma_n^{(2, 3)}*\\hat{I}_z^{(2, 3)} - B_z*\\gamma_n^{(2, 4)}*\\hat{I}_z^{(2, 4)} - B_z*\\gamma_n^{(2, 5)}*\\hat{I}_z^{(2, 5)} - B_z*\\gamma_n^{(2, 6)}*\\hat{I}_z^{(2, 6)} - B_z*\\gamma_n^{(2, 7)}*\\hat{I}_z^{(2, 7)} - B_z*\\gamma_n^{(2, 8)}*\\hat{I}_z^{(2, 8)} - B_z*\\gamma_n^{(2, 9)}*\\hat{I}_z^{(2, 9)}"
      ]
     },
     "execution_count": 11,
     "metadata": {},
     "output_type": "execute_result"
    }
   ],
   "source": [
    "zeeman = SumOfProducts()\n",
    "\n",
    "xyz = \"xyz\"\n",
    "\n",
    "for k, (Sr_op, Ir_op) in enumerate(zip(Sr_ops, Ir_ops, strict=True)):\n",
    "    if B[k] == 0.0:\n",
    "        continue\n",
    "    r = xyz[k]\n",
    "    Br = Symbol(f\"B_{r}\")\n",
    "    subs[Br] = B[k] * SCALE\n",
    "    for i in range(len(sim.radicals)):\n",
    "        if k == 1:\n",
    "            zeeman += -1.0j * Br * g_ele_sym[i] * Sr_op[i]\n",
    "        else:\n",
    "            zeeman += -Br * g_ele_sym[i] * Sr_op[i]\n",
    "        for j in range(len(sim.molecules[i].nuclei)):\n",
    "            if k == 1:\n",
    "                zeeman += -1.0j * Br * g_nuc_sym[(i, j)] * Ir_op[(i, j)]\n",
    "            else:\n",
    "                zeeman += -Br * g_nuc_sym[(i, j)] * Ir_op[(i, j)]\n",
    "\n",
    "zeeman = zeeman.simplify()\n",
    "zeeman.symbol"
   ]
  },
  {
   "cell_type": "markdown",
   "id": "82c2446d-6bc7-483a-820a-6aa6f934f522",
   "metadata": {},
   "source": [
    "## Exchange Hamiltonian\n",
    "$$\n",
    "\\hat{H}_{\\text{J}}\n",
    "= J \\gamma_e \\left(\\vec{S}_1\\cdot\\vec{S_2}+\\frac{1}{2}\\hat{E}\\right)\n",
    "$$"
   ]
  },
  {
   "cell_type": "code",
   "execution_count": 12,
   "id": "5dbad2dc-37e0-4032-b2a8-9d0a6d6c412a",
   "metadata": {},
   "outputs": [
    {
     "data": {
      "text/latex": [
       "$\\displaystyle 0.5 J \\gamma_e^{(1)} \\hat{E} + 2 J \\gamma_e^{(1)} \\hat{S}_1\\cdot\\hat{S}_2$"
      ],
      "text/plain": [
       "0.5*J*\\gamma_e^{(1)}*\\hat{E} + 2*J*\\gamma_e^{(1)}*\\hat{S}_1\\cdot\\hat{S}_2"
      ]
     },
     "execution_count": 12,
     "metadata": {},
     "output_type": "execute_result"
    }
   ],
   "source": [
    "exchange = SumOfProducts()\n",
    "Jsym = Symbol(\"J\")\n",
    "subs[Jsym] = J * SCALE\n",
    "exchange += Jsym * g_ele_sym[0] * (2 * S1S2_op + 0.5 * E_op)\n",
    "exchange = exchange.simplify()\n",
    "exchange.symbol"
   ]
  },
  {
   "cell_type": "markdown",
   "id": "586ce902-d94d-45ba-a552-3d3532359618",
   "metadata": {},
   "source": [
    "## Dipolar Hamiltonian\n",
    "$$\n",
    "\\hat{H}_{\\text{J}}\n",
    "= \\vec{S}_1^\\top \\cdot D \\cdot \\vec{S_2}\n",
    "$$"
   ]
  },
  {
   "cell_type": "code",
   "execution_count": 13,
   "id": "54e6dc06-1495-4761-b4f6-fa4820229227",
   "metadata": {},
   "outputs": [
    {
     "data": {
      "text/latex": [
       "$\\displaystyle D_{xx} \\hat{S}_x^{(1)} \\hat{S}_x^{(2)} + 1.0 i D_{xy} \\hat{S}_x^{(1)} \\hat{S}_y^{(2)} + D_{xz} \\hat{S}_x^{(1)} \\hat{S}_z^{(2)} + 1.0 i D_{yx} \\hat{S}_y^{(1)} \\hat{S}_x^{(2)} - D_{yy} \\hat{S}_y^{(1)} \\hat{S}_y^{(2)} + 1.0 i D_{yz} \\hat{S}_y^{(1)} \\hat{S}_z^{(2)} + D_{zx} \\hat{S}_z^{(1)} \\hat{S}_x^{(2)} + 1.0 i D_{zy} \\hat{S}_z^{(1)} \\hat{S}_y^{(2)} + D_{zz} \\hat{S}_z^{(1)} \\hat{S}_z^{(2)}$"
      ],
      "text/plain": [
       "D_{xx}*\\hat{S}_x^{(1)}*\\hat{S}_x^{(2)} + 1.0*I*D_{xy}*\\hat{S}_x^{(1)}*\\hat{S}_y^{(2)} + D_{xz}*\\hat{S}_x^{(1)}*\\hat{S}_z^{(2)} + 1.0*I*D_{yx}*\\hat{S}_y^{(1)}*\\hat{S}_x^{(2)} - D_{yy}*\\hat{S}_y^{(1)}*\\hat{S}_y^{(2)} + 1.0*I*D_{yz}*\\hat{S}_y^{(1)}*\\hat{S}_z^{(2)} + D_{zx}*\\hat{S}_z^{(1)}*\\hat{S}_x^{(2)} + 1.0*I*D_{zy}*\\hat{S}_z^{(1)}*\\hat{S}_y^{(2)} + D_{zz}*\\hat{S}_z^{(1)}*\\hat{S}_z^{(2)}"
      ]
     },
     "execution_count": 13,
     "metadata": {},
     "output_type": "execute_result"
    }
   ],
   "source": [
    "dipolar = SumOfProducts()\n",
    "for k in range(3):\n",
    "    for l in range(3):\n",
    "        if D[k, l] == 0.0:\n",
    "            continue\n",
    "        else:\n",
    "            Dsym = Symbol(\"D_{\" + f\"{xyz[k]}\" + f\"{xyz[l]}\" + \"}\")\n",
    "            subs[Dsym] = D[k, l] * SCALE\n",
    "            if k == l == 1:\n",
    "                dipolar += -Dsym * Sr_ops[k][0] * Sr_ops[l][1]\n",
    "            elif k != 1 and l != 1:\n",
    "                dipolar += Dsym * Sr_ops[k][0] * Sr_ops[l][1]\n",
    "            else:\n",
    "                dipolar += 1.0j * Dsym * Sr_ops[k][0] * Sr_ops[l][1]\n",
    "dipolar = dipolar.simplify()\n",
    "dipolar.symbol"
   ]
  },
  {
   "cell_type": "markdown",
   "id": "7c21f088-77ff-4b73-9c0d-dbb2021d75cf",
   "metadata": {},
   "source": [
    "## CAP"
   ]
  },
  {
   "cell_type": "code",
   "execution_count": 14,
   "id": "c420327e-0205-4df1-941a-c62a061ee772",
   "metadata": {},
   "outputs": [
    {
     "data": {
      "text/latex": [
       "$\\displaystyle - 0.5 i k_{S} \\hat{Q}_S - 0.5 i k_{T} \\hat{Q}_T$"
      ],
      "text/plain": [
       "-0.5*I*k_S*\\hat{Q}_S - 0.5*I*k_T*\\hat{Q}_T"
      ]
     },
     "execution_count": 14,
     "metadata": {},
     "output_type": "execute_result"
    }
   ],
   "source": [
    "haberkorn = SumOfProducts()\n",
    "if kS != 0.0:\n",
    "    kSsym = Symbol(\"k_S\")\n",
    "    subs[kSsym] = kS * SCALE\n",
    "    haberkorn -= 1.0j * kSsym / 2 * Qs_op\n",
    "if kT != 0.0:\n",
    "    kTsym = Symbol(\"k_T\")\n",
    "    subs[kTsym] = kT * SCALE\n",
    "    haberkorn -= 1.0j * kTsym / 2 * Qt_op\n",
    "haberkorn = haberkorn.simplify()\n",
    "haberkorn.symbol"
   ]
  },
  {
   "cell_type": "markdown",
   "id": "08dd2e85-49ff-48f1-b618-87907da4c33c",
   "metadata": {},
   "source": [
    "Construct matrix product operator (MPO) for MPS propagation"
   ]
  },
  {
   "cell_type": "code",
   "execution_count": 15,
   "id": "33b309c1-aec3-4dba-a6e1-77e29a609faa",
   "metadata": {},
   "outputs": [],
   "source": [
    "hamiltonian = hyperfine + zeeman + exchange + dipolar + haberkorn\n",
    "hamiltonian = hamiltonian.simplify()\n",
    "am = AssignManager(hamiltonian)\n",
    "_ = am.assign()\n",
    "# display(*am.Wsym)\n",
    "mpo = am.numerical_mpo(subs=subs)"
   ]
  },
  {
   "cell_type": "markdown",
   "id": "e4a74374-8d4a-48c3-afc6-90aab734a299",
   "metadata": {},
   "source": [
    "## Mixed state (ensemble) simulation"
   ]
  },
  {
   "cell_type": "code",
   "execution_count": 16,
   "id": "f0248ac0-e862-48fb-a79b-43cfe60ed0d5",
   "metadata": {},
   "outputs": [],
   "source": [
    "backend = \"numpy\"\n",
    "m = 32  # Bond dimension\n",
    "Δt = 5.0e-10 / SCALE * units.au_in_fs  # dt = 0.5 ns\n",
    "\n",
    "spin_coherent = True  # Whether or not use coherent state sampling"
   ]
  },
  {
   "cell_type": "code",
   "execution_count": 17,
   "id": "93ad5ed7-c57c-4f30-bbe6-9623052627b4",
   "metadata": {},
   "outputs": [],
   "source": [
    "basis = []\n",
    "for nuc in sim.molecules[0].nuclei:\n",
    "    basis.append(Exciton(nstate=nuc.multiplicity))\n",
    "basis.append(Exciton(nstate=4))\n",
    "for nuc in sim.molecules[1].nuclei:\n",
    "    basis.append(Exciton(nstate=nuc.multiplicity))\n",
    "basinfo = BasInfo([basis], spf_info=None)\n",
    "\n",
    "nsite = len(basis)"
   ]
  },
  {
   "cell_type": "code",
   "execution_count": 18,
   "id": "d2f3301f-a1a4-4914-9da6-50bf045b2308",
   "metadata": {},
   "outputs": [],
   "source": [
    "op_dict = {\n",
    "    tuple([(isite, isite) for isite in range(nsite)]): TensorOperator(mpo=mpo)\n",
    "}\n",
    "H = TensorHamiltonian(\n",
    "    nsite, potential=[[op_dict]], kinetic=None, backend=backend\n",
    ")\n",
    "op_dict = {\n",
    "    ((ele_site, ele_site),) : TensorOperator(mpo=[Qs[None, :, : , None]], \n",
    "                                         legs=(ele_site, ele_site))\n",
    "}\n",
    "singlet = TensorHamiltonian(\n",
    "    nsite, potential=[[op_dict]], kinetic=None, backend=backend\n",
    ")"
   ]
  },
  {
   "cell_type": "code",
   "execution_count": 19,
   "id": "692008c7-ef45-473a-be1b-054ee58f2f07",
   "metadata": {},
   "outputs": [],
   "source": [
    "def spin_coherenet_state(pair):\n",
    "    \"\"\"\n",
    "    J. Chem. Phys. 154, 084121 (2021); doi: 10.1063/5.0040519\n",
    "\n",
    "    Sample from spin coherent state\n",
    "    |Ω⁽ᴵ⁾⟩ = cos(θ/2)²ᴵ exp(tan(θ/2)exp(iϕ)Î₋) |I,I⟩\n",
    "    \"\"\"\n",
    "    hp = []\n",
    "    for isite in range(nsite):\n",
    "        if isite == ele_site:\n",
    "            hp.append([0, 0, 1, 0])  # Singlet\n",
    "        else:\n",
    "            mult = basis[isite].nstate\n",
    "            I = (mult - 1) / 2\n",
    "            nind = isite - int(ele_site <= isite)\n",
    "\n",
    "            theta = np.arccos(pair[2 * nind] * 2 - 1.0)\n",
    "            # same as\n",
    "            # theta = np.arcsin(pair[2*nind] * 2 - 1.0)\n",
    "            # if theta < 0:\n",
    "            #    theta += np.pi\n",
    "            phi = pair[2 * nind + 1] * 2 * np.pi\n",
    "            weights = np.zeros((mult, 1))\n",
    "            weights[0, 0] = 1.0\n",
    "            weights = (\n",
    "                (np.cos(theta / 2) ** (2 * I))\n",
    "                * expm(\n",
    "                    np.tan(theta / 2)\n",
    "                    * np.exp(1.0j * phi)\n",
    "                    * sim.nuclei[nind].pauli[\"m\"]\n",
    "                )\n",
    "                @ weights\n",
    "            )\n",
    "            assert (\n",
    "                abs((weights.conjugate().T @ weights).real[0, 0] - 1.0)\n",
    "                < 1.0e-14\n",
    "            ), (weights.conjugate().T @ weights)[0, 0]\n",
    "            # print(weights.conjugate().T @ weights, weights)\n",
    "            hp.append(weights.reshape(-1).tolist())\n",
    "    return hp\n",
    "\n",
    "\n",
    "def projection_state(pair):\n",
    "    \"\"\"\n",
    "    Sampel from projection state |M⟩\n",
    "    \"\"\"\n",
    "    init_nuc_spins = [\n",
    "        np.floor(pair[i] * basis[i + int(ele_site <= i)].nstate).astype(int)\n",
    "        for i in range(nsite - 1)\n",
    "    ]\n",
    "    hp = []\n",
    "    for isite in range(nsite):\n",
    "        if isite == ele_site:\n",
    "            hp.append([0, 0, 1, 0])  # Singlet\n",
    "        else:\n",
    "            weights = np.zeros(basis[isite].nstate)\n",
    "            weights[init_nuc_spins[isite - int(ele_site <= isite)]] = 1.0\n",
    "            hp.append(weights.tolist())\n",
    "    return hp\n",
    "\n",
    "\n",
    "def process_pair(pair, i, H):\n",
    "    operators = {\"hamiltonian\": H}\n",
    "    model = Model(basinfo=basinfo, operators=operators)\n",
    "    model.m_aux_max = m\n",
    "    if spin_coherent:\n",
    "        hp = spin_coherenet_state(pair)\n",
    "    else:\n",
    "        hp = projection_state(pair)\n",
    "    model.init_HartreeProduct = [hp]\n",
    "\n",
    "    jobname = f\"radicalpair_{i}\"\n",
    "    simulator = Simulator(\n",
    "        jobname=jobname, model=model, backend=backend, verbose=0\n",
    "    )\n",
    "    ener, wf = simulator.propagate(\n",
    "        reduced_density=(\n",
    "            [(ele_site, ele_site)],\n",
    "            2,\n",
    "        ),\n",
    "        maxstep=100,\n",
    "        stepsize=Δt,\n",
    "        autocorr=False,\n",
    "        energy=False,\n",
    "        norm=False,\n",
    "        populations=False,\n",
    "        # observables=True,\n",
    "        conserve_norm=False, # Since CAP is employed\n",
    "        # integrator='arnoldi'\n",
    "    )\n",
    "\n",
    "    with nc.Dataset(f\"{jobname}_prop/reduced_density.nc\", \"r\") as file:\n",
    "        density_data_real = file.variables[f\"rho_({ele_site}, {ele_site})_0\"][\n",
    "            :\n",
    "        ][\"real\"]\n",
    "        density_data_imag = file.variables[f\"rho_({ele_site}, {ele_site})_0\"][\n",
    "            :\n",
    "        ][\"imag\"]\n",
    "        time_data = file.variables[\"time\"][:]\n",
    "\n",
    "    density_data = np.array(density_data_real) + 1.0j * np.array(\n",
    "        density_data_imag\n",
    "    )\n",
    "    time_data = np.array(time_data)\n",
    "\n",
    "    return density_data, time_data"
   ]
  },
  {
   "cell_type": "markdown",
   "id": "889b2703-5d61-4b0b-bc47-078dc3507db0",
   "metadata": {},
   "source": [
    "Since nuclear spins are mixed state, one needs to consider ensemble of nuclear spin initial states. \n",
    "The calculation is performed in parallel for each trajectory.\n",
    "When the number of nuclear spins large, switch to quasi Monte Carlo approach. "
   ]
  },
  {
   "cell_type": "code",
   "execution_count": 20,
   "id": "54b2ebd4-bba0-4231-a7ac-ffcba206d6b4",
   "metadata": {
    "scrolled": true
   },
   "outputs": [],
   "source": [
    "futures = []\n",
    "density_sum = None\n",
    "\n",
    "# If number of nuclear spin is larger than 6,\n",
    "# initial states are randomly sampled by quasi Monte Carlo\n",
    "is_mc = len(basis) - 1 > 5\n",
    "\n",
    "if spin_coherent:\n",
    "    engine = qmc.Sobol(d=2 * (nsite - 1), scramble=True)\n",
    "else:\n",
    "    engine = qmc.Sobol(d=nsite - 1, scramble=True)\n",
    "pairs = engine.random(n=2**7)  # sample from [0, 1]^N hypercubic"
   ]
  },
  {
   "cell_type": "code",
   "execution_count": 21,
   "id": "7936efcb-8652-48fb-9352-fadffdd696f2",
   "metadata": {
    "scrolled": true
   },
   "outputs": [
    {
     "data": {
      "application/vnd.jupyter.widget-view+json": {
       "model_id": "222cf29fcc4045e49168b6296f200bbe",
       "version_major": 2,
       "version_minor": 0
      },
      "text/plain": [
       "Processing pairs:   0%|          | 0/128 [00:00<?, ?it/s]"
      ]
     },
     "metadata": {},
     "output_type": "display_data"
    },
    {
     "name": "stderr",
     "output_type": "stream",
     "text": [
      "10:50:38 | INFO | Wave function is saved in wf_radicalpair_6.pkl\n",
      "10:50:38 | INFO | Wave function is saved in wf_radicalpair_1.pkl\n",
      "10:50:38 | INFO | Wave function is saved in wf_radicalpair_0.pkl\n",
      "10:50:38 | INFO | Wave function is saved in wf_radicalpair_2.pkl\n",
      "10:50:38 | INFO | Start initial step    0.000 [fs]\n",
      "10:50:38 | INFO | Wave function is saved in wf_radicalpair_3.pkl\n",
      "10:50:38 | INFO | Wave function is saved in wf_radicalpair_7.pkl\n",
      "10:50:38 | INFO | Wave function is saved in wf_radicalpair_5.pkl\n",
      "10:50:38 | INFO | Start initial step    0.000 [fs]\n",
      "10:50:38 | INFO | Wave function is saved in wf_radicalpair_4.pkl\n",
      "10:50:38 | INFO | Start initial step    0.000 [fs]\n",
      "10:50:38 | INFO | Start initial step    0.000 [fs]\n",
      "10:50:38 | INFO | Start initial step    0.000 [fs]\n",
      "10:50:38 | INFO | Start initial step    0.000 [fs]\n",
      "10:50:38 | INFO | Start initial step    0.000 [fs]\n"
     ]
    },
    {
     "data": {
      "application/vnd.jupyter.widget-view+json": {
       "model_id": "d4b70e6fb55d41148a976412a83baa80",
       "version_major": 2,
       "version_minor": 0
      },
      "text/plain": [
       "  0%|          | 0/100 [00:00<?, ?it/s]"
      ]
     },
     "metadata": {},
     "output_type": "display_data"
    },
    {
     "name": "stderr",
     "output_type": "stream",
     "text": [
      "10:50:38 | INFO | Start initial step    0.000 [fs]\n"
     ]
    },
    {
     "data": {
      "application/vnd.jupyter.widget-view+json": {
       "model_id": "a01ee8609f5144bebf66f6b06dcdfb08",
       "version_major": 2,
       "version_minor": 0
      },
      "text/plain": [
       "  0%|          | 0/100 [00:00<?, ?it/s]"
      ]
     },
     "metadata": {},
     "output_type": "display_data"
    },
    {
     "data": {
      "application/vnd.jupyter.widget-view+json": {
       "model_id": "2895d7fc50074bb6ab34b3fa8c35858a",
       "version_major": 2,
       "version_minor": 0
      },
      "text/plain": [
       "  0%|          | 0/100 [00:00<?, ?it/s]"
      ]
     },
     "metadata": {},
     "output_type": "display_data"
    },
    {
     "data": {
      "application/vnd.jupyter.widget-view+json": {
       "model_id": "19e66fc2009e45b28e5202b9674fb335",
       "version_major": 2,
       "version_minor": 0
      },
      "text/plain": [
       "  0%|          | 0/100 [00:00<?, ?it/s]"
      ]
     },
     "metadata": {},
     "output_type": "display_data"
    },
    {
     "data": {
      "application/vnd.jupyter.widget-view+json": {
       "model_id": "c612463b48d94584bff84fa3658ce306",
       "version_major": 2,
       "version_minor": 0
      },
      "text/plain": [
       "  0%|          | 0/100 [00:00<?, ?it/s]"
      ]
     },
     "metadata": {},
     "output_type": "display_data"
    },
    {
     "data": {
      "application/vnd.jupyter.widget-view+json": {
       "model_id": "090a10e4d19940fe916ecc265913fad2",
       "version_major": 2,
       "version_minor": 0
      },
      "text/plain": [
       "  0%|          | 0/100 [00:00<?, ?it/s]"
      ]
     },
     "metadata": {},
     "output_type": "display_data"
    },
    {
     "data": {
      "application/vnd.jupyter.widget-view+json": {
       "model_id": "647392555ddd4481afd7773bdcfbeaf5",
       "version_major": 2,
       "version_minor": 0
      },
      "text/plain": [
       "  0%|          | 0/100 [00:00<?, ?it/s]"
      ]
     },
     "metadata": {},
     "output_type": "display_data"
    },
    {
     "data": {
      "application/vnd.jupyter.widget-view+json": {
       "model_id": "c773d94a0a3b477f8ec863e6f6182dad",
       "version_major": 2,
       "version_minor": 0
      },
      "text/plain": [
       "  0%|          | 0/100 [00:00<?, ?it/s]"
      ]
     },
     "metadata": {},
     "output_type": "display_data"
    },
    {
     "name": "stderr",
     "output_type": "stream",
     "text": [
      "10:50:38 | INFO | End     0 step; propagated    0.012 [fs]; AVG Krylov iteration: 5.93\n",
      "10:50:38 | INFO | End     0 step; propagated    0.012 [fs]; AVG Krylov iteration: 5.93\n",
      "10:50:38 | INFO | End     0 step; propagated    0.012 [fs]; AVG Krylov iteration: 5.93\n",
      "10:50:38 | INFO | End     0 step; propagated    0.012 [fs]; AVG Krylov iteration: 6.82\n",
      "10:50:38 | INFO | End     0 step; propagated    0.012 [fs]; AVG Krylov iteration: 5.93\n",
      "10:50:38 | INFO | End     0 step; propagated    0.012 [fs]; AVG Krylov iteration: 5.93\n",
      "10:50:38 | INFO | End     0 step; propagated    0.012 [fs]; AVG Krylov iteration: 6.57\n",
      "10:50:38 | INFO | End     0 step; propagated    0.012 [fs]; AVG Krylov iteration: 5.93\n",
      "10:51:08 | INFO | End    99 step; propagated    1.197 [fs]; AVG Krylov iteration: 5.86\n",
      "10:51:08 | INFO | End simulation and save wavefunction\n",
      "10:51:08 | INFO | Wave function is saved in wf_radicalpair_4.pkl\n",
      "10:51:08 | INFO | Wave function is saved in wf_radicalpair_8.pkl\n",
      "10:51:08 | INFO | Start initial step    0.000 [fs]\n"
     ]
    },
    {
     "data": {
      "application/vnd.jupyter.widget-view+json": {
       "model_id": "930366b8fd054fcbbef3da0b45e2dc19",
       "version_major": 2,
       "version_minor": 0
      },
      "text/plain": [
       "  0%|          | 0/100 [00:00<?, ?it/s]"
      ]
     },
     "metadata": {},
     "output_type": "display_data"
    },
    {
     "name": "stderr",
     "output_type": "stream",
     "text": [
      "10:51:08 | INFO | End     0 step; propagated    0.012 [fs]; AVG Krylov iteration: 5.93\n",
      "10:51:08 | INFO | End    99 step; propagated    1.197 [fs]; AVG Krylov iteration: 5.71\n",
      "10:51:08 | INFO | End simulation and save wavefunction\n",
      "10:51:08 | INFO | Wave function is saved in wf_radicalpair_6.pkl\n",
      "10:51:08 | INFO | End    99 step; propagated    1.197 [fs]; AVG Krylov iteration: 5.79\n",
      "10:51:08 | INFO | End simulation and save wavefunction\n",
      "10:51:08 | INFO | Wave function is saved in wf_radicalpair_7.pkl\n",
      "10:51:08 | INFO | Wave function is saved in wf_radicalpair_9.pkl\n",
      "10:51:08 | INFO | Start initial step    0.000 [fs]\n"
     ]
    },
    {
     "data": {
      "application/vnd.jupyter.widget-view+json": {
       "model_id": "60ce258382264832810923c82f4a1ad3",
       "version_major": 2,
       "version_minor": 0
      },
      "text/plain": [
       "  0%|          | 0/100 [00:00<?, ?it/s]"
      ]
     },
     "metadata": {},
     "output_type": "display_data"
    },
    {
     "name": "stderr",
     "output_type": "stream",
     "text": [
      "10:51:08 | INFO | Wave function is saved in wf_radicalpair_10.pkl\n",
      "10:51:08 | INFO | Start initial step    0.000 [fs]\n"
     ]
    },
    {
     "data": {
      "application/vnd.jupyter.widget-view+json": {
       "model_id": "2a1f0047511c4ada88cd396aa3338de2",
       "version_major": 2,
       "version_minor": 0
      },
      "text/plain": [
       "  0%|          | 0/100 [00:00<?, ?it/s]"
      ]
     },
     "metadata": {},
     "output_type": "display_data"
    },
    {
     "name": "stderr",
     "output_type": "stream",
     "text": [
      "10:51:08 | INFO | End    99 step; propagated    1.197 [fs]; AVG Krylov iteration: 5.82\n",
      "10:51:08 | INFO | End simulation and save wavefunction\n",
      "10:51:08 | INFO | Wave function is saved in wf_radicalpair_5.pkl\n",
      "10:51:08 | INFO | Wave function is saved in wf_radicalpair_11.pkl\n",
      "10:51:08 | INFO | Start initial step    0.000 [fs]\n",
      "10:51:08 | INFO | End    99 step; propagated    1.197 [fs]; AVG Krylov iteration: 5.79\n",
      "10:51:08 | INFO | End simulation and save wavefunction\n"
     ]
    },
    {
     "data": {
      "application/vnd.jupyter.widget-view+json": {
       "model_id": "f6cd3ea7ec5b46eb9cfc1fa285e2dacb",
       "version_major": 2,
       "version_minor": 0
      },
      "text/plain": [
       "  0%|          | 0/100 [00:00<?, ?it/s]"
      ]
     },
     "metadata": {},
     "output_type": "display_data"
    },
    {
     "name": "stderr",
     "output_type": "stream",
     "text": [
      "10:51:08 | INFO | Wave function is saved in wf_radicalpair_3.pkl\n",
      "10:51:08 | INFO | Wave function is saved in wf_radicalpair_12.pkl\n",
      "10:51:08 | INFO | Start initial step    0.000 [fs]\n"
     ]
    },
    {
     "data": {
      "application/vnd.jupyter.widget-view+json": {
       "model_id": "85bacdbd4c2741f299ee0857e7c7109c",
       "version_major": 2,
       "version_minor": 0
      },
      "text/plain": [
       "  0%|          | 0/100 [00:00<?, ?it/s]"
      ]
     },
     "metadata": {},
     "output_type": "display_data"
    },
    {
     "name": "stderr",
     "output_type": "stream",
     "text": [
      "10:51:09 | INFO | End     0 step; propagated    0.012 [fs]; AVG Krylov iteration: 5.93\n",
      "10:51:09 | INFO | End     0 step; propagated    0.012 [fs]; AVG Krylov iteration: 5.93\n",
      "10:51:09 | INFO | End     0 step; propagated    0.012 [fs]; AVG Krylov iteration: 5.93\n",
      "10:51:09 | INFO | End     0 step; propagated    0.012 [fs]; AVG Krylov iteration: 5.93\n",
      "10:51:09 | INFO | End    99 step; propagated    1.197 [fs]; AVG Krylov iteration: 5.82\n",
      "10:51:09 | INFO | End simulation and save wavefunction\n",
      "10:51:09 | INFO | Wave function is saved in wf_radicalpair_2.pkl\n",
      "10:51:09 | INFO | Wave function is saved in wf_radicalpair_13.pkl\n",
      "10:51:09 | INFO | Start initial step    0.000 [fs]\n"
     ]
    },
    {
     "data": {
      "application/vnd.jupyter.widget-view+json": {
       "model_id": "599edf8d2e0447ad8dd1fe295795d11e",
       "version_major": 2,
       "version_minor": 0
      },
      "text/plain": [
       "  0%|          | 0/100 [00:00<?, ?it/s]"
      ]
     },
     "metadata": {},
     "output_type": "display_data"
    },
    {
     "name": "stderr",
     "output_type": "stream",
     "text": [
      "10:51:09 | INFO | End     0 step; propagated    0.012 [fs]; AVG Krylov iteration: 5.93\n",
      "10:51:10 | INFO | End    99 step; propagated    1.197 [fs]; AVG Krylov iteration: 6.25\n",
      "10:51:10 | INFO | End simulation and save wavefunction\n",
      "10:51:10 | INFO | Wave function is saved in wf_radicalpair_1.pkl\n",
      "10:51:10 | INFO | Wave function is saved in wf_radicalpair_14.pkl\n",
      "10:51:10 | INFO | Start initial step    0.000 [fs]\n"
     ]
    },
    {
     "data": {
      "application/vnd.jupyter.widget-view+json": {
       "model_id": "49319ecc4f034b7dbe0b7dbf4a1eab7b",
       "version_major": 2,
       "version_minor": 0
      },
      "text/plain": [
       "  0%|          | 0/100 [00:00<?, ?it/s]"
      ]
     },
     "metadata": {},
     "output_type": "display_data"
    },
    {
     "name": "stderr",
     "output_type": "stream",
     "text": [
      "10:51:10 | INFO | End     0 step; propagated    0.012 [fs]; AVG Krylov iteration: 5.86\n",
      "10:51:11 | INFO | End    99 step; propagated    1.197 [fs]; AVG Krylov iteration: 6.68\n",
      "10:51:11 | INFO | End simulation and save wavefunction\n",
      "10:51:11 | INFO | Wave function is saved in wf_radicalpair_0.pkl\n",
      "10:51:11 | INFO | Wave function is saved in wf_radicalpair_15.pkl\n",
      "10:51:11 | INFO | Start initial step    0.000 [fs]\n"
     ]
    },
    {
     "data": {
      "application/vnd.jupyter.widget-view+json": {
       "model_id": "0249e98e8cbc47b2b9bcb22a390f489c",
       "version_major": 2,
       "version_minor": 0
      },
      "text/plain": [
       "  0%|          | 0/100 [00:00<?, ?it/s]"
      ]
     },
     "metadata": {},
     "output_type": "display_data"
    },
    {
     "name": "stderr",
     "output_type": "stream",
     "text": [
      "10:51:11 | INFO | End     0 step; propagated    0.012 [fs]; AVG Krylov iteration: 5.93\n",
      "10:51:40 | INFO | End    99 step; propagated    1.197 [fs]; AVG Krylov iteration: 5.79\n",
      "10:51:40 | INFO | End simulation and save wavefunction\n",
      "10:51:40 | INFO | Wave function is saved in wf_radicalpair_8.pkl\n",
      "10:51:40 | INFO | Wave function is saved in wf_radicalpair_16.pkl\n",
      "10:51:40 | INFO | Start initial step    0.000 [fs]\n"
     ]
    },
    {
     "data": {
      "application/vnd.jupyter.widget-view+json": {
       "model_id": "5e63406496434e1ba2f876abd3746a8e",
       "version_major": 2,
       "version_minor": 0
      },
      "text/plain": [
       "  0%|          | 0/100 [00:00<?, ?it/s]"
      ]
     },
     "metadata": {},
     "output_type": "display_data"
    },
    {
     "name": "stderr",
     "output_type": "stream",
     "text": [
      "10:51:40 | INFO | End    99 step; propagated    1.197 [fs]; AVG Krylov iteration: 5.82\n",
      "10:51:40 | INFO | End simulation and save wavefunction\n",
      "10:51:40 | INFO | Wave function is saved in wf_radicalpair_9.pkl\n",
      "10:51:40 | INFO | Wave function is saved in wf_radicalpair_17.pkl\n",
      "10:51:40 | INFO | Start initial step    0.000 [fs]\n"
     ]
    },
    {
     "data": {
      "application/vnd.jupyter.widget-view+json": {
       "model_id": "4caf86278c434e2d89c4c266503088cb",
       "version_major": 2,
       "version_minor": 0
      },
      "text/plain": [
       "  0%|          | 0/100 [00:00<?, ?it/s]"
      ]
     },
     "metadata": {},
     "output_type": "display_data"
    },
    {
     "name": "stderr",
     "output_type": "stream",
     "text": [
      "10:51:40 | INFO | End     0 step; propagated    0.012 [fs]; AVG Krylov iteration: 6.50\n",
      "10:51:40 | INFO | End    99 step; propagated    1.197 [fs]; AVG Krylov iteration: 5.79\n",
      "10:51:40 | INFO | End simulation and save wavefunction\n",
      "10:51:40 | INFO | Wave function is saved in wf_radicalpair_11.pkl\n",
      "10:51:40 | INFO | Wave function is saved in wf_radicalpair_18.pkl\n",
      "10:51:40 | INFO | Start initial step    0.000 [fs]\n"
     ]
    },
    {
     "data": {
      "application/vnd.jupyter.widget-view+json": {
       "model_id": "152e9bfa4bbc43d794df18552bbbf4b3",
       "version_major": 2,
       "version_minor": 0
      },
      "text/plain": [
       "  0%|          | 0/100 [00:00<?, ?it/s]"
      ]
     },
     "metadata": {},
     "output_type": "display_data"
    },
    {
     "name": "stderr",
     "output_type": "stream",
     "text": [
      "10:51:41 | INFO | End     0 step; propagated    0.012 [fs]; AVG Krylov iteration: 5.93\n",
      "10:51:41 | INFO | End    99 step; propagated    1.197 [fs]; AVG Krylov iteration: 5.86\n",
      "10:51:41 | INFO | End simulation and save wavefunction\n",
      "10:51:41 | INFO | Wave function is saved in wf_radicalpair_10.pkl\n",
      "10:51:41 | INFO | End     0 step; propagated    0.012 [fs]; AVG Krylov iteration: 5.93\n",
      "10:51:41 | INFO | Wave function is saved in wf_radicalpair_19.pkl\n",
      "10:51:41 | INFO | Start initial step    0.000 [fs]\n"
     ]
    },
    {
     "data": {
      "application/vnd.jupyter.widget-view+json": {
       "model_id": "828bdcec6b0e4013af0ea7391820d7f4",
       "version_major": 2,
       "version_minor": 0
      },
      "text/plain": [
       "  0%|          | 0/100 [00:00<?, ?it/s]"
      ]
     },
     "metadata": {},
     "output_type": "display_data"
    },
    {
     "name": "stderr",
     "output_type": "stream",
     "text": [
      "10:51:41 | INFO | End    99 step; propagated    1.197 [fs]; AVG Krylov iteration: 5.89\n",
      "10:51:41 | INFO | End simulation and save wavefunction\n",
      "10:51:41 | INFO | Wave function is saved in wf_radicalpair_12.pkl\n",
      "10:51:41 | INFO | Wave function is saved in wf_radicalpair_20.pkl\n",
      "10:51:41 | INFO | Start initial step    0.000 [fs]\n"
     ]
    },
    {
     "data": {
      "application/vnd.jupyter.widget-view+json": {
       "model_id": "9c74b3d8e61a4acca50d0beef388eceb",
       "version_major": 2,
       "version_minor": 0
      },
      "text/plain": [
       "  0%|          | 0/100 [00:00<?, ?it/s]"
      ]
     },
     "metadata": {},
     "output_type": "display_data"
    },
    {
     "name": "stderr",
     "output_type": "stream",
     "text": [
      "10:51:41 | INFO | End     0 step; propagated    0.012 [fs]; AVG Krylov iteration: 5.93\n",
      "10:51:41 | INFO | End     0 step; propagated    0.012 [fs]; AVG Krylov iteration: 5.93\n",
      "10:51:41 | INFO | End    99 step; propagated    1.197 [fs]; AVG Krylov iteration: 5.82\n",
      "10:51:41 | INFO | End simulation and save wavefunction\n",
      "10:51:41 | INFO | Wave function is saved in wf_radicalpair_13.pkl\n",
      "10:51:41 | INFO | Wave function is saved in wf_radicalpair_21.pkl\n",
      "10:51:41 | INFO | Start initial step    0.000 [fs]\n"
     ]
    },
    {
     "data": {
      "application/vnd.jupyter.widget-view+json": {
       "model_id": "64957b06090f4146941d177a2e7a61de",
       "version_major": 2,
       "version_minor": 0
      },
      "text/plain": [
       "  0%|          | 0/100 [00:00<?, ?it/s]"
      ]
     },
     "metadata": {},
     "output_type": "display_data"
    },
    {
     "name": "stderr",
     "output_type": "stream",
     "text": [
      "10:51:42 | INFO | End    99 step; propagated    1.197 [fs]; AVG Krylov iteration: 5.54\n",
      "10:51:42 | INFO | End simulation and save wavefunction\n",
      "10:51:42 | INFO | Wave function is saved in wf_radicalpair_14.pkl\n",
      "10:51:42 | INFO | Wave function is saved in wf_radicalpair_22.pkl\n",
      "10:51:42 | INFO | Start initial step    0.000 [fs]\n"
     ]
    },
    {
     "data": {
      "application/vnd.jupyter.widget-view+json": {
       "model_id": "4346db3b6a074d9a9b893283b4047d4b",
       "version_major": 2,
       "version_minor": 0
      },
      "text/plain": [
       "  0%|          | 0/100 [00:00<?, ?it/s]"
      ]
     },
     "metadata": {},
     "output_type": "display_data"
    },
    {
     "name": "stderr",
     "output_type": "stream",
     "text": [
      "10:51:42 | INFO | End     0 step; propagated    0.012 [fs]; AVG Krylov iteration: 5.93\n",
      "10:51:42 | INFO | End     0 step; propagated    0.012 [fs]; AVG Krylov iteration: 5.93\n",
      "10:51:43 | INFO | End    99 step; propagated    1.197 [fs]; AVG Krylov iteration: 5.79\n",
      "10:51:43 | INFO | End simulation and save wavefunction\n",
      "10:51:43 | INFO | Wave function is saved in wf_radicalpair_15.pkl\n",
      "10:51:43 | INFO | Wave function is saved in wf_radicalpair_23.pkl\n",
      "10:51:43 | INFO | Start initial step    0.000 [fs]\n"
     ]
    },
    {
     "data": {
      "application/vnd.jupyter.widget-view+json": {
       "model_id": "9db38d15d31449eaa1aa1a2ec85d22b8",
       "version_major": 2,
       "version_minor": 0
      },
      "text/plain": [
       "  0%|          | 0/100 [00:00<?, ?it/s]"
      ]
     },
     "metadata": {},
     "output_type": "display_data"
    },
    {
     "name": "stderr",
     "output_type": "stream",
     "text": [
      "10:51:44 | INFO | End     0 step; propagated    0.012 [fs]; AVG Krylov iteration: 5.93\n",
      "10:52:11 | INFO | End    99 step; propagated    1.197 [fs]; AVG Krylov iteration: 5.75\n",
      "10:52:11 | INFO | End simulation and save wavefunction\n",
      "10:52:11 | INFO | Wave function is saved in wf_radicalpair_17.pkl\n",
      "10:52:11 | INFO | Wave function is saved in wf_radicalpair_24.pkl\n",
      "10:52:11 | INFO | Start initial step    0.000 [fs]\n"
     ]
    },
    {
     "data": {
      "application/vnd.jupyter.widget-view+json": {
       "model_id": "390441dc21054d55b94775c687803d9a",
       "version_major": 2,
       "version_minor": 0
      },
      "text/plain": [
       "  0%|          | 0/100 [00:00<?, ?it/s]"
      ]
     },
     "metadata": {},
     "output_type": "display_data"
    },
    {
     "name": "stderr",
     "output_type": "stream",
     "text": [
      "10:52:11 | INFO | End    99 step; propagated    1.197 [fs]; AVG Krylov iteration: 5.89\n",
      "10:52:11 | INFO | End simulation and save wavefunction\n",
      "10:52:11 | INFO | Wave function is saved in wf_radicalpair_19.pkl\n",
      "10:52:12 | INFO | End     0 step; propagated    0.012 [fs]; AVG Krylov iteration: 5.86\n",
      "10:52:12 | INFO | Wave function is saved in wf_radicalpair_25.pkl\n",
      "10:52:12 | INFO | Start initial step    0.000 [fs]\n"
     ]
    },
    {
     "data": {
      "application/vnd.jupyter.widget-view+json": {
       "model_id": "dd068f147cea49d7a9e3189c4a37cf45",
       "version_major": 2,
       "version_minor": 0
      },
      "text/plain": [
       "  0%|          | 0/100 [00:00<?, ?it/s]"
      ]
     },
     "metadata": {},
     "output_type": "display_data"
    },
    {
     "name": "stderr",
     "output_type": "stream",
     "text": [
      "10:52:12 | INFO | End    99 step; propagated    1.197 [fs]; AVG Krylov iteration: 5.93\n",
      "10:52:12 | INFO | End simulation and save wavefunction\n",
      "10:52:12 | INFO | Wave function is saved in wf_radicalpair_18.pkl\n",
      "10:52:12 | INFO | End     0 step; propagated    0.012 [fs]; AVG Krylov iteration: 5.93\n",
      "10:52:12 | INFO | Wave function is saved in wf_radicalpair_26.pkl\n",
      "10:52:12 | INFO | Start initial step    0.000 [fs]\n"
     ]
    },
    {
     "data": {
      "application/vnd.jupyter.widget-view+json": {
       "model_id": "f2fc641b1aea4af5863b5a82eed331f0",
       "version_major": 2,
       "version_minor": 0
      },
      "text/plain": [
       "  0%|          | 0/100 [00:00<?, ?it/s]"
      ]
     },
     "metadata": {},
     "output_type": "display_data"
    },
    {
     "name": "stderr",
     "output_type": "stream",
     "text": [
      "10:52:12 | INFO | End    99 step; propagated    1.197 [fs]; AVG Krylov iteration: 5.54\n",
      "10:52:12 | INFO | End simulation and save wavefunction\n",
      "10:52:12 | INFO | Wave function is saved in wf_radicalpair_22.pkl\n",
      "10:52:12 | INFO | End    99 step; propagated    1.197 [fs]; AVG Krylov iteration: 5.86\n",
      "10:52:12 | INFO | End simulation and save wavefunction\n",
      "10:52:12 | INFO | Wave function is saved in wf_radicalpair_27.pkl\n",
      "10:52:12 | INFO | Start initial step    0.000 [fs]\n"
     ]
    },
    {
     "data": {
      "application/vnd.jupyter.widget-view+json": {
       "model_id": "00052635a4074d008b94bb732ee37494",
       "version_major": 2,
       "version_minor": 0
      },
      "text/plain": [
       "  0%|          | 0/100 [00:00<?, ?it/s]"
      ]
     },
     "metadata": {},
     "output_type": "display_data"
    },
    {
     "name": "stderr",
     "output_type": "stream",
     "text": [
      "10:52:12 | INFO | Wave function is saved in wf_radicalpair_20.pkl\n",
      "10:52:12 | INFO | Wave function is saved in wf_radicalpair_28.pkl\n",
      "10:52:12 | INFO | End    99 step; propagated    1.197 [fs]; AVG Krylov iteration: 5.75\n",
      "10:52:12 | INFO | End simulation and save wavefunction\n",
      "10:52:12 | INFO | Start initial step    0.000 [fs]\n"
     ]
    },
    {
     "data": {
      "application/vnd.jupyter.widget-view+json": {
       "model_id": "b307380e00f649d0a22e00f310e1399c",
       "version_major": 2,
       "version_minor": 0
      },
      "text/plain": [
       "  0%|          | 0/100 [00:00<?, ?it/s]"
      ]
     },
     "metadata": {},
     "output_type": "display_data"
    },
    {
     "name": "stderr",
     "output_type": "stream",
     "text": [
      "10:52:12 | INFO | Wave function is saved in wf_radicalpair_21.pkl\n",
      "10:52:12 | INFO | Wave function is saved in wf_radicalpair_29.pkl\n",
      "10:52:12 | INFO | Start initial step    0.000 [fs]\n"
     ]
    },
    {
     "data": {
      "application/vnd.jupyter.widget-view+json": {
       "model_id": "71f2583f0aa847838c30fa007f7d6819",
       "version_major": 2,
       "version_minor": 0
      },
      "text/plain": [
       "  0%|          | 0/100 [00:00<?, ?it/s]"
      ]
     },
     "metadata": {},
     "output_type": "display_data"
    },
    {
     "name": "stderr",
     "output_type": "stream",
     "text": [
      "10:52:12 | INFO | End     0 step; propagated    0.012 [fs]; AVG Krylov iteration: 5.86\n",
      "10:52:12 | INFO | End     0 step; propagated    0.012 [fs]; AVG Krylov iteration: 5.93\n",
      "10:52:12 | INFO | End     0 step; propagated    0.012 [fs]; AVG Krylov iteration: 6.07\n",
      "10:52:12 | INFO | End     0 step; propagated    0.012 [fs]; AVG Krylov iteration: 6.11\n",
      "10:52:13 | INFO | End    99 step; propagated    1.197 [fs]; AVG Krylov iteration: 6.36\n",
      "10:52:13 | INFO | End simulation and save wavefunction\n",
      "10:52:13 | INFO | Wave function is saved in wf_radicalpair_16.pkl\n",
      "10:52:13 | INFO | Wave function is saved in wf_radicalpair_30.pkl\n",
      "10:52:13 | INFO | Start initial step    0.000 [fs]\n"
     ]
    },
    {
     "data": {
      "application/vnd.jupyter.widget-view+json": {
       "model_id": "36dd5bd4489b4353b9291a143c9600b3",
       "version_major": 2,
       "version_minor": 0
      },
      "text/plain": [
       "  0%|          | 0/100 [00:00<?, ?it/s]"
      ]
     },
     "metadata": {},
     "output_type": "display_data"
    },
    {
     "name": "stderr",
     "output_type": "stream",
     "text": [
      "10:52:13 | INFO | End     0 step; propagated    0.012 [fs]; AVG Krylov iteration: 5.93\n",
      "10:52:14 | INFO | End    99 step; propagated    1.197 [fs]; AVG Krylov iteration: 5.82\n",
      "10:52:14 | INFO | End simulation and save wavefunction\n",
      "10:52:14 | INFO | Wave function is saved in wf_radicalpair_23.pkl\n",
      "10:52:14 | INFO | Wave function is saved in wf_radicalpair_31.pkl\n",
      "10:52:14 | INFO | Start initial step    0.000 [fs]\n"
     ]
    },
    {
     "data": {
      "application/vnd.jupyter.widget-view+json": {
       "model_id": "2ec585635faa4baba33fcf4ca9c24b0f",
       "version_major": 2,
       "version_minor": 0
      },
      "text/plain": [
       "  0%|          | 0/100 [00:00<?, ?it/s]"
      ]
     },
     "metadata": {},
     "output_type": "display_data"
    },
    {
     "name": "stderr",
     "output_type": "stream",
     "text": [
      "10:52:15 | INFO | End     0 step; propagated    0.012 [fs]; AVG Krylov iteration: 5.86\n",
      "10:52:42 | INFO | End    99 step; propagated    1.197 [fs]; AVG Krylov iteration: 5.79\n",
      "10:52:42 | INFO | End simulation and save wavefunction\n",
      "10:52:42 | INFO | Wave function is saved in wf_radicalpair_24.pkl\n",
      "10:52:42 | INFO | Wave function is saved in wf_radicalpair_32.pkl\n",
      "10:52:42 | INFO | Start initial step    0.000 [fs]\n"
     ]
    },
    {
     "data": {
      "application/vnd.jupyter.widget-view+json": {
       "model_id": "09d396a94d7948b9b07b5d9b39e2de51",
       "version_major": 2,
       "version_minor": 0
      },
      "text/plain": [
       "  0%|          | 0/100 [00:00<?, ?it/s]"
      ]
     },
     "metadata": {},
     "output_type": "display_data"
    },
    {
     "name": "stderr",
     "output_type": "stream",
     "text": [
      "10:52:42 | INFO | End    99 step; propagated    1.197 [fs]; AVG Krylov iteration: 5.82\n",
      "10:52:42 | INFO | End simulation and save wavefunction\n",
      "10:52:42 | INFO | End     0 step; propagated    0.012 [fs]; AVG Krylov iteration: 5.82\n",
      "10:52:42 | INFO | Wave function is saved in wf_radicalpair_25.pkl\n",
      "10:52:42 | INFO | Wave function is saved in wf_radicalpair_33.pkl\n",
      "10:52:42 | INFO | Start initial step    0.000 [fs]\n"
     ]
    },
    {
     "data": {
      "application/vnd.jupyter.widget-view+json": {
       "model_id": "0f594664780648af9b104afb3e342952",
       "version_major": 2,
       "version_minor": 0
      },
      "text/plain": [
       "  0%|          | 0/100 [00:00<?, ?it/s]"
      ]
     },
     "metadata": {},
     "output_type": "display_data"
    },
    {
     "name": "stderr",
     "output_type": "stream",
     "text": [
      "10:52:43 | INFO | End    99 step; propagated    1.197 [fs]; AVG Krylov iteration: 5.75\n",
      "10:52:43 | INFO | End simulation and save wavefunction\n",
      "10:52:43 | INFO | Wave function is saved in wf_radicalpair_26.pkl\n",
      "10:52:43 | INFO | Wave function is saved in wf_radicalpair_34.pkl\n",
      "10:52:43 | INFO | Start initial step    0.000 [fs]\n"
     ]
    },
    {
     "data": {
      "application/vnd.jupyter.widget-view+json": {
       "model_id": "f2b86051dceb43bc8e9fb121c971c13c",
       "version_major": 2,
       "version_minor": 0
      },
      "text/plain": [
       "  0%|          | 0/100 [00:00<?, ?it/s]"
      ]
     },
     "metadata": {},
     "output_type": "display_data"
    },
    {
     "name": "stderr",
     "output_type": "stream",
     "text": [
      "10:52:43 | INFO | End    99 step; propagated    1.197 [fs]; AVG Krylov iteration: 5.79\n",
      "10:52:43 | INFO | End simulation and save wavefunction\n",
      "10:52:43 | INFO | Wave function is saved in wf_radicalpair_27.pkl\n",
      "10:52:43 | INFO | Wave function is saved in wf_radicalpair_35.pkl\n",
      "10:52:43 | INFO | Start initial step    0.000 [fs]\n"
     ]
    },
    {
     "data": {
      "application/vnd.jupyter.widget-view+json": {
       "model_id": "ca37912ab46844dcaa3e17c56ce6e5aa",
       "version_major": 2,
       "version_minor": 0
      },
      "text/plain": [
       "  0%|          | 0/100 [00:00<?, ?it/s]"
      ]
     },
     "metadata": {},
     "output_type": "display_data"
    },
    {
     "name": "stderr",
     "output_type": "stream",
     "text": [
      "10:52:43 | INFO | End     0 step; propagated    0.012 [fs]; AVG Krylov iteration: 5.93\n",
      "10:52:43 | INFO | End     0 step; propagated    0.012 [fs]; AVG Krylov iteration: 5.93\n",
      "10:52:43 | INFO | End     0 step; propagated    0.012 [fs]; AVG Krylov iteration: 5.86\n",
      "10:52:44 | INFO | End    99 step; propagated    1.197 [fs]; AVG Krylov iteration: 5.75\n",
      "10:52:44 | INFO | End simulation and save wavefunction\n",
      "10:52:44 | INFO | Wave function is saved in wf_radicalpair_30.pkl\n",
      "10:52:44 | INFO | Wave function is saved in wf_radicalpair_36.pkl\n",
      "10:52:44 | INFO | Start initial step    0.000 [fs]\n"
     ]
    },
    {
     "data": {
      "application/vnd.jupyter.widget-view+json": {
       "model_id": "287880a83e3441fcb0b388f3035e3361",
       "version_major": 2,
       "version_minor": 0
      },
      "text/plain": [
       "  0%|          | 0/100 [00:00<?, ?it/s]"
      ]
     },
     "metadata": {},
     "output_type": "display_data"
    },
    {
     "name": "stderr",
     "output_type": "stream",
     "text": [
      "10:52:44 | INFO | End     0 step; propagated    0.012 [fs]; AVG Krylov iteration: 5.82\n",
      "10:52:44 | INFO | End    99 step; propagated    1.197 [fs]; AVG Krylov iteration: 6.07\n",
      "10:52:44 | INFO | End simulation and save wavefunction\n",
      "10:52:44 | INFO | Wave function is saved in wf_radicalpair_29.pkl\n",
      "10:52:44 | INFO | Wave function is saved in wf_radicalpair_37.pkl\n",
      "10:52:44 | INFO | Start initial step    0.000 [fs]\n"
     ]
    },
    {
     "data": {
      "application/vnd.jupyter.widget-view+json": {
       "model_id": "8ed0de07eb8d48e384b7df04202f11ec",
       "version_major": 2,
       "version_minor": 0
      },
      "text/plain": [
       "  0%|          | 0/100 [00:00<?, ?it/s]"
      ]
     },
     "metadata": {},
     "output_type": "display_data"
    },
    {
     "name": "stderr",
     "output_type": "stream",
     "text": [
      "10:52:45 | INFO | End    99 step; propagated    1.197 [fs]; AVG Krylov iteration: 6.32\n",
      "10:52:45 | INFO | End simulation and save wavefunction\n",
      "10:52:45 | INFO | Wave function is saved in wf_radicalpair_28.pkl\n",
      "10:52:45 | INFO | End     0 step; propagated    0.012 [fs]; AVG Krylov iteration: 5.86\n",
      "10:52:45 | INFO | Wave function is saved in wf_radicalpair_38.pkl\n",
      "10:52:45 | INFO | Start initial step    0.000 [fs]\n"
     ]
    },
    {
     "data": {
      "application/vnd.jupyter.widget-view+json": {
       "model_id": "1e6988c69fcd4bff9a7915ad2eca3247",
       "version_major": 2,
       "version_minor": 0
      },
      "text/plain": [
       "  0%|          | 0/100 [00:00<?, ?it/s]"
      ]
     },
     "metadata": {},
     "output_type": "display_data"
    },
    {
     "name": "stderr",
     "output_type": "stream",
     "text": [
      "10:52:45 | INFO | End     0 step; propagated    0.012 [fs]; AVG Krylov iteration: 6.89\n",
      "10:52:45 | INFO | End    99 step; propagated    1.197 [fs]; AVG Krylov iteration: 5.61\n",
      "10:52:45 | INFO | End simulation and save wavefunction\n",
      "10:52:45 | INFO | Wave function is saved in wf_radicalpair_31.pkl\n",
      "10:52:45 | INFO | Wave function is saved in wf_radicalpair_39.pkl\n",
      "10:52:45 | INFO | Start initial step    0.000 [fs]\n"
     ]
    },
    {
     "data": {
      "application/vnd.jupyter.widget-view+json": {
       "model_id": "68d705e1d406494f803c5d31dbbcae2f",
       "version_major": 2,
       "version_minor": 0
      },
      "text/plain": [
       "  0%|          | 0/100 [00:00<?, ?it/s]"
      ]
     },
     "metadata": {},
     "output_type": "display_data"
    },
    {
     "name": "stderr",
     "output_type": "stream",
     "text": [
      "10:52:46 | INFO | End     0 step; propagated    0.012 [fs]; AVG Krylov iteration: 5.93\n",
      "10:53:18 | INFO | End    99 step; propagated    1.197 [fs]; AVG Krylov iteration: 5.46\n",
      "10:53:18 | INFO | End simulation and save wavefunction\n",
      "10:53:18 | INFO | Wave function is saved in wf_radicalpair_32.pkl\n",
      "10:53:18 | INFO | Wave function is saved in wf_radicalpair_40.pkl\n",
      "10:53:18 | INFO | Start initial step    0.000 [fs]\n"
     ]
    },
    {
     "data": {
      "application/vnd.jupyter.widget-view+json": {
       "model_id": "89b8e30f1ce443978b3bc00fa6847c2c",
       "version_major": 2,
       "version_minor": 0
      },
      "text/plain": [
       "  0%|          | 0/100 [00:00<?, ?it/s]"
      ]
     },
     "metadata": {},
     "output_type": "display_data"
    },
    {
     "name": "stderr",
     "output_type": "stream",
     "text": [
      "10:53:19 | INFO | End    99 step; propagated    1.197 [fs]; AVG Krylov iteration: 5.79\n",
      "10:53:19 | INFO | End simulation and save wavefunction\n",
      "10:53:19 | INFO | Wave function is saved in wf_radicalpair_33.pkl\n",
      "10:53:19 | INFO | Wave function is saved in wf_radicalpair_41.pkl\n",
      "10:53:19 | INFO | Start initial step    0.000 [fs]\n"
     ]
    },
    {
     "data": {
      "application/vnd.jupyter.widget-view+json": {
       "model_id": "719773c5db8d40b898186a2a9d59a80b",
       "version_major": 2,
       "version_minor": 0
      },
      "text/plain": [
       "  0%|          | 0/100 [00:00<?, ?it/s]"
      ]
     },
     "metadata": {},
     "output_type": "display_data"
    },
    {
     "name": "stderr",
     "output_type": "stream",
     "text": [
      "10:53:19 | INFO | End     0 step; propagated    0.012 [fs]; AVG Krylov iteration: 5.93\n",
      "10:53:19 | INFO | End    99 step; propagated    1.197 [fs]; AVG Krylov iteration: 5.75\n",
      "10:53:19 | INFO | End simulation and save wavefunction\n",
      "10:53:19 | INFO | Wave function is saved in wf_radicalpair_34.pkl\n",
      "10:53:19 | INFO | Wave function is saved in wf_radicalpair_42.pkl\n",
      "10:53:19 | INFO | Start initial step    0.000 [fs]\n"
     ]
    },
    {
     "data": {
      "application/vnd.jupyter.widget-view+json": {
       "model_id": "b7b9e0ad9b964c51846edb970a9d98de",
       "version_major": 2,
       "version_minor": 0
      },
      "text/plain": [
       "  0%|          | 0/100 [00:00<?, ?it/s]"
      ]
     },
     "metadata": {},
     "output_type": "display_data"
    },
    {
     "name": "stderr",
     "output_type": "stream",
     "text": [
      "10:53:19 | INFO | End     0 step; propagated    0.012 [fs]; AVG Krylov iteration: 5.93\n",
      "10:53:19 | INFO | End    99 step; propagated    1.197 [fs]; AVG Krylov iteration: 5.64\n",
      "10:53:19 | INFO | End simulation and save wavefunction\n",
      "10:53:19 | INFO | Wave function is saved in wf_radicalpair_35.pkl\n",
      "10:53:19 | INFO | Wave function is saved in wf_radicalpair_43.pkl\n",
      "10:53:19 | INFO | Start initial step    0.000 [fs]\n"
     ]
    },
    {
     "data": {
      "application/vnd.jupyter.widget-view+json": {
       "model_id": "783f18c52a7f4ae2b3493f4b81ad273e",
       "version_major": 2,
       "version_minor": 0
      },
      "text/plain": [
       "  0%|          | 0/100 [00:00<?, ?it/s]"
      ]
     },
     "metadata": {},
     "output_type": "display_data"
    },
    {
     "name": "stderr",
     "output_type": "stream",
     "text": [
      "10:53:19 | INFO | End     0 step; propagated    0.012 [fs]; AVG Krylov iteration: 5.93\n",
      "10:53:20 | INFO | End     0 step; propagated    0.012 [fs]; AVG Krylov iteration: 5.93\n",
      "10:53:20 | INFO | End    99 step; propagated    1.197 [fs]; AVG Krylov iteration: 5.50\n",
      "10:53:20 | INFO | End simulation and save wavefunction\n",
      "10:53:20 | INFO | Wave function is saved in wf_radicalpair_36.pkl\n",
      "10:53:20 | INFO | Wave function is saved in wf_radicalpair_44.pkl\n",
      "10:53:20 | INFO | Start initial step    0.000 [fs]\n"
     ]
    },
    {
     "data": {
      "application/vnd.jupyter.widget-view+json": {
       "model_id": "91aa150f3b4d4aa6be6d836383ba3c8f",
       "version_major": 2,
       "version_minor": 0
      },
      "text/plain": [
       "  0%|          | 0/100 [00:00<?, ?it/s]"
      ]
     },
     "metadata": {},
     "output_type": "display_data"
    },
    {
     "name": "stderr",
     "output_type": "stream",
     "text": [
      "10:53:20 | INFO | End     0 step; propagated    0.012 [fs]; AVG Krylov iteration: 5.93\n",
      "10:53:21 | INFO | End    99 step; propagated    1.197 [fs]; AVG Krylov iteration: 5.54\n",
      "10:53:21 | INFO | End simulation and save wavefunction\n",
      "10:53:21 | INFO | Wave function is saved in wf_radicalpair_37.pkl\n",
      "10:53:21 | INFO | Wave function is saved in wf_radicalpair_45.pkl\n",
      "10:53:21 | INFO | Start initial step    0.000 [fs]\n"
     ]
    },
    {
     "data": {
      "application/vnd.jupyter.widget-view+json": {
       "model_id": "6de58c8940ce453e9a64104d7476ff97",
       "version_major": 2,
       "version_minor": 0
      },
      "text/plain": [
       "  0%|          | 0/100 [00:00<?, ?it/s]"
      ]
     },
     "metadata": {},
     "output_type": "display_data"
    },
    {
     "name": "stderr",
     "output_type": "stream",
     "text": [
      "10:53:22 | INFO | End     0 step; propagated    0.012 [fs]; AVG Krylov iteration: 5.93\n",
      "10:53:23 | INFO | End    99 step; propagated    1.197 [fs]; AVG Krylov iteration: 5.89\n",
      "10:53:23 | INFO | End simulation and save wavefunction\n",
      "10:53:23 | INFO | Wave function is saved in wf_radicalpair_39.pkl\n",
      "10:53:23 | INFO | Wave function is saved in wf_radicalpair_46.pkl\n",
      "10:53:23 | INFO | Start initial step    0.000 [fs]\n"
     ]
    },
    {
     "data": {
      "application/vnd.jupyter.widget-view+json": {
       "model_id": "f6a53363279a4ef785ac53ab6541aca0",
       "version_major": 2,
       "version_minor": 0
      },
      "text/plain": [
       "  0%|          | 0/100 [00:00<?, ?it/s]"
      ]
     },
     "metadata": {},
     "output_type": "display_data"
    },
    {
     "name": "stderr",
     "output_type": "stream",
     "text": [
      "10:53:23 | INFO | End     0 step; propagated    0.012 [fs]; AVG Krylov iteration: 5.93\n",
      "10:53:25 | INFO | End    99 step; propagated    1.197 [fs]; AVG Krylov iteration: 6.46\n",
      "10:53:25 | INFO | End simulation and save wavefunction\n",
      "10:53:25 | INFO | Wave function is saved in wf_radicalpair_38.pkl\n",
      "10:53:25 | INFO | Wave function is saved in wf_radicalpair_47.pkl\n",
      "10:53:25 | INFO | Start initial step    0.000 [fs]\n"
     ]
    },
    {
     "data": {
      "application/vnd.jupyter.widget-view+json": {
       "model_id": "4d90c76d8eb44e1f996c7704ca4a905a",
       "version_major": 2,
       "version_minor": 0
      },
      "text/plain": [
       "  0%|          | 0/100 [00:00<?, ?it/s]"
      ]
     },
     "metadata": {},
     "output_type": "display_data"
    },
    {
     "name": "stderr",
     "output_type": "stream",
     "text": [
      "10:53:25 | INFO | End     0 step; propagated    0.012 [fs]; AVG Krylov iteration: 6.00\n",
      "10:53:54 | INFO | End    99 step; propagated    1.197 [fs]; AVG Krylov iteration: 5.64\n",
      "10:53:54 | INFO | End simulation and save wavefunction\n",
      "10:53:54 | INFO | End    99 step; propagated    1.197 [fs]; AVG Krylov iteration: 5.89\n",
      "10:53:54 | INFO | End simulation and save wavefunction\n",
      "10:53:54 | INFO | Wave function is saved in wf_radicalpair_41.pkl\n",
      "10:53:54 | INFO | Wave function is saved in wf_radicalpair_40.pkl\n",
      "10:53:54 | INFO | Wave function is saved in wf_radicalpair_49.pkl\n",
      "10:53:54 | INFO | Start initial step    0.000 [fs]\n",
      "10:53:54 | INFO | Wave function is saved in wf_radicalpair_48.pkl\n",
      "10:53:54 | INFO | Start initial step    0.000 [fs]\n"
     ]
    },
    {
     "data": {
      "application/vnd.jupyter.widget-view+json": {
       "model_id": "fec88854ef144b28a4cd89c945585b4f",
       "version_major": 2,
       "version_minor": 0
      },
      "text/plain": [
       "  0%|          | 0/100 [00:00<?, ?it/s]"
      ]
     },
     "metadata": {},
     "output_type": "display_data"
    },
    {
     "data": {
      "application/vnd.jupyter.widget-view+json": {
       "model_id": "5eddbbd67b9745c99f62bf9395dccb51",
       "version_major": 2,
       "version_minor": 0
      },
      "text/plain": [
       "  0%|          | 0/100 [00:00<?, ?it/s]"
      ]
     },
     "metadata": {},
     "output_type": "display_data"
    },
    {
     "name": "stderr",
     "output_type": "stream",
     "text": [
      "10:53:54 | INFO | End     0 step; propagated    0.012 [fs]; AVG Krylov iteration: 5.93\n",
      "10:53:54 | INFO | End    99 step; propagated    1.197 [fs]; AVG Krylov iteration: 5.79\n",
      "10:53:54 | INFO | End simulation and save wavefunction\n",
      "10:53:54 | INFO | Wave function is saved in wf_radicalpair_43.pkl\n",
      "10:53:55 | INFO | End     0 step; propagated    0.012 [fs]; AVG Krylov iteration: 6.86\n",
      "10:53:55 | INFO | Wave function is saved in wf_radicalpair_50.pkl\n",
      "10:53:55 | INFO | Start initial step    0.000 [fs]\n"
     ]
    },
    {
     "data": {
      "application/vnd.jupyter.widget-view+json": {
       "model_id": "f17eaefc0b164e04b4bf6fe2f91cd853",
       "version_major": 2,
       "version_minor": 0
      },
      "text/plain": [
       "  0%|          | 0/100 [00:00<?, ?it/s]"
      ]
     },
     "metadata": {},
     "output_type": "display_data"
    },
    {
     "name": "stderr",
     "output_type": "stream",
     "text": [
      "10:53:55 | INFO | End    99 step; propagated    1.197 [fs]; AVG Krylov iteration: 5.86\n",
      "10:53:55 | INFO | End simulation and save wavefunction\n",
      "10:53:55 | INFO | Wave function is saved in wf_radicalpair_42.pkl\n",
      "10:53:55 | INFO | Wave function is saved in wf_radicalpair_51.pkl\n",
      "10:53:55 | INFO | Start initial step    0.000 [fs]\n"
     ]
    },
    {
     "data": {
      "application/vnd.jupyter.widget-view+json": {
       "model_id": "fc43c6e4c4fa4847ad617a31b8f1431b",
       "version_major": 2,
       "version_minor": 0
      },
      "text/plain": [
       "  0%|          | 0/100 [00:00<?, ?it/s]"
      ]
     },
     "metadata": {},
     "output_type": "display_data"
    },
    {
     "name": "stderr",
     "output_type": "stream",
     "text": [
      "10:53:55 | INFO | End     0 step; propagated    0.012 [fs]; AVG Krylov iteration: 5.93\n",
      "10:53:55 | INFO | End     0 step; propagated    0.012 [fs]; AVG Krylov iteration: 5.93\n",
      "10:53:55 | INFO | End    99 step; propagated    1.197 [fs]; AVG Krylov iteration: 5.82\n",
      "10:53:55 | INFO | End simulation and save wavefunction\n",
      "10:53:55 | INFO | Wave function is saved in wf_radicalpair_44.pkl\n",
      "10:53:55 | INFO | Wave function is saved in wf_radicalpair_52.pkl\n",
      "10:53:55 | INFO | Start initial step    0.000 [fs]\n"
     ]
    },
    {
     "data": {
      "application/vnd.jupyter.widget-view+json": {
       "model_id": "565b713f4be7435f87b8177c90e5d56c",
       "version_major": 2,
       "version_minor": 0
      },
      "text/plain": [
       "  0%|          | 0/100 [00:00<?, ?it/s]"
      ]
     },
     "metadata": {},
     "output_type": "display_data"
    },
    {
     "name": "stderr",
     "output_type": "stream",
     "text": [
      "10:53:56 | INFO | End     0 step; propagated    0.012 [fs]; AVG Krylov iteration: 5.93\n",
      "10:53:56 | INFO | End    99 step; propagated    1.197 [fs]; AVG Krylov iteration: 5.79\n",
      "10:53:56 | INFO | End simulation and save wavefunction\n",
      "10:53:56 | INFO | Wave function is saved in wf_radicalpair_45.pkl\n",
      "10:53:56 | INFO | Wave function is saved in wf_radicalpair_53.pkl\n",
      "10:53:56 | INFO | Start initial step    0.000 [fs]\n"
     ]
    },
    {
     "data": {
      "application/vnd.jupyter.widget-view+json": {
       "model_id": "c09d0afbed974f4bb515128ab087f8c0",
       "version_major": 2,
       "version_minor": 0
      },
      "text/plain": [
       "  0%|          | 0/100 [00:00<?, ?it/s]"
      ]
     },
     "metadata": {},
     "output_type": "display_data"
    },
    {
     "name": "stderr",
     "output_type": "stream",
     "text": [
      "10:53:57 | INFO | End     0 step; propagated    0.012 [fs]; AVG Krylov iteration: 5.93\n",
      "10:53:59 | INFO | End    99 step; propagated    1.197 [fs]; AVG Krylov iteration: 5.79\n",
      "10:53:59 | INFO | End simulation and save wavefunction\n",
      "10:53:59 | INFO | Wave function is saved in wf_radicalpair_46.pkl\n",
      "10:53:59 | INFO | Wave function is saved in wf_radicalpair_54.pkl\n",
      "10:53:59 | INFO | Start initial step    0.000 [fs]\n"
     ]
    },
    {
     "data": {
      "application/vnd.jupyter.widget-view+json": {
       "model_id": "fcd3774ddf734348a61c081788b0c33f",
       "version_major": 2,
       "version_minor": 0
      },
      "text/plain": [
       "  0%|          | 0/100 [00:00<?, ?it/s]"
      ]
     },
     "metadata": {},
     "output_type": "display_data"
    },
    {
     "name": "stderr",
     "output_type": "stream",
     "text": [
      "10:53:59 | INFO | End     0 step; propagated    0.012 [fs]; AVG Krylov iteration: 5.89\n",
      "10:54:01 | INFO | End    99 step; propagated    1.197 [fs]; AVG Krylov iteration: 5.89\n",
      "10:54:01 | INFO | End simulation and save wavefunction\n",
      "10:54:01 | INFO | Wave function is saved in wf_radicalpair_47.pkl\n",
      "10:54:01 | INFO | Wave function is saved in wf_radicalpair_55.pkl\n",
      "10:54:01 | INFO | Start initial step    0.000 [fs]\n"
     ]
    },
    {
     "data": {
      "application/vnd.jupyter.widget-view+json": {
       "model_id": "77524c2da7ee4ee5b9c2ae6da1a919ec",
       "version_major": 2,
       "version_minor": 0
      },
      "text/plain": [
       "  0%|          | 0/100 [00:00<?, ?it/s]"
      ]
     },
     "metadata": {},
     "output_type": "display_data"
    },
    {
     "name": "stderr",
     "output_type": "stream",
     "text": [
      "10:54:02 | INFO | End     0 step; propagated    0.012 [fs]; AVG Krylov iteration: 6.04\n",
      "10:54:29 | INFO | End    99 step; propagated    1.197 [fs]; AVG Krylov iteration: 5.82\n",
      "10:54:29 | INFO | End simulation and save wavefunction\n",
      "10:54:29 | INFO | End    99 step; propagated    1.197 [fs]; AVG Krylov iteration: 5.54\n",
      "10:54:29 | INFO | End simulation and save wavefunction\n",
      "10:54:29 | INFO | Wave function is saved in wf_radicalpair_49.pkl\n",
      "10:54:29 | INFO | Wave function is saved in wf_radicalpair_50.pkl\n",
      "10:54:29 | INFO | Wave function is saved in wf_radicalpair_56.pkl\n",
      "10:54:29 | INFO | Start initial step    0.000 [fs]\n",
      "10:54:29 | INFO | Wave function is saved in wf_radicalpair_57.pkl\n",
      "10:54:29 | INFO | Start initial step    0.000 [fs]\n"
     ]
    },
    {
     "data": {
      "application/vnd.jupyter.widget-view+json": {
       "model_id": "51131483fd7843ceadf2920355b55690",
       "version_major": 2,
       "version_minor": 0
      },
      "text/plain": [
       "  0%|          | 0/100 [00:00<?, ?it/s]"
      ]
     },
     "metadata": {},
     "output_type": "display_data"
    },
    {
     "data": {
      "application/vnd.jupyter.widget-view+json": {
       "model_id": "238a1f74eee34889930673687962af33",
       "version_major": 2,
       "version_minor": 0
      },
      "text/plain": [
       "  0%|          | 0/100 [00:00<?, ?it/s]"
      ]
     },
     "metadata": {},
     "output_type": "display_data"
    },
    {
     "name": "stderr",
     "output_type": "stream",
     "text": [
      "10:54:30 | INFO | End     0 step; propagated    0.012 [fs]; AVG Krylov iteration: 5.93\n",
      "10:54:30 | INFO | End     0 step; propagated    0.012 [fs]; AVG Krylov iteration: 6.36\n",
      "10:54:30 | INFO | End    99 step; propagated    1.197 [fs]; AVG Krylov iteration: 5.75\n",
      "10:54:30 | INFO | End simulation and save wavefunction\n",
      "10:54:30 | INFO | Wave function is saved in wf_radicalpair_51.pkl\n",
      "10:54:30 | INFO | Wave function is saved in wf_radicalpair_58.pkl\n",
      "10:54:30 | INFO | Start initial step    0.000 [fs]\n"
     ]
    },
    {
     "data": {
      "application/vnd.jupyter.widget-view+json": {
       "model_id": "5a5159fe67d546328f36b34423ac9144",
       "version_major": 2,
       "version_minor": 0
      },
      "text/plain": [
       "  0%|          | 0/100 [00:00<?, ?it/s]"
      ]
     },
     "metadata": {},
     "output_type": "display_data"
    },
    {
     "name": "stderr",
     "output_type": "stream",
     "text": [
      "10:54:30 | INFO | End    99 step; propagated    1.197 [fs]; AVG Krylov iteration: 5.82\n",
      "10:54:30 | INFO | End simulation and save wavefunction\n",
      "10:54:30 | INFO | Wave function is saved in wf_radicalpair_52.pkl\n",
      "10:54:30 | INFO | End     0 step; propagated    0.012 [fs]; AVG Krylov iteration: 5.86\n",
      "10:54:30 | INFO | Wave function is saved in wf_radicalpair_59.pkl\n",
      "10:54:30 | INFO | Start initial step    0.000 [fs]\n"
     ]
    },
    {
     "data": {
      "application/vnd.jupyter.widget-view+json": {
       "model_id": "b72b65576b854d599aa6a992260e492f",
       "version_major": 2,
       "version_minor": 0
      },
      "text/plain": [
       "  0%|          | 0/100 [00:00<?, ?it/s]"
      ]
     },
     "metadata": {},
     "output_type": "display_data"
    },
    {
     "name": "stderr",
     "output_type": "stream",
     "text": [
      "10:54:31 | INFO | End     0 step; propagated    0.012 [fs]; AVG Krylov iteration: 5.82\n",
      "10:54:32 | INFO | End    99 step; propagated    1.197 [fs]; AVG Krylov iteration: 6.54\n",
      "10:54:32 | INFO | End simulation and save wavefunction\n",
      "10:54:32 | INFO | Wave function is saved in wf_radicalpair_48.pkl\n",
      "10:54:32 | INFO | Wave function is saved in wf_radicalpair_60.pkl\n",
      "10:54:32 | INFO | Start initial step    0.000 [fs]\n"
     ]
    },
    {
     "data": {
      "application/vnd.jupyter.widget-view+json": {
       "model_id": "0303c1c9a0a64c35b06266a728b50009",
       "version_major": 2,
       "version_minor": 0
      },
      "text/plain": [
       "  0%|          | 0/100 [00:00<?, ?it/s]"
      ]
     },
     "metadata": {},
     "output_type": "display_data"
    },
    {
     "name": "stderr",
     "output_type": "stream",
     "text": [
      "10:54:33 | INFO | End     0 step; propagated    0.012 [fs]; AVG Krylov iteration: 5.86\n",
      "10:54:33 | INFO | End    99 step; propagated    1.197 [fs]; AVG Krylov iteration: 5.79\n",
      "10:54:33 | INFO | End simulation and save wavefunction\n",
      "10:54:33 | INFO | Wave function is saved in wf_radicalpair_53.pkl\n",
      "10:54:33 | INFO | Wave function is saved in wf_radicalpair_61.pkl\n",
      "10:54:33 | INFO | Start initial step    0.000 [fs]\n"
     ]
    },
    {
     "data": {
      "application/vnd.jupyter.widget-view+json": {
       "model_id": "dfb6cf1e8576488dbf524c5814accbe0",
       "version_major": 2,
       "version_minor": 0
      },
      "text/plain": [
       "  0%|          | 0/100 [00:00<?, ?it/s]"
      ]
     },
     "metadata": {},
     "output_type": "display_data"
    },
    {
     "name": "stderr",
     "output_type": "stream",
     "text": [
      "10:54:33 | INFO | End     0 step; propagated    0.012 [fs]; AVG Krylov iteration: 5.93\n",
      "10:54:33 | INFO | End    99 step; propagated    1.197 [fs]; AVG Krylov iteration: 5.57\n",
      "10:54:33 | INFO | End simulation and save wavefunction\n",
      "10:54:33 | INFO | Wave function is saved in wf_radicalpair_54.pkl\n",
      "10:54:33 | INFO | Wave function is saved in wf_radicalpair_62.pkl\n",
      "10:54:33 | INFO | Start initial step    0.000 [fs]\n"
     ]
    },
    {
     "data": {
      "application/vnd.jupyter.widget-view+json": {
       "model_id": "ab2091b68bf6466cbdbe22c4df0d798d",
       "version_major": 2,
       "version_minor": 0
      },
      "text/plain": [
       "  0%|          | 0/100 [00:00<?, ?it/s]"
      ]
     },
     "metadata": {},
     "output_type": "display_data"
    },
    {
     "name": "stderr",
     "output_type": "stream",
     "text": [
      "10:54:34 | INFO | End     0 step; propagated    0.012 [fs]; AVG Krylov iteration: 5.93\n",
      "10:54:37 | INFO | End    99 step; propagated    1.197 [fs]; AVG Krylov iteration: 6.07\n",
      "10:54:37 | INFO | End simulation and save wavefunction\n",
      "10:54:38 | INFO | Wave function is saved in wf_radicalpair_55.pkl\n",
      "10:54:38 | INFO | Wave function is saved in wf_radicalpair_63.pkl\n",
      "10:54:38 | INFO | Start initial step    0.000 [fs]\n"
     ]
    },
    {
     "data": {
      "application/vnd.jupyter.widget-view+json": {
       "model_id": "e27faa96f63349ae842b4864ee9ca8f7",
       "version_major": 2,
       "version_minor": 0
      },
      "text/plain": [
       "  0%|          | 0/100 [00:00<?, ?it/s]"
      ]
     },
     "metadata": {},
     "output_type": "display_data"
    },
    {
     "name": "stderr",
     "output_type": "stream",
     "text": [
      "10:54:38 | INFO | End     0 step; propagated    0.012 [fs]; AVG Krylov iteration: 5.93\n",
      "10:55:03 | INFO | End    99 step; propagated    1.197 [fs]; AVG Krylov iteration: 5.86\n",
      "10:55:03 | INFO | End simulation and save wavefunction\n",
      "10:55:03 | INFO | Wave function is saved in wf_radicalpair_56.pkl\n",
      "10:55:03 | INFO | Wave function is saved in wf_radicalpair_64.pkl\n",
      "10:55:03 | INFO | Start initial step    0.000 [fs]\n"
     ]
    },
    {
     "data": {
      "application/vnd.jupyter.widget-view+json": {
       "model_id": "f471dfd02b6d4a4180aa00e1e7d52625",
       "version_major": 2,
       "version_minor": 0
      },
      "text/plain": [
       "  0%|          | 0/100 [00:00<?, ?it/s]"
      ]
     },
     "metadata": {},
     "output_type": "display_data"
    },
    {
     "name": "stderr",
     "output_type": "stream",
     "text": [
      "10:55:04 | INFO | End    99 step; propagated    1.197 [fs]; AVG Krylov iteration: 5.75\n",
      "10:55:04 | INFO | End simulation and save wavefunction\n",
      "10:55:04 | INFO | End     0 step; propagated    0.012 [fs]; AVG Krylov iteration: 5.93\n",
      "10:55:04 | INFO | Wave function is saved in wf_radicalpair_58.pkl\n",
      "10:55:04 | INFO | Wave function is saved in wf_radicalpair_65.pkl\n",
      "10:55:04 | INFO | Start initial step    0.000 [fs]\n"
     ]
    },
    {
     "data": {
      "application/vnd.jupyter.widget-view+json": {
       "model_id": "06a2ae32583c42efa32aa0b503420dd7",
       "version_major": 2,
       "version_minor": 0
      },
      "text/plain": [
       "  0%|          | 0/100 [00:00<?, ?it/s]"
      ]
     },
     "metadata": {},
     "output_type": "display_data"
    },
    {
     "name": "stderr",
     "output_type": "stream",
     "text": [
      "10:55:04 | INFO | End    99 step; propagated    1.197 [fs]; AVG Krylov iteration: 5.68\n",
      "10:55:04 | INFO | End simulation and save wavefunction\n",
      "10:55:04 | INFO | Wave function is saved in wf_radicalpair_59.pkl\n",
      "10:55:04 | INFO | Wave function is saved in wf_radicalpair_66.pkl\n",
      "10:55:04 | INFO | End     0 step; propagated    0.012 [fs]; AVG Krylov iteration: 5.93\n",
      "10:55:04 | INFO | Start initial step    0.000 [fs]\n"
     ]
    },
    {
     "data": {
      "application/vnd.jupyter.widget-view+json": {
       "model_id": "d8d1d5e5f3d54f939b85af9d27b9b389",
       "version_major": 2,
       "version_minor": 0
      },
      "text/plain": [
       "  0%|          | 0/100 [00:00<?, ?it/s]"
      ]
     },
     "metadata": {},
     "output_type": "display_data"
    },
    {
     "name": "stderr",
     "output_type": "stream",
     "text": [
      "10:55:05 | INFO | End     0 step; propagated    0.012 [fs]; AVG Krylov iteration: 6.29\n",
      "10:55:05 | INFO | End    99 step; propagated    1.197 [fs]; AVG Krylov iteration: 6.29\n",
      "10:55:05 | INFO | End simulation and save wavefunction\n",
      "10:55:05 | INFO | Wave function is saved in wf_radicalpair_57.pkl\n",
      "10:55:05 | INFO | Wave function is saved in wf_radicalpair_67.pkl\n",
      "10:55:05 | INFO | Start initial step    0.000 [fs]\n"
     ]
    },
    {
     "data": {
      "application/vnd.jupyter.widget-view+json": {
       "model_id": "afef8348caf54887a22dc34a652d25b3",
       "version_major": 2,
       "version_minor": 0
      },
      "text/plain": [
       "  0%|          | 0/100 [00:00<?, ?it/s]"
      ]
     },
     "metadata": {},
     "output_type": "display_data"
    },
    {
     "name": "stderr",
     "output_type": "stream",
     "text": [
      "10:55:05 | INFO | End     0 step; propagated    0.012 [fs]; AVG Krylov iteration: 5.93\n",
      "10:55:06 | INFO | End    99 step; propagated    1.197 [fs]; AVG Krylov iteration: 5.71\n",
      "10:55:06 | INFO | End simulation and save wavefunction\n",
      "10:55:06 | INFO | Wave function is saved in wf_radicalpair_60.pkl\n",
      "10:55:06 | INFO | End    99 step; propagated    1.197 [fs]; AVG Krylov iteration: 5.82\n",
      "10:55:06 | INFO | End simulation and save wavefunction\n",
      "10:55:06 | INFO | Wave function is saved in wf_radicalpair_61.pkl\n",
      "10:55:06 | INFO | Wave function is saved in wf_radicalpair_68.pkl\n",
      "10:55:06 | INFO | Start initial step    0.000 [fs]\n"
     ]
    },
    {
     "data": {
      "application/vnd.jupyter.widget-view+json": {
       "model_id": "84e77dc33c384958a6ebe77b95351c37",
       "version_major": 2,
       "version_minor": 0
      },
      "text/plain": [
       "  0%|          | 0/100 [00:00<?, ?it/s]"
      ]
     },
     "metadata": {},
     "output_type": "display_data"
    },
    {
     "name": "stderr",
     "output_type": "stream",
     "text": [
      "10:55:06 | INFO | Wave function is saved in wf_radicalpair_69.pkl\n",
      "10:55:06 | INFO | Start initial step    0.000 [fs]\n"
     ]
    },
    {
     "data": {
      "application/vnd.jupyter.widget-view+json": {
       "model_id": "c4bd018ede914afb9ed860a0b6d1110d",
       "version_major": 2,
       "version_minor": 0
      },
      "text/plain": [
       "  0%|          | 0/100 [00:00<?, ?it/s]"
      ]
     },
     "metadata": {},
     "output_type": "display_data"
    },
    {
     "name": "stderr",
     "output_type": "stream",
     "text": [
      "10:55:07 | INFO | End     0 step; propagated    0.012 [fs]; AVG Krylov iteration: 5.93\n",
      "10:55:07 | INFO | End     0 step; propagated    0.012 [fs]; AVG Krylov iteration: 5.93\n",
      "10:55:07 | INFO | End    99 step; propagated    1.197 [fs]; AVG Krylov iteration: 5.82\n",
      "10:55:07 | INFO | End simulation and save wavefunction\n",
      "10:55:07 | INFO | Wave function is saved in wf_radicalpair_62.pkl\n",
      "10:55:08 | INFO | Wave function is saved in wf_radicalpair_70.pkl\n",
      "10:55:08 | INFO | Start initial step    0.000 [fs]\n"
     ]
    },
    {
     "data": {
      "application/vnd.jupyter.widget-view+json": {
       "model_id": "b95cfbe35c0c407ba8e350ff0a766d19",
       "version_major": 2,
       "version_minor": 0
      },
      "text/plain": [
       "  0%|          | 0/100 [00:00<?, ?it/s]"
      ]
     },
     "metadata": {},
     "output_type": "display_data"
    },
    {
     "name": "stderr",
     "output_type": "stream",
     "text": [
      "10:55:08 | INFO | End     0 step; propagated    0.012 [fs]; AVG Krylov iteration: 5.86\n",
      "10:55:12 | INFO | End    99 step; propagated    1.197 [fs]; AVG Krylov iteration: 5.89\n",
      "10:55:12 | INFO | End simulation and save wavefunction\n",
      "10:55:12 | INFO | Wave function is saved in wf_radicalpair_63.pkl\n",
      "10:55:12 | INFO | Wave function is saved in wf_radicalpair_71.pkl\n",
      "10:55:12 | INFO | Start initial step    0.000 [fs]\n"
     ]
    },
    {
     "data": {
      "application/vnd.jupyter.widget-view+json": {
       "model_id": "026e4d7490344e608365ab3964f87502",
       "version_major": 2,
       "version_minor": 0
      },
      "text/plain": [
       "  0%|          | 0/100 [00:00<?, ?it/s]"
      ]
     },
     "metadata": {},
     "output_type": "display_data"
    },
    {
     "name": "stderr",
     "output_type": "stream",
     "text": [
      "10:55:12 | INFO | End     0 step; propagated    0.012 [fs]; AVG Krylov iteration: 5.86\n",
      "10:55:38 | INFO | End    99 step; propagated    1.197 [fs]; AVG Krylov iteration: 5.57\n",
      "10:55:38 | INFO | End simulation and save wavefunction\n",
      "10:55:38 | INFO | Wave function is saved in wf_radicalpair_65.pkl\n",
      "10:55:38 | INFO | Wave function is saved in wf_radicalpair_72.pkl\n",
      "10:55:38 | INFO | Start initial step    0.000 [fs]\n"
     ]
    },
    {
     "data": {
      "application/vnd.jupyter.widget-view+json": {
       "model_id": "00a1c519984a4a36824d527cb4df41c9",
       "version_major": 2,
       "version_minor": 0
      },
      "text/plain": [
       "  0%|          | 0/100 [00:00<?, ?it/s]"
      ]
     },
     "metadata": {},
     "output_type": "display_data"
    },
    {
     "name": "stderr",
     "output_type": "stream",
     "text": [
      "10:55:38 | INFO | End    99 step; propagated    1.197 [fs]; AVG Krylov iteration: 5.79\n",
      "10:55:38 | INFO | End simulation and save wavefunction\n",
      "10:55:38 | INFO | Wave function is saved in wf_radicalpair_64.pkl\n",
      "10:55:38 | INFO | Wave function is saved in wf_radicalpair_73.pkl\n",
      "10:55:38 | INFO | Start initial step    0.000 [fs]\n"
     ]
    },
    {
     "data": {
      "application/vnd.jupyter.widget-view+json": {
       "model_id": "cdd77d0bb3a84cc2b80ea838e05f83ad",
       "version_major": 2,
       "version_minor": 0
      },
      "text/plain": [
       "  0%|          | 0/100 [00:00<?, ?it/s]"
      ]
     },
     "metadata": {},
     "output_type": "display_data"
    },
    {
     "name": "stderr",
     "output_type": "stream",
     "text": [
      "10:55:38 | INFO | End     0 step; propagated    0.012 [fs]; AVG Krylov iteration: 5.89\n",
      "10:55:39 | INFO | End     0 step; propagated    0.012 [fs]; AVG Krylov iteration: 5.54\n",
      "10:55:39 | INFO | End    99 step; propagated    1.197 [fs]; AVG Krylov iteration: 5.86\n",
      "10:55:39 | INFO | End simulation and save wavefunction\n",
      "10:55:39 | INFO | Wave function is saved in wf_radicalpair_67.pkl\n",
      "10:55:39 | INFO | Wave function is saved in wf_radicalpair_74.pkl\n",
      "10:55:39 | INFO | Start initial step    0.000 [fs]\n"
     ]
    },
    {
     "data": {
      "application/vnd.jupyter.widget-view+json": {
       "model_id": "e66c5dc942604c1ca102b0f7cff4f9f0",
       "version_major": 2,
       "version_minor": 0
      },
      "text/plain": [
       "  0%|          | 0/100 [00:00<?, ?it/s]"
      ]
     },
     "metadata": {},
     "output_type": "display_data"
    },
    {
     "name": "stderr",
     "output_type": "stream",
     "text": [
      "10:55:40 | INFO | End     0 step; propagated    0.012 [fs]; AVG Krylov iteration: 5.82\n",
      "10:55:40 | INFO | End    99 step; propagated    1.197 [fs]; AVG Krylov iteration: 6.14\n",
      "10:55:40 | INFO | End simulation and save wavefunction\n",
      "10:55:40 | INFO | Wave function is saved in wf_radicalpair_66.pkl\n",
      "10:55:40 | INFO | Wave function is saved in wf_radicalpair_75.pkl\n",
      "10:55:40 | INFO | Start initial step    0.000 [fs]\n"
     ]
    },
    {
     "data": {
      "application/vnd.jupyter.widget-view+json": {
       "model_id": "211b6ed117ad4996b6373d1985688f5f",
       "version_major": 2,
       "version_minor": 0
      },
      "text/plain": [
       "  0%|          | 0/100 [00:00<?, ?it/s]"
      ]
     },
     "metadata": {},
     "output_type": "display_data"
    },
    {
     "name": "stderr",
     "output_type": "stream",
     "text": [
      "10:55:41 | INFO | End     0 step; propagated    0.012 [fs]; AVG Krylov iteration: 5.93\n",
      "10:55:41 | INFO | End    99 step; propagated    1.197 [fs]; AVG Krylov iteration: 5.79\n",
      "10:55:41 | INFO | End simulation and save wavefunction\n",
      "10:55:41 | INFO | Wave function is saved in wf_radicalpair_69.pkl\n",
      "10:55:41 | INFO | Wave function is saved in wf_radicalpair_76.pkl\n",
      "10:55:41 | INFO | Start initial step    0.000 [fs]\n"
     ]
    },
    {
     "data": {
      "application/vnd.jupyter.widget-view+json": {
       "model_id": "116dceb4278c497783932409ea0dab24",
       "version_major": 2,
       "version_minor": 0
      },
      "text/plain": [
       "  0%|          | 0/100 [00:00<?, ?it/s]"
      ]
     },
     "metadata": {},
     "output_type": "display_data"
    },
    {
     "name": "stderr",
     "output_type": "stream",
     "text": [
      "10:55:41 | INFO | End    99 step; propagated    1.197 [fs]; AVG Krylov iteration: 5.86\n",
      "10:55:41 | INFO | End simulation and save wavefunction\n",
      "10:55:41 | INFO | Wave function is saved in wf_radicalpair_68.pkl\n",
      "10:55:41 | INFO | Wave function is saved in wf_radicalpair_77.pkl\n",
      "10:55:41 | INFO | Start initial step    0.000 [fs]\n"
     ]
    },
    {
     "data": {
      "application/vnd.jupyter.widget-view+json": {
       "model_id": "bc9941c83bc0483e998265ca4b66e5c4",
       "version_major": 2,
       "version_minor": 0
      },
      "text/plain": [
       "  0%|          | 0/100 [00:00<?, ?it/s]"
      ]
     },
     "metadata": {},
     "output_type": "display_data"
    },
    {
     "name": "stderr",
     "output_type": "stream",
     "text": [
      "10:55:41 | INFO | End     0 step; propagated    0.012 [fs]; AVG Krylov iteration: 5.93\n",
      "10:55:42 | INFO | End     0 step; propagated    0.012 [fs]; AVG Krylov iteration: 5.93\n",
      "10:55:42 | INFO | End    99 step; propagated    1.197 [fs]; AVG Krylov iteration: 5.61\n",
      "10:55:42 | INFO | End simulation and save wavefunction\n",
      "10:55:42 | INFO | Wave function is saved in wf_radicalpair_70.pkl\n",
      "10:55:42 | INFO | Wave function is saved in wf_radicalpair_78.pkl\n",
      "10:55:42 | INFO | Start initial step    0.000 [fs]\n"
     ]
    },
    {
     "data": {
      "application/vnd.jupyter.widget-view+json": {
       "model_id": "6c5c34cd494c46bcac0af22cc3d2f8ee",
       "version_major": 2,
       "version_minor": 0
      },
      "text/plain": [
       "  0%|          | 0/100 [00:00<?, ?it/s]"
      ]
     },
     "metadata": {},
     "output_type": "display_data"
    },
    {
     "name": "stderr",
     "output_type": "stream",
     "text": [
      "10:55:42 | INFO | End     0 step; propagated    0.012 [fs]; AVG Krylov iteration: 5.93\n",
      "10:55:46 | INFO | End    99 step; propagated    1.197 [fs]; AVG Krylov iteration: 5.79\n",
      "10:55:46 | INFO | End simulation and save wavefunction\n",
      "10:55:46 | INFO | Wave function is saved in wf_radicalpair_71.pkl\n",
      "10:55:46 | INFO | Wave function is saved in wf_radicalpair_79.pkl\n",
      "10:55:46 | INFO | Start initial step    0.000 [fs]\n"
     ]
    },
    {
     "data": {
      "application/vnd.jupyter.widget-view+json": {
       "model_id": "9ae4c09a73a5454f80a97608eefd66e4",
       "version_major": 2,
       "version_minor": 0
      },
      "text/plain": [
       "  0%|          | 0/100 [00:00<?, ?it/s]"
      ]
     },
     "metadata": {},
     "output_type": "display_data"
    },
    {
     "name": "stderr",
     "output_type": "stream",
     "text": [
      "10:55:47 | INFO | End     0 step; propagated    0.012 [fs]; AVG Krylov iteration: 5.93\n",
      "10:56:13 | INFO | End    99 step; propagated    1.197 [fs]; AVG Krylov iteration: 5.36\n",
      "10:56:13 | INFO | End simulation and save wavefunction\n",
      "10:56:13 | INFO | Wave function is saved in wf_radicalpair_73.pkl\n",
      "10:56:13 | INFO | Wave function is saved in wf_radicalpair_80.pkl\n",
      "10:56:13 | INFO | Start initial step    0.000 [fs]\n"
     ]
    },
    {
     "data": {
      "application/vnd.jupyter.widget-view+json": {
       "model_id": "8bbd18c633ef4a3b970b0180ac40edc3",
       "version_major": 2,
       "version_minor": 0
      },
      "text/plain": [
       "  0%|          | 0/100 [00:00<?, ?it/s]"
      ]
     },
     "metadata": {},
     "output_type": "display_data"
    },
    {
     "name": "stderr",
     "output_type": "stream",
     "text": [
      "10:56:13 | INFO | End     0 step; propagated    0.012 [fs]; AVG Krylov iteration: 6.21\n",
      "10:56:14 | INFO | End    99 step; propagated    1.197 [fs]; AVG Krylov iteration: 5.64\n",
      "10:56:14 | INFO | End simulation and save wavefunction\n",
      "10:56:14 | INFO | Wave function is saved in wf_radicalpair_72.pkl\n",
      "10:56:14 | INFO | Wave function is saved in wf_radicalpair_81.pkl\n",
      "10:56:14 | INFO | Start initial step    0.000 [fs]\n"
     ]
    },
    {
     "data": {
      "application/vnd.jupyter.widget-view+json": {
       "model_id": "b567dd087b3f422c932143fd04578c2e",
       "version_major": 2,
       "version_minor": 0
      },
      "text/plain": [
       "  0%|          | 0/100 [00:00<?, ?it/s]"
      ]
     },
     "metadata": {},
     "output_type": "display_data"
    },
    {
     "name": "stderr",
     "output_type": "stream",
     "text": [
      "10:56:14 | INFO | End    99 step; propagated    1.197 [fs]; AVG Krylov iteration: 5.57\n",
      "10:56:14 | INFO | End simulation and save wavefunction\n",
      "10:56:14 | INFO | Wave function is saved in wf_radicalpair_74.pkl\n",
      "10:56:14 | INFO | End     0 step; propagated    0.012 [fs]; AVG Krylov iteration: 5.93\n",
      "10:56:14 | INFO | Wave function is saved in wf_radicalpair_82.pkl\n",
      "10:56:14 | INFO | Start initial step    0.000 [fs]\n"
     ]
    },
    {
     "data": {
      "application/vnd.jupyter.widget-view+json": {
       "model_id": "617779d95edd4c2f91efd321dd25c1af",
       "version_major": 2,
       "version_minor": 0
      },
      "text/plain": [
       "  0%|          | 0/100 [00:00<?, ?it/s]"
      ]
     },
     "metadata": {},
     "output_type": "display_data"
    },
    {
     "name": "stderr",
     "output_type": "stream",
     "text": [
      "10:56:15 | INFO | End     0 step; propagated    0.012 [fs]; AVG Krylov iteration: 5.93\n",
      "10:56:15 | INFO | End    99 step; propagated    1.197 [fs]; AVG Krylov iteration: 5.82\n",
      "10:56:15 | INFO | End simulation and save wavefunction\n",
      "10:56:15 | INFO | Wave function is saved in wf_radicalpair_75.pkl\n",
      "10:56:15 | INFO | Wave function is saved in wf_radicalpair_83.pkl\n",
      "10:56:15 | INFO | Start initial step    0.000 [fs]\n"
     ]
    },
    {
     "data": {
      "application/vnd.jupyter.widget-view+json": {
       "model_id": "432bbf75ebed4ddfa466bbb01c1d7251",
       "version_major": 2,
       "version_minor": 0
      },
      "text/plain": [
       "  0%|          | 0/100 [00:00<?, ?it/s]"
      ]
     },
     "metadata": {},
     "output_type": "display_data"
    },
    {
     "name": "stderr",
     "output_type": "stream",
     "text": [
      "10:56:16 | INFO | End    99 step; propagated    1.197 [fs]; AVG Krylov iteration: 5.75\n",
      "10:56:16 | INFO | End simulation and save wavefunction\n",
      "10:56:16 | INFO | Wave function is saved in wf_radicalpair_76.pkl\n",
      "10:56:16 | INFO | Wave function is saved in wf_radicalpair_84.pkl\n",
      "10:56:16 | INFO | Start initial step    0.000 [fs]\n",
      "10:56:16 | INFO | End     0 step; propagated    0.012 [fs]; AVG Krylov iteration: 5.93\n"
     ]
    },
    {
     "data": {
      "application/vnd.jupyter.widget-view+json": {
       "model_id": "3032cd6a7f024247ba7f65c05fef5877",
       "version_major": 2,
       "version_minor": 0
      },
      "text/plain": [
       "  0%|          | 0/100 [00:00<?, ?it/s]"
      ]
     },
     "metadata": {},
     "output_type": "display_data"
    },
    {
     "name": "stderr",
     "output_type": "stream",
     "text": [
      "10:56:16 | INFO | End    99 step; propagated    1.197 [fs]; AVG Krylov iteration: 5.71\n",
      "10:56:16 | INFO | End simulation and save wavefunction\n",
      "10:56:16 | INFO | Wave function is saved in wf_radicalpair_77.pkl\n",
      "10:56:16 | INFO | Wave function is saved in wf_radicalpair_85.pkl\n",
      "10:56:16 | INFO | Start initial step    0.000 [fs]\n"
     ]
    },
    {
     "data": {
      "application/vnd.jupyter.widget-view+json": {
       "model_id": "4fe4527b00174975b79a09413caf89f8",
       "version_major": 2,
       "version_minor": 0
      },
      "text/plain": [
       "  0%|          | 0/100 [00:00<?, ?it/s]"
      ]
     },
     "metadata": {},
     "output_type": "display_data"
    },
    {
     "name": "stderr",
     "output_type": "stream",
     "text": [
      "10:56:16 | INFO | End     0 step; propagated    0.012 [fs]; AVG Krylov iteration: 5.93\n",
      "10:56:16 | INFO | End     0 step; propagated    0.012 [fs]; AVG Krylov iteration: 5.93\n",
      "10:56:17 | INFO | End    99 step; propagated    1.197 [fs]; AVG Krylov iteration: 5.64\n",
      "10:56:17 | INFO | End simulation and save wavefunction\n",
      "10:56:17 | INFO | Wave function is saved in wf_radicalpair_78.pkl\n",
      "10:56:17 | INFO | Wave function is saved in wf_radicalpair_86.pkl\n",
      "10:56:17 | INFO | Start initial step    0.000 [fs]\n"
     ]
    },
    {
     "data": {
      "application/vnd.jupyter.widget-view+json": {
       "model_id": "801129d62353406fae9cd9e7cff0dd58",
       "version_major": 2,
       "version_minor": 0
      },
      "text/plain": [
       "  0%|          | 0/100 [00:00<?, ?it/s]"
      ]
     },
     "metadata": {},
     "output_type": "display_data"
    },
    {
     "name": "stderr",
     "output_type": "stream",
     "text": [
      "10:56:17 | INFO | End     0 step; propagated    0.012 [fs]; AVG Krylov iteration: 5.93\n",
      "10:56:21 | INFO | End    99 step; propagated    1.197 [fs]; AVG Krylov iteration: 5.79\n",
      "10:56:21 | INFO | End simulation and save wavefunction\n",
      "10:56:22 | INFO | Wave function is saved in wf_radicalpair_79.pkl\n",
      "10:56:22 | INFO | Wave function is saved in wf_radicalpair_87.pkl\n",
      "10:56:22 | INFO | Start initial step    0.000 [fs]\n"
     ]
    },
    {
     "data": {
      "application/vnd.jupyter.widget-view+json": {
       "model_id": "522a39ee8aa748bf960bd3ffdf3513d1",
       "version_major": 2,
       "version_minor": 0
      },
      "text/plain": [
       "  0%|          | 0/100 [00:00<?, ?it/s]"
      ]
     },
     "metadata": {},
     "output_type": "display_data"
    },
    {
     "name": "stderr",
     "output_type": "stream",
     "text": [
      "10:56:22 | INFO | End     0 step; propagated    0.012 [fs]; AVG Krylov iteration: 5.86\n",
      "10:56:47 | INFO | End    99 step; propagated    1.197 [fs]; AVG Krylov iteration: 5.79\n",
      "10:56:47 | INFO | End simulation and save wavefunction\n",
      "10:56:47 | INFO | Wave function is saved in wf_radicalpair_81.pkl\n",
      "10:56:47 | INFO | Wave function is saved in wf_radicalpair_88.pkl\n",
      "10:56:47 | INFO | Start initial step    0.000 [fs]\n"
     ]
    },
    {
     "data": {
      "application/vnd.jupyter.widget-view+json": {
       "model_id": "8d18f81c032f4f2dbebb30543cb56e25",
       "version_major": 2,
       "version_minor": 0
      },
      "text/plain": [
       "  0%|          | 0/100 [00:00<?, ?it/s]"
      ]
     },
     "metadata": {},
     "output_type": "display_data"
    },
    {
     "name": "stderr",
     "output_type": "stream",
     "text": [
      "10:56:48 | INFO | End     0 step; propagated    0.012 [fs]; AVG Krylov iteration: 5.86\n",
      "10:56:48 | INFO | End    99 step; propagated    1.197 [fs]; AVG Krylov iteration: 6.18\n",
      "10:56:48 | INFO | End simulation and save wavefunction\n",
      "10:56:48 | INFO | Wave function is saved in wf_radicalpair_80.pkl\n",
      "10:56:48 | INFO | Wave function is saved in wf_radicalpair_89.pkl\n",
      "10:56:48 | INFO | Start initial step    0.000 [fs]\n"
     ]
    },
    {
     "data": {
      "application/vnd.jupyter.widget-view+json": {
       "model_id": "9224a987200f4c71b82296a96ee4e0cc",
       "version_major": 2,
       "version_minor": 0
      },
      "text/plain": [
       "  0%|          | 0/100 [00:00<?, ?it/s]"
      ]
     },
     "metadata": {},
     "output_type": "display_data"
    },
    {
     "name": "stderr",
     "output_type": "stream",
     "text": [
      "10:56:48 | INFO | End    99 step; propagated    1.197 [fs]; AVG Krylov iteration: 5.82\n",
      "10:56:48 | INFO | End simulation and save wavefunction\n",
      "10:56:48 | INFO | Wave function is saved in wf_radicalpair_82.pkl\n",
      "10:56:48 | INFO | Wave function is saved in wf_radicalpair_90.pkl\n",
      "10:56:48 | INFO | Start initial step    0.000 [fs]\n",
      "10:56:48 | INFO | End     0 step; propagated    0.012 [fs]; AVG Krylov iteration: 5.93\n"
     ]
    },
    {
     "data": {
      "application/vnd.jupyter.widget-view+json": {
       "model_id": "90fea60e9af74aa98b39becadc1aa880",
       "version_major": 2,
       "version_minor": 0
      },
      "text/plain": [
       "  0%|          | 0/100 [00:00<?, ?it/s]"
      ]
     },
     "metadata": {},
     "output_type": "display_data"
    },
    {
     "name": "stderr",
     "output_type": "stream",
     "text": [
      "10:56:49 | INFO | End     0 step; propagated    0.012 [fs]; AVG Krylov iteration: 5.93\n",
      "10:56:49 | INFO | End    99 step; propagated    1.197 [fs]; AVG Krylov iteration: 5.86\n",
      "10:56:49 | INFO | End simulation and save wavefunction\n",
      "10:56:49 | INFO | Wave function is saved in wf_radicalpair_83.pkl\n",
      "10:56:49 | INFO | Wave function is saved in wf_radicalpair_91.pkl\n",
      "10:56:49 | INFO | Start initial step    0.000 [fs]\n"
     ]
    },
    {
     "data": {
      "application/vnd.jupyter.widget-view+json": {
       "model_id": "e2deb1f0e6724ce78d301c7eace015c3",
       "version_major": 2,
       "version_minor": 0
      },
      "text/plain": [
       "  0%|          | 0/100 [00:00<?, ?it/s]"
      ]
     },
     "metadata": {},
     "output_type": "display_data"
    },
    {
     "name": "stderr",
     "output_type": "stream",
     "text": [
      "10:56:50 | INFO | End     0 step; propagated    0.012 [fs]; AVG Krylov iteration: 5.93\n",
      "10:56:50 | INFO | End    99 step; propagated    1.197 [fs]; AVG Krylov iteration: 5.82\n",
      "10:56:50 | INFO | End simulation and save wavefunction\n",
      "10:56:50 | INFO | Wave function is saved in wf_radicalpair_84.pkl\n",
      "10:56:50 | INFO | Wave function is saved in wf_radicalpair_92.pkl\n",
      "10:56:50 | INFO | Start initial step    0.000 [fs]\n"
     ]
    },
    {
     "data": {
      "application/vnd.jupyter.widget-view+json": {
       "model_id": "6e21d1b0346b445a9e5fe33d7d08b66a",
       "version_major": 2,
       "version_minor": 0
      },
      "text/plain": [
       "  0%|          | 0/100 [00:00<?, ?it/s]"
      ]
     },
     "metadata": {},
     "output_type": "display_data"
    },
    {
     "name": "stderr",
     "output_type": "stream",
     "text": [
      "10:56:50 | INFO | End     0 step; propagated    0.012 [fs]; AVG Krylov iteration: 5.93\n",
      "10:56:50 | INFO | End    99 step; propagated    1.197 [fs]; AVG Krylov iteration: 5.79\n",
      "10:56:50 | INFO | End simulation and save wavefunction\n",
      "10:56:50 | INFO | Wave function is saved in wf_radicalpair_85.pkl\n",
      "10:56:50 | INFO | Wave function is saved in wf_radicalpair_93.pkl\n",
      "10:56:50 | INFO | Start initial step    0.000 [fs]\n"
     ]
    },
    {
     "data": {
      "application/vnd.jupyter.widget-view+json": {
       "model_id": "95ede8a1f0d2476fa3a529d23d89e7f5",
       "version_major": 2,
       "version_minor": 0
      },
      "text/plain": [
       "  0%|          | 0/100 [00:00<?, ?it/s]"
      ]
     },
     "metadata": {},
     "output_type": "display_data"
    },
    {
     "name": "stderr",
     "output_type": "stream",
     "text": [
      "10:56:51 | INFO | End     0 step; propagated    0.012 [fs]; AVG Krylov iteration: 5.93\n",
      "10:56:51 | INFO | End    99 step; propagated    1.197 [fs]; AVG Krylov iteration: 5.86\n",
      "10:56:51 | INFO | End simulation and save wavefunction\n",
      "10:56:51 | INFO | Wave function is saved in wf_radicalpair_86.pkl\n",
      "10:56:51 | INFO | Wave function is saved in wf_radicalpair_94.pkl\n",
      "10:56:51 | INFO | Start initial step    0.000 [fs]\n"
     ]
    },
    {
     "data": {
      "application/vnd.jupyter.widget-view+json": {
       "model_id": "94a3a452f2494fa5a37d05dcff664f4d",
       "version_major": 2,
       "version_minor": 0
      },
      "text/plain": [
       "  0%|          | 0/100 [00:00<?, ?it/s]"
      ]
     },
     "metadata": {},
     "output_type": "display_data"
    },
    {
     "name": "stderr",
     "output_type": "stream",
     "text": [
      "10:56:52 | INFO | End     0 step; propagated    0.012 [fs]; AVG Krylov iteration: 5.86\n",
      "10:56:56 | INFO | End    99 step; propagated    1.197 [fs]; AVG Krylov iteration: 5.64\n",
      "10:56:56 | INFO | End simulation and save wavefunction\n",
      "10:56:56 | INFO | Wave function is saved in wf_radicalpair_87.pkl\n",
      "10:56:56 | INFO | Wave function is saved in wf_radicalpair_95.pkl\n",
      "10:56:56 | INFO | Start initial step    0.000 [fs]\n"
     ]
    },
    {
     "data": {
      "application/vnd.jupyter.widget-view+json": {
       "model_id": "5c13d51e84014ce4b10ba922593fa07c",
       "version_major": 2,
       "version_minor": 0
      },
      "text/plain": [
       "  0%|          | 0/100 [00:00<?, ?it/s]"
      ]
     },
     "metadata": {},
     "output_type": "display_data"
    },
    {
     "name": "stderr",
     "output_type": "stream",
     "text": [
      "10:56:56 | INFO | End     0 step; propagated    0.012 [fs]; AVG Krylov iteration: 5.93\n",
      "10:57:22 | INFO | End    99 step; propagated    1.197 [fs]; AVG Krylov iteration: 5.57\n",
      "10:57:22 | INFO | End simulation and save wavefunction\n",
      "10:57:22 | INFO | Wave function is saved in wf_radicalpair_88.pkl\n",
      "10:57:22 | INFO | Wave function is saved in wf_radicalpair_96.pkl\n",
      "10:57:22 | INFO | Start initial step    0.000 [fs]\n"
     ]
    },
    {
     "data": {
      "application/vnd.jupyter.widget-view+json": {
       "model_id": "6ff023057f6e443c8fb9214af012cac7",
       "version_major": 2,
       "version_minor": 0
      },
      "text/plain": [
       "  0%|          | 0/100 [00:00<?, ?it/s]"
      ]
     },
     "metadata": {},
     "output_type": "display_data"
    },
    {
     "name": "stderr",
     "output_type": "stream",
     "text": [
      "10:57:22 | INFO | End     0 step; propagated    0.012 [fs]; AVG Krylov iteration: 6.04\n",
      "10:57:23 | INFO | End    99 step; propagated    1.197 [fs]; AVG Krylov iteration: 5.79\n",
      "10:57:23 | INFO | End simulation and save wavefunction\n",
      "10:57:23 | INFO | Wave function is saved in wf_radicalpair_89.pkl\n",
      "10:57:23 | INFO | Wave function is saved in wf_radicalpair_97.pkl\n",
      "10:57:23 | INFO | Start initial step    0.000 [fs]\n"
     ]
    },
    {
     "data": {
      "application/vnd.jupyter.widget-view+json": {
       "model_id": "072a849040c748c5839b4d6be34b76c9",
       "version_major": 2,
       "version_minor": 0
      },
      "text/plain": [
       "  0%|          | 0/100 [00:00<?, ?it/s]"
      ]
     },
     "metadata": {},
     "output_type": "display_data"
    },
    {
     "name": "stderr",
     "output_type": "stream",
     "text": [
      "10:57:23 | INFO | End    99 step; propagated    1.197 [fs]; AVG Krylov iteration: 5.82\n",
      "10:57:23 | INFO | End simulation and save wavefunction\n",
      "10:57:23 | INFO | Wave function is saved in wf_radicalpair_90.pkl\n",
      "10:57:23 | INFO | Wave function is saved in wf_radicalpair_98.pkl\n",
      "10:57:23 | INFO | Start initial step    0.000 [fs]\n"
     ]
    },
    {
     "data": {
      "application/vnd.jupyter.widget-view+json": {
       "model_id": "b60b15a73ae74302b51059a5ae43f21f",
       "version_major": 2,
       "version_minor": 0
      },
      "text/plain": [
       "  0%|          | 0/100 [00:00<?, ?it/s]"
      ]
     },
     "metadata": {},
     "output_type": "display_data"
    },
    {
     "name": "stderr",
     "output_type": "stream",
     "text": [
      "10:57:23 | INFO | End     0 step; propagated    0.012 [fs]; AVG Krylov iteration: 5.93\n",
      "10:57:23 | INFO | End     0 step; propagated    0.012 [fs]; AVG Krylov iteration: 5.79\n",
      "10:57:23 | INFO | End    99 step; propagated    1.197 [fs]; AVG Krylov iteration: 5.79\n",
      "10:57:23 | INFO | End simulation and save wavefunction\n",
      "10:57:23 | INFO | Wave function is saved in wf_radicalpair_91.pkl\n",
      "10:57:23 | INFO | Wave function is saved in wf_radicalpair_99.pkl\n",
      "10:57:23 | INFO | Start initial step    0.000 [fs]\n"
     ]
    },
    {
     "data": {
      "application/vnd.jupyter.widget-view+json": {
       "model_id": "ac80ec0571ef4a4e98dfdb4610491310",
       "version_major": 2,
       "version_minor": 0
      },
      "text/plain": [
       "  0%|          | 0/100 [00:00<?, ?it/s]"
      ]
     },
     "metadata": {},
     "output_type": "display_data"
    },
    {
     "name": "stderr",
     "output_type": "stream",
     "text": [
      "10:57:24 | INFO | End     0 step; propagated    0.012 [fs]; AVG Krylov iteration: 5.86\n",
      "10:57:24 | INFO | End    99 step; propagated    1.197 [fs]; AVG Krylov iteration: 5.86\n",
      "10:57:24 | INFO | End simulation and save wavefunction\n",
      "10:57:24 | INFO | Wave function is saved in wf_radicalpair_92.pkl\n",
      "10:57:24 | INFO | Wave function is saved in wf_radicalpair_100.pkl\n",
      "10:57:24 | INFO | Start initial step    0.000 [fs]\n"
     ]
    },
    {
     "data": {
      "application/vnd.jupyter.widget-view+json": {
       "model_id": "1910e9002f094f67bc1cf3efb873357a",
       "version_major": 2,
       "version_minor": 0
      },
      "text/plain": [
       "  0%|          | 0/100 [00:00<?, ?it/s]"
      ]
     },
     "metadata": {},
     "output_type": "display_data"
    },
    {
     "name": "stderr",
     "output_type": "stream",
     "text": [
      "10:57:24 | INFO | End    99 step; propagated    1.197 [fs]; AVG Krylov iteration: 5.79\n",
      "10:57:24 | INFO | End simulation and save wavefunction\n",
      "10:57:24 | INFO | Wave function is saved in wf_radicalpair_93.pkl\n",
      "10:57:25 | INFO | Wave function is saved in wf_radicalpair_101.pkl\n",
      "10:57:25 | INFO | Start initial step    0.000 [fs]\n"
     ]
    },
    {
     "data": {
      "application/vnd.jupyter.widget-view+json": {
       "model_id": "69143818bf984f58a5619cd55bfab2d1",
       "version_major": 2,
       "version_minor": 0
      },
      "text/plain": [
       "  0%|          | 0/100 [00:00<?, ?it/s]"
      ]
     },
     "metadata": {},
     "output_type": "display_data"
    },
    {
     "name": "stderr",
     "output_type": "stream",
     "text": [
      "10:57:25 | INFO | End     0 step; propagated    0.012 [fs]; AVG Krylov iteration: 5.96\n",
      "10:57:25 | INFO | End     0 step; propagated    0.012 [fs]; AVG Krylov iteration: 5.46\n",
      "10:57:25 | INFO | End    99 step; propagated    1.197 [fs]; AVG Krylov iteration: 5.64\n",
      "10:57:25 | INFO | End simulation and save wavefunction\n",
      "10:57:25 | INFO | Wave function is saved in wf_radicalpair_94.pkl\n",
      "10:57:26 | INFO | Wave function is saved in wf_radicalpair_102.pkl\n",
      "10:57:26 | INFO | Start initial step    0.000 [fs]\n"
     ]
    },
    {
     "data": {
      "application/vnd.jupyter.widget-view+json": {
       "model_id": "1a450d8f2a7d4f4db1c4c78f148cf78c",
       "version_major": 2,
       "version_minor": 0
      },
      "text/plain": [
       "  0%|          | 0/100 [00:00<?, ?it/s]"
      ]
     },
     "metadata": {},
     "output_type": "display_data"
    },
    {
     "name": "stderr",
     "output_type": "stream",
     "text": [
      "10:57:26 | INFO | End     0 step; propagated    0.012 [fs]; AVG Krylov iteration: 6.32\n",
      "10:57:30 | INFO | End    99 step; propagated    1.197 [fs]; AVG Krylov iteration: 5.71\n",
      "10:57:30 | INFO | End simulation and save wavefunction\n",
      "10:57:30 | INFO | Wave function is saved in wf_radicalpair_95.pkl\n",
      "10:57:30 | INFO | Wave function is saved in wf_radicalpair_103.pkl\n",
      "10:57:30 | INFO | Start initial step    0.000 [fs]\n"
     ]
    },
    {
     "data": {
      "application/vnd.jupyter.widget-view+json": {
       "model_id": "c61a96df0d4944d2983c03dfaccd2970",
       "version_major": 2,
       "version_minor": 0
      },
      "text/plain": [
       "  0%|          | 0/100 [00:00<?, ?it/s]"
      ]
     },
     "metadata": {},
     "output_type": "display_data"
    },
    {
     "name": "stderr",
     "output_type": "stream",
     "text": [
      "10:57:31 | INFO | End     0 step; propagated    0.012 [fs]; AVG Krylov iteration: 6.89\n",
      "10:57:57 | INFO | End    99 step; propagated    1.197 [fs]; AVG Krylov iteration: 5.54\n",
      "10:57:57 | INFO | End simulation and save wavefunction\n",
      "10:57:57 | INFO | Wave function is saved in wf_radicalpair_98.pkl\n",
      "10:57:57 | INFO | Wave function is saved in wf_radicalpair_104.pkl\n",
      "10:57:57 | INFO | Start initial step    0.000 [fs]\n"
     ]
    },
    {
     "data": {
      "application/vnd.jupyter.widget-view+json": {
       "model_id": "563e7acdac6d4faf8d2b34e650767447",
       "version_major": 2,
       "version_minor": 0
      },
      "text/plain": [
       "  0%|          | 0/100 [00:00<?, ?it/s]"
      ]
     },
     "metadata": {},
     "output_type": "display_data"
    },
    {
     "name": "stderr",
     "output_type": "stream",
     "text": [
      "10:57:57 | INFO | End    99 step; propagated    1.197 [fs]; AVG Krylov iteration: 6.07\n",
      "10:57:57 | INFO | End simulation and save wavefunction\n",
      "10:57:58 | INFO | Wave function is saved in wf_radicalpair_96.pkl\n",
      "10:57:58 | INFO | End    99 step; propagated    1.197 [fs]; AVG Krylov iteration: 5.82\n",
      "10:57:58 | INFO | End simulation and save wavefunction\n",
      "10:57:58 | INFO | Wave function is saved in wf_radicalpair_105.pkl\n",
      "10:57:58 | INFO | Start initial step    0.000 [fs]\n",
      "10:57:58 | INFO | Wave function is saved in wf_radicalpair_97.pkl\n"
     ]
    },
    {
     "data": {
      "application/vnd.jupyter.widget-view+json": {
       "model_id": "6defe42fc37c4fff997eca86c028be69",
       "version_major": 2,
       "version_minor": 0
      },
      "text/plain": [
       "  0%|          | 0/100 [00:00<?, ?it/s]"
      ]
     },
     "metadata": {},
     "output_type": "display_data"
    },
    {
     "name": "stderr",
     "output_type": "stream",
     "text": [
      "10:57:58 | INFO | Wave function is saved in wf_radicalpair_106.pkl\n",
      "10:57:58 | INFO | Start initial step    0.000 [fs]\n"
     ]
    },
    {
     "data": {
      "application/vnd.jupyter.widget-view+json": {
       "model_id": "9505d25c22d64de3af3b2798360b9cf4",
       "version_major": 2,
       "version_minor": 0
      },
      "text/plain": [
       "  0%|          | 0/100 [00:00<?, ?it/s]"
      ]
     },
     "metadata": {},
     "output_type": "display_data"
    },
    {
     "name": "stderr",
     "output_type": "stream",
     "text": [
      "10:57:58 | INFO | End     0 step; propagated    0.012 [fs]; AVG Krylov iteration: 5.93\n",
      "10:57:58 | INFO | End     0 step; propagated    0.012 [fs]; AVG Krylov iteration: 5.93\n",
      "10:57:58 | INFO | End     0 step; propagated    0.012 [fs]; AVG Krylov iteration: 5.93\n",
      "10:57:59 | INFO | End    99 step; propagated    1.197 [fs]; AVG Krylov iteration: 5.54\n",
      "10:57:59 | INFO | End simulation and save wavefunction\n",
      "10:57:59 | INFO | Wave function is saved in wf_radicalpair_101.pkl\n",
      "10:57:59 | INFO | End    99 step; propagated    1.197 [fs]; AVG Krylov iteration: 5.82\n",
      "10:57:59 | INFO | End simulation and save wavefunction\n",
      "10:57:59 | INFO | Wave function is saved in wf_radicalpair_99.pkl\n",
      "10:57:59 | INFO | Wave function is saved in wf_radicalpair_107.pkl\n",
      "10:57:59 | INFO | Start initial step    0.000 [fs]\n"
     ]
    },
    {
     "data": {
      "application/vnd.jupyter.widget-view+json": {
       "model_id": "68a639639d1e4b41a7de1dcca9458dc4",
       "version_major": 2,
       "version_minor": 0
      },
      "text/plain": [
       "  0%|          | 0/100 [00:00<?, ?it/s]"
      ]
     },
     "metadata": {},
     "output_type": "display_data"
    },
    {
     "name": "stderr",
     "output_type": "stream",
     "text": [
      "10:57:59 | INFO | Wave function is saved in wf_radicalpair_108.pkl\n",
      "10:57:59 | INFO | Start initial step    0.000 [fs]\n"
     ]
    },
    {
     "data": {
      "application/vnd.jupyter.widget-view+json": {
       "model_id": "40b7abebce29410b897fe19cf65f2559",
       "version_major": 2,
       "version_minor": 0
      },
      "text/plain": [
       "  0%|          | 0/100 [00:00<?, ?it/s]"
      ]
     },
     "metadata": {},
     "output_type": "display_data"
    },
    {
     "name": "stderr",
     "output_type": "stream",
     "text": [
      "10:57:59 | INFO | End     0 step; propagated    0.012 [fs]; AVG Krylov iteration: 5.93\n",
      "10:57:59 | INFO | End     0 step; propagated    0.012 [fs]; AVG Krylov iteration: 5.93\n",
      "10:57:59 | INFO | End    99 step; propagated    1.197 [fs]; AVG Krylov iteration: 5.79\n",
      "10:57:59 | INFO | End simulation and save wavefunction\n",
      "10:57:59 | INFO | Wave function is saved in wf_radicalpair_100.pkl\n",
      "10:57:59 | INFO | Wave function is saved in wf_radicalpair_109.pkl\n",
      "10:57:59 | INFO | Start initial step    0.000 [fs]\n"
     ]
    },
    {
     "data": {
      "application/vnd.jupyter.widget-view+json": {
       "model_id": "3d06325037294e0faeec026a4e59cf6c",
       "version_major": 2,
       "version_minor": 0
      },
      "text/plain": [
       "  0%|          | 0/100 [00:00<?, ?it/s]"
      ]
     },
     "metadata": {},
     "output_type": "display_data"
    },
    {
     "name": "stderr",
     "output_type": "stream",
     "text": [
      "10:58:00 | INFO | End     0 step; propagated    0.012 [fs]; AVG Krylov iteration: 5.93\n",
      "10:58:02 | INFO | End    99 step; propagated    1.197 [fs]; AVG Krylov iteration: 6.25\n",
      "10:58:02 | INFO | End simulation and save wavefunction\n",
      "10:58:02 | INFO | Wave function is saved in wf_radicalpair_102.pkl\n",
      "10:58:02 | INFO | Wave function is saved in wf_radicalpair_110.pkl\n",
      "10:58:02 | INFO | Start initial step    0.000 [fs]\n"
     ]
    },
    {
     "data": {
      "application/vnd.jupyter.widget-view+json": {
       "model_id": "1573598e774a4d5dbeff431e4ff2f505",
       "version_major": 2,
       "version_minor": 0
      },
      "text/plain": [
       "  0%|          | 0/100 [00:00<?, ?it/s]"
      ]
     },
     "metadata": {},
     "output_type": "display_data"
    },
    {
     "name": "stderr",
     "output_type": "stream",
     "text": [
      "10:58:02 | INFO | End     0 step; propagated    0.012 [fs]; AVG Krylov iteration: 5.86\n",
      "10:58:08 | INFO | End    99 step; propagated    1.197 [fs]; AVG Krylov iteration: 6.71\n",
      "10:58:08 | INFO | End simulation and save wavefunction\n",
      "10:58:08 | INFO | Wave function is saved in wf_radicalpair_103.pkl\n",
      "10:58:08 | INFO | Wave function is saved in wf_radicalpair_111.pkl\n",
      "10:58:08 | INFO | Start initial step    0.000 [fs]\n"
     ]
    },
    {
     "data": {
      "application/vnd.jupyter.widget-view+json": {
       "model_id": "974492f538c744c8b11e4ab1f622204f",
       "version_major": 2,
       "version_minor": 0
      },
      "text/plain": [
       "  0%|          | 0/100 [00:00<?, ?it/s]"
      ]
     },
     "metadata": {},
     "output_type": "display_data"
    },
    {
     "name": "stderr",
     "output_type": "stream",
     "text": [
      "10:58:08 | INFO | End     0 step; propagated    0.012 [fs]; AVG Krylov iteration: 5.89\n",
      "10:58:32 | INFO | End    99 step; propagated    1.197 [fs]; AVG Krylov iteration: 5.82\n",
      "10:58:32 | INFO | End simulation and save wavefunction\n",
      "10:58:32 | INFO | Wave function is saved in wf_radicalpair_104.pkl\n",
      "10:58:32 | INFO | Wave function is saved in wf_radicalpair_112.pkl\n",
      "10:58:32 | INFO | Start initial step    0.000 [fs]\n"
     ]
    },
    {
     "data": {
      "application/vnd.jupyter.widget-view+json": {
       "model_id": "aed34b7ca0e8420f92ba5185a99afff3",
       "version_major": 2,
       "version_minor": 0
      },
      "text/plain": [
       "  0%|          | 0/100 [00:00<?, ?it/s]"
      ]
     },
     "metadata": {},
     "output_type": "display_data"
    },
    {
     "name": "stderr",
     "output_type": "stream",
     "text": [
      "10:58:32 | INFO | End    99 step; propagated    1.197 [fs]; AVG Krylov iteration: 5.86\n",
      "10:58:32 | INFO | End simulation and save wavefunction\n",
      "10:58:32 | INFO | Wave function is saved in wf_radicalpair_105.pkl\n",
      "10:58:32 | INFO | Wave function is saved in wf_radicalpair_113.pkl\n",
      "10:58:32 | INFO | Start initial step    0.000 [fs]\n"
     ]
    },
    {
     "data": {
      "application/vnd.jupyter.widget-view+json": {
       "model_id": "9baef48c495549c19690dc38da237984",
       "version_major": 2,
       "version_minor": 0
      },
      "text/plain": [
       "  0%|          | 0/100 [00:00<?, ?it/s]"
      ]
     },
     "metadata": {},
     "output_type": "display_data"
    },
    {
     "name": "stderr",
     "output_type": "stream",
     "text": [
      "10:58:32 | INFO | End     0 step; propagated    0.012 [fs]; AVG Krylov iteration: 5.86\n",
      "10:58:33 | INFO | End    99 step; propagated    1.197 [fs]; AVG Krylov iteration: 5.68\n",
      "10:58:33 | INFO | End simulation and save wavefunction\n",
      "10:58:33 | INFO | Wave function is saved in wf_radicalpair_106.pkl\n",
      "10:58:33 | INFO | Wave function is saved in wf_radicalpair_114.pkl\n",
      "10:58:33 | INFO | Start initial step    0.000 [fs]\n"
     ]
    },
    {
     "data": {
      "application/vnd.jupyter.widget-view+json": {
       "model_id": "73baddd46f0c47beb6a159144884f5a9",
       "version_major": 2,
       "version_minor": 0
      },
      "text/plain": [
       "  0%|          | 0/100 [00:00<?, ?it/s]"
      ]
     },
     "metadata": {},
     "output_type": "display_data"
    },
    {
     "name": "stderr",
     "output_type": "stream",
     "text": [
      "10:58:33 | INFO | End     0 step; propagated    0.012 [fs]; AVG Krylov iteration: 5.86\n",
      "10:58:33 | INFO | End     0 step; propagated    0.012 [fs]; AVG Krylov iteration: 5.93\n",
      "10:58:33 | INFO | End    99 step; propagated    1.197 [fs]; AVG Krylov iteration: 5.82\n",
      "10:58:33 | INFO | End simulation and save wavefunction\n",
      "10:58:33 | INFO | Wave function is saved in wf_radicalpair_107.pkl\n",
      "10:58:33 | INFO | Wave function is saved in wf_radicalpair_115.pkl\n",
      "10:58:33 | INFO | Start initial step    0.000 [fs]\n"
     ]
    },
    {
     "data": {
      "application/vnd.jupyter.widget-view+json": {
       "model_id": "7117b7b777ff40e0bd7d7912f988ee1f",
       "version_major": 2,
       "version_minor": 0
      },
      "text/plain": [
       "  0%|          | 0/100 [00:00<?, ?it/s]"
      ]
     },
     "metadata": {},
     "output_type": "display_data"
    },
    {
     "name": "stderr",
     "output_type": "stream",
     "text": [
      "10:58:33 | INFO | End    99 step; propagated    1.197 [fs]; AVG Krylov iteration: 5.71\n",
      "10:58:33 | INFO | End simulation and save wavefunction\n",
      "10:58:33 | INFO | Wave function is saved in wf_radicalpair_108.pkl\n",
      "10:58:33 | INFO | Wave function is saved in wf_radicalpair_116.pkl\n",
      "10:58:33 | INFO | Start initial step    0.000 [fs]\n"
     ]
    },
    {
     "data": {
      "application/vnd.jupyter.widget-view+json": {
       "model_id": "da27958ba2a34204b2c8d9281d4a7c05",
       "version_major": 2,
       "version_minor": 0
      },
      "text/plain": [
       "  0%|          | 0/100 [00:00<?, ?it/s]"
      ]
     },
     "metadata": {},
     "output_type": "display_data"
    },
    {
     "name": "stderr",
     "output_type": "stream",
     "text": [
      "10:58:34 | INFO | End     0 step; propagated    0.012 [fs]; AVG Krylov iteration: 5.93\n",
      "10:58:34 | INFO | End     0 step; propagated    0.012 [fs]; AVG Krylov iteration: 5.93\n",
      "10:58:34 | INFO | End    99 step; propagated    1.197 [fs]; AVG Krylov iteration: 5.86\n",
      "10:58:34 | INFO | End simulation and save wavefunction\n",
      "10:58:34 | INFO | Wave function is saved in wf_radicalpair_109.pkl\n",
      "10:58:34 | INFO | Wave function is saved in wf_radicalpair_117.pkl\n",
      "10:58:34 | INFO | Start initial step    0.000 [fs]\n"
     ]
    },
    {
     "data": {
      "application/vnd.jupyter.widget-view+json": {
       "model_id": "4fd1847e93c64c3abb966e608e2ad8bb",
       "version_major": 2,
       "version_minor": 0
      },
      "text/plain": [
       "  0%|          | 0/100 [00:00<?, ?it/s]"
      ]
     },
     "metadata": {},
     "output_type": "display_data"
    },
    {
     "name": "stderr",
     "output_type": "stream",
     "text": [
      "10:58:35 | INFO | End     0 step; propagated    0.012 [fs]; AVG Krylov iteration: 5.93\n",
      "10:58:37 | INFO | End    99 step; propagated    1.197 [fs]; AVG Krylov iteration: 5.79\n",
      "10:58:37 | INFO | End simulation and save wavefunction\n",
      "10:58:37 | INFO | Wave function is saved in wf_radicalpair_110.pkl\n",
      "10:58:37 | INFO | Wave function is saved in wf_radicalpair_118.pkl\n",
      "10:58:37 | INFO | Start initial step    0.000 [fs]\n"
     ]
    },
    {
     "data": {
      "application/vnd.jupyter.widget-view+json": {
       "model_id": "02a39e62c18848b8bfc1b23da03a7ecc",
       "version_major": 2,
       "version_minor": 0
      },
      "text/plain": [
       "  0%|          | 0/100 [00:00<?, ?it/s]"
      ]
     },
     "metadata": {},
     "output_type": "display_data"
    },
    {
     "name": "stderr",
     "output_type": "stream",
     "text": [
      "10:58:37 | INFO | End     0 step; propagated    0.012 [fs]; AVG Krylov iteration: 6.79\n",
      "10:58:43 | INFO | End    99 step; propagated    1.197 [fs]; AVG Krylov iteration: 5.82\n",
      "10:58:43 | INFO | End simulation and save wavefunction\n",
      "10:58:43 | INFO | Wave function is saved in wf_radicalpair_111.pkl\n",
      "10:58:43 | INFO | Wave function is saved in wf_radicalpair_119.pkl\n",
      "10:58:43 | INFO | Start initial step    0.000 [fs]\n"
     ]
    },
    {
     "data": {
      "application/vnd.jupyter.widget-view+json": {
       "model_id": "2f635aa97c184e5695dcd899ef3b782a",
       "version_major": 2,
       "version_minor": 0
      },
      "text/plain": [
       "  0%|          | 0/100 [00:00<?, ?it/s]"
      ]
     },
     "metadata": {},
     "output_type": "display_data"
    },
    {
     "name": "stderr",
     "output_type": "stream",
     "text": [
      "10:58:43 | INFO | End     0 step; propagated    0.012 [fs]; AVG Krylov iteration: 5.93\n",
      "10:59:06 | INFO | End    99 step; propagated    1.197 [fs]; AVG Krylov iteration: 5.68\n",
      "10:59:06 | INFO | End simulation and save wavefunction\n",
      "10:59:06 | INFO | Wave function is saved in wf_radicalpair_112.pkl\n",
      "10:59:06 | INFO | Wave function is saved in wf_radicalpair_120.pkl\n",
      "10:59:06 | INFO | End    99 step; propagated    1.197 [fs]; AVG Krylov iteration: 5.79\n",
      "10:59:06 | INFO | Start initial step    0.000 [fs]\n",
      "10:59:06 | INFO | End simulation and save wavefunction\n"
     ]
    },
    {
     "data": {
      "application/vnd.jupyter.widget-view+json": {
       "model_id": "b30281d2219c4dfeaddf25ccf4f12d51",
       "version_major": 2,
       "version_minor": 0
      },
      "text/plain": [
       "  0%|          | 0/100 [00:00<?, ?it/s]"
      ]
     },
     "metadata": {},
     "output_type": "display_data"
    },
    {
     "name": "stderr",
     "output_type": "stream",
     "text": [
      "10:59:06 | INFO | Wave function is saved in wf_radicalpair_113.pkl\n",
      "10:59:06 | INFO | Wave function is saved in wf_radicalpair_121.pkl\n",
      "10:59:06 | INFO | Start initial step    0.000 [fs]\n"
     ]
    },
    {
     "data": {
      "application/vnd.jupyter.widget-view+json": {
       "model_id": "623639cd80ed4ff5b71f37ce7dfd3b70",
       "version_major": 2,
       "version_minor": 0
      },
      "text/plain": [
       "  0%|          | 0/100 [00:00<?, ?it/s]"
      ]
     },
     "metadata": {},
     "output_type": "display_data"
    },
    {
     "name": "stderr",
     "output_type": "stream",
     "text": [
      "10:59:06 | INFO | End     0 step; propagated    0.012 [fs]; AVG Krylov iteration: 5.93\n",
      "10:59:06 | INFO | End     0 step; propagated    0.012 [fs]; AVG Krylov iteration: 5.86\n",
      "10:59:06 | INFO | End    99 step; propagated    1.197 [fs]; AVG Krylov iteration: 5.86\n",
      "10:59:06 | INFO | End simulation and save wavefunction\n",
      "10:59:06 | INFO | Wave function is saved in wf_radicalpair_114.pkl\n",
      "10:59:06 | INFO | Wave function is saved in wf_radicalpair_122.pkl\n",
      "10:59:06 | INFO | Start initial step    0.000 [fs]\n"
     ]
    },
    {
     "data": {
      "application/vnd.jupyter.widget-view+json": {
       "model_id": "f274dc74068f4590a110a4f568430877",
       "version_major": 2,
       "version_minor": 0
      },
      "text/plain": [
       "  0%|          | 0/100 [00:00<?, ?it/s]"
      ]
     },
     "metadata": {},
     "output_type": "display_data"
    },
    {
     "name": "stderr",
     "output_type": "stream",
     "text": [
      "10:59:07 | INFO | End     0 step; propagated    0.012 [fs]; AVG Krylov iteration: 5.82\n",
      "10:59:07 | INFO | End    99 step; propagated    1.197 [fs]; AVG Krylov iteration: 5.68\n",
      "10:59:07 | INFO | End simulation and save wavefunction\n",
      "10:59:07 | INFO | Wave function is saved in wf_radicalpair_115.pkl\n",
      "10:59:07 | INFO | End    99 step; propagated    1.197 [fs]; AVG Krylov iteration: 5.71\n",
      "10:59:07 | INFO | End simulation and save wavefunction\n",
      "10:59:07 | INFO | Wave function is saved in wf_radicalpair_116.pkl\n",
      "10:59:07 | INFO | Wave function is saved in wf_radicalpair_123.pkl\n",
      "10:59:07 | INFO | Start initial step    0.000 [fs]\n",
      "10:59:07 | INFO | Wave function is saved in wf_radicalpair_124.pkl\n"
     ]
    },
    {
     "data": {
      "application/vnd.jupyter.widget-view+json": {
       "model_id": "a911932ed34345eb95d56e1ea7a92fd4",
       "version_major": 2,
       "version_minor": 0
      },
      "text/plain": [
       "  0%|          | 0/100 [00:00<?, ?it/s]"
      ]
     },
     "metadata": {},
     "output_type": "display_data"
    },
    {
     "name": "stderr",
     "output_type": "stream",
     "text": [
      "10:59:07 | INFO | Start initial step    0.000 [fs]\n"
     ]
    },
    {
     "data": {
      "application/vnd.jupyter.widget-view+json": {
       "model_id": "ac6cbcd86f7c432aa131ec26f7654ac2",
       "version_major": 2,
       "version_minor": 0
      },
      "text/plain": [
       "  0%|          | 0/100 [00:00<?, ?it/s]"
      ]
     },
     "metadata": {},
     "output_type": "display_data"
    },
    {
     "name": "stderr",
     "output_type": "stream",
     "text": [
      "10:59:07 | INFO | End     0 step; propagated    0.012 [fs]; AVG Krylov iteration: 5.86\n",
      "10:59:07 | INFO | End     0 step; propagated    0.012 [fs]; AVG Krylov iteration: 5.93\n",
      "10:59:07 | INFO | End    99 step; propagated    1.197 [fs]; AVG Krylov iteration: 5.57\n",
      "10:59:07 | INFO | End simulation and save wavefunction\n",
      "10:59:07 | INFO | Wave function is saved in wf_radicalpair_117.pkl\n",
      "10:59:08 | INFO | Wave function is saved in wf_radicalpair_125.pkl\n",
      "10:59:08 | INFO | Start initial step    0.000 [fs]\n"
     ]
    },
    {
     "data": {
      "application/vnd.jupyter.widget-view+json": {
       "model_id": "fc44ea142d2d4a038c097c6df17830c6",
       "version_major": 2,
       "version_minor": 0
      },
      "text/plain": [
       "  0%|          | 0/100 [00:00<?, ?it/s]"
      ]
     },
     "metadata": {},
     "output_type": "display_data"
    },
    {
     "name": "stderr",
     "output_type": "stream",
     "text": [
      "10:59:08 | INFO | End     0 step; propagated    0.012 [fs]; AVG Krylov iteration: 5.89\n",
      "10:59:12 | INFO | End    99 step; propagated    1.197 [fs]; AVG Krylov iteration: 6.46\n",
      "10:59:12 | INFO | End simulation and save wavefunction\n",
      "10:59:12 | INFO | Wave function is saved in wf_radicalpair_118.pkl\n",
      "10:59:12 | INFO | Wave function is saved in wf_radicalpair_126.pkl\n",
      "10:59:12 | INFO | Start initial step    0.000 [fs]\n"
     ]
    },
    {
     "data": {
      "application/vnd.jupyter.widget-view+json": {
       "model_id": "8910e4647e964c9cb6da4200ec49f81f",
       "version_major": 2,
       "version_minor": 0
      },
      "text/plain": [
       "  0%|          | 0/100 [00:00<?, ?it/s]"
      ]
     },
     "metadata": {},
     "output_type": "display_data"
    },
    {
     "name": "stderr",
     "output_type": "stream",
     "text": [
      "10:59:13 | INFO | End     0 step; propagated    0.012 [fs]; AVG Krylov iteration: 5.93\n",
      "10:59:16 | INFO | End    99 step; propagated    1.197 [fs]; AVG Krylov iteration: 5.89\n",
      "10:59:16 | INFO | End simulation and save wavefunction\n",
      "10:59:16 | INFO | Wave function is saved in wf_radicalpair_119.pkl\n",
      "10:59:16 | INFO | Wave function is saved in wf_radicalpair_127.pkl\n",
      "10:59:16 | INFO | Start initial step    0.000 [fs]\n"
     ]
    },
    {
     "data": {
      "application/vnd.jupyter.widget-view+json": {
       "model_id": "1959644dc3514a64a1ea9600410917e8",
       "version_major": 2,
       "version_minor": 0
      },
      "text/plain": [
       "  0%|          | 0/100 [00:00<?, ?it/s]"
      ]
     },
     "metadata": {},
     "output_type": "display_data"
    },
    {
     "name": "stderr",
     "output_type": "stream",
     "text": [
      "10:59:16 | INFO | End     0 step; propagated    0.012 [fs]; AVG Krylov iteration: 5.93\n",
      "10:59:38 | INFO | End    99 step; propagated    1.197 [fs]; AVG Krylov iteration: 5.50\n",
      "10:59:38 | INFO | End simulation and save wavefunction\n",
      "10:59:38 | INFO | Wave function is saved in wf_radicalpair_121.pkl\n",
      "10:59:38 | INFO | End    99 step; propagated    1.197 [fs]; AVG Krylov iteration: 5.79\n",
      "10:59:38 | INFO | End simulation and save wavefunction\n",
      "10:59:38 | INFO | Wave function is saved in wf_radicalpair_120.pkl\n",
      "10:59:39 | INFO | End    99 step; propagated    1.197 [fs]; AVG Krylov iteration: 5.61\n",
      "10:59:39 | INFO | End simulation and save wavefunction\n",
      "10:59:39 | INFO | Wave function is saved in wf_radicalpair_122.pkl\n",
      "10:59:39 | INFO | End    99 step; propagated    1.197 [fs]; AVG Krylov iteration: 5.61\n",
      "10:59:39 | INFO | End simulation and save wavefunction\n",
      "10:59:39 | INFO | Wave function is saved in wf_radicalpair_123.pkl\n",
      "10:59:40 | INFO | End    99 step; propagated    1.197 [fs]; AVG Krylov iteration: 5.82\n",
      "10:59:40 | INFO | End simulation and save wavefunction\n",
      "10:59:40 | INFO | Wave function is saved in wf_radicalpair_124.pkl\n",
      "10:59:40 | INFO | End    99 step; propagated    1.197 [fs]; AVG Krylov iteration: 5.86\n",
      "10:59:40 | INFO | End simulation and save wavefunction\n",
      "10:59:40 | INFO | Wave function is saved in wf_radicalpair_125.pkl\n",
      "10:59:43 | INFO | End    99 step; propagated    1.197 [fs]; AVG Krylov iteration: 5.79\n",
      "10:59:43 | INFO | End simulation and save wavefunction\n",
      "10:59:43 | INFO | Wave function is saved in wf_radicalpair_126.pkl\n",
      "10:59:45 | INFO | End    99 step; propagated    1.197 [fs]; AVG Krylov iteration: 5.89\n",
      "10:59:45 | INFO | End simulation and save wavefunction\n",
      "10:59:45 | INFO | Wave function is saved in wf_radicalpair_127.pkl\n"
     ]
    }
   ],
   "source": [
    "density_sums = []\n",
    "# execute `max_workers` process in parallel\n",
    "max_workers = 8\n",
    "with ProcessPoolExecutor(max_workers=max_workers) as executor:\n",
    "    try:\n",
    "        density_sum = None\n",
    "        active_futures = []\n",
    "        i = 0  # number of submitted jobs\n",
    "        j = 0  # number of finished jobs\n",
    "\n",
    "        pbar = tqdm(total=len(pairs), desc=\"Processing pairs\")\n",
    "        while i < len(pairs) or active_futures:\n",
    "            # Submit new jobs up to max_active\n",
    "            while len(active_futures) < max_workers and i < len(pairs):\n",
    "                future = executor.submit(process_pair, pairs[i], i, H)\n",
    "                active_futures.append((future, i))\n",
    "                i += 1\n",
    "\n",
    "            # Wait for at least one job to complete\n",
    "            done, not_done = concurrent.futures.wait(\n",
    "                [f for f, _ in active_futures],\n",
    "                return_when=concurrent.futures.FIRST_COMPLETED,\n",
    "            )\n",
    "\n",
    "            # Process completed jobs\n",
    "            remaining_futures = []\n",
    "            for future, job_i in active_futures:\n",
    "                if future in done:\n",
    "                    density_data, time_data = future.result()\n",
    "                    if density_sum is None:\n",
    "                        density_sum = density_data\n",
    "                    else:\n",
    "                        density_sum += density_data\n",
    "                    j += 1\n",
    "                    if is_mc and j >= 32 and j.bit_count() == 1:\n",
    "                        # when j in [4, 8, 16, ...] record result to estimate convergence of Monte Carlo\n",
    "                        density_sums.append(density_sum / j)\n",
    "                    pbar.update(1)\n",
    "                else:\n",
    "                    remaining_futures.append((future, job_i))\n",
    "            active_futures = remaining_futures\n",
    "\n",
    "    except KeyboardInterrupt:\n",
    "        print(\"\\nCancelling active tasks...\")\n",
    "        for future, _ in active_futures:\n",
    "            future.cancel()\n",
    "        executor.shutdown(wait=False)\n",
    "        pbar.close()\n",
    "        raise\n",
    "\n",
    "    pbar.close()"
   ]
  },
  {
   "cell_type": "code",
   "execution_count": 22,
   "id": "46a3d799-0fe3-4fb5-91d1-ca716d1a8f85",
   "metadata": {},
   "outputs": [],
   "source": [
    "time_data_μs = time_data * SCALE * 1e06 / units.au_in_fs\n",
    "density_data = density_sum / len(pairs)"
   ]
  },
  {
   "cell_type": "code",
   "execution_count": 23,
   "id": "8cad25ca-9c6a-436c-84b9-176920685566",
   "metadata": {},
   "outputs": [
    {
     "data": {
      "image/png": "[encoded data removed]",
      "text/plain": [
       "<Figure size 640x480 with 1 Axes>"
      ]
     },
     "metadata": {},
     "output_type": "display_data"
    }
   ],
   "source": [
    "plt.clf()\n",
    "\n",
    "for i, (density_data, color) in enumerate(\n",
    "    zip(\n",
    "        density_sums,\n",
    "        plt.rcParams[\"axes.prop_cycle\"].by_key()[\"color\"],\n",
    "        strict=False,\n",
    "    )\n",
    "):\n",
    "    plt.plot(\n",
    "        time_data_μs,\n",
    "        density_data[:, 0, 0].real,\n",
    "        linewidth=1,\n",
    "        ls=\"dotted\",\n",
    "        color=color,\n",
    "        label=f\"T+ N={2 ** (i + 5)}\",\n",
    "    )\n",
    "    plt.plot(\n",
    "        time_data_μs,\n",
    "        density_data[:, 1, 1].real,\n",
    "        linewidth=1,\n",
    "        ls=\"dashed\",\n",
    "        color=color,\n",
    "        label=\"T0\",\n",
    "    )\n",
    "    plt.plot(\n",
    "        time_data_μs,\n",
    "        density_data[:, 2, 2].real,\n",
    "        linewidth=1,\n",
    "        ls=(0, (3, 1, 1, 1, 1, 1)),\n",
    "        color=color,\n",
    "        label=\"S\",\n",
    "    )\n",
    "    plt.plot(\n",
    "        time_data_μs,\n",
    "        density_data[:, 3, 3].real,\n",
    "        linewidth=1,\n",
    "        ls=\"dashdot\",\n",
    "        color=color,\n",
    "        label=\"T-\",\n",
    "    )\n",
    "    plt.plot(\n",
    "        time_data_μs,\n",
    "        np.einsum(\"ijj->i\",density_data.real),\n",
    "        linewidth=1,\n",
    "        ls=\"solid\",\n",
    "        color=color,\n",
    "        label=\"trace\",\n",
    "    )\n",
    "plt.title(f\"MPS: {m=} {B0=} mT {J=} mT\")\n",
    "plt.legend(ncol=len(density_sums))\n",
    "plt.xlabel(\"Time [μs]\")\n",
    "plt.ylabel(\"Popultation\")\n",
    "plt.grid()\n",
    "# plt.ylim([0, 1])\n",
    "plt.savefig(\"population.png\")\n",
    "plt.show()"
   ]
  },
  {
   "cell_type": "code",
   "execution_count": 24,
   "id": "1a4b27c5-6026-4504-bc5f-2f94ecf5f6f0",
   "metadata": {},
   "outputs": [
    {
     "data": {
      "image/png": "[encoded data removed]",
      "text/plain": [
       "<Figure size 640x480 with 1 Axes>"
      ]
     },
     "metadata": {},
     "output_type": "display_data"
    }
   ],
   "source": [
    "dt = time_data_μs[1] - time_data[0]\n",
    "k_s = 1e2  # 1/micro sec, typically 1.0~0.1\n",
    "phi_s = np.cumsum(\n",
    "    density_data[:, 2, 2].real * dt * k_s * np.exp(-k_s * time_data_μs)\n",
    ")\n",
    "\n",
    "plt.plot(time_data_μs, phi_s)\n",
    "plt.xlabel(\"Time [μs]\")\n",
    "plt.ylabel(r\"$\\Phi_S(t)=\\int_0^t dt \\langle P^S \\rangle(t) ke^{-kt} $\")\n",
    "plt.grid()\n",
    "plt.savefig(\"population.png\")\n",
    "plt.show()"
   ]
  },
  {
   "cell_type": "code",
   "execution_count": 25,
   "id": "5499c2f5-d755-4c36-9019-65ae20b5f742",
   "metadata": {},
   "outputs": [
    {
     "name": "stdout",
     "output_type": "stream",
     "text": [
      "Saving animation to rdm-radical.gif...\n",
      "Animation saved successfully!\n"
     ]
    },
    {
     "data": {
      "image/png": "[encoded data removed]",
      "text/plain": [
       "<Figure size 1400x1000 with 2 Axes>"
      ]
     },
     "metadata": {},
     "output_type": "display_data"
    },
    {
     "data": {
      "text/html": [
       "\n",
       "<link rel=\"stylesheet\"\n",
       "href=\"https://maxcdn.bootstrapcdn.com/font-awesome/4.4.0/css/font-awesome.min.css\">\n",
       "<script language=\"javascript\">\n",
       "  function isInternetExplorer() {\n",
       "    ua = navigator.userAgent;\n",
       "    /* MSIE used to detect old browsers and Trident used to newer ones*/\n",
       "    return ua.indexOf(\"MSIE \") > -1 || ua.indexOf(\"Trident/\") > -1;\n",
       "  }\n",
       "\n",
       "  /* Define the Animation class */\n",
       "  function Animation(frames, img_id, slider_id, interval, loop_select_id){\n",
       "    this.img_id = img_id;\n",
       "    this.slider_id = slider_id;\n",
       "    this.loop_select_id = loop_select_id;\n",
       "    this.interval = interval;\n",
       "    this.current_frame = 0;\n",
       "    this.direction = 0;\n",
       "    this.timer = null;\n",
       "    this.frames = new Array(frames.length);\n",
       "\n",
       "    for (var i=0; i<frames.length; i++)\n",
       "    {\n",
       "     this.frames[i] = new Image();\n",
       "     this.frames[i].src = frames[i];\n",
       "    }\n",
       "    var slider = document.getElementById(this.slider_id);\n",
       "    slider.max = this.frames.length - 1;\n",
       "    if (isInternetExplorer()) {\n",
       "        // switch from oninput to onchange because IE <= 11 does not conform\n",
       "        // with W3C specification. It ignores oninput and onchange behaves\n",
       "        // like oninput. In contrast, Microsoft Edge behaves correctly.\n",
       "        slider.setAttribute('onchange', slider.getAttribute('oninput'));\n",
       "        slider.setAttribute('oninput', null);\n",
       "    }\n",
       "    this.set_frame(this.current_frame);\n",
       "  }\n",
       "\n",
       "  Animation.prototype.get_loop_state = function(){\n",
       "    var button_group = document[this.loop_select_id].state;\n",
       "    for (var i = 0; i < button_group.length; i++) {\n",
       "        var button = button_group[i];\n",
       "        if (button.checked) {\n",
       "            return button.value;\n",
       "        }\n",
       "    }\n",
       "    return undefined;\n",
       "  }\n",
       "\n",
       "  Animation.prototype.set_frame = function(frame){\n",
       "    this.current_frame = frame;\n",
       "    document.getElementById(this.img_id).src =\n",
       "            this.frames[this.current_frame].src;\n",
       "    document.getElementById(this.slider_id).value = this.current_frame;\n",
       "  }\n",
       "\n",
       "  Animation.prototype.next_frame = function()\n",
       "  {\n",
       "    this.set_frame(Math.min(this.frames.length - 1, this.current_frame + 1));\n",
       "  }\n",
       "\n",
       "  Animation.prototype.previous_frame = function()\n",
       "  {\n",
       "    this.set_frame(Math.max(0, this.current_frame - 1));\n",
       "  }\n",
       "\n",
       "  Animation.prototype.first_frame = function()\n",
       "  {\n",
       "    this.set_frame(0);\n",
       "  }\n",
       "\n",
       "  Animation.prototype.last_frame = function()\n",
       "  {\n",
       "    this.set_frame(this.frames.length - 1);\n",
       "  }\n",
       "\n",
       "  Animation.prototype.slower = function()\n",
       "  {\n",
       "    this.interval /= 0.7;\n",
       "    if(this.direction > 0){this.play_animation();}\n",
       "    else if(this.direction < 0){this.reverse_animation();}\n",
       "  }\n",
       "\n",
       "  Animation.prototype.faster = function()\n",
       "  {\n",
       "    this.interval *= 0.7;\n",
       "    if(this.direction > 0){this.play_animation();}\n",
       "    else if(this.direction < 0){this.reverse_animation();}\n",
       "  }\n",
       "\n",
       "  Animation.prototype.anim_step_forward = function()\n",
       "  {\n",
       "    this.current_frame += 1;\n",
       "    if(this.current_frame < this.frames.length){\n",
       "      this.set_frame(this.current_frame);\n",
       "    }else{\n",
       "      var loop_state = this.get_loop_state();\n",
       "      if(loop_state == \"loop\"){\n",
       "        this.first_frame();\n",
       "      }else if(loop_state == \"reflect\"){\n",
       "        this.last_frame();\n",
       "        this.reverse_animation();\n",
       "      }else{\n",
       "        this.pause_animation();\n",
       "        this.last_frame();\n",
       "      }\n",
       "    }\n",
       "  }\n",
       "\n",
       "  Animation.prototype.anim_step_reverse = function()\n",
       "  {\n",
       "    this.current_frame -= 1;\n",
       "    if(this.current_frame >= 0){\n",
       "      this.set_frame(this.current_frame);\n",
       "    }else{\n",
       "      var loop_state = this.get_loop_state();\n",
       "      if(loop_state == \"loop\"){\n",
       "        this.last_frame();\n",
       "      }else if(loop_state == \"reflect\"){\n",
       "        this.first_frame();\n",
       "        this.play_animation();\n",
       "      }else{\n",
       "        this.pause_animation();\n",
       "        this.first_frame();\n",
       "      }\n",
       "    }\n",
       "  }\n",
       "\n",
       "  Animation.prototype.pause_animation = function()\n",
       "  {\n",
       "    this.direction = 0;\n",
       "    if (this.timer){\n",
       "      clearInterval(this.timer);\n",
       "      this.timer = null;\n",
       "    }\n",
       "  }\n",
       "\n",
       "  Animation.prototype.play_animation = function()\n",
       "  {\n",
       "    this.pause_animation();\n",
       "    this.direction = 1;\n",
       "    var t = this;\n",
       "    if (!this.timer) this.timer = setInterval(function() {\n",
       "        t.anim_step_forward();\n",
       "    }, this.interval);\n",
       "  }\n",
       "\n",
       "  Animation.prototype.reverse_animation = function()\n",
       "  {\n",
       "    this.pause_animation();\n",
       "    this.direction = -1;\n",
       "    var t = this;\n",
       "    if (!this.timer) this.timer = setInterval(function() {\n",
       "        t.anim_step_reverse();\n",
       "    }, this.interval);\n",
       "  }\n",
       "</script>\n",
       "\n",
       "<style>\n",
       ".animation {\n",
       "    display: inline-block;\n",
       "    text-align: center;\n",
       "}\n",
       "input[type=range].anim-slider {\n",
       "    width: 374px;\n",
       "    margin-left: auto;\n",
       "    margin-right: auto;\n",
       "}\n",
       ".anim-buttons {\n",
       "    margin: 8px 0px;\n",
       "}\n",
       ".anim-buttons button {\n",
       "    padding: 0;\n",
       "    width: 36px;\n",
       "}\n",
       ".anim-state label {\n",
       "    margin-right: 8px;\n",
       "}\n",
       ".anim-state input {\n",
       "    margin: 0;\n",
       "    vertical-align: middle;\n",
       "}\n",
       "</style>\n",
       "\n",
       "<div class=\"animation\">\n",
       "  <img id=\"_anim_img9c931bf878a64a0c9000ef8fce4e632a\">\n",
       "  <div class=\"anim-controls\">\n",
       "    <input id=\"_anim_slider9c931bf878a64a0c9000ef8fce4e632a\" type=\"range\" class=\"anim-slider\"\n",
       "           name=\"points\" min=\"0\" max=\"1\" step=\"1\" value=\"0\"\n",
       "           oninput=\"anim9c931bf878a64a0c9000ef8fce4e632a.set_frame(parseInt(this.value));\">\n",
       "    <div class=\"anim-buttons\">\n",
       "      <button title=\"Decrease speed\" aria-label=\"Decrease speed\" onclick=\"anim9c931bf878a64a0c9000ef8fce4e632a.slower()\">\n",
       "          <i class=\"fa fa-minus\"></i></button>\n",
       "      <button title=\"First frame\" aria-label=\"First frame\" onclick=\"anim9c931bf878a64a0c9000ef8fce4e632a.first_frame()\">\n",
       "        <i class=\"fa fa-fast-backward\"></i></button>\n",
       "      <button title=\"Previous frame\" aria-label=\"Previous frame\" onclick=\"anim9c931bf878a64a0c9000ef8fce4e632a.previous_frame()\">\n",
       "          <i class=\"fa fa-step-backward\"></i></button>\n",
       "      <button title=\"Play backwards\" aria-label=\"Play backwards\" onclick=\"anim9c931bf878a64a0c9000ef8fce4e632a.reverse_animation()\">\n",
       "          <i class=\"fa fa-play fa-flip-horizontal\"></i></button>\n",
       "      <button title=\"Pause\" aria-label=\"Pause\" onclick=\"anim9c931bf878a64a0c9000ef8fce4e632a.pause_animation()\">\n",
       "          <i class=\"fa fa-pause\"></i></button>\n",
       "      <button title=\"Play\" aria-label=\"Play\" onclick=\"anim9c931bf878a64a0c9000ef8fce4e632a.play_animation()\">\n",
       "          <i class=\"fa fa-play\"></i></button>\n",
       "      <button title=\"Next frame\" aria-label=\"Next frame\" onclick=\"anim9c931bf878a64a0c9000ef8fce4e632a.next_frame()\">\n",
       "          <i class=\"fa fa-step-forward\"></i></button>\n",
       "      <button title=\"Last frame\" aria-label=\"Last frame\" onclick=\"anim9c931bf878a64a0c9000ef8fce4e632a.last_frame()\">\n",
       "          <i class=\"fa fa-fast-forward\"></i></button>\n",
       "      <button title=\"Increase speed\" aria-label=\"Increase speed\" onclick=\"anim9c931bf878a64a0c9000ef8fce4e632a.faster()\">\n",
       "          <i class=\"fa fa-plus\"></i></button>\n",
       "    </div>\n",
       "    <form title=\"Repetition mode\" aria-label=\"Repetition mode\" action=\"#n\" name=\"_anim_loop_select9c931bf878a64a0c9000ef8fce4e632a\"\n",
       "          class=\"anim-state\">\n",
       "      <input type=\"radio\" name=\"state\" value=\"once\" id=\"_anim_radio1_9c931bf878a64a0c9000ef8fce4e632a\"\n",
       "             >\n",
       "      <label for=\"_anim_radio1_9c931bf878a64a0c9000ef8fce4e632a\">Once</label>\n",
       "      <input type=\"radio\" name=\"state\" value=\"loop\" id=\"_anim_radio2_9c931bf878a64a0c9000ef8fce4e632a\"\n",
       "             checked>\n",
       "      <label for=\"_anim_radio2_9c931bf878a64a0c9000ef8fce4e632a\">Loop</label>\n",
       "      <input type=\"radio\" name=\"state\" value=\"reflect\" id=\"_anim_radio3_9c931bf878a64a0c9000ef8fce4e632a\"\n",
       "             >\n",
       "      <label for=\"_anim_radio3_9c931bf878a64a0c9000ef8fce4e632a\">Reflect</label>\n",
       "    </form>\n",
       "  </div>\n",
       "</div>\n",
       "\n",
       "\n",
       "<script language=\"javascript\">\n",
       "  /* Instantiate the Animation class. */\n",
       "  /* The IDs given should match those used in the template above. */\n",
       "  (function() {\n",
       "    var img_id = \"_anim_img9c931bf878a64a0c9000ef8fce4e632a\";\n",
       "    var slider_id = \"_anim_slider9c931bf878a64a0c9000ef8fce4e632a\";\n",
       "    var loop_select_id = \"_anim_loop_select9c931bf878a64a0c9000ef8fce4e632a\";\n",
       "    var frames = new Array(5);\n",
       "    \n",
       "  frames[0] = \"data:image/png;base64,iVBORw0KGgoAAAANSUhEUgAABXgAAAPoCAYAAABkvZZOAAAAOnRFWHRTb2Z0d2FyZQBNYXRwbG90\\\n",
       "bGliIHZlcnNpb24zLjEwLjMsIGh0dHBzOi8vbWF0cGxvdGxpYi5vcmcvZiW1igAAAAlwSFlzAAAP\\\n",
       "YQAAD2EBqD+naQAAqYtJREFUeJzs3Xd4VGX+/vF70kgjCSBCEBBpIh1BEBtFBUEEVl1UUEAEZW3L\\\n",
       "2kAs4FcFZHVXihUF7D91VxFUQJQmYEGaSBMRFKUthBZCSDu/P+KMM5MpZ1pmTvJ+XddcO+U5z3lm\\\n",
       "ckyWO598HpthGIYAAAAAAAAAAJYTF+0FAAAAAAAAAACCQ8ALAAAAAAAAABZFwAsAAAAAAAAAFkXA\\\n",
       "CwAAAAAAAAAWRcALAAAAAAAAABZFwAsAAAAAAAAAFkXACwAAAAAAAAAWRcALAAAAAAAAABZFwAsA\\\n",
       "AAAAAAAAFkXACwAAAAAAAAAWRcALAAAAAAAAABZFwAsAAAAAAAAAFkXACwAAAAAAAAAWRcALAAAA\\\n",
       "AAAAABZFwAsAAAAAAAAAFkXACwAAAAAAAAAWRcALAAAAAAAAABZFwAsAAAAAAAAAFkXACwAAAAAA\\\n",
       "AAAWRcALAAAAAAAAABZFwAsAAAAAAAAAFkXACwAAAAAAAAAWRcALAAAAAAAAABZFwAsAAAAAAAAA\\\n",
       "FkXACwAAAAAAAAAWRcALAAAAAAAAABZFwAsAAAAAAAAAFkXACwAAAAAAAAAWRcALAAAAAAAAABZF\\\n",
       "wAsAiIrx48fLZrPJZrNp/Pjx0V6OJS1dutTxGXbt2rXczz979mzH+YcOHVru54810f56IPY0aNDA\\\n",
       "cU3s2rUr2ssBAABABUXACwAxrmvXro6AwNOtatWqql+/vq644gpNmDBBv//+e7SXDACowL744gsN\\\n",
       "HjxYTZs2VVpamqpXr67WrVvr/vvv19atWy15/i1btuj+++9X69atVb16daWlpalp06YaMmSIvvji\\\n",
       "izC/AwAAgPAi4AUAi8vNzdXu3bu1cOFCPfTQQzrrrLP02GOPyTCMaC8NgAfOv6BB+Rs6dKjj8589\\\n",
       "e3a0l2Mpx44d0/XXX6/LLrtMb7zxhrZv3668vDwdPnxYGzdu1NNPP63WrVtr4sSJljr/k08+qTZt\\\n",
       "2ujpp5/Wxo0bdfjwYeXl5Wn79u16/fXXddlll2ngwIE6fvx4RN4XAABAqBKivQAAgHnnnXeeOnbs\\\n",
       "6PLc0aNHtWHDBm3cuFGSVFhYqPHjx+vIkSP697//HY1lAgAqmMLCQv3lL3/R4sWLHc+1bNlS5557\\\n",
       "rvLz8/Xll19q7969Kiws1NixY1VYWKhHH3005s//6KOP6vHHH3c8zs7O1sUXX6zk5GStWbNGmzZt\\\n",
       "kiS98847OnTokD755BMlJPBPKAAAEFv4fycAYCG9e/f22q921apVuuGGG/Trr79Kkp599lkNGjRI\\\n",
       "HTp0KMcVApVX165dqZyHi4rUd/fxxx93hKvJycmaNWuWrr/+esfrBQUFevjhh/XPf/5TUmmf9S5d\\\n",
       "uqhLly4xe/4vvvjCJdy9//779cQTTygpKcnx3DvvvKNhw4YpPz9fn332mSZMmBDW4BoAACAcaNEA\\\n",
       "ABXEBRdcoI8++sjlz75ffvnlKK4IAFARHDhwQP/6178cj5999lmXcFWSkpKSNHnyZF133XWSJMMw\\\n",
       "9OCDD8b0+Z1fv/766zV58mSXcFeSbrjhBpe/hnn66ad18ODBoN8LAABAJBDwAkAF0rZtW3Xt2tXx\\\n",
       "ePny5dFbDACgQnjttdd04sQJSVLTpk116623eh07efJkxcWV/hPjq6++0rp162Ly/KtXr9bq1asl\\\n",
       "SXFxcZo8ebLXOW+77TY1adJEknT8+HG98cYbQb0PAACASCHgBYAKpm3bto77e/bsMXXMli1bNHbs\\\n",
       "WHXs2FG1atVSUlKSatasqU6dOunRRx81PY/dkiVLNHDgQJ155plKTk529DR8/vnnlZeXZ3qeQDdD\\\n",
       "mj17tmP80KFDTZ3j+++/15gxY9SpUyfVrl1bSUlJSk9P19lnn63rrrtOr776qo4ePep3nkOHDumZ\\\n",
       "Z57R5Zdfrnr16ik5OVlZWVlq3ry57rjjDn333Xem1mO3fft2jRo1Ss2aNXPsEt+2bVs9+uij+u23\\\n",
       "3wKaKxhr167ViBEj1LBhQ6WkpKhmzZrq2LGjJk+erJycnKDnXb16tf7xj3+obdu2qlmzppKSklS7\\\n",
       "dm116dJFTz31lA4fPux3jgYNGji+zvY/gf/tt9/0yCOPqE2bNsrKylJaWpqaNWumu+66S7/88oup\\\n",
       "teXm5urFF1/UlVdeqfr16ys1NVWJiYnKzMxUs2bNdNVVV2nChAn64YcfPB6/dOlSx7qcf9Hi/poz\\\n",
       "5w3XnG+7du1SQUGBatas6Xjuq6++MvU+JKlLly6O46ZOnWr6OHddu3Z1zLN06VJJ0t69e/XYY4+p\\\n",
       "Xbt2ql69upKTk9WsWTONGTPG47Xx22+/aezYsWrXrp2qVaumqlWrqm3btpowYYJOnjxpah1btmzR\\\n",
       "v//9b1199dU6++yzVbVqVSUmJqpmzZrq0KGD/vGPf2jz5s0+57BfN6+99prjuZtvvtnj5+/eCsfb\\\n",
       "5zBhwgR17NhRtWvXVnx8vLKysjye0/latSsoKNC5557reL13795+P4f//ve/jvGJiYn6+uuv/R4T\\\n",
       "DnPmzHHct39f9qZ+/frq3r274/GHH34Yk+d3nvOyyy5TvXr1vM5ps9k0ZMgQv3MGwtM15cv48eO9\\\n",
       "Xp/uFi9erFtuuUWtWrVSVlaWEhISlJqaqrp16+riiy/WqFGj9PHHH6ugoCDk9wEAAGKEAQCIaV26\\\n",
       "dDEkGZKMcePG+R0/duxYx/jExESfY/Pz843bbrvNiI+Pdxzj6ZaSkmJMmzbN77kLCwuNYcOG+Zyr\\\n",
       "efPmxtatW41x48b5fV9DhgxxjJk1a5bf88+aNcsxfsiQIT7HHj582LjuuusMm83mc72SjFq1avmc\\\n",
       "a/r06UZmZqbPOWw2mzFs2DDj1KlTft/Hc889ZyQnJ3udKysry5g7d66xZMkSx3NdunTxO69ZDz30\\\n",
       "kM9rom7dusZXX30V0Oedk5NjXHPNNX4/66ysLOP999/3OdeZZ57pGL9z507jww8/9Pn5p6SkGB9/\\\n",
       "/LHPOVetWmWcccYZftdnvxUWFpaZw9fXw/k1M7edO3cahmEY9957r+O54cOH+3wPdj/++KPjmCpV\\\n",
       "qhiHDh0ydZwnzt9/lixZYixcuNCoUaOG13WfeeaZxq5duxzHv/rqq0aVKlW8jm/RooVx4MABn2v4\\\n",
       "61//auozs9lsxqhRo4yioiKP8zhfN/5u7t+T3D+HOXPmGNWqVStzXGZmptdz2r+mzrZs2WKkpqY6\\\n",
       "xkydOtXr57B7926Xcz722GM+P7dwOXnypBEXF+c476pVq/we8+STTzrGX3jhhTF5/s6dOzvGTJgw\\\n",
       "we+cK1eudIyPj4838vPzA34vztyvKX/M/MzMzc01+vbta/o6nzFjRkjvAQAAxA42WQOACsa52rZW\\\n",
       "rVpex504cUI9e/bUypUrHc81atRI7du3V7Vq1ZSTk6OVK1dqz549OnnypO666y4dO3ZMY8eO9Trn\\\n",
       "4MGD9c477zgeZ2VlqVu3bqpRo4Z+/fVXLV26VJs3b1bv3r3Vt2/fEN9p8Pbs2aPu3btr27ZtLmu9\\\n",
       "8MILlZ2drcLCQv36669as2aNjh07pvz8fK9zjRo1SlOmTHE8Pu2009S5c2fVrl1b+fn5WrdunX74\\\n",
       "4QcZhqGZM2dqz549+uSTTxx/QuzupZde0h133OF4nJiYqK5du+rMM89UTk6Oli5dqpycHF177bWa\\\n",
       "MGFCGD4NV2PHjtXEiRMdj1NTU9W9e3dlZ2dr3759Wrx4sX777Tf17t1bo0aNMjXnvn371L17d23Z\\\n",
       "ssXxXIsWLdSmTRulp6frwIED+vLLL3Xo0CEdOXJEAwYM0BtvvKFBgwb5nfvzzz/XyJEjVVxcrPr1\\\n",
       "66tz587KyMjQzp07tXTpUhUVFenkyZMaMGCAfvjhB5111lll5ti9e7d69uyp48ePSyr9zM877zw1\\\n",
       "btxYqampOnHihHbt2qUNGzbo2LFjpt6zuzPOOMPxdX3uuecczzt/rZ1lZGRIkm699VY988wzkqR3\\\n",
       "331Xzz77rNLS0nyea+bMmY77V199tapXrx7Umt2tX79eY8eO1cmTJ1W3bl1deOGFqlq1qn788Ud9\\\n",
       "+eWXMgxDv/zyi3r16qWNGzfq3Xff1S233CJJatKkiTp27Kjk5GRt3LhR3377rSRp06ZNuummm7Rg\\\n",
       "wQKv57VvHJmQkKDmzZurSZMmysrKUnx8vA4cOKDVq1fr999/l2EYevbZZ3Xq1Ck9//zzZeYZMmSI\\\n",
       "Dh06pC+++EJbt26VJF166aVq1qxZmbEdO3b0up5Vq1Zp/PjxKiwsVI0aNXTJJZfotNNO04EDBwJu\\\n",
       "R9CsWTP9+9//1m233SZJeuCBB9StWze1bNnSZVxJSYluuukmR4X7hRdeqIceeiigcwVr27ZtKikp\\\n",
       "kVRaydquXTu/x5x77rmO+87/3cfS+Z2fdx7vjfN5i4uL9eOPP6pVq1Z+jytPN954o+bOnet43Lhx\\\n",
       "Y0elfWFhof73v/9p48aNFWrzPwAA8IcoB8wAAD8CqeAtLCw06tWr5xh/7bXXeh07ePBgx7imTZt6\\\n",
       "rCAqKioynn/+eUcFXnx8vNfqqddff92lMujOO+808vLyXMbs2bPH6N69uyHJSEpK8vu+IlHBW1hY\\\n",
       "aFx44YUu1Z3Tp083CgoKyow9deqUMXfuXKN///4e53r11Vcd82RkZBgzZszwOM/ixYtdqkOfeuop\\\n",
       "j/P9+OOPLpW7Xbp0MXbv3u0yJj8/3xg1alSZzzAcFbzLli1zqWi+9tprjZycHJcxR44cMa6//voy\\\n",
       "5/f2eRcXFxvdunVzjOvYsaOxdu3aMuNOnjxpjB8/3nH+tLQ04+eff/Y4p3NVZJUqVYy0tDTjjTfe\\\n",
       "MEpKSlzG/fDDDy6f+8033+xxPvvnKcm4+OKLjd9//93juMLCQmPp0qXGoEGDPFaJmq2odv7vxAzn\\\n",
       "7wEzZ870ObaoqMjIzs52jP/iiy9MncPMuatUqWIkJiYazz33nFFcXOwybunSpUZaWppLRWR6erqR\\\n",
       "kZFh/Oc//ykz77vvvutSJb5s2TKvaxgzZozx3nvvGUePHvX4eklJiTF37lyjZs2ajvm+/PJLr/MF\\\n",
       "+n3F/XNISEgwbDab8fjjj5f57929qtNfBa9d//79HeNatWpVZh7nitTMzEyfc4Xbu+++6zi3v79m\\\n",
       "sNu0aZPLde6vSru8z79//36X17ds2WJqXudr7L333gv4vTgLdwXv+vXrHa+np6cbn376qde5duzY\\\n",
       "YTzxxBPG3LlzQ3gHAAAglhDwAkCMCyTgffzxx13+0frZZ595HLd8+XLHmEaNGhn/+9//fM7rHJxe\\\n",
       "ccUVZV4vLi52CZaHDh3qda68vDyjdevWLussz4B3xowZjjGJiYnG8uXL/c7rybFjx4ysrCxH0Pn1\\\n",
       "11/7HL9582ZHeFujRg3jxIkTZcYMHDjQsbYWLVp4HGM3fPhwl88wHAHvBRdc4Jjv0ksv9fqn7sXF\\\n",
       "xUaPHj1czu/t83YO/s8///wyob875xBj5MiRHsc4h2Y2m82YP3++1/k+/vhjl9DDU2uF9u3bO8Zs\\\n",
       "377d5/p8iVTA+9ZbbznG+/tz97lz57r8t+0eegfK+fuPJOOVV17xOvaJJ55wGWuz2XwGzM7X8N/+\\\n",
       "9reQ1mkYhvH111875hswYIDXcaEGvJKMJ554wtRxZgPegwcPGnXq1HGMvfvuux2vffPNN0ZCQoLj\\\n",
       "tbfeesvUucPl+eefd5y7devWpo45dOiQy+e1devWmDr/5s2bXV53/0WWN61atXIc8+KLLwb8XpyF\\\n",
       "O+CdNm2a4/WHHnoopLUBAADrYZM1ALC4Y8eO6csvv9TAgQP1yCOPOJ7/xz/+ocsvv9zjMf/6178c\\\n",
       "95955hmddtppPs8xdOhQx58xL1y4UIcOHXJ5feHChdq9e7ckKSUlRU8//bTXufy9Hmn2P3eXpHvu\\\n",
       "uUcXX3xxUPPMnDlTR44ckSTdfvvt6tSpk8/x55xzjmOTnkOHDpX5k/QjR47ov//9r+Px5MmTlZqa\\\n",
       "6nW+yZMn+/1T/UBs2bJFq1atcjyeOnWq4uPjPY6Ni4vTtGnTfG50ZOd8rb344otKSUnxOX7MmDGO\\\n",
       "jareeecdx59me9OnTx9dccUVXl/v3bu3ateuLal0EzVPf67t3HahZs2aPs8XDddcc42jzcLKlStd\\\n",
       "Wou4e/XVVx33hw0bZuprZFabNm0cLRc8ueGGG1we9+vXz2WzK1/j7S0bQtGpUyedc845kqQvvvgi\\\n",
       "5Pm8qVOnjkaPHh3WOWvUqKHXX3/d8fWaNm2a5s+fr9zcXA0aNEhFRUWSpEGDBmngwIFhPbc/ubm5\\\n",
       "jvv+/vv1Ns55jlg4v/vjYOYN5T1FQqx/HwMAAJFFwAsAFvLYY4+V2e09MzNTl1xyiaP3bY0aNTRp\\\n",
       "0iSXYM1ZUVGRFi1aJKm0z2efPn1Mnbtbt26SJMMwXPr2StKSJUsc93v37q0aNWr4nOuyyy7TGWec\\\n",
       "Yeq84fTLL784em9K0p133hn0XJ9++qnjvtnAxTnsWrFihctrq1at0qlTpyRJp59+us/QUpKqVasW\\\n",
       "1j7Gzl/D9u3bq3nz5j7HN23aVOeff77PMXv37tX69eslSc2bN1ebNm38riM5OVmdO3eWJB09elQ/\\\n",
       "/PCDz/F//etffb5us9lczuup92S9evUc91988UW/ayxvVapU0eDBgx2PnUNcZ/v379cnn3wiSYqP\\\n",
       "j9fQoUPDuo5rr73W5+sNGzZ0+aWDv/HOfWZ37txpag0//vij3n77bT3++OO67777dNddd+nOO+90\\\n",
       "3I4ePSqp9Jco9l86hdu1116rhITwb2Nx6aWX6v7775dU+n325ptv1s0336yffvpJktSgQQOPvYUj\\\n",
       "zbkHeVJSkqljqlSp4vL45MmTMXV+977qwcwbynuKBOfvY6+//rry8vKiuBoAAFDe2GQNACqQ+Ph4\\\n",
       "PfXUUz6r7L7//nudOHFCUulmUn//+99Nzb169WrHfffgxHljIXs454vNZlOnTp30wQcfmDp3uHz9\\\n",
       "9deO+02aNFHdunWDnuurr75y3H/55Zf12muv+T3mt99+c9z39Rl27NjR6yZszjp37uyyqV0oAv0a\\\n",
       "2sc5fw7unF87efKk6UB9x44djvu7d+9W69atvY41s8mR8y8cPG2SNmDAAC1evFhSaQXxokWLNGjQ\\\n",
       "IF1++eUhXSPhdOutt+rZZ5+VVBreTJgwoUzI+NprrzkqPXv37q06deqEdQ3uG395kpWV5fj+0qJF\\\n",
       "C59jnTd/87d53SeffKJHHnkkoE3MDh486BJ6hUv79u3DPqfdE088oS+++EJr1qzR/v379Z///EdS\\\n",
       "6ff2t956y7H5XnlKTk523C8oKDB1jP2XVXZmK2TL6/zOc9rndX/O37yhvKdI6N27t9LS0nTixAmt\\\n",
       "XbtWzZo10y233KIrr7xS7dq18/oXGQAAoGIg4AUACznvvPNcdnfPzc3Vr7/+6qj+LC4u1vDhw/Xz\\\n",
       "zz/rySef9DjHnj17HPcPHTqk5557LuB12Hdyt/vf//7nuF+/fn1Tc5gdF0779+933G/YsGHQ8+Tm\\\n",
       "5ur48eOOx6+88krAc8TaZxiJ8ztfazt37gzLteYuMzPT7xyJiYmO+4WFhWVeHz58uBYsWKA5c+ZI\\\n",
       "Kv3zfvuf+NevX18XX3yxunXrpn79+vltZxIp55xzji666CKtWLFC+/fv18cff6z+/fu7jJk5c6bj\\\n",
       "/vDhw8O+BjOftXPo7G+881h7MO3J+PHj9dhjj5lYoSvn/0bDKZJ//p6YmKi3335b5557riMol6SH\\\n",
       "H35YF1xwQcTO60t6errjvtmqVfdxznPEwvndH588edJUwOs8byjvKRJq1KihV155RYMHD1ZhYaF2\\\n",
       "796t8ePHa/z48UpPT1enTp3UpUsXXXXVVWrbtm20lwsAAMKMFg0AYCG9e/fW9OnTHbfZs2dr8eLF\\\n",
       "2rVrl0s/ywkTJui9997zOIf9T5hD4R7GOPci9NU31lk4+8ea5Rz4hPKP84r4GUbi/JH4nNyFo8ds\\\n",
       "fHy8PvjgA73yyitlWlP8+uuveuuttzR8+HDVqVNHw4cPV05OTsjnDMatt97quO/epmHFihWO3rzZ\\\n",
       "2dm68sorw37+QD/rcHxtFi1a5BLudu7cWS+//LLWrVungwcPKj8/X0bppsEyDENdunRxjPXXvzlY\\\n",
       "ka7czMjIKHMO9zC/PDlXwDv/ksyXffv2uTx2rtaOhfO7txEKZt5Q3lOkXH/99fr222/1l7/8xeUX\\\n",
       "W7m5ufriiy/06KOPql27durQoYO+/PLLKK4UAACEGwEvAFQAtWvX1ptvvqmePXs6nvvb3/7msfrR\\\n",
       "OZRr3bq1Szhi9jZ+/HiXOZ3DUrN9/5yr08LFX6BTtWpVx/1QNshxDzZzcnIC/gyXLl3qMke0P8NI\\\n",
       "nN/5c+rbt29Q11q4+8h6Y7PZdMstt2jTpk3atm2bXn75ZQ0ZMsSl0ruwsFCvvvqqOnbs6FLxXF6u\\\n",
       "vfZaVatWTZI0f/58lwpp58B36NChFebPsf/5z3867g8bNkwrV67UiBEj1LZtW9WoUaNMr9VIVe2W\\\n",
       "F/s1f/DgQZfnBw8eXKbtQHk5++yzHfcPHDhQpn+tJ7/++qvjfvXq1UOqeo7E+U8//XTHZo5SaX92\\\n",
       "f/Lz813+u7dvPBpr2rZtqw8++EAHDhzQRx99pPvvv1+dO3d2CXzXrFmjbt266f3334/iSgEAQDgR\\\n",
       "8AJABREXF6dXXnnFEarl5ORowoQJZcbVqlXLcd+9yilYzv94dv6HtS9mNkBy/gepv0pOyX/FqPN7\\\n",
       "N7upkydZWVkuwVI4PsdIfYbRPH8krrXy0LRpU40YMUKzZ8/Wjh07tG3bNt1zzz2O0HTHjh1BtQwI\\\n",
       "VUpKim688UZJUnFxsaPv8/Hjxx1BjT2orgiKi4u1bNkySaXf3yZOnOi3KtjstRurnn32WS1cuFBS\\\n",
       "6S+k7H2UN27cqAceeCAqazr77LMdPcENw3BsnOjL2rVrHffPOeecmDy/8/Nmejs7zxkfH6+mTZv6\\\n",
       "PcYswzD8jgl007SsrCz17dtXkydP1qpVq3Tw4EHNmjXL0VqnuLhYt99+e8xtFgcAAIJDwAsAFUjd\\\n",
       "unU1atQox+Pp06eXCdbatm3rCCcPHDjg2KE9FO3atXPcd97IzBvDMPTNN9/4Hee8odChQ4f8jt+4\\\n",
       "caPP188//3zH/R9//NFl07NAOfdCXrlyZdDz2Dl/hqtXrzb15+W+NjgL5fxmvoZmzt+pUyfH/fXr\\\n",
       "10ekars8NG3aVM8884xLqDt37tyorMW5TYO95+7/+3//z/HZdunSRY0aNYrK2sLt4MGDjk21Tj/9\\\n",
       "dJ1++uk+x2/evLlM5asn4WgdEQnff/+9HnzwQcfjadOm6Y033nCsd9q0aVqwYEG5rys5Odnle6f7\\\n",
       "Xx94Yg/mJal79+4xef5u3boFPecFF1xQpno8FP42GZQU0s8rqfTn6dChQ7V48WLH2g8ePBjWnyMA\\\n",
       "ACB6CHgBoIK59957Ha0I8vPzNXnyZJfXU1JSXP7B+/zzz4d8Tud/KH/66ad+e5QuXrzY1D9WGzRo\\\n",
       "4Ljvr2orPz9f8+bN8znmzDPPdKnaCmbTL7s+ffo47r/wwgumKrB8cQ4M9u/fr88++8zn+KNHj4Y1\\\n",
       "ZHT+Gn733XfaunWrz/E//fST32CgYcOGjs+7oKCgTN9Yq+nbt6/jvtmenZ44b+bkadM3X1q2bKnO\\\n",
       "nTtLKv0aLFu2zOVzjcTmatFir9qUzG2u9cILL5iaN5TPP1Ly8/M1cOBARxuGAQMGaMiQIerevbvu\\\n",
       "u+8+SX+2b4hGexDnHsCzZ8/2OXb37t2OTQrdj42l8zs///nnn/v9meR83nD3RPb3862kpCRsPXMb\\\n",
       "NWqkFi1aOB6H8r0MAADEDgJeAKhgqlWrprvuusvx+KWXXioTCIwePdpxf9q0afr8889Nz+/pT+17\\\n",
       "9OihevXqSSr9M1Jff0qcn5+ve++919S5nCtAP/74Y5/VeY8++qip6r177rnHcf+ZZ54J+h/Nt912\\\n",
       "m6OH49q1awP6k/2DBw+quLjY5bmsrCxdc801jscPPPCAz1Br9OjRIfURdnfOOefoggsucDz++9//\\\n",
       "7rWKuKSkRHfffbepUNv5Wnv44Yf9Vlk7K6+2DmauG8m1JYW/alJfnDd4+v333wM+3rmKd/To0Y5q\\\n",
       "+GrVqrlcQ1ZXo0YNZWZmSir9hYZzBaW7lStXmg54Q/38I+G+++7Tpk2bJEn16tXTSy+95HjtiSee\\\n",
       "cFTY79+/X8OGDSv39Q0ZMsTR/mfbtm165ZVXvI4dPXq04/tb586dde6558bk+c877zydd955kkrb\\\n",
       "FYwZM8brnC+//LJ+/PFHSaWtMwYPHhzU+/Dm9ddf99lb+M0333QJoN1/fkjmv48VFxdr7969jseh\\\n",
       "fC8DAACxg4AXACqge+65x7FpVl5enp555hmX17t06aIhQ4ZIKu1te+WVV2rixIleA8P8/HzNmTNH\\\n",
       "/fr1c6litIuPj9fjjz/uePzqq69q1KhRZf7Bum/fPl111VXasGGDkpKS/L6P8847z/Hn5rm5ubrh\\\n",
       "hhvKbByXl5en+++/X//85z9N/cns0KFDHUFmYWGhrrjiCj3//PMeK/kKCgo0b948/eUvfynzWmZm\\\n",
       "pv797387Hj/22GMaMmSI1x6ghmFo5cqVuv3221W/fn2P4e2jjz7qeA8bN27UlVdeWSaAOnXqlO67\\\n",
       "7z699NJLpj7DQDz55JOOPwf/7LPPNHDgQB05csRlzLFjx3TTTTdp/vz5ps5/4403OirGjx8/rosu\\\n",
       "ukgvvfSS40/v3R07dkxvvfWWunbt6vKLikiqX7++brvtNi1btsxrqP3dd9+5rKdXr15Bn69ly5aO\\\n",
       "+8FscjRgwABH8Onc6mTQoEEu1alWFxcXp969ezseDx06VN9++22Zce+995569+6t4uLiMhsgeuL8\\\n",
       "+X/00Uder8Xy8umnnzr+miAuLk5vvPGGywZgSUlJevvtt5Wamiqp9Jdd4fjLi0CcfvrpLr8cu/vu\\\n",
       "u/Xee++5jCksLNSYMWP0zjvvOJ6bOHGiz3kbNGggm80mm83mc0PFSJ3f+fW33npLY8aMKfOz4L33\\\n",
       "3nNpfXTffffptNNO8zlvoH7++WeP32+l0u8Rt99+e5nxkmvQe//99+uSSy7R66+/7nEeqbTV0YgR\\\n",
       "IxwBb0ZGhssv9gAAgIUZAICY1qVLF0OSIckYN26c6eNGjx7tOC49Pd04dOiQy+v5+flGjx49HGMk\\\n",
       "GampqUa3bt2MIUOGGLfeeqsxYMAAo3379kaVKlUcY9q3b+/1nAMGDHCZr1q1asbVV19tjBgxwrji\\\n",
       "iisc85x11lnGqFGjTL2v9957z2XOzMxM4+qrrzZuvfVWo2/fvkZWVpYhyahTp47x5JNPOsYNGTLE\\\n",
       "65y7d+82mjRp4jJvVlaWceWVVxrDhw83hg4danTr1s3IyMhwnNObRx55xGWe+Ph4o3379sagQYOM\\\n",
       "2267zRg0aJDRpUsXIzMz02Xc8ePHPc733HPPuYxLSkoyevToYYwYMcK49tprjRo1ajie/+c//+kY\\\n",
       "16VLF69rDMT999/vcv60tDTjqquuMkaMGGH07dvXSE9Pd3xtx48fb+rzPnjwoNGuXTuXeTMyMoye\\\n",
       "PXsaw4YNc7y3Vq1aGQkJCY4x11xzjcf5zjzzTMeYnTt3+n1PQ4YMcYyfNWtWmded11W1alXj4osv\\\n",
       "Nm688UbjtttuM6655hqjRYsWLmNq1qxp/P7772XmWbJkiamvx8svv+wYZ7PZjG7duhl33nmnce+9\\\n",
       "9zpuOTk5Pt/T7bff7rImScb69ev9fhaBcv7+s2TJEr/jA/3aOK/fk02bNhkpKSkun9cFF1xgDB06\\\n",
       "1Bg4cKBx1llnOV4bMWKEqfUeOXLEZc6GDRsaw4YNM+655x7H579w4cKQPgezn8e+ffuM008/3TFm\\\n",
       "zJgxXud64YUXHONSUlKMzZs3m15HOBQUFBjdu3d3+Zq1atXKGDJkiHHdddcZ2dnZLq899thjfud0\\\n",
       "/nx8fQ+J1PkNwzAefvhhl+Pq1KljXHfddcaQIUOMli1burx2+eWXG4WFhabm9cf5mqpdu7bj+0+f\\\n",
       "Pn2MW2+91Rg0aJDLz6nmzZu7/Jy5/vrrjd69ezvmc/4+Fx8fb7Ro0cK49tprjREjRhg33nij0a1b\\\n",
       "NyMpKcnl/bz88stheS8AACD6CHgBIMYFG/AeOHDASEtLcxz78MMPlxlTVFRkPPLII0ZqamqZsMjT\\\n",
       "LTEx0bjjjju8nrOgoMDlH5mebs2aNTO2bNlijBs3zvT7euyxx3zOefbZZxs//PCDMWvWLNNhwaFD\\\n",
       "h4y//OUvpt73GWec4XOud99916hTp46puSQZHTt2NPLz873ON3XqVJdQ3f2WmZlpfPTRR6YDxUCN\\\n",
       "GTPGiIuL83r+OnXqGKtWrQro887LyzNGjhzpEuD6uqWkpBgTJkzwOFe4A157aG3m1qZNG2PLli0e\\\n",
       "z2P261FQUGBccsklPs/j732tX7/eZXyHDh38fg7BiHbAaxiGMWfOHL/fo2699VYjPz/f9HpfeOEF\\\n",
       "w2azeZ3P/XtSpALeXr16uXwNCwoKfM7Xt29fx/i2bdsap06dMr2WcDhy5EiZX+R5+jnx5JNPmpov\\\n",
       "kIA3Euc3DMMoKSkxHn/8cSMxMdHnvNdff71x9OhR0/P643xNvfPOO0bDhg29nvvyyy83Dh48aFSr\\\n",
       "Vq3M9yO7O++80/T3sapVqxLuAgBQwdCiAQAqqJo1a+pvf/ub4/G0adPK/NlmfHy8/u///k+7du3S\\\n",
       "008/rSuuuEL169dXamqqEhMTVaNGDZ177rkaMmSIZs+erd9//13Tp0/3es7ExETNnj1bX3zxha67\\\n",
       "7jrVrVtXSUlJqlWrli688EJNmTJFq1evVrNmzQJ6L48++qhWrVqlG264wTHnaaedpvPPP1/PPvus\\\n",
       "vvvuO5dNY8yoXr26PvjgA3377bcaNWqU2rZtq9NOO03x8fFKT09Xs2bNdP3112v27Nnatm2bz7kG\\\n",
       "DBign3/+WbNnz9YNN9ygxo0bKzMzU/Hx8crIyNA555yjq6++Wv/+97+1bds2ffPNNz7bSdx11136\\\n",
       "/vvvddddd6lJkyZKSUlRVlaWWrVqpQcffFDff/+9x1YZ4TJx4kR9++23GjZsmBo0aKAqVaqoRo0a\\\n",
       "at++vZ588klt2LDBsdGXWSkpKXrhhRe0fft2Pf744+rWrZvOOOMMJScnKykpSTVr1lSnTp106623\\\n",
       "6t1339W+ffv04IMPRugdujp06JAWLVqkhx9+WD179lTDhg2Vlpam+Ph4Va1aVeecc45uvPFGffjh\\\n",
       "h1q7dm3A16+7xMREff7553rhhRd02WWXqXbt2gG322jTpo0aNmzoeFyRNldz169fP/3www+68847\\\n",
       "1bRpUyUnJys9PV1NmzbVzTffrGXLlumll14y1aLFbuTIkfryyy910003qWnTpkpLS3O0Jykv06ZN\\\n",
       "0/z58yVJaWlpeuutt5SYmOjzmFdffVXZ2dmSSjfmGjt2bMTX6SwzM1PvvvuuFi1apBtvvFGNGjVS\\\n",
       "amqqMjMz1bJlS917773asGFDxNYVifPbbDY9/PDD2rBhg+655x61bNlSmZmZSk1NVaNGjXTjjTdq\\\n",
       "0aJFeuedd5SRkRGR91W7dm2tXbtWY8eO1TnnnON4T+eff75efPFFLViwQDVq1NB//vMfnXPOOUpJ\\\n",
       "SVG7du30j3/8wzHHtGnTtHnzZk2dOlUDBw5UmzZtVK1aNSUkJCg5OVlnnHGGevTooaefflo//fST\\\n",
       "RowYEZH3AgAAosNmGCFu+w0AAIBytWvXLjVs2FCGYSgtLU179uyJWPgEIPy6du3q2DhwyZIl6tq1\\\n",
       "a3QXBAAALI0KXgAAAIuZOXOm7L+jHzBgAOEuAAAAUIkR8AIAAFhIfn6+ZsyY4Xg8cuTIKK4GAAAA\\\n",
       "QLQR8AIAAFjIww8/rH379kmSLrjgAnXs2DHKKwIAAAAQTQnRXgAAAAC8W7BggRYsWKCTJ0/q22+/\\\n",
       "1fr16yWVbg41ceLE6C4OAAAAQNQR8AIAAMSwr7/+WlOmTCnz/H333adLLrkkCisCAAAAEEsIeAEA\\\n",
       "ACwiNTVVrVq10u23367BgwdHezkAAAAAYoDNsG/BDAAAAAAAAACwFDZZAwAAAAAAAACLIuAFAAAA\\\n",
       "AAAAAIsi4AUAC8rPz9ff/vY3Pfnkk9FeCuDAdYlYxbWJcOFaAgAAsYiAFwAs6PPPP9eLL76o//3v\\\n",
       "f47nOnToIJvNFtCtZs2a5b72Xbt2yWazqWvXruV+bkRWpK7L999/X127dlW1atWUlpamNm3aaPLk\\\n",
       "ySosLPS4Dq4xuPN0bTorLCzUa6+9piuvvFJ16tRRlSpVlJmZqcaNG+uKK67QU089pd27dzvGc41V\\\n",
       "Xvz8BQAAsSgh2gsAAARuzpw5kqT+/ftLkgzDULt27dSyZUuXcTt37tTy5cuVnp6ua665psw8zZo1\\\n",
       "i/RSUYlE4rocNWqUpkyZooSEBHXv3l3p6elavHixRo8erXnz5umzzz5TSkpKxN4TKgb3a9PZ9u3b\\\n",
       "dfXVV+uHH35Qamqq2rVrp0suuUQFBQXavHmzFi5cqIULF6p9+/aqV69e+S4cMYefvwAAIBYR8AKA\\\n",
       "xZSUlGjevHmqUaOGLr74YkmSzWbTjBkzyox94okntHz5cnXq1EmzZ88u55WiMonEdTlnzhxNmTJF\\\n",
       "6enpWrZsmc4991xJ0sGDB9W9e3etWLFCjzzyiJ5++umIvCdUDJ6uTbvDhw+rW7du+v333/WPf/xD\\\n",
       "Dz/8sKpXr+4y5ueff9ZLL72k8847rzyXjRjEz18AABCraNEAABazatUqHThwQH369FF8fLzPsevW\\\n",
       "rZMkRzAWqqFDh8pms2np0qVhmQ8VRySuywkTJkiSxowZ4zL2tNNO0/PPPy9Jmj59uo4ePRrK0lHB\\\n",
       "+bo2n376af3+++/q3bu3/vWvf5UJdyWpYcOGeuqpp5SZmVleS0aMiubPXwAAAF8IeAHAYnz9qbG7\\\n",
       "tWvXSpLatWsXwRUB4b8uf//9d61evVqSNHDgwDKvX3TRRapXr55OnTqlTz/9NPAFo9LwdW0uWrRI\\\n",
       "kspU9gKe8PMXAADEKgJeALCYjz76SCkpKerRo4fPcYcPH9auXbskUUGEyAv3dWmvfqtevbrOOuss\\\n",
       "j2M6dOjgMhbwxNe1efLkSUnS8uXLVVxcXN5Lg8Xw8xcAAMQqAl4AsJAffvhBP/30k3r06KHU1FSf\\\n",
       "Y+2hV3p6upo0aVIey0MlFYnrcufOnZKk+vXrex1j3/DKPhZw5+/avOSSSyRJ8+fPV5MmTTR69Ggt\\\n",
       "WrRIubm55b1UxDh+/gIAgFhGwAsAFhLIn4fa/4HZpk0bxcXx7R6RE4nr8vjx45KktLQ0r2PS09Ml\\\n",
       "SceOHTO5UlQ2/q7NCRMmqF+/fpJKf1EwefJk9ejRQ9WrV9cVV1yhefPmldNKEev4+QsAAGJZQrQX\\\n",
       "AAAwb86cOYqPj9dVV13ld2wo/f9eeeUVrVixoszz9ucmTZrkcVfwMWPGqFmzZgGfD9ZWXtclECh/\\\n",
       "12ZmZqbmzJmj7du364MPPtDnn3+uVatWKS8vTwsXLtTChQt133336Z///Gc5rxyxpry+zz3wwAOa\\\n",
       "O3duwMe98soruuiiiwI+DgAAVAwEvABgIbt371bVqlWVlZXld2woO3ivWLFCr732mtfXFy5c6PH5\\\n",
       "oUOHEvBWQpG4LqtWrSpJOnHihNcx9j+jz8jIMLlSVDZmr017e4bRo0eroKBAixYt0gMPPKDNmzfr\\\n",
       "mWee0ciRI9WoUaPyWTRiUnn9/N2zZ4+2bdsW8HG0FQEAoHLjb4YAwEL69OmjI0eOeKyudZaXl+f4\\\n",
       "B2IwFUSzZ8+WYRhlbkOGDJEkLVmyxOPrXbt2DfhcsL5IXJcNGjSQVBqqeGN/zT4WcGf22nSWlJSk\\\n",
       "K6+8UjNnzpQkGYahjRs3RmqJsIjy+vn75ptvevz56u92xRVXBPW+AABAxUDACwAWYu/9Z+8F6M2G\\\n",
       "DRtUUlKipKQktWjRIvILQ6UWievSHowcOnTI6yZq3333nSR2qYd3Zq9NT+yb+El/9ntG5cXPXwAA\\\n",
       "EMsIeAHAQi6//HKlpaXpo48+8jnO3v+vZcuWSkxMLI+loRKLxHVZt25dnXfeeZKkt99+u8zrK1as\\\n",
       "0O7du1WlShX17t07yJWjovN2bRqG4fdYe5BXtWpVXXDBBZFYHiyEn78AACCWEfACgIUkJyerZ8+e\\\n",
       "2rlzpzZs2OB1XCj9/4BAReq6HDt2rKTSTf3soYlUWtV7++23S5LuvPNOZWZmBrt0VHDers2HHnpI\\\n",
       "I0eO1KZNm8occ/LkSU2fPl333nuvpNLrLzU1tdzWjNjEz18AABDLCHgBwGLM/JloKDt4A8GIxHXZ\\\n",
       "v39/3X333crNzdX555+vXr166dprr1Xjxo21ceNGXXjhhXr88cdDXToqOE/X5ooVK/TSSy+pZcuW\\\n",
       "atiwofr166eBAweqa9euqlu3ru666y5J0pQpUxy/TAD4+QsAAGIVAS8AWEyfPn2UkJDg9R+YhYWF\\\n",
       "jqo0KohQXiJ1XU6ZMkXvvvuuOnfurFWrVunTTz9V3bp1NWnSJC1evFgpKSnhWD4qME/X5ssvv6wp\\\n",
       "U6aob9++SklJ0YoVK/T+++9r48aNatq0qR5++GFt27ZNd999d/QWjpjDz18AABCrEqK9AABAYKpV\\\n",
       "q6ZLLrlEixcv1i+//KIzzzzT5fXExESdOnUqIueePXu2Zs+eHZG5YW2RvC4HDBigAQMGhGOZqIQ8\\\n",
       "XZvNmjVTs2bNCHARkGj+/AUAAPCFCl4AsKBQdoYHIoXrErGKaxPhwrUEAABiEQEvAFgQ/8BELOK6\\\n",
       "RKzi2kS4cC0BAIBYRIsGALCgevXqyTCMaC8DcMF1iVjFtYlw4VoCAACxiApeAAAAAAAAALAoKngB\\\n",
       "AOUqKytL48aNU4MGDaK9FFRQXGOINK4xWBHXLQAAFZfN4G+MAAAAAAAAAMCSaNEAAAAAAAAAABZF\\\n",
       "wAsAAAAAAAAAFkXACwAAAAAAAAAWRcALAAAAAAAAABZFwAsAAAAAAAAAFkXACwBwOHXqlMaPH69T\\\n",
       "p05FeymohLj+EE1cf4gmrj8AABAKm2EYRrQXAQCIDceOHVNmZqaOHj2qjIyMaC8HlQzXH6KJ6w/R\\\n",
       "xPUHAABCQQUvAAAAAAAAAFgUAS8AAAAAAAAAWFRCtBcAwFVJSYn27NmjqlWrymazRXs5qGSOHTvm\\\n",
       "8r9AeeL6QzRx/SGauP4QTYZh6Pjx46pTp47i4qgBAwArogcvEGN+++031atXL9rLAAAAAFCJ7N69\\\n",
       "W3Xr1o32MgAAQaCCF4gxVatWlVT6f7DYZAPlrbCwUJ999pl69OihxMTEaC8HlQzXH6KJ6w/RxPWH\\\n",
       "aDp27Jjq1avn+HcIAMB6CHiBGGNvy5CRkUHAi3JXWFio1NRUZWRk8A9MlDuuP0QT1x+iiesPsYD2\\\n",
       "cABgXTTYAQAAAAAAAACLIuAFAAAAAAAAAIsi4AUAAAAAAAAAiyLgBQAAAAAAAACLIuAFAAAAAAAA\\\n",
       "AIsi4AUAAAAAAAAAiyLgBQAAAAAAAACLIuAFAAAAAAAAAIsi4AUAAAAAAAAAiyLgBQAAAAAAAACL\\\n",
       "IuAFAAAAAAAAAIsi4AUAAAAAAAAAiyLgBQAAAAAAAACLIuAFAAAAAAAAAIsi4AUAAAAAAAAAiyLg\\\n",
       "BQAAAAAAAACLIuAFAAAAAAAAAIsi4AUAAAAAAAAAiyLgBQAAAAAAAACLIuAFAAAAAAAAAIsi4AUA\\\n",
       "AAAAAAAAiyLgBQAAAAAAAACLIuAFAAAAAAAAAIsi4AUAAAAAAAAAiyLgBQAAAAAAAACLIuAFAAAA\\\n",
       "AAAAAIsi4AUAAAAAAAAAiyLgBQAAAAAAAACLIuAFAAAAAAAAAIsi4AUAAAAAAAAAiyLgBQAAAAAA\\\n",
       "AACLIuAFAAAAAAAAAIsi4AUAAAAAAAAAiyLgBQAAAAAAAACLIuAFAAAAAAAAAIsi4AUAAAAAAAAA\\\n",
       "iyLgBQAAAAAAAACLIuAFAAAAAAAAAIsi4AUAAAAAAAAAiyLgBQAAAAAAAACLIuAFAAAAAAAAAIsi\\\n",
       "4AUAAAAAAAAAiyLgBQAAAAAAAACLIuAFAAAAAAAAAIsi4AUAAAAAAAAAiyLgBQAAAAAAAACLIuAF\\\n",
       "AAAAAAAAAIsi4AUAAAAAAAAAiyLgBQAAAAAAAACLIuAFAAAAAAAAAIsi4AUAAAAAAAAAiyLgBQAA\\\n",
       "AAAAAACLIuAFAAAAAAAAAIsi4AUAAAAAAAAAiyLgBQAAAAAAAACLIuAFAAAAAAAAAIsi4AUAAAAA\\\n",
       "AAAAiyLgBQAAAAAAAACLIuAFAAAAAAAAAIsi4AUAAAAAAAAAiyLgBQAAAAAAAACLIuAFAAAAAAAA\\\n",
       "AIsi4AUAAAAAAAAAiyLgBQAAAAAAAACLIuAFAAAAAAAAAIsi4AUAAAAAAAAAiyLgBQAAAAAAAACL\\\n",
       "IuAFAAAAAAAAAIsi4AUAAAAAAAAAiyLgBQAAAAAAAACLIuAFAAAAAAAAAIsi4AUAAAAAAAAAiyLg\\\n",
       "BQAAAAAAAACLIuAFAAAAAAAAAIsi4AUAAAAAAAAAiyLgBQAAAAAAAACLIuAFAAAAAAAAAIsi4AUA\\\n",
       "AAAAAAAAiyLgBQAAAAAAAACLIuAFAAAAAAAAAIsi4AUAAAAAAAAAiyLgBQAAAAAAAACLIuAFAAAA\\\n",
       "AAAAAIsi4AUAAAAAAAAAiyLgBQAAAAAAAACLIuAFAAAAAAAAAIsi4AUAAAAAAAAAiyLgBQAAAAAA\\\n",
       "AACLIuAFAAAAAAAAAIsi4AUAAAAAAAAAiyLgBQAAAAAAAACLIuAFAAAAAAAAAIsi4AUAAAAAAAAA\\\n",
       "iyLgBQAAAAAAAACLIuAFAAAAAAAAAIsi4AUAAAAAAAAAiyLgBQAAAAAAAACLIuAFAAAAAAAAAIsi\\\n",
       "4AUAAAAAAAAAiyLgBQAAAAAAAACLIuAFAAAAAAAAAIsi4AUAAAAAAAAAiyLgBQAAAAAAAACLIuAF\\\n",
       "AAAAAAAAAIsi4AUAAAAAAAAAiyLgBQAAAAAAAACLIuAFAAAAAAAAAIsi4AUAAAAAAAAAiyLgBQAA\\\n",
       "AAAAAACLIuAFAAAAAAAAAIsi4AUAAAAAAAAAiyLgBQAAAAAAAACLIuAFAAAAAAAAAIsi4AUAAAAA\\\n",
       "AAAAiyLgBQAAAAAAAACLIuAFAAAAAAAAAIsi4AUAAAAAAAAAiyLgBQAAAAAAAACLIuAFAAAAAAAA\\\n",
       "AIsi4AUAAAAAAAAAiyLgBQAAAAAAAACLIuAFAAAAAAAAAIsi4AUAAAAAAAAAiyLgBQAAAAAAAACL\\\n",
       "IuAFAAAAAAAAAIsi4AUAAAAAAAAAiyLgBQAAAAAAAACLIuAFAAAAAAAAAIsi4AUAAAAAAAAAiyLg\\\n",
       "BQAAAAAAAACLIuAFAAAAAAAAAIsi4AUAAAAAAAAAiyLgBQAAAAAAAACLIuAFAAAAAAAAAIsi4AUA\\\n",
       "AAAAAAAAiyLgBQAAAAAAAACLIuAFAAAAAAAAAIsi4AUAAAAAAAAAiyLgBQAAAAAAAACLIuAFAAAA\\\n",
       "AAAAAIsi4AUAAAAAAAAAiyLgBQAAAAAAAACLIuAFAAAAAAAAAIsi4AUAAAAAAAAAiyLgBQAAAAAA\\\n",
       "AACLIuAFAAAAAAAAAIsi4AUAAAAAAAAAiyLgBQAAAAAAAACLIuAFAAAAAAAAAIsi4AUAAAAAAAAA\\\n",
       "iyLgBcLs0KFDGjlypKZPnx7tpQAAAAAAAKCCI+BFTNq1a5dsNpu6du3q8nyHDh1ks9kCutWsWbNc\\\n",
       "116jRg0tWLBADz/8sAoLC8v13AAAAAAAAKhcEqK9AMAswzDUrl07tWzZ0uX5nTt3avny5UpPT9c1\\\n",
       "11xT5rhmzZqV1xId+vXrp6lTp2rx4sXq2bNnuZ8fAAAAAAAAlQMBLyzDZrNpxowZZZ5/4okntHz5\\\n",
       "cnXq1EmzZ88u/4V50L9/f02dOlVz5swh4AUAAAAAAEDE0KIBlrdu3TpJ0rnnnhuW+YYOHSqbzaal\\\n",
       "S5cGPccll1yi6tWra+7cuTIMIyzrAgAAAAAAANwR8MLy1q5dK0lq165dlFfyp/j4ePXp00d79uzR\\\n",
       "t99+G+3lAAAAAAAAoIKiRQMs7fDhw9q1a5ek8FXwhkv//v31+uuva86cOerUqZPXcadOndKpU6cc\\\n",
       "j48dOyZJKiwsZJM2lDv7Nce1h2jg+kM0cf0hmrj+EE1cdwBgfQS8sDR7e4b09HQ1adIkyqtx1bNn\\\n",
       "T6WkpGjOnDmaOHGi13ETJ07UY489Vub5zz77TKmpqZFcIuDVokWLor0EVGJcf4gmrj9EE9cfoiEv\\\n",
       "Ly/aSwAAhIiAF5ZmD3jbtGmjuLjY6jiSmpqqyy+/XHPnztWPP/6opk2behz34IMP6p577nE8Pnbs\\\n",
       "mOrVq6cePXooIyOjvJYLSCqt4Fi0aJEuv/xyJSYmRns5qGS4/hBNXH+IJq4/RJP9LwgBANZFwAtL\\\n",
       "C6X/7iuvvKIVK1aUed7+3KRJkzR79uwyr48ZM0bNmjUzdY7+/ftr7ty5+vDDDzV69GiPY6pUqaIq\\\n",
       "VaqUeT4xMZH/g4+o4fpDNHH9IZq4/hBNXH+IBq45ALA+Al5Ymr2CN5j+uytWrNBrr73m9fWFCxd6\\\n",
       "fH7o0KGmA9769etLknbv3h3w+gAAAAAAAAB/Yutv2oEA5OXladu2bZKCq+CdPXu2DMMocxsyZIgk\\\n",
       "acmSJR5f79q1q+lzzJs3T5LUp0+fgNcHAAAAAAAA+EPAC8vasGGDSkpKlJSUpBYtWkR7OR599NFH\\\n",
       "ysjIUPfu3aO9FAAAAAAAAFRABLywLHv/3ZYtW8Zk36j169dr165d6tWrl5KSkqK9HAAAAAAAAFRA\\\n",
       "BLywrFD675aHOXPmSCrdaA0AAAAAAACIBAJeWJa9gjeY/rvlYc6cOUpKSlLv3r2jvRQAAAAAAABU\\\n",
       "UAS8sKTCwkJt2rRJUmxW8O7atUsbNmxQt27dlJGREe3lAAAAAAAAoIJKiPYCgGAkJibq1KlTEZl7\\\n",
       "9uzZmj17dkhz0J4BAAAAAAAA5YEKXiAC5syZI5vNpn79+kV7KQAAAAAAAKjACHiBMDt06JBWrFih\\\n",
       "jh07Kjs7O9rLAQAAAAAAQAVGiwYgzGrUqKGioqJoLwMAAAAAAACVABW8AAAAAAAAAGBRVPAiJmVl\\\n",
       "ZWncuHFq0KBBtJcCAAAAAAAAxCwCXsSkrKwsjR8/PtrLAAAAAAAAAGIaLRoAAAAAAAAAwKIIeAEA\\\n",
       "AAAAAADAogh4AQAAAAAAAMCiCHgBAAAAAAAAwKIIeAEAAAAAAADAogh4AQAAAAAAAMCiCHgBAAAA\\\n",
       "AAAAwKIIeAEAAAAAAADAogh4AQAAAAAAAMCiCHgBAAAAAAAAwKIIeAEAAAAAAADAogh4AQAAAAAA\\\n",
       "AMCiCHgBAAAAAAAAwKIIeAEAAAAAAADAogh4AQAAAAAAAMCiCHgBAAAAAAAAwKIIeAEAAAAAAADA\\\n",
       "ogh4AQAAAAAAAMCiCHgBAAAAAAAAwKIIeAEAAAAAAADAogh4AQAAAAAAAMCiCHgBAAAAAAAAwKII\\\n",
       "eAEAAAAAAADAogh4AQAAAAAAAMCiCHgBAAAAAAAAwKIIeAEAAAAAAADAogh4AQAAAAAAAMCiCHgB\\\n",
       "AAAAAAAAwKIIeAEAAAAAAADAogh4AQAAAAAAAMCiCHgBAAAAAAAAwKIIeAEAAAAAAADAogh4AQAA\\\n",
       "AAAAAMCiCHgBAAAAAAAAwKIIeAEAAAAAAADAogh4AQAAAAAAAMCiCHgBAAAAAAAAwKIIeAEAAAAA\\\n",
       "AADAogh4AQAAAAAAAMCiCHgBAAAAAAAAwKIIeAEAAAAAAADAogh4AQAAAAAAAMCiCHgBAAAAAAAA\\\n",
       "wKIIeAEAAAAAAADAogh4AQAAAAAAAMCiCHgBAAAAAAAAwKIIeAEAAAAAAADAogh4AQAAAAAAAMCi\\\n",
       "CHgBAAAAAAAAwKIIeAEAAAAAAADAogh4AQAAAAAAAMCiCHgBAAAAAAAAwKIIeAEAAAAAAADAogh4\\\n",
       "AQAAAAAAAMCiCHgBAAAAAAAAwKIIeAEAAAAAAADAogh4AQAAAAAAAMCiCHgBAAAAAAAAwKIIeAEA\\\n",
       "AAAAAADAogh4AQAAAAAAAMCiCHgBAAAAAAAAwKIIeAEAAAAAAADAogh4AQAAAAAAAMCiCHgBAAAA\\\n",
       "AAAAwKIIeAEAAAAAAADAogh4AQAAAAAAAMCiCHgBAAAAAAAAwKIIeAEAAAAAAADAogh4AQAAAAAA\\\n",
       "AMCiCHgBAAAAAAAAwKIIeAEAAAAAAADAogh4AQAAAAAAAMCiCHgBAAAAAAAAwKIIeAEAAAAAAADA\\\n",
       "ogh4AQAAAAAAAMCiCHgBAAAAAAAAwKIIeAEAAAAAAADAogh4AQAAAAAAAMCiCHgBAAAAAAAAwKII\\\n",
       "eAEAAAAAAADAogh4AQAAAAAAAMCiCHgBAAAAAAAAwKIIeAEAAAAAAADAogh4AQAAAAAAAMCiCHgB\\\n",
       "AAAAAAAAwKIIeAEAAAAAAADAogh4AQAAAAAAAMCiCHgBAAAAAAAAwKIIeAEAAAAAAADAogh4AQAA\\\n",
       "AAAAAMCiCHgBAAAAAAAAwKIIeAEAAAAAAFBuGjVqJJvN5vH22WefRXt5gOUQ8AIAAAAAAKDc/L//\\\n",
       "9/8kSatXr9bevXv1zTffOB5feuml0VwaYEkEvAAAAAAAACg3Bw4cUHp6utq3b6/atWtr3759jsfx\\\n",
       "8fHRXh5gOQS8AAAAAAAAKDcbN25UixYtZLPZJEnff/+9WrZs6XgMIDAEvAAAAAAAACg3P/zwg1q1\\\n",
       "auV4vGHDBpfHAAJDwAsAAAAAAIBys3HjRrVs2dLlMQEvEDwCXgAAAAAAAJSLoqIibd261RHoGoah\\\n",
       "n3/+WfXr14/yygDrIuAFAAAAAABAufjxxx9VUFDgqOC12Wxq2bKlRo4cqZ9++inKqwOsKSHaCwAA\\\n",
       "AAAAAEDl0Lx5cxmG4fLc2rVro7QaoGKgghcAAAAAAAAALIqAFwAAAAAAAAAsihYNAAAAAAAAKBc2\\\n",
       "m83UOPc2DgC8I+AFAAAAAABAuSC4BcKPFg0AAAAAAAAoNxMnTlSHDh1UtWpV1apVSwMGDNCuXbui\\\n",
       "vSzAsgh4AQAAAAAAUG6WLVumu+66S998840WLFignJwc9erVS0VFRdFeGmBJtGgAAAAAAABAuVmw\\\n",
       "YIHL4xkzZqhhw4bavHmzWrduHaVVAdZFBS8AAAAAAACi5ujRo5Kk6tWrR3klgDUR8AIAAAAAACAq\\\n",
       "iouLdd9996l3796qW7dutJcDWBItGgAAAAAAAFDuDMPQyJEj9euvv2rlypXRXg5gWQS8AAAAAAAA\\\n",
       "KFeGYej222/X559/ruXLl6tmzZrRXhJgWQS8AAAAAAAAKDeGYeiOO+7QJ598omXLlqlevXrRXhJg\\\n",
       "aQS8AAAAAAAAKDd33HGH3nnnHc2bN08pKSnat2+fpNJN1pKSkqK8OsB6CHgBAAAAAABQbl544QVJ\\\n",
       "0sUXX+zy/JIlS9S1a9corAiwNgJeAAAAAAAAlBvDMKK9BKBCiYv2AgAAAAAAAAAAwSHgBQAAAAAA\\\n",
       "AACLIuAFAAAAAAAAAIsi4AUAAAAAAAAAiyLgBQAAAAAAAACLIuAFAAAAAAAAAIsi4AUAAAAAAAAA\\\n",
       "i0qI9gIAAAAAAABQseTn52vv3r0utyNHjqioqMjlJkkJCQkut6ysLGVnZ7vckpOTo/yOgNhFwAsA\\\n",
       "AAAAAICAFBcXa+vWrVqzZo02bdqkPXv2OILc3/f+qqOHcxUXb1NmrRRVzY5XWh1DaVmFiks0ZEss\\\n",
       "kS2hRHFxcaq+s6cO1Vuk+JISlRTGqaTQplNHEnVsj01H9hbryP6TKi42lFktXbWza6lOdl2dkV1P\\\n",
       "derUUYsWLdS+fXs1a9ZM8fHx0f5IgKgh4AUAAAAAAIBXRUVFjjDXflu/fr1KVKS6bTOV2apIiWef\\\n",
       "UFLXAtXPls6tI6VlSymnGYqLz3PMU91t3rjCKmr+6Qht7r1YqYkFTq+cctzLKpaOH5SO7M3VkT25\\\n",
       "OrJ3h47slbb8Vk0LXkzQj+uPKM4Wr7Zt26l9+w5q3769I/RNSCD2QuXAlQ4AAAAAAACHwsJCLV++\\\n",
       "XJ988om+/vprrV+/TobNUL12NZTV3lDCbQd1UftC1W8mxcX/r8zx6WFcS1y8lFmr9HZm2z+fr6bD\\\n",
       "kqTiIum3rYX6ac1X+nntd1o1o6Y2335IMmxq27adzj//fF155ZW65JJLlJiYGMaVAbGDgBcAAAAA\\\n",
       "AKCSy8nJ0fz58zVv3jzNnz9fiWnxatSnuk797Wdd0t5Q1bMlW/wel2PiorRWZ/EJ0pktS2+XDilU\\\n",
       "uvaouFjavU36ec1mbfnygAbdNFv5eSW64oor1LdvX/Xq1UvVqlWL9tKBsCHgBQAAAAAAqIS2b9+u\\\n",
       "efPmae7cuVq5cqVOb5mhan3z1fK+PGWcK9niSqtkw1mRWx7i46UGzaUGzY+q+01H9bcSaftaadPc\\\n",
       "NZr0z1UaMmSILrroIl111VXq27evGjduHO0lAyEh4AUAAAAAAKgk9uzZo1mzZumtt97Sjh071Kxb\\\n",
       "Q50asEstXy9Sdv2cgOY6LCmQOtgcle3DWx7i4qTOHaTOHX7S8P+T9v4qffnx1/po7mY9+OAYNWrU\\\n",
       "WIMGDdLNN9+sOnXqRGGFQGhioZoeAAAAAAAAEVJcXKxPPvlE/fr1U4MGDfSfL99WrfEFan2wQCkL\\\n",
       "tirr9nxVqR++8+UGOD7Ny/ORCoOz60sDbs/XtAUHtPpgoW4f/7OWfPm2GjRooP79++uTTz5RcXFx\\\n",
       "hM4OhB8BLwAAAAAAQAWUk5Ojp556SmeddZaG3TZMOW12q+6PhaqyYLNODtih+Krm5gk0sI00b1XD\\\n",
       "wbSSSK8q9R5wSi8v2KzPfyxUo1a/6tZbb9ZZZ52lyZMnKycnsKpmIBoIeAEAAAAAACqQzZs3a+TI\\\n",
       "kapXr57enP+azphSRRm7Dmj//61TQgPvx1XUKNNsJXDdBtIdj6/Tkl/+p4eePaCPP5mlevXqaeTI\\\n",
       "kdq8eXMklwiEhIAXAAAAAACgAtiyZYuuvvpqtW/fXp8VzFXNlSd1aukWHfrLT7I57cJUUYPcQHmr\\\n",
       "+E1IkAZcfUofLduq+StPKq9gtdq3b6+rr75aW7duLdc1AmYQ8AIAAAAAAFjY7t27NXz4cJ177rna\\\n",
       "k/2LMnfm69TMvUpqa0R7aZbXqq2hKTPXat3OfNXIXqV27dpp+PDh+u2336K9NMCBgBcAAAAAAMCC\\\n",
       "cnJydP/99+vss8/W2hPfKmNjvnY/t1bxtUtfPxHMnF6e99aH93AQ54h1nnr81qotTX5uv9auyVfu\\\n",
       "8Y/VtGlTPfDAA/ToRUwg4AUAAAAAALCQvLw8TZw4UQ0bNtTHGz9W+sqT2v/ORiU0Nj9HRYslvbVb\\\n",
       "8NZ/N5gN2SSpcWPpjTf2a+mSk1q//jU1bNhQEydOVF5eXpAzAqEj4AXC7NChQxo5cqSmT58e7aUA\\\n",
       "AAAAACqQkpISvfzyy2rcuLFmfPiyTn14XLsWbNXxdt6PCaaKtzLzVL1rl17w5/127aRPPj6g9949\\\n",
       "rg8+eEaNGzfWyy+/rJKSkoivEXBHwIsKY9euXbLZbOratavL8x06dJDNZgvoVrNmTZc53n//fXXt\\\n",
       "2lXVqlVTWlqa2rRpo8mTJ6uwsLDMOmrUqKEFCxbo4Ycf9vg6AAAAAACB+umnn9S1a1c9OulRHZ52\\\n",
       "QHu+2SV1+zNMDKYi19sxsVzd6yuAjYZu3Uq0csUhTZl0QJMmjla3bt20Y8eOaC8LlUyC/yGAdRmG\\\n",
       "oXbt2qlly5Yuz+/cuVPLly9Xenq6rrnmmjLHNWvWzHF/1KhRmjJlihISEtS9e3elp6dr8eLFGj16\\\n",
       "tObNm6fPPvtMKSkpLsf369dPU6dO1eLFi9WzZ8/IvDkAAAAAQIVXUlKi6dOn68GxDyr+5gQVzD8m\\\n",
       "W5pkC2COE5LSwrCWXJlvbRDI2EgJZ3sG5+pdd4mnpGv7F+uKy45ozPg1atOmtSZOnKQ77rhDcXHU\\\n",
       "ViLyCHhRodlsNs2YMaPM80888YSWL1+uTp06afbs2V6PnzNnjqZMmaL09HQtW7ZM5557riTp4MGD\\\n",
       "6t69u1asWKFHHnlETz/9tMtx/fv319SpUzVnzhwCXgAAAABAUHbs2KFhw4Zp8+7NOvVxkWxdS3wG\\\n",
       "OTnyHmrCv1Crg9PTpelPn9A1faVb7nxM//3vf/Xqq6+qUaNGYVkf4A2/RkCltG7dOklyBLbeTJgw\\\n",
       "QZI0ZswYl7GnnXaann/+eUnS9OnTdfToUZfjLrnkElWvXl1z586VYRjhXDoAAAAAoIIrKSnRtGnT\\\n",
       "1LpNa33TarUOf39ctq6lEU6RkoOa01sv3nC0YzgchjlCEelKYV/Vuwn5ZZ/rdon0/apDanHWdrVp\\\n",
       "01rTpk2jNy8iioAXldLatWslSe3aee9E//vvv2v16tWSpIEDB5Z5/aKLLlK9evV06tQpffrppy6v\\\n",
       "xcfHq0+fPtqzZ4++/fbbMK4cAAAAAFCR/fzzz+revbse/dc45c8rVPF0Q7Z014YMvkLecPXPjXYf\\\n",
       "3khVInsLg71V7/oKd32pWig9N36P5s3I07+eflTdu3fTzz//HNxkgB+0aEClc/jwYe3atUuS7wpe\\\n",
       "e5Vv9erVddZZZ3kc06FDB+3evVvr1q3TDTfc4PJa//799frrr2vOnDnq1KmT1/OcOnVKp06dcjw+\\\n",
       "duyYJKmwsJBN2lDu7Ncc1x6igesP0cT1h2ji+kM0cd3Flvfee08333Kz8gfbVPJxihLS46O9pDJi\\\n",
       "obeuGeXRqsJT9a67bhdIG+cf0QMTV6hNm1aaOXO2/vrXv0Z+cahUCHhR6diD2/T0dDVp0sTruJ07\\\n",
       "d0qS6tev73VMvXr1XMY669mzp1JSUjRnzhxNnDjR6xwTJ07UY489Vub5zz77TKmpqV6PAyJp0aJF\\\n",
       "0V4CKjGuP0QT1x+iiesP0ZCXlxftJUClLRnGjRunp6c+rfy3q0hXVZEkFSlDCTrm8ZgiJStBJhJG\\\n",
       "J942W6N3b+B8hbs2t54V6WnS80+UqFfXPN14y0Bt3LhR48ePZwM2hA0BLyode8Dbpk0bn99Mjx8/\\\n",
       "LklKS/O+12h6eunvLe1Vt85SU1N1+eWXa+7cufrxxx/VtGlTj3M8+OCDuueeexyPjx07pnr16qlH\\\n",
       "jx7KyMjw/4aAMCosLNSiRYt0+eWXKzExMdrLQSXD9Ydo4vpDNHH9IZo8/VsG5Ss3N1c33HSDlmxc\\\n",
       "pvyvUqXmoUc14QpsYy34DXkTtADnDbY9gzdXXSZ99WaR+t41QT9sXKfX33jHkSsAoSDgRaVjpv9u\\\n",
       "uPTv319z587Vhx9+qNGjR3scU6VKFVWpUqXM84mJifwffEQN1x+iiesP0cT1h2ji+kM0cM1F186d\\\n",
       "O9Wz3xX66fTfZHybKlUvW4QUbBWvt3C2olXxRiMeDaR618UJqXlj6dt3ijXg3k90QedzNXfeZ2rQ\\\n",
       "oEG4l4hKhlpwVDr2Cl5f/XclqWrVqpKkEye87TVa+ptWSV4rbe3tHXbv3h3wOgEAAAAAFdfSpUvV\\\n",
       "+rw22t7tgIwFdT2Gu3ZF8v7Xnb42XIuUXA/Peco1PY0rD56C6vKo3vUZ7jqpniXNf9FQ1zbbdV6H\\\n",
       "Vlq2bFngJwOcEPCiUsnLy9O2bdsk+a/gtf8GzVc4a3/N22/b5s2bJ0nq06dPgCsFAAAAAFRUL774\\\n",
       "oi6/sodyJ6VKU2pJCTb5a0AQTMib42W89zIm83NUVt6qd/2Gu24femKiNHWsNOGuXPXudZleeuml\\\n",
       "sKwPlRMBLyqVDRs2qKSkRElJSWrRooXPsfYA+NChQx43UZOk7777TpL3auCPPvpIGRkZ6t69ewir\\\n",
       "BgAAAABUBCUlJbr77rt156N/V9HC2tLwLLcRoXaZDU1lC3PLq/eur0R9xF+lBf8s0iMP3qG7775b\\\n",
       "JSUlYT45KgMCXlQq9v67LVu29Ntrqm7dujrvvPMkSW+//XaZ11esWKHdu3erSpUq6t27d5nX169f\\\n",
       "r127dqlXr15KSkoKw+oBAAAAAFZVXFysW265Rc/Nf1nFq+tKF6V6Gek95I1WFW84WTlEDqp6198H\\\n",
       "nSNd3Eb69qViffrBcxo+fLiKi4uDXSIqKQJeVCpm++/ajR07VpI0adIkRzgslVb13n777ZKkO++8\\\n",
       "U5mZmWWOnTNnjqTSjdYAAAAAAJVXYWGhbrrpJr329bsqWdZUOjO6lbq+eApgPT0Xrf66zjz11Q2k\\\n",
       "/67HOb1U7/raWC1oTh9sg2xp+fQSfbV4tgYPHqyioqIInBAVFQEvKhV7SOuv/65d//79dffddys3\\\n",
       "N1fnn3++evXqpWuvvVaNGzfWxo0bdeGFF+rxxx/3eOycOXOUlJTksboXAAAAAFA5FBQU6LrrrtM7\\\n",
       "P8yRsayJVMfMX3j6ruL1VslrlSreYIQ7Eg/XfEFX73r4otQ5TVo2zdDGr9/Wddddp4KCcPeKQEVF\\\n",
       "wItKo7CwUJs2bZJkvoJXkqZMmaJ3331XnTt31qpVq/Tpp5+qbt26mjRpkhYvXqyUlJQyx+zatUsb\\\n",
       "NmxQt27dlJHh/U9oAAAAAAAVV2Fhoa6//np9uGuBtKSpdLpzq8B0+a4tDS6CDDTkDSd/+4zFukCr\\\n",
       "d0NqzeDF6dWkJROlnRs+0A39zqOSF6YkRHsBQHlJTEzUqVOngjp2wIABGjBggOnxtGcAAAAAgMqt\\\n",
       "uLhYgwcP1oc//RHu1ggmgqkmb7FpkTKUoGMhrdGbHJVtdeDpuVhjtj1DxBtkBFi5665GhrRogtRt\\\n",
       "9PcaPKCb3nh/qeLj48O2PFQ8VPACETBnzhzZbDb169cv2ksBAAAAAJSzkpISDR8+XO+unyd93sRP\\\n",
       "uOuvQ2zgcWQgVbyx2KbBTJAcSF9dM8JavRuKP5ob20Pedd+t1IjB/VRSUhKhE6IiIOAFwuzQoUNa\\\n",
       "sWKFOnbsqOzs7GgvBwAAAABQzkaNGqXXV/xHxhfnSqfXkv/IMriQ11sv3vJiZqO1WNiMLVgBh7sn\\\n",
       "FFr1rtuHVaua9MVEQ8uXztc/7rzZz8GozAh4gTCrUaOGioqK9PXXX0d7KQAAAACAcvbCCy/o+f83\\\n",
       "QyWft5XqOFfShhryehaODdc8ZZKexpVHH99ghdKewVv1ridBV+4GGO7a1akhfT6hRO+8/bpefG5q\\\n",
       "kCdHRUfACwAAAAAAEAZLly7V3ff9XcUftJTOLLshd2ghr/dWDdGu5HVm9Y3W7LxV73oVxspddw1q\\\n",
       "SR/8Xbr3vnu1bNmyABeGyoCAFxVGVlaWxo0bp6FDh0Z7KQAAAACASmbnzp266tp+KpraRLrIV9/c\\\n",
       "yIS8nli9F69duDZFi0r1bojhrnJKbxedLU25sUjX/KWPdu7cGcRCUJEFs4UjEJOysrI0fvz4aC8D\\\n",
       "AAAAAFDJHD9+XD369lLuoJrSLWcr9M6z6T7mqCZPdbJFylCCjnl4PlkJCrQctVSO/MfRuQr/hmf+\\\n",
       "mDlfKGsKqHo3lGQ8wMtkeDfp+19z1a9PT636Zq3S08v7k0esooIXAAAAAAAgSCUlJRo4eJB21D4s\\\n",
       "PdPyj2f9BW/V5T869SWwTdc8VfIGW8Ubi314zXyS5V69+0flrVcmK3fd/etG6XTbTxp840CVlJQE\\\n",
       "uChUVAS8AAAAAAAAQRo/frzmb1wq493zpATnmMVMdaWvaDLd5ByRFYuBbiR5qt71Gu4GW71rJtz1\\\n",
       "IiFeevcuQ99//akee+yxIBeAioaAFwAAAAAAIAjvvfeeJk6ZrOK5HaXqSR5GhBry+hK9Kt5Y5/6p\\\n",
       "m63eDSjc9SXUyl0/ahRJHw0v1rP/mqz3338/kJWhgiLgBQAAAAAACNDPP/+sm28ZpqI320nNPYeq\\\n",
       "pcxU4gZbyRtYyBss98zR/bF7ZhlMJmpW9GuaVZqCe0vCIxzu2j/cFtnSm4PyNezmofr5559NHIiK\\\n",
       "jIAXAAAAAAAgACUlJRp681DlDz5Tuqp5mGaNfCWv2SrecAt1yzlf3D81UxuwRap6t5zCXburWkk3\\\n",
       "tc/XsJtvph9vJUfACwAAAAAAEIDnnntOq3dvUslT7f94ppq8Ba1/Ckclb+g8hbzuYqlNg79PNdLH\\\n",
       "lxHlyl13k/uV6Jet3+r55583MQkqKgJeAAAAAAAAk3bs2KExD45R/sxOUnpiEDNEIuT1HDCbbdVg\\\n",
       "Jl+sKJutRaR6N9hwN8fPsVJpsOtjLelVpJnX52vMmNHasWOHn8lQURHwAgAAAAAAmFBSUqJhw4ap\\\n",
       "aGgjqWu2hxFmKnml8qzkDbZVg78qXn99eIMVSKOKYNozmOEx3PXWdzeUyl1/TIbM3epIQ9oWadiw\\\n",
       "YbRqqKQIeAEAAAAAAEyYPn26Nu/eroJJbf2MDEfLhuryHndGd9O1aAk0wHX/NMxW74ZFOCp3AzjP\\\n",
       "Uz0KtHvbWj333HMmD0RFQsALAAAAAADgx08//aQHx47VwZkXS+m1TB4V9g6wTgILed0FU8UbSJuG\\\n",
       "QPcniwbTrRm8Ve56+0D8hbu++GnJ4HIOp/OkV5Fm9s3Vgw+OoVVDJUTACwAAAAAA4IO9NYPt5pZS\\\n",
       "1/oBHh2OSl5fx5o7p9lWDYEIti9vJPr5un8SZqp33ZkOd30JNdwN4RxdG0lD29to1VAJEfACAAAA\\\n",
       "AAD48Morr+jH33bqxKROTs/6aqHgzmzLBm/C15PXn0B78ToLVx9eMwLp1euJe/VuQOFupCp3/XGr\\\n",
       "2vVk0qUntPvnbXr11VdNTIiKgoAXAAAAAADAi7y8PI0fP14HJ7eX0pI8jAg06PUlnCGv5ype90re\\\n",
       "QKt43XPKSFTj2gXb4CKY6l3Twh3uBtKSwYT0KtJTHQ5q3LhxysvLM3cQLI+AFwAAAAAAwIspU6ao\\\n",
       "oG6Kiq9p7GdkeYW8gWy8FlxEGkoVrzehVvf6+lQCrWEOuno3EpW7/pio2nU5V450bZNinZGVpKlT\\\n",
       "p4Z4clgFAS8AAAAAAIAHOTk5euqpp3R4UgfJZjNxhNlqXn8tG/z15Q2E/368oVbxxpKwVO+Goy+F\\\n",
       "r03YJHOVu4Gk4k7nstmkSa13a9KkScrJieWvFsKFgBcAAAAAAMCDiRMnqkqnM1XSvbkCC1wDCXp9\\\n",
       "8XZOb/N7C4b9V/K6h7zBxoLOmaTZPcMCFUr/Xb/Vu94qdz19IMGWJZsJdgOs2nV36Zkl6ti0tiZN\\\n",
       "mhTY2mBJBLwAAAAAAABufvvtNz333HM6MKmz07OBVtZGMuQ1O7/n87hX8ZY+572S1z33zPFyv7z5\\\n",
       "bN3gVr1rqjWDWaFU7gYzb6DnkTSp+TZNnz5dv/32m8lJYVUEvAAAAAAAAG7Gjx+vjH6tpXbZHl4N\\\n",
       "JOgNV8uGQOY3tz5PIa8zq/1xfyAdh0Pqu+sr3PUmXC0ZTAS7dufWkvo2z9Bjjz1m7gBYFgEvAAAA\\\n",
       "AACAky1btuitt97S/sc7+hkZSMgbajVvOCp5Q+vHG47N1sxyXmkw3Yj9Ve+WEelw1xezLRkCTdxz\\\n",
       "pSea7debb76prVu3BngwrISAFwAAAAAAwMlDDz2k5sMulxrXMDE60Gpef2FsODdfC64frzNfmaK3\\\n",
       "Ng3BtqY1E1M7jwl2GzrTfXfdhTvcDSTYNRvu5spl3saZ0s3tMvXQQw+ZnABWRMALAAAAAADwh82b\\\n",
       "N2v+/Pla+0gnBdbjNpxtG/y1bPA2p7d2DZ7m/1Mkq3gjtdGaO5eK30Crd92FI9z115Ih3MGujzkf\\\n",
       "abpfn376qbZs2RLAZLASAl4AAAAAAIA/TJ06Vc1vuFyqbQ89Awl5JfNBbyjVvL7OEf6QNxZ78Tq/\\\n",
       "I19RuN+N1XztHmcXTLjri79wN5hg18ec2WnS9a2raerUqQFMCish4AUAAAAAAJCUk5OjN954Q+v+\\\n",
       "3tztFbM9dJ2Fq21DMH15zYa8rnxtuuacN57w8ry/TDLY1g12Zr4C7tW7zsIW7voKYENtyRDGYNfZ\\\n",
       "3xvs0+uvv66cnFiM6xEqAl4AAAAAAABJM2bM0JnntZDR5gwvI6orsLA3XG0bfLVsCCXk9d0Gwler\\\n",
       "Bn9CDXPtgu2zK/lpzWCm10QgbyLUlgzB9NkNQNvTDHWol6VXXnklsANhCQS8AAAAAACg0isuLtZz\\\n",
       "zz2nn//ezuQRkQh6w92yIfCQN5gq3vLmrT1DQNW7zsyGq4G2TpD8h7Fh6rPr0x/h89/rHNJzzz2n\\\n",
       "4uLiICZBLCPgBQAAAAAAld6CBQuUX1yoU1edE+CR4d6ILdwtG8ysz/ucZqp4w/1H/55WE2iDDOfq\\\n",
       "Xb+tGdx5CmWD2UwtXO0YchV41e5hlVlb39NPqejUSS1cuDCAiWAFBLwAAAAAAKDSmzFjhkqGXSgl\\\n",
       "eK9g9S6Y1g1m5/Qk0JYN7vP4DppD2XDN0+v+9hwLlpnq3YD77nrruetJqC0Z/AmiFYOvwDkhTrq5\\\n",
       "QYlmzJgR4KSIdQS8AAAAAACgUtuzZ48+/fRTHbql4x/PpDndAmU26A1H24ZQQl5Pc/05n69WDXZm\\\n",
       "CmHDzcwn5rX3bnmEu+FoyRDmYNfZLacf0ieffKK9e/cGeALEMgJeAAAAAABQqc2aNUtNuneSGpzm\\\n",
       "4dVgw95Ag15f0aW/al5v8/qbx3wlr7cq3hMengsXsxusOVfv+mzN4CzYcNdbkBquXrsRCnbtzkqX\\\n",
       "urVuolmzZgV4IsQyAl4AAAAAAFCpvfXWW9oxrLWJkZGs6JWCD3q9tWwwG5G6zxWcHLf/DRdv7zgg\\\n",
       "ztW7ZjdUcxfJXruBVO166K9rWo40TDv05ptvBnEwYhUBLwAAAAAAqLS2b9+uHTt26FSv5iaPiHRF\\\n",
       "r2RuIzZPPAW9nkJjTz153ecpZaaKt7x4+lRMVe/66iVhdkO1YMJdf1W7gW6eFmyo67aWXlmn9NNP\\\n",
       "P+mnn34KcjLEGgJeAAAAAABQac2bN08Nu50nVU0J4uhgwt5w9eg1GxabPd79fOb78frrxSv9mUva\\\n",
       "s8xIBsQ+w91Ad4kLpiWD2WDXjBCrdT2tJSNB6taioebNmxfEpIhFBLwAAAAAAKDSmjdvnnb1baXA\\\n",
       "Kmw9CTbo9XdOX0FvIC0bzFTyemcPeYuU7Kjk9ZRhurdpMJtj2ldipvWCpzH26l3TfXfdQ1ZPoWy4\\\n",
       "g1378WaFoVrXm77GLwS8FQgBLwAAAAAAqJQOHz6sFStWKL/PuU7Pmg1evYlUVW+kgl5PG685H2+O\\\n",
       "mSreQNhXUd3tsfOKnNszeOSt766ZkDXQcNVMsGv2vMFU7Hqp1vWmT2a+vvzySx0+HGyKjFhCwAsA\\\n",
       "AAAAACql+fPnK7tlU6l+TS8jwhX2mmW2dUMox5vhv1WDryre8uCp967X1gy+wt1QK3fD1Y6hHEJd\\\n",
       "Z2emSC3qZ2vBggWBH4yYkxDtBQAAAFRkR48eVV5eXrSXAT+Ki4slSfv371d8fHyUVwN/UlNTlZmZ\\\n",
       "Ge1lAKgA5s6dq0NXtTY52h6eBhNpOoe8/mpdnUNab+eyB7CekkNP67SHtM4Jovsc7selO71WzXFs\\\n",
       "kTKUoGMeV3VCpe8054/Z7P8bSc4bq7ksxM5fuOvMW7DrSThaMQTbVzcccqWr4g9p7ty5uuGGG8I0\\\n",
       "KaKFgBcAACBCjh49quemTlVhSUm0lwI/4uLi1Lp1a82aNUslfL1iXmJcnO64+25CXgAhKSgo0Pz5\\\n",
       "85V33yMBHukeWQaauNnDXjNNDfyFyv6CXvfjvAW93tJIzyGvXZGSlaB8v0FurnzXHXvjrT2Dp9YM\\\n",
       "PnvvehKpcDca7R/Mcltb35Q8XT5/vgoLC5WYmBimkyAaCHgBAAAiJC8vT4UlJfrLf/+rmgcPRns5\\\n",
       "8KE4OVlr/v1v3TxrluLzPZUCIVb877TT9OE11ygvL4+AF0BIvvzyS8Wnp0jnNgxxJjMVt54EU9Ub\\\n",
       "aNDrKeT1drz5Sl5PVbxmqnUPK5Cuvv75bM0QSuVuLAS74Qh1/aypfbqUmhCnL7/8Ut27dw/DCREt\\\n",
       "BLwAAAARVvPgQWXv3RvtZcCHwpQUSVKtffuUePJklFcDACgPn3zyiQqv7CjF2fvKmkno/Il02Gsm\\\n",
       "6PUU8rofY6aS1zkcLjuvPeS1V/E6rz7UNg2eqn19Ve+6nNwf54/BbNWuVYLdAC/hOJvUp2qhPv74\\\n",
       "YwJei2OTNQAAAAAAUOl8/fXXOnHxOU7PpLvdQhXsBm1mNmbzNa+39Xs6pppca2p9vW/3Rgl/brrm\\\n",
       "vuGamZzVE0/Vvd5WVKZ611PfXfcNzgLtm+trAzN/m6cdlvmN00LYLM3UWny4KPGEvvnmmyBPjFhB\\\n",
       "BS8AAAAAAKhUioqKtG79ehntb/Exyj1aDKXCN5jKXjO9en1V9Ppq2+B+jHN/XTPtGsr24/XHuQ+v\\\n",
       "mZ68vmJxjxur2TmHu+7P2ZlpyeAr2PXF7MdSjpW6vrRPN7R+3ToVFxez0ayFUcELAAAAAAAqla1b\\\n",
       "t8qIs0ln1w3gqHBV+AZa2Zsm/1W9wVb0OnOv5E33MfbP8d6qeN3vh8JTewbbYQ/Vu2ZO6BzAeqp8\\\n",
       "9VZJ66tK1my1biiVurkKqVLXm2YnJRUVauvWreGdGOWKCl4AAAAAAFCprFmzRjXaNtOekCoWw1Hh\\\n",
       "G2hlr7+qXl/zmenP696b172aN0eudbjeK3mde/E6n8nfRmvp3u7/Ee6Wqd51D3fNVu7623jN2zh3\\\n",
       "ZkLdYIQ5yHVwW0+8TWqbUUVr1qxRixYtInRSRBoVvAAAAAAAoFJZs2aNjPZNwjxrqNW9gVT2mq3q\\\n",
       "dRdsNa+vOUureEtvZat4Q+UpDDZVueu+mVqg4W64KnYDEe4q3RwPNw/axxdqzZo1YTopooEKXgAA\\\n",
       "AAAAUKl8t2aN9t7WU7572IYi1OreQCp7nUNe98peb+/PU3/e6m7j3Pvy2sc7V/KWreItUrISlO+Y\\\n",
       "yXl1ZnrvOq/asVpv1buS/8pdX8Gu+1hvYzzN5U0gl1I4q3RDuITbxxdoxnffhW8tKHcEvAAAAAAA\\\n",
       "oNIoLi7WuvXrpfajnJ71VJkaztA3lMA30LDXU/sGb3O4B73+WjY4z1c25C1ShhJ0rMzZ3ds0uPNU\\\n",
       "pZvu5XnbYfned85suOutatddrIa6Ybw82ydLt69by0ZrFkbACwAAAAAAKo2tW7eq2DCkZg38jIxk\\\n",
       "6Bts4Ou+Jk/r8VXR6zxHoEHvYZmt5LVX8dpX4KuRhF01ea7uda7etTmHrc7Lz3V7zj2U9dWX1/11\\\n",
       "u3C2Xwg11A13gbmbZlUko7hY27ZtU/PmzSN7MkQEPXgBAAAAAEClsWbNGmW1PUcKqlKxuodbOKQr\\\n",
       "uB6+/tbgq1evmR69zmM89eWt7va4moqUIak05A1XLunSmsE5s3buV+sp3HXvZ+seCnvqd+urt66f\\\n",
       "XrYuQumna6Jvbjgl2KQ2VeLow2thVPACAAAAAIBKY9OmTSpq3TiMM0ai0jfQCl8zbRzsIa9zQmqm\\\n",
       "dYNzNa9zy4Z0eavkLZJcWjV4qiP2FmNXl+f2DF6rdz21ZPDVjsHXxmmemP1SBlulWw4BroOP1hZt\\\n",
       "bIXatGlT+a0FYUXACwAAAAAAKo09e/boxNmnRfgs4Q59Awl8/YW93lo4eGvd4Kltg3PLBk8hrxyV\\\n",
       "vDnK9/hp5Ery91VIL3BqzWBfao48V906Tyynse4n9XacO39frlgOdH31KPbiDFuJtu/ZE/61oFwQ\\\n",
       "8AIAAAAAgEpj9969KujaQs49Y8tHOENfs4Gv2bDXV9DrqT+vr5BXcu/HK+XrhPw3tLC/Xk1/9t51\\\n",
       "4a1y1869XYP783bBVusG224hUoIIcr3JjpeW/7Y7fBOiXBHwAgAAAACASuO3vXuk7NP/eOTeCMBd\\\n",
       "pANgb5FnoKmgc+BrJux1P4enql73cNjTBmu+Pz97q4YcpyO8veN0t/+V3Kp37cvNdbrvqSWDr3YM\\\n",
       "nr6cvj7qWAh0wxji+pIdL+397bfyORnCjoAXAAAAAABUGvv37pPq1DI5OloBcCjVvqFW93qr6nWv\\\n",
       "6HU+1rma1/5c6f0ixzP5SpOnGt+y7NW7XsNdTy0ZctweO3M/UbhC3XCGueUU5HpTJ17au39/dBeB\\\n",
       "oBHwAgAAAACASuHkyZPKPXxYyq4Zphl9BcDhDn+DDX3NBL6e+u+6V/V6at3gvAmb5Bry/vlckTKU\\\n",
       "4KNNQ5bTffsnmpAv19DTuXLX/th9yc5vLRKhbjgC3SgHud5kx0s5x44rPz9fycnJ0V4OAkTACwAA\\\n",
       "AAAAKoV9+/bJFh8vo2aNcjhbeVT/BtPiwVfg66+q1xv3oNd53nqSclWkY44qXvsqMt3OnC63jdUk\\\n",
       "6Ven5RyW53YM3oLdUELdUMLcWAxx/byfmoYUZ7Np3759atCgQUinWr16tcaNG6dVq1apsLBQrVq1\\\n",
       "0j333KMBAwaENC+8I+AFAAAAAACVwt69e5VSq6by4uKivRRFtvo3kGpfb4Gvr7DXU59eb3PnqjTg\\\n",
       "zZAknVC+16NcPhHn1gzubRncg10z1bqRCHSjHeSGsUVEvE2qlZKsvXv3hhTwLlmyRD179lRycrKu\\\n",
       "v/56Va1aVf/973913XXXaffu3br33nvDt2g4EPACAAAAAIBKYe/evYp3bLAWyyJR/Ws29PUU+PoK\\\n",
       "cu2NF5w3YnM/Pl1Suoq021HF6zxjutORiXv1Z7hrr961V+4GWrHrLdQNNBgt7yA33Bu1mZSdmKC9\\\n",
       "e/cGfXxRUZFGjBihuLg4LV++XG3btpUkPfroo+rYsaPGjh2ra6+9VmeeeWaYVgy7WPiVFQAAAAAA\\\n",
       "gCTp/fffl81m83urX79+wHPv3btXRp06+jNSDOQWS6r5uZlV3cPNnafPwXl82h+3ek7PpTvdryep\\\n",
       "/h/3qylfp7sU5zq/o/QC/Rnu5qo0vN2t0qDXOdw97HTLcbrlut3k9nqOfIenJ7zcwsHTOrzdoqSO\\\n",
       "jJAC3sWLF2vHjh0aOHCgI9yVpMzMTI0dO1YFBQV67bXXwrBSuKOCFwAAAAAAxIyaNWtqyJAheu21\\\n",
       "19S5c2f16NHD8drnn3+ulStX6qabblLPnj0DnvvIkSMqzMoIcmWhhrxmd/IKh1AqgP1V+pr9HOxV\\\n",
       "vc7q/zHbAZdGD/bVJu7Vn5W7zlW77q0YPFXyelqqN+GsyI1iIBtu1YqLdOTIkaCPX7p0qSS5/Ddr\\\n",
       "Z//vddmyZUHPD+8IeAEAAAAAQMzo2rWrduzYoddee02DBw/WyJEjHa9t3LhRkvR///d/QfUJLSoq\\\n",
       "kpEYrSgklIA43OFwoAGwr9DX0/uyh7v2GDfd6bkc5et07dYBx+g0/VG9a6/WPfzH/9qrdZ1P5/5R\\\n",
       "+KvIDUYFCm0DkWCUqKioKOjjt2/fLklq0qRJmddq166t9PR0xxiEFwEvAAAAAACIKRs2bJAktW7d\\\n",
       "2uX59evXKzMzM+hNoIqKilQStYA3FOVdPWwmADa7wZpUNujdoSLN129/vHpGgZT4i0pD3Q0qG+w6\\\n",
       "L989fA0kxK1IwW1u7bBPmaCjIQW8R48elVTaksGTjIwMxxiElxW/qwEAAAAAgArs+++/l81mU6tW\\\n",
       "rRzPHTt2TDt37tRFF10U9LxFRUUqSaiMUUi4A2JvAbD9eXs6W12lbRmcy293S5KKdLG+1AoNk5S4\\\n",
       "RtJXfwzbrT9DXedA1luQG83QNgIhazQlSiosLIz2MhCEyvhdDQAAAAAAxLDvv/9eDRs2VNWqVR3P\\\n",
       "rV+/XoZhqE2bNkHPW1RUpLi4OFUpDL5KsXJKDnB8tttj577HLSUdkdRDtlPnSZJOLUqRVqo0F877\\\n",
       "Y5ivNsF2ubUCXFeYpUT39OH2cf7/lPif/2jSpElBHW+v3PVWpXvs2DFVqxbIJoAwi4AXAAAAAADE\\\n",
       "jF9//VWHDx9Wt27dXJ5ft26dJIUU8EpSz537NOLTb0OaA+HSUZL0RYeZUocoLwU6OXy4EkM43t57\\\n",
       "d/v27Wrfvr3La/v27VNubq46duwYwhngDQEvAAAAAACIGb7670qhBbwJCQlaVO8MLe7dM+g5Kp38\\\n",
       "+MDGH3F7bK/EzZX0+x+Pd0v6RuqwpkD3zvxclw1LUdLJzU4DTsi1hNdbD2H3k5W3YHdxi03XFOQr\\\n",
       "85Zbgj6+S5cumjhxoj777DNdf/31Lq8tXLjQMQbhR8ALAAAAAABixvfffy+pbJC7efNmSVKLFi2C\\\n",
       "njshIUElJYYKEkOpU7SYkwEGtO7ckyNvrRPce+F66qH7q6QdklZI2i3VOlX6UtHJbko7mSDJUGk7\\\n",
       "h8MqbfNgb8Zr7yHsfpJUs+/Cx8JDEc1YLdCN8/wrVrESQ/hv49JLL1XDhg319ttv6+6771bbtm0l\\\n",
       "lbZsmDBhgpKSkjR48OAwrRbOCHgBAAAAAEDMsFfwuge8OTml4d7q1avVqlUrVa9ePeC5ExISFGe1\\\n",
       "TaRCDWgDZSYH9bSxWa6H10/IdcO03X/+b8YROXrY5krKVFuVbsq2Q6VJsH3C6k4Tpst8sGl2Yzh3\\\n",
       "kQiCIyHUjfPKKkoqVEIImxAmJCTolVdeUc+ePXXJJZfo+uuvV9WqVfXf//5Xv/zyi55++mk1aNAg\\\n",
       "fAuGAwEvAAAAAACIGRs2bFBGRkaZIGjQoEF65pln9Je//EWffPKJOnfuHPDcCQkJskUj4C3vkNaX\\\n",
       "QPNLT2GunbdQ1/7YuYp3t0pz2xwpKbc0brXX3+6UlKDqqqUclb5S7Y8D7IFuNQ8Lz1Vp+Ottwd4C\\\n",
       "UH8BcSCbgFklDDanKM4WUsArSd26ddOKFSs0btw4vfvuuyosLFSrVq301FNP6brrrgvTSuGOgBcA\\\n",
       "AAAAAMSMbdu2eXx+/PjxGj9+fEhzZ2VlKfHIEZ0K9MBYCmj9CSVz9BXmSmWzUfcWDM7P2cPdw073\\\n",
       "/6jeTS5yjWbthb6nqY7iVV2lSbD9jdgreN2rd50re50X5zyzpzcUbPDrScWqCj6cYFNWVlbI83Ts\\\n",
       "2FHz588PfUEwjYAXAAAAAABUCtnZ2bL9vtdaga27cGWF/sJcyXPm6SnUdX7euWrXOdz9I7NN+mNO\\\n",
       "55j1sKSqkg4qVadJile6pEb6MyG2nyCQtgT+KnzdhTP4dWeNquA9thJlZ2dH7fwIHgEvAAAAAACo\\\n",
       "FLKzs1W8b2+0l+FbJPI9M2Gu5D/QtfMW7Do/dg53c/98nFzkPe4sjXBTleYxmHWv4HVv3WA/xlOL\\\n",
       "BvfKX09n9iaSwa8n0asK3lt0ioDXogh4AQAAAABApZCdna2T+/dLxcVSfBSreCNZpGk2zJW8Z5Te\\\n",
       "5vAV7NqfOyzXsNcp5LX33q2usi0a7HFt6aHVlVbm5Iflv4L3sDy3aHA/zv2Nu4e+Zj7E8g5+3YW3\\\n",
       "KrhYhvbnnyDgtSgCXgAAAAAAUClkZ2fLKC6WDh6UatWK3InK46/sAwly7fxlj2ardd3nc+6k4Dw2\\\n",
       "1/W15CLfp3eOZ4uV/Ec/Xk/s7Rec2zbYI2L7TFLZql47b9W9doFW+Xqb2115hb/u/IfB/1OhSgxD\\\n",
       "tWvXLof1INwIeAEAAAAAQKWQnJys9GrVlLtvb+gBb3m2Sg0mzJXM5Yn+Ql1PY9zbMTg/72WTtSSn\\\n",
       "tdgjUOfYMcftf6VUJUtuIW+OPIeV3oJeyXtVr/tqnN+EJ8FU+bqLdtWvd3tVoOpVM5ScnBztpSAI\\\n",
       "BLwAAAAAAKDSqJWdrdy9e6Q2bX0PjNZeV8GGuZL5nNBMCwZPYz0Fu4fdXnO+/8dr9nDX3p7B3RHJ\\\n",
       "0ZLBHsfmSvozavR0lL1lg/Nmau5Br/2szgv1FfbKw/HehFLl6+2c7sov+N2jQmVHsqodEUXACwAA\\\n",
       "AAAAKo262dnasW9v9AJcu1CCXGfBVuna+Qt13c/hvIma8+vulbtux/prz+B++uqS8h1VvPl/vOK8\\\n",
       "0Zp7JW+gQa8UnspeZ+Go8vW1BmfhDX/3qlDZdc8K65woPwS8AAAAAACg0qiXna2kXXtVUJ4nDVeY\\\n",
       "K4VepWtnJth1P597uOu+FufHbtW77tw3UXMeVk3eWjU4B7f2BVWTazWv9Gd/Xslc0Gs/xnled/76\\\n",
       "9noSzipfd+Gt+t2rQmXXqxv8chBVBLwAAAAAAKDSqFOnjtL2/Ra5gDecYa4UWF4XTKjr7ThPwa5U\\\n",
       "NtzN8fLY6bnkoj/bM6TLc+zp7LDK1uf+uemaPeR13mjNOeSVylbzSt6DXuc3Zedtcza7YKp73ef2\\\n",
       "NX8oggt+f48rUp06dcK/HJQLAl4AAAAAAFBptGjRQglLXgzPZJHI5wItwDSzhmCDXecx7i0ZnF9z\\\n",
       "fuwUAHur3jXLtYo3z0TIa1+oezWv82zOr9kFW9VrF2zgG8kKX3e+2z1sSCzQ7S1aROjciDQCXgAA\\\n",
       "AAAAUGm0b99eR35YLxUXS/Hx5g+MVO4WbAgabLWut2O9BbuS53DX/bGnzdgUWO9d92nssWvpdKUh\\\n",
       "bylvIa8z94pdT20b3BZrqqrXfZWeBNPOwdN5zJwrdEVK1YaSE2rfvn3Ez4XIIOAFAAAAAACVRrNm\\\n",
       "zRRvs6nwp63S2V4qFiOZqUUq0JV8h7q+5vDWjkHyXbnrfoyXjevs7RlC5brpmplKXsl3Na/9dclz\\\n",
       "Va+3nfjKK+x1P5fZcwZmq/IUl5Cgs88+O6zzovwQ8AIAAAAAgEojPj5e7dq21VffrykNeCNdIBlK\\\n",
       "m4JA1hZIGwbJ87q8Ve06j3dvy+Bl3qTcstW7vpoEHPYwxv5c9T+mtb9W2qrBV8gruQa07m0ZzAa9\\\n",
       "vip63edyn8+TUMNeT+c0c17f1ui42rZrq/hAKtoRU+KivQAAAAAAAIDy1KF9e2WvWxPZtgv2W6By\\\n",
       "nG7+nHC6eZvH29p8jXWv2vVWuev8nNMxgfbe9RSdepsiX6mSSkNeV/bwtLr+DECrub3uHjF7qo71\\\n",
       "FkNXU9mt39xVl+v5fUl3u4WiuoebeWuS8tW+Q4cQ14BoIuAFAAAAAACVSvv27WXbvCZ8E+YqNkJd\\\n",
       "5/nceVubmZYM7uPcA9/Dbs/rz+pd9/YMZqJHbx0gPH+0zoGmp6DUPZh1D1S9hbz+gl4zYW8gwhX2\\\n",
       "Op/fXOi7JvEk/XctjhYNAAAAAACgUmnfvr0Obbo98I3W7EL563q7QKuHg+2vKwUe7LofE0C461y9\\\n",
       "6y8CNeOwh3ny/9hw7c9WDc6c2zU4L9RMT11/G7W5c+/3621eT3P74h7yhuOCkzy1diiWofWnDhPw\\\n",
       "WhwVvAAAAAAAoFJp1qyZbIYh7dpm7oBQK3TtAqnUlcxX6/rqsxtM1a6/cDcIzpFlmo9xuV7uu1fx\\\n",
       "lm3V4BxeeqvQNdOywVdFb3m1bwj0/MGqrq1KlBIT1KxZszDPjfJEwAsAAAAAACqVhIQEtWvb1nub\\\n",
       "hnAFulLgoa7kP9R1ntcTX8Guv8pd9/HOc7rP4aV6131ztVDZTxNYyOvMPeQNNui1j/fGTNDrPH+o\\\n",
       "YW/oge8a2xE2WKsACHgBAAAAAEClc/755ytt3ZelD8IZ6ErBhbpS+Qe7oVTu+gqG9WfMGUyE6X76\\\n",
       "wDj34/XVa9c9iPUUlvoKec0EvZEOe53XElzYuyItV506dQry3IgVBLwAAAAAAKDSufLKK5X45SfS\\\n",
       "sZLwTBhqqBtKsCt5D6Y9HeOr3677MZ5CXw8bsZmp3vUXYXrKjL29Le9VvO5nCkfIG2zQaz+H2W7E\\\n",
       "5Rv2lsjQx4kH1KdPnyDPh1hBwAsAAAAAACqdiy++WMV5udK2tcFPEulQ1/kc3gRStSuFHu56ODbJ\\\n",
       "T9VzoLWlvgqGfX0U4Qt5ox30+jufGf5bOazRYeWVFOniiy8O4TyIBQS8AAAAAACg0klKSlKvXr2U\\\n",
       "unKu+YNyFHyoK5kPdZ3P5Y2vdhLegt1whLs+WjPYq3dDbc9glnsVrxRIyOurL699fCBtG3wd4yzY\\\n",
       "oDfUT7Ns2Ds3NUe9evVSYmJiiHMj2gh4AQAAAABApdS3b1/V+Gae/4HBBrp25Rnsmqnatc/jfmwg\\\n",
       "TFbvhsJ9UzVfVbzOIW/wPAWvgVbz2o8xG/RGL+ydV+OE+vbtG+JciAUEvAAAAAAAoFLq1auX9m79\\\n",
       "Qdr3a9kXQ6nUlQJrw+B8Pl98hanejg003HUOkN3XZKJ6t7x5+kjKVvH62njNX8sGT8f5Ot7Mce4C\\\n",
       "DXqdzx1c2PuLcrVp7y5dccUVQR2P2ELACwAAAAAAKqVq1arpoosuUvJXH5c+Ud6hrvM5fQm2atdT\\\n",
       "Swb31gtm36uPjdWcubdnCLT/rtlleOom4b1Vgz+eQl6z1bz248MZ9EY+7P04eb8uvvhiVasW6LkQ\\\n",
       "iwh4AQAAAABApXXVVVepwddzy68Fg2Q+SA4m2JXMVe16O5/z/J7m8zCPmepde/SY5vbY31Lc2zQ4\\\n",
       "8/fx+e7H6x64mg1HfQW1/uYIJO4ONng1F/TOPfOkrrrqqiDPgVhDwAsAAAAAACqtq666Sj9/vUTK\\\n",
       "Ox7YgZGq1pV8B7v2ebwx25LBW1sGf+uKEPtyfHSBcPD1FvOV6qMfr3vw6S/k9VXJG+lqXufzBxP2\\\n",
       "eq/qPaYCLfn5e/rvViAEvAAAAAAAoNJq0qSJGjVqpCrr5ps7INBQ185shbC/ENVX1a6/lgxmmOy7\\\n",
       "a6Y9Qywo26oh0JBX8h6whiPoDTTsDYbrWuZX2a/GjRurUaNGQc6HWEPACwAAAAAAKrVBgwap0cqZ\\\n",
       "vgcFE+wG0tPXTNWu2V67/tbkfl5vvLRmcA53y3NzNX9tGpxfD6wfbyghrz9m4u7yreqd2ShXN954\\\n",
       "YxDHI1YR8AIAAAAAgErt5ptv1vZVi6X9u1xfCKYNgxR4qBtMsGtmXn/zeBpjZyI0dg53A9mSLFDe\\\n",
       "cu1AeO/H6423kDfQlg32ucwGvYEIPOjdqaNasn2dbr755gDPhVhGwAsAAAAAACq1OnXqqHfv3qqx\\\n",
       "5NXgQ10psDDWTOsEf712g91MzdM4X+fyUr3riacYM9iWDWbfipkq3rI8tWowu/FaMC0b7POZ2Ygt\\\n",
       "ckHvqzV26sorr1R2dnaA50AsI+AFAAAAAACV3ogRIxT3+UypOIieA4EGu2b67AbSa9d5bjNz+Qt3\\\n",
       "vbRm8CbY5gXBCHQvON+tGsxW8gbassFfQBudoLdIJZoVt1kjRowIcF7EOgJeAAAAAABQ6V1xxRVK\\\n",
       "TohXlXXzzB9UnsGumfk9zedvnK9w1020eu9647xUsx+buU3XwrHxWbgaVAS6GZvkrU/v3Cq/KCGl\\\n",
       "inr27BmmtSFWEPACAAAAAIBKLz4+XnfccYcaLp/if3C4g137nL4EU7lrZpwvgY53Ekq86eltmvm4\\\n",
       "zbZqMFfJ66ldQzRaNvhakxl/Br1TavyoO+64Q/Hx8UHMg1hGwAsAAAAAAKDSNg2/fL9atl3ry76Y\\\n",
       "o8ArbINpIuvOX7AbSrgbhupd52jTX1SZ5ud1s5zfitnN1nz345XMB62BhrxSeFo2OM8VeNC73nZK\\\n",
       "3x3ZpeHDhwd8LGIfAS8AAAAAAICk6tWr66abblK7r6b++WQwbRMCqdoNZ0sG+5xmxvoLdwPYWC2S\\\n",
       "Qjm1r2PLVvF64i1M9RXyBlvNa583MkHvlNobNXjwYFWvHuyWd4hlBLwAAAAAAAB/uPvuu7V5/jvS\\\n",
       "kX2RC3al8LdkMDOnt3E+wl13gfbeDWec6GvfOW9jAm/VEGolrz9mQtlA2zb4nnOvjuv/HV6tu+++\\\n",
       "O4B5YSUEvAAAAAAAAH9o3ry5evXqpXMXPm7+oECD3WBbMtjP5W1eM+sKMLT2Vb3rrT1DuLYX8yXY\\\n",
       "yl7/Ia8n4azk9TWf+9zhCXofr/WdevfurXPOOSeA+WAlBLwAAAAAAABOnnzySW3+ZKZ04Cf/g8MV\\\n",
       "7Er+g91wV+56OmcU2zGEwmwVrzmBBKu+xvoKeSXz1bzBB70/6ZBmHf1KTz75ZABzwGoIeAEAAAAA\\\n",
       "AJycc845GjRokGp9/oj3QeHus2t2tzBP83sShqDWvXo30PYMgTLzMTmPCWcVr+d2De68BbK+Qlgz\\\n",
       "IW/kgt6Ha32rG2+8Uc2aNQvgWFgNAS8AAAAAAICb8ePH69jqj6Rf17q+EM4+u5K5lgyBVu6a3VQt\\\n",
       "hN673tozhIvz0oIJckOv4pW8h7yBNqHw17IhkHnNf9prtFtzj63XuHHjTB8DayLgBQAAAAAAcFO3\\\n",
       "bl3dcccdOn3Bg6VPBBLsSuGp2vV1vlDCXRPH+eq964tzRBmJ4NcX94/T19vOV6rJfryBtmsIpWVD\\\n",
       "uM5T6sGzV+nOO+9U3bp1w3RexCoCXgAAAAAAAA8efPBBndrxjeLWLzZ/ULhaMkQy3A2x7264Yspw\\\n",
       "CGTpwXetCLSSN9S+vGYrhL0HvV/Ebdfq/ds0ZswYk3PBygh4AQAAAAAAPKhevbpGjx6taovHSIbh\\\n",
       "/4BIt2TwdY4wbo4Wid67aaFP4WB2TzlP3D8mc/14pcDrkf2FvOEOev9kyNCYess1evRoVa9e3nXU\\\n",
       "iAYCXgAAAAAAAC/+/ve/K+n4b4r/4b/eB5VX1W6glbvlUL0ba/FhIG0awsNXCOvv0zFTCx14Ne9/\\\n",
       "4jdqT+Fh3X333SaPhdUR8AIAAAAAAHiRmpqq8ePH67TFD0inTri+aDbYlUILd8N1nL81KDLVu+Hg\\\n",
       "620G+tH5q+KVfPXjDWe7Bim8Ia+Uq1SNPu0LjR8/XqmpZd8XKiYCXgAAAAAAAB+GDx+upg3qKm2R\\\n",
       "Uz/TQILd8qzctR/jaR2BnDcIwTUU8M5EHm3qODNfKk8hb/iEK+T1/wmPSftQ9c4+S7fccouZhaGC\\\n",
       "IOAFAAAAAADwIS4uTjNnzpSxepb009LwVe1K4a/cDaEngb/q3UDaM0S6dUOorRfMfOyB9+P1V8kb\\\n",
       "al9e+zk8W6Itmm2s0MyZMxUXR+RXmfDVBgAAAAAA8KNx48aaOGGCTps7TCowEQ+GI9wNR+Wut7WE\\\n",
       "uXo32tzfTuSreCMVYQdXzZurfA1Lf00TJ01Uo0aNIrIyxC4CXgAAAAAAABPuvPNONW9cT0nLx3gf\\\n",
       "ZLYlQ7jbMvhaj4k5Au296x5vmu8SGzs8fZTm+/FKvit5vfFXySuZC3ldzzM66T86s/3ZuuOOO0we\\\n",
       "i4qEgBcAAAAAAMAEe6uGhB9mS7uWlB0QbNPYcDDbd9cD93DXE7ORYySFmm17+ojMzuk95PXGX+Rt\\\n",
       "JuQ1V827WDv1esLXtGaoxPiqAwAAAAAAmNSoUSNNmjRRyZ+5tWow25IhlMrdcPTdNZFo+qvejaRA\\\n",
       "3or72HB1nfDWqsF7P95gKnntx/rjO+TN1UndkvySJj41UQ0bNjQxHyoiAl4AAAAAAIAA3HHHHerY\\\n",
       "/EzFLR1triWDFHy/XX8C6bvrgZnq3VClRf4Uppmt4g2sH68vvjZek0INeR+Ie1MNOjXT7bffHujC\\\n",
       "UIEQ8AIAAAAAAAQgLi5Os2bNVPKW16Vd8/wfEGq4G45N1cyswwv3eNFf/91wbj8WateLcHfNCLwf\\\n",
       "rxnBhbzz9J3eSF6hV2e+SmuGSo6vPgAAAAAAQIAaNmyo2bNmKmHJjVLOZs+D/LVkkIIPd70JINz1\\\n",
       "VL0bzfYMwQimTUOoVbzBhbzhbdewSbt1Y/J0zZw9i9YMIOAFAAAAAAAIxl//+lc9eP/fFb+wr5Tv\\\n",
       "FhsGmzSanSPYlg4BioXN1ZxFsqNEIHNHLuT1v/naIcWpb/xkjXrgHv31r3/1Mx6VAQEvAAAAAABA\\\n",
       "kMaPH69eF7eSbdEAqeSP8tdohbvlUL0bzvYLkeL+1jx9LGbz8XylBtGPN5SQ17dCFWmA7XG16d1J\\\n",
       "48aNC2kuVBwEvAAAAAAAAEGKi4vTO2+/ocbpB6RV98Ze5W6EN1ELLa6MPeGp4pUiVcl7r17U/xoX\\\n",
       "6PW336DvLhy4EgAAAAAAAEKQnp6uhZ9+pPRf3pK2v+J7cKTC3QB2E/NUvetJrLVn8MZM5h1KFa8U\\\n",
       "TD9eKfRKXtfjZ+gTvZO+THM/+1jp6RUtWkcoCHgBAAAAAABCdNZZZ2neR/9Rwtq/SwdWeB5U3uFu\\\n",
       "AOWo4dpcrTxaOJh5W6EULgd6rO+Q1xfzIe+X+l6jEl7Qfz7+QA0aNAjyfKioCHgBAAAAAADCoGvX\\\n",
       "rpo25RnFf3m1lLvL9cVQwl1fAgx3zfbe9VS9G63+uwEUJwc8TziqeH3z96n5D3l3KV/X6DH961/P\\\n",
       "qEuXLkGsARUdAS8AAAAAAECYjBw5Urffcr3iFl8u5e0pfTLQvrnuQj0+QszUn6ZFfBWlwv0Recvb\\\n",
       "w9+qQfL1Se7RAV0WN1I3DB6k2+76m595UFkR8AIAAAAAAITRs88+qyFXXyzb55dKew/4HpyrcmvN\\\n",
       "YLZ6t6Lw9DEEUsUb3lYNgYe8+3VIl9pGqkvvbvr3rKkBrgaVCQEvAAAAAABAGMXFxWnGjBm6vnc7\\\n",
       "6ZvLpIJDwU0Upk3VAhVL7Rm8CaXHbqh8tWoIV8h7UId1mUbq3Iva6+U5MxUXR4QH77g6AAAAAAAA\\\n",
       "wiw+Pl6vvfaa/nJZY+mbyz2HvJFIKQOo3g23cIXA0ehIEWgVb3D9eCUzIe8hHVEP3a6mrc/Wa4vf\\\n",
       "+f/t3X+U1nWd9/HXzDD8kl8ChrCiCGgIaCkm1aYiZgiiUN56Wna3tO52uUXbNS3M2FvcH/dmtXX0\\\n",
       "uHoKV11zy06/RrA7XbqRlNzURUXExFiaTQUtgUBDcIDr/sOVYhl+DM7MNZ/h8ThnznGuua5r3sKX\\\n",
       "AZ585n2lrq7uAD8XBwuBFwAAAKAN1NfX56677sqH3n908tMzkq2/t65hX2sZ2ng1Q9L51jM090O2\\\n",
       "v2saWtPeT/Eme4u8L+XlnJGZGX7+mHzz0e+lS5curTscnZLACwAAANBGunbtmm9961v5o6ljU/PT\\\n",
       "05Mta97ayd02rpP7u55hf15grTSteYp335F3dy/kxUyo+ZMcP2Nc7rrrrnTt2rXFz8HBSeCFVrZu\\\n",
       "3brMnDkzN954Y7VHAQAAoAPo0qVLvv71r+eiC96T2n87LdnSuOc7H+je3UJO7x7oGofW7tqt9Xxv\\\n",
       "bR/v7340GvN8Tq/947z34tNzxx13OLlLiwi8HPQaGxtTU1OTCRMm7PE+TU1N+ed//uecc845GTJk\\\n",
       "SLp165a+fftm5MiROfvss3PdddflueeeS5IMGDAg9957b+bMmZOmpqZ2+r8AAACgI6urq8stt9yS\\\n",
       "WR+fkrplpyQbl+x+p2osn/09zZ3e7ciaa9f7u6ZhT1p6irc1PJhHc0rd/8g5l07PvHnz7NylxQRe\\\n",
       "2Ief//znOemkk3LRRRdl8eLFGT58eD74wQ/mzDPPTJcuXXLfffflqquuysqVK3c+Ztq0adm4cWMW\\\n",
       "LVpUxckBAADoSGpra3PDDTfkxq/8dbqsmJSsveV3H9xX3K3S6d3WeuG0zqAtVjXMyz05u8vH8zf/\\\n",
       "+He5/vrrU1sr1dFyznvDXmzYsCFnnHFGXnjhhVx++eWZM2dO+vff9be31atX56tf/Wre9a537bxt\\\n",
       "+vTpueGGG9LQ0JBJkya199gAAAB0YDNnzsxxxx2Xqeedn1d/+2Qy4svZa6I5gLjblprbv9tcCD6k\\\n",
       "rQd5izak+VPL69O6YXt7uqcuW3a5rSlN+VTm5K5eDfnhD+7Naaed1oqfkYONfxaAvfjSl76UF154\\\n",
       "IVOmTMmXv/zl3eJukgwfPjzXXXdd+vbtu/O20047Lf3798/8+fNTqVTac2QAAAAKcPrpp+fJJx7N\\\n",
       "Mb0Wp+bxs5NtezjCe4Bxt6Wnd0tbz9BSrdXB93aKd39P8q7L+pxdc0EeOPbhPLr8UXGXt0zghb1Y\\\n",
       "uHBhkuTUU09t0ePq6uoyderUrFmzJo888khbjAYAAEDhjj766Dz27w9l6oQ+OWTtKcmWp1vlefcU\\\n",
       "d1uq1PUMLVllvKd+3lbrkFfkmYyv+0D6Th2Ynyx9KMOGDWujz8TBxIoG2IvXXnstSfLAAw/k05/+\\\n",
       "dIsWnU+fPj133HFHGhoaMn78+D3eb+vWrdm6devO9zdt2pTkjRd28yJttLc3rznXHtXQGa+/7du3\\\n",
       "p7a2Ntu7d09Tjx7VHoe9ePPnx89Tx7e9e/c3fl1t395pvl50xq9/lMN1V329evVKQ8N3Mnfu3Hzx\\\n",
       "S+/JlrfdmfQ5940PtvJqhs54evfVNL8yolqfc0t6pns2N/uxhizKR7t8PH959V/mmmuusW+XVlNT\\\n",
       "8f3jHOQaGxtz9NFH5/TTT8/ixYt3+disWbNy0003JXnjX1YvuOCCvP/978973vOe9Oq1999CNm/e\\\n",
       "nIEDB+aoo47Kz372sz3eb+7cubn22mt3u/0b3/hGevbc87d3AAAAvFWbN2/OjBkzsnHjxvTp06fa\\\n",
       "4xz0vv3tb+eiiz6WLYf8aXYc9oVk017+3tkO6xmaO8G7p4n2dwfv79+vrkdTzvjm/82jfzQl21+r\\\n",
       "3+fzJc3Pur87gfd03z0974E8T5LdAu8reSVX1c7Jv3S/K7fefmsuuOCCvTwaWk7g5aC3t8C7cePG\\\n",
       "fPSjH83dd9+9y+319fWZOHFiZs2alXPPPXePzz1t2rTMnz8/K1euzLHHHtvsfZo7wTt06NC8/PLL\\\n",
       "/oBFu2tqasrChQtz1llnpb6+ft8PgFbUGa+/l156Kbfddlsuvu22DHrxxWqPw1409eiRhbfemrM+\\\n",
       "9rHU/9d38NAxvXT44bnt4otz8cUXZ9CgQdUep1V0xq9/lGPTpk0ZOHCgwNuBrF69Oh/72MeybPl/\\\n",
       "5je1tybdz9j9TgcQd5OWBd6Whs2DLfDu7bmS30XeRVmcP+s3K8PeMSz/dOs/Zfjw4Xt5FBwYKxpg\\\n",
       "L/r27ZuGhob8/Oc/z/e+97386Ec/ykMPPZTNmzfnvvvuy3333Zcrr7wyX/ziF5t9/PTp0zN//vx8\\\n",
       "//vfz+zZs5u9T7du3dKtW7fdbq+vr/cHfKrG9Uc1dabrr66uLjt27Ejdli2iYSHqX3vNz1UHV7dl\\\n",
       "yxu/rurqOs3Xijd1pq9/lMM11/EMHz48ixYtyk033ZTZs8/Ntu0fzes9rktq/ysnHuB+3bZcz9AR\\\n",
       "d/WuT+vMtbfn2duqhpezI9cOuTJ3/ObOfP5vPp9LLrnESgbajCsL9sMxxxyT2bNnZ+HChdmwYUPu\\\n",
       "ueeejB49OknyD//wD/mP//iPZh935JFHJkmee+65dpsVAACAstXW1ubSSy/Nk08uy7uPfyoDm05I\\\n",
       "tize5+Na68XVOoK2epGzPf0Q7W3dcUv9OPfn3QOOz9PHPJNlTy7LpZdeKu7Splxd0EJdu3bNOeec\\\n",
       "k1tvvTVJUqlUsnz58mbvu2DBgiTJ1KlT220+AAAAOocRI0bk/vvvz//+q8vTc/PUHLL50qTS8oq7\\\n",
       "p9O7LdWSFzNrbj1DW2nrrr232PzqLv/9aj51yKxc2PPcXDH3iixatCgjRoxo4+lA4IUDNnTo0J3/\\\n",
       "vacXXLv77rvTp0+fTJw4sb3GAgAAoBOpra3NZZddliefXJaTxjyZQT1OSN2O7yT/7SWVDuT07oHs\\\n",
       "ne3MDvQUbyWVfK/u23l3vxPyzLinnNql3bnSoBn789qDDQ0NSZLevXvnve99724ff+KJJ9LY2JjJ\\\n",
       "kyena9eurT0iAAAAB5ERI0Zk8eLF+Zu//mzedsgnM6z/+NTuWJTkwF5Y7WCwp5O3B3Lid0/P9WDt\\\n",
       "/8tpA07J7Lf9Ra7+wmdz//33O7VLuxN4oRmf+9znMnPmzKxYsWK3j7322mu58cYbc8UVVyRJPv/5\\\n",
       "z6dnz5673e/NADx9+vS2HBUAAICDRG1tbT7xiU9k1apV+fM/+1B613wobx88KZU81uLnao0XV6uG\\\n",
       "1tyV+1Y8mcfyR2/7QP5n7/Nz4ZXnZ9WqVfnEJz7h1C5V4aqDZixZsiRf/epXM3bs2AwfPjzTpk3L\\\n",
       "jBkzMmHChBxxxBG57LLLkiTXX399Lrnkkmafo6GhIV27ds2UKVPac3QAAAA6uZ49e+aqq67K6tWr\\\n",
       "c97Ud6RL/fsy6rgPJ1m1y/0O5PTuntYz7Gn/bmdb57C3gLw+yS+yKv9r0Iczrcf78q6LTszq1atz\\\n",
       "1VVXNXvwC9qLwAvN+NrXvpbrr78+5513Xnr06JElS5bk29/+dpYvX55jjz02c+bMycqVK/PJT36y\\\n",
       "2cc3NjZm2bJlOeOMM9KnT592nh4AAICDQf/+/fOFL3whzz77bE4Z3zu1XY7P8SdckkplbbVHa3d7\\\n",
       "WrvQWmsafp21+T+DLskZ3Y/PgHN759lnn811112X/v07W+KmRF2qPQB0RKNGjcqoUaP2GHD3xXoG\\\n",
       "AAAA2ssRRxyRefPm5YorrsjnPve5rHh6eAb2/3B+s/YvUlt55273L3U9Q3vZkN/9GD1d83i+c+IN\\\n",
       "aXj6rkz5wyl5/O8ez6hRo6o5HuzGCV5oAw0NDampqcm0adOqPQoAAAAHiVGjRuW73/1uli5dmqnn\\\n",
       "dc+OHn+YPxh1eo485nupZN/7GpxFfcO2bMt93b6Xj486LR/p8b70O6V7HnvssXz3u98Vd+mQBF5o\\\n",
       "ZevWrcuSJUtyyimnZPDgwdUeBwAAgIPM6NGjc/PNN+e5557LRRefk01bL0/3w47K20/8q/RKY4uf\\\n",
       "b0/7d0v339c0rMkv8i8nzsmHDzsqXxl0eT74sXPz/PPP5+abb85xxx1XlRlhfwi80MoGDBiQbdu2\\\n",
       "5ac//Wm1RwEAAOAg1r9//3zmM5/J6tWrc/vt8zLkyOX5df2x6TN6UgYO/1Z25JU2+byHtMmzHrg9\\\n",
       "7eFNkt9mUxZ1+1auHj0pM+rfnjVHrcgtt8/L6tWr8+lPfzqHHmqhBR2fHbwAAAAAnVhdXV2mTJmS\\\n",
       "KVOmZM2aNbn99ttz553X5qWuH8kxR0/I+v88L7Vbzk1yZIuet6UrHVprBcTv78j9fa9m/04b/yq/\\\n",
       "zCM9FuTfe8/Pv6+/PyOHj8yf/PGf5JsX3+47cSmSwMtBr1+/frnmmmsybNiwao8CAAAAbWrIkCG5\\\n",
       "+uqrc/XVV2fVqlVZsGBB5s//TpYs+cts6z0mPbael66bz03PjEtNO33j96tJejRz+/q0ThTekR15\\\n",
       "Jkvz5DHz829bFuTZtSty6rtPzQXnnps7zv3HjBw5shU+C1SPwMtBr1+/fpk7d261xwAAAIB2NXLk\\\n",
       "yFx++eW5/PLLs2HDhvzwhz/MggUL8sMfnpW62p45sv/UbF79vtRUxqVnRqUmddUeeb/syPa8kGfy\\\n",
       "fN+laRy4JD9df0+27ticyeMmZ855s3P22WdbvUCnIvACAAAAHOQOPfTQzJgxIzNmzEhTU1MefPDB\\\n",
       "3HPPPXn44a/m8cefSGVHMmTAO3NIZVy2vzwu3ZvGpV9GpbbKaWl7tmVtfpb/zNI83/Wx/Hrg0jy7\\\n",
       "7onU1CbvHPPOjB8/Pn8x9c6ceuqpqa+vr+qs0FYEXgAAAAB2qq+vz8SJEzNx4sQkyfbt2/PMM89k\\\n",
       "6dKl//U2L48/fklWNFUyuN8702vbCclv/yBdXh+cbhmcQzMkPTI43XJYat/iqd8d2Z7f5tfZlLXZ\\\n",
       "lDXZlLV5JWtTOfSFvNBlWVb/Zllq62py4kknZtzJ4zJu3J9n3LhxGTVqVOrqyjhxDG+VwAsAAADA\\\n",
       "HtXV1WXMmDEZM2ZMPvKRjyR5I/quXLkyS5cuzYoVK7Jmzc+zdu0DWbt2bZ755dpsfGV9amvq0rv7\\\n",
       "23JIl8HpXhmSntsOTc2OLqnZUZ/s6JLaptqs+lpjnt9+b+q67EiltimV2m15vcuG/LZmTTZtW5tN\\\n",
       "W36V7ZXt6de7fw4fNDhDjhicPxg6OEOGDMmfjrkk48aNy9vf/nYxl4OawAsAAABAi9TV1WX06NEZ\\\n",
       "PXp0sx/fsmVLXnzxxaxdu3bn229+85ts27Zt51tTU1OSt+f4E+rTpUuXnW/9+vXL4MGDd74dfvjh\\\n",
       "6d69e/v+D0JBBF4AAAAAWlX37t0zbNiwDBs2rNqjQKdXW+0BAAAAAAA4MAIvAAAAAEChBF4AAAAA\\\n",
       "gEIJvAAAAAC0ia985SsZM2ZMevXqlX79+mXixIl5+OGHqz0WdCoCLwAAAABt4qijjsqXv/zlLFu2\\\n",
       "LA899FBGjhyZSZMmZd26ddUeDToNgRcAAACANvGhD30okyZNyogRIzJ69Oh86UtfysaNG/PUU08l\\\n",
       "SUaMGJGamppm3/71X/+1ytNDGQReAAAAANrc66+/nq997Ws59NBDc/zxxydJ7rrrriTJo48+mrVr\\\n",
       "1+5c3/Doo4/mzDPPrNqsUJIu1R4AAAAAgM7rwQcfzOTJk/Paa6/l8MMPz8KFC9O/f/8kya9+9av0\\\n",
       "6tUr48aNS01NTR555JFd3gf2zQleAAAAANrMySefnCeeeCIPPfRQJk+enAsvvDAvv/xykmT58uUZ\\\n",
       "M2bMzpj75JNPZuzYseIutIDACwAAAECb6dGjR0aOHJnx48fnlltuSW1tbW677bYkyVNPPbVzXUOS\\\n",
       "LFu2bJf3gX0TeAEAAABoN5VKJVu3bk3yxgnesWPH7vzY8uXLBV5oITt4AQAAAGgTs2fPznnnnZcj\\\n",
       "jjgi69evz0033ZTnn38+559/frZt25ZnnnlmZ9CtVCpZvXp1jjzyyCpPDWVxghcAAACANrFmzZp8\\\n",
       "+MMfzrHHHpspU6bkpZdeyoMPPpjjjjsuzz77bF5//fWdJ3hramoyduzYzJw5M6tWrary5FAOJ3gB\\\n",
       "AAAAaBNf//rX9/ix0aNHp1Kp7HLbY4891tYjQafjBC8AAAAAQKEEXgAAAACAQlnRAAAAAECrq6mp\\\n",
       "aZXn+e9rHIBdCbwAAAAAtDphFtqHFQ0AAAAAtIu///u/z8knn5zevXtn0KBBufDCC9PY2FjtsaBo\\\n",
       "Ai8AAAAA7eLHP/5xLrvssjz88MO59957s379+kyePDnbtm2r9mhQLCsaAAAAAGgX99577y7vz5s3\\\n",
       "L8OHD8/TTz+dE044oUpTQdmc4AUAAACgKjZu3Jgk6d+/f5UngXIJvAAAAAC0u+3bt+fKK6/MlClT\\\n",
       "csQRR1R7HCiWFQ0AAAAAtKtKpZKZM2fml7/8ZX7yk59UexwomsALAAAAQLupVCq55JJL8qMf/SgP\\\n",
       "PPBADjvssGqPBEUTeAEAAABoF5VKJbNmzcoPfvCD/PjHP87QoUOrPRIUT+AFAAAAoF3MmjUr3/zm\\\n",
       "N7NgwYL06NEjL774YpI3XmSta9euVZ4OyiTwAgAAANAubr755iTJqaeeusvt999/fyZMmFCFiaB8\\\n",
       "Ai8AAAAA7aJSqVR7BOh0aqs9AAAAAAAAB0bgBQAAAAAolMALAAAAAFAogRcAAAAAoFACLwAAAABA\\\n",
       "oQReAAAAAIBCCbwAAAAAAIUSeAEAAAAACiXwAgAAAAAUSuAFAAAAACiUwAsAAAAAUCiBFwAAAACg\\\n",
       "UAIvAAAAAEChBF4AAAAAgEIJvAAAAAAAhRJ4AQAAAAAKJfACAAAAABRK4AUAAAAAKJTACwAAAABQ\\\n",
       "KIEXAAAAAKBQAi8AAAAAQKEEXgAAAACAQgm8AAAAAACFEngBAAAAAAol8AIAAAAAFErgBQAAAAAo\\\n",
       "lMALAAAAAFAogRcAAAAAoFACLwAAAABAoQReAAAAAIBCCbwAAAAAAIUSeAEAAAAACiXwAgAAAAAU\\\n",
       "SuAFAAAAACiUwAsAAAAAUCiBFwAAAACgUAIvAAAAAEChBF4AAAAAgEIJvAAAAAAAhRJ4AQAAAAAK\\\n",
       "JfACAAAAABRK4AUAAAAAKJTACwAAAABQKIEXAAAAAKBQAi8AAAAAQKEEXgAAAACAQgm8AAAAAACF\\\n",
       "EngBAAAAAAol8AIAAAAAFErgBQAAAAAolMALAAAAAFAogRcAAAAAoFACLwAAAABAoQReAAAAAIBC\\\n",
       "CbwAAAAAAIXqUu0BAAA6u18PHFjtEdiH7d27J0leOvzw1G3ZUuVp2Bu/ngAAdiXwAgC0kZ49e6a+\\\n",
       "tjbfP//8ao/CPtTW1uaEJLddfHF27NhR7XHYh/ra2vTs2bPaYwAAdAgCLwBAG+nbt29mffKT2bx5\\\n",
       "c7VHYR+2b9+epUuX5uKLL05dXV21x2Efevbsmb59+1Z7DACADkHgBQBoQ3379hWiCtDU1JQkGTRo\\\n",
       "UOrr66s8DQAA7D8vsgYAAAAAUCiBFwAAAACgUAIvAAAAAEChBF4AAAAAgEIJvAAAAAAAhRJ4AQAA\\\n",
       "AAAKJfACAAAAABRK4AUAAAAAKJTACwAAAABQKIEXAAAAAKBQAi8AAAAAQKEEXgAAAACAQgm8AAAA\\\n",
       "AACFEngBAAAAAAol8AIAAAAAFErgBQAAAAAolMALAAAAAFAogRcAAAAAoFACLwAAAABAoQReAAAA\\\n",
       "AIBCCbwAAAAAAIUSeAEAAAAACiXwAgAAAAAUSuAFAAAAACiUwAsAAAAAUCiBFwAAAACgUAIvAAAA\\\n",
       "AEChBF4AAAAAgEIJvAAAAAAAhRJ4AQAAAAAKJfACAAAAABRK4AUAAAAAKJTACwAAAABQKIEXAAAA\\\n",
       "AKBQAi8AAAAAQKEEXgAAAACAQgm8AAAAAACFEngBAAAAAAol8AIAAAAAFErgBQAAAAAolMALAAAA\\\n",
       "AFAogRcAAAAAoFACLwAAAABAoQReaGXr1q3LzJkzc+ONN1Z7FAAAAAA6OYGXDqmxsTE1NTWZMGHC\\\n",
       "LreffPLJqampadHbYYcd1q6zDxgwIPfee2/mzJmTpqamdv3cAAAAABxculR7ANhflUolJ554YsaO\\\n",
       "HbvL7b/4xS/ywAMPpFevXjn//PN3e9yoUaPaa8Sdpk2blhtuuCGLFi3KpEmT2v3zAwAAAHBwEHgp\\\n",
       "Rk1NTebNm7fb7X/7t3+bBx54IOPHj8/tt9/e/oM1Y/r06bnhhhvS0NAg8AIAAADQZqxooHiPP/54\\\n",
       "kuSkk06q8iS/c9ppp6V///6ZP39+KpVKtccBAAAAoJMSeCneY489liQ58cQTqzzJ79TV1WXq1KlZ\\\n",
       "s2ZNHnnkkWqPAwAAAEAnZUUDRduwYUMaGxuTdKwTvMkbaxruuOOONDQ0ZPz48Xu839atW7N169ad\\\n",
       "72/atClJ0tTU5EXaaHdvXnOuParB9Uc1uf6oJtcf1eS6AyhfTcX3j9MBNTY25uijj87pp5+exYsX\\\n",
       "7/F+ixYtyplnnplevXpl48aNqa3tOIfSN2/enIEDB+aoo47Kz372sz3eb+7cubn22mt3u/0b3/hG\\\n",
       "evbs2ZYjAgAAB7nNmzdnxowZ2bhxY/r06VPtcQA4AE7wUrQ39+++4x3v6FBxN0l69uyZs846K/Pn\\\n",
       "z8+zzz6bY489ttn7ffazn82nPvWpne9v2rQpQ4cOzQc+8AF/wKLdNTU1ZeHChTnrrLNSX19f7XE4\\\n",
       "yLj+qCbXH9Xk+qOa3vwOQgDKJfBStLeyf/czn/lM5s+f3+LH3XLLLXnf+963X/edPn165s+fn+9/\\\n",
       "//uZPXt2s/fp1q1bunXrttvt9fX1/oBP1bj+qCbXH9Xk+qOaXH9Ug2sOoHwCL0V78wTvgezfXbNm\\\n",
       "TVauXNnix7366qv7fd8jjzwySfLcc8+1+PMAAAAAwL50rO9phxbYvHnzzkB7ICd477zzzlQqlRa/\\\n",
       "nX322fv9ORYsWJAkmTp1aovnAwAAAIB9EXgp1rJly7Jjx4507do1Y8aMqfY4zbr77rvTp0+fTJw4\\\n",
       "sdqjAAAAANAJCbwU6839u2PHju2Qe6OeeOKJNDY2ZvLkyenatWu1xwEAAACgExJ4KdZb2b/bHhoa\\\n",
       "GpK88UJrAAAAANAWBF6K9eYJ3gPZv9seGhoa0rVr10yZMqXaowAAAADQSQm8FKmpqSkrVqxI0jFP\\\n",
       "8DY2NmbZsmU544wz0qdPn2qPAwAAAEAn1aXaA8CBqK+vz9atW6s9xh5ZzwAAAABAe3CCF9pAQ0ND\\\n",
       "ampqMm3atGqPAgAAAEAnJvBCK1u3bl2WLFmSU045JYMHD672OAAAAAB0YlY0QCsbMGBAtm3bVu0x\\\n",
       "AAAAADgIOMELAAAAAFAoJ3jpkPr165drrrkmw4YNq/YoAAAAANBhCbx0SP369cvcuXOrPQYAAAAA\\\n",
       "dGhWNAAAAAAAFErgBQAAAAAolMALAAAAAFAogRcAAAAAoFACLwAAAABAoQReAAAAAIBCCbwAAAAA\\\n",
       "AIUSeAEAAAAACiXwAgAAAAAUSuAFAAAAACiUwAsAAAAAUCiBFwAAAACgUAIvAAAAAEChBF4AAAAA\\\n",
       "gEIJvAAAAAAAhRJ4AQAAAAAKJfACAAAAABRK4AUAAAAAKJTACwAAAABQKIEXAAAAAKBQAi8AAAAA\\\n",
       "QKEEXgAAAACAQgm8AAAAAACFEngBAAAAAAol8AIAAAAAFErgBQAAAAAolMALAAAAAFAogRcAAAAA\\\n",
       "oFACLwAAAABAoQReAAAAAIBCCbwAAAAAAIUSeAEAAAAACiXwAgAAAAAUSuAFAAAAACiUwAsAAAAA\\\n",
       "UCiBFwAAAACgUAIvAAAAAEChBF4AAAAAgEIJvAAAAAAAhRJ4AQAAAAAKJfACAAAAABRK4AUAAAAA\\\n",
       "KJTACwAAAABQKIEXAAAAAKBQAi8AAAAAQKEEXgAAAACAQgm8AAAAAACFEngBAAAAAAol8AIAAAAA\\\n",
       "FErgBQAAAAAolMALAAAAAFAogRcAAAAAoFACLwAAAABAoQReAAAAAIBCCbwAAAAAAIUSeAEAAAAA\\\n",
       "CiXwAgAAAAAUSuAFAAAAACiUwAsAAAAAUCiBFwAAAACgUAIvAAAAAEChBF4AAAAAgEIJvAAAAAAA\\\n",
       "hRJ4AQAAAAAKJfACAAAAABRK4AUAAAAAKJTACwAAAABQKIEXAAAAAKBQAi8AAAAAQKEEXgAAAACA\\\n",
       "Qgm8AAAAAACFEngBAAAAAAol8AIAAAAAFErgBQAAAAAolMALAAAAAFAogRcAAAAAoFACLwAAAABA\\\n",
       "oQReAAAAAIBCCbwAAAAAAIUSeAEAAAAACiXwAgAAAAAUSuAFAAAAACiUwAsAAAAAUCiBFwAAAACg\\\n",
       "UAIvAAAAAEChBF4AAAAAgEIJvAAAAAAAhRJ4AQAAAAAKJfACAAAAABRK4AUAAAAAKJTACwAAAABQ\\\n",
       "KIEXAAAAAKBQAi8AAAAAQKEEXgAAAACAQgm8AAAAAACFEngBAAAAAAol8AIAAAAAFErgBQAAAAAo\\\n",
       "lMALAAAAAFAogRcAAAAAoFACLwAAAABAoQReAAAAAIBCCbwAAAAAAIUSeAEAAAAACiXwAgAAAAAU\\\n",
       "SuAFAAAAACiUwAsAAAAAUCiBFwAAAACgUAIvAAAAAEChBF4AAAAAgEIJvAAAAAAAhRJ4AQAAAAAK\\\n",
       "JfACAAAAABRK4AUAAAAAKJTACwAAAABQKIEXAAAAAKBQAi8AAAAAQKEEXgAAAACAQgm8AAAAAACF\\\n",
       "EngBAAAAAAol8AIAAAAAFErgBQAAAAAolMALAAAAAFAogRcAAAAAoFACLwAAAABAoQReAAAAAIBC\\\n",
       "CbwAAAAAAIUSeAEAAAAACiXwAgAAAAAUSuAFAAAAACiUwAsAAAAAUCiBFwAAAACgUAIvAAAAAECh\\\n",
       "BF4AAAAAgEIJvAAAAAAAhRJ4AQAAAAAKJfACAAAAABRK4AUAAAAAKJTACwAAAABQKIEXAAAAAKBQ\\\n",
       "Ai8AAAAAQKEEXgAAAACAQnWp9gDAriqVSpJk06ZNVZ6Eg1FTU1M2b96cTZs2pb6+vtrjcJBx/VFN\\\n",
       "rj+qyfVHNb359443/x4CQHkEXuhgXnnllSTJ0KFDqzwJAABwsHjllVfSt2/fao8BwAGoqfhnOuhQ\\\n",
       "duzYkTVr1qR3796pqamp9jgAAEAnVqlU8sorr2TIkCGprbXFEaBEAi8AAAAAQKH88xwAAAAAQKEE\\\n",
       "XgAAAACAQgm8AAAAAACFEngBAAAAAAol8AIAAAAAFErgBQAAAAAolMALAAAAAFAogRcAAAAAoFAC\\\n",
       "LwAAAABAoQReAAAAAIBCCbwAAAAAAIUSeAEAAAAACiXwAgAAAAAUSuAFAAAAACiUwAsAAAAAUCiB\\\n",
       "FwAAAACgUAIvAAAAAEChBF4AAAAAgEIJvAAAAAAAhRJ4AQAAAAAKJfACAAAAABRK4AUAAAAAKJTA\\\n",
       "CwAAAABQKIEXAAAAAKBQAi8AAAAAQKEEXgAAAACAQgm8AAAAAACFEngBAAAAAAol8AIAAAAAFErg\\\n",
       "BQAAAAAolMALAAAAAFAogRcAAAAAoFACLwAAAABAoQReAAAAAIBCCbwAAAAAAIUSeAEAAAAACiXw\\\n",
       "AgAAAAAUSuAFAAAAACiUwAsAAAAAUCiBFwAAAACgUAIvAAAAAEChBF4AAAAAgEIJvAAAAAAAhRJ4\\\n",
       "AQAAAAAKJfACAAAAABRK4AUAAAAAKJTACwAAAABQKIEXAAAAAKBQAi8AAAAAQKEEXgAAAACAQgm8\\\n",
       "AAAAAACFEngBAAAAAAol8AIAAAAAFErgBQAAAAAolMALAAAAAFAogRcAAAAAoFACLwAAAABAoQRe\\\n",
       "AAAAAIBCCbwAAAAAAIUSeAEAAAAACiXwAgAAAAAUSuAFAAAAACiUwAsAAAAAUCiBFwAAAACgUAIv\\\n",
       "AAAAAEChBF4AAAAAgEIJvAAAAAAAhRJ4AQAAAAAKJfACAAAAABRK4AUAAAAAKJTACwAAAABQKIEX\\\n",
       "AAAAAKBQAi8AAAAAQKEEXgAAAACAQgm8AAAAAACFEngBAAAAAAol8AIAAAAAFErgBQAAAAAolMAL\\\n",
       "AAAAAFAogRcAAAAAoFACLwAAAABAoQReAAAAAIBCCbwAAAAAAIUSeAEAAAAACiXwAgAAAAAUSuAF\\\n",
       "AAAAACiUwAsAAAAAUCiBFwAAAACgUAIvAAAAAEChBF4AAAAAgEIJvAAAAAAAhRJ4AQAAAAAKJfAC\\\n",
       "AAAAABRK4AUAAAAAKJTACwAAAABQKIEXAAAAAKBQAi8AAAAAQKH+Pwr9KyOUqjR5AAAAAElFTkSu\\\n",
       "QmCC\\\n",
       "\"\n",
       "  frames[1] = \"data:image/png;base64,iVBORw0KGgoAAAANSUhEUgAABXgAAAPoCAYAAABkvZZOAAAAOnRFWHRTb2Z0d2FyZQBNYXRwbG90\\\n",
       "bGliIHZlcnNpb24zLjEwLjMsIGh0dHBzOi8vbWF0cGxvdGxpYi5vcmcvZiW1igAAAAlwSFlzAAAP\\\n",
       "YQAAD2EBqD+naQAAuglJREFUeJzs3Xl4U2X+/vE7TVvaUtqyCUVABEVkRxDcWRxBEUHFLyqoUAR1\\\n",
       "RBlcZkDc4KfiMjrK5i5FHXXUcURQARc2EVc2URQ3UJQCQqFY2kKant8fNTFJs5xsTU/7fl1XL5vk\\\n",
       "Oc95kp62cveTz2MzDMMQAAAAAAAAAMBykhK9AAAAAAAAAABAZAh4AQAAAAAAAMCiCHgBAAAAAAAA\\\n",
       "wKIIeAEAAAAAAADAogh4AQAAAAAAAMCiCHgBAAAAAAAAwKIIeAEAAAAAAADAogh4AQAAAAAAAMCi\\\n",
       "CHgBAAAAAAAAwKIIeAEAAAAAAADAogh4AQAAAAAAAMCiCHgBAAAAAAAAwKIIeAEAAAAAAADAogh4\\\n",
       "AQAAAAAAAMCiCHgBAAAAAAAAwKIIeAEAAAAAAADAogh4AQAAAAAAAMCiCHgBAAAAAAAAwKIIeAEA\\\n",
       "AAAAAADAogh4AQAAAAAAAMCiCHgBAAAAAAAAwKIIeAEAAAAAAADAogh4AQAAAAAAAMCiCHgBAAAA\\\n",
       "AAAAwKIIeAEAAAAAAADAogh4AQAAAAAAAMCiCHgBAAAAAAAAwKIIeAEAAAAAAADAogh4AQAAAAAA\\\n",
       "AMCiCHgBAAkxbdo02Ww22Ww2TZs2LdHLsaQVK1a4X8N+/fpV+/nnz5/vPv+YMWOq/fw1TaK/Hqh5\\\n",
       "2rRp474mtm3blujlAAAAoJYi4AWAGq5fv37ugMDfR4MGDdS6dWudffbZmjFjhn799ddELxkAUIu9\\\n",
       "//77uuKKK9S+fXvVr19fjRo1UteuXfX3v/9d33zzjaXOv2fPHi1ZskR33XWXhg4dqhYtWnj9jl2x\\\n",
       "YkV8ngQAAEAMJSd6AQCA6BQXF6u4uFjbt2/X0qVLNW3aNN1666264447ZLPZEr08AD48vy8Nw0jg\\\n",
       "SuqmMWPG6Nlnn5Uk5efnU30ehgMHDuiqq67Syy+/7HV/SUmJ9u3bp02bNmnmzJmaPn26brnllhp/\\\n",
       "/lNOOUUfffRRzNcJAABQ3Qh4AcBCTjzxRPXu3dvrvqKiIm3cuFGbNm2SJDkcDk2bNk379+/Xww8/\\\n",
       "nIhlAgBqGYfDoQsuuEDLli1z39e5c2edcMIJKisr0wcffKCCggI5HA5NnTpVDodDd9xxR40+/44d\\\n",
       "O2K2PgAAgEQi4AUACxk8eHDAfrVr1qzRpZdeqp9//lmS9Mgjj2jUqFHq1atXNa4QqLv69etHRS68\\\n",
       "1Ka+u3fddZc7XE1LS1N+fr4uueQS9+OHDx/Wbbfdpn/+85+SKvus9+3bV3379q3R509JSVHnzp11\\\n",
       "4oknuj+6d+8ekzUDAABUF3rwAkAtccopp+iNN97wevv3k08+mcAVAQBqg927d+tf//qX+/Yjjzzi\\\n",
       "Fa5KUmpqqh544AFdfPHFkirbj8SqTUO8zr9w4UIdOHBA69at0xNPPKFx48apW7duMVkzAABAdSLg\\\n",
       "BYBapHv37urXr5/79qpVqxK3GABArfDss8/q4MGDkqT27dvrqquuCjj2gQceUFJS5T8xPvroI61f\\\n",
       "v77Gnr9r165KS0uLen0AAACJRsALALWM51tLzfYX/PrrrzV16lT17t1bzZo1U2pqqpo2bao+ffro\\\n",
       "jjvuCLtP4fLlyzVy5EgdddRRSktLU25urk4//XQ9+uijKikpMT3PmDFj3DuZz58/P+T4+fPnu8eb\\\n",
       "3Tjpiy++0JQpU9SnTx81b95cqampyszM1HHHHaeLL75YzzzzjIqKikLOs3fvXj300EM666yz1KpV\\\n",
       "K6WlpSknJ0cdO3bUhAkT9Pnnn5taj8t3332nSZMmqUOHDu5d4rt376477rhDv/zyS1hzRWLdunUa\\\n",
       "P3682rZtq/T0dDVt2lS9e/fWAw88oMLCwojn/eyzz3TDDTeoe/fuatq0qVJTU9W8eXP17dtX999/\\\n",
       "v/bt2xdyjjZt2ri/zq63wP/yyy+6/fbb1a1bN+Xk5Kh+/frq0KGDrr/+ev3000+m1lZcXKzHH39c\\\n",
       "5557rlq3bq2MjAylpKQoOztbHTp00HnnnacZM2boyy+/9Hv8ihUr3Ovy/EOL72OeXPf5fmzbtk2H\\\n",
       "Dx9W06ZN3feFsxlU37593cfNmjXL9HG++vXr555nxYoVkqSCggJNnz5dPXr0UKNGjZSWlqYOHTpo\\\n",
       "ypQpfq+NX375RVOnTlWPHj3UsGFDNWjQQN27d9eMGTNUWlpqah1ff/21Hn74YV144YU67rjj1KBB\\\n",
       "A6WkpKhp06bq1auXbrjhBm3evDnoHK7rxrXBmiTl5eX5ff19W+EEeh1mzJih3r17q3nz5rLb7crJ\\\n",
       "yfF7Ts9r1eXw4cM64YQT3I8PHjw45Ovw2muvucenpKTo448/DnlMLCxYsMD9uevnciCtW7fWgAED\\\n",
       "3Ldff/11y58/HvxdU8FMmzYt4PXpa9myZbryyivVpUsX5eTkKDk5WRkZGWrZsqVOP/10TZo0SW++\\\n",
       "+aYOHz4cmycDAAASzwAA1Gh9+/Y1JBmSjDvvvDPk+KlTp7rHp6SkBB1bVlZmXH311Ybdbncf4+8j\\\n",
       "PT3dmD17dshzOxwOY+zYsUHn6tixo/HNN98Yd955Z8jnNXr0aPeY/Pz8kOfPz893jx89enTQsfv2\\\n",
       "7TMuvvhiw2azBV2vJKNZs2ZB55ozZ46RnZ0ddA6bzWaMHTvWOHToUMjnMXfuXCMtLS3gXDk5OcbC\\\n",
       "hQuN5cuXu+/r27dvyHnNuvXWW4NeEy1btjQ++uijsF7vwsJCY/jw4SFf65ycHOPVV18NOtdRRx3l\\\n",
       "Hr9161bj9ddfD/r6p6enG2+++WbQOdesWWMceeSRIdfn+nA4HFXmCPb18HzMzMfWrVsNwzCMm266\\\n",
       "yX3fuHHjgj4Hl2+//dZ9TL169Yy9e/eaOs4fz58/y5cvN5YuXWo0btw44LqPOuooY9u2be7jn3nm\\\n",
       "GaNevXoBx3fq1MnYvXt30DX83//9n6nXzGazGZMmTTLKy8v9zuN53YT68P2Z5Ps6LFiwwGjYsGGV\\\n",
       "47KzswOe0/U19fT1118bGRkZ7jGzZs0K+Dps377d65zTp08P+rrFSmlpqZGUlOQ+75o1a0Iec889\\\n",
       "97jHn3rqqZY7v+fXdPny5RGsOjTfayoUM78zi4uLjaFDh5q+zp966qnYPikAAJAwbLIGALWMZ7Vt\\\n",
       "s2bNAo47ePCgBg0apA8//NB9X7t27dSzZ081bNhQhYWF+vDDD7Vjxw6Vlpbq+uuv14EDBzR16tSA\\\n",
       "c15xxRV66aWX3LdzcnLUv39/NW7cWD///LNWrFihzZs3a/DgwRo6dGiUzzRyO3bs0IABA7Rlyxav\\\n",
       "tZ566qnKzc2Vw+HQzz//rLVr1+rAgQMqKysLONekSZM0c+ZM9+0mTZro5JNPVvPmzVVWVqb169fr\\\n",
       "yy+/lGEYmjdvnnbs2KG33nrL/RZiX0888YQmTJjgvp2SkqJ+/frpqKOOUmFhoVasWKHCwkJddNFF\\\n",
       "mjFjRgxeDW9Tp07Vvffe676dkZGhAQMGKDc3Vzt37tSyZcv0yy+/aPDgwZo0aZKpOXfu3KkBAwbo\\\n",
       "66+/dt/XqVMndevWTZmZmdq9e7c++OAD7d27V/v379eIESP0/PPPa9SoUSHnfu+993TNNdfI6XSq\\\n",
       "devWOvnkk5WVlaWtW7dqxYoVKi8vV2lpqUaMGKEvv/xSRx99dJU5tm/frkGDBun333+XVPman3ji\\\n",
       "iTrmmGOUkZGhgwcPatu2bdq4caMOHDhg6jn7OvLII91f17lz57rv9/xae8rKypIkXXXVVXrooYck\\\n",
       "SS+//LIeeeQR1a9fP+i55s2b5/78wgsvVKNGjSJas68NGzZo6tSpKi0tVcuWLXXqqaeqQYMG+vbb\\\n",
       "b/XBBx/IMAz99NNPOuecc7Rp0ya9/PLLuvLKKyVJxx57rHr37q20tDRt2rRJn376qSTpq6++0uWX\\\n",
       "X64lS5YEPK9r48jk5GR17NhRxx57rHJycmS327V792599tln+vXXX2UYhh555BEdOnRIjz76aJV5\\\n",
       "Ro8erb179+r999/XN998I0k688wz1aFDhypje/fuHXA9a9as0bRp0+RwONS4cWOdccYZatKkiXbv\\\n",
       "3h12O4IOHTro4Ycf1tVXXy1J+sc//qH+/furc+fOXuMqKip0+eWXuyvcTz31VN16661hnStSW7Zs\\\n",
       "UUVFhaTKivMePXqEPOaEE05wf+75fW/F81vJZZddpoULF7pvH3PMMe5Ke4fDod9++02bNm2qVZv/\\\n",
       "AQCAPyQ4YAYAhBBOBa/D4TBatWrlHn/RRRcFHHvFFVe4x7Vv395vBVF5ebnx6KOPuivw7HZ7wOqp\\\n",
       "5557zqsy6LrrrjNKSkq8xuzYscMYMGCAIclITU0N+bziUcHrcDiMU0891au6c86cOcbhw4erjD10\\\n",
       "6JCxcOFC4/zzz/c71zPPPOOeJysry3jqqaf8zrNs2TKv6tD777/f73zffvutV+Vu3759je3bt3uN\\\n",
       "KSsrMyZNmlTlNYxFBe/KlSu9Kpovuugio7Cw0GvM/v37jUsuuaTK+QO93k6n0+jfv797XO/evY11\\\n",
       "69ZVGVdaWmpMmzbNff769esbP/74o985Pasi69WrZ9SvX994/vnnjYqKCq9xX375pdfrnpeX53c+\\\n",
       "1+spyTj99NONX3/91e84h8NhrFixwhg1apTfKlGzFdWe3ydmeP4MmDdvXtCx5eXlRm5urnv8+++/\\\n",
       "b+ocZs5dr149IyUlxZg7d67hdDq9xq1YscKoX7++e+yMGTOMzMxMIysry/jvf/9bZd6XX37Zq0p8\\\n",
       "5cqVAdcwZcoU45VXXjGKior8Pl5RUWEsXLjQaNq0qXu+Dz74IOB84f5c8X0dkpOTDZvNZtx1111V\\\n",
       "vt/Lysq8boeq4HU5//zz3eO6dOlSZR7PitTs7Oygc8Xayy+/7D53qHczuHz11Vde13moKu2adn7P\\\n",
       "Y61Swbthwwb345mZmcbbb78dcK4ffvjBuPvuu42FCxdG8QwAAEBNQsALADVcOAHvXXfd5fUP03fe\\\n",
       "ecfvuFWrVrnHtGvXzvjtt9+CzusZnJ599tlVHnc6nV7B8pgxYwLOVVJSYnTt2tVrndUZ8D711FPu\\\n",
       "MSkpKcaqVatCzuvPgQMHjJycHHfQ+fHHHwcdv3nzZnd427hxY+PgwYNVxowcOdK9tk6dOvkd4zJu\\\n",
       "3Div1zAWAe8pp5zinu/MM88M+FZ3p9NpDBw40Ov8gV5vz+D/pJNOqhL6+/IMMa655hq/YzxDM5vN\\\n",
       "ZixevDjgfG+++aZX6OGvtULPnj3dY7777rug6wsmXgHvCy+84B4f6u3mCxcu9Pre9g29w+X580eS\\\n",
       "8fTTTwcce/fdd3uNtdlsQQNmz2v4r3/9a1TrNAzD+Pjjj93zjRgxIuC4aANeScbdd99t6jizAe+e\\\n",
       "PXuMFi1auMdOnDjR/dgnn3xiJCcnux974YUXTJ07Vh599FH3ubt27WrqmL1793q9Xt98842lzm/F\\\n",
       "gHf27Nnux2+99dbYLxgAANRobLIGABZ34MABffDBBxo5cqRuv/129/033HCDzjrrLL/H/Otf/3J/\\\n",
       "/tBDD6lJkyZBzzFmzBj325iXLl2qvXv3ej2+dOlSbd++XZKUnp6uBx98MOBcoR6PN9fb3SXpxhtv\\\n",
       "1Omnnx7RPPPmzdP+/fslSddee6369OkTdPzxxx+v0aNHS6rckM33Len79+/Xa6+95r79wAMPKCMj\\\n",
       "I+B8DzzwQMi36ofj66+/1po1a9y3Z82aJbvd7ndsUlKSZs+eHXSjIxfPa+3xxx9Xenp60PFTpkxx\\\n",
       "b1T10ksvud+aHciQIUN09tlnB3x88ODBat68uaTKTdT8vV3bs+1C06ZNg54vEYYPH+5us/Dhhx96\\\n",
       "tRbx9cwzz7g/Hzt2rKmvkVndunVzt1zw59JLL/W6PWzYMK/NroKNd7VsiEafPn10/PHHS5Lef//9\\\n",
       "qOcLpEWLFpo8eXJM52zcuLGee+4599dr9uzZWrx4sYqLizVq1CiVl5dLkkaNGqWRI0fG9NyhFBcX\\\n",
       "uz8P9f0baJznHFY7v1XU9J9jAAAgvgh4AcBCpk+fXmW39+zsbJ1xxhnu3reNGzfWfffd5xWseSov\\\n",
       "L9e7774rqbLP55AhQ0ydu3///pIkwzC8+vZK0vLly92fDx48WI0bNw4611/+8hcdeeSRps4bSz/9\\\n",
       "9JO796YkXXfddRHP9fbbb7s/Nxu4eIZdq1ev9npszZo1OnTokCTpiCOOCBpaSlLDhg1j2sfY82vY\\\n",
       "s2dPdezYMej49u3b66STTgo6pqCgQBs2bJAkdezYUd26dQu5jrS0NJ188smSpKKiIn355ZdBx//f\\\n",
       "//1f0MdtNpvXef31nmzVqpX788cffzzkGqtbvXr1dMUVV7hve4a4nnbt2qW33npLkmS32zVmzJiY\\\n",
       "ruOiiy4K+njbtm29/ugQarxnn9mtW7eaWsO3336rF198UXfddZduvvlmXX/99bruuuvcH0VFRZIq\\\n",
       "/4ji+qNTrF100UVKTo79NhZnnnmm/v73v0uq/Dmbl5envLw8ff/995KkNm3a+O0tHG+ePchTU1NN\\\n",
       "HVOvXj2v26WlpZY9v1V4/hx77rnnVFJSksDVAACA6sYmawBQi9jtdt1///1Bq+y++OILHTx4UFLl\\\n",
       "ZlJ/+9vfTM392WefuT/3DU48NxZyhXPB2Gw29enTR//73/9MnTtWPv74Y/fnxx57rFq2bBnxXB99\\\n",
       "9JH78yeffFLPPvtsyGN++eUX9+fBXsPevXsH3ITN08knn+y1qV00wv0ausZ5vg6+PB8rLS01Haj/\\\n",
       "8MMP7s+3b9+url27BhzbpUuXkPN5/sHB3yZpI0aM0LJlyyRVVhC/++67GjVqlM4666yorpFYuuqq\\\n",
       "q/TII49IqgxvZsyYUSVkfPbZZ92VnoMHD1aLFi1iugbfjb/8ycnJcf986dSpU9Cxnpu/hdq87q23\\\n",
       "3tLtt98e1iZme/bs8Qq9YqVnz54xn9Pl7rvv1vvvv6+1a9dq165d+u9//yup8mf7Cy+84N58rzql\\\n",
       "paW5Pz98+LCpY1x/rHIxW3lbE89vFYMHD1b9+vV18OBBrVu3Th06dNCVV16pc889Vz169Aj4jgwA\\\n",
       "AFA7EPACgIWceOKJXru7FxcX6+eff3ZXfzqdTo0bN04//vij7rnnHr9z7Nixw/353r17NXfu3LDX\\\n",
       "4drJ3eW3335zf966dWtTc5gdF0u7du1yf962bduI5ykuLtbvv//uvv3000+HPUdNew3jcX7Pa23r\\\n",
       "1q0xudZ8ZWdnh5wjJSXF/bnD4ajy+Lhx47RkyRItWLBAUuXb+11v8W/durVOP/109e/fX8OGDQvZ\\\n",
       "ziRejj/+eJ122mlavXq1du3apTfffFPnn3++15h58+a5Px83blzM12DmtfYMnUON9xzrCqb9mTZt\\\n",
       "mqZPn25ihd48v0djKZ5vf09JSdGLL76oE044wR2US9Jtt92mU045JW7nDSYzM9P9udlKWN9xnnNY\\\n",
       "7fxW0bhxYz399NO64oor5HA4tH37dk2bNk3Tpk1TZmam+vTpo759++q8885T9+7dE71cAAAQY7Ro\\\n",
       "AAALGTx4sObMmeP+mD9/vpYtW6Zt27Z59bOcMWOGXnnlFb9zuN7CHA3fMMazv2GwvrGeYtk/1izP\\\n",
       "wCeaf/DXxtcwHuePx+vkKxY9Zu12u/73v//p6aefrtKa4ueff9YLL7ygcePGqUWLFho3bpwKCwuj\\\n",
       "PmckrrrqKvfnvm0aVq9e7e7Nm5ubq3PPPTfm5w/3tY7F1+bdd9/1CndPPvlkPfnkk1q/fr327Nmj\\\n",
       "srIyGZWbBsswDPXt29c9NlT/5kjFuxo0Kyuryjl8w/zq5FkB7/lHsmB27tzpdduzWttq57eSSy65\\\n",
       "RJ9++qkuuOACrz9sFRcX6/3339cdd9yhHj16qFevXvrggw8SuFIAABBrBLwAUAs0b95c//73vzVo\\\n",
       "0CD3fX/961/9Vj96hnJdu3b1CkfMfkybNs1rTs+w1GzfP8/qtFgJFeg0aNDA/Xk0m+74BpuFhYVh\\\n",
       "v4YrVqzwmiPRr2E8zu/5Og0dOjSiay3WfWQDsdlsuvLKK/XVV19py5YtevLJJzV69GivSm+Hw6Fn\\\n",
       "nnlGvXv39qp4ri4XXXSRGjZsKElavHixV4W0Z+A7ZsyYWvN27H/+85/uz8eOHasPP/xQ48ePV/fu\\\n",
       "3dW4ceMqvVbjVbVbXVzX/J49e7zuv+KKK6q0Haguxx13nPvz3bt3e/XEDeTnn392f96oUaOoqp4T\\\n",
       "fX6r6d69u/73v/9p9+7deuONN/T3v/9dJ598slfgu3btWvXv31+vvvpqAlcKAABiiYAXAGqJpKQk\\\n",
       "Pf300+5QrbCwUDNmzKgyrlmzZu7PfaucIuX5j2fPf1gHY2YDJM9/kIaq5JRCV4x6Pnezmzr5k5OT\\\n",
       "4xUsxeJ1jNdrmMjzx+Naqw7t27fX+PHjNX/+fP3www/asmWLbrzxRndo+sMPP0TUMiBa6enpuuyy\\\n",
       "yyRJTqfT3ff5999/dwc1rqC6NnA6nVq5cqWkyp9v9957b8iqYLPXbk31yCOPaOnSpZIq/yDl6qO8\\\n",
       "adMm/eMf/0jImo477jh3T3DDMNwbJwazbt069+fHH3+8pc9fHQzDCDkm3E3TcnJyNHToUD3wwANa\\\n",
       "s2aN9uzZo/z8fHdrHafTqWuvvbZObEAHAEBdQMALALVIy5YtNWnSJPftOXPmVAnWunfv7g4nd+/e\\\n",
       "7d6hPRo9evRwf+65kVkghmHok08+CTnOc0OhvXv3hhy/adOmoI+fdNJJ7s+//fZbr03PwuXZC/nD\\\n",
       "Dz+MeB4Xz9fws88+M/X28mAbnEVzfjNfQzPn79Onj/vzDRs2xKVquzq0b99eDz30kFeou3DhwoSs\\\n",
       "xbNNg6vn7n/+8x/3a9u3b1+1a9cuIWuLtT179rg31TriiCN0xBFHBB2/efPmKpWv/sSidUQ8fPHF\\\n",
       "F7rlllvct2fPnq3nn3/evd7Zs2dryZIl1b6utLQ0r5+dvu8+8McVzEvSgAEDLH3+6hBqk0FJUf2+\\\n",
       "kip/n44ZM0bLli1z/z/Anj17Yvp7BAAAJA4BLwDUMjfddJO7FUFZWZkeeOABr8fT09O9/sH76KOP\\\n",
       "Rn3O/v37uz9/++23Q/YoXbZsmal/rLZp08b9eaiqrbKyMi1atCjomKOOOsqrmiuSTb9chgwZ4v78\\\n",
       "scceM1WBFcwpp5zi/kf3rl279M477wQdX1RUFNOQ0fNr+Pnnn+ubb74JOv77778PGQy0bdvW/Xof\\\n",
       "Pny4St9Yqxk6dKj7c7O9QP1JS0tzf+5v07dgOnfurJNPPllS5ddg5cqVXq9rPDZXSxRX1aZkbnOt\\\n",
       "xx57zNS80bz+8VJWVqaRI0e62zCMGDFCo0eP1oABA3TzzTdL+rN9QyLag3j2AJ4/f37Qsdu3b3dv\\\n",
       "Uuh7rFXPH2+hfr9VVFTErGduu3bt1KlTJ/ftaH6WAQCAmoOAFwBqmYYNG+r66693337iiSeqBAKT\\\n",
       "J092fz579my99957puf391b7gQMHqlWrVpIq30Ya7K3EZWVluummm0ydy7MC9M033wxanXfHHXeY\\\n",
       "qt678cYb3Z8/9NBDEf+j+eqrr1ZOTo6kyrcDh/OW/T179sjpdHrdl5OTo+HDh7tv/+Mf/wgaak2e\\\n",
       "PDmqPsK+jj/+eJ1yyinu23/7298CVhFXVFRo4sSJpkJtz2vttttuC1ll7am62jqYuW4k75YUoapJ\\\n",
       "g/HcNOrXX38N+3jPKt7Jkye7q+EbNmzodQ1ZXePGjZWdnS2p8g8anlWZvj788EPTAW+0r3883Hzz\\\n",
       "zfrqq68kSa1atdITTzzhfuzuu+92V9jv2rVLY8eOrfb1jR492t3+Z8uWLXr66acDjp08ebL759vJ\\\n",
       "J5+sE044wfLnj7fnnnsuaG/hf//7315/FPX9/SGZ/znmdDpVUFDgvh3NzzIAAFBzEPACQC104403\\\n",
       "ujfNKikp0UMPPeT1eN++fTV69GhJlb1tzz33XN17770BA8OysjItWLBAw4YN86pidLHb7brrrrvc\\\n",
       "t5955hlNmjSpyj9Yd+7cqfPOO08bN25UampqyOdx4oknut9uXlxcrEsvvbTKxnElJSX6+9//rn/+\\\n",
       "859VNlzyZ8yYMe4g0+Fw6Oyzz9ajjz7qt5Lv8OHDWrRokS644IIqj2VnZ+vhhx92354+fbpGjx4d\\\n",
       "sAeoYRj68MMPde2116p169Z+w9s77rjD/Rw2bdqkc889t0oAdejQId1888164oknTL2G4bjnnnvc\\\n",
       "bwd/5513NHLkSO3fv99rzIEDB3T55Zdr8eLFps5/2WWXuSvGf//9d5122ml64okn3G+993XgwAG9\\\n",
       "8MIL6tevn9cfKuKpdevWuvrqq7Vy5cqAofbnn3/utZ5zzjkn4vN17tzZ/XkkmxyNGDHCHXx6tjoZ\\\n",
       "NWqUV3Wq1SUlJWnw4MHu22PGjNGnn35aZdwrr7yiwYMHy+l0VtkA0R/P1/+NN94IeC1Wl7ffftv9\\\n",
       "boKkpCQ9//zz7j8eSVJqaqpefPFFZWRkSKr8Y1cs3nkRjiOOOMLrj2MTJ07UK6+84jXG4XBoypQp\\\n",
       "eumll9z33XvvvUHnbdOmjWw2m2w2W9ANFeN1/prixx9/9PvzVqr8GXHttddWGS95B71///vfdcYZ\\\n",
       "Z+i5557zO49U2epo/Pjx7oA3KyvL6w97AADAwgwAQI3Wt29fQ5IhybjzzjtNHzd58mT3cZmZmcbe\\\n",
       "vXu9Hi8rKzMGDhzoHiPJyMjIMPr372+MHj3auOqqq4wRI0YYPXv2NOrVq+ce07Nnz4DnHDFihNd8\\\n",
       "DRs2NC688EJj/Pjxxtlnn+2e5+ijjzYmTZpk6nm98sorXnNmZ2cbF154oXHVVVcZQ4cONXJycgxJ\\\n",
       "RosWLYx77rnHPW706NEB59y+fbtx7LHHes2bk5NjnHvuuca4ceOMMWPGGP379zeysrLc5wzk9ttv\\\n",
       "95rHbrcbPXv2NEaNGmVcffXVxqhRo4y+ffsa2dnZXuN+//13v/PNnTvXa1xqaqoxcOBAY/z48cZF\\\n",
       "F11kNG7c2H3/P//5T/e4vn37BlxjOP7+9797nb9+/frGeeedZ4wfP94YOnSokZmZ6f7aTps2zdTr\\\n",
       "vWfPHqNHjx5e82ZlZRmDBg0yxo4d635uXbp0MZKTk91jhg8f7ne+o446yj1m69atIZ/T6NGj3ePz\\\n",
       "8/OrPO65rgYNGhinn366cdlllxlXX321MXz4cKNTp05eY5o2bWr8+uuvVeZZvny5qa/Hk08+6R5n\\\n",
       "s9mM/v37G9ddd51x0003uT8KCwuDPqdrr73Wa02SjA0bNoR8LcLl+fNn+fLlIceH+7XxXL8/X331\\\n",
       "lZGenu71ep1yyinGmDFjjJEjRxpHH320+7Hx48ebWu/+/fu95mzbtq0xduxY48Ybb3S//kuXLo3q\\\n",
       "dTD7euzcudM44ogj3GOmTJkScK7HHnvMPS49Pd3YvHmz6XXEwuHDh40BAwZ4fc26dOlijB492rj4\\\n",
       "4ouN3Nxcr8emT58eck7P1yfYz5B4nf+NN94wunXrVuXDc5527dpVefz22283+7IF5HlNNW/e3P3z\\\n",
       "Z8iQIcZVV11ljBo1yuv3VMeOHb1+z1xyySXG4MGD3fN5/pyz2+1Gp06djIsuusgYP368cdlllxn9\\\n",
       "+/c3UlNTvZ7bk08+GfXzAAAANQMBLwDUcJEGvLt37zbq16/vPva2226rMqa8vNy4/fbbjYyMjCph\\\n",
       "kb+PlJQUY8KECQHPefjwYa9/ZPr76NChg/H1118bd955p+nnNX369KBzHnfcccaXX35p5Ofnmw4L\\\n",
       "9u7da1xwwQWmnveRRx4ZdK6XX37ZaNGiham5JBm9e/c2ysrKAs43a9Ysr1Dd9yM7O9t44403TAeK\\\n",
       "4ZoyZYqRlJQU8PwtWrQw1qxZE9brXVJSYlxzzTVeAW6wj/T0dGPGjBl+54p1wOsKrc18dOvWzfj6\\\n",
       "66/9nsfs1+Pw4cPGGWecEfQ8oZ7Xhg0bvMb36tUr5OsQiUQHvIZhGAsWLAj5M+qqq64yysrKTK/3\\\n",
       "scceM2w2W8D5fH8mxSvgPeecc7y+hocPHw4639ChQ93ju3fvbhw6dMj0WmJh//79Vf6Q5+/3xD33\\\n",
       "3GNqvnAC3nic3/NnWDgfZtYaiuc19dJLLxlt27YNeL6zzjrL2LNnj9GwYcMqP49crrvuOtPrb9Cg\\\n",
       "AeEuAAC1DC0aAKCWatq0qf7617+6b8+ePbvK2zbtdrv+3//7f9q2bZsefPBBnX322WrdurUyMjKU\\\n",
       "kpKixo0b64QTTtDo0aM1f/58/frrr5ozZ07Ac6akpGj+/Pl6//33dfHFF6tly5ZKTU1Vs2bNdOqp\\\n",
       "p2rmzJn67LPP1KFDh7Ceyx133KE1a9bo0ksvdc/ZpEkTnXTSSXrkkUf0+eefe20aY0ajRo30v//9\\\n",
       "T59++qkmTZqk7t27q0mTJrLb7crMzFSHDh10ySWXaP78+dqyZUvQuUaMGKEff/xR8+fP16WXXqpj\\\n",
       "jjlG2dnZstvtysrK0vHHH68LL7xQDz/8sLZs2aJPPvkkaDuJ66+/Xl988YWuv/56HXvssUpPT1dO\\\n",
       "To66dOmiW265RV988YXfVhmxcu+99+rTTz/V2LFj1aZNG9WrV0+NGzdWz549dc8992jjxo3ujb7M\\\n",
       "Sk9P12OPPabvvvtOd911l/r3768jjzxSaWlpSk1NVdOmTdWnTx9dddVVevnll7Vz507dcsstcXqG\\\n",
       "3vbu3at3331Xt912mwYNGqS2bduqfv36stvtatCggY4//nhddtllev3117Vu3bqwr19fKSkpeu+9\\\n",
       "9/TYY4/pL3/5i5o3bx52u41u3bqpbdu27tu1aXM1X8OGDdOXX36p6667Tu3bt1daWpoyMzPVvn17\\\n",
       "5eXlaeXKlXriiSdMtWhxueaaa/TBBx/o8ssvV/v27VW/fn13e5LqMnv2bC1evFiSVL9+fb3wwgtK\\\n",
       "SUkJeswzzzyj3NxcSZUbc02dOjXu6/SUnZ2tl19+We+++64uu+wytWvXThkZGcrOzlbnzp110003\\\n",
       "aePGjXFbV6LPHy/NmzfXunXrNHXqVB1//PHu53TSSSfp8ccf15IlS9S4cWP997//1fHHH6/09HT1\\\n",
       "6NFDN9xwg3uO2bNna/PmzZo1a5ZGjhypbt26qWHDhkpOTlZaWpqOPPJIDRw4UA8++KC+//57jR8/\\\n",
       "PoHPGAAAxJrNMKLc9hsAAADVatu2bWrbtq0Mw1D9+vW1Y8cOZWVlJXpZAEzq16+fe+PA5cuXq1+/\\\n",
       "foldEAAAsDQqeAEAACxm3rx5cv2NfsSIEYS7AAAAQB1GwAsAAGAhZWVleuqpp9y3r7nmmgSuBgAA\\\n",
       "AECiEfACAABYyG233aadO3dKkk455RT17t07wSsCAAAAkEjJiV4AAAAAAluyZImWLFmi0tJSffrp\\\n",
       "p9qwYYMkyWaz6d57703s4gAAAAAkHAEvAABADfbxxx9r5syZVe6/+eabdcYZZyRgRQAAAABqEgJe\\\n",
       "AAAAi8jIyFCXLl107bXX6oorrkj0cgAAAADUADbDtQUzAAAAAAAAAMBS2GQNAAAAAAAAACyKgBcA\\\n",
       "AAAAAAAALIqAFwAsqKysTH/96191zz33JHopgBvXJWoqrk3ECtcSAACoiQh4AcCC3nvvPT3++OP6\\\n",
       "7bff3Pf16tVLNpstrI+mTZtW+9q3bdsmm82mfv36Vfu5EV/xui5fffVV9evXTw0bNlT9+vXVrVs3\\\n",
       "PfDAA3I4HH7XwTUGX/6uTU8Oh0PPPvuszj33XLVo0UL16tVTdna2jjnmGJ199tm6//77tX37dvd4\\\n",
       "rrG6i9+/AACgJkpO9AIAAOFbsGCBJOn888+XJBmGoR49eqhz585e47Zu3apVq1YpMzNTw4cPrzJP\\\n",
       "hw4d4r1U1CHxuC4nTZqkmTNnKjk5WQMGDFBmZqaWLVumyZMna9GiRXrnnXeUnp4et+eE2sH32vT0\\\n",
       "3Xff6cILL9SXX36pjIwM9ejRQ2eccYYOHz6szZs3a+nSpVq6dKl69uypVq1aVe/CUePw+xcAANRE\\\n",
       "BLwAYDEVFRVatGiRGjdurNNPP12SZLPZ9NRTT1UZe/fdd2vVqlXq06eP5s+fX80rRV0Sj+tywYIF\\\n",
       "mjlzpjIzM7Vy5UqdcMIJkqQ9e/ZowIABWr16tW6//XY9+OCDcXlOqB38XZsu+/btU//+/fXrr7/q\\\n",
       "hhtu0G233aZGjRp5jfnxxx/1xBNP6MQTT6zOZaMG4vcvAACoqWjRAAAWs2bNGu3evVtDhgyR3W4P\\\n",
       "Onb9+vWS5A7GojVmzBjZbDatWLEiJvOh9ojHdTljxgxJ0pQpU7zGNmnSRI8++qgkac6cOSoqKopm\\\n",
       "6ajlgl2bDz74oH799VcNHjxY//rXv6qEu5LUtm1b3X///crOzq6uJaOGSuTvXwAAgGAIeAHAYoK9\\\n",
       "1djXunXrJEk9evSI44qA2F+Xv/76qz777DNJ0siRI6s8ftppp6lVq1Y6dOiQ3n777fAXjDoj2LX5\\\n",
       "7rvvSlKVyl7AH37/AgCAmoqAFwAs5o033lB6eroGDhwYdNy+ffu0bds2SVQQIf5ifV26qt8aNWqk\\\n",
       "o48+2u+YXr16eY0F/Al2bZaWlkqSVq1aJafTWd1Lg8Xw+xcAANRUBLwAYCFffvmlvv/+ew0cOFAZ\\\n",
       "GRlBx7pCr8zMTB177LHVsTzUUfG4Lrdu3SpJat26dcAxrg2vXGMBX6GuzTPOOEOStHjxYh177LGa\\\n",
       "PHmy3n33XRUXF1f3UlHD8fsXAADUZAS8AGAh4bw91PUPzG7duikpiR/3iJ94XJe///67JKl+/foB\\\n",
       "x2RmZkqSDhw4YHKlqGtCXZszZszQsGHDJFX+oeCBBx7QwIED1ahRI5199tlatGhRNa0UNR2/fwEA\\\n",
       "QE2WnOgFAADMW7Bggex2u84777yQY6Pp//f0009r9erVVe533Xfffff53RV8ypQp6tChQ9jng7VV\\\n",
       "13UJhCvUtZmdna0FCxbou+++0//+9z+99957WrNmjUpKSrR06VItXbpUN998s/75z39W88pR01TX\\\n",
       "z7l//OMfWrhwYdjHPf300zrttNPCPg4AANQOBLwAYCHbt29XgwYNlJOTE3JsNDt4r169Ws8++2zA\\\n",
       "x5cuXer3/jFjxhDw1kHxuC4bNGggSTp48GDAMa630WdlZZlcKeoas9emqz3D5MmTdfjwYb377rv6\\\n",
       "xz/+oc2bN+uhhx7SNddco3bt2lXPolEjVdfv3x07dmjLli1hH0dbEQAA6jbeMwQAFjJkyBDt37/f\\\n",
       "b3Wtp5KSEvc/ECOpIJo/f74Mw6jyMXr0aEnS8uXL/T7er1+/sM8F64vHddmmTRtJlaFKIK7HXGMB\\\n",
       "X2avTU+pqak699xzNW/ePEmSYRjatGlTvJYIi6iu37///ve//f5+DfVx9tlnR/S8AABA7UDACwAW\\\n",
       "4ur95+oFGMjGjRtVUVGh1NRUderUKf4LQ50Wj+vSFYzs3bs34CZqn3/+uSR2qUdgZq9Nf1yb+El/\\\n",
       "9ntG3cXvXwAAUJMR8AKAhZx11lmqX7++3njjjaDjXP3/OnfurJSUlOpYGuqweFyXLVu21IknnihJ\\\n",
       "evHFF6s8vnr1am3fvl316tXT4MGDI1w5artA16ZhGCGPdQV5DRo00CmnnBKP5cFC+P0LAABqMgJe\\\n",
       "ALCQtLQ0DRo0SFu3btXGjRsDjoum/x8Qrnhdl1OnTpVUuamfKzSRKqt6r732WknSddddp+zs7EiX\\\n",
       "jlou0LV566236pprrtFXX31V5ZjS0lLNmTNHN910k6TK6y8jI6Pa1oyaid+/AACgJiPgBQCLMfM2\\\n",
       "0Wh28AYiEY/r8vzzz9fEiRNVXFysk046Seecc44uuugiHXPMMdq0aZNOPfVU3XXXXdEuHbWcv2tz\\\n",
       "9erVeuKJJ9S5c2e1bdtWw4YN08iRI9WvXz+1bNlS119/vSRp5syZ7j8mAPz+BQAANRUBLwBYzJAh\\\n",
       "Q5ScnBzwH5gOh8NdlUYFEapLvK7LmTNn6uWXX9bJJ5+sNWvW6O2331bLli113333admyZUpPT4/F\\\n",
       "8lGL+bs2n3zySc2cOVNDhw5Venq6Vq9erVdffVWbNm1S+/btddttt2nLli2aOHFi4haOGoffvwAA\\\n",
       "oKZKTvQCAADhadiwoc444wwtW7ZMP/30k4466iivx1NSUnTo0KG4nHv+/PmaP39+XOaGtcXzuhwx\\\n",
       "YoRGjBgRi2WiDvJ3bXbo0EEdOnQgwEVYEvn7FwAAIBgqeAHAgqLZGR6IF65L1FRcm4gVriUAAFAT\\\n",
       "EfACgAXxD0zURFyXqKm4NhErXEsAAKAmokUDAFhQq1atZBhGopcBeOG6RE3FtYlY4VoCAAA1ERW8\\\n",
       "AAAAAAAAAGBRVPACAKpVTk6O7rzzTrVp0ybRS0EtxTWGeOMagxVx3QIAUHvZDN5jBAAAAAAAAACW\\\n",
       "RIsGAAAAAAAAALAoAl4AAAAAAAAAsCgCXgAAAAAAAACwKAJeAAAAAAAAALAoAl4AAAAAAAAAsCgC\\\n",
       "XgCA26FDhzRt2jQdOnQo0UtBHcT1h0Ti+kMicf0BAIBo2AzDMBK9CABAzXDgwAFlZ2erqKhIWVlZ\\\n",
       "iV4O6hiuPyQS1x8SiesPAABEgwpeAAAAAAAAALAoAl4AAAAAAAAAsKjkRC8AgLeKigrt2LFDDRo0\\\n",
       "kM1mS/RyUMccOHDA679AdeL6QyJx/SGRuP6QSIZh6Pfff1eLFi2UlEQNGABYET14gRrml19+UatW\\\n",
       "rRK9DAAAAAB1yPbt29WyZctELwMAEAEqeIEapkGDBpIq/weLTTZQ3RwOh9555x0NHDhQKSkpiV4O\\\n",
       "6hiuPyQS1x8SiesPiXTgwAG1atXK/e8QAID1EPACNYyrLUNWVhYBL6qdw+FQRkaGsrKy+Acmqh3X\\\n",
       "HxKJ6w+JxPWHmoD2cABgXTTYAQAAAAAAAACLIuAFAAAAAAAAAIsi4AUAAAAAAAAAiyLgBQAAAAAA\\\n",
       "AACLIuAFAAAAAAAAAIsi4AUAAAAAAAAAiyLgBQAAAAAAAACLIuAFAAAAAAAAAIsi4AUAAAAAAAAA\\\n",
       "iyLgBQAAAAAAAACLIuAFAAAAAAAAAIsi4AUAAAAAAAAAiyLgBQAAAAAAAACLIuAFAAAAAAAAAIsi\\\n",
       "4AUAAAAAAAAAiyLgBQAAAAAAAACLIuAFAAAAAAAAAIsi4AUAAAAAAAAAiyLgBQAAAAAAAACLIuAF\\\n",
       "AAAAAAAAAIsi4AUAAAAAAAAAiyLgBQAAAAAAAACLIuAFAAAAAAAAAIsi4AUAAAAAAAAAiyLgBQAA\\\n",
       "AAAAAACLIuAFAAAAAAAAAIsi4AUAAAAAAAAAiyLgBQAAAAAAAACLIuAFAAAAAAAAAIsi4AUAAAAA\\\n",
       "AAAAiyLgBQAAAAAAAACLIuAFAAAAAAAAAIsi4AUAAAAAAAAAiyLgBQAAAAAAAACLIuAFAAAAAAAA\\\n",
       "AIsi4AUAAAAAAAAAiyLgBQAAAAAAAACLIuAFAAAAAAAAAIsi4AUAAAAAAAAAiyLgBQAAAAAAAACL\\\n",
       "IuAFAAAAAAAAAIsi4AUAAAAAAAAAiyLgBQAAAAAAAACLIuAFAAAAAAAAAIsi4AUAAAAAAAAAiyLg\\\n",
       "BQAAAAAAAACLIuAFAAAAAAAAAIsi4AUAAAAAAAAAiyLgBQAAAAAAAACLIuAFAAAAAAAAAIsi4AUA\\\n",
       "AAAAAAAAiyLgBQAAAAAAAACLIuAFAAAAAAAAAIsi4AUAAAAAAAAAiyLgBQAAAAAAAACLIuAFAAAA\\\n",
       "AAAAAIsi4AUAAAAAAAAAiyLgBQAAAAAAAACLIuAFAAAAAAAAAIsi4AUAAAAAAAAAiyLgBQAAAAAA\\\n",
       "AACLIuAFAAAAAAAAAIsi4AUAAAAAAAAAiyLgBQAAAAAAAACLIuAFAAAAAAAAAIsi4AUAAAAAAAAA\\\n",
       "iyLgBQAAAAAAAACLIuAFAAAAAAAAAIsi4AUAAAAAAAAAiyLgBQAAAAAAAACLIuAFAAAAAAAAAIsi\\\n",
       "4AUAAAAAAAAAiyLgBQAAAAAAAACLIuAFAAAAAAAAAIsi4AUAAAAAAAAAiyLgBQAAAAAAAACLIuAF\\\n",
       "AAAAAAAAAIsi4AUAAAAAAAAAiyLgBQAAAAAAAACLIuAFAAAAAAAAAIsi4AUAAAAAAAAAiyLgBQAA\\\n",
       "AAAAAACLIuAFAAAAAAAAAIsi4AUAAAAAAAAAiyLgBQAAAAAAAACLIuAFAAAAAAAAAIsi4AUAAAAA\\\n",
       "AAAAiyLgBQAAAAAAAACLIuAFAAAAAAAAAIsi4AUAAAAAAAAAiyLgBQAAAAAAAACLIuAFAAAAAAAA\\\n",
       "AIsi4AUAAAAAAAAAiyLgBQAAAAAAAACLIuAFAAAAAAAAAIsi4AUAAAAAAAAAiyLgBQAAAAAAAACL\\\n",
       "IuAFAAAAAAAAAIsi4AUAAAAAAAAAiyLgBQAAAAAAAACLIuAFAAAAAAAAAIsi4AUAAAAAAAAAiyLg\\\n",
       "BQAAAAAAAACLIuAFAAAAAAAAAIsi4AUAAAAAAAAAiyLgBQAAAAAAAACLIuAFAAAAAAAAAIsi4AUA\\\n",
       "AAAAAAAAiyLgBQAAAAAAAACLIuAFAAAAAAAAAIsi4AUAAAAAAAAAiyLgBQAAAAAAAACLSk70AgCg\\\n",
       "tisqKlJJSUmil2GK0+mUJO3atUt2uz3BqzEnIyND2dnZiV4GAAAAAAAJQcALAHFUVFSkubNmyVFR\\\n",
       "keilmJKUlKSuXbsqPz9fFRZZc0pSkiZMnEjICwAAAACokwh4ASCOSkpK5Kio0AWvvaame/Ykejkh\\\n",
       "OdPStPbhh5WXny97WVmilxPSb02a6PXhw1VSUkLACwAAAACokwh4AaAaNN2zR7kFBYleRkiO9HRJ\\\n",
       "UrOdO5VSWprg1QAAAAAAgFDYZA0AAAAAAAAALIqAFwAAAAAAAAAsioAXAAAAAAAAACyKgBcAAAAA\\\n",
       "AAAALIqAFwAAAAAAAAAsioAXAAAAAAAAACyKgBcAAAAAAAAALIqAFwAAAAAAAAAsioAXAAAAAAAA\\\n",
       "ACyKgBcAAAAAAAAALIqAFwAAAAAAAAAsioAXAAAAAAAAACyKgBcAAAAAAAAALIqAFwAAAAAAAAAs\\\n",
       "ioAXAAAAAAAAACyKgBcAAAAAAAAALIqAFwAAAAAAAAAsioAXAAAAAAAAACyKgBcAAAAAAAAALIqA\\\n",
       "FwAAAAAAAAAsioAXAAAAAAAAACyKgBcAAAAAAAAALIqAFwAAAAAAAAAsioAXAAAAAAAAACyKgBcA\\\n",
       "AAAAAAAALIqAFwAAAAAAAAAsioAXAAAAAAAAACyKgBcAAAAAAAAALCo50QsAAAAA4qGoqEglJSWm\\\n",
       "xjqdTknSrl27ZLfbTR2TkZGh7OzsiNcHAAAAxAIBLwAAiCuzIVu4ARvhGoIpKirS3Flz5ahwmBqf\\\n",
       "lJSkrl27Kj8/XxUVFaaOSUlK0YSJE7gOAQAAkFAEvAAAIG4qQ7ZZcpgIzMIN2FKSkjRh4kTCNfhV\\\n",
       "UlIiR4VDA167QA33NA05viLNqa0Pr9Ww/DwllYX+A8O+Jr9p2fDXVVJSwjUIAACAhCLgBQAAcVMZ\\\n",
       "slXogrdeU9O9e4KOddZL09quDyvvpXzZD5UFHftb4yZ6/dzhhGsIqeGepmpakBtyXHm6Q1slNd7Z\\\n",
       "TMmlKfFfGAAAABAjBLwAACDumu7do9zdBUHHONLTJUnN9uxUSmlpdSwLAAAAACwvKdELAAAAAAAA\\\n",
       "AABEhoAXiLG9e/fqmmuu0Zw5cxK9FAAAAAAAANRyBLyokbZt2yabzaZ+/fp53d+rVy/ZbLawPpo2\\\n",
       "Db2xSiw1btxYS5Ys0W233SaHw9zO3QAAAKg7ioqKVFBQ4P7YtWuXJGnXrl1e9xcVFSV4pQAAwAro\\\n",
       "wQvLMAxDPXr0UOfOnb3u37p1q1atWqXMzEwNHz68ynEdOnSoriW6DRs2TLNmzdKyZcs0aNCgaj8/\\\n",
       "AAAAaqaioiLNmTVX5RV/FgIkJSWpa9euys/PV0VFhfv+5KQUXTdxAptJAgCAoAh4YRk2m01PPfVU\\\n",
       "lfvvvvturVq1Sn369NH8+fOrf2F+nH/++Zo1a5YWLFhAwAsAAAC3kpISlVc4dMxrFyh9zx/vNEtz\\\n",
       "Sg+vVaf8PKnMLkkqbfKbvh/+ukpKSgh4AQBAULRogOWtX79eknTCCSfEZL4xY8bIZrNpxYoVEc9x\\\n",
       "xhlnqFGjRlq4cKEMw4jJugAAAFB7pO9pqsyCXGUW5Kr+zmaSpPo7m7nvc4e/AAAAIRDwwvLWrVsn\\\n",
       "SerRo0eCV/Inu92uIUOGaMeOHfr0008TvRwAAAAAAADUUrRogKXt27dP27ZtkxS7Ct5YOf/88/Xc\\\n",
       "c89pwYIF6tOnT8Bxhw4d0qFDh9y3Dxw4IElyOBxs0lYLOJ1OJSUlyZmWJkd6eqKXE5JrjVZYqyQ5\\\n",
       "09IqX1+nk++XGsr9PVAv9PeAIy3d679B563H1x7Bua69ijSnytNDXyPOP8Y4TYyVpIo0J9cgIuK6\\\n",
       "NpXmlPHH9eb7X0kS1xiqCdcXAFifzeD946iBtm3bpqOPPlp9+/YN2iph2bJlOvPMM5WZmamioqLK\\\n",
       "/1mO0pgxY/Tss89q+fLl6tevX8TzlJSUqEmTJjrqqKP09ddfBxw3bdo0TZ8+vcr9L774ojIyMiI+\\\n",
       "PwAAAACEUlJSopEjR6qoqEhZWVmJXg4AIAJU8MLSXP13u3XrFpNwN5YyMjJ01llnaeHChfr222/V\\\n",
       "vn17v+NuueUW3Xjjje7bBw4cUKtWrTRw4ED+B6sW2LVrl/Lz85WXn69mO3cmejkhOdLT9e68eTpr\\\n",
       "7FillJYmejkh7WreXPl5ecrLy1OzZs0SvRz44f4eeClfzfYE/x5wpKXr3dnzdNb1Y5VSFvz629Wk\\\n",
       "ufIv5WuPwFzX3rD8PDXeGfoacaY7tH7eu+ox9izZS1NCjt/bfJfeyMvnGkTYXNdmp/w8d+9dI92h\\\n",
       "Q/PeVb2xZ8n2x/V3sPkufcU1hmrgegchAMC6CHhhadH033366ae1evXqKve77rvvvvs0f/78Ko9P\\\n",
       "mTJFHTp0MHWO888/XwsXLtTrr7+uyZMn+x1Tr1491atXr8r9KSkpSkkJ/Q9M1Gx2u10VFRWyl5VZ\\\n",
       "IjB1SSkttcR67WVlla+v3c73Sw3l/h44ZP57IKUs9PVnP8TXHsG5rr2kMruSTQS27uNKU0yNTyqz\\\n",
       "cw0iIq5rU2V2d5jrYitN+fM+rjFUE64vALA+Al5YmquCN5L+u6tXr9azzz4b8PGlS5f6vX/MmDGm\\\n",
       "A97WrVtLkrZv3x72+gAAAAAAAIBQatZ72oEwlJSUaMuWLZIiq+CdP3++DMOo8jF69GhJ0vLly/0+\\\n",
       "Hk5f3kWLFkmShgwZEvb6AAAAUHuVNvlNxbkFKs4t0MHmuyRVtmVw3Vfa5LcErxAAAFgFFbywrI0b\\\n",
       "N6qiokKpqanq1KlTopfj1xtvvKGsrCwNGDAg0UsBAABADZCRkaHkpBR9P/x1931JSUnqqq76Ki+/\\\n",
       "sn3DH5KTUth0FwAAhETAC8ty9d/t3LlzjewbtWHDBm3btk0XX3yxUlNTE70cAAAA1ADZ2dm6buIE\\\n",
       "lZSUuO9zOp1au3at8vLyZLfb3fdnZGQoOzs7EcsEAAAWQsALy4qm/251WLBggaTKjdYAAAAAl+zs\\\n",
       "bK/g1uFwSJKaNWtWIwsXAABAzUYPXliWq4I3kv671WHBggVKTU3V4MGDE70UAAAAAAAA1FIEvLAk\\\n",
       "h8Ohr776SlLNrODdtm2bNm7cqP79+ysrKyvRywEAAAAAAEAtRYsGWFJKSooOHToUl7nnz5+v+fPn\\\n",
       "RzUH7RkAwNtvjZuEHOOslyZJ2tWkueyHyqKeDwAAAADqAgJeIA4WLFggm82mYcOGJXopAJBQGRkZ\\\n",
       "SklK0uvnDg85tnIXeSn/0jyvXeQDSUlKYnd5hLSvyW+mxlWkOSVJe5vvUlKZPcRo8/MCAAAA8UbA\\\n",
       "C8TY3r17tXr1avXu3Vu5ubmJXg4AJFR2drYmTJzotVt8IIF2kQ+E3eURTOUfF1K0bPjrpsZX/oGh\\\n",
       "q97Iyzf1BwZJSklK4Y8MAAAASDgCXiDGGjdurPLy8kQvAwBqDN/d4gNhF3nEUuUfFyaY+uOCFP4f\\\n",
       "GCT+yAAAAICagYAXAAAAtZLZPy5I/IEBAAAA1kXAixopJydHd955p9q0aZPopQAAAAAAAAA1FgEv\\\n",
       "aqScnBxNmzYt0csAAAAAAAAAarSkRC8AAAAAAAAAABAZAl4AAAAAAAAAsCgCXgAAAAAAAACwKAJe\\\n",
       "AAAAAAAAALAoAl4AAAAAAAAAsCgCXgAAAAAAAACwKAJeAAAAAAAAALAoAl4AAAAAAAAAsCgCXgAA\\\n",
       "AAAAAACwKAJeAAAAAAAAALAoAl4AAAAAAAAAsCgCXgAAAAAAAACwKAJeAAAAAAAAALAoAl4AAAAA\\\n",
       "AAAAsCgCXgAAAAAAAACwKAJeAAAAAAAAALAoAl4AAAAAAAAAsCgCXgAAAAAAAACwKAJeAAAAAAAA\\\n",
       "ALAoAl4AAAAAAAAAsCgCXgAAAAAAAACwKAJeAAAAAAAAALAoAl4AAAAAAAAAsCgCXgAAAAAAAACw\\\n",
       "KAJeAAAAAAAAALAoAl4AAAAAAAAAsKjkRC8AAOqC35o0SfQSTHGmpUmSdjVvLntZWYJXE5pVXlcA\\\n",
       "AAAAAOKFgBcA4igjI0MpSUl6ffjwRC/FlKSkJHWVlJ+Xp4qKikQvx5SUpCRlZGQkehkAAAAAACQE\\\n",
       "AS8AxFF2drYmTJyokpKSRC/FFKfTqbVr1yovL092uz3RyzElIyND2dnZiV4GAAAAAAAJQcALAHGW\\\n",
       "nZ1tmQDS4XBIkpo1a6aUlJQErwYAAAAAAITCJmsAAAAAAAAAYFEEvAAAAAAAAABgUQS8AAAAAAAA\\\n",
       "AGBRBLwAAAAAAAAAYFEEvAAAAAAAAABgUQS8AAAAAAAAAGBRBLwAAAAAAAAAYFEEvAAAAAAAAABg\\\n",
       "UQS8AAAAAAAAAGBRBLwAAAAAAAAAYFEEvAAAAAAAAABgUQS8AAAAAAAAAGBRBLwAAAAAAAAAYFEE\\\n",
       "vAAAAAAAAABgUQS8AAAAAAAAAGBRBLwAAAAAAAAAYFEEvAAAAAAAAABgUQS8AAAAAAAAAGBRBLwA\\\n",
       "AAAAAAAAYFEEvAAAAAAAAABgUQS8AAAAAAAAAGBRBLwAAAAAAAAAYFEEvAAAAAAAAABgUQS8AAAA\\\n",
       "AAAAAGBRBLwAAAAAAAAAYFEEvAAAAAAAAABgUQS8AAAAAAAAAGBRBLwAAAAAAAAAYFEEvAAAAAAA\\\n",
       "AABgUQS8AAAAAAAAAGBRBLwAAAAAAAAAYFEEvAAAAAAAAABgUQS8AAAAAAAAAGBRBLwAAAAAAAAA\\\n",
       "YFEEvAAAAAAAAABgUQS8AAAAAAAAAGBRBLwAAAAAAAAAYFEEvAAAAAAAAABgUQS8AAAAAAAAAGBR\\\n",
       "BLwAAAAAAAAAYFEEvAAAAAAAAABgUQS8AAAAAAAAAGBRBLwAAAAAAAAAYFEEvAAAAAAAAABgUQS8\\\n",
       "AAAAAAAAAGBRBLwAAAAAAAAAYFEEvAAAAAAAAABgUQS8AAAAAAAAAGBRBLwAAAAAAAAAYFHJiV4A\\\n",
       "AADwVlRUpJKSkkQvo9o5nU5J0q5du2S32xO8muqXkZGh7OzsRC8DAAAAgMUQ8AIAUIMUFRVp7qxZ\\\n",
       "clRUJHop1S4pKUldu3ZVfn6+Kurg809JStKEiRMJeQEAAACEhYAXAIAapKSkRI6KCl3w2mtqumdP\\\n",
       "opdTrZxpaVr78MPKy8+Xvaws0cupVr81aaLXhw9XSUkJAS8AAACAsBDwAgBQAzXds0e5BQWJXka1\\\n",
       "cqSnS5Ka7dyplNLSBK8GAAAAAKyBTdYAAAAAAAAAwKIIeAEAAAAAAADAogh4AQAAAAAAAMCiCHgB\\\n",
       "AAAAAAAAwKIIeAEAAAAAAADAogh4AQAAAAAAAMCiCHgBAAAAAAAAwKIIeAEAAAAAAADAogh4AQAA\\\n",
       "AAAAUG3atWsnm83m9+Odd95J9PIAyyHgBQAAAAAAQLX5z3/+I0n67LPPVFBQoE8++cR9+8wzz0zk\\\n",
       "0gBLIuAFAAAAAABAtdm9e7cyMzPVs2dPNW/eXDt37nTfttvtiV4eYDkEvAAAAAAAAKg2mzZtUqdO\\\n",
       "nWSz2SRJX3zxhTp37uy+DSA8BLwAAAAAAACoNl9++aW6dOnivr1x40av2wDCQ8ALAAAAAACAarNp\\\n",
       "0yZ17tzZ6zYBLxA5Al4AAAAAAABUi/Lycn3zzTfuQNcwDP34449q3bp1glcGWBcBLwAAAAAAAKrF\\\n",
       "t99+q8OHD7sreG02mzp37qxrrrlG33//fYJXB1hTcqIXAAAAAAAAgLqhY8eOMgzD675169YlaDVA\\\n",
       "7UAFLwAAAAAAAABYFAEvAAAAAAAAAFgULRoAAAAAAABQLWw2m6lxvm0cAARGwAsAAAAAAIBqQXAL\\\n",
       "xB4tGgAAAAAAAFBt7r33XvXq1UsNGjRQs2bNNGLECG3bti3RywIsi4AXAAAAAAAA1WblypW6/vrr\\\n",
       "9cknn2jJkiUqLCzUOeeco/Ly8kQvDbAkWjQAAAAAAACg2ixZssTr9lNPPaW2bdtq8+bN6tq1a4JW\\\n",
       "BVgXFbwAAAAAAABImKKiIklSo0aNErwSwJoIeAEAAAAAAJAQTqdTN998swYPHqyWLVsmejmAJdGi\\\n",
       "AQAAAAAAANXOMAxdc801+vnnn/Xhhx8mejmAZRHwAgAAAAAAoFoZhqFrr71W7733nlatWqWmTZsm\\\n",
       "ekmAZRHwAgAAAAAAoNoYhqEJEyborbfe0sqVK9WqVatELwmwNAJeAAAAAAAAVJsJEybopZde0qJF\\\n",
       "i5Senq6dO3dKqtxkLTU1NcGrA6yHgBcAAAAAAADV5rHHHpMknX766V73L1++XP369UvAigBrI+AF\\\n",
       "AAAAAABAtTEMI9FLAGqVpEQvAAAAAAAAAAAQGQJeAAAAAAAAALAoAl4AAAAAAAAAsCgCXgAAAAAA\\\n",
       "AACwKAJeAAAAAAAAALAoAl4AAAAAAAAAsCgCXgAAAAAAAACwqORELwAAAAAAAAC1S1lZmQoKCrw+\\\n",
       "9u/fr/Lycq8PSUpOTvb6yMnJUW5urtdHWlpagp8RUHMR8AIAAAAAACAsTqdT33zzjdauXauvvvpK\\\n",
       "O3bscAe5vxb8rKJ9xUqy25TdLF0Ncu2q38JQ/RyHklIM2VIqZEuuUFJSkhptHaS9rd6VvaJCFY4k\\\n",
       "VThsOrQ/RQd22LS/wKn9u0rldBrKbpip5rnN1CK3pY7MbaUWLVqoU6dO6tmzpzp06CC73Z7olwRI\\\n",
       "GAJeAAAAAAAABFReXu4Oc10fGzZsUIXK1bJ7trK7lCvluINK7XdYrXOlE1pI9XOl9CaGkuwl7nka\\\n",
       "+cyb5Kinjm+P1+bBy5SRctjjkUPuz3Kc0u97pP0Fxdq/o1j7C37Q/gLp618aasnjyfp2w34l2ezq\\\n",
       "3r2HevbspZ49e7pD3+RkYi/UDVzpAAAAAAAAcHM4HFq1apXeeustffzxx9qwYb0Mm6FWPRorp6eh\\\n",
       "5Kv36LSeDrXuICXZf6tyfGYM15Jkl7KbVX4c1f3P+xtqnyTJWS798o1D36/9SD+u+1xrnmqqzdfu\\\n",
       "lQybunfvoZNOOknnnnuuzjjjDKWkpMRwZUDNQcALAAAAAABQxxUWFmrx4sVatGiRFi9erJT6drUb\\\n",
       "0kiH/vqjzuhpqMFxks2+w+uYpASt1ZM9WTqqc+XHmaMdytQOOZ3S9i3Sj2s36+sPdmvU5fNVVlKh\\\n",
       "s88+W0OHDtU555yjhg0bJnrpQMwQ8AIAAAAAANRB3333nRYtWqSFCxfqww8/1BGds9RwaJk631yi\\\n",
       "rBMkW1JllWwsK3Krg90utekotelYpAGXF+mvFdJ366SvFq7Vff9co9GjR+u0007Teeedp6FDh+qY\\\n",
       "Y45J9JKBqBDwAgAAAAAA1BE7duxQfn6+XnjhBf3www/q0L+tDo3Yps7PlSu3dWFYc+2TFE4dbKGq\\\n",
       "9uGtDklJ0sm9pJN7fa9x/08q+Fn64M2P9cbCzbrllilq1+4YjRo1Snl5eWrRokUCVghEpyZU0wMA\\\n",
       "AAAAACBOnE6n3nrrLQ0bNkxt2rTRfz94Uc2mHVbXPYeVvuQb5VxbpnqtY3e+4jDH1w9wf7zC4NzW\\\n",
       "0ohryzR7yW59tseha6f9qOUfvKg2bdro/PPP11tvvSWn0xmnswOxR8ALAAAAAABQCxUWFur+++/X\\\n",
       "0UcfrbFXj1Vht+1q+a1D9ZZsVumIH2RvYG6ecAPbeAtUNRxJK4nMBtLgEYf05JLNeu9bh9p1+VlX\\\n",
       "XZWno48+Wg888IAKC8OragYSgRYNAFAHFBUVqaSkJOQ411+pd+3aJbvdHnJ8RkaGsrOzo14fAAAA\\\n",
       "gNjZvHmzZs2apeeff15tTzxKR86spz3nbdeu5N1Bg6BEtVCIN7PPqWUbacJd63X1ndLyhfX0wsx8\\\n",
       "TZ8+XZdffrkmTpyojh07xnOZQMQIeAGglisqKtLcWbPlqAj9FqOkpCR17dpV+fn5qqioCDk+Jcmu\\\n",
       "CROvJ+QFAAAAaoCvv/5at956qxYvXqzcSxuq6YelOtT9ax2SZPMYV1uD3HAFqvhNTpZGXHhIIy78\\\n",
       "Rps22PT0rM/Us2dPnXPOOZoxY4Y6dOhQresEQiHgBYBarqSkRI4Kpy54bbWa7jkQdKwzLVVrH+6q\\\n",
       "vPx3ZC87HHTsb02y9Prw01RSUkLACwBAEKHeSWP2HTS8cwZAINu3b9f06dP1wgsvqNvYjsreWqZD\\\n",
       "zQsC9raFeV26G5o5b52mzpAeumuNevTooVGjRmnatGlq2bJlopcHSCLgBYA6o+meA8otCN4/ypFe\\\n",
       "T5LUbOc+pZQeqo5lAQBQq1W+k2aOHBXlAceYfQdNSlKyJky8jpAXgFthYaHuvfdezZ07Vx2GHaOs\\\n",
       "TWXafsw6uf5UdFCBNzALOKf8V/cWy3/F6z4F7olrVf6eT7Pm0gNzd+nGCdL06W+qffsXdd1112nK\\\n",
       "lClq1Ih6aCQWAS8AAADqjECVlKEqKKmcRKQq30lTrgteO0pN96T5HeNMk9Y+LOXlHyt7mf95fmtS\\\n",
       "pteH/8Q7ZwBIqvzZMnPmTN1///3KPSlXmR+WalePTWGFPLWtTUOgdguBnmMkG7JJ0jHHSM8/v0vr\\\n",
       "10u33f6s2rZ9UpMnT9bf/vY3ZWRkRDgrEB0CXiDG9u7dq1tvvVWdO3fWddddl+jlAACAPxQVFWnO\\\n",
       "rLkqr3BUeSxUBWVyUoqumziBYA0Ra7onTbkF/v/h70g3JEnNdqYrpdTmdwwASFJFRYWefvppTZs2\\\n",
       "TWkt6+nQ679rW/8iSYGDzEiqeOuyYNXImR5d7Hr0kN56c7eWL0/Srbc9pNmzZ2vatGkaN26ckpKS\\\n",
       "4r5OwBMBL2qNbdu26eijj1bfvn21YsUK9/29evXS2rVrw5qrSZMm+u2339y3X331Vc2dO1cbN27U\\\n",
       "4cOHdcwxx2jUqFG64YYblJKS4nVs48aNtWTJEv3nP//R1VdfXeVxAACQGCUlJSqvcKj7axcoc09T\\\n",
       "r8eMNKcOPrxWJ+fnyVbmXcFb3OQ3bRj+OpWTAICE+v777zV27Fh9+8u3Kpq9R8aFTtk8/iYUSUVu\\\n",
       "oGNqcnVvTWsH0b9/hT5cvVdvvGzX5Dsn64UXXtC8efPUrl27RC8NdQgBL2o1wzDUo0cPde7c2ev+\\\n",
       "rVu3atWqVcrMzNTw4cOrHOe5I+akSZM0c+ZMJScna8CAAcrMzNSyZcs0efJkLVq0SO+8847S09O9\\\n",
       "jh82bJhmzZqlZcuWadCgQfF5cgAAICKZe5oquyDX676KdIcOSsra2UxJpfxxFgBQc1RUVGjOnDm6\\\n",
       "Zeotsucl6/DiA7LVl8Kp949VFW+gPrzRjo2XWLZnyAyyB3XKIemi8506+y/7NWXaWnXr1lX33nuf\\\n",
       "JkyYQDUvqgUBL2o1m82mp556qsr9d999t1atWqU+ffpo/vz5AY9fsGCBZs6cqczMTK1cuVInnHCC\\\n",
       "JGnPnj0aMGCAVq9erdtvv10PPvig13Hnn3++Zs2apQULFhDwAgAAAAAi8sMPP2js2LHavH2zDr1Z\\\n",
       "Llu/iqBBTk2uvLWCaKuDMzOlOQ8e1PCh0pXXTddrr72mZ555hmpexB1/RkCdtH79eklyB7aBzJgx\\\n",
       "Q5I0ZcoUr7FNmjTRo48+KkmaM2eOioqKvI4744wz1KhRIy1cuFCGYcRy6QAAAACAWq6iokKzZ89W\\\n",
       "125d9UmXz7Tvi99l61cZ4ZTL/4aNoRwMcH9hZEv0si8Gc0Qj3pXCwap3k/1sjtn/DOmLNXvV6ejv\\\n",
       "1K1bV82ePdtvj38gVgh4USetW7dOktSjR4+AY3799Vd99tlnkqSRI0dWefy0005Tq1atdOjQIb39\\\n",
       "9ttej9ntdg0ZMkQ7duzQp59+GsOVAwAAAABqsx9//FEDBgzQHf+6U2WLHHLOMWTL9G7IECzkjUVg\\\n",
       "G8t5IhWvSuRAYXCg6t1g4W4wDRzS3Gk7tOipEv3rwTs0YEB//fjjj5FNBoRAiwbUOfv27dO2bdsk\\\n",
       "Ba/gdVX5NmrUSEcffbTfMb169dL27du1fv16XXrppV6PnX/++Xruuee0YMEC9enTJ+B5Dh06pEOH\\\n",
       "DrlvHzhwQJLkcDjkcFTd5RsIl9PpVFJSkpxpqXKk1ws61vV4qHGS5ExLrZzX6eRajaE/v15pcvj0\\\n",
       "967tXM+3rj1vSXKmpfH9VA1c319GmlMV6d6vs+u27/1S5QZsfH0QqT9/rkuOdP/v7HKke/7X/xhn\\\n",
       "mrgOERdcTzXLK6+8orwr81R2hU0Vb6YrOdMe+qBqVhN665pRHa0q/FXv+up/irRp8X79497V6tat\\\n",
       "i+bNm6//+7//i//iUKfYDN4/jlpi27ZtOvroo9W3b1+tWLEi4Lhly5bpzDPPVGZmpoqKigI2PJ89\\\n",
       "e7YmTpyo7t27u8NeX3/72980a9YsXXTRRXr11Ve9HispKVGTJk101FFH6euvvw64nmnTpmn69OlV\\\n",
       "7n/xxReVkZER8DgAAAAAiFZJSYlGjhypoqIiZWVlJXo5dVZFRYXuvPNOPTjrQZX9u5503p8FF8k6\\\n",
       "EPC4ZPlPGIOFm4E2W/N3TDiblPmrgPU3znPOJEe6Or79kn4afKmMlFJT547kPKHGBppXClzBGyzc\\\n",
       "tQXoWbHoPemyG5L1t0m3aNq0aWzAhpihghd1jius7datW9Afpr///rskqX79wHuNZmZW/mpwVd16\\\n",
       "ysjI0FlnnaWFCxfq22+/Vfv27f3Occstt+jGG2903z5w4IBatWqlgQMH8j9YiIldu3YpPz9fefnv\\\n",
       "qNnO4N2xHOn19O68O3TW2P+nlNJDQcfuat5Q+XkDlZeXp2bNmsVyyXXan1+vfDXbuTPRy6lWjvR0\\\n",
       "vTtvns4aO1YppaWhD6hFdjVvrvy8PL6f4sz1/XVyfp6ydnq/zhXpDu2a966ajT1LSaUpXo8daL5L\\\n",
       "H+Xl8/VBRP78uX6smu30/w4FR7r07jzprLFSSoAff7ualyo/7zuuQ8Scv3/LoHoVFxfr0ssv1fJN\\\n",
       "K1X2UYbUMfqoJlabrdW0Tdui3gQtzHkjbc8QyHl/kT76d7mGXj9DX25ar+eef8mdKwDRIOBFnWOm\\\n",
       "/26snH/++Vq4cKFef/11TZ482e+YevXqqV69qm+HT0lJUUpKip8jgPDY7XZVVFTIXnY4ZGjrklJ6\\\n",
       "KORYe9nhynntdq7VGPrz61VW50JOl5TS0jr33O1lZXw/VQPX95etzF4lxHVJKk2p8pitzM7XBxH7\\\n",
       "8+e6lFJqCzCq8k2VKaWBx9jLxHWIuOB6SqytW7dq0LCz9f0Rv8j4NENqVLUIqVxZAat4y5UWsIo3\\\n",
       "UDh7UP6reGtamGtWIuLRSKp3JUkHpY7HSJ++5NSIm97SKSefoIWL3lGbNm1ivUTUMdSCo85xVfAG\\\n",
       "678rSQ0aNJAkHTwYaK/Ryr+0SgpYadu6dWtJ0vbt28NeJwAAAACg9lqxYoW6nthN3/XfLWNJS7/h\\\n",
       "rku5Ar+7M9iGa/FS7Oc+f7mmv3HVwV9QXR3Vu0HDXQ+NcqTFjxvq1+07ndiri1auXBn+yQAPBLyo\\\n",
       "U0pKSrRlyxZJoSt4XX9BCxbOuh4L9Ne2RYsWSZKGDBkS5koBAAAAALXV448/rrPOHaji+zKkmc2k\\\n",
       "ZJtCNSCIJOQtDDA+cBmT+TnqqkDVuyHDXZ8XPSVFmjVVmnF9sQaf8xc98cQTMVkf6iYCXtQpGzdu\\\n",
       "VEVFhVJTU9WpU6egY10B8N69e7V161a/Yz7//HNJgauB33jjDWVlZWnAgAFRrBoAAAAAUBtUVFRo\\\n",
       "4sSJuu6Ov6l8aXNpXI7PiGi7zEanroW51dV7N1iiPv7/pCX/LNftt0zQxIkTVVFREeOToy4g4EWd\\\n",
       "4uq/27lz55C9plq2bKkTTzxRkvTiiy9WeXz16tXavn276tWrp8GDB1d5fMOGDdq2bZvOOeccpaam\\\n",
       "xmD1AAAgFoqb/Kai3AKvjwPNd0mq3FDN97HiJr8leMUAgNrA6XTqyiuv1NzFT8r5WUvptIwAIwOH\\\n",
       "vImq4o0lK4fIEVXvhnqhC6XTu0mfPuHU2/+bq3HjxsnpdEa6RNRRbLKGOsVs/12XqVOn6oILLtB9\\\n",
       "992nc845x33c3r17de2110qSrrvuOmVnZ1c5dsGCBZIqN1oDAACJl5GRoeSkFG0Y/nqVx5KSktRV\\\n",
       "XfVRXr7fypnkpBRlZAT6hzgAAME5HA6NHj1a/1m/QMbK9lKLVCWuQ21w/jZb83dfsRKzwZknf+cP\\\n",
       "p/+u3zkDVO8G21gtYh5pd5tcadWcCp05ab6uuOKQnn32WSUnE9vBHK4U1CmuCt5Q/Xddzj//fE2c\\\n",
       "OFGzZs3SSSedpDPPPFP169fX+++/r/379+vUU0/VXXfd5ffYBQsWKDU11W91LwAAqH7Z2dm6buIE\\\n",
       "lZSUVHnM6XRq7dq1ysvLk91ur/J4RkaG3z/oAmb91iRwMuBMk6R07WpeKnuAYcGOB1CzHT58WJdc\\\n",
       "cole/36JtPJY6Yjg7yat1FD+ty37s4o3WQf8PJamZFX9eeEvoJUqi0vrm1hNTRDr5hWxmi/i6l0/\\\n",
       "pcwtmkgrZxv6y6QXdfHFZXrppZd4RzBMIeBFneFwOPTVV19JMl/BK0kzZ87Uqaeeqrlz52rNmjVy\\\n",
       "OBxq166dpkyZohtuuMHvD9tt27Zp48aNGjRokLKyAr+FBgAAVK/s7Gy/Qa3D4ZAkNWvWLGQbJyAc\\\n",
       "GRkZSklK1uvDfwo4xlVBnp/3XdDeiylJyVSSAxbjcDgqw91tS6Tl7aXGnjGMq640UCVv4JA3mHBD\\\n",
       "3ljap0R3EY5OuNW7UbVmCOCIhtLye6Wzpv5Plw47US8vWkslL0LiCkGdkZKSokOHDkV07IgRIzRi\\\n",
       "xAjT42nPgJrotyah/9jgTKv8g8Wu5g1lLwu+s4CZ+QAAqOuys7M1YeJ1fivHXUJVkLtQSQ5Yi9Pp\\\n",
       "1BVXXFFZuVsl3DUreCWvvyreWDDbpqGmMdueIe4hdJiVu74aZ0nvzpD6T/5CV4zor+dfXRH09wNA\\\n",
       "wAvEwYIFC2Sz2TRs2LBELwX4o3LIrteHnxZybGUFkZSfN9DU7q0pSXYqiQAACCFQ5bgLFeRA7VNR\\\n",
       "UaFx48bp5Q2LKtsyBA13MxW8H2/4lbzhVPHWxDYNZoLkWPf/jWn1bjT+uBRcIW+/yR9q/BXD9PTz\\\n",
       "C5WUlBSnk8LqCHiBGNu7d69Wr16t3r17Kzc3N9HLAf6oHLo+aOWQi9kKIhcqiQAAAICqJk2apOdW\\\n",
       "/1fGyhOkI9L+uDdY6WZkIW88q3jNMLPRWk3YjC1SYYe7odoyhKre9bkEmjWU3r/X0Bn/WKwbrsvT\\\n",
       "zEefDTEB6ioCXiDGGjdurPLy8kQvA/ASqnLIhQoiAAAAIDqPPfaYHv3PU6r4rJfUIs3jkUaKLuT1\\\n",
       "L1DIG20Vr9XaNETTniFQ9a4/EVfuhhnuurRoLL03o0K9//acju/UU9dMmBjhAlCbUdsNAAAAAAAQ\\\n",
       "AytWrNDEm/8m5/86S0el+xkRKh4NVusauHNsuWrO/hjx6lxQ3QJV7wYUTd/dELl+m2bS//4m3XTz\\\n",
       "TVq5cmWYC0NdQMCLWiMnJ0d33nmnxowZk+ilAAAAAADqmK1bt+q8i4apfNax0mnBtvGKT8jrT7nS\\\n",
       "/N7vL28M1V0gkWK1KVpCqnejDHdVWPlx2nHSzMvKNfyCIdq6dWsEC0FtRosG1Bo5OTmaNm1aopcB\\\n",
       "AAAAAKhjfv/9dw0ceo6KRzWVrjxOkbRa8BasXUN4/XgDtWoww0xLhkT02DVzvmjWFFb1bjTJeJiX\\\n",
       "ybj+0hc/F2vYkEFa88k6ZWZatbsxYo0KXgAAAAAAgAhVVFRo5BWj9EPzfdJDnf+4N1Tw1kjRdbP1\\\n",
       "X9MaqFWDv0reSKt4QxWkJoKZV7Laq3f/qLwNyGTlrq9/XSYdYfteV1w2UhUVFWEuCrUVAS8AAAAA\\\n",
       "AECEpk2bpsWbVsh4+UQp2TNmMVNdGSyazDQ5R3zVxEA3nvxV7wYMdyOt3jUT7gaQbJdevt7QFx+/\\\n",
       "renTp0e4ANQ2BLwAAAAAAAAReOWVV3TvzAfkXNhbapTqZ0S0IW8wiavirel8X3Wz1bthhbvBRFu5\\\n",
       "G0LjcumNcU498q8H9Oqrr4azMtRSBLwAAAAAAABh+vHHH5V35ViV/7uH1NF/qFrJTCVupJW84YW8\\\n",
       "kfLNHH1v+2aWkWSiZiW+plmVKXigJDzO4a7rxe2UK/17VJnG5o3Rjz/+aOJA1GYEvAAAAAAAAGGo\\\n",
       "qKjQmLwxKrviKOm8jjGaNf6VvGareGMt2i3ngvF91UxtwBav6t1qCnddzusiXd6zTGPz8ujHW8cR\\\n",
       "8AIAAAAAAIRh7ty5+mz7V6q4v+cf9zRUoKD1T7Go5I2ev5DXV01q0xDqVY338VUkuHLX1wPDKvTT\\\n",
       "N5/q0UcfNTEJaisCXgAAAAAAAJN++OEHTbllisrm9ZEyUyKYIR4hr/+A2WyrBjP5Ym3ZbC0u1buR\\\n",
       "hruFIY6VKoPdIGvJrCfNu6RMU6ZM1g8//BBiMtRWBLwAAAAAAAAmVFRUaOzYsSof007ql+tnhJlK\\\n",
       "Xqk6K3kjbdUQqoo3VB/eSIXTqCKS9gxm+A13A/XdjaZyNxSTIXP/FtLo7uUaO3YsrRrqKAJeAAAA\\\n",
       "AAAAE+bMmaPN27/T4fu6hxgZi5YNjRQ47kzspmuJEm6A6/tqmK3ejYlYVO6GcZ77Bx7W9i3rNHfu\\\n",
       "XJMHojYh4AUAAAAAAAjh+++/1y1Tp2rPvNOlzGYmj4p5B1gP4YW8viKp4g2nTUO4+5MlgunWDIEq\\\n",
       "dwO9IKHC3WBCtGTwOofHeTLrSfOGFuuWW6bQqqEOIuAFAAAAAAAIwtWawZbXWerXOsyjY1HJG+xY\\\n",
       "c+c026ohHJH25Y1HP1/fV8JM9a4v0+FuMNGGu1Gco187aUxPG60a6iACXgAAAAAAgCCefvppffvL\\\n",
       "Vh28r4/HvcFaKPgy27IhkNj15A0l3F68nmLVh9eMcHr1+uNbvRtWuBuvyt1QfKp2/bnvzIPa/uMW\\\n",
       "PfPMMyYmRG1BwAsAAAAAABBASUmJpk2bpj0P9JTqp/oZEW7QG0wsQ17/Vby+lbzhVvH65pTxqMZ1\\\n",
       "ibTBRSTVu6bFOtwNpyWDCZn1pPt77dGdd96pkpIScwfB8gh4AQAAAAAAApg5c6YOt0yXc/gxIUZW\\\n",
       "V8gbzsZrkUWk0VTxBhJtdW+wVyXcGuaIq3fjUbkbiomqXa9zFUoXHevUkTmpmjVrVpQnh1UQ8AIA\\\n",
       "AAAAAPhRWFio+++/X/vu6yXZbCaOMFvNG6plQ6i+vOEI3Y832iremiQm1bux6EsRbBM2yVzlbjip\\\n",
       "uMe5bDbpvq7bdd9996mwsCZ/tRArBLwAAAAAAAB+3HvvvarX5yhVDOio8ALXcILeYAKdM9D8gYLh\\\n",
       "0JW8viFvpLGgZyZpds+wcEXTfzdk9W6gyl1/L0ikZclmgt0wq3Z9nXlUhXq3b6777rsvvLXBkgh4\\\n",
       "AQAAAAAAfPzyyy+aO3eudt93sse94VbWxjPkNTu///P4VvFW3he4ktc39ywM8Hl1C9q6wad611Rr\\\n",
       "BrOiqdyNZN5wzyPpvo5bNGfOHP3yyy8mJ4VVEfACAAAAAAD4mDZtmrKGdZV65Pp5NJygN1YtG8KZ\\\n",
       "39z6/IW8nqz25v5wOg5H1Xc3WLgbSKxaMpgIdl1OaCYN7Zil6dOnmzsAlkXACwAAAAAA4OHrr7/W\\\n",
       "Cy+8oF139Q4xMpyQN9pq3lhU8kbXjzcWm62Z5bnSSLoRh6rerSLe4W4wZlsyhJu4F0t3d9ilf//7\\\n",
       "3/rmm2/CPBhWQsALAAAAAADg4dZbb1XHsWdJxzQ2MTrcat5QYWwsN1+LrB+vp2CZYqA2DZG2pjUT\\\n",
       "U3uOiXQbOtN9d33FOtwNJ9g1G+4Wy2veY7KlvB7ZuvXWW01OACsi4AUAAAAAAPjD5s2btXjxYq27\\\n",
       "vY/C63Eby7YNoVo2BJozULsGf/P/KZ5VvPHaaM2XV8VvuNW7vmIR7oZqyRDrYDfInLe336W3335b\\\n",
       "X3/9dRiTwUoIeAEAAAAAAP4wa9Ysdbz0LKm5K/QMJ+SVzAe90VTzBjtH7EPemtiL1/MZBYvCQ26s\\\n",
       "Fmz3OJdIwt1gQoW7kQS7QebMrS9d0rWhZs2aFcaksBICXgAAAAAAAEmFhYV6/vnntf5vHX0eMdtD\\\n",
       "11Os2jZE0pfXbMjrLdima55548EA94fKJCNt3eBi5ivgW73rKWbhbrAANtqWDDEMdj39rc1OPffc\\\n",
       "cyosrIlxPaJFwAsAAAAAACDpqaee0lEndpLR7cgAIxopvLA3Vm0bgrVsiCbkDd4GIlirhlCiDXNd\\\n",
       "Iu2zK4VozWCm10Q4TyLalgyR9NkNQ/cmhnq1ytHTTz8d3oGwBAJeAAAAAABQ5zmdTs2dO1c//q2H\\\n",
       "ySPiEfTGumVD+CFvJFW81S1Qe4awqnc9mQ1Xw22dIIUOY2PUZzeoP8Lnv7XYq7lz58rpdEYwCWoy\\\n",
       "Al4AAAAAAFDnLVmyRGVOhw6dd3yYR8Z6I7ZYt2wws77Ac5qp4o31m/79rSbcBhme1bshWzP48hfK\\\n",
       "RrKZWqzaMRQr/KrdfaqytqFHHFL5oVItXbo0jIlgBQS8AAAAAACgznvqqadUMfZUKTlwBWtgkbRu\\\n",
       "MDunP+G2bPCdJ3jQHM2Ga/4eD7XnWKTMVO+G3Xc3UM9df6JtyRBKBK0YggXOyUlSXpsKPfXUU2FO\\\n",
       "ipqOgBcAAAAAANRpO3bs0Ntvv629V/b+4576Hh/hMhv0xqJtQzQhr7+5/pwvWKsGFzOFsLFm5hUL\\\n",
       "2Hu3OsLdWLRkiHGw6+nKI/bqrbfeUkFBQZgnQE1GwAsAAAAAAOq0/Px8HTugj9SmiZ9HIw17ww16\\\n",
       "g0WXoap5A80bah7zlbyBqngP+rkvVsxusOZZvRu0NYOnSMPdQEFqrHrtxinYdTk6U+rf9Vjl5+eH\\\n",
       "eSLUZAS8AAAAAACgTnvhhRf0w9iuJkbGs6JXijzoDdSywWxE6jtXZAp9/hsrgZ5xWDyrd81uqOYr\\\n",
       "nr12w6na9dNf17RCaax+0L///e8IDkZNRcALAAAAAADqrO+++04//PCDDp3T0eQR8a7olcxtxOaP\\\n",
       "v6DXX2jsryev7zyVzFTxVhd/r4qp6t1gvSTMbqgWSbgbqmo33M3TIg11fdZyTs4hff/99/r+++8j\\\n",
       "nAw1DQEvAAAAAACosxYtWqS2/U+UGqRHcHQkYW+sevSaDYvNHu97PvP9eEP14pX+zCVdWWY8A+Kg\\\n",
       "4W64u8RF0pLBbLBrRpTVuv7WkpUs9e/UVosWLYpgUtREBLwAAAAAAKDOWrRokbYN7aLwKmz9iTTo\\\n",
       "DXXOYEFvOC0bzFTyBuYKecuV5q7k9Zdh+rZpMJtjulZipvWCvzGu6l3TfXd9Q1Z/oWysg13X8WbF\\\n",
       "oFo3kKHGTwS8tQgBLwAAAAAAqJP27dun1atXq2zICR73mg1eA4lXVW+8gl5/G695Hm+OmSrecLhW\\\n",
       "0cjntueKPNsz+BWo766ZkDXccNVMsGv2vJFU7Aao1g1kSHaZPvjgA+3bF2mKjJqEgBcAAAAAANRJ\\\n",
       "ixcvVm7n9lLrpgFGxCrsNcts64ZojjcjdKuGYFW81cFf792ArRmChbvRVu7Gqh1DNYS6no5Klzq1\\\n",
       "ztWSJUvCPxg1DgEvAAAAAACokxYuXKi953U1Obq6qnrNhMrhVvPGrpI3WD9eV6bq26Yhnjw3Vquy\\\n",
       "EN9FhNpMzV/IGs9gN5Jq3ShCXS/F0nn2vVq4cGGUE6EmIOAFAAAAAAB1zuHDh7V48WKVDO0Z5pGN\\\n",
       "FF1lbzhVvdEGvb4CBb3B5vc81pvZKt5w2s56CtSewV9rhqC9d/0xW7Vr5ljfY8wGu2bFMNT1XN/Q\\\n",
       "9BItXrxYDocjyomRaAS8AAAAAACgzvnggw9kz0yXTmgb5UyRhr2RVPUGEijoNbum8Cp5/VXxmske\\\n",
       "Y93tNWhrBs9A1N+GasEWFknVbqyD3ViEusWqEup66pkpZSQn6YMPPojiJKgJCHgBAAAAAECd89Zb\\\n",
       "b8lxbm8pKUvBq1jDEe+w10zQa+YYM5W8gULeSq6Q11XF6xKLNg3+nkWw6t0qJw/Gc0GBWjL4O6a6\\\n",
       "g91IhAh0fSXZpCENHHrzzTcjPCFqCgJeAAAAAABQ53z88cc6ePrxHvdk+nxEK9qw18zc/gSr5g0V\\\n",
       "9Jpp11C1H69vqwYzOas/VZtABF5Rlepdf313Q1Xu+jKzAZvn2GAhajj9daOt1jW7kZsfp6Uc1Cef\\\n",
       "fBLhiVFTJCd6AQAAAAAAANWpvLxc6zdskNHzyiCjfKPFSDvJSt7BqtkUzxXyBotLXfP6m9O1ft91\\\n",
       "+zumof5MIjM9jvEd63rMc7w5xT4rChWhB4vF/W6s5uIZ7vre52K2atcfM9W6ZkTbeiFGemYa2rB+\\\n",
       "vZxOp+x2e+wmRrWighcAAAAAANQp33zzjYwkm3RcyzCOilWFb7iVvWbaN0Ra0evJt5LXty+vL+9+\\\n",
       "vP42XIt2TzDflXm2Z7Dt81O9G24jYH+Vr4EqaYNVyZqt1o2mUjeM1gvh6FAqqdyhb775JrYTo1pR\\\n",
       "wQsAAAAAAOqUtWvXqnH3DtoRVcViLCp8w63sDVXVG2w+z8pc3/Gusa4oNVA1b6G863ADV/Ie/GO1\\\n",
       "rpldZ9on/60YPFfp9/M/wt0q1bu+4a7Zyl1/wa4/0VbsRtN2IR581mO3Sd2z6mnt2rXq1KlTnE6K\\\n",
       "eKOCFwAAAAAA1Clr166V0fPYGM8abXVvOJW9Zqt6fUVazRtszsoq3sqPqlW80fIXBpuq3A22mZqZ\\\n",
       "cDdWFbvhiHWVbqGfDz962h1au3ZtjE6KRKCCFwAAAAAA1Cmfr12rgqsHKXgP22hEW90bTmWvZ8jr\\\n",
       "W9kb6Pn568/byGecb19e13jPSt6qVbzlSlOyytwzea7OTO9dz1W7VxuoelcKXbkbLNj1HRtojL+5\\\n",
       "AgnnUopllW4Ul3BP+2E99fnnsVsLqh0BLwAANdBvTZokegnVzplWWfGxq3lz2cuC7ZxR+9TFrzcA\\\n",
       "AInidDq1fsMGqeckj3v9VabGMvSNJvANN+z1174h0By+QW+olg2e81UNecuVpWQdqHJ23zYNvvxV\\\n",
       "6WYGuN+2T8H3nTMb7gaq2vVVU0PdGF6ePdOka9evY6M1CyPgBQCgBsnIyFBKUpJeHz480UupdklJ\\\n",
       "SeoqKT8vTxUVFYleTrVLSUpSRkZGopcBAECt980338hpGFKHNiFGxjP0jTTw9V2Tv/UEq+j1nCPc\\\n",
       "oHefzFbyuqp4XSsI1kjCpaH8V/d6Vu/aPMNWz+UX+9znG8oG68vr+7hLLNsvRBvqxrrA3EeHepLh\\\n",
       "dGrLli3q2LFjfE+GuCDgBQCgBsnOztaEiRNVUlKS6KVUO6fTqbVr1yovL69OVg5kZGQoOzs70csA\\\n",
       "AKDWW7t2rXK6H6/fIvr/jXiFvtEGvoHWEKp9Q6jWDZ5jfFs2+A95yyUl64DKlaZClZnqKByKV2sG\\\n",
       "z6fhL7g1W7UbrL9uINUV6sY50PWVbJO61UvS2rVrCXgtioAXAIAaJjs7u04GfQ6HQ5LUrFkzpaSk\\\n",
       "JHg1AACgtvrqq69U3vWYGM4Yj9A33MDXTBsHV9jrmZCaad3gGSJ7tmwIHfK6+KsjDtSLt5H8t2cI\\\n",
       "WL3rryVDLINds1/KSAPd6gxzg7S26GZz6Kuvvqq+tSCmCHgBAAAAAECdsWPHDh08Lt7972Md+oYT\\\n",
       "+IYKewNV9QZq3eCvbYNnywZ/Ia9Urqw/Rvuv4i2WFOqrkHnYozWDa6mFqvr0A1XthtpALZpq3Zoc\\\n",
       "6AbrURzAkbYKfbdjR+zXgmpBwAsAAAAAAOqM7QUFOtyvk7xbDlSHWIa+ZgNfs2FvsKA3UNuGQCGv\\\n",
       "5NuPVyrTQQXeZM33zA31Z+9dL4Eqd118e/H63u8SabVuJKFuPAPdCILcQHLt0qpftsduQlQrAl4A\\\n",
       "AAAAAFBn/FKwQ8o94o9bvo0AfMU7AA4UeYabCnoGvmbCXt9z+Kvq9Q2H/W2wFvz1c7VqKPQ4ItAz\\\n",
       "zvT5r+RTvetabrHH5/5aMgRrx+Dvyxnspa4JgW4MQ9xgcu1SwS+/VM/JEHMEvAAAAAAAoM7YVbBT\\\n",
       "atHM5OhEBcDRVPtGW90bqKrXt6LX81jPal7XfZWfl7vvKVN9+avxrcpVvRsw3PXXkqHQ57Yn3xPF\\\n",
       "KtSNZZhbTUFuIC3sUsGuXYldBCJGwAsAAAAAAOqE0tJSFe/bJ+U2jdGMwQLgWIe/kYa+ZgJff/13\\\n",
       "fat6/bVu8NyETfIOef+8r1xZSg7SpiHH43PXK5pcJu/Q07Ny13Xbd8meTy0eoW4sAt0EB7mB5Nql\\\n",
       "wgO/q6ysTGlpaYleDsJEwAsAAAAAAOqEnTt3yma3y2jauBrOVh3Vv5G0eAgW+Iaq6g3EN+j1nLeV\\\n",
       "pGKV64C7ite1imyfM2fKZ2M1SfrZYzn75L8dQ6BgN5pQN5owtyaGuCGeT1NDSrLZtHPnTrVp0yaq\\\n",
       "U3322We68847tWbNGjkcDnXp0kU33nijRowYEdW8CIyAFwAAAAAA1AkFBQVKb9ZUJUlJiV6K4lv9\\\n",
       "G061b6DAN1jY669Pb6C5i1UZ8GZJkg6qLOBRXq+IZ2sG37YMvsGumWrdeAS6iQ5yY9giwm6TmqWn\\\n",
       "qaCgIKqAd/ny5Ro0aJDS0tJ0ySWXqEGDBnrttdd08cUXa/v27brppptit2i4EfACAAAAAIA6oaCg\\\n",
       "QHb3Bms1WTyqf82Gvv4C32BBrqvxgudGbL7HZ0rKVLm2u6t4PWfM9DgypUB/hruu6l1X5W64FbuB\\\n",
       "Qt1wg9HqDnJjvVGbSbkpySooKIj4+PLyco0fP15JSUlatWqVunfvLkm644471Lt3b02dOlUXXXSR\\\n",
       "jjrqqBitGC414U9WAAAAAAAAkqRXX31VNpst5Efr1q3DnrugoEBGixb6M1IM56MmaRjiw6xGfj58\\\n",
       "+XsdPMfX/+Ojlcd9mR6ft5LU+o/PG6pMR3gV53o+o8zD+jPcLVZleLtdlUGvZ7i7z+Oj0OOj2OdD\\\n",
       "Po8XKnh4ejDARyz4W0egjwRpISOqgHfZsmX64YcfNHLkSHe4K0nZ2dmaOnWqDh8+rGeffTYGK4Uv\\\n",
       "KngBAAAAAECN0bRpU40ePVrPPvusTj75ZA0cOND92HvvvacPP/xQl19+uQYNGhT23Pv375cjJyvC\\\n",
       "lUUb8prdySsWoqkADlXpa/Z1cFX1emr9x2y7vRo9uFabUqA/K3c9q3Z9WzH4q+T1t9RAYlmRm8BA\\\n",
       "NtYaOsu1f//+iI9fsWKFJHl9z7q4vl9XrlwZ8fwIjIAXAAAAAADUGP369dMPP/ygZ599VldccYWu\\\n",
       "ueYa92ObNm2SJP2///f/IuoTWl5eLiMlUVFINAFxrMPhcAPgYKGvv+flCnddMW6mx32FKtMR2q7d\\\n",
       "7tH19Uf1rqtad98f/3VV63qezvelCFWRG4laFNqGI9moUHl5ecTHf/fdd5KkY489tspjzZs3V2Zm\\\n",
       "pnsMYouAFwAAAAAA1CgbN26UJHXt2tXr/g0bNig7OzviTaDKy8tVkbCANxrVXT1sJgA2u8GaVDXo\\\n",
       "/UHlWqxf/nj0yMNSyk+qDHU3qmqw67l83/A1nBC3NgW3xc1jPmWyiqIKeIuKiiRVtmTwJysryz0G\\\n",
       "sWXFn2oAAAAAAKAW++KLL2Sz2dSlSxf3fQcOHNDWrVt12mmnRTxveXm5KpLrYhQS64A4UADsut+V\\\n",
       "zjZSZVsGz/Lb7ZKkcp2uD7RaYyWlrJX00R/DtuvPUNczkA0U5CYytI1DyJpIKZIcDkeil4EI1MWf\\\n",
       "agAAAAAAoAb74osv1LZtWzVo0MB934YNG2QYhrp16xbxvOXl5UpKSlI9R+RVinVTWpjjc31ue/Y9\\\n",
       "7ixpv6SBsh06UZJ06N106UNV5sIlfwwL1ibYpbhZmOuKsfTEnj7W3iz7TSn//a/uu+++iI53Ve4G\\\n",
       "qtI9cOCAGjYMZxNAmEXACwAAAAAAaoyff/5Z+/btU//+/b3uX79+vSRFFfBK0qCtOzX+7U+jmgOx\\\n",
       "0luS9H6veVKvBC8FKh03TilRHO/qvfvdd9+pZ8+eXo/t3LlTxcXF6t27dxRnQCAEvAAAAAAAoMYI\\\n",
       "1n9Xii7gTU5O1rutjtSywYMinqPOKbOHN36/z21XJW6xpF//uL1d0idSr7WHddO89/SXselKLd3s\\\n",
       "MeCgvEt4A/UQ9j1ZdYt0F7eaafjhMmVfeWXEx/ft21f33nuv3nnnHV1yySVejy1dutQ9BrFHwAsA\\\n",
       "AAAAAGqML774QlLVIHfz5s2SpE6dOkU8d3JysioqDB1OiaZO0WJKwwxoffkmR4FaJ/j2wvXXQ/dn\\\n",
       "ST9IWi1pu9TsUOVD5aX9Vb80WZKhynYO+1TZ5sHVjNfVQ9j3JBlmn0WQhUcjkbFauBvnheaUUylR\\\n",
       "fG+ceeaZatu2rV588UVNnDhR3bt3l1TZsmHGjBlKTU3VFVdcEaPVwhMBLwAAAAAAqDFcFby+AW9h\\\n",
       "YWW499lnn6lLly5q1KhR2HMnJycryWqbSEUb0IbLTA7qb2OzYj+PH5T3hmnb//xv1n65e9gWS8pW\\\n",
       "d1VuyvaDKpNg14SNPCbMlPlg0+zGcL7iEQTHQ7Qb51VVnupQchSbECYnJ+vpp5/WoEGDdMYZZ+iS\\\n",
       "Sy5RgwYN9Nprr+mnn37Sgw8+qDZt2sRuwXAj4AUAAAAAADXGxo0blZWVVSUIGjVqlB566CFdcMEF\\\n",
       "euutt3TyySeHPXdycrJsiQh4qzukDSbc/NJfmOsSKNR13fas4t2uyty2UEotroxbXfW3WyUlq5Ga\\\n",
       "qVCVjzT84wBXoNvQz8KLVRn+BlpwoAA0VEAcziZgVgmDzSlPskUV8EpS//79tXr1at155516+eWX\\\n",
       "5XA41KVLF91///26+OKLY7RS+CLgBQAAAAAANcaWLVv83j9t2jRNmzYtqrlzcnKUsn+/DoV7YE0K\\\n",
       "aEOJJnMMFuZKVbNR3xYMnve5wt19Hp//Ub2bVu4dzboKfZuohexqpMok2PVEXBW8vtW7npW9novz\\\n",
       "nNnfE4o0+PWndlUF70u2KScnJ+p5evfurcWLF0e/IJhGwAsAAAAAAOqE3Nxc2X4tsFZg6ytWWWGo\\\n",
       "MFfyn3n6C3U97/es2vUMd//IbFP/mNMzZt0nqYGkPcpQE0l2ZUpqpz8TYtcJwmlLEKrC11csg19f\\\n",
       "1qgK3mGrUG5ubsLOj8gR8AIAAAAAgDohNzdXzp0FiV5GcPHI98yEuVLoQNclULDredsz3C3+83Za\\\n",
       "eeC4szLCzVB9v8GsbwWvb+sG1zH+WjT4Vv76O3Mg8Qx+/UlcVXBB+SECXosi4AUAAAAAAHVCbm6u\\\n",
       "SnftkpxOyZ7AKt54FmmaDXOlwBlloDmCBbuu+/bJO+z1CHldvXcbqWqLBldcW3loI9WvcvJ9Cl3B\\\n",
       "u0/+WzT4Huf7xH1DXzMvYnUHv75iWxXslKFdZQcJeC2KgBcAAAAAANQJubm5MpxOac8eqVmz+J2o\\\n",
       "Ot5lH06Q6xIqezRbres7n2cnBc+xxd6PpZUHP71nPOtU2h/9eP1xtV/wbNvgiohdM0lVq3pdAlX3\\\n",
       "uoRb5Rtobl/VFf76Ch0G/yaHKgxDzZs3r4b1INYIeAEAAAAAQJ2QlpamzIYNVbyzIPqAtzpbpUYS\\\n",
       "5krm8sRQoa6/Mb7tGDzvD7DJWqrHWlwRqGfsWOjzXylDaZJPyFso/2FloKBXClzV67sazyfhTyRV\\\n",
       "vr4SXfUbWIEOq1GDLKWlpSV6KYgAAS8AAAAAAKgzmuXmqrhgh9Ste/CBidrrKtIwVzKfE5ppweBv\\\n",
       "rL9gd5/PY56f//GYK9x1tWfwtV9yt2RwxbHFkv6MGv0d5WrZ4LmZmm/Q6zqr50KDhb3yc3wg0VT5\\\n",
       "Bjqnr+oLfnfIodx4VrUjrgh4AQAAAABAndEyN1c/7CxIXIDrEk2Q6ynSKl2XUKGu7zk8N1HzfNy3\\\n",
       "ctfn2FDtGXxP30hSmbuKt+yPRzw3WvOt5A036JViU9nrKRZVvsHW4Cm24W+BHMpteXRM50T1IeAF\\\n",
       "AAAAAAB1RqvcXKVuK9Dh6jxprMJcKfoqXRczwa7v+XzDXd+1eN72qd715buJmuewhgrUqsEzuHUt\\\n",
       "qKG8q3mlP/vzSuaCXtcxnvP6CtW3159YVvn6im3Vb4Ecym3VMvLlIKEIeAEAAAAAQJ3RokUL1d/5\\\n",
       "S/wC3liGuVJ4eV0koW6g4/wFu1LVcLcwwG2P+9LK/2zPkCn/saenfapan/vnpmuukNdzozXPkFeq\\\n",
       "Ws0rBQ56PZ+US6DN2Vwiqe71nTvY/NGILPj9NalcLVq0iP1yUC0IeAEAACBJKioqUklJSaKXkRBO\\\n",
       "p1OStGvXLtnt9gSvJjEyMjKUnZ2d6GUAQNx16tRJycsfj81k8cjnwi3ANLOGSINdzzG+LRk8H/O8\\\n",
       "7REAB6reNcu7irfERMjrWqhvNa/nbJ6PuURa1esSaeAbzwpfX8HbPWxMOaxrO3WK07kRbwS8AAAA\\\n",
       "UFFRkebOmiVHRUWil5IQSUlJ6tq1q/Lz81VRR1+DlKQkTZg4kZAXQK3Xs2dP7f9yg+R0SuH8US9e\\\n",
       "uVukIWik1bqBjg0U7Er+w13f2/42Y1N4vXd9p3HFrpXTVYa8lQKFvJ58K3b9tW3wWaypql7fVfoT\\\n",
       "STsHf+cxc67olStDGysOqmfPnnE/F+KDgBcAAAAqKSmRo6JCF7z2mpru2ZPo5VQ7Z1qa1j78sPLy\\\n",
       "82UvKwt9QC3zW5Mmen34cJWUlBDwAqj1OnToILvNJsf330jHBahYjGemFq9AVwoe6gabI1A7Bil4\\\n",
       "5a7vMQE2rnO1Z4iW96ZrZip5peDVvK7HJf9VvYF24quusNf3XGbPGZ5vVKKk5GQdd9xxMZ0X1YeA\\\n",
       "FwAAAG5N9+xRbkFBopdR7Rzp6ZKkZjt3KqW0NMGrAQDEk91uV4/u3fXRF2srA954F0hG06YgnLWF\\\n",
       "04ZB8r+uQFW7nuN92zIEmDe1uGr1brAmAfv8jHHd1+iPaV2PVbZqCBbySt4BrW9bBrNBb7CKXt+5\\\n",
       "fOfzJ9qw1985zZw3uLX6Xd17dK+zbapqg6RELwAAAAAAAKA69erZU7nr18a37YLrI1yFHh+hHPT4\\\n",
       "CDRPoLUFG+tbtRuoctfzPo9jwu296y86DTRFmTIkVYa83lzhaSP9GYA29HncN2L2Vx0bKIZuqKpb\\\n",
       "v/lqJO/zB5Pp8xGNRn4+zFubWqaevXpFuQYkEgEvAAAAAACoU3r27Cnb5rWxm7BYNSPU9ZzPV6C1\\\n",
       "mWnJ4DvON/Dd53O//qze9W3PYCZ6DNQBwv9L6xlo+gtKfYNZ30A1UMgbKug1E/aGI1Zhr+f5zYW+\\\n",
       "a1NK6b9rcbRoAAAAAAAAdUrPnj2196trw99ozSWad9e7hFs9HGl/XSn8YNf3mDDCXc/q3VARqBn7\\\n",
       "/MxT9seGa3+2avDk2a7Bc6FmeuqG2qjNl2+/30Dz+ps7GN+QNxYXnOSvtYNThjYc2kfAa3FU8AIA\\\n",
       "AAAAgDqlQ4cOshmGtG2LuQOirdB1CadSVzJfrRusz24kVbuhwt0IeEaW9YOMKw7wuW8Vb9VWDZ7h\\\n",
       "ZaAKXTMtG4JV9FZX+4Zwzx+pRvpGKVJKsjp06BDjuVGdCHgBAAAAAECdkpycrB7duwdu0xCrQFcK\\\n",
       "P9SVQoe6nvP6EyzYDVW56zvec07fOQJU7/purhYt12nCC3k9+Ya8kQa9rvGBmAl6PeePNuyNPvBd\\\n",
       "a9vPBmu1AAEvAAAAAACoc0466STVX/9B5Y1YBrpSZKGuVP3BbjSVu8GCYf0Zc0YSYfqePjye/XiD\\\n",
       "9dr1DWL9haXBQl4zQW+8w17PtUQW9q6uX6w+ffpEeG7UFAS8AAAAAACgzjn33HOV8sFb0oGK2EwY\\\n",
       "bagbTbArBQ6m/R0TrN+u7zH+Ql8/G7GZqd4NFWH6y4wDPa3AVby+Z4pFyBtp0Os6h9luxNUb9lbI\\\n",
       "0JspuzVkyJAIz4eagoAXAAAAAADUOaeffrqcJcXSlnWRTxLvUNfzHIGEU7UrRR/u+jk2NUTVc7i1\\\n",
       "pcEKhoO9FLELeRMd9IY6nxmhWzms1T6VVJTr9NNPj+I8qAkIeAEAAAAAQJ2Tmpqqc845RxkfLjR/\\\n",
       "UKEiD3Ul86Gu57kCCdZOIlCwG4twN0hrBlf1brTtGczyreKVwgl5g/XldY0Pp21DsGM8RRr0Rvtq\\\n",
       "Vg17F2YU6pxzzlFKSkqUcyPRCHgBAAAAAECdNHToUDX+ZFHogZEGui7VGeyaqdp1zeN7bDhMVu9G\\\n",
       "w3dTtWBVvJ4hb+T8Ba/hVvO6jjEb9CYu7F3U+KCGDh0a5VyoCQh4AQAAAABAnXTOOeeo4JsvpZ0/\\\n",
       "V30wmkpdKbw2DJ7nCyZYmBro2HDDXc8A2XdNJqp3q5u/l6RqFW+wjddCtWzwd1yw480c5yvcoNfz\\\n",
       "3JGFvT+pWF8VbNPZZ58d0fGoWQh4AQAAAABAndSwYUOddtppSvvozco7qjvU9TxnMJFW7fpryeDb\\\n",
       "esHscw2ysZon3/YM4fbfNbsMf90kArdqCMVfyGu2mtd1fCyD3viHvW+m7dLpp5+uhg3DPRdqIgJe\\\n",
       "AAAAAABQZ5133nlq8/HC6mvBIJkPkiMJdiVzVbuBzuc5v7/5/MxjpnrXFT3W97kdaim+bRo8hXr5\\\n",
       "gvfj9Q1czYajwYLaUHOEE3dHGryaC3oXHlWq8847L8JzoKYh4AUAAAAAAHXWeeedpx8/Xi6V/B7e\\\n",
       "gfGq1pWCB7uueQIx25IhUFuGUOuKE9dygnSBcAv2FMuUEaQfr2/wGSrkDVbJG+9qXs/zRxL2Bq7q\\\n",
       "PaDDWv7jF/TfrUUIeAEAAAAAQJ117LHHql27dqq3frG5A8INdV3MVgiHClGDVe2Gaslghsm+u2ba\\\n",
       "M9QEVVs1hBvySoED1lgEveGGvZHwXsviert0zDHHqF27dhHOh5qGgBcAAAAAANRpo0aNUrsP5wUf\\\n",
       "FEmwG05PXzNVu2Z77YZak+95AwnQmsEz3K3OzdVCtWnwfDy8frzRhLyhmIm7q7eqd167Yl122WUR\\\n",
       "HI+aioAXAAAAAADUaXl5efpuzTJp1zbvByJpwyCFH+pGEuyamTfUPP7GuJgIjT3D3XC2JAtXoFw7\\\n",
       "HIH78QYSKOQNt2WDay6zQW84wg96t6pIy79br7y8vDDPhZqMgBcAAAAAANRpLVq00ODBg9V4+TOR\\\n",
       "h7pSeGGsmdYJoXrtRrqZmr9xwc4VoHrXH38xZqQtG8w+FTNVvFX5a9VgduO1SFo2uOYzsxFb/ILe\\\n",
       "Zxpv1bnnnqvc3Nwwz4GajIAXAAAAAADUeePHj1fSe/MkZwQ9B8INds302Q2n167n3GbmChXuBmjN\\\n",
       "EEikzQsiEe5ecMFbNZit5A23ZUOogDYxQW+5KpSftFnjx48Pc17UdAS8AAAAAACgzjv77LOVlmxX\\\n",
       "vfWLzB9UncGumfn9zRdqXLBw10eieu8G4rlUsy+buU3XYrHxWawaVIS7GZsUqE/vwno/KTm9ngYN\\\n",
       "GhSjtaGmIOAFAAAAAAB1nt1u14QJE9R21czQg2Md7LrmDCaSyl0z44IJd7yHaOJNf0/TzMtttlWD\\\n",
       "uUpef+0aEtGyIdiazPgz6J3Z+FtNmDBBdrs9gnlQkxHwAgAAAAAAqLJNw09ffCbbtg1VHyxU+BW2\\\n",
       "kTSR9RUq2I0m3I1B9a5ntBkqqqwf4nGzPJ+K2c3WgvfjlcwHreGGvFJsWjZ4zhV+0LvBdkif79+m\\\n",
       "cePGhX0saj4CXgAAAAAAAEmNGjXS5Zdfrh4fzfrzzkjaJoRTtRvLlgyuOc2MDRXuhrGxWjxFc+pg\\\n",
       "x1at4vUnUJgaLOSNtJrXNW98gt6ZzTfpiiuuUKNGkW55h5qMgBcAAAAAAOAPEydO1ObFL0n7d8Yv\\\n",
       "2JVi35LBzJyBxgUJd32F23s3lnFisH3nAo0Jv1VDtJW8oZgJZcNt2xB8zoL/397dh+dd1/fff+VM\\\n",
       "U9JQmlKKbRnFFiqWFrthnWz7KQjCGB0IkwPd0OmKc3LRUu8t3vwuyrE5mXOydd5cAjaI/JRtKqXo\\\n",
       "BFFAYPyGWKCAiMJYp9JSaMEUTANpkuuP2mLa3DfJmU/6eBxHD+l5fs/v+UnybaRPPnl/82yueebu\\\n",
       "LFu2bADnpSQCLwAAAMCvzZs3L6eeempeeeNf9/9FAw27gx3JsPO9ejpvf9Y1wGjd2+7dnsYzDNXt\\\n",
       "xXoz2J29fUfe7gzlTt7ezrf7uYcm9P71tB9m0aJFOeqoowZwPkoi8AIAAAD8ho9//ON56Furkicf\\\n",
       "7fvgoQq7Sd9hd6h37nb3nlUcx7A3+ruLt38GElZ7O7a3yJv0fzfv4EPvo9mSpub/m49//OMDOAel\\\n",
       "EXgBAAAAfsNRRx2Vt7zlLZn23f/d80FDPWe3v3cL6+783RmCULv77t2BjmcYqP58mn7zmKHcxdv9\\\n",
       "uIbd9RRke4uw/Ym8wxd6PzbtB3nrW9+auXPnDuC1lEbgBQAAANjNihUrsvXu65Kf3dP1iaGcs5v0\\\n",
       "byTDQHfu9vemansxe7en8QxD5TeXNpiQu/e7eJOeI+9Ah1D0NbJhIOft/2d7bX6eNVvvy0UXXdTv\\\n",
       "11AmgRcAAABgN4ceemiWLFmSl9zw4R0PDCTsJkOza7e399ubuNuP1/U2e7c3v5kohyP89mb3T2dv\\\n",
       "H3ZrGvo5j3eg4xr2ZmTDUL3PDh9++Z1ZunRpDj300CF6X0YrgRcAAACgGx/+8Ifz/H/dlcp9N/f/\\\n",
       "RUM1kmE44+5ezt0dqkw5FAay9MFPrRjoTt69ncvb3x3CPYfe71Ueyd2bfpILL7ywn+eiZAIvAAAA\\\n",
       "QDemTJmS5cuX58CbL0w6O/t+wXCPZOjtPYbw5mjDMXt3/70/xS79vadcd3b/NPVvHm8y8P3IfUXe\\\n",
       "oQ69L+pMZy6ceVuWL1+eKVNGeh811SDwAgAAAPTg3e9+d8Y/+4vUPvj1ng8aqV27A925OwK7d0db\\\n",
       "PhzImIah0VuE7euz05+90APfzfu12geyoe2ZLFu2rJ+vpXQCLwAAAEAPGhoasmLFiky9+UPJ87/q\\\n",
       "+mR/w26yd3F3qF7X1xoyPLt3h0JvH+ZAP3V97eJNepvHO5TjGpKhjbzJc2nI8qnfy4oVK9LQsOfH\\\n",
       "xdgk8AIAAAD04i//8i9z5KxDs/9NvzHPdCBhdyR37u58TXfrGMj7DsLgBgr0rB89ul+v68+XqrvI\\\n",
       "O3SGKvL2/Rm+cP9rM/Pls/OOd7yjPwtjjBB4AQAAAHpRqVSyatWqdN7dlDx669Dt2k2GfufuXswk\\\n",
       "6Gv37kDGMwz36Ia9Hb3Qn0/7wOfx9rWTd2/n8u58j+7dkh/nys47smrVqlQqkt++xFcbAAAAoA9z\\\n",
       "5szJJ/72bzN1zbnJC/3Ig0MRd4di525Paxni3bvVtvuHM/y7eIcrYQ9uN+9zac25E7+UT1zyiRxx\\\n",
       "xBHDsjJGL4EXAAAAoB+WLl2aeXNmZvxtF/Z8UH9HMgz1WIbe1tOPcwx09u7uebP/U2JHj+4+lf2f\\\n",
       "x5v0vpO3J33t5E36F3m7vs/y8V/LSxe+PEuWLOnnaxlLBF4AAACAftg5qmHcg1cm62/Z84DBDo0d\\\n",
       "Cv2du9uN3eNud/qbHIfT3rbt7j5F/T1nz5G3J30l7/5E3v7t5r05/52rxv2n0Qz7MF91AAAAgH46\\\n",
       "4ogjcskln0j9d3Yb1dDfkQx7s3N3KObu9qNo9rV7dzgN5EPZ/dihmjrR06iGnufxDmYn787X9qX3\\\n",
       "yPtctuUd9V/IJ/7uEzn88MP7cT7GIoEXAAAAYACWLFmSV897aSq3Lu/fSIZk8PN2+zKQubvd6M/u\\\n",
       "3b21//C/Rb/1dxfvwObx9qa3G68lext5P1S5OrOOnZvzzz9/oAtjDBF4AQAAAAagUqmkqWlV6n98\\\n",
       "VbL++r5fsLdxdyhuqtafdfRg97zY1/zdobz92N5OvRjqqRkDn8fbH4OLvNfnh/ly/R354qovGs2w\\\n",
       "j/PVBwAAABigww8/PFc2rcq4W96aPP1Q9wf1NZIhGXzc7ckA4m53u3erOZ5hMAYzpmFvd/EOLvIO\\\n",
       "7biGH+XneWv9Z7LqyiajGRB4AQAAAAbj7LPPzoc/+O7U3viGpHW3bDjY0tjfcwx2pMMAjYabq/2m\\\n",
       "4ZwoMZBzD1/k7fvma1tSyRtqP5n3fOh9Ofvss/s4nn2BwAsAAAAwSCtWrMipr31Fam56U9Lx6+2v\\\n",
       "1Yq7I7B7dyjHLwyX3T+07j4t/e3jrWkYxDzevYm8vWvL9ryp5q/z24uOzUUXXbRX52LsEHgBAAAA\\\n",
       "BqlSqeSrX/ly5kx8Mrnz/aNv5+4w30Rt73Ll6DM0u3iT4drJ+/78f3lqzgu56itfNneXXVwJAAAA\\\n",
       "AHth4sSJufHfr8vE//k/ySNX9H7wcMXdAdxNrLvdu90ZbeMZetKf5r03u3iTwczjTfZ+J2/X11+e\\\n",
       "b+WrE7+fNd/5ZiZOHGtpnb0h8AIAAADspdmzZ+f6676Wcfe8O3nyju4PGum4O4DtqEN1c7WRGOHQ\\\n",
       "nw9rbzYuD/S1vUfe3vQ/8t6e+/OecZ/P1775jcyaNWuQ78dYJfACAAAADIHXve51+ed/+ofU3v7G\\\n",
       "5Ln1XZ/cm7jbmwHG3f7O3u1u92615u8OYHPygM8zFLt4e9fXZ63vyLs+rTkrF+fTn/6HHH/88YNY\\\n",
       "A2PduGovAIDh1dzcnJaWln4d297eniTZtGlTamtr+/WahoaGNDY2Dnp9AAAwlpx33nl56KGH8tmr\\\n",
       "Tk7HSd9PGg4Z+Nzc3e3t64dJf/af7j/sq9jh6QxtgH4u3X98rWlIffb8+1V76lOb1h7ONiW9fxEn\\\n",
       "pqcivyFP5qTKefmzt74l77rg/+l90eyzBF6AMay5uTmf/ezKtLV19Ov4SqWSBQsWpKmpKR0d/XtN\\\n",
       "XV0lS5YsE3kBAODX/vEf/zHPPfdcrvzG69P5u99P9ntJzwf3tXN3CEcz9Hf37ljRXaR9JnvuTu4p\\\n",
       "DvcUeXsy1JF3U7bk9TXn5fhFJ+TSppUDWAn7GoEXYAxraWlJW1tH3nD61zN16uY+j29vr8+6+y/N\\\n",
       "n7+1KbW1Pf2LyYs2b56aNdeflZaWFoEXAAB+rVKp5PLLL09r65/nq988Kfm9W5LxBw38REN0U7WB\\\n",
       "Gk3jGXoy0Pg6lHraxZsMXeTdnGdyUs7LK1+zMJetXpVKxZRVeibwAuwDpk7dnOnTN/Z5XFvbhCTJ\\\n",
       "S17yROrqtg33sgAAYMyqra3Nl770pbS++c259nsnJ8fetGfk3Zs7gfVkALt3h9pQReChHrewN+85\\\n",
       "0FENfes78m7JL/KHOT9HLnh5vnTzV/s9Po99l/wPAAAAMAzq6upyzTXX5I0nzU7+84Tk+SdffLK3\\\n",
       "4Pp0hn00QzL2xjN09ynr7kMfxs3PSXbs4u1dz/l6UzbnhJyXw8+an6/e/Y2MG2dvJn1zlQAAI6qn\\\n",
       "G//1dZM/N/QDSuf7H+ybxo8fn3/5l3/J2972tlxz/fHpPPZ7yfZDBn/CYa6T/R3PUK3xCMNpKHfx\\\n",
       "9j6qoXuP54mcVPMXeeWfHZsvfelL4i795kqBIbZly5Z89KMfzdFHH52lS5dWezkAo0pvN/7r6yZ/\\\n",
       "bugHlKy5uTmfXfnZtHW07fFcn9//KnVZsmyJ739QsHHjxuXLX/5y6t/5znzpX45Lxyu+m9TP6v7g\\\n",
       "wc7dLWT37mBHL3R3c7S9MVTn27t5vMnOL/j6/CInVd6e4//ipFx22WXGMjAgAi/7vPXr12f27Nk5\\\n",
       "/vjjc+utt3Z7TFtbW77yla/kX//1X3Pvvfdmy5Ytqa+vz8EHH5w5c+bkhBNOyDnnnJOZM2fmoIMO\\\n",
       "yg033JBrrrkm73rXu1JXVzeyHxDAKLbzxn/H/8nX03hw1xv/dbTX5xdrL82ixU2p7HaTv+anpub7\\\n",
       "17qhH1CulpaWtHW05U++flwO3tz1+1h7fUfWXvp4FjedmtrWrlP0npranGvPus33PxgDamtrc8UV\\\n",
       "V2TixPfkc5e/Ou1zv5E0vqbrQb3F3REwlAF1JHS3s7a7XbgDuSHbQHfxDoXbc3fOqr0gf7bkLbn0\\\n",
       "0kvdUI0BE3ihD4888kje+MY35sEHH0xDQ0OOOeaYHHfccXnhhRfy0EMP5cYbb8yNN96YhQsXZubM\\\n",
       "mUmSM844IytXrszNN9+cU045pcofAcDo03jw5kyd0fXGf+1tE/KLJAdNeyK1bvIHjFEHb27MjI1T\\\n",
       "uzzWNqE9yeOZ9sRBqdtmxxaMZZVKJStXrsy8efNywbJTsn32PyUz/nLHk33F3Srt3h3pm52NZsMx\\\n",
       "quHyfDPvGfeRfPozl+Zd73rX0CyUfY7AC7145plncsIJJ+Txxx/Pe9/73nzsYx/LlCld/+/tscce\\\n",
       "yxe+8IX87u/+7q7HzjzzzKxcuTKrV68WeAEAAOjivPPOy1FHHZXT3nBWnvvV/ckRn06viWYQcXc4\\\n",
       "dRc5uwvB+w/3QvZST2MaetrFO1jdRd62tOV9+Viumbg63/7WDTnuuOOG8B3Z19jzDb341Kc+lccf\\\n",
       "fzyLFi3Kpz/96T3ibpIcfvjh+bu/+7suPzJ33HHHZcqUKVmzZk06OztHcskAAAAU4Pjjj8/9992d\\\n",
       "l028NTX3/lGyvYctvIOMuwPdvVvaeIaBGqoO3tN5WtOQ1jT0+Lr21O/65y15On9Uc3ZuO/Ku3P3A\\\n",
       "3eIue03ghV7cdNNNSZLXvva1A3pdbW1tTjvttGzYsCE/+MEPhmNpAAAAFG727Nm554d35rTXTcr+\\\n",
       "G1+dtD40JOftKe4OVKnjGQYyyrinfj5c45B/lIdzbO0fpvG0qfmPtXdm1qxZw/RO7EuMaIBebNu2\\\n",
       "Ywbkbbfdlg9+8IMDuovlmWeemauuuiqrV6/Oscce2+Nxzz//fJ5//vldv9+6dWuSHTd2a2vb8y7L\\\n",
       "MBDt7e2pVCppb69PW9uEPo/fvn1Cl//t+/z1vz5/u+uVftl5TXa016d9t2ty5+93fzzZcQM219rw\\\n",
       "2vX9or4+bRP69z1gLNn5Me+LH3uStNf7MzbcXvwz1vHrmbsv2vn73R9PdtyAzdeG4eS6qr6JEydm\\\n",
       "9eqvZcWKFfn7T/1+Wl9ydTLp9B1PDvFohrG4e3c4b342mPfsbR7v6tyct497R97zkffkoosucjM1\\\n",
       "hkxNp58fZx+3fv36zJ49O8cff3xuvfXWLs8tWbIkn/vc55Ls+C+rZ599dk466aT8/u//fiZO7P3/\\\n",
       "QlpaWjJ16tS89KUvzY9//OMej1uxYkUuvvjiPR7/yle+koaGnn+8AwAAYG+1tLTknHPOSXNzcyZN\\\n",
       "mlTt5ezz/u3f/i1/8RfnpnX/P0/HwZ9Mtvby984RGM/Q3Q7enlbU3xm8v3lc7YS2nPDVf8/df7Yo\\\n",
       "7dvq+jxf0v1a+zsTuKdjezrvYM6TZI/A+2yezYWVj+X/1F+TVVeuytlnn93Lq2HgBF72eb0F3ubm\\\n",
       "5rz97W/Pdddd1+Xxurq6nHjiiVmyZElOP/30Hs99xhlnZM2aNfnJT36SI488sttjutvBO3PmzGze\\\n",
       "vNm/YLHXNm3alKampvz5W5vykpc80efx27dPyC23rsoJrzs348Zt6/P4J5+cni9fvTiLFy/OtGnT\\\n",
       "hmLJjHE7r8lFi5ty0LSu12R724Q8eNOqHH3yuamt63r9bdk0Pf/e5FobTju/NoubmjLtib6/X4w1\\\n",
       "bRMm5KZVq3Lyueemblvf3//Gmk3Tp6dpsT9jw+nFP2OnZtoTB3V5rm1Ce25a9aOcfO781G3r+hNj\\\n",
       "m6ZvSdPib/vaMGy2bt2aqVOnCryjyGOPPZZzzz036x74n/yysiqpP2HPgwYRd5OBBd6Bhs19LfD2\\\n",
       "dq7kxch7c27NX01eklm/PStfXPXFHH744b28CgbHiAboRWNjY1avXp1HHnkk3/jGN/Ld7343d955\\\n",
       "Z1paWnLjjTfmxhtvzAc+8IH8/d//fbevP/PMM7NmzZpce+21Wb58ebfH7Lffftlvv/32eLyuri51\\\n",
       "dXXdvAL6r7a2Nh0dHamtbU1dXf+Dxbhx2/p1fG1t66/PX+t6pV92XpOV2tY9Iu6uY+q27fFcxbU2\\\n",
       "7HZ9v2ht3ScD505127btkx9/bas/Y8PtxT9jlT0i7k5122r3eK62teJrw7ByXY0+hx9+eG6++eZ8\\\n",
       "7nOfy/Llp2d7+9vzwoS/Syq/zomDnK87nOMZRuOs3qczNOvq7Ty9jWrYnI5cfMgHctUvr84lf31J\\\n",
       "zj//fCMZGDauLOiHl73sZVm+fHluuummPPPMM/nmN7+ZefPmJUn+4R/+If/1X//V7esOO+ywJMnP\\\n",
       "f/7zEVsrAAAAZatUKlm6dGnuv39dfu8VD2Zq24Kk9dY+XzdUN1cbDYbrJmc9fYp6G3c8UN/PLfm9\\\n",
       "g16Rh172cNbdvy5Lly4VdxlWri4YoPHjx+eP//iPs2rVqiRJZ2dnHnjggW6Pvf7665Mkp5122oit\\\n",
       "DwAAgLHhiCOOyC233JL/93+/Nw0tp2X/lqVJ58Arbk+7dwdqIDcz6248w3AZ7q7dW2x+rss/P5f3\\\n",
       "7b8kb2o4Pe9f8f7cfPPNOeKII4Z5dSDwwqDNnDlz1z/3dMO16667LpMmTcqJJ544UssCAABgDKlU\\\n",
       "Krngggty//3r8sr592fahAWp7fhaststlQaze3cwc2fHssHu4u1MZ75R+2/5vckL8vDCB+3aZcSZ\\\n",
       "wQvd6OzsTE1NTa/HrF69OklywAEH5A/+4A/2eP6+++7L+vXr8+Y3vznjx48fjmUCFKv5qal7PNbR\\\n",
       "Xp9kxw3VKrWtfR4PUKKnpjbv8Vh7fUeSHTdUq22t9Hk8sG864ogjcuutt+aLX/xiLrpoWfar/2R+\\\n",
       "tuWSdFROHNSN1fYFPc3P7W127kDPdXvle/nbAy/ME+Mfz8UXX5x3vOMdwi4jTuCFbnz0ox/N008/\\\n",
       "nQsuuCDz58/v8ty2bdvyxS9+MR/84AeTJJdcckkaGhr2OMfOAHzmmWcO93IBitHQ0JC6ukq+f+1Z\\\n",
       "ezxXqVSyYEHy702L09HRscfzdXWVbr/fApSgoaEhdZW6XHvWbXs8V6lUsiAL0rT4291//6vU+f4H\\\n",
       "JNnx/eKd73xn3vKWt2TlypW55JI3ZvqMY/PYI59ITV45oHMNxc3VquGZjI6135978omXXJh7nv9B\\\n",
       "LvzAhVm2bJnv1VSNwAvduOOOO3L77bfnC1/4QmbPnp1XvOIV2X///bNhw4Y88MADefrpp1NfX59/\\\n",
       "+qd/yvnnn9/tOVavXp3x48dn0aJFI7x6gNGrsbExS5YsS0tLyx7Ptbe3Z+3atVm8eHFqa/e8w3xD\\\n",
       "Q0MaGxtHYpkAQ66xsTFLli3x/Q8YEg0NDbnwwgvzV3/1V7nkkkvymc+8Ji+b84Y8/OO/STJn13GD\\\n",
       "2b3b03iGnna8jrVxDr0F5KeTNOfRfHLax3LD1jW54C8uyNeWX5MpU8baZ4HSCLzQjcsuuyzf+c53\\\n",
       "8r3vfS+PPvpo7rjjjmzdujWTJk3KkUcemZNOOinvfOc7c9hhh3X7+vXr12fdunU55ZRTMmnSpBFe\\\n",
       "PcDo1tjY2G2oaGtrS5JMmzYtdXV1I70sgGHn+x8w1KZMmZJPfvKTWbZsWS6++OL89JFXZP68xbl/\\\n",
       "3f9OTc2Mai9vRPU0dmGoxjQ8lY25fNpf52vNTXnr6W/NTy/6aQ499NDBLBWGnMAL3Zg7d27mzp2b\\\n",
       "ZcuWDer1xjMAAAAwUg499NBcfvnlef/735+PfvSj+dFDh2fqlD/NLze+O5XO39nj+NEw4mA0+81d\\\n",
       "vA/V3JuvHbMyqx+6Jov+16Lc+/F7M3fu3GouD/Yg8MIwWL16dWpqanLGGWdUeymQJNm8uX83qGr/\\\n",
       "9U2unnxyemp3u8nV3pwXAAAYfnPnzs3Xv/71PPTQQ/nnf/7nXHXV/8rMw16V2vZ3538eeUNq+shA\\\n",
       "Bg3ssD3bc+N+a/Kvs/8x6362Nm979dtyz9X35Kijjqr20qBbAi8MsS1btuSOO+7Iq1/96syYsW/9\\\n",
       "SAyjz84bWq25fs8bWnVn502uvnx19ze56o4bXwEAwOgyb968fP7zn8/HP/7xXHHFFfnsZ9+b+oMv\\\n",
       "yKxDz83j974jyawBnW8gowxKsvuYhg3579xyzBdz7S+aUjdhXJaeuzTf+svrcuCB9jwzugm8MMQO\\\n",
       "OuigbN8+iEn2MAx6u6FVd/q6yUt33PgFAABGpylTpuRDH/pQ3v/+9+fGG2/MZZddlvsePDJzX3ZC\\\n",
       "xreemycfW5RKDhjy991/yM+4d3qaw5skv8rW3LXft/PdI1blzkduyR+/9I9zxd9cnlNOOaXffyeC\\\n",
       "ahN4Aca4nm7o0h03eQEAgLGntrY2ixYtyqJFi7Jhw4ZceeWVufrqi7Np/Nvystmvy9P/84ZUWk9P\\\n",
       "0v2NxHsy0JEOQzUC4jdn5P6m/t447cn8LD+YcH1+eMCa/PDpWzLn8Dl561vemq8uvtJP4lIkgZd9\\\n",
       "3uTJk3PRRRdl1qxZ1V4KAAAADKtDDjkkH/nIR/KRj3wkjz76aK6//vqsWfO13HHHe7L9gPmZ8Pwb\\\n",
       "Mr7l9DRkYWpSGZE1PZdkQjeP97bzdiA60pGHszb3v2xN/m/r9fnpxh/ltb/32px9+um56vTPZs6c\\\n",
       "OUPwLlA9Ai/7vMmTJ2fFihXVXgYAAACMqDlz5uS9731v3vve9+aZZ57Jt7/97Vx//fX59rdPTm2l\\\n",
       "IYdNOS0tj70mNZ0L05C5qUkZIws60p7H83B+0bg266fekf98+pt5vqMlpy48NR97w/L80R/9kbm6\\\n",
       "jCkCLwAAAMA+7sADD8w555yTc845J21tbbn99tvzzW9+M3fd9YXce+996exIDjnod7J/58K0b16Y\\\n",
       "+raFmZy5qVQ5LbVnezbmx/mfrM0vxt+Tp6auzU+33JeaSvI7838nxx57bN592tV57WtfawwdY5bA\\\n",
       "CwAAAMAudXV1OfHEE3PiiScm2XEz5ocffjhr16799a/Lc++95+dHbZ2ZMfl3MnH7guRXv5VxL8zI\\\n",
       "fpmRA3NIJmRG9svBqezlrt+OtOdXeSpbszFbsyFbszHPZmM6D3w8j49bl8d+uS6V2poc88pjsvBV\\\n",
       "C7Nw4buycOHCzJ07103S2GcIvAAAAAD0qLa2NvPnz8/8+fPztre9LcmO6PuTn/wka9euzY9+9KNs\\\n",
       "2PBINm68LRs3bszDP9uY5mefTqWmNgfUvyT7j5uR+s5D0rD9wNR0jEtNR13SMS6VtkoevWx9ftF+\\\n",
       "Q2rHdaSz0pbOyva8MO6Z/KpmQ7Zu35itrU+mvbM9kw+YkunTZuSQQ2fkt2bOyCGHHJI/n39+Fi5c\\\n",
       "mJe//OViLvs0gRcAAACAAamtrc28efMyb968bp9vbW3NE088kY0bN+769ctf/jLbt2/f9autrS3J\\\n",
       "y/OKBXUZN27crl+TJ0/OjBkzdv2aPn166uvrR/YDhIIIvAAAAAAMqfr6+syaNSuzZs2q9lJgzKtU\\\n",
       "ewEAAAAAAAyOwAsAAAAAUCiBFwAAAACgUAIvAAAAAMPi0ksvzfz58zNx4sRMnjw5J554Yu66665q\\\n",
       "LwvGFIEXAAAAgGHx0pe+NJ/+9Kezbt263HnnnZkzZ05OOeWUbNmypdpLgzFD4AUAAABgWLzxjW/M\\\n",
       "KaeckiOOOCLz5s3Lpz71qTQ3N+fBBx9MkhxxxBGpqanp9td3vvOdKq8eyiDwAgAAADDsXnjhhVx2\\\n",
       "2WU58MAD84pXvCJJcs011yRJ7r777mzcuHHX+Ia77747r3/966u2VijJuGovAAAAAICx6/bbb8+p\\\n",
       "p56abdu2Zfr06bnpppsyZcqUJMmTTz6ZiRMnZuHChampqckPfvCDLr8H+mYHLwAAAADD5lWvelXu\\\n",
       "u+++3HnnnTn11FPzpje9KZs3b06SPPDAA5k/f/6umHv//ffn6KOPFndhAAReAAAAAIbNhAkTMmfO\\\n",
       "nBx77LG54oorUqlU0tTUlCR58MEHd41rSJJ169Z1+T3QN4EXAAAAgBHT2dmZ559/PsmOHbxHH330\\\n",
       "ruceeOABgRcGyAxeAAAAAIbF8uXL84Y3vCGHHnponn766Xzuc5/LL37xi5x11lnZvn17Hn744V1B\\\n",
       "t7OzM4899lgOO+ywKq8aymIHLwAAAADDYsOGDfnTP/3THHnkkVm0aFE2bdqU22+/PUcddVR++tOf\\\n",
       "5oUXXti1g7empiZHH310zjvvvDz66KNVXjmUww5eAAAAAIbFl7/85R6fmzdvXjo7O7s8ds899wz3\\\n",
       "kmDMsYMXAAAAAKBQAi8AAAAAQKGMaAAAAABgyNXU1AzJeXYf4wB0JfACAAAAMOSEWRgZRjQAAAAA\\\n",
       "MCI+8YlP5FWvelUOOOCATJs2LW9605uyfv36ai8LiibwAgAAADAivv/97+eCCy7IXXfdlRtuuCFP\\\n",
       "P/10Tj311Gzfvr3aS4NiGdEAAAAAwIi44YYbuvz+8ssvz+GHH56HHnooCxYsqNKqoGx28AIAAABQ\\\n",
       "Fc3NzUmSKVOmVHklUC6BFwAAAIAR197eng984ANZtGhRDj300GovB4plRAMAAAAAI6qzszPnnXde\\\n",
       "fvazn+U//uM/qr0cKJrACwAAAMCI6ezszPnnn5/vfve7ue2223LwwQdXe0lQNIEXAAAAgBHR2dmZ\\\n",
       "JUuW5Fvf+la+//3vZ+bMmdVeEhRP4AUAAABgRCxZsiRf/epXc/3112fChAl54oknkuy4ydr48eOr\\\n",
       "vDook8ALAAAAwIj4/Oc/nyR57Wtf2+XxW265Ja973euqsCIon8ALAAAAwIjo7Oys9hJgzKlUewEA\\\n",
       "AAAAAAyOwAsAAAAAUCiBFwAAAACgUAIvAAAAAEChBF4AAAAAgEIJvAAAAAAAhRJ4AQAAAAAKJfAC\\\n",
       "AAAAABRK4AUAAAAAKJTACwAAAABQKIEXAAAAAKBQAi8AAAAAQKHGVXsBAACMHk9NnVrtJVRFe319\\\n",
       "kmTT9OmpbW2t8mpG3r76dQcAGAsEXgAA0tDQkLpKJdeedVa1l1IVlUolC5I0LV6cjo6Oai+nKuoq\\\n",
       "lTQ0NFR7GQAADJDACwBAGhsbs2TZsrS0tFR7KVXR3t6etWvXZvHixamtra32cqqioaEhjY2N1V4G\\\n",
       "AAADJPACAJBkR+TdVwNfW1tbkmTatGmpq6ur8moAAKD/3GQNAAAAAKBQAi8AAAAAQKEEXgAAAACA\\\n",
       "Qgm8AAAAAACFEngBAAAAAAol8AIAAAAAFErgBQAAAAAolMALAAAAAFAogRcAAAAAoFACLwAAAABA\\\n",
       "oQReAAAAAIBCCbwAAAAAAIUSeAEAAAAACiXwAgAAAAAUSuAFAAAAACiUwAsAAAAAUCiBFwAAAACg\\\n",
       "UAIvAAAAAEChBF4AAAAAgEIJvAAAAAAAhRJ4AQAAAAAKJfACAAAAABRK4AUAAAAAKJTACwAAAABQ\\\n",
       "KIEXAAAAAKBQAi8AAAAAQKEEXgAAAACAQgm8AAAAAACFEngBAAAAAAol8AIAAAAAFErgBQAAAAAo\\\n",
       "lMALAAAAAFAogRcAAAAAoFACLwAAAABAoQReAAAAAIBCCbwAAAAAAIUSeAEAAAAACiXwAgAAAAAU\\\n",
       "SuAFAAAAACiUwAsAAAAAUCiBFwAAAACgUAIvAAAAAEChBF4AAAAAgEIJvAAAAAAAhRJ4AQAAAAAK\\\n",
       "JfACAAAAABRK4AUAAAAAKJTACwAAAABQKIEXAAAAAKBQAi8AAAAAQKEEXgAAAACAQgm8AAAAAACF\\\n",
       "EngBAAAAAAol8AIAAAAAFGpctRcAAAAwUpqbm9PS0lLtZXTR3t6eJNm0aVNqa2urvJquGhoa0tjY\\\n",
       "WO1lAAC9EHgBAIB9QnNzcz67cmXaOjqqvZQuKpVKFixYkKampnSMsrXVVSpZsmyZyAsAo5jACwAA\\\n",
       "7BNaWlrS1tGRP/n613Pw5s3VXs4u7fX1WXvppVnc1JTa1tZqL2eXp6ZOzbVnnZWWlhaBFwBGMYEX\\\n",
       "AADYpxy8eXNmbNxY7WXs0jZhQpJk2hNPpG7btiqvBgAojZusAQAAAAAUSuAFAAAAACiUwAsAAAAA\\\n",
       "UCiBFwAAAACgUAIvAAAAAEChBF4AAAAAgEIJvAAAAAAAhRJ4AQAAAAAKJfACAAAAABRK4AUAAAAA\\\n",
       "KJTACwAAAABQKIEXAAAAAKBQAi8AAAAAQKEEXgAAAACAQgm8AAAAAACFEngBAAAAAAol8AIAAAAA\\\n",
       "FErgBQAAAAAolMALAAAAAFAogRcAAAAAoFACLwAAAABAoQReAAAAAIBCCbwAAAAAAIUSeAEAAAAA\\\n",
       "CiXwAgAAAAAUaly1FwAA7Buam5vT0tLS4/Pt7e1Jkk2bNqW2trbH4xoaGtLY2Djk6wMAACiRwAsA\\\n",
       "DLvm5uZ89jMr07a9o8djKpVKFixYkKampnR09Hxc3bhKlixdJvICAABE4AUARkBLS0vatnfkTyZ/\\\n",
       "PQeP29ztMe019VmbS7P4oKbUdrZ2e8xT26fm2l+elZaWFoGXQelpJ3lfO8jtHAcAYLQSeGGIbdmy\\\n",
       "JR/96Edz9NFHZ+nSpdVeDsCocvC4zZkxfmO3z7XVTEiSTBv/ROo6t43ksthH9LaTvK8d5HaOAwAw\\\n",
       "Wgm8jErr16/P7Nmzc/zxx+fWW2/d9firXvWqrF27dkDnmjp1ap566qkhXmHPDjrooNxwww255ppr\\\n",
       "8q53vSt1dXUj9t4wULvvZOtpB5uda8BYsGsn+YKv5+CJXXeSt3fWZ+22S7P42KbU1nTdQf7Uc1Nz\\\n",
       "7f12jgMAMDoJvBSjs7MzxxxzTI4++uguj//3f/93brvttkycODFnnXXWHq+bO3fuSC1xlzPOOCMr\\\n",
       "V67MzTffnFNOOWXE3x/6o7m5OZ/57Mpsb3txp1pPO9jG1VWydImda8DYcPDEzZnR2HUneVvHhGRb\\\n",
       "Mm3SE6mr2EEOAEA5BF6KUVNTk8svv3yPx//mb/4mt912W4499thceeWVI7+wbpx55plZuXJlVq9e\\\n",
       "LfAyarW0tGR7W0de9SdfzwEH79jJ1tlen1+uvTTHLW5KTe2OHWzPPjU1P7zWzjUAAAAYjSrVXgDs\\\n",
       "rXvvvTdJ8spXvrLKK3nRcccdlylTpmTNmjXp7Oys9nKgVwccvDmTZ2zM5Bkb0zjtiSRJ47Qndj22\\\n",
       "M/4CAAAAo4/AS/HuueeeJMkxxxxT5ZW8qLa2Nqeddlo2bNiQH/zgB9VeDgAAAABjlBENFO2ZZ57J\\\n",
       "+vXrk4yuHbzJjjENV111VVavXp1jjz22x+Oef/75PP/887t+v3Xr1iRJW1tb2trahn2d7Lva29tT\\\n",
       "qVTS2V6fjrYJSbLH/yY7xjZUKpW0t7e7Jhm0nddbe0192momdHvMzsd7ej5J2mtcjwzeruuws37H\\\n",
       "zN3fsPP3uz+e7LgBm+tubNh1DdTXp21Cz99rRtrOtYymNSVJe71rf1/gawtQvppOPz/OKLR+/frM\\\n",
       "nj07xx9/fG699dYej7v55pvz+te/PhMnTkxzc3MqldGzKb2lpSVTp07NS1/60vz4xz/u8bgVK1bk\\\n",
       "4osv3uPxr3zlK2loaBjOJQIAAPu4lpaWnHPOOWlubs6kSZOqvRwABsEOXoq2c/7ub//2b4+quJsk\\\n",
       "DQ0NOfnkk7NmzZr89Kc/zZFHHtntcR/+8Ifzvve9b9fvt27dmpkzZ+YP//AP/QsWw2rTpk1pamrK\\\n",
       "cYubds3e7WibkJ/ftCozTz43lbodd5Fv3jQ9tzUtzuLFizNt2rRqLpmC7bzeFh/UlGnjn+j2mLaa\\\n",
       "Cblp6qqcvPnc1HVu6/48L0xP0xbXI4Oz6zo8tinTJnW9Dts6JuSmp1bl5IPPTV2l6/W3aev0NN3l\\\n",
       "uhsLdl0DTU2Z9kT334uqoW3ChNy0alVOPvfc1G3r/vtfNWyaPj1Ni137Y93OnyAEoFwCL0Xbm/m7\\\n",
       "H/rQh7JmzZoBv+6KK67Ia17zmn4de+aZZ2bNmjW59tprs3z58m6P2W+//bLffvvt8XhdXV3q6uoG\\\n",
       "vD7or9ra2nR0dKSmtnVXzN2pUrdt12M1ta3p6OhIbW2ta5JB23m91Xa29hhvd6rr3NbjMbWdrkcG\\\n",
       "b9d1WNO6R8Tdqa6ybY/namtcd2PFrmugtXVUhdSd6rZtG1Xrqm117e8LfG0ByifwUrSdO3gHM393\\\n",
       "w4YN+clPfjLg1z333HP9Pvawww5Lkvz85z8f8PsAAAAAQF8EXorV0tKyK9AOZgfv1Vdfnauvvnqo\\\n",
       "l9XF9ddfnyQ57bTThvV9YG88+9TUXf/c2V6fZMdYhpra1j2eBwAAAEYXgZdirVu3Lh0dHRk/fnzm\\\n",
       "z59f7eV067rrrsukSZNy4oknVnspsIeGhoaMq6vkh9eeteuxSqWSBQuS25oWp6OjY9fj4+oqbvoH\\\n",
       "AAAAo5DAS7F2zt89+uijR+XcqPvuuy/r16/Pm9/85owfP77ay4E9NDY2ZumSZWlpadn1WHt7e9au\\\n",
       "XZvFixentrZ21+MNDQ1pbGysxjIBhtxTz+35kwntnTt+gmHT1umprWnt83gAABgtBF6KtTfzd0fC\\\n",
       "6tWrk+y40RqMVo2NjV3CbVtbW5Jk2rRpo/I/nADsjYaGhtSNq+Ta+8/a47mdP8HQdFfXn2DYqW6c\\\n",
       "n2QAAGB0Engp1s4dvIOZvzsSVq9enfHjx2fRokXVXgrAqPHU9p53QrbX/HoH5QvTU9vZ2u0xvb0e\\\n",
       "+tLY2JglS7v+5MJOPf0Ew05+kgEAgNFK4KVIbW1t+dGPfpRkdO7gXb9+fdatW5dTTjklkyZNqvZy\\\n",
       "AKpu187JX+65c3KnSqWSBb+VNG3pfgflTnZSsjd2/8mFnfwEAwAApRJ4KVJdXV2ef/75ai+jR8Yz\\\n",
       "AHTV287JnfraQbmTnZQAAAAvEnhhGKxevTo1NTU544wzqr0UgFGjp52TO9lBCQAAMHCVai8Axpot\\\n",
       "W7bkjjvuyKtf/erMmDGj2ssBAAAAYAyzgxeG2EEHHZTt27dXexkAAAAA7APs4AUAAAAAKJQdvIxK\\\n",
       "kydPzkUXXZRZs2ZVeykAAAAAMGoJvIxKkydPzooVK6q9DAAAAAAY1YxoAAAAAAAolMALAAAAAFAo\\\n",
       "gRcAAAAAoFACLwAAAABAoQReAAAAAIBCCbwAAAAAAIUSeAEAAAAACiXwAgAAAAAUSuAFAAAAACiU\\\n",
       "wAsAAAAAUCiBFwAAAACgUAIvAAAAAEChBF4AAAAAgEIJvAAAAAAAhRJ4AQAAAAAKJfACAAAAABRK\\\n",
       "4AUAAAAAKJTACwAAAABQKIEXAAAAAKBQAi8AAAAAQKHGVXsBAAAAI+mpqVOrvYQu2uvrkySbpk9P\\\n",
       "bWtrlVfzotH2eQIAuifwAgAA+4SGhobUVSq59qyzqr2ULiqVShYkaVq8OB0dHdVeThd1lUoaGhqq\\\n",
       "vQwAoBcCLwAAsE9obGzMkmXL0tLSUu2ldNHe3p61a9dm8eLFqa2trfZyumhoaEhjY2O1lwEA9ELg\\\n",
       "BQAA9hmNjY2jLli2tbUlSaZNm5a6uroqrwYAKI2brAEAAAAAFErgBQAAAAAolMALAAAAAFAogRcA\\\n",
       "AAAAoFACLwAAAABAoQReAAAAAIBCCbwAAAAAAIUSeAEAAAAACiXwAgAAAAAUSuAFAAAAACiUwAsA\\\n",
       "AAAAUCiBFwAAAACgUAIvAAAAAEChBF4AAAAAgEIJvAAAAAAAhRJ4AQAAAAAKJfACAAAAABRK4AUA\\\n",
       "AAAAKJTACwAAAABQKIEXAAAAAKBQAi8AAAAAQKEEXgAAAACAQgm8AAAAAACFEngBAAAAAAol8AIA\\\n",
       "AAAAFErgBQAAAAAolMALAAAAAFAogRcAAAAAoFACLwAAAABAoQReAAAAAIBCCbwAAAAAAIUSeAEA\\\n",
       "AAAACiXwAgAAAAAUSuAFAAAAACiUwAsAAAAAUCiBFwAAAACgUAIvAAAAAEChBF4AAAAAgEIJvAAA\\\n",
       "AAAAhRJ4AQAAAAAKJfACAAAAABRK4AUAAAAAKJTACwAAAABQKIEXAAAAAKBQAi8AAAAAQKEEXgAA\\\n",
       "AACAQgm8AAAAAACFEngBAAAAAAol8AIAAAAAFErgBQAAAAAolMALAAAAAFAogRcAAAAAoFACLwAA\\\n",
       "AABAoQReAAAAAIBCCbwAAAAAAIUSeAEAAAAACiXwAgAAAAAUSuAFAAAAACiUwAsAAAAAUCiBFwAA\\\n",
       "AACgUAIvAAAAAEChBF4AAAAAgEIJvAAAAAAAhRJ4AQAAAAAKJfACAAAAABRK4AUAAAAAKJTACwAA\\\n",
       "AABQKIEXAAAAAKBQAi8AAAAAQKEEXgAAAACAQgm8AAAAAACFEngBAAAAAAol8AIAAAAAFErgBQAA\\\n",
       "AAAolMALAAAAAFAogRcAAAAAoFACLwAAAABAoQReAAAAAIBCCbwAAAAAAIUSeAEAAAAACiXwAgAA\\\n",
       "AAAUSuAFAAAAACiUwAsAAAAAUCiBFwAAAACgUAIvAAAAAEChBF4AAAAAgEIJvAAAAAAAhRJ4AQAA\\\n",
       "AAAKJfACAAAAABRK4AUAAAAAKJTACwAAAABQKIEXAAAAAKBQAi8AAAAAQKEEXgAAAACAQgm8AAAA\\\n",
       "AACFEngBAAAAAAol8AIAAAAAFErgBQAAAAAolMALAAAAAFAogRcAAAAAoFACLwAAAABAoQReAAAA\\\n",
       "AIBCCbwAAAAAAIUSeAEAAAAACiXwAgAAAAAUSuAFAAAAACiUwAsAAAAAUCiBFwAAAACgUAIvAAAA\\\n",
       "AEChBF4AAAAAgEIJvAAAAAAAhRJ4AQAAAAAKJfACAAAAABRK4AUAAAAAKJTACwAAAABQKIEXAAAA\\\n",
       "AKBQAi8AAAAAQKEEXgAAAACAQo2r9gKArjo7O5MkW7durfJK2Be1tbWlpaUlW7duTV1dXbWXwz7G\\\n",
       "9Uc1uf6oJtcf1bTz7x07/x4CQHkEXhhlnn322STJzJkzq7wSAABgX/Hss8+msbGx2ssAYBBqOv1n\\\n",
       "OhhVOjo6smHDhhxwwAGpqamp9nIAAIAxrLOzM88++2wOOeSQVCqmOAKUSOAFAAAAACiU/zwHAAAA\\\n",
       "AFAogRcAAAAAoFACLwAAAABAoQReAAAAAIBCCbwAAAAAAIUSeAEAAAAACiXwAgAAAAAUSuAFAAAA\\\n",
       "ACiUwAsAAAAAUCiBFwAAAACgUAIvAAAAAEChBF4AAAAAgEIJvAAAAAAAhRJ4AQAAAAAKJfACAAAA\\\n",
       "ABRK4AUAAAAAKJTACwAAAABQKIEXAAAAAKBQAi8AAAAAQKEEXgAAAACAQgm8AAAAAACFEngBAAAA\\\n",
       "AAol8AIAAAAAFErgBQAAAAAolMALAAAAAFAogRcAAAAAoFACLwAAAABAoQReAAAAAIBCCbwAAAAA\\\n",
       "AIUSeAEAAAAACiXwAgAAAAAUSuAFAAAAACiUwAsAAAAAUCiBFwAAAACgUAIvAAAAAEChBF4AAAAA\\\n",
       "gEIJvAAAAAAAhRJ4AQAAAAAKJfACAAAAABRK4AUAAAAAKJTACwAAAABQKIEXAAAAAKBQAi8AAAAA\\\n",
       "QKEEXgAAAACAQgm8AAAAAACFEngBAAAAAAol8AIAAAAAFErgBQAAAAAolMALAAAAAFAogRcAAAAA\\\n",
       "oFACLwAAAABAoQReAAAAAIBCCbwAAAAAAIUSeAEAAAAACiXwAgAAAAAUSuAFAAAAACiUwAsAAAAA\\\n",
       "UCiBFwAAAACgUAIvAAAAAEChBF4AAAAAgEIJvAAAAAAAhRJ4AQAAAAAKJfACAAAAABRK4AUAAAAA\\\n",
       "KJTACwAAAABQKIEXAAAAAKBQAi8AAAAAQKEEXgAAAACAQgm8AAAAAACFEngBAAAAAAol8AIAAAAA\\\n",
       "FErgBQAAAAAolMALAAAAAFAogRcAAAAAoFACLwAAAABAoQReAAAAAIBCCbwAAAAAAIUSeAEAAAAA\\\n",
       "CiXwAgAAAAAUSuAFAAAAACiUwAsAAAAAUCiBFwAAAACgUAIvAAAAAEChBF4AAAAAgEIJvAAAAAAA\\\n",
       "hRJ4AQAAAAAKJfACAAAAABRK4AUAAAAAKJTACwAAAABQKIEXAAAAAKBQAi8AAAAAQKEEXgAAAACA\\\n",
       "Qgm8AAAAAACFEngBAAAAAAol8AIAAAAAFErgBQAAAAAolMALAAAAAFCo/x+tNuC5/0jwVQAAAABJ\\\n",
       "RU5ErkJggg==\\\n",
       "\"\n",
       "  frames[2] = \"data:image/png;base64,iVBORw0KGgoAAAANSUhEUgAABXgAAAPoCAYAAABkvZZOAAAAOnRFWHRTb2Z0d2FyZQBNYXRwbG90\\\n",
       "bGliIHZlcnNpb24zLjEwLjMsIGh0dHBzOi8vbWF0cGxvdGxpYi5vcmcvZiW1igAAAAlwSFlzAAAP\\\n",
       "YQAAD2EBqD+naQAAvM1JREFUeJzs3Xl4U2X6xvE7TVPaUiirpcgmKiIgiyC4sjmKIAoO/nAbheIy\\\n",
       "KoqOOoq4waiA2ygI7lrQUQcdFUEFNzYBF0RAlEVEEJQCQqFYuqVpfn/UxDTNcrL3tN/PdfWySd7z\\\n",
       "njfpobV3nzyvxel0OgUAAAAAAAAAMJ2kRC8AAAAAAAAAABAeAl4AAAAAAAAAMCkCXgAAAAAAAAAw\\\n",
       "KQJeAAAAAAAAADApAl4AAAAAAAAAMCkCXgAAAAAAAAAwKQJeAAAAAAAAADApAl4AAAAAAAAAMCkC\\\n",
       "XgAAAAAAAAAwKQJeAAAAAAAAADApAl4AAAAAAAAAMCkCXgAAAAAAAAAwKQJeAAAAAAAAADApAl4A\\\n",
       "AAAAAAAAMCkCXgAAAAAAAAAwKQJeAAAAAAAAADApAl4AAAAAAAAAMCkCXgAAAAAAAAAwKQJeAAAA\\\n",
       "AAAAADApAl4AAAAAAAAAMCkCXgAAAAAAAAAwKQJeAAAAAAAAADApAl4AAAAAAAAAMCkCXgAAAAAA\\\n",
       "AAAwKQJeAAAAAAAAADApAl4AAAAAAAAAMCkCXgAAAAAAAAAwKQJeAAAAAAAAADApAl4AAAAAAAAA\\\n",
       "MCkCXgBAQkycOFEWi0UWi0UTJ05M9HJMacmSJe7XsH///nE//6xZs9znHz16dNzPX9Mk+uuBmqdd\\\n",
       "u3bua2L79u2JXg4AAABqKQJeAKjh+vfv7w4IfH00aNBAbdq00TnnnKPJkyfr119/TfSSAQC12Kef\\\n",
       "fqorrrhCHTp0UP369dWkSRN17dpV//znP7Vp0ybTnL+srEyffPKJ7rzzTp111llq3bq10tLSlJaW\\\n",
       "platWmnw4MF67LHHlJ+fH8NnAwAAEDkCXgAwucLCQu3cuVMffvih7rrrLh111FGaNGmSnE5nopcG\\\n",
       "wAfPP9Ag/kaPHu1+/WfNmpXo5ZjKoUOHdPHFF+svf/mLXnnlFW3ZskVFRUU6cOCA1q9fr0cffVRd\\\n",
       "u3bVlClTavz5b7/9dmVlZemss87S1KlT9cknn+iXX35RSUmJSkpK9Ouvv2rhwoW67bbb1KZNGz39\\\n",
       "9NMxeU4AAADRkJzoBQAAjDvppJPUu3fvKvcVFBRo3bp1Wr9+vSTJbrdr4sSJOnjwoB5//PFELBMA\\\n",
       "UMvY7XZdcMEFWrRokfu+Ll266MQTT1RJSYk+++wz5eXlyW63a8KECbLb7br33ntr7PnnzZungwcP\\\n",
       "um/Xr19fffr00ZFHHqmUlBRt2bJFn3/+uex2uw4fPqzrr79eO3bsiFl4DQAAEAkCXgAwkSFDhvjt\\\n",
       "V7ty5Updcskl2rFjhyTpiSee0GWXXaZevXrFcYVA3dW/f38q51FFbeq7e//997vD1dTUVOXm5uri\\\n",
       "iy92P15WVqa7775bjzzyiKTKPuv9+vVTv379auz5k5OTNWLECF155ZUaMGCAkpOr/mq0Y8cOjRkz\\\n",
       "Rp9++qkkaerUqerbt68GDx4clecEAAAQLbRoAIBa4tRTT9W7775b5W3fzz33XAJXBACoDfbu3at/\\\n",
       "//vf7ttPPPFElXBVklJSUvTwww/roosukiQ5nU7deeedNfb8F198sTZv3qz//ve/Ouuss6qFu5LU\\\n",
       "pk0bvf/++zrppJPc9/3rX/+K9OkAAABEHQEvANQi3bt3V//+/d23ly1blrjFAABqhdmzZ+vw4cOS\\\n",
       "pA4dOuiaa67xO/bhhx9WUlLlrxiff/651qxZUyPPP3HiRLVv3z7ouevVq6dJkya5b3/55Zfav39/\\\n",
       "KMsHAACIOQJeAKhlunfv7v58165dho7ZuHGjJkyYoN69eysrK0spKSlq3ry5+vTpo3vvvdfwPC6L\\\n",
       "Fy/WpZdeqrZt2yo1NVXZ2dk644wz9NRTT6moqMjwPKFuhjRr1iz3+NGjRxs6x7fffqvx48erT58+\\\n",
       "atGihVJSUpSRkaHjjjtOF110kV588UUVFBQEnWf//v167LHH3Duxp6amqlGjRurUqZPGjh2rr7/+\\\n",
       "2tB6XLZs2aKbb75ZHTt2dO8S3717d91777365ZdfQporHN98842uvvpqtW/fXmlpaWrevLl69+6t\\\n",
       "hx9+OKId5VetWqV//OMf6t69u5o3b66UlBS1aNFC/fr100MPPaQDBw4EnaNdu3bur7PrLfC//PKL\\\n",
       "7rnnHnXr1k2NGjVS/fr11bFjR9144436+eefDa2tsLBQzzzzjM4991y1adNG6enpstlsyszMVMeO\\\n",
       "HXXeeedp8uTJ+u6773wev2TJEve6PP/Q4v2YJ88N1zw/tm/frrKyMjVv3tx93+eff27oeUhSv379\\\n",
       "3MdNnz7d8HHe+vfv755nyZIlkqS8vDxNmjRJPXr0UJMmTZSamqqOHTtq/PjxPq+NX375RRMmTFCP\\\n",
       "Hj3UuHFjNWjQQN27d9fkyZNVXFxsaB0bN27U448/rr/+9a867rjj1KBBA9lsNjVv3ly9evXSP/7x\\\n",
       "D23YsCHgHK7rZvbs2e77cnJyfL7+3q1w/L0OkydPVu/evdWiRQtZrVY1atTI5zk9r1WXsrIynXji\\\n",
       "ie7HhwwZEvR1eOutt9zjbTabvvjii6DHRMPcuXPdn7u+L/vTpk0bDRw40H37nXfeMf35TzvtNPfn\\\n",
       "TqfT8PeUQGL5823VqlW64YYbdOKJJ6px48ZKTk5WWlqasrOzdfLJJ+u6667TG2+84Q7NAQBALeAE\\\n",
       "ANRo/fr1c0pySnLed999QcdPmDDBPd5mswUcW1JS4vz73//utFqt7mN8faSlpTmffPLJoOe22+3O\\\n",
       "MWPGBJyrU6dOzk2bNjnvu+++oM9r1KhR7jG5ublBz5+bm+seP2rUqIBjDxw44LzoooucFosl4Hol\\\n",
       "ObOysgLONWPGDGdmZmbAOSwWi3PMmDHO0tLSoM9j5syZztTUVL9zNWrUyDlv3jzn4sWL3ff169cv\\\n",
       "6LxG3XXXXQGviVatWjk///zzkF7v/Px854gRI4K+1o0aNXK++eabAedq27ate/y2bduc77zzTsDX\\\n",
       "Py0tzfnee+8FnHPlypXOI488Muj6XB92u73aHIG+Hp6PGfnYtm2b0+l0Om+99Vb3fVdddVXA5+Dy\\\n",
       "ww8/uI+pV6+ec//+/YaO88Xz+8/ixYudH374obNp06Z+1922bVvn9u3b3ce/+OKLznr16vkd37lz\\\n",
       "Z+fevXsDruH//u//DL1mFovFefPNNzvLy8t9zuN53QT78P6e5P06zJ0719m4ceNqx2VmZvo9p+tr\\\n",
       "6mnjxo3O9PR095jp06f7fR127txZ5ZyTJk0K+LpFS3FxsTMpKcl93pUrVwY95sEHH3SPP+2000x9\\\n",
       "fqfT6Tx06FCVr/NXX30V8Zyx+Plmt9ud11xzjeHr/K677or4eQAAgJqBTdYAoJbxrLbNysryO+7w\\\n",
       "4cMaNGiQVqxY4b7v6KOPVs+ePdW4cWPl5+drxYoV2rVrl4qLi3XjjTfq0KFDmjBhgt85r7jiCr3+\\\n",
       "+uvu240aNdKAAQPUtGlT7dixQ0uWLNGGDRs0ZMgQnX/++RE+0/Dt2rVLAwcO1ObNm6us9bTTTlN2\\\n",
       "drbsdrt27Nih1atX69ChQyopKfE7180336xp06a5bzdr1kynnHKKWrRooZKSEq1Zs0bfffednE6n\\\n",
       "XnrpJe3atUvvv/+++y3E3p599lmNHTvWfdtms6l///5q27at8vPztWTJEuXn5+vCCy/U5MmTo/Bq\\\n",
       "VDVhwoQqu8Snp6dr4MCBys7O1u7du7Vo0SL98ssvGjJkiG6++WZDc+7evVsDBw7Uxo0b3fd17txZ\\\n",
       "3bp1U0ZGhvbu3avPPvtM+/fv18GDBzVy5Ei98soruuyyy4LO/cknn+jaa6+Vw+FQmzZtdMopp6hh\\\n",
       "w4batm2blixZovLychUXF2vkyJH67rvvdNRRR1WbY+fOnRo0aJB+//13SZWv+UknnaRjjjlG6enp\\\n",
       "Onz4sLZv365169bp0KFDhp6ztyOPPNL9dZ05c6b7fs+vtaeGDRtKkq655ho99thjkqQ5c+boiSee\\\n",
       "UP369QOe66WXXnJ//te//lVNmjQJa83e1q5dqwkTJqi4uFitWrXSaaedpgYNGuiHH37QZ5995q5s\\\n",
       "HDx4sNavX685c+boyiuvlCQde+yx6t27t1JTU7V+/Xp99dVXkqTvv/9el19+uRYuXOj3vK6NI5OT\\\n",
       "k9WpUycde+yxatSokaxWq/bu3atVq1bp119/ldPp1BNPPKHS0lI99dRT1eYZNWqU9u/fr08//VSb\\\n",
       "Nm2SJJ155pnq2LFjtbG9e/f2u56VK1dq4sSJstvtatq0qfr27atmzZpp7969Ibcj6Nixox5//HH9\\\n",
       "/e9/lyTdfvvtGjBggLp06VJlXEVFhS6//HJ3hftpp52mu+66K6RzhWvz5s2qqKiQVFlx3qNHj6DH\\\n",
       "nHjiie7PPf/dm/H8krR+/foqt1u3bh3xnLHwz3/+s0rv/SOPPFK9e/dW8+bNVVFRof3792vDhg1V\\\n",
       "fvYBAIBaIsEBMwAgiFAqeO12u7N169bu8RdeeKHfsVdccYV7XIcOHZyLFy+uNqa8vNz51FNPuSvw\\\n",
       "rFar3+qpl19+uUpl0A033OAsKiqqMmbXrl3OgQMHOiU5U1JSgj6vWFU4nXbaaVWqO2fMmOEsKyur\\\n",
       "Nra0tNQ5b9485/Dhw33O9eKLL7rnadiwofP555/3Oc+iRYuqVIc+9NBDPuf74YcfqlTu9uvXz7lz\\\n",
       "584qY0pKSpw333xztdcwGhW8S5curVLRfOGFFzrz8/OrjDl48KDz4osvrnZ+f6+3w+FwDhgwwD2u\\\n",
       "d+/ezm+++abauOLiYufEiRPd569fv77zp59+8jmnZ1VkvXr1nPXr13e+8sorzoqKiirjvvvuuyqv\\\n",
       "e05Ojs/5XK+nJOcZZ5zh/PXXX32Os9vtziVLljgvu+wyn1WiRiuqPf+dGOH5PeCll14KOLa8vNyZ\\\n",
       "nZ3tHv/pp58aOoeRc9erV89ps9mcM2fOdDocjirjlixZ4qxfv7577OTJk50ZGRnOhg0bOv/3v/9V\\\n",
       "m3fOnDlVqsSXLl3qdw3jx493vvHGG86CggKfj1dUVDjnzZvnbN68uXu+zz77zO98oX5f8X4dkpOT\\\n",
       "nRaLxXn//fdX+/deUlJS5XawCl6X4cOHu8edcMIJ1ebxrEjNzMwMOFe0zZkzx33uYO9mcPn++++r\\\n",
       "XOfBqrRr8vmdTqfz6quvds/VuXPniOZyifbPt3379jmTk5PdP6tnzZpV7Xuiy65du5zTp093vvDC\\\n",
       "CxE+CwAAUFMQ8AJADRdKwHv//fdX+aX2o48+8jlu2bJl7jFHH32087fffgs4r+cvluecc061xx0O\\\n",
       "R5VgefTo0X7nKioqcnbt2rXKOuMZ8D7//PPuMTabzbls2bKg8/py6NAhZ6NGjdxB5xdffBFw/IYN\\\n",
       "G9zhbdOmTZ2HDx+uNubSSy+tEiL4GuNy1VVXVXkNoxHwnnrqqe75zjzzTL9vdXc4HM6zzz67yvn9\\\n",
       "vd6ewf/JJ59cLfT35tm649prr/U5xjM0s1gszgULFvid77333nOPzcjI8NlaoWfPnu4xW7ZsCbi+\\\n",
       "QGIV8L766qvu8cHebj5v3rwq/7b9BTxGeX7/kRQwEHrggQeqjLVYLAEDZs9r+LrrrotonU6n0/nF\\\n",
       "F1+45xs5cqTfcZEGvJKcDzzwgKHjjAa8+/btc7Zs2dI9dty4ce7HvvzyS3dwJ8n56quvGjp3tDz1\\\n",
       "1FPuc3ft2tXQMfv376/yem3atMm051+zZk2VP0Y89dRTYc/lKdo/3+bPn+9+/LLLLovKGgEAgHmw\\\n",
       "yRoAmNyhQ4f02Wef6dJLL9U999zjvv8f//iHzjrrLJ/H/Pvf/3Z//thjj6lZs2YBzzF69Gj325g/\\\n",
       "/PDDajuIf/jhh9q5c6ckKS0tTY8++qjfuYI9Hmuut7tL0i233KIzzjgjrHleeuklHTx4UJJ0/fXX\\\n",
       "q0+fPgHHH3/88Ro1apSkyg3ZvN+SfvDgQb311lvu2w8//LDS09P9zvfwww8Hfat+KDZu3KiVK1e6\\\n",
       "b0+fPl1Wq9Xn2KSkJD355JMBNzpy8bzWnnnmGaWlpQUcP378ePdGVa+//rr7rdn+DB06VOecc47f\\\n",
       "x4cMGaIWLVpIqtxEzdfbtT3bLjRv3jzg+RJhxIgR7jYLK1asCPj26hdffNH9+ZgxYwx9jYzq1q2b\\\n",
       "u+WCL5dcckmV28OGDauy2VWg8a6WDZHo06ePjj/+eEnSp59+GvF8/rRs2VJ33HFHVOds2rSpXn75\\\n",
       "ZffX68knn9SCBQtUWFioyy67TOXl5ZKkyy67TJdeemlUzx1MYWGh+/Ng/379jfOcw0znP3z4sC6/\\\n",
       "/HI5HA5JUqdOnXTVVVeFNVes1fTvYwAAILYIeAHARCZNmlRtt/fMzEz17dvX3fu2adOmmjp1apVg\\\n",
       "zVN5ebk+/vhjSZV9PocOHWro3AMGDJAkOZ3OKn17JWnx4sXuz4cMGaKmTZsGnOsvf/mLjjzySEPn\\\n",
       "jaaff/7Z3XtTkm644Yaw5/rggw/cnxsNXDzDruXLl1d5bOXKlSotLZUkHXHEEQFDS0lq3LhxVPsY\\\n",
       "e34Ne/bsqU6dOgUc36FDB5188skBx+Tl5Wnt2rWSKoORbt26BV1HamqqTjnlFElSQUGBvvvuu4Dj\\\n",
       "/+///i/g4xaLpcp5t2/fXm2MZz/NZ555Juga461evXq64oor3Lc9Q1xPe/bs0fvvvy9JslqtGj16\\\n",
       "dFTXceGFFwZ8vH379lX+6BBsvGef2W3bthlaww8//KDXXntN999/v2677TbdeOONuuGGG9wfBQUF\\\n",
       "kir/iOL6o1O0XXjhhUpOjv42Fmeeeab++c9/Sqr8PpuTk6OcnBz9+OOPkqR27dr57C0ca549yFNS\\\n",
       "UgwdU69evSq3i4uLTXd+19fA9T2oXr16ev3112Wz2UKeKx48v4+9/fbb2rt3bwJXAwAA4o1N1gCg\\\n",
       "FrFarXrooYcCVtl9++23Onz4sKTKzaRuuukmQ3OvWrXK/bl3cOK5sZArnAvEYrGoT58+evvttw2d\\\n",
       "O1q++OIL9+fHHnusWrVqFfZcn3/+ufvz5557TrNnzw56zC+//OL+PNBr2Lt3b7+bsHk65ZRTqmxq\\\n",
       "F4lQv4aucZ6vgzfPx4qLiw0H6lu3bnV/vnPnTnXt2tXv2BNOOCHofJ5/cPC1SdrIkSO1aNEiSZUV\\\n",
       "xB9//LEuu+wynXXWWRFdI9F0zTXX6IknnpAkvfzyy5o8eXK1kHH27NnuSs8hQ4aoZcuWUV2D98Zf\\\n",
       "vjRq1Mj9/aVz584Bx3pu/hZs87r3339f99xzT0ibmO3bty8mm2H17Nkz6nO6PPDAA/r000+1evVq\\\n",
       "7dmzR//73/8kVX5vf/XVV92b78VTamqq+/OysjJDx7j+WOVitPK2Jp1//PjxevPNN923n3nmmYDf\\\n",
       "ixLt5JNPVuvWrbVz507t2LFDnTt3Vk5Ojs477zz16dPHcDgOAADMiYAXAEzkpJNOqrK7e2FhoXbs\\\n",
       "2OGu/nQ4HLrqqqv0008/6cEHH/Q5x65du9yf79+/XzNnzgx5Ha6d3F1+++039+dt2rQxNIfRcdG0\\\n",
       "Z88e9+ft27cPe57CwkL9/vvv7tsvvPBCyHPUtNcwFuf3vNa2bdsWlWvNW2ZmZtA5PCvu7HZ7tcev\\\n",
       "uuoqLVy4UHPnzpVU+fZ+11v827RpozPOOEMDBgzQsGHDgrYziZXjjz9ep59+upYvX649e/bovffe\\\n",
       "0/Dhw6uMeemll9yfx+Jt5EZea8/QOdh4z7GuYNqXiRMnatKkSQZWWJXnv9FoiuXb3202m1577TWd\\\n",
       "eOKJ7qBcku6++26deuqpMTtvIBkZGe7PjVbCeo/znMMM53/44Yf18MMPu28/9NBDUa+IjzabzaZX\\\n",
       "XnlFQ4cOVWFhofbt26dHHnlEjzzyiFJTU9WrVy/17dtXQ4YM0amnnhrV9i0AACDxaNEAACYyZMgQ\\\n",
       "zZgxw/0xa9YsLVq0SNu3b6/Sz3Ly5Ml64403fM7hegtzJLzDGM/+hoH6xnqKZv9YozwDn0gCh9r4\\\n",
       "Gsbi/LF4nbxFI6SwWq16++239cILL1RrTbFjxw69+uqruuqqq9SyZUtdddVVys/Pj/ic4bjmmmvc\\\n",
       "n3u3aVi+fLm7N292drbOPffcqJ8/1Nc6Gl+bjz/+uEq4e8opp+i5557TmjVrtG/fPpWUlMhZuWmw\\\n",
       "nE6n+vXr5x4brH9zuCKpRjWiYcOG1c7hHebHk2cFvOcfyQLZvXt3ldue1do1/fzPPvtslR7L48eP\\\n",
       "1+233274+ETq16+f1q1bpyuuuKLKNVRSUqLly5dr8uTJOv3009WxY0f3H7QAAEDtQMALALVAixYt\\\n",
       "9J///EeDBg1y33fdddf5rH70DOW6du1aJRwx+jFx4sQqc3qGpUVFRYbW7FmdFi3BAp0GDRq4P49k\\\n",
       "0x/vYDM/Pz/k13DJkiVV5kj0axiL83u+Tueff35Y11q8quYsFouuvPJKff/999q8ebOee+45jRo1\\\n",
       "qkqlt91u14svvqjevXtXqXiOlwsvvFCNGzeWJC1YsKBKhbRn4Dt69Gi/G+SZzSOPPOL+fMyYMVqx\\\n",
       "YoWuvvpqde/eXU2bNq3WazVWVbvx4rrm9+3bV+X+K664olrbgXg57rjj3J/v3bu3Sk9cf3bs2OH+\\\n",
       "vEmTJhFVPcfz/P/5z3903XXXuW9fd911mjJlSgirTbz27dtr9uzZ+u2337Rw4ULdfffdGjBgQJXA\\\n",
       "94cfftAFF1zgt1c/AAAwHwJeAKglkpKS9MILL7hDtfz8fE2ePLnauKysLPfn3lVO4fL85dnzF+tA\\\n",
       "jGyA5PnW+mCVnFLwilHP5250UydfGjVqVCVYisbrGKvXMJHnj8W1Fg8dOnTQ1VdfrVmzZmnr1q3a\\\n",
       "vHmzbrnlFndounXr1rBaBkQqLS1Nf/vb3yRJDofD3ff5999/d/cKdQXVtYHD4dDSpUslVX5/mzJl\\\n",
       "StCqYKPXbk31xBNP6MMPP5RU+QcpVx/l9evXJ6yK9LjjjnP3BHc6ne6NEwP55ptv3J8ff/zxpjj/\\\n",
       "W2+9pdGjR8vpdEqSLr/88rDayoTDdc5AjP7hzaV+/foaNGiQ7r//fi1atEj79+/Xm2++WaVv+Z13\\\n",
       "3qlff/015PUCAICah4AXAGqRVq1a6eabb3bfnjFjRrVgrXv37u5wcu/eve4d2iPRo0cP9+eeG5n5\\\n",
       "43Q69eWXXwYd57mh0P79+4OOX79+fcDHTz75ZPfnP/zwQ5VNz0Ll2Qt5xYoVYc/j4vkarlq1ytDb\\\n",
       "ywNtcBbJ+Y18DY2cv0+fPu7P165dG5Oq7Xjo0KGDHnvssSqh7rx58xKyFs82Da6eu//973/dr22/\\\n",
       "fv109NFHJ2Rt0bZv3z73plpHHHGEjjjiiIDjN2zYUK3y1Zea2nv022+/1Z133um+/eSTT+qVV15x\\\n",
       "r/fJJ5/UwoUL476u1NTUKt87vd994IsrmJekgQMH1vjzv//++7rkkkvkcDgkSX/961+Vm5sbt2sl\\\n",
       "2CaDkiL6eSVV/oHowgsv1JIlS9x/fCsrK3P/QQEAAJgbAS8A1DK33nqruxVBSUlJlY1ipMpf8jx/\\\n",
       "4X3qqaciPueAAQPcn3/wwQdBe5QuWrTI0C+r7dq1c38erGqrpKRE8+fPDzimbdu2Vaq5IqnOGjp0\\\n",
       "qPvzp59+2lAFViCnnnqqO3jfs2ePPvroo4DjCwoKohoyen4Nv/76a23atCng+B9//DFowNu+fXv3\\\n",
       "611WVlatb6zZnH/++e7PjfYC9SU1NdX9ua9N3wLp0qWLTjnlFEmVX4OlS5dWeV1jsblaoriqNiVj\\\n",
       "m2s9/fTThuaN5PWPlZKSEl166aXuNgwjR47UqFGjNHDgQN12222S/mzfkIj2IJ49gGfNmhVw7M6d\\\n",
       "O92bFHofWxPPv2jRIl144YXua2Hw4MF6/fXX49rmxEhVspFg24gmTZrotNNOc9+O5HsZAACoOQh4\\\n",
       "AaCWady4sW688Ub37WeffbZaIOC5gcyTTz6pTz75xPD8vt5qf/bZZ6t169aSKt9GGuitxCUlJbr1\\\n",
       "1lsNncuzAvS9994LWJ137733Gqreu+WWW9yfP/bYY/rss88MrcXb3//+dzVq1EhS5duBQ3nL/r59\\\n",
       "+9yVYi6NGjXSiBEj3Ldvv/32gKHWHXfcEVEfYW/HH3+8Tj31VPftm266yW8VcUVFhcaNG2co1Pa8\\\n",
       "1u6+++6gVdae4tXWwch1I1VtSRGsmjQQz02jwnl7tGcV7x133OGuhm/cuHGVa8jsmjZtqszMTEmV\\\n",
       "f9DwrMr0tmLFCsMBb6Svfyzcdttt+v777yVJrVu31rPPPut+7IEHHnBX2O/Zs0djxoyJ+/pGjRrl\\\n",
       "bv+zefNmvfDCC37H3nHHHe7vb6eccopOPPHEGnv+lStX6vzzz3f39e3Xr5/eeustpaSkRLzmULz9\\\n",
       "9tsBvw8tXbq0yh/UvH9+SMbe5eISre9lAACg5iDgBYBa6JZbbnFvmlVUVKTHHnusyuP9+vXTqFGj\\\n",
       "JFX2tj333HM1ZcoUv4FhSUmJ5s6dq2HDhlWpYnSxWq26//773bdffPFF3XzzzdU2w9m9e7fOO+88\\\n",
       "rVu3ztAv0CeddJL77eaFhYW65JJLqm0cV1RUpH/+85965JFHqm245Mvo0aPdQabdbtc555yjp556\\\n",
       "ymclX1lZmebPn68LLrig2mOZmZl6/PHH3bcnTZqkUaNG+e0B6nQ6tWLFCl1//fVq06aNz/D23nvv\\\n",
       "dT+H9evX69xzz60WQJWWluq2227Ts88+G/UQ4sEHH3S/Jfmjjz7SpZdeqoMHD1YZc+jQIV1++eVa\\\n",
       "sGCBofP/7W9/c1eM//777zr99NP17LPPut967+3QoUN69dVX1b9//yp/qIilNm3a6O9//7uWLl3q\\\n",
       "N9T++uuvq6xn8ODBYZ+vS5cu7s9dvXNDMXLkSHfw6dnq5LLLLqtSnWp2SUlJGjJkiPv26NGj9dVX\\\n",
       "X1Ub98Ybb2jIkCFyOBzVNkD0xfP1f/fdd/1ei/HywQcfuN9NkJSUpFdeecX9xyNJSklJ0Wuvvab0\\\n",
       "9HRJlX/sisY7L0JxxBFHVPnj2Lhx4/TGG29UGWO32zV+/Hi9/vrr7vuCbVDWrl07WSwWWSyWgBsq\\\n",
       "xuL8a9as0ZAhQ9ztTfr06aP33nuvymZk8XLo0CENHz68ysaJLkuWLNHIkSOr3PfTTz9Jqhr0Pvnk\\\n",
       "k+revbuefvppv38cKyws1F133aVVq1ZJqvzZffbZZ0fraQAAgARKTvQCAADR17RpU40dO1YPPfSQ\\\n",
       "pMpWBLfffruaNGniHvPss88qLy9PH330kcrKyjRhwgQ98MAD6tOnj9q0aaN69erp4MGD2rp1q777\\\n",
       "7jv3W4d79uzp85yjRo3SBx984P6le9q0aXr55Zc1YMAANW3aVDt37tTixYtVWlqqo446SsOGDdMT\\\n",
       "TzwR8HlYLBZNmTLF/cvtJ598oqOOOkpnnnmmmjVrpt27d2vZsmU6ePCgWrZsqbFjx+quu+4KOGdy\\\n",
       "crLmzJmjgQMHasuWLSoqKnIfd9pppyk7O1vl5eX6+eeftXr1ah06dMgdpnkbPXq0fvrpJ3e4/fLL\\\n",
       "L+vVV19V9+7d1bFjR2VkZKiwsFC//PKL1q5dG3QTuOOOO07//ve/NXbsWEnS4sWL1b59e/Xv319t\\\n",
       "27bVgQMHtHjxYu3fv18pKSl68MEH9c9//jPgnKHo37+/brvtNj3yyCOSpDlz5ui9997TwIED1aJF\\\n",
       "C+3Zs0eLFi1SYWGhGjdurJtuukkTJ04MOKfVatUbb7yhs846S2vWrNGhQ4d07bXX6vbbb9cpp5yi\\\n",
       "I488UlarVQcOHNDmzZu1ceNG94Z68apGLS4u1nPPPafnnntODRo0UPfu3dW2bVvVr19f+/bt06ZN\\\n",
       "m9zVlVLlhnTBnncgI0aMcPe9vOOOO7RgwQJ17ty5yh8o7rrrLjVu3Njn8enp6brsssuqhXy1qT2D\\\n",
       "y9133625c+equLhY27dv18knn6xTTjlFHTp0UFlZmT7//HP3holXX321fvjhh4CVvlJlOJ+Wlqbi\\\n",
       "4mKtXbtWxx9/vPr3769GjRq5/8Bx9tlnxyX42rNnj3Jycty3b7/9dvXr16/auI4dO+qxxx7Tdddd\\\n",
       "J6my4nfAgAERb2AWinvuuUcrVqzQokWLVFxcrIsuukgPPPCATjzxRJWUlGjZsmXKy8tzj580aZLP\\\n",
       "51JTzj9o0KAq35OPPvpojR8/3tBahgwZUuWPD5Fq0aKFVqxYofbt26tv37466qijVFJSorVr1+rb\\\n",
       "b7+VJHXq1EkbNmyQVFl5fMEFF+jXX3+t8kePdevW6frrr9fYsWN19NFHq0uXLmrWrJnsdrvy8vK0\\\n",
       "cuXKKn/IHT9+vPvdNwAAwOScAIAarV+/fk5JTknO++67z/Bxe/fuddavX9997N13311tTHl5ufOe\\\n",
       "e+5xpqenu8cF+rDZbM6xY8f6PWdZWZlz1KhRAefo2LGjc+PGjc777rvP8POaNGlSwDmPO+4453ff\\\n",
       "fefMzc113zdq1KiAc+7fv995wQUXGHreRx55ZMC55syZ42zZsqWhuSQ5e/fu7SwpKfE73/Tp0531\\\n",
       "6tXze3xmZqbz3XffdS5evNh9X79+/QKuMRTjx493JiUl+T1/y5YtnStXrgzp9S4qKnJee+21zuTk\\\n",
       "ZEOvUVpamnPy5Mk+52rbtq173LZt24I+H89rMjc3t9rjGRkZhr923bp1c27cuNHneYx+PcrKypx9\\\n",
       "+/YNeJ5gz2vt2rVVxvfq1Svo6xAOz+8/ixcvDjo+1K+N53PwZ+7cuUG/R11zzTXOkpISw+t9+umn\\\n",
       "nRaLxe983t+TQn0dXIK9HoMHD67yNSwrKws43/nnn+8e3717d2dpaanhtUTDwYMHnSNHjgz6c+LB\\\n",
       "Bx80NJ/n6xPse0i0z2/037yR6yMcnt+XZsyY4ezVq5ff83Xv3t25b98+Z4cOHar9LHB59NFHDa8/\\\n",
       "JSXFOWnSpIifAwAAqDlo0QAAtVTz5s3d1V5S5ds3vd9ub7Va9a9//Uvbt2/Xo48+qnPOOUdt2rRR\\\n",
       "enq6bDabmjZtqhNPPFGjRo3SrFmz9Ouvv2rGjBl+z2mz2TRr1ix9+umnuuiii9SqVSulpKQoKytL\\\n",
       "p512mqZNm6ZVq1apY8eOIT2Xe++9VytXrtQll1zinrNZs2Y6+eST9cQTT+jrr79W586dQ5qzSZMm\\\n",
       "evvtt/XVV1/p5ptvVvfu3dWsWTNZrVZlZGSoY8eOuvjiizVr1ixt3rw54FwjR47UTz/9pFmzZumS\\\n",
       "Sy7RMccco8zMTFmtVjVs2FDHH3+8/vrXv+rxxx/X5s2b9eWXXwZsJ3HjjTfq22+/1Y033qhjjz1W\\\n",
       "aWlpatSokU444QTdeeed+vbbb322yoiWKVOm6KuvvtKYMWPUrl071atXT02bNlXPnj314IMPat26\\\n",
       "de6NvoxKS0vT008/rS1btuj+++/XgAEDdOSRRyo1NVUpKSlq3ry5+vTpo2uuuUZz5szR7t27deed\\\n",
       "d8boGVa1f/9+ffzxx7r77rs1aNAgtW/fXvXr15fValWDBg10/PHH629/+5veeecdffPNNyFfv95s\\\n",
       "Nps++eQTPf300/rLX/6iFi1ahNxuo1u3bmrfvr37dm2s3nUZNmyYvvvuO91www3q0KGDUlNTlZGR\\\n",
       "oQ4dOignJ0dLly7Vs88+a6hFi8u1116rzz77TJdffrk6dOig+vXru6t34+XJJ5/UggULJEn169fX\\\n",
       "q6++KpvNFvCYF198UdnZ2ZIqN+aaMGFCzNfpKTMzU3PmzNHHH3+sv/3tbzr66KOVnp6uzMxMdenS\\\n",
       "RbfeeqvWrVsXs3Ul+vyxUr9+fS1fvlxTpkxRt27dlJGRoYyMDHXv3l0PPfSQvvjiCzVt2lRz5sxR\\\n",
       "r169lJaWpuOPP1533323e45bb71V27Zt03PPPafRo0erZ8+eatq0qWw2m+rVq6esrCz1799f//rX\\\n",
       "v/TDDz/o3nvvTeAzBgAA0WZxOiPc9hsAAABxtX37drVv315Op1P169fXrl271LBhw0QvC4BBo0eP\\\n",
       "1uzZsyVJubm5AXsQAwAABEMFLwAAgMm89NJLcv2NfuTIkYS7AAAAQB1GwAsAAGAiJSUlev755923\\\n",
       "r7322gSuBgAAAECiEfACAACYyN13363du3dLkk499VT17t07wSsCAAAAkEjJiV4AAAAA/Fu4cKEW\\\n",
       "Llyo4uJiffXVV1q7dq0kyWKxaMqUKYldHAAAAICEI+AFAACowb744gtNmzat2v233Xab+vbtm4AV\\\n",
       "AQAAAKhJCHgBAABMIj09XSeccIKuv/56XXHFFYleDgAAAIAawOJ0bcEMAAAAAAAAADAVNlkDAAAA\\\n",
       "AAAAAJMi4AUAAAAAAAAAkyLgBQATKikp0XXXXacHH3ww0UsB3LguUVNxbSJauJYAAEBNRMALACb0\\\n",
       "ySef6JlnntFvv/3mvq9Xr16yWCwhfTRv3jzua9++fbssFov69+8f93MjtmJ1Xb755pvq37+/Gjdu\\\n",
       "rPr166tbt256+OGHZbfbfa6DawzefF2bnux2u2bPnq1zzz1XLVu2VL169ZSZmaljjjlG55xzjh56\\\n",
       "6CHt3LnTPZ5rrO7i5y8AAKiJkhO9AABA6ObOnStJGj58uCTJ6XSqR48e6tKlS5Vx27Zt07Jly5SR\\\n",
       "kaERI0ZUm6djx46xXirqkFhclzfffLOmTZum5ORkDRw4UBkZGVq0aJHuuOMOzZ8/Xx999JHS0tJi\\\n",
       "9pxQO3hfm562bNmiv/71r/ruu++Unp6uHj16qG/fviorK9OGDRv04Ycf6sMPP1TPnj3VunXr+C4c\\\n",
       "NQ4/fwEAQE1EwAsAJlNRUaH58+eradOmOuOMMyRJFotFzz//fLWxDzzwgJYtW6Y+ffpo1qxZcV4p\\\n",
       "6pJYXJdz587VtGnTlJGRoaVLl+rEE0+UJO3bt08DBw7U8uXLdc899+jRRx+NyXNC7eDr2nQ5cOCA\\\n",
       "BgwYoF9//VX/+Mc/dPfdd6tJkyZVxvz000969tlnddJJJ8Vz2aiB+PkLAABqKlo0AIDJrFy5Unv3\\\n",
       "7tXQoUNltVoDjl2zZo0kuYOxSI0ePVoWi0VLliyJynyoPWJxXU6ePFmSNH78+CpjmzVrpqeeekqS\\\n",
       "NGPGDBUUFESydNRyga7NRx99VL/++quGDBmif//739XCXUlq3769HnroIWVmZsZryaihEvnzFwAA\\\n",
       "IBACXgAwmUBvNfb2zTffSJJ69OgRwxUB0b8uf/31V61atUqSdOmll1Z7/PTTT1fr1q1VWlqqDz74\\\n",
       "IPQFo84IdG1+/PHHklStshfwhZ+/AACgpiLgBQCTeffdd5WWlqazzz474LgDBw5o+/btkqggQuxF\\\n",
       "+7p0Vb81adJERx11lM8xvXr1qjIW8CXQtVlcXCxJWrZsmRwOR7yXBpPh5y8AAKipCHgBwES+++47\\\n",
       "/fjjjzr77LOVnp4ecKwr9MrIyNCxxx4bj+WhjorFdblt2zZJUps2bfyOcW145RoLeAt2bfbt21eS\\\n",
       "tGDBAh177LG644479PHHH6uwsDDeS0UNx89fAABQkxHwAoCJhPL2UNcvmN26dVNSEt/uETuxuC5/\\\n",
       "//13SVL9+vX9jsnIyJAkHTp0yOBKUdcEuzYnT56sYcOGSar8Q8HDDz+ss88+W02aNNE555yj+fPn\\\n",
       "x2mlqOn4+QsAAGqy5EQvAABg3Ny5c2W1WnXeeecFHRtJ/78XXnhBy5cvr3a/676pU6f63BV8/Pjx\\\n",
       "6tixY8jng7nF67oEQhXs2szMzNTcuXO1ZcsWvf322/rkk0+0cuVKFRUV6cMPP9SHH36o2267TY88\\\n",
       "8kicV46aJl7f526//XbNmzcv5ONeeOEFnX766SEfBwAAagcCXgAwkZ07d6pBgwZq1KhR0LGR7OC9\\\n",
       "fPlyzZ492+/jH374oc/7R48eTcBbB8XiumzQoIEk6fDhw37HuN5G37BhQ4MrRV1j9Np0tWe44447\\\n",
       "VFZWpo8//li33367NmzYoMcee0zXXnutjj766PgsGjVSvH7+7tq1S5s3bw75ONqKAABQt/GeIQAw\\\n",
       "kaFDh+rgwYM+q2s9FRUVuX9BDKeCaNasWXI6ndU+Ro0aJUlavHixz8f79+8f8rlgfrG4Ltu1ayep\\\n",
       "MlTxx/WYayzgzei16SklJUXnnnuuXnrpJUmS0+nU+vXrY7VEmES8fv7+5z//8fnzNdjHOeecE9bz\\\n",
       "AgAAtQMBLwCYiKv3n6sXoD/r1q1TRUWFUlJS1Llz59gvDHVaLK5LVzCyf/9+v5uoff3115LYpR7+\\\n",
       "Gb02fXFt4if92e8ZdRc/fwEAQE1GwAsAJnLWWWepfv36evfddwOOc/X/69Kli2w2WzyWhjosFtdl\\\n",
       "q1atdNJJJ0mSXnvttWqPL1++XDt37lS9evU0ZMiQMFeO2s7ftel0OoMe6wryGjRooFNPPTUWy4OJ\\\n",
       "8PMXAADUZAS8AGAiqampGjRokLZt26Z169b5HRdJ/z8gVLG6LidMmCCpclM/V2giVVb1Xn/99ZKk\\\n",
       "G264QZmZmeEuHbWcv2vzrrvu0rXXXqvvv/++2jHFxcWaMWOGbr31VkmV1196enrc1oyaiZ+/AACg\\\n",
       "JiPgBQCTMfI20Uh28AbCEYvrcvjw4Ro3bpwKCwt18skna/Dgwbrwwgt1zDHHaP369TrttNN0//33\\\n",
       "R7p01HK+rs3ly5fr2WefVZcuXdS+fXsNGzZMl156qfr3769WrVrpxhtvlCRNmzbN/ccEgJ+/AACg\\\n",
       "piLgBQCTGTp0qJKTk/3+gmm3291VaVQQIV5idV1OmzZNc+bM0SmnnKKVK1fqgw8+UKtWrTR16lQt\\\n",
       "WrRIaWlp0Vg+ajFf1+Zzzz2nadOm6fzzz1daWpqWL1+uN998U+vXr1eHDh109913a/PmzRo3blzi\\\n",
       "Fo4ah5+/AACgpkpO9AIAAKFp3Lix+vbtq0WLFunnn39W27Ztqzxus9lUWloak3PPmjVLs2bNisnc\\\n",
       "MLdYXpcjR47UyJEjo7FM1EG+rs2OHTuqY8eOBLgISSJ//gIAAARCBS8AmFAkO8MDscJ1iZqKaxPR\\\n",
       "wrUEAABqIgJeADAhfsFETcR1iZqKaxPRwrUEAABqIlo0AIAJtW7dWk6nM9HLAKrgukRNxbWJaOFa\\\n",
       "AgAANREVvAAAAAAAAABgUlTwAgDiqlGjRrrvvvvUrl27RC8FtRTXGGKNawxmxHULAEDtZXHyHiMA\\\n",
       "AAAAAAAAMCVaNAAAAAAAAACASRHwAgAAAAAAAIBJEfACAAAAAAAAgEkR8AIAAAAAAACASRHwAgAA\\\n",
       "AAAAAIBJEfACANxKS0s1ceJElZaWJnopqIO4/pBIXH9IJK4/AAAQCYvT6XQmehEAgJrh0KFDyszM\\\n",
       "VEFBgRo2bJjo5aCO4fpDInH9IZG4/gAAQCSo4AUAAAAAAAAAkyLgBQAAAAAAAACTSk70AgBUVVFR\\\n",
       "oV27dqlBgwayWCyJXg7qmEOHDlX5LxBPXH9IJK4/JBLXHxLJ6XTq999/V8uWLZWURA0YAJgRPXiB\\\n",
       "GuaXX35R69atE70MAAAAAHXIzp071apVq0QvAwAQBip4gRqmQYMGkir/B4tNNhBvdrtdH330kc4+\\\n",
       "+2zZbLZELwd1DNcfEonrD4nE9YdEOnTokFq3bu3+PQQAYD4EvEAN42rL0LBhQwJexJ3dbld6eroa\\\n",
       "NmzIL5iIO64/JBLXHxKJ6w81Ae3hAMC8aLADAAAAAAAAACZFwAsAAAAAAAAAJkXACwAAAAAAAAAm\\\n",
       "RcALAAAAAAAAACZFwAsAAAAAAAAAJkXACwAAAAAAAAAmRcALAAAAAAAAACZFwAsAAAAAAAAAJkXA\\\n",
       "CwAAAAAAAAAmRcALAAAAAAAAACZFwAsAAAAAAAAAJkXACwAAAAAAAAAmRcALAAAAAAAAACZFwAsA\\\n",
       "AAAAAAAAJkXACwAAAAAAAAAmRcALAAAAAAAAACZFwAsAAAAAAAAAJkXACwAAAAAAAAAmRcALAAAA\\\n",
       "AAAAACZFwAsAAAAAAAAAJkXACwAAAAAAAAAmRcALAAAAAAAAACZFwAsAAAAAAAAAJkXACwAAAAAA\\\n",
       "AAAmRcALAAAAAAAAACZFwAsAAAAAAAAAJkXACwAAAAAAAAAmRcALAAAAAAAAACZFwAsAAAAAAAAA\\\n",
       "JkXACwAAAAAAAAAmRcALAAAAAAAAACZFwAsAAAAAAAAAJkXACwAAAAAAAAAmRcALAAAAAAAAACZF\\\n",
       "wAsAAAAAAAAAJkXACwAAAAAAAAAmRcALAAAAAAAAACZFwAsAAAAAAAAAJkXACwAAAAAAAAAmRcAL\\\n",
       "AAAAAAAAACZFwAsAAAAAAAAAJkXACwAAAAAAAAAmRcALAAAAAAAAACZFwAsAAAAAAAAAJkXACwAA\\\n",
       "AAAAAAAmRcALAAAAAAAAACZFwAsAAAAAAAAAJkXACwAAAAAAAAAmRcALAAAAAAAAACZFwAsAAAAA\\\n",
       "AAAAJkXACwAAAAAAAAAmRcALAAAAAAAAACZFwAsAAAAAAAAAJkXACwAAAAAAAAAmRcALAAAAAAAA\\\n",
       "ACZFwAsAAAAAAAAAJkXACwAAAAAAAAAmRcALAAAAAAAAACZFwAsAAAAAAAAAJkXACwAAAAAAAAAm\\\n",
       "RcALAAAAAAAAACZFwAsAAAAAAAAAJkXACwAAAAAAAAAmRcALAAAAAAAAACZFwAsAAAAAAAAAJkXA\\\n",
       "CwAAAAAAAAAmRcALAAAAAAAAACZFwAsAAAAAAAAAJkXACwAAAAAAAAAmRcALAAAAAAAAACZFwAsA\\\n",
       "AAAAAAAAJkXACwAAAAAAAAAmRcALAAAAAAAAACZFwAsAAAAAAAAAJkXACwAAAAAAAAAmRcALAAAA\\\n",
       "AAAAACZFwAsAAAAAAAAAJkXACwAAAAAAAAAmRcALAAAAAAAAACZFwAsAAAAAAAAAJkXACwAAAAAA\\\n",
       "AAAmRcALAAAAAAAAACZFwAsAAAAAAAAAJkXACwAAAAAAAAAmRcALAAAAAAAAACZFwAsAAAAAAAAA\\\n",
       "JkXACwAAAAAAAAAmRcALAAAAAAAAACZFwAsAAAAAAAAAJkXACwAAAAAAAAAmRcALAAAAAAAAACZF\\\n",
       "wAsAAAAAAAAAJkXACwAAAAAAAAAmRcALAAAAAAAAACZFwAsAAAAAAAAAJkXACwAAAAAAAAAmRcAL\\\n",
       "AAAAAAAAACZFwAsAAAAAAAAAJkXACwAAAAAAAAAmRcALAAAAAAAAACZFwAsAAAAAAAAAJkXACwAA\\\n",
       "AAAAAAAmRcALAAAAAAAAACZFwAsAAAAAAAAAJkXACwAAAAAAAAAmRcALAAAAAAAAACZFwAsAAAAA\\\n",
       "AAAAJkXACwAAAAAAAAAmRcALAAAAAAAAACZFwAsAAAAAAAAAJkXACwAAAAAAAAAmlZzoBQBAbVZQ\\\n",
       "UKCioqJEL8Mwh8MhSdqzZ4+sVmuCV2Ncenq6MjMzE70MAAAAAADijoAXAGKkoKBAM6dPl72iItFL\\\n",
       "MSwpKUldu3ZVbm6uKky0bltSksaOG0fICwAAAACocwh4ASBGioqKZK+o0AVvvaXm+/YlejmGOFJT\\\n",
       "tfrxx5WTmytrSUmil2PIb82a6Z0RI1RUVETACwAAAACocwh4ASDGmu/bp+y8vEQvwxB7WpokKWv3\\\n",
       "btmKixO8GgAAAAAAEAybrAEAAAAAAACASRHwAgAAAAAAAIBJEfACAAAAAAAAgEkR8AIAAAAAAACA\\\n",
       "SRHwAgAAAAAAAIBJEfACAAAAAAAAgEkR8AIAAAAAAACASRHwAgAAAAAAAIBJEfACAAAAAAAAgEkR\\\n",
       "8AIAAAAAAACASRHwAgAAAAAAAIBJEfACAAAAAAAAgEkR8AIAAAAAAACASRHwAgAAAAAAAIBJEfAC\\\n",
       "AAAAAAAAgEkR8AIAAAAAAACASRHwAgAAAAAAAIBJEfACAAAAAAAAgEkR8AIAAAAAAACASRHwAgAA\\\n",
       "AAAAAIBJEfACAAAAAAAAgEkR8AIAAAAAAACASRHwAgAAAAAAAIBJEfACAAAAAAAAgEkR8AIAAAAA\\\n",
       "AACASRHwAgAAAAAAAIBJEfACAAAAAAAAgEkR8AIAAAAAAACASRHwAgAAAAAAAIBJEfACAAAAAAAA\\\n",
       "gEklJ3oBAACgdisoKFBRUVHQcQ6HQ5K0Z88eWa3WoOPT09OVmZkZ8foAAAAAwMwIeAEAQMwUFBRo\\\n",
       "xvSZKq+wBx2blJSkrl27Kjc3VxUVFUHHJyfZdMO4sYS8AAAAAOo0Al4AABAzRUVFKq+wq/lbF8i2\\\n",
       "r3nAsZZUh/T4amXn5shZEriC197sN/024h0VFRUR8AIAAACo0wh4AQBAzNn2NVe9vOzAg9Iqq3xT\\\n",
       "dmdJxbY4rAp1TaB2IUZahNAWBAAAADURAS8AAABqvYKCAs2YOV3ldt/tP4y0CEm2JemGseMIeQEA\\\n",
       "AFCjEPACUbZ//37ddddd6tKli2644YZELwcAAOiPdiH2CjW/4C2lNN9X7XGLI1Va/bha5uTKaS2p\\\n",
       "9njZb8302zsjaAsCAACAGicp0QsAfNm+fbssFov69+9f5f5evXrJYrGE9NG8eeCej9HWtGlTLVy4\\\n",
       "UHfffbfs9uCbCgEAgPhJab5P9bLzqn2kZO2ufDxrt+/HfYTCAAAAQE1ABS9Mw+l0qkePHurSpUuV\\\n",
       "+7dt26Zly5YpIyNDI0aMqHZcx44d47VEt2HDhmn69OlatGiRBg0aFPfzAwAAoGbz7Antqwc0PZ8B\\\n",
       "AIBRBLwwDYvFoueff77a/Q888ICWLVumPn36aNasWfFfmA/Dhw/X9OnTNXfuXAJeAAAAVFFQUKCZ\\\n",
       "05+UvaIy2PXVA9qWZNXYcTcS8gIAgKBo0QDTW7NmjSTpxBNPjMp8o0ePlsVi0ZIlS8Keo2/fvmrS\\\n",
       "pInmzZsnp9MZlXUBAACgdigqKpK9wqEL3tqla57drpzcHZKknNwduubZ7brgrV2yVzjcFb4AAACB\\\n",
       "EPDC9L755htJUo8ePRK8kj9ZrVYNHTpUu3bt0ldffZXo5QAAAKAGar6vTNl5pcraXSpJytpdquy8\\\n",
       "UjXfV5bglQEAADOhRQNM7cCBA9q+fbuk6FXwRsvw4cP18ssva+7cuerTp4/fcaWlpSotLXXfPnTo\\\n",
       "kCTJbrezSZvJORwOJSUlyZGaKntaWqKXY4hrnWZZryQ5UlMrX2eHg38zNZDr34El1SGlBfn6uB4P\\\n",
       "Nk6SJdXB1x0hcV+LjlTJ7uN7nOs+X49Jsjj4XoPo+fP/EZJlT3PInlb5a5nrv47UZK43xA3XGACY\\\n",
       "n8XJ+8dRA23fvl1HHXWU+vXrF7BVwqJFi3TmmWcqIyNDBQUFSkqKvCh99OjRmj17thYvXqz+/fuH\\\n",
       "PU9RUZGaNWumtm3bauPGjX7HTZw4UZMmTap2/2uvvab09PSwzw8AAAAAwRQVFenSSy9VQUGBGjZs\\\n",
       "mOjlAADCQAUvTM3Vf7dbt25RCXejKT09XWeddZbmzZunH374QR06dPA57s4779Qtt9zivn3o0CG1\\\n",
       "bt1aZ599Nv+DZXJ79uxRbm6ucnJzlbV7d6KXY4g9LU0fv/SSzhozRrbi4kQvx5A9LVooNydHOTk5\\\n",
       "ysrKSvRy4MX17yA7N0cpu4N8fdLsynzpYxWMOUsqtgUcWtZij/Jycvm6wzDXtdgyJ1cpWT6+J9vT\\\n",
       "1PDjl3TorDGSrfr3v7I9LbQrl+81iI4//x9hh7J2l8qelqyPXxqms8a8K1txufa0qKfcnDZcb4gL\\\n",
       "1zsIAQDmRcALU4uk/+4LL7yg5cuXV7vfdd/UqVM1a9asao+PHz9eHTt2NHSO4cOHa968eXrnnXd0\\\n",
       "xx13+BxTr1491atXr9r9NptNNlvggAM1m9VqVUVFhawlJaYJS11sxcWmWbO1pKTydbZa+TdTA7n+\\\n",
       "HThLrEFDW7diW9CxzhIrX3eExH0tWkt8BrhutmKfjzutfK9B9Pz5/wjlshWXu++3FVfetvI9DnHE\\\n",
       "NQYA5kfAC1NzVfCG0393+fLlmj17tt/HP/zwQ5/3jx492nDA26ZNG0nSzp07Q14fAAAAarffmqVI\\\n",
       "quy5K0l7WtSTtcTqvh8AAMAIAl6YVlFRkTZv3iwpvAreWbNm+azQjVYPXkmaP3++JGno0KERzQMA\\\n",
       "AIDaIz09XbYkq94Z0VKSlJSUpK6ScnPaqKKiQpJkS7KyHwMAADCEgBemtW7dOlVUVCglJUWdO3dO\\\n",
       "9HJ8evfdd9WwYUMNHDgw0UsBAABADZGZmamx425UUVGRJMnhcGj16tXKycmR1WqVVBkCZ2ZmJnKZ\\\n",
       "AADAJAh4YVqu/rtdunSpkX2j1q5dq+3bt+uiiy5SSgpvswMAAMCfMjMz3QGu3W6XJGVlZdXI/68F\\\n",
       "AAA1GwEvTCuS/rvxMHfuXEmVG60BAICaoey3Zj7vtzhSKx/f06JyIzaDxwEAAACJRsAL03JV8IbT\\\n",
       "fzce5s6dq5SUFA0ZMiTRSwEAoM5LT09Xsi1Jv70zwufjSUlJatZV2pWb4+6B6i3ZlkRPVAAAANQ4\\\n",
       "BLwwJbvdru+//15Szazg3b59u9atW6dBgwapYcOGiV4OAAB1XmZmpm4YO87d89Sbrx6o3uiJCgAA\\\n",
       "gJqIgBemZLPZVFpaGpO5Z82apVmzZkU0B+0ZAKAqe7Pfgo6xpDokSWUt9shZ4jtgC2U+wJtnz1Nv\\\n",
       "9EAFAACAWRHwAjEwd+5cWSwWDRs2LNFLAYCESk9PV3KSTb+NeCfo2KSkJDVXV+Xl5Pp9i7yn5CQb\\\n",
       "b5cHAAAAUOcR8AJRtn//fi1fvly9e/dWdnZ2opcDAAmVmZmpG8aN9fu2eE9G3iLvibfLAwAAAAAB\\\n",
       "LxB1TZs2VXl5eaKXAQA1RqC3xXviLfIAAAAAELqkRC8AAAAAAAAAABAeKnhRIzVq1Ej33Xef2rVr\\\n",
       "l+ilAAAAAAAAADUWAS9qpEaNGmnixImJXgYAAAAAAABQo9GiAQAAAAAAAABMioAXAAAAAAAAAEyK\\\n",
       "gBcAAAAAAAAATIqAFwAAAAAAAABMioAXAAAAAAAAAEyKgBcAAAAAAAAATIqAFwAAAAAAAABMioAX\\\n",
       "AAAAAAAAAEyKgBcAAAAAAAAATIqAFwAAAAAAAABMioAXAAAAAAAAAEyKgBcAAAAAAAAATIqAFwAA\\\n",
       "AAAAAABMioAXAAAAAAAAAEyKgBcAAAAAAAAATIqAFwAAAAAAAABMioAXAAAAAAAAAEyKgBcAAAAA\\\n",
       "AAAATIqAFwAAAAAAAABMioAXAAAAAAAAAEyKgBcAAAAAAAAATIqAFwAAAAAAAABMioAXAAAAAAAA\\\n",
       "AEyKgBcAAAAAAAAATIqAFwAAAAAAAABMioAXAAAAAAAAAEyKgBcAAAAAAAAATCo50QsAgNrut2bN\\\n",
       "Er0EwxypqZKkPS1ayFpSkuDVGGOm1xcAAAAAgGgj4AWAGElPT5ctKUnvjBiR6KUYlpSUpK6ScnNy\\\n",
       "VFFRkejlGGZLSlJ6enqilwEAAAAAQNwR8AJAjGRmZmrsuHEqKipK9FIMczgcWr16tXJycmS1WhO9\\\n",
       "HMPS09OVmZmZ6GUAAAAAABB3BLwAEEOZmZmmCh7tdrskKSsrSzabLcGrAQAAAAAAwbDJGgAAAAAA\\\n",
       "AACYFAEvAAAAAAAAAJgUAS8AAAAAAAAAmBQBLwAAAAAAAACYFAEvAAAAAAAAAJgUAS8AAAAAAAAA\\\n",
       "mBQBLwAAAAAAAACYFAEvAAAAAAAAAJgUAS8AAAAAAAAAmBQBLwAAAAAAAACYFAEvAAAAAAAAAJgU\\\n",
       "AS8AAAAAAAAAmBQBLwAAAAAAAACYFAEvAAAAAAAAAJgUAS8AAAAAAAAAmBQBLwAAAAAAAACYFAEv\\\n",
       "AAAAAAAAAJgUAS8AAAAAAAAAmBQBLwAAAAAAAACYFAEvAAAAAAAAAJgUAS8AAAAAAAAAmBQBLwAA\\\n",
       "AAAAAACYFAEvAAAAAAAAAJgUAS8AAAAAAAAAmBQBLwAAAAAAAACYFAEvAAAAAAAAAJgUAS8AAAAA\\\n",
       "AAAAmBQBLwAAAAAAAACYFAEvAAAAAAAAAJgUAS8AAAAAAAAAmBQBLwAAAAAAAACYFAEvAAAAAAAA\\\n",
       "AJgUAS8AAAAAAAAAmBQBLwAAAAAAAACYFAEvAAAAAAAAAJgUAS8AAAAAAAAAmBQBLwAAAAAAAACY\\\n",
       "FAEvAAAAAAAAAJgUAS8AAAAAAAAAmBQBLwAAAAAAAACYFAEvAAAAAAAAAJgUAS8AAAAAAAAAmBQB\\\n",
       "LwAAAAAAAACYFAEvAAAAAAAAAJgUAS8AAAAAAAAAmBQBLwAAAAAAAACYFAEvAAAAAAAAAJgUAS8A\\\n",
       "AAAAAAAAmBQBLwAAAAAAAACYVHKiFwAAAKorKChQUVFRopcRVw6HQ5K0Z88eWa3WBK8mvtLT05WZ\\\n",
       "mZnoZQAAAAAwIQJeAABqmIKCAs2cPl32iopELyWukpKS1LVrV+Xm5qqijj13W1KSxo4bR8gLAAAA\\\n",
       "IGQEvAAA1DBFRUWyV1TogrfeUvN9+xK9nLhxpKZq9eOPKyc3V9aSkkQvJ25+a9ZM74wYoaKiIgJe\\\n",
       "AAAAACEj4AUAoIZqvm+fsvPyEr2MuLGnpUmSsnbvlq24OMGrAQAAAABzYJM1AAAAAAAAADApAl4A\\\n",
       "AAAAAAAAMCkCXgAAAAAAAAAwKQJeAAAAAAAAADApAl4AAAAAAAAAMCkCXgAAAAAAAAAwKQJeAAAA\\\n",
       "AAAAADApAl4AAAAAAADEzdFHHy2LxeLz46OPPkr08gDTIeAFAAAAAABA3Pz3v/+VJK1atUp5eXn6\\\n",
       "8ssv3bfPPPPMRC4NMCUCXgAAAAAAAMTN3r17lZGRoZ49e6pFixbavXu3+7bVak308gDTIeAFAAAA\\\n",
       "AABA3Kxfv16dO3eWxWKRJH377bfq0qWL+zaA0BDwAgAAAAAAIG6+++47nXDCCe7b69atq3IbQGgI\\\n",
       "eAEAAAAAABA369evV5cuXarcJuAFwkfACwAAAAAAgLgoLy/Xpk2b3IGu0+nUTz/9pDZt2iR4ZYB5\\\n",
       "EfACAAAAAAAgLn744QeVlZW5K3gtFou6dOmia6+9Vj/++GOCVweYU3KiFwAAAAAAAIC6oVOnTnI6\\\n",
       "nVXu++abbxK0GqB2oIIXAAAAAAAAAEyKgBcAAAAAAAAATIoWDQAAAAAAAIgLi8ViaJx3GwcA/hHw\\\n",
       "AgAAAAAAIC4IboHoo0UDAAAAAAAA4mbKlCnq1auXGjRooKysLI0cOVLbt29P9LIA0yLgBQAAAAAA\\\n",
       "QNwsXbpUN954o7788kstXLhQ+fn5Gjx4sMrLyxO9NMCUaNEAAAAAAACAuFm4cGGV288//7zat2+v\\\n",
       "DRs2qGvXrglaFWBeVPACAAAAAAAgYQoKCiRJTZo0SfBKAHMi4AUAAAAAAEBCOBwO3XbbbRoyZIha\\\n",
       "tWqV6OUApkSLBgAAAAAAAMSd0+nUtddeqx07dmjFihWJXg5gWgS8AAAAAAAAiCun06nrr79en3zy\\\n",
       "iZYtW6bmzZsnekmAaRHwAgAAAAAAIG6cTqfGjh2r999/X0uXLlXr1q0TvSTA1Ah4AQAAAAAAEDdj\\\n",
       "x47V66+/rvnz5ystLU27d++WVLnJWkpKSoJXB5gPAS8AAAAAAADi5umnn5YknXHGGVXuX7x4sfr3\\\n",
       "75+AFQHmRsALAAAAAACAuHE6nYleAlCrJCV6AQAAAAAAAACA8BDwAgAAAAAAAIBJEfACAAAAAAAA\\\n",
       "gEkR8AIAAAAAAACASRHwAgAAAAAAAIBJEfACAAAAAAAAgEkR8AIAAAAAAACASSUnegEAAAAAAACo\\\n",
       "XUpKSpSXl1fl4+DBgyovL6/yIUnJyclVPho1aqTs7OwqH6mpqQl+RkDNRcALAAAAAACAkDgcDm3a\\\n",
       "tEmrV6/W999/r127drmD3F/zdqjgQKGSrBZlZqWpQbZV9Vs6Vb+RXUk2pyy2ClmSK5SUlKQm2wZp\\\n",
       "f+uPZa2oUIU9SRV2i0oP2nRol0UH8xw6uKdYDodTmY0z1CI7Sy2zW+nI7NZq2bKlOnfurJ49e6pj\\\n",
       "x46yWq2JfkmAhCHgBQAAAAAAgF/l5eXuMNf1sXbtWlWoXK26ZyrzhHLZjjuslP5lapMtndhSqp8t\\\n",
       "pTVzKsla5J6nide8SfZ66vTB1dowZJHSbWUej5S6P2vkkH7fJx3MK9TBXYU6mLdVB/Okjb801sJn\\\n",
       "kvXD2oNKsljVvXsP9ezZSz179nSHvsnJxF6oG7jSAQAAAAAA4Ga327Vs2TK9//77+uKLL7R27Ro5\\\n",
       "LU617tFUjXo6lfz3fTq9p11tOkpJ1t+qHZ8RxbUkWaXMrMqPtt3/vL+xDkiSHOXSL5vs+nH15/rp\\\n",
       "m6+18vnm2nD9fslpUffuPXTyySfr3HPPVd++fWWz2aK4MqDmIOAFAAAAAACo4/Lz87VgwQLNnz9f\\\n",
       "CxYskK2+VUcPbaLS635S355ONThOslh3VTkmKUFr9WRNltp2qfw4c5RdGdolh0PauVn6afUGbfxs\\\n",
       "ry67fJZKiip0zjnn6Pzzz9fgwYPVuHHjRC8diBoCXgAAAAAAgDpoy5Ytmj9/vubNm6cVK1boiC4N\\\n",
       "1fj8EnW5rUgNT5QsSZVVstGsyI0Hq1Vq10lq16lAAy8v0HUV0pZvpO/nrdbUR1Zq1KhROv3003Xe\\\n",
       "eefp/PPP1zHHHJPoJQMRIeAFAAAAAACoI3bt2qXc3Fy9+uqr2rp1qzoOaK/SkdvV5eVyZbfJD2mu\\\n",
       "A5JCqYPNV/U+vPGQlCSd0ks6pdePuupfUt4O6bP3vtC78zbozjvH6+ijj9Fll12mnJwctWzZMgEr\\\n",
       "BCJTE6rpAQAAAAAAECMOh0Pvv/++hg0bpnbt2ul/n72mrIll6rqvTGkLN6nR9SWq1yZ65ysMcXx9\\\n",
       "P/fHKgzObiONvL5ETy7cq1X77Lp+4k9a/NlrateunYYPH673339fDocjRmcHoo+AFwAAAAAAoBbK\\\n",
       "z8/XQw89pKOOOkpj/j5G+d12qtUPdtVbuEHFI7fK2sDYPKEGtrHmr2o4nFYSGQ2kISNL9dzCDfrk\\\n",
       "B7uOPmGHrrkmR0cddZQefvhh5eeHVtUMJAItGgCgDigoKFBRUVHQca6/Uu/Zs0dWqzXo+PT0dGVm\\\n",
       "Zka8PgAAAADRs2HDBk2fPl2vvPKK2p/UVkdOq6d95+3UnuS9AYOgRLVQiDWjz6lVO2ns/Wv09/uk\\\n",
       "xfPq6dVpuZo0aZIuv/xyjRs3Tp06dYrlMoGwEfACQC1XUFCgGTOnq9xeEXRsUlKSunbtqtzcXFVU\\\n",
       "BB+fbEvSDWPHEfICAOCHkT+yhvIHVv64CiCQjRs36q677tKCBQuUfUljNV9RrNLuG1UqyeIxrrYG\\\n",
       "uaHyV/GbnCyN/GupRv51k9avteiF6avUs2dPDR48WJMnT1bHjh3juk4gGAJeAKjlioqKVG6v0DEX\\\n",
       "vKW05vsCD3akSqsfV+ecXMlaEnBo8W/N9OM7I1RUVMQvmgAA+FBQUKCZM6bLXh74j6ah/IHVlpyk\\\n",
       "sTfwx1UAVe3cuVOTJk3Sq6++qm5jOilzW4lKW+T57W0L407o7tS0l77RhMnSY/evVI8ePXTZZZdp\\\n",
       "4sSJatWqVaKXB0gi4AWAOiOt+T5lZOcFHOO0p6lEUv2s3bLYiuOzMAAAaqmioiLZyyt0ge0tNbf4\\\n",
       "/yOrIylVq/W4clJyZa3w/wfW35zN9I6dP64C+FN+fr6mTJmimTNnquOwY9RwfYl2HvONXO8FOCz/\\\n",
       "G5j5nVO+q3sL5bvi9YD898Q1K1/PJ6uF9PDMPbplrDRp0nvq0OE13XDDDRo/fryaNKEeGolFwAsA\\\n",
       "AAAAMdTcsk/ZSf7/yGpPSpMkZSXtlk0B/sAavHsSgDqiqKhI06ZN00MPPaTsk7OVsaJYe3qsDynk\\\n",
       "qW1tGvy1W/D3HMPZkE2SjjlGeuWVPVqzRrr7ntlq3/453XHHHbrpppuUnp4e5qxAZJISvQCgttm/\\\n",
       "f7+uvfZazZgxI9FLAQAAAADUIhUVFXruued0zDHH6Pl3nlPpO79r+8JN+r2H/2MOx295tUKgauSM\\\n",
       "sj8/79FDev+9vXpjzu96++3HdMwxx+i5554ztJcJEG0EvKg1tm/fLovFov79+1e5v1evXrJYLCF9\\\n",
       "NG/evMocb775pvr376/GjRurfv366tatmx5++GHZ7fZq62jatKkWLlyou+++2+fjAAAAAACE6scf\\\n",
       "f1T//v1179R7deDJvdr15XZpwJ9hYn4Yc/o7Jpy54qWmtYMYMKBCK5bv17SpezV1yh0aMGCAtm7d\\\n",
       "muhloY6hRQNqNafTqR49eqhLly5V7t+2bZuWLVumjIwMjRgxotpxnjti3nzzzZo2bZqSk5M1cOBA\\\n",
       "ZWRkaNGiRbrjjjs0f/58ffTRR0pLS6ty/LBhwzR9+nQtWrRIgwYNis2TAwAAESkoKFBRUZEkyeFw\\\n",
       "SJL27Nkjq7Wyc2F6ejp9TgEACVdRUaEZM2bozgl3ypqTrLIFh2SpL1lCmCOcXry++OvDG+nYWIlm\\\n",
       "ewbP6l1vtlLpwuEOnfOXgxo/cbW6deuqKVOmauzYsUpKorYSsUfAi1rNYrHo+eefr3b/Aw88oGXL\\\n",
       "lqlPnz6aNWuW3+Pnzp2radOmKSMjQ0uXLtWJJ54oSdq3b58GDhyo5cuX65577tGjjz5a5bjhw4dr\\\n",
       "+vTpmjt3LgEvAAA1UEFBgWY+OV12R2XlU1JSkrp27arc3Fz3Wytt1iSNvXEcIS8AIGG2bt2qMWPG\\\n",
       "aMPODSp9r1yW/hUBg5za1lc33iKtDs7IkGY8elgjzpeuvGGS3nrrLb344os6+uijo7I+wB/+jIA6\\\n",
       "ac2aNZLkDmz9mTx5siRp/PjxVcY2a9ZMTz31lCRpxowZKigoqHJc37591aRJE82bN09OpzOaSwcA\\\n",
       "AFFQVFQku6NCF2x7S9dseFY5m3IlSTmbcnXNhmd1wba3ZHdUuCt8AQCIp4qKCj355JPq2q2rvjxh\\\n",
       "lQ58+7ss/SsjnHKlhjWnv1680WjHcCAKc0Qi1pXCgap3k0uq3zegr/Ttyv3qfNQWdevWVU8++SS9\\\n",
       "eRFTBLyok7755htJUo8e/jvR//rrr1q1apUk6dJLL632+Omnn67WrVurtLRUH3zwQZXHrFarhg4d\\\n",
       "ql27dumrr76K4soBAEA0NS/ep+ziPGWV7JYkZZXsVnZxnpoX70vwygAAddVPP/2kgQMH6t5/36eS\\\n",
       "+XY5ZjhlyajakCFQyBut/rmJ7sMbq0pkf2Gwv+rdQOFuIA3s0syJuzT/+SL9+9F7NXDgAP3000/h\\\n",
       "TQYEQYsG1DkHDhzQ9u3bJQWu4HVV+TZp0kRHHXWUzzG9evXSzp07tWbNGl1yySVVHhs+fLhefvll\\\n",
       "zZ07V3369PF7ntLSUpWWlrpvHzp0SJJkt9vZpA1R4XA4Kvs+OVLltKcFHOt6PNi4yolTlZSUJIfD\\\n",
       "wbUaZa6vmSM1VfY0A1+LWsL1XOvSc5YkRyr/lhLB/e8sOVV2W5rstj+uvz/+60jm64LIua+zpFTZ\\\n",
       "k/x/b3M9FmiMJDnEdYno41qqWd544w3lXJmjkissqngvTckZ1kQvqZqa0FvXiHi0qvBVvettwKnS\\\n",
       "+gUHdfuU5erW7QS99NIs/d///V/sF4c6xeLk/eOoJbZv366jjjpK/fr105IlS/yOW7Rokc4880xl\\\n",
       "ZGSooKDAb8PzJ598UuPGjVP37t3dYa+3m266SdOnT9eFF16oN998s8pjRUVFatasmdq2bauNGzf6\\\n",
       "Xc/EiRM1adKkave/9tprSk9P93scAAAAAESqqKhIl156qQoKCtSwYcNEL6fOqqio0H333adHpz+q\\\n",
       "kv/Uk86r534sWYf8Hpcs3wljoHDT32Zrvo4JZZMyXxWwvsZ5zplkT1OnD17Xz0MukdNWbOjc4Zwn\\\n",
       "2Fh/80r+K3gDhbsWPz0r5n8i/e0fybrp5js1ceJENmBD1FDBizrHFdZ269Yt4DfT33//XZJUv77/\\\n",
       "vUYzMip/NLiqbj2lp6frrLPO0rx58/TDDz+oQ4cOPue48847dcstt7hvHzp0SK1bt9bZZ5/N/2Ah\\\n",
       "Kvbs2aPc3Fx1zslV/azdAcc67Wkq/fgl1TtrjCxe/4Pl7fCeFvo+N0c5OTnKysqK5pLrPNfXLCc3\\\n",
       "V1m7A3/NahN7Wpo+fuklnTVmjGzFga+/2mRPixbKzeHfUry5/51tylVWyW7ZbWn6+JKXdNbrY2Sz\\\n",
       "F2tPagvlduTrgsi4r7OUXGUl+f9+bk9K08fHvKSzfhwjW4X/7397Kloot4zrEtHl63cZxFdhYaEu\\\n",
       "ufwSLV6/VCWfp0udIo9qorXZWk3btC3iTdBCnDfc9gz+nPcX6fP/lOv8Gyfru/Vr9PIrr7tzBSAS\\\n",
       "BLyoc4z0342W4cOHa968eXrnnXd0xx13+BxTr1491atXr9r9NptNNpst1ktEHWC1Wisb+ltLgoa2\\\n",
       "LhZbcfCx1hJVVFTIarVyrUaZ62tmLSmpU0Gni624uE49b2sJ/5YSwf3vrLxENvuf15vNXiybvVjW\\\n",
       "ZL4uiJz7OqsokU3Bv6/ZKooDBrzWCq5LRB/XUmJt27ZNg4adox+P+EXOr9KlJtWLkMrV0G8Vb7lS\\\n",
       "/Vbx+gtnD8t3FW9NC3ONSkQ8Gk71riTpsNTpGOmr1x0aeev7OvWUEzVv/kdq165dtJeIOoZacNQ5\\\n",
       "rgreQP13JalBgwaSpMOH/e01WvmXVkl+K23btGkjSdq5c2fI6wQAALH3W1oz5aVla09qC0nSntQW\\\n",
       "ykvL1m9pzRK8MgBAbbdkyRJ1PambtgzYK+fCVj7DXZdy+X93Z6AN12Kl0Md9vnJNX+PiwVdQHY/q\\\n",
       "3YDhrocmjaQFzzjVv9sWndTrBC1dujT0kwEeqOBFnVJUVKTNmzdLCl7B6/oLWqBw1vWYv7+2zZ8/\\\n",
       "X5I0dOjQEFcKAABiKT09XTZrkt45aoQkKSkpSV0l5XbMqXzXgySbNYl++ACAmHjmmWd0463jVD6t\\\n",
       "iXRVoz/ubSzfMWmlcCp5Q63i9cWslb2x4q96N2i461U7ZrNJ0ydIJxxbqCGD/6J/Pz5Df//736Oy\\\n",
       "RtQ9BLyoU9atW6eKigqlpKSoc+fOAce6AuD9+/dr27ZtOuqoo6qN+frrryX5rwZ+99131bBhQw0c\\\n",
       "ODDClQMAgGjKzMzU2BvHqaioSJLkcDi0evVq5eTkyGqt3LE8PT1dmZmZiVwmAKCWqaio0M0336yn\\\n",
       "/vusHB+2kE73/kNi4JA31upamBuv3rve4a6nq/9P6tisXCPuHKvvv/9eTzzxBJuvIWRcMahTXP13\\\n",
       "u3TpErTXVKtWrXTSSSdJkl577bVqjy9fvlw7d+5UvXr1NGTIkGqPr127Vtu3b9fgwYOVkpIShdUD\\\n",
       "AIBoyszMVHZ2trKzs90bVmVlZbnvI9wFAESTw+HQlVdeqZkLnpNjVSsf4a6L/63EwmnVkO9nfIDM\\\n",
       "Mab8rccMwqreDfZC50tndJO+etahD96eqauuukoOhyPcJaKOIuBFnWK0/67LhAkTJElTp051h8NS\\\n",
       "ZVXv9ddfL0m64YYbfP4COHfuXEmVG60BAAAAAOouu92uyy+/XLO/mKOKpR2ktv5D3ETzFcD6ui9R\\\n",
       "/XU9+eqrG0r/XZ9z+qneDbSxWtg8Xth22dKyGRX6fNEsXXHFFSovL4/BCVFbEfCiTnGFtMH677oM\\\n",
       "Hz5c48aNU2FhoU4++WQNHjxYF154oY455hitX79ep512mu6//36fx86dO1cpKSk+q3sBAAAAAHVD\\\n",
       "WVmZLrroIr3+3Vw5lx4rtTTyDs/AVbz+KnnNUsUbjmhH4tGaL+zqXR9flJbNpKVPOrX+i9d00UUX\\\n",
       "qaws2r0iUFvRgxd1ht1u1/fffy/JeAWvJE2bNk2nnXaaZs6cqZUrV8put+voo4/W+PHj9Y9//MNn\\\n",
       "+4Xt27dr3bp1GjRokBo29P8WGgAAANR+vzmbSRX+H3f8EcjsqWgha4X/ErHfnM2ivTQAMWa323Xx\\\n",
       "xRfrne0LpcUdpKaeMYyrrtRfLWx4/XhD3XAtmg4o+kFsPIVavRtRawY/jmgsLZ4inTXhbV0y7CTN\\\n",
       "mb9aycnEdwiMKwR1hs1mU2lpaVjHjhw5UiNHjjQ8nvYMqImKfzPwS6EjVVZJh/e0kKyB34NkaD4A\\\n",
       "AOqw9PR02ZKT9I59RMBxSUlJ6ioptyxHFRUBkmBJtuQkpaf769sJoCZxOBy64oor9M6PvsJdo/yH\\\n",
       "vOVqqGQdimiN/vgKg82wAZvR9gwxD6FDrNz11rSh9PFkacAd3+qKkQP0yptL3JvAAr4Q8AIxMHfu\\\n",
       "XFksFg0bNizRSwGUnp6uZFuSfnwn8C+X0h+/YHaVvs8N/gumJCXb+CUTAAB/MjMzNfaGcSoqKgo4\\\n",
       "zuFwaPXq1crJyQn6C3x6ejobAAImUFFRoauuukpz1s6Xlh4bJNzNUOCOtqFX8oZSxXtYUv2QZo89\\\n",
       "I0FyKH11jYhq9W4k/rgUXCFv/ztW6OorhumFV+YpKYlOq/CNgBeIsv3792v58uXq3bu3srOzE70c\\\n",
       "QJmZmbphbPBfLqXQfsGU+CUTAIBgMjMzg/6stNvtkqSsrCzZbLZ4LAtAjN188816efn/5Fx6onSE\\\n",
       "qy9uoNLN8ELeWFbxGlGo4EGrkTE1VcjhbrC2DMGqd70ugazG0qdTnOp7+wL944YcTXtqdpAJUFcR\\\n",
       "8AJR1rRpU3a7RI1j5JdLiV8wAQAAgEg9/fTTeuq/z6tiVS+ppeemZ00UWcjrm7+QN9IqXrO1aYik\\\n",
       "PYO/6l1fwq7cDTHcdWnZVPpkcoV63/Syju/cU9eOHRfmAlCbUdsNAAAAAAAQBUuWLNG4226S4+0u\\\n",
       "Uts0HyOCxaOBal39d44tV83Z3DtWnQvizV/1rl+R9N0Nkuu3y5Levkm69bZbtXTp0hAXhrqAgBe1\\\n",
       "RqNGjXTfffdp9OjRiV4KAAAAAKCO2bZtm867cJjKpx8rnR5oG6/YhLy+lCvV5/2+8sZg3QUSKVqb\\\n",
       "oiWkejfCcFf5lR+nHydN+1u5RlwwVNu2bQtjIajNaNGAWqNRo0aaOHFiopcBAAAAAKhjfv/9d519\\\n",
       "/mAVXtZcuvI4hdNqoapA7RpC68frr1WDEUZaMiSix66R80WyppCqdyNJxkO8TK4aIH27o1DDhg7S\\\n",
       "yi+/UUaGWbsbI9qo4AUAAAAAAAhTRUWFLr3iMm1tcUB6rMsf9wYL3poosm62vmta/bVq8FXJG24V\\\n",
       "b7CC1EQw8krGvXr3j8pbvwxW7nr799+kIyw/6oq/XaqKiooQF4XaioAXAAAAAAAgTBMnTtSC9Uvk\\\n",
       "nHOSlOwZsxiprgwUTWYYnCO2amKgG0u+qnf9hrvhVu8aCXf9SLZKc2506tsvPtCkSZPCXABqGwJe\\\n",
       "AAAAAACAMLzxxhuaMu1hOeb1lpqk+BgRacgbSOKqeGs671fdaPVuSOFuIJFW7gbRtFx69yqHnvj3\\\n",
       "w3rzzTdDWRlqKQJeAAAAAACAEP3000/KuXKMyv/TQ+rkO1StZKQSN9xK3tBC3nB5Z47et70zy3Ay\\\n",
       "UaMSX9OsyhTcXxIe43DX9eJ2zpb+c1mJxuSM1k8//WTgQNRmBLwAAAAAAAAhqKio0Oic0Sq5oq10\\\n",
       "XqcozRr7Sl6jVbzRFumWc4F4v2qGNmCLVfVunMJdl/NOkC7vWaIxOTn0463jCHgBAAAAAABCMHPm\\\n",
       "TK3a+b0qHur5xz2N5S9o/VM0Knkj5yvk9VaT2jQEe1VjfXw1Ca7c9fbwsAr9vOkrPfXUUwYmQW1F\\\n",
       "wAsAAAAAAGDQ1q1bNf7O8Sp5qY+UYQtjhliEvL4DZqOtGozki7Vls7WYVO+GG+7mBzlWqgx2A6wl\\\n",
       "o5700sUlGj/+Dm3dujXIZKitCHgBAAAAAAAMqKio0JgxY1Q++mipf7aPEUYqeaV4VvKG26ohWBVv\\\n",
       "sD684QqlUUU47RmM8Bnu+uu7G0nlbjAGQ+YBLaVR3cs1ZswYWjXUUQS8AAAAAAAABsyYMUMbdm5R\\\n",
       "2dTuQUZGo2VDE/mPOxO76VqihBrger8aRqt3oyIalbshnOehs8u0c/M3mjlzpsEDUZsQ8AIAAAAA\\\n",
       "AATx448/6s4JE7TvpTOkjCyDR0W9A6yH0EJeb+FU8YbSpiHU/ckSwXBrBn+Vu/5ekGDhbiBBWjJU\\\n",
       "OYfHeTLqSS+dX6g77xxPq4Y6iIAXAAAAAAAgAFdrBktOF6l/mxCPjkYlb6BjjZ3TaKuGUITblzcW\\\n",
       "/Xy9Xwkj1bveDIe7gUQa7kZwjv5HS6N7WmjVUAcR8AIAAAAAAATwwgsv6Idftunw1D4e9wZqoeDN\\\n",
       "aMsGf6LXkzeYUHvxeopWH14jQunV64t39W5I4W6sKneD8ara9WXqmYe186fNevHFFw1MiNqCgBcA\\\n",
       "AAAAAMCPoqIiTZw4Ufse7inVT/ExItSgN5Bohry+q3i9K3lDreL1ziljUY3rEm6Di3Cqdw2Ldrgb\\\n",
       "SksGAzLqSQ/12qf77rtPRUVFxg6C6RHwAgAAAAAA+DFt2jSVtUqTY8QxQUbGK+QNZeO18CLSSKp4\\\n",
       "/Ym0ujfQqxJqDXPY1buxqNwNxkDVbpVz5UsXHuvQkY1SNH369AhPDrMg4AUAAAAAAPAhPz9fDz30\\\n",
       "kA5M7SVZLAaOMFrNG6xlQ7C+vKEI3o830iremiQq1bvR6EsRaBM2yVjlbiipuMe5LBZpatedmjp1\\\n",
       "qvLza/JXC9FCwAsAAAAAAODDlClTVK9PW1UM7KTQAtdQgt5A/J3T3/z+guHglbzeIW+4saBnJml0\\\n",
       "z7BQRdJ/N2j1rr/KXV8vSLhlyUaC3RCrdr2d2bZCvTu00NSpU0NbG0yJgBcAAAAAAMDLL7/8opkz\\\n",
       "Z2rv1FM87g21sjaWIa/R+X2fx7uKt/I+/5W83rlnvp/P4y1g6wav6l1DrRmMiqRyN5x5Qz2PpKmd\\\n",
       "NmvGjBn65ZdfDE4KsyLgBQAAAAAA8DJx4kQ1HNZV6pHt49FQgt5otWwIZX5j6/MV8noy25v7Q+k4\\\n",
       "HFHf3UDhrj/RaslgINh1OTFLOr9TQ02aNMnYATAtAl4AAAAAAAAPGzdu1Kuvvqo99/cOMjKUkDfS\\\n",
       "at5oVPJG1o83GputGeW50nC6EQer3q0m1uFuIEZbMoSauBdKD3Tco//85z/atGlTiAfDTAh4AQAA\\\n",
       "AAAAPNx1113qNOYs6ZimBkaHWs0bLIyN5uZr4fXj9RQoU/TXpiHc1rRGYmrPMeFuQ2e47663aIe7\\\n",
       "oQS7RsPdQlWZ95hMKadHpu666y6DE8CMCHgBAAAAAAD+sGHDBi1YsEDf3NNHofW4jWbbhmAtG/zN\\\n",
       "6a9dg6/5/xTLKt5YbbTmrUrFb6jVu96iEe4Ga8kQ7WA3wJz3dNijDz74QBs3bgxhMpgJAS8AAAAA\\\n",
       "AMAfpk+frk6XnCW1cIWeoYS8kvGgN5Jq3kDniH7IWxN78Xo+o0BReNCN1QLtHucSTrgbSLBwN5xg\\\n",
       "N8Cc2fWli7s21vTp00OYFGZCwAsAAAAAACApPz9fr7zyitbc1MnrEaM9dD1Fq21DOH15jYa8VQXa\\\n",
       "dM0zbzzs5/5gmWS4rRtcjHwFvKt3PUUt3A0UwEbakiGKwa6nm9rt1ssvv6z8/JoY1yNSBLwAAAAA\\\n",
       "AACSnn/+ebU9qbOc3Y70M6KJQgt7o9W2IVDLhkhC3sBtIAK1aggm0jDXJdw+u1KQ1gxGek2E8iQi\\\n",
       "bckQTp/dEHRv5lSv1o30wgsvhHYgTIGAFwAAAAAA1HkOh0MzZ87UTzf1MHhELILeaLdsCD3kDaeK\\\n",
       "N978tWcIqXrXk9FwNdTWCVLwMDZKfXYD+iN8vqnlfs2cOVMOhyOMSVCTEfACAAAAAIA6b+HChSpx\\\n",
       "2FV63vEhHhntjdii3bLByPr8z2mkijfab/r3tZpQG2R4Vu8Gbc3gzVcoG85matFqx1Co0Kt2D6ja\\\n",
       "2s4/olTlpcX68MMPQ5gIZkDACwAAAAAA6rznn39eFWNOk5L9V7D6F07rBqNz+hJqywbveQIHzZFs\\\n",
       "uObr8WB7joXLSPVuyH13/fXc9SXSlgzBhNGKIVDgnJwk5bSr0PPPPx/ipKjpCHgBAAAAAECdtmvX\\\n",
       "Ln3wwQfaf2XvP+6p7/ERKqNBbzTaNkQS8vqa68/5ArVqcDFSCBttRl4xv7134xHuRqMlQ5SDXU9X\\\n",
       "HrFf77//vvLy8kI8AWoyAl4AAAAAAFCn5ebm6tiBfaR2zXw8Gm7YG2rQGyi6DFbN62/eYPMYr+T1\\\n",
       "V8V72Md90WJ0gzXP6t2ArRk8hRvu+gtSo9VrN0bBrstRGdKArscqNzc3xBOhJiPgBQAAAAAAddqr\\\n",
       "r76qrWO6GhgZy4peKfyg11/LBqMRqfdc4cn3+m+0+HvGIfGs3jW6oZq3WPbaDaVq10d/XcPypTHa\\\n",
       "qv/85z9hHIyaioAXAAAAAADUWVu2bNHWrVtVOriTwSNiXdErGduIzRdfQa+v0NhXT17veSoZqeKN\\\n",
       "F1+viqHq3UC9JIxuqBZOuBusajfUzdPCDXW91jK4Ual+/PFH/fjjj2FOhpqGgBcAAAAAANRZ8+fP\\\n",
       "V/sBJ0kN0sI4OpywN1o9eo2GxUaP9z6f8X68wXrxSn/mkq4sM5YBccBwN9Rd4sJpyWA02DUiwmpd\\\n",
       "X2tpmCwN6Nxe8+fPD2NS1EQEvAAAAAAAoM6aP3++tp9/gkKrsPUl3KA32DkDBb2htGwwUsnrnyvk\\\n",
       "LVequ5LXV4bp3abBaI7pWomR1gu+xriqdw333fUOWX2FstEOdl3HGxWFal1/znf+TMBbixDwAgAA\\\n",
       "AACAOunAgQNavny5Soae6HGv0eDVn1hV9cYq6PW18Zrn8cYYqeINhWsVTbxue67Isz2DT/767hoJ\\\n",
       "WUMNV40Eu0bPG07Frp9qXX+GZpbos88+04ED4abIqEkIeAEAAAAAQJ20YMECZXfpILVp7mdEtMJe\\\n",
       "o4y2bojkeCOCt2oIVMUbD7567/ptzRAo3I20cjda7RjiEOp6apsmdW6TrYULF4Z+MGocAl4AAAAA\\\n",
       "AFAnzZs3T/vP62pwdLyqeo2EyqFW80avkjdQP15XpurdpiGWPDdWq7YQ70UE20zNV8gay2A3nGrd\\\n",
       "CELdKgql86z7NW/evAgnQk1AwAsAAAAAAOqcsrIyLViwQEXn9wzxyCaKrLI3lKreSINeb/6C3kDz\\\n",
       "ex5bldEq3lDaznry157BV2uGgL13fTFatWvkWO9jjAa7RkUx1PVc3/lpRVqwYIHsdnuEEyPRCHgB\\\n",
       "AAAAAECd89lnn8makSad2D7CmcINe8Op6vXHX9BrdE2hVfL6quI1kj1Gu9trwNYMnoGorw3VAi0s\\\n",
       "nKrdaAe70Qh1C1Ut1PXUM0NKT07SZ599FsFJUBMQ8AIAAAAAgDrn/fffl/3c3lJSQwWuYg1FrMNe\\\n",
       "I0GvkWOMVPL6C3kruUJeVxWvSzTaNPh6FoGqd6udPBDPBflryeDrmHgHu+EIEuh6S7JIQxvY9d57\\\n",
       "74V5QtQUBLwAAAAAAKDO+eKLL3T4jOM97snw+ohUpGGvkbl9CVTNGyzoNdKuoXo/Xu9WDUZyVl+q\\\n",
       "N4Hwv6Jq1bu++u4Gq9z1ZmQDNs+xgULUUPrrRlqta3QjNx9Otx3Wl19+GeaJUVMkJ3oBAAAAAAAA\\\n",
       "8VReXq41a9fK2fPKAKO8o8VwO8lKVYNVoymeK+QNFJe65vU1p2v93uv2dUxj/ZlEZngc4z3W9Zjn\\\n",
       "eGMKvVYULEIPFIv73FjNxTPc9b7PxWjVri9GqnWNiLT1QpT0zHBq7Zo1cjgcslqt0ZsYcUUFLwAA\\\n",
       "AAAAqFM2bdokZ5JFOq5VCEdFq8I31MpeI+0bwq3o9eRdyevdl9db1X68vjZci3RPMO+VebZnsBzw\\\n",
       "Ub0baiNgX5Wv/ippA1XJGq3WjaRSN4TWC6HoWCyp3K5NmzZFd2LEFRW8AAAAAACgTlm9erWadu+o\\\n",
       "XRFVLEajwjfUyt5gVb2B5vOszPUe7xrrilL9VfPmq2odrv9K3sN/rNY1s+tMB+S7FYPnKn1+/ke4\\\n",
       "W6161zvcNVq56yvY9SXSit1I2i7Egtd6rBape8N6Wr16tTp37hyjkyLWqOAFAAAAAAB1yurVq+Xs\\\n",
       "eWyUZ420ujeUyl6jVb3ewq3mDTRnZRVv5Uf1Kt5I+QqDDVXuBtpMzUi4G62K3VBEu0o338eHDz2t\\\n",
       "dq1evTpKJ0UiUMELAEAN9VuzZoleQlw5Uit/IdjTooWsJYEaq9Uude3rDABATfD16tXK+/sgBe5h\\\n",
       "G4lIq3tDqez1DHm9K3v9PT9f/XmbeI3z7svrGu9ZyVu9irdcqUpWiXsmz9UZ6b3ruWr3av1V70rB\\\n",
       "K3cDBbveY/2N8TWXP6FcStGs0o3gEu5pLdPzX38dvbUg7gh4AQCoYdLT02VLStI7I0YkeilxlZSU\\\n",
       "pK6ScnNyVFFRkejlxJUtKUnp6emJXgYAAHWCw+HQmrVrpZ43e9zrqzI1mqFvJIFvqGGvr/YN/ubw\\\n",
       "DnqDtWzwnK96yFuuhkrWoWpn927T4M1XlW6Gn/stBxR43zmj4a6/ql1vNTXUjeLl2TNVun7NN2y0\\\n",
       "ZmIEvAAA1DCZmZkaO26cioqKEr2UuHI4HFq9erVycnLq3P9YpqenKzMzM9HLAACgTti0aZMcTqfU\\\n",
       "sV2QkbEMfcMNfL3X5Gs9gSp6PecINeg9IKOVvK4qXtcKAjWScGks39W9ntW7Fs+w1XP5hV73eYey\\\n",
       "gfryej/uEs32C5GGutEuMPfSsZ7kdDi0efNmderUKbYnQ0wQ8AIAUANlZmbWucDPbrdLkrKysmSz\\\n",
       "2RK8GgAAUFutXr1ajbofr9/C+oNyrELfSANff2sI1r4hWOsGzzHeLRt8h7zlkpJ1SOVKVb5KDHUU\\\n",
       "DqZKawbPp+EruDVatRuov64/8Qp1Yxzoeku2SN3qJWn16tUEvCZFwAsAAAAAAOqM77//XuVdj4ni\\\n",
       "jLEIfUMNfI20cXCFvZ4JqZHWDZ4hsmfLhuAhr4uvOmJ/vXibyHd7Br/Vu75aMkQz2DX6pQw30I1n\\\n",
       "mBugtUU3i13ff/99/NaCqCLgBQAAAAAAdcauXbt0+LhYb3Ia7dA3lMA3WNjrr6rXX+sGX20bPFs2\\\n",
       "+Ap5pXI1/GO07yreQknBvgoZZR6tGVxLzVf1p++vajfYBmqRVOvW5EA3UI9iP460VGjLrl3RXwvi\\\n",
       "goAXAAAAAADUGTvz8lTWv7OqthyIh2iGvkYDX6Nhb6Cg11/bBn8hr+Tdj1cq0WH532TN+8yN9Wfv\\\n",
       "3Sr8Ve66ePfi9b7fJdxq3XBC3VgGumEEuf5kW6Vlv+yM3oSIKwJeAAAAAABQZ/ySt0vKPuKPW96N\\\n",
       "ALzFOgD2F3mGmgp6Br5Gwl7vc/iq6vUOh31tsBb49XO1asj3OMLfM87w+q/kVb3rWm6hx+e+WjIE\\\n",
       "asfg68sZ6KWuCYFuFEPcQLKtUt4vv8TnZIg6Al4AAAAAAFBn7MnbLbXMMjg6UQFwJNW+kVb3+qvq\\\n",
       "9a7o9TzWs5rXdV/l5+Xue0pUX75qfKtzVe/6DXd9tWTI97rtyftE0Qp1oxnmxinI9aelVcrbsyex\\\n",
       "i0DYCHgBAAAAAECdUFxcrMIDB6Ts5lGaMVAAHO3wN9zQ10jg66v/rndVr6/WDZ6bsElVQ94/7ytX\\\n",
       "QyUHaNPQyONz1yuaXKKqoadn5a7rtveSPZ9aLELdaAS6CQ5y/cm2SvmHfldJSYlSU1MTvRyEiIAX\\\n",
       "AAAAAADUCbt375bFapWzedM4nC0e1b/htHgIFPgGq+r1xzvo9Zy3taRCleuQu4rXtYpMrzNnyGtj\\\n",
       "NUna4bGcA/LdjsFfsBtJqBtJmFsTQ9wgz6e5U0qyWLR79261a9cuolOtWrVK9913n1auXCm73a4T\\\n",
       "TjhBt9xyi0aOHBnRvPCPgBcAAAAAANQJeXl5SstqrqKkpEQvRbGt/g2l2tdf4Bso7PXVp9ff3IWq\\\n",
       "DHgbSpIOq8TvUVVeEc/WDN5tGbyDXSPVurEIdBMd5EaxRYTVImWlpSovLy+igHfx4sUaNGiQUlNT\\\n",
       "dfHFF6tBgwZ66623dNFFF2nnzp269dZbo7douBHwAgAAAACAOiEvL09W9wZrNVksqn+Nhr6+At9A\\\n",
       "Qa6r8YLnRmzex2dIylC5drqreD1nzPA40panP8NdV/Wuq3I31Ipdf6FuqMFovIPcaG/UZlC2LVl5\\\n",
       "eXlhH19eXq6rr75aSUlJWrZsmbp37y5Juvfee9W7d29NmDBBF154odq2bRulFcOlJvzJCgAAAAAA\\\n",
       "QJL05ptvymKxBP1o06ZNyHPn5eXJ2bKl/owUQ/moSRoH+TCqiY8Pb75eB8/x9f/4aO1xX4bH560l\\\n",
       "tfnj88Yq0RFVinM9n1FGmf4MdwtVGd7uVGXQ6xnuHvD4yPf4KPT6kNfj+Qocnh728xENvtbh7yNB\\\n",
       "WsoZUcC7aNEibd26VZdeeqk73JWkzMxMTZgwQWVlZZo9e3YUVgpvVPACAAAAAIAao3nz5ho1apRm\\\n",
       "z56tU045RWeffbb7sU8++UQrVqzQ5ZdfrkGDBoU898GDB2Vv1DDMlUUa8hrdySsaIqkADlbpa/R1\\\n",
       "cFX1emrzx2x7qzR6cK3Wlqc/K3c9q3a9WzH4quT1tVR/olmRm8BANtoaO8p18ODBsI9fsmSJJFX5\\\n",
       "N+vi+ve6dOnSsOeHfwS8AAAAAACgxujfv7+2bt2q2bNn64orrtC1117rfmz9+vWSpH/9619h9Qkt\\\n",
       "Ly+X05aoKCSSgDja4XCoAXCg0NfX83KFu64YN8PjvnyV6Ajt1F736Pr6o3rXVa174I//uqp1PU/n\\\n",
       "/VIEq8gNRy0KbUOR7KxQeXl52Mdv2bJFknTsscdWe6xFixbKyMhwj0F0EfACAAAAAIAaZd26dZKk\\\n",
       "rl27Vrl/7dq1yszMDHsTqPLyclUkLOCNRLyrh40EwEY3WJOqB71bVa4F+uWPR48sk2w/qzLUXafq\\\n",
       "wa7n8r3D11BC3NoU3Ba2iPqUySqIKOAtKCiQVNmSwZeGDRu6xyC6zPhdDQAAAAAA1GLffvutLBaL\\\n",
       "TjjhBPd9hw4d0rZt23T66aeHPW95ebkqkutiFBLtgNhfAOy635XONlFlWwbP8tudkqRynaHPtFxj\\\n",
       "JNlWS/r8j2E79Weo6xnI+gtyExnaxiBkTSSbJLvdnuhlIAx18bsaAAAAAACowb799lu1b99eDRo0\\\n",
       "cN+3du1aOZ1OdevWLex5y8vLlZSUpHr28KsU66bUEMdne9327HvcRdJBSWfLUnqSJKn04zRphSpz\\\n",
       "4aI/hgVqE+xSmBXiuqIsLbGnj7b3Sn6T7X//09SpU8M63lW5669K99ChQ2rcOJRNAGEUAS8AAAAA\\\n",
       "AKgxduzYoQMHDmjAgAFV7l+zZo0kRRTwStKgbbt19QdfRTQHoqW3JOnTXi9JvRK8FKj4qqtki+B4\\\n",
       "V+/dLVu2qGfPnlUe2717twoLC9W7d+8IzgB/CHgBAAAAAECNEaj/rhRZwJucnKyPWx+pRUMGhT1H\\\n",
       "nVNiDW38Qa/brkrcQkm//nF7p6QvpV6ry3TrS5/oL2PSlFK8wWPAYVUt4fXXQ9j7ZPEW7i5uNdOI\\\n",
       "shJlXnll2Mf369dPU6ZM0UcffaSLL764ymMffvihewyij4AXAAAAAADUGN9++62k6kHuhg0bJEmd\\\n",
       "O3cOe+7k5GRVVDhVZoukTtFkikMMaL15J0f+Wid498L11UN3h6StkpZL2illlVY+VF48QPWLkyU5\\\n",
       "VdnO4YAq2zy4mvG6egh7nyTd6LMIsPBIJDJWC3XjvOAccsgWwb+NM888U+3bt9drr72mcePGqXv3\\\n",
       "7pIqWzZMnjxZKSkpuuKKK6K0Wngi4AUAAAAAADWGq4LXO+DNz68M91atWqUTTjhBTZo0CXnu5ORk\\\n",
       "JZltE6lIA9pQGclBfW1sVujj8cOqumHazj//2/Cg3D1sCyVlqrsqN2Xbqsok2DVhE48JM2Q82DS6\\\n",
       "MZy3WATBsRDpxnnVlafYlRzBJoTJycl64YUXNGjQIPXt21cXX3yxGjRooLfeeks///yzHn30UbVr\\\n",
       "1y56C4YbAS8AAAAAAKgx1q1bp4YNG1YLgi677DI99thjuuCCC/T+++/rlFNOCXnu5ORkWRIR8MY7\\\n",
       "pA0k1PzSV5jr4i/Udd32rOLdqcrcNl9KKayMW131t9skJauJspSvykca/3GAK9Bt7GPhhaoMf/0t\\\n",
       "2F8AGiwgDmUTMLOEwcaUJ1kiCnglacCAAVq+fLnuu+8+zZkzR3a7XSeccIIeeughXXTRRVFaKbwR\\\n",
       "8AIAAAAAgBpj8+bNPu+fOHGiJk6cGNHcjRo1ku3gQZWGemBNCmiDiSRzDBTmStWzUe8WDJ73ucLd\\\n",
       "Ax6f/1G9m1peNZp1Ffo2U0tZ1USVSbDribgqeL2rdz0rez0X5zmzrycUbvDrS+2qCj6QbFGjRo0i\\\n",
       "nqd3795asGBB5AuCYQS8AAAAAACgTsjOzpbl1zxzBbbeopUVBgtzJd+Zp69Q1/N+z6pdz3D3j8w2\\\n",
       "5Y85PWPWA5IaSNqndDWTZFWGpKP1Z0LsOkEobQmCVfh6i2bw680cVcG7LBXKzs5O2PkRPgJeAAAA\\\n",
       "AABQJ2RnZ8uxOy/RywgsFvmekTBXCh7ouvgLdj1ve4a7hX/eTi33H3dWRrjpqu8zmPWu4PVu3eA6\\\n",
       "xleLBu/KX19n9ieWwa8viasKzisvJeA1KQJeAAAAAABQJ2RnZ6t4zx7J4ZCsCazijWWRptEwV/Kf\\\n",
       "UfqbI1Cw67rvgKqGvR4hr6v3bhNVb9HgimsrD22i+tVOfkDBK3gPyHeLBu/jvJ+4d+hr5EWMd/Dr\\\n",
       "LbpVwQ45tafkMAGvSRHwAgAAAACAOiE7O1tOh0Pat0/KyordieLxLvtQglyXYNmj0Wpd7/k8Oyl4\\\n",
       "ji2s+lhqeeDTe8azDqX+0Y/XF1f7Bc+2Da6I2DWTVL2q18Vfda9LqFW+/ub2Fq/w11vwMPg32VXh\\\n",
       "dKpFixZxWA+ijYAXAAAAAADUCampqcpo3FiFu/MiD3jj2So1nDBXMpYnBgt1fY3xbsfgeb+fTdZS\\\n",
       "PNbiikA9Y8d8r/9K6UqVvELefPkOK/0FvZL/ql7v1Xg+CV/CqfL1luiqX//yVKYmDRoqNTU10UtB\\\n",
       "GAh4AQAAAABAnZGVna3CvF1St+6BByZqr6tww1zJeE5opAWDr7G+gt0DXo95fv7HY65w19WewdtB\\\n",
       "yd2SwRXHFkr6M2r0dZSrZYPnZmreQa/rrJ4LDRT2ysfx/kRS5evvnN7iF/zukl3ZsaxqR0wR8AIA\\\n",
       "AAAAgDqjVXa2tu7OS1yA6xJJkOsp3Cpdl2Chrvc5PDdR83zcu3LX69hg7Rm8T99EUom7irfkj0c8\\\n",
       "N1rzruQNNeiVolPZ6ykaVb6B1uApuuFvnuzKbnVUVOdE/BDwAgAAAACAOqN1drZStuepLJ4njVaY\\\n",
       "K0VepetiJNj1Pp93uOu9Fs/bXtW73rw3UfMc1lj+WjV4BreuBTVW1Wpe6c/+vJKxoNd1jOe83oL1\\\n",
       "7fUlmlW+3qJb9Zsnu7Jbtwp/OUgoAl4AAAAAAFBntGzZUvV3/xK7gDeaYa4UWl4XTqjr7zhfwa5U\\\n",
       "PdzN93Pb477U8j/bM2TId+zp6YCq1+f+uemaK+T13GjNM+SVqlfzSv6DXs8n5eJvczaXcKp7vecO\\\n",
       "NH8kwgt+f00qV8uWLaO/HMQFAS8AAAAAAKgzOnfurOTFz0Rnsljkc6EWYBpZQ7jBrucY75YMno95\\\n",
       "3vYIgP1V7xpVtYq3yEDI61qodzWv52yej7mEW9XrEm7gG8sKX2+B2z2ss5Xp+s6dY3RuxBoBLwAA\\\n",
       "ANwKCgpUVFSU6GXEncPhkCTt2bNHVqs1wauJv/T0dGVmZiZ6GQAQFz179tTB79ZKDocUyvf8WOVu\\\n",
       "4Yag4Vbr+jvWX7Ar+Q53vW/72oxNofXe9Z7GFbtWTlcZ8lbyF/J68q7Y9dW2wWuxhqp6vVfpSzjt\\\n",
       "HHydx8i5IleudK2rOKyePXvG/FyIDQJeAAAASKoMd2dOny57RUWilxJ3SUlJ6tq1q3Jzc1VRB5+/\\\n",
       "LSlJY8eNI+QFUCd07NhRVotF9h83Scf5qViMZaYWq0BXChzqBprDXzsGKXDlrvcxfjauc7VniFTV\\\n",
       "TdeMVPJKgat5XY9Lvqt6/e3EF6+w1/tcRs8Zmk0qUlJyso477riozov4IeAFAACAJKmoqEj2igpd\\\n",
       "8NZbar5vX6KXE1eO1FStfvxx5eTmylpSEvyAWuS3Zs30zogRKioqIuAFUCdYrVb16N5dn3+7ujLg\\\n",
       "jXWBZCRtCkJZWyhtGCTf6/JXtes53rstg595UwqrV+8GahJwwMcY131N/pjW9Vhlq4ZAIa9UNaD1\\\n",
       "bstgNOgNVNHrPZf3fL5EGvb6OqeR8wa2Wr+re4/udfJdTLUFAS8AAACqaL5vn7Lz8hK9jLiyp6VJ\\\n",
       "krJ275atuDjBqwEAxFqvnj21fc1q5Z15RWxOkOhQN9A8wYJdyX9LBl9z+qjeDbX37gFJ3n9i9Ax0\\\n",
       "PZVU6cfr+UdZz5DXtTDvkNc1s4u/1g6+noC/Pr2ewg17vdcVqsiqfFenlKhnr14RnB+JlpToBQAA\\\n",
       "AAAAAMRTz549ZdmwOnoTFnp9hCrf4yOYwx4fgebz5m9t4YS73tW8B7zu15/Vu97tGYy0avDXAcL3\\\n",
       "S9vEY1ZfkXBjVa3EzfAa52tF3mN8zdfYz+OB5g0kQ4HPG6omPj58W20rpv+uyVHBCwAAAAAA6pSe\\\n",
       "PXtq//fXh77RmkskxZYuob6rPtz+ulLowa73MSGEu57Vu8EiUCMO+JjHfxWv5LuS17WaYG0Wgm3U\\\n",
       "5i1YVW8oFb2+zusSjQtO8tXawSGn1pYeIOA1OSp4AQAAAABAndKxY0dZnE5p+2ZjB0RaoesSSqWu\\\n",
       "ZLxaN1A7hnCqdoOFu2HwjCzrBxhX6Odz7yreEqVLquzHW8kzvPRXoRuoktc1NlBFb7Cq3kCCV9L6\\\n",
       "F+3qXpcm2iSbZEtWx44dozw34omAFwAAAAAA1CnJycnq0b27/zYN0Qp0pdBDXSl4qOs5ry+Bgt1g\\\n",
       "lbve4z3n9J7DT/Wu9+ZqkXKdJrSQ15N3yBtu0Osa74+RoNdz/kjD3sgD39WWg2ywVgsQ8AIAAAAA\\\n",
       "gDrn5JNPVv01n1XeiGagK4UX6krxD3YjqdwNFAzrz5gznAjT+/Sh8ezHG6jXrncQ6yssDRTyGgl6\\\n",
       "Yx32eq4lvLB3ef1C9enTJ8xzo6Yg4AUAAAAAAHXOueeeK9tn70uHKqIzYaShbiTBruQ/mPZ1TKB+\\\n",
       "u97H+Ap9fWzEZqR6N1iE6Ssz9ve0/Ffxep8pGiFvuEGv6xxGuxHHN+ytkFPv2fZq6NChYZ4PNQUB\\\n",
       "LwAAAAAAqHPOOOMMOYoKpc3fhD9JrENdz3P4E0rVrhR5uOvj2JQgVc+h1pYGKhgO9FJEL+RNdNAb\\\n",
       "7HxGBG/lsFoHVFRRrjPOOCOC86AmIOAFAAAAAAB1TkpKigYPHqz0FfOMH5Sv8ENdyXio63kufwK1\\\n",
       "k/AX7EYj3A3QmsFVvRtpewajvKt4pVBC3kB9eV3jQ2nbEOgYT+EGvZG+mtXD3nnp+Ro8eLBsNluE\\\n",
       "cyPRCHgBAAAAAECddP7556vpl/ODDww30HWJZ7BrpGrXNY/3saEwWL0bCe9N1QJV8XqGvOHzFbyG\\\n",
       "Ws3rOsZo0Ju4sHd+08M6//zzI5wLNQEBLwAAAAAAqJMGDx6svE3fSbt3VH8wkkpdKbQ2DJ7nCyRQ\\\n",
       "mOrv2FDDXc8A2XtNBqp3483XS1K9ijfQxmvBWjb4Oi7Q8UaO8xZq0Ot57vDC3p9VqO/ztuucc84J\\\n",
       "63jULAS8AAAAAACgTmrcuLFOP/10pX7+XuUd8Q51Pc8ZSLhVu75aMni3XjD6XANsrObJuz1DqP13\\\n",
       "jS7DVzcJ/60agvEV8hqt5nUdH82gN/Zh73upe3TGGWeoceNQz4WaiIAXAAAAAADUWeedd57afTEv\\\n",
       "fi0YJONBcjjBrmSsatff+f6/vbuPr7Ou8/z/zjk9JQ2FQCm2ZblvRSjYUXHF2R0EEQapIGh/OCM6\\\n",
       "aFBcfhTqON4UlV3qOq7oODoyoj8FG0BWnd/KUIquIAgIDDvKFCgIys1gveuNFDAF00CaZP+oLbTN\\\n",
       "OTknTXJytc/n49GHNuc61/nm5GppX/3mc734/IOdb5Dz1LN7d1N63HWrnw+1lK3HNLzYUG9f7Xm8\\\n",
       "WwfXeuNorVA71Dkayd3DDa/1hd6lB6zPKaecMszXYLwReAEAAICd1imnnJLH//XWpPuZxp44Wrt1\\\n",
       "k9phd9N5qql3JEO1sQxDrWuUbFpOjSkQm9X6FHvSVmMe79bhc6jIW2sn72jv5n3x6w8n9lbf1bsu\\\n",
       "z+fWx+83f3cHIvACAAAAO62XvvSlmTlzZna59/v1PaHRqLtJvTuEh4qotXbtDjWSoR51zt2tZzzD\\\n",
       "eLDtqIZGI29SPbCOROhtNPYOx5Zr+f4uazJr1qzMnDlzmOdjvBF4AQAAgJ3aO97xjsz8l8W1DxpO\\\n",
       "2G1kpm89u3brnbU71Jq2ft1qqoxmeHHcHcubqw01puHFjzc2j3d7Iu9Q6sndY7urd/HMZ/POd75z\\\n",
       "GM9nvBJ4AQAAgJ1aR0dHHr3rlmTNii0fGM4YhqTxqDucsFvPeYc6z2DHbFJHNH5x3G3klmSNqta1\\\n",
       "G1F9Hm811SJvoyMbNp2r3tDbiMZD7y/SlVsfvTcdHR0NvhbjmcALAAAA7NT22WefzJ07N3vd+vXh\\\n",
       "R92ksRhbz+iEoWbtDvdmaoMdV+u1quzeHcxgGXO4Ixvq/VTq2cW7rcFGNdR747XhjGzYdL56bsQ2\\\n",
       "eqH363v9Im9605syY8aMBl+D8UzgBQAAAHZ6Z599dko3L076hjFzoNGwW8+c3UZm7b743PWca6i4\\\n",
       "W2U0QzXDHV4wHI3eC672qIZ6d/I2OrJhqEDbnNC7If3pLD2Us88+u8HzMt4JvAAAAMBO741vfGNa\\\n",
       "J5Szy73X1/+ksQy79Zx/sPMNdVytuLuVZs3erebFS633bavvpmsjceOzkRpQ0ejN2JJqc3qX7vLL\\\n",
       "TJi0S0488cQRWhvjhcALAAAA7PTK5XLmz5+fg2//4tAHj3TY3XTOWoazc7ee42pp9PgX2Z68Odin\\\n",
       "Wc/bXe+ohvp28g42rqEZIxtqrakeL4TeL+71SObPn59yuTyM8zCeCbwAAAAA2Tim4Zf3352WFfdt\\\n",
       "++BTaXyH7XCGyG5tqLC7PXF3BHbvvjhtDpUqdx3i8Xq9+FOp92ZrtefxJvWH1kYjbzIyIxtefK7G\\\n",
       "Q+99Lc/l336/Iu9973sbfi7jn8ALAAAAkGTKlCn5q7/6q7zy/1zywgeHMzahkV27IzmSYdM56zl2\\\n",
       "qLjbwI3VRtP2vHSt5267i3cw1WJqrcg73N28m847OqH3i9MfyJlnnpkpU4Z7yzvGM4EXAAAA4I8W\\\n",
       "LFiQh77/reT3q0cv7CYjP5KhnnNWO65G3N1ao7N3RzIn1rrvXLVjGh/VsL07eYdST5RtdGxD7XOu\\\n",
       "yjP59tN3Z8GCBQ2clyIReAEAAAD+aPbs2TnppJPyqhs/Wf+TGg27wx3JsOm1qp23nnU1GK1r7d6t\\\n",
       "Np5hpG4vVstwd/YOHXkHM5I7eWudb+tzj0zo/eS0f8vcuXNz2GGHNXA+ikTgBQAAAHiRT33qU3no\\\n",
       "e4uT3z029MEjFXaTocPuSO/cHew1mziOYXvUu4u3Po2E1VrH1oq8Sf27eYcfeh/Lk+ns+j/51Kc+\\\n",
       "1cA5KBqBFwAAAOBFDjvssLzjHe/ItJv/a/WDRnrObr13Cxvs/IMZgVC79e7dRsczNKqet+nFx4zk\\\n",
       "Lt7BxzVsrVqQrRVh64m8oxd6L5z2k7zzne/MoYce2sBzKRqBFwAAAGArixYtyrq7r0t+dc+WD4zk\\\n",
       "nN2kvpEMje7crfematsxe7faeIaR8uKlDSfkbv8u3qR65G10CMVQIxsaOW/97/ay/DpL192Xiy66\\\n",
       "qO7nUEwCLwAAAMBW9t1338yfPz8vueGjGz/QSNhNRmbXbq3X2564W8fzas3ereXFiXI0wm8tW7+d\\\n",
       "tT7tnrTVOY+30XEN2zOyYaReZ6OPvuyunHfeedl3331H6HUZrwReAAAAgEF89KMfzXP//uOU7rul\\\n",
       "/ieN1EiG0Yy72zl3d6Qy5UhoZOnDn1rR6E7e7Z3LW+8O4eqh94elR3P3modzwQUX1HkuikzgBQAA\\\n",
       "ABjElClTsnDhwux5ywXJwMDQTxjtkQy1XmMEb442GrN3d93+U2xW7z3lBrP121TfPN6k8f3IQ0Xe\\\n",
       "kQ69LxjIQC7Y7/YsXLgwU6aM9T5qmkHgBQAAAKji/e9/fyY+85uUf3pN9YPGatduozt3x2D37njL\\\n",
       "h42MaRgZtSLsUO9OPXuhG9/N+53yA1nZ+3QWLFhQ53MpOoEXAAAAoIq2trYsWrQoU2/5SPLcH7Z8\\\n",
       "sN6wm2xf3B2p5w21hozO7t2RUOvTbPStG2oXb1JrHu9IjmtIRjbyJs+mLQun/jCLFi1KW9u2nxc7\\\n",
       "JoEXAAAAoIb3vve9OeTAfbPrTS+aZ9pI2B3LnbubnjPYOhp53WEY3kCB6uro0XU9r54v1WCRd+SM\\\n",
       "VOQd+h2+YNdrs9/LDsp73vOeehbGDkLgBQAAAKihVCpl8eLFGbi7M3nstpHbtZuM/M7d7ZhJMNTu\\\n",
       "3UbGM4z26IbtHb1Qz9ve+DzeoXbybu9c3k2vMbhb87NcMXBnFi9enFJJ8tuZ+GoDAAAADGHWrFn5\\\n",
       "9P/4H5m69Kzk+Try4EjE3ZHYuVttLSO8e7fZtv50Rn8X72gl7OHt5n02PTlr8pX59MWfzsyZM0dl\\\n",
       "ZYxfAi8AAABAHc4777zMnrVfJt5+QfWD6h3JMNJjGWqtp45zNDp7d+u8Wf+U2PFjsLey/nm8Se2d\\\n",
       "vNUMtZM3qS/ybvk6Cyd+Jwcc+bLMnz+/zueyIxF4AQAAAOqwaVTDhJ9ekay4ddsDhjs0diTUO3d3\\\n",
       "EFvH3cHUmxxH0/a27cHeonrPWT3yVjNU8q4n8ta3m/eW/CJXTfhXoxl2Yr7qAAAAAHWaOXNmLr74\\\n",
       "02n9wVajGuodybA9O3dHYu5uHUVzqN27o6mRT2XrY0dq6kS1UQ3V5/EOZyfvpucOpXbkfTbr857W\\\n",
       "r+bTn/l0Dj744DrOx45I4AUAAABowPz58/Oa2QekdNvC+kYyJMOftzuURubuDqKe3bvba9fRf4m6\\\n",
       "1buLt7F5vLXUuvFasr2R9yOlq3PgUYfm3HPPbXRh7EAEXgAAAIAGlEqldHYuTuvPrkpWXD/0E7Y3\\\n",
       "7o7ETdXqWUcVW+fFoebvjuTtx7Z36sVIT81ofB5vPYYXea/Pv+UbrXfm64u/bjTDTs5XHwAAAKBB\\\n",
       "Bx98cK7oXJwJt74zeeqhwQ8aaiRDMvy4W00DcXew3bvNHM8wHMMZ07C9u3iHF3lHdlzDg/l13tn6\\\n",
       "pSy+otNoBgReAAAAgOE4/fTT89EPvz/lG9+c9GyVDYdbGus9x3BHOjRoPNxc7cVGc6JEI+cevcg7\\\n",
       "9M3Xnkwpby5/Nn/9kb/J6aefPsTx7AwEXgAAAIBhWrRoUU46+uVpueltSf8ft782K+6Owe7dkRy/\\\n",
       "MFq2/tQGe1vq7eM9aRvGPN7tiby19WZD3tbyyfzJ3KNy0UUXbde52HEIvAAAAADDVCqV8q1vfiOz\\\n",
       "Jv8uueuD42/n7ijfRG37cuX4MzK7eJPR2sn7wfx/eWLW87nqm98wd5fNXAkAAAAA22Hy5Mm58X9f\\\n",
       "l8m//J/Jo5fXPni04m4DdxMbbPfuYMbbeIZq6mne27OLNxnOPN5k+3fybvn8y/K9fGvyj7L0B9/N\\\n",
       "5Mk7Wlpnewi8AAAAANvpoIMOyvXXfScT7nl/8rs7Bz9orONuA9tRR+rmamMxwqGeT2t7Ni43+tza\\\n",
       "kbeW+iPvHbk/fz3hK/nOd/85Bx544DBfjx2VwAsAAAAwAo499tj84xf/PuU73po8u2LLB7cn7tbS\\\n",
       "YNytd/buYLt3mzV/t4HNyQ2fZyR28dY21Ls2dORdkZ7Myyfy+c//fY455phhrIEdncALAAAAMELO\\\n",
       "OeecnPuev0zplhOS7pUbP9jo3Nytbe/zR0k9+093HfVVbDTSb1G13j7yoxqSWu/kyvwux5fOydvP\\\n",
       "fEf+y/n/7xDnYWcl8AIAAACMoH/4h3/Iu956dFpufkOy6ne1D342Yzaaod7duzuKwd6GRnbxjuyo\\\n",
       "hsYj75o8mTe0nJNj5r4+X+i8pMHVsDOZ0OwFAAAA7Ki6urrS3d1d85i+vr4kyZo1a1Iul2se29bW\\\n",
       "lvb29hFbHzA6SqVSLrvssvT0/FW+9d3jk9femkzcq/ETjdBN1Ro1nsYzVPNs6ttBPBp60pbWDP57\\\n",
       "e19aU05PlWdOSe0v6uRsyspr83SOzzl51Z8dma8tWZxSyR5NqhN4AQAARkFXV1cuufTS9Pf21jyu\\\n",
       "VCplzpw56ezsTH9/f+1jK5UsmD9f5IUCKJfLufLKK9PzF3+Ra394QnLUTdtG3u25E1g1DezeHWkj\\\n",
       "FYGfGsFzbe9rVgvJtSJvbUNH3ifzm/x5zs0hc16WK2/51pD/+AcCL8BOptZOonp2ENk5BAD16e7u\\\n",
       "Tn9vb655y6lZu/fUqse19vXlC8vuS2fHmemp8Zf4qU+szbxrr0t3d7f/FkNBVCqVfPvb387b3/72\\\n",
       "/PNNr0+OujnZ5SUbHxzuWIZkREYzJDveeIbBIu1ggfbpDL5LeaTU3sWb1Iq8a7I2J+ScHDLviHzz\\\n",
       "m9/MhAnSHUNzlQDsRLq6uvKlSy7Nhv7BdxLVs4NoQqmS8xbYOQQA9Vq799SsmjGj6uOT/rjDd/W0\\\n",
       "aVlfqYzVsoAxMnHixPzTP/1TzjzzzHz7+mMycNQPkw37DP+EoziaIal/PEOzxiOMppHcxTt05N3W\\\n",
       "b7M6x7e8O696+1G58sorxV3q5kqBEfbkk0/m4x//eI444oicd955zV4ObKG7uzsb+nsz8Zq3pLR2\\\n",
       "720eL7X2JV9YltbOjvT3bLuDqH/qE3l+3rV2DgEAQAMmTJiQb3zjG2k9++xc+U+vS//Lb05aDxz8\\\n",
       "4OHO3S3I7t3hjl4Y6V23I3W+7ZvHm2z6gq/Ib3J86V055t3H52tf+5qxDDTEhGZ2eitWrEhLS0uO\\\n",
       "PfbYqsf09vbmyiuvzJve9Kbss88+2WWXXdLe3p5Zs2bljW98Yz7zmc/k17/+dZJkr732yg033JAL\\\n",
       "L7wwvUPMW4NmKa3dO6VVM7b9sXraxsdXTxv88UGiMAAAMLRyuZzLL788898zN+Xlr0m67tz2oKFG\\\n",
       "M4yy0RxbMBoGa9eDvYWNjB+u9iUYzRHGd+TuvKb8/+RN552Wyy67TNylYQIvDOHRRx/Nq171qrz7\\\n",
       "3e/ObbfdloMPPjhvectb8oY3vCETJkzIjTfemAsuuCAPP/zw5ueceuqp6erqyi233NLElQOMf11d\\\n",
       "XVm1alVWrVqVNWvWJNk4A3rTx7q6upq8QgCAkVMqlXLJJZfkS1/475nw4InJqstfeHC4c3eTUd29\\\n",
       "O9Y3OxvPqkXenrRVfU5fWmue87J8N2+c8J588tJP5Ytf/GJKJamOxhnRADU8/fTTef3rX5/f/va3\\\n",
       "+cAHPpALL7wwU6Zs+Z+3xx9/PF/96lfzH//jf9z8sdNOOy2XXHJJlixZkhNPPHGslw1QCF1dXbn0\\\n",
       "kn9Mb//Gm/sNNgO6Uipn/oLzjQQBAHYo55xzTg477LCc/OZ5efYP9yczP5+aiWYYcXc0DTaPdrAQ\\\n",
       "vOtoL2Q7VRvTUG0W73ANNqqhN735m1yYb09eku9/74a87nWvG8FXZGfjnwWghs997nP57W9/m7lz\\\n",
       "5+bzn//8NnE3SQ4++OB85jOf2SI+vO51r8uUKVOydOnSDAwMjOWSAQqju7s7vf19ecs1T+V9X/1d\\\n",
       "OjqfSJJ0dD6R9331d3nLNU+lt78v3d2DzzQDACiyY445Jvffd3deOvm2tNz7xmRDlS28w4y7je7e\\\n",
       "Ldp4hkaNVAevtYu33p28T+apvLHl9Nx+yI9z9wN3i7tsN4EXarjpppuSJEcffXRDzyuXyzn55JOz\\\n",
       "cuXK/OQnPxmNpQHsMPZeuyEzVvVm2uqNf9uYtnrjz/de26Q7fwAAjJGDDjoo9/zbXTn52N2z66rX\\\n",
       "JD0Pjch5q8XdRhV1PEMjo4yr9fPRGof8YH6eo8p/nvaTp+Zflt2VAw88cJReiZ2JEQ1Qw/r165Mk\\\n",
       "t99+ez784Q83NOj8tNNOy1VXXZUlS5bkqKOOqnrcc889l+eee27zz9etW5dk443d3KSNkdbX15dS\\\n",
       "qZRSa19Kk7a9vlr++LGWSb2D/wtg68bn9/X1uT7Zbpuux77WcnonDaR30sbfYzf9b19r2fU2xl74\\\n",
       "mrSmd9KkZi9nTG36fHe2zztJ+lpb/VobJZt+TbX29WVSjfd2Uu+GLf63mtY+/x1m5LmWmm/y5MlZ\\\n",
       "suQ7WbRoUf7uc3+anpdcnex+ysYHR3g0w464e/fZDD4yolmv2ZO2tGbw70BbklvyrgnvyV9/7K9z\\\n",
       "0UUXmbfLiGkZ8P3j7ORWrFiRgw46KMccc0xuu+22LR6bP39+vvzlLyfZ+C+rp59+eo4//vj86Z/+\\\n",
       "aSZPrv2fkO7u7kydOjUHHHBAfvazn1U9btGiRfnEJz6xzce/+c1vpq2t+rd3AAAAbK/u7u6cccYZ\\\n",
       "6erqyu67797s5ez0/tf/+l9597vPSs+uf5X+vT+brKvx984xGM8w2A7eaiuqdwbvi48rT+rN67/1\\\n",
       "v3P32+emb31lyPMlg6+13pnA1Y6tdt7hnCfJNoH3mTyTC0oX5n+2fjuLr1ic008/vcazoXECLzu9\\\n",
       "WoG3q6sr73rXu3Lddddt8fFKpZLjjjsu8+fPzymnnFL13KeeemqWLl2ahx9+OIcccsigxwy2g3e/\\\n",
       "/fbL2rVr/QGLEbdmzZp0dnamtbMjpdXTtnm8ZVJvZi6+Kf9+1gkZ2OoPWEnSP31Nejo609HRkWnT\\\n",
       "tn0+NGLT9djR+USmrd6Q3knl3LT4+Jxw1s2prO/LmukT0tmxt+ttDL3wNenMtNWrm72cMdU7aVJu\\\n",
       "Wrw4J5x1Vip//A6encWa6dPT2dHh19oo2PRrqrPjzKyu8d5O6t2QxTf9MGed8Iasr1T/Jsvpa9ak\\\n",
       "o/MqXytG1Lp16zJ16lSBdxx5/PHHc9ZZZ2X5A7/M70uLk9bXb3vQMOJu0ljgbTRs7myBt9a5khci\\\n",
       "7y25Le/bY34O/JMD8/XFX8/BBx9c41kwPEY0QA3t7e1ZsmRJHn300fzzP/9zbr755tx1113p7u7O\\\n",
       "jTfemBtvvDEf+tCH8nd/93eDPv+0007L0qVLc+2112bhwoWDHrPLLrtkl1122ebjlUollcq2gQ22\\\n",
       "R7lcTn9/f/p7yskgAXfTNwgNrK+kf7DA27Px+eVy2fXJdtt0PZZ7+lJZ/8LfNirrN/683NPiehtj\\\n",
       "L3xNena6yLlJZf36ne5zL/f0+LU2Sjb9muopl7O+jvd2fWVCzeN6yv47zMhzLY0/Bx98cG655ZZ8\\\n",
       "+ctfzsKFp2RD37vy/KTPJKU/5sRhztcdzfEM43FW71MZmXXVOk+tUQ1r059P7POhXPX7q3PxJy/O\\\n",
       "ueeeayQDo8aVBXV46UtfmoULF+amm27K008/ne9+97uZPXt2kuTv//7v8+///u+DPm///fdPkvz6\\\n",
       "178es7UCFM0TUydk1YxK1kzf+O/Oa6Zv/PkTU/07NACwcyqVSjnvvPNy//3L89qX/zRTe+ckPbcN\\\n",
       "+byRurnaeDBaNzmr9hbVGnfcqB/l1rx2r5fnoZf+PMvvX57zzjtP3GVU+ZsTNGjixIl505velKlT\\\n",
       "p+a1r31tBgYG8sADD2TmzJnbHHv99dcnSU4++eSxXibAuNfW1pZKqZxr523cE1EqlTInSWfH3unv\\\n",
       "70+SVEpl88gBgJ3WzJkzc+utt+bSSy/NBRecnJb+d+cPAxcnLY3dVqza7t1GNfKqg41nGC2jfaO1\\\n",
       "enfxPptn8992XZj/OXBlLl5k1y5jR+CFYdpvv/02//9qN1y77rrrsvvuu+e4444bq2UBFEZ7e3vm\\\n",
       "Lzg/3d0b55P19fVl2bJl6ejoSLlcTrIxAre3tzdzmQAATVUqlXL++edn7ty56ejoyCOPzsna7s+m\\\n",
       "r2Ve0tKy+bjh7N4dztzZHdnTGd7IioEM5Nryd/LfdluY/efsl+WLlw+6CQxGi39GgEHUc+/BJUuW\\\n",
       "JEl22223/Kf/9J+2efy+++7LihUrctJJJ2XixIkjvUSAHUJ7e3tmzJiRGTNmbL5h0LRp0zZ/TNwF\\\n",
       "ANho5syZue222/LJ//7RvGTXBTlwylEp9d+SZHg3VtsZVBvzMJxJFtXOdUfph3ndXq/Jwpe8Px/7\\\n",
       "7Edz6623iruMOYEXBvHxj38855xzTh588MFtHlu/fn2+9KUv5YMf/GCS5OKLLx7024c3BeDTTjtt\\\n",
       "NJcKw9I/9Yn0z1i17Y/pazY+Pn3N4I9PfaLJKwcAgJ1XqVTK2Wefncceeyz/5X1vzW4tb83LZpyY\\\n",
       "gdzT8LlG4uZqzTCSs3K3x/25J29/yZ/nvbvNy9s+NC+PPfZYzj77bCMZaAojGmAQd955Z+644458\\\n",
       "9atfzUEHHZSXv/zl2XXXXbNy5co88MADeeqpp9La2povfvGLOffccwc9x5IlSzJx4sTMnTt3jFcP\\\n",
       "1bW1tWVCqZLn51076OMb/zAyJz0dnZtnoG5tQqliJioAADRRW1tbLrjggrzvfe/LxRdfnC996c/y\\\n",
       "0llvzs9/9rdJZm0+bji7d6uNZ6g243ZHG+dQa0zDU0m68lg+O+3C3LBuac5/9/n5zsJvZ8qUHe1d\\\n",
       "oGgEXhjE1772tfzgBz/ID3/4wzz22GO58847s27duuy+++455JBDcvzxx+fss8/O/vvvP+jzV6xY\\\n",
       "keXLl+fEE0/M7rvvPsarh+ra29tz3oL5m2eebm2wGahbMxMVABoz9Ym1NR9v7etLkkxfsyY9Vf77\\\n",
       "W895gJ3PlClT8tnPfjYLFizIJz7xiTzy6Mtz+OyO3L/8v6alZUazlzemqt1ordoN0hq9MdsTWZXL\\\n",
       "pn0y3+nqzDtPeWceueiR7LvvvsNZKow4gRcGceihh+bQQw/NggULhvV84xkYz9rb26sG2t7e3iQb\\\n",
       "Z6BWKpWxXBYA7HDa2tpSqlQy79rrah5XKpWSOXPS0XlV1e+g2XxsxXfSANvad999c9lll+WDH/xg\\\n",
       "Pv7xj+fBhw7O1Cl/md+ven9KA6/Y5viijmcYKy/exftQy735zisvyZKHvp25/3lu7v3UvTn00EOb\\\n",
       "uTzYhsALo2DJkiVpaWnJqaee2uylAADQJO3t7Vkwv/p3zmxSz3fQbOI7aYBaDj300FxzzTV56KGH\\\n",
       "8o//+I+56qr/nP32f3XKfe/PLx99c1qGyEAGDWy0IRty4y5L8/8f9A9Z/qtlOfM1Z+aeq+/JYYcd\\\n",
       "1uylwaAEXhhhTz75ZO6888685jWvyYwZO9e3xAAAsKVa3zmzie+gAUba7Nmz85WvfCWf+tSncvnl\\\n",
       "l+fSSz+Q1r3Pz4H7npXf3vueJAc2dL5GRhkUydZjGlbmF7n1lV/Ptb/pTGXShJx31nn53nuvy557\\\n",
       "2vPM+ObWfjDC9tprr2zYsCH/+q//2uylAAAAsBObMmVKPvKRj+Txxx/PFVdcln32fyBPVA7J7rNP\\\n",
       "zNSD/yn9eWZUXnfXUTnr8D1V47E/ZF1u2eWf8rHZJ+aMysuy8oAHc/kVl+Xxxx/Phz/8YXGXQrCD\\\n",
       "FwAAAGAHVi6XM3fu3MydOzcrV67MFVdckauv/kTWTDwzLz3o2Dz1yzen1HNKksFvJF5NoyMdRmoE\\\n",
       "xItn5L5YvTdO+11+lZ9Muj7/ttvS/NtTt2bWwbPyzne8M9/quMJ34lJIAi87vT322CMXXXRRDjzw\\\n",
       "wGYvBQAAAEbVPvvsk4997GP52Mc+lsceeyzXX399li79Tu6886+zYbfDM+m5N2di9ylpy5FpGaNv\\\n",
       "/H42yaRBPv5URiYK96c/P8+y3P/Spfk/PdfnkVUP5ujXHp3TTzklV51yaWbNmjUCrwLNI/Cy09tj\\\n",
       "jz2yaNGiZi8DAAAAxtSsWbPygQ98IB/4wAfy9NNP5/vf/36uv/76fP/7J6Rcasv+U05O9+N/lpaB\\\n",
       "I9OWQ9OS2jeCHC/605ff5uf5TfuyrJh6Z/71qe/muf7unHTkSbnwzQvzxje+0egFdigCLwAAAMBO\\\n",
       "bs8998wZZ5yRM844I729vbnjjjvy3e9+Nz/+8Vdz7733ZaA/2WevV2TXgSPTt/bItPYemT1yaEpN\\\n",
       "Tkt92ZBV+Vl+mWX5zcR78sTUZXnkyfvSUkpecfgrctRRR+X9J1+do48+2o0s2WEJvAAAAABsVqlU\\\n",
       "ctxxx+W4445LkvT19eXnP/95li1b9scfl+Xee8/Ng70DmbHHKzJ5w5zkD/8hE56fkV0yI3tmn0zK\\\n",
       "jOySvVPazl2//enLH/JE1mVV1mVl1mVVnsmqDOz52/x2wvI8/vvlKZVb8spXvTJHvvrIHHnkf8mR\\\n",
       "Rx6ZQw89NOVyMXYcw/YSeAEAAACoqlwu5/DDD8/hhx+eM888M8nG6Pvwww9n2bJlefDBB7Ny5aNZ\\\n",
       "ter2rFq1Kj//1ap0PfNUSi3l7Nb6kuw6YUZaB/ZJ24Y909I/IS39laR/Qkq9pTz2tRX5Td8NKU/o\\\n",
       "z0CpNwOlDXl+wtP5Q8vKrNuwKut6fpe+gb7ssduUTJ82I/vsOyP/Yb8Z2WefffJXh5+bI488Mi97\\\n",
       "2cvEXHZqAi8AAAAADSmXy5k9e3Zmz5496OM9PT1ZvXp1Vq1atfnH73//+2zYsGHzj97e3iQvy8vn\\\n",
       "VDJhwoTNP/bYY4/MmDFj84/p06entbV1bD9BKBCBFwAAAIAR1dramgMPPDAHHnhgs5cCO7xSsxcA\\\n",
       "AAAAAMDwCLwAAAAAAAUl8AIAAAAAFJTACwAAAMCo+MIXvpDDDz88kydPzh577JHjjjsuP/7xj5u9\\\n",
       "LNihCLwAAAAAjIoDDjggn//857N8+fLcddddmTVrVk488cQ8+eSTzV4a7DAEXgAAAABGxVvf+tac\\\n",
       "eOKJmTlzZmbPnp3Pfe5z6erqyk9/+tMkycyZM9PS0jLojx/84AdNXj0Ug8ALAAAAwKh7/vnn87Wv\\\n",
       "fS177rlnXv7ylydJvv3tbydJ7r777qxatWrz+Ia77747b3jDG5q2ViiSCc1eAAAAAAA7rjvuuCMn\\\n",
       "nXRS1q9fn+nTp+emm27KlClTkiS/+93vMnny5Bx55JFpaWnJT37yky1+DgzNDl4AAAAARs2rX/3q\\\n",
       "3Hfffbnrrrty0kkn5W1ve1vWrl2bJHnggQdy+OGHb465999/f4444ghxFxog8AIAAAAwaiZNmpRZ\\\n",
       "s2blqKOOyuWXX55SqZTOzs4kyU9/+tPN4xqSZPny5Vv8HBiawAsAAADAmBkYGMhzzz2XZOMO3iOO\\\n",
       "OGLzYw888IDACw0ygxcAAACAUbFw4cK8+c1vzr777punnnoqX/7yl/Ob3/wm8+bNy4YNG/Lzn/98\\\n",
       "c9AdGBjI448/nv3337/Jq4ZisYMXAAAAgFGxcuXK/OVf/mUOOeSQzJ07N2vWrMkdd9yRww47LI88\\\n",
       "8kief/75zTt4W1pacsQRR+Scc87JY4891uSVQ3HYwQsAAADAqPjGN75R9bHZs2dnYGBgi4/dc889\\\n",
       "o70k2OHYwQsAAAAAUFACLwAAAABAQRnRAAAAAMCIa2lpGZHzbD3GAdiSwAsAAADAiBNmYWwY0QAA\\\n",
       "AADAmPj0pz+dV7/61dltt90ybdq0vO1tb8uKFSuavSwoNIEXAAAAgDHxox/9KOeff35+/OMf54Yb\\\n",
       "bshTTz2Vk046KRs2bGj20qCwjGgAAAAAYEzccMMNW/z8sssuy8EHH5yHHnooc+bMadKqoNjs4AUA\\\n",
       "AACgKbq6upIkU6ZMafJKoLgEXgAAAADGXF9fXz70oQ9l7ty52XfffZu9HCgsIxoAAAAAGFMDAwM5\\\n",
       "55xz8qtf/Sr/8i//0uzlQKEJvAAAAACMmYGBgZx77rm5+eabc/vtt2fvvfdu9pKg0AReAAAAAMbE\\\n",
       "wMBA5s+fn+9973v50Y9+lP3226/ZS4LCE3gBAAAAGBPz58/Pt771rVx//fWZNGlSVq9enWTjTdYm\\\n",
       "TpzY5NVBMQm8AAAAAIyJr3zlK0mSo48+eouP33rrrTn22GObsCIoPoEXAAAAgDExMDDQ7CXADqfU\\\n",
       "7AUAAAAAADA8Ai8AAAAAQEEJvAAAAAAABSXwAgAAAAAUlMALAAAAAFBQAi8AAAAAQEEJvAAAAAAA\\\n",
       "BSXwAgAAAAAUlMALAAAAAFBQAi8AAAAAQEEJvAAAAAAABTWh2QsAAGB8eWLq1GYvYcz1tbYmSdZM\\\n",
       "n55yT0+TVzO2dsavNwDAjkTgBQAgSdLW1pZKqZRr581r9lLGXKlUypwknR0d6e/vb/ZyxlylVEpb\\\n",
       "W1uzlwEAwDAIvAAAJEna29szf8GCdHd3N3spY66vry/Lli1LR0dHyuVys5cz5tra2tLe3t7sZQAA\\\n",
       "MAwCLwAAm7W3t++Uoa+3tzdJMm3atFQqlSavBgAA6ucmawAAAAAABSXwAgAAAAAUlMALAAAAAFBQ\\\n",
       "Ai8AAAAAQEEJvAAAAAAABSXwAgAAAAAUlMALAAAAAFBQAi8AAAAAQEEJvAAAAAAABSXwAgAAAAAU\\\n",
       "lMALAAAAAFBQAi8AAAAAQEEJvAAAAAAABSXwAgAAAAAUlMALAAAAAFBQAi8AAAAAQEEJvAAAAAAA\\\n",
       "BSXwAgAAAAAUlMALAAAAAFBQAi8AAAAAQEEJvAAAAAAABSXwAgAAAAAUlMALAAAAAFBQAi8AAAAA\\\n",
       "QEEJvAAAAAAABSXwAgAAAAAUlMALAAAAAFBQAi8AAAAAQEEJvAAAAAAABSXwAgAAAAAUlMALAAAA\\\n",
       "AFBQAi8AAAAAQEEJvAAAAAAABSXwAgAAAAAUlMALAAAAAFBQAi8AAAAAQEEJvAAAAAAABSXwAgAA\\\n",
       "AAAUlMALAAAAAFBQAi8AAAAAQEEJvAAAAAAABSXwAgAAAAAUlMALAAAAAFBQAi8AAAAAQEEJvAAA\\\n",
       "AAAABSXwAgAAAAAUlMALAAAAAFBQAi8AAAAAQEEJvAAAAAAABSXwAgAAAAAUlMALAAAAAFBQAi8A\\\n",
       "AAAAQEEJvAAAAAAABSXwAgAAAAAU1IRmLwAAAGAsdHV1pbu7u9nL2EZfX1+SZM2aNSmXy01ezbba\\\n",
       "2trS3t7e7GUAAFUIvAAAwA6vq6srl15ySXr7+5u9lG2USqXMmTMnnZ2d6R+H66uUSpm/YIHICwDj\\\n",
       "lMALAADs8Lq7u9Pb35+3XHNN9l67ttnL2UJfa2uWfeEL6ejsTLmnp9nL2cITU6fm2nnz0t3dLfAC\\\n",
       "wDgl8AIAADuNvdeuzYxVq5q9jC30TpqUJJm2enUq69c3eTUAQNG4yRoAAAAAQEEJvAAAAAAABSXw\\\n",
       "AgAAAAAUlMALAAAAAFBQAi8AAAAAQEEJvAAAAAAABSXwAgAAAAAUlMALAAAAAFBQAi8AAAAAQEEJ\\\n",
       "vAAAAAAABSXwAgAAAAAUlMALAAAAAFBQAi8AAAAAQEEJvAAAAAAABSXwAgAAAAAUlMALAAAAAFBQ\\\n",
       "Ai8AAAAAQEEJvAAAAAAABSXwAgAAAAAUlMALAAAAAFBQAi8AAAAAQEEJvAAAAAAABSXwAgAAAAAU\\\n",
       "lMALAAAAAFBQAi8AAAAAQEFNaPYCAIAdX1dXV7q7u2se09fXlyRZs2ZNyuVyzWPb2trS3t4+Yutj\\\n",
       "x+b6AwBgRybwAgCjqqurK5de8qX09m+oeVypVMqcOXPS2dmZ/v7+msdWShMyf8F5IhtD6urqyiWX\\\n",
       "Xpr+3t6axzVy/ZUqlSyYP9/1BwDAuCDwAgCjqru7O739G/KWa6Zm77WVqsf1tbZk2ReSjs7pKfcM\\\n",
       "VD3uiam9uXbe2nR3dwtsDKm7uzv9vb255i3HZ+3ee1Y9rrWvL19Y9ng6O05LT40dvFOfeDrzrr3Z\\\n",
       "9QcAwLgh8AIAY2LvtZXMWLVL1cd7J23832mrJ6ayfowWxU5j7d57ZtWMvas+Pql3Q5LHs3ra1Kyv\\\n",
       "+CMyAADF4SZrMMKefPLJnHPOOfnSl77U7KUAAAAAsIMTeBmXVqxYkZaWlhx77LFbfPzVr351Wlpa\\\n",
       "Gvqx997Vd+uMhr322is33HBDLrzwwvQOMe8PAAAAALaH7z+jMAYGBvLKV74yRxxxxBYf/8UvfpHb\\\n",
       "b789kydPzrx587Z53qGHHjpWS9zs1FNPzSWXXJJbbrklJ5544pi/PjTixXeXH+wu8u4WDwAAAOOX\\\n",
       "wEthtLS05LLLLtvm43/7t3+b22+/PUcddVSuuOKKsV/YIE477bRccsklWbJkicDLuNbV1ZVL//GS\\\n",
       "9PZtvGP8YHeRr5RLmX/+ApEXAAAAxiGBl8K79957kySvetWrmrySF7zuda/LlClTsnTp0nz5y19O\\\n",
       "S0tLs5cEg+ru7k5vX3/e8rNrsnf32vRVWrNszhfScV9nyr09eaJtaq49bJ67xQMAAMA4ZQYvhXfP\\\n",
       "PfckSV75ylc2eSUvKJfLOfnkk7Ny5cr85Cc/afZyYEh7d6/NjGdXZdofVidJpv1hdWY8uyp7d69t\\\n",
       "8soAAACAWuzgpdCefvrprFixIsn42sGbbBzTcNVVV2XJkiU56qijqh733HPP5bnnntv883Xr1iVJ\\\n",
       "ent73aSNUdfX15dSqZS+Smt6J05Kb2VSkmz+375K68bH+/pcjwzb5uustSW9k6oft+mxWsckSV9r\\\n",
       "i+uSum26/lr7+jKpd0PV4yb19m3xv9W0brqeXX+F88LvRa3pnTTEbzRjbNN6xtu6kqSv1Z8FdnS+\\\n",
       "rgDF1zIwMDDQ7EXA1lasWJGDDjooxxxzTG677baqx91yyy15wxvekMmTJ6erqyul0vjZlN7d3Z2p\\\n",
       "U6fmgAMOyM9+9rOqxy1atCif+MQntvn4N7/5zbS1tY3mEgEAgJ1cd3d3zjjjjHR1dWX33Xdv9nIA\\\n",
       "GAY7eCm0TfN3/+RP/mRcxd0kaWtrywknnJClS5fmkUceySGHHDLocR/96EfzN3/zN5t/vm7duuy3\\\n",
       "33758z//c3/AYtStWbMmnZ2d6bivM9P+sDq9lUm56b2Lc8LlZ6XSuz5rdp2ezld0pKOjI9OmTWv2\\\n",
       "cimozddZ5/RMWz2x6nG9k5KbFu+RE876fSrra5xv+vPp7FjtuqQum66/zo7Tsnra1KrHTerty+Kb\\\n",
       "luWsE47M+kq56nHT16xNR+cS118BvfB7UWemrV7d7OVsoXfSpNy0eHFOOOusVNbX+A2wCdZMn57O\\\n",
       "Dn8W2JFt+g5CAIpL4KXQtmf+7kc+8pEsXbq04eddfvnl+bM/+7O6jj3ttNOydOnSXHvttVm4cOGg\\\n",
       "x+yyyy7ZZZddtvl4pVJJpVJpeH3QiHK5nP7+/pR7e1J5/oW/UFZ616fy/PqUJ/ZsfLxcdj0ybJuv\\\n",
       "s56BmuF2k8r61Dyu3DPguqRum66/nnI56ytD/9F3faX2cT2brmfXX+G88HtRz7iLqJtU1q8fd2sr\\\n",
       "9/izwI7O1xWg+AReCm3TDt7hzN9duXJlHn744Yaf9+yzz9Z97P77758k+fWvf93w68BYeqJt4662\\\n",
       "vkprkmTNrtNTntiz+eMAAADA+CTwUljd3d2bA+1wdvBeffXVufrqq0d6WVu4/vrrkyQnn3zyqL4O\\\n",
       "DFdbW1sq5VKuPWxekqRUKmVOks5XdKS/vz9JUimXzIMGAACAcUrgpbCWL1+e/v7+TJw4MYcffniz\\\n",
       "lzOo6667LrvvvnuOO+64Zi8FBtXe3p755y9Id3d3ko13GF+2bFk6OjpSLm+cQdnW1pb29vZmLhMA\\\n",
       "AACoQuClsDbN3z3iiCPG5dyo++67LytWrMhf/MVfZOLE6jcVgmZrb2/fHHB7e3uTJNOmTRuXv64A\\\n",
       "AACALZWavQAYru2ZvzsWlixZkmTjjdYAAAAAYDQIvBTWph28w5m/OxaWLFmSiRMnZu7cuc1eCgAA\\\n",
       "AAA7KCMaKKTe3t48+OCDScbnDt4VK1Zk+fLlOfHEE7P77rs3ezkA48ITU3trPt7X2pIkWTP9+ZR7\\\n",
       "BoZ9HhjM1Ceervl4a19fkmT6mrXp+eMM8uGcBwAAxprASyFVKpU899xzzV5GVcYzALygra0tldKE\\\n",
       "XDtvbc3jSqVS5uQl6exYnf7+/prHVkoT0tbWNpLLZAfV1taWUqWSedfeXPO4UqmUzJmTjs4lQ15/\\\n",
       "pUrF9QcAwLgh8MIoWLJkSVpaWnLqqac2eykATdfe3p75C85Ld3d3zeP6+vqybNmydHR0pFxjB2Wy\\\n",
       "Mdptujkg1NLe3p4F8+e7/gAA2GEJvDDCnnzyydx55515zWtekxkzZjR7OQDjQnt7+5BBrLd34+iF\\\n",
       "adOmpVKpjMWy2Em4/gAA2JEJvDDC9tprr2zYsKHZywAAAABgJ1Bq9gIAAAAAABgeO3gZl/bYY49c\\\n",
       "dNFFOfDAA5u9FAAAAAAYtwRexqU99tgjixYtavYyAAAAAGBcM6IBAAAAAKCgBF4AAAAAgIISeAEA\\\n",
       "AAAACkrgBQAAAAAoKIEXAAAAAKCgBF4AAAAAgIISeAEAAAAACkrgBQAAAAAoKIEXAAAAAKCgBF4A\\\n",
       "AAAAgIISeAEAAAAACkrgBQAAAAAoKIEXAAAAAKCgBF4AAAAAgIISeAEAAAAACkrgBQAAAAAoKIEX\\\n",
       "AAAAAKCgBF4AAAAAgIISeAEAAAAACkrgBQAAAAAoKIEXAAAAAKCgJjR7AQAAAGPlialTm72EbfS1\\\n",
       "tiZJ1kyfnnJPT5NXs6Xx+H4BAFsSeAEAgB1eW1tbKqVSrp03r9lL2UapVMqcJJ0dHenv72/2crZR\\\n",
       "KZXS1tbW7GUAAFUIvAAAwA6vvb098xcsSHd3d7OXso2+vr4sW7YsHR0dKZfLzV7ONtra2tLe3t7s\\\n",
       "ZQAAVQi8AADATqG9vX1chsre3t4kybRp01KpVJq8GgCgaNxkDQAAAACgoAReAAAAAICCEngBAAAA\\\n",
       "AApK4AUAAAAAKCiBFwAAAACgoAReAAAAAICCEngBAAAAAApK4AUAAAAAKCiBFwAAAACgoAReAAAA\\\n",
       "AICCEngBAAAAAApK4AUAAAAAKCiBFwAAAACgoAReAAAAAICCEngBAAAAAApK4AUAAAAAKCiBFwAA\\\n",
       "AACgoAReAAAAAICCEngBAAAAAApK4AUAAAAAKCiBFwAAAACgoAReAAAAAICCEngBAAAAAApK4AUA\\\n",
       "AAAAKCiBFwAAAACgoAReAAAAAICCEngBAAAAAApK4AUAAAAAKCiBFwAAAACgoAReAAAAAICCEngB\\\n",
       "AAAAAApK4AUAAAAAKCiBFwAAAACgoAReAAAAAICCEngBAAAAAApK4AUAAAAAKCiBFwAAAACgoARe\\\n",
       "AAAAAICCEngBAAAAAApK4AUAAAAAKCiBFwAAAACgoAReAAAAAICCEngBAAAAAApK4AUAAAAAKCiB\\\n",
       "FwAAAACgoAReAAAAAICCEngBAAAAAApK4AUAAAAAKCiBFwAAAACgoAReAAAAAICCEngBAAAAAApK\\\n",
       "4AUAAAAAKCiBFwAAAACgoAReAAAAAICCEngBAAAAAApK4AUAAAAAKCiBFwAAAACgoAReAAAAAICC\\\n",
       "EngBAAAAAApK4AUAAAAAKCiBFwAAAACgoAReAAAAAICCEngBAAAAAApK4AUAAAAAKCiBFwAAAACg\\\n",
       "oAReAAAAAICCEngBAAAAAApK4AUAAAAAKCiBFwAAAACgoAReAAAAAICCEngBAAAAAApK4AUAAAAA\\\n",
       "KCiBFwAAAACgoAReAAAAAICCEngBAAAAAApK4AUAAAAAKCiBFwAAAACgoAReAAAAAICCEngBAAAA\\\n",
       "AApK4AUAAAAAKCiBFwAAAACgoAReAAAAAICCEngBAAAAAApK4AUAAAAAKCiBFwAAAACgoAReAAAA\\\n",
       "AICCEngBAAAAAApK4AUAAAAAKCiBFwAAAACgoAReAAAAAICCEngBAAAAAApK4AUAAAAAKCiBFwAA\\\n",
       "AACgoAReAAAAAICCEngBAAAAAApK4AUAAAAAKCiBFwAAAACgoAReAAAAAICCEngBAAAAAApK4AUA\\\n",
       "AAAAKCiBFwAAAACgoAReAAAAAICCEngBAAAAAApK4AUAAAAAKCiBFwAAAACgoAReAAAAAICCEngB\\\n",
       "AAAAAApK4AUAAAAAKCiBFwAAAACgoAReAAAAAICCEngBAAAAAApK4AUAAAAAKCiBFwAAAACgoARe\\\n",
       "AAAAAICCEngBAAAAAApK4AUAAAAAKCiBFwAAAACgoCY0ewHAlgYGBpIk69ata/JK2Bn19vamu7s7\\\n",
       "69atS6VSafZy2Mm4/mgm1x/N5PqjmTb9vWPT30MAKB6BF8aZZ555Jkmy3377NXklAADAzuKZZ55J\\\n",
       "e3t7s5cBwDC0DPhnOhhX+vv7s3Llyuy2225paWlp9nIAAIAd2MDAQJ555pnss88+KZVMcQQoIoEX\\\n",
       "AAAAAKCg/PMcAAAAAEBBCbwAAAAAAAUl8AIAAAAAFJTACwAAAABQUAIvAAAAAEBBCbwAAAAAAAUl\\\n",
       "8AIAAAAAFJTACwAAAABQUAIvAAAAAEBBCbwAAAAAAAUl8AIAAAAAFJTACwAAAABQUAIvAAAAAEBB\\\n",
       "CbwAAAAAAAUl8AIAAAAAFJTACwAAAABQUAIvAAAAAEBBCbwAAAAAAAUl8AIAAAAAFJTACwAAAABQ\\\n",
       "UAIvAAAAAEBBCbwAAAAAAAUl8AIAAAAAFJTACwAAAABQUAIvAAAAAEBBCbwAAAAAAAUl8AIAAAAA\\\n",
       "FJTACwAAAABQUAIvAAAAAEBBCbwAAAAAAAUl8AIAAAAAFJTACwAAAABQUAIvAAAAAEBBCbwAAAAA\\\n",
       "AAUl8AIAAAAAFJTACwAAAABQUAIvAAAAAEBBCbwAAAAAAAUl8AIAAAAAFJTACwAAAABQUAIvAAAA\\\n",
       "AEBBCbwAAAAAAAUl8AIAAAAAFJTACwAAAABQUAIvAAAAAEBBCbwAAAAAAAUl8AIAAAAAFJTACwAA\\\n",
       "AABQUAIvAAAAAEBBCbwAAAAAAAUl8AIAAAAAFJTACwAAAABQUAIvAAAAAEBBCbwAAAAAAAUl8AIA\\\n",
       "AAAAFJTACwAAAABQUAIvAAAAAEBBCbwAAAAAAAUl8AIAAAAAFJTACwAAAABQUAIvAAAAAEBBCbwA\\\n",
       "AAAAAAUl8AIAAAAAFJTACwAAAABQUAIvAAAAAEBBCbwAAAAAAAUl8AIAAAAAFJTACwAAAABQUAIv\\\n",
       "AAAAAEBBCbwAAAAAAAUl8AIAAAAAFJTACwAAAABQUAIvAAAAAEBBCbwAAAAAAAUl8AIAAAAAFJTA\\\n",
       "CwAAAABQUAIvAAAAAEBBCbwAAAAAAAUl8AIAAAAAFJTACwAAAABQUAIvAAAAAEBBCbwAAAAAAAUl\\\n",
       "8AIAAAAAFJTACwAAAABQUAIvAAAAAEBBCbwAAAAAAAUl8AIAAAAAFJTACwAAAABQUAIvAAAAAEBB\\\n",
       "CbwAAAAAAAUl8AIAAAAAFJTACwAAAABQUAIvAAAAAEBBCbwAAAAAAAUl8AIAAAAAFJTACwAAAABQ\\\n",
       "UAIvAAAAAEBB/V/+MoOh7sURmgAAAABJRU5ErkJggg==\\\n",
       "\"\n",
       "  frames[3] = \"data:image/png;base64,iVBORw0KGgoAAAANSUhEUgAABXgAAAPoCAYAAABkvZZOAAAAOnRFWHRTb2Z0d2FyZQBNYXRwbG90\\\n",
       "bGliIHZlcnNpb24zLjEwLjMsIGh0dHBzOi8vbWF0cGxvdGxpYi5vcmcvZiW1igAAAAlwSFlzAAAP\\\n",
       "YQAAD2EBqD+naQAAvBBJREFUeJzs3Xl4U2X+/vE7TVvaUtqyCUVABEWUXRBc2RxFUQHFLyqoUBR1\\\n",
       "RBlcZkDc4KfiMjrK5q5FZ9RRR0VQARc2kXFjEwVREUaUTbZiKYU0Pb8/amKS5iQnW9PTvl/X1csm\\\n",
       "ec5znqSH1t795PM4DMMwBAAAAAAAAACwnZRkLwAAAAAAAAAAEB0CXgAAAAAAAACwKQJeAAAAAAAA\\\n",
       "ALApAl4AAAAAAAAAsCkCXgAAAAAAAACwKQJeAAAAAAAAALApAl4AAAAAAAAAsCkCXgAAAAAAAACw\\\n",
       "KQJeAAAAAAAAALApAl4AAAAAAAAAsCkCXgAAAAAAAACwKQJeAAAAAAAAALApAl4AAAAAAAAAsCkC\\\n",
       "XgAAAAAAAACwKQJeAAAAAAAAALApAl4AAAAAAAAAsCkCXgAAAAAAAACwKQJeAAAAAAAAALApAl4A\\\n",
       "AAAAAAAAsCkCXgAAAAAAAACwKQJeAAAAAAAAALApAl4AAAAAAAAAsCkCXgAAAAAAAACwKQJeAAAA\\\n",
       "AAAAALApAl4AAAAAAAAAsCkCXgAAAAAAAACwKQJeAAAAAAAAALApAl4AAAAAAAAAsCkCXgAAAAAA\\\n",
       "AACwKQJeAEBSTJo0SQ6HQw6HQ5MmTUr2cmxp8eLF3tewT58+VX7+WbNmec8/cuTIKj9/dZPsrweq\\\n",
       "n1atWnmvic2bNyd7OQAAAKihCHgBoJrr06ePNyAI9lGvXj21bNlS55xzjqZMmaJffvkl2UsGANRg\\\n",
       "H330ka688kq1bdtWdevWVYMGDdSpUyf99a9/1bfffmuL85eXl2vVqlWaMWOGRo8erdNOO03NmzdX\\\n",
       "VlaW0tLS1KBBA3Xs2FEFBQV67733VF5enuBnBQAAEL3UZC8AABCb4uJiFRcXa8uWLVqwYIEmTZqk\\\n",
       "22+/XXfddZccDkeylwcggO+/S8MwkriS2mnkyJF64YUXJEmFhYVUn0dg//79uuaaa/Tqq6/63V9S\\\n",
       "UqK9e/dq7dq1mjp1qiZPnqzbbrutWp9/5cqVOumkk0wf37t3r/bu3auvv/5as2bN0oknnqhZs2ap\\\n",
       "Y8eOcXkuAAAA8UTACwA2ctJJJ6lHjx5+9xUVFWnNmjVau3atJMnlcmnSpEnat2+fHn300WQsEwBQ\\\n",
       "w7hcLl144YVauHCh974OHTroxBNPVGlpqT7++GNt27ZNLpdLEydOlMvl0l133WWL8zudTh133HFq\\\n",
       "27atGjZsKKfTqZ07d+qLL77wvitm5cqV6tWrlxYuXKiuXbvG7XkBAADEAwEvANjIgAEDTPvVLl++\\\n",
       "XJdddpl++uknSdJjjz2m4cOHq3v37lW4QqD26tOnDxW58FOT+u7ec8893nA1IyNDhYWFuvTSS72P\\\n",
       "Hz58WHfccYf+/ve/S6ros967d2/17t27Wp4/NzdXt9xyi84991ydfPLJqlu3bqUxhmFozpw5uuqq\\\n",
       "q7R7927t27dPI0aM0Jo1a3iHDAAAqFbowQsANcSpp56qt99+2++XzqeffjqJKwIA1AQ7d+7UP/7x\\\n",
       "D+/txx57zC9claT09HQ99NBDuuSSSyRVhKPxatOQiPMfe+yxevjhh3XmmWcGDXelinYqgwYN0ptv\\\n",
       "vum9b+3atVq+fHksTwcAACDuCHgBoAbp0qWL+vTp4729dOnS5C0GAFAjvPDCCzpw4IAkqW3btrrm\\\n",
       "mmtMxz700ENKSan4FeO///2vVq1aZfvz9+rVS23atPHejsecAAAA8UTACwA1TJcuXbyfb9261dIx\\\n",
       "69ev18SJE9WjRw81adJE6enpaty4sXr27Km77rrL8jweixYt0rBhw3TUUUcpIyND+fn5OuOMM/T4\\\n",
       "44+rpKTE8jwjR46Uw+GQw+HQrFmzwo6fNWuWd7zVjZO++uorTZgwQT179lTTpk2Vnp6u7OxsHXfc\\\n",
       "cbrkkkv03HPPqaioKOw8u3fv1iOPPKKzzjpLLVq0UEZGhvLy8nTCCSdozJgx+vLLLy2tx+P777/X\\\n",
       "uHHj1K5dO+8u8V26dNFdd92ln3/+OaK5orFy5UqNHj1arVu3VmZmpho3bqwePXrooYce0p49e6Ke\\\n",
       "94svvtBNN92kLl26qHHjxkpPT1fTpk3Vu3dvPfjgg9q7d2/YOVq1auX9OnveAv/zzz/rzjvvVOfO\\\n",
       "nZWXl6e6deuqXbt2uvHGG/W///3P0tqKi4v15JNP6rzzzlPLli2VlZWltLQ05ebmql27drrgggs0\\\n",
       "ZcoUff3110GPX7x4sXddvn9oCXzMl+e+wI/Nmzfr8OHDaty4sfe+//73v5aehyT17t3be9y0adMs\\\n",
       "HxeoT58+3nkWL14sSdq2bZsmT56srl27qkGDBsrIyFC7du00YcKEoNfGzz//rIkTJ6pr166qX7++\\\n",
       "6tWrpy5dumjKlCk6ePCgpXWsX79ejz76qC666CIdd9xxqlevntLS0tS4cWN1795dN910k9atWxdy\\\n",
       "Ds9149lgTZIKCgqCvv6BrXDMXocpU6aoR48eatq0qZxOp/Ly8oKe0/da9Th8+LBOPPFE7+MDBgwI\\\n",
       "+zq88cYb3vFpaWn69NNPwx4TD7Nnz/Z+7vm+bKZly5bq16+f9/Zbb71l+/NLUuPGjb2f//bbbzHP\\\n",
       "F+yaCmXSpEmm12eghQsX6qqrrlLHjh2Vl5en1NRUZWVlqXnz5jrjjDM0btw4vfPOOzp8+HDMzwMA\\\n",
       "AFQTBgCgWuvdu7chyZBk3H333WHHT5w40Ts+LS0t5NjS0lLj2muvNZxOp/eYYB+ZmZnG9OnTw57b\\\n",
       "5XIZo0aNCjnXCSecYHz77bfG3XffHfZ5jRgxwjumsLAw7PkLCwu940eMGBFy7N69e41LLrnEcDgc\\\n",
       "IdcryWjSpEnIuWbMmGHk5uaGnMPhcBijRo0yDh06FPZ5zJw508jIyDCdKy8vz5gzZ46xaNEi7329\\\n",
       "e/cOO69Vt99+e8hronnz5sZ///vfiF7vPXv2GEOGDAn7Wufl5Rmvv/56yLmOOuoo7/hNmzYZb731\\\n",
       "VsjXPzMz03jnnXdCzrl8+XLjyCOPDLs+z4fL5ao0R6ivh+9jVj42bdpkGIZh3HLLLd77rr766pDP\\\n",
       "weO7777zHlOnTh1j9+7dlo4Lxvf7z6JFi4wFCxYYDRs2NF33UUcdZWzevNl7/HPPPWfUqVPHdHz7\\\n",
       "9u2NnTt3hlzD//3f/1l6zRwOhzFu3DijrKws6Dy+1024j8DvSYGvw+zZs4369etXOi43N9f0nJ6v\\\n",
       "qa/169cbWVlZ3jHTpk0zfR22bNnid87JkyeHfN3i5eDBg0ZKSor3vMuXLw97zH333ecdf9ppp9n6\\\n",
       "/IZR8bPN97p/+eWXY54z8JoKx8rPzOLiYmPgwIGWr/Nnnnkm5ucBAACqBzZZA4AaxrfatkmTJqbj\\\n",
       "Dhw4oP79++uTTz7x3temTRt169ZN9evX1549e/TJJ59o69atOnjwoG688Ubt379fEydONJ3zyiuv\\\n",
       "1CuvvOK9nZeXp759+6phw4b66aeftHjxYq1bt04DBgzQwIEDY3ym0du6dav69eunDRs2+K31tNNO\\\n",
       "U35+vlwul3766SetWLFC+/fvV2lpqelc48aN09SpU723GzVqpFNOOUVNmzZVaWmpVq1apa+//lqG\\\n",
       "Yej555/X1q1b9e6773rfQhzoqaee0pgxY7y309LS1KdPHx111FHas2ePFi9erD179ujiiy/WlClT\\\n",
       "4vBq+Js4caLuv/9+7+2srCz169dP+fn52r59uxYuXKiff/5ZAwYM0Lhx4yzNuX37dvXr10/r16/3\\\n",
       "3te+fXt17txZ2dnZ2rlzpz7++GPvJkZDhw7VP//5Tw0fPjzs3B9++KGuu+46ud1utWzZUqeccopy\\\n",
       "cnK0adMmLV68WGVlZTp48KCGDh2qr7/+WkcffXSlObZs2aL+/ft7q/LS0tJ00kkn6ZhjjlFWVpYO\\\n",
       "HDigzZs3a82aNdq/f7+l5xzoyCOP9H5dZ86c6b3f92vtKycnR5J0zTXX6JFHHpEkvfrqq3rsscdM\\\n",
       "+4V6PP/8897PL7roIjVo0CCqNQdavXq1Jk6cqIMHD6p58+Y67bTTVK9ePX333Xf6+OOPZRiG/ve/\\\n",
       "/+ncc8/V2rVr9eqrr+qqq66SVNHvtEePHsrIyNDatWv1+eefS5K++eYbXXHFFZo/f77peT0bR6am\\\n",
       "puqEE07Qscceq7y8PDmdTu3cuVNffPGFfvnlFxmGoccee0yHDh3S448/XmmeESNGaPfu3froo4/0\\\n",
       "7bffSpLOPPNMtWvXrtLYHj16mK5n+fLlmjRpklwulxo2bKhevXqpUaNG2rlzZ8Rv3W/Xrp0effRR\\\n",
       "XXvttZKkv/3tb+rbt686dOjgN668vFxXXHGFt8L9tNNO0+233x7RuaK1YcMGlZeXS6qoOO/atWvY\\\n",
       "Y0488UTv577/7u14fkm69957tXv3bklS3bp1dc4558Q8ZyJcfvnlmjNnjvf2Mccc4620d7lc+vXX\\\n",
       "X7V27doatfkfAAD4XZIDZgBAGJFU8LpcLqNFixbe8RdffLHp2CuvvNI7rm3btkEriMrKyozHH3/c\\\n",
       "W4HndDpNq6defPFFv8qgG264wSgpKfEbs3XrVqNfv36GJCM9PT3s80pEBa/L5TJOO+00v+rOGTNm\\\n",
       "GIcPH6409tChQ8acOXOMwYMHB53rueee886Tk5NjPPPMM0HnWbhwoV916IMPPhh0vu+++86vcrd3\\\n",
       "797Gli1b/MaUlpYa48aNq/QaxqOCd8mSJX4VzRdffLGxZ88evzH79u0zLr300krnN3u93W630bdv\\\n",
       "X++4Hj16GCtXrqw07uDBg8akSZO8569bt67x448/Bp3TtyqyTp06Rt26dY1//vOfRnl5ud+4r7/+\\\n",
       "2u91LygoCDqf5/WUZJxxxhnGL7/8EnScy+UyFi9ebAwfPjxolajVimrffydW+H4PeP7550OOLSsr\\\n",
       "M/Lz873jP/roI0vnsHLuOnXqGGlpacbMmTMNt9vtN27x4sVG3bp1vWOnTJliZGdnGzk5OcZ//vOf\\\n",
       "SvO++uqrflXiS5YsMV3DhAkTjNdee80oKioK+nh5ebkxZ84co3Hjxt75Pv74Y9P5Iv2+Evg6pKam\\\n",
       "Gg6Hw7jnnnsq/XsvLS31ux2ugtdj8ODB3nEdO3asNI9vRWpubm7IueLt1Vdf9Z473LsZPL755hu/\\\n",
       "6zxclXZ1O39ZWZmxY8cO47333vP72jgcDuOpp56K5mlUEu8K3tWrV3sfz87ONt577z3TuTZu3Gjc\\\n",
       "e++9xpw5c2J4BgAAoDoh4AWAai6SgPeee+7x+6X2/fffDzpu6dKl3jFt2rQxfv3115Dz+gan55xz\\\n",
       "TqXH3W63X7A8cuRI07lKSkqMTp06+a2zKgPeZ555xjsmLS3NWLp0adh5g9m/f7+Rl5fnDTo//fTT\\\n",
       "kOPXrVvnDW8bNmxoHDhwoNKYYcOGedfWvn37oGM8rr76ar/XMB4B76mnnuqd78wzzzR9q7vb7TbO\\\n",
       "Pvtsv/Obvd6+wf/JJ59cKfQP5BtiXHfddUHH+IZmDofDmDdvnul877zzjl/oEay1Qrdu3bxjvv/+\\\n",
       "+5DrCyVRAe9LL73kHR/u7eZz5szx+7cdGHpHyvf7jyTj2WefNR177733+o11OBwhA2bfa/jPf/5z\\\n",
       "TOs0DMP49NNPvfMNHTrUdFysAa8k495777V0nNWAd9euXUazZs28Y8eOHet97LPPPjNSU1O9j730\\\n",
       "0kuWzh0vjz/+uPfcnTp1snTM7t27/V6vb7/9ttqf/8wzz/Q7JvAjLy/PePXVV6N+HoHiHfBOnz7d\\\n",
       "+/jtt98et3UCAAB7YJM1ALC5/fv36+OPP9awYcN05513eu+/6aabdNZZZwU95h//+If380ceeUSN\\\n",
       "GjUKeY6RI0d638a8YMEC71tVPRYsWKAtW7ZIkjIzM/Xwww+bzhXu8UTzvN1dkm6++WadccYZUc3z\\\n",
       "/PPPa9++fZKk66+/Xj179gw5/vjjj9eIESMkVWzIFviW9H379umNN97w3n7ooYeUlZVlOt9DDz0U\\\n",
       "9q36kVi/fr2WL1/uvT1t2jQ5nc6gY1NSUjR9+vSQGx15+F5rTz75pDIzM0OOnzBhgnejqldeecX7\\\n",
       "1mwz559/fsi3Sw8YMEBNmzaVVLGJWrC3a/u2XfDdSKm6GDJkiLfNwieffOLXWiTQc8895/181KhR\\\n",
       "lr5GVnXu3NnbciGYyy67zO/2oEGD/Da7CjXe07IhFj179tTxxx8vSfroo49ins9Ms2bNNH78+LjO\\\n",
       "2bBhQ7344over9f06dM1b948FRcXa/jw4SorK5MkDR8+XMOGDYvrucMpLi72fh7u36/ZON857HZ+\\\n",
       "qeJa/u677zR06NCY5kmk6v59DAAAJBYBLwDYyOTJkyvt9p6bm6tevXp5e982bNhQDzzwgF+w5qus\\\n",
       "rEwffPCBpIo+n+eff76lc/ft21eSZBiGX99eSVq0aJH38wEDBqhhw4Yh5/rTn/6kI4880tJ54+l/\\\n",
       "//uft/emJN1www1Rz/Xee+95P7cauPiGXcuWLfN7bPny5Tp06JAk6Ygjjgjb47F+/fpx7WPs+zXs\\\n",
       "1q2bTjjhhJDj27Ztq5NPPjnkmG3btmn16tWSpBNOOEGdO3cOu46MjAydcsopkqSioiJ9/fXXIcf/\\\n",
       "3//9X8jHHQ6H33mD9Z5s0aKF9/Mnn3wy7BqrWp06dXTllVd6b/uGuL527Nihd999V5LkdDo1cuTI\\\n",
       "uK7j4osvDvl469at/f7oEG68b5/ZTZs2WVrDd999p5dffln33HOPbr31Vt1444264YYbvB9FRUWS\\\n",
       "Kv6I4vmjU7xdfPHFSk2N/zYWZ555pv76179Kqvg+W1BQoIKCAv3www+SpFatWgXtLZxovj3I09PT\\\n",
       "LR1Tp04dv9sHDx6s9ucfPHiwxowZozFjxmj06NEaOHCg8vPzJUlvv/222rZtq0ceeUSGYUSw+qrj\\\n",
       "+33sxRdfVElJSRJXAwAAqhqbrAFADeJ0OvXggw+GrLL76quvdODAAUkVm0n95S9/sTT3F1984f08\\\n",
       "MDjx3VjIE86F4nA41LNnT7355puWzh0vn376qffzY489Vs2bN496rv/+97/ez59++mm98MILYY/5\\\n",
       "+eefvZ+Heg179Ohhugmbr1NOOcVvU7tYRPo19IzzfR0C+T528OBBy4H6xo0bvZ9v2bJFnTp1Mh3b\\\n",
       "sWPHsPP5/sEh2CZpQ4cO1cKFCyVVVBB/8MEHGj58uM4666yYrpF4uuaaa/TYY49JqghvpkyZUilk\\\n",
       "fOGFF7yVngMGDFCzZs3iuobAjb+CycvL835/ad++fcixvpu/hdu87t1339Wdd94Z0SZmu3bt8gu9\\\n",
       "4qVbt25xn9Pj3nvv1UcffaQVK1Zox44d+s9//iOp4nv7Sy+95N18ryplZGR4Pz98+LClYzx/rPKw\\\n",
       "WnmbzPMH+/5UXl6u2bNn68Ybb9TWrVt16623av369Xr22WctraMqDRgwQHXr1tWBAwe0cuVKtWvX\\\n",
       "TldddZXOO+88de3a1fQdGQAAoGYg4AUAGznppJP8dncvLi7WTz/95K3+dLvduvrqq/Xjjz/qvvvu\\\n",
       "CzrH1q1bvZ/v3r1bM2fOjHgdnp3cPX799Vfv5y1btrQ0h9Vx8bRjxw7v561bt456nuLiYv3222/e\\\n",
       "29H8sl/dXsNEnN/3Wtu0aVNcrrVAubm5YedIS0vzfu5yuSo9fvXVV2v+/PmaPXu2pIq393ve4t+y\\\n",
       "ZUudccYZ6tu3rwYNGhS2nUmiHH/88Tr99NO1bNky7dixQ++8844GDx7sN+b555/3fn711VfHfQ1W\\\n",
       "Xmvf0DnceN+xnmA6mEmTJmny5MkWVujP999oPCXy7e9paWl6+eWXdeKJJ3qDckm64447dOqppybs\\\n",
       "vKFkZ2d7P7daiRs4zncOO50/JSVFF110kbp06aJu3bpp3759eu6553TmmWdWakmSbA0bNtSzzz6r\\\n",
       "K6+8Ui6XS1u2bNGkSZM0adIkZWdnq2fPnurdu7cuuOACdenSJdnLBQAAcUaLBgCwkQEDBmjGjBne\\\n",
       "j1mzZmnhwoXavHmz3y+bU6ZM0WuvvRZ0Ds9bmGMRGMb49jcM1TfWVzz7x1rlG/jEEjjUxNcwEedP\\\n",
       "xOsUKB49Zp1Op9588009++yzlVpT/PTTT3rppZd09dVXq1mzZrr66qu1Z8+emM8ZjWuuucb7eWCb\\\n",
       "hmXLlnl78+bn5+u8886L+/kjfa3j8bX54IMP/MLdU045RU8//bRWrVqlXbt2qbS0VEbFpsEyDEO9\\\n",
       "e/f2jg3XvzlasVSjWpGTk1PpHIFhflXyrYD3/SNZKNu3b/e77VutbbfzSxV/ELzlllu8t317uVcn\\\n",
       "l156qT7//HNdeOGFfn/YKi4u1kcffaS77rpLXbt2Vffu3fXxxx8ncaUAACDeCHgBoAZo2rSp/vWv\\\n",
       "f6l///7e+/785z8HrX70DeU6derkF45Y/Zg0aZLfnL5hqdW+f77VafESLtCpV6+e9/NYNt0JDDb3\\\n",
       "7NkT8Wu4ePFivzmS/Rom4vy+r9PAgQOjutbi3UfWjMPh0FVXXaVvvvlGGzZs0NNPP60RI0b4VXq7\\\n",
       "XC4999xz6tGjh1/Fc1W5+OKLVb9+fUnSvHnz/CqkfQPfkSNH1pi3Y//973/3fj5q1Ch98sknGj16\\\n",
       "tLp06aKGDRtW6rWaqKrdquK55nft2uV3/5VXXlmp7UBVOe6447yf79y5068nrpmffvrJ+3mDBg1i\\\n",
       "qnpO9vk9fDctXbVqVUx9hROpS5cuevPNN7Vz5069/fbb+utf/6pTTjnFL/BdsWKF+vbtq9dffz2J\\\n",
       "KwUAAPFEwAsANURKSoqeffZZb6i2Z88eTZkypdK4Jk2aeD8PrHKKlu8vz76/WIdiZQMk319Iw1Vy\\\n",
       "SuErRn2fu9VNnYLJy8vzC5bi8Tom6jVM5vkTca1VhbZt22r06NGaNWuWNm7cqA0bNujmm2/2hqYb\\\n",
       "N26MqmVArDIzM3X55ZdLktxut7fv82+//eYNajxBdU3gdru1ZMkSSRXf3+6///6wVcFWr93q6rHH\\\n",
       "HtOCBQskVfxBytNHee3atfrb3/6WlDUdd9xx3p7ghmF4N04MZeXKld7Pjz/+eFuf38PzxxWp4o+J\\\n",
       "4drHRMLKxm2RbpqWl5engQMH6qGHHtLy5cu1a9cuFRYWelvruN1uXX/99dU2qAYAAJEh4AWAGqR5\\\n",
       "8+YaN26c9/aMGTMqBWtdunTxhpM7d+707tAei65du3o/993IzIxhGPrss8/CjvPdUGj37t1hx69d\\\n",
       "uzbk4yeffLL38++++85v07NI+fZC/uSTT6Kex8P3Nfziiy8svb081AZnsZzfytfQyvl79uzp/Xz1\\\n",
       "6tUJqdquCm3bttUjjzziF+rOmTMnKWvxbdPg6bn773//2/va9u7dW23atEnK2uJt165d3k21jjji\\\n",
       "CB1xxBEhx69bt65S5Wsw8WgdkQhfffWVbrvtNu/t6dOn65///Kd3vdOnT9f8+fOrfF0ZGRl+3zsD\\\n",
       "330QjCeYl6R+/frZ+vwe27Zt87sda9sHX+E2GZQU088rqeLn6ciRI7Vw4ULv/wPs2rUrrj9HAABA\\\n",
       "8hDwAkANc8stt3hbEZSWluqhhx7yezwzM9PvF97HH3885nP27dvX+/l7770XtkfpwoULLf2y2qpV\\\n",
       "K+/n4aq2SktLNXfu3JBjjjrqKL9qrmg2/fI4//zzvZ8/8cQTliqwQjn11FO9v3Tv2LFD77//fsjx\\\n",
       "RUVFcQ0Zfb+GX375pb799tuQ43/44YewwUDr1q29r/fhw4cr9Y21m4EDB3o/t9oLNJiMjAzv58E2\\\n",
       "fQulQ4cOOuWUUyRVfA2WLFni97omYnO1ZPFUbUrWNtd64oknLM0by+ufKKWlpRo2bJi3DcPQoUM1\\\n",
       "YsQI9evXT7feequkP9o3JKM9iG8P4FmzZoUcu2XLFu8mhYHH2vX8kvTOO+94P2/VqpXfdRSrcD/f\\\n",
       "ysvL49Yzt02bNmrfvr33dizfywAAQPVBwAsANUz9+vV14403em8/9dRTlQKB8ePHez+fPn26Pvzw\\\n",
       "Q8vzB3ur/dlnn60WLVpIqngbaai3EpeWlvptVhOKbwXoO++8E7I676677rJUvXfzzTd7P3/kkUei\\\n",
       "/qX52muvVV5enqSKtwNH8pb9Xbt2ye12+92Xl5enIUOGeG//7W9/CxlqjR8/PqY+woGOP/54nXrq\\\n",
       "qd7bf/nLX0yriMvLyzV27FhLobbvtXbHHXeErbL2VVVtHaxcN5J/S4pw1aSh+G4a9csvv0R8vG8V\\\n",
       "7/jx473V8PXr1/e7huyuYcOGys3NlVTxBw3fqsxAn3zyieWAN9bXPxFuvfVWffPNN5KkFi1a6Kmn\\\n",
       "nvI+du+993or7Hfs2KFRo0ZV+fpGjBjhbf+zYcMGPfvss6Zjx48f7/3+dsopp+jEE0+slue38q4Q\\\n",
       "j5UrV2rGjBne2/H+d/biiy+G7C38r3/9y++PooE/PyTr38fcbrdfNXIs38sAAED1QcALADXQzTff\\\n",
       "7N00q6SkpNKO371799aIESMkVfS2Pe+883T//febBoalpaWaPXu2Bg0a5FfF6OF0OnXPPfd4bz/3\\\n",
       "3HMaN25cpV9Yt2/frgsuuEBr1qxRenp62Odx0kkned9uXlxcrMsuu6xS38OSkhL99a9/1d///vdK\\\n",
       "Gy4FM3LkSG+Q6XK5dM455+jxxx8PWsl3+PBhzZ07VxdeeGGlx3Jzc/Xoo496b0+ePFkjRoww7QFq\\\n",
       "GIY++eQTXX/99WrZsmXQ8Pauu+7yPoe1a9fqvPPOqxRAHTp0SLfeequeeuopS69hJO677z7v28Hf\\\n",
       "f/99DRs2TPv27fMbs3//fl1xxRWaN2+epfNffvnl3orx3377Taeffrqeeuop71vvA+3fv18vvfSS\\\n",
       "+vTp4/eHikRq2bKlrr32Wi1ZssQ01P7yyy/91nPuuedGfb4OHTp4P49mk6OhQ4d6g0/fVifDhw+P\\\n",
       "a1VhsqWkpGjAgAHe2yNHjtTnn39eadxrr72mAQMGyO12V9oAMRjf1//tt982vRarynvvved9N0FK\\\n",
       "Sor++c9/ev94JEnp6el6+eWXlZWVJanij13xeOdFJI444gi/P46NHTtWr732mt8Yl8ulCRMm6JVX\\\n",
       "XvHed//994ect1WrVnI4HHI4HCE3VEzE+Tt16qSbbrrJr19voJKSEj3++OPq16+f9+dZ/fr1/f5w\\\n",
       "FQ8//vhj0O+3UsX3iOuvv77SeMk/6P3rX/+qXr166cUXXww6j1QRao8ePdob8Obk5Pj9YQ8AANiY\\\n",
       "AQCo1nr37m1IMiQZd999t+Xjxo8f7z0uOzvb2L17t9/jpaWlxtlnn+0dI8nIysoy+vbta4wYMcK4\\\n",
       "5pprjKFDhxrdunUz6tSp4x3TrVs303MOHTrUb7769esbF110kTF69GjjnHPO8c5z9NFHG+PGjbP0\\\n",
       "vF577TW/OXNzc42LLrrIuOaaa4yBAwcaeXl5hiSjWbNmxn333ecdN2LECNM5t2zZYhx77LF+8+bl\\\n",
       "5RnnnXeecfXVVxsjR440+vbta+Tk5HjPaebOO+/0m8fpdBrdunUzhg8fblx77bXG8OHDjd69exu5\\\n",
       "ubl+43777beg882cOdNvXHp6unH22Wcbo0ePNi6++GKjYcOG3vv//ve/e8f17t3bdI2R+Otf/+p3\\\n",
       "/rp16xoXXHCBMXr0aGPgwIFGdna292s7adIkS6/3rl27jK5du/rNm5OTY/Tv398YNWqU97l17NjR\\\n",
       "SE1N9Y4ZMmRI0PmOOuoo75hNmzaFfU4jRozwji8sLKz0uO+66tWrZ5xxxhnG5Zdfblx77bXGkCFD\\\n",
       "jPbt2/uNady4sfHLL79UmmfRokWWvh5PP/20d5zD4TD69u1r3HDDDcYtt9zi/dizZ0/I53T99df7\\\n",
       "rUmSsXr16rCvRaR8v/8sWrQo7PhIvza+6w/mm2++MTIzM/1er1NPPdUYOXKkMWzYMOPoo4/2PjZ6\\\n",
       "9GhL6923b5/fnK1btzZGjRpl3Hzzzd7Xf8GCBTG9DlZfj+3btxtHHHGEd8yECRNM53riiSe84zIz\\\n",
       "M41169ZZXkc8HD582OjXr5/f16xjx47GiBEjjEsuucTIz8/3e2zy5Mlh5/R9fUJ9D0nE+X2/Jzdq\\\n",
       "1Mg488wzjcsvv9y47rrrjCuvvNLo1auXUbduXb85s7OzjaVLl0byspnyvaaaNm3q/f5z/vnnG9dc\\\n",
       "c40xfPhwv59TJ5xwgt/PmUsvvdQYMGCAdz7f73NOp9No3769cfHFFxujR482Lr/8cqNv375Genq6\\\n",
       "3/N5+umn4/JcAABA8hHwAkA1F23Au3PnTr9fTu+4445KY8rKyow777zTyMrKqhQWBftIS0szxowZ\\\n",
       "Y3rOw4cP+/2SGeyjXbt2xvr16427777b8vOaPHlyyDmPO+444+uvvzYKCwsthwW7d+82LrzwQkvP\\\n",
       "+8gjjww516uvvmo0a9bM0lySjB49ehilpaWm802bNs0vVA/8yM3NNd5++23LgWKkJkyYYKSkpJie\\\n",
       "v1mzZsby5csjer1LSkqM6667zi/ADfWRmZlpTJkyJehc8Q54PaG1lY/OnTsb69evD3oeq1+Pw4cP\\\n",
       "G7169Qp5nnDPa/Xq1X7ju3fvHvZ1iEayA17DMIzZs2eH/R51zTXXGKWlpZbX+8QTTxgOh8N0vsDv\\\n",
       "SYkKeM8991y/r+Hhw4dDzjdw4EDv+C5duhiHDh2yvJZ42LdvX6U/5AX7OXHfffdZmi+SgDfe5/cN\\\n",
       "1q189OnTx/TffjR8r6lXXnnFaN26tem5zzrrLGPXrl1G/fr1K30/8rjhhhssP5d69eoR7gIAUMPQ\\\n",
       "ogEAaqjGjRvrz3/+s/f29OnTK71t0+l06v/9v/+nzZs36+GHH9Y555yjli1bKisrS2lpaWrYsKFO\\\n",
       "PPFEjRgxQrNmzdIvv/zi14cwUFpammbNmqWPPvpIl1xyiZo3b6709HQ1adJEp512mqZOnaovvvhC\\\n",
       "7dq1i+i53HXXXVq+fLkuu+wy75yNGjXSySefrMcee0xffvml36YxVjRo0EBvvvmmPv/8c40bN05d\\\n",
       "unRRo0aN5HQ6lZ2drXbt2unSSy/VrFmztGHDhpBzDR06VD/++KNmzZqlyy67TMccc4xyc3PldDqV\\\n",
       "k5Oj448/XhdddJEeffRRbdiwQZ999lnIdhI33nijvvrqK91444069thjlZmZqby8PHXs2FG33Xab\\\n",
       "vvrqq6CtMuLl/vvv1+eff65Ro0apVatWqlOnjho2bKhu3brpvvvu05o1a7wbfVmVmZmpJ554Qt9/\\\n",
       "/73uuece9e3bV0ceeaQyMjKUnp6uxo0bq2fPnrrmmmv06quvavv27brtttsS9Az97d69Wx988IHu\\\n",
       "uOMO9e/fX61bt1bdunXldDpVr149HX/88br88sv11ltvaeXKlRFfv4HS0tL04Ycf6oknntCf/vQn\\\n",
       "NW3aNOJ2G507d1br1q29t2vS5mqBBg0apK+//lo33HCD2rZtq4yMDGVnZ6tt27YqKCjQkiVL9NRT\\\n",
       "T1lq0eJx3XXX6eOPP9YVV1yhtm3bqm7dut72JFVl+vTpmjdvniSpbt26eumll5SWlhbymOeee075\\\n",
       "+fmSKjbmmjhxYsLX6Ss3N1evvvqqPvjgA11++eVq06aNsrKylJubqw4dOuiWW27RmjVrEraueJ5/\\\n",
       "8+bNeu+993Tbbbfp7LPPVuvWrZWdna2UlBRlZ2erefPm+tOf/qTbbrtNq1at0qJFi2L+t2+madOm\\\n",
       "WrlypSZOnKjjjz/e+5xOPvlkPfnkk5o/f74aNmyo//znPzr++OOVmZmprl276qabbvLOMX36dK1b\\\n",
       "t07Tpk3TsGHD1LlzZ9WvX1+pqanKyMjQkUceqbPPPlsPP/ywfvjhB40ePTohzwUAACSHwzBi3PYb\\\n",
       "AAAAVWrz5s1q3bq1DMNQ3bp1tXXrVuXk5CR7WQAs6tOnj3fjwEWLFqlPnz7JXRAAALA1KngBAABs\\\n",
       "5vnnn5fnb/RDhw4l3AUAAABqMQJeAAAAGyktLdUzzzzjvX3dddclcTUAAAAAko2AFwAAwEbuuOMO\\\n",
       "bd++XZJ06qmnqkePHkleEQAAAIBkSk32AgAAAGBu/vz5mj9/vg4ePKjPP/9cq1evliQ5HA7df//9\\\n",
       "yV0cAAAAgKQj4AUAAKjGPv30U02dOrXS/bfeeqt69eqVhBUBAAAAqE4IeAEAAGwiKytLHTt21PXX\\\n",
       "X68rr7wy2csBAAAAUA04DM8WzAAAAAAAAAAAW2GTNQAAAAAAAACwKQJeAAAAAAAAALApAl4AsKHS\\\n",
       "0lL9+c9/1n333ZfspQBeXJeorrg2ES9cSwAAoDoi4AUAG/rwww/15JNP6tdff/Xe1717dzkcjog+\\\n",
       "GjduXOVr37x5sxwOh/r06VPl50ZiJeq6fP3119WnTx/Vr19fdevWVefOnfXQQw/J5XIFXQfXGAIF\\\n",
       "uzZ9uVwuvfDCCzrvvPPUrFkz1alTR7m5uTrmmGN0zjnn6MEHH9SWLVu847nGai9+/gIAgOooNdkL\\\n",
       "AABEbvbs2ZKkwYMHS5IMw1DXrl3VoUMHv3GbNm3S0qVLlZ2drSFDhlSap127doleKmqRRFyX48aN\\\n",
       "09SpU5Wamqp+/fopOztbCxcu1Pjx4zV37ly9//77yszMTNhzQs0QeG36+v7773XRRRfp66+/VlZW\\\n",
       "lrp27apevXrp8OHDWrdunRYsWKAFCxaoW7duatGiRdUuHNUOP38BAEB1RMALADZTXl6uuXPnqmHD\\\n",
       "hjrjjDMkSQ6HQ88880ylsffee6+WLl2qnj17atasWVW8UtQmibguZ8+eralTpyo7O1tLlizRiSee\\\n",
       "KEnatWuX+vXrp2XLlunOO+/Uww8/nJDnhJoh2LXpsXfvXvXt21e//PKLbrrpJt1xxx1q0KCB35gf\\\n",
       "f/xRTz31lE466aSqXDaqIX7+AgCA6ooWDQBgM8uXL9fOnTt1/vnny+l0hhy7atUqSfIGY7EaOXKk\\\n",
       "HA6HFi9eHJf5UHMk4rqcMmWKJGnChAl+Yxs1aqTHH39ckjRjxgwVFRXFsnTUcKGuzYcffli//PKL\\\n",
       "BgwYoH/84x+Vwl1Jat26tR588EHl5uZW1ZJRTSXz5y8AAEAoBLwAYDOh3mocaOXKlZKkrl27JnBF\\\n",
       "QPyvy19++UVffPGFJGnYsGGVHj/99NPVokULHTp0SO+9917kC0atEera/OCDDySpUmUvEAw/fwEA\\\n",
       "QHVFwAsANvP2228rMzNTZ599dshxe/fu1ebNmyVRQYTEi/d16al+a9CggY4++uigY7p37+43Fggm\\\n",
       "1LV58OBBSdLSpUvldruremmwGX7+AgCA6oqAFwBs5Ouvv9YPP/ygs88+W1lZWSHHekKv7OxsHXvs\\\n",
       "sVWxPNRSibguN23aJElq2bKl6RjPhleesUCgcNdmr169JEnz5s3Tscceq/Hjx+uDDz5QcXFxVS8V\\\n",
       "1Rw/fwEAQHVGwAsANhLJ20M9v2B27txZKSl8u0fiJOK6/O233yRJdevWNR2TnZ0tSdq/f7/FlaK2\\\n",
       "CXdtTpkyRYMGDZJU8YeChx56SGeffbYaNGigc845R3Pnzq2ilaK64+cvAACozlKTvQAAgHWzZ8+W\\\n",
       "0+nUBRdcEHZsLP3/nn32WS1btqzS/Z77HnjggaC7gk+YMEHt2rWL+Hywt6q6LoFIhbs2c3NzNXv2\\\n",
       "bH3//fd688039eGHH2r58uUqKSnRggULtGDBAt166636+9//XsUrR3VTVd/n/va3v2nOnDkRH/fs\\\n",
       "s8/q9NNPj/g4AABQMxDwAoCNbNmyRfXq1VNeXl7YsbHs4L1s2TK98MILpo8vWLAg6P0jR44k4K2F\\\n",
       "EnFd1qtXT5J04MAB0zGet9Hn5ORYXClqG6vXpqc9w/jx43X48GF98MEH+tvf/qZ169bpkUce0XXX\\\n",
       "Xac2bdpUzaJRLVXVz9+tW7dqw4YNER9HWxEAAGo33jMEADZy/vnna9++fUGra32VlJR4f0GMpoJo\\\n",
       "1qxZMgyj0seIESMkSYsWLQr6eJ8+fSI+F+wvEddlq1atJFWEKmY8j3nGAoGsXpu+0tPTdd555+n5\\\n",
       "55+XJBmGobVr1yZqibCJqvr5+69//Svoz9dwH+ecc05UzwsAANQMBLwAYCOe3n+eXoBm1qxZo/Ly\\\n",
       "cqWnp6t9+/aJXxhqtURcl55gZPfu3aabqH355ZeS2KUe5qxem8F4NvGT/uj3jNqLn78AAKA6I+AF\\\n",
       "ABs566yzVLduXb399tshx3n6/3Xo0EFpaWlVsTTUYom4Lps3b66TTjpJkvTyyy9XenzZsmXasmWL\\\n",
       "6tSpowEDBkS5ctR0ZtemYRhhj/UEefXq1dOpp56aiOXBRvj5CwAAqjMCXgCwkYyMDPXv31+bNm3S\\\n",
       "mjVrTMfF0v8PiFSirsuJEydKqtjUzxOaSBVVvddff70k6YYbblBubm60S0cNZ3Zt3n777bruuuv0\\\n",
       "zTffVDrm4MGDmjFjhm655RZJFddfVlZWla0Z1RM/fwEAQHVGwAsANmPlbaKx7OANRCMR1+XgwYM1\\\n",
       "duxYFRcX6+STT9a5556riy++WMccc4zWrl2r0047Tffcc0+sS0cNF+zaXLZsmZ566il16NBBrVu3\\\n",
       "1qBBgzRs2DD16dNHzZs314033ihJmjp1qvePCQA/fwEAQHVFwAsANnP++ecrNTXV9BdMl8vlrUqj\\\n",
       "gghVJVHX5dSpU/Xqq6/qlFNO0fLly/Xee++pefPmeuCBB7Rw4UJlZmbGY/mowYJdm08//bSmTp2q\\\n",
       "gQMHKjMzU8uWLdPrr7+utWvXqm3btrrjjju0YcMGjR07NnkLR7XDz18AAFBdpSZ7AQCAyNSvX1+9\\\n",
       "evXSwoUL9b///U9HHXWU3+NpaWk6dOhQQs49a9YszZo1KyFzw94SeV0OHTpUQ4cOjccyUQsFuzbb\\\n",
       "tWundu3aEeAiIsn8+QsAABAKFbwAYEOx7AwPJArXJaorrk3EC9cSAACojgh4AcCG+AUT1RHXJaor\\\n",
       "rk3EC9cSAACojmjRAAA21KJFCxmGkexlAH64LlFdcW0iXriWAABAdUQFLwAAAAAAAADYFBW8AIAq\\\n",
       "lZeXp7vvvlutWrVK9lJQQ3GNIdG4xmBHXLcAANRcDoP3GAEAAAAAAACALdGiAQAAAAAAAABsioAX\\\n",
       "AAAAAAAAAGyKgBcAAAAAAAAAbIqAFwAAAAAAAABsioAXAAAAAAAAAGyKgBcA4HXo0CFNmjRJhw4d\\\n",
       "SvZSUAtx/SGZuP6QTFx/AAAgFg7DMIxkLwIAUD3s379fubm5KioqUk5OTrKXg1qG6w/JxPWHZOL6\\\n",
       "AwAAsaCCFwAAAAAAAABsioAXAAAAAAAAAGwqNdkLAOCvvLxcW7duVb169eRwOJK9HNQy+/fv9/sv\\\n",
       "UJW4/pBMXH9IJq4/JJNhGPrtt9/UrFkzpaRQAwYAdkQPXqCa+fnnn9WiRYtkLwMAAABALbJlyxY1\\\n",
       "b9482csAAESBCl6gmqlXr56kiv/BYpMNVDWXy6X3339fZ599ttLS0pK9HNQyXH9IJq4/JBPXH5Jp\\\n",
       "//79atGihff3EACA/RDwAtWMpy1DTk4OAS+qnMvlUlZWlnJycvgFE1WO6w/JxPWHZOL6Q3VAezgA\\\n",
       "sC8a7AAAAAAAAACATRHwAgAAAAAAAIBNEfACAAAAAAAAgE0R8AIAAAAAAACATRHwAgAAAAAAAIBN\\\n",
       "EfACAAAAAAAAgE0R8AIAAAAAAACATRHwAgAAAAAAAIBNEfACAAAAAAAAgE0R8AIAAAAAAACATRHw\\\n",
       "AgAAAAAAAIBNEfACAAAAAAAAgE0R8AIAAAAAAACATRHwAgAAAAAAAIBNEfACAAAAAAAAgE0R8AIA\\\n",
       "AAAAAACATRHwAgAAAAAAAIBNEfACAAAAAAAAgE0R8AIAAAAAAACATRHwAgAAAAAAAIBNEfACAAAA\\\n",
       "AAAAgE0R8AIAAAAAAACATRHwAgAAAAAAAIBNEfACAAAAAAAAgE0R8AIAAAAAAACATRHwAgAAAAAA\\\n",
       "AIBNEfACAAAAAAAAgE0R8AIAAAAAAACATRHwAgAAAAAAAIBNEfACAAAAAAAAgE0R8AIAAAAAAACA\\\n",
       "TRHwAgAAAAAAAIBNEfACAAAAAAAAgE0R8AIAAAAAAACATRHwAgAAAAAAAIBNEfACAAAAAAAAgE0R\\\n",
       "8AIAAAAAAACATRHwAgAAAAAAAIBNEfACAAAAAAAAgE0R8AIAAAAAAACATRHwAgAAAAAAAIBNEfAC\\\n",
       "AAAAAAAAgE0R8AIAAAAAAACATRHwAgAAAAAAAIBNEfACAAAAAAAAgE0R8AIAAAAAAACATRHwAgAA\\\n",
       "AAAAAIBNEfACAAAAAAAAgE0R8AIAAAAAAACATRHwAgAAAAAAAIBNEfACAAAAAAAAgE0R8AIAAAAA\\\n",
       "AACATRHwAgAAAAAAAIBNEfACAAAAAAAAgE0R8AIAAAAAAACATRHwAgAAAAAAAIBNEfACAAAAAAAA\\\n",
       "gE0R8AIAAAAAAACATRHwAgAAAAAAAIBNEfACAAAAAAAAgE0R8AIAAAAAAACATRHwAgAAAAAAAIBN\\\n",
       "EfACAAAAAAAAgE0R8AIAAAAAAACATRHwAgAAAAAAAIBNEfACAAAAAAAAgE0R8AIAAAAAAACATRHw\\\n",
       "AgAAAAAAAIBNEfACAAAAAAAAgE0R8AIAAAAAAACATRHwAgAAAAAAAIBNEfACAAAAAAAAgE0R8AIA\\\n",
       "AAAAAACATRHwAgAAAAAAAIBNEfACAAAAAAAAgE0R8AIAAAAAAACATRHwAgAAAAAAAIBNEfACAAAA\\\n",
       "AAAAgE0R8AIAAAAAAACATRHwAgAAAAAAAIBNEfACAAAAAAAAgE0R8AIAAAAAAACATRHwAgAAAAAA\\\n",
       "AIBNEfACAAAAAAAAgE0R8AIAAAAAAACATRHwAgAAAAAAAIBNEfACAAAAAAAAgE0R8AIAAAAAAACA\\\n",
       "TRHwAgAAAAAAAIBNEfACAAAAAAAAgE0R8AIAAAAAAACATRHwAgAAAAAAAIBNEfACAAAAAAAAgE0R\\\n",
       "8AIAAAAAAACATRHwAgAAAAAAAIBNEfACAAAAAAAAgE0R8AIAAAAAAACATRHwAgAAAAAAAIBNEfAC\\\n",
       "AAAAAAAAgE0R8AIAAAAAAACATRHwAgAAAAAAAIBNEfACAAAAAAAAgE0R8AIAAAAAAACATRHwAgAA\\\n",
       "AAAAAIBNEfACAAAAAAAAgE0R8AIAAAAAAACATRHwAgAAAAAAAIBNEfACAAAAAAAAgE0R8AIAAAAA\\\n",
       "AACATRHwAgAAAAAAAIBNEfACAAAAAAAAgE0R8AIAAAAAAACATRHwAgAAAAAAAIBNEfACAAAAAAAA\\\n",
       "gE0R8AIAAAAAAACATaUmewEAUJsUFRWppKQk2csw5Xa7JUk7duyQ0+lM8mrMZWVlKTc3N9nLAAAA\\\n",
       "AAAg6Qh4AaCKFBUVaea0aXKVlyd7KaZSUlLUqVMnFRYWqrwarzMtJUVjxo4l5AUAAAAA1HoEvABQ\\\n",
       "RUpKSuQqL9eFb7yhxrt2JXs5QbkzMrTi0UdVUFgoZ2lpspcT1K+NGumtIUNUUlJCwAsAAAAAqPUI\\\n",
       "eAGgijXetUv527YlexlBuTIzJUlNtm9X2sGDSV4NAAAAAAAIh03WAAAAAAAAAMCmCHgBAAAAAAAA\\\n",
       "wKYIeAEAAAAAAADApgh4AQAAAAAAAMCmCHgBAAAAAAAAwKYIeAEAAAAAAADApgh4AQAAAAAAAMCm\\\n",
       "CHgBAAAAAAAAwKYIeAEAAAAAAADApgh4AQAAAAAAAMCmCHgBAAAAAAAAwKYIeAEAAAAAAADApgh4\\\n",
       "AQAAAAAAAMCmCHgBAAAAAAAAwKYIeAEAAAAAAADApgh4AQAAAAAAAMCmCHgBAAAAAAAAwKYIeAEA\\\n",
       "AAAAAADApgh4AQAAAAAAAMCmCHgBAAAAAAAAwKYIeAEAAAAAAADApgh4AQAAAAAAAMCmCHgBAAAA\\\n",
       "AAAAwKYIeAEAAAAAAADApgh4AQAAAAAAAMCmCHgBAAAAAAAAwKYIeAEAAAAAAADApgh4AQAAAAAA\\\n",
       "AMCmUpO9AAAAUDsUFRWppKTE9HG32y1J2rFjh5xOp+m4rKws5ebmxn19AAAAAGBHBLwAACDhioqK\\\n",
       "NHPaDLnKy0zHpKSkqFOnTiosLFR5ebnpuLSUVI0ZewMhLwAAAACIgBcAAFSBkpISucrLdOEbTdV4\\\n",
       "V3rQMe4MacWjUkFhczlLg8/za6PDemvIdpWUlBDwIipmleThKsipHAcAAEB1RcALxNnu3bt1++23\\\n",
       "q0OHDrrhhhuSvRwAqFYa70pX/raMoI+5Miv+22R7htIOVuGiUGtUVJLPlKvcVemxcBXkaSlpGjN2\\\n",
       "DCEvYhbsjwyh/sDAHxcAAEA4BLyoljZv3qyjjz5avXv31uLFi733d+/eXStWrIhorkaNGunXX3+N\\\n",
       "8wrNNWzYUPPnz9e///1vXXvttUpLS6uycwMAAHMVleQu9XvjQtXf1djvsfIMtzY9ukKDCguUUuof\\\n",
       "sO1t9KsWDnmLynHErOKPDNPlKnf73R/qDwxpKU6NGXsj1x4AADBFwAvbMAxDXbt2VYcOHfzu37Rp\\\n",
       "k5YuXars7GwNGTKk0nHt2rWrqiV6DRo0SNOmTdPChQvVv3//Kj8/AAAwV39XYzXelu93X1mmS5sk\\\n",
       "NdzeRKkH+eMsEqPijwxuXfjGVjXeddh7vzsjVSse7aSCwp/kLP2jV/mvjdL11pBm/HEBAACERMAL\\\n",
       "23A4HHrmmWcq3X/vvfdq6dKl6tmzp2bNmlX1Cwti8ODBmjZtmmbPnk3ACwAAAD+Ndx1W/rZD3tuu\\\n",
       "zIqK3ibbDyntoPlmlAAAAMGkJHsBQKxWrVolSTrxxBPjMt/IkSPlcDj8WkNEqlevXmrQoIHmzJkj\\\n",
       "wzDisi4AAAAAAAAgEAEvbG/lypWSpK5duyZ5JX9wOp06//zztXXrVn3++efJXg4AAAAAAABqKFo0\\\n",
       "wNb27t2rzZs3S4pfBW+8DB48WC+++KJmz56tnj17mo47dOiQDh364y16+/fvlyS5XC65XJV3+YZ9\\\n",
       "ud1upaSkyJ2RIVdmZrKXE5RnXdV1fZLkzsioeB3dbv6N2Mgf17/kMrm8PPebPS5J7gzx9UfUPNdh\\\n",
       "eYZbZZn+14/799vuzMrXVXmGm+sOcfHH98JUb1sGSXJlpvr91zs+I5VrDwnHtQUA9ucweP84qqHN\\\n",
       "mzfr6KOPVu/evUO2Sli4cKHOPPNMZWdnq6ioSCkpsReljxw5Ui+88IIWLVqkPn36RD1PSUmJGjVq\\\n",
       "pKOOOkrr1683HTdp0iRNnjy50v0vv/yysrKyoj4/AAAAAIRTUlKiYcOGqaioSDk5OcleDgAgClTw\\\n",
       "wtY8/Xc7d+4cl3A3nrKysnTWWWdpzpw5+u6779S2bdug42677TbdfPPN3tv79+9XixYtdPbZZ/M/\\\n",
       "WDXMjh07VFhYqILCQjXZvj3ZywnKlZmpD55/XmeNGqW0gweTvZygdjRtqsKCAhUUFKhJkybJXg4s\\\n",
       "+uP6b64m2zOCjnFlSh88n6WzRpUozeTy29G0VIUFP/P1R1Q81+GgwgI13O5//bgzXVr1/AfqOuos\\\n",
       "OQ+m+T22u+kOvV1QyHWHmP3xvfAnNdnuu8laqj54fpDOGvW23yZrO5rWUWFBS649JJTnHYQAAPsi\\\n",
       "4IWtxdJ/99lnn9WyZcsq3e+574EHHtCsWbMqPT5hwgS1a9fO0jkGDx6sOXPm6K233tL48eODjqlT\\\n",
       "p47q1KlT6f60tDSlpaUFOQJ25XQ6VV5eLmdpabUNTz3SDh6stmt0lpZWvI5OJ/9GbOSP61+m4a1H\\\n",
       "2kHzMc5S8fVH1DzXYUqpU6kHg18/zoNplR5LKXVy3SEu/vheWOYX5HqkHfS/38m1hyrAtQUA9kfA\\\n",
       "C1vzVPBG03932bJleuGFF0wfX7BgQdD7R44caTngbdmypSRpy5YtEa8PAAAAAAAACKd6vacdiEBJ\\\n",
       "SYk2bNggKboK3lmzZskwjEofI0aMkCQtWrQo6OOR9OWdO3euJOn888+PeH0AAAAAAABAOFTwwrbW\\\n",
       "rFmj8vJypaenq3379sleTlBvv/22cnJy1K9fv2QvBQAAANXEr43S/W67Myp+LdvRtI6cpU7TcQAA\\\n",
       "AMEQ8MK2PP13O3ToUC37Rq1evVqbN2/WJZdcovR0/uccAIDqYm+jXyvdV57hllSxoVqKT8BmNh6I\\\n",
       "RlZWltJSnHprSDO/+1NSUtRJUmFBS5WXl/s9lpbiVFZWVhWuEgAA2A0BL2wrlv67VWH27NmSKjZa\\\n",
       "AwAAyVcRrqVp4ZC3Kj1WEbB10tsFhZUCNklKS0kjZEPMcnNzNWbsjSopKfG73+12a8WKFSooKJDT\\\n",
       "6f8HhqysLOXm5lblMgEAgM0Q8MK2PBW80fTfrQqzZ89Wenq6BgwYkOylAEC18Wujw6aPuTMkKUs7\\\n",
       "mpbKWRr58UA4FeHamErhmhQ6YJMI2RA/ubm5la4ll8slSWrSpEm1fGcaAACo3gh4YUsul0vffPON\\\n",
       "pOpZwbt582atWbNG/fv3V05OTrKXAwBJV1E5maq3hmw3HVNRQdlAhQU/B62g9EhLSaWSElELFq5J\\\n",
       "BGwAAACwLwJe2FJaWpoOHTqUkLlnzZqlWbNmxTQH7RkAwF9F5eQNQSsnPcJVUHpQSQkAAAAAfyDg\\\n",
       "BRJg9uzZcjgcGjRoULKXAgDVhlnlpAcVlAAAAAAQuZRkLwCoaXbv3q1ly5apR48eys/PT/ZyAAAA\\\n",
       "AAAAUINRwQvEWcOGDVVWVpbsZQAAAAAAAKAWoIIXAAAAAAAAAGyKCl5US3l5ebr77rvVqlWrZC8F\\\n",
       "AAAAAAAAqLYIeFEt5eXladKkScleBgAAAAAAAFCt0aIBAAAAAAAAAGyKgBcAAAAAAAAAbIqAFwAA\\\n",
       "AAAAAABsioAXAAAAAAAAAGyKgBcAAAAAAAAAbIqAFwAAAAAAAABsioAXAAAAAAAAAGyKgBcAAAAA\\\n",
       "AAAAbIqAFwAAAAAAAABsioAXAAAAAAAAAGyKgBcAAAAAAAAAbIqAFwAAAAAAAABsioAXAAAAAAAA\\\n",
       "AGyKgBcAAAAAAAAAbIqAFwAAAAAAAABsioAXAAAAAAAAAGyKgBcAAAAAAAAAbIqAFwAAAAAAAABs\\\n",
       "ioAXAAAAAAAAAGyKgBcAAAAAAAAAbIqAFwAAAAAAAABsioAXAAAAAAAAAGyKgBcAAAAAAAAAbCo1\\\n",
       "2QsAgNrm10aNkr0EU+6MDEnSjqZN5SwtTfJqgqvOrx8AAAAAAFWNgBcAqkhWVpbSUlL01pAhyV6K\\\n",
       "qZSUFHWSVFhQoPLy8mQvx1RaSoqysrKSvQwAAAAAAJKOgBcAqkhubq7GjB2rkpKSZC/FlNvt1ooV\\\n",
       "K1RQUCCn05ns5ZjKyspSbm5uspcBAAAAAEDSEfACQBXKzc2t1sGky+WSJDVp0kRpaWlJXg0AAAAA\\\n",
       "AAiHTdYAAAAAAAAAwKYIeAEAAAAAAADApgh4AQAAAAAAAMCmCHgBAAAAAAAAwKYIeAEAAAAAAADA\\\n",
       "pgh4AQAAAAAAAMCmCHgBAAAAAAAAwKYIeAEAAAAAAADApgh4AQAAAAAAAMCmCHgBAAAAAAAAwKYI\\\n",
       "eAEAAAAAAADApgh4AQAAAAAAAMCmCHgBAAAAAAAAwKYIeAEAAAAAAADApgh4AQAAAAAAAMCmCHgB\\\n",
       "AAAAAAAAwKYIeAEAAAAAAADApgh4AQAAAAAAAMCmCHgBAAAAAAAAwKYIeAEAAAAAAADApgh4AQAA\\\n",
       "AAAAAMCmCHgBAAAAAAAAwKYIeAEAAAAAAADApgh4AQAAAAAAAMCmCHgBAAAAAAAAwKYIeAEAAAAA\\\n",
       "AADApgh4AQAAAAAAAMCmCHgBAAAAAAAAwKYIeAEAAAAAAADApgh4AQAAAAAAAMCmCHgBAAAAAAAA\\\n",
       "wKYIeAEAAAAAAADApgh4AQAAAAAAAMCmCHgBAAAAAAAAwKYIeAEAAAAAAADApgh4AQAAAAAAAMCm\\\n",
       "CHgBAAAAAAAAwKYIeAEAAAAAAADApgh4AQAAAAAAAMCmCHgBAAAAAAAAwKYIeAEAAAAAAADApgh4\\\n",
       "AQAAAAAAAMCmCHgBAAAAAAAAwKYIeAEAAAAAAADApgh4AQAAAAAAAMCmCHgBAAAAAAAAwKYIeAEA\\\n",
       "AAAAAADApgh4AQAAAAAAAMCmCHgBAAAAAAAAwKYIeAEAAAAAAADApgh4AQAAAAAAAMCmCHgBAAAA\\\n",
       "AAAAwKZSk70AAADgr6ioSCUlJcleRpVzu92SpB07dsjpdCZ5NVUvKytLubm5yV4GAAAAAJsh4AUA\\\n",
       "oBopKirSzGnT5CovT/ZSqlxKSoo6deqkwsJCldfC55+WkqIxY8cS8gIAAACICAEvAADVSElJiVzl\\\n",
       "5brwjTfUeNeuZC+nSrkzMrTi0UdVUFgoZ2lpspdTpX5t1EhvDRmikpISAl4AAAAAESHgBQCgGmq8\\\n",
       "a5fyt21L9jKqlCszU5LUZPt2pR08mOTVAAAAAIA9sMkaAAAAAAAAANgUAS8AAAAAAAAA2BQBLwAA\\\n",
       "AAAAAADYFAEvAAAAAAAAANgUAS8AAAAAAAAA2BQBLwAAAAAAAADYFAEvAAAAAAAAANgUAS8AAAAA\\\n",
       "AAAA2BQBLwAAAAAAAKpMmzZt5HA4gn68//77yV4eYDsEvAAAAAAAAKgy//73vyVJX3zxhbZt26bP\\\n",
       "PvvMe/vMM89M5tIAWyLgBQAAAAAAQJXZuXOnsrOz1a1bNzVt2lTbt2/33nY6ncleHmA7BLwAAAAA\\\n",
       "AACoMmvXrlX79u3lcDgkSV999ZU6dOjgvQ0gMgS8AAAAAAAAqDJff/21Onbs6L29Zs0av9sAIkPA\\\n",
       "CwAAAAAAgCqzdu1adejQwe82AS8QPQJeAAAAAAAAVImysjJ9++233kDXMAz9+OOPatmyZZJXBtgX\\\n",
       "AS8AAAAAAACqxHfffafDhw97K3gdDoc6dOig6667Tj/88EOSVwfYU2qyFwAAAAAAAIDa4YQTTpBh\\\n",
       "GH73rVy5MkmrAWoGKngBAAAAAAAAwKYIeAEAAAAAAADApmjRAAAAAAAAgCrhcDgsjQts4wDAHAEv\\\n",
       "AAAAAAAAqgTBLRB/tGgAAAAAAABAlbn//vvVvXt31atXT02aNNHQoUO1efPmZC8LsC0CXgAAAAAA\\\n",
       "AFSZJUuW6MYbb9Rnn32m+fPna8+ePTr33HNVVlaW7KUBtkSLBgAAAAAAAFSZ+fPn+91+5pln1Lp1\\\n",
       "a61bt06dOnVK0qoA+6KCFwAAAAAAAElTVFQkSWrQoEGSVwLYEwEvAAAAAAAAksLtduvWW2/VgAED\\\n",
       "1Lx582QvB7AlWjQAAAAAAACgyhmGoeuuu04//fSTPvnkk2QvB7AtAl4AAAAAAABUKcMwdP311+vD\\\n",
       "Dz/U0qVL1bhx42QvCbAtAl4AAAAAAABUGcMwNGbMGL377rtasmSJWrRokewlAbZGwAsAAAAAAIAq\\\n",
       "M2bMGL3yyiuaO3euMjMztX37dkkVm6ylp6cneXWA/RDwAgAAAAAAoMo88cQTkqQzzjjD7/5Fixap\\\n",
       "T58+SVgRYG8EvAAAAAAAAKgyhmEkewlAjZKS7AUAAAAAAAAAAKJDwAsAAAAAAAAANkXACwAAAAAA\\\n",
       "AAA2RcALAAAAAAAAADZFwAsAAAAAAAAANkXACwAAAAAAAAA2RcALAAAAAAAAADaVmuwFAAAAAAAA\\\n",
       "oGYpLS3Vtm3b/D727dunsrIyvw9JSk1N9fvIy8tTfn6+30dGRkaSnxFQfRHwAgAAAAAAICJut1vf\\\n",
       "fvutVqxYoW+++UZbt271Brm/bPtJRXuLleJ0KLdJpurlO1W3maG6eS6lpBlypJXLkVqulJQUNdjU\\\n",
       "X7tbfCBnebnKXSkqdzl0aF+a9m91aN82t/btOCi321Bu/Ww1zW+iZvnNdWR+CzVr1kzt27dXt27d\\\n",
       "1K5dOzmdzmS/JEDSEPACAAAAAADAVFlZmTfM9XysXr1a5SpT8y65yu1YprTjDii9z2G1zJdObCbV\\\n",
       "zZcyGxlKcZZ452kQMG+Kq45OeG+01g1YqKy0wz6PHPJ+lueWftsl7dtWrH1bi7Vv20bt2yat/7m+\\\n",
       "5j+Zqu9W71OKw6kuXbqqW7fu6tatmzf0TU0l9kLtwJUOAAAAAAAAL5fLpaVLl+rdd9/Vp59+qtWr\\\n",
       "V8lwGGrRtaHyuhlKvXaXTu/mUst2Uorz10rHZ8dxLSlOKbdJxcdRXf64v772SpLcZdLP37r0w4r/\\\n",
       "6seVX2r5M4217vrdkuFQly5ddfLJJ+u8885Tr169lJaWFseVAdUHAS8AAAAAAEAtt2fPHs2bN09z\\\n",
       "587VvHnzlFbXqTbnN9ChP/+oXt0M1TtOcji3+h2TkqS1+nKmSkd1qPg4c4RL2doqt1vaskH6ccU6\\\n",
       "rf94p4ZfMUulJeU655xzNHDgQJ177rmqX79+spcOxA0BLwAAAAAAQC30/fffa+7cuZozZ44++eQT\\\n",
       "HdEhR/UHlqrDrSXKOVFypFRUycazIrcqOJ1SqxOkVicUqd8VRfpzufT9SumbOSv0wN+Xa8SIETr9\\\n",
       "9NN1wQUXaODAgTrmmGOSvWQgJgS8AAAAAAAAtcTWrVtVWFiol156SRs3blS7vq11aOhmdXixTPkt\\\n",
       "90Q0115JkdTB7lHlPrxVISVFOqW7dEr3H3T1/5O2/SR9/M6nenvOOt122wS1aXOMhg8froKCAjVr\\\n",
       "1iwJKwRiUx2q6QEAAAAAAJAgbrdb7777rgYNGqRWrVrpPx+/rCaTDqvTrsPKnP+t8q4vVZ2W8Ttf\\\n",
       "cYTj65rcn6gwOL+lNPT6Uk2fv1Nf7HLp+kk/atHHL6tVq1YaPHiw3n33Xbnd7gSdHYg/Al4AAAAA\\\n",
       "AIAaaM+ePXrwwQd19NFHa9S1o7Sn8xY1/86lOvPX6eDQjXLWszZPpIFtoplVDUfTSiK7njRg6CE9\\\n",
       "PX+dPvzOpTYdf9I11xTo6KOP1kMPPaQ9eyKragaSgYAXAAAAAACgBlm3bp2uu+46tWjRQv+a94KO\\\n",
       "nFpHOZt3asf/W6XUVubH1dQo02olcPNW0ph7VmnR/37V7Y/t1DvvFqpFixa67rrrtG7dukQuEYgJ\\\n",
       "PXgBAAAAIEGKiopUUlIScoznbcA7duyQ0+kMOTYrK0u5ublxWx+AmmX9+vW6/fbbNW/ePOVfVl+N\\\n",
       "PzmoQ13W65Akh8+4ZPXCrW7MKn5TU6WhFx3S0Iu+1drVDj077Qt169ZN5557rqZMmaJ27dpV6TqB\\\n",
       "cAh4AaAWCfdLptVfMPnlEgCA8IqKijRz2nS5ykP3cUxJSVGnTp1UWFio8vLykGPTUpwaM/ZGfg4D\\\n",
       "8LNlyxZNnjxZL730kjqPOkG5m0p1qOk20962sK5jF0NTn1+piVOkR+5Zrq5du2r48OGaNGmSmjdv\\\n",
       "nuzlAZIIeAGg1igqKtLMGdPkKjP/xdHqL5hpqSkac8NYfrkEACCEkpISucrduvCNL9V412+m49wZ\\\n",
       "6VrxaCcVFH4sZ+lh03G/Nqqnt4Z0V0lJCT+DAUiq6LF7//33a+bMmWo36BjlrC3VlmNWylOqcUDm\\\n",
       "G5iZzqng1b3FCl7xulfmPXHtKtjzadJUemjmDt08Rpo8+R21bfuybrjhBk2YMEENGlAPjeQi4AWA\\\n",
       "WqKkpESusnJdmPmGGqfsCjrGnZKhFXpUBXUL5SwvDTrm1/JGeuvgEH65BADAosa7flP+tiLTx12Z\\\n",
       "dSRJTbbvV9rBQ1W1LAA2VlJSoqlTp+rBBx9U/sn5yv7koHZ0XRtRyFPT2jSYtVswe47RbMgmSccc\\\n",
       "I/3znzu0apV0x50vqHXrpzV+/Hj95S9/UVZWVpSzArFhkzUgznbv3q3rrrtOM2bMSPZSgKAap+xS\\\n",
       "vnNb0I8mKdslSU1StpuOMQuHAQAAACRWeXm5nn76aR1zzDF65q2ndeit37R5/rf6rav5MQeqbnk1\\\n",
       "Qqhq5GyfN1l07Sq9+85Ovfbqb3rzzUd0zDHH6Omnnw7bagdIBAJe1BibN2+Ww+FQnz59/O7v3r27\\\n",
       "HA5HRB+NGzf2m+P1119Xnz59VL9+fdWtW1edO3fWQw89JJfLVWkdDRs21Pz583XHHXcEfRwAAAAA\\\n",
       "gEj98MMP6tOnj+564C7tnb5TWz/bLPX9I0zcE8WcZsdEM1dVqW7tIPr2Ldcny3Zr6gM79cD949W3\\\n",
       "b19t3Lgx2ctCLUOLBtRohmGoa9eu6tChg9/9mzZt0tKlS5Wdna0hQ4ZUOs53R8xx48Zp6tSpSk1N\\\n",
       "Vb9+/ZSdna2FCxdq/Pjxmjt3rt5//31lZmb6HT9o0CBNmzZNCxcuVP/+/RPz5AAAQEx8N54Mtskk\\\n",
       "G0oCAKqD8vJyzZgxQ7dNvE3OglQdnrdfjrqSI4I5ounFG4xZH95YxyZKPNszZJu3SFfaIeniwW6d\\\n",
       "86d9mjBphTp37qT7739AY8aMUUoKtZVIPAJe1GgOh0PPPPNMpfvvvfdeLV26VD179tSsWbNMj589\\\n",
       "e7amTp2q7OxsLVmyRCeeeKIkadeuXerXr5+WLVumO++8Uw8//LDfcYMHD9a0adM0e/ZsAl4AAKqh\\\n",
       "oqIiTZsxU+VlFe+2CbbJZEpqmsbeMIaQFwCQNBs3btSoUaO0bss6HXqnTI4+5SGDnJrWV7eqxVod\\\n",
       "nJ0tzXj4gIYMlK66YbLeeOMNPffcc2rTpk1c1geY4c8IqJVWrVolSd7A1syUKVMkSRMmTPAb26hR\\\n",
       "Iz3++OOSpBkzZqioyH/TjF69eqlBgwaaM2eODMOI59IBAEAclJSUqLzMpTeOv1BPdb9GhV0LJEmF\\\n",
       "XQv0VPdr9MbxF6q8zOWt8AUAoCqVl5dr+vTp6tS5kz7r+IX2fvWbHH0qIpwyZUQ1p1kv3ni0Y9gb\\\n",
       "hzlikehK4VDVu6lB9qbu20v6avlutT/6e3Xu3EnTp0+nNy8SioAXtdLKlSslSV27mnei/+WXX/TF\\\n",
       "F19IkoYNG1bp8dNPP10tWrTQoUOH9N577/k95nQ6df7552vr1q36/PPP47hyAAAQT7vqNta2evna\\\n",
       "Xq+JJGl7vSbaVi9fu+o2DnMkAACJ8eOPP6pfv3666x93q3SuS+4ZhhzZ/g0ZQoW88eqfm+w+vImq\\\n",
       "RDYLg82qd0OFu6HUc0kzJ23V3GdK9I+H71K/fn31448/RjcZEAYtGlDr7N27V5s3b5YUuoLXU+Xb\\\n",
       "oEEDHX300UHHdO/eXVu2bNGqVat02WWX+T02ePBgvfjii5o9e7Z69uxpep5Dhw7p0KFD3tv79++X\\\n",
       "JLlcLjZpQ1y53W6lpKTInZIhlyMz6BjP/WaPS5I7JaNiHrebazQBvF+njAy5Ms2/DjWR5/nWtuct\\\n",
       "Se4M/l1VNc+/tQzDrUzDpUyj4nX3/DfDcPM1Qcz++J6eLldmHdNxrsx0v/+azpeRznWJuONaql5e\\\n",
       "e+01FVxVoNIrHSp/J1Op2c5kL6mS6tBb14qqaFURrHo3UN9TpbXz9ulv9y9T584d9fzzs/R///d/\\\n",
       "iV8cahWHwfvHUUNs3rxZRx99tHr37q3Fixebjlu4cKHOPPNMZWdnq6ioyLTh+fTp0zV27Fh16dLF\\\n",
       "G/YG+stf/qJp06bp4osv1uuvv+73WElJiRo1aqSjjjpK69evN13PpEmTNHny5Er3v/zyy8rKyjI9\\\n",
       "DgAAAABiVVJSomHDhqmoqEg5OTnJXk6tVV5errvvvlsPT3tYpf+qI13wxx+FUrXf9LhUBU8YQ4Wb\\\n",
       "ZputBTsmkk3KglXABhvnO2eKK1MnvPeK/jfgMhlpBy2dO5rzhBtrNq9kXsEbKtx1mPSsmPuhdPlN\\\n",
       "qfrLuNs0adIkNmBD3FDBi1rHE9Z27tw55DfT3377TZJUt675XqPZ2RU/GjxVt76ysrJ01llnac6c\\\n",
       "Ofruu+/Utm3boHPcdtttuvnmm7239+/frxYtWujss8/mf7AQVzt27FBhYaEK6haqScr2oGNcjkx9\\\n",
       "0Op5nbV5lNKMg0HH7ChvqsIDBSooKFCTJk0SueRayft1KixUk+3Bv041lSszUx88/7zOGjVKaQeD\\\n",
       "X3811Y6mTVVYwL+rquT5t1bYtUDb6zVRpuHS80UfaFTuWTroSFPT33aoYFUhXxPE5I/v6R+ryXbz\\\n",
       "gMaVma4Pnr9FZ416RGkHzd8LvKNpjgoLzuC6RFwF+10GVau4uFiXXXGZFq1dotL/ZkknxB7VxGuz\\\n",
       "teq2aVvMm6BFOG+07RnMXPAn6b//KtPAG6fo67Wr9OI/X/HmCkAsCHhR61jpvxsvgwcP1pw5c/TW\\\n",
       "W29p/PjxQcfUqVNHdepUfsteWlqa0tLSEr1E1CJOp1Pl5eVylpcqzRE6PEszDpoGvM7y0op5nE6u\\\n",
       "0QTwfp1KS2tdyOmRdvBgrXvuzlL+XVU1z7+1UodTBx1/vOYHHWk66EhTqcPJ1wQx++N7+mGlHTwU\\\n",
       "dnzawdDjnKWHuS4Rd1xLybVp0yb1H3SOfjjiZxmfZ0kNKhchlSnHtIq3TBmmVbxm4ewBBa/irW5h\\\n",
       "rlXJiEejqd6VJB2QTjhG+vwVt4be8q5OPeVEzZn7vlq1ahXvJaKWoRYctY6ngjdU/11JqlevniTp\\\n",
       "wAGzvUYr/tIqybTStmXLlpKkLVu2RLxOAACQeI0O/Kr837ap6W87JElNf9uh/N+2qdGBX5O8MgBA\\\n",
       "Tbd48WJ1Oqmzvu+7U8b85kHDXY8ymb+7M9SGa4lSHOS+YLlmsHFVIVhQXRXVuyHDXR8N8qR5Txrq\\\n",
       "0/l7ndS9o5YsWRL5yQAfVPCiVikpKdGGDRskha/g9fwFLVQ463nM7K9tc+fOlSSdf/75Ea4UAAAk\\\n",
       "UlZWllJS0zRk/VuSVNG2qVMnFawqVHl5ecV9qWn0wwcAJMSTTz6pG28Zq7KpDaSr836/t76Cx6QV\\\n",
       "oqnkjbSKNxi7VvYmiln1bthwN6B2LC1NmjZR6nhssQac+yf949EZuvbaa+OyRtQ+BLyoVdasWaPy\\\n",
       "8nKlp6erffv2Icd6AuDdu3dr06ZNOvrooyuN+fLLLyWZVwO//fbbysnJUb9+/WJcOQAAiKfc3FyN\\\n",
       "vWGMSkpKJElut1srVqxQQUGBnM6KHcuzsrKUm5ubzGUCAGqY8vJyjRs3To//+ym5FzSVTg/8Q2Lo\\\n",
       "kDfRaluYW1W9dwPDXV+j/09q16hMQ24bo2+++UaPPfYYm68hYlwxqFU8/Xc7dOgQttdU8+bNddJJ\\\n",
       "J0mSXn755UqPL1u2TFu2bFGdOnU0YMCASo+vXr1amzdv1rnnnqv09PQ4rB4AAMRTbm6u8vPzlZ+f\\\n",
       "792wqkmTJt77CHcBAPHkdrt11VVXaea8p+X+onmQcNfDfCuxaFo17DEZHyJzTCiz9dhBVNW74V7o\\\n",
       "PdIZnaXPn3LrvTdn6uqrr5bb7Y52iailCHhRq1jtv+sxceJESdIDDzzgDYeliqre66+/XpJ0ww03\\\n",
       "BP0FcPbs2ZIqNloDAAAAANReLpdLV1xxhV749FWVL2krHWUe4iZbsAA22H3J6q/rK1hf3Uj67wad\\\n",
       "06R6N9TGalHzeWFb5UtLZ5Trvwtn6corr1RZWVkCToiaihYNqFU8IW24/rsegwcP1tixYzVt2jSd\\\n",
       "fPLJOvPMM1W3bl199NFH2rdvn0477TTdc889QY+dPXu20tPTg1b3Asn0a3kj08fcKRV/9d9R3lTO\\\n",
       "8uD/BxPqeAAAAAD+Dh8+rEsvvVRv/TBfWnKsdETod5NWMG/V4KniDdaPN5G9eJMt3pF4vOaLuno3\\\n",
       "SGrerJG0ZLqhP417WZdcUqpXXnmFdwTDEgJe1Boul0vffPONJOsVvJI0depUnXbaaZo5c6aWL18u\\\n",
       "l8ulNm3aaMKECbrpppuCfrPdvHmz1qxZo/79+ysnx/wtNEBVysrKUlpqit46OMR0TEpKijpJKjxQ\\\n",
       "4N1kKJi01BQ2HgIAwKJfG9UL+bg7o+L/J3c0zZGz1LzxY7h5AFQ/LperItzdPF9a1FZq6BvDeOpK\\\n",
       "zWpho+vHG2nIG097Ff8gtipFWr0bU2sGE0fUlxbdL5018U1dNugkvTp3hVJTie8QGlcIao20tDQd\\\n",
       "OnQoqmOHDh2qoUOHWh5PewZUR7m5uRpzw1jvhkLBBNtkKBg2HgIAILysrCylpTj11pDuIcd5/8Ba\\\n",
       "cEbIP7BKUlqKkz+yAjbhdrt15ZVXVlTuVgp3rQpdyRusijcegoXBdtiAzWp7hoSH0BFW7gZqmCN9\\\n",
       "MEXqO/4rXTm0r/75+uKQv58BBLxAAsyePVsOh0ODBg1K9lIAP7m5uSGDWZfLJalik6FwGxECAIDQ\\\n",
       "cnNzNWbsjSH/uCpZ/wOrxB9ZAbsoLy/X1VdfrVdXz61oyxAy3M1W6I62kVfyRlLFWx3bNFgJkiPp\\\n",
       "q2tFXKt3Y/H7peAJefuM/0SjrxykZ/85RykpbKWF4Ah4gTjbvXu3li1bph49eig/Pz/ZywEAAEAS\\\n",
       "hfvjqsQfWIGaaNy4cXpx2X9kLDlROiLj93tDlW5GF/ImsorXimKFD1qtjKmuIg53w7VlCFe9G3AJ\\\n",
       "NKkvfXS/oV5/m6ebbijQ1MdfCDMBaiuifyDOGjZsqLKyMn366afJXgoAAAAAoIo98cQTevzfz6j8\\\n",
       "wy5SswyfR8LVpUYXg3o2Xat8f0bQ+4NljMFyyWDjLHQXSJpY2jOYVe8GE3XlboThrkezhtKHU8r1\\\n",
       "yssv6smZ06I8OWo6Al4AAAAAAIA4WLx4scbe+he53+wgHZUZZEQsIa9551izkDcZEtW5oKqZVe+a\\\n",
       "iqXvbqjibUmtmkhv/kW65dZbtGTJkggXhtqAgBc1Rl5enu6++26NHDky2UsBAAAAANQymzZt0gUX\\\n",
       "D1LZtGOl00Nt45WYkDeYWKt4q4t4bYqWlOrdGMNd7an4OP04aerlZRpy4fnatGlTFAtBTUYPXtQY\\\n",
       "eXl5mjRpUrKXAQAAAACoZX777TedPfBcFQ9vLF11nMKnduGE6skbWT9esw3XrAi2KVugZPTYtXK+\\\n",
       "WNYUUfVuLMl4hJfJ1X2lr34q1qDz+2v5ZyuVnW3X7saINyp4AQAAAAAAolReXq5hVw7XxqZ7pUc6\\\n",
       "/H5vuOCtgcJHp6EEr2mNpB9vtFW81bEPr5VXssqrd3+vvDVlsXI30D8ul45w/KArLx+m8vLyCBeF\\\n",
       "moqAFwAAAAAAIEqTJk3SvLWLZbx6kpTqG7NYqa4MFU1mW5wjsapjoJtIwap3TcPdaKt3rYS7JlKd\\\n",
       "0qs3Gvrq0/c0efLkKBeAmoaAFwAAAAAAIAqvvfaa7p/6kNxzekgN0oOMiDXkDSV5VbzVXeCrbrV6\\\n",
       "N6JwN5RYK3fDaFgmvX21W4/94yG9/vrrkawMNRQBLwAAAAAAQIR+/PFHFVw1SmX/6iqdEDxUrWCl\\\n",
       "EjfaSt7IQt5oBWaOgbcDM8toMlGrkl/TrIoU3CwJT3C463lx2+dL/xpeqlEFI/Xjjz9aOBA1GQEv\\\n",
       "AAAAAABABMrLyzWyYKRKrzxKuuCEOM2a+Epeq1W88RbrlnOhBL5qljZgS1T1bhWFux4XdJSu6Faq\\\n",
       "UQUF9OOt5Qh4AQAAAAAAIjBz5kx9seUblT/Y7fd76sssaP1DPCp5Yxcs5A1Undo0hHtVE318JUmu\\\n",
       "3A300KBy/e/bz/X4449bmAQ1FQEvAAAAAACARRs3btSE2yao9PmeUnZaFDMkIuQNHjBbbdVgJV+s\\\n",
       "KZutJaR6N9pwd0+YY6WKYDfEWrLrSM9fWqoJE8Zr48aNYSZDTUXACwAAAAAAYEF5eblGjRqlspFt\\\n",
       "pD75QUZYqeSVqrKSN9pWDeGqeMP14Y1WJI0qomnPYEXQcNes724slbvhWAyZ+zaTRnQp06hRo2jV\\\n",
       "UEsR8AIAAAAAAFgwY8YMrdvyvQ4/0CXMyHi0bGgg87gzuZuuJUukAW7gq2G1ejcu4lG5G8F5Hjz7\\\n",
       "sLZsWKmZM2daPBA1CQEvAAAAAABAGD/88INumzhRu54/Q8puYvGouHeA9RFZyBsomireSNo0RLo/\\\n",
       "WTJYbs1gVrlr9oKEC3dDCdOSwe8cPufJriM9P7BYt902gVYNtRABLwAAAAAAQAie1gyOgg5Sn5YR\\\n",
       "Hh2PSt5Qx1o7p9VWDZGIti9vIvr5Br4SVqp3A1kOd0OJNdyN4Rx92kgjuzlo1VALEfACAAAAAACE\\\n",
       "8Oyzz+q7nzfpwAM9fe4N1UIhkNWWDWbi15M3nEh78fqKVx9eKyLp1RtMYPVuROFuoip3wwmo2g3m\\\n",
       "gTMPaMuPG/Tcc89ZmBA1BQEvAAAAAACAiZKSEk2aNEm7Huom1U0PMiLSoDeUeIa8wat4Ayt5I63i\\\n",
       "DcwpE1GN6xFtg4toqncti3e4G0lLBguy60gPdt+lu+++WyUlJdYOgu0R8AIAAAAAAJiYOnWqDjfP\\\n",
       "lHvIMWFGVlXIG8nGa9FFpLFU8ZqJtbo31KsSaQ1z1NW7iajcDcdC1a7fufZIFx/r1pF56Zo2bVqM\\\n",
       "J4ddEPACAAAAAAAEsWfPHj344IPa+0B3yeGwcITVat5wLRvC9eWNRPh+vLFW8VYncanejUdfilCb\\\n",
       "sEnWKncjScV9zuVwSA902qIHHnhAe/ZU568W4oWAFwAAAAAAIIj7779fdXoepfJ+JyiywDWSoDcU\\\n",
       "s3OazW8WDIev5A0MeaONBX0zSat7hkUqlv67Yat3zSp3g70g0ZYlWwl2I6zaDXTmUeXq0bapHnjg\\\n",
       "gcjWBlsi4AUAAAAAAAjw888/a+bMmdr5wCk+90ZaWZvIkNfq/MHPE1jFW3GfeSVvYO65x+Tzqhay\\\n",
       "dUNA9a6l1gxWxVK5G828kZ5H0gMnbNCMGTP0888/W5wUdkXACwAAAAAAEGDSpEnKGdRJ6pof5NFI\\\n",
       "gt54tWyIZH5r6wsW8vqy25v7I+k4HFPf3VDhrpl4tWSwEOx6nNhEGnhCjiZPnmztANgWAS8AAAAA\\\n",
       "AICP9evX66WXXtKOe3qEGRlJyBtrNW88Knlj68cbj83WrPJdaTTdiMNV71aS6HA3FKstGSJN3Iul\\\n",
       "e9vt0L/+9S99++23ER4MOyHgBQAAAAAA8HH77bfrhFFnScc0tDA60mrecGFsPDdfi64fr69QmaJZ\\\n",
       "m4ZoW9Naial9x0S7DZ3lvruB4h3uRhLsWg13i+U37zG5UkHXXN1+++0WJ4AdEfACAAAAAAD8bt26\\\n",
       "dZo3b55W3tlTkfW4jWfbhnAtG8zmNGvXEGz+PySyijdRG60F8qv4jbR6N1A8wt1wLRniHeyGmPPO\\\n",
       "tjv03nvvaf369RFMBjsh4AUAAAAAAPjdtGnTdMJlZ0lNPaFnJCGvZD3ojaWaN9Q54h/yVsdevL7P\\\n",
       "KFQUHnZjtVC7x3lEE+6GEi7cjSbYDTFnfl3p0k71NW3atAgmhZ0Q8AIAAAAAAEjas2eP/vnPf2rV\\\n",
       "X04IeMRqD11f8WrbEE1fXqshr79Qm6755o0HTO4Pl0lG27rBw8pXILB611fcwt1QAWysLRniGOz6\\\n",
       "+kur7XrxxRe1Z091jOsRKwJeAAAAAAAASc8884yOOqm9jM5HmoxooMjC3ni1bQjVsiGWkDd0G4hQ\\\n",
       "rRrCiTXM9Yi2z64UpjWDlV4TkTyJWFsyRNNnNwJdGhnq3iJPzz77bGQHwhYIeAEAAAAAQK3ndrs1\\\n",
       "c+ZM/fiXrhaPSETQG++WDZGHvNFU8VY1s/YMEVXv+rIarkbaOkEKH8bGqc9uSL+Hz39ptlszZ86U\\\n",
       "2+2OYhJUZwS8AAAAAACg1ps/f75K3S4duuD4CI+M90Zs8W7ZYGV95nNaqeKN95v+g60m0gYZvtW7\\\n",
       "YVszBAoWykazmVq82jEUK/Kq3b2qtLaBRxxS2aGDWrBgQQQTwQ4IeAEAAAAAQK33zDPPqHzUaVKq\\\n",
       "eQWruWhaN1idM5hIWzYEzhM6aI5lw7Vgj4fbcyxaVqp3I+67a9ZzN5hYWzKEE0UrhlCBc2qKVNCq\\\n",
       "XM8880yEk6K6I+AFAAAAAAC12tatW/Xee+9p91U9fr+nrs9HpKwGvfFo2xBLyBtsrj/mC9WqwcNK\\\n",
       "IWy8WXnFTHvvVkW4G4+WDHEOdn1ddcRuvfvuu9q2bVuEJ0B1RsALAAAAAABqtcLCQh3br6fUqlGQ\\\n",
       "R6MNeyMNekNFl+Gqec3mDTeP9UpesyreA0HuixerG6z5Vu+GbM3gK9pw1yxIjVev3QQFux5HZ0t9\\\n",
       "Ox2rwsLCCE+E6oyAFwAAAAAA1GovvfSSNo7qZGFkIit6peiDXrOWDVYj0sC5orMn4L/xYvaMI+Jb\\\n",
       "vWt1Q7VAiey1G0nVbpD+upbtkUZpo/71r39FcTCqKwJeAAAAAABQa33//ffauHGjDp17gsUjEl3R\\\n",
       "K1nbiC2YYEFvsNA4WE/ewHkqWKnirSrBXhVL1buheklY3VAtmnA3XNVupJunRRvqBqzl3LxD+uGH\\\n",
       "H/TDDz9EORmqGwJeAAAAAABQa82dO1et+54k1cuM4uhowt549ei1GhZbPT7wfNb78YbrxSv9kUt6\\\n",
       "ssxEBsQhw91Id4mLpiWD1WDXihirdYOtJSdV6tu+tebOnRvFpKiOCHgBAAAAAECtNXfuXG0e2FGR\\\n",
       "VdgGE23QG+6coYLeSFo2WKnkNecJecuU4a3kDZZhBrZpsJpjelZipfVCsDGe6l3LfXcDQ9ZgoWy8\\\n",
       "g13P8VbFoVrXzEDjfwS8NQgBLwAAAAAAqJX27t2rZcuWqfT8E33utRq8mklUVW+igt5gG6/5Hm+N\\\n",
       "lSreSHhW0SDgtu+KfNszBGXWd9dKyBppuGol2LV63mgqdk2qdc2cn1uqjz/+WHv3Rpsiozoh4AUA\\\n",
       "AAAAALXSvHnzlN+hrdSyscmIeIW9Vllt3RDL8VaEb9UQqoq3KgTrvWvamiFUuBtr5W682jFUQajr\\\n",
       "66hMqX3LfM2fPz/yg1HtEPACAAAAAIBaac6cOdp9QSeLo6uqqtdKqBxpNW/8KnlD9eP1ZKqBbRoS\\\n",
       "yXdjtUoLCVxEuM3UgoWsiQx2o6nWjSHU9VMsXeDcrTlz5sQ4EaoDAl4AAAAAAFDrHD58WPPmzVPJ\\\n",
       "wG4RHtlAsVX2RlLVG2vQG8gs6A01v++x/qxW8UbSdtaXWXuGYK0ZQvbeDcZq1a6VYwOPsRrsWhXH\\\n",
       "UNd3fQMzSzRv3jy5XK4YJ0ayEfACAAAAAIBa5+OPP5YzO1M6sXWMM0Ub9kZT1WvGLOi1uqbIKnmD\\\n",
       "VfFayR7j3e01ZGsG30A02IZqoRYWTdVuvIPdeIS6xaoU6vrqli1lpabo448/juEkqA4IeAEAAAAA\\\n",
       "QK3z7rvvynVeDyklR6GrWCOR6LDXStBr5RgrlbxmIW8FT8jrqeL1iEebhmDPIlT1bqWTh+K7ILOW\\\n",
       "DMGOqepgNxphAt1AKQ7p/HouvfPOO1GeENUFAS8AAAAAAKh1Pv30Ux0443ife7IDPmIVa9hrZe5g\\\n",
       "QlXzhgt6rbRrqNyPN7BVg5WcNZjKTSDMV1SpejdY391wlbuBrGzA5js2VIgaSX/dWKt1rW7kFsTp\\\n",
       "aQf02WefRXliVBepyV4AAAAAAABAVSorK9Oq1atldLsqxKjAaDHaTrKSf7BqNcXzhLyh4lLPvMHm\\\n",
       "9Kw/cN3BjqmvP5LIbJ9jAsd6HvMdb01xwIrCReihYvGgG6t5+Ia7gfd5WK3aDcZKta4VsbZeiJNu\\\n",
       "2YZWr1olt9stp9MZv4lRpajgBQAAAAAAtcq3334rI8UhHdc8gqPiVeEbaWWvlfYN0Vb0+gqs5A3s\\\n",
       "yxvIvx9vsA3XYt0TLHBlvu0ZHHuDVO9G2gg4WOWrWSVtqCpZq9W6sVTqRtB6IRLtDkoqc+nbb7+N\\\n",
       "78SoUlTwAgAAAACAWmXFihVq2KWdtsZUsRiPCt9IK3vDVfWGms+3MjdwvGesJ0o1q+bdI/86XPNK\\\n",
       "3gO/r9Yzs+dMexW8FYPvKoN+/nu4W6l6NzDctVq5GyzYDSbWit1Y2i4kQsB6nA6pS04drVixQu3b\\\n",
       "t0/QSZFoVPACAAAAAIBaZcWKFTK6HRvnWWOt7o2kstdqVW+gaKt5Q81ZUcVb8VG5ijdWwcJgS5W7\\\n",
       "oTZTsxLuxqtiNxLxrtLdE+QjiG5Ol1asWBGnkyIZqOAFAAAAAAC1ypcrVmjbtf0VuodtLGKt7o2k\\\n",
       "stc35A2s7DV7fsH68zYIGBfYl9cz3reSt3IVb5kylKpS70y+q7PSe9d31d7VmlXvSuErd0MFu4Fj\\\n",
       "zcYEm8tMJJdSPKt0Y7iEuzkP65kvv4zfWlDlCHgBAKiGfm3UKNlLqHLujIqKjx1Nm8pZGmrnjJqn\\\n",
       "Nn69AQBIFrfbrVWrV0vdxvncG6wyNZ6hbyyBb6Rhb7D2DWZzBAa94Vo2+M5XOeQtU45Stb/S2QPb\\\n",
       "NAQKVqWbbXK/Y69C7ztnNdw1q9oNVF1D3Thent0ypOtXrWSjNRsj4AUAoBrJyspSWkqK3hoyJNlL\\\n",
       "qXIpKSnqJKmwoEDl5eXJXk6VS0tJUVZWVrKXAQBAjfftt9/KbRhSu1ZhRiYy9I028A1cU7D1hKro\\\n",
       "9Z0j0qB3r6xW8nqqeD0rCNVIwqO+glf3+lbvOnzDVt/lFwfcFxjKhurLG/i4RzzbL8Qa6sa7wDxA\\\n",
       "uzqS4XZrw4YNOuGEExJ7MiQEAS8AANVIbm6uxowdq5KSkmQvpcq53W6tWLFCBQUFtbJyICsrS7m5\\\n",
       "ucleBgAANd6KFSuU1+V4/RrV/28kKvSNNfA1W0O49g3hWjf4jgls2RA85C2TlKr9KlOG9qjUUkfh\\\n",
       "cPxaM/g+jWDBrdWq3VD9dc1UVaib4EA3UKpD6lwnRStWrCDgtSkCXgAAqpnc3NxaGfS5XC5JUpMm\\\n",
       "TZSWlpbk1QAAgJrqm2++UVmnY+I4YyJC30gDXyttHDxhr29CaqV1g2+I7NuyIXzI6xGsjtisF28D\\\n",
       "BW/PYFq9G6wlQzyDXatfymgD3aoMc0O0tujscOmbb76purUgrgh4AQAAAABArbF161YdOC7R/e/j\\\n",
       "HfpGEviGC3vNqnrNWjcEa9vg27IhWMgrlSnn99HBq3iLJYX7KmQf9mnN4FnqHlV++mZVu+E2UIul\\\n",
       "Wrc6B7qhehSbONJRru+3bo3/WlAlCHgBAAAAAECtsWXbNh3u017+LQeqQjxDX6uBr9WwN1TQa9a2\\\n",
       "wSzklQL78UqlOiDzTdYCz1xff/Te9WNWuesR2Is38H6PaKt1owl1ExnoRhHkmsl3Skt/3hK/CVGl\\\n",
       "CHgBAAAAAECt8fO2rVL+Eb/fCmwEECjRAbBZ5BlpKugb+FoJewPPEayqNzAcDrbBWujXz9OqYY/P\\\n",
       "EWbPODvgv1JA9a5nucU+nwdryRCqHUOwL2eol7o6BLpxDHFDyXdK237+uWpOhrgj4AUAAAAAALXG\\\n",
       "jm3bpWZNLI5OVgAcS7VvrNW9ZlW9gRW9vsf6VvN67qv4vMx7T6nqKliNb2We6l3TcDdYS4Y9Abd9\\\n",
       "BZ4oXqFuPMPcKgpyzTRzStt27EjuIhA1Al4AAAAAAFArHDx4UMV790r5jeM0Y6gAON7hb7Shr5XA\\\n",
       "N1j/3cCq3mCtG3w3YZP8Q94/7itTjlJDtGnI8/nc84qmlso/9PSt3PXcDlyy71NLRKgbj0A3yUGu\\\n",
       "mXyntGf/byotLVVGRkayl4MIEfACAAAAAIBaYfv27XI4nTIaN6yCs1VF9W80LR5CBb7hqnrNBAa9\\\n",
       "vvO2kFSsMu33VvF6VpEbcOZsBWysJkk/+Sxnr4K3YzALdmMJdWMJc6tjiBvm+TQ2pBSHQ9u3b1er\\\n",
       "Vq1iOtUXX3yhu+++W8uXL5fL5VLHjh118803a+jQoTHNC3MEvAAAAAAAoFbYtm2bMps0VklKSrKX\\\n",
       "osRW/0ZS7WsW+IYKe4P16TWbu1gVAW+OJOmASk2P8ntFfFszBLZlCAx2rVTrJiLQTXaQG8cWEU6H\\\n",
       "1CQzQ9u2bYsp4F20aJH69++vjIwMXXrppapXr57eeOMNXXLJJdqyZYtuueWW+C0aXgS8AAAAAACg\\\n",
       "Vti2bZuc3g3WqrNEVP9aDX2DBb6hglxP4wXfjdgCj8+WlK0ybfFW8frOmO1zZNo2/RHueqp3PZW7\\\n",
       "kVbsmoW6kQajVR3kxnujNovy01K1bdu2qI8vKyvT6NGjlZKSoqVLl6pLly6SpLvuuks9evTQxIkT\\\n",
       "dfHFF+uoo46K04rhUR3+ZAUAAAAAACBJev311+VwOMJ+tGzZMuK5t23bJqNZM/0RKUbyUZ3UD/Nh\\\n",
       "VYMgH4GCvQ6+4+v+/tHC575sn89bSGr5++f1Vaoj/IpzfZ9R9mH9Ee4WqyK83aKKoNc33N3r87HH\\\n",
       "56M44EMBj+9R6PD0gMlHPARbh9lHkjSTEVPAu3DhQm3cuFHDhg3zhruSlJubq4kTJ+rw4cN64YUX\\\n",
       "4rBSBKKCFwAAAAAAVBuNGzfWiBEj9MILL+iUU07R2Wef7X3sww8/1CeffKIrrrhC/fv3j3juffv2\\\n",
       "yZWXE+XKYg15re7kFQ+xVACHq/S1+jp4qnp9tfx9tp1+jR48q03bpj8qd32rdgNbMQSr5A22VDPx\\\n",
       "rMhNYiAbb/XdZdq3b1/Uxy9evFiS/P7Nenj+vS5ZsiTq+WGOgBcAAAAAAFQbffr00caNG/XCCy/o\\\n",
       "yiuv1HXXXed9bO3atZKk//f//l9UfULLyspkpCUrCoklII53OBxpABwq9A32vDzhrifGzfa5b49K\\\n",
       "dYS2aKd3dF39Xr3rqdbd+/t/PdW6vqcLfCnCVeRGowaFtpFINcpVVlYW9fHff/+9JOnYY4+t9FjT\\\n",
       "pk2VnZ3tHYP4IuAFAAAAAADVypo1ayRJnTp18rt/9erVys3NjXoTqLKyMpUnLeCNRVVXD1sJgK1u\\\n",
       "sCZVDno3qkzz9PPvjx55WEr7nypC3TWqHOz6Lj8wfI0kxK1JwW1x07hPmaqimALeoqIiSRUtGYLJ\\\n",
       "ycnxjkF82fG7GgAAAAAAqMG++uorORwOdezY0Xvf/v37tWnTJp1++ulRz1tWVqby1NoYhcQ7IDYL\\\n",
       "gD33e9LZBqpoy+BbfrtFklSmM/SxlmmUpLQVkv77+7At+iPU9Q1kzYLcZIa2CQhZkylNksvlSvYy\\\n",
       "EIXa+F0NAAAAAABUY1999ZVat26tevXqee9bvXq1DMNQ586do563rKxMKSkpquOKvkqxdsqIcHx+\\\n",
       "wG3fvscdJO2TdLYch06SJB36IFP6RBW5cMnvw0K1CfYobhLhuuIsM7mnj7d3Sn9V2n/+owceeCCq\\\n",
       "4z2Vu2ZVuvv371f9+pFsAgirCHgBAAAAAEC18dNPP2nv3r3q27ev3/2rVq2SpJgCXknqv2m7Rr/3\\\n",
       "eUxzIF56SJI+6v681D3JS4EOXn210mI43tN79/vvv1e3bt38Htu+fbuKi4vVo0ePGM4AMwS8AAAA\\\n",
       "AACg2gjVf1eKLeBNTU3VBy2O1MIB/aOeo9YpdUY2fl/AbU8lbrGkX36/vUXSZ1L3FYd1y/Mf6k+j\\\n",
       "MpV+cJ3PgAPyL+E16yEceLKqFu0ubtXTkMOlyr3qqqiP7927t+6//369//77uvTSS/0eW7BggXcM\\\n",
       "4o+AFwAAAAAAVBtfffWVpMpB7rp16yRJ7du3j3ru1NRUlZcbOpwWS52izRyMMKANFJgcmbVOCOyF\\\n",
       "G6yH7k+SNkpaJmmL1ORQxUNlB/uq7sFUSYYq2jnsVUWbB08zXk8P4cCTZFl9FiEWHotkxmqRbpwX\\\n",
       "nltupcXwb+PMM89U69at9fLLL2vs2LHq0qWLpIqWDVOmTFF6erquvPLKOK0Wvgh4AQAAAABAteGp\\\n",
       "4A0MePfsqQj3vvjiC3Xs2FENGjSIeO7U1FSl2G0TqVgD2khZyUGDbWxWHOTxA/LfMG3LH//N2Sdv\\\n",
       "D9tiSbnqoopN2TaqIgn2TNjAZ8JsWQ82rW4MFygRQXAixLpxXmVl6S6lxrAJYWpqqp599ln1799f\\\n",
       "vXr10qWXXqp69erpjTfe0P/+9z89/PDDatWqVfwWDC8CXgAAAAAAUG2sWbNGOTk5lYKg4cOH65FH\\\n",
       "HtGFF16od999V6ecckrEc6empsqRjIC3qkPaUCLNL4OFuR5moa7ntm8V7xZV5LZ7pPTiirjVU3+7\\\n",
       "SVKqGqiJ9qjikfq/H+AJdOsHWXixKsJfswWbBaDhAuJINgGzSxhsTVmKI6aAV5L69u2rZcuW6e67\\\n",
       "79arr74ql8uljh076sEHH9Qll1wSp5UiEAEvAAAAAACoNjZs2BD0/kmTJmnSpEkxzZ2Xl6e0fft0\\\n",
       "KNIDq1NAG04smWOoMFeqnI0GtmDwvc8T7u71+fz36t2MMv9o1lPo20jN5FQDVSTBnifiqeANrN71\\\n",
       "rez1XZzvzMGeULTBbzA1qyp4b6pDeXl5Mc/To0cPzZs3L/YFwTICXgAAAAAAUCvk5+fL8cs2ewW2\\\n",
       "geKVFYYLc6XgmWewUNf3ft+qXd9w9/fMNv33OX1j1r2S6knapSw1kuRUtqQ2+iMh9pwgkrYE4Sp8\\\n",
       "A8Uz+A1kj6rgrY5y5efnJ+38iB4BLwAAAAAAqBXy8/Pl3r4t2csILRH5npUwVwof6HqYBbu+t33D\\\n",
       "3eI/bmeUmcedFRFuluoGDWYDK3gDWzd4jgnWoiGw8jfYmc0kMvgNJnlVwdvKDhHw2hQBLwAAAAAA\\\n",
       "qBXy8/N1cMcOye2WnEms4k1kkabVMFcyzyjN5ggV7Hru2yv/sNcn5PX03m2gyi0aPHFtxaENVLfS\\\n",
       "yfcqfAXvXgVv0RB4XOATDwx9rbyIVR38BopvVbBbhnaUHiDgtSkCXgAAAAAAUCvk5+fLcLulXbuk\\\n",
       "Jk0Sd6KqeJd9JEGuR7js0Wq1buB8vp0UfMcW+z+WURb69L7xrFsZv/fjDcbTfsG3bYMnIvbMJFWu\\\n",
       "6vUwq+71iLTK12zuQFUV/gYKHwb/KpfKDUNNmzatgvUg3gh4AQAAAABArZCRkaHs+vVVvH1b7AFv\\\n",
       "VbZKjSbMlazlieFC3WBjAtsx+N5vsslaus9aPBGob+y4J+C/UpYypICQd4+Ch5VmQa9kXtUbuBrf\\\n",
       "JxFMNFW+gZJd9Wtumw6rQb0cZWRkJHspiAIBLwAAAAAAqDWa5OereNtWqXOX0AOTtddVtGGuZD0n\\\n",
       "tNKCIdjYYMHu3oDHfD///TFPuOtpzxBon+RtyeCJY4sl/RE1BjvK07LBdzO1wKDXc1bfhYYKexXk\\\n",
       "eDOxVPmanTNQ1QW/W+VSfiKr2pFQBLwAAAAAAKDWaJ6fr43btyUvwPWIJcj1FW2Vrke4UDfwHL6b\\\n",
       "qPk+Hli5G3BsuPYMgadvIKnUW8Vb+vsjvhutBVbyRhr0SvGp7PUVjyrfUGvwFd/wd5tcym9+dFzn\\\n",
       "RNUh4AUAAAAAALVGi/x8pW/epsNVedJ4hblS7FW6HlaC3cDzBYa7gWvxvR1QvRsocBM132H1Zdaq\\\n",
       "wTe49SyovvyreaU/+vNK1oJezzG+8wYK17c3mHhW+QaKb9XvNrmU36J59MtBUhHwAgAAQEVFRSop\\\n",
       "KUn2MpLG7XZLknbs2CFnMndVT7KsrCzl5uYmexkAkFDNmjVT3e0/Jy7gjWeYK0WW10UT6podFyzY\\\n",
       "lSqHu3tMbvvcl1H2R3uGbAWPPX3tVeX63D82XfOEvL4brfmGvFLlal7JPOj1fVIeZpuzeURT3Rs4\\\n",
       "d6j5YxFd8PtLSpmaNWsW/+WgShDwAgAA1HJFRUWaOW2aXOXlyV5K0qSkpKhTp04qLCxUeS1+HdJS\\\n",
       "UjRm7FhCXgA1Wvv27ZW66Mn4TJaIfC7SAkwra4g22PUdE9iSwfcx39s+AbBZ9a5V/lW8JRZCXs9C\\\n",
       "A6t5fWfzfcwj2qpej2gD30RW+AYK3e5hTdphXd++fYLOjUQj4AUAAKjlSkpK5Cov14VvvKHGu3Yl\\\n",
       "ezlJ4c7I0IpHH1VBYaGcpaXhD6iBfm3USG8NGaKSkhICXgA1Wrdu3bTv69WS2y1F8q6NROVu0Yag\\\n",
       "0Vbrmh1rFuxKwcPdwNvBNmNTZL13A6fxxK4V01WEvBXMQl5fgRW7wdo2BCzWUlVv4CqDiaadQ7Dz\\\n",
       "WDlX7MqUpTXlB9StW7eEnwuJQcALAAAASVLjXbuUv21bspeRFK7MTElSk+3blXbwYJJXAwBIpHbt\\\n",
       "2snpcMj1w7fScSYVi4nM1BIV6EqhQ91Qc5i1Y5BCV+4GHmOycZ2nPUOs/Ddds1LJK4Wu5vU8LgWv\\\n",
       "6jXbia+qwt7Ac1k9Z2S+VYlSUlN13HHHxXVeVB0CXgAAAAAAUGs4nU517dJF//1qRUXAm+gCyVja\\\n",
       "FESytkjaMEjB12VWtes7PrAtg8m86cWVq3dDNQnYG2SM574Gv0/reayiVUOokFfyD2gD2zJYDXpD\\\n",
       "VfQGzhU4XzCxhr3BzmnlvKGt0G/q0rVLrd6HwO5Skr0AAAAAAACAqtS9Wzflr1qR2LYLno9I7fH5\\\n",
       "COeAz4fZPGZrCzU2sGrXrHLX9z6fYyLtvRssOjWbolRZkipCXn+e8LSB/ghA6wc8HhgxB6uONYuh\\\n",
       "66vy1m+BGsj//KFkB3zEokGQD+tWpJeqW/fuMa4ByUTACwAAAAAAapVu3brJsW5F/CYsVvUIdX3n\\\n",
       "C2S2NistGQLHBQa+ewPu1x/Vu4HtGaxEj2YdIIK/tL6BZrCgNDCYDQxUzULecEGvlbA3EvEKe33P\\\n",
       "by30XZF2kP67NkeLBgAAAAAAUKt069ZNu7+5PvKN1jxieXe9R6TVw9H215UiD3YDj4kg3PWt3g0X\\\n",
       "gVqxN8g8pb9vuPZHqwZfvu0afBdqpaduuI3aAgX2+zWbN9jcoQSGvPG44KRgrR3cMrT60F4CXpuj\\\n",
       "ghcAAAAAANQq7dq1k8MwpM0brB0Qa4WuRySVupL1at1QfXajqdoNF+5GwTeyrBtiXLHJ54FVvJVb\\\n",
       "NfiGl2YVulZaNoSq6K2q9g2Rnj9aDfSt0qS0VLVr1y7Oc6MqEfACAAAAAIBaJTU1VV27dDFv0xCv\\\n",
       "QFeKPNSVwoe6vvMGEyrYDVe5Gzjed87AOUyqdwM3V4uV5zSRhby+AkPeaINez3gzVoJe3/ljDXtj\\\n",
       "D3xXOPaxwVoNQMALAAAAAABqnZNPPll1V31ccSOega4UXagrVX2wG0vlbqhgWH/EnNFEmIGnj4xv\\\n",
       "P95QvXYDg9hgYWmokNdK0JvosNd3LdGFvcvqFqtnz55RnhvVBQEvAAAAAACodc477zylffyutL88\\\n",
       "PhPGGurGEuxK5sF0sGNC9dsNPCZY6BtkIzYr1bvhIsxgmbHZ0zKv4g08UzxC3miDXs85rHYjrtqw\\\n",
       "t1yG3knbqfPPPz/K86G6IOAFAAAAAAC1zhlnnCF3SbG0YWX0kyQ61PU9h5lIqnal2MPdIMemh6l6\\\n",
       "jrS2NFTBcKiXIn4hb7KD3nDnsyJ8K4cV2quS8jKdccYZMZwH1QEBLwAAAAAAqHXS09N17rnnKuuT\\\n",
       "OdYP2qPoQ13Jeqjrey4zodpJmAW78Qh3Q7Rm8FTvxtqewarAKl4pkpA3VF9ez/hI2jaEOsZXtEFv\\\n",
       "rK9m5bB3TtYenXvuuUpLS4txbiQbAS8AAAAAAKiVBg4cqIafzQ0/MNpA16Mqg10rVbueeQKPjYTF\\\n",
       "6t1YBG6qFqqK1zfkjV6w4DXSal7PMVaD3uSFvXMbHtDAgQNjnAvVAQEvAAAAAAColc4991xt+/Zr\\\n",
       "aftPlR+MpVJXiqwNg+/5QgkVppodG2m46xsgB67JQvVuVQv2klSu4g218Vq4lg3Bjgt1vJXjAkUa\\\n",
       "9PqeO7qw938q1jfbNuucc86J6nhULwS8AAAAAACgVqpfv75OP/10Zfz3nYo7qjrU9T1nKNFW7QZr\\\n",
       "yRDYesHqcw2xsZqvwPYMkfbftbqMYN0kzFs1hBMs5LVazes5Pp5Bb+LD3ncyduiMM85Q/fqRngvV\\\n",
       "EQEvAAAAAACotS644AK1+nRO1bVgkKwHydEEu5K1ql2z8/nOH2y+IPNYqd71RI91A26HW0pgmwZf\\\n",
       "4V6+0P14AwNXq+FoqKA23ByRxN3RBq/Wgt45Rx3UBRdcEOU5UN0Q8AIAAAAAgFrrggsu0I+fLpJK\\\n",
       "fovswERV60qhg13PPGastmQwa8sQbl0J4llOiC4QXqGeYqmyQvTjDQw+w4W8oSp5E13N63v+aMJe\\\n",
       "86re/TqsRT9+Rf/dGoSAFwAAAAAA1FrHHnus2rRpozqr5lk7INJQ18NqhXC4EDVU1W64lgxWWOy7\\\n",
       "a6U9Q3VQuVVDpCGvZB6wxiPojTTsjYb/WubV2aFjjjlGbdq0iXI+VDcEvAAAAAAAoFYbPny42nzy\\\n",
       "fOhB0QS7kfT0tVK1a7XXbrg1BZ7XjElrBt9wtyo3VwvXpsH38cj68cYS8oZjJe6u2qre59sU6/LL\\\n",
       "L4/ieFRXBLwAAAAAAKBWKygo0PfLF0o7Nvs/EE0bBinyUDeaYNfKvOHmCTbGw0Jo7BvuRrIlWaTM\\\n",
       "cu1ImPfjNWMW8kbassEzl9WgNxKRB72bVKRF369SQUFBhOdCdUbACwAAAAAAarVmzZppwIABarjo\\\n",
       "uehDXf3/9u4+TO66vvf/a2cyyWYJbAjBJBwCCUQMAVMxVtpzBBShSARBc2Et3i5K5UcgaqsGb84h\\\n",
       "XK1Haq0cc6oeRbN4U6WtSAj2CKKIQDlVGiCgqEhpvMuNJGACbjZsdvf3R8iSm72bzezOfrOPx3Xl\\\n",
       "ipn5znc+uzsO2Wc++/6muhg7mNEJA83aHerF1Ho7rr/n6mP3bm96y5hDHdkw2A9lMLt499XbqIbB\\\n",
       "XnhtKCMbdp1vMBdiG77Q+4XD/jOvfvWrM2PGjCqfg9FM4AUAAADGvIsvvjil76xIOocwc6DasDuY\\\n",
       "ObvVzNrd/dyDOddAcbeP0Qx9GerwgqGo9lpw/Y9qGOxO3mpHNgwUaOsTenekK62lh3PxxRdXeV5G\\\n",
       "O4EXAAAAGPNe9apXpXFcORPuv3nwDxrJsDuY8/d2voGO6y/u7qVes3f7svtSB/tpG9xF12px4bNa\\\n",
       "Daio9mJsSV9zeldN+EXGTZyQs846q0ZrY7QQeAEAAIAxr1wuZ/HixTnmzk8OfHCtw+6uc/ZnKDt3\\\n",
       "B3Ncf6o9fjf7kzd7+zAH8+ke7KiGwe3k7W1cQz1GNvS3psF4LvR+8rBHsnjx4pTL5SGch9FM4AUA\\\n",
       "AADIzjENv3jw3jSsfWDfO59I9TtshzJEdm8Dhd39ibs12L27e9ocKFUeNMD9g7X7hzLYi631P483\\\n",
       "GXxorTbyJrUZ2bD7uaoPvQ80bM+//25t3vGOd1T9WEY/gRcAAAAgyZQpU/LmN785J/2/5c/dOJSx\\\n",
       "CdXs2q3lSIZd5xzMsQPF3SourDac9uep+3vsvrt4e9NXTO0v8g51N++u8w5P6P3k9Ifylre8JVOm\\\n",
       "DPWSd4xmAi8AAADAs5YsWZKHv/W15Hcbhi/sJrUfyTCYc/Z1XD9xd2/Vzt6tZU7s77pzfR1T/aiG\\\n",
       "/d3JO5DBRNlqxzb0f871eSrXP3lvlixZUsV5KRKBFwAAAOBZ8+bNy9lnn50X3/pXg39QtWF3qCMZ\\\n",
       "dj1XX+cdzLqqjNb97d7tazxDrS4v1p+h7uwdOPL2ppY7efs7397nrk3o/atp/56FCxfm+OOPr+J8\\\n",
       "FInACwAAALCbj3zkI3n4X1Ykv3104INrFXaTgcNurXfu9vacdRzHsD8Gu4t3cKoJq/0d21/kTQa/\\\n",
       "m3fooffRbE7rlv+Xj3zkI1Wcg6IReAEAAAB2c/zxx+eNb3xjpn3nv/d9UK3n7A72amG9nb83NQi1\\\n",
       "e+/erXY8Q7UG82na/Zha7uLtfVzD3voKsv1F2MFE3uELvR+e9sO86U1vyty5c6t4LEUj8AIAAADs\\\n",
       "ZdmyZdl6703JL+/b845aztlNBjeSodqdu4O9qNp+zN7tazxDrey+tKGE3P3fxZv0HXmrHUIx0MiG\\\n",
       "as47+M/26vwqq7Y+kCuvvHLQj6GYBF4AAACAvRx55JFZvHhxnnfLB3beUE3YTWqza7e/59ufuDuI\\\n",
       "x/U3e7c/uyfK4Qi//dn709nfh92epkHO4612XMP+jGyo1fPs9IEX3JPLLrssRx55ZI2el9FK4AUA\\\n",
       "AADoxQc+8IFs/48fpPTA7YN/UK1GMgxn3N3Pubu1ypS1UM3Shz61otqdvPs7l3ewO4T7Dr3fLf08\\\n",
       "9278Wa644opBnosiE3gBAAAAejFlypQsXbo0h95+RdLdPfADhnskQ3/PUcOLow3H7N2D9v8UPQZ7\\\n",
       "Tbne7P1pGtw83qT6/cgDRd5ah97ndKc7V8y8M0uXLs2UKSO9j5p6EHgBAAAA+vCud70r45/6dco/\\\n",
       "uqHvg0Zq1261O3dHYPfuaMuH1YxpqI3+IuxAn53B7IWufjfv18sPZV3Hk1myZMkgH0vRCbwAAAAA\\\n",
       "fWhqasqyZcsy9fb3J9t/v+edgw27yf7F3Vo9bqA1ZHh279ZCfx9mtZ+6gXbxJv3N463luIaktpE3\\\n",
       "eTpNWTr1u1m2bFmamvb9uDgwCbwAAAAA/XjHO96R42YdmYNu222eaTVhdyR37u56TG/rqOZ5h2Bo\\\n",
       "AwX6NogePajHDeZL1VvkrZ1aRd6BP8NXHHRjZr5gdt7+9rcPZmEcIAReAAAAgH6USqWsWLEi3fe2\\\n",
       "Jo/eUbtdu0ntd+7ux0yCgXbvVjOeYbhHN+zv6IXBfNqrn8c70E7e/Z3Lu+s5eve9/CTXdd+dFStW\\\n",
       "pFSS/MYSX20AAACAAcyZMycf/Z//M1NXXZQ8M4g8WIu4W4udu32tpca7d+tt7w9n+HfxDlfCHtpu\\\n",
       "3qfTnosmfTEfvfqjOfbYY4dlZYxeAi8AAADAIFx22WWZN2dmxt95Rd8HDXYkQ63HMvS3nkGco9rZ\\\n",
       "u3vnzcFPiR09evtUDn4eb9L/Tt6+DLSTNxlc5N3zeZaO/3qOXvCCLF68eJCP5UAi8AIAAAAMwq5R\\\n",
       "DeN+dF2y9nv7HjDUobG1MNi5u73YO+72ZrDJcTjtb9vu7VM02HP2HXn7MlDyHkzkHdxu3tvzn/nS\\\n",
       "uH8zmmEM81UHAAAAGKRjjz02V1/90TR+e69RDYMdybA/O3drMXd3EEVzoN27w6maD2XvY2s1daKv\\\n",
       "UQ19z+Mdyk7eXY8dSP+R9+lsy9sbP5uP/s1Hc8wxxwzifByIBF4AAACAKixevDgvnXd0SncsHdxI\\\n",
       "hmTo83YHUs3c3V4MZvfu/jpo+J9i0Aa7i7e6ebz96e/Ca8n+Rt73l76SWSfPzaWXXlrtwjiACLwA\\\n",
       "AAAAVSiVSmltXZHGn3wpWXvzwA/Y37hbi4uqDWYdfdg7Lw40f7eWlx/b36kXtZ6aUf083sEYWuS9\\\n",
       "Of+eLzfenS+s+ILRDGOcrz4AAABAlY455phc17oi4773puSJh3s/aKCRDMnQ425fqoi7ve3ered4\\\n",
       "hqEYypiG/d3FO7TIW9txDT/Or/Kmxr/PiutajWZA4AUAAAAYigsuuCAfeN+7Ur71NUn7XtlwqKVx\\\n",
       "sOcY6kiHKo2Gi6vtbjgnSlRz7uGLvANffG1zSnlN+WN59/v/IhdccMEAxzMWCLwAAAAAQ7Rs2bKc\\\n",
       "fcoL03Db65OuZ7e/1ivujsDu3VqOXxgue39ovX1aBtvH29M0hHm8+xN5+9eRHXl9w1/lDxaenCuv\\\n",
       "vHK/zsWBQ+AFAAAAGKJSqZSvffXLmTPpt8k9fzn6du4O80XU9i9Xjj612cWbDNdO3r/M/8njc57J\\\n",
       "l776ZXN36eGVAAAAALAfJk2alFv/702Z9It/SH7++f4PHq64W8XVxHrbvdub0TaeoS+Dad77s4s3\\\n",
       "Gco83mT/d/Lu+fhr8y/52qTvZ9W3v5lJkw60tM7+EHgBAAAA9tPs2bNz801fz7j73pX89u7eDxrp\\\n",
       "uFvFdtRaXVxtJEY4DObD2p+Ny9U+tv/I25/BR9678mDePe4z+fo3v5FZs2YN8fk4UAm8AAAAADXw\\\n",
       "8pe/PP/7k3+X8l2vS55eu+ed+xN3+1Nl3B3s7N3edu/Wa/5uFZuTqz5PLXbx9m+gz9rAkXdt2rMo\\\n",
       "V+UTn/i7nHbaaUNYAwc6gRcAAACgRi655JJc+vY3pHT7mUnbup03Vjs3d2/7+/hhMpj9pwcN+yp2\\\n",
       "qvWnqK/eXvtRDUl/n8l1+W3OKF2SP3vLG/POy/+/Ac7DWCXwAgAAANTQ//pf/ytvfd0pafjOK5P1\\\n",
       "v+3/4KczYqMZBrt790DR26ehml28tR3VUH3k3ZjNeWXDJTlt4StyTevyKlfDWCLwAgAAANRQqVTK\\\n",
       "tddemzcsPCn5wRnJM5uHdqIaXVStWqNpPENf9mfG7v7qb1RDrSLvpjyZM3JJXvyyBfncyhUplSQ8\\\n",
       "+ubVAQAAAFBj5XI5X/ziF/PaM+YkPziz98g7HJWyit27tVarCFyPiRTV7uId2jzeZDCRd3N+lz/J\\\n",
       "pTlu/gvyxdu/lnK5PMTnYqwQeAEAAACGQaVSyfXXX5/XnTE7+bdXJNt3G9cw0FiGYR7NkBx44xl6\\\n",
       "+5QNdkxDLfW/izfpL/JuzKa8IpfkmEUn5Gv3fiPjxo2r7eI4IHmVAIxBW7ZsSVtb2z63d3Z2Jkk2\\\n",
       "btzY678SNzU1pbm5edjXBwAAB4rx48fnH//xH/OWt7wl1998WrpP/m6y44ihn3CY6+RgxzMM5gJr\\\n",
       "RfNEev9Yn07vH297mtKYfb+vSnZG3nLaq3r+32RDzmh4W178Zyfni1/8orjLoHmlQI1t3rw5H/rQ\\\n",
       "h3LiiSfmsssuq/dyYB9btmzJpz61PB0dXfvcVyqVMn/+/LS2tqara9/7K5VSFi9eIvICwBD19o+s\\\n",
       "/f0Dq39chQPDuHHj8uUvfzmNF1+cL/7jqel64XeSxlm9HzzUubsF2b071DEOT6b3+DxUtTrf0CPv\\\n",
       "rs/Ezi/42vw6Z5TemtPedkY+97nPGctAVQRexry1a9dm9uzZOe2003LHHXf0ekxHR0e++tWv5p/+\\\n",
       "6Z9y//33Z/PmzWlsbMzhhx+eOXPm5BWveEUuvPDCzJw5M4cddlhuueWWXH/99XnnO9+ZSqUysh8Q\\\n",
       "DKCtrS0dHV15zbk3ZOrUTXvc19nZmDUPXpM3v6k15fKefxHZtGlqVt28KG1tbb7RBIAh2LJlS5Z/\\\n",
       "6u/T1bFnVenvH1hLlXFZsvgy/+2FA0C5XM7nP//5TJr07nz62pemc+43kuaX7XlQPYbP7qaWAXUk\\\n",
       "9LaztrdduH3twO1Ntbt4a+Gu3JtF5cvzZ4vfmGuuucYF1aiawAsD+PnPf57Xve51+dGPfpSmpqac\\\n",
       "dNJJOfXUU/PMM8/k4Ycfzq233ppbb701CxYsyMyZM5Mk5513XpYvX57bb789Z511Vp0/Aujd1Kmb\\\n",
       "Mn36+j1u6+iYmCR53vM2pFLZVo9lMcbsvpOttx1sdq4BB5K2trZ0dezIDa/9w2w6/OCe2xs7u3PN\\\n",
       "6ifT2nJa2ssNPbdPffypLLrxXv+4CgeQUqmU5cuXZ968ebl8yVnZMfuTyYx37LxzoLhbp927tbpw\\\n",
       "2oFgOEY1XJtv5t3jPphP/P01eec731mbhTLmCLzQjyeffDKveMUr8pvf/Cbvec978uEPfzhTpuz5\\\n",
       "n7fHHnssn/3sZ/OHf/iHPbedf/75Wb58eVauXCnwAvRh751sve1gs3MNOBBtOvzgrJ/x3D65iR1d\\\n",
       "SZ7MhmmTs61i1xaMBZdcckmOP/74nPOaRXn69w8mx34i/SaaIcTd4dRb5OwtBB803AvZT32Naehr\\\n",
       "F+9Q9RZ5O9KRv8iHc/2klfnWv9ySU089tYbPyFjjbw/Qj49//OP5zW9+k4ULF+YTn/jEPnE3SY45\\\n",
       "5pj8zd/8zR7x4dRTT82UKVOyatWqdHd3j+SSAQrjuZ1sR+Szfz4rrS1HJUlaW47KZ/98Vm547RHp\\\n",
       "6tjR6wUBAQCK7rTTTsuDD9yb50+6Iw33vyrZ0ccW3iHG3Wp37xZtPEO1atXB+zpPe5rSnqY+H9eZ\\\n",
       "xp7/vTlP5FUNF+TO436Qex+6V9xlvwm80I/bbrstSXLKKadU9bhyuZxzzjkn69atyw9/+MPhWBrA\\\n",
       "AWPT4eOzfsbEbJi2c0TIhmkTs37GxGw6fHydVwYAMLxmz56d+/79npzz8kNy0PqXJu0P1+S8fcXd\\\n",
       "ahV1PEM1o4z76ufDNQ75x/lpTi7/SZrPmZp/XX1PZs2aNUzPxFhiRAP0Y9u2nTNI77zzzrzvfe+r\\\n",
       "6iqW559/fr70pS9l5cqVOfnkk/s8bvv27dm+fXvPn7du3Zpk54XdOjo6hrhy6FtnZ2dKpVI6Oxt7\\\n",
       "Zu7usmPHxD1+3/Nxjc8+rtNrk5rY9Vps7Ewmduz8lTz3e2NnvOZGSM/7QmNjOibu+///sWDXxz1W\\\n",
       "P/4k6Wz0Pj/cnnvf6352LMNOu/737rclO2fz+pow3Ly26m/SpElZufLrWbZsWf7243+c9ud9JTnk\\\n",
       "3J131ng0w4G4e3c4L342lOfsbx7vytyet457e979wXfnyiuvdDE1aqah28+PM8atXbs2s2fPzmmn\\\n",
       "nZY77rhjj/sWL16cT3/600l2/svqBRdckDPOOCN//Md/nEmT+v9PSFtbW6ZOnZqjjz46P/nJT/o8\\\n",
       "btmyZbnqqqv2uf2rX/1qmpr6/vEOAACA/dXW1pYLL7wwW7ZsySGHHFLv5Yx5//zP/5y3ve2itB/0\\\n",
       "5nQd/rFkaz/fd47AeIbedvD2taLBzuDd/bjyxI684mv/N/f+2cJ0bqsMeL6k97UOdiZwX8f2dd6h\\\n",
       "nCfJPoH3qTyVK0ofzj80Xp8V163IBRdc0M+joXoCL2Nef4F3y5Yteetb35qbbrppj9srlUpOP/30\\\n",
       "LF68OOeee26f5z7vvPOyatWq/OxnP8txxx3X6zG97eCdOXNmNm3a5C9YDIuNGzemtbU1b35Ta573\\\n",
       "vA173Ldjx8R8744VecXLL8q4cdv2uO+3v52eL3+lJS0tLZk2bdpILpkD1K7XYmvLUdkwbWImdiQr\\\n",
       "bpuQi87cnm2VZPrGbWlp/aXX3AjY9bVoaW3NtA0bBn7AAahj4sTctmJFzrzoolS2bRv4AQegjdOn\\\n",
       "p7XF+/xweu5977RsmDa55/aJHV1ZcdsvctGZR+9xkbXpG3+Xltbv+5owrLZu3ZqpU6cKvKPIY489\\\n",
       "losuuihrHvpFfldakTS+Yt+DhhB3k+oCb7Vhc6wF3v7OlTwXeW/PHfnzyYsz6w9m5QsrvpBjjjmm\\\n",
       "n0fB0BjRAP1obm7OypUr8/Of/zzf+MY38p3vfCf33HNP2tracuutt+bWW2/Ne9/73vzt3/5tr48/\\\n",
       "//zzs2rVqtx4441ZunRpr8dMmDAhEyZM2Of2SqWSSqXSyyNg/5TL5XR1daVcbk+l0nvEGDdu2z73\\\n",
       "lcvtzz6u7LVJTex6LbaXk93/Pr+tsvNXezlecyOk532hvX3Mxs1dKtu2jdnPQbnd+/xwe+59r2GP\\\n",
       "kLvLtkppj9vbyw2+Jgw7r63R55hjjsntt9+eT3/601m69Nzs6Hxrnpn4N0np2Zw4xPm6wzmeYTTO\\\n",
       "6n0itVlXf+fpb1TDpnTlqiPemy/97iu5+q+uzqWXXmokA8PGKwsG4fnPf36WLl2a2267LU8++WS+\\\n",
       "+c1vZt68eUmSv/u7v8t//Md/9Pq4o47aeUX4X/3qVyO2VoCimfr4M5mxflumb9wZ1aZv3JYZ67dl\\\n",
       "6uPP1HllAAD1USqVctlll+XBB9fkj174o0ztmJ+03zHg42p1cbXRYLguctbXp6i/ccfV+n6+lz86\\\n",
       "7IV5+Pk/zZoH1+Syyy4TdxlWdvBClcaPH59Xv/rVmTp1av7oj/4o3d3deeihh3Lsscfuc+zNN9+c\\\n",
       "JDnnnHNGepkAo15TU1NKlXFZdOO6JDu/kcn8yWlp/WW6unZeaKhUGWceOQAwZh177LH53ve+l099\\\n",
       "6lO54opz0tD1tvy+++qkobrLivW1e7da1Txrb+MZhstwX2htsLt4n87T+R8HLc0/dH8xVy+za5eR\\\n",
       "I/DCEM2cObPnf/d1wbWbbrophxxySE4//fSRWhZAYTQ3N2fJ4svS1rZzPllnZ2dWr16dlpaWlMvl\\\n",
       "JDsjcHNzcz2XCVBzUx9/ao8/N3buvCzK9I2/S3u5oc/jgLGpVCrl8ssvz8KFC9PS0pJHfj4/m9o+\\\n",
       "ls6GRUnDc+8ZQ9m9O5S5sweyJzO0kRXd6c6N5a/nfxy8NEfNn5k1K9b0ugkMhovAC73o7u5Ow27/\\\n",
       "oezNypUrkyQHH3xw/ut//a/73P/AAw9k7dq1+dM//dOMHz9+OJYJ+2XTpqn73NbZ2Zhk5wXVyuX2\\\n",
       "AY+H/dXc3NwTcDs6OpIk06ZNMw8QOCA995ML9+5x+86fYJifltbv9/wEQ899fpIBeNaxxx6bO+64\\\n",
       "I1/4whdy5ZVLMqHxY/nl5qvTVTp9SBdWGwv62nk7lB2/fZ3rrtJ38z8PvSIbxv8mV111Vd7+9rfb\\\n",
       "tcuIE3ihFx/60IfyxBNP5PLLL88JJ5ywx33btm3LF77whbzvfe9Lklx99dW9/qV7VwA+//zzh3u5\\\n",
       "UJWmpqZUKqWsunnRPveVSqXMn598+Sst+3yDmSSVSsk3mQAwRHv/5MIuvf0Ewy5+kgHYXalUysUX\\\n",
       "X5w3vvGNWb58ea6++nWZPuPkPPbzj6YhL67qXLW4uFo9DHWXba09mPvy0eddkfu2/zBXvPeKLFmy\\\n",
       "xPdK1I3AC724++67c9ddd+Wzn/1sZs+enRe+8IU56KCDsm7dujz00EN54okn0tjYmE9+8pO59NJL\\\n",
       "ez3HypUrM378+CxcuHCEVw/9a25uzuLFS/b55jLp/xvMxDeZALC/dv/JhV38BANQraamplxxxRX5\\\n",
       "8z//81x99dX5+79/WZ4/5zX56U/+OsmcnuOGsnu3r/EMfe14PdDGOfQXkJ9IsiWP5mPTPpxbtq7K\\\n",
       "5W+7PF9fen2mTDnQPgsUjcALvfjc5z6Xb3/72/nud7+bRx99NHfffXe2bt2aQw45JMcdd1zOOOOM\\\n",
       "XHzxxTnqqKN6ffzatWuzZs2anHXWWTnkkENGePUwsN6+uUx8gwkAAEUyZcqUfOxjH8uSJUty1VVX\\\n",
       "5ZGfvzAnzGvJg2v+exoaZtR7eSOqr7ELtRrT8HjW59ppf5Wvb2nNm859Ux658pEceeSRQ1kq1JzA\\\n",
       "C72YO3du5s6dmyVLlgzp8cYzAAAAMFKOPPLIXHvttfnLv/zLfOhDH8qPHz4mU6e8Ib9b/66Uul+0\\\n",
       "z/GjYcTBaLb7Lt6HG+7P109anpUPX5+F/21h7v/I/Zk7d249lwf7MPUZhsHKlSvT0NCQ8847r95L\\\n",
       "AQAAYIyYO3dubrjhhqxevTrnvKYxXRP/W/7L3NNy1PO/ke4MPK/BoIGddmRHbp3wjbx97ql5y8SX\\\n",
       "ZfJLG3PfffflhhtuEHcZlQReqLHNmzfn7rvvzktf+tLMmDG2fiQGAACA+ps3b14+85nP5Fe/+lXe\\\n",
       "1vLqbN3+njQefnRecNJ/z6Ssrfp81YwyKJKn9/rzuvxn/uGkD+cNhx+da6a9J6+96Nz8+te/zmc+\\\n",
       "85kcf/zxdVkjDIbACzV22GGHZceOHfm3f/u3ei8FAACAMWzKlCl5//vfn8ceeyzXXXdtjjjqoTxe\\\n",
       "OS6HzDsrU4/5x3TlqWF53oOG5axD90Q/9/0+W3P7hH/MB+edlQsrL8i6o3+cz193bR577LG8733v\\\n",
       "y6GHGmjB6GcGLwAAAMABrFwuZ+HChVm4cGHWrVuX6667Ll/5ylXZOP4tef7sl+eJX7wmpfZzk/R+\\\n",
       "IfG+VDvSoVYjIHafkbu7wV447bf5ZX448eb8+8Gr8u9PfC9zjpmTN73xTflay3V+EpdCEngZ8yZP\\\n",
       "npwrr7wys2bNqvdSAAAAYFgdccQR+eAHP5gPfvCDefTRR3PzzTdn1aqv5+67350dB5+Qidtfk/Ft\\\n",
       "56YpC9IwQj/4/XSSib3c/kRqE4W70pWfZnUefP6q/L/2m/PI+h/nlD86JRece26+dO6nMmfOnBo8\\\n",
       "C9SPwMuYN3ny5CxbtqzeywAAAIARNWfOnLznPe/Je97znjz55JP51re+lZtvvjnf+taZKZeactSU\\\n",
       "c9L22MvS0L0gTZmbhpTrveRB6UpnfpOf5tfNq7N26t35tye+me1dbTl7wdn58GuW5lWvepXRCxxQ\\\n",
       "BF4AAACAMe7QQw/NhRdemAsvvDAdHR2566678s1vfjM/+MFnc//9D6S7KznisBfloO4F6dy0II0d\\\n",
       "CzI5c1Oqc1rqzI6sz0/yi6zOr8ffl8enrs4jmx9IQyl50Qkvysknn5x3nfOVnHLKKalUKnVdKwwX\\\n",
       "gRcAAACAHpVKJaeffnpOP/30JElnZ2d++tOfZvXq1c/+ujb3339pftzRnRmTX5RJO+Ynv/8vGffM\\\n",
       "jEzIjByaIzIxMzIhh6e0n7t+u9KZ3+fxbM36bM26bM36PJX16T70N/nNuDV57HdrUio35KQXn5QF\\\n",
       "L1mQBQvemQULFmTu3Lkpl4ux4xj2l8ALAAAAQJ/K5XJOOOGEnHDCCXnLW96SZGf0/dnPfpbVq1fn\\\n",
       "xz/+cdat+3nWr78z69evz09/uT5bnnoipYZyDm58Xg4aNyON3Uekacehaegal4auStI1LqWOUh79\\\n",
       "3Nr8uvOWlMd1pbvUke7Sjjwz7sn8vmFdtu5Yn63tv01nd2cmHzwl06fNyBFHzsh/mTkjRxxxRN58\\\n",
       "wqVZsGBBXvCCF4i5jGkCLwAAAABVKZfLmTdvXubNm9fr/e3t7dmwYUPWr1/f8+t3v/tdduzY0fOr\\\n",
       "o6MjyQvywvmVjBs3rufX5MmTM2PGjJ5f06dPT2Nj48h+gFAgAi8AAAAANdXY2JhZs2Zl1qxZ9V4K\\\n",
       "HPBK9V4AAAAAAABDI/ACAAAAABSUwAsAAAAAUFACLwAAAADD4pprrskJJ5yQSZMmZfLkyTn99NPz\\\n",
       "gx/8oN7LggOKwAsAAADAsDj66KPziU98ImvWrMk999yTOXPm5KyzzsrmzZvrvTQ4YAi8AAAAAAyL\\\n",
       "173udTnrrLNy7LHHZt68efn4xz+eLVu25Ec/+lGS5Nhjj01DQ0Ovv7797W/XefVQDAIvAAAAAMPu\\\n",
       "mWeeyec+97kceuiheeELX5gkuf7665Mk9957b9avX98zvuHee+/NK1/5yrqtFYpkXL0XAAAAAMCB\\\n",
       "66677srZZ5+dbdu2Zfr06bntttsyZcqUJMlvf/vbTJo0KQsWLEhDQ0N++MMf7vFnYGB28AIAAAAw\\\n",
       "bF7ykpfkgQceyD333JOzzz47r3/967Np06YkyUMPPZQTTjihJ+Y++OCDOfHEE8VdqILACwAAAMCw\\\n",
       "mThxYubMmZOTTz45n//851MqldLa2pok+dGPftQzriFJ1qxZs8efgYEJvAAAAACMmO7u7mzfvj3J\\\n",
       "zh28J554Ys99Dz30kMALVTKDFwAAAIBhsXTp0rzmNa/JkUcemSeeeCKf/vSn8+tf/zqLFi3Kjh07\\\n",
       "8tOf/rQn6HZ3d+exxx7LUUcdVedVQ7HYwQsAAADAsFi3bl3e8IY35LjjjsvChQuzcePG3HXXXTn+\\\n",
       "+OPzyCOP5JlnnunZwdvQ0JATTzwxl1xySR599NE6rxyKww5eAAAAAIbFl7/85T7vmzdvXrq7u/e4\\\n",
       "7b777hvuJcEBxw5eAAAAAICCEngBAAAAAArKiAYAAAAAaq6hoaEm59l7jAOwJ4EXAAAAgJoTZmFk\\\n",
       "GNEAAAAAwIj46Ec/mpe85CU5+OCDM23atLz+9a/P2rVr670sKDSBFwAAAIAR8f3vfz+XX355fvCD\\\n",
       "H+SWW27JE088kbPPPjs7duyo99KgsIxoAAAAAGBE3HLLLXv8+dprr80xxxyThx9+OPPnz6/TqqDY\\\n",
       "7OAFAAAAoC62bNmSJJkyZUqdVwLFJfACAAAAMOI6Ozvz3ve+NwsXLsyRRx5Z7+VAYRnRAAAAAMCI\\\n",
       "6u7uziWXXJJf/vKX+dd//dd6LwcKTeAFAAAAYMR0d3fn0ksvzXe+853ceeedOfzww+u9JCg0gRcA\\\n",
       "AACAEdHd3Z3FixfnX/7lX/L9738/M2fOrPeSoPAEXgAAAABGxOLFi/O1r30tN998cyZOnJgNGzYk\\\n",
       "2XmRtfHjx9d5dVBMAi8AAAAAI+Izn/lMkuSUU07Z4/bvfe97efnLX16HFUHxCbwAAAAAjIju7u56\\\n",
       "LwEOOKV6LwAAAAAAgKEReAEAAAAACkrgBQAAAAAoKIEXAAAAAKCgBF4AAAAAgIISeAEAAAAACkrg\\\n",
       "BQAAAAAoKIEXAAAAAKCgBF4AAAAAgIISeAEAAAAACkrgBQAAAAAoKIEXAAAAAKCgBF4AAAAAgIIa\\\n",
       "V+8FAAAwOjw+dWq9l1A3nY2NSZKN06en3N5e59XUx1j++gMAFJnACwAwxjU1NaVSKuXGRYvqvZS6\\\n",
       "KZVKmZ+ktaUlXV1d9V5O3VRKpTQ1NdV7GQAAVEHgBQAY45qbm7N4yZK0tbXVeyl109nZmdWrV6el\\\n",
       "pSXlcrney6mbpqamNDc313sZAABUQeAFACDNzc1jOux1dHQkSaZNm5ZKpVLn1QAAwOC5yBoAAAAA\\\n",
       "QEEJvAAAAAAABSXwAgAAAAAUlMALAAAAAFBQAi8AAAAAQEEJvAAAAAAABSXwAgAAAAAUlMALAAAA\\\n",
       "AFBQAi8AAAAAQEEJvAAAAAAABSXwAgAAAAAUlMALAAAAAFBQAi8AAAAAQEEJvAAAAAAABSXwAgAA\\\n",
       "AAAUlMALAAAAAFBQAi8AAAAAQEEJvAAAAAAABSXwAgAAAAAUlMALAAAAAFBQAi8AAAAAQEEJvAAA\\\n",
       "AAAABSXwAgAAAAAUlMALAAAAAFBQAi8AAAAAQEEJvAAAAAAABSXwAgAAAAAUlMALAAAAAFBQAi8A\\\n",
       "AAAAQEEJvAAAAAAABSXwAgAAAAAUlMALAAAAAFBQAi8AAAAAQEEJvAAAAAAABSXwAgAAAAAUlMAL\\\n",
       "AAAAAFBQAi8AAAAAQEEJvAAAAAAABSXwAgAAAAAUlMALAAAAAFBQAi8AAAAAQEEJvAAAAAAABSXw\\\n",
       "AgAAAAAUlMALAAAAAFBQAi8AAAAAQEEJvAAAAAAABSXwAgAAAAAUlMALAAAAAFBQAi8AAAAAQEEJ\\\n",
       "vAAAAAAABSXwAgAAAAAUlMALAAAAAFBQAi8AAAAAQEEJvAAAAAAABTWu3gsAAAAYSVu2bElbW1u9\\\n",
       "l9Gjs7MzSbJx48aUy+U6r+Y5TU1NaW5urvcyAIABCLwAAMCYsWXLlnxq+fJ0dHXVeyk9SqVS5s+f\\\n",
       "n9bW1nSNonVVSqUsXrJE5AWAUU7gBQAAxoy2trZ0dHXltTfckMM3bar3cpIknY2NWX3NNWlpbU25\\\n",
       "vb3ey0mSPD51am5ctChtbW0CLwCMcgIvAAAw5hy+aVNmrF9f72UkSTomTkySTNuwIZVt2+q8GgCg\\\n",
       "aFxkDQAAAACgoAReAAAAAICCEngBAAAAAApK4AUAAAAAKCiBFwAAAACgoAReAAAAAICCEngBAAAA\\\n",
       "AApK4AUAAAAAKCiBFwAAAACgoAReAAAAAICCEngBAAAAAApK4AUAAAAAKCiBFwAAAACgoAReAAAA\\\n",
       "AICCEngBAAAAAApK4AUAAAAAKCiBFwAAAACgoAReAAAAAICCEngBAAAAAApK4AUAAAAAKCiBFwAA\\\n",
       "AACgoAReAAAAAICCEngBAAAAAApqXL0XAAAc+LZs2ZK2trZ+j+ns7EySbNy4MeVyud9jm5qa0tzc\\\n",
       "XLP1AQAAFJXACwAMqy1btuRTy5eno6ur3+NKpVLmz5+f1tbWdA1wbKVUyuIlS0ReAABgzBN4AYBh\\\n",
       "1dbWlo6urrz2uzfk8Cc39Xlc54TGrJ5/TVpuak15e3ufxz1+6NTc+MpFaWtrE3gBAIAxT+AFAEbE\\\n",
       "4U9uyoxN6/u8v6NxYpJk2uYNqbRvG6llAQAAFJrACzW2efPmfOhDH8qJJ56Yyy67rN7LgT71NhO1\\\n",
       "vxmoZp4CBwrvfwAAHEgEXkaltWvXZvbs2TnttNNyxx139Nz+kpe8JKtXr67qXFOnTs3jjz9e4xX2\\\n",
       "7bDDDsstt9yS66+/Pu985ztTqVRG7LlhsLZs2ZJP/e/l6ejcc85pfzNQK+VSFl9u5ilQbFu2bMny\\\n",
       "T30qXR0de9ze3/tfqVLJksWLvf8BADAqCbwURnd3d0466aSceOKJe9z+n//5n7nzzjszadKkLFq0\\\n",
       "aJ/HzZ07d6SW2OO8887L8uXLc/vtt+ess84a8eeHgbS1taWjsyuv/ckNObztuZmonZVnZ6A+0Jpy\\\n",
       "x3MzUB9vmpobjzfzFCi+tra2dHV05IYzXptNhx7ec3tjZ2eueWx1Ws9vSftuO3inPvl4Fn3nRu9/\\\n",
       "AACMWgIvhdHQ0JBrr712n9v/+q//OnfeeWdOPvnkXHfddSO/sF6cf/75Wb58eVauXCnwMqod3rYp\\\n",
       "M55+biZqx/hnZ6D+fkMqz5iBChy4Nh16eNYfPqPnzxN3dCSPJRumTsu2cX76BgCA4ijVewGwv+6/\\\n",
       "//4kyYtf/OI6r+Q5p556aqZMmZJVq1alu7u73ssBAAAA4AAl8FJ49913X5LkpJNOqvNKnlMul3PO\\\n",
       "Oedk3bp1+eEPf1jv5QAAAABwgDKigUJ78skns3bt2iSjawdvsnNMw5e+9KWsXLkyJ598cp/Hbd++\\\n",
       "Pdu3b+/589atW5MkHR0d6djrAjBQK52dnSmVSumsNPaMZUiSjsrEPX7vOb7SuPP4zk6vS6rW83qb\\\n",
       "0JiOxol9HtcxYeIev/d5vglejwzdrtdjY2fnzrEMz5rY2bHH77s07nr9er0dMHrekxob0zGx//eb\\\n",
       "kbJrHaNlPUnS2ei9dqzw9QUovoZuPz/OKLR27drMnj07p512Wu64444+j7v99tvzyle+MpMmTcqW\\\n",
       "LVtSKo2eTeltbW2ZOnVqjj766PzkJz/p87hly5blqquu2uf2r371q2lqahrOJQIAAGNcW1tbLrzw\\\n",
       "wmzZsiWHHHJIvZcDwBDYwUuh7Zq/+wd/8AejKu4mSVNTU84888ysWrUqjzzySI477rhej/vABz6Q\\\n",
       "v/iLv+j589atWzNz5sz8yZ/8ib9gMWw2btyY1tbWtDzQmmm/39Bze0dlYm57x4qc+fmLUul47iJr\\\n",
       "Gw+antYXtaSlpSXTpk2rx5IpsJ7X202tmbZ5Q5/HdUyYmNv+ZkXOXHpRKtv7vsjfxsOmp/U8r0eG\\\n",
       "ZtfrsfX8lmyY+tzrZ2JnR1asvi0XLTgz28rPXWRt+qaNaVnZ6vV2AOl5T2ptzbQNfb8njaSOiRNz\\\n",
       "24oVOfOii1LZNjoucrpx+vS0tnivHQt2/QQhAMUl8FJo+zN/9/3vf39WrVpV9eM+//nP52Uve9mg\\\n",
       "jj3//POzatWq3HjjjVm6dGmvx0yYMCETJkzY5/ZKpZJKxVW8GR7lcjldXV0pd7Sn8sy+30hWOrbt\\\n",
       "cXt5fPvO48tlr0uq1vN6296eSvvA4aKyfVu/x5W3ez0ydLtej+3lcraN2/f1s61c2eP29l2vX6+3\\\n",
       "A0bPe1J7+6iJqbtUtm0bNWsqt3uvHSt8fQGKT+Cl0Hbt4B3K/N1169blZz/7WdWPe/rppwd97FFH\\\n",
       "HZUk+dWvflX18wAAAADAQEbXz7RDFdra2noC7VB28H7lK19Jd3d31b9e9apXDfo5br755iTJOeec\\\n",
       "U/X6AAAAAGAgdvBSWGvWrElXV1fGjx+fE044od7L6dVNN92UQw45JKeffnq9lwK9erxp6h5/7qw0\\\n",
       "Jtk5c7c8vr3P4wCKbuqTj+/x58bOziQ7Z+62l8t9HgcAAKONwEth7Zq/e+KJJ47KuVEPPPBA1q5d\\\n",
       "mz/90z/N+PHj670c2ENTU1Mq5VJuPH7RHreXSqXMT9L6opZ0dXXtcV+lXEpTU9MIrhKg9pqamlKq\\\n",
       "VLLoOzfucXupVErmz0/LytZ93v9KlYr3PwAARi2Bl8Lan/m7I2HlypVJdl5oDUab5ubmLL58Sdra\\\n",
       "2va4vbOzM6tXr05LS0vKu+1gS3ZGkebm5pFcJkDNNTc3Z8nixd7/AAA4YAi8FNauHbxDmb87Elau\\\n",
       "XJnx48dn4cKF9V4K9Kq5uXmfYNHR0ZEkmTZt2qjcGQ9QC97/AAA4kAi8FFJHR0d+/OMfJxmdO3jX\\\n",
       "rl2bNWvW5KyzzsohhxxS7+UAjAqPH9r/LOfOCc/OgD5sesrb2/s8bqDzAAAAjCUCL4VUqVSyffv2\\\n",
       "ei+jT8YzADynqakplVIpN75yUb/H9cyAPm/fGdB7q5TMhAYAAEgEXhgWK1euTENDQ84777x6LwWg\\\n",
       "7pqbm7N4yb4zn/fW3wzUvZmJCgAAsJPACzW2efPm3H333XnpS1+aGTNm1Hs5AKNCbzNP92YGKgAA\\\n",
       "QPUEXqixww47LDt27Kj3MgAAAAAYA0r1XgAAAAAAAENjBy+j0uTJk3PllVdm1qxZ9V4KAAAAAIxa\\\n",
       "Ai+j0uTJk7Ns2bJ6LwMAAAAARjUjGgAAAAAACkrgBQAAAAAoKIEXAAAAAKCgBF4AAAAAgIISeAEA\\\n",
       "AAAACkrgBQAAAAAoKIEXAAAAAKCgBF4AAAAAgIISeAEAAAAACkrgBQAAAAAoKIEXAAAAAKCgBF4A\\\n",
       "AAAAgIISeAEAAAAACkrgBQAAAAAoKIEXAAAAAKCgBF4AAAAAgIISeAEAAAAACkrgBQAAAAAoKIEX\\\n",
       "AAAAAKCgxtV7AQAAACPt8alT672EHp2NjUmSjdOnp9zeXufV7DSaPj8AQP8EXgAAYMxoampKpVTK\\\n",
       "jYsW1XspPUqlUuYnaW1pSVdXV72X06NSKqWpqaneywAABiDwAgAAY0Zzc3MWL1mStra2ei+lR2dn\\\n",
       "Z1avXp2WlpaUy+V6L6dHU1NTmpub670MAGAAAi8AADCmNDc3j6pw2dHRkSSZNm1aKpVKnVcDABSN\\\n",
       "i6wBAAAAABSUwAsAAAAAUFACLwAAAABAQQm8AAAAAAAFJfACAAAAABSUwAsAAAAAUFACLwAAAABA\\\n",
       "QQm8AAAAAAAFJfACAAAAABSUwAsAAAAAUFACLwAAAABAQQm8AAAAAAAFJfACAAAAABSUwAsAAAAA\\\n",
       "UFACLwAAAABAQQm8AAAAAAAFJfACAAAAABSUwAsAAAAAUFACLwAAAABAQQm8AAAAAAAFJfACAAAA\\\n",
       "ABSUwAsAAAAAUFACLwAAAABAQQm8AAAAAAAFJfACAAAAABSUwAsAAAAAUFACLwAAAABAQQm8AAAA\\\n",
       "AAAFJfACAAAAABSUwAsAAAAAUFACLwAAAABAQQm8AAAAAAAFJfACAAAAABSUwAsAAAAAUFACLwAA\\\n",
       "AABAQQm8AAAAAAAFJfACAAAAABSUwAsAAAAAUFACLwAAAABAQQm8AAAAAAAFJfACAAAAABSUwAsA\\\n",
       "AAAAUFACLwAAAABAQQm8AAAAAAAFJfACAAAAABSUwAsAAAAAUFACLwAAAABAQQm8AAAAAAAFJfAC\\\n",
       "AAAAABSUwAsAAAAAUFACLwAAAABAQQm8AAAAAAAFJfACAAAAABSUwAsAAAAAUFACLwAAAABAQQm8\\\n",
       "AAAAAAAFJfACAAAAABSUwAsAAAAAUFACLwAAAABAQQm8AAAAAAAFJfACAAAAABSUwAsAAAAAUFAC\\\n",
       "LwAAAABAQQm8AAAAAAAFJfACAAAAABSUwAsAAAAAUFACLwAAAABAQQm8AAAAAAAFJfACAAAAABSU\\\n",
       "wAsAAAAAUFACLwAAAABAQQm8AAAAAAAFJfACAAAAABSUwAsAAAAAUFACLwAAAABAQQm8AAAAAAAF\\\n",
       "JfACAAAAABSUwAsAAAAAUFACLwAAAABAQQm8AAAAAAAFJfACAAAAABSUwAsAAAAAUFACLwAAAABA\\\n",
       "QQm8AAAAAAAFJfACAAAAABSUwAsAAAAAUFACLwAAAABAQQm8AAAAAAAFJfACAAAAABSUwAsAAAAA\\\n",
       "UFACLwAAAABAQQm8AAAAAAAFJfACAAAAABSUwAsAAAAAUFACLwAAAABAQQm8AAAAAAAFJfACAAAA\\\n",
       "ABSUwAsAAAAAUFACLwAAAABAQQm8AAAAAAAFJfACAAAAABSUwAsAAAAAUFACLwAAAABAQQm8AAAA\\\n",
       "AAAFJfACAAAAABSUwAsAAAAAUFACLwAAAABAQQm8AAAAAAAFJfACAAAAABSUwAsAAAAAUFACLwAA\\\n",
       "AABAQQm8AAAAAAAFJfACAAAAABSUwAsAAAAAUFACLwAAAABAQQm8AAAAAAAFJfACAAAAABSUwAsA\\\n",
       "AAAAUFACLwAAAABAQY2r9wKAPXV3dydJtm7dWueVMBZ1dHSkra0tW7duTaVSqfdyGGO8/qgnrz/q\\\n",
       "yeuPetr1fceu70MAKB6BF0aZp556Kkkyc+bMOq8EAAAYK5566qk0NzfXexkADEFDt3+mg1Glq6sr\\\n",
       "69aty8EHH5yGhoZ6LwcAADiAdXd356mnnsoRRxyRUskUR4AiEngBAAAAAArKP88BAAAAABSUwAsA\\\n",
       "AAAAUFACLwAAAABAQQm8AAAAAAAFJfACAAAAABSUwAsAAAAAUFACLwAAAABAQQm8AAAAAAAFJfAC\\\n",
       "AAAAABSUwAsAAAAAUFACLwAAAABAQQm8AAAAAAAFJfACAAAAABSUwAsAAAAAUFACLwAAAABAQQm8\\\n",
       "AAAAAAAFJfACAAAAABSUwAsAAAAAUFACLwAAAABAQQm8AAAAAAAFJfACAAAAABSUwAsAAAAAUFAC\\\n",
       "LwAAAABAQQm8AAAAAAAFJfACAAAAABSUwAsAAAAAUFACLwAAAABAQQm8AAAAAAAFJfACAAAAABSU\\\n",
       "wAsAAAAAUFACLwAAAABAQQm8AAAAAAAFJfACAAAAABSUwAsAAAAAUFACLwAAAABAQQm8AAAAAAAF\\\n",
       "JfACAAAAABSUwAsAAAAAUFACLwAAAABAQQm8AAAAAAAFJfACAAAAABSUwAsAAAAAUFACLwAAAABA\\\n",
       "QQm8AAAAAAAFJfACAAAAABSUwAsAAAAAUFACLwAAAABAQQm8AAAAAAAFJfACAAAAABSUwAsAAAAA\\\n",
       "UFACLwAAAABAQQm8AAAAAAAFJfACAAAAABSUwAsAAAAAUFACLwAAAABAQQm8AAAAAAAFJfACAAAA\\\n",
       "ABSUwAsAAAAAUFACLwAAAABAQQm8AAAAAAAFJfACAAAAABSUwAsAAAAAUFACLwAAAABAQQm8AAAA\\\n",
       "AAAFJfACAAAAABSUwAsAAAAAUFACLwAAAABAQQm8AAAAAAAFJfACAAAAABSUwAsAAAAAUFACLwAA\\\n",
       "AABAQQm8AAAAAAAFJfACAAAAABSUwAsAAAAAUFACLwAAAABAQQm8AAAAAAAFJfACAAAAABSUwAsA\\\n",
       "AAAAUFACLwAAAABAQQm8AAAAAAAFJfACAAAAABSUwAsAAAAAUFACLwAAAABAQQm8AAAAAAAFJfAC\\\n",
       "AAAAABSUwAsAAAAAUFACLwAAAABAQQm8AAAAAAAFJfACAAAAABSUwAsAAAAAUFACLwAAAABAQQm8\\\n",
       "AAAAAAAFJfACAAAAABSUwAsAAAAAUFACLwAAAABAQQm8AAAAAAAFJfACAAAAABTU/w8PUlfw6GXm\\\n",
       "IAAAAABJRU5ErkJggg==\\\n",
       "\"\n",
       "  frames[4] = \"data:image/png;base64,iVBORw0KGgoAAAANSUhEUgAABXgAAAPoCAYAAABkvZZOAAAAOnRFWHRTb2Z0d2FyZQBNYXRwbG90\\\n",
       "bGliIHZlcnNpb24zLjEwLjMsIGh0dHBzOi8vbWF0cGxvdGxpYi5vcmcvZiW1igAAAAlwSFlzAAAP\\\n",
       "YQAAD2EBqD+naQAAuqdJREFUeJzs3Xl4U2X6xvE7TVvaUmjZhCKbgIjsCII7i6MoIurgDxVUKIo6\\\n",
       "oojLjIgbjIrL6CggOm6AOuqo44igAi5sIi6IgijgwqIom1AoltI2Tc/vj5qQpFlO9p72+7muXjbJ\\\n",
       "e97zJj209u6T57UZhmEIAAAAAAAAAGA5KcleAAAAAAAAAAAgMgS8AAAAAAAAAGBRBLwAAAAAAAAA\\\n",
       "YFEEvAAAAAAAAABgUQS8AAAAAAAAAGBRBLwAAAAAAAAAYFEEvAAAAAAAAABgUQS8AAAAAAAAAGBR\\\n",
       "BLwAAAAAAAAAYFEEvAAAAAAAAABgUQS8AAAAAAAAAGBRBLwAAAAAAAAAYFEEvAAAAAAAAABgUQS8\\\n",
       "AAAAAAAAAGBRBLwAAAAAAAAAYFEEvAAAAAAAAABgUQS8AAAAAAAAAGBRBLwAAAAAAAAAYFEEvAAA\\\n",
       "AAAAAABgUQS8AAAAAAAAAGBRBLwAAAAAAAAAYFEEvAAAAAAAAABgUQS8AAAAAAAAAGBRBLwAAAAA\\\n",
       "AAAAYFEEvAAAAAAAAABgUQS8AAAAAAAAAGBRBLwAAAAAAAAAYFEEvAAAAAAAAABgUQS8AAAAAAAA\\\n",
       "AGBRBLwAgKSYPHmybDabbDabJk+enOzlWNLSpUvdr2H//v0Tfv45c+a4zz969OiEn7+6SfbXA9VP\\\n",
       "mzZt3NfE1q1bk70cAAAA1FAEvABQzfXv398dEPj7qFevnlq1aqWzzjpLU6dO1a+//prsJQMAarAP\\\n",
       "P/xQl19+uTp06KC6deuqYcOG6tatm/76179q48aNNeL8v/zyi3Jycrx+3s6ZMycmcwMAAMQaAS8A\\\n",
       "WFxRUZG2bdumRYsW6fbbb9dRRx2lKVOmyDCMZC8NgB+egRESb/To0QR2ETpw4IAuvvhi/elPf9KL\\\n",
       "L76oH374QcXFxdq3b5/WrVunhx9+WN26ddP9999v+fP/5S9/0YEDB2KwagAAgPhLTfYCAADmHX/8\\\n",
       "8erTp4/XfYWFhVq7dq3WrVsnSXI4HJo8ebL279+vRx99NBnLBADUMA6HQxdccIEWL17svq9Lly46\\\n",
       "7rjjVFJSoo8++kg7duyQw+HQpEmT5HA4dNddd1ny/P/5z3/09ttvx2rpAAAAcUfACwAWMnjw4ID9\\\n",
       "aleuXKlLLrlEP//8syTpscce08iRI9W7d+8ErhCovfr370/lPLzUpL6799xzjztczcjI0OzZs3Xx\\\n",
       "xRe7Hy8rK9Mdd9yhf/zjH5Iq+6z369dP/fr1s9T5CwoKdMMNN0iSTjnlFP3888/un6sAAADVFS0a\\\n",
       "AKCGOOmkk/TWW295ve376aefTuKKAAA1we7du/XPf/7Tffuxxx7zClclKT09XQ899JAuuugiSZJh\\\n",
       "GLrtttssd/4bb7xRu3fvVlpamp566ilaqQAAAEsg4AWAGqRHjx7q37+/+/by5cuTtxgAQI3w/PPP\\\n",
       "6+DBg5KkDh066Kqrrgo49qGHHlJKSuWvGJ988om++uory5z/vffe0wsvvCBJ+tvf/qZOnTpFsWoA\\\n",
       "AIDEIeAFgBqmR48e7s+3b99u6pgNGzZo0qRJ6tOnj5o2bar09HQ1adJEffv21V133WV6HpclS5Zo\\\n",
       "xIgRat26tTIyMpSXl6dTTz1VTzzxhIqLi03PE+5mSHPmzHGPHz16tKlzfP3115o4caL69u2rZs2a\\\n",
       "KT09XdnZ2TrmmGN00UUX6bnnnlNhYWHIefbu3atHHnlEZ5xxhlq2bKmMjAzl5uaqU6dOGjdunL74\\\n",
       "4gtT63H54YcfNGHCBHXs2NG9S3yPHj1011136Zdffglrrkh8+eWXGjt2rNq2bavMzEw1adJEffr0\\\n",
       "0UMPPaSCgoKI5121apVuvPFG9ejRQ02aNFF6erqaNWumfv366cEHH9S+fftCztGmTRv319n1Fvhf\\\n",
       "fvlFd955p7p3767c3FzVrVtXHTt21PXXX6+ffvrJ1NqKior0r3/9S+ecc45atWqlrKwspaWlKScn\\\n",
       "Rx07dtS5556rqVOn6ptvvvF7/NKlS93r8vxDi+9jnjw3XPP82Lp1q8rKytSkSRP3fZ988omp5yFJ\\\n",
       "/fr1cx83ffp008f56t+/v3uepUuXSpJ27NihKVOmqGfPnmrYsKEyMjLUsWNHTZw40e+18csvv2jS\\\n",
       "pEnq2bOnGjRooHr16qlHjx6aOnWqDh06ZGodGzZs0KOPPqo///nPOuaYY1SvXj2lpaWpSZMm6t27\\\n",
       "t2688UatX78+6Byu6+b5559335efn+/39fdthRPodZg6dar69OmjZs2ayW63Kzc31+85Pa9Vl7Ky\\\n",
       "Mh133HHuxwcPHhzydXjjjTfc49PS0vTpp5+GPCYW5s6d6/7c9X05kFatWmngwIHu22+++aYlzn/w\\\n",
       "4EFdffXVkqT27dvrjjvuiGyxJvm7poKZPHlywOvT1+LFi3XFFVeoa9euys3NVWpqqrKystSiRQud\\\n",
       "euqpmjBhgt5++22VlZXF5skAAIDkMwAA1Vq/fv0MSYYk4+677w45ftKkSe7xaWlpQceWlJQYV199\\\n",
       "tWG3293H+PvIzMw0ZsyYEfLcDofDGDNmTNC5OnXqZGzcuNG4++67Qz6vUaNGucfMnj075Plnz57t\\\n",
       "Hj9q1KigY/ft22dcdNFFhs1mC7peSUbTpk2DzvX4448bOTk5Qeew2WzGmDFjjNLS0pDPY+bMmUZG\\\n",
       "RkbAuXJzc4158+YZS5Yscd/Xr1+/kPOadfvttwe9Jlq0aGF88sknYb3eBQUFxrBhw0K+1rm5ucbr\\\n",
       "r78edK7WrVu7x2/ZssV48803g77+mZmZxttvvx10zpUrVxpHHnlkyPW5PhwOR5U5gn09PB8z87Fl\\\n",
       "yxbDMAzj5ptvdt935ZVXBn0OLt9//737mDp16hh79+41dZw/nt9/lixZYixatMho1KhRwHW3bt3a\\\n",
       "2Lp1q/v45557zqhTp07A8Z07dzZ2794ddA3/93//Z+o1s9lsxoQJE4zy8nK/83heN6E+fL8n+b4O\\\n",
       "c+fONRo0aFDluJycnIDndH1NPW3YsMHIyspyj5k+fXrA12Hbtm1e55wyZUrQ1y1WDh06ZKSkpLjP\\\n",
       "u3LlypDH3Hfffe7xJ598siXOP2HCBPcxH3zwgft+z6+hmZ9DZvleU6GY+ZlZVFRkDB061PR1/swz\\\n",
       "z8Ts+QAAgORikzUAqGE8q22bNm0acNzBgwc1aNAgffzxx+772rVrp169eqlBgwYqKCjQxx9/rO3b\\\n",
       "t+vQoUO6/vrrdeDAAU2aNCngnJdffrleeeUV9+3c3FwNGDBAjRo10s8//6ylS5dq/fr1Gjx4sIYO\\\n",
       "HRrlM43c9u3bNXDgQH333Xdeaz355JOVl5cnh8Ohn3/+WatXr9aBAwdUUlIScK4JEyZo2rRp7tuN\\\n",
       "GzfWiSeeqGbNmqmkpERfffWVvvnmGxmGoVmzZmn79u1655133G8h9vXUU09p3Lhx7ttpaWnq37+/\\\n",
       "WrdurYKCAi1dulQFBQW68MILNXXq1Bi8Gt4mTZqk+++/3307KytLAwcOVF5ennbu3KnFixfrl19+\\\n",
       "0eDBgzVhwgRTc+7cuVMDBw7Uhg0b3Pd17txZ3bt3V3Z2tnbv3q2PPvpIe/fu1f79+zV8+HC9+OKL\\\n",
       "GjlyZMi5P/jgA11zzTVyOp1q1aqVTjzxRNWvX19btmzR0qVLVV5erkOHDmn48OH65ptvdNRRR1WZ\\\n",
       "Y9u2bRo0aJB+//13SZWv+fHHH6/27dsrKytLBw8e1NatW7V27VodOHDA1HP2deSRR7q/rjNnznTf\\\n",
       "7/m19lS/fn1J0lVXXaVHHnlEkvTqq6/qscceU926dYOea9asWe7P//znP6thw4YRrdnXmjVrNGnS\\\n",
       "JB06dEgtWrTQySefrHr16un777/XRx99JMMw9NNPP+nss8/WunXr9Oqrr+qKK66QJB199NHq06eP\\\n",
       "MjIytG7dOn3++eeSpG+//VaXXXaZFi5cGPC8rg2uUlNT1alTJx199NHKzc2V3W7X7t27tWrVKv36\\\n",
       "668yDEOPPfaYSktL9cQTT1SZZ9SoUdq7d68+/PBDbdy4UZJ0+umnq2PHjlXG9unTJ+B6Vq5cqcmT\\\n",
       "J8vhcKhRo0Y67bTT1LhxY+3evTvsdgQdO3bUo48+6q4c/dvf/qYBAwaoS5cuXuMqKip02WWXuSvc\\\n",
       "Tz75ZN1+++1hnStS3333nSoqKiRVVpz37Nkz5DHHHXec+3PPf/fV9fyff/65u9L9sssu0+mnnx7h\\\n",
       "apPr0ksv1bx589y327dv7660dzgc+u2337Ru3boatfkfAAD4Q5IDZgBACOFU8DocDqNly5bu8Rde\\\n",
       "eGHAsZdffrl7XIcOHfxWEJWXlxtPPPGEuwLPbrcHrJ564YUXvCqDrrvuOqO4uNhrzPbt242BAwca\\\n",
       "koz09PSQzyseFbwOh8M4+eSTvao7H3/8caOsrKzK2NLSUmPevHnG+eef73eu5557zj1P/fr1jWee\\\n",
       "ecbvPIsXL/aqDn3wwQf9zvf99997Ve7269fP2LZtm9eYkpISd6WZ52sYiwreZcuWeVU0X3jhhUZB\\\n",
       "QYHXmP379xsXX3xxlfMHer2dTqcxYMAA97g+ffoYX375ZZVxhw4dMiZPnuw+f926dY3Nmzf7ndOz\\\n",
       "oq5OnTpG3bp1jRdffNGoqKjwGvfNN994ve75+fl+5/Os3Dv11FONX3/91e84h8NhLF261Bg5cqTf\\\n",
       "KlGzFdWe/07M8PweMGvWrKBjy8vLjby8PPf4Dz/80NQ5zJy7Tp06RlpamjFz5kzD6XR6jVu6dKlR\\\n",
       "t25d99ipU6ca2dnZRv369Y3//ve/VeZ99dVXvarEly1bFnANEydONF577TWjsLDQ7+MVFRXGvHnz\\\n",
       "jCZNmrjn++ijjwLOF+73Fd/XITU11bDZbMY999xT5d97SUmJ1+1QFbwu559/vntc165dq8zjWZGa\\\n",
       "k5MTdK5Ye/XVV93nDvVuBpdvv/3W6zoPVaWdzPOXlZUZXbt2NSQZDRs2rDLWKhW8a9ascT+enZ1t\\\n",
       "vPvuuwHn2rRpk3Hvvfca8+bNi+IZAACA6oSAFwCquXAC3nvuucfrl9r33nvP77jly5e7x7Rr1874\\\n",
       "7bffgs7rGZyeddZZVR53Op1ewfLo0aMDzlVcXGx069bNa52JDHifeeYZ95i0tDRj+fLlIef158CB\\\n",
       "A0Zubq476Pz000+Djl+/fr07vG3UqJFx8ODBKmNGjBjhXlvnzp39jnG58sorvV7DWAS8J510knu+\\\n",
       "008/PeBb3Z1Op3HmmWd6nT/Q6+0Z/J9wwglVQn9fniHGNddc43eMZ+Bis9mMBQsWBJzv7bff9go9\\\n",
       "/LVW6NWrl3vMDz/8EHR9wcQr4H3ppZfc40O93XzevHle/7Z9Q+9weX7/kWQ8++yzAcfee++9XmNt\\\n",
       "NlvQgNnzGv7LX/4S1ToNwzA+/fRT93zDhw8POC7agFeSce+995o6zmzAu2fPHqN58+busePHj3c/\\\n",
       "9tlnnxmpqanux1566SVT546VJ554wn3ubt26mTpm7969Xq/Xxo0bq+35//73vwf9A4pVAt4ZM2a4\\\n",
       "H7/99ttjtk4AAGANbLIGABZ34MABffTRRxoxYoTuvPNO9/033nijzjjjDL/H/POf/3R//sgjj6hx\\\n",
       "48ZBzzF69Gj325gXLVqkvXv3ej2+aNEibdu2TZKUmZmphx9+OOBcoR6PN9fb3SXppptu0qmnnhrR\\\n",
       "PLNmzdL+/fslSddee6369u0bdPyxxx6rUaNGSarckM33Len79+/XG2+84b790EMPKSsrK+B8Dz30\\\n",
       "UMi36odjw4YNWrlypfv29OnTZbfb/Y5NSUnRjBkzgm505OJ5rf3rX/9SZmZm0PETJ050b1T1yiuv\\\n",
       "uN+aHciQIUN01llnBXx88ODBatasmaTKTdT8vV3bs+1CkyZNgp4vGYYNG+Zus/Dxxx97tRbx9dxz\\\n",
       "z7k/HzNmjKmvkVndu3d3t1zw55JLLvG6fd5553ltdhVsvKtlQzT69u2rY489VpL04YcfRj1fIM2b\\\n",
       "N9ett94a0zkbNWqkF154wf31mjFjhhYsWKCioiKNHDlS5eXlkqSRI0dqxIgRMT13KEVFRe7PQ/37\\\n",
       "DTTOc47qdP4NGzbovvvuk1S5MWF+fn6Eq0y+6v59DAAAxBcBLwBYyJQpU6rs9p6Tk6PTTjvN3fu2\\\n",
       "UaNGeuCBB7yCNU/l5eV6//33JVX2+RwyZIipcw8YMECSZBiGV99eSVqyZIn788GDB6tRo0ZB5/rT\\\n",
       "n/6kI4880tR5Y+mnn35y996UpOuuuy7iud59913352YDF8+wa8WKFV6PrVy5UqWlpZKkI444Imho\\\n",
       "KUkNGjSIaR9jz69hr1691KlTp6DjO3TooBNOOCHomB07dmjNmjWSpE6dOql79+4h15GRkaETTzxR\\\n",
       "klRYWKhvvvkm6Pj/+7//C/q4zWbzOq+/3pMtW7Z0f/6vf/0r5BoTrU6dOrr88svdtz1DXE+7du3S\\\n",
       "O++8I0my2+0aPXp0TNdx4YUXBn28bdu2Xn90CDXes8/sli1bTK3h+++/18svv6x77rlHt9xyi66/\\\n",
       "/npdd9117o/CwkJJlX9Ecf3RKdYuvPBCpabGfhuL008/XX/9618lVX6fzc/PV35+vn788UdJUps2\\\n",
       "bfz2Fo43zx7k6enppo6pU6eO1+1Dhw5Vu/MbhqGxY8eqtLRUderU0VNPPRXxGqsDz+9jL7zwgoqL\\\n",
       "i5O4GgAAkGhssgYANYjdbteDDz4YtMru66+/1sGDByVVbiZ1ww03mJp71apV7s99gxPPjYVc4Vww\\\n",
       "NptNffv21f/+9z9T546VTz/91P350UcfrRYtWkQ81yeffOL+/Omnn9bzzz8f8phffvnF/Xmw17BP\\\n",
       "nz4BN2HzdOKJJ3ptaheNcL+GrnGer4Mvz8cOHTpkOlDftGmT+/Nt27apW7duAcd27do15Hyef3Dw\\\n",
       "t0na8OHDtXjxYkmVFcTvv/++Ro4cqTPOOCOqaySWrrrqKj322GOSKsObqVOnVgkZn3/+eXel5+DB\\\n",
       "g9W8efOYrsF34y9/cnNz3d9fOnfuHHSs5+ZvoTave+edd3TnnXeGtYnZnj17vEKvWOnVq1fM53S5\\\n",
       "99579eGHH2r16tXatWuX/vvf/0qq/N7+0ksvuTffS6SMjAz352VlZaaOcf2xysVs5W0iz//EE0+4\\\n",
       "/1g5ceJEHXPMMRGvsToYPHiw6tatq4MHD+rLL79Ux44ddcUVV+icc85Rz549A74jAwAA1AwEvABg\\\n",
       "Iccff7zX7u5FRUX6+eef3dWfTqdTV155pTZv3ux+26mv7du3uz/fu3evZs6cGfY6XDu5u/z222/u\\\n",
       "z1u1amVqDrPjYmnXrl3uz9u2bRvxPEVFRfr999/dt5999tmw56hur2E8zu95rW3ZsiUm15qvnJyc\\\n",
       "kHOkpaW5P3c4HFUev/LKK7Vw4ULNnTtXUuXb+11v8W/VqpVOPfVUDRgwQOedd17Idibxcuyxx+qU\\\n",
       "U07RihUrtGvXLr399ts6//zzvcbMmjXL/fmVV14Z8zWYea09Q+dQ4z3HuoJpfyZPnqwpU6aYWKE3\\\n",
       "z3+jsRTPt7+npaXp5Zdf1nHHHecOyiXpjjvu0EknnRS38waTnZ3t/txsJa7vOM85qsP5t23bpttu\\\n",
       "u02SdMwxx7g/t7JGjRrp2Wef1eWXXy6Hw6Ft27Zp8uTJmjx5srKzs9W3b1/169dP5557rnr06JHs\\\n",
       "5QIAgBijRQMAWMjgwYP1+OOPuz/mzJmjxYsXa+vWrV79LKdOnarXXnvN7xyutzBHwzeM8exvGKxv\\\n",
       "rKdY9o81yzPwiSZwqImvYTzOH4/XyVcsesza7Xb973//07PPPlulNcXPP/+sl156SVdeeaWaN2+u\\\n",
       "K6+8UgUFBVGfMxJXXXWV+3PfNg0rVqxw9+bNy8vTOeecE/Pzh/tax+Jr8/7773uFuyeeeKKefvpp\\\n",
       "ffXVV9qzZ49KSkpkVG4aLMMw1K9fP/fYUP2bIxVNNaoZ9evXr3IO3zA/kTwr4D3/SBbMzp07vW57\\\n",
       "VmtXh/OPHz/e/fPgqaeeqtLSwaouvvhiff7557rgggu8/rBVVFSkDz/8UHfddZd69uyp3r1766OP\\\n",
       "PkriSgEAQKxRwQsANUCzZs3073//WwUFBVq0aJEk6S9/+YvOOOMMNWjQwGusZyjXrVs3rV27Nurz\\\n",
       "e4alZvv+eVanxUqoQKdevXruz6PZ9Mc32CwoKKjyOocr2a9hPM7v+ToNHTpUb731VmSLSwCbzaYr\\\n",
       "rrhCV1xxhb7//nstW7ZMH3/8sT766CNt3rxZUmX173PPPaelS5fqk08+SfhGRhdeeKFuuOEG7du3\\\n",
       "TwsWLND27dvdbRg8A9/Ro0fXmLdj/+Mf/3B/PmbMGD377LNBg+N4Ve0mimEYGj16tPbs2eN1/+WX\\\n",
       "X65Vq1YlJYj0bF2we/dulZSUeLVN8Ofnn392f96wYcOo/q3E4/yuVh916tQJuWHejh073J/fc889\\\n",
       "7j7deXl5evPNN809iQTq0aOH/ve//2n//v1avny5VqxYoRUrVuiLL75wv4Nh9erVGjBggF555ZWQ\\\n",
       "fcwBAIA1UMELADVESkqKnn32WXeoVlBQoKlTp1YZ17RpU/fnvlVOkfL85dnzF+tgzGyA5FmBFKqS\\\n",
       "UwpdMer53M1u6uRPbm6uV9ASi9cxXq9hMs8fj2stETp06KCxY8dqzpw52rRpk7777jvddNNN7tB0\\\n",
       "06ZNEbUMiFZmZqYuvfRSSZLT6XT3ff7999/1+uuvSzocVNcETqdTy5Ytk1T5/e3+++8PWRVs9tqt\\\n",
       "rh577DH3H+nq1avnDvDXrVunv/3tb0lZ0zHHHOPuCW4YhnvjxGC+/PJL9+fHHntstT1/aWmpPvvs\\\n",
       "s6Afnn1/N2/e7L4/nH7QoRiGEXJMuJum5ebmaujQoXrooYe0cuVK7dmzR7Nnz3a31nE6nbr22muj\\\n",
       "2gAPAABUHwS8AFCDtGjRQhMmTHDffvzxx6sEaz169HCHk7t373bv0B6Nnj17uj/33MgsEMMw9Nln\\\n",
       "n4Uc57mh0N69e0OOX7duXdDHTzjhBPfn33//vdemZ+Hy7IXs2qgnGp6v4apVq0y9vTzYBmfRnN/M\\\n",
       "19DM+fv27ev+fM2aNXGp2k6EDh066JFHHvEKdefNm5eUtXi2aXD13P3Pf/7jfm379eundu3aJWVt\\\n",
       "sbZnzx53uHbEEUfoiCOOCDp+/fr1VSpf/YlF64h4+Prrr716wc6YMUMvvviie70zZszQwoULE76u\\\n",
       "jIwMr++dS5cuDXmMK5iXpIEDB1r6/IkQapNBSVH9vJIqf56OHj1aixcvdv8/wJ49e2L6cwQAACQP\\\n",
       "AS8A1DA333yzuxVBSUmJHnroIa/HMzMzvX7hfeKJJ6I+54ABA9yfv/vuuyF7lC5evNjUL6tt2rRx\\\n",
       "fx6qaqukpETz588POqZ169Ze1VyRbPrlMmTIEPfnTz75pKkKrGBOOukk9y/du3bt0nvvvRd0fGFh\\\n",
       "YUxDRs+v4RdffKGNGzcGHf/jjz+GDAbatm3rfr3Lysqq9I21mqFDh7o/N9sL1B/Pt5f72/QtmC5d\\\n",
       "uujEE0+UVPk1WLZsmdfrGo/N1ZLFVbUpmdtc68knnzQ1bzSvf7yUlJRoxIgRKi0tlSQNHz5co0aN\\\n",
       "0sCBA3XLLbdIOty+wXNDxETx7AE8Z86coGO3bdvm3qTQ99jqcv6tW7d69W4O9tG6dWv3cbNnz3bf\\\n",
       "v3Xr1iif1WGhfr5VVFTErGduu3bt1LlzZ/ftaL6XAQCA6oOAFwBqmAYNGuj66693337qqaeqBAKe\\\n",
       "PQdnzJihDz74wPT8/t5qf+aZZ6ply5aSKt9GGuytxCUlJbr55ptNncuzAvTtt98OWp131113mare\\\n",
       "u+mmm9yfP/LIIxH/0nz11VcrNzdXUuXbgcN5y/6ePXvkdDq97svNzdWwYcPct//2t78FDbVuvfXW\\\n",
       "qPoI+zr22GN10kknuW/fcMMNAauIKyoqNH78eFOhtue1dscdd4SssvaUqLYOZq4bybslRahq0mA8\\\n",
       "N4369ddfwz7es4r31ltvdVfDN2jQwOsasrpGjRopJydHUuUfNDyrMn19/PHHpgPeaF//eLjlllv0\\\n",
       "7bffSpJatmypp556yv3Yvffe666w37Vrl8aMGZPw9Y0aNcrd/ue7777Ts88+G3Dsrbfe6v7+duKJ\\\n",
       "J+q4446z/Pnj7YUXXlBJSUnAx//97397/VHU9+eHZP77mNPp9OorHM33MgAAUH0Q8AJADXTTTTe5\\\n",
       "N80qLi7WI4884vV4v379NGrUKEmVvW3POecc3X///QEDw5KSEs2dO1fnnXeeVxWji91u1z333OO+\\\n",
       "/dxzz2nChAlVfmHduXOnzj33XK1du1bp6ekhn8fxxx/vfrt5UVGRLrnkEu3bt89rTHFxsf7617/q\\\n",
       "H//4h6kNiEaPHu0OMh0Oh8466yw98cQTfiv5ysrKNH/+fF1wwQVVHsvJydGjjz7qvj1lyhSNGjUq\\\n",
       "YA9QwzD08ccf69prr1WrVq38hrd33XWX+zmsW7dO55xzTpUAqrS0VLfccoueeuopU69hOO677z73\\\n",
       "28Hfe+89jRgxQvv37/cac+DAAV122WVasGCBqfNfeuml7orx33//Xaeccoqeeuopr76WvvO/9NJL\\\n",
       "6t+/v9cfKuKpVatWuvrqq7Vs2bKAofYXX3zhtZ6zzz474vN16dLF/bmrd244hg8f7g4+PVudjBw5\\\n",
       "MuTmU1aSkpKiwYMHu2+PHj1an3/+eZVxr732mgYPHiyn01llA0R/PF//t956K+C1mCjvvvuu+90E\\\n",
       "KSkpevHFF91/PJKk9PR0vfzyy8rKypJU+ceuWLzzIhxHHHGE1x/Hxo8fr9dee81rjMPh0MSJE/XK\\\n",
       "K6+477v//vuDztumTRvZbDbZbDaNHj064eevLjZv3uz3+61U+T3i2muvrTJe8g56//rXv+q0007T\\\n",
       "Cy+84HceqbLV0dixY90Bb/369b3+sAcAACzMAABUa/369TMkGZKMu+++2/Rxt956q/u47OxsY+/e\\\n",
       "vV6Pl5SUGGeeeaZ7jCQjKyvLGDBggDFq1CjjqquuMoYPH2706tXLqFOnjntMr169Ap5z+PDhXvM1\\\n",
       "aNDA+POf/2yMHTvWOOuss9zzHHXUUcaECRNMPa/XXnvNa86cnBzjz3/+s3HVVVcZQ4cONXJzcw1J\\\n",
       "RvPmzY377rvPPW7UqFEB59y2bZtx9NFHe82bm5trnHPOOcaVV15pjB492hgwYIBRv3599zkDufPO\\\n",
       "O73msdvtRq9evYyRI0caV199tTFy5EijX79+Rk5Ojte433//3e98M2fO9BqXnp5unHnmmcbYsWON\\\n",
       "Cy+80GjUqJH7/n/84x/ucf369Qu4xnD89a9/9Tp/3bp1jXPPPdcYO3asMXToUCM7O9v9tZ08ebKp\\\n",
       "13vPnj1Gz549veatX7++MWjQIGPMmDHu59a1a1cjNTXVPWbYsGF+52vdurV7zJYtW0I+p1GjRrnH\\\n",
       "z549u8rjnuuqV6+eceqppxqXXnqpcfXVVxvDhg0zOnfu7DWmSZMmxq+//lplniVLlpj6ejz99NPu\\\n",
       "cTabzRgwYIBx3XXXGTfffLP7o6CgIOhzuvbaa73WJMlYs2ZNyNciXJ7ff5YsWRJyfLhfG8/1+/Pt\\\n",
       "t98amZmZXq/XSSedZIwePdoYMWKEcdRRR7kfGzt2rKn17t+/32vOtm3bGmPGjDFuuukm9+u/aNGi\\\n",
       "qF4Hs6/Hzp07jSOOOMI9ZuLEiQHnevLJJ93jMjMzjfXr15teRyyUlZUZAwcO9Pqade3a1Rg1apRx\\\n",
       "0UUXGXl5eV6PTZkyJeScnq9PsO8h8Tq/GZ5r9Pf9I1Ke11SzZs3c33+GDBliXHXVVcbIkSO9fk51\\\n",
       "6tTJ6+fMxRdfbAwePNg9n+f3ObvdbnTu3Nm48MILjbFjxxqXXnqpMWDAACM9Pd3rNXr66adj9nwA\\\n",
       "AEByEfACQDUXacC7e/duo27duu5j77jjjipjysvLjTvvvNPIysqqEhb5+0hLSzPGjRsX8JxlZWVe\\\n",
       "v2T6++jYsaOxYcMG4+677zb9vKZMmRJ0zmOOOcb45ptvjNmzZ5sOC/bu3WtccMEFpp73kUceGXSu\\\n",
       "V1991WjevLmpuSQZffr0MUpKSgLON336dK9Q3fcjJyfHeOutt0wHiuGaOHGikZKSEvD8zZs3N1au\\\n",
       "XBnW611cXGxcc801XgFusI/MzExj6tSpfueKdcDrCq3NfHTv3t3YsGGD3/OY/XqUlZUZp512WtDz\\\n",
       "hHpea9as8Rrfu3fvkK9DJJId8BqGYcydOzfk96irrrrKKCkpMb3eJ5980rDZbAHn8/2eFK+A9+yz\\\n",
       "z/b6GpaVlQWdb+jQoe7xPXr0MEpLS02vJRb2799f5Q95/n5O3HfffabmCyfgjcf5w11jvALeV155\\\n",
       "xWjbtm3A53TGGWcYe/bsMRo0aFDl+5HLddddZ/r7WL169Qh3AQCoYWjRAAA1VJMmTfSXv/zFfXvG\\\n",
       "jBlV3rZpt9v197//XVu3btXDDz+ss846S61atVJWVpbS0tLUqFEjHXfccRo1apTmzJmjX3/9VY8/\\\n",
       "/njAc6alpWnOnDn68MMPddFFF6lFixZKT09X06ZNdfLJJ2vatGlatWqVOnbsGNZzueuuu7Ry5Upd\\\n",
       "cskl7jkbN26sE044QY899pi++OILr01jzGjYsKH+97//6fPPP9eECRPUo0cPNW7cWHa7XdnZ2erY\\\n",
       "saMuvvhizZkzR999913QuYYPH67Nmzdrzpw5uuSSS9S+fXvl5OTIbrerfv36OvbYY/XnP/9Zjz76\\\n",
       "qL777jt99tlnQdtJXH/99fr66691/fXX6+ijj1ZmZqZyc3PVtWtX3Xbbbfr666/9tsqIlfvvv1+f\\\n",
       "f/65xowZozZt2qhOnTpq1KiRevXqpfvuu09r1651b/RlVmZmpp588kn98MMPuueeezRgwAAdeeSR\\\n",
       "ysjIUHp6upo0aaK+ffvqqquu0quvvqqdO3fqtttui9Mz9LZ37169//77uuOOOzRo0CC1bdtWdevW\\\n",
       "ld1uV7169XTsscfq0ksv1Ztvvqkvv/wy7OvXV1pamj744AM9+eST+tOf/qRmzZqF3W6je/fuatu2\\\n",
       "rft2Tdpczdd5552nb775Rtddd506dOigjIwMZWdnq0OHDsrPz9eyZcv01FNPmWrR4nLNNdfoo48+\\\n",
       "0mWXXaYOHTqobt267vYkiTJjxgwtWLBAklS3bl299NJLSktLC3rMc889p7y8PEmVG3NNmjQp7uv0\\\n",
       "lJOTo1dffVXvv/++Lr30UrVr105ZWVnKyclRly5ddPPNN2vt2rVxW1eyzx8vzZo105dffqlJkybp\\\n",
       "2GOPdT+nE044Qf/617+0cOFCNWrUSP/973917LHHKjMzUz179tSNN97onmPGjBlav369pk+frhEj\\\n",
       "Rqh79+5q0KCBUlNTlZGRoSOPPFJnnnmmHn74Yf34448aO3ZsEp8xAACINZthRLntNwAAABJq69at\\\n",
       "atu2rQzDUN26dbV9+3bVr18/2csCYFL//v3dGwcuWbJE/fv3T+6CAACApVHBCwAAYDGzZs2S62/0\\\n",
       "w4cPJ9wFAAAAajECXgAAAAspKSnRM8884759zTXXJHE1AAAAAJKNgBcAAMBC7rjjDu3cuVOSdNJJ\\\n",
       "J6lPnz5JXhEAAACAZEpN9gIAAAAQ2MKFC7Vw4UIdOnRIn3/+udasWSNJstlsuv/++5O7OAAAAABJ\\\n",
       "R8ALAABQjX366aeaNm1alftvueUWnXbaaUlYEQAAAIDqhIAXAADAIrKystS1a1dde+21uvzyy5O9\\\n",
       "HAAAAADVgM1wbcEMAAAAAAAAALAUNlkDAAAAAAAAAIsi4AUAAAAAAAAAiyLgBQALKikp0V/+8hfd\\\n",
       "d999yV4K4MZ1ieqKaxOxwrUEAACqIwJeALCgDz74QP/617/022+/ue/r3bu3bDZbWB9NmjRJ+Nq3\\\n",
       "bt0qm82m/v37J/zciK94XZevv/66+vfvrwYNGqhu3brq3r27HnroITkcDr/r4BqDL3/XpieHw6Hn\\\n",
       "n39e55xzjpo3b646deooJydH7du311lnnaUHH3xQ27Ztc4/nGqu9+PkLAACqo9RkLwAAEL65c+dK\\\n",
       "ks4//3xJkmEY6tmzp7p06eI1bsuWLVq+fLmys7M1bNiwKvN07Ngx3ktFLRKP63LChAmaNm2aUlNT\\\n",
       "NXDgQGVnZ2vx4sW69dZbNX/+fL333nvKzMyM23NCzeB7bXr64Ycf9Oc//1nffPONsrKy1LNnT512\\\n",
       "2mkqKyvT+vXrtWjRIi1atEi9evVSy5YtE7twVDv8/AUAANURAS8AWExFRYXmz5+vRo0a6dRTT5Uk\\\n",
       "2Ww2PfPMM1XG3nvvvVq+fLn69u2rOXPmJHilqE3icV3OnTtX06ZNU3Z2tpYtW6bjjjtOkrRnzx4N\\\n",
       "HDhQK1as0J133qmHH344Ls8JNYO/a9Nl3759GjBggH799VfdeOONuuOOO9SwYUOvMZs3b9ZTTz2l\\\n",
       "448/PpHLRjXEz18AAFBd0aIBACxm5cqV2r17t4YMGSK73R507FdffSVJ7mAsWqNHj5bNZtPSpUtj\\\n",
       "Mh9qjnhcl1OnTpUkTZw40Wts48aN9cQTT0iSHn/8cRUWFkazdNRwwa7Nhx9+WL/++qsGDx6sf/7z\\\n",
       "n1XCXUlq27atHnzwQeXk5CRqyaimkvnzFwAAIBgCXgCwmGBvNfb15ZdfSpJ69uwZxxUBsb8uf/31\\\n",
       "V61atUqSNGLEiCqPn3LKKWrZsqVKS0v17rvvhr9g1BrBrs33339fkqpU9gL+8PMXAABUVwS8AGAx\\\n",
       "b731ljIzM3XmmWcGHbdv3z5t3bpVEhVEiL9YX5eu6reGDRvqqKOO8jumd+/eXmMBf4Jdm4cOHZIk\\\n",
       "LV++XE6nM9FLg8Xw8xcAAFRXBLwAYCHffPONfvzxR5155pnKysoKOtYVemVnZ+voo49OxPJQS8Xj\\\n",
       "utyyZYskqVWrVgHHuDa8co0FfIW6Nk877TRJ0oIFC3T00Ufr1ltv1fvvv6+ioqJELxXVHD9/AQBA\\\n",
       "dUbACwAWEs7bQ12/YHbv3l0pKXy7R/zE47r8/fffJUl169YNOCY7O1uSdODAAZMrRW0T6tqcOnWq\\\n",
       "zjvvPEmVfyh46KGHdOaZZ6phw4Y666yzNH/+/AStFNUdP38BAEB1lprsBQAAzJs7d67sdrvOPffc\\\n",
       "kGOj6f/37LPPasWKFVXud933wAMP+N0VfOLEierYsWPY54O1Jeq6BMIV6trMycnR3Llz9cMPP+h/\\\n",
       "//ufPvjgA61cuVLFxcVatGiRFi1apFtuuUX/+Mc/ErxyVDeJ+j73t7/9TfPmzQv7uGeffVannHJK\\\n",
       "2McBAICagYAXACxk27ZtqlevnnJzc0OOjWYH7xUrVuj5558P+PiiRYv83j969GgC3looHtdlvXr1\\\n",
       "JEkHDx4MOMb1Nvr69eubXClqG7PXpqs9w6233qqysjK9//77+tvf/qb169frkUce0TXXXKN27dol\\\n",
       "ZtGolhL183f79u367rvvwj6OtiIAANRuvGcIACxkyJAh2r9/v9/qWk/FxcXuXxAjqSCaM2eODMOo\\\n",
       "8jFq1ChJ0pIlS/w+3r9//7DPBeuLx3XZpk0bSZWhSiCux1xjAV9mr01P6enpOuecczRr1ixJkmEY\\\n",
       "WrduXbyWCItI1M/ff//7335/vob6OOussyJ6XgAAoGYg4AUAC3H1/nP1Agxk7dq1qqioUHp6ujp3\\\n",
       "7hz/haFWi8d16QpG9u7dG3ATtS+++EISu9QjMLPXpj+uTfykw/2eUXvx8xcAAFRnBLwAYCFnnHGG\\\n",
       "6tatq7feeivoOFf/vy5duigtLS0RS0MtFo/rskWLFjr++OMlSS+//HKVx1esWKFt27apTp06Gjx4\\\n",
       "cIQrR00X6No0DCPksa4gr169ejrppJPisTxYCD9/AQBAdUbACwAWkpGRoUGDBmnLli1au3ZtwHHR\\\n",
       "9P8DwhWv63LSpEmSKjf1c4UmUmVV77XXXitJuu6665STkxPp0lHDBbo2b7/9dl1zzTX69ttvqxxz\\\n",
       "6NAhPf7447r55pslVV5/WVlZCVszqid+/gIAgOqMgBcALMbM20Sj2cEbiEQ8rsvzzz9f48ePV1FR\\\n",
       "kU444QSdffbZuvDCC9W+fXutW7dOJ598su65555ol44azt+1uWLFCj311FPq0qWL2rZtq/POO08j\\\n",
       "RoxQ//791aJFC11//fWSpGnTprn/mADw8xcAAFRXBLwAYDFDhgxRampqwF8wHQ6HuyqNCiIkSryu\\\n",
       "y2nTpunVV1/ViSeeqJUrV+rdd99VixYt9MADD2jx4sXKzMyMxfJRg/m7Np9++mlNmzZNQ4cOVWZm\\\n",
       "plasWKHXX39d69atU4cOHXTHHXfou+++0/jx45O3cFQ7/PwFAADVVWqyFwAACE+DBg102mmnafHi\\\n",
       "xfrpp5/UunVrr8fT0tJUWloal3PPmTNHc+bMicvcsLZ4XpfDhw/X8OHDY7FM1EL+rs2OHTuqY8eO\\\n",
       "BLgISzJ//gIAAARDBS8AWFA0O8MD8cJ1ieqKaxOxwrUEAACqIwJeALAgfsFEdcR1ieqKaxOxwrUE\\\n",
       "AACqI1o0AIAFtWzZUoZhJHsZgBeuS1RXXJuIFa4lAABQHVHBCwAAAAAAAAAWRQUvACChcnNzdffd\\\n",
       "d6tNmzbJXgpqKK4xxBvXGKyI6xYAgJrLZvAeIwAAAAAAAACwJFo0AAAAAAAAAIBFEfACAAAAAAAA\\\n",
       "gEUR8AIAAAAAAACARRHwAgAAAAAAAIBFEfACAAAAAAAAgEUR8AIA3EpLSzV58mSVlpYmeymohbj+\\\n",
       "kExcf0gmrj8AABANm2EYRrIXAQCoHg4cOKCcnBwVFhaqfv36yV4OahmuPyQT1x+SiesPAABEgwpe\\\n",
       "AAAAAAAAALAoAl4AAAAAAAAAsKjUZC8AgLeKigpt375d9erVk81mS/ZyUMscOHDA679AInH9IZm4\\\n",
       "/pBMXH9IJsMw9Pvvv6t58+ZKSaEGDACsiB68QDXzyy+/qGXLlsleBgAAAIBaZNu2bWrRokWylwEA\\\n",
       "iAAVvEA1U69ePUmV/4PFJhtINIfDoffee09nnnmm0tLSkr0c1DJcf0gmrj8kE9cfkunAgQNq2bKl\\\n",
       "+/cQAID1EPAC1YyrLUP9+vUJeJFwDodDWVlZql+/Pr9gIuG4/pBMXH9IJq4/VAe0hwMA66LBDgAA\\\n",
       "AAAAAABYFAEvAAAAAAAAAFgUAS8AAAAAAAAAWBQBLwAAAAAAAABYFAEvAAAAAAAAAFgUAS8AAAAA\\\n",
       "AAAAWBQBLwAAAAAAAABYFAEvAAAAAAAAAFgUAS8AAAAAAAAAWBQBLwAAAAAAAABYFAEvAAAAAAAA\\\n",
       "AFgUAS8AAAAAAAAAWBQBLwAAAAAAAABYFAEvAAAAAAAAAFgUAS8AAAAAAAAAWBQBLwAAAAAAAABY\\\n",
       "FAEvAAAAAAAAAFgUAS8AAAAAAAAAWBQBLwAAAAAAAABYFAEvAAAAAAAAAFgUAS8AAAAAAAAAWBQB\\\n",
       "LwAAAAAAAABYFAEvAAAAAAAAAFgUAS8AAAAAAAAAWBQBLwAAAAAAAABYFAEvAAAAAAAAAFgUAS8A\\\n",
       "AAAAAAAAWBQBLwAAAAAAAABYFAEvAAAAAAAAAFgUAS8AAAAAAAAAWBQBLwAAAAAAAABYFAEvAAAA\\\n",
       "AAAAAFgUAS8AAAAAAAAAWBQBLwAAAAAAAABYFAEvAAAAAAAAAFgUAS8AAAAAAAAAWBQBLwAAAAAA\\\n",
       "AABYFAEvAAAAAAAAAFgUAS8AAAAAAAAAWBQBLwAAAAAAAABYFAEvAAAAAAAAAFgUAS8AAAAAAAAA\\\n",
       "WBQBLwAAAAAAAABYFAEvAAAAAAAAAFgUAS8AAAAAAAAAWBQBLwAAAAAAAABYFAEvAAAAAAAAAFgU\\\n",
       "AS8AAAAAAAAAWBQBLwAAAAAAAABYFAEvAAAAAAAAAFgUAS8AAAAAAAAAWBQBLwAAAAAAAABYFAEv\\\n",
       "AAAAAAAAAFgUAS8AAAAAAAAAWBQBLwAAAAAAAABYFAEvAAAAAAAAAFgUAS8AAAAAAAAAWBQBLwAA\\\n",
       "AAAAAABYFAEvAAAAAAAAAFgUAS8AAAAAAAAAWBQBLwAAAAAAAABYFAEvAAAAAAAAAFgUAS8AAAAA\\\n",
       "AAAAWBQBLwAAAAAAAABYFAEvAAAAAAAAAFgUAS8AAAAAAAAAWBQBLwAAAAAAAABYFAEvAAAAAAAA\\\n",
       "AFgUAS8AAAAAAAAAWBQBLwAAAAAAAABYFAEvAAAAAAAAAFgUAS8AAAAAAAAAWBQBLwAAAAAAAABY\\\n",
       "FAEvAAAAAAAAAFgUAS8AAAAAAAAAWBQBLwAAAAAAAABYFAEvAAAAAAAAAFgUAS8AAAAAAAAAWBQB\\\n",
       "LwAAAAAAAABYFAEvAAAAAAAAAFgUAS8AAAAAAAAAWBQBLwAAAAAAAABYFAEvAAAAAAAAAFgUAS8A\\\n",
       "AAAAAAAAWBQBLwAAAAAAAABYFAEvAAAAAAAAAFgUAS8AAAAAAAAAWBQBLwAAAAAAAABYFAEvAAAA\\\n",
       "AAAAAFgUAS8AAAAAAAAAWBQBLwAAAAAAAABYFAEvAAAAAAAAAFgUAS8AAAAAAAAAWBQBLwAAAAAA\\\n",
       "AABYFAEvAAAAAAAAAFgUAS8AAAAAAAAAWBQBLwAAAAAAAABYFAEvAAAAAAAAAFgUAS8AAAAAAAAA\\\n",
       "WBQBLwAAAAAAAABYFAEvAAAAAAAAAFgUAS8AAAAAAAAAWBQBLwAAAAAAAABYFAEvAAAAAAAAAFgU\\\n",
       "AS8AAAAAAAAAWBQBLwAAAAAAAABYFAEvAAAAAAAAAFgUAS8AAAAAAAAAWBQBLwAAAAAAAABYFAEv\\\n",
       "AAAAAAAAAFgUAS8AAAAAAAAAWBQBLwAAAAAAAABYFAEvAAAAAAAAAFgUAS8AAAAAAAAAWFRqshcA\\\n",
       "ALVFYWGhiouLk72MoJxOpyRp165dstvtSV5NcFlZWcrJyUn2MgAAAAAASCoCXgBIgMLCQs2cPl2O\\\n",
       "iopkLyWolJQUdevWTbNnz1ZFNV9rWkqKxo0fT8gLAAAAAKjVCHgBIAGKi4vlqKjQBW+8oSZ79iR7\\\n",
       "OQE5MzK0+tFHlT97tuwlJcleTkC/NW6sN4cNU3FxMQEvAAAAAKBWI+AFgARqsmeP8nbsSPYyAnJk\\\n",
       "ZkqSmu7cqbRDh5K8GgAAAAAAEAqbrAEAAAAAAACARRHwAgAAAAAAAIBFEfACAAAAAAAAgEUR8AIA\\\n",
       "AAAAAACARRHwAgAAAAAAAIBFEfACAAAAAAAAgEUR8AIAAAAAAACARRHwAgAAAAAAAIBFEfACAAAA\\\n",
       "AAAAgEUR8AIAAAAAAACARRHwAgAAAAAAAIBFEfACAAAAAAAAgEUR8AIAAAAAAACARRHwAgAAAAAA\\\n",
       "AIBFEfACAAAAAAAAgEUR8AIAAAAAAACARRHwAgAAAAAAAIBFEfACAAAAAAAAgEUR8AIAAAAAAACA\\\n",
       "RRHwAgAAAAAAAIBFEfACAAAAAAAAgEUR8AIAAAAAAACARRHwAgAAAAAAAIBFEfACAAAAAAAAgEUR\\\n",
       "8AIAAAAAAACARRHwAgAAAAAAAIBFEfACAAAAAAAAgEWlJnsBAACgZissLFRxcXHIcU6nU5K0a9cu\\\n",
       "2e32kOOzsrKUk5MT9foAAAAAwMoIeAEAQNwUFhZq5vTH5agoDzk2JSVF3bp10+zZs1VRURFyfFpK\\\n",
       "qsaNv46QFwAAAECtRsALAADipri4WI6Kcl3whk1N9gQf68ywafWjUv5sm+wltqBjf2ssvTmsXMXF\\\n",
       "xQS8AAAAAGo1Al4AABB3TfZIeTuCh7aOzMrHm+60Ke1Q8LGSEaOVAQAAAIC1sckaAAAAAAAAAFgU\\\n",
       "FbxAjO3du1e33367unTpouuuuy7ZywEAAD78bfwXbJM/NvRDLHH9AQCAWCPgRbW0detWHXXUUerX\\\n",
       "r5+WLl3qvr93795avXp1WHM1btxYv/32W4xXGFijRo20cOFC/ec//9HVV1+ttLS0hJ0bAAAEV1hY\\\n",
       "qOkzZqrC6fC6P9gmfyn2NI2/fhwhG6IWaOPJYNcfG0oCAIBQCHhhGYZhqGfPnurSpYvX/Vu2bNHy\\\n",
       "5cuVnZ2tYcOGVTmuY8eOiVqi23nnnafp06dr8eLFGjRoUMLPDwAA/CsuLlaF06E3vrxAe4qauO/P\\\n",
       "SHfq0W6rNXtlvkrKDldQNs7+TcOOe5MN/RAThzeedKrJnsO9xJ0ZKX9sMlkue8nhgPe3xja9OUxc\\\n",
       "fwAAICgCXliGzWbTM888U+X+e++9V8uXL1ffvn01Z86cxC/Mj/PPP1/Tp0/X3LlzCXgBAKiG9hQ1\\\n",
       "0Y7CPPftzPTKit6dhU11qIx33yC+muwxlLfj8G1HZuV/m+6U0g55jmRDSQAAEBqbrMHyvvrqK0nS\\\n",
       "cccdF5P5Ro8eLZvN5tUaIlynnXaaGjZsqHnz5skw+B9zAAAAAAAAxAcBLyzvyy+/lCT17NkzySs5\\\n",
       "zG63a8iQIdq+fbs+//zzZC8HAAAAAAAANRQtGmBp+/bt09atWyXFroI3Vs4//3y98MILmjt3rvr2\\\n",
       "7RtwXGlpqUpLS923Dxw4IElyOBxyOByBDoPFOJ1OpaSkyJmRIUdmZrKXE5BrbdV5jZLkzMiofD2d\\\n",
       "Tv6dVHOHr32bHJm2oGMdmSle/w06b4ahlBSDawBhc12TGelOd1sG6XCLBs/7pMrevHy/Qawc/p6Y\\\n",
       "4m7LIAX+/ufMENcf4o5rCwCsz2bw/nFUQ1u3btVRRx2lfv36BW2VsHjxYp1++unKzs5WYWGhUlKi\\\n",
       "L0ofPXq0nn/+eS1ZskT9+/ePeJ7i4mI1btxYrVu31oYNGwKOmzx5sqZMmVLl/pdffllZWVkRnx8A\\\n",
       "AAAAQikuLtaIESNUWFio+vXrJ3s5AIAIUMELS3P13+3evXtMwt1YysrK0hlnnKF58+bp+++/V4cO\\\n",
       "HfyOu+2223TTTTe5bx84cEAtW7bUmWeeyf9g1SC7du3S7NmzlT97tpru3Jns5QTkyMzU+7Nm6Ywx\\\n",
       "Y5R26FDoA5JkV7Nmmp2fr/z8fDVt2jTZy0EQh699m5ruDF3B+/6sTjpjzHqlHaoIOnZXM0Oz8w2u\\\n",
       "AYTNdU3OXpmvnYWHr53MdIdm3fi+xjx6htcma81ydin/pNlca4iJw98Ty9XU438HKr//9dAZY9Z4\\\n",
       "ff/b1UyanZ/K9Ye4cr2DEABgXQS8sLRo+u8+++yzWrFiRZX7Xfc98MADmjNnTpXHJ06cqI4dO5o6\\\n",
       "x/nnn6958+bpzTff1K233up3TJ06dVSnTp0q96elpSktjV28awq73a6KigrZS0qqdXDqknboULVe\\\n",
       "p72kpPL1tNv5d1LNHb72bUo7FDzgdUk7VBEy4LWXGKqoMLgGEDbXNVlSZvcKcl0OlaV53V9SZuf7\\\n",
       "DWLm8PfECqX5+THr+/3PXiKuP8Qd1xYAWB8BLyzNVcEbSf/dFStW6Pnnnw/4+KJFi/zeP3r0aNMB\\\n",
       "b6tWrSRJ27ZtC3t9AAAAAAAAQCjV6z3tQBiKi4v13XffSYqsgnfOnDkyDKPKx6hRoyRJS5Ys8ft4\\\n",
       "OH1558+fL0kaMmRI2OsDAAAAAAAAQqGCF5a1du1aVVRUKD09XZ07d072cvx66623VL9+fQ0cODDZ\\\n",
       "SwEAAB4aZ//mdTsj3SmpsuduSZk94DggFn5rbJN0eK9rZ0blf3c1q2zL4D0OAAAgOAJeWJar/26X\\\n",
       "Ll2qZd+oNWvWaOvWrbrooouUnp6e7OUAAABVboKaYk/TsOPe9Lq/crPWbso/abYqKrx7QKfY05SV\\\n",
       "lZXAVaKmysrKUlpKqt4c5n1/SkqKuqlyQzXf6y8tJZXrDwAABEXAC8uKpv9uIsydO1dS5UZrAACg\\\n",
       "esjJydH468epuLjY636n06nVq1crPz9fdrvd67GsrCzl5OQkcpmooXJycjRu/HVcfwAAIKYIeGFZ\\\n",
       "rgreSPrvJsLcuXOVnp6uwYMHJ3spAADAQ05OTpXAzOFwSJKaNm1aLd8ZhJqD6w8AAMQam6zBkhwO\\\n",
       "h7799ltJ1bOCd+vWrVq7dq0GDBig+vXrJ3s5AAAAAAAAqKGo4IUlpaWlqbS0NC5zz5kzR3PmzIlq\\\n",
       "DtozAIC33xpLnhsK+ePMqHx8VzND9pLgYyvnAwAAAAAQ8AJxMHfuXNlsNp133nnJXgoAJNXhDYXK\\\n",
       "Q45NSTH+2GTIUEVF8IBXYuMhAAAAAJAIeIGY27t3r1asWKE+ffooLy8v2csBgKQKtKGQP8E2GfKH\\\n",
       "jYcAAAAAgIAXiLlGjRqpvDx0pRoA1Bb+NhTyh02GAAAAACB8bLIGAAAAAAAAABZFBS+qpdzcXN19\\\n",
       "991q06ZNspcCAAAAAAAAVFsEvKiWcnNzNXny5GQvAwAAAAAAAKjWaNEAAAAAAAAAABZFwAsAAAAA\\\n",
       "AAAAFkXACwAAAAAAAAAWRcALAAAAAAAAABZFwAsAAAAAAAAAFkXACwAAAAAAAAAWRcALAAAAAAAA\\\n",
       "ABZFwAsAAAAAAAAAFkXACwAAAAAAAAAWRcALAAAAAAAAABZFwAsAAAAAAAAAFkXACwAAAAAAAAAW\\\n",
       "RcALAAAAAAAAABZFwAsAAAAAAAAAFkXACwAAAAAAAAAWRcALAAAAAAAAABZFwAsAAAAAAAAAFkXA\\\n",
       "CwAAAAAAAAAWRcALAAAAAAAAABZFwAsAAAAAAAAAFkXACwAAAAAAAAAWRcALAAAAAAAAABZFwAsA\\\n",
       "AAAAAAAAFkXACwAAAAAAAAAWlZrsBQBAbfJb48bJXkJQzowMSdKuZs1kLylJ8moCq+6vIwAAAAAA\\\n",
       "iULACwAJkJWVpbSUFL05bFiylxJUSkqKukmanZ+vioqKZC8nqLSUFGVlZSV7GQAAAAAAJBUBLwAk\\\n",
       "QE5OjsaNH6/i4uJkLyUop9Op1atXKz8/X3a7PdnLCSorK0s5OTnJXgYAAAAAAElFwAsACZKTk1Pt\\\n",
       "A0mHwyFJatq0qdLS0pK8GgAAAAAAEAqbrAEAAAAAAACARRHwAgAAAAAAAIBFEfACAAAAAAAAgEUR\\\n",
       "8AIAAAAAAACARRHwAgAAAAAAAIBFEfACAAAAAAAAgEUR8AIAAAAAAACARRHwAgAAAAAAAIBFEfAC\\\n",
       "AAAAAAAAgEUR8AIAAAAAAACARRHwAgAAAAAAAIBFEfACAAAAAAAAgEUR8AIAAAAAAACARRHwAgAA\\\n",
       "AAAAAIBFEfACAAAAAAAAgEUR8AIAAAAAAACARRHwAgAAAAAAAIBFEfACAAAAAAAAgEUR8AIAAAAA\\\n",
       "AACARRHwAgAAAAAAAIBFEfACAAAAAAAAgEUR8AIAAAAAAACARRHwAgAAAAAAAIBFEfACAAAAAAAA\\\n",
       "gEUR8AIAAAAAAACARRHwAgAAAAAAAIBFEfACAAAAAAAAgEUR8AIAAAAAAACARRHwAgAAAAAAAIBF\\\n",
       "EfACAAAAAAAAgEUR8AIAAAAAAACARRHwAgAAAAAAAIBFEfACAAAAAAAAgEUR8AIAAAAAAACARRHw\\\n",
       "AgAAAAAAAIBFEfACAAAAAAAAgEUR8AIAAAAAAACARRHwAgAAAAAAAIBFEfACAAAAAAAAgEUR8AIA\\\n",
       "AAAAAACARRHwAgAAAAAAAIBFEfACAAAAAAAAgEUR8AIAAAAAAACARRHwAgAAAAAAAIBFEfACAAAA\\\n",
       "AAAAgEUR8AIAAAAAAACARRHwAgAAAAAAAIBFEfACAAAAAAAAgEUR8AIAAAAAAACARRHwAgAAAAAA\\\n",
       "AIBFEfACAAAAAAAAgEUR8AIAAAAAAACARaUmewEAAKCqwsJCFRcXJ3sZCeV0OiVJu3btkt1uT/Jq\\\n",
       "EisrK0s5OTnJXgYAAAAACyLgBQCgmiksLNTM6dPlqKhI9lISKiUlRd26ddPs2bNVUcuee1pKisaN\\\n",
       "H0/ICwAAACBsBLwAAFQzxcXFclRU6II33lCTPXuSvZyEcWZkaPWjjyp/9mzZS0qSvZyE+a1xY705\\\n",
       "bJiKi4sJeAEAAACEjYAXAIBqqsmePcrbsSPZy0gYR2amJKnpzp1KO3QoyasBAAAAAGtgkzUAAAAA\\\n",
       "AAAAsCgCXgAAAAAAAACwKAJeAAAAAAAAALAoAl4AAAAAAAAAsCgCXgAAAAAAAACwKAJeAAAAAAAA\\\n",
       "ALAoAl4AAAAAAAAAsCgCXgAAAAAAACRMu3btZLPZ/H689957yV4eYDkEvAAAAAAAAEiY//znP5Kk\\\n",
       "VatWaceOHfrss8/ct08//fRkLg2wJAJeAAAAAAAAJMzu3buVnZ2tXr16qVmzZtq5c6f7tt1uT/by\\\n",
       "AMsh4AUAAAAAAEDCrFu3Tp07d5bNZpMkff311+rSpYv7NoDwEPACAAAAAAAgYb755ht17drVfXvt\\\n",
       "2rVetwGEh4AXAAAAAAAACbNu3Tp16dLF6zYBLxA5Al4AAAAAAAAkRHl5uTZu3OgOdA3D0ObNm9Wq\\\n",
       "VaskrwywLgJeAAAAAAAAJMT333+vsrIydwWvzWZTly5ddM011+jHH39M8uoAa0pN9gIAAAAAAABQ\\\n",
       "O3Tq1EmGYXjd9+WXXyZpNUDNQAUvAAAAAAAAAFgUAS8AAAAAAAAAWBQtGgAAAAAAAJAQNpvN1Djf\\\n",
       "Ng4AAiPgBQAAAAAAQEIQ3AKxR4sGAAAAAAAAJMz999+v3r17q169emratKmGDx+urVu3JntZgGUR\\\n",
       "8AIAAAAAACBhli1bpuuvv16fffaZFi5cqIKCAp199tkqLy9P9tIAS6JFAwAAAAAAABJm4cKFXref\\\n",
       "eeYZtW3bVuvXr1e3bt2StCrAuqjgBQAAAAAAQNIUFhZKkho2bJjklQDWRMALAAAAAACApHA6nbrl\\\n",
       "lls0ePBgtWjRItnLASyJFg0AAAAAAABIOMMwdM011+jnn3/Wxx9/nOzlAJZFwAsAAAAAAICEMgxD\\\n",
       "1157rT744AMtX75cTZo0SfaSAMsi4AUAAAAAAEDCGIahcePG6Z133tGyZcvUsmXLZC8JsDQCXgAA\\\n",
       "AAAAACTMuHHj9Morr2j+/PnKzMzUzp07JVVuspaenp7k1QHWQ8ALAAAAAACAhHnyySclSaeeeqrX\\\n",
       "/UuWLFH//v2TsCLA2gh4AQAAAAAAkDCGYSR7CUCNkpLsBQAAAAAAAAAAIkPACwAAAAAAAAAWRcAL\\\n",
       "AAAAAAAAABZFwAsAAAAAAAAAFkXACwAAAAAAAAAWRcALAAAAAAAAABZFwAsAAAAAAAAAFpWa7AUA\\\n",
       "AAAAAACgZikpKdGOHTu8Pvbv36/y8nKvD0lKTU31+sjNzVVeXp7XR0ZGRpKfEVB9EfACAAAAAAAg\\\n",
       "LE6nUxs3btTq1av17bffavv27e4g99cdP6twX5FS7DblNM1UvTy76jY3VDfXoZQ0Q7a0CtlSK5SS\\\n",
       "kqKGWwZpb8v3Za+oUIUjRRUOm0r3p+nAdpv273Bq/65DcjoN5TTIVrO8pmqe10JH5rVU8+bN1blz\\\n",
       "Z/Xq1UsdO3aU3W5P9ksCJA0BLwAAAAAAAAIqLy93h7mujzVr1qhC5WrRI0c5XcuVdsxBpfcvU6s8\\\n",
       "6bjmUt08KbOxoRR7sXuehj7zpjjqqNO7Y7V+8GJlpZV5PFLq/izXKf2+R9q/o0j7txdp/45N2r9D\\\n",
       "2vBLAy38V6q+X7NfKTa7evToqV69eqtXr17u0Dc1ldgLtQNXOgAAAAAAANwcDoeWL1+ud955R59+\\\n",
       "+qnWrPlKhs1Qy56NlNvLUOrVe3RKL4dadZRS7L9VOT47hmtJsUs5TSs/Wvc4fH8D7ZMkOculXzY6\\\n",
       "9OPqT7T5yy+08pkmWn/tXsmwqUePnjrhhBN0zjnn6LTTTlNaWloMVwZUHwS8AAAAAAAAtVxBQYEW\\\n",
       "LFig+fPna8GCBUqra1e7IQ1V+pfNOq2XoXrHSDb7dq9jUpK0Vk/2VKl1l8qP00c5lK3tcjqlbd9J\\\n",
       "m1ev14aPdmvkZXNUUlyhs846S0OHDtXZZ5+tBg0aJHvpQMwQ8AIAAAAAANRCP/zwg+bPn6958+bp\\\n",
       "448/1hFd6qvB0BJ1uaVY9Y+TbCmVVbKxrMhNBLtdatNJatOpUAMvK9RfKqQfvpS+nbdaD/xjpUaN\\\n",
       "GqVTTjlF5557roYOHar27dsne8lAVAh4AQAAAAAAaont27dr9uzZeumll7Rp0yZ1HNBWpcO3qssL\\\n",
       "5cprVRDWXPskhVMHW6CqfXgTISVFOrG3dGLvH3Xl36UdP0sfvf2p3pq3XrfdNlHt2rXXyJEjlZ+f\\\n",
       "r+bNmydhhUB0qkM1PQAAAAAAAOLE6XTqnXfe0Xnnnac2bdrovx+9rKaTy9RtT5kyF25U7rUlqtMq\\\n",
       "ducrCnN83QD3xysMzmslDb+2RDMW7taqPQ5dO3mzlnz0stq0aaPzzz9f77zzjpxOZ5zODsQeAS8A\\\n",
       "AAAAAEANVFBQoAcffFBHHXWUxlw9RgXdt6nF9w7VWbheh4Zvkr2euXnCDWzjLVDVcCStJLLrSYOH\\\n",
       "l+rphev1wfcOtev6s666Kl9HHXWUHnroIRUUhFfVDCQDLRoAoBYoLCxUcXFxyHGuv1Lv2rVLdrs9\\\n",
       "5PisrCzl5OREvT4AAAAAsbN+/XpNnz5dL774otoe31pHTqujPedu067U3UGDoGS1UIg3s8+pRRtp\\\n",
       "3D1f6eq7pSXz6uilabM1ZcoUXXbZZRo/frw6deoUz2UCESPgBYAarrCwUDNnTJfDWRFybEpKirp1\\\n",
       "66bZs2eroiL0+DR7isZdP56QFwCAAMz8kTWcP7Dyx1UAwWzYsEG33367FixYoLxLGqjJx4dU2mOD\\\n",
       "SiXZPMbV1CA3XIEqflNTpeF/LtXwP2/UujU2PTt9lXr16qWzzz5bU6dOVceOHRO6TiAUAl4AqOGK\\\n",
       "i4vlcFbogsI31MS5J+hYpz1Dq/Wo8vfNlt1ZEnTsb/bGejNnmIqLi/lFEwAAPwoLCzVz+gw5KoL3\\\n",
       "cQznD6xpKXaNG389P3sBeNm2bZumTJmil156Sd3HdFLOlhKVNtsRsLctzOvaw9C0WV9q0lTpkXtW\\\n",
       "qmfPnho5cqQmT56sFi1aJHt5gCQCXgCoNZo49yivfEfQMQ4jU5LUtHyn0pyHErEsAABqrOLiYjkq\\\n",
       "nLrgjU/VZM+BgOOcGela/Wg35c9eLHtJWcBxvzWurzeHncAfVwG4FRQU6P7779fMmTPV8bz2qr+u\\\n",
       "RNvafynXewEOKvAGZgHnlP/q3iL5r3jdp8A9ca3K3/Np2kx6aOYu3TROmjLlbXXo8LKuu+46TZw4\\\n",
       "UQ0bUg+N5CLgBQAAAIA4arLngPJ27A/4uCOzjiSp6c5CpR0qTdCqAFhZcXGxpk2bpgcffFB5J+Qp\\\n",
       "++ND2tVzXVghT01r0xCo3UKg5xjJhmyS1L699OKLu/TVV9Iddz6vtm2f1q233qobbrhBWVlZEc4K\\\n",
       "RCcl2QsAapq9e/fqmmuu0eOPP57spQAAAAAAapCKigo9/fTTat++vZ5582mVvvm7ti7cqN97Bj7m\\\n",
       "YOKWVyMEq0bO9niTRc+e0jtv79Zrr/6u//3vEbVv315PP/20qb1MgFgj4EWNsXXrVtlsNvXv39/r\\\n",
       "/t69e8tms4X10aRJE685Xn/9dfXv318NGjRQ3bp11b17dz300ENyOBxV1tGoUSMtXLhQd9xxh9/H\\\n",
       "AQBA8hUWFmrHjh3uj127dkmq3OTK8/7CwsIkrxQAgEo//vij+vfvr7seuEv7ZuzW9s+2SgMOh4kF\\\n",
       "EcwZ6JhI5kqU6tYOYsCACn28Yq+mPbBbD9x/qwYMGKBNmzYle1moZWjRgBrNMAz17NlTXbp08bp/\\\n",
       "y5YtWr58ubKzszVs2LAqx3nuiDlhwgRNmzZNqampGjhwoLKzs7V48WLdeuutmj9/vt577z1lZmZ6\\\n",
       "HX/eeedp+vTpWrx4sQYNGhSfJwcAACJSWFioGdNnyllx+A+xgTa5sqek6frx4+h3CgBImoqKCj3+\\\n",
       "+OO6bdJtsuenqmzBAdnqSrYw5oikF68/gfrwRjs2XmLZniE7cIt0pZVKF57v1Fl/2q+Jk1ere/du\\\n",
       "uv/+BzRu3DilpFBbifgj4EWNZrPZ9Mwzz1S5/95779Xy5cvVt29fzZkzJ+Dxc+fO1bRp05Sdna1l\\\n",
       "y5bpuOOOkyTt2bNHAwcO1IoVK3TnnXfq4Ycf9jru/PPP1/Tp0zV37lwCXgAAqpni4mI5Kxza9sYF\\\n",
       "Kt1T+a6d1Aynuj26Wptn56u8pHJrmjqNf1PLYW+yoRUAIGk2bdqkMWPGaP229Sp9u1y2/hVBg5ya\\\n",
       "1lc30aKtDs7Olh5/+KCGDZWuuG6K3njjDT333HNq165dTNYHBMKfEVArffXVV5LkDmwDmTp1qiRp\\\n",
       "4sSJXmMbN26sJ554QpL0+OOPV3n75mmnnaaGDRtq3rx5MgwjlksHAAAxUrqniUp25KlkR55Kdzat\\\n",
       "vG9n08P37WkSYgYAAOKjoqJCM2bMULfu3fRZ11Xa9/XvsvWvjHDKlRHRnIF68caiHcO+GMwRjXhX\\\n",
       "Cger3k0tqXrfgNOkr1fuVeejflD37t00Y8YMevMirgh4USt9+eWXkqSePQN3ov/111+1atUqSdKI\\\n",
       "ESOqPH7KKaeoZcuWKi0t1bvvvuv1mN1u15AhQ7R9+3Z9/vnnMVw5AAAAAKAm27x5swYOHKi7/nm3\\\n",
       "SuY75HzckC3buyFDsJA3Vv1zk92HN16VyIHC4EDVu8HC3WDqOaSZk7dr/jPF+ufDd2ngwAHavHlz\\\n",
       "ZJMBIdCiAbXOvn37tHXrVknBK3hdVb4NGzbUUUcd5XdM7969tW3bNn311Ve65JJLvB47//zz9cIL\\\n",
       "L2ju3Lnq27dvwPOUlpaqtLTUffvAgQOSJIfDwSZtiAmn06mUlBQ57RlyGJlBxzrsmV7/DTqvPaNy\\\n",
       "XqeTazXG3F+zjAw5MkN/LWoK13OtTc9ZkpwZ/FtKNNe/sdQMp9IyK1/zVJ//SpVtG/jaIBqHv5+n\\\n",
       "y5FZJ+A4R2a6138DzpeRzjWJmONaql5ee+015V+Rr5LLbap4O1Op2fZkL6mK6tBb14xEtKrwV73r\\\n",
       "a8BJ0roF+/W3+1eoe/eumjVrjv7v//4v/otDrWIzeP84aoitW7fqqKOOUr9+/bR06dKA4xYvXqzT\\\n",
       "Tz9d2dnZKiwsDNjwfMaMGRo/frx69OjhDnt93XDDDZo+fbouvPBCvf76616PFRcXq3HjxmrdurU2\\\n",
       "bNgQcD2TJ0/WlClTqtz/8ssvKysrK+BxAAAAABCt4uJijRgxQoWFhapfv36yl1NrVVRU6O6779bD\\\n",
       "0x9Wyb/rSOce/qNQqg4EPC5V/hPGYOFmoM3W/B0TziZl/ipg/Y3znDPFkalO776inwZfIiPtkKlz\\\n",
       "R3KeUGMDzSsFruANFu7aAvSsmP+BdOmNqbphwm2aPHkyG7AhZqjgRa3jCmu7d+8e9Jvp77//Lkmq\\\n",
       "WzfwXqPZ2ZU/GlxVt56ysrJ0xhlnaN68efr+++/VoUMHv3Pcdtttuummm9y3Dxw4oJYtW+rMM8/k\\\n",
       "f7AQE7t27dLs2bOVv2+2mpbvDDrWYc/U+/1n6YylY5TmPBR07K7UZprdIF/5+flq2rRpLJdc67m/\\\n",
       "ZrNnq+nO4F+zmsSRman3Z83SGWPGKO1Q8OuvJtnVrJlm5/NvKZFc/8Y2z853995NzXRo2Kz39caY\\\n",
       "M1R+KE2SVKfZLrXNn83XBhE7/P18sZruLAw4zpGZrvdn3aYzxtyvtEOB3wu8q1mOZucP5JpETPn7\\\n",
       "XQaJVVRUpEsuu0RL1i1TySdZUqfoo5pYbbZW3TZti3oTtDDnjbQ9QyDn/kn65N/lGnr9VH2z7iu9\\\n",
       "8OIr7lwBiAYBL2odM/13Y+X888/XvHnz9Oabb+rWW2/1O6ZOnTqqU6fqW/bS0tKUlpYW7yWiFrDb\\\n",
       "7aqoqJDdWRIytHVJcx4KOdZuK6mc127nWo0x99espKRWBZ0uaYcO1arnbS/h31Kiuf6NlZfY5Tjk\\\n",
       "/ZqXH0pz32cvsfO1QVQOfz8vU9qh0pDj0w4FH2cvKeOaRMxxLSXXli1bNOi8s/TjEb/I+DxLali1\\\n",
       "CKlc9QNW8ZYrI2AVb6Bw9qD8V/FWtzDXrGTEo5FU70qSDkqd2kufv+LU8Jvf0UknHqd5899TmzZt\\\n",
       "Yr1E1DLUgqPWcVXwBuu/K0n16tWTJB08GGiv0cq/tEoKWGnbqlUrSdK2bdvCXicAAAAAoOZaunSp\\\n",
       "uh3fXT8M2C1jYQu/4a5LuQK/uzPYhmvxUuTnPn+5pr9xieAvqE5E9W7QcNdDw1xpwb8M9e/+g47v\\\n",
       "3VXLli0L/2SABwJe1CrFxcX67rvvJIWu4HX9BS1YOOt6LNBf2+bPny9JGjJkSJgrBQAA8Van8W/K\\\n",
       "yNuhjLwdqtNsV+V9zXYdvq/xb0leIQCgpvrXv/6lM845U0UPZEnTmkqpNoVqQBBJyFsQYHzgMibz\\\n",
       "c9RWgap3Q4a7Pi96Wpo0fZI09foiDT77T3rqqadisj7UTrRoQK2ydu1aVVRUKD09XZ07dw461hUA\\\n",
       "7927V1u2bNFRRx1VZcwXX3whKXA18FtvvaX69etr4MCBUa4cAADESlZWluwpaWo57E33fZV9+bup\\\n",
       "bf5sVVRUuO+3p6Sx6SkAIGYqKio0YcIEPfGfp+Rc1Ew6xfdnTAP5r4VNDKu2aYhUonrvBkvUx/6f\\\n",
       "1LFxuYbdNk7ffvutHnvsMTZfQ9gIeFGruPrvdunSJWSvqRYtWuj444/XqlWr9PLLL+v222/3enzF\\\n",
       "ihXatm2b6tSpo8GDB1c5fs2aNdq6dasuuugipaenx+5JAACAqOTk5Oj68eNUXFzsvs/pdGr16tXK\\\n",
       "z8+X3W5335+VlaWcnJxkLBMAUMM4nU5deeWVemHFK6pY1UJqHeh30sAhbyT9eMPtxRtvVg6RI6re\\\n",
       "DVUuXSCd2l36/Cmn/nTjTBUVFemZZ57x+v8RIBT+JIBaxWz/XZdJkyZJkh544AF3OCxVVvVee+21\\\n",
       "kqTrrrvO7y9+c+fOlVS50RoAAKhecnJylJeX5/5o2rSpJKlp06Ze9xPuAgBiweFw6LLLLtPzn76q\\\n",
       "imUdpNbB2zEkk7+WDP7uS1Z/XU/++uqG03/X75wBqneDbawWMY8Xtk2etPzxCn2yeI4uv/xylZeX\\\n",
       "x+GEqKkIeFGruELaUP13Xc4//3yNHz9eRUVFOuGEE3T22WfrwgsvVPv27bVu3TqdfPLJuueee/we\\\n",
       "O3fuXKWnp/ut7gUAAAAA1A5lZWW66KKL9Mo3c2UsO1pqbuYdnoED4HLVD9iPN569eJMt1pF4rOaL\\\n",
       "uHrXzxeleWNp2QxD6z59WRdddJHKymLdKwI1FS0aUGs4HA59++23ksxX8ErStGnTdPLJJ2vmzJla\\\n",
       "uXKlHA6H2rVrp4kTJ+rGG2/0235h69atWrt2rQYNGqT69QM3wgcAAEDN91vj4P8/6Myo/P/JXc1y\\\n",
       "ZC8J/Mt8qHkAVD8Oh0MXX3yx3ty6UFrSQWrkGcO46koD1cJG1o833FYNsbRPsQ9iEync6t2oWjME\\\n",
       "cEQDacn90hmT/qdLzjter85frdRU4jsExxWCWiMtLU2lpaURHTt8+HANHz7c9HjaM6A6+s3eOOQY\\\n",
       "p73yL/67UpvJbgv+HiQz8wEAUJtlZWUpLcWuN4edEHRcSkqKukmanT/Qa5M/f9JS7Gz8B1iE0+nU\\\n",
       "5Zdfrjd/9BfumhVZP95o+QuDrdA712x7hriH0GFW7vpqVF96f6o04NavdfnwAXrx9aX05EVQBLxA\\\n",
       "HMydO1c2m03nnXdespcCVP5yaU/RmznDQo51/4LZID/kL5iSlGZP4ZdMAAACyMnJ0bjx13tt6OdP\\\n",
       "oE3+/GHjP8AaKioqdOWVV+rVNfOlZUeHCHezFbyjbfiVvOFU8SZrs7VgzATJ4fTVNSOm1bvR+ONS\\\n",
       "cIW8/W/9WGMvP0/PvjhPKSl0WoV/BLxAjO3du1crVqxQnz59lJeXl+zlAJW/XF4/PuQvl1J4v2BK\\\n",
       "/JIJAEAoOTk5IX9WOhwOSZWb/KWlpSViWQDibMKECXphxX9lLDtOOsLVFzdY6WZkIW88q3jNKFLo\\\n",
       "oNXMmOoq7HA3VFuGUNW7PpdA0wbSh/cbOu1vC3Tjdfma9sTzISZAbUXAC8RYo0aN2O0S1Y6ZXy4l\\\n",
       "fsEEAAAAovXkk0/qif88o4pVvaXmnpueNVR0Ia9/gULeaKt4rdamIZr2DIGqd/2JuHI3zHDXpXkj\\\n",
       "6YOpFepzwws6tnMvXTNufIQLQE1GbTcAAAAAAEAMLF26VONvuUHO/3WRWmf6GREqHg1W6xq4c2y5\\\n",
       "qs8mjPHqXJBogap3A4qm726IXL9NU+l/N0g333Kzli1bFubCUBsQ8KLGyM3N1d13363Ro0cneykA\\\n",
       "AAAAgFpmy5YtOvfC81Q+/WjplGDbeMUn5PWnXBl+7/eXN4bqLpBMsdoULSnVu1GGuyqo/DjlGGna\\\n",
       "peUadsEQbdmyJYKFoCajRQNqjNzcXE2ePDnZywAAAAAA1DK///67zhx6topGNpGuOEaRtFrwFqxd\\\n",
       "Q3j9eAO1ajDDTEuGZPTYNXO+aNYUVvVuNMl4mJfJlQOkr38u0nlDBmnlZ18qO9uq3Y0Ra1TwAgAA\\\n",
       "AAAARKiiokIjLh+pTc32SY90+ePeUMFbQ0XXzdZ/TWugVg3+KnkjreINVZCaDGZeyYRX7/5ReRuQ\\\n",
       "ycpdX/+8VDrC9qMuv3SEKioqwlwUaioCXgAAAAAAgAhNnjxZC9YtlfHq8VKqZ8xiproyWDSZbXKO\\\n",
       "+KqOgW48+aveDRjuRlq9aybcDSDVLr16vaGvP31XU6ZMiXABqGkIeAEAAAAAACLw2muv6f5pD8k5\\\n",
       "r4/UMN3PiGhD3mCSV8Vb3fm+6mard8MKd4OJtnI3hEbl0ltXOvXYPx/S66+/Hs7KUEMR8AIAAAAA\\\n",
       "AIRp8+bNyr9ijMr/3VPq5D9UrWSmEjfSSt7wQt5I+WaOvrd9M8tIMlGzkl/TrMoUPFASHudw1/Xi\\\n",
       "ds6T/j2yRGPyR2vz5s0mDkRNRsALAAAAAAAQhoqKCo3OH62Sy1tL53aK0azxr+Q1W8Uba9FuOReM\\\n",
       "76tmagO2eFXvJijcdTm3q3RZrxKNyc+nH28tR8ALAAAAAAAQhpkzZ2rVtm9V8WCvP+5poEBB62Gx\\\n",
       "qOSNnr+Q11d1atMQ6lWN9/FVJLly19dD51Xop42f64knnjAxCWoqAl4AAAAAAACTNm3apIm3TVTJ\\\n",
       "rL5SdloEM8Qj5PUfMJtt1WAmX6wpm63FpXo30nC3IMSxUmWwG2Qt2XWkWReXaOLEW7Vp06YQk6Gm\\\n",
       "IuAFAAAAAAAwoaKiQmPGjFH56HZS/zw/I8xU8kqJrOSNtFVDqCreUH14IxVOo4pI2jOY4TfcDdR3\\\n",
       "N5rK3VBMhswDmkujepRrzJgxtGqopQh4AQAAAAAATHj88ce1ftsPKnugR4iRsWjZ0FCB487kbrqW\\\n",
       "LOEGuL6vhtnq3ZiIReVuGOd58MwybfvuS82cOdPkgahJCHgBAAAAAABC+PHHH3XbpEnaM+tUKbup\\\n",
       "yaNi3gHWQ3ghr69IqnjDadMQ7v5kyWC6NUOgyt1AL0iocDeYEC0ZvM7hcZ7sOtKsoUW67baJtGqo\\\n",
       "hQh4AQAAAAAAgnC1ZrDld5H6twrz6FhU8gY71tw5zbZqCEekfXnj0c/X95UwU73ry3S4G0y04W4U\\\n",
       "5+jfThrdy0arhlqIgBcAAAAAACCIZ599Vt//skUHH+jrcW+wFgq+zLZsCCR2PXlDCbcXr6dY9eE1\\\n",
       "I5xevf74Vu+GFe7Gq3I3FJ+qXX8eOP2gtm3+Ts8995yJCVFTEPACAAAAAAAEUFxcrMmTJ2vPQ72k\\\n",
       "uul+RoQb9AYTy5DXfxWvbyVvuFW8vjllPKpxXSJtcBFJ9a5psQ53w2nJYEJ2HenB3nt09913q7i4\\\n",
       "2NxBsDwCXgAAAAAAgACmTZumshaZcg5rH2JkokLecDZeiywijaaKN5Boq3uDvSrh1jBHXL0bj8rd\\\n",
       "UExU7Xqdq0C68GinjsxN1/Tp06M8OayCgBcAAAAAAMCPgoICPfjgg9r3QG/JZjNxhNlq3lAtG0L1\\\n",
       "5Q1H6H680VbxVicxqd6NRV+KYJuwSeYqd8NJxT3OZbNJD3TbpgceeEAFBdX5q4VYIeAFAAAAAADw\\\n",
       "4/7771edvq1VMbCTwgtcwwl6gwl0zkDzBwqGQ1fy+oa8kcaCnpmk2T3DwhVN/92Q1buBKnf9vSCR\\\n",
       "liWbCXbDrNr1dXrrCvXp0EwPPPBAeGuDJRHwAgAAAAAA+Pjll180c+ZM7X7gRI97w62sjWfIa3Z+\\\n",
       "/+fxreKtvC9wJa9v7lkQ4PNEC9q6wad611RrBrOiqdyNZN5wzyPpgU7f6fHHH9cvv/xiclJYFQEv\\\n",
       "AAAAAACAj8mTJ6v+ed2knnl+Hg0n6I1Vy4Zw5je3Pn8hryervbk/nI7DUfXdDRbuBhKrlgwmgl2X\\\n",
       "45pKQzvV15QpU8wdAMsi4AUAAAAAAPCwYcMGvfTSS9p1T58QI8MJeaOt5o1FJW90/XhjsdmaWZ4r\\\n",
       "jaQbcajq3SriHe4GY7YlQ7iJe5F0b8dd+ve//62NGzeGeTCshIAXAAAAAADAw+23365OY86Q2jcy\\\n",
       "MTrcat5QYWwsN1+LrB+vp2CZYqA2DZG2pjUTU3uOiXQbOtN9d33FOtwNJ9g1G+4WyWve9jlSfs8c\\\n",
       "3X777SYngBUR8AIAAAAAAPxh/fr1WrBggb68s6/C63Eby7YNoVo2BJozULsGf/MfFs8q3nhttObL\\\n",
       "q+I33OpdX7EId0O1ZIh1sBtkzjs77NK7776rDRs2hDEZrISAFwAAAAAA4A/Tp09Xp0vOkJq5Qs9w\\\n",
       "Ql7JfNAbTTVvsHPEPuStjr14PZ9RsCg85MZqwXaPc4kk3A0mVLgbSbAbZM68utLF3Rpo+vTpYUwK\\\n",
       "KyHgBQAAAAAAkFRQUKAXX3xRX93QyecRsz10PcWqbUMkfXnNhrzegm265pk3Hgxwf6hMMtLWDS5m\\\n",
       "vgK+1bueYhbuBgtgo23JEMNg19MNbXbqhRdeUEFBdYzrES0CXgAAAAAAAEnPPPOMWh/fWUb3IwOM\\\n",
       "aKjwwt5YtW0I1rIhmpA3eBuIYK0aQok2zHWJtM+uFKI1g5leE+E8iWhbMkTSZzcMPRob6t0yV88+\\\n",
       "+2x4B8ISCHgBAAAAAECt53Q6NXPmTG2+oafJI+IR9Ma6ZUP4IW8kVbyJFqg9Q1jVu57Mhqvhtk6Q\\\n",
       "QoexMeqzG9Qf4fMNzfdq5syZcjqdEUyC6oyAFwAAAAAA1HoLFy5UidOh0nOPDfPIWG/EFuuWDWbW\\\n",
       "F3hOM1W8sX7Tv7/VhNsgw7N6N2RrBl/+QtlINlOLVTuGIoVftbtPVdY29IhSlZce0qJFi8KYCFZA\\\n",
       "wAsAAAAAAGq9Z555RhVjTpZSA1ewBhZJ6wazc/oTbssG33mCB83RbLjm7/FQe45Fykz1bth9dwP1\\\n",
       "3PUn2pYMoUTQiiFY4JyaIuW3qdAzzzwT5qSo7gh4AQAAAABArbZ9+3a9++672ntFnz/uqevxES6z\\\n",
       "QW8s2jZEE/L6m+vwfMFaNbiYKYSNNTOvWMDeu4kId2PRkiHGwa6nK47Yq3feeUc7duwI8wSozgh4\\\n",
       "AQAAAABArTZ79mwdPbCv1Kaxn0cjDXvDDXqDRZehqnkDzRtqHvOVvIGqeA/6uS9WzG6w5lm9G7Q1\\\n",
       "g6dIw91AQWqseu3GKdh1OSpbGtDtaM2ePTvME6E6I+AFAAAAAAC12ksvvaRNY7qZGBnPil4p8qA3\\\n",
       "UMsGsxGp71yRKfD5b6wEesZh8azeNbuhmq949toNp2rXT39d0wqkMdqkf//73xEcjOqKgBcAAAAA\\\n",
       "ANRaP/zwgzZt2qTSszuZPCLeFb2SuY3Y/PEX9PoLjf315PWdp5KZKt5E8feqmKreDdZLwuyGapGE\\\n",
       "u6GqdsPdPC3SUNdnLWfnlurHH3/Ujz/+GOFkqG4IeAEAAAAAQK01f/58tR1wvFQvM4KjIwl7Y9Wj\\\n",
       "12xYbPZ43/OZ78cbqhevdDiXdGWZ8QyIg4a74e4SF0lLBrPBrhlRVuv6W0v9VGlA57aaP39+BJOi\\\n",
       "OiLgBQAAAAAAtdb8+fO1dWhXhVdh60+kQW+ocwYLesNp2WCmkjcwV8hbrgx3Ja+/DNO3TYPZHNO1\\\n",
       "EjOtF/yNcVXvmu676xuy+gtlYx3suo43KwbVuoEMNX4i4K1BCHgBAAAAAECttG/fPq1YsUIlQ47z\\\n",
       "uNds8BpIvKp64xX0+tt4zfN4c8xU8YbDtYqGPrc9V+TZnsGvQH13zYSs4YarZoJds+eNpGI3QLVu\\\n",
       "IENySvTRRx9p375IU2RUJwS8AAAAAACgVlqwYIHyunSQWjUJMCJWYa9ZZls3RHO8GaFbNQSr4k0E\\\n",
       "f713A7ZmCBbuRlu5G6t2DAkIdT21zpQ6t8rTwoULwz8Y1Q4BLwAAAAAAqJXmzZunved2Mzk6UVW9\\\n",
       "ZkLlcKt5Y1fJG6wfrytT9W3TEE+eG6tVWYjvIkJtpuYvZI1nsBtJtW4Uoa6XIulc+17NmzcvyolQ\\\n",
       "HRDwAgAAAACAWqesrEwLFixQ8dBeYR7ZUNFV9oZT1Rtt0OsrUNAbbH7PY72ZreINp+2sp0DtGfy1\\\n",
       "Zgjae9cfs1W7Zo71PcZssGtWDENdz/UNzSzWggUL5HA4opwYyUbACwAAAAAAap2PPvpI9uxM6bi2\\\n",
       "Uc4UadgbSVVvIIGCXrNrCq+S118Vr5nsMdbdXoO2ZvAMRP1tqBZsYZFU7cY62I1FqFukKqGup17Z\\\n",
       "UlZqij766KMoToLqgIAXAAAAAADUOu+8844c5/SRUuoreBVrOOId9poJes0cY6aSN1DIW8kV8rqq\\\n",
       "eF1i0abB37MIVr1b5eTBeC4oUEsGf8ckOtiNRIhA11eKTRpSz6G33347whOiuiDgBQAAAAAAtc6n\\\n",
       "n36qg6ce63FPts9HtKINe83M7U+wat5QQa+Zdg1V+/H6tmowk7P6U7UJROAVVane9dd3N1Tlri8z\\\n",
       "G7B5jg0WoobTXzfaal2zG7n5cUraQX322WcRnhjVRWqyFwAAAAAAAJBI5eXl+mrNGhm9rggyyjda\\\n",
       "jLSTrOQdrJpN8Vwhb7C41DWvvzld6/ddt79jGuhwEpntcYzvWNdjnuPNKfJZUagIPVgs7ndjNRfP\\\n",
       "cNf3PhezVbv+mKnWNSPa1gsx0ivb0JqvvpLT6ZTdbo/dxEgoKngBAAAAAECtsnHjRhkpNumYFmEc\\\n",
       "FasK33Are820b4i0oteTbyWvb19eX979eP1tuBbtnmC+K/Nsz2Db56d6N9xGwP4qXwNV0garkjVb\\\n",
       "rRtNpW4YrRfC0fGQpHKHNm7cGNuJkVBU8AIAAAAAgFpl9erVatSjo7ZHVbEYiwrfcCt7Q1X1BpvP\\\n",
       "szLXd7xrrCtKDVTNWyDvOtzAlbwH/1ita2bXmfbJfysGz1X6/fyPcLdK9a5vuGu2ctdfsOtPtBW7\\\n",
       "0bRdiAef9dhtUo/6dbR69Wp17tw5TidFvFHBCwAAAAAAapXVq1fL6HV0jGeNtro3nMpes1W9viKt\\\n",
       "5g02Z2UVb+VH1SreaPkLg01V7gbbTM1MuBurit1wxLpKt8DPhx+97A6tXr06RidFMlDBCwBANfVb\\\n",
       "48bJXkJCOTMqfyHY1ayZ7CXBGqvVLLXt6wwAQHXwxerV2nH1IAXvYRuNaKt7w6ns9Qx5fSt7Az0/\\\n",
       "f/15G/qM8+3L6xrvWclbtYq3XBlKVYl7Js/Vmem967lq92oDVe9KoSt3gwW7vmMDjfE3VyDhXEqx\\\n",
       "rNKN4hLuZS/TM198Ebu1IOEIeAEAqGaysrKUlpKiN4cNS/ZSEiolJUXdJM3Oz1dFRUWyl5NQaSkp\\\n",
       "ysrKSvYyAACoFZxOp75as0bqNcHjXn+VqbEMfaMJfMMNe/21bwg0h2/QG6plg+d8VUPectVXqg5U\\\n",
       "ObtvmwZf/qp0swPcb9un4PvOmQ13A1Xt+qquoW4ML89eGdK1X33JRmsWRsALAEA1k5OTo3Hjx6u4\\\n",
       "uDjZS0kop9Op1atXKz8/v9b9j2VWVpZycnKSvQwAAGqFjRs3ymkYUsc2IUbGM/SNNPD1XZO/9QSr\\\n",
       "6PWcI9ygd5/MVvK6qnhdKwjWSMKlgfxX93pW79o8w1bP5Rf53Ocbygbry+v7uEss2y9EG+rGusDc\\\n",
       "R8c6kuF06rvvvlOnTp3iezLEBQEvAADVUE5OTq0L/BwOhySpadOmSktLS/JqAABATbV69Wrl9jhW\\\n",
       "v0X0B+V4hb7RBr6B1hCqfUOo1g2eY3xbNvgPecslpeqAypWhApWY6igcildrBs+n4S+4NVu1G6y/\\\n",
       "biCJCnXjHOj6SrVJ3eukaPXq1QS8FkXACwAAAAAAao1vv/1W5d3ax3DGeIS+4Qa+Zto4uMJez4TU\\\n",
       "TOsGzxDZs2VD6JDXxV8dcaBevA3lvz1DwOpdfy0ZYhnsmv1SRhroJjLMDdLaorvNoW+//TZxa0FM\\\n",
       "EfACAAAAAIBaY/v27Tp4TLw3OY116BtO4Bsq7A1U1RuodYO/tg2eLRv8hbxSuer/Mdp/FW+RpFBf\\\n",
       "hewyj9YMrqUWqOrTD1S1G2oDtWiqdatzoBusR3EAR9oq9MP27bFfCxKCgBcAAAAAANQa23bsUFn/\\\n",
       "zvJuOZAIsQx9zQa+ZsPeYEFvoLYNgUJeybcfr1Sigwq8yZrvmRvocO9dL4Eqd118e/H63u8SabVu\\\n",
       "JKFuPAPdCILcQPLs0vJftsVuQiQUAS8AAAAAAKg1ftmxXco74o9bvo0AfMU7AA4UeYabCnoGvmbC\\\n",
       "Xt9z+Kvq9Q2H/W2wFvz1c7VqKPA4ItAzzvb5r+RTvetabpHH5/5aMgRrx+Dvyxnspa4OgW4MQ9xg\\\n",
       "8uzSjl9+SczJEHMEvAAAAAAAoNbYtWOn1LypydHJCoCjqfaNtro3UFWvb0Wv57Ge1byu+yo/L3ff\\\n",
       "U6K68lfjW5WrejdguOuvJUOBz21PvieKVagbyzA3QUFuIM3t0o5du5K7CESMgBcAAAAAANQKhw4d\\\n",
       "UtG+fVJekxjNGCwAjnX4G2noaybw9dd/17eq11/rBs9N2CTvkPfwfeWqr9QgbRpyPT53vaKpJfIO\\\n",
       "PT0rd123fZfs+dTiEerGItBNcpAbSJ5dKjjwu0pKSpSRkZHs5SBMBLwAAAAAAKBW2Llzp2x2u4wm\\\n",
       "jRJwtkRU/0bS4iFY4BuqqjcQ36DXc96WkopUrgPuKl7XKnJ8zpwtn43VJOlnj+Xsk/92DIGC3WhC\\\n",
       "3WjC3OoY4oZ4Pk0MKcVm086dO9WmTZuoTrVq1SrdfffdWrlypRwOh7p27aqbbrpJw4cPj2peBEbA\\\n",
       "CwAAAAAAaoUdO3Yos2kTFaekJHspim/1bzjVvoEC32Bhr78+vYHmLlJlwFtfknRQJQGP8npFPFsz\\\n",
       "+LZl8A12zVTrxiPQTXaQG8MWEXab1DQzQzt27Igq4F2yZIkGDRqkjIwMXXzxxapXr57eeOMNXXTR\\\n",
       "Rdq2bZtuvvnm2C0abgS8AAAAAACgVtixY4fs7g3WqrN4VP+aDX39Bb7BglxX4wXPjdh8j8+WlK1y\\\n",
       "bXNX8XrOmO1xZNoOHQ53XdW7rsrdcCt2A4W64QajiQ5yY71Rm0l5aanasWNHxMeXl5dr7NixSklJ\\\n",
       "0fLly9WjRw9J0l133aU+ffpo0qRJuvDCC9W6desYrRgu1eFPVgAAAAAAAJKk119/XTabLeRHq1at\\\n",
       "wp57x44dMpo31+FIMZyP6qRBiA+zGvr58OXvdfAcX/ePj5Ye92V7fN5SUqs/Pm+gEh3hVZzr+Yyy\\\n",
       "y3Q43C1SZXi7TZVBr2e4u8/jo8Djo8jnQz6PFyh4eHowwEcs+FtHoI8kaS4jqoB38eLF2rRpk0aM\\\n",
       "GOEOdyUpJydHkyZNUllZmZ5//vkYrBS+qOAFAAAAAADVRpMmTTRq1Cg9//zzOvHEE3XmmWe6H/vg\\\n",
       "gw/08ccf67LLLtOgQYPCnnv//v1y5NaPcGXRhrxmd/KKhWgqgENV+pp9HVxVvZ5a/THbbq9GD67V\\\n",
       "pu3Q4cpdz6pd31YM/ip5/S01kFhW5CYxkI21Bs5y7d+/P+Ljly5dKkle/2ZdXP9ely1bFvH8CIyA\\\n",
       "FwAAAAAAVBv9+/fXpk2b9Pzzz+vyyy/XNddc435s3bp1kqS///3vEfUJLS8vl5GWrCgkmoA41uFw\\\n",
       "uAFwsNDX3/NyhbuuGDfb474ClegIbdNu9+i6+qN611Wtu++P/7qqdT1P5/tShKrIjUQNCm3DkWpU\\\n",
       "qLy8POLjf/jhB0nS0UcfXeWxZs2aKTs72z0GsUXACwAAAAAAqpW1a9dKkrp16+Z1/5o1a5STkxPx\\\n",
       "JlDl5eWqSFrAG41EVw+bCYDNbrAmVQ16N6lcC/TLH48eWSal/aTKUHetqga7nsv3DV/DCXFrUnBb\\\n",
       "1CzmU6aqMKqAt7CwUFJlSwZ/6tev7x6D2LLidzUAAAAAAFCDff3117LZbOratav7vgMHDmjLli06\\\n",
       "5ZRTIp63vLxcFam1MQqJdUAcKAB23e9KZxuqsi2DZ/ntNklSuU7VR1qhMZLSVkv65I9h23Q41PUM\\\n",
       "ZAMFuckMbeMQsiZTmiSHw5HsZSACtfG7GgAAAAAAqMa+/vprtW3bVvXq1XPft2bNGhmGoe7du0c8\\\n",
       "b3l5uVJSUlTHEXmVYu2UEeb4PJ/bnn2Pu0jaL+lM2UqPlySVvp8pfazKXLj4j2HB2gS7FDUNc10x\\\n",
       "lpnc08fa2yW/Ke2//9UDDzwQ0fGuyt1AVboHDhxQgwbhbAIIswh4AQAAAABAtfHzzz9r3759GjBg\\\n",
       "gNf9X331lSRFFfBK0qAtOzX23c+jmgOx0keS9GHvWVLvJC8FOnTllUqL4nhX790ffvhBvXr18nps\\\n",
       "586dKioqUp8+faI4AwIh4AUAAAAAANVGsP67UnQBb2pqqt5veaQWDx4U8Ry1Tok9vPH7fW67KnGL\\\n",
       "JP36x+1tkj6Teq8u082zPtCfxmQq/dB6jwEH5V3CG6iHsO/JEi3SXdyqp2FlJcq54oqIj+/Xr5/u\\\n",
       "v/9+vffee7r44ou9Hlu0aJF7DGKPgBcAAAAAAFQbX3/9taSqQe769eslSZ07d4547tTUVFVUGCpL\\\n",
       "i6ZO0WIOhRnQ+vJNjgK1TvDtheuvh+7PkjZJWiFpm9S0tPKh8kMDVPdQqiRDle0c9qmyzYOrGa+r\\\n",
       "h7DvSbLMPosgC49GMmO1cDfOC80pp9Ki+Ldx+umnq23btnr55Zc1fvx49ejRQ1Jly4apU6cqPT1d\\\n",
       "l19+eYxWC08EvAAAAAAAoNpwVfD6BrwFBZXh3qpVq9S1a1c1bNgw7LlTU1OVYrVNpKINaMNlJgf1\\\n",
       "t7FZkZ/HD8p7w7Rth/9bf7/cPWyLJOWohyo3ZdukyiTYNWFDjwmzZT7YNLsxnK94BMHxEO3GeVWV\\\n",
       "pzuUGsUmhKmpqXr22Wc1aNAgnXbaabr44otVr149vfHGG/rpp5/08MMPq02bNrFbMNwIeAEAAAAA\\\n",
       "QLWxdu1a1a9fv0oQNHLkSD3yyCO64IIL9M477+jEE08Me+7U1FTZkhHwJjqkDSbc/NJfmOsSKNR1\\\n",
       "3fas4t2myty2QEovqoxbXfW3WySlqqGaqkCVjzT44wBXoNvAz8KLVBn+BlpwoAA0VEAcziZgVgmD\\\n",
       "zSlPsUUV8ErSgAEDtGLFCt1999169dVX5XA41LVrVz344IO66KKLYrRS+CLgBQAAAAAA1cZ3333n\\\n",
       "9/7Jkydr8uTJUc2dm5urtP37VRrugdUpoA0lmswxWJgrVc1GfVsweN7nCnf3eXz+R/VuRrl3NOsq\\\n",
       "9G2s5rKroSqTYNcTcVXw+lbvelb2ei7Oc2Z/TyjS4NefmlUVvC/Vptzc3Kjn6dOnjxYsWBD9gmAa\\\n",
       "AS8AAAAAAKgV8vLyZPt1h7UCW1+xygpDhbmS/8zTX6jreb9n1a5nuPtHZpv+x5yeMes+SfUk7VGW\\\n",
       "GkuyK1tSOx1OiF0nCKctQagKX1+xDH59WaMqeLutQnl5eUk7PyJHwAsAAAAAAGqFvLw8OXfuSPYy\\\n",
       "gotHvmcmzJVCB7ougYJdz9ue4W7R4dsZ5YHjzsoIN0t1/QazvhW8vq0bXMf4a9HgW/nr78yBxDP4\\\n",
       "9Sd5VcE7yksJeC2KgBcAAAAAANQKeXl5OrRrl+R0SvYkVvHGs0jTbJgrBc4oA80RLNh13bdP3mGv\\\n",
       "R8jr6r3bUFVbNLji2spDG6pulZPvU+gK3n3y36LB9zjfJ+4b+pp5ERMd/PqKbVWwU4Z2lRwk4LUo\\\n",
       "Al4AAAAAAFAr5OXlyXA6pT17pKZN43eiRLzLPpwg1yVU9mi2Wtd3Ps9OCp5ji7wfyygPfnrPeNap\\\n",
       "jD/68frjar/g2bbBFRG7ZpKqVvW6BKrudQm3yjfQ3L4SFf76Ch0G/yaHKgxDzZo1S8B6EGsEvAAA\\\n",
       "AAAAoFbIyMhQdoMGKtq5I/qAN5GtUiMJcyVzeWKoUNffGN92DJ73B9hkLd1jLa4I1DN2LPD5r5Sl\\\n",
       "DMkn5C2Q/7AyUNArBa7q9V2N55PwJ5IqX1/JrvoNbIfK1LBefWVkZCR7KYgAAS8AAAAAAKg1mubl\\\n",
       "qWjHdql7j+ADk7XXVaRhrmQ+JzTTgsHfWH/B7j6fxzw//+MxV7jras/ga7/kbsngimOLJB2OGv0d\\\n",
       "5WrZ4LmZmm/Q6zqr50KDhb3yc3wg0VT5Bjqnr8QFv9vlUF48q9oRVwS8AAAAAACg1miRl6dNO3ck\\\n",
       "L8B1iSbI9RRpla5LqFDX9xyem6h5Pu5buetzbKj2DL6nbyipxF3FW/LHI54brflW8oYb9Eqxqez1\\\n",
       "FIsq32Br8BTb8HeHHMprcVRM50TiEPACAAAAAIBao2VentK37lBZIk8aqzBXir5K18VMsOt7Pt9w\\\n",
       "13ctnrd9qnd9+W6i5jmsgQK1avAMbl0LaiDval7pcH9eyVzQ6zrGc15fofr2+hPLKl9fsa363SGH\\\n",
       "8lq2iHw5SCoCXgAAAAAAUGs0b95cdXf+Er+AN5ZhrhReXhdJqBvoOH/BrlQ13C0IcNvjvozyw+0Z\\\n",
       "suU/9vS0T1Xrcw9vuuYKeT03WvMMeaWq1bxS4KDX80m5BNqczSWS6l7fuYPNH43Igt9fU8rVvHnz\\\n",
       "2C8HCUHACwAAAElSYWGhiouLk72MpHA6nZKkXbt2yW63J3k1yZGVlaWcnJxkLwMA4q5z585KXfKv\\\n",
       "2EwWj3wu3AJMM2uINNj1HOPbksHzMc/bHgFwoOpds7yreItNhLyuhfpW83rO5vmYS6RVvS6RBr7x\\\n",
       "rPD1Fbzdw9q0Ml3buXOczo14I+AFAACACgsLNXP6dDkqKpK9lKRISUlRt27dNHv2bFXU0tcgLSVF\\\n",
       "48aPJ+QFUOP16tVL+79ZIzmdUjh/1ItX7hZpCBpptW6gYwMFu5L/cNf3tr/N2BRe713faVyxa+V0\\\n",
       "lSFvpUAhryffil1/bRt8Fmuqqtd3lf5E0s7B33nMnCt65crS2oqD6tWrV9zPhfgg4AUAAICKi4vl\\\n",
       "qKjQBW+8oSZ79iR7OQnnzMjQ6kcfVf7s2bKXlIQ+oIb5rXFjvTlsmIqLiwl4AdR4HTt2lN1mk+PH\\\n",
       "jdIxASoW45mpxSvQlYKHusHmCNSOQQpeuet7TICN61ztGaLlvemamUpeKXg1r+txyX9Vb6Cd+BIV\\\n",
       "9vqey+w5w7NRxUpJTdUxxxwT03mROAS8AAAAcGuyZ4/yduxI9jISzpGZKUlqunOn0g4dSvJqAADx\\\n",
       "ZLfb1bNHD33y9erKgDfeBZLRtCkIZ23htGGQ/K8rUNWu53jftgwB5k0vqlq9G6xJwD4/Y1z3Nfxj\\\n",
       "Wtdjla0agoW8kndA69uWwWzQG6yi13cu3/n8iTbs9XdOM+cNbrV+V4+ePWptm6qaICXZCwAAAAAA\\\n",
       "AEik3r16Ke+r1fFtu+D6CFeBx0coBz0+As0TaG3BxvpW7Qaq3PW8z+OYcHvv+otOA01RoixJlSGv\\\n",
       "N1d42lCHA9AGPo/7Rsz+qmMDxdANVHXrN18N5X3+YLJ9PqLR0M+HeavTS9Srd+8o14BkIuAFAAAA\\\n",
       "AAC1Sq9evWRbvzp2ExapeoS6nvP5CrQ2My0ZfMf5Br77fO7X4epd3/YMZqLHQB0g/L+0noGmv6DU\\\n",
       "N5j1DVQDhbyhgl4zYW84YhX2ep7fXOi7Ou0Q/XctjhYNAAAAAACgVunVq5f2fntt+ButuUTz7nqX\\\n",
       "cKuHI+2vK4Uf7PoeE0a461m9GyoCNWOfn3lK/thw7XCrBk+e7Ro8F2qmp26ojdp8+fb7DTSvv7mD\\\n",
       "8Q15Y3HBSf5aOzhlaE3pPgJei6OCFwAAAAAA1CodO3aUzTCkrd+ZOyDaCl2XcCp1JfPVusH67EZS\\\n",
       "tRsq3I2AZ2RZN8i4ogCf+1bxVm3V4BleBqrQNdOyIVhFb6LaN4R7/kg11EalSWmp6tixY4znRiIR\\\n",
       "8AIAAAAAgFolNTVVPXv0CNymIVaBrhR+qCuFDnU95/UnWLAbqnLXd7znnL5zBKje9d1cLVqu04QX\\\n",
       "8nryDXkjDXpd4wMxE/R6zh9t2Bt94Lvatp8N1moAAl4AAAAAAFDrnHDCCar71UeVN2IZ6EqRhbpS\\\n",
       "4oPdaCp3gwXDOhxzRhJh+p4+PJ79eIP12vUNYv2FpcFCXjNBb7zDXs+1RBb2rqhbpL59+0Z4blQX\\\n",
       "BLwAAAAAAKDWOeecc5T20TvSgYrYTBhtqBtNsCsFDqb9HROs367vMf5CXz8bsZmp3g0VYfrLjAM9\\\n",
       "rcBVvL5nikXIG2nQ6zqH2W7EiQ17K2To7bTdGjJkSITnQ3VBwAsAAAAAAGqdU089Vc7iIum7LyOf\\\n",
       "JN6hruc5AgmnaleKPtz1c2x6iKrncGtLgxUMB3spYhfyJjvoDXU+M0K3clitfSquKNepp54axXlQ\\\n",
       "HRDwAgAAAACAWic9PV1nn322sj6eZ/6gAkUe6krmQ13PcwUSrJ1EoGA3FuFukNYMrurdaNszmOVb\\\n",
       "xSuFE/IG68vrGh9O24Zgx3iKNOiN9tWsGvbOyyrQ2WefrbS0tCjnRrIR8AIAAAAAgFpp6NChavTZ\\\n",
       "/NADIw10XRIZ7Jqp2nXN43tsOExW70bDd1O1YFW8niFv5PwFr+FW87qOMRv0Ji/snd/ooIYOHRrl\\\n",
       "XKgOCHgBAAAAAECtdPbZZ2vHxm+knT9XfTCaSl0pvDYMnucLJliYGujYcMNdzwDZd00mqncTzd9L\\\n",
       "UrWKN9jGa6FaNvg7LtjxZo7zFW7Q63nuyMLen1Skb3ds1VlnnRXR8aheCHgBAAAAAECt1KBBA51y\\\n",
       "yinK+OTtyjsSHep6njOYSKt2/bVk8G29YPa5BtlYzZNve4Zw+++aXYa/bhKBWzWE4i/kNVvN6zo+\\\n",
       "lkFv/MPetzN26dRTT1WDBuGeC9URAS8AAAAAAKi1zj33XLX5dF7iWjBI5oPkSIJdyVzVbqDzec7v\\\n",
       "bz4/85ip3nVFj3V9bodaim+bBk+hXr7g/Xh9A1ez4WiwoDbUHOHE3ZEGr+aC3nmtD+ncc8+N8Byo\\\n",
       "bgh4AQAAAABArXXuuedq86dLpOLfwzswXtW6UvBg1zVPIGZbMgRqyxBqXXHiWk6QLhBuwZ5iibKC\\\n",
       "9OP1DT5DhbzBKnnjXc3ref5Iwt7AVb0HVKYlm7+m/24NQsALAAAAAABqraOPPlrt2rVTna8WmDsg\\\n",
       "3FDXxWyFcKgQNVjVbqiWDGaY7Ltrpj1DdVC1VUO4Ia8UOGCNRdAbbtgbCe+1LKizS+3bt1e7du0i\\\n",
       "nA/VDQEvAAAAAACo1UaOHKl2H88KPiiSYDecnr5mqnbN9toNtSbf8wYSoDWDZ7ibyM3VQrVp8Hw8\\\n",
       "vH680YS8oZiJuxNb1TurXZEuvfTSCI5HdUXACwAAAAAAarX8/Hz9sHKxtGur9wORtGGQwg91Iwl2\\\n",
       "zcwbah5/Y1xMhMae4W44W5KFK1CuHY7A/XgDCRTyhtuywTWX2aA3HOEHvVtUqCU/fKX8/Pwwz4Xq\\\n",
       "jIAXAAAAAADUas2bN9fgwYPVaMlzkYe6UnhhrJnWCaF67Ua6mZq/ccHOFaB61x9/MWakLRvMPhUz\\\n",
       "VbxV+WvVYHbjtUhaNrjmM7MRW/yC3ucabdE555yjvLy8MM+B6oyAFwAAAAAA1Hpjx45VygezJGcE\\\n",
       "PQfCDXbN9NkNp9eu59xm5goV7gZozRBIpM0LIhHuXnDBWzWYreQNt2VDqIA2OUFvuSo0O2W9xo4d\\\n",
       "G+a8qO4IeAEAAAAAQK131llnKSPVrjpfzTd/UCKDXTPz+5sv1Lhg4a6PZPXeDcRzqWZfNnObrsVi\\\n",
       "47NYNagIdzM2KVCf3nl1flJqZh0NGjQoRmtDdUHACwAAAAAAaj273a5x48ap7fJpoQfHOth1zRlM\\\n",
       "JJW7ZsYFE+54D9HEm/6eppmX22yrBnOVvP7aNSSjZUOwNZlxOOid1uh7jRs3Tna7PYJ5UJ0R8AIA\\\n",
       "AAAAAKiyTcNPX6+Sbeuaqg8WKPwK20iayPoKFexGE+7GoHrXM9oMFVXWDfG4WZ5Pxexma8H78Urm\\\n",
       "g9ZwQ14pNi0bPOcKP+hdYyvVF/u36sorrwz7WFR/BLwAAAAAAACSGjZsqP9v7+7j667r+/8/c07T\\\n",
       "pqGQUsra8qVAoWIp0A3rxO0rIChjdFxpvziHTlfcJj8K9WJq8eL7pd42Jzons5v4U7TBiylOkVrc\\\n",
       "VxgOERhTWbkQRUHHOi96IW0hBdOUNMn3j9qUtkmapElO3s39frv1Bj35nM95Jzmcksd59/X54z/+\\\n",
       "45zy78t33TiYsQkD2bU7lCMZdp6zP8fuK+4O4MJqw2l/Hrqv++69i7cnvcXUviLvYHfz7jzv8ITe\\\n",
       "j0x/OK973esyZcpgL3nHaCbwAgAAAPzakiVL8sjXv5A8tX74wm4y9CMZ+nPO3o7rI+7uaaCzd4cy\\\n",
       "J/Z13bnejhn4qIb93cm7L/2JsgMd29D3Odfl6dz45H1ZsmTJAM5LSQReAAAAgF+bO3duzj333Lzg\\\n",
       "tr/s/50GGnYHO5Jh52P1dt7+rGuA0bqv3bu9jWcYqsuL9WWwO3v3HXl7MpQ7efs6357nHprQ+5fT\\\n",
       "/iMLFizICSecMIDzURKBFwAAAOA53ve+9+WRf16R/PIn+z54qMJusu+wO9Q7d3t6zBqOY9gf/d3F\\\n",
       "2z8DCat9HdtX5E36v5t38KH3J9mU5pZ/z/ve974BnIPSCLwAAAAAz3HCCSfkNa95TaZ943/3ftBQ\\\n",
       "z9nt79XCejp/T4Yg1O65e3eg4xkGqj9fpuceM5S7eHse17Cn3oJsXxG2P5F3+ELve6Z9N6997Wsz\\\n",
       "Z86cAdyX0gi8AAAAAHtYtmxZttz31eSn9+/+gaGcs5v0byTDQHfu9veiavsxe7e38QxD5blLG0zI\\\n",
       "3f9dvEnvkXegQyj2NbJhIOft/1d7dX6WVVsezNVXX93v+1AmgRcAAABgD0ceeWQWL16c37j1nTtu\\\n",
       "GEjYTYZm125fj7c/cbcf9+tr9m5fnpsohyP89mXPL2dfn3ZbGvs5j3eg4xr2Z2TDUD3ODu98/r25\\\n",
       "4oorcuSRRw7R4zJaCbwAAAAAPXjnO9+Zbf/5nVQevKP/dxqqkQzDGXf3c+7uUGXKoTCQpQ9+asVA\\\n",
       "d/Lu71ze/u4Q7j30/mvlx7lvw6O56qqr+nkuSibwAgAAAPRgypQpWbp0aQ6946qkq2vfdxjukQx9\\\n",
       "PcYQXhxtOGbvHrT/p+jW32vK9WTPL1P/5vEmA9+PvK/IO9Shd5eudOWqmXdl6dKlmTJlpPdRUwsC\\\n",
       "LwAAAEAv3vSmN2X80z9P9fs39X7QSO3aHejO3RHYvTva8uFAxjQMjb4i7L6+Ov3ZCz3w3bxfrj6c\\\n",
       "te1PZsmSJf28L6UTeAEAAAB60djYmGXLlmXqHe9Itv1q9w/2N+wm+xd3h+p++1pDhmf37lDo69Mc\\\n",
       "6JduX7t4k77m8Q7luIZkaCNv8kwas3Tqv2bZsmVpbNz78+LAJPACAAAA9OFP//RPc/wxR+ag258z\\\n",
       "z3QgYXckd+7uvE9P6xjI4w7C4AYK9K4fPbpf9+vPt6qnyDt0hiry7vsrfNVBN2fm82flDW94Q38W\\\n",
       "xgFC4AUAAADoQ6VSyYoVK9J1X3PykzuHbtduMvQ7d/djJsG+du8OZDzDcI9u2N/RC/35sg98Hu++\\\n",
       "dvLu71zenY/Rs2/mh7mh656sWLEilYrkN5b4bgMAAADsw+zZs/P+v/7rTF11afJsP/LgUMTdodi5\\\n",
       "29tahnj3bq3t+ekM/y7e4UrYg9vN+0zacumkT+f917w/xx133LCsjNFL4AUAAADohyuuuCJzZ8/M\\\n",
       "+Luu6v2g/o5kGOqxDH2tpx/nGOjs3T3zZv+nxI4ePX0p+z+PN+l7J29v9rWTN+lf5N39cZaO/3KO\\\n",
       "nv/8LF68uJ/35UAi8AIAAAD0w85RDeO+f0Oy5pt7HzDYobFDob9zd3uwZ9ztSX+T43Da37bd05eo\\\n",
       "v+fsPfL2Zl/Juz+Rt3+7ee/If+Uz475tNMMY5rsOAAAA0E/HHXdcrrnm/Wn4lz1GNfR3JMP+7Nwd\\\n",
       "irm7/Sia+9q9O5wG8qnseexQTZ3obVRD7/N4B7OTd+d996XvyPtMtuYNDR/P+z/w/hx77LH9OB8H\\\n",
       "IoEXAAAAYAAWL16cF809OpU7l/ZvJEMy+Hm7+zKQubs96M/u3f110PA/RL/1dxfvwObx9qWvC68l\\\n",
       "+xt531H5XI45dU4uv/zygS6MA4jACwAAADAAlUolzc0r0vDDzyRrbtn3HfY37g7FRdX6s45e7JkX\\\n",
       "9zV/dygvP7a/Uy+GemrGwOfx9sfgIu8t+Y98tuGefGrFp4xmGON89wEAAAAG6Nhjj80NzSsy7puv\\\n",
       "TTY/0vNB+xrJkAw+7vZmAHG3p927tRzPMBiDGdOwv7t4Bxd5h3Zcww/ys7y24R+y4oZmoxkQeAEA\\\n",
       "AAAG4+KLL8473/6mVG+7IGnbIxsOtjT29xyDHekwQKPh4mrPNZwTJQZy7uGLvPu++NqmVHJB9YN5\\\n",
       "8zvemosvvngfxzMWCLwAAAAAg7Rs2bKce9rJqbv9VUnnr7e/1irujsDu3aEcvzBc9vzUevqy9LeP\\\n",
       "t6VxEPN49yfy9q092/Oqur/Mby44NVdfffV+nYsDh8ALAAAAMEiVSiVf+PxnM3vSL5N7/2L07dwd\\\n",
       "5ouo7V+uHH2GZhdvMlw7ef8i/3+emP1sPvP5z5q7SzfPBAAAAID9MGnSpNz2f7+aSf/9j8mPP9n3\\\n",
       "wcMVdwdwNbGedu/2ZLSNZ+hNf5r3/uziTQYzjzfZ/528u9//+vxzvjDpW1n1L1/LpEkHWlpnfwi8\\\n",
       "AAAAAPtp1qxZueWrX864+9+U/PKeng8a6bg7gO2oQ3VxtZEY4dCfT2t/Ni4P9L59R96+9D/y3p3v\\\n",
       "5c3jPpYvf+0rOeaYYwb5eByoBF4AAACAIfDSl740f/+Rv0317lcmz6zZ/YP7E3f7MsC429/Zuz3t\\\n",
       "3q3V/N0BbE4e8HmGYhdv3/b1Vdt35F2TtizMe/PhD/9tzjjjjEGsgQOdwAsAAAAwRC677LJc/oZX\\\n",
       "p3LH2Unr2h03DnRu7p729/7DpD/7Tw8a9lXsMNRfot56+9CPakj6+kquzS/z8spl+aPXvSZvvPL/\\\n",
       "28d5GKsEXgAAAIAh9Hd/93d5/StPS903Xpas+2XfBz+TERvN0N/duweKnr4MA9nFO7SjGgYeeTdk\\\n",
       "U15Wd1nOWHBmrm1ePsDVMJYIvAAAAABDqFKp5Prrr8+rF5ySfOflybObBneiIbqo2kCNpvEMvdmf\\\n",
       "Gbv7q69RDUMVeTfmybw8l+UFL5mfT6xckUpFwqN3nh0AAAAAQ6xarebTn/50XvHy2cl3zu458g5H\\\n",
       "pRzA7t2hNlQRuBYTKQa6i3dw83iT/kTeTXkqv5fLc/y85+fTd3wh1Wp1kI/FWCHwAgAAAAyD+vr6\\\n",
       "3HjjjXnly2cl3z4z2faccQ37GsswzKMZkgNvPENPX7L+jmkYSn3v4k36irwbsjFn5rIcu/DEfOG+\\\n",
       "r2TcuHFDuzgOSAIvAAAAwDAZP358vvjFL+aPzjspdd8+I2lbu387d4e5TvZ3PEN/LrBWmqHcxbvv\\\n",
       "yLu3X2R9Xlr32px8yfzceOONGT9+/IDPwdjkbQAYYps2bcq73/3unHTSSbniiitqvRzoVUtLS1pb\\\n",
       "W3e7raOjI0myYcOGvf4aUGNjY5qamkZsfQAAcKAYN25cPvvZz6bhz/4sn/7i6ek8+RtJwzE9HzzY\\\n",
       "ubuF7N4d7BiHJ9NzfB6soTpfWxrTkNYeP9aRhlTT1ss9d34ldnzD1+TneXnl9TnjT16eT3ziE8Yy\\\n",
       "MCACL2PemjVrMmvWrJxxxhm58847ezymvb09n//85/NP//RPeeCBB7Jp06Y0NDTk8MMPz+zZs3Pm\\\n",
       "mWfmkksuycyZM3PYYYfl1ltvzY033pg3vvGNqa+vH9lPCPqhpaUlyz+6PJ3tnbvdXqlUMm/evDQ3\\\n",
       "N6ezc4+P1VeyZPESkZchs+ebDL29weDNBeBA4/UPxqZqtZpPfvKTmTTpzbnu+helY85XkqaX7H5Q\\\n",
       "LYbPPsdQBtSR8Ez23km8OXtH5J6O601P9x/oOQbq7tyXhdUr80eLX5Nrr73WBdUYMIEX9uHHP/5x\\\n",
       "XvnKV+b73/9+Ghsbc8opp+T000/Ps88+m0ceeSS33XZbbrvttsyfPz8zZ85Mklx44YVZvnx57rjj\\\n",
       "jpxzzjk1/gxgb62trels78xNr7gjGw9/qvv2ho4JuXb1vDQvuiVt1W3dt099YnIW3nxWWltb/aDJ\\\n",
       "kGhpacnff3R5Op7zJkNvbzBU6yu50psLwAFix5usf5/O9o7u23p7/avUV7Nk8ZVe/+AAUqlUsnz5\\\n",
       "8sydOzdXLjkn22d9JJnxpzs+uK+4W6Pdu0N14bQDQW+Rd/C7eJPr87W8edy78uF/uDZvfOMbh2ah\\\n",
       "jDkCL/ThySefzJlnnplf/OIXectb3pL3vOc9mTJl9z/eHn/88Xz84x/Pb//2b3ffdtFFF2X58uVZ\\\n",
       "uXKlwMuotvHwp7Juxq6r+U5s3zEnav20zdla3/v/hMD+am1tTUd7Z55+xU3ZfvjGJEm1oyFZfW2e\\\n",
       "WtScjuqO59+4J6bm4JsXenMBOGDseJO1Ize94v5sPHxHeWnoGP/rN1jvTVv12STJ1CcmZeHNL/D6\\\n",
       "Bweoyy67LCeccELOu2BhnvnV95LjPpw+E80g4u5w6ily9hSCDxruheyn3sY09LaLd7B6irztac9b\\\n",
       "857cOGllvv7Pt+b0008fwkdkrBF4oQ8f+tCH8otf/CILFizIhz/84R6POfbYY/OBD3xgt9tOP/30\\\n",
       "TJkyJatWrcp1112Xurq6kVguQHG2H74xHTPW7fhN+8QkSce09emo31rDVQEMv42HP5N1M1qSJBPb\\\n",
       "d1xEZ/20lmytf7aWywJG0BlnnJHvPXhfzjn3wvzkgd9P15H/lIzrISsOMu4OdPduaeMZBmqoRiz0\\\n",
       "tYs3Sb928m7K5ryq7tJsfN5Tue+2+3LMMccMwcoYywz1gD7cfvvtSZLTTjttQPerVqs577zzsnbt\\\n",
       "2nz3u98djqUBAABQuFmzZuX+/7g35730kBy07kVJ2yNDct7e4u5AlTqeYSCjjHvr58M1DvkH+VFO\\\n",
       "rf5ems6bmn9bfa+4y5Cwgxf6sHXrjh1kd911V97+9rcP6CqWF110UT7zmc9k5cqVOfXUU3s9btu2\\\n",
       "bdm2bdes0y1btiTZcWG39vb2Qa4c+tbR0ZFKpZKGjgndYxmSZGL7hN3+uVNDx4RUKpV0dHR4XjIk\\\n",
       "dj4Hqx0N3Tt3q3v8M9kxtsFzb2Ts/J50NDSkfeLEfd/hALPzcx6Ln3uSdDT4b22k7PozeHz3zt09\\\n",
       "/5nsGNvge8JI8PyqvUmTJmXlyi9n2bJl+ZsP/U7afuNzySHn7/jgEI9mOBB37w7nxc8G85h9zeNd\\\n",
       "mTvy+nFvyJvf9eZcffXVLqbGkKnr6urqqvUioJbWrFmTWbNm5Ywzzsidd96528cWL16c6667LsmO\\\n",
       "d1YvvvjivPzlL8/v/M7vZNKkvv8IaW1tzdSpU3P00Ufnhz/8Ya/HLVu2LO9973v3uv3zn/98Ghsb\\\n",
       "B/4JAQAA9FNra2suueSStLS05JBDDqn1csa8L33pS/mTP7k0bQf9cToP/2CypY+fO0dgPENPO3h7\\\n",
       "W1F/Z/A+97jqxPac+YX/m/v+aEE6ttbv83xJz2vt70zg3o7t7byDOU+y95iGp/N0rqq8J//YcGNW\\\n",
       "3LAiF198cR/3hoETeBnz+gq8LS0tef3rX5+vfvWru91eX1+fs846K4sXL87555/f67kvvPDCrFq1\\\n",
       "Ko8++miOP/74Ho/paQfvzJkzs3HjRv+DxbDZsGFDmpub07zolqyftusvH01sn5AVt/91Lj37Xdla\\\n",
       "v+t5OX3DlCxqPj+LFi3KtGnTarFkDjA7n4NPLWpOx7T1SXbs3D399hW56+xLu2fwVjdMz+TmRZ57\\\n",
       "I2Dn92RRc3OmrV9f6+WMuPaJE3P7ihU5+9JLU7917M2A3jB9epoX+W9tJOz6M/jerJ+2awbvitvf\\\n",
       "kkvPvrZ7Bu/0DU1Z1Py7vicMuy1btmTq1KkC7yjy+OOP59JLL81DD/93nqqsSBrO3PugQcTdZGCB\\\n",
       "d6Bhc6wF3r7OleyKvHfkzvz55MU55jePyadWfCrHHntsH/eCwTGiAfrQ1NSUlStX5sc//nG+8pWv\\\n",
       "5Bvf+EbuvffetLa25rbbbsttt92Wt73tbfmbv/mbHu9/0UUXZdWqVbn55puzdOnSHo+ZMGFCJkyY\\\n",
       "sNft9fX1qa+v7+EesP+q1Wo6OzvTVt2WrfVte318a/3ut7dVt6WzszPVatXzkiGx8znYUW3b64Jq\\\n",
       "HfVbd91WbfPcGyE7vyfVtrYxGTh3qt+6dUx+/tU2/62NlF1/Bj+71wXVttbvuq2t+qzvCSPC82v0\\\n",
       "OfbYY3PHHXfkuuuuy9Kl52d7x+vz7MQPJJVf58RBztcdzvEMo3FW7+YMzbr6Ok9foxo2pjPvPeJt\\\n",
       "+cxTn8s1f3lNLr/8ciMZGDaeWdAPz3ve87J06dLcfvvtefLJJ/O1r30tc+fOTZL87d/+bf7zP/+z\\\n",
       "x/sdddRRSZKf/exnI7ZWAAAAylapVHLFFVfke997KC8++fuZ2j4vabtzn/cbqourjQbDdZGz3r5E\\\n",
       "fY07Hqhv5Zt58WEn55Hn/SgPfe+hXHHFFeIuw8oOXhig8ePH5w/+4A8yderUvPjFL05XV1cefvjh\\\n",
       "HHfccXsde8sttyRJzjvvvJFeJkARxj0xtfvfqx07LvhX3TA9qbbt9XGAA8nUJ3bt+Wro2HFxtekb\\\n",
       "mtJWfXavjwNj13HHHZdvfvOb+ehHP5qrrjovdZ1/kl91XZPUDew1orfduwM1kEftaTzDcBnuC631\\\n",
       "dxfvM3km/+egpfnHrk/nmmV27TJyBF4YpJkzZ3b/e28XXPvqV7+aQw45JGedddZILQsGZOoTk3f7\\\n",
       "fUPHjnEh0zdMSVt1W6/Hwf5qbGxMtb6Sg29e2H1bpVJJ5iWTmxels7Oz+/ZqfcVFJ4EDRmNjYyr1\\\n",
       "1Sy8+QXdt+18/VvU/Lu7vf5V6qte/4BUKpVceeWVWbBgQRYtWpTHfjwvG1s/mI66hUldXfdxg9m9\\\n",
       "O5i5sweyJzO4kRVd6crN1S/n/xy8NEfNm5mHVjzU4yYwGC4CL/Sgq6srdc/5g7InK1euTJIcfPDB\\\n",
       "+d3f/d29Pv7ggw9mzZo1+cM//MOMHz9+OJYJg7bjh8tKFt68+5sPu37APH+3HzCTpCKyMYSamppy\\\n",
       "5eIlaW3ddYXhjo6OrF69OosWLUq1Wu2+vbGxMU1NTbVYJsCQa2pqypLFV3r9AwbsuOOOy5133plP\\\n",
       "fepTufrqJZnQ8MH8dNM16aycNagLq40Fve28HcyO397OdXflX/PXh16V9eN/kfe+9715wxveYNcu\\\n",
       "I07ghR68+93vzubNm3PllVfmxBNP3O1jW7duzac+9am8/e1vT5Jcc801PUavnQH4oosuGu7lwoDt\\\n",
       "+OFy97iW9P4DZuKHTIZeU1PTbs+p9vb2JMm0adNc8AU4oHn9AwarUqnkz/7sz/Ka17wmy5cvzzXX\\\n",
       "vDLTZ5yax3/8/tTlBfs+wXMMxcXVamGwu2yH2vdyf97/G1fl/m3fzVVvuypLliyxIYaaEXihB/fc\\\n",
       "c0/uvvvufPzjH8+sWbNy8skn56CDDsratWvz8MMPZ/PmzWloaMhHPvKRXH755T2eY+XKlRk/fnwW\\\n",
       "LFgwwquH/tnzh8vED5gAAFCCxsbGXHXVVfnzP//zXHPNNfmHf3hJnjf7gvzoh3+VZHb3cYPZvdvb\\\n",
       "eIbedrweaOMc+grIm5O05Cf54LT35NYtq3Lln1yZLy+9MVOmHGhfBUpjzzj04BOf+EQ+8pGP5IIL\\\n",
       "LsjEiRNzzz335Etf+lIefvjhHH/88XnPe96TRx99NEuWLOnx/mvWrMlDDz2UM888M4cccsgIrx4A\\\n",
       "AICxYMqUKfngBz+Yxx57LC869eBUxp2ck+ddnq6udbVe2ojrbUrF5gEe35snsi5/Pe3ynNlwcg47\\\n",
       "/+A89thj+cAHPiDuMirYwQs9mDNnTubMmdNrwN0X4xkAAAAYKUceeWSuv/76/MVf/EXe/e535weP\\\n",
       "HJupU16dp9a9KZWu39rr+NEw4mA0e+4u3kfqHsiXT1melY/cmAX/c0EeeN8DmTNnTi2XB3uxgxeG\\\n",
       "wcqVK1NXV5cLL7yw1ksBAABgjJgzZ05uuummrF69Oudd0JDOif8z/2POGTnqeV9JV/Y9r8Fe1B22\\\n",
       "Z3tum/CVvGHO6XndxJdk8osacv/99+emm24SdxmVBF4YYps2bco999yTF73oRZkxY0atlwMAAMAY\\\n",
       "M3fu3HzsYx/Lz372s/zJoj/Ilm1vScPhR+f5p/zvTMqaAZ+vt/m7pdtzTMPa/Ff+8ZT35NWHH51r\\\n",
       "p70lr7j0/Pz85z/Pxz72sZxwwgk1WSP0h8ALQ+ywww7L9u3b8+1vf7vWSwEAAGAMmzJlSt7xjnfk\\\n",
       "8ccfzw03XJ8jjno4T9Qfn0PmnpOpx34xnXl6WB73oGE56+D1Noc3SX6VLbljwhfzrrnn5JL652ft\\\n",
       "0T/IJ2+4Po8//nje/va359BDDbRg9DODFwAAAOAAVq1Ws2DBgixYsCBr167NDTfckM997r3ZMP51\\\n",
       "ed6sl2bzf1+QStv5SY4a0HkHOtJhqEZAPHdG7nM9k/7tNv5lfprvTrwl/3HwqvzH5m9m9rGz89rX\\\n",
       "vDZfWHSDv4lLkQRexrzJkyfn6quvzjHHHFPrpQAAAMCwOuKII/Kud70r73rXu/KTn/wkt9xyS1at\\\n",
       "+nLuuefN2X7wiZm47YKMbz0/jZmfuhH6i9/PJJnYw+2bMzRRuDOd+VFW53vPW5V/b7slj637QU57\\\n",
       "8Wm5+Pzz85nzP5rZs2cPwaNA7Qi8jHmTJ0/OsmXLar0MAAAAGFGzZ8/OW97ylrzlLW/Jk08+ma9/\\\n",
       "/eu55ZZb8vWvn51qpTFHTTkvrY+/JHVd89OYOalLtdZL7pfOdOQX+VF+3rQ6a6bek29v/lq2dbbm\\\n",
       "3Pnn5j0XLM3v//7vG73AAUXgBQAAABjjDj300FxyySW55JJL0t7enrvvvjtf+9rX8p3vfDwPPPBg\\\n",
       "ujqTIw77rRzUNT8dG+enoX1+JmdOKjVOSx3ZnnX5Yf47q/Pz8ffniamr89imB1NXSX7rxN/Kqaee\\\n",
       "mjed97mcdtppqa+vr+laYbgIvAAAAAB0q6+vz1lnnZWzzjorSdLR0ZEf/ehHWb169a9/XZ8HHrg8\\\n",
       "P2jvyozJv5VJ2+clv/ofGffsjEzIjByaIzIxMzIhh6eyn7t+O9ORX+WJbMm6bMnabMm6PJ116Tr0\\\n",
       "F/nFuIfy+FMPpVKtyykvOCXzXzg/8+e/MfPnz8+cOXNSrZax4xj2l8ALAAAAQK+q1WpOPPHEnHji\\\n",
       "iXnd616XZEf0ffTRR7N69er84Ac/yNq1P866dXdl3bp1+dFP16Xl6c2p1FVzcMNv5KBxM9LQdUQa\\\n",
       "tx+aus5xqeusTzrHpdJeyU8+sSY/77g11XGd6aq0p6uyPc+OezK/qlubLdvXZUvbL9PR1ZHJB0/J\\\n",
       "9GkzcsSRM/I/Zs7IEUcckT8+8fLMnz8/z3/+88VcxjSBFwAAAIABqVarmTt3bubOndvjx9va2rJ+\\\n",
       "/fqsW7eu+9dTTz2V7du3d/9qb29P8vycPK8+48aN6/41efLkzJgxo/vX9OnT09DQMLKfIBRE4AUA\\\n",
       "AABgSDU0NOSYY47JMcccU+ulwAGvUusFAAAAAAAwOAIvAAAAAEChBF4AAAAAgEIJvAAAAAAMi2uv\\\n",
       "vTYnnnhiJk2alMmTJ+ess87Kd77znVovCw4oAi8AAAAAw+Loo4/Ohz/84Tz00EO59957M3v27Jxz\\\n",
       "zjnZtGlTrZcGBwyBFwAAAIBh8cpXvjLnnHNOjjvuuMydOzcf+tCH0tLSku9///tJkuOOOy51dXU9\\\n",
       "/vqXf/mXGq8eyiDwAgAAADDsnn322XziE5/IoYcempNPPjlJcuONNyZJ7rvvvqxbt657fMN9992X\\\n",
       "l73sZTVbK5RkXK0XAAAAAMCB6+677865556brVu3Zvr06bn99tszZcqUJMkvf/nLTJo0KfPnz09d\\\n",
       "XV2++93v7vZ7YN/s4AUAAABg2LzwhS/Mgw8+mHvvvTfnnntuXvWqV2Xjxo1Jkocffjgnnnhid8z9\\\n",
       "3ve+l5NOOknchQEQeAEAAAAYNhMnTszs2bNz6qmn5pOf/GQqlUqam5uTJN///ve7xzUkyUMPPbTb\\\n",
       "74F9E3gBAAAAGDFdXV3Ztm1bkh07eE866aTujz388MMCLwyQGbwAAAAADIulS5fmggsuyJFHHpnN\\\n",
       "mzfnuuuuy89//vMsXLgw27dvz49+9KPuoNvV1ZXHH388Rx11VI1XDWWxgxcAAACAYbF27dq8+tWv\\\n",
       "zvHHH58FCxZkw4YNufvuu3PCCSfksccey7PPPtu9g7euri4nnXRSLrvssvzkJz+p8cqhHHbwAgAA\\\n",
       "ADAsPvvZz/b6sblz56arq2u32+6///7hXhIccOzgBQAAAAAolMALAAAAAFAoIxoAAAAAGHJ1dXVD\\\n",
       "cp49xzgAuxN4AQAAABhywiyMDCMaAAAAABgR73//+/PCF74wBx98cKZNm5ZXvepVWbNmTa2XBUUT\\\n",
       "eAEAAAAYEd/61rdy5ZVX5jvf+U5uvfXWbN68Oeeee262b99e66VBsYxoAAAAAGBE3Hrrrbv9/vrr\\\n",
       "r8+xxx6bRx55JPPmzavRqqBsdvACAAAAUBMtLS1JkilTptR4JVAugRcAAACAEdfR0ZG3ve1tWbBg\\\n",
       "QY488shaLweKZUQDAAAAACOqq6srl112WX7605/m3/7t32q9HCiawAsAAADAiOnq6srll1+eb3zj\\\n",
       "G7nrrrty+OGH13pJUDSBFwAAAIAR0dXVlcWLF+ef//mf861vfSszZ86s9ZKgeAIvAAAAACNi8eLF\\\n",
       "+cIXvpBbbrklEydOzPr165PsuMja+PHja7w6KJPACwAAAMCI+NjHPpYkOe2003a7/Zvf/GZe+tKX\\\n",
       "1mBFUD6BFwAAAIAR0dXVVeslwAGnUusFAAAAAAAwOAIvAAAAAEChBF4AAAAAgEIJvAAAAAAAhRJ4\\\n",
       "AQAAAAAKJfACAAAAABRK4AUAAAAAKJTACwAAAABQKIEXAAAAAKBQAi8AAAAAQKEEXgAAAACAQgm8\\\n",
       "AAAAAACFGlfrBQAAMHo8MXVqrZdQEx0NDUmSDdOnp9rWVuPVjLyx+n0HADgQCLwAAKSxsTH1lUpu\\\n",
       "Xriw1kupiUqlknlJmhctSmdnZ62XUxP1lUoaGxtrvQwAAAZI4AUAIE1NTVm8ZElaW1trvZSa6Ojo\\\n",
       "yOrVq7No0aJUq9VaL6cmGhsb09TUVOtlAAAwQAIvAABJdkTesRr42tvbkyTTpk1LfX19jVcDAAD9\\\n",
       "5yJrAAAAAACFEngBAAAAAAol8AIAAAAAFErgBQAAAAAolMALAAAAAFAogRcAAAAAoFACLwAAAABA\\\n",
       "oQReAAAAAIBCCbwAAAAAAIUSeAEAAAAACiXwAgAAAAAUSuAFAAAAACiUwAsAAAAAUCiBFwAAAACg\\\n",
       "UAIvAAAAAEChBF4AAAAAgEIJvAAAAAAAhRJ4AQAAAAAKJfACAAAAABRK4AUAAAAAKJTACwAAAABQ\\\n",
       "KIEXAAAAAKBQAi8AAAAAQKEEXgAAAACAQgm8AAAAAACFEngBAAAAAAol8AIAAAAAFErgBQAAAAAo\\\n",
       "lMALAAAAAFAogRcAAAAAoFACLwAAAABAoQReAAAAAIBCCbwAAAAAAIUSeAEAAAAACiXwAgAAAAAU\\\n",
       "SuAFAAAAACiUwAsAAAAAUCiBFwAAAACgUAIvAAAAAEChBF4AAAAAgEIJvAAAAAAAhRJ4AQAAAAAK\\\n",
       "JfACAAAAABRK4AUAAAAAKJTACwAAAABQKIEXAAAAAKBQAi8AAAAAQKEEXgAAAACAQgm8AAAAAACF\\\n",
       "EngBAAAAAAol8AIAAAAAFErgBQAAAAAolMALAAAAAFAogRcAAAAAoFACLwAAAABAocbVegEAAAAj\\\n",
       "qaWlJa2trbVeRreOjo4kyYYNG1KtVmu8ml0aGxvT1NRU62UAAPsg8AIAAGNGS0tLPrp8edo7O2u9\\\n",
       "lG6VSiXz5s1Lc3NzOkfRuuorlSxeskTkBYBRTuAFAADGjNbW1rR3duYVN92UwzdurPVykiQdDQ1Z\\\n",
       "fe21WdTcnGpbW62XkyR5YurU3LxwYVpbWwVeABjlBF4AAGDMOXzjxsxYt67Wy0iStE+cmCSZtn59\\\n",
       "6rdurfFqAIDSuMgaAAAAAEChBF4AAAAAgEIJvAAAAAAAhRJ4AQAAAAAKJfACAAAAABRK4AUAAAAA\\\n",
       "KJTACwAAAABQKIEXAAAAAKBQAi8AAAAAQKEEXgAAAACAQgm8AAAAAACFEngBAAAAAAol8AIAAAAA\\\n",
       "FErgBQAAAAAolMALAAAAAFAogRcAAAAAoFACLwAAAABAoQReAAAAAIBCCbwAAAAAAIUSeAEAAAAA\\\n",
       "CiXwAgAAAAAUSuAFAAAAACiUwAsAAAAAUKhxtV4AAHDga2lpSWtra5/HdHR0JEk2bNiQarXa57GN\\\n",
       "jY1pamoasvUBAACUSuAFAIZVS0tLPrp8edo7O/s8rlKpZN68eWlubk7nPo6tr1SyeMkSkRcAABjz\\\n",
       "BF4AYFi1tramvbMzr7jtphy+eWOvx3VMaMjqeddm0ZebU93W1utxT0yZmpvPWZjW1laBFwAAGPME\\\n",
       "XgBgRBy+eWNmPLGu14+3N0xMkkzbuD71bVtHalkAAABFE3hhiG3atCnvfve7c9JJJ+WKK66o9XKg\\\n",
       "Vz3NRO1rBqqZpwAAADD6CLyMSmvWrMmsWbNyxhln5M477+y+/YUvfGFWr149oHNNnTo1TzzxxBCv\\\n",
       "sHeHHXZYbr311tx444154xvfmPr6+hF7bOivlpaWfPTvl6e9Y/c5p33NQK2vVrL4SjNPgQPDnm9y\\\n",
       "9fYGlze3AAAY7QReitHV1ZVTTjklJ5100m63/9d//VfuuuuuTJo0KQsXLtzrfnPmzBmpJXa78MIL\\\n",
       "s3z58txxxx0555xzRvzxYV9aW1vT3tGZV2y6KYdv3zUTtaPakNW5Not+2Zxqx64ZqE+Mm5qbDzPz\\\n",
       "FDgwtLS0ZPnffzSdHe3dt/X2BlelWp8lVy722gcAwKgl8FKMurq6XH/99Xvd/ld/9Ve56667cuqp\\\n",
       "p+aGG24Y+YX14KKLLsry5cuzcuVKgZdR7fDtGzOjfddM1PauX89A3b4+9dvNQAUOTK2trensaM9N\\\n",
       "//mKbGw7PEnSMK4j185bneYfLkrb9h07eKc2PJGFx93szS0AAEa1Sq0XAPvrgQceSJK84AUvqPFK\\\n",
       "djn99NMzZcqUrFq1Kl1dXbVeDgDQg41th2dd64ysa52R9VunJUnWb53WfdvO+AsAAKOZwEvx7r//\\\n",
       "/iTJKaecUuOV7FKtVnPeeedl7dq1+e53v1vr5QAAAABwgDKigaI9+eSTWbNmTZLRtYM32TGm4TOf\\\n",
       "+UxWrlyZU089tdfjtm3blm3btnX/fsuWLUmS9vb2tLe393Y32C8dHR2pVCrpqDZ0j2VIkvbqxN3+\\\n",
       "2X18tWHH8R0dnpcMWPfzbUJD2hsm9nrczo/1dUySdEzwfGT/7HxONozryMT6Hc+hPf+Z7Bjb4Ll2\\\n",
       "4Ol+TWpoSPvEvl9vRsrOdYyW9SRJR4PX2rHC9xegfHVd/v44o9CaNWsya9asnHHGGbnzzjt7Pe6O\\\n",
       "O+7Iy172skyaNCktLS2pVEbPpvTW1tZMnTo1Rx99dH74wx/2etyyZcvy3ve+d6/bP//5z6exsXE4\\\n",
       "lwgAAIxxra2tueSSS9LS0pJDDjmk1ssBYBDs4KVoO+fv/uZv/uaoirtJ0tjYmLPPPjurVq3KY489\\\n",
       "luOPP77H4975znfmrW99a/fvt2zZkpkzZ+b3fu/3/A8Ww2bDhg1pbm7Ool82Z9r29d23t1cn5vaz\\\n",
       "V+Ts2y9Nfceui6xtGDc9zb+xKIsWLcq0adNqsWQK1v18+3Jzpm1c3+tx7Q0Tc/uHV+Tst16a+rbe\\\n",
       "L/K3Yer0NP8vz0cGb+dzsvmHi7pn706sb8+K19yeS//x7Gxtr0+STJ+4IYtOaPZcO8B0vyY1N2fa\\\n",
       "+t5fk0ZS+8SJuX3Fipx96aWp3zo6LnK6Yfr0NC/yWjsW7PwbhACUS+ClaPszf/cd73hHVq1aNeD7\\\n",
       "ffKTn8xLXvKSfh170UUXZdWqVbn55puzdOnSHo+ZMGFCJkyYsNft9fX1qa+vH/D6oD+q1Wo6OztT\\\n",
       "7WhL/fa9f5Cs79i62+3VurYdx1ernpcMWPfzbVtbn+F2p/q2rX0eV93m+cj+2fmcbNte7Y65O21t\\\n",
       "r+++ra2+6rl2AOp+TWprGzUxdaf6rVtHzZqqbV5rxwrfX4DyCbwUbecO3sHM3127dm0effTRAd/v\\\n",
       "mWee6fexRx11VJLkZz/72YAfBwAAAAD2ReClWK2trd2BdjA7eD/3uc/lc5/73FAvaze33HJLkuS8\\\n",
       "884b1scBAAZuasMT3f/eMK4jyY6xDG311b0+DgAAo5XAS7EeeuihdHZ2Zvz48TnxxBNrvZweffWr\\\n",
       "X80hhxySs846q9ZLgR49MW7qbr/vqDYk2TFzt1rX1utxACVrbGxMpVqfhcfd3H3bjln+87LohOZ0\\\n",
       "dnbuur1a76KnAACMagIvxdo5f/ekk04alXOjHnzwwaxZsyZ/+Id/mPHjx9d6ObCbxsbG1Fcrufmw\\\n",
       "hbvdXqlUMi9J828s2i1wJEl9tSJyAAeEpqamLLlycVpbW7tv6+joyOrVq7No0aJUq9Xu2xsbG9PU\\\n",
       "1FSLZQIAQL8IvBRrf+bvjoSVK1cm2XGhNRhtmpqasvjKJbvFjaT3wJGIHMCBpampabfXtPb29iTJ\\\n",
       "tGnTRuUbxwAA0BuBl2Lt3ME7mPm7I2HlypUZP358FixYUOulQI/2jBuJwAEAAAClEXgpUnt7e37w\\\n",
       "gx8kGZ07eNesWZOHHnoo55xzTg455JBaLwdgVHhiSt+znDsm/HoG9NTpqW5r6/W4fZ0HAABgLBF4\\\n",
       "KVJ9fX22bdtW62X0yngGgF0aGxtTX6nk5nMW9nlc9wzo/7X3DOg91VfMhAYAAEgEXhgWK1euTF1d\\\n",
       "XS688MJaLwWg5pqamrJ4yd4zn/fU1wzoPZkJDQAAsIPAC0Ns06ZNueeee/KiF70oM2bMqPVyAEaF\\\n",
       "nmY+78kMaAAAgIETeGGIHXbYYdm+fXutlwEAAADAGFCp9QIAAAAAABgcO3gZlSZPnpyrr746xxxz\\\n",
       "TK2XAgAAAACjlsDLqDR58uQsW7as1ssAAAAAgFHNiAYAAAAAgEIJvAAAAAAAhRJ4AQAAAAAKJfAC\\\n",
       "AAAAABRK4AUAAAAAKJTACwAAAABQKIEXAAAAAKBQAi8AAAAAQKEEXgAAAACAQgm8AAAAAACFEngB\\\n",
       "AAAAAAol8AIAAAAAFErgBQAAAAAolMALAAAAAFAogRcAAAAAoFACLwAAAABAoQReAAAAAIBCCbwA\\\n",
       "AAAAAIUSeAEAAAAACjWu1gsAAAAYaU9MnVrrJXTraGhIkmyYPj3VtrYar2aH0fT1AQD6JvACAABj\\\n",
       "RmNjY+orldy8cGGtl9KtUqlkXpLmRYvS2dlZ6+V0q69U0tjYWOtlAAD7IPACAABjRlNTUxYvWZLW\\\n",
       "1tZaL6VbR0dHVq9enUWLFqVardZ6Od0aGxvT1NRU62UAAPsg8AIAAGNKU1PTqAqX7e3tSZJp06al\\\n",
       "vr6+xqsBAErjImsAAAAAAIUSeAEAAAAACiXwAgAAAAAUSuAFAAAAACiUwAsAAAAAUCiBFwAAAACg\\\n",
       "UAIvAAAAAEChBF4AAAAAgEIJvAAAAAAAhRJ4AQAAAAAKJfACAAAAABRK4AUAAAAAKJTACwAAAABQ\\\n",
       "KIEXAAAAAKBQAi8AAAAAQKEEXgAAAACAQgm8AAAAAACFEngBAAAAAAol8AIAAAAAFErgBQAAAAAo\\\n",
       "lMALAAAAAFAogRcAAAAAoFACLwAAAABAoQReAAAAAIBCCbwAAAAAAIUSeAEAAAAACiXwAgAAAAAU\\\n",
       "SuAFAAAAACiUwAsAAAAAUCiBFwAAAACgUAIvAAAAAEChBF4AAAAAgEIJvAAAAAAAhRJ4AQAAAAAK\\\n",
       "JfACAAAAABRK4AUAAAAAKJTACwAAAABQKIEXAAAAAKBQAi8AAAAAQKEEXgAAAACAQgm8AAAAAACF\\\n",
       "EngBAAAAAAol8AIAAAAAFErgBQAAAAAolMALAAAAAFAogRcAAAAAoFACLwAAAABAoQReAAAAAIBC\\\n",
       "CbwAAAAAAIUSeAEAAAAACiXwAgAAAAAUSuAFAAAAACiUwAsAAAAAUCiBFwAAAACgUAIvAAAAAECh\\\n",
       "BF4AAAAAgEIJvAAAAAAAhRJ4AQAAAAAKJfACAAAAABRK4AUAAAAAKJTACwAAAABQKIEXAAAAAKBQ\\\n",
       "Ai8AAAAAQKEEXgAAAACAQgm8AAAAAACFEngBAAAAAAol8AIAAAAAFErgBQAAAAAolMALAAAAAFAo\\\n",
       "gRcAAAAAoFACLwAAAABAoQReAAAAAIBCCbwAAAAAAIUSeAEAAAAACiXwAgAAAAAUSuAFAAAAACiU\\\n",
       "wAsAAAAAUCiBFwAAAACgUAIvAAAAAEChBF4AAAAAgEIJvAAAAAAAhRJ4AQAAAAAKJfACAAAAABRK\\\n",
       "4AUAAAAAKJTACwAAAABQKIEXAAAAAKBQAi8AAAAAQKEEXgAAAACAQgm8AAAAAACFEngBAAAAAAol\\\n",
       "8AIAAAAAFErgBQAAAAAolMALAAAAAFAogRcAAAAAoFACLwAAAABAoQReAAAAAIBCCbwAAAAAAIUS\\\n",
       "eAEAAAAACiXwAgAAAAAUSuAFAAAAACiUwAsAAAAAUCiBFwAAAACgUAIvAAAAAEChBF4AAAAAgEIJ\\\n",
       "vAAAAAAAhRJ4AQAAAAAKJfACAAAAABRK4AUAAAAAKJTACwAAAABQKIEXAAAAAKBQAi8AAAAAQKEE\\\n",
       "XgAAAACAQgm8AAAAAACFEngBAAAAAAol8AIAAAAAFErgBQAAAAAolMALAAAAAFAogRcAAAAAoFAC\\\n",
       "LwAAAABAocbVegHA7rq6upIkW7ZsqfFKGIva29vT2tqaLVu2pL6+vtbLYYzx/KOWPP+oJc8/amnn\\\n",
       "zx07fw4BoDwCL4wyTz/9dJJk5syZNV4JAAAwVjz99NNpamqq9TIAGIS6Lm/TwajS2dmZtWvX5uCD\\\n",
       "D05dXV2tlwMAABzAurq68vTTT+eII45IpWKKI0CJBF4AAAAAgEJ5ew4AAAAAoFACLwAAAABAoQRe\\\n",
       "AAAAAIBCCbwAAAAAAIUSeAEAAAAACiXwAgAAAAAUSuAFAAAAACiUwAsAAAAAUCiBFwAAAACgUAIv\\\n",
       "AAAAAEChBF4AAAAAgEIJvAAAAAAAhRJ4AQAAAAAKJfACAAAAABRK4AUAAAAAKJTACwAAAABQKIEX\\\n",
       "AAAAAKBQAi8AAAAAQKEEXgAAAACAQgm8AAAAAACFEngBAAAAAAol8AIAAAAAFErgBQAAAAAolMAL\\\n",
       "AAAAAFAogRcAAAAAoFACLwAAAABAoQReAAAAAIBCCbwAAAAAAIUSeAEAAAAACiXwAgAAAAAUSuAF\\\n",
       "AAAAACiUwAsAAAAAUCiBFwAAAACgUAIvAAAAAEChBF4AAAAAgEIJvAAAAAAAhRJ4AQAAAAAKJfAC\\\n",
       "AAAAABRK4AUAAAAAKJTACwAAAABQKIEXAAAAAKBQAi8AAAAAQKEEXgAAAACAQgm8AAAAAACFEngB\\\n",
       "AAAAAAol8AIAAAAAFErgBQAAAAAolMALAAAAAFAogRcAAAAAoFACLwAAAABAoQReAAAAAIBCCbwA\\\n",
       "AAAAAIUSeAEAAAAACiXwAgAAAAAUSuAFAAAAACiUwAsAAAAAUCiBFwAAAACgUAIvAAAAAEChBF4A\\\n",
       "AAAAgEIJvAAAAAAAhRJ4AQAAAAAKJfACAAAAABRK4AUAAAAAKJTACwAAAABQKIEXAAAAAKBQAi8A\\\n",
       "AAAAQKEEXgAAAACAQgm8AAAAAACFEngBAAAAAAol8AIAAAAAFErgBQAAAAAolMALAAAAAFAogRcA\\\n",
       "AAAAoFACLwAAAABAoQReAAAAAIBCCbwAAAAAAIUSeAEAAAAACiXwAgAAAAAUSuAFAAAAACiUwAsA\\\n",
       "AAAAUCiBFwAAAACgUAIvAAAAAEChBF4AAAAAgEIJvAAAAAAAhRJ4AQAAAAAKJfACAAAAABRK4AUA\\\n",
       "AAAAKJTACwAAAABQKIEXAAAAAKBQAi8AAAAAQKEEXgAAAACAQgm8AAAAAACFEngBAAAAAAol8AIA\\\n",
       "AAAAFErgBQAAAAAolMALAAAAAFAogRcAAAAAoFD/D+R4/cu8OHu/AAAAAElFTkSuQmCC\\\n",
       "\"\n",
       "\n",
       "\n",
       "    /* set a timeout to make sure all the above elements are created before\n",
       "       the object is initialized. */\n",
       "    setTimeout(function() {\n",
       "        anim9c931bf878a64a0c9000ef8fce4e632a = new Animation(frames, img_id, slider_id, 200.0,\n",
       "                                 loop_select_id);\n",
       "    }, 0);\n",
       "  })()\n",
       "</script>\n"
      ],
      "text/plain": [
       "<IPython.core.display.HTML object>"
      ]
     },
     "execution_count": 25,
     "metadata": {},
     "output_type": "execute_result"
    }
   ],
   "source": [
    "# Note: spin coherent state sampling has slower convergence for off-diagnal term than projection state sampling\n",
    "fig, anim = get_anim(\n",
    "    density_data[::10, :, :],\n",
    "    time_data_μs[::10],\n",
    "    title=\"Reduced density matrix\",\n",
    "    time_unit=\"μs\",\n",
    "    save_gif=True,\n",
    "    dpi=30,\n",
    "    gif_filename=\"rdm-radical.gif\",\n",
    "    row_names=[\n",
    "        r\"$|T+\\rangle$\",\n",
    "        r\"$|T0\\rangle$\",\n",
    "        r\"$|S\\rangle$\",\n",
    "        r\"$|T-\\rangle$\",\n",
    "    ],\n",
    "    col_names=[\n",
    "        r\"$\\langle T+|$\",\n",
    "        r\"$\\langle T0|$\",\n",
    "        r\"$\\langle S|$\",\n",
    "        r\"$\\langle T-|$\",\n",
    "    ],\n",
    ")\n",
    "plt.show()\n",
    "HTML(anim.to_jshtml())"
   ]
  },
  {
   "cell_type": "markdown",
   "id": "e3e9d242-6f76-4604-b528-eeeb6a14f3b3",
   "metadata": {},
   "source": [
    "## Compare with RadicalPy simulation"
   ]
  },
  {
   "cell_type": "code",
   "execution_count": 26,
   "id": "ef6c4aa4-86a1-44b2-97ff-a475858d1ff9",
   "metadata": {},
   "outputs": [],
   "source": [
    "if len(basis) < 8:\n",
    "    assert isinstance(D, np.ndarray)\n",
    "    H = sim.total_hamiltonian(B0=B0, D=D, J=J)\n",
    "    time = np.arange(0, 5e-8, 5e-10)\n",
    "    rhos = sim.time_evolution(State.SINGLET, time, H)\n",
    "    time_evol_s = sim.product_probability(State.SINGLET, rhos)\n",
    "    time_evol_tp = sim.product_probability(State.TRIPLET_PLUS, rhos)\n",
    "    time_evol_tz = sim.product_probability(State.TRIPLET_ZERO, rhos)\n",
    "    time_evol_tm = sim.product_probability(State.TRIPLET_MINUS, rhos)\n",
    "    x = time * 1e6\n",
    "\n",
    "    plt.plot(x, time_evol_tp, linewidth=2, label=\"T+\")\n",
    "    plt.plot(x, time_evol_tz, linewidth=2, label=\"T0\")\n",
    "    plt.plot(x, time_evol_s, linewidth=2, label=\"S\")\n",
    "    plt.plot(x, time_evol_tm, linewidth=2, label=\"T-\")\n",
    "    plt.legend()\n",
    "    plt.title(f\"RadicalPy: Density Matrix Approach {B0=}, {J=}\")\n",
    "    plt.xlabel(r\"Time ($\\mu s$)\")\n",
    "    plt.ylabel(\"Probability\")\n",
    "    plt.ylim([0, 1])\n",
    "    plt.show()"
   ]
  },
  {
   "cell_type": "code",
   "execution_count": 27,
   "id": "bb8dc86e-4706-4c93-aa12-fbfcf5696c80",
   "metadata": {},
   "outputs": [],
   "source": [
    "if len(basis) < 6:\n",
    "    fig, anim = get_anim(\n",
    "        rhos[::, :, :],\n",
    "        x[::],\n",
    "        title=\"Full density matrix\",\n",
    "        time_unit=\"μs\",\n",
    "        dpi=30,\n",
    "    )\n",
    "    plt.show()\n",
    "    display(HTML(anim.to_jshtml()))\n",
    "elif len(basis) < 8:\n",
    "    red_rhos = np.einsum(\n",
    "        \"tikjk->tij\",\n",
    "        rhos.reshape(\n",
    "            rhos.shape[0], 4, rhos.shape[1] // 4, 4, rhos.shape[2] // 4\n",
    "        ),\n",
    "    )\n",
    "    fig, anim = get_anim(\n",
    "        red_rhos[::20, :, :],\n",
    "        x[::20],\n",
    "        title=\"Reduced density matrix\",\n",
    "        time_unit=\"μs\",\n",
    "        dpi=30,\n",
    "    )\n",
    "    plt.show()\n",
    "    display(HTML(anim.to_jshtml()))"
   ]
  },
  {
   "cell_type": "code",
   "execution_count": 28,
   "id": "efadd68e-2b39-40dc-9322-cc2e02dec2fa",
   "metadata": {},
   "outputs": [],
   "source": [
    "# Clean files\n",
    "!rm -rf radicalpair_*_prop\n",
    "!rm -f wf_radicalpair_*.pkl"
   ]
  }
 ],
 "metadata": {
  "kernelspec": {
   "display_name": "Python 3 (ipykernel)",
   "language": "python",
   "name": "python3"
  },
  "language_info": {
   "codemirror_mode": {
    "name": "ipython",
    "version": 3
   },
   "file_extension": ".py",
   "mimetype": "text/x-python",
   "name": "python",
   "nbconvert_exporter": "python",
   "pygments_lexer": "ipython3",
   "version": "3.12.2"
  }
 },
 "nbformat": 4,
 "nbformat_minor": 5
}
