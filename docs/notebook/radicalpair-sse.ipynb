{
 "cells": [
  {
   "cell_type": "markdown",
   "id": "4162ec45-9d55-4031-976a-32ea17a46507",
   "metadata": {},
   "source": [
    "# Example 14 Electron and nuclear spin mixed state dynamics with [RadicalPy](https://github.com/Spin-Chemistry-Labs/radicalpy)\n",
    "\n",
    "In this tutorial, one constructs MPO of radical pair system (two electron spins and a couple of nuclear spins under magnetic field) by using RadicalPy library."
   ]
  },
  {
   "cell_type": "markdown",
   "id": "a02389a0-5951-4c4d-b3e2-926dc2246046",
   "metadata": {},
   "source": [
    "For parallelization number of threads should be set before importing any packages"
   ]
  },
  {
   "cell_type": "code",
   "execution_count": 1,
   "id": "4a042a13-1167-48e0-b0f5-f70bdc27cbc5",
   "metadata": {},
   "outputs": [],
   "source": [
    "import multiprocessing as mp\n",
    "\n",
    "mp.set_start_method(\"fork\", force=True)\n",
    "# <-- Spawn (Mac OS default) does not work.\n",
    "# If you want, change code to adopt main() block and separate process_pair() from main()\n",
    "\n",
    "nthreads = 1\n",
    "import os\n",
    "\n",
    "os.environ[\"OMP_NUM_THREADS\"] = f\"{nthreads}\"\n",
    "os.environ[\"OPENBLAS_NUM_THREADS\"] = f\"{nthreads}\"\n",
    "os.environ[\"MKL_NUM_THREADS\"] = f\"{nthreads}\"\n",
    "os.environ[\"VECLIB_MAXIMUM_THREADS\"] = f\"{nthreads}\"\n",
    "os.environ[\"NUMEXPR_NUM_THREADS\"] = f\"{nthreads}\""
   ]
  },
  {
   "cell_type": "markdown",
   "id": "7ea428f9-dbb6-4a96-a8a8-57fd7ebf7b40",
   "metadata": {},
   "source": [
    "Import required modules"
   ]
  },
  {
   "cell_type": "code",
   "execution_count": 2,
   "id": "f0af061c-5932-451b-a519-cf8a987e72fc",
   "metadata": {},
   "outputs": [
    {
     "name": "stdout",
     "output_type": "stream",
     "text": [
      "\u001b[2mUsing Python 3.12.2 environment at: /home/hinom/GitHub/PyTDSCF-dev/.venv\u001b[0m\n",
      "Name: radicalpy\n",
      "Version: 0.8.1\n",
      "Location: /home/hinom/GitHub/PyTDSCF-dev/.venv/lib/python3.12/site-packages\n",
      "Requires: dot2tex, graphviz, importlib-resources, matplotlib, numpy, pint, scikit-learn, scipy, seaborn, sympy, tqdm\n",
      "Required-by:\n"
     ]
    }
   ],
   "source": [
    "try:\n",
    "    import radicalpy\n",
    "except ModuleNotFoundError:\n",
    "    # remove uv if you are not using uv\n",
    "    !uv pip install radicalpy --quiet\n",
    "\n",
    "!uv pip show radicalpy"
   ]
  },
  {
   "cell_type": "code",
   "execution_count": 3,
   "id": "85574e64-c594-4ba8-a482-6446e3071f17",
   "metadata": {},
   "outputs": [],
   "source": [
    "import concurrent.futures\n",
    "import time\n",
    "from concurrent.futures import ProcessPoolExecutor\n",
    "\n",
    "import matplotlib.pyplot as plt\n",
    "import netCDF4 as nc\n",
    "import numpy as np\n",
    "import radicalpy as rp\n",
    "from IPython.display import HTML\n",
    "from pympo import (\n",
    "    AssignManager,\n",
    "    OpSite,\n",
    "    SumOfProducts,\n",
    ")\n",
    "from radicalpy.simulation import State\n",
    "from scipy.linalg import expm\n",
    "from scipy.stats import qmc\n",
    "from sympy import Symbol\n",
    "from tqdm.auto import tqdm\n",
    "\n",
    "from pytdscf import BasInfo, Exciton, Model, Simulator, units\n",
    "from pytdscf.dvr_operator_cls import TensorOperator\n",
    "from pytdscf.hamiltonian_cls import TensorHamiltonian\n",
    "from pytdscf.util.anim_density_matrix import get_anim"
   ]
  },
  {
   "cell_type": "markdown",
   "id": "84eaac2e-bada-443f-bbdc-8a4df63f1a70",
   "metadata": {},
   "source": [
    "## Total Hamiltonian\n",
    "$$\n",
    "\\hat{H}_{\\text{total}} =\n",
    "\\hat{H}_{\\text{Z}} + \\hat{H}_{\\text{H}} + \\hat{H}_{\\text{J}} + \\hat{H}_{\\text{D}}    \n",
    "$$"
   ]
  },
  {
   "cell_type": "markdown",
   "id": "c28b08bc-2395-43ed-b8e5-ff7745df2e58",
   "metadata": {},
   "source": [
    "## Define systems"
   ]
  },
  {
   "cell_type": "markdown",
   "id": "e0829519-2f3d-4c14-8ba2-cae086e014d7",
   "metadata": {},
   "source": [
    "```py\n",
    "# You can use following block instead\n",
    "n_nuc_spins = 3 # In total, 3*2=6 nuclear spins + 2 electrons = 2^8 Hilbert space\n",
    "flavin = rp.simulation.Molecule.fromisotopes(\n",
    "    isotopes=[\"1H\"] * n_nuc_spins, hfcs=[0.4] * n_nuc_spins\n",
    ")\n",
    "Z = rp.simulation.Molecule.fromisotopes(\n",
    "    isotopes=[\"1H\"] * n_nuc_spins, hfcs=[0.5] * n_nuc_spins\n",
    ")\n",
    "sim = rp.simulation.HilbertSimulation([flavin, Z])\n",
    "\n",
    "# Parameters\n",
    "A = {} # mT\n",
    "isotropic = True\n",
    "\n",
    "# Isotropic\n",
    "for i in range(len(sim.radicals)):\n",
    "    for j, nuc in enumerate(sim.molecules[i].nuclei):\n",
    "        if isotropic:\n",
    "            A[(i, j)] = np.eye(3) * nuc.hfc.isotropic\n",
    "        else:\n",
    "            A[(i, j)] = nuc.hfc.anisotropic\n",
    "B0 = 0.2 # 2J\n",
    "B = np.array((0.0, 0.0, 1.0)) * B0 # mT\n",
    "J = 0.1 # Typically 1.0e+03 scale # mT\n",
    "\n",
    "D = 1.0 # mT\n",
    "\n",
    "if isinstance(D, float):\n",
    "    D = 2 / 3 * np.diag((-1.0, -1.0, 2.0)) * D *sim.radicals[0].gamma_mT\n",
    "sim\n",
    "```"
   ]
  },
  {
   "cell_type": "code",
   "execution_count": 4,
   "id": "47feba6a-1587-4678-9e7a-390a856200eb",
   "metadata": {},
   "outputs": [
    {
     "data": {
      "text/plain": [
       "Number of electrons: 2\n",
       "Number of nuclei: 27\n",
       "Number of particles: 29\n",
       "Multiplicities: [2, 2, 3, 3, 3, 2, 2, 2, 2, 2, 2, 2, 2, 2, 2, 2, 2, 3, 2, 3, 3, 2, 2, 2, 2, 2, 2, 2, 2]\n",
       "Magnetogyric ratios (mT): [-176085963.023, -176085963.023, 19337.792, 19337.792, 19337.792, 267522.18744, 267522.18744, 267522.18744, 267522.18744, 267522.18744, 267522.18744, 267522.18744, 267522.18744, 267522.18744, 267522.18744, 267522.18744, 267522.18744, 19337.792, 267522.18744, 19337.792, 19337.792, 267522.18744, 267522.18744, 267522.18744, 267522.18744, 267522.18744, 267522.18744, 267522.18744, 267522.18744]\n",
       "Nuclei: [14N(19337792.0, 3, 0.5141 <anisotropic available>), 14N(19337792.0, 3, -0.001275 <anisotropic available>), 14N(19337792.0, 3, -0.03654 <anisotropic available>), 1H(267522187.44, 2, 0.05075 <anisotropic available>), 1H(267522187.44, 2, -0.1371 <anisotropic available>), 1H(267522187.44, 2, -0.1371 <anisotropic available>), 1H(267522187.44, 2, -0.1371 <anisotropic available>), 1H(267522187.44, 2, -0.4403 <anisotropic available>), 1H(267522187.44, 2, 0.4546 <anisotropic available>), 1H(267522187.44, 2, 0.4546 <anisotropic available>), 1H(267522187.44, 2, 0.4546 <anisotropic available>), 1H(267522187.44, 2, 0.009597 <anisotropic available>), 1H(267522187.44, 2, 0.4263 <anisotropic available>), 1H(267522187.44, 2, 0.4233 <anisotropic available>), 1H(267522187.44, 2, -0.02004 <anisotropic available>), 14N(19337792.0, 3, 0.1784 <anisotropic available>), 1H(267522187.44, 2, 1.605 <anisotropic available>), 14N(19337792.0, 3, 0.3216 <anisotropic available>), 14N(19337792.0, 3, 0.1465 <anisotropic available>), 1H(267522187.44, 2, 0.04567 <anisotropic available>), 1H(267522187.44, 2, -0.03213 <anisotropic available>), 1H(267522187.44, 2, -0.04 <anisotropic available>), 1H(267522187.44, 2, -0.09307 <anisotropic available>), 1H(267522187.44, 2, -0.278 <anisotropic available>), 1H(267522187.44, 2, -0.3634 <anisotropic available>), 1H(267522187.44, 2, -0.4879 <anisotropic available>), 1H(267522187.44, 2, -0.5983 <anisotropic available>)]\n",
       "Couplings: [0, 0, 0, 0, 0, 0, 0, 0, 0, 0, 0, 0, 0, 0, 0, 0, 1, 1, 1, 1, 1, 1, 1, 1, 1, 1, 1]\n",
       "HFCs (mT): [0.5141 <anisotropic available>, -0.001275 <anisotropic available>, -0.03654 <anisotropic available>, 0.05075 <anisotropic available>, -0.1371 <anisotropic available>, -0.1371 <anisotropic available>, -0.1371 <anisotropic available>, -0.4403 <anisotropic available>, 0.4546 <anisotropic available>, 0.4546 <anisotropic available>, 0.4546 <anisotropic available>, 0.009597 <anisotropic available>, 0.4263 <anisotropic available>, 0.4233 <anisotropic available>, -0.02004 <anisotropic available>, 0.1784 <anisotropic available>, 1.605 <anisotropic available>, 0.3216 <anisotropic available>, 0.1465 <anisotropic available>, 0.04567 <anisotropic available>, -0.03213 <anisotropic available>, -0.04 <anisotropic available>, -0.09307 <anisotropic available>, -0.278 <anisotropic available>, -0.3634 <anisotropic available>, -0.4879 <anisotropic available>, -0.5983 <anisotropic available>]"
      ]
     },
     "execution_count": 4,
     "metadata": {},
     "output_type": "execute_result"
    }
   ],
   "source": [
    "flavin = rp.simulation.Molecule.all_nuclei(\"flavin_anion\")\n",
    "trp = rp.simulation.Molecule.all_nuclei(\"tryptophan_cation\")\n",
    "sim = rp.simulation.HilbertSimulation([flavin, trp])\n",
    "A = {}\n",
    "isotropic = False\n",
    "\n",
    "# Isotropic\n",
    "for i in range(len(sim.radicals)):\n",
    "    for j, nuc in enumerate(sim.molecules[i].nuclei):\n",
    "        if isotropic:\n",
    "            A[(i, j)] = np.eye(3) * nuc.hfc.isotropic\n",
    "        else:\n",
    "            A[(i, j)] = nuc.hfc.anisotropic\n",
    "B0 = 3.0  # Typically 0.01 mT~10 mT\n",
    "B = np.array((0.0, 0.0, 1.0)) * B0\n",
    "J = 0.1  # Typically 1.0e+03 scale\n",
    "\n",
    "D = (\n",
    "    np.array(\n",
    "        [[-0.225, 0.156, 0.198], [0.156, 0.117, -0.082], [0.198, -0.082, 0.107]]\n",
    "    )\n",
    "    * sim.radicals[0].gamma_mT\n",
    ")\n",
    "# k = 1.0e-06 # Exponential model in s-1\n",
    "if isinstance(D, float):\n",
    "    D = 2 / 3 * np.diag((-1.0, -1.0, 2.0)) * D * sim.radicals[0].gamma_mT\n",
    "\n",
    "sim"
   ]
  },
  {
   "cell_type": "markdown",
   "id": "fce6dc6c-5756-4207-b54d-c3c338d6b908",
   "metadata": {},
   "source": [
    "Now, one defines matrix product state (MPS) in the following order\n",
    "\n",
    "(nuclei in `flavin`) $\\to$ (electronic states $\\{|T_{+}\\rangle, |T_{0}\\rangle, |S\\rangle, |T_{-}\\rangle\\}$) $\\to$ (neclei in `Z`)"
   ]
  },
  {
   "cell_type": "markdown",
   "id": "6350e7ad-e801-4fdd-9a2d-0cee73b3b549",
   "metadata": {},
   "source": [
    "## Extract one particle operator\n",
    "\n",
    "RadicalPy provides variety of spin operators such as \n",
    "\n",
    "- $\\hat{s}_x, \\hat{s}_y, \\hat{s}_z$ for radical singlet-triplet basis\n",
    "- $\\hat{I}_x, \\hat{I}_y, \\hat{I}_z$ for nuclear Zeeman basis"
   ]
  },
  {
   "cell_type": "code",
   "execution_count": 5,
   "id": "a79a6209-e62c-4a58-beec-8d6f281f100b",
   "metadata": {},
   "outputs": [
    {
     "data": {
      "image/png": "[encoded data removed]",
      "text/plain": [
       "<Figure size 640x480 with 2 Axes>"
      ]
     },
     "metadata": {},
     "output_type": "display_data"
    }
   ],
   "source": [
    "# Clear nuclei temporally\n",
    "_nuclei_tmp0 = sim.molecules[0].nuclei\n",
    "_nuclei_tmp1 = sim.molecules[1].nuclei\n",
    "sim.molecules[0].nuclei = []\n",
    "sim.molecules[1].nuclei = []\n",
    "\n",
    "# for Singlet-Triplet basis\n",
    "sx_1 = sim.spin_operator(0, \"x\")\n",
    "sy_1 = sim.spin_operator(0, \"y\").imag  # <== Caution!\n",
    "sz_1 = sim.spin_operator(0, \"z\")\n",
    "sx_2 = sim.spin_operator(1, \"x\")\n",
    "sy_2 = sim.spin_operator(1, \"y\").imag  # <== Caution!\n",
    "sz_2 = sim.spin_operator(1, \"z\")\n",
    "\n",
    "# Revert nuclei\n",
    "sim.molecules[0].nuclei = _nuclei_tmp0\n",
    "sim.molecules[1].nuclei = _nuclei_tmp1\n",
    "\n",
    "plt.imshow(\n",
    "    2 * (sx_1 @ sx_2 - sy_1 @ sy_2 + sz_1 @ sz_2).real\n",
    "    + 0.5 * np.eye(*sx_1.shape),\n",
    "    cmap=\"bwr\",\n",
    "    vmin=-1.0,\n",
    "    vmax=1.0,\n",
    ")\n",
    "plt.title(\n",
    "    r\"$2\\hat{S}_1\\cdot \\hat{S}_2 + \\frac{1}{2}\\hat{E}$ (Singlet Triplet basis)\"\n",
    ")\n",
    "plt.colorbar()\n",
    "plt.xticks(\n",
    "    [0, 1, 2, 3],\n",
    "    [r\"$|T_+\\rangle$\", r\"$|T_0\\rangle$\", r\"$|S\\rangle$\", r\"$|T_-\\rangle$\"],\n",
    ")\n",
    "plt.yticks(\n",
    "    [0, 1, 2, 3],\n",
    "    [\n",
    "        r\"$\\langle T_+|$\",\n",
    "        r\"$\\langle T_0 |$\",\n",
    "        r\"$\\langle S|$\",\n",
    "        r\"$\\langle T_- |$\",\n",
    "    ],\n",
    ")\n",
    "plt.show()"
   ]
  },
  {
   "cell_type": "markdown",
   "id": "ecf9d838-e0d2-4b7f-ac39-f42171907395",
   "metadata": {},
   "source": [
    "## Define `OpSite` and coefficients\n",
    "\n",
    "- RadicalPy uses Hz in energy unit but it is too large to keep numerical stabiltiy\n",
    "- Thus, one will use GHz in energy unit\n",
    "- For some reasons, extraction of imaginary unit of pauli y operator leads stable simulation for degenerate system (why??)"
   ]
  },
  {
   "cell_type": "code",
   "execution_count": 6,
   "id": "7589a1fc-8192-4178-859d-df868692e1a5",
   "metadata": {},
   "outputs": [],
   "source": [
    "SCALE = 1.0e-09\n",
    "gamma = [p.gamma_mT for p in sim.particles]\n",
    "\n",
    "g_ele_sym = [\n",
    "    Symbol(r\"\\gamma_e^{(\" + f\"{i + 1}\" + \")}\") for i in range(len(sim.radicals))\n",
    "]\n",
    "g_nuc_sym = {}\n",
    "for i in range(len(sim.radicals)):\n",
    "    for j in range(len(sim.molecules[i].nuclei)):\n",
    "        g_nuc_sym[(i, j)] = Symbol(r\"\\gamma_n^{\" + f\"{(i + 1, j + 1)}\" + \"}\")\n",
    "\n",
    "subs = {}\n",
    "for i, ge in enumerate(g_ele_sym):\n",
    "    subs[ge] = sim.radicals[i].gamma_mT\n",
    "for (i, j), gn in g_nuc_sym.items():\n",
    "    subs[gn] = sim.molecules[i].nuclei[j].gamma_mT"
   ]
  },
  {
   "cell_type": "markdown",
   "id": "83a89c40-3258-4315-b5c5-333b5e851171",
   "metadata": {},
   "source": [
    "Define radical spin operators"
   ]
  },
  {
   "cell_type": "code",
   "execution_count": 7,
   "id": "c4682c79-fc37-4e35-b171-7397d3ab03c7",
   "metadata": {},
   "outputs": [],
   "source": [
    "ele_site = len(sim.molecules[0].nuclei)\n",
    "\n",
    "Sx_ops = []\n",
    "Sy_ops = []\n",
    "Sz_ops = []\n",
    "\n",
    "S1S2_op = OpSite(\n",
    "    r\"\\hat{S}_1\\cdot\\hat{S}_2\",\n",
    "    ele_site,\n",
    "    value=(sx_1 @ sx_2 - sy_1 @ sy_2 + sz_1 @ sz_2).real,\n",
    ")\n",
    "E_op = OpSite(r\"\\hat{E}\", ele_site, value=np.eye(*sx_1.shape))\n",
    "\n",
    "Sx_ops.append(OpSite(r\"\\hat{S}_x^{(1)}\", ele_site, value=sx_1))\n",
    "Sy_ops.append(OpSite(r\"\\hat{S}_y^{(1)}\", ele_site, value=sy_1))\n",
    "Sz_ops.append(OpSite(r\"\\hat{S}_z^{(1)}\", ele_site, value=sz_1))\n",
    "Sx_ops.append(OpSite(r\"\\hat{S}_x^{(2)}\", ele_site, value=sx_2))\n",
    "Sy_ops.append(OpSite(r\"\\hat{S}_y^{(2)}\", ele_site, value=sy_2))\n",
    "Sz_ops.append(OpSite(r\"\\hat{S}_z^{(2)}\", ele_site, value=sz_2))\n",
    "\n",
    "Sr_ops = [Sx_ops, Sy_ops, Sz_ops]"
   ]
  },
  {
   "cell_type": "markdown",
   "id": "b7925d67-965d-446c-8edb-4827117d38db",
   "metadata": {},
   "source": [
    "Define nuclear spin operators"
   ]
  },
  {
   "cell_type": "code",
   "execution_count": 8,
   "id": "d6792f47-10e2-4119-bdbc-5265b39a5b44",
   "metadata": {},
   "outputs": [],
   "source": [
    "Ix_ops = {}\n",
    "Iy_ops = {}\n",
    "Iz_ops = {}\n",
    "\n",
    "for j, nuc in enumerate(sim.molecules[0].nuclei):\n",
    "    Ix_ops[(0, j)] = OpSite(\n",
    "        r\"\\hat{I}_x^{\" + f\"{(1, j + 1)}\" + \"}\", j, value=nuc.pauli[\"x\"]\n",
    "    )\n",
    "    Iy_ops[(0, j)] = OpSite(\n",
    "        r\"\\hat{I}_y^{\" + f\"{(1, j + 1)}\" + \"}\", j, value=nuc.pauli[\"y\"].imag\n",
    "    )\n",
    "    Iz_ops[(0, j)] = OpSite(\n",
    "        r\"\\hat{I}_z^{\" + f\"{(1, j + 1)}\" + \"}\", j, value=nuc.pauli[\"z\"]\n",
    "    )\n",
    "\n",
    "for j, nuc in enumerate(sim.molecules[1].nuclei):\n",
    "    Ix_ops[(1, j)] = OpSite(\n",
    "        r\"\\hat{I}_x^{\" + f\"{(2, j + 1)}\" + \"}\",\n",
    "        ele_site + 1 + j,\n",
    "        value=nuc.pauli[\"x\"],\n",
    "    )\n",
    "    Iy_ops[(1, j)] = OpSite(\n",
    "        r\"\\hat{I}_y^{\" + f\"{(2, j + 1)}\" + \"}\",\n",
    "        ele_site + 1 + j,\n",
    "        value=nuc.pauli[\"y\"].imag,\n",
    "    )\n",
    "    Iz_ops[(1, j)] = OpSite(\n",
    "        r\"\\hat{I}_z^{\" + f\"{(2, j + 1)}\" + \"}\",\n",
    "        ele_site + 1 + j,\n",
    "        value=nuc.pauli[\"z\"],\n",
    "    )\n",
    "\n",
    "Ir_ops = [Ix_ops, Iy_ops, Iz_ops]"
   ]
  },
  {
   "cell_type": "markdown",
   "id": "ff2c4f7d-35e6-4014-beed-85206ce06f82",
   "metadata": {},
   "source": [
    "## Hyperfine coupling Hamiltonian\n",
    "$$\n",
    "\\hat{H}_{\\text{H}} = \\sum_i \\sum_j \\hat{S}_i\\cdot A_{ij}\\cdot \\hat{I}_{ij}\n",
    "= \\sum_i \\sum_j \\sum_{r\\in\\{x, y, z\\}} A_{ij}\\hat{S}_{r}^{(i)}\\hat{I}_{r}^{(ij)}\n",
    "$$"
   ]
  },
  {
   "cell_type": "code",
   "execution_count": 9,
   "id": "7d6a0cc4-3412-4623-ac70-9115b65e0309",
   "metadata": {},
   "outputs": [],
   "source": [
    "hyperfine = SumOfProducts()\n",
    "\n",
    "xyz = \"xyz\"\n",
    "\n",
    "for i in range(len(sim.radicals)):\n",
    "    for j in range(len(sim.molecules[i].nuclei)):\n",
    "        for k, Sr_op in enumerate(Sr_ops):\n",
    "            for l, Ir_op in enumerate(Ir_ops):\n",
    "                if A[(i, j)][k, l] == 0.0:\n",
    "                    continue\n",
    "                Asym = Symbol(\n",
    "                    \"A^{\"\n",
    "                    + f\"{(i + 1, j + 1)}\"\n",
    "                    + \"}_{\"\n",
    "                    + f\"{xyz[k]}\"\n",
    "                    + f\"{xyz[l]}\"\n",
    "                    + \"}\"\n",
    "                )\n",
    "                subs[Asym] = A[(i, j)][k, l].item() * SCALE\n",
    "                if k == l == 1:\n",
    "                    hyperfine -= Asym * g_ele_sym[i] * Sr_op[i] * Ir_op[(i, j)]\n",
    "                elif k != 1 and l != 1:\n",
    "                    hyperfine += Asym * g_ele_sym[i] * Sr_op[i] * Ir_op[(i, j)]\n",
    "                else:\n",
    "                    hyperfine += (\n",
    "                        1.0j * Asym * g_ele_sym[i] * Sr_op[i] * Ir_op[(i, j)]\n",
    "                    )"
   ]
  },
  {
   "cell_type": "code",
   "execution_count": 10,
   "id": "60929528-d031-4dd7-aec9-37f4196bd3bf",
   "metadata": {},
   "outputs": [
    {
     "data": {
      "text/latex": [
       "$\\displaystyle A^{(1, 1)}_{xx} \\gamma_e^{(1)} \\hat{I}_x^{(1, 1)} \\hat{S}_x^{(1)} + 1.0 i A^{(1, 1)}_{xy} \\gamma_e^{(1)} \\hat{I}_y^{(1, 1)} \\hat{S}_x^{(1)} + A^{(1, 1)}_{xz} \\gamma_e^{(1)} \\hat{I}_z^{(1, 1)} \\hat{S}_x^{(1)} + 1.0 i A^{(1, 1)}_{yx} \\gamma_e^{(1)} \\hat{I}_x^{(1, 1)} \\hat{S}_y^{(1)} - A^{(1, 1)}_{yy} \\gamma_e^{(1)} \\hat{I}_y^{(1, 1)} \\hat{S}_y^{(1)} + 1.0 i A^{(1, 1)}_{yz} \\gamma_e^{(1)} \\hat{I}_z^{(1, 1)} \\hat{S}_y^{(1)} + A^{(1, 1)}_{zx} \\gamma_e^{(1)} \\hat{I}_x^{(1, 1)} \\hat{S}_z^{(1)} + 1.0 i A^{(1, 1)}_{zy} \\gamma_e^{(1)} \\hat{I}_y^{(1, 1)} \\hat{S}_z^{(1)} + A^{(1, 1)}_{zz} \\gamma_e^{(1)} \\hat{I}_z^{(1, 1)} \\hat{S}_z^{(1)} + A^{(1, 10)}_{xx} \\gamma_e^{(1)} \\hat{I}_x^{(1, 10)} \\hat{S}_x^{(1)} + 1.0 i A^{(1, 10)}_{xy} \\gamma_e^{(1)} \\hat{I}_y^{(1, 10)} \\hat{S}_x^{(1)} + A^{(1, 10)}_{xz} \\gamma_e^{(1)} \\hat{I}_z^{(1, 10)} \\hat{S}_x^{(1)} + 1.0 i A^{(1, 10)}_{yx} \\gamma_e^{(1)} \\hat{I}_x^{(1, 10)} \\hat{S}_y^{(1)} - A^{(1, 10)}_{yy} \\gamma_e^{(1)} \\hat{I}_y^{(1, 10)} \\hat{S}_y^{(1)} + 1.0 i A^{(1, 10)}_{yz} \\gamma_e^{(1)} \\hat{I}_z^{(1, 10)} \\hat{S}_y^{(1)} + A^{(1, 10)}_{zx} \\gamma_e^{(1)} \\hat{I}_x^{(1, 10)} \\hat{S}_z^{(1)} + 1.0 i A^{(1, 10)}_{zy} \\gamma_e^{(1)} \\hat{I}_y^{(1, 10)} \\hat{S}_z^{(1)} + A^{(1, 10)}_{zz} \\gamma_e^{(1)} \\hat{I}_z^{(1, 10)} \\hat{S}_z^{(1)} + A^{(1, 11)}_{xx} \\gamma_e^{(1)} \\hat{I}_x^{(1, 11)} \\hat{S}_x^{(1)} + 1.0 i A^{(1, 11)}_{xy} \\gamma_e^{(1)} \\hat{I}_y^{(1, 11)} \\hat{S}_x^{(1)} + A^{(1, 11)}_{xz} \\gamma_e^{(1)} \\hat{I}_z^{(1, 11)} \\hat{S}_x^{(1)} + 1.0 i A^{(1, 11)}_{yx} \\gamma_e^{(1)} \\hat{I}_x^{(1, 11)} \\hat{S}_y^{(1)} - A^{(1, 11)}_{yy} \\gamma_e^{(1)} \\hat{I}_y^{(1, 11)} \\hat{S}_y^{(1)} + 1.0 i A^{(1, 11)}_{yz} \\gamma_e^{(1)} \\hat{I}_z^{(1, 11)} \\hat{S}_y^{(1)} + A^{(1, 11)}_{zx} \\gamma_e^{(1)} \\hat{I}_x^{(1, 11)} \\hat{S}_z^{(1)} + 1.0 i A^{(1, 11)}_{zy} \\gamma_e^{(1)} \\hat{I}_y^{(1, 11)} \\hat{S}_z^{(1)} + A^{(1, 11)}_{zz} \\gamma_e^{(1)} \\hat{I}_z^{(1, 11)} \\hat{S}_z^{(1)} + A^{(1, 12)}_{xx} \\gamma_e^{(1)} \\hat{I}_x^{(1, 12)} \\hat{S}_x^{(1)} + 1.0 i A^{(1, 12)}_{xy} \\gamma_e^{(1)} \\hat{I}_y^{(1, 12)} \\hat{S}_x^{(1)} + A^{(1, 12)}_{xz} \\gamma_e^{(1)} \\hat{I}_z^{(1, 12)} \\hat{S}_x^{(1)} + 1.0 i A^{(1, 12)}_{yx} \\gamma_e^{(1)} \\hat{I}_x^{(1, 12)} \\hat{S}_y^{(1)} - A^{(1, 12)}_{yy} \\gamma_e^{(1)} \\hat{I}_y^{(1, 12)} \\hat{S}_y^{(1)} + 1.0 i A^{(1, 12)}_{yz} \\gamma_e^{(1)} \\hat{I}_z^{(1, 12)} \\hat{S}_y^{(1)} + A^{(1, 12)}_{zx} \\gamma_e^{(1)} \\hat{I}_x^{(1, 12)} \\hat{S}_z^{(1)} + 1.0 i A^{(1, 12)}_{zy} \\gamma_e^{(1)} \\hat{I}_y^{(1, 12)} \\hat{S}_z^{(1)} + A^{(1, 12)}_{zz} \\gamma_e^{(1)} \\hat{I}_z^{(1, 12)} \\hat{S}_z^{(1)} + A^{(1, 13)}_{xx} \\gamma_e^{(1)} \\hat{I}_x^{(1, 13)} \\hat{S}_x^{(1)} + 1.0 i A^{(1, 13)}_{xy} \\gamma_e^{(1)} \\hat{I}_y^{(1, 13)} \\hat{S}_x^{(1)} + A^{(1, 13)}_{xz} \\gamma_e^{(1)} \\hat{I}_z^{(1, 13)} \\hat{S}_x^{(1)} + 1.0 i A^{(1, 13)}_{yx} \\gamma_e^{(1)} \\hat{I}_x^{(1, 13)} \\hat{S}_y^{(1)} - A^{(1, 13)}_{yy} \\gamma_e^{(1)} \\hat{I}_y^{(1, 13)} \\hat{S}_y^{(1)} + 1.0 i A^{(1, 13)}_{yz} \\gamma_e^{(1)} \\hat{I}_z^{(1, 13)} \\hat{S}_y^{(1)} + A^{(1, 13)}_{zx} \\gamma_e^{(1)} \\hat{I}_x^{(1, 13)} \\hat{S}_z^{(1)} + 1.0 i A^{(1, 13)}_{zy} \\gamma_e^{(1)} \\hat{I}_y^{(1, 13)} \\hat{S}_z^{(1)} + A^{(1, 13)}_{zz} \\gamma_e^{(1)} \\hat{I}_z^{(1, 13)} \\hat{S}_z^{(1)} + A^{(1, 14)}_{xx} \\gamma_e^{(1)} \\hat{I}_x^{(1, 14)} \\hat{S}_x^{(1)} + 1.0 i A^{(1, 14)}_{xy} \\gamma_e^{(1)} \\hat{I}_y^{(1, 14)} \\hat{S}_x^{(1)} + A^{(1, 14)}_{xz} \\gamma_e^{(1)} \\hat{I}_z^{(1, 14)} \\hat{S}_x^{(1)} + 1.0 i A^{(1, 14)}_{yx} \\gamma_e^{(1)} \\hat{I}_x^{(1, 14)} \\hat{S}_y^{(1)} - A^{(1, 14)}_{yy} \\gamma_e^{(1)} \\hat{I}_y^{(1, 14)} \\hat{S}_y^{(1)} + 1.0 i A^{(1, 14)}_{yz} \\gamma_e^{(1)} \\hat{I}_z^{(1, 14)} \\hat{S}_y^{(1)} + A^{(1, 14)}_{zx} \\gamma_e^{(1)} \\hat{I}_x^{(1, 14)} \\hat{S}_z^{(1)} + 1.0 i A^{(1, 14)}_{zy} \\gamma_e^{(1)} \\hat{I}_y^{(1, 14)} \\hat{S}_z^{(1)} + A^{(1, 14)}_{zz} \\gamma_e^{(1)} \\hat{I}_z^{(1, 14)} \\hat{S}_z^{(1)} + A^{(1, 15)}_{xx} \\gamma_e^{(1)} \\hat{I}_x^{(1, 15)} \\hat{S}_x^{(1)} + 1.0 i A^{(1, 15)}_{xy} \\gamma_e^{(1)} \\hat{I}_y^{(1, 15)} \\hat{S}_x^{(1)} + A^{(1, 15)}_{xz} \\gamma_e^{(1)} \\hat{I}_z^{(1, 15)} \\hat{S}_x^{(1)} + 1.0 i A^{(1, 15)}_{yx} \\gamma_e^{(1)} \\hat{I}_x^{(1, 15)} \\hat{S}_y^{(1)} - A^{(1, 15)}_{yy} \\gamma_e^{(1)} \\hat{I}_y^{(1, 15)} \\hat{S}_y^{(1)} + 1.0 i A^{(1, 15)}_{yz} \\gamma_e^{(1)} \\hat{I}_z^{(1, 15)} \\hat{S}_y^{(1)} + A^{(1, 15)}_{zx} \\gamma_e^{(1)} \\hat{I}_x^{(1, 15)} \\hat{S}_z^{(1)} + 1.0 i A^{(1, 15)}_{zy} \\gamma_e^{(1)} \\hat{I}_y^{(1, 15)} \\hat{S}_z^{(1)} + A^{(1, 15)}_{zz} \\gamma_e^{(1)} \\hat{I}_z^{(1, 15)} \\hat{S}_z^{(1)} + A^{(1, 16)}_{xx} \\gamma_e^{(1)} \\hat{I}_x^{(1, 16)} \\hat{S}_x^{(1)} + 1.0 i A^{(1, 16)}_{xy} \\gamma_e^{(1)} \\hat{I}_y^{(1, 16)} \\hat{S}_x^{(1)} + A^{(1, 16)}_{xz} \\gamma_e^{(1)} \\hat{I}_z^{(1, 16)} \\hat{S}_x^{(1)} + 1.0 i A^{(1, 16)}_{yx} \\gamma_e^{(1)} \\hat{I}_x^{(1, 16)} \\hat{S}_y^{(1)} - A^{(1, 16)}_{yy} \\gamma_e^{(1)} \\hat{I}_y^{(1, 16)} \\hat{S}_y^{(1)} + 1.0 i A^{(1, 16)}_{yz} \\gamma_e^{(1)} \\hat{I}_z^{(1, 16)} \\hat{S}_y^{(1)} + A^{(1, 16)}_{zx} \\gamma_e^{(1)} \\hat{I}_x^{(1, 16)} \\hat{S}_z^{(1)} + 1.0 i A^{(1, 16)}_{zy} \\gamma_e^{(1)} \\hat{I}_y^{(1, 16)} \\hat{S}_z^{(1)} + A^{(1, 16)}_{zz} \\gamma_e^{(1)} \\hat{I}_z^{(1, 16)} \\hat{S}_z^{(1)} + A^{(1, 2)}_{xx} \\gamma_e^{(1)} \\hat{I}_x^{(1, 2)} \\hat{S}_x^{(1)} + 1.0 i A^{(1, 2)}_{xy} \\gamma_e^{(1)} \\hat{I}_y^{(1, 2)} \\hat{S}_x^{(1)} + A^{(1, 2)}_{xz} \\gamma_e^{(1)} \\hat{I}_z^{(1, 2)} \\hat{S}_x^{(1)} + 1.0 i A^{(1, 2)}_{yx} \\gamma_e^{(1)} \\hat{I}_x^{(1, 2)} \\hat{S}_y^{(1)} - A^{(1, 2)}_{yy} \\gamma_e^{(1)} \\hat{I}_y^{(1, 2)} \\hat{S}_y^{(1)} + 1.0 i A^{(1, 2)}_{yz} \\gamma_e^{(1)} \\hat{I}_z^{(1, 2)} \\hat{S}_y^{(1)} + A^{(1, 2)}_{zx} \\gamma_e^{(1)} \\hat{I}_x^{(1, 2)} \\hat{S}_z^{(1)} + 1.0 i A^{(1, 2)}_{zy} \\gamma_e^{(1)} \\hat{I}_y^{(1, 2)} \\hat{S}_z^{(1)} + A^{(1, 2)}_{zz} \\gamma_e^{(1)} \\hat{I}_z^{(1, 2)} \\hat{S}_z^{(1)} + A^{(1, 3)}_{xx} \\gamma_e^{(1)} \\hat{I}_x^{(1, 3)} \\hat{S}_x^{(1)} + 1.0 i A^{(1, 3)}_{xy} \\gamma_e^{(1)} \\hat{I}_y^{(1, 3)} \\hat{S}_x^{(1)} + A^{(1, 3)}_{xz} \\gamma_e^{(1)} \\hat{I}_z^{(1, 3)} \\hat{S}_x^{(1)} + 1.0 i A^{(1, 3)}_{yx} \\gamma_e^{(1)} \\hat{I}_x^{(1, 3)} \\hat{S}_y^{(1)} - A^{(1, 3)}_{yy} \\gamma_e^{(1)} \\hat{I}_y^{(1, 3)} \\hat{S}_y^{(1)} + 1.0 i A^{(1, 3)}_{yz} \\gamma_e^{(1)} \\hat{I}_z^{(1, 3)} \\hat{S}_y^{(1)} + A^{(1, 3)}_{zx} \\gamma_e^{(1)} \\hat{I}_x^{(1, 3)} \\hat{S}_z^{(1)} + 1.0 i A^{(1, 3)}_{zy} \\gamma_e^{(1)} \\hat{I}_y^{(1, 3)} \\hat{S}_z^{(1)} + A^{(1, 3)}_{zz} \\gamma_e^{(1)} \\hat{I}_z^{(1, 3)} \\hat{S}_z^{(1)} + A^{(1, 4)}_{xx} \\gamma_e^{(1)} \\hat{I}_x^{(1, 4)} \\hat{S}_x^{(1)} + 1.0 i A^{(1, 4)}_{xy} \\gamma_e^{(1)} \\hat{I}_y^{(1, 4)} \\hat{S}_x^{(1)} + A^{(1, 4)}_{xz} \\gamma_e^{(1)} \\hat{I}_z^{(1, 4)} \\hat{S}_x^{(1)} + 1.0 i A^{(1, 4)}_{yx} \\gamma_e^{(1)} \\hat{I}_x^{(1, 4)} \\hat{S}_y^{(1)} - A^{(1, 4)}_{yy} \\gamma_e^{(1)} \\hat{I}_y^{(1, 4)} \\hat{S}_y^{(1)} + 1.0 i A^{(1, 4)}_{yz} \\gamma_e^{(1)} \\hat{I}_z^{(1, 4)} \\hat{S}_y^{(1)} + A^{(1, 4)}_{zx} \\gamma_e^{(1)} \\hat{I}_x^{(1, 4)} \\hat{S}_z^{(1)} + 1.0 i A^{(1, 4)}_{zy} \\gamma_e^{(1)} \\hat{I}_y^{(1, 4)} \\hat{S}_z^{(1)} + A^{(1, 4)}_{zz} \\gamma_e^{(1)} \\hat{I}_z^{(1, 4)} \\hat{S}_z^{(1)} + A^{(1, 5)}_{xx} \\gamma_e^{(1)} \\hat{I}_x^{(1, 5)} \\hat{S}_x^{(1)} + 1.0 i A^{(1, 5)}_{xy} \\gamma_e^{(1)} \\hat{I}_y^{(1, 5)} \\hat{S}_x^{(1)} + A^{(1, 5)}_{xz} \\gamma_e^{(1)} \\hat{I}_z^{(1, 5)} \\hat{S}_x^{(1)} + 1.0 i A^{(1, 5)}_{yx} \\gamma_e^{(1)} \\hat{I}_x^{(1, 5)} \\hat{S}_y^{(1)} - A^{(1, 5)}_{yy} \\gamma_e^{(1)} \\hat{I}_y^{(1, 5)} \\hat{S}_y^{(1)} + 1.0 i A^{(1, 5)}_{yz} \\gamma_e^{(1)} \\hat{I}_z^{(1, 5)} \\hat{S}_y^{(1)} + A^{(1, 5)}_{zx} \\gamma_e^{(1)} \\hat{I}_x^{(1, 5)} \\hat{S}_z^{(1)} + 1.0 i A^{(1, 5)}_{zy} \\gamma_e^{(1)} \\hat{I}_y^{(1, 5)} \\hat{S}_z^{(1)} + A^{(1, 5)}_{zz} \\gamma_e^{(1)} \\hat{I}_z^{(1, 5)} \\hat{S}_z^{(1)} + A^{(1, 6)}_{xx} \\gamma_e^{(1)} \\hat{I}_x^{(1, 6)} \\hat{S}_x^{(1)} + 1.0 i A^{(1, 6)}_{xy} \\gamma_e^{(1)} \\hat{I}_y^{(1, 6)} \\hat{S}_x^{(1)} + A^{(1, 6)}_{xz} \\gamma_e^{(1)} \\hat{I}_z^{(1, 6)} \\hat{S}_x^{(1)} + 1.0 i A^{(1, 6)}_{yx} \\gamma_e^{(1)} \\hat{I}_x^{(1, 6)} \\hat{S}_y^{(1)} - A^{(1, 6)}_{yy} \\gamma_e^{(1)} \\hat{I}_y^{(1, 6)} \\hat{S}_y^{(1)} + 1.0 i A^{(1, 6)}_{yz} \\gamma_e^{(1)} \\hat{I}_z^{(1, 6)} \\hat{S}_y^{(1)} + A^{(1, 6)}_{zx} \\gamma_e^{(1)} \\hat{I}_x^{(1, 6)} \\hat{S}_z^{(1)} + 1.0 i A^{(1, 6)}_{zy} \\gamma_e^{(1)} \\hat{I}_y^{(1, 6)} \\hat{S}_z^{(1)} + A^{(1, 6)}_{zz} \\gamma_e^{(1)} \\hat{I}_z^{(1, 6)} \\hat{S}_z^{(1)} + A^{(1, 7)}_{xx} \\gamma_e^{(1)} \\hat{I}_x^{(1, 7)} \\hat{S}_x^{(1)} + 1.0 i A^{(1, 7)}_{xy} \\gamma_e^{(1)} \\hat{I}_y^{(1, 7)} \\hat{S}_x^{(1)} + A^{(1, 7)}_{xz} \\gamma_e^{(1)} \\hat{I}_z^{(1, 7)} \\hat{S}_x^{(1)} + 1.0 i A^{(1, 7)}_{yx} \\gamma_e^{(1)} \\hat{I}_x^{(1, 7)} \\hat{S}_y^{(1)} - A^{(1, 7)}_{yy} \\gamma_e^{(1)} \\hat{I}_y^{(1, 7)} \\hat{S}_y^{(1)} + 1.0 i A^{(1, 7)}_{yz} \\gamma_e^{(1)} \\hat{I}_z^{(1, 7)} \\hat{S}_y^{(1)} + A^{(1, 7)}_{zx} \\gamma_e^{(1)} \\hat{I}_x^{(1, 7)} \\hat{S}_z^{(1)} + 1.0 i A^{(1, 7)}_{zy} \\gamma_e^{(1)} \\hat{I}_y^{(1, 7)} \\hat{S}_z^{(1)} + A^{(1, 7)}_{zz} \\gamma_e^{(1)} \\hat{I}_z^{(1, 7)} \\hat{S}_z^{(1)} + A^{(1, 8)}_{xx} \\gamma_e^{(1)} \\hat{I}_x^{(1, 8)} \\hat{S}_x^{(1)} + 1.0 i A^{(1, 8)}_{xy} \\gamma_e^{(1)} \\hat{I}_y^{(1, 8)} \\hat{S}_x^{(1)} + A^{(1, 8)}_{xz} \\gamma_e^{(1)} \\hat{I}_z^{(1, 8)} \\hat{S}_x^{(1)} + 1.0 i A^{(1, 8)}_{yx} \\gamma_e^{(1)} \\hat{I}_x^{(1, 8)} \\hat{S}_y^{(1)} - A^{(1, 8)}_{yy} \\gamma_e^{(1)} \\hat{I}_y^{(1, 8)} \\hat{S}_y^{(1)} + 1.0 i A^{(1, 8)}_{yz} \\gamma_e^{(1)} \\hat{I}_z^{(1, 8)} \\hat{S}_y^{(1)} + A^{(1, 8)}_{zx} \\gamma_e^{(1)} \\hat{I}_x^{(1, 8)} \\hat{S}_z^{(1)} + 1.0 i A^{(1, 8)}_{zy} \\gamma_e^{(1)} \\hat{I}_y^{(1, 8)} \\hat{S}_z^{(1)} + A^{(1, 8)}_{zz} \\gamma_e^{(1)} \\hat{I}_z^{(1, 8)} \\hat{S}_z^{(1)} + A^{(1, 9)}_{xx} \\gamma_e^{(1)} \\hat{I}_x^{(1, 9)} \\hat{S}_x^{(1)} + 1.0 i A^{(1, 9)}_{xy} \\gamma_e^{(1)} \\hat{I}_y^{(1, 9)} \\hat{S}_x^{(1)} + A^{(1, 9)}_{xz} \\gamma_e^{(1)} \\hat{I}_z^{(1, 9)} \\hat{S}_x^{(1)} + 1.0 i A^{(1, 9)}_{yx} \\gamma_e^{(1)} \\hat{I}_x^{(1, 9)} \\hat{S}_y^{(1)} - A^{(1, 9)}_{yy} \\gamma_e^{(1)} \\hat{I}_y^{(1, 9)} \\hat{S}_y^{(1)} + 1.0 i A^{(1, 9)}_{yz} \\gamma_e^{(1)} \\hat{I}_z^{(1, 9)} \\hat{S}_y^{(1)} + A^{(1, 9)}_{zx} \\gamma_e^{(1)} \\hat{I}_x^{(1, 9)} \\hat{S}_z^{(1)} + 1.0 i A^{(1, 9)}_{zy} \\gamma_e^{(1)} \\hat{I}_y^{(1, 9)} \\hat{S}_z^{(1)} + A^{(1, 9)}_{zz} \\gamma_e^{(1)} \\hat{I}_z^{(1, 9)} \\hat{S}_z^{(1)} + A^{(2, 1)}_{xx} \\gamma_e^{(2)} \\hat{S}_x^{(2)} \\hat{I}_x^{(2, 1)} + 1.0 i A^{(2, 1)}_{xy} \\gamma_e^{(2)} \\hat{S}_x^{(2)} \\hat{I}_y^{(2, 1)} + A^{(2, 1)}_{xz} \\gamma_e^{(2)} \\hat{S}_x^{(2)} \\hat{I}_z^{(2, 1)} + 1.0 i A^{(2, 1)}_{yx} \\gamma_e^{(2)} \\hat{S}_y^{(2)} \\hat{I}_x^{(2, 1)} - A^{(2, 1)}_{yy} \\gamma_e^{(2)} \\hat{S}_y^{(2)} \\hat{I}_y^{(2, 1)} + 1.0 i A^{(2, 1)}_{yz} \\gamma_e^{(2)} \\hat{S}_y^{(2)} \\hat{I}_z^{(2, 1)} + A^{(2, 1)}_{zx} \\gamma_e^{(2)} \\hat{S}_z^{(2)} \\hat{I}_x^{(2, 1)} + 1.0 i A^{(2, 1)}_{zy} \\gamma_e^{(2)} \\hat{S}_z^{(2)} \\hat{I}_y^{(2, 1)} + A^{(2, 1)}_{zz} \\gamma_e^{(2)} \\hat{S}_z^{(2)} \\hat{I}_z^{(2, 1)} + A^{(2, 10)}_{xx} \\gamma_e^{(2)} \\hat{S}_x^{(2)} \\hat{I}_x^{(2, 10)} + 1.0 i A^{(2, 10)}_{xy} \\gamma_e^{(2)} \\hat{S}_x^{(2)} \\hat{I}_y^{(2, 10)} + A^{(2, 10)}_{xz} \\gamma_e^{(2)} \\hat{S}_x^{(2)} \\hat{I}_z^{(2, 10)} + 1.0 i A^{(2, 10)}_{yx} \\gamma_e^{(2)} \\hat{S}_y^{(2)} \\hat{I}_x^{(2, 10)} - A^{(2, 10)}_{yy} \\gamma_e^{(2)} \\hat{S}_y^{(2)} \\hat{I}_y^{(2, 10)} + 1.0 i A^{(2, 10)}_{yz} \\gamma_e^{(2)} \\hat{S}_y^{(2)} \\hat{I}_z^{(2, 10)} + A^{(2, 10)}_{zx} \\gamma_e^{(2)} \\hat{S}_z^{(2)} \\hat{I}_x^{(2, 10)} + 1.0 i A^{(2, 10)}_{zy} \\gamma_e^{(2)} \\hat{S}_z^{(2)} \\hat{I}_y^{(2, 10)} + A^{(2, 10)}_{zz} \\gamma_e^{(2)} \\hat{S}_z^{(2)} \\hat{I}_z^{(2, 10)} + A^{(2, 11)}_{xx} \\gamma_e^{(2)} \\hat{S}_x^{(2)} \\hat{I}_x^{(2, 11)} + 1.0 i A^{(2, 11)}_{xy} \\gamma_e^{(2)} \\hat{S}_x^{(2)} \\hat{I}_y^{(2, 11)} + A^{(2, 11)}_{xz} \\gamma_e^{(2)} \\hat{S}_x^{(2)} \\hat{I}_z^{(2, 11)} + 1.0 i A^{(2, 11)}_{yx} \\gamma_e^{(2)} \\hat{S}_y^{(2)} \\hat{I}_x^{(2, 11)} - A^{(2, 11)}_{yy} \\gamma_e^{(2)} \\hat{S}_y^{(2)} \\hat{I}_y^{(2, 11)} + 1.0 i A^{(2, 11)}_{yz} \\gamma_e^{(2)} \\hat{S}_y^{(2)} \\hat{I}_z^{(2, 11)} + A^{(2, 11)}_{zx} \\gamma_e^{(2)} \\hat{S}_z^{(2)} \\hat{I}_x^{(2, 11)} + 1.0 i A^{(2, 11)}_{zy} \\gamma_e^{(2)} \\hat{S}_z^{(2)} \\hat{I}_y^{(2, 11)} + A^{(2, 11)}_{zz} \\gamma_e^{(2)} \\hat{S}_z^{(2)} \\hat{I}_z^{(2, 11)} + A^{(2, 2)}_{xx} \\gamma_e^{(2)} \\hat{S}_x^{(2)} \\hat{I}_x^{(2, 2)} + 1.0 i A^{(2, 2)}_{xy} \\gamma_e^{(2)} \\hat{S}_x^{(2)} \\hat{I}_y^{(2, 2)} + A^{(2, 2)}_{xz} \\gamma_e^{(2)} \\hat{S}_x^{(2)} \\hat{I}_z^{(2, 2)} + 1.0 i A^{(2, 2)}_{yx} \\gamma_e^{(2)} \\hat{S}_y^{(2)} \\hat{I}_x^{(2, 2)} - A^{(2, 2)}_{yy} \\gamma_e^{(2)} \\hat{S}_y^{(2)} \\hat{I}_y^{(2, 2)} + 1.0 i A^{(2, 2)}_{yz} \\gamma_e^{(2)} \\hat{S}_y^{(2)} \\hat{I}_z^{(2, 2)} + A^{(2, 2)}_{zx} \\gamma_e^{(2)} \\hat{S}_z^{(2)} \\hat{I}_x^{(2, 2)} + 1.0 i A^{(2, 2)}_{zy} \\gamma_e^{(2)} \\hat{S}_z^{(2)} \\hat{I}_y^{(2, 2)} + A^{(2, 2)}_{zz} \\gamma_e^{(2)} \\hat{S}_z^{(2)} \\hat{I}_z^{(2, 2)} + A^{(2, 3)}_{xx} \\gamma_e^{(2)} \\hat{S}_x^{(2)} \\hat{I}_x^{(2, 3)} + 1.0 i A^{(2, 3)}_{xy} \\gamma_e^{(2)} \\hat{S}_x^{(2)} \\hat{I}_y^{(2, 3)} + A^{(2, 3)}_{xz} \\gamma_e^{(2)} \\hat{S}_x^{(2)} \\hat{I}_z^{(2, 3)} + 1.0 i A^{(2, 3)}_{yx} \\gamma_e^{(2)} \\hat{S}_y^{(2)} \\hat{I}_x^{(2, 3)} - A^{(2, 3)}_{yy} \\gamma_e^{(2)} \\hat{S}_y^{(2)} \\hat{I}_y^{(2, 3)} + 1.0 i A^{(2, 3)}_{yz} \\gamma_e^{(2)} \\hat{S}_y^{(2)} \\hat{I}_z^{(2, 3)} + A^{(2, 3)}_{zx} \\gamma_e^{(2)} \\hat{S}_z^{(2)} \\hat{I}_x^{(2, 3)} + 1.0 i A^{(2, 3)}_{zy} \\gamma_e^{(2)} \\hat{S}_z^{(2)} \\hat{I}_y^{(2, 3)} + A^{(2, 3)}_{zz} \\gamma_e^{(2)} \\hat{S}_z^{(2)} \\hat{I}_z^{(2, 3)} + A^{(2, 4)}_{xx} \\gamma_e^{(2)} \\hat{S}_x^{(2)} \\hat{I}_x^{(2, 4)} + 1.0 i A^{(2, 4)}_{xy} \\gamma_e^{(2)} \\hat{S}_x^{(2)} \\hat{I}_y^{(2, 4)} + A^{(2, 4)}_{xz} \\gamma_e^{(2)} \\hat{S}_x^{(2)} \\hat{I}_z^{(2, 4)} + 1.0 i A^{(2, 4)}_{yx} \\gamma_e^{(2)} \\hat{S}_y^{(2)} \\hat{I}_x^{(2, 4)} - A^{(2, 4)}_{yy} \\gamma_e^{(2)} \\hat{S}_y^{(2)} \\hat{I}_y^{(2, 4)} + 1.0 i A^{(2, 4)}_{yz} \\gamma_e^{(2)} \\hat{S}_y^{(2)} \\hat{I}_z^{(2, 4)} + A^{(2, 4)}_{zx} \\gamma_e^{(2)} \\hat{S}_z^{(2)} \\hat{I}_x^{(2, 4)} + 1.0 i A^{(2, 4)}_{zy} \\gamma_e^{(2)} \\hat{S}_z^{(2)} \\hat{I}_y^{(2, 4)} + A^{(2, 4)}_{zz} \\gamma_e^{(2)} \\hat{S}_z^{(2)} \\hat{I}_z^{(2, 4)} + A^{(2, 5)}_{xx} \\gamma_e^{(2)} \\hat{S}_x^{(2)} \\hat{I}_x^{(2, 5)} + 1.0 i A^{(2, 5)}_{xy} \\gamma_e^{(2)} \\hat{S}_x^{(2)} \\hat{I}_y^{(2, 5)} + A^{(2, 5)}_{xz} \\gamma_e^{(2)} \\hat{S}_x^{(2)} \\hat{I}_z^{(2, 5)} + 1.0 i A^{(2, 5)}_{yx} \\gamma_e^{(2)} \\hat{S}_y^{(2)} \\hat{I}_x^{(2, 5)} - A^{(2, 5)}_{yy} \\gamma_e^{(2)} \\hat{S}_y^{(2)} \\hat{I}_y^{(2, 5)} + 1.0 i A^{(2, 5)}_{yz} \\gamma_e^{(2)} \\hat{S}_y^{(2)} \\hat{I}_z^{(2, 5)} + A^{(2, 5)}_{zx} \\gamma_e^{(2)} \\hat{S}_z^{(2)} \\hat{I}_x^{(2, 5)} + 1.0 i A^{(2, 5)}_{zy} \\gamma_e^{(2)} \\hat{S}_z^{(2)} \\hat{I}_y^{(2, 5)} + A^{(2, 5)}_{zz} \\gamma_e^{(2)} \\hat{S}_z^{(2)} \\hat{I}_z^{(2, 5)} + A^{(2, 6)}_{xx} \\gamma_e^{(2)} \\hat{S}_x^{(2)} \\hat{I}_x^{(2, 6)} + 1.0 i A^{(2, 6)}_{xy} \\gamma_e^{(2)} \\hat{S}_x^{(2)} \\hat{I}_y^{(2, 6)} + A^{(2, 6)}_{xz} \\gamma_e^{(2)} \\hat{S}_x^{(2)} \\hat{I}_z^{(2, 6)} + 1.0 i A^{(2, 6)}_{yx} \\gamma_e^{(2)} \\hat{S}_y^{(2)} \\hat{I}_x^{(2, 6)} - A^{(2, 6)}_{yy} \\gamma_e^{(2)} \\hat{S}_y^{(2)} \\hat{I}_y^{(2, 6)} + 1.0 i A^{(2, 6)}_{yz} \\gamma_e^{(2)} \\hat{S}_y^{(2)} \\hat{I}_z^{(2, 6)} + A^{(2, 6)}_{zx} \\gamma_e^{(2)} \\hat{S}_z^{(2)} \\hat{I}_x^{(2, 6)} + 1.0 i A^{(2, 6)}_{zy} \\gamma_e^{(2)} \\hat{S}_z^{(2)} \\hat{I}_y^{(2, 6)} + A^{(2, 6)}_{zz} \\gamma_e^{(2)} \\hat{S}_z^{(2)} \\hat{I}_z^{(2, 6)} + A^{(2, 7)}_{xx} \\gamma_e^{(2)} \\hat{S}_x^{(2)} \\hat{I}_x^{(2, 7)} + 1.0 i A^{(2, 7)}_{xy} \\gamma_e^{(2)} \\hat{S}_x^{(2)} \\hat{I}_y^{(2, 7)} + A^{(2, 7)}_{xz} \\gamma_e^{(2)} \\hat{S}_x^{(2)} \\hat{I}_z^{(2, 7)} + 1.0 i A^{(2, 7)}_{yx} \\gamma_e^{(2)} \\hat{S}_y^{(2)} \\hat{I}_x^{(2, 7)} - A^{(2, 7)}_{yy} \\gamma_e^{(2)} \\hat{S}_y^{(2)} \\hat{I}_y^{(2, 7)} + 1.0 i A^{(2, 7)}_{yz} \\gamma_e^{(2)} \\hat{S}_y^{(2)} \\hat{I}_z^{(2, 7)} + A^{(2, 7)}_{zx} \\gamma_e^{(2)} \\hat{S}_z^{(2)} \\hat{I}_x^{(2, 7)} + 1.0 i A^{(2, 7)}_{zy} \\gamma_e^{(2)} \\hat{S}_z^{(2)} \\hat{I}_y^{(2, 7)} + A^{(2, 7)}_{zz} \\gamma_e^{(2)} \\hat{S}_z^{(2)} \\hat{I}_z^{(2, 7)} + A^{(2, 8)}_{xx} \\gamma_e^{(2)} \\hat{S}_x^{(2)} \\hat{I}_x^{(2, 8)} + 1.0 i A^{(2, 8)}_{xy} \\gamma_e^{(2)} \\hat{S}_x^{(2)} \\hat{I}_y^{(2, 8)} + A^{(2, 8)}_{xz} \\gamma_e^{(2)} \\hat{S}_x^{(2)} \\hat{I}_z^{(2, 8)} + 1.0 i A^{(2, 8)}_{yx} \\gamma_e^{(2)} \\hat{S}_y^{(2)} \\hat{I}_x^{(2, 8)} - A^{(2, 8)}_{yy} \\gamma_e^{(2)} \\hat{S}_y^{(2)} \\hat{I}_y^{(2, 8)} + 1.0 i A^{(2, 8)}_{yz} \\gamma_e^{(2)} \\hat{S}_y^{(2)} \\hat{I}_z^{(2, 8)} + A^{(2, 8)}_{zx} \\gamma_e^{(2)} \\hat{S}_z^{(2)} \\hat{I}_x^{(2, 8)} + 1.0 i A^{(2, 8)}_{zy} \\gamma_e^{(2)} \\hat{S}_z^{(2)} \\hat{I}_y^{(2, 8)} + A^{(2, 8)}_{zz} \\gamma_e^{(2)} \\hat{S}_z^{(2)} \\hat{I}_z^{(2, 8)} + A^{(2, 9)}_{xx} \\gamma_e^{(2)} \\hat{S}_x^{(2)} \\hat{I}_x^{(2, 9)} + 1.0 i A^{(2, 9)}_{xy} \\gamma_e^{(2)} \\hat{S}_x^{(2)} \\hat{I}_y^{(2, 9)} + A^{(2, 9)}_{xz} \\gamma_e^{(2)} \\hat{S}_x^{(2)} \\hat{I}_z^{(2, 9)} + 1.0 i A^{(2, 9)}_{yx} \\gamma_e^{(2)} \\hat{S}_y^{(2)} \\hat{I}_x^{(2, 9)} - A^{(2, 9)}_{yy} \\gamma_e^{(2)} \\hat{S}_y^{(2)} \\hat{I}_y^{(2, 9)} + 1.0 i A^{(2, 9)}_{yz} \\gamma_e^{(2)} \\hat{S}_y^{(2)} \\hat{I}_z^{(2, 9)} + A^{(2, 9)}_{zx} \\gamma_e^{(2)} \\hat{S}_z^{(2)} \\hat{I}_x^{(2, 9)} + 1.0 i A^{(2, 9)}_{zy} \\gamma_e^{(2)} \\hat{S}_z^{(2)} \\hat{I}_y^{(2, 9)} + A^{(2, 9)}_{zz} \\gamma_e^{(2)} \\hat{S}_z^{(2)} \\hat{I}_z^{(2, 9)}$"
      ],
      "text/plain": [
       "A^{(1, 1)}_{xx}*\\gamma_e^{(1)}*\\hat{I}_x^{(1, 1)}*\\hat{S}_x^{(1)} + 1.0*I*A^{(1, 1)}_{xy}*\\gamma_e^{(1)}*\\hat{I}_y^{(1, 1)}*\\hat{S}_x^{(1)} + A^{(1, 1)}_{xz}*\\gamma_e^{(1)}*\\hat{I}_z^{(1, 1)}*\\hat{S}_x^{(1)} + 1.0*I*A^{(1, 1)}_{yx}*\\gamma_e^{(1)}*\\hat{I}_x^{(1, 1)}*\\hat{S}_y^{(1)} - A^{(1, 1)}_{yy}*\\gamma_e^{(1)}*\\hat{I}_y^{(1, 1)}*\\hat{S}_y^{(1)} + 1.0*I*A^{(1, 1)}_{yz}*\\gamma_e^{(1)}*\\hat{I}_z^{(1, 1)}*\\hat{S}_y^{(1)} + A^{(1, 1)}_{zx}*\\gamma_e^{(1)}*\\hat{I}_x^{(1, 1)}*\\hat{S}_z^{(1)} + 1.0*I*A^{(1, 1)}_{zy}*\\gamma_e^{(1)}*\\hat{I}_y^{(1, 1)}*\\hat{S}_z^{(1)} + A^{(1, 1)}_{zz}*\\gamma_e^{(1)}*\\hat{I}_z^{(1, 1)}*\\hat{S}_z^{(1)} + A^{(1, 10)}_{xx}*\\gamma_e^{(1)}*\\hat{I}_x^{(1, 10)}*\\hat{S}_x^{(1)} + 1.0*I*A^{(1, 10)}_{xy}*\\gamma_e^{(1)}*\\hat{I}_y^{(1, 10)}*\\hat{S}_x^{(1)} + A^{(1, 10)}_{xz}*\\gamma_e^{(1)}*\\hat{I}_z^{(1, 10)}*\\hat{S}_x^{(1)} + 1.0*I*A^{(1, 10)}_{yx}*\\gamma_e^{(1)}*\\hat{I}_x^{(1, 10)}*\\hat{S}_y^{(1)} - A^{(1, 10)}_{yy}*\\gamma_e^{(1)}*\\hat{I}_y^{(1, 10)}*\\hat{S}_y^{(1)} + 1.0*I*A^{(1, 10)}_{yz}*\\gamma_e^{(1)}*\\hat{I}_z^{(1, 10)}*\\hat{S}_y^{(1)} + A^{(1, 10)}_{zx}*\\gamma_e^{(1)}*\\hat{I}_x^{(1, 10)}*\\hat{S}_z^{(1)} + 1.0*I*A^{(1, 10)}_{zy}*\\gamma_e^{(1)}*\\hat{I}_y^{(1, 10)}*\\hat{S}_z^{(1)} + A^{(1, 10)}_{zz}*\\gamma_e^{(1)}*\\hat{I}_z^{(1, 10)}*\\hat{S}_z^{(1)} + A^{(1, 11)}_{xx}*\\gamma_e^{(1)}*\\hat{I}_x^{(1, 11)}*\\hat{S}_x^{(1)} + 1.0*I*A^{(1, 11)}_{xy}*\\gamma_e^{(1)}*\\hat{I}_y^{(1, 11)}*\\hat{S}_x^{(1)} + A^{(1, 11)}_{xz}*\\gamma_e^{(1)}*\\hat{I}_z^{(1, 11)}*\\hat{S}_x^{(1)} + 1.0*I*A^{(1, 11)}_{yx}*\\gamma_e^{(1)}*\\hat{I}_x^{(1, 11)}*\\hat{S}_y^{(1)} - A^{(1, 11)}_{yy}*\\gamma_e^{(1)}*\\hat{I}_y^{(1, 11)}*\\hat{S}_y^{(1)} + 1.0*I*A^{(1, 11)}_{yz}*\\gamma_e^{(1)}*\\hat{I}_z^{(1, 11)}*\\hat{S}_y^{(1)} + A^{(1, 11)}_{zx}*\\gamma_e^{(1)}*\\hat{I}_x^{(1, 11)}*\\hat{S}_z^{(1)} + 1.0*I*A^{(1, 11)}_{zy}*\\gamma_e^{(1)}*\\hat{I}_y^{(1, 11)}*\\hat{S}_z^{(1)} + A^{(1, 11)}_{zz}*\\gamma_e^{(1)}*\\hat{I}_z^{(1, 11)}*\\hat{S}_z^{(1)} + A^{(1, 12)}_{xx}*\\gamma_e^{(1)}*\\hat{I}_x^{(1, 12)}*\\hat{S}_x^{(1)} + 1.0*I*A^{(1, 12)}_{xy}*\\gamma_e^{(1)}*\\hat{I}_y^{(1, 12)}*\\hat{S}_x^{(1)} + A^{(1, 12)}_{xz}*\\gamma_e^{(1)}*\\hat{I}_z^{(1, 12)}*\\hat{S}_x^{(1)} + 1.0*I*A^{(1, 12)}_{yx}*\\gamma_e^{(1)}*\\hat{I}_x^{(1, 12)}*\\hat{S}_y^{(1)} - A^{(1, 12)}_{yy}*\\gamma_e^{(1)}*\\hat{I}_y^{(1, 12)}*\\hat{S}_y^{(1)} + 1.0*I*A^{(1, 12)}_{yz}*\\gamma_e^{(1)}*\\hat{I}_z^{(1, 12)}*\\hat{S}_y^{(1)} + A^{(1, 12)}_{zx}*\\gamma_e^{(1)}*\\hat{I}_x^{(1, 12)}*\\hat{S}_z^{(1)} + 1.0*I*A^{(1, 12)}_{zy}*\\gamma_e^{(1)}*\\hat{I}_y^{(1, 12)}*\\hat{S}_z^{(1)} + A^{(1, 12)}_{zz}*\\gamma_e^{(1)}*\\hat{I}_z^{(1, 12)}*\\hat{S}_z^{(1)} + A^{(1, 13)}_{xx}*\\gamma_e^{(1)}*\\hat{I}_x^{(1, 13)}*\\hat{S}_x^{(1)} + 1.0*I*A^{(1, 13)}_{xy}*\\gamma_e^{(1)}*\\hat{I}_y^{(1, 13)}*\\hat{S}_x^{(1)} + A^{(1, 13)}_{xz}*\\gamma_e^{(1)}*\\hat{I}_z^{(1, 13)}*\\hat{S}_x^{(1)} + 1.0*I*A^{(1, 13)}_{yx}*\\gamma_e^{(1)}*\\hat{I}_x^{(1, 13)}*\\hat{S}_y^{(1)} - A^{(1, 13)}_{yy}*\\gamma_e^{(1)}*\\hat{I}_y^{(1, 13)}*\\hat{S}_y^{(1)} + 1.0*I*A^{(1, 13)}_{yz}*\\gamma_e^{(1)}*\\hat{I}_z^{(1, 13)}*\\hat{S}_y^{(1)} + A^{(1, 13)}_{zx}*\\gamma_e^{(1)}*\\hat{I}_x^{(1, 13)}*\\hat{S}_z^{(1)} + 1.0*I*A^{(1, 13)}_{zy}*\\gamma_e^{(1)}*\\hat{I}_y^{(1, 13)}*\\hat{S}_z^{(1)} + A^{(1, 13)}_{zz}*\\gamma_e^{(1)}*\\hat{I}_z^{(1, 13)}*\\hat{S}_z^{(1)} + A^{(1, 14)}_{xx}*\\gamma_e^{(1)}*\\hat{I}_x^{(1, 14)}*\\hat{S}_x^{(1)} + 1.0*I*A^{(1, 14)}_{xy}*\\gamma_e^{(1)}*\\hat{I}_y^{(1, 14)}*\\hat{S}_x^{(1)} + A^{(1, 14)}_{xz}*\\gamma_e^{(1)}*\\hat{I}_z^{(1, 14)}*\\hat{S}_x^{(1)} + 1.0*I*A^{(1, 14)}_{yx}*\\gamma_e^{(1)}*\\hat{I}_x^{(1, 14)}*\\hat{S}_y^{(1)} - A^{(1, 14)}_{yy}*\\gamma_e^{(1)}*\\hat{I}_y^{(1, 14)}*\\hat{S}_y^{(1)} + 1.0*I*A^{(1, 14)}_{yz}*\\gamma_e^{(1)}*\\hat{I}_z^{(1, 14)}*\\hat{S}_y^{(1)} + A^{(1, 14)}_{zx}*\\gamma_e^{(1)}*\\hat{I}_x^{(1, 14)}*\\hat{S}_z^{(1)} + 1.0*I*A^{(1, 14)}_{zy}*\\gamma_e^{(1)}*\\hat{I}_y^{(1, 14)}*\\hat{S}_z^{(1)} + A^{(1, 14)}_{zz}*\\gamma_e^{(1)}*\\hat{I}_z^{(1, 14)}*\\hat{S}_z^{(1)} + A^{(1, 15)}_{xx}*\\gamma_e^{(1)}*\\hat{I}_x^{(1, 15)}*\\hat{S}_x^{(1)} + 1.0*I*A^{(1, 15)}_{xy}*\\gamma_e^{(1)}*\\hat{I}_y^{(1, 15)}*\\hat{S}_x^{(1)} + A^{(1, 15)}_{xz}*\\gamma_e^{(1)}*\\hat{I}_z^{(1, 15)}*\\hat{S}_x^{(1)} + 1.0*I*A^{(1, 15)}_{yx}*\\gamma_e^{(1)}*\\hat{I}_x^{(1, 15)}*\\hat{S}_y^{(1)} - A^{(1, 15)}_{yy}*\\gamma_e^{(1)}*\\hat{I}_y^{(1, 15)}*\\hat{S}_y^{(1)} + 1.0*I*A^{(1, 15)}_{yz}*\\gamma_e^{(1)}*\\hat{I}_z^{(1, 15)}*\\hat{S}_y^{(1)} + A^{(1, 15)}_{zx}*\\gamma_e^{(1)}*\\hat{I}_x^{(1, 15)}*\\hat{S}_z^{(1)} + 1.0*I*A^{(1, 15)}_{zy}*\\gamma_e^{(1)}*\\hat{I}_y^{(1, 15)}*\\hat{S}_z^{(1)} + A^{(1, 15)}_{zz}*\\gamma_e^{(1)}*\\hat{I}_z^{(1, 15)}*\\hat{S}_z^{(1)} + A^{(1, 16)}_{xx}*\\gamma_e^{(1)}*\\hat{I}_x^{(1, 16)}*\\hat{S}_x^{(1)} + 1.0*I*A^{(1, 16)}_{xy}*\\gamma_e^{(1)}*\\hat{I}_y^{(1, 16)}*\\hat{S}_x^{(1)} + A^{(1, 16)}_{xz}*\\gamma_e^{(1)}*\\hat{I}_z^{(1, 16)}*\\hat{S}_x^{(1)} + 1.0*I*A^{(1, 16)}_{yx}*\\gamma_e^{(1)}*\\hat{I}_x^{(1, 16)}*\\hat{S}_y^{(1)} - A^{(1, 16)}_{yy}*\\gamma_e^{(1)}*\\hat{I}_y^{(1, 16)}*\\hat{S}_y^{(1)} + 1.0*I*A^{(1, 16)}_{yz}*\\gamma_e^{(1)}*\\hat{I}_z^{(1, 16)}*\\hat{S}_y^{(1)} + A^{(1, 16)}_{zx}*\\gamma_e^{(1)}*\\hat{I}_x^{(1, 16)}*\\hat{S}_z^{(1)} + 1.0*I*A^{(1, 16)}_{zy}*\\gamma_e^{(1)}*\\hat{I}_y^{(1, 16)}*\\hat{S}_z^{(1)} + A^{(1, 16)}_{zz}*\\gamma_e^{(1)}*\\hat{I}_z^{(1, 16)}*\\hat{S}_z^{(1)} + A^{(1, 2)}_{xx}*\\gamma_e^{(1)}*\\hat{I}_x^{(1, 2)}*\\hat{S}_x^{(1)} + 1.0*I*A^{(1, 2)}_{xy}*\\gamma_e^{(1)}*\\hat{I}_y^{(1, 2)}*\\hat{S}_x^{(1)} + A^{(1, 2)}_{xz}*\\gamma_e^{(1)}*\\hat{I}_z^{(1, 2)}*\\hat{S}_x^{(1)} + 1.0*I*A^{(1, 2)}_{yx}*\\gamma_e^{(1)}*\\hat{I}_x^{(1, 2)}*\\hat{S}_y^{(1)} - A^{(1, 2)}_{yy}*\\gamma_e^{(1)}*\\hat{I}_y^{(1, 2)}*\\hat{S}_y^{(1)} + 1.0*I*A^{(1, 2)}_{yz}*\\gamma_e^{(1)}*\\hat{I}_z^{(1, 2)}*\\hat{S}_y^{(1)} + A^{(1, 2)}_{zx}*\\gamma_e^{(1)}*\\hat{I}_x^{(1, 2)}*\\hat{S}_z^{(1)} + 1.0*I*A^{(1, 2)}_{zy}*\\gamma_e^{(1)}*\\hat{I}_y^{(1, 2)}*\\hat{S}_z^{(1)} + A^{(1, 2)}_{zz}*\\gamma_e^{(1)}*\\hat{I}_z^{(1, 2)}*\\hat{S}_z^{(1)} + A^{(1, 3)}_{xx}*\\gamma_e^{(1)}*\\hat{I}_x^{(1, 3)}*\\hat{S}_x^{(1)} + 1.0*I*A^{(1, 3)}_{xy}*\\gamma_e^{(1)}*\\hat{I}_y^{(1, 3)}*\\hat{S}_x^{(1)} + A^{(1, 3)}_{xz}*\\gamma_e^{(1)}*\\hat{I}_z^{(1, 3)}*\\hat{S}_x^{(1)} + 1.0*I*A^{(1, 3)}_{yx}*\\gamma_e^{(1)}*\\hat{I}_x^{(1, 3)}*\\hat{S}_y^{(1)} - A^{(1, 3)}_{yy}*\\gamma_e^{(1)}*\\hat{I}_y^{(1, 3)}*\\hat{S}_y^{(1)} + 1.0*I*A^{(1, 3)}_{yz}*\\gamma_e^{(1)}*\\hat{I}_z^{(1, 3)}*\\hat{S}_y^{(1)} + A^{(1, 3)}_{zx}*\\gamma_e^{(1)}*\\hat{I}_x^{(1, 3)}*\\hat{S}_z^{(1)} + 1.0*I*A^{(1, 3)}_{zy}*\\gamma_e^{(1)}*\\hat{I}_y^{(1, 3)}*\\hat{S}_z^{(1)} + A^{(1, 3)}_{zz}*\\gamma_e^{(1)}*\\hat{I}_z^{(1, 3)}*\\hat{S}_z^{(1)} + A^{(1, 4)}_{xx}*\\gamma_e^{(1)}*\\hat{I}_x^{(1, 4)}*\\hat{S}_x^{(1)} + 1.0*I*A^{(1, 4)}_{xy}*\\gamma_e^{(1)}*\\hat{I}_y^{(1, 4)}*\\hat{S}_x^{(1)} + A^{(1, 4)}_{xz}*\\gamma_e^{(1)}*\\hat{I}_z^{(1, 4)}*\\hat{S}_x^{(1)} + 1.0*I*A^{(1, 4)}_{yx}*\\gamma_e^{(1)}*\\hat{I}_x^{(1, 4)}*\\hat{S}_y^{(1)} - A^{(1, 4)}_{yy}*\\gamma_e^{(1)}*\\hat{I}_y^{(1, 4)}*\\hat{S}_y^{(1)} + 1.0*I*A^{(1, 4)}_{yz}*\\gamma_e^{(1)}*\\hat{I}_z^{(1, 4)}*\\hat{S}_y^{(1)} + A^{(1, 4)}_{zx}*\\gamma_e^{(1)}*\\hat{I}_x^{(1, 4)}*\\hat{S}_z^{(1)} + 1.0*I*A^{(1, 4)}_{zy}*\\gamma_e^{(1)}*\\hat{I}_y^{(1, 4)}*\\hat{S}_z^{(1)} + A^{(1, 4)}_{zz}*\\gamma_e^{(1)}*\\hat{I}_z^{(1, 4)}*\\hat{S}_z^{(1)} + A^{(1, 5)}_{xx}*\\gamma_e^{(1)}*\\hat{I}_x^{(1, 5)}*\\hat{S}_x^{(1)} + 1.0*I*A^{(1, 5)}_{xy}*\\gamma_e^{(1)}*\\hat{I}_y^{(1, 5)}*\\hat{S}_x^{(1)} + A^{(1, 5)}_{xz}*\\gamma_e^{(1)}*\\hat{I}_z^{(1, 5)}*\\hat{S}_x^{(1)} + 1.0*I*A^{(1, 5)}_{yx}*\\gamma_e^{(1)}*\\hat{I}_x^{(1, 5)}*\\hat{S}_y^{(1)} - A^{(1, 5)}_{yy}*\\gamma_e^{(1)}*\\hat{I}_y^{(1, 5)}*\\hat{S}_y^{(1)} + 1.0*I*A^{(1, 5)}_{yz}*\\gamma_e^{(1)}*\\hat{I}_z^{(1, 5)}*\\hat{S}_y^{(1)} + A^{(1, 5)}_{zx}*\\gamma_e^{(1)}*\\hat{I}_x^{(1, 5)}*\\hat{S}_z^{(1)} + 1.0*I*A^{(1, 5)}_{zy}*\\gamma_e^{(1)}*\\hat{I}_y^{(1, 5)}*\\hat{S}_z^{(1)} + A^{(1, 5)}_{zz}*\\gamma_e^{(1)}*\\hat{I}_z^{(1, 5)}*\\hat{S}_z^{(1)} + A^{(1, 6)}_{xx}*\\gamma_e^{(1)}*\\hat{I}_x^{(1, 6)}*\\hat{S}_x^{(1)} + 1.0*I*A^{(1, 6)}_{xy}*\\gamma_e^{(1)}*\\hat{I}_y^{(1, 6)}*\\hat{S}_x^{(1)} + A^{(1, 6)}_{xz}*\\gamma_e^{(1)}*\\hat{I}_z^{(1, 6)}*\\hat{S}_x^{(1)} + 1.0*I*A^{(1, 6)}_{yx}*\\gamma_e^{(1)}*\\hat{I}_x^{(1, 6)}*\\hat{S}_y^{(1)} - A^{(1, 6)}_{yy}*\\gamma_e^{(1)}*\\hat{I}_y^{(1, 6)}*\\hat{S}_y^{(1)} + 1.0*I*A^{(1, 6)}_{yz}*\\gamma_e^{(1)}*\\hat{I}_z^{(1, 6)}*\\hat{S}_y^{(1)} + A^{(1, 6)}_{zx}*\\gamma_e^{(1)}*\\hat{I}_x^{(1, 6)}*\\hat{S}_z^{(1)} + 1.0*I*A^{(1, 6)}_{zy}*\\gamma_e^{(1)}*\\hat{I}_y^{(1, 6)}*\\hat{S}_z^{(1)} + A^{(1, 6)}_{zz}*\\gamma_e^{(1)}*\\hat{I}_z^{(1, 6)}*\\hat{S}_z^{(1)} + A^{(1, 7)}_{xx}*\\gamma_e^{(1)}*\\hat{I}_x^{(1, 7)}*\\hat{S}_x^{(1)} + 1.0*I*A^{(1, 7)}_{xy}*\\gamma_e^{(1)}*\\hat{I}_y^{(1, 7)}*\\hat{S}_x^{(1)} + A^{(1, 7)}_{xz}*\\gamma_e^{(1)}*\\hat{I}_z^{(1, 7)}*\\hat{S}_x^{(1)} + 1.0*I*A^{(1, 7)}_{yx}*\\gamma_e^{(1)}*\\hat{I}_x^{(1, 7)}*\\hat{S}_y^{(1)} - A^{(1, 7)}_{yy}*\\gamma_e^{(1)}*\\hat{I}_y^{(1, 7)}*\\hat{S}_y^{(1)} + 1.0*I*A^{(1, 7)}_{yz}*\\gamma_e^{(1)}*\\hat{I}_z^{(1, 7)}*\\hat{S}_y^{(1)} + A^{(1, 7)}_{zx}*\\gamma_e^{(1)}*\\hat{I}_x^{(1, 7)}*\\hat{S}_z^{(1)} + 1.0*I*A^{(1, 7)}_{zy}*\\gamma_e^{(1)}*\\hat{I}_y^{(1, 7)}*\\hat{S}_z^{(1)} + A^{(1, 7)}_{zz}*\\gamma_e^{(1)}*\\hat{I}_z^{(1, 7)}*\\hat{S}_z^{(1)} + A^{(1, 8)}_{xx}*\\gamma_e^{(1)}*\\hat{I}_x^{(1, 8)}*\\hat{S}_x^{(1)} + 1.0*I*A^{(1, 8)}_{xy}*\\gamma_e^{(1)}*\\hat{I}_y^{(1, 8)}*\\hat{S}_x^{(1)} + A^{(1, 8)}_{xz}*\\gamma_e^{(1)}*\\hat{I}_z^{(1, 8)}*\\hat{S}_x^{(1)} + 1.0*I*A^{(1, 8)}_{yx}*\\gamma_e^{(1)}*\\hat{I}_x^{(1, 8)}*\\hat{S}_y^{(1)} - A^{(1, 8)}_{yy}*\\gamma_e^{(1)}*\\hat{I}_y^{(1, 8)}*\\hat{S}_y^{(1)} + 1.0*I*A^{(1, 8)}_{yz}*\\gamma_e^{(1)}*\\hat{I}_z^{(1, 8)}*\\hat{S}_y^{(1)} + A^{(1, 8)}_{zx}*\\gamma_e^{(1)}*\\hat{I}_x^{(1, 8)}*\\hat{S}_z^{(1)} + 1.0*I*A^{(1, 8)}_{zy}*\\gamma_e^{(1)}*\\hat{I}_y^{(1, 8)}*\\hat{S}_z^{(1)} + A^{(1, 8)}_{zz}*\\gamma_e^{(1)}*\\hat{I}_z^{(1, 8)}*\\hat{S}_z^{(1)} + A^{(1, 9)}_{xx}*\\gamma_e^{(1)}*\\hat{I}_x^{(1, 9)}*\\hat{S}_x^{(1)} + 1.0*I*A^{(1, 9)}_{xy}*\\gamma_e^{(1)}*\\hat{I}_y^{(1, 9)}*\\hat{S}_x^{(1)} + A^{(1, 9)}_{xz}*\\gamma_e^{(1)}*\\hat{I}_z^{(1, 9)}*\\hat{S}_x^{(1)} + 1.0*I*A^{(1, 9)}_{yx}*\\gamma_e^{(1)}*\\hat{I}_x^{(1, 9)}*\\hat{S}_y^{(1)} - A^{(1, 9)}_{yy}*\\gamma_e^{(1)}*\\hat{I}_y^{(1, 9)}*\\hat{S}_y^{(1)} + 1.0*I*A^{(1, 9)}_{yz}*\\gamma_e^{(1)}*\\hat{I}_z^{(1, 9)}*\\hat{S}_y^{(1)} + A^{(1, 9)}_{zx}*\\gamma_e^{(1)}*\\hat{I}_x^{(1, 9)}*\\hat{S}_z^{(1)} + 1.0*I*A^{(1, 9)}_{zy}*\\gamma_e^{(1)}*\\hat{I}_y^{(1, 9)}*\\hat{S}_z^{(1)} + A^{(1, 9)}_{zz}*\\gamma_e^{(1)}*\\hat{I}_z^{(1, 9)}*\\hat{S}_z^{(1)} + A^{(2, 1)}_{xx}*\\gamma_e^{(2)}*\\hat{S}_x^{(2)}*\\hat{I}_x^{(2, 1)} + 1.0*I*A^{(2, 1)}_{xy}*\\gamma_e^{(2)}*\\hat{S}_x^{(2)}*\\hat{I}_y^{(2, 1)} + A^{(2, 1)}_{xz}*\\gamma_e^{(2)}*\\hat{S}_x^{(2)}*\\hat{I}_z^{(2, 1)} + 1.0*I*A^{(2, 1)}_{yx}*\\gamma_e^{(2)}*\\hat{S}_y^{(2)}*\\hat{I}_x^{(2, 1)} - A^{(2, 1)}_{yy}*\\gamma_e^{(2)}*\\hat{S}_y^{(2)}*\\hat{I}_y^{(2, 1)} + 1.0*I*A^{(2, 1)}_{yz}*\\gamma_e^{(2)}*\\hat{S}_y^{(2)}*\\hat{I}_z^{(2, 1)} + A^{(2, 1)}_{zx}*\\gamma_e^{(2)}*\\hat{S}_z^{(2)}*\\hat{I}_x^{(2, 1)} + 1.0*I*A^{(2, 1)}_{zy}*\\gamma_e^{(2)}*\\hat{S}_z^{(2)}*\\hat{I}_y^{(2, 1)} + A^{(2, 1)}_{zz}*\\gamma_e^{(2)}*\\hat{S}_z^{(2)}*\\hat{I}_z^{(2, 1)} + A^{(2, 10)}_{xx}*\\gamma_e^{(2)}*\\hat{S}_x^{(2)}*\\hat{I}_x^{(2, 10)} + 1.0*I*A^{(2, 10)}_{xy}*\\gamma_e^{(2)}*\\hat{S}_x^{(2)}*\\hat{I}_y^{(2, 10)} + A^{(2, 10)}_{xz}*\\gamma_e^{(2)}*\\hat{S}_x^{(2)}*\\hat{I}_z^{(2, 10)} + 1.0*I*A^{(2, 10)}_{yx}*\\gamma_e^{(2)}*\\hat{S}_y^{(2)}*\\hat{I}_x^{(2, 10)} - A^{(2, 10)}_{yy}*\\gamma_e^{(2)}*\\hat{S}_y^{(2)}*\\hat{I}_y^{(2, 10)} + 1.0*I*A^{(2, 10)}_{yz}*\\gamma_e^{(2)}*\\hat{S}_y^{(2)}*\\hat{I}_z^{(2, 10)} + A^{(2, 10)}_{zx}*\\gamma_e^{(2)}*\\hat{S}_z^{(2)}*\\hat{I}_x^{(2, 10)} + 1.0*I*A^{(2, 10)}_{zy}*\\gamma_e^{(2)}*\\hat{S}_z^{(2)}*\\hat{I}_y^{(2, 10)} + A^{(2, 10)}_{zz}*\\gamma_e^{(2)}*\\hat{S}_z^{(2)}*\\hat{I}_z^{(2, 10)} + A^{(2, 11)}_{xx}*\\gamma_e^{(2)}*\\hat{S}_x^{(2)}*\\hat{I}_x^{(2, 11)} + 1.0*I*A^{(2, 11)}_{xy}*\\gamma_e^{(2)}*\\hat{S}_x^{(2)}*\\hat{I}_y^{(2, 11)} + A^{(2, 11)}_{xz}*\\gamma_e^{(2)}*\\hat{S}_x^{(2)}*\\hat{I}_z^{(2, 11)} + 1.0*I*A^{(2, 11)}_{yx}*\\gamma_e^{(2)}*\\hat{S}_y^{(2)}*\\hat{I}_x^{(2, 11)} - A^{(2, 11)}_{yy}*\\gamma_e^{(2)}*\\hat{S}_y^{(2)}*\\hat{I}_y^{(2, 11)} + 1.0*I*A^{(2, 11)}_{yz}*\\gamma_e^{(2)}*\\hat{S}_y^{(2)}*\\hat{I}_z^{(2, 11)} + A^{(2, 11)}_{zx}*\\gamma_e^{(2)}*\\hat{S}_z^{(2)}*\\hat{I}_x^{(2, 11)} + 1.0*I*A^{(2, 11)}_{zy}*\\gamma_e^{(2)}*\\hat{S}_z^{(2)}*\\hat{I}_y^{(2, 11)} + A^{(2, 11)}_{zz}*\\gamma_e^{(2)}*\\hat{S}_z^{(2)}*\\hat{I}_z^{(2, 11)} + A^{(2, 2)}_{xx}*\\gamma_e^{(2)}*\\hat{S}_x^{(2)}*\\hat{I}_x^{(2, 2)} + 1.0*I*A^{(2, 2)}_{xy}*\\gamma_e^{(2)}*\\hat{S}_x^{(2)}*\\hat{I}_y^{(2, 2)} + A^{(2, 2)}_{xz}*\\gamma_e^{(2)}*\\hat{S}_x^{(2)}*\\hat{I}_z^{(2, 2)} + 1.0*I*A^{(2, 2)}_{yx}*\\gamma_e^{(2)}*\\hat{S}_y^{(2)}*\\hat{I}_x^{(2, 2)} - A^{(2, 2)}_{yy}*\\gamma_e^{(2)}*\\hat{S}_y^{(2)}*\\hat{I}_y^{(2, 2)} + 1.0*I*A^{(2, 2)}_{yz}*\\gamma_e^{(2)}*\\hat{S}_y^{(2)}*\\hat{I}_z^{(2, 2)} + A^{(2, 2)}_{zx}*\\gamma_e^{(2)}*\\hat{S}_z^{(2)}*\\hat{I}_x^{(2, 2)} + 1.0*I*A^{(2, 2)}_{zy}*\\gamma_e^{(2)}*\\hat{S}_z^{(2)}*\\hat{I}_y^{(2, 2)} + A^{(2, 2)}_{zz}*\\gamma_e^{(2)}*\\hat{S}_z^{(2)}*\\hat{I}_z^{(2, 2)} + A^{(2, 3)}_{xx}*\\gamma_e^{(2)}*\\hat{S}_x^{(2)}*\\hat{I}_x^{(2, 3)} + 1.0*I*A^{(2, 3)}_{xy}*\\gamma_e^{(2)}*\\hat{S}_x^{(2)}*\\hat{I}_y^{(2, 3)} + A^{(2, 3)}_{xz}*\\gamma_e^{(2)}*\\hat{S}_x^{(2)}*\\hat{I}_z^{(2, 3)} + 1.0*I*A^{(2, 3)}_{yx}*\\gamma_e^{(2)}*\\hat{S}_y^{(2)}*\\hat{I}_x^{(2, 3)} - A^{(2, 3)}_{yy}*\\gamma_e^{(2)}*\\hat{S}_y^{(2)}*\\hat{I}_y^{(2, 3)} + 1.0*I*A^{(2, 3)}_{yz}*\\gamma_e^{(2)}*\\hat{S}_y^{(2)}*\\hat{I}_z^{(2, 3)} + A^{(2, 3)}_{zx}*\\gamma_e^{(2)}*\\hat{S}_z^{(2)}*\\hat{I}_x^{(2, 3)} + 1.0*I*A^{(2, 3)}_{zy}*\\gamma_e^{(2)}*\\hat{S}_z^{(2)}*\\hat{I}_y^{(2, 3)} + A^{(2, 3)}_{zz}*\\gamma_e^{(2)}*\\hat{S}_z^{(2)}*\\hat{I}_z^{(2, 3)} + A^{(2, 4)}_{xx}*\\gamma_e^{(2)}*\\hat{S}_x^{(2)}*\\hat{I}_x^{(2, 4)} + 1.0*I*A^{(2, 4)}_{xy}*\\gamma_e^{(2)}*\\hat{S}_x^{(2)}*\\hat{I}_y^{(2, 4)} + A^{(2, 4)}_{xz}*\\gamma_e^{(2)}*\\hat{S}_x^{(2)}*\\hat{I}_z^{(2, 4)} + 1.0*I*A^{(2, 4)}_{yx}*\\gamma_e^{(2)}*\\hat{S}_y^{(2)}*\\hat{I}_x^{(2, 4)} - A^{(2, 4)}_{yy}*\\gamma_e^{(2)}*\\hat{S}_y^{(2)}*\\hat{I}_y^{(2, 4)} + 1.0*I*A^{(2, 4)}_{yz}*\\gamma_e^{(2)}*\\hat{S}_y^{(2)}*\\hat{I}_z^{(2, 4)} + A^{(2, 4)}_{zx}*\\gamma_e^{(2)}*\\hat{S}_z^{(2)}*\\hat{I}_x^{(2, 4)} + 1.0*I*A^{(2, 4)}_{zy}*\\gamma_e^{(2)}*\\hat{S}_z^{(2)}*\\hat{I}_y^{(2, 4)} + A^{(2, 4)}_{zz}*\\gamma_e^{(2)}*\\hat{S}_z^{(2)}*\\hat{I}_z^{(2, 4)} + A^{(2, 5)}_{xx}*\\gamma_e^{(2)}*\\hat{S}_x^{(2)}*\\hat{I}_x^{(2, 5)} + 1.0*I*A^{(2, 5)}_{xy}*\\gamma_e^{(2)}*\\hat{S}_x^{(2)}*\\hat{I}_y^{(2, 5)} + A^{(2, 5)}_{xz}*\\gamma_e^{(2)}*\\hat{S}_x^{(2)}*\\hat{I}_z^{(2, 5)} + 1.0*I*A^{(2, 5)}_{yx}*\\gamma_e^{(2)}*\\hat{S}_y^{(2)}*\\hat{I}_x^{(2, 5)} - A^{(2, 5)}_{yy}*\\gamma_e^{(2)}*\\hat{S}_y^{(2)}*\\hat{I}_y^{(2, 5)} + 1.0*I*A^{(2, 5)}_{yz}*\\gamma_e^{(2)}*\\hat{S}_y^{(2)}*\\hat{I}_z^{(2, 5)} + A^{(2, 5)}_{zx}*\\gamma_e^{(2)}*\\hat{S}_z^{(2)}*\\hat{I}_x^{(2, 5)} + 1.0*I*A^{(2, 5)}_{zy}*\\gamma_e^{(2)}*\\hat{S}_z^{(2)}*\\hat{I}_y^{(2, 5)} + A^{(2, 5)}_{zz}*\\gamma_e^{(2)}*\\hat{S}_z^{(2)}*\\hat{I}_z^{(2, 5)} + A^{(2, 6)}_{xx}*\\gamma_e^{(2)}*\\hat{S}_x^{(2)}*\\hat{I}_x^{(2, 6)} + 1.0*I*A^{(2, 6)}_{xy}*\\gamma_e^{(2)}*\\hat{S}_x^{(2)}*\\hat{I}_y^{(2, 6)} + A^{(2, 6)}_{xz}*\\gamma_e^{(2)}*\\hat{S}_x^{(2)}*\\hat{I}_z^{(2, 6)} + 1.0*I*A^{(2, 6)}_{yx}*\\gamma_e^{(2)}*\\hat{S}_y^{(2)}*\\hat{I}_x^{(2, 6)} - A^{(2, 6)}_{yy}*\\gamma_e^{(2)}*\\hat{S}_y^{(2)}*\\hat{I}_y^{(2, 6)} + 1.0*I*A^{(2, 6)}_{yz}*\\gamma_e^{(2)}*\\hat{S}_y^{(2)}*\\hat{I}_z^{(2, 6)} + A^{(2, 6)}_{zx}*\\gamma_e^{(2)}*\\hat{S}_z^{(2)}*\\hat{I}_x^{(2, 6)} + 1.0*I*A^{(2, 6)}_{zy}*\\gamma_e^{(2)}*\\hat{S}_z^{(2)}*\\hat{I}_y^{(2, 6)} + A^{(2, 6)}_{zz}*\\gamma_e^{(2)}*\\hat{S}_z^{(2)}*\\hat{I}_z^{(2, 6)} + A^{(2, 7)}_{xx}*\\gamma_e^{(2)}*\\hat{S}_x^{(2)}*\\hat{I}_x^{(2, 7)} + 1.0*I*A^{(2, 7)}_{xy}*\\gamma_e^{(2)}*\\hat{S}_x^{(2)}*\\hat{I}_y^{(2, 7)} + A^{(2, 7)}_{xz}*\\gamma_e^{(2)}*\\hat{S}_x^{(2)}*\\hat{I}_z^{(2, 7)} + 1.0*I*A^{(2, 7)}_{yx}*\\gamma_e^{(2)}*\\hat{S}_y^{(2)}*\\hat{I}_x^{(2, 7)} - A^{(2, 7)}_{yy}*\\gamma_e^{(2)}*\\hat{S}_y^{(2)}*\\hat{I}_y^{(2, 7)} + 1.0*I*A^{(2, 7)}_{yz}*\\gamma_e^{(2)}*\\hat{S}_y^{(2)}*\\hat{I}_z^{(2, 7)} + A^{(2, 7)}_{zx}*\\gamma_e^{(2)}*\\hat{S}_z^{(2)}*\\hat{I}_x^{(2, 7)} + 1.0*I*A^{(2, 7)}_{zy}*\\gamma_e^{(2)}*\\hat{S}_z^{(2)}*\\hat{I}_y^{(2, 7)} + A^{(2, 7)}_{zz}*\\gamma_e^{(2)}*\\hat{S}_z^{(2)}*\\hat{I}_z^{(2, 7)} + A^{(2, 8)}_{xx}*\\gamma_e^{(2)}*\\hat{S}_x^{(2)}*\\hat{I}_x^{(2, 8)} + 1.0*I*A^{(2, 8)}_{xy}*\\gamma_e^{(2)}*\\hat{S}_x^{(2)}*\\hat{I}_y^{(2, 8)} + A^{(2, 8)}_{xz}*\\gamma_e^{(2)}*\\hat{S}_x^{(2)}*\\hat{I}_z^{(2, 8)} + 1.0*I*A^{(2, 8)}_{yx}*\\gamma_e^{(2)}*\\hat{S}_y^{(2)}*\\hat{I}_x^{(2, 8)} - A^{(2, 8)}_{yy}*\\gamma_e^{(2)}*\\hat{S}_y^{(2)}*\\hat{I}_y^{(2, 8)} + 1.0*I*A^{(2, 8)}_{yz}*\\gamma_e^{(2)}*\\hat{S}_y^{(2)}*\\hat{I}_z^{(2, 8)} + A^{(2, 8)}_{zx}*\\gamma_e^{(2)}*\\hat{S}_z^{(2)}*\\hat{I}_x^{(2, 8)} + 1.0*I*A^{(2, 8)}_{zy}*\\gamma_e^{(2)}*\\hat{S}_z^{(2)}*\\hat{I}_y^{(2, 8)} + A^{(2, 8)}_{zz}*\\gamma_e^{(2)}*\\hat{S}_z^{(2)}*\\hat{I}_z^{(2, 8)} + A^{(2, 9)}_{xx}*\\gamma_e^{(2)}*\\hat{S}_x^{(2)}*\\hat{I}_x^{(2, 9)} + 1.0*I*A^{(2, 9)}_{xy}*\\gamma_e^{(2)}*\\hat{S}_x^{(2)}*\\hat{I}_y^{(2, 9)} + A^{(2, 9)}_{xz}*\\gamma_e^{(2)}*\\hat{S}_x^{(2)}*\\hat{I}_z^{(2, 9)} + 1.0*I*A^{(2, 9)}_{yx}*\\gamma_e^{(2)}*\\hat{S}_y^{(2)}*\\hat{I}_x^{(2, 9)} - A^{(2, 9)}_{yy}*\\gamma_e^{(2)}*\\hat{S}_y^{(2)}*\\hat{I}_y^{(2, 9)} + 1.0*I*A^{(2, 9)}_{yz}*\\gamma_e^{(2)}*\\hat{S}_y^{(2)}*\\hat{I}_z^{(2, 9)} + A^{(2, 9)}_{zx}*\\gamma_e^{(2)}*\\hat{S}_z^{(2)}*\\hat{I}_x^{(2, 9)} + 1.0*I*A^{(2, 9)}_{zy}*\\gamma_e^{(2)}*\\hat{S}_z^{(2)}*\\hat{I}_y^{(2, 9)} + A^{(2, 9)}_{zz}*\\gamma_e^{(2)}*\\hat{S}_z^{(2)}*\\hat{I}_z^{(2, 9)}"
      ]
     },
     "execution_count": 10,
     "metadata": {},
     "output_type": "execute_result"
    }
   ],
   "source": [
    "hyperfine = hyperfine.simplify()\n",
    "hyperfine.symbol"
   ]
  },
  {
   "cell_type": "markdown",
   "id": "89fa8620-01b4-40fa-8419-bf91373f65ff",
   "metadata": {},
   "source": [
    "## Zeeman Hamiltonian\n",
    "$$\n",
    "\\hat{H}_{\\text{Z}}\n",
    "= - \\vec{B} \\cdot \\sum_i \\left(\\gamma_{\\text{e}}\\vec{S}^{(i)} + \\left(\\sum_j\\gamma_{\\text{n}}^{(ij)}\\vec{I}^{(ij)}\\right)\\right)\n",
    "$$"
   ]
  },
  {
   "cell_type": "code",
   "execution_count": 11,
   "id": "4980005a-c969-4d4c-8dc2-683a2b67c036",
   "metadata": {},
   "outputs": [
    {
     "data": {
      "text/latex": [
       "$\\displaystyle - B_{z} \\gamma_e^{(1)} \\hat{S}_z^{(1)} - B_{z} \\gamma_e^{(2)} \\hat{S}_z^{(2)} - B_{z} \\gamma_n^{(1, 1)} \\hat{I}_z^{(1, 1)} - B_{z} \\gamma_n^{(1, 10)} \\hat{I}_z^{(1, 10)} - B_{z} \\gamma_n^{(1, 11)} \\hat{I}_z^{(1, 11)} - B_{z} \\gamma_n^{(1, 12)} \\hat{I}_z^{(1, 12)} - B_{z} \\gamma_n^{(1, 13)} \\hat{I}_z^{(1, 13)} - B_{z} \\gamma_n^{(1, 14)} \\hat{I}_z^{(1, 14)} - B_{z} \\gamma_n^{(1, 15)} \\hat{I}_z^{(1, 15)} - B_{z} \\gamma_n^{(1, 16)} \\hat{I}_z^{(1, 16)} - B_{z} \\gamma_n^{(1, 2)} \\hat{I}_z^{(1, 2)} - B_{z} \\gamma_n^{(1, 3)} \\hat{I}_z^{(1, 3)} - B_{z} \\gamma_n^{(1, 4)} \\hat{I}_z^{(1, 4)} - B_{z} \\gamma_n^{(1, 5)} \\hat{I}_z^{(1, 5)} - B_{z} \\gamma_n^{(1, 6)} \\hat{I}_z^{(1, 6)} - B_{z} \\gamma_n^{(1, 7)} \\hat{I}_z^{(1, 7)} - B_{z} \\gamma_n^{(1, 8)} \\hat{I}_z^{(1, 8)} - B_{z} \\gamma_n^{(1, 9)} \\hat{I}_z^{(1, 9)} - B_{z} \\gamma_n^{(2, 1)} \\hat{I}_z^{(2, 1)} - B_{z} \\gamma_n^{(2, 10)} \\hat{I}_z^{(2, 10)} - B_{z} \\gamma_n^{(2, 11)} \\hat{I}_z^{(2, 11)} - B_{z} \\gamma_n^{(2, 2)} \\hat{I}_z^{(2, 2)} - B_{z} \\gamma_n^{(2, 3)} \\hat{I}_z^{(2, 3)} - B_{z} \\gamma_n^{(2, 4)} \\hat{I}_z^{(2, 4)} - B_{z} \\gamma_n^{(2, 5)} \\hat{I}_z^{(2, 5)} - B_{z} \\gamma_n^{(2, 6)} \\hat{I}_z^{(2, 6)} - B_{z} \\gamma_n^{(2, 7)} \\hat{I}_z^{(2, 7)} - B_{z} \\gamma_n^{(2, 8)} \\hat{I}_z^{(2, 8)} - B_{z} \\gamma_n^{(2, 9)} \\hat{I}_z^{(2, 9)}$"
      ],
      "text/plain": [
       "-B_z*\\gamma_e^{(1)}*\\hat{S}_z^{(1)} - B_z*\\gamma_e^{(2)}*\\hat{S}_z^{(2)} - B_z*\\gamma_n^{(1, 1)}*\\hat{I}_z^{(1, 1)} - B_z*\\gamma_n^{(1, 10)}*\\hat{I}_z^{(1, 10)} - B_z*\\gamma_n^{(1, 11)}*\\hat{I}_z^{(1, 11)} - B_z*\\gamma_n^{(1, 12)}*\\hat{I}_z^{(1, 12)} - B_z*\\gamma_n^{(1, 13)}*\\hat{I}_z^{(1, 13)} - B_z*\\gamma_n^{(1, 14)}*\\hat{I}_z^{(1, 14)} - B_z*\\gamma_n^{(1, 15)}*\\hat{I}_z^{(1, 15)} - B_z*\\gamma_n^{(1, 16)}*\\hat{I}_z^{(1, 16)} - B_z*\\gamma_n^{(1, 2)}*\\hat{I}_z^{(1, 2)} - B_z*\\gamma_n^{(1, 3)}*\\hat{I}_z^{(1, 3)} - B_z*\\gamma_n^{(1, 4)}*\\hat{I}_z^{(1, 4)} - B_z*\\gamma_n^{(1, 5)}*\\hat{I}_z^{(1, 5)} - B_z*\\gamma_n^{(1, 6)}*\\hat{I}_z^{(1, 6)} - B_z*\\gamma_n^{(1, 7)}*\\hat{I}_z^{(1, 7)} - B_z*\\gamma_n^{(1, 8)}*\\hat{I}_z^{(1, 8)} - B_z*\\gamma_n^{(1, 9)}*\\hat{I}_z^{(1, 9)} - B_z*\\gamma_n^{(2, 1)}*\\hat{I}_z^{(2, 1)} - B_z*\\gamma_n^{(2, 10)}*\\hat{I}_z^{(2, 10)} - B_z*\\gamma_n^{(2, 11)}*\\hat{I}_z^{(2, 11)} - B_z*\\gamma_n^{(2, 2)}*\\hat{I}_z^{(2, 2)} - B_z*\\gamma_n^{(2, 3)}*\\hat{I}_z^{(2, 3)} - B_z*\\gamma_n^{(2, 4)}*\\hat{I}_z^{(2, 4)} - B_z*\\gamma_n^{(2, 5)}*\\hat{I}_z^{(2, 5)} - B_z*\\gamma_n^{(2, 6)}*\\hat{I}_z^{(2, 6)} - B_z*\\gamma_n^{(2, 7)}*\\hat{I}_z^{(2, 7)} - B_z*\\gamma_n^{(2, 8)}*\\hat{I}_z^{(2, 8)} - B_z*\\gamma_n^{(2, 9)}*\\hat{I}_z^{(2, 9)}"
      ]
     },
     "execution_count": 11,
     "metadata": {},
     "output_type": "execute_result"
    }
   ],
   "source": [
    "zeeman = SumOfProducts()\n",
    "\n",
    "xyz = \"xyz\"\n",
    "\n",
    "for k, (Sr_op, Ir_op) in enumerate(zip(Sr_ops, Ir_ops, strict=True)):\n",
    "    if B[k] == 0.0:\n",
    "        continue\n",
    "    r = xyz[k]\n",
    "    Br = Symbol(f\"B_{r}\")\n",
    "    subs[Br] = B[k] * SCALE\n",
    "    for i in range(len(sim.radicals)):\n",
    "        if k == 1:\n",
    "            zeeman += -1.0j * Br * g_ele_sym[i] * Sr_op[i]\n",
    "        else:\n",
    "            zeeman += -Br * g_ele_sym[i] * Sr_op[i]\n",
    "        for j in range(len(sim.molecules[i].nuclei)):\n",
    "            if k == 1:\n",
    "                zeeman += -1.0j * Br * g_nuc_sym[(i, j)] * Ir_op[(i, j)]\n",
    "            else:\n",
    "                zeeman += -Br * g_nuc_sym[(i, j)] * Ir_op[(i, j)]\n",
    "\n",
    "zeeman = zeeman.simplify()\n",
    "zeeman.symbol"
   ]
  },
  {
   "cell_type": "markdown",
   "id": "82c2446d-6bc7-483a-820a-6aa6f934f522",
   "metadata": {},
   "source": [
    "## Exchange Hamiltonian\n",
    "$$\n",
    "\\hat{H}_{\\text{J}}\n",
    "= J \\gamma_e \\left(\\vec{S}_1\\cdot\\vec{S_2}+\\frac{1}{2}\\hat{E}\\right)\n",
    "$$"
   ]
  },
  {
   "cell_type": "code",
   "execution_count": 12,
   "id": "5dbad2dc-37e0-4032-b2a8-9d0a6d6c412a",
   "metadata": {},
   "outputs": [
    {
     "data": {
      "text/latex": [
       "$\\displaystyle 0.5 J \\gamma_e^{(1)} \\hat{E} + 2 J \\gamma_e^{(1)} \\hat{S}_1\\cdot\\hat{S}_2$"
      ],
      "text/plain": [
       "0.5*J*\\gamma_e^{(1)}*\\hat{E} + 2*J*\\gamma_e^{(1)}*\\hat{S}_1\\cdot\\hat{S}_2"
      ]
     },
     "execution_count": 12,
     "metadata": {},
     "output_type": "execute_result"
    }
   ],
   "source": [
    "exchange = SumOfProducts()\n",
    "Jsym = Symbol(\"J\")\n",
    "subs[Jsym] = J * SCALE\n",
    "exchange += Jsym * g_ele_sym[0] * (2 * S1S2_op + 0.5 * E_op)\n",
    "exchange = exchange.simplify()\n",
    "exchange.symbol"
   ]
  },
  {
   "cell_type": "markdown",
   "id": "586ce902-d94d-45ba-a552-3d3532359618",
   "metadata": {},
   "source": [
    "## Dipolar Hamiltonian\n",
    "$$\n",
    "\\hat{H}_{\\text{J}}\n",
    "= \\vec{S}_1^\\top \\cdot D \\cdot \\vec{S_2}\n",
    "$$"
   ]
  },
  {
   "cell_type": "code",
   "execution_count": 13,
   "id": "54e6dc06-1495-4761-b4f6-fa4820229227",
   "metadata": {},
   "outputs": [
    {
     "data": {
      "text/latex": [
       "$\\displaystyle D_{xx} \\hat{S}_x^{(1)} \\hat{S}_x^{(2)} + 1.0 i D_{xy} \\hat{S}_x^{(1)} \\hat{S}_y^{(2)} + D_{xz} \\hat{S}_x^{(1)} \\hat{S}_z^{(2)} + 1.0 i D_{yx} \\hat{S}_y^{(1)} \\hat{S}_x^{(2)} - D_{yy} \\hat{S}_y^{(1)} \\hat{S}_y^{(2)} + 1.0 i D_{yz} \\hat{S}_y^{(1)} \\hat{S}_z^{(2)} + D_{zx} \\hat{S}_z^{(1)} \\hat{S}_x^{(2)} + 1.0 i D_{zy} \\hat{S}_z^{(1)} \\hat{S}_y^{(2)} + D_{zz} \\hat{S}_z^{(1)} \\hat{S}_z^{(2)}$"
      ],
      "text/plain": [
       "D_{xx}*\\hat{S}_x^{(1)}*\\hat{S}_x^{(2)} + 1.0*I*D_{xy}*\\hat{S}_x^{(1)}*\\hat{S}_y^{(2)} + D_{xz}*\\hat{S}_x^{(1)}*\\hat{S}_z^{(2)} + 1.0*I*D_{yx}*\\hat{S}_y^{(1)}*\\hat{S}_x^{(2)} - D_{yy}*\\hat{S}_y^{(1)}*\\hat{S}_y^{(2)} + 1.0*I*D_{yz}*\\hat{S}_y^{(1)}*\\hat{S}_z^{(2)} + D_{zx}*\\hat{S}_z^{(1)}*\\hat{S}_x^{(2)} + 1.0*I*D_{zy}*\\hat{S}_z^{(1)}*\\hat{S}_y^{(2)} + D_{zz}*\\hat{S}_z^{(1)}*\\hat{S}_z^{(2)}"
      ]
     },
     "execution_count": 13,
     "metadata": {},
     "output_type": "execute_result"
    }
   ],
   "source": [
    "dipolar = SumOfProducts()\n",
    "for k in range(3):\n",
    "    for l in range(3):\n",
    "        if D[k, l] == 0.0:\n",
    "            continue\n",
    "        else:\n",
    "            Dsym = Symbol(\"D_{\" + f\"{xyz[k]}\" + f\"{xyz[l]}\" + \"}\")\n",
    "            subs[Dsym] = D[k, l] * SCALE\n",
    "            if k == l == 1:\n",
    "                dipolar += -Dsym * Sr_ops[k][0] * Sr_ops[l][1]\n",
    "            elif k != 1 and l != 1:\n",
    "                dipolar += Dsym * Sr_ops[k][0] * Sr_ops[l][1]\n",
    "            else:\n",
    "                dipolar += 1.0j * Dsym * Sr_ops[k][0] * Sr_ops[l][1]\n",
    "dipolar = dipolar.simplify()\n",
    "dipolar.symbol"
   ]
  },
  {
   "cell_type": "markdown",
   "id": "08dd2e85-49ff-48f1-b618-87907da4c33c",
   "metadata": {},
   "source": [
    "Construct matrix product operator (MPO) for MPS propagation"
   ]
  },
  {
   "cell_type": "code",
   "execution_count": 14,
   "id": "33b309c1-aec3-4dba-a6e1-77e29a609faa",
   "metadata": {},
   "outputs": [],
   "source": [
    "hamiltonian = hyperfine + zeeman + exchange + dipolar\n",
    "hamiltonian = hamiltonian.simplify()\n",
    "am = AssignManager(hamiltonian)\n",
    "_ = am.assign()\n",
    "# display(*am.Wsym)\n",
    "mpo = am.numerical_mpo(subs=subs)"
   ]
  },
  {
   "cell_type": "markdown",
   "id": "e4a74374-8d4a-48c3-afc6-90aab734a299",
   "metadata": {},
   "source": [
    "## Mixed state (ensemble) simulation"
   ]
  },
  {
   "cell_type": "code",
   "execution_count": 15,
   "id": "f0248ac0-e862-48fb-a79b-43cfe60ed0d5",
   "metadata": {},
   "outputs": [],
   "source": [
    "backend = \"numpy\"\n",
    "m = 32  # Bond dimension\n",
    "Δt = 5.0e-10 / SCALE * units.au_in_fs  # dt = 0.5 ns\n",
    "\n",
    "spin_coherent = True  # Whether or not use coherent state sampling"
   ]
  },
  {
   "cell_type": "code",
   "execution_count": 16,
   "id": "93ad5ed7-c57c-4f30-bbe6-9623052627b4",
   "metadata": {},
   "outputs": [],
   "source": [
    "basis = []\n",
    "for nuc in sim.molecules[0].nuclei:\n",
    "    basis.append(Exciton(nstate=nuc.multiplicity))\n",
    "basis.append(Exciton(nstate=4))\n",
    "for nuc in sim.molecules[1].nuclei:\n",
    "    basis.append(Exciton(nstate=nuc.multiplicity))\n",
    "basinfo = BasInfo([basis], spf_info=None)\n",
    "\n",
    "nsite = len(basis)"
   ]
  },
  {
   "cell_type": "code",
   "execution_count": 17,
   "id": "d2f3301f-a1a4-4914-9da6-50bf045b2308",
   "metadata": {},
   "outputs": [],
   "source": [
    "op_dict = {\n",
    "    tuple([(isite, isite) for isite in range(nsite)]): TensorOperator(mpo=mpo)\n",
    "}\n",
    "H = TensorHamiltonian(\n",
    "    nsite, potential=[[op_dict]], kinetic=None, backend=backend\n",
    ")"
   ]
  },
  {
   "cell_type": "code",
   "execution_count": 18,
   "id": "692008c7-ef45-473a-be1b-054ee58f2f07",
   "metadata": {},
   "outputs": [],
   "source": [
    "def spin_coherenet_state(pair):\n",
    "    \"\"\"\n",
    "    J. Chem. Phys. 154, 084121 (2021); doi: 10.1063/5.0040519\n",
    "\n",
    "    Sample from spin coherent state\n",
    "    |Ω⁽ᴵ⁾⟩ = cos(θ/2)²ᴵ exp(tan(θ/2)exp(iϕ)Î₋) |I,I⟩\n",
    "    \"\"\"\n",
    "    hp = []\n",
    "    for isite in range(nsite):\n",
    "        if isite == ele_site:\n",
    "            hp.append([0, 0, 1, 0])  # Singlet\n",
    "        else:\n",
    "            mult = basis[isite].nstate\n",
    "            I = (mult - 1) / 2\n",
    "            nind = isite - int(ele_site <= isite)\n",
    "\n",
    "            theta = np.arccos(pair[2 * nind] * 2 - 1.0)\n",
    "            # same as\n",
    "            # theta = np.arcsin(pair[2*nind] * 2 - 1.0)\n",
    "            # if theta < 0:\n",
    "            #    theta += np.pi\n",
    "            phi = pair[2 * nind + 1] * 2 * np.pi\n",
    "            weights = np.zeros((mult, 1))\n",
    "            weights[0, 0] = 1.0\n",
    "            weights = (\n",
    "                (np.cos(theta / 2) ** (2 * I))\n",
    "                * expm(\n",
    "                    np.tan(theta / 2)\n",
    "                    * np.exp(1.0j * phi)\n",
    "                    * sim.nuclei[nind].pauli[\"m\"]\n",
    "                )\n",
    "                @ weights\n",
    "            )\n",
    "            assert (\n",
    "                abs((weights.conjugate().T @ weights).real[0, 0] - 1.0)\n",
    "                < 1.0e-14\n",
    "            ), (weights.conjugate().T @ weights)[0, 0]\n",
    "            # print(weights.conjugate().T @ weights, weights)\n",
    "            hp.append(weights.reshape(-1).tolist())\n",
    "    return hp\n",
    "\n",
    "\n",
    "def projection_state(pair):\n",
    "    \"\"\"\n",
    "    Sampel from projection state |M⟩\n",
    "    \"\"\"\n",
    "    init_nuc_spins = [\n",
    "        np.floor(pair[i] * basis[i + int(ele_site <= i)].nstate).astype(int)\n",
    "        for i in range(nsite - 1)\n",
    "    ]\n",
    "    hp = []\n",
    "    for isite in range(nsite):\n",
    "        if isite == ele_site:\n",
    "            hp.append([0, 0, 1, 0])  # Singlet\n",
    "        else:\n",
    "            weights = np.zeros(basis[isite].nstate)\n",
    "            weights[init_nuc_spins[isite - int(ele_site <= isite)]] = 1.0\n",
    "            hp.append(weights.tolist())\n",
    "    return hp\n",
    "\n",
    "\n",
    "def process_pair(pair, i, H):\n",
    "    operators = {\"hamiltonian\": H}\n",
    "    model = Model(basinfo=basinfo, operators=operators)\n",
    "    model.m_aux_max = m\n",
    "    if spin_coherent:\n",
    "        hp = spin_coherenet_state(pair)\n",
    "    else:\n",
    "        hp = projection_state(pair)\n",
    "    model.init_HartreeProduct = [hp]\n",
    "\n",
    "    jobname = f\"radicalpair_{i}\"\n",
    "    simulator = Simulator(\n",
    "        jobname=jobname, model=model, backend=backend, verbose=0\n",
    "    )\n",
    "    ener, wf = simulator.propagate(\n",
    "        reduced_density=(\n",
    "            [(ele_site, ele_site)],\n",
    "            2,\n",
    "        ),\n",
    "        maxstep=100,\n",
    "        stepsize=Δt,\n",
    "        autocorr=False,\n",
    "        energy=False,\n",
    "        norm=False,\n",
    "        populations=False,\n",
    "    )\n",
    "\n",
    "    with nc.Dataset(f\"{jobname}_prop/reduced_density.nc\", \"r\") as file:\n",
    "        density_data_real = file.variables[f\"rho_({ele_site}, {ele_site})_0\"][\n",
    "            :\n",
    "        ][\"real\"]\n",
    "        density_data_imag = file.variables[f\"rho_({ele_site}, {ele_site})_0\"][\n",
    "            :\n",
    "        ][\"imag\"]\n",
    "        time_data = file.variables[\"time\"][:]\n",
    "\n",
    "    density_data = np.array(density_data_real) + 1.0j * np.array(\n",
    "        density_data_imag\n",
    "    )\n",
    "    time_data = np.array(time_data)\n",
    "\n",
    "    return density_data, time_data"
   ]
  },
  {
   "cell_type": "markdown",
   "id": "889b2703-5d61-4b0b-bc47-078dc3507db0",
   "metadata": {},
   "source": [
    "Since nuclear spins are mixed state, one needs to consider ensemble of nuclear spin initial states. \n",
    "The calculation is performed in parallel for each trajectory.\n",
    "When the number of nuclear spins large, switch to quasi Monte Carlo approach. "
   ]
  },
  {
   "cell_type": "code",
   "execution_count": 19,
   "id": "54b2ebd4-bba0-4231-a7ac-ffcba206d6b4",
   "metadata": {
    "scrolled": true
   },
   "outputs": [],
   "source": [
    "futures = []\n",
    "density_sum = None\n",
    "\n",
    "# If number of nuclear spin is larger than 6,\n",
    "# initial states are randomly sampled by quasi Monte Carlo\n",
    "is_mc = len(basis) - 1 > 5\n",
    "\n",
    "if spin_coherent:\n",
    "    engine = qmc.Sobol(d=2 * (nsite - 1), scramble=True)\n",
    "else:\n",
    "    engine = qmc.Sobol(d=nsite - 1, scramble=True)\n",
    "pairs = engine.random(n=2**7)  # sample from [0, 1]^N hypercubic"
   ]
  },
  {
   "cell_type": "code",
   "execution_count": 20,
   "id": "7936efcb-8652-48fb-9352-fadffdd696f2",
   "metadata": {
    "scrolled": true
   },
   "outputs": [
    {
     "data": {
      "application/vnd.jupyter.widget-view+json": {
       "model_id": "69fe7156a5d0458e921552b0a802b537",
       "version_major": 2,
       "version_minor": 0
      },
      "text/plain": [
       "Processing pairs:   0%|          | 0/128 [00:00<?, ?it/s]"
      ]
     },
     "metadata": {},
     "output_type": "display_data"
    },
    {
     "name": "stderr",
     "output_type": "stream",
     "text": [
      "16:41:43 | INFO | Wave function is saved in wf_radicalpair_5.pkl\n",
      "16:41:43 | INFO | Wave function is saved in wf_radicalpair_1.pkl\n",
      "16:41:43 | INFO | Wave function is saved in wf_radicalpair_6.pkl\n",
      "16:41:43 | INFO | Wave function is saved in wf_radicalpair_0.pkl\n",
      "16:41:43 | INFO | Wave function is saved in wf_radicalpair_7.pkl\n",
      "16:41:43 | INFO | Wave function is saved in wf_radicalpair_3.pkl\n",
      "16:41:43 | INFO | Wave function is saved in wf_radicalpair_4.pkl\n",
      "16:41:43 | INFO | Wave function is saved in wf_radicalpair_2.pkl\n",
      "16:41:43 | INFO | Start initial step    0.000 [fs]\n",
      "16:41:43 | INFO | Start initial step    0.000 [fs]\n",
      "16:41:43 | INFO | Start initial step    0.000 [fs]\n",
      "16:41:43 | INFO | Start initial step    0.000 [fs]\n",
      "16:41:43 | INFO | Start initial step    0.000 [fs]\n",
      "16:41:43 | INFO | Start initial step    0.000 [fs]\n",
      "16:41:43 | INFO | Start initial step    0.000 [fs]\n",
      "16:41:43 | INFO | Start initial step    0.000 [fs]\n"
     ]
    },
    {
     "data": {
      "application/vnd.jupyter.widget-view+json": {
       "model_id": "0a2a8c5a39d144c8882d7e51641030da",
       "version_major": 2,
       "version_minor": 0
      },
      "text/plain": [
       "  0%|          | 0/100 [00:00<?, ?it/s]"
      ]
     },
     "metadata": {},
     "output_type": "display_data"
    },
    {
     "data": {
      "application/vnd.jupyter.widget-view+json": {
       "model_id": "8c08f22c1fe74d12b67a1da233cc68e2",
       "version_major": 2,
       "version_minor": 0
      },
      "text/plain": [
       "  0%|          | 0/100 [00:00<?, ?it/s]"
      ]
     },
     "metadata": {},
     "output_type": "display_data"
    },
    {
     "data": {
      "application/vnd.jupyter.widget-view+json": {
       "model_id": "73604d7e03d347e9abf3f4b58c023009",
       "version_major": 2,
       "version_minor": 0
      },
      "text/plain": [
       "  0%|          | 0/100 [00:00<?, ?it/s]"
      ]
     },
     "metadata": {},
     "output_type": "display_data"
    },
    {
     "data": {
      "application/vnd.jupyter.widget-view+json": {
       "model_id": "2aae10683ba14359962d7fa8190e9c72",
       "version_major": 2,
       "version_minor": 0
      },
      "text/plain": [
       "  0%|          | 0/100 [00:00<?, ?it/s]"
      ]
     },
     "metadata": {},
     "output_type": "display_data"
    },
    {
     "data": {
      "application/vnd.jupyter.widget-view+json": {
       "model_id": "745ff024cd9749d6b7fd836f95f5aed8",
       "version_major": 2,
       "version_minor": 0
      },
      "text/plain": [
       "  0%|          | 0/100 [00:00<?, ?it/s]"
      ]
     },
     "metadata": {},
     "output_type": "display_data"
    },
    {
     "data": {
      "application/vnd.jupyter.widget-view+json": {
       "model_id": "186f79743c8c418597d571bd45126391",
       "version_major": 2,
       "version_minor": 0
      },
      "text/plain": [
       "  0%|          | 0/100 [00:00<?, ?it/s]"
      ]
     },
     "metadata": {},
     "output_type": "display_data"
    },
    {
     "data": {
      "application/vnd.jupyter.widget-view+json": {
       "model_id": "dc986aa428794db4bec4f61f5e96e3f5",
       "version_major": 2,
       "version_minor": 0
      },
      "text/plain": [
       "  0%|          | 0/100 [00:00<?, ?it/s]"
      ]
     },
     "metadata": {},
     "output_type": "display_data"
    },
    {
     "data": {
      "application/vnd.jupyter.widget-view+json": {
       "model_id": "7ba6d8ce64da413296413d70de5d46a0",
       "version_major": 2,
       "version_minor": 0
      },
      "text/plain": [
       "  0%|          | 0/100 [00:00<?, ?it/s]"
      ]
     },
     "metadata": {},
     "output_type": "display_data"
    },
    {
     "name": "stderr",
     "output_type": "stream",
     "text": [
      "16:41:44 | INFO | End     0 step; propagated    0.012 [fs]; AVG Krylov iteration: 5.93\n",
      "16:41:44 | INFO | End     0 step; propagated    0.012 [fs]; AVG Krylov iteration: 5.93\n",
      "16:41:44 | INFO | End     0 step; propagated    0.012 [fs]; AVG Krylov iteration: 5.93\n",
      "16:41:44 | INFO | End     0 step; propagated    0.012 [fs]; AVG Krylov iteration: 6.04\n",
      "16:41:44 | INFO | End     0 step; propagated    0.012 [fs]; AVG Krylov iteration: 6.11\n",
      "16:41:44 | INFO | End     0 step; propagated    0.012 [fs]; AVG Krylov iteration: 5.93\n",
      "16:41:44 | INFO | End     0 step; propagated    0.012 [fs]; AVG Krylov iteration: 6.75\n",
      "16:41:44 | INFO | End     0 step; propagated    0.012 [fs]; AVG Krylov iteration: 6.54\n",
      "16:42:14 | INFO | End    99 step; propagated    1.197 [fs]; AVG Krylov iteration: 5.82\n",
      "16:42:14 | INFO | End simulation and save wavefunction\n",
      "16:42:14 | INFO | Wave function is saved in wf_radicalpair_4.pkl\n",
      "16:42:15 | INFO | Wave function is saved in wf_radicalpair_8.pkl\n",
      "16:42:15 | INFO | Start initial step    0.000 [fs]\n"
     ]
    },
    {
     "data": {
      "application/vnd.jupyter.widget-view+json": {
       "model_id": "e16002d86cdb4540bb09142f058e6f9d",
       "version_major": 2,
       "version_minor": 0
      },
      "text/plain": [
       "  0%|          | 0/100 [00:00<?, ?it/s]"
      ]
     },
     "metadata": {},
     "output_type": "display_data"
    },
    {
     "name": "stderr",
     "output_type": "stream",
     "text": [
      "16:42:15 | INFO | End    99 step; propagated    1.197 [fs]; AVG Krylov iteration: 5.79\n",
      "16:42:15 | INFO | End simulation and save wavefunction\n",
      "16:42:15 | INFO | Wave function is saved in wf_radicalpair_2.pkl\n",
      "16:42:15 | INFO | Wave function is saved in wf_radicalpair_9.pkl\n",
      "16:42:15 | INFO | Start initial step    0.000 [fs]\n"
     ]
    },
    {
     "data": {
      "application/vnd.jupyter.widget-view+json": {
       "model_id": "2650912af1d6411cb72c9339d8e65e5a",
       "version_major": 2,
       "version_minor": 0
      },
      "text/plain": [
       "  0%|          | 0/100 [00:00<?, ?it/s]"
      ]
     },
     "metadata": {},
     "output_type": "display_data"
    },
    {
     "name": "stderr",
     "output_type": "stream",
     "text": [
      "16:42:15 | INFO | End     0 step; propagated    0.012 [fs]; AVG Krylov iteration: 5.93\n",
      "16:42:15 | INFO | End    99 step; propagated    1.197 [fs]; AVG Krylov iteration: 5.82\n",
      "16:42:15 | INFO | End simulation and save wavefunction\n",
      "16:42:15 | INFO | Wave function is saved in wf_radicalpair_0.pkl\n",
      "16:42:15 | INFO | Wave function is saved in wf_radicalpair_10.pkl\n",
      "16:42:15 | INFO | Start initial step    0.000 [fs]\n",
      "16:42:15 | INFO | End    99 step; propagated    1.197 [fs]; AVG Krylov iteration: 5.93\n",
      "16:42:15 | INFO | End simulation and save wavefunction\n"
     ]
    },
    {
     "data": {
      "application/vnd.jupyter.widget-view+json": {
       "model_id": "7479e8868c504ca1bbe59f5561676c2b",
       "version_major": 2,
       "version_minor": 0
      },
      "text/plain": [
       "  0%|          | 0/100 [00:00<?, ?it/s]"
      ]
     },
     "metadata": {},
     "output_type": "display_data"
    },
    {
     "name": "stderr",
     "output_type": "stream",
     "text": [
      "16:42:15 | INFO | End     0 step; propagated    0.012 [fs]; AVG Krylov iteration: 6.21\n",
      "16:42:15 | INFO | Wave function is saved in wf_radicalpair_3.pkl\n",
      "16:42:15 | INFO | Wave function is saved in wf_radicalpair_11.pkl\n",
      "16:42:15 | INFO | Start initial step    0.000 [fs]\n"
     ]
    },
    {
     "data": {
      "application/vnd.jupyter.widget-view+json": {
       "model_id": "f0d65516a9a94ff8ba10c8d6b044cd97",
       "version_major": 2,
       "version_minor": 0
      },
      "text/plain": [
       "  0%|          | 0/100 [00:00<?, ?it/s]"
      ]
     },
     "metadata": {},
     "output_type": "display_data"
    },
    {
     "name": "stderr",
     "output_type": "stream",
     "text": [
      "16:42:15 | INFO | End     0 step; propagated    0.012 [fs]; AVG Krylov iteration: 6.46\n",
      "16:42:15 | INFO | End     0 step; propagated    0.012 [fs]; AVG Krylov iteration: 5.93\n",
      "16:42:16 | INFO | End    99 step; propagated    1.197 [fs]; AVG Krylov iteration: 5.96\n",
      "16:42:16 | INFO | End simulation and save wavefunction\n",
      "16:42:16 | INFO | Wave function is saved in wf_radicalpair_1.pkl\n",
      "16:42:16 | INFO | Wave function is saved in wf_radicalpair_12.pkl\n",
      "16:42:16 | INFO | Start initial step    0.000 [fs]\n"
     ]
    },
    {
     "data": {
      "application/vnd.jupyter.widget-view+json": {
       "model_id": "dcfee413c7a4497a9ed829610b4b7473",
       "version_major": 2,
       "version_minor": 0
      },
      "text/plain": [
       "  0%|          | 0/100 [00:00<?, ?it/s]"
      ]
     },
     "metadata": {},
     "output_type": "display_data"
    },
    {
     "name": "stderr",
     "output_type": "stream",
     "text": [
      "16:42:17 | INFO | End     0 step; propagated    0.012 [fs]; AVG Krylov iteration: 6.25\n",
      "16:42:17 | INFO | End    99 step; propagated    1.197 [fs]; AVG Krylov iteration: 6.32\n",
      "16:42:17 | INFO | End simulation and save wavefunction\n",
      "16:42:17 | INFO | Wave function is saved in wf_radicalpair_7.pkl\n",
      "16:42:17 | INFO | Wave function is saved in wf_radicalpair_13.pkl\n",
      "16:42:17 | INFO | Start initial step    0.000 [fs]\n"
     ]
    },
    {
     "data": {
      "application/vnd.jupyter.widget-view+json": {
       "model_id": "d13d8de580a74042aac25ca4338c357c",
       "version_major": 2,
       "version_minor": 0
      },
      "text/plain": [
       "  0%|          | 0/100 [00:00<?, ?it/s]"
      ]
     },
     "metadata": {},
     "output_type": "display_data"
    },
    {
     "name": "stderr",
     "output_type": "stream",
     "text": [
      "16:42:17 | INFO | End    99 step; propagated    1.197 [fs]; AVG Krylov iteration: 6.46\n",
      "16:42:17 | INFO | End simulation and save wavefunction\n",
      "16:42:17 | INFO | Wave function is saved in wf_radicalpair_6.pkl\n",
      "16:42:17 | INFO | Wave function is saved in wf_radicalpair_14.pkl\n",
      "16:42:17 | INFO | Start initial step    0.000 [fs]\n"
     ]
    },
    {
     "data": {
      "application/vnd.jupyter.widget-view+json": {
       "model_id": "3b5445a2ec704d87a504b3ca7f3a9f60",
       "version_major": 2,
       "version_minor": 0
      },
      "text/plain": [
       "  0%|          | 0/100 [00:00<?, ?it/s]"
      ]
     },
     "metadata": {},
     "output_type": "display_data"
    },
    {
     "name": "stderr",
     "output_type": "stream",
     "text": [
      "16:42:17 | INFO | End     0 step; propagated    0.012 [fs]; AVG Krylov iteration: 6.79\n",
      "16:42:17 | INFO | End    99 step; propagated    1.197 [fs]; AVG Krylov iteration: 6.43\n",
      "16:42:17 | INFO | End simulation and save wavefunction\n",
      "16:42:17 | INFO | Wave function is saved in wf_radicalpair_5.pkl\n",
      "16:42:17 | INFO | Wave function is saved in wf_radicalpair_15.pkl\n",
      "16:42:17 | INFO | Start initial step    0.000 [fs]\n"
     ]
    },
    {
     "data": {
      "application/vnd.jupyter.widget-view+json": {
       "model_id": "4da7a92e2dd04f8e821647f871fafb03",
       "version_major": 2,
       "version_minor": 0
      },
      "text/plain": [
       "  0%|          | 0/100 [00:00<?, ?it/s]"
      ]
     },
     "metadata": {},
     "output_type": "display_data"
    },
    {
     "name": "stderr",
     "output_type": "stream",
     "text": [
      "16:42:17 | INFO | End     0 step; propagated    0.012 [fs]; AVG Krylov iteration: 5.93\n",
      "16:42:18 | INFO | End     0 step; propagated    0.012 [fs]; AVG Krylov iteration: 5.93\n",
      "16:42:46 | INFO | End    99 step; propagated    1.197 [fs]; AVG Krylov iteration: 5.82\n",
      "16:42:46 | INFO | End simulation and save wavefunction\n",
      "16:42:46 | INFO | Wave function is saved in wf_radicalpair_8.pkl\n",
      "16:42:46 | INFO | Wave function is saved in wf_radicalpair_16.pkl\n",
      "16:42:46 | INFO | Start initial step    0.000 [fs]\n"
     ]
    },
    {
     "data": {
      "application/vnd.jupyter.widget-view+json": {
       "model_id": "25afdf416d74458da66d731de26698eb",
       "version_major": 2,
       "version_minor": 0
      },
      "text/plain": [
       "  0%|          | 0/100 [00:00<?, ?it/s]"
      ]
     },
     "metadata": {},
     "output_type": "display_data"
    },
    {
     "name": "stderr",
     "output_type": "stream",
     "text": [
      "16:42:46 | INFO | End     0 step; propagated    0.012 [fs]; AVG Krylov iteration: 5.93\n",
      "16:42:46 | INFO | End    99 step; propagated    1.197 [fs]; AVG Krylov iteration: 5.86\n",
      "16:42:46 | INFO | End simulation and save wavefunction\n",
      "16:42:46 | INFO | Wave function is saved in wf_radicalpair_11.pkl\n",
      "16:42:46 | INFO | Wave function is saved in wf_radicalpair_17.pkl\n",
      "16:42:46 | INFO | Start initial step    0.000 [fs]\n"
     ]
    },
    {
     "data": {
      "application/vnd.jupyter.widget-view+json": {
       "model_id": "c24da7c472544602bb54dcda038c783c",
       "version_major": 2,
       "version_minor": 0
      },
      "text/plain": [
       "  0%|          | 0/100 [00:00<?, ?it/s]"
      ]
     },
     "metadata": {},
     "output_type": "display_data"
    },
    {
     "name": "stderr",
     "output_type": "stream",
     "text": [
      "16:42:47 | INFO | End     0 step; propagated    0.012 [fs]; AVG Krylov iteration: 6.00\n",
      "16:42:47 | INFO | End    99 step; propagated    1.197 [fs]; AVG Krylov iteration: 5.93\n",
      "16:42:47 | INFO | End simulation and save wavefunction\n",
      "16:42:47 | INFO | Wave function is saved in wf_radicalpair_9.pkl\n",
      "16:42:47 | INFO | Wave function is saved in wf_radicalpair_18.pkl\n",
      "16:42:47 | INFO | Start initial step    0.000 [fs]\n"
     ]
    },
    {
     "data": {
      "application/vnd.jupyter.widget-view+json": {
       "model_id": "db9cfce3a4f04e2ea0de0ea9aaa4f3a3",
       "version_major": 2,
       "version_minor": 0
      },
      "text/plain": [
       "  0%|          | 0/100 [00:00<?, ?it/s]"
      ]
     },
     "metadata": {},
     "output_type": "display_data"
    },
    {
     "name": "stderr",
     "output_type": "stream",
     "text": [
      "16:42:47 | INFO | End     0 step; propagated    0.012 [fs]; AVG Krylov iteration: 5.93\n",
      "16:42:48 | INFO | End    99 step; propagated    1.197 [fs]; AVG Krylov iteration: 6.29\n",
      "16:42:48 | INFO | End simulation and save wavefunction\n",
      "16:42:48 | INFO | Wave function is saved in wf_radicalpair_10.pkl\n",
      "16:42:48 | INFO | Wave function is saved in wf_radicalpair_19.pkl\n",
      "16:42:48 | INFO | Start initial step    0.000 [fs]\n"
     ]
    },
    {
     "data": {
      "application/vnd.jupyter.widget-view+json": {
       "model_id": "1ef41446cd5b4ce6918016f7944a026d",
       "version_major": 2,
       "version_minor": 0
      },
      "text/plain": [
       "  0%|          | 0/100 [00:00<?, ?it/s]"
      ]
     },
     "metadata": {},
     "output_type": "display_data"
    },
    {
     "name": "stderr",
     "output_type": "stream",
     "text": [
      "16:42:48 | INFO | End     0 step; propagated    0.012 [fs]; AVG Krylov iteration: 5.86\n",
      "16:42:48 | INFO | End    99 step; propagated    1.197 [fs]; AVG Krylov iteration: 5.82\n",
      "16:42:48 | INFO | End simulation and save wavefunction\n",
      "16:42:48 | INFO | Wave function is saved in wf_radicalpair_15.pkl\n",
      "16:42:48 | INFO | Wave function is saved in wf_radicalpair_20.pkl\n",
      "16:42:48 | INFO | Start initial step    0.000 [fs]\n"
     ]
    },
    {
     "data": {
      "application/vnd.jupyter.widget-view+json": {
       "model_id": "421dbb1333c2488a947376d097c45708",
       "version_major": 2,
       "version_minor": 0
      },
      "text/plain": [
       "  0%|          | 0/100 [00:00<?, ?it/s]"
      ]
     },
     "metadata": {},
     "output_type": "display_data"
    },
    {
     "name": "stderr",
     "output_type": "stream",
     "text": [
      "16:42:48 | INFO | End    99 step; propagated    1.197 [fs]; AVG Krylov iteration: 6.32\n",
      "16:42:48 | INFO | End simulation and save wavefunction\n",
      "16:42:48 | INFO | Wave function is saved in wf_radicalpair_12.pkl\n",
      "16:42:48 | INFO | Wave function is saved in wf_radicalpair_21.pkl\n",
      "16:42:48 | INFO | Start initial step    0.000 [fs]\n"
     ]
    },
    {
     "data": {
      "application/vnd.jupyter.widget-view+json": {
       "model_id": "64cdab58a8054fe39c77d3682fe56e34",
       "version_major": 2,
       "version_minor": 0
      },
      "text/plain": [
       "  0%|          | 0/100 [00:00<?, ?it/s]"
      ]
     },
     "metadata": {},
     "output_type": "display_data"
    },
    {
     "name": "stderr",
     "output_type": "stream",
     "text": [
      "16:42:49 | INFO | End    99 step; propagated    1.197 [fs]; AVG Krylov iteration: 5.86\n",
      "16:42:49 | INFO | End simulation and save wavefunction\n",
      "16:42:49 | INFO | Wave function is saved in wf_radicalpair_14.pkl\n",
      "16:42:49 | INFO | Wave function is saved in wf_radicalpair_22.pkl\n",
      "16:42:49 | INFO | Start initial step    0.000 [fs]\n"
     ]
    },
    {
     "data": {
      "application/vnd.jupyter.widget-view+json": {
       "model_id": "980b94d0f1824df4a8d6e6041af254fb",
       "version_major": 2,
       "version_minor": 0
      },
      "text/plain": [
       "  0%|          | 0/100 [00:00<?, ?it/s]"
      ]
     },
     "metadata": {},
     "output_type": "display_data"
    },
    {
     "name": "stderr",
     "output_type": "stream",
     "text": [
      "16:42:49 | INFO | End     0 step; propagated    0.012 [fs]; AVG Krylov iteration: 6.39\n",
      "16:42:49 | INFO | End     0 step; propagated    0.012 [fs]; AVG Krylov iteration: 6.25\n",
      "16:42:49 | INFO | End     0 step; propagated    0.012 [fs]; AVG Krylov iteration: 6.54\n",
      "16:42:50 | INFO | End    99 step; propagated    1.197 [fs]; AVG Krylov iteration: 6.71\n",
      "16:42:50 | INFO | End simulation and save wavefunction\n",
      "16:42:50 | INFO | Wave function is saved in wf_radicalpair_13.pkl\n",
      "16:42:50 | INFO | Wave function is saved in wf_radicalpair_23.pkl\n",
      "16:42:50 | INFO | Start initial step    0.000 [fs]\n"
     ]
    },
    {
     "data": {
      "application/vnd.jupyter.widget-view+json": {
       "model_id": "128ea00a554048a0a77d7e0b77640c4e",
       "version_major": 2,
       "version_minor": 0
      },
      "text/plain": [
       "  0%|          | 0/100 [00:00<?, ?it/s]"
      ]
     },
     "metadata": {},
     "output_type": "display_data"
    },
    {
     "name": "stderr",
     "output_type": "stream",
     "text": [
      "16:42:51 | INFO | End     0 step; propagated    0.012 [fs]; AVG Krylov iteration: 5.93\n",
      "16:43:17 | INFO | End    99 step; propagated    1.197 [fs]; AVG Krylov iteration: 5.79\n",
      "16:43:17 | INFO | End simulation and save wavefunction\n",
      "16:43:17 | INFO | Wave function is saved in wf_radicalpair_16.pkl\n",
      "16:43:17 | INFO | Wave function is saved in wf_radicalpair_24.pkl\n",
      "16:43:17 | INFO | Start initial step    0.000 [fs]\n"
     ]
    },
    {
     "data": {
      "application/vnd.jupyter.widget-view+json": {
       "model_id": "fa90f4fcab534bb0b62251203bb5bdd6",
       "version_major": 2,
       "version_minor": 0
      },
      "text/plain": [
       "  0%|          | 0/100 [00:00<?, ?it/s]"
      ]
     },
     "metadata": {},
     "output_type": "display_data"
    },
    {
     "name": "stderr",
     "output_type": "stream",
     "text": [
      "16:43:17 | INFO | End     0 step; propagated    0.012 [fs]; AVG Krylov iteration: 5.93\n",
      "16:43:18 | INFO | End    99 step; propagated    1.197 [fs]; AVG Krylov iteration: 5.89\n",
      "16:43:18 | INFO | End simulation and save wavefunction\n",
      "16:43:18 | INFO | Wave function is saved in wf_radicalpair_18.pkl\n",
      "16:43:18 | INFO | End    99 step; propagated    1.197 [fs]; AVG Krylov iteration: 5.86\n",
      "16:43:18 | INFO | End simulation and save wavefunction\n",
      "16:43:18 | INFO | Wave function is saved in wf_radicalpair_25.pkl\n",
      "16:43:18 | INFO | Start initial step    0.000 [fs]\n",
      "16:43:18 | INFO | Wave function is saved in wf_radicalpair_17.pkl\n"
     ]
    },
    {
     "data": {
      "application/vnd.jupyter.widget-view+json": {
       "model_id": "a75316eaff144f88a995a8b61137d70d",
       "version_major": 2,
       "version_minor": 0
      },
      "text/plain": [
       "  0%|          | 0/100 [00:00<?, ?it/s]"
      ]
     },
     "metadata": {},
     "output_type": "display_data"
    },
    {
     "name": "stderr",
     "output_type": "stream",
     "text": [
      "16:43:18 | INFO | Wave function is saved in wf_radicalpair_26.pkl\n",
      "16:43:18 | INFO | Start initial step    0.000 [fs]\n"
     ]
    },
    {
     "data": {
      "application/vnd.jupyter.widget-view+json": {
       "model_id": "40176df4b9d44e4e8bfa82ffe0ae3c05",
       "version_major": 2,
       "version_minor": 0
      },
      "text/plain": [
       "  0%|          | 0/100 [00:00<?, ?it/s]"
      ]
     },
     "metadata": {},
     "output_type": "display_data"
    },
    {
     "name": "stderr",
     "output_type": "stream",
     "text": [
      "16:43:19 | INFO | End     0 step; propagated    0.012 [fs]; AVG Krylov iteration: 6.32\n",
      "16:43:19 | INFO | End     0 step; propagated    0.012 [fs]; AVG Krylov iteration: 5.89\n",
      "16:43:19 | INFO | End    99 step; propagated    1.197 [fs]; AVG Krylov iteration: 5.82\n",
      "16:43:19 | INFO | End simulation and save wavefunction\n",
      "16:43:19 | INFO | Wave function is saved in wf_radicalpair_19.pkl\n",
      "16:43:19 | INFO | Wave function is saved in wf_radicalpair_27.pkl\n",
      "16:43:19 | INFO | Start initial step    0.000 [fs]\n"
     ]
    },
    {
     "data": {
      "application/vnd.jupyter.widget-view+json": {
       "model_id": "26e315484dba43c09473ee2728c1ff15",
       "version_major": 2,
       "version_minor": 0
      },
      "text/plain": [
       "  0%|          | 0/100 [00:00<?, ?it/s]"
      ]
     },
     "metadata": {},
     "output_type": "display_data"
    },
    {
     "name": "stderr",
     "output_type": "stream",
     "text": [
      "16:43:19 | INFO | End     0 step; propagated    0.012 [fs]; AVG Krylov iteration: 5.93\n",
      "16:43:21 | INFO | End    99 step; propagated    1.197 [fs]; AVG Krylov iteration: 6.11\n",
      "16:43:21 | INFO | End simulation and save wavefunction\n",
      "16:43:21 | INFO | Wave function is saved in wf_radicalpair_21.pkl\n",
      "16:43:21 | INFO | Wave function is saved in wf_radicalpair_28.pkl\n",
      "16:43:21 | INFO | Start initial step    0.000 [fs]\n"
     ]
    },
    {
     "data": {
      "application/vnd.jupyter.widget-view+json": {
       "model_id": "a1020e4eac1a4e2b87907e85aefe19d7",
       "version_major": 2,
       "version_minor": 0
      },
      "text/plain": [
       "  0%|          | 0/100 [00:00<?, ?it/s]"
      ]
     },
     "metadata": {},
     "output_type": "display_data"
    },
    {
     "name": "stderr",
     "output_type": "stream",
     "text": [
      "16:43:21 | INFO | End    99 step; propagated    1.197 [fs]; AVG Krylov iteration: 6.25\n",
      "16:43:21 | INFO | End simulation and save wavefunction\n",
      "16:43:21 | INFO | Wave function is saved in wf_radicalpair_20.pkl\n",
      "16:43:21 | INFO | Wave function is saved in wf_radicalpair_29.pkl\n",
      "16:43:21 | INFO | Start initial step    0.000 [fs]\n"
     ]
    },
    {
     "data": {
      "application/vnd.jupyter.widget-view+json": {
       "model_id": "78328076a6794e99aa3ac61f929eef28",
       "version_major": 2,
       "version_minor": 0
      },
      "text/plain": [
       "  0%|          | 0/100 [00:00<?, ?it/s]"
      ]
     },
     "metadata": {},
     "output_type": "display_data"
    },
    {
     "name": "stderr",
     "output_type": "stream",
     "text": [
      "16:43:21 | INFO | End     0 step; propagated    0.012 [fs]; AVG Krylov iteration: 6.82\n",
      "16:43:21 | INFO | End    99 step; propagated    1.197 [fs]; AVG Krylov iteration: 5.86\n",
      "16:43:21 | INFO | End simulation and save wavefunction\n",
      "16:43:21 | INFO | Wave function is saved in wf_radicalpair_23.pkl\n",
      "16:43:21 | INFO | Wave function is saved in wf_radicalpair_30.pkl\n",
      "16:43:21 | INFO | Start initial step    0.000 [fs]\n"
     ]
    },
    {
     "data": {
      "application/vnd.jupyter.widget-view+json": {
       "model_id": "95602d1b1cc647f3b9a4f21c29aef48a",
       "version_major": 2,
       "version_minor": 0
      },
      "text/plain": [
       "  0%|          | 0/100 [00:00<?, ?it/s]"
      ]
     },
     "metadata": {},
     "output_type": "display_data"
    },
    {
     "name": "stderr",
     "output_type": "stream",
     "text": [
      "16:43:21 | INFO | End     0 step; propagated    0.012 [fs]; AVG Krylov iteration: 6.79\n",
      "16:43:22 | INFO | End     0 step; propagated    0.012 [fs]; AVG Krylov iteration: 5.93\n",
      "16:43:22 | INFO | End    99 step; propagated    1.197 [fs]; AVG Krylov iteration: 6.21\n",
      "16:43:22 | INFO | End simulation and save wavefunction\n",
      "16:43:22 | INFO | Wave function is saved in wf_radicalpair_22.pkl\n",
      "16:43:22 | INFO | Wave function is saved in wf_radicalpair_31.pkl\n",
      "16:43:22 | INFO | Start initial step    0.000 [fs]\n"
     ]
    },
    {
     "data": {
      "application/vnd.jupyter.widget-view+json": {
       "model_id": "15788c5450fb4aaf8da9f37731a473e0",
       "version_major": 2,
       "version_minor": 0
      },
      "text/plain": [
       "  0%|          | 0/100 [00:00<?, ?it/s]"
      ]
     },
     "metadata": {},
     "output_type": "display_data"
    },
    {
     "name": "stderr",
     "output_type": "stream",
     "text": [
      "16:43:22 | INFO | End     0 step; propagated    0.012 [fs]; AVG Krylov iteration: 5.93\n",
      "16:43:50 | INFO | End    99 step; propagated    1.197 [fs]; AVG Krylov iteration: 5.86\n",
      "16:43:50 | INFO | End simulation and save wavefunction\n",
      "16:43:50 | INFO | Wave function is saved in wf_radicalpair_24.pkl\n",
      "16:43:50 | INFO | Wave function is saved in wf_radicalpair_32.pkl\n",
      "16:43:50 | INFO | Start initial step    0.000 [fs]\n"
     ]
    },
    {
     "data": {
      "application/vnd.jupyter.widget-view+json": {
       "model_id": "0d51dc74254e46c78acab47803ec623c",
       "version_major": 2,
       "version_minor": 0
      },
      "text/plain": [
       "  0%|          | 0/100 [00:00<?, ?it/s]"
      ]
     },
     "metadata": {},
     "output_type": "display_data"
    },
    {
     "name": "stderr",
     "output_type": "stream",
     "text": [
      "16:43:51 | INFO | End     0 step; propagated    0.012 [fs]; AVG Krylov iteration: 5.86\n",
      "16:43:53 | INFO | End    99 step; propagated    1.197 [fs]; AVG Krylov iteration: 5.75\n",
      "16:43:53 | INFO | End simulation and save wavefunction\n",
      "16:43:53 | INFO | Wave function is saved in wf_radicalpair_26.pkl\n",
      "16:43:53 | INFO | Wave function is saved in wf_radicalpair_33.pkl\n",
      "16:43:53 | INFO | Start initial step    0.000 [fs]\n"
     ]
    },
    {
     "data": {
      "application/vnd.jupyter.widget-view+json": {
       "model_id": "de4e0ec027e54c67a345cf64170e0f13",
       "version_major": 2,
       "version_minor": 0
      },
      "text/plain": [
       "  0%|          | 0/100 [00:00<?, ?it/s]"
      ]
     },
     "metadata": {},
     "output_type": "display_data"
    },
    {
     "name": "stderr",
     "output_type": "stream",
     "text": [
      "16:43:53 | INFO | End     0 step; propagated    0.012 [fs]; AVG Krylov iteration: 5.93\n",
      "16:43:53 | INFO | End    99 step; propagated    1.197 [fs]; AVG Krylov iteration: 5.82\n",
      "16:43:53 | INFO | End simulation and save wavefunction\n",
      "16:43:53 | INFO | Wave function is saved in wf_radicalpair_27.pkl\n",
      "16:43:53 | INFO | Wave function is saved in wf_radicalpair_34.pkl\n",
      "16:43:53 | INFO | Start initial step    0.000 [fs]\n"
     ]
    },
    {
     "data": {
      "application/vnd.jupyter.widget-view+json": {
       "model_id": "77129759521a4ed981aa4d6fab1a08f0",
       "version_major": 2,
       "version_minor": 0
      },
      "text/plain": [
       "  0%|          | 0/100 [00:00<?, ?it/s]"
      ]
     },
     "metadata": {},
     "output_type": "display_data"
    },
    {
     "name": "stderr",
     "output_type": "stream",
     "text": [
      "16:43:54 | INFO | End     0 step; propagated    0.012 [fs]; AVG Krylov iteration: 6.18\n",
      "16:43:54 | INFO | End    99 step; propagated    1.197 [fs]; AVG Krylov iteration: 6.18\n",
      "16:43:54 | INFO | End simulation and save wavefunction\n",
      "16:43:54 | INFO | Wave function is saved in wf_radicalpair_25.pkl\n",
      "16:43:54 | INFO | Wave function is saved in wf_radicalpair_35.pkl\n",
      "16:43:54 | INFO | Start initial step    0.000 [fs]\n"
     ]
    },
    {
     "data": {
      "application/vnd.jupyter.widget-view+json": {
       "model_id": "619e648a75de442e9934684952cdc11c",
       "version_major": 2,
       "version_minor": 0
      },
      "text/plain": [
       "  0%|          | 0/100 [00:00<?, ?it/s]"
      ]
     },
     "metadata": {},
     "output_type": "display_data"
    },
    {
     "name": "stderr",
     "output_type": "stream",
     "text": [
      "16:43:55 | INFO | End     0 step; propagated    0.012 [fs]; AVG Krylov iteration: 5.54\n",
      "16:43:56 | INFO | End    99 step; propagated    1.197 [fs]; AVG Krylov iteration: 5.79\n",
      "16:43:56 | INFO | End simulation and save wavefunction\n",
      "16:43:56 | INFO | Wave function is saved in wf_radicalpair_30.pkl\n",
      "16:43:56 | INFO | Wave function is saved in wf_radicalpair_36.pkl\n",
      "16:43:56 | INFO | Start initial step    0.000 [fs]\n"
     ]
    },
    {
     "data": {
      "application/vnd.jupyter.widget-view+json": {
       "model_id": "96ce3bb8a2bf455286631dfb42e035d2",
       "version_major": 2,
       "version_minor": 0
      },
      "text/plain": [
       "  0%|          | 0/100 [00:00<?, ?it/s]"
      ]
     },
     "metadata": {},
     "output_type": "display_data"
    },
    {
     "name": "stderr",
     "output_type": "stream",
     "text": [
      "16:43:56 | INFO | End     0 step; propagated    0.012 [fs]; AVG Krylov iteration: 5.86\n",
      "16:43:56 | INFO | End    99 step; propagated    1.197 [fs]; AVG Krylov iteration: 5.75\n",
      "16:43:56 | INFO | End simulation and save wavefunction\n",
      "16:43:56 | INFO | Wave function is saved in wf_radicalpair_31.pkl\n",
      "16:43:57 | INFO | Wave function is saved in wf_radicalpair_37.pkl\n",
      "16:43:57 | INFO | Start initial step    0.000 [fs]\n"
     ]
    },
    {
     "data": {
      "application/vnd.jupyter.widget-view+json": {
       "model_id": "8450ee1cd42a4a69865e3ded762c5a51",
       "version_major": 2,
       "version_minor": 0
      },
      "text/plain": [
       "  0%|          | 0/100 [00:00<?, ?it/s]"
      ]
     },
     "metadata": {},
     "output_type": "display_data"
    },
    {
     "name": "stderr",
     "output_type": "stream",
     "text": [
      "16:43:57 | INFO | End     0 step; propagated    0.012 [fs]; AVG Krylov iteration: 5.93\n",
      "16:43:58 | INFO | End    99 step; propagated    1.197 [fs]; AVG Krylov iteration: 6.46\n",
      "16:43:58 | INFO | End simulation and save wavefunction\n",
      "16:43:58 | INFO | Wave function is saved in wf_radicalpair_29.pkl\n",
      "16:43:58 | INFO | Wave function is saved in wf_radicalpair_38.pkl\n",
      "16:43:58 | INFO | Start initial step    0.000 [fs]\n"
     ]
    },
    {
     "data": {
      "application/vnd.jupyter.widget-view+json": {
       "model_id": "d77eb78bd1e4429eab2dd3774e8d21da",
       "version_major": 2,
       "version_minor": 0
      },
      "text/plain": [
       "  0%|          | 0/100 [00:00<?, ?it/s]"
      ]
     },
     "metadata": {},
     "output_type": "display_data"
    },
    {
     "name": "stderr",
     "output_type": "stream",
     "text": [
      "16:43:58 | INFO | End    99 step; propagated    1.197 [fs]; AVG Krylov iteration: 6.68\n",
      "16:43:58 | INFO | End simulation and save wavefunction\n",
      "16:43:58 | INFO | Wave function is saved in wf_radicalpair_28.pkl\n",
      "16:43:58 | INFO | Wave function is saved in wf_radicalpair_39.pkl\n",
      "16:43:58 | INFO | Start initial step    0.000 [fs]\n"
     ]
    },
    {
     "data": {
      "application/vnd.jupyter.widget-view+json": {
       "model_id": "3e7c352d5fb5442f9c374e6673d49d7c",
       "version_major": 2,
       "version_minor": 0
      },
      "text/plain": [
       "  0%|          | 0/100 [00:00<?, ?it/s]"
      ]
     },
     "metadata": {},
     "output_type": "display_data"
    },
    {
     "name": "stderr",
     "output_type": "stream",
     "text": [
      "16:43:58 | INFO | End     0 step; propagated    0.012 [fs]; AVG Krylov iteration: 5.93\n",
      "16:43:58 | INFO | End     0 step; propagated    0.012 [fs]; AVG Krylov iteration: 5.96\n",
      "16:44:23 | INFO | End    99 step; propagated    1.197 [fs]; AVG Krylov iteration: 5.71\n",
      "16:44:23 | INFO | End simulation and save wavefunction\n",
      "16:44:23 | INFO | Wave function is saved in wf_radicalpair_32.pkl\n",
      "16:44:23 | INFO | Wave function is saved in wf_radicalpair_40.pkl\n",
      "16:44:23 | INFO | Start initial step    0.000 [fs]\n"
     ]
    },
    {
     "data": {
      "application/vnd.jupyter.widget-view+json": {
       "model_id": "8dab40e077ef425ca1a1e6d6e959869d",
       "version_major": 2,
       "version_minor": 0
      },
      "text/plain": [
       "  0%|          | 0/100 [00:00<?, ?it/s]"
      ]
     },
     "metadata": {},
     "output_type": "display_data"
    },
    {
     "name": "stderr",
     "output_type": "stream",
     "text": [
      "16:44:23 | INFO | End     0 step; propagated    0.012 [fs]; AVG Krylov iteration: 5.93\n",
      "16:44:26 | INFO | End    99 step; propagated    1.197 [fs]; AVG Krylov iteration: 5.75\n",
      "16:44:26 | INFO | End simulation and save wavefunction\n",
      "16:44:26 | INFO | Wave function is saved in wf_radicalpair_33.pkl\n",
      "16:44:26 | INFO | Wave function is saved in wf_radicalpair_41.pkl\n",
      "16:44:26 | INFO | Start initial step    0.000 [fs]\n"
     ]
    },
    {
     "data": {
      "application/vnd.jupyter.widget-view+json": {
       "model_id": "983bbc41b54c41269bf80e5179909ee7",
       "version_major": 2,
       "version_minor": 0
      },
      "text/plain": [
       "  0%|          | 0/100 [00:00<?, ?it/s]"
      ]
     },
     "metadata": {},
     "output_type": "display_data"
    },
    {
     "name": "stderr",
     "output_type": "stream",
     "text": [
      "16:44:26 | INFO | End    99 step; propagated    1.197 [fs]; AVG Krylov iteration: 5.54\n",
      "16:44:26 | INFO | End simulation and save wavefunction\n",
      "16:44:26 | INFO | End     0 step; propagated    0.012 [fs]; AVG Krylov iteration: 5.86\n",
      "16:44:26 | INFO | Wave function is saved in wf_radicalpair_35.pkl\n",
      "16:44:26 | INFO | Wave function is saved in wf_radicalpair_42.pkl\n",
      "16:44:26 | INFO | Start initial step    0.000 [fs]\n"
     ]
    },
    {
     "data": {
      "application/vnd.jupyter.widget-view+json": {
       "model_id": "3a28936428734030a52f6e18f549a69a",
       "version_major": 2,
       "version_minor": 0
      },
      "text/plain": [
       "  0%|          | 0/100 [00:00<?, ?it/s]"
      ]
     },
     "metadata": {},
     "output_type": "display_data"
    },
    {
     "name": "stderr",
     "output_type": "stream",
     "text": [
      "16:44:26 | INFO | End     0 step; propagated    0.012 [fs]; AVG Krylov iteration: 6.25\n",
      "16:44:28 | INFO | End    99 step; propagated    1.197 [fs]; AVG Krylov iteration: 6.07\n",
      "16:44:28 | INFO | End simulation and save wavefunction\n",
      "16:44:28 | INFO | Wave function is saved in wf_radicalpair_34.pkl\n",
      "16:44:28 | INFO | Wave function is saved in wf_radicalpair_43.pkl\n",
      "16:44:28 | INFO | Start initial step    0.000 [fs]\n"
     ]
    },
    {
     "data": {
      "application/vnd.jupyter.widget-view+json": {
       "model_id": "6447256bd0b646a1b6f5b1595a89a6e0",
       "version_major": 2,
       "version_minor": 0
      },
      "text/plain": [
       "  0%|          | 0/100 [00:00<?, ?it/s]"
      ]
     },
     "metadata": {},
     "output_type": "display_data"
    },
    {
     "name": "stderr",
     "output_type": "stream",
     "text": [
      "16:44:28 | INFO | End     0 step; propagated    0.012 [fs]; AVG Krylov iteration: 5.93\n",
      "16:44:29 | INFO | End    99 step; propagated    1.197 [fs]; AVG Krylov iteration: 5.71\n",
      "16:44:29 | INFO | End simulation and save wavefunction\n",
      "16:44:29 | INFO | Wave function is saved in wf_radicalpair_36.pkl\n",
      "16:44:29 | INFO | Wave function is saved in wf_radicalpair_44.pkl\n",
      "16:44:29 | INFO | Start initial step    0.000 [fs]\n"
     ]
    },
    {
     "data": {
      "application/vnd.jupyter.widget-view+json": {
       "model_id": "a206ccc826834a0098924ce0eb60972b",
       "version_major": 2,
       "version_minor": 0
      },
      "text/plain": [
       "  0%|          | 0/100 [00:00<?, ?it/s]"
      ]
     },
     "metadata": {},
     "output_type": "display_data"
    },
    {
     "name": "stderr",
     "output_type": "stream",
     "text": [
      "16:44:29 | INFO | End    99 step; propagated    1.197 [fs]; AVG Krylov iteration: 5.71\n",
      "16:44:29 | INFO | End simulation and save wavefunction\n",
      "16:44:29 | INFO | End     0 step; propagated    0.012 [fs]; AVG Krylov iteration: 5.93\n",
      "16:44:29 | INFO | Wave function is saved in wf_radicalpair_37.pkl\n",
      "16:44:29 | INFO | Wave function is saved in wf_radicalpair_45.pkl\n",
      "16:44:29 | INFO | Start initial step    0.000 [fs]\n"
     ]
    },
    {
     "data": {
      "application/vnd.jupyter.widget-view+json": {
       "model_id": "cf9edf567c3345dbb9c6a71f58543213",
       "version_major": 2,
       "version_minor": 0
      },
      "text/plain": [
       "  0%|          | 0/100 [00:00<?, ?it/s]"
      ]
     },
     "metadata": {},
     "output_type": "display_data"
    },
    {
     "name": "stderr",
     "output_type": "stream",
     "text": [
      "16:44:30 | INFO | End     0 step; propagated    0.012 [fs]; AVG Krylov iteration: 6.82\n",
      "16:44:31 | INFO | End    99 step; propagated    1.197 [fs]; AVG Krylov iteration: 5.89\n",
      "16:44:31 | INFO | End simulation and save wavefunction\n",
      "16:44:31 | INFO | Wave function is saved in wf_radicalpair_38.pkl\n",
      "16:44:31 | INFO | Wave function is saved in wf_radicalpair_46.pkl\n",
      "16:44:31 | INFO | Start initial step    0.000 [fs]\n"
     ]
    },
    {
     "data": {
      "application/vnd.jupyter.widget-view+json": {
       "model_id": "0ba4d0adb2f34adc9ff5c46a5010d9c9",
       "version_major": 2,
       "version_minor": 0
      },
      "text/plain": [
       "  0%|          | 0/100 [00:00<?, ?it/s]"
      ]
     },
     "metadata": {},
     "output_type": "display_data"
    },
    {
     "name": "stderr",
     "output_type": "stream",
     "text": [
      "16:44:31 | INFO | End    99 step; propagated    1.197 [fs]; AVG Krylov iteration: 5.71\n",
      "16:44:31 | INFO | End simulation and save wavefunction\n",
      "16:44:31 | INFO | End     0 step; propagated    0.012 [fs]; AVG Krylov iteration: 5.93\n",
      "16:44:31 | INFO | Wave function is saved in wf_radicalpair_39.pkl\n",
      "16:44:31 | INFO | Wave function is saved in wf_radicalpair_47.pkl\n",
      "16:44:31 | INFO | Start initial step    0.000 [fs]\n"
     ]
    },
    {
     "data": {
      "application/vnd.jupyter.widget-view+json": {
       "model_id": "6804b655c43f4780966d35b5e3b00919",
       "version_major": 2,
       "version_minor": 0
      },
      "text/plain": [
       "  0%|          | 0/100 [00:00<?, ?it/s]"
      ]
     },
     "metadata": {},
     "output_type": "display_data"
    },
    {
     "name": "stderr",
     "output_type": "stream",
     "text": [
      "16:44:32 | INFO | End     0 step; propagated    0.012 [fs]; AVG Krylov iteration: 5.93\n",
      "16:44:58 | INFO | End    99 step; propagated    1.197 [fs]; AVG Krylov iteration: 5.75\n",
      "16:44:58 | INFO | End simulation and save wavefunction\n",
      "16:44:58 | INFO | Wave function is saved in wf_radicalpair_40.pkl\n",
      "16:44:58 | INFO | Wave function is saved in wf_radicalpair_48.pkl\n",
      "16:44:58 | INFO | Start initial step    0.000 [fs]\n"
     ]
    },
    {
     "data": {
      "application/vnd.jupyter.widget-view+json": {
       "model_id": "cfbcc14c2cbd445e95df0f5550657d91",
       "version_major": 2,
       "version_minor": 0
      },
      "text/plain": [
       "  0%|          | 0/100 [00:00<?, ?it/s]"
      ]
     },
     "metadata": {},
     "output_type": "display_data"
    },
    {
     "name": "stderr",
     "output_type": "stream",
     "text": [
      "16:44:58 | INFO | End     0 step; propagated    0.012 [fs]; AVG Krylov iteration: 5.93\n",
      "16:45:00 | INFO | End    99 step; propagated    1.197 [fs]; AVG Krylov iteration: 5.75\n",
      "16:45:00 | INFO | End simulation and save wavefunction\n",
      "16:45:00 | INFO | Wave function is saved in wf_radicalpair_41.pkl\n",
      "16:45:01 | INFO | Wave function is saved in wf_radicalpair_49.pkl\n",
      "16:45:01 | INFO | Start initial step    0.000 [fs]\n"
     ]
    },
    {
     "data": {
      "application/vnd.jupyter.widget-view+json": {
       "model_id": "66d61e605c0740408c425738ef401fa1",
       "version_major": 2,
       "version_minor": 0
      },
      "text/plain": [
       "  0%|          | 0/100 [00:00<?, ?it/s]"
      ]
     },
     "metadata": {},
     "output_type": "display_data"
    },
    {
     "name": "stderr",
     "output_type": "stream",
     "text": [
      "16:45:01 | INFO | End     0 step; propagated    0.012 [fs]; AVG Krylov iteration: 6.18\n",
      "16:45:02 | INFO | End    99 step; propagated    1.197 [fs]; AVG Krylov iteration: 6.04\n",
      "16:45:02 | INFO | End simulation and save wavefunction\n",
      "16:45:02 | INFO | Wave function is saved in wf_radicalpair_42.pkl\n",
      "16:45:02 | INFO | Wave function is saved in wf_radicalpair_50.pkl\n",
      "16:45:02 | INFO | Start initial step    0.000 [fs]\n"
     ]
    },
    {
     "data": {
      "application/vnd.jupyter.widget-view+json": {
       "model_id": "282e6fbec2a14c9aa67f3b3187952afb",
       "version_major": 2,
       "version_minor": 0
      },
      "text/plain": [
       "  0%|          | 0/100 [00:00<?, ?it/s]"
      ]
     },
     "metadata": {},
     "output_type": "display_data"
    },
    {
     "name": "stderr",
     "output_type": "stream",
     "text": [
      "16:45:02 | INFO | End    99 step; propagated    1.197 [fs]; AVG Krylov iteration: 5.86\n",
      "16:45:02 | INFO | End simulation and save wavefunction\n",
      "16:45:02 | INFO | Wave function is saved in wf_radicalpair_43.pkl\n",
      "16:45:02 | INFO | End     0 step; propagated    0.012 [fs]; AVG Krylov iteration: 6.71\n",
      "16:45:02 | INFO | Wave function is saved in wf_radicalpair_51.pkl\n",
      "16:45:02 | INFO | Start initial step    0.000 [fs]\n"
     ]
    },
    {
     "data": {
      "application/vnd.jupyter.widget-view+json": {
       "model_id": "eeaf500e12da44879c0319d1268c37f8",
       "version_major": 2,
       "version_minor": 0
      },
      "text/plain": [
       "  0%|          | 0/100 [00:00<?, ?it/s]"
      ]
     },
     "metadata": {},
     "output_type": "display_data"
    },
    {
     "name": "stderr",
     "output_type": "stream",
     "text": [
      "16:45:03 | INFO | End     0 step; propagated    0.012 [fs]; AVG Krylov iteration: 5.86\n",
      "16:45:03 | INFO | End    99 step; propagated    1.197 [fs]; AVG Krylov iteration: 5.82\n",
      "16:45:03 | INFO | End simulation and save wavefunction\n",
      "16:45:03 | INFO | Wave function is saved in wf_radicalpair_44.pkl\n",
      "16:45:03 | INFO | Wave function is saved in wf_radicalpair_52.pkl\n",
      "16:45:03 | INFO | Start initial step    0.000 [fs]\n"
     ]
    },
    {
     "data": {
      "application/vnd.jupyter.widget-view+json": {
       "model_id": "9ec6b2b1df2d41d4a2d25cecba48fa9f",
       "version_major": 2,
       "version_minor": 0
      },
      "text/plain": [
       "  0%|          | 0/100 [00:00<?, ?it/s]"
      ]
     },
     "metadata": {},
     "output_type": "display_data"
    },
    {
     "name": "stderr",
     "output_type": "stream",
     "text": [
      "16:45:03 | INFO | End     0 step; propagated    0.012 [fs]; AVG Krylov iteration: 5.82\n",
      "16:45:05 | INFO | End    99 step; propagated    1.197 [fs]; AVG Krylov iteration: 5.75\n",
      "16:45:05 | INFO | End simulation and save wavefunction\n",
      "16:45:05 | INFO | Wave function is saved in wf_radicalpair_46.pkl\n",
      "16:45:05 | INFO | Wave function is saved in wf_radicalpair_53.pkl\n",
      "16:45:05 | INFO | Start initial step    0.000 [fs]\n"
     ]
    },
    {
     "data": {
      "application/vnd.jupyter.widget-view+json": {
       "model_id": "6a4c7485452947d790534d763ba6dc0b",
       "version_major": 2,
       "version_minor": 0
      },
      "text/plain": [
       "  0%|          | 0/100 [00:00<?, ?it/s]"
      ]
     },
     "metadata": {},
     "output_type": "display_data"
    },
    {
     "name": "stderr",
     "output_type": "stream",
     "text": [
      "16:45:05 | INFO | End     0 step; propagated    0.012 [fs]; AVG Krylov iteration: 6.25\n",
      "16:45:05 | INFO | End    99 step; propagated    1.197 [fs]; AVG Krylov iteration: 5.82\n",
      "16:45:05 | INFO | End simulation and save wavefunction\n",
      "16:45:05 | INFO | Wave function is saved in wf_radicalpair_47.pkl\n",
      "16:45:05 | INFO | Wave function is saved in wf_radicalpair_54.pkl\n",
      "16:45:05 | INFO | Start initial step    0.000 [fs]\n"
     ]
    },
    {
     "data": {
      "application/vnd.jupyter.widget-view+json": {
       "model_id": "1ae2a6b42372483f89a5416688f110e9",
       "version_major": 2,
       "version_minor": 0
      },
      "text/plain": [
       "  0%|          | 0/100 [00:00<?, ?it/s]"
      ]
     },
     "metadata": {},
     "output_type": "display_data"
    },
    {
     "name": "stderr",
     "output_type": "stream",
     "text": [
      "16:45:06 | INFO | End    99 step; propagated    1.197 [fs]; AVG Krylov iteration: 6.36\n",
      "16:45:06 | INFO | End simulation and save wavefunction\n",
      "16:45:06 | INFO | Wave function is saved in wf_radicalpair_45.pkl\n",
      "16:45:06 | INFO | End     0 step; propagated    0.012 [fs]; AVG Krylov iteration: 6.04\n",
      "16:45:06 | INFO | Wave function is saved in wf_radicalpair_55.pkl\n",
      "16:45:06 | INFO | Start initial step    0.000 [fs]\n"
     ]
    },
    {
     "data": {
      "application/vnd.jupyter.widget-view+json": {
       "model_id": "06d98ab3890f45c4b333d81175cd78d0",
       "version_major": 2,
       "version_minor": 0
      },
      "text/plain": [
       "  0%|          | 0/100 [00:00<?, ?it/s]"
      ]
     },
     "metadata": {},
     "output_type": "display_data"
    },
    {
     "name": "stderr",
     "output_type": "stream",
     "text": [
      "16:45:06 | INFO | End     0 step; propagated    0.012 [fs]; AVG Krylov iteration: 5.93\n",
      "16:45:32 | INFO | End    99 step; propagated    1.197 [fs]; AVG Krylov iteration: 5.82\n",
      "16:45:32 | INFO | End simulation and save wavefunction\n",
      "16:45:32 | INFO | Wave function is saved in wf_radicalpair_48.pkl\n",
      "16:45:32 | INFO | Wave function is saved in wf_radicalpair_56.pkl\n",
      "16:45:32 | INFO | Start initial step    0.000 [fs]\n"
     ]
    },
    {
     "data": {
      "application/vnd.jupyter.widget-view+json": {
       "model_id": "1e2d571ab824467aaccfcbd1dc39672b",
       "version_major": 2,
       "version_minor": 0
      },
      "text/plain": [
       "  0%|          | 0/100 [00:00<?, ?it/s]"
      ]
     },
     "metadata": {},
     "output_type": "display_data"
    },
    {
     "name": "stderr",
     "output_type": "stream",
     "text": [
      "16:45:32 | INFO | End     0 step; propagated    0.012 [fs]; AVG Krylov iteration: 6.00\n",
      "16:45:36 | INFO | End    99 step; propagated    1.197 [fs]; AVG Krylov iteration: 6.04\n",
      "16:45:36 | INFO | End simulation and save wavefunction\n",
      "16:45:36 | INFO | Wave function is saved in wf_radicalpair_49.pkl\n",
      "16:45:36 | INFO | Wave function is saved in wf_radicalpair_57.pkl\n",
      "16:45:36 | INFO | Start initial step    0.000 [fs]\n"
     ]
    },
    {
     "data": {
      "application/vnd.jupyter.widget-view+json": {
       "model_id": "67e08d705be641888950ae09c60e0a70",
       "version_major": 2,
       "version_minor": 0
      },
      "text/plain": [
       "  0%|          | 0/100 [00:00<?, ?it/s]"
      ]
     },
     "metadata": {},
     "output_type": "display_data"
    },
    {
     "name": "stderr",
     "output_type": "stream",
     "text": [
      "16:45:36 | INFO | End    99 step; propagated    1.197 [fs]; AVG Krylov iteration: 5.79\n",
      "16:45:36 | INFO | End simulation and save wavefunction\n",
      "16:45:36 | INFO | Wave function is saved in wf_radicalpair_51.pkl\n",
      "16:45:36 | INFO | Wave function is saved in wf_radicalpair_58.pkl\n",
      "16:45:36 | INFO | Start initial step    0.000 [fs]\n"
     ]
    },
    {
     "data": {
      "application/vnd.jupyter.widget-view+json": {
       "model_id": "0e50a6206b4d4fe384aff06d3cc7326e",
       "version_major": 2,
       "version_minor": 0
      },
      "text/plain": [
       "  0%|          | 0/100 [00:00<?, ?it/s]"
      ]
     },
     "metadata": {},
     "output_type": "display_data"
    },
    {
     "name": "stderr",
     "output_type": "stream",
     "text": [
      "16:45:37 | INFO | End     0 step; propagated    0.012 [fs]; AVG Krylov iteration: 6.79\n",
      "16:45:37 | INFO | End    99 step; propagated    1.197 [fs]; AVG Krylov iteration: 5.68\n",
      "16:45:37 | INFO | End simulation and save wavefunction\n",
      "16:45:37 | INFO | Wave function is saved in wf_radicalpair_52.pkl\n",
      "16:45:37 | INFO | End     0 step; propagated    0.012 [fs]; AVG Krylov iteration: 6.43\n",
      "16:45:37 | INFO | Wave function is saved in wf_radicalpair_59.pkl\n",
      "16:45:37 | INFO | Start initial step    0.000 [fs]\n"
     ]
    },
    {
     "data": {
      "application/vnd.jupyter.widget-view+json": {
       "model_id": "4b4a05e00d8744eb9e8d0ad07b7ecc60",
       "version_major": 2,
       "version_minor": 0
      },
      "text/plain": [
       "  0%|          | 0/100 [00:00<?, ?it/s]"
      ]
     },
     "metadata": {},
     "output_type": "display_data"
    },
    {
     "name": "stderr",
     "output_type": "stream",
     "text": [
      "16:45:37 | INFO | End     0 step; propagated    0.012 [fs]; AVG Krylov iteration: 5.93\n",
      "16:45:38 | INFO | End    99 step; propagated    1.197 [fs]; AVG Krylov iteration: 6.18\n",
      "16:45:38 | INFO | End simulation and save wavefunction\n",
      "16:45:38 | INFO | Wave function is saved in wf_radicalpair_50.pkl\n",
      "16:45:38 | INFO | Wave function is saved in wf_radicalpair_60.pkl\n",
      "16:45:38 | INFO | Start initial step    0.000 [fs]\n"
     ]
    },
    {
     "data": {
      "application/vnd.jupyter.widget-view+json": {
       "model_id": "1844ac5ef0034d2fb2e84c540126d372",
       "version_major": 2,
       "version_minor": 0
      },
      "text/plain": [
       "  0%|          | 0/100 [00:00<?, ?it/s]"
      ]
     },
     "metadata": {},
     "output_type": "display_data"
    },
    {
     "name": "stderr",
     "output_type": "stream",
     "text": [
      "16:45:38 | INFO | End     0 step; propagated    0.012 [fs]; AVG Krylov iteration: 5.86\n",
      "16:45:40 | INFO | End    99 step; propagated    1.197 [fs]; AVG Krylov iteration: 5.82\n",
      "16:45:40 | INFO | End simulation and save wavefunction\n",
      "16:45:40 | INFO | Wave function is saved in wf_radicalpair_55.pkl\n",
      "16:45:40 | INFO | Wave function is saved in wf_radicalpair_61.pkl\n",
      "16:45:40 | INFO | Start initial step    0.000 [fs]\n"
     ]
    },
    {
     "data": {
      "application/vnd.jupyter.widget-view+json": {
       "model_id": "fea5077e9f0843d5bf3744de63ab78e8",
       "version_major": 2,
       "version_minor": 0
      },
      "text/plain": [
       "  0%|          | 0/100 [00:00<?, ?it/s]"
      ]
     },
     "metadata": {},
     "output_type": "display_data"
    },
    {
     "name": "stderr",
     "output_type": "stream",
     "text": [
      "16:45:40 | INFO | End    99 step; propagated    1.197 [fs]; AVG Krylov iteration: 6.11\n",
      "16:45:40 | INFO | End simulation and save wavefunction\n",
      "16:45:40 | INFO | Wave function is saved in wf_radicalpair_53.pkl\n",
      "16:45:40 | INFO | Wave function is saved in wf_radicalpair_62.pkl\n",
      "16:45:40 | INFO | Start initial step    0.000 [fs]\n"
     ]
    },
    {
     "data": {
      "application/vnd.jupyter.widget-view+json": {
       "model_id": "e700a49b424b416084e891e860814863",
       "version_major": 2,
       "version_minor": 0
      },
      "text/plain": [
       "  0%|          | 0/100 [00:00<?, ?it/s]"
      ]
     },
     "metadata": {},
     "output_type": "display_data"
    },
    {
     "name": "stderr",
     "output_type": "stream",
     "text": [
      "16:45:40 | INFO | End     0 step; propagated    0.012 [fs]; AVG Krylov iteration: 6.00\n",
      "16:45:40 | INFO | End    99 step; propagated    1.197 [fs]; AVG Krylov iteration: 5.96\n",
      "16:45:40 | INFO | End simulation and save wavefunction\n",
      "16:45:40 | INFO | Wave function is saved in wf_radicalpair_54.pkl\n",
      "16:45:41 | INFO | Wave function is saved in wf_radicalpair_63.pkl\n",
      "16:45:41 | INFO | Start initial step    0.000 [fs]\n"
     ]
    },
    {
     "data": {
      "application/vnd.jupyter.widget-view+json": {
       "model_id": "237cfe0574de465682146a69437e9499",
       "version_major": 2,
       "version_minor": 0
      },
      "text/plain": [
       "  0%|          | 0/100 [00:00<?, ?it/s]"
      ]
     },
     "metadata": {},
     "output_type": "display_data"
    },
    {
     "name": "stderr",
     "output_type": "stream",
     "text": [
      "16:45:41 | INFO | End     0 step; propagated    0.012 [fs]; AVG Krylov iteration: 6.11\n",
      "16:45:41 | INFO | End     0 step; propagated    0.012 [fs]; AVG Krylov iteration: 5.93\n",
      "16:46:07 | INFO | End    99 step; propagated    1.197 [fs]; AVG Krylov iteration: 6.04\n",
      "16:46:07 | INFO | End simulation and save wavefunction\n",
      "16:46:07 | INFO | Wave function is saved in wf_radicalpair_56.pkl\n",
      "16:46:07 | INFO | Wave function is saved in wf_radicalpair_64.pkl\n",
      "16:46:07 | INFO | Start initial step    0.000 [fs]\n"
     ]
    },
    {
     "data": {
      "application/vnd.jupyter.widget-view+json": {
       "model_id": "534ed86532744274b793853e3f687a26",
       "version_major": 2,
       "version_minor": 0
      },
      "text/plain": [
       "  0%|          | 0/100 [00:00<?, ?it/s]"
      ]
     },
     "metadata": {},
     "output_type": "display_data"
    },
    {
     "name": "stderr",
     "output_type": "stream",
     "text": [
      "16:46:07 | INFO | End     0 step; propagated    0.012 [fs]; AVG Krylov iteration: 5.93\n",
      "16:46:11 | INFO | End    99 step; propagated    1.197 [fs]; AVG Krylov iteration: 5.82\n",
      "16:46:11 | INFO | End simulation and save wavefunction\n",
      "16:46:11 | INFO | Wave function is saved in wf_radicalpair_59.pkl\n",
      "16:46:11 | INFO | Wave function is saved in wf_radicalpair_65.pkl\n",
      "16:46:11 | INFO | Start initial step    0.000 [fs]\n"
     ]
    },
    {
     "data": {
      "application/vnd.jupyter.widget-view+json": {
       "model_id": "3b4209dc8d024535a7ed2a3719df9617",
       "version_major": 2,
       "version_minor": 0
      },
      "text/plain": [
       "  0%|          | 0/100 [00:00<?, ?it/s]"
      ]
     },
     "metadata": {},
     "output_type": "display_data"
    },
    {
     "name": "stderr",
     "output_type": "stream",
     "text": [
      "16:46:11 | INFO | End     0 step; propagated    0.012 [fs]; AVG Krylov iteration: 6.04\n",
      "16:46:12 | INFO | End    99 step; propagated    1.197 [fs]; AVG Krylov iteration: 5.68\n",
      "16:46:12 | INFO | End simulation and save wavefunction\n",
      "16:46:12 | INFO | Wave function is saved in wf_radicalpair_60.pkl\n",
      "16:46:12 | INFO | Wave function is saved in wf_radicalpair_66.pkl\n",
      "16:46:12 | INFO | Start initial step    0.000 [fs]\n"
     ]
    },
    {
     "data": {
      "application/vnd.jupyter.widget-view+json": {
       "model_id": "cd3fac3303dd494d890790531895b504",
       "version_major": 2,
       "version_minor": 0
      },
      "text/plain": [
       "  0%|          | 0/100 [00:00<?, ?it/s]"
      ]
     },
     "metadata": {},
     "output_type": "display_data"
    },
    {
     "name": "stderr",
     "output_type": "stream",
     "text": [
      "16:46:12 | INFO | End    99 step; propagated    1.197 [fs]; AVG Krylov iteration: 6.29\n",
      "16:46:12 | INFO | End simulation and save wavefunction\n",
      "16:46:12 | INFO | Wave function is saved in wf_radicalpair_58.pkl\n",
      "16:46:12 | INFO | Wave function is saved in wf_radicalpair_67.pkl\n",
      "16:46:12 | INFO | Start initial step    0.000 [fs]\n"
     ]
    },
    {
     "data": {
      "application/vnd.jupyter.widget-view+json": {
       "model_id": "9fcda97e02da4c248617b67877eb11b7",
       "version_major": 2,
       "version_minor": 0
      },
      "text/plain": [
       "  0%|          | 0/100 [00:00<?, ?it/s]"
      ]
     },
     "metadata": {},
     "output_type": "display_data"
    },
    {
     "name": "stderr",
     "output_type": "stream",
     "text": [
      "16:46:12 | INFO | End     0 step; propagated    0.012 [fs]; AVG Krylov iteration: 6.21\n",
      "16:46:12 | INFO | End    99 step; propagated    1.197 [fs]; AVG Krylov iteration: 6.64\n",
      "16:46:12 | INFO | End simulation and save wavefunction\n",
      "16:46:12 | INFO | Wave function is saved in wf_radicalpair_57.pkl\n",
      "16:46:12 | INFO | Wave function is saved in wf_radicalpair_68.pkl\n",
      "16:46:12 | INFO | Start initial step    0.000 [fs]\n"
     ]
    },
    {
     "data": {
      "application/vnd.jupyter.widget-view+json": {
       "model_id": "0a5e08388cd44df1a0b55b00f893e0f9",
       "version_major": 2,
       "version_minor": 0
      },
      "text/plain": [
       "  0%|          | 0/100 [00:00<?, ?it/s]"
      ]
     },
     "metadata": {},
     "output_type": "display_data"
    },
    {
     "name": "stderr",
     "output_type": "stream",
     "text": [
      "16:46:12 | INFO | End     0 step; propagated    0.012 [fs]; AVG Krylov iteration: 6.54\n",
      "16:46:13 | INFO | End     0 step; propagated    0.012 [fs]; AVG Krylov iteration: 5.86\n",
      "16:46:14 | INFO | End    99 step; propagated    1.197 [fs]; AVG Krylov iteration: 5.79\n",
      "16:46:14 | INFO | End simulation and save wavefunction\n",
      "16:46:14 | INFO | Wave function is saved in wf_radicalpair_61.pkl\n",
      "16:46:15 | INFO | Wave function is saved in wf_radicalpair_69.pkl\n",
      "16:46:15 | INFO | Start initial step    0.000 [fs]\n"
     ]
    },
    {
     "data": {
      "application/vnd.jupyter.widget-view+json": {
       "model_id": "507b7c0c48c74fb18480013d4985809b",
       "version_major": 2,
       "version_minor": 0
      },
      "text/plain": [
       "  0%|          | 0/100 [00:00<?, ?it/s]"
      ]
     },
     "metadata": {},
     "output_type": "display_data"
    },
    {
     "name": "stderr",
     "output_type": "stream",
     "text": [
      "16:46:15 | INFO | End    99 step; propagated    1.197 [fs]; AVG Krylov iteration: 5.82\n",
      "16:46:15 | INFO | End simulation and save wavefunction\n",
      "16:46:15 | INFO | Wave function is saved in wf_radicalpair_63.pkl\n",
      "16:46:15 | INFO | Wave function is saved in wf_radicalpair_70.pkl\n",
      "16:46:15 | INFO | Start initial step    0.000 [fs]\n"
     ]
    },
    {
     "data": {
      "application/vnd.jupyter.widget-view+json": {
       "model_id": "62dcb46d0dab4786ba24a3a30891f076",
       "version_major": 2,
       "version_minor": 0
      },
      "text/plain": [
       "  0%|          | 0/100 [00:00<?, ?it/s]"
      ]
     },
     "metadata": {},
     "output_type": "display_data"
    },
    {
     "name": "stderr",
     "output_type": "stream",
     "text": [
      "16:46:15 | INFO | End     0 step; propagated    0.012 [fs]; AVG Krylov iteration: 6.14\n",
      "16:46:15 | INFO | End     0 step; propagated    0.012 [fs]; AVG Krylov iteration: 6.75\n",
      "16:46:16 | INFO | End    99 step; propagated    1.197 [fs]; AVG Krylov iteration: 6.04\n",
      "16:46:16 | INFO | End simulation and save wavefunction\n",
      "16:46:16 | INFO | Wave function is saved in wf_radicalpair_62.pkl\n",
      "16:46:16 | INFO | Wave function is saved in wf_radicalpair_71.pkl\n",
      "16:46:16 | INFO | Start initial step    0.000 [fs]\n"
     ]
    },
    {
     "data": {
      "application/vnd.jupyter.widget-view+json": {
       "model_id": "4050feba04854d34b9b4c9b8eccf8d54",
       "version_major": 2,
       "version_minor": 0
      },
      "text/plain": [
       "  0%|          | 0/100 [00:00<?, ?it/s]"
      ]
     },
     "metadata": {},
     "output_type": "display_data"
    },
    {
     "name": "stderr",
     "output_type": "stream",
     "text": [
      "16:46:16 | INFO | End     0 step; propagated    0.012 [fs]; AVG Krylov iteration: 6.04\n",
      "16:46:42 | INFO | End    99 step; propagated    1.197 [fs]; AVG Krylov iteration: 5.86\n",
      "16:46:42 | INFO | End simulation and save wavefunction\n",
      "16:46:42 | INFO | Wave function is saved in wf_radicalpair_64.pkl\n",
      "16:46:42 | INFO | Wave function is saved in wf_radicalpair_72.pkl\n",
      "16:46:42 | INFO | Start initial step    0.000 [fs]\n"
     ]
    },
    {
     "data": {
      "application/vnd.jupyter.widget-view+json": {
       "model_id": "0c65dd604bdb4ed9b079e2c6a335a5ab",
       "version_major": 2,
       "version_minor": 0
      },
      "text/plain": [
       "  0%|          | 0/100 [00:00<?, ?it/s]"
      ]
     },
     "metadata": {},
     "output_type": "display_data"
    },
    {
     "name": "stderr",
     "output_type": "stream",
     "text": [
      "16:46:43 | INFO | End     0 step; propagated    0.012 [fs]; AVG Krylov iteration: 5.93\n",
      "16:46:48 | INFO | End    99 step; propagated    1.197 [fs]; AVG Krylov iteration: 5.82\n",
      "16:46:48 | INFO | End simulation and save wavefunction\n",
      "16:46:48 | INFO | Wave function is saved in wf_radicalpair_68.pkl\n",
      "16:46:48 | INFO | Wave function is saved in wf_radicalpair_73.pkl\n",
      "16:46:48 | INFO | Start initial step    0.000 [fs]\n"
     ]
    },
    {
     "data": {
      "application/vnd.jupyter.widget-view+json": {
       "model_id": "8cdd5513611a43c1a849b402639fe7b5",
       "version_major": 2,
       "version_minor": 0
      },
      "text/plain": [
       "  0%|          | 0/100 [00:00<?, ?it/s]"
      ]
     },
     "metadata": {},
     "output_type": "display_data"
    },
    {
     "name": "stderr",
     "output_type": "stream",
     "text": [
      "16:46:48 | INFO | End    99 step; propagated    1.197 [fs]; AVG Krylov iteration: 6.00\n",
      "16:46:48 | INFO | End simulation and save wavefunction\n",
      "16:46:48 | INFO | Wave function is saved in wf_radicalpair_65.pkl\n",
      "16:46:48 | INFO | Wave function is saved in wf_radicalpair_74.pkl\n",
      "16:46:48 | INFO | Start initial step    0.000 [fs]\n"
     ]
    },
    {
     "data": {
      "application/vnd.jupyter.widget-view+json": {
       "model_id": "850248ac1b06417dab68c20bd120ad93",
       "version_major": 2,
       "version_minor": 0
      },
      "text/plain": [
       "  0%|          | 0/100 [00:00<?, ?it/s]"
      ]
     },
     "metadata": {},
     "output_type": "display_data"
    },
    {
     "name": "stderr",
     "output_type": "stream",
     "text": [
      "16:46:48 | INFO | End     0 step; propagated    0.012 [fs]; AVG Krylov iteration: 5.93\n",
      "16:46:48 | INFO | End     0 step; propagated    0.012 [fs]; AVG Krylov iteration: 6.00\n",
      "16:46:49 | INFO | End    99 step; propagated    1.197 [fs]; AVG Krylov iteration: 6.04\n",
      "16:46:49 | INFO | End simulation and save wavefunction\n",
      "16:46:49 | INFO | Wave function is saved in wf_radicalpair_66.pkl\n",
      "16:46:49 | INFO | Wave function is saved in wf_radicalpair_75.pkl\n",
      "16:46:49 | INFO | Start initial step    0.000 [fs]\n"
     ]
    },
    {
     "data": {
      "application/vnd.jupyter.widget-view+json": {
       "model_id": "c955827690934f949e54b43597e643be",
       "version_major": 2,
       "version_minor": 0
      },
      "text/plain": [
       "  0%|          | 0/100 [00:00<?, ?it/s]"
      ]
     },
     "metadata": {},
     "output_type": "display_data"
    },
    {
     "name": "stderr",
     "output_type": "stream",
     "text": [
      "16:46:50 | INFO | End     0 step; propagated    0.012 [fs]; AVG Krylov iteration: 5.93\n",
      "16:46:50 | INFO | End    99 step; propagated    1.197 [fs]; AVG Krylov iteration: 6.46\n",
      "16:46:50 | INFO | End simulation and save wavefunction\n",
      "16:46:50 | INFO | Wave function is saved in wf_radicalpair_67.pkl\n",
      "16:46:50 | INFO | Wave function is saved in wf_radicalpair_76.pkl\n",
      "16:46:50 | INFO | Start initial step    0.000 [fs]\n"
     ]
    },
    {
     "data": {
      "application/vnd.jupyter.widget-view+json": {
       "model_id": "67db090b0d7546fa82c568ae53d7789e",
       "version_major": 2,
       "version_minor": 0
      },
      "text/plain": [
       "  0%|          | 0/100 [00:00<?, ?it/s]"
      ]
     },
     "metadata": {},
     "output_type": "display_data"
    },
    {
     "name": "stderr",
     "output_type": "stream",
     "text": [
      "16:46:50 | INFO | End     0 step; propagated    0.012 [fs]; AVG Krylov iteration: 5.93\n",
      "16:46:51 | INFO | End    99 step; propagated    1.197 [fs]; AVG Krylov iteration: 6.00\n",
      "16:46:51 | INFO | End simulation and save wavefunction\n",
      "16:46:51 | INFO | Wave function is saved in wf_radicalpair_69.pkl\n",
      "16:46:51 | INFO | Wave function is saved in wf_radicalpair_77.pkl\n",
      "16:46:51 | INFO | Start initial step    0.000 [fs]\n"
     ]
    },
    {
     "data": {
      "application/vnd.jupyter.widget-view+json": {
       "model_id": "c65af1c5ee0045ffb2d963862eab1ab0",
       "version_major": 2,
       "version_minor": 0
      },
      "text/plain": [
       "  0%|          | 0/100 [00:00<?, ?it/s]"
      ]
     },
     "metadata": {},
     "output_type": "display_data"
    },
    {
     "name": "stderr",
     "output_type": "stream",
     "text": [
      "16:46:52 | INFO | End     0 step; propagated    0.012 [fs]; AVG Krylov iteration: 5.93\n",
      "16:46:53 | INFO | End    99 step; propagated    1.197 [fs]; AVG Krylov iteration: 6.18\n",
      "16:46:53 | INFO | End simulation and save wavefunction\n",
      "16:46:53 | INFO | Wave function is saved in wf_radicalpair_70.pkl\n",
      "16:46:53 | INFO | End    99 step; propagated    1.197 [fs]; AVG Krylov iteration: 6.04\n",
      "16:46:53 | INFO | End simulation and save wavefunction\n",
      "16:46:53 | INFO | Wave function is saved in wf_radicalpair_71.pkl\n",
      "16:46:53 | INFO | Wave function is saved in wf_radicalpair_78.pkl\n",
      "16:46:53 | INFO | Start initial step    0.000 [fs]\n"
     ]
    },
    {
     "data": {
      "application/vnd.jupyter.widget-view+json": {
       "model_id": "0d9329c0e3dd44e994bef1cb5fa2ed42",
       "version_major": 2,
       "version_minor": 0
      },
      "text/plain": [
       "  0%|          | 0/100 [00:00<?, ?it/s]"
      ]
     },
     "metadata": {},
     "output_type": "display_data"
    },
    {
     "name": "stderr",
     "output_type": "stream",
     "text": [
      "16:46:53 | INFO | Wave function is saved in wf_radicalpair_79.pkl\n",
      "16:46:53 | INFO | Start initial step    0.000 [fs]\n"
     ]
    },
    {
     "data": {
      "application/vnd.jupyter.widget-view+json": {
       "model_id": "65adc23e14f7453a8ab175d826338bb4",
       "version_major": 2,
       "version_minor": 0
      },
      "text/plain": [
       "  0%|          | 0/100 [00:00<?, ?it/s]"
      ]
     },
     "metadata": {},
     "output_type": "display_data"
    },
    {
     "name": "stderr",
     "output_type": "stream",
     "text": [
      "16:46:53 | INFO | End     0 step; propagated    0.012 [fs]; AVG Krylov iteration: 5.86\n",
      "16:46:53 | INFO | End     0 step; propagated    0.012 [fs]; AVG Krylov iteration: 5.96\n",
      "16:47:16 | INFO | End    99 step; propagated    1.197 [fs]; AVG Krylov iteration: 5.79\n",
      "16:47:16 | INFO | End simulation and save wavefunction\n",
      "16:47:16 | INFO | Wave function is saved in wf_radicalpair_72.pkl\n",
      "16:47:16 | INFO | Wave function is saved in wf_radicalpair_80.pkl\n",
      "16:47:16 | INFO | Start initial step    0.000 [fs]\n"
     ]
    },
    {
     "data": {
      "application/vnd.jupyter.widget-view+json": {
       "model_id": "225395bec6c34b259b8534bfb2d9f5ec",
       "version_major": 2,
       "version_minor": 0
      },
      "text/plain": [
       "  0%|          | 0/100 [00:00<?, ?it/s]"
      ]
     },
     "metadata": {},
     "output_type": "display_data"
    },
    {
     "name": "stderr",
     "output_type": "stream",
     "text": [
      "16:47:16 | INFO | End     0 step; propagated    0.012 [fs]; AVG Krylov iteration: 6.00\n",
      "16:47:21 | INFO | End    99 step; propagated    1.197 [fs]; AVG Krylov iteration: 5.82\n",
      "16:47:21 | INFO | End simulation and save wavefunction\n",
      "16:47:21 | INFO | Wave function is saved in wf_radicalpair_74.pkl\n",
      "16:47:21 | INFO | End    99 step; propagated    1.197 [fs]; AVG Krylov iteration: 5.82\n",
      "16:47:21 | INFO | End simulation and save wavefunction\n",
      "16:47:21 | INFO | Wave function is saved in wf_radicalpair_81.pkl\n",
      "16:47:21 | INFO | Start initial step    0.000 [fs]\n",
      "16:47:21 | INFO | Wave function is saved in wf_radicalpair_73.pkl\n"
     ]
    },
    {
     "data": {
      "application/vnd.jupyter.widget-view+json": {
       "model_id": "396a966b1d8f4e879a7021ac6a3056c6",
       "version_major": 2,
       "version_minor": 0
      },
      "text/plain": [
       "  0%|          | 0/100 [00:00<?, ?it/s]"
      ]
     },
     "metadata": {},
     "output_type": "display_data"
    },
    {
     "name": "stderr",
     "output_type": "stream",
     "text": [
      "16:47:21 | INFO | Wave function is saved in wf_radicalpair_82.pkl\n",
      "16:47:21 | INFO | Start initial step    0.000 [fs]\n"
     ]
    },
    {
     "data": {
      "application/vnd.jupyter.widget-view+json": {
       "model_id": "166170f850e6444aa32388aeb0c06ea6",
       "version_major": 2,
       "version_minor": 0
      },
      "text/plain": [
       "  0%|          | 0/100 [00:00<?, ?it/s]"
      ]
     },
     "metadata": {},
     "output_type": "display_data"
    },
    {
     "name": "stderr",
     "output_type": "stream",
     "text": [
      "16:47:22 | INFO | End    99 step; propagated    1.197 [fs]; AVG Krylov iteration: 5.68\n",
      "16:47:22 | INFO | End simulation and save wavefunction\n",
      "16:47:22 | INFO | Wave function is saved in wf_radicalpair_75.pkl\n",
      "16:47:22 | INFO | End     0 step; propagated    0.012 [fs]; AVG Krylov iteration: 5.93\n",
      "16:47:22 | INFO | Wave function is saved in wf_radicalpair_83.pkl\n",
      "16:47:22 | INFO | Start initial step    0.000 [fs]\n",
      "16:47:22 | INFO | End     0 step; propagated    0.012 [fs]; AVG Krylov iteration: 5.93\n"
     ]
    },
    {
     "data": {
      "application/vnd.jupyter.widget-view+json": {
       "model_id": "80234ae633ae48ed984c07b5b6617f6d",
       "version_major": 2,
       "version_minor": 0
      },
      "text/plain": [
       "  0%|          | 0/100 [00:00<?, ?it/s]"
      ]
     },
     "metadata": {},
     "output_type": "display_data"
    },
    {
     "name": "stderr",
     "output_type": "stream",
     "text": [
      "16:47:22 | INFO | End     0 step; propagated    0.012 [fs]; AVG Krylov iteration: 6.00\n",
      "16:47:23 | INFO | End    99 step; propagated    1.197 [fs]; AVG Krylov iteration: 5.86\n",
      "16:47:23 | INFO | End simulation and save wavefunction\n",
      "16:47:23 | INFO | Wave function is saved in wf_radicalpair_76.pkl\n",
      "16:47:23 | INFO | Wave function is saved in wf_radicalpair_84.pkl\n",
      "16:47:23 | INFO | Start initial step    0.000 [fs]\n"
     ]
    },
    {
     "data": {
      "application/vnd.jupyter.widget-view+json": {
       "model_id": "1eda4579ea104c7a8a0156cd3a5bdfde",
       "version_major": 2,
       "version_minor": 0
      },
      "text/plain": [
       "  0%|          | 0/100 [00:00<?, ?it/s]"
      ]
     },
     "metadata": {},
     "output_type": "display_data"
    },
    {
     "name": "stderr",
     "output_type": "stream",
     "text": [
      "16:47:23 | INFO | End     0 step; propagated    0.012 [fs]; AVG Krylov iteration: 6.75\n",
      "16:47:24 | INFO | End    99 step; propagated    1.197 [fs]; AVG Krylov iteration: 5.93\n",
      "16:47:24 | INFO | End simulation and save wavefunction\n",
      "16:47:24 | INFO | Wave function is saved in wf_radicalpair_77.pkl\n",
      "16:47:24 | INFO | Wave function is saved in wf_radicalpair_85.pkl\n",
      "16:47:24 | INFO | Start initial step    0.000 [fs]\n"
     ]
    },
    {
     "data": {
      "application/vnd.jupyter.widget-view+json": {
       "model_id": "1ac4e30acfda4638a25602029ad2b373",
       "version_major": 2,
       "version_minor": 0
      },
      "text/plain": [
       "  0%|          | 0/100 [00:00<?, ?it/s]"
      ]
     },
     "metadata": {},
     "output_type": "display_data"
    },
    {
     "name": "stderr",
     "output_type": "stream",
     "text": [
      "16:47:25 | INFO | End     0 step; propagated    0.012 [fs]; AVG Krylov iteration: 6.75\n",
      "16:47:25 | INFO | End    99 step; propagated    1.197 [fs]; AVG Krylov iteration: 5.75\n",
      "16:47:25 | INFO | End simulation and save wavefunction\n",
      "16:47:25 | INFO | Wave function is saved in wf_radicalpair_78.pkl\n",
      "16:47:25 | INFO | Wave function is saved in wf_radicalpair_86.pkl\n",
      "16:47:25 | INFO | Start initial step    0.000 [fs]\n"
     ]
    },
    {
     "data": {
      "application/vnd.jupyter.widget-view+json": {
       "model_id": "67e3ecb9e6f249d39262ad0cfb1b6c49",
       "version_major": 2,
       "version_minor": 0
      },
      "text/plain": [
       "  0%|          | 0/100 [00:00<?, ?it/s]"
      ]
     },
     "metadata": {},
     "output_type": "display_data"
    },
    {
     "name": "stderr",
     "output_type": "stream",
     "text": [
      "16:47:25 | INFO | End     0 step; propagated    0.012 [fs]; AVG Krylov iteration: 6.00\n",
      "16:47:26 | INFO | End    99 step; propagated    1.197 [fs]; AVG Krylov iteration: 6.07\n",
      "16:47:26 | INFO | End simulation and save wavefunction\n",
      "16:47:26 | INFO | Wave function is saved in wf_radicalpair_79.pkl\n",
      "16:47:26 | INFO | Wave function is saved in wf_radicalpair_87.pkl\n",
      "16:47:26 | INFO | Start initial step    0.000 [fs]\n"
     ]
    },
    {
     "data": {
      "application/vnd.jupyter.widget-view+json": {
       "model_id": "006eacdd88f445cc92f5ca7e7e814230",
       "version_major": 2,
       "version_minor": 0
      },
      "text/plain": [
       "  0%|          | 0/100 [00:00<?, ?it/s]"
      ]
     },
     "metadata": {},
     "output_type": "display_data"
    },
    {
     "name": "stderr",
     "output_type": "stream",
     "text": [
      "16:47:27 | INFO | End     0 step; propagated    0.012 [fs]; AVG Krylov iteration: 5.93\n",
      "16:47:49 | INFO | End    99 step; propagated    1.197 [fs]; AVG Krylov iteration: 6.04\n",
      "16:47:49 | INFO | End simulation and save wavefunction\n",
      "16:47:49 | INFO | Wave function is saved in wf_radicalpair_80.pkl\n",
      "16:47:49 | INFO | Wave function is saved in wf_radicalpair_88.pkl\n",
      "16:47:49 | INFO | Start initial step    0.000 [fs]\n"
     ]
    },
    {
     "data": {
      "application/vnd.jupyter.widget-view+json": {
       "model_id": "8821bcb3d89f4c9c8763e3d23a30a00a",
       "version_major": 2,
       "version_minor": 0
      },
      "text/plain": [
       "  0%|          | 0/100 [00:00<?, ?it/s]"
      ]
     },
     "metadata": {},
     "output_type": "display_data"
    },
    {
     "name": "stderr",
     "output_type": "stream",
     "text": [
      "16:47:49 | INFO | End     0 step; propagated    0.012 [fs]; AVG Krylov iteration: 5.93\n",
      "16:47:53 | INFO | End    99 step; propagated    1.197 [fs]; AVG Krylov iteration: 5.86\n",
      "16:47:53 | INFO | End simulation and save wavefunction\n",
      "16:47:53 | INFO | Wave function is saved in wf_radicalpair_82.pkl\n",
      "16:47:53 | INFO | Wave function is saved in wf_radicalpair_89.pkl\n",
      "16:47:53 | INFO | Start initial step    0.000 [fs]\n"
     ]
    },
    {
     "data": {
      "application/vnd.jupyter.widget-view+json": {
       "model_id": "cf65bd494c904714813b78f3fd04bf8a",
       "version_major": 2,
       "version_minor": 0
      },
      "text/plain": [
       "  0%|          | 0/100 [00:00<?, ?it/s]"
      ]
     },
     "metadata": {},
     "output_type": "display_data"
    },
    {
     "name": "stderr",
     "output_type": "stream",
     "text": [
      "16:47:53 | INFO | End     0 step; propagated    0.012 [fs]; AVG Krylov iteration: 6.11\n",
      "16:47:53 | INFO | End    99 step; propagated    1.197 [fs]; AVG Krylov iteration: 5.79\n",
      "16:47:53 | INFO | End simulation and save wavefunction\n",
      "16:47:53 | INFO | Wave function is saved in wf_radicalpair_81.pkl\n",
      "16:47:53 | INFO | Wave function is saved in wf_radicalpair_90.pkl\n",
      "16:47:53 | INFO | Start initial step    0.000 [fs]\n"
     ]
    },
    {
     "data": {
      "application/vnd.jupyter.widget-view+json": {
       "model_id": "50410aea2b68404992a2b61bfb33132e",
       "version_major": 2,
       "version_minor": 0
      },
      "text/plain": [
       "  0%|          | 0/100 [00:00<?, ?it/s]"
      ]
     },
     "metadata": {},
     "output_type": "display_data"
    },
    {
     "name": "stderr",
     "output_type": "stream",
     "text": [
      "16:47:54 | INFO | End     0 step; propagated    0.012 [fs]; AVG Krylov iteration: 6.00\n",
      "16:47:54 | INFO | End    99 step; propagated    1.197 [fs]; AVG Krylov iteration: 5.86\n",
      "16:47:54 | INFO | End simulation and save wavefunction\n",
      "16:47:54 | INFO | Wave function is saved in wf_radicalpair_83.pkl\n",
      "16:47:54 | INFO | Wave function is saved in wf_radicalpair_91.pkl\n",
      "16:47:54 | INFO | Start initial step    0.000 [fs]\n"
     ]
    },
    {
     "data": {
      "application/vnd.jupyter.widget-view+json": {
       "model_id": "365df3a8f0e74b37ab328931820fadc6",
       "version_major": 2,
       "version_minor": 0
      },
      "text/plain": [
       "  0%|          | 0/100 [00:00<?, ?it/s]"
      ]
     },
     "metadata": {},
     "output_type": "display_data"
    },
    {
     "name": "stderr",
     "output_type": "stream",
     "text": [
      "16:47:54 | INFO | End     0 step; propagated    0.012 [fs]; AVG Krylov iteration: 6.18\n",
      "16:47:57 | INFO | End    99 step; propagated    1.197 [fs]; AVG Krylov iteration: 6.46\n",
      "16:47:57 | INFO | End simulation and save wavefunction\n",
      "16:47:57 | INFO | Wave function is saved in wf_radicalpair_84.pkl\n",
      "16:47:57 | INFO | Wave function is saved in wf_radicalpair_92.pkl\n",
      "16:47:57 | INFO | Start initial step    0.000 [fs]\n"
     ]
    },
    {
     "data": {
      "application/vnd.jupyter.widget-view+json": {
       "model_id": "e7833ebd8f094c3b8ced044872972256",
       "version_major": 2,
       "version_minor": 0
      },
      "text/plain": [
       "  0%|          | 0/100 [00:00<?, ?it/s]"
      ]
     },
     "metadata": {},
     "output_type": "display_data"
    },
    {
     "name": "stderr",
     "output_type": "stream",
     "text": [
      "16:47:58 | INFO | End     0 step; propagated    0.012 [fs]; AVG Krylov iteration: 6.89\n",
      "16:47:58 | INFO | End    99 step; propagated    1.197 [fs]; AVG Krylov iteration: 6.04\n",
      "16:47:58 | INFO | End simulation and save wavefunction\n",
      "16:47:58 | INFO | Wave function is saved in wf_radicalpair_86.pkl\n",
      "16:47:58 | INFO | Wave function is saved in wf_radicalpair_93.pkl\n",
      "16:47:58 | INFO | Start initial step    0.000 [fs]\n"
     ]
    },
    {
     "data": {
      "application/vnd.jupyter.widget-view+json": {
       "model_id": "9042c5d5f334405e928832b920eb0193",
       "version_major": 2,
       "version_minor": 0
      },
      "text/plain": [
       "  0%|          | 0/100 [00:00<?, ?it/s]"
      ]
     },
     "metadata": {},
     "output_type": "display_data"
    },
    {
     "name": "stderr",
     "output_type": "stream",
     "text": [
      "16:47:59 | INFO | End    99 step; propagated    1.197 [fs]; AVG Krylov iteration: 6.43\n",
      "16:47:59 | INFO | End simulation and save wavefunction\n",
      "16:47:59 | INFO | Wave function is saved in wf_radicalpair_85.pkl\n",
      "16:47:59 | INFO | Wave function is saved in wf_radicalpair_94.pkl\n",
      "16:47:59 | INFO | Start initial step    0.000 [fs]\n"
     ]
    },
    {
     "data": {
      "application/vnd.jupyter.widget-view+json": {
       "model_id": "4e1a20cdc553477da3cf79d4ea1dde78",
       "version_major": 2,
       "version_minor": 0
      },
      "text/plain": [
       "  0%|          | 0/100 [00:00<?, ?it/s]"
      ]
     },
     "metadata": {},
     "output_type": "display_data"
    },
    {
     "name": "stderr",
     "output_type": "stream",
     "text": [
      "16:47:59 | INFO | End     0 step; propagated    0.012 [fs]; AVG Krylov iteration: 6.18\n",
      "16:47:59 | INFO | End     0 step; propagated    0.012 [fs]; AVG Krylov iteration: 5.93\n",
      "16:47:59 | INFO | End    99 step; propagated    1.197 [fs]; AVG Krylov iteration: 6.14\n",
      "16:47:59 | INFO | End simulation and save wavefunction\n",
      "16:47:59 | INFO | Wave function is saved in wf_radicalpair_87.pkl\n",
      "16:48:00 | INFO | Wave function is saved in wf_radicalpair_95.pkl\n",
      "16:48:00 | INFO | Start initial step    0.000 [fs]\n"
     ]
    },
    {
     "data": {
      "application/vnd.jupyter.widget-view+json": {
       "model_id": "12cca95404b34918a24d10ed8a907abb",
       "version_major": 2,
       "version_minor": 0
      },
      "text/plain": [
       "  0%|          | 0/100 [00:00<?, ?it/s]"
      ]
     },
     "metadata": {},
     "output_type": "display_data"
    },
    {
     "name": "stderr",
     "output_type": "stream",
     "text": [
      "16:48:00 | INFO | End     0 step; propagated    0.012 [fs]; AVG Krylov iteration: 5.93\n",
      "16:48:21 | INFO | End    99 step; propagated    1.197 [fs]; AVG Krylov iteration: 5.71\n",
      "16:48:21 | INFO | End simulation and save wavefunction\n",
      "16:48:21 | INFO | Wave function is saved in wf_radicalpair_88.pkl\n",
      "16:48:21 | INFO | Wave function is saved in wf_radicalpair_96.pkl\n",
      "16:48:21 | INFO | Start initial step    0.000 [fs]\n"
     ]
    },
    {
     "data": {
      "application/vnd.jupyter.widget-view+json": {
       "model_id": "97c3d3883b48483fb33f85344ed06271",
       "version_major": 2,
       "version_minor": 0
      },
      "text/plain": [
       "  0%|          | 0/100 [00:00<?, ?it/s]"
      ]
     },
     "metadata": {},
     "output_type": "display_data"
    },
    {
     "name": "stderr",
     "output_type": "stream",
     "text": [
      "16:48:21 | INFO | End     0 step; propagated    0.012 [fs]; AVG Krylov iteration: 6.71\n",
      "16:48:26 | INFO | End    99 step; propagated    1.197 [fs]; AVG Krylov iteration: 5.89\n",
      "16:48:26 | INFO | End simulation and save wavefunction\n",
      "16:48:26 | INFO | Wave function is saved in wf_radicalpair_90.pkl\n",
      "16:48:26 | INFO | Wave function is saved in wf_radicalpair_97.pkl\n",
      "16:48:26 | INFO | Start initial step    0.000 [fs]\n"
     ]
    },
    {
     "data": {
      "application/vnd.jupyter.widget-view+json": {
       "model_id": "0837004cf17b4c5d9469c741e7862bca",
       "version_major": 2,
       "version_minor": 0
      },
      "text/plain": [
       "  0%|          | 0/100 [00:00<?, ?it/s]"
      ]
     },
     "metadata": {},
     "output_type": "display_data"
    },
    {
     "name": "stderr",
     "output_type": "stream",
     "text": [
      "16:48:26 | INFO | End     0 step; propagated    0.012 [fs]; AVG Krylov iteration: 5.93\n",
      "16:48:26 | INFO | End    99 step; propagated    1.197 [fs]; AVG Krylov iteration: 6.00\n",
      "16:48:26 | INFO | End simulation and save wavefunction\n",
      "16:48:26 | INFO | Wave function is saved in wf_radicalpair_89.pkl\n",
      "16:48:26 | INFO | Wave function is saved in wf_radicalpair_98.pkl\n",
      "16:48:26 | INFO | Start initial step    0.000 [fs]\n"
     ]
    },
    {
     "data": {
      "application/vnd.jupyter.widget-view+json": {
       "model_id": "21ca448077cc4f0d8e3a7c532c3af1e0",
       "version_major": 2,
       "version_minor": 0
      },
      "text/plain": [
       "  0%|          | 0/100 [00:00<?, ?it/s]"
      ]
     },
     "metadata": {},
     "output_type": "display_data"
    },
    {
     "name": "stderr",
     "output_type": "stream",
     "text": [
      "16:48:27 | INFO | End     0 step; propagated    0.012 [fs]; AVG Krylov iteration: 6.50\n",
      "16:48:27 | INFO | End    99 step; propagated    1.197 [fs]; AVG Krylov iteration: 5.96\n",
      "16:48:27 | INFO | End simulation and save wavefunction\n",
      "16:48:27 | INFO | Wave function is saved in wf_radicalpair_91.pkl\n",
      "16:48:27 | INFO | Wave function is saved in wf_radicalpair_99.pkl\n",
      "16:48:27 | INFO | Start initial step    0.000 [fs]\n"
     ]
    },
    {
     "data": {
      "application/vnd.jupyter.widget-view+json": {
       "model_id": "a850a45b88674b5b9852c5b0693379b5",
       "version_major": 2,
       "version_minor": 0
      },
      "text/plain": [
       "  0%|          | 0/100 [00:00<?, ?it/s]"
      ]
     },
     "metadata": {},
     "output_type": "display_data"
    },
    {
     "name": "stderr",
     "output_type": "stream",
     "text": [
      "16:48:27 | INFO | End     0 step; propagated    0.012 [fs]; AVG Krylov iteration: 5.93\n",
      "16:48:31 | INFO | End    99 step; propagated    1.197 [fs]; AVG Krylov iteration: 5.79\n",
      "16:48:31 | INFO | End simulation and save wavefunction\n",
      "16:48:31 | INFO | Wave function is saved in wf_radicalpair_94.pkl\n",
      "16:48:31 | INFO | Wave function is saved in wf_radicalpair_100.pkl\n",
      "16:48:31 | INFO | Start initial step    0.000 [fs]\n"
     ]
    },
    {
     "data": {
      "application/vnd.jupyter.widget-view+json": {
       "model_id": "0fd8086a03df4184982fd4c5f6f3a8b8",
       "version_major": 2,
       "version_minor": 0
      },
      "text/plain": [
       "  0%|          | 0/100 [00:00<?, ?it/s]"
      ]
     },
     "metadata": {},
     "output_type": "display_data"
    },
    {
     "name": "stderr",
     "output_type": "stream",
     "text": [
      "16:48:31 | INFO | End     0 step; propagated    0.012 [fs]; AVG Krylov iteration: 5.86\n",
      "16:48:32 | INFO | End    99 step; propagated    1.197 [fs]; AVG Krylov iteration: 5.79\n",
      "16:48:32 | INFO | End simulation and save wavefunction\n",
      "16:48:32 | INFO | Wave function is saved in wf_radicalpair_95.pkl\n",
      "16:48:32 | INFO | End    99 step; propagated    1.197 [fs]; AVG Krylov iteration: 6.07\n",
      "16:48:32 | INFO | End simulation and save wavefunction\n",
      "16:48:32 | INFO | Wave function is saved in wf_radicalpair_93.pkl\n",
      "16:48:32 | INFO | Wave function is saved in wf_radicalpair_101.pkl\n",
      "16:48:32 | INFO | Start initial step    0.000 [fs]\n",
      "16:48:32 | INFO | Wave function is saved in wf_radicalpair_102.pkl\n",
      "16:48:32 | INFO | Start initial step    0.000 [fs]\n"
     ]
    },
    {
     "data": {
      "application/vnd.jupyter.widget-view+json": {
       "model_id": "dc4657b9d3d84207b3e008caf47f8317",
       "version_major": 2,
       "version_minor": 0
      },
      "text/plain": [
       "  0%|          | 0/100 [00:00<?, ?it/s]"
      ]
     },
     "metadata": {},
     "output_type": "display_data"
    },
    {
     "data": {
      "application/vnd.jupyter.widget-view+json": {
       "model_id": "3dc03f0fd5a441519b2db25c3a4057ed",
       "version_major": 2,
       "version_minor": 0
      },
      "text/plain": [
       "  0%|          | 0/100 [00:00<?, ?it/s]"
      ]
     },
     "metadata": {},
     "output_type": "display_data"
    },
    {
     "name": "stderr",
     "output_type": "stream",
     "text": [
      "16:48:32 | INFO | End    99 step; propagated    1.197 [fs]; AVG Krylov iteration: 6.61\n",
      "16:48:32 | INFO | End simulation and save wavefunction\n",
      "16:48:32 | INFO | Wave function is saved in wf_radicalpair_92.pkl\n",
      "16:48:32 | INFO | Wave function is saved in wf_radicalpair_103.pkl\n",
      "16:48:32 | INFO | Start initial step    0.000 [fs]\n"
     ]
    },
    {
     "data": {
      "application/vnd.jupyter.widget-view+json": {
       "model_id": "c70122fdd61a4c93aeccb1319791146c",
       "version_major": 2,
       "version_minor": 0
      },
      "text/plain": [
       "  0%|          | 0/100 [00:00<?, ?it/s]"
      ]
     },
     "metadata": {},
     "output_type": "display_data"
    },
    {
     "name": "stderr",
     "output_type": "stream",
     "text": [
      "16:48:32 | INFO | End     0 step; propagated    0.012 [fs]; AVG Krylov iteration: 5.93\n",
      "16:48:32 | INFO | End     0 step; propagated    0.012 [fs]; AVG Krylov iteration: 6.39\n",
      "16:48:32 | INFO | End     0 step; propagated    0.012 [fs]; AVG Krylov iteration: 5.93\n",
      "16:48:55 | INFO | End    99 step; propagated    1.197 [fs]; AVG Krylov iteration: 6.36\n",
      "16:48:55 | INFO | End simulation and save wavefunction\n",
      "16:48:55 | INFO | Wave function is saved in wf_radicalpair_96.pkl\n",
      "16:48:55 | INFO | Wave function is saved in wf_radicalpair_104.pkl\n",
      "16:48:55 | INFO | Start initial step    0.000 [fs]\n"
     ]
    },
    {
     "data": {
      "application/vnd.jupyter.widget-view+json": {
       "model_id": "4f4bc01a2da44837801d473dd32af59b",
       "version_major": 2,
       "version_minor": 0
      },
      "text/plain": [
       "  0%|          | 0/100 [00:00<?, ?it/s]"
      ]
     },
     "metadata": {},
     "output_type": "display_data"
    },
    {
     "name": "stderr",
     "output_type": "stream",
     "text": [
      "16:48:55 | INFO | End     0 step; propagated    0.012 [fs]; AVG Krylov iteration: 6.68\n",
      "16:48:58 | INFO | End    99 step; propagated    1.197 [fs]; AVG Krylov iteration: 5.79\n",
      "16:48:58 | INFO | End simulation and save wavefunction\n",
      "16:48:58 | INFO | Wave function is saved in wf_radicalpair_97.pkl\n",
      "16:48:58 | INFO | Wave function is saved in wf_radicalpair_105.pkl\n",
      "16:48:58 | INFO | Start initial step    0.000 [fs]\n"
     ]
    },
    {
     "data": {
      "application/vnd.jupyter.widget-view+json": {
       "model_id": "de3216ca9fe440838b54dabf3bad5ee4",
       "version_major": 2,
       "version_minor": 0
      },
      "text/plain": [
       "  0%|          | 0/100 [00:00<?, ?it/s]"
      ]
     },
     "metadata": {},
     "output_type": "display_data"
    },
    {
     "name": "stderr",
     "output_type": "stream",
     "text": [
      "16:48:58 | INFO | End     0 step; propagated    0.012 [fs]; AVG Krylov iteration: 6.82\n",
      "16:48:59 | INFO | End    99 step; propagated    1.197 [fs]; AVG Krylov iteration: 5.82\n",
      "16:48:59 | INFO | End simulation and save wavefunction\n",
      "16:48:59 | INFO | Wave function is saved in wf_radicalpair_99.pkl\n",
      "16:48:59 | INFO | Wave function is saved in wf_radicalpair_106.pkl\n",
      "16:48:59 | INFO | Start initial step    0.000 [fs]\n"
     ]
    },
    {
     "data": {
      "application/vnd.jupyter.widget-view+json": {
       "model_id": "f434297ef0fc4f5faea7c04c46801d46",
       "version_major": 2,
       "version_minor": 0
      },
      "text/plain": [
       "  0%|          | 0/100 [00:00<?, ?it/s]"
      ]
     },
     "metadata": {},
     "output_type": "display_data"
    },
    {
     "name": "stderr",
     "output_type": "stream",
     "text": [
      "16:49:00 | INFO | End     0 step; propagated    0.012 [fs]; AVG Krylov iteration: 6.29\n",
      "16:49:00 | INFO | End    99 step; propagated    1.197 [fs]; AVG Krylov iteration: 6.39\n",
      "16:49:00 | INFO | End simulation and save wavefunction\n",
      "16:49:00 | INFO | Wave function is saved in wf_radicalpair_98.pkl\n",
      "16:49:00 | INFO | Wave function is saved in wf_radicalpair_107.pkl\n",
      "16:49:00 | INFO | Start initial step    0.000 [fs]\n"
     ]
    },
    {
     "data": {
      "application/vnd.jupyter.widget-view+json": {
       "model_id": "05a55d6c78284810bcc77fc02415b3d7",
       "version_major": 2,
       "version_minor": 0
      },
      "text/plain": [
       "  0%|          | 0/100 [00:00<?, ?it/s]"
      ]
     },
     "metadata": {},
     "output_type": "display_data"
    },
    {
     "name": "stderr",
     "output_type": "stream",
     "text": [
      "16:49:01 | INFO | End     0 step; propagated    0.012 [fs]; AVG Krylov iteration: 5.93\n",
      "16:49:04 | INFO | End    99 step; propagated    1.197 [fs]; AVG Krylov iteration: 5.79\n",
      "16:49:04 | INFO | End simulation and save wavefunction\n",
      "16:49:04 | INFO | Wave function is saved in wf_radicalpair_100.pkl\n",
      "16:49:04 | INFO | Wave function is saved in wf_radicalpair_108.pkl\n",
      "16:49:04 | INFO | Start initial step    0.000 [fs]\n"
     ]
    },
    {
     "data": {
      "application/vnd.jupyter.widget-view+json": {
       "model_id": "0fa6228befdf4a7fa17978dec845e6b1",
       "version_major": 2,
       "version_minor": 0
      },
      "text/plain": [
       "  0%|          | 0/100 [00:00<?, ?it/s]"
      ]
     },
     "metadata": {},
     "output_type": "display_data"
    },
    {
     "name": "stderr",
     "output_type": "stream",
     "text": [
      "16:49:04 | INFO | End    99 step; propagated    1.197 [fs]; AVG Krylov iteration: 5.89\n",
      "16:49:04 | INFO | End simulation and save wavefunction\n",
      "16:49:04 | INFO | End     0 step; propagated    0.012 [fs]; AVG Krylov iteration: 5.93\n",
      "16:49:04 | INFO | Wave function is saved in wf_radicalpair_102.pkl\n",
      "16:49:04 | INFO | Wave function is saved in wf_radicalpair_109.pkl\n",
      "16:49:04 | INFO | Start initial step    0.000 [fs]\n"
     ]
    },
    {
     "data": {
      "application/vnd.jupyter.widget-view+json": {
       "model_id": "8ffd0d7ae5414a2cb45d9cfd78910e95",
       "version_major": 2,
       "version_minor": 0
      },
      "text/plain": [
       "  0%|          | 0/100 [00:00<?, ?it/s]"
      ]
     },
     "metadata": {},
     "output_type": "display_data"
    },
    {
     "name": "stderr",
     "output_type": "stream",
     "text": [
      "16:49:05 | INFO | End    99 step; propagated    1.197 [fs]; AVG Krylov iteration: 5.82\n",
      "16:49:05 | INFO | End simulation and save wavefunction\n",
      "16:49:05 | INFO | Wave function is saved in wf_radicalpair_103.pkl\n",
      "16:49:05 | INFO | Wave function is saved in wf_radicalpair_110.pkl\n",
      "16:49:05 | INFO | Start initial step    0.000 [fs]\n"
     ]
    },
    {
     "data": {
      "application/vnd.jupyter.widget-view+json": {
       "model_id": "d042af59afd041d09d04d8e10054f129",
       "version_major": 2,
       "version_minor": 0
      },
      "text/plain": [
       "  0%|          | 0/100 [00:00<?, ?it/s]"
      ]
     },
     "metadata": {},
     "output_type": "display_data"
    },
    {
     "name": "stderr",
     "output_type": "stream",
     "text": [
      "16:49:05 | INFO | End     0 step; propagated    0.012 [fs]; AVG Krylov iteration: 5.93\n",
      "16:49:05 | INFO | End     0 step; propagated    0.012 [fs]; AVG Krylov iteration: 5.93\n",
      "16:49:06 | INFO | End    99 step; propagated    1.197 [fs]; AVG Krylov iteration: 6.32\n",
      "16:49:06 | INFO | End simulation and save wavefunction\n",
      "16:49:06 | INFO | Wave function is saved in wf_radicalpair_101.pkl\n",
      "16:49:06 | INFO | Wave function is saved in wf_radicalpair_111.pkl\n",
      "16:49:06 | INFO | Start initial step    0.000 [fs]\n"
     ]
    },
    {
     "data": {
      "application/vnd.jupyter.widget-view+json": {
       "model_id": "9175ef0fd5ee474d9b0fc2a6746e9dcd",
       "version_major": 2,
       "version_minor": 0
      },
      "text/plain": [
       "  0%|          | 0/100 [00:00<?, ?it/s]"
      ]
     },
     "metadata": {},
     "output_type": "display_data"
    },
    {
     "name": "stderr",
     "output_type": "stream",
     "text": [
      "16:49:07 | INFO | End     0 step; propagated    0.012 [fs]; AVG Krylov iteration: 5.93\n",
      "16:49:30 | INFO | End    99 step; propagated    1.197 [fs]; AVG Krylov iteration: 6.46\n",
      "16:49:30 | INFO | End simulation and save wavefunction\n",
      "16:49:30 | INFO | Wave function is saved in wf_radicalpair_104.pkl\n",
      "16:49:30 | INFO | Wave function is saved in wf_radicalpair_112.pkl\n",
      "16:49:30 | INFO | Start initial step    0.000 [fs]\n"
     ]
    },
    {
     "data": {
      "application/vnd.jupyter.widget-view+json": {
       "model_id": "18d127ca87d548efa4bbcfa8e9425c84",
       "version_major": 2,
       "version_minor": 0
      },
      "text/plain": [
       "  0%|          | 0/100 [00:00<?, ?it/s]"
      ]
     },
     "metadata": {},
     "output_type": "display_data"
    },
    {
     "name": "stderr",
     "output_type": "stream",
     "text": [
      "16:49:30 | INFO | End     0 step; propagated    0.012 [fs]; AVG Krylov iteration: 5.86\n",
      "16:49:33 | INFO | End    99 step; propagated    1.197 [fs]; AVG Krylov iteration: 6.64\n",
      "16:49:33 | INFO | End simulation and save wavefunction\n",
      "16:49:33 | INFO | End    99 step; propagated    1.197 [fs]; AVG Krylov iteration: 5.82\n",
      "16:49:33 | INFO | Wave function is saved in wf_radicalpair_105.pkl\n",
      "16:49:33 | INFO | End simulation and save wavefunction\n",
      "16:49:33 | INFO | Wave function is saved in wf_radicalpair_107.pkl\n",
      "16:49:33 | INFO | Wave function is saved in wf_radicalpair_113.pkl\n",
      "16:49:33 | INFO | Start initial step    0.000 [fs]\n"
     ]
    },
    {
     "data": {
      "application/vnd.jupyter.widget-view+json": {
       "model_id": "3e7a2d7d53f44d5eb662cc6a9a9e9126",
       "version_major": 2,
       "version_minor": 0
      },
      "text/plain": [
       "  0%|          | 0/100 [00:00<?, ?it/s]"
      ]
     },
     "metadata": {},
     "output_type": "display_data"
    },
    {
     "name": "stderr",
     "output_type": "stream",
     "text": [
      "16:49:33 | INFO | Wave function is saved in wf_radicalpair_114.pkl\n",
      "16:49:33 | INFO | Start initial step    0.000 [fs]\n"
     ]
    },
    {
     "data": {
      "application/vnd.jupyter.widget-view+json": {
       "model_id": "d9a9c1cb350b4e95a4828e7949380bd8",
       "version_major": 2,
       "version_minor": 0
      },
      "text/plain": [
       "  0%|          | 0/100 [00:00<?, ?it/s]"
      ]
     },
     "metadata": {},
     "output_type": "display_data"
    },
    {
     "name": "stderr",
     "output_type": "stream",
     "text": [
      "16:49:33 | INFO | End    99 step; propagated    1.197 [fs]; AVG Krylov iteration: 6.29\n",
      "16:49:33 | INFO | End simulation and save wavefunction\n",
      "16:49:33 | INFO | Wave function is saved in wf_radicalpair_106.pkl\n",
      "16:49:33 | INFO | Wave function is saved in wf_radicalpair_115.pkl\n",
      "16:49:33 | INFO | Start initial step    0.000 [fs]\n"
     ]
    },
    {
     "data": {
      "application/vnd.jupyter.widget-view+json": {
       "model_id": "c9f704ffe953412eacb9028ba3e3e34c",
       "version_major": 2,
       "version_minor": 0
      },
      "text/plain": [
       "  0%|          | 0/100 [00:00<?, ?it/s]"
      ]
     },
     "metadata": {},
     "output_type": "display_data"
    },
    {
     "name": "stderr",
     "output_type": "stream",
     "text": [
      "16:49:33 | INFO | End     0 step; propagated    0.012 [fs]; AVG Krylov iteration: 5.93\n",
      "16:49:33 | INFO | End     0 step; propagated    0.012 [fs]; AVG Krylov iteration: 5.93\n",
      "16:49:33 | INFO | End     0 step; propagated    0.012 [fs]; AVG Krylov iteration: 5.93\n",
      "16:49:36 | INFO | End    99 step; propagated    1.197 [fs]; AVG Krylov iteration: 5.82\n",
      "16:49:36 | INFO | End simulation and save wavefunction\n",
      "16:49:36 | INFO | Wave function is saved in wf_radicalpair_108.pkl\n",
      "16:49:36 | INFO | Wave function is saved in wf_radicalpair_116.pkl\n",
      "16:49:36 | INFO | Start initial step    0.000 [fs]\n"
     ]
    },
    {
     "data": {
      "application/vnd.jupyter.widget-view+json": {
       "model_id": "e5a3917edf7a45159e447c1b4094eac3",
       "version_major": 2,
       "version_minor": 0
      },
      "text/plain": [
       "  0%|          | 0/100 [00:00<?, ?it/s]"
      ]
     },
     "metadata": {},
     "output_type": "display_data"
    },
    {
     "name": "stderr",
     "output_type": "stream",
     "text": [
      "16:49:37 | INFO | End     0 step; propagated    0.012 [fs]; AVG Krylov iteration: 5.93\n",
      "16:49:37 | INFO | End    99 step; propagated    1.197 [fs]; AVG Krylov iteration: 5.96\n",
      "16:49:37 | INFO | End simulation and save wavefunction\n",
      "16:49:37 | INFO | Wave function is saved in wf_radicalpair_109.pkl\n",
      "16:49:37 | INFO | Wave function is saved in wf_radicalpair_117.pkl\n",
      "16:49:37 | INFO | Start initial step    0.000 [fs]\n"
     ]
    },
    {
     "data": {
      "application/vnd.jupyter.widget-view+json": {
       "model_id": "7fe1fba06895417fa7a1c750a8e78d7d",
       "version_major": 2,
       "version_minor": 0
      },
      "text/plain": [
       "  0%|          | 0/100 [00:00<?, ?it/s]"
      ]
     },
     "metadata": {},
     "output_type": "display_data"
    },
    {
     "name": "stderr",
     "output_type": "stream",
     "text": [
      "16:49:38 | INFO | End    99 step; propagated    1.197 [fs]; AVG Krylov iteration: 5.79\n",
      "16:49:38 | INFO | End simulation and save wavefunction\n",
      "16:49:38 | INFO | Wave function is saved in wf_radicalpair_110.pkl\n",
      "16:49:38 | INFO | Wave function is saved in wf_radicalpair_118.pkl\n",
      "16:49:38 | INFO | Start initial step    0.000 [fs]\n"
     ]
    },
    {
     "data": {
      "application/vnd.jupyter.widget-view+json": {
       "model_id": "b7222cda53184205911283bad117b056",
       "version_major": 2,
       "version_minor": 0
      },
      "text/plain": [
       "  0%|          | 0/100 [00:00<?, ?it/s]"
      ]
     },
     "metadata": {},
     "output_type": "display_data"
    },
    {
     "name": "stderr",
     "output_type": "stream",
     "text": [
      "16:49:38 | INFO | End     0 step; propagated    0.012 [fs]; AVG Krylov iteration: 6.61\n",
      "16:49:38 | INFO | End     0 step; propagated    0.012 [fs]; AVG Krylov iteration: 5.93\n",
      "16:49:38 | INFO | End    99 step; propagated    1.197 [fs]; AVG Krylov iteration: 5.82\n",
      "16:49:38 | INFO | End simulation and save wavefunction\n",
      "16:49:38 | INFO | Wave function is saved in wf_radicalpair_111.pkl\n",
      "16:49:38 | INFO | Wave function is saved in wf_radicalpair_119.pkl\n",
      "16:49:38 | INFO | Start initial step    0.000 [fs]\n"
     ]
    },
    {
     "data": {
      "application/vnd.jupyter.widget-view+json": {
       "model_id": "fb87a0c04f4b44d78c34114452a5984f",
       "version_major": 2,
       "version_minor": 0
      },
      "text/plain": [
       "  0%|          | 0/100 [00:00<?, ?it/s]"
      ]
     },
     "metadata": {},
     "output_type": "display_data"
    },
    {
     "name": "stderr",
     "output_type": "stream",
     "text": [
      "16:49:38 | INFO | End     0 step; propagated    0.012 [fs]; AVG Krylov iteration: 6.71\n",
      "16:50:02 | INFO | End    99 step; propagated    1.197 [fs]; AVG Krylov iteration: 5.79\n",
      "16:50:02 | INFO | End simulation and save wavefunction\n",
      "16:50:02 | INFO | Wave function is saved in wf_radicalpair_112.pkl\n",
      "16:50:02 | INFO | Wave function is saved in wf_radicalpair_120.pkl\n",
      "16:50:02 | INFO | Start initial step    0.000 [fs]\n"
     ]
    },
    {
     "data": {
      "application/vnd.jupyter.widget-view+json": {
       "model_id": "aedf8ee927674ce188d58e5aab5a68e0",
       "version_major": 2,
       "version_minor": 0
      },
      "text/plain": [
       "  0%|          | 0/100 [00:00<?, ?it/s]"
      ]
     },
     "metadata": {},
     "output_type": "display_data"
    },
    {
     "name": "stderr",
     "output_type": "stream",
     "text": [
      "16:50:03 | INFO | End     0 step; propagated    0.012 [fs]; AVG Krylov iteration: 5.93\n",
      "16:50:05 | INFO | End    99 step; propagated    1.197 [fs]; AVG Krylov iteration: 5.79\n",
      "16:50:05 | INFO | End simulation and save wavefunction\n",
      "16:50:05 | INFO | Wave function is saved in wf_radicalpair_113.pkl\n",
      "16:50:05 | INFO | Wave function is saved in wf_radicalpair_121.pkl\n",
      "16:50:05 | INFO | Start initial step    0.000 [fs]\n"
     ]
    },
    {
     "data": {
      "application/vnd.jupyter.widget-view+json": {
       "model_id": "8e5281764e8f4de5adbe962dc9b3c4ee",
       "version_major": 2,
       "version_minor": 0
      },
      "text/plain": [
       "  0%|          | 0/100 [00:00<?, ?it/s]"
      ]
     },
     "metadata": {},
     "output_type": "display_data"
    },
    {
     "name": "stderr",
     "output_type": "stream",
     "text": [
      "16:50:05 | INFO | End    99 step; propagated    1.197 [fs]; AVG Krylov iteration: 5.71\n",
      "16:50:05 | INFO | End simulation and save wavefunction\n",
      "16:50:05 | INFO | Wave function is saved in wf_radicalpair_115.pkl\n",
      "16:50:05 | INFO | Wave function is saved in wf_radicalpair_122.pkl\n",
      "16:50:05 | INFO | Start initial step    0.000 [fs]\n"
     ]
    },
    {
     "data": {
      "application/vnd.jupyter.widget-view+json": {
       "model_id": "0c01b05a66704faa882d888b1cee1d1f",
       "version_major": 2,
       "version_minor": 0
      },
      "text/plain": [
       "  0%|          | 0/100 [00:00<?, ?it/s]"
      ]
     },
     "metadata": {},
     "output_type": "display_data"
    },
    {
     "name": "stderr",
     "output_type": "stream",
     "text": [
      "16:50:05 | INFO | End     0 step; propagated    0.012 [fs]; AVG Krylov iteration: 5.93\n",
      "16:50:05 | INFO | End     0 step; propagated    0.012 [fs]; AVG Krylov iteration: 6.82\n",
      "16:50:05 | INFO | End    99 step; propagated    1.197 [fs]; AVG Krylov iteration: 5.82\n",
      "16:50:05 | INFO | End simulation and save wavefunction\n",
      "16:50:05 | INFO | Wave function is saved in wf_radicalpair_114.pkl\n",
      "16:50:05 | INFO | Wave function is saved in wf_radicalpair_123.pkl\n",
      "16:50:05 | INFO | Start initial step    0.000 [fs]\n"
     ]
    },
    {
     "data": {
      "application/vnd.jupyter.widget-view+json": {
       "model_id": "eb4ce30ef69d4d5992786d9dd11902e7",
       "version_major": 2,
       "version_minor": 0
      },
      "text/plain": [
       "  0%|          | 0/100 [00:00<?, ?it/s]"
      ]
     },
     "metadata": {},
     "output_type": "display_data"
    },
    {
     "name": "stderr",
     "output_type": "stream",
     "text": [
      "16:50:06 | INFO | End     0 step; propagated    0.012 [fs]; AVG Krylov iteration: 6.25\n",
      "16:50:08 | INFO | End    99 step; propagated    1.197 [fs]; AVG Krylov iteration: 5.93\n",
      "16:50:08 | INFO | End simulation and save wavefunction\n",
      "16:50:08 | INFO | Wave function is saved in wf_radicalpair_116.pkl\n",
      "16:50:09 | INFO | Wave function is saved in wf_radicalpair_124.pkl\n",
      "16:50:09 | INFO | Start initial step    0.000 [fs]\n"
     ]
    },
    {
     "data": {
      "application/vnd.jupyter.widget-view+json": {
       "model_id": "d2557b1b6b2b403a8874a10c22041161",
       "version_major": 2,
       "version_minor": 0
      },
      "text/plain": [
       "  0%|          | 0/100 [00:00<?, ?it/s]"
      ]
     },
     "metadata": {},
     "output_type": "display_data"
    },
    {
     "name": "stderr",
     "output_type": "stream",
     "text": [
      "16:50:09 | INFO | End     0 step; propagated    0.012 [fs]; AVG Krylov iteration: 5.86\n",
      "16:50:09 | INFO | End    99 step; propagated    1.197 [fs]; AVG Krylov iteration: 5.89\n",
      "16:50:09 | INFO | End simulation and save wavefunction\n",
      "16:50:09 | INFO | Wave function is saved in wf_radicalpair_118.pkl\n",
      "16:50:09 | INFO | Wave function is saved in wf_radicalpair_125.pkl\n",
      "16:50:09 | INFO | Start initial step    0.000 [fs]\n"
     ]
    },
    {
     "data": {
      "application/vnd.jupyter.widget-view+json": {
       "model_id": "b189d51544ec44258343f8586b2ca0f1",
       "version_major": 2,
       "version_minor": 0
      },
      "text/plain": [
       "  0%|          | 0/100 [00:00<?, ?it/s]"
      ]
     },
     "metadata": {},
     "output_type": "display_data"
    },
    {
     "name": "stderr",
     "output_type": "stream",
     "text": [
      "16:50:10 | INFO | End     0 step; propagated    0.012 [fs]; AVG Krylov iteration: 6.04\n",
      "16:50:12 | INFO | End    99 step; propagated    1.197 [fs]; AVG Krylov iteration: 6.50\n",
      "16:50:12 | INFO | End simulation and save wavefunction\n",
      "16:50:12 | INFO | Wave function is saved in wf_radicalpair_117.pkl\n",
      "16:50:12 | INFO | Wave function is saved in wf_radicalpair_126.pkl\n",
      "16:50:12 | INFO | Start initial step    0.000 [fs]\n"
     ]
    },
    {
     "data": {
      "application/vnd.jupyter.widget-view+json": {
       "model_id": "7d9159d126234fd5b5a6c017f51b481a",
       "version_major": 2,
       "version_minor": 0
      },
      "text/plain": [
       "  0%|          | 0/100 [00:00<?, ?it/s]"
      ]
     },
     "metadata": {},
     "output_type": "display_data"
    },
    {
     "name": "stderr",
     "output_type": "stream",
     "text": [
      "16:50:12 | INFO | End    99 step; propagated    1.197 [fs]; AVG Krylov iteration: 6.32\n",
      "16:50:12 | INFO | End simulation and save wavefunction\n",
      "16:50:12 | INFO | Wave function is saved in wf_radicalpair_119.pkl\n",
      "16:50:12 | INFO | Wave function is saved in wf_radicalpair_127.pkl\n",
      "16:50:12 | INFO | Start initial step    0.000 [fs]\n"
     ]
    },
    {
     "data": {
      "application/vnd.jupyter.widget-view+json": {
       "model_id": "86412aca3e824b7b96e905a3e599b931",
       "version_major": 2,
       "version_minor": 0
      },
      "text/plain": [
       "  0%|          | 0/100 [00:00<?, ?it/s]"
      ]
     },
     "metadata": {},
     "output_type": "display_data"
    },
    {
     "name": "stderr",
     "output_type": "stream",
     "text": [
      "16:50:12 | INFO | End     0 step; propagated    0.012 [fs]; AVG Krylov iteration: 6.00\n",
      "16:50:13 | INFO | End     0 step; propagated    0.012 [fs]; AVG Krylov iteration: 6.86\n",
      "16:50:35 | INFO | End    99 step; propagated    1.197 [fs]; AVG Krylov iteration: 5.79\n",
      "16:50:35 | INFO | End simulation and save wavefunction\n",
      "16:50:35 | INFO | Wave function is saved in wf_radicalpair_120.pkl\n",
      "16:50:37 | INFO | End    99 step; propagated    1.197 [fs]; AVG Krylov iteration: 5.89\n",
      "16:50:37 | INFO | End simulation and save wavefunction\n",
      "16:50:37 | INFO | Wave function is saved in wf_radicalpair_121.pkl\n",
      "16:50:39 | INFO | End    99 step; propagated    1.197 [fs]; AVG Krylov iteration: 6.32\n",
      "16:50:39 | INFO | End simulation and save wavefunction\n",
      "16:50:39 | INFO | Wave function is saved in wf_radicalpair_123.pkl\n",
      "16:50:39 | INFO | End    99 step; propagated    1.197 [fs]; AVG Krylov iteration: 6.54\n",
      "16:50:39 | INFO | End simulation and save wavefunction\n",
      "16:50:39 | INFO | Wave function is saved in wf_radicalpair_122.pkl\n",
      "16:50:40 | INFO | End    99 step; propagated    1.197 [fs]; AVG Krylov iteration: 5.82\n",
      "16:50:40 | INFO | End simulation and save wavefunction\n",
      "16:50:40 | INFO | Wave function is saved in wf_radicalpair_124.pkl\n",
      "16:50:41 | INFO | End    99 step; propagated    1.197 [fs]; AVG Krylov iteration: 5.96\n",
      "16:50:41 | INFO | End simulation and save wavefunction\n",
      "16:50:41 | INFO | Wave function is saved in wf_radicalpair_125.pkl\n",
      "16:50:43 | INFO | End    99 step; propagated    1.197 [fs]; AVG Krylov iteration: 5.89\n",
      "16:50:43 | INFO | End simulation and save wavefunction\n",
      "16:50:43 | INFO | Wave function is saved in wf_radicalpair_126.pkl\n",
      "16:50:44 | INFO | End    99 step; propagated    1.197 [fs]; AVG Krylov iteration: 6.46\n",
      "16:50:44 | INFO | End simulation and save wavefunction\n",
      "16:50:44 | INFO | Wave function is saved in wf_radicalpair_127.pkl\n"
     ]
    }
   ],
   "source": [
    "density_sums = []\n",
    "# execute `max_workers` process in parallel\n",
    "max_workers = 8\n",
    "with ProcessPoolExecutor(max_workers=max_workers) as executor:\n",
    "    try:\n",
    "        density_sum = None\n",
    "        active_futures = []\n",
    "        i = 0  # number of submitted jobs\n",
    "        j = 0  # number of finished jobs\n",
    "\n",
    "        pbar = tqdm(total=len(pairs), desc=\"Processing pairs\")\n",
    "        while i < len(pairs) or active_futures:\n",
    "            # Submit new jobs up to max_active\n",
    "            while len(active_futures) < max_workers and i < len(pairs):\n",
    "                future = executor.submit(process_pair, pairs[i], i, H)\n",
    "                active_futures.append((future, i))\n",
    "                i += 1\n",
    "\n",
    "            # Wait for at least one job to complete\n",
    "            done, not_done = concurrent.futures.wait(\n",
    "                [f for f, _ in active_futures],\n",
    "                return_when=concurrent.futures.FIRST_COMPLETED,\n",
    "            )\n",
    "\n",
    "            # Process completed jobs\n",
    "            remaining_futures = []\n",
    "            for future, job_i in active_futures:\n",
    "                if future in done:\n",
    "                    density_data, time_data = future.result()\n",
    "                    if density_sum is None:\n",
    "                        density_sum = density_data\n",
    "                    else:\n",
    "                        density_sum += density_data\n",
    "                    j += 1\n",
    "                    if is_mc and j >= 32 and j.bit_count() == 1:\n",
    "                        # when j in [4, 8, 16, ...] record result to estimate convergence of Monte Carlo\n",
    "                        density_sums.append(density_sum / j)\n",
    "                    pbar.update(1)\n",
    "                else:\n",
    "                    remaining_futures.append((future, job_i))\n",
    "            active_futures = remaining_futures\n",
    "\n",
    "    except KeyboardInterrupt:\n",
    "        print(\"\\nCancelling active tasks...\")\n",
    "        for future, _ in active_futures:\n",
    "            future.cancel()\n",
    "        executor.shutdown(wait=False)\n",
    "        pbar.close()\n",
    "        raise\n",
    "\n",
    "    pbar.close()"
   ]
  },
  {
   "cell_type": "code",
   "execution_count": 21,
   "id": "46a3d799-0fe3-4fb5-91d1-ca716d1a8f85",
   "metadata": {},
   "outputs": [],
   "source": [
    "time_data_μs = time_data * SCALE * 1e06 / units.au_in_fs\n",
    "density_data = density_sum / len(pairs)"
   ]
  },
  {
   "cell_type": "code",
   "execution_count": 22,
   "id": "8cad25ca-9c6a-436c-84b9-176920685566",
   "metadata": {},
   "outputs": [
    {
     "data": {
      "image/png": "[encoded data removed]",
      "text/plain": [
       "<Figure size 640x480 with 1 Axes>"
      ]
     },
     "metadata": {},
     "output_type": "display_data"
    }
   ],
   "source": [
    "plt.clf()\n",
    "\n",
    "for i, (density_data, color) in enumerate(\n",
    "    zip(\n",
    "        density_sums,\n",
    "        plt.rcParams[\"axes.prop_cycle\"].by_key()[\"color\"],\n",
    "        strict=False,\n",
    "    )\n",
    "):\n",
    "    plt.plot(\n",
    "        time_data_μs,\n",
    "        density_data[:, 0, 0].real,\n",
    "        linewidth=1,\n",
    "        ls=\"dotted\",\n",
    "        color=color,\n",
    "        label=f\"T+ N={2 ** (i + 5)}\",\n",
    "    )\n",
    "    plt.plot(\n",
    "        time_data_μs,\n",
    "        density_data[:, 1, 1].real,\n",
    "        linewidth=1,\n",
    "        ls=\"dashed\",\n",
    "        color=color,\n",
    "        label=\"T0\",\n",
    "    )\n",
    "    plt.plot(\n",
    "        time_data_μs,\n",
    "        density_data[:, 2, 2].real,\n",
    "        linewidth=1,\n",
    "        ls=\"solid\",\n",
    "        color=color,\n",
    "        label=\"S\",\n",
    "    )\n",
    "    plt.plot(\n",
    "        time_data_μs,\n",
    "        density_data[:, 3, 3].real,\n",
    "        linewidth=1,\n",
    "        ls=\"dashdot\",\n",
    "        color=color,\n",
    "        label=\"T-\",\n",
    "    )\n",
    "plt.title(f\"MPS: {m=} {B0=} mT {J=} mT\")\n",
    "plt.legend(ncol=len(density_sums))\n",
    "plt.xlabel(\"Time [μs]\")\n",
    "plt.ylabel(\"Popultation\")\n",
    "plt.grid()\n",
    "plt.ylim([0, 1])\n",
    "plt.savefig(\"population.png\")\n",
    "plt.show()"
   ]
  },
  {
   "cell_type": "code",
   "execution_count": 23,
   "id": "1a4b27c5-6026-4504-bc5f-2f94ecf5f6f0",
   "metadata": {},
   "outputs": [
    {
     "data": {
      "image/png": "[encoded data removed]",
      "text/plain": [
       "<Figure size 640x480 with 1 Axes>"
      ]
     },
     "metadata": {},
     "output_type": "display_data"
    }
   ],
   "source": [
    "dt = time_data_μs[1] - time_data[0]\n",
    "k_s = 1e2  # 1/micro sec, typically 1.0~0.1\n",
    "phi_s = np.cumsum(\n",
    "    density_data[:, 2, 2].real * dt * k_s * np.exp(-k_s * time_data_μs)\n",
    ")\n",
    "\n",
    "plt.plot(time_data_μs, phi_s)\n",
    "plt.xlabel(\"Time [μs]\")\n",
    "plt.ylabel(r\"$\\Phi_S(t)=\\int_0^t dt \\langle P^S \\rangle(t) ke^{-kt} $\")\n",
    "plt.grid()\n",
    "plt.savefig(\"population.png\")\n",
    "plt.show()"
   ]
  },
  {
   "cell_type": "code",
   "execution_count": 24,
   "id": "5499c2f5-d755-4c36-9019-65ae20b5f742",
   "metadata": {},
   "outputs": [
    {
     "name": "stdout",
     "output_type": "stream",
     "text": [
      "Saving animation to rdm-radical.gif...\n",
      "Animation saved successfully!\n"
     ]
    },
    {
     "data": {
      "image/png": "[encoded data removed]",
      "text/plain": [
       "<Figure size 1400x1000 with 2 Axes>"
      ]
     },
     "metadata": {},
     "output_type": "display_data"
    },
    {
     "data": {
      "text/html": [
       "\n",
       "<link rel=\"stylesheet\"\n",
       "href=\"https://maxcdn.bootstrapcdn.com/font-awesome/4.4.0/css/font-awesome.min.css\">\n",
       "<script language=\"javascript\">\n",
       "  function isInternetExplorer() {\n",
       "    ua = navigator.userAgent;\n",
       "    /* MSIE used to detect old browsers and Trident used to newer ones*/\n",
       "    return ua.indexOf(\"MSIE \") > -1 || ua.indexOf(\"Trident/\") > -1;\n",
       "  }\n",
       "\n",
       "  /* Define the Animation class */\n",
       "  function Animation(frames, img_id, slider_id, interval, loop_select_id){\n",
       "    this.img_id = img_id;\n",
       "    this.slider_id = slider_id;\n",
       "    this.loop_select_id = loop_select_id;\n",
       "    this.interval = interval;\n",
       "    this.current_frame = 0;\n",
       "    this.direction = 0;\n",
       "    this.timer = null;\n",
       "    this.frames = new Array(frames.length);\n",
       "\n",
       "    for (var i=0; i<frames.length; i++)\n",
       "    {\n",
       "     this.frames[i] = new Image();\n",
       "     this.frames[i].src = frames[i];\n",
       "    }\n",
       "    var slider = document.getElementById(this.slider_id);\n",
       "    slider.max = this.frames.length - 1;\n",
       "    if (isInternetExplorer()) {\n",
       "        // switch from oninput to onchange because IE <= 11 does not conform\n",
       "        // with W3C specification. It ignores oninput and onchange behaves\n",
       "        // like oninput. In contrast, Microsoft Edge behaves correctly.\n",
       "        slider.setAttribute('onchange', slider.getAttribute('oninput'));\n",
       "        slider.setAttribute('oninput', null);\n",
       "    }\n",
       "    this.set_frame(this.current_frame);\n",
       "  }\n",
       "\n",
       "  Animation.prototype.get_loop_state = function(){\n",
       "    var button_group = document[this.loop_select_id].state;\n",
       "    for (var i = 0; i < button_group.length; i++) {\n",
       "        var button = button_group[i];\n",
       "        if (button.checked) {\n",
       "            return button.value;\n",
       "        }\n",
       "    }\n",
       "    return undefined;\n",
       "  }\n",
       "\n",
       "  Animation.prototype.set_frame = function(frame){\n",
       "    this.current_frame = frame;\n",
       "    document.getElementById(this.img_id).src =\n",
       "            this.frames[this.current_frame].src;\n",
       "    document.getElementById(this.slider_id).value = this.current_frame;\n",
       "  }\n",
       "\n",
       "  Animation.prototype.next_frame = function()\n",
       "  {\n",
       "    this.set_frame(Math.min(this.frames.length - 1, this.current_frame + 1));\n",
       "  }\n",
       "\n",
       "  Animation.prototype.previous_frame = function()\n",
       "  {\n",
       "    this.set_frame(Math.max(0, this.current_frame - 1));\n",
       "  }\n",
       "\n",
       "  Animation.prototype.first_frame = function()\n",
       "  {\n",
       "    this.set_frame(0);\n",
       "  }\n",
       "\n",
       "  Animation.prototype.last_frame = function()\n",
       "  {\n",
       "    this.set_frame(this.frames.length - 1);\n",
       "  }\n",
       "\n",
       "  Animation.prototype.slower = function()\n",
       "  {\n",
       "    this.interval /= 0.7;\n",
       "    if(this.direction > 0){this.play_animation();}\n",
       "    else if(this.direction < 0){this.reverse_animation();}\n",
       "  }\n",
       "\n",
       "  Animation.prototype.faster = function()\n",
       "  {\n",
       "    this.interval *= 0.7;\n",
       "    if(this.direction > 0){this.play_animation();}\n",
       "    else if(this.direction < 0){this.reverse_animation();}\n",
       "  }\n",
       "\n",
       "  Animation.prototype.anim_step_forward = function()\n",
       "  {\n",
       "    this.current_frame += 1;\n",
       "    if(this.current_frame < this.frames.length){\n",
       "      this.set_frame(this.current_frame);\n",
       "    }else{\n",
       "      var loop_state = this.get_loop_state();\n",
       "      if(loop_state == \"loop\"){\n",
       "        this.first_frame();\n",
       "      }else if(loop_state == \"reflect\"){\n",
       "        this.last_frame();\n",
       "        this.reverse_animation();\n",
       "      }else{\n",
       "        this.pause_animation();\n",
       "        this.last_frame();\n",
       "      }\n",
       "    }\n",
       "  }\n",
       "\n",
       "  Animation.prototype.anim_step_reverse = function()\n",
       "  {\n",
       "    this.current_frame -= 1;\n",
       "    if(this.current_frame >= 0){\n",
       "      this.set_frame(this.current_frame);\n",
       "    }else{\n",
       "      var loop_state = this.get_loop_state();\n",
       "      if(loop_state == \"loop\"){\n",
       "        this.last_frame();\n",
       "      }else if(loop_state == \"reflect\"){\n",
       "        this.first_frame();\n",
       "        this.play_animation();\n",
       "      }else{\n",
       "        this.pause_animation();\n",
       "        this.first_frame();\n",
       "      }\n",
       "    }\n",
       "  }\n",
       "\n",
       "  Animation.prototype.pause_animation = function()\n",
       "  {\n",
       "    this.direction = 0;\n",
       "    if (this.timer){\n",
       "      clearInterval(this.timer);\n",
       "      this.timer = null;\n",
       "    }\n",
       "  }\n",
       "\n",
       "  Animation.prototype.play_animation = function()\n",
       "  {\n",
       "    this.pause_animation();\n",
       "    this.direction = 1;\n",
       "    var t = this;\n",
       "    if (!this.timer) this.timer = setInterval(function() {\n",
       "        t.anim_step_forward();\n",
       "    }, this.interval);\n",
       "  }\n",
       "\n",
       "  Animation.prototype.reverse_animation = function()\n",
       "  {\n",
       "    this.pause_animation();\n",
       "    this.direction = -1;\n",
       "    var t = this;\n",
       "    if (!this.timer) this.timer = setInterval(function() {\n",
       "        t.anim_step_reverse();\n",
       "    }, this.interval);\n",
       "  }\n",
       "</script>\n",
       "\n",
       "<style>\n",
       ".animation {\n",
       "    display: inline-block;\n",
       "    text-align: center;\n",
       "}\n",
       "input[type=range].anim-slider {\n",
       "    width: 374px;\n",
       "    margin-left: auto;\n",
       "    margin-right: auto;\n",
       "}\n",
       ".anim-buttons {\n",
       "    margin: 8px 0px;\n",
       "}\n",
       ".anim-buttons button {\n",
       "    padding: 0;\n",
       "    width: 36px;\n",
       "}\n",
       ".anim-state label {\n",
       "    margin-right: 8px;\n",
       "}\n",
       ".anim-state input {\n",
       "    margin: 0;\n",
       "    vertical-align: middle;\n",
       "}\n",
       "</style>\n",
       "\n",
       "<div class=\"animation\">\n",
       "  <img id=\"_anim_img925c6841b96244e588583904c2e0fa3e\">\n",
       "  <div class=\"anim-controls\">\n",
       "    <input id=\"_anim_slider925c6841b96244e588583904c2e0fa3e\" type=\"range\" class=\"anim-slider\"\n",
       "           name=\"points\" min=\"0\" max=\"1\" step=\"1\" value=\"0\"\n",
       "           oninput=\"anim925c6841b96244e588583904c2e0fa3e.set_frame(parseInt(this.value));\">\n",
       "    <div class=\"anim-buttons\">\n",
       "      <button title=\"Decrease speed\" aria-label=\"Decrease speed\" onclick=\"anim925c6841b96244e588583904c2e0fa3e.slower()\">\n",
       "          <i class=\"fa fa-minus\"></i></button>\n",
       "      <button title=\"First frame\" aria-label=\"First frame\" onclick=\"anim925c6841b96244e588583904c2e0fa3e.first_frame()\">\n",
       "        <i class=\"fa fa-fast-backward\"></i></button>\n",
       "      <button title=\"Previous frame\" aria-label=\"Previous frame\" onclick=\"anim925c6841b96244e588583904c2e0fa3e.previous_frame()\">\n",
       "          <i class=\"fa fa-step-backward\"></i></button>\n",
       "      <button title=\"Play backwards\" aria-label=\"Play backwards\" onclick=\"anim925c6841b96244e588583904c2e0fa3e.reverse_animation()\">\n",
       "          <i class=\"fa fa-play fa-flip-horizontal\"></i></button>\n",
       "      <button title=\"Pause\" aria-label=\"Pause\" onclick=\"anim925c6841b96244e588583904c2e0fa3e.pause_animation()\">\n",
       "          <i class=\"fa fa-pause\"></i></button>\n",
       "      <button title=\"Play\" aria-label=\"Play\" onclick=\"anim925c6841b96244e588583904c2e0fa3e.play_animation()\">\n",
       "          <i class=\"fa fa-play\"></i></button>\n",
       "      <button title=\"Next frame\" aria-label=\"Next frame\" onclick=\"anim925c6841b96244e588583904c2e0fa3e.next_frame()\">\n",
       "          <i class=\"fa fa-step-forward\"></i></button>\n",
       "      <button title=\"Last frame\" aria-label=\"Last frame\" onclick=\"anim925c6841b96244e588583904c2e0fa3e.last_frame()\">\n",
       "          <i class=\"fa fa-fast-forward\"></i></button>\n",
       "      <button title=\"Increase speed\" aria-label=\"Increase speed\" onclick=\"anim925c6841b96244e588583904c2e0fa3e.faster()\">\n",
       "          <i class=\"fa fa-plus\"></i></button>\n",
       "    </div>\n",
       "    <form title=\"Repetition mode\" aria-label=\"Repetition mode\" action=\"#n\" name=\"_anim_loop_select925c6841b96244e588583904c2e0fa3e\"\n",
       "          class=\"anim-state\">\n",
       "      <input type=\"radio\" name=\"state\" value=\"once\" id=\"_anim_radio1_925c6841b96244e588583904c2e0fa3e\"\n",
       "             >\n",
       "      <label for=\"_anim_radio1_925c6841b96244e588583904c2e0fa3e\">Once</label>\n",
       "      <input type=\"radio\" name=\"state\" value=\"loop\" id=\"_anim_radio2_925c6841b96244e588583904c2e0fa3e\"\n",
       "             checked>\n",
       "      <label for=\"_anim_radio2_925c6841b96244e588583904c2e0fa3e\">Loop</label>\n",
       "      <input type=\"radio\" name=\"state\" value=\"reflect\" id=\"_anim_radio3_925c6841b96244e588583904c2e0fa3e\"\n",
       "             >\n",
       "      <label for=\"_anim_radio3_925c6841b96244e588583904c2e0fa3e\">Reflect</label>\n",
       "    </form>\n",
       "  </div>\n",
       "</div>\n",
       "\n",
       "\n",
       "<script language=\"javascript\">\n",
       "  /* Instantiate the Animation class. */\n",
       "  /* The IDs given should match those used in the template above. */\n",
       "  (function() {\n",
       "    var img_id = \"_anim_img925c6841b96244e588583904c2e0fa3e\";\n",
       "    var slider_id = \"_anim_slider925c6841b96244e588583904c2e0fa3e\";\n",
       "    var loop_select_id = \"_anim_loop_select925c6841b96244e588583904c2e0fa3e\";\n",
       "    var frames = new Array(5);\n",
       "    \n",
       "  frames[0] = \"data:image/png;base64,iVBORw0KGgoAAAANSUhEUgAABXgAAAPoCAYAAABkvZZOAAAAOnRFWHRTb2Z0d2FyZQBNYXRwbG90\\\n",
       "bGliIHZlcnNpb24zLjEwLjMsIGh0dHBzOi8vbWF0cGxvdGxpYi5vcmcvZiW1igAAAAlwSFlzAAAP\\\n",
       "YQAAD2EBqD+naQAAqYtJREFUeJzs3Xd4VGX+/vF70kgjCSBCEBBpIh1BEBtFBUEEVl1UUEAEZW3L\\\n",
       "2kAs4FcFZHVXihUF7D91VxFUQJQmYEGaSBMRFKUthBZCSDu/P+KMM5MpZ1pmTvJ+XddcO+U5z3lm\\\n",
       "ckyWO598HpthGIYAAAAAAAAAAJYTF+0FAAAAAAAAAACCQ8ALAAAAAAAAABZFwAsAAAAAAAAAFkXA\\\n",
       "CwAAAAAAAAAWRcALAAAAAAAAABZFwAsAAAAAAAAAFkXACwAAAAAAAAAWRcALAAAAAAAAABZFwAsA\\\n",
       "AAAAAAAAFkXACwAAAAAAAAAWRcALAAAAAAAAABZFwAsAAAAAAAAAFkXACwAAAAAAAAAWRcALAAAA\\\n",
       "AAAAABZFwAsAAAAAAAAAFkXACwAAAAAAAAAWRcALAAAAAAAAABZFwAsAAAAAAAAAFkXACwAAAAAA\\\n",
       "AAAWRcALAAAAAAAAABZFwAsAAAAAAAAAFkXACwAAAAAAAAAWRcALAAAAAAAAABZFwAsAAAAAAAAA\\\n",
       "FkXACwAAAAAAAAAWRcALAAAAAAAAABZFwAsAAAAAAAAAFkXACwAAAAAAAAAWRcALAAAAAAAAABZF\\\n",
       "wAsAiIrx48fLZrPJZrNp/Pjx0V6OJS1dutTxGXbt2rXczz979mzH+YcOHVru54810f56IPY0aNDA\\\n",
       "cU3s2rUr2ssBAABABUXACwAxrmvXro6AwNOtatWqql+/vq644gpNmDBBv//+e7SXDACowL744gsN\\\n",
       "HjxYTZs2VVpamqpXr67WrVvr/vvv19atWy15/i1btuj+++9X69atVb16daWlpalp06YaMmSIvvji\\\n",
       "izC/AwAAgPAi4AUAi8vNzdXu3bu1cOFCPfTQQzrrrLP02GOPyTCMaC8NgAfOv6BB+Rs6dKjj8589\\\n",
       "e3a0l2Mpx44d0/XXX6/LLrtMb7zxhrZv3668vDwdPnxYGzdu1NNPP63WrVtr4sSJljr/k08+qTZt\\\n",
       "2ujpp5/Wxo0bdfjwYeXl5Wn79u16/fXXddlll2ngwIE6fvx4RN4XAABAqBKivQAAgHnnnXeeOnbs\\\n",
       "6PLc0aNHtWHDBm3cuFGSVFhYqPHjx+vIkSP697//HY1lAgAqmMLCQv3lL3/R4sWLHc+1bNlS5557\\\n",
       "rvLz8/Xll19q7969Kiws1NixY1VYWKhHH3005s//6KOP6vHHH3c8zs7O1sUXX6zk5GStWbNGmzZt\\\n",
       "kiS98847OnTokD755BMlJPBPKAAAEFv4fycAYCG9e/f22q921apVuuGGG/Trr79Kkp599lkNGjRI\\\n",
       "HTp0KMcVApVX165dqZyHi4rUd/fxxx93hKvJycmaNWuWrr/+esfrBQUFevjhh/XPf/5TUmmf9S5d\\\n",
       "uqhLly4xe/4vvvjCJdy9//779cQTTygpKcnx3DvvvKNhw4YpPz9fn332mSZMmBDW4BoAACAcaNEA\\\n",
       "ABXEBRdcoI8++sjlz75ffvnlKK4IAFARHDhwQP/6178cj5999lmXcFWSkpKSNHnyZF133XWSJMMw\\\n",
       "9OCDD8b0+Z1fv/766zV58mSXcFeSbrjhBpe/hnn66ad18ODBoN8LAABAJBDwAkAF0rZtW3Xt2tXx\\\n",
       "ePny5dFbDACgQnjttdd04sQJSVLTpk116623eh07efJkxcWV/hPjq6++0rp162Ly/KtXr9bq1asl\\\n",
       "SXFxcZo8ebLXOW+77TY1adJEknT8+HG98cYbQb0PAACASCHgBYAKpm3bto77e/bsMXXMli1bNHbs\\\n",
       "WHXs2FG1atVSUlKSatasqU6dOunRRx81PY/dkiVLNHDgQJ155plKTk529DR8/vnnlZeXZ3qeQDdD\\\n",
       "mj17tmP80KFDTZ3j+++/15gxY9SpUyfVrl1bSUlJSk9P19lnn63rrrtOr776qo4ePep3nkOHDumZ\\\n",
       "Z57R5Zdfrnr16ik5OVlZWVlq3ry57rjjDn333Xem1mO3fft2jRo1Ss2aNXPsEt+2bVs9+uij+u23\\\n",
       "3wKaKxhr167ViBEj1LBhQ6WkpKhmzZrq2LGjJk+erJycnKDnXb16tf7xj3+obdu2qlmzppKSklS7\\\n",
       "dm116dJFTz31lA4fPux3jgYNGji+zvY/gf/tt9/0yCOPqE2bNsrKylJaWpqaNWumu+66S7/88oup\\\n",
       "teXm5urFF1/UlVdeqfr16ys1NVWJiYnKzMxUs2bNdNVVV2nChAn64YcfPB6/dOlSx7qcf9Hi/poz\\\n",
       "5w3XnG+7du1SQUGBatas6Xjuq6++MvU+JKlLly6O46ZOnWr6OHddu3Z1zLN06VJJ0t69e/XYY4+p\\\n",
       "Xbt2ql69upKTk9WsWTONGTPG47Xx22+/aezYsWrXrp2qVaumqlWrqm3btpowYYJOnjxpah1btmzR\\\n",
       "v//9b1199dU6++yzVbVqVSUmJqpmzZrq0KGD/vGPf2jz5s0+57BfN6+99prjuZtvvtnj5+/eCsfb\\\n",
       "5zBhwgR17NhRtWvXVnx8vLKysjye0/latSsoKNC5557reL13795+P4f//ve/jvGJiYn6+uuv/R4T\\\n",
       "DnPmzHHct39f9qZ+/frq3r274/GHH34Yk+d3nvOyyy5TvXr1vM5ps9k0ZMgQv3MGwtM15cv48eO9\\\n",
       "Xp/uFi9erFtuuUWtWrVSVlaWEhISlJqaqrp16+riiy/WqFGj9PHHH6ugoCDk9wEAAGKEAQCIaV26\\\n",
       "dDEkGZKMcePG+R0/duxYx/jExESfY/Pz843bbrvNiI+Pdxzj6ZaSkmJMmzbN77kLCwuNYcOG+Zyr\\\n",
       "efPmxtatW41x48b5fV9DhgxxjJk1a5bf88+aNcsxfsiQIT7HHj582LjuuusMm83mc72SjFq1avmc\\\n",
       "a/r06UZmZqbPOWw2mzFs2DDj1KlTft/Hc889ZyQnJ3udKysry5g7d66xZMkSx3NdunTxO69ZDz30\\\n",
       "kM9rom7dusZXX30V0Oedk5NjXHPNNX4/66ysLOP999/3OdeZZ57pGL9z507jww8/9Pn5p6SkGB9/\\\n",
       "/LHPOVetWmWcccYZftdnvxUWFpaZw9fXw/k1M7edO3cahmEY9957r+O54cOH+3wPdj/++KPjmCpV\\\n",
       "qhiHDh0ydZwnzt9/lixZYixcuNCoUaOG13WfeeaZxq5duxzHv/rqq0aVKlW8jm/RooVx4MABn2v4\\\n",
       "61//auozs9lsxqhRo4yioiKP8zhfN/5u7t+T3D+HOXPmGNWqVStzXGZmptdz2r+mzrZs2WKkpqY6\\\n",
       "xkydOtXr57B7926Xcz722GM+P7dwOXnypBEXF+c476pVq/we8+STTzrGX3jhhTF5/s6dOzvGTJgw\\\n",
       "we+cK1eudIyPj4838vPzA34vztyvKX/M/MzMzc01+vbta/o6nzFjRkjvAQAAxA42WQOACsa52rZW\\\n",
       "rVpex504cUI9e/bUypUrHc81atRI7du3V7Vq1ZSTk6OVK1dqz549OnnypO666y4dO3ZMY8eO9Trn\\\n",
       "4MGD9c477zgeZ2VlqVu3bqpRo4Z+/fVXLV26VJs3b1bv3r3Vt2/fEN9p8Pbs2aPu3btr27ZtLmu9\\\n",
       "8MILlZ2drcLCQv36669as2aNjh07pvz8fK9zjRo1SlOmTHE8Pu2009S5c2fVrl1b+fn5WrdunX74\\\n",
       "4QcZhqGZM2dqz549+uSTTxx/QuzupZde0h133OF4nJiYqK5du+rMM89UTk6Oli5dqpycHF177bWa\\\n",
       "MGFCGD4NV2PHjtXEiRMdj1NTU9W9e3dlZ2dr3759Wrx4sX777Tf17t1bo0aNMjXnvn371L17d23Z\\\n",
       "ssXxXIsWLdSmTRulp6frwIED+vLLL3Xo0CEdOXJEAwYM0BtvvKFBgwb5nfvzzz/XyJEjVVxcrPr1\\\n",
       "66tz587KyMjQzp07tXTpUhUVFenkyZMaMGCAfvjhB5111lll5ti9e7d69uyp48ePSyr9zM877zw1\\\n",
       "btxYqampOnHihHbt2qUNGzbo2LFjpt6zuzPOOMPxdX3uuecczzt/rZ1lZGRIkm699VY988wzkqR3\\\n",
       "331Xzz77rNLS0nyea+bMmY77V199tapXrx7Umt2tX79eY8eO1cmTJ1W3bl1deOGFqlq1qn788Ud9\\\n",
       "+eWXMgxDv/zyi3r16qWNGzfq3Xff1S233CJJatKkiTp27Kjk5GRt3LhR3377rSRp06ZNuummm7Rg\\\n",
       "wQKv57VvHJmQkKDmzZurSZMmysrKUnx8vA4cOKDVq1fr999/l2EYevbZZ3Xq1Ck9//zzZeYZMmSI\\\n",
       "Dh06pC+++EJbt26VJF166aVq1qxZmbEdO3b0up5Vq1Zp/PjxKiwsVI0aNXTJJZfotNNO04EDBwJu\\\n",
       "R9CsWTP9+9//1m233SZJeuCBB9StWze1bNnSZVxJSYluuukmR4X7hRdeqIceeiigcwVr27ZtKikp\\\n",
       "kVRaydquXTu/x5x77rmO+87/3cfS+Z2fdx7vjfN5i4uL9eOPP6pVq1Z+jytPN954o+bOnet43Lhx\\\n",
       "Y0elfWFhof73v/9p48aNFWrzPwAA8IcoB8wAAD8CqeAtLCw06tWr5xh/7bXXeh07ePBgx7imTZt6\\\n",
       "rCAqKioynn/+eUcFXnx8vNfqqddff92lMujOO+808vLyXMbs2bPH6N69uyHJSEpK8vu+IlHBW1hY\\\n",
       "aFx44YUu1Z3Tp083CgoKyow9deqUMXfuXKN///4e53r11Vcd82RkZBgzZszwOM/ixYtdqkOfeuop\\\n",
       "j/P9+OOPLpW7Xbp0MXbv3u0yJj8/3xg1alSZzzAcFbzLli1zqWi+9tprjZycHJcxR44cMa6//voy\\\n",
       "5/f2eRcXFxvdunVzjOvYsaOxdu3aMuNOnjxpjB8/3nH+tLQ04+eff/Y4p3NVZJUqVYy0tDTjjTfe\\\n",
       "MEpKSlzG/fDDDy6f+8033+xxPvvnKcm4+OKLjd9//93juMLCQmPp0qXGoEGDPFaJmq2odv7vxAzn\\\n",
       "7wEzZ870ObaoqMjIzs52jP/iiy9MncPMuatUqWIkJiYazz33nFFcXOwybunSpUZaWppLRWR6erqR\\\n",
       "kZFh/Oc//ykz77vvvutSJb5s2TKvaxgzZozx3nvvGUePHvX4eklJiTF37lyjZs2ajvm+/PJLr/MF\\\n",
       "+n3F/XNISEgwbDab8fjjj5f57929qtNfBa9d//79HeNatWpVZh7nitTMzEyfc4Xbu+++6zi3v79m\\\n",
       "sNu0aZPLde6vSru8z79//36X17ds2WJqXudr7L333gv4vTgLdwXv+vXrHa+np6cbn376qde5duzY\\\n",
       "YTzxxBPG3LlzQ3gHAAAglhDwAkCMCyTgffzxx13+0frZZ595HLd8+XLHmEaNGhn/+9//fM7rHJxe\\\n",
       "ccUVZV4vLi52CZaHDh3qda68vDyjdevWLussz4B3xowZjjGJiYnG8uXL/c7rybFjx4ysrCxH0Pn1\\\n",
       "11/7HL9582ZHeFujRg3jxIkTZcYMHDjQsbYWLVp4HGM3fPhwl88wHAHvBRdc4Jjv0ksv9fqn7sXF\\\n",
       "xUaPHj1czu/t83YO/s8///wyob875xBj5MiRHsc4h2Y2m82YP3++1/k+/vhjl9DDU2uF9u3bO8Zs\\\n",
       "377d5/p8iVTA+9ZbbznG+/tz97lz57r8t+0eegfK+fuPJOOVV17xOvaJJ55wGWuz2XwGzM7X8N/+\\\n",
       "9reQ1mkYhvH111875hswYIDXcaEGvJKMJ554wtRxZgPegwcPGnXq1HGMvfvuux2vffPNN0ZCQoLj\\\n",
       "tbfeesvUucPl+eefd5y7devWpo45dOiQy+e1devWmDr/5s2bXV53/0WWN61atXIc8+KLLwb8XpyF\\\n",
       "O+CdNm2a4/WHHnoopLUBAADrYZM1ALC4Y8eO6csvv9TAgQP1yCOPOJ7/xz/+ocsvv9zjMf/6178c\\\n",
       "95955hmddtppPs8xdOhQx58xL1y4UIcOHXJ5feHChdq9e7ckKSUlRU8//bTXufy9Hmn2P3eXpHvu\\\n",
       "uUcXX3xxUPPMnDlTR44ckSTdfvvt6tSpk8/x55xzjmOTnkOHDpX5k/QjR47ov//9r+Px5MmTlZqa\\\n",
       "6nW+yZMn+/1T/UBs2bJFq1atcjyeOnWq4uPjPY6Ni4vTtGnTfG50ZOd8rb344otKSUnxOX7MmDGO\\\n",
       "jareeecdx59me9OnTx9dccUVXl/v3bu3ateuLal0EzVPf67t3HahZs2aPs8XDddcc42jzcLKlStd\\\n",
       "Wou4e/XVVx33hw0bZuprZFabNm0cLRc8ueGGG1we9+vXz2WzK1/j7S0bQtGpUyedc845kqQvvvgi\\\n",
       "5Pm8qVOnjkaPHh3WOWvUqKHXX3/d8fWaNm2a5s+fr9zcXA0aNEhFRUWSpEGDBmngwIFhPbc/ubm5\\\n",
       "jvv+/vv1Ns55jlg4v/vjYOYN5T1FQqx/HwMAAJFFwAsAFvLYY4+V2e09MzNTl1xyiaP3bY0aNTRp\\\n",
       "0iSXYM1ZUVGRFi1aJKm0z2efPn1Mnbtbt26SJMMwXPr2StKSJUsc93v37q0aNWr4nOuyyy7TGWec\\\n",
       "Yeq84fTLL784em9K0p133hn0XJ9++qnjvtnAxTnsWrFihctrq1at0qlTpyRJp59+us/QUpKqVasW\\\n",
       "1j7Gzl/D9u3bq3nz5j7HN23aVOeff77PMXv37tX69eslSc2bN1ebNm38riM5OVmdO3eWJB09elQ/\\\n",
       "/PCDz/F//etffb5us9lczuup92S9evUc91988UW/ayxvVapU0eDBgx2PnUNcZ/v379cnn3wiSYqP\\\n",
       "j9fQoUPDuo5rr73W5+sNGzZ0+aWDv/HOfWZ37txpag0//vij3n77bT3++OO67777dNddd+nOO+90\\\n",
       "3I4ePSqp9Jco9l86hdu1116rhITwb2Nx6aWX6v7775dU+n325ptv1s0336yffvpJktSgQQOPvYUj\\\n",
       "zbkHeVJSkqljqlSp4vL45MmTMXV+977qwcwbynuKBOfvY6+//rry8vKiuBoAAFDe2GQNACqQ+Ph4\\\n",
       "PfXUUz6r7L7//nudOHFCUulmUn//+99Nzb169WrHfffgxHljIXs454vNZlOnTp30wQcfmDp3uHz9\\\n",
       "9deO+02aNFHdunWDnuurr75y3H/55Zf12muv+T3mt99+c9z39Rl27NjR6yZszjp37uyyqV0oAv0a\\\n",
       "2sc5fw7unF87efKk6UB9x44djvu7d+9W69atvY41s8mR8y8cPG2SNmDAAC1evFhSaQXxokWLNGjQ\\\n",
       "IF1++eUhXSPhdOutt+rZZ5+VVBreTJgwoUzI+NprrzkqPXv37q06deqEdQ3uG395kpWV5fj+0qJF\\\n",
       "C59jnTd/87d53SeffKJHHnkkoE3MDh486BJ6hUv79u3DPqfdE088oS+++EJr1qzR/v379Z///EdS\\\n",
       "6ff2t956y7H5XnlKTk523C8oKDB1jP2XVXZmK2TL6/zOc9rndX/O37yhvKdI6N27t9LS0nTixAmt\\\n",
       "XbtWzZo10y233KIrr7xS7dq18/oXGQAAoGIg4AUACznvvPNcdnfPzc3Vr7/+6qj+LC4u1vDhw/Xz\\\n",
       "zz/rySef9DjHnj17HPcPHTqk5557LuB12Hdyt/vf//7nuF+/fn1Tc5gdF0779+933G/YsGHQ8+Tm\\\n",
       "5ur48eOOx6+88krAc8TaZxiJ8ztfazt37gzLteYuMzPT7xyJiYmO+4WFhWVeHz58uBYsWKA5c+ZI\\\n",
       "Kv3zfvuf+NevX18XX3yxunXrpn79+vltZxIp55xzji666CKtWLFC+/fv18cff6z+/fu7jJk5c6bj\\\n",
       "/vDhw8O+BjOftXPo7G+881h7MO3J+PHj9dhjj5lYoSvn/0bDKZJ//p6YmKi3335b5557riMol6SH\\\n",
       "H35YF1xwQcTO60t6errjvtmqVfdxznPEwvndH588edJUwOs8byjvKRJq1KihV155RYMHD1ZhYaF2\\\n",
       "796t8ePHa/z48UpPT1enTp3UpUsXXXXVVWrbtm20lwsAAMKMFg0AYCG9e/fW9OnTHbfZs2dr8eLF\\\n",
       "2rVrl0s/ywkTJui9997zOIf9T5hD4R7GOPci9NU31lk4+8ea5Rz4hPKP84r4GUbi/JH4nNyFo8ds\\\n",
       "fHy8PvjgA73yyitlWlP8+uuveuuttzR8+HDVqVNHw4cPV05OTsjnDMatt97quO/epmHFihWO3rzZ\\\n",
       "2dm68sorw37+QD/rcHxtFi1a5BLudu7cWS+//LLWrVungwcPKj8/X0bppsEyDENdunRxjPXXvzlY\\\n",
       "ka7czMjIKHMO9zC/PDlXwDv/ksyXffv2uTx2rtaOhfO7txEKZt5Q3lOkXH/99fr222/1l7/8xeUX\\\n",
       "W7m5ufriiy/06KOPql27durQoYO+/PLLKK4UAACEGwEvAFQAtWvX1ptvvqmePXs6nvvb3/7msfrR\\\n",
       "OZRr3bq1Szhi9jZ+/HiXOZ3DUrN9/5yr08LFX6BTtWpVx/1QNshxDzZzcnIC/gyXLl3qMke0P8NI\\\n",
       "nN/5c+rbt29Q11q4+8h6Y7PZdMstt2jTpk3atm2bXn75ZQ0ZMsSl0ruwsFCvvvqqOnbs6FLxXF6u\\\n",
       "vfZaVatWTZI0f/58lwpp58B36NChFebPsf/5z3867g8bNkwrV67UiBEj1LZtW9WoUaNMr9VIVe2W\\\n",
       "F/s1f/DgQZfnBw8eXKbtQHk5++yzHfcPHDhQpn+tJ7/++qvjfvXq1UOqeo7E+U8//XTHZo5SaX92\\\n",
       "f/Lz813+u7dvPBpr2rZtqw8++EAHDhzQRx99pPvvv1+dO3d2CXzXrFmjbt266f3334/iSgEAQDgR\\\n",
       "8AJABREXF6dXXnnFEarl5ORowoQJZcbVqlXLcd+9yilYzv94dv6HtS9mNkBy/gepv0pOyX/FqPN7\\\n",
       "N7upkydZWVkuwVI4PsdIfYbRPH8krrXy0LRpU40YMUKzZ8/Wjh07tG3bNt1zzz2O0HTHjh1BtQwI\\\n",
       "VUpKim688UZJUnFxsaPv8/Hjxx1BjT2orgiKi4u1bNkySaXf3yZOnOi3KtjstRurnn32WS1cuFBS\\\n",
       "6S+k7H2UN27cqAceeCAqazr77LMdPcENw3BsnOjL2rVrHffPOeecmDy/8/Nmejs7zxkfH6+mTZv6\\\n",
       "PcYswzD8jgl007SsrCz17dtXkydP1qpVq3Tw4EHNmjXL0VqnuLhYt99+e8xtFgcAAIJDwAsAFUjd\\\n",
       "unU1atQox+Pp06eXCdbatm3rCCcPHDjg2KE9FO3atXPcd97IzBvDMPTNN9/4Hee8odChQ4f8jt+4\\\n",
       "caPP188//3zH/R9//NFl07NAOfdCXrlyZdDz2Dl/hqtXrzb15+W+NjgL5fxmvoZmzt+pUyfH/fXr\\\n",
       "10ekars8NG3aVM8884xLqDt37tyorMW5TYO95+7/+3//z/HZdunSRY0aNYrK2sLt4MGDjk21Tj/9\\\n",
       "dJ1++uk+x2/evLlM5asn4WgdEQnff/+9HnzwQcfjadOm6Y033nCsd9q0aVqwYEG5rys5Odnle6f7\\\n",
       "Xx94Yg/mJal79+4xef5u3boFPecFF1xQpno8FP42GZQU0s8rqfTn6dChQ7V48WLH2g8ePBjWnyMA\\\n",
       "ACB6CHgBoIK59957Ha0I8vPzNXnyZJfXU1JSXP7B+/zzz4d8Tud/KH/66ad+e5QuXrzY1D9WGzRo\\\n",
       "4Ljvr2orPz9f8+bN8znmzDPPdKnaCmbTL7s+ffo47r/wwgumKrB8cQ4M9u/fr88++8zn+KNHj4Y1\\\n",
       "ZHT+Gn733XfaunWrz/E//fST32CgYcOGjs+7oKCgTN9Yq+nbt6/jvtmenZ44b+bkadM3X1q2bKnO\\\n",
       "nTtLKv0aLFu2zOVzjcTmatFir9qUzG2u9cILL5iaN5TPP1Ly8/M1cOBARxuGAQMGaMiQIerevbvu\\\n",
       "u+8+SX+2b4hGexDnHsCzZ8/2OXb37t2OTQrdj42l8zs///nnn/v9meR83nD3RPb3862kpCRsPXMb\\\n",
       "NWqkFi1aOB6H8r0MAADEDgJeAKhgqlWrprvuusvx+KWXXioTCIwePdpxf9q0afr8889Nz+/pT+17\\\n",
       "9OihevXqSSr9M1Jff0qcn5+ve++919S5nCtAP/74Y5/VeY8++qip6r177rnHcf+ZZ54J+h/Nt912\\\n",
       "m6OH49q1awP6k/2DBw+quLjY5bmsrCxdc801jscPPPCAz1Br9OjRIfURdnfOOefoggsucDz++9//\\\n",
       "7rWKuKSkRHfffbepUNv5Wnv44Yf9Vlk7K6+2DmauG8m1JYW/alJfnDd4+v333wM+3rmKd/To0Y5q\\\n",
       "+GrVqrlcQ1ZXo0YNZWZmSir9hYZzBaW7lStXmg54Q/38I+G+++7Tpk2bJEn16tXTSy+95HjtiSee\\\n",
       "cFTY79+/X8OGDSv39Q0ZMsTR/mfbtm165ZVXvI4dPXq04/tb586dde6558bk+c877zydd955kkrb\\\n",
       "FYwZM8brnC+//LJ+/PFHSaWtMwYPHhzU+/Dm9ddf99lb+M0333QJoN1/fkjmv48VFxdr7969jseh\\\n",
       "fC8DAACxg4AXACqge+65x7FpVl5enp555hmX17t06aIhQ4ZIKu1te+WVV2rixIleA8P8/HzNmTNH\\\n",
       "/fr1c6litIuPj9fjjz/uePzqq69q1KhRZf7Bum/fPl111VXasGGDkpKS/L6P8847z/Hn5rm5ubrh\\\n",
       "hhvKbByXl5en+++/X//85z9N/cns0KFDHUFmYWGhrrjiCj3//PMeK/kKCgo0b948/eUvfynzWmZm\\\n",
       "pv797387Hj/22GMaMmSI1x6ghmFo5cqVuv3221W/fn2P4e2jjz7qeA8bN27UlVdeWSaAOnXqlO67\\\n",
       "7z699NJLpj7DQDz55JOOPwf/7LPPNHDgQB05csRlzLFjx3TTTTdp/vz5ps5/4403OirGjx8/rosu\\\n",
       "ukgvvfSS40/v3R07dkxvvfWWunbt6vKLikiqX7++brvtNi1btsxrqP3dd9+5rKdXr15Bn69ly5aO\\\n",
       "+8FscjRgwABH8Onc6mTQoEEu1alWFxcXp969ezseDx06VN9++22Zce+995569+6t4uLiMhsgeuL8\\\n",
       "+X/00Uder8Xy8umnnzr+miAuLk5vvPGGywZgSUlJevvtt5Wamiqp9Jdd4fjLi0CcfvrpLr8cu/vu\\\n",
       "u/Xee++5jCksLNSYMWP0zjvvOJ6bOHGiz3kbNGggm80mm83mc0PFSJ3f+fW33npLY8aMKfOz4L33\\\n",
       "3nNpfXTffffptNNO8zlvoH7++WeP32+l0u8Rt99+e5nxkmvQe//99+uSSy7R66+/7nEeqbTV0YgR\\\n",
       "IxwBb0ZGhssv9gAAgIUZAICY1qVLF0OSIckYN26c6eNGjx7tOC49Pd04dOiQy+v5+flGjx49HGMk\\\n",
       "GampqUa3bt2MIUOGGLfeeqsxYMAAo3379kaVKlUcY9q3b+/1nAMGDHCZr1q1asbVV19tjBgxwrji\\\n",
       "iisc85x11lnGqFGjTL2v9957z2XOzMxM4+qrrzZuvfVWo2/fvkZWVpYhyahTp47x5JNPOsYNGTLE\\\n",
       "65y7d+82mjRp4jJvVlaWceWVVxrDhw83hg4danTr1s3IyMhwnNObRx55xGWe+Ph4o3379sagQYOM\\\n",
       "2267zRg0aJDRpUsXIzMz02Xc8ePHPc733HPPuYxLSkoyevToYYwYMcK49tprjRo1ajie/+c//+kY\\\n",
       "16VLF69rDMT999/vcv60tDTjqquuMkaMGGH07dvXSE9Pd3xtx48fb+rzPnjwoNGuXTuXeTMyMoye\\\n",
       "PXsaw4YNc7y3Vq1aGQkJCY4x11xzjcf5zjzzTMeYnTt3+n1PQ4YMcYyfNWtWmded11W1alXj4osv\\\n",
       "Nm688UbjtttuM6655hqjRYsWLmNq1qxp/P7772XmWbJkiamvx8svv+wYZ7PZjG7duhl33nmnce+9\\\n",
       "9zpuOTk5Pt/T7bff7rImScb69ev9fhaBcv7+s2TJEr/jA/3aOK/fk02bNhkpKSkun9cFF1xgDB06\\\n",
       "1Bg4cKBx1llnOV4bMWKEqfUeOXLEZc6GDRsaw4YNM+655x7H579w4cKQPgezn8e+ffuM008/3TFm\\\n",
       "zJgxXud64YUXHONSUlKMzZs3m15HOBQUFBjdu3d3+Zq1atXKGDJkiHHdddcZ2dnZLq899thjfud0\\\n",
       "/nx8fQ+J1PkNwzAefvhhl+Pq1KljXHfddcaQIUOMli1burx2+eWXG4WFhabm9cf5mqpdu7bj+0+f\\\n",
       "Pn2MW2+91Rg0aJDLz6nmzZu7/Jy5/vrrjd69ezvmc/4+Fx8fb7Ro0cK49tprjREjRhg33nij0a1b\\\n",
       "NyMpKcnl/bz88stheS8AACD6CHgBIMYFG/AeOHDASEtLcxz78MMPlxlTVFRkPPLII0ZqamqZsMjT\\\n",
       "LTEx0bjjjju8nrOgoMDlH5mebs2aNTO2bNlijBs3zvT7euyxx3zOefbZZxs//PCDMWvWLNNhwaFD\\\n",
       "h4y//OUvpt73GWec4XOud99916hTp46puSQZHTt2NPLz873ON3XqVJdQ3f2WmZlpfPTRR6YDxUCN\\\n",
       "GTPGiIuL83r+OnXqGKtWrQro887LyzNGjhzpEuD6uqWkpBgTJkzwOFe4A157aG3m1qZNG2PLli0e\\\n",
       "z2P261FQUGBccsklPs/j732tX7/eZXyHDh38fg7BiHbAaxiGMWfOHL/fo2699VYjPz/f9HpfeOEF\\\n",
       "w2azeZ3P/XtSpALeXr16uXwNCwoKfM7Xt29fx/i2bdsap06dMr2WcDhy5EiZX+R5+jnx5JNPmpov\\\n",
       "kIA3Euc3DMMoKSkxHn/8cSMxMdHnvNdff71x9OhR0/P643xNvfPOO0bDhg29nvvyyy83Dh48aFSr\\\n",
       "Vq3M9yO7O++80/T3sapVqxLuAgBQwdCiAQAqqJo1a+pvf/ub4/G0adPK/NlmfHy8/u///k+7du3S\\\n",
       "008/rSuuuEL169dXamqqEhMTVaNGDZ177rkaMmSIZs+erd9//13Tp0/3es7ExETNnj1bX3zxha67\\\n",
       "7jrVrVtXSUlJqlWrli688EJNmTJFq1evVrNmzQJ6L48++qhWrVqlG264wTHnaaedpvPPP1/PPvus\\\n",
       "vvvuO5dNY8yoXr26PvjgA3377bcaNWqU2rZtq9NOO03x8fFKT09Xs2bNdP3112v27Nnatm2bz7kG\\\n",
       "DBign3/+WbNnz9YNN9ygxo0bKzMzU/Hx8crIyNA555yjq6++Wv/+97+1bds2ffPNNz7bSdx11136\\\n",
       "/vvvddddd6lJkyZKSUlRVlaWWrVqpQcffFDff/+9x1YZ4TJx4kR9++23GjZsmBo0aKAqVaqoRo0a\\\n",
       "at++vZ588klt2LDBsdGXWSkpKXrhhRe0fft2Pf744+rWrZvOOOMMJScnKykpSTVr1lSnTp106623\\\n",
       "6t1339W+ffv04IMPRugdujp06JAWLVqkhx9+WD179lTDhg2Vlpam+Ph4Va1aVeecc45uvPFGffjh\\\n",
       "h1q7dm3A16+7xMREff7553rhhRd02WWXqXbt2gG322jTpo0aNmzoeFyRNldz169fP/3www+68847\\\n",
       "1bRpUyUnJys9PV1NmzbVzTffrGXLlumll14y1aLFbuTIkfryyy910003qWnTpkpLS3O0Jykv06ZN\\\n",
       "0/z58yVJaWlpeuutt5SYmOjzmFdffVXZ2dmSSjfmGjt2bMTX6SwzM1PvvvuuFi1apBtvvFGNGjVS\\\n",
       "amqqMjMz1bJlS917773asGFDxNYVifPbbDY9/PDD2rBhg+655x61bNlSmZmZSk1NVaNGjXTjjTdq\\\n",
       "0aJFeuedd5SRkRGR91W7dm2tXbtWY8eO1TnnnON4T+eff75efPFFLViwQDVq1NB//vMfnXPOOUpJ\\\n",
       "SVG7du30j3/8wzHHtGnTtHnzZk2dOlUDBw5UmzZtVK1aNSUkJCg5OVlnnHGGevTooaefflo//fST\\\n",
       "RowYEZH3AgAAosNmGCFu+w0AAIBytWvXLjVs2FCGYSgtLU179uyJWPgEIPy6du3q2DhwyZIl6tq1\\\n",
       "a3QXBAAALI0KXgAAAIuZOXOm7L+jHzBgAOEuAAAAUIkR8AIAAFhIfn6+ZsyY4Xg8cuTIKK4GAAAA\\\n",
       "QLQR8AIAAFjIww8/rH379kmSLrjgAnXs2DHKKwIAAAAQTQnRXgAAAAC8W7BggRYsWKCTJ0/q22+/\\\n",
       "1fr16yWVbg41ceLE6C4OAAAAQNQR8AIAAMSwr7/+WlOmTCnz/H333adLLrkkCisCAAAAEEsIeAEA\\\n",
       "ACwiNTVVrVq10u23367BgwdHezkAAAAAYoDNsG/BDAAAAAAAAACwFDZZAwAAAAAAAACLIuAFAAAA\\\n",
       "AAAAAIsi4AUAC8rPz9ff/vY3Pfnkk9FeCuDAdYlYxbWJcOFaAgAAsYiAFwAs6PPPP9eLL76o//3v\\\n",
       "f47nOnToIJvNFtCtZs2a5b72Xbt2yWazqWvXruV+bkRWpK7L999/X127dlW1atWUlpamNm3aaPLk\\\n",
       "ySosLPS4Dq4xuPN0bTorLCzUa6+9piuvvFJ16tRRlSpVlJmZqcaNG+uKK67QU089pd27dzvGc41V\\\n",
       "Xvz8BQAAsSgh2gsAAARuzpw5kqT+/ftLkgzDULt27dSyZUuXcTt37tTy5cuVnp6ua665psw8zZo1\\\n",
       "i/RSUYlE4rocNWqUpkyZooSEBHXv3l3p6elavHixRo8erXnz5umzzz5TSkpKxN4TKgb3a9PZ9u3b\\\n",
       "dfXVV+uHH35Qamqq2rVrp0suuUQFBQXavHmzFi5cqIULF6p9+/aqV69e+S4cMYefvwAAIBYR8AKA\\\n",
       "xZSUlGjevHmqUaOGLr74YkmSzWbTjBkzyox94okntHz5cnXq1EmzZ88u55WiMonEdTlnzhxNmTJF\\\n",
       "6enpWrZsmc4991xJ0sGDB9W9e3etWLFCjzzyiJ5++umIvCdUDJ6uTbvDhw+rW7du+v333/WPf/xD\\\n",
       "Dz/8sKpXr+4y5ueff9ZLL72k8847rzyXjRjEz18AABCraNEAABazatUqHThwQH369FF8fLzPsevW\\\n",
       "rZMkRzAWqqFDh8pms2np0qVhmQ8VRySuywkTJkiSxowZ4zL2tNNO0/PPPy9Jmj59uo4ePRrK0lHB\\\n",
       "+bo2n376af3+++/q3bu3/vWvf5UJdyWpYcOGeuqpp5SZmVleS0aMiubPXwAAAF8IeAHAYnz9qbG7\\\n",
       "tWvXSpLatWsXwRUB4b8uf//9d61evVqSNHDgwDKvX3TRRapXr55OnTqlTz/9NPAFo9LwdW0uWrRI\\\n",
       "kspU9gKe8PMXAADEKgJeALCYjz76SCkpKerRo4fPcYcPH9auXbskUUGEyAv3dWmvfqtevbrOOuss\\\n",
       "j2M6dOjgMhbwxNe1efLkSUnS8uXLVVxcXN5Lg8Xw8xcAAMQqAl4AsJAffvhBP/30k3r06KHU1FSf\\\n",
       "Y+2hV3p6upo0aVIey0MlFYnrcufOnZKk+vXrex1j3/DKPhZw5+/avOSSSyRJ8+fPV5MmTTR69Ggt\\\n",
       "WrRIubm55b1UxDh+/gIAgFhGwAsAFhLIn4fa/4HZpk0bxcXx7R6RE4nr8vjx45KktLQ0r2PS09Ml\\\n",
       "SceOHTO5UlQ2/q7NCRMmqF+/fpJKf1EwefJk9ejRQ9WrV9cVV1yhefPmldNKEev4+QsAAGJZQrQX\\\n",
       "AAAwb86cOYqPj9dVV13ld2wo/f9eeeUVrVixoszz9ucmTZrkcVfwMWPGqFmzZgGfD9ZWXtclECh/\\\n",
       "12ZmZqbmzJmj7du364MPPtDnn3+uVatWKS8vTwsXLtTChQt133336Z///Gc5rxyxpry+zz3wwAOa\\\n",
       "O3duwMe98soruuiiiwI+DgAAVAwEvABgIbt371bVqlWVlZXld2woO3ivWLFCr732mtfXFy5c6PH5\\\n",
       "oUOHEvBWQpG4LqtWrSpJOnHihNcx9j+jz8jIMLlSVDZmr017e4bRo0eroKBAixYt0gMPPKDNmzfr\\\n",
       "mWee0ciRI9WoUaPyWTRiUnn9/N2zZ4+2bdsW8HG0FQEAoHLjb4YAwEL69OmjI0eOeKyudZaXl+f4\\\n",
       "B2IwFUSzZ8+WYRhlbkOGDJEkLVmyxOPrXbt2DfhcsL5IXJcNGjSQVBqqeGN/zT4WcGf22nSWlJSk\\\n",
       "K6+8UjNnzpQkGYahjRs3RmqJsIjy+vn75ptvevz56u92xRVXBPW+AABAxUDACwAWYu/9Z+8F6M2G\\\n",
       "DRtUUlKipKQktWjRIvILQ6UWievSHowcOnTI6yZq3333nSR2qYd3Zq9NT+yb+El/9ntG5cXPXwAA\\\n",
       "EMsIeAHAQi6//HKlpaXpo48+8jnO3v+vZcuWSkxMLI+loRKLxHVZt25dnXfeeZKkt99+u8zrK1as\\\n",
       "0O7du1WlShX17t07yJWjovN2bRqG4fdYe5BXtWpVXXDBBZFYHiyEn78AACCWEfACgIUkJyerZ8+e\\\n",
       "2rlzpzZs2OB1XCj9/4BAReq6HDt2rKTSTf3soYlUWtV7++23S5LuvPNOZWZmBrt0VHDers2HHnpI\\\n",
       "I0eO1KZNm8occ/LkSU2fPl333nuvpNLrLzU1tdzWjNjEz18AABDLCHgBwGLM/JloKDt4A8GIxHXZ\\\n",
       "v39/3X333crNzdX555+vXr166dprr1Xjxo21ceNGXXjhhXr88cdDXToqOE/X5ooVK/TSSy+pZcuW\\\n",
       "atiwofr166eBAweqa9euqlu3ru666y5J0pQpUxy/TAD4+QsAAGIVAS8AWEyfPn2UkJDg9R+YhYWF\\\n",
       "jqo0KohQXiJ1XU6ZMkXvvvuuOnfurFWrVunTTz9V3bp1NWnSJC1evFgpKSnhWD4qME/X5ssvv6wp\\\n",
       "U6aob9++SklJ0YoVK/T+++9r48aNatq0qR5++GFt27ZNd999d/QWjpjDz18AABCrEqK9AABAYKpV\\\n",
       "q6ZLLrlEixcv1i+//KIzzzzT5fXExESdOnUqIueePXu2Zs+eHZG5YW2RvC4HDBigAQMGhGOZqIQ8\\\n",
       "XZvNmjVTs2bNCHARkGj+/AUAAPCFCl4AsKBQdoYHIoXrErGKaxPhwrUEAABiEQEvAFgQ/8BELOK6\\\n",
       "RKzi2kS4cC0BAIBYRIsGALCgevXqyTCMaC8DcMF1iVjFtYlw4VoCAACxiApeAAAAAAAAALAoKngB\\\n",
       "AOUqKytL48aNU4MGDaK9FFRQXGOINK4xWBHXLQAAFZfN4G+MAAAAAAAAAMCSaNEAAAAAAAAAABZF\\\n",
       "wAsAAAAAAAAAFkXACwAAAAAAAAAWRcALAAAAAAAAABZFwAsAAAAAAAAAFkXACwBwOHXqlMaPH69T\\\n",
       "p05FeymohLj+EE1cf4gmrj8AABAKm2EYRrQXAQCIDceOHVNmZqaOHj2qjIyMaC8HlQzXH6KJ6w/R\\\n",
       "xPUHAABCQQUvAAAAAAAAAFgUAS8AAAAAAAAAWFRCtBcAwFVJSYn27NmjqlWrymazRXs5qGSOHTvm\\\n",
       "8r9AeeL6QzRx/SGauP4QTYZh6Pjx46pTp47i4qgBAwArogcvEGN+++031atXL9rLAAAAAFCJ7N69\\\n",
       "W3Xr1o32MgAAQaCCF4gxVatWlVT6f7DYZAPlrbCwUJ999pl69OihxMTEaC8HlQzXH6KJ6w/RxPWH\\\n",
       "aDp27Jjq1avn+HcIAMB6CHiBGGNvy5CRkUHAi3JXWFio1NRUZWRk8A9MlDuuP0QT1x+iiesPsYD2\\\n",
       "cABgXTTYAQAAAAAAAACLIuAFAAAAAAAAAIsi4AUAAAAAAAAAiyLgBQAAAAAAAACLIuAFAAAAAAAA\\\n",
       "AIsi4AUAAAAAAAAAiyLgBQAAAAAAAACLIuAFAAAAAAAAAIsi4AUAAAAAAAAAiyLgBQAAAAAAAACL\\\n",
       "IuAFAAAAAAAAAIsi4AUAAAAAAAAAiyLgBQAAAAAAAACLIuAFAAAAAAAAAIsi4AUAAAAAAAAAiyLg\\\n",
       "BQAAAAAAAACLIuAFAAAAAAAAAIsi4AUAAAAAAAAAiyLgBQAAAAAAAACLIuAFAAAAAAAAAIsi4AUA\\\n",
       "AAAAAAAAiyLgBQAAAAAAAACLIuAFAAAAAAAAAIsi4AUAAAAAAAAAiyLgBQAAAAAAAACLIuAFAAAA\\\n",
       "AAAAAIsi4AUAAAAAAAAAiyLgBQAAAAAAAACLIuAFAAAAAAAAAIsi4AUAAAAAAAAAiyLgBQAAAAAA\\\n",
       "AACLIuAFAAAAAAAAAIsi4AUAAAAAAAAAiyLgBQAAAAAAAACLIuAFAAAAAAAAAIsi4AUAAAAAAAAA\\\n",
       "iyLgBQAAAAAAAACLIuAFAAAAAAAAAIsi4AUAAAAAAAAAiyLgBQAAAAAAAACLIuAFAAAAAAAAAIsi\\\n",
       "4AUAAAAAAAAAiyLgBQAAAAAAAACLIuAFAAAAAAAAAIsi4AUAAAAAAAAAiyLgBQAAAAAAAACLIuAF\\\n",
       "AAAAAAAAAIsi4AUAAAAAAAAAiyLgBQAAAAAAAACLIuAFAAAAAAAAAIsi4AUAAAAAAAAAiyLgBQAA\\\n",
       "AAAAAACLIuAFAAAAAAAAAIsi4AUAAAAAAAAAiyLgBQAAAAAAAACLIuAFAAAAAAAAAIsi4AUAAAAA\\\n",
       "AAAAiyLgBQAAAAAAAACLIuAFAAAAAAAAAIsi4AUAAAAAAAAAiyLgBQAAAAAAAACLIuAFAAAAAAAA\\\n",
       "AIsi4AUAAAAAAAAAiyLgBQAAAAAAAACLIuAFAAAAAAAAAIsi4AUAAAAAAAAAiyLgBQAAAAAAAACL\\\n",
       "IuAFAAAAAAAAAIsi4AUAAAAAAAAAiyLgBQAAAAAAAACLIuAFAAAAAAAAAIsi4AUAAAAAAAAAiyLg\\\n",
       "BQAAAAAAAACLIuAFAAAAAAAAAIsi4AUAAAAAAAAAiyLgBQAAAAAAAACLIuAFAAAAAAAAAIsi4AUA\\\n",
       "AAAAAAAAiyLgBQAAAAAAAACLIuAFAAAAAAAAAIsi4AUAAAAAAAAAiyLgBQAAAAAAAACLIuAFAAAA\\\n",
       "AAAAAIsi4AUAAAAAAAAAiyLgBQAAAAAAAACLIuAFAAAAAAAAAIsi4AUAAAAAAAAAiyLgBQAAAAAA\\\n",
       "AACLIuAFAAAAAAAAAIsi4AUAAAAAAAAAiyLgBQAAAAAAAACLIuAFAAAAAAAAAIsi4AUAAAAAAAAA\\\n",
       "iyLgBQAAAAAAAACLIuAFAAAAAAAAAIsi4AUAAAAAAAAAiyLgBQAAAAAAAACLIuAFAAAAAAAAAIsi\\\n",
       "4AUAAAAAAAAAiyLgBQAAAAAAAACLIuAFAAAAAAAAAIsi4AUAAAAAAAAAiyLgBQAAAAAAAACLIuAF\\\n",
       "AAAAAAAAAIsi4AUAAAAAAAAAiyLgBQAAAAAAAACLIuAFAAAAAAAAAIsi4AUAAAAAAAAAiyLgBQAA\\\n",
       "AAAAAACLIuAFAAAAAAAAAIsi4AUAAAAAAAAAiyLgBQAAAAAAAACLIuAFAAAAAAAAAIsi4AUAAAAA\\\n",
       "AAAAiyLgBQAAAAAAAACLIuAFAAAAAAAAAIsi4AUAAAAAAAAAiyLgBQAAAAAAAACLIuAFAAAAAAAA\\\n",
       "AIsi4AUAAAAAAAAAiyLgBQAAAAAAAACLIuAFAAAAAAAAAIsi4AUAAAAAAAAAiyLgBQAAAAAAAACL\\\n",
       "IuAFAAAAAAAAAIsi4AUAAAAAAAAAiyLgBQAAAAAAAACLIuAFAAAAAAAAAIsi4AUAAAAAAAAAiyLg\\\n",
       "BQAAAAAAAACLIuAFAAAAAAAAAIsi4AUAAAAAAAAAiyLgBQAAAAAAAACLIuAFAAAAAAAAAIsi4AUA\\\n",
       "AAAAAAAAiyLgBQAAAAAAAACLIuAFAAAAAAAAAIsi4AUAAAAAAAAAiyLgBQAAAAAAAACLIuAFAAAA\\\n",
       "AAAAAIsi4AUAAAAAAAAAiyLgBQAAAAAAAACLIuAFAAAAAAAAAIsi4AUAAAAAAAAAiyLgBQAAAAAA\\\n",
       "AACLIuAFAAAAAAAAAIsi4AUAAAAAAAAAiyLgBQAAAAAAAACLIuAFAAAAAAAAAIsi4AUAAAAAAAAA\\\n",
       "iyLgBcLs0KFDGjlypKZPnx7tpQAAAAAAAKCCI+BFTNq1a5dsNpu6du3q8nyHDh1ks9kCutWsWbNc\\\n",
       "116jRg0tWLBADz/8sAoLC8v13AAAAAAAAKhcEqK9AMAswzDUrl07tWzZ0uX5nTt3avny5UpPT9c1\\\n",
       "11xT5rhmzZqV1xId+vXrp6lTp2rx4sXq2bNnuZ8fAAAAAAAAlQMBLyzDZrNpxowZZZ5/4okntHz5\\\n",
       "cnXq1EmzZ88u/4V50L9/f02dOlVz5swh4AUAAAAAAEDE0KIBlrdu3TpJ0rnnnhuW+YYOHSqbzaal\\\n",
       "S5cGPccll1yi6tWra+7cuTIMIyzrAgAAAAAAANwR8MLy1q5dK0lq165dlFfyp/j4ePXp00d79uzR\\\n",
       "t99+G+3lAAAAAAAAoIKiRQMs7fDhw9q1a5ek8FXwhkv//v31+uuva86cOerUqZPXcadOndKpU6cc\\\n",
       "j48dOyZJKiwsZJM2lDv7Nce1h2jg+kM0cf0hmrj+EE1cdwBgfQS8sDR7e4b09HQ1adIkyqtx1bNn\\\n",
       "T6WkpGjOnDmaOHGi13ETJ07UY489Vub5zz77TKmpqZFcIuDVokWLor0EVGJcf4gmrj9EE9cfoiEv\\\n",
       "Ly/aSwAAhIiAF5ZmD3jbtGmjuLjY6jiSmpqqyy+/XHPnztWPP/6opk2behz34IMP6p577nE8Pnbs\\\n",
       "mOrVq6cePXooIyOjvJYLSCqt4Fi0aJEuv/xyJSYmRns5qGS4/hBNXH+IJq4/RJP9LwgBANZFwAtL\\\n",
       "C6X/7iuvvKIVK1aUed7+3KRJkzR79uwyr48ZM0bNmjUzdY7+/ftr7ty5+vDDDzV69GiPY6pUqaIq\\\n",
       "VaqUeT4xMZH/g4+o4fpDNHH9IZq4/hBNXH+IBq45ALA+Al5Ymr2CN5j+uytWrNBrr73m9fWFCxd6\\\n",
       "fH7o0KGmA9769etLknbv3h3w+gAAAAAAAAB/Yutv2oEA5OXladu2bZKCq+CdPXu2DMMocxsyZIgk\\\n",
       "acmSJR5f79q1q+lzzJs3T5LUp0+fgNcHAAAAAAAA+EPAC8vasGGDSkpKlJSUpBYtWkR7OR599NFH\\\n",
       "ysjIUPfu3aO9FAAAAAAAAFRABLywLHv/3ZYtW8Zk36j169dr165d6tWrl5KSkqK9HAAAAAAAAFRA\\\n",
       "BLywrFD675aHOXPmSCrdaA0AAAAAAACIBAJeWJa9gjeY/rvlYc6cOUpKSlLv3r2jvRQAAAAAAABU\\\n",
       "UAS8sKTCwkJt2rRJUmxW8O7atUsbNmxQt27dlJGREe3lAAAAAAAAoIJKiPYCgGAkJibq1KlTEZl7\\\n",
       "9uzZmj17dkhz0J4BAAAAAAAA5YEKXiAC5syZI5vNpn79+kV7KQAAAAAAAKjACHiBMDt06JBWrFih\\\n",
       "jh07Kjs7O9rLAQAAAAAAQAVGiwYgzGrUqKGioqJoLwMAAAAAAACVABW8AAAAAAAAAGBRVPAiJmVl\\\n",
       "ZWncuHFq0KBBtJcCAAAAAAAAxCwCXsSkrKwsjR8/PtrLAAAAAAAAAGIaLRoAAAAAAAAAwKIIeAEA\\\n",
       "AAAAAADAogh4AQAAAAAAAMCiCHgBAAAAAAAAwKIIeAEAAAAAAADAogh4AQAAAAAAAMCiCHgBAAAA\\\n",
       "AAAAwKIIeAEAAAAAAADAogh4AQAAAAAAAMCiCHgBAAAAAAAAwKIIeAEAAAAAAADAogh4AQAAAAAA\\\n",
       "AMCiCHgBAAAAAAAAwKIIeAEAAAAAAADAogh4AQAAAAAAAMCiCHgBAAAAAAAAwKIIeAEAAAAAAADA\\\n",
       "ogh4AQAAAAAAAMCiCHgBAAAAAAAAwKIIeAEAAAAAAADAogh4AQAAAAAAAMCiCHgBAAAAAAAAwKII\\\n",
       "eAEAAAAAAADAogh4AQAAAAAAAMCiCHgBAAAAAAAAwKIIeAEAAAAAAADAogh4AQAAAAAAAMCiCHgB\\\n",
       "AAAAAAAAwKIIeAEAAAAAAADAogh4AQAAAAAAAMCiCHgBAAAAAAAAwKIIeAEAAAAAAADAogh4AQAA\\\n",
       "AAAAAMCiCHgBAAAAAAAAwKIIeAEAAAAAAADAogh4AQAAAAAAAMCiCHgBAAAAAAAAwKIIeAEAAAAA\\\n",
       "AADAogh4AQAAAAAAAMCiCHgBAAAAAAAAwKIIeAEAAAAAAADAogh4AQAAAAAAAMCiCHgBAAAAAAAA\\\n",
       "wKIIeAEAAAAAAADAogh4AQAAAAAAAMCiCHgBAAAAAAAAwKIIeAEAAAAAAADAogh4AQAAAAAAAMCi\\\n",
       "CHgBAAAAAAAAwKIIeAEAAAAAAADAogh4AQAAAAAAAMCiCHgBAAAAAAAAwKIIeAEAAAAAAADAogh4\\\n",
       "AQAAAAAAAMCiCHgBAAAAAAAAwKIIeAEAAAAAAADAogh4AQAAAAAAAMCiCHgBAAAAAAAAwKIIeAEA\\\n",
       "AAAAAADAogh4AQAAAAAAAMCiCHgBAAAAAAAAwKIIeAEAAAAAAADAogh4AQAAAAAAAMCiCHgBAAAA\\\n",
       "AAAAwKIIeAEAAAAAAADAogh4AQAAAAAAAMCiCHgBAAAAAAAAwKIIeAEAAAAAAADAogh4AQAAAAAA\\\n",
       "AMCiCHgBAAAAAAAAwKIIeAEAAAAAAADAogh4AQAAAAAAAMCiCHgBAAAAAAAAwKIIeAEAAAAAAADA\\\n",
       "ogh4AQAAAAAAAMCiCHgBAAAAAAAAwKIIeAEAAAAAAADAogh4AQAAAAAAAMCiCHgBAAAAAAAAwKII\\\n",
       "eAEAAAAAAADAogh4AQAAAAAAAMCiCHgBAAAAAAAAwKIIeAEAAAAAAADAogh4AQAAAAAAAMCiCHgB\\\n",
       "AAAAAAAAwKIIeAEAAAAAAADAogh4AQAAAAAAAMCiCHgBAAAAAAAAwKIIeAEAAAAAAADAogh4AQAA\\\n",
       "AAAAAMCiCHgBAAAAAAAAwKIIeAEAAAAAAFBuGjVqJJvN5vH22WefRXt5gOUQ8AIAAAAAAKDc/L//\\\n",
       "9/8kSatXr9bevXv1zTffOB5feuml0VwaYEkEvAAAAAAAACg3Bw4cUHp6utq3b6/atWtr3759jsfx\\\n",
       "8fHRXh5gOQS8AAAAAAAAKDcbN25UixYtZLPZJEnff/+9WrZs6XgMIDAEvAAAAAAAACg3P/zwg1q1\\\n",
       "auV4vGHDBpfHAAJDwAsAAAAAAIBys3HjRrVs2dLlMQEvEDwCXgAAAAAAAJSLoqIibd261RHoGoah\\\n",
       "n3/+WfXr14/yygDrIuAFAAAAAABAufjxxx9VUFDgqOC12Wxq2bKlRo4cqZ9++inKqwOsKSHaCwAA\\\n",
       "AAAAAEDl0Lx5cxmG4fLc2rVro7QaoGKgghcAAAAAAAAALIqAFwAAAAAAAAAsihYNAAAAAAAAKBc2\\\n",
       "m83UOPc2DgC8I+AFAAAAAABAuSC4BcKPFg0AAAAAAAAoNxMnTlSHDh1UtWpV1apVSwMGDNCuXbui\\\n",
       "vSzAsgh4AQAAAAAAUG6WLVumu+66S998840WLFignJwc9erVS0VFRdFeGmBJtGgAAAAAAABAuVmw\\\n",
       "YIHL4xkzZqhhw4bavHmzWrduHaVVAdZFBS8AAAAAAACi5ujRo5Kk6tWrR3klgDUR8AIAAAAAACAq\\\n",
       "iouLdd9996l3796qW7dutJcDWBItGgAAAAAAAFDuDMPQyJEj9euvv2rlypXRXg5gWQS8AAAAAAAA\\\n",
       "KFeGYej222/X559/ruXLl6tmzZrRXhJgWQS8AAAAAAAAKDeGYeiOO+7QJ598omXLlqlevXrRXhJg\\\n",
       "aQS8AAAAAAAAKDd33HGH3nnnHc2bN08pKSnat2+fpNJN1pKSkqK8OsB6CHgBAAAAAABQbl544QVJ\\\n",
       "0sUXX+zy/JIlS9S1a9corAiwNgJeAAAAAAAAlBvDMKK9BKBCiYv2AgAAAAAAAAAAwSHgBQAAAAAA\\\n",
       "AACLIuAFAAAAAAAAAIsi4AUAAAAAAAAAiyLgBQAAAAAAAACLIuAFAAAAAAAAAIsi4AUAAAAAAAAA\\\n",
       "i0qI9gIAAAAAAABQseTn52vv3r0utyNHjqioqMjlJkkJCQkut6ysLGVnZ7vckpOTo/yOgNhFwAsA\\\n",
       "AAAAAICAFBcXa+vWrVqzZo02bdqkPXv2OILc3/f+qqOHcxUXb1NmrRRVzY5XWh1DaVmFiks0ZEss\\\n",
       "kS2hRHFxcaq+s6cO1Vuk+JISlRTGqaTQplNHEnVsj01H9hbryP6TKi42lFktXbWza6lOdl2dkV1P\\\n",
       "derUUYsWLdS+fXs1a9ZM8fHx0f5IgKgh4AUAAAAAAIBXRUVFjjDXflu/fr1KVKS6bTOV2apIiWef\\\n",
       "UFLXAtXPls6tI6VlSymnGYqLz3PMU91t3rjCKmr+6Qht7r1YqYkFTq+cctzLKpaOH5SO7M3VkT25\\\n",
       "OrJ3h47slbb8Vk0LXkzQj+uPKM4Wr7Zt26l9+w5q3769I/RNSCD2QuXAlQ4AAAAAAACHwsJCLV++\\\n",
       "XJ988om+/vprrV+/TobNUL12NZTV3lDCbQd1UftC1W8mxcX/r8zx6WFcS1y8lFmr9HZm2z+fr6bD\\\n",
       "kqTiIum3rYX6ac1X+nntd1o1o6Y2335IMmxq27adzj//fF155ZW65JJLlJiYGMaVAbGDgBcAAAAA\\\n",
       "AKCSy8nJ0fz58zVv3jzNnz9fiWnxatSnuk797Wdd0t5Q1bMlW/wel2PiorRWZ/EJ0pktS2+XDilU\\\n",
       "uvaouFjavU36ec1mbfnygAbdNFv5eSW64oor1LdvX/Xq1UvVqlWL9tKBsCHgBQAAAAAAqIS2b9+u\\\n",
       "efPmae7cuVq5cqVOb5mhan3z1fK+PGWcK9niSqtkw1mRWx7i46UGzaUGzY+q+01H9bcSaftaadPc\\\n",
       "NZr0z1UaMmSILrroIl111VXq27evGjduHO0lAyEh4AUAAAAAAKgk9uzZo1mzZumtt97Sjh071Kxb\\\n",
       "Q50asEstXy9Sdv2cgOY6LCmQOtgcle3DWx7i4qTOHaTOHX7S8P+T9v4qffnx1/po7mY9+OAYNWrU\\\n",
       "WIMGDdLNN9+sOnXqRGGFQGhioZoeAAAAAAAAEVJcXKxPPvlE/fr1U4MGDfSfL99WrfEFan2wQCkL\\\n",
       "tirr9nxVqR++8+UGOD7Ny/ORCoOz60sDbs/XtAUHtPpgoW4f/7OWfPm2GjRooP79++uTTz5RcXFx\\\n",
       "hM4OhB8BLwAAAAAAQAWUk5Ojp556SmeddZaG3TZMOW12q+6PhaqyYLNODtih+Krm5gk0sI00b1XD\\\n",
       "wbSSSK8q9R5wSi8v2KzPfyxUo1a/6tZbb9ZZZ52lyZMnKycnsKpmIBoIeAEAAAAAACqQzZs3a+TI\\\n",
       "kapXr57enP+azphSRRm7Dmj//61TQgPvx1XUKNNsJXDdBtIdj6/Tkl/+p4eePaCPP5mlevXqaeTI\\\n",
       "kdq8eXMklwiEhIAXAAAAAACgAtiyZYuuvvpqtW/fXp8VzFXNlSd1aukWHfrLT7I57cJUUYPcQHmr\\\n",
       "+E1IkAZcfUofLduq+StPKq9gtdq3b6+rr75aW7duLdc1AmYQ8AIAAAAAAFjY7t27NXz4cJ177rna\\\n",
       "k/2LMnfm69TMvUpqa0R7aZbXqq2hKTPXat3OfNXIXqV27dpp+PDh+u2336K9NMCBgBcAAAAAAMCC\\\n",
       "cnJydP/99+vss8/W2hPfKmNjvnY/t1bxtUtfPxHMnF6e99aH93AQ54h1nnr81qotTX5uv9auyVfu\\\n",
       "8Y/VtGlTPfDAA/ToRUwg4AUAAAAAALCQvLw8TZw4UQ0bNtTHGz9W+sqT2v/ORiU0Nj9HRYslvbVb\\\n",
       "8NZ/N5gN2SSpcWPpjTf2a+mSk1q//jU1bNhQEydOVF5eXpAzAqEj4AXC7NChQxo5cqSmT58e7aUA\\\n",
       "AAAAACqQkpISvfzyy2rcuLFmfPiyTn14XLsWbNXxdt6PCaaKtzLzVL1rl17w5/127aRPPj6g9949\\\n",
       "rg8+eEaNGzfWyy+/rJKSkoivEXBHwIsKY9euXbLZbOratavL8x06dJDNZgvoVrNmTZc53n//fXXt\\\n",
       "2lXVqlVTWlqa2rRpo8mTJ6uwsLDMOmrUqKEFCxbo4Ycf9vg6AAAAAACB+umnn9S1a1c9OulRHZ52\\\n",
       "QHu+2SV1+zNMDKYi19sxsVzd6yuAjYZu3Uq0csUhTZl0QJMmjla3bt20Y8eOaC8LlUyC/yGAdRmG\\\n",
       "oXbt2qlly5Yuz+/cuVPLly9Xenq6rrnmmjLHNWvWzHF/1KhRmjJlihISEtS9e3elp6dr8eLFGj16\\\n",
       "tObNm6fPPvtMKSkpLsf369dPU6dO1eLFi9WzZ8/IvDkAAAAAQIVXUlKi6dOn68GxDyr+5gQVzD8m\\\n",
       "W5pkC2COE5LSwrCWXJlvbRDI2EgJZ3sG5+pdd4mnpGv7F+uKy45ozPg1atOmtSZOnKQ77rhDcXHU\\\n",
       "ViLyCHhRodlsNs2YMaPM80888YSWL1+uTp06afbs2V6PnzNnjqZMmaL09HQtW7ZM5557riTp4MGD\\\n",
       "6t69u1asWKFHHnlETz/9tMtx/fv319SpUzVnzhwCXgAAAABAUHbs2KFhw4Zp8+7NOvVxkWxdS3wG\\\n",
       "OTnyHmrCv1Crg9PTpelPn9A1faVb7nxM//3vf/Xqq6+qUaNGYVkf4A2/RkCltG7dOklyBLbeTJgw\\\n",
       "QZI0ZswYl7GnnXaann/+eUnS9OnTdfToUZfjLrnkElWvXl1z586VYRjhXDoAAAAAoIIrKSnRtGnT\\\n",
       "1LpNa33TarUOf39ctq6lEU6RkoOa01sv3nC0YzgchjlCEelKYV/Vuwn5ZZ/rdon0/apDanHWdrVp\\\n",
       "01rTpk2jNy8iioAXldLatWslSe3aee9E//vvv2v16tWSpIEDB5Z5/aKLLlK9evV06tQpffrppy6v\\\n",
       "xcfHq0+fPtqzZ4++/fbbMK4cAAAAAFCR/fzzz+revbse/dc45c8rVPF0Q7Z014YMvkLecPXPjXYf\\\n",
       "3khVInsLg71V7/oKd32pWig9N36P5s3I07+eflTdu3fTzz//HNxkgB+0aEClc/jwYe3atUuS7wpe\\\n",
       "e5Vv9erVddZZZ3kc06FDB+3evVvr1q3TDTfc4PJa//799frrr2vOnDnq1KmT1/OcOnVKp06dcjw+\\\n",
       "duyYJKmwsJBN2lDu7Ncc1x6igesP0cT1h2ji+kM0cd3Flvfee08333Kz8gfbVPJxihLS46O9pDJi\\\n",
       "obeuGeXRqsJT9a67bhdIG+cf0QMTV6hNm1aaOXO2/vrXv0Z+cahUCHhR6diD2/T0dDVp0sTruJ07\\\n",
       "d0qS6tev73VMvXr1XMY669mzp1JSUjRnzhxNnDjR6xwTJ07UY489Vub5zz77TKmpqV6PAyJp0aJF\\\n",
       "0V4CKjGuP0QT1x+iiesP0ZCXlxftJUClLRnGjRunp6c+rfy3q0hXVZEkFSlDCTrm8ZgiJStBJhJG\\\n",
       "J942W6N3b+B8hbs2t54V6WnS80+UqFfXPN14y0Bt3LhR48ePZwM2hA0BLyode8Dbpk0bn99Mjx8/\\\n",
       "LklKS/O+12h6eunvLe1Vt85SU1N1+eWXa+7cufrxxx/VtGlTj3M8+OCDuueeexyPjx07pnr16qlH\\\n",
       "jx7KyMjw/4aAMCosLNSiRYt0+eWXKzExMdrLQSXD9Ydo4vpDNHH9IZo8/VsG5Ss3N1c33HSDlmxc\\\n",
       "pvyvUqXmoUc14QpsYy34DXkTtADnDbY9gzdXXSZ99WaR+t41QT9sXKfX33jHkSsAoSDgRaVjpv9u\\\n",
       "uPTv319z587Vhx9+qNGjR3scU6VKFVWpUqXM84mJifwffEQN1x+iiesP0cT1h2ji+kM0cM1F186d\\\n",
       "O9Wz3xX66fTfZHybKlUvW4QUbBWvt3C2olXxRiMeDaR618UJqXlj6dt3ijXg3k90QedzNXfeZ2rQ\\\n",
       "oEG4l4hKhlpwVDr2Cl5f/XclqWrVqpKkEye87TVa+ptWSV4rbe3tHXbv3h3wOgEAAAAAFdfSpUvV\\\n",
       "+rw22t7tgIwFdT2Gu3ZF8v7Xnb42XIuUXA/Peco1PY0rD56C6vKo3vUZ7jqpniXNf9FQ1zbbdV6H\\\n",
       "Vlq2bFngJwOcEPCiUsnLy9O2bdsk+a/gtf8GzVc4a3/N22/b5s2bJ0nq06dPgCsFAAAAAFRUL774\\\n",
       "oi6/sodyJ6VKU2pJCTb5a0AQTMib42W89zIm83NUVt6qd/2Gu24femKiNHWsNOGuXPXudZleeuml\\\n",
       "sKwPlRMBLyqVDRs2qKSkRElJSWrRooXPsfYA+NChQx43UZOk7777TpL3auCPPvpIGRkZ6t69ewir\\\n",
       "BgAAAABUBCUlJbr77rt156N/V9HC2tLwLLcRoXaZDU1lC3PLq/eur0R9xF+lBf8s0iMP3qG7775b\\\n",
       "JSUlYT45KgMCXlQq9v67LVu29Ntrqm7dujrvvPMkSW+//XaZ11esWKHdu3erSpUq6t27d5nX169f\\\n",
       "r127dqlXr15KSkoKw+oBAAAAAFZVXFysW265Rc/Nf1nFq+tKF6V6Gek95I1WFW84WTlEDqp6198H\\\n",
       "nSNd3Eb69qViffrBcxo+fLiKi4uDXSIqKQJeVCpm++/ajR07VpI0adIkRzgslVb13n777ZKkO++8\\\n",
       "U5mZmWWOnTNnjqTSjdYAAAAAAJVXYWGhbrrpJr329bsqWdZUOjO6lbq+eApgPT0Xrf66zjz11Q2k\\\n",
       "/67HOb1U7/raWC1oTh9sg2xp+fQSfbV4tgYPHqyioqIInBAVFQEvKhV7SOuv/65d//79dffddys3\\\n",
       "N1fnn3++evXqpWuvvVaNGzfWxo0bdeGFF+rxxx/3eOycOXOUlJTksboXAAAAAFA5FBQU6LrrrtM7\\\n",
       "P8yRsayJVMfMX3j6ruL1VslrlSreYIQ7Eg/XfEFX73r4otQ5TVo2zdDGr9/Wddddp4KCcPeKQEVF\\\n",
       "wItKo7CwUJs2bZJkvoJXkqZMmaJ3331XnTt31qpVq/Tpp5+qbt26mjRpkhYvXqyUlJQyx+zatUsb\\\n",
       "NmxQt27dlJHh/U9oAAAAAAAVV2Fhoa6//np9uGuBtKSpdLpzq8B0+a4tDS6CDDTkDSd/+4zFukCr\\\n",
       "d0NqzeDF6dWkJROlnRs+0A39zqOSF6YkRHsBQHlJTEzUqVOngjp2wIABGjBggOnxtGcAAAAAgMqt\\\n",
       "uLhYgwcP1oc//RHu1ggmgqkmb7FpkTKUoGMhrdGbHJVtdeDpuVhjtj1DxBtkBFi5665GhrRogtRt\\\n",
       "9PcaPKCb3nh/qeLj48O2PFQ8VPACETBnzhzZbDb169cv2ksBAAAAAJSzkpISDR8+XO+unyd93sRP\\\n",
       "uOuvQ2zgcWQgVbyx2KbBTJAcSF9dM8JavRuKP5ob20Pedd+t1IjB/VRSUhKhE6IiIOAFwuzQoUNa\\\n",
       "sWKFOnbsqOzs7GgvBwAAAABQzkaNGqXXV/xHxhfnSqfXkv/IMriQ11sv3vJiZqO1WNiMLVgBh7sn\\\n",
       "FFr1rtuHVaua9MVEQ8uXztc/7rzZz8GozAh4gTCrUaOGioqK9PXXX0d7KQAAAACAcvbCCy/o+f83\\\n",
       "QyWft5XqOFfShhryehaODdc8ZZKexpVHH99ghdKewVv1ridBV+4GGO7a1akhfT6hRO+8/bpefG5q\\\n",
       "kCdHRUfACwAAAAAAEAZLly7V3ff9XcUftJTOLLshd2ghr/dWDdGu5HVm9Y3W7LxV73oVxspddw1q\\\n",
       "SR/8Xbr3vnu1bNmyABeGyoCAFxVGVlaWxo0bp6FDh0Z7KQAAAACASmbnzp266tp+KpraRLrIV9/c\\\n",
       "yIS8nli9F69duDZFi0r1bojhrnJKbxedLU25sUjX/KWPdu7cGcRCUJEFs4UjEJOysrI0fvz4aC8D\\\n",
       "AAAAAFDJHD9+XD369lLuoJrSLWcr9M6z6T7mqCZPdbJFylCCjnl4PlkJCrQctVSO/MfRuQr/hmf+\\\n",
       "mDlfKGsKqHo3lGQ8wMtkeDfp+19z1a9PT636Zq3S08v7k0esooIXAAAAAAAgSCUlJRo4eJB21D4s\\\n",
       "PdPyj2f9BW/V5T869SWwTdc8VfIGW8Ubi314zXyS5V69+0flrVcmK3fd/etG6XTbTxp840CVlJQE\\\n",
       "uChUVAS8AAAAAAAAQRo/frzmb1wq493zpATnmMVMdaWvaDLd5ByRFYuBbiR5qt71Gu4GW71rJtz1\\\n",
       "IiFeevcuQ99//akee+yxIBeAioaAFwAAAAAAIAjvvfeeJk6ZrOK5HaXqSR5GhBry+hK9Kt5Y5/6p\\\n",
       "m63eDSjc9SXUyl0/ahRJHw0v1rP/mqz3338/kJWhgiLgBQAAAAAACNDPP/+sm28ZpqI320nNPYeq\\\n",
       "pcxU4gZbyRtYyBss98zR/bF7ZhlMJmpW9GuaVZqCe0vCIxzu2j/cFtnSm4PyNezmofr5559NHIiK\\\n",
       "jIAXAAAAAAAgACUlJRp681DlDz5Tuqp5mGaNfCWv2SrecAt1yzlf3D81UxuwRap6t5zCXburWkk3\\\n",
       "tc/XsJtvph9vJUfACwAAAAAAEIDnnntOq3dvUslT7f94ppq8Ba1/Ckclb+g8hbzuYqlNg79PNdLH\\\n",
       "lxHlyl13k/uV6Jet3+r55583MQkqKgJeAAAAAAAAk3bs2KExD45R/sxOUnpiEDNEIuT1HDCbbdVg\\\n",
       "Jl+sKJutRaR6N9hwN8fPsVJpsOtjLelVpJnX52vMmNHasWOHn8lQURHwAgAAAAAAmFBSUqJhw4ap\\\n",
       "aGgjqWu2hxFmKnml8qzkDbZVg78qXn99eIMVSKOKYNozmOEx3PXWdzeUyl1/TIbM3epIQ9oWadiw\\\n",
       "YbRqqKQIeAEAAAAAAEyYPn26Nu/eroJJbf2MDEfLhuryHndGd9O1aAk0wHX/NMxW74ZFOCp3AzjP\\\n",
       "Uz0KtHvbWj333HMmD0RFQsALAAAAAADgx08//aQHx47VwZkXS+m1TB4V9g6wTgILed0FU8UbSJuG\\\n",
       "QPcniwbTrRm8Ve56+0D8hbu++GnJ4HIOp/OkV5Fm9s3Vgw+OoVVDJUTACwAAAAAA4IO9NYPt5pZS\\\n",
       "1/oBHh2OSl5fx5o7p9lWDYEIti9vJPr5un8SZqp33ZkOd30JNdwN4RxdG0lD29to1VAJEfACAAAA\\\n",
       "AAD48Morr+jH33bqxKROTs/6aqHgzmzLBm/C15PXn0B78ToLVx9eMwLp1euJe/VuQOFupCp3/XGr\\\n",
       "2vVk0qUntPvnbXr11VdNTIiKgoAXAAAAAADAi7y8PI0fP14HJ7eX0pI8jAg06PUlnCGv5ype90re\\\n",
       "QKt43XPKSFTj2gXb4CKY6l3Twh3uBtKSwYT0KtJTHQ5q3LhxysvLM3cQLI+AFwAAAAAAwIspU6ao\\\n",
       "oG6Kiq9p7GdkeYW8gWy8FlxEGkoVrzehVvf6+lQCrWEOuno3EpW7/pio2nU5V450bZNinZGVpKlT\\\n",
       "p4Z4clgFAS8AAAAAAIAHOTk5euqpp3R4UgfJZjNxhNlqXn8tG/z15Q2E/368oVbxxpKwVO+Goy+F\\\n",
       "r03YJHOVu4Gk4k7nstmkSa13a9KkScrJieWvFsKFgBcAAAAAAMCDiRMnqkqnM1XSvbkCC1wDCXp9\\\n",
       "8XZOb/N7C4b9V/K6h7zBxoLOmaTZPcMCFUr/Xb/Vu94qdz19IMGWJZsJdgOs2nV36Zkl6ti0tiZN\\\n",
       "mhTY2mBJBLwAAAAAAABufvvtNz333HM6MKmz07OBVtZGMuQ1O7/n87hX8ZY+572S1z33zPFyv7z5\\\n",
       "bN3gVr1rqjWDWaFU7gYzb6DnkTSp+TZNnz5dv/32m8lJYVUEvAAAAAAAAG7Gjx+vjH6tpXbZHl4N\\\n",
       "JOgNV8uGQOY3tz5PIa8zq/1xfyAdh0Pqu+sr3PUmXC0ZTAS7dufWkvo2z9Bjjz1m7gBYFgEvAAAA\\\n",
       "AACAky1btuitt97S/sc7+hkZSMgbajVvOCp5Q+vHG47N1sxyXmkw3Yj9Ve+WEelw1xezLRkCTdxz\\\n",
       "pSea7debb76prVu3BngwrISAFwAAAAAAwMlDDz2k5sMulxrXMDE60Gpef2FsODdfC64frzNfmaK3\\\n",
       "Ng3BtqY1E1M7jwl2GzrTfXfdhTvcDSTYNRvu5spl3saZ0s3tMvXQQw+ZnABWRMALAAAAAADwh82b\\\n",
       "N2v+/Pla+0gnBdbjNpxtG/y1bPA2p7d2DZ7m/1Mkq3gjtdGaO5eK30Crd92FI9z115Ih3MGujzkf\\\n",
       "abpfn376qbZs2RLAZLASAl4AAAAAAIA/TJ06Vc1vuFyqbQ89Awl5JfNBbyjVvL7OEf6QNxZ78Tq/\\\n",
       "I19RuN+N1XztHmcXTLjri79wN5hg18ec2WnS9a2raerUqQFMCish4AUAAAAAAJCUk5OjN954Q+v+\\\n",
       "3tztFbM9dJ2Fq21DMH15zYa8rnxtuuacN57w8ry/TDLY1g12Zr4C7tW7zsIW7voKYENtyRDGYNfZ\\\n",
       "3xvs0+uvv66cnFiM6xEqAl4AAAAAAABJM2bM0JnntZDR5gwvI6orsLA3XG0bfLVsCCXk9d0Gwler\\\n",
       "Bn9CDXPtgu2zK/lpzWCm10QgbyLUlgzB9NkNQNvTDHWol6VXXnklsANhCQS8AAAAAACg0isuLtZz\\\n",
       "zz2nn//ezuQRkQh6w92yIfCQN5gq3vLmrT1DQNW7zsyGq4G2TpD8h7Fh6rPr0x/h89/rHNJzzz2n\\\n",
       "4uLiICZBLCPgBQAAAAAAld6CBQuUX1yoU1edE+CR4d6ILdwtG8ysz/ucZqp4w/1H/55WE2iDDOfq\\\n",
       "Xb+tGdx5CmWD2UwtXO0YchV41e5hlVlb39NPqejUSS1cuDCAiWAFBLwAAAAAAKDSmzFjhkqGXSgl\\\n",
       "eK9g9S6Y1g1m5/Qk0JYN7vP4DppD2XDN0+v+9hwLlpnq3YD77nrruetJqC0Z/AmiFYOvwDkhTrq5\\\n",
       "QYlmzJgR4KSIdQS8AAAAAACgUtuzZ48+/fRTHbql4x/PpDndAmU26A1H24ZQQl5Pc/05n69WDXZm\\\n",
       "CmHDzcwn5rX3bnmEu+FoyRDmYNfZLacf0ieffKK9e/cGeALEMgJeAAAAAABQqc2aNUtNuneSGpzm\\\n",
       "4dVgw95Ag15f0aW/al5v8/qbx3wlr7cq3hMengsXsxusOVfv+mzN4CzYcNdbkBquXrsRCnbtzkqX\\\n",
       "urVuolmzZgV4IsQyAl4AAAAAAFCpvfXWW9oxrLWJkZGs6JWCD3q9tWwwG5G6zxWcHLf/DRdv7zgg\\\n",
       "ztW7ZjdUcxfJXruBVO166K9rWo40TDv05ptvBnEwYhUBLwAAAAAAqLS2b9+uHTt26FSv5iaPiHRF\\\n",
       "r2RuIzZPPAW9nkJjTz153ecpZaaKt7x4+lRMVe/66iVhdkO1YMJdf1W7gW6eFmyo67aWXlmn9NNP\\\n",
       "P+mnn34KcjLEGgJeAAAAAABQac2bN08Nu50nVU0J4uhgwt5w9eg1GxabPd79fOb78frrxSv9mUva\\\n",
       "s8xIBsQ+w91Ad4kLpiWD2WDXjBCrdT2tJSNB6taioebNmxfEpIhFBLwAAAAAAKDSmjdvnnb1baXA\\\n",
       "Kmw9CTbo9XdOX0FvIC0bzFTyemcPeYuU7Kjk9ZRhurdpMJtj2ldipvWCpzH26l3TfXfdQ1ZPoWy4\\\n",
       "g1378WaFoVrXm77GLwS8FQgBLwAAAAAAqJQOHz6sFStWKL/PuU7Pmg1evYlUVW+kgl5PG685H2+O\\\n",
       "mSreQNhXUd3tsfOKnNszeOSt766ZkDXQcNVMsGv2vMFU7Hqp1vWmT2a+vvzySx0+HGyKjFhCwAsA\\\n",
       "AAAAACql+fPnK7tlU6l+TS8jwhX2mmW2dUMox5vhv1WDryre8uCp967X1gy+wt1QK3fD1Y6hHEJd\\\n",
       "Z2emSC3qZ2vBggWBH4yYkxDtBQAAAFRkR48eVV5eXrSXAT+Ki4slSfv371d8fHyUVwN/UlNTlZmZ\\\n",
       "Ge1lAKgA5s6dq0NXtTY52h6eBhNpOoe8/mpdnUNab+eyB7CekkNP67SHtM4Jovsc7selO71WzXFs\\\n",
       "kTKUoGMeV3VCpe8054/Z7P8bSc4bq7ksxM5fuOvMW7DrSThaMQTbVzcccqWr4g9p7ty5uuGGG8I0\\\n",
       "KaKFgBcAACBCjh49quemTlVhSUm0lwI/4uLi1Lp1a82aNUslfL1iXmJcnO64+25CXgAhKSgo0Pz5\\\n",
       "85V33yMBHukeWQaauNnDXjNNDfyFyv6CXvfjvAW93tJIzyGvXZGSlaB8v0FurnzXHXvjrT2Dp9YM\\\n",
       "PnvvehKpcDca7R/Mcltb35Q8XT5/vgoLC5WYmBimkyAaCHgBAAAiJC8vT4UlJfrLf/+rmgcPRns5\\\n",
       "8KE4OVlr/v1v3TxrluLzPZUCIVb877TT9OE11ygvL4+AF0BIvvzyS8Wnp0jnNgxxJjMVt54EU9Ub\\\n",
       "aNDrKeT1drz5Sl5PVbxmqnUPK5Cuvv75bM0QSuVuLAS74Qh1/aypfbqUmhCnL7/8Ut27dw/DCREt\\\n",
       "BLwAAAARVvPgQWXv3RvtZcCHwpQUSVKtffuUePJklFcDACgPn3zyiQqv7CjF2fvKmkno/Il02Gsm\\\n",
       "6PUU8rofY6aS1zkcLjuvPeS1V/E6rz7UNg2eqn19Ve+6nNwf54/BbNWuVYLdAC/hOJvUp2qhPv74\\\n",
       "YwJei2OTNQAAAAAAUOl8/fXXOnHxOU7PpLvdQhXsBm1mNmbzNa+39Xs6pppca2p9vW/3Rgl/brrm\\\n",
       "vuGamZzVE0/Vvd5WVKZ611PfXfcNzgLtm+trAzN/m6cdlvmN00LYLM3UWny4KPGEvvnmmyBPjFhB\\\n",
       "BS8AAAAAAKhUioqKtG79ehntb/Exyj1aDKXCN5jKXjO9en1V9Ppq2+B+jHN/XTPtGsr24/XHuQ+v\\\n",
       "mZ68vmJxjxur2TmHu+7P2ZlpyeAr2PXF7MdSjpW6vrRPN7R+3ToVFxez0ayFUcELAAAAAAAqla1b\\\n",
       "t8qIs0ln1w3gqHBV+AZa2Zsm/1W9wVb0OnOv5E33MfbP8d6qeN3vh8JTewbbYQ/Vu2ZO6BzAeqp8\\\n",
       "9VZJ66tK1my1biiVurkKqVLXm2YnJRUVauvWreGdGOWKCl4AAAAAAFCprFmzRjXaNtOekCoWw1Hh\\\n",
       "G2hlr7+qXl/zmenP696b172aN0eudbjeK3mde/E6n8nfRmvp3u7/Ee6Wqd51D3fNVu7623jN2zh3\\\n",
       "ZkLdYIQ5yHVwW0+8TWqbUUVr1qxRixYtInRSRBoVvAAAAAAAoFJZs2aNjPZNwjxrqNW9gVT2mq3q\\\n",
       "dRdsNa+vOUureEtvZat4Q+UpDDZVueu+mVqg4W64KnYDEe4q3RwPNw/axxdqzZo1YTopooEKXgAA\\\n",
       "AAAAUKl8t2aN9t7WU7572IYi1OreQCp7nUNe98peb+/PU3/e6m7j3Pvy2sc7V/KWreItUrISlO+Y\\\n",
       "yXl1ZnrvOq/asVpv1buS/8pdX8Gu+1hvYzzN5U0gl1I4q3RDuITbxxdoxnffhW8tKHcEvAAAAAAA\\\n",
       "oNIoLi7WuvXrpfajnJ71VJkaztA3lMA30LDXU/sGb3O4B73+WjY4z1c25C1ShhJ0rMzZ3ds0uPNU\\\n",
       "pZvu5XnbYfned85suOutatddrIa6Ybw82ydLt69by0ZrFkbACwAAAAAAKo2tW7eq2DCkZg38jIxk\\\n",
       "6Bts4Ou+Jk/r8VXR6zxHoEHvYZmt5LVX8dpX4KuRhF01ea7uda7etTmHrc7Lz3V7zj2U9dWX1/11\\\n",
       "u3C2Xwg11A13gbmbZlUko7hY27ZtU/PmzSN7MkQEPXgBAAAAAEClsWbNGmW1PUcKqlKxuodbOKQr\\\n",
       "uB6+/tbgq1evmR69zmM89eWt7va4moqUIak05A1XLunSmsE5s3buV+sp3HXvZ+seCnvqd+urt66f\\\n",
       "XrYuQumna6Jvbjgl2KQ2VeLow2thVPACAAAAAIBKY9OmTSpq3TiMM0ai0jfQCl8zbRzsIa9zQmqm\\\n",
       "dYNzNa9zy4Z0eavkLZJcWjV4qiP2FmNXl+f2DF6rdz21ZPDVjsHXxmmemP1SBlulWw4BroOP1hZt\\\n",
       "bIXatGlT+a0FYUXACwAAAAAAKo09e/boxNmnRfgs4Q59Awl8/YW93lo4eGvd4Kltg3PLBk8hrxyV\\\n",
       "vDnK9/hp5Ery91VIL3BqzWBfao48V906Tyynse4n9XacO39frlgOdH31KPbiDFuJtu/ZE/61oFwQ\\\n",
       "8AIAAAAAgEpj9969KujaQs49Y8tHOENfs4Gv2bDXV9DrqT+vr5BXcu/HK+XrhPw3tLC/Xk1/9t51\\\n",
       "4a1y1869XYP783bBVusG224hUoIIcr3JjpeW/7Y7fBOiXBHwAgAAAACASuO3vXuk7NP/eOTeCMBd\\\n",
       "pANgb5FnoKmgc+BrJux1P4enql73cNjTBmu+Pz97q4YcpyO8veN0t/+V3Kp37cvNdbrvqSWDr3YM\\\n",
       "nr6cvj7qWAh0wxji+pIdL+397bfyORnCjoAXAAAAAABUGvv37pPq1DI5OloBcCjVvqFW93qr6nWv\\\n",
       "6HU+1rma1/5c6f0ixzP5SpOnGt+y7NW7XsNdTy0ZctweO3M/UbhC3XCGueUU5HpTJ17au39/dBeB\\\n",
       "oBHwAgAAAACASuHkyZPKPXxYyq4Zphl9BcDhDn+DDX3NBL6e+u+6V/V6at3gvAmb5Bry/vlckTKU\\\n",
       "4KNNQ5bTffsnmpAv19DTuXLX/th9yc5vLRKhbjgC3SgHud5kx0s5x44rPz9fycnJ0V4OAkTACwAA\\\n",
       "AAAAKoV9+/bJFh8vo2aNcjhbeVT/BtPiwVfg66+q1xv3oNd53nqSclWkY44qXvsqMt3OnC63jdUk\\\n",
       "6Ven5RyW53YM3oLdUELdUMLcWAxx/byfmoYUZ7Np3759atCgQUinWr16tcaNG6dVq1apsLBQrVq1\\\n",
       "0j333KMBAwaENC+8I+AFAAAAAACVwt69e5VSq6by4uKivRRFtvo3kGpfb4Gvr7DXU59eb3PnqjTg\\\n",
       "zZAknVC+16NcPhHn1gzubRncg10z1bqRCHSjHeSGsUVEvE2qlZKsvXv3hhTwLlmyRD179lRycrKu\\\n",
       "v/56Va1aVf/973913XXXaffu3br33nvDt2g4EPACAAAAAIBKYe/evYp3bLAWyyJR/Ws29PUU+PoK\\\n",
       "cu2NF5w3YnM/Pl1Suoq021HF6zxjutORiXv1Z7hrr961V+4GWrHrLdQNNBgt7yA33Bu1mZSdmKC9\\\n",
       "e/cGfXxRUZFGjBihuLg4LV++XG3btpUkPfroo+rYsaPGjh2ra6+9VmeeeWaYVgy7WPiVFQAAAAAA\\\n",
       "gCTp/fffl81m83urX79+wHPv3btXRp06+jNSDOQWS6r5uZlV3cPNnafPwXl82h+3ek7PpTvdryep\\\n",
       "/h/3qylfp7sU5zq/o/QC/Rnu5qo0vN2t0qDXOdw97HTLcbrlut3k9nqOfIenJ7zcwsHTOrzdoqSO\\\n",
       "jJAC3sWLF2vHjh0aOHCgI9yVpMzMTI0dO1YFBQV67bXXwrBSuKOCFwAAAAAAxIyaNWtqyJAheu21\\\n",
       "19S5c2f16NHD8drnn3+ulStX6qabblLPnj0DnvvIkSMqzMoIcmWhhrxmd/IKh1AqgP1V+pr9HOxV\\\n",
       "vc7q/zHbAZdGD/bVJu7Vn5W7zlW77q0YPFXyelqqN+GsyI1iIBtu1YqLdOTIkaCPX7p0qSS5/Ddr\\\n",
       "Z//vddmyZUHPD+8IeAEAAAAAQMzo2rWrduzYoddee02DBw/WyJEjHa9t3LhRkvR///d/QfUJLSoq\\\n",
       "kpEYrSgklIA43OFwoAGwr9DX0/uyh7v2GDfd6bkc5et07dYBx+g0/VG9a6/WPfzH/9qrdZ1P5/5R\\\n",
       "+KvIDUYFCm0DkWCUqKioKOjjt2/fLklq0qRJmddq166t9PR0xxiEFwEvAAAAAACIKRs2bJAktW7d\\\n",
       "2uX59evXKzMzM+hNoIqKilQStYA3FOVdPWwmADa7wZpUNujdoSLN129/vHpGgZT4i0pD3Q0qG+w6\\\n",
       "L989fA0kxK1IwW1u7bBPmaCjIQW8R48elVTaksGTjIwMxxiElxW/qwEAAAAAgArs+++/l81mU6tW\\\n",
       "rRzPHTt2TDt37tRFF10U9LxFRUUqSaiMUUi4A2JvAbD9eXs6W12lbRmcy293S5KKdLG+1AoNk5S4\\\n",
       "RtJXfwzbrT9DXedA1luQG83QNgIhazQlSiosLIz2MhCEyvhdDQAAAAAAxLDvv/9eDRs2VNWqVR3P\\\n",
       "rV+/XoZhqE2bNkHPW1RUpLi4OFUpDL5KsXJKDnB8tttj577HLSUdkdRDtlPnSZJOLUqRVqo0F877\\\n",
       "Y5ivNsF2ubUCXFeYpUT39OH2cf7/lPif/2jSpElBHW+v3PVWpXvs2DFVqxbIJoAwi4AXAAAAAADE\\\n",
       "jF9//VWHDx9Wt27dXJ5ft26dJIUU8EpSz537NOLTb0OaA+HSUZL0RYeZUocoLwU6OXy4EkM43t57\\\n",
       "d/v27Wrfvr3La/v27VNubq46duwYwhngDQEvAAAAAACIGb7670qhBbwJCQlaVO8MLe7dM+g5Kp38\\\n",
       "+MDGH3F7bK/EzZX0+x+Pd0v6RuqwpkD3zvxclw1LUdLJzU4DTsi1hNdbD2H3k5W3YHdxi03XFOQr\\\n",
       "85Zbgj6+S5cumjhxoj777DNdf/31Lq8tXLjQMQbhR8ALAAAAAABixvfffy+pbJC7efNmSVKLFi2C\\\n",
       "njshIUElJYYKEkOpU7SYkwEGtO7ckyNvrRPce+F66qH7q6QdklZI2i3VOlX6UtHJbko7mSDJUGk7\\\n",
       "h8MqbfNgb8Zr7yHsfpJUs+/Cx8JDEc1YLdCN8/wrVrESQ/hv49JLL1XDhg319ttv6+6771bbtm0l\\\n",
       "lbZsmDBhgpKSkjR48OAwrRbOCHgBAAAAAEDMsFfwuge8OTml4d7q1avVqlUrVa9ePeC5ExISFGe1\\\n",
       "TaRCDWgDZSYH9bSxWa6H10/IdcO03X/+b8YROXrY5krKVFuVbsq2Q6VJsH3C6k4Tpst8sGl2Yzh3\\\n",
       "kQiCIyHUjfPKKkoqVEIImxAmJCTolVdeUc+ePXXJJZfo+uuvV9WqVfXf//5Xv/zyi55++mk1aNAg\\\n",
       "fAuGAwEvAAAAAACIGRs2bFBGRkaZIGjQoEF65pln9Je//EWffPKJOnfuHPDcCQkJskUj4C3vkNaX\\\n",
       "QPNLT2GunbdQ1/7YuYp3t0pz2xwpKbc0brXX3+6UlKDqqqUclb5S7Y8D7IFuNQ8Lz1Vp+Ottwd4C\\\n",
       "UH8BcSCbgFklDDanKM4WUsArSd26ddOKFSs0btw4vfvuuyosLFSrVq301FNP6brrrgvTSuGOgBcA\\\n",
       "AAAAAMSMbdu2eXx+/PjxGj9+fEhzZ2VlKfHIEZ0K9MBYCmj9CSVz9BXmSmWzUfcWDM7P2cPdw073\\\n",
       "/6jeTS5yjWbthb6nqY7iVV2lSbD9jdgreN2rd50re50X5zyzpzcUbPDrScWqCj6cYFNWVlbI83Ts\\\n",
       "2FHz588PfUEwjYAXAAAAAABUCtnZ2bL9vtdaga27cGWF/sJcyXPm6SnUdX7euWrXOdz9I7NN+mNO\\\n",
       "55j1sKSqkg4qVadJile6pEb6MyG2nyCQtgT+KnzdhTP4dWeNquA9thJlZ2dH7fwIHgEvAAAAAACo\\\n",
       "FLKzs1W8b2+0l+FbJPI9M2Gu5D/QtfMW7Do/dg53c/98nFzkPe4sjXBTleYxmHWv4HVv3WA/xlOL\\\n",
       "BvfKX09n9iaSwa8n0asK3lt0ioDXogh4AQAAAABApZCdna2T+/dLxcVSfBSreCNZpGk2zJW8Z5Te\\\n",
       "5vAV7NqfOyzXsNcp5LX33q2usi0a7HFt6aHVlVbm5Iflv4L3sDy3aHA/zv2Nu4e+Zj7E8g5+3YW3\\\n",
       "KrhYhvbnnyDgtSgCXgAAAAAAUClkZ2fLKC6WDh6UatWK3InK46/sAwly7fxlj2ardd3nc+6k4Dw2\\\n",
       "1/W15CLfp3eOZ4uV/Ec/Xk/s7Rec2zbYI2L7TFLZql47b9W9doFW+Xqb2115hb/u/IfB/1OhSgxD\\\n",
       "tWvXLof1INwIeAEAAAAAQKWQnJys9GrVlLtvb+gBb3m2Sg0mzJXM5Yn+Ql1PY9zbMTg/72WTtSSn\\\n",
       "tdgjUOfYMcftf6VUJUtuIW+OPIeV3oJeyXtVr/tqnN+EJ8FU+bqLdtWvd3tVoOpVM5ScnBztpSAI\\\n",
       "BLwAAAAAAKDSqJWdrdy9e6Q2bX0PjNZeV8GGuZL5nNBMCwZPYz0Fu4fdXnO+/8dr9nDX3p7B3RHJ\\\n",
       "0ZLBHsfmSvozavR0lL1lg/Nmau5Br/2szgv1FfbKw/HehFLl6+2c7sov+N2jQmVHsqodEUXACwAA\\\n",
       "AAAAKo262dnasW9v9AJcu1CCXGfBVuna+Qt13c/hvIma8+vulbtux/prz+B++uqS8h1VvPl/vOK8\\\n",
       "0Zp7JW+gQa8UnspeZ+Go8vW1BmfhDX/3qlDZdc8K65woPwS8AAAAAACg0qiXna2kXXtVUJ4nDVeY\\\n",
       "K4VepWtnJth1P597uOu+FufHbtW77tw3UXMeVk3eWjU4B7f2BVWTazWv9Gd/Xslc0Gs/xnled/76\\\n",
       "9noSzipfd+Gt+t2rQmXXqxv8chBVBLwAAAAAAKDSqFOnjtL2/Ra5gDecYa4UWF4XTKjr7ThPwa5U\\\n",
       "NtzN8fLY6bnkoj/bM6TLc+zp7LDK1uf+uemaPeR13mjNOeSVylbzSt6DXuc3Zedtcza7YKp73ef2\\\n",
       "NX8oggt+f48rUp06dcK/HJQLAl4AAAAAAFBptGjRQglLXgzPZJHI5wItwDSzhmCDXecx7i0ZnF9z\\\n",
       "fuwUAHur3jXLtYo3z0TIa1+oezWv82zOr9kFW9VrF2zgG8kKX3e+2z1sSCzQ7S1aROjciDQCXgAA\\\n",
       "AAAAUGm0b99eR35YLxUXS/Hx5g+MVO4WbAgabLWut2O9BbuS53DX/bGnzdgUWO9d92nssWvpdKUh\\\n",
       "bylvIa8z94pdT20b3BZrqqrXfZWeBNPOwdN5zJwrdEVK1YaSE2rfvn3Ez4XIIOAFAAAAAACVRrNm\\\n",
       "zRRvs6nwp63S2V4qFiOZqUUq0JV8h7q+5vDWjkHyXbnrfoyXjevs7RlC5brpmplKXsl3Na/9dclz\\\n",
       "Va+3nfjKK+x1P5fZcwZmq/IUl5Cgs88+O6zzovwQ8AIAAAAAgEojPj5e7dq21VffrykNeCNdIBlK\\\n",
       "m4JA1hZIGwbJ87q8Ve06j3dvy+Bl3qTcstW7vpoEHPYwxv5c9T+mtb9W2qrBV8gruQa07m0ZzAa9\\\n",
       "vip63edyn8+TUMNeT+c0c17f1ui42rZrq/hAKtoRU+KivQAAAAAAAIDy1KF9e2WvWxPZtgv2W6By\\\n",
       "nG7+nHC6eZvH29p8jXWv2vVWuev8nNMxgfbe9RSdepsiX6mSSkNeV/bwtLr+DECrub3uHjF7qo71\\\n",
       "FkNXU9mt39xVl+v5fUl3u4WiuoebeWuS8tW+Q4cQ14BoIuAFAAAAAACVSvv27WXbvCZ8E+YqNkJd\\\n",
       "5/nceVubmZYM7uPcA9/Dbs/rz+pd9/YMZqJHbx0gPH+0zoGmp6DUPZh1D1S9hbz+gl4zYW8gwhX2\\\n",
       "Op/fXOi7JvEk/XctjhYNAAAAAACgUmnfvr0Obbo98I3W7EL563q7QKuHg+2vKwUe7LofE0C461y9\\\n",
       "6y8CNeOwh3ny/9hw7c9WDc6c2zU4L9RMT11/G7W5c+/3621eT3P74h7yhuOCkzy1diiWofWnDhPw\\\n",
       "WhwVvAAAAAAAoFJp1qyZbIYh7dpm7oBQK3TtAqnUlcxX6/rqsxtM1a6/cDcIzpFlmo9xuV7uu1fx\\\n",
       "lm3V4BxeeqvQNdOywVdFb3m1bwj0/MGqrq1KlBIT1KxZszDPjfJEwAsAAAAAACqVhIQEtWvb1nub\\\n",
       "hnAFulLgoa7kP9R1ntcTX8Guv8pd9/HOc7rP4aV6131ztVDZTxNYyOvMPeQNNui1j/fGTNDrPH+o\\\n",
       "YW/oge8a2xE2WKsACHgBAAAAAEClc/755ytt3ZelD8IZ6ErBhbpS+Qe7oVTu+gqG9WfMGUyE6X76\\\n",
       "wDj34/XVa9c9iPUUlvoKec0EvZEOe53XElzYuyItV506dQry3IgVBLwAAAAAAKDSufLKK5X45SfS\\\n",
       "sZLwTBhqqBtKsCt5D6Y9HeOr3677MZ5CXw8bsZmp3vUXYXrKjL29Le9VvO5nCkfIG2zQaz+H2W7E\\\n",
       "5Rv2lsjQx4kH1KdPnyDPh1hBwAsAAAAAACqdiy++WMV5udK2tcFPEulQ1/kc3gRStSuFHu56ODbJ\\\n",
       "T9VzoLWlvgqGfX0U4Qt5ox30+jufGf5bOazRYeWVFOniiy8O4TyIBQS8AAAAAACg0klKSlKvXr2U\\\n",
       "unKu+YNyFHyoK5kPdZ3P5Y2vdhLegt1whLs+WjPYq3dDbc9glnsVrxRIyOurL699fCBtG3wd4yzY\\\n",
       "oDfUT7Ns2Ds3NUe9evVSYmJiiHMj2gh4AQAAAABApdS3b1/V+Gae/4HBBrp25Rnsmqnatc/jfmwg\\\n",
       "TFbvhsJ9UzVfVbzOIW/wPAWvgVbz2o8xG/RGL+ydV+OE+vbtG+JciAUEvAAAAAAAoFLq1auX9m79\\\n",
       "Qdr3a9kXQ6nUlQJrw+B8Pl98hanejg003HUOkN3XZKJ6t7x5+kjKVvH62njNX8sGT8f5Ot7Mce4C\\\n",
       "DXqdzx1c2PuLcrVp7y5dccUVQR2P2ELACwAAAAAAKqVq1arpoosuUvJXH5c+Ud6hrvM5fQm2atdT\\\n",
       "Swb31gtm36uPjdWcubdnCLT/rtlleOom4b1Vgz+eQl6z1bz248MZ9EY+7P04eb8uvvhiVasW6LkQ\\\n",
       "iwh4AQAAAABApXXVVVepwddzy68Fg2Q+SA4m2JXMVe16O5/z/J7m8zCPmepde/SY5vbY31Lc2zQ4\\\n",
       "8/fx+e7H6x64mg1HfQW1/uYIJO4ONng1F/TOPfOkrrrqqiDPgVhDwAsAAAAAACqtq666Sj9/vUTK\\\n",
       "Ox7YgZGq1pV8B7v2ebwx25LBW1sGf+uKEPtyfHSBcPD1FvOV6qMfr3vw6S/k9VXJG+lqXufzBxP2\\\n",
       "eq/qPaYCLfn5e/rvViAEvAAAAAAAoNJq0qSJGjVqpCrr5ps7INBQ185shbC/ENVX1a6/lgxmmOy7\\\n",
       "a6Y9Qywo26oh0JBX8h6whiPoDTTsDYbrWuZX2a/GjRurUaNGQc6HWEPACwAAAAAAKrVBgwap0cqZ\\\n",
       "vgcFE+wG0tPXTNWu2V67/tbkfl5vvLRmcA53y3NzNX9tGpxfD6wfbyghrz9m4u7yreqd2ShXN954\\\n",
       "YxDHI1YR8AIAAAAAgErt5ptv1vZVi6X9u1xfCKYNgxR4qBtMsGtmXn/zeBpjZyI0dg53A9mSLFDe\\\n",
       "cu1AeO/H6423kDfQlg32ucwGvYEIPOjdqaNasn2dbr755gDPhVhGwAsAAAAAACq1OnXqqHfv3qqx\\\n",
       "5NXgQ10psDDWTOsEf712g91MzdM4X+fyUr3riacYM9iWDWbfipkq3rI8tWowu/FaMC0b7POZ2Ygt\\\n",
       "ckHvqzV26sorr1R2dnaA50AsI+AFAAAAAACV3ogRIxT3+UypOIieA4EGu2b67AbSa9d5bjNz+Qt3\\\n",
       "vbRm8CbY5gXBCHQvON+tGsxW8gbassFfQBudoLdIJZoVt1kjRowIcF7EOgJeAAAAAABQ6V1xxRVK\\\n",
       "TohXlXXzzB9UnsGumfk9zedvnK9w1020eu9647xUsx+buU3XwrHxWbgaVAS6GZvkrU/v3Cq/KCGl\\\n",
       "inr27BmmtSFWEPACAAAAAIBKLz4+XnfccYcaLp/if3C4g137nL4EU7lrZpwvgY53Ekq86eltmvm4\\\n",
       "zbZqMFfJ66ldQzRaNvhakxl/Br1TavyoO+64Q/Hx8UHMg1hGwAsAAAAAAKDSNg2/fL9atl3ry76Y\\\n",
       "o8ArbINpIuvOX7AbSrgbhupd52jTX1SZ5ud1s5zfitnN1nz345XMB62BhrxSeFo2OM8VeNC73nZK\\\n",
       "3x3ZpeHDhwd8LGIfAS8AAAAAAICk6tWr66abblK7r6b++WQwbRMCqdoNZ0sG+5xmxvoLdwPYWC2S\\\n",
       "Qjm1r2PLVvF64i1M9RXyBlvNa583MkHvlNobNXjwYFWvHuyWd4hlBLwAAAAAAAB/uPvuu7V5/jvS\\\n",
       "kX2RC3al8LdkMDOnt3E+wl13gfbeDWec6GvfOW9jAm/VEGolrz9mQtlA2zb4nnOvjuv/HV6tu+++\\\n",
       "O4B5YSUEvAAAAAAAAH9o3ry5evXqpXMXPm7+oECD3WBbMtjP5W1eM+sKMLT2Vb3rrT1DuLYX8yXY\\\n",
       "yl7/Ia8n4azk9TWf+9zhCXofr/WdevfurXPOOSeA+WAlBLwAAAAAAABOnnzySW3+ZKZ04Cf/g8MV\\\n",
       "7Er+g91wV+56OmcU2zGEwmwVrzmBBKu+xvoKeSXz1bzBB70/6ZBmHf1KTz75ZABzwGoIeAEAAAAA\\\n",
       "AJycc845GjRokGp9/oj3QeHus2t2tzBP83sShqDWvXo30PYMgTLzMTmPCWcVr+d2De68BbK+Qlgz\\\n",
       "IW/kgt6Ha32rG2+8Uc2aNQvgWFgNAS8AAAAAAICb8ePH69jqj6Rf17q+EM4+u5K5lgyBVu6a3VQt\\\n",
       "hN673tozhIvz0oIJckOv4pW8h7yBNqHw17IhkHnNf9prtFtzj63XuHHjTB8DayLgBQAAAAAAcFO3\\\n",
       "bl3dcccdOn3Bg6VPBBLsSuGp2vV1vlDCXRPH+eq964tzRBmJ4NcX94/T19vOV6rJfryBtmsIpWVD\\\n",
       "uM5T6sGzV+nOO+9U3bp1w3RexCoCXgAAAAAAAA8efPBBndrxjeLWLzZ/ULhaMkQy3A2x7264Yspw\\\n",
       "CGTpwXetCLSSN9S+vGYrhL0HvV/Ebdfq/ds0ZswYk3PBygh4AQAAAAAAPKhevbpGjx6taovHSIbh\\\n",
       "/4BIt2TwdY4wbo4Wid67aaFP4WB2TzlP3D8mc/14pcDrkf2FvOEOev9kyNCYess1evRoVa9e3nXU\\\n",
       "iAYCXgAAAAAAAC/+/ve/K+n4b4r/4b/eB5VX1W6glbvlUL0ba/FhIG0awsNXCOvv0zFTCx14Ne9/\\\n",
       "4jdqT+Fh3X333SaPhdUR8AIAAAAAAHiRmpqq8ePH67TFD0inTri+aDbYlUILd8N1nL81KDLVu+Hg\\\n",
       "620G+tH5q+KVfPXjDWe7Bim8Ia+Uq1SNPu0LjR8/XqmpZd8XKiYCXgAAAAAAAB+GDx+upg3qKm2R\\\n",
       "Uz/TQILd8qzctR/jaR2BnDcIwTUU8M5EHm3qODNfKk8hb/iEK+T1/wmPSftQ9c4+S7fccouZhaGC\\\n",
       "IOAFAAAAAADwIS4uTjNnzpSxepb009LwVe1K4a/cDaEngb/q3UDaM0S6dUOorRfMfOyB9+P1V8kb\\\n",
       "al9e+zk8W6Itmm2s0MyZMxUXR+RXmfDVBgAAAAAA8KNx48aaOGGCTps7TCowEQ+GI9wNR+Wut7WE\\\n",
       "uXo32tzfTuSreCMVYQdXzZurfA1Lf00TJ01Uo0aNIrIyxC4CXgAAAAAAABPuvPNONW9cT0nLx3gf\\\n",
       "ZLYlQ7jbMvhaj4k5Au296x5vmu8SGzs8fZTm+/FKvit5vfFXySuZC3ldzzM66T86s/3ZuuOOO0we\\\n",
       "i4qEgBcAAAAAAMAEe6uGhB9mS7uWlB0QbNPYcDDbd9cD93DXE7ORYySFmm17+ojMzuk95PXGX+Rt\\\n",
       "JuQ1V827WDv1esLXtGaoxPiqAwAAAAAAmNSoUSNNmjRRyZ+5tWow25IhlMrdcPTdNZFo+qvejaRA\\\n",
       "3or72HB1nfDWqsF7P95gKnntx/rjO+TN1UndkvySJj41UQ0bNjQxHyoiAl4AAAAAAIAA3HHHHerY\\\n",
       "/EzFLR1triWDFHy/XX8C6bvrgZnq3VClRf4Uppmt4g2sH68vvjZek0INeR+Ie1MNOjXT7bffHujC\\\n",
       "UIEQ8AIAAAAAAAQgLi5Os2bNVPKW16Vd8/wfEGq4G45N1cyswwv3eNFf/91wbj8WateLcHfNCLwf\\\n",
       "rxnBhbzz9J3eSF6hV2e+SmuGSo6vPgAAAAAAQIAaNmyo2bNmKmHJjVLOZs+D/LVkkIIPd70JINz1\\\n",
       "VL0bzfYMwQimTUOoVbzBhbzhbdewSbt1Y/J0zZw9i9YMIOAFAAAAAAAIxl//+lc9eP/fFb+wr5Tv\\\n",
       "FhsGmzSanSPYlg4BioXN1ZxFsqNEIHNHLuT1v/naIcWpb/xkjXrgHv31r3/1Mx6VAQEvAAAAAABA\\\n",
       "kMaPH69eF7eSbdEAqeSP8tdohbvlUL0bzvYLkeL+1jx9LGbz8XylBtGPN5SQ17dCFWmA7XG16d1J\\\n",
       "48aNC2kuVBwEvAAAAAAAAEGKi4vTO2+/ocbpB6RV98Ze5W6EN1ELLa6MPeGp4pUiVcl7r17U/xoX\\\n",
       "6PW336DvLhy4EgAAAAAAAEKQnp6uhZ9+pPRf3pK2v+J7cKTC3QB2E/NUvetJrLVn8MZM5h1KFa8U\\\n",
       "TD9eKfRKXtfjZ+gTvZO+THM/+1jp6RUtWkcoCHgBAAAAAABCdNZZZ2neR/9Rwtq/SwdWeB5U3uFu\\\n",
       "AOWo4dpcrTxaOJh5W6EULgd6rO+Q1xfzIe+X+l6jEl7Qfz7+QA0aNAjyfKioCHgBAAAAAADCoGvX\\\n",
       "rpo25RnFf3m1lLvL9cVQwl1fAgx3zfbe9VS9G63+uwEUJwc8TziqeH3z96n5D3l3KV/X6DH961/P\\\n",
       "qEuXLkGsARUdAS8AAAAAAECYjBw5Urffcr3iFl8u5e0pfTLQvrnuQj0+QszUn6ZFfBWlwv0Recvb\\\n",
       "w9+qQfL1Se7RAV0WN1I3DB6k2+76m595UFkR8AIAAAAAAITRs88+qyFXXyzb55dKew/4HpyrcmvN\\\n",
       "YLZ6t6Lw9DEEUsUb3lYNgYe8+3VIl9pGqkvvbvr3rKkBrgaVCQEvAAAAAABAGMXFxWnGjBm6vnc7\\\n",
       "6ZvLpIJDwU0Upk3VAhVL7Rm8CaXHbqh8tWoIV8h7UId1mUbq3Iva6+U5MxUXR4QH77g6AAAAAAAA\\\n",
       "wiw+Pl6vvfaa/nJZY+mbyz2HvJFIKQOo3g23cIXA0ehIEWgVb3D9eCUzIe8hHVEP3a6mrc/Wa4vf\\\n",
       "+f/t3X+U1nWd9/HXzDD8kl8ChrCiCGgIaCkm1aYiZgiiUN56Wna3tO52uUXbNS3M2FvcH/dmtXX0\\\n",
       "uHoKV11zy06/RrA7XbqRlNzURUXExFiaTQUtgUBDcIDr/sOVYhl+DM7MNZ/h8ThnznGuua5r3sKX\\\n",
       "AZ585n2lrq7uAD8XBwuBFwAAAKAN1NfX56677sqH3n908tMzkq2/t65hX2sZ2ng1Q9L51jM090O2\\\n",
       "v2saWtPeT/Eme4u8L+XlnJGZGX7+mHzz0e+lS5curTscnZLACwAAANBGunbtmm9961v5o6ljU/PT\\\n",
       "05Mta97ayd02rpP7u55hf15grTSteYp335F3dy/kxUyo+ZMcP2Nc7rrrrnTt2rXFz8HBSeCFVrZu\\\n",
       "3brMnDkzN954Y7VHAQAAoAPo0qVLvv71r+eiC96T2n87LdnSuOc7H+je3UJO7x7oGofW7tqt9Xxv\\\n",
       "bR/v7340GvN8Tq/947z34tNzxx13OLlLiwi8HPQaGxtTU1OTCRMm7PE+TU1N+ed//uecc845GTJk\\\n",
       "SLp165a+fftm5MiROfvss3PdddflueeeS5IMGDAg9957b+bMmZOmpqZ2+r8AAACgI6urq8stt9yS\\\n",
       "WR+fkrplpyQbl+x+p2osn/09zZ3e7ciaa9f7u6ZhT1p6irc1PJhHc0rd/8g5l07PvHnz7NylxQRe\\\n",
       "2Ief//znOemkk3LRRRdl8eLFGT58eD74wQ/mzDPPTJcuXXLfffflqquuysqVK3c+Ztq0adm4cWMW\\\n",
       "LVpUxckBAADoSGpra3PDDTfkxq/8dbqsmJSsveV3H9xX3K3S6d3WeuG0zqAtVjXMyz05u8vH8zf/\\\n",
       "+He5/vrrU1sr1dFyznvDXmzYsCFnnHFGXnjhhVx++eWZM2dO+vff9be31atX56tf/Wre9a537bxt\\\n",
       "+vTpueGGG9LQ0JBJkya199gAAAB0YDNnzsxxxx2Xqeedn1d/+2Qy4svZa6I5gLjblprbv9tcCD6k\\\n",
       "rQd5izak+VPL69O6YXt7uqcuW3a5rSlN+VTm5K5eDfnhD+7Naaed1oqfkYONfxaAvfjSl76UF154\\\n",
       "IVOmTMmXv/zl3eJukgwfPjzXXXdd+vbtu/O20047Lf3798/8+fNTqVTac2QAAAAKcPrpp+fJJx7N\\\n",
       "Mb0Wp+bxs5NtezjCe4Bxt6Wnd0tbz9BSrdXB93aKd39P8q7L+pxdc0EeOPbhPLr8UXGXt0zghb1Y\\\n",
       "uHBhkuTUU09t0ePq6uoyderUrFmzJo888khbjAYAAEDhjj766Dz27w9l6oQ+OWTtKcmWp1vlefcU\\\n",
       "d1uq1PUMLVllvKd+3lbrkFfkmYyv+0D6Th2Ynyx9KMOGDWujz8TBxIoG2IvXXnstSfLAAw/k05/+\\\n",
       "dIsWnU+fPj133HFHGhoaMn78+D3eb+vWrdm6devO9zdt2pTkjRd28yJttLc3rznXHtXQGa+/7du3\\\n",
       "p7a2Ntu7d09Tjx7VHoe9ePPnx89Tx7e9e/c3fl1t395pvl50xq9/lMN1V329evVKQ8N3Mnfu3Hzx\\\n",
       "S+/JlrfdmfQ5940PtvJqhs54evfVNL8yolqfc0t6pns2N/uxhizKR7t8PH959V/mmmuusW+XVlNT\\\n",
       "8f3jHOQaGxtz9NFH5/TTT8/ixYt3+disWbNy0003JXnjX1YvuOCCvP/978973vOe9Oq1999CNm/e\\\n",
       "nIEDB+aoo47Kz372sz3eb+7cubn22mt3u/0b3/hGevbc87d3AAAAvFWbN2/OjBkzsnHjxvTp06fa\\\n",
       "4xz0vv3tb+eiiz6WLYf8aXYc9oVk017+3tkO6xmaO8G7p4n2dwfv79+vrkdTzvjm/82jfzQl21+r\\\n",
       "3+fzJc3Pur87gfd03z0974E8T5LdAu8reSVX1c7Jv3S/K7fefmsuuOCCvTwaWk7g5aC3t8C7cePG\\\n",
       "fPSjH83dd9+9y+319fWZOHFiZs2alXPPPXePzz1t2rTMnz8/K1euzLHHHtvsfZo7wTt06NC8/PLL\\\n",
       "/oBFu2tqasrChQtz1llnpb6+ft8PgFbUGa+/l156Kbfddlsuvu22DHrxxWqPw1409eiRhbfemrM+\\\n",
       "9rHU/9d38NAxvXT44bnt4otz8cUXZ9CgQdUep1V0xq9/lGPTpk0ZOHCgwNuBrF69Oh/72MeybPl/\\\n",
       "5je1tybdz9j9TgcQd5OWBd6Whs2DLfDu7bmS30XeRVmcP+s3K8PeMSz/dOs/Zfjw4Xt5FBwYKxpg\\\n",
       "L/r27ZuGhob8/Oc/z/e+97386Ec/ykMPPZTNmzfnvvvuy3333Zcrr7wyX/ziF5t9/PTp0zN//vx8\\\n",
       "//vfz+zZs5u9T7du3dKtW7fdbq+vr/cHfKrG9Uc1dabrr66uLjt27Ejdli2iYSHqX3vNz1UHV7dl\\\n",
       "yxu/rurqOs3Xijd1pq9/lMM11/EMHz48ixYtyk033ZTZs8/Ntu0fzes9rktq/ysnHuB+3bZcz9AR\\\n",
       "d/WuT+vMtbfn2duqhpezI9cOuTJ3/ObOfP5vPp9LLrnESgbajCsL9sMxxxyT2bNnZ+HChdmwYUPu\\\n",
       "ueeejB49OknyD//wD/mP//iPZh935JFHJkmee+65dpsVAACAstXW1ubSSy/Nk08uy7uPfyoDm05I\\\n",
       "tize5+Na68XVOoK2epGzPf0Q7W3dcUv9OPfn3QOOz9PHPJNlTy7LpZdeKu7Splxd0EJdu3bNOeec\\\n",
       "k1tvvTVJUqlUsnz58mbvu2DBgiTJ1KlT220+AAAAOocRI0bk/vvvz//+q8vTc/PUHLL50qTS8oq7\\\n",
       "p9O7LdWSFzNrbj1DW2nrrr232PzqLv/9aj51yKxc2PPcXDH3iixatCgjRoxo4+lA4IUDNnTo0J3/\\\n",
       "vacXXLv77rvTp0+fTJw4sb3GAgAAoBOpra3NZZddliefXJaTxjyZQT1OSN2O7yT/7SWVDuT07oHs\\\n",
       "ne3MDvQUbyWVfK/u23l3vxPyzLinnNql3bnSoBn789qDDQ0NSZLevXvnve99724ff+KJJ9LY2JjJ\\\n",
       "kyena9eurT0iAAAAB5ERI0Zk8eLF+Zu//mzedsgnM6z/+NTuWJTkwF5Y7WCwp5O3B3Lid0/P9WDt\\\n",
       "/8tpA07J7Lf9Ra7+wmdz//33O7VLuxN4oRmf+9znMnPmzKxYsWK3j7322mu58cYbc8UVVyRJPv/5\\\n",
       "z6dnz5673e/NADx9+vS2HBUAAICDRG1tbT7xiU9k1apV+fM/+1B613wobx88KZU81uLnao0XV6uG\\\n",
       "1tyV+1Y8mcfyR2/7QP5n7/Nz4ZXnZ9WqVfnEJz7h1C5V4aqDZixZsiRf/epXM3bs2AwfPjzTpk3L\\\n",
       "jBkzMmHChBxxxBG57LLLkiTXX399Lrnkkmafo6GhIV27ds2UKVPac3QAAAA6uZ49e+aqq67K6tWr\\\n",
       "c97Ud6RL/fsy6rgPJ1m1y/0O5PTuntYz7Gn/bmdb57C3gLw+yS+yKv9r0Iczrcf78q6LTszq1atz\\\n",
       "1VVXNXvwC9qLwAvN+NrXvpbrr78+5513Xnr06JElS5bk29/+dpYvX55jjz02c+bMycqVK/PJT36y\\\n",
       "2cc3NjZm2bJlOeOMM9KnT592nh4AAICDQf/+/fOFL3whzz77bE4Z3zu1XY7P8SdckkplbbVHa3d7\\\n",
       "WrvQWmsafp21+T+DLskZ3Y/PgHN759lnn811112X/v07W+KmRF2qPQB0RKNGjcqoUaP2GHD3xXoG\\\n",
       "AAAA2ssRRxyRefPm5YorrsjnPve5rHh6eAb2/3B+s/YvUlt55273L3U9Q3vZkN/9GD1d83i+c+IN\\\n",
       "aXj6rkz5wyl5/O8ez6hRo6o5HuzGCV5oAw0NDampqcm0adOqPQoAAAAHiVGjRuW73/1uli5dmqnn\\\n",
       "dc+OHn+YPxh1eo485nupZN/7GpxFfcO2bMt93b6Xj486LR/p8b70O6V7HnvssXz3u98Vd+mQBF5o\\\n",
       "ZevWrcuSJUtyyimnZPDgwdUeBwAAgIPM6NGjc/PNN+e5557LRRefk01bL0/3w47K20/8q/RKY4uf\\\n",
       "b0/7d0v339c0rMkv8i8nzsmHDzsqXxl0eT74sXPz/PPP5+abb85xxx1XlRlhfwi80MoGDBiQbdu2\\\n",
       "5ac//Wm1RwEAAOAg1r9//3zmM5/J6tWrc/vt8zLkyOX5df2x6TN6UgYO/1Z25JU2+byHtMmzHrg9\\\n",
       "7eFNkt9mUxZ1+1auHj0pM+rfnjVHrcgtt8/L6tWr8+lPfzqHHmqhBR2fHbwAAAAAnVhdXV2mTJmS\\\n",
       "KVOmZM2aNbn99ttz553X5qWuH8kxR0/I+v88L7Vbzk1yZIuet6UrHVprBcTv78j9fa9m/04b/yq/\\\n",
       "zCM9FuTfe8/Pv6+/PyOHj8yf/PGf5JsX3+47cSmSwMtBr1+/frnmmmsybNiwao8CAAAAbWrIkCG5\\\n",
       "+uqrc/XVV2fVqlVZsGBB5s//TpYs+cts6z0mPbael66bz03PjEtNO33j96tJejRz+/q0ThTekR15\\\n",
       "Jkvz5DHz829bFuTZtSty6rtPzQXnnps7zv3HjBw5shU+C1SPwMtBr1+/fpk7d261xwAAAIB2NXLk\\\n",
       "yFx++eW5/PLLs2HDhvzwhz/MggUL8sMfnpW62p45sv/UbF79vtRUxqVnRqUmddUeeb/syPa8kGfy\\\n",
       "fN+laRy4JD9df0+27ticyeMmZ855s3P22WdbvUCnIvACAAAAHOQOPfTQzJgxIzNmzEhTU1MefPDB\\\n",
       "3HPPPXn44a/m8cefSGVHMmTAO3NIZVy2vzwu3ZvGpV9GpbbKaWl7tmVtfpb/zNI83/Wx/Hrg0jy7\\\n",
       "7onU1CbvHPPOjB8/Pn8x9c6ceuqpqa+vr+qs0FYEXgAAAAB2qq+vz8SJEzNx4sQkyfbt2/PMM89k\\\n",
       "6dKl//U2L48/fklWNFUyuN8702vbCclv/yBdXh+cbhmcQzMkPTI43XJYat/iqd8d2Z7f5tfZlLXZ\\\n",
       "lDXZlLV5JWtTOfSFvNBlWVb/Zllq62py4kknZtzJ4zJu3J9n3LhxGTVqVOrqyjhxDG+VwAsAAADA\\\n",
       "HtXV1WXMmDEZM2ZMPvKRjyR5I/quXLkyS5cuzYoVK7Jmzc+zdu0DWbt2bZ755dpsfGV9amvq0rv7\\\n",
       "23JIl8HpXhmSntsOTc2OLqnZUZ/s6JLaptqs+lpjnt9+b+q67EiltimV2m15vcuG/LZmTTZtW5tN\\\n",
       "W36V7ZXt6de7fw4fNDhDjhicPxg6OEOGDMmfjrkk48aNy9vf/nYxl4OawAsAAABAi9TV1WX06NEZ\\\n",
       "PXp0sx/fsmVLXnzxxaxdu3bn229+85ts27Zt51tTU1OSt+f4E+rTpUuXnW/9+vXL4MGDd74dfvjh\\\n",
       "6d69e/v+D0JBBF4AAAAAWlX37t0zbNiwDBs2rNqjQKdXW+0BAAAAAAA4MAIvAAAAAEChBF4AAAAA\\\n",
       "gEIJvAAAAAC0ia985SsZM2ZMevXqlX79+mXixIl5+OGHqz0WdCoCLwAAAABt4qijjsqXv/zlLFu2\\\n",
       "LA899FBGjhyZSZMmZd26ddUeDToNgRcAAACANvGhD30okyZNyogRIzJ69Oh86UtfysaNG/PUU08l\\\n",
       "SUaMGJGamppm3/71X/+1ytNDGQReAAAAANrc66+/nq997Ws59NBDc/zxxydJ7rrrriTJo48+mrVr\\\n",
       "1+5c3/Doo4/mzDPPrNqsUJIu1R4AAAAAgM7rwQcfzOTJk/Paa6/l8MMPz8KFC9O/f/8kya9+9av0\\\n",
       "6tUr48aNS01NTR555JFd3gf2zQleAAAAANrMySefnCeeeCIPPfRQJk+enAsvvDAvv/xykmT58uUZ\\\n",
       "M2bMzpj75JNPZuzYseIutIDACwAAAECb6dGjR0aOHJnx48fnlltuSW1tbW677bYkyVNPPbVzXUOS\\\n",
       "LFu2bJf3gX0TeAEAAABoN5VKJVu3bk3yxgnesWPH7vzY8uXLBV5oITt4AQAAAGgTs2fPznnnnZcj\\\n",
       "jjgi69evz0033ZTnn38+559/frZt25ZnnnlmZ9CtVCpZvXp1jjzyyCpPDWVxghcAAACANrFmzZp8\\\n",
       "+MMfzrHHHpspU6bkpZdeyoMPPpjjjjsuzz77bF5//fWdJ3hramoyduzYzJw5M6tWrary5FAOJ3gB\\\n",
       "AAAAaBNf//rX9/ix0aNHp1Kp7HLbY4891tYjQafjBC8AAAAAQKEEXgAAAACAQlnRAAAAAECrq6mp\\\n",
       "aZXn+e9rHIBdCbwAAAAAtDphFtqHFQ0AAAAAtIu///u/z8knn5zevXtn0KBBufDCC9PY2FjtsaBo\\\n",
       "Ai8AAAAA7eLHP/5xLrvssjz88MO59957s379+kyePDnbtm2r9mhQLCsaAAAAAGgX99577y7vz5s3\\\n",
       "L8OHD8/TTz+dE044oUpTQdmc4AUAAACgKjZu3Jgk6d+/f5UngXIJvAAAAAC0u+3bt+fKK6/MlClT\\\n",
       "csQRR1R7HCiWFQ0AAAAAtKtKpZKZM2fml7/8ZX7yk59UexwomsALAAAAQLupVCq55JJL8qMf/SgP\\\n",
       "PPBADjvssGqPBEUTeAEAAABoF5VKJbNmzcoPfvCD/PjHP87QoUOrPRIUT+AFAAAAoF3MmjUr3/zm\\\n",
       "N7NgwYL06NEjL774YpI3XmSta9euVZ4OyiTwAgAAANAubr755iTJqaeeusvt999/fyZMmFCFiaB8\\\n",
       "Ai8AAAAA7aJSqVR7BOh0aqs9AAAAAAAAB0bgBQAAAAAolMALAAAAAFAogRcAAAAAoFACLwAAAABA\\\n",
       "oQReAAAAAIBCCbwAAAAAAIUSeAEAAAAACiXwAgAAAAAUSuAFAAAAACiUwAsAAAAAUCiBFwAAAACg\\\n",
       "UAIvAAAAAEChBF4AAAAAgEIJvAAAAAAAhRJ4AQAAAAAKJfACAAAAABRK4AUAAAAAKJTACwAAAABQ\\\n",
       "KIEXAAAAAKBQAi8AAAAAQKEEXgAAAACAQgm8AAAAAACFEngBAAAAAAol8AIAAAAAFErgBQAAAAAo\\\n",
       "lMALAAAAAFAogRcAAAAAoFACLwAAAABAoQReAAAAAIBCCbwAAAAAAIUSeAEAAAAACiXwAgAAAAAU\\\n",
       "SuAFAAAAACiUwAsAAAAAUCiBFwAAAACgUAIvAAAAAEChBF4AAAAAgEIJvAAAAAAAhRJ4AQAAAAAK\\\n",
       "JfACAAAAABRK4AUAAAAAKJTACwAAAABQKIEXAAAAAKBQAi8AAAAAQKEEXgAAAACAQgm8AAAAAACF\\\n",
       "EngBAAAAAAol8AIAAAAAFErgBQAAAAAolMALAAAAAFAogRcAAAAAoFACLwAAAABAoQReAAAAAIBC\\\n",
       "CbwAAAAAAIXqUu0BAAA6u18PHFjtEdiH7d27J0leOvzw1G3ZUuVp2Bu/ngAAdiXwAgC0kZ49e6a+\\\n",
       "tjbfP//8ao/CPtTW1uaEJLddfHF27NhR7XHYh/ra2vTs2bPaYwAAdAgCLwBAG+nbt29mffKT2bx5\\\n",
       "c7VHYR+2b9+epUuX5uKLL05dXV21x2Efevbsmb59+1Z7DACADkHgBQBoQ3379hWiCtDU1JQkGTRo\\\n",
       "UOrr66s8DQAA7D8vsgYAAAAAUCiBFwAAAACgUAIvAAAAAEChBF4AAAAAgEIJvAAAAAAAhRJ4AQAA\\\n",
       "AAAKJfACAAAAABRK4AUAAAAAKJTACwAAAABQKIEXAAAAAKBQAi8AAAAAQKEEXgAAAACAQgm8AAAA\\\n",
       "AACFEngBAAAAAAol8AIAAAAAFErgBQAAAAAolMALAAAAAFAogRcAAAAAoFACLwAAAABAoQReAAAA\\\n",
       "AIBCCbwAAAAAAIUSeAEAAAAACiXwAgAAAAAUSuAFAAAAACiUwAsAAAAAUCiBFwAAAACgUAIvAAAA\\\n",
       "AEChBF4AAAAAgEIJvAAAAAAAhRJ4AQAAAAAKJfACAAAAABRK4AUAAAAAKJTACwAAAABQKIEXAAAA\\\n",
       "AKBQAi8AAAAAQKEEXgAAAACAQgm8AAAAAACFEngBAAAAAAol8AIAAAAAFErgBQAAAAAolMALAAAA\\\n",
       "AFAogRcAAAAAoFACLwAAAABAoQReaGXr1q3LzJkzc+ONN1Z7FAAAAAA6OYGXDqmxsTE1NTWZMGHC\\\n",
       "LreffPLJqampadHbYYcd1q6zDxgwIPfee2/mzJmTpqamdv3cAAAAABxculR7ANhflUolJ554YsaO\\\n",
       "HbvL7b/4xS/ywAMPpFevXjn//PN3e9yoUaPaa8Sdpk2blhtuuCGLFi3KpEmT2v3zAwAAAHBwEHgp\\\n",
       "Rk1NTebNm7fb7X/7t3+bBx54IOPHj8/tt9/e/oM1Y/r06bnhhhvS0NAg8AIAAADQZqxooHiPP/54\\\n",
       "kuSkk06q8iS/c9ppp6V///6ZP39+KpVKtccBAAAAoJMSeCneY489liQ58cQTqzzJ79TV1WXq1KlZ\\\n",
       "s2ZNHnnkkWqPAwAAAEAnZUUDRduwYUMaGxuTdKwTvMkbaxruuOOONDQ0ZPz48Xu839atW7N169ad\\\n",
       "72/atClJ0tTU5EXaaHdvXnOuParB9Uc1uf6oJtcf1eS6AyhfTcX3j9MBNTY25uijj87pp5+exYsX\\\n",
       "7/F+ixYtyplnnplevXpl48aNqa3tOIfSN2/enIEDB+aoo47Kz372sz3eb+7cubn22mt3u/0b3/hG\\\n",
       "evbs2ZYjAgAAB7nNmzdnxowZ2bhxY/r06VPtcQA4AE7wUrQ39+++4x3v6FBxN0l69uyZs846K/Pn\\\n",
       "z8+zzz6bY489ttn7ffazn82nPvWpne9v2rQpQ4cOzQc+8AF/wKLdNTU1ZeHChTnrrLNSX19f7XE4\\\n",
       "yLj+qCbXH9Xk+qOa3vwOQgDKJfBStLeyf/czn/lM5s+f3+LH3XLLLXnf+963X/edPn165s+fn+9/\\\n",
       "//uZPXt2s/fp1q1bunXrttvt9fX1/oBP1bj+qCbXH9Xk+qOaXH9Ug2sOoHwCL0V78wTvgezfXbNm\\\n",
       "TVauXNnix7366qv7fd8jjzwySfLcc8+1+PMAAAAAwL50rO9phxbYvHnzzkB7ICd477zzzlQqlRa/\\\n",
       "nX322fv9ORYsWJAkmTp1aovnAwAAAIB9EXgp1rJly7Jjx4507do1Y8aMqfY4zbr77rvTp0+fTJw4\\\n",
       "sdqjAAAAANAJCbwU6839u2PHju2Qe6OeeOKJNDY2ZvLkyenatWu1xwEAAACgExJ4KdZb2b/bHhoa\\\n",
       "GpK88UJrAAAAANAWBF6K9eYJ3gPZv9seGhoa0rVr10yZMqXaowAAAADQSQm8FKmpqSkrVqxI0jFP\\\n",
       "8DY2NmbZsmU544wz0qdPn2qPAwAAAEAn1aXaA8CBqK+vz9atW6s9xh5ZzwAAAABAe3CCF9pAQ0ND\\\n",
       "ampqMm3atGqPAgAAAEAnJvBCK1u3bl2WLFmSU045JYMHD672OAAAAAB0YlY0QCsbMGBAtm3bVu0x\\\n",
       "AAAAADgIOMELAAAAAFAoJ3jpkPr165drrrkmw4YNq/YoAAAAANBhCbx0SP369cvcuXOrPQYAAAAA\\\n",
       "dGhWNAAAAAAAFErgBQAAAAAolMALAAAAAFAogRcAAAAAoFACLwAAAABAoQReAAAAAIBCCbwAAAAA\\\n",
       "AIUSeAEAAAAACiXwAgAAAAAUSuAFAAAAACiUwAsAAAAAUCiBFwAAAACgUAIvAAAAAEChBF4AAAAA\\\n",
       "gEIJvAAAAAAAhRJ4AQAAAAAKJfACAAAAABRK4AUAAAAAKJTACwAAAABQKIEXAAAAAKBQAi8AAAAA\\\n",
       "QKEEXgAAAACAQgm8AAAAAACFEngBAAAAAAol8AIAAAAAFErgBQAAAAAolMALAAAAAFAogRcAAAAA\\\n",
       "oFACLwAAAABAoQReAAAAAIBCCbwAAAAAAIUSeAEAAAAACiXwAgAAAAAUSuAFAAAAACiUwAsAAAAA\\\n",
       "UCiBFwAAAACgUAIvAAAAAEChBF4AAAAAgEIJvAAAAAAAhRJ4AQAAAAAKJfACAAAAABRK4AUAAAAA\\\n",
       "KJTACwAAAABQKIEXAAAAAKBQAi8AAAAAQKEEXgAAAACAQgm8AAAAAACFEngBAAAAAAol8AIAAAAA\\\n",
       "FErgBQAAAAAolMALAAAAAFAogRcAAAAAoFACLwAAAABAoQReAAAAAIBCCbwAAAAAAIUSeAEAAAAA\\\n",
       "CiXwAgAAAAAUSuAFAAAAACiUwAsAAAAAUCiBFwAAAACgUAIvAAAAAEChBF4AAAAAgEIJvAAAAAAA\\\n",
       "hRJ4AQAAAAAKJfACAAAAABRK4AUAAAAAKJTACwAAAABQKIEXAAAAAKBQAi8AAAAAQKEEXgAAAACA\\\n",
       "Qgm8AAAAAACFEngBAAAAAAol8AIAAAAAFErgBQAAAAAolMALAAAAAFAogRcAAAAAoFACLwAAAABA\\\n",
       "oQReAAAAAIBCCbwAAAAAAIUSeAEAAAAACiXwAgAAAAAUSuAFAAAAACiUwAsAAAAAUCiBFwAAAACg\\\n",
       "UAIvAAAAAEChBF4AAAAAgEIJvAAAAAAAhRJ4AQAAAAAKJfACAAAAABRK4AUAAAAAKJTACwAAAABQ\\\n",
       "KIEXAAAAAKBQAi8AAAAAQKEEXgAAAACAQgm8AAAAAACFEngBAAAAAAol8AIAAAAAFErgBQAAAAAo\\\n",
       "lMALAAAAAFAogRcAAAAAoFACLwAAAABAoQReAAAAAIBCCbwAAAAAAIUSeAEAAAAACiXwAgAAAAAU\\\n",
       "SuAFAAAAACiUwAsAAAAAUCiBFwAAAACgUAIvAAAAAEChBF4AAAAAgEIJvAAAAAAAhRJ4AQAAAAAK\\\n",
       "JfACAAAAABRK4AUAAAAAKJTACwAAAABQKIEXAAAAAKBQAi8AAAAAQKEEXgAAAACAQgm8AAAAAACF\\\n",
       "EngBAAAAAAol8AIAAAAAFErgBQAAAAAolMALAAAAAFAogRcAAAAAoFACLwAAAABAoQReAAAAAIBC\\\n",
       "CbwAAAAAAIUSeAEAAAAACiXwAgAAAAAUSuAFAAAAACiUwAsAAAAAUCiBFwAAAACgUAIvAAAAAECh\\\n",
       "BF4AAAAAgEIJvAAAAAAAhRJ4AQAAAAAKJfACAAAAABRK4AUAAAAAKJTACwAAAABQKIEXAAAAAKBQ\\\n",
       "Ai8AAAAAQKEEXgAAAACAQnWp9gDAriqVSpJk06ZNVZ6Eg1FTU1M2b96cTZs2pb6+vtrjcJBx/VFN\\\n",
       "rj+qyfVHNb359443/x4CQHkEXuhgXnnllSTJ0KFDqzwJAABwsHjllVfSt2/fao8BwAGoqfhnOuhQ\\\n",
       "duzYkTVr1qR3796pqamp9jgAAEAnVqlU8sorr2TIkCGprbXFEaBEAi8AAAAAQKH88xwAAAAAQKEE\\\n",
       "XgAAAACAQgm8AAAAAACFEngBAAAAAAol8AIAAAAAFErgBQAAAAAolMALAAAAAFAogRcAAAAAoFAC\\\n",
       "LwAAAABAoQReAAAAAIBCCbwAAAAAAIUSeAEAAAAACiXwAgAAAAAUSuAFAAAAACiUwAsAAAAAUCiB\\\n",
       "FwAAAACgUAIvAAAAAEChBF4AAAAAgEIJvAAAAAAAhRJ4AQAAAAAKJfACAAAAABRK4AUAAAAAKJTA\\\n",
       "CwAAAABQKIEXAAAAAKBQAi8AAAAAQKEEXgAAAACAQgm8AAAAAACFEngBAAAAAAol8AIAAAAAFErg\\\n",
       "BQAAAAAolMALAAAAAFAogRcAAAAAoFACLwAAAABAoQReAAAAAIBCCbwAAAAAAIUSeAEAAAAACiXw\\\n",
       "AgAAAAAUSuAFAAAAACiUwAsAAAAAUCiBFwAAAACgUAIvAAAAAEChBF4AAAAAgEIJvAAAAAAAhRJ4\\\n",
       "AQAAAAAKJfACAAAAABRK4AUAAAAAKJTACwAAAABQKIEXAAAAAKBQAi8AAAAAQKEEXgAAAACAQgm8\\\n",
       "AAAAAACFEngBAAAAAAol8AIAAAAAFErgBQAAAAAolMALAAAAAFAogRcAAAAAoFACLwAAAABAoQRe\\\n",
       "AAAAAIBCCbwAAAAAAIUSeAEAAAAACiXwAgAAAAAUSuAFAAAAACiUwAsAAAAAUCiBFwAAAACgUAIv\\\n",
       "AAAAAEChBF4AAAAAgEIJvAAAAAAAhRJ4AQAAAAAKJfACAAAAABRK4AUAAAAAKJTACwAAAABQKIEX\\\n",
       "AAAAAKBQAi8AAAAAQKEEXgAAAACAQgm8AAAAAACFEngBAAAAAAol8AIAAAAAFErgBQAAAAAolMAL\\\n",
       "AAAAAFAogRcAAAAAoFACLwAAAABAoQReAAAAAIBCCbwAAAAAAIUSeAEAAAAACiXwAgAAAAAUSuAF\\\n",
       "AAAAACiUwAsAAAAAUCiBFwAAAACgUAIvAAAAAEChBF4AAAAAgEIJvAAAAAAAhRJ4AQAAAAAKJfAC\\\n",
       "AAAAABRK4AUAAAAAKJTACwAAAABQKIEXAAAAAKBQAi8AAAAAQKH+Pwr9KyOUqjR5AAAAAElFTkSu\\\n",
       "QmCC\\\n",
       "\"\n",
       "  frames[1] = \"data:image/png;base64,iVBORw0KGgoAAAANSUhEUgAABXgAAAPoCAYAAABkvZZOAAAAOnRFWHRTb2Z0d2FyZQBNYXRwbG90\\\n",
       "bGliIHZlcnNpb24zLjEwLjMsIGh0dHBzOi8vbWF0cGxvdGxpYi5vcmcvZiW1igAAAAlwSFlzAAAP\\\n",
       "YQAAD2EBqD+naQAAukpJREFUeJzs3Xl4U2X+/vE7TVvaUmjZhCIggiKyIwjuLI6iiKDioIICRVBH\\\n",
       "lGHUGRA3+Km4jI4C4i5FHfWrjiOCCriwiYwbCKIIKoKiFBAKxVIKaXp+f9SEJM1ysjU57ft1Xbls\\\n",
       "kuc850l6aOXmk89jMwzDEAAAAAAAAADAclISvQAAAAAAAAAAQGQIeAEAAAAAAADAogh4AQAAAAAA\\\n",
       "AMCiCHgBAAAAAAAAwKIIeAEAAAAAAADAogh4AQAAAAAAAMCiCHgBAAAAAAAAwKIIeAEAAAAAAADA\\\n",
       "ogh4AQAAAAAAAMCiCHgBAAAAAAAAwKIIeAEAAAAAAADAogh4AQAAAAAAAMCiCHgBAAAAAAAAwKII\\\n",
       "eAEAAAAAAADAogh4AQAAAAAAAMCiCHgBAAAAAAAAwKIIeAEAAAAAAADAogh4AQAAAAAAAMCiCHgB\\\n",
       "AAAAAAAAwKIIeAEAAAAAAADAogh4AQAAAAAAAMCiCHgBAAAAAAAAwKIIeAEAAAAAAADAogh4AQAA\\\n",
       "AAAAAMCiCHgBAAAAAAAAwKIIeAEAAAAAAADAogh4AQAAAAAAAMCiCHgBAAAAAAAAwKIIeAEAAAAA\\\n",
       "AADAogh4AQAJMXXqVNlsNtlsNk2dOjXRy7GkZcuWud/Dvn37Vvv5586d6z7/6NGjq/38ySbR3w8k\\\n",
       "n9atW7uvia1btyZ6OQAAAKihCHgBIMn17dvXHRD4u9WrV0+tWrXSeeedp+nTp+vXX39N9JIBADXY\\\n",
       "hx9+qJEjR6pdu3aqW7euGjZsqC5duujvf/+7Nm7caKnz7969W4sWLdLdd9+twYMHq3nz5l6/Y5ct\\\n",
       "WxafFwEAABBDqYleAAAgOiUlJSopKdG2bdu0ePFiTZ06VbfddpvuvPNO2Wy2RC8PgA/PP5eGYSRw\\\n",
       "JbXT6NGj9fzzz0uSCgoKqD4Pw/79+3XNNdfo1Vdf9Xq8tLRUe/fu1fr16zVjxgxNmzZNt956a9Kf\\\n",
       "/7TTTtP//ve/mK8TAACguhHwAoCFnHzyyerVq5fXY8XFxVq3bp3Wr18vSXI4HJo6dar27dunRx55\\\n",
       "JBHLBADUMA6HQxdffLGWLFnifqxTp0466aSTVFZWpo8++kiFhYVyOByaMmWKHA6H7rzzzqQ+//bt\\\n",
       "22O2PgAAgEQi4AUACxk4cGDAfrWrVq3SFVdcoZ9//lmS9Oijj2rEiBHq2bNnNa4QqL369u1LRS68\\\n",
       "1KS+u3fffbc7XM3IyFBBQYEuv/xy9/OHDx/W7bffrn/+85+SKvus9+nTR3369Enq86elpalTp046\\\n",
       "+eST3bdu3brFZM0AAADVhR68AFBDnHbaaXrrrbe8Pv799NNPJ3BFAICaYNeuXfrXv/7lvv/oo496\\\n",
       "hauSlJ6ergcffFCXXXaZpMr2I7Fq0xCv88+fP1/79+/XmjVr9NRTT2ns2LHq2rVrTNYMAABQnQh4\\\n",
       "AaAG6datm/r27eu+v2LFisQtBgBQIzz//PM6cOCAJKldu3a65pprAo598MEHlZJS+VeM//3vf/ry\\\n",
       "yy+T9vxdunRRRkZG1OsDAABINAJeAKhhPD9aara/4LfffqspU6aoV69eatq0qdLT09WkSRP17t1b\\\n",
       "d955Z9h9CpcuXarhw4frmGOOUUZGhvLy8nTmmWfq8ccfV2lpqel5Ro8e7d7JfO7cuSHHz5071z3e\\\n",
       "7MZJX331lSZPnqzevXurWbNmSk9PV3Z2tk444QRddtlleu6551RcXBxynj179ujhhx/WOeeco5Yt\\\n",
       "WyojI0O5ubnq0KGDxo8fry+++MLUely+//57TZw4Ue3bt3fvEt+tWzfdeeed+uWXX8KaKxJr1qzR\\\n",
       "uHHj1KZNG2VmZqpJkybq1auXHnzwQRUVFUU87+eff66//e1v6tatm5o0aaL09HQ1a9ZMffr00QMP\\\n",
       "PKC9e/eGnKN169bu77PrI/C//PKL7rjjDnXt2lW5ubmqW7eu2rdvrxtvvFE//fSTqbWVlJToySef\\\n",
       "1AUXXKBWrVopKytLaWlpysnJUfv27XXhhRdq+vTp+vrrr/0ev2zZMve6PP+hxfc5T67HfG9bt27V\\\n",
       "4cOH1aRJE/dj4WwG1adPH/dxM2fONH2cr759+7rnWbZsmSSpsLBQ06ZNU/fu3dWwYUNlZGSoffv2\\\n",
       "mjx5st9r45dfftGUKVPUvXt3NWjQQPXq1VO3bt00ffp0HTx40NQ6vv32Wz3yyCO65JJLdMIJJ6he\\\n",
       "vXpKS0tTkyZN1LNnT/3tb3/Thg0bgs7hum5cG6xJUn5+vt/337cVTqD3Yfr06erVq5eaNWsmu92u\\\n",
       "3Nxcv+f0vFZdDh8+rJNOOsn9/MCBA0O+D2+88YZ7fFpamj755JOQx8TCvHnz3F+7fi4H0qpVK/Xv\\\n",
       "3999/80337T8+ePB3zUVzNSpUwNen76WLFmiq6++Wp07d1Zubq5SU1OVlZWlFi1a6Mwzz9TEiRP1\\\n",
       "9ttv6/Dhw7F5MQAAIPEMAEBS69OnjyHJkGTcddddIcdPmTLFPT4tLS3o2LKyMuPaa6817Ha7+xh/\\\n",
       "t8zMTGPWrFkhz+1wOIwxY8YEnatDhw7Gxo0bjbvuuivk6xo1apR7TEFBQcjzFxQUuMePGjUq6Ni9\\\n",
       "e/cal112mWGz2YKuV5LRtGnToHM99thjRk5OTtA5bDabMWbMGOPQoUMhX8fs2bONjIyMgHPl5uYa\\\n",
       "8+fPN5YuXep+rE+fPiHnNeu2224Lek20aNHC+N///hfW+11UVGQMHTo05Hudm5trvP7660HnOuaY\\\n",
       "Y9zjt2zZYrz55ptB3//MzEzj7bffDjrnqlWrjKOPPjrk+lw3h8NRZY5g3w/P58zctmzZYhiGYdx8\\\n",
       "883ux8aOHRv0Nbh899137mPq1Klj7Nmzx9Rx/nj+/Fm6dKmxePFio1GjRgHXfcwxxxhbt251H//c\\\n",
       "c88ZderUCTi+Y8eOxq5du4Ku4c9//rOp98xmsxkTJ040ysvL/c7jed2Euvn+TPJ9H+bNm2c0aNCg\\\n",
       "ynE5OTkBz+n6nnr69ttvjaysLPeYmTNnBnwftm3b5nXOadOmBX3fYuXgwYNGSkqK+7yrVq0Kecy9\\\n",
       "997rHn/66adb7vye39OlS5dGsOrQfK+pUMz8ziwpKTEGDx5s+jp/5plnYvuiAABAwrDJGgDUMJ7V\\\n",
       "tk2bNg047sCBAxowYIA+/vhj92Nt27ZVjx491KBBAxUVFenjjz/W9u3bdfDgQd14443av3+/pkyZ\\\n",
       "EnDOkSNH6pVXXnHfz83NVb9+/dSoUSP9/PPPWrZsmTZs2KCBAwdq8ODBUb7SyG3fvl39+/fXpk2b\\\n",
       "vNZ6+umnKy8vTw6HQz///LNWr16t/fv3q6ysLOBcEydO1IwZM9z3GzdurFNPPVXNmjVTWVmZvvzy\\\n",
       "S3399dcyDENz5szR9u3b9c4777g/Quzrqaee0vjx493309LS1LdvXx1zzDEqKirSsmXLVFRUpEsv\\\n",
       "vVTTp0+PwbvhbcqUKbrvvvvc97OystS/f3/l5eVpx44dWrJkiX755RcNHDhQEydONDXnjh071L9/\\\n",
       "f3377bfuxzp27KiuXbsqOztbu3bt0kcffaQ9e/Zo3759GjZsmF588UWNGDEi5NwffPCBrrvuOjmd\\\n",
       "TrVq1Uqnnnqq6tevry1btmjZsmUqLy/XwYMHNWzYMH399dc69thjq8yxbds2DRgwQL///rukyvf8\\\n",
       "5JNP1nHHHaesrCwdOHBAW7du1bp167R//35Tr9nX0Ucf7f6+zp492/245/faU/369SVJ11xzjR5+\\\n",
       "+GFJ0quvvqpHH31UdevWDXquOXPmuL++5JJL1LBhw4jW7Gvt2rWaMmWKDh48qBYtWuj0009XvXr1\\\n",
       "9N133+mjjz6SYRj66aefdP7552v9+vV69dVXdfXVV0uSjj/+ePXq1UsZGRlav369PvvsM0nSN998\\\n",
       "o6uuukqLFi0KeF7XxpGpqanq0KGDjj/+eOXm5sput2vXrl36/PPP9euvv8owDD366KM6dOiQHn/8\\\n",
       "8SrzjBo1Snv27NGHH36ojRs3SpLOPvtstW/fvsrYXr16BVzPqlWrNHXqVDkcDjVq1EhnnXWWGjdu\\\n",
       "rF27doXdjqB9+/Z65JFHdO2110qS/vGPf6hfv37q1KmT17iKigpdddVV7gr3008/XbfddltY54rU\\\n",
       "pk2bVFFRIamy4rx79+4hjznppJPcX3v+ubfi+a3kyiuv1Pz58933jzvuOHelvcPh0G+//ab169fX\\\n",
       "qM3/AADAHxIcMAMAQgingtfhcBgtW7Z0j7/00ksDjh05cqR7XLt27fxWEJWXlxuPP/64uwLPbrcH\\\n",
       "rJ564YUXvCqDbrjhBqO0tNRrzPbt243+/fsbkoz09PSQryseFbwOh8M4/fTTvao7H3vsMePw4cNV\\\n",
       "xh46dMiYP3++cdFFF/md67nnnnPPU79+feOZZ57xO8+SJUu8qkMfeOABv/N99913XpW7ffr0MbZt\\\n",
       "2+Y1pqyszJg4cWKV9zAWFbzLly/3qmi+9NJLjaKiIq8x+/btMy6//PIq5w/0fjudTqNfv37ucb16\\\n",
       "9TLWrFlTZdzBgweNqVOnus9ft25d48cff/Q7p2dVZJ06dYy6desaL774olFRUeE17uuvv/Z63/Pz\\\n",
       "8/3O53o/JRlnnnmm8euvv/od53A4jGXLlhkjRozwWyVqtqLa88+JGZ4/A+bMmRN0bHl5uZGXl+ce\\\n",
       "/+GHH5o6h5lz16lTx0hLSzNmz55tOJ1Or3HLli0z6tat6x47ffp0Izs726hfv77xn//8p8q8r776\\\n",
       "qleV+PLlywOuYfLkycZrr71mFBcX+32+oqLCmD9/vtGkSRP3fB999FHA+cL9ueL7PqSmpho2m824\\\n",
       "++67q/x5Lysr87ofqoLX5aKLLnKP69y5c5V5PCtSc3Jygs4Va6+++qr73KE+zeDyzTffeF3noaq0\\\n",
       "k+38nsdapYJ37dq17uezs7ONd999N+BcmzdvNu655x5j/vz5UbwCAACQTAh4ASDJhRPw3n333V5/\\\n",
       "MX3vvff8jluxYoV7TNu2bY3ffvst6Lyewel5551X5Xmn0+kVLI8ePTrgXKWlpUaXLl281lmdAe8z\\\n",
       "zzzjHpOWlmasWLEi5Lz+7N+/38jNzXUHnZ988knQ8Rs2bHCHt40aNTIOHDhQZczw4cPda+vYsaPf\\\n",
       "MS5jx471eg9jEfCedtpp7vnOPvvsgB91dzqdxrnnnut1/kDvt2fwf8opp1QJ/X15hhjXXXed3zGe\\\n",
       "oZnNZjMWLlwYcL63337bK/Tw11qhR48e7jHff/990PUFE6+A96WXXnKPD/Vx8/nz53v92fYNvcPl\\\n",
       "+fNHkvHss88GHHvPPfd4jbXZbEEDZs9r+C9/+UtU6zQMw/jkk0/c8w0bNizguGgDXknGPffcY+o4\\\n",
       "swHv7t27jebNm7vHTpgwwf3cp59+aqSmprqfe+mll0ydO1Yef/xx97m7dOli6pg9e/Z4vV8bN260\\\n",
       "1PmtGPDOmjXL/fxtt90W+wUDAICkxiZrAGBx+/fv10cffaThw4frjjvucD/+t7/9Teecc47fY/71\\\n",
       "r3+5v3744YfVuHHjoOcYPXq0+2PMixcv1p49e7yeX7x4sbZt2yZJyszM1EMPPRRwrlDPx5vr4+6S\\\n",
       "dNNNN+nMM8+MaJ45c+Zo3759kqTrr79evXv3Djr+xBNP1KhRoyRVbsjm+5H0ffv26Y033nDff/DB\\\n",
       "B5WVlRVwvgcffDDkR/XD8e2332rVqlXu+zNnzpTdbvc7NiUlRbNmzQq60ZGL57X25JNPKjMzM+j4\\\n",
       "yZMnuzeqeuWVV9wfzQ5k0KBBOu+88wI+P3DgQDVr1kxS5SZq/j6u7dl2oUmTJkHPlwhDhw51t1n4\\\n",
       "+OOPvVqL+HruuefcX48ZM8bU98isrl27ulsu+HPFFVd43R8yZIjXZlfBxrtaNkSjd+/eOvHEEyVJ\\\n",
       "H374YdTzBdK8eXNNmjQppnM2atRIL7zwgvv7NWvWLC1cuFAlJSUaMWKEysvLJUkjRozQ8OHDY3ru\\\n",
       "UEpKStxfh/rzG2ic5xxWO79VJPvPMQAAEF8EvABgIdOmTauy23tOTo7OOussd+/bRo0a6f777/cK\\\n",
       "1jyVl5fr/fffl1TZ53PQoEGmzt2vXz9JkmEYXn17JWnp0qXurwcOHKhGjRoFnetPf/qTjj76aFPn\\\n",
       "jaWffvrJ3XtTkm644YaI53r33XfdX5sNXDzDrpUrV3o9t2rVKh06dEiSdNRRRwUNLSWpQYMGMe1j\\\n",
       "7Pk97NGjhzp06BB0fLt27XTKKacEHVNYWKi1a9dKkjp06KCuXbuGXEdGRoZOPfVUSVJxcbG+/vrr\\\n",
       "oOP//Oc/B33eZrN5nddf78mWLVu6v37yySdDrrG61alTRyNHjnTf9wxxPe3cuVPvvPOOJMlut2v0\\\n",
       "6NExXcell14a9Pk2bdp4/aNDqPGefWa3bNliag3fffedXn75Zd1999265ZZbdOONN+qGG25w34qL\\\n",
       "iyVV/iOK6x+dYu3SSy9Vamrst7E4++yz9fe//11S5c/Z/Px85efn64cffpAktW7d2m9v4Xjz7EGe\\\n",
       "np5u6pg6dep43T948KBlz28Vnj/HXnjhBZWWliZwNQAAoLqxyRoA1CB2u10PPPBA0Cq7r776SgcO\\\n",
       "HJBUuZnUX//6V1Nzf/755+6vfYMTz42FXOFcMDabTb1799Z///tfU+eOlU8++cT99fHHH68WLVpE\\\n",
       "PNf//vc/99dPP/20nn/++ZDH/PLLL+6vg72HvXr1CrgJm6dTTz3Va1O7aIT7PXSN83wffHk+d/Dg\\\n",
       "QdOB+ubNm91fb9u2TV26dAk4tnPnziHn8/wHB3+bpA0bNkxLliyRVFlB/P7772vEiBE655xzorpG\\\n",
       "Yumaa67Ro48+KqkyvJk+fXqVkPH55593V3oOHDhQzZs3j+kafDf+8ic3N9f986Vjx45Bx3pu/hZq\\\n",
       "87p33nlHd9xxR1ibmO3evdsr9IqVHj16xHxOl3vuuUcffvihVq9erZ07d+o///mPpMqf7S+99JJ7\\\n",
       "873qlJGR4f768OHDpo5x/WOVi9nK22Q8v1UMHDhQdevW1YEDB7RmzRq1b99eV199tS644AJ17949\\\n",
       "4CcyAABAzUDACwAWcvLJJ3vt7l5SUqKff/7ZXf3pdDo1duxY/fjjj7r33nv9zrF9+3b313v27NHs\\\n",
       "2bPDXodrJ3eX3377zf11q1atTM1hdlws7dy50/11mzZtIp6npKREv//+u/v+s88+G/YcyfYexuP8\\\n",
       "ntfali1bYnKt+crJyQk5R1pamvtrh8NR5fmxY8dq0aJFmjdvnqTKj/e7PuLfqlUrnXnmmerXr5+G\\\n",
       "DBkSsp1JvJx44ok644wztHLlSu3cuVNvv/22LrroIq8xc+bMcX89duzYmK/BzHvtGTqHGu851hVM\\\n",
       "+zN16lRNmzbNxAq9ef4ZjaV4fvw9LS1NL7/8sk466SR3UC5Jt99+u0477bS4nTeY7Oxs99dmK2F9\\\n",
       "x3nOYbXzW0WjRo307LPPauTIkXI4HNq2bZumTp2qqVOnKjs7W71791afPn104YUXqlu3boleLgAA\\\n",
       "iDFaNACAhQwcOFCPPfaY+zZ37lwtWbJEW7du9epnOX36dL322mt+53B9hDkavmGMZ3/DYH1jPcWy\\\n",
       "f6xZnoFPNH/hr4nvYTzOH4/3yVcsesza7Xb997//1bPPPlulNcXPP/+sl156SWPHjlXz5s01duxY\\\n",
       "FRUVRX3OSFxzzTXur33bNKxcudLdmzcvL08XXHBBzM8f7nsdi+/N+++/7xXunnrqqXr66af15Zdf\\\n",
       "avfu3SorK5NRuWmwDMNQnz593GND9W+OVLyrQevXr1/lHL5hfnXyrID3/EeyYHbs2OF137Na22rn\\\n",
       "t5LLL79cn332mS6++GKvf9gqKSnRhx9+qDvvvFPdu3dXz5499dFHHyVwpQAAINYIeAGgBmjWrJn+\\\n",
       "/e9/a8CAAe7H/vKXv/itfvQM5bp06eIVjpi9TZ061WtOz7DUbN8/z+q0WAkV6NSrV8/9dTSb7vgG\\\n",
       "m0VFRWG/h8uWLfOaI9HvYTzO7/k+DR48OKJrLdZ9ZAOx2Wy6+uqr9c0332jTpk16+umnNWrUKK9K\\\n",
       "b4fDoeeee069evXyqniuLpdeeqkaNGggSVq4cKFXhbRn4Dt69Oga83Hsf/7zn+6vx4wZo48//ljj\\\n",
       "xo1Tt27d1KhRoyq9VuNVtVtdXNf87t27vR4fOXJklbYD1eWEE05wf71r1y6vnriB/Pzzz+6vGzZs\\\n",
       "GFXVc6LPbzXdunXTf//7X+3atUtvvfWW/v73v+vUU0/1CnxXr16tfv366fXXX0/gSgEAQCwR8AJA\\\n",
       "DZGSkqJnn33WHaoVFRVp+vTpVcY1bdrU/bVvlVOkPP/y7PkX62DMbIDk+RfSUJWcUuiKUc/XbnZT\\\n",
       "J39yc3O9gqVYvI/xeg8Tef54XGvVoV27dho3bpzmzp2rzZs3a9OmTbrpppvcoenmzZsjahkQrczM\\\n",
       "TF155ZWSJKfT6e77/Pvvv7uDGldQXRM4nU4tX75cUuXPt/vuuy9kVbDZazdZPfroo1q8eLGkyn+Q\\\n",
       "cvVRXr9+vf7xj38kZE0nnHCCuye4YRjujRODWbNmjfvrE0880dLnrw6GYYQcE+6mabm5uRo8eLAe\\\n",
       "fPBBrVq1Srt371ZBQYG7tY7T6dT1119fKzagAwCgNiDgBYAapEWLFpo4caL7/mOPPVYlWOvWrZs7\\\n",
       "nNy1a5d7h/ZodO/e3f2150ZmgRiGoU8//TTkOM8Nhfbs2RNy/Pr164M+f8opp7i//u6777w2PQuX\\\n",
       "Zy/kjz/+OOJ5XDzfw88//9zUx8uDbXAWzfnNfA/NnL93797ur9euXRuXqu3q0K5dOz388MNeoe78\\\n",
       "+fMTshbPNg2unrv/93//535v+/Tpo7Zt2yZkbbG2e/du96ZaRx11lI466qig4zds2FCl8tWfWLSO\\\n",
       "iIevvvpKt956q/v+rFmz9OKLL7rXO2vWLC1atKja15WRkeH1s9P30wf+uIJ5Serfv7+lz18dQm0y\\\n",
       "KCmq31dS5e/T0aNHa8mSJe7/B9i9e3dMf48AAIDEIeAFgBrm5ptvdrciKCsr04MPPuj1fGZmptdf\\\n",
       "eB9//PGoz9mvXz/31++++27IHqVLliwx9ZfV1q1bu78OVbVVVlamBQsWBB1zzDHHeFVzRbLpl8ug\\\n",
       "QYPcXz/xxBOmKrCCOe2009x/6d65c6fee++9oOOLi4tjGjJ6fg+/+OILbdy4Mej4H374IWQw0KZN\\\n",
       "G/f7ffjw4Sp9Y61m8ODB7q/N9gL1JyMjw/21v03fgunUqZNOPfVUSZXfg+XLl3u9r/HYXC1RXFWb\\\n",
       "krnNtZ544glT80bz/sdLWVmZhg8f7m7DMGzYMI0aNUr9+/fXLbfcIulI+4ZEtAfx7AE8d+7coGO3\\\n",
       "bdvm3qTQ91irnj/eQv1+q6ioiFnP3LZt26pjx47u+9H8LAMAAMmDgBcAapgGDRroxhtvdN9/6qmn\\\n",
       "qgQCkyZNcn89a9YsffDBB6bn9/dR+3PPPVctW7aUVPkx0mAfJS4rK9PNN99s6lyeFaBvv/120Oq8\\\n",
       "O++801T13k033eT++uGHH474L83XXnutcnNzJVV+HDicj+zv3r1bTqfT67Hc3FwNHTrUff8f//hH\\\n",
       "0FBr0qRJUfUR9nXiiSfqtNNOc9//61//GrCKuKKiQhMmTDAVantea7fffnvIKmtP1dXWwcx1I3m3\\\n",
       "pAhVTRqM56ZRv/76a9jHe1bxTpo0yV0N36BBA69ryOoaNWqknJwcSZX/oOFZlenr448/Nh3wRvv+\\\n",
       "x8Mtt9yib775RpLUsmVLPfXUU+7n7rnnHneF/c6dOzVmzJhqX9+oUaPc7X82bdqkZ599NuDYSZMm\\\n",
       "uX++nXrqqTrppJMsf/54e+GFF4L2Fv73v//t9Y+ivr8/JPM/x5xOpwoLC933o/lZBgAAkgcBLwDU\\\n",
       "QDfddJN706zS0lI9/PDDXs/36dNHo0aNklTZ2/aCCy7QfffdFzAwLCsr07x58zRkyBCvKkYXu92u\\\n",
       "u+++233/ueee08SJE6v8hXXHjh268MILtW7dOqWnp4d8HSeffLL74+YlJSW64oorqmwcV1paqr//\\\n",
       "/e/65z//WWXDJX9Gjx7tDjIdDofOO+88Pf74434r+Q4fPqwFCxbo4osvrvJcTk6OHnnkEff9adOm\\\n",
       "adSoUQF7gBqGoY8//ljXX3+9WrVq5Te8vfPOO92vYf369brggguqBFCHDh3SLbfcoqeeesrUexiO\\\n",
       "e++91/1x8Pfee0/Dhw/Xvn37vMbs379fV111lRYuXGjq/FdeeaW7Yvz333/XGWecoaeeesr90Xtf\\\n",
       "+/fv10svvaS+fft6/UNFPLVq1UrXXnutli9fHjDU/uKLL7zWc/7550d8vk6dOrm/jmSTo2HDhrmD\\\n",
       "T89WJyNGjPCqTrW6lJQUDRw40H1/9OjR+uyzz6qMe+211zRw4EA5nc4qGyD64/n+v/XWWwGvxery\\\n",
       "7rvvuj9NkJKSohdffNH9j0eSlJ6erpdffllZWVmSKv+xKxafvAjHUUcd5fWPYxMmTNBrr73mNcbh\\\n",
       "cGjy5Ml65ZVX3I/dd999Qedt3bq1bDabbDZb0A0V43X+ZPHjjz/6/XkrVf6MuP7666uMl7yD3r//\\\n",
       "/e8666yz9MILL/idR6psdTRu3Dh3wFu/fn2vf9gDAAAWZgAAklqfPn0MSYYk46677jJ93KRJk9zH\\\n",
       "ZWdnG3v27PF6vqyszDj33HPdYyQZWVlZRr9+/YxRo0YZ11xzjTFs2DCjR48eRp06ddxjevToEfCc\\\n",
       "w4YN85qvQYMGxiWXXGKMGzfOOO+889zzHHvsscbEiRNNva7XXnvNa86cnBzjkksuMa655hpj8ODB\\\n",
       "Rm5uriHJaN68uXHvvfe6x40aNSrgnNu2bTOOP/54r3lzc3ONCy64wBg7dqwxevRoo1+/fkb9+vXd\\\n",
       "5wzkjjvu8JrHbrcbPXr0MEaMGGFce+21xogRI4w+ffoYOTk5XuN+//13v/PNnj3ba1x6erpx7rnn\\\n",
       "GuPGjTMuvfRSo1GjRu7H//nPf7rH9enTJ+Aaw/H3v//d6/x169Y1LrzwQmPcuHHG4MGDjezsbPf3\\\n",
       "durUqabe7927dxvdu3f3mrd+/frGgAEDjDFjxrhfW+fOnY3U1FT3mKFDh/qd75hjjnGP2bJlS8jX\\\n",
       "NGrUKPf4goKCKs97rqtevXrGmWeeaVx55ZXGtddeawwdOtTo2LGj15gmTZoYv/76a5V5li5daur7\\\n",
       "8fTTT7vH2Ww2o1+/fsYNN9xg3Hzzze5bUVFR0Nd0/fXXe61JkrF27dqQ70W4PH/+LF26NOT4cL83\\\n",
       "nuv355tvvjEyMzO93q/TTjvNGD16tDF8+HDj2GOPdT83btw4U+vdt2+f15xt2rQxxowZY9x0003u\\\n",
       "93/x4sVRvQ9m348dO3YYRx11lHvM5MmTA871xBNPuMdlZmYaGzZsML2OWDh8+LDRv39/r+9Z586d\\\n",
       "jVGjRhmXXXaZkZeX5/XctGnTQs7p+f4E+xkSr/O/9dZbRteuXavcPOdp27ZtlefvuOMOs29bQJ7X\\\n",
       "VLNmzdw/fwYNGmRcc801xogRI7x+T3Xo0MHr98zll19uDBw40D2f5885u91udOzY0bj00kuNcePG\\\n",
       "GVdeeaXRr18/Iz093eu1Pf3001G/DgAAkBwIeAEgyUUa8O7atcuoW7eu+9jbb7+9ypjy8nLjjjvu\\\n",
       "MLKysqqERf5uaWlpxvjx4wOe8/Dhw15/yfR3a9++vfHtt98ad911l+nXNW3atKBznnDCCcbXX39t\\\n",
       "FBQUmA4L9uzZY1x88cWmXvfRRx8ddK5XX33VaN68uam5JBm9evUyysrKAs43c+ZMr1Dd95aTk2O8\\\n",
       "9dZbpgPFcE2ePNlISUkJeP7mzZsbq1atCuv9Li0tNa677jqvADfYLTMz05g+fbrfuWId8LpCazO3\\\n",
       "rl27Gt9++63f85j9fhw+fNg466yzgp4n1Otau3at1/iePXuGfB8ikeiA1zAMY968eSF/Rl1zzTVG\\\n",
       "WVmZ6fU+8cQThs1mCzif78+keAW8559/vtf38PDhw0HnGzx4sHt8t27djEOHDpleSyzs27evyj/k\\\n",
       "+fs9ce+995qaL5yANx7n9/wZFs7NzFpD8bymXnnlFaNNmzYBz3fOOecYu3fvNho0aFDl55HLDTfc\\\n",
       "YHr99erVI9wFAKCGoUUDANRQTZo00V/+8hf3/VmzZlX52Kbdbtf/+3//T1u3btVDDz2k8847T61a\\\n",
       "tVJWVpbS0tLUqFEjnXTSSRo1apTmzp2rX3/9VY899ljAc6alpWnu3Ln68MMPddlll6lFixZKT09X\\\n",
       "06ZNdfrpp2vGjBn6/PPP1b59+7Bey5133qlVq1bpiiuucM/ZuHFjnXLKKXr00Uf1xRdfeG0aY0bD\\\n",
       "hg313//+V5999pkmTpyobt26qXHjxrLb7crOzlb79u11+eWXa+7cudq0aVPQuYYNG6Yff/xRc+fO\\\n",
       "1RVXXKHjjjtOOTk5stvtql+/vk488URdcskleuSRR7Rp0yZ9+umnQdtJ3Hjjjfrqq69044036vjj\\\n",
       "j1dmZqZyc3PVuXNn3Xrrrfrqq6/8tsqIlfvuu0+fffaZxowZo9atW6tOnTpq1KiRevTooXvvvVfr\\\n",
       "1q1zb/RlVmZmpp544gl9//33uvvuu9WvXz8dffTRysjIUHp6upo0aaLevXvrmmuu0auvvqodO3bo\\\n",
       "1ltvjdMr9LZnzx69//77uv322zVgwAC1adNGdevWld1uV7169XTiiSfqyiuv1Jtvvqk1a9aEff36\\\n",
       "SktL0wcffKAnnnhCf/rTn9SsWbOw22107dpVbdq0cd+vSZur+RoyZIi+/vpr3XDDDWrXrp0yMjKU\\\n",
       "nZ2tdu3aKT8/X8uXL9dTTz1lqkWLy3XXXaePPvpIV111ldq1a6e6deu625NUl1mzZmnhwoWSpLp1\\\n",
       "6+qll15SWlpa0GOee+455eXlSarcmGvKlClxX6ennJwcvfrqq3r//fd15ZVXqm3btsrKylJOTo46\\\n",
       "deqkm2++WevWrYvbuhJ9/nhp1qyZ1qxZoylTpujEE090v6ZTTjlFTz75pBYtWqRGjRrpP//5j048\\\n",
       "8URlZmaqe/fu+tvf/uaeY9asWdqwYYNmzpyp4cOHq2vXrmrQoIFSU1OVkZGho48+Wueee64eeugh\\\n",
       "/fDDDxo3blwCXzEAAIg1m2FEue03AAAAqtXWrVvVpk0bGYahunXravv27apfv36ilwXApL59+7o3\\\n",
       "Dly6dKn69u2b2AUBAABLo4IXAADAYubMmSPXv9EPGzaMcBcAAACoxQh4AQAALKSsrEzPPPOM+/51\\\n",
       "112XwNUAAAAASDQCXgAAAAu5/fbbtWPHDknSaaedpl69eiV4RQAAAAASKTXRCwAAAEBgixYt0qJF\\\n",
       "i3Tw4EF99tlnWrt2rSTJZrPpvvvuS+ziAAAAACQcAS8AAEAS++STTzRjxowqj99yyy0666yzErAi\\\n",
       "AAAAAMmEgBcAAMAisrKy1LlzZ11//fUaOXJkopcDAAAAIAnYDNcWzAAAAAAAAAAAS2GTNQAAAAAA\\\n",
       "AACwKAJeAAAAAAAAALAoAl4AsKCysjL95S9/0b333pvopQBuXJdIVlybiBWuJQAAkIwIeAHAgj74\\\n",
       "4AM9+eST+u2339yP9ezZUzabLaxbkyZNqn3tW7dulc1mU9++fav93IiveF2Xr7/+uvr27asGDRqo\\\n",
       "bt266tq1qx588EE5HA6/6+Aagy9/16Ynh8Oh559/XhdccIGaN2+uOnXqKCcnR8cdd5zOO+88PfDA\\\n",
       "A9q2bZt7PNdY7cXvXwAAkIxSE70AAED45s2bJ0m66KKLJEmGYah79+7q1KmT17gtW7ZoxYoVys7O\\\n",
       "1tChQ6vM0759+3gvFbVIPK7LiRMnasaMGUpNTVX//v2VnZ2tJUuWaNKkSVqwYIHee+89ZWZmxu01\\\n",
       "oWbwvTY9ff/997rkkkv09ddfKysrS927d9dZZ52lw4cPa8OGDVq8eLEWL16sHj16qGXLltW7cCQd\\\n",
       "fv8CAIBkRMALABZTUVGhBQsWqFGjRjrzzDMlSTabTc8880yVsffcc49WrFih3r17a+7cudW8UtQm\\\n",
       "8bgu582bpxkzZig7O1vLly/XSSedJEnavXu3+vfvr5UrV+qOO+7QQw89FJfXhJrB37XpsnfvXvXr\\\n",
       "10+//vqr/va3v+n2229Xw4YNvcb8+OOPeuqpp3TyySdX57KRhPj9CwAAkhUtGgDAYlatWqVdu3Zp\\\n",
       "0KBBstvtQcd++eWXkuQOxqI1evRo2Ww2LVu2LCbzoeaIx3U5ffp0SdLkyZO9xjZu3FiPP/64JOmx\\\n",
       "xx5TcXFxNEtHDRfs2nzooYf066+/auDAgfrXv/5VJdyVpDZt2uiBBx5QTk5OdS0ZSSqRv38BAACC\\\n",
       "IeAFAIsJ9lFjX2vWrJEkde/ePY4rAmJ/Xf7666/6/PPPJUnDhw+v8vwZZ5yhli1b6tChQ3r33XfD\\\n",
       "XzBqjWDX5vvvvy9JVSp7AX/4/QsAAJIVAS8AWMxbb72lzMxMnXvuuUHH7d27V1u3bpVEBRHiL9bX\\\n",
       "pav6rWHDhjr22GP9junZs6fXWMCfYNfmwYMHJUkrVqyQ0+ms7qXBYvj9CwAAkhUBLwBYyNdff60f\\\n",
       "fvhB5557rrKysoKOdYVe2dnZOv7446tjeail4nFdbtmyRZLUqlWrgGNcG165xgK+Ql2bZ511liRp\\\n",
       "4cKFOv744zVp0iS9//77Kikpqe6lIsnx+xcAACQzAl4AsJBwPh7q+gtm165dlZLCj3vETzyuy99/\\\n",
       "/12SVLdu3YBjsrOzJUn79+83uVLUNqGuzenTp2vIkCGSKv+h4MEHH9S5556rhg0b6rzzztOCBQuq\\\n",
       "aaVIdvz+BQAAySw10QsAAJg3b9482e12XXjhhSHHRtP/79lnn9XKlSurPO567P777/e7K/jkyZPV\\\n",
       "vn37sM8Ha6uu6xIIV6hrMycnR/PmzdP333+v//73v/rggw+0atUqlZaWavHixVq8eLFuueUW/fOf\\\n",
       "/6zmlSPZVNfPuX/84x+aP39+2Mc9++yzOuOMM8I+DgAA1AwEvABgIdu2bVO9evWUm5sbcmw0O3iv\\\n",
       "XLlSzz//fMDnFy9e7Pfx0aNHE/DWQvG4LuvVqydJOnDgQMAxro/R169f3+RKUduYvTZd7RkmTZqk\\\n",
       "w4cP6/3339c//vEPbdiwQQ8//LCuu+46tW3btnoWjaRUXb9/t2/frk2bNoV9HG1FAACo3fjMEABY\\\n",
       "yKBBg7Rv3z6/1bWeSktL3X9BjKSCaO7cuTIMo8pt1KhRkqSlS5f6fb5v375hnwvWF4/rsnXr1pIq\\\n",
       "Q5VAXM+5xgK+zF6bntLT03XBBRdozpw5kiTDMLR+/fp4LREWUV2/f//973/7/f0a6nbeeedF9LoA\\\n",
       "AEDNQMALABbi6v3n6gUYyLp161RRUaH09HR17Ngx/gtDrRaP69IVjOzZsyfgJmpffPGFJHapR2Bm\\\n",
       "r01/XJv4SUf6PaP24vcvAABIZgS8AGAh55xzjurWrau33nor6DhX/79OnTopLS2tOpaGWiwe12WL\\\n",
       "Fi108sknS5JefvnlKs+vXLlS27ZtU506dTRw4MAIV46aLtC1aRhGyGNdQV69evV02mmnxWN5sBB+\\\n",
       "/wIAgGRGwAsAFpKRkaEBAwZoy5YtWrduXcBx0fT/A8IVr+tyypQpkio39XOFJlJlVe/1118vSbrh\\\n",
       "hhuUk5MT6dJRwwW6Nm+77TZdd911+uabb6occ/DgQT322GO6+eabJVVef1lZWdW2ZiQnfv8CAIBk\\\n",
       "RsALABZj5mOi0ezgDUQiHtflRRddpAkTJqikpESnnHKKzj//fF166aU67rjjtH79ep1++um6++67\\\n",
       "o106ajh/1+bKlSv11FNPqVOnTmrTpo2GDBmi4cOHq2/fvmrRooVuvPFGSdKMGTPc/5gA8PsXAAAk\\\n",
       "KwJeALCYQYMGKTU1NeBfMB0Oh7sqjQoiVJd4XZczZszQq6++qlNPPVWrVq3Su+++qxYtWuj+++/X\\\n",
       "kiVLlJmZGYvlowbzd20+/fTTmjFjhgYPHqzMzEytXLlSr7/+utavX6927drp9ttv16ZNmzRhwoTE\\\n",
       "LRxJh9+/AAAgWaUmegEAgPA0aNBAZ511lpYsWaKffvpJxxxzjNfzaWlpOnToUFzOPXfuXM2dOzcu\\\n",
       "c8Pa4nldDhs2TMOGDYvFMlEL+bs227dvr/bt2xPgIiyJ/P0LAAAQDBW8AGBB0ewMD8QL1yWSFdcm\\\n",
       "YoVrCQAAJCMCXgCwIP6CiWTEdYlkxbWJWOFaAgAAyYgWDQBgQS1btpRhGIleBuCF6xLJimsTscK1\\\n",
       "BAAAkhEVvAAAAAAAAABgUVTwAgCqVW5uru666y61bt060UtBDcU1hnjjGoMVcd0CAFBz2Qw+YwQA\\\n",
       "AAAAAAAAlkSLBgAAAAAAAACwKAJeAAAAAAAAALAoAl4AAAAAAAAAsCgCXgAAAAAAAACwKAJeAAAA\\\n",
       "AAAAALAoAl4AgNuhQ4c0depUHTp0KNFLQS3E9YdE4vpDInH9AQCAaNgMwzASvQgAQHLYv3+/cnJy\\\n",
       "VFxcrPr16yd6OahluP6QSFx/SCSuPwAAEA0qeAEAAAAAAADAogh4AQAAAAAAAMCiUhO9AADeKioq\\\n",
       "tH37dtWrV082my3Ry0Ets3//fq//AtWJ6w+JxPWHROL6QyIZhqHff/9dzZs3V0oKNWAAYEX04AWS\\\n",
       "zC+//KKWLVsmehkAAAAAapFt27apRYsWiV4GACACVPACSaZevXqSKv8Hi002UN0cDofee+89nXvu\\\n",
       "uUpLS0v0clDLcP0hkbj+kEhcf0ik/fv3q2XLlu6/hwAArIeAF0gyrrYM9evXJ+BFtXM4HMrKylL9\\\n",
       "+vX5CyaqHdcfEonrD4nE9YdkQHs4ALAuGuwAAAAAAAAAgEUR8AIAAAAAAACARRHwAgAAAAAAAIBF\\\n",
       "EfACAAAAAAAAgEUR8AIAAAAAAACARRHwAgAAAAAAAIBFEfACAAAAAAAAgEUR8AIAAAAAAACARRHw\\\n",
       "AgAAAAAAAIBFEfACAAAAAAAAgEUR8AIAAAAAAACARRHwAgAAAAAAAIBFEfACAAAAAAAAgEUR8AIA\\\n",
       "AAAAAACARRHwAgAAAAAAAIBFEfACAAAAAAAAgEUR8AIAAAAAAACARRHwAgAAAAAAAIBFEfACAAAA\\\n",
       "AAAAgEUR8AIAAAAAAACARRHwAgAAAAAAAIBFEfACAAAAAAAAgEUR8AIAAAAAAACARRHwAgAAAAAA\\\n",
       "AIBFEfACAAAAAAAAgEUR8AIAAAAAAACARRHwAgAAAAAAAIBFEfACAAAAAAAAgEUR8AIAAAAAAACA\\\n",
       "RRHwAgAAAAAAAIBFEfACAAAAAAAAgEUR8AIAAAAAAACARRHwAgAAAAAAAIBFEfACAAAAAAAAgEUR\\\n",
       "8AIAAAAAAACARRHwAgAAAAAAAIBFEfACAAAAAAAAgEUR8AIAAAAAAACARRHwAgAAAAAAAIBFEfAC\\\n",
       "AAAAAAAAgEUR8AIAAAAAAACARRHwAgAAAAAAAIBFEfACAAAAAAAAgEUR8AIAAAAAAACARRHwAgAA\\\n",
       "AAAAAIBFEfACAAAAAAAAgEUR8AIAAAAAAACARRHwAgAAAAAAAIBFEfACAAAAAAAAgEUR8AIAAAAA\\\n",
       "AACARRHwAgAAAAAAAIBFEfACAAAAAAAAgEUR8AIAAAAAAACARRHwAgAAAAAAAIBFEfACAAAAAAAA\\\n",
       "gEUR8AIAAAAAAACARRHwAgAAAAAAAIBFEfACAAAAAAAAgEUR8AIAAAAAAACARRHwAgAAAAAAAIBF\\\n",
       "EfACAAAAAAAAgEUR8AIAAAAAAACARRHwAgAAAAAAAIBFEfACAAAAAAAAgEUR8AIAAAAAAACARRHw\\\n",
       "AgAAAAAAAIBFEfACAAAAAAAAgEUR8AIAAAAAAACARRHwAgAAAAAAAIBFEfACAAAAAAAAgEUR8AIA\\\n",
       "AAAAAACARRHwAgAAAAAAAIBFEfACAAAAAAAAgEUR8AIAAAAAAACARRHwAgAAAAAAAIBFEfACAAAA\\\n",
       "AAAAgEUR8AIAAAAAAACARRHwAgAAAAAAAIBFEfACAAAAAAAAgEUR8AIAAAAAAACARRHwAgAAAAAA\\\n",
       "AIBFEfACAAAAAAAAgEUR8AIAAAAAAACARRHwAgAAAAAAAIBFEfACAAAAAAAAgEUR8AIAAAAAAACA\\\n",
       "RRHwAgAAAAAAAIBFEfACAAAAAAAAgEUR8AIAAAAAAACARRHwAgAAAAAAAIBFEfACAAAAAAAAgEUR\\\n",
       "8AIAAAAAAACARRHwAgAAAAAAAIBFEfACAAAAAAAAgEUR8AIAAAAAAACARRHwAgAAAAAAAIBFEfAC\\\n",
       "AAAAAAAAgEUR8AIAAAAAAACARRHwAgAAAAAAAIBFEfACAAAAAAAAgEUR8AIAAAAAAACARRHwAgAA\\\n",
       "AAAAAIBFEfACAAAAAAAAgEUR8AIAAAAAAACARRHwAgAAAAAAAIBFEfACAAAAAAAAgEUR8AIAAAAA\\\n",
       "AACARRHwAgAAAAAAAIBFEfACAAAAAAAAgEUR8AIAAAAAAACARRHwAgAAAAAAAIBFEfACAAAAAAAA\\\n",
       "gEUR8AIAAAAAAACARRHwAgAAAAAAAIBFEfACAAAAAAAAgEUR8AIAAAAAAACARRHwAgAAAAAAAIBF\\\n",
       "EfACAAAAAAAAgEUR8AIAAAAAAACARRHwAgAAAAAAAIBFEfACAAAAAAAAgEUR8AIAAAAAAACARaUm\\\n",
       "egEAgErFxcUqLS1N6BqcTqckaefOnbLb7QldS1ZWlnJychK6BgAAAAAAkh0BLwAkgeLiYs2eOVOO\\\n",
       "ioqEriMlJUVdunRRQUGBKhK8lrSUFI2fMIGQFwAAAACAIAh4ASAJlJaWylFRoYvfeENNdu9O2Dqc\\\n",
       "GRla/cgjyi8okL2sLGHr+K1xY705dKhKS0sJeAEAAAAACIKAFwCSSJPdu5VXWJiw8zsyMyVJTXfs\\\n",
       "UNrBgwlbBwAAAAAAMIdN1gAAAAAAAADAogh4AQAAAAAAAMCiCHgBAAAAAAAAwKIIeAEAAAAAAADA\\\n",
       "ogh4AQAAAAAAAMCiCHgBAAAAAAAAwKIIeAEAAAAAAADAogh4AQAAAAAAAMCiCHgBAAAAAAAAwKII\\\n",
       "eAEAAAAAAADAogh4AQAAAAAAAMCiCHgBAAAAAAAAwKIIeAEAAAAAAADAogh4AQAAAAAAAMCiCHgB\\\n",
       "AAAAAAAAwKIIeAEAAAAAAADAogh4AQAAAAAAAMCiCHgBAAAAAAAAwKJSE70AAAAAIB6Ki4tVWlpq\\\n",
       "aqzT6ZQk7dy5U3a73dQxWVlZysnJiXh9AAAAQCwQ8AIAAKDGKS4u1uzZM+VwVJgan5KSoi5duqig\\\n",
       "oEAVFeaOSUtL0fjxEwh5AQAAkFAEvAAAAKhxSktL5XBU6OLT3lCTnN0hxzsrMrR65yPKP6dA9pSy\\\n",
       "kON/K26sN1cNVWlpKQEvAAAAEoqAFwAAVItQH5c3+xF5PhaPcDTJ2a28hoUhxzmcmdJOqWmDHUqz\\\n",
       "H6yGlQEAAACxQcALAADirri4WLNnzpQjyEffzX5EPi0lReMn8LF4AAAAAJAIeAEAQDUoLS2Vo6JC\\\n",
       "F7/xoZrs3ut3jDOjjlY/0kX5BW/JXnbI75jfGjfQm0PP5mPxAAAAAPAHAl4gxvbs2aPbbrtNnTp1\\\n",
       "0g033JDo5QBAUmmye6/yCv33Q3VkZkiSmu7Yo7SDoXugAgAAAACklEQvAPBn69atstls6tu3r9fj\\\n",
       "PXv2lM1mC+vWpEmTal17o0aNtGjRIt1+++1yOBzVem4AAAAkv+LiYhUWFrpvO3fulFTZg9zz8eLi\\\n",
       "4gSvFAAAWAEVvLAMwzDUvXt3derUyevxLVu2aMWKFcrOztbQoUOrHNe+ffvqWqLbkCFDNHPmTC1Z\\\n",
       "skQDBgyo9vMDAAAgOVX2JJ8lR4XT/VigHuRpKXaNn3AjLWkAAEBQBLywDJvNpmeeeabK4/fcc49W\\\n",
       "rFih3r17a+7cudW/MD8uuugizZw5U/PmzSPgBQAAgFtlT3KnLn5jv5rsrgx5nRl2rX5Eyi/YJ3tZ\\\n",
       "5WO/NbbrzaH16TkOAABCokUDLO/LL7+UJJ100kkxmW/06NGy2WxatmxZxHOcddZZatiwoebPny/D\\\n",
       "MGKyLgAAANQcTXY7lVdYrrzCcjXdUS5Jarqj3P2YK/wFAAAIhYAXlrdmzRpJUvfu3RO8kiPsdrsG\\\n",
       "DRqk7du367PPPkv0cgAAAAAAAFBD0aIBlrZ3715t3bpVUuwqeGPloosu0gsvvKB58+apd+/eAccd\\\n",
       "OnRIhw4dct/fv3+/JMnhcLBJWy3idDqVkpIiZ0aGHJmZCVuH69yJXIMkOTMyKt8Pp5M/BzXEkWu8\\\n",
       "jhyZGX7HODLreP3X7zwZdbg2YIr7mqvIkMMZ+meaa4yZsZLkrODnFCJz5OehXY7Myk96OTLtXv+V\\\n",
       "Kts2cI2hOnB9AYD12Qw+P44ktHXrVh177LHq06dP0FYJS5Ys0dlnn63s7GwVFxcrJSX6ovTRo0fr\\\n",
       "+eef19KlS9W3b9+I5yktLVXjxo11zDHH6Ntvvw04burUqZo2bVqVx19++WVlZWVFfH4AAAAACKW0\\\n",
       "tFTDhw9XcXGx6tevn+jlAAAiQAUvLM3Vf7dr164xCXdjKSsrS+ecc47mz5+v7777Tu3atfM77tZb\\\n",
       "b9VNN93kvr9//361bNlS5557Lv+DVYvs3LlTBQUFyi8oUNMdOxK2Dkdmpt6fM0fnjBmjtIMHE7aO\\\n",
       "nc2aqSA/X/n5+WratGnC1oHYOXKNv6WmO/b4HePIrKP35zygc8ZMUtrBQ37H7GzWSAX5Q7g2EJL7\\\n",
       "mjunQE0bhP656nBm6v3v5+ic48cozR7659/Ovc1U8D4/pxC+Iz8P97l77zoy7Xp/Th+dM2a50g5W\\\n",
       "9t7d2SxVBfm5XGOIO9cnCAEA1kXAC0uLpv/us88+q5UrV1Z53PXY/fffr7lz51Z5fvLkyWrfvr2p\\\n",
       "c1x00UWaP3++3nzzTU2aNMnvmDp16qhOnaofR05LS1NaWpqp88D67Ha7KioqZC8rS2iw6pJ28GBC\\\n",
       "12EvK6t8P+x2/hzUEEeu8UNKO1gWdGzawcBj7GWHuDZgivuaSykzFdi6pNkPmhpvT+HnFCJz5Oeh\\\n",
       "0x3muqQdPPKYvczGNYZqwfUFANZHwAtLc1XwRtJ/d+XKlXr++ecDPr948WK/j48ePdp0wNuqVStJ\\\n",
       "0rZt28JeHwAAAAAAABBKcn2mHQhDaWmpNm3aJCmyCt65c+fKMIwqt1GjRkmSli5d6vf5cPryLliw\\\n",
       "QJI0aNCgsNcHAACAmuu3xnYV5qWqMC9VO5tV1t3sbJbqfuy3xvYQMwAAAFSigheWtW7dOlVUVCg9\\\n",
       "PV0dO3ZM9HL8euutt1S/fn31798/0UsBAABAEsjKylJail1vDj2y10JKSoq6SCrIz1VFRYX78bQU\\\n",
       "O5vuAgCAkAh4YVmu/rudOnVKyr5Ra9eu1datW3XZZZcpPT090csBAABAEsjJydH4CTeqtLTU/ZjT\\\n",
       "6dTq1auVn58vu/1I5W5WVpZycnISsUwAAGAhBLywrGj671aHefPmSarcaA0AAABwycnJ8QpuHQ6H\\\n",
       "JKlp06ZJWbgAAACSGwEvLMtVwRtJ/93qMG/ePKWnp2vgwIGJXgoAJI3fGjcI+Jwzo44kaWezRrKX\\\n",
       "HQr7eAAAAACojQh4YUkOh0PffPONpOSs4N26davWrVunAQMGqH79+qEPAIAarrLnZIreHHp2wDFH\\\n",
       "elAO8epB6SstJYWelAAAAADwBwJeWFJaWpoOHfJf3RWtuXPnau7cuVHNQXsGAPBW2XNyglfPSV+B\\\n",
       "elD6oiclAAAAABxBwAvEwbx582Sz2TRkyJBELwUAkoZvz0lf9KBEPPxW3NjUOGdFhiRp595msqeU\\\n",
       "xWxeAAAAIN4IeIEY27Nnj1auXKlevXopLy8v0csBAKBWysrKUlpait5cNdTU+JSUFHXpIhW8nx+0\\\n",
       "RYintDTahQAAACDxCHiBGGvUqJHKy8sTvQwAAGq1nJwcjR8fvC2IJ7MtQjzRLgQAAADJgIAXAAAA\\\n",
       "NVKotiCeaBECAAAAqyLgRVLKzc3VXXfdpdatWyd6KQAAAAAAAEDSIuBFUsrNzdXUqVMTvQwAAAAA\\\n",
       "AAAgqaUkegEAAAAAAAAAgMgQ8AIAAAAAAACARRHwAgAAAAAAAIBFEfACAAAAAAAAgEUR8AIAAAAA\\\n",
       "AACARRHwAgAAAAAAAIBFEfACAAAAAAAAgEUR8AIAAAAAAACARRHwAgAAAAAAAIBFEfACAAAAAAAA\\\n",
       "gEUR8AIAAAAAAACARRHwAgAAAAAAAIBFEfACAAAAAAAAgEUR8AIAAAAAAACARRHwAgAAAAAAAIBF\\\n",
       "EfACAAAAAAAAgEWlJnoBAIAjfmvcOKHnd2ZkSJJ2Nmsme1lZwtaR6PcBAAAAAACrIOAFgCSQlZWl\\\n",
       "tJQUvTl0aELXkZKSoi6SCvLzVVFRkdC1pKWkKCsrK6FrAAAAAAAg2RHwAkASyMnJ0fgJE1RaWprQ\\\n",
       "dTidTq1evVr5+fmy2+0JXUtWVpZycnISugYAAAAAAJIdAS8AJImcnJyEB5oOh0OS1LRpU6WlpSV0\\\n",
       "LQAAAAAAIDQ2WQMAAAAAAAAAiyLgBQAAAAAAAACLIuAFAAAAAAAAAIsi4AUAAAAAAAAAiyLgBQAA\\\n",
       "AAAAAACLIuAFAAAAAAAAAIsi4AUAAAAAAAAAiyLgBQAAAAAAAACLIuAFAAAAAAAAAIsi4AUAAAAA\\\n",
       "AAAAiyLgBQAAAAAAAACLIuAFAAAAAAAAAIsi4AUAAAAAAAAAiyLgBQAAAAAAAACLIuAFAAAAAAAA\\\n",
       "AIsi4AUAAAAAAAAAiyLgBQAAAAAAAACLIuAFAAAAAAAAAIsi4AUAAAAAAAAAiyLgBQAAAAAAAACL\\\n",
       "IuAFAAAAAAAAAIsi4AUAAAAAAAAAiyLgBQAAAAAAAACLIuAFAAAAAAAAAIsi4AUAAAAAAAAAiyLg\\\n",
       "BQAAAAAAAACLIuAFAAAAAAAAAIsi4AUAAAAAAAAAiyLgBQAAAAAAAACLIuAFAAAAAAAAAIsi4AUA\\\n",
       "AAAAAAAAiyLgBQAAAAAAAACLIuAFAAAAAAAAAIsi4AUAAAAAAAAAiyLgBQAAAAAAAACLIuAFAAAA\\\n",
       "AAAAAIsi4AUAAAAAAAAAiyLgBQAAAAAAAACLIuAFAAAAAAAAAIsi4AUAAAAAAAAAiyLgBQAAAAAA\\\n",
       "AACLIuAFAAAAAAAAAIsi4AUAAAAAAAAAiyLgBQAAAAAAAACLIuAFAAAAAAAAAIsi4AUAAAAAAAAA\\\n",
       "iyLgBQAAAAAAAACLIuAFAAAAAAAAAIsi4AUAAAAAAAAAiyLgBQAAAAAAAACLIuAFAAAAAAAAAIsi\\\n",
       "4AUAAAAAAAAAiyLgBQAAAAAAAACLSk30AgAAqK2Ki4tVWlqa6GUkDafTKUnauXOn7HZ7gleTPLKy\\\n",
       "spSTk5PoZQAAAABIUgS8AAAkQHFxsWbPnClHRUWil5I0UlJS1KVLFxUUFKiC98UtLSVF4ydMIOQF\\\n",
       "AAAA4BcBLwAACVBaWipHRYUufuMNNdm9O9HLSQrOjAytfuQR5RcUyF5WlujlJIXfGjfWm0OHqrS0\\\n",
       "lIAXAAAAgF8EvAAAJFCT3buVV1iY6GUkBUdmpiSp6Y4dSjt4MMGrAQAAAABrYJM1AAAAAAAAALAo\\\n",
       "Al4AAAAAAAAAsCgCXgAAAAAAAACwKAJeAAAAAAAAALAoAl4AAAAAAAAAsCgCXgAAAAAAAACwKAJe\\\n",
       "AAAAAAAAALAoAl4AAAAAAAAAsCgCXgAAAAAAAACwKAJeAAAAAAAAALAoAl4AAAAAAAAAsCgCXgAA\\\n",
       "AAAAAACwKAJeAAAAAAAAALAoAl4AAAAAAAAAsCgCXgAAAAAAAFSbtm3bymaz+b299957iV4eYDkE\\\n",
       "vAAAAAAAAKg2//d//ydJ+vzzz1VYWKhPP/3Uff/ss89O5NIASyLgBQAAAAAAQLXZtWuXsrOz1aNH\\\n",
       "DzVr1kw7duxw37fb7YleHmA5BLwAAAAAAACoNuvXr1fHjh1ls9kkSV999ZU6derkvg8gPAS8AAAA\\\n",
       "AAAAqDZff/21Onfu7L6/bt06r/sAwkPACwAAAAAAgGqzfv16derUyes+AS8QOQJeAAAAAAAAVIvy\\\n",
       "8nJt3LjRHegahqEff/xRrVq1SvDKAOsi4AUAAAAAAEC1+O6773T48GF3Ba/NZlOnTp103XXX6Ycf\\\n",
       "fkjw6gBrSk30AgAAAAAAAFA7dOjQQYZheD22Zs2aBK0GqBmo4AUAAAAAAAAAiyLgBQAAAAAAAACL\\\n",
       "okUDAAAAAAAAqoXNZjM1zreNA4DACHgBAAAAAABQLQhugdijRQMAAAAAAACqzX333aeePXuqXr16\\\n",
       "atq0qYYNG6atW7cmelmAZRHwAgAAAAAAoNosX75cN954oz799FMtWrRIRUVFOv/881VeXp7opQGW\\\n",
       "RIsGAAAAAAAAVJtFixZ53X/mmWfUpk0bbdiwQV26dEnQqgDrooIXAAAAAAAACVNcXCxJatiwYYJX\\\n",
       "AlgTAS8AAAAAAAASwul06pZbbtHAgQPVokWLRC8HsCRaNAAAAAAAAKDaGYah6667Tj///LM+/vjj\\\n",
       "RC8HsCwCXgAAAAAAAFQrwzB0/fXX64MPPtCKFSvUpEmTRC8JsCwCXgAAAAAAAFQbwzA0fvx4vfPO\\\n",
       "O1q+fLlatmyZ6CUBlkbACwAAAAAAgGozfvx4vfLKK1qwYIEyMzO1Y8cOSZWbrKWnpyd4dYD1EPAC\\\n",
       "AAAAAACg2jzxxBOSpDPPPNPr8aVLl6pv374JWBFgbQS8AAAAAAAAqDaGYSR6CUCNkpLoBQAAAAAA\\\n",
       "AAAAIkPACwAAAAAAAAAWRcALAAAAAAAAABZFwAsAAAAAAAAAFkXACwAAAAAAAAAWRcALAAAAAAAA\\\n",
       "ABZFwAsAAAAAAAAAFpWa6AUAAAAAAACgZikrK1NhYaHXbd++fSovL/e6SVJqaqrXLTc3V3l5eV63\\\n",
       "jIyMBL8iIHkR8AIAAAAAACAsTqdTGzdu1OrVq/XNN99o+/bt7iD318KfVby3RCl2m3KaZqpenl11\\\n",
       "mxuqm+tQSpohW1qFbKkVSklJUcMtA7Sn5fuyV1SowpGiCodNh/alaf92m/YVOrVv50E5nYZyGmSr\\\n",
       "WV5TNc9roaPzWqp58+bq2LGjevToofbt28tutyf6LQEShoAXAAAAAAAAAZWXl7vDXNdt7dq1qlC5\\\n",
       "WnTLUU7ncqWdcEDpfQ+rVZ50UnOpbp6U2dhQir3UPU9Dn3lTHHXU4d1x2jBwibLSDns8c8j9Va5T\\\n",
       "+n23tK+wRPu2l2hf4WbtK5S+/aWBFj2Zqu/W7lOKza5u3bqrR4+e6tGjhzv0TU0l9kLtwJUOAAAA\\\n",
       "AAAAN4fDoRUrVuidd97RJ598orVrv5RhM9SyeyPl9jCUeu1undHDoVbtpRT7b1WOz47hWlLsUk7T\\\n",
       "ytsx3Y483kB7JUnOcumXjQ79sPp/+nHNF1r1TBNtuH6PZNjUrVt3nXLKKbrgggt01llnKS0tLYYr\\\n",
       "A5IHAS8AAAAAAEAtV1RUpIULF2rBggVauHCh0ura1XZQQx36y486q4eheidINvt2r2NSErRWT/ZU\\\n",
       "6ZhOlbezRzmUre1yOqVtm6QfV2/Qtx/t0oir5qqstELnnXeeBg8erPPPP18NGjRI9NKBmCHgBQAA\\\n",
       "AAAAqIW+//57LViwQPPnz9fHH3+sozrVV4PBZep0S6nqnyTZUiqrZGNZkVsd7HapdQepdYdi9b+q\\\n",
       "WH+pkL5fI30zf7Xu/+cqjRo1SmeccYYuvPBCDR48WMcdd1yilwxEhYAXAAAAAACglti+fbsKCgr0\\\n",
       "0ksvafPmzWrfr40ODduqTi+UK69VUVhz7ZUUTh1skar24a0OKSnSqT2lU3v+oLH/Tyr8Wfro7U/0\\\n",
       "1vwNuvXWyWrb9jiNGDFC+fn5at68eQJWCEQnGarpAQAAAAAAECdOp1PvvPOOhgwZotatW+s/H72s\\\n",
       "plMPq8vuw8pctFG515epTqvYna8kzPF1AzwerzA4r5U07PoyzVq0S5/vduj6qT9q6Ucvq3Xr1rro\\\n",
       "oov0zjvvyOl0xunsQOwR8AIAAAAAANRARUVFeuCBB3TsscdqzLVjVNR1m1p851CdRRt0cNhm2euZ\\\n",
       "myfcwDbeAlUNR9JKIrueNHDYIT29aIM++M6htp1/1jXX5OvYY4/Vgw8+qKKi8KqagUSgRQMAAAAA\\\n",
       "xEFxcbFKS0tDjnNVie3cuVN2uz3k+KysLOXk5ES9PgA114YNGzRz5ky9+OKLanPyMTp6Rh3tvnCb\\\n",
       "dqbuChoEJaqFQryZfU0tWkvj7/5S194lLZ1fRy/NKNC0adN01VVXacKECerQoUM8lwlEjIAXAAAA\\\n",
       "AGKsuLhYs2c+JkdFecixKSkp6tKliwoKClRRURFyfFpKqsZPuIGQF0AV3377rW677TYtXLhQeVc0\\\n",
       "UJOPD+pQt291SJLNY1xNDXLDFajiNzVVGnbJIQ27ZKPWr7Xp2Zmfq0ePHjr//PM1ffp0tW/fvlrX\\\n",
       "CYRCwAsAtUioSiKzFURUDgEAEFxpaakcFeW6+I1cNdkd/K9dzgybVj8i5Rc0kr3MCDr2t8blenPo\\\n",
       "PpWWlvK7GIDbtm3bNG3aNL300kvqOqaDcraU6VCzwoC9bWFe526GZsxZoynTpYfvXqXu3btrxIgR\\\n",
       "mjp1qlq0aJHo5QGSCHgBoNaorCSaKUeQyiCzFURpKSkaP2ECf7EEACCEJrtTlVeYHnSMI7Oyrq7p\\\n",
       "jnSlHQwe8AKAp6KiIt13332aPXu22g85TvXXl2nbcWvkKtU4oMAbmAWcU/6re0vkv+J1rwL3xLUq\\\n",
       "f6+naTPpwdk7ddN4adq0t9Wu3cu64YYbNHnyZDVsSD00EouAFwBqicpKogpd/MYbarJ7t98xzowM\\\n",
       "rX7kEeUXFMheVuZ3zG+NG+vNoUOpHAIAAAASpLS0VDNmzNADDzygvFPylP3xQe3svj6skKemtWkI\\\n",
       "1G4h0GuMZEM2STruOOnFF3fqyy+l2+94Xm3aPK1Jkybpr3/9q7KysiKcFYgOAS8QY3v27NFtt92m\\\n",
       "Tp066YYbbkj0coAqmuzerbzCQr/POTIzJUlNd+xQ2sGD1bksAAAAACFUVFTo2Wef1dSpU5XRoo4O\\\n",
       "vfm7tvYrlhQ4yIykirc2C1aNnH34yNfdu0vvvL1LS5em6LbbH9asWbM0depUjR07VikpKXFfJ+CJ\\\n",
       "Kw41xtatW2Wz2dS3b1+vx3v27CmbzRbWrUmTJl5zvP766+rbt68aNGigunXrqmvXrnrwwQflcDiq\\\n",
       "rKNRo0ZatGiRbr/9dr/PAwAAAAAQrh9++EF9+/bVnfffqb2zdmn7p1ulfkfaqhVFMGegYyKZq7ok\\\n",
       "WzuIfv0q9PHKPZpx/y7df98k9evXT5s3b070slDLUMGLGs0wDHXv3l2dOnXyenzLli1asWKFsrOz\\\n",
       "NXTo0CrHee6IOXHiRM2YMUOpqanq37+/srOztWTJEk2aNEkLFizQe++9p8w/qh5dhgwZopkzZ2rJ\\\n",
       "kiUaMGBAfF4cAACIiufGk/42mWRDSQBAMqioqNBjjz2mW6fcKnt+qg4v3C9bXckWxhyxquIN1Ic3\\\n",
       "2rHxEsv2DJ7Vu77SDkmXXuTUeX/ap8lTV6tr1y667777NX78eKp5US0IeFGj2Ww2PfPMM1Uev+ee\\\n",
       "e7RixQr17t1bc+fODXj8vHnzNGPGDGVnZ2v58uU66aSTJEm7d+9W//79tXLlSt1xxx166KGHvI67\\\n",
       "6KKLNHPmTM2bN4+AFwCAJFRcXKzHZs5WeUXlp238bTKZmpKmGyaMJ+QFACTM5s2bNWbMGG3YtkGH\\\n",
       "3i6XrW9F0CCnpvXVrW7RVgdnZ0uPPXRAQwdLV98wTW+88Yaee+45tW3bNibrAwLhnxFQK3355ZeS\\\n",
       "5A5sA5k+fbokafLkyV5jGzdurMcff1yS9Nhjj6m4uNjruLPOOksNGzbU/PnzZRjshAwAQLIpLS1V\\\n",
       "eYVDKW9cLPtT18hekC9Jshfky/7UNUp542KVVzjcFb4AAFSniooKzZo1S126dtGnnT/X3q9+l61v\\\n",
       "ZYRTroyI5jwQ4PFYtGPYG4M5ohHvSuFg1bupfvam7neW9NWqPep47Pfq2rWLZs2a5f4HZCAeCHhR\\\n",
       "K61Zs0aS1L1794Bjfv31V33++eeSpOHDh1d5/owzzlDLli116NAhvfvuu17P2e12DRo0SNu3b9dn\\\n",
       "n30Ww5UDAIBYsu1uIlthnmw7mlbe39G08v7uJiGOBAAgPn788Uf1799fd/7rLpUtcMj5mCFbtndD\\\n",
       "hmAhb6z65ya6D2+8KpEDhcGBqneDhbvB1HNIs6du14JnSvWvh+5U//799OOPP0Y2GRACLRpQ6+zd\\\n",
       "u1dbt26VFLyC11Xl27BhQx177LF+x/Ts2VPbtm3Tl19+qSuuuMLruYsuukgvvPCC5s2bp969ewc8\\\n",
       "z6FDh3To0CH3/f3790uSHA4Hm7QhppxOp1JSUuTMyJDDp2+0i+vxQM9LkjMjo3Iep5NrNApmvh+1\\\n",
       "jZnrr7bhz1v8uP4MpmQ4Zct0KCXzj1YNf/zXyHDK4L1HFI78nLfJkRm8U6br+VDjJMmZYePnAmKK\\\n",
       "6yi5vPbaa8q/Ol9lI22qeDtTqdn2RC+pimTorWtGdbSq8Fe966vfadL6hfv0j/tWqmvXzpozZ67+\\\n",
       "/Oc/x39xqFVsBp8fRw2xdetWHXvsserTp4+WLVsWcNySJUt09tlnKzs7W8XFxQEbns+aNUsTJkxQ\\\n",
       "t27d3GGvr7/+9a+aOXOmLr30Ur3++utez5WWlqpx48Y65phj9O233wZcz9SpUzVt2rQqj7/88svK\\\n",
       "ysoKeBwAAAAARKu0tFTDhw9XcXGx6tevn+jl1FoVFRW666679NDMh1T27zrShXXcz6Vqf8DjUuU/\\\n",
       "YQwWbgbabM3fMeFsUuavAtbfOM85UxyZ6vDuK/pp4BUy0g6aOnck5wk1NtC8UuAK3mDhri1Az4oF\\\n",
       "H0hX/i1Vf514q6ZOncoGbIgZKnhR67jC2q5duwb9Yfr7779LkurWDbzXaHZ25a8GV9Wtp6ysLJ1z\\\n",
       "zjmaP3++vvvuO7Vr187vHLfeeqtuuukm9/39+/erZcuWOvfcc/kfLMTUzp07VVBQoPyCAjXdscPv\\\n",
       "GEdmpt6fM0fnjBmjtIMH/Y7Z2ayZCvLzlZ+fr6ZNm8ZzyTWame9HbWPm+qtt+PMWP64/g/aCfNl2\\\n",
       "NFVKpkPt57yvjWPOUcXBNBnNdsqZX8B7j4gd+TnfSE13pAcd68i06f05jXXOmN1KOxi8/mZns8Mq\\\n",
       "yN/DtYmY8fd3GVSvkpISXXHVFVq6frnK/pcldYg+qonVZmvJtmlb1JughTlvpO0ZArnwT9L//l2u\\\n",
       "wTdO19frv9QLL77izhWAaBDwotYx0383Vi666CLNnz9fb775piZNmuR3TJ06dVSnTp0qj6elpSkt\\\n",
       "LS3eS0QtYrfbVVFRIXtZWcjwLO3gwYBj7GVllfPY7VyjUQjn+1HbBLv+ahv+vMWP68+grcwu28Ej\\\n",
       "723FwbTKgLfMznuPqBz5OW+EDG1d0g6GHmsvM7g2EVNcR4m1ZcsWDRhynn446hcZn2VJDasWIZWr\\\n",
       "fsAq3nJlBKziDRTOHpD/Kt5kC3PNSkQ8Gkn1riTpgNThOOmzV5wadvM7Ou3UkzR/wXtq3bp1rJeI\\\n",
       "WoZacNQ6rgreYP13JalevXqSpAMHAu01WvkvrZICVtq2atVKkrRt27aw1wkAAOLPaPybjLxCGc12\\\n",
       "Vt5vtrPyfuPfErwyAEBNt2zZMnU5uau+77dLxqIWfsNdl3IF/nRnsA3X4qXEz2P+ck1/46qDv6C6\\\n",
       "Oqp3g4a7HhrmSgufNNS36/c6uWdnLV++PPyTAR6o4EWtUlpaqk2bNkkKXcHr+he0YOGs67lA/9q2\\\n",
       "YMECSdKgQYPCXCkAAIinrKwspaakqXzom5IkIyVFUhc58wtUUVEhSUpNSaMfPgAgLp588kndePME\\\n",
       "lc9oKI3N/ePRBvIfk1aKpJI33Cpef6xa2Rsvgap3Q4a7PrVjaWnSzClS5+NLNPD8P+lfjzyma6+9\\\n",
       "NiZrRO1DwItaZd26daqoqFB6ero6duwYdKwrAN6zZ4+2bNmiY489tsqYL774QlLgauC33npL9evX\\\n",
       "V//+/aNcOQAAiKWcnBzdMGG8SktLJUlOp1OrV69Wfn6+7PbKHcuzsrKUk5OTyGUCAGqYiooKTZw4\\\n",
       "UY//31NyLm4mneH7D4nBQ954q21hbnX13vUNdz2N+7PUvnG5ht46Xt98840effRRNl9D2LhiUKu4\\\n",
       "+u926tQpZK+pFi1a6OSTT5Ykvfzyy1WeX7lypbZt26Y6depo4MCBVZ5fu3attm7dqvPPP1/p6cE3\\\n",
       "1gAAANUvJydHeXl5ysvLc29W1bRpU/djhLsAgFhyOp26+uqrNXvh03J+3sJPuOsSeCuxSFo1FAUY\\\n",
       "HyRzjKtA67GCiKp3Q73RRdKZXaXPnnLq3f/O1tixY+V0OiNdImopAl7UKmb777pMmTJFknT//fe7\\\n",
       "w2Gpsqr3+uuvlyTdcMMNfv8COG/ePEmVG60BAAAAAGovh8Ohq666Ss9/8qoqlreTjgkc4iaavwDW\\\n",
       "32OJ6q/ryV9f3XD67/qdM0D1brCN1SLm8ca2zpNWPFah/y2Zq5EjR6q8vDwOJ0RNRYsG1CqukDZU\\\n",
       "/12Xiy66SBMmTNDMmTN1yimn6Oyzz1bdunX14Ycfat++fTr99NN19913+z123rx5Sk9P91vdCyTS\\\n",
       "b40bB3zOmVH5r/47mzWTvcz//8EEOx4AAACAt8OHD+vyyy/Xmz8skpYfLx0V/NOklQK3anBV8frr\\\n",
       "xxvPXryJFutIPFbzRVy96yc1b95YWj7L0J8mvqzLLivTK6+8wieCYQoBL2oNh8Ohb775RpL5Cl5J\\\n",
       "mjFjhk4//XTNnj1bq1atksPhUNu2bTV58mT97W9/8/vDduvWrVq3bp0GDBig+vUDf4QGqE5ZWVlK\\\n",
       "S0nRm0OHBhyTkpKiLpIK8vPdmwz5k5aSwsZDAAAAQAgOh6My3N26SFraTmrkGcO46koD1cJG1o83\\\n",
       "3JA3lvYq9kFsdQq3ejeq1gwBHNVAWnqfdM6U/+qKISfr1QWrlZpKfIfguEJQa6SlpenQoUMRHTts\\\n",
       "2DANGzbM9HjaMyAZ5eTkaPyECe4Nhfzxt8mQP2w8BACAOb81Dv0RW2eGTZK0s9lh2cuMqOcDkByc\\\n",
       "TqdGjhxZWblbJdw1K3glr78q3ljwFwZbYQM2s+0Z4h5Ch1m566tRfen96VK/SV9p5LB+evH1ZUH/\\\n",
       "fgYQ8AJxMG/ePNlsNg0ZMiTRSwG85OTkBA1mHQ6HpMpNhkJtRAgAAAKr/ORMqt4cui/k2MpP0Byt\\\n",
       "gvw9QT9B45KWksonaYAkV1FRobFjx+rVtQsq2zIEDXezFbyjbfiVvOFU8SZjmwYzQXI4fXXNiGn1\\\n",
       "bjT+uBRcIW/fSR9r3MghevbF+UpJYSst+EfAC8TYnj17tHLlSvXq1Ut5eXmJXg4AAAASoPKTMzcE\\\n",
       "/eSMi9lP0LjwSRog+U2cOFEvrPyPjOUnSUdl/PFosNLNyELeeFbxmlGi0EGrmTHJKuxwN1RbhlDV\\\n",
       "uz6XQNMG0of3GTrrHwv1txvyNePx50NMgNqKgBeIsUaNGrHbJQAAAEJ+csaFT9AANcsTTzyhx//v\\\n",
       "GVV83lNqnuHxTENFF/L6FyjkjbaK12ptGqJpzxCoetefiCt3wwx3XZo3kj6YXqFef31BJ3bsoevG\\\n",
       "T4hwAajJqO0GAAAAAACIgWXLlmnCLX+V87+dpGMy/YwIFY8Gq3UN3Dm2XMmzuXe8OhdUt0DVuwFF\\\n",
       "03c3RK7fuqn0379KN99ys5YvXx7mwlAbEPCixsjNzdVdd92l0aNHJ3opAAAAAIBaZsuWLbrw0iEq\\\n",
       "n3m8dEawbbziE/L6U64Mv4/7yxtDdRdIpFhtipaQ6t0ow10VVd7OOEGacWW5hl48SFu2bIlgIajJ\\\n",
       "aNGAGiM3N1dTp05N9DIAAAAAALXM77//rnMHn6+SEU2kq09QJK0WvAVr1xBeP95ArRrMMNOSIRE9\\\n",
       "ds2cL5o1hVW9G00yHuZlMraf9NXPJRoyaIBWfbpG2dlW7W6MWKOCFwAAAAAAIEIVFRUaPnKENjfb\\\n",
       "Kz3c6Y9HQwVvDRVdN1v/Na2BWjX4q+SNtIo3VEFqIph5J6u9evePytuATFbu+vrXldJRth808srh\\\n",
       "qqioCHNRqKkIeAEAAAAAACI0depULVy/TMarJ0upnjGLmerKYNFktsk54isZA9148le9GzDcjbR6\\\n",
       "10y4G0CqXXr1RkNfffKupk2bFuECUNMQ8AIAAAAAAETgtdde030zHpRzfi+pYbqfEdGGvMEkroo3\\\n",
       "2fm+62ard8MKd4OJtnI3hEbl0ltjnXr0Xw/q9ddfD2dlqKEIeAEAAAAAAML0448/Kv/qMSr/d3ep\\\n",
       "g/9QtZKZStxIK3nDC3kj5Zs5+t73zSwjyUTNSnxNsypT8EBJeJzDXdeb2zFP+veIMo3JH60ff/zR\\\n",
       "xIGoyQh4AQAAAAAAwlBRUaHR+aNVNvIY6cIOMZo1/pW8Zqt4Yy3aLeeC8X3XTG3AFq/q3WoKd10u\\\n",
       "7Cxd1aNMY/Lz6cdbyxHwAgAAAAAAhGH27Nn6fNs3qnigxx+PNFCgoPWIWFTyRs9fyOsrmdo0hHpX\\\n",
       "4318FQmu3PX14JAK/bTxMz3++OMmJkFNRcALAAAAAABg0ubNmzX51skqm9Nbyk6LYIZ4hLz+A2az\\\n",
       "rRrM5Is1ZbO1uFTvRhruFoU4VqoMdoOsJbuONOfyMk2ePEmbN28OMRlqKgJeAAAAAAAAEyoqKjRm\\\n",
       "zBiVj24r9c3zM8JMJa9UnZW8kbZqCFXFG6oPb6TCaVQRSXsGM/yGu4H67kZTuRuKyZC5X3NpVLdy\\\n",
       "jRkzhlYNtRQBLwAAAAAAgAmPPfaYNmz7Xofv7xZiZCxaNjRU4LgzsZuuJUq4Aa7vu2G2ejcmYlG5\\\n",
       "G8Z5Hjj3sLZtWqPZs2ebPBA1CQEvAAAAAABACD/88INunTJFu+ecKWU3NXlUzDvAeggv5PUVSRVv\\\n",
       "OG0awt2fLBFMt2YIVLkb6A0JFe4GE6Ilg9c5PM6TXUeaM7hEt946mVYNtRABLwAAAAAAQBCu1gy2\\\n",
       "/E5S31ZhHh2LSt5gx5o7p9lWDeGItC9vPPr5+r4TZqp3fZkOd4OJNtyN4hx920qje9ho1VALEfAC\\\n",
       "AAAAAAAE8eyzz+q7X7bowP29PR4N1kLBl9mWDYHEridvKOH24vUUqz68ZoTTq9cf3+rdsMLdeFXu\\\n",
       "huJTtevP/Wcf0LYfN+m5554zMSFqCgJeAAAAAACAAEpLSzV16lTtfrCHVDfdz4hwg95gYhny+q/i\\\n",
       "9a3kDbeK1zenjEc1rkukDS4iqd41LdbhbjgtGUzIriM90HO37rrrLpWWlpo7CJZHwAsAAAAAABDA\\\n",
       "jBkzdLhFppxDjwsxsrpC3nA2XossIo2mijeQaKt7g70r4dYwR1y9G4/K3VBMVO16natIuvR4p47O\\\n",
       "TdfMmTOjPDmsgoAXAAAAAADAj6KiIj3wwAPae39PyWYzcYTZat5QLRtC9eUNR+h+vNFW8SaTmFTv\\\n",
       "xqIvRbBN2CRzlbvhpOIe57LZpPu7bNP999+voqJk/m4hVgh4AQAAAAAA/LjvvvtUp/cxqujfQeEF\\\n",
       "ruEEvcEEOmeg+QMFw6EreX1D3khjQc9M0uyeYeGKpv9uyOrdQJW7/t6QSMuSzQS7YVbt+jr7mAr1\\\n",
       "atdM999/f3hrgyUR8AIAAAAAAPj45ZdfNHv2bO26/1SPR8OtrI1nyGt2fv/n8a3irXwscCWvb+5Z\\\n",
       "FODr6ha0dYNP9a6p1gxmRVO5G8m84Z5H0v0dNumxxx7TL7/8YnJSWBUBLwAAAAAAgI+pU6eq/pAu\\\n",
       "Uvc8P8+GE/TGqmVDOPObW5+/kNeT1T7cH07H4aj67gYLdwOJVUsGE8Guy0lNpcEd6mvatGnmDoBl\\\n",
       "EfACAAAAAAB4+Pbbb/XSSy9p5929QowMJ+SNtpo3FpW80fXjjcVma2Z5rjSSbsShqneriHe4G4zZ\\\n",
       "lgzhJu4l0j3td+rf//63Nm7cGObBsBICXgAAAAAAAA+33XabOow5RzqukYnR4VbzhgpjY7n5WmT9\\\n",
       "eD0FyxQDtWmItDWtmZjac0yk29CZ7rvrK9bhbjjBrtlwt0Re8x6XI+V3z9Ftt91mcgJYEQEvAAAA\\\n",
       "AADAHzZs2KCFCxdqzR29FV6P21i2bQjVsiHQnIHaNfib/4h4VvHGa6M1X14Vv+FW7/qKRbgbqiVD\\\n",
       "rIPdIHPe0W6n3n33XX377bdhTAYrIeAFAAAAAAD4w8yZM9XhinOkZq7QM5yQVzIf9EZTzRvsHLEP\\\n",
       "eZOxF6/nKwoWhYfcWC3Y7nEukYS7wYQKdyMJdoPMmVdXurxLA82cOTOMSWElBLwAAAAAAACSioqK\\\n",
       "9OKLL+rLv3bwecZsD11PsWrbEElfXrMhr7dgm6555o0HAjweKpOMtHWDi5nvgG/1rqeYhbvBAtho\\\n",
       "WzLEMNj19NfWO/TCCy+oqCgZ43pEi4AXAAAAAABA0jPPPKNjTu4oo+vRAUY0VHhhb6zaNgRr2RBN\\\n",
       "yBu8DUSwVg2hRBvmukTaZ1cK0ZrBTK+JcF5EtC0ZIumzG4ZujQ31bJmrZ599NrwDYQkEvAAAAAAA\\\n",
       "oNZzOp2aPXu2fvxrd5NHxCPojXXLhvBD3kiqeKtboPYMYVXvejIbrobbOkEKHcbGqM9uUH+Ez39t\\\n",
       "vkezZ8+W0+mMYBIkMwJeAAAAAABQ6y1atEhlTocOXXhimEfGeiO2WLdsMLO+wHOaqeKN9Yf+/a0m\\\n",
       "3AYZntW7IVsz+PIXykaymVqs2jGUKPyq3b2qsrbBRx1S+aGDWrx4cRgTwQoIeAEAAAAAQK33zDPP\\\n",
       "qGLM6VJq4ArWwCJp3WB2Tn/CbdngO0/woDmaDdf8PR9qz7FImaneDbvvbqCeu/5E25IhlAhaMQQL\\\n",
       "nFNTpPzWFXrmmWfCnBTJjoAXAAAAAADUatu3b9e7776rPVf3+uORuh63cJkNemPRtiGakNffXEfm\\\n",
       "C9aqwcVMIWysmXnHAvberY5wNxYtGWIc7Hq6+qg9euedd1RYWBjmCZDMCHgBAAAAAECtVlBQoOP7\\\n",
       "95ZaN/bzbKRhb7hBb7DoMlQ1b6B5Q81jvpI3UBXvAT+PxYrZDdY8q3eDtmbwFGm4GyhIjVWv3TgF\\\n",
       "uy7HZkv9uhyvgoKCME+EZEbACwAAAAAAarWXXnpJm8d0MTEynhW9UuRBb6CWDWYjUt+5IlPk899Y\\\n",
       "CfSKw+JZvWt2QzVf8ey1G07Vrp/+uqYVSWO0Wf/+978jOBjJioAXAAAAAADUWt9//702b96sQ+d3\\\n",
       "MHlEvCt6JXMbsfnjL+j1Fxr768nrO08lM1W81cXfu2KqejdYLwmzG6pFEu6GqtoNd/O0SENdn7Wc\\\n",
       "n3tIP/zwg3744YcIJ0OyIeAFAAAAAAC11oIFC9Sm38lSvcwIjo4k7I1Vj16zYbHZ433PZ74fb6he\\\n",
       "vNKRXNKVZcYzIA4a7oa7S1wkLRnMBrtmRFmt628t9VOlfh3baMGCBRFMimREwAsAAAAAAGqtBQsW\\\n",
       "aOvgzgqvwtafSIPeUOcMFvSG07LBTCVvYK6Qt1wZ7kpefxmmb5sGszmmayVmWi/4G+Oq3jXdd9c3\\\n",
       "ZPUXysY62HUdb1YMqnUDGWz8RMBbgxDwAgAAAACAWmnv3r1auXKlygad5PGo2eA1kHhV9cYr6PW3\\\n",
       "8Zrn8eaYqeINh2sVDX3ue67Isz2DX4H67poJWcMNV80Eu2bPG0nFboBq3UAG5ZTpo48+0t69kabI\\\n",
       "SCYEvAAAAAAAoFZauHCh8jq1k1o1CTAiVmGvWWZbN0RzvBmhWzUEq+KtDv567wZszRAs3I22cjdW\\\n",
       "7RiqIdT1dEym1LFVnhYtWhT+wUg6BLwAAAAAAKBWmj9/vvZc2MXk6Oqq6jUTKodbzRu7St5g/Xhd\\\n",
       "mapvm4Z48txYrcpCfBcRajM1fyFrPIPdSKp1owh1vZRIF9r3aP78+VFOhGRAwAsAAAAAAGqdw4cP\\\n",
       "a+HChSod3CPMIxsqusrecKp6ow16fQUKeoPN73msN7NVvOG0nfUUqD2Dv9YMQXvv+mO2atfMsb7H\\\n",
       "mA12zYphqOu5vsGZpVq4cKEcDkeUEyPRCHgBAAAAAECt89FHH8menSmd1CbKmSINeyOp6g0kUNBr\\\n",
       "dk3hVfL6q+I1kz3Guttr0NYMnoGovw3Vgi0skqrdWAe7sQh1S1Ql1PXUI1vKSk3RRx99FMVJkAwI\\\n",
       "eAEAAAAAQK3zzjvvyHFBLymlvoJXsYYj3mGvmaDXzDFmKnkDhbyVXCGvq4rXJRZtGvy9imDVu1VO\\\n",
       "HoznggK1ZPB3THUHu5EIEej6SrFJg+o59Pbbb0d4QiQLAl4AAAAAAFDrfPLJJzpw5okej2T73KIV\\\n",
       "bdhrZm5/glXzhgp6zbRrqNqP17dVg5mc1Z+qTSACr6hK9a6/vruhKnd9mdmAzXNssBA1nP660Vbr\\\n",
       "mt3IzY8z0g7o008/jfDESBapiV4AAAAAAABAdSovL9eXa9fK6HF1kFG+0WKknWQl72DVbIrnCnmD\\\n",
       "xaWuef3N6Vq/77r9HdNAR5LIbI9jfMe6nvMcb06Jz4pCRejBYnG/G6u5eIa7vo+5mK3a9cdMta4Z\\\n",
       "0bZeiJEe2YbWfvmlnE6n7HZ77CZGtaKCFwAAAAAA1CobN26UkWKTTmgRxlGxqvANt7LXTPuGSCt6\\\n",
       "PflW8vr25fXl3Y/X34Zr0e4J5rsyz/YMtr1+qnfDbQTsr/I1UCVtsCpZs9W60VTqhtF6IRztD0oq\\\n",
       "d2jjxo2xnRjVigpeAAAAAABQq6xevVqNurXX9qgqFmNR4RtuZW+oqt5g83lW5vqOd411RamBqnmL\\\n",
       "5F2HG7iS98Afq3XN7DrTXvlvxeC5Sr9f/xHuVqne9Q13zVbu+gt2/Ym2Yjeatgvx4LMeu03qVr+O\\\n",
       "Vq9erY4dO8bppIg3KngBAAAAAECtsnr1ahk9jo/xrNFW94ZT2Wu2qtdXpNW8weasrOKtvFWt4o2W\\\n",
       "vzDYVOVusM3UzIS7sarYDUesq3SL/Nz86GF3aPXq1TE6KRKBCl4AAAAAAFCrfLF6tQqvHaDgPWyj\\\n",
       "EW11bziVvZ4hr29lb6DX568/b0Ofcb59eV3jPSt5q1bxlitDqSpzz+S5OjO9dz1X7V5toOpdKXTl\\\n",
       "brBg13dsoDH+5goknEspllW6UVzCPeyH9cwXX8RuLah2BLwAAAAAAKDWcDqd+nLtWqnHRI9H/VWm\\\n",
       "xjL0jSbwDTfs9de+IdAcvkFvqJYNnvNVDXnLVV+p2l/l7L5tGnz5q9LNDvC4ba+C7ztnNtwNVLXr\\\n",
       "K1lD3Rhenj0ypOu/XMNGaxZGwAsAAAAAAGqNjRs3ymkYUvvWIUbGM/SNNPD1XZO/9QSr6PWcI9yg\\\n",
       "d6/MVvK6qnhdKwjWSMKlgfxX93pW79o8w1bP5Zf4POYbygbry+v7vEss2y9EG+rGusDcR/s6kuF0\\\n",
       "atOmTerQoUN8T4a4oAcvAAAAAACoNVavXq3cbidKEVUqNvRzi4VsRdbDN9QagvXqNdOj13OMv768\\\n",
       "DX3uN1C56kuqDHljlUt6tWbwzKw9+9X6C3d9+9n6hsL++t0G660bopetl2j66ZromxtLqTapa50U\\\n",
       "+vBaGBW8AAAAAACg1vjmm29U3uW4GM4Yj0rfcCt8zbRxcIW8ngmpmdYNntW8ni0bshWokrdc8mrV\\\n",
       "4K+OOFCM3VD+2zMErN7115IhWDuGYBun+WP2WxlplW41BLhuQVpbdLU59M0331TfWhBTBLwAAAAA\\\n",
       "AKDW2L59uw6c0DjOZ4l16BtO4Bsq7A3UwiFQ6wZ/bRs8Wzb4C3nlruQtUpnfd6NEUqjvQvZhj9YM\\\n",
       "rqUWyX/VrefE8hjre9JAx/kK9e1K5kA3WI/iAI62Vej77dtjvxZUCwJeAAAAAABQa2wrLNThvh3l\\\n",
       "2TO2esQy9DUb+JoNe4MFvf768wYLeSXffrxSmQ4odEML1/MNdKT3rpdAlbsuvu0afB93ibRaN9J2\\\n",
       "C/ESQZAbSJ5dWvHLtthNiGpFwAsAQAL91jje1SPW4czIkCTtbNZM9rKyEKNrB64PAABi75fC7VLe\\\n",
       "UX/c820E4CveAXCgyDPcVNAz8DUT9vqew19Vr2847G+DteDvn6tVQ5HHEYFecbbPfyWf6l3Xcks8\\\n",
       "vvbXkiFYOwZ/385gb3UyBLoxDHGDybNLhb/8Uj0nQ8wR8AIAkABZWVlKS0nRm0OHJnopSSMlJUVd\\\n",
       "JBXk56uioiLRy0kaaSkpysrKSvQyAACoMXYW7pCaNzU5OlEBcDTVvtFW9waq6vWt6PU81rOa1/VY\\\n",
       "5dfl7kfKVFf+anyrclXvBgx3/bVkKPK578n3RLEKdWMZ5lZTkBtIc7tUuHNnYheBiBHwAgCQADk5\\\n",
       "ORo/YYJKS0sTvZSk4XQ6tXr1auXn58se0a7WNVNWVpZycnISvQwAAGqEgwcPqmTvXimvSYxmDBYA\\\n",
       "xzr8jTT0NRP4+uu/61vV6691g+cmbJJ3yHvksXLVV2qQNg25Hl+73tHUMnmHnp6Vu677vkv2fGnx\\\n",
       "CHVjEegmOMgNJM8uFe3/XWVlZcr445N1sA4CXgAAEiQnJ4fgzoPD4ZAkNW3aVGlpaQleDQAAqIl2\\\n",
       "7Nghm90uo0mjajhbdVT/RtLiIVjgG6qqNxDfoNdz3paSSlSu/e4qXtcqPP9PuOEfj3ltrCZJP3ss\\\n",
       "Z6/8t2MIFOxGE+pGE+YmY4gb4vU0MaQUm007duxQ69atozrV559/rrvuukurVq2Sw+FQ586dddNN\\\n",
       "N2nYsGFRzYvACHgBAAAAAECtUFhYqMymTVSakpLopSi+1b/hVPsGCnyDhb3++vQGmrtElQFvfUnS\\\n",
       "AZUFPMrrHfFszeDblsE32DVTrRuPQDfRQW4MW0TYbVLTzAwVFhZGFfAuXbpUAwYMUEZGhi6//HLV\\\n",
       "q1dPb7zxhi677DJt27ZNN998c+wWDTcCXgAAAAAAUCsUFhbK7t5gLZnFo/rXbOjrL/ANFuS6Gi94\\\n",
       "bsTme3y2pGyVa5u7itdzxmyPI9MKdSTcdVXvuip3w63YDRTqhhuMVneQG+uN2kzKS0tVYWFhxMeX\\\n",
       "l5dr3LhxSklJ0YoVK9StWzdJ0p133qlevXppypQpuvTSS3XMMcfEaMVwSYZ/sgIAAAAAAJAkvf76\\\n",
       "67LZbCFvrVq1CnvuwsJCGc2b60ikGM4tmTQIcTOroZ+bL3/vg+f4un/cWno8lu3xdUtJrf74uoHK\\\n",
       "dJRXca7nK8o+rCPhbokqw9ttqgx6PcPdvR63Io9bic9NPs8XKXh4eiDALRb8rSPQLUGay4gq4F2y\\\n",
       "ZIk2b96s4cOHu8NdqbI13ZQpU3T48GE9//zzMVgpfFHBCwAAAAAAkkaTJk00atQoPf/88zr11FN1\\\n",
       "7rnnup/74IMP9PHHH+uqq67SgAEDwp573759cuTWj3Bl0Ya8ZnfyioVoKoBDVfqafR9cVb2eWv0x\\\n",
       "2y6vRg+u1aYV6kjlrmfVrm8rBn+VvP6WGkgsK3ITGMjGWgNnufbt2xfx8cuWLZMkrz+zLq4/r8uX\\\n",
       "L494fgRGwAsAAAAAAJJG3759tXnzZj3//PMaOXKkrrvuOvdz69evlyT9v//3/yLqE1peXi4jLVFR\\\n",
       "SDQBcazD4XAD4GChr7/X5Qp3XTFutsdjRSrTUdqmXe7RdfVH9a6rWnfvH/91Vet6ns73rQhVkRuJ\\\n",
       "GhTahiPVqFB5eXnEx3///feSpOOPP77Kc82aNVN2drZ7DGKLgBcAAAAAACSVdevWSZK6dOni9fja\\\n",
       "tWuVk5MT8SZQ5eXlqkhYwBuN6q4eNhMAm91gTaoa9G5WuRbqlz+ePfqwlPaTKkPddaoa7Hou3zd8\\\n",
       "DSfErUnBbUmzmE+ZquKoAt7i4mJJlS0Z/Klfv757DGLLij/VAAAAAABADfbVV1/JZrOpc+fO7sf2\\\n",
       "79+vLVu26Iwzzoh43vLyclWk1sYoJNYBcaAA2PW4K51tqMq2DJ7lt9skSeU6Ux9ppcZISlst6X9/\\\n",
       "DNumI6GuZyAbKMhNZGgbh5A1kdIkORyORC8DEaiNP9UAAAAAAEAS++qrr9SmTRvVq1fP/djatWtl\\\n",
       "GIa6du0a8bzl5eVKSUlRHUfkVYq1U0aY4/N87nv2Pe4kaZ+kc2U7dLIk6dD7mdLHqsyFS/8YFqxN\\\n",
       "sEtJ0zDXFWOZiT19rL1d9pvS/vMf3X///REd76rcDVSlu3//fjVoEM4mgDCLgBcAAAAAACSNn3/+\\\n",
       "WXv37lW/fv28Hv/yyy8lKaqAV5IGbNmhce9+FtUciJVekqQPe86ReiZ4KdDBsWOVFsXxrt6733//\\\n",
       "vXr06OH13I4dO1RSUqJevXpFcQYEQsALAAAAAACSRrD+u1J0AW9qaqreb3m0lgwcEPEctU6ZPbzx\\\n",
       "+3zuuypxSyT9+sf9bZI+lXquPqyb53ygP43JVPrBDR4DDsi7hDdQD2Hfk1W3SHdxS05DD5cp5+qr\\\n",
       "Iz6+T58+uu+++/Tee+/p8ssv93pu8eLF7jGIPQJeAAAAAACQNL766itJVYPcDRs2SJI6duwY8dyp\\\n",
       "qamqqDB0OC2aOkWLORhmQOvLNzkK1DrBtxeuvx66P0vaLGmlpG1S00OVT5Uf7Ke6B1MlGaps57BX\\\n",
       "lW0eXM14XT2EfU+SZfZVBFl4NBIZq4W7cV5oTjmVFsWfjbPPPltt2rTRyy+/rAkTJqhbt26SKls2\\\n",
       "TJ8+Xenp6Ro5cmSMVgtPBLwAAAAAACBpuCp4fQPeoqLKcO/zzz9X586d1bBhw7DnTk1NVYrVNpGK\\\n",
       "NqANl5kc1N/GZiV+nj8g7w3Tth35b/19cvewLZGUo26q3JRtsyqTYNeEDT0mzJb5YNPsxnC+4hEE\\\n",
       "x0O0G+dVVZ7uUGoUmxCmpqbq2Wef1YABA3TWWWfp8ssvV7169fTGG2/op59+0kMPPaTWrVvHbsFw\\\n",
       "I+AFAAAAAABJY926dapfv36VIGjEiBF6+OGHdfHFF+udd97RqaeeGvbcqampsiUi4K3ukDaYcPNL\\\n",
       "f2GuS6BQ13Xfs4p3mypz2yIpvaQybnXV326RlKqGaqoiVT7T4I8DXIFuAz8LL1Fl+BtowYEC0FAB\\\n",
       "cTibgFklDDanPMUWVcArSf369dPKlSt111136dVXX5XD4VDnzp31wAMP6LLLLovRSuGLgBcAAAAA\\\n",
       "ACSNTZs2+X186tSpmjp1alRz5+bmKm3fPh0K98BkCmhDiSZzDBbmSlWzUd8WDJ6PucLdvR5f/1G9\\\n",
       "m1HuHc26Cn0bq7nsaqjKJNj1QlwVvL7Vu56VvZ6L85zZ3wuKNPj1p2ZVBe9NtSk3NzfqeXr16qWF\\\n",
       "CxdGvyCYRsALAAAAAABqhby8PNl+LbRWYOsrVllhqDBX8p95+gt1PR/3rNr1DHf/yGzT/5jTM2bd\\\n",
       "K6mepN3KUmNJdmVLaqsjCbHrBOG0JQhV4esrlsGvL2tUBW+3VSgvLy9h50fkCHgBAAAAAECtkJeX\\\n",
       "J+eOwkQvI7h45HtmwlwpdKDrEijY9bzvGe6WHLmfUR447qyMcLNU128w61vB69u6wXWMvxYNvpW/\\\n",
       "/s4cSDyDX38SVxVcWH6IgNeiCHgBAAAAAECtkJeXp4M7d0pOp2RPYBVvPIs0zYa5UuCMMtAcwYJd\\\n",
       "12N75R32eoS8rt67DVW1RYMrrq08tKHqVjn5XoWu4N0r/y0afI/zfeG+oa+ZN7G6g19fsa0KdsrQ\\\n",
       "zrIDBLwWRcALAAAAAABqhby8PBlOp7R7t9S0afxOVB2fsg8nyHUJlT2ardb1nc+zk4Ln2BLv5zLK\\\n",
       "g5/eM551KuOPfrz+uNoveLZtcEXErpmkqlW9LoGqe13CrfINNLev6gp/fYUOg3+TQxWGoWbNmlXD\\\n",
       "ehBrBLwAAAC1UHFxsUpLSxO9jKThdDolSTt37pQ9kRVdSSYrK0s5OTmJXgYAxExGRoayGzRQyY7C\\\n",
       "6APe6myVGkmYK5nLE0OFuv7G+LZj8Hw8wCZr6R5rcUWgnrFjkc9/pSxlSD4hb5H8h5WBgl4pcFWv\\\n",
       "72o8X4Q/kVT5+kp01W9ghTqshvXqKyMjI9FLQQQIeAEAAGqZ4uJizZ45U46KikQvJWmkpKSoS5cu\\\n",
       "KigoUAXvi1taSorGT5hAyAugRmmal6eSwu1S127BByZqr6tIw1zJfE5opgWDv7H+gt29Ps95fv3H\\\n",
       "c65w19Wewdc+yd2SwRXHlkg6EjX6O8rVssFzMzXfoNd1Vs+FBgt75ef4QKKp8g10Tl/VF/xul0N5\\\n",
       "8axqR1wR8AIAANQypaWlclRU6OI33lCT3bsTvZyk4MzI0OpHHlF+QYHsZWWJXk5S+K1xY705dKhK\\\n",
       "S0sJeAHUKC3y8rR5R2HiAlyXaIJcT5FW6bqECnV9z+G5iZrn876Vuz7HhmrP4Hv6hpLK3FW8rt/N\\\n",
       "nhut+Vbyhhv0SrGp7PUUiyrfYGvwFNvwt1AO5bU4NqZzovoQ8AIAANRSTXbvVl5hku8kXk0cmZmS\\\n",
       "pKY7dijt4MEErwYAEE8t8/KUvrVQh6vzpLEKc6Xoq3RdzAS7vufzDXd91+J536d615fvJmqewxoo\\\n",
       "UKsGz+DWtaAG8q7mlY7055XMBb2uYzzn9RWqb68/sazy9RXbqt9COZTXskXky0FCEfACAAAAAIBa\\\n",
       "o3nz5qq745f4BbyxDHOl8PK6SELdQMf5C3alquFuUYD7Ho9llB9pz5At/7Gnp72qWp97ZNM1V8jr\\\n",
       "udGaZ8grVa3mlQIHvZ4vyiXQ5mwukVT3+s4dbP5oRBb8/ppSrubNm8d+OagWBLwAAAAAAKDW6Nix\\\n",
       "o1KXPhmbyeKRz4VbgGlmDZEGu55jfFsyeD7ned8jAA5UvWuWdxVvqYmQ17VQ32pez9k8n3OJtKrX\\\n",
       "JdLAN54Vvr6Ct3tYl3ZY13fsGKdzI94IeAEAAAAAQK3Ro0cP7ft6reR0Sna7+QPjlbtFGoJGWq0b\\\n",
       "6NhAwa7kP9z1ve9vMzaF13vXdxpX7Fo5XWXIWylQyOvJt2LXX9sGn8Waqur1XaU/kbRz8HceM+eK\\\n",
       "XrmytK7igHr06BH3cyE+CHgBAAAAAECt0b59e9ltNjl+2CidEKBiMZ6ZWrwCXSl4qBtsjkDtGKTg\\\n",
       "lbu+xwTYuM7VniFa3puumanklYJX87qel/xX9Qbaia+6wl7fc5k9Z3g2qlQpqak64YQTYjovqg8B\\\n",
       "LwAAAAAAqDXsdru6d+um/321ujLgjXeBZDRtCsJZWzhtGCT/6wpUtes53rctQ4B500uqVu8GaxKw\\\n",
       "188Y12MN/5jW9Vxlq4ZgIa/kHdD6tmUwG/QGq+j1nct3Pn+iDXv9ndPMeYNbrd/VrXs32cOpaEdS\\\n",
       "SUn0AgAAAAAAAKpTzx49lPfl6vi2XXDdwlXkcQvlgMct0DyB1hZsrG/VbqDKXc/HPI4Jt/euv+g0\\\n",
       "0BRlypJUGfJ6c4WnDXUkAG3g87xvxOyvOjZQDN1AVbd+89VQ3ucPJtvnFo2Gfm7mrU4vU4+ePaNc\\\n",
       "AxKJgBcAAAAAANQqPXr0kG3D6thNWKLkCHU95/MVaG1mWjL4jvMNfPf6PK4j1bu+7RnMRI+BOkD4\\\n",
       "f2s9A01/QalvMOsbqAYKeUMFvWbC3nDEKuz1PL+50Hd12kH671ocLRoAAAAAAECt0qNHD+355vrw\\\n",
       "N1pziebT9S7hVg9H2l9XCj/Y9T0mjHDXs3o3VARqxl4/85T9seHakVYNnjzbNXgu1ExP3VAbtfny\\\n",
       "7fcbaF5/cwfjG/LG4oKT/LV2cMrQ2kN7CXgtjgpeAAAAAABQq7Rv3142w5C2bjJ3QLQVui7hVOpK\\\n",
       "5qt1g/XZjaRqN1S4GwHPyLJukHElAb72reKt2qrBM7wMVKFrpmVDsIre6mrfEO75I9VQG5UmpaWq\\\n",
       "ffv2MZ4b1YmAFwAAAAAA1Cqpqanq3q1b4DYNsQp0pfBDXSl0qOs5rz/Bgt1Qlbu+4z3n9J0jQPWu\\\n",
       "7+Zq0XKdJryQ15NvyBtp0OsaH4iZoNdz/mjD3ugD39W2fWywVgMQ8AIAAAAAgFrnlFNOUd0vP6q8\\\n",
       "E8tAV4os1JWqP9iNpnI3WDCsIzFnJBGm7+nD49mPN1ivXd8g1l9YGizkNRP0xjvs9VxLZGHvyrol\\\n",
       "6t27d4TnRrIg4AUAAAAAALXOBRdcoLSP3pH2V8RmwmhD3WiCXSlwMO3vmGD9dn2P8Rf6+tmIzUz1\\\n",
       "bqgI019mHOhlBa7i9T1TLELeSINe1znMdiOu3rC3QobeTtulQYMGRXg+JAsCXgAAAAAAUOuceeaZ\\\n",
       "cpaWSJvWRD5JvENdz3MEEk7VrhR9uOvn2PQQVc/h1pYGKxgO9lbELuRNdNAb6nxmhG7lsFp7VVpR\\\n",
       "rjPPPDOK8yAZEPACAAAAAIBaJz09Xeeff76yPp5v/qAiRR7qSuZDXc9zBRKsnUSgYDcW4W6Q1gyu\\\n",
       "6t1o2zOY5VvFK4UT8gbry+saH07bhmDHeIo06I323awa9s7PKtL555+vtLS0KOdGohHwAgAAAACA\\\n",
       "Wmnw4MFq9OmC0AMjDXRdqjPYNVO165rH99hwmKzejYbvpmrBqng9Q97I+Qtew63mdR1jNuhNXNi7\\\n",
       "oNEBDR48OMq5kAwIeAEAAAAAQK10/vnnq3Dj19KOn6s+GU2lrhReGwbP8wUTLEwNdGy44a5ngOy7\\\n",
       "JhPVu9XN31tStYo32MZroVo2+Dsu2PFmjvMVbtDree7Iwt6fVKJvCrfqvPPOi+h4JBcCXgAAAAAA\\\n",
       "UCs1aNBAZ5xxhjL+93blA9Ud6nqeM5hIq3b9tWTwbb1g9rUG2VjNk297hnD775pdhr9uEoFbNYTi\\\n",
       "L+Q1W83rOj6WQW/8w963M3bqzDPPVIMG4Z4LyYiAFwAAAAAA1FoXXnihWn8yv/paMEjmg+RIgl3J\\\n",
       "XNVuoPN5zu9vPj/zmKnedUWPdX3uh1qKb5sGT6HevuD9eH0DV7PhaLCgNtQc4cTdkQav5oLe+ccc\\\n",
       "1IUXXhjhOZBsCHgBAAAAAECtdeGFF+rHT5ZKpb+Hd2C8qnWl4MGua55AzLZkCNSWIdS64sS1nCBd\\\n",
       "INyCvcQyZQXpx+sbfIYKeYNV8sa7mtfz/JGEvYGrevfrsJb++BX9d2sQAl4AAAAAAFBrHX/88Wrb\\\n",
       "tq3qfLnQ3AHhhrouZiuEQ4Wowap2Q7VkMMNk310z7RmSQdVWDeGGvFLggDUWQW+4YW8kvNeysM5O\\\n",
       "HXfccWrbtm2E8yHZEPACAAAAAIBabcSIEWr78ZzggyIJdsPp6Wumatdsr91Qa/I9byABWjN4hrvV\\\n",
       "ublaqDYNns+H1483mpA3FDNxd/VW9c5pW6Irr7wyguORrAh4AQAAAABArZafn6/vVy2Rdm71fiKS\\\n",
       "NgxS+KFuJMGumXlDzeNvjIuJ0Ngz3A1nS7JwBcq1wxG4H28ggULecFs2uOYyG/SGI/ygd4uKtfT7\\\n",
       "L5Wfnx/muZDMCHgBAAAAAECt1rx5cw0cOFCNlj4XeagrhRfGmmmdEKrXbqSbqfkbF+xcAap3/fEX\\\n",
       "Y0bassHsSzFTxVuVv1YNZjdei6Rlg2s+MxuxxS/ofa7RFl1wwQXKy8sL8xxIZgS8AAAAAACg1hs3\\\n",
       "bpxSPpgjOSPoORBusGumz244vXY95zYzV6hwN0BrhkAibV4QiXD3ggveqsFsJW+4LRtCBbSJCXrL\\\n",
       "VaGClA0aN25cmPMi2RHwAgAAAACAWu+8885TRqpddb5cYP6g6gx2zczvb75Q44KFuz4S1Xs3EM+l\\\n",
       "mn3bzG26FouNz2LVoCLczdikQH1659f5SamZdTRgwIAYrQ3JgoAXAAAAAADUena7XePHj1ebFTNC\\\n",
       "D451sOuaM5hIKnfNjAsm3PEeook3/b1MM2+32VYN5ip5/bVrSETLhmBrMuNI0Duj0XcaP3687HZ7\\\n",
       "BPMgmRHwAgAAAAAAqLJNw09ffS7b1rVVnyxS+BW2kTSR9RUq2I0m3I1B9a5ntBkqqqwb4nmzPF+K\\\n",
       "2c3WgvfjlcwHreGGvFJsWjZ4zhV+0LvWdkhf7NuqsWPHhn0skh8BLwAAAAAAgKSGDRvqqquuUvf/\\\n",
       "zTzyYCRtE8Kp2o1lSwbXnGbGhgp3w9hYLZ6iOXWwY6tW8foTKEwNFvJGWs3rmjc+Qe+MZus1cuRI\\\n",
       "NWwY6ZZ3SGYEvAAAAAAAAH+YMGGCNix8Rdq3I37BrhT7lgxm5gw0Lki46yvc3ruxjBOD7TsXaEz4\\\n",
       "rRqireQNxUwoG27bhuBzFup3/d/ezzVhwoQw5oWVEPACAAAAAAD8oUOHDjr//PN10uK7zR8UbrAb\\\n",
       "aUsG17kCzWtmXWGG1sGqdwO1Z4jV9mLBRFrZGzrk9SeWlbzB5vOdOzZB791Nv9DAgQN14oknhjEf\\\n",
       "rISAFwAAAMD/b+/u4/Ou67vvv3McSUlDIVgKaTkBS4tYbqxTHOhOlRtFpCKgPXGKzhmcW08KdU5n\\\n",
       "0XGd1HNz3szpZKCXwhpEpuxSpBSdMBwgIJuyIhVBQcTOm5ZCAVMwDaRJrj9qK4Xc3x35ps/n49EH\\\n",
       "9sjvOH7fpL+m5pVvPj8AnubDH/5w7vnGyuSh+wc/eKzCbjJ42B3rnbt9nbOG4xhGY6i7eIdmOGF1\\\n",
       "oGMHirzJ0Hfzjjz03p9H0tb+H/nwhz88jNegNAIvAAAAwNMceuiheetb35qWb/0//R801nN2h3q3\\\n",
       "sL5evy9jEGqfuXt3uOMZhmsoH6anHzOWu3j7HtfwTP0F2YEi7FAi7/iF3vNavpe3ve1tWbBgwTCe\\\n",
       "S2kEXgAAAIBnWLFiRTbffnXy8zt2fsNYztlNhjaSYbg7d4d6U7VRzN7tbzzDWHn60kYScke/izfp\\\n",
       "P/IOdwjFYCMbhvO6Q/9or8kvsnrznTn//POH/BzKJPACAAAAPMP++++fpUuXZt9rP7DtgeGE3WRs\\\n",
       "du0OdL7RxN0hPG+g2bsDeXqiHI/wO5BnfjgHerc70zTEebzDHdcwmpENY3WebT7w/Nty9tlnZ//9\\\n",
       "9x+j8zJZCbwAAAAAffjABz6QJ3/63VTuvGHoTxqrkQzjGXdHOXd3rDLlWBjO0kc+tWK4O3lHO5d3\\\n",
       "qDuE+w+9/175SW7feG/OPffcIb4WJRN4AQAAAPowc+bMLF++PM+54dykt3fwJ4z3SIaBzjGGN0cb\\\n",
       "j9m7u4/+JXYY6j3l+vLMD9PQ5vEmw9+PPFjkHevQ+zu96c25B9yc5cuXZ+bMid5HTS0IvAAAAAD9\\\n",
       "ePe7351pj/8y1R9e2f9BE7Vrd7g7dydg9+5ky4fDGdMwNgaKsIN9dIayF3r4u3m/Wr0r67sey7Jl\\\n",
       "y4b4XEon8AIAAAD0o6mpKStWrMisG96fPPmbnd841LCbjC7ujtXzBltDxmf37lgY6N0c7odusF28\\\n",
       "yUDzeMdyXEMytpE3eSJNWT7r37NixYo0NT37/WJqEngBAAAABvAnf/InOWTu/tn9+qfNMx1O2J3I\\\n",
       "nbvbn9PXOoZz3hEY2UCB/g2hRw/peUP5o+or8o6dsYq8g3+Ez939qhzw/IPyzne+cygLY4oQeAEA\\\n",
       "AAAGUKlUsnLlyvTe3pbcf9PY7dpNxn7n7ihmEgy2e3c44xnGe3TDaEcvDOXDPvx5vIPt5B3tXN7t\\\n",
       "5+jbjflRLu29NStXrkylIvntSvxpAwAAAAzi4IMPzkf+9m8za/WZyVNDyINjEXfHYuduf2sZ4927\\\n",
       "tfbMd2f8d/GOV8Ie2W7eJ9KZM2d8IR/56Ecyf/78cVkZk5fACwAAADAEZ599dg47+IBMu/nc/g8a\\\n",
       "6kiGsR7LMNB6hvAaw529+8y8OfQpsZNHXx/Koc/jTQbeydufwXbyJkOLvDufZ/m0r+a5Rz4/S5cu\\\n",
       "HeJzmUoEXgAAAIAh2D6qof6Hlybrbnz2ASMdGjsWhjp3tw/PjLt9GWpyHE+jbdt9fYiG+pr9R97+\\\n",
       "DJa8hxJ5h7ab94b8LJfV/6fRDLswf+oAAAAAQzR//vx89KMfSeO/PWNUw1BHMoxm5+5YzN0dQtEc\\\n",
       "bPfueBrOu/LMY8dq6kR/oxr6n8c7kp282587mIEj7xPZknc2fi4f+dhHMm/evCG8HlORwAsAAAAw\\\n",
       "DEuXLs1Rhz03lZuWD20kQzLyebuDGc7c3T4MZffuaO0+/qcYsqHu4h3ePN6BDHTjtWS0kff9lcsz\\\n",
       "9+gFOeuss4a7MKYQgRcAAABgGCqVStraVqbxR5cl664Z/AmjjbtjcVO1oayjH8/Mi4PN3x3L24+N\\\n",
       "durFWE/NGP483qEYWeS9Jv+VLzbemn9a+U9GM+zi/OkDAAAADNO8efNyadvK1N/4tuTRe/o+aLCR\\\n",
       "DMnI425/hhF3+9q9W8vxDCMxkjENo93FO7LIO7bjGu7OL/K2xguz8tI2oxkQeAEAAABG4vTTT88H\\\n",
       "/vLdqV53StL5jGw40tI41NcY6UiHYZoMN1d7uvGcKDGc1x6/yDv4zdceSSWnVD+eP3//X+T0008f\\\n",
       "5Hh2BQIvAAAAwAitWLEiJ73iBam7/k1Jz2+3v9Yq7k7A7t2xHL8wXp75rvX1YRlqH+9M0wjm8Y4m\\\n",
       "8g6sK1vzprq/zgsXHZ3zzz9/VK/F1CHwAgAAAIxQpVLJl7/0xRw846HktvdOvp2743wTtdHlysln\\\n",
       "bHbxJuO1k/e9+X/z8MFP5bIvfdHcXXZwJQAAAACMwowZM3Ldv16dGf/9z8lPLhn44PGKu8O4m1hf\\\n",
       "u3f7MtnGM/RnKM17NLt4k5HM401Gv5N35+dfnG/kyzO+ndX/9vXMmDHV0jqjIfACAAAAjNJBBx2U\\\n",
       "a67+aurveHfy0K19HzTRcXcY21HH6uZqEzHCYSjv1mg2Lg/3uQNH3oEMPfLekh/kz+s/m69+/WuZ\\\n",
       "O3fuCM/HVCXwAgAAAIyBY489Nv/46b9P9ZY3Jk+s2/mNo4m7Axlm3B3q7N2+du/Wav7uMDYnD/t1\\\n",
       "xmIX78AG+6gNHnnXpTOL86F88pN/n2OOOWYEa2Cqq6/1AgAYX+3t7eno6BjSsd3d3UmSjRs3plqt\\\n",
       "Duk5TU1NaW5uHvH6AABgKlmyZEnuueeeXHTZCel59beTpv2GPzf3mUb7/HEylP2nu4/7KrZ5NGMb\\\n",
       "oJ9I3+9fZ5rSmGd/fdWdxlTT2c+rzczAf4gz0l+RX5+H8urKkrzlbW/Nn53zvwdeNLssgRdgCmtv\\\n",
       "b89FF1yUrp6uIR1fqVSycOHCtLW1paenZ0jPaag0ZOmypSIvADzDUL/JOtxvsPrmKkx+//AP/5An\\\n",
       "nngil37tVen9/W8nu+3b/8GD7dwdw9EMQ929O1X0FWkfy7N3J/cXh/uLvP0Z68i7MY/kVXVLcsyi\\\n",
       "4/KptguGsRJ2NQIvwBTW0dGRrp6uvOHK12bWpsG/n93d2J07PnVv3tF2eqqdg3+BuWnWo7lq8bXp\\\n",
       "6OjwhSYAPE17e3suuuiCdHUN/g3T4X6DtaGhkqVLl/m3FyaxSqWSiy++OJ2df5Qvf/3VyUtvTKbt\\\n",
       "PfwXGqObqg3XZBrP0J/hxtex1N8u3mTsIu+mPJZXZ0le/PIj8/lVK1OpmLJK/wRegF3ArE0zM2dD\\\n",
       "y6DHdU3fmuTetDy4bxq2+CcCAEaqo6MjXV09WfSGK7P3PpsGPLa7uzH3rPlU3tzalmq1vyiwzSMP\\\n",
       "z8q/XrXYN1ehANVqNV/4whfS+Yd/mKv+/YTk6OufHXlHcyew/gxj9+5YG6sIPNbjFkZzzuGOahjc\\\n",
       "4JH3kfwyr8lZOWTh8/OFG7485PF57Lp89Q4AADBO9t5nU1rmbBjwmK1d03NPkn1bHkx9w5aJWRgw\\\n",
       "IRoaGnLFFVfkLW95S752/XHJ0d/63biGgYLrYDN3x2A0QzL1xjP0FWmHOqZhLA28izcZKPJuzKac\\\n",
       "kCU5ZPER+dKXvpT6eumOwdnfDQAAADBOpk2bln/5l3/JW04+InX/eUzSuX50O3fHcTRDMvTxDLUa\\\n",
       "jzCe+uvq/f1xdaap39fqTuOwz/+rPJhj696WF5xxZK644opMmzZt2K/BrknghTH2yCOPZMmSJbnw\\\n",
       "wgtrvRQAAAAmgfr6+nzxi1/MO05/WSr/8cqkc13/B4907m4hu3dHOnphrLv2WL3eyCPvzDz9o7Eu\\\n",
       "v8wxlbfmD1qPyWWXXWbnLsMi8LLLW7duXerq6nLsscf2e0xXV1e+8IUv5HWve13222+/7Lbbbmlu\\\n",
       "bs7BBx+c1772tfnYxz6WX/ziF0mSvffeO9dee23OO++8dHV1TdB7AQAAwGRWrVZzySWXZOk7F6W6\\\n",
       "9qik/dZnHzTYaIZxNp5jC8ZDX+26rw/hcDZMD3cX71i4JbfnqOr/yuvOPi0XX3yxmbsMm8ALg/jJ\\\n",
       "T36SF7/4xXnHO96Rm266KfPmzcsb3vCGvOpVr0p9fX2uu+66nHvuubn33nt3POfUU09Ne3t7brjh\\\n",
       "hhquHGDya29vz4YNG7Jhw4Zs3LgxSbJx48Ydj7W3t9d4hQAAY6dSqeSCCy7IhZ/6v6m/+8RkwyW/\\\n",
       "e+NI5+4m47p7d6JvdjaZjceohovz9by2/p3564s+nE9/+tOpVKQ6hs9+bxjAY489luOOOy6/+tWv\\\n",
       "8p73vCfnnXdeZs7c+Z+3Bx54IJ/73Ofy+7//+zseO+2003LBBRdk1apVOfHEEyd62QBFaG9vz4UX\\\n",
       "XZCtXT1Jtn3Bs3DhwrS1taWnZ9tj9Q2VnL10mTvFAwBTypIlS3LooYfm5FMW54nf/CCZ/8kMmGhG\\\n",
       "EHfHU1/zd/sKwbuP90JGqb+brfV1s7bR6Ouma13pyl/kvFwxY1W++Y1r88pXvnIMz8iuxrcFYACf\\\n",
       "+MQn8qtf/SqLFi3KJz/5yWfF3SSZN29ePvaxj+0UH175yldm5syZWb16dXp7eydyyQDF6OjoyNau\\\n",
       "nsx8w5XZ908/l31a25Ik+7S2Zd8//VxmvuHKbO3qSUdHR41XCgAw9o455pj84M7b87wZN6Xu+69N\\\n",
       "tvazhXeEcXe4u3dLG88wXGPVwQfaxTvUnbyP5NG8tu703HzId3P7XbeLu4yawAsDuP7665Mkr3jF\\\n",
       "K4b1vGq1mpNPPjnr16/P9773vfFYGsCUUb/PpkybsyHTWh5MkkxreTDT5mxI/T6barwyAIDxddBB\\\n",
       "B+WO/7otJx+7Z3bfcFTSec+YvG5/cXe4Sh3PMJxRxv318/Eah3x3fpyjq69J88mz8p01t2Xu3Lnj\\\n",
       "dCZ2JUY0wAC2bNmSJLn55pvzl3/5l8MadH7aaaflsssuy6pVq3L00Uf3e9yTTz6ZJ598csfvN2/e\\\n",
       "nGTbjd3cpI3R6u7uTqVSSXdjd7qmDz5oa/sxQzk2Sbobf/v63d2uV4Zt+/VZ192Yuq7pqeuaniS/\\\n",
       "+293o+trnPzuc0NjuqZPr/VyJoXtHwcfj9/pbvR3cDR2/D3rbszWroGvq+1vH+y4ba/rz4Wx5Tqq\\\n",
       "vRkzZmTVqq9mxYoV+btPvCyd+16e7Pn6bW8c49EMU3H37hPpe2RErc7ZmaY0pu+fQFuVG/LH9e/M\\\n",
       "n3/wz3P++eebt8uYqev18+Ps4tatW5eDDjooxxxzTG666aad3rZ06dJ85jOfSbLtO6unn356Xv3q\\\n",
       "V+dlL3tZZswY+J+Qjo6OzJo1K8997nPzox/9qN/jVqxYkQ996EPPevxLX/pSmpr6//EOAACA0ero\\\n",
       "6MgZZ5yR9vb27LnnnrVezi7vK1/5St7xjjPTufsfpWefjyebB/i6cwLGM/S1g7e/FQ11Bu/Tj6tO\\\n",
       "78pxX/7X3P6WRene0jDo6yV9r3WoM4H7O7a/1x3J6yR5VuB9PI/n3Mp5+efGK7Ly0pU5/fTTB3g2\\\n",
       "DJ/Ayy5voMDb3t6eP/7jP87VV1+90+MNDQ05/vjjs3Tp0rz+9a/v97VPPfXUrF69Ovfee28OOeSQ\\\n",
       "Po/pawfvAQcckE2bNvk/WIzaxo0b09bWlne0nZ6WB/cd9Piu6VvzrZX/kVef+bI0bBn8hzw2zn4o\\\n",
       "l7Z+Ja2trWlpaRmLJbML2X597tPalmktD6aua3pmXr8yj55wZnobtuSpjbPzcFur62scbP/Yt7a1\\\n",
       "peXBB2u9nEmha/r0XL9yZU4488w0/PYneHZ1G2fPTlurv4Mjtf3v2Ztb27Jvy8B/z7Z2Tc+t16/M\\\n",
       "y084M/UNA19/D22cnSt8bmQMbd68ObNmzRJ4J5EHHnggZ555Ztbe9d/5dWVl0njcsw8aQdxNhhd4\\\n",
       "hxs2d7XAO9BrJb+LvDfkpvzpXksz94Vz808r/ynz5s0b4FkwMkY0wACam5uzatWq/OQnP8nXvva1\\\n",
       "fOtb38ptt92Wjo6OXHfddbnuuuvyvve9L3/3d3/X5/NPO+20rF69OldddVWWL1/e5zG77bZbdttt\\\n",
       "t2c93tDQkIaGhj6eAUNXrVbT09OTamd1SMF2u4Yt9UM6vtr529evVl2vDNv267O32pnepwWN3oYt\\\n",
       "235VO11f4+R3nxs6xcxnaNiyxcfkt6qd/g6Oxo6/Z9XOQaPtdvUNWwY9tupzI2PMdTT5zJs3Lzfc\\\n",
       "cEM+85nPZPny12dr9x/nqekfSyq/zYkjnK87nuMZJuOs3kczNusa6HUGGtWwKT350H7vy2W/vjwf\\\n",
       "/euP5qyzzjKSgXHjyoIheN7znpfly5fn+uuvz2OPPZavf/3rOeyww5Ikf//3f5+f/vSnfT7vwAMP\\\n",
       "TJL84he/mLC1ApRm68Oz8tSGOXlq4+wkyVMbZ+epDXOy9eFZNV4ZAEBtVCqVnH322fnBD9bmpS/4\\\n",
       "YWZ1LUw6bxr0eWN1c7XJYLxuctbfh2igccfD9e3cmJfu/YLc87wfZ+0P1ubss88WdxlXdvDCME2b\\\n",
       "Ni2ve93rMmvWrLz0pS9Nb29v7rrrrsyfP/9Zx15zzTVJkpNPPnmilwkw6TU1NaW+oZJHr1qcZNsX\\\n",
       "MnMWJg+3taanpydJUt9QMY8cANhlzZ8/PzfeeGMuuuiinHvuyanreUd+0/vRpG54txXrb/fucA3n\\\n",
       "rH2NZxgv432jtaHu4n0iT+T/7L48/9z7hXx0hV27TByBF0bogAMO2PG/+7vh2tVXX50999wzxx9/\\\n",
       "/EQtC6AYzc3NOXvpsnR0bJtP1t3dnTVr1qS1tTXVajXJtgjc3Nxcy2UCANRUpVLJOeeck0WLFqW1\\\n",
       "tTX3/WRhNnV8PN11i5O6uh3HjWT37kjmzk5lj2VkIyt605urql/N/9ljeQ5ceEDWrlzb5yYwGC++\\\n",
       "jQB9GMq9B1etWpUk2WOPPfIHf/AHz3r7nXfemXXr1uWkk07KtGnTxnqJAFNCc3Nz5syZkzlz5uy4\\\n",
       "WVBLS8uOx8RdAIBt5s+fn5tuuil//X8/kH13X5a5M49OpeeGJCO7sdquoL8xDyOZZNHfa91S+fe8\\\n",
       "cu+jsnzfd+eDH/9AbrzxRnGXCSfwQh/+6q/+KkuWLMndd9/9rLdt2bIlF154Yd773vcmST760Y/2\\\n",
       "+ePD2wPwaaedNp5LBQAAYBdRqVTyrne9K/fff3/+7E/fmD3q3pjnzzkxvblj2K81FjdXq4WxnJU7\\\n",
       "Gj/IHXnLvq/Jn+yxOG963+Lcf//9ede73mUkAzXhqoM+3Hrrrfnc5z6XI444IvPmzcupp56aM844\\\n",
       "I8cee2z233//nHPOOUmST3/60znrrLP6fI1Vq1Zl2rRpWbRo0UQuHQAAgCmuqakp5557bh544IGc\\\n",
       "cvILU9/w8iw49M1J7t/puJHs3u1vPEN/M26n2jiHgQLyo0l+lvvzv1venFOnvzy//44X5YEHHsi5\\\n",
       "557rvhHUlMALffj85z+fT3/60znllFMyffr03HrrrfnKV76Su+66K4ccckjOO++83HvvvVm2bFmf\\\n",
       "z1+3bl3Wrl2b4447LnvuuecErx4AAIBdwcyZM/Pxj3889913X446eo9U6l+QFyw8K729G2q9tAnX\\\n",
       "39iFsRrT8HA25G9bzspxjS/I3q/fI/fdd18+9rGPZebMqZa4KZGbrEEfFixYkAULFvQbcAdjPAMA\\\n",
       "AEnyyMOzBj2mu7sxSfLQxtmpVjtH/XrArmf//ffPxRdfnPe+9735q7/6q9x9z7zMmvnm/HrDu1Pp\\\n",
       "/b1nHV/qeIaJ8vSbrd1T9/189UUXZNU9V2TR/1yU73/4+1mwYEEtlwfPIvDCOFi1alXq6upy6qmn\\\n",
       "1nopkCTZNKu/71vvrLuxO0mycfZDqXZWx+x1AWBX09TUlIaGSv71qsWDHlupVLJwYXJFW2t6enoG\\\n",
       "Pb6hoeJHgYE+LViwIFdeeWXuueee/OM//mMuu+x/5oADX5Jq97vz3z85JXWDZCB7UbfZmq25brfV\\\n",
       "+f8O+oes/fmavP2ot+eOy+/IoYceWuulQZ8EXhhjjzzySG699dYcddRRmTNnTq2Xwy6uqakpDZWG\\\n",
       "XLX42iEdX6lUsjALc2nrV4b0BWaSNFQafJEJAM/Q3NycpUuXpaOjY9Bju7u7s2bNmrS2tqZaHfwb\\\n",
       "rE1NTWlubh6LZQJT1GGHHZbPfvaz+fCHP5xLLrkkF130njTuc07m7n9mfvX9dyaZO6zX62/+bume\\\n",
       "yM7v2/r8LDe+6J9y1S/b0jC9PmefeXa+8SdX5znPseeZyU3ghTG29957Z+vWEUyyh3HQ3NycpcuW\\\n",
       "DumLy2T4X2AmvsgEgP40NzcP6d/Irq6uJElLS0saGhrGe1nALmTmzJl5//vfn/e+97257rrr8vnP\\\n",
       "fz53/vCQLHjecZnWeWYeemBRKtljzM+7+5i/4ug8mv53J/8mm/Pd3b6Zb81fmdt+cmNe99zX5ZK/\\\n",
       "uTgnnnjikL8mgloTeAGmuKF+cZn4AhMAAKaiarWaRYsWZdGiRVm/fn0uvfTSXH75h7Jx2tvzvIOO\\\n",
       "zaP/fUoqna9PcuCwXne4Ix3GagTE02fkPt0zd+T256H8PN+bfk3+a4/V+a9Hb8zB8w7O2976tny5\\\n",
       "9VI/iUuRBF52eXvttVfOP//8zJ07t9ZLAQAAgHG133775YMf/GA++MEP5v77788111yT1au/mltv\\\n",
       "/fNs3ePwTH/ylEzreH2acmTqUpmQNT2RZHofjw+083Y4etKTH2dNfvC81fmPzmty34a784qXviKn\\\n",
       "v/71uez1F+Xggw8eg7NA7Qi87PL22muvrFixotbLAAAAgAl18MEH5z3veU/e85735LHHHss3v/nN\\\n",
       "XHPNNfnmN09ItdKUA2eenI4HXp663iPTlAWpSxkjC3rSnV/lx/ll85qsm3Vr/vPRr+fJno6cdORJ\\\n",
       "Oe+U5Xnta19rri5TisALAAAAsIt7znOekzPOOCNnnHFGurq6csstt+TrX/96vvvdz+X7378zvT3J\\\n",
       "fnv/XnbvPTLdm45MY9eR2SsLUqlxWurO1mzIj/LfWZNfTrsjD89ak/seuTN1leT3Dv+9HH300Xn3\\\n",
       "yZfnFa94hTF0TFkCLwAAAAA7NDQ05Pjjj8/xxx+fZNvNmH/84x9nzZo1v/11cb7//bNyd1dv5uz1\\\n",
       "e5mxdWHym/+R+qfmZLfMyXOyX6ZnTnbLPqmMctdvT7rzmzyczdmQzVmfzdmQx7Mhvc/5VX5VvzYP\\\n",
       "/HptKtW6vOjFL8qRLzkyRx75ZznyyCOzYMECN0ljlyHwAgAAANCvarWaww8/PIcffnje/va3J9kW\\\n",
       "fe+9996sWbMmd999d9av/0k2bLg5GzZsyI9/viHtjz+aSl01ezTum93r56Sxd780bX1O6nrqU9fT\\\n",
       "kPTUp9JVyf2fX5dfdl+ban1Peitd6a1szVP1j+U3deuzeeuGbO58KN293dlrj5mZ3TIn++0/J//j\\\n",
       "gDnZb7/98keHn5Ujjzwyz3/+88VcdmkCLwAAAADDUq1Wc9hhh+Wwww7r8+2dnZ158MEHs2HDhh2/\\\n",
       "fv3rX2fr1q07fnV1dSV5fl6wsCH19fU7fu21116ZM2fOjl+zZ89OY2PjxL6DUBCBFwAAAIAx1djY\\\n",
       "mLlz52bu3Lm1XgpMeZVaLwAAAAAAgJEReAEAAAAACiXwAgAAAAAUSuAFAAAAYFx86lOfyuGHH54Z\\\n",
       "M2Zkr732yvHHH5/vfve7tV4WTCkCLwAAAADj4rnPfW4++clPZu3atbntttty8MEH58QTT8wjjzxS\\\n",
       "66XBlCHwAgAAADAu3vjGN+bEE0/M/Pnzc9hhh+UTn/hE2tvb88Mf/jBJMn/+/NTV1fX569/+7d9q\\\n",
       "vHoog8ALAAAAwLh76qmn8vnPfz7Pec5z8oIXvCBJcsUVVyRJbr/99mzYsGHH+Ibbb789r3rVq2q2\\\n",
       "VihJfa0XAAAAAMDUdcstt+Skk07Kli1bMnv27Fx//fWZOXNmkuShhx7KjBkzcuSRR6auri7f+973\\\n",
       "dvo9MDg7eAEAAAAYNy95yUty55135rbbbstJJ52UN73pTdm0aVOS5K677srhhx++I+b+4Ac/yBFH\\\n",
       "HCHuwjAIvAAAAACMm+nTp+fggw/O0UcfnUsuuSSVSiVtbW1Jkh/+8Ic7xjUkydq1a3f6PTA4gRcA\\\n",
       "AACACdPb25snn3wyybYdvEccccSOt911110CLwyTGbwAAAAAjIvly5fnlFNOyf77759HH300n/nM\\\n",
       "Z/LLX/4yixcvztatW/PjH/94R9Dt7e3NAw88kAMPPLDGq4ay2MELAAAAwLhYv3593vzmN+eQQw7J\\\n",
       "okWLsnHjxtxyyy059NBDc9999+Wpp57asYO3rq4uRxxxRJYsWZL777+/xiuHctjBCwAAAMC4+OIX\\\n",
       "v9jv2w477LD09vbu9Ngdd9wx3kuCKccOXgAAAACAQgm8AAAAAACFMqIBAAAAgDFXV1c3Jq/zzDEO\\\n",
       "wM4EXgAAAADGnDALE8OIBgAAAAAmxEc+8pG85CUvyR577JGWlpa86U1vyrp162q9LCiawAsAAADA\\\n",
       "hPj2t7+dc845J9/97ndz7bXX5tFHH81JJ52UrVu31nppUCwjGgAAAACYENdee+1Ov7/44oszb968\\\n",
       "3HPPPVm4cGGNVgVls4MXAAAAgJpob29PksycObPGK4FyCbwAAAAATLju7u68733vy6JFi7L//vvX\\\n",
       "ejlQLCMaAAAAAJhQvb29WbJkSX7+85/nO9/5Tq2XA0UTeAEAAACYML29vTnrrLPyrW99KzfffHP2\\\n",
       "2WefWi8JiibwAgAAADAhent7s3Tp0nzjG9/It7/97RxwwAG1XhIUT+AFAAAAYEIsXbo0X/7yl3PN\\\n",
       "Nddk+vTpefDBB5Nsu8natGnTarw6KJPACwAAAMCE+OxnP5skecUrXrHT4zfeeGOOPfbYGqwIyifw\\\n",
       "AgAAADAhent7a70EmHIqtV4AAAAAAAAjI/ACAAAAABRK4AUAAAAAKJTACwAAAABQKIEXAAAAAKBQ\\\n",
       "Ai8AAAAAQKEEXgAAAACAQgm8AAAAAACFEngBAAAAAAol8AIAAAAAFErgBQAAAAAolMALAAAAAFAo\\\n",
       "gRcAAAAAoFACLwAAAABAoQReAAAAAIBCCbwAAAAAAIUSeAEAAAAAClVf6wUAAFAbD8+aVeslTBrd\\\n",
       "jY1Jko2zZ6fa2Vnj1UwOrg8AgDIIvAAAu5impqY0VCq5avHiWi9l0qhUKlmYpK21NT09PbVezqTR\\\n",
       "UKmkqamp1ssAAGAAAi8AwC6mubk5S5ctS0dHR62XMml0d3dnzZo1aW1tTbVarfVyJo2mpqY0NzfX\\\n",
       "ehkAAAxA4AUA2AU1NzcLd0/T1dWVJGlpaUlDQ0ONVwMAAEPnJmsAAAAAAIUSeAEAAAAACiXwAgAA\\\n",
       "AAAUSuAFAAAAACiUwAsAAAAAUCiBFwAAAACgUAIvAAAAAEChBF4AAAAAgEIJvAAAAAAAhRJ4AQAA\\\n",
       "AAAKJfACAAAAABRK4AUAAAAAKJTACwAAAABQKIEXAAAAAKBQAi8AAAAAQKEEXgAAAACAQgm8AAAA\\\n",
       "AACFEngBAAAAAAol8AIAAAAAFErgBQAAAAAolMALAAAAAFAogRcAAAAAoFACLwAAAABAoQReAAAA\\\n",
       "AIBCCbwAAAAAAIUSeAEAAAAACiXwAgAAAAAUSuAFAAAAACiUwAsAAAAAUCiBFwAAAACgUAIvAAAA\\\n",
       "AEChBF4AAAAAgEIJvAAAAAAAhRJ4AQAAAAAKJfACAAAAABRK4AUAAAAAKJTACwAAAABQKIEXAAAA\\\n",
       "AKBQAi8AAAAAQKEEXgAAAACAQgm8AAAAAACFEngBAAAAAAol8AIAAAAAFErgBQAAAAAolMALAAAA\\\n",
       "AFAogRcAAAAAoFACLwAAAABAoQReAAAAAIBCCbwAAAAAAIUSeAEAAAAACiXwAgAAAAAUSuAFAAAA\\\n",
       "ACiUwAsAAAAAUCiBFwAAAACgUAIvAAAAAEChBF4AAAAAgEIJvAAAAAAAhRJ4AQAAAAAKVV/rBQAA\\\n",
       "AEwm7e3t6ejomLDzdXd3J0k2btyYarU6YedtampKc3PzhJ0PABgfAi8AAMBvtbe356ILLkhXT8+E\\\n",
       "nbNSqWThwoVpa2tLzwSet6FSydJly0ReACicwAsAAPBbHR0d6erpyRuuvDL7bNo0IefsbmzMmk99\\\n",
       "Kq1tbal2dk7IOR+eNStXLV6cjo4OgRcACifwAgAAPMM+mzZlzoYNE3KurunTkyQtDz6Yhi1bJuSc\\\n",
       "AMDU4SZrAAAAAACFEngBAAAAAAol8AIAAAAAFErgBQAAAAAolMALAAAAAFAogRcAAAAAoFACLwAA\\\n",
       "AABAoQReAAAAAIBCCbwAAAAAAIUSeAEAAAAACiXwAgAAAAAUSuAFAAAAACiUwAsAAAAAUCiBFwAA\\\n",
       "AACgUPW1XgAAMLW1t7eno6Nj0OO6u7uTJBs3bky1Wh30+KampjQ3N496fUxtrj8AAKY6gRcAGDft\\\n",
       "7e256MIL0rW1Z9BjK5VKFi5cmLa2tvT0DH58Q30lS89eJrLRr/b29lx0wUXp6uka9NhhX3+Vhixd\\\n",
       "ttT1BwBAzQm8AMC46ejoSNfWnryh7srsk00DHttd15g1+VRa69pSresc8NiHMytXbV2cjo4OgY1+\\\n",
       "dXR0pKunK//zyjdkz037DHhsT2N3Nn5qTU5oa02lc+AdvJtnPZzvLL7K9QcAwKQg8AIA426fbMqc\\\n",
       "ug0DHtNVNz1J0lL3YBrqtgz8gr1jtTJ2BXtu2id7b5gz4DHd07uyMcnMB1tS3dIwMQsDAIAx4CZr\\\n",
       "AAAAAACFEnhhjD3yyCNZsmRJLrzwwlovBQAAAIApTuBlUlq3bl3q6upy7LHH7vT4S17yktTV1Q3r\\\n",
       "1z77DDxzb6ztvffeufbaa3Peeeelq2vwm7pALbW3t2fDhg07fm3cuDHJtrvIP/3x9vb2Gq8UAAAA\\\n",
       "6IsZvBSjt7c3L3rRi3LEEUfs9PjPfvaz3HzzzZkxY0YWL178rOctWLBgopa4w6mnnpoLLrggN9xw\\\n",
       "Q0488cQJPz8MRXt7ey76xwvS1f27u8X3dxf5hmolS89Z5mZCAAAAMMkIvBSjrq4uF1988bMe/5u/\\\n",
       "+ZvcfPPNOfroo3PppZdO/ML6cNppp+WCCy7IqlWrBF4mrY6OjnR19+QNv7gy+3RuSpJ01zdmzcJP\\\n",
       "pfWnbalu7UySPNw4K1cdsNjd4gEAAGASMqKB4n3/+99Pkrz4xS+u8Up+55WvfGVmzpyZ1atXp7fX\\\n",
       "rd6Z3Pbp3JQ5nRsyp3NDWp58MEnS8uSDOx7bHn8BAACAyUfgpXh33HFHkuRFL3pRjVfyO9VqNSef\\\n",
       "fHLWr1+f733ve7VeDgAAAABTlBENFO2xxx7LunXrkkyuHbzJtjENl112WVatWpWjjz663+OefPLJ\\\n",
       "PPnkkzt+v3nz5iRJV1eXm7Qxrrq7u1OpVNJd35iuhulJkq76nf+bbBvbUKlU0t3d7Zpk2HZcZ3WN\\\n",
       "6aqbPuCxXZXpO/13wNftbUyl13XJwLZffz2N3emePvB1sv3tgx2XJD2N3T4vTmE7Pm81NqZr+uCf\\\n",
       "j8bC9vNM1PmSpLvRv+9s488foHx1vX5+nElo3bp1Oeigg3LMMcfkpptu6ve4G264Ia961asyY8aM\\\n",
       "tLe3p1KZPJvSOzo6MmvWrDz3uc/Nj370o36PW7FiRT70oQ896/EvfelLaWpqGs8lAgAAu7iOjo6c\\\n",
       "ccYZaW9vz5577lnr5QAwAnbwUrTt83df+MIXTqq4myRNTU054YQTsnr16tx333055JBD+jzuAx/4\\\n",
       "QP7iL/5ix+83b96cAw44IK95zWv8HyzG1caNG9PW1pbWn7btmL3bVT891/+vlTnhq2emYeuWbcft\\\n",
       "Njtt81vT2tqalpaWWi6ZAu24zura0lL34IDHdlWm5/rDVuaEe85MQ8+WgV+3d3bael2XDGz79XdC\\\n",
       "W2tmPjjwddI9vSv3rbw+h5x5QqpbGgY89tHZG3N9a5vrb4ra8XmrrS0tDw78eWusdE2fnutXrswJ\\\n",
       "Z56Zhi0Df/4bKxtnz05bq8+j/O4nCAEol8BL0UYzf/f9739/Vq9ePeznXXLJJXn5y18+pGNPO+20\\\n",
       "rF69OldddVWWL1/e5zG77bZbdtttt2c93tDQkIaGgb/AhNGoVqvp6elJdWtnGrp2/mKyYeuWHY9V\\\n",
       "q53bjqtWXZMM247rrK4zDXVDixYNPVsGDbzV3s709LouGdj266/SWR002u54zpaGQY+tdFZ9XpzC\\\n",
       "dnze6uycsNi6XcOWLRN2zmqnf9/Zxp8/QPkEXoq2fQfvSObvrl+/Pvfee++wn/fEE08M+dgDDzww\\\n",
       "SfKLX/xi2OcBAAAAgMEIvBSro6NjR6AdyQ7eyy+/PJdffvlYL2sn11xzTZLk5JNPHtfzwGg83Dhr\\\n",
       "x//urm9Msm0sQ7Xa+ay3AwAAAJOLwEux1q5dm56enkybNi2HH354rZfTp6uvvjp77rlnjj/++Fov\\\n",
       "BZ6lqakpDdVKrjpg8Y7HKpVKFiZpm9+anp6eHY83VCtu+gcAAACTkMBLsbbP3z3iiCMm5dyoO++8\\\n",
       "M+vWrcsf/uEfZtq0abVeDjxLc3Nzlp6zLB0dHTse6+7uzpo1a9La2ppqtbrj8aampjQ3N9dimQAA\\\n",
       "AMAABF6KNZr5uxNh1apVSbbdaA0mq+bm5p3CbVdXV5KkpaVlUn7jBAAAANhZpdYLgJHavoN3JPN3\\\n",
       "J8KqVasybdq0LFq0qNZLAQAAAGCKEngpUldXV+6+++4kk3MH77p167J27docd9xx2XPPPWu9HAAA\\\n",
       "AACmKCMaKFJDQ0OefPLJWi+jX8YzAOzs4cxKegc+pru3MUmysXd2qr2dg78eDNHmWQ8PekxPY3eS\\\n",
       "5NHZG1PprA547FBeDwAAJorAC+Ng1apVqaury6mnnlrrpQDUVFNTUxrqK7lq6+JBj630VrIwSVtv\\\n",
       "a3p6ewY9vqG+kqampjFYJVNVU1NTGioN+c7iqwY9tlKpZGEW5vrWtvT0DOH6qzS4/gAAmBQEXhhj\\\n",
       "jzzySG699dYcddRRmTNnTq2XA1BTzc3NWXr2snR0dAx6bHd3d9asWZPW1tZUqwPvoEy2xbun3yQQ\\\n",
       "nqm5uTlLly11/QEAMKUJvDDG9t5772zdurXWywCYNJqbm4cUwrq6upIkLS0taWhoGO9lsYtw/QEA\\\n",
       "MNW5yRoAAAAAQKHs4GVS2muvvXL++edn7ty5tV4KAAAAAExaAi+T0l577ZUVK1bUehkAAAAAMKkZ\\\n",
       "0QAAAAAAUCiBFwAAAACgUAIvAAAAAEChBF4AAAAAgEIJvAAAAAAAhRJ4AQAAAAAKJfACAAAAABRK\\\n",
       "4AUAAAAAKJTACwAAAABQKIEXAAAAAKBQAi8AAAAAQKHqa70AAACAyebhWbMm7FzdjY1Jko2zZ6fa\\\n",
       "2Tkh55zI9w8AGF8CLwAAwG81NTWloVLJVYsXT9g5K5VKFiZpa21NT0/PhJ23oVJJU1PThJ0PABgf\\\n",
       "Ai8AAMBvNTc3Z+myZeno6Jiwc3Z3d2fNmjVpbW1NtVqdsPM2NTWlubl5ws4HAIwPgRcAAOBpmpub\\\n",
       "JzR8dnV1JUlaWlrS0NAwYecFAKYGN1kDAAAAACiUwAsAAAAAUCiBFwAAAACgUAIvAAAAAEChBF4A\\\n",
       "AAAAgEIJvAAAAAAAhRJ4AQAAAAAKJfACAAAAABRK4AUAAAAAKJTACwAAAABQKIEXAAAAAKBQAi8A\\\n",
       "AAAAQKEEXgAAAACAQgm8AAAAAACFEngBAAAAAAol8AIAAAAAFErgBQAAAAAolMALAAAAAFAogRcA\\\n",
       "AAAAoFACLwAAAABAoQReAAAAAIBCCbwAAAAAAIUSeAEAAAAACiXwAgAAAAAUSuAFAAAAACiUwAsA\\\n",
       "AAAAUCiBFwAAAACgUAIvAAAAAEChBF4AAAAAgEIJvAAAAAAAhRJ4AQAAAAAKJfACAAAAABRK4AUA\\\n",
       "AAAAKJTACwAAAABQKIEXAAAAAKBQAi8AAAAAQKEEXgAAAACAQgm8AAAAAACFEngBAAAAAAol8AIA\\\n",
       "AAAAFErgBQAAAAAolMALAAAAAFAogRcAAAAAoFACLwAAAABAoQReAAAAAIBCCbwAAAAAAIUSeAEA\\\n",
       "AAAACiXwAgAAAAAUSuAFAAAAACiUwAsAAAAAUCiBFwAAAACgUAIvAAAAAEChBF4AAAAAgEIJvAAA\\\n",
       "AAAAhRJ4AQAAAAAKJfACAAAAABRK4AUAAAAAKJTACwAAAABQKIEXAAAAAKBQAi8AAAAAQKEEXgAA\\\n",
       "AACAQgm8AAAAAACFEngBAAAAAAol8AIAAAAAFErgBQAAAAAolMALAAAAAFAogRcAAAAAoFACLwAA\\\n",
       "AABAoQReAAAAAIBCCbwAAAAAAIUSeAEAAAAACiXwAgAAAAAUSuAFAAAAACiUwAsAAAAAUCiBFwAA\\\n",
       "AACgUAIvAAAAAEChBF4AAAAAgEIJvAAAAAAAhRJ4AQAAAAAKJfACAAAAABRK4AUAAAAAKJTACwAA\\\n",
       "AABQKIEXAAAAAKBQAi8AAAAAQKEEXgAAAACAQgm8AAAAAACFEngBAAAAAAol8AIAAAAAFErgBQAA\\\n",
       "AAAolMALAAAAAFAogRcAAAAAoFACLwAAAABAoQReAAAAAIBCCbwAAAAAAIUSeAEAAAAACiXwAgAA\\\n",
       "AAAUSuAFAAAAACiUwAsAAAAAUCiBFwAAAACgUAIvAAAAAEChBF4AAAAAgEIJvAAAAAAAhRJ4AQAA\\\n",
       "AAAKJfACAAAAABRK4AUAAAAAKJTACwAAAABQKIEXAAAAAKBQAi8AAAAAQKEEXgAAAACAQgm8AAAA\\\n",
       "AACFEngBAAAAAAol8AIAAAAAFErgBQAAAAAolMALAAAAAFAogRcAAAAAoFACLwAAAABAoQReAAAA\\\n",
       "AIBCCbwAAAAAAIUSeAEAAAAACiXwAgAAAAAUSuAFAAAAACiUwAsAAAAAUCiBFwAAAACgUAIvAAAA\\\n",
       "AEChBF4AAAAAgEIJvAAAAAAAhRJ4AQAAAAAKVV/rBQA76+3tTZJs3ry5xithV9TV1ZWOjo5s3rw5\\\n",
       "DQ0NtV4OuxjXH7Xk+qOWXH/U0vavO7Z/HQJAeQRemGQef/zxJMkBBxxQ45UAAAC7iscffzzNzc21\\\n",
       "XgYAI1DX69t0MKn09PRk/fr12WOPPVJXV1fr5QAAAFNYb29vHn/88ey3336pVExxBCiRwAsAAAAA\\\n",
       "UCjfngMAAAAAKJTACwAAAABQKIEXAAAAAKBQAi8AAAAAQKEEXgAAAACAQgm8AAAAAACFEngBAAAA\\\n",
       "AAol8AIAAAAAFErgBQAAAAAolMALAAAAAFAogRcAAAAAoFACLwAAAABAoQReAAAAAIBCCbwAAAAA\\\n",
       "AIUSeAEAAAAACiXwAgAAAAAUSuAFAAAAACiUwAsAAAAAUCiBFwAAAACgUAIvAAAAAEChBF4AAAAA\\\n",
       "gEIJvAAAAAAAhRJ4AQAAAAAKJfACAAAAABRK4AUAAAAAKJTACwAAAABQKIEXAAAAAKBQAi8AAAAA\\\n",
       "QKEEXgAAAACAQgm8AAAAAACFEngBAAAAAAol8AIAAAAAFErgBQAAAAAolMALAAAAAFAogRcAAAAA\\\n",
       "oFACLwAAAABAoQReAAAAAIBCCbwAAAAAAIUSeAEAAAAACiXwAgAAAAAUSuAFAAAAACiUwAsAAAAA\\\n",
       "UCiBFwAAAACgUAIvAAAAAEChBF4AAAAAgEIJvAAAAAAAhRJ4AQAAAAAKJfACAAAAABRK4AUAAAAA\\\n",
       "KJTACwAAAABQKIEXAAAAAKBQAi8AAAAAQKEEXgAAAACAQgm8AAAAAACFEngBAAAAAAol8AIAAAAA\\\n",
       "FErgBQAAAAAolMALAAAAAFAogRcAAAAAoFACLwAAAABAoQReAAAAAIBCCbwAAAAAAIUSeAEAAAAA\\\n",
       "CiXwAgAAAAAUSuAFAAAAACiUwAsAAAAAUCiBFwAAAACgUAIvAAAAAEChBF4AAAAAgEIJvAAAAAAA\\\n",
       "hRJ4AQAAAAAKJfACAAAAABRK4AUAAAAAKJTACwAAAABQKIEXAAAAAKBQAi8AAAAAQKEEXgAAAACA\\\n",
       "Qgm8AAAAAACFEngBAAAAAAol8AIAAAAAFErgBQAAAAAolMALAAAAAFAogRcAAAAAoFACLwAAAABA\\\n",
       "oQReAAAAAIBCCbwAAAAAAIUSeAEAAAAACiXwAgAAAAAUSuAFAAAAACiUwAsAAAAAUCiBFwAAAACg\\\n",
       "UAIvAAAAAEChBF4AAAAAgEIJvAAAAAAAhRJ4AQAAAAAKJfACAAAAABRK4AUAAAAAKNT/DyXJwkQ+\\\n",
       "ufGEAAAAAElFTkSuQmCC\\\n",
       "\"\n",
       "  frames[2] = \"data:image/png;base64,iVBORw0KGgoAAAANSUhEUgAABXgAAAPoCAYAAABkvZZOAAAAOnRFWHRTb2Z0d2FyZQBNYXRwbG90\\\n",
       "bGliIHZlcnNpb24zLjEwLjMsIGh0dHBzOi8vbWF0cGxvdGxpYi5vcmcvZiW1igAAAAlwSFlzAAAP\\\n",
       "YQAAD2EBqD+naQAAvINJREFUeJzs3Xl4U2X6xvE7TVPaUiirUGQTFRGQRRBc2RxFEAEHf7gwCsVd\\\n",
       "FB11FHGDUQG3URDctaCjDjoqggpubAIuiIAoi4gwohSQrVja0jTN74+akKRZTrYmp/1+rquXTfKe\\\n",
       "97xJD629++R5LU6n0ykAAAAAAAAAgOmkJHoBAAAAAAAAAIDIEPACAAAAAAAAgEkR8AIAAAAAAACA\\\n",
       "SRHwAgAAAAAAAIBJEfACAAAAAAAAgEkR8AIAAAAAAACASRHwAgAAAAAAAIBJEfACAAAAAAAAgEkR\\\n",
       "8AIAAAAAAACASRHwAgAAAAAAAIBJEfACAAAAAAAAgEkR8AIAAAAAAACASRHwAgAAAAAAAIBJEfAC\\\n",
       "AAAAAAAAgEkR8AIAAAAAAACASRHwAgAAAAAAAIBJEfACAAAAAAAAgEkR8AIAAAAAAACASRHwAgAA\\\n",
       "AAAAAIBJEfACAAAAAAAAgEkR8AIAAAAAAACASRHwAgAAAAAAAIBJEfACAAAAAAAAgEkR8AIAAAAA\\\n",
       "AACASRHwAgAAAAAAAIBJEfACAAAAAAAAgEkR8AIAAAAAAACASRHwAgAAAAAAAIBJEfACAAAAAAAA\\\n",
       "gEkR8AIAEmLChAmyWCyyWCyaMGFCopdjSosXL3a/hn369Kny88+cOdN9/lGjRlX5+ZNNor8eSD6t\\\n",
       "W7d2XxPbtm1L9HIAAABQTRHwAkCS69Onjzsg8PdRp04dtWzZUuedd54mTZqk3377LdFLBgBUY599\\\n",
       "9pmuuOIKtW3bVrVr11aDBg3UqVMn/eMf/9DGjRtNc/7S0lJ9+umnuuuuu3TOOeeoRYsWysjIUEZG\\\n",
       "hpo3b64BAwbo8ccf1759++L4bAAAAKJHwAsAJldYWKjt27fro48+0t13361jjjlGEydOlNPpTPTS\\\n",
       "APjh+QcaVL1Ro0a5X/+ZM2cmejmmcvDgQV1yySX6y1/+oldffVWbN29WUVGR9u/fr3Xr1umxxx5T\\\n",
       "p06dNHny5KQ//x133KEmTZronHPO0ZQpU/Tpp5/q119/VUlJiUpKSvTbb79pwYIFuv3229WyZUs9\\\n",
       "88wzcXlOAAAAsZCa6AUAAIw75ZRT1KNHD6/7CgoKtHbtWq1bt06SZLfbNWHCBB04cEBPPPFEIpYJ\\\n",
       "AKhm7Ha7LrzwQi1cuNB9X8eOHXXyySerpKREn3/+ufLz82W32zV+/HjZ7Xbdd999SXv+uXPn6sCB\\\n",
       "A+7btWvXVs+ePXX00UcrLS1Nmzdv1hdffCG73a5Dhw7phhtu0C+//BK38BoAACAaBLwAYCIDBw4M\\\n",
       "2K92xYoVuvTSS/XLL79Ikp588kmNGDFC3bt3r8IVAjVXnz59qJyHl+rUd/eBBx5wh6vp6enKy8vT\\\n",
       "JZdc4n68tLRU99xzjx599FFJFX3We/furd69eyft+VNTUzVs2DBdeeWV6tu3r1JTvX81+uWXXzR6\\\n",
       "9Gh99tlnkqQpU6aoV69eGjBgQEyeEwAAQKzQogEAqonTTz9d7733ntfbvp9//vkErggAUB3s3r1b\\\n",
       "//rXv9y3n3zySa9wVZLS0tL0yCOP6OKLL5YkOZ1O3XXXXUl7/ksuuUSbNm3Sf/7zH51zzjmVwl1J\\\n",
       "atmypT744AOdcsop7vv++c9/Rvt0AAAAYo6AFwCqkS5duqhPnz7u20uXLk3cYgAA1cKsWbN06NAh\\\n",
       "SVLbtm11zTXXBBz7yCOPKCWl4leML774QqtXr07K80+YMEFt2rQJee5atWpp4sSJ7ttfffWV9u7d\\\n",
       "G87yAQAA4o6AFwCqmS5durg/37Fjh6FjNmzYoPHjx6tHjx5q0qSJ0tLS1LhxY/Xs2VP33Xef4Xlc\\\n",
       "Fi1apMsuu0ytWrVSenq6cnJydNZZZ+npp59WUVGR4XnC3Qxp5syZ7vGjRo0ydI7vvvtO48aNU8+e\\\n",
       "PdW0aVOlpaUpKytLJ5xwgi6++GK99NJLKigoCDnP3r179fjjj7t3Yk9PT1e9evXUvn17jRkzRt98\\\n",
       "842h9bhs3rxZt9xyi9q1a+feJb5Lly6677779Ouvv4Y1VyS+/fZbXX311WrTpo0yMjLUuHFj9ejR\\\n",
       "Q4888khUO8qvXLlSf//739WlSxc1btxYaWlpatq0qXr37q2HH35Y+/fvDzlH69at3V9n11vgf/31\\\n",
       "V917773q3Lmz6tWrp9q1a6tdu3a66aab9L///c/Q2goLC/Xss8/q/PPPV8uWLZWZmSmbzabs7Gy1\\\n",
       "a9dOF1xwgSZNmqTvv//e7/GLFy92r8vzDy2+j3ny3HDN82Pbtm0qLS1V48aN3fd98cUXhp6HJPXu\\\n",
       "3dt93LRp0wwf56tPnz7ueRYvXixJys/P18SJE9W1a1c1aNBA6enpateuncaNG+f32vj11181fvx4\\\n",
       "de3aVfXr11edOnXUpUsXTZo0ScXFxYbWsWHDBj3xxBP661//qhNOOEF16tSRzWZT48aN1b17d/39\\\n",
       "73/X+vXrg87hum5mzZrlvi83N9fv6+/bCifQ6zBp0iT16NFDTZs2ldVqVb169fye0/NadSktLdXJ\\\n",
       "J5/sfnzgwIEhX4e3337bPd5ms+nLL78MeUwszJkzx/256/tyIC1btlS/fv3ct999913Tn/+MM85w\\\n",
       "f+50Og1/Twkmnj/fVq5cqRtvvFEnn3yy6tevr9TUVGVkZCgnJ0ennnqqrr/+er355pvu0BwAAFQD\\\n",
       "TgBAUuvdu7dTklOS8/777w85fvz48e7xNpst6NiSkhLntdde67Rare5j/H1kZGQ4n3rqqZDnttvt\\\n",
       "ztGjRwedq3379s6NGzc677///pDPa+TIke4xeXl5Ic+fl5fnHj9y5MigY/fv3++8+OKLnRaLJeh6\\\n",
       "JTmbNGkSdK7p06c7s7Ozg85hsVico0ePdh4+fDjk85gxY4YzPT094Fz16tVzzp0717lo0SL3fb17\\\n",
       "9w45r1F333130GuiefPmzi+++CKs13vfvn3OYcOGhXyt69Wr53zrrbeCztWqVSv3+K1btzrffffd\\\n",
       "oK9/RkaG8/333w8654oVK5xHH310yPW5Pux2e6U5gn09PB8z8rF161an0+l03nbbbe77rrrqqqDP\\\n",
       "weXHH390H1OrVi3n3r17DR3nj+f3n0WLFjk/+ugjZ8OGDQOuu1WrVs5t27a5j3/ppZectWrVCji+\\\n",
       "Q4cOzt27dwddw//93/8Zes0sFovzlltucZaVlfmdx/O6CfXh+z3J93WYM2eOs379+pWOy87ODnhO\\\n",
       "19fU04YNG5yZmZnuMdOmTQv4Omzfvt3rnBMnTgz6usVKcXGxMyUlxX3eFStWhDzmoYceco8/44wz\\\n",
       "TH1+p9PpPHjwoNfX+euvv456znj8fLPb7c5rrrnG8HV+9913R/08AABAcmCTNQCoZjyrbZs0aRJw\\\n",
       "3KFDh9S/f38tX77cfd+xxx6rbt26qX79+tq3b5+WL1+uHTt2qLi4WDfddJMOHjyo8ePHB5zziiuu\\\n",
       "0BtvvOG+Xa9ePfXt21cNGzbUL7/8osWLF2v9+vUaOHCgBg8eHOUzjdyOHTvUr18/bdq0yWutZ5xx\\\n",
       "hnJycmS32/XLL79o1apVOnjwoEpKSgLOdcstt2jq1Knu240aNdJpp52mpk2bqqSkRKtXr9b3338v\\\n",
       "p9Opl19+WTt27NAHH3zgfguxr+eee05jxoxx37bZbOrTp49atWqlffv2afHixdq3b58uuugiTZo0\\\n",
       "KQavhrfx48d77RKfmZmpfv36KScnRzt37tTChQv166+/auDAgbrlllsMzblz507169dPGzZscN/X\\\n",
       "oUMHde7cWVlZWdq9e7c+//xz7d27VwcOHNDw4cP16quvasSIESHn/vTTT3XdddfJ4XCoZcuWOu20\\\n",
       "01S3bl1t3bpVixcvVllZmYqLizV8+HB9//33OuaYYyrNsX37dvXv319//PGHpIrX/JRTTtFxxx2n\\\n",
       "zMxMHTp0SNu2bdPatWt18OBBQ8/Z19FHH+3+us6YMcN9v+fX2lPdunUlSddcc40ef/xxSdLs2bP1\\\n",
       "5JNPqnbt2kHP9fLLL7s//+tf/6oGDRpEtGZfa9as0fjx41VcXKzmzZvrjDPOUJ06dfTjjz/q888/\\\n",
       "d1c2DhgwQOvWrdPs2bN15ZVXSpKOP/549ejRQ+np6Vq3bp2+/vprSdIPP/ygyy+/XAsWLAh4XtfG\\\n",
       "kampqWrfvr2OP/541atXT1arVbt379bKlSv122+/yel06sknn9Thw4f19NNPV5pn5MiR2rt3rz77\\\n",
       "7DNt3LhRknT22WerXbt2lcb26NEj4HpWrFihCRMmyG63q2HDhurVq5caNWqk3bt3h92OoF27dnri\\\n",
       "iSd07bXXSpLuuOMO9e3bVx07dvQaV15erssvv9xd4X7GGWfo7rvvDutckdq0aZPKy8slVVScd+3a\\\n",
       "NeQxJ598svtzz3/3Zjy/JK1bt87rdosWLaKeMx7+8Y9/ePXeP/roo9WjRw81btxY5eXl2rt3r9av\\\n",
       "X+/1sw8AAFQTCQ6YAQAhhFPBa7fbnS1atHCPv+iiiwKOveKKK9zj2rZt61y0aFGlMWVlZc6nn37a\\\n",
       "XYFntVoDVk+98sorXpVBN954o7OoqMhrzI4dO5z9+vVzSnKmpaWFfF7xqnA644wzvKo7p0+f7iwt\\\n",
       "La009vDhw865c+c6hw4d6neul156yT1P3bp1nS+88ILfeRYuXOhVHfrwww/7ne/HH3/0qtzt3bu3\\\n",
       "c/v27V5jSkpKnLfcckul1zAWFbxLlizxqmi+6KKLnPv27fMac+DAAecll1xS6fyBXm+Hw+Hs27ev\\\n",
       "e1yPHj2c3377baVxxcXFzgkTJrjPX7t2befPP//sd07PqshatWo5a9eu7Xz11Ved5eXlXuO+//57\\\n",
       "r9c9NzfX73yu11OS86yzznL+9ttvfsfZ7Xbn4sWLnSNGjPBbJWq0otrz34kRnt8DXn755aBjy8rK\\\n",
       "nDk5Oe7xn332maFzGDl3rVq1nDabzTljxgynw+HwGrd48WJn7dq13WMnTZrkzMrKctatW9f53//+\\\n",
       "t9K8s2fP9qoSX7JkScA1jBs3zvnmm286CwoK/D5eXl7unDt3rrNx48bu+T7//POA84X7fcX3dUhN\\\n",
       "TXVaLBbnAw88UOnfe0lJidftUBW8LkOHDnWPO+mkkyrN41mRmp2dHXSuWJs9e7b73KHezeDyww8/\\\n",
       "eF3noaq0k/n8TqfTefXVV7vn6tChQ1RzucT659uePXucqamp7p/VM2fOrPQ90WXHjh3OadOmOV98\\\n",
       "8cUonwUAAEgWBLwAkOTCCXgfeOABr19qP/74Y7/jli5d6h5z7LHHOn///feg83r+YnneeedVetzh\\\n",
       "cHgFy6NGjQo4V1FRkbNTp05e66zKgPeFF15wj7HZbM6lS5eGnNefgwcPOuvVq+cOOr/88sug49ev\\\n",
       "X+8Obxs2bOg8dOhQpTGXXXaZV4jgb4zLVVdd5fUaxiLgPf30093znX322QHf6u5wOJznnnuu1/kD\\\n",
       "vd6ewf+pp55aKfT35dm647rrrvM7xjM0s1gszvnz5wec7/3333ePzcrK8ttaoVu3bu4xmzdvDrq+\\\n",
       "YOIV8L722mvu8aHebj537lyvf9uBAh6jPL//SAoaCD344INeYy0WS9CA2fMavv7666Nap9PpdH75\\\n",
       "5Zfu+YYPHx5wXLQBryTngw8+aOg4owHvnj17nM2aNXOPHTt2rPuxr776yh3cSXK+9tprhs4dK08/\\\n",
       "/bT73J06dTJ0zN69e71er40bN5r2/KtXr/b6Y8TTTz8d8VyeYv3zbd68ee7HR4wYEZM1AgAA82CT\\\n",
       "NQAwuYMHD+rzzz/XZZddpnvvvdd9/9///nedc845fo/517/+5f788ccfV6NGjYKeY9SoUe63MX/0\\\n",
       "0UeVdhD/6KOPtH37dklSRkaGHnvssYBzhXo83lxvd5ekW2+9VWeddVZE87z88ss6cOCAJOmGG25Q\\\n",
       "z549g44/8cQTNXLkSEkVG7L5viX9wIEDevvtt923H3nkEWVmZgac75FHHgn5Vv1wbNiwQStWrHDf\\\n",
       "njZtmqxWq9+xKSkpeuqpp4JudOTiea09++yzysjICDp+3Lhx7o2q3njjDfdbswMZNGiQzjvvvICP\\\n",
       "Dxw4UE2bNpVUsYmav7dre7ZdaNy4cdDzJcKwYcPcbRaWL18e9O3VL730kvvz0aNHG/oaGdW5c2d3\\\n",
       "ywV/Lr30Uq/bQ4YM8drsKth4V8uGaPTs2VMnnniiJOmzzz6Ler5AmjVrpjvvvDOmczZs2FCvvPKK\\\n",
       "++v11FNPaf78+SosLNSIESNUVlYmSRoxYoQuu+yymJ47lMLCQvfnof79BhrnOYeZzn/o0CFdfvnl\\\n",
       "cjgckqT27dvrqquuimiueEv272MAACC+CHgBwEQmTpxYabf37Oxs9erVy937tmHDhpoyZYpXsOap\\\n",
       "rKxMn3zyiaSKPp+DBg0ydO6+fftKkpxOp1ffXklatGiR+/OBAweqYcOGQef6y1/+oqOPPtrQeWPp\\\n",
       "f//7n7v3piTdeOONEc/14Ycfuj83Grh4hl3Lli3zemzFihU6fPiwJOmoo44KGlpKUv369WPax9jz\\\n",
       "a9itWze1b98+6Pi2bdvq1FNPDTomPz9fa9askVQRjHTu3DnkOtLT03XaaadJkgoKCvT9998HHf9/\\\n",
       "//d/QR+3WCxe5922bVulMZ79NJ999tmQa6xqtWrV0hVXXOG+7Rnietq1a5c++OADSZLVatWoUaNi\\\n",
       "uo6LLroo6ONt2rTx+qNDqPGefWa3bt1qaA0//vijXn/9dT3wwAO6/fbbddNNN+nGG290fxQUFEiq\\\n",
       "+COK649OsXbRRRcpNTX221icffbZ+sc//iGp4vtsbm6ucnNz9dNPP0mSWrdu7be3cLx59iBPS0sz\\\n",
       "dEytWrW8bhcXF5vu/K6vget7UK1atfTGG2/IZrOFPVdV8Pw+9s4772j37t0JXA0AAKhqbLIGANWI\\\n",
       "1WrVww8/HLTK7rvvvtOhQ4ckVWwmdfPNNxuae+XKle7PfYMTz42FXOFcMBaLRT179tQ777xj6Nyx\\\n",
       "8uWXX7o/P/7449W8efOI5/riiy/cnz///POaNWtWyGN+/fVX9+fBXsMePXoE3ITN02mnnea1qV00\\\n",
       "wv0ausZ5vg6+PB8rLi42HKhv2bLF/fn27dvVqVOngGNPOumkkPN5/sHB3yZpw4cP18KFCyVVVBB/\\\n",
       "8sknGjFihM4555yorpFYuuaaa/Tkk09Kkl555RVNmjSpUsg4a9Ysd6XnwIED1axZs5iuwXfjL3/q\\\n",
       "1avn/v7SoUOHoGM9N38LtXndBx98oHvvvTesTcz27NkTl82wunXrFvM5XR588EF99tlnWrVqlXbt\\\n",
       "2qX//ve/kiq+t7/22mvuzfeqUnp6uvvz0tJSQ8e4/ljlYrTyNpnOP27cOL311lvu288++2zQ70WJ\\\n",
       "duqpp6pFixbavn27fvnlF3Xo0EG5ubm64IIL1LNnT8PhOAAAMCcCXgAwkVNOOcVrd/fCwkL98ssv\\\n",
       "7upPh8Ohq666Sj///LMeeughv3Ps2LHD/fnevXs1Y8aMsNfh2snd5ffff3d/3rJlS0NzGB0XS7t2\\\n",
       "7XJ/3qZNm4jnKSws1B9//OG+/eKLL4Y9R7K9hvE4v+e1tnXr1phca76ys7NDzuFZcWe32ys9ftVV\\\n",
       "V2nBggWaM2eOpIq397ve4t+yZUudddZZ6tu3r4YMGRKynUm8nHjiiTrzzDO1bNky7dq1S++//76G\\\n",
       "Dh3qNebll192fx6Pt5Ebea09Q+dQ4z3HuoJpfyZMmKCJEycaWKE3z3+jsRTPt7/bbDa9/vrrOvnk\\\n",
       "k91BuSTdc889Ov300+N23mCysrLcnxuthPUd5zmHGc7/yCOP6JFHHnHffvjhh2NeER9rNptNr776\\\n",
       "qgYNGqTCwkLt2bNHjz76qB599FGlp6ere/fu6tWrlwYOHKjTTz89pu1bAABA4tGiAQBMZODAgZo+\\\n",
       "fbr7Y+bMmVq4cKG2bdvm1c9y0qRJevPNN/3O4XoLczR8wxjP/obB+sZ6imX/WKM8A59oAofq+BrG\\\n",
       "4/zxeJ18xSKksFqteuedd/Tiiy9Wak3xyy+/6LXXXtNVV12lZs2a6aqrrtK+ffuiPmckrrnmGvfn\\\n",
       "vm0ali1b5u7Nm5OTo/PPPz/m5w/3tY7F1+aTTz7xCndPO+00Pf/881q9erX27NmjkpISOSs2DZbT\\\n",
       "6VTv3r3dY0P1b45UNNWoRtStW7fSOXzD/KrkWQHv+UeyYHbu3Ol127NaO9nP/9xzz3n1WB43bpzu\\\n",
       "uOMOw8cnUu/evbV27VpdccUVXtdQSUmJli1bpkmTJunMM89Uu3bt3H/QAgAA1QMBLwBUA02bNtW/\\\n",
       "//1v9e/f333f9ddf77f60TOU69Spk1c4YvRjwoQJXnN6hqVFRUWG1uxZnRYroQKdOnXquD+PZtMf\\\n",
       "32Bz3759Yb+Gixcv9poj0a9hPM7v+ToNHjw4omutqqrmLBaLrrzySv3www/atGmTnn/+eY0cOdKr\\\n",
       "0ttut+ull15Sjx49vCqeq8pFF12k+vXrS5Lmz5/vVSHtGfiOGjUq4AZ5ZvPoo4+6Px89erSWL1+u\\\n",
       "q6++Wl26dFHDhg0r9VqNV9VuVXFd83v27PG6/4orrqjUdqCqnHDCCe7Pd+/e7dUTN5BffvnF/XmD\\\n",
       "Bg2iqnquyvP/+9//1vXXX+++ff3112vy5MlhrDbx2rRpo1mzZun333/XggULdM8996hv375ege+P\\\n",
       "P/6oCy+8MGCvfgAAYD4EvABQTaSkpOjFF190h2r79u3TpEmTKo1r0qSJ+3PfKqdIef7y7PmLdTBG\\\n",
       "NkDyfGt9qEpOKXTFqOdzN7qpkz/16tXzCpZi8TrG6zVM5Pnjca1VhbZt2+rqq6/WzJkztWXLFm3a\\\n",
       "tEm33nqrOzTdsmVLRC0DopWRkaG//e1vkiSHw+Hu+/zHH3+4e4W6gurqwOFwaMmSJZIqvr9Nnjw5\\\n",
       "ZFWw0Ws3WT355JP66KOPJFX8QcrVR3ndunUJqyI94YQT3D3BnU6ne+PEYL799lv35yeeeKIpzv/2\\\n",
       "229r1KhRcjqdkqTLL788orYykXCdMxijf3hzqV27tvr3768HHnhACxcu1N69e/XWW2959S2/6667\\\n",
       "9Ntvv4W9XgAAkHwIeAGgGmnevLluueUW9+3p06dXCta6dOniDid3797t3qE9Gl27dnV/7rmRWSBO\\\n",
       "p1NfffVVyHGeGwrt3bs35Ph169YFffzUU091f/7jjz96bXoWLs9eyMuXL494HhfP13DlypWG3l4e\\\n",
       "bIOzaM5v5Gto5Pw9e/Z0f75mzZq4VG1XhbZt2+rxxx/3CnXnzp2bkLV4tmlw9dz9z3/+435te/fu\\\n",
       "rWOPPTYha4u1PXv2uDfVOuqoo3TUUUcFHb9+/fpKla/+JGvv0e+++0533XWX+/ZTTz2lV1991b3e\\\n",
       "p556SgsWLKjydaWnp3t97/R994E/rmBekvr165f05//ggw906aWXyuFwSJL++te/Ki8vr8qulVCb\\\n",
       "DEqK6ueVVPEHoosuukiLFy92//GttLTU/QcFAABgbgS8AFDN3Hbbbe5WBCUlJV4bxUgVv+R5/sL7\\\n",
       "9NNPR33Ovn37uj//8MMPQ/YoXbhwoaFfVlu3bu3+PFTVVklJiebNmxd0TKtWrbyquaKpzho0aJD7\\\n",
       "82eeecZQBVYwp59+ujt437Vrlz7++OOg4wsKCmIaMnp+Db/55htt3Lgx6PiffvopZMDbpk0b9+td\\\n",
       "WlpaqW+s2QwePNj9udFeoP6kp6e7P/e36VswHTt21GmnnSap4muwZMkSr9c1HpurJYqralMytrnW\\\n",
       "M888Y2jeaF7/eCkpKdFll13mbsMwfPhwjRw5Uv369dPtt98u6Uj7hkS0B/HsATxz5sygY7dv3+7e\\\n",
       "pND32GQ8/8KFC3XRRRe5r4UBAwbojTfeqNI2J0aqko0E20Y0aNBAZ5xxhvt2NN/LAABA8iDgBYBq\\\n",
       "pn79+rrpppvct5977rlKgYDnBjJPPfWUPv30U8Pz+3ur/bnnnqsWLVpIqngbabC3EpeUlOi2224z\\\n",
       "dC7PCtD3338/aHXefffdZ6h679Zbb3V//vjjj+vzzz83tBZf1157rerVqyep4u3A4bxlf8+ePe5K\\\n",
       "MZd69epp2LBh7tt33HFH0FDrzjvvjKqPsK8TTzxRp59+uvv2zTffHLCKuLy8XGPHjjUUantea/fc\\\n",
       "c0/IKmtPVdXWwch1I3m3pAhVTRqM56ZRkbw92rOK984773RXw9evX9/rGjK7hg0bKjs7W1LFHzQ8\\\n",
       "qzJ9LV++3HDAG+3rHw+33367fvjhB0lSixYt9Nxzz7kfe/DBB90V9rt27dLo0aOrfH0jR450t//Z\\\n",
       "tGmTXnzxxYBj77zzTvf3t9NOO00nn3xy0p5/xYoVGjx4sLuvb+/evfX2228rLS0t6jWH45133gn6\\\n",
       "fWjJkiVef1Dz/fkhGXuXi0usvpcBAIDkQcALANXQrbfe6t40q6ioSI8//rjX471799bIkSMlVfS2\\\n",
       "Pf/88zV58uSAgWFJSYnmzJmjIUOGeFUxulitVj3wwAPu2y+99JJuueWWSpvh7Ny5UxdccIHWrl1r\\\n",
       "6BfoU045xf1288LCQl166aWVNo4rKirSP/7xDz366KOVNlzyZ9SoUe4g026367zzztPTTz/tt5Kv\\\n",
       "tLRU8+bN04UXXljpsezsbD3xxBPu2xMnTtTIkSMD9gB1Op1avny5brjhBrVs2dJveHvfffe5n8O6\\\n",
       "det0/vnnVwqgDh8+rNtvv13PPfdczEOIhx56yP2W5I8//liXXXaZDhw44DXm4MGDuvzyyzV//nxD\\\n",
       "5//b3/7mrhj/448/dOaZZ+q5555zv/Xe18GDB/Xaa6+pT58+Xn+oiKeWLVvq2muv1ZIlSwKG2t98\\\n",
       "843XegYMGBDx+Tp27Oj+3NU7NxzDhw93B5+erU5GjBjhVZ1qdikpKRo4cKD79qhRo/T1119XGvfm\\\n",
       "m29q4MCBcjgclTZA9Mfz9X/vvfcCXotV5cMPP3S/myAlJUWvvvqq+49HkpSWlqbXX39dmZmZkir+\\\n",
       "2BWLd16E46ijjvL649jYsWP15ptveo2x2+0aN26c3njjDfd9oTYoa926tSwWiywWS9ANFeNx/tWr\\\n",
       "V2vgwIHu9iY9e/bU+++/77UZWVU5ePCghg4d6rVxosvixYs1fPhwr/t+/vlnSd5B71NPPaUuXbro\\\n",
       "mWeeCfjHscLCQt19991auXKlpIqf3eeee26sngYAAEig1EQvAAAQew0bNtSYMWP08MMPS6poRXDH\\\n",
       "HXeoQYMG7jHPPfec8vPz9fHHH6u0tFTjx4/Xgw8+qJ49e6ply5aqVauWDhw4oC1btuj77793v3W4\\\n",
       "W7dufs85cuRIffjhh+5fuqdOnapXXnlFffv2VcOGDbV9+3YtWrRIhw8f1jHHHKMhQ4boySefDPo8\\\n",
       "LBaLJk+e7P7l9tNPP9Uxxxyjs88+W40aNdLOnTu1dOlSHThwQM2aNdOYMWN09913B50zNTVVs2fP\\\n",
       "Vr9+/bR582YVFRW5jzvjjDOUk5OjsrIy/e9//9OqVat08OBBd5jma9SoUfr555/d4fYrr7yi1157\\\n",
       "TV26dFG7du2UlZWlwsJC/frrr1qzZk3ITeBOOOEE/etf/9KYMWMkSYsWLVKbNm3Up08ftWrVSvv3\\\n",
       "79eiRYu0d+9epaWl6aGHHtI//vGPoHOGo0+fPrr99tv16KOPSpJmz56t999/X/369VPTpk21a9cu\\\n",
       "LVy4UIWFhapfv75uvvlmTZgwIeicVqtVb775ps455xytXr1aBw8e1HXXXac77rhDp512mo4++mhZ\\\n",
       "rVbt379fmzZt0oYNG9wb6lVVNWpxcbGef/55Pf/886pTp466dOmiVq1aqXbt2tqzZ482btzorq6U\\\n",
       "KjakC/W8gxk2bJi77+Wdd96p+fPnq0OHDl5/oLj77rtVv359v8dnZmZqxIgRlUK+6tSeweWee+7R\\\n",
       "nDlzVFxcrG3btunUU0/VaaedprZt26q0tFRffPGFe8PEq6++Wj/++GPQSl+pIpzPyMhQcXGx1qxZ\\\n",
       "oxNPPFF9+vRRvXr13H/gOPfcc6sk+Nq1a5dyc3Pdt++44w717t270rh27drp8ccf1/XXXy+pouK3\\\n",
       "b9++UW9gFo57771Xy5cv18KFC1VcXKyLL75YDz74oE4++WSVlJRo6dKlys/Pd4+fOHGi3+eSLOfv\\\n",
       "37+/1/fkY489VuPGjTO0loEDB3r98SFaTZs21fLly9WmTRv16tVLxxxzjEpKSrRmzRp99913kqT2\\\n",
       "7dtr/fr1kioqjy+88EL99ttvXn/0WLt2rW644QaNGTNGxx57rDp27KhGjRrJbrcrPz9fK1as8PpD\\\n",
       "7rhx49zvvgEAACbnBAAktd69ezslOSU577//fsPH7d6921m7dm33sffcc0+lMWVlZc57773XmZmZ\\\n",
       "6R4X7MNmsznHjBkT8JylpaXOkSNHBp2jXbt2zg0bNjjvv/9+w89r4sSJQec84YQTnN9//70zLy/P\\\n",
       "fd/IkSODzrl3717nhRdeaOh5H3300UHnmj17trNZs2aG5pLk7NGjh7OkpCTgfNOmTXPWqlUr4PHZ\\\n",
       "2dnO9957z7lo0SL3fb179w66xnCMGzfOmZKSEvD8zZo1c65YsSKs17uoqMh53XXXOVNTUw29RhkZ\\\n",
       "Gc5Jkyb5natVq1bucVu3bg35fDyvyby8vEqPZ2VlGf7ade7c2blhwwa/5zH69SgtLXX26tUr6HlC\\\n",
       "Pa81a9Z4je/evXvI1yESnt9/Fi1aFHJ8uF8bz+cQyJw5c0J+j7rmmmucJSUlhtf7zDPPOC0WS8D5\\\n",
       "fL8nhfs6uIR6PQYMGOD1NSwtLQ063+DBg93ju3Tp4jx8+LDhtcTCgQMHnMOHDw/5c+Khhx4yNJ/n\\\n",
       "6xPqe0isz2/037yR6yMSnt+Xpk+f7uzevXvA83Xp0sW5Z88eZ9u2bSv9LHB57LHHDK8/LS3NOXHi\\\n",
       "xKifAwAASB60aACAaqpx48buai+p4u2bvm+3t1qt+uc//6lt27bpscce03nnnaeWLVsqMzNTNptN\\\n",
       "DRs21Mknn6yRI0dq5syZ+u233zR9+vSA57TZbJo5c6Y+++wzXXzxxWrevLnS0tLUpEkTnXHGGZo6\\\n",
       "dapWrlypdu3ahfVc7rvvPq1YsUKXXnqpe85GjRrp1FNP1ZNPPqlvvvlGHTp0CGvOBg0a6J133tHX\\\n",
       "X3+tW265RV26dFGjRo1ktVqVlZWldu3a6ZJLLtHMmTO1adOmoHMNHz5cP//8s2bOnKlLL71Uxx13\\\n",
       "nLKzs2W1WlW3bl2deOKJ+utf/6onnnhCmzZt0ldffRW0ncRNN92k7777TjfddJOOP/54ZWRkqF69\\\n",
       "ejrppJN011136bvvvvPbKiNWJk+erK+//lqjR49W69atVatWLTVs2FDdunXTQw89pLVr17o3+jIq\\\n",
       "IyNDzzzzjDZv3qwHHnhAffv21dFHH6309HSlpaWpcePG6tmzp6655hrNnj1bO3fu1F133RWnZ+ht\\\n",
       "7969+uSTT3TPPfeof//+atOmjWrXri2r1ao6deroxBNP1N/+9je9++67+vbbb8O+fn3ZbDZ9+umn\\\n",
       "euaZZ/SXv/xFTZs2DbvdRufOndWmTRv37epYvesyZMgQff/997rxxhvVtm1bpaenKysrS23btlVu\\\n",
       "bq6WLFmi5557zlCLFpfrrrtOn3/+uS6//HK1bdtWtWvXdlfvVpWnnnpK8+fPlyTVrl1br732mmw2\\\n",
       "W9BjXnrpJeXk5Eiq2Jhr/PjxcV+np+zsbM2ePVuffPKJ/va3v+nYY49VZmamsrOz1bFjR912221a\\\n",
       "u3Zt3NaV6PPHS+3atbVs2TJNnjxZnTt3VlZWlrKystSlSxc9/PDD+vLLL9WwYUPNnj1b3bt3V0ZG\\\n",
       "hk488UTdc8897jluu+02bd26Vc8//7xGjRqlbt26qWHDhrLZbKpVq5aaNGmiPn366J///Kd+/PFH\\\n",
       "3XfffQl8xgAAINYsTmeU234DAACgSm3btk1t2rSR0+lU7dq1tWPHDtWtWzfRywJg0KhRozRr1ixJ\\\n",
       "Ul5eXtAexAAAAKFQwQsAAGAyL7/8slx/ox8+fDjhLgAAAFCDEfACAACYSElJiV544QX37euuuy6B\\\n",
       "qwEAAACQaAS8AAAAJnLPPfdo586dkqTTTz9dPXr0SPCKAAAAACRSaqIXAAAAgMAWLFigBQsWqLi4\\\n",
       "WF9//bXWrFkjSbJYLJo8eXJiFwcAAAAg4Qh4AQAAktiXX36pqVOnVrr/9ttvV69evRKwIgAAAADJ\\\n",
       "hIAXAADAJDIzM3XSSSfphhtu0BVXXJHo5QAAAABIAhanawtmAAAAAAAAAICpsMkaAAAAAAAAAJgU\\\n",
       "AS8AAAAAAAAAmBQBLwCYUElJia6//no99NBDiV4K4MZ1iWTFtYlY4VoCAADJiIAXAEzo008/1bPP\\\n",
       "Pqvff//dfV/37t1lsVjC+mjcuHGVr33btm2yWCzq06dPlZ8b8RWv6/Ktt95Snz59VL9+fdWuXVud\\\n",
       "O3fWI488Irvd7ncdXGPw5e/a9GS32zVr1iydf/75atasmWrVqqXs7Gwdd9xxOu+88/Twww9r+/bt\\\n",
       "7vFcYzUXP38BAEAySk30AgAA4ZszZ44kaejQoZIkp9Oprl27qmPHjl7jtm7dqqVLlyorK0vDhg2r\\\n",
       "NE+7du3ivVTUIPG4Lm+55RZNnTpVqamp6tevn7KysrRw4ULdeeedmjdvnj7++GNlZGTE7TmhevC9\\\n",
       "Nj1t3rxZf/3rX/X9998rMzNTXbt2Va9evVRaWqr169fro48+0kcffaRu3bqpRYsWVbtwJB1+/gIA\\\n",
       "gGREwAsAJlNeXq558+apYcOGOuussyRJFotFL7zwQqWxDz74oJYuXaqePXtq5syZVbxS1CTxuC7n\\\n",
       "zJmjqVOnKisrS0uWLNHJJ58sSdqzZ4/69eunZcuW6d5779Vjjz0Wl+eE6sHftemyf/9+9e3bV7/9\\\n",
       "9pv+/ve/65577lGDBg28xvz888967rnndMopp1TlspGE+PkLAACSFS0aAMBkVqxYod27d2vQoEGy\\\n",
       "Wq1Bx65evVqS3MFYtEaNGiWLxaLFixfHZD5UH/G4LidNmiRJGjdunNfYRo0a6emnn5YkTZ8+XQUF\\\n",
       "BdEsHdVcsGvzscce02+//aaBAwfqX//6V6VwV5LatGmjhx9+WNnZ2VW1ZCSpRP78BQAACIaAFwBM\\\n",
       "JthbjX19++23kqSuXbvGcUVA7K/L3377TStXrpQkXXbZZZUeP/PMM9WiRQsdPnxYH374YfgLRo0R\\\n",
       "7Nr85JNPJKlSZS/gDz9/AQBAsiLgBQCTee+995SRkaFzzz036Lj9+/dr27ZtkqggQvzF+rp0Vb81\\\n",
       "aNBAxxxzjN8x3bt39xoL+BPs2iwuLpYkLV26VA6Ho6qXBpPh5y8AAEhWBLwAYCLff/+9fvrpJ517\\\n",
       "7rnKzMwMOtYVemVlZen444+viuWhhorHdbl161ZJUsuWLQOOcW145RoL+Ap1bfbq1UuSNH/+fB1/\\\n",
       "/PG688479cknn6iwsLCql4okx89fAACQzAh4AcBEwnl7qOsXzM6dOyslhW/3iJ94XJd//PGHJKl2\\\n",
       "7doBx2RlZUmSDh48aHClqGlCXZuTJk3SkCFDJFX8oeCRRx7RueeeqwYNGui8887TvHnzqmilSHb8\\\n",
       "/AUAAMksNdELAAAYN2fOHFmtVl1wwQUhx0bT/+/FF1/UsmXLKt3vum/KlCl+dwUfN26c2rVrF/b5\\\n",
       "YG5VdV0C4Qp1bWZnZ2vOnDnavHmz3nnnHX366adasWKFioqK9NFHH+mjjz7S7bffrkcffbSKV45k\\\n",
       "U1Xf5+644w7NnTs37ONefPFFnXnmmWEfBwAAqgcCXgAwke3bt6tOnTqqV69eyLHR7OC9bNkyzZo1\\\n",
       "K+DjH330kd/7R40aRcBbA8XjuqxTp44k6dChQwHHuN5GX7duXYMrRU1j9Np0tWe48847VVpaqk8+\\\n",
       "+UR33HGH1q9fr8cff1zXXXedjj322KpZNJJSVf383bFjhzZt2hT2cbQVAQCgZuM9QwBgIoMGDdKB\\\n",
       "Awf8Vtd6Kioqcv+CGEkF0cyZM+V0Oit9jBw5UpK0aNEiv4/36dMn7HPB/OJxXbZu3VpSRagSiOsx\\\n",
       "11jAl9Fr01NaWprOP/98vfzyy5Ikp9OpdevWxWuJMImq+vn773//2+/P11Af5513XkTPCwAAVA8E\\\n",
       "vABgIq7ef65egIGsXbtW5eXlSktLU4cOHeK/MNRo8bguXcHI3r17A26i9s0330hil3oEZvTa9Me1\\\n",
       "iZ90pN8zai5+/gIAgGRGwAsAJnLOOeeodu3aeu+994KOc/X/69ixo2w2W1UsDTVYPK7L5s2b65RT\\\n",
       "TpEkvf7665UeX7ZsmbZv365atWpp4MCBEa4c1V2ga9PpdIY81hXk1alTR6effno8lgcT4ecvAABI\\\n",
       "ZgS8AGAi6enp6t+/v7Zu3aq1a9cGHBdN/z8gXPG6LsePHy+pYlM/V2giVVT13nDDDZKkG2+8UdnZ\\\n",
       "2ZEuHdVcoGvz7rvv1nXXXacffvih0jHFxcWaPn26brvtNkkV119mZmaVrRnJiZ+/AAAgmRHwAoDJ\\\n",
       "GHmbaDQ7eAORiMd1OXToUI0dO1aFhYU69dRTNWDAAF100UU67rjjtG7dOp1xxhl64IEHol06qjl/\\\n",
       "1+ayZcv03HPPqWPHjmrTpo2GDBmiyy67TH369FHz5s110003SZKmTp3q/mMCwM9fAACQrAh4AcBk\\\n",
       "Bg0apNTU1IC/YNrtdndVGhVEqCrxui6nTp2q2bNn67TTTtOKFSv04Ycfqnnz5poyZYoWLlyojIyM\\\n",
       "WCwf1Zi/a/P555/X1KlTNXjwYGVkZGjZsmV66623tG7dOrVt21b33HOPNm3apLFjxyZu4Ug6/PwF\\\n",
       "AADJKjXRCwAAhKd+/frq1auXFi5cqP/9739q1aqV1+M2m02HDx+Oy7lnzpypmTNnxmVumFs8r8vh\\\n",
       "w4dr+PDhsVgmaiB/12a7du3Url07AlyEJZE/fwEAAIKhghcATCianeGBeOG6RLLi2kSscC0BAIBk\\\n",
       "RMALACbEL5hIRlyXSFZcm4gVriUAAJCMaNEAACbUokULOZ3ORC8D8MJ1iWTFtYlY4VoCAADJiApe\\\n",
       "AAAAAAAAADApKngBAFWqXr16uv/++9W6detELwXVFNcY4o1rDGbEdQsAQPVlcfIeIwAAAAAAAAAw\\\n",
       "JVo0AAAAAAAAAIBJEfACAAAAAAAAgEkR8AIAAAAAAACASRHwAgAAAAAAAIBJEfACAAAAAAAAgEkR\\\n",
       "8AIA3A4fPqwJEybo8OHDiV4KaiCuPyQS1x8SiesPAABEw+J0Op2JXgQAIDkcPHhQ2dnZKigoUN26\\\n",
       "dRO9HNQwXH9IJK4/JBLXHwAAiAYVvAAAAAAAAABgUgS8AAAAAAAAAGBSqYleAABv5eXl2rFjh+rU\\\n",
       "qSOLxZLo5aCGOXjwoNd/garE9YdE4vpDInH9IZGcTqf++OMPNWvWTCkp1IABgBnRgxdIMr/++qta\\\n",
       "tGiR6GUAAAAAqEG2b9+u5s2bJ3oZAIAIUMELJJk6depIqvgfLDbZQFWz2+36+OOPde6558pmsyV6\\\n",
       "OahhuP6QSFx/SCSuPyTSwYMH1aJFC/fvIQAA8yHgBZKMqy1D3bp1CXhR5ex2uzIzM1W3bl1+wUSV\\\n",
       "4/pDInH9IZG4/pAMaA8HAOZFgx0AAAAAAAAAMCkCXgAAAAAAAAAwKQJeAAAAAAAAADApAl4AAAAA\\\n",
       "AAAAMCkCXgAAAAAAAAAwKQJeAAAAAAAAADApAl4AAAAAAAAAMCkCXgAAAAAAAAAwKQJeAAAAAAAA\\\n",
       "ADApAl4AAAAAAAAAMCkCXgAAAAAAAAAwKQJeAAAAAAAAADApAl4AAAAAAAAAMCkCXgAAAAAAAAAw\\\n",
       "KQJeAAAAAAAAADApAl4AAAAAAAAAMCkCXgAAAAAAAAAwKQJeAAAAAAAAADApAl4AAAAAAAAAMCkC\\\n",
       "XgAAAAAAAAAwKQJeAAAAAAAAADApAl4AAAAAAAAAMCkCXgAAAAAAAAAwKQJeAAAAAAAAADApAl4A\\\n",
       "AAAAAAAAMCkCXgAAAAAAAAAwKQJeAAAAAAAAADApAl4AAAAAAAAAMCkCXgAAAAAAAAAwKQJeAAAA\\\n",
       "AAAAADApAl4AAAAAAAAAMCkCXgAAAAAAAAAwKQJeAAAAAAAAADApAl4AAAAAAAAAMCkCXgAAAAAA\\\n",
       "AAAwKQJeAAAAAAAAADApAl4AAAAAAAAAMCkCXgAAAAAAAAAwKQJeAAAAAAAAADApAl4AAAAAAAAA\\\n",
       "MCkCXgAAAAAAAAAwKQJeAAAAAAAAADApAl4AAAAAAAAAMCkCXgAAAAAAAAAwKQJeAAAAAAAAADAp\\\n",
       "Al4AAAAAAAAAMCkCXgAAAAAAAAAwKQJeAAAAAAAAADApAl4AAAAAAAAAMCkCXgAAAAAAAAAwKQJe\\\n",
       "AAAAAAAAADApAl4AAAAAAAAAMCkCXgAAAAAAAAAwKQJeAAAAAAAAADApAl4AAAAAAAAAMCkCXgAA\\\n",
       "AAAAAAAwKQJeAAAAAAAAADApAl4AAAAAAAAAMCkCXgAAAAAAAAAwKQJeAAAAAAAAADApAl4AAAAA\\\n",
       "AAAAMCkCXgAAAAAAAAAwKQJeAAAAAAAAADApAl4AAAAAAAAAMCkCXgAAAAAAAAAwKQJeAAAAAAAA\\\n",
       "ADApAl4AAAAAAAAAMCkCXgAAAAAAAAAwKQJeAAAAAAAAADApAl4AAAAAAAAAMCkCXgAAAAAAAAAw\\\n",
       "KQJeAAAAAAAAADApAl4AAAAAAAAAMCkCXgAAAAAAAAAwKQJeAAAAAAAAADApAl4AAAAAAAAAMCkC\\\n",
       "XgAAAAAAAAAwKQJeAAAAAAAAADApAl4AAAAAAAAAMCkCXgAAAAAAAAAwKQJeAAAAAAAAADApAl4A\\\n",
       "AAAAAAAAMCkCXgAAAAAAAAAwKQJeAAAAAAAAADApAl4AAAAAAAAAMCkCXgAAAAAAAAAwKQJeAAAA\\\n",
       "AAAAADApAl4AAAAAAAAAMCkCXgAAAAAAAAAwKQJeAAAAAAAAADApAl4AAAAAAAAAMCkCXgAAAAAA\\\n",
       "AAAwKQJeAAAAAAAAADApAl4AAAAAAAAAMCkCXgAAAAAAAAAwKQJeAAAAAAAAADApAl4AAAAAAAAA\\\n",
       "MCkCXgAAAAAAAAAwKQJeAAAAAAAAADApAl4AAAAAAAAAMCkCXgAAAAAAAAAwKQJeAAAAAAAAADAp\\\n",
       "Al4AAAAAAAAAMCkCXgAAAAAAAAAwKQJeAAAAAAAAADApAl4AAAAAAAAAMCkCXgAAAAAAAAAwKQJe\\\n",
       "AAAAAAAAADApAl4AAAAAAAAAMCkCXgAAAAAAAAAwKQJeAAAAAAAAADApAl4AAAAAAAAAMCkCXgAA\\\n",
       "AAAAAAAwKQJeAAAAAAAAADApAl4AAAAAAAAAMCkCXgAAAAAAAAAwKQJeAAAAAAAAADApAl4AAAAA\\\n",
       "AAAAMCkCXgAAAAAAAAAwKQJeAAAAAAAAADApAl4AAAAAAAAAMCkCXgAAAAAAAAAwqdRELwAAUKGg\\\n",
       "oEBFRUUJXYPD4ZAk7dq1S1arNaFryczMVHZ2dkLXAAAAAABAsiPgBYAkUFBQoBnTpsleXp7QdaSk\\\n",
       "pKhTp07Ky8tTeYLXYktJ0ZixYwl5AQAAAAAIgoAXAJJAUVGR7OXluvDtt9V4z56ErcORnq5VTzyh\\\n",
       "3Lw8WUtKEraO3xs10rvDhqmoqIiAFwAAAACAIAh4ASCJNN6zRzn5+Qk7vz0jQ5LUZOdO2YqLE7YO\\\n",
       "AAAAAABgDJusAQAAAAAAAIBJEfACAAAAAAAAgEkR8AIAAAAAAACASRHwAgAAAAAAAIBJEfACAAAA\\\n",
       "AAAAgEkR8AIAAAAAAACASRHwAgAAAAAAAIBJEfACAAAAAAAAgEkR8AIAAAAAAACASRHwAgAAAAAA\\\n",
       "AIBJEfACAAAAAAAAgEkR8AIAAAAAAACASRHwAgAAAAAAAIBJEfACAAAAAAAAgEkR8AIAAAAAAACA\\\n",
       "SRHwAgAAAAAAAIBJEfACAAAAAAAAgEkR8AIAAAAAAACASRHwAgAAAAAAAIBJEfACAAAAAAAAgEml\\\n",
       "JnoBAACg+isoKFBRUVHQMQ6HQ5K0a9cuWa3WoGMzMzOVnZ0ds/UBAAAAgFkR8AIAgLgqKCjQjOnT\\\n",
       "ZC8rDzouJSVFnTp1Ul5ensrLg4+1paZozI1jCXkBAAAA1HgEvAAAIK6KiopkLyvXhY631di5J+A4\\\n",
       "R0q6VukJ5ZblyVpeEnDc75ZGelfDVFRURMALAAAAoMYj4AUAAFWisXOPcpQf8HG7MiRJTbRTNhUH\\\n",
       "nsgZ65WhJgnULiRUixDaggAAACBZEfACMbZ3717dfffd6tixo2688cZELwcAAPypoKBA02ZMU7m9\\\n",
       "cguQUC1CUmwpGjuGtiAAAABIPgS8SErbtm3TMccco969e2vx4sXu+7t3765Vq1aFNVejRo30+++/\\\n",
       "x3iFgTVs2FALFizQf/7zH1177bWy2WxVdm4AABBYUVGRyu3levvCT7Sn8X6vx9IdtfTEqk7Ky31X\\\n",
       "JdbDXo81+r2+hr17Dm1BAAAAkJQIeGEaTqdTXbt2VceOHb3u37p1q5YuXaqsrCwNGzas0nHt2rWr\\\n",
       "qiW6DRkyRNOmTdPChQvVv3//Kj8/AAAIbE/j/crP8e4HnWFPlyTtbLJXxbbAPaCBWPFsF+KvRQht\\\n",
       "QQAAgFEEvDANi8WiF154odL9Dz74oJYuXaqePXtq5syZVb8wP4YOHapp06Zpzpw5BLwAAADwUlBQ\\\n",
       "oBnTZshebpfkv0WILcWmMWPHEPICAICQUhK9ACBaq1evliSdfPLJMZlv1KhRslgsXq0hwtWrVy81\\\n",
       "aNBAc+fOldPJbkAAAAA4oqioSPZyuy54e6hGPXeVRuSNlCSNyBupUc9dpQveHip7ud3vhoAAAAC+\\\n",
       "CHhhet9++60kqWvXrgleyRFWq1WDBg3Sjh079PXXXyd6OQAAAEhCDfc0UtP8HDXZ2USS1GRnEzXN\\\n",
       "z1HDPY0SvDIAAGAmtGiAqe3fv1/btm2TFLsK3lgZOnSoXnnlFc2ZM0c9e/YMOO7w4cM6fPjIZi4H\\\n",
       "Dx6UJNntdtnt9rivE8nB4XAoJSVFjvR02TMyErYO17kTuQZJcqSnV7weDgf/DqoB9/Wdki67Al9b\\\n",
       "9pQMr/8GnE9cH4iM61pMd9Ry99x1cd32vV+q2ICNaw6xdOTnvkNlGXaVZZRJkvu/jnQH1xyqDNcY\\\n",
       "AJifxcn7x5GEtm3bpmOOOUa9e/cO2iph4cKFOvvss5WVlaWCggKlpERflD5q1CjNmjVLixYtUp8+\\\n",
       "fSKep6ioSI0aNVKrVq20YcOGgOMmTJigiRMnVrr/9ddfV2ZmZsTnBwAAAIBQioqKdNlll6mgoEB1\\\n",
       "69ZN9HIAABGgghem5uq/27lz55iEu7GUmZmpc845R3PnztWPP/6otm3b+h1311136dZbb3XfPnjw\\\n",
       "oFq0aKFzzz2X/8GqQXbt2qW8vDzl5uWpyc6dCVuHPSNDn7z8ss4ZPVq24uKErWNX06bKy81Vbm6u\\\n",
       "mjRpkrB1IDbc13dZnpoo8PVtT8nQJ11e1jlrRstWHvj626Wmykvl+kD4XNdiXu672tlkr9djGfZ0\\\n",
       "vfzJIxp9zh0qtpV4PdZ0V0Pl5l3INYeYcV2LI/JGqsnOJirLKNPilz9Vn9F/UWpxqnY13aXXcmdx\\\n",
       "zaFKuN5BCAAwLwJemFo0/XdffPFFLVu2rNL9rvumTJmimTNnVnp83LhxateunaFzDB06VHPnztW7\\\n",
       "776rO++80++YWrVqqVatWpXut9lsstlshs4D87NarSovL5e1pCShwaqLrbg4oeuwlpRUvB5WK/8O\\\n",
       "qgH39V1eIptCX1e28uKgAa9VXB+IjOtaLLEerhTiuhTbSio9VmI9zDWHmDryc9+q1OIj11RqcapS\\\n",
       "i22ylli55lBluMYAwPwIeGFqrgreSPrvLlu2TLNmzQr4+EcffeT3/lGjRhkOeFu2bClJ2r59e9jr\\\n",
       "AwAAQPW2t9EeSRU9dyVpV9NdspZY3fcDAAAYQcAL0yoqKtKmTZskRVbBO3PmTL8VurHqwStJ8+bN\\\n",
       "kyQNGjQoqnkAAABQfWRmZsqWYtO8YXMkSSkpKeqkTnotd5bKy8slSbYUG/sxAAAAQwh4YVpr165V\\\n",
       "eXm50tLS1KFDh0Qvx6/33ntPdevWVb9+/RK9FAAAACSJ7OxsjRk7RkVFRZIkh8OhVatWKTc3V1ar\\\n",
       "VVJFCJydnZ3IZQIAAJMg4IVpufrvduzYMSn7Rq1Zs0bbtm3TxRdfrLS0tEQvBwAA/KnR7/Ur3Zfu\\\n",
       "qOiH33RXQ5VYD4ccD0QrOzvbHeDa7XZJUpMmTZLy/2sBAEByI+CFaUXTf7cqzJkzR1LFRmsAACDx\\\n",
       "MjMzlWJL0bB3z6n0WEpKitRJys270P0Wea/HbSm8XR4AAABJiYAXpuWq4I2k/25VmDNnjtLS0jRw\\\n",
       "4MBELwUAAKiiYnLsmLHut8V78vcWeU+8XR4AAADJioAXpmS32/XDDz9ISs4K3m3btmnt2rXq37+/\\\n",
       "6tatm+jlAEBS+N3SSHIGftyhdEnSLjWVVSXB5wEi5Pm2eE+8RR4AAABmRcALU7LZbDp8+HDogRGY\\\n",
       "OXOmZs6cGdUctGcAgCMyMzNlS03RuxoWdFzFLvJSXmqu37fIe7Kl8nZ5AAAAAJAIeIG4mDNnjiwW\\\n",
       "i4YMGZLopQBAwmVnZ2vMjf7fFu8p1FvkPfF2eQAAAACoQMALxNjevXu1bNky9ejRQzk5OYleDgAk\\\n",
       "hUBvi/fEW+QBAAAAIHwEvECMNWzYUGVlZYleBgAAAAAAAGqAlEQvAAAAAAAAAAAQGSp4kZTq1aun\\\n",
       "+++/X61bt070UgAAAAAAAICkRcCLpFSvXj1NmDAh0csAAAAAAAAAkhotGgAAAAAAAADApAh4AQAA\\\n",
       "AAAAAMCkCHgBAAAAAAAAwKQIeAEAAAAAAADApAh4AQAAAAAAAMCkCHgBAAAAAAAAwKQIeAEAAAAA\\\n",
       "AADApAh4AQAAAAAAAMCkCHgBAAAAAAAAwKQIeAEAAAAAAADApAh4AQAAAAAAAMCkCHgBAAAAAAAA\\\n",
       "wKQIeAEAAAAAAADApAh4AQAAAAAAAMCkCHgBAAAAAAAAwKQIeAEAAAAAAADApFITvQAAwBG/N2qU\\\n",
       "0PM70tMlSbuaNpW1pCRh60j06wAAAAAAgFkQ8AJAEsjMzJQtJUXvDhuW0HWkpKSok6S83FyVl5cn\\\n",
       "dC22lBRlZmYmdA0AAAAAACQ7Al4ASALZ2dkaM3asioqKEroOh8OhVatWKTc3V1arNaFryczMVHZ2\\\n",
       "dkLXAAAAAABAsiPgBYAkkZ2dnfBA0263S5KaNGkim82W0LUAAAAAAIDQ2GQNAAAAAAAAAEyKgBcA\\\n",
       "AAAAAAAATIqAFwAAAAAAAABMioAXAAAAAAAAAEyKgBcAAAAAAAAATIqAFwAAAAAAAABMioAXAAAA\\\n",
       "AAAAAEyKgBcAAAAAAAAATIqAFwAAAAAAAABMioAXAAAAAAAAAEyKgBcAAAAAAAAATIqAFwAAAAAA\\\n",
       "AABMioAXAAAAAAAAAEyKgBcAAAAAAAAATIqAFwAAAAAAAABMioAXAAAAAAAAAEyKgBcAAAAAAAAA\\\n",
       "TIqAFwAAAAAAAABMioAXAAAAAAAAAEyKgBcAAAAAAAAATIqAFwAAAAAAAABMioAXAAAAAAAAAEyK\\\n",
       "gBcAAAAAAAAATIqAFwAAAAAAAABMioAXAAAAAAAAAEyKgBcAAAAAAAAATIqAFwAAAAAAAABMioAX\\\n",
       "AAAAAAAAAEyKgBcAAAAAAAAATIqAFwAAAAAAAABMioAXAAAAAAAAAEyKgBcAAAAAAAAATIqAFwAA\\\n",
       "AAAAAABMioAXAAAAAAAAAEyKgBcAAAAAAAAATIqAFwAAAAAAAABMioAXAAAAAAAAAEyKgBcAAAAA\\\n",
       "AAAATIqAFwAAAAAAAABMioAXAAAAAAAAAEyKgBcAAAAAAAAATIqAFwAAAAAAAABMioAXAAAAAAAA\\\n",
       "AEyKgBcAAAAAAAAATIqAFwAAAAAAAABMioAXAAAAAAAAAEyKgBcAAAAAAAAATIqAFwAAAAAAAABM\\\n",
       "ioAXAAAAAAAAAEyKgBcAAAAAAAAATIqAFwAAAAAAAABMioAXAAAAAAAAAEyKgBcAAAAAAAAATCo1\\\n",
       "0QsAAKCmKigoUFFRUaKXkTQcDockadeuXbJarQleTfLIzMxUdnZ2opcBAAAAIEkR8AIAkAAFBQWa\\\n",
       "MW2a7OXliV5K0khJSVGnTp2Ul5encl4XN1tKisaMHUvICwAAAMAvAl4AABKgqKhI9vJyXfj222q8\\\n",
       "Z0+il5MUHOnpWvXEE8rNy5O1pCTRy0kKvzdqpHeHDVNRUREBLwAAAAC/CHgBAEigxnv2KCc/P9HL\\\n",
       "SAr2jAxJUpOdO2UrLk7wagAAAADAHNhkDQAAAAAAAABMioAXAAAAAAAAAEyKgBcAAAAAAAAATIqA\\\n",
       "FwAAAAAAAABMioAXAAAAAAAAAEyKgBcAAAAAAAAATIqAFwAAAAAAAABMioAXAAAAAAAAAEyKgBcA\\\n",
       "AAAAAAAATIqAFwAAAAAAAABMioAXAAAAAAAAAEyKgBcAAAAAAAAATIqAFwAAAAAAAABMioAXAAAA\\\n",
       "AAAAAEyKgBcAAAAAAABV5thjj5XFYvH78fHHHyd6eYDpEPACAAAAAACgyvznP/+RJK1cuVL5+fn6\\\n",
       "6quv3LfPPvvsRC4NMCUCXgAAAAAAAFSZ3bt3KysrS926dVPTpk21c+dO922r1Zro5QGmQ8ALAAAA\\\n",
       "AACAKrNu3Tp16NBBFotFkvTdd9+pY8eO7tsAwkPACwAAAAAAgCrz/fff66STTnLfXrt2rddtAOEh\\\n",
       "4AUAAAAAAECVWbdunTp27Oh1m4AXiBwBLwAAAAAAAKpEWVmZNm7c6A50nU6nfv75Z7Vs2TLBKwPM\\\n",
       "i4AXAAAAAAAAVeLHH39UaWmpu4LXYrGoY8eOuu666/TTTz8leHWAOaUmegEAAAAAAACoGdq3by+n\\\n",
       "0+l137fffpug1QDVAxW8AAAAAAAAAGBSBLwAAAAAAAAAYFK0aAAAAAAAAECVsFgshsb5tnEAEBgB\\\n",
       "LwAAAAAAAKoEwS0Qe7RoAAAAAAAAQJWZPHmyunfvrjp16qhJkyYaPny4tm3bluhlAaZFwAsAAAAA\\\n",
       "AIAqs2TJEt1000366quvtGDBAu3bt08DBgxQWVlZopcGmBItGgAAAAAAAFBlFixY4HX7hRdeUJs2\\\n",
       "bbR+/Xp16tQpQasCzIsKXgAAAAAAACRMQUGBJKlBgwYJXglgTgS8AAAAAAAASAiHw6Hbb79dAwcO\\\n",
       "VPPmzRO9HMCUaNEAAAAAAACAKud0OnXdddfpl19+0fLlyxO9HMC0CHgBAAAAAABQpZxOp2644QZ9\\\n",
       "+umnWrp0qRo3bpzoJQGmRcALAAAAAACAKuN0OjVmzBh98MEHWrJkiVq0aJHoJQGmRsALAAAAAACA\\\n",
       "KjNmzBi98cYbmjdvnjIyMrRz505JFZuspaWlJXh1gPkQ8AIAAAAAAKDKPPPMM5Kks846y+v+RYsW\\\n",
       "qU+fPglYEWBuBLwAAAAAAACoMk6nM9FLAKqVlEQvAAAAAAAAAAAQGQJeAAAAAAAAADApAl4AAAAA\\\n",
       "AAAAMCkCXgAAAAAAAAAwKQJeAAAAAAAAADApAl4AAAAAAAAAMCkCXgAAAAAAAAAwqdRELwAAAAAA\\\n",
       "AADVS0lJifLz870+Dhw4oLKyMq8PSUpNTfX6qFevnnJycrw+0tPTE/yMgORFwAsAAAAAAICwOBwO\\\n",
       "bdy4UatWrdIPP/ygHTt2uIPc3/J/UcH+QqVYLcpukqE6OVbVbuZU7Xp2pdicstjKZUktV0pKihps\\\n",
       "7a+9LT6Rtbxc5fYUldstOnzApoM7LDqQ79CBXcVyOJzKrp+lpjlN1CynuY7OaaFmzZqpQ4cO6tat\\\n",
       "m9q1ayer1ZrolwRIGAJeAAAAAAAABFRWVuYOc10fa9asUbnK1LxLtrJPKpPthENK61OqljnSyc2k\\\n",
       "2jlSRiOnUqxF7nka+MybYq+l9h9erfUDFyrTVurxyGH3Z/Uc0h97pAP5hTqwo1AH8rfoQL604df6\\\n",
       "WvBsqn5cc0ApFqu6dOmqbt26q1u3bu7QNzWV2As1A1c6AAAAAAAA3Ox2u5YuXaoPPvhAX375pdas\\\n",
       "WS2nxakWXRuqXjenUq/dozO72dWynZRi/b3S8VkxXEuKVcpuUvHRqsuR++trvyTJUSb9utGun1Z9\\\n",
       "oZ+//UYrXmis9TfslZwWdenSVaeeeqrOP/989erVSzabLYYrA5IHAS8AAAAAAEANt2/fPs2fP1/z\\\n",
       "5s3T/PnzZatt1bGDGujw9T+rVzen6pwgWaw7vI5JSdBaPVlTpVYdKz7OHmlXlnbI4ZC2b5J+XrVe\\\n",
       "Gz7frRGXz1RJUbnOO+88DR48WAMGDFD9+vUTvXQgZgh4AQAAAAAAaqDNmzdr3rx5mjt3rpYvX66j\\\n",
       "OtZV/cEl6nh7keqeLFlSKqpkY1mRWxWsVql1e6l1+wL1u7xA15dLm7+Vfpi7SlMeXaGRI0fqzDPP\\\n",
       "1AUXXKDBgwfruOOOS/SSgagQ8AIAAAAAANQQO3bsUF5enl577TVt2bJF7fq20eHh29TxlTLltNwX\\\n",
       "1lz7JYVTB7tPlfvwVoWUFOm07tJp3X/SVf+U8n+RPn//S703d73uumucjj32OI0YMUK5ublq1qxZ\\\n",
       "AlYIRCcZqukBAAAAAAAQJw6HQx988IGGDBmi1q1b67+fv64mE0rVaU+pMhZsVL0bSlSrZezOVxjm\\\n",
       "+NoB7o9XGJzTUhp+Q4meWrBbK/fYdcOEn7Xo89fVunVrDR06VB988IEcDkeczg7EHhW8AAAAABBj\\\n",
       "BQUFKioqCj1QcocIu3btktVqNXRMZmamsrOzI14fgJph3759euGFFzRjxgwdLj+stqOPVvOpdtVq\\\n",
       "vV7Fkox9x6kIbJOpTUOgquFI1phVRxo4/LAGDl+vX7dJ7730i665JldWa7puvPFGXXXVVWrQIBF1\\\n",
       "x4BxBLwAAAAAEEMFBQWaMW267OVlhsanpKSoU6dOysvLU3l5uaFjbCmpGjP2RkJeAH6tX79e06ZN\\\n",
       "06uvvqo2p7TS0VNrac8F27UrdXfQIChRLRTizehzat5aGvPAal17v7Robi29NjVPEydO1OWXX66x\\\n",
       "Y8eqffv28VwmEDECXgCoIYxUEoVTQUTlEAAA/hUVFcleXqYL3z5BjfdkhhzvSHdq1RNSbl4nWUss\\\n",
       "Icf/3qhI7w7bpKKiIn4WA/CyYcMG3X333Zo/f75yLq2vxsuLdbjLBh2W5PndpboGueEKVPGbmioN\\\n",
       "/+thDf/rRq1bY9GL01aqW7duGjBggCZNmqR27dpV6TqBUAh4AaAGMFpJFE4FEZVDAAAE13hPpnLy\\\n",
       "Q79h2J7hlFSoJjuzZCsOHfACgK/t27dr4sSJeu2119R5dHtlby3R4ab5AXvbwriTujg19eVvNX6S\\\n",
       "9PgDK9S1a1eNGDFCEyZMUPPmzRO9PEASAS8A1AhHKomy1HhP4G/9jnTLnxVE2bKWOAOO+71Rmd4d\\\n",
       "VkjlEAAAAJBA+/bt0+TJkzVjxgy1G3Kc6q4r0fbjvnX31j2kwBuYBZxT/qt7A/Xh3a/APXHNyt/z\\\n",
       "adJUemTGLt06Rpo48X21bfu6brzxRo0bN44evUg4Al4AqEEa70lVTn7gb/32jIqqoSY7U2UrDhzw\\\n",
       "AgAAAEicoqIiTZ06VQ8//LByTs1R1vJi7eq6LqyQp7q1aQj0folAzzHSTeOOO0569dVdWr1auufe\\\n",
       "WWrT5nndeeeduvnmm5WZGbotDxAPKYleAFDd7N27V9ddd52mT5+e6KUAAAAAAKqR8vJyPf/88zru\\\n",
       "uOP0wrvP6/C7f2jbgo36o2vgYw5V3fKqhWDVyFmlRz7v2lX64P3denP2H3rnncd13HHH6fnnnze8\\\n",
       "WSYQSwS8qDa2bdsmi8WiPn36eN3fvXt3WSyWsD4aN27sNcdbb72lPn36qH79+qpdu7Y6d+6sRx55\\\n",
       "RHa7vdI6GjZsqAULFuiee+7x+zgAAAAAAOH66aef1KdPH9035T7tf2q3dny1Tep7JEzcF8GcgY6J\\\n",
       "ZK6qkmztIPr2LdfyZXs1dcpuTZl8p/r27astW7YkelmoYWjRgGrN6XSqa9eu6tixo9f9W7du1dKl\\\n",
       "S5WVlaVhw4ZVOs5zR8xbbrlFU6dOVWpqqvr166esrCwtXLhQd955p+bNm6ePP/5YGRkZXscPGTJE\\\n",
       "06ZN08KFC9W/f//4PDkAABCVgoICFRUVSZIcDockadeuXbJaKzoXZmZm0mccAJBw5eXlmj59uu4a\\\n",
       "f5esuakqnX9QltpSOFsyRtKL159AfXijHRsvsWzP4Fm968t2WLpoqEPn/eWAxk1Ypc6dO2ny5Cka\\\n",
       "M2aMUlKorUT8EfCiWrNYLHrhhRcq3f/ggw9q6dKl6tmzp2bOnBnw+Dlz5mjq1KnKysrSkiVLdPLJ\\\n",
       "J0uS9uzZo379+mnZsmW699579dhjj3kdN3ToUE2bNk1z5swh4AUAIAkVFBRoxlPTZHdUVD6lpKSo\\\n",
       "U6dOysvLc7+10mZN0ZibxhLyAgASZsuWLRo9erTWb1+vw++XydKnPGiQU9366la1aKuDs7Kk6Y8d\\\n",
       "0rDB0pU3TtTbb7+tl156Sccee2xM1gcEwp8RUCOtXr1aktyBbSCTJk2SJI0bN85rbKNGjfT0009L\\\n",
       "kqZPn66CggKv43r16qUGDRpo7ty5cjrZqAoAgGRTVFQku6NcF657W9d8+ZxyV+ZJknJX5umaL5/T\\\n",
       "hevelt1R7q7wBQCgKpWXl+upp55Sp86d9NVJK7X/uz9k6VMR4ZQpPaI5A/XijUU7hv0xmCMa8a4U\\\n",
       "Dla9m1pS+b6+vaTvVuxVh2M2q3PnTnrqqafozYu4IuBFjfTtt99Kkrp2DdyJ/rffftPKlSslSZdd\\\n",
       "dlmlx88880y1aNFChw8f1ocffuj1mNVq1aBBg7Rjxw59/fXXMVw5AACIpcaH9ijnj3w1KdwpSWpS\\\n",
       "uFM5f+Sr8aE9CV4ZAKCm+vnnn9WvXz/d96/7VTLPLsd0pyxZ3g0ZgoW8seqfm+g+vPGqRA4UBgeq\\\n",
       "3g0W7gZTxy7NmLBD814o0r8eu0/9+vXVzz//HNlkQAi0aECNs3//fm3btk1S8ApeV5VvgwYNdMwx\\\n",
       "x/gd0717d23fvl2rV6/WpZde6vXY0KFD9corr2jOnDnq2bNnwPMcPnxYhw8fdt8+ePCgJMlut7NJ\\\n",
       "G2LG4XAoJSVFjnSL7BmBu3W5Hgs2RpIc6ZaK+RwOrtMIHfmapMvu08e7pnK9DrweRzjS0/m3Fifu\\\n",
       "f4O2dNnTMmRP+/P6+/O/DhuvPSJ35Hu8U/aM0O/mco0xMlaSHOlOrk/EDNdQcnnzzTeVe2WuSq6w\\\n",
       "qPz9DKVmWRO9pEqSobeuEVXRqsJf9a6vvqdL6+Yf0B2Tl6lz55P08ssz9X//93/xXxxqFIuT94+j\\\n",
       "mti2bZuOOeYY9e7dW4sXLw44buHChTr77LOVlZWlgoKCgA3Pn3rqKY0dO1ZdunRxh72+br75Zk2b\\\n",
       "Nk0XXXSR3nrrLa/HioqK1KhRI7Vq1UobNmwIuJ4JEyZo4sSJle5//fXXlZmZGfA4AAAAAIhWUVGR\\\n",
       "LrvsMhUUFKhu3bqJXk6NVV5ervvvv1+PTXtMJf+uJV1Qy/1Yqg4GPC5V/hPGYOFmoM3W/B0TziZl\\\n",
       "/ipg/Y3znDPFnqH2H76h/w28VE5bsaFzR3KeUGMDzSsFruANFu5aAvSsmPep9Le/p+rmW+7ShAkT\\\n",
       "2IANMUMFL2ocV1jbuXPnoN9M//jjD0lS7dqB9xrNyqr40eCquvWUmZmpc845R3PnztWPP/6otm3b\\\n",
       "+p3jrrvu0q233uq+ffDgQbVo0ULnnnsu/4OFmNm1a5fy8vKUm5etJjsDf+u3Z1j0ycvNdM7oHbIV\\\n",
       "B/77366mZcrLLVBubq6aNGkSjyVXe0e+JnlqsnNnopeTFOwZGfrk5Zd1zujRshUXhz6gBtjVtKny\\\n",
       "cnP5txYH7n+DK/PUpHCn7GkZ+uT6l3XOM6NlKy3WrqymyjuF1x6ROfI9vpOa7Axd52bPcOqTlw/p\\\n",
       "nNG1ZSsO/i4aSdrVtFB5ud9xfSIm/P0ug6pVWFioSy+/VIvWLVHJF5lS++ijmlhttpZsm7ZFvQla\\\n",
       "mPNG2p4hkAv+In3x7zINvmmSvl+3Wq+8+oY7VwCiQcCLGsdI/91YGTp0qObOnat3331Xd955p98x\\\n",
       "tWrVUq1atSrdb7PZZLPZ4r1E1BBWq1Xl5eWyljiDBrcutuLg46wlzor5rFau0wgd+ZqUEGb6sBUX\\\n",
       "85r8yVpSwr+1OHH/G7SXyFZ65HqzlRbLVlosq53XHpE78j3eYiiwdbEVGxtvLbFwfSJmuIYSa+vW\\\n",
       "reo/5Dz9dNSvcn6dKTWoXIRUproBq3jLlB6wijdQOHtI/qt4ky3MNSoR8Wgk1buSpENS++Okr99w\\\n",
       "aPhtH+j0007W3Hkfq3Xr1rFeImoYasFR47gqeIP135WkOnXqSJIOHQq012jFX1olBay0bdmypSRp\\\n",
       "+/btYa8TAADE3++1Gym/To52ZTWVJO3Kaqr8Ojn6vXajBK8MAFDdLV68WJ1O6azNfXfLuaC533DX\\\n",
       "pUyB390ZbMO1eCn0c5+/XNPfuKrgL6iuiurdoOGuhwb1pPnPOtWn82ad0v0kLVmyJPyTAR6o4EWN\\\n",
       "UlRUpE2bNkkKXcHr+gtasHDW9Vigv7bNmzdPkjRo0KAwVwoAAOIpMzNTNmuK3j1pmCQpJSVFnSTl\\\n",
       "nZKr8vJySZLNmkI/fABAXDz77LO66baxKpvaQLqq3p/31pf/mLRCJJW84Vbx+mPWyt54CVS9GzLc\\\n",
       "9akds9mkaeOlk44v1MABf9G/npiua6+9NiZrRM1DwIsaZe3atSovL1daWpo6dOgQdKwrAN67d6+2\\\n",
       "bt2qY445ptKYb775RlLgauD33ntPdevWVb9+/aJcOQAAiKXs7GyNuWmsioqKJEkOh0OrVq1Sbm6u\\\n",
       "rNaKHcszMzOVnZ2dyGUCAKqZ8vJy3XLLLXr6P8/J8VFT6UzfPyQGD3njraaFuVXVe9c33PV09f9J\\\n",
       "7RqVadhdY/TDDz/oySefZPM1hI0rBjWKq/9ux44dQ/aaat68uU455RRJ0uuvv17p8WXLlmn79u2q\\\n",
       "VauWBg4cWOnxNWvWaNu2bRowYIDS0tJisHoAABBL2dnZysnJUU5OjnujqiZNmrjvI9wFAMSSw+HQ\\\n",
       "lVdeqRnzn5djZXM/4a5L4K3EImnVsC/A+CCZY1wFWo8ZRFS9G+qF3ied1Vn6+jmHPnxnhq666io5\\\n",
       "HI5Il4gaioAXNYrR/rsu48ePlyRNmTLFHQ5LFVW9N9xwgyTpxhtv9PsL4Jw5cyRVbLQGAAAAAKi5\\\n",
       "7Ha7Lr/8cs36crbKl7SVWgUOcRPNXwDr775E9df15K+vbjj9d/3OGaB6N9jGahHzeGFb50hLp5fr\\\n",
       "i4UzdcUVV6isrCwOJ0R1RcCLGsUV0obqv+sydOhQjR07VoWFhTr11FM1YMAAXXTRRTruuOO0bt06\\\n",
       "nXHGGXrggQf8HjtnzhylpaX5re4FAAAAANQMpaWluvjii/XG93PkXHK81MzIOzyDV/EGquQ1SxVv\\\n",
       "JGIdicdqvoird/18UZo1kpY85dS6L1/XxRdfrNLSWPeKQHVFD17UGHa7XT/88IMk4xW8kjR16lSd\\\n",
       "ccYZmjFjhlasWCG73a5jjz1W48aN09///ne/7Re2bdumtWvXqn///qpbN/BbaICq9nuj4H8FdqRb\\\n",
       "JEm7mpbJWuKMeB4AAAAAFb+HXnLJJXp32wJpUVupoWcM46orDVQLG1k/3nA3XIul/Yp9EFuVwq3e\\\n",
       "jao1QwBH1ZcWTZbOGf+OLh1yimbPW6XUVOI7BMcVghrDZrPp8OHDER07fPhwDR8+3PB42jMg2WRm\\\n",
       "ZsqWkqp3hwV/I5V7F/ncAvcu8oHYUlLZXR4AAAAIwOFw6IorrtC7P/kLd40KHPKWqa5SdTCqNQbi\\\n",
       "Lww2wwZsRtszxD2EDrNy11fDutInk6S+d36nK4b31atvLXZvAgv4Q8ALxMGcOXNksVg0ZMiQRC8F\\\n",
       "kPTnbvFjb3TvFh+Iv13kA2F3eQAAgvu9UfCfuy6O9Ip3zexqWihriSVm8wJInPLycl111VWavWae\\\n",
       "tOT4EOFuloJ3tA2/kjecKt5DkmqHNXv8GQmSw+mra0RMq3ej8eel4Ap5+9y5XFdfMUQvvjpXKSl0\\\n",
       "WoV/BLxAjO3du1fLli1Tjx49lJOTk+jlAG7Z2dkhA1m73S6pYhd5m81WFcsCAKDaOfLOmU2Gxle8\\\n",
       "g6aT8nK/C/kOGhfeSQMkt1tuuUWvLPuvnEtOlo5y9cUNVroZWcgbzypeIwoVOmg1MiZZhR3uhmrL\\\n",
       "EKp61+cSaFJf+myyU73umK+/35irqU/PCjEBaioCXiDGGjZsyG6XAAAANZjRd864hPMOGhfeSQMk\\\n",
       "r2eeeUZP/+cFla/sLjXz3PSsgaILef0LFPJGW8VrtjYN0bRnCFS960/ElbthhrsuzRpKn04qV4+b\\\n",
       "X9GJHbrpujFjI1wAqjMCXgAAAACIMSPvnHHhHTRA9bF48WKNvf1mOT7qLLXK8DMimpA3Mf14w2X2\\\n",
       "jdZcAlXvBhRN390QuX7rJtI7N0v9b79NJ3bsrN69e4e5OFR3NO9AtVGvXj3df//9GjVqVKKXAgAA\\\n",
       "AACoYbZu3aoLLhqismnHS2cGizhD1cAGa2gQXnRapnS/9/vLG0N1F0ikWAXGCanejTLc1b6KjzNP\\\n",
       "kKb+rUzDLhykrVu3RrAQVGdU8KLaqFevniZMmJDoZQAAAAAAapg//vhD5w4eoMIRjaUrT1AkrRa8\\\n",
       "hV/JG26rBiOMtGRIRI9dI+eLZk1hVe9Gk4yHeZlc1Vf67pdCDRnUXyu++lZZWWbtboxYo4IXAAAA\\\n",
       "AAAgQuXl5brsihHa0nS/9HjHP+8NFbw1UHTdbP3XtJapboD7K1fyRlrFG6ogNRGMvJJVXr37Z+Vt\\\n",
       "QAYrd33962/SUZafdMXfLjO8MSeqPwJeAAAAAACACE2YMEHz1y2Wc/YpUqpnzGKkujJYNJllcI74\\\n",
       "SsZAN578Ve8GDHcjrd41Eu4GkGqVZt/k1HdffqiJEydGuABUNwS8AAAAAAAAEXjzzTc1eeojcszt\\\n",
       "ITVI8zMi2pA3mMRV8SY731fdaPVuWOFuMNFW7obQsEx67yqHnvzXI3rrrbfCWRmqKQJeAAAAAACA\\\n",
       "MP3888/KvXK0yv7dVWrvP1StYKQSN9JK3vBC3kj5Zo6+t30zy0gyUaMSX9OsihQ8UBIe53DX9eJ2\\\n",
       "yJH+PaJEo3NH6eeffzZwIKozAl4AAAAAAIAwlJeXa1TuKJVc0Uq6oH2MZo1/Ja/RKt5Yi3bLuWB8\\\n",
       "XzVDG7DFq3q3isJdlwtOki7vVqLRubn0463hCHgBAAAAAADCMGPGDK3c/oPKH+725z31FShoPSIW\\\n",
       "lbzR8xfy+kqmNg2hXtV4H19Jgit3fT0ypFz/2/i1nn76aQOToLoi4AUAAAAAADBoy5YtGnfXOJW8\\\n",
       "3FPKskUwQzxCXv8Bs9FWDUbyxeqy2VpcqncjDXf3hThWqgh2g6wlq5b08iUlGjfuTm3ZsiXEZKiu\\\n",
       "CHgBAAAAAAAMKC8v1+jRo1U26lipT46fEUYqeaWqrOSNtFVDqCreUH14IxVOo4pI2jMY4TfcDdR3\\\n",
       "N5rK3VAMhsx9m0kju5Rp9OjRtGqooQh4AQAAAAAADJg+fbrWb9+s0ildQoyMRcuGBgocdyZ207VE\\\n",
       "CTfA9X01jFbvxkQsKnfDOM/D55Zq+6ZvNWPGDIMHojoh4AUAAAAAAAjhp59+0l3jx2vPy2dJWU0M\\\n",
       "HhXzDrAewgt5fUVSxRtOm4Zw9ydLBMOtGQJV7gZ6QUKFu8GEaMngdQ6P82TVkl4eXKi77hpHq4Ya\\\n",
       "iIAXAAAAAAAgCFdrBktuR6lPyzCPjkUlb7BjjZ3TaKuGcETalzce/Xx9Xwkj1bu+DIe7wUQb7kZx\\\n",
       "jj7HSqO6WWjVUAMR8AIAAAAAAATx4osv6sdft+rQlJ4e9wZroeDLaMuGQGLXkzeUcHvxeopVH14j\\\n",
       "wunV649v9W5Y4W68KndD8ana9WfK2Ye0/edNeumllwxMiOqCgBcAAAAAACCAoqIiTZgwQXse6SbV\\\n",
       "TvMzItygN5hYhrz+q3h9K3nDreL1zSnjUY3rEmmDi0iqdw2LdbgbTksGA7JqSQ9336P7779fRUVF\\\n",
       "xg6C6RHwAgAAAAAABDB16lSVNs+QY9hxIUZWVcgbzsZrkUWk0VTxBhJtdW+wVyXcGuaIq3fjUbkb\\\n",
       "ioGqXa9z7ZMuOt6ho+uladq0aVGeHGZBwAsAAAAAAODHvn379PDDD2v/lO6SxWLgCKPVvKFaNoTq\\\n",
       "yxuO0P14o63iTSYxqd6NRV+KYJuwScYqd8NJxT3OZbFIUzpt15QpU7RvXzJ/tRArBLwAAAAAAAB+\\\n",
       "TJ48WbV6tlJ5v/YKL3ANJ+gNJtA5A80fKBgOXcnrG/JGGgt6ZpJG9wwLVzT9d0NW7waq3PX3gkRa\\\n",
       "lmwk2A2zatfX2a3K1aNtU02ZMiW8tcGUCHgBAAAAAAB8/Prrr5oxY4Z2TznN495wK2vjGfIand//\\\n",
       "eXyreCvuC1zJ65t77gvweVUL2rrBp3rXUGsGo6Kp3I1k3nDPI2lK+02aPn26fv31V4OTwqwIeAEA\\\n",
       "AAAAAHxMmDBBdYd0krrm+Hk0nKA3Vi0bwpnf2Pr8hbyezPbm/nA6DkfVdzdYuBtIrFoyGAh2XU5u\\\n",
       "Ig1uX1cTJ040dgBMi4AXAAAAAADAw4YNG/Taa69p1wM9QowMJ+SNtpo3FpW80fXjjcVma0Z5rjSS\\\n",
       "bsShqncriXe4G4zRlgzhJu6F0oPtdunf//63Nm7cGObBMBMCXgAAAAAAAA9333232o8+RzquoYHR\\\n",
       "4VbzhgpjY7n5WmT9eD0FyxQDtWmItDWtkZjac0yk29AZ7rvrK9bhbjjBrtFwt1Be8x6XLeV2zdbd\\\n",
       "d99tcAKYEQEvAAAAAADAn9avX6/58+fr23t7Krwet7Fs2xCqZUOgOQO1a/A3/xHxrOKN10Zrvrwq\\\n",
       "fsOt3vUVi3A3VEuGWAe7Qea8t+0uffjhh9qwYUMYk8FMCHgBAAAAAAD+NG3aNLW/9BypqSv0DCfk\\\n",
       "lYwHvdFU8wY7R+xD3mTsxev5jIJF4SE3Vgu2e5xLJOFuMKHC3UiC3SBz5tSWLulUX9OmTQtjUpgJ\\\n",
       "AS8AAAAAAICkffv26dVXX9Xqm9v7PGK0h66nWLVtiKQvr9GQ11uwTdc888ZDAe4PlUlG2rrBxchX\\\n",
       "wLd611PMwt1gAWy0LRliGOx6urn1Tr3yyivaty8Z43pEi4AXAAAAAABA0gsvvKBWp3SQs/PRAUY0\\\n",
       "UHhhb6zaNgRr2RBNyBu8DUSwVg2hRBvmukTaZ1cK0ZrBSK+JcJ5EtC0ZIumzG4YujZzq3qKeXnzx\\\n",
       "xfAOhCkQ8AIAAAAAgBrP4XBoxowZ+vnmrgaPiEfQG+uWDeGHvJFU8Va1QO0Zwqre9WQ0XA23dYIU\\\n",
       "OoyNUZ/doP4Mn29utlczZsyQw+GIYBIkMwJeAAAAAABQ4y1YsEAlDrsOX3BimEfGeiO2WLdsMLK+\\\n",
       "wHMaqeKN9Zv+/a0m3AYZntW7IVsz+PIXykaymVqs2jEUKvyq3f2qtLbBRx1W2eFiffTRR2FMBDMg\\\n",
       "4AUAAAAAADXeCy+8oPLRZ0ipgStYA4ukdYPROf0Jt2WD7zzBg+ZoNlzz93ioPcciZaR6N+y+u4F6\\\n",
       "7voTbUuGUCJoxRAscE5NkXJbl+uFF14Ic1IkOwJeAAAAAABQo+3YsUMffvih9l7Z4897ant8hMto\\\n",
       "0BuLtg3RhLz+5joyX7BWDS5GCmFjzcgrFrD3blWEu7FoyRDjYNfTlUft1QcffKD8/PwwT4BkRsAL\\\n",
       "AAAAAABqtLy8PB3fr6fUupGfRyMNe8MNeoNFl6GqeQPNG2oe45W8gap4D/m5L1aMbrDmWb0btDWD\\\n",
       "p0jD3UBBaqx67cYp2HU5Jkvq2+l45eXlhXkiJDMCXgAAAAAAUKO99tpr2jK6k4GR8azolSIPegO1\\\n",
       "bDAakfrOFZl9Pv+NlUDPOCye1btGN1TzFc9eu+FU7frpr2vYPmm0tujf//53BAcjWRHwAgAAAACA\\\n",
       "Gmvz5s3asmWLDg9ob/CIeFf0SsY2YvPHX9DrLzT215PXd54KRqp4q4q/V8VQ9W6wXhJGN1SLJNwN\\\n",
       "VbUb7uZpkYa6PmsZUO+wfvrpJ/30008RToZkQ8ALAAAAAABqrHnz5qlN31OkOhkRHB1J2BurHr1G\\\n",
       "w2Kjx/uez3g/3lC9eKUjuaQry4xnQBw03A13l7hIWjIYDXaNiLJa199a6qZKfTu00bx58yKYFMmI\\\n",
       "gBcAAAAAANRY8+bN07bBJym8Clt/Ig16Q50zWNAbTssGI5W8gblC3jKluyt5/WWYvm0ajOaYrpUY\\\n",
       "ab3gb4yretdw313fkNVfKBvrYNd1vFExqNYNZLDzfwS81QgBLwAAAAAAqJH279+vZcuWqWTQyR73\\\n",
       "Gg1eA4lXVW+8gl5/G695Hm+MkSrecLhW0cDntueKPNsz+BWo766RkDXccNVIsGv0vJFU7Aao1g1k\\\n",
       "UHaJPv/8c+3fH2mKjGRCwAsAAAAAAGqk+fPnK6djW6ll4wAjYhX2GmW0dUM0xxsRulVDsCrequCv\\\n",
       "927A1gzBwt1oK3dj1Y6hCkJdT60ypA4tc7RgwYLwD0bSIeAFAAAAAAA10ty5c7X3gk4GR1dVVa+R\\\n",
       "UDncat7YVfIG68frylR92zTEk+fGapUW4ruIUJup+QtZ4xnsRlKtG0Wo66VQusC6V3Pnzo1yIiQD\\\n",
       "Al4AAAAAAFDjlJaWav78+Soa3C3MIxsousrecKp6ow16fQUKeoPN73msN6NVvOG0nfUUqD2Dv9YM\\\n",
       "QXvv+mO0atfIsb7HGA12jYphqOu5vsEZRZo/f77sdnuUEyPRCHgBAAAAAECN8/nnn8ualSGd3CbK\\\n",
       "mSINeyOp6g0kUNBrdE3hVfL6q+I1kj3Guttr0NYMnoGovw3Vgi0skqrdWAe7sQh1C1Up1PXULUvK\\\n",
       "TE3R559/HsVJkAwIeAEAAAAAQI3zwQcfyH5+DymlroJXsYYj3mGvkaDXyDFGKnkDhbwVXCGvq4rX\\\n",
       "JRZtGvw9i2DVu5VOHoznggK1ZPB3TFUHu5EIEej6SrFIg+rY9f7770d4QiQLAl4AAAAAAFDjfPnl\\\n",
       "lzp01oke92T5fEQr2rDXyNz+BKvmDRX0GmnXULkfr2+rBiM5qz+Vm0AEXlGl6l1/fXdDVe76MrIB\\\n",
       "m+fYYCFqOP11o63WNbqRmx9n2g7pq6++ivDESBapiV4AAAAAAABAVSorK9PqNWvk7HZlkFG+0WKk\\\n",
       "nWQl72DVaIrnCnmDxaWuef3N6Vq/77r9HVNfR5LILI9jfMe6HvMcb0yhz4pCRejBYnG/G6u5eIa7\\\n",
       "vve5GK3a9cdIta4R0bZeiJFuWU6tWb1aDodDVqs1dhOjSlHBCwAAAAAAapSNGzfKmWKRTmgexlGx\\\n",
       "qvANt7LXSPuGSCt6PflW8vr25fXl3Y/X34Zr0e4J5rsyz/YMlv1+qnfDbQTsr/I1UCVtsCpZo9W6\\\n",
       "0VTqhtF6IRztiiWV2bVx48bYTowqRQUvAAAAAACoUVatWqWGXdppR1QVi7Go8A23sjdUVW+w+Twr\\\n",
       "c33Hu8a6otRA1bz75F2HG7iS99Cfq3XN7DrTfvlvxeC5Sr+f/xnuVqre9Q13jVbu+gt2/Ym2Yjea\\\n",
       "tgvx4LMeq0XqUreWVq1apQ4dOsTppIg3KngBAAAAAECNsmrVKjm7HR/jWaOt7g2nstdoVa+vSKt5\\\n",
       "g81ZUcVb8VG5ijda/sJgQ5W7wTZTMxLuxqpiNxyxrtLd5+fDj25Wu1atWhWjkyIRqOAFAAAAAAA1\\\n",
       "yjerVin/2v4K3sM2GtFW94ZT2esZ8vpW9gZ6fv768zbwGefbl9c13rOSt3IVb5nSlaoS90yeqzPS\\\n",
       "e9dz1e7VBqrelUJX7gYLdn3HBhrjb65AwrmUYlmlG8Ul3M1aqhe++SZ2a0GVI+AFAAAAAAA1hsPh\\\n",
       "0Oo1a6Rut3jc668yNZahbzSBb7hhr7/2DYHm8A16Q7Vs8JyvcshbprpK1cFKZ/dt0+DLX5VuVoD7\\\n",
       "LfsVfN85o+FuoKpdX8ka6sbw8uyWLt2w+ls2WjMxAl4AAAAAAFBjbNy4UQ6nU2rXOsTIeIa+kQa+\\\n",
       "vmvyt55gFb2ec4Qb9O6X0UpeVxWvawXBGkm41Jf/6l7P6l2LZ9jqufxCn/t8Q9lgfXl9H3eJZfuF\\\n",
       "aEPdWBeY+2hXS3I6HNq0aZPat28f35MhLujBCwAAAAAAaoxVq1apXpcTpYgqFRv4+YiFLEXWwzfU\\\n",
       "GoL16jXSo9dzjL++vA18btdXmepKqgh5Y5VLerVm8MysPfvV+gt3ffvZ+obC/vrdBuutG6KXrZdo\\\n",
       "+uka6JsbS6kWqXOtFPrwmhgVvAAAAAAAoMb44YcfVNbpuBjOGI9K33ArfI20cXCFvJ4JqZHWDZ7V\\\n",
       "vJ4tG7IUqJK3TPJq1eCvjjhQjN1A/tszBKze9deSIVg7hmAbp/lj9EsZaZVuFQS4bkFaW3S22PXD\\\n",
       "Dz9U3VoQUwS8AAAAAACgxtixY4cOndAozmeJdegbTuAbKuwN1MIhUOsGf20bPFs2+At55a7k3acS\\\n",
       "v69GoaRQX4WsUo/WDK6l7pP/qlvPieUx1vekgY7zFerLlcyBbrAexQEcbSnX5h07Yr8WVAkCXgAA\\\n",
       "AAAAUGNsz89XaZ8O8uwZWzViGfoaDXyNhr3Bgl5//XmDhbySbz9eqUSHFLqhhevx+jrSe9dLoMpd\\\n",
       "F992Db73u0RarRtpu4V4iSDIDSTHKi39dXvsJkSVIuAFACCBfm8U7+oR83Ckp0uSdjVtKmtJSYjR\\\n",
       "NQPXBwAAsfdr/g4p56g/b/k2AvAV7wA4UOQZbiroGfgaCXt9z+Gvqtc3HPa3wVrw18/VqmGfxxGB\\\n",
       "nnGWz38ln+pd13ILPT7315IhWDsGf1/OYC91MgS6MQxxg8mxSvm//lo1J0PMEfACAJAAmZmZsqWk\\\n",
       "6N1hwxK9lKSRkpKiTpLycnNVXl6e6OUkDVtKijIzMxO9DAAAqo1d+TulZk0Mjk5UABxNtW+01b2B\\\n",
       "qnp9K3o9j/Ws5nXdV/F5mfueEtWWvxrfylzVuwHDXX8tGfb53Pbke6JYhbqxDHOrKMgNpJlVyt+1\\\n",
       "K7GLQMQIeAEASIDs7GyNGTtWRUVFiV5K0nA4HFq1apVyc3NljWhX6+opMzNT2dnZiV4GAADVQnFx\\\n",
       "sQr375dyGsdoxmABcKzD30hDXyOBr7/+u75Vvf5aN3huwiZ5h7xH7itTXaUGadNQz+Nz1yuaWiLv\\\n",
       "0NOzctd123fJnk8tHqFuLALdBAe5geRYpX0H/1BJSYnS/3xnHcyDgBcAgATJzs4muPNgt9slSU2a\\\n",
       "NJHNZkvwagAAQHW0c+dOWaxWORs3rIKzVUX1byQtHoIFvqGqegPxDXo9520hqVBlOuiu4nWtwvP/\\\n",
       "hBv8eZ/XxmqS9IvHcvbLfzuGQMFuNKFuNGFuMoa4IZ5PY6eUYrFo586dat26dVSnWrlype6//36t\\\n",
       "WLFCdrtdJ510km699VYNHz48qnkRGAEvAAAAAACoEfLz85XRpLGKUlISvRTFt/o3nGrfQIFvsLDX\\\n",
       "X5/eQHMXqiLgrStJOqSSgEd5vSKerRl82zL4BrtGqnXjEegmOsiNYYsIq0VqkpGu/Pz8qALeRYsW\\\n",
       "qX///kpPT9cll1yiOnXq6O2339bFF1+s7du367bbbovdouFGwAsAAAAAAGqE/Px8Wd0brCWzeFT/\\\n",
       "Gg19/QW+wYJcV+MFz43YfI/PkpSlMm13V/F6zpjlcaQtX0fCXVf1rqtyN9yK3UChbrjBaFUHubHe\\\n",
       "qM2gHFuq8vPzIz6+rKxMV199tVJSUrR06VJ16dJFknTfffepR48eGj9+vC666CK1atUqRiuGSzL8\\\n",
       "yQoAAAAAAECS9NZbb8lisYT8aNmyZdhz5+fny9msmY5EiuF8JJP6IT6MauDnw5e/18FzfO0/P1p4\\\n",
       "3Jfl8XkLSS3//Ly+SnSUV3Gu5zPKKtWRcLdQFeHtdlUEvZ7h7n6Pj30eH4U+H/J5fJ+Ch6eHAnzE\\\n",
       "gr91BPpIkGZyRhXwLly4UFu2bNFll13mDnelitZ048ePV2lpqWbNmhWDlcIXFbwAAAAAACBpNG7c\\\n",
       "WCNHjtSsWbN02mmn6dxzz3U/9umnn2r58uW6/PLL1b9//7DnPnDggOz16ka4smhDXqM7ecVCNBXA\\\n",
       "oSp9jb4OrqpeTy3/nG23V6MH12pt+TpSuetZtevbisFfJa+/pQYSy4rcBAaysVbfUaYDBw5EfPzi\\\n",
       "xYslyevfrIvr3+uSJUsinh+BEfACAAAAAICk0adPH23ZskWzZs3SFVdcoeuuu8792Lp16yRJ//zn\\\n",
       "PyPqE1pWVianLVFRSDQBcazD4XAD4GChr7/n5Qp3XTFulsd9+1Sio7Rdu92ja+vP6l1Xte7+P//r\\\n",
       "qtb1PJ3vSxGqIjcS1Si0DUeqs1xlZWURH79582ZJ0vHHH1/psaZNmyorK8s9BrFFwAsAAAAAAJLK\\\n",
       "2rVrJUmdOnXyun/NmjXKzs6OeBOosrIylScs4I1GVVcPGwmAjW6wJlUOereoTPP165+PHl0q2f6n\\\n",
       "ilB3rSoHu57L9w1fwwlxq1NwW9g05lOmqiCqgLegoEBSRUsGf+rWreseg9gy43c1AAAAAABQjX33\\\n",
       "3XeyWCw66aST3PcdPHhQW7du1ZlnnhnxvGVlZSpPrYlRSKwD4kABsOt+VzrbQBVtGTzLb7dLksp0\\\n",
       "lj7XMo2WZFsl6Ys/h23XkVDXM5ANFOQmMrSNQ8iaSDZJdrs90ctABGridzUAAAAAAJDEvvvuO7Vp\\\n",
       "00Z16tRx37dmzRo5nU517tw54nnLysqUkpKiWvbIqxRrpvQwx+f43Pbse9xR0gFJ58py+BRJ0uFP\\\n",
       "MqTlqsiFi/4cFqxNsEthkzDXFWMZiT19rL1f8rts//2vpkyZEtHxrsrdQFW6Bw8eVP364WwCCKMI\\\n",
       "eAEAAAAAQNL45ZdftH//fvXt29fr/tWrV0tSVAGvJPXfulNXf/h1VHMgVnpIkj7r/rLUPcFLgYqv\\\n",
       "ukq2KI539d7dvHmzunXr5vXYzp07VVhYqB49ekRxBgRCwAsAAAAAAJJGsP67UnQBb2pqqj5pcbQW\\\n",
       "Duwf8Rw1Tok1vPEHfG67KnELJf325+3tkr6Suq8q1W0vf6q/jM5QWvF6jwGH5F3CG6iHsO/Jqlqk\\\n",
       "u7glp2GlJcq+8sqIj+/du7cmT56sjz/+WJdcconXYx999JF7DGKPgBcAAAAAACSN7777TlLlIHf9\\\n",
       "+vWSpA4dOkQ8d2pqqsrLnSq1RVOnaDLFYQa0vnyTo0CtE3x74frrofuLpC2SlknaLjU5XPFQWXFf\\\n",
       "1S5OleRURTuH/apo8+BqxuvqIex7kkyjzyLIwqORyFgt3I3zQnPIIVsU/zbOPvtstWnTRq+//rrG\\\n",
       "jh2rLl26SKpo2TBp0iSlpaXpiiuuiNFq4YmAFwAAAAAAJA1XBa9vwLtvX0W4t3LlSp100klq0KBB\\\n",
       "2HOnpqYqxWybSEUb0IbLSA7qb2OzQj+PH5L3hmnbj/y37gG5e9gWSspWF1VsyrZFFUmwa8IGHhNm\\\n",
       "yXiwaXRjOF/xCILjIdqN8yorS7MrNYpNCFNTU/Xiiy+qf//+6tWrly655BLVqVNHb7/9tv73v//p\\\n",
       "scceU+vWrWO3YLgR8AIAAAAAgKSxdu1a1a1bt1IQNGLECD3++OO68MIL9cEHH+i0004Le+7U1FRZ\\\n",
       "EhHwVnVIG0y4+aW/MNclUKjruu1ZxbtdFbntPimtsCJuddXfbpWUqgZqon2qeKT+nwe4At36fhZe\\\n",
       "qIrwN9CCAwWgoQLicDYBM0sYbExZiiWqgFeS+vbtq2XLlun+++/X7NmzZbfbddJJJ+nhhx/WxRdf\\\n",
       "HKOVwhcBLwAAAAAASBqbNm3ye/+ECRM0YcKEqOauV6+ebAcO6HC4ByZTQBtKNJljsDBXqpyN+rZg\\\n",
       "8LzPFe7u9/j8z+rd9DLvaNZV6NtIzWRVA1Ukwa4n4qrg9a3e9azs9Vyc58z+nlCkwa8/1asqeH+q\\\n",
       "RfXq1Yt6nh49emj+/PnRLwiGEfACAAAAAIAaIScnR5bf8s0V2PqKVVYYKsyV/Gee/kJdz/s9q3Y9\\\n",
       "w90/M9u0P+f0jFn3S6ojaY8y1UiSVVmSjtWRhNh1gnDaEoSq8PUVy+DXlzmqgndYypWTk5Ow8yNy\\\n",
       "BLwAAAAAAKBGyMnJkWNnfqKXEVw88j0jYa4UOtB1CRTset72DHcLj9xOLwscd1ZEuJmq7TeY9a3g\\\n",
       "9W3d4DrGX4sG38pff2cOJJ7Brz+JqwrOLztMwGtSBLwAAAAAAKBGyMnJUfGuXZLDIVkTWMUbzyJN\\\n",
       "o2GuFDijDDRHsGDXdd9+eYe9HiGvq/duA1Vu0eCKaysObaDalU6+X6ErePfLf4sG3+N8n7hv6Gvk\\\n",
       "Razq4NdXbKuCHXJqV8khAl6TIuAFAACoYQoKClRUVJToZSQVh8MhSdq1a5esifyFPwllZmYqOzs7\\\n",
       "0csAgJjIycmR0+GQ9uyRmjSJ34mq4l324QS5LqGyR6PVur7zeXZS8Bxb6P1Yelnw03vGsw6l/9mP\\\n",
       "1x9X+wXPtg2uiNg1k1S5qtclUHWvS7hVvoHm9lVV4a+v0GHw77Kr3OlU06ZNq2A9iDUCXgAAgBqk\\\n",
       "oKBAM6ZNk728PNFLSSopKSnq1KmT8vLyVM5r48WWkqIxY8cS8gKoFtLT05VVv74Kd+ZHH/BWZavU\\\n",
       "SMJcyVieGCrU9TfGtx2D5/0BNllL81iLKwL1jB33+fxXylS65BPy7pP/sDJQ0CsFrur1XY3nk/An\\\n",
       "kipfX4mu+g0sX6VqUKeu0tPTE70URICAFwAAoAYpKiqSvbxcF779thrv2ZPo5SQNR3q6Vj3xhHLz\\\n",
       "8mQtKUn0cpLG740a6d1hw1RUVETAC6DaaJKTo8L8HVLnLsEHJmqvq0jDXMl4TmikBYO/sf6C3f0+\\\n",
       "j3l+/udjrnDX1Z7B1wHJ3ZLBFccWSjoSNfo7ytWywXMzNd+g13VWz4UGC3vl5/hAoqnyDXROX1UX\\\n",
       "/O6QXTnxrGpHXBHwAgAA1ECN9+xRTn6SbzJThewZGZKkJjt3ylZcnODVAADiqXlOjrbszE9cgOsS\\\n",
       "TZDrKdIqXZdQoa7vOTw3UfN83Ldy1+fYUO0ZfE/fQFKJu4rX9cdXz43WfCt5ww16pdhU9nqKRZVv\\\n",
       "sDV4im34my+7cpofE9M5UXUIeAEAAAAAQI3RIidHadvyVVqVJ41VmCtFX6XrYiTY9T2fb7jruxbP\\\n",
       "2z7Vu758N1HzHFZfgVo1eAa3rgXVl3c1r3SkP69kLOh1HeM5r69QfXv9iWWVr6/YVv3my66cFs0j\\\n",
       "Xw4SioAXAAAAAADUGM2aNVPtnb/GL+CNZZgrhZfXRRLqBjrOX7ArVQ539wW47XFfetmR9gxZ8h97\\\n",
       "etqvyvW5RzZdc4W8nhuteYa8UuVqXilw0Ov5pFwCbc7mEkl1r+/cweaPRmTB728pZWrWrFnsl4Mq\\\n",
       "QcALAAAAAABqjA4dOih10bOxmSwe+Vy4BZhG1hBpsOs5xrclg+djnrc9AuBA1btGeVfxFhkIeV0L\\\n",
       "9a3m9ZzN8zGXSKt6XSINfONZ4esreLuHtbZS3dChQ5zOjXgj4AUAAAAAADVGt27ddOD7NZLDIVmt\\\n",
       "xg+MV+4WaQgaabVuoGMDBbuS/3DX97a/zdgUXu9d32lcsWvFdBUhb4VAIa8n34pdf20bfBZrqKrX\\\n",
       "d5X+RNLOwd95jJwremXK1NryQ+rWrVvcz4X4IOAFAAAAAAA1Rrt27WS1WGT/aaN0QoCKxXhmavEK\\\n",
       "dKXgoW6wOQK1Y5CCV+76HhNg4zpXe4ZoeW+6ZqSSVwpezet6XPJf1RtoJ76qCnt9z2X0nOHZqCKl\\\n",
       "pKbqhBNOiOm8qDoEvAAAAAAAoMawWq3q2qWLvvhuVUXAG+8CyWjaFISztnDaMEj+1xWoatdzvG9b\\\n",
       "hgDzphVWrt4N1iRgv58xrvsa/Dmt67GKVg3BQl7JO6D1bctgNOgNVtHrO5fvfP5EG/b6O6eR8wa3\\\n",
       "Sn+oS9cusoZT0Y6kkpLoBQAAAAAAAFSl7t26KWf1qvi2XXB9hGufx0cohzw+As0TaG3BxvpW7Qaq\\\n",
       "3PW8z+OYcHvv+otOA01RokxJFSGvN1d42kBHAtD6Po/7Rsz+qmMDxdD1VXnrN18N5H3+YLJ8PqLR\\\n",
       "wM+HcavSStSte/co14BEIuAFAAAAAAA1Srdu3WRZvyp2ExYqOUJdz/l8BVqbkZYMvuN8A9/9Pvfr\\\n",
       "SPWub3sGI9FjoA4Q/l9az0DTX1DqG8z6BqqBQt5QQa+RsDccsQp7Pc9vLPRdZSum/67J0aIBAAAA\\\n",
       "AADUKN26ddPeH24If6M1l2jeXe8SbvVwpP11pfCDXd9jwgh3Pat3Q0WgRuz3M0/JnxuuHWnV4Mmz\\\n",
       "XYPnQo301A21UZsv336/geb1N3cwviFvLC44yV9rB4ecWnN4PwGvyVHBCwAAAAAAapR27drJ4nRK\\\n",
       "2zYZOyDaCl2XcCp1JePVusH67EZStRsq3I2AZ2RZO8i4wgCf+1bxVm7V4BleBqrQNdKyIVhFb1W1\\\n",
       "bwj3/JFqoI2ySbZUtWvXLsZzoyoR8AIAAAAAgBolNTVVXbt0CdymIVaBrhR+qCuFDnU95/UnWLAb\\\n",
       "qnLXd7znnL5zBKje9d1cLVqu04QX8nryDXkjDXpd4wMxEvR6zh9t2Bt94LvKcoAN1qoBAl4AAAAA\\\n",
       "AFDjnHrqqaq9+vOKG7EMdKXIQl2p6oPdaCp3gwXDOhJzRhJh+p4+PJ79eIP12vUNYv2FpcFCXiNB\\\n",
       "b7zDXs+1RBb2LqtdqJ49e0Z4biQLAl4AAAAAAFDjnH/++bJ9/oF0sDw2E0Yb6kYT7EqBg2l/xwTr\\\n",
       "t+t7jL/Q189GbEaqd0NFmP4y40BPK3AVr++ZYhHyRhr0us5htBtx1Ya95XLqfdtuDRo0KMLzIVkQ\\\n",
       "8AIAAAAAgBrnrLPOkqOoUNr0beSTxDvU9TxHIOFU7UrRh7t+jk0LUfUcbm1psILhYC9F7ELeRAe9\\\n",
       "oc5nROhWDqu0X0XlZTrrrLOiOA+SAQEvAAAAAACocdLS0jRgwABlLp9r/KB9ijzUlYyHup7nCiRY\\\n",
       "O4lAwW4swt0grRlc1bvRtmcwyreKVwon5A3Wl9c1Ppy2DcGO8RRp0Bvtq1k57J2buU8DBgyQzWaL\\\n",
       "cm4kGgEvAAAAAACokQYPHqyGX80LPTDSQNelKoNdI1W7rnl8jw2HwerdaPhuqhasitcz5I2cv+A1\\\n",
       "3Gpe1zFGg97Ehb3zGh7S4MGDo5wLyYCAFwAAAAAA1EgDBgxQ/sbvpZ2/VH4wmkpdKbw2DJ7nCyZY\\\n",
       "mBro2HDDXc8A2XdNBqp3q5q/l6RyFW+wjddCtWzwd1yw440c5yvcoNfz3JGFvf9ToX7I36bzzjsv\\\n",
       "ouORXAh4AQAAAABAjVS/fn2deeaZSv/i/Yo7qjrU9TxnMJFW7fpryeDbesHocw2ysZon3/YM4fbf\\\n",
       "NboMf90kArdqCMVfyGu0mtd1fCyD3viHve+n79JZZ52l+vXDPReSEQEvAAAAAACosS644AK1/nJu\\\n",
       "1bVgkIwHyZEEu5Kxqt1A5/Oc3998fuYxUr3rih5r+9wOtRTfNg2eQr18wfvx+gauRsPRYEFtqDnC\\\n",
       "ibsjDV6NBb1zWxXrggsuiPAcSDYEvAAAAAAAoMa64IIL9POXi6SiP8I7MF7VulLwYNc1TyBGWzIE\\\n",
       "assQal1x4lpOkC4QbsGeYokyg/Tj9Q0+Q4W8wSp5413N+//t3XucXXV97//37J1JJkNgICRNwiFc\\\n",
       "koghYFrESnuOgCAUiShofliLVh2Uyo9A1FYNXs4hPFortVZqqvhTNIOXKm1FYrBHEAUESisYrooK\\\n",
       "iKliLpKAE3AyYTIzvz/GhFzmsvdkz+xZyfP5eOSB2Xvttb6z2YnkNd981o7XH07sHXhX76Y8l1sf\\\n",
       "f9D83b2IwAsAAADss17wghdk9uzZmXDftyp7QbVRd5tKdwgPFVEH27U71EiGSlQ4d7eS8Qxjwe6j\\\n",
       "GqqNvMnAgbUWobfa2DscO6/lWxPWZ86cOZk9e/Ywz8dYI/ACAAAA+7Q3vvGNmf0fywc/aDhht5qZ\\\n",
       "vpXs2q101u5Qa9r1ugMZYDTDjnF3NG+uNtSYhh2fr24e755E3qFUkrtHd1fv8tnP5k1vetMwXs9Y\\\n",
       "JfACAAAA+7TW1tY8etctyfrVOz8xnDEMSfVRdzhht5LzDnWe/o7ZpoJovGPcreaWZNUaqGtXY+B5\\\n",
       "vAMZKPJWO7Jh27kqDb3VqD70/jztufXR+9La2lrltRjLBF4AAABgn3bIIYdkwYIFOfjWzw8/6ibV\\\n",
       "xdhKRicMNWt3uDdT6++4wa41wO7d/vSXMYc7sqHSL6WSXby7629UQ6U3XhvOyIZt56vkRmwjF3o/\\\n",
       "f/DP86pXvSozZsyo8hqMZQIvAAAAsM+74IILUvrO8qR7GDMHqg27lczZrWbW7o7nruRcQ8XdAUYz\\\n",
       "DGS4wwuGo9p7wQ0+qqHSnbzVjmwYKtDWJ/RuTU/aSg/nggsuqPK8jHUCLwAAALDPe+UrX5mmceVM\\\n",
       "uO+Gyl80mmG3kvP3d76hjhss7u6iXrN3B7LjUit92yq76VotbnxWqwEV1d6MLRloTu/KCf+dcRMn\\\n",
       "5IwzzqjR2hgrBF4AAABgn1cul7No0aLMuv0TQx9c67C77ZyDGc7O3UqOG0y1x+9gT/Jmf19mJW93\\\n",
       "paMaKtvJ29+4hnqMbBhsTZV4PvR+4uBHsmjRopTL5WGch7FM4AUAAABI35iG/37wnjSsvn/3J59K\\\n",
       "9TtshzNEdldDhd09ibs12L27Y9ocKlXuN8TzldrxS6n0ZmuDz+NNKg+t1UbepDYjG3Y8V/Wh9/6G\\\n",
       "LfnBb1bn7W9/e9WvZewTeAEAAACSTJ48OX/+53+e4/5z2fMPDmdsQjW7dms5kmHbOSs5dqi4W8WN\\\n",
       "1UbSnlx6sNfuvou3PwPF1MEi73B3824778iE3k9MfyhvfvObM3nycG95x1gm8AIAAAD8zuLFi/Pw\\\n",
       "t76a/GbdyIXdpPYjGSo550DHDRJ3d1Xt7N1a5sTB7js30DHVj2rY0528Q6kkylY7tmHwc67NM7n2\\\n",
       "6XuyePHiKs5LkQi8AAAAAL8zb968nHnmmXnxTX9d+YuqDbvDHcmw7VoDnbeSdVUZrQfbvTvQeIZa\\\n",
       "3V5sMMPd2Tt05O1PLXfyDna+Xc9dm9D719N+kAULFuToo4+u4nwUicALAAAAsIMPf/jDefjflye/\\\n",
       "fmzog2sVdpOhw26td+72d806jmPYE5Xu4q1MNWF1sGMHi7xJ5bt5hx96H8vGtLX/Zz784Q9XcQ6K\\\n",
       "RuAFAAAA2MHRRx+dN77xjZn2nf898EG1nrNb6d3C+jt/f2oQanfdvVvteIZqVfI27XhMLXfx9j+u\\\n",
       "YVcDBdnBImwlkXfkQu+Hpt2dN73pTZk7d24Vr6VoBF4AAACAXSxdujSb7vlG8ot7d36ilnN2k8pG\\\n",
       "MlS7c7fSm6rtwezdgcYz1MqOSxtOyN3zXbzJwJG32iEUQ41sqOa8lb/bq/LLrNx0fy677LKKX0Mx\\\n",
       "CbwAAAAAuzj00EOzaNGi/N6N7+97oJqwm9Rm1+5g19uTuFvB6wabvTuYHRPlSITfwez6dg72ZXem\\\n",
       "ucJ5vNWOa9iTkQ21uk6f97/wrlx88cU59NBDa3RdxiqBFwAAAKAf73//+7PlZ99P6f5bKn9RrUYy\\\n",
       "jGTc3cO5u7XKlLVQzdKHP7Wi2p28ezqXt9IdwgOH3u+WHs0963+aSy+9tMJzUWQCLwAAAEA/Jk+e\\\n",
       "nCVLluSgWy5NenuHfsFIj2QY7Bo1vDnaSMze3W/PT7FdpfeU68+ub1Nl83iT6vcjDxV5ax16n9eb\\\n",
       "3lw68/YsWbIkkyeP9j5q6kHgBQAAABjAO9/5zox/5omUf3jdwAeN1q7danfujsLu3bGWD6sZ01Ab\\\n",
       "g0XYod6dSvZCV7+b92vlh7Km6+ksXry4wtdSdAIvAAAAwACam5uzdOnSTLnlfcmW3+78ZKVhN9mz\\\n",
       "uFur1w21hozM7t1aGOzLrPatG2oXbzLYPN5ajmtIaht5k2fTnCVTvpulS5emuXn3r4u9k8ALAAAA\\\n",
       "MIi3v/3tOeqIQ7PfzTvMM60m7I7mzt1tr+lvHdVcdxiGN1BgYBX06IpeV8m/qv4ib+3UKvIO/Q5f\\\n",
       "ut/1mfnCI/O2t72tkoWxlxB4AQAAAAZRKpWyfPny9N7Tljx2W+127Sa137m7BzMJhtq9W814hpEe\\\n",
       "3bCnoxcqedurn8c71E7ePZ3Lu+0a/bs1P841vXdm+fLlKZUkv32Jf9sAAAAAQ5gzZ04+8rd/mykr\\\n",
       "z0+eqyAP1iLu1mLn7kBrqfHu3Xrb9csZ+V28I5Wwh7eb99l05vxJX8hHrvhIZs+ePSIrY+wSeAEA\\\n",
       "AAAqcPHFF2fenJkZf/ulAx9U6UiGWo9lGGw9FZyj2tm7u+bNyqfEjh39vZWVz+NNBt/JO5ChdvIm\\\n",
       "lUXena+zZPzXcvjxL8yiRYsqfC17E4EXAAAAoALbRjWM++E1yepbdz9guENja6HSubv92DXu9qfS\\\n",
       "5DiS9rRt9/cWVXrOgSPvQIZK3pVE3sp2896Sn+eL4/7LaIZ9mH/rAAAAABWaPXt2rrjiI2n69i6j\\\n",
       "GiodybAnO3drMXe3gqI51O7dkVTNl7LrsbWaOjHQqIaB5/EOZyfvttcOZfDI+2w2521Nn8lH/u4j\\\n",
       "mTVrVgXnY28k8AIAAABUYdGiRXnpvMNTum1JZSMZkuHP2x1KNXN3+1HJ7t09td/IX6Jile7irW4e\\\n",
       "72AGu/FasqeR932lL+eIE+bmoosuqnZh7EUEXgAAAIAqlEqltLUtT9OPv5isvmHoF+xp3K3FTdUq\\\n",
       "WccAds2LQ83freXtx/Z06kWtp2ZUP4+3EsOLvDfkB/lS0535/PLPG82wj/NvHwAAAKBKs2bNyjVt\\\n",
       "yzPu1jclTz3c/0FDjWRIhh93B1JF3O1v9249xzMMx3DGNOzpLt7hRd7ajmv4UX6ZNzV9MsuvaTOa\\\n",
       "AYEXAAAAYDjOPffcvP+970z5ptcknbtkw+GWxkrPMdyRDlUaCzdX29FITpSo5twjF3mHvvnaxpTy\\\n",
       "mvJH8673/WXOPffcIY5nXyDwAgAAAAzT0qVLc+aJL0rDza9Pen63/bVecXcUdu/WcvzCSNn1S+vv\\\n",
       "bam0j3emeRjzePck8g6uK1vz+oa/zu8vOCGXXXbZHp2LvYfACwAAADBMpVIpX/3KlzJn0q+Tu/5q\\\n",
       "7O3cHeGbqO1Zrhx7arOLNxmpnbx/lf8vT855Ll/8ypfM3WU7nwQAAACAPTBp0qTc9H+/kUn//c/J\\\n",
       "o58b/OCRirtV3E2sv927/Rlr4xkGUknz3pNdvMlw5vEme76Td+fXX51/z1cnfS8rv/3NTJq0t6V1\\\n",
       "9oTACwAAALCHjjzyyNzwja9l3L3vTH59Z/8HjXbcrWI7aq1urjYaIxwq+bL2ZONyta8dPPIOpvLI\\\n",
       "e0cezLvGfTpf++bXc8QRRwzzeuytBF4AAACAGnj5y1+ef/rEP6R8x+uSZ1fv/OSexN3BVBl3K529\\\n",
       "29/u3XrN361ic3LV56nFLt7BDfWuDR15V6czC3N5Pv7xf8jJJ588jDWwtxN4AQAAAGrkwgsvzEVv\\\n",
       "e0NKt5yedKzpe7Daubm72tPXj5BK9p/uN+Kr6FPrt2ig3l77UQ3JYO/kmvw6p5UuzJ+9+Y15xyX/\\\n",
       "7xDnYV8l8AIAAADU0D/+4z/mLa87MQ3feUWy9teDH/xsRm00Q6W7d/cW/b0N1ezire2ohuoj7/ps\\\n",
       "zCsaLszJC07JlW3LqlwN+xKBFwAAAKCGSqVSrr766rxhwXHJ909Lnts4vBPV6KZq1RpL4xkGsicz\\\n",
       "dvfUYKMaahV5N+TpnJYL8+KXHZ/PrlieUknCY2A+HQAAAAA1Vi6X84UvfCGvPW1O8v3T+4+8I1Ep\\\n",
       "q9i9W2u1isD1mEhR7S7e4c3jTSqJvBvzm/xJLspR81+YL9zy1ZTL5WFei32FwAsAAAAwAhobG3Pt\\\n",
       "tdfmdacdmfzXKcmWHcY1DDWWYYRHMyR733iG/t6ySsc01NLgu3iTwSLv+mzIKbkwsxYek6/e8/WM\\\n",
       "Gzeutotjr+RTArAPam9vT0dHx26Pd3d3J0nWr1/f73eJm5ub09LSMuLrAwCAvcX48ePzL//yL3nz\\\n",
       "m9+ca284Ob0nfDfZesjwTzjCdbLS8QyV3GCtaJ5K/1/rs+n/6+1Mc5qy+5+rkr7IW05nVdf/Vdbl\\\n",
       "tIa35sV/dkK+8IUviLtUzCcFamzjxo354Ac/mGOPPTYXX3xxvZcDu2lvb8+yf/pUerq7dnuuVCpl\\\n",
       "/vz5aWtrS09Pz+7Plxuz+JJFIi8AAFRh3Lhx+dKXvpSmCy7IF/7lpPS86DtJ0xH9HzzcubsF2b07\\\n",
       "3DEOT6f/+DxctTrf8CPvtnei71/46jyR00pvyclvPS2f/exnjWWgKgIv+7zVq1fnyCOPzMknn5zb\\\n",
       "brut32O6urryla98Jf/6r/+a++67Lxs3bkxTU1OmTp2aOXPm5JRTTsl5552XmTNn5uCDD86NN96Y\\\n",
       "a6+9Nu94xzvS2Ng4ul8QDKGjoyM93V257u7XZsMzU3d6rml8d66cvypt32tN53M7/wfFlP2fzMKX\\\n",
       "Xp+Ojg6BFwD2wK5/k2agv0Hjb87A3qVcLudzn/tcJk16V666+qXpnvv1pOVlOx9Uj+GzO6hlQB0N\\\n",
       "/e2s7W8X7kA7cPtT7S7eWrgj92Rh+ZL82aI35sorr3RDNaom8MIQHn300bzuda/LD3/4wzQ3N+e4\\\n",
       "447LSSedlOeeey4PP/xwbrrpptx00005/vjjM3PmzCTJ2WefnWXLluWWW27JGWecUeevAPq34Zmp\\\n",
       "WfubGTs9NnFC367ede3TsnmLb04w8naMHP0FDnED2Nu0t7fnk59alq1dz/9NmYH+Bs24xlIuXrTY\\\n",
       "74OwFymVSlm2bFnmzZuXSxafka1HfiKZ8fa+J4eKu3XavVurG6ftDUZiVMPV+WbeNe4D+fgnr8w7\\\n",
       "3vGO2iyUfY7AC4N4+umnc8opp+RXv/pV3v3ud+dDH/pQJk/e+f/eHn/88XzmM5/JH/7hH25/7Jxz\\\n",
       "zsmyZcuyYsUKgRdgAO3t7fnUsn9KV09f2O0vcDSWylm0+BJxA9hrdHR0ZGtXTw597XVpmrqh78Hu\\\n",
       "pmTVlZnV2paU+yJA55NT8sT1C/3NGdhLXXjhhTn66KNz1msW5tnfPpjM/ngGTTTDiLsjqb/I2V8I\\\n",
       "3m+kF7KHBhrTMNAu3uHqL/J2pSt/mQ/l2kkr8q1/vzEnnXRSDa/IvkbghUF87GMfy69+9assWLAg\\\n",
       "H//4x/s9ZtasWfm7v/u7nR476aSTMnny5KxcuTJXXXVVGhoaRmO5AIXS0dGRrp7uvPa6X2bqhs50\\\n",
       "N43Lqivnp7XtZyl3bs2TU5py/cKZ4gawV2qauiETZ6zt+0nXxCTJxGnrksbNdVwVMJpOPvnkPHj/\\\n",
       "PTnjzLPz2H2vTO+h/5qM6ycrDjPuVrt7t2jjGapVqxELg+3iTVLRTt6NeSqvbzg/G17wm9xz0z05\\\n",
       "4ogjarAy9mWGesAgbr755iTJiSeeWNXryuVyzjrrrKxZsyZ33333SCwNYK8xdUNnZqztzLR1W5Ik\\\n",
       "09ZtyYy1nZm6obq7DgMAFM2RRx6Ze39wV856+QHZb+1Lk86Ha3LegeJutYo6nqGaUcYD9fORGof8\\\n",
       "o/wkJ5T/JC1nTcl/rLpL3KUm7OCFQWze3LeD4vbbb8973/vequ5iec455+SLX/xiVqxYkRNOOGHA\\\n",
       "47Zs2ZItW7Zs//mmTZuS9N3Yraura5grh4F1d3enVCqlaXz39pm720wc37XTP3fUNL7vdd3d3T6b\\\n",
       "1MS2z2J307h0TWxM18S+/yzZ9s/upnE+cyPg+fe9KV0TJ9Z7OWPGtvfCe7Kz7qYmvw5rbNuvwXQ3\\\n",
       "bd+5u9s/k6Tbe8/o8Pmqv0mTJmXFiq9l6dKl+fuP/XE6f+/LyQGv7nuyxqMZ9sbduyN587PhXHOw\\\n",
       "ebwrckveMu5tedcH3pXLLrvMzdSomYbe3t7eei8C6mn16tU58sgjc/LJJ+e2227b6blFixblqquu\\\n",
       "StL3ndVzzz03p512Wv74j/84kyYN/n8hHR0dmTJlSg4//PD8+Mc/HvC4pUuX5vLLL9/t8a985Stp\\\n",
       "bm6u/gsCAACoUEdHR84777y0t7fngAMOqPdy9nn/9m//lre+9fx07vfn6Zn60WTTIH/uHIXxDP3t\\\n",
       "4B1oRZXO4N3xuPLErpzy1f+be/5sQbo3Nw543I76W2ulM4EHOnag8w7nPMnuYxqeyTO5tPSh/HPT\\\n",
       "tVl+zfKce+65g7waqifwss8bLPC2t7fnLW95S77xjW/s9HhjY2NOPfXULFq0KK9+9asHPPfZZ5+d\\\n",
       "lStX5qc//WmOOuqofo/pbwfvzJkzs2HDBv+BxYhYv3592tra0va91qxrn7bTcxPHd2X5+27O+R89\\\n",
       "PZuf2/k/sKa3rE/ryW1pbW3NtGk7vw6GY9tnsbXtZ5m2bku6Jo7Lzcv/n5x+/tfSuHlr1k+fkLbW\\\n",
       "2T5zNfb8+96WaevW1Xs5Y0bXxIm5efnynH7++WncbAbqNuunT09ba6tfhzW07dfgrNa2vpm7SdI1\\\n",
       "MeWbl6f79PO3z+DdvH56Hm/z3jPyNm3alClTpgi8Y8jjjz+e888/Pw889N/5TWl50nTK7gcNI+4m\\\n",
       "1QXeasPmvhZ4BztX8nzkvSW35S8OXJQjfv+IfH755zNr1qxBXgXDY0QDDKKlpSUrVqzIo48+mq9/\\\n",
       "/ev5zne+k7vuuisdHR256aabctNNN+U973lP/v7v/77f159zzjlZuXJlrr/++ixZsqTfYyZMmJAJ\\\n",
       "Eybs9nhjY2MaGxv7eQXsmXK5nJ6ennQ+V87mLf1/xjY/17jbc53P9b2uXC77bFIT2z6L5c6tadz8\\\n",
       "/F8Pbdzc9/Nyp8/cSHj+fe8UMvvRuHmz92UH5c5Ovw5rbNuvwZQ7d7+hWuPm5x8re+8ZHT5fY8+s\\\n",
       "WbNyyy235KqrrsqSJa/O1u635LmJf5eUfpcThzlfdyTHM4zFWb1PpTbrGuw8g41q2JCeXH7Ie/LF\\\n",
       "33w5V/z1FbnooouMZGDE+GRBBV7wghdkyZIlufnmm/P000/nm9/8ZubNm5ck+Yd/+If87Gc/6/d1\\\n",
       "hx12WJLkl7/85aitFaBonpzSlLUzmrJ+et83u9ZPn5C1M5ry5JSmOq8MAKA+SqVSLr744jz44AP5\\\n",
       "oxf9MFO65iedtw35ulrdXG0sGKmbnA30Fg027rha38ut+aODX5SHX/CTPPDgA7n44ovFXUaUHbxQ\\\n",
       "pfHjx+dVr3pVpkyZkj/6oz9Kb29vHnroocyePXu3Y2+44YYkyVlnnTXaywQY85qbm9NYKuf6hTOT\\\n",
       "9P1BZn6SttbZfbvbkjSWyuaRA3ulzienPP+T7qZMSt9YhpQ7d38e2GfNnj07t956az71qU/l0kvP\\\n",
       "SkPPW/Pb3iuShupuKzbQ7t1qVXPV/sYzjJSRvtFapbt4n82z+T/7Lck/934hVyy1a5fRI/DCMM2c\\\n",
       "OXP7/x7ohmvf+MY3csABB+TUU08drWUBFEZLS0sWLb4kHR1988m6u7uzatWqtLa2plwuJ+mLwC0t\\\n",
       "LfVcJkBNNTc3Z1xjKU9cv3D7Y6VSKfPnJ4+3tW7/BleSjGss+SYXkFKplEsuuSQLFixIa2trHnl0\\\n",
       "fjZ0fDTdDQuThobtxw1n9+5w5s7uzZ7O8EZW9KY315e/lv+z/5IcNn9mHlj+QL+bwGCkCLzQj97e\\\n",
       "3jTs8H+U/VmxYkWSZP/998///J//c7fn77///qxevTp/+qd/mvHjx4/EMmGPTNn/yd0eaxrfnaTv\\\n",
       "hmqdz5WHPB72VEtLy/aA29XVN4d32rRp5gECe62WlpZcvGjx9m9uJf1/gyvxTS5gZ7Nnz85tt92W\\\n",
       "z3/+87nsssWZ0PTR/GLjFekpnTqsG6vtCwbaeTucHb8DneuO0nfztwddmnXjf5XLL788b3vb2+za\\\n",
       "ZdQJvNCPD37wg3nqqadyySWX5Jhjjtnpuc2bN+fzn/983vve9yZJrrjiin53VmwLwOecc85ILxeq\\\n",
       "0tzcnFK5MQtfev1uz/X9h8j8tJ7cttMOou3PlxvtJAKAPbTjN7cS3+ACKlcqlXLBBRfkjW98Y5Yt\\\n",
       "W5Yrrnhdps84IY8/+pE05MVVnasWN1erh+Husq21B3NvPvJ7l+beLXfn0vdcmsWLF/uzEnUj8EI/\\\n",
       "7rzzztxxxx35zGc+kyOPPDIvetGLst9++2XNmjV56KGH8tRTT6WpqSmf+MQnctFFF/V7jhUrVmT8\\\n",
       "+PFZsGDBKK8eBtfS0pLFlyzaaefQNgPtINrGTiIAAKi/5ubmXHrppfmLv/iLXHHFFfnkJ1+WF8x5\\\n",
       "TX7y479JMmf7ccPZvTvQeIaBdrzubeMcBgvITyVpz2P56LQP5cZNK3PJWy/J15Zcm8mT97Z3gaIR\\\n",
       "eKEfn/3sZ/Ptb3873/3ud/PYY4/lzjvvzKZNm3LAAQfkqKOOymmnnZYLLrgghx12WL+vX716dR54\\\n",
       "4IGcccYZOeCAA0Z59TC0XXcObWMHEQAAFMfkyZPz0Y9+NIsXL87ll1+eRx59UY6Z15oHH/jfaWiY\\\n",
       "Ue/ljaqBxi7UakzDk1mbq6f9db7W3pY3vfpNeeSyR3LooYcOZ6lQcwIv9GPu3LmZO3duFi9ePKzX\\\n",
       "G88AAADAaDn00ENz9dVX56/+6q/ywQ9+MD96eFamTH5DfrP2nSn1/sFux4+FEQdj2Y67eB9uuC9f\\\n",
       "O25ZVjx8bRb8rwW578P3Ze7cufVcHuzG1GcYAStWrEhDQ0POPvvsei8FAACAfcTcuXNz3XXXZdWq\\\n",
       "VTnrNU3pmfi/8j/mnpzDXvD19GboeQ0GDfTZmq25acLX87a5J+XNE1+WA1/alHvvvTfXXXeduMuY\\\n",
       "JPBCjW3cuDF33nlnXvrSl2bGjH3rr8QAAABQf/PmzcunP/3p/PKXv8xbW1+VTVvenaaph+eFx/3v\\\n",
       "TMrqqs9XzSiDInl2l5+vyc/zz8d9KG+YeniunPbuvPb8V+eJJ57Ipz/96Rx99NF1WSNUQuCFGjv4\\\n",
       "4IOzdevW/Nd//Ve9lwIAAMA+bPLkyXnf+96Xxx9/PNdcc3UOOeyhPNl4VA6Yd0amzPqX9OSZEbnu\\\n",
       "fiNy1uF7apDnfptNuWXCv+QD887IeY0vzJrDf5TPXXN1Hn/88bz3ve/NQQcZaMHYZwYvAAAAwF6s\\\n",
       "XC5nwYIFWbBgQdasWZNrrrkmX/7y5Vk//s15wZEvz1P//ZqUOl+dpP8biQ+k2pEOtRoBseOM3B1V\\\n",
       "euO0X+cXuXviDfnB/ivzg6duzZxZc/KmN74pX229xt/EpZAEXvZ5Bx54YC677LIcccQR9V4KAAAA\\\n",
       "jKhDDjkkH/jAB/KBD3wgjz32WG644YasXPm13Hnnu7J1/2MycctrMr7j1WnO8WkYpb/4/WySif08\\\n",
       "/lRqE4V70pOfZFUefMHK/GfnDXlk7Y9y4h+dmHNf/ep88dWfypw5c2pwFagfgZd93oEHHpilS5fW\\\n",
       "exkAAAAwqubMmZN3v/vdefe7352nn3463/rWt3LDDTfkW986PeVScw6bfFY6Hn9ZGnqPT3PmpiHl\\\n",
       "ei+5Ij3pzq/ykzzRsiqrp9yZ/3rqm9nS05Ezjz8zH3rNkrzyla80eoG9isALAAAAsI876KCDct55\\\n",
       "5+W8885LV1dX7rjjjnzzm9/M97//mdx33/3p7UkOOfgPsl/v8enecHyauo7PgZmbUp3TUne2Zm1+\\\n",
       "nP/Oqjwx/t48OWVVHtl4fxpKyR8c8wc54YQT8s6zvpwTTzwxjY2NdV0rjBSBFwAAAIDtGhsbc+qp\\\n",
       "p+bUU09NknR3d+cnP/lJVq1a9bsfV+e++y7Kj7p6M+PAP8ikrfOT3/6PjHtuRiZkRg7KIZmYGZmQ\\\n",
       "qSnt4a7fnnTnt3kym7I2m7Imm7I2z2Rteg/6VX417oE8/psHUio35LgXH5fjX3J8jj/+HTn++OMz\\\n",
       "d+7clMvF2HEMe0rgBQAAAGBA5XI5xxxzTI455pi8+c1vTtIXfX/6059m1apV+dGPfpQ1ax7N2rW3\\\n",
       "Z+3atfnJL9am/ZmnUmooZ/+m38t+42akqfeQNG89KA0949LQ05j0jEupq5THPrs6T3TfmPK4nvSW\\\n",
       "utJb2prnxj2d3zasyaata7Op89fp7u3OgftPzvRpM3LIoTPyP2bOyCGHHJI/P+aiHH/88XnhC18o\\\n",
       "5rJPE3gBAAAAqEq5XM68efMyb968fp/v7OzMunXrsnbt2u0/fvOb32Tr1q3bf3R1dSV5YV40vzHj\\\n",
       "xo3b/uPAAw/MjBkztv+YPn16mpqaRvcLhAIReAEAAACoqaamphxxxBE54ogj6r0U2OuV6r0AAAAA\\\n",
       "AACGR+AFAAAAACgogRcAAAAAoKAEXgAAAABGxJVXXpljjjkmkyZNyoEHHphTTz013//+9+u9LNir\\\n",
       "CLwAAAAAjIjDDz88H//4x/PAAw/krrvuypw5c3LGGWdk48aN9V4a7DUEXgAAAABGxOte97qcccYZ\\\n",
       "mT17dubNm5ePfexjaW9vzw9/+MMkyezZs9PQ0NDvj29/+9t1Xj0Ug8ALAAAAwIh77rnn8tnPfjYH\\\n",
       "HXRQXvSiFyVJrr322iTJPffck7Vr124f33DPPffkFa94Rd3WCkUyrt4LAAAAAGDvdccdd+TMM8/M\\\n",
       "5s2bM3369Nx8882ZPHlykuTXv/51Jk2alOOPPz4NDQ25++67d/o5MDQ7eAEAAAAYMS95yUty//33\\\n",
       "56677sqZZ56Z17/+9dmwYUOS5KGHHsoxxxyzPeY++OCDOfbYY8VdqILACwAAAMCImThxYubMmZMT\\\n",
       "Tjghn/vc51IqldLW1pYk+eEPf7h9XEOSPPDAAzv9HBiawAsAAADAqOnt7c2WLVuS9O3gPfbYY7c/\\\n",
       "99BDDwm8UCUzeAEAAAAYEUuWLMlrXvOaHHrooXnqqady1VVX5YknnsjChQuzdevW/OQnP9kedHt7\\\n",
       "e/P444/nsMMOq/OqoVjs4AUAAABgRKxZsyZveMMbctRRR2XBggVZv3597rjjjhx99NF55JFH8txz\\\n",
       "z23fwdvQ0JBjjz02F154YR577LE6rxyKww5eAAAAAEbEl770pQGfmzdvXnp7e3d67N577x3pJcFe\\\n",
       "xw5eAAAAAICCEngBAAAAAArKiAYAAAAAaq6hoaEm59l1jAOwM4EXAAAAgJoTZmF0GNEAAAAAwKj4\\\n",
       "yEc+kpe85CXZf//9M23atLz+9a/P6tWr670sKDSBFwAAAIBR8b3vfS+XXHJJvv/97+fGG2/MU089\\\n",
       "lTPPPDNbt26t99KgsIxoAAAAAGBU3HjjjTv9/Oqrr86sWbPy8MMPZ/78+XVaFRSbHbwAAAAA1EV7\\\n",
       "e3uSZPLkyXVeCRSXwAsAAADAqOvu7s573vOeLFiwIIceemi9lwOFZUQDAAAAAKOqt7c3F154YX7x\\\n",
       "i1/kP/7jP+q9HCg0gRcAAACAUdPb25uLLroo3/nOd3L77bdn6tSp9V4SFJrACwAAAMCo6O3tzaJF\\\n",
       "i/Lv//7v+d73vpeZM2fWe0lQeAIvAAAAAKNi0aJF+epXv5obbrghEydOzLp165L03WRt/PjxdV4d\\\n",
       "FJPACwAAAMCo+PSnP50kOfHEE3d6/NZbb83LX/7yOqwIik/gBQAAAGBU9Pb21nsJsNcp1XsBAAAA\\\n",
       "AAAMj8ALAAAAAFBQAi8AAAAAQEEJvAAAAAAABSXwAgAAAAAUlMALAAAAAFBQAi8AAAAAQEEJvAAA\\\n",
       "AAAABSXwAgAAAAAUlMALAAAAAFBQAi8AAAAAQEEJvAAAAAAABSXwAgAAAAAUlMALAAAAAFBQAi8A\\\n",
       "AAAAQEEJvAAAAAAABSXwAgAAAAAUlMALAAAAAFBQ4+q9AAAARt+TU6bUewljSndTU5Jk/fTpKXd2\\\n",
       "1nk1Y4fPCQDA2CfwAgDsQ5qbm9NYKuX6hQvrvZQxpVQqZX6SttbW9PT01Hs5Y0pjqZTm5uZ6LwMA\\\n",
       "gAEIvAAA+5CWlpYsWrw4HR0d9V7KmNLd3Z1Vq1altbU15XK53ssZU5qbm9PS0lLvZQAAMACBFwBg\\\n",
       "H9PS0iLY7aKrqytJMm3atDQ2NtZ5NQAAUDk3WQMAAAAAKCiBFwAAAACgoAReAAAAAICCEngBAAAA\\\n",
       "AApK4AUAAAAAKCiBFwAAAACgoAReAAAAAICCEngBAAAAAApK4AUAAAAAKCiBFwAAAACgoAReAAAA\\\n",
       "AICCEngBAAAAAApK4AUAAAAAKCiBFwAAAACgoAReAAAAAICCEngBAAAAAApK4AUAAAAAKCiBFwAA\\\n",
       "AACgoAReAAAAAICCEngBAAAAAApK4AUAAAAAKCiBFwAAAACgoAReAAAAAICCEngBAAAAAApK4AUA\\\n",
       "AAAAKCiBFwAAAACgoAReAAAAAICCEngBAAAAAApK4AUAAAAAKCiBFwAAAACgoAReAAAAAICCEngB\\\n",
       "AAAAAApK4AUAAAAAKCiBFwAAAACgoAReAAAAAICCEngBAAAAAApK4AUAAAAAKCiBFwAAAACgoARe\\\n",
       "AAAAAICCEngBAAAAAApK4AUAAAAAKCiBFwAAAACgoAReAAAAAICCEngBAAAAAApK4AUAAAAAKCiB\\\n",
       "FwAAAACgoAReAAAAAICCEngBAAAAAApK4AUAAAAAKCiBFwAAAACgoAReAAAAAICCEngBAAAAAApK\\\n",
       "4AUAAAAAKCiBFwAAAACgoAReAAAAAICCEngBAAAAAApK4AUAAAAAKKhx9V4AAADAWNLe3p6Ojo5R\\\n",
       "u153d3eSZP369SmXy6N23ebm5rS0tIza9QCAkSHwAgAA/E57e3s+tWxZunp6Ru2apVIp8+fPT1tb\\\n",
       "W3pG8bqNpVIWLV4s8gJAwQm8AAAAv9PR0ZGunp689rrrMnXDhlG5ZndTU1ZdeWVa29pS7uwclWs+\\\n",
       "OWVKrl+4MB0dHQIvABScwAsAALCLqRs2ZMbataNyra6JE5Mk09atS+PmzaNyTQBg7+EmawAAAAAA\\\n",
       "BSXwAgAAAAAUlMALAAAAAFBQAi8AAAAAQEEJvAAAAAAABSXwAgAAAAAUlMALAAAAAFBQAi8AAAAA\\\n",
       "QEEJvAAAAAAABSXwAgAAAAAUlMALAAAAAFBQAi8AAAAAQEEJvAAAAAAABTWu3gsAAPZe7e3t6ejo\\\n",
       "qOjY7u7uJMn69etTLpcrek1zc3NaWlqGvT4AAICiE3gBgBHR3t6eT31yWbq29lR0fKlUyvz589PW\\\n",
       "1paenspe0ziulEUXLxZ5AQCAfZbACwCMiI6OjnRt7clrp12XqeM3DHl8d0NTVuXKtB7alnJv55DH\\\n",
       "P/nclFy/fmE6OjoEXgAAYJ8l8AIAI2rq+A2Z0bR2yOO6MjFJMm3CujRm80gvCwAAYK/gJmsAAAAA\\\n",
       "AAUl8AIAAAAAFJTACzW2cePGXHjhhfnkJz9Z76UAAAAAsJcTeBmTVq9enYaGhrz85S/f6fGXvOQl\\\n",
       "aWhoqOrH1KlTR3XtBx98cG688cZ86EMfSldX16heGwCoTHt7e9auXbv9x/r165Mk69ev3+nx9vb2\\\n",
       "Oq8UAAAG5yZrFEZvb2+OO+64HHvssTs9/vOf/zy33357Jk2alIULF+72urlz547WErc7++yzs2zZ\\\n",
       "stxyyy0544wzRv36UI329vZ0dHQkSbq7u5P0BY5yuZwkaW5uTktLS93WB1Br7e3t+eSyT2Vrz/Pf\\\n",
       "iC2VSpk/f37a2trS09Oz/fFxpcZcvHiR3wcBABizBF4Ko6GhIVdfffVuj//N3/xNbr/99pxwwgm5\\\n",
       "5pprRn9h/TjnnHOybNmyrFixQuBlTGtvb8+nPrUsXV19MaO/wNHYWMqiRYvFDWCv0dHRka09Xdn/\\\n",
       "utemvKHvb/o0NHUnV65KS1trejv7vsHVPeXJPLPw+nR0dPg9EACAMUvgpfDuu+++JMmLX/ziOq/k\\\n",
       "eSeddFImT56clStX5qqrrkpDQ0O9lwT96ujoSFdXT157+nWZetCGdHc3ZdXPrkzra9tSLnfmyaen\\\n",
       "5PqbF4obwF6pvGFqGtfOSJI0TOzbzdu4blp6NzfWc1kAAFAVM3gpvHvvvTdJctxxx9V5Jc8rl8s5\\\n",
       "66yzsmbNmtx99931Xg4MaepBGzLj99Zm2tR1SZJpU9dlxu+tzdSDNtR5ZQAAAMBg7OCl0J5++ums\\\n",
       "Xr06ydjawZv0jWn44he/mBUrVuSEE04Y8LgtW7Zky5Yt23++adOmJElXV5ebtDHiuru7UyqV0t3d\\\n",
       "lK6tE9O1dWKSbP9nd3fT757v9nmkats/Xw1N6crEIY/fdkwlxyZJd4PPJ8Oz7bPZ0NS9fefurv9M\\\n",
       "+sY2+Izte7b/3tXUlK6Jlf1+tKe2XWe0rpck3U1+D6WPf/8AxdfQ29vbW+9FwK5Wr16dI488Mief\\\n",
       "fHJuu+22AY+75ZZb8opXvCKTJk1Ke3t7SqWxsym9o6MjU6ZMyeGHH54f//jHAx63dOnSXH755bs9\\\n",
       "/pWvfCXNzc0juUQAAGAf19HRkfPOOy/t7e054IAD6r0cAIbBDl4Kbdv83d///d8fU3E3SZqbm3P6\\\n",
       "6adn5cqVeeSRR3LUUUf1e9z73//+/OVf/uX2n2/atCkzZ87Mn/zJn/gPLEbc+vXr09bWltbXtmXa\\\n",
       "1HXp2joxN/9geU5/yflpHLc565+cnrbrW9Pa2ppp06bVe7kUzPbP16FtmTZh3ZDHd2Vibt5veU7/\\\n",
       "7flpzOahz79letqe8Pmkets+my1trWlc1/fZaZjYlRnLb87a80/fPoO3a/r6tLe2+YztY7b/3tXW\\\n",
       "lmnrhv69qxa6Jk7MzcuX5/Tzz0/j5qF//6uF9dOnp63V76E8/zcIASgugZdC25P5u+973/uycuXK\\\n",
       "ql/3uc99Li972csqOvacc87JypUrc/3112fJkiX9HjNhwoRMmDBht8cbGxvT2OgmL4yscrmcnp6e\\\n",
       "lMudaRz3/B8oG8dtTuO4zSmXO3/3fNnnkapt/3z1dlYUbLdpzOaKji/3+nwyPNs+m72d5d1uqNa7\\\n",
       "uXH7Y72dZZ+xfdD237s6O0cttm7TuHnzqF2z3On3UPr49w9QfAIvhbZtB+9w5u+uWbMmP/3pT6t+\\\n",
       "3bPPPlvxsYcddliS5Je//GXV14HR9OTTU5L0zdxNkvVPTk+53Ln9cQAAAGBsEngprI6Oju2Bdjg7\\\n",
       "eL/85S/ny1/+cq2XtZMbbrghSXLWWWeN6HVguJqbm9PYWMr1Ny9MkpRKpcyfn7Rd35qenp4kSWNj\\\n",
       "yTxoYK/UPeXJ7f+7oak7Sd9Yht7O8m7PAwDAWCXwUlgPPPBAenp6Mn78+BxzzDH1Xk6/vvGNb+SA\\\n",
       "Aw7IqaeeWu+lQL9aWlqyaNHidHR0JOm7c/iqVavS2tqacrkvcDQ3N6elpaWeywSoqebm5owrNeaZ\\\n",
       "hddvf6xvlv/8tLe2bf8GV5KMKzX6JhcAAGOawEthbZu/e+yxx47JuVH3339/Vq9enT/90z/N+PHj\\\n",
       "670cGFBLS8v2gNvV1ZUkmTZt2pj8dQVQCy0tLbl48aLt39xK+v8GV+KbXAAAjH0CL4W1J/N3R8OK\\\n",
       "FSuS9N1oDQAYW3b85lbiG1wAABRXqd4LgOHatoN3OPN3R8OKFSsyfvz4LFiwoN5LAQAAAGAvJfBS\\\n",
       "SF1dXfnRj36UZGzu4F29enUeeOCBnHLKKTnggAPqvRwAAAAA9lJGNFBIjY2N2bJlS72XMSDjGQAA\\\n",
       "AAAYDQIvjIAVK1akoaEhZ599dr2XAlB3Tz43paLjuhuakv2S9Vump9zbWbPzAgAA7M0EXqixjRs3\\\n",
       "5s4778xLX/rSzJgxo97LAaib5ubmNI4r5fr1Cys6vlQqZf7kpO2J1vT09FT0msZxpTQ3N+/JMgEA\\\n",
       "AApN4IUaO/jgg7N169Z6LwOg7lpaWrLo4sXp6Oio6Pju7u6sWrUqra2tKZfLFb2mubk5LS0te7JM\\\n",
       "AACAQhN4AYAR09LSUnGA7erqSpJMmzYtjY2NI7ksAACAvYbAy5h04IEH5rLLLssRRxxR76UAAAAA\\\n",
       "wJgl8DImHXjggVm6dGm9lwEAAAAAY1qp3gsAAAAAAGB4BF4AAAAAgIISeAEAAAAACkrgBQAAAAAo\\\n",
       "KIEXAAAAAKCgBF4AAAAAgIISeAEAAAAACkrgBQAAAAAoKIEXAAAAAKCgBF4AAAAAgIISeAEAAAAA\\\n",
       "CmpcvRcAAAAw1jw5ZcqoXau7qSlJsn769JQ7O0flmqP59QEAI0vgBQAA+J3m5uY0lkq5fuHCUbtm\\\n",
       "qVTK/CRtra3p6ekZtes2lkppbm4etesBACND4AUAAPidlpaWLFq8OB0dHaN2ze7u7qxatSqtra0p\\\n",
       "l8ujdt3m5ua0tLSM2vUAgJEh8AIAAOygpaVlVMNnV1dXkmTatGlpbGwctesCAHsHN1kDAAAAACgo\\\n",
       "gRcAAAAAoKAEXgAAAACAghJ4AQAAAAAKSuAFAAAAACgogRcAAAAAoKAEXgAAAACAghJ4AQAAAAAK\\\n",
       "SuAFAAAAACgogRcAAAAAoKAEXgAAAACAghJ4AQAAAAAKSuAFAAAAACgogRcAAAAAoKAEXgAAAACA\\\n",
       "ghJ4AQAAAAAKSuAFAAAAACgogRcAAAAAoKAEXgAAAACAghJ4AQAAAAAKSuAFAAAAACgogRcAAAAA\\\n",
       "oKAEXgAAAACAghJ4AQAAAAAKSuAFAAAAACgogRcAAAAAoKAEXgAAAACAghJ4AQAAAAAKSuAFAAAA\\\n",
       "ACgogRcAAAAAoKAEXgAAAACAghJ4AQAAAAAKSuAFAAAAACgogRcAAAAAoKAEXgAAAACAghJ4AQAA\\\n",
       "AAAKSuAFAAAAACgogRcAAAAAoKAEXgAAAACAghJ4AQAAAAAKSuAFAAAAACgogRcAAAAAoKAEXgAA\\\n",
       "AACAghJ4AQAAAAAKSuAFAAAAACgogRcAAAAAoKAEXgAAAACAghJ4AQAAAAAKSuAFAAAAACgogRcA\\\n",
       "AAAAoKAEXgAAAACAghJ4AQAAAAAKSuAFAAAAACgogRcAAAAAoKAEXgAAAACAghJ4AQAAAAAKSuAF\\\n",
       "AAAAACgogRcAAAAAoKAEXgAAAACAghJ4AQAAAAAKSuAFAAAAACgogRcAAAAAoKAEXgAAAACAghJ4\\\n",
       "AQAAAAAKSuAFAAAAACgogRcAAAAAoKAEXgAAAACAghJ4AQAAAAAKSuAFAAAAACgogRcAAAAAoKAE\\\n",
       "XgAAAACAghJ4AQAAAAAKSuAFAAAAACgogRcAAAAAoKAEXgAAAACAghJ4AQAAAAAKSuAFAAAAACgo\\\n",
       "gRcAAAAAoKAEXgAAAACAghJ4AQAAAAAKSuAFAAAAACgogRcAAAAAoKAEXgAAAACAghJ4AQAAAAAK\\\n",
       "SuAFAAAAACgogRcAAAAAoKAEXgAAAACAghJ4AQAAAAAKSuAFAAAAACgogRcAAAAAoKAEXgAAAACA\\\n",
       "ghJ4AQAAAAAKSuAFAAAAACgogRcAAAAAoKAEXgAAAACAghJ4AQAAAAAKSuAFAAAAACgogRcAAAAA\\\n",
       "oKAEXgAAAACAghJ4AQAAAAAKSuAFAAAAACgogRcAAAAAoKAEXgAAAACAghJ4AQAAAAAKSuAFAAAA\\\n",
       "ACgogRcAAAAAoKAEXgAAAACAghJ4AQAAAAAKSuAFAAAAACgogRcAAAAAoKAEXgAAAACAghJ4AQAA\\\n",
       "AAAKSuAFAAAAACgogRcAAAAAoKAEXgAAAACAghJ4AQAAAAAKSuAFAAAAACgogRcAAAAAoKAEXgAA\\\n",
       "AACAghJ4AQAAAAAKSuAFAAAAACgogRcAAAAAoKAEXgAAAACAghJ4AQAAAAAKSuAFAAAAACgogRcA\\\n",
       "AAAAoKAEXgAAAACAghpX7wUAO+vt7U2SbNq0qc4rYV/U1dWVjo6ObNq0KY2NjfVeDvsYnz/qyeeP\\\n",
       "evL5o562/blj259DACgegRfGmGeeeSZJMnPmzDqvBAAA2Fc888wzaWlpqfcyABiGhl7fpoMxpaen\\\n",
       "J2vWrMn++++fhoaGei8HAADYi/X29uaZZ57JIYccklLJFEeAIhJ4AQAAAAAKyrfnAAAAAAAKSuAF\\\n",
       "AAAAACgogRcAAAAAoKAEXgAAAACAghJ4AQAAAAAKSuAFAAAAACgogRcAAAAAoKAEXgAAAACAghJ4\\\n",
       "AQAAAAAKSuAFAAAAACgogRcAAAAAoKAEXgAAAACAghJ4AQAAAAAKSuAFAAAAACgogRcAAAAAoKAE\\\n",
       "XgAAAACAghJ4AQAAAAAKSuAFAAAAACgogRcAAAAAoKAEXgAAAACAghJ4AQAAAAAKSuAFAAAAACgo\\\n",
       "gRcAAAAAoKAEXgAAAACAghJ4AQAAAAAKSuAFAAAAACgogRcAAAAAoKAEXgAAAACAghJ4AQAAAAAK\\\n",
       "SuAFAAAAACgogRcAAAAAoKAEXgAAAACAghJ4AQAAAAAKSuAFAAAAACgogRcAAAAAoKAEXgAAAACA\\\n",
       "ghJ4AQAAAAAKSuAFAAAAACgogRcAAAAAoKAEXgAAAACAghJ4AQAAAAAKSuAFAAAAACgogRcAAAAA\\\n",
       "oKAEXgAAAACAghJ4AQAAAAAKSuAFAAAAACgogRcAAAAAoKAEXgAAAACAghJ4AQAAAAAKSuAFAAAA\\\n",
       "ACgogRcAAAAAoKAEXgAAAACAghJ4AQAAAAAKSuAFAAAAACgogRcAAAAAoKAEXgAAAACAghJ4AQAA\\\n",
       "AAAKSuAFAAAAACgogRcAAAAAoKAEXgAAAACAghJ4AQAAAAAKSuAFAAAAACgogRcAAAAAoKAEXgAA\\\n",
       "AACAghJ4AQAAAAAKSuAFAAAAACgogRcAAAAAoKAEXgAAAACAghJ4AQAAAAAKSuAFAAAAACgogRcA\\\n",
       "AAAAoKAEXgAAAACAghJ4AQAAAAAKSuAFAAAAACgogRcAAAAAoKAEXgAAAACAghJ4AQAAAAAKSuAF\\\n",
       "AAAAACgogRcAAAAAoKAEXgAAAACAghJ4AQAAAAAKSuAFAAAAACgogRcAAAAAoKAEXgAAAACAghJ4\\\n",
       "AQAAAAAKSuAFAAAAACgogRcAAAAAoKAEXgAAAACAghJ4AQAAAAAKSuAFAAAAACgogRcAAAAAoKAE\\\n",
       "XgAAAACAghJ4AQAAAAAKSuAFAAAAACgogRcAAAAAoKAEXgAAAACAghJ4AQAAAAAK6v8H8h5kkUIv\\\n",
       "vIQAAAAASUVORK5CYII=\\\n",
       "\"\n",
       "  frames[3] = \"data:image/png;base64,iVBORw0KGgoAAAANSUhEUgAABXgAAAPoCAYAAABkvZZOAAAAOnRFWHRTb2Z0d2FyZQBNYXRwbG90\\\n",
       "bGliIHZlcnNpb24zLjEwLjMsIGh0dHBzOi8vbWF0cGxvdGxpYi5vcmcvZiW1igAAAAlwSFlzAAAP\\\n",
       "YQAAD2EBqD+naQAAuzFJREFUeJzs3Xl4U2X+/vE7TVPaUtqyCUVABEWUXRBc2RxFUAHFQQUViqKO\\\n",
       "C4PLDIgbfFVcRkfZXHApOqPzU0dFUAEXNpFxYxNFUREUZRMKxVJK0/T8/qiJSZrlZGt62vfrunrZ\\\n",
       "JM95zpP00Nq7n3wem2EYhgAAAAAAAAAAlpOS7AUAAAAAAAAAAKJDwAsAAAAAAAAAFkXACwAAAAAA\\\n",
       "AAAWRcALAAAAAAAAABZFwAsAAAAAAAAAFkXACwAAAAAAAAAWRcALAAAAAAAAABZFwAsAAAAAAAAA\\\n",
       "FkXACwAAAAAAAAAWRcALAAAAAAAAABZFwAsAAAAAAAAAFkXACwAAAAAAAAAWRcALAAAAAAAAABZF\\\n",
       "wAsAAAAAAAAAFkXACwAAAAAAAAAWRcALAAAAAAAAABZFwAsAAAAAAAAAFkXACwAAAAAAAAAWRcAL\\\n",
       "AAAAAAAAABZFwAsAAAAAAAAAFkXACwAAAAAAAAAWRcALAAAAAAAAABZFwAsAAAAAAAAAFkXACwAA\\\n",
       "AAAAAAAWRcALAAAAAAAAABZFwAsAAAAAAAAAFkXACwAAAAAAAAAWRcALAAAAAAAAABZFwAsAAAAA\\\n",
       "AAAAFkXACwBIiilTpshms8lms2nKlCnJXo4lLVu2zPMa9uvXr9rPP3fuXM/5x4wZU+3nr2mS/fVA\\\n",
       "zdOmTRvPNbF169ZkLwcAAAC1FAEvANRw/fr18wQEgT4aNGig1q1b65xzztG0adP0yy+/JHvJAIBa\\\n",
       "7IMPPtAVV1yh9u3bq379+mrUqJG6dOmiv/3tb/rmm28scf6KigqtXbtWs2bN0rhx43TaaaepZcuW\\\n",
       "yszMlMPhUKNGjdS5c2fl5+frnXfeUUVFRYKfFQAAQPRSk70AAEBsiouLVVxcrG3btmnx4sWaMmWK\\\n",
       "br/9dt11112y2WzJXh4AP97/Lg3DSOJK6qYxY8bo+eeflyQVFBRQfR6BAwcO6Oqrr9bLL7/sc39J\\\n",
       "SYn27dunDRs2aPr06Zo6dapuu+22Gn3+NWvW6KSTTgr6+L59+7Rv3z59+eWXmjt3rk488UTNnTtX\\\n",
       "nTt3jstzAQAAiCcCXgCwkJNOOkm9evXyua+oqEjr16/Xhg0bJElOp1NTpkzR/v379eijjyZjmQCA\\\n",
       "WsbpdOqCCy7QkiVLPPd16tRJJ554okpLS/Xhhx9qx44dcjqdmjx5spxOp+666y5LnN9ut+u4445T\\\n",
       "+/bt1bhxY9ntdu3evVufffaZ510xa9asUZ8+fbRkyRJ17949bs8LAAAgHgh4AcBCBg8eHLRf7apV\\\n",
       "q3TppZfqp59+kiQ99thjGjVqlHr27FmNKwTqrn79+lGRCx+1qe/uPffc4wlX09PTVVBQoEsuucTz\\\n",
       "eFlZme644w794x//kFTZZ71v377q27dvjTx/Tk6ObrnlFg0aNEgnn3yy6tevX2WMYRiaP3++rrzy\\\n",
       "Su3du1f79+/X6NGjtX79et4hAwAAahR68AJALXHqqafqzTff9Pmlc86cOUlcEQCgNti9e7f++c9/\\\n",
       "em4/9thjPuGqJKWlpemhhx7SxRdfLKkyHI1Xm4ZEnP/YY4/Vww8/rDPPPDNguCtVtlMZOnSoXn/9\\\n",
       "dc99GzZs0KpVq2J5OgAAAHFHwAsAtUi3bt3Ur18/z+0VK1YkbzEAgFrh+eef18GDByVJ7du319VX\\\n",
       "Xx107EMPPaSUlMpfMf73v/9p7dq1lj9/nz591K5dO8/teMwJAAAQTwS8AFDLdOvWzfP59u3bTR3z\\\n",
       "9ddfa/LkyerVq5eaNWumtLQ0NW3aVL1799Zdd91leh63pUuXauTIkTrqqKOUnp6uvLw8nXHGGXr8\\\n",
       "8cdVUlJiep4xY8bIZrPJZrNp7ty5YcfPnTvXM97sxklffPGFJk2apN69e6t58+ZKS0tTVlaWjjvu\\\n",
       "OF188cV69tlnVVRUFHaevXv36pFHHtFZZ52lVq1aKT09Xbm5uTrhhBN0/fXX6/PPPze1HrfvvvtO\\\n",
       "EyZMUIcOHTy7xHfr1k133XWXfv7554jmisaaNWs0btw4tW3bVhkZGWratKl69eqlhx56SIWFhVHP\\\n",
       "+9lnn+mmm25St27d1LRpU6Wlpal58+bq27evHnzwQe3bty/sHG3atPF8nd1vgf/555915513qmvX\\\n",
       "rsrNzVX9+vXVoUMH3Xjjjfrxxx9Nra24uFhPPvmkzj33XLVu3VqZmZlyOBzKyclRhw4ddP7552va\\\n",
       "tGn68ssvAx6/bNkyz7q8/9Di/5g3933+H1u3blVZWZmaNm3que9///ufqechSX379vUcN2PGDNPH\\\n",
       "+evXr59nnmXLlkmSduzYoalTp6p79+5q1KiR0tPT1aFDB02aNCngtfHzzz9r8uTJ6t69uxo2bKgG\\\n",
       "DRqoW7dumjZtmg4dOmRqHV9//bUeffRRXXjhhTruuOPUoEEDORwONW3aVD179tRNN92kjRs3hpzD\\\n",
       "fd24N1iTpPz8/ICvv38rnGCvw7Rp09SrVy81b95cdrtdubm5Ac/pfa26lZWV6cQTT/Q8Pnjw4LCv\\\n",
       "w2uvveYZ73A49PHHH4c9Jh7mzZvn+dz9fTmY1q1ba8CAAZ7bb7zxhuXPL0lNmzb1fP7bb7/FPF+g\\\n",
       "ayqUKVOmBL0+/S1ZskRXXnmlOnfurNzcXKWmpiozM1MtW7bUGWecoQkTJuitt95SWVlZzM8DAADU\\\n",
       "EAYAoEbr27evIcmQZNx9991hx0+ePNkz3uFwhBxbWlpqXHPNNYbdbvccE+gjIyPDmDlzZthzO51O\\\n",
       "Y+zYsSHnOuGEE4xvvvnGuPvuu8M+r9GjR3vGFBQUhD1/QUGBZ/zo0aNDjt23b59x8cUXGzabLeR6\\\n",
       "JRnNmjULOdesWbOMnJyckHPYbDZj7NixxuHDh8M+j9mzZxvp6elB58rNzTXmz59vLF261HNf3759\\\n",
       "w85r1u233x7ymmjZsqXxv//9L6LXu7Cw0Bg+fHjY1zo3N9d49dVXQ8511FFHecZv2bLFeOONN0K+\\\n",
       "/hkZGcZbb70Vcs5Vq1YZRx55ZNj1uT+cTmeVOUJ9PbwfM/OxZcsWwzAM45ZbbvHcd9VVV4V8Dm7f\\\n",
       "fvut55h69eoZe/fuNXVcIN7ff5YuXWosXrzYaNy4cdB1H3XUUcbWrVs9xz/77LNGvXr1go7v2LGj\\\n",
       "sXv37pBr+POf/2zqNbPZbMaECROM8vLygPN4XzfhPvy/J/m/DvPmzTMaNmxY5bicnJyg53R/Tb19\\\n",
       "/fXXRmZmpmfMjBkzgr4O27Zt8znn1KlTQ75u8XLo0CEjJSXFc95Vq1aFPea+++7zjD/ttNMsfX7D\\\n",
       "qPzZ5n3dv/TSSzHP6X9NhWPmZ2ZxcbExZMgQ09f5008/HfPzAAAANQObrAFALeNdbdusWbOg4w4e\\\n",
       "PKiBAwfqo48+8tzXrl079ejRQw0bNlRhYaE++ugjbd++XYcOHdKNN96oAwcOaPLkyUHnvOKKK/Sf\\\n",
       "//zHczs3N1f9+/dX48aN9dNPP2nZsmXauHGjBg8erCFDhsT4TKO3fft2DRgwQJs2bfJZ62mnnaa8\\\n",
       "vDw5nU799NNPWr16tQ4cOKDS0tKgc02YMEHTp0/33G7SpIlOOeUUNW/eXKWlpVq7dq2+/PJLGYah\\\n",
       "5557Ttu3b9fbb7/teQuxv6eeekrXX3+957bD4VC/fv101FFHqbCwUMuWLVNhYaEuuugiTZs2LQ6v\\\n",
       "hq/Jkyfr/vvv99zOzMzUgAEDlJeXp507d2rJkiX6+eefNXjwYE2YMMHUnDt37tSAAQP09ddfe+7r\\\n",
       "2LGjunbtqqysLO3evVsffvihZxOjESNG6F//+pdGjRoVdu73339f1157rVwul1q3bq1TTjlF2dnZ\\\n",
       "2rJli5YtW6by8nIdOnRII0aM0Jdffqmjjz66yhzbtm3TwIEDPVV5DodDJ510ko455hhlZmbq4MGD\\\n",
       "2rp1q9avX68DBw6Yes7+jjzySM/Xdfbs2Z77vb/W3rKzsyVJV199tR555BFJ0ssvv6zHHnssaL9Q\\\n",
       "t+eee87z+YUXXqhGjRpFtWZ/69at0+TJk3Xo0CG1bNlSp512mho0aKBvv/1WH374oQzD0I8//qhB\\\n",
       "gwZpw4YNevnll3XllVdKqux32qtXL6Wnp2vDhg369NNPJUlfffWVLr/8ci1atCjoed0bR6ampuqE\\\n",
       "E07Qscceq9zcXNntdu3evVufffaZfvnlFxmGoccee0yHDx/W448/XmWe0aNHa+/evfrggw/0zTff\\\n",
       "SJLOPPNMdejQocrYXr16BV3PqlWrNGXKFDmdTjVu3Fh9+vRRkyZNtHv37ojfut+hQwc9+uijuuaa\\\n",
       "ayRJf//739W/f3916tTJZ1xFRYUuv/xyT4X7aaedpttvvz2ic0Vr06ZNqqiokFRZcd69e/ewx5x4\\\n",
       "4omez73/3Vvx/JJ07733au/evZKk+vXr65xzzol5zkS47LLLNH/+fM/tY445xlNp73Q69euvv2rD\\\n",
       "hg21avM/AADwuyQHzACAMCKp4HU6nUarVq084y+66KKgY6+44grPuPbt2wesICovLzcef/xxTwWe\\\n",
       "3W4PWj31wgsv+FQG3XDDDUZJSYnPmO3btxsDBgwwJBlpaWlhn1ciKnidTqdx2mmn+VR3zpo1yygr\\\n",
       "K6sy9vDhw8b8+fONYcOGBZzr2Wef9cyTnZ1tPP300wHnWbJkiU916IMPPhhwvm+//dancrdv377G\\\n",
       "tm3bfMaUlpYaEyZMqPIaxqOCd/ny5T4VzRdddJFRWFjoM2b//v3GJZdcUuX8wV5vl8tl9O/f3zOu\\\n",
       "V69expo1a6qMO3TokDFlyhTP+evXr2/88MMPAef0roqsV6+eUb9+feNf//qXUVFR4TPuyy+/9Hnd\\\n",
       "8/PzA87nfj0lGWeccYbxyy+/BBzndDqNZcuWGaNGjQpYJWq2otr734kZ3t8DnnvuuZBjy8vLjby8\\\n",
       "PM/4Dz74wNQ5zJy7Xr16hsPhMGbPnm24XC6fccuWLTPq16/vGTtt2jQjKyvLyM7ONv773/9Wmffl\\\n",
       "l1/2qRJfvnx50DVMmjTJeOWVV4yioqKAj1dUVBjz5883mjZt6pnvww8/DDpfpN9X/F+H1NRUw2az\\\n",
       "Gffcc0+Vf++lpaU+t8NV8LoNGzbMM65z585V5vGuSM3JyQk5V7y9/PLLnnOHezeD21dffeVznYer\\\n",
       "0q5p5y8vLzd27dplvPPOOz5fG5vNZjz11FPRPI0q4l3Bu27dOs/jWVlZxjvvvBN0rs2bNxv33nuv\\\n",
       "MX/+/BieAQAAqEkIeAGghosk4L3nnnt8fql99913A45bsWKFZ0y7du2MX3/9NeS83sHpOeecU+Vx\\\n",
       "l8vlEyyPGTMm6FwlJSVGly5dfNZZnQHv008/7RnjcDiMFStWhJ03kAMHDhi5ubmeoPPjjz8OOX7j\\\n",
       "xo2e8LZx48bGwYMHq4wZOXKkZ20dO3YMOMbtqquu8nkN4xHwnnrqqZ75zjzzzKBvdXe5XMbZZ5/t\\\n",
       "c/5gr7d38H/yySdXCf39eYcY1157bcAx3qGZzWYzFi5cGHS+t956yyf0CNRaoUePHp4x3333Xcj1\\\n",
       "hZKogPfFF1/0jA/3dvP58+f7/Nv2D70j5f39R5LxzDPPBB177733+oy12WwhA2bva/gvf/lLTOs0\\\n",
       "DMP4+OOPPfONGDEi6LhYA15Jxr333mvqOLMB7549e4wWLVp4xo4fP97z2CeffGKkpqZ6HnvxxRdN\\\n",
       "nTteHn/8cc+5u3TpYuqYvXv3+rxe33zzTY0//5lnnulzjP9Hbm6u8fLLL0f9PPzFO+CdOXOm5/Hb\\\n",
       "b789busEAADWwCZrAGBxBw4c0IcffqiRI0fqzjvv9Nx/00036ayzzgp4zD//+U/P54888oiaNGkS\\\n",
       "8hxjxozxvI158eLFnrequi1evFjbtm2TJGVkZOjhhx8OOle4xxPN/XZ3Sbr55pt1xhlnRDXPc889\\\n",
       "p/3790uSrrvuOvXu3Tvk+OOPP16jR4+WVLkhm/9b0vfv36/XXnvNc/uhhx5SZmZm0PkeeuihsG/V\\\n",
       "j8TXX3+tVatWeW7PmDFDdrs94NiUlBTNnDkz5EZHbt7X2pNPPqmMjIyQ4ydNmuTZqOo///mP563Z\\\n",
       "wZx33nkh3y49ePBgNW/eXFLlJmqB3q7t3XbBeyOlmmL48OGeNgsfffSRT2sRf88++6zn87Fjx5r6\\\n",
       "GpnVtWtXT8uFQC699FKf20OHDvXZ7CrUeHfLhlj07t1bxx9/vCTpgw8+iHm+YFq0aKGJEyfGdc7G\\\n",
       "jRvrhRde8Hy9Zs6cqYULF6q4uFijRo1SeXm5JGnUqFEaOXJkXM8dTnFxsefzcP9+g43znsNq55cq\\\n",
       "r+Vvv/1WI0aMiGmeRKrp38cAAEBiEfACgIVMnTq1ym7vOTk56tOnj6f3bePGjfXAAw/4BGveysvL\\\n",
       "9d5770mq7PN53nnnmTp3//79JUmGYfj07ZWkpUuXej4fPHiwGjduHHKuP/3pTzryyCNNnTeefvzx\\\n",
       "R0/vTUm64YYbop7rnXfe8XxuNnDxDrtWrlzp89iqVat0+PBhSdIRRxwRtsdjw4YN49rH2Ptr2KNH\\\n",
       "D51wwgkhx7dv314nn3xyyDE7duzQunXrJEknnHCCunbtGnYd6enpOuWUUyRJRUVF+vLLL0OO//Of\\\n",
       "/xzycZvN5nPeQL0nW7Vq5fn8ySefDLvG6lavXj1dccUVntveIa63Xbt26e2335Yk2e12jRkzJq7r\\\n",
       "uOiii0I+3rZtW58/OoQb791ndsuWLabW8O233+qll17SPffco1tvvVU33nijbrjhBs9HUVGRpMo/\\\n",
       "orj/6BRvF110kVJT47+NxZlnnqm//e1vkiq/z+bn5ys/P1/ff/+9JKlNmzYBewsnmncP8rS0NFPH\\\n",
       "1KtXz+f2oUOHavz5hw0bpuuvv17XX3+9xo0bpyFDhigvL0+S9Oabb6p9+/Z65JFHZBhGBKuvPt7f\\\n",
       "x1544QWVlJQkcTUAAKC6sckaANQidrtdDz74YMgquy+++EIHDx6UVLmZ1F//+ldTc3/22Weez/2D\\\n",
       "E++NhdzhXCg2m029e/fW66+/burc8fLxxx97Pj/22GPVsmXLqOf63//+5/l8zpw5ev7558Me8/PP\\\n",
       "P3s+D/Ua9urVK+gmbN5OOeUUn03tYhHp19A9zvt18Of92KFDh0wH6ps3b/Z8vm3bNnXp0iXo2M6d\\\n",
       "O4edz/sPDoE2SRsxYoSWLFkiqbKC+L333tOoUaN01llnxXSNxNPVV1+txx57TFJleDNt2rQqIePz\\\n",
       "zz/vqfQcPHiwWrRoEdc1+G/8FUhubq7n+0vHjh1DjvXe/C3c5nVvv/227rzzzog2MduzZ49P6BUv\\\n",
       "PXr0iPucbvfee68++OADrV69Wrt27dJ///tfSZXf21988UXP5nvVKT093fN5WVmZqWPcf6xyM1t5\\\n",
       "m8zzB/r+VFFRoXnz5unGG2/U9u3bdeutt+rrr7/WM888Y2od1Wnw4MGqX7++Dh48qDVr1qhDhw66\\\n",
       "8sorde6556p79+5B35EBAABqBwJeALCQk046yWd39+LiYv3000+e6k+Xy6WrrrpKP/zwg+67776A\\\n",
       "c2zfvt3z+d69ezV79uyI1+Heyd3t119/9XzeunVrU3OYHRdPu3bt8nzetm3bqOcpLi7Wb7/95rkd\\\n",
       "zS/7Ne01TMT5va+1LVu2xOVa85eTkxN2DofD4fnc6XRWefyqq67SokWLNG/ePEmVb+93v8W/devW\\\n",
       "OuOMM9S/f38NHTo0bDuTRDn++ON1+umna+XKldq1a5feeustDRs2zGfMc8895/n8qquuivsazLzW\\\n",
       "3qFzuPHeY93BdCBTpkzR1KlTTazQl/e/0XhK5NvfHQ6HXnrpJZ144omeoFyS7rjjDp166qkJO28o\\\n",
       "WVlZns/NVuL6j/Oew0rnT0lJ0YUXXqhu3bqpR48e2r9/v5599lmdeeaZVVqSJFvjxo31zDPP6Ior\\\n",
       "rpDT6dS2bds0ZcoUTZkyRVlZWerdu7f69u2r888/X926dUv2cgEAQJzRogEALGTw4MGaNWuW52Pu\\\n",
       "3LlasmSJtm7d6vPL5rRp0/TKK68EnMP9FuZY+Icx3v0NQ/WN9RbP/rFmeQc+sQQOtfE1TMT5E/E6\\\n",
       "+YtHj1m73a7XX39dzzzzTJXWFD/99JNefPFFXXXVVWrRooWuuuoqFRYWxnzOaFx99dWez/3bNKxc\\\n",
       "udLTmzcvL0/nnntu3M8f6Wsdj6/Ne++95xPunnLKKZozZ47Wrl2rPXv2qLS0VEblpsEyDEN9+/b1\\\n",
       "jA3XvzlasVSjmpGdnV3lHP5hfnXyroD3/iNZKDt37vS57V2tbbXzS5V/ELzllls8t717udckl1xy\\\n",
       "iT799FNdcMEFPn/YKi4u1gcffKC77rpL3bt3V8+ePfXhhx8mcaUAACDeCHgBoBZo3ry5/v3vf2vg\\\n",
       "wIGe+/7yl78ErH70DuW6dOniE46Y/ZgyZYrPnN5hqdm+f97VafESLtBp0KCB5/NYNt3xDzYLCwsj\\\n",
       "fg2XLVvmM0eyX8NEnN/7dRoyZEhU11q8+8gGY7PZdOWVV+qrr77Spk2bNGfOHI0ePdqn0tvpdOrZ\\\n",
       "Z59Vr169fCqeq8tFF12khg0bSpIWLlzoUyHtHfiOGTOm1rwd+x//+Ifn87Fjx+qjjz7SuHHj1K1b\\\n",
       "NzVu3LhKr9VEVe1WF/c1v2fPHp/7r7jiiiptB6rLcccd5/l89+7dPj1xg/npp588nzdq1Cimqudk\\\n",
       "n9/Ne9PStWvXxtRXOJG6deum119/Xbt379abb76pv/3tbzrllFN8At/Vq1erf//+evXVV5O4UgAA\\\n",
       "EE8EvABQS6SkpOiZZ57xhGqFhYWaNm1alXHNmjXzfO5f5RQt71+evX+xDsXMBkjev5CGq+SUwleM\\\n",
       "ej93s5s6BZKbm+sTLMXjdUzUa5jM8yfiWqsO7du317hx4zR37lxt3rxZmzZt0s033+wJTTdv3hxV\\\n",
       "y4BYZWRk6LLLLpMkuVwuT9/n3377zRPUuIPq2sDlcmn58uWSKr+/3X///WGrgs1euzXVY489psWL\\\n",
       "F0uq/IOUu4/yhg0b9Pe//z0pazruuOM8PcENw/BsnBjKmjVrPJ8ff/zxlj6/m/uPK1LlHxPDtY+J\\\n",
       "hJmN2yLdNC03N1dDhgzRQw89pFWrVmnPnj0qKCjwtNZxuVy67rrramxQDQAAIkPACwC1SMuWLTVh\\\n",
       "wgTP7VmzZlUJ1rp16+YJJ3fv3u3ZoT0W3bt393zuvZFZMIZh6JNPPgk7zntDob1794Ydv2HDhpCP\\\n",
       "n3zyyZ7Pv/32W59NzyLl3Qv5o48+inoeN+/X8LPPPjP19vJQG5zFcn4zX0Mz5+/du7fn83Xr1iWk\\\n",
       "ars6tG/fXo888ohPqDt//vykrMW7TYO75+7/+3//z/Pa9u3bV+3atUvK2uJtz549nk21jjjiCB1x\\\n",
       "xBEhx2/cuLFK5Wsg8WgdkQhffPGFbrvtNs/tmTNn6l//+pdnvTNnztSiRYuqfV3p6ek+3zv9330Q\\\n",
       "iDuYl6QBAwZY+vxuO3bs8Lkda9sHb+E2GZQU088rqfLn6ZgxY7RkyRLP/wPs2bMnrj9HAABA8hDw\\\n",
       "AkAtc8stt3haEZSWluqhhx7yeTwjI8PnF97HH3885nP279/f8/k777wTtkfpkiVLTP2y2qZNG8/n\\\n",
       "4aq2SktLtWDBgpBjjjrqKJ9qrmg2/XI777zzPJ8/8cQTpiqwQjn11FM9v3Tv2rVL7777bsjxRUVF\\\n",
       "cQ0Zvb+Gn3/+ub755puQ47///vuwwUDbtm09r3dZWVmVvrFWM2TIEM/nZnuBBpKenu75PNCmb6F0\\\n",
       "6tRJp5xyiqTKr8Hy5ct9XtdEbK6WLO6qTcnc5lpPPPGEqXljef0TpbS0VCNHjvS0YRgxYoRGjx6t\\\n",
       "AQMG6NZbb5X0R/uGZLQH8e4BPHfu3JBjt23b5tmk0P9Yq55fkt566y3P523atPG5jmIV7udbRUVF\\\n",
       "3HrmtmvXTh07dvTcjuV7GQAAqDkIeAGglmnYsKFuvPFGz+2nnnqqSiAwceJEz+czZ87U+++/b3r+\\\n",
       "QG+1P/vss9WqVStJlW8jDfVW4tLSUp/NakLxrgB96623Qlbn3XXXXaaq926++WbP54888kjUvzRf\\\n",
       "c801ys3NlVT5duBI3rK/Z88euVwun/tyc3M1fPhwz+2///3vIUOtiRMnxtRH2N/xxx+vU0891XP7\\\n",
       "r3/9a9Aq4oqKCo0fP95UqO19rd1xxx1hq6y9VVdbBzPXjeTbkiJcNWko3ptG/fLLLxEf713FO3Hi\\\n",
       "RE81fMOGDX2uIatr3LixcnJyJFX+QcO7KtPfRx99ZDrgjfX1T4Rbb71VX331lSSpVatWeuqppzyP\\\n",
       "3XvvvZ4K+127dmns2LHVvr7Ro0d72v9s2rRJzzzzTNCxEydO9Hx/O+WUU3TiiSfWyPObeVeI25o1\\\n",
       "azRr1izP7Xj/O3vhhRdC9hb+97//7fNHUf+fH5L572Mul8unGjmW72UAAKDmIOAFgFro5ptv9mya\\\n",
       "VVJSUmXH7759+2r06NGSKnvbnnvuubr//vuDBoalpaWaN2+ehg4d6lPF6Ga323XPPfd4bj/77LOa\\\n",
       "MGFClV9Yd+7cqfPPP1/r169XWlpa2Odx0kkned5uXlxcrEsvvbRK38OSkhL97W9/0z/+8Y8qGy4F\\\n",
       "MmbMGE+Q6XQ6dc455+jxxx8PWMlXVlamBQsW6IILLqjyWE5Ojh599FHP7alTp2r06NFBe4AahqGP\\\n",
       "PvpI1113nVq3bh0wvL3rrrs8z2HDhg0699xzqwRQhw8f1q233qqnnnrK1GsYifvuu8/zdvB3331X\\\n",
       "I0eO1P79+33GHDhwQJdffrkWLlxo6vyXXXaZp2L8t99+0+mnn66nnnrK89Z7fwcOHNCLL76ofv36\\\n",
       "+fyhIpFat26ta665RsuXLw8aan/++ec+6xk0aFDU5+vUqZPn82g2ORoxYoQn+PRudTJq1Ki4VhUm\\\n",
       "W0pKigYPHuy5PWbMGH366adVxr3yyisaPHiwXC5XlQ0QA/F+/d98882g12J1eeeddzzvJkhJSdG/\\\n",
       "/vUvzx+PJCktLU0vvfSSMjMzJVX+sSse77yIxBFHHOHzx7Hx48frlVde8RnjdDo1adIk/ec///Hc\\\n",
       "d//994ect02bNrLZbLLZbCE3VEzE+bt06aKbbrrJp1+vv5KSEj3++OMaMGCA5+dZw4YNff5wFQ8/\\\n",
       "/PBDwO+3UuX3iOuuu67KeMk36P3b3/6mPn366IUXXgg4j1QZao8bN84T8GZnZ/v8YQ8AAFiYAQCo\\\n",
       "0fr27WtIMiQZd999t+njJk6c6DkuKyvL2Lt3r8/jpaWlxtlnn+0ZI8nIzMw0+vfvb4wePdq4+uqr\\\n",
       "jREjRhg9evQw6tWr5xnTo0ePoOccMWKEz3wNGzY0LrzwQmPcuHHGOeec45nn6KOPNiZMmGDqeb3y\\\n",
       "yis+c+bk5BgXXnihcfXVVxtDhgwxcnNzDUlGixYtjPvuu88zbvTo0UHn3LZtm3Hsscf6zJubm2uc\\\n",
       "e+65xlVXXWWMGTPG6N+/v5Gdne05ZzB33nmnzzx2u93o0aOHMWrUKOOaa64xRo0aZfTt29fIycnx\\\n",
       "Gffbb78FnG/27Nk+49LS0oyzzz7bGDdunHHRRRcZjRs39tz/j3/8wzOub9++QdcYib/97W8+569f\\\n",
       "v75x/vnnG+PGjTOGDBliZGVleb62U6ZMMfV679mzx+jevbvPvNnZ2cbAgQONsWPHep5b586djdTU\\\n",
       "VM+Y4cOHB5zvqKOO8ozZsmVL2Oc0evRoz/iCgoIqj3uvq0GDBsYZZ5xhXHbZZcY111xjDB8+3OjY\\\n",
       "saPPmKZNmxq//PJLlXmWLl1q6usxZ84czzibzWb079/fuOGGG4xbbrnF81FYWBjyOV133XU+a5Jk\\\n",
       "rFu3LuxrESnv7z9Lly4NOz7Sr433+gP56quvjIyMDJ/X69RTTzXGjBljjBw50jj66KM9j40bN87U\\\n",
       "evfv3+8zZ9u2bY2xY8caN998s+f1X7x4cUyvg9nXY+fOncYRRxzhGTNp0qSgcz3xxBOecRkZGcbG\\\n",
       "jRtNryMeysrKjAEDBvh8zTp37myMHj3auPjii428vDyfx6ZOnRp2Tu/XJ9T3kESc3/t7cpMmTYwz\\\n",
       "zzzTuOyyy4xrr73WuOKKK4w+ffoY9evX95kzKyvLWLFiRSQvW1De11Tz5s0933/OO+884+qrrzZG\\\n",
       "jRrl83PqhBNO8Pk5c8kllxiDBw/2zOf9fc5utxsdO3Y0LrroImPcuHHGZZddZvTv399IS0vzeT5z\\\n",
       "5syJy3MBAADJR8ALADVctAHv7t27fX45veOOO6qMKS8vN+68804jMzOzSlgU6MPhcBjXX3990HOW\\\n",
       "lZX5/JIZ6KNDhw7G119/bdx9992mn9fUqVNDznnccccZX375pVFQUGA6LNi7d69xwQUXmHreRx55\\\n",
       "ZMi5Xn75ZaNFixam5pJk9OrVyygtLQ0634wZM3xCdf+PnJwc48033zQdKEZq0qRJRkpKStDzt2jR\\\n",
       "wli1alVEr3dJSYlx7bXX+gS4oT4yMjKMadOmBZwr3gGvO7Q289G1a1fj66+/Dnges1+PsrIyo0+f\\\n",
       "PiHPE+55rVu3zmd8z549w74O0Uh2wGsYhjFv3ryw36Ouvvpqo7S01PR6n3jiCcNmswWdz/97UqIC\\\n",
       "3kGDBvl8DcvKykLON2TIEM/4bt26GYcPHza9lnjYv39/lT/kBfo5cd9995maL5KAN97n9w7WzXz0\\\n",
       "69cv6L/9aHhfU//5z3+Mtm3bBj33WWedZezZs8do2LBhle9HbjfccIPp59KgQQPCXQAAahlaNABA\\\n",
       "LdW0aVP95S9/8dyeOXNmlbdt2u12/d///Z+2bt2qhx9+WOecc45at26tzMxMORwONW7cWCeeeKJG\\\n",
       "jx6tuXPn6pdffvHpQ+jP4XBo7ty5+uCDD3TxxRerZcuWSktLU7NmzXTaaadp+vTp+uyzz9ShQ4eI\\\n",
       "nstdd92lVatW6dJLL/XM2aRJE5188sl67LHH9Pnnn/tsGmNGo0aN9Prrr+vTTz/VhAkT1K1bNzVp\\\n",
       "0kR2u11ZWVnq0KGDLrnkEs2dO1ebNm0KOdeIESP0ww8/aO7cubr00kt1zDHHKCcnR3a7XdnZ2Tr+\\\n",
       "+ON14YUX6tFHH9WmTZv0ySefhGwnceONN+qLL77QjTfeqGOPPVYZGRnKzc1V586dddttt+mLL74I\\\n",
       "2CojXu6//359+umnGjt2rNq0aaN69eqpcePG6tGjh+677z6tX7/es9GXWRkZGXriiSf03Xff6Z57\\\n",
       "7lH//v115JFHKj09XWlpaWratKl69+6tq6++Wi+//LJ27typ2267LUHP0NfevXv13nvv6Y477tDA\\\n",
       "gQPVtm1b1a9fX3a7XQ0aNNDxxx+vyy67TG+88YbWrFkT8fXrz+Fw6P3339cTTzyhP/3pT2revHnE\\\n",
       "7Ta6du2qtm3bem7Xps3V/A0dOlRffvmlbrjhBrVv317p6enKyspS+/btlZ+fr+XLl+upp54y1aLF\\\n",
       "7dprr9WHH36oyy+/XO3bt1f9+vU97Umqy8yZM7Vw4UJJUv369fXiiy/K4XCEPObZZ59VXl6epMqN\\\n",
       "uSZPnpzwdXrLycnRyy+/rPfee0+XXXaZ2rVrp8zMTOXk5KhTp0665ZZbtH79+oStK57n37p1q955\\\n",
       "5x3ddtttOvvss9W2bVtlZWUpJSVFWVlZatmypf70pz/ptttu09q1a7V06dKY/+0H07x5c61Zs0aT\\\n",
       "J0/W8ccf73lOJ598sp588kktWrRIjRs31n//+18df/zxysjIUPfu3XXTTTd55pg5c6Y2btyoGTNm\\\n",
       "aOTIkeratasaNmyo1NRUpaen68gjj9TZZ5+thx9+WN9//73GjRuXkOcCAACSw2YYMW77DQAAgGq1\\\n",
       "detWtW3bVoZhqH79+tq+fbuys7OTvSwAJvXr18+zceDSpUvVr1+/5C4IAABYGhW8AAAAFvPcc8/J\\\n",
       "/Tf6ESNGEO4CAAAAdRgBLwAAgIWUlpbq6aef9ty+9tprk7gaAAAAAMlGwAsAAGAhd9xxh3bu3ClJ\\\n",
       "OvXUU9WrV68krwgAAABAMqUmewEAAAAIbtGiRVq0aJEOHTqkTz/9VOvWrZMk2Ww23X///cldHAAA\\\n",
       "AICkI+AFAACowT7++GNNnz69yv233nqr+vTpk4QVAQAAAKhJCHgBAAAsIjMzU507d9Z1112nK664\\\n",
       "ItnLAQAAAFAD2Az3FswAAAAAAAAAAEthkzUAAAAAAAAAsCgCXgAAAAAAAACwKAJeALCg0tJS/eUv\\\n",
       "f9F9992X7KUAHlyXqKm4NhEvXEsAAKAmIuAFAAt6//339eSTT+rXX3/13NezZ0/ZbLaIPpo2bVrt\\\n",
       "a9+6datsNpv69etX7edGYiXqunz11VfVr18/NWzYUPXr11fXrl310EMPyel0BlwH1xj8Bbo2vTmd\\\n",
       "Tj3//PM699xz1aJFC9WrV085OTk65phjdM455+jBBx/Utm3bPOO5xuoufv4CAICaKDXZCwAARG7e\\\n",
       "vHmSpGHDhkmSDMNQ9+7d1alTJ59xW7Zs0YoVK5SVlaXhw4dXmadDhw6JXirqkERclxMmTND06dOV\\\n",
       "mpqqAQMGKCsrS0uWLNHEiRO1YMECvfvuu8rIyEjYc0Lt4H9tevvuu+904YUX6ssvv1RmZqa6d++u\\\n",
       "Pn36qKysTBs3btTixYu1ePFi9ejRQ61atarehaPG4ecvAACoiQh4AcBiKioqtGDBAjVu3FhnnHGG\\\n",
       "JMlms+npp5+uMvbee+/VihUr1Lt3b82dO7eaV4q6JBHX5bx58zR9+nRlZWVp+fLlOvHEEyVJe/bs\\\n",
       "0YABA7Ry5UrdeeedevjhhxPynFA7BLo23fbt26f+/fvrl19+0U033aQ77rhDjRo18hnzww8/6Kmn\\\n",
       "ntJJJ51UnctGDcTPXwAAUFPRogEALGbVqlXavXu3zjvvPNnt9pBj165dK0meYCxWY8aMkc1m07Jl\\\n",
       "y+IyH2qPRFyX06ZNkyRNmjTJZ2yTJk30+OOPS5JmzZqloqKiWJaOWi7Utfnwww/rl19+0eDBg/XP\\\n",
       "f/6zSrgrSW3bttWDDz6onJyc6loyaqhk/vwFAAAIhYAXACwm1FuN/a1Zs0aS1L179wSuCIj/dfnL\\\n",
       "L7/os88+kySNHDmyyuOnn366WrVqpcOHD+udd96JfMGoM0Jdm++9954kVansBQLh5y8AAKipCHgB\\\n",
       "wGLefPNNZWRk6Oyzzw45bt++fdq6daskKoiQePG+Lt3Vb40aNdLRRx8dcEzPnj19xgKBhLo2Dx06\\\n",
       "JElasWKFXC5XdS8NFsPPXwAAUFMR8AKAhXz55Zf6/vvvdfbZZyszMzPkWHfolZWVpWOPPbY6loc6\\\n",
       "KhHX5ZYtWyRJrVu3DjrGveGVeyzgL9y12adPH0nSwoULdeyxx2rixIl67733VFxcXN1LRQ3Hz18A\\\n",
       "AFCTEfACgIVE8vZQ9y+YXbt2VUoK3+6ROIm4Ln/77TdJUv369YOOycrKkiQdOHDA5EpR14S7NqdN\\\n",
       "m6ahQ4dKqvxDwUMPPaSzzz5bjRo10jnnnKMFCxZU00pR0/HzFwAA1GSpyV4AAMC8efPmyW636/zz\\\n",
       "zw87Npb+f88884xWrlxZ5X73fQ888EDAXcEnTZqkDh06RHw+WFt1XZdApMJdmzk5OZo3b56+++47\\\n",
       "vf7663r//fe1atUqlZSUaPHixVq8eLFuvfVW/eMf/6jmlaOmqa7vc3//+981f/78iI975plndPrp\\\n",
       "p0d8HAAAqB0IeAHAQrZt26YGDRooNzc37NhYdvBeuXKlnn/++aCPL168OOD9Y8aMIeCtgxJxXTZo\\\n",
       "0ECSdPDgwaBj3G+jz87ONrlS1DVmr013e4aJEyeqrKxM7733nv7+979r48aNeuSRR3TttdeqXbt2\\\n",
       "1bNo1EjV9fN3+/bt2rRpU8TH0VYEAIC6jfcMAYCFnHfeedq/f3/A6lpvJSUlnl8Qo6kgmjt3rgzD\\\n",
       "qPIxevRoSdLSpUsDPt6vX7+IzwXrS8R12aZNG0mVoUow7sfcYwF/Zq9Nb2lpaTr33HP13HPPSZIM\\\n",
       "w9CGDRsStURYRHX9/P33v/8d8OdruI9zzjknqucFAABqBwJeALAQd+8/dy/AYNavX6+KigqlpaWp\\\n",
       "Y8eOiV8Y6rREXJfuYGTv3r1BN1H7/PPPJbFLPYIze20G4t7ET/qj3zPqLn7+AgCAmoyAFwAs5Kyz\\\n",
       "zlL9+vX15ptvhhzn7v/XqVMnORyO6lga6rBEXJctW7bUSSedJEl66aWXqjy+cuVKbdu2TfXq1dPg\\\n",
       "wYOjXDlqu2DXpmEYYY91B3kNGjTQqaeemojlwUL4+QsAAGoyAl4AsJD09HQNHDhQW7Zs0fr164OO\\\n",
       "i6X/HxCpRF2XkydPllS5qZ87NJEqq3qvu+46SdINN9ygnJycaJeOWi7YtXn77bfr2muv1VdffVXl\\\n",
       "mEOHDmnWrFm65ZZbJFVef5mZmdW2ZtRM/PwFAAA1GQEvAFiMmbeJxrKDNxCNRFyXw4YN0/jx41Vc\\\n",
       "XKyTTz5ZgwYN0kUXXaRjjjlGGzZs0GmnnaZ77rkn1qWjlgt0ba5cuVJPPfWUOnXqpLZt22ro0KEa\\\n",
       "OXKk+vXrp5YtW+rGG2+UJE2fPt3zxwSAn78AAKCmIuAFAIs577zzlJqaGvQXTKfT6alKo4II1SVR\\\n",
       "1+X06dP18ssv65RTTtGqVav0zjvvqGXLlnrggQe0ZMkSZWRkxGP5qMUCXZtz5szR9OnTNWTIEGVk\\\n",
       "ZGjlypV69dVXtWHDBrVv31533HGHNm3apPHjxydv4ahx+PkLAABqqtRkLwAAEJmGDRuqT58+WrJk\\\n",
       "iX788UcdddRRPo87HA4dPnw4IeeeO3eu5s6dm5C5YW2JvC5HjBihESNGxGOZqIMCXZsdOnRQhw4d\\\n",
       "CHARkWT+/AUAAAiFCl4AsKBYdoYHEoXrEjUV1ybihWsJAADURAS8AGBB/IKJmojrEjUV1ybihWsJ\\\n",
       "AADURLRoAAALatWqlQzDSPYyAB9cl6ipuDYRL1xLAACgJqKCFwAAAAAAAAAsigpeAEC1ys3N1d13\\\n",
       "3602bdokeymopbjGkGhcY7AirlsAAGovm8F7jAAAAAAAAADAkmjRAAAAAAAAAAAWRcALAAAAAAAA\\\n",
       "ABZFwAsAAAAAAAAAFkXACwAAAAAAAAAWRcALAAAAAAAAABZFwAsA8Dh8+LCmTJmiw4cPJ3spqIO4\\\n",
       "/pBMXH9IJq4/AAAQC5thGEayFwEAqBkOHDignJwcFRUVKTs7O9nLQR3D9Ydk4vpDMnH9AQCAWFDB\\\n",
       "CwAAAAAAAAAWRcALAAAAAAAAABaVmuwFAPBVUVGh7du3q0GDBrLZbMleDuqYAwcO+PwXqE5cf0gm\\\n",
       "rj8kE9cfkskwDP32229q0aKFUlKoAQMAK6IHL1DD/Pzzz2rVqlWylwEAAACgDtm2bZtatmyZ7GUA\\\n",
       "AKJABS9QwzRo0EBS5f9gsckGqpvT6dS7776rs88+Ww6HI9nLQR3D9Ydk4vpDMnH9IZkOHDigVq1a\\\n",
       "eX4PAQBYDwEvUMO42zJkZ2cT8KLaOZ1OZWZmKjs7m18wUe24/pBMXH9IJq4/1AS0hwMA66LBDgAA\\\n",
       "AAAAAABYFAEvAAAAAAAAAFgUAS8AAAAAAAAAWBQBLwAAAAAAAABYFAEvAAAAAAAAAFgUAS8AAAAA\\\n",
       "AAAAWBQBLwAAAAAAAABYFAEvAAAAAAAAAFgUAS8AAAAAAAAAWBQBLwAAAAAAAABYFAEvAAAAAAAA\\\n",
       "AFgUAS8AAAAAAAAAWBQBLwAAAAAAAABYFAEvAAAAAAAAAFgUAS8AAAAAAAAAWBQBLwAAAAAAAABY\\\n",
       "FAEvAAAAAAAAAFgUAS8AAAAAAAAAWBQBLwAAAAAAAABYFAEvAAAAAAAAAFgUAS8AAAAAAAAAWBQB\\\n",
       "LwAAAAAAAABYFAEvAAAAAAAAAFgUAS8AAAAAAAAAWBQBLwAAAAAAAABYFAEvAAAAAAAAAFgUAS8A\\\n",
       "AAAAAAAAWBQBLwAAAAAAAABYFAEvAAAAAAAAAFgUAS8AAAAAAAAAWBQBLwAAAAAAAABYFAEvAAAA\\\n",
       "AAAAAFgUAS8AAAAAAAAAWBQBLwAAAAAAAABYFAEvAAAAAAAAAFgUAS8AAAAAAAAAWBQBLwAAAAAA\\\n",
       "AABYFAEvAAAAAAAAAFgUAS8AAAAAAAAAWBQBLwAAAAAAAABYFAEvAAAAAAAAAFgUAS8AAAAAAAAA\\\n",
       "WBQBLwAAAAAAAABYFAEvAAAAAAAAAFgUAS8AAAAAAAAAWBQBLwAAAAAAAABYFAEvAAAAAAAAAFgU\\\n",
       "AS8AAAAAAAAAWBQBLwAAAAAAAABYFAEvAAAAAAAAAFgUAS8AAAAAAAAAWBQBLwAAAAAAAABYFAEv\\\n",
       "AAAAAAAAAFgUAS8AAAAAAAAAWBQBLwAAAAAAAABYFAEvAAAAAAAAAFgUAS8AAAAAAAAAWBQBLwAA\\\n",
       "AAAAAABYFAEvAAAAAAAAAFgUAS8AAAAAAAAAWBQBLwAAAAAAAABYFAEvAAAAAAAAAFgUAS8AAAAA\\\n",
       "AAAAWBQBLwAAAAAAAABYFAEvAAAAAAAAAFgUAS8AAAAAAAAAWBQBLwAAAAAAAABYFAEvAAAAAAAA\\\n",
       "AFgUAS8AAAAAAAAAWBQBLwAAAAAAAABYFAEvAAAAAAAAAFgUAS8AAAAAAAAAWBQBLwAAAAAAAABY\\\n",
       "FAEvAAAAAAAAAFgUAS8AAAAAAAAAWBQBLwAAAAAAAABYFAEvAAAAAAAAAFgUAS8AAAAAAAAAWBQB\\\n",
       "LwAAAAAAAABYFAEvAAAAAAAAAFgUAS8AAAAAAAAAWBQBLwAAAAAAAABYFAEvAAAAAAAAAFgUAS8A\\\n",
       "AAAAAAAAWBQBLwAAAAAAAABYFAEvAAAAAAAAAFgUAS8AAAAAAAAAWBQBLwAAAAAAAABYFAEvAAAA\\\n",
       "AAAAAFgUAS8AAAAAAAAAWBQBLwAAAAAAAABYFAEvAAAAAAAAAFgUAS8AAAAAAAAAWBQBLwAAAAAA\\\n",
       "AABYFAEvAAAAAAAAAFgUAS8AAAAAAAAAWBQBLwAAAAAAAABYFAEvAAAAAAAAAFgUAS8AAAAAAAAA\\\n",
       "WBQBLwAAAAAAAABYFAEvAAAAAAAAAFgUAS8AAAAAAAAAWBQBLwAAAAAAAABYFAEvAAAAAAAAAFgU\\\n",
       "AS8AAAAAAAAAWBQBLwAAAAAAAABYFAEvAAAAAAAAAFgUAS8AAAAAAAAAWBQBLwAAAAAAAABYFAEv\\\n",
       "AAAAAAAAAFgUAS8AAAAAAAAAWBQBLwAAAAAAAABYFAEvAAAAAAAAAFgUAS8AAAAAAAAAWBQBLwAA\\\n",
       "AAAAAABYFAEvAAAAAAAAAFgUAS8AAAAAAAAAWBQBLwAAAAAAAABYFAEvAAAAAAAAAFgUAS8AAAAA\\\n",
       "AAAAWBQBLwAAAAAAAABYFAEvAAAAAAAAAFgUAS8AAAAAAAAAWFRqshcAAPhDUVGRSkpKknZ+l8sl\\\n",
       "Sdq1a5fsdnvS1pGZmamcnJyknR8AAAAAAKsg4AWAGqKoqEizZ8yQs6IiaWtISUlRly5dVFBQoIok\\\n",
       "rsORkqLrx48n5AUAAAAAIAwCXgCoIUpKSuSsqNAFr72mpnv2JGUNrvR0rX70UeUXFMheWpqUNfza\\\n",
       "pIneGD5cJSUlBLwAAAAAAIRBwAsANUzTPXuUt2NHUs7tzMiQJDXbuVOOQ4eSsgYAAAAAAGAem6wB\\\n",
       "AAAAAAAAgEUR8AIAAAAAAACARRHwAgAAAAAAAIBFEfACAAAAAAAAgEUR8AIAAAAAAACARRHwAgAA\\\n",
       "AAAAAIBFEfACAAAAAAAAgEUR8AIAAAAAAACARRHwAgAAAAAAAIBFEfACAAAAAAAAgEUR8AIAAAAA\\\n",
       "AACARRHwAgAAAAAAAIBFEfACAAAAAAAAgEUR8AIAAAAAAACARRHwAgAAAAAAAIBFEfACAAAAAAAA\\\n",
       "gEUR8AIAAAAAAACARRHwAgAAAAAAAIBFEfACAAAAAAAAgEWlJnsBAACg9isqKlJJSUnIMS6XS5K0\\\n",
       "a9cu2e32kGMzMzOVk5MTt/UBAAAAgFUR8AIAgIQqKirS7Bkz5axwhRyXkpKiLl26qKCgQBUVFSHH\\\n",
       "OlLsun78jYS8MC3cHxnM/oGBPy4AAACgpiHgBQAACVVSUiJnhUsXvPadmu45FHScK92h1Y92UX7B\\\n",
       "V7KXOoOO+7VJht4YfqxKSkoI2mBKUVGRZs6eIZcz+B8OzP6Bwe5I0Y3Xj+faAwAAQI1BwAsAAKpF\\\n",
       "0z2HlLfjYNDHnRkOSVKznQflOBQ84AUiVVJSIpezQnsueE3OpnsCjkl1pUurH9Wu/AKV20sDjnH8\\\n",
       "2kRN3hjOHxcAAABQoxDwAnG2d+9e3X777erUqZNuuOGGZC8HAAD8ztl0j8rydgR8rMKZIUkqa7ZT\\\n",
       "5Y7gleYAAABATZOS7AUAgWzdulU2m039+vXzub9nz56y2WwRfTRt2rRa1964cWMtWrRId9xxh5xO\\\n",
       "KtAAAAAAAACQOFTwwjIMw1D37t3VqVMnn/u3bNmiFStWKCsrS8OHD69yXIcOHapriR5Dhw7VjBkz\\\n",
       "tGTJEg0cOLDazw8AAAAAAIC6gYAXlmGz2fT0009Xuf/ee+/VihUr1Lt3b82dO7f6FxbAsGHDNGPG\\\n",
       "DM2bN4+AFwAAAAEVFRVV9oh2uSRJu3btkt1uV2ZmJn2eAQCAabRogOWtXbtWknTiiSfGZb4xY8bI\\\n",
       "ZrNp2bJlUc/Rp08fNWrUSPPnz5dhGHFZFwAAAGqPoqIizZ4xU3PmzFFBQYEkqaCgQHPmzNHsGTNV\\\n",
       "VFSU5BUCAACrIOCF5a1Zs0aS1L179ySv5A92u13nnXeetm/frk8//TTZywEAAEANU1JSImeFSxe8\\\n",
       "tk35BZslSfkFm3XBa9vkrHCppKQkySsEAABWQYsGWNq+ffu0detWSfGr4I2XYcOG6YUXXtC8efPU\\\n",
       "u3fvoOMOHz6sw4cPe24fOHBAkuR0OtmkrY5xuVxKSUmRKz1dzoyMpKzBfd5knV+SXOnpla+Dy8W/\\\n",
       "gVrij2vbIWeGI+g492OhxkiSK93BNYKIuK/BVFe6KpyBv7+l/n5/apDHJSnVxfcnxI/7umxUXK5G\\\n",
       "RZUtGtz/5TpDdeI6AwDrsxm8fxw10NatW3X00Uerb9++IVslLFmyRGeeeaaysrJUVFSklJTYi9LH\\\n",
       "jBmj559/XkuXLlW/fv2inqekpERNmjTRUUcdpa+//jrouClTpmjq1KlV7n/ppZeUmZkZ9fkBAAAA\\\n",
       "IJySkhKNHDlSRUVFys7OTvZyAABRoIIXlubuv9u1a9e4hLvxlJmZqbPOOkvz58/Xt99+q/bt2wcc\\\n",
       "d9ttt+nmm2/23D5w4IBatWqls88+m//BqmN27dqlgoIC5RcUqNnOnUlZgzMjQ+8995zOGjtWjkOH\\\n",
       "krKGXc2bqyA/X/n5+WrWrFlS1oD4+uPa/krNdh4MOs6Z4dB7z43WWWOfl+NQ8GqiXc3rqyC/I9cI\\\n",
       "THNfg7vyC1TWLPD311Rnhga+95wWnzVW5Y7A3//SdjVXswK+PyE+/vjeuFmNilx677mLdNbY/6ow\\\n",
       "x66C/HZcZ6g27ncQAgCsi4AXlhZL/91nnnlGK1eurHK/+74HHnhAc+fOrfL4pEmT1KFDB1PnGDZs\\\n",
       "mObPn6833nhDEydODDimXr16qlevXpX7HQ6HHI7Qb1NG7WK321VRUSF7aWnSwlU3x6FDSVuDvbS0\\\n",
       "8nWw2/k3UEv8cW07Qwa3bo5DocfZS51cI4iI+xost5cGDW/dyh2Hgo5JsfP9CfHjvi4Ls/74laww\\\n",
       "x67CrFSuM1QrrjMAsD4CXliau4I3mv67K1eu1PPPPx/08cWLFwe8f8yYMaYD3tatW0uStm3bFvH6\\\n",
       "AAAAUHtlZmbKkWLXG8NbKSUlRV0kFeS3U0VFhRwpdlp1AQAA0wh4YVklJSXatGmTpOgqeOfOnRuw\\\n",
       "QjdePXglacGCBZKk8847L6Z5AAAAULvk5OTo+vE3qqSkRC6XS6tXr1Z+fr7s9spwNycnJ9lLBAAA\\\n",
       "FkHAC8tav369KioqlJaWpo4dOyZ7OQG9+eabys7O1oABA5K9FAAAANQwOTk5ysnJkdNZ2ZamWbNm\\\n",
       "vF0eAABErGbtSgVEwN1/t1OnTjXyf4TXrVunrVu3atCgQUpLS0v2cgAAAAAAAFALEfDCsmLpv1sd\\\n",
       "5s2bJ6lyozUAAAAAAAAgEWjRAMtyV/BG03+3OsybN09paWkaPHhwspcCAAAkOX5tEvSxVFe6JClt\\\n",
       "V3Ol2EsjPh4AAABIFgJeWJLT6dRXX30lqWZW8G7dulXr16/XwIEDlZ2dnezlAECN8GuTjJCPu9Ir\\\n",
       "2+3sal5f9lJn1PMA/jIzM2V3pKjJG8ODjklJSZG6SM0K8lVRURF0nN2RoszMzEQsEwAAAIgKAS8s\\\n",
       "yeFw6PDhwwmZe+7cuZo7d25Mc9CeAQD+kJmZKUeKXW8MPzbkuJSUFHWRVJDfMWTAJkmOFDshG0zL\\\n",
       "ycnRjdePV0lJSdAxLpdLq1evVn5+vux2e9BxmZmZysnJScQyAQAAgKgQ8AIJMG/ePNlsNg0dOjTZ\\\n",
       "SwGApMvJydH1428MGa5J5gM2iZANkcvJyQl5zTidlVXjzZo1q5GbtwIAAADBEPACcbZ3716tXLlS\\\n",
       "vXr1Ul5eXrKXAwA1QrhwTSJgAwAAAIBoEPACcda4cWOVl5cnexkAAAAAAACoA1KSvQAAAAAAAAAA\\\n",
       "QHSo4EWNlJubq7vvvltt2rRJ9lIAAAAAAACAGouAFzVSbm6upkyZkuxlAAAAAAAAADUaLRoAAAAA\\\n",
       "AAAAwKIIeAEAAAAAAADAogh4AQAAAAAAAMCiCHgBAAAAAAAAwKIIeAEAAAAAAADAogh4AQAAAAAA\\\n",
       "AMCiCHgBAAAAAAAAwKIIeAEAAAAAAADAogh4AQAAAAAAAMCiCHgBAAAAAAAAwKIIeAEAAAAAAADA\\\n",
       "ogh4AQAAAAAAAMCiCHgBAAAAAAAAwKIIeAEAAAAAAADAogh4AQAAAAAAAMCiUpO9AACAr1+bNEna\\\n",
       "uV3p6ZKkXc2by15ampQ1JPP5AwAAAABgNQS8AFBDZGZmypGSojeGD0/aGlJSUtRFUkF+vioqKpK2\\\n",
       "DkdKijIzM5N2fgAAAAAArIKAFwBqiJycHF0/frxKSkqStgaXy6XVq1crPz9fdrs9aevIzMxUTk5O\\\n",
       "0s4PAAAAAIBVEPACQA2Sk5OT1GDT6XRKkpo1ayaHw5G0dQAAAAAAAHPYZA0AAAAAAAAALIqAFwAA\\\n",
       "AAAAAAAsioAXAAAAAAAAACyKgBcAAAAAAAAALIqAFwAAAAAAAAAsioAXAAAAAAAAACyKgBcAAAAA\\\n",
       "AAAALIqAFwAAAAAAAAAsioAXAAAAAAAAACyKgBcAAAAAAAAALIqAFwAAAAAAAAAsioAXAAAAAAAA\\\n",
       "ACyKgBcAAAAAAAAALIqAFwAAAAAAAAAsioAXAAAAAAAAACyKgBcAAAAAAAAALIqAFwAAAAAAAAAs\\\n",
       "ioAXAAAAAAAAACyKgBcAAAAAAAAALIqAFwAAAAAAAAAsioAXAAAAAAAAACyKgBcAAAAAAAAALIqA\\\n",
       "FwAAAAAAAAAsioAXAAAAAAAAACyKgBcAAAAAAAAALIqAFwAAAAAAAAAsioAXAAAAAAAAACyKgBcA\\\n",
       "AAAAAAAALIqAFwAAAAAAAAAsioAXAAAAAAAAACyKgBcAAAAAAAAALIqAFwAAAAAAAAAsioAXAAAA\\\n",
       "AAAAACyKgBcAAAAAAAAALIqAFwAAAAAAAAAsioAXAAAAAAAAACyKgBcAAAAAAAAALIqAFwAAAAAA\\\n",
       "AAAsioAXAAAAAAAAACyKgBcAAAAAAAAALIqAFwAAAAAAAAAsioAXAAAAAAAAACyKgBcAAAAAAAAA\\\n",
       "LIqAFwAAAAAAAAAsioAXAAAAAAAAACyKgBcAAAAAAAAALIqAFwAAAAAAAAAsioAXAAAAAAAAACyK\\\n",
       "gBcAAAAAAAAALIqAFwAAAAAAAAAsioAXAAAAAAAAACyKgBcAAAAAAAAALIqAFwAAAAAAAAAsioAX\\\n",
       "AAAAAAAAACyKgBcAAAAAAAAALCo12QsAAKAuKyoqUklJSbKXUSO4XC5J0q5du2S325O8mpohMzNT\\\n",
       "OTk5yV4GAAAAgBqMgBcAgCQpKirS7Bkz5KyoSPZSaoSUlBR16dJFBQUFquA1kSQ5UlJ0/fjxhLwA\\\n",
       "AAAAgiLgBQAgSUpKSuSsqNAFr72mpnv2JHs5SedKT9fqRx9VfkGB7KWlyV5O0v3apIneGD5cJSUl\\\n",
       "BLwAAAAAgiLgBQAgyZru2aO8HTuSvYykc2ZkSJKa7dwpx6FDSV4NAAAAAFgDm6wBAAAAAAAAgEUR\\\n",
       "8AIAAAAAAACARRHwAgAAAAAAAIBFEfACAAAAAAAAgEUR8AIAAAAAAACARRHwAgAAAAAAAIBFEfAC\\\n",
       "AAAAAAAAgEUR8AIAAAAAAACARRHwAgAAAAAAAIBFEfACAAAAAAAAgEUR8AIAAAAAAACARRHwAgAA\\\n",
       "AAAAAIBFEfACAAAAAAAAgEUR8AIAAAAAAKDatGvXTjabLeDHu+++m+zlAZZDwAsAAAAAAIBq8//+\\\n",
       "3/+TJH322WfasWOHPvnkE8/tM888M5lLAyyJgBcAAAAAAADVZvfu3crKylKPHj3UvHlz7dy503Pb\\\n",
       "brcne3mA5RDwAgAAAAAAoNps2LBBHTt2lM1mkyR98cUX6tSpk+c2gMgQ8AIAAAAAAKDafPnll+rc\\\n",
       "ubPn9vr1631uA4gMAS8AAAAAAACqzYYNG9SpUyef2wS8QPQIeAEAAAAAAFAtysvL9c0333gCXcMw\\\n",
       "9MMPP6h169ZJXhlgXQS8AAAAAAAAqBbffvutysrKPBW8NptNnTp10rXXXqvvv/8+yasDrCk12QsA\\\n",
       "AAAAAABA3XDCCSfIMAyf+9asWZOk1QC1AxW8AAAAAAAAAGBRBLwAAAAAAAAAYFG0aAAAAAAAAEC1\\\n",
       "sNlspsb5t3EAEBwBLwAAAAAAAKoFwS0Qf7RoAAAAAAAAQLW5//771bNnTzVo0EDNmjXTiBEjtHXr\\\n",
       "1mQvC7AsAl4AAAAAAABUm+XLl+vGG2/UJ598okWLFqmwsFCDBg1SeXl5spcGWBItGgAAAAAAAFBt\\\n",
       "Fi1a5HP76aefVtu2bbVx40Z16dIlSasCrIsKXgAAAAAAACRNUVGRJKlRo0ZJXglgTQS8AAAAAAAA\\\n",
       "SAqXy6Vbb71VgwcPVsuWLZO9HMCSaNEAAAAAAACAamcYhq699lr99NNP+uijj5K9HMCyCHgBAAAA\\\n",
       "AABQrQzD0HXXXaf3339fK1asUNOmTZO9JMCyCHgBAAAAAABQbQzD0PXXX6+3335by5cvV6tWrZK9\\\n",
       "JMDSCHgBAAAAAABQba6//nr95z//0YIFC5SRkaGdO3dKqtxkLS0tLcmrA6yHgBcAAAAAAADV5okn\\\n",
       "npAknXHGGT73L126VP369UvCigBrI+AFAAAAAABAtTEMI9lLAGqVlGQvAAAAAAAAAAAQHQJeAAAA\\\n",
       "AAAAALAoAl4AAAAAAAAAsCgCXgAAAAAAAACwKAJeAAAAAAAAALAoAl4AAAAAAAAAsCgCXgAAAAAA\\\n",
       "AACwqNRkLwAAAAAAAAC1S2lpqXbs2OHzsX//fpWXl/t8SFJqaqrPR25urvLy8nw+0tPTk/yMgJqL\\\n",
       "gBcAAAAAAAARcblc+uabb7R69Wp99dVX2r59uyfI/WXHTyraV6wUu005zTLUIM+u+i0M1c91KsVh\\\n",
       "yOaokC21QikpKWq0ZaD2tnpP9ooKVThTVOG06fB+hw5st2n/Dpf27zokl8tQTsMsNc9rphZ5LXVk\\\n",
       "Xiu1aNFCHTt2VI8ePdShQwfZ7fZkvyRA0hDwAgAAAAAAIKjy8nJPmOv+WLdunSpUrpbdcpTTuVyO\\\n",
       "4w4qrV+ZWudJJ7aQ6udJGU0MpdhLPPM08ps3xVlPJ7wzThsHL1Gmo8zrkcOez3Jd0m97pP07irV/\\\n",
       "e7H279is/Tukr39uqEVPpurbdfuVYrOrW7fu6tGjp3r06OEJfVNTib1QN3ClAwAAAAAAwMPpdGrF\\\n",
       "ihV6++239fHHH2vdurUybIZadW+s3B6GUq/Zo9N7ONW6g5Ri/7XK8VlxXEuKXcppVvlxVLc/7m+o\\\n",
       "fZIkV7n08zdOfb/6f/phzeda9XRTbbxur2TY1K1bd5188sk699xz1adPHzkcjjiuDKg5CHgBAAAA\\\n",
       "AADquMLCQi1cuFALFizQwoUL5ahvV7vzGunwX35Qnx6GGhwn2ezbfY5JSdJavdlTpaM6VX6cOdqp\\\n",
       "LG2XyyVt2yT9sHqjvv5wt0ZdPlelJRU655xzNGTIEA0aNEgNGzZM9tKBuCHgBQAAAAAAqIO+++47\\\n",
       "LViwQPPnz9dHH32kIzplq+GQUnW6tUTZJ0q2lMoq2XhW5FYHu11qc4LU5oQiDbi8SH+pkL5bI301\\\n",
       "f7Ue+McqjR49WqeffrrOP/98DRkyRMccc0yylwzEhIAXAAAAAACgjti+fbsKCgr04osvavPmzerQ\\\n",
       "v60Oj9iqTi+UK691YURz7ZMUSR1soar24a0OKSnSKT2lU3p+r6v+T9rxk/ThWx/rzfkbddttk9Su\\\n",
       "3TEaNWqU8vPz1aJFiySsEIhNTaimBwAAAAAAQIK4XC69/fbbGjp0qNq0aaP/fviSmk0pU5c9ZcpY\\\n",
       "9I1yrytVvdbxO19xhOPrB7k/UWFwXmtpxHWlmrlotz7b49R1U37Q0g9fUps2bTRs2DC9/fbbcrlc\\\n",
       "CTo7EH8EvAAAAAAAALVQYWGhHnzwQR199NEae81YFXbdppbfOlVv0UYdGrFZ9gbm5ok0sE20YFXD\\\n",
       "0bSSyGogDR5xWHMWbdT73zrVrvNPuvrqfB199NF66KGHVFgYWVUzkAwEvAAAAAAAALXIxo0bde21\\\n",
       "16pVq1b698LndeT0esreulu7/m+tUtsEP662RplmK4FbtpGuv2etlv74q25/bLfeertArVq10rXX\\\n",
       "XquNGzcmcolATOjBCwB1RFFRkUpKSkKOcb8NadeuXbLb7SHHZmZmKicnJ27rAwCgNuLnL4Dq9PXX\\\n",
       "X+v222/XwoULlXdpQzX96JAOd/tahyXZvMYlqxduTROs4jc1VRpx4WGNuPAbbVhn0zMzPlOPHj00\\\n",
       "aNAgTZs2TR06dKjWdQLhEPACQB1QVFSk2TNnyOmqCDkuJSVFXbp0UUFBgSoqQo912FN0/Y3j+SUT\\\n",
       "AIAgioqKNHvGLDkrykOOi+jnb0qqrh9/Az9/AfjYtm2bpk6dqhdffFFdx56gnC2lOtx8R9DetjCv\\\n",
       "czdD059bo8nTpEfuWaXu3btr1KhRmjJlilq2bJns5QGSCHgBoE4oKSmR01WhCz57TU1/2xN0nCst\\\n",
       "Xau7PKr8FQWyl5UGHfdrgyZ646ThKikp4RdMAACCKCkpkbOiXBe8dpSa7kkPOs6VLq1+VMovOFb2\\\n",
       "4D9+9WuTUr0x/Ed+/gLwKCws1P3336/Zs2erw9BjlL2hVNuOWSP3ewEOKvgGZkHnVODq3mIFrnjd\\\n",
       "p+A9ca0q0PNp1lx6aPYu3Xy9NHXqW2rf/iXdcMMNmjRpkho1oh4ayUXACwB1SNPf9iivaEfQx531\\\n",
       "MiRJzQ7slOPwoepaFgAAtVrTPenK25EZ9HFnhiFJarYzQ45DtqDjAMCtpKRE06dP14MPPqi8k/OU\\\n",
       "9dEh7eq+IaKQp7a1aQjWbiHYc4xmQzZJOuYY6V//2qW1a6U77nxebdvO0cSJE/XXv/5VmZnBv9cD\\\n",
       "icQma0Cc7d27V9dee61mzZqV7KUAAAAAAGqRiooKzZkzR8ccc4yefmOODr/xm7Yu+ka/dQ9+zMHq\\\n",
       "W16tEKoaOavsj8+7d5fefmu3Xnn5N73++iM65phjNGfOnLCtdoBEIOBFrbF161bZbDb169fP5/6e\\\n",
       "PXvKZrNF9NG0aVOfOV599VX169dPDRs2VP369dW1a1c99NBDcjqdVdbRuHFjLVq0SHfccUfAxwEA\\\n",
       "AAAAiNT333+vfv366a4H7tK+mbu1/ZOtUv8/wsTCKOYMdkw0c1WXmtYOon//Cn20cq+mP7BbD9w/\\\n",
       "Uf3799fmzZuTvSzUMbRoQK1mGIa6d++uTp06+dy/ZcsWrVixQllZWRo+fHiV47x3xJwwYYKmT5+u\\\n",
       "1NRUDRgwQFlZWVqyZIkmTpyoBQsW6N1331VGRobP8UOHDtWMGTO0ZMkSDRw4MDFPDgAAAABQ61VU\\\n",
       "VGjWrFm6bfJtsuenqmzhAdnqS5E0dImmF28gwfrwxjo2UeLZnsG7etef47B00TCXzvnTfk2aslpd\\\n",
       "u3bR/fc/oOuvv14pKdRWIvEIeFGr2Ww2Pf3001Xuv/fee7VixQr17t1bc+fODXr8vHnzNH36dGVl\\\n",
       "ZWn58uU68cQTJUl79uzRgAEDtHLlSt155516+OGHfY4bNmyYZsyYoXnz5hHwAgBQgxUVFamkpEQu\\\n",
       "l0uStGvXLtntdmVmZrKJFQAg6TZv3qyxY8dq47aNOvxWuWz9KkIGObWtr251i7U6OCtLmvXwQQ0f\\\n",
       "Il15w1S99tprevbZZ9WuXbu4rA8Ihj8joE5au3atJHkC22CmTZsmSZo0aZLP2CZNmujxxx+XJM2a\\\n",
       "NUtFRUU+x/Xp00eNGjXS/PnzZRhGPJcOAADipKioSLNnzNKcOXNUUFAgSSooKNCcOXM0e0bVn+8A\\\n",
       "AFSXiooKzZw5U126dtEnnT/Tvi9+k61fZYRTrvSo5gzWizce7Rj2xWGOWCS6UjhU9W5qadX7+veR\\\n",
       "vli1Vx2P/k5du3bRzJkz6c2LhCLgRZ20Zs0aSVL37sE70f/yyy/67LPPJEkjR46s8vjpp5+uVq1a\\\n",
       "6fDhw3rnnXd8HrPb7TrvvPO0fft2ffrpp3FcOQAAiJeSkhI5K8p1wWstlV9wtCQpv+BoXfBaSzkr\\\n",
       "ylVSUpLkFQIA6qIffvhBAwYM0F3/vFulC5xyzTJky/JtyBAq5I1X/9xk9+FNVCVysDA4WPVuqHA3\\\n",
       "lAZOafaU7VrwdIn++fBdGjCgv3744YfoJgPCoEUD6px9+/Zp69atkkJX8LqrfBs1aqSjjz464Jie\\\n",
       "PXtq27ZtWrt2rS699FKfx4YNG6YXXnhB8+bNU+/evYOe5/Dhwzp8+LDn9oEDByRJTqeTTdoQNy6X\\\n",
       "SykpKXKlpctZLyPoOGdahs9/g86Xll45n8vFdRoDz9clPV3OjNCveV3gfg14LSq50vl3lmjuf4ON\\\n",
       "iuupUVHldef+L6894uGP7/OSMyP4u7qcGd7/DT7Olc61ifjjWqpZXnnlFeVfma/SK2yqeCtDqVn2\\\n",
       "ZC+piprQW9eM6mhVEah611//U6UNC/fr7/evVNeunfXcc3P15z//OfGLQ51iM3j/OGqJrVu36uij\\\n",
       "j1bfvn21bNmyoOOWLFmiM888U1lZWSoqKgra8HzmzJkaP368unXr5gl7/f31r3/VjBkzdNFFF+nV\\\n",
       "V1/1eaykpERNmjTRUUcdpa+//jroeqZMmaKpU6dWuf+ll15SZmZm0OMAAAAAIFYlJSUaOXKkioqK\\\n",
       "lJ2dnezl1FkVFRW6++679fCMh1X673rS+fU8j6XqQNDjUhU4YQwVbgbbbC3QMZFsUhaoAjbQOO85\\\n",
       "U5wZOuGd/+jHwZfKcBwyde5ozhNubLB5peAVvKHCXVuQnhUL3pcuuylVf51wm6ZMmcIGbIgbKnhR\\\n",
       "57jD2q5du4b8Zvrbb79JkurXD77XaFZW5Y8Gd9Wtt8zMTJ111lmaP3++vv32W7Vv3z7gHLfddptu\\\n",
       "vvlmz+0DBw6oVatWOvvss/kfLMTNrl27VFBQoPwVBWp2YGfQcc60DL1363M66+GxcpQdCjpuV3Zz\\\n",
       "FfTJV35+vpo1a5aIJdcJnq9LQYGa7Qz+dakrnBkZeu+553TW2LFyHAp+/dUVu5o3V0E+/84S6Y9/\\\n",
       "g0erUVGG3nsuVWeNLVdhziEV5G/htUfM/rjGjlWznSHeQZMhvfecdNZYyRHi29+u5odUkP8d1ybi\\\n",
       "KtDvMqhexcXFuvTyS7V0w3KV/i9TOiH2qCZem63VtE3bYt4ELcJ5o23PEMz5f5L+9+9yDblxmr7c\\\n",
       "sFYv/Os/nlwBiAUBL+ocM/1342XYsGGaP3++3njjDU2cODHgmHr16qlevXpV7nc4HHI4HIleIuoI\\\n",
       "u92uiooK2ctK5TgcPjhzlB0KOc5eVlo5n93OdRoDz9eltJRA04vj0CFeD0n2Uv6dJZr732BhlrtV\\\n",
       "UgMV5hxSYdZhXnvExR/f5yXHIVuIkZVvqnQcCj3OXiquTcQd11JybdmyRQOHnqPvj/hZxqeZUqOq\\\n",
       "RUjlyg5axVuu9KBVvMHC2YMKXMVb08Jcs5IRj0ZTvStJOiidcIz06X9cGnHL2zr1lBM1f8G7atOm\\\n",
       "TbyXiDqGWnDUOe4K3lD9dyWpQYMGkqSDB4PtNVr5l1ZJQSttW7duLUnatm1bxOsEAACJlZmZKUdK\\\n",
       "qt4Y/rMK8rdIkgryt+iN4T/LkZJKqyQAQEItW7ZMXU7qqu/675axqGXAcNetXMHf3Rlqw7VEKQ5w\\\n",
       "X6BcM9C46hAoqK6O6t2Q4a6XRrnSwicN9ev6nU7q2VnLly+P/GSAFyp4UaeUlJRo06ZNksJX8Lr/\\\n",
       "ghYqnHU/FuyvbQsWLJAknXfeeRGuFAAAJFpOTo6uH3+DSkpK5HK5tHr1auXn58tutyszM1M5OTnJ\\\n",
       "XiIAoJZ68skndeMt41U+vZF0Ve7v9zZU4Ji0UjSVvJFW8QZi1creRAlWvRs23PWrHXM4pBmTpc7H\\\n",
       "FmvwoD/pn4/O0jXXXBOXNaLuIeBFnbJ+/XpVVFQoLS1NHTt2DDnWHQDv3btXW7Zs0dFHH11lzOef\\\n",
       "fy4peDXwm2++qezsbA0YMCDGlQMAgETIyclRTk6OZxf5Zs2a8XZlAEDCVFRUaMKECXr8/z0l1+Lm\\\n",
       "0un+7xYJHfImWl0Lc6ur965/uOtt3J+lDk3KNfy26/XVV1/pscceY/M1RIwrBnWKu/9up06dwv7y\\\n",
       "1rJlS5100kmSpJdeeqnK4ytXrtS2bdtUr149DR48uMrj69at09atWzVo0CClpaXFYfUAAAAAAKty\\\n",
       "uVy68sorNXvhHLk+axkg3HULvpVYNK0aCoOMD5E5JlSw9VhBVNW74V7oQumMrtKnT7n0zuuzddVV\\\n",
       "V8nlckW7RNRRBLyoU8z233WbPHmyJOmBBx7whMNSZVXvddddJ0m64YYbAr6Fc968eZIqN1oDAAAA\\\n",
       "ANRdTqdTl19+uZ7/+GVVLG8vHRU8xE22QAFsoPuS1V/XW6C+upH03w04Z5Dq3VAbq0XN64Vtkyet\\\n",
       "mFWh/y2ZqyuuuELl5eUJOCFqKwJe1CnukDZc/123YcOGafz48SouLtbJJ5+sQYMG6aKLLtIxxxyj\\\n",
       "DRs26LTTTtM999wT8Nh58+YpLS0tYHUvAAAAAKBuKCsr08UXX6z/fDlPxvJjpRZm3uEZuoo3WCWv\\\n",
       "Vap4oxHvSDxe80VdvRvgi9KiibR8pqENH7+kiy++WGVl8e4VgdqKHryoM5xOp7766itJ5it4JWn6\\\n",
       "9Ok67bTTNHv2bK1atUpOp1Pt2rXTpEmTdNNNNwVsv7B161atX79eAwcOVHZ28LfQANXt1wZNQj7u\\\n",
       "Sqv8H8Jd2c1lLwv+J+pw8wAAgD/82iR02ZcrXZIytKv5IdlDDA03D4Cax+l06pJLLtEbWxdJS9tL\\\n",
       "jb1jGHddabBa2Oj68Ua64Vo87VP8g9jqFGn1bkytGYI4oqG09H7prMmv69KhJ+nlBauVmkp8h9C4\\\n",
       "QlBnOBwOHT58OKpjR4wYoREjRpgeT3sG1DSZmZly2FP0xknDQ45LSUlRF0kFffJVUVERcqzDnqLM\\\n",
       "zGB9wwAAQGZmphwpqXpj+I8hx1X+/O2igvzvwv/8TUnl5y9gES6XS1dccYXe+D5QuGtW8JC3XNlK\\\n",
       "1YGY1hhMoDDYChuwmW3PkPAQOsLKXX+Ns6X3pkn9J36hK0b0179eXSa73R635aH2IeAFEmDevHmy\\\n",
       "2WwaOnRospcCSKrcJf76G8erpKQk5DiXy6XVq1crPz8/7P9AZGZmBuw/DQAAKuXk5Oj68Tfw8xeo\\\n",
       "gyoqKnTVVVfp5XULpOXHhgl3sxS6o23klbyRVPEelFQ/otkTz0yQHElfXTPiWr0bi98vBXfI22/i\\\n",
       "Rxp3xVA986/5Skmh0yoCI+AF4mzv3r1auXKlevXqpby8vGQvB/DIyckJ+wuh0+mUJDVr1kwOh6M6\\\n",
       "lgUAQK3Gz1+gbpowYYJeWPlfGctPlI5w98UNVboZXcibyCpeM4oVPmg1M6amijjcDdeWIVz1rt8l\\\n",
       "0Kyh9MH9hvr8faFuuiFf0x9/PswEqKuI/oE4a9y4scrLy/Xxxx8neykAAAAAgGr2xBNP6PH/97Qq\\\n",
       "3u8mtfDe9CxcXWp0MWg8NlwLlEsGGmeiu0DSxNKeIVj1biBRV+5GGO66tWgsvT+tQv956QU9OXtG\\\n",
       "lCdHbUfACwAAAAAAEAfLli3T+Fv/KtfrnaSjMgKMiCXkDd45NljImwyJ6lxQ3YJV7wYVS9/dUMXb\\\n",
       "kto0k17/q3TLrbdo+fLlES4MdQEBL2qN3Nxc3X333RozZkyylwIAAAAAqGO2bNmi8y8aqvIZx0qn\\\n",
       "h9rGKzEhbyCxVvHWFPHaFC0p1bsxhrsqrPw4/Thp+mXlGn7BedqyZUsUC0FtRg9e1Bq5ubmaMmVK\\\n",
       "spcBAAAAAKhjfvvtN509ZJCKRzWVrjxO4VO7cEL15I2sH2+wDdfMCLQpm79k9Ng1c75Y1hRR9W4s\\\n",
       "yXiEl8lV/aUvfirW0PMGatUna5SVZdXuxog3KngBAAAAAACiVFFRoZFXjNLm5vukRzr9fm+44K2R\\\n",
       "wkenoQSuaY2kH2+0Vbw1sQ+vmVey2qt3f6+8Dcpk5a6/f14mHWH7XldcNlIVFRURLgq1FQEvAAAA\\\n",
       "AABAlKZMmaKFG5bJePkkKdU7ZjFTXRkqmswyOUdi1cRAN5ECVe8GDXejrd41E+4GkWqXXr7R0Bcf\\\n",
       "v6OpU6dGuQDUNgS8AAAAAAAAUXjllVd0//SH5JrfS2qUFmBErCFvKMmr4q3p/F91s9W7EYW7ocRa\\\n",
       "uRtG43LpzatceuyfD+nVV1+NZGWopQh4AQAAAAAAIvTDDz8o/8qxKv93d+mEwKFqJTOVuNFW8kYW\\\n",
       "8kbLP3P0v+2fWUaTiZqV/JpmVabgwZLwBIe77he3Y57071GlGps/Rj/88IOJA1GbEfACAAAAAABE\\\n",
       "oKKiQmPyx6j0iqOk80+I06yJr+Q1W8Ubb7FuOReK/6tmagO2RFXvVlO463Z+Z+nyHqUam59PP946\\\n",
       "joAXAAAAAAAgArNnz9Zn275SxYM9fr+noYIFrX+IRyVv7AKFvP5qUpuGcK9qoo+vIsmVu/4eGlqh\\\n",
       "H7/5VI8//riJSVBbEfACAAAAAACYtHnzZk26bZJKn+stZTmimCERIW/ggNlsqwYz+WJt2WwtIdW7\\\n",
       "0Ya7hWGOlSqD3RBryaonPXdJqSZNmqjNmzeHmQy1FQEvAAAAAACACRUVFRo7dqzKx7ST+uUFGGGm\\\n",
       "kleqzkreaFs1hKviDdeHN1qRNKqIpj2DGQHD3WB9d2Op3A3HZMjcv4U0ulu5xo4dS6uGOoqAFwAA\\\n",
       "AAAAwIRZs2Zp47bvVPZAtzAj49GyoZGCx53J3XQtWSINcP1fDbPVu3ERj8rdCM7z4Nll2rZpjWbP\\\n",
       "nm3yQNQmBLwAAAAAAABhfP/997pt8mTtee4MKauZyaPi3gHWS2Qhr79oqngjadMQ6f5kyWC6NUOw\\\n",
       "yt1gL0i4cDeUMC0ZfM7hdZ6setJzQ4p1222TaNVQBxHwAgAAAAAAhOBuzWDL7yT1ax3h0fGo5A11\\\n",
       "rLlzmm3VEIlo+/Imop+v/ythpnrXn+lwN5RYw90YztGvnTSmh41WDXUQAS8AAAAAAEAIzzzzjL79\\\n",
       "eYsOPtDb695QLRT8mW3ZEEz8evKGE2kvXm/x6sNrRiS9egPxr96NKNxNVOVuOH5Vu4E8cOZBbfth\\\n",
       "k5599lkTE6K2IOAFAAAAAAAIoqSkRFOmTNGeh3pI9dMCjIg06A0lniFv4Cpe/0reSKt4/XPKRFTj\\\n",
       "ukXb4CKa6l3T4h3uRtKSwYSsetKDPffo7rvvVklJibmDYHkEvAAAAAAAAEFMnz5dZS0z5Bp+TJiR\\\n",
       "1RXyRrLxWnQRaSxVvMHEWt0b6lWJtIY56urdRFTuhmOiatfnXIXSRce6dGRummbMmBHjyWEVBLwA\\\n",
       "AAAAAAABFBYW6sEHH9S+B3pKNpuJI8xW84Zr2RCuL28kwvfjjbWKtyaJS/VuPPpShNqETTJXuRtJ\\\n",
       "Ku51LptNeqDLNj3wwAMqLKzJXy3ECwEvAAAAAABAAPfff7/q9T5KFQNOUGSBayRBbyjBzhls/mDB\\\n",
       "cPhKXv+QN9pY0DuTNLtnWKRi6b8btno3WOVuoBck2rJkM8FuhFW7/s48qkK92jfXAw88ENnaYEkE\\\n",
       "vAAAAAAAAH5+/vlnzZ49W7sfOMXr3kgraxMZ8pqdP/B5/Kt4K+8LXsnrn3sWBvm8uoVs3eBXvWuq\\\n",
       "NYNZsVTuRjNvpOeR9MAJmzRr1iz9/PPPJieFVRHwAgAAAAAA+JkyZYqyh3aRuucFeDSSoDdeLRsi\\\n",
       "md/c+gKFvN6s9ub+SDoOx9R3N1S4G0y8WjKYCHbdTmwmDTkhW1OnTjV3ACyLgBcAAAAAAMDL119/\\\n",
       "rRdffFG77ukVZmQkIW+s1bzxqOSNrR9vPDZbM8t7pdF0Iw5XvVtFosPdUMy2ZIg0cS+W7u2wS//+\\\n",
       "97/1zTffRHgwrISAFwAAAAAAwMvtt9+uE8aeJR3T2MToSKt5w4Wx8dx8Lbp+vN5CZYrB2jRE25rW\\\n",
       "TEztPSbabehM9931F+9wN5Jg12y4WyyfeY/JkfK75+j22283OQGsiIAXAAAAAADgdxs3btTChQu1\\\n",
       "5s7eiqzHbTzbNoRr2RBszmDtGgLN/4dEVvEmaqM1fz4Vv5FW7/qLR7gbriVDvIPdEHPe2X6X3nnn\\\n",
       "HX399dcRTAYrIeAFAAAAAAD43YwZM3TCpWdJzd2hZyQhr2Q+6I2lmjfUOeIf8tbEXrzezyhUFB52\\\n",
       "Y7VQu8e5RRPuhhIu3I0m2A0xZ1596ZIuDTVjxowIJoWVEPACAAAAAABIKiws1L/+9S+t/esJfo+Y\\\n",
       "7aHrLV5tG6Lpy2s25PUVatM177zxYJD7w2WS0bZucDPzFfCv3vUWt3A3VAAba0uGOAa73v7aZqde\\\n",
       "eOEFFRbWxLgesSLgBQAAAAAAkPT000/rqJM6yuh6ZJARjRRZ2Buvtg2hWjbEEvKGbgMRqlVDOLGG\\\n",
       "uW7R9tmVwrRmMNNrIpInEWtLhmj67EagWxNDPVvl6plnnonsQFgCAS8AAAAAAKjzXC6XZs+erR/+\\\n",
       "2t3kEYkIeuPdsiHykDeaKt7qFqw9Q0TVu97MhquRtk6QwoexceqzG9Lv4fNfW+zV7Nmz5XK5opgE\\\n",
       "NRkBLwAAAAAAqPMWLVqkUpdTh88/PsIj470RW7xbNphZX/A5zVTxxvtN/4FWE2mDDO/q3bCtGfwF\\\n",
       "CmWj2UwtXu0YihV51e4+VVnbkCMOq/zwIS1evDiCiWAFBLwAAAAAAKDOe/rpp1Ux9jQpNXgFa3DR\\\n",
       "tG4wO2cgkbZs8J8ndNAcy4ZrgR4Pt+dYtMxU70bcdzdYz91AYm3JEE4UrRhCBc6pKVJ+mwo9/fTT\\\n",
       "EU6Kmo6AFwAAAAAA1Gnbt2/XO++8o71X9vr9nvpeH5EyG/TGo21DLCFvoLn+mC9UqwY3M4Ww8Wbm\\\n",
       "FQvae7c6wt14tGSIc7Dr7coj9urtt9/Wjh07IjwBajICXgAAAAAAUKcVFBTo2AG9pTZNAjwabdgb\\\n",
       "adAbKroMV80bbN5w85iv5A1WxXswwH3xYnaDNe/q3ZCtGbxFG+4GC1Lj1Ws3QcGu29FZUv8ux6qg\\\n",
       "oCDCE6EmI+AFAAAAAAB12osvvqjNY7uYGJnIil4p+qA3WMsGsxGp/1zRKfT7b7wEe8YR8a7eNbuh\\\n",
       "mr9E9tqNpGo3QH9d0wqlsdqsf//731EcjJqKgBcAAAAAANRZ3333nTZv3qzDg04weUSiK3olcxux\\\n",
       "BRIo6A0UGgfqyes/TyUzVbzVJdCrYqp6N1QvCbMbqkUT7oar2o1087RoQ12/tQzKPazvv/9e33//\\\n",
       "fZSToaYh4AUAAAAAAHXWggUL1Lb/SVKDjCiOjibsjVePXrNhsdnj/c9nvh9vuF680h+5pDvLTGRA\\\n",
       "HDLcjXSXuGhaMpgNds2IsVo30FqyU6X+HdtqwYIFUUyKmoiAFwAAAAAA1FkLFizQ1iGdFVmFbSDR\\\n",
       "Br3hzhkq6I2kZYOZSt7g3CFvudI9lbyBMkz/Ng1mc0z3Ssy0Xgg0xl29a7rvrn/IGiiUjXew6z7e\\\n",
       "rDhU6wYzxPiRgLcWIeAFAAAAAAB10r59+7Ry5UqVnnei171mg9dgElXVm6igN9DGa97Hm2OmijcS\\\n",
       "7lU08rvtvSLv9gwBBeu7ayZkjTRcNRPsmj1vNBW7Qap1gzkvp1Qffvih9u2LNkVGTULACwAAAAAA\\\n",
       "6qSFCxcqr1N7qXXTICPiFfaaZbZ1QyzHmxG+VUOoKt7qEKj3btDWDKHC3Vgrd+PVjqEaQl1vR2VI\\\n",
       "HVvnadGiRZEfjBqHgBcAAAAAANRJ8+fP197zu5gcXV1VvWZC5UireeNXyRuqH687U/Vv05BI3hur\\\n",
       "VVmI/yLCbaYWKGRNZLAbTbVuDKGuj2LpfPtezZ8/P8aJUBMQ8AIAAAAAgDqnrKxMCxcuVMmQHhEe\\\n",
       "2UixVfZGUtUba9DrL1jQG2p+72N9ma3ijaTtrLdg7RkCtWYI2Xs3ELNVu2aO9T/GbLBrVhxDXe/1\\\n",
       "Dcko0cKFC+V0OmOcGMlGwAsAAAAAAOqcDz/8UPasDOnEtjHOFG3YG01VbzDBgl6za4qskjdQFa+Z\\\n",
       "7DHe3V5DtmbwDkQDbagWamHRVO3GO9iNR6hbrCqhrrceWVJmaoo+/PDDGE6CmoCAFwAAAAAA1Dlv\\\n",
       "v/22nOf2klKyFbqKNRKJDnvNBL1mjjFTyRss5K3kDnndVbxu8WjTEOhZhKrerXLyULwXFKwlQ6Bj\\\n",
       "qjvYjUaYQNdfik06r4FTb731VpQnRE1BwAsAAAAAAOqcjz/+WAfPON7rniy/j1jFGvaamTuQUNW8\\\n",
       "4YJeM+0aqvbj9W/VYCZnDaRqE4jgK6pSvRuo7264yl1/ZjZg8x4bKkSNpL9urNW6ZjdyC+B0x0F9\\\n",
       "8sknUZ4YNUVqshcAAAAAAABQncrLy7V23ToZPa4MMco/Woy2k6zkG6yaTfHcIW+ouNQ9b6A53ev3\\\n",
       "X3egYxrqjyQyy+sY/7Hux7zHm1Pst6JwEXqoWDzgxmpu3uGu/31uZqt2AzFTrWtGrK0X4qRHlqF1\\\n",
       "a9fK5XLJbrfHb2JUKyp4AQAAAABAnfLNN9/ISLFJx7WM4Kh4VfhGWtlrpn1DtBW93vwref378vrz\\\n",
       "7ccbaMO1WPcE81+Zd3sG274A1buRNgIOVPkarJI2VJWs2WrdWCp1I2i9EIkOhySVO/XNN9/Ed2JU\\\n",
       "Kyp4AQAAAABAnbJ69Wo17tZB22OqWIxHhW+klb3hqnpDzeddmes/3j3WHaUGq+YtlG8dbvBK3oO/\\\n",
       "r9Y9s/tM+xS4FYP3KgN+/nu4W6V61z/cNVu5GyjYDSTWit1Y2i4kgt967DapW3Y9rV69Wh07dkzQ\\\n",
       "SZFoVPACAAAAAIA6ZfXq1TJ6HBvnWWOt7o2kstdsVa+/aKt5Q81ZWcVb+VG1ijdWgcJgU5W7oTZT\\\n",
       "MxPuxqtiNxLxrtItDPARQA+7U6tXr47TSZEMVPACAAAAAIA65fPVq7XjmoEK3cM2FrFW90ZS2esd\\\n",
       "8vpX9gZ7foH68zbyG+ffl9c93ruSt2oVb7nSlapSz0zeqzPTe9d71Z7VBqvelcJX7oYKdv3HBhsT\\\n",
       "aK5gIrmU4lmlG8Ml3MNepqc//zx+a0G1I+AFAAAAAAB1hsvl0tp166QeE7zuDVSZGs/QN5bAN9Kw\\\n",
       "N1D7hmBz+Ae94Vo2eM9XNeQtV7ZSdaDK2f3bNPgLVKWbFeR+2z6F3nfObLgbrGrXX00NdeN4efZI\\\n",
       "l65bu4aN1iyMgBcAAAAAANQZ33zzjVyGIXVoE2ZkIkPfaANf/zUFWk+oil7vOSINevfJbCWvu4rX\\\n",
       "vYJQjSTcGipwda939a7NO2z1Xn6x333+oWyovrz+j7vFs/1CrKFuvAvM/XSoJxkulzZt2qQTTjgh\\\n",
       "sSdDQtCDFwAAAAAA1BmrV69WbrfjpagqFRsF+IiHLEXXwzfcGkL16jXTo9d7TKC+vI38bjdUubIl\\\n",
       "VYa88colfVozeGfW3v1qA4W7/v1s/UPhQP1uQ/XWDdPL1kcs/XRN9M2Np1Sb1LVeCn14LYwKXgAA\\\n",
       "AAAAUGd89dVXKu9yTBxnTESlb6QVvmbaOLhDXu+E1EzrBu9qXu+WDVkKVslbLvm0aghURxwsxm6k\\\n",
       "wO0ZglbvBmrJEKodQ6iN0wIx+6WMtkq3GgJcjxCtLbranPrqq6+qby2IKwJeAAAAAABQZ2zfvl0H\\\n",
       "j2uS4LPEO/SNJPANF/YGa+EQrHVDoLYN3i0bAoW88lTyFqo04KtRLCncVyGrzKs1g3uphQpcdes9\\\n",
       "sbzG+p802HH+wn25anKgG6pHcRBH2ir03fbt8V8LqgUBLwAASfZrk0T/gmENrvR0SdKu5s1lLw20\\\n",
       "RXLdwnUBAEBibNuxQ2X9Osq7Z2z1iGfoazbwNRv2hgp6A/XnDRXySv79eKVSHVT4hhbuxxvqj967\\\n",
       "PoJV7rr5t2vwv98t2mrdaNstJEoUQW4weXZpxc/b4jchqhUBLwAASZKZmSlHSoreGD482UupEVJS\\\n",
       "UtRFUkF+vioqKpK9nBrBkZKizMzMZC8DAIBa5ecd26W8I36/5d8IwF+iA+BgkWekqaB34Gsm7PU/\\\n",
       "R6CqXv9wONAGa6FfP3erhkKvI4I94yy//0p+1bvu5RZ7fR6oJUOodgyBvpyhXuqaEOjGMcQNJc8u\\\n",
       "7fj55+o5GeKOgBcAgCTJycnR9ePHq6SkJNlLqRFcLpdWr16t/Px82aPa9KT2yczMVE5OTrKXAQBA\\\n",
       "rbJrx06pRTOTo5MVAMdS7RtrdW+wql7/il7vY72red33VX5e7rmnVPUVqMa3Knf1btBwN1BLhkK/\\\n",
       "2978TxSvUDeeYW41BbnBtLBLO3btSu4iEDUCXgAAkignJ4cA73dOp1OS1KxZMzkcjiSvBgAA1EaH\\\n",
       "Dh1S8b59Ul7TOM0YKgCOd/gbbehrJvAN1H/Xv6o3UOsG703YJN+Q94/7ypWt1BBtGnK9Pne/oqml\\\n",
       "8g09vSt33bf9l+z91BIR6sYj0E1ykBtMnl0qPPCbSktLlf576zRYBwEvAAAAAACoE3bu3Cmb3S6j\\\n",
       "aeNqOFt1VP9G0+IhVOAbrqo3GP+g13veVpKKVa4Dnipe9yq8yxwa/X6fz8ZqkvST13L2KXA7hmDB\\\n",
       "biyhbixhbk0MccM8n6aGlGKzaefOnWrTpk1Mp/rss8909913a9WqVXI6nercubNuvvlmjRgxIqZ5\\\n",
       "ERwBLwAAAAAAqBN27NihjGZNVZKSkuylKLHVv5FU+wYLfEOFvYH69Aabu1iVAW+2JOmgSoMe5fOK\\\n",
       "eLdm8G/L4B/smqnWTUSgm+wgN44tIuw2qVlGunbs2BFTwLt06VINHDhQ6enpuuSSS9SgQQO99tpr\\\n",
       "uvjii7Vt2zbdcsst8Vs0PAh4AQAAAABAnbBjxw7ZPRus1WSJqP41G/oGCnxDBbnuxgveG7H5H58l\\\n",
       "KUvl2uap4vWeMcvrSMcO/RHuuqt33ZW7kVbsBgt1Iw1GqzvIjfdGbSblOVK1Y8eOqI8vLy/XuHHj\\\n",
       "lJKSohUrVqhbt26SpLvuuku9evXS5MmTddFFF+moo46K04rhVhP+ZAUAAAAAACBJevXVV2Wz2cJ+\\\n",
       "tG7dOuK5d+zYIaNFC/0RKUbyUZM0DPNhVqMAH/4CvQ7e4+v//tHK674sr89bSWr9++cNVaojfIpz\\\n",
       "vZ9RVpn+CHeLVRneblNl0Osd7u7z+ij0+ij2+5Df44UKHZ4eDPIRD4HWEewjSVrIiCngXbJkiTZv\\\n",
       "3qyRI0d6wl2pct+RyZMnq6ysTM8//3wcVgp/VPACAAAAAIAao2nTpho9erSef/55nXLKKTr77LM9\\\n",
       "j73//vv66KOPdPnll2vgwIERz71//345c7OjXFmsIa/ZnbziIZYK4HCVvmZfB3dVr7fWv8+226fR\\\n",
       "g3u1jh36o3LXu2rXvxVDoEreQEsNJp4VuUkMZOOtoatc+/fvj/r4ZcuWSZLPv1k397/X5cuXRz0/\\\n",
       "giPgBQAAAAAANUa/fv20efNmPf/887riiit07bXXeh7bsGGDJOn//u//ouoTWl5eLsORrCgkloA4\\\n",
       "3uFwpAFwqNA30PNyh7vuGDfL675CleoIbdNuz+j6+r16112tu+/3/7qrdb1P5/9ShKvIjUYtCm0j\\\n",
       "kWpUqLy8POrjv/vuO0nSscceW+Wx5s2bKysryzMG8UXACwAAAAAAapT169dLkrp06eJz/7p165ST\\\n",
       "kxP1JlDl5eWqSFrAG4vqrh42EwCb3WBNqhr0bla5Furn3x89skxy/KjKUHe9qga73sv3D18jCXFr\\\n",
       "U3Bb3DzuU6aqKKaAt6ioSFJlS4ZAsrOzPWMQX1b8rgYAAAAAAGqxL774QjabTZ07d/bcd+DAAW3Z\\\n",
       "skWnn3561POWl5erIrUuRiHxDoiDBcDu+93pbCNVtmXwLr/dJkkq1xn6UCs1VpJjtaT//T5sm/4I\\\n",
       "db0D2WBBbjJD2wSErMnkkOR0OpO9DEShLn5XAwAAAAAANdgXX3yhtm3bqkGDBp771q1bJ8Mw1LVr\\\n",
       "16jnLS8vV0pKiuo5o69SrJvSIxyf53fbu+9xJ0n7JZ0t2+GTJEmH38uQPlJlLlzy+7BQbYLdiptF\\\n",
       "uK44y0ju6ePtrdJf5fjvf/XAAw9Edby7cjdYle6BAwfUsGEkmwDCLAJeAAAAAABQY/z000/at2+f\\\n",
       "+vfv73P/2rVrJSmmgFeSBm7ZqXHvfBrTHIiXXpKkD3o+J/VM8lKgQ1ddJUcMx7t773733Xfq0aOH\\\n",
       "z2M7d+5UcXGxevXqFcMZEAwBLwAAAAAAqDFC9d+VYgt4U1NT9V6rI7Vk8MCo56hzSu2Rjd/vd9td\\\n",
       "iVss6Zffb2+T9InUc3WZbnnuff1pbIbSDm30GnBQviW8wXoI+5+sukW7i1vNNLysVDlXXhn18X37\\\n",
       "9tX999+vd999V5dcconPY4sXL/aMQfwR8AIAAAAAgBrjiy++kFQ1yN24caMkqWPHjlHPnZqaqooK\\\n",
       "Q2WOWOoULeZQhAGtP//kKFjrBP9euIF66P4kabOklZK2Sc0OVz5Ufqi/6h9KlWSosp3DPlW2eXA3\\\n",
       "43X3EPY/SabZZxFi4bFIZqwW6cZ54bnkkiOGfxtnnnmm2rZtq5deeknjx49Xt27dJFW2bJg2bZrS\\\n",
       "0tJ0xRVXxGm18EbACwAAAAAAagx3Ba9/wFtYWBnuffbZZ+rcubMaNWoU8dypqalKsdomUrEGtJEy\\\n",
       "k4MG2tisOMDjB+W7Ydq2P/6bvV+eHrbFknLUTZWbsm1WZRLsnrCR14RZMh9smt0Yzl8iguBEiHXj\\\n",
       "vKrK05xKjWETwtTUVD3zzDMaOHCg+vTpo0suuUQNGjTQa6+9ph9//FEPP/yw2rRpE78Fw4OAFwAA\\\n",
       "AAAA1Bjr169XdnZ2lSBo1KhReuSRR3TBBRfo7bff1imnnBLx3KmpqbIlI+Ct7pA2lEjzy0Bhrluw\\\n",
       "UNd927uKd5sqc9tCKa24Mm51199ukZSqRmqmQlU+0vD3A9yBbsMACy9WZfgbbMHBAtBwAXEkm4BZ\\\n",
       "JQw2pzzFFlPAK0n9+/fXypUrdffdd+vll1+W0+lU586d9eCDD+riiy+O00rhj4AXAAAAAADUGJs2\\\n",
       "bQp4/5QpUzRlypSY5s7NzZVj/34djvTAmhTQhhNL5hgqzJWqZqP+LRi873OHu/u8Pv+9eje93Dea\\\n",
       "dRf6NlEL2dVIlUmw+4m4K3j9q3e9K3u9F+c9c6AnFG3wG0jtqgrel2pTbm5uzPP06tVLCxcujH1B\\\n",
       "MI2AFwAAAAAA1Al5eXmy/bLDWoGtv3hlheHCXClw5hko1PW+37tq1zvc/T2zTft9Tu+YdZ+kBpL2\\\n",
       "KFNNJNmVJamd/kiI3SeIpC1BuApff/EMfv1Zoyp4u61CeXl5STs/okfACwAAAAAA6oS8vDy5du5I\\\n",
       "9jJCS0S+ZybMlcIHum7Bgl3v297hbvEft9PLg8edlRFupuoHDGb9K3j9Wze4jwnUosG/8jfQmYNJ\\\n",
       "ZPAbSPKqgneUHybgtSgCXgAAAAAAUCfk5eXp0K5dkssl2ZNYxZvIIk2zYa4UPKMMNkeoYNd93z75\\\n",
       "hr1eIa+7924jVW3R4I5rKw9tpPpVTr5P4St49ylwiwb/4/yfuH/oa+ZFrO7g1198q4JdMrSr9CAB\\\n",
       "r0UR8AIAANQxRUVFKikpSfYyahSXyyVJ2rVrl+zJ/IW/BsrMzFROTk6ylwEAcZGXlyfD5ZL27JGa\\\n",
       "NUvciarjXfaRBLlu4bJHs9W6/vN5d1LwHlvs+1h6eejTe8ezLqX/3o83EHf7Be+2De6I2D2TVLWq\\\n",
       "1y1Yda9bpFW+web2V13hr7/wYfCvcqrCMNS8efNqWA/ijYAXAACgDikqKtLsGTPkrKhI9lJqlJSU\\\n",
       "FHXp0kUFBQWq4LXx4UhJ0fXjxxPyAqgV0tPTldWwoYp37og94K3OVqnRhLmSuTwxXKgbaIx/Owbv\\\n",
       "+4NsspbmtRZ3BOodOxb6/VfKVLrkF/IWKnBYGSzolYJX9fqvxvtJBBJNla+/ZFf9BrdDZWrUIFvp\\\n",
       "6enJXgqiQMALAABQh5SUlMhZUaELXntNTffsSfZyagxXerpWP/qo8gsKZC8tTfZyaoxfmzTRG8OH\\\n",
       "q6SkhIAXQK3RLC9PxTu2S127hR6YrL2uog1zJfM5oZkWDIHGBgp29/k95v3574+5w113ewZ/+yVP\\\n",
       "SwZ3HFss6Y+oMdBR7pYN3pup+Qe97rN6LzRU2KsAxwcTS5VvsHP6q77gd7ucyktkVTsSioAXAACg\\\n",
       "Dmq6Z4/ydtTwTWaqkTMjQ5LUbOdOOQ4dSvJqAACJ1DIvT5t37khegOsWS5DrLdoqXbdwoa7/Obw3\\\n",
       "UfN+3L9y1+/YcO0Z/E/fSFKpp4rX/cdX743W/Ct5Iw16pfhU9nqLR5VvqDV4i2/4u0NO5bU8Oq5z\\\n",
       "ovoQ8AIAAAAAgDqjVV6e0rbuUFl1njReYa4Ue5Wum5lg1/98/uGu/1q8b/tV7/rz30TNe1hDBWvV\\\n",
       "4B3cuhfUUL7VvNIf/Xklc0Gv+xjvef2F69sbSDyrfP3Ft+p3h5zKa9Uy+uUgqQh4AQAAAABAndGi\\\n",
       "RQvV3/lz4gLeeIa5UmR5XTShbrDjAgW7UtVwtzDIba/70sv/aM+QpcCxp7d9qlqf+8ema+6Q13uj\\\n",
       "Ne+QV6pazSsFD3q9n5RbsM3Z3KKp7vWfO9T8sYgu+P0lpVwtWrSI/3JQLQh4AQAAAABAndGxY0el\\\n",
       "Ln0yPpMlIp+LtADTzBqiDXa9x/i3ZPB+zPu2VwAcrHrXLN8q3hITIa97of7VvN6zeT/mFm1Vr1u0\\\n",
       "gW8iK3z9hW73sN5Rpus6dkzQuZFoBLwAAAAAAKDO6NGjh/Z/uU5yuSS73fyBicrdog1Bo63WDXZs\\\n",
       "sGBXChzu+t8OtBmbIuu96z+NO3atnK4y5K0ULOT15l+xG6htg99iTVX1+q8ykGjaOQQ6j5lzxa5c\\\n",
       "mVpfcVA9evRI+LmQGAS8AAAAAACgzujQoYPsNpuc338jHRekYjGRmVqiAl0pdKgbao5g7Rik0JW7\\\n",
       "/scE2bjO3Z4hVr6brpmp5JVCV/O6H5cCV/UG24mvusJe/3OZPWdkvlGJUlJTddxxx8V1XlQfAl4A\\\n",
       "AAAAAFBn2O12de/WTf/7YnVlwJvoAslY2hREsrZI2jBIgdcVrGrXe7x/W4Yg86YVV63eDdUkYF+A\\\n",
       "Me77Gv0+rfuxylYNoUJeyTeg9W/LYDboDVXR6z+X/3yBxBr2BjqnmfOGtlq/qVv3brJHUtGOGiUl\\\n",
       "2QsAAAAAAACoTj179FDe2tWJbbvg/ohUoddHOAe9PoLNE2xtocb6V+0Gq9z1vs/rmEh77waKToNN\\\n",
       "UapMSZUhry93eNpIfwSgDf0e94+YA1XHBouhG6rq1m/+Gsn3/KFk+X3EolGAD/NWp5WqR8+eMa4B\\\n",
       "yUTACwAAAAAA6pQePXrItnF1/CYsVs0Idb3n8xdsbWZaMviP8w989/ndrz+qd/3bM5iJHoN1gAj8\\\n",
       "0noHmoGCUv9g1j9QDRbyhgt6zYS9kYhX2Ot9fnOh72rHIfrvWhwtGgAAAAAAQJ3So0cP7f3qusg3\\\n",
       "WnOL5d31bpFWD0fbX1eKPNj1PyaCcNe7ejdcBGrGvgDzlP6+4dofrRq8ebdr8F6omZ664TZq8+ff\\\n",
       "7zfYvIHmDsU/5I3HBScFau3gkqF1h/cR8FocFbwAAAAAAKBO6dChg2yGIW3dZO6AWCt03SKp1JXM\\\n",
       "V+uG6rMbTdVuuHA3Ct6RZf0Q44qDfO5fxVu1VYN3eBmsQtdMy4ZQFb3V1b4h0vNHq5G+kUNypKpD\\\n",
       "hw5xnhvViYAXAAAAAADUKampqererVvwNg3xCnSlyENdKXyo6z1vIKGC3XCVu/7jvef0nyNI9a7/\\\n",
       "5mqxcp8mspDXm3/IG23Q6x4fjJmg13v+WMPe2APf1bb9bLBWCxDwAgAAAACAOufkk09W/bUfVt6I\\\n",
       "Z6ArRRfqStUf7MZSuRsqGNYfMWc0Eab/6SPj3Y83VK9d/yA2UFgaKuQ1E/QmOuz1Xkt0Ye/K+sXq\\\n",
       "3bt3lOdGTUHACwAAAAAA6pxzzz1Xjg/flg5UxGfCWEPdWIJdKXgwHeiYUP12/Y8JFPoG2IjNTPVu\\\n",
       "uAgzUGYc7GkFr+L1P1M8Qt5og173Ocx2I67esLdCht5y7NZ5550X5flQUxDwAgAAAACAOueMM86Q\\\n",
       "q6RY2rQm+kkSHep6nyOYSKp2pdjD3QDHpoWpeo60tjRUwXColyJ+IW+yg95w5zMjfCuH1dqnkopy\\\n",
       "nXHGGTGcBzUBAS8AAAAAAKhz0tLSNGjQIGV+NN/8QYWKPtSVzIe63ucKJlQ7iWDBbjzC3RCtGdzV\\\n",
       "u7G2ZzDLv4pXiiTkDdWX1z0+krYNoY7xFm3QG+urWTXsnZ9ZqEGDBsnhcMQ4N5KNgBcAAAAAANRJ\\\n",
       "Q4YMUeNPFoQfGG2g61adwa6Zql33PP7HRsJk9W4s/DdVC1XF6x3yRi9Q8BppNa/7GLNBb/LC3gWN\\\n",
       "D2rIkCExzoWagIAXAAAAAADUSYMGDdKOb76Udv5U9cFYKnWlyNoweJ8vlFBharBjIw13vQNk/zWZ\\\n",
       "qN6tboFekqpVvKE2XgvXsiHQcaGON3Ocv0iDXu9zRxf2/qhifbVjq84555yojkfNQsALAAAAAADq\\\n",
       "pIYNG+r0009X+v/eqryjukNd73OGEm3VbqCWDP6tF8w+1xAbq3nzb88Qaf9ds8sI1E0ieKuGcAKF\\\n",
       "vGared3HxzPoTXzY+1b6Lp1xxhlq2DDSc6EmIuAFAAAAAAB11vnnn682H8+vvhYMkvkgOZpgVzJX\\\n",
       "tRvsfN7zB5ovwDxmqnfd0WN9v9vhluLfpsFbuJcvdD9e/8DVbDgaKqgNN0ckcXe0wau5oHf+UYd0\\\n",
       "/vnnR3kO1DQEvAAAAAAAoM46//zz9cPHS6WS3yI7MFHVulLoYNc9TzBmWzIEa8sQbl0J4l5OiC4Q\\\n",
       "HqGeYqkyQ/Tj9Q8+w4W8oSp5E13N633+aMLe4FW9B1SmpT98Qf/dWoSAFwAAAAAA1FnHHnus2rVr\\\n",
       "p3prF5o7INJQ181shXC4EDVU1W64lgxmmOy7a6Y9Q01QtVVDpCGvFDxgjUfQG2nYGw3ftSyst0vH\\\n",
       "HHOM2rVrF+V8qGkIeAEAAAAAQJ02atQotfvoudCDogl2I+npa6Zq12yv3XBr8j9vMEFaM3iHu9W5\\\n",
       "uVq4Ng3ej0fWjzeWkDccM3F39Vb1PteuWJdddlkUx6OmIuAFAAAAAAB1Wn5+vr5btUTatdX3gWja\\\n",
       "MEiRh7rRBLtm5g03T6AxbiZCY+9wN5ItySIVLNeORPB+vMEEC3kjbdngnsts0BuJyIPe/9/e/cfH\\\n",
       "Wdf53n9nJilpKARKsS3Lz1IRCnQXccXdI4IoVioK2BuPsi4alF0OLXVdfxSVc1OP6xFdV1dUvBVt\\\n",
       "AFl/nBWpxT2CKCCw7CoWKAiCslhFWypQTME0kCa5/6ip0E7SmWSSydU+n49HH9rMNdf1zWRamle/\\\n",
       "/Vy/SFdu/Pmd6ejoqPFaTGQCLwAAALBT22effTJ//vzsdeOXRh51k9pibDWjE7Y3a3ekN1OrdNxw\\\n",
       "1xpi924llTLmSEc2VPupVLOLd1uVRjVUe+O1kYxsGDxfNTdiG7vQ+6W9fpHXvOY1mTlzZo3XYCIT\\\n",
       "eAEAAICd3tlnn53S95YlfSOYOVBr2K1mzm4ts3affe5qzrW9uDvEaIahjHR4wUjUei+44Uc1VLuT\\\n",
       "t9aRDdsLtI0JvZvSn87SfTn77LNrPC8TncALAAAA7PRe/epXp7W5nF3uvKb6J41n2K3m/JXOt73j\\\n",
       "hou7W2nU7N2hPHup1b5s1d10rR43PqvXgIpab8aWDDWnd8Uuv0zz5F0yb968Oq2NiULgBQAAAHZ6\\\n",
       "5XI5CxcuzKybP7X9g+sddgfPOZyR7Nyt5rjh1Hr8s4wmb1b6NKt5uasd1VDdTt5K4xoaMbJhuDVV\\\n",
       "44+h91N7/SwLFy5MuVwewXmYyAReAAAAgGwe0/DLu29P0+q7tn1wfWrfYTuSIbJb217YHU3crcPu\\\n",
       "3Wenze2lyl2383i1nv2pVHuzteHn8SbVh9ZaI29Sn5ENzz5X7aH3rqan8+Pfrc7b3/72mp/LxCfw\\\n",
       "AgAAACSZOnVq/vqv/zpH/cfFf/zgSMYm1LJrt54jGQbPWc2x24u7NdxYbSyN5tLDPXfbXbyVDBVT\\\n",
       "h4u8I93NO3jesQm9n5pxT84888xMnTrSW94xkQm8AAAAAH+wePHi3Pedrya/e2Tswm5S/5EM1Zxz\\\n",
       "qOOGibtbq3X2bj1z4nD3nRvqmNpHNYx2J+/2VBNlax3bMPw51+bJfO2J27N48eIazkuRCLwAAAAA\\\n",
       "fzBnzpycdNJJeeF1H6r+SbWG3ZGOZBi81lDnrWZdNUbr4XbvDjWeoV63FxvOSHf2bj/yVlLPnbzD\\\n",
       "nW/rc9cn9H5o+o8zf/78HHbYYTWcjyIReAEAAACe5cMf/nDu+7dlyW8f3P7B9Qq7yfbDbr137la6\\\n",
       "ZgPHMYxGtbt4q1NLWB3u2OEib1L9bt6Rh94H83g6u/4jH/7wh2s4B0Uj8AIAAAA8y2GHHZa/+qu/\\\n",
       "yvTv/c+hD6r3nN1q7xZW6fyV1CHUbr17t9bxDLWq5mV69jH13MVbeVzD1oYKssNF2Goi79iF3gum\\\n",
       "/yhvfvObc+ihh9bwXIpG4AUAAADYytKlS7Ph9m8lv7rjuQ/Uc85uUt1Ihlp37lZ7U7VRzN4dajxD\\\n",
       "vTx7aSMJuaPfxZsMHXlrHUKxvZENtZy3+ld7ZR7Oig135cILL6z6ORSTwAsAAACwlX333TcLFy7M\\\n",
       "86593+YP1BJ2k/rs2h3ueqOJu1U8b7jZu8N5dqIci/A7nK1fzuE+7Z60VTmPt9ZxDaMZ2VCv62z2\\\n",
       "vhfclkWLFmXfffet03WZqAReAAAAgAre97735en/+mFKd91Q/ZPqNZJhLOPuKOfu1itT1kMtSx/5\\\n",
       "1Ipad/KOdi5vtTuEhw693y/9PLeveyDnn39+leeiyAReAAAAgAqmTp2aJUuWZM8bzk8GBrb/hLEe\\\n",
       "yTDcNep4c7SxmL276+hPsUW195SrZOuXqbp5vEnt+5G3F3nrHXr/aCADOX+/m7NkyZJMnTre+6hp\\\n",
       "BIEXAAAAYAjveMc7MunJX6f8k6uGPmi8du3WunN3HHbvTrR8WMuYhvoYLsJu79WpZi907bt5v1G+\\\n",
       "J2t6n8jixYurfC5FJ/ACAAAADKGtrS1Lly7NtBvemzz9++c+WG3YTUYXd+v1vO2tIWOze7cehvs0\\\n",
       "a33ptreLNxluHm89xzUk9Y28yVNpy5Jp38/SpUvT1rbt58WOSeAFAAAAGMbb3/72HHLgvtn1+mfN\\\n",
       "M60l7I7nzt3B51RaRy3XHYGRDRQYWhU9uqrnVfOlqhR566dekXf7r/D5u16d/V5wUN72trdVszB2\\\n",
       "EAIvAAAAwDBKpVKWLVuWgds7kwdvqt+u3aT+O3dHMZNge7t3axnPMNajG0Y7eqGal732ebzb28k7\\\n",
       "2rm8g9eo7Mb8NJcN3Jply5alVJL8dia+2gAAAADbMXv27Hzkf//vTFtxVvJMFXmwHnG3Hjt3h1pL\\\n",
       "nXfvNtrWn87Y7+Idq4Q9st28T6UnZ025PB+56CM5+OCDx2RlTFwCLwAAAEAVFi1alDmz98ukm88f\\\n",
       "+qBqRzLUeyzDcOup4hy1zt7dOm9WPyV24qj0UlY/jzcZfifvULa3kzepLvI+9zpLJn0jBxz9gixc\\\n",
       "uLDK57IjEXgBAAAAqjA4qqH5J5clq2/c9oCRDo2th2rn7lawddytpNrkOJZG27YrvUTVnnPoyDuU\\\n",
       "7SXvaiJvdbt5b8gvckXzfxrNsBPzVQcAAACo0sEHH5yLLvpIWr+71aiGakcyjGbnbj3m7lZRNLe3\\\n",
       "e3cs1fKpbH1svaZODDWqYeh5vCPZyTv43O0ZPvI+lY15W+vn85GPfiSzZs2q4nzsiAReAAAAgBos\\\n",
       "XLgwL55zQEo3LaluJEMy8nm721PL3N0Kqtm9O1q7jv0lqlbtLt7a5vEOZ7gbryWjjbzvLV2ZA485\\\n",
       "NOeee26tC2MHIvACAAAA1KBUKqWzc1laf3pFsvqa7T9htHG3HjdVq2YdQ9g6L25v/m49bz822qkX\\\n",
       "9Z6aUfs83mqMLPJekx/ny6235kvLvmQ0w07OVx8AAACgRrNmzcplncvSfOObk/X3VT5oeyMZkpHH\\\n",
       "3aHUEHcr7d5t5HiGkRjJmIbR7uIdWeSt77iGe/Nw3tz6mSy7rNNoBgReAAAAgJE4/fTT8773vCPl\\\n",
       "616X9GyVDUdaGqs9x0hHOtRoItxc7dnGcqJELeceu8i7/ZuvPZ5SXlf+WP7uvX+f008/fTvHszMQ\\\n",
       "eAEAAABGaOnSpTnp2CPTdP0bkv4/bH9tVNwdh9279Ry/MFa2/tQqvSzV9vGetI1gHu9oIu/werMp\\\n",
       "b2j6UP50/jG58MILR3UudhwCLwAAAMAIlUqlfPUrX87sKb9NbnvXxNu5O8Y3URtdrpx46rOLNxmr\\\n",
       "nbzvyv+XR2c/kyu+8mVzd9nCOwEAAABgFKZMmZLr/u+3MuWX/5L8/IvDHzxWcbeGu4lV2r1byUQb\\\n",
       "zzCUapr3aHbxJiOZx5uMfifvc59/af4tX53yg6z47rczZcqOltYZDYEXAAAAYJQOOuigXPOtb6T5\\\n",
       "jnckv7218kHjHXdr2I5ar5urjccIh2o+rdFsXK71ucNH3uFUH3lvyd35u+bP5Rvf/mYOPPDAEV6P\\\n",
       "HZXACwAAAFAHxx9/fD79qX9K+ZbXJ0+tfu6Do4m7w6kx7lY7e7fS7t1Gzd+tYXNyzeepxy7e4W3v\\\n",
       "Vdt+5F2dnizIB/OJT/xTjjvuuBGsgR2dwAsAAABQJ+ecc07OfdsbU7rhxKR7zeYP1jo3d2ujff4Y\\\n",
       "qWb/6a5jvorN6v0SDdXb6z+qIRnulVyT3+aVpXPypjP/Kn973v/YznnYWQm8AAAAAHX0z//8z3nL\\\n",
       "649N0/dekaz97fAHP5VxG81Q7e7dHUWll6GWXbz1HdVQe+Rdl8fziqZzctz8l+eTnRfXuBp2JgIv\\\n",
       "AAAAQB2VSqVceumleeP8o5IfvjJ55vGRnahON1Wr1UQazzCU0czYHa3hRjXUK/I+lifyypyTF770\\\n",
       "6Hxh+bKUShIeQ2tu9AIAGD9dXV3p7u4e8vG+vr4kybp161Iul4c8rq2tLe3t7XVfHwAA7CjK5XIu\\\n",
       "v/zy9Pz3/56rv39icsz1yaS9nnvQWFTKGnbv1lu9IvD6Op5rtNd8KpUHKPSkLa0Z+nuroU3N8OV+\\\n",
       "Sh7Pr/OqnJtD5r4gl9/w1WG/N4NE4AXYaXR1deXTF382ff29Qx5TKpUyd+7cdHZ2pr+/f8jjyqWW\\\n",
       "nLd4ocgLAFUa7i9Zq/kLVn+5CsXU0tKSr33ta3nTm96Ub17/8uSY7yW7PG/zgyMdy5DUZTRDsuON\\\n",
       "Z6gUaSsF2idSeZdyvfSlNeX0DHPE0JF3XR7LiTknhyw4Il/5ylfS3CzdsX3eJQA7ie7u7vT19+bB\\\n",
       "q07Lxsf2rnhMS2tf5n5yZe7r7EhvT+VvMCdPezSzF1yd7u5u32gCQBW6urrymc9enE29lf/ytJq/\\\n",
       "YG1uKWXRwsX+2wsFNGnSpHz961/PmWeema9dc1wGjvl+smmfkZ9wDEczJNWPZ6jmBmtFU89dvNuP\\\n",
       "vNv6TR7JK5vemhe+6Zhcfvnl4i5V806BOnv88cfzgQ98IEcccUQWLVrU6OXANjY+tne6186s+FjL\\\n",
       "5M27e7sfmZ7ejS3juSwA2GF1d3dnU29/Zp52VSbt/di2B/S1Jis/mf06OpPytjHgmUenZe3VC/zl\\\n",
       "KhRYc3NzvvzlL6f17LNz+ddflv4jv5e0Hlj54JHO3S3I7t2Rjl6o967bep1v5JF38JXY/AVfnV/n\\\n",
       "laW35Li3vjJf+MIXjGWgJiY0s9NbvXp1mpqacvzxxw95TG9vby6//PK85jWvyT777JNddtkl7e3t\\\n",
       "mT17dl796lfnox/9aB5++OEkyV577ZVrr702F1xwQXp7h/6n8AAA7Fwm7f1YWmeu3fbH9EeSJK3T\\\n",
       "H6n4eMUoDBROuVzOF7/4xSx82/yUV7046bp124O2N5phjI3l2IKxUKldV3oJaxk/PNSXYCxHGN+S\\\n",
       "2/Pi8v+T1yw6NZdeeqm4S80EXtiOn//853nhC1+Yt771rbnpppsya9asnHbaaXnFK16R5ubmXHfd\\\n",
       "dTn//PPzwAMPbHnOKaeckq6urtxwww0NXDkAAAATSalUysUXX5zPfPJ/pfneecnaL/7xwZHO3U3G\\\n",
       "dPfueN/sbCIbKvL2pG3I5/SlddhzXppv59XNb8uHPvvhfOpTn0qpJNVROyMaYBhPPPFEXv7yl+c3\\\n",
       "v/lN3vnOd+aCCy7I1KnP/c/bQw89lM9//vP58z//8y0fO/XUU3PxxRdn+fLlmTdv3ngvG6BQBm88\\\n",
       "tPVNhtxQCADYUZ1zzjk57LDDcvLrFuSp39+dHPyJDJtoRhB3x1KlebSVQvCuY72QURpqTMNQs3hH\\\n",
       "qtKoht705u9zQb42ZXm+82/X5mUve1kdr8jORuCFYXz84x/Pb37zm8yfPz+f+MQnKh4za9asfPSj\\\n",
       "H33Ox172spdl6tSpWbFiRS655JI0NTWNx3IBCqerqyuf/czF6d3Uv81NhlqaS1m4yA2FAIAd03HH\\\n",
       "HZe777o98046JQ/e+eoM7Pt/kuYKWXGEcbfW3btFG89Qq6FulFav8wzu4q1mHu/jWZ83NJ2Vx57/\\\n",
       "u9x+3e058MAD67Aydmb2fcMwrr/++iTJscceW9PzyuVyTj755KxZsyY/+tGPxmJpADuE7u7u9G7q\\\n",
       "z2lTrkpHe2eSpKO9M6dNuSq9m/rT3V35D8gAADuCgw46KHf8+LacfPzu2XXti5Oe++py3qHibq2K\\\n",
       "Op6hllHGQ/XzsRqHfG/uzzHlV6X95Gn595W3ibvUhR28MIyNGzcmSW6++ea85z3vqWnQ+amnnpor\\\n",
       "rrgiy5cvzzHHHDPkcU8//XSefvrpLT/fsGFDks03dnOTNuqpr68vpVIpLa19aZlc+b01+PGhHk+S\\\n",
       "ltbN5+nr6/MeZdQG35dTW57K1JauJNnyv95nY2PwNe9rbU3v5MmNXs6EMfhaeE2eq6+11a/FOhj8\\\n",
       "dZe+1qS3wnts8GOVHkuSPl8Hxo73VONNmTIly5d/I0uXLs0/fvwv0vO8K5PdX7v5wTqPZtgRd+/W\\\n",
       "a2duva7Zk7Yhd/Euzw15S/Pb8nfv/7tceOGF5u1SN00DAwMDjV4ENNLq1atz0EEH5bjjjstNN930\\\n",
       "nMcWLlyYSy65JMnmv1k9/fTT88pXvjJ/8Rd/kSlThv9PSHd3d6ZNm5YDDjggP/3pT4c8bunSpfng\\\n",
       "Bz+4zce/8pWvpK1t6EHtAAAAo9Xd3Z0zzjgjXV1d2X333Ru9nJ3ev/7rv+atbz0rPbv+dfr3/liy\\\n",
       "YZjvO8dhPEOlHbxDrajaGbzPPq48uTcv/+r/ze1vmp++jS3bPV9Sea3VzgQe6tihzjuS8yTbjml4\\\n",
       "Mk/m/NIF+ZfWr2XZZcty+umnD/NsqJ3Ay05vuMDb1dWVt7zlLfnWt771nI+3tLTkhBNOyMKFC/Pa\\\n",
       "1752yHOfcsopWbFiRR544IEccsghFY+ptIN3v/32y2OPPeYPWNTVunXr0tnZmfs6O9L9yPSKx7RM\\\n",
       "7s1fL7s+Xz7rxPRu9QesQW0z1mVOR2c6OjoyfXrl80C1Bt+XHe2dmdrSlev3WZYT15yV9b3t6ezq\\\n",
       "8D4bA1te887OTH/kkUYvZ8LonTw51y9blhPPOistf/gXPCTrZsxIZ4dfi6M1+Otuv47OtE6v8Ouu\\\n",
       "d3ImX78sG088K2nZ9v3Xs25GHu70dWBsbNiwIdOmTRN4J5CHHnooZ511Vlbd88v8rrQsaX35tgeN\\\n",
       "IO4mtQXeWsPmzhZ4hztX8sfIe0Nuyt/ssTAH/umB+dKyL2XWrFnDPAtGxogGGEZ7e3uWL1+en//8\\\n",
       "5/nmN7+Z733ve7ntttvS3d2d6667Ltddd13e/e535x//8R8rPv/UU0/NihUrcvXVV2fJkiUVj9ll\\\n",
       "l12yyy67bPPxlpaWtLRUDmwwEuVyOf39/entKQ8Zbwf1bmwZ8pjens3nKZfL3qOM2uD7cn3vH/94\\\n",
       "vL63Pet7p3ifjZHB17zc0yNkVtCycaPX5VnKPT1+LdbB4K+7lHsqBtwtWjZWfrzs68DY8Z6aeGbN\\\n",
       "mpUbbrghl1xySZYseW029b0lz0z+aFL6w5+XRjhfdyzHM0zEWb3rU591DXee4UY1PJb+fHCfd+eK\\\n",
       "312Ziz50Uc4991wjGRgz3llQhec///lZsmRJrr/++jzxxBP59re/nTlz5iRJ/umf/in/9V//VfF5\\\n",
       "+++/f5Lk4YcfHre1AhRJW1tbWppLufqpBens6kiSdHZ15OqnFqSluWRUDQCwUyqVSlm0aFHuvntV\\\n",
       "XnLkTzKtd27Sc9N2n1evm6tNBGN1k7OhXqLhxh3X6ge5MS/Z68jc9/z7s+ruVVm0aJG4y5iygxdq\\\n",
       "NGnSpLzmNa/JtGnT8pKXvCQDAwO55557cvDBB29z7DXXXJMkOfnkk8d7mQCF0N7enoWLFqe7uzt9\\\n",
       "fX1ZuXJlOjo6Ui6X09bWlvb29kYvEQCgYQ4++ODceOON+exnP5vzzz85Tf1vze8HLkqaarut2FC7\\\n",
       "d2tVy1UrjWcYK2N9o7Vqd/E+lafy/+66JP8ycHkuWmrXLuPHuwxGaL/99tvy/4e64dq3vvWt7L77\\\n",
       "7jnhhBPGa1kAhdPe3p6ZM2dumSs5ffr0zJw5U9wFAMjm3bznnXde7r57VV54+N2ZPnluyv3fSLa6\\\n",
       "pdJIdu+OZO7sjmyku3gHMpBvlv81L9ljbu4/+id27TLuvNOggmruPbh8+fIkyW677Za//Mu/3Obx\\\n",
       "u+66K6tXr85JJ52USZMm1XuJAAAA7EQOPvjg3HTTTfnQ/3pfnrfr4hw49ZiU+m9IMrIbq+0Mhhrz\\\n",
       "MJJJFkOd65bS9/OyvV6cJc97R97/sfflxhtvrPgvfGEsCbxQwQc+8IGcc845uffee7d5bOPGjfnM\\\n",
       "Zz6Td73rXUmSiy66qOKMyMEAfOqpp47lUgEAKIhnHp2WnrUzt/2xbkaSpGfdjIqPP/PotAavHJgo\\\n",
       "SqVSzj777Dz44IP52795fXZren1eMHNeBnJHzeeqx83VGqGes3JH4+7ckTc971V5+24L8oZ3L8iD\\\n",
       "Dz6Ys88+265dGsIMXqjg1ltvzS233JLPf/7zOeigg3LkkUdm1113zZo1a3LPPfdk/fr1aW1tzac+\\\n",
       "9amce+65Fc+xfPnyTJo0KfPnzx/n1cPwJk97dMjHWlr7kiRtM9alt6dc8/MBgG21tbWluaWUtVcv\\\n",
       "qPh4qVTKnnOThzs70t/fX/GY5hY3ngT+qK2tLeeff37+5m/+JhdddFE+85mX5vmzX5f7f/oPSWZv\\\n",
       "OW4ku3eHGs8w1IzbHW2cwxMZOn6vT9KVB/Ox6Rfk2g0rct5bz8s3lnwtU6fuaK8CRSPwQgVf+MIX\\\n",
       "8t3vfjff//738+CDD+bWW2/Nhg0bsvvuu+eQQw7JK1/5ypx99tnZf//9Kz5/9erVWbVqVebNm5fd\\\n",
       "d999nFcPlbW1taVcasnsBVcPeczmv22emzkdnUN+g5kk5VKLbzIBoErt7e1ZtHDzDSUr2fomk5W4\\\n",
       "8SRQydSpU/Oxj30sixcvzgc/+MH87OdH5vA5Hbl71f9MU9PMRi9vXA11o7WhbpBW643ZHs3aXDr9\\\n",
       "Q/lGV2fe/No352cX/iz77rvvSJYKdSfwQgWHHnpoDj300CxevHhEzzeegYmovb095y1eOOQ3l0l1\\\n",
       "32AmvskEgFq1t7cP+d/O3t7eJJtvMtnS0jKeywJ2EPvuu28uvfTSvOtd78oHPvCB3HvfrEyb+sb8\\\n",
       "bu07Uhr4s22OL+p4hvHy7F289zXdmW8cdXGW3/e1zP9v83Pnh+/MoYce2sjlwTYEXhgDy5cvT1NT\\\n",
       "U0455ZRGLwWeY7hvLhPfYAIAQJEdeuihueqqq3Lffffl05/+dK644r9lv/1flHLfO/LLn78uTdvJ\\\n",
       "QAYNbLYpm3LdLivyfw7656z61cqc+eIzc8eVd+Swww5r9NKgIpOfoc4ef/zx3HrrrXnxi1+cmTN3\\\n",
       "rn8SAwAAQOPNmTMnn/vc5/Lwww/nrR2vyYan35nWvQ/IC476n5mS1TWfr5ZRBkXy1FY/X5Nf5F+O\\\n",
       "uiBv3PuAfHL6O3PaWa/Nr3/963zuc58Td5nQBF6os7322iubNm3Kf/7nfzZ6KQAAAOzEpk6dmve+\\\n",
       "97156KGHctlll2af/e/Joy2HZPc58zJt1tfTnyfH5Lq7jslZR279MI/9Phtywy5fz/vnzMsZLS/I\\\n",
       "mgPuzRcvuzQPPfRQ3vOe92TPPQ20YOIzogEAAABgB1YulzN//vzMnz8/a9asyWWXXZYrr/xg1k06\\\n",
       "M88/6Pis/+XrUup5bZLKNxIfSq0jHeo1AuLZM3Kfrdobp/02v8qPJl+TH++2Ij9ef2Nmz5qdN//V\\\n",
       "m/PVjsv8S1wKSeBlp7fHHnvkwgsvzIEHHtjopQAAAMCY2mefffL+978/73//+/Pggw/mmmuuyYoV\\\n",
       "38itt/5dNu12eCY//bpM6n5t2nJ0msbpH34/lWRyhY+vT32icH/6c39W5u7nr8h/9FyTn629N8e+\\\n",
       "5Nic/trX5orXfjazZ8+uw1WgcQRednp77LFHli5d2uhlAAAAwLiaPXt23vnOd+ad73xnnnjiiXzn\\\n",
       "O9/JNddck+9858SUS23Zf+rJ6X7opWkaODptOTRNKTd6yVXpT19+k/vz6/aVWT3t1vzn+m/n6f7u\\\n",
       "nHT0SbngdUvy6le/2ugFdigCLwAAAMBObs8998wZZ5yRM844I729vbnlllvy7W9/Oz/84edz5513\\\n",
       "ZaA/2WevP8uuA0en77Gj09p7dPbIoSk1OC31ZVPW5qf5ZVbm15PuyKPTVuZnj9+VplLyZ4f/WY45\\\n",
       "5pi84+Qrc+yxx6alpaWha4WxIvACAAAAsEVLS0tOOOGEnHDCCUmSvr6+3H///Vm5cuUfflyaO+88\\\n",
       "N/f2DmTmHn+WKZvmJr//kzQ/MzO7ZGb2zD6ZnJnZJXunNMpdv/3py+/zaDZkbTZkTTZkbZ7M2gzs\\\n",
       "+Zv8pnlVHvrdqpTKTTnqhUfl6BcdnaOP/tscffTROfTQQ1MuF2PHMYyWwAsAAADAkMrlcg4//PAc\\\n",
       "fvjhOfPMM5Nsjr4PPPBAVq5cmXvvvTdr1vw8a9fenLVr1+b+X61N15PrU2oqZ7fW52XX5plpHdgn\\\n",
       "bZv2TFN/c5r6W5L+5pR6S3nwC6vz675rU27uz0CpNwOlTXmm+Yn8vmlNNmxamw09v03fQF/22G1q\\\n",
       "ZkyfmX32nZk/2W9m9tlnn/z14efm6KOPzgte8AIxl52awAsAAABATcrlcubMmZM5c+ZUfLynpyeP\\\n",
       "PPJI1q5du+XH7373u2zatGnLj97e3iQvyJFzW9Lc3Lzlxx577JGZM2du+TFjxoy0traO7ycIBSLw\\\n",
       "AgAAAFBXra2tOfDAA3PggQc2eimwwys1egEAAAAAAIyMwAsAAAAAUFACLwAAAABAQQm8AAAAAIyJ\\\n",
       "T37ykzn88MMzZcqU7LHHHjnhhBPywx/+sNHLgh2KwAsAAADAmDjggAPyiU98IqtWrcptt92W2bNn\\\n",
       "Z968eXn88ccbvTTYYQi8AAAAAIyJ17/+9Zk3b14OPvjgzJkzJx//+MfT1dWVn/zkJ0mSgw8+OE1N\\\n",
       "TRV/fPe7323w6qEYBF4AAAAAxtwzzzyTL3zhC9lzzz1z5JFHJkm+9rWvJUluv/32rF27dsv4httv\\\n",
       "vz2veMUrGrZWKJLmRi8AAAAAgB3XLbfckpNOOikbN27MjBkzcv3112fq1KlJkt/+9reZMmVKjj76\\\n",
       "6DQ1NeVHP/rRc34ObJ8dvAAAAACMmRe96EW56667ctttt+Wkk07KG97whjz22GNJknvuuSeHH374\\\n",
       "lph7991354gjjhB3oQYCLwAAAABjZvLkyZk9e3aOOeaYfPGLX0ypVEpnZ2eS5Cc/+cmWcQ1JsmrV\\\n",
       "quf8HNg+gRcAAACAcTMwMJCnn346yeYdvEccccSWx+655x6BF2pkBi8AAAAAY2LJkiV53etel333\\\n",
       "3Tfr16/PJZdckl//+tdZsGBBNm3alPvvv39L0B0YGMhDDz2U/fffv8GrhmKxgxcAAACAMbFmzZq8\\\n",
       "8Y1vzCGHHJL58+dn3bp1ueWWW3LYYYflZz/7WZ555pktO3ibmppyxBFH5JxzzsmDDz7Y4JVDcdjB\\\n",
       "CwAAAMCY+PKXvzzkY3PmzMnAwMBzPnbHHXeM9ZJgh2MHLwAAAABAQQm8AAAAAAAFZUQDAAAAAHXX\\\n",
       "1NRUl/NsPcYBeC6BFwAAAIC6E2ZhfBjRAAAAAMC4+MhHPpIXvehF2W233TJ9+vS84Q1vyOrVqxu9\\\n",
       "LCg0gRcAAACAcfGDH/wg5513Xn74wx/m2muvzfr163PSSSdl06ZNjV4aFJYRDQAAAACMi2uvvfY5\\\n",
       "P7/00ksza9as3HfffZk7d26DVgXFZgcvAAAAAA3R1dWVJJk6dWqDVwLFJfACAAAAMO76+vry7ne/\\\n",
       "O/Pnz8++++7b6OVAYRnRAAAAAMC4GhgYyDnnnJNf/epX+fd///dGLwcKTeAFAAAAYNwMDAzk3HPP\\\n",
       "zfe+973cfPPN2XvvvRu9JCg0gRcAAACAcTEwMJCFCxfm3/7t3/KDH/wg++23X6OXBIUn8AIAAAAw\\\n",
       "LhYuXJivfvWrueaaazJ58uQ88sgjSTbfZG3SpEkNXh0Uk8ALAAAAwLj43Oc+lyQ59thjn/PxG2+8\\\n",
       "Mccff3wDVgTFJ/ACAAAAMC4GBgYavQTY4ZQavQAAAAAAAEZG4AUAAAAAKCiBFwAAAACgoAReAAAA\\\n",
       "AICCEngBAAAAAApK4AUAAAAAKCiBFwAAAACgoAReAAAAAICCEngBAAAAAApK4AUAAAAAKCiBFwAA\\\n",
       "AACgoAReAAAAAICCEngBAAAAAApK4AUAAAAAKCiBFwAAAACgoAReAAAAAICCEngBAAAAAApK4AUA\\\n",
       "AAAAKKjmRi8AAIDx9+i0aY1ewoTS19qaJFk3Y0bKPT0NXs3E4X0CADDxCbwAADuRtra2tJRKuXrB\\\n",
       "gkYvZUIplUqZm6SzoyP9/f2NXs6E0lIqpa2trdHLAABgCAIvAMBOpL29PQsXL053d3ejlzKh9PX1\\\n",
       "ZeXKleno6Ei5XG70ciaUtra2tLe3N3oZAAAMQeAFANjJtLe3C3Zb6e3tTZJMnz49LS0tDV4NAABU\\\n",
       "z03WAAAAAAAKSuAFAAAAACgogRcAAAAAoKAEXgAAAACAghJ4AQAAAAAKSuAFAAAAACgogRcAAAAA\\\n",
       "oKAEXgAAAACAghJ4AQAAAAAKSuAFAAAAACgogRcAAAAAoKAEXgAAAACAghJ4AQAAAAAKSuAFAAAA\\\n",
       "ACgogRcAAAAAoKAEXgAAAACAghJ4AQAAAAAKSuAFAAAAACgogRcAAAAAoKAEXgAAAACAghJ4AQAA\\\n",
       "AAAKSuAFAAAAACgogRcAAAAAoKAEXgAAAACAghJ4AQAAAAAKSuAFAAAAACgogRcAAAAAoKAEXgAA\\\n",
       "AACAghJ4AQAAAAAKSuAFAAAAACgogRcAAAAAoKAEXgAAAACAghJ4AQAAAAAKSuAFAAAAACgogRcA\\\n",
       "AAAAoKAEXgAAAACAghJ4AQAAAAAKSuAFAAAAACgogRcAAAAAoKAEXgAAAACAghJ4AQAAAAAKSuAF\\\n",
       "AAAAACgogRcAAAAAoKAEXgAAAACAghJ4AQAAAAAKSuAFAAAAACgogRcAAAAAoKAEXgAAAACAghJ4\\\n",
       "AQAAAAAKSuAFAAAAACgogRcAAAAAoKAEXgAAAACAghJ4AQAAAAAKSuAFAAAAACgogRcAAAAAoKAE\\\n",
       "XgAAAACAghJ4AQAAAAAKqrnRCwAAAJhIurq60t3dPW7X6+vrS5KsW7cu5XJ53K7b1taW9vb2cbse\\\n",
       "ADA2BF4AAIA/6Orqymcvvji9/f3jds1SqZS5c+ems7Mz/eN43ZZSKQsXLxZ5AaDgBF4AAIA/6O7u\\\n",
       "Tm9/f0676qrs/dhj43LNvtbWrPzkJ9PR2ZlyT8+4XPPRadNy9YIF6e7uFngBoOAEXgAAgK3s/dhj\\\n",
       "mbl27bhcq3fy5CTJ9EceScvGjeNyTQBgx+EmawAAAAAABSXwAgAAAAAUlMALAAAAAFBQAi8AAAAA\\\n",
       "QEEJvAAAAAAABSXwAgAAAAAUlMALAAAAAFBQAi8AAAAAQEEJvAAAAAAABSXwAgAAAAAUlMALAAAA\\\n",
       "AFBQAi8AAAAAQEEJvAAAAAAABSXwAgAAAAAUlMALAAAAAFBQzY1eAACw4+vq6kp3d/ewx/T19SVJ\\\n",
       "1q1bl3K5POyxbW1taW9vr9v6AAAAikrgBQDGVFdXVz77mYvTu6l/2ONKpVLmzp2bzs7O9PcPf2xL\\\n",
       "cykLFy0WeQEAgJ2ewAsAjKnu7u70burPaXtclb2bHxvyuL6m1qzMJ9OxV2fKAz1DHvfopmm5+ncL\\\n",
       "0t3dLfBSk+F2klezg9zOcQAAJiKBFwAYF3s3P5aZk9YO+Xhv0+QkyfRJj6RlYON4LYudRFdXVz5z\\\n",
       "8Wezqb+34uPV7CBvLrVk0eKFIi8AABOKwAt19vjjj+cDH/hAjjjiiCxatKjRywEAsnkn+ab+3rRd\\\n",
       "dVpKj+29zeNNrX3JJ1dm186ODPRsu4O3f9qj6V5wtZ3jAABMOKVGLwAqWb16dZqamnL88cc/5+Mv\\\n",
       "etGL0tTUVNOPvffe9pu4sbTXXnvl2muvzQUXXJDe3sq7hACAxig9tnea187c9scj05MkzY9Mr/h4\\\n",
       "pSgMAAATgR28FMbAwECOOuqoHHHEEc/5+C9+8YvcfPPNmTJlShYsWLDN8w499NDxWuIWp5xySi6+\\\n",
       "+OLccMMNmTdv3rhfHwAAAICdg8BLYTQ1NeXSSy/d5uP/8A//kJtvvjnHHHNMLrvssvFfWAWnnnpq\\\n",
       "Lr744ixfvlzgpRAGbzy09U2G3FAIAAAAJjaBl8K78847kyQvfOELG7ySP3rZy16WqVOnZsWKFbnk\\\n",
       "kkvS1NTU6CXBkLq6uvLZT1+c3r7+bW4y1FIuZeF5i0VeAAAAmKDM4KXw7rjjjiTJUUcd1eCV/FG5\\\n",
       "XM7JJ5+cNWvW5Ec/+lGjlwPD6u7uTm9ff06756p03N6ZJOm4vTOn3XNVevv6093d3eAVAgAAAEOx\\\n",
       "g5dCe+KJJ7J69eokE2sHb7J5TMMVV1yR5cuX55hjjhnyuKeffjpPP/30lp9v2LAhSdLb2+smbYyL\\\n",
       "vr6+lEqlTH3mqUx9pitJtvxvqVRKX1+f9yKjMvge62tqTW/T5CGPG3xsuGOSpK+p1XuTmg2+D5ta\\\n",
       "+9I0edv3zeDHKj2WJE2tfd53O4ktv2e1tqZ38vC/H9XL4HXG63pJ0tfq91I28/UHKL6mgYGBgUYv\\\n",
       "Ara2evXqHHTQQTnuuONy0003DXncDTfckFe84hWZMmVKurq6UipNnE3p3d3dmTZtWg444ID89Kc/\\\n",
       "HfK4pUuX5oMf/OA2H//KV76Stra2sVwiAACwk+vu7s4ZZ5yRrq6u7L777o1eDgAjYAcvhTY4f/dP\\\n",
       "//RPJ1TcTZK2traceOKJWbFiRX72s5/lkEMOqXjc+973vvz93//9lp9v2LAh++23X171qlf5Axbj\\\n",
       "Yt26dens7EzH7Z2Z+kxXrv8fy3Li587K+knt6fzzjnR0dGT69OmNXiYFtuU9tldnpk96ZMjjepsm\\\n",
       "5/ppy3LiY2elZWDj0Od7ZkY6H/fepDaD78NdOzvS/Mi275umyb3Zf9n1+dVZJ2ZgY8s2j2+asS6/\\\n",
       "7+j0vtsJbPk9q7Mz0x8Z+veseuqdPDnXL1uWE886Ky0bh/79r57WzZiRzg6/l/LHf0EIQHEJvBTa\\\n",
       "aObvvve9782KFStqft4Xv/jFvPSlL63q2FNPPTUrVqzI1VdfnSVLllQ8Zpdddskuu+yyzcdbWlrS\\\n",
       "0rLtN5hQb+VyOf39/Vk/acqWj62f1J71k6akv78/5XLZe5FRGXyPlQd6hg23g1oGNg57XHmgx3uT\\\n",
       "mg2+Dwd6yhUD7qCBjS0VHx/oKXvf7SS2/J7V0zNusXVQy8aN43bNco/fS9nM1x+g+AReCm1wB+9I\\\n",
       "5u+uWbMmDzzwQM3Pe+qpp6o+dv/990+SPPzwwzVfB8ZLW1tbWsqlXH3kgpRKpcxN0vnnHenv709L\\\n",
       "uWRUCAAAAExgAi+F1d3dvSXQjmQH75VXXpkrr7yy3st6jmuuuSZJcvLJJ4/pdWA02tvbs/C8xenu\\\n",
       "7k5fX19WrlyZjo6OlMvltLW1pb29vdFLBAAAAIYg8FJYq1atSn9/fyZNmpTDDz+80cup6Fvf+lZ2\\\n",
       "3333nHDCCY1eCgyrvb097e3tW+6iPH36dP9cDwAAAApgYt2VCmowOH/3iCOOmJAh6q677srq1atz\\\n",
       "0kknZdKkSY1eDgAAAAA7IDt4KazRzN8dD8uXL0+y+UZrAMDE0D/t0Wyq8PGm1r4kyaYZ6zLQU674\\\n",
       "PAAAmIgEXgprcAfvSObvjofly5dn0qRJmT9/fqOXAgA7vba2tjSXWtK94OqKj5dKpSRz8/uOzvT3\\\n",
       "91c8prnU4saTAABMOAIvhdTb25t77703ycTcwbt69eqsWrUq8+bNy+67797o5QBMCI9umjbs431N\\\n",
       "rUmSdc/MSHmgZ8TngUra29uzaPHCdHd3V3x865tMVuLGkwAATEQCL4XU0tKSp59+utHLGJLxDAB/\\\n",
       "1NbWlpbmUq7+3YJhjyuVSpn7J0nn4x1D7qAc1NJcspOSmg3eULISN5kEAKCoBF4YA8uXL09TU1NO\\\n",
       "OeWURi8FoOHa29uzcNHiIXdODqpmB+UgOykBAAA2E3ihzh5//PHceuutefGLX5yZM2c2ejkAE8Jw\\\n",
       "OycH2UEJAABQO4EX6myvvfbKpk2V7s8NAAAAAPVVavQCAAAAAAAYGTt4mZD22GOPXHjhhTnwwAMb\\\n",
       "vRQAAAAAmLAEXiakPfbYI0uXLm30MgAAAABgQjOiAQAAAACgoAReAAAAAICCEngBAAAAAApK4AUA\\\n",
       "AAAAKCiBFwAAAACgoAReAAAAAICCEngBAAAAAApK4AUAAAAAKCiBFwAAAACgoAReAAAAAICCEngB\\\n",
       "AAAAAAqqudELAAAAmGgenTZt3K7V19qaJFk3Y0bKPT3jcs3x/PwAgLEl8AIAAPxBW1tbWkqlXL1g\\\n",
       "wbhds1QqZW6Szo6O9Pf3j9t1W0qltLW1jdv1AICxIfACAAD8QXt7exYuXpzu7u5xu2ZfX19WrlyZ\\\n",
       "jo6OlMvlcbtuW1tb2tvbx+16AMDYEHgBAACepb29fVzDZ29vb5Jk+vTpaWlpGbfrAgA7BjdZAwAA\\\n",
       "AAAoKIEXAAAAAKCgBF4AAAAAgIISeAEAAAAACkrgBQAAAAAoKIEXAAAAAKCgBF4AAAAAgIISeAEA\\\n",
       "AAAACkrgBQAAAAAoKIEXAAAAAKCgBF4AAAAAgIISeAEAAAAACkrgBQAAAAAoKIEXAAAAAKCgBF4A\\\n",
       "AAAAgIISeAEAAAAACkrgBQAAAAAoKIEXAAAAAKCgBF4AAAAAgIISeAEAAAAACkrgBQAAAAAoKIEX\\\n",
       "AAAAAKCgBF4AAAAAgIISeAEAAAAACkrgBQAAAAAoKIEXAAAAAKCgBF4AAAAAgIISeAEAAAAACkrg\\\n",
       "BQAAAAAoKIEXAAAAAKCgBF4AAAAAgIISeAEAAAAACkrgBQAAAAAoKIEXAAAAAKCgBF4AAAAAgIIS\\\n",
       "eAEAAAAACkrgBQAAAAAoKIEXAAAAAKCgBF4AAAAAgIISeAEAAAAACkrgBQAAAAAoKIEXAAAAAKCg\\\n",
       "BF4AAAAAgIISeAEAAAAACkrgBQAAAAAoKIEXAAAAAKCgBF4AAAAAgIISeAEAAAAACkrgBQAAAAAo\\\n",
       "KIEXAAAAAKCgBF4AAAAAgIISeAEAAAAACkrgBQAAAAAoKIEXAAAAAKCgBF4AAAAAgIISeAEAAAAA\\\n",
       "CkrgBQAAAAAoKIEXAAAAAKCgBF4AAAAAgIISeAEAAAAACkrgBQAAAAAoKIEXAAAAAKCgBF4AAAAA\\\n",
       "gIISeAEAAAAACkrgBQAAAAAoKIEXAAAAAKCgBF4AAAAAgIISeAEAAAAACkrgBQAAAAAoKIEXAAAA\\\n",
       "AKCgBF4AAAAAgIISeAEAAAAACkrgBQAAAAAoKIEXAAAAAKCgBF4AAAAAgIISeAEAAAAACkrgBQAA\\\n",
       "AAAoKIEXAAAAAKCgBF4AAAAAgIISeAEAAAAACkrgBQAAAAAoKIEXAAAAAKCgBF4AAAAAgIISeAEA\\\n",
       "AAAACkrgBQAAAAAoKIEXAAAAAKCgBF4AAAAAgIISeAEAAAAACkrgBQAAAAAoKIEXAAAAAKCgBF4A\\\n",
       "AAAAgIISeAEAAAAACkrgBQAAAAAoKIEXAAAAAKCgBF4AAAAAgIISeAEAAAAACkrgBQAAAAAoKIEX\\\n",
       "AAAAAKCgBF4AAAAAgIISeAEAAAAACkrgBQAAAAAoKIEXAAAAAKCgBF4AAAAAgIISeAEAAAAACkrg\\\n",
       "BQAAAAAoKIEXAAAAAKCgBF4AAAAAgIISeAEAAAAACkrgBQAAAAAoKIEXAAAAAKCgBF4AAAAAgIIS\\\n",
       "eAEAAAAACkrgBQAAAAAoKIEXAAAAAKCgBF4AAAAAgIISeAEAAAAACkrgBQAAAAAoKIEXAAAAAKCg\\\n",
       "BF4AAAAAgIISeAEAAAAACkrgBQAAAAAoKIEXAAAAAKCgBF4AAAAAgIISeAEAAAAACkrgBQAAAAAo\\\n",
       "KIEXAAAAAKCgBF4AAAAAgIJqbvQCgOcaGBhIkmzYsKHBK2Fn1Nvbm+7u7mzYsCEtLS2NXg47Ge8/\\\n",
       "Gsn7j0by/qORBr/vGPw+BIDiEXhhgnnyySeTJPvtt1+DVwIAAOwsnnzyybS3tzd6GQCMQNOAv6aD\\\n",
       "CaW/vz9r1qzJbrvtlqampkYvBwAA2IENDAzkySefzD777JNSyRRHgCISeAEAAAAACspfzwEAAAAA\\\n",
       "FJTACwAAAABQUAIvAAAAAEBBCbwAAAAAAAUl8AIAAAAAFJTACwAAAABQUAIvAAAAAEBBCbwAAAAA\\\n",
       "AAUl8AIAAAAAFJTACwAAAABQUAIvAAAAAEBBCbwAAAAAAAUl8AIAAAAAFJTACwAAAABQUAIvAAAA\\\n",
       "AEBBCbwAAAAAAAUl8AIAAAAAFJTACwAAAABQUAIvAAAAAEBBCbwAAAAAAAUl8AIAAAAAFJTACwAA\\\n",
       "AABQUAIvAAAAAEBBCbwAAAAAAAUl8AIAAAAAFJTACwAAAABQUAIvAAAAAEBBCbwAAAAAAAUl8AIA\\\n",
       "AAAAFJTACwAAAABQUAIvAAAAAEBBCbwAAAAAAAUl8AIAAAAAFJTACwAAAABQUAIvAAAAAEBBCbwA\\\n",
       "AAAAAAUl8AIAAAAAFJTACwAAAABQUAIvAAAAAEBBCbwAAAAAAAUl8AIAAAAAFJTACwAAAABQUAIv\\\n",
       "AAAAAEBBCbwAAAAAAAUl8AIAAAAAFJTACwAAAABQUAIvAAAAAEBBCbwAAAAAAAUl8AIAAAAAFJTA\\\n",
       "CwAAAABQUAIvAAAAAEBBCbwAAAAAAAUl8AIAAAAAFJTACwAAAABQUAIvAAAAAEBBCbwAAAAAAAUl\\\n",
       "8AIAAAAAFJTACwAAAABQUAIvAAAAAEBBCbwAAAAAAAUl8AIAAAAAFJTACwAAAABQUAIvAAAAAEBB\\\n",
       "CbwAAAAAAAUl8AIAAAAAFJTACwAAAABQUAIvAAAAAEBBCbwAAAAAAAUl8AIAAAAAFJTACwAAAABQ\\\n",
       "UAIvAAAAAEBBCbwAAAAAAAUl8AIAAAAAFJTACwAAAABQUAIvAAAAAEBBCbwAAAAAAAUl8AIAAAAA\\\n",
       "FJTACwAAAABQUAIvAAAAAEBBCbwAAAAAAAUl8AIAAAAAFJTACwAAAABQUAIvAAAAAEBBCbwAAAAA\\\n",
       "AAUl8AIAAAAAFJTACwAAAABQUAIvAAAAAEBBCbwAAAAAAAUl8AIAAAAAFJTACwAAAABQUAIvAAAA\\\n",
       "AEBBCbwAAAAAAAUl8AIAAAAAFJTACwAAAABQUAIvAAAAAEBBCbwAAAAAAAUl8AIAAAAAFNT/D/TK\\\n",
       "rkqsgFu8AAAAAElFTkSuQmCC\\\n",
       "\"\n",
       "  frames[4] = \"data:image/png;base64,iVBORw0KGgoAAAANSUhEUgAABXgAAAPoCAYAAABkvZZOAAAAOnRFWHRTb2Z0d2FyZQBNYXRwbG90\\\n",
       "bGliIHZlcnNpb24zLjEwLjMsIGh0dHBzOi8vbWF0cGxvdGxpYi5vcmcvZiW1igAAAAlwSFlzAAAP\\\n",
       "YQAAD2EBqD+naQAAusBJREFUeJzs3Xl4U2X6xvE7TVvaUmjZhCKboIjsCII7i6MoIuLgDxVUKIo6\\\n",
       "LojLjIgbjIrL6CggbijFfdRxRFABFzYRF0RBlEVlUZRNKBRLaZum5/dHTUjSLCdLm5z2+7muXjbJ\\\n",
       "e97zJj209u6T57UZhmEIAAAAAAAAAGA5SfFeAAAAAAAAAAAgMgS8AAAAAAAAAGBRBLwAAAAAAAAA\\\n",
       "YFEEvAAAAAAAAABgUQS8AAAAAAAAAGBRBLwAAAAAAAAAYFEEvAAAAAAAAABgUQS8AAAAAAAAAGBR\\\n",
       "BLwAAAAAAAAAYFEEvAAAAAAAAABgUQS8AAAAAAAAAGBRBLwAAAAAAAAAYFEEvAAAAAAAAABgUQS8\\\n",
       "AAAAAAAAAGBRBLwAAAAAAAAAYFEEvAAAAAAAAABgUQS8AAAAAAAAAGBRBLwAAAAAAAAAYFEEvAAA\\\n",
       "AAAAAABgUQS8AAAAAAAAAGBRBLwAAAAAAAAAYFEEvAAAAAAAAABgUQS8AAAAAAAAAGBRBLwAAAAA\\\n",
       "AAAAYFEEvAAAAAAAAABgUQS8AAAAAAAAAGBRBLwAAAAAAAAAYFEEvAAAAAAAAABgUQS8AAAAAAAA\\\n",
       "AGBRBLwAgLiYNGmSbDabbDabJk2aFO/lWNKSJUvcr2G/fv2q/fyzZ892n3/06NHVfv5EE++vBxJP\\\n",
       "mzZt3NfE1q1b470cAAAA1FAEvACQ4Pr16+cOCPx91KtXT61atdLZZ5+tKVOm6Lfffov3kgEANdjH\\\n",
       "H3+syy+/XO3bt1fdunXVsGFDde3aVX//+9+1YcOGGnH+X3/9VVlZWV4/b2fPnh2TuQEAAGKNgBcA\\\n",
       "LK6wsFDbtm3TwoULdccdd+ioo47S5MmTZRhGvJcGwA/PwAjVb/To0QR2ETpw4IAuvvhi/eUvf9FL\\\n",
       "L72kH3/8UUVFRdq3b5/Wrl2rRx55RF27dtUDDzxg+fP/7W9/04EDB2KwagAAgKqXHO8FAADMO+GE\\\n",
       "E9S7d2+v+woKCrRmzRqtXbtWkuRwODRp0iTt379fjz32WDyWCQCoYRwOhy644AItWrTIfV/nzp11\\\n",
       "/PHHq7i4WJ988ol27Nghh8OhiRMnyuFw6O6777bk+f/zn//o3XffjdXSAQAAqhwBLwBYyKBBgwL2\\\n",
       "q12xYoUuueQS/fLLL5Kkxx9/XCNHjlSvXr2qcYVA7dWvXz8q5+GlJvXdvffee93halpamvLy8nTx\\\n",
       "xRe7Hy8tLdWdd96pf/3rX5Iq+qz37dtXffv2tdT58/PzdeONN0qSTj31VP3yyy/un6sAAACJihYN\\\n",
       "AFBDnHzyyXrnnXe83vb97LPPxnFFAICaYPfu3fr3v//tvv344497hauSlJqaqocfflgXXXSRJMkw\\\n",
       "DN1+++2WO/9NN92k3bt3KyUlRc888wytVAAAgCUQ8AJADdK9e3f169fPfXvZsmXxWwwAoEZ44YUX\\\n",
       "dPDgQUlS+/btddVVVwUc+/DDDyspqeJXjM8++0zffPONZc7/wQcf6MUXX5Qk/eMf/1DHjh2jWDUA\\\n",
       "AED1IeAFgBqme/fu7s+3b99u6pj169dr4sSJ6t27t5o2barU1FQ1adJEffr00d133216HpfFixdr\\\n",
       "xIgRat26tdLS0pSTk6PTTjtNTz75pIqKikzPE+5mSLNnz3aPHz16tKlzfPvtt5owYYL69OmjZs2a\\\n",
       "KTU1VZmZmTr22GN10UUX6fnnn1dBQUHIefbu3atHH31UZ555plq2bKm0tDRlZ2erY8eOuu666/TV\\\n",
       "V1+ZWo/Ljz/+qPHjx6tDhw7uXeK7d++uu+++W7/++mtYc0Xi66+/1tixY9W2bVulp6erSZMm6t27\\\n",
       "tx5++GHl5+dHPO/KlSt10003qXv37mrSpIlSU1PVrFkz9e3bVw899JD27dsXco42bdq4v86ut8D/\\\n",
       "+uuvuuuuu9StWzdlZ2erbt266tChg2644Qb9/PPPptZWWFiop59+Wueee65atWqljIwMpaSkKCsr\\\n",
       "Sx06dNB5552nKVOm6LvvvvN7/JIlS9zr8vxDi+9jnjw3XPP82Lp1q0pLS9WkSRP3fZ999pmp5yFJ\\\n",
       "ffv2dR83bdo008f56tevn3ueJUuWSJJ27NihyZMnq0ePHmrYsKHS0tLUoUMHTZgwwe+18euvv2ri\\\n",
       "xInq0aOHGjRooHr16ql79+6aMmWKDh06ZGod69ev12OPPaa//vWvOvbYY1WvXj2lpKSoSZMm6tWr\\\n",
       "l2666SatW7cu6Byu6+aFF15w35ebm+v39fdthRPodZgyZYp69+6tZs2ayW63Kzs72+85Pa9Vl9LS\\\n",
       "Uh1//PHuxwcNGhTydXjrrbfc41NSUvT555+HPCYW5syZ4/7c9X05kFatWmnAgAHu22+//bYlzn/w\\\n",
       "4EFdffXVkqSjjz5ad955Z2SLNcnfNRXMpEmTAl6fvhYtWqQrrrhCXbp0UXZ2tpKTk5WRkaEWLVro\\\n",
       "tNNO0/jx4/Xuu++qtLQ0Nk8GAADEnwEASGh9+/Y1JBmSjHvuuSfk+IkTJ7rHp6SkBB1bXFxsXH31\\\n",
       "1Ybdbncf4+8jPT3dmD59eshzOxwOY8yYMUHn6tixo7FhwwbjnnvuCfm8Ro0a5R6Tl5cX8vx5eXnu\\\n",
       "8aNGjQo6dt++fcZFF11k2Gy2oOuVZDRt2jToXE888YSRlZUVdA6bzWaMGTPGKCkpCfk8ZsyYYaSl\\\n",
       "pQWcKzs725g7d66xePFi9319+/YNOa9Zd9xxR9BrokWLFsZnn30W1uudn59vDBs2LORrnZ2dbbz5\\\n",
       "5ptB52rdurV7/JYtW4y333476Oufnp5uvPvuu0HnXLFihXHkkUeGXJ/rw+FwVJoj2NfD8zEzH1u2\\\n",
       "bDEMwzBuueUW931XXnll0Ofg8sMPP7iPqVOnjrF3715Tx/nj+f1n8eLFxsKFC41GjRoFXHfr1q2N\\\n",
       "rVu3uo9//vnnjTp16gQc36lTJ2P37t1B1/B///d/pl4zm81mjB8/3igrK/M7j+d1E+rD93uS7+sw\\\n",
       "Z84co0GDBpWOy8rKCnhO19fU0/r1642MjAz3mGnTpgV8HbZt2+Z1zsmTJwd93WLl0KFDRlJSkvu8\\\n",
       "K1asCHnM/fff7x5/yimnWOL848ePdx/z0Ucfue/3/Bqa+Tlklu81FYqZn5mFhYXGkCFDTF/nM2fO\\\n",
       "jNnzAQAA8cUmawBQw3hW2zZt2jTguIMHD2rgwIH69NNP3fe1a9dOPXv2VIMGDZSfn69PP/1U27dv\\\n",
       "16FDh3TDDTfowIEDmjhxYsA5L7/8cr322mvu29nZ2erfv78aNWqkX375RUuWLNG6des0aNAgDRky\\\n",
       "JMpnGrnt27drwIAB2rhxo9daTznlFOXk5MjhcOiXX37RqlWrdODAARUXFweca/z48Zo6dar7duPG\\\n",
       "jXXSSSepWbNmKi4u1jfffKPvvvtOhmFo1qxZ2r59u9577z33W4h9PfPMM7ruuuvct1NSUtSvXz+1\\\n",
       "bt1a+fn5WrJkifLz83XhhRdqypQpMXg1vE2cOFEPPPCA+3ZGRoYGDBignJwc7dy5U4sWLdKvv/6q\\\n",
       "QYMGafz48abm3LlzpwYMGKD169e77+vUqZO6deumzMxM7d69W5988on27t2r/fv3a/jw4XrppZc0\\\n",
       "cuTIkHN/9NFHuuaaa+R0OtWqVSuddNJJql+/vrZs2aIlS5aorKxMhw4d0vDhw/Xdd9/pqKOOqjTH\\\n",
       "tm3bNHDgQP3xxx+SKl7zE044QUcffbQyMjJ08OBBbd26VWvWrNGBAwdMPWdfRx55pPvrOmPGDPf9\\\n",
       "nl9rT/Xr15ckXXXVVXr00UclSa+//roef/xx1a1bN+i5Zs2a5f78r3/9qxo2bBjRmn2tXr1aEydO\\\n",
       "1KFDh9SiRQudcsopqlevnn744Qd98sknMgxDP//8s8455xytXbtWr7/+uq644gpJ0jHHHKPevXsr\\\n",
       "LS1Na9eu1ZdffilJ+v7773XZZZdpwYIFAc/r2uAqOTlZHTt21DHHHKPs7GzZ7Xbt3r1bK1eu1G+/\\\n",
       "/SbDMPT444+rpKRETz75ZKV5Ro0apb179+rjjz/Whg0bJElnnHGGOnToUGls7969A65nxYoVmjRp\\\n",
       "khwOhxo1aqTTTz9djRs31u7du8NuR9ChQwc99thj7srRf/zjH+rfv786d+7sNa68vFyXXXaZu8L9\\\n",
       "lFNO0R133BHWuSK1ceNGlZeXS6qoOO/Ro0fIY44//nj3557/7hP1/F9++aW70v2yyy7TGWecEeFq\\\n",
       "4+vSSy/V3Llz3bePPvpod6W9w+HQ77//rrVr19aozf8AAMCf4hwwAwBCCKeC1+FwGC1btnSPv/DC\\\n",
       "CwOOvfzyy93j2rdv77eCqKyszHjyySfdFXh2uz1g9dSLL77oVRl0/fXXG0VFRV5jtm/fbgwYMMCQ\\\n",
       "ZKSmpoZ8XlVRwetwOIxTTjnFq7rziSeeMEpLSyuNLSkpMebOnWsMHTrU71zPP/+8e5769esbM2fO\\\n",
       "9DvPokWLvKpDH3roIb/z/fDDD16Vu3379jW2bdvmNaa4uNhdaeb5Gsaignfp0qVeFc0XXnihkZ+f\\\n",
       "7zVm//79xsUXX1zp/IFeb6fTafTv3989rnfv3sbXX39dadyhQ4eMSZMmuc9ft25dY/PmzX7n9Kyo\\\n",
       "q1OnjlG3bl3jpZdeMsrLy73Gfffdd16ve25urt/5PCv3TjvtNOO3337zO87hcBhLliwxRo4c6bdK\\\n",
       "1GxFtee/EzM8vwfMmjUr6NiysjIjJyfHPf7jjz82dQ4z565Tp46RkpJizJgxw3A6nV7jlixZYtSt\\\n",
       "W9c9dsqUKUZmZqZRv35947///W+leV9//XWvKvGlS5cGXMOECROMN954wygoKPD7eHl5uTF37lyj\\\n",
       "SZMm7vk++eSTgPOF+33F93VITk42bDabce+991b6915cXOx1O1QFr8vQoUPd47p06VJpHs+K1Kys\\\n",
       "rKBzxdrrr7/uPneodzO4fP/9917Xeagq7Xiev7S01OjSpYshyWjYsGGlsVap4F29erX78czMTOP9\\\n",
       "998PONemTZuM++67z5g7d24UzwAAACQSAl4ASHDhBLz33nuv1y+1H3zwgd9xy5Ytc49p166d8fvv\\\n",
       "vwed1zM4Pfvssys97nQ6vYLl0aNHB5yrqKjI6Nq1q9c6qzPgnTlzpntMSkqKsWzZspDz+nPgwAEj\\\n",
       "OzvbHXR+/vnnQcevW7fOHd42atTIOHjwYKUxI0aMcK+tU6dOfse4XHnllV6vYSwC3pNPPtk93xln\\\n",
       "nBHwre5Op9M466yzvM4f6PX2DP5PPPHESqG/L88Q45prrvE7xjNwsdlsxvz58wPO9+6773qFHv5a\\\n",
       "K/Ts2dM95scffwy6vmCqKuB95ZVX3ONDvd187ty5Xv+2fUPvcHl+/5FkPPfccwHH3nfffV5jbTZb\\\n",
       "0IDZ8xr+29/+FtU6DcMwPv/8c/d8w4cPDzgu2oBXknHfffeZOs5swLtnzx6jefPm7rHjxo1zP/bF\\\n",
       "F18YycnJ7sdeeeUVU+eOlSeffNJ97q5du5o6Zu/evV6v14YNGxL2/P/85z+D/gHFKgHv9OnT3Y/f\\\n",
       "cccdMVsnAACwBjZZAwCLO3DggD755BONGDFCd911l/v+m266SWeeeabfY/7973+7P3/00UfVuHHj\\\n",
       "oOcYPXq0+23MCxcu1N69e70eX7hwobZt2yZJSk9P1yOPPBJwrlCPVzXX290l6eabb9Zpp50W0Tyz\\\n",
       "Zs3S/v37JUnXXnut+vTpE3T8cccdp1GjRkmq2JDN9y3p+/fv11tvveW+/fDDDysjIyPgfA8//HDI\\\n",
       "t+qHY/369VqxYoX79rRp02S32/2OTUpK0vTp04NudOTiea09/fTTSk9PDzp+woQJ7o2qXnvtNfdb\\\n",
       "swMZPHiwzj777ICPDxo0SM2aNZNUsYmav7dre7ZdaNKkSdDzxcOwYcPcbRY+/fRTr9Yivp5//nn3\\\n",
       "52PGjDH1NTKrW7du7pYL/lxyySVet88//3yvza6CjXe1bIhGnz59dNxxx0mSPv7446jnC6R58+a6\\\n",
       "7bbbYjpno0aN9OKLL7q/XtOnT9f8+fNVWFiokSNHqqysTJI0cuRIjRgxIqbnDqWwsND9eah/v4HG\\\n",
       "ec6RSOdfv3697r//fkkVGxPm5uZGuMr4S/TvYwAAoGoR8AKAhUyePLnSbu9ZWVk6/fTT3b1vGzVq\\\n",
       "pAcffNArWPNUVlamDz/8UFJFn8/BgwebOnf//v0lSYZhePXtlaTFixe7Px80aJAaNWoUdK6//OUv\\\n",
       "OvLII02dN5Z+/vlnd+9NSbr++usjnuv99993f242cPEMu5YvX+712IoVK1RSUiJJOuKII4KGlpLU\\\n",
       "oEGDmPYx9vwa9uzZUx07dgw6vn379jrxxBODjtmxY4dWr14tSerYsaO6desWch1paWk66aSTJEkF\\\n",
       "BQX67rvvgo7/v//7v6CP22w2r/P66z3ZsmVL9+dPP/10yDVWtzp16ujyyy933/YMcT3t2rVL7733\\\n",
       "niTJbrdr9OjRMV3HhRdeGPTxtm3bev3RIdR4zz6zW7ZsMbWGH374Qa+++qruvfde3Xrrrbrhhht0\\\n",
       "/fXXuz8KCgokVfwRxfVHp1i78MILlZwc+20szjjjDP3973+XVPF9Njc3V7m5ufrpp58kSW3atPHb\\\n",
       "W7iqefYgT01NNXVMnTp1vG4fOnQo4c5vGIbGjh2rkpIS1alTR88880zEa0wEnt/HXnzxRRUVFcVx\\\n",
       "NQAAoLqxyRoA1CB2u10PPfRQ0Cq7b7/9VgcPHpRUsZnUjTfeaGrulStXuj/3DU48NxZyhXPB2Gw2\\\n",
       "9enTR//73/9MnTtWPv/8c/fnxxxzjFq0aBHxXJ999pn782effVYvvPBCyGN+/fVX9+fBXsPevXsH\\\n",
       "3ITN00knneS1qV00wv0ausZ5vg6+PB87dOiQ6UB906ZN7s+3bdumrl27BhzbpUuXkPN5/sHB3yZp\\\n",
       "w4cP16JFiyRVVBB/+OGHGjlypM4888yorpFYuuqqq/T4449LqghvpkyZUilkfOGFF9yVnoMGDVLz\\\n",
       "5s1jugbfjb/8yc7Odn9/6dSpU9Cxnpu/hdq87r333tNdd90V1iZme/bs8Qq9YqVnz54xn9Plvvvu\\\n",
       "08cff6xVq1Zp165d+u9//yup4nv7K6+84t58rzqlpaW5Py8tLTV1jOuPVS5mK2+r8/xPPvmk+4+V\\\n",
       "EyZM0LHHHhvxGhPBoEGDVLduXR08eFBff/21OnTooCuuuELnnnuuevToEfAdGQAAoGYg4AUACznh\\\n",
       "hBO8dncvLCzUL7/84q7+dDqduvLKK7V582b32059bd++3f353r17NWPGjLDX4drJ3eX33393f96q\\\n",
       "VStTc5gdF0u7du1yf962bduI5yksLNQff/zhvv3cc8+FPUeivYZVcX7Pa23Lli0xudZ8ZWVlhZwj\\\n",
       "JSXF/bnD4aj0+JVXXqkFCxZozpw5kire3u96i3+rVq102mmnqX///jr//PNDtjOpKscdd5xOPfVU\\\n",
       "LV++XLt27dK7776roUOHeo2ZNWuW+/Mrr7wy5msw81p7hs6hxnuOdQXT/kyaNEmTJ082sUJvnv9G\\\n",
       "Y6kq3/6ekpKiV199Vccff7w7KJekO++8UyeffHKVnTeYzMxM9+dmK3F9x3nOkQjn37Ztm26//XZJ\\\n",
       "0rHHHuv+3MoaNWqk5557TpdffrkcDoe2bdumSZMmadKkScrMzFSfPn3Ut29fnXfeeerevXu8lwsA\\\n",
       "AGKMFg0AYCGDBg3SE0884f6YPXu2Fi1apK1bt3r1s5wyZYreeOMNv3O43sIcDd8wxrO/YbC+sZ5i\\\n",
       "2T/WLM/AJ5rAoSa+hlVx/qp4nXzFoses3W7X//73Pz333HOVWlP88ssveuWVV3TllVeqefPmuvLK\\\n",
       "K5Wfnx/1OSNx1VVXuT/3bdOwfPlyd2/enJwcnXvuuTE/f7ivdSy+Nh9++KFXuHvSSSfp2Wef1Tff\\\n",
       "fKM9e/aouLhYRsWmwTIMQ3379nWPDdW/OVLRVKOaUb9+/Urn8A3zq5NnBbznH8mC2blzp9dtz2rt\\\n",
       "RDj/uHHj3D8PnnnmmUotHazq4osv1pdffqkLLrjA6w9bhYWF+vjjj3X33XerR48e6tWrlz755JM4\\\n",
       "rhQAAMQaFbwAUAM0a9ZML7/8svLz87Vw4UJJ0t/+9jedeeaZatCggddYz1Cua9euWrNmTdTn9wxL\\\n",
       "zfb986xOi5VQgU69evXcn0ez6Y9vsJmfn1/pdQ5XvF/Dqji/5+s0ZMgQvfPOO5EtrhrYbDZdccUV\\\n",
       "uuKKK/TDDz9o6dKl+vTTT/XJJ59o8+bNkiqqf59//nktWbJEn332WbVvZHThhRfqxhtv1L59+zR/\\\n",
       "/nxt377d3YbBM/AdPXp0jXk79r/+9S/352PGjNFzzz0XNDiuqqrd6mIYhkaPHq09e/Z43X/55Zdr\\\n",
       "5cqVcQkiPVsX7N69W8XFxV5tE/z55Zdf3J83bNgwqn8rVXF+V6uPOnXqhNwwb8eOHe7P7733Xnef\\\n",
       "7pycHL399tvmnkQ16t69u/73v/9p//79WrZsmZYvX67ly5frq6++cr+DYdWqVerfv79ee+21kH3M\\\n",
       "AQCANVDBCwA1RFJSkp577jl3qJafn68pU6ZUGte0aVP3575VTpHy/OXZ8xfrYMxsgORZgRSqklMK\\\n",
       "XTHq+dzNburkT3Z2tlfQEovXsapew3ievyquterQvn17jR07VrNnz9amTZu0ceNG3Xzzze7QdNOm\\\n",
       "TRG1DIhWenq6Lr30UkmS0+l0933+448/9Oabb0o6HFTXBE6nU0uXLpVU8f3tgQceCFkVbPbaTVSP\\\n",
       "P/64+4909erVcwf4a9eu1T/+8Y+4rOnYY4919wQ3DMO9cWIwX3/9tfvz4447LmHPX1JSoi+++CLo\\\n",
       "h2ff382bN7vvD6cfdCiGYYQcE+6madnZ2RoyZIgefvhhrVixQnv27FFeXp67tY7T6dS1114b1QZ4\\\n",
       "AAAgcRDwAkAN0qJFC40fP959+4knnqgUrHXv3t0dTu7evdu9Q3s0evTo4f7ccyOzQAzD0BdffBFy\\\n",
       "nOeGQnv37g05fu3atUEfP/HEE92f//DDD16bnoXLsxeya6OeaHi+hitXrjT19vJgG5xFc34zX0Mz\\\n",
       "5+/Tp4/789WrV1dJ1XZ1aN++vR599FGvUHfu3LlxWYtnmwZXz93//Oc/7te2b9++ateuXVzWFmt7\\\n",
       "9uxxh2tHHHGEjjjiiKDj161bV6ny1Z9YtI6oCt9++61XL9jp06frpZdecq93+vTpWrBgQbWvKy0t\\\n",
       "zet755IlS0Ie4wrmJWnAgAGWPn91CLXJoKSofl5JFT9PR48erUWLFrn/H2DPnj0x/TkCAADih4AX\\\n",
       "AGqYW265xd2KoLi4WA8//LDX4+np6V6/8D755JNRn7N///7uz99///2QPUoXLVpk6pfVNm3auD8P\\\n",
       "VbVVXFysefPmBR3TunVrr2quSDb9chk8eLD786eeespUBVYwJ598svuX7l27dumDDz4IOr6goCCm\\\n",
       "IaPn1/Crr77Shg0bgo7/6aefQgYDbdu2db/epaWllfrGWs2QIUPcn5vtBeqP59vL/W36Fkznzp11\\\n",
       "0kknSar4GixdutTrda2KzdXixVW1KZnbXOupp54yNW80r39VKS4u1ogRI1RSUiJJGj58uEaNGqUB\\\n",
       "Awbo1ltvlXS4fYPnhojVxbMH8OzZs4OO3bZtm3uTQt9jE+X8W7du9erdHOyjdevW7uPy8vLc92/d\\\n",
       "ujXKZ3VYqJ9v5eXlMeuZ265dO3Xq1Ml9O5rvZQAAIHEQ8AJADdOgQQPdcMMN7tvPPPNMpUDAs+fg\\\n",
       "9OnT9dFHH5me399b7c866yy1bNlSUsXbSIO9lbi4uFi33HKLqXN5VoC+++67Qavz7r77blPVezff\\\n",
       "fLP780cffTTiX5qvvvpqZWdnS6p4O3A4b9nfs2ePnE6n133Z2dkaNmyY+/Y//vGPoKHWbbfdFlUf\\\n",
       "YV/HHXecTj75ZPftG2+8MWAVcXl5ucaNG2cq1Pa81u68886QVdaeqqutg5nrRvJuSRGqmjQYz02j\\\n",
       "fvvtt7CP96zive2229zV8A0aNPC6hqyuUaNGysrKklTxBw3Pqkxfn376qemAN9rXvyrceuut+v77\\\n",
       "7yVJLVu21DPPPON+7L777nNX2O/atUtjxoyp9vWNGjXK3f5n48aNeu655wKOve2229zf30466SQd\\\n",
       "f/zxlj9/VXvxxRdVXFwc8PGXX37Z64+ivj8/JPPfx5xOp1df4Wi+lwEAgMRBwAsANdDNN9/s3jSr\\\n",
       "qKhIjz76qNfjffv21ahRoyRV9LY999xz9cADDwQMDIuLizVnzhydf/75XlWMLna7Xffee6/79vPP\\\n",
       "P6/x48dX+oV1586dOu+887RmzRqlpqaGfB4nnHCC++3mhYWFuuSSS7Rv3z6vMUVFRfr73/+uf/3r\\\n",
       "X6Y2IBo9erQ7yHQ4HDr77LP15JNP+q3kKy0t1bx583TBBRdUeiwrK0uPPfaY+/bkyZM1atSogD1A\\\n",
       "DcPQp59+qmuvvVatWrXyG97efffd7uewdu1anXvuuZUCqJKSEt1666165plnTL2G4bj//vvdbwf/\\\n",
       "4IMPNGLECO3fv99rzIEDB3TZZZdp/vz5ps5/6aWXuivG//jjD5166ql65plnvPpa+s7/yiuvqF+/\\\n",
       "fl5/qKhKrVq10tVXX62lS5cGDLW/+uorr/Wcc845EZ+vc+fO7s9dvXPDMXz4cHfw6dnqZOTIkSE3\\\n",
       "n7KSpKQkDRo0yH179OjR+vLLLyuNe+ONNzRo0CA5nc5KGyD64/n6v/POOwGvxery/vvvu99NkJSU\\\n",
       "pJdeesn9xyNJSk1N1auvvqqMjAxJFX/sisU7L8JxxBFHeP1xbNy4cXrjjTe8xjgcDk2YMEGvvfaa\\\n",
       "+74HHngg6Lxt2rSRzWaTzWbT6NGjq/38iWLz5s1+v99KFd8jrr322krjJe+g9+9//7tOP/10vfji\\\n",
       "i37nkSpaHY0dO9Yd8NavX9/rD3sAAMDCDABAQuvbt68hyZBk3HPPPaaPu+2229zHZWZmGnv37vV6\\\n",
       "vLi42DjrrLPcYyQZGRkZRv/+/Y1Ro0YZV111lTF8+HCjZ8+eRp06ddxjevbsGfCcw4cP95qvQYMG\\\n",
       "xl//+ldj7Nixxtlnn+2e56ijjjLGjx9v6nm98cYbXnNmZWUZf/3rX42rrrrKGDJkiJGdnW1IMpo3\\\n",
       "b27cf//97nGjRo0KOOe2bduMY445xmve7Oxs49xzzzWuvPJKY/To0Ub//v2N+vXru88ZyF133eU1\\\n",
       "j91uN3r27GmMHDnSuPrqq42RI0caffv2NbKysrzG/fHHH37nmzFjhte41NRU46yzzjLGjh1rXHjh\\\n",
       "hUajRo3c9//rX/9yj+vbt2/ANYbj73//u9f569ata5x33nnG2LFjjSFDhhiZmZnur+2kSZNMvd57\\\n",
       "9uwxevTo4TVv/fr1jYEDBxpjxoxxP7cuXboYycnJ7jHDhg3zO1/r1q3dY7Zs2RLyOY0aNco9Pi8v\\\n",
       "r9LjnuuqV6+ecdpppxmXXnqpcfXVVxvDhg0zOnXq5DWmSZMmxm+//VZpnsWLF5v6ejz77LPucTab\\\n",
       "zejfv79x/fXXG7fccov7Iz8/P+hzuvbaa73WJMlYvXp1yNciXJ7ffxYvXhxyfLhfG8/1+/P9998b\\\n",
       "6enpXq/XySefbIwePdoYMWKEcdRRR7kfGzt2rKn17t+/32vOtm3bGmPGjDFuvvlm9+u/cOHCqF4H\\\n",
       "s6/Hzp07jSOOOMI9ZsKECQHneuqpp9zj0tPTjXXr1pleRyyUlpYaAwYM8PqadenSxRg1apRx0UUX\\\n",
       "GTk5OV6PTZ48OeScnq9PsO8hVXV+MzzX6O/7R6Q8r6lmzZq5v/8MHjzYuOqqq4yRI0d6/Zzq2LGj\\\n",
       "18+Ziy++2Bg0aJB7Ps/vc3a73ejUqZNx4YUXGmPHjjUuvfRSo3///kZqaqrXa/Tss8/G7PkAAID4\\\n",
       "IuAFgAQXacC7e/duo27duu5j77zzzkpjysrKjLvuusvIyMioFBb5+0hJSTGuu+66gOcsLS31+iXT\\\n",
       "30eHDh2M9evXG/fcc4/p5zV58uSgcx577LHGd999Z+Tl5ZkOC/bu3WtccMEFpp73kUceGXSu119/\\\n",
       "3WjevLmpuSQZvXv3NoqLiwPON23aNK9Q3fcjKyvLeOedd0wHiuGaMGGCkZSUFPD8zZs3N1asWBHW\\\n",
       "611UVGRcc801XgFusI/09HRjypQpfueKdcDrCq3NfHTr1s1Yv3693/OY/XqUlpYap59+etDzhHpe\\\n",
       "q1ev9hrfq1evkK9DJOId8BqGYcyZMyfk96irrrrKKC4uNr3ep556yrDZbAHn8/2eVFUB7znnnOP1\\\n",
       "NSwtLQ0635AhQ9zju3fvbpSUlJheSyzs37+/0h/y/P2cuP/++03NF07AWxXnD3eNVRXwvvbaa0bb\\\n",
       "tm0DPqczzzzT2LNnj9GgQYNK349crr/+etPfx+rVq0e4CwBADUOLBgCooZo0aaK//e1v7tvTp0+v\\\n",
       "9LZNu92uf/7zn9q6daseeeQRnX322WrVqpUyMjKUkpKiRo0a6fjjj9eoUaM0e/Zs/fbbb3riiScC\\\n",
       "njMlJUWzZ8/Wxx9/rIsuukgtWrRQamqqmjZtqlNOOUVTp07VypUr1aFDh7Cey913360VK1bokksu\\\n",
       "cc/ZuHFjnXjiiXr88cf11VdfeW0aY0bDhg31v//9T19++aXGjx+v7t27q3HjxrLb7crMzFSHDh10\\\n",
       "8cUXa/bs2dq4cWPQuYYPH67Nmzdr9uzZuuSSS3T00UcrKytLdrtd9evX13HHHae//vWveuyxx7Rx\\\n",
       "40Z98cUXQdtJ3HDDDfr22291ww036JhjjlF6erqys7PVpUsX3X777fr222/9tsqIlQceeEBffvml\\\n",
       "xowZozZt2qhOnTpq1KiRevbsqfvvv19r1qxxb/RlVnp6up566in9+OOPuvfee9W/f38deeSRSktL\\\n",
       "U2pqqpo0aaI+ffroqquu0uuvv66dO3fq9ttvr6Jn6G3v3r368MMPdeedd2rgwIFq27at6tatK7vd\\\n",
       "rnr16um4447TpZdeqrfffltff/112Nevr5SUFH300Ud66qmn9Je//EXNmjULu91Gt27d1LZtW/ft\\\n",
       "mrS5mq/zzz9f3333na6//nq1b99eaWlpyszMVPv27ZWbm6ulS5fqmWeeMdWixeWaa67RJ598ossu\\\n",
       "u0zt27dX3bp13e1Jqsv06dM1f/58SVLdunX1yiuvKCUlJegxzz//vHJyciRVbMw1ceLEKl+np6ys\\\n",
       "LL3++uv68MMPdemll6pdu3bKyMhQVlaWOnfurFtuuUVr1qypsnXF+/xVpVmzZvr66681ceJEHXfc\\\n",
       "ce7ndOKJJ+rpp5/WggUL1KhRI/33v//Vcccdp/T0dPXo0UM33XSTe47p06dr3bp1mjZtmkaMGKFu\\\n",
       "3bqpQYMGSk5OVlpamo488kidddZZeuSRR/TTTz9p7NixcXzGAAAg1myGEeW23wAAAKhWW7duVdu2\\\n",
       "bWUYhurWravt27erfv368V4WAJP69evn3jhw8eLF6tevX3wXBAAALI0KXgAAAIuZNWuWXH+jHz58\\\n",
       "OOEuAAAAUIsR8AIAAFhIcXGxZs6c6b59zTXXxHE1AAAAAOKNgBcAAMBC7rzzTu3cuVOSdPLJJ6t3\\\n",
       "795xXhEAAACAeEqO9wIAAAAQ2IIFC7RgwQIdOnRIX375pVavXi1JstlseuCBB+K7OAAAAABxR8AL\\\n",
       "AACQwD7//HNNnTq10v233nqrTj/99DisCAAAAEAiIeAFAACwiIyMDHXp0kXXXnutLr/88ngvBwAA\\\n",
       "AEACsBmuLZgBAAAAAAAAAJbCJmsAAAAAAAAAYFEEvAAAAAAAAABgUQS8AGBBxcXF+tvf/qb7778/\\\n",
       "3ksB3Lgukai4NhErXEsAACAREfACgAV99NFHevrpp/X777+77+vVq5dsNltYH02aNKn2tW/dulU2\\\n",
       "m039+vWr9nOjalXVdfnmm2+qX79+atCggerWratu3brp4YcflsPh8LsOrjH48ndtenI4HHrhhRd0\\\n",
       "7rnnqnnz5qpTp46ysrJ09NFH6+yzz9ZDDz2kbdu2ucdzjdVe/PwFAACJKDneCwAAhG/OnDmSpKFD\\\n",
       "h0qSDMNQjx491LlzZ69xW7Zs0bJly5SZmalhw4ZVmqdDhw5VvVTUIlVxXY4fP15Tp05VcnKyBgwY\\\n",
       "oMzMTC1atEi33Xab5s2bpw8++EDp6elV9pxQM/hem55+/PFH/fWvf9V3332njIwM9ejRQ6effrpK\\\n",
       "S0u1bt06LVy4UAsXLlTPnj3VsmXL6l04Eg4/fwEAQCIi4AUAiykvL9e8efPUqFEjnXbaaZIkm82m\\\n",
       "mTNnVhp73333admyZerTp49mz55dzStFbVIV1+WcOXM0depUZWZmaunSpTr++OMlSXv27NGAAQO0\\\n",
       "fPly3XXXXXrkkUeq5DmhZvB3bbrs27dP/fv312+//aabbrpJd955pxo2bOg1ZvPmzXrmmWd0wgkn\\\n",
       "VOeykYD4+QsAABIVLRoAwGJWrFih3bt3a/DgwbLb7UHHfvPNN5LkDsaiNXr0aNlsNi1ZsiQm86Hm\\\n",
       "qIrrcsqUKZKkCRMmeI1t3LixnnzySUnSE088oYKCgmiWjhou2LX5yCOP6LffftOgQYP073//u1K4\\\n",
       "K0lt27bVQw89pKysrOpaMhJUPH/+AgAABEPACwAWE+ytxr6+/vprSVKPHj2qcEVA7K/L3377TStX\\\n",
       "rpQkjRgxotLjp556qlq2bKmSkhK9//774S8YtUawa/PDDz+UpEqVvYA//PwFAACJioAXACzmnXfe\\\n",
       "UXp6us4666yg4/bt26etW7dKooIIVS/W16Wr+q1hw4Y66qij/I7p1auX11jAn2DX5qFDhyRJy5Yt\\\n",
       "k9PprO6lwWL4+QsAABIVAS8AWMh3332nn376SWeddZYyMjKCjnWFXpmZmTrmmGOqY3mopariutyy\\\n",
       "ZYskqVWrVgHHuDa8co0FfIW6Nk8//XRJ0vz583XMMcfotttu04cffqjCwsLqXioSHD9/AQBAIiPg\\\n",
       "BQALCeftoa5fMLt166akJL7do+pUxXX5xx9/SJLq1q0bcExmZqYk6cCBAyZXitom1LU5ZcoUnX/+\\\n",
       "+ZIq/lDw8MMP66yzzlLDhg119tlna968edW0UiQ6fv4CAIBElhzvBQAAzJszZ47sdrvOO++8kGOj\\\n",
       "6f/33HPPafny5ZXud9334IMP+t0VfMKECerQoUPY54O1Vdd1CYQr1LWZlZWlOXPm6Mcff9T//vc/\\\n",
       "ffTRR1qxYoWKioq0cOFCLVy4ULfeeqv+9a9/VfPKkWiq6/vcP/7xD82dOzfs45577jmdeuqpYR8H\\\n",
       "AABqBgJeALCQbdu2qV69esrOzg45NpodvJcvX64XXngh4OMLFy70e//o0aMJeGuhqrgu69WrJ0k6\\\n",
       "ePBgwDGut9HXr1/f5EpR25i9Nl3tGW677TaVlpbqww8/1D/+8Q+tW7dOjz76qK655hq1a9euehaN\\\n",
       "hFRdP3+3b9+ujRs3hn0cbUUAAKjdeM8QAFjI4MGDtX//fr/VtZ6KiorcvyBGUkE0e/ZsGYZR6WPU\\\n",
       "qFGSpMWLF/t9vF+/fmGfC9ZXFddlmzZtJFWEKoG4HnONBXyZvTY9paam6txzz9WsWbMkSYZhaO3a\\\n",
       "tVW1RFhEdf38ffnll/3+fA31cfbZZ0f0vAAAQM1AwAsAFuLq/efqBRjImjVrVF5ertTUVHXq1Knq\\\n",
       "F4ZarSquS1cwsnfv3oCbqH311VeS2KUegZm9Nv1xbeInHe73jNqLn78AACCREfACgIWceeaZqlu3\\\n",
       "rt55552g41z9/zp37qyUlJTqWBpqsaq4Llu0aKETTjhBkvTqq69Wenz58uXatm2b6tSpo0GDBkW4\\\n",
       "ctR0ga5NwzBCHusK8urVq6eTTz65KpYHC+HnLwAASGQEvABgIWlpaRo4cKC2bNmiNWvWBBwXTf8/\\\n",
       "IFxVdV1OnDhRUsWmfq7QRKqo6r322mslSddff72ysrIiXTpquEDX5h133KFrrrlG33//faVjDh06\\\n",
       "pCeeeEK33HKLpIrrLyMjo9rWjMTEz18AAJDICHgBwGLMvE00mh28gUhUxXU5dOhQjRs3ToWFhTrx\\\n",
       "xBN1zjnn6MILL9TRRx+ttWvX6pRTTtG9994b7dJRw/m7NpcvX65nnnlGnTt3Vtu2bXX++edrxIgR\\\n",
       "6tevn1q0aKEbbrhBkjR16lT3HxMAfv4CAIBERcALABYzePBgJScnB/wF0+FwuKvSqCBCdamq63Lq\\\n",
       "1Kl6/fXXddJJJ2nFihV6//331aJFCz344INatGiR0tPTY7F81GD+rs1nn31WU6dO1ZAhQ5Senq7l\\\n",
       "y5frzTff1Nq1a9W+fXvdeeed2rhxo8aNGxe/hSPh8PMXAAAkquR4LwAAEJ4GDRro9NNP16JFi/Tz\\\n",
       "zz+rdevWXo+npKSopKSkSs49e/ZszZ49u0rmhrVV5XU5fPhwDR8+PBbLRC3k79rs0KGDOnToQICL\\\n",
       "sMTz5y8AAEAwVPACgAVFszM8UFW4LpGouDYRK1xLAAAgERHwAoAF8QsmEhHXJRIV1yZihWsJAAAk\\\n",
       "Ilo0AIAFtWzZUoZhxHsZgBeuSyQqrk3ECtcSAABIRFTwAgAAAAAAAIBFUcELAKhW2dnZuueee9Sm\\\n",
       "TZt4LwU1FNcYqhrXGKyI6xYAgJrLZvAeIwAAAAAAAACwJFo0AAAAAAAAAIBFEfACAAAAAAAAgEUR\\\n",
       "8AIAAAAAAACARRHwAgAAAAAAAIBFEfACAAAAAAAAgEUR8AIA3EpKSjRp0iSVlJTEeymohbj+EE9c\\\n",
       "f4gnrj8AABANm2EYRrwXAQBIDAcOHFBWVpYKCgpUv379eC8HtQzXH+KJ6w/xxPUHAACiQQUvAAAA\\\n",
       "AAAAAFgUAS8AAAAAAAAAWFRyvBcAwFt5ebm2b9+uevXqyWazxXs5qGUOHDjg9V+gOnH9IZ64/hBP\\\n",
       "XH+IJ8Mw9Mcff6h58+ZKSqIGDACsiB68QIL59ddf1bJly3gvAwAAAEAtsm3bNrVo0SLeywAARIAK\\\n",
       "XiDB1KtXT1LF/2CxyQaqm8Ph0AcffKCzzjpLKSkp8V4OahmuP8QT1x/iiesP8XTgwAG1bNnS/XsI\\\n",
       "AMB6CHiBBONqy1C/fn0CXlQ7h8OhjIwM1a9fn18wUe24/hBPXH+IJ64/JALawwGAddFgBwAAAAAA\\\n",
       "AAAsioAXAAAAAAAAACyKgBcAAAAAAAAALIqAFwAAAAAAAAAsioAXAAAAAAAAACyKgBcAAAAAAAAA\\\n",
       "LIqAFwAAAAAAAAAsioAXAAAAAAAAACyKgBcAAAAAAAAALIqAFwAAAAAAAAAsioAXAAAAAAAAACyK\\\n",
       "gBcAAAAAAAAALIqAFwAAAAAAAAAsioAXAAAAAAAAACyKgBcAAAAAAAAALIqAFwAAAAAAAAAsioAX\\\n",
       "AAAAAAAAACyKgBcAAAAAAAAALIqAFwAAAAAAAAAsioAXAAAAAAAAACyKgBcAAAAAAAAALIqAFwAA\\\n",
       "AAAAAAAsioAXAAAAAAAAACyKgBcAAAAAAAAALIqAFwAAAAAAAAAsioAXAAAAAAAAACyKgBcAAAAA\\\n",
       "AAAALIqAFwAAAAAAAAAsioAXAAAAAAAAACyKgBcAAAAAAAAALIqAFwAAAAAAAAAsioAXAAAAAAAA\\\n",
       "ACyKgBcAAAAAAAAALIqAFwAAAAAAAAAsioAXAAAAAAAAACyKgBcAAAAAAAAALIqAFwAAAAAAAAAs\\\n",
       "ioAXAAAAAAAAACyKgBcAAAAAAAAALIqAFwAAAAAAAAAsioAXAAAAAAAAACyKgBcAAAAAAAAALIqA\\\n",
       "FwAAAAAAAAAsioAXAAAAAAAAACyKgBcAAAAAAAAALIqAFwAAAAAAAAAsioAXAAAAAAAAACyKgBcA\\\n",
       "AAAAAAAALIqAFwAAAAAAAAAsioAXAAAAAAAAACyKgBcAAAAAAAAALIqAFwAAAAAAAAAsioAXAAAA\\\n",
       "AAAAACyKgBcAAAAAAAAALIqAFwAAAAAAAAAsioAXAAAAAAAAACyKgBcAAAAAAAAALIqAFwAAAAAA\\\n",
       "AAAsioAXAAAAAAAAACyKgBcAAAAAAAAALIqAFwAAAAAAAAAsioAXAAAAAAAAACyKgBcAAAAAAAAA\\\n",
       "LIqAFwAAAAAAAAAsioAXAAAAAAAAACyKgBcAAAAAAAAALIqAFwAAAAAAAAAsioAXAAAAAAAAACyK\\\n",
       "gBcAAAAAAAAALIqAFwAAAAAAAAAsioAXAAAAAAAAACyKgBcAAAAAAAAALIqAFwAAAAAAAAAsioAX\\\n",
       "AAAAAAAAACyKgBcAAAAAAAAALIqAFwAAAAAAAAAsioAXAAAAAAAAACyKgBcAAAAAAAAALIqAFwAA\\\n",
       "AAAAAAAsioAXAAAAAAAAACyKgBcAAAAAAAAALIqAFwAAAAAAAAAsioAXAAAAAAAAACyKgBcAAAAA\\\n",
       "AAAALIqAFwAAAAAAAAAsioAXAAAAAAAAACyKgBcAAAAAAAAALIqAFwAAAAAAAAAsioAXAAAAAAAA\\\n",
       "ACyKgBcAAAAAAAAALIqAFwAAAAAAAAAsioAXAAAAAAAAACyKgBcAAAAAAAAALIqAFwAAAAAAAAAs\\\n",
       "ioAXAAAAAAAAACyKgBcAAAAAAAAALIqAFwAAAAAAAAAsioAXAAAAAAAAACyKgBcAAAAAAAAALIqA\\\n",
       "FwAAAAAAAAAsioAXAAAAAAAAACyKgBcAAAAAAAAALIqAFwAAAAAAAAAsioAXAAAAAAAAACyKgBcA\\\n",
       "AAAAAAAALIqAFwAAAAAAAAAsioAXAAAAAAAAACyKgBcAAAAAAAAALIqAFwAAAAAAAAAsioAXAAAA\\\n",
       "AAAAACyKgBcAAAAAAAAALIqAFwAAAAAAAAAsioAXAAAAAAAAACyKgBcAAAAAAAAALIqAFwAAAAAA\\\n",
       "AAAsioAXAAAAAAAAACyKgBcAAAAAAAAALIqAFwAAAAAAAAAsioAXAAAAAAAAACyKgBcAAAAAAAAA\\\n",
       "LIqAFwAAAAAAAAAsioAXAAAAAAAAACwqOd4LAABUKCgoUFFRUVzX4HQ6JUm7du2S3W6P61oyMjKU\\\n",
       "lZUV1zUAAAAAAJDoCHgBIAEUFBRoxrRpcpSXx3UdSUlJ6tq1q/Ly8lQe57WkJCXpunHjCHkBAAAA\\\n",
       "AAiCgBcAEkBRUZEc5eW64K231GTPnritw5mWplWPPabcvDzZi4vjto7fGzfW28OGqaioiIAXAAAA\\\n",
       "AIAgCHgBIIE02bNHOTt2xO38jvR0SVLTnTuVcuhQ3NYBAAAAAADMYZM1AAAAAAAAALAoAl4AAAAA\\\n",
       "AAAAsCgCXgAAAAAAAACwKAJeAAAAAAAAALAoAl4AAAAAAAAAsCgCXgAAAAAAAACwKAJeAAAAAAAA\\\n",
       "ALAoAl4AAAAAAAAAsCgCXgAAAAAAAACwKAJeAAAAAAAAALAoAl4AAAAAAAAAsCgCXgAAAAAAAACw\\\n",
       "KAJeAAAAAAAAALAoAl4AAAAAAAAAsCgCXgAAAAAAAACwKAJeAAAAAAAAALAoAl4AAAAAAAAAsCgC\\\n",
       "XgAAAAAAAACwKAJeAAAAAAAAALCo5HgvAAAA1GwFBQUqKioKOc7pdEqSdu3aJbvdHnJ8RkaGsrKy\\\n",
       "ol4fAAAAAFgZAS8AAKgyBQUFmjFtuhzlzpBjk5KS1LVrV+Xl5am8vDzk+JQku64bdwMhLwAAAIBa\\\n",
       "jYAXAABUmaKiIjnKnbrgrbVqsudg0LHOtBSteqyrcvNWyl7sCDr298Z19fawLioqKiLghSmhKsnN\\\n",
       "VpBTOQ4AAIBEQ8ALAACqXJM9B5Wz44+gYxzpqZKkpjsLlXKotDqWhVqioKBA02ZMU7kjcGW42Qry\\\n",
       "pJQkjbtuHCEvAAAAEgYBLwAAAGq0oqIilTvKNeeCudrTZK/fMWnOOnpk1cN6MfdlFdtL/I5p/Hsj\\\n",
       "DX17CJXjAAAASCgEvECM7d27V3fccYc6d+6s66+/Pt7LAQAAf9rTZK925uzy+1i6I12StKvp7zqU\\\n",
       "cqg6lwUAAABEJSneCwD82bp1q2w2m/r16+d1f69evWSz2cL6aNKkSbWuvVGjRlqwYIHuvPNOORzB\\\n",
       "e0gCAAAAAAAA0aCCF5ZhGIZ69Oihzp07e92/ZcsWLVu2TJmZmRo2bFil4zp06FBdS3Q7//zzNW3a\\\n",
       "NC1atEgDBw6s9vMDAAAgsXlu/Odvkz829AMAAGYR8MIybDabZs6cWen+++67T8uWLVOfPn00e/bs\\\n",
       "6l+YH0OHDtW0adM0Z84cAl4AAAB4KSgo0Ixp0+Uorwh2/W3yl5Jk13XjbiDkBQAAIdGiAZb3zTff\\\n",
       "SJKOP/74mMw3evRo2Ww2LVmyJOI5Tj/9dDVs2FBz586VYRgxWRcAAABqhqKiIjnKnbrgrQO66pl9\\\n",
       "ys3bL0nKzduvq57ZpwveOiBHudNd4QsAABAMAS8s7+uvv5Yk9ejRI84rOcxut2vw4MHavn27vvzy\\\n",
       "y3gvBwAAAAmoyR6ncnaUqenOMklS051lytlRpiZ7nHFeGQAAsBJaNMDS9u3bp61bt0qKXQVvrAwd\\\n",
       "OlQvvvii5syZoz59+gQcV1JSopKSEvftAwcOSJIcDgebtNUiTqdTSUlJcqalyZGeHrd1uM4dzzVI\\\n",
       "kjMtreL1cDr5d2Bxh6/tFDnSU4OOdT0eapwkOdNSuEZgmus6THPWUbrD//e3NEea13/9jnHW4bpD\\\n",
       "TBz+3miXI92QI72i767rv840O9caqg3XGABYn83g/eNIQFu3btVRRx2lvn37Bm2VsGjRIp1xxhnK\\\n",
       "zMxUQUGBkpKiL0ofPXq0XnjhBS1evFj9+vWLeJ6ioiI1btxYrVu31vr16wOOmzRpkiZPnlzp/ldf\\\n",
       "fVUZGRkRnx8AAAAAQikqKtKIESNUUFCg+vXrx3s5AIAIUMELS3P13+3WrVtMwt1YysjI0Jlnnqm5\\\n",
       "c+fqhx9+UPv27f2Ou/3223XzzTe7bx84cEAtW7bUWWedxf9g1SK7du1SXl6ecvPy1HTnzritw5Ge\\\n",
       "rg9nzdKZY8Yo5dChuK1jV7NmysvNVW5urpo2bRq3dSB6h6/tlWq6szDoWEd6qj6c9TedOeYppRwq\\\n",
       "DT5vs0zl5Z7ANQJTXNfhi7kva1fT3/2OSXOkaeaHT2nsmX9TcUqx3zFNdzXR5XmXct0haoe/N+5X\\\n",
       "051lcqTb9eGsvjpzzFKlHHJqV7Nk5eVmc62hWrjeQQgAsC4CXlhaNP13n3vuOS1fvrzS/a77Hnzw\\\n",
       "Qc2ePbvS4xMmTFCHDh1MnWPo0KGaO3eu3n77bd12221+x9SpU0d16tSpdH9KSopSUlJMnQfWZ7fb\\\n",
       "VV5eLntxcVyDVZeUQ4fiug57cXHF62G38+/A4g5f246Qoa1LyqHSkGPtxQ6uEZjmug6L7SU6lBL8\\\n",
       "e1txSnHAMcX2Eq47xMTh741OpRw63G835VDFbXuxjWsN1YZrDACsj4AXluaq4I2k/+7y5cv1wgsv\\\n",
       "BHx84cKFfu8fPXq06YC3VatWkqRt27aFvT4AAADUbL83PtxzV5J2NUuWvdjmvh8AAMAMAl5YVlFR\\\n",
       "kTZu3Cgpsgre2bNn+63QjVUPXkmaN2+eJGnw4MFRzQMAAICaIyMjQylJdr09rKIdV1JSkrpKysvN\\\n",
       "Vnl5uSQpJcnOfgwAAMAUAl5Y1po1a1ReXq7U1FR16tQp3svx65133lH9+vU1YMCAeC8FAAAACSIr\\\n",
       "K0vXjbtBRUVFkiSn06lVq1YpNzdXdntF9W5GRoaysrLiuUwAAGARBLywLFf/3c6dOydk36jVq1dr\\\n",
       "69atuuiii5Samhrv5QAAACCBZGVluQNch8MhSWratGlC/n8tAABIbEnxXgAQqWj671aHOXPmSKrY\\\n",
       "aA0AAAAAAACoClTwwrJcFbyR9N+tDnPmzFFqaqoGDRoU76UAAABJjX9vFPCxNGcdSVLTXU1UbC8J\\\n",
       "+3gAAAAgXgh4YUkOh0Pff/+9pMSs4N26davWrFmjgQMHqn79+vFeDgAAtVpGRoaSUpI09O0hAcck\\\n",
       "JSVJXaXL8y51b3Lld1xKEhtfAQAAIKEQ8MKSUlJSVFLiv7omWrNnz9bs2bOjmoP2DADg7ffGdUOO\\\n",
       "caZV9J3c1SxT9mJH1PMBLllZWRp33Tj3hlb++Nvkyh82vgIAAECiIeAFqsCcOXNks9l0/vnnx3sp\\\n",
       "ABBXGRkZSkmy6+1hXUKOTUpKUldJebknBK2gdElJslNJCdM8N7Tyh02uAAAAYFUEvECM7d27V8uX\\\n",
       "L1fv3r2Vk5MT7+UAQFxlZWXpunE3BK2cdDFbQelCJSUAAAAAEPACMdeoUSOVlZXFexkAkDBCVU66\\\n",
       "UEEJAAAAAOFLivcCAAAAAAAAAACRoYIXCSk7O1v33HOP2rRpE++lAAAAAAAAAAmLgBcJKTs7W5Mm\\\n",
       "TYr3MgAAAAAAAICERosGAAAAAAAAALAoAl4AAAAAAAAAsCgCXgAAAAAAAACwKAJeAAAAAAAAALAo\\\n",
       "Al4AAAAAAAAAsCgCXgAAAAAAAACwKAJeAAAAAAAAALAoAl4AAAAAAAAAsCgCXgAAAAAAAACwKAJe\\\n",
       "AAAAAAAAALAoAl4AAAAAAAAAsCgCXgAAAAAAAACwKAJeAAAAAAAAALAoAl4AAAAAAAAAsCgCXgAA\\\n",
       "AAAAAACwKAJeAAAAAAAAALCo5HgvAABw2O+NG8f1/M60NEnSrmbNZC8ujts64v06AAAAAABgFQS8\\\n",
       "AJAAMjIylJKUpLeHDYvrOpKSktRVUl5ursrLy+O6lpSkJGVkZMR1DQAAAAAAJDoCXgBIAFlZWbpu\\\n",
       "3DgVFRXFdR1Op1OrVq1Sbm6u7HZ7XNeSkZGhrKysuK4BAAAAAIBER8ALAAkiKysr7oGmw+GQJDVt\\\n",
       "2lQpKSlxXQsAAAAAAAiNTdYAAAAAAAAAwKIIeAEAAAAAAADAogh4AQAAAAAAAMCiCHgBAAAAAAAA\\\n",
       "wKIIeAEAAAAAAADAogh4AQAAAAAAAMCiCHgBAAAAAAAAwKIIeAEAAAAAAADAogh4AQAAAAAAAMCi\\\n",
       "CHgBAAAAAAAAwKIIeAEAAAAAAADAogh4AQAAAAAAAMCiCHgBAAAAAAAAwKIIeAEAAAAAAADAogh4\\\n",
       "AQAAAAAAAMCiCHgBAAAAAAAAwKIIeAEAAAAAAADAogh4AQAAAAAAAMCiCHgBAAAAAAAAwKIIeAEA\\\n",
       "AAAAAADAogh4AQAAAAAAAMCiCHgBAAAAAAAAwKIIeAEAAAAAAADAogh4AQAAAAAAAMCiCHgBAAAA\\\n",
       "AAAAwKIIeAEAAAAAAADAogh4AQAAAAAAAMCiCHgBAAAAAAAAwKIIeAEAAAAAAADAogh4AQAAAAAA\\\n",
       "AMCiCHgBAAAAAAAAwKIIeAEAAAAAAADAogh4AQAAAAAAAMCiCHgBAAAAAAAAwKIIeAEAAAAAAADA\\\n",
       "ogh4AQAAAAAAAMCiCHgBAAAAAAAAwKIIeAEAAAAAAADAogh4AQAAAAAAAMCiCHgBAAAAAAAAwKII\\\n",
       "eAEAAAAAAADAogh4AQAAAAAAAMCiCHgBAAAAAAAAwKIIeAEAAAAAAADAogh4AQAAAAAAAMCiCHgB\\\n",
       "AAAAAAAAwKIIeAEAAAAAAADAogh4AQAAAAAAAMCiCHgBAAAAAAAAwKIIeAEAAAAAAADAogh4AQAA\\\n",
       "AAAAAMCiCHgBAAAAAAAAwKIIeAEAAAAAAADAogh4AQAAAAAAAMCikuO9AAAAarOCggIVFRXFexkJ\\\n",
       "wel0SpJ27dolu90e59UkhoyMDGVlZcV7GQAAAAASGAEvAABxUlBQoBnTpslRXh7vpSSEpKQkde3a\\\n",
       "VXl5eSrnNZEkpSQl6bpx4wh5AQAAAAREwAsAQJwUFRXJUV6uC956S0327In3cuLOmZamVY89pty8\\\n",
       "PNmLi+O9nLj7vXFjvT1smIqKigh4AQAAAAREwAsAQJw12bNHOTt2xHsZcedIT5ckNd25UymHDsV5\\\n",
       "NQAAAABgDWyyBgAAAAAAAAAWRcALAAAAAAAAABZFwAsAAAAAAAAAFkXACwAAAAAAAAAWRcALAAAA\\\n",
       "AAAAABZFwAsAAAAAAAAAFkXACwAAAAAAAAAWRcALAAAAAAAAABZFwAsAAAAAAAAAFkXACwAAAAAA\\\n",
       "AAAWRcALAAAAAAAAABZFwAsAAAAAAAAAFkXACwAAAAAAAAAWRcALAAAAAACAatOuXTvZbDa/Hx98\\\n",
       "8EG8lwdYDgEvAAAAAAAAqs1//vMfSdLKlSu1Y8cOffHFF+7bZ5xxRjyXBlgSAS8AAAAAAACqze7d\\\n",
       "u5WZmamePXuqWbNm2rlzp/u23W6P9/IAyyHgBQAAAAAAQLVZu3atOnXqJJvNJkn69ttv1blzZ/dt\\\n",
       "AOEh4AUAAAAAAEC1+e6779SlSxf37TVr1njdBhAeAl4AAAAAAABUm7Vr16pz585etwl4gcgR8AIA\\\n",
       "AAAAAKBalJWVacOGDe5A1zAMbd68Wa1atYrzygDrIuAFAAAAAABAtfjhhx9UWlrqruC12Wzq3Lmz\\\n",
       "rrnmGv30009xXh1gTcnxXgAAAAAAAABqh44dO8owDK/7vv766zitBqgZqOAFAAAAAAAAAIsi4AUA\\\n",
       "AAAAAAAAi6JFAwAAAAAAAKqFzWYzNc63jQOAwAh4AQAAAAAAUC0IboHYo0UDAAAAAAAAqs0DDzyg\\\n",
       "Xr16qV69emratKmGDx+urVu3xntZgGUR8AIAAAAAAKDaLF26VDfccIO++OILLViwQPn5+TrnnHNU\\\n",
       "VlYW76UBlkSLBgAAAAAAAFSbBQsWeN2eOXOm2rZtq3Xr1qlr165xWhVgXVTwAgAAAAAAIG4KCgok\\\n",
       "SQ0bNozzSgBrIuAFAAAAAABAXDidTt16660aNGiQWrRoEe/lAJZEiwYAAAAAAABUO8MwdM011+iX\\\n",
       "X37Rp59+Gu/lAJZFwAsAAAAAAIBqZRiGrr32Wn300UdatmyZmjRpEu8lAZZFwAsAAAAAAIBqYxiG\\\n",
       "rrvuOr333ntaunSpWrZsGe8lAZZGwAsAAAAAAIBqc9111+m1117TvHnzlJ6erp07d0qq2GQtNTU1\\\n",
       "zqsDrIeAFwAAAAAAANXmqaeekiSddtppXvcvXrxY/fr1i8OKAGsj4AUAAAAAAEC1MQwj3ksAapSk\\\n",
       "eC8AAAAAAAAAABAZAl4AAAAAAAAAsCgCXgAAAAAAAACwKAJeAAAAAAAAALAoAl4AAAAAAAAAsCgC\\\n",
       "XgAAAAAAAACwKAJeAAAAAAAAALCo5HgvAAAAAAAAADVLcXGxduzY4fWxf/9+lZWVeX1IUnJystdH\\\n",
       "dna2cnJyvD7S0tLi/IyAxEXACwAAAAAAgLA4nU5t2LBBq1at0vfff6/t27e7g9zfdvyign2FSrLb\\\n",
       "lNU0XfVy7Krb3FDdbIeSUgzZUsplSy5XUlKSGm4ZqL0tP5S9vFzljiSVO2wq2Z+iA9tt2r/Dqf27\\\n",
       "DsnpNJTVIFPNcpqqeU4LHZnTUs2bN1enTp3Us2dPdejQQXa7Pd4vCRA3BLwAAAAAAAAIqKyszB3m\\\n",
       "uj5Wr16tcpWpRfcsZXUpU8qxB5Xar1StcqTjm0t1c6T0xoaS7EXueRr6zJvkqKOO74/VukGLlJFS\\\n",
       "6vFIifuzbKf0xx5p/45C7d9eqP07Nmn/Dmn9rw204Olk/bB6v5JsdnXv3kM9e/ZSz5493aFvcjKx\\\n",
       "F2oHrnQAAAAAAAC4ORwOLVu2TO+9954+//xzrV79jQyboZY9Gim7p6Hkq/fo1J4OteogJdl/r3R8\\\n",
       "ZgzXkmSXsppWfLTufvj+BtonSXKWSb9ucOinVZ9p89dfacXMJlp37V7JsKl79x468cQTde655+r0\\\n",
       "009XSkpKDFcGJA4CXgAAAAAAgFouPz9f8+fP17x58zR//nyl1LWr3eCGKvnbZp3e01C9YyWbfbvX\\\n",
       "MUlxWqsne7LUunPFxxmjHMrUdjmd0raN0uZV67T+k90aedlsFReV6+yzz9aQIUN0zjnnqEGDBvFe\\\n",
       "OhAzBLwAAAAAAAC10I8//qh58+Zp7ty5+vTTT3VE5/pqMKRYnW8tUv3jJVtSRZVsLCtyq4PdLrXp\\\n",
       "KLXpWKABlxXob+XSj19L389dpQf/tUKjRo3SqaeeqvPOO09DhgzR0UcfHe8lA1Eh4AUAAAAAAKgl\\\n",
       "tm/frry8PL3yyivatGmTOvRvq5LhW9X5xTLltMoPa659ksKpg81X5T681SEpSTqpl3RSr5905T+l\\\n",
       "Hb9In7z7ud6Zu0633z5B7dodrZEjRyo3N1fNmzePwwqB6CRCNT0AAAAAAACqiNPp1Hvvvafzzz9f\\\n",
       "bdq00X8/eVVNJ5Wq655SpS/YoOxri1WnVezOVxjm+LoB7q+qMDinlTT82mJNX7BbK/c4dO2kzVr8\\\n",
       "yatq06aNhg4dqvfee09Op7OKzg7EHgEvAAAAAABADZSfn6+HHnpIRx11lMZcPUb53bapxQ8O1Vmw\\\n",
       "ToeGb5K9nrl5wg1sq1qgquFIWklk1pMGDS/RswvW6aMfHGrX5RdddVWujjrqKD388MPKzw+vqhmI\\\n",
       "B1o0AEAtUFBQoKKiopDjXH+l3rVrl+x2e8jxGRkZysrKinp9AAAAAGJn3bp1mjZtml566SW1PaG1\\\n",
       "jpxaR3vO26ZdybuDBkHxaqFQ1cw+pxZtpOvu/UZX3yMtnltHr0zN0+TJk3XZZZdp3Lhx6tixY1Uu\\\n",
       "E4gYAS8A1HAFBQWaMX2aHM7ykGOTkpLUtWtX5eXlqbw89PgUe5Kuu2EcIS8AAACQANavX6877rhD\\\n",
       "8+fPV84lDdTk00Mq6b5eJZJsHuNqapAbrkAVv8nJ0vC/lmj4Xzdo7Wqbnpu2Uj179tQ555yjKVOm\\\n",
       "qEOHDtW6TiAUAl4AqOGKiorkcJbrguVvqUnBnqBjnalpWtX1MeUuzJO9tDjo2N+zGuvtU4epqKiI\\\n",
       "gBcAgCBCvZPG7DtoeOcMgEC2bdumyZMn65VXXlG3MR2VtaVYJc12BOxtC/O6dDc0ddbXmjhFevTe\\\n",
       "FerRo4dGjhypSZMmqUWLFvFeHiCJgBcAao0mBXuUk78j6BhHnXRJUtN9O5VScqg6lgUAQI1WUFCg\\\n",
       "GdOekKO8LOAYs++gSUlK1nXjrifkBeCWn5+vBx54QDNmzFCH849W/bXF2nb013L9qeigAm9gFnBO\\\n",
       "+a/uLZT/itd9CtwT16r8PZ+mzaSHZ+zSzddJkye/q/btX9X111+vCRMmqGFD6qERXwS8AAAAAFBF\\\n",
       "ioqK5Cgv0wVvtVCTPXX8jnGmSasek3LzjpI9wBtofm9coreH/co7ZwBIqvjeMnXqVD300EPKOTFH\\\n",
       "mZ8e0q4ea8MKeWpam4ZA7RYCPcdINmSTpKOPll56aZe++Ua6864X1Lbts7rtttt04403KiMjI8JZ\\\n",
       "gegkxXsBQE2zd+9eXXPNNXriiSfivRQAAAAkiCZ76ihnR7rfj6Y7/3wHzU7/j+fsSA8YDgOoXcrL\\\n",
       "y/Xss8/q6KOP1sy3n1XJ239o64IN+qNH4GMOVt/yaoRg1ciZpYc/79FDeu/d3Xrj9T/0v/89qqOP\\\n",
       "PlrPPvusqb1MgFgj4EWNsXXrVtlsNvXr18/r/l69eslms4X10aRJE6853nzzTfXr108NGjRQ3bp1\\\n",
       "1a1bNz388MNyOByV1tGoUSMtWLBAd955p9/HAQBA/BUUFGjHjh3uj127dkmq6IHqeX9BQUGcVwoA\\\n",
       "QIWffvpJ/fr1090P3q1903dr+xdbpf6Hw8T8COYMdEwkc1WXRGsH0b9/uT5dvldTH9ytBx+4Tf37\\\n",
       "99emTZvivSzUMrRoQI1mGIZ69Oihzp07e92/ZcsWLVu2TJmZmRo2bFil4zx3xBw/frymTp2q5ORk\\\n",
       "DRgwQJmZmVq0aJFuu+02zZs3Tx988IHS09O9jj///PM1bdo0LVq0SAMHDqyaJwcAACLirydqoB6o\\\n",
       "9DwFAMRbeXm5nnjiCd0+8XbZc5NVOv+AbHUlWxhzRNKL159AfXijHVtVYtmewbN611dKiXThUKfO\\\n",
       "/st+TZi0St26ddUDDzyo6667TklJ1Fai6hHwokaz2WyaOXNmpfvvu+8+LVu2TH369NHs2bMDHj9n\\\n",
       "zhxNnTpVmZmZWrp0qY4//nhJ0p49ezRgwAAtX75cd911lx555BGv44YOHapp06Zpzpw5BLwAACSY\\\n",
       "wz1Rj1WTPRW98pxpxp89ULvKXlzxK/PvjYv09rCN9DwFAMTNpk2bNGbMGK3btk4l75bJ1q88aJBT\\\n",
       "0/rqVrdoq4MzM6UnHjmoYUOkK66frLfeekvPP/+82rVrF5P1AYHwZwTUSt98840kuQPbQKZMmSJJ\\\n",
       "mjBhgtfYxo0b68knn5QkPfHEE5Xevnn66aerYcOGmjt3rgzDiOXSAQBAjDTZk6GcHZnK2ZGppjsr\\\n",
       "anma7sx03+cKfwEAqG7l5eWaPn26unbrqi+6rNS+b/+QrV9FhFOmtIjmDNSLNxbtGPbFYI5oVHWl\\\n",
       "cLDq3WQ/m2P2P136dsVedTrqR3Xr1lXTp0+nNy+qFAEvaqWvv/5aktSjR+BO9L/99ptWrlwpSRox\\\n",
       "YkSlx0899VS1bNlSJSUlev/9970es9vtGjx4sLZv364vv/wyhisHAAAAANRkmzdv1oABA3T3v+9R\\\n",
       "8TyHnE8YsmV6N2QIFvLGqn9uvPvwVlUlcqAwOFD1brBwN5h6DmnGpO2aN7NI/37kbg0Y0F+bN2+O\\\n",
       "bDIgBFo0oNbZt2+ftm7dKil4Ba+ryrdhw4Y66qij/I7p1auXtm3bpm+++UaXXHKJ12NDhw7Viy++\\\n",
       "qDlz5qhPnz4Bz1NSUqKSkhL37QMHDkiSHA4Hm7QhJpxOp5KSkuRMTZOjTnrQsa7HQ42TJGdqWsW8\\\n",
       "TifXaoTcX5u0NDnSQ7/mNZ3rNeC1qOBM499YVTn8b8+QI73inTa+/5Uq2jbwNUC0Dl9vkiPAtzfX\\\n",
       "/YEelyRnmrgeUSW4nhLLG2+8odwrclV8uU3l76YrOdMe7yVVkgi9dc2ojlYV/qp3ffU/WVo7f7/+\\\n",
       "8cBydevWRbNmzdb//d//Vf3iUKvYDN4/jhpi69atOuqoo9S3b18tWbIk4LhFixbpjDPOUGZmpgoK\\\n",
       "CgI2PJ8+fbrGjRun7t27u8NeXzfeeKOmTZumCy+8UG+++abXY0VFRWrcuLFat26t9evXB1zPpEmT\\\n",
       "NHny5Er3v/rqq8rI4K2hAAAAAKpOUVGRRowYoYKCAtWvXz/ey6m1ysvLdc899+iRaY+o+OU60nl1\\\n",
       "3I8l60DA45LlP2EMFm4G2mzN3zHhbFLmrwLW3zjPOZMc6er4/mv6edAlMlIOmTp3JOcJNTbQvFLg\\\n",
       "Ct5g4a4tQM+KeR9Jl96UrBvH365JkyaxARtihgpe1DqusLZbt25Bv5n+8ccfkqS6dQPvNZqZWfGj\\\n",
       "wVV16ykjI0Nnnnmm5s6dqx9++EHt27f3O8ftt9+um2++2X37wIEDatmypc466yz+BwsxsWvXLuXl\\\n",
       "5Sl3YZ6a7tsZdKyjTro+vGeWzpw8Riklh4KO3dWgmfIG5io3N1dNmzaN5ZJrDffXJi9PTXcG/9rU\\\n",
       "Bo70dH04a5bOHDNGKYeCX3+1wa5mzZSXy7+xqnD4315Xd+9dR7qhD2cd1Jlj6irlUMXbYHc1K1Re\\\n",
       "7rd8DRCVw9fbUWq603+JriNd+nBWss4cU6aUAN/+djU7pLzcLVyPiDl/v8ugehUWFuqSyy7R4rVL\\\n",
       "VfxZhtQx+qgmVputJdqmbVFvghbmvJG2ZwjkvL9In71cpiE3TNF3a7/Riy+95s4VgGgQ8KLWMdN/\\\n",
       "N1aGDh2quXPn6u2339Ztt93md0ydOnVUp06dSvenpKQoJSWlqpeIWsBut6u8vFz20uKQoa1LSsmh\\\n",
       "kGPtpcUV89rtXKsRcn9tiosJND2kHDrE6yHJXsy/sapy+N+ezR3muqQcOnyfvdjG1wBRO3y9KWB4\\\n",
       "65JyKPAYe7G4HlEluJ7ia8uWLRp4/tn66YhfZXyZITWsXIRUpvoBq3jLlBawijdQOHtQ/qt4Ey3M\\\n",
       "NSse8Wgk1buSpINSx6OlL19zavgt7+nkk47X3HkfqE2bNrFeImoZasFR67gqeIP135WkevXqSZIO\\\n",
       "Hgy012jFX1olBay0bdWqlSRp27ZtYa8TAAAAAFBzLVmyRF1P6KYf+++WsaCF33DXpUyB390ZbMO1\\\n",
       "qlLo5z5/uaa/cdXBX1BdHdW7QcNdDw2zpflPG+rX7Ued0KuLli5dGv7JAA8EvKhVioqKtHHjRkmh\\\n",
       "K3hdf0ELFs66Hgv017Z58+ZJkgYPHhzmSgEAQFX7vXGRduQUakdOoXY1q/gVdFezQvd9vzcuivMK\\\n",
       "AQA11dNPP60zzz1LhQ9mSFObSsk2hWpAEEnImx9gfOAyJvNz1FaBqndDhrs+L3pKijRtojTlhkIN\\\n",
       "OucveuaZZ2KyPtROtGhArbJmzRqVl5crNTVVnTp1CjrWFQDv3btXW7Zs0VFHHVVpzFdffSUpcDXw\\\n",
       "O++8o/r162vAgAFRrhwAAMRKRkaGUpKS9fawje77kpKS1FVdlZf7rcrLy933pyQls+kpACBmysvL\\\n",
       "NX78eD35n2fkXNhMOtX3Z0wD+a+FrR5WbdMQqerqvRssUR/7f1KHxmUadvt1+v777/X444+z+RrC\\\n",
       "RsCLWsXVf7dz584he021aNFCJ5xwglauXKlXX31Vd9xxh9fjy5cv17Zt21SnTh0NGjSo0vGrV6/W\\\n",
       "1q1bddFFFyk1NTV2TwIAAEQlKytL1427XkVFhyt0nU6nVq1apdzcXNntdvf9GRkZysrKiscyAQA1\\\n",
       "jNPp1JVXXqkXl7+m8pUtpNaBficNHPJG0o833F68Vc3KIXJE1buhyqXzpdO6SV8+49RfbpqhwsJC\\\n",
       "zZw50+v/R4BQ+JMAahWz/XddJk6cKEl68MEH3eGwVFHVe+2110qSrr/+er+/+M2ZM0dSxUZrAAAg\\\n",
       "sWRlZSknJ8f90bRpU0lS06ZNve4n3AUAxILD4dBll12mFz5/XeVL20utg7djiCd/LRn83Rev/rqe\\\n",
       "/PXVDaf/rt85A1TvBttYLWIeL2ybHGnZE+X6bNFsXX755SorK6uCE6KmooIXtYorpA3Vf9dl6NCh\\\n",
       "GjdunKZNm6YTTzxRZ5xxhurWrauPP/5Y+/fv1ymnnKJ7773X77Fz5sxRamqq3+peAAAA1C6/Ny4J\\\n",
       "+JgzTZLqaVezQ7IHCBCCHQ8gsZWWluriiy/W2z8tkJYeIx0R/N2kFYJX8UryW8lrlSreSMQ6Eo/V\\\n",
       "fBFX7/pJzZs3lpZON/SX8a/qoouK9dprr/GOYJhCwItaw+Fw6Pvvv5dkvoJXkqZOnapTTjlFM2bM\\\n",
       "0IoVK+RwONSuXTtNmDBBN910k99vtlu3btWaNWs0cOBA1a8fuBE+AAAAarbDPZ9/DTjmcA/oLV49\\\n",
       "oH3RExqwHofDURHubl0gLW4vNfKMYVx1pYFqYSPrxxtuyBtL+xT7ILY6hVu9G1VrhgCOaCAtfkA6\\\n",
       "c+L/dMn5J+j1eauUnEx8h+C4QlBrpKSkqKQkssqH4cOHa/jw4abH054Biej3rMYhxzhTK3bf3dWg\\\n",
       "meylwd+DZGY+AABqO389n30F6gHti57QgLU4nU5dfvnlFZW7lcJdsyLrxxstf2GwFXrnmm3PUOUh\\\n",
       "dJiVu74a1Zc+nCL1v+1bXT68v156cwk9eREUAS9QBebMmSObzabzzz8/3ksBKiqH7El6+9RhIcdW\\\n",
       "VBBJeQNzg1YQuaTYk6gkAgAghKysrKDBrMPhkFTRAzrURsAArKG8vFxXXnmlXl89r6ItQ9BwN1PB\\\n",
       "O9qGX8kbThVvIrZpMBMkh9NX14yYVu9G489LwRXy9rvtU429/Hw999JcJSWxlRb8I+AFYmzv3r1a\\\n",
       "vny5evfurZycnHgvB6ioHLphXNDKIRezFUQuVBIBAAAAlY0fP14vLv+vjKXHS0ek/XlvsNLNyELe\\\n",
       "qqziNaNQoYNWM2MSVdjhbqi2DKGqd30ugaYNpI8fMHT6P+brputzNfXJF0JMgNqKgBeIsUaNGrHb\\\n",
       "JRJOqMohFyqIAAAAgOg89dRTevI/M1W+spfUPM3jkYaKLuT1L1DIG20Vr9XaNETTniFQ9a4/EVfu\\\n",
       "hhnuujRvJH00pVy9b3xRx3XqqWuuGxfhAlCTUdsNAAAAAAAQA0uWLNG4W2+U83+dpdbpfkaEikeD\\\n",
       "1boG7hxbpsTZ3LuqOhdUt0DVuwFF03c3RK7fpqn0vxulW269RUuXLg1zYagNCHhRY2RnZ+uee+7R\\\n",
       "6NGj470UAAAAAEAts2XLFp134fkqm3aMdGqwbbyqJuT1p0xpfu/3lzeG6i4QT7HaFC0u1btRhrvK\\\n",
       "r/g49Vhp6qVlGnbBYG3ZsiWChaAmo0UDaozs7GxNmjQp3ssAAAAAANQyf/zxh84aco4KRzaRrjhW\\\n",
       "kbRa8BasXUN4/XgDtWoww0xLhnj02DVzvmjWFFb1bjTJeJiXyZX9pW9/KdT5gwdqxRdfKzPTqt2N\\\n",
       "EWtU8AIAAAAAAESovLxcIy4fqU3N9kmPdv7z3lDBW0NF183Wf01roFYN/ip5I63iDVWQGg9mXslq\\\n",
       "r979s/I2IJOVu77+fal0hO0nXX7pCJWXl4e5KNRUBLwAAAAAAAARmjRpkuavXSLj9ROkZM+YxUx1\\\n",
       "ZbBoMtPkHFUrEQPdquSvejdguBtp9a6ZcDeAZLv0+g2Gvv38fU2ePDnCBaCmIeAFAAAAAACIwBtv\\\n",
       "vKEHpj4s59zeUsNUPyOiDXmDiV8Vb6LzfdXNVu+GFe4GE23lbgiNyqR3rnTq8X8/rDfffDOclaGG\\\n",
       "IuAFAAAAAAAI0+bNm5V7xRiVvdxD6ug/VK1gphI30kre8ELeSPlmjr63fTPLSDJRs+Jf06yKFDxQ\\\n",
       "El7F4a7rxe2UI708slhjckdr8+bNJg5ETUbACwAAAAAAEIby8nKNzh2t4stbS+d1jNGsVV/Ja7aK\\\n",
       "N9ai3XIuGN9XzdQGbFVVvVtN4a7LeV2ky3oWa0xuLv14azkCXgAAAAAAgDDMmDFDK7d9r/KHev55\\\n",
       "TwMFCloPi0Ulb/T8hby+EqlNQ6hXtaqPryTOlbu+Hj6/XD9v+FJPPvmkiUlQUxHwAgAAAAAAmLRp\\\n",
       "0yZNuH2Cimf1kTJTIpihKkJe/wGz2VYNZvLFmrLZWpVU70Ya7uaHOFaqCHaDrCWzjjTr4mJNmHCb\\\n",
       "Nm3aFGIy1FQEvAAAAAAAACaUl5drzJgxKhvdTuqX42eEmUpeqToreSNt1RCqijdUH95IhdOoIpL2\\\n",
       "DGb4DXcD9d2NpnI3FJMhc//m0qjuZRozZgytGmopAl4AAAAAAAATnnjiCa3b9qNKH+weYmQsWjY0\\\n",
       "VOC4M76brsVLuAGu76thtno3JmJRuRvGeR46q1TbNn6tGTNmmDwQNQkBLwAAAAAAQAg//fSTbp84\\\n",
       "UXtmnSZlNjV5VMw7wHoIL+T1FUkVbzhtGsLdnyweTLdmCFS5G+gFCRXuBhOiJYPXOTzOk1lHmjWk\\\n",
       "ULffPoFWDbUQAS8AAAAAAEAQrtYMttzOUr9WYR4di0reYMeaO6fZVg3hiLQvb1X08/V9JcxU7/oy\\\n",
       "He4GE224G8U5+rWTRve00aqhFiLgBQAAAAAACOK5557TD79u0cEH+3jcG6yFgi+zLRsCiV1P3lDC\\\n",
       "7cXrKVZ9eM0Ip1evP77Vu2GFu1VVuRuKT9WuPw+ecVDbNm/U888/b2JC1BQEvAAAAAAAAAEUFRVp\\\n",
       "0qRJ2vNwT6luqp8R4Qa9wcQy5PVfxetbyRtuFa9vTlkV1bgukTa4iKR617RYh7vhtGQwIbOO9FCv\\\n",
       "PbrnnntUVFRk7iBYHgEvAAAAAABAAFOnTlVpi3Q5hx0dYmR1hbzhbLwWWUQaTRVvINFW9wZ7VcKt\\\n",
       "YY64ercqKndDMVG163WufOnCY5w6MjtV06ZNi/LksAoCXgAAAAAAAD/y8/P10EMPad+DvSSbzcQR\\\n",
       "Zqt5Q7VsCNWXNxyh+/FGW8WbSGJSvRuLvhTBNmGTzFXuhpOKe5zLZpMe7LpNDz74oPLzE/mrhVgh\\\n",
       "4AUAAAAAAPDjgQceUJ0+rVU+oKPCC1zDCXqDCXTOQPMHCoZDV/L6hryRxoKemaTZPcPCFU3/3ZDV\\\n",
       "u4Eqd/29IJGWJZsJdsOs2vV1Ruty9W7fTA8++GB4a4MlEfACAAAAAAD4+PXXXzVjxgztfvAkj3vD\\\n",
       "raytypDX7Pz+z+NbxVtxX+BKXt/cMz/A59UtaOsGn+pdU60ZzIqmcjeSecM9j6QHO27UE088oV9/\\\n",
       "/dXkpLAqAl4AAAAAAAAfkyZNUv3zu0o9cvw8Gk7QG6uWDeHMb259/kJeT1Z7c384HYej6rsbLNwN\\\n",
       "JFYtGUwEuy7HN5WGdKyvyZMnmzsAlkXACwAAAAAA4GH9+vV65ZVXtOve3iFGhhPyRlvNG4tK3uj6\\\n",
       "8cZiszWzPFcaSTfiUNW7lVR1uBuM2ZYM4SbuhdJ9HXbp5Zdf1oYNG8I8GFZCwAsAAAAAAODhjjvu\\\n",
       "UMcxZ0pHNzIxOtxq3lBhbCw3X4usH6+nYJlioDYNkbamNRNTe46JdBs60313fcU63A0n2DUb7hbK\\\n",
       "a96js6TcHlm64447TE4AKyLgBQAAAAAA+NO6des0f/58fX1XH4XX4zaWbRtCtWwINGegdg3+5j+s\\\n",
       "Kqt4q2qjNV9eFb/hVu/6ikW4G6olQ6yD3SBz3tV+l95//32tX78+jMlgJQS8AAAAAAAAf5o2bZo6\\\n",
       "XnKm1MwVeoYT8krmg95oqnmDnSP2IW8i9uL1fEbBovCQG6sF2z3OJZJwN5hQ4W4kwW6QOXPqShd3\\\n",
       "baBp06aFMSmshIAXAAAAAABAUn5+vl566SV9c2NHn0fM9tD1FKu2DZH05TUb8noLtumaZ954MMD9\\\n",
       "oTLJSFs3uJj5CvhW73qKWbgbLICNtiVDDINdTze22akXX3xR+fmJGNcjWgS8AAAAAAAAkmbOnKnW\\\n",
       "J3SS0e3IACMaKrywN1ZtG4K1bIgm5A3eBiJYq4ZQog1zXSLtsyuFaM1gptdEOE8i2pYMkfTZDUP3\\\n",
       "xoZ6tczWc889F96BsAQCXgAAAAAAUOs5nU7NmDFDm2/sYfKIqgh6Y92yIfyQN5Iq3uoWqD1DWNW7\\\n",
       "nsyGq+G2TpBCh7Ex6rMb1J/h843N92rGjBlyOp0RTIJERsALAAAAAABqvQULFqjY6VDJeceFeWSs\\\n",
       "N2KLdcsGM+sLPKeZKt5Yv+nf32rCbZDhWb0bsjWDL3+hbCSbqcWqHUOhwq/a3adKaxtyRInKSg5p\\\n",
       "4cKFYUwEKyDgBQAAAAAAtd7MmTNVPuYUKTlwBWtgkbRuMDunP+G2bPCdJ3jQHM2Ga/4eD7XnWKTM\\\n",
       "VO+G3Xc3UM9df6JtyRBKBK0YggXOyUlSbptyzZw5M8xJkegIeAEAAAAAQK22fft2vf/++9p7Re8/\\\n",
       "76nr8REus0FvLNo2RBPy+pvr8HzBWjW4mCmEjTUzr1jA3rvVEe7GoiVDjINdT1ccsVfvvfeeduzY\\\n",
       "EeYJkMgIeAEAAAAAQK2Wl5enYwb0kdo09vNopGFvuEFvsOgyVDVvoHlDzWO+kjdQFe9BP/fFitkN\\\n",
       "1jyrd4O2ZvAUabgbKEiNVa/dKgp2XY7KlPp3PUZ5eXlhngiJjIAXAAAAAADUaq+88oo2jelqYmRV\\\n",
       "VvRKkQe9gVo2mI1IfeeKTL7Pf2Ml0DMOi2f1rtkN1XxVZa/dcKp2/fTXNS1fGqNNevnllyM4GImK\\\n",
       "gBcAAAAAANRaP/74ozZt2qSSczqaPKKqK3olcxux+eMv6PUXGvvryes7TwUzVbzVxd+rYqp6N1gv\\\n",
       "CbMbqkUS7oaq2g1387RIQ12ftZyTXaKffvpJP/30U4STIdEQ8AIAAAAAgFpr3rx5atv/BKleegRH\\\n",
       "RxL2xqpHr9mw2Ozxvucz3483VC9e6XAu6coyqzIgDhruhrtLXCQtGcwGu2ZEWa3rby31k6X+ndpq\\\n",
       "3rx5EUyKRETACwAAAAAAaq158+Zp65AuCq/C1p9Ig95Q5wwW9IbTssFMJW9grpC3TGnuSl5/GaZv\\\n",
       "mwazOaZrJWZaL/gb46reNd131zdk9RfKxjrYdR1vVgyqdQMZYvxMwFuDEPACAAAAAIBaad++fVq+\\\n",
       "fLmKBx/vca/Z4DWQqqrqraqg19/Ga57Hm2OmijccrlU09LntuSLP9gx+Beq7ayZkDTdcNRPsmj1v\\\n",
       "JBW7Aap1AxmcVaxPPvlE+/ZFmiIjkRDwAgAAAACAWmn+/PnK6dxeatUkwIhYhb1mmW3dEM3xZoRu\\\n",
       "1RCsirc6+Ou9G7A1Q7BwN9rK3Vi1Y6iGUNdT63SpU6scLViwIPyDkXAIeAEAAAAAQK00d+5c7T2v\\\n",
       "q8nR1VXVayZUDreaN3aVvMH68boyVd82DVXJc2O1SgvxXUSozdT8haxVGexGUq0bRajrpVA6z75X\\\n",
       "c+fOjXIiJAICXgAAAAAAUOuUlpZq/vz5KhrSM8wjGyq6yt5wqnqjDXp9BQp6g83veaw3s1W84bSd\\\n",
       "9RSoPYO/1gxBe+/6Y7Zq18yxvseYDXbNimGo67m+IelFmj9/vhwOR5QTI94IeAEAAAAAQK3zySef\\\n",
       "yJ6ZLh3fNsqZIg17I6nqDSRQ0Gt2TeFV8vqr4jWTPca622vQ1gyegai/DdWCLSySqt1YB7uxCHUL\\\n",
       "VSnU9dQzU8pITtInn3wSxUmQCAh4AQAAAABArfPee+/JcW5vKam+glexhqOqw14zQa+ZY8xU8gYK\\\n",
       "eSu4Ql5XFa9LLNo0+HsWwap3K508GM8FBWrJ4O+Y6g52IxEi0PWVZJMG13Po3XffjfCESBQEvAAA\\\n",
       "AAAAoNb5/PPPdfC04zzuyfT5iFa0Ya+Zuf0JVs0bKug1066hcj9e31YNZnJWfyo3gQi8okrVu/76\\\n",
       "7oaq3PVlZgM2z7HBQtRw+utGW61rdiM3P05NOagvvvgiwhMjUSTHewEAAAAAAADVqaysTN+sXi2j\\\n",
       "5xVBRvlGi5F2kpW8g1WzKZ4r5A0Wl7rm9Tena/2+6/Z3TAMdTiIzPY7xHet6zHO8OYU+KwoVoQeL\\\n",
       "xf1urObiGe763uditmrXHzPVumZE23ohRnpmGlr9zTdyOp2y2+2xmxjVigpeAAAAAABQq2zYsEFG\\\n",
       "kk06tkUYR8Wqwjfcyl4z7Rsirej15FvJ69uX15d3P15/G65FuyeY78o82zPY9vmp3g23EbC/ytdA\\\n",
       "lbTBqmTNVutGU6kbRuuFcHQ4JKnMoQ0bNsR2YlQrKngBAAAAAECtsmrVKjXq3kHbo6pYjEWFb7iV\\\n",
       "vaGqeoPN51mZ6zveNdYVpQaq5s2Xdx1u4Ereg3+u1jWz60z75L8Vg+cq/X7+Z7hbqXrXN9w1W7nr\\\n",
       "L9j1J9qK3WjaLlQFn/XYbVL3+nW0atUqderUqYpOiqpGBS8AAAAAAKhVVq1aJaPnMTGeNdrq3nAq\\\n",
       "e81W9fqKtJo32JwVVbwVH5WreKPlLww2VbkbbDM1M+FurCp2wxHrKt18Px9+9LQ7tGrVqhidFPFA\\\n",
       "BS8AAAAAAKhVvlq1SjuuHqjgPWyjEW11bziVvZ4hr29lb6Dn568/b0Ofcb59eV3jPSt5K1fxlilN\\\n",
       "ySp2z+S5OjO9dz1X7V5toOpdKXTlbrBg13dsoDH+5goknEspllW6UVzCPe2lmvnVV7FbC6odAS8A\\\n",
       "AAAAAKg1nE6nvlm9Wuo53uNef5WpsQx9owl8ww17/bVvCDSHb9AbqmWD53yVQ94y1VeyDlQ6u2+b\\\n",
       "Bl/+qnQzA9xv26fg+86ZDXcDVe36StRQN4aXZ8806dpvvmajNQsj4AUAAAAAALXGhg0b5DQMqUOb\\\n",
       "ECOrMvSNNPD1XZO/9QSr6PWcI9ygd5/MVvK6qnhdKwjWSMKlgfxX93pW79o8w1bP5Rf63Ocbygbr\\\n",
       "y+v7uEss2y9EG+rGusDcR4c6kuF0auPGjerYsWPVngxVgh68AAAAAACg1li1apWyux8nRVSp2NDP\\\n",
       "RyxkKrIevqHWEKxXr5kevZ5j/PXlbehzu4HKVF9SRcgbq1zSqzWDZ2bt2a/WX7jr28/WNxT21+82\\\n",
       "WG/dEL1svUTTT9dE39xYSrZJ3eok0YfXwqjgBQAAAAAAtcb333+vsq5Hx3DGqqj0DbfC10wbB1fI\\\n",
       "65mQmmnd4FnN69myIVOBKnnLJK9WDf7qiAPF2A3lvz1DwOpdfy0ZgrVjCLZxmj9mv5SRVulWQ4Dr\\\n",
       "FqS1RTebQ99//331rQUxRcALAAAAAABqje3bt+vgsY2r+CyxDn3DCXxDhb2BWjgEat3gr22DZ8sG\\\n",
       "fyGv3JW8+Sr2+2oUSgr1Vcgs9WjN4FpqvvxX3XpOLI+xvicNdJyvUF+uRA50g/UoDuBIW7l+3L49\\\n",
       "9mtBtSDgBQAgzn5vXNW/YFiDMy1NkrSrWTPZi/1tkVy7cF0AAFA1tu3YodJ+neTZM7Z6xDL0NRv4\\\n",
       "mg17gwW9/vrzBgt5Jd9+vFKxDip0QwvX4w10uPeul0CVuy6+7Rp873eJtFo30nYLVSWCIDeQHLu0\\\n",
       "7NdtsZsQ1YqAFwCAOMnIyFBKUpLeHjYs3ktJCElJSeoqKS83V+Xl5fFeTkJISUpSRkZGvJcBAECN\\\n",
       "8uuO7VLOEX/e8m0E4KuqA+BAkWe4qaBn4Gsm7PU9h7+qXt9w2N8Ga8FfP1erhnyPIwI940yf/0o+\\\n",
       "1buu5RZ6fO6vJUOwdgz+vpzBXupECHRjGOIGk2OXdvz6a/WcDDFHwAsAQJxkZWXpunHjVFRUFO+l\\\n",
       "JASn06lVq1YpNzdX9og2Pal5MjIylJWVFe9lAABQo+zasVNq3tTk6HgFwNFU+0Zb3Ruoqte3otfz\\\n",
       "WM9qXtd9FZ+Xue8pVl35q/GtzFW9GzDc9deSId/ntiffE8Uq1I1lmFtNQW4gze3Sjl274rsIRIyA\\\n",
       "FwCAOMrKyiLA+5PD4ZAkNW3aVCkpKXFeDQAAqIkOHTqkwn37pJwmMZoxWAAc6/A30tDXTODrr/+u\\\n",
       "b1Wvv9YNnpuwSd4h7+H7ylRfyUHaNGR7fO56RZOL5R16elbuum77LtnzqVVFqBuLQDfOQW4gOXYp\\\n",
       "/8AfKi4uVtqfrdNgHQS8AAAAAACgVti5c6dsdruMJo2q4WzVUf0bSYuHYIFvqKreQHyDXs95W0oq\\\n",
       "VJkOuKt4XavwLHNo+Od9XhurSdIvHsvZJ//tGAIFu9GEutGEuYkY4oZ4Pk0MKclm086dO9WmTZuo\\\n",
       "TrVy5Urdc889WrFihRwOh7p06aKbb75Zw4cPj2peBEbACwAAAAAAaoUdO3YovWkTFSUlxXspqtrq\\\n",
       "33CqfQMFvsHCXn99egPNXaiKgLe+JOmgigMe5fWKeLZm8G3L4BvsmqnWrYpAN95BbgxbRNhtUtP0\\\n",
       "NO3YsSOqgHfx4sUaOHCg0tLSdPHFF6tevXp66623dNFFF2nbtm265ZZbYrdouBHwAgAAAACAWmHH\\\n",
       "jh2yuzdYS2RVUf1rNvT1F/gGC3JdjRc8N2LzPT5TUqbKtM1dxes5Y6bHkSk7dDjcdVXvuip3w63Y\\\n",
       "DRTqhhuMVneQG+uN2kzKSUnWjh07Ij6+rKxMY8eOVVJSkpYtW6bu3btLku6++2717t1bEydO1IUX\\\n",
       "XqjWrVvHaMVwSYQ/WQEAAAAAAEiS3nzzTdlstpAfrVq1CnvuHTt2yGjeXIcjxXA+EkmDEB9mNfTz\\\n",
       "4cvf6+A5vu6fHy097sv0+LylpFZ/ft5AxTrCqzjX8xlllupwuFuoivB2myqCXs9wd5/HR77HR6HP\\\n",
       "h3wez1fw8PRggI9Y8LeOQB9x0lxGVAHvokWLtGnTJo0YMcId7koV+45MnDhRpaWleuGFF2KwUvii\\\n",
       "ghcAAAAAACSMJk2aaNSoUXrhhRd00kkn6ayzznI/9tFHH+nTTz/VZZddpoEDB4Y99/79++XIrh/h\\\n",
       "yqINec3u5BUL0VQAh6r0Nfs6uKp6PbX6c7bdXo0eXKtN2aHDlbueVbu+rRj8VfL6W2ogsazIjWMg\\\n",
       "G2sNnGXav39/xMcvWbJEkrz+zbq4/r0uXbo04vkRGAEvAAAAAABIGP369dOmTZv0wgsv6PLLL9c1\\\n",
       "11zjfmzt2rWSpH/+858R9QktKyuTkRKvKCSagDjW4XC4AXCw0Nff83KFu64YN9PjvnwV6wht0273\\\n",
       "6Lr6s3rXVa2778//uqp1PU/n+1KEqsiNRA0KbcORbJSrrKws4uN//PFHSdIxxxxT6bFmzZopMzPT\\\n",
       "PQaxRcALAAAAAAASypo1ayRJXbt29bp/9erVysrKingTqLKyMpXHLeCNRnVXD5sJgM1usCZVDno3\\\n",
       "qUzz9eufjx5ZKqX8rIpQd40qB7uey/cNX8MJcWtScFvYLOZTJqsgqoC3oKBAUkVLBn/q16/vHoPY\\\n",
       "suJ3NQAAAAAAUIN9++23stls6tKli/u+AwcOaMuWLTr11FMjnresrEzlybUxCol1QBwoAHbd70pn\\\n",
       "G6qiLYNn+e02SVKZTtMnWq4xklJWSfrsz2HbdDjU9QxkAwW58QxtqyBkjacUSQ6HI97LQARq43c1\\\n",
       "AAAAAACQwL799lu1bdtW9erVc9+3evVqGYahbt26RTxvWVmZkpKSVMcReZVi7ZQW5vgcn9uefY87\\\n",
       "S9ov6SzZSk6QJJV8mC59qopcuOjPYcHaBLsUNg1zXTGWHt/Tx9q7xb8r5b//1YMPPhjR8a7K3UBV\\\n",
       "ugcOHFCDBuFsAgizCHgBAAAAAEDC+OWXX7Rv3z7179/f6/5vvvlGkqIKeCVp4JadGvv+l1HNgVjp\\\n",
       "LUn6uNcsqVeclwIduvJKpURxvKv37o8//qiePXt6PbZz504VFhaqd+/eUZwBgRDwAgAAAACAhBGs\\\n",
       "/64UXcCbnJysD1seqUWDBkY8R61TbA9v/H6f265K3EJJv/15e5ukL6Req0p1y6yP9Jcx6Uo9tM5j\\\n",
       "wEF5l/AG6iHse7LqFukubolpWGmxsq64IuLj+/btqwceeEAffPCBLr74Yq/HFi5c6B6D2CPgBQAA\\\n",
       "AAAACePbb7+VVDnIXbdunSSpU6dOEc+dnJys8nJDpSnR1ClazKEwA1pfvslRoNYJvr1w/fXQ/UXS\\\n",
       "JknLJW2TmpZUPFR2qL/qHkqWZKiincM+VbR5cDXjdfUQ9j1JhtlnEWTh0YhnrBbuxnmhOeVUShT/\\\n",
       "Ns444wy1bdtWr776qsaNG6fu3btLqmjZMGXKFKWmpuryyy+P0WrhiYAXAAAAAAAkDFcFr2/Am59f\\\n",
       "Ee6tXLlSXbp0UcOGDcOeOzk5WUlW20Qq2oA2XGZyUH8bmxX6efygvDdM23b4v/X3y93DtlBSlrqr\\\n",
       "YlO2TapIgl0TNvSYMFPmg02zG8P5qooguCpEu3FeZWWpDiVHsQlhcnKynnvuOQ0cOFCnn366Lr74\\\n",
       "YtWrV09vvfWWfv75Zz3yyCNq06ZN7BYMNwJeAAAAAACQMNasWaP69etXCoJGjhypRx99VBdccIHe\\\n",
       "e+89nXTSSWHPnZycLFs8At7qDmmDCTe/9BfmugQKdV23Pat4t6kit82XUgsr4lZX/e0WSclqqKbK\\\n",
       "V8UjDf48wBXoNvCz8EJVhL+BFhwoAA0VEIezCZhVwmBzypJsUQW8ktS/f38tX75c99xzj15//XU5\\\n",
       "HA516dJFDz30kC666KIYrRS+CHgBAAAAAEDC2Lhxo9/7J02apEmTJkU1d3Z2tlL271dJuAcmUkAb\\\n",
       "SjSZY7AwV6qcjfq2YPC8zxXu7vP4/M/q3bQy72jWVejbWM1lV0NVJMGuJ+Kq4PWt3vWs7PVcnOfM\\\n",
       "/p5QpMGvPzWrKnhfsk3Z2dlRz9O7d2/Nnz8/+gXBNAJeAAAAAABQK+Tk5Mj22w5rBba+YpUVhgpz\\\n",
       "Jf+Zp79Q1/N+z6pdz3D3z8w29c85PWPWfZLqSdqjDDWWZFempHY6nBC7ThBOW4JQFb6+Yhn8+rJG\\\n",
       "VfB2W7lycnLidn5EjoAXAAAAAADUCjk5OXLu3BHvZQRXFfmemTBXCh3ougQKdj1ve4a7hYdvp5UF\\\n",
       "jjsrItwM1fUbzPpW8Pq2bnAd469Fg2/lr78zB1KVwa8/8asK3lFWQsBrUQS8AAAAAACgVsjJydGh\\\n",
       "Xbskp1Oyx7GKtyqLNM2GuVLgjDLQHMGCXdd9++Qd9nqEvK7euw1VuUWDK66tOLSh6lY6+T6FruDd\\\n",
       "J/8tGnyP833ivqGvmRexuoNfX7GtCnbK0K7igwS8FkXACwAAUMsUFBSoqKgo3stIKE6nU5K0a9cu\\\n",
       "2eP5C38CysjIUFZWVryXAQAxkZOTI8PplPbskZo2rboTVce77MMJcl1CZY9mq3V95/PspOA5ttD7\\\n",
       "sbSy4Kf3jGedSvuzH68/rvYLnm0bXBGxayapclWvS6DqXpdwq3wDze2rusJfX6HD4N/lULlhqFmz\\\n",
       "ZtWwHsQaAS8AAEAtUlBQoBnTpslRXh7vpSSUpKQkde3aVXl5eSrntfGSkpSk68aNI+QFUCOkpaUp\\\n",
       "s0EDFe7cEX3AW52tUiMJcyVzeWKoUNffGN92DJ73B9hkLdVjLa4I1DN2zPf5r5ShNMkn5M2X/7Ay\\\n",
       "UNArBa7q9V2N55PwJ5IqX1/xrvoNbIdK1bBefaWlpcV7KYgAAS8AAEAtUlRUJEd5uS546y012bMn\\\n",
       "3stJGM60NK167DHl5uXJXlwc7+UkjN8bN9bbw4apqKiIgBdAjdE0J0eFO7ZL3boHHxivva4iDXMl\\\n",
       "8zmhmRYM/sb6C3b3+Tzm+fmfj7nCXVd7Bl/7JXdLBlccWyjpcNTo7yhXywbPzdR8g17XWT0XGizs\\\n",
       "lZ/jA4mmyjfQOX1VX/C7XQ7lVGVVO6oUAS8AAEAt1GTPHuXsSPBNZqqRIz1dktR0506lHDoU59UA\\\n",
       "AKpSi5wcbdq5I34Brks0Qa6nSKt0XUKFur7n8NxEzfNx38pdn2NDtWfwPX1DScXuKl7XH189N1rz\\\n",
       "reQNN+iVYlPZ6ykWVb7B1uAptuHvDjmU0+KomM6J6kPACwAAAAAAao2WOTlK3bpDpdV50liFuVL0\\\n",
       "VbouZoJd3/P5hru+a/G87VO968t3EzXPYQ0UqFWDZ3DrWlADeVfzSof780rmgl7XMZ7z+grVt9ef\\\n",
       "WFb5+opt1e8OOZTTskXky0FcEfACAAAAAIBao3nz5qq789eqC3hjGeZK4eV1kYS6gY7zF+xKlcPd\\\n",
       "/AC3Pe5LKzvcniFT/mNPT/tUuT738KZrrpDXc6M1z5BXqlzNKwUOej2flEugzdlcIqnu9Z072PzR\\\n",
       "iCz4/S2pTM2bN4/9clAtCHgBAAAAAECt0alTJyUvfjo2k1VFPhduAaaZNUQa7HqO8W3J4PmY522P\\\n",
       "ADhQ9a5Z3lW8RSZCXtdCfat5PWfzfMwl0qpel0gD36qs8PUVvN3DmpRSXdupUxWdG1WNgBcAAAAA\\\n",
       "ANQaPXv21P7vVktOp2S3mz+wqnK3SEPQSKt1Ax0bKNiV/Ie7vrf9bcam8Hrv+k7jil0rpqsIeSsE\\\n",
       "Cnk9+Vbs+mvb4LNYU1W9vqv0J5J2Dv7OY+Zc0StThtaUH1TPnj2r/FyoGgS8AAAAAACg1ujQoYPs\\\n",
       "NpscP22Qjg1QsViVmVpVBbpS8FA32ByB2jFIwSt3fY8JsHGdqz1DtLw3XTNTySsFr+Z1PS75r+oN\\\n",
       "tBNfdYW9vucye87wbFCRkpKTdeyxx8Z0XlQfAl4AAAAAAFBr2O129ejeXZ99u6oi4K3qAslo2hSE\\\n",
       "s7Zw2jBI/tcVqGrXc7xvW4YA86YWVq7eDdYkYJ+fMa77Gv45reuxilYNwUJeyTug9W3LYDboDVbR\\\n",
       "6zuX73z+RBv2+junmfMGt0p/qHuP7rKHU9GOhJIU7wUAAAAAAABUp149eyrnm1VV23bB9RGufI+P\\\n",
       "UA56fASaJ9Dago31rdoNVLnreZ/HMeH23vUXnQaaolgZkipCXm+u8LShDgegDXwe942Y/VXHBoqh\\\n",
       "G6jy1m++Gsr7/MFk+nxEo6GfD/NWpRarZ69eUa4B8UTACwAAAAAAapWePXvKtm5V7CYsVGKEup7z\\\n",
       "+Qq0NjMtGXzH+Qa++3zu1+HqXd/2DGaix0AdIPy/tJ6Bpr+g1DeY9Q1UA4W8oYJeM2FvOGIV9nqe\\\n",
       "31zouyrlEP13LY4WDQAAAAAAoFbp2bOn9n5/bfgbrblE8+56l3CrhyPtryuFH+z6HhNGuOtZvRsq\\\n",
       "AjVjn595iv/ccO1wqwZPnu0aPBdqpqduqI3afPn2+w00r7+5g/ENeWNxwUn+Wjs4ZWh1yT4CXouj\\\n",
       "ghcAAAAAANQqHTp0kM0wpK0bzR0QbYWuSziVupL5at1gfXYjqdoNFe5GwDOyrBtkXGGAz32reCu3\\\n",
       "avAMLwNV6Jpp2RCsore62jeEe/5INdQGpUgpyerQoUOM50Z1IuAFAAAAAAC1SnJysnp07x64TUOs\\\n",
       "Al0p/FBXCh3qes7rT7BgN1Tlru94zzl95whQveu7uVq0XKcJL+T15BvyRhr0usYHYibo9Zw/2rA3\\\n",
       "+sB3lW0/G6zVAAS8AAAAAACg1jnxxBNV95tPKm7EMtCVIgt1peoPdqOp3A0WDOtwzBlJhOl7+vB4\\\n",
       "9uMN1mvXN4j1F5YGC3nNBL1VHfZ6riWysHd53UL16dMnwnMjURDwAgAAAACAWufcc89VyifvSQfK\\\n",
       "YzNhtKFuNMGuFDiY9ndMsH67vsf4C339bMRmpno3VITpLzMO9LQCV/H6nikWIW+kQa/rHGa7EVdv\\\n",
       "2FsuQ++m7NbgwYMjPB8SBQEvAAAAAACodU477TQ5iwqljV9HPklVh7qe5wgknKpdKfpw18+xqSGq\\\n",
       "nsOtLQ1WMBzspYhdyBvvoDfU+cwI3cphlfapqLxMp512WhTnQSIg4AUAAAAAALVOamqqzjnnHGV8\\\n",
       "Otf8QfmKPNSVzIe6nucKJFg7iUDBbizC3SCtGVzVu9G2ZzDLt4pXCifkDdaX1zU+nLYNwY7xFGnQ\\\n",
       "G+2rWTnsnZuRr3POOUcpKSlRzo14I+AFAAAAAAC10pAhQ9Toi3mhB0Ya6LpUZ7BrpmrXNY/vseEw\\\n",
       "Wb0bDd9N1YJV8XqGvJHzF7yGW83rOsZs0Bu/sHdeo4MaMmRIlHMhERDwAgAAAACAWumcc87Rjg3f\\\n",
       "STt/qfxgNJW6UnhtGDzPF0ywMDXQseGGu54Bsu+aTFTvVjd/L0nlKt5gG6+Fatng77hgx5s5zle4\\\n",
       "Qa/nuSMLe39Wob7fsVVnn312RMcjsRDwAgAAAACAWqlBgwY69dRTlfbZuxV3VHeo63nOYCKt2vXX\\\n",
       "ksG39YLZ5xpkYzVPvu0Zwu2/a3YZ/rpJBG7VEIq/kNdsNa/r+FgGvVUf9r6btkunnXaaGjQI91xI\\\n",
       "RAS8AAAAAACg1jrvvPPU5vO51deCQTIfJEcS7ErmqnYDnc9zfn/z+ZnHTPWuK3qs63M71FJ82zR4\\\n",
       "CvXyBe/H6xu4mg1HgwW1oeYIJ+6ONHg1F/TObX1I5513XoTnQKIh4AUAAAAAALXWeeedp82fL5aK\\\n",
       "/gjvwKqq1pWCB7uueQIx25IhUFuGUOuqIq7lBOkC4RbsKRYrI0g/Xt/gM1TIG6ySt6qreT3PH0nY\\\n",
       "G7iq94BKtXjzt/TfrUEIeAEAAAAAQK11zDHHqF27dqrzzXxzB4Qb6rqYrRAOFaIGq9oN1ZLBDJN9\\\n",
       "d820Z0gElVs1hBvySoED1lgEveGGvZHwXsv8Ort09NFHq127dhHOh0RDwAsAAAAAAGq1kSNHqt2n\\\n",
       "s4IPiiTYDaenr5mqXbO9dkOtyfe8gQRozeAZ7lbn5mqh2jR4Ph5eP95oQt5QzMTd1VvVO6tdoS69\\\n",
       "9NIIjkeiIuAFAAAAAAC1Wm5urn5csUjatdX7gUjaMEjhh7qRBLtm5g01j78xLiZCY89wN5wtycIV\\\n",
       "KNcOR+B+vIEECnnDbdngmsts0BuO8IPeLSrQ4h+/UW5ubpjnQiIj4AUAAAAAALVa8+bNNWjQIDVa\\\n",
       "/Hzkoa4UXhhrpnVCqF67kW6m5m9csHMFqN71x1+MGWnLBrNPxUwVb2X+WjWY3XgtkpYNrvnMbMRW\\\n",
       "dUHv84226Nxzz1VOTk6Y50AiI+AFAAAAAAC13tixY5X00SzJGUHPgXCDXTN9dsPptes5t5m5QoW7\\\n",
       "AVozBBJp84JIhLsXXPBWDWYrecNt2RAqoI1P0FumcuUlrdPYsWPDnBeJjoAXAAAAAADUemeffbbS\\\n",
       "ku2q88088wdVZ7BrZn5/84UaFyzc9RGv3ruBeC7V7MtmbtO1WGx8FqsGFeFuxiYF6tM7t87PSk6v\\\n",
       "o4EDB8ZobUgUBLwAAAAAAKDWs9vtuu6669R22dTQg2Md7LrmDCaSyl0z44IJd7yHaOJNf0/TzMtt\\\n",
       "tlWDuUpef+0a4tGyIdiazDgc9E5t9IOuu+462e32COZBIiPgBQAAAAAAUEWbhp+/XSnb1tWVH8xX\\\n",
       "+BW2kTSR9RUq2I0m3I1B9a5ntBkqqqwb4nGzPJ+K2c3WgvfjlcwHreGGvFJsWjZ4zhV+0LvaVqKv\\\n",
       "9m/VlVdeGfaxSHwEvAAAAADw/+3de5jdZX3v/c+sNZNMhsBASJqETThGhIBpEbe0ewsoSikpCJoH\\\n",
       "D2ixg7XyEIhaD0Gxm3C1Vmqt1FjxUTSDSJF2a4nBbkEUESi7SsNBFA9QmgrmIAk4AScTJjPz/BES\\\n",
       "SbJmMjNZc7iT1+u6ckHW+q3fumfNSmDec8/3B5BkypQp+aM/+qMc/3+X/ObG4YxNGMqu3XqOZNh6\\\n",
       "zsEcu6u4O4QLq42k3XnqgR678y7eWvqLqQNF3uHu5t163pEJvZ+c8VDOP//8TJky3EveMZ4JvAAA\\\n",
       "AADPW7hwYR7+xpeTX60ZubCb1H8kw2DO2d9xA8TdHQ119m49c+JA153r75ihj2rY3Z28uzKYKDvU\\\n",
       "sQ0Dn3N1nsmNT9+bhQsXDuG8lETgBQAAAHjenDlzcsYZZ+Slt/7F4B801LA73JEMW5+rv/MOZl1D\\\n",
       "jNYD7d7tbzxDvS4vNpDh7uzddeStpZ47eQc6347nrk/o/Yvp/5558+blmGOOGcL5KInACwAAAPAC\\\n",
       "H/nIR/LwvyxNfvnorg+uV9hNdh12671zt9ZzjuE4ht0x2F28gzOUsDrQsQNF3mTwu3mHH3ofzfq0\\\n",
       "d/zffOQjHxnCOSiNwAsAAADwAsccc0ze8pa3ZPq3/rz/g+o9Z3ewVwurdf5a6hBqd9y9O9TxDEM1\\\n",
       "mJfphcfUcxdv7XENO+ovyA4UYQcTeUcu9H54+vfz1re+NUcfffQQHktpBF4AAACAHSxevDgb7v1a\\\n",
       "8vP7tr+jnnN2k8GNZBjqzt3BXlRtN2bv9jeeoV5euLThhNzd38Wb9B95hzqEYlcjG4Zy3sG/2ivy\\\n",
       "eJZveCCXX375oB9DmQReAAAAgB0cfPDBWbBgQX7rlg9uuWEoYTepz67dgZ5vd+LuIB430Ozdgbww\\\n",
       "UY5E+B3Iji/nQB92V1oGOY93qOMadmdkQ72eZ4sPvvieXHzxxTn44IPr9LyMVwIvAAAAQA0f/OAH\\\n",
       "s+k/vpfKA7cP/kH1GskwknF3N+fu1itT1sNQlj78qRVD3cm7u3N5B7tDuP/Q++3KI7l37U9z6aWX\\\n",
       "DvJclEzgBQAAAKhhypQpWbRoUQ64/dKkr2/XDxjpkQwDPUcdL442ErN399n9U2wz2GvK1bLjyzS4\\\n",
       "ebzJ0Pcj7yry1jv0/kZf+nLprDuzaNGiTJky2vuoGQsCLwAAAEA/3vWud2XCM0+k+sOv9n/QaO3a\\\n",
       "HerO3VHYvTve8uFQxjTUx0ARdlevzmD2Qg99N+9Xqg9lVffTWbhw4SAfS+kEXgAAAIB+tLS0ZPHi\\\n",
       "xZl6+weSTb/e/s7Bht1k9+JuvR63qzVkZHbv1sNAH+ZQX7pd7eJNBprHW89xDUl9I2/ybFqyaOq3\\\n",
       "s3jx4rS07PxxsWcSeAEAAAAG8Cd/8ic56rCDs89tL5hnOpSwO5o7d7c+ptY6hvK8wzC8gQL9G0SP\\\n",
       "HtTjBvOpqhV566dekXfXr/Cl+9yUWS8+PG9/+9sHszD2EAIvAAAAwAAqlUqWLl2avnvbk0fvqN+u\\\n",
       "3aT+O3d3YybBrnbvDmU8w0iPbtjd0QuDedmHPo93Vzt5d3cu79bnqO07+XGu7bs7S5cuTaUi+e1N\\\n",
       "fLYBAAAAdmH27Nn56F/9VaYuvyB5bhB5sB5xtx47d/tbS5137461HT+ckd/FO1IJe3i7eZ9NVy6Y\\\n",
       "/MV89MqP5sgjjxyRlTF+CbwAAAAAg3DxxRdnzuxZmXDnpf0fNNiRDPUeyzDQegZxjqHO3t0xbw5+\\\n",
       "Suz4UeulHPw83mTgnbz92dVO3mRwkXf751k04Ss59IQXZ8GCBYN8LHsSgRcAAABgELaOamj84bXJ\\\n",
       "yu/sfMBwh8bWw2Dn7tawY9ytZbDJcSTtbtuu9RIN9pz9R97+7Cp5DybyDm437+35z1zX+G9GM+zF\\\n",
       "fNYBAAAABunII4/MlVd+NM3f3GFUw2BHMuzOzt16zN0dRNHc1e7dkTSUD2XHY+s1daK/UQ39z+Md\\\n",
       "zk7erY/dlYEj77PZmLc3fzYf/euP5ogjjhjE+dgTCbwAAAAAQ7BgwYK8fM6hqdyxaHAjGZLhz9vd\\\n",
       "laHM3a1hMLt3d9c+I/8UgzbYXbxDm8c7kIEuvJbsbuT9QOX6HHbi0bnooouGujD2IAIvAAAAwBBU\\\n",
       "KpW0ty9N84+vS1bevOsH7G7crcdF1Qazjn7smBd3NX+3npcf292pF/WemjH0ebyDMbzIe3P+PV9q\\\n",
       "vjtfWPoFoxn2cj77AAAAAEN0xBFH5Nr2pWn8zluTpx6ufdCuRjIkw4+7/RlC3K21e3csxzMMx3DG\\\n",
       "NOzuLt7hRd76jmv4UR7PW5v/PkuvbTeaAYEXAAAAYDjOPffcfPD970r11tcmXTtkw+GWxsGeY7gj\\\n",
       "HYZoPFxc7YVGcqLEUM49cpF31xdfW59KXlv9WN79gT/Lueeeu4vj2RsIvAAAAADDtHjx4pxx0kvS\\\n",
       "cNsbkt7nt7+OVdwdhd279Ry/MFJ2/NBqvSyD7eNdaRnGPN7dibwD687mvKHhL/Lb807M5Zdfvlvn\\\n",
       "Ys8h8AIAAAAMU6VSyZdv+FJmT/5lcs97x9/O3RG+iNru5crxpz67eJOR2sn73vx/eXL2c7nuhi+Z\\\n",
       "u8s23gkAAAAAu2Hy5Mm59f98LZP/6x+SRz4/8MEjFXeHcDWxWrt3axlv4xn6M5jmvTu7eJPhzONN\\\n",
       "dn8n7/aPvyb/ki9P/m6Wf/PrmTx5T0vr7A6BFwAAAGA3HX744bn5a19J433vSn55d+2DRjvuDmE7\\\n",
       "ar0urjYaIxwG82HtzsbloT524Mg7kMFH3rvyg7y78TP5ytf/OYcddtgwn489lcALAAAAUAevfOUr\\\n",
       "86lP/m2qd70+eXbl9nfuTtwdyBDj7mBn79bavTtW83eHsDl5yOepxy7ege3qVdt15F2ZrszPFfnE\\\n",
       "J/42p5xyyjDWwJ5O4AUAAACokwsvvDAXvf1Nqdx+WtK5asuNQ52bu6PdffwIGcz+031GfBVb1Psl\\\n",
       "6q+3139UQzLQK7kqv8xrKhfmzee/Je+85P/dxXnYWwm8AAAAAHX0d3/3d3nb609Kw7denaz+5cAH\\\n",
       "P5tRG80w2N27e4paL8NQdvHWd1TD0CPv2qzPqxsuzCnzXpWr2pcMcTXsTQReAAAAgDqqVCq55ppr\\\n",
       "8qZ5xyffe03y3PrhnahOF1UbqvE0nqE/uzNjd3cNNKqhXpF3XZ7Oa3JhXvqKE/K5ZUtTqUh49K9x\\\n",
       "rBcAwOjp6OhIZ2dnv/f39PQkSdauXZtqtdrvcS0tLWltba37+gAAYE9RrVbzxS9+MV1vfGNu+vZp\\\n",
       "yYm3JRMO3P6gkaiUQ9i9W2/1isBP1fFcu/ucz6b2AIWutKQ5/X9t1b8pGbjcT876PJHfz0U5au6L\\\n",
       "88Xbvzzg12aQCLwAe42Ojo4sWfLp9PZ293tMpVLJ3Llz097ent7e3gGOa8rChQtEXgAYpIG+yTqY\\\n",
       "b7D65iqUqampKTfeeGPe/OY3559ve1Vy4reSib+15c7hjmVI6jKaIdnzxjPUirS1Au3Tqb1LuV56\\\n",
       "0pxqugY4ov/IuzbrclouzFHzj8sNN9yQxkbpjl3zLgHYS3R2dqa3tztf/c7rsu5X02oe0zyxJ1fN\\\n",
       "XZH2r7ela1PtLzCn7v9k5r/qpnR2dvpCEwAGoaOjI5/69JL0dNf+5ulgvsFabarkkgUL/bcXCjRh\\\n",
       "woT84z/+Y84///zcePMp6Tvx28nmg4Z/whEczZAMfjzDYC6wVpp67uLddeTd2S+yJq9p+OO89M0n\\\n",
       "5otf/KK4y6B5p0CdrV+/PpdddlmOO+64XHzxxWO9HNjJul9Ny+r1M2veN6l5y+7eNU9Nz8auptFc\\\n",
       "FgDssTo7O9PT3ZvO1301vdPW7XR/tac5WXFVft3Wnp7qzjGg8uTUtNw03zdXoWCNjY350pe+lOZ3\\\n",
       "vCNf/MeT0/uSbyXNh9U+eLhzdwvZvTvc0Qv13nVbr/MNP/JufSW2fMJX5om8pvK2nPLHr8nnPvc5\\\n",
       "YxkYEoGXvd7KlStz+OGH55RTTskdd9xR85ju7u7ccMMN+ad/+qfcf//9Wb9+fZqbmzNt2rTMnj07\\\n",
       "r3rVq3Leeedl1qxZOfDAA3PLLbfkxhtvzDvf+c40NYlkALXs+OPK/f2Ish9LBvYUvdPWpXfm6p1u\\\n",
       "b+ietOX+6WvS27RxtJcFjJJqtZrPf/7zmTz53bn6mpen5+h/Tlpfsf1BuxrNMMJGcmzBSKi1s3aw\\\n",
       "Yxr6M9RdvPVwV+7N/OolefOCt+Sqq65yQTWGTOCFXXjkkUfy+te/Pj/84Q/T0tKS448/PieffHKe\\\n",
       "e+65PPzww7n11ltz66235oQTTsisWbOSJGeffXaWLFmS22+/PaeffvoYfwQA409HR0c+/fdL0r35\\\n",
       "Nz+K3N+PKDc1VrLgYj+WDACUr1KpZMmSJZkzZ04uWXh6Nh/+yWTmn2y5c7hzd5MR3b072hc7G89G\\\n",
       "YlTDNfl63t34oXzi76/KO9/5zvoslL2OwAsDePrpp/OqV70qv/jFL/Ke97wnH/7whzNlyvb/eXvs\\\n",
       "scfy2c9+Nv/9v//3bbedc845WbJkSZYtWybwAtTQ2dmZ7s29ed30r2bahC0/rtzT0JwVuSptB7en\\\n",
       "2rflf4KffG5qblrrx5IBgD3LhRdemGOOOSZnvnZ+nv31D5IjP5EBE80w4u5IqhU5a4XgfUZ6Ibup\\\n",
       "vzEN/e3iHa5akbc73fmzfDg3Tl6Wb/zLLTn55JPr+Izsbez5hgF8/OMfzy9+8YvMmzcvn/jEJ3aK\\\n",
       "u0lyxBFH5K//+q+3Cw8nn3xypkyZkuXLl6evr280lwxQlGkT1mVm8+rMbF6d6RPXJEmmT1yz7bat\\\n",
       "8RcAYE9zyimn5AcP3JsXTb4jDff/QbK5ny28w4y7Q929W9p4hqGqVwfv7zxdaUlXWvp9XE+at/37\\\n",
       "+jyVP2g4N3ce9b3c+9C94i67TeCFAdx2221JkpNOOmlIj6tWqznzzDOzatWqfP/73x+JpQEAAFC4\\\n",
       "ww8/PPf9+z0585X7ZZ/VL0+6Hq7LefuLu0NV6niGoYwy7q+fj9Q45B/lJzmx+vtpPXNq/nXFPTns\\\n",
       "sMNG6JnYmxjRAAPYuHHLRS7uvPPOvP/97x/SVSzPOeecXHfddVm2bFlOPPHEfo/btGlTNm3atO33\\\n",
       "GzZsSLLlwm7d3d3DXDnsrKenJ5VKJc0TezKpufZ7a9LE7u3+WUvzxC3n6enp8R5l2La+H3samtOd\\\n",
       "LRcX2vGfyZaxDd5v9bXttW9uTvekSbt+wF5i62vhNdleT7M/g/Ww9c9dtad52wXVXqj6/G3VGvcl\\\n",
       "SaXH54GR4z019iZPnpxly76SxYsX528+/nvp+q3rk/3O2nJnnUcz7Im7d0fy4mfDec6B5vEuy+15\\\n",
       "W+Pb8+4PvTuXX365i6lRNw19fn6cvdzKlStz+OGH55RTTskdd9yx3X0LFizI1VdfnWTLd1bPPffc\\\n",
       "vOY1r8nv/d7vZfLkgf8T0tnZmalTp+bQQw/Nj3/8436PW7x4ca644oqdbr/hhhvS0tL/j3cAAADs\\\n",
       "rs7Ozpx33nnp6OjIfvvtN9bL2ev97//9v/PHf3xBuvb5o/RO+1iyYYCvO0dhPEOtHbz9rWiwM3hf\\\n",
       "eFx1Unde9eX/k3vfPC89G5t2eb6k9loHOxO4v2P7O+9wzpNkp8D7TJ7JpZUP5x+ab8zSa5fm3HPP\\\n",
       "HeDRMHQCL3u9gQJvR0dH3va2t+VrX/vadrc3NTXl1FNPzYIFC3LWWWf1e+6zzz47y5cvz09/+tMc\\\n",
       "ddRRNY+ptYN31qxZWbdunf/Boq7Wrl2b9vb2tH+9LWueml7zmEkTu7P0I7flgstOy8ZNTTWPmTFl\\\n",
       "bdrObE9bW1umT699HtiVre/HtoPbt83e7c6k3LbP0pz26wvSlC0/QbF204y0P9Hm/VZH21779vZM\\\n",
       "X7NmrJczbnRPmpTbli7NaRdckKbnf4KHZO2MGWlv82dwd239c/frtvb0Tt/5z121e1J+97al+bfT\\\n",
       "LkhP087vv8raGdmn3eeBkbFhw4ZMnTpV4B1HHnvssVxwwQV58KH/yq8qS5PmV+180DDibjK0wDvU\\\n",
       "sLm3Bd6BzpX8JvLenjvyp/svyGG/fVi+sPQLOeKIIwZ4FAyPEQ0wgNbW1ixbtiyPPPJI/vmf/znf\\\n",
       "+ta3cs8996SzszO33nprbr311rzvfe/L3/zN39R8/DnnnJPly5fnpptuyqJFi2oeM3HixEycOHGn\\\n",
       "25uamtLUVDuwwXBUq9X09vama1M1G7sGfm9t3NTU7zFdm7acp1qteo8ybFvfj9W+rm0xd6umbNx2\\\n",
       "W7Wvy/utzra99l1dQmYNTRs3el1eoNrlz2A9bP1z11PtSm+NgLtVT9PGmoG3r+rzwMjxnhp/jjji\\\n",
       "iNx+++25+uqrs2jRWdnc87Y8N+mvk8rzOXGY83VHcjzDeJzV+1Tqs66BzjPQqIZ16c0VB70v1/3q\\\n",
       "+lz5F1fmoosuMpKBEeOdBYPwohe9KIsWLcptt92Wp59+Ol//+tczZ86cJMnf/u3f5j/+4z9qPu6Q\\\n",
       "Qw5Jkjz++OOjtlYAAADKVqlUcvHFF+cHP3gwv/uSH2Zq99yk645dPq5eF1cbD0bqImf9vUQDjTse\\\n",
       "qu/mO/ndA1+Sh1/0kzz4gwdz8cUXi7uMKO8uGKIJEybkD//wD7N06dIkSV9fXx566KGax958881J\\\n",
       "kjPPPHPU1gdQkiefm5rVXTOzumtm1m6akWTLWIattz353NQxXiEAwNg58sgj853vfCf/68/fk5bO\\\n",
       "M7NP58VJ39Arbn+7d4dqKBczqzWeYaSMdNceKDY/u92/P5s/22dB3tByVt67+L25/fbbc+SRR47w\\\n",
       "6sCIBhi2WbNmbfv3/i649rWvfS377bdfTj311NFaFkARWlpa0tRYyU1r52+7rVKpZO6UpP2JtvT2\\\n",
       "9m67vamx4qKTAMBeq1Kp5JJLLsm8efPS1taWnz0yN+s6P5aehvlJQ8O244aze3c4c2f3ZE9neCMr\\\n",
       "+tKXm6pfyf/ad1EOmTsrDy59UNhlVAm8UENfX18aXvAfylqWLVuWJNl3333zP/7H/9jp/gceeCAr\\\n",
       "V67MG9/4xkyYMGEklglQrNbW1iy4eGE6O39zheGenp6sWLEibW1tqVar225vaWlJa2vrWCwTAGDc\\\n",
       "OPLII3PHHXfkC1/4Qi6/fGEmNn8sP19/ZXorpw7rwmp7g/7m5w40O3eo57qr8u381QGXZs2EX+SK\\\n",
       "K67I29/+duMYGHUCL9Rw2WWX5amnnsoll1ySY489drv7Nm7cmC984Qt5//vfnyS58sora+4s2xqA\\\n",
       "zznnnJFeLkCRWltbtwu33d3dSZLp06e74AuwR6o8WXvsTKWnecs/185IX7Vr0I8D9j6VSiXveMc7\\\n",
       "8pa3vCVLlizJlVe+PjNmnpjHHvloGvLSIZ2rHhdXGwvD3WVbbz/Iffnob12a+zZ9P5e+79IsXLjQ\\\n",
       "T50xZgReqOHuu+/OXXfdlc9+9rM5/PDD85KXvCT77LNPVq1alYceeihPPfVUmpub88lPfjIXXXRR\\\n",
       "zXMsW7YsEyZMyLx580Z59TCwqfs/2e99zRN7kiQzpqxN16ZqzWMGejwAsLOWlpZUmyppuWl+zfsr\\\n",
       "lUoyN9mnffsRNS9UbTKuBviNlpaWXHrppfnTP/3TXHnllfn7v39FXjT7tfnJj/8yyextxw1n925/\\\n",
       "4xn62/G6p41zGCggP5WkI4/mY9M/nFs2LM8lf3xJvrLoxkyZsqe9CpRG4IUaPve5z+Wb3/xmvv3t\\\n",
       "b+fRRx/N3XffnQ0bNmS//fbLUUcdlde85jV5xzvekUMOOaTm41euXJkHH3wwp59+evbbb79RXj3U\\\n",
       "1tLSkkqlKfNfdVO/x2z5UaK5aTuzvd8vMLcc1+SLTAAYpNbW1lyyYPuxNC/U34iaFzKuBqhlypQp\\\n",
       "+djHPpaFCxfmiiuuyM8eeUmOndOWHzz452lomDnWyxtV/Y1dqNeYhiezOtdM/4t8paM9bz3rrfnZ\\\n",
       "5T/LwQcfPJylQt0JvFDD0UcfnaOPPjoLFy4c1uONZ2A8am1tzcKFC/r94jIZ3BeYiS8yAWCodhxL\\\n",
       "80JG1AC76+CDD84111yT9773vbnsssvyo4ePyNQpb8qvVr8rlb7f2en48TDiYDx74S7ehxvuz1eO\\\n",
       "X5JlD9+Yef9zXu7/yP05+uijx3J5sBOBF0bAsmXL0tDQkLPPPnuslwLbGeiLy8QXmAAAULKjjz46\\\n",
       "X/3qV/Pwww/nU5/6VK677n9m1iEvS7XnXfmvR16bhl1kIIMGtticzbl14vL80+F/lwd/viLnv/z8\\\n",
       "3Hf9fTnmmGPGemlQk8v6QZ2tX78+d999d17+8pdn5sy960diAAAAGHtz5szJZz7zmTz++OP547Y/\\\n",
       "zIZN70nztEPz4uP/PJOzcsjnG8oog5I8u8PvV+U/8w/HfzhvmnZorpr+nrzugrPyxBNP5DOf+Yy4\\\n",
       "y7gm8EKdHXjggdm8eXP+7d/+bayXAgAAwF5sypQp+cAHPpDHHnss1157TQ465KE82XRU9ptzeqYe\\\n",
       "8Y/pzTMj8rz7jMhZh++pAe77dTbk9on/mA/NOT3nNb04qw79UT5/7TV57LHH8v73vz8HHGCgBeOf\\\n",
       "EQ0AAAAAe7BqtZp58+Zl3rx5WbVqVa699tpcf/0VWTvh/Lzo8Ffmqf96bSpdZyWpfSHx/gx1pEO9\\\n",
       "RkC8cEbuCw32wmm/zM/z/Uk359/3XZ5/f+o7mX3E7Lz1LW/Nl9uu9ZO4FEngZa+3//775/LLL89h\\\n",
       "hx021ksBAACAEXXQQQflQx/6UD70oQ/l0Ucfzc0335zly7+Su+9+dzbve2wmbXptJnSelZackIZR\\\n",
       "+sHvZ5NMqnH7U6lPFO5Nb36SFfnBi5bn/3bdnJ+t/lFO+t2Tcu5ZZ+W6sz6d2bNn1+FZYOwIvOz1\\\n",
       "9t9//yxevHislwEAAACjavbs2XnPe96T97znPXn66afzjW98IzfffHO+8Y3TUq205JApZ6bzsVek\\\n",
       "oe+EtOToNKQ61kselN705Bf5SZ5oXZGVU+/Ovz319Wzq7cwZJ5yRD792Uf7gD/7A6AX2KAIvAAAA\\\n",
       "wF7ugAMOyHnnnZfzzjsv3d3dueuuu/L1r3893/veZ3P//Q+krzc56MDfyT59J6Rn3Qlp7j4h++fo\\\n",
       "VMY4LfVkc1bnx/mvrMgTE+7Lk1NX5GfrH0hDJfmdY38nJ554Yt515vU56aST0tTUNKZrhZEi8AIA\\\n",
       "AACwTVNTU0499dSceuqpSZKenp785Cc/yYoVK57/dU3uv/+i/Ki7LzP3/51M3jw3+fV/S+NzMzMx\\\n",
       "M3NADsqkzMzETEtlN3f99qYnv86T2ZDV2ZBV2ZDVeSar03fAL/KLxgfz2K8eTKXakONfenxOeNkJ\\\n",
       "OeGEd+aEE07I0UcfnWq1jB3HsLsEXgAAAAD6Va1Wc+yxx+bYY4/N+eefn2RL9P3pT3+aFStW5Ec/\\\n",
       "+lFWrXokq1ffmdWrV+cnP1+djmeeSqWhmn2bfyv7NM5Mc99Badl8QBp6G9PQ25T0NqbSXcmjn1uZ\\\n",
       "J3puSbWxN32V7vRVNue5xqfz64ZV2bB5dTZ0/TI9fT3Zf98pmTF9Zg46eGb+26yZOeigg/JHx16U\\\n",
       "E044IS9+8YvFXPZqAi8AAAAAQ1KtVjNnzpzMmTOn5v1dXV1Zs2ZNVq9eve3Xr371q2zevHnbr+7u\\\n",
       "7iQvzkvmNqWxsXHbr/333z8zZ87c9mvGjBlpbm4e3Q8QCiLwAgAAAFBXzc3NOeyww3LYYYeN9VJg\\\n",
       "j1cZ6wUAAAAAADA8Ai8AAAAAQKEEXgAAAACAQgm8AAAAAIyIq666Kscee2wmT56c/fffP6eeemq+\\\n",
       "973vjfWyYI8i8AIAAAAwIg499NB84hOfyIMPPph77rkns2fPzumnn57169eP9dJgjyHwAgAAADAi\\\n",
       "Xv/61+f000/PkUcemTlz5uTjH/94Ojo68sMf/jBJcuSRR6ahoaHmr29+85tjvHoog8ALAAAAwIh7\\\n",
       "7rnn8rnPfS4HHHBAXvKSlyRJbrzxxiTJvffem9WrV28b33Dvvffm1a9+9ZitFUrSONYLAAAAAGDP\\\n",
       "ddddd+WMM87Ixo0bM2PGjNx2222ZMmVKkuSXv/xlJk+enBNOOCENDQ35/ve/v93vgV2zgxcAAACA\\\n",
       "EfOyl70sDzzwQO65556cccYZecMb3pB169YlSR566KEce+yx22LuD37wgxx33HHiLgyBwAsAAADA\\\n",
       "iJk0aVJmz56dE088MZ///OdTqVTS3t6eJPnhD3+4bVxDkjz44IPb/R7YNYEXAAAAgFHT19eXTZs2\\\n",
       "Jdmyg/e4447bdt9DDz0k8MIQmcELAAAAwIhYtGhRXvva1+bggw/OU089lauvvjpPPPFE5s+fn82b\\\n",
       "N+cnP/nJtqDb19eXxx57LIcccsgYrxrKYgcvAAAAACNi1apVedOb3pSjjjoq8+bNy9q1a3PXXXfl\\\n",
       "mGOOyc9+9rM899xz23bwNjQ05LjjjsuFF16YRx99dIxXDuWwgxcAAACAEfGlL32p3/vmzJmTvr6+\\\n",
       "7W677777RnpJsMexgxcAAAAAoFACLwAAAABAoYxoAAAAAKDuGhoa6nKeHcc4ANsTeAEAAACoO2EW\\\n",
       "RocRDQAAAACMio9+9KN52cteln333TfTp0/PG97whqxcuXKslwVFE3gBAAAAGBXf/e53c8kll+R7\\\n",
       "3/tebrnlljz11FM544wzsnnz5rFeGhTLiAYAAAAARsUtt9yy3e+vueaaHHHEEXn44Yczd+7cMVoV\\\n",
       "lM0OXgAAAADGREdHR5JkypQpY7wSKJfACwAAAMCo6+npyfve977MmzcvBx988FgvB4plRAMAAAAA\\\n",
       "o6qvry8XXnhhfv7zn+df//Vfx3o5UDSBFwAAAIBR09fXl4suuijf+ta3cuedd2batGljvSQomsAL\\\n",
       "AAAAwKjo6+vLggUL8i//8i/57ne/m1mzZo31kqB4Ai8AAAAAo2LBggX58pe/nJtvvjmTJk3KmjVr\\\n",
       "kmy5yNqECRPGeHVQJoEXAAAAgFHxmc98Jkly0kknbXf7d77znbzyla8cgxVB+QReAAAAAEZFX1/f\\\n",
       "WC8B9jiVsV4AAAAAAADDI/ACAAAAABRK4AUAAAAAKJTACwAAAABQKIEXAAAAAKBQAi8AAAAAQKEE\\\n",
       "XgAAAACAQgm8AAAAAACFEngBAAAAAAol8AIAAAAAFErgBQAAAAAolMALAAAAAFAogRcAAAAAoFAC\\\n",
       "LwAAAABAoQReAAAAAIBCCbwAAAAAAIUSeAEAAAAACiXwAgAAAAAUqnGsFwAAwOh7curUsV7CuNLT\\\n",
       "3JwkWTtjRqpdXWO8mvHD+wQAYPwTeAEA9iItLS1pqlRy0/z5Y72UcaVSqWRukva2tvT29o71csaV\\\n",
       "pkolLS0tY70MAAD6IfACAOxFWltbs2DhwnR2do71UsaVnp6erFixIm1tbalWq2O9nHGlpaUlra2t\\\n",
       "Y70MAAD6IfACAOxlWltbBbsddHd3J0mmT5+epqamMV4NAAAMnousAQAAAAAUSuAFAAAAACiUwAsA\\\n",
       "AAAAUCiBFwAAAACgUAIvAAAAAEChBF4AAAAAgEIJvAAAAAAAhRJ4AQAAAAAKJfACAAAAABRK4AUA\\\n",
       "AAAAKJTACwAAAABQKIEXAAAAAKBQAi8AAAAAQKEEXgAAAACAQgm8AAAAAACFEngBAAAAAAol8AIA\\\n",
       "AAAAFErgBQAAAAAolMALAAAAAFAogRcAAAAAoFACLwAAAABAoQReAAAAAIBCCbwAAAAAAIUSeAEA\\\n",
       "AAAACiXwAgAAAAAUSuAFAAAAACiUwAsAAAAAUCiBFwAAAACgUAIvAAAAAEChBF4AAAAAgEIJvAAA\\\n",
       "AAAAhRJ4AQAAAAAKJfACAAAAABRK4AUAAAAAKJTACwAAAABQKIEXAAAAAKBQAi8AAAAAQKEEXgAA\\\n",
       "AACAQgm8AAAAAACFEngBAAAAAAol8AIAAAAAFErgBQAAAAAolMALAAAAAFAogRcAAAAAoFACLwAA\\\n",
       "AABAoQReAAAAAIBCCbwAAAAAAIUSeAEAAAAACiXwAgAAAAAUSuAFAAAAACiUwAsAAAAAUCiBFwAA\\\n",
       "AACgUAIvAAAAAEChBF4AAAAAgEIJvAAAAAAAhRJ4AQAAAAAKJfACAAAAABSqcawXAAAAMJ50dHSk\\\n",
       "s7Nz1J6vp6cnSbJ27dpUq9VRe96Wlpa0traO2vMBACND4AUAAHheR0dHPr1kSbp7e0ftOSuVSubO\\\n",
       "nZv29vb0juLzNlUqWbBwocgLAIUTeAEAAJ7X2dmZ7t7evO6rX820detG5Tl7mpuz4qqr0tbenmpX\\\n",
       "16g855NTp+am+fPT2dkp8AJA4QReAACAHUxbty4zV68elefqnjQpSTJ9zZo0bdw4Ks8JAOw5XGQN\\\n",
       "AAAAAKBQAi8AAAAAQKEEXgAAAACAQgm8AAAAAACFEngBAAAAAAol8AIAAAAAFErgBQAAAAAolMAL\\\n",
       "AAAAAFAogRcAAAAAoFACLwAAAABAoQReAAAAAIBCCbwAAAAAAIUSeAEAAAAACiXwAgAAAAAUSuAF\\\n",
       "AAAAACiUwAsAAAAAUKjGsV4AALB36OjoSGdnZ7/39/T0JEnWrl2barXa73EtLS1pbW2t+/oAAABK\\\n",
       "JPACACOuo6Mjn/77Jene3NvvMZVKJXPnzk17e3t6e/s/rqmxkgUXLxR5GbKBvskwmG8w+OYCAADj\\\n",
       "kcALAIy4zs7OdG/uzesmfzXTGtfVPKanoTkrclXaWttT7euqecyTm6fmpmfnp7OzU2hjSDo6OvKp\\\n",
       "JZ9OT293zfsH8w2GaqUplyxc4L0HAMC4IvBCna1fvz6XXXZZjjvuuFx88cVjvRyAcWVa47rMbFxd\\\n",
       "877uhklJkumNa9LUt3E0l8VeoLOzMz293Vn91dfluXXTdrq/sbknc69akcfb27K5a+cdvBOmPpmZ\\\n",
       "82/yzQUAAMYdF1ljXFq5cmUaGhryyle+crvbX/ayl6WhoWFIv6ZN2/mLuJF04IEH5pZbbsmHP/zh\\\n",
       "dHfX3iUEAIyN59ZNy6bVM3f+tWZ6kmTTmuk1768VhQEAYDywg5di9PX15fjjj89xxx233e3/+Z//\\\n",
       "mTvvvDOTJ0/O/Pnzd3rc0UcfPVpL3Obss8/OkiVLcvvtt+f0008f9eeHoXjhTMpaMyjNnAQAAIDx\\\n",
       "S+ClGA0NDbnmmmt2uv0v//Ivc+edd+bEE0/MtddeO/oLq+Gcc87JkiVLsmzZMoGXca2joyOf/tSS\\\n",
       "dPdsmTdZawZlU7WSBZe4oBUAAACMRwIvxbv//vuTJC996UvHeCW/cfLJJ2fKlClZvnx5rr766jQ0\\\n",
       "NIz1kqCmzs7OdPf05nWPfzXTutalp7E5K+Zelbb/aE91c1eebJ6am2a5oBUAAACMV2bwUrz77rsv\\\n",
       "SXL88ceP8Up+o1qt5swzz8yqVavy/e9/f6yXA7s0rWtdZnatzvRNa5Ik0zetycyu1ZnWtW6MVwYA\\\n",
       "AAAMxA5eivb0009n5cqVScbXDt5ky5iG6667LsuWLcuJJ57Y73GbNm3Kpk2btv1+w4YNSZLu7m4X\\\n",
       "aWPE9fT0pFKppKexOd1Nk9LdOClJtv2zp7F5y/09Pd6P7JZt77WG5nQ3TKp5zNbb+7s/SXoavCcZ\\\n",
       "nq3vwcbmnvRM2vm90/j8bY017kuSxuYe7729xLa/r5qb0z2p/7+P6mnr84zW8yVJT7O/T9nC5x+g\\\n",
       "fA19fX19Y70I2NHKlStz+OGH55RTTskdd9zR73G33357Xv3qV2fy5Mnp6OhIpTJ+NqV3dnZm6tSp\\\n",
       "OfTQQ/PjH/+43+MWL16cK664Yqfbb7jhhrS0tIzkEgEAgL1cZ2dnzjvvvHR0dGS//fYb6+UAMAx2\\\n",
       "8FK0rfN3f/u3f3tcxd0kaWlpyWmnnZbly5fnZz/7WY466qiax33wgx/Mn/3Zn237/YYNGzJr1qz8\\\n",
       "/u//vv/BYsStXbs27e3tafuP9kzftCbdjZNy2/+zNKd95YI0bd6YtRNnpP3ItrS1tWX69OljvVwK\\\n",
       "tu291tqe6Y1rah7T3TAptx20NKetuiBNfRtrn2fzjLR3eE8ydFvfg4+3t2XTmp3fO42TuvPapbdl\\\n",
       "+QWnZfPGpp3unzhjbWa1tXvv7QW2/X3V3p7pa2r/fVVv3ZMm5balS3PaBRekaWPtv//qbe2MGWlv\\\n",
       "8/cpv/kJQgDKJfBStN2Zv/uBD3wgy5cvH/LjPv/5z+cVr3jFoI4955xzsnz58tx0001ZtGhRzWMm\\\n",
       "TpyYiRMn7nR7U1NTmpp2/gIT6qlaraa3tzfVzV1p6v7NF5RNmzemqXtjqtWuLfdXq96P7JZt77W+\\\n",
       "rn7j7VZNfRv7Paba5z3J8Gx9D27uqtYMuFtt3thU8/5qV9V7by+x7e+rrq5Ri61bNW3cOGrPWe3y\\\n",
       "9ylb+PwDlE/gpWhbd/AOZ/7uqlWr8tOf/nTIj3v22WcHfewhhxySJHn88ceH/Dwwmp5snppky8zd\\\n",
       "JFk7cUaq1a5ttwMAAADjk8BLsTo7O7cF2uHs4L3++utz/fXX13tZ27n55puTJGeeeeaIPg8MV0tL\\\n",
       "S5qqldw0a36SpFKpZG6S9iPb0tvbmyRpqlbMgwYAAIBxSuClWA8++GB6e3szYcKEHHvssWO9nJq+\\\n",
       "9rWvZb/99supp5461kuBmlpbW7PgkoXp7OxMsuXK4StWrEhbW1uq1WqSLRG4tbV1LJcJAAAA9EPg\\\n",
       "pVhb5+8ed9xx43Ju1AMPPJCVK1fmjW98YyZMmDDWy4F+tba2bgu43d3dSZLp06ePyz9XAAAAwPYE\\\n",
       "Xoq1O/N3R8OyZcuSbLnQGgAwPkyY+mTN2xube5IkE2esTbWrOujHAQDAWBN4KdbWHbzDmb87GpYt\\\n",
       "W5YJEyZk3rx5Y70UgHHjyc39X7ivp+H5i/xtnpFqX9eQHw8DaWlpSbXSlJnzb6p5f6VSSTI3s9ra\\\n",
       "t80g31G10mQmOQAA447AS5G6u7vzox/9KMn43MG7cuXKPPjggzn99NOz3377jfVyAMZcS0tLmhor\\\n",
       "uenZ+f0es+0ifx1t/Qa2JGlqdOE/hq61tTWXLFywbeb4jmrNIN+RmeQAAIxHAi9FampqyqZNm8Z6\\\n",
       "Gf0yngFge62trVlw8cJ+41oyuMCWiGwM3wtnju/IDHIAAEol8MIIWLZsWRoaGnL22WeP9VIAxo2B\\\n",
       "4loisAEAAAxHZawXAHua9evX5+67787LX/7yzJw5c6yXAwAAAMAezA5eqLMDDzwwmzdvHutlAAAA\\\n",
       "ALAXsIMXAAAAAKBQdvAyLu2///65/PLLc9hhh431UgAAAABg3BJ4GZf233//LF68eKyXAQAAAADj\\\n",
       "mhENAAAAAACFEngBAAAAAAol8AIAAAAAFErgBQAAAAAolMALAAAAAFAogRcAAAAAoFACLwAAAABA\\\n",
       "oQReAAAAAIBCCbwAAAAAAIUSeAEAAAAACiXwAgAAAAAUqnGsFwAAADDePDl16qg9V09zc5Jk7YwZ\\\n",
       "qXZ1jcpzjubHBwCMLIEXAADgeS0tLWmqVHLT/Pmj9pyVSiVzk7S3taW3t3fUnrepUklLS8uoPR8A\\\n",
       "MDIEXgAAgOe1trZmwcKF6ezsHLXn7OnpyYoVK9LW1pZqtTpqz9vS0pLW1tZRez4AYGQIvAAAAC/Q\\\n",
       "2to6quGzu7s7STJ9+vQ0NTWN2vMCAHsGF1kDAAAAACiUwAsAAAAAUCiBFwAAAACgUAIvAAAAAECh\\\n",
       "BF4AAAAAgEIJvAAAAAAAhRJ4AQAAAAAKJfACAAAAABRK4AUAAAAAKJTACwAAAABQKIEXAAAAAKBQ\\\n",
       "Ai8AAAAAQKEEXgAAAACAQgm8AAAAAACFEngBAAAAAAol8AIAAAAAFErgBQAAAAAolMALAAAAAFAo\\\n",
       "gRcAAAAAoFACLwAAAABAoQReAAAAAIBCCbwAAAAAAIUSeAEAAAAACiXwAgAAAAAUSuAFAAAAACiU\\\n",
       "wAsAAAAAUCiBFwAAAACgUAIvAAAAAEChBF4AAAAAgEIJvAAAAAAAhRJ4AQAAAAAKJfACAAAAABRK\\\n",
       "4AUAAAAAKJTACwAAAABQKIEXAAAAAKBQAi8AAAAAQKEEXgAAAACAQgm8AAAAAACFEngBAAAAAAol\\\n",
       "8AIAAAAAFErgBQAAAAAolMALAAAAAFAogRcAAAAAoFACLwAAAABAoQReAAAAAIBCCbwAAAAAAIUS\\\n",
       "eAEAAAAACiXwAgAAAAAUSuAFAAAAACiUwAsAAAAAUCiBFwAAAACgUAIvAAAAAEChBF4AAAAAgEIJ\\\n",
       "vAAAAAAAhRJ4AQAAAAAKJfACAAAAABRK4AUAAAAAKJTACwAAAABQKIEXAAAAAKBQAi8AAAAAQKEE\\\n",
       "XgAAAACAQgm8AAAAAACFEngBAAAAAAol8AIAAAAAFErgBQAAAAAolMALAAAAAFAogRcAAAAAoFAC\\\n",
       "LwAAAABAoQReAAAAAIBCCbwAAAAAAIUSeAEAAAAACiXwAgAAAAAUSuAFAAAAACiUwAsAAAAAUCiB\\\n",
       "FwAAAACgUAIvAAAAAEChBF4AAAAAgEIJvAAAAAAAhRJ4AQAAAAAKJfACAAAAABRK4AUAAAAAKJTA\\\n",
       "CwAAAABQKIEXAAAAAKBQAi8AAAAAQKEEXgAAAACAQgm8AAAAAACFEngBAAAAAAol8AIAAAAAFErg\\\n",
       "BQAAAAAolMALAAAAAFAogRcAAAAAoFACLwAAAABAoQReAAAAAIBCCbwAAAAAAIUSeAEAAAAACiXw\\\n",
       "AgAAAAAUSuAFAAAAACiUwAsAAAAAUCiBFwAAAACgUAIvAAAAAEChBF4AAAAAgEIJvAAAAAAAhRJ4\\\n",
       "AQAAAAAKJfACAAAAABRK4AUAAAAAKJTACwAAAABQKIEXAAAAAKBQAi8AAAAAQKEEXgAAAACAQgm8\\\n",
       "AAAAAACFEngBAAAAAAol8AIAAAAAFErgBQAAAAAolMALAAAAAFAogRcAAAAAoFACLwAAAABAoQRe\\\n",
       "AAAAAIBCCbwAAAAAAIUSeAEAAAAACiXwAgAAAAAUSuAFAAAAACiUwAsAAAAAUCiBFwAAAACgUAIv\\\n",
       "AAAAAEChBF4AAAAAgEIJvAAAAAAAhRJ4AQAAAAAK1TjWCwC219fXlyTZsGHDGK+EvVF3d3c6Ozuz\\\n",
       "YcOGNDU1jfVy2Mt4/zGWvP8YS95/jKWtX3ds/ToEgPIIvDDOPPPMM0mSWbNmjfFKAACAvcUzzzyT\\\n",
       "1tbWsV4GAMPQ0OfbdDCu9Pb2ZtWqVdl3333T0NAw1ssBAAD2YH19fXnmmWdy0EEHpVIxxRGgRAIv\\\n",
       "AAAAAEChfHsOAAAAAKBQAi8AAAAAQKEEXgAAAACAQgm8AAAAAACFEngBAAAAAAol8AIAAAAAFErg\\\n",
       "BQAAAAAolMALAAAAAFAogRcAAAAAoFACLwAAAABAoQReAAAAAIBCCbwAAAAAAIUSeAEAAAAACiXw\\\n",
       "AgAAAAAUSuAFAAAAACiUwAsAAAAAUCiBFwAAAACgUAIvAAAAAEChBF4AAAAAgEIJvAAAAAAAhRJ4\\\n",
       "AQAAAAAKJfACAAAAABRK4AUAAAAAKJTACwAAAABQKIEXAAAAAKBQAi8AAAAAQKEEXgAAAACAQgm8\\\n",
       "AAAAAACFEngBAAAAAAol8AIAAAAAFErgBQAAAAAolMALAAAAAFAogRcAAAAAoFACLwAAAABAoQRe\\\n",
       "AAAAAIBCCbwAAAAAAIUSeAEAAAAACiXwAgAAAAAUSuAFAAAAACiUwAsAAAAAUCiBFwAAAACgUAIv\\\n",
       "AAAAAEChBF4AAAAAgEIJvAAAAAAAhRJ4AQAAAAAKJfACAAAAABRK4AUAAAAAKJTACwAAAABQKIEX\\\n",
       "AAAAAKBQAi8AAAAAQKEEXgAAAACAQgm8AAAAAACFEngBAAAAAAol8AIAAAAAFErgBQAAAAAolMAL\\\n",
       "AAAAAFAogRcAAAAAoFACLwAAAABAoQReAAAAAIBCCbwAAAAAAIUSeAEAAAAACiXwAgAAAAAUSuAF\\\n",
       "AAAAACiUwAsAAAAAUCiBFwAAAACgUAIvAAAAAEChBF4AAAAAgEIJvAAAAAAAhRJ4AQAAAAAKJfAC\\\n",
       "AAAAABRK4AUAAAAAKJTACwAAAABQKIEXAAAAAKBQAi8AAAAAQKEEXgAAAACAQgm8AAAAAACFEngB\\\n",
       "AAAAAAol8AIAAAAAFErgBQAAAAAolMALAAAAAFAogRcAAAAAoFACLwAAAABAoQReAAAAAIBCCbwA\\\n",
       "AAAAAIUSeAEAAAAACiXwAgAAAAAUSuAFAAAAACiUwAsAAAAAUCiBFwAAAACgUAIvAAAAAEChBF4A\\\n",
       "AAAAgEIJvAAAAAAAhRJ4AQAAAAAKJfACAAAAABRK4AUAAAAAKJTACwAAAABQKIEXAAAAAKBQ/z8X\\\n",
       "4QN+r6DLuQAAAABJRU5ErkJggg==\\\n",
       "\"\n",
       "\n",
       "\n",
       "    /* set a timeout to make sure all the above elements are created before\n",
       "       the object is initialized. */\n",
       "    setTimeout(function() {\n",
       "        anim925c6841b96244e588583904c2e0fa3e = new Animation(frames, img_id, slider_id, 200.0,\n",
       "                                 loop_select_id);\n",
       "    }, 0);\n",
       "  })()\n",
       "</script>\n"
      ],
      "text/plain": [
       "<IPython.core.display.HTML object>"
      ]
     },
     "execution_count": 24,
     "metadata": {},
     "output_type": "execute_result"
    }
   ],
   "source": [
    "# Note: spin coherent state sampling has slower convergence for off-diagnal term than projection state sampling\n",
    "fig, anim = get_anim(\n",
    "    density_data[::10, :, :],\n",
    "    time_data_μs[::10],\n",
    "    title=\"Reduced density matrix\",\n",
    "    time_unit=\"μs\",\n",
    "    save_gif=True,\n",
    "    dpi=30,\n",
    "    gif_filename=\"rdm-radical.gif\",\n",
    "    row_names=[\n",
    "        r\"$|T+\\rangle$\",\n",
    "        r\"$|T0\\rangle$\",\n",
    "        r\"$|S\\rangle$\",\n",
    "        r\"$|T-\\rangle$\",\n",
    "    ],\n",
    "    col_names=[\n",
    "        r\"$\\langle T+|$\",\n",
    "        r\"$\\langle T0|$\",\n",
    "        r\"$\\langle S|$\",\n",
    "        r\"$\\langle T-|$\",\n",
    "    ],\n",
    ")\n",
    "plt.show()\n",
    "HTML(anim.to_jshtml())"
   ]
  },
  {
   "cell_type": "markdown",
   "id": "e3e9d242-6f76-4604-b528-eeeb6a14f3b3",
   "metadata": {},
   "source": [
    "## Compare with RadicalPy simulation"
   ]
  },
  {
   "cell_type": "code",
   "execution_count": 25,
   "id": "ef6c4aa4-86a1-44b2-97ff-a475858d1ff9",
   "metadata": {},
   "outputs": [],
   "source": [
    "if len(basis) < 8:\n",
    "    assert isinstance(D, np.ndarray)\n",
    "    H = sim.total_hamiltonian(B0=B0, D=D, J=J)\n",
    "    time = np.arange(0, 5e-8, 5e-10)\n",
    "    rhos = sim.time_evolution(State.SINGLET, time, H)\n",
    "    time_evol_s = sim.product_probability(State.SINGLET, rhos)\n",
    "    time_evol_tp = sim.product_probability(State.TRIPLET_PLUS, rhos)\n",
    "    time_evol_tz = sim.product_probability(State.TRIPLET_ZERO, rhos)\n",
    "    time_evol_tm = sim.product_probability(State.TRIPLET_MINUS, rhos)\n",
    "    x = time * 1e6\n",
    "\n",
    "    plt.plot(x, time_evol_tp, linewidth=2, label=\"T+\")\n",
    "    plt.plot(x, time_evol_tz, linewidth=2, label=\"T0\")\n",
    "    plt.plot(x, time_evol_s, linewidth=2, label=\"S\")\n",
    "    plt.plot(x, time_evol_tm, linewidth=2, label=\"T-\")\n",
    "    plt.legend()\n",
    "    plt.title(f\"RadicalPy: Density Matrix Approach {B0=}, {J=}\")\n",
    "    plt.xlabel(r\"Time ($\\mu s$)\")\n",
    "    plt.ylabel(\"Probability\")\n",
    "    plt.ylim([0, 1])\n",
    "    plt.show()"
   ]
  },
  {
   "cell_type": "code",
   "execution_count": 26,
   "id": "bb8dc86e-4706-4c93-aa12-fbfcf5696c80",
   "metadata": {},
   "outputs": [],
   "source": [
    "if len(basis) < 6:\n",
    "    fig, anim = get_anim(\n",
    "        rhos[::, :, :],\n",
    "        x[::],\n",
    "        title=\"Full density matrix\",\n",
    "        time_unit=\"μs\",\n",
    "        dpi=30,\n",
    "    )\n",
    "    plt.show()\n",
    "    display(HTML(anim.to_jshtml()))\n",
    "elif len(basis) < 8:\n",
    "    red_rhos = np.einsum(\n",
    "        \"tikjk->tij\",\n",
    "        rhos.reshape(\n",
    "            rhos.shape[0], 4, rhos.shape[1] // 4, 4, rhos.shape[2] // 4\n",
    "        ),\n",
    "    )\n",
    "    fig, anim = get_anim(\n",
    "        red_rhos[::20, :, :],\n",
    "        x[::20],\n",
    "        title=\"Reduced density matrix\",\n",
    "        time_unit=\"μs\",\n",
    "        dpi=30,\n",
    "    )\n",
    "    plt.show()\n",
    "    display(HTML(anim.to_jshtml()))"
   ]
  },
  {
   "cell_type": "code",
   "execution_count": 27,
   "id": "efadd68e-2b39-40dc-9322-cc2e02dec2fa",
   "metadata": {},
   "outputs": [],
   "source": [
    "# Clean files\n",
    "!rm -rf radicalpair_*_prop\n",
    "!rm -f wf_radicalpair_*.pkl"
   ]
  }
 ],
 "metadata": {
  "kernelspec": {
   "display_name": "Python 3 (ipykernel)",
   "language": "python",
   "name": "python3"
  },
  "language_info": {
   "codemirror_mode": {
    "name": "ipython",
    "version": 3
   },
   "file_extension": ".py",
   "mimetype": "text/x-python",
   "name": "python",
   "nbconvert_exporter": "python",
   "pygments_lexer": "ipython3",
   "version": "3.12.2"
  }
 },
 "nbformat": 4,
 "nbformat_minor": 5
}
