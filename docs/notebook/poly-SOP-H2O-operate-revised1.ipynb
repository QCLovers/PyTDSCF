{
 "cells": [
  {
   "cell_type": "markdown",
   "id": "bcbc9641-d5d1-4f1c-a168-804cff801d8e",
   "metadata": {},
   "source": [
    "# Example 2: Operation of dipole moment operator to H2O vibrational ground state"
   ]
  },
  {
   "cell_type": "markdown",
   "id": "66e0443d-0b0a-4456-9b83-15ce3a003855",
   "metadata": {},
   "source": [
    "| run type | restart | wavefunction | backend | Basis  | max iteration |\n",
    "| ---       | ---   | ---          | ---     | ---    | ---   |\n",
    "| operation  | True (file suffix `_gs`)  | MPS-SM (restart) | Numpy   | HO-DVR | 10    |"
   ]
  },
  {
   "cell_type": "markdown",
   "id": "d484ceaa-861c-4347-8cf0-52c3d5e6201b",
   "metadata": {},
   "source": [
    "## 1. Import modules"
   ]
  },
  {
   "cell_type": "markdown",
   "id": "0b50fd02-cf7c-42b5-a02d-ca3450ebf70e",
   "metadata": {},
   "source": [
    "- Required in **any** calculations"
   ]
  },
  {
   "cell_type": "code",
   "execution_count": 1,
   "id": "6460756f-ff3a-4c0f-a761-013f629aa161",
   "metadata": {
    "ExecuteTime": {
     "end_time": "2023-06-26T07:02:37.114255Z",
     "start_time": "2023-06-26T07:02:34.738021Z"
    }
   },
   "outputs": [],
   "source": [
    "from pytdscf import BasInfo, Model, Simulator"
   ]
  },
  {
   "cell_type": "markdown",
   "id": "eb10b01d-3471-4800-952a-ffc6857fe942",
   "metadata": {},
   "source": [
    "## 2. Set DVR primitive basis"
   ]
  },
  {
   "cell_type": "markdown",
   "id": "83d3e0aa-ade3-4399-ad7a-0b4d5ef7456e",
   "metadata": {},
   "source": [
    "**MPS-MCTDH wavefunction**\n",
    "$$\n",
    "|\\Psi_{\\rm{MPS-MCTDH}}\\rangle = \\sum_{\\mathbf \\{j\\}}\\sum_{\\mathbf \\{\\tau\\}}\n",
    "a\\substack{j_1 \\\\ 1\\tau_1}a\\substack{j_2 \\\\ \\tau_1\\tau_2} \\cdots a\\substack{j_f \\\\ \\tau_{f-1}1}\n",
    "|\\varphi_{j_1}^{(1)}(q_1)\\rangle|\\varphi_{j_2}^{(2)}(q_2)\\rangle\n",
    "\\cdots|\\varphi_{j_f}^{(f)}(q_f)\\rangle\n",
    "$$\n",
    "where SPF is \n",
    "$$\n",
    "\\varphi_{j_p}^{(p)}(q_p) = \\sum_{i_p=1}^{n_p} c_{i_p}^{j_p}\\chi_{i_p}^{(p)}(q_p) \\; (j_p = 1,2,\\ldots, N_p)\n",
    "$$\n",
    "\n",
    "Here, select $\\{\\chi_{i_p}^{(p)}(q_p)\\}$ as Harmonic Oscillator eigenfunction.\n",
    "See detail in [documenation](https://qclovers.github.io/PyTDSCF/pytdscf.html#pytdscf.primints_cls.PrimBas_HO).\n",
    "Here one define $n_p$ = 9, $N_p$ = 9. \n",
    "\n",
    "**NOTE**\n",
    "\n",
    "- In MPS,  $n = N$ (SM) is usually better than $n < M$ (MCTDH). Only when using a laptop computer, MCTDH sometimes works better. (because the required RAM in MCTDH is smaller than SM.)\n",
    "\n",
    "- Basis information must be the same as restart one."
   ]
  },
  {
   "cell_type": "code",
   "execution_count": 2,
   "id": "0e76d805-f56e-494e-a228-f676a1d3d942",
   "metadata": {
    "ExecuteTime": {
     "end_time": "2023-06-26T07:02:37.187153Z",
     "start_time": "2023-06-26T07:02:37.145046Z"
    }
   },
   "outputs": [],
   "source": [
    "from math import sqrt\n",
    "\n",
    "from discvar import HarmonicOscillator\n",
    "\n",
    "from pytdscf import units\n",
    "from pytdscf.potentials.h2o_potential import k_orig\n",
    "from pytdscf.dvr_operator_cls import TensorOperator\n",
    "from pytdscf.hamiltonian_cls import TensorHamiltonian\n",
    "\n",
    "import numpy as np\n",
    "import sympy\n",
    "from pympo import AssignManager, OpSite, SumOfProducts\n",
    "\n",
    "backend = \"numpy\"\n",
    "\n",
    "freqs = [\n",
    "    sqrt(k_orig[(1, 1)]),\n",
    "    sqrt(k_orig[(2, 2)]),\n",
    "    sqrt(k_orig[(3, 3)]),\n",
    "]  # a.u.\n",
    "\n",
    "nprims = [9, 9, 9]  # Number of primitive basis\n",
    "\n",
    "basis = [\n",
    "    HarmonicOscillator(nprim, omega, units=\"a.u.\")\n",
    "    for nprim, omega in zip(nprims, freqs, strict=False)\n",
    "]\n",
    "ndim = len(basis)  # Number of degree of freedom, H2O has 3 DOFs\n",
    "basinfo = BasInfo([basis])  # Set basis information object"
   ]
  },
  {
   "cell_type": "markdown",
   "id": "98a65e22-92d8-4732-84a8-e0231bb24560",
   "metadata": {},
   "source": [
    "## 3. Set Dipole Operator (Polynomial Function)"
   ]
  },
  {
   "cell_type": "markdown",
   "id": "af70e00d-0c9c-4a46-b764-c67e7fc2febf",
   "metadata": {},
   "source": [
    "Here, one use pre-calculated Polyonimal PES and DMS."
   ]
  },
  {
   "cell_type": "code",
   "execution_count": 3,
   "id": "55f1d56b-bf06-48d2-accd-e52265659a84",
   "metadata": {
    "ExecuteTime": {
     "end_time": "2023-06-26T07:02:37.205923Z",
     "start_time": "2023-06-26T07:02:37.175467Z"
    },
    "scrolled": true,
    "tags": []
   },
   "outputs": [
    {
     "data": {
      "text/plain": [
       "{(): [-1.69908e-15, 1.24913e-14, -1.93795],\n",
       " (3,): [-2.20831e-17, 0.00853527, -8.32759e-16],\n",
       " (2,): [1.50857e-17, 2.08217e-15, -0.00326347],\n",
       " (1,): [6.37588e-18, 8.65662e-16, 0.0142383],\n",
       " (3, 3): [3.5274e-18, -1.35302e-15, -2.31565e-05],\n",
       " (2, 3): [3.46044e-18, -0.000294259, -7.3169e-16],\n",
       " (2, 2): [-1.5306e-18, -1.42229e-15, 0.00020955],\n",
       " (1, 3): [1.45261e-17, 0.000327409, -2.99469e-17],\n",
       " (1, 2): [3.90656e-18, 1.26166e-16, -0.000112968],\n",
       " (1, 1): [-6.45481e-18, 6.79098e-16, 0.000192831],\n",
       " (3, 3, 3): [-1.34711e-21, 7.33335e-06, 9.41511e-22],\n",
       " (2, 3, 3): [2.2067e-22, -3.92968e-22, 3.0608e-06],\n",
       " (1, 3, 3): [-2.55725e-22, 4.55392e-22, -3.54702e-06],\n",
       " (2, 2, 3): [6.16547e-22, -3.35633e-06, -4.3091e-22],\n",
       " (2, 2, 2): [1.69378e-22, -3.01627e-22, 2.34936e-06],\n",
       " (1, 2, 2): [3.17065e-22, -5.64628e-22, 4.39783e-06],\n",
       " (1, 1, 3): [-1.08836e-21, 5.92476e-06, 7.60666e-22],\n",
       " (1, 1, 2): [-2.92033e-23, 5.20049e-23, -4.05062e-07],\n",
       " (1, 1, 1): [5.60185e-22, -9.97572e-22, 7.77e-06]}"
      ]
     },
     "execution_count": 3,
     "metadata": {},
     "output_type": "execute_result"
    }
   ],
   "source": [
    "from pytdscf.potentials.h2o_dipole import mu\n",
    "\n",
    "mu  # Dipole has (x,y,z) elements"
   ]
  },
  {
   "cell_type": "markdown",
   "id": "5b878dee-9610-478d-b4ea-95962f2d2e6a",
   "metadata": {},
   "source": [
    "### Setup one particle operator"
   ]
  },
  {
   "cell_type": "code",
   "execution_count": 4,
   "id": "232ec00b-d71e-4588-939b-1058715c8b9d",
   "metadata": {
    "ExecuteTime": {
     "end_time": "2023-06-26T07:02:37.205923Z",
     "start_time": "2023-06-26T07:02:37.175467Z"
    },
    "scrolled": true,
    "tags": []
   },
   "outputs": [],
   "source": [
    "q1_list = [np.array(basis_i.get_grids()) for basis_i in basis]\n",
    "q2_list = [q1_int**2 for q1_int in q1_list]\n",
    "q3_list = [q1_int**3 for q1_int in q1_list]\n",
    "q0_list = [q1_int**0 for q1_int in q1_list]\n",
    "\n",
    "q3_ops = [OpSite(f\"q^3_{i+1}\", i, value=q3_list[i]) for i in range(0, ndim)]\n",
    "q2_ops = [OpSite(f\"q^2_{i+1}\", i, value=q2_list[i]) for i in range(0, ndim)]\n",
    "q1_ops = [OpSite(f\"q^1_{i+1}\", i, value=q1_list[i]) for i in range(0, ndim)]\n",
    "q0_ops = [OpSite(f\"q^0_{i+1}\", i, value=q0_list[i]) for i in range(0, ndim)]\n",
    "\n",
    "qn_list = [q0_ops, q1_ops, q2_ops, q3_ops]"
   ]
  },
  {
   "cell_type": "code",
   "execution_count": 5,
   "id": "6068eec2-cb9e-4ff8-a3f4-74d40ece9729",
   "metadata": {},
   "outputs": [],
   "source": [
    "E = []\n",
    "subs = {}\n",
    "\n",
    "for i in range(3):\n",
    "    E.append(sympy.symbols(\"E\" + f\"_{i}\"))\n",
    "    subs[E[i]] = 1.0"
   ]
  },
  {
   "cell_type": "code",
   "execution_count": 6,
   "id": "a56b0345-5db1-410a-814e-160cb9c04fd2",
   "metadata": {},
   "outputs": [],
   "source": [
    "from collections import Counter\n",
    "\n",
    "mu_tensor = np.zeros((4, 4, 4, 3))\n",
    "key_list = list(mu.keys())\n",
    "\n",
    "for key in key_list:\n",
    "    count = Counter(key)\n",
    "    for i in range(3):\n",
    "        mu_tensor[count[1]][count[2]][count[3]][i] = mu[key][i]\n",
    "\n",
    "mu_symbol = [[[[sympy.symbols(\"μ_{\" + \"1\" * i + \"2\" * j + \"3\" * k + f\"{l}\" + \"}\") for l in range(3)]\n",
    "               for k in range(4)]\n",
    "              for j in range(4)]\n",
    "             for i in range(4)]\n",
    "\n",
    "for i in range(4):\n",
    "    for j in range(4):\n",
    "        for k in range(4):\n",
    "            for l in range(3):\n",
    "                subs[mu_symbol[i][j][k][l]] = mu_tensor[i][j][k][l]"
   ]
  },
  {
   "cell_type": "markdown",
   "id": "430707d7-aab9-4f2e-a789-d47d568c8562",
   "metadata": {},
   "source": [
    "### Setup Potential Operator"
   ]
  },
  {
   "cell_type": "code",
   "execution_count": 7,
   "id": "8b55831c-3cb4-4f01-ba23-048c6369923b",
   "metadata": {},
   "outputs": [
    {
     "data": {
      "text/latex": [
       "$\\displaystyle \\left(1.0 E_{0} μ_{0} + 1.0 E_{1} μ_{1} + 1.0 E_{2} μ_{2}\\right) q^{0}_{1} q^{0}_{2} q^{0}_{3} + \\left(1.0 E_{0} μ_{10} + 1.0 E_{1} μ_{11} + 1.0 E_{2} μ_{12}\\right) q^{1}_{1} q^{0}_{2} q^{0}_{3} + \\left(0.5 E_{0} μ_{110} + 0.5 E_{1} μ_{111} + 0.5 E_{2} μ_{112}\\right) q^{2}_{1} q^{0}_{2} q^{0}_{3} + \\left(0.166666666666667 E_{0} μ_{1110} + 0.166666666666667 E_{1} μ_{1111} + 0.166666666666667 E_{2} μ_{1112}\\right) q^{3}_{1} q^{0}_{2} q^{0}_{3} + \\left(0.5 E_{0} μ_{1120} + 0.5 E_{1} μ_{1121} + 0.5 E_{2} μ_{1122}\\right) q^{2}_{1} q^{1}_{2} q^{0}_{3} + \\left(0.5 E_{0} μ_{1130} + 0.5 E_{1} μ_{1131} + 0.5 E_{2} μ_{1132}\\right) q^{2}_{1} q^{0}_{2} q^{1}_{3} + \\left(1.0 E_{0} μ_{120} + 1.0 E_{1} μ_{121} + 1.0 E_{2} μ_{122}\\right) q^{1}_{1} q^{1}_{2} q^{0}_{3} + \\left(0.5 E_{0} μ_{1220} + 0.5 E_{1} μ_{1221} + 0.5 E_{2} μ_{1222}\\right) q^{1}_{1} q^{2}_{2} q^{0}_{3} + \\left(1.0 E_{0} μ_{130} + 1.0 E_{1} μ_{131} + 1.0 E_{2} μ_{132}\\right) q^{1}_{1} q^{0}_{2} q^{1}_{3} + \\left(0.5 E_{0} μ_{1330} + 0.5 E_{1} μ_{1331} + 0.5 E_{2} μ_{1332}\\right) q^{1}_{1} q^{0}_{2} q^{2}_{3} + \\left(1.0 E_{0} μ_{20} + 1.0 E_{1} μ_{21} + 1.0 E_{2} μ_{22}\\right) q^{0}_{1} q^{1}_{2} q^{0}_{3} + \\left(0.5 E_{0} μ_{220} + 0.5 E_{1} μ_{221} + 0.5 E_{2} μ_{222}\\right) q^{0}_{1} q^{2}_{2} q^{0}_{3} + \\left(0.166666666666667 E_{0} μ_{2220} + 0.166666666666667 E_{1} μ_{2221} + 0.166666666666667 E_{2} μ_{2222}\\right) q^{0}_{1} q^{3}_{2} q^{0}_{3} + \\left(0.5 E_{0} μ_{2230} + 0.5 E_{1} μ_{2231} + 0.5 E_{2} μ_{2232}\\right) q^{0}_{1} q^{2}_{2} q^{1}_{3} + \\left(1.0 E_{0} μ_{230} + 1.0 E_{1} μ_{231} + 1.0 E_{2} μ_{232}\\right) q^{0}_{1} q^{1}_{2} q^{1}_{3} + \\left(0.5 E_{0} μ_{2330} + 0.5 E_{1} μ_{2331} + 0.5 E_{2} μ_{2332}\\right) q^{0}_{1} q^{1}_{2} q^{2}_{3} + \\left(1.0 E_{0} μ_{30} + 1.0 E_{1} μ_{31} + 1.0 E_{2} μ_{32}\\right) q^{0}_{1} q^{0}_{2} q^{1}_{3} + \\left(0.5 E_{0} μ_{330} + 0.5 E_{1} μ_{331} + 0.5 E_{2} μ_{332}\\right) q^{0}_{1} q^{0}_{2} q^{2}_{3} + \\left(0.166666666666667 E_{0} μ_{3330} + 0.166666666666667 E_{1} μ_{3331} + 0.166666666666667 E_{2} μ_{3332}\\right) q^{0}_{1} q^{0}_{2} q^{3}_{3}$"
      ],
      "text/plain": [
       "(1.0*E_0*μ_{0} + 1.0*E_1*μ_{1} + 1.0*E_2*μ_{2})*q^0_1*q^0_2*q^0_3 + (1.0*E_0*μ_{10} + 1.0*E_1*μ_{11} + 1.0*E_2*μ_{12})*q^1_1*q^0_2*q^0_3 + (0.5*E_0*μ_{110} + 0.5*E_1*μ_{111} + 0.5*E_2*μ_{112})*q^2_1*q^0_2*q^0_3 + (0.166666666666667*E_0*μ_{1110} + 0.166666666666667*E_1*μ_{1111} + 0.166666666666667*E_2*μ_{1112})*q^3_1*q^0_2*q^0_3 + (0.5*E_0*μ_{1120} + 0.5*E_1*μ_{1121} + 0.5*E_2*μ_{1122})*q^2_1*q^1_2*q^0_3 + (0.5*E_0*μ_{1130} + 0.5*E_1*μ_{1131} + 0.5*E_2*μ_{1132})*q^2_1*q^0_2*q^1_3 + (1.0*E_0*μ_{120} + 1.0*E_1*μ_{121} + 1.0*E_2*μ_{122})*q^1_1*q^1_2*q^0_3 + (0.5*E_0*μ_{1220} + 0.5*E_1*μ_{1221} + 0.5*E_2*μ_{1222})*q^1_1*q^2_2*q^0_3 + (1.0*E_0*μ_{130} + 1.0*E_1*μ_{131} + 1.0*E_2*μ_{132})*q^1_1*q^0_2*q^1_3 + (0.5*E_0*μ_{1330} + 0.5*E_1*μ_{1331} + 0.5*E_2*μ_{1332})*q^1_1*q^0_2*q^2_3 + (1.0*E_0*μ_{20} + 1.0*E_1*μ_{21} + 1.0*E_2*μ_{22})*q^0_1*q^1_2*q^0_3 + (0.5*E_0*μ_{220} + 0.5*E_1*μ_{221} + 0.5*E_2*μ_{222})*q^0_1*q^2_2*q^0_3 + (0.166666666666667*E_0*μ_{2220} + 0.166666666666667*E_1*μ_{2221} + 0.166666666666667*E_2*μ_{2222})*q^0_1*q^3_2*q^0_3 + (0.5*E_0*μ_{2230} + 0.5*E_1*μ_{2231} + 0.5*E_2*μ_{2232})*q^0_1*q^2_2*q^1_3 + (1.0*E_0*μ_{230} + 1.0*E_1*μ_{231} + 1.0*E_2*μ_{232})*q^0_1*q^1_2*q^1_3 + (0.5*E_0*μ_{2330} + 0.5*E_1*μ_{2331} + 0.5*E_2*μ_{2332})*q^0_1*q^1_2*q^2_3 + (1.0*E_0*μ_{30} + 1.0*E_1*μ_{31} + 1.0*E_2*μ_{32})*q^0_1*q^0_2*q^1_3 + (0.5*E_0*μ_{330} + 0.5*E_1*μ_{331} + 0.5*E_2*μ_{332})*q^0_1*q^0_2*q^2_3 + (0.166666666666667*E_0*μ_{3330} + 0.166666666666667*E_1*μ_{3331} + 0.166666666666667*E_2*μ_{3332})*q^0_1*q^0_2*q^3_3"
      ]
     },
     "execution_count": 7,
     "metadata": {},
     "output_type": "execute_result"
    }
   ],
   "source": [
    "from scipy.special import factorial\n",
    "\n",
    "pot_sop = SumOfProducts()\n",
    "\n",
    "for i in range(4):\n",
    "    for j in range(4):\n",
    "        for k in range(4):\n",
    "            k_constant = 0\n",
    "            k_value = 0\n",
    "            for l in range(3):\n",
    "                k_constant += mu_symbol[i][j][k][l] * E[l]\n",
    "                k_value += mu_tensor[i][j][k][l] * subs[E[l]]\n",
    "            if k_value == 0:\n",
    "                continue\n",
    "            pot_sop += k_constant * qn_list[i][0] * qn_list[j][1] * qn_list[k][2] / factorial(i) / factorial(j) / factorial(k)    \n",
    "\n",
    "pot_sop = pot_sop.simplify()\n",
    "pot_sop.symbol"
   ]
  },
  {
   "cell_type": "markdown",
   "id": "7919c44a-8578-4019-af7a-6179705f4762",
   "metadata": {},
   "source": [
    "### Setup MPO"
   ]
  },
  {
   "cell_type": "code",
   "execution_count": 8,
   "id": "805804f2-515d-4145-a9ef-8f918ef4bb7e",
   "metadata": {},
   "outputs": [
    {
     "name": "stderr",
     "output_type": "stream",
     "text": [
      "\u001b[32m2025-04-30 12:30:22.613\u001b[0m | \u001b[1mINFO    \u001b[0m | \u001b[36mpympo.bipartite\u001b[0m:\u001b[36massign\u001b[0m:\u001b[36m286\u001b[0m - \u001b[1massigned 1/3\u001b[0m\n",
      "\u001b[32m2025-04-30 12:30:22.634\u001b[0m | \u001b[1mINFO    \u001b[0m | \u001b[36mpympo.bipartite\u001b[0m:\u001b[36massign\u001b[0m:\u001b[36m286\u001b[0m - \u001b[1massigned 2/3\u001b[0m\n",
      "\u001b[32m2025-04-30 12:30:22.640\u001b[0m | \u001b[1mINFO    \u001b[0m | \u001b[36mpympo.bipartite\u001b[0m:\u001b[36massign\u001b[0m:\u001b[36m286\u001b[0m - \u001b[1massigned 3/3\u001b[0m\n"
     ]
    },
    {
     "data": {
      "text/latex": [
       "$\\displaystyle \\left[\\begin{matrix}q^{1}_{1} & q^{0}_{1} & q^{3}_{1} & q^{2}_{1}\\end{matrix}\\right]$"
      ],
      "text/plain": [
       "Matrix([[q^1_1, q^0_1, q^3_1, q^2_1]])"
      ]
     },
     "metadata": {},
     "output_type": "display_data"
    },
    {
     "data": {
      "text/latex": [
       "$\\displaystyle \\left[\\begin{matrix}\\left(1.0 E_{0} μ_{130} + 1.0 E_{1} μ_{131} + 1.0 E_{2} μ_{132}\\right) q^{0}_{2} & \\left(0.5 E_{0} μ_{1330} + 0.5 E_{1} μ_{1331} + 0.5 E_{2} μ_{1332}\\right) q^{0}_{2} & \\left(1.0 E_{0} μ_{10} + 1.0 E_{1} μ_{11} + 1.0 E_{2} μ_{12}\\right) q^{0}_{2} + \\left(1.0 E_{0} μ_{120} + 1.0 E_{1} μ_{121} + 1.0 E_{2} μ_{122}\\right) q^{1}_{2} + \\left(0.5 E_{0} μ_{1220} + 0.5 E_{1} μ_{1221} + 0.5 E_{2} μ_{1222}\\right) q^{2}_{2} & 0\\\\\\left(0.5 E_{0} μ_{2230} + 0.5 E_{1} μ_{2231} + 0.5 E_{2} μ_{2232}\\right) q^{2}_{2} + \\left(1.0 E_{0} μ_{230} + 1.0 E_{1} μ_{231} + 1.0 E_{2} μ_{232}\\right) q^{1}_{2} + \\left(1.0 E_{0} μ_{30} + 1.0 E_{1} μ_{31} + 1.0 E_{2} μ_{32}\\right) q^{0}_{2} & \\left(0.5 E_{0} μ_{2330} + 0.5 E_{1} μ_{2331} + 0.5 E_{2} μ_{2332}\\right) q^{1}_{2} + \\left(0.5 E_{0} μ_{330} + 0.5 E_{1} μ_{331} + 0.5 E_{2} μ_{332}\\right) q^{0}_{2} & \\left(1.0 E_{0} μ_{0} + 1.0 E_{1} μ_{1} + 1.0 E_{2} μ_{2}\\right) q^{0}_{2} + \\left(1.0 E_{0} μ_{20} + 1.0 E_{1} μ_{21} + 1.0 E_{2} μ_{22}\\right) q^{1}_{2} + \\left(0.5 E_{0} μ_{220} + 0.5 E_{1} μ_{221} + 0.5 E_{2} μ_{222}\\right) q^{2}_{2} + \\left(0.166666666666667 E_{0} μ_{2220} + 0.166666666666667 E_{1} μ_{2221} + 0.166666666666667 E_{2} μ_{2222}\\right) q^{3}_{2} & q^{0}_{2}\\\\0 & 0 & \\left(0.166666666666667 E_{0} μ_{1110} + 0.166666666666667 E_{1} μ_{1111} + 0.166666666666667 E_{2} μ_{1112}\\right) q^{0}_{2} & 0\\\\\\left(0.5 E_{0} μ_{1130} + 0.5 E_{1} μ_{1131} + 0.5 E_{2} μ_{1132}\\right) q^{0}_{2} & 0 & \\left(0.5 E_{0} μ_{110} + 0.5 E_{1} μ_{111} + 0.5 E_{2} μ_{112}\\right) q^{0}_{2} + \\left(0.5 E_{0} μ_{1120} + 0.5 E_{1} μ_{1121} + 0.5 E_{2} μ_{1122}\\right) q^{1}_{2} & 0\\end{matrix}\\right]$"
      ],
      "text/plain": [
       "Matrix([\n",
       "[                                                                                                                            (1.0*E_0*μ_{130} + 1.0*E_1*μ_{131} + 1.0*E_2*μ_{132})*q^0_2,                                                               (0.5*E_0*μ_{1330} + 0.5*E_1*μ_{1331} + 0.5*E_2*μ_{1332})*q^0_2,                                                                                                   (1.0*E_0*μ_{10} + 1.0*E_1*μ_{11} + 1.0*E_2*μ_{12})*q^0_2 + (1.0*E_0*μ_{120} + 1.0*E_1*μ_{121} + 1.0*E_2*μ_{122})*q^1_2 + (0.5*E_0*μ_{1220} + 0.5*E_1*μ_{1221} + 0.5*E_2*μ_{1222})*q^2_2,     0],\n",
       "[(0.5*E_0*μ_{2230} + 0.5*E_1*μ_{2231} + 0.5*E_2*μ_{2232})*q^2_2 + (1.0*E_0*μ_{230} + 1.0*E_1*μ_{231} + 1.0*E_2*μ_{232})*q^1_2 + (1.0*E_0*μ_{30} + 1.0*E_1*μ_{31} + 1.0*E_2*μ_{32})*q^0_2, (0.5*E_0*μ_{2330} + 0.5*E_1*μ_{2331} + 0.5*E_2*μ_{2332})*q^1_2 + (0.5*E_0*μ_{330} + 0.5*E_1*μ_{331} + 0.5*E_2*μ_{332})*q^0_2, (1.0*E_0*μ_{0} + 1.0*E_1*μ_{1} + 1.0*E_2*μ_{2})*q^0_2 + (1.0*E_0*μ_{20} + 1.0*E_1*μ_{21} + 1.0*E_2*μ_{22})*q^1_2 + (0.5*E_0*μ_{220} + 0.5*E_1*μ_{221} + 0.5*E_2*μ_{222})*q^2_2 + (0.166666666666667*E_0*μ_{2220} + 0.166666666666667*E_1*μ_{2221} + 0.166666666666667*E_2*μ_{2222})*q^3_2, q^0_2],\n",
       "[                                                                                                                                                                                      0,                                                                                                                            0,                                                                                                                                                                                  (0.166666666666667*E_0*μ_{1110} + 0.166666666666667*E_1*μ_{1111} + 0.166666666666667*E_2*μ_{1112})*q^0_2,     0],\n",
       "[                                                                                                                         (0.5*E_0*μ_{1130} + 0.5*E_1*μ_{1131} + 0.5*E_2*μ_{1132})*q^0_2,                                                                                                                            0,                                                                                                                                                              (0.5*E_0*μ_{110} + 0.5*E_1*μ_{111} + 0.5*E_2*μ_{112})*q^0_2 + (0.5*E_0*μ_{1120} + 0.5*E_1*μ_{1121} + 0.5*E_2*μ_{1122})*q^1_2,     0]])"
      ]
     },
     "metadata": {},
     "output_type": "display_data"
    },
    {
     "data": {
      "text/latex": [
       "$\\displaystyle \\left[\\begin{matrix}q^{1}_{3}\\\\q^{2}_{3}\\\\q^{0}_{3}\\\\\\left(0.166666666666667 E_{0} μ_{3330} + 0.166666666666667 E_{1} μ_{3331} + 0.166666666666667 E_{2} μ_{3332}\\right) q^{3}_{3}\\end{matrix}\\right]$"
      ],
      "text/plain": [
       "Matrix([\n",
       "[                                                                                                   q^1_3],\n",
       "[                                                                                                   q^2_3],\n",
       "[                                                                                                   q^0_3],\n",
       "[(0.166666666666667*E_0*μ_{3330} + 0.166666666666667*E_1*μ_{3331} + 0.166666666666667*E_2*μ_{3332})*q^3_3]])"
      ]
     },
     "metadata": {},
     "output_type": "display_data"
    },
    {
     "name": "stdout",
     "output_type": "stream",
     "text": [
      "W0 W1 W2 =\n"
     ]
    },
    {
     "data": {
      "text/latex": [
       "$\\displaystyle 1.0 E_{0} μ_{0} q^{0}_{1} q^{0}_{2} q^{0}_{3} + 1.0 E_{0} μ_{10} q^{1}_{1} q^{0}_{2} q^{0}_{3} + 0.5 E_{0} μ_{110} q^{2}_{1} q^{0}_{2} q^{0}_{3} + 0.166666666666667 E_{0} μ_{1110} q^{3}_{1} q^{0}_{2} q^{0}_{3} + 0.5 E_{0} μ_{1120} q^{2}_{1} q^{1}_{2} q^{0}_{3} + 0.5 E_{0} μ_{1130} q^{2}_{1} q^{0}_{2} q^{1}_{3} + 1.0 E_{0} μ_{120} q^{1}_{1} q^{1}_{2} q^{0}_{3} + 0.5 E_{0} μ_{1220} q^{1}_{1} q^{2}_{2} q^{0}_{3} + 1.0 E_{0} μ_{130} q^{1}_{1} q^{0}_{2} q^{1}_{3} + 0.5 E_{0} μ_{1330} q^{1}_{1} q^{0}_{2} q^{2}_{3} + 1.0 E_{0} μ_{20} q^{0}_{1} q^{1}_{2} q^{0}_{3} + 0.5 E_{0} μ_{220} q^{0}_{1} q^{2}_{2} q^{0}_{3} + 0.166666666666667 E_{0} μ_{2220} q^{0}_{1} q^{3}_{2} q^{0}_{3} + 0.5 E_{0} μ_{2230} q^{0}_{1} q^{2}_{2} q^{1}_{3} + 1.0 E_{0} μ_{230} q^{0}_{1} q^{1}_{2} q^{1}_{3} + 0.5 E_{0} μ_{2330} q^{0}_{1} q^{1}_{2} q^{2}_{3} + 1.0 E_{0} μ_{30} q^{0}_{1} q^{0}_{2} q^{1}_{3} + 0.5 E_{0} μ_{330} q^{0}_{1} q^{0}_{2} q^{2}_{3} + 0.166666666666667 E_{0} μ_{3330} q^{0}_{1} q^{0}_{2} q^{3}_{3} + 0.166666666666667 E_{1} μ_{1111} q^{3}_{1} q^{0}_{2} q^{0}_{3} + 0.5 E_{1} μ_{111} q^{2}_{1} q^{0}_{2} q^{0}_{3} + 0.5 E_{1} μ_{1121} q^{2}_{1} q^{1}_{2} q^{0}_{3} + 0.5 E_{1} μ_{1131} q^{2}_{1} q^{0}_{2} q^{1}_{3} + 1.0 E_{1} μ_{11} q^{1}_{1} q^{0}_{2} q^{0}_{3} + 1.0 E_{1} μ_{121} q^{1}_{1} q^{1}_{2} q^{0}_{3} + 0.5 E_{1} μ_{1221} q^{1}_{1} q^{2}_{2} q^{0}_{3} + 1.0 E_{1} μ_{131} q^{1}_{1} q^{0}_{2} q^{1}_{3} + 0.5 E_{1} μ_{1331} q^{1}_{1} q^{0}_{2} q^{2}_{3} + 1.0 E_{1} μ_{1} q^{0}_{1} q^{0}_{2} q^{0}_{3} + 1.0 E_{1} μ_{21} q^{0}_{1} q^{1}_{2} q^{0}_{3} + 0.5 E_{1} μ_{221} q^{0}_{1} q^{2}_{2} q^{0}_{3} + 0.166666666666667 E_{1} μ_{2221} q^{0}_{1} q^{3}_{2} q^{0}_{3} + 0.5 E_{1} μ_{2231} q^{0}_{1} q^{2}_{2} q^{1}_{3} + 1.0 E_{1} μ_{231} q^{0}_{1} q^{1}_{2} q^{1}_{3} + 0.5 E_{1} μ_{2331} q^{0}_{1} q^{1}_{2} q^{2}_{3} + 1.0 E_{1} μ_{31} q^{0}_{1} q^{0}_{2} q^{1}_{3} + 0.5 E_{1} μ_{331} q^{0}_{1} q^{0}_{2} q^{2}_{3} + 0.166666666666667 E_{1} μ_{3331} q^{0}_{1} q^{0}_{2} q^{3}_{3} + 0.166666666666667 E_{2} μ_{1112} q^{3}_{1} q^{0}_{2} q^{0}_{3} + 0.5 E_{2} μ_{1122} q^{2}_{1} q^{1}_{2} q^{0}_{3} + 0.5 E_{2} μ_{112} q^{2}_{1} q^{0}_{2} q^{0}_{3} + 0.5 E_{2} μ_{1132} q^{2}_{1} q^{0}_{2} q^{1}_{3} + 0.5 E_{2} μ_{1222} q^{1}_{1} q^{2}_{2} q^{0}_{3} + 1.0 E_{2} μ_{122} q^{1}_{1} q^{1}_{2} q^{0}_{3} + 1.0 E_{2} μ_{12} q^{1}_{1} q^{0}_{2} q^{0}_{3} + 1.0 E_{2} μ_{132} q^{1}_{1} q^{0}_{2} q^{1}_{3} + 0.5 E_{2} μ_{1332} q^{1}_{1} q^{0}_{2} q^{2}_{3} + 0.166666666666667 E_{2} μ_{2222} q^{0}_{1} q^{3}_{2} q^{0}_{3} + 0.5 E_{2} μ_{222} q^{0}_{1} q^{2}_{2} q^{0}_{3} + 0.5 E_{2} μ_{2232} q^{0}_{1} q^{2}_{2} q^{1}_{3} + 1.0 E_{2} μ_{22} q^{0}_{1} q^{1}_{2} q^{0}_{3} + 1.0 E_{2} μ_{232} q^{0}_{1} q^{1}_{2} q^{1}_{3} + 0.5 E_{2} μ_{2332} q^{0}_{1} q^{1}_{2} q^{2}_{3} + 1.0 E_{2} μ_{2} q^{0}_{1} q^{0}_{2} q^{0}_{3} + 1.0 E_{2} μ_{32} q^{0}_{1} q^{0}_{2} q^{1}_{3} + 0.5 E_{2} μ_{332} q^{0}_{1} q^{0}_{2} q^{2}_{3} + 0.166666666666667 E_{2} μ_{3332} q^{0}_{1} q^{0}_{2} q^{3}_{3}$"
      ],
      "text/plain": [
       "1.0*E_0*μ_{0}*q^0_1*q^0_2*q^0_3 + 1.0*E_0*μ_{10}*q^1_1*q^0_2*q^0_3 + 0.5*E_0*μ_{110}*q^2_1*q^0_2*q^0_3 + 0.166666666666667*E_0*μ_{1110}*q^3_1*q^0_2*q^0_3 + 0.5*E_0*μ_{1120}*q^2_1*q^1_2*q^0_3 + 0.5*E_0*μ_{1130}*q^2_1*q^0_2*q^1_3 + 1.0*E_0*μ_{120}*q^1_1*q^1_2*q^0_3 + 0.5*E_0*μ_{1220}*q^1_1*q^2_2*q^0_3 + 1.0*E_0*μ_{130}*q^1_1*q^0_2*q^1_3 + 0.5*E_0*μ_{1330}*q^1_1*q^0_2*q^2_3 + 1.0*E_0*μ_{20}*q^0_1*q^1_2*q^0_3 + 0.5*E_0*μ_{220}*q^0_1*q^2_2*q^0_3 + 0.166666666666667*E_0*μ_{2220}*q^0_1*q^3_2*q^0_3 + 0.5*E_0*μ_{2230}*q^0_1*q^2_2*q^1_3 + 1.0*E_0*μ_{230}*q^0_1*q^1_2*q^1_3 + 0.5*E_0*μ_{2330}*q^0_1*q^1_2*q^2_3 + 1.0*E_0*μ_{30}*q^0_1*q^0_2*q^1_3 + 0.5*E_0*μ_{330}*q^0_1*q^0_2*q^2_3 + 0.166666666666667*E_0*μ_{3330}*q^0_1*q^0_2*q^3_3 + 0.166666666666667*E_1*μ_{1111}*q^3_1*q^0_2*q^0_3 + 0.5*E_1*μ_{111}*q^2_1*q^0_2*q^0_3 + 0.5*E_1*μ_{1121}*q^2_1*q^1_2*q^0_3 + 0.5*E_1*μ_{1131}*q^2_1*q^0_2*q^1_3 + 1.0*E_1*μ_{11}*q^1_1*q^0_2*q^0_3 + 1.0*E_1*μ_{121}*q^1_1*q^1_2*q^0_3 + 0.5*E_1*μ_{1221}*q^1_1*q^2_2*q^0_3 + 1.0*E_1*μ_{131}*q^1_1*q^0_2*q^1_3 + 0.5*E_1*μ_{1331}*q^1_1*q^0_2*q^2_3 + 1.0*E_1*μ_{1}*q^0_1*q^0_2*q^0_3 + 1.0*E_1*μ_{21}*q^0_1*q^1_2*q^0_3 + 0.5*E_1*μ_{221}*q^0_1*q^2_2*q^0_3 + 0.166666666666667*E_1*μ_{2221}*q^0_1*q^3_2*q^0_3 + 0.5*E_1*μ_{2231}*q^0_1*q^2_2*q^1_3 + 1.0*E_1*μ_{231}*q^0_1*q^1_2*q^1_3 + 0.5*E_1*μ_{2331}*q^0_1*q^1_2*q^2_3 + 1.0*E_1*μ_{31}*q^0_1*q^0_2*q^1_3 + 0.5*E_1*μ_{331}*q^0_1*q^0_2*q^2_3 + 0.166666666666667*E_1*μ_{3331}*q^0_1*q^0_2*q^3_3 + 0.166666666666667*E_2*μ_{1112}*q^3_1*q^0_2*q^0_3 + 0.5*E_2*μ_{1122}*q^2_1*q^1_2*q^0_3 + 0.5*E_2*μ_{112}*q^2_1*q^0_2*q^0_3 + 0.5*E_2*μ_{1132}*q^2_1*q^0_2*q^1_3 + 0.5*E_2*μ_{1222}*q^1_1*q^2_2*q^0_3 + 1.0*E_2*μ_{122}*q^1_1*q^1_2*q^0_3 + 1.0*E_2*μ_{12}*q^1_1*q^0_2*q^0_3 + 1.0*E_2*μ_{132}*q^1_1*q^0_2*q^1_3 + 0.5*E_2*μ_{1332}*q^1_1*q^0_2*q^2_3 + 0.166666666666667*E_2*μ_{2222}*q^0_1*q^3_2*q^0_3 + 0.5*E_2*μ_{222}*q^0_1*q^2_2*q^0_3 + 0.5*E_2*μ_{2232}*q^0_1*q^2_2*q^1_3 + 1.0*E_2*μ_{22}*q^0_1*q^1_2*q^0_3 + 1.0*E_2*μ_{232}*q^0_1*q^1_2*q^1_3 + 0.5*E_2*μ_{2332}*q^0_1*q^1_2*q^2_3 + 1.0*E_2*μ_{2}*q^0_1*q^0_2*q^0_3 + 1.0*E_2*μ_{32}*q^0_1*q^0_2*q^1_3 + 0.5*E_2*μ_{332}*q^0_1*q^0_2*q^2_3 + 0.166666666666667*E_2*μ_{3332}*q^0_1*q^0_2*q^3_3"
      ]
     },
     "metadata": {},
     "output_type": "display_data"
    }
   ],
   "source": [
    "am_pot = AssignManager(pot_sop)\n",
    "am_pot.assign()\n",
    "display(*am_pot.Wsym)\n",
    "W_prod = sympy.Mul(*am_pot.Wsym)\n",
    "print(*[f\"W{i}\" for i in range(am_pot.ndim)], \"=\")\n",
    "display(W_prod[0].expand())\n",
    "pot_mpo = am_pot.numerical_mpo(subs=subs)"
   ]
  },
  {
   "cell_type": "markdown",
   "id": "24cc7cab-b7f7-4717-a1c1-e545f070d0b3",
   "metadata": {},
   "source": [
    "### Setup Operator"
   ]
  },
  {
   "cell_type": "code",
   "execution_count": 9,
   "id": "f5c68e5b-f2ef-48ef-ac3a-d56a8456cc8b",
   "metadata": {},
   "outputs": [],
   "source": [
    "potential = [\n",
    "    [\n",
    "        {\n",
    "            (tuple((i) for i in range(0, ndim))): TensorOperator(\n",
    "                mpo=pot_mpo\n",
    "            )\n",
    "        }\n",
    "    ]\n",
    "]\n",
    "\n",
    "H = TensorHamiltonian(\n",
    "    ndof=len(basis), potential=potential, kinetic=None, backend=backend\n",
    ")\n",
    "\n",
    "operators = {\"hamiltonian\": H}"
   ]
  },
  {
   "cell_type": "markdown",
   "id": "2b82c15c-62d4-474e-964b-49637a6dcd9c",
   "metadata": {
    "tags": []
   },
   "source": [
    "## 4. Set wave function (MPS) and All Model\n",
    "\n",
    "- `m_aux_max` is MPS bond dimenison (maximum of auxiliary index $\\tau_p$)"
   ]
  },
  {
   "cell_type": "code",
   "execution_count": 10,
   "id": "79beeb3a-565e-4d80-bdb3-cc79a821f6f3",
   "metadata": {
    "ExecuteTime": {
     "end_time": "2023-06-26T07:02:37.236930Z",
     "start_time": "2023-06-26T07:02:37.207186Z"
    }
   },
   "outputs": [],
   "source": [
    "model = Model(basinfo=basinfo, operators=operators)\n",
    "model.m_aux_max = 9"
   ]
  },
  {
   "cell_type": "markdown",
   "id": "cb495b77-ca3f-4771-bae6-1a4d6dc1b503",
   "metadata": {},
   "source": [
    "## 5. Execute Calculation"
   ]
  },
  {
   "cell_type": "code",
   "execution_count": 11,
   "id": "c121c2b6-d7c2-40a6-93ae-1578ca67f256",
   "metadata": {
    "ExecuteTime": {
     "end_time": "2023-06-26T07:02:37.145184Z",
     "start_time": "2023-06-26T07:02:37.115028Z"
    }
   },
   "outputs": [
    {
     "name": "stdout",
     "output_type": "stream",
     "text": [
      "wf_h2o_polynomial_gs.pkl\n"
     ]
    },
    {
     "name": "stderr",
     "output_type": "stream",
     "text": [
      "/usr/local/Cellar/python@3.13/3.13.2/Frameworks/Python.framework/Versions/3.13/lib/python3.13/pty.py:95: RuntimeWarning: os.fork() was called. os.fork() is incompatible with multithreaded code, and JAX is multithreaded, so this will likely lead to a deadlock.\n",
      "  pid, fd = os.forkpty()\n"
     ]
    }
   ],
   "source": [
    "! ls wf_h2o_polynomial_gs.pkl"
   ]
  },
  {
   "cell_type": "markdown",
   "id": "d06941d9-23d2-40af-a92b-6afbc9fecedf",
   "metadata": {},
   "source": [
    "F.Y.I., See also about [Simulator](https://qclovers.github.io/PyTDSCF/pytdscf.html#pytdscf.simulator_cls.Simulator)\n",
    "\n",
    "This run type prepare $|\\Psi_{\\mu}\\rangle$ by variationally optimizing\n",
    "$$\\langle \\delta\\Psi_{\\mu}|\\Psi_{\\mu} - \\hat{\\mu}\\Psi_{\\mathrm{gs}}\\rangle=0$$\n",
    "where $\\Psi_{\\mathrm{gs}}$ is a vibrational ground state wavefunction.\n",
    "\n",
    "**NOTE**\n",
    "\n",
    "- Runtype cannnot rebind. If you want to change runtype, you should restart kernel."
   ]
  },
  {
   "cell_type": "code",
   "execution_count": 12,
   "id": "fabba1c2-8b8a-4adc-a784-73d310737842",
   "metadata": {
    "ExecuteTime": {
     "end_time": "2023-06-26T07:02:37.328268Z",
     "start_time": "2023-06-26T07:02:37.237287Z"
    }
   },
   "outputs": [
    {
     "name": "stderr",
     "output_type": "stream",
     "text": [
      "2025-04-30 12:30:25,237 - INFO:main.pytdscf._const_cls - \u001b[1m\u001b[35m\n",
      "     ____     __________   .____ ____   _____\n",
      "    / _  |   /__  __/ _ \\ / ___ / _  \\ / ___/\n",
      "   / /_) /_  __/ / / / ||/ /__ / / )_// /__\n",
      "  /  ___/ / / / / / / / |.__  / |  __/ ___/\n",
      " /  /  / /_/ / / / /_/ /___/ /| \\_/ / /\n",
      "/__/   \\__, /_/ /_____/_____/ \\____/_/\n",
      "      /____/\n",
      "\u001b[0m\n",
      "2025-04-30 12:30:25,239 - INFO:main.pytdscf._const_cls - Log file is ./h2o_polynomial_operate/main.log\n",
      "2025-04-30 12:30:25,240 - INFO:main.pytdscf.simulator_cls - Set integral of DVR basis\n",
      "2025-04-30 12:30:25,260 - INFO:main.pytdscf.simulator_cls - Set initial wave function (DVR basis)\n",
      "2025-04-30 12:30:25,280 - INFO:main.pytdscf.simulator_cls - Wave function is loaded from wf_h2o_polynomial_gs.pkl\n",
      "2025-04-30 12:30:25,282 - INFO:main.pytdscf.simulator_cls - Start: apply operator to wave function\n",
      "2025-04-30 12:30:25,908 - INFO:main.pytdscf.simulator_cls - Wave function is saved in wf_h2o_polynomial_dipole.pkl\n",
      "2025-04-30 12:30:25,910 - INFO:main.pytdscf.simulator_cls - End  : apply operator to wave function\n"
     ]
    },
    {
     "data": {
      "text/plain": [
       "(1.9386775177227347, <pytdscf.wavefunction.WFunc at 0x11bc674d0>)"
      ]
     },
     "execution_count": 12,
     "metadata": {},
     "output_type": "execute_result"
    }
   ],
   "source": [
    "jobname = \"h2o_polynomial\"\n",
    "simulator = Simulator(jobname, model, backend=\"numpy\", verbose=4)\n",
    "simulator.operate(\n",
    "    loadfile_ext=\"_gs\", savefile_ext=\"_dipole\", restart=True, maxstep=10\n",
    ")"
   ]
  },
  {
   "cell_type": "markdown",
   "id": "aee22b8b-88ad-469b-bb18-bf9b979386a8",
   "metadata": {},
   "source": [
    "## 6. Check Log file\n",
    "See `h2o_polynomial_operate/main.log`, which is defined by `jobname`."
   ]
  },
  {
   "cell_type": "code",
   "execution_count": 13,
   "id": "3024ea78-6f16-402f-9773-68595ab0eeba",
   "metadata": {
    "ExecuteTime": {
     "end_time": "2023-06-26T07:02:37.466206Z",
     "start_time": "2023-06-26T07:02:37.312945Z"
    }
   },
   "outputs": [
    {
     "name": "stdout",
     "output_type": "stream",
     "text": [
      "Wave function is loaded from wf_h2o_polynomial_gs.pkl\n",
      "Start: apply operator to wave function\n",
      "----------------------------------------\n",
      "iterations: 0 norm: 1.9386775177227338\n",
      "convergence : 0.997739253256778\n",
      "----------------------------------------\n",
      "iterations: 1 norm: 1.9386775177227347\n",
      "convergence : 1.0000000000000007\n",
      "Wave function is saved in wf_h2o_polynomial_dipole.pkl\n",
      "End  : apply operator to wave function\n"
     ]
    }
   ],
   "source": [
    "!tail h2o_polynomial_operate/main.log"
   ]
  }
 ],
 "metadata": {
  "kernelspec": {
   "display_name": "Python 3 (ipykernel)",
   "language": "python",
   "name": "python3"
  },
  "language_info": {
   "codemirror_mode": {
    "name": "ipython",
    "version": 3
   },
   "file_extension": ".py",
   "mimetype": "text/x-python",
   "name": "python",
   "nbconvert_exporter": "python",
   "pygments_lexer": "ipython3",
   "version": "3.13.2"
  }
 },
 "nbformat": 4,
 "nbformat_minor": 5
}
