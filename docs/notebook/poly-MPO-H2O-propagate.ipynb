{
 "cells": [
  {
   "cell_type": "markdown",
   "id": "bcbc9641-d5d1-4f1c-a168-804cff801d8e",
   "metadata": {},
   "source": [
    "# Example 3: Propagation of H2O vibration under polynomial PES"
   ]
  },
  {
   "cell_type": "markdown",
   "id": "184a7017-3c62-4308-b7f7-d32f281e7159",
   "metadata": {},
   "source": [
    "| run type      | wavefunction | backend | Basis  | steps |\n",
    "| ---           | ---          | ---     | ---    | ---   |\n",
    "| propagation | MPS-SM | Numpy   | HO-DVR | 5000    |"
   ]
  },
  {
   "cell_type": "markdown",
   "id": "d484ceaa-861c-4347-8cf0-52c3d5e6201b",
   "metadata": {},
   "source": [
    "## 1. Import modules"
   ]
  },
  {
   "cell_type": "markdown",
   "id": "0b50fd02-cf7c-42b5-a02d-ca3450ebf70e",
   "metadata": {},
   "source": [
    "- Required in **any** calculations"
   ]
  },
  {
   "cell_type": "code",
   "execution_count": 1,
   "id": "6460756f-ff3a-4c0f-a761-013f629aa161",
   "metadata": {
    "ExecuteTime": {
     "end_time": "2023-06-26T07:03:37.220562Z",
     "start_time": "2023-06-26T07:03:34.730375Z"
    }
   },
   "outputs": [
    {
     "name": "stderr",
     "output_type": "stream",
     "text": [
      "17:04:14 | INFO | Param defined: keys = {'enable_summed_op'}\n",
      "17:04:14 | INFO | Param defined: verbose = 4\n",
      "17:04:14 | INFO | Param defined: mass = 1.0\n",
      "17:04:14 | INFO | Param defined: epsrho = 1e-08\n",
      "17:04:14 | INFO | Param defined: tol_CMF = 1e-14\n",
      "17:04:14 | INFO | Param defined: max_stepsize = 0.41341373335170156\n",
      "17:04:14 | INFO | Param defined: tol_RK45 = 1e-08\n",
      "17:04:14 | INFO | Param defined: load_balance_interval = 100\n",
      "17:04:14 | INFO | Param defined: pytest_enabled = False\n",
      "17:04:14 | INFO | Param defined: mpi_rank = 0\n",
      "17:04:14 | INFO | Param defined: mpi_size = 1\n",
      "17:04:14 | INFO | Param defined: mpi_comm = <mpi4py.MPI.Intracomm object at 0x7f219aa126d0>\n"
     ]
    },
    {
     "name": "stdout",
     "output_type": "stream",
     "text": [
      "pytdscf version: 1.0.5, Python version: 3.12.2 (main, Feb 25 2024, 04:38:01) [Clang 17.0.6 ], platform: Linux-5.15.167.4-microsoft-standard-WSL2-x86_64-with-glibc2.39\n"
     ]
    }
   ],
   "source": [
    "import platform\n",
    "import sys\n",
    "\n",
    "from pytdscf import BasInfo, Model, Simulator, __version__\n",
    "\n",
    "print(\n",
    "    f\"pytdscf version: {__version__}, Python version: {sys.version}, platform: {platform.platform()}\"\n",
    ")"
   ]
  },
  {
   "cell_type": "markdown",
   "id": "eb10b01d-3471-4800-952a-ffc6857fe942",
   "metadata": {},
   "source": [
    "## 2. Set DVR primitive basis"
   ]
  },
  {
   "cell_type": "code",
   "execution_count": 2,
   "id": "30b4b23a-8cdb-49eb-a01e-0719361583cd",
   "metadata": {
    "ExecuteTime": {
     "end_time": "2023-06-26T07:03:37.229222Z",
     "start_time": "2023-06-26T07:03:37.226849Z"
    }
   },
   "outputs": [],
   "source": [
    "from math import sqrt\n",
    "\n",
    "import numpy as np\n",
    "from discvar import HarmonicOscillator as HO\n",
    "\n",
    "from pytdscf.dvr_operator_cls import TensorOperator\n",
    "from pytdscf.hamiltonian_cls import TensorHamiltonian\n",
    "from pytdscf.potentials.h2o_potential import k_orig\n",
    "\n",
    "backend = \"numpy\"\n",
    "ndim = 3\n",
    "freqs = [sqrt(k_orig[(k, k)]) for k in range(1, ndim + 1)]  # a.u.\n",
    "\n",
    "nprims = [9] * ndim  # Number of primitive basis\n",
    "\n",
    "basis = [\n",
    "    HO(nprim, omega, units=\"a.u.\")\n",
    "    for nprim, omega in zip(nprims, freqs, strict=True)\n",
    "]\n",
    "basinfo = BasInfo([basis])  # Set basis information object"
   ]
  },
  {
   "cell_type": "markdown",
   "id": "83d3e0aa-ade3-4399-ad7a-0b4d5ef7456e",
   "metadata": {},
   "source": [
    "**MPS-MCTDH wavefunction**\n",
    "$$\n",
    "|\\Psi_{\\rm{MPS-MCTDH}}\\rangle = \\sum_{\\mathbf \\{j\\}}\\sum_{\\mathbf \\{\\tau\\}}\n",
    "a\\substack{j_1 \\\\ 1\\tau_1}a\\substack{j_2 \\\\ \\tau_1\\tau_2} \\cdots a\\substack{j_f \\\\ \\tau_{f-1}1}\n",
    "|\\varphi_{j_1}^{(1)}(q_1)\\rangle|\\varphi_{j_2}^{(2)}(q_2)\\rangle\n",
    "\\cdots|\\varphi_{j_f}^{(f)}(q_f)\\rangle\n",
    "$$\n",
    "where SPF is \n",
    "$$\n",
    "\\varphi_{j_p}^{(p)}(q_p) = \\sum_{i_p=1}^{n_p} c_{i_p}^{j_p}\\chi_{i_p}^{(p)}(q_p) \\; (j_p = 1,2,\\ldots, N_p)\n",
    "$$\n",
    "\n",
    "Here, select $\\{\\chi_{i_p}^{(p)}(q_p)\\}$ as Harmonic Oscillator eigenfunction.\n",
    "See detail in [documenation](https://qclovers.github.io/PyTDSCF/pytdscf.html#pytdscf.primints_cls.poly_HO_FBR).\n",
    "Here one define $n_p$ = 9, $N_p$ = 9. (Standard Method)\n",
    "\n",
    "**NOTE**\n",
    "\n",
    "- In MPS,  $n = N$ (SM) is usually better than $n < M$ (MCTDH).  Only when using a laptop, MCTDH may be better. (RAM required in MCTDH is smaller than SM.)"
   ]
  },
  {
   "cell_type": "markdown",
   "id": "98a65e22-92d8-4732-84a8-e0231bb24560",
   "metadata": {},
   "source": [
    "## 3. Set Hamiltonian (Taylor expansion polynomial PES in MPO format)"
   ]
  },
  {
   "cell_type": "markdown",
   "id": "af70e00d-0c9c-4a46-b764-c67e7fc2febf",
   "metadata": {},
   "source": [
    "We have already constructed MPO in the previous relaxation step."
   ]
  },
  {
   "cell_type": "code",
   "execution_count": 3,
   "id": "77254738",
   "metadata": {},
   "outputs": [],
   "source": [
    "data = np.load(\"h2o_pot_mpo.npz\")\n",
    "pot_mpo = [data[f\"W{i}\"] for i in range(len(data.files))]\n",
    "data = np.load(\"h2o_kin_mpo.npz\")\n",
    "kin_mpo = [data[f\"W{i}\"] for i in range(len(data.files))]"
   ]
  },
  {
   "cell_type": "markdown",
   "id": "8d3db45f-6a43-4c03-84cf-c3007c7cf21d",
   "metadata": {},
   "source": [
    "### Setup Hamiltonian"
   ]
  },
  {
   "cell_type": "code",
   "execution_count": 4,
   "id": "5d239f30-9273-4253-a2b6-f113ab64406c",
   "metadata": {},
   "outputs": [
    {
     "name": "stderr",
     "output_type": "stream",
     "text": [
      "17:04:14 | INFO | Start tensor decomposition: type = QRD\n",
      "WARNING:2025-06-11 17:04:14,780:jax._src.xla_bridge:791: An NVIDIA GPU may be present on this machine, but a CUDA-enabled jaxlib is not installed. Falling back to cpu.\n"
     ]
    }
   ],
   "source": [
    "potential = [\n",
    "    [\n",
    "        {\n",
    "            (tuple((i,) for i in range(0, ndim))): TensorOperator(mpo=pot_mpo),\n",
    "            (tuple((i, i) for i in range(0, ndim))): TensorOperator(\n",
    "                mpo=kin_mpo\n",
    "            ),\n",
    "        }\n",
    "    ]\n",
    "]\n",
    "\n",
    "H = TensorHamiltonian(\n",
    "    ndof=len(basis), potential=potential, kinetic=None, backend=backend\n",
    ")\n",
    "\n",
    "operators = {\"hamiltonian\": H}"
   ]
  },
  {
   "cell_type": "markdown",
   "id": "2b82c15c-62d4-474e-964b-49637a6dcd9c",
   "metadata": {
    "tags": []
   },
   "source": [
    "## 4. Set wavefunction (MPS) and All Model\n",
    "\n",
    "- `m_aux_max` is MPS bond dimension (maximum of auxiliary index $\\tau_p$)\n"
   ]
  },
  {
   "cell_type": "code",
   "execution_count": 5,
   "id": "79beeb3a-565e-4d80-bdb3-cc79a821f6f3",
   "metadata": {
    "ExecuteTime": {
     "end_time": "2023-06-26T07:03:37.234102Z",
     "start_time": "2023-06-26T07:03:37.233155Z"
    }
   },
   "outputs": [],
   "source": [
    "model = Model(basinfo, operators)\n",
    "model.m_aux_max = 9"
   ]
  },
  {
   "cell_type": "markdown",
   "id": "cb495b77-ca3f-4771-bae6-1a4d6dc1b503",
   "metadata": {},
   "source": [
    "## 5. Execute Calculation\n",
    "\n",
    "- time step width is defined by `stepsize`=0.2 fs"
   ]
  },
  {
   "cell_type": "markdown",
   "id": "d06941d9-23d2-40af-a92b-6afbc9fecedf",
   "metadata": {},
   "source": [
    "In this calculation, one runs\n",
    "\n",
    "- Real-time propagation\n",
    "\n",
    "- Restart from $\\hat{\\mu}|\\Psi_{\\rm GS}\\rangle$ wavefunction. (restart file suffix is `_dipole`)\n",
    "\n",
    "F.Y.I., See also [documentation](https://qclovers.github.io/PyTDSCF/pytdscf.html#pytdscf.const_cls.Const.set_runtype)\n",
    "\n",
    "\n",
    "**NOTE**\n",
    "\n",
    "- Runtype cannnot rebind. If you change runtype, you should restart the kernel.\n",
    "\n",
    "- JAX is better when simulating more large systems. (f>6, m>10)\n",
    "\n",
    "- If `AVG Krylov iteration` in the log file is much larger than 5, you should set smaller timestep."
   ]
  },
  {
   "cell_type": "code",
   "execution_count": 6,
   "id": "fabba1c2-8b8a-4adc-a784-73d310737842",
   "metadata": {
    "ExecuteTime": {
     "end_time": "2023-06-26T07:05:13.867764Z",
     "start_time": "2023-06-26T07:03:37.235218Z"
    },
    "scrolled": true,
    "tags": []
   },
   "outputs": [
    {
     "name": "stderr",
     "output_type": "stream",
     "text": [
      "17:04:14 | INFO | Param defined: jobname = h2o_polynomial_prop\n",
      "17:04:14 | INFO | Log file is ./h2o_polynomial_prop/main.log\n",
      "17:04:14 | INFO | Param defined: verbose = 2\n",
      "17:04:14 | INFO | Param defined: doRestart = True\n",
      "17:04:14 | INFO | Param defined: doRelax = False\n",
      "17:04:14 | INFO | Param defined: doAppDipo = False\n",
      "17:04:14 | INFO | Param defined: doDVR = True\n",
      "17:04:14 | INFO | Param defined: savefile_ext = _prop\n",
      "17:04:14 | INFO | Param defined: loadfile_ext = _dipole\n",
      "17:04:14 | INFO | Param defined: time_fs_init = 0.0\n",
      "17:04:14 | INFO | Param defined: maxstep = 1000\n",
      "17:04:14 | INFO | Param defined: doOrtho = False\n",
      "17:04:14 | INFO | Param defined: doTDHamil = False\n",
      "17:04:14 | INFO | Param defined: oldcode = False\n",
      "17:04:14 | INFO | Param defined: use_jax = False\n",
      "17:04:14 | INFO | Param defined: thresh_exp = 1e-09\n",
      "17:04:14 | INFO | Param defined: standard_method = True\n",
      "17:04:14 | INFO | Param defined: use_mpo = True\n",
      "17:04:14 | INFO | Param defined: adaptive = False\n",
      "17:04:14 | INFO | Param defined: Dmax = 20\n",
      "17:04:14 | INFO | Param defined: dD = 5\n",
      "17:04:14 | INFO | Param defined: p_proj = 0.0001\n",
      "17:04:14 | INFO | Param defined: p_svd = 1e-07\n",
      "17:04:14 | INFO | Set integral of DVR basis\n",
      "17:04:14 | INFO | Set initial wave function (DVR basis)\n",
      "17:04:14 | INFO | Wave function is loaded from wf_h2o_polynomial_dipole.pkl\n",
      "17:04:14 | INFO | Wave function is saved in wf_h2o_polynomial_prop.pkl\n",
      "17:04:14 | INFO | Start initial step    0.000 [fs]\n",
      "17:04:14 | INFO | End     0 step; propagated    0.200 [fs]; AVG Krylov iteration: 6.33\n",
      "17:04:17 | INFO | End   100 step; propagated   20.200 [fs]; AVG Krylov iteration: 6.33\n",
      "17:04:20 | INFO | End   200 step; propagated   40.200 [fs]; AVG Krylov iteration: 6.33\n",
      "17:04:22 | INFO | End   300 step; propagated   60.200 [fs]; AVG Krylov iteration: 6.33\n",
      "17:04:25 | INFO | End   400 step; propagated   80.200 [fs]; AVG Krylov iteration: 6.33\n",
      "17:04:27 | INFO | End   500 step; propagated  100.200 [fs]; AVG Krylov iteration: 6.67\n",
      "17:04:30 | INFO | End   600 step; propagated  120.200 [fs]; AVG Krylov iteration: 6.33\n",
      "17:04:32 | INFO | End   700 step; propagated  140.200 [fs]; AVG Krylov iteration: 6.67\n",
      "17:04:35 | INFO | End   800 step; propagated  160.200 [fs]; AVG Krylov iteration: 6.67\n",
      "17:04:37 | INFO | End   900 step; propagated  180.200 [fs]; AVG Krylov iteration: 6.67\n",
      "17:04:40 | INFO | Saved wavefunction  199.800 [fs]\n",
      "17:04:40 | INFO | End   999 step; propagated  199.800 [fs]; AVG Krylov iteration: 6.67\n",
      "17:04:40 | INFO | End simulation and save wavefunction\n",
      "17:04:40 | INFO | Wave function is saved in wf_h2o_polynomial_prop.pkl\n"
     ]
    },
    {
     "data": {
      "text/plain": [
       "(0.020896110048546822, <pytdscf.wavefunction.WFunc at 0x7f21c041ca40>)"
      ]
     },
     "execution_count": 6,
     "metadata": {},
     "output_type": "execute_result"
    }
   ],
   "source": [
    "jobname = \"h2o_polynomial\"\n",
    "simulator = Simulator(jobname, model, backend=\"numpy\")\n",
    "simulator.propagate(\n",
    "    maxstep=1000,  # 200 fs\n",
    "    stepsize=0.2,\n",
    "    restart=True,\n",
    "    savefile_ext=\"_prop\",\n",
    "    loadfile_ext=\"_dipole\",\n",
    ")  # i.e., 500 fs"
   ]
  },
  {
   "cell_type": "markdown",
   "id": "aee22b8b-88ad-469b-bb18-bf9b979386a8",
   "metadata": {},
   "source": [
    "## 6. Check Log file\n",
    "See `h2o_polynomial_prop/main.log`, which is defined as `jobname`."
   ]
  },
  {
   "cell_type": "code",
   "execution_count": 7,
   "id": "3024ea78-6f16-402f-9773-68595ab0eeba",
   "metadata": {
    "ExecuteTime": {
     "end_time": "2023-06-26T07:05:13.988131Z",
     "start_time": "2023-06-26T07:05:13.864233Z"
    }
   },
   "outputs": [
    {
     "name": "stdout",
     "output_type": "stream",
     "text": [
      "2025-06-11 17:04:40 | DEBUG | pytdscf.properties:_export_properties:383 - | autocorr: -0.9275+0.3656i| pop 1.0000 | ene[eV]:  0.5686121 | time[fs]:  198.800 | elapsed[sec]:    22.50 \n",
      "2025-06-11 17:04:40 | DEBUG | pytdscf.properties:_export_properties:383 - | autocorr: -0.7493+0.6580i| pop 1.0000 | ene[eV]:  0.5686121 | time[fs]:  199.000 | elapsed[sec]:    22.52 \n",
      "2025-06-11 17:04:40 | DEBUG | pytdscf.properties:_export_properties:383 - | autocorr: -0.4826+0.8729i| pop 1.0000 | ene[eV]:  0.5686121 | time[fs]:  199.200 | elapsed[sec]:    22.54 \n",
      "2025-06-11 17:04:40 | DEBUG | pytdscf.properties:_export_properties:383 - | autocorr: -0.1589+0.9849i| pop 1.0000 | ene[eV]:  0.5686121 | time[fs]:  199.400 | elapsed[sec]:    22.56 \n",
      "2025-06-11 17:04:40 | DEBUG | pytdscf.properties:_export_properties:383 - | autocorr:  0.1837+0.9808i| pop 1.0000 | ene[eV]:  0.5686121 | time[fs]:  199.600 | elapsed[sec]:    22.58 \n",
      "2025-06-11 17:04:40 | INFO | pytdscf.simulator_cls:_execute:379 - Saved wavefunction  199.800 [fs]\n",
      "2025-06-11 17:04:40 | DEBUG | pytdscf.properties:_export_properties:383 - | autocorr:  0.5048+0.8609i| pop 1.0000 | ene[eV]:  0.5686121 | time[fs]:  199.800 | elapsed[sec]:    22.60 \n",
      "2025-06-11 17:04:40 | INFO | pytdscf.simulator_cls:_execute:421 - End   999 step; propagated  199.800 [fs]; AVG Krylov iteration: 6.67\n",
      "2025-06-11 17:04:40 | INFO | pytdscf.simulator_cls:_execute:422 - End simulation and save wavefunction\n",
      "2025-06-11 17:04:40 | INFO | pytdscf.simulator_cls:save_wavefunction:546 - Wave function is saved in wf_h2o_polynomial_prop.pkl\n"
     ]
    },
    {
     "name": "stderr",
     "output_type": "stream",
     "text": [
      "/home/hinom/.local/share/uv/python/cpython-3.12.2-linux-x86_64-gnu/lib/python3.12/pty.py:95: RuntimeWarning: os.fork() was called. os.fork() is incompatible with multithreaded code, and JAX is multithreaded, so this will likely lead to a deadlock.\n",
      "  pid, fd = os.forkpty()\n"
     ]
    }
   ],
   "source": [
    "!tail h2o_polynomial_prop/main.log"
   ]
  }
 ],
 "metadata": {
  "kernelspec": {
   "display_name": "Python 3 (ipykernel)",
   "language": "python",
   "name": "python3"
  },
  "language_info": {
   "codemirror_mode": {
    "name": "ipython",
    "version": 3
   },
   "file_extension": ".py",
   "mimetype": "text/x-python",
   "name": "python",
   "nbconvert_exporter": "python",
   "pygments_lexer": "ipython3",
   "version": "3.12.2"
  }
 },
 "nbformat": 4,
 "nbformat_minor": 5
}
