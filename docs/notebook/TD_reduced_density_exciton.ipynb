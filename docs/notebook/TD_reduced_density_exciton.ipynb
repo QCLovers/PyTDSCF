{
 "cells": [
  {
   "cell_type": "markdown",
   "id": "76ffb2ff-db83-4892-b881-4f63cc5f8c05",
   "metadata": {},
   "source": [
    "# Example 11 Time-dependent reduced density\n",
    "\n",
    "**This example takes a while. I recommend execution on HPC and select JAX as wrapper**\n",
    "\n",
    "This example is the same model as Example 10.\n",
    "\n",
    "The differences are\n",
    "\n",
    "- Example 10 employs electronic states as a direct product state.\n",
    "    - Therefore, two MPS are simulated.\n",
    "  \n",
    "- Example 11 employs electronic states as a MPS site.\n",
    "    - Therefore, single but longer MPS is simulated.\n",
    "\n",
    "  \n",
    "- Example 10 construct MPO by SVD while Example 11 construct MPO analytically (use symbolic scheme).\n",
    "    - Therefore, MPO constructed in Example 11 is free from numerical error.\n",
    "      \n",
    "- Example 10 is slightly accurate but Example 11 is much computationally feasible when we simulate a couple of or dozens of electronic states.\n",
    "    - Because direct product electronic state is accurate but suffers from exponential complexity.\n",
    "    - Furthermore, single MPS embedded in a single Array is a suitable architecture for computation."
   ]
  },
  {
   "cell_type": "code",
   "execution_count": 1,
   "id": "bf48ae18-e76d-461b-b72f-0122ea87ba6e",
   "metadata": {},
   "outputs": [
    {
     "name": "stdout",
     "output_type": "stream",
     "text": [
      "zsh:1: command not found: nvidia-smi\n"
     ]
    }
   ],
   "source": [
    "!nvidia-smi"
   ]
  },
  {
   "cell_type": "code",
   "execution_count": 2,
   "id": "41337829-548c-4cbc-aa8c-192f81fd713e",
   "metadata": {},
   "outputs": [
    {
     "name": "stdout",
     "output_type": "stream",
     "text": [
      "3.13.2 (main, Feb  4 2025, 14:51:09) [Clang 16.0.0 (clang-1600.0.26.6)]\n",
      "pytdscf version = 1.1.0\n",
      "macOS-15.4.1-arm64-arm-64bit-Mach-O\n",
      "cpu\n"
     ]
    }
   ],
   "source": [
    "import platform\n",
    "import sys\n",
    "\n",
    "import pytdscf\n",
    "\n",
    "print(sys.version)\n",
    "print(f\"pytdscf version = {pytdscf.__version__}\")\n",
    "print(platform.platform())\n",
    "\n",
    "import jax.extend\n",
    "\n",
    "print(jax.extend.backend.get_backend().platform)"
   ]
  },
  {
   "cell_type": "code",
   "execution_count": 3,
   "id": "319c5882-8a0d-4e81-a69d-09a47abcca6f",
   "metadata": {},
   "outputs": [],
   "source": [
    "import matplotlib.pyplot as plt\n",
    "import numpy as np\n",
    "import random\n",
    "import sympy\n",
    "from discvar import Exponential, HarmonicOscillator, Sine\n",
    "from pympo import AssignManager, OpSite, SumOfProducts\n",
    "\n",
    "from pytdscf import BasInfo, Exciton, Model, Simulator, units\n",
    "from pytdscf.dvr_operator_cls import TensorOperator\n",
    "from pytdscf.hamiltonian_cls import TensorHamiltonian"
   ]
  },
  {
   "cell_type": "markdown",
   "id": "d273a5b9-b37c-4fc6-927f-08c42e57cfa7",
   "metadata": {},
   "source": [
    "$$\n",
    "\\begin{align}\n",
    "\\hat{H} &= \n",
    "\\left[-\\frac{1}{2} \\frac{\\partial^2}{\\partial Q_1^2}\n",
    "- \\frac{1}{2I} \\frac{\\partial^2}{\\partial \\theta_2^2}\n",
    "- \\sum_{j=3}^{25} \\frac{1}{2} \\frac{\\partial^2}{\\partial Q_{j}^2}\n",
    "\\right]\n",
    "\\begin{pmatrix}\n",
    "1 & 0 \\\\\n",
    "0 & 1\n",
    "\\end{pmatrix}\n",
    "\\\\\n",
    "&+\n",
    "\\begin{pmatrix}\n",
    "D_e\\left(1-\\exp\\left(-\\sqrt{\\frac{\\Omega^2}{2D_e}}Q_1\\right)\\right)^2 - \\frac{E}{2} & \\lambda Q_1 \\\\\n",
    "\\lambda Q_1 & D_e\\left(1-\\exp\\left(-\\sqrt{\\frac{\\Omega^2}{2D_e}}(Q_1-Q_{\\mathrm{ref}})\\right)\\right)^2 + \\frac{E}{2}\n",
    "\\end{pmatrix}\n",
    "\\\\\n",
    "&+\n",
    "\\begin{pmatrix}\n",
    "\\frac{W_0}{2}\\left(1-\\cos\\theta_2\\right) & 0\\\\\n",
    "0 & -\\frac{W_1}{2}\\left(1-\\cos\\theta_2\\right)\n",
    "\\end{pmatrix}\n",
    "\\\\\n",
    "&+\\sum_{j=3}^{25} \n",
    "\\begin{pmatrix}\n",
    "\\frac{\\omega_j^2}{2}Q_j^2 & 0 \\\\\n",
    "0 & \\frac{\\omega_j^2}{2}Q_j^2+ \\kappa_j Q_j\n",
    "\\end{pmatrix}\n",
    "\\end{align}\n",
    "$$\n",
    "\n",
    "References:\n",
    "\n",
    "- [Johnson, Philip JM, et al. \"The primary photochemistry of vision occurs at the molecular speed limit.\" The Journal of Physical Chemistry B 121.16 (2017): 4040-4047.](https://pubs.acs.org/doi/epdf/10.1021/acs.jpcb.7b02329)\n",
    "\n",
    "- Morse potential is our original demonstration.\n"
   ]
  },
  {
   "cell_type": "markdown",
   "id": "edac7c8f-33b8-49fa-94cb-7cbc710f0bf8",
   "metadata": {},
   "source": [
    "The second quantized representation is given by\n",
    "\n",
    "$$\n",
    "\\hat{T} = \n",
    "\\left( \\hat{a}_0 \\hat{a}_0^\\dagger + \\hat{a}_0^\\dagger \\hat{a}_0 \\right)\n",
    "\\left(\n",
    "-\\frac{1}{2} \\frac{\\partial^2}{\\partial Q_1^2}\n",
    "-\\frac{1}{2I} \\frac{\\partial^2}{\\partial \\theta_2^2}\n",
    "-\\sum_{j=3}^{25}\n",
    "\\frac{1}{2}  \\frac{\\partial^2}{\\partial Q_j^2}\n",
    "\\right)\n",
    "$$\n",
    "\n",
    "$$\n",
    "\\begin{align*}\n",
    "\\hat{V} \n",
    "&= \n",
    "\\hat{a}_0 \\hat{a}_0^\\dagger \n",
    "\\left(\n",
    "-\\frac{E}{2} \n",
    "+ D_e\\left(1-\\exp\\left(-\\sqrt{\\frac{\\Omega^2}{2D_e}}Q_1\\right)\\right)^2\n",
    "+ \\frac{W_0}{2}\\left(1-\\cos\\theta_2\\right)\n",
    "+ \\sum_{j=3}^{25}\n",
    "\\frac{\\omega_j^2}{2} Q_j^2\n",
    "\\right)\\\\\n",
    "&+\n",
    "\\hat{a}_0^\\dagger \\hat{a}_0\n",
    "\\left(\n",
    "\\frac{E}{2}\n",
    "+ D_e\\left(1-\\exp\\left(-\\sqrt{\\frac{\\Omega^2}{2D_e}}(Q_1-Q_{\\mathrm{ref}})\\right)\\right)^2\n",
    "- \\frac{W_1}{2}\\left(1-\\cos\\theta_2\\right)\n",
    "+ \\sum_{j=3}^{25}\n",
    "\\frac{\\omega_j^2}{2} Q_j^2 + \\kappa_j Q_j\n",
    "\\right)\n",
    "\\\\\n",
    "&+\n",
    "\\left(\\hat{a}_0 + \\hat{a}_0^\\dagger\\right) \\lambda Q_1\n",
    "\\end{align*}\n",
    "$$"
   ]
  },
  {
   "cell_type": "markdown",
   "id": "27c6c11b-d394-43b6-a23d-97e1252933bb",
   "metadata": {},
   "source": [
    "### Setup numerical parameters"
   ]
  },
  {
   "cell_type": "code",
   "execution_count": 4,
   "id": "919f3663-dc87-4f07-98c1-24db810efebe",
   "metadata": {},
   "outputs": [],
   "source": [
    "backend = \"jax\"\n",
    "use_bath = True\n",
    "\n",
    "Ω = 1532 / units.au_in_cm1\n",
    "K = 0.19 / units.au_in_eV\n",
    "De = 2.285278e-1  # Dissociation energy 2.285278E-1 Eh = 600 kJ /mol\n",
    "Q_ref = K / (Ω**1.5)\n",
    "\n",
    "I = sympy.Symbol(\"I\")\n",
    "W0 = sympy.Symbol(\"W_0\")\n",
    "W1 = sympy.Symbol(\"W_1\")\n",
    "λ = sympy.Symbol(\"lambda\")\n",
    "E = sympy.Symbol(\"E\")\n",
    "\n",
    "\n",
    "subs = {}\n",
    "subs[I] = 1 / (\n",
    "    4.84e-04 / units.au_in_eV\n",
    ")  # inertial mass　of C=C torsion (isomerization)\n",
    "subs[W0] = 3.56 / units.au_in_eV  # isomerization term\n",
    "subs[W1] = 1.19 / units.au_in_eV  # isomerization term\n",
    "subs[λ] = 0.19 / units.au_in_eV * np.sqrt(Ω)  # Linear vibronic coupling term\n",
    "subs[E] = 2.58 / units.au_in_eV - K**2 / 2 / Ω\n",
    "\n",
    "if use_bath:\n",
    "    bath_ω = (\n",
    "        np.array(\n",
    "            [\n",
    "                792.8,\n",
    "                842.8,\n",
    "                866.2,\n",
    "                882.4,\n",
    "                970.3,\n",
    "                976.0,\n",
    "                997.0,\n",
    "                1017.1,\n",
    "                1089.6,\n",
    "                1189.0,\n",
    "                1214.7,\n",
    "                1238.1,\n",
    "                1267.9,\n",
    "                1317.0,\n",
    "                1359.0,\n",
    "                1389.0,\n",
    "                1428.4,\n",
    "                1434.9,\n",
    "                1451.8,\n",
    "                1572.8,\n",
    "                1612.1,\n",
    "                1629.2,\n",
    "                1659.1,\n",
    "            ]\n",
    "        )\n",
    "        / units.au_in_cm1\n",
    "    )\n",
    "\n",
    "    dimless_displace = np.array(\n",
    "        [\n",
    "            0.175,\n",
    "            0.2,\n",
    "            0.175,\n",
    "            0.225,\n",
    "            0.55,\n",
    "            0.3,\n",
    "            0.33,\n",
    "            0.45,\n",
    "            0.125,\n",
    "            0.175,\n",
    "            0.44,\n",
    "            0.5,\n",
    "            0.475,\n",
    "            0.238,\n",
    "            0.25,\n",
    "            0.25,\n",
    "            0.25,\n",
    "            0.225,\n",
    "            0.225,\n",
    "            0.25,\n",
    "            0.225,\n",
    "            0.125,\n",
    "            0.225,\n",
    "        ]\n",
    "    )  # c=κ/ω\n",
    "    ω_symbols = [None, None, None]\n",
    "    c_symbols = [None, None, None]\n",
    "    for i, (ω, c) in enumerate(zip(bath_ω, dimless_displace, strict=True)):\n",
    "        ω_symbols.append(sympy.Symbol(f\"omega_{i + 3}\"))\n",
    "        c_symbols.append(sympy.Symbol(f\"c_{i + 3}\"))\n",
    "        subs[ω_symbols[-1]] = ω\n",
    "        subs[c_symbols[-1]] = c * (ω**1.5)"
   ]
  },
  {
   "cell_type": "markdown",
   "id": "f6ea2ee8-478a-46c2-87be-efbe1c9133c8",
   "metadata": {},
   "source": [
    "### Setup basis for wavefunction"
   ]
  },
  {
   "cell_type": "code",
   "execution_count": 5,
   "id": "b895367d-c806-4222-8b20-871a9efe63c0",
   "metadata": {},
   "outputs": [],
   "source": [
    "basis = [\n",
    "    Exciton(nstate=2),\n",
    "    Sine(ngrid=2**6, length=175.0, x0=-55.0, units=\"a.u.\"),\n",
    "    Exponential(ngrid=2**8 - 1, length=2 * np.pi, x0=-np.pi),\n",
    "]\n",
    "if use_bath:\n",
    "    for ω, c in zip(bath_ω, dimless_displace, strict=False):\n",
    "        ho_grids = HarmonicOscillator(10, ω, units=\"a.u.\").get_grids()\n",
    "        left_grid = ho_grids[0] - c / np.sqrt(ω)\n",
    "        length = ho_grids[-1] - ho_grids[0] + c / np.sqrt(ω)  ## c=κ/ω\n",
    "        basis.append(\n",
    "            Sine(ngrid=2**5, length=length, x0=left_grid, units=\"a.u.\")\n",
    "        )\n",
    "basinfo = BasInfo([basis])\n",
    "ndim = len(basis)"
   ]
  },
  {
   "cell_type": "markdown",
   "id": "cf36c134-2da7-4d12-a0d2-517badb54bab",
   "metadata": {},
   "source": [
    "### Setup one particle operator"
   ]
  },
  {
   "cell_type": "code",
   "execution_count": 6,
   "id": "325a3a63-86b9-416c-8ff3-3c4bac05920b",
   "metadata": {},
   "outputs": [],
   "source": [
    "q1_list = [None] + [np.array(basis_i.get_grids()) for basis_i in basis[1:]]\n",
    "q2_list = [None] + [q1_int**2 for q1_int in q1_list[1:]]\n",
    "p2_list = [None] + [\n",
    "    basis_i.get_2nd_derivative_matrix_dvr() for basis_i in basis[1:]\n",
    "]\n",
    "morse_0 = De * (1.0 - np.exp(-1.0 * np.sqrt(Ω**2 / 2.0 / De) * q1_list[1])) ** 2\n",
    "morse_1 = (\n",
    "    De\n",
    "    * (1.0 - np.exp(-1.0 * np.sqrt(Ω**2 / 2.0 / De) * (q1_list[1] - Q_ref)))\n",
    "    ** 2\n",
    ")\n",
    "one_cos = 1.0 - np.cos(q1_list[2])\n",
    "a = basis[0].get_annihilation_matrix()\n",
    "adag = basis[0].get_creation_matrix()\n",
    "\n",
    "p2_ops = [None] + [\n",
    "    OpSite(f\"p^2_{i}\", i, value=p2_list[i]) for i in range(1, ndim)\n",
    "]\n",
    "q2_ops = [None] + [\n",
    "    OpSite(f\"q^2_{i}\", i, value=q2_list[i]) for i in range(1, ndim)\n",
    "]\n",
    "q1_ops = [None] + [\n",
    "    OpSite(f\"q_{i}\", i, value=q1_list[i]) for i in range(1, ndim)\n",
    "]\n",
    "morse_op_0 = OpSite(\"M^{(0)}_1\", 1, value=morse_0)\n",
    "morse_op_1 = OpSite(\"M^{(1)}_1\", 1, value=morse_1)\n",
    "cos_op = OpSite(r\"(1-\\cos \\theta_{2})\", 2, value=one_cos)\n",
    "a_op = OpSite(\"a_0\", 0, value=a)\n",
    "adag_op = OpSite(r\"a^\\dagger_0\", 0, value=adag)"
   ]
  },
  {
   "cell_type": "markdown",
   "id": "7983e6d5-0b47-4b9a-80fc-834e9f1b8aed",
   "metadata": {},
   "source": [
    "### Setup potential and kinetic operator"
   ]
  },
  {
   "cell_type": "code",
   "execution_count": 7,
   "id": "0b0dc196-ebd9-46cf-8cc8-bdbcbcf2f3a7",
   "metadata": {},
   "outputs": [
    {
     "data": {
      "text/latex": [
       "$\\displaystyle \\frac{E a^{\\dagger}_{0} a_{0}}{2} - \\frac{E a_{0} a^{\\dagger}_{0}}{2} + \\frac{W_{0} a_{0} a^{\\dagger}_{0} (1-\\cos \\theta_{2})}{2} - \\frac{W_{1} a^{\\dagger}_{0} a_{0} (1-\\cos \\theta_{2})}{2} + c_{10} a^{\\dagger}_{0} a_{0} q_{10} + c_{11} a^{\\dagger}_{0} a_{0} q_{11} + c_{12} a^{\\dagger}_{0} a_{0} q_{12} + c_{13} a^{\\dagger}_{0} a_{0} q_{13} + c_{14} a^{\\dagger}_{0} a_{0} q_{14} + c_{15} a^{\\dagger}_{0} a_{0} q_{15} + c_{16} a^{\\dagger}_{0} a_{0} q_{16} + c_{17} a^{\\dagger}_{0} a_{0} q_{17} + c_{18} a^{\\dagger}_{0} a_{0} q_{18} + c_{19} a^{\\dagger}_{0} a_{0} q_{19} + c_{20} a^{\\dagger}_{0} a_{0} q_{20} + c_{21} a^{\\dagger}_{0} a_{0} q_{21} + c_{22} a^{\\dagger}_{0} a_{0} q_{22} + c_{23} a^{\\dagger}_{0} a_{0} q_{23} + c_{24} a^{\\dagger}_{0} a_{0} q_{24} + c_{25} a^{\\dagger}_{0} a_{0} q_{25} + c_{3} a^{\\dagger}_{0} a_{0} q_{3} + c_{4} a^{\\dagger}_{0} a_{0} q_{4} + c_{5} a^{\\dagger}_{0} a_{0} q_{5} + c_{6} a^{\\dagger}_{0} a_{0} q_{6} + c_{7} a^{\\dagger}_{0} a_{0} q_{7} + c_{8} a^{\\dagger}_{0} a_{0} q_{8} + c_{9} a^{\\dagger}_{0} a_{0} q_{9} + \\lambda \\left(a^{\\dagger}_{0} + a_{0}\\right) q_{1} + \\frac{\\omega_{10}^{2} \\left(a^{\\dagger}_{0} a_{0} + a_{0} a^{\\dagger}_{0}\\right) q^{2}_{10}}{2} + \\frac{\\omega_{11}^{2} \\left(a^{\\dagger}_{0} a_{0} + a_{0} a^{\\dagger}_{0}\\right) q^{2}_{11}}{2} + \\frac{\\omega_{12}^{2} \\left(a^{\\dagger}_{0} a_{0} + a_{0} a^{\\dagger}_{0}\\right) q^{2}_{12}}{2} + \\frac{\\omega_{13}^{2} \\left(a^{\\dagger}_{0} a_{0} + a_{0} a^{\\dagger}_{0}\\right) q^{2}_{13}}{2} + \\frac{\\omega_{14}^{2} \\left(a^{\\dagger}_{0} a_{0} + a_{0} a^{\\dagger}_{0}\\right) q^{2}_{14}}{2} + \\frac{\\omega_{15}^{2} \\left(a^{\\dagger}_{0} a_{0} + a_{0} a^{\\dagger}_{0}\\right) q^{2}_{15}}{2} + \\frac{\\omega_{16}^{2} \\left(a^{\\dagger}_{0} a_{0} + a_{0} a^{\\dagger}_{0}\\right) q^{2}_{16}}{2} + \\frac{\\omega_{17}^{2} \\left(a^{\\dagger}_{0} a_{0} + a_{0} a^{\\dagger}_{0}\\right) q^{2}_{17}}{2} + \\frac{\\omega_{18}^{2} \\left(a^{\\dagger}_{0} a_{0} + a_{0} a^{\\dagger}_{0}\\right) q^{2}_{18}}{2} + \\frac{\\omega_{19}^{2} \\left(a^{\\dagger}_{0} a_{0} + a_{0} a^{\\dagger}_{0}\\right) q^{2}_{19}}{2} + \\frac{\\omega_{20}^{2} \\left(a^{\\dagger}_{0} a_{0} + a_{0} a^{\\dagger}_{0}\\right) q^{2}_{20}}{2} + \\frac{\\omega_{21}^{2} \\left(a^{\\dagger}_{0} a_{0} + a_{0} a^{\\dagger}_{0}\\right) q^{2}_{21}}{2} + \\frac{\\omega_{22}^{2} \\left(a^{\\dagger}_{0} a_{0} + a_{0} a^{\\dagger}_{0}\\right) q^{2}_{22}}{2} + \\frac{\\omega_{23}^{2} \\left(a^{\\dagger}_{0} a_{0} + a_{0} a^{\\dagger}_{0}\\right) q^{2}_{23}}{2} + \\frac{\\omega_{24}^{2} \\left(a^{\\dagger}_{0} a_{0} + a_{0} a^{\\dagger}_{0}\\right) q^{2}_{24}}{2} + \\frac{\\omega_{25}^{2} \\left(a^{\\dagger}_{0} a_{0} + a_{0} a^{\\dagger}_{0}\\right) q^{2}_{25}}{2} + \\frac{\\omega_{3}^{2} \\left(a^{\\dagger}_{0} a_{0} + a_{0} a^{\\dagger}_{0}\\right) q^{2}_{3}}{2} + \\frac{\\omega_{4}^{2} \\left(a^{\\dagger}_{0} a_{0} + a_{0} a^{\\dagger}_{0}\\right) q^{2}_{4}}{2} + \\frac{\\omega_{5}^{2} \\left(a^{\\dagger}_{0} a_{0} + a_{0} a^{\\dagger}_{0}\\right) q^{2}_{5}}{2} + \\frac{\\omega_{6}^{2} \\left(a^{\\dagger}_{0} a_{0} + a_{0} a^{\\dagger}_{0}\\right) q^{2}_{6}}{2} + \\frac{\\omega_{7}^{2} \\left(a^{\\dagger}_{0} a_{0} + a_{0} a^{\\dagger}_{0}\\right) q^{2}_{7}}{2} + \\frac{\\omega_{8}^{2} \\left(a^{\\dagger}_{0} a_{0} + a_{0} a^{\\dagger}_{0}\\right) q^{2}_{8}}{2} + \\frac{\\omega_{9}^{2} \\left(a^{\\dagger}_{0} a_{0} + a_{0} a^{\\dagger}_{0}\\right) q^{2}_{9}}{2} + a^{\\dagger}_{0} a_{0} M^{(1)}_1 + a_{0} a^{\\dagger}_{0} M^{(0)}_1$"
      ],
      "text/plain": [
       "E*a^\\dagger_0*a_0/2 - E*a_0*a^\\dagger_0/2 + W_0*a_0*a^\\dagger_0*(1-\\cos \\theta_{2})/2 - W_1*a^\\dagger_0*a_0*(1-\\cos \\theta_{2})/2 + c_10*a^\\dagger_0*a_0*q_10 + c_11*a^\\dagger_0*a_0*q_11 + c_12*a^\\dagger_0*a_0*q_12 + c_13*a^\\dagger_0*a_0*q_13 + c_14*a^\\dagger_0*a_0*q_14 + c_15*a^\\dagger_0*a_0*q_15 + c_16*a^\\dagger_0*a_0*q_16 + c_17*a^\\dagger_0*a_0*q_17 + c_18*a^\\dagger_0*a_0*q_18 + c_19*a^\\dagger_0*a_0*q_19 + c_20*a^\\dagger_0*a_0*q_20 + c_21*a^\\dagger_0*a_0*q_21 + c_22*a^\\dagger_0*a_0*q_22 + c_23*a^\\dagger_0*a_0*q_23 + c_24*a^\\dagger_0*a_0*q_24 + c_25*a^\\dagger_0*a_0*q_25 + c_3*a^\\dagger_0*a_0*q_3 + c_4*a^\\dagger_0*a_0*q_4 + c_5*a^\\dagger_0*a_0*q_5 + c_6*a^\\dagger_0*a_0*q_6 + c_7*a^\\dagger_0*a_0*q_7 + c_8*a^\\dagger_0*a_0*q_8 + c_9*a^\\dagger_0*a_0*q_9 + lambda*(a^\\dagger_0 + a_0)*q_1 + omega_10**2*(a^\\dagger_0*a_0 + a_0*a^\\dagger_0)*q^2_10/2 + omega_11**2*(a^\\dagger_0*a_0 + a_0*a^\\dagger_0)*q^2_11/2 + omega_12**2*(a^\\dagger_0*a_0 + a_0*a^\\dagger_0)*q^2_12/2 + omega_13**2*(a^\\dagger_0*a_0 + a_0*a^\\dagger_0)*q^2_13/2 + omega_14**2*(a^\\dagger_0*a_0 + a_0*a^\\dagger_0)*q^2_14/2 + omega_15**2*(a^\\dagger_0*a_0 + a_0*a^\\dagger_0)*q^2_15/2 + omega_16**2*(a^\\dagger_0*a_0 + a_0*a^\\dagger_0)*q^2_16/2 + omega_17**2*(a^\\dagger_0*a_0 + a_0*a^\\dagger_0)*q^2_17/2 + omega_18**2*(a^\\dagger_0*a_0 + a_0*a^\\dagger_0)*q^2_18/2 + omega_19**2*(a^\\dagger_0*a_0 + a_0*a^\\dagger_0)*q^2_19/2 + omega_20**2*(a^\\dagger_0*a_0 + a_0*a^\\dagger_0)*q^2_20/2 + omega_21**2*(a^\\dagger_0*a_0 + a_0*a^\\dagger_0)*q^2_21/2 + omega_22**2*(a^\\dagger_0*a_0 + a_0*a^\\dagger_0)*q^2_22/2 + omega_23**2*(a^\\dagger_0*a_0 + a_0*a^\\dagger_0)*q^2_23/2 + omega_24**2*(a^\\dagger_0*a_0 + a_0*a^\\dagger_0)*q^2_24/2 + omega_25**2*(a^\\dagger_0*a_0 + a_0*a^\\dagger_0)*q^2_25/2 + omega_3**2*(a^\\dagger_0*a_0 + a_0*a^\\dagger_0)*q^2_3/2 + omega_4**2*(a^\\dagger_0*a_0 + a_0*a^\\dagger_0)*q^2_4/2 + omega_5**2*(a^\\dagger_0*a_0 + a_0*a^\\dagger_0)*q^2_5/2 + omega_6**2*(a^\\dagger_0*a_0 + a_0*a^\\dagger_0)*q^2_6/2 + omega_7**2*(a^\\dagger_0*a_0 + a_0*a^\\dagger_0)*q^2_7/2 + omega_8**2*(a^\\dagger_0*a_0 + a_0*a^\\dagger_0)*q^2_8/2 + omega_9**2*(a^\\dagger_0*a_0 + a_0*a^\\dagger_0)*q^2_9/2 + a^\\dagger_0*a_0*M^{(1)}_1 + a_0*a^\\dagger_0*M^{(0)}_1"
      ]
     },
     "execution_count": 7,
     "metadata": {},
     "output_type": "execute_result"
    }
   ],
   "source": [
    "pot_sop = SumOfProducts()\n",
    "\n",
    "pot_sop += (-E / 2) * a_op * adag_op\n",
    "pot_sop += a_op * adag_op * morse_op_0\n",
    "pot_sop += (W0 / 2)* a_op * adag_op * cos_op\n",
    "for i in range(3, ndim):\n",
    "    pot_sop += (ω_symbols[i] ** 2 / 2) * a_op * adag_op * q2_ops[i]\n",
    "\n",
    "pot_sop += (E / 2) * adag_op * a_op\n",
    "pot_sop += adag_op * a_op * morse_op_1\n",
    "pot_sop += (-W1 / 2) * adag_op * a_op * cos_op\n",
    "for i in range(3, ndim):\n",
    "    pot_sop += (ω_symbols[i] ** 2 / 2) * adag_op * a_op * q2_ops[i]\n",
    "    pot_sop += (c_symbols[i]) * adag_op * a_op * q1_ops[i]\n",
    "\n",
    "pot_sop += λ * (adag_op + a_op) * q1_ops[1]\n",
    "\n",
    "pot_sop = pot_sop.simplify()\n",
    "pot_sop.symbol"
   ]
  },
  {
   "cell_type": "code",
   "execution_count": 8,
   "id": "93969f51-ece0-4c57-b774-24f127147576",
   "metadata": {},
   "outputs": [
    {
     "data": {
      "text/latex": [
       "$\\displaystyle - 0.5 \\left(a^{\\dagger}_{0} a_{0} + a_{0} a^{\\dagger}_{0}\\right) p^{2}_{1} - 0.5 \\left(a^{\\dagger}_{0} a_{0} + a_{0} a^{\\dagger}_{0}\\right) p^{2}_{10} - 0.5 \\left(a^{\\dagger}_{0} a_{0} + a_{0} a^{\\dagger}_{0}\\right) p^{2}_{11} - 0.5 \\left(a^{\\dagger}_{0} a_{0} + a_{0} a^{\\dagger}_{0}\\right) p^{2}_{12} - 0.5 \\left(a^{\\dagger}_{0} a_{0} + a_{0} a^{\\dagger}_{0}\\right) p^{2}_{13} - 0.5 \\left(a^{\\dagger}_{0} a_{0} + a_{0} a^{\\dagger}_{0}\\right) p^{2}_{14} - 0.5 \\left(a^{\\dagger}_{0} a_{0} + a_{0} a^{\\dagger}_{0}\\right) p^{2}_{15} - 0.5 \\left(a^{\\dagger}_{0} a_{0} + a_{0} a^{\\dagger}_{0}\\right) p^{2}_{16} - 0.5 \\left(a^{\\dagger}_{0} a_{0} + a_{0} a^{\\dagger}_{0}\\right) p^{2}_{17} - 0.5 \\left(a^{\\dagger}_{0} a_{0} + a_{0} a^{\\dagger}_{0}\\right) p^{2}_{18} - 0.5 \\left(a^{\\dagger}_{0} a_{0} + a_{0} a^{\\dagger}_{0}\\right) p^{2}_{19} - 0.5 \\left(a^{\\dagger}_{0} a_{0} + a_{0} a^{\\dagger}_{0}\\right) p^{2}_{20} - 0.5 \\left(a^{\\dagger}_{0} a_{0} + a_{0} a^{\\dagger}_{0}\\right) p^{2}_{21} - 0.5 \\left(a^{\\dagger}_{0} a_{0} + a_{0} a^{\\dagger}_{0}\\right) p^{2}_{22} - 0.5 \\left(a^{\\dagger}_{0} a_{0} + a_{0} a^{\\dagger}_{0}\\right) p^{2}_{23} - 0.5 \\left(a^{\\dagger}_{0} a_{0} + a_{0} a^{\\dagger}_{0}\\right) p^{2}_{24} - 0.5 \\left(a^{\\dagger}_{0} a_{0} + a_{0} a^{\\dagger}_{0}\\right) p^{2}_{25} - 0.5 \\left(a^{\\dagger}_{0} a_{0} + a_{0} a^{\\dagger}_{0}\\right) p^{2}_{3} - 0.5 \\left(a^{\\dagger}_{0} a_{0} + a_{0} a^{\\dagger}_{0}\\right) p^{2}_{4} - 0.5 \\left(a^{\\dagger}_{0} a_{0} + a_{0} a^{\\dagger}_{0}\\right) p^{2}_{5} - 0.5 \\left(a^{\\dagger}_{0} a_{0} + a_{0} a^{\\dagger}_{0}\\right) p^{2}_{6} - 0.5 \\left(a^{\\dagger}_{0} a_{0} + a_{0} a^{\\dagger}_{0}\\right) p^{2}_{7} - 0.5 \\left(a^{\\dagger}_{0} a_{0} + a_{0} a^{\\dagger}_{0}\\right) p^{2}_{8} - 0.5 \\left(a^{\\dagger}_{0} a_{0} + a_{0} a^{\\dagger}_{0}\\right) p^{2}_{9} - \\frac{0.5 \\left(a^{\\dagger}_{0} a_{0} + a_{0} a^{\\dagger}_{0}\\right) p^{2}_{2}}{I}$"
      ],
      "text/plain": [
       "-0.5*(a^\\dagger_0*a_0 + a_0*a^\\dagger_0)*p^2_1 - 0.5*(a^\\dagger_0*a_0 + a_0*a^\\dagger_0)*p^2_10 - 0.5*(a^\\dagger_0*a_0 + a_0*a^\\dagger_0)*p^2_11 - 0.5*(a^\\dagger_0*a_0 + a_0*a^\\dagger_0)*p^2_12 - 0.5*(a^\\dagger_0*a_0 + a_0*a^\\dagger_0)*p^2_13 - 0.5*(a^\\dagger_0*a_0 + a_0*a^\\dagger_0)*p^2_14 - 0.5*(a^\\dagger_0*a_0 + a_0*a^\\dagger_0)*p^2_15 - 0.5*(a^\\dagger_0*a_0 + a_0*a^\\dagger_0)*p^2_16 - 0.5*(a^\\dagger_0*a_0 + a_0*a^\\dagger_0)*p^2_17 - 0.5*(a^\\dagger_0*a_0 + a_0*a^\\dagger_0)*p^2_18 - 0.5*(a^\\dagger_0*a_0 + a_0*a^\\dagger_0)*p^2_19 - 0.5*(a^\\dagger_0*a_0 + a_0*a^\\dagger_0)*p^2_20 - 0.5*(a^\\dagger_0*a_0 + a_0*a^\\dagger_0)*p^2_21 - 0.5*(a^\\dagger_0*a_0 + a_0*a^\\dagger_0)*p^2_22 - 0.5*(a^\\dagger_0*a_0 + a_0*a^\\dagger_0)*p^2_23 - 0.5*(a^\\dagger_0*a_0 + a_0*a^\\dagger_0)*p^2_24 - 0.5*(a^\\dagger_0*a_0 + a_0*a^\\dagger_0)*p^2_25 - 0.5*(a^\\dagger_0*a_0 + a_0*a^\\dagger_0)*p^2_3 - 0.5*(a^\\dagger_0*a_0 + a_0*a^\\dagger_0)*p^2_4 - 0.5*(a^\\dagger_0*a_0 + a_0*a^\\dagger_0)*p^2_5 - 0.5*(a^\\dagger_0*a_0 + a_0*a^\\dagger_0)*p^2_6 - 0.5*(a^\\dagger_0*a_0 + a_0*a^\\dagger_0)*p^2_7 - 0.5*(a^\\dagger_0*a_0 + a_0*a^\\dagger_0)*p^2_8 - 0.5*(a^\\dagger_0*a_0 + a_0*a^\\dagger_0)*p^2_9 - 0.5*(a^\\dagger_0*a_0 + a_0*a^\\dagger_0)*p^2_2/I"
      ]
     },
     "execution_count": 8,
     "metadata": {},
     "output_type": "execute_result"
    }
   ],
   "source": [
    "kin_sop = SumOfProducts()\n",
    "\n",
    "kin_sop += (-1 / 2) * (a_op * adag_op  + adag_op * a_op) * p2_ops[1]\n",
    "kin_sop += (-1 / 2 / I) * (a_op * adag_op + adag_op * a_op) * p2_ops[2]\n",
    "for i in range(3, ndim):\n",
    "    kin_sop += (-1 / 2) * (a_op * adag_op + adag_op * a_op) * p2_ops[i]\n",
    "\n",
    "kin_sop = kin_sop.simplify()\n",
    "kin_sop.symbol"
   ]
  },
  {
   "cell_type": "markdown",
   "id": "4fa405f2-048b-4e69-9cbd-c6c7d3bf5b38",
   "metadata": {},
   "source": [
    "### Setup MPO"
   ]
  },
  {
   "cell_type": "code",
   "execution_count": 9,
   "id": "94e62760-af88-43e2-a76b-d0cb9ff1db35",
   "metadata": {},
   "outputs": [
    {
     "data": {
      "text/latex": [
       "$\\displaystyle \\left[\\begin{matrix}a^{\\dagger}_{0} + a_{0} & a^{\\dagger}_{0} a_{0} & a^{\\dagger}_{0} a_{0} + a_{0} a^{\\dagger}_{0} & a_{0} a^{\\dagger}_{0}\\end{matrix}\\right]$"
      ],
      "text/plain": [
       "Matrix([[a^\\dagger_0 + a_0, a^\\dagger_0*a_0, a^\\dagger_0*a_0 + a_0*a^\\dagger_0, a_0*a^\\dagger_0]])"
      ]
     },
     "metadata": {},
     "output_type": "display_data"
    },
    {
     "data": {
      "text/latex": [
       "$\\displaystyle \\left[\\begin{matrix}0 & 0 & 0 & \\lambda q_{1}\\\\1 & 0 & 0 & M^{(1)}_1\\\\0 & 0 & 1 & 0\\\\0 & 1 & 0 & M^{(0)}_1\\end{matrix}\\right]$"
      ],
      "text/plain": [
       "Matrix([\n",
       "[0, 0, 0, lambda*q_1],\n",
       "[1, 0, 0,  M^{(1)}_1],\n",
       "[0, 0, 1,          0],\n",
       "[0, 1, 0,  M^{(0)}_1]])"
      ]
     },
     "metadata": {},
     "output_type": "display_data"
    },
    {
     "data": {
      "text/latex": [
       "$\\displaystyle \\left[\\begin{matrix}1 & 0 & - \\frac{W_{1} (1-\\cos \\theta_{2})}{2}\\\\0 & 0 & - \\frac{E}{2} + \\frac{W_{0} (1-\\cos \\theta_{2})}{2}\\\\0 & 1 & 0\\\\0 & 0 & 1\\end{matrix}\\right]$"
      ],
      "text/plain": [
       "Matrix([\n",
       "[1, 0,       -W_1*(1-\\cos \\theta_{2})/2],\n",
       "[0, 0, -E/2 + W_0*(1-\\cos \\theta_{2})/2],\n",
       "[0, 1,                                0],\n",
       "[0, 0,                                1]])"
      ]
     },
     "metadata": {},
     "output_type": "display_data"
    },
    {
     "data": {
      "text/latex": [
       "$\\displaystyle \\left[\\begin{matrix}1 & 0 & c_{3} q_{3}\\\\0 & 1 & \\frac{\\omega_{3}^{2} q^{2}_{3}}{2}\\\\0 & 0 & 1\\end{matrix}\\right]$"
      ],
      "text/plain": [
       "Matrix([\n",
       "[1, 0,            c_3*q_3],\n",
       "[0, 1, omega_3**2*q^2_3/2],\n",
       "[0, 0,                  1]])"
      ]
     },
     "metadata": {},
     "output_type": "display_data"
    },
    {
     "data": {
      "text/latex": [
       "$\\displaystyle \\left[\\begin{matrix}0 & 1 & c_{4} q_{4}\\\\1 & 0 & \\frac{\\omega_{4}^{2} q^{2}_{4}}{2}\\\\0 & 0 & 1\\end{matrix}\\right]$"
      ],
      "text/plain": [
       "Matrix([\n",
       "[0, 1,            c_4*q_4],\n",
       "[1, 0, omega_4**2*q^2_4/2],\n",
       "[0, 0,                  1]])"
      ]
     },
     "metadata": {},
     "output_type": "display_data"
    },
    {
     "data": {
      "text/latex": [
       "$\\displaystyle \\left[\\begin{matrix}0 & 1 & \\frac{\\omega_{5}^{2} q^{2}_{5}}{2}\\\\1 & 0 & c_{5} q_{5}\\\\0 & 0 & 1\\end{matrix}\\right]$"
      ],
      "text/plain": [
       "Matrix([\n",
       "[0, 1, omega_5**2*q^2_5/2],\n",
       "[1, 0,            c_5*q_5],\n",
       "[0, 0,                  1]])"
      ]
     },
     "metadata": {},
     "output_type": "display_data"
    },
    {
     "data": {
      "text/latex": [
       "$\\displaystyle \\left[\\begin{matrix}1 & 0 & c_{6} q_{6}\\\\0 & 1 & \\frac{\\omega_{6}^{2} q^{2}_{6}}{2}\\\\0 & 0 & 1\\end{matrix}\\right]$"
      ],
      "text/plain": [
       "Matrix([\n",
       "[1, 0,            c_6*q_6],\n",
       "[0, 1, omega_6**2*q^2_6/2],\n",
       "[0, 0,                  1]])"
      ]
     },
     "metadata": {},
     "output_type": "display_data"
    },
    {
     "data": {
      "text/latex": [
       "$\\displaystyle \\left[\\begin{matrix}0 & 1 & c_{7} q_{7}\\\\1 & 0 & \\frac{\\omega_{7}^{2} q^{2}_{7}}{2}\\\\0 & 0 & 1\\end{matrix}\\right]$"
      ],
      "text/plain": [
       "Matrix([\n",
       "[0, 1,            c_7*q_7],\n",
       "[1, 0, omega_7**2*q^2_7/2],\n",
       "[0, 0,                  1]])"
      ]
     },
     "metadata": {},
     "output_type": "display_data"
    },
    {
     "data": {
      "text/latex": [
       "$\\displaystyle \\left[\\begin{matrix}0 & 1 & \\frac{\\omega_{8}^{2} q^{2}_{8}}{2}\\\\1 & 0 & c_{8} q_{8}\\\\0 & 0 & 1\\end{matrix}\\right]$"
      ],
      "text/plain": [
       "Matrix([\n",
       "[0, 1, omega_8**2*q^2_8/2],\n",
       "[1, 0,            c_8*q_8],\n",
       "[0, 0,                  1]])"
      ]
     },
     "metadata": {},
     "output_type": "display_data"
    },
    {
     "data": {
      "text/latex": [
       "$\\displaystyle \\left[\\begin{matrix}0 & 1 & c_{9} q_{9}\\\\1 & 0 & \\frac{\\omega_{9}^{2} q^{2}_{9}}{2}\\\\0 & 0 & 1\\end{matrix}\\right]$"
      ],
      "text/plain": [
       "Matrix([\n",
       "[0, 1,            c_9*q_9],\n",
       "[1, 0, omega_9**2*q^2_9/2],\n",
       "[0, 0,                  1]])"
      ]
     },
     "metadata": {},
     "output_type": "display_data"
    },
    {
     "data": {
      "text/latex": [
       "$\\displaystyle \\left[\\begin{matrix}0 & 1 & \\frac{\\omega_{10}^{2} q^{2}_{10}}{2}\\\\1 & 0 & c_{10} q_{10}\\\\0 & 0 & 1\\end{matrix}\\right]$"
      ],
      "text/plain": [
       "Matrix([\n",
       "[0, 1, omega_10**2*q^2_10/2],\n",
       "[1, 0,            c_10*q_10],\n",
       "[0, 0,                    1]])"
      ]
     },
     "metadata": {},
     "output_type": "display_data"
    },
    {
     "data": {
      "text/latex": [
       "$\\displaystyle \\left[\\begin{matrix}1 & 0 & c_{11} q_{11}\\\\0 & 1 & \\frac{\\omega_{11}^{2} q^{2}_{11}}{2}\\\\0 & 0 & 1\\end{matrix}\\right]$"
      ],
      "text/plain": [
       "Matrix([\n",
       "[1, 0,            c_11*q_11],\n",
       "[0, 1, omega_11**2*q^2_11/2],\n",
       "[0, 0,                    1]])"
      ]
     },
     "metadata": {},
     "output_type": "display_data"
    },
    {
     "data": {
      "text/latex": [
       "$\\displaystyle \\left[\\begin{matrix}0 & 1 & c_{12} q_{12}\\\\1 & 0 & \\frac{\\omega_{12}^{2} q^{2}_{12}}{2}\\\\0 & 0 & 1\\end{matrix}\\right]$"
      ],
      "text/plain": [
       "Matrix([\n",
       "[0, 1,            c_12*q_12],\n",
       "[1, 0, omega_12**2*q^2_12/2],\n",
       "[0, 0,                    1]])"
      ]
     },
     "metadata": {},
     "output_type": "display_data"
    },
    {
     "data": {
      "text/latex": [
       "$\\displaystyle \\left[\\begin{matrix}1 & 0 & \\frac{\\omega_{13}^{2} q^{2}_{13}}{2}\\\\0 & 1 & c_{13} q_{13}\\\\0 & 0 & 1\\end{matrix}\\right]$"
      ],
      "text/plain": [
       "Matrix([\n",
       "[1, 0, omega_13**2*q^2_13/2],\n",
       "[0, 1,            c_13*q_13],\n",
       "[0, 0,                    1]])"
      ]
     },
     "metadata": {},
     "output_type": "display_data"
    },
    {
     "data": {
      "text/latex": [
       "$\\displaystyle \\left[\\begin{matrix}1 & 0 & \\frac{\\omega_{14}^{2} q^{2}_{14}}{2}\\\\0 & 1 & c_{14} q_{14}\\\\0 & 0 & 1\\end{matrix}\\right]$"
      ],
      "text/plain": [
       "Matrix([\n",
       "[1, 0, omega_14**2*q^2_14/2],\n",
       "[0, 1,            c_14*q_14],\n",
       "[0, 0,                    1]])"
      ]
     },
     "metadata": {},
     "output_type": "display_data"
    },
    {
     "data": {
      "text/latex": [
       "$\\displaystyle \\left[\\begin{matrix}1 & 0 & \\frac{\\omega_{15}^{2} q^{2}_{15}}{2}\\\\0 & 1 & c_{15} q_{15}\\\\0 & 0 & 1\\end{matrix}\\right]$"
      ],
      "text/plain": [
       "Matrix([\n",
       "[1, 0, omega_15**2*q^2_15/2],\n",
       "[0, 1,            c_15*q_15],\n",
       "[0, 0,                    1]])"
      ]
     },
     "metadata": {},
     "output_type": "display_data"
    },
    {
     "data": {
      "text/latex": [
       "$\\displaystyle \\left[\\begin{matrix}0 & 1 & \\frac{\\omega_{16}^{2} q^{2}_{16}}{2}\\\\1 & 0 & c_{16} q_{16}\\\\0 & 0 & 1\\end{matrix}\\right]$"
      ],
      "text/plain": [
       "Matrix([\n",
       "[0, 1, omega_16**2*q^2_16/2],\n",
       "[1, 0,            c_16*q_16],\n",
       "[0, 0,                    1]])"
      ]
     },
     "metadata": {},
     "output_type": "display_data"
    },
    {
     "data": {
      "text/latex": [
       "$\\displaystyle \\left[\\begin{matrix}1 & 0 & c_{17} q_{17}\\\\0 & 1 & \\frac{\\omega_{17}^{2} q^{2}_{17}}{2}\\\\0 & 0 & 1\\end{matrix}\\right]$"
      ],
      "text/plain": [
       "Matrix([\n",
       "[1, 0,            c_17*q_17],\n",
       "[0, 1, omega_17**2*q^2_17/2],\n",
       "[0, 0,                    1]])"
      ]
     },
     "metadata": {},
     "output_type": "display_data"
    },
    {
     "data": {
      "text/latex": [
       "$\\displaystyle \\left[\\begin{matrix}0 & 1 & c_{18} q_{18}\\\\1 & 0 & \\frac{\\omega_{18}^{2} q^{2}_{18}}{2}\\\\0 & 0 & 1\\end{matrix}\\right]$"
      ],
      "text/plain": [
       "Matrix([\n",
       "[0, 1,            c_18*q_18],\n",
       "[1, 0, omega_18**2*q^2_18/2],\n",
       "[0, 0,                    1]])"
      ]
     },
     "metadata": {},
     "output_type": "display_data"
    },
    {
     "data": {
      "text/latex": [
       "$\\displaystyle \\left[\\begin{matrix}1 & 0 & \\frac{\\omega_{19}^{2} q^{2}_{19}}{2}\\\\0 & 1 & c_{19} q_{19}\\\\0 & 0 & 1\\end{matrix}\\right]$"
      ],
      "text/plain": [
       "Matrix([\n",
       "[1, 0, omega_19**2*q^2_19/2],\n",
       "[0, 1,            c_19*q_19],\n",
       "[0, 0,                    1]])"
      ]
     },
     "metadata": {},
     "output_type": "display_data"
    },
    {
     "data": {
      "text/latex": [
       "$\\displaystyle \\left[\\begin{matrix}1 & 0 & \\frac{\\omega_{20}^{2} q^{2}_{20}}{2}\\\\0 & 1 & c_{20} q_{20}\\\\0 & 0 & 1\\end{matrix}\\right]$"
      ],
      "text/plain": [
       "Matrix([\n",
       "[1, 0, omega_20**2*q^2_20/2],\n",
       "[0, 1,            c_20*q_20],\n",
       "[0, 0,                    1]])"
      ]
     },
     "metadata": {},
     "output_type": "display_data"
    },
    {
     "data": {
      "text/latex": [
       "$\\displaystyle \\left[\\begin{matrix}1 & 0 & \\frac{\\omega_{21}^{2} q^{2}_{21}}{2}\\\\0 & 1 & c_{21} q_{21}\\\\0 & 0 & 1\\end{matrix}\\right]$"
      ],
      "text/plain": [
       "Matrix([\n",
       "[1, 0, omega_21**2*q^2_21/2],\n",
       "[0, 1,            c_21*q_21],\n",
       "[0, 0,                    1]])"
      ]
     },
     "metadata": {},
     "output_type": "display_data"
    },
    {
     "data": {
      "text/latex": [
       "$\\displaystyle \\left[\\begin{matrix}1 & 0 & \\frac{\\omega_{22}^{2} q^{2}_{22}}{2}\\\\0 & 1 & c_{22} q_{22}\\\\0 & 0 & 1\\end{matrix}\\right]$"
      ],
      "text/plain": [
       "Matrix([\n",
       "[1, 0, omega_22**2*q^2_22/2],\n",
       "[0, 1,            c_22*q_22],\n",
       "[0, 0,                    1]])"
      ]
     },
     "metadata": {},
     "output_type": "display_data"
    },
    {
     "data": {
      "text/latex": [
       "$\\displaystyle \\left[\\begin{matrix}0 & 1 & \\frac{\\omega_{23}^{2} q^{2}_{23}}{2}\\\\1 & 0 & c_{23} q_{23}\\\\0 & 0 & 1\\end{matrix}\\right]$"
      ],
      "text/plain": [
       "Matrix([\n",
       "[0, 1, omega_23**2*q^2_23/2],\n",
       "[1, 0,            c_23*q_23],\n",
       "[0, 0,                    1]])"
      ]
     },
     "metadata": {},
     "output_type": "display_data"
    },
    {
     "data": {
      "text/latex": [
       "$\\displaystyle \\left[\\begin{matrix}0 & 1 & c_{24} q_{24}\\\\1 & 0 & \\frac{\\omega_{24}^{2} q^{2}_{24}}{2}\\\\0 & 0 & 1\\end{matrix}\\right]$"
      ],
      "text/plain": [
       "Matrix([\n",
       "[0, 1,            c_24*q_24],\n",
       "[1, 0, omega_24**2*q^2_24/2],\n",
       "[0, 0,                    1]])"
      ]
     },
     "metadata": {},
     "output_type": "display_data"
    },
    {
     "data": {
      "text/latex": [
       "$\\displaystyle \\left[\\begin{matrix}\\frac{\\omega_{25}^{2} q^{2}_{25}}{2}\\\\\\frac{E}{2} + c_{25} q_{25}\\\\1\\end{matrix}\\right]$"
      ],
      "text/plain": [
       "Matrix([\n",
       "[omega_25**2*q^2_25/2],\n",
       "[     E/2 + c_25*q_25],\n",
       "[                   1]])"
      ]
     },
     "metadata": {},
     "output_type": "display_data"
    },
    {
     "name": "stdout",
     "output_type": "stream",
     "text": [
      "W0 W1 W2 W3 W4 W5 W6 W7 W8 W9 W10 W11 W12 W13 W14 W15 W16 W17 W18 W19 W20 W21 W22 W23 W24 W25 =\n"
     ]
    },
    {
     "data": {
      "text/latex": [
       "$\\displaystyle \\frac{E a^{\\dagger}_{0} a_{0}}{2} - \\frac{E a_{0} a^{\\dagger}_{0}}{2} + \\frac{W_{0} a_{0} a^{\\dagger}_{0} (1-\\cos \\theta_{2})}{2} - \\frac{W_{1} a^{\\dagger}_{0} a_{0} (1-\\cos \\theta_{2})}{2} + c_{10} a^{\\dagger}_{0} a_{0} q_{10} + c_{11} a^{\\dagger}_{0} a_{0} q_{11} + c_{12} a^{\\dagger}_{0} a_{0} q_{12} + c_{13} a^{\\dagger}_{0} a_{0} q_{13} + c_{14} a^{\\dagger}_{0} a_{0} q_{14} + c_{15} a^{\\dagger}_{0} a_{0} q_{15} + c_{16} a^{\\dagger}_{0} a_{0} q_{16} + c_{17} a^{\\dagger}_{0} a_{0} q_{17} + c_{18} a^{\\dagger}_{0} a_{0} q_{18} + c_{19} a^{\\dagger}_{0} a_{0} q_{19} + c_{20} a^{\\dagger}_{0} a_{0} q_{20} + c_{21} a^{\\dagger}_{0} a_{0} q_{21} + c_{22} a^{\\dagger}_{0} a_{0} q_{22} + c_{23} a^{\\dagger}_{0} a_{0} q_{23} + c_{24} a^{\\dagger}_{0} a_{0} q_{24} + c_{25} a^{\\dagger}_{0} a_{0} q_{25} + c_{3} a^{\\dagger}_{0} a_{0} q_{3} + c_{4} a^{\\dagger}_{0} a_{0} q_{4} + c_{5} a^{\\dagger}_{0} a_{0} q_{5} + c_{6} a^{\\dagger}_{0} a_{0} q_{6} + c_{7} a^{\\dagger}_{0} a_{0} q_{7} + c_{8} a^{\\dagger}_{0} a_{0} q_{8} + c_{9} a^{\\dagger}_{0} a_{0} q_{9} + \\lambda a^{\\dagger}_{0} q_{1} + \\lambda a_{0} q_{1} + \\frac{\\omega_{10}^{2} a^{\\dagger}_{0} a_{0} q^{2}_{10}}{2} + \\frac{\\omega_{10}^{2} a_{0} a^{\\dagger}_{0} q^{2}_{10}}{2} + \\frac{\\omega_{11}^{2} a^{\\dagger}_{0} a_{0} q^{2}_{11}}{2} + \\frac{\\omega_{11}^{2} a_{0} a^{\\dagger}_{0} q^{2}_{11}}{2} + \\frac{\\omega_{12}^{2} a^{\\dagger}_{0} a_{0} q^{2}_{12}}{2} + \\frac{\\omega_{12}^{2} a_{0} a^{\\dagger}_{0} q^{2}_{12}}{2} + \\frac{\\omega_{13}^{2} a^{\\dagger}_{0} a_{0} q^{2}_{13}}{2} + \\frac{\\omega_{13}^{2} a_{0} a^{\\dagger}_{0} q^{2}_{13}}{2} + \\frac{\\omega_{14}^{2} a^{\\dagger}_{0} a_{0} q^{2}_{14}}{2} + \\frac{\\omega_{14}^{2} a_{0} a^{\\dagger}_{0} q^{2}_{14}}{2} + \\frac{\\omega_{15}^{2} a^{\\dagger}_{0} a_{0} q^{2}_{15}}{2} + \\frac{\\omega_{15}^{2} a_{0} a^{\\dagger}_{0} q^{2}_{15}}{2} + \\frac{\\omega_{16}^{2} a^{\\dagger}_{0} a_{0} q^{2}_{16}}{2} + \\frac{\\omega_{16}^{2} a_{0} a^{\\dagger}_{0} q^{2}_{16}}{2} + \\frac{\\omega_{17}^{2} a^{\\dagger}_{0} a_{0} q^{2}_{17}}{2} + \\frac{\\omega_{17}^{2} a_{0} a^{\\dagger}_{0} q^{2}_{17}}{2} + \\frac{\\omega_{18}^{2} a^{\\dagger}_{0} a_{0} q^{2}_{18}}{2} + \\frac{\\omega_{18}^{2} a_{0} a^{\\dagger}_{0} q^{2}_{18}}{2} + \\frac{\\omega_{19}^{2} a^{\\dagger}_{0} a_{0} q^{2}_{19}}{2} + \\frac{\\omega_{19}^{2} a_{0} a^{\\dagger}_{0} q^{2}_{19}}{2} + \\frac{\\omega_{20}^{2} a^{\\dagger}_{0} a_{0} q^{2}_{20}}{2} + \\frac{\\omega_{20}^{2} a_{0} a^{\\dagger}_{0} q^{2}_{20}}{2} + \\frac{\\omega_{21}^{2} a^{\\dagger}_{0} a_{0} q^{2}_{21}}{2} + \\frac{\\omega_{21}^{2} a_{0} a^{\\dagger}_{0} q^{2}_{21}}{2} + \\frac{\\omega_{22}^{2} a^{\\dagger}_{0} a_{0} q^{2}_{22}}{2} + \\frac{\\omega_{22}^{2} a_{0} a^{\\dagger}_{0} q^{2}_{22}}{2} + \\frac{\\omega_{23}^{2} a^{\\dagger}_{0} a_{0} q^{2}_{23}}{2} + \\frac{\\omega_{23}^{2} a_{0} a^{\\dagger}_{0} q^{2}_{23}}{2} + \\frac{\\omega_{24}^{2} a^{\\dagger}_{0} a_{0} q^{2}_{24}}{2} + \\frac{\\omega_{24}^{2} a_{0} a^{\\dagger}_{0} q^{2}_{24}}{2} + \\frac{\\omega_{25}^{2} a^{\\dagger}_{0} a_{0} q^{2}_{25}}{2} + \\frac{\\omega_{25}^{2} a_{0} a^{\\dagger}_{0} q^{2}_{25}}{2} + \\frac{\\omega_{3}^{2} a^{\\dagger}_{0} a_{0} q^{2}_{3}}{2} + \\frac{\\omega_{3}^{2} a_{0} a^{\\dagger}_{0} q^{2}_{3}}{2} + \\frac{\\omega_{4}^{2} a^{\\dagger}_{0} a_{0} q^{2}_{4}}{2} + \\frac{\\omega_{4}^{2} a_{0} a^{\\dagger}_{0} q^{2}_{4}}{2} + \\frac{\\omega_{5}^{2} a^{\\dagger}_{0} a_{0} q^{2}_{5}}{2} + \\frac{\\omega_{5}^{2} a_{0} a^{\\dagger}_{0} q^{2}_{5}}{2} + \\frac{\\omega_{6}^{2} a^{\\dagger}_{0} a_{0} q^{2}_{6}}{2} + \\frac{\\omega_{6}^{2} a_{0} a^{\\dagger}_{0} q^{2}_{6}}{2} + \\frac{\\omega_{7}^{2} a^{\\dagger}_{0} a_{0} q^{2}_{7}}{2} + \\frac{\\omega_{7}^{2} a_{0} a^{\\dagger}_{0} q^{2}_{7}}{2} + \\frac{\\omega_{8}^{2} a^{\\dagger}_{0} a_{0} q^{2}_{8}}{2} + \\frac{\\omega_{8}^{2} a_{0} a^{\\dagger}_{0} q^{2}_{8}}{2} + \\frac{\\omega_{9}^{2} a^{\\dagger}_{0} a_{0} q^{2}_{9}}{2} + \\frac{\\omega_{9}^{2} a_{0} a^{\\dagger}_{0} q^{2}_{9}}{2} + a^{\\dagger}_{0} a_{0} M^{(1)}_1 + a_{0} a^{\\dagger}_{0} M^{(0)}_1$"
      ],
      "text/plain": [
       "E*a^\\dagger_0*a_0/2 - E*a_0*a^\\dagger_0/2 + W_0*a_0*a^\\dagger_0*(1-\\cos \\theta_{2})/2 - W_1*a^\\dagger_0*a_0*(1-\\cos \\theta_{2})/2 + c_10*a^\\dagger_0*a_0*q_10 + c_11*a^\\dagger_0*a_0*q_11 + c_12*a^\\dagger_0*a_0*q_12 + c_13*a^\\dagger_0*a_0*q_13 + c_14*a^\\dagger_0*a_0*q_14 + c_15*a^\\dagger_0*a_0*q_15 + c_16*a^\\dagger_0*a_0*q_16 + c_17*a^\\dagger_0*a_0*q_17 + c_18*a^\\dagger_0*a_0*q_18 + c_19*a^\\dagger_0*a_0*q_19 + c_20*a^\\dagger_0*a_0*q_20 + c_21*a^\\dagger_0*a_0*q_21 + c_22*a^\\dagger_0*a_0*q_22 + c_23*a^\\dagger_0*a_0*q_23 + c_24*a^\\dagger_0*a_0*q_24 + c_25*a^\\dagger_0*a_0*q_25 + c_3*a^\\dagger_0*a_0*q_3 + c_4*a^\\dagger_0*a_0*q_4 + c_5*a^\\dagger_0*a_0*q_5 + c_6*a^\\dagger_0*a_0*q_6 + c_7*a^\\dagger_0*a_0*q_7 + c_8*a^\\dagger_0*a_0*q_8 + c_9*a^\\dagger_0*a_0*q_9 + lambda*a^\\dagger_0*q_1 + lambda*a_0*q_1 + omega_10**2*a^\\dagger_0*a_0*q^2_10/2 + omega_10**2*a_0*a^\\dagger_0*q^2_10/2 + omega_11**2*a^\\dagger_0*a_0*q^2_11/2 + omega_11**2*a_0*a^\\dagger_0*q^2_11/2 + omega_12**2*a^\\dagger_0*a_0*q^2_12/2 + omega_12**2*a_0*a^\\dagger_0*q^2_12/2 + omega_13**2*a^\\dagger_0*a_0*q^2_13/2 + omega_13**2*a_0*a^\\dagger_0*q^2_13/2 + omega_14**2*a^\\dagger_0*a_0*q^2_14/2 + omega_14**2*a_0*a^\\dagger_0*q^2_14/2 + omega_15**2*a^\\dagger_0*a_0*q^2_15/2 + omega_15**2*a_0*a^\\dagger_0*q^2_15/2 + omega_16**2*a^\\dagger_0*a_0*q^2_16/2 + omega_16**2*a_0*a^\\dagger_0*q^2_16/2 + omega_17**2*a^\\dagger_0*a_0*q^2_17/2 + omega_17**2*a_0*a^\\dagger_0*q^2_17/2 + omega_18**2*a^\\dagger_0*a_0*q^2_18/2 + omega_18**2*a_0*a^\\dagger_0*q^2_18/2 + omega_19**2*a^\\dagger_0*a_0*q^2_19/2 + omega_19**2*a_0*a^\\dagger_0*q^2_19/2 + omega_20**2*a^\\dagger_0*a_0*q^2_20/2 + omega_20**2*a_0*a^\\dagger_0*q^2_20/2 + omega_21**2*a^\\dagger_0*a_0*q^2_21/2 + omega_21**2*a_0*a^\\dagger_0*q^2_21/2 + omega_22**2*a^\\dagger_0*a_0*q^2_22/2 + omega_22**2*a_0*a^\\dagger_0*q^2_22/2 + omega_23**2*a^\\dagger_0*a_0*q^2_23/2 + omega_23**2*a_0*a^\\dagger_0*q^2_23/2 + omega_24**2*a^\\dagger_0*a_0*q^2_24/2 + omega_24**2*a_0*a^\\dagger_0*q^2_24/2 + omega_25**2*a^\\dagger_0*a_0*q^2_25/2 + omega_25**2*a_0*a^\\dagger_0*q^2_25/2 + omega_3**2*a^\\dagger_0*a_0*q^2_3/2 + omega_3**2*a_0*a^\\dagger_0*q^2_3/2 + omega_4**2*a^\\dagger_0*a_0*q^2_4/2 + omega_4**2*a_0*a^\\dagger_0*q^2_4/2 + omega_5**2*a^\\dagger_0*a_0*q^2_5/2 + omega_5**2*a_0*a^\\dagger_0*q^2_5/2 + omega_6**2*a^\\dagger_0*a_0*q^2_6/2 + omega_6**2*a_0*a^\\dagger_0*q^2_6/2 + omega_7**2*a^\\dagger_0*a_0*q^2_7/2 + omega_7**2*a_0*a^\\dagger_0*q^2_7/2 + omega_8**2*a^\\dagger_0*a_0*q^2_8/2 + omega_8**2*a_0*a^\\dagger_0*q^2_8/2 + omega_9**2*a^\\dagger_0*a_0*q^2_9/2 + omega_9**2*a_0*a^\\dagger_0*q^2_9/2 + a^\\dagger_0*a_0*M^{(1)}_1 + a_0*a^\\dagger_0*M^{(0)}_1"
      ]
     },
     "metadata": {},
     "output_type": "display_data"
    }
   ],
   "source": [
    "am_pot = AssignManager(pot_sop)\n",
    "am_pot.assign()\n",
    "display(*am_pot.Wsym)\n",
    "W_prod = sympy.Mul(*am_pot.Wsym)\n",
    "print(*[f\"W{i}\" for i in range(am_pot.ndim)], \"=\")\n",
    "display(W_prod[0].expand())\n",
    "pot_mpo = am_pot.numerical_mpo(subs=subs)"
   ]
  },
  {
   "cell_type": "code",
   "execution_count": 10,
   "id": "b4e34543-b240-4bb5-a2e2-b3eb8fc46a17",
   "metadata": {},
   "outputs": [
    {
     "data": {
      "text/latex": [
       "$\\displaystyle \\left[\\begin{matrix}a^{\\dagger}_{0} a_{0} + a_{0} a^{\\dagger}_{0}\\end{matrix}\\right]$"
      ],
      "text/plain": [
       "Matrix([[a^\\dagger_0*a_0 + a_0*a^\\dagger_0]])"
      ]
     },
     "metadata": {},
     "output_type": "display_data"
    },
    {
     "data": {
      "text/latex": [
       "$\\displaystyle \\left[\\begin{matrix}1 & p^{2}_{1}\\end{matrix}\\right]$"
      ],
      "text/plain": [
       "Matrix([[1, p^2_1]])"
      ]
     },
     "metadata": {},
     "output_type": "display_data"
    },
    {
     "data": {
      "text/latex": [
       "$\\displaystyle \\left[\\begin{matrix}- \\frac{0.5 p^{2}_{2}}{I} & 1\\\\-0.5 & 0\\end{matrix}\\right]$"
      ],
      "text/plain": [
       "Matrix([\n",
       "[-0.5*p^2_2/I, 1],\n",
       "[        -0.5, 0]])"
      ]
     },
     "metadata": {},
     "output_type": "display_data"
    },
    {
     "data": {
      "text/latex": [
       "$\\displaystyle \\left[\\begin{matrix}1 & 0\\\\- 0.5 p^{2}_{3} & 1\\end{matrix}\\right]$"
      ],
      "text/plain": [
       "Matrix([\n",
       "[         1, 0],\n",
       "[-0.5*p^2_3, 1]])"
      ]
     },
     "metadata": {},
     "output_type": "display_data"
    },
    {
     "data": {
      "text/latex": [
       "$\\displaystyle \\left[\\begin{matrix}1 & 0\\\\- 0.5 p^{2}_{4} & 1\\end{matrix}\\right]$"
      ],
      "text/plain": [
       "Matrix([\n",
       "[         1, 0],\n",
       "[-0.5*p^2_4, 1]])"
      ]
     },
     "metadata": {},
     "output_type": "display_data"
    },
    {
     "data": {
      "text/latex": [
       "$\\displaystyle \\left[\\begin{matrix}1 & 0\\\\- 0.5 p^{2}_{5} & 1\\end{matrix}\\right]$"
      ],
      "text/plain": [
       "Matrix([\n",
       "[         1, 0],\n",
       "[-0.5*p^2_5, 1]])"
      ]
     },
     "metadata": {},
     "output_type": "display_data"
    },
    {
     "data": {
      "text/latex": [
       "$\\displaystyle \\left[\\begin{matrix}1 & 0\\\\- 0.5 p^{2}_{6} & 1\\end{matrix}\\right]$"
      ],
      "text/plain": [
       "Matrix([\n",
       "[         1, 0],\n",
       "[-0.5*p^2_6, 1]])"
      ]
     },
     "metadata": {},
     "output_type": "display_data"
    },
    {
     "data": {
      "text/latex": [
       "$\\displaystyle \\left[\\begin{matrix}1 & 0\\\\- 0.5 p^{2}_{7} & 1\\end{matrix}\\right]$"
      ],
      "text/plain": [
       "Matrix([\n",
       "[         1, 0],\n",
       "[-0.5*p^2_7, 1]])"
      ]
     },
     "metadata": {},
     "output_type": "display_data"
    },
    {
     "data": {
      "text/latex": [
       "$\\displaystyle \\left[\\begin{matrix}1 & 0\\\\- 0.5 p^{2}_{8} & 1\\end{matrix}\\right]$"
      ],
      "text/plain": [
       "Matrix([\n",
       "[         1, 0],\n",
       "[-0.5*p^2_8, 1]])"
      ]
     },
     "metadata": {},
     "output_type": "display_data"
    },
    {
     "data": {
      "text/latex": [
       "$\\displaystyle \\left[\\begin{matrix}1 & 0\\\\- 0.5 p^{2}_{9} & 1\\end{matrix}\\right]$"
      ],
      "text/plain": [
       "Matrix([\n",
       "[         1, 0],\n",
       "[-0.5*p^2_9, 1]])"
      ]
     },
     "metadata": {},
     "output_type": "display_data"
    },
    {
     "data": {
      "text/latex": [
       "$\\displaystyle \\left[\\begin{matrix}1 & 0\\\\- 0.5 p^{2}_{10} & 1\\end{matrix}\\right]$"
      ],
      "text/plain": [
       "Matrix([\n",
       "[          1, 0],\n",
       "[-0.5*p^2_10, 1]])"
      ]
     },
     "metadata": {},
     "output_type": "display_data"
    },
    {
     "data": {
      "text/latex": [
       "$\\displaystyle \\left[\\begin{matrix}1 & 0\\\\- 0.5 p^{2}_{11} & 1\\end{matrix}\\right]$"
      ],
      "text/plain": [
       "Matrix([\n",
       "[          1, 0],\n",
       "[-0.5*p^2_11, 1]])"
      ]
     },
     "metadata": {},
     "output_type": "display_data"
    },
    {
     "data": {
      "text/latex": [
       "$\\displaystyle \\left[\\begin{matrix}1 & 0\\\\- 0.5 p^{2}_{12} & 1\\end{matrix}\\right]$"
      ],
      "text/plain": [
       "Matrix([\n",
       "[          1, 0],\n",
       "[-0.5*p^2_12, 1]])"
      ]
     },
     "metadata": {},
     "output_type": "display_data"
    },
    {
     "data": {
      "text/latex": [
       "$\\displaystyle \\left[\\begin{matrix}1 & 0\\\\- 0.5 p^{2}_{13} & 1\\end{matrix}\\right]$"
      ],
      "text/plain": [
       "Matrix([\n",
       "[          1, 0],\n",
       "[-0.5*p^2_13, 1]])"
      ]
     },
     "metadata": {},
     "output_type": "display_data"
    },
    {
     "data": {
      "text/latex": [
       "$\\displaystyle \\left[\\begin{matrix}1 & 0\\\\- 0.5 p^{2}_{14} & 1\\end{matrix}\\right]$"
      ],
      "text/plain": [
       "Matrix([\n",
       "[          1, 0],\n",
       "[-0.5*p^2_14, 1]])"
      ]
     },
     "metadata": {},
     "output_type": "display_data"
    },
    {
     "data": {
      "text/latex": [
       "$\\displaystyle \\left[\\begin{matrix}1 & 0\\\\- 0.5 p^{2}_{15} & 1\\end{matrix}\\right]$"
      ],
      "text/plain": [
       "Matrix([\n",
       "[          1, 0],\n",
       "[-0.5*p^2_15, 1]])"
      ]
     },
     "metadata": {},
     "output_type": "display_data"
    },
    {
     "data": {
      "text/latex": [
       "$\\displaystyle \\left[\\begin{matrix}1 & 0\\\\- 0.5 p^{2}_{16} & 1\\end{matrix}\\right]$"
      ],
      "text/plain": [
       "Matrix([\n",
       "[          1, 0],\n",
       "[-0.5*p^2_16, 1]])"
      ]
     },
     "metadata": {},
     "output_type": "display_data"
    },
    {
     "data": {
      "text/latex": [
       "$\\displaystyle \\left[\\begin{matrix}1 & 0\\\\- 0.5 p^{2}_{17} & 1\\end{matrix}\\right]$"
      ],
      "text/plain": [
       "Matrix([\n",
       "[          1, 0],\n",
       "[-0.5*p^2_17, 1]])"
      ]
     },
     "metadata": {},
     "output_type": "display_data"
    },
    {
     "data": {
      "text/latex": [
       "$\\displaystyle \\left[\\begin{matrix}1 & 0\\\\- 0.5 p^{2}_{18} & 1\\end{matrix}\\right]$"
      ],
      "text/plain": [
       "Matrix([\n",
       "[          1, 0],\n",
       "[-0.5*p^2_18, 1]])"
      ]
     },
     "metadata": {},
     "output_type": "display_data"
    },
    {
     "data": {
      "text/latex": [
       "$\\displaystyle \\left[\\begin{matrix}1 & 0\\\\- 0.5 p^{2}_{19} & 1\\end{matrix}\\right]$"
      ],
      "text/plain": [
       "Matrix([\n",
       "[          1, 0],\n",
       "[-0.5*p^2_19, 1]])"
      ]
     },
     "metadata": {},
     "output_type": "display_data"
    },
    {
     "data": {
      "text/latex": [
       "$\\displaystyle \\left[\\begin{matrix}1 & 0\\\\- 0.5 p^{2}_{20} & 1\\end{matrix}\\right]$"
      ],
      "text/plain": [
       "Matrix([\n",
       "[          1, 0],\n",
       "[-0.5*p^2_20, 1]])"
      ]
     },
     "metadata": {},
     "output_type": "display_data"
    },
    {
     "data": {
      "text/latex": [
       "$\\displaystyle \\left[\\begin{matrix}1 & 0\\\\- 0.5 p^{2}_{21} & 1\\end{matrix}\\right]$"
      ],
      "text/plain": [
       "Matrix([\n",
       "[          1, 0],\n",
       "[-0.5*p^2_21, 1]])"
      ]
     },
     "metadata": {},
     "output_type": "display_data"
    },
    {
     "data": {
      "text/latex": [
       "$\\displaystyle \\left[\\begin{matrix}1 & 0\\\\- 0.5 p^{2}_{22} & 1\\end{matrix}\\right]$"
      ],
      "text/plain": [
       "Matrix([\n",
       "[          1, 0],\n",
       "[-0.5*p^2_22, 1]])"
      ]
     },
     "metadata": {},
     "output_type": "display_data"
    },
    {
     "data": {
      "text/latex": [
       "$\\displaystyle \\left[\\begin{matrix}1 & 0\\\\- 0.5 p^{2}_{23} & 1\\end{matrix}\\right]$"
      ],
      "text/plain": [
       "Matrix([\n",
       "[          1, 0],\n",
       "[-0.5*p^2_23, 1]])"
      ]
     },
     "metadata": {},
     "output_type": "display_data"
    },
    {
     "data": {
      "text/latex": [
       "$\\displaystyle \\left[\\begin{matrix}1 & 0\\\\- 0.5 p^{2}_{24} & 1\\end{matrix}\\right]$"
      ],
      "text/plain": [
       "Matrix([\n",
       "[          1, 0],\n",
       "[-0.5*p^2_24, 1]])"
      ]
     },
     "metadata": {},
     "output_type": "display_data"
    },
    {
     "data": {
      "text/latex": [
       "$\\displaystyle \\left[\\begin{matrix}1\\\\- 0.5 p^{2}_{25}\\end{matrix}\\right]$"
      ],
      "text/plain": [
       "Matrix([\n",
       "[          1],\n",
       "[-0.5*p^2_25]])"
      ]
     },
     "metadata": {},
     "output_type": "display_data"
    },
    {
     "name": "stdout",
     "output_type": "stream",
     "text": [
      "W0 W1 W2 W3 W4 W5 W6 W7 W8 W9 W10 W11 W12 W13 W14 W15 W16 W17 W18 W19 W20 W21 W22 W23 W24 W25 =\n"
     ]
    },
    {
     "data": {
      "text/latex": [
       "$\\displaystyle - 0.5 a^{\\dagger}_{0} a_{0} p^{2}_{1} - 0.5 a^{\\dagger}_{0} a_{0} p^{2}_{10} - 0.5 a^{\\dagger}_{0} a_{0} p^{2}_{11} - 0.5 a^{\\dagger}_{0} a_{0} p^{2}_{12} - 0.5 a^{\\dagger}_{0} a_{0} p^{2}_{13} - 0.5 a^{\\dagger}_{0} a_{0} p^{2}_{14} - 0.5 a^{\\dagger}_{0} a_{0} p^{2}_{15} - 0.5 a^{\\dagger}_{0} a_{0} p^{2}_{16} - 0.5 a^{\\dagger}_{0} a_{0} p^{2}_{17} - 0.5 a^{\\dagger}_{0} a_{0} p^{2}_{18} - 0.5 a^{\\dagger}_{0} a_{0} p^{2}_{19} - 0.5 a^{\\dagger}_{0} a_{0} p^{2}_{20} - 0.5 a^{\\dagger}_{0} a_{0} p^{2}_{21} - 0.5 a^{\\dagger}_{0} a_{0} p^{2}_{22} - 0.5 a^{\\dagger}_{0} a_{0} p^{2}_{23} - 0.5 a^{\\dagger}_{0} a_{0} p^{2}_{24} - 0.5 a^{\\dagger}_{0} a_{0} p^{2}_{25} - 0.5 a^{\\dagger}_{0} a_{0} p^{2}_{3} - 0.5 a^{\\dagger}_{0} a_{0} p^{2}_{4} - 0.5 a^{\\dagger}_{0} a_{0} p^{2}_{5} - 0.5 a^{\\dagger}_{0} a_{0} p^{2}_{6} - 0.5 a^{\\dagger}_{0} a_{0} p^{2}_{7} - 0.5 a^{\\dagger}_{0} a_{0} p^{2}_{8} - 0.5 a^{\\dagger}_{0} a_{0} p^{2}_{9} - 0.5 a_{0} a^{\\dagger}_{0} p^{2}_{1} - 0.5 a_{0} a^{\\dagger}_{0} p^{2}_{10} - 0.5 a_{0} a^{\\dagger}_{0} p^{2}_{11} - 0.5 a_{0} a^{\\dagger}_{0} p^{2}_{12} - 0.5 a_{0} a^{\\dagger}_{0} p^{2}_{13} - 0.5 a_{0} a^{\\dagger}_{0} p^{2}_{14} - 0.5 a_{0} a^{\\dagger}_{0} p^{2}_{15} - 0.5 a_{0} a^{\\dagger}_{0} p^{2}_{16} - 0.5 a_{0} a^{\\dagger}_{0} p^{2}_{17} - 0.5 a_{0} a^{\\dagger}_{0} p^{2}_{18} - 0.5 a_{0} a^{\\dagger}_{0} p^{2}_{19} - 0.5 a_{0} a^{\\dagger}_{0} p^{2}_{20} - 0.5 a_{0} a^{\\dagger}_{0} p^{2}_{21} - 0.5 a_{0} a^{\\dagger}_{0} p^{2}_{22} - 0.5 a_{0} a^{\\dagger}_{0} p^{2}_{23} - 0.5 a_{0} a^{\\dagger}_{0} p^{2}_{24} - 0.5 a_{0} a^{\\dagger}_{0} p^{2}_{25} - 0.5 a_{0} a^{\\dagger}_{0} p^{2}_{3} - 0.5 a_{0} a^{\\dagger}_{0} p^{2}_{4} - 0.5 a_{0} a^{\\dagger}_{0} p^{2}_{5} - 0.5 a_{0} a^{\\dagger}_{0} p^{2}_{6} - 0.5 a_{0} a^{\\dagger}_{0} p^{2}_{7} - 0.5 a_{0} a^{\\dagger}_{0} p^{2}_{8} - 0.5 a_{0} a^{\\dagger}_{0} p^{2}_{9} - \\frac{0.5 a^{\\dagger}_{0} a_{0} p^{2}_{2}}{I} - \\frac{0.5 a_{0} a^{\\dagger}_{0} p^{2}_{2}}{I}$"
      ],
      "text/plain": [
       "-0.5*a^\\dagger_0*a_0*p^2_1 - 0.5*a^\\dagger_0*a_0*p^2_10 - 0.5*a^\\dagger_0*a_0*p^2_11 - 0.5*a^\\dagger_0*a_0*p^2_12 - 0.5*a^\\dagger_0*a_0*p^2_13 - 0.5*a^\\dagger_0*a_0*p^2_14 - 0.5*a^\\dagger_0*a_0*p^2_15 - 0.5*a^\\dagger_0*a_0*p^2_16 - 0.5*a^\\dagger_0*a_0*p^2_17 - 0.5*a^\\dagger_0*a_0*p^2_18 - 0.5*a^\\dagger_0*a_0*p^2_19 - 0.5*a^\\dagger_0*a_0*p^2_20 - 0.5*a^\\dagger_0*a_0*p^2_21 - 0.5*a^\\dagger_0*a_0*p^2_22 - 0.5*a^\\dagger_0*a_0*p^2_23 - 0.5*a^\\dagger_0*a_0*p^2_24 - 0.5*a^\\dagger_0*a_0*p^2_25 - 0.5*a^\\dagger_0*a_0*p^2_3 - 0.5*a^\\dagger_0*a_0*p^2_4 - 0.5*a^\\dagger_0*a_0*p^2_5 - 0.5*a^\\dagger_0*a_0*p^2_6 - 0.5*a^\\dagger_0*a_0*p^2_7 - 0.5*a^\\dagger_0*a_0*p^2_8 - 0.5*a^\\dagger_0*a_0*p^2_9 - 0.5*a_0*a^\\dagger_0*p^2_1 - 0.5*a_0*a^\\dagger_0*p^2_10 - 0.5*a_0*a^\\dagger_0*p^2_11 - 0.5*a_0*a^\\dagger_0*p^2_12 - 0.5*a_0*a^\\dagger_0*p^2_13 - 0.5*a_0*a^\\dagger_0*p^2_14 - 0.5*a_0*a^\\dagger_0*p^2_15 - 0.5*a_0*a^\\dagger_0*p^2_16 - 0.5*a_0*a^\\dagger_0*p^2_17 - 0.5*a_0*a^\\dagger_0*p^2_18 - 0.5*a_0*a^\\dagger_0*p^2_19 - 0.5*a_0*a^\\dagger_0*p^2_20 - 0.5*a_0*a^\\dagger_0*p^2_21 - 0.5*a_0*a^\\dagger_0*p^2_22 - 0.5*a_0*a^\\dagger_0*p^2_23 - 0.5*a_0*a^\\dagger_0*p^2_24 - 0.5*a_0*a^\\dagger_0*p^2_25 - 0.5*a_0*a^\\dagger_0*p^2_3 - 0.5*a_0*a^\\dagger_0*p^2_4 - 0.5*a_0*a^\\dagger_0*p^2_5 - 0.5*a_0*a^\\dagger_0*p^2_6 - 0.5*a_0*a^\\dagger_0*p^2_7 - 0.5*a_0*a^\\dagger_0*p^2_8 - 0.5*a_0*a^\\dagger_0*p^2_9 - 0.5*a^\\dagger_0*a_0*p^2_2/I - 0.5*a_0*a^\\dagger_0*p^2_2/I"
      ]
     },
     "metadata": {},
     "output_type": "display_data"
    }
   ],
   "source": [
    "am_kin = AssignManager(kin_sop)\n",
    "am_kin.assign()\n",
    "display(*am_kin.Wsym)\n",
    "W_prod = sympy.Mul(*am_kin.Wsym)\n",
    "print(*[f\"W{i}\" for i in range(am_kin.ndim)], \"=\")\n",
    "display(W_prod[0].expand())\n",
    "kin_mpo = am_kin.numerical_mpo(subs=subs)"
   ]
  },
  {
   "cell_type": "markdown",
   "id": "a0188b6f-83d8-4e9a-95e0-fd1051cdb7fe",
   "metadata": {},
   "source": [
    "### Setup Hamiltonian"
   ]
  },
  {
   "cell_type": "code",
   "execution_count": 11,
   "id": "d5cbd775-062e-46de-90cc-7330093651d0",
   "metadata": {
    "scrolled": true
   },
   "outputs": [],
   "source": [
    "# MPO has legs on (0,1,2, ... ,f-1) sites. This legs are given by tuple key\n",
    "potential = [\n",
    "    [\n",
    "        {\n",
    "            (((0, 0),) + tuple(i for i in range(1, ndim))): TensorOperator(\n",
    "                mpo=pot_mpo\n",
    "            )\n",
    "        }\n",
    "    ]\n",
    "]  # key is ((0,0), 1, 2, ..., ndim-1)\n",
    "kinetic = [\n",
    "    [{tuple((i, i) for i in range(ndim)): TensorOperator(mpo=kin_mpo)}]\n",
    "]  # key is ((0, 0), (1, 1), ..., (ndim-1, ndim-1))\n",
    "\n",
    "H = TensorHamiltonian(\n",
    "    ndof=len(basis), potential=potential, kinetic=kinetic, backend=backend\n",
    ")\n",
    "\n",
    "operators = {\"hamiltonian\": H}"
   ]
  },
  {
   "cell_type": "markdown",
   "id": "ffab9fb2-ff36-44e7-ac32-9ce84666e201",
   "metadata": {},
   "source": [
    "### Setup Model (basis, operators, initial states)"
   ]
  },
  {
   "cell_type": "code",
   "execution_count": 12,
   "id": "37b0367c-6a22-472c-b0f0-db76f01c60d0",
   "metadata": {},
   "outputs": [],
   "source": [
    "model = Model(basinfo=basinfo, operators=operators)\n",
    "model.m_aux_max = 20"
   ]
  },
  {
   "cell_type": "code",
   "execution_count": 13,
   "id": "8d647a01-87af-4727-86f4-fde496061528",
   "metadata": {},
   "outputs": [],
   "source": [
    "def get_initial_state(ω, x):\n",
    "    weight = np.exp(-ω / 2 * (np.array(x)) ** 2)\n",
    "    weight /= np.linalg.norm(weight)\n",
    "    return weight.tolist()\n",
    "\n",
    "\n",
    "ω_list = [Ω, 2 / (0.15228**2)]\n",
    "if use_bath:\n",
    "    ω_list += bath_ω.tolist()\n",
    "# I wonder where 0.15228 comes from???\n",
    "# but https://pubs.acs.org/doi/epdf/10.1021/acs.jctc.2c00209 adopts this value\n",
    "# as an initial Gaussian width of the torsional mode\n",
    "\n",
    "init_vib = [\n",
    "    get_initial_state(ω, bas.get_grids())\n",
    "    for ω, bas in zip(ω_list, basis[1:], strict=True)\n",
    "]\n",
    "model.init_HartreeProduct = [[[0.0, 1.0], *init_vib]]"
   ]
  },
  {
   "cell_type": "markdown",
   "id": "09bfdf21-2df6-42ac-9f16-d103cd4971ad",
   "metadata": {},
   "source": [
    "### Execution"
   ]
  },
  {
   "cell_type": "code",
   "execution_count": 14,
   "id": "822a0737-74e8-475a-9077-ecd3687578ba",
   "metadata": {
    "scrolled": true
   },
   "outputs": [
    {
     "name": "stderr",
     "output_type": "stream",
     "text": [
      "00:35:04 | INFO | Log file is ./isomerization_exciton_bath_prop/main.log\n",
      "00:35:04 | INFO | Wave function is saved in wf_isomerization_exciton_bath.pkl\n",
      "00:35:04 | INFO | Start initial step    0.000 [fs]\n"
     ]
    },
    {
     "data": {
      "application/vnd.jupyter.widget-view+json": {
       "model_id": "ccd4f58a2fab4b4f9ae4f1358aeea7f9",
       "version_major": 2,
       "version_minor": 0
      },
      "text/plain": [
       "  0%|          | 0/4000 [00:00<?, ?it/s]"
      ]
     },
     "metadata": {},
     "output_type": "display_data"
    },
    {
     "name": "stderr",
     "output_type": "stream",
     "text": [
      "00:35:09 | INFO | End     0 step; propagated    0.050 [fs]; AVG Krylov iteration: 6.46\n",
      "00:36:49 | INFO | End   100 step; propagated    5.050 [fs]; AVG Krylov iteration: 6.00\n",
      "00:38:28 | INFO | End   200 step; propagated   10.050 [fs]; AVG Krylov iteration: 5.88\n",
      "00:40:05 | INFO | End   300 step; propagated   15.050 [fs]; AVG Krylov iteration: 5.85\n",
      "00:41:40 | INFO | End   400 step; propagated   20.050 [fs]; AVG Krylov iteration: 5.85\n",
      "00:43:16 | INFO | End   500 step; propagated   25.050 [fs]; AVG Krylov iteration: 5.85\n",
      "00:44:51 | INFO | End   600 step; propagated   30.050 [fs]; AVG Krylov iteration: 5.85\n",
      "00:46:28 | INFO | End   700 step; propagated   35.050 [fs]; AVG Krylov iteration: 5.85\n",
      "00:48:06 | INFO | End   800 step; propagated   40.050 [fs]; AVG Krylov iteration: 5.85\n",
      "00:49:48 | INFO | End   900 step; propagated   45.050 [fs]; AVG Krylov iteration: 5.85\n",
      "00:51:26 | INFO | Saved wavefunction   49.950 [fs]\n",
      "00:51:29 | INFO | End  1000 step; propagated   50.050 [fs]; AVG Krylov iteration: 5.85\n",
      "00:53:10 | INFO | End  1100 step; propagated   55.050 [fs]; AVG Krylov iteration: 5.85\n",
      "00:54:51 | INFO | End  1200 step; propagated   60.050 [fs]; AVG Krylov iteration: 5.85\n",
      "00:56:34 | INFO | End  1300 step; propagated   65.050 [fs]; AVG Krylov iteration: 5.85\n",
      "00:58:17 | INFO | End  1400 step; propagated   70.050 [fs]; AVG Krylov iteration: 5.85\n",
      "00:59:58 | INFO | End  1500 step; propagated   75.050 [fs]; AVG Krylov iteration: 5.85\n",
      "01:01:35 | INFO | End  1600 step; propagated   80.050 [fs]; AVG Krylov iteration: 5.85\n",
      "01:03:10 | INFO | End  1700 step; propagated   85.050 [fs]; AVG Krylov iteration: 5.85\n",
      "01:04:46 | INFO | End  1800 step; propagated   90.050 [fs]; AVG Krylov iteration: 5.85\n",
      "01:06:21 | INFO | End  1900 step; propagated   95.050 [fs]; AVG Krylov iteration: 5.85\n",
      "01:07:55 | INFO | Saved wavefunction   99.950 [fs]\n",
      "01:07:57 | INFO | End  2000 step; propagated  100.050 [fs]; AVG Krylov iteration: 5.85\n",
      "01:09:33 | INFO | End  2100 step; propagated  105.050 [fs]; AVG Krylov iteration: 5.85\n",
      "01:11:10 | INFO | End  2200 step; propagated  110.050 [fs]; AVG Krylov iteration: 5.77\n",
      "01:12:49 | INFO | End  2300 step; propagated  115.050 [fs]; AVG Krylov iteration: 5.69\n",
      "01:14:28 | INFO | End  2400 step; propagated  120.050 [fs]; AVG Krylov iteration: 5.27\n",
      "01:16:05 | INFO | End  2500 step; propagated  125.050 [fs]; AVG Krylov iteration: 5.19\n",
      "01:17:41 | INFO | End  2600 step; propagated  130.050 [fs]; AVG Krylov iteration: 5.23\n",
      "01:19:18 | INFO | End  2700 step; propagated  135.050 [fs]; AVG Krylov iteration: 5.19\n",
      "01:20:55 | INFO | End  2800 step; propagated  140.050 [fs]; AVG Krylov iteration: 5.12\n",
      "01:22:31 | INFO | End  2900 step; propagated  145.050 [fs]; AVG Krylov iteration: 5.12\n",
      "01:24:06 | INFO | Saved wavefunction  149.950 [fs]\n",
      "01:24:08 | INFO | End  3000 step; propagated  150.050 [fs]; AVG Krylov iteration: 5.08\n",
      "01:25:45 | INFO | End  3100 step; propagated  155.050 [fs]; AVG Krylov iteration: 5.08\n",
      "01:27:21 | INFO | End  3200 step; propagated  160.050 [fs]; AVG Krylov iteration: 5.08\n",
      "01:28:58 | INFO | End  3300 step; propagated  165.050 [fs]; AVG Krylov iteration: 5.08\n",
      "01:30:35 | INFO | End  3400 step; propagated  170.050 [fs]; AVG Krylov iteration: 5.08\n",
      "01:32:10 | INFO | End  3500 step; propagated  175.050 [fs]; AVG Krylov iteration: 5.08\n",
      "01:33:48 | INFO | End  3600 step; propagated  180.050 [fs]; AVG Krylov iteration: 5.08\n",
      "01:35:25 | INFO | End  3700 step; propagated  185.050 [fs]; AVG Krylov iteration: 5.08\n",
      "01:37:00 | INFO | End  3800 step; propagated  190.050 [fs]; AVG Krylov iteration: 5.08\n",
      "01:38:34 | INFO | End  3900 step; propagated  195.050 [fs]; AVG Krylov iteration: 5.08\n",
      "01:40:09 | INFO | Saved wavefunction  199.950 [fs]\n",
      "01:40:10 | INFO | End  3999 step; propagated  199.950 [fs]; AVG Krylov iteration: 5.08\n",
      "01:40:10 | INFO | End simulation and save wavefunction\n",
      "01:40:10 | INFO | Wave function is saved in wf_isomerization_exciton_bath.pkl\n"
     ]
    },
    {
     "data": {
      "text/plain": [
       "(None, <pytdscf.wavefunction.WFunc at 0x12fab1160>)"
      ]
     },
     "execution_count": 14,
     "metadata": {},
     "output_type": "execute_result"
    }
   ],
   "source": [
    "jobname = \"isomerization_exciton\"\n",
    "if use_bath:\n",
    "    jobname += \"_bath\"\n",
    "simulator = Simulator(jobname=jobname, model=model, backend=backend, verbose=2)\n",
    "simulator.propagate(\n",
    "    maxstep=4000,\n",
    "    stepsize=0.05,\n",
    "    reduced_density=(\n",
    "        [(0, 1, 2), (0,)],\n",
    "        40,\n",
    "    ),  # we want to know diagonal_element of (|0><0| |1><1| |2><2|) and (|0><0|)\n",
    "    energy=False,\n",
    "    autocorr=False,\n",
    ")\n",
    "# calculate (0,1) reduced density every 20 steps"
   ]
  },
  {
   "cell_type": "markdown",
   "id": "2fba40cc-12b1-487f-90f0-0898a9fcfeec",
   "metadata": {},
   "source": [
    "### Check results (reduced densities)"
   ]
  },
  {
   "cell_type": "code",
   "execution_count": 15,
   "id": "43180861-3b7e-4f67-b949-7534ef205f73",
   "metadata": {},
   "outputs": [],
   "source": [
    "from pytdscf.util import read_nc\n",
    "data = read_nc(f\"{jobname}_prop/reduced_density.nc\", [(0,), (0,1,2)])\n",
    "time_data = data[\"time\"]\n",
    "density_data_0 = data[(0,)].real\n",
    "density_data_012 = data[(0,1,2)].real"
   ]
  },
  {
   "cell_type": "code",
   "execution_count": 16,
   "id": "ab203436-0a47-4e4b-9f70-af4d228fe0e7",
   "metadata": {},
   "outputs": [
    {
     "data": {
      "image/png": "[encoded data removed]",
      "text/plain": [
       "<Figure size 640x480 with 1 Axes>"
      ]
     },
     "metadata": {},
     "output_type": "display_data"
    }
   ],
   "source": [
    "plt.plot(time_data, density_data_0[:, 0], label=\"S0\")\n",
    "plt.plot(time_data, density_data_0[:, 1], label=\"S1\")\n",
    "plt.legend()\n",
    "plt.show()"
   ]
  },
  {
   "cell_type": "code",
   "execution_count": 17,
   "id": "ae27c716-e8d6-42c1-8215-60466a66998e",
   "metadata": {},
   "outputs": [
    {
     "data": {
      "image/png": "[encoded data removed]",
      "text/plain": [
       "<Figure size 1600x600 with 2 Axes>"
      ]
     },
     "metadata": {},
     "output_type": "display_data"
    }
   ],
   "source": [
    "from matplotlib.animation import FuncAnimation\n",
    "\n",
    "fig, (ax0, ax1) = plt.subplots(1, 2, figsize=(16, 6))\n",
    "\n",
    "Q, θ = np.meshgrid(basis[1].get_grids(), basis[2].get_grids())\n",
    "\n",
    "\n",
    "def update(i):\n",
    "    ax0.cla()\n",
    "    ax1.cla()\n",
    "    im0 = ax0.contour(\n",
    "        Q,\n",
    "        θ,\n",
    "        density_data_012[i, 0, :, :].T,\n",
    "        levels=[1.0e-05, 1.0e-04, 1.0e-03],\n",
    "        colors=[\"lightblue\", \"deepskyblue\", \"navy\"],\n",
    "    )\n",
    "    # cmap='jet', vmin=0, vmax=0.05, )\n",
    "    im1 = ax1.contour(\n",
    "        Q,\n",
    "        θ,\n",
    "        density_data_012[i, 1, :, :].T,\n",
    "        levels=[1.0e-05, 1.0e-04, 1.0e-03],\n",
    "        colors=[\"lightblue\", \"deepskyblue\", \"navy\"],\n",
    "    )\n",
    "    # fix coordinate of title\n",
    "    fig.suptitle(f\"time = {time_data[i]:4.2f} [fs]\")\n",
    "    ax0.set_title(\n",
    "        f\"S0 \\n population = {np.sum(density_data_012[i, 0, :, :]):0.2f}\"\n",
    "    )\n",
    "    ax1.set_title(\n",
    "        f\"S1 \\n population = {np.sum(density_data_012[i, 1, :, :]):0.2f}\"\n",
    "    )\n",
    "    ax0.set_xlabel(\"mass-weighted $Q_0$ [a.u.]\")\n",
    "    ax1.set_xlabel(\"mass-weighted $Q_0$ [a.u.]\")\n",
    "    ax0.set_ylabel(r\"$\\theta_1$ [rad]\")\n",
    "    ax1.set_ylabel(r\"$\\theta_1$ [rad]\")\n",
    "    ax0.set_yticks(\n",
    "        [-np.pi, -np.pi / 2.0, 0.0, np.pi / 2.0, np.pi],\n",
    "        [\n",
    "            \"$-\\\\pi$ \\n trans\",\n",
    "            r\"$-\\frac{\\pi}{2}$\",\n",
    "            \"0 \\n cis\",\n",
    "            r\"$\\frac{\\pi}{2}$\",\n",
    "            \"$\\\\pi$ \\n trans\",\n",
    "        ],\n",
    "    )\n",
    "    ax1.set_yticks(\n",
    "        [-np.pi, -np.pi / 2.0, 0.0, np.pi / 2.0, np.pi],\n",
    "        [\n",
    "            \"$-\\\\pi$ \\n trans\",\n",
    "            r\"$-\\frac{\\pi}{2}$\",\n",
    "            \"0 \\n cis\",\n",
    "            r\"$\\frac{\\pi}{2}$\",\n",
    "            \"$\\\\pi$ \\n trans\",\n",
    "        ],\n",
    "    )\n",
    "    return im0, im1\n",
    "\n",
    "\n",
    "anim = FuncAnimation(fig, update, frames=range(0, len(time_data)), interval=100)\n",
    "if use_bath:\n",
    "    gif_name = \"reduced_density_exciton_bath.gif\"\n",
    "else:\n",
    "    gif_name = \"reduced_density_exciton_zerotemp.gif\"\n",
    "anim.save(gif_name, writer=\"pillow\")"
   ]
  },
  {
   "cell_type": "code",
   "execution_count": null,
   "id": "3ff8a4e4-b37c-4be5-b129-422266f57d50",
   "metadata": {},
   "outputs": [],
   "source": []
  }
 ],
 "metadata": {
  "kernelspec": {
   "display_name": "Python 3 (ipykernel)",
   "language": "python",
   "name": "python3"
  },
  "language_info": {
   "codemirror_mode": {
    "name": "ipython",
    "version": 3
   },
   "file_extension": ".py",
   "mimetype": "text/x-python",
   "name": "python",
   "nbconvert_exporter": "python",
   "pygments_lexer": "ipython3",
   "version": "3.13.2"
  }
 },
 "nbformat": 4,
 "nbformat_minor": 5
}
