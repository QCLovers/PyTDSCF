{
 "cells": [
  {
   "cell_type": "markdown",
   "id": "bcbc9641-d5d1-4f1c-a168-804cff801d8e",
   "metadata": {},
   "source": [
    "# Example 3: Propagation of H2O vibration under polynomial PES"
   ]
  },
  {
   "cell_type": "markdown",
   "id": "184a7017-3c62-4308-b7f7-d32f281e7159",
   "metadata": {},
   "source": [
    "| run type      | wavefunction | backend | Basis  | steps |\n",
    "| ---           | ---          | ---     | ---    | ---   |\n",
    "| propagation | MPS-SM | Numpy   | HO-FBR | 5000    |"
   ]
  },
  {
   "cell_type": "markdown",
   "id": "d484ceaa-861c-4347-8cf0-52c3d5e6201b",
   "metadata": {},
   "source": [
    "## 1. Import modules"
   ]
  },
  {
   "cell_type": "markdown",
   "id": "0b50fd02-cf7c-42b5-a02d-ca3450ebf70e",
   "metadata": {},
   "source": [
    "- Required in **any** calculations"
   ]
  },
  {
   "cell_type": "code",
   "execution_count": 1,
   "id": "6460756f-ff3a-4c0f-a761-013f629aa161",
   "metadata": {
    "ExecuteTime": {
     "end_time": "2023-06-26T07:03:37.220562Z",
     "start_time": "2023-06-26T07:03:34.730375Z"
    }
   },
   "outputs": [],
   "source": [
    "from pytdscf import BasInfo, Model, Simulator"
   ]
  },
  {
   "cell_type": "markdown",
   "id": "eb10b01d-3471-4800-952a-ffc6857fe942",
   "metadata": {},
   "source": [
    "## 2. Set FBR primitive basis"
   ]
  },
  {
   "cell_type": "code",
   "execution_count": 2,
   "id": "30b4b23a-8cdb-49eb-a01e-0719361583cd",
   "metadata": {
    "ExecuteTime": {
     "end_time": "2023-06-26T07:03:37.229222Z",
     "start_time": "2023-06-26T07:03:37.226849Z"
    }
   },
   "outputs": [],
   "source": [
    "from math import sqrt\n",
    "\n",
    "from discvar import PrimBas_HO\n",
    "\n",
    "from pytdscf import units\n",
    "from pytdscf.potentials.h2o_potential import k_orig\n",
    "\n",
    "freqs = [\n",
    "    sqrt(k_orig[(1, 1)]),\n",
    "    sqrt(k_orig[(2, 2)]),\n",
    "    sqrt(k_orig[(3, 3)]),\n",
    "]  # a.u. (sqrt{omega^2} = omega)\n",
    "nprims = [9, 9, 9]\n",
    "prim_info = [\n",
    "    [\n",
    "        PrimBas_HO(0.0, omega * units.au_in_cm1, nprim)\n",
    "        for nprim, omega in zip(nprims, freqs, strict=False)\n",
    "    ]\n",
    "]  # number of state is 1 --> S0\n",
    "nstate = len(prim_info)\n",
    "ndof = len(prim_info[0])\n",
    "basinfo = BasInfo(prim_info)"
   ]
  },
  {
   "cell_type": "markdown",
   "id": "83d3e0aa-ade3-4399-ad7a-0b4d5ef7456e",
   "metadata": {},
   "source": [
    "**MPS-MCTDH wavefunction**\n",
    "$$\n",
    "|\\Psi_{\\rm{MPS-MCTDH}}\\rangle = \\sum_{\\mathbf \\{j\\}}\\sum_{\\mathbf \\{\\tau\\}}\n",
    "a\\substack{j_1 \\\\ 1\\tau_1}a\\substack{j_2 \\\\ \\tau_1\\tau_2} \\cdots a\\substack{j_f \\\\ \\tau_{f-1}1}\n",
    "|\\varphi_{j_1}^{(1)}(q_1)\\rangle|\\varphi_{j_2}^{(2)}(q_2)\\rangle\n",
    "\\cdots|\\varphi_{j_f}^{(f)}(q_f)\\rangle\n",
    "$$\n",
    "where SPF is \n",
    "$$\n",
    "\\varphi_{j_p}^{(p)}(q_p) = \\sum_{i_p=1}^{n_p} c_{i_p}^{j_p}\\chi_{i_p}^{(p)}(q_p) \\; (j_p = 1,2,\\ldots, N_p)\n",
    "$$\n",
    "\n",
    "Here, select $\\{\\chi_{i_p}^{(p)}(q_p)\\}$ as Harmonic Oscillator eigenfunction.\n",
    "See detail in [documenation](https://qclovers.github.io/PyTDSCF/pytdscf.html#pytdscf.primints_cls.poly_HO_FBR).\n",
    "Here one define $n_p$ = 9, $N_p$ = 9. (Standard Method)\n",
    "\n",
    "**NOTE**\n",
    "\n",
    "- First argument of `Primbas_HO` is displaced dimensionless coordinate from q=0.0.\n",
    "\n",
    "- In MPS,  $n = N$ (SM) is usually better than $n < M$ (MCTDH).  Only when using a laptop, MCTDH may be better. (RAM required in MCTDH is smaller than SM.)"
   ]
  },
  {
   "cell_type": "markdown",
   "id": "98a65e22-92d8-4732-84a8-e0231bb24560",
   "metadata": {},
   "source": [
    "## 3. Set Hamiltonian (Polynomial Function)"
   ]
  },
  {
   "cell_type": "markdown",
   "id": "af70e00d-0c9c-4a46-b764-c67e7fc2febf",
   "metadata": {},
   "source": [
    "Here, one uses pre-calculated Polyonimal PES and DMS.\n",
    "And `read_potential_nMR` includes kinetic terms as default."
   ]
  },
  {
   "cell_type": "code",
   "execution_count": 3,
   "id": "fdad9f59-4ce1-47ed-8600-1652d55ff02c",
   "metadata": {
    "ExecuteTime": {
     "end_time": "2023-06-26T07:03:37.232415Z",
     "start_time": "2023-06-26T07:03:37.230694Z"
    },
    "scrolled": true,
    "tags": []
   },
   "outputs": [],
   "source": [
    "from pytdscf.hamiltonian_cls import read_potential_nMR\n",
    "\n",
    "hamiltonian = read_potential_nMR(k_orig)\n",
    "operators = {\"hamiltonian\": hamiltonian}"
   ]
  },
  {
   "cell_type": "markdown",
   "id": "2b82c15c-62d4-474e-964b-49637a6dcd9c",
   "metadata": {
    "tags": []
   },
   "source": [
    "## 4. Set wavefunction (MPS) and All Model\n",
    "\n",
    "- `m_aux_max` is MPS bond dimension (maximum of auxiliary index $\\tau_p$)\n"
   ]
  },
  {
   "cell_type": "code",
   "execution_count": 4,
   "id": "79beeb3a-565e-4d80-bdb3-cc79a821f6f3",
   "metadata": {
    "ExecuteTime": {
     "end_time": "2023-06-26T07:03:37.234102Z",
     "start_time": "2023-06-26T07:03:37.233155Z"
    }
   },
   "outputs": [],
   "source": [
    "model = Model(basinfo, operators)\n",
    "model.m_aux_max = 9"
   ]
  },
  {
   "cell_type": "markdown",
   "id": "cb495b77-ca3f-4771-bae6-1a4d6dc1b503",
   "metadata": {},
   "source": [
    "## 5. Execute Calculation\n",
    "\n",
    "- time step width is defined by `stepsize`=0.05 fs"
   ]
  },
  {
   "cell_type": "markdown",
   "id": "d06941d9-23d2-40af-a92b-6afbc9fecedf",
   "metadata": {},
   "source": [
    "In this calculation, one runs\n",
    "\n",
    "- Real-time propagation\n",
    "\n",
    "- Restart from $\\hat{\\mu}|\\Psi_{\\rm GS}\\rangle$ wavefunction. (restart file suffix is `_dipole`)\n",
    "\n",
    "F.Y.I., See also [documentation](https://qclovers.github.io/PyTDSCF/pytdscf.html#pytdscf.const_cls.Const.set_runtype)\n",
    "\n",
    "\n",
    "**NOTE**\n",
    "\n",
    "- Runtype cannnot rebind. If you change runtype, you should restart the kernel.\n",
    "\n",
    "- JAX is better when simulating more large systems. (f>6, m>10)\n",
    "\n",
    "- If `AVG Krylov iteration` in the log file is much larger than 5, you should set smaller timestep."
   ]
  },
  {
   "cell_type": "code",
   "execution_count": 5,
   "id": "fabba1c2-8b8a-4adc-a784-73d310737842",
   "metadata": {
    "ExecuteTime": {
     "end_time": "2023-06-26T07:05:13.867764Z",
     "start_time": "2023-06-26T07:03:37.235218Z"
    },
    "scrolled": true,
    "tags": []
   },
   "outputs": [
    {
     "name": "stderr",
     "output_type": "stream",
     "text": [
      "2025-01-16 17:04:14,745 - INFO:main.pytdscf._const_cls - \u001b[1m\u001b[35m\n",
      "     ____     __________   .____ ____   _____\n",
      "    / _  |   /__  __/ _ \\ / ___ / _  \\ / ___/\n",
      "   / /_) /_  __/ / / / ||/ /__ / / )_// /__\n",
      "  /  ___/ / / / / / / / |.__  / |  __/ ___/\n",
      " /  /  / /_/ / / / /_/ /___/ /| \\_/ / /\n",
      "/__/   \\__, /_/ /_____/_____/ \\____/_/\n",
      "      /____/\n",
      "\u001b[0m\n",
      "2025-01-16 17:04:14,745 - INFO:main.pytdscf._const_cls - Log file is ./h2o_polynomial_prop/main.log\n",
      "2025-01-16 17:04:14,745 - INFO:main.pytdscf.simulator_cls - Set integral of FBR basis\n",
      "2025-01-16 17:04:14,761 - INFO:main.pytdscf.simulator_cls - Set initial wave function (FBR basis)\n",
      "2025-01-16 17:04:14,763 - INFO:main.pytdscf.simulator_cls - Wave function is loaded from wf_h2o_polynomial_dipole.pkl\n",
      "2025-01-16 17:04:14,768 - INFO:main.pytdscf.simulator_cls - Wave function is saved in wf_h2o_polynomial_prop.pkl\n",
      "2025-01-16 17:04:14,768 - INFO:main.pytdscf.simulator_cls - Start initial step    0.000 [fs]\n",
      "2025-01-16 17:04:14,798 - INFO:main.pytdscf.simulator_cls - End     0 step; propagated    0.050 [fs]; AVG Krylov iteration: 5.00\n",
      "2025-01-16 17:04:17,445 - INFO:main.pytdscf.simulator_cls - End   100 step; propagated    5.050 [fs]; AVG Krylov iteration: 5.00\n",
      "2025-01-16 17:04:20,060 - INFO:main.pytdscf.simulator_cls - End   200 step; propagated   10.050 [fs]; AVG Krylov iteration: 5.00\n",
      "2025-01-16 17:04:22,650 - INFO:main.pytdscf.simulator_cls - End   300 step; propagated   15.050 [fs]; AVG Krylov iteration: 5.00\n",
      "2025-01-16 17:04:25,284 - INFO:main.pytdscf.simulator_cls - End   400 step; propagated   20.050 [fs]; AVG Krylov iteration: 5.00\n",
      "2025-01-16 17:04:28,012 - INFO:main.pytdscf.simulator_cls - End   500 step; propagated   25.050 [fs]; AVG Krylov iteration: 5.00\n",
      "2025-01-16 17:04:30,663 - INFO:main.pytdscf.simulator_cls - End   600 step; propagated   30.050 [fs]; AVG Krylov iteration: 5.00\n",
      "2025-01-16 17:04:33,280 - INFO:main.pytdscf.simulator_cls - End   700 step; propagated   35.050 [fs]; AVG Krylov iteration: 5.00\n",
      "2025-01-16 17:04:35,942 - INFO:main.pytdscf.simulator_cls - End   800 step; propagated   40.050 [fs]; AVG Krylov iteration: 5.00\n",
      "2025-01-16 17:04:38,737 - INFO:main.pytdscf.simulator_cls - End   900 step; propagated   45.050 [fs]; AVG Krylov iteration: 5.00\n",
      "2025-01-16 17:04:41,469 - INFO:main.pytdscf.simulator_cls - Saved wavefunction   49.950 [fs]\n",
      "2025-01-16 17:04:41,528 - INFO:main.pytdscf.simulator_cls - End  1000 step; propagated   50.050 [fs]; AVG Krylov iteration: 5.00\n",
      "2025-01-16 17:04:44,265 - INFO:main.pytdscf.simulator_cls - End  1100 step; propagated   55.050 [fs]; AVG Krylov iteration: 5.00\n",
      "2025-01-16 17:04:46,966 - INFO:main.pytdscf.simulator_cls - End  1200 step; propagated   60.050 [fs]; AVG Krylov iteration: 5.00\n",
      "2025-01-16 17:04:49,696 - INFO:main.pytdscf.simulator_cls - End  1300 step; propagated   65.050 [fs]; AVG Krylov iteration: 5.00\n",
      "2025-01-16 17:04:52,408 - INFO:main.pytdscf.simulator_cls - End  1400 step; propagated   70.050 [fs]; AVG Krylov iteration: 5.00\n",
      "2025-01-16 17:04:55,058 - INFO:main.pytdscf.simulator_cls - End  1500 step; propagated   75.050 [fs]; AVG Krylov iteration: 5.00\n",
      "2025-01-16 17:04:57,730 - INFO:main.pytdscf.simulator_cls - End  1600 step; propagated   80.050 [fs]; AVG Krylov iteration: 5.00\n",
      "2025-01-16 17:05:00,377 - INFO:main.pytdscf.simulator_cls - End  1700 step; propagated   85.050 [fs]; AVG Krylov iteration: 5.00\n",
      "2025-01-16 17:05:03,009 - INFO:main.pytdscf.simulator_cls - End  1800 step; propagated   90.050 [fs]; AVG Krylov iteration: 5.00\n",
      "2025-01-16 17:05:05,696 - INFO:main.pytdscf.simulator_cls - End  1900 step; propagated   95.050 [fs]; AVG Krylov iteration: 5.00\n",
      "2025-01-16 17:05:08,471 - INFO:main.pytdscf.simulator_cls - Saved wavefunction   99.950 [fs]\n",
      "2025-01-16 17:05:08,533 - INFO:main.pytdscf.simulator_cls - End  2000 step; propagated  100.050 [fs]; AVG Krylov iteration: 5.00\n",
      "2025-01-16 17:05:11,274 - INFO:main.pytdscf.simulator_cls - End  2100 step; propagated  105.050 [fs]; AVG Krylov iteration: 5.00\n",
      "2025-01-16 17:05:14,042 - INFO:main.pytdscf.simulator_cls - End  2200 step; propagated  110.050 [fs]; AVG Krylov iteration: 5.00\n",
      "2025-01-16 17:05:16,678 - INFO:main.pytdscf.simulator_cls - End  2300 step; propagated  115.050 [fs]; AVG Krylov iteration: 5.00\n",
      "2025-01-16 17:05:19,474 - INFO:main.pytdscf.simulator_cls - End  2400 step; propagated  120.050 [fs]; AVG Krylov iteration: 5.00\n",
      "2025-01-16 17:05:22,174 - INFO:main.pytdscf.simulator_cls - End  2500 step; propagated  125.050 [fs]; AVG Krylov iteration: 5.00\n",
      "2025-01-16 17:05:24,960 - INFO:main.pytdscf.simulator_cls - End  2600 step; propagated  130.050 [fs]; AVG Krylov iteration: 5.00\n",
      "2025-01-16 17:05:27,895 - INFO:main.pytdscf.simulator_cls - End  2700 step; propagated  135.050 [fs]; AVG Krylov iteration: 5.00\n",
      "2025-01-16 17:05:30,984 - INFO:main.pytdscf.simulator_cls - End  2800 step; propagated  140.050 [fs]; AVG Krylov iteration: 5.00\n",
      "2025-01-16 17:05:33,944 - INFO:main.pytdscf.simulator_cls - End  2900 step; propagated  145.050 [fs]; AVG Krylov iteration: 5.00\n",
      "2025-01-16 17:05:36,886 - INFO:main.pytdscf.simulator_cls - Saved wavefunction  149.950 [fs]\n",
      "2025-01-16 17:05:36,954 - INFO:main.pytdscf.simulator_cls - End  3000 step; propagated  150.050 [fs]; AVG Krylov iteration: 5.00\n",
      "2025-01-16 17:05:40,210 - INFO:main.pytdscf.simulator_cls - End  3100 step; propagated  155.050 [fs]; AVG Krylov iteration: 5.00\n",
      "2025-01-16 17:05:43,023 - INFO:main.pytdscf.simulator_cls - End  3200 step; propagated  160.050 [fs]; AVG Krylov iteration: 5.00\n",
      "2025-01-16 17:05:45,712 - INFO:main.pytdscf.simulator_cls - End  3300 step; propagated  165.050 [fs]; AVG Krylov iteration: 5.00\n",
      "2025-01-16 17:05:48,393 - INFO:main.pytdscf.simulator_cls - End  3400 step; propagated  170.050 [fs]; AVG Krylov iteration: 5.00\n",
      "2025-01-16 17:05:51,110 - INFO:main.pytdscf.simulator_cls - End  3500 step; propagated  175.050 [fs]; AVG Krylov iteration: 5.00\n",
      "2025-01-16 17:05:53,804 - INFO:main.pytdscf.simulator_cls - End  3600 step; propagated  180.050 [fs]; AVG Krylov iteration: 5.00\n",
      "2025-01-16 17:05:56,471 - INFO:main.pytdscf.simulator_cls - End  3700 step; propagated  185.050 [fs]; AVG Krylov iteration: 5.00\n",
      "2025-01-16 17:05:59,119 - INFO:main.pytdscf.simulator_cls - End  3800 step; propagated  190.050 [fs]; AVG Krylov iteration: 5.00\n",
      "2025-01-16 17:06:01,801 - INFO:main.pytdscf.simulator_cls - End  3900 step; propagated  195.050 [fs]; AVG Krylov iteration: 5.00\n",
      "2025-01-16 17:06:04,364 - INFO:main.pytdscf.simulator_cls - Saved wavefunction  199.950 [fs]\n",
      "2025-01-16 17:06:04,422 - INFO:main.pytdscf.simulator_cls - End  4000 step; propagated  200.050 [fs]; AVG Krylov iteration: 5.00\n",
      "2025-01-16 17:06:07,042 - INFO:main.pytdscf.simulator_cls - End  4100 step; propagated  205.050 [fs]; AVG Krylov iteration: 5.00\n",
      "2025-01-16 17:06:09,735 - INFO:main.pytdscf.simulator_cls - End  4200 step; propagated  210.050 [fs]; AVG Krylov iteration: 5.00\n",
      "2025-01-16 17:06:12,435 - INFO:main.pytdscf.simulator_cls - End  4300 step; propagated  215.050 [fs]; AVG Krylov iteration: 5.00\n",
      "2025-01-16 17:06:15,120 - INFO:main.pytdscf.simulator_cls - End  4400 step; propagated  220.050 [fs]; AVG Krylov iteration: 5.00\n",
      "2025-01-16 17:06:17,849 - INFO:main.pytdscf.simulator_cls - End  4500 step; propagated  225.050 [fs]; AVG Krylov iteration: 5.00\n",
      "2025-01-16 17:06:20,543 - INFO:main.pytdscf.simulator_cls - End  4600 step; propagated  230.050 [fs]; AVG Krylov iteration: 5.00\n",
      "2025-01-16 17:06:23,174 - INFO:main.pytdscf.simulator_cls - End  4700 step; propagated  235.050 [fs]; AVG Krylov iteration: 5.00\n",
      "2025-01-16 17:06:25,796 - INFO:main.pytdscf.simulator_cls - End  4800 step; propagated  240.050 [fs]; AVG Krylov iteration: 5.00\n",
      "2025-01-16 17:06:28,420 - INFO:main.pytdscf.simulator_cls - End  4900 step; propagated  245.050 [fs]; AVG Krylov iteration: 5.00\n",
      "2025-01-16 17:06:31,000 - INFO:main.pytdscf.simulator_cls - Saved wavefunction  249.950 [fs]\n",
      "2025-01-16 17:06:31,058 - INFO:main.pytdscf.simulator_cls - End  5000 step; propagated  250.050 [fs]; AVG Krylov iteration: 5.00\n",
      "2025-01-16 17:06:33,682 - INFO:main.pytdscf.simulator_cls - End  5100 step; propagated  255.050 [fs]; AVG Krylov iteration: 5.00\n",
      "2025-01-16 17:06:36,318 - INFO:main.pytdscf.simulator_cls - End  5200 step; propagated  260.050 [fs]; AVG Krylov iteration: 5.00\n",
      "2025-01-16 17:06:38,936 - INFO:main.pytdscf.simulator_cls - End  5300 step; propagated  265.050 [fs]; AVG Krylov iteration: 5.00\n",
      "2025-01-16 17:06:41,643 - INFO:main.pytdscf.simulator_cls - End  5400 step; propagated  270.050 [fs]; AVG Krylov iteration: 5.00\n",
      "2025-01-16 17:06:44,393 - INFO:main.pytdscf.simulator_cls - End  5500 step; propagated  275.050 [fs]; AVG Krylov iteration: 5.00\n",
      "2025-01-16 17:06:47,117 - INFO:main.pytdscf.simulator_cls - End  5600 step; propagated  280.050 [fs]; AVG Krylov iteration: 5.00\n",
      "2025-01-16 17:06:49,825 - INFO:main.pytdscf.simulator_cls - End  5700 step; propagated  285.050 [fs]; AVG Krylov iteration: 5.00\n",
      "2025-01-16 17:06:52,532 - INFO:main.pytdscf.simulator_cls - End  5800 step; propagated  290.050 [fs]; AVG Krylov iteration: 5.00\n",
      "2025-01-16 17:06:55,281 - INFO:main.pytdscf.simulator_cls - End  5900 step; propagated  295.050 [fs]; AVG Krylov iteration: 5.00\n",
      "2025-01-16 17:06:58,053 - INFO:main.pytdscf.simulator_cls - Saved wavefunction  299.950 [fs]\n",
      "2025-01-16 17:06:58,117 - INFO:main.pytdscf.simulator_cls - End  6000 step; propagated  300.050 [fs]; AVG Krylov iteration: 5.00\n",
      "2025-01-16 17:07:00,996 - INFO:main.pytdscf.simulator_cls - End  6100 step; propagated  305.050 [fs]; AVG Krylov iteration: 5.00\n",
      "2025-01-16 17:07:03,823 - INFO:main.pytdscf.simulator_cls - End  6200 step; propagated  310.050 [fs]; AVG Krylov iteration: 5.00\n",
      "2025-01-16 17:07:06,825 - INFO:main.pytdscf.simulator_cls - End  6300 step; propagated  315.050 [fs]; AVG Krylov iteration: 5.00\n",
      "2025-01-16 17:07:10,064 - INFO:main.pytdscf.simulator_cls - End  6400 step; propagated  320.050 [fs]; AVG Krylov iteration: 5.00\n",
      "2025-01-16 17:07:12,908 - INFO:main.pytdscf.simulator_cls - End  6500 step; propagated  325.050 [fs]; AVG Krylov iteration: 5.00\n",
      "2025-01-16 17:07:15,731 - INFO:main.pytdscf.simulator_cls - End  6600 step; propagated  330.050 [fs]; AVG Krylov iteration: 5.00\n",
      "2025-01-16 17:07:18,432 - INFO:main.pytdscf.simulator_cls - End  6700 step; propagated  335.050 [fs]; AVG Krylov iteration: 5.00\n",
      "2025-01-16 17:07:21,132 - INFO:main.pytdscf.simulator_cls - End  6800 step; propagated  340.050 [fs]; AVG Krylov iteration: 5.00\n",
      "2025-01-16 17:07:23,764 - INFO:main.pytdscf.simulator_cls - End  6900 step; propagated  345.050 [fs]; AVG Krylov iteration: 5.00\n",
      "2025-01-16 17:07:26,402 - INFO:main.pytdscf.simulator_cls - Saved wavefunction  349.950 [fs]\n",
      "2025-01-16 17:07:26,460 - INFO:main.pytdscf.simulator_cls - End  7000 step; propagated  350.050 [fs]; AVG Krylov iteration: 5.00\n",
      "2025-01-16 17:07:29,167 - INFO:main.pytdscf.simulator_cls - End  7100 step; propagated  355.050 [fs]; AVG Krylov iteration: 5.00\n",
      "2025-01-16 17:07:31,864 - INFO:main.pytdscf.simulator_cls - End  7200 step; propagated  360.050 [fs]; AVG Krylov iteration: 5.00\n",
      "2025-01-16 17:07:34,742 - INFO:main.pytdscf.simulator_cls - End  7300 step; propagated  365.050 [fs]; AVG Krylov iteration: 5.00\n",
      "2025-01-16 17:07:37,462 - INFO:main.pytdscf.simulator_cls - End  7400 step; propagated  370.050 [fs]; AVG Krylov iteration: 5.00\n",
      "2025-01-16 17:07:40,149 - INFO:main.pytdscf.simulator_cls - End  7500 step; propagated  375.050 [fs]; AVG Krylov iteration: 5.00\n",
      "2025-01-16 17:07:42,889 - INFO:main.pytdscf.simulator_cls - End  7600 step; propagated  380.050 [fs]; AVG Krylov iteration: 5.00\n",
      "2025-01-16 17:07:45,520 - INFO:main.pytdscf.simulator_cls - End  7700 step; propagated  385.050 [fs]; AVG Krylov iteration: 5.00\n",
      "2025-01-16 17:07:48,131 - INFO:main.pytdscf.simulator_cls - End  7800 step; propagated  390.050 [fs]; AVG Krylov iteration: 5.00\n",
      "2025-01-16 17:07:50,776 - INFO:main.pytdscf.simulator_cls - End  7900 step; propagated  395.050 [fs]; AVG Krylov iteration: 5.00\n",
      "2025-01-16 17:07:53,447 - INFO:main.pytdscf.simulator_cls - Saved wavefunction  399.950 [fs]\n",
      "2025-01-16 17:07:53,505 - INFO:main.pytdscf.simulator_cls - End  8000 step; propagated  400.050 [fs]; AVG Krylov iteration: 5.00\n",
      "2025-01-16 17:07:56,116 - INFO:main.pytdscf.simulator_cls - End  8100 step; propagated  405.050 [fs]; AVG Krylov iteration: 5.00\n",
      "2025-01-16 17:07:58,881 - INFO:main.pytdscf.simulator_cls - End  8200 step; propagated  410.050 [fs]; AVG Krylov iteration: 5.00\n",
      "2025-01-16 17:08:01,633 - INFO:main.pytdscf.simulator_cls - End  8300 step; propagated  415.050 [fs]; AVG Krylov iteration: 5.00\n",
      "2025-01-16 17:08:04,289 - INFO:main.pytdscf.simulator_cls - End  8400 step; propagated  420.050 [fs]; AVG Krylov iteration: 5.00\n",
      "2025-01-16 17:08:06,950 - INFO:main.pytdscf.simulator_cls - End  8500 step; propagated  425.050 [fs]; AVG Krylov iteration: 5.00\n",
      "2025-01-16 17:08:09,671 - INFO:main.pytdscf.simulator_cls - End  8600 step; propagated  430.050 [fs]; AVG Krylov iteration: 5.00\n",
      "2025-01-16 17:08:12,484 - INFO:main.pytdscf.simulator_cls - End  8700 step; propagated  435.050 [fs]; AVG Krylov iteration: 5.00\n",
      "2025-01-16 17:08:15,212 - INFO:main.pytdscf.simulator_cls - End  8800 step; propagated  440.050 [fs]; AVG Krylov iteration: 5.00\n",
      "2025-01-16 17:08:17,881 - INFO:main.pytdscf.simulator_cls - End  8900 step; propagated  445.050 [fs]; AVG Krylov iteration: 5.00\n",
      "2025-01-16 17:08:20,451 - INFO:main.pytdscf.simulator_cls - Saved wavefunction  449.950 [fs]\n",
      "2025-01-16 17:08:20,509 - INFO:main.pytdscf.simulator_cls - End  9000 step; propagated  450.050 [fs]; AVG Krylov iteration: 5.00\n",
      "2025-01-16 17:08:23,170 - INFO:main.pytdscf.simulator_cls - End  9100 step; propagated  455.050 [fs]; AVG Krylov iteration: 5.00\n",
      "2025-01-16 17:08:25,808 - INFO:main.pytdscf.simulator_cls - End  9200 step; propagated  460.050 [fs]; AVG Krylov iteration: 5.00\n",
      "2025-01-16 17:08:28,595 - INFO:main.pytdscf.simulator_cls - End  9300 step; propagated  465.050 [fs]; AVG Krylov iteration: 5.00\n",
      "2025-01-16 17:08:31,215 - INFO:main.pytdscf.simulator_cls - End  9400 step; propagated  470.050 [fs]; AVG Krylov iteration: 5.00\n",
      "2025-01-16 17:08:33,846 - INFO:main.pytdscf.simulator_cls - End  9500 step; propagated  475.050 [fs]; AVG Krylov iteration: 5.00\n",
      "2025-01-16 17:08:36,478 - INFO:main.pytdscf.simulator_cls - End  9600 step; propagated  480.050 [fs]; AVG Krylov iteration: 5.00\n",
      "2025-01-16 17:08:39,112 - INFO:main.pytdscf.simulator_cls - End  9700 step; propagated  485.050 [fs]; AVG Krylov iteration: 5.00\n",
      "2025-01-16 17:08:41,850 - INFO:main.pytdscf.simulator_cls - End  9800 step; propagated  490.050 [fs]; AVG Krylov iteration: 5.00\n",
      "2025-01-16 17:08:44,516 - INFO:main.pytdscf.simulator_cls - End  9900 step; propagated  495.050 [fs]; AVG Krylov iteration: 5.00\n",
      "2025-01-16 17:08:47,197 - INFO:main.pytdscf.simulator_cls - Saved wavefunction  499.950 [fs]\n",
      "2025-01-16 17:08:47,229 - INFO:main.pytdscf.simulator_cls - End  9999 step; propagated  499.950 [fs]; AVG Krylov iteration: 5.00\n",
      "2025-01-16 17:08:47,229 - INFO:main.pytdscf.simulator_cls - End simulation and save wavefunction\n",
      "2025-01-16 17:08:47,234 - INFO:main.pytdscf.simulator_cls - Wave function is saved in wf_h2o_polynomial_prop.pkl\n"
     ]
    },
    {
     "data": {
      "text/plain": [
       "(0.0208961103101235, <pytdscf.wavefunction.WFunc at 0x12e3b82d0>)"
      ]
     },
     "execution_count": 5,
     "metadata": {},
     "output_type": "execute_result"
    }
   ],
   "source": [
    "jobname = \"h2o_polynomial\"\n",
    "simulator = Simulator(jobname, model, backend=\"numpy\")\n",
    "simulator.propagate(\n",
    "    maxstep=10000,\n",
    "    stepsize=0.05,\n",
    "    restart=True,\n",
    "    savefile_ext=\"_prop\",\n",
    "    loadfile_ext=\"_dipole\",\n",
    ")  # i.e., 500 fs"
   ]
  },
  {
   "cell_type": "markdown",
   "id": "aee22b8b-88ad-469b-bb18-bf9b979386a8",
   "metadata": {},
   "source": [
    "## 6. Check Log file\n",
    "See `h2o_polynomial_prop/main.log`, which is defined as `jobname`."
   ]
  },
  {
   "cell_type": "code",
   "execution_count": 6,
   "id": "3024ea78-6f16-402f-9773-68595ab0eeba",
   "metadata": {
    "ExecuteTime": {
     "end_time": "2023-06-26T07:05:13.988131Z",
     "start_time": "2023-06-26T07:05:13.864233Z"
    }
   },
   "outputs": [
    {
     "name": "stdout",
     "output_type": "stream",
     "text": [
      "| autocorr:  0.6236-0.7767i| pop 1.0000 | ene[eV]:  0.5686121 | time[fs]:  499.700 | elapsed[sec]:   242.26 \n",
      "| autocorr:  0.5543-0.8274i| pop 1.0000 | ene[eV]:  0.5686121 | time[fs]:  499.750 | elapsed[sec]:   242.28 \n",
      "| autocorr:  0.4809-0.8720i| pop 1.0000 | ene[eV]:  0.5686121 | time[fs]:  499.800 | elapsed[sec]:   242.30 \n",
      "| autocorr:  0.4039-0.9100i| pop 1.0000 | ene[eV]:  0.5686121 | time[fs]:  499.850 | elapsed[sec]:   242.33 \n",
      "| autocorr:  0.3240-0.9413i| pop 1.0000 | ene[eV]:  0.5686121 | time[fs]:  499.900 | elapsed[sec]:   242.35 \n",
      "Saved wavefunction  499.950 [fs]\n",
      "| autocorr:  0.2417-0.9656i| pop 1.0000 | ene[eV]:  0.5686121 | time[fs]:  499.950 | elapsed[sec]:   242.37 \n",
      "End  9999 step; propagated  499.950 [fs]; AVG Krylov iteration: 5.00\n",
      "End simulation and save wavefunction\n",
      "Wave function is saved in wf_h2o_polynomial_prop.pkl\n"
     ]
    }
   ],
   "source": [
    "!tail h2o_polynomial_prop/main.log"
   ]
  }
 ],
 "metadata": {
  "kernelspec": {
   "display_name": "Python 3 (ipykernel)",
   "language": "python",
   "name": "python3"
  },
  "language_info": {
   "codemirror_mode": {
    "name": "ipython",
    "version": 3
   },
   "file_extension": ".py",
   "mimetype": "text/x-python",
   "name": "python",
   "nbconvert_exporter": "python",
   "pygments_lexer": "ipython3",
   "version": "3.13.0"
  }
 },
 "nbformat": 4,
 "nbformat_minor": 5
}
