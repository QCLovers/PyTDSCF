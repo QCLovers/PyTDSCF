{
 "cells": [
  {
   "cell_type": "markdown",
   "id": "bcbc9641-d5d1-4f1c-a168-804cff801d8e",
   "metadata": {},
   "source": [
    "# Example 1: Relaxation of H2O vibrational state under polynomial PES"
   ]
  },
  {
   "cell_type": "markdown",
   "id": "5dc1ef88-3e14-4b09-9568-f7054e64ffa8",
   "metadata": {},
   "source": [
    "| run type      | wavefunction | backend | Basis  | steps |\n",
    "| ---           | ---          | ---     | ---    | ---   |\n",
    "| improved relaxation | MPS-SM | Numpy   | HO-DVR | 20    |"
   ]
  },
  {
   "cell_type": "markdown",
   "id": "8f6cb8fc-68b4-4678-80fd-074826fb0668",
   "metadata": {},
   "source": [
    "<img src=\"../pic/h2o.png\" alt=\"h2o\" width=\"200\">"
   ]
  },
  {
   "cell_type": "markdown",
   "id": "d484ceaa-861c-4347-8cf0-52c3d5e6201b",
   "metadata": {},
   "source": [
    "## 1. Import modules"
   ]
  },
  {
   "cell_type": "markdown",
   "id": "0b50fd02-cf7c-42b5-a02d-ca3450ebf70e",
   "metadata": {},
   "source": [
    "- Required in **any** calculations"
   ]
  },
  {
   "cell_type": "code",
   "execution_count": 1,
   "id": "6460756f-ff3a-4c0f-a761-013f629aa161",
   "metadata": {
    "ExecuteTime": {
     "end_time": "2023-06-27T09:40:32.889813Z",
     "start_time": "2023-06-27T09:40:29.582879Z"
    }
   },
   "outputs": [
    {
     "data": {
      "text/plain": [
       "'1.1.0'"
      ]
     },
     "execution_count": 1,
     "metadata": {},
     "output_type": "execute_result"
    }
   ],
   "source": [
    "from pytdscf import BasInfo, Model, Simulator, __version__\n",
    "__version__"
   ]
  },
  {
   "cell_type": "markdown",
   "id": "eb10b01d-3471-4800-952a-ffc6857fe942",
   "metadata": {},
   "source": [
    "## 2. Set primitive basis as HO-DVR\n",
    "- FBR = Finite Basis Representation\n",
    "    - using analytic integration\n",
    "- DVR = Discrete Variational Representation\n",
    "    - using numerical integration\n",
    "    - diagonal potential operator\n",
    "\n",
    "|     | implemented         | Supported operator | Supported backend |\n",
    "| --- | ---                 | ---                | --- |\n",
    "| FBR | HO, Excition, Boson | polynomial of Q and P (sum of product; SOP) | Numpy (recommended), JAX|\n",
    "| DVR | HO, Sine, Exp       | arbitrary function (matrix product operator; MPO) | Numpy, JAX|"
   ]
  },
  {
   "cell_type": "code",
   "execution_count": 2,
   "id": "4f8c1ad1-9b22-4e3a-9f48-8d8ecf847a53",
   "metadata": {
    "ExecuteTime": {
     "end_time": "2023-06-27T09:40:32.898778Z",
     "start_time": "2023-06-27T09:40:32.894127Z"
    },
    "collapsed": false,
    "jupyter": {
     "outputs_hidden": false
    }
   },
   "outputs": [
    {
     "data": {
      "text/plain": [
       "[0.007556564680635903, 0.017105918773130724, 0.017567584215986715]"
      ]
     },
     "execution_count": 2,
     "metadata": {},
     "output_type": "execute_result"
    }
   ],
   "source": [
    "from collections import Counter\n",
    "from math import sqrt\n",
    "\n",
    "import numpy as np\n",
    "import sympy\n",
    "from discvar import HarmonicOscillator as HO\n",
    "from pympo import AssignManager, OpSite, SumOfProducts\n",
    "from pympo.utils import export_npz\n",
    "\n",
    "from pytdscf.dvr_operator_cls import TensorOperator\n",
    "from pytdscf.hamiltonian_cls import TensorHamiltonian\n",
    "from pytdscf.potentials.h2o_potential import k_orig\n",
    "\n",
    "backend = \"numpy\"\n",
    "\n",
    "ndim = 3\n",
    "freqs = [sqrt(k_orig[(k, k)]) for k in range(1, ndim + 1)]  # a.u.\n",
    "freqs"
   ]
  },
  {
   "cell_type": "code",
   "execution_count": 3,
   "id": "dbefa37c-9062-4436-bf2a-2fdfdd1f95d5",
   "metadata": {
    "ExecuteTime": {
     "end_time": "2023-06-27T09:40:32.898778Z",
     "start_time": "2023-06-27T09:40:32.894127Z"
    },
    "collapsed": false,
    "jupyter": {
     "outputs_hidden": false
    }
   },
   "outputs": [],
   "source": [
    "nprims = [9] * ndim  # Number of primitive basis\n",
    "\n",
    "basis = [\n",
    "    HO(nprim, omega, units=\"a.u.\")\n",
    "    for nprim, omega in zip(nprims, freqs, strict=True)\n",
    "]\n",
    "basinfo = BasInfo([basis])  # Set basis information object"
   ]
  },
  {
   "cell_type": "markdown",
   "id": "83d3e0aa-ade3-4399-ad7a-0b4d5ef7456e",
   "metadata": {},
   "source": [
    "**MPS-MCTDH wavefunction**\n",
    "$$\n",
    "|\\Psi_{\\rm{MPS-MCTDH}}\\rangle = \\sum_{\\mathbf \\{j\\}}\\sum_{\\mathbf \\{\\tau\\}}\n",
    "a\\substack{j_1 \\\\ 1\\tau_1}a\\substack{j_2 \\\\ \\tau_1\\tau_2} \\cdots a\\substack{j_f \\\\ \\tau_{f-1}1}\n",
    "|\\varphi_{j_1}^{(1)}(q_1)\\rangle|\\varphi_{j_2}^{(2)}(q_2)\\rangle\n",
    "\\cdots|\\varphi_{j_f}^{(f)}(q_f)\\rangle\n",
    "$$\n",
    "where SPF is \n",
    "$$\n",
    "\\varphi_{j_p}^{(p)}(q_p) = \\sum_{i_p=1}^{n_p} c_{i_p}^{j_p}\\chi_{i_p}^{(p)}(q_p) \\; (j_p = 1,2,\\ldots, N_p)\n",
    "$$\n",
    "\n",
    "Here, select $\\{\\chi_{i_p}^{(p)}(q_p)\\}$ as Harmonic Oscillator eigenfunction.\n",
    "See detail in [documenation](https://qclovers.github.io/PyTDSCF/pytdscf.html#pytdscf.primints_cls.PrimBas_HO).\n",
    "Here one defines $n_p$ = 9, $N_p$ = 9. (i.e., $\\phi=\\chi$, so-called \"standard method (SM)\")\n",
    "\n",
    "**NOTE**\n",
    "\n",
    "- In MPS,  $n = N$ (SM) is usually better than $n < M$ (MCTDH).  Only when using a laptop computer, MCTDH sometimes works better. (because the required RAM in MCTDH is smaller than SM.)"
   ]
  },
  {
   "cell_type": "markdown",
   "id": "98a65e22-92d8-4732-84a8-e0231bb24560",
   "metadata": {},
   "source": [
    "## 3. Set Hamiltonian (Polynomial Function)"
   ]
  },
  {
   "cell_type": "markdown",
   "id": "af70e00d-0c9c-4a46-b764-c67e7fc2febf",
   "metadata": {},
   "source": [
    "- Here, one uses pre-calculated Polyonimal PES.\n",
    "- `k_orig` is the coefficients of Taylor expansion of PES in reference geometry by mass-weighted coordinate $Q_i$ (The unit of coordinate is **NOT AMU** but $\\sqrt{m_e}a_0$, i.e. atomic units)\n",
    "$$ V - V_0 = \\frac{k_{11}}{2!} Q_1^2 + \\frac{k_{22}}{2!} Q_2^2 + \\frac{k_{33}}{2!} Q_3^2 + \\frac{k_{111}}{3!} Q_1^3 + \\frac{k_{122}}{2!} Q_1Q_2^2 + \\cdots $$"
   ]
  },
  {
   "cell_type": "code",
   "execution_count": 4,
   "id": "55ba2249-7e19-4d83-9b08-1a405195fab3",
   "metadata": {},
   "outputs": [
    {
     "data": {
      "text/plain": [
       "defaultdict(float,\n",
       "            {(1, 1): 5.7101669772633975e-05,\n",
       "             (2, 2): 0.00029261245707294615,\n",
       "             (3, 3): 0.0003086200151857856,\n",
       "             (1, 1, 1): -8.973542624563865e-07,\n",
       "             (2, 2, 2): -1.8571147341445975e-05,\n",
       "             (1, 2, 2): 5.028987089424822e-07,\n",
       "             (1, 1, 2): 1.2870557913839666e-06,\n",
       "             (1, 3, 3): 2.0063268625796784e-06,\n",
       "             (2, 3, 3): -1.8853947560756764e-05,\n",
       "             (1, 1, 1, 1): -2.2778131948543168e-08,\n",
       "             (2, 2, 2, 2): 1.042951948572713e-06,\n",
       "             (3, 3, 3, 3): 1.1133748664915738e-06,\n",
       "             (1, 2, 2, 2): -8.193988329963448e-08,\n",
       "             (1, 1, 2, 2): -1.852073688081903e-07,\n",
       "             (1, 1, 1, 2): 5.750959195886642e-08,\n",
       "             (1, 1, 3, 3): -2.1211138514059556e-07,\n",
       "             (2, 2, 3, 3): 1.0721581542221527e-06,\n",
       "             (1, 2, 3, 3): -1.256574051408931e-07})"
      ]
     },
     "execution_count": 4,
     "metadata": {},
     "output_type": "execute_result"
    }
   ],
   "source": [
    "k_orig"
   ]
  },
  {
   "cell_type": "markdown",
   "id": "fe420beb-e3cc-4fb4-b6df-685b404d3607",
   "metadata": {},
   "source": [
    "### Setup one particle operator"
   ]
  },
  {
   "cell_type": "code",
   "execution_count": 5,
   "id": "b7bd38b7-13c0-48d4-ade1-43328a469d46",
   "metadata": {},
   "outputs": [],
   "source": [
    "# Define p^2_i operators\n",
    "p2_list = [basis_i.get_2nd_derivative_matrix_dvr() for basis_i in basis]\n",
    "p2_ops = [\n",
    "    OpSite(r\"\\hat{p}^2\" + f\"_{i + 1}\", i, value=p2_list[i])\n",
    "    for i in range(0, ndim)\n",
    "]\n",
    "\n",
    "# Define q_i, q^2_i, q^3_i, q^4_i operators\n",
    "q1_list = [np.array(basis_i.get_grids()) for basis_i in basis]  # DVR grids\n",
    "q2_list = [q1_int**2 for q1_int in q1_list]\n",
    "q3_list = [q1_int**3 for q1_int in q1_list]\n",
    "q4_list = [q1_int**4 for q1_int in q1_list]\n",
    "\n",
    "q1_ops = [\n",
    "    OpSite(r\"\\hat{q}_{\" + f\"{i + 1}\" + \"}\", i, value=q1_list[i])\n",
    "    for i in range(0, ndim)\n",
    "]\n",
    "q2_ops = [\n",
    "    OpSite(r\"\\hat{q}^2_{\" + f\"{i + 1}\" + \"}\", i, value=q2_list[i])\n",
    "    for i in range(0, ndim)\n",
    "]\n",
    "q3_ops = [\n",
    "    OpSite(r\"\\hat{q}^3_{\" + f\"{i + 1}\" + \"}\", i, value=q3_list[i])\n",
    "    for i in range(0, ndim)\n",
    "]\n",
    "q4_ops = [\n",
    "    OpSite(r\"\\hat{q}^4_{\" + f\"{i + 1}\" + \"}\", i, value=q4_list[i])\n",
    "    for i in range(0, ndim)\n",
    "]\n",
    "\n",
    "qn_list = [q1_ops, q2_ops, q3_ops, q4_ops]"
   ]
  },
  {
   "cell_type": "markdown",
   "id": "faf13590-edf3-4089-bded-784cd55dab41",
   "metadata": {},
   "source": [
    "### Setup potential and kinetic operator"
   ]
  },
  {
   "cell_type": "code",
   "execution_count": 6,
   "id": "f86612ce-f82e-435a-b978-df0c8cc72a84",
   "metadata": {},
   "outputs": [
    {
     "data": {
      "text/latex": [
       "$\\displaystyle - \\frac{\\hat{p}^2_1}{2} - \\frac{\\hat{p}^2_2}{2} - \\frac{\\hat{p}^2_3}{2}$"
      ],
      "text/plain": [
       "-\\hat{p}^2_1/2 - \\hat{p}^2_2/2 - \\hat{p}^2_3/2"
      ]
     },
     "execution_count": 6,
     "metadata": {},
     "output_type": "execute_result"
    }
   ],
   "source": [
    "kin_sop = SumOfProducts()\n",
    "\n",
    "for p2_op in p2_ops:\n",
    "    kin_sop += -sympy.Rational(1 / 2) * p2_op\n",
    "\n",
    "kin_sop.symbol"
   ]
  },
  {
   "cell_type": "code",
   "execution_count": 7,
   "id": "dcc43f69",
   "metadata": {},
   "outputs": [
    {
     "data": {
      "text/latex": [
       "$\\displaystyle \\frac{k_{(1, 1)} \\hat{q}^2_{1}}{2} + \\frac{k_{(1, 1, 1)} \\hat{q}^3_{1}}{6} + \\frac{k_{(1, 1, 1, 1)} \\hat{q}^4_{1}}{24} + \\frac{k_{(1, 1, 1, 2)} \\hat{q}^3_{1} \\hat{q}_{2}}{6} + \\frac{k_{(1, 1, 2)} \\hat{q}^2_{1} \\hat{q}_{2}}{2} + \\frac{k_{(1, 1, 2, 2)} \\hat{q}^2_{1} \\hat{q}^2_{2}}{4} + \\frac{k_{(1, 1, 3, 3)} \\hat{q}^2_{1} \\hat{q}^2_{3}}{4} + \\frac{k_{(1, 2, 2)} \\hat{q}_{1} \\hat{q}^2_{2}}{2} + \\frac{k_{(1, 2, 2, 2)} \\hat{q}_{1} \\hat{q}^3_{2}}{6} + \\frac{k_{(1, 2, 3, 3)} \\hat{q}_{1} \\hat{q}_{2} \\hat{q}^2_{3}}{2} + \\frac{k_{(1, 3, 3)} \\hat{q}_{1} \\hat{q}^2_{3}}{2} + \\frac{k_{(2, 2)} \\hat{q}^2_{2}}{2} + \\frac{k_{(2, 2, 2)} \\hat{q}^3_{2}}{6} + \\frac{k_{(2, 2, 2, 2)} \\hat{q}^4_{2}}{24} + \\frac{k_{(2, 2, 3, 3)} \\hat{q}^2_{2} \\hat{q}^2_{3}}{4} + \\frac{k_{(2, 3, 3)} \\hat{q}_{2} \\hat{q}^2_{3}}{2} + \\frac{k_{(3, 3)} \\hat{q}^2_{3}}{2} + \\frac{k_{(3, 3, 3, 3)} \\hat{q}^4_{3}}{24}$"
      ],
      "text/plain": [
       "k_(1, 1)*\\hat{q}^2_{1}/2 + k_(1, 1, 1)*\\hat{q}^3_{1}/6 + k_(1, 1, 1, 1)*\\hat{q}^4_{1}/24 + k_(1, 1, 1, 2)*\\hat{q}^3_{1}*\\hat{q}_{2}/6 + k_(1, 1, 2)*\\hat{q}^2_{1}*\\hat{q}_{2}/2 + k_(1, 1, 2, 2)*\\hat{q}^2_{1}*\\hat{q}^2_{2}/4 + k_(1, 1, 3, 3)*\\hat{q}^2_{1}*\\hat{q}^2_{3}/4 + k_(1, 2, 2)*\\hat{q}_{1}*\\hat{q}^2_{2}/2 + k_(1, 2, 2, 2)*\\hat{q}_{1}*\\hat{q}^3_{2}/6 + k_(1, 2, 3, 3)*\\hat{q}_{1}*\\hat{q}_{2}*\\hat{q}^2_{3}/2 + k_(1, 3, 3)*\\hat{q}_{1}*\\hat{q}^2_{3}/2 + k_(2, 2)*\\hat{q}^2_{2}/2 + k_(2, 2, 2)*\\hat{q}^3_{2}/6 + k_(2, 2, 2, 2)*\\hat{q}^4_{2}/24 + k_(2, 2, 3, 3)*\\hat{q}^2_{2}*\\hat{q}^2_{3}/4 + k_(2, 3, 3)*\\hat{q}_{2}*\\hat{q}^2_{3}/2 + k_(3, 3)*\\hat{q}^2_{3}/2 + k_(3, 3, 3, 3)*\\hat{q}^4_{3}/24"
      ]
     },
     "execution_count": 7,
     "metadata": {},
     "output_type": "execute_result"
    }
   ],
   "source": [
    "pot_sop = SumOfProducts()\n",
    "subs = {}  # substitutions afterwards\n",
    "\n",
    "for key, coef in k_orig.items():\n",
    "    if coef == 0:\n",
    "        continue\n",
    "    count = Counter(key)\n",
    "    op = 1\n",
    "    k = sympy.Symbol(f\"k_{key}\")\n",
    "    op = 1\n",
    "    for isite, order in count.items():\n",
    "        if order > 0:\n",
    "            op *= qn_list[order - 1][isite - 1]\n",
    "        if order > 1:\n",
    "            op /= sympy.factorial(order)\n",
    "    pot_sop += k * op\n",
    "    subs[k] = coef\n",
    "\n",
    "pot_sop = pot_sop.simplify()\n",
    "pot_sop.symbol"
   ]
  },
  {
   "cell_type": "markdown",
   "id": "216309ca-e46c-41e5-9b26-46efb5c012e6",
   "metadata": {},
   "source": [
    "### Setup MPO"
   ]
  },
  {
   "cell_type": "code",
   "execution_count": 8,
   "id": "806a9029",
   "metadata": {},
   "outputs": [
    {
     "data": {
      "text/latex": [
       "$\\displaystyle \\left[\\begin{matrix}\\hat{p}^2_1 & 1\\end{matrix}\\right]$"
      ],
      "text/plain": [
       "Matrix([[\\hat{p}^2_1, 1]])"
      ]
     },
     "metadata": {},
     "output_type": "display_data"
    },
    {
     "data": {
      "text/latex": [
       "$\\displaystyle \\left[\\begin{matrix}- \\frac{1}{2} & 0\\\\- \\frac{\\hat{p}^2_2}{2} & 1\\end{matrix}\\right]$"
      ],
      "text/plain": [
       "Matrix([\n",
       "[          -1/2, 0],\n",
       "[-\\hat{p}^2_2/2, 1]])"
      ]
     },
     "metadata": {},
     "output_type": "display_data"
    },
    {
     "data": {
      "text/latex": [
       "$\\displaystyle \\left[\\begin{matrix}1\\\\- \\frac{\\hat{p}^2_3}{2}\\end{matrix}\\right]$"
      ],
      "text/plain": [
       "Matrix([\n",
       "[             1],\n",
       "[-\\hat{p}^2_3/2]])"
      ]
     },
     "metadata": {},
     "output_type": "display_data"
    }
   ],
   "source": [
    "am_kin = AssignManager(kin_sop)\n",
    "am_kin.assign()\n",
    "display(*am_kin.Wsym)\n",
    "kin_mpo = am_kin.numerical_mpo(subs=subs)"
   ]
  },
  {
   "cell_type": "code",
   "execution_count": 9,
   "id": "9ad4f62a-4958-46bb-807f-88d744f36125",
   "metadata": {
    "scrolled": true
   },
   "outputs": [
    {
     "data": {
      "text/latex": [
       "$\\displaystyle \\left[\\begin{matrix}\\hat{q}^3_{1} & \\hat{q}_{1} & \\hat{q}^4_{1} & \\hat{q}^2_{1} & 1\\end{matrix}\\right]$"
      ],
      "text/plain": [
       "Matrix([[\\hat{q}^3_{1}, \\hat{q}_{1}, \\hat{q}^4_{1}, \\hat{q}^2_{1}, 1]])"
      ]
     },
     "metadata": {},
     "output_type": "display_data"
    },
    {
     "data": {
      "text/latex": [
       "$\\displaystyle \\left[\\begin{matrix}0 & \\frac{k_{(1, 1, 1)}}{6} + \\frac{k_{(1, 1, 1, 2)} \\hat{q}_{2}}{6} & 0\\\\\\frac{k_{(1, 2, 3, 3)} \\hat{q}_{2}}{2} + \\frac{k_{(1, 3, 3)}}{2} & \\frac{k_{(1, 2, 2)} \\hat{q}^2_{2}}{2} + \\frac{k_{(1, 2, 2, 2)} \\hat{q}^3_{2}}{6} & 0\\\\0 & \\frac{k_{(1, 1, 1, 1)}}{24} & 0\\\\\\frac{k_{(1, 1, 3, 3)}}{4} & \\frac{k_{(1, 1)}}{2} + \\frac{k_{(1, 1, 2)} \\hat{q}_{2}}{2} + \\frac{k_{(1, 1, 2, 2)} \\hat{q}^2_{2}}{4} & 0\\\\\\frac{k_{(2, 2, 3, 3)} \\hat{q}^2_{2}}{4} + \\frac{k_{(2, 3, 3)} \\hat{q}_{2}}{2} + \\frac{k_{(3, 3)}}{2} & \\frac{k_{(2, 2)} \\hat{q}^2_{2}}{2} + \\frac{k_{(2, 2, 2)} \\hat{q}^3_{2}}{6} + \\frac{k_{(2, 2, 2, 2)} \\hat{q}^4_{2}}{24} & 1\\end{matrix}\\right]$"
      ],
      "text/plain": [
       "Matrix([\n",
       "[                                                                      0,                                             k_(1, 1, 1)/6 + k_(1, 1, 1, 2)*\\hat{q}_{2}/6, 0],\n",
       "[                           k_(1, 2, 3, 3)*\\hat{q}_{2}/2 + k_(1, 3, 3)/2,                             k_(1, 2, 2)*\\hat{q}^2_{2}/2 + k_(1, 2, 2, 2)*\\hat{q}^3_{2}/6, 0],\n",
       "[                                                                      0,                                                                        k_(1, 1, 1, 1)/24, 0],\n",
       "[                                                       k_(1, 1, 3, 3)/4,                  k_(1, 1)/2 + k_(1, 1, 2)*\\hat{q}_{2}/2 + k_(1, 1, 2, 2)*\\hat{q}^2_{2}/4, 0],\n",
       "[k_(2, 2, 3, 3)*\\hat{q}^2_{2}/4 + k_(2, 3, 3)*\\hat{q}_{2}/2 + k_(3, 3)/2, k_(2, 2)*\\hat{q}^2_{2}/2 + k_(2, 2, 2)*\\hat{q}^3_{2}/6 + k_(2, 2, 2, 2)*\\hat{q}^4_{2}/24, 1]])"
      ]
     },
     "metadata": {},
     "output_type": "display_data"
    },
    {
     "data": {
      "text/latex": [
       "$\\displaystyle \\left[\\begin{matrix}\\hat{q}^2_{3}\\\\1\\\\\\frac{k_{(3, 3, 3, 3)} \\hat{q}^4_{3}}{24}\\end{matrix}\\right]$"
      ],
      "text/plain": [
       "Matrix([\n",
       "[                  \\hat{q}^2_{3}],\n",
       "[                              1],\n",
       "[k_(3, 3, 3, 3)*\\hat{q}^4_{3}/24]])"
      ]
     },
     "metadata": {},
     "output_type": "display_data"
    },
    {
     "name": "stdout",
     "output_type": "stream",
     "text": [
      "W0 W1 W2 =\n"
     ]
    },
    {
     "data": {
      "text/latex": [
       "$\\displaystyle \\frac{k_{(1, 1)} \\hat{q}^2_{1}}{2} + \\frac{k_{(1, 1, 1)} \\hat{q}^3_{1}}{6} + \\frac{k_{(1, 1, 1, 1)} \\hat{q}^4_{1}}{24} + \\frac{k_{(1, 1, 1, 2)} \\hat{q}^3_{1} \\hat{q}_{2}}{6} + \\frac{k_{(1, 1, 2)} \\hat{q}^2_{1} \\hat{q}_{2}}{2} + \\frac{k_{(1, 1, 2, 2)} \\hat{q}^2_{1} \\hat{q}^2_{2}}{4} + \\frac{k_{(1, 1, 3, 3)} \\hat{q}^2_{1} \\hat{q}^2_{3}}{4} + \\frac{k_{(1, 2, 2)} \\hat{q}_{1} \\hat{q}^2_{2}}{2} + \\frac{k_{(1, 2, 2, 2)} \\hat{q}_{1} \\hat{q}^3_{2}}{6} + \\frac{k_{(1, 2, 3, 3)} \\hat{q}_{1} \\hat{q}_{2} \\hat{q}^2_{3}}{2} + \\frac{k_{(1, 3, 3)} \\hat{q}_{1} \\hat{q}^2_{3}}{2} + \\frac{k_{(2, 2)} \\hat{q}^2_{2}}{2} + \\frac{k_{(2, 2, 2)} \\hat{q}^3_{2}}{6} + \\frac{k_{(2, 2, 2, 2)} \\hat{q}^4_{2}}{24} + \\frac{k_{(2, 2, 3, 3)} \\hat{q}^2_{2} \\hat{q}^2_{3}}{4} + \\frac{k_{(2, 3, 3)} \\hat{q}_{2} \\hat{q}^2_{3}}{2} + \\frac{k_{(3, 3)} \\hat{q}^2_{3}}{2} + \\frac{k_{(3, 3, 3, 3)} \\hat{q}^4_{3}}{24}$"
      ],
      "text/plain": [
       "k_(1, 1)*\\hat{q}^2_{1}/2 + k_(1, 1, 1)*\\hat{q}^3_{1}/6 + k_(1, 1, 1, 1)*\\hat{q}^4_{1}/24 + k_(1, 1, 1, 2)*\\hat{q}^3_{1}*\\hat{q}_{2}/6 + k_(1, 1, 2)*\\hat{q}^2_{1}*\\hat{q}_{2}/2 + k_(1, 1, 2, 2)*\\hat{q}^2_{1}*\\hat{q}^2_{2}/4 + k_(1, 1, 3, 3)*\\hat{q}^2_{1}*\\hat{q}^2_{3}/4 + k_(1, 2, 2)*\\hat{q}_{1}*\\hat{q}^2_{2}/2 + k_(1, 2, 2, 2)*\\hat{q}_{1}*\\hat{q}^3_{2}/6 + k_(1, 2, 3, 3)*\\hat{q}_{1}*\\hat{q}_{2}*\\hat{q}^2_{3}/2 + k_(1, 3, 3)*\\hat{q}_{1}*\\hat{q}^2_{3}/2 + k_(2, 2)*\\hat{q}^2_{2}/2 + k_(2, 2, 2)*\\hat{q}^3_{2}/6 + k_(2, 2, 2, 2)*\\hat{q}^4_{2}/24 + k_(2, 2, 3, 3)*\\hat{q}^2_{2}*\\hat{q}^2_{3}/4 + k_(2, 3, 3)*\\hat{q}_{2}*\\hat{q}^2_{3}/2 + k_(3, 3)*\\hat{q}^2_{3}/2 + k_(3, 3, 3, 3)*\\hat{q}^4_{3}/24"
      ]
     },
     "metadata": {},
     "output_type": "display_data"
    }
   ],
   "source": [
    "am_pot = AssignManager(pot_sop)\n",
    "am_pot.assign()\n",
    "display(*am_pot.Wsym)\n",
    "W_prod = sympy.Mul(*am_pot.Wsym)\n",
    "print(*[f\"W{i}\" for i in range(am_pot.ndim)], \"=\")\n",
    "display(W_prod[0].expand())\n",
    "pot_mpo = am_pot.numerical_mpo(subs=subs)"
   ]
  },
  {
   "cell_type": "markdown",
   "id": "0ba3b421-606e-4d3d-836a-290cf67d30c0",
   "metadata": {},
   "source": [
    "### Setup Hamiltonian"
   ]
  },
  {
   "cell_type": "code",
   "execution_count": 10,
   "id": "4b1b3163",
   "metadata": {},
   "outputs": [],
   "source": [
    "# Save MPO: list[np.ndarray] for the succeeding propagation\n",
    "export_npz(pot_mpo, \"h2o_pot_mpo.npz\")\n",
    "export_npz(kin_mpo, \"h2o_kin_mpo.npz\")"
   ]
  },
  {
   "cell_type": "code",
   "execution_count": 11,
   "id": "b44fa929-ea10-435f-bf91-cce3fae2ef97",
   "metadata": {},
   "outputs": [],
   "source": [
    "# for potential MPO each core W has a single site \"leg\"\n",
    "# | | |\n",
    "# W-W-W\n",
    "# while for kinetic MPO each core W has two site \"legs\"\n",
    "# | | |\n",
    "# W-W-W\n",
    "# | | |\n",
    "\n",
    "potential = [\n",
    "    [\n",
    "        {\n",
    "            (tuple((i,) for i in range(0, ndim))): TensorOperator(mpo=pot_mpo),\n",
    "            (tuple((i, i) for i in range(0, ndim))): TensorOperator(\n",
    "                mpo=kin_mpo\n",
    "            ),\n",
    "        }\n",
    "    ]\n",
    "]\n",
    "\n",
    "H = TensorHamiltonian(\n",
    "    ndof=len(basis), potential=potential, kinetic=None, backend=backend\n",
    ")\n",
    "\n",
    "operators = {\"hamiltonian\": H}"
   ]
  },
  {
   "cell_type": "markdown",
   "id": "2b82c15c-62d4-474e-964b-49637a6dcd9c",
   "metadata": {
    "tags": []
   },
   "source": [
    "## 4. Set wavefunction (MPS) and All Model\n",
    "\n",
    "- `m_aux_max` is a bond dimension of MPS (maximum rank of auxiliary index $\\tau_p$)\n",
    "\n"
   ]
  },
  {
   "cell_type": "code",
   "execution_count": 12,
   "id": "79beeb3a-565e-4d80-bdb3-cc79a821f6f3",
   "metadata": {
    "ExecuteTime": {
     "end_time": "2023-06-27T09:40:32.903899Z",
     "start_time": "2023-06-27T09:40:32.902593Z"
    }
   },
   "outputs": [],
   "source": [
    "model = Model(basinfo, operators)\n",
    "model.m_aux_max = 9"
   ]
  },
  {
   "cell_type": "markdown",
   "id": "cb495b77-ca3f-4771-bae6-1a4d6dc1b503",
   "metadata": {},
   "source": [
    "## 5. Execute Calculation\n",
    "\n",
    "- time step width is defined by `stepsize`=0.1 fs"
   ]
  },
  {
   "cell_type": "markdown",
   "id": "d06941d9-23d2-40af-a92b-6afbc9fecedf",
   "metadata": {},
   "source": [
    "F.Y.I., See also documentation about [Simulator](https://qclovers.github.io/PyTDSCF/pytdscf.html#pytdscf.simulator_cls.Simulator)\n",
    "\n",
    "**NOTE**\n",
    "\n",
    "- Runtype cannot be rebound. If you change the runtype, you should restart the kernel.\n",
    "\n",
    "- Improved relaxation, i.e., diagonalization-based variational optimization, is much faster than pure imaginary time evolution.\n",
    "\n",
    "- When simulating larger systems, (f>6, m>10), contraction of tensors can be overhead, in such a situation JAX, especially supporting GPU, is recommended to use as a backend."
   ]
  },
  {
   "cell_type": "code",
   "execution_count": 13,
   "id": "fabba1c2-8b8a-4adc-a784-73d310737842",
   "metadata": {
    "ExecuteTime": {
     "end_time": "2023-06-27T09:40:33.348033Z",
     "start_time": "2023-06-27T09:40:32.905140Z"
    },
    "scrolled": true
   },
   "outputs": [
    {
     "name": "stderr",
     "output_type": "stream",
     "text": [
      "17:04:31 | INFO | \u001b[1m\u001b[35m\n",
      "     ____     __________   .____ ____   _____\n",
      "    / _  |   /__  __/ _ \\ / ___ / _  \\ / ___/\n",
      "   / /_) /_  __/ / / / ||/ /__ / / )_// /__\n",
      "  /  ___/ / / / / / / / |.__  / |  __/ ___/\n",
      " /  /  / /_/ / / / /_/ /___/ /| \\_/ / /\n",
      "/__/   \\__, /_/ /_____/_____/ \\____/_/\n",
      "      /____/\n",
      "\u001b[0m\n",
      "17:04:31 | INFO | Log file is ./h2o_polynomial_relax/main.log\n",
      "17:04:31 | INFO | Wave function is saved in wf_h2o_polynomial_gs.pkl\n",
      "17:04:31 | INFO | Start initial step    0.000 [fs]\n"
     ]
    },
    {
     "data": {
      "application/vnd.jupyter.widget-view+json": {
       "model_id": "067793c3eb924deca54e6e1cbfe5d570",
       "version_major": 2,
       "version_minor": 0
      },
      "text/plain": [
       "  0%|          | 0/20 [00:00<?, ?it/s]"
      ]
     },
     "metadata": {},
     "output_type": "display_data"
    },
    {
     "name": "stderr",
     "output_type": "stream",
     "text": [
      "17:04:31 | INFO | End     0 step; propagated    0.100 [fs]; AVG Krylov iteration: 3.00\n",
      "17:04:32 | INFO | Saved wavefunction    0.900 [fs]\n",
      "17:04:32 | INFO | Saved wavefunction    1.900 [fs]\n",
      "17:04:32 | INFO | End    19 step; propagated    1.900 [fs]; AVG Krylov iteration: 0.00\n",
      "17:04:32 | INFO | End simulation and save wavefunction\n",
      "17:04:32 | INFO | Wave function is saved in wf_h2o_polynomial_gs.pkl\n"
     ]
    },
    {
     "data": {
      "text/plain": [
       "(0.020855716347418774, <pytdscf.wavefunction.WFunc at 0x7f1557d90e60>)"
      ]
     },
     "execution_count": 13,
     "metadata": {},
     "output_type": "execute_result"
    }
   ],
   "source": [
    "jobname = \"h2o_polynomial\"\n",
    "simulator = Simulator(jobname, model, ci_type=\"MPS\", backend=\"Numpy\", verbose=4)\n",
    "simulator.relax(savefile_ext=\"_gs\", maxstep=20, stepsize=0.1)"
   ]
  },
  {
   "cell_type": "markdown",
   "id": "aee22b8b-88ad-469b-bb18-bf9b979386a8",
   "metadata": {},
   "source": [
    "## 6. Check Log file\n",
    "See `h2o_polynomial_relax/main.log`, which is defined in `jobname`"
   ]
  },
  {
   "cell_type": "code",
   "execution_count": 14,
   "id": "3024ea78-6f16-402f-9773-68595ab0eeba",
   "metadata": {
    "ExecuteTime": {
     "end_time": "2023-06-27T09:40:33.474647Z",
     "start_time": "2023-06-27T09:40:33.348571Z"
    }
   },
   "outputs": [
    {
     "name": "stdout",
     "output_type": "stream",
     "text": [
      "2025-06-18 17:04:32 | DEBUG | pytdscf.properties:_export_properties:395 - | pop 1.0000 | ene[eV]:  0.5675130 | time[fs]:    1.400 | elapsed[sec]:     0.17 | ci:  0.2  (ci_exp:  0.1|ci_rnm:  0.0|ci_etc:  0.0 d) |    0 MFLOPS (  0.0 s) \n",
      "2025-06-18 17:04:32 | DEBUG | pytdscf.properties:_export_properties:395 - | pop 1.0000 | ene[eV]:  0.5675130 | time[fs]:    1.500 | elapsed[sec]:     0.18 | ci:  0.2  (ci_exp:  0.1|ci_rnm:  0.0|ci_etc:  0.0 d) |    0 MFLOPS (  0.0 s) \n",
      "2025-06-18 17:04:32 | DEBUG | pytdscf.properties:_export_properties:395 - | pop 1.0000 | ene[eV]:  0.5675130 | time[fs]:    1.600 | elapsed[sec]:     0.18 | ci:  0.2  (ci_exp:  0.1|ci_rnm:  0.0|ci_etc:  0.0 d) |    0 MFLOPS (  0.0 s) \n",
      "2025-06-18 17:04:32 | DEBUG | pytdscf.properties:_export_properties:395 - | pop 1.0000 | ene[eV]:  0.5675130 | time[fs]:    1.700 | elapsed[sec]:     0.19 | ci:  0.2  (ci_exp:  0.2|ci_rnm:  0.0|ci_etc:  0.0 d) |    0 MFLOPS (  0.0 s) \n",
      "2025-06-18 17:04:32 | DEBUG | pytdscf.properties:_export_properties:395 - | pop 1.0000 | ene[eV]:  0.5675130 | time[fs]:    1.800 | elapsed[sec]:     0.19 | ci:  0.2  (ci_exp:  0.2|ci_rnm:  0.1|ci_etc:  0.0 d) |    0 MFLOPS (  0.0 s) \n",
      "2025-06-18 17:04:32 | INFO | pytdscf.simulator_cls:_execute:390 - Saved wavefunction    1.900 [fs]\n",
      "2025-06-18 17:04:32 | DEBUG | pytdscf.properties:_export_properties:395 - | pop 1.0000 | ene[eV]:  0.5675130 | time[fs]:    1.900 | elapsed[sec]:     0.20 | ci:  0.2  (ci_exp:  0.2|ci_rnm:  0.1|ci_etc:  0.0 d) |    0 MFLOPS (  0.0 s) \n",
      "2025-06-18 17:04:32 | INFO | pytdscf.simulator_cls:_execute:433 - End    19 step; propagated    1.900 [fs]; AVG Krylov iteration: 0.00\n",
      "2025-06-18 17:04:32 | INFO | pytdscf.simulator_cls:_execute:434 - End simulation and save wavefunction\n",
      "2025-06-18 17:04:32 | INFO | pytdscf.simulator_cls:save_wavefunction:558 - Wave function is saved in wf_h2o_polynomial_gs.pkl\n"
     ]
    }
   ],
   "source": [
    "!tail h2o_polynomial_relax/main.log"
   ]
  },
  {
   "cell_type": "markdown",
   "id": "a4134baf-d7bb-47ce-b801-328d64312b92",
   "metadata": {},
   "source": [
    "**Vibrational ground state energy is found to be `0.5675130` eV!**"
   ]
  }
 ],
 "metadata": {
  "kernelspec": {
   "display_name": "Python 3 (ipykernel)",
   "language": "python",
   "name": "python3"
  },
  "language_info": {
   "codemirror_mode": {
    "name": "ipython",
    "version": 3
   },
   "file_extension": ".py",
   "mimetype": "text/x-python",
   "name": "python",
   "nbconvert_exporter": "python",
   "pygments_lexer": "ipython3",
   "version": "3.12.2"
  }
 },
 "nbformat": 4,
 "nbformat_minor": 5
}
