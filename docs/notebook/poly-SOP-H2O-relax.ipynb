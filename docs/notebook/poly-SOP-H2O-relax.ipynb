{
 "cells": [
  {
   "cell_type": "markdown",
   "id": "bcbc9641-d5d1-4f1c-a168-804cff801d8e",
   "metadata": {},
   "source": [
    "# Example 1: Relaxation of H2O vibrational state under polynomial PES"
   ]
  },
  {
   "cell_type": "markdown",
   "id": "5dc1ef88-3e14-4b09-9568-f7054e64ffa8",
   "metadata": {},
   "source": [
    "| run type      | wavefunction | backend | Basis  | steps |\n",
    "| ---           | ---          | ---     | ---    | ---   |\n",
    "| improved relaxation | MPS-SM | Numpy   | HO-FBR | 20    |"
   ]
  },
  {
   "cell_type": "markdown",
   "id": "8f6cb8fc-68b4-4678-80fd-074826fb0668",
   "metadata": {},
   "source": [
    "<img src=\"../pic/h2o.png\" alt=\"h2o\" width=\"200\">"
   ]
  },
  {
   "cell_type": "markdown",
   "id": "d484ceaa-861c-4347-8cf0-52c3d5e6201b",
   "metadata": {},
   "source": [
    "## 1. Import modules"
   ]
  },
  {
   "cell_type": "markdown",
   "id": "0b50fd02-cf7c-42b5-a02d-ca3450ebf70e",
   "metadata": {},
   "source": [
    "- Required in **any** calculations"
   ]
  },
  {
   "cell_type": "code",
   "execution_count": 1,
   "id": "6460756f-ff3a-4c0f-a761-013f629aa161",
   "metadata": {
    "ExecuteTime": {
     "end_time": "2023-06-27T09:40:32.889813Z",
     "start_time": "2023-06-27T09:40:29.582879Z"
    }
   },
   "outputs": [],
   "source": [
    "from pytdscf import BasInfo, Model, Simulator"
   ]
  },
  {
   "cell_type": "markdown",
   "id": "eb10b01d-3471-4800-952a-ffc6857fe942",
   "metadata": {},
   "source": [
    "## 2. Set primitive basis as HO-FBR\n",
    "- FBR = Analytical integral of orthonormal basis\n",
    "- DVR = Numerical integral of Localized orthonormal basis\n",
    "\n",
    "|     | implemented | Supported operator | Supported backend |\n",
    "| --- | ---         | ---                | --- |\n",
    "| FBR | HO          | polynomial of Q and P (sum of product; SOP) | Numpy (recommended), JAX|\n",
    "| DVR | HO, Sine    | arbitrary function (matrix product operator; MPO) | Numpy, JAX (recommendend) |"
   ]
  },
  {
   "cell_type": "code",
   "execution_count": 2,
   "id": "4f8c1ad1-9b22-4e3a-9f48-8d8ecf847a53",
   "metadata": {
    "ExecuteTime": {
     "end_time": "2023-06-27T09:40:32.898778Z",
     "start_time": "2023-06-27T09:40:32.894127Z"
    },
    "collapsed": false,
    "jupyter": {
     "outputs_hidden": false
    }
   },
   "outputs": [
    {
     "data": {
      "text/plain": [
       "[1658.474247654297, 3754.3152168607007, 3855.639069744621]"
      ]
     },
     "execution_count": 2,
     "metadata": {},
     "output_type": "execute_result"
    }
   ],
   "source": [
    "from math import sqrt\n",
    "\n",
    "from discvar import PrimBas_HO\n",
    "\n",
    "from pytdscf import units\n",
    "from pytdscf.potentials.h2o_potential import k_orig\n",
    "\n",
    "freqs = [\n",
    "    sqrt(k_orig[(1, 1)]) * units.au_in_cm1,\n",
    "    sqrt(k_orig[(2, 2)]) * units.au_in_cm1,\n",
    "    sqrt(k_orig[(3, 3)]) * units.au_in_cm1,\n",
    "]  # a.u. (sqrt{omega^2} = omega)\n",
    "freqs  # in cm^{-1}"
   ]
  },
  {
   "cell_type": "code",
   "execution_count": 3,
   "id": "dbefa37c-9062-4436-bf2a-2fdfdd1f95d5",
   "metadata": {
    "ExecuteTime": {
     "end_time": "2023-06-27T09:40:32.898778Z",
     "start_time": "2023-06-27T09:40:32.894127Z"
    },
    "collapsed": false,
    "jupyter": {
     "outputs_hidden": false
    }
   },
   "outputs": [],
   "source": [
    "nprims = [9, 9, 9]  # Number of primitive basis\n",
    "prim_info = [\n",
    "    [\n",
    "        PrimBas_HO(0.0, omega, nprim)\n",
    "        for nprim, omega in zip(nprims, freqs, strict=False)\n",
    "    ]\n",
    "]\n",
    "nstate = len(\n",
    "    prim_info\n",
    ")  # len(prim_info) is number of state, in this case state is S0\n",
    "ndof = len(prim_info[0])  # Number of degree of freedom, H2O has 3 DOFs\n",
    "basinfo = BasInfo(prim_info, spf_info=None)  # Set basis information object"
   ]
  },
  {
   "cell_type": "markdown",
   "id": "83d3e0aa-ade3-4399-ad7a-0b4d5ef7456e",
   "metadata": {},
   "source": [
    "**MPS-MCTDH wavefunction**\n",
    "$$\n",
    "|\\Psi_{\\rm{MPS-MCTDH}}\\rangle = \\sum_{\\mathbf \\{j\\}}\\sum_{\\mathbf \\{\\tau\\}}\n",
    "a\\substack{j_1 \\\\ 1\\tau_1}a\\substack{j_2 \\\\ \\tau_1\\tau_2} \\cdots a\\substack{j_f \\\\ \\tau_{f-1}1}\n",
    "|\\varphi_{j_1}^{(1)}(q_1)\\rangle|\\varphi_{j_2}^{(2)}(q_2)\\rangle\n",
    "\\cdots|\\varphi_{j_f}^{(f)}(q_f)\\rangle\n",
    "$$\n",
    "where SPF is \n",
    "$$\n",
    "\\varphi_{j_p}^{(p)}(q_p) = \\sum_{i_p=1}^{n_p} c_{i_p}^{j_p}\\chi_{i_p}^{(p)}(q_p) \\; (j_p = 1,2,\\ldots, N_p)\n",
    "$$\n",
    "\n",
    "Here, select $\\{\\chi_{i_p}^{(p)}(q_p)\\}$ as Harmonic Oscillator eigenfunction.\n",
    "See detail in [documenation](https://qclovers.github.io/PyTDSCF/pytdscf.html#pytdscf.primints_cls.PrimBas_HO).\n",
    "Here one defines $n_p$ = 9, $N_p$ = 9. (i.e., Standard Method)\n",
    "\n",
    "**NOTE**\n",
    "\n",
    "- First argument of `Primbas_HO` is displaced dimensionless coordinate from q=0.0.\n",
    "\n",
    "- In MPS,  $n = N$ (SM) is usually better than $n < M$ (MCTDH).  Only when using a laptop computer, MCTDH sometimes works better. (because the required RAM in MCTDH is smaller than SM.)"
   ]
  },
  {
   "cell_type": "markdown",
   "id": "98a65e22-92d8-4732-84a8-e0231bb24560",
   "metadata": {},
   "source": [
    "## 3. Set Hamiltonian (Polynomial Function)"
   ]
  },
  {
   "cell_type": "markdown",
   "id": "af70e00d-0c9c-4a46-b764-c67e7fc2febf",
   "metadata": {},
   "source": [
    "- Here, one uses pre-calculated Polyonimal PES.\n",
    "- `read_potential_nMR` includes kinetic terms as default.\n",
    "- `k_orig` is the coefficients of Taylor expansion of PES in reference geometry by mass-weighted coordinate $Q_i$ (The unit of coordinate is **NOT AMU** but $\\sqrt{m_e}a_0$, i.e. atomic units)\n",
    "$$ V - V_0 = \\frac{k_{11}}{2!} Q_1^2 + \\frac{k_{22}}{2!} Q_2^2 + \\frac{k_{33}}{2!} Q_3^2 + \\frac{k_{111}}{3!} Q_1^3 + \\frac{k_{122}}{2!} Q_1Q_2^2 + \\cdots $$"
   ]
  },
  {
   "cell_type": "code",
   "execution_count": 4,
   "id": "55ba2249-7e19-4d83-9b08-1a405195fab3",
   "metadata": {},
   "outputs": [
    {
     "data": {
      "text/plain": [
       "defaultdict(float,\n",
       "            {(1, 1): 5.7101669772633975e-05,\n",
       "             (2, 2): 0.00029261245707294615,\n",
       "             (3, 3): 0.0003086200151857856,\n",
       "             (1, 1, 1): -8.973542624563865e-07,\n",
       "             (2, 2, 2): -1.8571147341445975e-05,\n",
       "             (1, 2, 2): 5.028987089424822e-07,\n",
       "             (1, 1, 2): 1.2870557913839666e-06,\n",
       "             (1, 3, 3): 2.0063268625796784e-06,\n",
       "             (2, 3, 3): -1.8853947560756764e-05,\n",
       "             (1, 1, 1, 1): -2.2778131948543168e-08,\n",
       "             (2, 2, 2, 2): 1.042951948572713e-06,\n",
       "             (3, 3, 3, 3): 1.1133748664915738e-06,\n",
       "             (1, 2, 2, 2): -8.193988329963448e-08,\n",
       "             (1, 1, 2, 2): -1.852073688081903e-07,\n",
       "             (1, 1, 1, 2): 5.750959195886642e-08,\n",
       "             (1, 1, 3, 3): -2.1211138514059556e-07,\n",
       "             (2, 2, 3, 3): 1.0721581542221527e-06,\n",
       "             (1, 2, 3, 3): -1.256574051408931e-07})"
      ]
     },
     "execution_count": 4,
     "metadata": {},
     "output_type": "execute_result"
    }
   ],
   "source": [
    "k_orig"
   ]
  },
  {
   "cell_type": "code",
   "execution_count": 5,
   "id": "fdad9f59-4ce1-47ed-8600-1652d55ff02c",
   "metadata": {
    "ExecuteTime": {
     "end_time": "2023-06-27T09:40:32.901971Z",
     "start_time": "2023-06-27T09:40:32.899912Z"
    },
    "scrolled": true,
    "tags": []
   },
   "outputs": [],
   "source": [
    "from pytdscf.hamiltonian_cls import read_potential_nMR\n",
    "\n",
    "hamiltonian = read_potential_nMR(k_orig, cut_off=-1.0e-10)\n",
    "operators = {\"hamiltonian\": hamiltonian}"
   ]
  },
  {
   "cell_type": "code",
   "execution_count": 6,
   "id": "bd34130d-0d0f-4bd7-80d0-cdb018b26ac4",
   "metadata": {},
   "outputs": [
    {
     "name": "stdout",
     "output_type": "stream",
     "text": [
      "Onesite operators: -5.0000e-01 d^2_0 -5.0000e-01 d^2_1 -5.0000e-01 d^2_2 +2.8551e-05 q^2_0 +1.4631e-04 q^2_1 +1.5431e-04 q^2_2 -1.4956e-07 q^3_0 -3.0952e-06 q^3_1 -9.4909e-10 q^4_0 +4.3456e-08 q^4_1 +4.6391e-08 q^4_2\n",
      "Multisite operators: +2.5145e-07 q^1_0 * q^2_1 +6.4353e-07 q^2_0 * q^1_1 +1.0032e-06 q^1_0 * q^2_2 -9.4270e-06 q^1_1 * q^2_2 -1.3657e-08 q^1_0 * q^3_1 -4.6302e-08 q^2_0 * q^2_1 +9.5849e-09 q^3_0 * q^1_1 -5.3028e-08 q^2_0 * q^2_2 +2.6804e-07 q^2_1 * q^2_2 -6.2829e-08 q^1_0 * q^1_1 * q^2_2\n"
     ]
    }
   ],
   "source": [
    "print(\"Onesite operators:\", *hamiltonian.onesite[0][0])\n",
    "print(\"Multisite operators:\", *hamiltonian.general[0][0])"
   ]
  },
  {
   "cell_type": "markdown",
   "id": "2b82c15c-62d4-474e-964b-49637a6dcd9c",
   "metadata": {
    "tags": []
   },
   "source": [
    "## 4. Set wavefunction (MPS) and All Model\n",
    "\n",
    "- `m_aux_max` is a bond dimension of MPS (maximum rank of auxiliary index $\\tau_p$)\n",
    "\n"
   ]
  },
  {
   "cell_type": "code",
   "execution_count": 7,
   "id": "79beeb3a-565e-4d80-bdb3-cc79a821f6f3",
   "metadata": {
    "ExecuteTime": {
     "end_time": "2023-06-27T09:40:32.903899Z",
     "start_time": "2023-06-27T09:40:32.902593Z"
    }
   },
   "outputs": [],
   "source": [
    "model = Model(basinfo, operators)\n",
    "model.m_aux_max = 9"
   ]
  },
  {
   "cell_type": "markdown",
   "id": "cb495b77-ca3f-4771-bae6-1a4d6dc1b503",
   "metadata": {},
   "source": [
    "## 5. Execute Calculation\n",
    "\n",
    "- time step width is defined by `stepsize`=0.1 fs"
   ]
  },
  {
   "cell_type": "markdown",
   "id": "d06941d9-23d2-40af-a92b-6afbc9fecedf",
   "metadata": {},
   "source": [
    "F.Y.I., See also documentation about [Simulator](https://qclovers.github.io/PyTDSCF/pytdscf.html#pytdscf.simulator_cls.Simulator)\n",
    "\n",
    "**NOTE**\n",
    "\n",
    "- Runtype cannot be rebound. If you change the runtype, you should restart the kernel.\n",
    "\n",
    "- Improved relaxation, i.e., diagonalization-based variational optimization, is much faster than pure imaginary time evolution.\n",
    "\n",
    "- When simulating larger systems, (f>6, m>10), contraction of tensors can be overhead, in such a situation JAX, especially supporting GPU, is recommended to use as a backend."
   ]
  },
  {
   "cell_type": "code",
   "execution_count": 8,
   "id": "fabba1c2-8b8a-4adc-a784-73d310737842",
   "metadata": {
    "ExecuteTime": {
     "end_time": "2023-06-27T09:40:33.348033Z",
     "start_time": "2023-06-27T09:40:32.905140Z"
    }
   },
   "outputs": [
    {
     "name": "stderr",
     "output_type": "stream",
     "text": [
      "2025-01-16 17:03:37,465 - INFO:main.pytdscf._const_cls - \u001b[1m\u001b[35m\n",
      "     ____     __________   .____ ____   _____\n",
      "    / _  |   /__  __/ _ \\ / ___ / _  \\ / ___/\n",
      "   / /_) /_  __/ / / / ||/ /__ / / )_// /__\n",
      "  /  ___/ / / / / / / / |.__  / |  __/ ___/\n",
      " /  /  / /_/ / / / /_/ /___/ /| \\_/ / /\n",
      "/__/   \\__, /_/ /_____/_____/ \\____/_/\n",
      "      /____/\n",
      "\u001b[0m\n",
      "2025-01-16 17:03:37,465 - INFO:main.pytdscf._const_cls - Log file is ./h2o_polynomial_relax/main.log\n",
      "2025-01-16 17:03:37,465 - INFO:main.pytdscf.simulator_cls - Set integral of FBR basis\n",
      "2025-01-16 17:03:37,481 - INFO:main.pytdscf.simulator_cls - Set initial wave function (FBR basis)\n",
      "2025-01-16 17:03:37,481 - INFO:main.pytdscf.simulator_cls - Prepare MPS w.f.\n",
      "2025-01-16 17:03:37,482 - INFO:main.pytdscf._mps_cls - Initial MPS: 0-state with weights 1.0\n",
      "2025-01-16 17:03:37,482 - INFO:main.pytdscf._mps_cls - Initial MPS: 0-state 0-mode with weight [     1.0000000000000      0.0000000000000      0.0000000000000      0.0000000000000      0.0000000000000      0.0000000000000      0.0000000000000      0.0000000000000      0.0000000000000]\n",
      "2025-01-16 17:03:37,482 - INFO:main.pytdscf._mps_cls - Initial MPS: 0-state 1-mode with weight [     1.0000000000000      0.0000000000000      0.0000000000000      0.0000000000000      0.0000000000000      0.0000000000000      0.0000000000000      0.0000000000000      0.0000000000000]\n",
      "2025-01-16 17:03:37,483 - INFO:main.pytdscf._mps_cls - Initial MPS: 0-state 2-mode with weight [     1.0000000000000      0.0000000000000      0.0000000000000      0.0000000000000      0.0000000000000      0.0000000000000      0.0000000000000      0.0000000000000      0.0000000000000]\n",
      "2025-01-16 17:03:37,487 - INFO:main.pytdscf.simulator_cls - Wave function is saved in wf_h2o_polynomial_gs.pkl\n",
      "2025-01-16 17:03:37,488 - INFO:main.pytdscf.simulator_cls - Start initial step    0.000 [fs]\n",
      "2025-01-16 17:03:37,547 - INFO:main.pytdscf.simulator_cls - End     0 step; propagated    0.100 [fs]; AVG Krylov iteration: 3.00\n",
      "2025-01-16 17:03:37,662 - INFO:main.pytdscf.simulator_cls - Saved wavefunction    0.900 [fs]\n",
      "2025-01-16 17:03:37,783 - INFO:main.pytdscf.simulator_cls - Saved wavefunction    1.900 [fs]\n",
      "2025-01-16 17:03:37,798 - INFO:main.pytdscf.simulator_cls - End    19 step; propagated    1.900 [fs]; AVG Krylov iteration: 0.00\n",
      "2025-01-16 17:03:37,798 - INFO:main.pytdscf.simulator_cls - End simulation and save wavefunction\n",
      "2025-01-16 17:03:37,801 - INFO:main.pytdscf.simulator_cls - Wave function is saved in wf_h2o_polynomial_gs.pkl\n"
     ]
    },
    {
     "data": {
      "text/plain": [
       "(0.020855716615548497, <pytdscf.wavefunction.WFunc at 0x11d9023c0>)"
      ]
     },
     "execution_count": 8,
     "metadata": {},
     "output_type": "execute_result"
    }
   ],
   "source": [
    "jobname = \"h2o_polynomial\"\n",
    "simulator = Simulator(jobname, model, ci_type=\"MPS\", backend=\"Numpy\", verbose=4)\n",
    "simulator.relax(savefile_ext=\"_gs\", maxstep=20, stepsize=0.1)"
   ]
  },
  {
   "cell_type": "markdown",
   "id": "aee22b8b-88ad-469b-bb18-bf9b979386a8",
   "metadata": {},
   "source": [
    "## 6. Check Log file\n",
    "See `h2o_polynomial_relax/main.log`, which is defined in `jobname`"
   ]
  },
  {
   "cell_type": "code",
   "execution_count": 9,
   "id": "3024ea78-6f16-402f-9773-68595ab0eeba",
   "metadata": {
    "ExecuteTime": {
     "end_time": "2023-06-27T09:40:33.474647Z",
     "start_time": "2023-06-27T09:40:33.348571Z"
    }
   },
   "outputs": [
    {
     "name": "stdout",
     "output_type": "stream",
     "text": [
      "| pop 1.0000 | ene[eV]:  0.5675130 | time[fs]:    1.400 | elapsed[sec]:     0.19 | ci:  0.2  (ci_exp:  0.1|ci_rnm:  0.1|ci_etc:  0.0 d) |    0 MFLOPS (  0.0 s) \n",
      "| pop 1.0000 | ene[eV]:  0.5675130 | time[fs]:    1.500 | elapsed[sec]:     0.20 | ci:  0.2  (ci_exp:  0.1|ci_rnm:  0.1|ci_etc:  0.0 d) |    0 MFLOPS (  0.0 s) \n",
      "| pop 1.0000 | ene[eV]:  0.5675130 | time[fs]:    1.600 | elapsed[sec]:     0.21 | ci:  0.2  (ci_exp:  0.1|ci_rnm:  0.1|ci_etc:  0.0 d) |    0 MFLOPS (  0.0 s) \n",
      "| pop 1.0000 | ene[eV]:  0.5675130 | time[fs]:    1.700 | elapsed[sec]:     0.22 | ci:  0.2  (ci_exp:  0.1|ci_rnm:  0.1|ci_etc:  0.0 d) |    0 MFLOPS (  0.0 s) \n",
      "| pop 1.0000 | ene[eV]:  0.5675130 | time[fs]:    1.800 | elapsed[sec]:     0.23 | ci:  0.2  (ci_exp:  0.1|ci_rnm:  0.1|ci_etc:  0.0 d) |    0 MFLOPS (  0.0 s) \n",
      "Saved wavefunction    1.900 [fs]\n",
      "| pop 1.0000 | ene[eV]:  0.5675130 | time[fs]:    1.900 | elapsed[sec]:     0.24 | ci:  0.2  (ci_exp:  0.1|ci_rnm:  0.1|ci_etc:  0.0 d) |    0 MFLOPS (  0.0 s) \n",
      "End    19 step; propagated    1.900 [fs]; AVG Krylov iteration: 0.00\n",
      "End simulation and save wavefunction\n",
      "Wave function is saved in wf_h2o_polynomial_gs.pkl\n"
     ]
    }
   ],
   "source": [
    "!tail h2o_polynomial_relax/main.log"
   ]
  },
  {
   "cell_type": "markdown",
   "id": "a4134baf-d7bb-47ce-b801-328d64312b92",
   "metadata": {},
   "source": [
    "**Vibrational ground state energy is found to be `0.5675130` eV!**"
   ]
  }
 ],
 "metadata": {
  "kernelspec": {
   "display_name": "Python 3 (ipykernel)",
   "language": "python",
   "name": "python3"
  },
  "language_info": {
   "codemirror_mode": {
    "name": "ipython",
    "version": 3
   },
   "file_extension": ".py",
   "mimetype": "text/x-python",
   "name": "python",
   "nbconvert_exporter": "python",
   "pygments_lexer": "ipython3",
   "version": "3.13.0"
  }
 },
 "nbformat": 4,
 "nbformat_minor": 5
}
