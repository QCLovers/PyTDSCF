{
 "cells": [
  {
   "cell_type": "markdown",
   "id": "62b82526-bce3-445d-ba8a-c49468318a49",
   "metadata": {},
   "source": [
    "# Example 13 donor-acceptor\n",
    "\n",
    "**This example takes a while. (a couple of hours)**\n",
    "\n",
    "- References\n",
    "  - [Dorfner, Maximilian FX, et al. \"Comparison of matrix product state and multiconfiguration time-dependent hartree methods for nonadiabatic dynamics of exciton dissociation.\" Journal of Chemical Theory and Computation 20.20 (2024): 8767-8781.](https://doi.org/10.1021/acs.jctc.4c00751)"
   ]
  },
  {
   "cell_type": "code",
   "execution_count": 1,
   "id": "41337829-548c-4cbc-aa8c-192f81fd713e",
   "metadata": {},
   "outputs": [
    {
     "name": "stdout",
     "output_type": "stream",
     "text": [
      "3.13.2 (main, Feb  4 2025, 14:51:09) [Clang 16.0.0 (clang-1600.0.26.6)]\n",
      "pytdscf version = 1.0.4\n",
      "macOS-15.4.1-x86_64-i386-64bit-Mach-O\n",
      "cpu\n"
     ]
    }
   ],
   "source": [
    "import platform\n",
    "import sys\n",
    "\n",
    "import pytdscf\n",
    "\n",
    "print(sys.version)\n",
    "print(f\"pytdscf version = {pytdscf.__version__}\")\n",
    "print(platform.platform())\n",
    "\n",
    "import jax.extend\n",
    "\n",
    "print(jax.extend.backend.get_backend().platform)"
   ]
  },
  {
   "cell_type": "code",
   "execution_count": 2,
   "id": "319c5882-8a0d-4e81-a69d-09a47abcca6f",
   "metadata": {},
   "outputs": [],
   "source": [
    "import matplotlib.pyplot as plt\n",
    "import numpy as np\n",
    "import sympy\n",
    "from discvar import Exponential, HarmonicOscillator, Sine\n",
    "from pympo import AssignManager, OpSite, SumOfProducts\n",
    "\n",
    "from pytdscf import BasInfo, Exciton, Boson, Model, Simulator, units\n",
    "from pytdscf.dvr_operator_cls import TensorOperator\n",
    "from pytdscf.hamiltonian_cls import TensorHamiltonian"
   ]
  },
  {
   "cell_type": "markdown",
   "id": "d273a5b9-b37c-4fc6-927f-08c42e57cfa7",
   "metadata": {},
   "source": [
    "## Model Hamiltonian\n",
    "\n",
    "This model contains two electronic states (LE and CS), one intermolecular mode, and 100 effective vibration modes.\n",
    "\n",
    "$$\n",
    "\\begin{align}\n",
    "H =& \\epsilon_{\\text{CS}} |\\text{CS}\\rangle \\langle \\text{CS}| + t_{\\text{LE,CS}} \\left[ |\\text{CS}\\rangle \\langle \\text{LE}| + |\\text{LE}\\rangle \\langle \\text{CS}| \\right] + \\sum_{\\mu} g^{\\mu}_{\\text{CS, CS}} |\\text{CS}\\rangle \\langle \\text{CS}| (b_{\\mu} + b_{\\mu}^\\dagger) \\\\ \n",
    " & + g^{R}_{\\text{CS, CS}} |\\text{CS}\\rangle \\langle \\text{CS}| (b_{R} + b_{R}^\\dagger) + g^{R}_{\\text{LE, CS}} \\left[|\\text{CS}\\rangle \\langle \\text{LE}| + |\\text{LE}\\rangle \\langle \\text{CS}|\\right] (b_{R} + b_{R}^\\dagger)\\\\\n",
    " & + \\omega_R b_R^\\dagger b_R + \\sum_{\\mu} \\omega_{\\mu} b_{\\mu}^\\dagger b_{\\mu} \n",
    "\\end{align}\n",
    "$$"
   ]
  },
  {
   "cell_type": "code",
   "execution_count": 3,
   "id": "a4827433",
   "metadata": {},
   "outputs": [],
   "source": [
    "backend = \"numpy\"\n",
    "use_bath = True\n",
    "\n",
    "epsilon = sympy.Symbol(\"ε\")\n",
    "t = sympy.Symbol(\"t_{LE, CS}\")\n",
    "g_cs = sympy.Symbol(\"g_{CS, CS}\")\n",
    "g_le = sympy.Symbol(\"g_{LE, CS}\")\n",
    "omega = sympy.Symbol(\"ω_R\")\n",
    "\n",
    "\n",
    "subs = {}\n",
    "subs[epsilon] = -0.079 / units.au_in_eV\n",
    "subs[t] = 0.130 / units.au_in_eV\n",
    "subs[g_cs] = 0.001 * 30 / (2**0.5) / units.au_in_eV\n",
    "subs[g_le] = -0.001 * 10 / (2**0.5) / units.au_in_eV\n",
    "subs[omega] = 0.001 * 10 / units.au_in_eV\n",
    "\n",
    "if use_bath:\n",
    "    bath_ω = (\n",
    "        np.array(\n",
    "            [\n",
    "                3.643,\n",
    "                7.286,\n",
    "                10.929,\n",
    "                14.573,\n",
    "                18.216,\n",
    "                21.859,\n",
    "                25.502,\n",
    "                29.145,\n",
    "                32.788,\n",
    "                36.431,\n",
    "                40.075,\n",
    "                43.718,\n",
    "                47.361,\n",
    "                51.004,\n",
    "                54.647,\n",
    "                58.29,\n",
    "                61.933,\n",
    "                65.577,\n",
    "                69.22,\n",
    "                72.863,\n",
    "                76.506,\n",
    "                80.149,\n",
    "                83.792,\n",
    "                87.435,\n",
    "                91.079,\n",
    "                94.722,\n",
    "                98.365,\n",
    "                102.008,\n",
    "                105.651,\n",
    "                109.294,\n",
    "                112.937,\n",
    "                116.581,\n",
    "                120.224,\n",
    "                123.867,\n",
    "                127.51,\n",
    "                131.153,\n",
    "                134.706,\n",
    "                138.439,\n",
    "                142.083,\n",
    "                145.726,\n",
    "                149.369,\n",
    "                153.012,\n",
    "                156.655,\n",
    "                160.298,\n",
    "                163.941,\n",
    "                167.585,\n",
    "                171.228,\n",
    "                174.871,\n",
    "                178.514,\n",
    "                182.157,\n",
    "                185.800,\n",
    "                189.443,\n",
    "                193.087,\n",
    "                196.730,\n",
    "                200.373,\n",
    "                204.016,\n",
    "                207.659,\n",
    "                211.302,\n",
    "                214.945,\n",
    "                218.589,\n",
    "                222.232,\n",
    "                225.875,\n",
    "                229.518,\n",
    "                233.161,\n",
    "                236.804,\n",
    "                240.447,\n",
    "                244.091,\n",
    "                247.734,\n",
    "                251.377,\n",
    "                255.020,\n",
    "                258.663,\n",
    "                262.306,\n",
    "                265.949,\n",
    "                269.593,\n",
    "                273.236,\n",
    "                276.879,\n",
    "                280.522,\n",
    "                284.165,\n",
    "                287.808,\n",
    "                291.451,\n",
    "                295.095,\n",
    "                298.738,\n",
    "                302.381,\n",
    "                306.024,\n",
    "                309.667,\n",
    "                313.310,\n",
    "                316.953,\n",
    "                320.597,\n",
    "                324.240,\n",
    "                327.883,\n",
    "                331.526,\n",
    "                335.169,\n",
    "                338.812,\n",
    "                342.455,\n",
    "                346.099,\n",
    "                349.742,\n",
    "                353.385,\n",
    "                357.028,\n",
    "                360.671,\n",
    "            ]\n",
    "        )\n",
    "        / 1000 / units.au_in_eV\n",
    "    )\n",
    "\n",
    "    g_cs2 = (\n",
    "        np.array(\n",
    "            [\n",
    "                2.511,\n",
    "                2.359,\n",
    "                2.347,\n",
    "                2.586,\n",
    "                3.190,\n",
    "                4.203,\n",
    "                5.224,\n",
    "                5.741,\n",
    "                5.572,\n",
    "                5.547,\n",
    "                6.578,\n",
    "                8.456,\n",
    "                9.935,\n",
    "                10.056,\n",
    "                9.147,\n",
    "                8.002,\n",
    "                7.379,\n",
    "                8.038,\n",
    "                10.582,\n",
    "                14.242,\n",
    "                17.279,\n",
    "                18.380,\n",
    "                17.698,\n",
    "                15.808,\n",
    "                13.623,\n",
    "                12.158,\n",
    "                11.779,\n",
    "                12.196,\n",
    "                13.061,\n",
    "                13.549,\n",
    "                12.606,\n",
    "                10.303,\n",
    "                8.069,\n",
    "                7.192,\n",
    "                7.630,\n",
    "                8.721,\n",
    "                9.858,\n",
    "                10.601,\n",
    "                10.599,\n",
    "                10.123,\n",
    "                10.344,\n",
    "                12.335,\n",
    "                15.285,\n",
    "                16.939,\n",
    "                16.095,\n",
    "                14.735,\n",
    "                15.279,\n",
    "                19.071,\n",
    "                26.827,\n",
    "                38.225,\n",
    "                47.272,\n",
    "                47.873,\n",
    "                43.415,\n",
    "                39.088,\n",
    "                34.622,\n",
    "                28.686,\n",
    "                22.148,\n",
    "                16.585,\n",
    "                12.443,\n",
    "                9.701,\n",
    "                8.142,\n",
    "                7.254,\n",
    "                6.554,\n",
    "                5.910,\n",
    "                5.362,\n",
    "                4.932,\n",
    "                4.586,\n",
    "                4.287,\n",
    "                4.020,\n",
    "                3.785,\n",
    "                3.578,\n",
    "                3.395,\n",
    "                3.230,\n",
    "                3.081,\n",
    "                2.945,\n",
    "                2.822,\n",
    "                2.709,\n",
    "                2.605,\n",
    "                2.509,\n",
    "                2.420,\n",
    "                2.338,\n",
    "                2.262,\n",
    "                2.190,\n",
    "                2.123,\n",
    "                2.061,\n",
    "                2.003,\n",
    "                1.948,\n",
    "                1.897,\n",
    "                1.848,\n",
    "                1.803,\n",
    "                1.761,\n",
    "                1.721,\n",
    "                1.685,\n",
    "                1.650,\n",
    "                1.619,\n",
    "                1.593,\n",
    "                1.573,\n",
    "                1.552,\n",
    "                1.530,\n",
    "            ]\n",
    "        )\n",
    "        / 1000 / units.au_in_eV\n",
    "    )\n",
    "\n",
    "    ω_symbols = [None]\n",
    "    g_symbols = [None]\n",
    "    for i, (ω, g) in enumerate(zip(bath_ω, g_cs2, strict=True)):\n",
    "        ω_symbols.append(sympy.Symbol(f\"omega_{i+2}\"))\n",
    "        g_symbols.append(sympy.Symbol(f\"g_{i+2}\"))\n",
    "        subs[ω_symbols[-1]] = ω\n",
    "        subs[g_symbols[-1]] = g"
   ]
  },
  {
   "cell_type": "markdown",
   "id": "f6ea2ee8-478a-46c2-87be-efbe1c9133c8",
   "metadata": {},
   "source": [
    "### Setup basis for wavefunction"
   ]
  },
  {
   "cell_type": "code",
   "execution_count": 4,
   "id": "b895367d-c806-4222-8b20-871a9efe63c0",
   "metadata": {},
   "outputs": [
    {
     "name": "stdout",
     "output_type": "stream",
     "text": [
      "101\n"
     ]
    }
   ],
   "source": [
    "basis = [Exciton(nstate=2, names=[\"LE\", \"CS\"]), ] + [Boson(nstate=28)]*len(ω_symbols)\n",
    "\n",
    "basinfo = BasInfo([basis])\n",
    "ndim = len(basis)\n",
    "print(ndim)"
   ]
  },
  {
   "cell_type": "markdown",
   "id": "ace34dfd-0bad-4343-9331-fabb3529e3ca",
   "metadata": {},
   "source": [
    "**Note**\n",
    "- If you want more precise result, it may work to increase nstate of Boson."
   ]
  },
  {
   "cell_type": "markdown",
   "id": "cf36c134-2da7-4d12-a0d2-517badb54bab",
   "metadata": {},
   "source": [
    "### Setup one particle operator"
   ]
  },
  {
   "cell_type": "code",
   "execution_count": 5,
   "id": "325a3a63-86b9-416c-8ff3-3c4bac05920b",
   "metadata": {},
   "outputs": [],
   "source": [
    "a = basis[0].get_annihilation_matrix()\n",
    "adag = basis[0].get_creation_matrix()\n",
    "\n",
    "b = basis[1].get_annihilation_matrix()\n",
    "bdag = basis[1].get_creation_matrix()\n",
    "\n",
    "a_op = OpSite(\"a_0\", 0, value=a)\n",
    "adag_op = OpSite(r\"a^\\dagger_0\", 0, value=adag)\n",
    "\n",
    "b_ops = [None] + [\n",
    "    OpSite(\"b_{\" + f\"{i}\" + \"}\", i, value=b) for i in range(1, ndim)\n",
    "]\n",
    "bdag_ops = [None] + [\n",
    "    OpSite(r\"b^\\dagger\" + \"_{\" + f\"{i}\" + \"}\", i, value=bdag)\n",
    "    for i in range(1, ndim)\n",
    "]"
   ]
  },
  {
   "cell_type": "markdown",
   "id": "7983e6d5-0b47-4b9a-80fc-834e9f1b8aed",
   "metadata": {},
   "source": [
    "### Setup potential and kinetic operator"
   ]
  },
  {
   "cell_type": "code",
   "execution_count": 6,
   "id": "0b0dc196-ebd9-46cf-8cc8-bdbcbcf2f3a7",
   "metadata": {},
   "outputs": [
    {
     "data": {
      "text/latex": [
       "$\\displaystyle g_{10} a^{\\dagger}_{0} a_{0} \\left(b^\\dagger_{10} + b_{10}\\right) + g_{100} a^{\\dagger}_{0} a_{0} \\left(b^\\dagger_{100} + b_{100}\\right) + g_{11} a^{\\dagger}_{0} a_{0} \\left(b^\\dagger_{11} + b_{11}\\right) + g_{12} a^{\\dagger}_{0} a_{0} \\left(b^\\dagger_{12} + b_{12}\\right) + g_{13} a^{\\dagger}_{0} a_{0} \\left(b^\\dagger_{13} + b_{13}\\right) + g_{14} a^{\\dagger}_{0} a_{0} \\left(b^\\dagger_{14} + b_{14}\\right) + g_{15} a^{\\dagger}_{0} a_{0} \\left(b^\\dagger_{15} + b_{15}\\right) + g_{16} a^{\\dagger}_{0} a_{0} \\left(b^\\dagger_{16} + b_{16}\\right) + g_{17} a^{\\dagger}_{0} a_{0} \\left(b^\\dagger_{17} + b_{17}\\right) + g_{18} a^{\\dagger}_{0} a_{0} \\left(b^\\dagger_{18} + b_{18}\\right) + g_{19} a^{\\dagger}_{0} a_{0} \\left(b^\\dagger_{19} + b_{19}\\right) + g_{2} a^{\\dagger}_{0} a_{0} \\left(b^\\dagger_{2} + b_{2}\\right) + g_{20} a^{\\dagger}_{0} a_{0} \\left(b^\\dagger_{20} + b_{20}\\right) + g_{21} a^{\\dagger}_{0} a_{0} \\left(b^\\dagger_{21} + b_{21}\\right) + g_{22} a^{\\dagger}_{0} a_{0} \\left(b^\\dagger_{22} + b_{22}\\right) + g_{23} a^{\\dagger}_{0} a_{0} \\left(b^\\dagger_{23} + b_{23}\\right) + g_{24} a^{\\dagger}_{0} a_{0} \\left(b^\\dagger_{24} + b_{24}\\right) + g_{25} a^{\\dagger}_{0} a_{0} \\left(b^\\dagger_{25} + b_{25}\\right) + g_{26} a^{\\dagger}_{0} a_{0} \\left(b^\\dagger_{26} + b_{26}\\right) + g_{27} a^{\\dagger}_{0} a_{0} \\left(b^\\dagger_{27} + b_{27}\\right) + g_{28} a^{\\dagger}_{0} a_{0} \\left(b^\\dagger_{28} + b_{28}\\right) + g_{29} a^{\\dagger}_{0} a_{0} \\left(b^\\dagger_{29} + b_{29}\\right) + g_{3} a^{\\dagger}_{0} a_{0} \\left(b^\\dagger_{3} + b_{3}\\right) + g_{30} a^{\\dagger}_{0} a_{0} \\left(b^\\dagger_{30} + b_{30}\\right) + g_{31} a^{\\dagger}_{0} a_{0} \\left(b^\\dagger_{31} + b_{31}\\right) + g_{32} a^{\\dagger}_{0} a_{0} \\left(b^\\dagger_{32} + b_{32}\\right) + g_{33} a^{\\dagger}_{0} a_{0} \\left(b^\\dagger_{33} + b_{33}\\right) + g_{34} a^{\\dagger}_{0} a_{0} \\left(b^\\dagger_{34} + b_{34}\\right) + g_{35} a^{\\dagger}_{0} a_{0} \\left(b^\\dagger_{35} + b_{35}\\right) + g_{36} a^{\\dagger}_{0} a_{0} \\left(b^\\dagger_{36} + b_{36}\\right) + g_{37} a^{\\dagger}_{0} a_{0} \\left(b^\\dagger_{37} + b_{37}\\right) + g_{38} a^{\\dagger}_{0} a_{0} \\left(b^\\dagger_{38} + b_{38}\\right) + g_{39} a^{\\dagger}_{0} a_{0} \\left(b^\\dagger_{39} + b_{39}\\right) + g_{4} a^{\\dagger}_{0} a_{0} \\left(b^\\dagger_{4} + b_{4}\\right) + g_{40} a^{\\dagger}_{0} a_{0} \\left(b^\\dagger_{40} + b_{40}\\right) + g_{41} a^{\\dagger}_{0} a_{0} \\left(b^\\dagger_{41} + b_{41}\\right) + g_{42} a^{\\dagger}_{0} a_{0} \\left(b^\\dagger_{42} + b_{42}\\right) + g_{43} a^{\\dagger}_{0} a_{0} \\left(b^\\dagger_{43} + b_{43}\\right) + g_{44} a^{\\dagger}_{0} a_{0} \\left(b^\\dagger_{44} + b_{44}\\right) + g_{45} a^{\\dagger}_{0} a_{0} \\left(b^\\dagger_{45} + b_{45}\\right) + g_{46} a^{\\dagger}_{0} a_{0} \\left(b^\\dagger_{46} + b_{46}\\right) + g_{47} a^{\\dagger}_{0} a_{0} \\left(b^\\dagger_{47} + b_{47}\\right) + g_{48} a^{\\dagger}_{0} a_{0} \\left(b^\\dagger_{48} + b_{48}\\right) + g_{49} a^{\\dagger}_{0} a_{0} \\left(b^\\dagger_{49} + b_{49}\\right) + g_{5} a^{\\dagger}_{0} a_{0} \\left(b^\\dagger_{5} + b_{5}\\right) + g_{50} a^{\\dagger}_{0} a_{0} \\left(b^\\dagger_{50} + b_{50}\\right) + g_{51} a^{\\dagger}_{0} a_{0} \\left(b^\\dagger_{51} + b_{51}\\right) + g_{52} a^{\\dagger}_{0} a_{0} \\left(b^\\dagger_{52} + b_{52}\\right) + g_{53} a^{\\dagger}_{0} a_{0} \\left(b^\\dagger_{53} + b_{53}\\right) + g_{54} a^{\\dagger}_{0} a_{0} \\left(b^\\dagger_{54} + b_{54}\\right) + g_{55} a^{\\dagger}_{0} a_{0} \\left(b^\\dagger_{55} + b_{55}\\right) + g_{56} a^{\\dagger}_{0} a_{0} \\left(b^\\dagger_{56} + b_{56}\\right) + g_{57} a^{\\dagger}_{0} a_{0} \\left(b^\\dagger_{57} + b_{57}\\right) + g_{58} a^{\\dagger}_{0} a_{0} \\left(b^\\dagger_{58} + b_{58}\\right) + g_{59} a^{\\dagger}_{0} a_{0} \\left(b^\\dagger_{59} + b_{59}\\right) + g_{6} a^{\\dagger}_{0} a_{0} \\left(b^\\dagger_{6} + b_{6}\\right) + g_{60} a^{\\dagger}_{0} a_{0} \\left(b^\\dagger_{60} + b_{60}\\right) + g_{61} a^{\\dagger}_{0} a_{0} \\left(b^\\dagger_{61} + b_{61}\\right) + g_{62} a^{\\dagger}_{0} a_{0} \\left(b^\\dagger_{62} + b_{62}\\right) + g_{63} a^{\\dagger}_{0} a_{0} \\left(b^\\dagger_{63} + b_{63}\\right) + g_{64} a^{\\dagger}_{0} a_{0} \\left(b^\\dagger_{64} + b_{64}\\right) + g_{65} a^{\\dagger}_{0} a_{0} \\left(b^\\dagger_{65} + b_{65}\\right) + g_{66} a^{\\dagger}_{0} a_{0} \\left(b^\\dagger_{66} + b_{66}\\right) + g_{67} a^{\\dagger}_{0} a_{0} \\left(b^\\dagger_{67} + b_{67}\\right) + g_{68} a^{\\dagger}_{0} a_{0} \\left(b^\\dagger_{68} + b_{68}\\right) + g_{69} a^{\\dagger}_{0} a_{0} \\left(b^\\dagger_{69} + b_{69}\\right) + g_{7} a^{\\dagger}_{0} a_{0} \\left(b^\\dagger_{7} + b_{7}\\right) + g_{70} a^{\\dagger}_{0} a_{0} \\left(b^\\dagger_{70} + b_{70}\\right) + g_{71} a^{\\dagger}_{0} a_{0} \\left(b^\\dagger_{71} + b_{71}\\right) + g_{72} a^{\\dagger}_{0} a_{0} \\left(b^\\dagger_{72} + b_{72}\\right) + g_{73} a^{\\dagger}_{0} a_{0} \\left(b^\\dagger_{73} + b_{73}\\right) + g_{74} a^{\\dagger}_{0} a_{0} \\left(b^\\dagger_{74} + b_{74}\\right) + g_{75} a^{\\dagger}_{0} a_{0} \\left(b^\\dagger_{75} + b_{75}\\right) + g_{76} a^{\\dagger}_{0} a_{0} \\left(b^\\dagger_{76} + b_{76}\\right) + g_{77} a^{\\dagger}_{0} a_{0} \\left(b^\\dagger_{77} + b_{77}\\right) + g_{78} a^{\\dagger}_{0} a_{0} \\left(b^\\dagger_{78} + b_{78}\\right) + g_{79} a^{\\dagger}_{0} a_{0} \\left(b^\\dagger_{79} + b_{79}\\right) + g_{8} a^{\\dagger}_{0} a_{0} \\left(b^\\dagger_{8} + b_{8}\\right) + g_{80} a^{\\dagger}_{0} a_{0} \\left(b^\\dagger_{80} + b_{80}\\right) + g_{81} a^{\\dagger}_{0} a_{0} \\left(b^\\dagger_{81} + b_{81}\\right) + g_{82} a^{\\dagger}_{0} a_{0} \\left(b^\\dagger_{82} + b_{82}\\right) + g_{83} a^{\\dagger}_{0} a_{0} \\left(b^\\dagger_{83} + b_{83}\\right) + g_{84} a^{\\dagger}_{0} a_{0} \\left(b^\\dagger_{84} + b_{84}\\right) + g_{85} a^{\\dagger}_{0} a_{0} \\left(b^\\dagger_{85} + b_{85}\\right) + g_{86} a^{\\dagger}_{0} a_{0} \\left(b^\\dagger_{86} + b_{86}\\right) + g_{87} a^{\\dagger}_{0} a_{0} \\left(b^\\dagger_{87} + b_{87}\\right) + g_{88} a^{\\dagger}_{0} a_{0} \\left(b^\\dagger_{88} + b_{88}\\right) + g_{89} a^{\\dagger}_{0} a_{0} \\left(b^\\dagger_{89} + b_{89}\\right) + g_{9} a^{\\dagger}_{0} a_{0} \\left(b^\\dagger_{9} + b_{9}\\right) + g_{90} a^{\\dagger}_{0} a_{0} \\left(b^\\dagger_{90} + b_{90}\\right) + g_{91} a^{\\dagger}_{0} a_{0} \\left(b^\\dagger_{91} + b_{91}\\right) + g_{92} a^{\\dagger}_{0} a_{0} \\left(b^\\dagger_{92} + b_{92}\\right) + g_{93} a^{\\dagger}_{0} a_{0} \\left(b^\\dagger_{93} + b_{93}\\right) + g_{94} a^{\\dagger}_{0} a_{0} \\left(b^\\dagger_{94} + b_{94}\\right) + g_{95} a^{\\dagger}_{0} a_{0} \\left(b^\\dagger_{95} + b_{95}\\right) + g_{96} a^{\\dagger}_{0} a_{0} \\left(b^\\dagger_{96} + b_{96}\\right) + g_{97} a^{\\dagger}_{0} a_{0} \\left(b^\\dagger_{97} + b_{97}\\right) + g_{98} a^{\\dagger}_{0} a_{0} \\left(b^\\dagger_{98} + b_{98}\\right) + g_{99} a^{\\dagger}_{0} a_{0} \\left(b^\\dagger_{99} + b_{99}\\right) + g_{CS, CS} a^{\\dagger}_{0} a_{0} \\left(b^\\dagger_{1} + b_{1}\\right) + g_{LE, CS} a^{\\dagger}_{0} \\left(b^\\dagger_{1} + b_{1}\\right) + g_{LE, CS} a_{0} \\left(b^\\dagger_{1} + b_{1}\\right) + \\omega_{10} b^\\dagger_{10} b_{10} + \\omega_{100} b^\\dagger_{100} b_{100} + \\omega_{11} b^\\dagger_{11} b_{11} + \\omega_{12} b^\\dagger_{12} b_{12} + \\omega_{13} b^\\dagger_{13} b_{13} + \\omega_{14} b^\\dagger_{14} b_{14} + \\omega_{15} b^\\dagger_{15} b_{15} + \\omega_{16} b^\\dagger_{16} b_{16} + \\omega_{17} b^\\dagger_{17} b_{17} + \\omega_{18} b^\\dagger_{18} b_{18} + \\omega_{19} b^\\dagger_{19} b_{19} + \\omega_{2} b^\\dagger_{2} b_{2} + \\omega_{20} b^\\dagger_{20} b_{20} + \\omega_{21} b^\\dagger_{21} b_{21} + \\omega_{22} b^\\dagger_{22} b_{22} + \\omega_{23} b^\\dagger_{23} b_{23} + \\omega_{24} b^\\dagger_{24} b_{24} + \\omega_{25} b^\\dagger_{25} b_{25} + \\omega_{26} b^\\dagger_{26} b_{26} + \\omega_{27} b^\\dagger_{27} b_{27} + \\omega_{28} b^\\dagger_{28} b_{28} + \\omega_{29} b^\\dagger_{29} b_{29} + \\omega_{3} b^\\dagger_{3} b_{3} + \\omega_{30} b^\\dagger_{30} b_{30} + \\omega_{31} b^\\dagger_{31} b_{31} + \\omega_{32} b^\\dagger_{32} b_{32} + \\omega_{33} b^\\dagger_{33} b_{33} + \\omega_{34} b^\\dagger_{34} b_{34} + \\omega_{35} b^\\dagger_{35} b_{35} + \\omega_{36} b^\\dagger_{36} b_{36} + \\omega_{37} b^\\dagger_{37} b_{37} + \\omega_{38} b^\\dagger_{38} b_{38} + \\omega_{39} b^\\dagger_{39} b_{39} + \\omega_{4} b^\\dagger_{4} b_{4} + \\omega_{40} b^\\dagger_{40} b_{40} + \\omega_{41} b^\\dagger_{41} b_{41} + \\omega_{42} b^\\dagger_{42} b_{42} + \\omega_{43} b^\\dagger_{43} b_{43} + \\omega_{44} b^\\dagger_{44} b_{44} + \\omega_{45} b^\\dagger_{45} b_{45} + \\omega_{46} b^\\dagger_{46} b_{46} + \\omega_{47} b^\\dagger_{47} b_{47} + \\omega_{48} b^\\dagger_{48} b_{48} + \\omega_{49} b^\\dagger_{49} b_{49} + \\omega_{5} b^\\dagger_{5} b_{5} + \\omega_{50} b^\\dagger_{50} b_{50} + \\omega_{51} b^\\dagger_{51} b_{51} + \\omega_{52} b^\\dagger_{52} b_{52} + \\omega_{53} b^\\dagger_{53} b_{53} + \\omega_{54} b^\\dagger_{54} b_{54} + \\omega_{55} b^\\dagger_{55} b_{55} + \\omega_{56} b^\\dagger_{56} b_{56} + \\omega_{57} b^\\dagger_{57} b_{57} + \\omega_{58} b^\\dagger_{58} b_{58} + \\omega_{59} b^\\dagger_{59} b_{59} + \\omega_{6} b^\\dagger_{6} b_{6} + \\omega_{60} b^\\dagger_{60} b_{60} + \\omega_{61} b^\\dagger_{61} b_{61} + \\omega_{62} b^\\dagger_{62} b_{62} + \\omega_{63} b^\\dagger_{63} b_{63} + \\omega_{64} b^\\dagger_{64} b_{64} + \\omega_{65} b^\\dagger_{65} b_{65} + \\omega_{66} b^\\dagger_{66} b_{66} + \\omega_{67} b^\\dagger_{67} b_{67} + \\omega_{68} b^\\dagger_{68} b_{68} + \\omega_{69} b^\\dagger_{69} b_{69} + \\omega_{7} b^\\dagger_{7} b_{7} + \\omega_{70} b^\\dagger_{70} b_{70} + \\omega_{71} b^\\dagger_{71} b_{71} + \\omega_{72} b^\\dagger_{72} b_{72} + \\omega_{73} b^\\dagger_{73} b_{73} + \\omega_{74} b^\\dagger_{74} b_{74} + \\omega_{75} b^\\dagger_{75} b_{75} + \\omega_{76} b^\\dagger_{76} b_{76} + \\omega_{77} b^\\dagger_{77} b_{77} + \\omega_{78} b^\\dagger_{78} b_{78} + \\omega_{79} b^\\dagger_{79} b_{79} + \\omega_{8} b^\\dagger_{8} b_{8} + \\omega_{80} b^\\dagger_{80} b_{80} + \\omega_{81} b^\\dagger_{81} b_{81} + \\omega_{82} b^\\dagger_{82} b_{82} + \\omega_{83} b^\\dagger_{83} b_{83} + \\omega_{84} b^\\dagger_{84} b_{84} + \\omega_{85} b^\\dagger_{85} b_{85} + \\omega_{86} b^\\dagger_{86} b_{86} + \\omega_{87} b^\\dagger_{87} b_{87} + \\omega_{88} b^\\dagger_{88} b_{88} + \\omega_{89} b^\\dagger_{89} b_{89} + \\omega_{9} b^\\dagger_{9} b_{9} + \\omega_{90} b^\\dagger_{90} b_{90} + \\omega_{91} b^\\dagger_{91} b_{91} + \\omega_{92} b^\\dagger_{92} b_{92} + \\omega_{93} b^\\dagger_{93} b_{93} + \\omega_{94} b^\\dagger_{94} b_{94} + \\omega_{95} b^\\dagger_{95} b_{95} + \\omega_{96} b^\\dagger_{96} b_{96} + \\omega_{97} b^\\dagger_{97} b_{97} + \\omega_{98} b^\\dagger_{98} b_{98} + \\omega_{99} b^\\dagger_{99} b_{99} + t_{LE, CS} \\left(a^{\\dagger}_{0} + a_{0}\\right) + ε a^{\\dagger}_{0} a_{0} + ω_{R} b^\\dagger_{1} b_{1}$"
      ],
      "text/plain": [
       "g_10*a^\\dagger_0*a_0*(b^\\dagger_{10} + b_{10}) + g_100*a^\\dagger_0*a_0*(b^\\dagger_{100} + b_{100}) + g_11*a^\\dagger_0*a_0*(b^\\dagger_{11} + b_{11}) + g_12*a^\\dagger_0*a_0*(b^\\dagger_{12} + b_{12}) + g_13*a^\\dagger_0*a_0*(b^\\dagger_{13} + b_{13}) + g_14*a^\\dagger_0*a_0*(b^\\dagger_{14} + b_{14}) + g_15*a^\\dagger_0*a_0*(b^\\dagger_{15} + b_{15}) + g_16*a^\\dagger_0*a_0*(b^\\dagger_{16} + b_{16}) + g_17*a^\\dagger_0*a_0*(b^\\dagger_{17} + b_{17}) + g_18*a^\\dagger_0*a_0*(b^\\dagger_{18} + b_{18}) + g_19*a^\\dagger_0*a_0*(b^\\dagger_{19} + b_{19}) + g_2*a^\\dagger_0*a_0*(b^\\dagger_{2} + b_{2}) + g_20*a^\\dagger_0*a_0*(b^\\dagger_{20} + b_{20}) + g_21*a^\\dagger_0*a_0*(b^\\dagger_{21} + b_{21}) + g_22*a^\\dagger_0*a_0*(b^\\dagger_{22} + b_{22}) + g_23*a^\\dagger_0*a_0*(b^\\dagger_{23} + b_{23}) + g_24*a^\\dagger_0*a_0*(b^\\dagger_{24} + b_{24}) + g_25*a^\\dagger_0*a_0*(b^\\dagger_{25} + b_{25}) + g_26*a^\\dagger_0*a_0*(b^\\dagger_{26} + b_{26}) + g_27*a^\\dagger_0*a_0*(b^\\dagger_{27} + b_{27}) + g_28*a^\\dagger_0*a_0*(b^\\dagger_{28} + b_{28}) + g_29*a^\\dagger_0*a_0*(b^\\dagger_{29} + b_{29}) + g_3*a^\\dagger_0*a_0*(b^\\dagger_{3} + b_{3}) + g_30*a^\\dagger_0*a_0*(b^\\dagger_{30} + b_{30}) + g_31*a^\\dagger_0*a_0*(b^\\dagger_{31} + b_{31}) + g_32*a^\\dagger_0*a_0*(b^\\dagger_{32} + b_{32}) + g_33*a^\\dagger_0*a_0*(b^\\dagger_{33} + b_{33}) + g_34*a^\\dagger_0*a_0*(b^\\dagger_{34} + b_{34}) + g_35*a^\\dagger_0*a_0*(b^\\dagger_{35} + b_{35}) + g_36*a^\\dagger_0*a_0*(b^\\dagger_{36} + b_{36}) + g_37*a^\\dagger_0*a_0*(b^\\dagger_{37} + b_{37}) + g_38*a^\\dagger_0*a_0*(b^\\dagger_{38} + b_{38}) + g_39*a^\\dagger_0*a_0*(b^\\dagger_{39} + b_{39}) + g_4*a^\\dagger_0*a_0*(b^\\dagger_{4} + b_{4}) + g_40*a^\\dagger_0*a_0*(b^\\dagger_{40} + b_{40}) + g_41*a^\\dagger_0*a_0*(b^\\dagger_{41} + b_{41}) + g_42*a^\\dagger_0*a_0*(b^\\dagger_{42} + b_{42}) + g_43*a^\\dagger_0*a_0*(b^\\dagger_{43} + b_{43}) + g_44*a^\\dagger_0*a_0*(b^\\dagger_{44} + b_{44}) + g_45*a^\\dagger_0*a_0*(b^\\dagger_{45} + b_{45}) + g_46*a^\\dagger_0*a_0*(b^\\dagger_{46} + b_{46}) + g_47*a^\\dagger_0*a_0*(b^\\dagger_{47} + b_{47}) + g_48*a^\\dagger_0*a_0*(b^\\dagger_{48} + b_{48}) + g_49*a^\\dagger_0*a_0*(b^\\dagger_{49} + b_{49}) + g_5*a^\\dagger_0*a_0*(b^\\dagger_{5} + b_{5}) + g_50*a^\\dagger_0*a_0*(b^\\dagger_{50} + b_{50}) + g_51*a^\\dagger_0*a_0*(b^\\dagger_{51} + b_{51}) + g_52*a^\\dagger_0*a_0*(b^\\dagger_{52} + b_{52}) + g_53*a^\\dagger_0*a_0*(b^\\dagger_{53} + b_{53}) + g_54*a^\\dagger_0*a_0*(b^\\dagger_{54} + b_{54}) + g_55*a^\\dagger_0*a_0*(b^\\dagger_{55} + b_{55}) + g_56*a^\\dagger_0*a_0*(b^\\dagger_{56} + b_{56}) + g_57*a^\\dagger_0*a_0*(b^\\dagger_{57} + b_{57}) + g_58*a^\\dagger_0*a_0*(b^\\dagger_{58} + b_{58}) + g_59*a^\\dagger_0*a_0*(b^\\dagger_{59} + b_{59}) + g_6*a^\\dagger_0*a_0*(b^\\dagger_{6} + b_{6}) + g_60*a^\\dagger_0*a_0*(b^\\dagger_{60} + b_{60}) + g_61*a^\\dagger_0*a_0*(b^\\dagger_{61} + b_{61}) + g_62*a^\\dagger_0*a_0*(b^\\dagger_{62} + b_{62}) + g_63*a^\\dagger_0*a_0*(b^\\dagger_{63} + b_{63}) + g_64*a^\\dagger_0*a_0*(b^\\dagger_{64} + b_{64}) + g_65*a^\\dagger_0*a_0*(b^\\dagger_{65} + b_{65}) + g_66*a^\\dagger_0*a_0*(b^\\dagger_{66} + b_{66}) + g_67*a^\\dagger_0*a_0*(b^\\dagger_{67} + b_{67}) + g_68*a^\\dagger_0*a_0*(b^\\dagger_{68} + b_{68}) + g_69*a^\\dagger_0*a_0*(b^\\dagger_{69} + b_{69}) + g_7*a^\\dagger_0*a_0*(b^\\dagger_{7} + b_{7}) + g_70*a^\\dagger_0*a_0*(b^\\dagger_{70} + b_{70}) + g_71*a^\\dagger_0*a_0*(b^\\dagger_{71} + b_{71}) + g_72*a^\\dagger_0*a_0*(b^\\dagger_{72} + b_{72}) + g_73*a^\\dagger_0*a_0*(b^\\dagger_{73} + b_{73}) + g_74*a^\\dagger_0*a_0*(b^\\dagger_{74} + b_{74}) + g_75*a^\\dagger_0*a_0*(b^\\dagger_{75} + b_{75}) + g_76*a^\\dagger_0*a_0*(b^\\dagger_{76} + b_{76}) + g_77*a^\\dagger_0*a_0*(b^\\dagger_{77} + b_{77}) + g_78*a^\\dagger_0*a_0*(b^\\dagger_{78} + b_{78}) + g_79*a^\\dagger_0*a_0*(b^\\dagger_{79} + b_{79}) + g_8*a^\\dagger_0*a_0*(b^\\dagger_{8} + b_{8}) + g_80*a^\\dagger_0*a_0*(b^\\dagger_{80} + b_{80}) + g_81*a^\\dagger_0*a_0*(b^\\dagger_{81} + b_{81}) + g_82*a^\\dagger_0*a_0*(b^\\dagger_{82} + b_{82}) + g_83*a^\\dagger_0*a_0*(b^\\dagger_{83} + b_{83}) + g_84*a^\\dagger_0*a_0*(b^\\dagger_{84} + b_{84}) + g_85*a^\\dagger_0*a_0*(b^\\dagger_{85} + b_{85}) + g_86*a^\\dagger_0*a_0*(b^\\dagger_{86} + b_{86}) + g_87*a^\\dagger_0*a_0*(b^\\dagger_{87} + b_{87}) + g_88*a^\\dagger_0*a_0*(b^\\dagger_{88} + b_{88}) + g_89*a^\\dagger_0*a_0*(b^\\dagger_{89} + b_{89}) + g_9*a^\\dagger_0*a_0*(b^\\dagger_{9} + b_{9}) + g_90*a^\\dagger_0*a_0*(b^\\dagger_{90} + b_{90}) + g_91*a^\\dagger_0*a_0*(b^\\dagger_{91} + b_{91}) + g_92*a^\\dagger_0*a_0*(b^\\dagger_{92} + b_{92}) + g_93*a^\\dagger_0*a_0*(b^\\dagger_{93} + b_{93}) + g_94*a^\\dagger_0*a_0*(b^\\dagger_{94} + b_{94}) + g_95*a^\\dagger_0*a_0*(b^\\dagger_{95} + b_{95}) + g_96*a^\\dagger_0*a_0*(b^\\dagger_{96} + b_{96}) + g_97*a^\\dagger_0*a_0*(b^\\dagger_{97} + b_{97}) + g_98*a^\\dagger_0*a_0*(b^\\dagger_{98} + b_{98}) + g_99*a^\\dagger_0*a_0*(b^\\dagger_{99} + b_{99}) + g_{CS, CS}*a^\\dagger_0*a_0*(b^\\dagger_{1} + b_{1}) + g_{LE, CS}*a^\\dagger_0*(b^\\dagger_{1} + b_{1}) + g_{LE, CS}*a_0*(b^\\dagger_{1} + b_{1}) + omega_10*b^\\dagger_{10}*b_{10} + omega_100*b^\\dagger_{100}*b_{100} + omega_11*b^\\dagger_{11}*b_{11} + omega_12*b^\\dagger_{12}*b_{12} + omega_13*b^\\dagger_{13}*b_{13} + omega_14*b^\\dagger_{14}*b_{14} + omega_15*b^\\dagger_{15}*b_{15} + omega_16*b^\\dagger_{16}*b_{16} + omega_17*b^\\dagger_{17}*b_{17} + omega_18*b^\\dagger_{18}*b_{18} + omega_19*b^\\dagger_{19}*b_{19} + omega_2*b^\\dagger_{2}*b_{2} + omega_20*b^\\dagger_{20}*b_{20} + omega_21*b^\\dagger_{21}*b_{21} + omega_22*b^\\dagger_{22}*b_{22} + omega_23*b^\\dagger_{23}*b_{23} + omega_24*b^\\dagger_{24}*b_{24} + omega_25*b^\\dagger_{25}*b_{25} + omega_26*b^\\dagger_{26}*b_{26} + omega_27*b^\\dagger_{27}*b_{27} + omega_28*b^\\dagger_{28}*b_{28} + omega_29*b^\\dagger_{29}*b_{29} + omega_3*b^\\dagger_{3}*b_{3} + omega_30*b^\\dagger_{30}*b_{30} + omega_31*b^\\dagger_{31}*b_{31} + omega_32*b^\\dagger_{32}*b_{32} + omega_33*b^\\dagger_{33}*b_{33} + omega_34*b^\\dagger_{34}*b_{34} + omega_35*b^\\dagger_{35}*b_{35} + omega_36*b^\\dagger_{36}*b_{36} + omega_37*b^\\dagger_{37}*b_{37} + omega_38*b^\\dagger_{38}*b_{38} + omega_39*b^\\dagger_{39}*b_{39} + omega_4*b^\\dagger_{4}*b_{4} + omega_40*b^\\dagger_{40}*b_{40} + omega_41*b^\\dagger_{41}*b_{41} + omega_42*b^\\dagger_{42}*b_{42} + omega_43*b^\\dagger_{43}*b_{43} + omega_44*b^\\dagger_{44}*b_{44} + omega_45*b^\\dagger_{45}*b_{45} + omega_46*b^\\dagger_{46}*b_{46} + omega_47*b^\\dagger_{47}*b_{47} + omega_48*b^\\dagger_{48}*b_{48} + omega_49*b^\\dagger_{49}*b_{49} + omega_5*b^\\dagger_{5}*b_{5} + omega_50*b^\\dagger_{50}*b_{50} + omega_51*b^\\dagger_{51}*b_{51} + omega_52*b^\\dagger_{52}*b_{52} + omega_53*b^\\dagger_{53}*b_{53} + omega_54*b^\\dagger_{54}*b_{54} + omega_55*b^\\dagger_{55}*b_{55} + omega_56*b^\\dagger_{56}*b_{56} + omega_57*b^\\dagger_{57}*b_{57} + omega_58*b^\\dagger_{58}*b_{58} + omega_59*b^\\dagger_{59}*b_{59} + omega_6*b^\\dagger_{6}*b_{6} + omega_60*b^\\dagger_{60}*b_{60} + omega_61*b^\\dagger_{61}*b_{61} + omega_62*b^\\dagger_{62}*b_{62} + omega_63*b^\\dagger_{63}*b_{63} + omega_64*b^\\dagger_{64}*b_{64} + omega_65*b^\\dagger_{65}*b_{65} + omega_66*b^\\dagger_{66}*b_{66} + omega_67*b^\\dagger_{67}*b_{67} + omega_68*b^\\dagger_{68}*b_{68} + omega_69*b^\\dagger_{69}*b_{69} + omega_7*b^\\dagger_{7}*b_{7} + omega_70*b^\\dagger_{70}*b_{70} + omega_71*b^\\dagger_{71}*b_{71} + omega_72*b^\\dagger_{72}*b_{72} + omega_73*b^\\dagger_{73}*b_{73} + omega_74*b^\\dagger_{74}*b_{74} + omega_75*b^\\dagger_{75}*b_{75} + omega_76*b^\\dagger_{76}*b_{76} + omega_77*b^\\dagger_{77}*b_{77} + omega_78*b^\\dagger_{78}*b_{78} + omega_79*b^\\dagger_{79}*b_{79} + omega_8*b^\\dagger_{8}*b_{8} + omega_80*b^\\dagger_{80}*b_{80} + omega_81*b^\\dagger_{81}*b_{81} + omega_82*b^\\dagger_{82}*b_{82} + omega_83*b^\\dagger_{83}*b_{83} + omega_84*b^\\dagger_{84}*b_{84} + omega_85*b^\\dagger_{85}*b_{85} + omega_86*b^\\dagger_{86}*b_{86} + omega_87*b^\\dagger_{87}*b_{87} + omega_88*b^\\dagger_{88}*b_{88} + omega_89*b^\\dagger_{89}*b_{89} + omega_9*b^\\dagger_{9}*b_{9} + omega_90*b^\\dagger_{90}*b_{90} + omega_91*b^\\dagger_{91}*b_{91} + omega_92*b^\\dagger_{92}*b_{92} + omega_93*b^\\dagger_{93}*b_{93} + omega_94*b^\\dagger_{94}*b_{94} + omega_95*b^\\dagger_{95}*b_{95} + omega_96*b^\\dagger_{96}*b_{96} + omega_97*b^\\dagger_{97}*b_{97} + omega_98*b^\\dagger_{98}*b_{98} + omega_99*b^\\dagger_{99}*b_{99} + t_{LE, CS}*(a^\\dagger_0 + a_0) + ε*a^\\dagger_0*a_0 + ω_R*b^\\dagger_{1}*b_{1}"
      ]
     },
     "execution_count": 6,
     "metadata": {},
     "output_type": "execute_result"
    }
   ],
   "source": [
    "pot_sop = SumOfProducts()\n",
    "\n",
    "pot_sop += adag_op * a_op * epsilon\n",
    "pot_sop += (a_op + adag_op) * t\n",
    "\n",
    "pot_sop += g_cs * adag_op * a_op * (b_ops[1] + bdag_ops[1])\n",
    "pot_sop += g_le * a_op * (b_ops[1] + bdag_ops[1])\n",
    "pot_sop += g_le * adag_op * (b_ops[1] + bdag_ops[1])\n",
    "pot_sop += bdag_ops[1] * b_ops[1] * omega\n",
    "\n",
    "for i in range(2, ndim):\n",
    "    pot_sop += g_symbols[i-1] * adag_op * a_op * (b_ops[i] + bdag_ops[i])\n",
    "\n",
    "for i in range(2, ndim):\n",
    "    pot_sop += ω_symbols[i-1] * bdag_ops[i] * b_ops[i]\n",
    "\n",
    "pot_sop = pot_sop.simplify()\n",
    "pot_sop.symbol"
   ]
  },
  {
   "cell_type": "markdown",
   "id": "4fa405f2-048b-4e69-9cbd-c6c7d3bf5b38",
   "metadata": {},
   "source": [
    "### Setup MPO"
   ]
  },
  {
   "cell_type": "code",
   "execution_count": 7,
   "id": "94e62760-af88-43e2-a76b-d0cb9ff1db35",
   "metadata": {
    "scrolled": true
   },
   "outputs": [
    {
     "name": "stderr",
     "output_type": "stream",
     "text": [
      "\u001b[32m2025-04-29 02:11:20.898\u001b[0m | \u001b[1mINFO    \u001b[0m | \u001b[36mpympo.bipartite\u001b[0m:\u001b[36massign\u001b[0m:\u001b[36m286\u001b[0m - \u001b[1massigned 1/101\u001b[0m\n",
      "\u001b[32m2025-04-29 02:11:20.935\u001b[0m | \u001b[1mINFO    \u001b[0m | \u001b[36mpympo.bipartite\u001b[0m:\u001b[36massign\u001b[0m:\u001b[36m286\u001b[0m - \u001b[1massigned 2/101\u001b[0m\n",
      "\u001b[32m2025-04-29 02:11:20.985\u001b[0m | \u001b[1mINFO    \u001b[0m | \u001b[36mpympo.bipartite\u001b[0m:\u001b[36massign\u001b[0m:\u001b[36m286\u001b[0m - \u001b[1massigned 3/101\u001b[0m\n",
      "\u001b[32m2025-04-29 02:11:21.045\u001b[0m | \u001b[1mINFO    \u001b[0m | \u001b[36mpympo.bipartite\u001b[0m:\u001b[36massign\u001b[0m:\u001b[36m286\u001b[0m - \u001b[1massigned 4/101\u001b[0m\n",
      "\u001b[32m2025-04-29 02:11:21.082\u001b[0m | \u001b[1mINFO    \u001b[0m | \u001b[36mpympo.bipartite\u001b[0m:\u001b[36massign\u001b[0m:\u001b[36m286\u001b[0m - \u001b[1massigned 5/101\u001b[0m\n",
      "\u001b[32m2025-04-29 02:11:21.122\u001b[0m | \u001b[1mINFO    \u001b[0m | \u001b[36mpympo.bipartite\u001b[0m:\u001b[36massign\u001b[0m:\u001b[36m286\u001b[0m - \u001b[1massigned 6/101\u001b[0m\n",
      "\u001b[32m2025-04-29 02:11:21.167\u001b[0m | \u001b[1mINFO    \u001b[0m | \u001b[36mpympo.bipartite\u001b[0m:\u001b[36massign\u001b[0m:\u001b[36m286\u001b[0m - \u001b[1massigned 7/101\u001b[0m\n",
      "\u001b[32m2025-04-29 02:11:21.214\u001b[0m | \u001b[1mINFO    \u001b[0m | \u001b[36mpympo.bipartite\u001b[0m:\u001b[36massign\u001b[0m:\u001b[36m286\u001b[0m - \u001b[1massigned 8/101\u001b[0m\n",
      "\u001b[32m2025-04-29 02:11:21.249\u001b[0m | \u001b[1mINFO    \u001b[0m | \u001b[36mpympo.bipartite\u001b[0m:\u001b[36massign\u001b[0m:\u001b[36m286\u001b[0m - \u001b[1massigned 9/101\u001b[0m\n",
      "\u001b[32m2025-04-29 02:11:21.286\u001b[0m | \u001b[1mINFO    \u001b[0m | \u001b[36mpympo.bipartite\u001b[0m:\u001b[36massign\u001b[0m:\u001b[36m286\u001b[0m - \u001b[1massigned 10/101\u001b[0m\n",
      "\u001b[32m2025-04-29 02:11:21.327\u001b[0m | \u001b[1mINFO    \u001b[0m | \u001b[36mpympo.bipartite\u001b[0m:\u001b[36massign\u001b[0m:\u001b[36m286\u001b[0m - \u001b[1massigned 11/101\u001b[0m\n",
      "\u001b[32m2025-04-29 02:11:21.371\u001b[0m | \u001b[1mINFO    \u001b[0m | \u001b[36mpympo.bipartite\u001b[0m:\u001b[36massign\u001b[0m:\u001b[36m286\u001b[0m - \u001b[1massigned 12/101\u001b[0m\n",
      "\u001b[32m2025-04-29 02:11:21.412\u001b[0m | \u001b[1mINFO    \u001b[0m | \u001b[36mpympo.bipartite\u001b[0m:\u001b[36massign\u001b[0m:\u001b[36m286\u001b[0m - \u001b[1massigned 13/101\u001b[0m\n",
      "\u001b[32m2025-04-29 02:11:21.455\u001b[0m | \u001b[1mINFO    \u001b[0m | \u001b[36mpympo.bipartite\u001b[0m:\u001b[36massign\u001b[0m:\u001b[36m286\u001b[0m - \u001b[1massigned 14/101\u001b[0m\n",
      "\u001b[32m2025-04-29 02:11:21.509\u001b[0m | \u001b[1mINFO    \u001b[0m | \u001b[36mpympo.bipartite\u001b[0m:\u001b[36massign\u001b[0m:\u001b[36m286\u001b[0m - \u001b[1massigned 15/101\u001b[0m\n",
      "\u001b[32m2025-04-29 02:11:21.561\u001b[0m | \u001b[1mINFO    \u001b[0m | \u001b[36mpympo.bipartite\u001b[0m:\u001b[36massign\u001b[0m:\u001b[36m286\u001b[0m - \u001b[1massigned 16/101\u001b[0m\n",
      "\u001b[32m2025-04-29 02:11:21.611\u001b[0m | \u001b[1mINFO    \u001b[0m | \u001b[36mpympo.bipartite\u001b[0m:\u001b[36massign\u001b[0m:\u001b[36m286\u001b[0m - \u001b[1massigned 17/101\u001b[0m\n",
      "\u001b[32m2025-04-29 02:11:21.668\u001b[0m | \u001b[1mINFO    \u001b[0m | \u001b[36mpympo.bipartite\u001b[0m:\u001b[36massign\u001b[0m:\u001b[36m286\u001b[0m - \u001b[1massigned 18/101\u001b[0m\n",
      "\u001b[32m2025-04-29 02:11:21.729\u001b[0m | \u001b[1mINFO    \u001b[0m | \u001b[36mpympo.bipartite\u001b[0m:\u001b[36massign\u001b[0m:\u001b[36m286\u001b[0m - \u001b[1massigned 19/101\u001b[0m\n",
      "\u001b[32m2025-04-29 02:11:21.779\u001b[0m | \u001b[1mINFO    \u001b[0m | \u001b[36mpympo.bipartite\u001b[0m:\u001b[36massign\u001b[0m:\u001b[36m286\u001b[0m - \u001b[1massigned 20/101\u001b[0m\n",
      "\u001b[32m2025-04-29 02:11:21.833\u001b[0m | \u001b[1mINFO    \u001b[0m | \u001b[36mpympo.bipartite\u001b[0m:\u001b[36massign\u001b[0m:\u001b[36m286\u001b[0m - \u001b[1massigned 21/101\u001b[0m\n",
      "\u001b[32m2025-04-29 02:11:21.877\u001b[0m | \u001b[1mINFO    \u001b[0m | \u001b[36mpympo.bipartite\u001b[0m:\u001b[36massign\u001b[0m:\u001b[36m286\u001b[0m - \u001b[1massigned 22/101\u001b[0m\n",
      "\u001b[32m2025-04-29 02:11:21.918\u001b[0m | \u001b[1mINFO    \u001b[0m | \u001b[36mpympo.bipartite\u001b[0m:\u001b[36massign\u001b[0m:\u001b[36m286\u001b[0m - \u001b[1massigned 23/101\u001b[0m\n",
      "\u001b[32m2025-04-29 02:11:21.957\u001b[0m | \u001b[1mINFO    \u001b[0m | \u001b[36mpympo.bipartite\u001b[0m:\u001b[36massign\u001b[0m:\u001b[36m286\u001b[0m - \u001b[1massigned 24/101\u001b[0m\n",
      "\u001b[32m2025-04-29 02:11:21.999\u001b[0m | \u001b[1mINFO    \u001b[0m | \u001b[36mpympo.bipartite\u001b[0m:\u001b[36massign\u001b[0m:\u001b[36m286\u001b[0m - \u001b[1massigned 25/101\u001b[0m\n",
      "\u001b[32m2025-04-29 02:11:22.066\u001b[0m | \u001b[1mINFO    \u001b[0m | \u001b[36mpympo.bipartite\u001b[0m:\u001b[36massign\u001b[0m:\u001b[36m286\u001b[0m - \u001b[1massigned 26/101\u001b[0m\n",
      "\u001b[32m2025-04-29 02:11:22.122\u001b[0m | \u001b[1mINFO    \u001b[0m | \u001b[36mpympo.bipartite\u001b[0m:\u001b[36massign\u001b[0m:\u001b[36m286\u001b[0m - \u001b[1massigned 27/101\u001b[0m\n",
      "\u001b[32m2025-04-29 02:11:22.168\u001b[0m | \u001b[1mINFO    \u001b[0m | \u001b[36mpympo.bipartite\u001b[0m:\u001b[36massign\u001b[0m:\u001b[36m286\u001b[0m - \u001b[1massigned 28/101\u001b[0m\n",
      "\u001b[32m2025-04-29 02:11:22.209\u001b[0m | \u001b[1mINFO    \u001b[0m | \u001b[36mpympo.bipartite\u001b[0m:\u001b[36massign\u001b[0m:\u001b[36m286\u001b[0m - \u001b[1massigned 29/101\u001b[0m\n",
      "\u001b[32m2025-04-29 02:11:22.255\u001b[0m | \u001b[1mINFO    \u001b[0m | \u001b[36mpympo.bipartite\u001b[0m:\u001b[36massign\u001b[0m:\u001b[36m286\u001b[0m - \u001b[1massigned 30/101\u001b[0m\n",
      "\u001b[32m2025-04-29 02:11:22.291\u001b[0m | \u001b[1mINFO    \u001b[0m | \u001b[36mpympo.bipartite\u001b[0m:\u001b[36massign\u001b[0m:\u001b[36m286\u001b[0m - \u001b[1massigned 31/101\u001b[0m\n",
      "\u001b[32m2025-04-29 02:11:22.330\u001b[0m | \u001b[1mINFO    \u001b[0m | \u001b[36mpympo.bipartite\u001b[0m:\u001b[36massign\u001b[0m:\u001b[36m286\u001b[0m - \u001b[1massigned 32/101\u001b[0m\n",
      "\u001b[32m2025-04-29 02:11:22.370\u001b[0m | \u001b[1mINFO    \u001b[0m | \u001b[36mpympo.bipartite\u001b[0m:\u001b[36massign\u001b[0m:\u001b[36m286\u001b[0m - \u001b[1massigned 33/101\u001b[0m\n",
      "\u001b[32m2025-04-29 02:11:22.409\u001b[0m | \u001b[1mINFO    \u001b[0m | \u001b[36mpympo.bipartite\u001b[0m:\u001b[36massign\u001b[0m:\u001b[36m286\u001b[0m - \u001b[1massigned 34/101\u001b[0m\n",
      "\u001b[32m2025-04-29 02:11:22.446\u001b[0m | \u001b[1mINFO    \u001b[0m | \u001b[36mpympo.bipartite\u001b[0m:\u001b[36massign\u001b[0m:\u001b[36m286\u001b[0m - \u001b[1massigned 35/101\u001b[0m\n",
      "\u001b[32m2025-04-29 02:11:22.481\u001b[0m | \u001b[1mINFO    \u001b[0m | \u001b[36mpympo.bipartite\u001b[0m:\u001b[36massign\u001b[0m:\u001b[36m286\u001b[0m - \u001b[1massigned 36/101\u001b[0m\n",
      "\u001b[32m2025-04-29 02:11:22.527\u001b[0m | \u001b[1mINFO    \u001b[0m | \u001b[36mpympo.bipartite\u001b[0m:\u001b[36massign\u001b[0m:\u001b[36m286\u001b[0m - \u001b[1massigned 37/101\u001b[0m\n",
      "\u001b[32m2025-04-29 02:11:22.572\u001b[0m | \u001b[1mINFO    \u001b[0m | \u001b[36mpympo.bipartite\u001b[0m:\u001b[36massign\u001b[0m:\u001b[36m286\u001b[0m - \u001b[1massigned 38/101\u001b[0m\n",
      "\u001b[32m2025-04-29 02:11:22.617\u001b[0m | \u001b[1mINFO    \u001b[0m | \u001b[36mpympo.bipartite\u001b[0m:\u001b[36massign\u001b[0m:\u001b[36m286\u001b[0m - \u001b[1massigned 39/101\u001b[0m\n",
      "\u001b[32m2025-04-29 02:11:22.691\u001b[0m | \u001b[1mINFO    \u001b[0m | \u001b[36mpympo.bipartite\u001b[0m:\u001b[36massign\u001b[0m:\u001b[36m286\u001b[0m - \u001b[1massigned 40/101\u001b[0m\n",
      "\u001b[32m2025-04-29 02:11:22.758\u001b[0m | \u001b[1mINFO    \u001b[0m | \u001b[36mpympo.bipartite\u001b[0m:\u001b[36massign\u001b[0m:\u001b[36m286\u001b[0m - \u001b[1massigned 41/101\u001b[0m\n",
      "\u001b[32m2025-04-29 02:11:22.793\u001b[0m | \u001b[1mINFO    \u001b[0m | \u001b[36mpympo.bipartite\u001b[0m:\u001b[36massign\u001b[0m:\u001b[36m286\u001b[0m - \u001b[1massigned 42/101\u001b[0m\n",
      "\u001b[32m2025-04-29 02:11:22.835\u001b[0m | \u001b[1mINFO    \u001b[0m | \u001b[36mpympo.bipartite\u001b[0m:\u001b[36massign\u001b[0m:\u001b[36m286\u001b[0m - \u001b[1massigned 43/101\u001b[0m\n",
      "\u001b[32m2025-04-29 02:11:22.884\u001b[0m | \u001b[1mINFO    \u001b[0m | \u001b[36mpympo.bipartite\u001b[0m:\u001b[36massign\u001b[0m:\u001b[36m286\u001b[0m - \u001b[1massigned 44/101\u001b[0m\n",
      "\u001b[32m2025-04-29 02:11:22.926\u001b[0m | \u001b[1mINFO    \u001b[0m | \u001b[36mpympo.bipartite\u001b[0m:\u001b[36massign\u001b[0m:\u001b[36m286\u001b[0m - \u001b[1massigned 45/101\u001b[0m\n",
      "\u001b[32m2025-04-29 02:11:22.970\u001b[0m | \u001b[1mINFO    \u001b[0m | \u001b[36mpympo.bipartite\u001b[0m:\u001b[36massign\u001b[0m:\u001b[36m286\u001b[0m - \u001b[1massigned 46/101\u001b[0m\n",
      "\u001b[32m2025-04-29 02:11:23.019\u001b[0m | \u001b[1mINFO    \u001b[0m | \u001b[36mpympo.bipartite\u001b[0m:\u001b[36massign\u001b[0m:\u001b[36m286\u001b[0m - \u001b[1massigned 47/101\u001b[0m\n",
      "\u001b[32m2025-04-29 02:11:23.061\u001b[0m | \u001b[1mINFO    \u001b[0m | \u001b[36mpympo.bipartite\u001b[0m:\u001b[36massign\u001b[0m:\u001b[36m286\u001b[0m - \u001b[1massigned 48/101\u001b[0m\n",
      "\u001b[32m2025-04-29 02:11:23.097\u001b[0m | \u001b[1mINFO    \u001b[0m | \u001b[36mpympo.bipartite\u001b[0m:\u001b[36massign\u001b[0m:\u001b[36m286\u001b[0m - \u001b[1massigned 49/101\u001b[0m\n",
      "\u001b[32m2025-04-29 02:11:23.137\u001b[0m | \u001b[1mINFO    \u001b[0m | \u001b[36mpympo.bipartite\u001b[0m:\u001b[36massign\u001b[0m:\u001b[36m286\u001b[0m - \u001b[1massigned 50/101\u001b[0m\n",
      "\u001b[32m2025-04-29 02:11:23.191\u001b[0m | \u001b[1mINFO    \u001b[0m | \u001b[36mpympo.bipartite\u001b[0m:\u001b[36massign\u001b[0m:\u001b[36m286\u001b[0m - \u001b[1massigned 51/101\u001b[0m\n",
      "\u001b[32m2025-04-29 02:11:23.232\u001b[0m | \u001b[1mINFO    \u001b[0m | \u001b[36mpympo.bipartite\u001b[0m:\u001b[36massign\u001b[0m:\u001b[36m286\u001b[0m - \u001b[1massigned 52/101\u001b[0m\n",
      "\u001b[32m2025-04-29 02:11:23.270\u001b[0m | \u001b[1mINFO    \u001b[0m | \u001b[36mpympo.bipartite\u001b[0m:\u001b[36massign\u001b[0m:\u001b[36m286\u001b[0m - \u001b[1massigned 53/101\u001b[0m\n",
      "\u001b[32m2025-04-29 02:11:23.315\u001b[0m | \u001b[1mINFO    \u001b[0m | \u001b[36mpympo.bipartite\u001b[0m:\u001b[36massign\u001b[0m:\u001b[36m286\u001b[0m - \u001b[1massigned 54/101\u001b[0m\n",
      "\u001b[32m2025-04-29 02:11:23.353\u001b[0m | \u001b[1mINFO    \u001b[0m | \u001b[36mpympo.bipartite\u001b[0m:\u001b[36massign\u001b[0m:\u001b[36m286\u001b[0m - \u001b[1massigned 55/101\u001b[0m\n",
      "\u001b[32m2025-04-29 02:11:23.387\u001b[0m | \u001b[1mINFO    \u001b[0m | \u001b[36mpympo.bipartite\u001b[0m:\u001b[36massign\u001b[0m:\u001b[36m286\u001b[0m - \u001b[1massigned 56/101\u001b[0m\n",
      "\u001b[32m2025-04-29 02:11:23.429\u001b[0m | \u001b[1mINFO    \u001b[0m | \u001b[36mpympo.bipartite\u001b[0m:\u001b[36massign\u001b[0m:\u001b[36m286\u001b[0m - \u001b[1massigned 57/101\u001b[0m\n",
      "\u001b[32m2025-04-29 02:11:23.470\u001b[0m | \u001b[1mINFO    \u001b[0m | \u001b[36mpympo.bipartite\u001b[0m:\u001b[36massign\u001b[0m:\u001b[36m286\u001b[0m - \u001b[1massigned 58/101\u001b[0m\n",
      "\u001b[32m2025-04-29 02:11:23.512\u001b[0m | \u001b[1mINFO    \u001b[0m | \u001b[36mpympo.bipartite\u001b[0m:\u001b[36massign\u001b[0m:\u001b[36m286\u001b[0m - \u001b[1massigned 59/101\u001b[0m\n",
      "\u001b[32m2025-04-29 02:11:23.552\u001b[0m | \u001b[1mINFO    \u001b[0m | \u001b[36mpympo.bipartite\u001b[0m:\u001b[36massign\u001b[0m:\u001b[36m286\u001b[0m - \u001b[1massigned 60/101\u001b[0m\n",
      "\u001b[32m2025-04-29 02:11:23.595\u001b[0m | \u001b[1mINFO    \u001b[0m | \u001b[36mpympo.bipartite\u001b[0m:\u001b[36massign\u001b[0m:\u001b[36m286\u001b[0m - \u001b[1massigned 61/101\u001b[0m\n",
      "\u001b[32m2025-04-29 02:11:23.785\u001b[0m | \u001b[1mINFO    \u001b[0m | \u001b[36mpympo.bipartite\u001b[0m:\u001b[36massign\u001b[0m:\u001b[36m286\u001b[0m - \u001b[1massigned 62/101\u001b[0m\n",
      "\u001b[32m2025-04-29 02:11:23.823\u001b[0m | \u001b[1mINFO    \u001b[0m | \u001b[36mpympo.bipartite\u001b[0m:\u001b[36massign\u001b[0m:\u001b[36m286\u001b[0m - \u001b[1massigned 63/101\u001b[0m\n",
      "\u001b[32m2025-04-29 02:11:23.861\u001b[0m | \u001b[1mINFO    \u001b[0m | \u001b[36mpympo.bipartite\u001b[0m:\u001b[36massign\u001b[0m:\u001b[36m286\u001b[0m - \u001b[1massigned 64/101\u001b[0m\n",
      "\u001b[32m2025-04-29 02:11:23.894\u001b[0m | \u001b[1mINFO    \u001b[0m | \u001b[36mpympo.bipartite\u001b[0m:\u001b[36massign\u001b[0m:\u001b[36m286\u001b[0m - \u001b[1massigned 65/101\u001b[0m\n",
      "\u001b[32m2025-04-29 02:11:23.932\u001b[0m | \u001b[1mINFO    \u001b[0m | \u001b[36mpympo.bipartite\u001b[0m:\u001b[36massign\u001b[0m:\u001b[36m286\u001b[0m - \u001b[1massigned 66/101\u001b[0m\n",
      "\u001b[32m2025-04-29 02:11:23.973\u001b[0m | \u001b[1mINFO    \u001b[0m | \u001b[36mpympo.bipartite\u001b[0m:\u001b[36massign\u001b[0m:\u001b[36m286\u001b[0m - \u001b[1massigned 67/101\u001b[0m\n",
      "\u001b[32m2025-04-29 02:11:24.014\u001b[0m | \u001b[1mINFO    \u001b[0m | \u001b[36mpympo.bipartite\u001b[0m:\u001b[36massign\u001b[0m:\u001b[36m286\u001b[0m - \u001b[1massigned 68/101\u001b[0m\n",
      "\u001b[32m2025-04-29 02:11:24.051\u001b[0m | \u001b[1mINFO    \u001b[0m | \u001b[36mpympo.bipartite\u001b[0m:\u001b[36massign\u001b[0m:\u001b[36m286\u001b[0m - \u001b[1massigned 69/101\u001b[0m\n",
      "\u001b[32m2025-04-29 02:11:24.085\u001b[0m | \u001b[1mINFO    \u001b[0m | \u001b[36mpympo.bipartite\u001b[0m:\u001b[36massign\u001b[0m:\u001b[36m286\u001b[0m - \u001b[1massigned 70/101\u001b[0m\n",
      "\u001b[32m2025-04-29 02:11:24.125\u001b[0m | \u001b[1mINFO    \u001b[0m | \u001b[36mpympo.bipartite\u001b[0m:\u001b[36massign\u001b[0m:\u001b[36m286\u001b[0m - \u001b[1massigned 71/101\u001b[0m\n",
      "\u001b[32m2025-04-29 02:11:24.172\u001b[0m | \u001b[1mINFO    \u001b[0m | \u001b[36mpympo.bipartite\u001b[0m:\u001b[36massign\u001b[0m:\u001b[36m286\u001b[0m - \u001b[1massigned 72/101\u001b[0m\n",
      "\u001b[32m2025-04-29 02:11:24.223\u001b[0m | \u001b[1mINFO    \u001b[0m | \u001b[36mpympo.bipartite\u001b[0m:\u001b[36massign\u001b[0m:\u001b[36m286\u001b[0m - \u001b[1massigned 73/101\u001b[0m\n",
      "\u001b[32m2025-04-29 02:11:24.263\u001b[0m | \u001b[1mINFO    \u001b[0m | \u001b[36mpympo.bipartite\u001b[0m:\u001b[36massign\u001b[0m:\u001b[36m286\u001b[0m - \u001b[1massigned 74/101\u001b[0m\n",
      "\u001b[32m2025-04-29 02:11:24.301\u001b[0m | \u001b[1mINFO    \u001b[0m | \u001b[36mpympo.bipartite\u001b[0m:\u001b[36massign\u001b[0m:\u001b[36m286\u001b[0m - \u001b[1massigned 75/101\u001b[0m\n",
      "\u001b[32m2025-04-29 02:11:24.340\u001b[0m | \u001b[1mINFO    \u001b[0m | \u001b[36mpympo.bipartite\u001b[0m:\u001b[36massign\u001b[0m:\u001b[36m286\u001b[0m - \u001b[1massigned 76/101\u001b[0m\n",
      "\u001b[32m2025-04-29 02:11:24.386\u001b[0m | \u001b[1mINFO    \u001b[0m | \u001b[36mpympo.bipartite\u001b[0m:\u001b[36massign\u001b[0m:\u001b[36m286\u001b[0m - \u001b[1massigned 77/101\u001b[0m\n",
      "\u001b[32m2025-04-29 02:11:24.428\u001b[0m | \u001b[1mINFO    \u001b[0m | \u001b[36mpympo.bipartite\u001b[0m:\u001b[36massign\u001b[0m:\u001b[36m286\u001b[0m - \u001b[1massigned 78/101\u001b[0m\n",
      "\u001b[32m2025-04-29 02:11:24.470\u001b[0m | \u001b[1mINFO    \u001b[0m | \u001b[36mpympo.bipartite\u001b[0m:\u001b[36massign\u001b[0m:\u001b[36m286\u001b[0m - \u001b[1massigned 79/101\u001b[0m\n",
      "\u001b[32m2025-04-29 02:11:24.518\u001b[0m | \u001b[1mINFO    \u001b[0m | \u001b[36mpympo.bipartite\u001b[0m:\u001b[36massign\u001b[0m:\u001b[36m286\u001b[0m - \u001b[1massigned 80/101\u001b[0m\n",
      "\u001b[32m2025-04-29 02:11:24.560\u001b[0m | \u001b[1mINFO    \u001b[0m | \u001b[36mpympo.bipartite\u001b[0m:\u001b[36massign\u001b[0m:\u001b[36m286\u001b[0m - \u001b[1massigned 81/101\u001b[0m\n",
      "\u001b[32m2025-04-29 02:11:24.599\u001b[0m | \u001b[1mINFO    \u001b[0m | \u001b[36mpympo.bipartite\u001b[0m:\u001b[36massign\u001b[0m:\u001b[36m286\u001b[0m - \u001b[1massigned 82/101\u001b[0m\n",
      "\u001b[32m2025-04-29 02:11:24.633\u001b[0m | \u001b[1mINFO    \u001b[0m | \u001b[36mpympo.bipartite\u001b[0m:\u001b[36massign\u001b[0m:\u001b[36m286\u001b[0m - \u001b[1massigned 83/101\u001b[0m\n",
      "\u001b[32m2025-04-29 02:11:24.677\u001b[0m | \u001b[1mINFO    \u001b[0m | \u001b[36mpympo.bipartite\u001b[0m:\u001b[36massign\u001b[0m:\u001b[36m286\u001b[0m - \u001b[1massigned 84/101\u001b[0m\n",
      "\u001b[32m2025-04-29 02:11:24.716\u001b[0m | \u001b[1mINFO    \u001b[0m | \u001b[36mpympo.bipartite\u001b[0m:\u001b[36massign\u001b[0m:\u001b[36m286\u001b[0m - \u001b[1massigned 85/101\u001b[0m\n",
      "\u001b[32m2025-04-29 02:11:24.751\u001b[0m | \u001b[1mINFO    \u001b[0m | \u001b[36mpympo.bipartite\u001b[0m:\u001b[36massign\u001b[0m:\u001b[36m286\u001b[0m - \u001b[1massigned 86/101\u001b[0m\n",
      "\u001b[32m2025-04-29 02:11:24.794\u001b[0m | \u001b[1mINFO    \u001b[0m | \u001b[36mpympo.bipartite\u001b[0m:\u001b[36massign\u001b[0m:\u001b[36m286\u001b[0m - \u001b[1massigned 87/101\u001b[0m\n",
      "\u001b[32m2025-04-29 02:11:24.838\u001b[0m | \u001b[1mINFO    \u001b[0m | \u001b[36mpympo.bipartite\u001b[0m:\u001b[36massign\u001b[0m:\u001b[36m286\u001b[0m - \u001b[1massigned 88/101\u001b[0m\n",
      "\u001b[32m2025-04-29 02:11:24.882\u001b[0m | \u001b[1mINFO    \u001b[0m | \u001b[36mpympo.bipartite\u001b[0m:\u001b[36massign\u001b[0m:\u001b[36m286\u001b[0m - \u001b[1massigned 89/101\u001b[0m\n",
      "\u001b[32m2025-04-29 02:11:24.924\u001b[0m | \u001b[1mINFO    \u001b[0m | \u001b[36mpympo.bipartite\u001b[0m:\u001b[36massign\u001b[0m:\u001b[36m286\u001b[0m - \u001b[1massigned 90/101\u001b[0m\n",
      "\u001b[32m2025-04-29 02:11:24.964\u001b[0m | \u001b[1mINFO    \u001b[0m | \u001b[36mpympo.bipartite\u001b[0m:\u001b[36massign\u001b[0m:\u001b[36m286\u001b[0m - \u001b[1massigned 91/101\u001b[0m\n",
      "\u001b[32m2025-04-29 02:11:25.004\u001b[0m | \u001b[1mINFO    \u001b[0m | \u001b[36mpympo.bipartite\u001b[0m:\u001b[36massign\u001b[0m:\u001b[36m286\u001b[0m - \u001b[1massigned 92/101\u001b[0m\n",
      "\u001b[32m2025-04-29 02:11:25.053\u001b[0m | \u001b[1mINFO    \u001b[0m | \u001b[36mpympo.bipartite\u001b[0m:\u001b[36massign\u001b[0m:\u001b[36m286\u001b[0m - \u001b[1massigned 93/101\u001b[0m\n",
      "\u001b[32m2025-04-29 02:11:25.095\u001b[0m | \u001b[1mINFO    \u001b[0m | \u001b[36mpympo.bipartite\u001b[0m:\u001b[36massign\u001b[0m:\u001b[36m286\u001b[0m - \u001b[1massigned 94/101\u001b[0m\n",
      "\u001b[32m2025-04-29 02:11:25.134\u001b[0m | \u001b[1mINFO    \u001b[0m | \u001b[36mpympo.bipartite\u001b[0m:\u001b[36massign\u001b[0m:\u001b[36m286\u001b[0m - \u001b[1massigned 95/101\u001b[0m\n",
      "\u001b[32m2025-04-29 02:11:25.178\u001b[0m | \u001b[1mINFO    \u001b[0m | \u001b[36mpympo.bipartite\u001b[0m:\u001b[36massign\u001b[0m:\u001b[36m286\u001b[0m - \u001b[1massigned 96/101\u001b[0m\n",
      "\u001b[32m2025-04-29 02:11:25.223\u001b[0m | \u001b[1mINFO    \u001b[0m | \u001b[36mpympo.bipartite\u001b[0m:\u001b[36massign\u001b[0m:\u001b[36m286\u001b[0m - \u001b[1massigned 97/101\u001b[0m\n",
      "\u001b[32m2025-04-29 02:11:25.268\u001b[0m | \u001b[1mINFO    \u001b[0m | \u001b[36mpympo.bipartite\u001b[0m:\u001b[36massign\u001b[0m:\u001b[36m286\u001b[0m - \u001b[1massigned 98/101\u001b[0m\n",
      "\u001b[32m2025-04-29 02:11:25.457\u001b[0m | \u001b[1mINFO    \u001b[0m | \u001b[36mpympo.bipartite\u001b[0m:\u001b[36massign\u001b[0m:\u001b[36m286\u001b[0m - \u001b[1massigned 99/101\u001b[0m\n",
      "\u001b[32m2025-04-29 02:11:25.509\u001b[0m | \u001b[1mINFO    \u001b[0m | \u001b[36mpympo.bipartite\u001b[0m:\u001b[36massign\u001b[0m:\u001b[36m286\u001b[0m - \u001b[1massigned 100/101\u001b[0m\n",
      "\u001b[32m2025-04-29 02:11:25.564\u001b[0m | \u001b[1mINFO    \u001b[0m | \u001b[36mpympo.bipartite\u001b[0m:\u001b[36massign\u001b[0m:\u001b[36m286\u001b[0m - \u001b[1massigned 101/101\u001b[0m\n"
     ]
    },
    {
     "data": {
      "text/latex": [
       "$\\displaystyle \\left[\\begin{matrix}a^{\\dagger}_{0} a_{0} & 1 & a^{\\dagger}_{0} + a_{0} & g_{LE, CS} a^{\\dagger}_{0} + g_{LE, CS} a_{0}\\end{matrix}\\right]$"
      ],
      "text/plain": [
       "Matrix([[a^\\dagger_0*a_0, 1, a^\\dagger_0 + a_0, g_{LE, CS}*a^\\dagger_0 + g_{LE, CS}*a_0]])"
      ]
     },
     "metadata": {},
     "output_type": "display_data"
    },
    {
     "data": {
      "text/latex": [
       "$\\displaystyle \\left[\\begin{matrix}0 & 1 & g_{CS, CS} \\left(b^\\dagger_{1} + b_{1}\\right)\\\\1 & 0 & ω_{R} b^\\dagger_{1} b_{1}\\\\0 & 0 & t_{LE, CS}\\\\0 & 0 & b^\\dagger_{1} + b_{1}\\end{matrix}\\right]$"
      ],
      "text/plain": [
       "Matrix([\n",
       "[0, 1, g_{CS, CS}*(b^\\dagger_{1} + b_{1})],\n",
       "[1, 0,            ω_R*b^\\dagger_{1}*b_{1}],\n",
       "[0, 0,                         t_{LE, CS}],\n",
       "[0, 0,              b^\\dagger_{1} + b_{1}]])"
      ]
     },
     "metadata": {},
     "output_type": "display_data"
    },
    {
     "data": {
      "text/latex": [
       "$\\displaystyle \\left[\\begin{matrix}1 & 0 & \\omega_{2} b^\\dagger_{2} b_{2}\\\\0 & 1 & g_{2} \\left(b^\\dagger_{2} + b_{2}\\right)\\\\0 & 0 & 1\\end{matrix}\\right]$"
      ],
      "text/plain": [
       "Matrix([\n",
       "[1, 0, omega_2*b^\\dagger_{2}*b_{2}],\n",
       "[0, 1, g_2*(b^\\dagger_{2} + b_{2})],\n",
       "[0, 0,                           1]])"
      ]
     },
     "metadata": {},
     "output_type": "display_data"
    },
    {
     "data": {
      "text/latex": [
       "$\\displaystyle \\left[\\begin{matrix}1 & 0 & \\omega_{3} b^\\dagger_{3} b_{3}\\\\0 & 1 & g_{3} \\left(b^\\dagger_{3} + b_{3}\\right)\\\\0 & 0 & 1\\end{matrix}\\right]$"
      ],
      "text/plain": [
       "Matrix([\n",
       "[1, 0, omega_3*b^\\dagger_{3}*b_{3}],\n",
       "[0, 1, g_3*(b^\\dagger_{3} + b_{3})],\n",
       "[0, 0,                           1]])"
      ]
     },
     "metadata": {},
     "output_type": "display_data"
    },
    {
     "data": {
      "text/latex": [
       "$\\displaystyle \\left[\\begin{matrix}1 & 0 & \\omega_{4} b^\\dagger_{4} b_{4}\\\\0 & 1 & g_{4} \\left(b^\\dagger_{4} + b_{4}\\right)\\\\0 & 0 & 1\\end{matrix}\\right]$"
      ],
      "text/plain": [
       "Matrix([\n",
       "[1, 0, omega_4*b^\\dagger_{4}*b_{4}],\n",
       "[0, 1, g_4*(b^\\dagger_{4} + b_{4})],\n",
       "[0, 0,                           1]])"
      ]
     },
     "metadata": {},
     "output_type": "display_data"
    },
    {
     "data": {
      "text/latex": [
       "$\\displaystyle \\left[\\begin{matrix}0 & 1 & \\omega_{5} b^\\dagger_{5} b_{5}\\\\1 & 0 & g_{5} \\left(b^\\dagger_{5} + b_{5}\\right)\\\\0 & 0 & 1\\end{matrix}\\right]$"
      ],
      "text/plain": [
       "Matrix([\n",
       "[0, 1, omega_5*b^\\dagger_{5}*b_{5}],\n",
       "[1, 0, g_5*(b^\\dagger_{5} + b_{5})],\n",
       "[0, 0,                           1]])"
      ]
     },
     "metadata": {},
     "output_type": "display_data"
    },
    {
     "data": {
      "text/latex": [
       "$\\displaystyle \\left[\\begin{matrix}1 & 0 & g_{6} \\left(b^\\dagger_{6} + b_{6}\\right)\\\\0 & 1 & \\omega_{6} b^\\dagger_{6} b_{6}\\\\0 & 0 & 1\\end{matrix}\\right]$"
      ],
      "text/plain": [
       "Matrix([\n",
       "[1, 0, g_6*(b^\\dagger_{6} + b_{6})],\n",
       "[0, 1, omega_6*b^\\dagger_{6}*b_{6}],\n",
       "[0, 0,                           1]])"
      ]
     },
     "metadata": {},
     "output_type": "display_data"
    },
    {
     "data": {
      "text/latex": [
       "$\\displaystyle \\left[\\begin{matrix}1 & 0 & g_{7} \\left(b^\\dagger_{7} + b_{7}\\right)\\\\0 & 1 & \\omega_{7} b^\\dagger_{7} b_{7}\\\\0 & 0 & 1\\end{matrix}\\right]$"
      ],
      "text/plain": [
       "Matrix([\n",
       "[1, 0, g_7*(b^\\dagger_{7} + b_{7})],\n",
       "[0, 1, omega_7*b^\\dagger_{7}*b_{7}],\n",
       "[0, 0,                           1]])"
      ]
     },
     "metadata": {},
     "output_type": "display_data"
    },
    {
     "data": {
      "text/latex": [
       "$\\displaystyle \\left[\\begin{matrix}0 & 1 & g_{8} \\left(b^\\dagger_{8} + b_{8}\\right)\\\\1 & 0 & \\omega_{8} b^\\dagger_{8} b_{8}\\\\0 & 0 & 1\\end{matrix}\\right]$"
      ],
      "text/plain": [
       "Matrix([\n",
       "[0, 1, g_8*(b^\\dagger_{8} + b_{8})],\n",
       "[1, 0, omega_8*b^\\dagger_{8}*b_{8}],\n",
       "[0, 0,                           1]])"
      ]
     },
     "metadata": {},
     "output_type": "display_data"
    },
    {
     "data": {
      "text/latex": [
       "$\\displaystyle \\left[\\begin{matrix}0 & 1 & \\omega_{9} b^\\dagger_{9} b_{9}\\\\1 & 0 & g_{9} \\left(b^\\dagger_{9} + b_{9}\\right)\\\\0 & 0 & 1\\end{matrix}\\right]$"
      ],
      "text/plain": [
       "Matrix([\n",
       "[0, 1, omega_9*b^\\dagger_{9}*b_{9}],\n",
       "[1, 0, g_9*(b^\\dagger_{9} + b_{9})],\n",
       "[0, 0,                           1]])"
      ]
     },
     "metadata": {},
     "output_type": "display_data"
    },
    {
     "data": {
      "text/latex": [
       "$\\displaystyle \\left[\\begin{matrix}1 & 0 & g_{10} \\left(b^\\dagger_{10} + b_{10}\\right)\\\\0 & 1 & \\omega_{10} b^\\dagger_{10} b_{10}\\\\0 & 0 & 1\\end{matrix}\\right]$"
      ],
      "text/plain": [
       "Matrix([\n",
       "[1, 0, g_10*(b^\\dagger_{10} + b_{10})],\n",
       "[0, 1, omega_10*b^\\dagger_{10}*b_{10}],\n",
       "[0, 0,                              1]])"
      ]
     },
     "metadata": {},
     "output_type": "display_data"
    },
    {
     "data": {
      "text/latex": [
       "$\\displaystyle \\left[\\begin{matrix}1 & 0 & g_{11} \\left(b^\\dagger_{11} + b_{11}\\right)\\\\0 & 1 & \\omega_{11} b^\\dagger_{11} b_{11}\\\\0 & 0 & 1\\end{matrix}\\right]$"
      ],
      "text/plain": [
       "Matrix([\n",
       "[1, 0, g_11*(b^\\dagger_{11} + b_{11})],\n",
       "[0, 1, omega_11*b^\\dagger_{11}*b_{11}],\n",
       "[0, 0,                              1]])"
      ]
     },
     "metadata": {},
     "output_type": "display_data"
    },
    {
     "data": {
      "text/latex": [
       "$\\displaystyle \\left[\\begin{matrix}0 & 1 & g_{12} \\left(b^\\dagger_{12} + b_{12}\\right)\\\\1 & 0 & \\omega_{12} b^\\dagger_{12} b_{12}\\\\0 & 0 & 1\\end{matrix}\\right]$"
      ],
      "text/plain": [
       "Matrix([\n",
       "[0, 1, g_12*(b^\\dagger_{12} + b_{12})],\n",
       "[1, 0, omega_12*b^\\dagger_{12}*b_{12}],\n",
       "[0, 0,                              1]])"
      ]
     },
     "metadata": {},
     "output_type": "display_data"
    },
    {
     "data": {
      "text/latex": [
       "$\\displaystyle \\left[\\begin{matrix}1 & 0 & \\omega_{13} b^\\dagger_{13} b_{13}\\\\0 & 1 & g_{13} \\left(b^\\dagger_{13} + b_{13}\\right)\\\\0 & 0 & 1\\end{matrix}\\right]$"
      ],
      "text/plain": [
       "Matrix([\n",
       "[1, 0, omega_13*b^\\dagger_{13}*b_{13}],\n",
       "[0, 1, g_13*(b^\\dagger_{13} + b_{13})],\n",
       "[0, 0,                              1]])"
      ]
     },
     "metadata": {},
     "output_type": "display_data"
    },
    {
     "data": {
      "text/latex": [
       "$\\displaystyle \\left[\\begin{matrix}0 & 1 & \\omega_{14} b^\\dagger_{14} b_{14}\\\\1 & 0 & g_{14} \\left(b^\\dagger_{14} + b_{14}\\right)\\\\0 & 0 & 1\\end{matrix}\\right]$"
      ],
      "text/plain": [
       "Matrix([\n",
       "[0, 1, omega_14*b^\\dagger_{14}*b_{14}],\n",
       "[1, 0, g_14*(b^\\dagger_{14} + b_{14})],\n",
       "[0, 0,                              1]])"
      ]
     },
     "metadata": {},
     "output_type": "display_data"
    },
    {
     "data": {
      "text/latex": [
       "$\\displaystyle \\left[\\begin{matrix}1 & 0 & g_{15} \\left(b^\\dagger_{15} + b_{15}\\right)\\\\0 & 1 & \\omega_{15} b^\\dagger_{15} b_{15}\\\\0 & 0 & 1\\end{matrix}\\right]$"
      ],
      "text/plain": [
       "Matrix([\n",
       "[1, 0, g_15*(b^\\dagger_{15} + b_{15})],\n",
       "[0, 1, omega_15*b^\\dagger_{15}*b_{15}],\n",
       "[0, 0,                              1]])"
      ]
     },
     "metadata": {},
     "output_type": "display_data"
    },
    {
     "data": {
      "text/latex": [
       "$\\displaystyle \\left[\\begin{matrix}1 & 0 & g_{16} \\left(b^\\dagger_{16} + b_{16}\\right)\\\\0 & 1 & \\omega_{16} b^\\dagger_{16} b_{16}\\\\0 & 0 & 1\\end{matrix}\\right]$"
      ],
      "text/plain": [
       "Matrix([\n",
       "[1, 0, g_16*(b^\\dagger_{16} + b_{16})],\n",
       "[0, 1, omega_16*b^\\dagger_{16}*b_{16}],\n",
       "[0, 0,                              1]])"
      ]
     },
     "metadata": {},
     "output_type": "display_data"
    },
    {
     "data": {
      "text/latex": [
       "$\\displaystyle \\left[\\begin{matrix}1 & 0 & g_{17} \\left(b^\\dagger_{17} + b_{17}\\right)\\\\0 & 1 & \\omega_{17} b^\\dagger_{17} b_{17}\\\\0 & 0 & 1\\end{matrix}\\right]$"
      ],
      "text/plain": [
       "Matrix([\n",
       "[1, 0, g_17*(b^\\dagger_{17} + b_{17})],\n",
       "[0, 1, omega_17*b^\\dagger_{17}*b_{17}],\n",
       "[0, 0,                              1]])"
      ]
     },
     "metadata": {},
     "output_type": "display_data"
    },
    {
     "data": {
      "text/latex": [
       "$\\displaystyle \\left[\\begin{matrix}1 & 0 & g_{18} \\left(b^\\dagger_{18} + b_{18}\\right)\\\\0 & 1 & \\omega_{18} b^\\dagger_{18} b_{18}\\\\0 & 0 & 1\\end{matrix}\\right]$"
      ],
      "text/plain": [
       "Matrix([\n",
       "[1, 0, g_18*(b^\\dagger_{18} + b_{18})],\n",
       "[0, 1, omega_18*b^\\dagger_{18}*b_{18}],\n",
       "[0, 0,                              1]])"
      ]
     },
     "metadata": {},
     "output_type": "display_data"
    },
    {
     "data": {
      "text/latex": [
       "$\\displaystyle \\left[\\begin{matrix}1 & 0 & g_{19} \\left(b^\\dagger_{19} + b_{19}\\right)\\\\0 & 1 & \\omega_{19} b^\\dagger_{19} b_{19}\\\\0 & 0 & 1\\end{matrix}\\right]$"
      ],
      "text/plain": [
       "Matrix([\n",
       "[1, 0, g_19*(b^\\dagger_{19} + b_{19})],\n",
       "[0, 1, omega_19*b^\\dagger_{19}*b_{19}],\n",
       "[0, 0,                              1]])"
      ]
     },
     "metadata": {},
     "output_type": "display_data"
    },
    {
     "data": {
      "text/latex": [
       "$\\displaystyle \\left[\\begin{matrix}1 & 0 & g_{20} \\left(b^\\dagger_{20} + b_{20}\\right)\\\\0 & 1 & \\omega_{20} b^\\dagger_{20} b_{20}\\\\0 & 0 & 1\\end{matrix}\\right]$"
      ],
      "text/plain": [
       "Matrix([\n",
       "[1, 0, g_20*(b^\\dagger_{20} + b_{20})],\n",
       "[0, 1, omega_20*b^\\dagger_{20}*b_{20}],\n",
       "[0, 0,                              1]])"
      ]
     },
     "metadata": {},
     "output_type": "display_data"
    },
    {
     "data": {
      "text/latex": [
       "$\\displaystyle \\left[\\begin{matrix}0 & 1 & g_{21} \\left(b^\\dagger_{21} + b_{21}\\right)\\\\1 & 0 & \\omega_{21} b^\\dagger_{21} b_{21}\\\\0 & 0 & 1\\end{matrix}\\right]$"
      ],
      "text/plain": [
       "Matrix([\n",
       "[0, 1, g_21*(b^\\dagger_{21} + b_{21})],\n",
       "[1, 0, omega_21*b^\\dagger_{21}*b_{21}],\n",
       "[0, 0,                              1]])"
      ]
     },
     "metadata": {},
     "output_type": "display_data"
    },
    {
     "data": {
      "text/latex": [
       "$\\displaystyle \\left[\\begin{matrix}0 & 1 & \\omega_{22} b^\\dagger_{22} b_{22}\\\\1 & 0 & g_{22} \\left(b^\\dagger_{22} + b_{22}\\right)\\\\0 & 0 & 1\\end{matrix}\\right]$"
      ],
      "text/plain": [
       "Matrix([\n",
       "[0, 1, omega_22*b^\\dagger_{22}*b_{22}],\n",
       "[1, 0, g_22*(b^\\dagger_{22} + b_{22})],\n",
       "[0, 0,                              1]])"
      ]
     },
     "metadata": {},
     "output_type": "display_data"
    },
    {
     "data": {
      "text/latex": [
       "$\\displaystyle \\left[\\begin{matrix}1 & 0 & g_{23} \\left(b^\\dagger_{23} + b_{23}\\right)\\\\0 & 1 & \\omega_{23} b^\\dagger_{23} b_{23}\\\\0 & 0 & 1\\end{matrix}\\right]$"
      ],
      "text/plain": [
       "Matrix([\n",
       "[1, 0, g_23*(b^\\dagger_{23} + b_{23})],\n",
       "[0, 1, omega_23*b^\\dagger_{23}*b_{23}],\n",
       "[0, 0,                              1]])"
      ]
     },
     "metadata": {},
     "output_type": "display_data"
    },
    {
     "data": {
      "text/latex": [
       "$\\displaystyle \\left[\\begin{matrix}1 & 0 & g_{24} \\left(b^\\dagger_{24} + b_{24}\\right)\\\\0 & 1 & \\omega_{24} b^\\dagger_{24} b_{24}\\\\0 & 0 & 1\\end{matrix}\\right]$"
      ],
      "text/plain": [
       "Matrix([\n",
       "[1, 0, g_24*(b^\\dagger_{24} + b_{24})],\n",
       "[0, 1, omega_24*b^\\dagger_{24}*b_{24}],\n",
       "[0, 0,                              1]])"
      ]
     },
     "metadata": {},
     "output_type": "display_data"
    },
    {
     "data": {
      "text/latex": [
       "$\\displaystyle \\left[\\begin{matrix}1 & 0 & g_{25} \\left(b^\\dagger_{25} + b_{25}\\right)\\\\0 & 1 & \\omega_{25} b^\\dagger_{25} b_{25}\\\\0 & 0 & 1\\end{matrix}\\right]$"
      ],
      "text/plain": [
       "Matrix([\n",
       "[1, 0, g_25*(b^\\dagger_{25} + b_{25})],\n",
       "[0, 1, omega_25*b^\\dagger_{25}*b_{25}],\n",
       "[0, 0,                              1]])"
      ]
     },
     "metadata": {},
     "output_type": "display_data"
    },
    {
     "data": {
      "text/latex": [
       "$\\displaystyle \\left[\\begin{matrix}1 & 0 & g_{26} \\left(b^\\dagger_{26} + b_{26}\\right)\\\\0 & 1 & \\omega_{26} b^\\dagger_{26} b_{26}\\\\0 & 0 & 1\\end{matrix}\\right]$"
      ],
      "text/plain": [
       "Matrix([\n",
       "[1, 0, g_26*(b^\\dagger_{26} + b_{26})],\n",
       "[0, 1, omega_26*b^\\dagger_{26}*b_{26}],\n",
       "[0, 0,                              1]])"
      ]
     },
     "metadata": {},
     "output_type": "display_data"
    },
    {
     "data": {
      "text/latex": [
       "$\\displaystyle \\left[\\begin{matrix}1 & 0 & g_{27} \\left(b^\\dagger_{27} + b_{27}\\right)\\\\0 & 1 & \\omega_{27} b^\\dagger_{27} b_{27}\\\\0 & 0 & 1\\end{matrix}\\right]$"
      ],
      "text/plain": [
       "Matrix([\n",
       "[1, 0, g_27*(b^\\dagger_{27} + b_{27})],\n",
       "[0, 1, omega_27*b^\\dagger_{27}*b_{27}],\n",
       "[0, 0,                              1]])"
      ]
     },
     "metadata": {},
     "output_type": "display_data"
    },
    {
     "data": {
      "text/latex": [
       "$\\displaystyle \\left[\\begin{matrix}1 & 0 & g_{28} \\left(b^\\dagger_{28} + b_{28}\\right)\\\\0 & 1 & \\omega_{28} b^\\dagger_{28} b_{28}\\\\0 & 0 & 1\\end{matrix}\\right]$"
      ],
      "text/plain": [
       "Matrix([\n",
       "[1, 0, g_28*(b^\\dagger_{28} + b_{28})],\n",
       "[0, 1, omega_28*b^\\dagger_{28}*b_{28}],\n",
       "[0, 0,                              1]])"
      ]
     },
     "metadata": {},
     "output_type": "display_data"
    },
    {
     "data": {
      "text/latex": [
       "$\\displaystyle \\left[\\begin{matrix}1 & 0 & g_{29} \\left(b^\\dagger_{29} + b_{29}\\right)\\\\0 & 1 & \\omega_{29} b^\\dagger_{29} b_{29}\\\\0 & 0 & 1\\end{matrix}\\right]$"
      ],
      "text/plain": [
       "Matrix([\n",
       "[1, 0, g_29*(b^\\dagger_{29} + b_{29})],\n",
       "[0, 1, omega_29*b^\\dagger_{29}*b_{29}],\n",
       "[0, 0,                              1]])"
      ]
     },
     "metadata": {},
     "output_type": "display_data"
    },
    {
     "data": {
      "text/latex": [
       "$\\displaystyle \\left[\\begin{matrix}1 & 0 & g_{30} \\left(b^\\dagger_{30} + b_{30}\\right)\\\\0 & 1 & \\omega_{30} b^\\dagger_{30} b_{30}\\\\0 & 0 & 1\\end{matrix}\\right]$"
      ],
      "text/plain": [
       "Matrix([\n",
       "[1, 0, g_30*(b^\\dagger_{30} + b_{30})],\n",
       "[0, 1, omega_30*b^\\dagger_{30}*b_{30}],\n",
       "[0, 0,                              1]])"
      ]
     },
     "metadata": {},
     "output_type": "display_data"
    },
    {
     "data": {
      "text/latex": [
       "$\\displaystyle \\left[\\begin{matrix}1 & 0 & g_{31} \\left(b^\\dagger_{31} + b_{31}\\right)\\\\0 & 1 & \\omega_{31} b^\\dagger_{31} b_{31}\\\\0 & 0 & 1\\end{matrix}\\right]$"
      ],
      "text/plain": [
       "Matrix([\n",
       "[1, 0, g_31*(b^\\dagger_{31} + b_{31})],\n",
       "[0, 1, omega_31*b^\\dagger_{31}*b_{31}],\n",
       "[0, 0,                              1]])"
      ]
     },
     "metadata": {},
     "output_type": "display_data"
    },
    {
     "data": {
      "text/latex": [
       "$\\displaystyle \\left[\\begin{matrix}0 & 1 & g_{32} \\left(b^\\dagger_{32} + b_{32}\\right)\\\\1 & 0 & \\omega_{32} b^\\dagger_{32} b_{32}\\\\0 & 0 & 1\\end{matrix}\\right]$"
      ],
      "text/plain": [
       "Matrix([\n",
       "[0, 1, g_32*(b^\\dagger_{32} + b_{32})],\n",
       "[1, 0, omega_32*b^\\dagger_{32}*b_{32}],\n",
       "[0, 0,                              1]])"
      ]
     },
     "metadata": {},
     "output_type": "display_data"
    },
    {
     "data": {
      "text/latex": [
       "$\\displaystyle \\left[\\begin{matrix}1 & 0 & \\omega_{33} b^\\dagger_{33} b_{33}\\\\0 & 1 & g_{33} \\left(b^\\dagger_{33} + b_{33}\\right)\\\\0 & 0 & 1\\end{matrix}\\right]$"
      ],
      "text/plain": [
       "Matrix([\n",
       "[1, 0, omega_33*b^\\dagger_{33}*b_{33}],\n",
       "[0, 1, g_33*(b^\\dagger_{33} + b_{33})],\n",
       "[0, 0,                              1]])"
      ]
     },
     "metadata": {},
     "output_type": "display_data"
    },
    {
     "data": {
      "text/latex": [
       "$\\displaystyle \\left[\\begin{matrix}0 & 1 & \\omega_{34} b^\\dagger_{34} b_{34}\\\\1 & 0 & g_{34} \\left(b^\\dagger_{34} + b_{34}\\right)\\\\0 & 0 & 1\\end{matrix}\\right]$"
      ],
      "text/plain": [
       "Matrix([\n",
       "[0, 1, omega_34*b^\\dagger_{34}*b_{34}],\n",
       "[1, 0, g_34*(b^\\dagger_{34} + b_{34})],\n",
       "[0, 0,                              1]])"
      ]
     },
     "metadata": {},
     "output_type": "display_data"
    },
    {
     "data": {
      "text/latex": [
       "$\\displaystyle \\left[\\begin{matrix}0 & 1 & g_{35} \\left(b^\\dagger_{35} + b_{35}\\right)\\\\1 & 0 & \\omega_{35} b^\\dagger_{35} b_{35}\\\\0 & 0 & 1\\end{matrix}\\right]$"
      ],
      "text/plain": [
       "Matrix([\n",
       "[0, 1, g_35*(b^\\dagger_{35} + b_{35})],\n",
       "[1, 0, omega_35*b^\\dagger_{35}*b_{35}],\n",
       "[0, 0,                              1]])"
      ]
     },
     "metadata": {},
     "output_type": "display_data"
    },
    {
     "data": {
      "text/latex": [
       "$\\displaystyle \\left[\\begin{matrix}1 & 0 & \\omega_{36} b^\\dagger_{36} b_{36}\\\\0 & 1 & g_{36} \\left(b^\\dagger_{36} + b_{36}\\right)\\\\0 & 0 & 1\\end{matrix}\\right]$"
      ],
      "text/plain": [
       "Matrix([\n",
       "[1, 0, omega_36*b^\\dagger_{36}*b_{36}],\n",
       "[0, 1, g_36*(b^\\dagger_{36} + b_{36})],\n",
       "[0, 0,                              1]])"
      ]
     },
     "metadata": {},
     "output_type": "display_data"
    },
    {
     "data": {
      "text/latex": [
       "$\\displaystyle \\left[\\begin{matrix}1 & 0 & \\omega_{37} b^\\dagger_{37} b_{37}\\\\0 & 1 & g_{37} \\left(b^\\dagger_{37} + b_{37}\\right)\\\\0 & 0 & 1\\end{matrix}\\right]$"
      ],
      "text/plain": [
       "Matrix([\n",
       "[1, 0, omega_37*b^\\dagger_{37}*b_{37}],\n",
       "[0, 1, g_37*(b^\\dagger_{37} + b_{37})],\n",
       "[0, 0,                              1]])"
      ]
     },
     "metadata": {},
     "output_type": "display_data"
    },
    {
     "data": {
      "text/latex": [
       "$\\displaystyle \\left[\\begin{matrix}0 & 1 & \\omega_{38} b^\\dagger_{38} b_{38}\\\\1 & 0 & g_{38} \\left(b^\\dagger_{38} + b_{38}\\right)\\\\0 & 0 & 1\\end{matrix}\\right]$"
      ],
      "text/plain": [
       "Matrix([\n",
       "[0, 1, omega_38*b^\\dagger_{38}*b_{38}],\n",
       "[1, 0, g_38*(b^\\dagger_{38} + b_{38})],\n",
       "[0, 0,                              1]])"
      ]
     },
     "metadata": {},
     "output_type": "display_data"
    },
    {
     "data": {
      "text/latex": [
       "$\\displaystyle \\left[\\begin{matrix}0 & 1 & g_{39} \\left(b^\\dagger_{39} + b_{39}\\right)\\\\1 & 0 & \\omega_{39} b^\\dagger_{39} b_{39}\\\\0 & 0 & 1\\end{matrix}\\right]$"
      ],
      "text/plain": [
       "Matrix([\n",
       "[0, 1, g_39*(b^\\dagger_{39} + b_{39})],\n",
       "[1, 0, omega_39*b^\\dagger_{39}*b_{39}],\n",
       "[0, 0,                              1]])"
      ]
     },
     "metadata": {},
     "output_type": "display_data"
    },
    {
     "data": {
      "text/latex": [
       "$\\displaystyle \\left[\\begin{matrix}0 & 1 & \\omega_{40} b^\\dagger_{40} b_{40}\\\\1 & 0 & g_{40} \\left(b^\\dagger_{40} + b_{40}\\right)\\\\0 & 0 & 1\\end{matrix}\\right]$"
      ],
      "text/plain": [
       "Matrix([\n",
       "[0, 1, omega_40*b^\\dagger_{40}*b_{40}],\n",
       "[1, 0, g_40*(b^\\dagger_{40} + b_{40})],\n",
       "[0, 0,                              1]])"
      ]
     },
     "metadata": {},
     "output_type": "display_data"
    },
    {
     "data": {
      "text/latex": [
       "$\\displaystyle \\left[\\begin{matrix}1 & 0 & g_{41} \\left(b^\\dagger_{41} + b_{41}\\right)\\\\0 & 1 & \\omega_{41} b^\\dagger_{41} b_{41}\\\\0 & 0 & 1\\end{matrix}\\right]$"
      ],
      "text/plain": [
       "Matrix([\n",
       "[1, 0, g_41*(b^\\dagger_{41} + b_{41})],\n",
       "[0, 1, omega_41*b^\\dagger_{41}*b_{41}],\n",
       "[0, 0,                              1]])"
      ]
     },
     "metadata": {},
     "output_type": "display_data"
    },
    {
     "data": {
      "text/latex": [
       "$\\displaystyle \\left[\\begin{matrix}1 & 0 & g_{42} \\left(b^\\dagger_{42} + b_{42}\\right)\\\\0 & 1 & \\omega_{42} b^\\dagger_{42} b_{42}\\\\0 & 0 & 1\\end{matrix}\\right]$"
      ],
      "text/plain": [
       "Matrix([\n",
       "[1, 0, g_42*(b^\\dagger_{42} + b_{42})],\n",
       "[0, 1, omega_42*b^\\dagger_{42}*b_{42}],\n",
       "[0, 0,                              1]])"
      ]
     },
     "metadata": {},
     "output_type": "display_data"
    },
    {
     "data": {
      "text/latex": [
       "$\\displaystyle \\left[\\begin{matrix}0 & 1 & g_{43} \\left(b^\\dagger_{43} + b_{43}\\right)\\\\1 & 0 & \\omega_{43} b^\\dagger_{43} b_{43}\\\\0 & 0 & 1\\end{matrix}\\right]$"
      ],
      "text/plain": [
       "Matrix([\n",
       "[0, 1, g_43*(b^\\dagger_{43} + b_{43})],\n",
       "[1, 0, omega_43*b^\\dagger_{43}*b_{43}],\n",
       "[0, 0,                              1]])"
      ]
     },
     "metadata": {},
     "output_type": "display_data"
    },
    {
     "data": {
      "text/latex": [
       "$\\displaystyle \\left[\\begin{matrix}1 & 0 & \\omega_{44} b^\\dagger_{44} b_{44}\\\\0 & 1 & g_{44} \\left(b^\\dagger_{44} + b_{44}\\right)\\\\0 & 0 & 1\\end{matrix}\\right]$"
      ],
      "text/plain": [
       "Matrix([\n",
       "[1, 0, omega_44*b^\\dagger_{44}*b_{44}],\n",
       "[0, 1, g_44*(b^\\dagger_{44} + b_{44})],\n",
       "[0, 0,                              1]])"
      ]
     },
     "metadata": {},
     "output_type": "display_data"
    },
    {
     "data": {
      "text/latex": [
       "$\\displaystyle \\left[\\begin{matrix}0 & 1 & \\omega_{45} b^\\dagger_{45} b_{45}\\\\1 & 0 & g_{45} \\left(b^\\dagger_{45} + b_{45}\\right)\\\\0 & 0 & 1\\end{matrix}\\right]$"
      ],
      "text/plain": [
       "Matrix([\n",
       "[0, 1, omega_45*b^\\dagger_{45}*b_{45}],\n",
       "[1, 0, g_45*(b^\\dagger_{45} + b_{45})],\n",
       "[0, 0,                              1]])"
      ]
     },
     "metadata": {},
     "output_type": "display_data"
    },
    {
     "data": {
      "text/latex": [
       "$\\displaystyle \\left[\\begin{matrix}1 & 0 & g_{46} \\left(b^\\dagger_{46} + b_{46}\\right)\\\\0 & 1 & \\omega_{46} b^\\dagger_{46} b_{46}\\\\0 & 0 & 1\\end{matrix}\\right]$"
      ],
      "text/plain": [
       "Matrix([\n",
       "[1, 0, g_46*(b^\\dagger_{46} + b_{46})],\n",
       "[0, 1, omega_46*b^\\dagger_{46}*b_{46}],\n",
       "[0, 0,                              1]])"
      ]
     },
     "metadata": {},
     "output_type": "display_data"
    },
    {
     "data": {
      "text/latex": [
       "$\\displaystyle \\left[\\begin{matrix}0 & 1 & g_{47} \\left(b^\\dagger_{47} + b_{47}\\right)\\\\1 & 0 & \\omega_{47} b^\\dagger_{47} b_{47}\\\\0 & 0 & 1\\end{matrix}\\right]$"
      ],
      "text/plain": [
       "Matrix([\n",
       "[0, 1, g_47*(b^\\dagger_{47} + b_{47})],\n",
       "[1, 0, omega_47*b^\\dagger_{47}*b_{47}],\n",
       "[0, 0,                              1]])"
      ]
     },
     "metadata": {},
     "output_type": "display_data"
    },
    {
     "data": {
      "text/latex": [
       "$\\displaystyle \\left[\\begin{matrix}1 & 0 & \\omega_{48} b^\\dagger_{48} b_{48}\\\\0 & 1 & g_{48} \\left(b^\\dagger_{48} + b_{48}\\right)\\\\0 & 0 & 1\\end{matrix}\\right]$"
      ],
      "text/plain": [
       "Matrix([\n",
       "[1, 0, omega_48*b^\\dagger_{48}*b_{48}],\n",
       "[0, 1, g_48*(b^\\dagger_{48} + b_{48})],\n",
       "[0, 0,                              1]])"
      ]
     },
     "metadata": {},
     "output_type": "display_data"
    },
    {
     "data": {
      "text/latex": [
       "$\\displaystyle \\left[\\begin{matrix}0 & 1 & \\omega_{49} b^\\dagger_{49} b_{49}\\\\1 & 0 & g_{49} \\left(b^\\dagger_{49} + b_{49}\\right)\\\\0 & 0 & 1\\end{matrix}\\right]$"
      ],
      "text/plain": [
       "Matrix([\n",
       "[0, 1, omega_49*b^\\dagger_{49}*b_{49}],\n",
       "[1, 0, g_49*(b^\\dagger_{49} + b_{49})],\n",
       "[0, 0,                              1]])"
      ]
     },
     "metadata": {},
     "output_type": "display_data"
    },
    {
     "data": {
      "text/latex": [
       "$\\displaystyle \\left[\\begin{matrix}0 & 1 & g_{50} \\left(b^\\dagger_{50} + b_{50}\\right)\\\\1 & 0 & \\omega_{50} b^\\dagger_{50} b_{50}\\\\0 & 0 & 1\\end{matrix}\\right]$"
      ],
      "text/plain": [
       "Matrix([\n",
       "[0, 1, g_50*(b^\\dagger_{50} + b_{50})],\n",
       "[1, 0, omega_50*b^\\dagger_{50}*b_{50}],\n",
       "[0, 0,                              1]])"
      ]
     },
     "metadata": {},
     "output_type": "display_data"
    },
    {
     "data": {
      "text/latex": [
       "$\\displaystyle \\left[\\begin{matrix}0 & 1 & \\omega_{51} b^\\dagger_{51} b_{51}\\\\1 & 0 & g_{51} \\left(b^\\dagger_{51} + b_{51}\\right)\\\\0 & 0 & 1\\end{matrix}\\right]$"
      ],
      "text/plain": [
       "Matrix([\n",
       "[0, 1, omega_51*b^\\dagger_{51}*b_{51}],\n",
       "[1, 0, g_51*(b^\\dagger_{51} + b_{51})],\n",
       "[0, 0,                              1]])"
      ]
     },
     "metadata": {},
     "output_type": "display_data"
    },
    {
     "data": {
      "text/latex": [
       "$\\displaystyle \\left[\\begin{matrix}0 & 1 & g_{52} \\left(b^\\dagger_{52} + b_{52}\\right)\\\\1 & 0 & \\omega_{52} b^\\dagger_{52} b_{52}\\\\0 & 0 & 1\\end{matrix}\\right]$"
      ],
      "text/plain": [
       "Matrix([\n",
       "[0, 1, g_52*(b^\\dagger_{52} + b_{52})],\n",
       "[1, 0, omega_52*b^\\dagger_{52}*b_{52}],\n",
       "[0, 0,                              1]])"
      ]
     },
     "metadata": {},
     "output_type": "display_data"
    },
    {
     "data": {
      "text/latex": [
       "$\\displaystyle \\left[\\begin{matrix}0 & 1 & \\omega_{53} b^\\dagger_{53} b_{53}\\\\1 & 0 & g_{53} \\left(b^\\dagger_{53} + b_{53}\\right)\\\\0 & 0 & 1\\end{matrix}\\right]$"
      ],
      "text/plain": [
       "Matrix([\n",
       "[0, 1, omega_53*b^\\dagger_{53}*b_{53}],\n",
       "[1, 0, g_53*(b^\\dagger_{53} + b_{53})],\n",
       "[0, 0,                              1]])"
      ]
     },
     "metadata": {},
     "output_type": "display_data"
    },
    {
     "data": {
      "text/latex": [
       "$\\displaystyle \\left[\\begin{matrix}0 & 1 & g_{54} \\left(b^\\dagger_{54} + b_{54}\\right)\\\\1 & 0 & \\omega_{54} b^\\dagger_{54} b_{54}\\\\0 & 0 & 1\\end{matrix}\\right]$"
      ],
      "text/plain": [
       "Matrix([\n",
       "[0, 1, g_54*(b^\\dagger_{54} + b_{54})],\n",
       "[1, 0, omega_54*b^\\dagger_{54}*b_{54}],\n",
       "[0, 0,                              1]])"
      ]
     },
     "metadata": {},
     "output_type": "display_data"
    },
    {
     "data": {
      "text/latex": [
       "$\\displaystyle \\left[\\begin{matrix}0 & 1 & \\omega_{55} b^\\dagger_{55} b_{55}\\\\1 & 0 & g_{55} \\left(b^\\dagger_{55} + b_{55}\\right)\\\\0 & 0 & 1\\end{matrix}\\right]$"
      ],
      "text/plain": [
       "Matrix([\n",
       "[0, 1, omega_55*b^\\dagger_{55}*b_{55}],\n",
       "[1, 0, g_55*(b^\\dagger_{55} + b_{55})],\n",
       "[0, 0,                              1]])"
      ]
     },
     "metadata": {},
     "output_type": "display_data"
    },
    {
     "data": {
      "text/latex": [
       "$\\displaystyle \\left[\\begin{matrix}0 & 1 & g_{56} \\left(b^\\dagger_{56} + b_{56}\\right)\\\\1 & 0 & \\omega_{56} b^\\dagger_{56} b_{56}\\\\0 & 0 & 1\\end{matrix}\\right]$"
      ],
      "text/plain": [
       "Matrix([\n",
       "[0, 1, g_56*(b^\\dagger_{56} + b_{56})],\n",
       "[1, 0, omega_56*b^\\dagger_{56}*b_{56}],\n",
       "[0, 0,                              1]])"
      ]
     },
     "metadata": {},
     "output_type": "display_data"
    },
    {
     "data": {
      "text/latex": [
       "$\\displaystyle \\left[\\begin{matrix}0 & 1 & \\omega_{57} b^\\dagger_{57} b_{57}\\\\1 & 0 & g_{57} \\left(b^\\dagger_{57} + b_{57}\\right)\\\\0 & 0 & 1\\end{matrix}\\right]$"
      ],
      "text/plain": [
       "Matrix([\n",
       "[0, 1, omega_57*b^\\dagger_{57}*b_{57}],\n",
       "[1, 0, g_57*(b^\\dagger_{57} + b_{57})],\n",
       "[0, 0,                              1]])"
      ]
     },
     "metadata": {},
     "output_type": "display_data"
    },
    {
     "data": {
      "text/latex": [
       "$\\displaystyle \\left[\\begin{matrix}1 & 0 & g_{58} \\left(b^\\dagger_{58} + b_{58}\\right)\\\\0 & 1 & \\omega_{58} b^\\dagger_{58} b_{58}\\\\0 & 0 & 1\\end{matrix}\\right]$"
      ],
      "text/plain": [
       "Matrix([\n",
       "[1, 0, g_58*(b^\\dagger_{58} + b_{58})],\n",
       "[0, 1, omega_58*b^\\dagger_{58}*b_{58}],\n",
       "[0, 0,                              1]])"
      ]
     },
     "metadata": {},
     "output_type": "display_data"
    },
    {
     "data": {
      "text/latex": [
       "$\\displaystyle \\left[\\begin{matrix}1 & 0 & g_{59} \\left(b^\\dagger_{59} + b_{59}\\right)\\\\0 & 1 & \\omega_{59} b^\\dagger_{59} b_{59}\\\\0 & 0 & 1\\end{matrix}\\right]$"
      ],
      "text/plain": [
       "Matrix([\n",
       "[1, 0, g_59*(b^\\dagger_{59} + b_{59})],\n",
       "[0, 1, omega_59*b^\\dagger_{59}*b_{59}],\n",
       "[0, 0,                              1]])"
      ]
     },
     "metadata": {},
     "output_type": "display_data"
    },
    {
     "data": {
      "text/latex": [
       "$\\displaystyle \\left[\\begin{matrix}0 & 1 & g_{60} \\left(b^\\dagger_{60} + b_{60}\\right)\\\\1 & 0 & \\omega_{60} b^\\dagger_{60} b_{60}\\\\0 & 0 & 1\\end{matrix}\\right]$"
      ],
      "text/plain": [
       "Matrix([\n",
       "[0, 1, g_60*(b^\\dagger_{60} + b_{60})],\n",
       "[1, 0, omega_60*b^\\dagger_{60}*b_{60}],\n",
       "[0, 0,                              1]])"
      ]
     },
     "metadata": {},
     "output_type": "display_data"
    },
    {
     "data": {
      "text/latex": [
       "$\\displaystyle \\left[\\begin{matrix}0 & 1 & \\omega_{61} b^\\dagger_{61} b_{61}\\\\1 & 0 & g_{61} \\left(b^\\dagger_{61} + b_{61}\\right)\\\\0 & 0 & 1\\end{matrix}\\right]$"
      ],
      "text/plain": [
       "Matrix([\n",
       "[0, 1, omega_61*b^\\dagger_{61}*b_{61}],\n",
       "[1, 0, g_61*(b^\\dagger_{61} + b_{61})],\n",
       "[0, 0,                              1]])"
      ]
     },
     "metadata": {},
     "output_type": "display_data"
    },
    {
     "data": {
      "text/latex": [
       "$\\displaystyle \\left[\\begin{matrix}0 & 1 & g_{62} \\left(b^\\dagger_{62} + b_{62}\\right)\\\\1 & 0 & \\omega_{62} b^\\dagger_{62} b_{62}\\\\0 & 0 & 1\\end{matrix}\\right]$"
      ],
      "text/plain": [
       "Matrix([\n",
       "[0, 1, g_62*(b^\\dagger_{62} + b_{62})],\n",
       "[1, 0, omega_62*b^\\dagger_{62}*b_{62}],\n",
       "[0, 0,                              1]])"
      ]
     },
     "metadata": {},
     "output_type": "display_data"
    },
    {
     "data": {
      "text/latex": [
       "$\\displaystyle \\left[\\begin{matrix}1 & 0 & \\omega_{63} b^\\dagger_{63} b_{63}\\\\0 & 1 & g_{63} \\left(b^\\dagger_{63} + b_{63}\\right)\\\\0 & 0 & 1\\end{matrix}\\right]$"
      ],
      "text/plain": [
       "Matrix([\n",
       "[1, 0, omega_63*b^\\dagger_{63}*b_{63}],\n",
       "[0, 1, g_63*(b^\\dagger_{63} + b_{63})],\n",
       "[0, 0,                              1]])"
      ]
     },
     "metadata": {},
     "output_type": "display_data"
    },
    {
     "data": {
      "text/latex": [
       "$\\displaystyle \\left[\\begin{matrix}0 & 1 & \\omega_{64} b^\\dagger_{64} b_{64}\\\\1 & 0 & g_{64} \\left(b^\\dagger_{64} + b_{64}\\right)\\\\0 & 0 & 1\\end{matrix}\\right]$"
      ],
      "text/plain": [
       "Matrix([\n",
       "[0, 1, omega_64*b^\\dagger_{64}*b_{64}],\n",
       "[1, 0, g_64*(b^\\dagger_{64} + b_{64})],\n",
       "[0, 0,                              1]])"
      ]
     },
     "metadata": {},
     "output_type": "display_data"
    },
    {
     "data": {
      "text/latex": [
       "$\\displaystyle \\left[\\begin{matrix}0 & 1 & g_{65} \\left(b^\\dagger_{65} + b_{65}\\right)\\\\1 & 0 & \\omega_{65} b^\\dagger_{65} b_{65}\\\\0 & 0 & 1\\end{matrix}\\right]$"
      ],
      "text/plain": [
       "Matrix([\n",
       "[0, 1, g_65*(b^\\dagger_{65} + b_{65})],\n",
       "[1, 0, omega_65*b^\\dagger_{65}*b_{65}],\n",
       "[0, 0,                              1]])"
      ]
     },
     "metadata": {},
     "output_type": "display_data"
    },
    {
     "data": {
      "text/latex": [
       "$\\displaystyle \\left[\\begin{matrix}1 & 0 & \\omega_{66} b^\\dagger_{66} b_{66}\\\\0 & 1 & g_{66} \\left(b^\\dagger_{66} + b_{66}\\right)\\\\0 & 0 & 1\\end{matrix}\\right]$"
      ],
      "text/plain": [
       "Matrix([\n",
       "[1, 0, omega_66*b^\\dagger_{66}*b_{66}],\n",
       "[0, 1, g_66*(b^\\dagger_{66} + b_{66})],\n",
       "[0, 0,                              1]])"
      ]
     },
     "metadata": {},
     "output_type": "display_data"
    },
    {
     "data": {
      "text/latex": [
       "$\\displaystyle \\left[\\begin{matrix}1 & 0 & \\omega_{67} b^\\dagger_{67} b_{67}\\\\0 & 1 & g_{67} \\left(b^\\dagger_{67} + b_{67}\\right)\\\\0 & 0 & 1\\end{matrix}\\right]$"
      ],
      "text/plain": [
       "Matrix([\n",
       "[1, 0, omega_67*b^\\dagger_{67}*b_{67}],\n",
       "[0, 1, g_67*(b^\\dagger_{67} + b_{67})],\n",
       "[0, 0,                              1]])"
      ]
     },
     "metadata": {},
     "output_type": "display_data"
    },
    {
     "data": {
      "text/latex": [
       "$\\displaystyle \\left[\\begin{matrix}0 & 1 & \\omega_{68} b^\\dagger_{68} b_{68}\\\\1 & 0 & g_{68} \\left(b^\\dagger_{68} + b_{68}\\right)\\\\0 & 0 & 1\\end{matrix}\\right]$"
      ],
      "text/plain": [
       "Matrix([\n",
       "[0, 1, omega_68*b^\\dagger_{68}*b_{68}],\n",
       "[1, 0, g_68*(b^\\dagger_{68} + b_{68})],\n",
       "[0, 0,                              1]])"
      ]
     },
     "metadata": {},
     "output_type": "display_data"
    },
    {
     "data": {
      "text/latex": [
       "$\\displaystyle \\left[\\begin{matrix}1 & 0 & g_{69} \\left(b^\\dagger_{69} + b_{69}\\right)\\\\0 & 1 & \\omega_{69} b^\\dagger_{69} b_{69}\\\\0 & 0 & 1\\end{matrix}\\right]$"
      ],
      "text/plain": [
       "Matrix([\n",
       "[1, 0, g_69*(b^\\dagger_{69} + b_{69})],\n",
       "[0, 1, omega_69*b^\\dagger_{69}*b_{69}],\n",
       "[0, 0,                              1]])"
      ]
     },
     "metadata": {},
     "output_type": "display_data"
    },
    {
     "data": {
      "text/latex": [
       "$\\displaystyle \\left[\\begin{matrix}0 & 1 & g_{70} \\left(b^\\dagger_{70} + b_{70}\\right)\\\\1 & 0 & \\omega_{70} b^\\dagger_{70} b_{70}\\\\0 & 0 & 1\\end{matrix}\\right]$"
      ],
      "text/plain": [
       "Matrix([\n",
       "[0, 1, g_70*(b^\\dagger_{70} + b_{70})],\n",
       "[1, 0, omega_70*b^\\dagger_{70}*b_{70}],\n",
       "[0, 0,                              1]])"
      ]
     },
     "metadata": {},
     "output_type": "display_data"
    },
    {
     "data": {
      "text/latex": [
       "$\\displaystyle \\left[\\begin{matrix}0 & 1 & \\omega_{71} b^\\dagger_{71} b_{71}\\\\1 & 0 & g_{71} \\left(b^\\dagger_{71} + b_{71}\\right)\\\\0 & 0 & 1\\end{matrix}\\right]$"
      ],
      "text/plain": [
       "Matrix([\n",
       "[0, 1, omega_71*b^\\dagger_{71}*b_{71}],\n",
       "[1, 0, g_71*(b^\\dagger_{71} + b_{71})],\n",
       "[0, 0,                              1]])"
      ]
     },
     "metadata": {},
     "output_type": "display_data"
    },
    {
     "data": {
      "text/latex": [
       "$\\displaystyle \\left[\\begin{matrix}0 & 1 & g_{72} \\left(b^\\dagger_{72} + b_{72}\\right)\\\\1 & 0 & \\omega_{72} b^\\dagger_{72} b_{72}\\\\0 & 0 & 1\\end{matrix}\\right]$"
      ],
      "text/plain": [
       "Matrix([\n",
       "[0, 1, g_72*(b^\\dagger_{72} + b_{72})],\n",
       "[1, 0, omega_72*b^\\dagger_{72}*b_{72}],\n",
       "[0, 0,                              1]])"
      ]
     },
     "metadata": {},
     "output_type": "display_data"
    },
    {
     "data": {
      "text/latex": [
       "$\\displaystyle \\left[\\begin{matrix}1 & 0 & \\omega_{73} b^\\dagger_{73} b_{73}\\\\0 & 1 & g_{73} \\left(b^\\dagger_{73} + b_{73}\\right)\\\\0 & 0 & 1\\end{matrix}\\right]$"
      ],
      "text/plain": [
       "Matrix([\n",
       "[1, 0, omega_73*b^\\dagger_{73}*b_{73}],\n",
       "[0, 1, g_73*(b^\\dagger_{73} + b_{73})],\n",
       "[0, 0,                              1]])"
      ]
     },
     "metadata": {},
     "output_type": "display_data"
    },
    {
     "data": {
      "text/latex": [
       "$\\displaystyle \\left[\\begin{matrix}1 & 0 & \\omega_{74} b^\\dagger_{74} b_{74}\\\\0 & 1 & g_{74} \\left(b^\\dagger_{74} + b_{74}\\right)\\\\0 & 0 & 1\\end{matrix}\\right]$"
      ],
      "text/plain": [
       "Matrix([\n",
       "[1, 0, omega_74*b^\\dagger_{74}*b_{74}],\n",
       "[0, 1, g_74*(b^\\dagger_{74} + b_{74})],\n",
       "[0, 0,                              1]])"
      ]
     },
     "metadata": {},
     "output_type": "display_data"
    },
    {
     "data": {
      "text/latex": [
       "$\\displaystyle \\left[\\begin{matrix}0 & 1 & \\omega_{75} b^\\dagger_{75} b_{75}\\\\1 & 0 & g_{75} \\left(b^\\dagger_{75} + b_{75}\\right)\\\\0 & 0 & 1\\end{matrix}\\right]$"
      ],
      "text/plain": [
       "Matrix([\n",
       "[0, 1, omega_75*b^\\dagger_{75}*b_{75}],\n",
       "[1, 0, g_75*(b^\\dagger_{75} + b_{75})],\n",
       "[0, 0,                              1]])"
      ]
     },
     "metadata": {},
     "output_type": "display_data"
    },
    {
     "data": {
      "text/latex": [
       "$\\displaystyle \\left[\\begin{matrix}1 & 0 & g_{76} \\left(b^\\dagger_{76} + b_{76}\\right)\\\\0 & 1 & \\omega_{76} b^\\dagger_{76} b_{76}\\\\0 & 0 & 1\\end{matrix}\\right]$"
      ],
      "text/plain": [
       "Matrix([\n",
       "[1, 0, g_76*(b^\\dagger_{76} + b_{76})],\n",
       "[0, 1, omega_76*b^\\dagger_{76}*b_{76}],\n",
       "[0, 0,                              1]])"
      ]
     },
     "metadata": {},
     "output_type": "display_data"
    },
    {
     "data": {
      "text/latex": [
       "$\\displaystyle \\left[\\begin{matrix}1 & 0 & g_{77} \\left(b^\\dagger_{77} + b_{77}\\right)\\\\0 & 1 & \\omega_{77} b^\\dagger_{77} b_{77}\\\\0 & 0 & 1\\end{matrix}\\right]$"
      ],
      "text/plain": [
       "Matrix([\n",
       "[1, 0, g_77*(b^\\dagger_{77} + b_{77})],\n",
       "[0, 1, omega_77*b^\\dagger_{77}*b_{77}],\n",
       "[0, 0,                              1]])"
      ]
     },
     "metadata": {},
     "output_type": "display_data"
    },
    {
     "data": {
      "text/latex": [
       "$\\displaystyle \\left[\\begin{matrix}1 & 0 & g_{78} \\left(b^\\dagger_{78} + b_{78}\\right)\\\\0 & 1 & \\omega_{78} b^\\dagger_{78} b_{78}\\\\0 & 0 & 1\\end{matrix}\\right]$"
      ],
      "text/plain": [
       "Matrix([\n",
       "[1, 0, g_78*(b^\\dagger_{78} + b_{78})],\n",
       "[0, 1, omega_78*b^\\dagger_{78}*b_{78}],\n",
       "[0, 0,                              1]])"
      ]
     },
     "metadata": {},
     "output_type": "display_data"
    },
    {
     "data": {
      "text/latex": [
       "$\\displaystyle \\left[\\begin{matrix}1 & 0 & g_{79} \\left(b^\\dagger_{79} + b_{79}\\right)\\\\0 & 1 & \\omega_{79} b^\\dagger_{79} b_{79}\\\\0 & 0 & 1\\end{matrix}\\right]$"
      ],
      "text/plain": [
       "Matrix([\n",
       "[1, 0, g_79*(b^\\dagger_{79} + b_{79})],\n",
       "[0, 1, omega_79*b^\\dagger_{79}*b_{79}],\n",
       "[0, 0,                              1]])"
      ]
     },
     "metadata": {},
     "output_type": "display_data"
    },
    {
     "data": {
      "text/latex": [
       "$\\displaystyle \\left[\\begin{matrix}1 & 0 & g_{80} \\left(b^\\dagger_{80} + b_{80}\\right)\\\\0 & 1 & \\omega_{80} b^\\dagger_{80} b_{80}\\\\0 & 0 & 1\\end{matrix}\\right]$"
      ],
      "text/plain": [
       "Matrix([\n",
       "[1, 0, g_80*(b^\\dagger_{80} + b_{80})],\n",
       "[0, 1, omega_80*b^\\dagger_{80}*b_{80}],\n",
       "[0, 0,                              1]])"
      ]
     },
     "metadata": {},
     "output_type": "display_data"
    },
    {
     "data": {
      "text/latex": [
       "$\\displaystyle \\left[\\begin{matrix}0 & 1 & g_{81} \\left(b^\\dagger_{81} + b_{81}\\right)\\\\1 & 0 & \\omega_{81} b^\\dagger_{81} b_{81}\\\\0 & 0 & 1\\end{matrix}\\right]$"
      ],
      "text/plain": [
       "Matrix([\n",
       "[0, 1, g_81*(b^\\dagger_{81} + b_{81})],\n",
       "[1, 0, omega_81*b^\\dagger_{81}*b_{81}],\n",
       "[0, 0,                              1]])"
      ]
     },
     "metadata": {},
     "output_type": "display_data"
    },
    {
     "data": {
      "text/latex": [
       "$\\displaystyle \\left[\\begin{matrix}0 & 1 & \\omega_{82} b^\\dagger_{82} b_{82}\\\\1 & 0 & g_{82} \\left(b^\\dagger_{82} + b_{82}\\right)\\\\0 & 0 & 1\\end{matrix}\\right]$"
      ],
      "text/plain": [
       "Matrix([\n",
       "[0, 1, omega_82*b^\\dagger_{82}*b_{82}],\n",
       "[1, 0, g_82*(b^\\dagger_{82} + b_{82})],\n",
       "[0, 0,                              1]])"
      ]
     },
     "metadata": {},
     "output_type": "display_data"
    },
    {
     "data": {
      "text/latex": [
       "$\\displaystyle \\left[\\begin{matrix}1 & 0 & g_{83} \\left(b^\\dagger_{83} + b_{83}\\right)\\\\0 & 1 & \\omega_{83} b^\\dagger_{83} b_{83}\\\\0 & 0 & 1\\end{matrix}\\right]$"
      ],
      "text/plain": [
       "Matrix([\n",
       "[1, 0, g_83*(b^\\dagger_{83} + b_{83})],\n",
       "[0, 1, omega_83*b^\\dagger_{83}*b_{83}],\n",
       "[0, 0,                              1]])"
      ]
     },
     "metadata": {},
     "output_type": "display_data"
    },
    {
     "data": {
      "text/latex": [
       "$\\displaystyle \\left[\\begin{matrix}1 & 0 & g_{84} \\left(b^\\dagger_{84} + b_{84}\\right)\\\\0 & 1 & \\omega_{84} b^\\dagger_{84} b_{84}\\\\0 & 0 & 1\\end{matrix}\\right]$"
      ],
      "text/plain": [
       "Matrix([\n",
       "[1, 0, g_84*(b^\\dagger_{84} + b_{84})],\n",
       "[0, 1, omega_84*b^\\dagger_{84}*b_{84}],\n",
       "[0, 0,                              1]])"
      ]
     },
     "metadata": {},
     "output_type": "display_data"
    },
    {
     "data": {
      "text/latex": [
       "$\\displaystyle \\left[\\begin{matrix}0 & 1 & g_{85} \\left(b^\\dagger_{85} + b_{85}\\right)\\\\1 & 0 & \\omega_{85} b^\\dagger_{85} b_{85}\\\\0 & 0 & 1\\end{matrix}\\right]$"
      ],
      "text/plain": [
       "Matrix([\n",
       "[0, 1, g_85*(b^\\dagger_{85} + b_{85})],\n",
       "[1, 0, omega_85*b^\\dagger_{85}*b_{85}],\n",
       "[0, 0,                              1]])"
      ]
     },
     "metadata": {},
     "output_type": "display_data"
    },
    {
     "data": {
      "text/latex": [
       "$\\displaystyle \\left[\\begin{matrix}0 & 1 & \\omega_{86} b^\\dagger_{86} b_{86}\\\\1 & 0 & g_{86} \\left(b^\\dagger_{86} + b_{86}\\right)\\\\0 & 0 & 1\\end{matrix}\\right]$"
      ],
      "text/plain": [
       "Matrix([\n",
       "[0, 1, omega_86*b^\\dagger_{86}*b_{86}],\n",
       "[1, 0, g_86*(b^\\dagger_{86} + b_{86})],\n",
       "[0, 0,                              1]])"
      ]
     },
     "metadata": {},
     "output_type": "display_data"
    },
    {
     "data": {
      "text/latex": [
       "$\\displaystyle \\left[\\begin{matrix}0 & 1 & g_{87} \\left(b^\\dagger_{87} + b_{87}\\right)\\\\1 & 0 & \\omega_{87} b^\\dagger_{87} b_{87}\\\\0 & 0 & 1\\end{matrix}\\right]$"
      ],
      "text/plain": [
       "Matrix([\n",
       "[0, 1, g_87*(b^\\dagger_{87} + b_{87})],\n",
       "[1, 0, omega_87*b^\\dagger_{87}*b_{87}],\n",
       "[0, 0,                              1]])"
      ]
     },
     "metadata": {},
     "output_type": "display_data"
    },
    {
     "data": {
      "text/latex": [
       "$\\displaystyle \\left[\\begin{matrix}1 & 0 & \\omega_{88} b^\\dagger_{88} b_{88}\\\\0 & 1 & g_{88} \\left(b^\\dagger_{88} + b_{88}\\right)\\\\0 & 0 & 1\\end{matrix}\\right]$"
      ],
      "text/plain": [
       "Matrix([\n",
       "[1, 0, omega_88*b^\\dagger_{88}*b_{88}],\n",
       "[0, 1, g_88*(b^\\dagger_{88} + b_{88})],\n",
       "[0, 0,                              1]])"
      ]
     },
     "metadata": {},
     "output_type": "display_data"
    },
    {
     "data": {
      "text/latex": [
       "$\\displaystyle \\left[\\begin{matrix}1 & 0 & \\omega_{89} b^\\dagger_{89} b_{89}\\\\0 & 1 & g_{89} \\left(b^\\dagger_{89} + b_{89}\\right)\\\\0 & 0 & 1\\end{matrix}\\right]$"
      ],
      "text/plain": [
       "Matrix([\n",
       "[1, 0, omega_89*b^\\dagger_{89}*b_{89}],\n",
       "[0, 1, g_89*(b^\\dagger_{89} + b_{89})],\n",
       "[0, 0,                              1]])"
      ]
     },
     "metadata": {},
     "output_type": "display_data"
    },
    {
     "data": {
      "text/latex": [
       "$\\displaystyle \\left[\\begin{matrix}0 & 1 & \\omega_{90} b^\\dagger_{90} b_{90}\\\\1 & 0 & g_{90} \\left(b^\\dagger_{90} + b_{90}\\right)\\\\0 & 0 & 1\\end{matrix}\\right]$"
      ],
      "text/plain": [
       "Matrix([\n",
       "[0, 1, omega_90*b^\\dagger_{90}*b_{90}],\n",
       "[1, 0, g_90*(b^\\dagger_{90} + b_{90})],\n",
       "[0, 0,                              1]])"
      ]
     },
     "metadata": {},
     "output_type": "display_data"
    },
    {
     "data": {
      "text/latex": [
       "$\\displaystyle \\left[\\begin{matrix}0 & 1 & g_{91} \\left(b^\\dagger_{91} + b_{91}\\right)\\\\1 & 0 & \\omega_{91} b^\\dagger_{91} b_{91}\\\\0 & 0 & 1\\end{matrix}\\right]$"
      ],
      "text/plain": [
       "Matrix([\n",
       "[0, 1, g_91*(b^\\dagger_{91} + b_{91})],\n",
       "[1, 0, omega_91*b^\\dagger_{91}*b_{91}],\n",
       "[0, 0,                              1]])"
      ]
     },
     "metadata": {},
     "output_type": "display_data"
    },
    {
     "data": {
      "text/latex": [
       "$\\displaystyle \\left[\\begin{matrix}0 & 1 & \\omega_{92} b^\\dagger_{92} b_{92}\\\\1 & 0 & g_{92} \\left(b^\\dagger_{92} + b_{92}\\right)\\\\0 & 0 & 1\\end{matrix}\\right]$"
      ],
      "text/plain": [
       "Matrix([\n",
       "[0, 1, omega_92*b^\\dagger_{92}*b_{92}],\n",
       "[1, 0, g_92*(b^\\dagger_{92} + b_{92})],\n",
       "[0, 0,                              1]])"
      ]
     },
     "metadata": {},
     "output_type": "display_data"
    },
    {
     "data": {
      "text/latex": [
       "$\\displaystyle \\left[\\begin{matrix}0 & 1 & g_{93} \\left(b^\\dagger_{93} + b_{93}\\right)\\\\1 & 0 & \\omega_{93} b^\\dagger_{93} b_{93}\\\\0 & 0 & 1\\end{matrix}\\right]$"
      ],
      "text/plain": [
       "Matrix([\n",
       "[0, 1, g_93*(b^\\dagger_{93} + b_{93})],\n",
       "[1, 0, omega_93*b^\\dagger_{93}*b_{93}],\n",
       "[0, 0,                              1]])"
      ]
     },
     "metadata": {},
     "output_type": "display_data"
    },
    {
     "data": {
      "text/latex": [
       "$\\displaystyle \\left[\\begin{matrix}1 & 0 & \\omega_{94} b^\\dagger_{94} b_{94}\\\\0 & 1 & g_{94} \\left(b^\\dagger_{94} + b_{94}\\right)\\\\0 & 0 & 1\\end{matrix}\\right]$"
      ],
      "text/plain": [
       "Matrix([\n",
       "[1, 0, omega_94*b^\\dagger_{94}*b_{94}],\n",
       "[0, 1, g_94*(b^\\dagger_{94} + b_{94})],\n",
       "[0, 0,                              1]])"
      ]
     },
     "metadata": {},
     "output_type": "display_data"
    },
    {
     "data": {
      "text/latex": [
       "$\\displaystyle \\left[\\begin{matrix}1 & 0 & \\omega_{95} b^\\dagger_{95} b_{95}\\\\0 & 1 & g_{95} \\left(b^\\dagger_{95} + b_{95}\\right)\\\\0 & 0 & 1\\end{matrix}\\right]$"
      ],
      "text/plain": [
       "Matrix([\n",
       "[1, 0, omega_95*b^\\dagger_{95}*b_{95}],\n",
       "[0, 1, g_95*(b^\\dagger_{95} + b_{95})],\n",
       "[0, 0,                              1]])"
      ]
     },
     "metadata": {},
     "output_type": "display_data"
    },
    {
     "data": {
      "text/latex": [
       "$\\displaystyle \\left[\\begin{matrix}1 & 0 & \\omega_{96} b^\\dagger_{96} b_{96}\\\\0 & 1 & g_{96} \\left(b^\\dagger_{96} + b_{96}\\right)\\\\0 & 0 & 1\\end{matrix}\\right]$"
      ],
      "text/plain": [
       "Matrix([\n",
       "[1, 0, omega_96*b^\\dagger_{96}*b_{96}],\n",
       "[0, 1, g_96*(b^\\dagger_{96} + b_{96})],\n",
       "[0, 0,                              1]])"
      ]
     },
     "metadata": {},
     "output_type": "display_data"
    },
    {
     "data": {
      "text/latex": [
       "$\\displaystyle \\left[\\begin{matrix}1 & 0 & \\omega_{97} b^\\dagger_{97} b_{97}\\\\0 & 1 & g_{97} \\left(b^\\dagger_{97} + b_{97}\\right)\\\\0 & 0 & 1\\end{matrix}\\right]$"
      ],
      "text/plain": [
       "Matrix([\n",
       "[1, 0, omega_97*b^\\dagger_{97}*b_{97}],\n",
       "[0, 1, g_97*(b^\\dagger_{97} + b_{97})],\n",
       "[0, 0,                              1]])"
      ]
     },
     "metadata": {},
     "output_type": "display_data"
    },
    {
     "data": {
      "text/latex": [
       "$\\displaystyle \\left[\\begin{matrix}1 & 0 & \\omega_{98} b^\\dagger_{98} b_{98}\\\\0 & 1 & g_{98} \\left(b^\\dagger_{98} + b_{98}\\right)\\\\0 & 0 & 1\\end{matrix}\\right]$"
      ],
      "text/plain": [
       "Matrix([\n",
       "[1, 0, omega_98*b^\\dagger_{98}*b_{98}],\n",
       "[0, 1, g_98*(b^\\dagger_{98} + b_{98})],\n",
       "[0, 0,                              1]])"
      ]
     },
     "metadata": {},
     "output_type": "display_data"
    },
    {
     "data": {
      "text/latex": [
       "$\\displaystyle \\left[\\begin{matrix}0 & 1 & \\omega_{99} b^\\dagger_{99} b_{99}\\\\1 & 0 & g_{99} \\left(b^\\dagger_{99} + b_{99}\\right)\\\\0 & 0 & 1\\end{matrix}\\right]$"
      ],
      "text/plain": [
       "Matrix([\n",
       "[0, 1, omega_99*b^\\dagger_{99}*b_{99}],\n",
       "[1, 0, g_99*(b^\\dagger_{99} + b_{99})],\n",
       "[0, 0,                              1]])"
      ]
     },
     "metadata": {},
     "output_type": "display_data"
    },
    {
     "data": {
      "text/latex": [
       "$\\displaystyle \\left[\\begin{matrix}g_{100} \\left(b^\\dagger_{100} + b_{100}\\right) + ε\\\\\\omega_{100} b^\\dagger_{100} b_{100}\\\\1\\end{matrix}\\right]$"
      ],
      "text/plain": [
       "Matrix([\n",
       "[g_100*(b^\\dagger_{100} + b_{100}) + ε],\n",
       "[    omega_100*b^\\dagger_{100}*b_{100}],\n",
       "[                                    1]])"
      ]
     },
     "metadata": {},
     "output_type": "display_data"
    },
    {
     "name": "stdout",
     "output_type": "stream",
     "text": [
      "W0 W1 W2 W3 W4 W5 W6 W7 W8 W9 W10 W11 W12 W13 W14 W15 W16 W17 W18 W19 W20 W21 W22 W23 W24 W25 W26 W27 W28 W29 W30 W31 W32 W33 W34 W35 W36 W37 W38 W39 W40 W41 W42 W43 W44 W45 W46 W47 W48 W49 W50 W51 W52 W53 W54 W55 W56 W57 W58 W59 W60 W61 W62 W63 W64 W65 W66 W67 W68 W69 W70 W71 W72 W73 W74 W75 W76 W77 W78 W79 W80 W81 W82 W83 W84 W85 W86 W87 W88 W89 W90 W91 W92 W93 W94 W95 W96 W97 W98 W99 W100 =\n"
     ]
    },
    {
     "data": {
      "text/latex": [
       "$\\displaystyle g_{10} a^{\\dagger}_{0} a_{0} b^\\dagger_{10} + g_{10} a^{\\dagger}_{0} a_{0} b_{10} + g_{100} a^{\\dagger}_{0} a_{0} b^\\dagger_{100} + g_{100} a^{\\dagger}_{0} a_{0} b_{100} + g_{11} a^{\\dagger}_{0} a_{0} b^\\dagger_{11} + g_{11} a^{\\dagger}_{0} a_{0} b_{11} + g_{12} a^{\\dagger}_{0} a_{0} b^\\dagger_{12} + g_{12} a^{\\dagger}_{0} a_{0} b_{12} + g_{13} a^{\\dagger}_{0} a_{0} b^\\dagger_{13} + g_{13} a^{\\dagger}_{0} a_{0} b_{13} + g_{14} a^{\\dagger}_{0} a_{0} b^\\dagger_{14} + g_{14} a^{\\dagger}_{0} a_{0} b_{14} + g_{15} a^{\\dagger}_{0} a_{0} b^\\dagger_{15} + g_{15} a^{\\dagger}_{0} a_{0} b_{15} + g_{16} a^{\\dagger}_{0} a_{0} b^\\dagger_{16} + g_{16} a^{\\dagger}_{0} a_{0} b_{16} + g_{17} a^{\\dagger}_{0} a_{0} b^\\dagger_{17} + g_{17} a^{\\dagger}_{0} a_{0} b_{17} + g_{18} a^{\\dagger}_{0} a_{0} b^\\dagger_{18} + g_{18} a^{\\dagger}_{0} a_{0} b_{18} + g_{19} a^{\\dagger}_{0} a_{0} b^\\dagger_{19} + g_{19} a^{\\dagger}_{0} a_{0} b_{19} + g_{2} a^{\\dagger}_{0} a_{0} b^\\dagger_{2} + g_{2} a^{\\dagger}_{0} a_{0} b_{2} + g_{20} a^{\\dagger}_{0} a_{0} b^\\dagger_{20} + g_{20} a^{\\dagger}_{0} a_{0} b_{20} + g_{21} a^{\\dagger}_{0} a_{0} b^\\dagger_{21} + g_{21} a^{\\dagger}_{0} a_{0} b_{21} + g_{22} a^{\\dagger}_{0} a_{0} b^\\dagger_{22} + g_{22} a^{\\dagger}_{0} a_{0} b_{22} + g_{23} a^{\\dagger}_{0} a_{0} b^\\dagger_{23} + g_{23} a^{\\dagger}_{0} a_{0} b_{23} + g_{24} a^{\\dagger}_{0} a_{0} b^\\dagger_{24} + g_{24} a^{\\dagger}_{0} a_{0} b_{24} + g_{25} a^{\\dagger}_{0} a_{0} b^\\dagger_{25} + g_{25} a^{\\dagger}_{0} a_{0} b_{25} + g_{26} a^{\\dagger}_{0} a_{0} b^\\dagger_{26} + g_{26} a^{\\dagger}_{0} a_{0} b_{26} + g_{27} a^{\\dagger}_{0} a_{0} b^\\dagger_{27} + g_{27} a^{\\dagger}_{0} a_{0} b_{27} + g_{28} a^{\\dagger}_{0} a_{0} b^\\dagger_{28} + g_{28} a^{\\dagger}_{0} a_{0} b_{28} + g_{29} a^{\\dagger}_{0} a_{0} b^\\dagger_{29} + g_{29} a^{\\dagger}_{0} a_{0} b_{29} + g_{3} a^{\\dagger}_{0} a_{0} b^\\dagger_{3} + g_{3} a^{\\dagger}_{0} a_{0} b_{3} + g_{30} a^{\\dagger}_{0} a_{0} b^\\dagger_{30} + g_{30} a^{\\dagger}_{0} a_{0} b_{30} + g_{31} a^{\\dagger}_{0} a_{0} b^\\dagger_{31} + g_{31} a^{\\dagger}_{0} a_{0} b_{31} + g_{32} a^{\\dagger}_{0} a_{0} b^\\dagger_{32} + g_{32} a^{\\dagger}_{0} a_{0} b_{32} + g_{33} a^{\\dagger}_{0} a_{0} b^\\dagger_{33} + g_{33} a^{\\dagger}_{0} a_{0} b_{33} + g_{34} a^{\\dagger}_{0} a_{0} b^\\dagger_{34} + g_{34} a^{\\dagger}_{0} a_{0} b_{34} + g_{35} a^{\\dagger}_{0} a_{0} b^\\dagger_{35} + g_{35} a^{\\dagger}_{0} a_{0} b_{35} + g_{36} a^{\\dagger}_{0} a_{0} b^\\dagger_{36} + g_{36} a^{\\dagger}_{0} a_{0} b_{36} + g_{37} a^{\\dagger}_{0} a_{0} b^\\dagger_{37} + g_{37} a^{\\dagger}_{0} a_{0} b_{37} + g_{38} a^{\\dagger}_{0} a_{0} b^\\dagger_{38} + g_{38} a^{\\dagger}_{0} a_{0} b_{38} + g_{39} a^{\\dagger}_{0} a_{0} b^\\dagger_{39} + g_{39} a^{\\dagger}_{0} a_{0} b_{39} + g_{4} a^{\\dagger}_{0} a_{0} b^\\dagger_{4} + g_{4} a^{\\dagger}_{0} a_{0} b_{4} + g_{40} a^{\\dagger}_{0} a_{0} b^\\dagger_{40} + g_{40} a^{\\dagger}_{0} a_{0} b_{40} + g_{41} a^{\\dagger}_{0} a_{0} b^\\dagger_{41} + g_{41} a^{\\dagger}_{0} a_{0} b_{41} + g_{42} a^{\\dagger}_{0} a_{0} b^\\dagger_{42} + g_{42} a^{\\dagger}_{0} a_{0} b_{42} + g_{43} a^{\\dagger}_{0} a_{0} b^\\dagger_{43} + g_{43} a^{\\dagger}_{0} a_{0} b_{43} + g_{44} a^{\\dagger}_{0} a_{0} b^\\dagger_{44} + g_{44} a^{\\dagger}_{0} a_{0} b_{44} + g_{45} a^{\\dagger}_{0} a_{0} b^\\dagger_{45} + g_{45} a^{\\dagger}_{0} a_{0} b_{45} + g_{46} a^{\\dagger}_{0} a_{0} b^\\dagger_{46} + g_{46} a^{\\dagger}_{0} a_{0} b_{46} + g_{47} a^{\\dagger}_{0} a_{0} b^\\dagger_{47} + g_{47} a^{\\dagger}_{0} a_{0} b_{47} + g_{48} a^{\\dagger}_{0} a_{0} b^\\dagger_{48} + g_{48} a^{\\dagger}_{0} a_{0} b_{48} + g_{49} a^{\\dagger}_{0} a_{0} b^\\dagger_{49} + g_{49} a^{\\dagger}_{0} a_{0} b_{49} + g_{5} a^{\\dagger}_{0} a_{0} b^\\dagger_{5} + g_{5} a^{\\dagger}_{0} a_{0} b_{5} + g_{50} a^{\\dagger}_{0} a_{0} b^\\dagger_{50} + g_{50} a^{\\dagger}_{0} a_{0} b_{50} + g_{51} a^{\\dagger}_{0} a_{0} b^\\dagger_{51} + g_{51} a^{\\dagger}_{0} a_{0} b_{51} + g_{52} a^{\\dagger}_{0} a_{0} b^\\dagger_{52} + g_{52} a^{\\dagger}_{0} a_{0} b_{52} + g_{53} a^{\\dagger}_{0} a_{0} b^\\dagger_{53} + g_{53} a^{\\dagger}_{0} a_{0} b_{53} + g_{54} a^{\\dagger}_{0} a_{0} b^\\dagger_{54} + g_{54} a^{\\dagger}_{0} a_{0} b_{54} + g_{55} a^{\\dagger}_{0} a_{0} b^\\dagger_{55} + g_{55} a^{\\dagger}_{0} a_{0} b_{55} + g_{56} a^{\\dagger}_{0} a_{0} b^\\dagger_{56} + g_{56} a^{\\dagger}_{0} a_{0} b_{56} + g_{57} a^{\\dagger}_{0} a_{0} b^\\dagger_{57} + g_{57} a^{\\dagger}_{0} a_{0} b_{57} + g_{58} a^{\\dagger}_{0} a_{0} b^\\dagger_{58} + g_{58} a^{\\dagger}_{0} a_{0} b_{58} + g_{59} a^{\\dagger}_{0} a_{0} b^\\dagger_{59} + g_{59} a^{\\dagger}_{0} a_{0} b_{59} + g_{6} a^{\\dagger}_{0} a_{0} b^\\dagger_{6} + g_{6} a^{\\dagger}_{0} a_{0} b_{6} + g_{60} a^{\\dagger}_{0} a_{0} b^\\dagger_{60} + g_{60} a^{\\dagger}_{0} a_{0} b_{60} + g_{61} a^{\\dagger}_{0} a_{0} b^\\dagger_{61} + g_{61} a^{\\dagger}_{0} a_{0} b_{61} + g_{62} a^{\\dagger}_{0} a_{0} b^\\dagger_{62} + g_{62} a^{\\dagger}_{0} a_{0} b_{62} + g_{63} a^{\\dagger}_{0} a_{0} b^\\dagger_{63} + g_{63} a^{\\dagger}_{0} a_{0} b_{63} + g_{64} a^{\\dagger}_{0} a_{0} b^\\dagger_{64} + g_{64} a^{\\dagger}_{0} a_{0} b_{64} + g_{65} a^{\\dagger}_{0} a_{0} b^\\dagger_{65} + g_{65} a^{\\dagger}_{0} a_{0} b_{65} + g_{66} a^{\\dagger}_{0} a_{0} b^\\dagger_{66} + g_{66} a^{\\dagger}_{0} a_{0} b_{66} + g_{67} a^{\\dagger}_{0} a_{0} b^\\dagger_{67} + g_{67} a^{\\dagger}_{0} a_{0} b_{67} + g_{68} a^{\\dagger}_{0} a_{0} b^\\dagger_{68} + g_{68} a^{\\dagger}_{0} a_{0} b_{68} + g_{69} a^{\\dagger}_{0} a_{0} b^\\dagger_{69} + g_{69} a^{\\dagger}_{0} a_{0} b_{69} + g_{7} a^{\\dagger}_{0} a_{0} b^\\dagger_{7} + g_{7} a^{\\dagger}_{0} a_{0} b_{7} + g_{70} a^{\\dagger}_{0} a_{0} b^\\dagger_{70} + g_{70} a^{\\dagger}_{0} a_{0} b_{70} + g_{71} a^{\\dagger}_{0} a_{0} b^\\dagger_{71} + g_{71} a^{\\dagger}_{0} a_{0} b_{71} + g_{72} a^{\\dagger}_{0} a_{0} b^\\dagger_{72} + g_{72} a^{\\dagger}_{0} a_{0} b_{72} + g_{73} a^{\\dagger}_{0} a_{0} b^\\dagger_{73} + g_{73} a^{\\dagger}_{0} a_{0} b_{73} + g_{74} a^{\\dagger}_{0} a_{0} b^\\dagger_{74} + g_{74} a^{\\dagger}_{0} a_{0} b_{74} + g_{75} a^{\\dagger}_{0} a_{0} b^\\dagger_{75} + g_{75} a^{\\dagger}_{0} a_{0} b_{75} + g_{76} a^{\\dagger}_{0} a_{0} b^\\dagger_{76} + g_{76} a^{\\dagger}_{0} a_{0} b_{76} + g_{77} a^{\\dagger}_{0} a_{0} b^\\dagger_{77} + g_{77} a^{\\dagger}_{0} a_{0} b_{77} + g_{78} a^{\\dagger}_{0} a_{0} b^\\dagger_{78} + g_{78} a^{\\dagger}_{0} a_{0} b_{78} + g_{79} a^{\\dagger}_{0} a_{0} b^\\dagger_{79} + g_{79} a^{\\dagger}_{0} a_{0} b_{79} + g_{8} a^{\\dagger}_{0} a_{0} b^\\dagger_{8} + g_{8} a^{\\dagger}_{0} a_{0} b_{8} + g_{80} a^{\\dagger}_{0} a_{0} b^\\dagger_{80} + g_{80} a^{\\dagger}_{0} a_{0} b_{80} + g_{81} a^{\\dagger}_{0} a_{0} b^\\dagger_{81} + g_{81} a^{\\dagger}_{0} a_{0} b_{81} + g_{82} a^{\\dagger}_{0} a_{0} b^\\dagger_{82} + g_{82} a^{\\dagger}_{0} a_{0} b_{82} + g_{83} a^{\\dagger}_{0} a_{0} b^\\dagger_{83} + g_{83} a^{\\dagger}_{0} a_{0} b_{83} + g_{84} a^{\\dagger}_{0} a_{0} b^\\dagger_{84} + g_{84} a^{\\dagger}_{0} a_{0} b_{84} + g_{85} a^{\\dagger}_{0} a_{0} b^\\dagger_{85} + g_{85} a^{\\dagger}_{0} a_{0} b_{85} + g_{86} a^{\\dagger}_{0} a_{0} b^\\dagger_{86} + g_{86} a^{\\dagger}_{0} a_{0} b_{86} + g_{87} a^{\\dagger}_{0} a_{0} b^\\dagger_{87} + g_{87} a^{\\dagger}_{0} a_{0} b_{87} + g_{88} a^{\\dagger}_{0} a_{0} b^\\dagger_{88} + g_{88} a^{\\dagger}_{0} a_{0} b_{88} + g_{89} a^{\\dagger}_{0} a_{0} b^\\dagger_{89} + g_{89} a^{\\dagger}_{0} a_{0} b_{89} + g_{9} a^{\\dagger}_{0} a_{0} b^\\dagger_{9} + g_{9} a^{\\dagger}_{0} a_{0} b_{9} + g_{90} a^{\\dagger}_{0} a_{0} b^\\dagger_{90} + g_{90} a^{\\dagger}_{0} a_{0} b_{90} + g_{91} a^{\\dagger}_{0} a_{0} b^\\dagger_{91} + g_{91} a^{\\dagger}_{0} a_{0} b_{91} + g_{92} a^{\\dagger}_{0} a_{0} b^\\dagger_{92} + g_{92} a^{\\dagger}_{0} a_{0} b_{92} + g_{93} a^{\\dagger}_{0} a_{0} b^\\dagger_{93} + g_{93} a^{\\dagger}_{0} a_{0} b_{93} + g_{94} a^{\\dagger}_{0} a_{0} b^\\dagger_{94} + g_{94} a^{\\dagger}_{0} a_{0} b_{94} + g_{95} a^{\\dagger}_{0} a_{0} b^\\dagger_{95} + g_{95} a^{\\dagger}_{0} a_{0} b_{95} + g_{96} a^{\\dagger}_{0} a_{0} b^\\dagger_{96} + g_{96} a^{\\dagger}_{0} a_{0} b_{96} + g_{97} a^{\\dagger}_{0} a_{0} b^\\dagger_{97} + g_{97} a^{\\dagger}_{0} a_{0} b_{97} + g_{98} a^{\\dagger}_{0} a_{0} b^\\dagger_{98} + g_{98} a^{\\dagger}_{0} a_{0} b_{98} + g_{99} a^{\\dagger}_{0} a_{0} b^\\dagger_{99} + g_{99} a^{\\dagger}_{0} a_{0} b_{99} + g_{CS, CS} a^{\\dagger}_{0} a_{0} b^\\dagger_{1} + g_{CS, CS} a^{\\dagger}_{0} a_{0} b_{1} + g_{LE, CS} a^{\\dagger}_{0} b^\\dagger_{1} + g_{LE, CS} a^{\\dagger}_{0} b_{1} + g_{LE, CS} a_{0} b^\\dagger_{1} + g_{LE, CS} a_{0} b_{1} + \\omega_{10} b^\\dagger_{10} b_{10} + \\omega_{100} b^\\dagger_{100} b_{100} + \\omega_{11} b^\\dagger_{11} b_{11} + \\omega_{12} b^\\dagger_{12} b_{12} + \\omega_{13} b^\\dagger_{13} b_{13} + \\omega_{14} b^\\dagger_{14} b_{14} + \\omega_{15} b^\\dagger_{15} b_{15} + \\omega_{16} b^\\dagger_{16} b_{16} + \\omega_{17} b^\\dagger_{17} b_{17} + \\omega_{18} b^\\dagger_{18} b_{18} + \\omega_{19} b^\\dagger_{19} b_{19} + \\omega_{2} b^\\dagger_{2} b_{2} + \\omega_{20} b^\\dagger_{20} b_{20} + \\omega_{21} b^\\dagger_{21} b_{21} + \\omega_{22} b^\\dagger_{22} b_{22} + \\omega_{23} b^\\dagger_{23} b_{23} + \\omega_{24} b^\\dagger_{24} b_{24} + \\omega_{25} b^\\dagger_{25} b_{25} + \\omega_{26} b^\\dagger_{26} b_{26} + \\omega_{27} b^\\dagger_{27} b_{27} + \\omega_{28} b^\\dagger_{28} b_{28} + \\omega_{29} b^\\dagger_{29} b_{29} + \\omega_{3} b^\\dagger_{3} b_{3} + \\omega_{30} b^\\dagger_{30} b_{30} + \\omega_{31} b^\\dagger_{31} b_{31} + \\omega_{32} b^\\dagger_{32} b_{32} + \\omega_{33} b^\\dagger_{33} b_{33} + \\omega_{34} b^\\dagger_{34} b_{34} + \\omega_{35} b^\\dagger_{35} b_{35} + \\omega_{36} b^\\dagger_{36} b_{36} + \\omega_{37} b^\\dagger_{37} b_{37} + \\omega_{38} b^\\dagger_{38} b_{38} + \\omega_{39} b^\\dagger_{39} b_{39} + \\omega_{4} b^\\dagger_{4} b_{4} + \\omega_{40} b^\\dagger_{40} b_{40} + \\omega_{41} b^\\dagger_{41} b_{41} + \\omega_{42} b^\\dagger_{42} b_{42} + \\omega_{43} b^\\dagger_{43} b_{43} + \\omega_{44} b^\\dagger_{44} b_{44} + \\omega_{45} b^\\dagger_{45} b_{45} + \\omega_{46} b^\\dagger_{46} b_{46} + \\omega_{47} b^\\dagger_{47} b_{47} + \\omega_{48} b^\\dagger_{48} b_{48} + \\omega_{49} b^\\dagger_{49} b_{49} + \\omega_{5} b^\\dagger_{5} b_{5} + \\omega_{50} b^\\dagger_{50} b_{50} + \\omega_{51} b^\\dagger_{51} b_{51} + \\omega_{52} b^\\dagger_{52} b_{52} + \\omega_{53} b^\\dagger_{53} b_{53} + \\omega_{54} b^\\dagger_{54} b_{54} + \\omega_{55} b^\\dagger_{55} b_{55} + \\omega_{56} b^\\dagger_{56} b_{56} + \\omega_{57} b^\\dagger_{57} b_{57} + \\omega_{58} b^\\dagger_{58} b_{58} + \\omega_{59} b^\\dagger_{59} b_{59} + \\omega_{6} b^\\dagger_{6} b_{6} + \\omega_{60} b^\\dagger_{60} b_{60} + \\omega_{61} b^\\dagger_{61} b_{61} + \\omega_{62} b^\\dagger_{62} b_{62} + \\omega_{63} b^\\dagger_{63} b_{63} + \\omega_{64} b^\\dagger_{64} b_{64} + \\omega_{65} b^\\dagger_{65} b_{65} + \\omega_{66} b^\\dagger_{66} b_{66} + \\omega_{67} b^\\dagger_{67} b_{67} + \\omega_{68} b^\\dagger_{68} b_{68} + \\omega_{69} b^\\dagger_{69} b_{69} + \\omega_{7} b^\\dagger_{7} b_{7} + \\omega_{70} b^\\dagger_{70} b_{70} + \\omega_{71} b^\\dagger_{71} b_{71} + \\omega_{72} b^\\dagger_{72} b_{72} + \\omega_{73} b^\\dagger_{73} b_{73} + \\omega_{74} b^\\dagger_{74} b_{74} + \\omega_{75} b^\\dagger_{75} b_{75} + \\omega_{76} b^\\dagger_{76} b_{76} + \\omega_{77} b^\\dagger_{77} b_{77} + \\omega_{78} b^\\dagger_{78} b_{78} + \\omega_{79} b^\\dagger_{79} b_{79} + \\omega_{8} b^\\dagger_{8} b_{8} + \\omega_{80} b^\\dagger_{80} b_{80} + \\omega_{81} b^\\dagger_{81} b_{81} + \\omega_{82} b^\\dagger_{82} b_{82} + \\omega_{83} b^\\dagger_{83} b_{83} + \\omega_{84} b^\\dagger_{84} b_{84} + \\omega_{85} b^\\dagger_{85} b_{85} + \\omega_{86} b^\\dagger_{86} b_{86} + \\omega_{87} b^\\dagger_{87} b_{87} + \\omega_{88} b^\\dagger_{88} b_{88} + \\omega_{89} b^\\dagger_{89} b_{89} + \\omega_{9} b^\\dagger_{9} b_{9} + \\omega_{90} b^\\dagger_{90} b_{90} + \\omega_{91} b^\\dagger_{91} b_{91} + \\omega_{92} b^\\dagger_{92} b_{92} + \\omega_{93} b^\\dagger_{93} b_{93} + \\omega_{94} b^\\dagger_{94} b_{94} + \\omega_{95} b^\\dagger_{95} b_{95} + \\omega_{96} b^\\dagger_{96} b_{96} + \\omega_{97} b^\\dagger_{97} b_{97} + \\omega_{98} b^\\dagger_{98} b_{98} + \\omega_{99} b^\\dagger_{99} b_{99} + t_{LE, CS} a^{\\dagger}_{0} + t_{LE, CS} a_{0} + ε a^{\\dagger}_{0} a_{0} + ω_{R} b^\\dagger_{1} b_{1}$"
      ],
      "text/plain": [
       "g_10*a^\\dagger_0*a_0*b^\\dagger_{10} + g_10*a^\\dagger_0*a_0*b_{10} + g_100*a^\\dagger_0*a_0*b^\\dagger_{100} + g_100*a^\\dagger_0*a_0*b_{100} + g_11*a^\\dagger_0*a_0*b^\\dagger_{11} + g_11*a^\\dagger_0*a_0*b_{11} + g_12*a^\\dagger_0*a_0*b^\\dagger_{12} + g_12*a^\\dagger_0*a_0*b_{12} + g_13*a^\\dagger_0*a_0*b^\\dagger_{13} + g_13*a^\\dagger_0*a_0*b_{13} + g_14*a^\\dagger_0*a_0*b^\\dagger_{14} + g_14*a^\\dagger_0*a_0*b_{14} + g_15*a^\\dagger_0*a_0*b^\\dagger_{15} + g_15*a^\\dagger_0*a_0*b_{15} + g_16*a^\\dagger_0*a_0*b^\\dagger_{16} + g_16*a^\\dagger_0*a_0*b_{16} + g_17*a^\\dagger_0*a_0*b^\\dagger_{17} + g_17*a^\\dagger_0*a_0*b_{17} + g_18*a^\\dagger_0*a_0*b^\\dagger_{18} + g_18*a^\\dagger_0*a_0*b_{18} + g_19*a^\\dagger_0*a_0*b^\\dagger_{19} + g_19*a^\\dagger_0*a_0*b_{19} + g_2*a^\\dagger_0*a_0*b^\\dagger_{2} + g_2*a^\\dagger_0*a_0*b_{2} + g_20*a^\\dagger_0*a_0*b^\\dagger_{20} + g_20*a^\\dagger_0*a_0*b_{20} + g_21*a^\\dagger_0*a_0*b^\\dagger_{21} + g_21*a^\\dagger_0*a_0*b_{21} + g_22*a^\\dagger_0*a_0*b^\\dagger_{22} + g_22*a^\\dagger_0*a_0*b_{22} + g_23*a^\\dagger_0*a_0*b^\\dagger_{23} + g_23*a^\\dagger_0*a_0*b_{23} + g_24*a^\\dagger_0*a_0*b^\\dagger_{24} + g_24*a^\\dagger_0*a_0*b_{24} + g_25*a^\\dagger_0*a_0*b^\\dagger_{25} + g_25*a^\\dagger_0*a_0*b_{25} + g_26*a^\\dagger_0*a_0*b^\\dagger_{26} + g_26*a^\\dagger_0*a_0*b_{26} + g_27*a^\\dagger_0*a_0*b^\\dagger_{27} + g_27*a^\\dagger_0*a_0*b_{27} + g_28*a^\\dagger_0*a_0*b^\\dagger_{28} + g_28*a^\\dagger_0*a_0*b_{28} + g_29*a^\\dagger_0*a_0*b^\\dagger_{29} + g_29*a^\\dagger_0*a_0*b_{29} + g_3*a^\\dagger_0*a_0*b^\\dagger_{3} + g_3*a^\\dagger_0*a_0*b_{3} + g_30*a^\\dagger_0*a_0*b^\\dagger_{30} + g_30*a^\\dagger_0*a_0*b_{30} + g_31*a^\\dagger_0*a_0*b^\\dagger_{31} + g_31*a^\\dagger_0*a_0*b_{31} + g_32*a^\\dagger_0*a_0*b^\\dagger_{32} + g_32*a^\\dagger_0*a_0*b_{32} + g_33*a^\\dagger_0*a_0*b^\\dagger_{33} + g_33*a^\\dagger_0*a_0*b_{33} + g_34*a^\\dagger_0*a_0*b^\\dagger_{34} + g_34*a^\\dagger_0*a_0*b_{34} + g_35*a^\\dagger_0*a_0*b^\\dagger_{35} + g_35*a^\\dagger_0*a_0*b_{35} + g_36*a^\\dagger_0*a_0*b^\\dagger_{36} + g_36*a^\\dagger_0*a_0*b_{36} + g_37*a^\\dagger_0*a_0*b^\\dagger_{37} + g_37*a^\\dagger_0*a_0*b_{37} + g_38*a^\\dagger_0*a_0*b^\\dagger_{38} + g_38*a^\\dagger_0*a_0*b_{38} + g_39*a^\\dagger_0*a_0*b^\\dagger_{39} + g_39*a^\\dagger_0*a_0*b_{39} + g_4*a^\\dagger_0*a_0*b^\\dagger_{4} + g_4*a^\\dagger_0*a_0*b_{4} + g_40*a^\\dagger_0*a_0*b^\\dagger_{40} + g_40*a^\\dagger_0*a_0*b_{40} + g_41*a^\\dagger_0*a_0*b^\\dagger_{41} + g_41*a^\\dagger_0*a_0*b_{41} + g_42*a^\\dagger_0*a_0*b^\\dagger_{42} + g_42*a^\\dagger_0*a_0*b_{42} + g_43*a^\\dagger_0*a_0*b^\\dagger_{43} + g_43*a^\\dagger_0*a_0*b_{43} + g_44*a^\\dagger_0*a_0*b^\\dagger_{44} + g_44*a^\\dagger_0*a_0*b_{44} + g_45*a^\\dagger_0*a_0*b^\\dagger_{45} + g_45*a^\\dagger_0*a_0*b_{45} + g_46*a^\\dagger_0*a_0*b^\\dagger_{46} + g_46*a^\\dagger_0*a_0*b_{46} + g_47*a^\\dagger_0*a_0*b^\\dagger_{47} + g_47*a^\\dagger_0*a_0*b_{47} + g_48*a^\\dagger_0*a_0*b^\\dagger_{48} + g_48*a^\\dagger_0*a_0*b_{48} + g_49*a^\\dagger_0*a_0*b^\\dagger_{49} + g_49*a^\\dagger_0*a_0*b_{49} + g_5*a^\\dagger_0*a_0*b^\\dagger_{5} + g_5*a^\\dagger_0*a_0*b_{5} + g_50*a^\\dagger_0*a_0*b^\\dagger_{50} + g_50*a^\\dagger_0*a_0*b_{50} + g_51*a^\\dagger_0*a_0*b^\\dagger_{51} + g_51*a^\\dagger_0*a_0*b_{51} + g_52*a^\\dagger_0*a_0*b^\\dagger_{52} + g_52*a^\\dagger_0*a_0*b_{52} + g_53*a^\\dagger_0*a_0*b^\\dagger_{53} + g_53*a^\\dagger_0*a_0*b_{53} + g_54*a^\\dagger_0*a_0*b^\\dagger_{54} + g_54*a^\\dagger_0*a_0*b_{54} + g_55*a^\\dagger_0*a_0*b^\\dagger_{55} + g_55*a^\\dagger_0*a_0*b_{55} + g_56*a^\\dagger_0*a_0*b^\\dagger_{56} + g_56*a^\\dagger_0*a_0*b_{56} + g_57*a^\\dagger_0*a_0*b^\\dagger_{57} + g_57*a^\\dagger_0*a_0*b_{57} + g_58*a^\\dagger_0*a_0*b^\\dagger_{58} + g_58*a^\\dagger_0*a_0*b_{58} + g_59*a^\\dagger_0*a_0*b^\\dagger_{59} + g_59*a^\\dagger_0*a_0*b_{59} + g_6*a^\\dagger_0*a_0*b^\\dagger_{6} + g_6*a^\\dagger_0*a_0*b_{6} + g_60*a^\\dagger_0*a_0*b^\\dagger_{60} + g_60*a^\\dagger_0*a_0*b_{60} + g_61*a^\\dagger_0*a_0*b^\\dagger_{61} + g_61*a^\\dagger_0*a_0*b_{61} + g_62*a^\\dagger_0*a_0*b^\\dagger_{62} + g_62*a^\\dagger_0*a_0*b_{62} + g_63*a^\\dagger_0*a_0*b^\\dagger_{63} + g_63*a^\\dagger_0*a_0*b_{63} + g_64*a^\\dagger_0*a_0*b^\\dagger_{64} + g_64*a^\\dagger_0*a_0*b_{64} + g_65*a^\\dagger_0*a_0*b^\\dagger_{65} + g_65*a^\\dagger_0*a_0*b_{65} + g_66*a^\\dagger_0*a_0*b^\\dagger_{66} + g_66*a^\\dagger_0*a_0*b_{66} + g_67*a^\\dagger_0*a_0*b^\\dagger_{67} + g_67*a^\\dagger_0*a_0*b_{67} + g_68*a^\\dagger_0*a_0*b^\\dagger_{68} + g_68*a^\\dagger_0*a_0*b_{68} + g_69*a^\\dagger_0*a_0*b^\\dagger_{69} + g_69*a^\\dagger_0*a_0*b_{69} + g_7*a^\\dagger_0*a_0*b^\\dagger_{7} + g_7*a^\\dagger_0*a_0*b_{7} + g_70*a^\\dagger_0*a_0*b^\\dagger_{70} + g_70*a^\\dagger_0*a_0*b_{70} + g_71*a^\\dagger_0*a_0*b^\\dagger_{71} + g_71*a^\\dagger_0*a_0*b_{71} + g_72*a^\\dagger_0*a_0*b^\\dagger_{72} + g_72*a^\\dagger_0*a_0*b_{72} + g_73*a^\\dagger_0*a_0*b^\\dagger_{73} + g_73*a^\\dagger_0*a_0*b_{73} + g_74*a^\\dagger_0*a_0*b^\\dagger_{74} + g_74*a^\\dagger_0*a_0*b_{74} + g_75*a^\\dagger_0*a_0*b^\\dagger_{75} + g_75*a^\\dagger_0*a_0*b_{75} + g_76*a^\\dagger_0*a_0*b^\\dagger_{76} + g_76*a^\\dagger_0*a_0*b_{76} + g_77*a^\\dagger_0*a_0*b^\\dagger_{77} + g_77*a^\\dagger_0*a_0*b_{77} + g_78*a^\\dagger_0*a_0*b^\\dagger_{78} + g_78*a^\\dagger_0*a_0*b_{78} + g_79*a^\\dagger_0*a_0*b^\\dagger_{79} + g_79*a^\\dagger_0*a_0*b_{79} + g_8*a^\\dagger_0*a_0*b^\\dagger_{8} + g_8*a^\\dagger_0*a_0*b_{8} + g_80*a^\\dagger_0*a_0*b^\\dagger_{80} + g_80*a^\\dagger_0*a_0*b_{80} + g_81*a^\\dagger_0*a_0*b^\\dagger_{81} + g_81*a^\\dagger_0*a_0*b_{81} + g_82*a^\\dagger_0*a_0*b^\\dagger_{82} + g_82*a^\\dagger_0*a_0*b_{82} + g_83*a^\\dagger_0*a_0*b^\\dagger_{83} + g_83*a^\\dagger_0*a_0*b_{83} + g_84*a^\\dagger_0*a_0*b^\\dagger_{84} + g_84*a^\\dagger_0*a_0*b_{84} + g_85*a^\\dagger_0*a_0*b^\\dagger_{85} + g_85*a^\\dagger_0*a_0*b_{85} + g_86*a^\\dagger_0*a_0*b^\\dagger_{86} + g_86*a^\\dagger_0*a_0*b_{86} + g_87*a^\\dagger_0*a_0*b^\\dagger_{87} + g_87*a^\\dagger_0*a_0*b_{87} + g_88*a^\\dagger_0*a_0*b^\\dagger_{88} + g_88*a^\\dagger_0*a_0*b_{88} + g_89*a^\\dagger_0*a_0*b^\\dagger_{89} + g_89*a^\\dagger_0*a_0*b_{89} + g_9*a^\\dagger_0*a_0*b^\\dagger_{9} + g_9*a^\\dagger_0*a_0*b_{9} + g_90*a^\\dagger_0*a_0*b^\\dagger_{90} + g_90*a^\\dagger_0*a_0*b_{90} + g_91*a^\\dagger_0*a_0*b^\\dagger_{91} + g_91*a^\\dagger_0*a_0*b_{91} + g_92*a^\\dagger_0*a_0*b^\\dagger_{92} + g_92*a^\\dagger_0*a_0*b_{92} + g_93*a^\\dagger_0*a_0*b^\\dagger_{93} + g_93*a^\\dagger_0*a_0*b_{93} + g_94*a^\\dagger_0*a_0*b^\\dagger_{94} + g_94*a^\\dagger_0*a_0*b_{94} + g_95*a^\\dagger_0*a_0*b^\\dagger_{95} + g_95*a^\\dagger_0*a_0*b_{95} + g_96*a^\\dagger_0*a_0*b^\\dagger_{96} + g_96*a^\\dagger_0*a_0*b_{96} + g_97*a^\\dagger_0*a_0*b^\\dagger_{97} + g_97*a^\\dagger_0*a_0*b_{97} + g_98*a^\\dagger_0*a_0*b^\\dagger_{98} + g_98*a^\\dagger_0*a_0*b_{98} + g_99*a^\\dagger_0*a_0*b^\\dagger_{99} + g_99*a^\\dagger_0*a_0*b_{99} + g_{CS, CS}*a^\\dagger_0*a_0*b^\\dagger_{1} + g_{CS, CS}*a^\\dagger_0*a_0*b_{1} + g_{LE, CS}*a^\\dagger_0*b^\\dagger_{1} + g_{LE, CS}*a^\\dagger_0*b_{1} + g_{LE, CS}*a_0*b^\\dagger_{1} + g_{LE, CS}*a_0*b_{1} + omega_10*b^\\dagger_{10}*b_{10} + omega_100*b^\\dagger_{100}*b_{100} + omega_11*b^\\dagger_{11}*b_{11} + omega_12*b^\\dagger_{12}*b_{12} + omega_13*b^\\dagger_{13}*b_{13} + omega_14*b^\\dagger_{14}*b_{14} + omega_15*b^\\dagger_{15}*b_{15} + omega_16*b^\\dagger_{16}*b_{16} + omega_17*b^\\dagger_{17}*b_{17} + omega_18*b^\\dagger_{18}*b_{18} + omega_19*b^\\dagger_{19}*b_{19} + omega_2*b^\\dagger_{2}*b_{2} + omega_20*b^\\dagger_{20}*b_{20} + omega_21*b^\\dagger_{21}*b_{21} + omega_22*b^\\dagger_{22}*b_{22} + omega_23*b^\\dagger_{23}*b_{23} + omega_24*b^\\dagger_{24}*b_{24} + omega_25*b^\\dagger_{25}*b_{25} + omega_26*b^\\dagger_{26}*b_{26} + omega_27*b^\\dagger_{27}*b_{27} + omega_28*b^\\dagger_{28}*b_{28} + omega_29*b^\\dagger_{29}*b_{29} + omega_3*b^\\dagger_{3}*b_{3} + omega_30*b^\\dagger_{30}*b_{30} + omega_31*b^\\dagger_{31}*b_{31} + omega_32*b^\\dagger_{32}*b_{32} + omega_33*b^\\dagger_{33}*b_{33} + omega_34*b^\\dagger_{34}*b_{34} + omega_35*b^\\dagger_{35}*b_{35} + omega_36*b^\\dagger_{36}*b_{36} + omega_37*b^\\dagger_{37}*b_{37} + omega_38*b^\\dagger_{38}*b_{38} + omega_39*b^\\dagger_{39}*b_{39} + omega_4*b^\\dagger_{4}*b_{4} + omega_40*b^\\dagger_{40}*b_{40} + omega_41*b^\\dagger_{41}*b_{41} + omega_42*b^\\dagger_{42}*b_{42} + omega_43*b^\\dagger_{43}*b_{43} + omega_44*b^\\dagger_{44}*b_{44} + omega_45*b^\\dagger_{45}*b_{45} + omega_46*b^\\dagger_{46}*b_{46} + omega_47*b^\\dagger_{47}*b_{47} + omega_48*b^\\dagger_{48}*b_{48} + omega_49*b^\\dagger_{49}*b_{49} + omega_5*b^\\dagger_{5}*b_{5} + omega_50*b^\\dagger_{50}*b_{50} + omega_51*b^\\dagger_{51}*b_{51} + omega_52*b^\\dagger_{52}*b_{52} + omega_53*b^\\dagger_{53}*b_{53} + omega_54*b^\\dagger_{54}*b_{54} + omega_55*b^\\dagger_{55}*b_{55} + omega_56*b^\\dagger_{56}*b_{56} + omega_57*b^\\dagger_{57}*b_{57} + omega_58*b^\\dagger_{58}*b_{58} + omega_59*b^\\dagger_{59}*b_{59} + omega_6*b^\\dagger_{6}*b_{6} + omega_60*b^\\dagger_{60}*b_{60} + omega_61*b^\\dagger_{61}*b_{61} + omega_62*b^\\dagger_{62}*b_{62} + omega_63*b^\\dagger_{63}*b_{63} + omega_64*b^\\dagger_{64}*b_{64} + omega_65*b^\\dagger_{65}*b_{65} + omega_66*b^\\dagger_{66}*b_{66} + omega_67*b^\\dagger_{67}*b_{67} + omega_68*b^\\dagger_{68}*b_{68} + omega_69*b^\\dagger_{69}*b_{69} + omega_7*b^\\dagger_{7}*b_{7} + omega_70*b^\\dagger_{70}*b_{70} + omega_71*b^\\dagger_{71}*b_{71} + omega_72*b^\\dagger_{72}*b_{72} + omega_73*b^\\dagger_{73}*b_{73} + omega_74*b^\\dagger_{74}*b_{74} + omega_75*b^\\dagger_{75}*b_{75} + omega_76*b^\\dagger_{76}*b_{76} + omega_77*b^\\dagger_{77}*b_{77} + omega_78*b^\\dagger_{78}*b_{78} + omega_79*b^\\dagger_{79}*b_{79} + omega_8*b^\\dagger_{8}*b_{8} + omega_80*b^\\dagger_{80}*b_{80} + omega_81*b^\\dagger_{81}*b_{81} + omega_82*b^\\dagger_{82}*b_{82} + omega_83*b^\\dagger_{83}*b_{83} + omega_84*b^\\dagger_{84}*b_{84} + omega_85*b^\\dagger_{85}*b_{85} + omega_86*b^\\dagger_{86}*b_{86} + omega_87*b^\\dagger_{87}*b_{87} + omega_88*b^\\dagger_{88}*b_{88} + omega_89*b^\\dagger_{89}*b_{89} + omega_9*b^\\dagger_{9}*b_{9} + omega_90*b^\\dagger_{90}*b_{90} + omega_91*b^\\dagger_{91}*b_{91} + omega_92*b^\\dagger_{92}*b_{92} + omega_93*b^\\dagger_{93}*b_{93} + omega_94*b^\\dagger_{94}*b_{94} + omega_95*b^\\dagger_{95}*b_{95} + omega_96*b^\\dagger_{96}*b_{96} + omega_97*b^\\dagger_{97}*b_{97} + omega_98*b^\\dagger_{98}*b_{98} + omega_99*b^\\dagger_{99}*b_{99} + t_{LE, CS}*a^\\dagger_0 + t_{LE, CS}*a_0 + ε*a^\\dagger_0*a_0 + ω_R*b^\\dagger_{1}*b_{1}"
      ]
     },
     "metadata": {},
     "output_type": "display_data"
    }
   ],
   "source": [
    "am_pot = AssignManager(pot_sop)\n",
    "am_pot.assign()\n",
    "display(*am_pot.Wsym)\n",
    "W_prod = sympy.Mul(*am_pot.Wsym)\n",
    "print(*[f\"W{i}\" for i in range(am_pot.ndim)], \"=\")\n",
    "display(W_prod[0].expand())\n",
    "pot_mpo = am_pot.numerical_mpo(subs=subs)"
   ]
  },
  {
   "cell_type": "markdown",
   "id": "a0188b6f-83d8-4e9a-95e0-fd1051cdb7fe",
   "metadata": {},
   "source": [
    "### Setup Hamiltonian"
   ]
  },
  {
   "cell_type": "code",
   "execution_count": 8,
   "id": "d5cbd775-062e-46de-90cc-7330093651d0",
   "metadata": {
    "scrolled": true
   },
   "outputs": [],
   "source": [
    "potential = [\n",
    "    [\n",
    "        {\n",
    "            (tuple((i, i) for i in range(0, ndim))): TensorOperator(\n",
    "                mpo=pot_mpo\n",
    "            )\n",
    "        }\n",
    "    ]\n",
    "]\n",
    "\n",
    "H = TensorHamiltonian(\n",
    "    ndof=len(basis), potential=potential, kinetic=None, backend=backend\n",
    ")\n",
    "\n",
    "operators = {\"hamiltonian\": H}\n",
    "\n",
    "for i in range(1, ndim):\n",
    "    core = np.zeros((1, basis[i].nprim, 1))\n",
    "    core[0, :, 0] = np.arange(basis[i].nprim)\n",
    "    n = TensorHamiltonian(\n",
    "        ndof=len(basis),\n",
    "        potential=[[{(i,): TensorOperator(mpo=[core], legs=(i,))}]],\n",
    "        kinetic=None,\n",
    "        backend=backend,\n",
    "    )\n",
    "    operators[f\"N{i}\"] = n"
   ]
  },
  {
   "cell_type": "markdown",
   "id": "ffab9fb2-ff36-44e7-ac32-9ce84666e201",
   "metadata": {},
   "source": [
    "### Setup Model (basis, operators, initial states)"
   ]
  },
  {
   "cell_type": "code",
   "execution_count": 9,
   "id": "37b0367c-6a22-472c-b0f0-db76f01c60d0",
   "metadata": {},
   "outputs": [],
   "source": [
    "model = Model(basinfo=basinfo, operators=operators)\n",
    "model.m_aux_max = 20\n",
    "init_boson = [[1.0] + [0.0] * (basis[1].nprim - 1)]\n",
    "model.init_HartreeProduct = [[[1.0, 0.0]] + init_boson * (ndim - 1)]"
   ]
  },
  {
   "cell_type": "markdown",
   "id": "09bfdf21-2df6-42ac-9f16-d103cd4971ad",
   "metadata": {},
   "source": [
    "### Execution"
   ]
  },
  {
   "cell_type": "code",
   "execution_count": 10,
   "id": "822a0737-74e8-475a-9077-ecd3687578ba",
   "metadata": {
    "scrolled": true
   },
   "outputs": [
    {
     "name": "stderr",
     "output_type": "stream",
     "text": [
      "2025-04-29 02:11:27,869 - INFO:main.pytdscf._const_cls - \u001b[1m\u001b[35m\n",
      "     ____     __________   .____ ____   _____\n",
      "    / _  |   /__  __/ _ \\ / ___ / _  \\ / ___/\n",
      "   / /_) /_  __/ / / / ||/ /__ / / )_// /__\n",
      "  /  ___/ / / / / / / / |.__  / |  __/ ___/\n",
      " /  /  / /_/ / / / /_/ /___/ /| \\_/ / /\n",
      "/__/   \\__, /_/ /_____/_____/ \\____/_/\n",
      "      /____/\n",
      "\u001b[0m\n",
      "2025-04-29 02:11:27,871 - INFO:main.pytdscf._const_cls - Log file is ./donor-acceptor_model-A_prop/main.log\n",
      "2025-04-29 02:11:27,872 - INFO:main.pytdscf.simulator_cls - Set integral of FBR basis\n",
      "2025-04-29 02:11:27,878 - INFO:main.pytdscf.simulator_cls - Set initial wave function (FBR basis)\n",
      "2025-04-29 02:11:27,879 - INFO:main.pytdscf.simulator_cls - Prepare MPS w.f.\n",
      "2025-04-29 02:11:27,882 - INFO:main.pytdscf._mps_cls - Initial MPS: 0-state with weights 1.0\n",
      "2025-04-29 02:11:28,173 - INFO:main.pytdscf.simulator_cls - Wave function is saved in wf_donor-acceptor_model-A.pkl\n",
      "2025-04-29 02:11:28,221 - INFO:main.pytdscf.simulator_cls - Start initial step    0.000 [fs]\n",
      "2025-04-29 02:11:55,543 - INFO:main.pytdscf.simulator_cls - End     0 step; propagated    0.200 [fs]; AVG Krylov iteration: 4.98\n",
      "2025-04-29 02:24:31,525 - INFO:main.pytdscf.simulator_cls - End   100 step; propagated   20.200 [fs]; AVG Krylov iteration: 4.98\n",
      "2025-04-29 02:36:13,701 - INFO:main.pytdscf.simulator_cls - End   200 step; propagated   40.200 [fs]; AVG Krylov iteration: 4.98\n",
      "2025-04-29 02:47:39,716 - INFO:main.pytdscf.simulator_cls - End   300 step; propagated   60.200 [fs]; AVG Krylov iteration: 4.98\n",
      "2025-04-29 02:59:34,697 - INFO:main.pytdscf.simulator_cls - End   400 step; propagated   80.200 [fs]; AVG Krylov iteration: 4.98\n",
      "2025-04-29 03:11:19,675 - INFO:main.pytdscf.simulator_cls - End   500 step; propagated  100.200 [fs]; AVG Krylov iteration: 4.98\n",
      "2025-04-29 03:22:44,745 - INFO:main.pytdscf.simulator_cls - End   600 step; propagated  120.200 [fs]; AVG Krylov iteration: 4.98\n",
      "2025-04-29 03:34:08,832 - INFO:main.pytdscf.simulator_cls - End   700 step; propagated  140.200 [fs]; AVG Krylov iteration: 4.98\n",
      "2025-04-29 03:45:18,522 - INFO:main.pytdscf.simulator_cls - End   800 step; propagated  160.200 [fs]; AVG Krylov iteration: 4.98\n",
      "2025-04-29 03:56:23,703 - INFO:main.pytdscf.simulator_cls - End   900 step; propagated  180.200 [fs]; AVG Krylov iteration: 4.98\n",
      "2025-04-29 04:07:14,335 - INFO:main.pytdscf.simulator_cls - Saved wavefunction  199.800 [fs]\n",
      "2025-04-29 04:07:20,379 - INFO:main.pytdscf.simulator_cls - End   999 step; propagated  199.800 [fs]; AVG Krylov iteration: 4.98\n",
      "2025-04-29 04:07:20,380 - INFO:main.pytdscf.simulator_cls - End simulation and save wavefunction\n",
      "2025-04-29 04:07:20,542 - INFO:main.pytdscf.simulator_cls - Wave function is saved in wf_donor-acceptor_model-A.pkl\n"
     ]
    },
    {
     "data": {
      "text/plain": [
       "(-2.8211260824433874e-09, <pytdscf.wavefunction.WFunc at 0x11975cad0>)"
      ]
     },
     "execution_count": 10,
     "metadata": {},
     "output_type": "execute_result"
    }
   ],
   "source": [
    "jobname = \"donor-acceptor_model-A\"\n",
    "simulator = Simulator(jobname=jobname, model=model, backend=backend, verbose=2)\n",
    "simulator.propagate(\n",
    "    maxstep=1000,\n",
    "    stepsize=0.2,\n",
    "    reduced_density=(\n",
    "        [(0, 0)],\n",
    "        10,\n",
    "    ),\n",
    "    energy=True,\n",
    "    autocorr=False,\n",
    "    observables=True,\n",
    "    observables_per_step=10,\n",
    ")"
   ]
  },
  {
   "cell_type": "markdown",
   "id": "2fba40cc-12b1-487f-90f0-0898a9fcfeec",
   "metadata": {},
   "source": [
    "### Check results (reduced densities)"
   ]
  },
  {
   "cell_type": "code",
   "execution_count": 11,
   "id": "43180861-3b7e-4f67-b949-7534ef205f73",
   "metadata": {},
   "outputs": [],
   "source": [
    "import netCDF4 as nc\n",
    "\n",
    "with nc.Dataset(f\"{jobname}_prop/reduced_density.nc\", \"r\") as file:\n",
    "    density_data_real = file.variables[\"rho_(0, 0)_0\"][:][\"real\"]\n",
    "    density_data_imag = file.variables[\"rho_(0, 0)_0\"][:][\"imag\"]\n",
    "    time_data = file.variables[\"time\"][:]"
   ]
  },
  {
   "cell_type": "code",
   "execution_count": 12,
   "id": "ab203436-0a47-4e4b-9f70-af4d228fe0e7",
   "metadata": {},
   "outputs": [
    {
     "data": {
      "image/png": "[encoded data removed]",
      "text/plain": [
       "<Figure size 640x480 with 1 Axes>"
      ]
     },
     "metadata": {},
     "output_type": "display_data"
    }
   ],
   "source": [
    "plt.title(f\"# of site = {len(basis)}\")\n",
    "plt.ylabel(\"Population\")\n",
    "plt.xlabel(\"Time [fs]\")\n",
    "plt.plot(time_data, density_data_real[:, 0, 0], label=\"LE\")\n",
    "plt.legend()\n",
    "plt.show()"
   ]
  },
  {
   "cell_type": "code",
   "execution_count": 13,
   "id": "3e152c17-ad61-4dbd-be8a-2bf176d41bae",
   "metadata": {},
   "outputs": [
    {
     "data": {
      "image/png": "[encoded data removed]",
      "text/plain": [
       "<Figure size 2700x1000 with 2 Axes>"
      ]
     },
     "metadata": {},
     "output_type": "display_data"
    }
   ],
   "source": [
    "import re\n",
    "\n",
    "import polars as pl\n",
    "\n",
    "path = f\"{jobname}_prop/expectations.dat\"\n",
    "with open(path, \"r\") as f:\n",
    "    header = f.readline().strip()\n",
    "    columns = re.split(r\"\\s+\", header)\n",
    "\n",
    "    columns.pop(2)\n",
    "    \n",
    "    columns = [columns[1]] + columns[2:]\n",
    "\n",
    "    data = f.readlines()\n",
    "\n",
    "df = pl.read_csv(\n",
    "    path,\n",
    "    separator=\"\\t\",\n",
    "    new_columns=columns,\n",
    "    has_header=False,\n",
    "    skip_rows=1,\n",
    "    schema_overrides={col: pl.Float64 for col in columns},\n",
    ")\n",
    "\n",
    "plt.figure(figsize=(27, 10))\n",
    "plt.imshow(df[columns[2:]], aspect=0.2)\n",
    "plt.colorbar()\n",
    "plt.yticks(np.arange(len(df))[::20], df[\"time\"][::20])\n",
    "plt.ylabel(\"time [fs]\")\n",
    "plt.title(r\"$\\langle \\hat{N}_i \\rangle$\")\n",
    "plt.show()"
   ]
  },
  {
   "cell_type": "code",
   "execution_count": 14,
   "id": "ae6bed6d-a692-407b-a6cf-07421cd9c91b",
   "metadata": {},
   "outputs": [
    {
     "data": {
      "image/png": "[encoded data removed]",
      "text/plain": [
       "<Figure size 640x480 with 1 Axes>"
      ]
     },
     "metadata": {},
     "output_type": "display_data"
    }
   ],
   "source": [
    "plt.ylabel(\"Population\")\n",
    "plt.xlabel(\"Time [fs]\")\n",
    "plt.plot(time_data, df[columns[1]], label=\"n_int\")\n",
    "plt.legend()\n",
    "plt.show()"
   ]
  },
  {
   "cell_type": "code",
   "execution_count": null,
   "id": "4825982a-4aa0-4c55-81dc-aa6e71162c1a",
   "metadata": {},
   "outputs": [],
   "source": []
  }
 ],
 "metadata": {
  "kernelspec": {
   "display_name": "Python 3 (ipykernel)",
   "language": "python",
   "name": "python3"
  },
  "language_info": {
   "codemirror_mode": {
    "name": "ipython",
    "version": 3
   },
   "file_extension": ".py",
   "mimetype": "text/x-python",
   "name": "python",
   "nbconvert_exporter": "python",
   "pygments_lexer": "ipython3",
   "version": "3.13.2"
  }
 },
 "nbformat": 4,
 "nbformat_minor": 5
}
