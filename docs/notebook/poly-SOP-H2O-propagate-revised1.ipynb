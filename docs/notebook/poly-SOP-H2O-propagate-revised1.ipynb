{
 "cells": [
  {
   "cell_type": "markdown",
   "id": "bcbc9641-d5d1-4f1c-a168-804cff801d8e",
   "metadata": {},
   "source": [
    "# Example 3: Propagation of H2O vibration under polynomial PES"
   ]
  },
  {
   "cell_type": "markdown",
   "id": "184a7017-3c62-4308-b7f7-d32f281e7159",
   "metadata": {},
   "source": [
    "| run type      | wavefunction | backend | Basis  | steps |\n",
    "| ---           | ---          | ---     | ---    | ---   |\n",
    "| propagation | MPS-SM | Numpy   | HO-DVR | 5000    |"
   ]
  },
  {
   "cell_type": "markdown",
   "id": "d484ceaa-861c-4347-8cf0-52c3d5e6201b",
   "metadata": {},
   "source": [
    "## 1. Import modules"
   ]
  },
  {
   "cell_type": "markdown",
   "id": "0b50fd02-cf7c-42b5-a02d-ca3450ebf70e",
   "metadata": {},
   "source": [
    "- Required in **any** calculations"
   ]
  },
  {
   "cell_type": "code",
   "execution_count": 1,
   "id": "6460756f-ff3a-4c0f-a761-013f629aa161",
   "metadata": {
    "ExecuteTime": {
     "end_time": "2023-06-26T07:03:37.220562Z",
     "start_time": "2023-06-26T07:03:34.730375Z"
    }
   },
   "outputs": [],
   "source": [
    "from pytdscf import BasInfo, Model, Simulator"
   ]
  },
  {
   "cell_type": "markdown",
   "id": "eb10b01d-3471-4800-952a-ffc6857fe942",
   "metadata": {},
   "source": [
    "## 2. Set DVR primitive basis"
   ]
  },
  {
   "cell_type": "code",
   "execution_count": 2,
   "id": "30b4b23a-8cdb-49eb-a01e-0719361583cd",
   "metadata": {
    "ExecuteTime": {
     "end_time": "2023-06-26T07:03:37.229222Z",
     "start_time": "2023-06-26T07:03:37.226849Z"
    }
   },
   "outputs": [
    {
     "name": "stdout",
     "output_type": "stream",
     "text": [
      "<pytdscf.model_cls.BasInfo object at 0x11787a120>\n"
     ]
    }
   ],
   "source": [
    "from math import sqrt\n",
    "\n",
    "from discvar import HarmonicOscillator\n",
    "\n",
    "from pytdscf import units\n",
    "from pytdscf.potentials.h2o_potential import k_orig\n",
    "from pytdscf.dvr_operator_cls import TensorOperator\n",
    "from pytdscf.hamiltonian_cls import TensorHamiltonian\n",
    "\n",
    "import numpy as np\n",
    "import sympy\n",
    "from pympo import AssignManager, OpSite, SumOfProducts\n",
    "\n",
    "backend = \"numpy\"\n",
    "\n",
    "freqs = [\n",
    "    sqrt(k_orig[(1, 1)]),\n",
    "    sqrt(k_orig[(2, 2)]),\n",
    "    sqrt(k_orig[(3, 3)]),\n",
    "]  # a.u.\n",
    "freqs\n",
    "\n",
    "nprims = [9, 9, 9]  # Number of primitive basis\n",
    "\n",
    "basis = [\n",
    "    HarmonicOscillator(nprim, omega, units=\"a.u.\")\n",
    "    for nprim, omega in zip(nprims, freqs, strict=False)\n",
    "]\n",
    "ndim = len(basis)  # Number of degree of freedom, H2O has 3 DOFs\n",
    "basinfo = BasInfo([basis])  # Set basis information object\n",
    "\n",
    "print(basinfo)"
   ]
  },
  {
   "cell_type": "markdown",
   "id": "83d3e0aa-ade3-4399-ad7a-0b4d5ef7456e",
   "metadata": {},
   "source": [
    "**MPS-MCTDH wavefunction**\n",
    "$$\n",
    "|\\Psi_{\\rm{MPS-MCTDH}}\\rangle = \\sum_{\\mathbf \\{j\\}}\\sum_{\\mathbf \\{\\tau\\}}\n",
    "a\\substack{j_1 \\\\ 1\\tau_1}a\\substack{j_2 \\\\ \\tau_1\\tau_2} \\cdots a\\substack{j_f \\\\ \\tau_{f-1}1}\n",
    "|\\varphi_{j_1}^{(1)}(q_1)\\rangle|\\varphi_{j_2}^{(2)}(q_2)\\rangle\n",
    "\\cdots|\\varphi_{j_f}^{(f)}(q_f)\\rangle\n",
    "$$\n",
    "where SPF is \n",
    "$$\n",
    "\\varphi_{j_p}^{(p)}(q_p) = \\sum_{i_p=1}^{n_p} c_{i_p}^{j_p}\\chi_{i_p}^{(p)}(q_p) \\; (j_p = 1,2,\\ldots, N_p)\n",
    "$$\n",
    "\n",
    "Here, select $\\{\\chi_{i_p}^{(p)}(q_p)\\}$ as Harmonic Oscillator eigenfunction.\n",
    "See detail in [documenation](https://qclovers.github.io/PyTDSCF/pytdscf.html#pytdscf.primints_cls.poly_HO_FBR).\n",
    "Here one define $n_p$ = 9, $N_p$ = 9. (Standard Method)\n",
    "\n",
    "**NOTE**\n",
    "\n",
    "- In MPS,  $n = N$ (SM) is usually better than $n < M$ (MCTDH).  Only when using a laptop, MCTDH may be better. (RAM required in MCTDH is smaller than SM.)"
   ]
  },
  {
   "cell_type": "markdown",
   "id": "98a65e22-92d8-4732-84a8-e0231bb24560",
   "metadata": {},
   "source": [
    "## 3. Set Hamiltonian (Polynomial Function)"
   ]
  },
  {
   "cell_type": "markdown",
   "id": "af70e00d-0c9c-4a46-b764-c67e7fc2febf",
   "metadata": {},
   "source": [
    "Here, one uses pre-calculated Polyonimal PES and DMS."
   ]
  },
  {
   "cell_type": "markdown",
   "id": "e2174cfe-f1da-445f-8cd5-7eafb3f87ebd",
   "metadata": {},
   "source": [
    "### Setup one particle operator"
   ]
  },
  {
   "cell_type": "code",
   "execution_count": 3,
   "id": "8a5f816a-b576-4eaa-b073-48c34f4440db",
   "metadata": {},
   "outputs": [],
   "source": [
    "q1_list = [np.array(basis_i.get_grids()) for basis_i in basis]\n",
    "q2_list = [q1_int**2 for q1_int in q1_list]\n",
    "q3_list = [q1_int**3 for q1_int in q1_list]\n",
    "q4_list = [q1_int**4 for q1_int in q1_list]\n",
    "q0_list = [q1_int**0 for q1_int in q1_list]\n",
    "p2_list = [basis_i.get_2nd_derivative_matrix_dvr() for basis_i in basis]\n",
    "\n",
    "p2_ops = [OpSite(f\"p^2_{i+1}\", i, value=p2_list[i]) for i in range(0, ndim)]\n",
    "q4_ops = [OpSite(f\"q^4_{i+1}\", i, value=q4_list[i]) for i in range(0, ndim)]\n",
    "q3_ops = [OpSite(f\"q^3_{i+1}\", i, value=q3_list[i]) for i in range(0, ndim)]\n",
    "q2_ops = [OpSite(f\"q^2_{i+1}\", i, value=q2_list[i]) for i in range(0, ndim)]\n",
    "q1_ops = [OpSite(f\"q_{i+1}\", i, value=q1_list[i]) for i in range(0, ndim)]\n",
    "q0_ops = [OpSite(f\"q^0_{i+1}\", i, value=q0_list[i]) for i in range(0, ndim)]\n",
    "\n",
    "qn_list = [q0_ops, q1_ops, q2_ops, q3_ops, q4_ops]"
   ]
  },
  {
   "cell_type": "code",
   "execution_count": 4,
   "id": "81cea5c0-e5a7-460f-84f9-1aefcd3042fd",
   "metadata": {},
   "outputs": [],
   "source": [
    "from collections import Counter\n",
    "\n",
    "k_tensor = np.zeros((5, 5, 5))\n",
    "key_list = list(k_orig.keys())\n",
    "\n",
    "for key in key_list:\n",
    "    count = Counter(key)\n",
    "    k_tensor[count[1]][count[2]][count[3]] = k_orig[key]\n",
    "\n",
    "k_symbol = [[[sympy.symbols(\"k_{\" + \"1\"*i + \"2\"*j + \"3\"*k + \"}\") for k in range(5)]\n",
    "                                     for j in range(5)]\n",
    "                                     for i in range(5)]\n",
    "subs = {}\n",
    "\n",
    "for i in range(5):\n",
    "    for j in range(5):\n",
    "        for k in range(5):\n",
    "            subs[k_symbol[i][j][k]] = k_tensor[i][j][k]"
   ]
  },
  {
   "cell_type": "markdown",
   "id": "4e839590-e2e6-44a7-b3f2-bde518112778",
   "metadata": {},
   "source": [
    "### Setup Kinetic and Potential Operator"
   ]
  },
  {
   "cell_type": "code",
   "execution_count": 5,
   "id": "139c8399-cf0f-489f-b28a-86c22fb0837d",
   "metadata": {},
   "outputs": [
    {
     "data": {
      "text/latex": [
       "$\\displaystyle 0.0416666666666667 k_{1111} q^{4}_{1} q^{0}_{2} q^{0}_{3} + 0.166666666666667 k_{1112} q^{3}_{1} q_{2} q^{0}_{3} + 0.166666666666667 k_{111} q^{3}_{1} q^{0}_{2} q^{0}_{3} + 0.25 k_{1122} q^{2}_{1} q^{2}_{2} q^{0}_{3} + 0.5 k_{112} q^{2}_{1} q_{2} q^{0}_{3} + 0.25 k_{1133} q^{2}_{1} q^{0}_{2} q^{2}_{3} + 0.5 k_{11} q^{2}_{1} q^{0}_{2} q^{0}_{3} + 0.166666666666667 k_{1222} q_{1} q^{3}_{2} q^{0}_{3} + 0.5 k_{122} q_{1} q^{2}_{2} q^{0}_{3} + 0.5 k_{1233} q_{1} q_{2} q^{2}_{3} + 0.5 k_{133} q_{1} q^{0}_{2} q^{2}_{3} + 0.0416666666666667 k_{2222} q^{0}_{1} q^{4}_{2} q^{0}_{3} + 0.166666666666667 k_{222} q^{0}_{1} q^{3}_{2} q^{0}_{3} + 0.25 k_{2233} q^{0}_{1} q^{2}_{2} q^{2}_{3} + 0.5 k_{22} q^{0}_{1} q^{2}_{2} q^{0}_{3} + 0.5 k_{233} q^{0}_{1} q_{2} q^{2}_{3} + 0.0416666666666667 k_{3333} q^{0}_{1} q^{0}_{2} q^{4}_{3} + 0.5 k_{33} q^{0}_{1} q^{0}_{2} q^{2}_{3} - 0.5 p^{2}_{1} - 0.5 p^{2}_{2} - 0.5 p^{2}_{3}$"
      ],
      "text/plain": [
       "0.0416666666666667*k_{1111}*q^4_1*q^0_2*q^0_3 + 0.166666666666667*k_{1112}*q^3_1*q_2*q^0_3 + 0.166666666666667*k_{111}*q^3_1*q^0_2*q^0_3 + 0.25*k_{1122}*q^2_1*q^2_2*q^0_3 + 0.5*k_{112}*q^2_1*q_2*q^0_3 + 0.25*k_{1133}*q^2_1*q^0_2*q^2_3 + 0.5*k_{11}*q^2_1*q^0_2*q^0_3 + 0.166666666666667*k_{1222}*q_1*q^3_2*q^0_3 + 0.5*k_{122}*q_1*q^2_2*q^0_3 + 0.5*k_{1233}*q_1*q_2*q^2_3 + 0.5*k_{133}*q_1*q^0_2*q^2_3 + 0.0416666666666667*k_{2222}*q^0_1*q^4_2*q^0_3 + 0.166666666666667*k_{222}*q^0_1*q^3_2*q^0_3 + 0.25*k_{2233}*q^0_1*q^2_2*q^2_3 + 0.5*k_{22}*q^0_1*q^2_2*q^0_3 + 0.5*k_{233}*q^0_1*q_2*q^2_3 + 0.0416666666666667*k_{3333}*q^0_1*q^0_2*q^4_3 + 0.5*k_{33}*q^0_1*q^0_2*q^2_3 - 0.5*p^2_1 - 0.5*p^2_2 - 0.5*p^2_3"
      ]
     },
     "execution_count": 5,
     "metadata": {},
     "output_type": "execute_result"
    }
   ],
   "source": [
    "from scipy.special import factorial\n",
    "\n",
    "pot_sop = SumOfProducts()\n",
    "\n",
    "for i in range(3):\n",
    "    pot_sop += -0.5 * p2_ops[i]\n",
    "\n",
    "for i in range(5):\n",
    "    for j in range(5):\n",
    "        for k in range(5):\n",
    "            if i == 0 and j == 0 and k == 0:\n",
    "                continue\n",
    "            if k_tensor[i][j][k] == 0:\n",
    "                continue\n",
    "            pot_sop += k_symbol[i][j][k] * qn_list[i][0] * qn_list[j][1] * qn_list[k][2] / factorial(i) / factorial(j) / factorial(k)\n",
    "\n",
    "pot_sop = pot_sop.simplify()\n",
    "pot_sop.symbol"
   ]
  },
  {
   "cell_type": "markdown",
   "id": "cf130dd0-3431-40da-8ccf-1f3623ab8b03",
   "metadata": {},
   "source": [
    "### Setup MPO"
   ]
  },
  {
   "cell_type": "code",
   "execution_count": 6,
   "id": "aabbfc42-e0ff-49fb-8675-a3f25db73ac4",
   "metadata": {
    "scrolled": true
   },
   "outputs": [
    {
     "name": "stderr",
     "output_type": "stream",
     "text": [
      "\u001b[32m2025-04-30 12:44:45.489\u001b[0m | \u001b[1mINFO    \u001b[0m | \u001b[36mpympo.bipartite\u001b[0m:\u001b[36massign\u001b[0m:\u001b[36m286\u001b[0m - \u001b[1massigned 1/3\u001b[0m\n",
      "\u001b[32m2025-04-30 12:44:45.507\u001b[0m | \u001b[1mINFO    \u001b[0m | \u001b[36mpympo.bipartite\u001b[0m:\u001b[36massign\u001b[0m:\u001b[36m286\u001b[0m - \u001b[1massigned 2/3\u001b[0m\n",
      "\u001b[32m2025-04-30 12:44:45.515\u001b[0m | \u001b[1mINFO    \u001b[0m | \u001b[36mpympo.bipartite\u001b[0m:\u001b[36massign\u001b[0m:\u001b[36m286\u001b[0m - \u001b[1massigned 3/3\u001b[0m\n"
     ]
    },
    {
     "data": {
      "text/latex": [
       "$\\displaystyle \\left[\\begin{matrix}1 & q_{1} & q^{0}_{1} & q^{3}_{1} & p^{2}_{1} & q^{4}_{1} & q^{2}_{1}\\end{matrix}\\right]$"
      ],
      "text/plain": [
       "Matrix([[1, q_1, q^0_1, q^3_1, p^2_1, q^4_1, q^2_1]])"
      ]
     },
     "metadata": {},
     "output_type": "display_data"
    },
    {
     "data": {
      "text/latex": [
       "$\\displaystyle \\left[\\begin{matrix}0 & 0 & - 0.5 p^{2}_{2} & 1 & 0\\\\0.166666666666667 k_{1222} q^{3}_{2} + 0.5 k_{122} q^{2}_{2} & 0.5 k_{1233} q_{2} + 0.5 k_{133} q^{0}_{2} & 0 & 0 & 0\\\\0.0416666666666667 k_{2222} q^{4}_{2} + 0.166666666666667 k_{222} q^{3}_{2} + 0.5 k_{22} q^{2}_{2} & 0.25 k_{2233} q^{2}_{2} + 0.5 k_{233} q_{2} + 0.5 k_{33} q^{0}_{2} & 0 & 0 & q^{0}_{2}\\\\0.166666666666667 k_{1112} q_{2} + 0.166666666666667 k_{111} q^{0}_{2} & 0 & 0 & 0 & 0\\\\0 & 0 & -0.5 & 0 & 0\\\\0.0416666666666667 k_{1111} q^{0}_{2} & 0 & 0 & 0 & 0\\\\0.25 k_{1122} q^{2}_{2} + 0.5 k_{112} q_{2} + 0.5 k_{11} q^{0}_{2} & 0.25 k_{1133} q^{0}_{2} & 0 & 0 & 0\\end{matrix}\\right]$"
      ],
      "text/plain": [
       "Matrix([\n",
       "[                                                                                     0,                                                        0, -0.5*p^2_2, 1,     0],\n",
       "[                                  0.166666666666667*k_{1222}*q^3_2 + 0.5*k_{122}*q^2_2,                     0.5*k_{1233}*q_2 + 0.5*k_{133}*q^0_2,          0, 0,     0],\n",
       "[0.0416666666666667*k_{2222}*q^4_2 + 0.166666666666667*k_{222}*q^3_2 + 0.5*k_{22}*q^2_2, 0.25*k_{2233}*q^2_2 + 0.5*k_{233}*q_2 + 0.5*k_{33}*q^0_2,          0, 0, q^0_2],\n",
       "[                      0.166666666666667*k_{1112}*q_2 + 0.166666666666667*k_{111}*q^0_2,                                                        0,          0, 0,     0],\n",
       "[                                                                                     0,                                                        0,       -0.5, 0,     0],\n",
       "[                                                     0.0416666666666667*k_{1111}*q^0_2,                                                        0,          0, 0,     0],\n",
       "[                              0.25*k_{1122}*q^2_2 + 0.5*k_{112}*q_2 + 0.5*k_{11}*q^0_2,                                      0.25*k_{1133}*q^0_2,          0, 0,     0]])"
      ]
     },
     "metadata": {},
     "output_type": "display_data"
    },
    {
     "data": {
      "text/latex": [
       "$\\displaystyle \\left[\\begin{matrix}q^{0}_{3}\\\\q^{2}_{3}\\\\1\\\\- 0.5 p^{2}_{3}\\\\0.0416666666666667 k_{3333} q^{4}_{3}\\end{matrix}\\right]$"
      ],
      "text/plain": [
       "Matrix([\n",
       "[                            q^0_3],\n",
       "[                            q^2_3],\n",
       "[                                1],\n",
       "[                       -0.5*p^2_3],\n",
       "[0.0416666666666667*k_{3333}*q^4_3]])"
      ]
     },
     "metadata": {},
     "output_type": "display_data"
    },
    {
     "name": "stdout",
     "output_type": "stream",
     "text": [
      "W0 W1 W2 =\n"
     ]
    },
    {
     "data": {
      "text/latex": [
       "$\\displaystyle 0.0416666666666667 k_{1111} q^{4}_{1} q^{0}_{2} q^{0}_{3} + 0.166666666666667 k_{1112} q^{3}_{1} q_{2} q^{0}_{3} + 0.166666666666667 k_{111} q^{3}_{1} q^{0}_{2} q^{0}_{3} + 0.25 k_{1122} q^{2}_{1} q^{2}_{2} q^{0}_{3} + 0.5 k_{112} q^{2}_{1} q_{2} q^{0}_{3} + 0.25 k_{1133} q^{2}_{1} q^{0}_{2} q^{2}_{3} + 0.5 k_{11} q^{2}_{1} q^{0}_{2} q^{0}_{3} + 0.166666666666667 k_{1222} q_{1} q^{3}_{2} q^{0}_{3} + 0.5 k_{122} q_{1} q^{2}_{2} q^{0}_{3} + 0.5 k_{1233} q_{1} q_{2} q^{2}_{3} + 0.5 k_{133} q_{1} q^{0}_{2} q^{2}_{3} + 0.0416666666666667 k_{2222} q^{0}_{1} q^{4}_{2} q^{0}_{3} + 0.166666666666667 k_{222} q^{0}_{1} q^{3}_{2} q^{0}_{3} + 0.25 k_{2233} q^{0}_{1} q^{2}_{2} q^{2}_{3} + 0.5 k_{22} q^{0}_{1} q^{2}_{2} q^{0}_{3} + 0.5 k_{233} q^{0}_{1} q_{2} q^{2}_{3} + 0.0416666666666667 k_{3333} q^{0}_{1} q^{0}_{2} q^{4}_{3} + 0.5 k_{33} q^{0}_{1} q^{0}_{2} q^{2}_{3} - 0.5 p^{2}_{1} - 0.5 p^{2}_{2} - 0.5 p^{2}_{3}$"
      ],
      "text/plain": [
       "0.0416666666666667*k_{1111}*q^4_1*q^0_2*q^0_3 + 0.166666666666667*k_{1112}*q^3_1*q_2*q^0_3 + 0.166666666666667*k_{111}*q^3_1*q^0_2*q^0_3 + 0.25*k_{1122}*q^2_1*q^2_2*q^0_3 + 0.5*k_{112}*q^2_1*q_2*q^0_3 + 0.25*k_{1133}*q^2_1*q^0_2*q^2_3 + 0.5*k_{11}*q^2_1*q^0_2*q^0_3 + 0.166666666666667*k_{1222}*q_1*q^3_2*q^0_3 + 0.5*k_{122}*q_1*q^2_2*q^0_3 + 0.5*k_{1233}*q_1*q_2*q^2_3 + 0.5*k_{133}*q_1*q^0_2*q^2_3 + 0.0416666666666667*k_{2222}*q^0_1*q^4_2*q^0_3 + 0.166666666666667*k_{222}*q^0_1*q^3_2*q^0_3 + 0.25*k_{2233}*q^0_1*q^2_2*q^2_3 + 0.5*k_{22}*q^0_1*q^2_2*q^0_3 + 0.5*k_{233}*q^0_1*q_2*q^2_3 + 0.0416666666666667*k_{3333}*q^0_1*q^0_2*q^4_3 + 0.5*k_{33}*q^0_1*q^0_2*q^2_3 - 0.5*p^2_1 - 0.5*p^2_2 - 0.5*p^2_3"
      ]
     },
     "metadata": {},
     "output_type": "display_data"
    }
   ],
   "source": [
    "am_pot = AssignManager(pot_sop)\n",
    "am_pot.assign()\n",
    "display(*am_pot.Wsym)\n",
    "W_prod = sympy.Mul(*am_pot.Wsym)\n",
    "print(*[f\"W{i}\" for i in range(am_pot.ndim)], \"=\")\n",
    "display(W_prod[0].expand())\n",
    "pot_mpo = am_pot.numerical_mpo(subs=subs)"
   ]
  },
  {
   "cell_type": "markdown",
   "id": "8d3db45f-6a43-4c03-84cf-c3007c7cf21d",
   "metadata": {},
   "source": [
    "### Setup Hamiltonian"
   ]
  },
  {
   "cell_type": "code",
   "execution_count": 7,
   "id": "5d239f30-9273-4253-a2b6-f113ab64406c",
   "metadata": {},
   "outputs": [],
   "source": [
    "potential = [\n",
    "    [\n",
    "        {\n",
    "            (tuple((i, i) for i in range(0, ndim))): TensorOperator(\n",
    "                mpo=pot_mpo\n",
    "            )\n",
    "        }\n",
    "    ]\n",
    "]  # key is ((0,0), 1, 2, ..., ndim-1)\n",
    "\n",
    "H = TensorHamiltonian(\n",
    "    ndof=len(basis), potential=potential, kinetic=None, backend=backend\n",
    ")\n",
    "\n",
    "operators = {\"hamiltonian\": H}"
   ]
  },
  {
   "cell_type": "markdown",
   "id": "2b82c15c-62d4-474e-964b-49637a6dcd9c",
   "metadata": {
    "tags": []
   },
   "source": [
    "## 4. Set wavefunction (MPS) and All Model\n",
    "\n",
    "- `m_aux_max` is MPS bond dimension (maximum of auxiliary index $\\tau_p$)\n"
   ]
  },
  {
   "cell_type": "code",
   "execution_count": 8,
   "id": "79beeb3a-565e-4d80-bdb3-cc79a821f6f3",
   "metadata": {
    "ExecuteTime": {
     "end_time": "2023-06-26T07:03:37.234102Z",
     "start_time": "2023-06-26T07:03:37.233155Z"
    }
   },
   "outputs": [],
   "source": [
    "model = Model(basinfo, operators)\n",
    "model.m_aux_max = 9"
   ]
  },
  {
   "cell_type": "markdown",
   "id": "cb495b77-ca3f-4771-bae6-1a4d6dc1b503",
   "metadata": {},
   "source": [
    "## 5. Execute Calculation\n",
    "\n",
    "- time step width is defined by `stepsize`=0.05 fs"
   ]
  },
  {
   "cell_type": "markdown",
   "id": "d06941d9-23d2-40af-a92b-6afbc9fecedf",
   "metadata": {},
   "source": [
    "In this calculation, one runs\n",
    "\n",
    "- Real-time propagation\n",
    "\n",
    "- Restart from $\\hat{\\mu}|\\Psi_{\\rm GS}\\rangle$ wavefunction. (restart file suffix is `_dipole`)\n",
    "\n",
    "F.Y.I., See also [documentation](https://qclovers.github.io/PyTDSCF/pytdscf.html#pytdscf.const_cls.Const.set_runtype)\n",
    "\n",
    "\n",
    "**NOTE**\n",
    "\n",
    "- Runtype cannnot rebind. If you change runtype, you should restart the kernel.\n",
    "\n",
    "- JAX is better when simulating more large systems. (f>6, m>10)\n",
    "\n",
    "- If `AVG Krylov iteration` in the log file is much larger than 5, you should set smaller timestep."
   ]
  },
  {
   "cell_type": "code",
   "execution_count": 9,
   "id": "fabba1c2-8b8a-4adc-a784-73d310737842",
   "metadata": {
    "ExecuteTime": {
     "end_time": "2023-06-26T07:05:13.867764Z",
     "start_time": "2023-06-26T07:03:37.235218Z"
    },
    "scrolled": true,
    "tags": []
   },
   "outputs": [
    {
     "name": "stderr",
     "output_type": "stream",
     "text": [
      "2025-04-30 12:44:46,552 - INFO:main.pytdscf._const_cls - \u001b[1m\u001b[35m\n",
      "     ____     __________   .____ ____   _____\n",
      "    / _  |   /__  __/ _ \\ / ___ / _  \\ / ___/\n",
      "   / /_) /_  __/ / / / ||/ /__ / / )_// /__\n",
      "  /  ___/ / / / / / / / |.__  / |  __/ ___/\n",
      " /  /  / /_/ / / / /_/ /___/ /| \\_/ / /\n",
      "/__/   \\__, /_/ /_____/_____/ \\____/_/\n",
      "      /____/\n",
      "\u001b[0m\n",
      "2025-04-30 12:44:46,554 - INFO:main.pytdscf._const_cls - Log file is ./h2o_polynomial_prop/main.log\n",
      "2025-04-30 12:44:46,555 - INFO:main.pytdscf.simulator_cls - Set integral of DVR basis\n",
      "2025-04-30 12:44:46,573 - INFO:main.pytdscf.simulator_cls - Set initial wave function (DVR basis)\n",
      "2025-04-30 12:44:46,621 - INFO:main.pytdscf.simulator_cls - Wave function is loaded from wf_h2o_polynomial_dipole.pkl\n",
      "2025-04-30 12:44:46,649 - INFO:main.pytdscf.simulator_cls - Wave function is saved in wf_h2o_polynomial_prop.pkl\n",
      "2025-04-30 12:44:46,657 - INFO:main.pytdscf.simulator_cls - Start initial step    0.000 [fs]\n",
      "2025-04-30 12:44:47,058 - INFO:main.pytdscf.simulator_cls - End     0 step; propagated    0.050 [fs]; AVG Krylov iteration: 5.00\n",
      "2025-04-30 12:44:58,167 - INFO:main.pytdscf.simulator_cls - End   100 step; propagated    5.050 [fs]; AVG Krylov iteration: 5.00\n",
      "2025-04-30 12:45:07,401 - INFO:main.pytdscf.simulator_cls - End   200 step; propagated   10.050 [fs]; AVG Krylov iteration: 5.00\n",
      "2025-04-30 12:45:15,795 - INFO:main.pytdscf.simulator_cls - End   300 step; propagated   15.050 [fs]; AVG Krylov iteration: 5.00\n",
      "2025-04-30 12:45:22,381 - INFO:main.pytdscf.simulator_cls - End   400 step; propagated   20.050 [fs]; AVG Krylov iteration: 5.00\n",
      "2025-04-30 12:45:31,237 - INFO:main.pytdscf.simulator_cls - End   500 step; propagated   25.050 [fs]; AVG Krylov iteration: 5.00\n",
      "2025-04-30 12:45:39,475 - INFO:main.pytdscf.simulator_cls - End   600 step; propagated   30.050 [fs]; AVG Krylov iteration: 5.00\n",
      "2025-04-30 12:45:47,377 - INFO:main.pytdscf.simulator_cls - End   700 step; propagated   35.050 [fs]; AVG Krylov iteration: 5.00\n",
      "2025-04-30 12:45:58,279 - INFO:main.pytdscf.simulator_cls - End   800 step; propagated   40.050 [fs]; AVG Krylov iteration: 5.00\n",
      "2025-04-30 12:46:07,897 - INFO:main.pytdscf.simulator_cls - End   900 step; propagated   45.050 [fs]; AVG Krylov iteration: 5.00\n",
      "2025-04-30 12:46:15,903 - INFO:main.pytdscf.simulator_cls - Saved wavefunction   49.950 [fs]\n",
      "2025-04-30 12:46:16,282 - INFO:main.pytdscf.simulator_cls - End  1000 step; propagated   50.050 [fs]; AVG Krylov iteration: 5.00\n",
      "2025-04-30 12:46:29,877 - INFO:main.pytdscf.simulator_cls - End  1100 step; propagated   55.050 [fs]; AVG Krylov iteration: 5.00\n",
      "2025-04-30 12:46:39,953 - INFO:main.pytdscf.simulator_cls - End  1200 step; propagated   60.050 [fs]; AVG Krylov iteration: 5.00\n",
      "2025-04-30 12:46:49,231 - INFO:main.pytdscf.simulator_cls - End  1300 step; propagated   65.050 [fs]; AVG Krylov iteration: 5.00\n",
      "2025-04-30 12:46:57,584 - INFO:main.pytdscf.simulator_cls - End  1400 step; propagated   70.050 [fs]; AVG Krylov iteration: 5.00\n",
      "2025-04-30 12:47:05,026 - INFO:main.pytdscf.simulator_cls - End  1500 step; propagated   75.050 [fs]; AVG Krylov iteration: 5.00\n",
      "2025-04-30 12:47:12,414 - INFO:main.pytdscf.simulator_cls - End  1600 step; propagated   80.050 [fs]; AVG Krylov iteration: 5.00\n",
      "2025-04-30 12:47:18,904 - INFO:main.pytdscf.simulator_cls - End  1700 step; propagated   85.050 [fs]; AVG Krylov iteration: 5.00\n",
      "2025-04-30 12:47:25,410 - INFO:main.pytdscf.simulator_cls - End  1800 step; propagated   90.050 [fs]; AVG Krylov iteration: 5.00\n",
      "2025-04-30 12:47:31,954 - INFO:main.pytdscf.simulator_cls - End  1900 step; propagated   95.050 [fs]; AVG Krylov iteration: 5.00\n",
      "2025-04-30 12:47:38,303 - INFO:main.pytdscf.simulator_cls - Saved wavefunction   99.950 [fs]\n",
      "2025-04-30 12:47:38,474 - INFO:main.pytdscf.simulator_cls - End  2000 step; propagated  100.050 [fs]; AVG Krylov iteration: 5.00\n",
      "2025-04-30 12:47:44,998 - INFO:main.pytdscf.simulator_cls - End  2100 step; propagated  105.050 [fs]; AVG Krylov iteration: 5.00\n",
      "2025-04-30 12:47:51,550 - INFO:main.pytdscf.simulator_cls - End  2200 step; propagated  110.050 [fs]; AVG Krylov iteration: 5.00\n",
      "2025-04-30 12:47:58,163 - INFO:main.pytdscf.simulator_cls - End  2300 step; propagated  115.050 [fs]; AVG Krylov iteration: 5.00\n",
      "2025-04-30 12:48:04,843 - INFO:main.pytdscf.simulator_cls - End  2400 step; propagated  120.050 [fs]; AVG Krylov iteration: 5.00\n",
      "2025-04-30 12:48:11,326 - INFO:main.pytdscf.simulator_cls - End  2500 step; propagated  125.050 [fs]; AVG Krylov iteration: 5.00\n",
      "2025-04-30 12:48:17,931 - INFO:main.pytdscf.simulator_cls - End  2600 step; propagated  130.050 [fs]; AVG Krylov iteration: 5.00\n",
      "2025-04-30 12:48:25,327 - INFO:main.pytdscf.simulator_cls - End  2700 step; propagated  135.050 [fs]; AVG Krylov iteration: 5.00\n",
      "2025-04-30 12:48:31,944 - INFO:main.pytdscf.simulator_cls - End  2800 step; propagated  140.050 [fs]; AVG Krylov iteration: 5.00\n",
      "2025-04-30 12:48:39,132 - INFO:main.pytdscf.simulator_cls - End  2900 step; propagated  145.050 [fs]; AVG Krylov iteration: 5.00\n",
      "2025-04-30 12:48:48,877 - INFO:main.pytdscf.simulator_cls - Saved wavefunction  149.950 [fs]\n",
      "2025-04-30 12:48:49,049 - INFO:main.pytdscf.simulator_cls - End  3000 step; propagated  150.050 [fs]; AVG Krylov iteration: 5.00\n",
      "2025-04-30 12:49:01,089 - INFO:main.pytdscf.simulator_cls - End  3100 step; propagated  155.050 [fs]; AVG Krylov iteration: 5.00\n",
      "2025-04-30 12:49:12,860 - INFO:main.pytdscf.simulator_cls - End  3200 step; propagated  160.050 [fs]; AVG Krylov iteration: 5.00\n",
      "2025-04-30 12:49:21,166 - INFO:main.pytdscf.simulator_cls - End  3300 step; propagated  165.050 [fs]; AVG Krylov iteration: 5.00\n",
      "2025-04-30 12:49:28,662 - INFO:main.pytdscf.simulator_cls - End  3400 step; propagated  170.050 [fs]; AVG Krylov iteration: 5.00\n",
      "2025-04-30 12:49:36,008 - INFO:main.pytdscf.simulator_cls - End  3500 step; propagated  175.050 [fs]; AVG Krylov iteration: 5.00\n",
      "2025-04-30 12:49:43,302 - INFO:main.pytdscf.simulator_cls - End  3600 step; propagated  180.050 [fs]; AVG Krylov iteration: 5.00\n",
      "2025-04-30 12:49:51,147 - INFO:main.pytdscf.simulator_cls - End  3700 step; propagated  185.050 [fs]; AVG Krylov iteration: 5.00\n",
      "2025-04-30 12:49:57,848 - INFO:main.pytdscf.simulator_cls - End  3800 step; propagated  190.050 [fs]; AVG Krylov iteration: 5.00\n",
      "2025-04-30 12:50:05,094 - INFO:main.pytdscf.simulator_cls - End  3900 step; propagated  195.050 [fs]; AVG Krylov iteration: 5.00\n",
      "2025-04-30 12:50:11,533 - INFO:main.pytdscf.simulator_cls - Saved wavefunction  199.950 [fs]\n",
      "2025-04-30 12:50:11,699 - INFO:main.pytdscf.simulator_cls - End  4000 step; propagated  200.050 [fs]; AVG Krylov iteration: 5.00\n",
      "2025-04-30 12:50:18,816 - INFO:main.pytdscf.simulator_cls - End  4100 step; propagated  205.050 [fs]; AVG Krylov iteration: 5.00\n",
      "2025-04-30 12:50:25,674 - INFO:main.pytdscf.simulator_cls - End  4200 step; propagated  210.050 [fs]; AVG Krylov iteration: 5.00\n",
      "2025-04-30 12:50:32,875 - INFO:main.pytdscf.simulator_cls - End  4300 step; propagated  215.050 [fs]; AVG Krylov iteration: 5.00\n",
      "2025-04-30 12:50:39,781 - INFO:main.pytdscf.simulator_cls - End  4400 step; propagated  220.050 [fs]; AVG Krylov iteration: 5.00\n",
      "2025-04-30 12:50:47,349 - INFO:main.pytdscf.simulator_cls - End  4500 step; propagated  225.050 [fs]; AVG Krylov iteration: 5.00\n",
      "2025-04-30 12:50:55,238 - INFO:main.pytdscf.simulator_cls - End  4600 step; propagated  230.050 [fs]; AVG Krylov iteration: 5.00\n",
      "2025-04-30 12:51:02,956 - INFO:main.pytdscf.simulator_cls - End  4700 step; propagated  235.050 [fs]; AVG Krylov iteration: 5.00\n",
      "2025-04-30 12:51:12,275 - INFO:main.pytdscf.simulator_cls - End  4800 step; propagated  240.050 [fs]; AVG Krylov iteration: 5.00\n",
      "2025-04-30 12:51:21,104 - INFO:main.pytdscf.simulator_cls - End  4900 step; propagated  245.050 [fs]; AVG Krylov iteration: 5.00\n",
      "2025-04-30 12:51:28,950 - INFO:main.pytdscf.simulator_cls - Saved wavefunction  249.950 [fs]\n",
      "2025-04-30 12:51:29,466 - INFO:main.pytdscf.simulator_cls - End  5000 step; propagated  250.050 [fs]; AVG Krylov iteration: 5.00\n",
      "2025-04-30 12:51:37,466 - INFO:main.pytdscf.simulator_cls - End  5100 step; propagated  255.050 [fs]; AVG Krylov iteration: 5.00\n",
      "2025-04-30 12:51:48,435 - INFO:main.pytdscf.simulator_cls - End  5200 step; propagated  260.050 [fs]; AVG Krylov iteration: 5.00\n",
      "2025-04-30 12:51:56,939 - INFO:main.pytdscf.simulator_cls - End  5300 step; propagated  265.050 [fs]; AVG Krylov iteration: 5.00\n",
      "2025-04-30 12:52:06,381 - INFO:main.pytdscf.simulator_cls - End  5400 step; propagated  270.050 [fs]; AVG Krylov iteration: 5.00\n",
      "2025-04-30 12:52:15,205 - INFO:main.pytdscf.simulator_cls - End  5500 step; propagated  275.050 [fs]; AVG Krylov iteration: 5.00\n",
      "2025-04-30 12:52:23,688 - INFO:main.pytdscf.simulator_cls - End  5600 step; propagated  280.050 [fs]; AVG Krylov iteration: 5.00\n",
      "2025-04-30 12:52:34,258 - INFO:main.pytdscf.simulator_cls - End  5700 step; propagated  285.050 [fs]; AVG Krylov iteration: 5.00\n",
      "2025-04-30 12:52:43,360 - INFO:main.pytdscf.simulator_cls - End  5800 step; propagated  290.050 [fs]; AVG Krylov iteration: 5.00\n",
      "2025-04-30 12:52:52,594 - INFO:main.pytdscf.simulator_cls - End  5900 step; propagated  295.050 [fs]; AVG Krylov iteration: 5.00\n",
      "2025-04-30 12:52:59,525 - INFO:main.pytdscf.simulator_cls - Saved wavefunction  299.950 [fs]\n",
      "2025-04-30 12:52:59,720 - INFO:main.pytdscf.simulator_cls - End  6000 step; propagated  300.050 [fs]; AVG Krylov iteration: 5.00\n",
      "2025-04-30 12:53:07,320 - INFO:main.pytdscf.simulator_cls - End  6100 step; propagated  305.050 [fs]; AVG Krylov iteration: 5.00\n",
      "2025-04-30 12:53:14,309 - INFO:main.pytdscf.simulator_cls - End  6200 step; propagated  310.050 [fs]; AVG Krylov iteration: 5.00\n",
      "2025-04-30 12:53:22,232 - INFO:main.pytdscf.simulator_cls - End  6300 step; propagated  315.050 [fs]; AVG Krylov iteration: 5.00\n",
      "2025-04-30 12:53:29,589 - INFO:main.pytdscf.simulator_cls - End  6400 step; propagated  320.050 [fs]; AVG Krylov iteration: 5.00\n",
      "2025-04-30 12:53:37,122 - INFO:main.pytdscf.simulator_cls - End  6500 step; propagated  325.050 [fs]; AVG Krylov iteration: 5.00\n",
      "2025-04-30 12:53:43,733 - INFO:main.pytdscf.simulator_cls - End  6600 step; propagated  330.050 [fs]; AVG Krylov iteration: 5.00\n",
      "2025-04-30 12:53:51,318 - INFO:main.pytdscf.simulator_cls - End  6700 step; propagated  335.050 [fs]; AVG Krylov iteration: 5.00\n",
      "2025-04-30 12:54:00,464 - INFO:main.pytdscf.simulator_cls - End  6800 step; propagated  340.050 [fs]; AVG Krylov iteration: 5.00\n",
      "2025-04-30 12:54:07,004 - INFO:main.pytdscf.simulator_cls - End  6900 step; propagated  345.050 [fs]; AVG Krylov iteration: 5.00\n",
      "2025-04-30 12:54:13,403 - INFO:main.pytdscf.simulator_cls - Saved wavefunction  349.950 [fs]\n",
      "2025-04-30 12:54:13,563 - INFO:main.pytdscf.simulator_cls - End  7000 step; propagated  350.050 [fs]; AVG Krylov iteration: 5.00\n",
      "2025-04-30 12:54:20,320 - INFO:main.pytdscf.simulator_cls - End  7100 step; propagated  355.050 [fs]; AVG Krylov iteration: 5.00\n",
      "2025-04-30 12:54:26,937 - INFO:main.pytdscf.simulator_cls - End  7200 step; propagated  360.050 [fs]; AVG Krylov iteration: 5.00\n",
      "2025-04-30 12:54:33,632 - INFO:main.pytdscf.simulator_cls - End  7300 step; propagated  365.050 [fs]; AVG Krylov iteration: 5.00\n",
      "2025-04-30 12:54:40,641 - INFO:main.pytdscf.simulator_cls - End  7400 step; propagated  370.050 [fs]; AVG Krylov iteration: 5.00\n",
      "2025-04-30 12:54:47,037 - INFO:main.pytdscf.simulator_cls - End  7500 step; propagated  375.050 [fs]; AVG Krylov iteration: 5.00\n",
      "2025-04-30 12:54:53,564 - INFO:main.pytdscf.simulator_cls - End  7600 step; propagated  380.050 [fs]; AVG Krylov iteration: 5.00\n",
      "2025-04-30 12:55:00,391 - INFO:main.pytdscf.simulator_cls - End  7700 step; propagated  385.050 [fs]; AVG Krylov iteration: 5.00\n",
      "2025-04-30 12:55:07,187 - INFO:main.pytdscf.simulator_cls - End  7800 step; propagated  390.050 [fs]; AVG Krylov iteration: 5.00\n",
      "2025-04-30 12:55:15,837 - INFO:main.pytdscf.simulator_cls - End  7900 step; propagated  395.050 [fs]; AVG Krylov iteration: 5.00\n",
      "2025-04-30 12:55:22,371 - INFO:main.pytdscf.simulator_cls - Saved wavefunction  399.950 [fs]\n",
      "2025-04-30 12:55:22,528 - INFO:main.pytdscf.simulator_cls - End  8000 step; propagated  400.050 [fs]; AVG Krylov iteration: 5.00\n",
      "2025-04-30 12:55:29,141 - INFO:main.pytdscf.simulator_cls - End  8100 step; propagated  405.050 [fs]; AVG Krylov iteration: 5.00\n",
      "2025-04-30 12:55:35,685 - INFO:main.pytdscf.simulator_cls - End  8200 step; propagated  410.050 [fs]; AVG Krylov iteration: 5.00\n",
      "2025-04-30 12:55:42,170 - INFO:main.pytdscf.simulator_cls - End  8300 step; propagated  415.050 [fs]; AVG Krylov iteration: 5.00\n",
      "2025-04-30 12:55:49,057 - INFO:main.pytdscf.simulator_cls - End  8400 step; propagated  420.050 [fs]; AVG Krylov iteration: 5.00\n",
      "2025-04-30 12:55:55,534 - INFO:main.pytdscf.simulator_cls - End  8500 step; propagated  425.050 [fs]; AVG Krylov iteration: 5.00\n",
      "2025-04-30 12:56:01,718 - INFO:main.pytdscf.simulator_cls - End  8600 step; propagated  430.050 [fs]; AVG Krylov iteration: 5.00\n",
      "2025-04-30 12:56:08,206 - INFO:main.pytdscf.simulator_cls - End  8700 step; propagated  435.050 [fs]; AVG Krylov iteration: 5.00\n",
      "2025-04-30 12:56:14,216 - INFO:main.pytdscf.simulator_cls - End  8800 step; propagated  440.050 [fs]; AVG Krylov iteration: 5.00\n",
      "2025-04-30 12:56:20,508 - INFO:main.pytdscf.simulator_cls - End  8900 step; propagated  445.050 [fs]; AVG Krylov iteration: 5.00\n",
      "2025-04-30 12:56:26,796 - INFO:main.pytdscf.simulator_cls - Saved wavefunction  449.950 [fs]\n",
      "2025-04-30 12:56:26,953 - INFO:main.pytdscf.simulator_cls - End  9000 step; propagated  450.050 [fs]; AVG Krylov iteration: 5.00\n",
      "2025-04-30 12:56:33,575 - INFO:main.pytdscf.simulator_cls - End  9100 step; propagated  455.050 [fs]; AVG Krylov iteration: 5.00\n",
      "2025-04-30 12:56:40,181 - INFO:main.pytdscf.simulator_cls - End  9200 step; propagated  460.050 [fs]; AVG Krylov iteration: 5.00\n",
      "2025-04-30 12:56:47,386 - INFO:main.pytdscf.simulator_cls - End  9300 step; propagated  465.050 [fs]; AVG Krylov iteration: 5.00\n",
      "2025-04-30 12:56:55,018 - INFO:main.pytdscf.simulator_cls - End  9400 step; propagated  470.050 [fs]; AVG Krylov iteration: 5.00\n",
      "2025-04-30 12:57:02,536 - INFO:main.pytdscf.simulator_cls - End  9500 step; propagated  475.050 [fs]; AVG Krylov iteration: 5.00\n",
      "2025-04-30 12:57:11,489 - INFO:main.pytdscf.simulator_cls - End  9600 step; propagated  480.050 [fs]; AVG Krylov iteration: 5.00\n",
      "2025-04-30 12:57:18,393 - INFO:main.pytdscf.simulator_cls - End  9700 step; propagated  485.050 [fs]; AVG Krylov iteration: 5.00\n",
      "2025-04-30 12:57:24,888 - INFO:main.pytdscf.simulator_cls - End  9800 step; propagated  490.050 [fs]; AVG Krylov iteration: 5.00\n",
      "2025-04-30 12:57:32,372 - INFO:main.pytdscf.simulator_cls - End  9900 step; propagated  495.050 [fs]; AVG Krylov iteration: 5.00\n",
      "2025-04-30 12:57:38,684 - INFO:main.pytdscf.simulator_cls - Saved wavefunction  499.950 [fs]\n",
      "2025-04-30 12:57:38,772 - INFO:main.pytdscf.simulator_cls - End  9999 step; propagated  499.950 [fs]; AVG Krylov iteration: 5.00\n",
      "2025-04-30 12:57:38,774 - INFO:main.pytdscf.simulator_cls - End simulation and save wavefunction\n",
      "2025-04-30 12:57:38,795 - INFO:main.pytdscf.simulator_cls - Wave function is saved in wf_h2o_polynomial_prop.pkl\n"
     ]
    },
    {
     "data": {
      "text/plain": [
       "(0.020896110037573204, <pytdscf.wavefunction.WFunc at 0x117c12990>)"
      ]
     },
     "execution_count": 9,
     "metadata": {},
     "output_type": "execute_result"
    }
   ],
   "source": [
    "jobname = \"h2o_polynomial\"\n",
    "simulator = Simulator(jobname, model, backend=\"numpy\")\n",
    "simulator.propagate(\n",
    "    maxstep=10000,\n",
    "    stepsize=0.05,\n",
    "    restart=True,\n",
    "    savefile_ext=\"_prop\",\n",
    "    loadfile_ext=\"_dipole\",\n",
    ")  # i.e., 500 fs"
   ]
  },
  {
   "cell_type": "markdown",
   "id": "aee22b8b-88ad-469b-bb18-bf9b979386a8",
   "metadata": {},
   "source": [
    "## 6. Check Log file\n",
    "See `h2o_polynomial_prop/main.log`, which is defined as `jobname`."
   ]
  },
  {
   "cell_type": "code",
   "execution_count": 10,
   "id": "3024ea78-6f16-402f-9773-68595ab0eeba",
   "metadata": {
    "ExecuteTime": {
     "end_time": "2023-06-26T07:05:13.988131Z",
     "start_time": "2023-06-26T07:05:13.864233Z"
    }
   },
   "outputs": [
    {
     "name": "stdout",
     "output_type": "stream",
     "text": [
      "| autocorr:  0.6236-0.7767i| pop 1.0000 | ene[eV]:  0.5686121 | time[fs]:  499.700 | elapsed[sec]:   706.90 \n",
      "| autocorr:  0.5543-0.8274i| pop 1.0000 | ene[eV]:  0.5686121 | time[fs]:  499.750 | elapsed[sec]:   706.96 \n",
      "| autocorr:  0.4809-0.8720i| pop 1.0000 | ene[eV]:  0.5686121 | time[fs]:  499.800 | elapsed[sec]:   707.03 \n",
      "| autocorr:  0.4039-0.9100i| pop 1.0000 | ene[eV]:  0.5686121 | time[fs]:  499.850 | elapsed[sec]:   707.10 \n",
      "| autocorr:  0.3240-0.9413i| pop 1.0000 | ene[eV]:  0.5686121 | time[fs]:  499.900 | elapsed[sec]:   707.16 \n",
      "Saved wavefunction  499.950 [fs]\n",
      "| autocorr:  0.2417-0.9656i| pop 1.0000 | ene[eV]:  0.5686121 | time[fs]:  499.950 | elapsed[sec]:   707.22 \n",
      "End  9999 step; propagated  499.950 [fs]; AVG Krylov iteration: 5.00\n",
      "End simulation and save wavefunction\n",
      "Wave function is saved in wf_h2o_polynomial_prop.pkl\n"
     ]
    },
    {
     "name": "stderr",
     "output_type": "stream",
     "text": [
      "/usr/local/Cellar/python@3.13/3.13.2/Frameworks/Python.framework/Versions/3.13/lib/python3.13/pty.py:95: RuntimeWarning: os.fork() was called. os.fork() is incompatible with multithreaded code, and JAX is multithreaded, so this will likely lead to a deadlock.\n",
      "  pid, fd = os.forkpty()\n"
     ]
    }
   ],
   "source": [
    "!tail h2o_polynomial_prop/main.log"
   ]
  }
 ],
 "metadata": {
  "kernelspec": {
   "display_name": "Python 3 (ipykernel)",
   "language": "python",
   "name": "python3"
  },
  "language_info": {
   "codemirror_mode": {
    "name": "ipython",
    "version": 3
   },
   "file_extension": ".py",
   "mimetype": "text/x-python",
   "name": "python",
   "nbconvert_exporter": "python",
   "pygments_lexer": "ipython3",
   "version": "3.13.2"
  }
 },
 "nbformat": 4,
 "nbformat_minor": 5
}
