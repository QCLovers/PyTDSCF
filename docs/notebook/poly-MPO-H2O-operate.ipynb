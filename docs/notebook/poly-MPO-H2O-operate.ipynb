{
 "cells": [
  {
   "cell_type": "markdown",
   "id": "bcbc9641-d5d1-4f1c-a168-804cff801d8e",
   "metadata": {},
   "source": [
    "# Example 2: Operation of dipole moment operator to H2O vibrational ground state"
   ]
  },
  {
   "cell_type": "markdown",
   "id": "66e0443d-0b0a-4456-9b83-15ce3a003855",
   "metadata": {},
   "source": [
    "| run type | restart | wavefunction | backend | Basis  | max iteration |\n",
    "| ---       | ---   | ---          | ---     | ---    | ---   |\n",
    "| operation  | True (file suffix `_gs`)  | MPS-SM (restart) | Numpy   | HO-DVR | 10    |"
   ]
  },
  {
   "cell_type": "markdown",
   "id": "d484ceaa-861c-4347-8cf0-52c3d5e6201b",
   "metadata": {},
   "source": [
    "## 1. Import modules"
   ]
  },
  {
   "cell_type": "markdown",
   "id": "0b50fd02-cf7c-42b5-a02d-ca3450ebf70e",
   "metadata": {},
   "source": [
    "- Required in **any** calculations"
   ]
  },
  {
   "cell_type": "code",
   "execution_count": 1,
   "id": "6460756f-ff3a-4c0f-a761-013f629aa161",
   "metadata": {
    "ExecuteTime": {
     "end_time": "2023-06-26T07:02:37.114255Z",
     "start_time": "2023-06-26T07:02:34.738021Z"
    }
   },
   "outputs": [
    {
     "name": "stderr",
     "output_type": "stream",
     "text": [
      "17:03:54 | INFO | Param defined: keys = {'enable_summed_op'}\n",
      "17:03:54 | INFO | Param defined: verbose = 4\n",
      "17:03:54 | INFO | Param defined: mass = 1.0\n",
      "17:03:54 | INFO | Param defined: epsrho = 1e-08\n",
      "17:03:54 | INFO | Param defined: tol_CMF = 1e-14\n",
      "17:03:54 | INFO | Param defined: max_stepsize = 0.41341373335170156\n",
      "17:03:54 | INFO | Param defined: tol_RK45 = 1e-08\n",
      "17:03:54 | INFO | Param defined: load_balance_interval = 100\n",
      "17:03:54 | INFO | Param defined: pytest_enabled = False\n",
      "17:03:54 | INFO | Param defined: mpi_rank = 0\n",
      "17:03:54 | INFO | Param defined: mpi_size = 1\n",
      "17:03:54 | INFO | Param defined: mpi_comm = <mpi4py.MPI.Intracomm object at 0x7eff6ac4aa90>\n"
     ]
    }
   ],
   "source": [
    "from pytdscf import BasInfo, Model, Simulator"
   ]
  },
  {
   "cell_type": "markdown",
   "id": "eb10b01d-3471-4800-952a-ffc6857fe942",
   "metadata": {},
   "source": [
    "## 2. Set DVR primitive basis"
   ]
  },
  {
   "cell_type": "markdown",
   "id": "83d3e0aa-ade3-4399-ad7a-0b4d5ef7456e",
   "metadata": {},
   "source": [
    "**MPS-MCTDH wavefunction**\n",
    "$$\n",
    "|\\Psi_{\\rm{MPS-MCTDH}}\\rangle = \\sum_{\\mathbf \\{j\\}}\\sum_{\\mathbf \\{\\tau\\}}\n",
    "a\\substack{j_1 \\\\ 1\\tau_1}a\\substack{j_2 \\\\ \\tau_1\\tau_2} \\cdots a\\substack{j_f \\\\ \\tau_{f-1}1}\n",
    "|\\varphi_{j_1}^{(1)}(q_1)\\rangle|\\varphi_{j_2}^{(2)}(q_2)\\rangle\n",
    "\\cdots|\\varphi_{j_f}^{(f)}(q_f)\\rangle\n",
    "$$\n",
    "where SPF is \n",
    "$$\n",
    "\\varphi_{j_p}^{(p)}(q_p) = \\sum_{i_p=1}^{n_p} c_{i_p}^{j_p}\\chi_{i_p}^{(p)}(q_p) \\; (j_p = 1,2,\\ldots, N_p)\n",
    "$$\n",
    "\n",
    "Here, select $\\{\\chi_{i_p}^{(p)}(q_p)\\}$ as Harmonic Oscillator eigenfunction.\n",
    "See detail in [documenation](https://qclovers.github.io/PyTDSCF/pytdscf.html#pytdscf.primints_cls.PrimBas_HO).\n",
    "Here one define $n_p$ = 9, $N_p$ = 9. \n",
    "\n",
    "**NOTE**\n",
    "\n",
    "- In MPS,  $n = N$ (SM) is usually better than $n < M$ (MCTDH). Only when using a laptop computer, MCTDH sometimes works better. (because the required RAM in MCTDH is smaller than SM.)\n",
    "\n",
    "- Basis information must be the same as restart one."
   ]
  },
  {
   "cell_type": "code",
   "execution_count": 2,
   "id": "0e76d805-f56e-494e-a228-f676a1d3d942",
   "metadata": {
    "ExecuteTime": {
     "end_time": "2023-06-26T07:02:37.187153Z",
     "start_time": "2023-06-26T07:02:37.145046Z"
    }
   },
   "outputs": [],
   "source": [
    "from collections import Counter\n",
    "from math import sqrt\n",
    "\n",
    "import numpy as np\n",
    "import sympy\n",
    "from discvar import HarmonicOscillator as HO\n",
    "from pympo import AssignManager, OpSite, SumOfProducts, get_eye_site\n",
    "\n",
    "from pytdscf.dvr_operator_cls import TensorOperator\n",
    "from pytdscf.hamiltonian_cls import TensorHamiltonian\n",
    "from pytdscf.potentials.h2o_potential import k_orig\n",
    "\n",
    "backend = \"numpy\"\n",
    "ndim = 3\n",
    "\n",
    "freqs = [sqrt(k_orig[(k, k)]) for k in range(1, ndim + 1)]  # a.u.\n",
    "\n",
    "nprims = [9] * ndim  # Number of primitive basis\n",
    "\n",
    "basis = [\n",
    "    HO(nprim, omega, units=\"a.u.\")\n",
    "    for nprim, omega in zip(nprims, freqs, strict=True)\n",
    "]\n",
    "ndim = len(basis)  # Number of degree of freedom, H2O has 3 DOFs\n",
    "basinfo = BasInfo([basis])  # Set basis information object"
   ]
  },
  {
   "cell_type": "markdown",
   "id": "98a65e22-92d8-4732-84a8-e0231bb24560",
   "metadata": {},
   "source": [
    "## 3. Set Dipole Operator (Polynomial Function)"
   ]
  },
  {
   "cell_type": "markdown",
   "id": "af70e00d-0c9c-4a46-b764-c67e7fc2febf",
   "metadata": {},
   "source": [
    "Here, one use pre-calculated Polyonimal PES and DMS."
   ]
  },
  {
   "cell_type": "code",
   "execution_count": 3,
   "id": "55f1d56b-bf06-48d2-accd-e52265659a84",
   "metadata": {
    "ExecuteTime": {
     "end_time": "2023-06-26T07:02:37.205923Z",
     "start_time": "2023-06-26T07:02:37.175467Z"
    },
    "scrolled": true,
    "tags": []
   },
   "outputs": [
    {
     "data": {
      "text/plain": [
       "{(): [-1.69908e-15, 1.24913e-14, -1.93795],\n",
       " (3,): [-2.20831e-17, 0.00853527, -8.32759e-16],\n",
       " (2,): [1.50857e-17, 2.08217e-15, -0.00326347],\n",
       " (1,): [6.37588e-18, 8.65662e-16, 0.0142383],\n",
       " (3, 3): [3.5274e-18, -1.35302e-15, -2.31565e-05],\n",
       " (2, 3): [3.46044e-18, -0.000294259, -7.3169e-16],\n",
       " (2, 2): [-1.5306e-18, -1.42229e-15, 0.00020955],\n",
       " (1, 3): [1.45261e-17, 0.000327409, -2.99469e-17],\n",
       " (1, 2): [3.90656e-18, 1.26166e-16, -0.000112968],\n",
       " (1, 1): [-6.45481e-18, 6.79098e-16, 0.000192831],\n",
       " (3, 3, 3): [-1.34711e-21, 7.33335e-06, 9.41511e-22],\n",
       " (2, 3, 3): [2.2067e-22, -3.92968e-22, 3.0608e-06],\n",
       " (1, 3, 3): [-2.55725e-22, 4.55392e-22, -3.54702e-06],\n",
       " (2, 2, 3): [6.16547e-22, -3.35633e-06, -4.3091e-22],\n",
       " (2, 2, 2): [1.69378e-22, -3.01627e-22, 2.34936e-06],\n",
       " (1, 2, 2): [3.17065e-22, -5.64628e-22, 4.39783e-06],\n",
       " (1, 1, 3): [-1.08836e-21, 5.92476e-06, 7.60666e-22],\n",
       " (1, 1, 2): [-2.92033e-23, 5.20049e-23, -4.05062e-07],\n",
       " (1, 1, 1): [5.60185e-22, -9.97572e-22, 7.77e-06]}"
      ]
     },
     "execution_count": 3,
     "metadata": {},
     "output_type": "execute_result"
    }
   ],
   "source": [
    "from pytdscf.potentials.h2o_dipole import mu\n",
    "\n",
    "mu  # Dipole has (x,y,z) elements"
   ]
  },
  {
   "cell_type": "markdown",
   "id": "5b878dee-9610-478d-b4ea-95962f2d2e6a",
   "metadata": {},
   "source": [
    "### Setup one particle operator"
   ]
  },
  {
   "cell_type": "code",
   "execution_count": 4,
   "id": "232ec00b-d71e-4588-939b-1058715c8b9d",
   "metadata": {
    "ExecuteTime": {
     "end_time": "2023-06-26T07:02:37.205923Z",
     "start_time": "2023-06-26T07:02:37.175467Z"
    },
    "scrolled": true,
    "tags": []
   },
   "outputs": [],
   "source": [
    "q1_list = [np.array(basis_i.get_grids()) for basis_i in basis]\n",
    "q2_list = [q1_int**2 for q1_int in q1_list]\n",
    "q3_list = [q1_int**3 for q1_int in q1_list]\n",
    "\n",
    "q1_ops = [OpSite(f\"q^1_{i + 1}\", i, value=q1_list[i]) for i in range(0, ndim)]\n",
    "q2_ops = [OpSite(f\"q^2_{i + 1}\", i, value=q2_list[i]) for i in range(0, ndim)]\n",
    "q3_ops = [OpSite(f\"q^3_{i + 1}\", i, value=q3_list[i]) for i in range(0, ndim)]\n",
    "\n",
    "qn_list = [q1_ops, q2_ops, q3_ops]"
   ]
  },
  {
   "cell_type": "code",
   "execution_count": 5,
   "id": "6068eec2-cb9e-4ff8-a3f4-74d40ece9729",
   "metadata": {},
   "outputs": [],
   "source": [
    "subs = {}\n",
    "Evec = np.array([1.0, 1.0, 1.0]) * 1e-02"
   ]
  },
  {
   "cell_type": "markdown",
   "id": "430707d7-aab9-4f2e-a789-d47d568c8562",
   "metadata": {},
   "source": [
    "### Setup Potential Operator"
   ]
  },
  {
   "cell_type": "code",
   "execution_count": 6,
   "id": "8b55831c-3cb4-4f01-ba23-048c6369923b",
   "metadata": {},
   "outputs": [
    {
     "data": {
      "text/latex": [
       "$\\displaystyle \\hat{1}_0 \\mu_{()}\\cdot E + \\frac{\\mu_{(1, 1)}\\cdot E q^{2}_{1}}{2} + \\frac{\\mu_{(1, 1, 1)}\\cdot E q^{3}_{1}}{6} + \\frac{\\mu_{(1, 1, 2)}\\cdot E q^{2}_{1} q^{1}_{2}}{2} + \\frac{\\mu_{(1, 1, 3)}\\cdot E q^{2}_{1} q^{1}_{3}}{2} + \\mu_{(1, 2)}\\cdot E q^{1}_{1} q^{1}_{2} + \\frac{\\mu_{(1, 2, 2)}\\cdot E q^{1}_{1} q^{2}_{2}}{2} + \\mu_{(1, 3)}\\cdot E q^{1}_{1} q^{1}_{3} + \\frac{\\mu_{(1, 3, 3)}\\cdot E q^{1}_{1} q^{2}_{3}}{2} + \\mu_{(1,)}\\cdot E q^{1}_{1} + \\frac{\\mu_{(2, 2)}\\cdot E q^{2}_{2}}{2} + \\frac{\\mu_{(2, 2, 2)}\\cdot E q^{3}_{2}}{6} + \\frac{\\mu_{(2, 2, 3)}\\cdot E q^{2}_{2} q^{1}_{3}}{2} + \\mu_{(2, 3)}\\cdot E q^{1}_{2} q^{1}_{3} + \\frac{\\mu_{(2, 3, 3)}\\cdot E q^{1}_{2} q^{2}_{3}}{2} + \\mu_{(2,)}\\cdot E q^{1}_{2} + \\frac{\\mu_{(3, 3)}\\cdot E q^{2}_{3}}{2} + \\frac{\\mu_{(3, 3, 3)}\\cdot E q^{3}_{3}}{6} + \\mu_{(3,)}\\cdot E q^{1}_{3}$"
      ],
      "text/plain": [
       "\\hat{1}_0*\\mu_{()}\\cdot E + \\mu_{(1, 1)}\\cdot E*q^2_1/2 + \\mu_{(1, 1, 1)}\\cdot E*q^3_1/6 + \\mu_{(1, 1, 2)}\\cdot E*q^2_1*q^1_2/2 + \\mu_{(1, 1, 3)}\\cdot E*q^2_1*q^1_3/2 + \\mu_{(1, 2)}\\cdot E*q^1_1*q^1_2 + \\mu_{(1, 2, 2)}\\cdot E*q^1_1*q^2_2/2 + \\mu_{(1, 3)}\\cdot E*q^1_1*q^1_3 + \\mu_{(1, 3, 3)}\\cdot E*q^1_1*q^2_3/2 + \\mu_{(1,)}\\cdot E*q^1_1 + \\mu_{(2, 2)}\\cdot E*q^2_2/2 + \\mu_{(2, 2, 2)}\\cdot E*q^3_2/6 + \\mu_{(2, 2, 3)}\\cdot E*q^2_2*q^1_3/2 + \\mu_{(2, 3)}\\cdot E*q^1_2*q^1_3 + \\mu_{(2, 3, 3)}\\cdot E*q^1_2*q^2_3/2 + \\mu_{(2,)}\\cdot E*q^1_2 + \\mu_{(3, 3)}\\cdot E*q^2_3/2 + \\mu_{(3, 3, 3)}\\cdot E*q^3_3/6 + \\mu_{(3,)}\\cdot E*q^1_3"
      ]
     },
     "execution_count": 6,
     "metadata": {},
     "output_type": "execute_result"
    }
   ],
   "source": [
    "muE_sop = SumOfProducts()\n",
    "\n",
    "for key, dmom in mu.items():\n",
    "    if (coef := np.dot(dmom, Evec)) == 0.0:\n",
    "        continue\n",
    "    count = Counter(key)\n",
    "    muE = sympy.Symbol(r\"\\mu_{\" + f\"{key}\" + r\"}\\cdot E\")\n",
    "    subs[muE] = coef\n",
    "    if key == ():\n",
    "        # Scalar term\n",
    "        muE_sop += muE * get_eye_site(0, q1_list[0].shape[0])\n",
    "        continue\n",
    "    op = 1\n",
    "    for isite, order in count.items():\n",
    "        if order > 0:\n",
    "            op *= qn_list[order - 1][isite - 1]\n",
    "        if order > 1:\n",
    "            op /= sympy.factorial(order)\n",
    "    muE_sop += muE * op\n",
    "\n",
    "muE_sop = muE_sop.simplify()\n",
    "muE_sop.symbol"
   ]
  },
  {
   "cell_type": "markdown",
   "id": "7919c44a-8578-4019-af7a-6179705f4762",
   "metadata": {},
   "source": [
    "### Setup MPO"
   ]
  },
  {
   "cell_type": "code",
   "execution_count": 7,
   "id": "805804f2-515d-4145-a9ef-8f918ef4bb7e",
   "metadata": {},
   "outputs": [
    {
     "data": {
      "text/latex": [
       "$\\displaystyle \\left[\\begin{matrix}q^{3}_{1} & q^{1}_{1} & 1 & q^{2}_{1}\\end{matrix}\\right]$"
      ],
      "text/plain": [
       "Matrix([[q^3_1, q^1_1, 1, q^2_1]])"
      ]
     },
     "metadata": {},
     "output_type": "display_data"
    },
    {
     "data": {
      "text/latex": [
       "$\\displaystyle \\left[\\begin{matrix}0 & 0 & \\frac{\\mu_{(1, 1, 1)}\\cdot E}{6} & 0\\\\\\mu_{(1, 3)}\\cdot E & \\frac{\\mu_{(1, 3, 3)}\\cdot E}{2} & \\mu_{(1, 2)}\\cdot E q^{1}_{2} + \\frac{\\mu_{(1, 2, 2)}\\cdot E q^{2}_{2}}{2} + \\mu_{(1,)}\\cdot E & 0\\\\\\frac{\\mu_{(2, 2, 3)}\\cdot E q^{2}_{2}}{2} + \\mu_{(2, 3)}\\cdot E q^{1}_{2} + \\mu_{(3,)}\\cdot E & \\frac{\\mu_{(2, 3, 3)}\\cdot E q^{1}_{2}}{2} + \\frac{\\mu_{(3, 3)}\\cdot E}{2} & \\mu_{()}\\cdot E + \\frac{\\mu_{(2, 2)}\\cdot E q^{2}_{2}}{2} + \\frac{\\mu_{(2, 2, 2)}\\cdot E q^{3}_{2}}{6} + \\mu_{(2,)}\\cdot E q^{1}_{2} & 1\\\\\\frac{\\mu_{(1, 1, 3)}\\cdot E}{2} & 0 & \\frac{\\mu_{(1, 1)}\\cdot E}{2} + \\frac{\\mu_{(1, 1, 2)}\\cdot E q^{1}_{2}}{2} & 0\\end{matrix}\\right]$"
      ],
      "text/plain": [
       "Matrix([\n",
       "[                                                                             0,                                                      0,                                                                                 \\mu_{(1, 1, 1)}\\cdot E/6, 0],\n",
       "[                                                           \\mu_{(1, 3)}\\cdot E,                               \\mu_{(1, 3, 3)}\\cdot E/2,                           \\mu_{(1, 2)}\\cdot E*q^1_2 + \\mu_{(1, 2, 2)}\\cdot E*q^2_2/2 + \\mu_{(1,)}\\cdot E, 0],\n",
       "[\\mu_{(2, 2, 3)}\\cdot E*q^2_2/2 + \\mu_{(2, 3)}\\cdot E*q^1_2 + \\mu_{(3,)}\\cdot E, \\mu_{(2, 3, 3)}\\cdot E*q^1_2/2 + \\mu_{(3, 3)}\\cdot E/2, \\mu_{()}\\cdot E + \\mu_{(2, 2)}\\cdot E*q^2_2/2 + \\mu_{(2, 2, 2)}\\cdot E*q^3_2/6 + \\mu_{(2,)}\\cdot E*q^1_2, 1],\n",
       "[                                                      \\mu_{(1, 1, 3)}\\cdot E/2,                                                      0,                                                   \\mu_{(1, 1)}\\cdot E/2 + \\mu_{(1, 1, 2)}\\cdot E*q^1_2/2, 0]])"
      ]
     },
     "metadata": {},
     "output_type": "display_data"
    },
    {
     "data": {
      "text/latex": [
       "$\\displaystyle \\left[\\begin{matrix}q^{1}_{3}\\\\q^{2}_{3}\\\\1\\\\\\frac{\\mu_{(3, 3, 3)}\\cdot E q^{3}_{3}}{6}\\end{matrix}\\right]$"
      ],
      "text/plain": [
       "Matrix([\n",
       "[                         q^1_3],\n",
       "[                         q^2_3],\n",
       "[                             1],\n",
       "[\\mu_{(3, 3, 3)}\\cdot E*q^3_3/6]])"
      ]
     },
     "metadata": {},
     "output_type": "display_data"
    },
    {
     "name": "stdout",
     "output_type": "stream",
     "text": [
      "W0 W1 W2 =\n"
     ]
    },
    {
     "data": {
      "text/latex": [
       "$\\displaystyle \\mu_{()}\\cdot E + \\frac{\\mu_{(1, 1)}\\cdot E q^{2}_{1}}{2} + \\frac{\\mu_{(1, 1, 1)}\\cdot E q^{3}_{1}}{6} + \\frac{\\mu_{(1, 1, 2)}\\cdot E q^{2}_{1} q^{1}_{2}}{2} + \\frac{\\mu_{(1, 1, 3)}\\cdot E q^{2}_{1} q^{1}_{3}}{2} + \\mu_{(1, 2)}\\cdot E q^{1}_{1} q^{1}_{2} + \\frac{\\mu_{(1, 2, 2)}\\cdot E q^{1}_{1} q^{2}_{2}}{2} + \\mu_{(1, 3)}\\cdot E q^{1}_{1} q^{1}_{3} + \\frac{\\mu_{(1, 3, 3)}\\cdot E q^{1}_{1} q^{2}_{3}}{2} + \\mu_{(1,)}\\cdot E q^{1}_{1} + \\frac{\\mu_{(2, 2)}\\cdot E q^{2}_{2}}{2} + \\frac{\\mu_{(2, 2, 2)}\\cdot E q^{3}_{2}}{6} + \\frac{\\mu_{(2, 2, 3)}\\cdot E q^{2}_{2} q^{1}_{3}}{2} + \\mu_{(2, 3)}\\cdot E q^{1}_{2} q^{1}_{3} + \\frac{\\mu_{(2, 3, 3)}\\cdot E q^{1}_{2} q^{2}_{3}}{2} + \\mu_{(2,)}\\cdot E q^{1}_{2} + \\frac{\\mu_{(3, 3)}\\cdot E q^{2}_{3}}{2} + \\frac{\\mu_{(3, 3, 3)}\\cdot E q^{3}_{3}}{6} + \\mu_{(3,)}\\cdot E q^{1}_{3}$"
      ],
      "text/plain": [
       "\\mu_{()}\\cdot E + \\mu_{(1, 1)}\\cdot E*q^2_1/2 + \\mu_{(1, 1, 1)}\\cdot E*q^3_1/6 + \\mu_{(1, 1, 2)}\\cdot E*q^2_1*q^1_2/2 + \\mu_{(1, 1, 3)}\\cdot E*q^2_1*q^1_3/2 + \\mu_{(1, 2)}\\cdot E*q^1_1*q^1_2 + \\mu_{(1, 2, 2)}\\cdot E*q^1_1*q^2_2/2 + \\mu_{(1, 3)}\\cdot E*q^1_1*q^1_3 + \\mu_{(1, 3, 3)}\\cdot E*q^1_1*q^2_3/2 + \\mu_{(1,)}\\cdot E*q^1_1 + \\mu_{(2, 2)}\\cdot E*q^2_2/2 + \\mu_{(2, 2, 2)}\\cdot E*q^3_2/6 + \\mu_{(2, 2, 3)}\\cdot E*q^2_2*q^1_3/2 + \\mu_{(2, 3)}\\cdot E*q^1_2*q^1_3 + \\mu_{(2, 3, 3)}\\cdot E*q^1_2*q^2_3/2 + \\mu_{(2,)}\\cdot E*q^1_2 + \\mu_{(3, 3)}\\cdot E*q^2_3/2 + \\mu_{(3, 3, 3)}\\cdot E*q^3_3/6 + \\mu_{(3,)}\\cdot E*q^1_3"
      ]
     },
     "metadata": {},
     "output_type": "display_data"
    }
   ],
   "source": [
    "am = AssignManager(muE_sop)\n",
    "am.assign()\n",
    "display(*am.Wsym)\n",
    "W_prod = sympy.Mul(*am.Wsym)\n",
    "print(*[f\"W{i}\" for i in range(am.ndim)], \"=\")\n",
    "display(W_prod[0].expand())\n",
    "mu_mpo = am.numerical_mpo(subs=subs)"
   ]
  },
  {
   "cell_type": "markdown",
   "id": "24cc7cab-b7f7-4717-a1c1-e545f070d0b3",
   "metadata": {},
   "source": [
    "### Setup Operator"
   ]
  },
  {
   "cell_type": "code",
   "execution_count": 8,
   "id": "f5c68e5b-f2ef-48ef-ac3a-d56a8456cc8b",
   "metadata": {},
   "outputs": [
    {
     "name": "stderr",
     "output_type": "stream",
     "text": [
      "17:03:55 | INFO | Start tensor decomposition: type = QRD\n",
      "WARNING:2025-06-11 17:03:55,387:jax._src.xla_bridge:791: An NVIDIA GPU may be present on this machine, but a CUDA-enabled jaxlib is not installed. Falling back to cpu.\n"
     ]
    }
   ],
   "source": [
    "potential = [\n",
    "    [{(tuple((i) for i in range(0, ndim))): TensorOperator(mpo=mu_mpo)}]\n",
    "]\n",
    "\n",
    "H = TensorHamiltonian(\n",
    "    ndof=len(basis), potential=potential, kinetic=None, backend=backend\n",
    ")\n",
    "\n",
    "operators = {\"hamiltonian\": H}"
   ]
  },
  {
   "cell_type": "markdown",
   "id": "2b82c15c-62d4-474e-964b-49637a6dcd9c",
   "metadata": {
    "tags": []
   },
   "source": [
    "## 4. Set wave function (MPS) and All Model\n",
    "\n",
    "- `m_aux_max` is MPS bond dimenison (maximum of auxiliary index $\\tau_p$)"
   ]
  },
  {
   "cell_type": "code",
   "execution_count": 9,
   "id": "79beeb3a-565e-4d80-bdb3-cc79a821f6f3",
   "metadata": {
    "ExecuteTime": {
     "end_time": "2023-06-26T07:02:37.236930Z",
     "start_time": "2023-06-26T07:02:37.207186Z"
    }
   },
   "outputs": [],
   "source": [
    "model = Model(basinfo=basinfo, operators=operators)\n",
    "model.m_aux_max = 9"
   ]
  },
  {
   "cell_type": "markdown",
   "id": "cb495b77-ca3f-4771-bae6-1a4d6dc1b503",
   "metadata": {},
   "source": [
    "## 5. Execute Calculation"
   ]
  },
  {
   "cell_type": "code",
   "execution_count": 10,
   "id": "c121c2b6-d7c2-40a6-93ae-1578ca67f256",
   "metadata": {
    "ExecuteTime": {
     "end_time": "2023-06-26T07:02:37.145184Z",
     "start_time": "2023-06-26T07:02:37.115028Z"
    }
   },
   "outputs": [
    {
     "name": "stdout",
     "output_type": "stream",
     "text": [
      "wf_h2o_polynomial_gs.pkl\n"
     ]
    },
    {
     "name": "stderr",
     "output_type": "stream",
     "text": [
      "/home/hinom/.local/share/uv/python/cpython-3.12.2-linux-x86_64-gnu/lib/python3.12/pty.py:95: RuntimeWarning: os.fork() was called. os.fork() is incompatible with multithreaded code, and JAX is multithreaded, so this will likely lead to a deadlock.\n",
      "  pid, fd = os.forkpty()\n"
     ]
    }
   ],
   "source": [
    "! ls wf_h2o_polynomial_gs.pkl"
   ]
  },
  {
   "cell_type": "markdown",
   "id": "d06941d9-23d2-40af-a92b-6afbc9fecedf",
   "metadata": {},
   "source": [
    "F.Y.I., See also about [Simulator](https://qclovers.github.io/PyTDSCF/pytdscf.html#pytdscf.simulator_cls.Simulator)\n",
    "\n",
    "This run type prepare $|\\Psi_{\\mu}\\rangle$ by variationally optimizing\n",
    "$$\\langle \\delta\\Psi_{\\mu}|\\Psi_{\\mu} - \\hat{\\mu}\\Psi_{\\mathrm{gs}}\\rangle=0$$\n",
    "where $\\Psi_{\\mathrm{gs}}$ is a vibrational ground state wavefunction.\n",
    "\n",
    "**NOTE**\n",
    "\n",
    "- Runtype cannnot rebind. If you want to change runtype, you should restart kernel."
   ]
  },
  {
   "cell_type": "code",
   "execution_count": 11,
   "id": "fabba1c2-8b8a-4adc-a784-73d310737842",
   "metadata": {
    "ExecuteTime": {
     "end_time": "2023-06-26T07:02:37.328268Z",
     "start_time": "2023-06-26T07:02:37.237287Z"
    }
   },
   "outputs": [
    {
     "name": "stderr",
     "output_type": "stream",
     "text": [
      "17:03:55 | INFO | Param defined: jobname = h2o_polynomial_operate\n",
      "17:03:55 | INFO | Log file is ./h2o_polynomial_operate/main.log\n",
      "17:03:55 | INFO | Param defined: verbose = 2\n",
      "17:03:55 | INFO | Param defined: doRestart = True\n",
      "17:03:55 | INFO | Param defined: doRelax = False\n",
      "17:03:55 | INFO | Param defined: doAppDipo = True\n",
      "17:03:55 | INFO | Param defined: doDVR = True\n",
      "17:03:55 | INFO | Param defined: savefile_ext = _dipole\n",
      "17:03:55 | INFO | Param defined: loadfile_ext = _gs\n",
      "17:03:55 | INFO | Param defined: time_fs_init = 0.0\n",
      "17:03:55 | INFO | Param defined: maxstep = 10\n",
      "17:03:55 | INFO | Param defined: doOrtho = False\n",
      "17:03:55 | INFO | Param defined: doTDHamil = False\n",
      "17:03:55 | INFO | Param defined: oldcode = False\n",
      "17:03:55 | INFO | Param defined: use_jax = False\n",
      "17:03:55 | INFO | Param defined: thresh_exp = 1e-09\n",
      "17:03:55 | INFO | Param defined: standard_method = True\n",
      "17:03:55 | INFO | Param defined: use_mpo = True\n",
      "17:03:55 | INFO | Param defined: adaptive = False\n",
      "17:03:55 | INFO | Param defined: Dmax = 100\n",
      "17:03:55 | INFO | Param defined: dD = 10\n",
      "17:03:55 | INFO | Param defined: p_proj = 0.0001\n",
      "17:03:55 | INFO | Param defined: p_svd = 1e-07\n",
      "17:03:55 | INFO | Set integral of DVR basis\n",
      "17:03:55 | INFO | Set initial wave function (DVR basis)\n",
      "17:03:55 | INFO | Wave function is loaded from wf_h2o_polynomial_gs.pkl\n",
      "17:03:55 | INFO | Start: apply operator to wave function\n",
      "17:03:55 | INFO | Wave function is saved in wf_h2o_polynomial_dipole.pkl\n",
      "17:03:55 | INFO | End  : apply operator to wave function\n"
     ]
    },
    {
     "data": {
      "text/plain": [
       "(0.019386775177227568, <pytdscf.wavefunction.WFunc at 0x7eff6f285d00>)"
      ]
     },
     "execution_count": 11,
     "metadata": {},
     "output_type": "execute_result"
    },
    {
     "data": {
      "text/plain": [
       "(0.019386775177227346, <pytdscf.wavefunction.WFunc at 0x7d8ccbfab9b0>)"
      ]
     },
     "execution_count": 11,
     "metadata": {},
     "output_type": "execute_result"
    }
   ],
   "source": [
    "jobname = \"h2o_polynomial\"\n",
    "simulator = Simulator(jobname, model, backend=\"numpy\", verbose=4)\n",
    "simulator.operate(\n",
    "    loadfile_ext=\"_gs\", savefile_ext=\"_dipole\", restart=True, maxstep=10\n",
    ")"
   ]
  },
  {
   "cell_type": "markdown",
   "id": "aee22b8b-88ad-469b-bb18-bf9b979386a8",
   "metadata": {},
   "source": [
    "## 6. Check Log file\n",
    "See `h2o_polynomial_operate/main.log`, which is defined by `jobname`."
   ]
  },
  {
   "cell_type": "code",
   "execution_count": 12,
   "id": "3024ea78-6f16-402f-9773-68595ab0eeba",
   "metadata": {
    "ExecuteTime": {
     "end_time": "2023-06-26T07:02:37.466206Z",
     "start_time": "2023-06-26T07:02:37.312945Z"
    }
   },
   "outputs": [
    {
     "name": "stdout",
     "output_type": "stream",
     "text": [
      "2025-06-11 17:03:55 | INFO | pytdscf.simulator_cls:get_initial_wavefunction:464 - Wave function is loaded from wf_h2o_polynomial_gs.pkl\n",
      "2025-06-11 17:03:55 | INFO | pytdscf.simulator_cls:_execute:329 - Start: apply operator to wave function\n",
      "2025-06-11 17:03:55 | DEBUG | pytdscf.wavefunction:apply_dipole:335 - ----------------------------------------\n",
      "iterations: 0 norm: 0.019386775177227554\n",
      "2025-06-11 17:03:55 | DEBUG | pytdscf.wavefunction:_is_converged:294 - convergence : 0.9977392532567776\n",
      "2025-06-11 17:03:55 | DEBUG | pytdscf.wavefunction:apply_dipole:335 - ----------------------------------------\n",
      "iterations: 1 norm: 0.019386775177227568\n",
      "2025-06-11 17:03:55 | DEBUG | pytdscf.wavefunction:_is_converged:294 - convergence : 1.0000000000000002\n",
      "2025-06-11 17:03:55 | INFO | pytdscf.simulator_cls:save_wavefunction:546 - Wave function is saved in wf_h2o_polynomial_dipole.pkl\n",
      "2025-06-11 17:03:55 | INFO | pytdscf.simulator_cls:_execute:332 - End  : apply operator to wave function\n"
     ]
    }
   ],
   "source": [
    "!tail h2o_polynomial_operate/main.log"
   ]
  }
 ],
 "metadata": {
  "kernelspec": {
   "display_name": "Python 3 (ipykernel)",
   "language": "python",
   "name": "python3"
  },
  "language_info": {
   "codemirror_mode": {
    "name": "ipython",
    "version": 3
   },
   "file_extension": ".py",
   "mimetype": "text/x-python",
   "name": "python",
   "nbconvert_exporter": "python",
   "pygments_lexer": "ipython3",
   "version": "3.12.2"
  }
 },
 "nbformat": 4,
 "nbformat_minor": 5
}
