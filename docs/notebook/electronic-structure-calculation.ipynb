{
 "cells": [
  {
   "cell_type": "markdown",
   "id": "b0aae815-6e0d-4de3-9f6b-79b526f3c5e8",
   "metadata": {},
   "source": [
    "# Example 8 Parallel Electronic Structure Calculation in DVR Mesh PES\n",
    "\n",
    "**NOTES**\n",
    "\n",
    "- Electronic structure calculation requires ASE (Atomic Simulation Environment)\n",
    "\n",
    "Documentation is [here](https://qclovers.github.io/PyTDSCF/pytdscf.html#module-pytdscf.ase_handler)"
   ]
  },
  {
   "cell_type": "markdown",
   "id": "6ca61069-516e-4ee2-8f93-532fd1063b1b",
   "metadata": {},
   "source": [
    "## 1. Import modules"
   ]
  },
  {
   "cell_type": "code",
   "execution_count": 1,
   "id": "686e7bfa-dda9-4e29-b93c-a78afbb93c70",
   "metadata": {},
   "outputs": [],
   "source": [
    "import os\n",
    "\n",
    "import numpy as np\n",
    "from ase import Atoms\n",
    "from ase.calculators.orca import ORCA, OrcaProfile\n",
    "from ase.units import Bohr, Hartree\n",
    "from ase.vibrations import Vibrations\n",
    "from discvar import HarmonicOscillator\n",
    "\n",
    "from pytdscf import units\n",
    "from pytdscf.ase_handler import DVR_Mesh\n",
    "from pytdscf.util.hess_util import get_displce_from_hess"
   ]
  },
  {
   "cell_type": "markdown",
   "id": "67575d25-89ad-4891-a144-6cf3c654c054",
   "metadata": {},
   "source": [
    "## 2.  Get Initial Coordinate\n",
    "You can set `ase.Atoms` mannually. (Arleady optimized)"
   ]
  },
  {
   "cell_type": "code",
   "execution_count": 2,
   "id": "1a37cd7a-e2ad-401b-bfd3-66aa1dc8e0bb",
   "metadata": {},
   "outputs": [],
   "source": [
    "h2co = Atoms(\n",
    "    \"OCHH\",\n",
    "    [\n",
    "        (0.000000, 0.000000, 0.667507),\n",
    "        (0.000000, 0.000000, -0.531172),\n",
    "        (0.000000, 0.938955, -1.119091),\n",
    "        (0.000000, -0.938955, -1.119091),\n",
    "    ],\n",
    ")"
   ]
  },
  {
   "cell_type": "markdown",
   "id": "4f9c6727-ff2a-43ff-881e-eee4ce09bd1f",
   "metadata": {},
   "source": [
    "## 3. Select Calculator for opt/hessian"
   ]
  },
  {
   "cell_type": "code",
   "execution_count": 3,
   "id": "cfdff3c1-c7f4-49af-8279-b95ba131f372",
   "metadata": {},
   "outputs": [
    {
     "data": {
      "text/plain": [
       "array([[ 4.31328299e-07, -2.77679162e-09,  3.50284979e-02],\n",
       "       [ 2.40706696e-07, -6.77280046e-07, -3.09252283e-02],\n",
       "       [ 4.06234330e-08,  7.40326482e-04, -1.32232997e-03],\n",
       "       [ 5.48673456e-08, -7.40052711e-04, -1.32248352e-03]])"
      ]
     },
     "execution_count": 3,
     "metadata": {},
     "output_type": "execute_result"
    }
   ],
   "source": [
    "nprocs = 4\n",
    "MyOrcaProfile = OrcaProfile(command=f\"{os.environ['ORCA_DIR']}/orca\")\n",
    "calculator_engrad = ORCA(\n",
    "    profile=MyOrcaProfile,\n",
    "    directory=\"calc\",\n",
    "    task=\"gradient\",\n",
    "    orcasimpleinput=\"B3LYP def2-TZVP TIGHTSCF Engrad\",  # <- to calculate force, Engrad is required.\n",
    "    orcablocks=f\"%scf maxiter 300 end \\n %pal nprocs {nprocs} end\",\n",
    ")\n",
    "h2co.calc = calculator_engrad\n",
    "h2co.get_forces()"
   ]
  },
  {
   "cell_type": "markdown",
   "id": "fc5e6c26-499c-4980-98dd-c202b24bfff1",
   "metadata": {},
   "source": [
    "## 4. Run optimization (if needed)\n",
    "[`Berny` optimizer were deleted](https://gitlab.com/ase/ase/-/merge_requests/3145) (crying)."
   ]
  },
  {
   "cell_type": "code",
   "execution_count": 4,
   "id": "5914af4d-5d8c-4060-854e-2b848563d5df",
   "metadata": {},
   "outputs": [],
   "source": [
    "# BFGS(h2co).run(fmax=0.001)"
   ]
  },
  {
   "cell_type": "markdown",
   "id": "5191d573-3ff1-4893-b823-eaf2448157c3",
   "metadata": {},
   "source": [
    "## 5. Prepare displacement vectors (normal mode) and frequencies"
   ]
  },
  {
   "cell_type": "code",
   "execution_count": 5,
   "id": "a809e61f-2513-4b1c-aa89-6d06f90edee7",
   "metadata": {},
   "outputs": [
    {
     "name": "stdout",
     "output_type": "stream",
     "text": [
      "[[ 1.86153277e+00  2.99790651e-04  5.04179227e-04 -5.57130462e+00\n",
      "   9.22027231e-04 -6.37208114e-04  1.86644118e+00  9.86876885e-04\n",
      "   5.61708950e-05  1.86726078e+00 -1.33864496e-05  7.33947164e-05]\n",
      " [ 2.99790651e-04  7.14653488e+00 -1.21917736e-03 -3.67693491e-05\n",
      "  -1.02608808e+01  1.32207163e-03 -1.35799251e-04  1.56815736e+00\n",
      "   3.56845373e+00  4.88697328e-04  1.56894987e+00 -3.56946525e+00]\n",
      " [ 5.04179227e-04 -1.21917736e-03  8.56946629e+01 -9.85218523e-04\n",
      "   2.00084806e-03 -7.73154928e+01  1.17455715e-04  1.85300888e+00\n",
      "  -4.19815850e+00 -4.23585421e-04 -1.85354833e+00 -4.19853771e+00]\n",
      " [-5.57130462e+00 -3.67693491e-05 -9.85218523e-04  1.68949096e+01\n",
      "  -9.77686476e-04  8.06353291e-04 -5.67443819e+00 -2.23968813e-04\n",
      "   9.72147034e-05 -5.67449069e+00  2.29287141e-04  8.88727586e-05]\n",
      " [ 9.22027231e-04 -1.02608808e+01  2.00084806e-03 -9.77686476e-04\n",
      "   5.56456901e+01 -4.77772710e-04  6.37633632e-06 -2.26971598e+01\n",
      "   7.65508379e+00 -2.08732455e-04 -2.26992016e+01 -7.65359793e+00]\n",
      " [-6.37208114e-04  1.32207163e-03 -7.73154928e+01  8.06353291e-04\n",
      "  -4.77772710e-04  9.58307617e+01 -3.16496395e-04  7.19638854e+00\n",
      "  -9.24112206e+00  1.99537032e-03 -7.19826156e+00 -9.24207078e+00]\n",
      " [ 1.86644118e+00 -1.35799251e-04  1.17455715e-04 -5.67443819e+00\n",
      "   6.37633632e-06 -3.16496395e-04  1.90673396e+00 -1.59706399e-03\n",
      "   9.13924398e-05  1.90453621e+00 -1.55207225e-04  9.82791402e-05]\n",
      " [ 9.86876885e-04  1.56815736e+00  1.85300888e+00 -2.23968813e-04\n",
      "  -2.26971598e+01  7.19638854e+00 -1.59706399e-03  2.29844080e+01\n",
      "  -1.01429642e+01  1.11453345e-03 -1.86153949e+00  1.08973492e+00]\n",
      " [ 5.61708950e-05  3.56845373e+00 -4.19815850e+00  9.72147034e-05\n",
      "   7.65508379e+00 -9.24112206e+00  9.13924398e-05 -1.01429642e+01\n",
      "   1.25083211e+01 -8.06056328e-04 -1.08852703e+00  9.23814966e-01]\n",
      " [ 1.86726078e+00  4.88697328e-04 -4.23585421e-04 -5.67449069e+00\n",
      "  -2.08732455e-04  1.99537032e-03  1.90453621e+00  1.11453345e-03\n",
      "  -8.06056328e-04  1.90079164e+00 -7.29364172e-04 -7.85721472e-04]\n",
      " [-1.33864496e-05  1.56894987e+00 -1.85354833e+00  2.29287141e-04\n",
      "  -2.26992016e+01 -7.19826156e+00 -1.55207225e-04 -1.86153949e+00\n",
      "  -1.08852703e+00 -7.29364172e-04  2.29869210e+01  1.01420041e+01]\n",
      " [ 7.33947164e-05 -3.56946525e+00 -4.19853771e+00  8.88727586e-05\n",
      "  -7.65359793e+00 -9.24207078e+00  9.82791402e-05  1.08973492e+00\n",
      "   9.23814966e-01 -7.85721472e-04  1.01420041e+01  1.25094645e+01]] [0.00000000e+00+35.59149439j 0.00000000e+00+25.48400563j\n",
      " 7.12165794e-01 +0.j         9.56649195e+00 +0.j\n",
      " 1.80922618e+01 +0.j         2.46433264e+01 +0.j\n",
      " 1.20053422e+03 +0.j         1.26613208e+03 +0.j\n",
      " 1.53380849e+03 +0.j         1.82104023e+03 +0.j\n",
      " 2.87825020e+03 +0.j         2.93312380e+03 +0.j        ]\n",
      "---------------------\n",
      "  #    meV     cm^-1\n",
      "---------------------\n",
      "  0    4.4i     35.6i\n",
      "  1    3.2i     25.5i\n",
      "  2    0.1       0.7\n",
      "  3    1.2       9.6\n",
      "  4    2.2      18.1\n",
      "  5    3.1      24.6\n",
      "  6  148.8    1200.5\n",
      "  7  157.0    1266.1\n",
      "  8  190.2    1533.8\n",
      "  9  225.8    1821.0\n",
      " 10  356.9    2878.3\n",
      " 11  363.7    2933.1\n",
      "---------------------\n",
      "Zero-point energy: 0.724 eV\n"
     ]
    },
    {
     "data": {
      "text/plain": [
       "25"
      ]
     },
     "execution_count": 5,
     "metadata": {},
     "output_type": "execute_result"
    }
   ],
   "source": [
    "vib = Vibrations(h2co)\n",
    "vib.run()\n",
    "\n",
    "hess = vib.get_vibrations().get_hessian_2d()\n",
    "_freq = vib.get_frequencies()\n",
    "print(hess, _freq)\n",
    "\n",
    "vib.summary()\n",
    "vib.clean()"
   ]
  },
  {
   "cell_type": "markdown",
   "id": "a1ae0c08-ea13-425e-b8cf-3ce23453cb65",
   "metadata": {},
   "source": [
    "Absorb $\\sqrt{M}_i$ into $\\vec{R}_i$"
   ]
  },
  {
   "cell_type": "code",
   "execution_count": 6,
   "id": "edf824db-cc4a-456f-9ea3-dc4c1efe14cf",
   "metadata": {
    "tags": []
   },
   "outputs": [
    {
     "name": "stdout",
     "output_type": "stream",
     "text": [
      "freq [cm-1] = [           nan            nan 7.12165793e-01 9.56649195e+00\n",
      " 1.80922618e+01 2.46433264e+01 1.20053422e+03 1.26613208e+03\n",
      " 1.53380849e+03 1.82104023e+03 2.87825020e+03 2.93312380e+03]\n"
     ]
    },
    {
     "name": "stderr",
     "output_type": "stream",
     "text": [
      "/Users/hinom/GitHub/PyTDSCF/pytdscf/util/hess_util.py:259: RuntimeWarning: invalid value encountered in sqrt\n",
      "  freq = np.sqrt(E) * units.au_in_cm1\n"
     ]
    }
   ],
   "source": [
    "sqrt_m = np.repeat(np.sqrt(h2co.get_masses()), 3)\n",
    "mwhess = hess / sqrt_m[np.newaxis, :] / sqrt_m[:, np.newaxis]\n",
    "mwhess *= (Bohr * Bohr / Hartree) * units.au_in_dalton\n",
    "disp_vec, freq = get_displce_from_hess(mwhess, h2co.get_masses())\n",
    "np.testing.assert_allclose(freq.real[6:], _freq.real[6:])\n",
    "print(f\"freq [cm-1] = {freq}\")"
   ]
  },
  {
   "cell_type": "markdown",
   "id": "374c7514-4a34-42b8-9346-3b9a4d60d947",
   "metadata": {},
   "source": [
    "## 6. Select DVR grid basis set\n",
    "DVR grid must be consistent with Wave Function DVR basis"
   ]
  },
  {
   "cell_type": "code",
   "execution_count": 7,
   "id": "9e809479-260b-4fd7-ad4c-932935b583bd",
   "metadata": {
    "tags": []
   },
   "outputs": [],
   "source": [
    "ngrid = 7\n",
    "jobname_pes = f\"H2CO_{ngrid}grids\"\n",
    "dvr_info = [\n",
    "    HarmonicOscillator(ngrid=ngrid, omega=f, units=\"cm1\") for f in freq[6:]\n",
    "]"
   ]
  },
  {
   "cell_type": "markdown",
   "id": "771e50ad-e345-4b2b-b9af-cd01d0741c95",
   "metadata": {},
   "source": [
    "## 7. Generate DVR grid Mesh coordiante\n",
    "\n",
    "Here one constructs 2-mode representation grid-based PES"
   ]
  },
  {
   "cell_type": "code",
   "execution_count": 8,
   "id": "421f4856-a8bb-4e2e-b53e-ee255f0e963c",
   "metadata": {
    "tags": []
   },
   "outputs": [
    {
     "name": "stderr",
     "output_type": "stream",
     "text": [
      "START : Displacement Generation\n",
      "DONE : Displacement Generation\n"
     ]
    },
    {
     "name": "stdout",
     "output_type": "stream",
     "text": [
      "Save geometry in DB of DOFs = (0,)[████████████████████████████████████████] 7/7\n",
      "\n",
      "Save geometry in DB of DOFs = (1,)[████████████████████████████████████████] 7/7\n",
      "\n",
      "Save geometry in DB of DOFs = (2,)[████████████████████████████████████████] 7/7\n",
      "\n",
      "Save geometry in DB of DOFs = (3,)[████████████████████████████████████████] 7/7\n",
      "\n",
      "Save geometry in DB of DOFs = (4,)[████████████████████████████████████████] 7/7\n",
      "\n",
      "Save geometry in DB of DOFs = (5,)[████████████████████████████████████████] 7/7\n",
      "\n",
      "Save geometry in DB of DOFs = (0, 1)[████████████████████████████████████████] 49/49\n",
      "\n",
      "Save geometry in DB of DOFs = (0, 2)[████████████████████████████████████████] 49/49\n",
      "\n",
      "Save geometry in DB of DOFs = (0, 3)[████████████████████████████████████████] 49/49\n",
      "\n",
      "Save geometry in DB of DOFs = (0, 4)[████████████████████████████████████████] 49/49\n",
      "\n",
      "Save geometry in DB of DOFs = (0, 5)[████████████████████████████████████████] 49/49\n",
      "\n",
      "Save geometry in DB of DOFs = (1, 2)[████████████████████████████████████████] 49/49\n",
      "\n",
      "Save geometry in DB of DOFs = (1, 3)[████████████████████████████████████████] 49/49\n",
      "\n",
      "Save geometry in DB of DOFs = (1, 4)[████████████████████████████████████████] 49/49\n",
      "\n",
      "Save geometry in DB of DOFs = (1, 5)[████████████████████████████████████████] 49/49\n",
      "\n",
      "Save geometry in DB of DOFs = (2, 3)[████████████████████████████████████████] 49/49\n",
      "\n",
      "Save geometry in DB of DOFs = (2, 4)[████████████████████████████████████████] 49/49\n",
      "\n",
      "Save geometry in DB of DOFs = (2, 5)[████████████████████████████████████████] 49/49\n",
      "\n",
      "Save geometry in DB of DOFs = (3, 4)[████████████████████████████████████████] 49/49\n",
      "\n",
      "Save geometry in DB of DOFs = (3, 5)[████████████████████████████████████████] 49/49\n",
      "\n",
      "Save geometry in DB of DOFs = (4, 5)[████████████████████████████████████████] 49/49\n",
      "\n"
     ]
    },
    {
     "name": "stderr",
     "output_type": "stream",
     "text": [
      "SAVE : DVR Mesh as H2CO_7grids.DVR_Mesh\n"
     ]
    }
   ],
   "source": [
    "mesh = DVR_Mesh(dvr_info, h2co, disp_vec[6:] * units.au_in_angstrom)\n",
    "mesh_id = mesh.save_geoms(jobname_pes, overwrite=True, nMR=2)"
   ]
  },
  {
   "cell_type": "markdown",
   "id": "b5c4e62b-6e0f-4ded-8b5d-d766456e0bc5",
   "metadata": {},
   "source": [
    "## 8. Execute electronic structure calculation\n",
    "You can check your CPU by `cpuinfo` command."
   ]
  },
  {
   "cell_type": "code",
   "execution_count": 9,
   "id": "bb7a67b3-2df4-48d4-9d28-864cdc0fc988",
   "metadata": {},
   "outputs": [
    {
     "data": {
      "text/plain": [
       "\u001b[0;31mSignature:\u001b[0m\n",
       "\u001b[0mmesh\u001b[0m\u001b[0;34m.\u001b[0m\u001b[0mexecute_multiproc\u001b[0m\u001b[0;34m(\u001b[0m\u001b[0;34m\u001b[0m\n",
       "\u001b[0;34m\u001b[0m    \u001b[0mcalculator\u001b[0m\u001b[0;34m:\u001b[0m \u001b[0mase\u001b[0m\u001b[0;34m.\u001b[0m\u001b[0mcalculators\u001b[0m\u001b[0;34m.\u001b[0m\u001b[0mcalculator\u001b[0m\u001b[0;34m.\u001b[0m\u001b[0mCalculator\u001b[0m\u001b[0;34m,\u001b[0m\u001b[0;34m\u001b[0m\n",
       "\u001b[0;34m\u001b[0m    \u001b[0mmax_workers\u001b[0m\u001b[0;34m:\u001b[0m \u001b[0mint\u001b[0m \u001b[0;34m|\u001b[0m \u001b[0;32mNone\u001b[0m \u001b[0;34m=\u001b[0m \u001b[0;32mNone\u001b[0m\u001b[0;34m,\u001b[0m\u001b[0;34m\u001b[0m\n",
       "\u001b[0;34m\u001b[0m    \u001b[0mtimeout\u001b[0m\u001b[0;34m:\u001b[0m \u001b[0mfloat\u001b[0m \u001b[0;34m=\u001b[0m \u001b[0;36m60.0\u001b[0m\u001b[0;34m,\u001b[0m\u001b[0;34m\u001b[0m\n",
       "\u001b[0;34m\u001b[0m    \u001b[0mjobname\u001b[0m\u001b[0;34m:\u001b[0m \u001b[0mstr\u001b[0m \u001b[0;34m|\u001b[0m \u001b[0;32mNone\u001b[0m \u001b[0;34m=\u001b[0m \u001b[0;32mNone\u001b[0m\u001b[0;34m,\u001b[0m\u001b[0;34m\u001b[0m\n",
       "\u001b[0;34m\u001b[0m    \u001b[0mreset_calc\u001b[0m\u001b[0;34m:\u001b[0m \u001b[0mbool\u001b[0m \u001b[0;34m=\u001b[0m \u001b[0;32mFalse\u001b[0m\u001b[0;34m,\u001b[0m\u001b[0;34m\u001b[0m\n",
       "\u001b[0;34m\u001b[0m    \u001b[0mjudge_func\u001b[0m\u001b[0;34m:\u001b[0m \u001b[0mOptional\u001b[0m\u001b[0;34m[\u001b[0m\u001b[0mCallable\u001b[0m\u001b[0;34m]\u001b[0m \u001b[0;34m=\u001b[0m \u001b[0;32mNone\u001b[0m\u001b[0;34m,\u001b[0m\u001b[0;34m\u001b[0m\n",
       "\u001b[0;34m\u001b[0m\u001b[0;34m)\u001b[0m\u001b[0;34m\u001b[0m\u001b[0;34m\u001b[0m\u001b[0m\n",
       "\u001b[0;31mDocstring:\u001b[0m\n",
       "Execute electronic structure calculation by multiprocessing\n",
       "\n",
       "Args:\n",
       "    calculator (Calculator) : calculator for each geomtry\n",
       "    max_workers (Optional[int]) : maximum workers in multi-processing.\n",
       "             Defaults to None. If None, use cpu_count - 1.\n",
       "    timeout (float) : Timeout calculation in second. Defaults to 60.0\n",
       "    jobname (Optional[str]) : jobname\n",
       "    reset_calc (Optional[bool]) : set new calculator in any case.\n",
       "            Defaults to False.\n",
       "    judge_func (Optional[Callable[[Any],bool]]) : judge function whether re-calculation is needed. \n",
       "            Defaults to None.\n",
       "\u001b[0;31mFile:\u001b[0m      ~/GitHub/PyTDSCF/pytdscf/ase_handler.py\n",
       "\u001b[0;31mType:\u001b[0m      method"
      ]
     },
     "metadata": {},
     "output_type": "display_data"
    }
   ],
   "source": [
    "mesh.execute_multiproc?"
   ]
  },
  {
   "cell_type": "code",
   "execution_count": 10,
   "id": "b2be4aef-c54b-4949-ad27-dadfdf93ac19",
   "metadata": {
    "tags": []
   },
   "outputs": [],
   "source": [
    "calculator = ORCA(\n",
    "    profile=MyOrcaProfile,\n",
    "    directory=\"calc\",\n",
    "    task=\"force\",\n",
    "    orcasimpleinput=\"B3LYP def2-TZVP TIGHTSCF Engrad\",  # <- to calculate force, Engrad is required.\n",
    "    orcablocks=\"%scf maxiter 300 end \\n %pal nprocs 1 end\",\n",
    ")"
   ]
  },
  {
   "cell_type": "code",
   "execution_count": 11,
   "id": "f8b53c6a-571c-4257-8a94-8297b29cf367",
   "metadata": {
    "tags": []
   },
   "outputs": [
    {
     "name": "stderr",
     "output_type": "stream",
     "text": [
      "unique jobs : 577\n",
      "START : Electronic Structure Calculations\n",
      "Connected: H2CO_7grids.db\n"
     ]
    },
    {
     "name": "stdout",
     "output_type": "stream",
     "text": [
      "[████████████████████████████████████████] 777/777\n",
      "\n"
     ]
    },
    {
     "name": "stderr",
     "output_type": "stream",
     "text": [
      "WAIT  : Remaining future task\n",
      "DONE  : Electronic Structure Calculations\n",
      "Your calculation completely finished!\n",
      "DONE  : Shutdown process executor\n"
     ]
    }
   ],
   "source": [
    "_ = mesh.execute_multiproc(calculator, max_workers=7, timeout=300.0)"
   ]
  },
  {
   "cell_type": "markdown",
   "id": "7fb294c7-6997-4801-af24-4d3e4357fe71",
   "metadata": {},
   "source": [
    "## 9. Check Databse is exist."
   ]
  },
  {
   "cell_type": "code",
   "execution_count": 12,
   "id": "1de8104d-1723-47fd-b7e4-0d81d9a639ac",
   "metadata": {
    "tags": []
   },
   "outputs": [
    {
     "name": "stdout",
     "output_type": "stream",
     "text": [
      "H2CO_7grids.db\n"
     ]
    }
   ],
   "source": [
    "!ls *.db"
   ]
  }
 ],
 "metadata": {
  "kernelspec": {
   "display_name": "Python 3 (ipykernel)",
   "language": "python",
   "name": "python3"
  },
  "language_info": {
   "codemirror_mode": {
    "name": "ipython",
    "version": 3
   },
   "file_extension": ".py",
   "mimetype": "text/x-python",
   "name": "python",
   "nbconvert_exporter": "python",
   "pygments_lexer": "ipython3",
   "version": "3.12.2"
  }
 },
 "nbformat": 4,
 "nbformat_minor": 5
}
