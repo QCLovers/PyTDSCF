{
 "cells": [
  {
   "cell_type": "markdown",
   "id": "bcbc9641-d5d1-4f1c-a168-804cff801d8e",
   "metadata": {},
   "source": [
    "# Example 9 Grid-MPO dynamics(relaxation) in H2CO molecute"
   ]
  },
  {
   "cell_type": "markdown",
   "id": "21160da4-8e0a-40be-a1a5-ae369db2cc41",
   "metadata": {},
   "source": [
    "| run type      | wavefunction | backend | Basis  | steps |\n",
    "| ---           | ---          | ---     | ---    | ---   |\n",
    "| improved relaxation | MPS-SM | jax   | HO-DVR | 20    |"
   ]
  },
  {
   "cell_type": "markdown",
   "id": "d484ceaa-861c-4347-8cf0-52c3d5e6201b",
   "metadata": {},
   "source": [
    "## 1. Import modules"
   ]
  },
  {
   "cell_type": "code",
   "execution_count": 1,
   "id": "6460756f-ff3a-4c0f-a761-013f629aa161",
   "metadata": {
    "ExecuteTime": {
     "end_time": "2023-06-27T09:04:14.254326Z",
     "start_time": "2023-06-27T09:04:13.903041Z"
    }
   },
   "outputs": [],
   "source": [
    "import matplotlib.pyplot as plt\n",
    "import numpy as np\n",
    "import polars as pl\n",
    "from discvar import HarmonicOscillator\n",
    "\n",
    "from pytdscf import BasInfo, Model, Simulator\n",
    "from pytdscf.dvr_operator_cls import (\n",
    "    TensorOperator,\n",
    "    construct_kinetic_operator,\n",
    "    construct_nMR_recursive,\n",
    "    database_to_dataframe,\n",
    ")\n",
    "from pytdscf.hamiltonian_cls import TensorHamiltonian\n",
    "\n",
    "np.set_printoptions(precision=12)"
   ]
  },
  {
   "cell_type": "markdown",
   "id": "eb10b01d-3471-4800-952a-ffc6857fe942",
   "metadata": {},
   "source": [
    "## 2. Set DVR primitive basis"
   ]
  },
  {
   "cell_type": "markdown",
   "id": "83d3e0aa-ade3-4399-ad7a-0b4d5ef7456e",
   "metadata": {},
   "source": [
    "- MPS-SM wavefunction\n",
    "$$\n",
    "|\\Psi_{\\rm{MPS-SM}}\\rangle = \\sum_{\\mathbf \\{j\\}}\\sum_{\\mathbf \\{\\tau\\}}\n",
    "a\\substack{j_1 \\\\ 1\\tau_1}a\\substack{j_2 \\\\ \\tau_1\\tau_2} \\cdots a\\substack{j_f \\\\ \\tau_{f-1}1}\n",
    "|\\chi_{j_1}^{(1)}(q_1)\\rangle|\\chi_{j_2}^{(2)}(q_2)\\rangle\n",
    "\\cdots|\\chi_{j_f}^{(f)}(q_f)\\rangle\n",
    "$$\n",
    "\n",
    "Here, select $\\{\\chi_{j_p}^{(p)}(q_p)\\}$ as Harmonic Oscillator DVR-basis\n",
    "\n",
    "**NOTE**\n",
    "- DVR primitive basis must be consisitent with pre-calulated PES grids"
   ]
  },
  {
   "cell_type": "code",
   "execution_count": 2,
   "id": "30b4b23a-8cdb-49eb-a01e-0719361583cd",
   "metadata": {
    "ExecuteTime": {
     "end_time": "2023-06-27T09:04:14.262004Z",
     "start_time": "2023-06-27T09:04:14.260350Z"
    }
   },
   "outputs": [],
   "source": [
    "freqs = [1186.325, 1252.832, 1514.908, 1831.831, 2863.96, 2916.722]  # cm-1\n",
    "ngrids = [7, 7, 7, 7, 7, 7]  # 7^6 grids\n",
    "prim_info = [\n",
    "    [\n",
    "        HarmonicOscillator(ngrid, omega, units=\"cm1\")\n",
    "        for ngrid, omega in zip(ngrids, freqs, strict=False)\n",
    "    ]\n",
    "]  # number of state is 1 --> S0\n",
    "basinfo = BasInfo(prim_info)"
   ]
  },
  {
   "cell_type": "markdown",
   "id": "98a65e22-92d8-4732-84a8-e0231bb24560",
   "metadata": {},
   "source": [
    "## 3. Set Hamiltonian (MPO)"
   ]
  },
  {
   "cell_type": "markdown",
   "id": "af70e00d-0c9c-4a46-b764-c67e7fc2febf",
   "metadata": {},
   "source": [
    "Here, one uses pre-calculated 2-Mode Representation PES and DMS database"
   ]
  },
  {
   "cell_type": "markdown",
   "id": "cbc78b09-e05a-41ea-95eb-28c52864866e",
   "metadata": {
    "tags": []
   },
   "source": [
    "### 3-1 Read from the Database and merge into one MPO\n",
    "It takes a few minutes...\n",
    "If one compresses MPO by SVD, assign contribution rate under 1.0, (e.g., `rate=0.999999`)\n",
    "\n",
    "Not only n-Mode Representation MPO, but also full-dimensional MPO is supported. Use\n",
    "- `pytdscf.dvr_operator_cls.construct_fulldimensional`\n",
    "\n",
    "If one use not a Database but a given analytical function, one can use\n",
    "- `pytdscf.dvr_operator_cls.PotentialFunction`\n",
    "\n",
    "and\n",
    "- `func` option\n"
   ]
  },
  {
   "cell_type": "code",
   "execution_count": 3,
   "id": "fdad9f59-4ce1-47ed-8600-1652d55ff02c",
   "metadata": {
    "ExecuteTime": {
     "end_time": "2023-06-27T09:04:14.330296Z",
     "start_time": "2023-06-27T09:04:14.262546Z"
    },
    "scrolled": true,
    "tags": []
   },
   "outputs": [
    {
     "data": {
      "text/html": [
       "<div><style>\n",
       ".dataframe > thead > tr,\n",
       ".dataframe > tbody > tr {\n",
       "  text-align: right;\n",
       "  white-space: pre-wrap;\n",
       "}\n",
       "</style>\n",
       "<small>shape: (777, 9)</small><table border=\"1\" class=\"dataframe\"><thead><tr><th>id</th><th>grids</th><th>grids_db</th><th>dofs</th><th>dofs_db</th><th>nMR</th><th>energy</th><th>dipole</th><th>distance</th></tr><tr><td>i64</td><td>list[i64]</td><td>str</td><td>list[i64]</td><td>str</td><td>i64</td><td>f64</td><td>list[f64]</td><td>i64</td></tr></thead><tbody><tr><td>1</td><td>[0, 3, … 3]</td><td>&quot;|0 3 3 3 3 3&quot;</td><td>[0]</td><td>&quot;|0&quot;</td><td>1</td><td>-114.474833</td><td>[0.125334, -0.000254, -2.149885]</td><td>3</td></tr><tr><td>2</td><td>[1, 3, … 3]</td><td>&quot;|1 3 3 3 3 3&quot;</td><td>[0]</td><td>&quot;|0&quot;</td><td>1</td><td>-114.487242</td><td>[0.078286, -0.000127, -2.255444]</td><td>2</td></tr><tr><td>3</td><td>[2, 3, … 3]</td><td>&quot;|2 3 3 3 3 3&quot;</td><td>[0]</td><td>&quot;|0&quot;</td><td>1</td><td>-114.493254</td><td>[0.037847, -0.000051, -2.309838]</td><td>1</td></tr><tr><td>4</td><td>[3, 3, … 3]</td><td>&quot;|3 3 3 3 3 3&quot;</td><td>[0]</td><td>&quot;|0&quot;</td><td>0</td><td>-114.495088</td><td>[0.0, 0.0, -2.326893]</td><td>0</td></tr><tr><td>5</td><td>[4, 3, … 3]</td><td>&quot;|4 3 3 3 3 3&quot;</td><td>[0]</td><td>&quot;|0&quot;</td><td>1</td><td>-114.493254</td><td>[-0.037847, 0.000025, -2.309838]</td><td>1</td></tr><tr><td>&hellip;</td><td>&hellip;</td><td>&hellip;</td><td>&hellip;</td><td>&hellip;</td><td>&hellip;</td><td>&hellip;</td><td>&hellip;</td><td>&hellip;</td></tr><tr><td>773</td><td>[3, 3, … 2]</td><td>&quot;|3 3 3 3 6 2&quot;</td><td>[4, 5]</td><td>&quot;|4 5&quot;</td><td>2</td><td>-114.408589</td><td>[0.0, 0.072999, -2.61139]</td><td>4</td></tr><tr><td>774</td><td>[3, 3, … 3]</td><td>&quot;|3 3 3 3 6 3&quot;</td><td>[4, 5]</td><td>&quot;|4 5&quot;</td><td>1</td><td>-114.423631</td><td>[-0.0, 0.000153, -2.626234]</td><td>3</td></tr><tr><td>775</td><td>[3, 3, … 4]</td><td>&quot;|3 3 3 3 6 4&quot;</td><td>[4, 5]</td><td>&quot;|4 5&quot;</td><td>2</td><td>-114.408639</td><td>[-0.0, -0.072669, -2.611594]</td><td>4</td></tr><tr><td>776</td><td>[3, 3, … 5]</td><td>&quot;|3 3 3 3 6 5&quot;</td><td>[4, 5]</td><td>&quot;|4 5&quot;</td><td>2</td><td>-114.358191</td><td>[-0.0, -0.146684, -2.56508]</td><td>5</td></tr><tr><td>777</td><td>[3, 3, … 6]</td><td>&quot;|3 3 3 3 6 6&quot;</td><td>[4, 5]</td><td>&quot;|4 5&quot;</td><td>2</td><td>-114.246851</td><td>[0.0, -0.224919, -2.474949]</td><td>6</td></tr></tbody></table></div>"
      ],
      "text/plain": [
       "shape: (777, 9)\n",
       "┌─────┬─────────────┬──────────────┬───────────┬───┬─────┬─────────────┬─────────────┬──────────┐\n",
       "│ id  ┆ grids       ┆ grids_db     ┆ dofs      ┆ … ┆ nMR ┆ energy      ┆ dipole      ┆ distance │\n",
       "│ --- ┆ ---         ┆ ---          ┆ ---       ┆   ┆ --- ┆ ---         ┆ ---         ┆ ---      │\n",
       "│ i64 ┆ list[i64]   ┆ str          ┆ list[i64] ┆   ┆ i64 ┆ f64         ┆ list[f64]   ┆ i64      │\n",
       "╞═════╪═════════════╪══════════════╪═══════════╪═══╪═════╪═════════════╪═════════════╪══════════╡\n",
       "│ 1   ┆ [0, 3, … 3] ┆ |0 3 3 3 3 3 ┆ [0]       ┆ … ┆ 1   ┆ -114.474833 ┆ [0.125334,  ┆ 3        │\n",
       "│     ┆             ┆              ┆           ┆   ┆     ┆             ┆ -0.000254,  ┆          │\n",
       "│     ┆             ┆              ┆           ┆   ┆     ┆             ┆ -2.14988…   ┆          │\n",
       "│ 2   ┆ [1, 3, … 3] ┆ |1 3 3 3 3 3 ┆ [0]       ┆ … ┆ 1   ┆ -114.487242 ┆ [0.078286,  ┆ 2        │\n",
       "│     ┆             ┆              ┆           ┆   ┆     ┆             ┆ -0.000127,  ┆          │\n",
       "│     ┆             ┆              ┆           ┆   ┆     ┆             ┆ -2.25544…   ┆          │\n",
       "│ 3   ┆ [2, 3, … 3] ┆ |2 3 3 3 3 3 ┆ [0]       ┆ … ┆ 1   ┆ -114.493254 ┆ [0.037847,  ┆ 1        │\n",
       "│     ┆             ┆              ┆           ┆   ┆     ┆             ┆ -0.000051,  ┆          │\n",
       "│     ┆             ┆              ┆           ┆   ┆     ┆             ┆ -2.30983…   ┆          │\n",
       "│ 4   ┆ [3, 3, … 3] ┆ |3 3 3 3 3 3 ┆ [0]       ┆ … ┆ 0   ┆ -114.495088 ┆ [0.0, 0.0,  ┆ 0        │\n",
       "│     ┆             ┆              ┆           ┆   ┆     ┆             ┆ -2.326893]  ┆          │\n",
       "│ 5   ┆ [4, 3, … 3] ┆ |4 3 3 3 3 3 ┆ [0]       ┆ … ┆ 1   ┆ -114.493254 ┆ [-0.037847, ┆ 1        │\n",
       "│     ┆             ┆              ┆           ┆   ┆     ┆             ┆ 0.000025,   ┆          │\n",
       "│     ┆             ┆              ┆           ┆   ┆     ┆             ┆ -2.30983…   ┆          │\n",
       "│ …   ┆ …           ┆ …            ┆ …         ┆ … ┆ …   ┆ …           ┆ …           ┆ …        │\n",
       "│ 773 ┆ [3, 3, … 2] ┆ |3 3 3 3 6 2 ┆ [4, 5]    ┆ … ┆ 2   ┆ -114.408589 ┆ [0.0,       ┆ 4        │\n",
       "│     ┆             ┆              ┆           ┆   ┆     ┆             ┆ 0.072999,   ┆          │\n",
       "│     ┆             ┆              ┆           ┆   ┆     ┆             ┆ -2.61139]   ┆          │\n",
       "│ 774 ┆ [3, 3, … 3] ┆ |3 3 3 3 6 3 ┆ [4, 5]    ┆ … ┆ 1   ┆ -114.423631 ┆ [-0.0,      ┆ 3        │\n",
       "│     ┆             ┆              ┆           ┆   ┆     ┆             ┆ 0.000153,   ┆          │\n",
       "│     ┆             ┆              ┆           ┆   ┆     ┆             ┆ -2.626234]  ┆          │\n",
       "│ 775 ┆ [3, 3, … 4] ┆ |3 3 3 3 6 4 ┆ [4, 5]    ┆ … ┆ 2   ┆ -114.408639 ┆ [-0.0,      ┆ 4        │\n",
       "│     ┆             ┆              ┆           ┆   ┆     ┆             ┆ -0.072669,  ┆          │\n",
       "│     ┆             ┆              ┆           ┆   ┆     ┆             ┆ -2.611594]  ┆          │\n",
       "│ 776 ┆ [3, 3, … 5] ┆ |3 3 3 3 6 5 ┆ [4, 5]    ┆ … ┆ 2   ┆ -114.358191 ┆ [-0.0,      ┆ 5        │\n",
       "│     ┆             ┆              ┆           ┆   ┆     ┆             ┆ -0.146684,  ┆          │\n",
       "│     ┆             ┆              ┆           ┆   ┆     ┆             ┆ -2.56508]   ┆          │\n",
       "│ 777 ┆ [3, 3, … 6] ┆ |3 3 3 3 6 6 ┆ [4, 5]    ┆ … ┆ 2   ┆ -114.246851 ┆ [0.0,       ┆ 6        │\n",
       "│     ┆             ┆              ┆           ┆   ┆     ┆             ┆ -0.224919,  ┆          │\n",
       "│     ┆             ┆              ┆           ┆   ┆     ┆             ┆ -2.474949]  ┆          │\n",
       "└─────┴─────────────┴──────────────┴───────────┴───┴─────┴─────────────┴─────────────┴──────────┘"
      ]
     },
     "execution_count": 3,
     "metadata": {},
     "output_type": "execute_result"
    }
   ],
   "source": [
    "database = \"H2CO_7grids.db\"  # This must be prepared in advance\n",
    "df = database_to_dataframe(database, reference_grids=[3, 3, 3, 3, 3, 3])\n",
    "df"
   ]
  },
  {
   "cell_type": "code",
   "execution_count": 4,
   "id": "a6f05daf",
   "metadata": {
    "ExecuteTime": {
     "end_time": "2023-06-27T09:04:14.459902Z",
     "start_time": "2023-06-27T09:04:14.332533Z"
    },
    "collapsed": false,
    "jupyter": {
     "outputs_hidden": false
    }
   },
   "outputs": [
    {
     "data": {
      "image/png": "[encoded data removed]",
      "text/plain": [
       "<Figure size 640x480 with 2 Axes>"
      ]
     },
     "metadata": {},
     "output_type": "display_data"
    }
   ],
   "source": [
    "q6, q1 = np.meshgrid(prim_info[0][5].get_grids(), prim_info[0][0].get_grids())\n",
    "energy = (\n",
    "    df.filter(pl.col(\"dofs_db\") == \"|0 5\").sort(\"grids_db\")[\"energy\"].to_numpy()\n",
    ")\n",
    "plt.contourf(q1, q6, energy.reshape(7, 7))\n",
    "plt.colorbar(label=\"energy / eV\")\n",
    "plt.xlabel(\"q1 / mass-weighted distance [a.u.]\")\n",
    "plt.ylabel(\"q6 / mass-weighted distance [a.u.]\")\n",
    "plt.title(\"Potential energy surface of H2CO in (q1, q6) plane\")\n",
    "plt.axis(\"equal\")\n",
    "plt.show()"
   ]
  },
  {
   "cell_type": "markdown",
   "id": "0831a9bc-533f-4f5c-9299-f9a87ad9898a",
   "metadata": {},
   "source": [
    "**Check MPO on $J=(j_1, j_2, \\ldots, j_f)$ index**"
   ]
  },
  {
   "cell_type": "code",
   "execution_count": 5,
   "id": "583e9dea-f8f3-4e30-8893-03a300e0ca6a",
   "metadata": {
    "ExecuteTime": {
     "end_time": "2023-06-27T09:04:15.150585Z",
     "start_time": "2023-06-27T09:04:14.460821Z"
    }
   },
   "outputs": [
    {
     "name": "stdout",
     "output_type": "stream",
     "text": [
      "[[1.307280831011e-08]]\n"
     ]
    }
   ],
   "source": [
    "mpo = construct_nMR_recursive(prim_info[0], nMR=2, df=df, rate=0.99999999)\n",
    "dum = None\n",
    "J = [3, 3, 3, 3, 3, 3]\n",
    "for j, core in zip(J, mpo, strict=False):\n",
    "    if dum is None:\n",
    "        dum = core[:, j, :]\n",
    "    else:\n",
    "        dum = np.einsum(\"ij,jk->ik\", dum, core[:, j, :])\n",
    "print(dum)  # Better to be 0.0"
   ]
  },
  {
   "cell_type": "markdown",
   "id": "23f74816-00cc-4eee-a6ca-a879c418127b",
   "metadata": {},
   "source": [
    "### 3-2 Build kinetic term"
   ]
  },
  {
   "cell_type": "code",
   "execution_count": 6,
   "id": "dd578121-fe7b-4d10-9932-4739b946a502",
   "metadata": {
    "ExecuteTime": {
     "end_time": "2023-06-27T09:04:15.163032Z",
     "start_time": "2023-06-27T09:04:15.151340Z"
    }
   },
   "outputs": [],
   "source": [
    "kinetic = [[construct_kinetic_operator(dvr_prims=prim_info[0])]]"
   ]
  },
  {
   "cell_type": "markdown",
   "id": "76178834-6b0f-4be1-a54d-bf953e236a24",
   "metadata": {
    "tags": []
   },
   "source": [
    "### 3-3 Set all operators"
   ]
  },
  {
   "cell_type": "code",
   "execution_count": 7,
   "id": "01610f39-3c97-4182-bf0a-01f11d26802f",
   "metadata": {
    "ExecuteTime": {
     "end_time": "2023-06-27T09:04:15.186573Z",
     "start_time": "2023-06-27T09:04:15.163835Z"
    }
   },
   "outputs": [],
   "source": [
    "ndof = len(ngrids)\n",
    "potential = [[{tuple([k for k in range(ndof)]): TensorOperator(mpo=mpo)}]]\n",
    "hamiltonian = TensorHamiltonian(ndof, potential, kinetic=kinetic, backend=\"jax\")\n",
    "operators = {\"hamiltonian\": hamiltonian}"
   ]
  },
  {
   "cell_type": "markdown",
   "id": "2b82c15c-62d4-474e-964b-49637a6dcd9c",
   "metadata": {
    "tags": []
   },
   "source": [
    "## 4. Set wave function (MPS) and All Model\n",
    "\n",
    "- `m_aux_max` is the MPS bond dimension (maximum of auxiliary index $\\tau_p$)\n",
    "- `init_weight_ESTATE` is the initial electronic state weight. In this case, one is considering a single estate, thus this is ignored.\n",
    "- `init_weight_VIB_GS` is the initial vibrational ground state weight. `1.0` means the MPS of GS grid-pair which denotes the bottom of the potential energy surface is 1.0 and other terms are 0.0.\n",
    "\n"
   ]
  },
  {
   "cell_type": "code",
   "execution_count": 8,
   "id": "79beeb3a-565e-4d80-bdb3-cc79a821f6f3",
   "metadata": {
    "ExecuteTime": {
     "end_time": "2023-06-27T09:04:15.191943Z",
     "start_time": "2023-06-27T09:04:15.189516Z"
    }
   },
   "outputs": [],
   "source": [
    "model = Model(basinfo, operators)\n",
    "nstate = 1\n",
    "model.m_aux_max = 10\n",
    "model.init_weight_VIB_GS = 1.0"
   ]
  },
  {
   "cell_type": "markdown",
   "id": "cb495b77-ca3f-4771-bae6-1a4d6dc1b503",
   "metadata": {},
   "source": [
    "## 5. Execute Calculation\n",
    "\n",
    "- time step width is defined by `stepsize`=0.1 fs"
   ]
  },
  {
   "cell_type": "markdown",
   "id": "d06941d9-23d2-40af-a92b-6afbc9fecedf",
   "metadata": {},
   "source": [
    "F.Y.I., See also [documentation](https://qclovers.github.io/PyTDSCF/pytdscf.html#pytdscf.const_cls.Const.set_runtype)\n",
    "\n",
    "\n",
    "**NOTE**\n",
    "- Runtype cannnot rebind. If you want to change runtype, you should restart kernel."
   ]
  },
  {
   "cell_type": "code",
   "execution_count": 9,
   "id": "fabba1c2-8b8a-4adc-a784-73d310737842",
   "metadata": {
    "ExecuteTime": {
     "end_time": "2023-06-27T09:04:28.484398Z",
     "start_time": "2023-06-27T09:04:15.193554Z"
    }
   },
   "outputs": [
    {
     "name": "stderr",
     "output_type": "stream",
     "text": [
      "2024-10-26 20:21:51,163 - INFO:main.pytdscf._const_cls - \u001b[1m\u001b[35m\n",
      "     ____     __________   .____ ____   _____\n",
      "    / _  |   /__  __/ _ \\ / ___ / _  \\ / ___/\n",
      "   / /_) /_  __/ / / / ||/ /__ / / )_// /__\n",
      "  /  ___/ / / / / / / / |.__  / |  __/ ___/\n",
      " /  /  / /_/ / / / /_/ /___/ /| \\_/ / /\n",
      "/__/   \\__, /_/ /_____/_____/ \\____/_/\n",
      "      /____/\n",
      "\u001b[0m\n",
      "2024-10-26 20:21:51,164 - INFO:main.pytdscf._const_cls - Log file is ./h2co_7_grids_10m_relax/main.log\n",
      "2024-10-26 20:21:51,164 - INFO:main.pytdscf.simulator_cls - Set integral of DVR basis\n",
      "2024-10-26 20:21:51,167 - INFO:main.pytdscf.simulator_cls - Set initial wave function (DVR basis)\n",
      "2024-10-26 20:21:51,167 - INFO:main.pytdscf.simulator_cls - Prepare MPS w.f.\n",
      "2024-10-26 20:21:51,168 - INFO:main.pytdscf._mps_cls - Initial MPS: 0-state with weights 1.0\n",
      "2024-10-26 20:21:51,168 - INFO:main.pytdscf._mps_cls - Initial MPS: 0-state 0-mode with weight [1. 0. 0. 0. 0. 0. 0.]\n",
      "2024-10-26 20:21:51,168 - INFO:main.pytdscf._mps_cls - Initial MPS: 0-state 1-mode with weight [1. 0. 0. 0. 0. 0. 0.]\n",
      "2024-10-26 20:21:51,168 - INFO:main.pytdscf._mps_cls - Initial MPS: 0-state 2-mode with weight [1. 0. 0. 0. 0. 0. 0.]\n",
      "2024-10-26 20:21:51,169 - INFO:main.pytdscf._mps_cls - Initial MPS: 0-state 3-mode with weight [1. 0. 0. 0. 0. 0. 0.]\n",
      "2024-10-26 20:21:51,169 - INFO:main.pytdscf._mps_cls - Initial MPS: 0-state 4-mode with weight [1. 0. 0. 0. 0. 0. 0.]\n",
      "2024-10-26 20:21:51,169 - INFO:main.pytdscf._mps_cls - Initial MPS: 0-state 5-mode with weight [1. 0. 0. 0. 0. 0. 0.]\n",
      "2024-10-26 20:21:51,437 - INFO:main.pytdscf.simulator_cls - Wave function is saved in wf_h2co_7_grids_10m_gs.pkl\n",
      "2024-10-26 20:21:51,438 - INFO:main.pytdscf.simulator_cls - Start initial step    0.000 [fs]\n",
      "2024-10-26 20:21:52,615 - INFO:main.pytdscf.simulator_cls - End     0 step; propagated    0.100 [fs]; AVG Krylov iteration: 19.00\n",
      "2024-10-26 20:21:53,165 - INFO:main.pytdscf.simulator_cls - Saved wavefunction    0.900 [fs]\n",
      "2024-10-26 20:21:53,237 - INFO:main.pytdscf.simulator_cls - End     9 step; propagated    0.900 [fs]; AVG Krylov iteration: 6.08\n",
      "2024-10-26 20:21:53,238 - INFO:main.pytdscf.simulator_cls - End simulation and save wavefunction\n",
      "2024-10-26 20:21:53,242 - INFO:main.pytdscf.simulator_cls - Wave function is saved in wf_h2co_7_grids_10m_gs.pkl\n"
     ]
    },
    {
     "data": {
      "text/plain": [
       "(0.026051624508132566, <pytdscf.wavefunction.WFunc at 0x11cbf41a0>)"
      ]
     },
     "execution_count": 9,
     "metadata": {},
     "output_type": "execute_result"
    }
   ],
   "source": [
    "jobname = f\"h2co_7_grids_{model.m_aux_max}m\"\n",
    "simulator = Simulator(jobname, model, ci_type=\"MPS\", backend=\"jax\", verbose=4)\n",
    "simulator.relax(maxstep=10, stepsize=0.1)"
   ]
  },
  {
   "cell_type": "markdown",
   "id": "aee22b8b-88ad-469b-bb18-bf9b979386a8",
   "metadata": {},
   "source": [
    "## 6. Check Log file\n",
    "See f`{jobname}_relax/main.log`, which is defined by constructer of `Simulator`"
   ]
  },
  {
   "cell_type": "code",
   "execution_count": 10,
   "id": "3024ea78-6f16-402f-9773-68595ab0eeba",
   "metadata": {
    "ExecuteTime": {
     "end_time": "2023-06-27T09:04:28.618278Z",
     "start_time": "2023-06-27T09:04:28.484968Z"
    }
   },
   "outputs": [
    {
     "name": "stdout",
     "output_type": "stream",
     "text": [
      "| pop 1.0000 | ene[eV]:  0.7089008 | time[fs]:    0.400 | elapsed[sec]:     1.00 | ci:  1.0  (ci_exp:  0.8|ci_rnm:  0.2|ci_etc:  0.0 d) |    0 MFLOPS (  0.0 s) \n",
      "| pop 1.0000 | ene[eV]:  0.7089008 | time[fs]:    0.500 | elapsed[sec]:     1.04 | ci:  1.0  (ci_exp:  0.8|ci_rnm:  0.2|ci_etc:  0.0 d) |    0 MFLOPS (  0.0 s) \n",
      "| pop 1.0000 | ene[eV]:  0.7089008 | time[fs]:    0.600 | elapsed[sec]:     1.08 | ci:  1.1  (ci_exp:  0.8|ci_rnm:  0.2|ci_etc:  0.0 d) |    0 MFLOPS (  0.0 s) \n",
      "| pop 1.0000 | ene[eV]:  0.7089008 | time[fs]:    0.700 | elapsed[sec]:     1.12 | ci:  1.1  (ci_exp:  0.9|ci_rnm:  0.2|ci_etc:  0.0 d) |    0 MFLOPS (  0.0 s) \n",
      "| pop 1.0000 | ene[eV]:  0.7089008 | time[fs]:    0.800 | elapsed[sec]:     1.16 | ci:  1.2  (ci_exp:  0.9|ci_rnm:  0.2|ci_etc:  0.0 d) |    0 MFLOPS (  0.0 s) \n",
      "Saved wavefunction    0.900 [fs]\n",
      "| pop 1.0000 | ene[eV]:  0.7089008 | time[fs]:    0.900 | elapsed[sec]:     1.19 | ci:  1.2  (ci_exp:  0.9|ci_rnm:  0.2|ci_etc:  0.0 d) |    0 MFLOPS (  0.0 s) \n",
      "End     9 step; propagated    0.900 [fs]; AVG Krylov iteration: 6.08\n",
      "End simulation and save wavefunction\n",
      "Wave function is saved in wf_h2co_7_grids_10m_gs.pkl\n"
     ]
    },
    {
     "name": "stderr",
     "output_type": "stream",
     "text": [
      "/opt/homebrew/Cellar/python@3.12/3.12.2_1/Frameworks/Python.framework/Versions/3.12/lib/python3.12/pty.py:95: RuntimeWarning: os.fork() was called. os.fork() is incompatible with multithreaded code, and JAX is multithreaded, so this will likely lead to a deadlock.\n",
      "  pid, fd = os.forkpty()\n"
     ]
    }
   ],
   "source": [
    "!tail h2co_7_grids_10m_relax/main.log"
   ]
  },
  {
   "cell_type": "markdown",
   "id": "59d4be73-d572-472e-bded-9574d5ceb917",
   "metadata": {},
   "source": [
    "ZPE is found to be `0.7089008` eV!"
   ]
  }
 ],
 "metadata": {
  "kernelspec": {
   "display_name": "Python 3 (ipykernel)",
   "language": "python",
   "name": "python3"
  },
  "language_info": {
   "codemirror_mode": {
    "name": "ipython",
    "version": 3
   },
   "file_extension": ".py",
   "mimetype": "text/x-python",
   "name": "python",
   "nbconvert_exporter": "python",
   "pygments_lexer": "ipython3",
   "version": "3.13.0"
  }
 },
 "nbformat": 4,
 "nbformat_minor": 5
}
