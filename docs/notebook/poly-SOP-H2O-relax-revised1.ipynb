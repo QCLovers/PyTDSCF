{
 "cells": [
  {
   "cell_type": "markdown",
   "id": "bcbc9641-d5d1-4f1c-a168-804cff801d8e",
   "metadata": {},
   "source": [
    "# Example 1: Relaxation of H2O vibrational state under polynomial PES"
   ]
  },
  {
   "cell_type": "markdown",
   "id": "5dc1ef88-3e14-4b09-9568-f7054e64ffa8",
   "metadata": {},
   "source": [
    "| run type      | wavefunction | backend | Basis  | steps |\n",
    "| ---           | ---          | ---     | ---    | ---   |\n",
    "| improved relaxation | MPS-SM | Numpy   | HO-DVR | 20    |"
   ]
  },
  {
   "cell_type": "markdown",
   "id": "8f6cb8fc-68b4-4678-80fd-074826fb0668",
   "metadata": {},
   "source": [
    "<img src=\"../pic/h2o.png\" alt=\"h2o\" width=\"200\">"
   ]
  },
  {
   "cell_type": "markdown",
   "id": "d484ceaa-861c-4347-8cf0-52c3d5e6201b",
   "metadata": {},
   "source": [
    "## 1. Import modules"
   ]
  },
  {
   "cell_type": "markdown",
   "id": "0b50fd02-cf7c-42b5-a02d-ca3450ebf70e",
   "metadata": {},
   "source": [
    "- Required in **any** calculations"
   ]
  },
  {
   "cell_type": "code",
   "execution_count": 1,
   "id": "6460756f-ff3a-4c0f-a761-013f629aa161",
   "metadata": {
    "ExecuteTime": {
     "end_time": "2023-06-27T09:40:32.889813Z",
     "start_time": "2023-06-27T09:40:29.582879Z"
    }
   },
   "outputs": [],
   "source": [
    "from pytdscf import BasInfo, Model, Simulator"
   ]
  },
  {
   "cell_type": "markdown",
   "id": "eb10b01d-3471-4800-952a-ffc6857fe942",
   "metadata": {},
   "source": [
    "## 2. Set primitive basis as HO-DVR\n",
    "- FBR = Analytical integral of orthonormal basis\n",
    "- DVR = Numerical integral of Localized orthonormal basis\n",
    "\n",
    "|     | implemented | Supported operator | Supported backend |\n",
    "| --- | ---         | ---                | --- |\n",
    "| FBR | HO          | polynomial of Q and P (sum of product; SOP) | Numpy (recommended), JAX|\n",
    "| DVR | HO, Sine    | arbitrary function (matrix product operator; MPO) | Numpy, JAX|"
   ]
  },
  {
   "cell_type": "code",
   "execution_count": 2,
   "id": "4f8c1ad1-9b22-4e3a-9f48-8d8ecf847a53",
   "metadata": {
    "ExecuteTime": {
     "end_time": "2023-06-27T09:40:32.898778Z",
     "start_time": "2023-06-27T09:40:32.894127Z"
    },
    "collapsed": false,
    "jupyter": {
     "outputs_hidden": false
    }
   },
   "outputs": [
    {
     "data": {
      "text/plain": [
       "[0.007556564680635903, 0.017105918773130724, 0.017567584215986715]"
      ]
     },
     "execution_count": 2,
     "metadata": {},
     "output_type": "execute_result"
    }
   ],
   "source": [
    "from math import sqrt\n",
    "\n",
    "from discvar import HarmonicOscillator\n",
    "\n",
    "from pytdscf import units\n",
    "from pytdscf.potentials.h2o_potential import k_orig\n",
    "from pytdscf.dvr_operator_cls import TensorOperator\n",
    "from pytdscf.hamiltonian_cls import TensorHamiltonian\n",
    "\n",
    "import numpy as np\n",
    "import sympy\n",
    "from pympo import AssignManager, OpSite, SumOfProducts\n",
    "\n",
    "backend = \"numpy\"\n",
    "\n",
    "freqs = [\n",
    "    sqrt(k_orig[(1, 1)]),\n",
    "    sqrt(k_orig[(2, 2)]),\n",
    "    sqrt(k_orig[(3, 3)]),\n",
    "] # a.u.\n",
    "freqs"
   ]
  },
  {
   "cell_type": "code",
   "execution_count": 3,
   "id": "dbefa37c-9062-4436-bf2a-2fdfdd1f95d5",
   "metadata": {
    "ExecuteTime": {
     "end_time": "2023-06-27T09:40:32.898778Z",
     "start_time": "2023-06-27T09:40:32.894127Z"
    },
    "collapsed": false,
    "jupyter": {
     "outputs_hidden": false
    }
   },
   "outputs": [
    {
     "name": "stdout",
     "output_type": "stream",
     "text": [
      "<pytdscf.model_cls.BasInfo object at 0x1101d4590>\n"
     ]
    }
   ],
   "source": [
    "nprims = [9, 9, 9]  # Number of primitive basis\n",
    "\n",
    "basis = [\n",
    "    HarmonicOscillator(nprim, omega, units=\"a.u.\")\n",
    "    for nprim, omega in zip(nprims, freqs, strict=False)\n",
    "]\n",
    "ndim = len(basis)  # Number of degree of freedom, H2O has 3 DOFs\n",
    "basinfo = BasInfo([basis])  # Set basis information object\n",
    "\n",
    "print(basinfo)"
   ]
  },
  {
   "cell_type": "markdown",
   "id": "83d3e0aa-ade3-4399-ad7a-0b4d5ef7456e",
   "metadata": {},
   "source": [
    "**MPS-MCTDH wavefunction**\n",
    "$$\n",
    "|\\Psi_{\\rm{MPS-MCTDH}}\\rangle = \\sum_{\\mathbf \\{j\\}}\\sum_{\\mathbf \\{\\tau\\}}\n",
    "a\\substack{j_1 \\\\ 1\\tau_1}a\\substack{j_2 \\\\ \\tau_1\\tau_2} \\cdots a\\substack{j_f \\\\ \\tau_{f-1}1}\n",
    "|\\varphi_{j_1}^{(1)}(q_1)\\rangle|\\varphi_{j_2}^{(2)}(q_2)\\rangle\n",
    "\\cdots|\\varphi_{j_f}^{(f)}(q_f)\\rangle\n",
    "$$\n",
    "where SPF is \n",
    "$$\n",
    "\\varphi_{j_p}^{(p)}(q_p) = \\sum_{i_p=1}^{n_p} c_{i_p}^{j_p}\\chi_{i_p}^{(p)}(q_p) \\; (j_p = 1,2,\\ldots, N_p)\n",
    "$$\n",
    "\n",
    "Here, select $\\{\\chi_{i_p}^{(p)}(q_p)\\}$ as Harmonic Oscillator eigenfunction.\n",
    "See detail in [documenation](https://qclovers.github.io/PyTDSCF/pytdscf.html#pytdscf.primints_cls.PrimBas_HO).\n",
    "Here one defines $n_p$ = 9, $N_p$ = 9. (i.e., Standard Method)\n",
    "\n",
    "**NOTE**\n",
    "\n",
    "- In MPS,  $n = N$ (SM) is usually better than $n < M$ (MCTDH).  Only when using a laptop computer, MCTDH sometimes works better. (because the required RAM in MCTDH is smaller than SM.)"
   ]
  },
  {
   "cell_type": "markdown",
   "id": "98a65e22-92d8-4732-84a8-e0231bb24560",
   "metadata": {},
   "source": [
    "## 3. Set Hamiltonian (Polynomial Function)"
   ]
  },
  {
   "cell_type": "markdown",
   "id": "af70e00d-0c9c-4a46-b764-c67e7fc2febf",
   "metadata": {},
   "source": [
    "- Here, one uses pre-calculated Polyonimal PES.\n",
    "- `k_orig` is the coefficients of Taylor expansion of PES in reference geometry by mass-weighted coordinate $Q_i$ (The unit of coordinate is **NOT AMU** but $\\sqrt{m_e}a_0$, i.e. atomic units)\n",
    "$$ V - V_0 = \\frac{k_{11}}{2!} Q_1^2 + \\frac{k_{22}}{2!} Q_2^2 + \\frac{k_{33}}{2!} Q_3^2 + \\frac{k_{111}}{3!} Q_1^3 + \\frac{k_{122}}{2!} Q_1Q_2^2 + \\cdots $$"
   ]
  },
  {
   "cell_type": "code",
   "execution_count": 4,
   "id": "55ba2249-7e19-4d83-9b08-1a405195fab3",
   "metadata": {},
   "outputs": [
    {
     "data": {
      "text/plain": [
       "defaultdict(float,\n",
       "            {(1, 1): 5.7101669772633975e-05,\n",
       "             (2, 2): 0.00029261245707294615,\n",
       "             (3, 3): 0.0003086200151857856,\n",
       "             (1, 1, 1): -8.973542624563865e-07,\n",
       "             (2, 2, 2): -1.8571147341445975e-05,\n",
       "             (1, 2, 2): 5.028987089424822e-07,\n",
       "             (1, 1, 2): 1.2870557913839666e-06,\n",
       "             (1, 3, 3): 2.0063268625796784e-06,\n",
       "             (2, 3, 3): -1.8853947560756764e-05,\n",
       "             (1, 1, 1, 1): -2.2778131948543168e-08,\n",
       "             (2, 2, 2, 2): 1.042951948572713e-06,\n",
       "             (3, 3, 3, 3): 1.1133748664915738e-06,\n",
       "             (1, 2, 2, 2): -8.193988329963448e-08,\n",
       "             (1, 1, 2, 2): -1.852073688081903e-07,\n",
       "             (1, 1, 1, 2): 5.750959195886642e-08,\n",
       "             (1, 1, 3, 3): -2.1211138514059556e-07,\n",
       "             (2, 2, 3, 3): 1.0721581542221527e-06,\n",
       "             (1, 2, 3, 3): -1.256574051408931e-07})"
      ]
     },
     "execution_count": 4,
     "metadata": {},
     "output_type": "execute_result"
    }
   ],
   "source": [
    "k_orig"
   ]
  },
  {
   "cell_type": "markdown",
   "id": "fe420beb-e3cc-4fb4-b6df-685b404d3607",
   "metadata": {},
   "source": [
    "### Setup one particle operator"
   ]
  },
  {
   "cell_type": "code",
   "execution_count": 5,
   "id": "b7bd38b7-13c0-48d4-ade1-43328a469d46",
   "metadata": {},
   "outputs": [],
   "source": [
    "q1_list = [np.array(basis_i.get_grids()) for basis_i in basis]\n",
    "q2_list = [q1_int**2 for q1_int in q1_list]\n",
    "q3_list = [q1_int**3 for q1_int in q1_list]\n",
    "q4_list = [q1_int**4 for q1_int in q1_list]\n",
    "q0_list = [q1_int**0 for q1_int in q1_list]\n",
    "p2_list = [basis_i.get_2nd_derivative_matrix_dvr() for basis_i in basis]\n",
    "\n",
    "p2_ops = [OpSite(f\"p^2_{i+1}\", i, value=p2_list[i]) for i in range(0, ndim)]\n",
    "q4_ops = [OpSite(f\"q^4_{i+1}\", i, value=q4_list[i]) for i in range(0, ndim)]\n",
    "q3_ops = [OpSite(f\"q^3_{i+1}\", i, value=q3_list[i]) for i in range(0, ndim)]\n",
    "q2_ops = [OpSite(f\"q^2_{i+1}\", i, value=q2_list[i]) for i in range(0, ndim)]\n",
    "q1_ops = [OpSite(f\"q_{i+1}\", i, value=q1_list[i]) for i in range(0, ndim)]\n",
    "q0_ops = [OpSite(f\"q^0_{i+1}\", i, value=q0_list[i]) for i in range(0, ndim)]\n",
    "\n",
    "qn_list = [q0_ops, q1_ops, q2_ops, q3_ops, q4_ops]"
   ]
  },
  {
   "cell_type": "code",
   "execution_count": 6,
   "id": "fdad9f59-4ce1-47ed-8600-1652d55ff02c",
   "metadata": {
    "ExecuteTime": {
     "end_time": "2023-06-27T09:40:32.901971Z",
     "start_time": "2023-06-27T09:40:32.899912Z"
    },
    "scrolled": true,
    "tags": []
   },
   "outputs": [],
   "source": [
    "from collections import Counter\n",
    "\n",
    "k_tensor = np.zeros((5, 5, 5))\n",
    "key_list = list(k_orig.keys())\n",
    "\n",
    "for key in key_list:\n",
    "    count = Counter(key)\n",
    "    k_tensor[count[1]][count[2]][count[3]] = k_orig[key]\n",
    "\n",
    "k_symbol = [[[sympy.symbols(\"k_{\" + \"1\" * i + \"2\" * j + \"3\" * k + \"}\") for k in range(5)]\n",
    "                                     for j in range(5)]\n",
    "                                     for i in range(5)]\n",
    "subs = {}\n",
    "\n",
    "for i in range(5):\n",
    "    for j in range(5):\n",
    "        for k in range(5):\n",
    "            subs[k_symbol[i][j][k]] = k_tensor[i][j][k]"
   ]
  },
  {
   "cell_type": "markdown",
   "id": "faf13590-edf3-4089-bded-784cd55dab41",
   "metadata": {},
   "source": [
    "### Setup potential and kinetic operator"
   ]
  },
  {
   "cell_type": "code",
   "execution_count": 7,
   "id": "f86612ce-f82e-435a-b978-df0c8cc72a84",
   "metadata": {},
   "outputs": [
    {
     "data": {
      "text/latex": [
       "$\\displaystyle 0.0416666666666667 k_{1111} q^{4}_{1} q^{0}_{2} q^{0}_{3} + 0.166666666666667 k_{1112} q^{3}_{1} q_{2} q^{0}_{3} + 0.166666666666667 k_{111} q^{3}_{1} q^{0}_{2} q^{0}_{3} + 0.25 k_{1122} q^{2}_{1} q^{2}_{2} q^{0}_{3} + 0.5 k_{112} q^{2}_{1} q_{2} q^{0}_{3} + 0.25 k_{1133} q^{2}_{1} q^{0}_{2} q^{2}_{3} + 0.5 k_{11} q^{2}_{1} q^{0}_{2} q^{0}_{3} + 0.166666666666667 k_{1222} q_{1} q^{3}_{2} q^{0}_{3} + 0.5 k_{122} q_{1} q^{2}_{2} q^{0}_{3} + 0.5 k_{1233} q_{1} q_{2} q^{2}_{3} + 0.5 k_{133} q_{1} q^{0}_{2} q^{2}_{3} + 0.0416666666666667 k_{2222} q^{0}_{1} q^{4}_{2} q^{0}_{3} + 0.166666666666667 k_{222} q^{0}_{1} q^{3}_{2} q^{0}_{3} + 0.25 k_{2233} q^{0}_{1} q^{2}_{2} q^{2}_{3} + 0.5 k_{22} q^{0}_{1} q^{2}_{2} q^{0}_{3} + 0.5 k_{233} q^{0}_{1} q_{2} q^{2}_{3} + 0.0416666666666667 k_{3333} q^{0}_{1} q^{0}_{2} q^{4}_{3} + 0.5 k_{33} q^{0}_{1} q^{0}_{2} q^{2}_{3} - 0.5 p^{2}_{1} - 0.5 p^{2}_{2} - 0.5 p^{2}_{3}$"
      ],
      "text/plain": [
       "0.0416666666666667*k_{1111}*q^4_1*q^0_2*q^0_3 + 0.166666666666667*k_{1112}*q^3_1*q_2*q^0_3 + 0.166666666666667*k_{111}*q^3_1*q^0_2*q^0_3 + 0.25*k_{1122}*q^2_1*q^2_2*q^0_3 + 0.5*k_{112}*q^2_1*q_2*q^0_3 + 0.25*k_{1133}*q^2_1*q^0_2*q^2_3 + 0.5*k_{11}*q^2_1*q^0_2*q^0_3 + 0.166666666666667*k_{1222}*q_1*q^3_2*q^0_3 + 0.5*k_{122}*q_1*q^2_2*q^0_3 + 0.5*k_{1233}*q_1*q_2*q^2_3 + 0.5*k_{133}*q_1*q^0_2*q^2_3 + 0.0416666666666667*k_{2222}*q^0_1*q^4_2*q^0_3 + 0.166666666666667*k_{222}*q^0_1*q^3_2*q^0_3 + 0.25*k_{2233}*q^0_1*q^2_2*q^2_3 + 0.5*k_{22}*q^0_1*q^2_2*q^0_3 + 0.5*k_{233}*q^0_1*q_2*q^2_3 + 0.0416666666666667*k_{3333}*q^0_1*q^0_2*q^4_3 + 0.5*k_{33}*q^0_1*q^0_2*q^2_3 - 0.5*p^2_1 - 0.5*p^2_2 - 0.5*p^2_3"
      ]
     },
     "execution_count": 7,
     "metadata": {},
     "output_type": "execute_result"
    }
   ],
   "source": [
    "from scipy.special import factorial\n",
    "\n",
    "pot_sop = SumOfProducts()\n",
    "\n",
    "for i in range(3):\n",
    "    pot_sop += -0.5 * p2_ops[i]\n",
    "\n",
    "for i in range(5):\n",
    "    for j in range(5):\n",
    "        for k in range(5):\n",
    "            if i == 0 and j == 0 and k == 0:\n",
    "                continue\n",
    "            if k_tensor[i][j][k] == 0:\n",
    "                continue\n",
    "            pot_sop += k_symbol[i][j][k] * qn_list[i][0] * qn_list[j][1] * qn_list[k][2] / factorial(i) / factorial(j) / factorial(k)\n",
    "\n",
    "pot_sop = pot_sop.simplify()\n",
    "pot_sop.symbol"
   ]
  },
  {
   "cell_type": "markdown",
   "id": "216309ca-e46c-41e5-9b26-46efb5c012e6",
   "metadata": {},
   "source": [
    "### Setup MPO"
   ]
  },
  {
   "cell_type": "code",
   "execution_count": 8,
   "id": "9ad4f62a-4958-46bb-807f-88d744f36125",
   "metadata": {
    "scrolled": true
   },
   "outputs": [
    {
     "name": "stderr",
     "output_type": "stream",
     "text": [
      "\u001b[32m2025-04-30 12:17:59.226\u001b[0m | \u001b[1mINFO    \u001b[0m | \u001b[36mpympo.bipartite\u001b[0m:\u001b[36massign\u001b[0m:\u001b[36m286\u001b[0m - \u001b[1massigned 1/3\u001b[0m\n",
      "\u001b[32m2025-04-30 12:17:59.245\u001b[0m | \u001b[1mINFO    \u001b[0m | \u001b[36mpympo.bipartite\u001b[0m:\u001b[36massign\u001b[0m:\u001b[36m286\u001b[0m - \u001b[1massigned 2/3\u001b[0m\n",
      "\u001b[32m2025-04-30 12:17:59.253\u001b[0m | \u001b[1mINFO    \u001b[0m | \u001b[36mpympo.bipartite\u001b[0m:\u001b[36massign\u001b[0m:\u001b[36m286\u001b[0m - \u001b[1massigned 3/3\u001b[0m\n"
     ]
    },
    {
     "data": {
      "text/latex": [
       "$\\displaystyle \\left[\\begin{matrix}q^{4}_{1} & q_{1} & p^{2}_{1} & 1 & q^{2}_{1} & q^{3}_{1} & q^{0}_{1}\\end{matrix}\\right]$"
      ],
      "text/plain": [
       "Matrix([[q^4_1, q_1, p^2_1, 1, q^2_1, q^3_1, q^0_1]])"
      ]
     },
     "metadata": {},
     "output_type": "display_data"
    },
    {
     "data": {
      "text/latex": [
       "$\\displaystyle \\left[\\begin{matrix}0 & 0 & 0.0416666666666667 k_{1111} q^{0}_{2} & 0 & 0\\\\0 & 0.5 k_{1233} q_{2} + 0.5 k_{133} q^{0}_{2} & 0.166666666666667 k_{1222} q^{3}_{2} + 0.5 k_{122} q^{2}_{2} & 0 & 0\\\\-0.5 & 0 & 0 & 0 & 0\\\\- 0.5 p^{2}_{2} & 0 & 0 & 1 & 0\\\\0 & 0.25 k_{1133} q^{0}_{2} & 0.25 k_{1122} q^{2}_{2} + 0.5 k_{112} q_{2} + 0.5 k_{11} q^{0}_{2} & 0 & 0\\\\0 & 0 & 0.166666666666667 k_{1112} q_{2} + 0.166666666666667 k_{111} q^{0}_{2} & 0 & 0\\\\0 & 0.25 k_{2233} q^{2}_{2} + 0.5 k_{233} q_{2} + 0.5 k_{33} q^{0}_{2} & 0.0416666666666667 k_{2222} q^{4}_{2} + 0.166666666666667 k_{222} q^{3}_{2} + 0.5 k_{22} q^{2}_{2} & 0 & q^{0}_{2}\\end{matrix}\\right]$"
      ],
      "text/plain": [
       "Matrix([\n",
       "[         0,                                                        0,                                                      0.0416666666666667*k_{1111}*q^0_2, 0,     0],\n",
       "[         0,                     0.5*k_{1233}*q_2 + 0.5*k_{133}*q^0_2,                                   0.166666666666667*k_{1222}*q^3_2 + 0.5*k_{122}*q^2_2, 0,     0],\n",
       "[      -0.5,                                                        0,                                                                                      0, 0,     0],\n",
       "[-0.5*p^2_2,                                                        0,                                                                                      0, 1,     0],\n",
       "[         0,                                      0.25*k_{1133}*q^0_2,                               0.25*k_{1122}*q^2_2 + 0.5*k_{112}*q_2 + 0.5*k_{11}*q^0_2, 0,     0],\n",
       "[         0,                                                        0,                       0.166666666666667*k_{1112}*q_2 + 0.166666666666667*k_{111}*q^0_2, 0,     0],\n",
       "[         0, 0.25*k_{2233}*q^2_2 + 0.5*k_{233}*q_2 + 0.5*k_{33}*q^0_2, 0.0416666666666667*k_{2222}*q^4_2 + 0.166666666666667*k_{222}*q^3_2 + 0.5*k_{22}*q^2_2, 0, q^0_2]])"
      ]
     },
     "metadata": {},
     "output_type": "display_data"
    },
    {
     "data": {
      "text/latex": [
       "$\\displaystyle \\left[\\begin{matrix}1\\\\q^{2}_{3}\\\\q^{0}_{3}\\\\- 0.5 p^{2}_{3}\\\\0.0416666666666667 k_{3333} q^{4}_{3}\\end{matrix}\\right]$"
      ],
      "text/plain": [
       "Matrix([\n",
       "[                                1],\n",
       "[                            q^2_3],\n",
       "[                            q^0_3],\n",
       "[                       -0.5*p^2_3],\n",
       "[0.0416666666666667*k_{3333}*q^4_3]])"
      ]
     },
     "metadata": {},
     "output_type": "display_data"
    },
    {
     "name": "stdout",
     "output_type": "stream",
     "text": [
      "W0 W1 W2 =\n"
     ]
    },
    {
     "data": {
      "text/latex": [
       "$\\displaystyle 0.0416666666666667 k_{1111} q^{4}_{1} q^{0}_{2} q^{0}_{3} + 0.166666666666667 k_{1112} q^{3}_{1} q_{2} q^{0}_{3} + 0.166666666666667 k_{111} q^{3}_{1} q^{0}_{2} q^{0}_{3} + 0.25 k_{1122} q^{2}_{1} q^{2}_{2} q^{0}_{3} + 0.5 k_{112} q^{2}_{1} q_{2} q^{0}_{3} + 0.25 k_{1133} q^{2}_{1} q^{0}_{2} q^{2}_{3} + 0.5 k_{11} q^{2}_{1} q^{0}_{2} q^{0}_{3} + 0.166666666666667 k_{1222} q_{1} q^{3}_{2} q^{0}_{3} + 0.5 k_{122} q_{1} q^{2}_{2} q^{0}_{3} + 0.5 k_{1233} q_{1} q_{2} q^{2}_{3} + 0.5 k_{133} q_{1} q^{0}_{2} q^{2}_{3} + 0.0416666666666667 k_{2222} q^{0}_{1} q^{4}_{2} q^{0}_{3} + 0.166666666666667 k_{222} q^{0}_{1} q^{3}_{2} q^{0}_{3} + 0.25 k_{2233} q^{0}_{1} q^{2}_{2} q^{2}_{3} + 0.5 k_{22} q^{0}_{1} q^{2}_{2} q^{0}_{3} + 0.5 k_{233} q^{0}_{1} q_{2} q^{2}_{3} + 0.0416666666666667 k_{3333} q^{0}_{1} q^{0}_{2} q^{4}_{3} + 0.5 k_{33} q^{0}_{1} q^{0}_{2} q^{2}_{3} - 0.5 p^{2}_{1} - 0.5 p^{2}_{2} - 0.5 p^{2}_{3}$"
      ],
      "text/plain": [
       "0.0416666666666667*k_{1111}*q^4_1*q^0_2*q^0_3 + 0.166666666666667*k_{1112}*q^3_1*q_2*q^0_3 + 0.166666666666667*k_{111}*q^3_1*q^0_2*q^0_3 + 0.25*k_{1122}*q^2_1*q^2_2*q^0_3 + 0.5*k_{112}*q^2_1*q_2*q^0_3 + 0.25*k_{1133}*q^2_1*q^0_2*q^2_3 + 0.5*k_{11}*q^2_1*q^0_2*q^0_3 + 0.166666666666667*k_{1222}*q_1*q^3_2*q^0_3 + 0.5*k_{122}*q_1*q^2_2*q^0_3 + 0.5*k_{1233}*q_1*q_2*q^2_3 + 0.5*k_{133}*q_1*q^0_2*q^2_3 + 0.0416666666666667*k_{2222}*q^0_1*q^4_2*q^0_3 + 0.166666666666667*k_{222}*q^0_1*q^3_2*q^0_3 + 0.25*k_{2233}*q^0_1*q^2_2*q^2_3 + 0.5*k_{22}*q^0_1*q^2_2*q^0_3 + 0.5*k_{233}*q^0_1*q_2*q^2_3 + 0.0416666666666667*k_{3333}*q^0_1*q^0_2*q^4_3 + 0.5*k_{33}*q^0_1*q^0_2*q^2_3 - 0.5*p^2_1 - 0.5*p^2_2 - 0.5*p^2_3"
      ]
     },
     "metadata": {},
     "output_type": "display_data"
    }
   ],
   "source": [
    "am_pot = AssignManager(pot_sop)\n",
    "am_pot.assign()\n",
    "display(*am_pot.Wsym)\n",
    "W_prod = sympy.Mul(*am_pot.Wsym)\n",
    "print(*[f\"W{i}\" for i in range(am_pot.ndim)], \"=\")\n",
    "display(W_prod[0].expand())\n",
    "pot_mpo = am_pot.numerical_mpo(subs=subs)"
   ]
  },
  {
   "cell_type": "markdown",
   "id": "0ba3b421-606e-4d3d-836a-290cf67d30c0",
   "metadata": {},
   "source": [
    "### Setup Hamiltonian"
   ]
  },
  {
   "cell_type": "code",
   "execution_count": 9,
   "id": "b44fa929-ea10-435f-bf91-cce3fae2ef97",
   "metadata": {},
   "outputs": [],
   "source": [
    "potential = [\n",
    "    [\n",
    "        {\n",
    "            (tuple((i, i) for i in range(0, ndim))): TensorOperator(\n",
    "                mpo=pot_mpo\n",
    "            )\n",
    "        }\n",
    "    ]\n",
    "]\n",
    "\n",
    "H = TensorHamiltonian(\n",
    "    ndof=len(basis), potential=potential, kinetic=None, backend=backend\n",
    ")\n",
    "\n",
    "operators = {\"hamiltonian\": H}"
   ]
  },
  {
   "cell_type": "markdown",
   "id": "2b82c15c-62d4-474e-964b-49637a6dcd9c",
   "metadata": {
    "tags": []
   },
   "source": [
    "## 4. Set wavefunction (MPS) and All Model\n",
    "\n",
    "- `m_aux_max` is a bond dimension of MPS (maximum rank of auxiliary index $\\tau_p$)\n",
    "\n"
   ]
  },
  {
   "cell_type": "code",
   "execution_count": 10,
   "id": "79beeb3a-565e-4d80-bdb3-cc79a821f6f3",
   "metadata": {
    "ExecuteTime": {
     "end_time": "2023-06-27T09:40:32.903899Z",
     "start_time": "2023-06-27T09:40:32.902593Z"
    }
   },
   "outputs": [],
   "source": [
    "model = Model(basinfo, operators)\n",
    "model.m_aux_max = 9"
   ]
  },
  {
   "cell_type": "markdown",
   "id": "cb495b77-ca3f-4771-bae6-1a4d6dc1b503",
   "metadata": {},
   "source": [
    "## 5. Execute Calculation\n",
    "\n",
    "- time step width is defined by `stepsize`=0.1 fs"
   ]
  },
  {
   "cell_type": "markdown",
   "id": "d06941d9-23d2-40af-a92b-6afbc9fecedf",
   "metadata": {},
   "source": [
    "F.Y.I., See also documentation about [Simulator](https://qclovers.github.io/PyTDSCF/pytdscf.html#pytdscf.simulator_cls.Simulator)\n",
    "\n",
    "**NOTE**\n",
    "\n",
    "- Runtype cannot be rebound. If you change the runtype, you should restart the kernel.\n",
    "\n",
    "- Improved relaxation, i.e., diagonalization-based variational optimization, is much faster than pure imaginary time evolution.\n",
    "\n",
    "- When simulating larger systems, (f>6, m>10), contraction of tensors can be overhead, in such a situation JAX, especially supporting GPU, is recommended to use as a backend."
   ]
  },
  {
   "cell_type": "code",
   "execution_count": 11,
   "id": "fabba1c2-8b8a-4adc-a784-73d310737842",
   "metadata": {
    "ExecuteTime": {
     "end_time": "2023-06-27T09:40:33.348033Z",
     "start_time": "2023-06-27T09:40:32.905140Z"
    },
    "scrolled": true
   },
   "outputs": [
    {
     "name": "stderr",
     "output_type": "stream",
     "text": [
      "2025-04-30 12:18:00,132 - INFO:main.pytdscf._const_cls - \u001b[1m\u001b[35m\n",
      "     ____     __________   .____ ____   _____\n",
      "    / _  |   /__  __/ _ \\ / ___ / _  \\ / ___/\n",
      "   / /_) /_  __/ / / / ||/ /__ / / )_// /__\n",
      "  /  ___/ / / / / / / / |.__  / |  __/ ___/\n",
      " /  /  / /_/ / / / /_/ /___/ /| \\_/ / /\n",
      "/__/   \\__, /_/ /_____/_____/ \\____/_/\n",
      "      /____/\n",
      "\u001b[0m\n",
      "2025-04-30 12:18:00,134 - INFO:main.pytdscf._const_cls - Log file is ./h2o_polynomial_relax/main.log\n",
      "2025-04-30 12:18:00,136 - INFO:main.pytdscf.simulator_cls - Set integral of DVR basis\n",
      "2025-04-30 12:18:00,152 - INFO:main.pytdscf.simulator_cls - Set initial wave function (DVR basis)\n",
      "2025-04-30 12:18:00,154 - INFO:main.pytdscf.simulator_cls - Prepare MPS w.f.\n",
      "2025-04-30 12:18:00,156 - INFO:main.pytdscf._mps_cls - Initial MPS: 0-state with weights 1.0\n",
      "2025-04-30 12:18:00,158 - INFO:main.pytdscf._mps_cls - Initial MPS: 0-state 0-mode with weight [1. 0. 0. 0. 0. 0. 0. 0. 0.]\n",
      "2025-04-30 12:18:00,160 - INFO:main.pytdscf._mps_cls - Initial MPS: 0-state 1-mode with weight [1. 0. 0. 0. 0. 0. 0. 0. 0.]\n",
      "2025-04-30 12:18:00,162 - INFO:main.pytdscf._mps_cls - Initial MPS: 0-state 2-mode with weight [1. 0. 0. 0. 0. 0. 0. 0. 0.]\n",
      "2025-04-30 12:18:00,200 - INFO:main.pytdscf.simulator_cls - Wave function is saved in wf_h2o_polynomial_gs.pkl\n",
      "2025-04-30 12:18:00,201 - INFO:main.pytdscf.simulator_cls - Start initial step    0.000 [fs]\n",
      "2025-04-30 12:18:00,605 - INFO:main.pytdscf.simulator_cls - End     0 step; propagated    0.100 [fs]; AVG Krylov iteration: 3.00\n",
      "2025-04-30 12:18:00,983 - INFO:main.pytdscf.simulator_cls - Saved wavefunction    0.900 [fs]\n",
      "2025-04-30 12:18:01,298 - INFO:main.pytdscf.simulator_cls - Saved wavefunction    1.900 [fs]\n",
      "2025-04-30 12:18:01,348 - INFO:main.pytdscf.simulator_cls - End    19 step; propagated    1.900 [fs]; AVG Krylov iteration: 0.00\n",
      "2025-04-30 12:18:01,353 - INFO:main.pytdscf.simulator_cls - End simulation and save wavefunction\n",
      "2025-04-30 12:18:01,365 - INFO:main.pytdscf.simulator_cls - Wave function is saved in wf_h2o_polynomial_gs.pkl\n"
     ]
    },
    {
     "data": {
      "text/plain": [
       "(0.020855716347418743, <pytdscf.wavefunction.WFunc at 0x1222c4980>)"
      ]
     },
     "execution_count": 11,
     "metadata": {},
     "output_type": "execute_result"
    }
   ],
   "source": [
    "jobname = \"h2o_polynomial\"\n",
    "simulator = Simulator(jobname, model, ci_type=\"MPS\", backend=\"Numpy\", verbose=4)\n",
    "simulator.relax(savefile_ext=\"_gs\", maxstep=20, stepsize=0.1)"
   ]
  },
  {
   "cell_type": "markdown",
   "id": "aee22b8b-88ad-469b-bb18-bf9b979386a8",
   "metadata": {},
   "source": [
    "## 6. Check Log file\n",
    "See `h2o_polynomial_relax/main.log`, which is defined in `jobname`"
   ]
  },
  {
   "cell_type": "code",
   "execution_count": 12,
   "id": "3024ea78-6f16-402f-9773-68595ab0eeba",
   "metadata": {
    "ExecuteTime": {
     "end_time": "2023-06-27T09:40:33.474647Z",
     "start_time": "2023-06-27T09:40:33.348571Z"
    }
   },
   "outputs": [
    {
     "name": "stderr",
     "output_type": "stream",
     "text": [
      "/usr/local/Cellar/python@3.13/3.13.2/Frameworks/Python.framework/Versions/3.13/lib/python3.13/pty.py:95: RuntimeWarning: os.fork() was called. os.fork() is incompatible with multithreaded code, and JAX is multithreaded, so this will likely lead to a deadlock.\n",
      "  pid, fd = os.forkpty()\n"
     ]
    },
    {
     "name": "stdout",
     "output_type": "stream",
     "text": [
      "| pop 1.0000 | ene[eV]:  0.5675130 | time[fs]:    1.400 | elapsed[sec]:     0.62 | ci:  0.6  (ci_exp:  0.4|ci_rnm:  0.2|ci_etc:  0.0 d) |    0 MFLOPS (  0.0 s) \n",
      "| pop 1.0000 | ene[eV]:  0.5675130 | time[fs]:    1.500 | elapsed[sec]:     0.64 | ci:  0.6  (ci_exp:  0.4|ci_rnm:  0.2|ci_etc:  0.0 d) |    0 MFLOPS (  0.0 s) \n",
      "| pop 1.0000 | ene[eV]:  0.5675130 | time[fs]:    1.600 | elapsed[sec]:     0.66 | ci:  0.7  (ci_exp:  0.4|ci_rnm:  0.2|ci_etc:  0.0 d) |    0 MFLOPS (  0.0 s) \n",
      "| pop 1.0000 | ene[eV]:  0.5675130 | time[fs]:    1.700 | elapsed[sec]:     0.69 | ci:  0.7  (ci_exp:  0.4|ci_rnm:  0.2|ci_etc:  0.0 d) |    0 MFLOPS (  0.0 s) \n",
      "| pop 1.0000 | ene[eV]:  0.5675130 | time[fs]:    1.800 | elapsed[sec]:     0.71 | ci:  0.7  (ci_exp:  0.5|ci_rnm:  0.2|ci_etc:  0.0 d) |    0 MFLOPS (  0.0 s) \n",
      "Saved wavefunction    1.900 [fs]\n",
      "| pop 1.0000 | ene[eV]:  0.5675130 | time[fs]:    1.900 | elapsed[sec]:     0.73 | ci:  0.7  (ci_exp:  0.5|ci_rnm:  0.3|ci_etc:  0.0 d) |    0 MFLOPS (  0.0 s) \n",
      "End    19 step; propagated    1.900 [fs]; AVG Krylov iteration: 0.00\n",
      "End simulation and save wavefunction\n",
      "Wave function is saved in wf_h2o_polynomial_gs.pkl\n"
     ]
    }
   ],
   "source": [
    "!tail h2o_polynomial_relax/main.log"
   ]
  },
  {
   "cell_type": "markdown",
   "id": "a4134baf-d7bb-47ce-b801-328d64312b92",
   "metadata": {},
   "source": [
    "**Vibrational ground state energy is found to be `0.5675130` eV!**"
   ]
  }
 ],
 "metadata": {
  "kernelspec": {
   "display_name": "Python 3 (ipykernel)",
   "language": "python",
   "name": "python3"
  },
  "language_info": {
   "codemirror_mode": {
    "name": "ipython",
    "version": 3
   },
   "file_extension": ".py",
   "mimetype": "text/x-python",
   "name": "python",
   "nbconvert_exporter": "python",
   "pygments_lexer": "ipython3",
   "version": "3.13.2"
  }
 },
 "nbformat": 4,
 "nbformat_minor": 5
}
