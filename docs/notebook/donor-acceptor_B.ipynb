{
 "cells": [
  {
   "cell_type": "markdown",
   "id": "76ffb2ff-db83-4892-b881-4f63cc5f8c05",
   "metadata": {},
   "source": [
    "# Example 14 donor-acceptor_B\n",
    "\n",
    "**This example takes a while. (a couple of hours)**\n",
    "\n",
    "- References\n",
    "  - [Dorfner, Maximilian FX, et al. \"Comparison of matrix product state and multiconfiguration time-dependent hartree methods for nonadiabatic dynamics of exciton dissociation.\" Journal of Chemical Theory and Computation 20.20 (2024): 8767-8781.](https://doi.org/10.1021/acs.jctc.4c00751)"
   ]
  },
  {
   "cell_type": "code",
   "execution_count": 1,
   "id": "41337829-548c-4cbc-aa8c-192f81fd713e",
   "metadata": {},
   "outputs": [
    {
     "name": "stdout",
     "output_type": "stream",
     "text": [
      "3.13.2 (main, Feb  4 2025, 14:51:09) [Clang 16.0.0 (clang-1600.0.26.6)]\n",
      "pytdscf version = 1.0.4\n",
      "macOS-15.4.1-x86_64-i386-64bit-Mach-O\n",
      "cpu\n"
     ]
    }
   ],
   "source": [
    "import platform\n",
    "import sys\n",
    "\n",
    "import pytdscf\n",
    "\n",
    "print(sys.version)\n",
    "print(f\"pytdscf version = {pytdscf.__version__}\")\n",
    "print(platform.platform())\n",
    "\n",
    "import jax.extend\n",
    "\n",
    "print(jax.extend.backend.get_backend().platform)"
   ]
  },
  {
   "cell_type": "code",
   "execution_count": 2,
   "id": "319c5882-8a0d-4e81-a69d-09a47abcca6f",
   "metadata": {},
   "outputs": [],
   "source": [
    "import matplotlib.pyplot as plt\n",
    "import numpy as np\n",
    "import sympy\n",
    "from pympo import AssignManager, OpSite, SumOfProducts\n",
    "\n",
    "from pytdscf import BasInfo, Exciton, Boson, Model, Simulator, units\n",
    "from pytdscf.dvr_operator_cls import TensorOperator\n",
    "from pytdscf.hamiltonian_cls import TensorHamiltonian"
   ]
  },
  {
   "cell_type": "markdown",
   "id": "d273a5b9-b37c-4fc6-927f-08c42e57cfa7",
   "metadata": {},
   "source": [
    "## Model Hamiltonian\n",
    "\n",
    "$$\n",
    "H = H_{\\text{ele}} + H_{\\text{ph}} + H_{\\text{el-ph}}\n",
    "$$\n",
    "\n",
    "where $H_{\\text{ele}}$ is the electronic Hamiltonian consisting of 26 sites ($\\text{CS}_1-\\text{CS}_{13}$, $\\text{LE}_1-\\text{LE}_{13}$)\n",
    "and represented by following equations.\n",
    "\n",
    "$$\n",
    "\\begin{align}\n",
    "H =& H^0_{\\text{el}} + H_{\\text{coup}} \\\\\n",
    "H^0_{\\text{el}} =& \\epsilon^{\\text{LE}} \\sum_{n=1}^N |\\text{LE}_n \\rangle \\langle \\text{LE}_n| + \\sum_{n=1}^N \\epsilon^{\\text{CS}}_n |\\text{CS}_n \\rangle \\langle \\text{CS}_n| \\\\\n",
    "H_{\\text{coup}} =& J \\sum_{n=1}^{N-1} (|\\text{LE}_n \\rangle \\langle \\text{LE}_{n+1}| + \\text{h.c.}) + t \\sum_{n=1}^{N-1} (|\\text{CS}_n \\rangle \\langle \\text{CS}_{n+1}| + \\text{h.c.}) \\\\\n",
    "\\end{align}\n",
    "$$\n",
    "\n",
    "N is the number of Oligothiophen fragments.\n",
    "\n",
    "$H_{\\text{ph}}$ is the phonon Hamiltonian represented by following equation.\n",
    "\n",
    "$$\n",
    "\\begin{align}\n",
    "H_{\\text{ph}} = \\sum_{l=1}^{N_\\text{F}} \\omega^\\text{F}_l b^{\\dagger}_{\\text{F}, l} b_{\\text{F}, l} + \\sum_{n=1}^{N} \\sum_{l=1}^{N_\\text{OT}} \\omega^\\text{OT}_l b^{\\dagger}_{\\text{OT}, n, l} b_{\\text{OT}, n, l} + \\omega_R b^{\\dagger}_R b_R\n",
    "\\end{align}\n",
    "$$\n",
    "\n",
    "$N_\\text{OT}$ and $N_\\text{F}$ are the number of effective modes per fragment.\n",
    "\n",
    "$H_{\\text{el-ph}}$ is the electron-phonon coupling Hamiltonian represented by following equations.\n",
    "\n",
    "$$\n",
    "\\begin{align}\n",
    "H_\\text{el-ph} =& H_\\text{el-ph}^\\text{F} + H_\\text{el-ph}^\\text{OT} + H_\\text{el-ph}^R \\\\\n",
    "H_\\text{el-ph}^\\text{F} =& \\sum^{N_\\text{F}}_{l=1} \\left[\\sum^N_{n=1} g^\\text{F}_l \\left[ b^{\\dagger}_{\\text{F}, l} + b_{\\text{F}, l} \\right] |\\text{CS}_n \\rangle \\langle \\text{CS}_n| \\right] \\\\\n",
    "H_\\text{el-ph}^\\text{OT} =& \\sum^N_{n=1} \\sum^{N_\\text{OT}}_{l=1} \\left[ g^\\text{OT}_{\\text{CS}, l} \\left[ b^{\\dagger}_{\\text{OT}, n, l} + b_{\\text{OT}, n, l} \\right] |\\text{CS}_n \\rangle \\langle \\text{CS}_n| + g^\\text{OT}_{\\text{LE}, l} \\left[ b^{\\dagger}_{\\text{OT}, n, l} + b_{\\text{OT}, n, l} \\right] |\\text{LE}_n \\rangle \\langle \\text{LE}_n| \\right] \\\\\n",
    "H_\\text{el-ph}^R =& g^R_{\\text{CS}_1, \\text{CS}_1} \\left[b^{\\dagger}_R + b_R \\right] |\\text{CS}_1 \\rangle \\langle \\text{CS}_1| g^R_{\\text{LE}_1, \\text{CS}_1} \\left[b^{\\dagger}_R + b_R \\right] \\left( |\\text{LE}_1 \\rangle \\langle \\text{CS}_1| + \\text{h.c.} \\right) \\\\\n",
    "\\end{align}\n",
    "$$"
   ]
  },
  {
   "cell_type": "code",
   "execution_count": 3,
   "id": "a4827433",
   "metadata": {},
   "outputs": [],
   "source": [
    "backend = \"numpy\"\n",
    "use_bath = True\n",
    "\n",
    "epsilon_le = sympy.Symbol(\"ε^{LE}\")\n",
    "λ = sympy.Symbol(\"λ\")\n",
    "t = sympy.Symbol(\"t\")\n",
    "J = sympy.Symbol(\"J\")\n",
    "g_cs = sympy.Symbol(\"g_{CS, CS}\")\n",
    "g_le = sympy.Symbol(\"g_{LE, CS}\")\n",
    "omega = sympy.Symbol(\"ω\")\n",
    "\n",
    "\n",
    "subs = {}\n",
    "subs[epsilon_le] = 100.0 / 1000 / units.au_in_eV\n",
    "subs[λ] = -200.0 / 1000 / units.au_in_eV\n",
    "subs[t]= -120.0 / 1000 / units.au_in_eV\n",
    "subs[J] = 100.0 / 1000 / units.au_in_eV\n",
    "subs[g_cs] = 0.001 * 30 / (2**0.5) / units.au_in_eV\n",
    "subs[g_le] = -0.001 * 10 / (2**0.5) / units.au_in_eV\n",
    "subs[omega] = 0.001 * 10 / units.au_in_eV\n",
    "\n",
    "if use_bath:\n",
    "    bath_ω_F = (\n",
    "        np.array(\n",
    "            [\n",
    "                200.025,\n",
    "                184.269,\n",
    "                177.853,\n",
    "                141.11,\n",
    "                93.952,\n",
    "                79.933,\n",
    "                55.892,\n",
    "                33.264,\n",
    "            ]\n",
    "        )\n",
    "        / 1000 / units.au_in_eV\n",
    "    )\n",
    "\n",
    "    bath_ω_OT = (\n",
    "        np.array(\n",
    "            [\n",
    "                401.283,\n",
    "                397.773,\n",
    "                182.714,\n",
    "                178.531,\n",
    "                134.550,\n",
    "                111.848,\n",
    "                42.621,\n",
    "                18.316,\n",
    "            ]\n",
    "        )\n",
    "        / 1000 / units.au_in_eV\n",
    "    )\n",
    "\n",
    "    epsilon_CS = (\n",
    "        np.array(\n",
    "            [\n",
    "                0.0,\n",
    "                33.6,\n",
    "                47.4,\n",
    "                56.0,\n",
    "                61.8,\n",
    "                65.7,\n",
    "                68.4,\n",
    "                70.0,\n",
    "                70.9,\n",
    "                71.2,\n",
    "                71.1,\n",
    "                70.5,\n",
    "                69.5,\n",
    "            ]\n",
    "        )\n",
    "        / 1000 / units.au_in_eV\n",
    "    )\n",
    "\n",
    "    g_F = (\n",
    "        np.array(\n",
    "            [\n",
    "                45.246,\n",
    "                65.701,\n",
    "                -40.280,\n",
    "                -17.511,\n",
    "                28.026,\n",
    "                -13.629,\n",
    "                -23.732,\n",
    "                9.86,\n",
    "            ]\n",
    "        )\n",
    "        / 1000 / units.au_in_eV\n",
    "    )\n",
    "\n",
    "    g_ot_cs = (\n",
    "        np.array(\n",
    "            [\n",
    "                7.017,\n",
    "                -0.077,\n",
    "                -67.849,\n",
    "                57.668,\n",
    "                -40.145,\n",
    "                11.68,\n",
    "                -10.784,\n",
    "                -12.309,\n",
    "            ]\n",
    "        )\n",
    "        / 1000 / units.au_in_eV\n",
    "    )\n",
    "\n",
    "    g_ot_le = (\n",
    "        np.array(\n",
    "            [\n",
    "                4.035,\n",
    "                2.921,\n",
    "                -129.712,\n",
    "                46.885,\n",
    "                -32.908,\n",
    "                36.591,\n",
    "                -20.211,\n",
    "                -7.77,\n",
    "            ]\n",
    "        )\n",
    "        / 1000 / units.au_in_eV\n",
    "    )\n",
    "\n",
    "    ω_F_symbols = [None]\n",
    "    ω_OT_symbols = [None]\n",
    "    epsilon_symbols = [None]\n",
    "    g_F_symbols = [None]\n",
    "    g_ot_le_symbols = [None]\n",
    "    g_ot_cs_symbols = [None]\n",
    "    \n",
    "    for i, ωF in enumerate(bath_ω_F):\n",
    "        ω_F_symbols.append(sympy.Symbol(f\"ω^{{F}}_{i+1}\"))\n",
    "        subs[ω_F_symbols[-1]] = ωF\n",
    "\n",
    "    for i, ωOT in enumerate(bath_ω_OT):\n",
    "        ω_OT_symbols.append(sympy.Symbol(f\"ω^{{OT}}_{i+1}\"))\n",
    "        subs[ω_OT_symbols[-1]] = ωOT\n",
    "\n",
    "    for i, e in enumerate(epsilon_CS):\n",
    "        epsilon_symbols.append(sympy.Symbol(\"ε^{{CS}}_{\" + f\"{i+1:02d}\" + \"}\"))\n",
    "        subs[epsilon_symbols[-1]] = e\n",
    "\n",
    "    for i, gF in enumerate(g_F):\n",
    "        g_F_symbols.append(sympy.Symbol(f\"g^{{F}}_{i+1}\"))\n",
    "        subs[g_F_symbols[-1]] = gF\n",
    "\n",
    "    for i, gol in enumerate(g_ot_le):\n",
    "        g_ot_le_symbols.append(sympy.Symbol(\"g^{OT}_{LE, \" + f\"{i+1:02d}\" + \"}\"))\n",
    "        subs[g_ot_le_symbols[-1]] = gol\n",
    "\n",
    "    for i, gos in enumerate(g_ot_cs):\n",
    "        g_ot_cs_symbols.append(sympy.Symbol(\"g^{OT}_{CS, \" + f\"{i+1:02d}\" + \"}\"))\n",
    "        subs[g_ot_cs_symbols[-1]] = gos\n"
   ]
  },
  {
   "cell_type": "markdown",
   "id": "f6ea2ee8-478a-46c2-87be-efbe1c9133c8",
   "metadata": {},
   "source": [
    "### Setup basis for wavefunction"
   ]
  },
  {
   "cell_type": "code",
   "execution_count": 4,
   "id": "b895367d-c806-4222-8b20-871a9efe63c0",
   "metadata": {},
   "outputs": [],
   "source": [
    "N_F = 8\n",
    "N_OT = 8\n",
    "N = 13\n",
    "\n",
    "basis = [Exciton(nstate=2*N), ] + [Boson(nstate=28)]* (1 + N_F + N * N_OT)\n",
    "\n",
    "basinfo = BasInfo([basis])\n",
    "ndim = len(basis)"
   ]
  },
  {
   "cell_type": "markdown",
   "id": "cf36c134-2da7-4d12-a0d2-517badb54bab",
   "metadata": {},
   "source": [
    "### Setup one particle operator"
   ]
  },
  {
   "cell_type": "code",
   "execution_count": 5,
   "id": "325a3a63-86b9-416c-8ff3-3c4bac05920b",
   "metadata": {},
   "outputs": [],
   "source": [
    "b = basis[1].get_annihilation_matrix()\n",
    "bdag = basis[1].get_creation_matrix()\n",
    "\n",
    "LE_CS = np.zeros((2*N, 2*N))\n",
    "LE_CS[N-1, N] = 1.0\n",
    "LE_CS[N, N-1] = 1.0\n",
    "\n",
    "LE = [None]\n",
    "CS = [None]\n",
    "LE_LE1 = [None]\n",
    "CS_CS1 = [None]\n",
    "\n",
    "for i in range(N):\n",
    "    matrix = np.zeros((2*N, 2*N))\n",
    "    matrix[i+N, i+N] = 1.0\n",
    "    LE.append(matrix)\n",
    "\n",
    "for i in range(N):\n",
    "    matrix = np.zeros((2*N, 2*N))\n",
    "    matrix[N-1-i, N-1-i] = 1.0\n",
    "    CS.append(matrix)\n",
    "\n",
    "for i in range(N-1):\n",
    "    matrix = np.zeros((2*N, 2*N))\n",
    "    matrix[i+N, i+N+1] = 1.0\n",
    "    matrix[i+N+1, i+N] = 1.0\n",
    "    LE_LE1.append(matrix)\n",
    "\n",
    "for i in range(N-1):\n",
    "    matrix = np.zeros((2*N, 2*N))\n",
    "    matrix[N-i-1, N-i-2] = 1.0\n",
    "    matrix[N-i-2, N-i-1] = 1.0\n",
    "    CS_CS1.append(matrix)\n",
    "\n",
    "LE_CS_op = OpSite(\"(<LE|CS> + h.c.)\", 0, value=LE_CS)\n",
    "\n",
    "\n",
    "LE_ops = [None] + [\n",
    "    OpSite(\"|LE_{\" + f\"{i:02d}\" + \"}><LE_{\" + f\"{i:02d}\" + \"}|\", 0, value=LE[i]) for i in range(1, 1+N)\n",
    "]\n",
    "\n",
    "CS_ops = [None] + [\n",
    "    OpSite(\"|CS_{\" + f\"{i:02d}\" + \"}><CS_{\" + f\"{i:02d}\" + \"}|\", 0, value=CS[i]) for i in range(1, 1+N)\n",
    "]\n",
    "\n",
    "LE_LE1_ops = [None] + [\n",
    "    OpSite(\"(|LE_{\" + f\"{i:02d}\" + \"}><LE_{\" + f\"{i+1:02d}\" + \"}|+h.c.)\", 0, value=LE_LE1[i]) for i in range(1, N)\n",
    "]\n",
    "\n",
    "CS_CS1_ops = [None] + [\n",
    "    OpSite(\"(|CS_{\" + f\"{i:02d}\" + \"}><CS_{\" + f\"{i+1:02d}\" + \"}|+h.c.)\", 0, value=CS_CS1[i]) for i in range(1, N)\n",
    "]\n",
    "\n",
    "b_ops = [None] + [OpSite(\"b_R\", 1, value=b)] + [\n",
    "    OpSite(\"b_{F, \" + f\"{i:02d}\" + \"}\", i+1, value=b) for i in range(1, 1+N_F)\n",
    "] + [\n",
    "    OpSite(\"b_{OT, \" + f\"{i:02d}\" + \", \" + f\"{j:02d}\" + \"}\", 1+N_F+j+N_OT*(i-1), value=b) \n",
    "    for i in range(1, 1+N) for j in range(1, 1+N_OT)\n",
    "]\n",
    "\n",
    "bdag_ops = [None] + [OpSite(r\"b^{\\dagger}_R\", 1, value=bdag)] + [\n",
    "    OpSite(r\"b^\\dagger\" + \"_{F, \" + f\"{i:02d}\" + \"}\", i+1, value=bdag)\n",
    "    for i in range(1, 1+N_F)\n",
    "] + [\n",
    "    OpSite(r\"b^\\dagger\" + \"_{OT, \" + f\"{i:02d}\" + \", \" + f\"{j:02d}\" + \"}\", 1+N_F+j+N_OT*(i-1), value=bdag) \n",
    "    for i in range(1, 1+N) for j in range(1, 1+N_OT)\n",
    "]"
   ]
  },
  {
   "cell_type": "markdown",
   "id": "7983e6d5-0b47-4b9a-80fc-834e9f1b8aed",
   "metadata": {},
   "source": [
    "### Setup potential and kinetic operator"
   ]
  },
  {
   "cell_type": "code",
   "execution_count": 6,
   "id": "0b0dc196-ebd9-46cf-8cc8-bdbcbcf2f3a7",
   "metadata": {},
   "outputs": [
    {
     "data": {
      "text/latex": [
       "$\\displaystyle J \\left((|LE_{01}><LE_{02}|+h.c.) + (|LE_{02}><LE_{03}|+h.c.) + (|LE_{03}><LE_{04}|+h.c.) + (|LE_{04}><LE_{05}|+h.c.) + (|LE_{05}><LE_{06}|+h.c.) + (|LE_{06}><LE_{07}|+h.c.) + (|LE_{07}><LE_{08}|+h.c.) + (|LE_{08}><LE_{09}|+h.c.) + (|LE_{09}><LE_{10}|+h.c.) + (|LE_{10}><LE_{11}|+h.c.) + (|LE_{11}><LE_{12}|+h.c.) + (|LE_{12}><LE_{13}|+h.c.)\\right) + g^{F}_1 |CS_{01}><CS_{01}| \\left(b^\\dagger_{F, 01} + b_{F, 01}\\right) + g^{F}_1 |CS_{02}><CS_{02}| \\left(b^\\dagger_{F, 01} + b_{F, 01}\\right) + g^{F}_1 |CS_{03}><CS_{03}| \\left(b^\\dagger_{F, 01} + b_{F, 01}\\right) + g^{F}_1 |CS_{04}><CS_{04}| \\left(b^\\dagger_{F, 01} + b_{F, 01}\\right) + g^{F}_1 |CS_{05}><CS_{05}| \\left(b^\\dagger_{F, 01} + b_{F, 01}\\right) + g^{F}_1 |CS_{06}><CS_{06}| \\left(b^\\dagger_{F, 01} + b_{F, 01}\\right) + g^{F}_1 |CS_{07}><CS_{07}| \\left(b^\\dagger_{F, 01} + b_{F, 01}\\right) + g^{F}_1 |CS_{08}><CS_{08}| \\left(b^\\dagger_{F, 01} + b_{F, 01}\\right) + g^{F}_1 |CS_{09}><CS_{09}| \\left(b^\\dagger_{F, 01} + b_{F, 01}\\right) + g^{F}_1 |CS_{10}><CS_{10}| \\left(b^\\dagger_{F, 01} + b_{F, 01}\\right) + g^{F}_1 |CS_{11}><CS_{11}| \\left(b^\\dagger_{F, 01} + b_{F, 01}\\right) + g^{F}_1 |CS_{12}><CS_{12}| \\left(b^\\dagger_{F, 01} + b_{F, 01}\\right) + g^{F}_1 |CS_{13}><CS_{13}| \\left(b^\\dagger_{F, 01} + b_{F, 01}\\right) + g^{F}_2 |CS_{01}><CS_{01}| \\left(b^\\dagger_{F, 02} + b_{F, 02}\\right) + g^{F}_2 |CS_{02}><CS_{02}| \\left(b^\\dagger_{F, 02} + b_{F, 02}\\right) + g^{F}_2 |CS_{03}><CS_{03}| \\left(b^\\dagger_{F, 02} + b_{F, 02}\\right) + g^{F}_2 |CS_{04}><CS_{04}| \\left(b^\\dagger_{F, 02} + b_{F, 02}\\right) + g^{F}_2 |CS_{05}><CS_{05}| \\left(b^\\dagger_{F, 02} + b_{F, 02}\\right) + g^{F}_2 |CS_{06}><CS_{06}| \\left(b^\\dagger_{F, 02} + b_{F, 02}\\right) + g^{F}_2 |CS_{07}><CS_{07}| \\left(b^\\dagger_{F, 02} + b_{F, 02}\\right) + g^{F}_2 |CS_{08}><CS_{08}| \\left(b^\\dagger_{F, 02} + b_{F, 02}\\right) + g^{F}_2 |CS_{09}><CS_{09}| \\left(b^\\dagger_{F, 02} + b_{F, 02}\\right) + g^{F}_2 |CS_{10}><CS_{10}| \\left(b^\\dagger_{F, 02} + b_{F, 02}\\right) + g^{F}_2 |CS_{11}><CS_{11}| \\left(b^\\dagger_{F, 02} + b_{F, 02}\\right) + g^{F}_2 |CS_{12}><CS_{12}| \\left(b^\\dagger_{F, 02} + b_{F, 02}\\right) + g^{F}_2 |CS_{13}><CS_{13}| \\left(b^\\dagger_{F, 02} + b_{F, 02}\\right) + g^{F}_3 |CS_{01}><CS_{01}| \\left(b^\\dagger_{F, 03} + b_{F, 03}\\right) + g^{F}_3 |CS_{02}><CS_{02}| \\left(b^\\dagger_{F, 03} + b_{F, 03}\\right) + g^{F}_3 |CS_{03}><CS_{03}| \\left(b^\\dagger_{F, 03} + b_{F, 03}\\right) + g^{F}_3 |CS_{04}><CS_{04}| \\left(b^\\dagger_{F, 03} + b_{F, 03}\\right) + g^{F}_3 |CS_{05}><CS_{05}| \\left(b^\\dagger_{F, 03} + b_{F, 03}\\right) + g^{F}_3 |CS_{06}><CS_{06}| \\left(b^\\dagger_{F, 03} + b_{F, 03}\\right) + g^{F}_3 |CS_{07}><CS_{07}| \\left(b^\\dagger_{F, 03} + b_{F, 03}\\right) + g^{F}_3 |CS_{08}><CS_{08}| \\left(b^\\dagger_{F, 03} + b_{F, 03}\\right) + g^{F}_3 |CS_{09}><CS_{09}| \\left(b^\\dagger_{F, 03} + b_{F, 03}\\right) + g^{F}_3 |CS_{10}><CS_{10}| \\left(b^\\dagger_{F, 03} + b_{F, 03}\\right) + g^{F}_3 |CS_{11}><CS_{11}| \\left(b^\\dagger_{F, 03} + b_{F, 03}\\right) + g^{F}_3 |CS_{12}><CS_{12}| \\left(b^\\dagger_{F, 03} + b_{F, 03}\\right) + g^{F}_3 |CS_{13}><CS_{13}| \\left(b^\\dagger_{F, 03} + b_{F, 03}\\right) + g^{F}_4 |CS_{01}><CS_{01}| \\left(b^\\dagger_{F, 04} + b_{F, 04}\\right) + g^{F}_4 |CS_{02}><CS_{02}| \\left(b^\\dagger_{F, 04} + b_{F, 04}\\right) + g^{F}_4 |CS_{03}><CS_{03}| \\left(b^\\dagger_{F, 04} + b_{F, 04}\\right) + g^{F}_4 |CS_{04}><CS_{04}| \\left(b^\\dagger_{F, 04} + b_{F, 04}\\right) + g^{F}_4 |CS_{05}><CS_{05}| \\left(b^\\dagger_{F, 04} + b_{F, 04}\\right) + g^{F}_4 |CS_{06}><CS_{06}| \\left(b^\\dagger_{F, 04} + b_{F, 04}\\right) + g^{F}_4 |CS_{07}><CS_{07}| \\left(b^\\dagger_{F, 04} + b_{F, 04}\\right) + g^{F}_4 |CS_{08}><CS_{08}| \\left(b^\\dagger_{F, 04} + b_{F, 04}\\right) + g^{F}_4 |CS_{09}><CS_{09}| \\left(b^\\dagger_{F, 04} + b_{F, 04}\\right) + g^{F}_4 |CS_{10}><CS_{10}| \\left(b^\\dagger_{F, 04} + b_{F, 04}\\right) + g^{F}_4 |CS_{11}><CS_{11}| \\left(b^\\dagger_{F, 04} + b_{F, 04}\\right) + g^{F}_4 |CS_{12}><CS_{12}| \\left(b^\\dagger_{F, 04} + b_{F, 04}\\right) + g^{F}_4 |CS_{13}><CS_{13}| \\left(b^\\dagger_{F, 04} + b_{F, 04}\\right) + g^{F}_5 |CS_{01}><CS_{01}| \\left(b^\\dagger_{F, 05} + b_{F, 05}\\right) + g^{F}_5 |CS_{02}><CS_{02}| \\left(b^\\dagger_{F, 05} + b_{F, 05}\\right) + g^{F}_5 |CS_{03}><CS_{03}| \\left(b^\\dagger_{F, 05} + b_{F, 05}\\right) + g^{F}_5 |CS_{04}><CS_{04}| \\left(b^\\dagger_{F, 05} + b_{F, 05}\\right) + g^{F}_5 |CS_{05}><CS_{05}| \\left(b^\\dagger_{F, 05} + b_{F, 05}\\right) + g^{F}_5 |CS_{06}><CS_{06}| \\left(b^\\dagger_{F, 05} + b_{F, 05}\\right) + g^{F}_5 |CS_{07}><CS_{07}| \\left(b^\\dagger_{F, 05} + b_{F, 05}\\right) + g^{F}_5 |CS_{08}><CS_{08}| \\left(b^\\dagger_{F, 05} + b_{F, 05}\\right) + g^{F}_5 |CS_{09}><CS_{09}| \\left(b^\\dagger_{F, 05} + b_{F, 05}\\right) + g^{F}_5 |CS_{10}><CS_{10}| \\left(b^\\dagger_{F, 05} + b_{F, 05}\\right) + g^{F}_5 |CS_{11}><CS_{11}| \\left(b^\\dagger_{F, 05} + b_{F, 05}\\right) + g^{F}_5 |CS_{12}><CS_{12}| \\left(b^\\dagger_{F, 05} + b_{F, 05}\\right) + g^{F}_5 |CS_{13}><CS_{13}| \\left(b^\\dagger_{F, 05} + b_{F, 05}\\right) + g^{F}_6 |CS_{01}><CS_{01}| \\left(b^\\dagger_{F, 06} + b_{F, 06}\\right) + g^{F}_6 |CS_{02}><CS_{02}| \\left(b^\\dagger_{F, 06} + b_{F, 06}\\right) + g^{F}_6 |CS_{03}><CS_{03}| \\left(b^\\dagger_{F, 06} + b_{F, 06}\\right) + g^{F}_6 |CS_{04}><CS_{04}| \\left(b^\\dagger_{F, 06} + b_{F, 06}\\right) + g^{F}_6 |CS_{05}><CS_{05}| \\left(b^\\dagger_{F, 06} + b_{F, 06}\\right) + g^{F}_6 |CS_{06}><CS_{06}| \\left(b^\\dagger_{F, 06} + b_{F, 06}\\right) + g^{F}_6 |CS_{07}><CS_{07}| \\left(b^\\dagger_{F, 06} + b_{F, 06}\\right) + g^{F}_6 |CS_{08}><CS_{08}| \\left(b^\\dagger_{F, 06} + b_{F, 06}\\right) + g^{F}_6 |CS_{09}><CS_{09}| \\left(b^\\dagger_{F, 06} + b_{F, 06}\\right) + g^{F}_6 |CS_{10}><CS_{10}| \\left(b^\\dagger_{F, 06} + b_{F, 06}\\right) + g^{F}_6 |CS_{11}><CS_{11}| \\left(b^\\dagger_{F, 06} + b_{F, 06}\\right) + g^{F}_6 |CS_{12}><CS_{12}| \\left(b^\\dagger_{F, 06} + b_{F, 06}\\right) + g^{F}_6 |CS_{13}><CS_{13}| \\left(b^\\dagger_{F, 06} + b_{F, 06}\\right) + g^{F}_7 |CS_{01}><CS_{01}| \\left(b^\\dagger_{F, 07} + b_{F, 07}\\right) + g^{F}_7 |CS_{02}><CS_{02}| \\left(b^\\dagger_{F, 07} + b_{F, 07}\\right) + g^{F}_7 |CS_{03}><CS_{03}| \\left(b^\\dagger_{F, 07} + b_{F, 07}\\right) + g^{F}_7 |CS_{04}><CS_{04}| \\left(b^\\dagger_{F, 07} + b_{F, 07}\\right) + g^{F}_7 |CS_{05}><CS_{05}| \\left(b^\\dagger_{F, 07} + b_{F, 07}\\right) + g^{F}_7 |CS_{06}><CS_{06}| \\left(b^\\dagger_{F, 07} + b_{F, 07}\\right) + g^{F}_7 |CS_{07}><CS_{07}| \\left(b^\\dagger_{F, 07} + b_{F, 07}\\right) + g^{F}_7 |CS_{08}><CS_{08}| \\left(b^\\dagger_{F, 07} + b_{F, 07}\\right) + g^{F}_7 |CS_{09}><CS_{09}| \\left(b^\\dagger_{F, 07} + b_{F, 07}\\right) + g^{F}_7 |CS_{10}><CS_{10}| \\left(b^\\dagger_{F, 07} + b_{F, 07}\\right) + g^{F}_7 |CS_{11}><CS_{11}| \\left(b^\\dagger_{F, 07} + b_{F, 07}\\right) + g^{F}_7 |CS_{12}><CS_{12}| \\left(b^\\dagger_{F, 07} + b_{F, 07}\\right) + g^{F}_7 |CS_{13}><CS_{13}| \\left(b^\\dagger_{F, 07} + b_{F, 07}\\right) + g^{F}_8 |CS_{01}><CS_{01}| \\left(b^\\dagger_{F, 08} + b_{F, 08}\\right) + g^{F}_8 |CS_{02}><CS_{02}| \\left(b^\\dagger_{F, 08} + b_{F, 08}\\right) + g^{F}_8 |CS_{03}><CS_{03}| \\left(b^\\dagger_{F, 08} + b_{F, 08}\\right) + g^{F}_8 |CS_{04}><CS_{04}| \\left(b^\\dagger_{F, 08} + b_{F, 08}\\right) + g^{F}_8 |CS_{05}><CS_{05}| \\left(b^\\dagger_{F, 08} + b_{F, 08}\\right) + g^{F}_8 |CS_{06}><CS_{06}| \\left(b^\\dagger_{F, 08} + b_{F, 08}\\right) + g^{F}_8 |CS_{07}><CS_{07}| \\left(b^\\dagger_{F, 08} + b_{F, 08}\\right) + g^{F}_8 |CS_{08}><CS_{08}| \\left(b^\\dagger_{F, 08} + b_{F, 08}\\right) + g^{F}_8 |CS_{09}><CS_{09}| \\left(b^\\dagger_{F, 08} + b_{F, 08}\\right) + g^{F}_8 |CS_{10}><CS_{10}| \\left(b^\\dagger_{F, 08} + b_{F, 08}\\right) + g^{F}_8 |CS_{11}><CS_{11}| \\left(b^\\dagger_{F, 08} + b_{F, 08}\\right) + g^{F}_8 |CS_{12}><CS_{12}| \\left(b^\\dagger_{F, 08} + b_{F, 08}\\right) + g^{F}_8 |CS_{13}><CS_{13}| \\left(b^\\dagger_{F, 08} + b_{F, 08}\\right) + g^{OT}_{CS, 01} |CS_{01}><CS_{01}| \\left(b^\\dagger_{OT, 01, 01} + b_{OT, 01, 01}\\right) + g^{OT}_{CS, 01} |CS_{02}><CS_{02}| \\left(b^\\dagger_{OT, 02, 01} + b_{OT, 02, 01}\\right) + g^{OT}_{CS, 01} |CS_{03}><CS_{03}| \\left(b^\\dagger_{OT, 03, 01} + b_{OT, 03, 01}\\right) + g^{OT}_{CS, 01} |CS_{04}><CS_{04}| \\left(b^\\dagger_{OT, 04, 01} + b_{OT, 04, 01}\\right) + g^{OT}_{CS, 01} |CS_{05}><CS_{05}| \\left(b^\\dagger_{OT, 05, 01} + b_{OT, 05, 01}\\right) + g^{OT}_{CS, 01} |CS_{06}><CS_{06}| \\left(b^\\dagger_{OT, 06, 01} + b_{OT, 06, 01}\\right) + g^{OT}_{CS, 01} |CS_{07}><CS_{07}| \\left(b^\\dagger_{OT, 07, 01} + b_{OT, 07, 01}\\right) + g^{OT}_{CS, 01} |CS_{08}><CS_{08}| \\left(b^\\dagger_{OT, 08, 01} + b_{OT, 08, 01}\\right) + g^{OT}_{CS, 01} |CS_{09}><CS_{09}| \\left(b^\\dagger_{OT, 09, 01} + b_{OT, 09, 01}\\right) + g^{OT}_{CS, 01} |CS_{10}><CS_{10}| \\left(b^\\dagger_{OT, 10, 01} + b_{OT, 10, 01}\\right) + g^{OT}_{CS, 01} |CS_{11}><CS_{11}| \\left(b^\\dagger_{OT, 11, 01} + b_{OT, 11, 01}\\right) + g^{OT}_{CS, 01} |CS_{12}><CS_{12}| \\left(b^\\dagger_{OT, 12, 01} + b_{OT, 12, 01}\\right) + g^{OT}_{CS, 01} |CS_{13}><CS_{13}| \\left(b^\\dagger_{OT, 13, 01} + b_{OT, 13, 01}\\right) + g^{OT}_{CS, 02} |CS_{01}><CS_{01}| \\left(b^\\dagger_{OT, 01, 02} + b_{OT, 01, 02}\\right) + g^{OT}_{CS, 02} |CS_{02}><CS_{02}| \\left(b^\\dagger_{OT, 02, 02} + b_{OT, 02, 02}\\right) + g^{OT}_{CS, 02} |CS_{03}><CS_{03}| \\left(b^\\dagger_{OT, 03, 02} + b_{OT, 03, 02}\\right) + g^{OT}_{CS, 02} |CS_{04}><CS_{04}| \\left(b^\\dagger_{OT, 04, 02} + b_{OT, 04, 02}\\right) + g^{OT}_{CS, 02} |CS_{05}><CS_{05}| \\left(b^\\dagger_{OT, 05, 02} + b_{OT, 05, 02}\\right) + g^{OT}_{CS, 02} |CS_{06}><CS_{06}| \\left(b^\\dagger_{OT, 06, 02} + b_{OT, 06, 02}\\right) + g^{OT}_{CS, 02} |CS_{07}><CS_{07}| \\left(b^\\dagger_{OT, 07, 02} + b_{OT, 07, 02}\\right) + g^{OT}_{CS, 02} |CS_{08}><CS_{08}| \\left(b^\\dagger_{OT, 08, 02} + b_{OT, 08, 02}\\right) + g^{OT}_{CS, 02} |CS_{09}><CS_{09}| \\left(b^\\dagger_{OT, 09, 02} + b_{OT, 09, 02}\\right) + g^{OT}_{CS, 02} |CS_{10}><CS_{10}| \\left(b^\\dagger_{OT, 10, 02} + b_{OT, 10, 02}\\right) + g^{OT}_{CS, 02} |CS_{11}><CS_{11}| \\left(b^\\dagger_{OT, 11, 02} + b_{OT, 11, 02}\\right) + g^{OT}_{CS, 02} |CS_{12}><CS_{12}| \\left(b^\\dagger_{OT, 12, 02} + b_{OT, 12, 02}\\right) + g^{OT}_{CS, 02} |CS_{13}><CS_{13}| \\left(b^\\dagger_{OT, 13, 02} + b_{OT, 13, 02}\\right) + g^{OT}_{CS, 03} |CS_{01}><CS_{01}| \\left(b^\\dagger_{OT, 01, 03} + b_{OT, 01, 03}\\right) + g^{OT}_{CS, 03} |CS_{02}><CS_{02}| \\left(b^\\dagger_{OT, 02, 03} + b_{OT, 02, 03}\\right) + g^{OT}_{CS, 03} |CS_{03}><CS_{03}| \\left(b^\\dagger_{OT, 03, 03} + b_{OT, 03, 03}\\right) + g^{OT}_{CS, 03} |CS_{04}><CS_{04}| \\left(b^\\dagger_{OT, 04, 03} + b_{OT, 04, 03}\\right) + g^{OT}_{CS, 03} |CS_{05}><CS_{05}| \\left(b^\\dagger_{OT, 05, 03} + b_{OT, 05, 03}\\right) + g^{OT}_{CS, 03} |CS_{06}><CS_{06}| \\left(b^\\dagger_{OT, 06, 03} + b_{OT, 06, 03}\\right) + g^{OT}_{CS, 03} |CS_{07}><CS_{07}| \\left(b^\\dagger_{OT, 07, 03} + b_{OT, 07, 03}\\right) + g^{OT}_{CS, 03} |CS_{08}><CS_{08}| \\left(b^\\dagger_{OT, 08, 03} + b_{OT, 08, 03}\\right) + g^{OT}_{CS, 03} |CS_{09}><CS_{09}| \\left(b^\\dagger_{OT, 09, 03} + b_{OT, 09, 03}\\right) + g^{OT}_{CS, 03} |CS_{10}><CS_{10}| \\left(b^\\dagger_{OT, 10, 03} + b_{OT, 10, 03}\\right) + g^{OT}_{CS, 03} |CS_{11}><CS_{11}| \\left(b^\\dagger_{OT, 11, 03} + b_{OT, 11, 03}\\right) + g^{OT}_{CS, 03} |CS_{12}><CS_{12}| \\left(b^\\dagger_{OT, 12, 03} + b_{OT, 12, 03}\\right) + g^{OT}_{CS, 03} |CS_{13}><CS_{13}| \\left(b^\\dagger_{OT, 13, 03} + b_{OT, 13, 03}\\right) + g^{OT}_{CS, 04} |CS_{01}><CS_{01}| \\left(b^\\dagger_{OT, 01, 04} + b_{OT, 01, 04}\\right) + g^{OT}_{CS, 04} |CS_{02}><CS_{02}| \\left(b^\\dagger_{OT, 02, 04} + b_{OT, 02, 04}\\right) + g^{OT}_{CS, 04} |CS_{03}><CS_{03}| \\left(b^\\dagger_{OT, 03, 04} + b_{OT, 03, 04}\\right) + g^{OT}_{CS, 04} |CS_{04}><CS_{04}| \\left(b^\\dagger_{OT, 04, 04} + b_{OT, 04, 04}\\right) + g^{OT}_{CS, 04} |CS_{05}><CS_{05}| \\left(b^\\dagger_{OT, 05, 04} + b_{OT, 05, 04}\\right) + g^{OT}_{CS, 04} |CS_{06}><CS_{06}| \\left(b^\\dagger_{OT, 06, 04} + b_{OT, 06, 04}\\right) + g^{OT}_{CS, 04} |CS_{07}><CS_{07}| \\left(b^\\dagger_{OT, 07, 04} + b_{OT, 07, 04}\\right) + g^{OT}_{CS, 04} |CS_{08}><CS_{08}| \\left(b^\\dagger_{OT, 08, 04} + b_{OT, 08, 04}\\right) + g^{OT}_{CS, 04} |CS_{09}><CS_{09}| \\left(b^\\dagger_{OT, 09, 04} + b_{OT, 09, 04}\\right) + g^{OT}_{CS, 04} |CS_{10}><CS_{10}| \\left(b^\\dagger_{OT, 10, 04} + b_{OT, 10, 04}\\right) + g^{OT}_{CS, 04} |CS_{11}><CS_{11}| \\left(b^\\dagger_{OT, 11, 04} + b_{OT, 11, 04}\\right) + g^{OT}_{CS, 04} |CS_{12}><CS_{12}| \\left(b^\\dagger_{OT, 12, 04} + b_{OT, 12, 04}\\right) + g^{OT}_{CS, 04} |CS_{13}><CS_{13}| \\left(b^\\dagger_{OT, 13, 04} + b_{OT, 13, 04}\\right) + g^{OT}_{CS, 05} |CS_{01}><CS_{01}| \\left(b^\\dagger_{OT, 01, 05} + b_{OT, 01, 05}\\right) + g^{OT}_{CS, 05} |CS_{02}><CS_{02}| \\left(b^\\dagger_{OT, 02, 05} + b_{OT, 02, 05}\\right) + g^{OT}_{CS, 05} |CS_{03}><CS_{03}| \\left(b^\\dagger_{OT, 03, 05} + b_{OT, 03, 05}\\right) + g^{OT}_{CS, 05} |CS_{04}><CS_{04}| \\left(b^\\dagger_{OT, 04, 05} + b_{OT, 04, 05}\\right) + g^{OT}_{CS, 05} |CS_{05}><CS_{05}| \\left(b^\\dagger_{OT, 05, 05} + b_{OT, 05, 05}\\right) + g^{OT}_{CS, 05} |CS_{06}><CS_{06}| \\left(b^\\dagger_{OT, 06, 05} + b_{OT, 06, 05}\\right) + g^{OT}_{CS, 05} |CS_{07}><CS_{07}| \\left(b^\\dagger_{OT, 07, 05} + b_{OT, 07, 05}\\right) + g^{OT}_{CS, 05} |CS_{08}><CS_{08}| \\left(b^\\dagger_{OT, 08, 05} + b_{OT, 08, 05}\\right) + g^{OT}_{CS, 05} |CS_{09}><CS_{09}| \\left(b^\\dagger_{OT, 09, 05} + b_{OT, 09, 05}\\right) + g^{OT}_{CS, 05} |CS_{10}><CS_{10}| \\left(b^\\dagger_{OT, 10, 05} + b_{OT, 10, 05}\\right) + g^{OT}_{CS, 05} |CS_{11}><CS_{11}| \\left(b^\\dagger_{OT, 11, 05} + b_{OT, 11, 05}\\right) + g^{OT}_{CS, 05} |CS_{12}><CS_{12}| \\left(b^\\dagger_{OT, 12, 05} + b_{OT, 12, 05}\\right) + g^{OT}_{CS, 05} |CS_{13}><CS_{13}| \\left(b^\\dagger_{OT, 13, 05} + b_{OT, 13, 05}\\right) + g^{OT}_{CS, 06} |CS_{01}><CS_{01}| \\left(b^\\dagger_{OT, 01, 06} + b_{OT, 01, 06}\\right) + g^{OT}_{CS, 06} |CS_{02}><CS_{02}| \\left(b^\\dagger_{OT, 02, 06} + b_{OT, 02, 06}\\right) + g^{OT}_{CS, 06} |CS_{03}><CS_{03}| \\left(b^\\dagger_{OT, 03, 06} + b_{OT, 03, 06}\\right) + g^{OT}_{CS, 06} |CS_{04}><CS_{04}| \\left(b^\\dagger_{OT, 04, 06} + b_{OT, 04, 06}\\right) + g^{OT}_{CS, 06} |CS_{05}><CS_{05}| \\left(b^\\dagger_{OT, 05, 06} + b_{OT, 05, 06}\\right) + g^{OT}_{CS, 06} |CS_{06}><CS_{06}| \\left(b^\\dagger_{OT, 06, 06} + b_{OT, 06, 06}\\right) + g^{OT}_{CS, 06} |CS_{07}><CS_{07}| \\left(b^\\dagger_{OT, 07, 06} + b_{OT, 07, 06}\\right) + g^{OT}_{CS, 06} |CS_{08}><CS_{08}| \\left(b^\\dagger_{OT, 08, 06} + b_{OT, 08, 06}\\right) + g^{OT}_{CS, 06} |CS_{09}><CS_{09}| \\left(b^\\dagger_{OT, 09, 06} + b_{OT, 09, 06}\\right) + g^{OT}_{CS, 06} |CS_{10}><CS_{10}| \\left(b^\\dagger_{OT, 10, 06} + b_{OT, 10, 06}\\right) + g^{OT}_{CS, 06} |CS_{11}><CS_{11}| \\left(b^\\dagger_{OT, 11, 06} + b_{OT, 11, 06}\\right) + g^{OT}_{CS, 06} |CS_{12}><CS_{12}| \\left(b^\\dagger_{OT, 12, 06} + b_{OT, 12, 06}\\right) + g^{OT}_{CS, 06} |CS_{13}><CS_{13}| \\left(b^\\dagger_{OT, 13, 06} + b_{OT, 13, 06}\\right) + g^{OT}_{CS, 07} |CS_{01}><CS_{01}| \\left(b^\\dagger_{OT, 01, 07} + b_{OT, 01, 07}\\right) + g^{OT}_{CS, 07} |CS_{02}><CS_{02}| \\left(b^\\dagger_{OT, 02, 07} + b_{OT, 02, 07}\\right) + g^{OT}_{CS, 07} |CS_{03}><CS_{03}| \\left(b^\\dagger_{OT, 03, 07} + b_{OT, 03, 07}\\right) + g^{OT}_{CS, 07} |CS_{04}><CS_{04}| \\left(b^\\dagger_{OT, 04, 07} + b_{OT, 04, 07}\\right) + g^{OT}_{CS, 07} |CS_{05}><CS_{05}| \\left(b^\\dagger_{OT, 05, 07} + b_{OT, 05, 07}\\right) + g^{OT}_{CS, 07} |CS_{06}><CS_{06}| \\left(b^\\dagger_{OT, 06, 07} + b_{OT, 06, 07}\\right) + g^{OT}_{CS, 07} |CS_{07}><CS_{07}| \\left(b^\\dagger_{OT, 07, 07} + b_{OT, 07, 07}\\right) + g^{OT}_{CS, 07} |CS_{08}><CS_{08}| \\left(b^\\dagger_{OT, 08, 07} + b_{OT, 08, 07}\\right) + g^{OT}_{CS, 07} |CS_{09}><CS_{09}| \\left(b^\\dagger_{OT, 09, 07} + b_{OT, 09, 07}\\right) + g^{OT}_{CS, 07} |CS_{10}><CS_{10}| \\left(b^\\dagger_{OT, 10, 07} + b_{OT, 10, 07}\\right) + g^{OT}_{CS, 07} |CS_{11}><CS_{11}| \\left(b^\\dagger_{OT, 11, 07} + b_{OT, 11, 07}\\right) + g^{OT}_{CS, 07} |CS_{12}><CS_{12}| \\left(b^\\dagger_{OT, 12, 07} + b_{OT, 12, 07}\\right) + g^{OT}_{CS, 07} |CS_{13}><CS_{13}| \\left(b^\\dagger_{OT, 13, 07} + b_{OT, 13, 07}\\right) + g^{OT}_{CS, 08} |CS_{01}><CS_{01}| \\left(b^\\dagger_{OT, 01, 08} + b_{OT, 01, 08}\\right) + g^{OT}_{CS, 08} |CS_{02}><CS_{02}| \\left(b^\\dagger_{OT, 02, 08} + b_{OT, 02, 08}\\right) + g^{OT}_{CS, 08} |CS_{03}><CS_{03}| \\left(b^\\dagger_{OT, 03, 08} + b_{OT, 03, 08}\\right) + g^{OT}_{CS, 08} |CS_{04}><CS_{04}| \\left(b^\\dagger_{OT, 04, 08} + b_{OT, 04, 08}\\right) + g^{OT}_{CS, 08} |CS_{05}><CS_{05}| \\left(b^\\dagger_{OT, 05, 08} + b_{OT, 05, 08}\\right) + g^{OT}_{CS, 08} |CS_{06}><CS_{06}| \\left(b^\\dagger_{OT, 06, 08} + b_{OT, 06, 08}\\right) + g^{OT}_{CS, 08} |CS_{07}><CS_{07}| \\left(b^\\dagger_{OT, 07, 08} + b_{OT, 07, 08}\\right) + g^{OT}_{CS, 08} |CS_{08}><CS_{08}| \\left(b^\\dagger_{OT, 08, 08} + b_{OT, 08, 08}\\right) + g^{OT}_{CS, 08} |CS_{09}><CS_{09}| \\left(b^\\dagger_{OT, 09, 08} + b_{OT, 09, 08}\\right) + g^{OT}_{CS, 08} |CS_{10}><CS_{10}| \\left(b^\\dagger_{OT, 10, 08} + b_{OT, 10, 08}\\right) + g^{OT}_{CS, 08} |CS_{11}><CS_{11}| \\left(b^\\dagger_{OT, 11, 08} + b_{OT, 11, 08}\\right) + g^{OT}_{CS, 08} |CS_{12}><CS_{12}| \\left(b^\\dagger_{OT, 12, 08} + b_{OT, 12, 08}\\right) + g^{OT}_{CS, 08} |CS_{13}><CS_{13}| \\left(b^\\dagger_{OT, 13, 08} + b_{OT, 13, 08}\\right) + g^{OT}_{LE, 01} |LE_{01}><LE_{01}| \\left(b^\\dagger_{OT, 01, 01} + b_{OT, 01, 01}\\right) + g^{OT}_{LE, 01} |LE_{02}><LE_{02}| \\left(b^\\dagger_{OT, 02, 01} + b_{OT, 02, 01}\\right) + g^{OT}_{LE, 01} |LE_{03}><LE_{03}| \\left(b^\\dagger_{OT, 03, 01} + b_{OT, 03, 01}\\right) + g^{OT}_{LE, 01} |LE_{04}><LE_{04}| \\left(b^\\dagger_{OT, 04, 01} + b_{OT, 04, 01}\\right) + g^{OT}_{LE, 01} |LE_{05}><LE_{05}| \\left(b^\\dagger_{OT, 05, 01} + b_{OT, 05, 01}\\right) + g^{OT}_{LE, 01} |LE_{06}><LE_{06}| \\left(b^\\dagger_{OT, 06, 01} + b_{OT, 06, 01}\\right) + g^{OT}_{LE, 01} |LE_{07}><LE_{07}| \\left(b^\\dagger_{OT, 07, 01} + b_{OT, 07, 01}\\right) + g^{OT}_{LE, 01} |LE_{08}><LE_{08}| \\left(b^\\dagger_{OT, 08, 01} + b_{OT, 08, 01}\\right) + g^{OT}_{LE, 01} |LE_{09}><LE_{09}| \\left(b^\\dagger_{OT, 09, 01} + b_{OT, 09, 01}\\right) + g^{OT}_{LE, 01} |LE_{10}><LE_{10}| \\left(b^\\dagger_{OT, 10, 01} + b_{OT, 10, 01}\\right) + g^{OT}_{LE, 01} |LE_{11}><LE_{11}| \\left(b^\\dagger_{OT, 11, 01} + b_{OT, 11, 01}\\right) + g^{OT}_{LE, 01} |LE_{12}><LE_{12}| \\left(b^\\dagger_{OT, 12, 01} + b_{OT, 12, 01}\\right) + g^{OT}_{LE, 01} |LE_{13}><LE_{13}| \\left(b^\\dagger_{OT, 13, 01} + b_{OT, 13, 01}\\right) + g^{OT}_{LE, 02} |LE_{01}><LE_{01}| \\left(b^\\dagger_{OT, 01, 02} + b_{OT, 01, 02}\\right) + g^{OT}_{LE, 02} |LE_{02}><LE_{02}| \\left(b^\\dagger_{OT, 02, 02} + b_{OT, 02, 02}\\right) + g^{OT}_{LE, 02} |LE_{03}><LE_{03}| \\left(b^\\dagger_{OT, 03, 02} + b_{OT, 03, 02}\\right) + g^{OT}_{LE, 02} |LE_{04}><LE_{04}| \\left(b^\\dagger_{OT, 04, 02} + b_{OT, 04, 02}\\right) + g^{OT}_{LE, 02} |LE_{05}><LE_{05}| \\left(b^\\dagger_{OT, 05, 02} + b_{OT, 05, 02}\\right) + g^{OT}_{LE, 02} |LE_{06}><LE_{06}| \\left(b^\\dagger_{OT, 06, 02} + b_{OT, 06, 02}\\right) + g^{OT}_{LE, 02} |LE_{07}><LE_{07}| \\left(b^\\dagger_{OT, 07, 02} + b_{OT, 07, 02}\\right) + g^{OT}_{LE, 02} |LE_{08}><LE_{08}| \\left(b^\\dagger_{OT, 08, 02} + b_{OT, 08, 02}\\right) + g^{OT}_{LE, 02} |LE_{09}><LE_{09}| \\left(b^\\dagger_{OT, 09, 02} + b_{OT, 09, 02}\\right) + g^{OT}_{LE, 02} |LE_{10}><LE_{10}| \\left(b^\\dagger_{OT, 10, 02} + b_{OT, 10, 02}\\right) + g^{OT}_{LE, 02} |LE_{11}><LE_{11}| \\left(b^\\dagger_{OT, 11, 02} + b_{OT, 11, 02}\\right) + g^{OT}_{LE, 02} |LE_{12}><LE_{12}| \\left(b^\\dagger_{OT, 12, 02} + b_{OT, 12, 02}\\right) + g^{OT}_{LE, 02} |LE_{13}><LE_{13}| \\left(b^\\dagger_{OT, 13, 02} + b_{OT, 13, 02}\\right) + g^{OT}_{LE, 03} |LE_{01}><LE_{01}| \\left(b^\\dagger_{OT, 01, 03} + b_{OT, 01, 03}\\right) + g^{OT}_{LE, 03} |LE_{02}><LE_{02}| \\left(b^\\dagger_{OT, 02, 03} + b_{OT, 02, 03}\\right) + g^{OT}_{LE, 03} |LE_{03}><LE_{03}| \\left(b^\\dagger_{OT, 03, 03} + b_{OT, 03, 03}\\right) + g^{OT}_{LE, 03} |LE_{04}><LE_{04}| \\left(b^\\dagger_{OT, 04, 03} + b_{OT, 04, 03}\\right) + g^{OT}_{LE, 03} |LE_{05}><LE_{05}| \\left(b^\\dagger_{OT, 05, 03} + b_{OT, 05, 03}\\right) + g^{OT}_{LE, 03} |LE_{06}><LE_{06}| \\left(b^\\dagger_{OT, 06, 03} + b_{OT, 06, 03}\\right) + g^{OT}_{LE, 03} |LE_{07}><LE_{07}| \\left(b^\\dagger_{OT, 07, 03} + b_{OT, 07, 03}\\right) + g^{OT}_{LE, 03} |LE_{08}><LE_{08}| \\left(b^\\dagger_{OT, 08, 03} + b_{OT, 08, 03}\\right) + g^{OT}_{LE, 03} |LE_{09}><LE_{09}| \\left(b^\\dagger_{OT, 09, 03} + b_{OT, 09, 03}\\right) + g^{OT}_{LE, 03} |LE_{10}><LE_{10}| \\left(b^\\dagger_{OT, 10, 03} + b_{OT, 10, 03}\\right) + g^{OT}_{LE, 03} |LE_{11}><LE_{11}| \\left(b^\\dagger_{OT, 11, 03} + b_{OT, 11, 03}\\right) + g^{OT}_{LE, 03} |LE_{12}><LE_{12}| \\left(b^\\dagger_{OT, 12, 03} + b_{OT, 12, 03}\\right) + g^{OT}_{LE, 03} |LE_{13}><LE_{13}| \\left(b^\\dagger_{OT, 13, 03} + b_{OT, 13, 03}\\right) + g^{OT}_{LE, 04} |LE_{01}><LE_{01}| \\left(b^\\dagger_{OT, 01, 04} + b_{OT, 01, 04}\\right) + g^{OT}_{LE, 04} |LE_{02}><LE_{02}| \\left(b^\\dagger_{OT, 02, 04} + b_{OT, 02, 04}\\right) + g^{OT}_{LE, 04} |LE_{03}><LE_{03}| \\left(b^\\dagger_{OT, 03, 04} + b_{OT, 03, 04}\\right) + g^{OT}_{LE, 04} |LE_{04}><LE_{04}| \\left(b^\\dagger_{OT, 04, 04} + b_{OT, 04, 04}\\right) + g^{OT}_{LE, 04} |LE_{05}><LE_{05}| \\left(b^\\dagger_{OT, 05, 04} + b_{OT, 05, 04}\\right) + g^{OT}_{LE, 04} |LE_{06}><LE_{06}| \\left(b^\\dagger_{OT, 06, 04} + b_{OT, 06, 04}\\right) + g^{OT}_{LE, 04} |LE_{07}><LE_{07}| \\left(b^\\dagger_{OT, 07, 04} + b_{OT, 07, 04}\\right) + g^{OT}_{LE, 04} |LE_{08}><LE_{08}| \\left(b^\\dagger_{OT, 08, 04} + b_{OT, 08, 04}\\right) + g^{OT}_{LE, 04} |LE_{09}><LE_{09}| \\left(b^\\dagger_{OT, 09, 04} + b_{OT, 09, 04}\\right) + g^{OT}_{LE, 04} |LE_{10}><LE_{10}| \\left(b^\\dagger_{OT, 10, 04} + b_{OT, 10, 04}\\right) + g^{OT}_{LE, 04} |LE_{11}><LE_{11}| \\left(b^\\dagger_{OT, 11, 04} + b_{OT, 11, 04}\\right) + g^{OT}_{LE, 04} |LE_{12}><LE_{12}| \\left(b^\\dagger_{OT, 12, 04} + b_{OT, 12, 04}\\right) + g^{OT}_{LE, 04} |LE_{13}><LE_{13}| \\left(b^\\dagger_{OT, 13, 04} + b_{OT, 13, 04}\\right) + g^{OT}_{LE, 05} |LE_{01}><LE_{01}| \\left(b^\\dagger_{OT, 01, 05} + b_{OT, 01, 05}\\right) + g^{OT}_{LE, 05} |LE_{02}><LE_{02}| \\left(b^\\dagger_{OT, 02, 05} + b_{OT, 02, 05}\\right) + g^{OT}_{LE, 05} |LE_{03}><LE_{03}| \\left(b^\\dagger_{OT, 03, 05} + b_{OT, 03, 05}\\right) + g^{OT}_{LE, 05} |LE_{04}><LE_{04}| \\left(b^\\dagger_{OT, 04, 05} + b_{OT, 04, 05}\\right) + g^{OT}_{LE, 05} |LE_{05}><LE_{05}| \\left(b^\\dagger_{OT, 05, 05} + b_{OT, 05, 05}\\right) + g^{OT}_{LE, 05} |LE_{06}><LE_{06}| \\left(b^\\dagger_{OT, 06, 05} + b_{OT, 06, 05}\\right) + g^{OT}_{LE, 05} |LE_{07}><LE_{07}| \\left(b^\\dagger_{OT, 07, 05} + b_{OT, 07, 05}\\right) + g^{OT}_{LE, 05} |LE_{08}><LE_{08}| \\left(b^\\dagger_{OT, 08, 05} + b_{OT, 08, 05}\\right) + g^{OT}_{LE, 05} |LE_{09}><LE_{09}| \\left(b^\\dagger_{OT, 09, 05} + b_{OT, 09, 05}\\right) + g^{OT}_{LE, 05} |LE_{10}><LE_{10}| \\left(b^\\dagger_{OT, 10, 05} + b_{OT, 10, 05}\\right) + g^{OT}_{LE, 05} |LE_{11}><LE_{11}| \\left(b^\\dagger_{OT, 11, 05} + b_{OT, 11, 05}\\right) + g^{OT}_{LE, 05} |LE_{12}><LE_{12}| \\left(b^\\dagger_{OT, 12, 05} + b_{OT, 12, 05}\\right) + g^{OT}_{LE, 05} |LE_{13}><LE_{13}| \\left(b^\\dagger_{OT, 13, 05} + b_{OT, 13, 05}\\right) + g^{OT}_{LE, 06} |LE_{01}><LE_{01}| \\left(b^\\dagger_{OT, 01, 06} + b_{OT, 01, 06}\\right) + g^{OT}_{LE, 06} |LE_{02}><LE_{02}| \\left(b^\\dagger_{OT, 02, 06} + b_{OT, 02, 06}\\right) + g^{OT}_{LE, 06} |LE_{03}><LE_{03}| \\left(b^\\dagger_{OT, 03, 06} + b_{OT, 03, 06}\\right) + g^{OT}_{LE, 06} |LE_{04}><LE_{04}| \\left(b^\\dagger_{OT, 04, 06} + b_{OT, 04, 06}\\right) + g^{OT}_{LE, 06} |LE_{05}><LE_{05}| \\left(b^\\dagger_{OT, 05, 06} + b_{OT, 05, 06}\\right) + g^{OT}_{LE, 06} |LE_{06}><LE_{06}| \\left(b^\\dagger_{OT, 06, 06} + b_{OT, 06, 06}\\right) + g^{OT}_{LE, 06} |LE_{07}><LE_{07}| \\left(b^\\dagger_{OT, 07, 06} + b_{OT, 07, 06}\\right) + g^{OT}_{LE, 06} |LE_{08}><LE_{08}| \\left(b^\\dagger_{OT, 08, 06} + b_{OT, 08, 06}\\right) + g^{OT}_{LE, 06} |LE_{09}><LE_{09}| \\left(b^\\dagger_{OT, 09, 06} + b_{OT, 09, 06}\\right) + g^{OT}_{LE, 06} |LE_{10}><LE_{10}| \\left(b^\\dagger_{OT, 10, 06} + b_{OT, 10, 06}\\right) + g^{OT}_{LE, 06} |LE_{11}><LE_{11}| \\left(b^\\dagger_{OT, 11, 06} + b_{OT, 11, 06}\\right) + g^{OT}_{LE, 06} |LE_{12}><LE_{12}| \\left(b^\\dagger_{OT, 12, 06} + b_{OT, 12, 06}\\right) + g^{OT}_{LE, 06} |LE_{13}><LE_{13}| \\left(b^\\dagger_{OT, 13, 06} + b_{OT, 13, 06}\\right) + g^{OT}_{LE, 07} |LE_{01}><LE_{01}| \\left(b^\\dagger_{OT, 01, 07} + b_{OT, 01, 07}\\right) + g^{OT}_{LE, 07} |LE_{02}><LE_{02}| \\left(b^\\dagger_{OT, 02, 07} + b_{OT, 02, 07}\\right) + g^{OT}_{LE, 07} |LE_{03}><LE_{03}| \\left(b^\\dagger_{OT, 03, 07} + b_{OT, 03, 07}\\right) + g^{OT}_{LE, 07} |LE_{04}><LE_{04}| \\left(b^\\dagger_{OT, 04, 07} + b_{OT, 04, 07}\\right) + g^{OT}_{LE, 07} |LE_{05}><LE_{05}| \\left(b^\\dagger_{OT, 05, 07} + b_{OT, 05, 07}\\right) + g^{OT}_{LE, 07} |LE_{06}><LE_{06}| \\left(b^\\dagger_{OT, 06, 07} + b_{OT, 06, 07}\\right) + g^{OT}_{LE, 07} |LE_{07}><LE_{07}| \\left(b^\\dagger_{OT, 07, 07} + b_{OT, 07, 07}\\right) + g^{OT}_{LE, 07} |LE_{08}><LE_{08}| \\left(b^\\dagger_{OT, 08, 07} + b_{OT, 08, 07}\\right) + g^{OT}_{LE, 07} |LE_{09}><LE_{09}| \\left(b^\\dagger_{OT, 09, 07} + b_{OT, 09, 07}\\right) + g^{OT}_{LE, 07} |LE_{10}><LE_{10}| \\left(b^\\dagger_{OT, 10, 07} + b_{OT, 10, 07}\\right) + g^{OT}_{LE, 07} |LE_{11}><LE_{11}| \\left(b^\\dagger_{OT, 11, 07} + b_{OT, 11, 07}\\right) + g^{OT}_{LE, 07} |LE_{12}><LE_{12}| \\left(b^\\dagger_{OT, 12, 07} + b_{OT, 12, 07}\\right) + g^{OT}_{LE, 07} |LE_{13}><LE_{13}| \\left(b^\\dagger_{OT, 13, 07} + b_{OT, 13, 07}\\right) + g^{OT}_{LE, 08} |LE_{01}><LE_{01}| \\left(b^\\dagger_{OT, 01, 08} + b_{OT, 01, 08}\\right) + g^{OT}_{LE, 08} |LE_{02}><LE_{02}| \\left(b^\\dagger_{OT, 02, 08} + b_{OT, 02, 08}\\right) + g^{OT}_{LE, 08} |LE_{03}><LE_{03}| \\left(b^\\dagger_{OT, 03, 08} + b_{OT, 03, 08}\\right) + g^{OT}_{LE, 08} |LE_{04}><LE_{04}| \\left(b^\\dagger_{OT, 04, 08} + b_{OT, 04, 08}\\right) + g^{OT}_{LE, 08} |LE_{05}><LE_{05}| \\left(b^\\dagger_{OT, 05, 08} + b_{OT, 05, 08}\\right) + g^{OT}_{LE, 08} |LE_{06}><LE_{06}| \\left(b^\\dagger_{OT, 06, 08} + b_{OT, 06, 08}\\right) + g^{OT}_{LE, 08} |LE_{07}><LE_{07}| \\left(b^\\dagger_{OT, 07, 08} + b_{OT, 07, 08}\\right) + g^{OT}_{LE, 08} |LE_{08}><LE_{08}| \\left(b^\\dagger_{OT, 08, 08} + b_{OT, 08, 08}\\right) + g^{OT}_{LE, 08} |LE_{09}><LE_{09}| \\left(b^\\dagger_{OT, 09, 08} + b_{OT, 09, 08}\\right) + g^{OT}_{LE, 08} |LE_{10}><LE_{10}| \\left(b^\\dagger_{OT, 10, 08} + b_{OT, 10, 08}\\right) + g^{OT}_{LE, 08} |LE_{11}><LE_{11}| \\left(b^\\dagger_{OT, 11, 08} + b_{OT, 11, 08}\\right) + g^{OT}_{LE, 08} |LE_{12}><LE_{12}| \\left(b^\\dagger_{OT, 12, 08} + b_{OT, 12, 08}\\right) + g^{OT}_{LE, 08} |LE_{13}><LE_{13}| \\left(b^\\dagger_{OT, 13, 08} + b_{OT, 13, 08}\\right) + g_{CS, CS} |CS_{01}><CS_{01}| \\left(b^{\\dagger}_R + b_{R}\\right) + g_{LE, CS} (<LE|CS> + h.c.) \\left(b^{\\dagger}_R + b_{R}\\right) + t \\left((|CS_{01}><CS_{02}|+h.c.) + (|CS_{02}><CS_{03}|+h.c.) + (|CS_{03}><CS_{04}|+h.c.) + (|CS_{04}><CS_{05}|+h.c.) + (|CS_{05}><CS_{06}|+h.c.) + (|CS_{06}><CS_{07}|+h.c.) + (|CS_{07}><CS_{08}|+h.c.) + (|CS_{08}><CS_{09}|+h.c.) + (|CS_{09}><CS_{10}|+h.c.) + (|CS_{10}><CS_{11}|+h.c.) + (|CS_{11}><CS_{12}|+h.c.) + (|CS_{12}><CS_{13}|+h.c.)\\right) + ε^{LE} \\left(|LE_{01}><LE_{01}| + |LE_{02}><LE_{02}| + |LE_{03}><LE_{03}| + |LE_{04}><LE_{04}| + |LE_{05}><LE_{05}| + |LE_{06}><LE_{06}| + |LE_{07}><LE_{07}| + |LE_{08}><LE_{08}| + |LE_{09}><LE_{09}| + |LE_{10}><LE_{10}| + |LE_{11}><LE_{11}| + |LE_{12}><LE_{12}| + |LE_{13}><LE_{13}|\\right) + ε^{{CS}}_{01} |CS_{01}><CS_{01}| + ε^{{CS}}_{02} |CS_{02}><CS_{02}| + ε^{{CS}}_{03} |CS_{03}><CS_{03}| + ε^{{CS}}_{04} |CS_{04}><CS_{04}| + ε^{{CS}}_{05} |CS_{05}><CS_{05}| + ε^{{CS}}_{06} |CS_{06}><CS_{06}| + ε^{{CS}}_{07} |CS_{07}><CS_{07}| + ε^{{CS}}_{08} |CS_{08}><CS_{08}| + ε^{{CS}}_{09} |CS_{09}><CS_{09}| + ε^{{CS}}_{10} |CS_{10}><CS_{10}| + ε^{{CS}}_{11} |CS_{11}><CS_{11}| + ε^{{CS}}_{12} |CS_{12}><CS_{12}| + ε^{{CS}}_{13} |CS_{13}><CS_{13}| + λ (<LE|CS> + h.c.) + ω b^{\\dagger}_R b_{R} + ω^{F}_1 b_{F, 01} b^\\dagger_{F, 01} + ω^{F}_2 b_{F, 02} b^\\dagger_{F, 02} + ω^{F}_3 b_{F, 03} b^\\dagger_{F, 03} + ω^{F}_4 b_{F, 04} b^\\dagger_{F, 04} + ω^{F}_5 b_{F, 05} b^\\dagger_{F, 05} + ω^{F}_6 b_{F, 06} b^\\dagger_{F, 06} + ω^{F}_7 b_{F, 07} b^\\dagger_{F, 07} + ω^{F}_8 b_{F, 08} b^\\dagger_{F, 08} + ω^{OT}_1 b_{OT, 01, 01} b^\\dagger_{OT, 01, 01} + ω^{OT}_1 b_{OT, 02, 01} b^\\dagger_{OT, 02, 01} + ω^{OT}_1 b_{OT, 03, 01} b^\\dagger_{OT, 03, 01} + ω^{OT}_1 b_{OT, 04, 01} b^\\dagger_{OT, 04, 01} + ω^{OT}_1 b_{OT, 05, 01} b^\\dagger_{OT, 05, 01} + ω^{OT}_1 b_{OT, 06, 01} b^\\dagger_{OT, 06, 01} + ω^{OT}_1 b_{OT, 07, 01} b^\\dagger_{OT, 07, 01} + ω^{OT}_1 b_{OT, 08, 01} b^\\dagger_{OT, 08, 01} + ω^{OT}_1 b_{OT, 09, 01} b^\\dagger_{OT, 09, 01} + ω^{OT}_1 b_{OT, 10, 01} b^\\dagger_{OT, 10, 01} + ω^{OT}_1 b_{OT, 11, 01} b^\\dagger_{OT, 11, 01} + ω^{OT}_1 b_{OT, 12, 01} b^\\dagger_{OT, 12, 01} + ω^{OT}_1 b_{OT, 13, 01} b^\\dagger_{OT, 13, 01} + ω^{OT}_2 b_{OT, 01, 02} b^\\dagger_{OT, 01, 02} + ω^{OT}_2 b_{OT, 02, 02} b^\\dagger_{OT, 02, 02} + ω^{OT}_2 b_{OT, 03, 02} b^\\dagger_{OT, 03, 02} + ω^{OT}_2 b_{OT, 04, 02} b^\\dagger_{OT, 04, 02} + ω^{OT}_2 b_{OT, 05, 02} b^\\dagger_{OT, 05, 02} + ω^{OT}_2 b_{OT, 06, 02} b^\\dagger_{OT, 06, 02} + ω^{OT}_2 b_{OT, 07, 02} b^\\dagger_{OT, 07, 02} + ω^{OT}_2 b_{OT, 08, 02} b^\\dagger_{OT, 08, 02} + ω^{OT}_2 b_{OT, 09, 02} b^\\dagger_{OT, 09, 02} + ω^{OT}_2 b_{OT, 10, 02} b^\\dagger_{OT, 10, 02} + ω^{OT}_2 b_{OT, 11, 02} b^\\dagger_{OT, 11, 02} + ω^{OT}_2 b_{OT, 12, 02} b^\\dagger_{OT, 12, 02} + ω^{OT}_2 b_{OT, 13, 02} b^\\dagger_{OT, 13, 02} + ω^{OT}_3 b_{OT, 01, 03} b^\\dagger_{OT, 01, 03} + ω^{OT}_3 b_{OT, 02, 03} b^\\dagger_{OT, 02, 03} + ω^{OT}_3 b_{OT, 03, 03} b^\\dagger_{OT, 03, 03} + ω^{OT}_3 b_{OT, 04, 03} b^\\dagger_{OT, 04, 03} + ω^{OT}_3 b_{OT, 05, 03} b^\\dagger_{OT, 05, 03} + ω^{OT}_3 b_{OT, 06, 03} b^\\dagger_{OT, 06, 03} + ω^{OT}_3 b_{OT, 07, 03} b^\\dagger_{OT, 07, 03} + ω^{OT}_3 b_{OT, 08, 03} b^\\dagger_{OT, 08, 03} + ω^{OT}_3 b_{OT, 09, 03} b^\\dagger_{OT, 09, 03} + ω^{OT}_3 b_{OT, 10, 03} b^\\dagger_{OT, 10, 03} + ω^{OT}_3 b_{OT, 11, 03} b^\\dagger_{OT, 11, 03} + ω^{OT}_3 b_{OT, 12, 03} b^\\dagger_{OT, 12, 03} + ω^{OT}_3 b_{OT, 13, 03} b^\\dagger_{OT, 13, 03} + ω^{OT}_4 b_{OT, 01, 04} b^\\dagger_{OT, 01, 04} + ω^{OT}_4 b_{OT, 02, 04} b^\\dagger_{OT, 02, 04} + ω^{OT}_4 b_{OT, 03, 04} b^\\dagger_{OT, 03, 04} + ω^{OT}_4 b_{OT, 04, 04} b^\\dagger_{OT, 04, 04} + ω^{OT}_4 b_{OT, 05, 04} b^\\dagger_{OT, 05, 04} + ω^{OT}_4 b_{OT, 06, 04} b^\\dagger_{OT, 06, 04} + ω^{OT}_4 b_{OT, 07, 04} b^\\dagger_{OT, 07, 04} + ω^{OT}_4 b_{OT, 08, 04} b^\\dagger_{OT, 08, 04} + ω^{OT}_4 b_{OT, 09, 04} b^\\dagger_{OT, 09, 04} + ω^{OT}_4 b_{OT, 10, 04} b^\\dagger_{OT, 10, 04} + ω^{OT}_4 b_{OT, 11, 04} b^\\dagger_{OT, 11, 04} + ω^{OT}_4 b_{OT, 12, 04} b^\\dagger_{OT, 12, 04} + ω^{OT}_4 b_{OT, 13, 04} b^\\dagger_{OT, 13, 04} + ω^{OT}_5 b_{OT, 01, 05} b^\\dagger_{OT, 01, 05} + ω^{OT}_5 b_{OT, 02, 05} b^\\dagger_{OT, 02, 05} + ω^{OT}_5 b_{OT, 03, 05} b^\\dagger_{OT, 03, 05} + ω^{OT}_5 b_{OT, 04, 05} b^\\dagger_{OT, 04, 05} + ω^{OT}_5 b_{OT, 05, 05} b^\\dagger_{OT, 05, 05} + ω^{OT}_5 b_{OT, 06, 05} b^\\dagger_{OT, 06, 05} + ω^{OT}_5 b_{OT, 07, 05} b^\\dagger_{OT, 07, 05} + ω^{OT}_5 b_{OT, 08, 05} b^\\dagger_{OT, 08, 05} + ω^{OT}_5 b_{OT, 09, 05} b^\\dagger_{OT, 09, 05} + ω^{OT}_5 b_{OT, 10, 05} b^\\dagger_{OT, 10, 05} + ω^{OT}_5 b_{OT, 11, 05} b^\\dagger_{OT, 11, 05} + ω^{OT}_5 b_{OT, 12, 05} b^\\dagger_{OT, 12, 05} + ω^{OT}_5 b_{OT, 13, 05} b^\\dagger_{OT, 13, 05} + ω^{OT}_6 b_{OT, 01, 06} b^\\dagger_{OT, 01, 06} + ω^{OT}_6 b_{OT, 02, 06} b^\\dagger_{OT, 02, 06} + ω^{OT}_6 b_{OT, 03, 06} b^\\dagger_{OT, 03, 06} + ω^{OT}_6 b_{OT, 04, 06} b^\\dagger_{OT, 04, 06} + ω^{OT}_6 b_{OT, 05, 06} b^\\dagger_{OT, 05, 06} + ω^{OT}_6 b_{OT, 06, 06} b^\\dagger_{OT, 06, 06} + ω^{OT}_6 b_{OT, 07, 06} b^\\dagger_{OT, 07, 06} + ω^{OT}_6 b_{OT, 08, 06} b^\\dagger_{OT, 08, 06} + ω^{OT}_6 b_{OT, 09, 06} b^\\dagger_{OT, 09, 06} + ω^{OT}_6 b_{OT, 10, 06} b^\\dagger_{OT, 10, 06} + ω^{OT}_6 b_{OT, 11, 06} b^\\dagger_{OT, 11, 06} + ω^{OT}_6 b_{OT, 12, 06} b^\\dagger_{OT, 12, 06} + ω^{OT}_6 b_{OT, 13, 06} b^\\dagger_{OT, 13, 06} + ω^{OT}_7 b_{OT, 01, 07} b^\\dagger_{OT, 01, 07} + ω^{OT}_7 b_{OT, 02, 07} b^\\dagger_{OT, 02, 07} + ω^{OT}_7 b_{OT, 03, 07} b^\\dagger_{OT, 03, 07} + ω^{OT}_7 b_{OT, 04, 07} b^\\dagger_{OT, 04, 07} + ω^{OT}_7 b_{OT, 05, 07} b^\\dagger_{OT, 05, 07} + ω^{OT}_7 b_{OT, 06, 07} b^\\dagger_{OT, 06, 07} + ω^{OT}_7 b_{OT, 07, 07} b^\\dagger_{OT, 07, 07} + ω^{OT}_7 b_{OT, 08, 07} b^\\dagger_{OT, 08, 07} + ω^{OT}_7 b_{OT, 09, 07} b^\\dagger_{OT, 09, 07} + ω^{OT}_7 b_{OT, 10, 07} b^\\dagger_{OT, 10, 07} + ω^{OT}_7 b_{OT, 11, 07} b^\\dagger_{OT, 11, 07} + ω^{OT}_7 b_{OT, 12, 07} b^\\dagger_{OT, 12, 07} + ω^{OT}_7 b_{OT, 13, 07} b^\\dagger_{OT, 13, 07} + ω^{OT}_8 b_{OT, 01, 08} b^\\dagger_{OT, 01, 08} + ω^{OT}_8 b_{OT, 02, 08} b^\\dagger_{OT, 02, 08} + ω^{OT}_8 b_{OT, 03, 08} b^\\dagger_{OT, 03, 08} + ω^{OT}_8 b_{OT, 04, 08} b^\\dagger_{OT, 04, 08} + ω^{OT}_8 b_{OT, 05, 08} b^\\dagger_{OT, 05, 08} + ω^{OT}_8 b_{OT, 06, 08} b^\\dagger_{OT, 06, 08} + ω^{OT}_8 b_{OT, 07, 08} b^\\dagger_{OT, 07, 08} + ω^{OT}_8 b_{OT, 08, 08} b^\\dagger_{OT, 08, 08} + ω^{OT}_8 b_{OT, 09, 08} b^\\dagger_{OT, 09, 08} + ω^{OT}_8 b_{OT, 10, 08} b^\\dagger_{OT, 10, 08} + ω^{OT}_8 b_{OT, 11, 08} b^\\dagger_{OT, 11, 08} + ω^{OT}_8 b_{OT, 12, 08} b^\\dagger_{OT, 12, 08} + ω^{OT}_8 b_{OT, 13, 08} b^\\dagger_{OT, 13, 08}$"
      ],
      "text/plain": [
       "J*((|LE_{01}><LE_{02}|+h.c.) + (|LE_{02}><LE_{03}|+h.c.) + (|LE_{03}><LE_{04}|+h.c.) + (|LE_{04}><LE_{05}|+h.c.) + (|LE_{05}><LE_{06}|+h.c.) + (|LE_{06}><LE_{07}|+h.c.) + (|LE_{07}><LE_{08}|+h.c.) + (|LE_{08}><LE_{09}|+h.c.) + (|LE_{09}><LE_{10}|+h.c.) + (|LE_{10}><LE_{11}|+h.c.) + (|LE_{11}><LE_{12}|+h.c.) + (|LE_{12}><LE_{13}|+h.c.)) + g^{F}_1*|CS_{01}><CS_{01}|*(b^\\dagger_{F, 01} + b_{F, 01}) + g^{F}_1*|CS_{02}><CS_{02}|*(b^\\dagger_{F, 01} + b_{F, 01}) + g^{F}_1*|CS_{03}><CS_{03}|*(b^\\dagger_{F, 01} + b_{F, 01}) + g^{F}_1*|CS_{04}><CS_{04}|*(b^\\dagger_{F, 01} + b_{F, 01}) + g^{F}_1*|CS_{05}><CS_{05}|*(b^\\dagger_{F, 01} + b_{F, 01}) + g^{F}_1*|CS_{06}><CS_{06}|*(b^\\dagger_{F, 01} + b_{F, 01}) + g^{F}_1*|CS_{07}><CS_{07}|*(b^\\dagger_{F, 01} + b_{F, 01}) + g^{F}_1*|CS_{08}><CS_{08}|*(b^\\dagger_{F, 01} + b_{F, 01}) + g^{F}_1*|CS_{09}><CS_{09}|*(b^\\dagger_{F, 01} + b_{F, 01}) + g^{F}_1*|CS_{10}><CS_{10}|*(b^\\dagger_{F, 01} + b_{F, 01}) + g^{F}_1*|CS_{11}><CS_{11}|*(b^\\dagger_{F, 01} + b_{F, 01}) + g^{F}_1*|CS_{12}><CS_{12}|*(b^\\dagger_{F, 01} + b_{F, 01}) + g^{F}_1*|CS_{13}><CS_{13}|*(b^\\dagger_{F, 01} + b_{F, 01}) + g^{F}_2*|CS_{01}><CS_{01}|*(b^\\dagger_{F, 02} + b_{F, 02}) + g^{F}_2*|CS_{02}><CS_{02}|*(b^\\dagger_{F, 02} + b_{F, 02}) + g^{F}_2*|CS_{03}><CS_{03}|*(b^\\dagger_{F, 02} + b_{F, 02}) + g^{F}_2*|CS_{04}><CS_{04}|*(b^\\dagger_{F, 02} + b_{F, 02}) + g^{F}_2*|CS_{05}><CS_{05}|*(b^\\dagger_{F, 02} + b_{F, 02}) + g^{F}_2*|CS_{06}><CS_{06}|*(b^\\dagger_{F, 02} + b_{F, 02}) + g^{F}_2*|CS_{07}><CS_{07}|*(b^\\dagger_{F, 02} + b_{F, 02}) + g^{F}_2*|CS_{08}><CS_{08}|*(b^\\dagger_{F, 02} + b_{F, 02}) + g^{F}_2*|CS_{09}><CS_{09}|*(b^\\dagger_{F, 02} + b_{F, 02}) + g^{F}_2*|CS_{10}><CS_{10}|*(b^\\dagger_{F, 02} + b_{F, 02}) + g^{F}_2*|CS_{11}><CS_{11}|*(b^\\dagger_{F, 02} + b_{F, 02}) + g^{F}_2*|CS_{12}><CS_{12}|*(b^\\dagger_{F, 02} + b_{F, 02}) + g^{F}_2*|CS_{13}><CS_{13}|*(b^\\dagger_{F, 02} + b_{F, 02}) + g^{F}_3*|CS_{01}><CS_{01}|*(b^\\dagger_{F, 03} + b_{F, 03}) + g^{F}_3*|CS_{02}><CS_{02}|*(b^\\dagger_{F, 03} + b_{F, 03}) + g^{F}_3*|CS_{03}><CS_{03}|*(b^\\dagger_{F, 03} + b_{F, 03}) + g^{F}_3*|CS_{04}><CS_{04}|*(b^\\dagger_{F, 03} + b_{F, 03}) + g^{F}_3*|CS_{05}><CS_{05}|*(b^\\dagger_{F, 03} + b_{F, 03}) + g^{F}_3*|CS_{06}><CS_{06}|*(b^\\dagger_{F, 03} + b_{F, 03}) + g^{F}_3*|CS_{07}><CS_{07}|*(b^\\dagger_{F, 03} + b_{F, 03}) + g^{F}_3*|CS_{08}><CS_{08}|*(b^\\dagger_{F, 03} + b_{F, 03}) + g^{F}_3*|CS_{09}><CS_{09}|*(b^\\dagger_{F, 03} + b_{F, 03}) + g^{F}_3*|CS_{10}><CS_{10}|*(b^\\dagger_{F, 03} + b_{F, 03}) + g^{F}_3*|CS_{11}><CS_{11}|*(b^\\dagger_{F, 03} + b_{F, 03}) + g^{F}_3*|CS_{12}><CS_{12}|*(b^\\dagger_{F, 03} + b_{F, 03}) + g^{F}_3*|CS_{13}><CS_{13}|*(b^\\dagger_{F, 03} + b_{F, 03}) + g^{F}_4*|CS_{01}><CS_{01}|*(b^\\dagger_{F, 04} + b_{F, 04}) + g^{F}_4*|CS_{02}><CS_{02}|*(b^\\dagger_{F, 04} + b_{F, 04}) + g^{F}_4*|CS_{03}><CS_{03}|*(b^\\dagger_{F, 04} + b_{F, 04}) + g^{F}_4*|CS_{04}><CS_{04}|*(b^\\dagger_{F, 04} + b_{F, 04}) + g^{F}_4*|CS_{05}><CS_{05}|*(b^\\dagger_{F, 04} + b_{F, 04}) + g^{F}_4*|CS_{06}><CS_{06}|*(b^\\dagger_{F, 04} + b_{F, 04}) + g^{F}_4*|CS_{07}><CS_{07}|*(b^\\dagger_{F, 04} + b_{F, 04}) + g^{F}_4*|CS_{08}><CS_{08}|*(b^\\dagger_{F, 04} + b_{F, 04}) + g^{F}_4*|CS_{09}><CS_{09}|*(b^\\dagger_{F, 04} + b_{F, 04}) + g^{F}_4*|CS_{10}><CS_{10}|*(b^\\dagger_{F, 04} + b_{F, 04}) + g^{F}_4*|CS_{11}><CS_{11}|*(b^\\dagger_{F, 04} + b_{F, 04}) + g^{F}_4*|CS_{12}><CS_{12}|*(b^\\dagger_{F, 04} + b_{F, 04}) + g^{F}_4*|CS_{13}><CS_{13}|*(b^\\dagger_{F, 04} + b_{F, 04}) + g^{F}_5*|CS_{01}><CS_{01}|*(b^\\dagger_{F, 05} + b_{F, 05}) + g^{F}_5*|CS_{02}><CS_{02}|*(b^\\dagger_{F, 05} + b_{F, 05}) + g^{F}_5*|CS_{03}><CS_{03}|*(b^\\dagger_{F, 05} + b_{F, 05}) + g^{F}_5*|CS_{04}><CS_{04}|*(b^\\dagger_{F, 05} + b_{F, 05}) + g^{F}_5*|CS_{05}><CS_{05}|*(b^\\dagger_{F, 05} + b_{F, 05}) + g^{F}_5*|CS_{06}><CS_{06}|*(b^\\dagger_{F, 05} + b_{F, 05}) + g^{F}_5*|CS_{07}><CS_{07}|*(b^\\dagger_{F, 05} + b_{F, 05}) + g^{F}_5*|CS_{08}><CS_{08}|*(b^\\dagger_{F, 05} + b_{F, 05}) + g^{F}_5*|CS_{09}><CS_{09}|*(b^\\dagger_{F, 05} + b_{F, 05}) + g^{F}_5*|CS_{10}><CS_{10}|*(b^\\dagger_{F, 05} + b_{F, 05}) + g^{F}_5*|CS_{11}><CS_{11}|*(b^\\dagger_{F, 05} + b_{F, 05}) + g^{F}_5*|CS_{12}><CS_{12}|*(b^\\dagger_{F, 05} + b_{F, 05}) + g^{F}_5*|CS_{13}><CS_{13}|*(b^\\dagger_{F, 05} + b_{F, 05}) + g^{F}_6*|CS_{01}><CS_{01}|*(b^\\dagger_{F, 06} + b_{F, 06}) + g^{F}_6*|CS_{02}><CS_{02}|*(b^\\dagger_{F, 06} + b_{F, 06}) + g^{F}_6*|CS_{03}><CS_{03}|*(b^\\dagger_{F, 06} + b_{F, 06}) + g^{F}_6*|CS_{04}><CS_{04}|*(b^\\dagger_{F, 06} + b_{F, 06}) + g^{F}_6*|CS_{05}><CS_{05}|*(b^\\dagger_{F, 06} + b_{F, 06}) + g^{F}_6*|CS_{06}><CS_{06}|*(b^\\dagger_{F, 06} + b_{F, 06}) + g^{F}_6*|CS_{07}><CS_{07}|*(b^\\dagger_{F, 06} + b_{F, 06}) + g^{F}_6*|CS_{08}><CS_{08}|*(b^\\dagger_{F, 06} + b_{F, 06}) + g^{F}_6*|CS_{09}><CS_{09}|*(b^\\dagger_{F, 06} + b_{F, 06}) + g^{F}_6*|CS_{10}><CS_{10}|*(b^\\dagger_{F, 06} + b_{F, 06}) + g^{F}_6*|CS_{11}><CS_{11}|*(b^\\dagger_{F, 06} + b_{F, 06}) + g^{F}_6*|CS_{12}><CS_{12}|*(b^\\dagger_{F, 06} + b_{F, 06}) + g^{F}_6*|CS_{13}><CS_{13}|*(b^\\dagger_{F, 06} + b_{F, 06}) + g^{F}_7*|CS_{01}><CS_{01}|*(b^\\dagger_{F, 07} + b_{F, 07}) + g^{F}_7*|CS_{02}><CS_{02}|*(b^\\dagger_{F, 07} + b_{F, 07}) + g^{F}_7*|CS_{03}><CS_{03}|*(b^\\dagger_{F, 07} + b_{F, 07}) + g^{F}_7*|CS_{04}><CS_{04}|*(b^\\dagger_{F, 07} + b_{F, 07}) + g^{F}_7*|CS_{05}><CS_{05}|*(b^\\dagger_{F, 07} + b_{F, 07}) + g^{F}_7*|CS_{06}><CS_{06}|*(b^\\dagger_{F, 07} + b_{F, 07}) + g^{F}_7*|CS_{07}><CS_{07}|*(b^\\dagger_{F, 07} + b_{F, 07}) + g^{F}_7*|CS_{08}><CS_{08}|*(b^\\dagger_{F, 07} + b_{F, 07}) + g^{F}_7*|CS_{09}><CS_{09}|*(b^\\dagger_{F, 07} + b_{F, 07}) + g^{F}_7*|CS_{10}><CS_{10}|*(b^\\dagger_{F, 07} + b_{F, 07}) + g^{F}_7*|CS_{11}><CS_{11}|*(b^\\dagger_{F, 07} + b_{F, 07}) + g^{F}_7*|CS_{12}><CS_{12}|*(b^\\dagger_{F, 07} + b_{F, 07}) + g^{F}_7*|CS_{13}><CS_{13}|*(b^\\dagger_{F, 07} + b_{F, 07}) + g^{F}_8*|CS_{01}><CS_{01}|*(b^\\dagger_{F, 08} + b_{F, 08}) + g^{F}_8*|CS_{02}><CS_{02}|*(b^\\dagger_{F, 08} + b_{F, 08}) + g^{F}_8*|CS_{03}><CS_{03}|*(b^\\dagger_{F, 08} + b_{F, 08}) + g^{F}_8*|CS_{04}><CS_{04}|*(b^\\dagger_{F, 08} + b_{F, 08}) + g^{F}_8*|CS_{05}><CS_{05}|*(b^\\dagger_{F, 08} + b_{F, 08}) + g^{F}_8*|CS_{06}><CS_{06}|*(b^\\dagger_{F, 08} + b_{F, 08}) + g^{F}_8*|CS_{07}><CS_{07}|*(b^\\dagger_{F, 08} + b_{F, 08}) + g^{F}_8*|CS_{08}><CS_{08}|*(b^\\dagger_{F, 08} + b_{F, 08}) + g^{F}_8*|CS_{09}><CS_{09}|*(b^\\dagger_{F, 08} + b_{F, 08}) + g^{F}_8*|CS_{10}><CS_{10}|*(b^\\dagger_{F, 08} + b_{F, 08}) + g^{F}_8*|CS_{11}><CS_{11}|*(b^\\dagger_{F, 08} + b_{F, 08}) + g^{F}_8*|CS_{12}><CS_{12}|*(b^\\dagger_{F, 08} + b_{F, 08}) + g^{F}_8*|CS_{13}><CS_{13}|*(b^\\dagger_{F, 08} + b_{F, 08}) + g^{OT}_{CS, 01}*|CS_{01}><CS_{01}|*(b^\\dagger_{OT, 01, 01} + b_{OT, 01, 01}) + g^{OT}_{CS, 01}*|CS_{02}><CS_{02}|*(b^\\dagger_{OT, 02, 01} + b_{OT, 02, 01}) + g^{OT}_{CS, 01}*|CS_{03}><CS_{03}|*(b^\\dagger_{OT, 03, 01} + b_{OT, 03, 01}) + g^{OT}_{CS, 01}*|CS_{04}><CS_{04}|*(b^\\dagger_{OT, 04, 01} + b_{OT, 04, 01}) + g^{OT}_{CS, 01}*|CS_{05}><CS_{05}|*(b^\\dagger_{OT, 05, 01} + b_{OT, 05, 01}) + g^{OT}_{CS, 01}*|CS_{06}><CS_{06}|*(b^\\dagger_{OT, 06, 01} + b_{OT, 06, 01}) + g^{OT}_{CS, 01}*|CS_{07}><CS_{07}|*(b^\\dagger_{OT, 07, 01} + b_{OT, 07, 01}) + g^{OT}_{CS, 01}*|CS_{08}><CS_{08}|*(b^\\dagger_{OT, 08, 01} + b_{OT, 08, 01}) + g^{OT}_{CS, 01}*|CS_{09}><CS_{09}|*(b^\\dagger_{OT, 09, 01} + b_{OT, 09, 01}) + g^{OT}_{CS, 01}*|CS_{10}><CS_{10}|*(b^\\dagger_{OT, 10, 01} + b_{OT, 10, 01}) + g^{OT}_{CS, 01}*|CS_{11}><CS_{11}|*(b^\\dagger_{OT, 11, 01} + b_{OT, 11, 01}) + g^{OT}_{CS, 01}*|CS_{12}><CS_{12}|*(b^\\dagger_{OT, 12, 01} + b_{OT, 12, 01}) + g^{OT}_{CS, 01}*|CS_{13}><CS_{13}|*(b^\\dagger_{OT, 13, 01} + b_{OT, 13, 01}) + g^{OT}_{CS, 02}*|CS_{01}><CS_{01}|*(b^\\dagger_{OT, 01, 02} + b_{OT, 01, 02}) + g^{OT}_{CS, 02}*|CS_{02}><CS_{02}|*(b^\\dagger_{OT, 02, 02} + b_{OT, 02, 02}) + g^{OT}_{CS, 02}*|CS_{03}><CS_{03}|*(b^\\dagger_{OT, 03, 02} + b_{OT, 03, 02}) + g^{OT}_{CS, 02}*|CS_{04}><CS_{04}|*(b^\\dagger_{OT, 04, 02} + b_{OT, 04, 02}) + g^{OT}_{CS, 02}*|CS_{05}><CS_{05}|*(b^\\dagger_{OT, 05, 02} + b_{OT, 05, 02}) + g^{OT}_{CS, 02}*|CS_{06}><CS_{06}|*(b^\\dagger_{OT, 06, 02} + b_{OT, 06, 02}) + g^{OT}_{CS, 02}*|CS_{07}><CS_{07}|*(b^\\dagger_{OT, 07, 02} + b_{OT, 07, 02}) + g^{OT}_{CS, 02}*|CS_{08}><CS_{08}|*(b^\\dagger_{OT, 08, 02} + b_{OT, 08, 02}) + g^{OT}_{CS, 02}*|CS_{09}><CS_{09}|*(b^\\dagger_{OT, 09, 02} + b_{OT, 09, 02}) + g^{OT}_{CS, 02}*|CS_{10}><CS_{10}|*(b^\\dagger_{OT, 10, 02} + b_{OT, 10, 02}) + g^{OT}_{CS, 02}*|CS_{11}><CS_{11}|*(b^\\dagger_{OT, 11, 02} + b_{OT, 11, 02}) + g^{OT}_{CS, 02}*|CS_{12}><CS_{12}|*(b^\\dagger_{OT, 12, 02} + b_{OT, 12, 02}) + g^{OT}_{CS, 02}*|CS_{13}><CS_{13}|*(b^\\dagger_{OT, 13, 02} + b_{OT, 13, 02}) + g^{OT}_{CS, 03}*|CS_{01}><CS_{01}|*(b^\\dagger_{OT, 01, 03} + b_{OT, 01, 03}) + g^{OT}_{CS, 03}*|CS_{02}><CS_{02}|*(b^\\dagger_{OT, 02, 03} + b_{OT, 02, 03}) + g^{OT}_{CS, 03}*|CS_{03}><CS_{03}|*(b^\\dagger_{OT, 03, 03} + b_{OT, 03, 03}) + g^{OT}_{CS, 03}*|CS_{04}><CS_{04}|*(b^\\dagger_{OT, 04, 03} + b_{OT, 04, 03}) + g^{OT}_{CS, 03}*|CS_{05}><CS_{05}|*(b^\\dagger_{OT, 05, 03} + b_{OT, 05, 03}) + g^{OT}_{CS, 03}*|CS_{06}><CS_{06}|*(b^\\dagger_{OT, 06, 03} + b_{OT, 06, 03}) + g^{OT}_{CS, 03}*|CS_{07}><CS_{07}|*(b^\\dagger_{OT, 07, 03} + b_{OT, 07, 03}) + g^{OT}_{CS, 03}*|CS_{08}><CS_{08}|*(b^\\dagger_{OT, 08, 03} + b_{OT, 08, 03}) + g^{OT}_{CS, 03}*|CS_{09}><CS_{09}|*(b^\\dagger_{OT, 09, 03} + b_{OT, 09, 03}) + g^{OT}_{CS, 03}*|CS_{10}><CS_{10}|*(b^\\dagger_{OT, 10, 03} + b_{OT, 10, 03}) + g^{OT}_{CS, 03}*|CS_{11}><CS_{11}|*(b^\\dagger_{OT, 11, 03} + b_{OT, 11, 03}) + g^{OT}_{CS, 03}*|CS_{12}><CS_{12}|*(b^\\dagger_{OT, 12, 03} + b_{OT, 12, 03}) + g^{OT}_{CS, 03}*|CS_{13}><CS_{13}|*(b^\\dagger_{OT, 13, 03} + b_{OT, 13, 03}) + g^{OT}_{CS, 04}*|CS_{01}><CS_{01}|*(b^\\dagger_{OT, 01, 04} + b_{OT, 01, 04}) + g^{OT}_{CS, 04}*|CS_{02}><CS_{02}|*(b^\\dagger_{OT, 02, 04} + b_{OT, 02, 04}) + g^{OT}_{CS, 04}*|CS_{03}><CS_{03}|*(b^\\dagger_{OT, 03, 04} + b_{OT, 03, 04}) + g^{OT}_{CS, 04}*|CS_{04}><CS_{04}|*(b^\\dagger_{OT, 04, 04} + b_{OT, 04, 04}) + g^{OT}_{CS, 04}*|CS_{05}><CS_{05}|*(b^\\dagger_{OT, 05, 04} + b_{OT, 05, 04}) + g^{OT}_{CS, 04}*|CS_{06}><CS_{06}|*(b^\\dagger_{OT, 06, 04} + b_{OT, 06, 04}) + g^{OT}_{CS, 04}*|CS_{07}><CS_{07}|*(b^\\dagger_{OT, 07, 04} + b_{OT, 07, 04}) + g^{OT}_{CS, 04}*|CS_{08}><CS_{08}|*(b^\\dagger_{OT, 08, 04} + b_{OT, 08, 04}) + g^{OT}_{CS, 04}*|CS_{09}><CS_{09}|*(b^\\dagger_{OT, 09, 04} + b_{OT, 09, 04}) + g^{OT}_{CS, 04}*|CS_{10}><CS_{10}|*(b^\\dagger_{OT, 10, 04} + b_{OT, 10, 04}) + g^{OT}_{CS, 04}*|CS_{11}><CS_{11}|*(b^\\dagger_{OT, 11, 04} + b_{OT, 11, 04}) + g^{OT}_{CS, 04}*|CS_{12}><CS_{12}|*(b^\\dagger_{OT, 12, 04} + b_{OT, 12, 04}) + g^{OT}_{CS, 04}*|CS_{13}><CS_{13}|*(b^\\dagger_{OT, 13, 04} + b_{OT, 13, 04}) + g^{OT}_{CS, 05}*|CS_{01}><CS_{01}|*(b^\\dagger_{OT, 01, 05} + b_{OT, 01, 05}) + g^{OT}_{CS, 05}*|CS_{02}><CS_{02}|*(b^\\dagger_{OT, 02, 05} + b_{OT, 02, 05}) + g^{OT}_{CS, 05}*|CS_{03}><CS_{03}|*(b^\\dagger_{OT, 03, 05} + b_{OT, 03, 05}) + g^{OT}_{CS, 05}*|CS_{04}><CS_{04}|*(b^\\dagger_{OT, 04, 05} + b_{OT, 04, 05}) + g^{OT}_{CS, 05}*|CS_{05}><CS_{05}|*(b^\\dagger_{OT, 05, 05} + b_{OT, 05, 05}) + g^{OT}_{CS, 05}*|CS_{06}><CS_{06}|*(b^\\dagger_{OT, 06, 05} + b_{OT, 06, 05}) + g^{OT}_{CS, 05}*|CS_{07}><CS_{07}|*(b^\\dagger_{OT, 07, 05} + b_{OT, 07, 05}) + g^{OT}_{CS, 05}*|CS_{08}><CS_{08}|*(b^\\dagger_{OT, 08, 05} + b_{OT, 08, 05}) + g^{OT}_{CS, 05}*|CS_{09}><CS_{09}|*(b^\\dagger_{OT, 09, 05} + b_{OT, 09, 05}) + g^{OT}_{CS, 05}*|CS_{10}><CS_{10}|*(b^\\dagger_{OT, 10, 05} + b_{OT, 10, 05}) + g^{OT}_{CS, 05}*|CS_{11}><CS_{11}|*(b^\\dagger_{OT, 11, 05} + b_{OT, 11, 05}) + g^{OT}_{CS, 05}*|CS_{12}><CS_{12}|*(b^\\dagger_{OT, 12, 05} + b_{OT, 12, 05}) + g^{OT}_{CS, 05}*|CS_{13}><CS_{13}|*(b^\\dagger_{OT, 13, 05} + b_{OT, 13, 05}) + g^{OT}_{CS, 06}*|CS_{01}><CS_{01}|*(b^\\dagger_{OT, 01, 06} + b_{OT, 01, 06}) + g^{OT}_{CS, 06}*|CS_{02}><CS_{02}|*(b^\\dagger_{OT, 02, 06} + b_{OT, 02, 06}) + g^{OT}_{CS, 06}*|CS_{03}><CS_{03}|*(b^\\dagger_{OT, 03, 06} + b_{OT, 03, 06}) + g^{OT}_{CS, 06}*|CS_{04}><CS_{04}|*(b^\\dagger_{OT, 04, 06} + b_{OT, 04, 06}) + g^{OT}_{CS, 06}*|CS_{05}><CS_{05}|*(b^\\dagger_{OT, 05, 06} + b_{OT, 05, 06}) + g^{OT}_{CS, 06}*|CS_{06}><CS_{06}|*(b^\\dagger_{OT, 06, 06} + b_{OT, 06, 06}) + g^{OT}_{CS, 06}*|CS_{07}><CS_{07}|*(b^\\dagger_{OT, 07, 06} + b_{OT, 07, 06}) + g^{OT}_{CS, 06}*|CS_{08}><CS_{08}|*(b^\\dagger_{OT, 08, 06} + b_{OT, 08, 06}) + g^{OT}_{CS, 06}*|CS_{09}><CS_{09}|*(b^\\dagger_{OT, 09, 06} + b_{OT, 09, 06}) + g^{OT}_{CS, 06}*|CS_{10}><CS_{10}|*(b^\\dagger_{OT, 10, 06} + b_{OT, 10, 06}) + g^{OT}_{CS, 06}*|CS_{11}><CS_{11}|*(b^\\dagger_{OT, 11, 06} + b_{OT, 11, 06}) + g^{OT}_{CS, 06}*|CS_{12}><CS_{12}|*(b^\\dagger_{OT, 12, 06} + b_{OT, 12, 06}) + g^{OT}_{CS, 06}*|CS_{13}><CS_{13}|*(b^\\dagger_{OT, 13, 06} + b_{OT, 13, 06}) + g^{OT}_{CS, 07}*|CS_{01}><CS_{01}|*(b^\\dagger_{OT, 01, 07} + b_{OT, 01, 07}) + g^{OT}_{CS, 07}*|CS_{02}><CS_{02}|*(b^\\dagger_{OT, 02, 07} + b_{OT, 02, 07}) + g^{OT}_{CS, 07}*|CS_{03}><CS_{03}|*(b^\\dagger_{OT, 03, 07} + b_{OT, 03, 07}) + g^{OT}_{CS, 07}*|CS_{04}><CS_{04}|*(b^\\dagger_{OT, 04, 07} + b_{OT, 04, 07}) + g^{OT}_{CS, 07}*|CS_{05}><CS_{05}|*(b^\\dagger_{OT, 05, 07} + b_{OT, 05, 07}) + g^{OT}_{CS, 07}*|CS_{06}><CS_{06}|*(b^\\dagger_{OT, 06, 07} + b_{OT, 06, 07}) + g^{OT}_{CS, 07}*|CS_{07}><CS_{07}|*(b^\\dagger_{OT, 07, 07} + b_{OT, 07, 07}) + g^{OT}_{CS, 07}*|CS_{08}><CS_{08}|*(b^\\dagger_{OT, 08, 07} + b_{OT, 08, 07}) + g^{OT}_{CS, 07}*|CS_{09}><CS_{09}|*(b^\\dagger_{OT, 09, 07} + b_{OT, 09, 07}) + g^{OT}_{CS, 07}*|CS_{10}><CS_{10}|*(b^\\dagger_{OT, 10, 07} + b_{OT, 10, 07}) + g^{OT}_{CS, 07}*|CS_{11}><CS_{11}|*(b^\\dagger_{OT, 11, 07} + b_{OT, 11, 07}) + g^{OT}_{CS, 07}*|CS_{12}><CS_{12}|*(b^\\dagger_{OT, 12, 07} + b_{OT, 12, 07}) + g^{OT}_{CS, 07}*|CS_{13}><CS_{13}|*(b^\\dagger_{OT, 13, 07} + b_{OT, 13, 07}) + g^{OT}_{CS, 08}*|CS_{01}><CS_{01}|*(b^\\dagger_{OT, 01, 08} + b_{OT, 01, 08}) + g^{OT}_{CS, 08}*|CS_{02}><CS_{02}|*(b^\\dagger_{OT, 02, 08} + b_{OT, 02, 08}) + g^{OT}_{CS, 08}*|CS_{03}><CS_{03}|*(b^\\dagger_{OT, 03, 08} + b_{OT, 03, 08}) + g^{OT}_{CS, 08}*|CS_{04}><CS_{04}|*(b^\\dagger_{OT, 04, 08} + b_{OT, 04, 08}) + g^{OT}_{CS, 08}*|CS_{05}><CS_{05}|*(b^\\dagger_{OT, 05, 08} + b_{OT, 05, 08}) + g^{OT}_{CS, 08}*|CS_{06}><CS_{06}|*(b^\\dagger_{OT, 06, 08} + b_{OT, 06, 08}) + g^{OT}_{CS, 08}*|CS_{07}><CS_{07}|*(b^\\dagger_{OT, 07, 08} + b_{OT, 07, 08}) + g^{OT}_{CS, 08}*|CS_{08}><CS_{08}|*(b^\\dagger_{OT, 08, 08} + b_{OT, 08, 08}) + g^{OT}_{CS, 08}*|CS_{09}><CS_{09}|*(b^\\dagger_{OT, 09, 08} + b_{OT, 09, 08}) + g^{OT}_{CS, 08}*|CS_{10}><CS_{10}|*(b^\\dagger_{OT, 10, 08} + b_{OT, 10, 08}) + g^{OT}_{CS, 08}*|CS_{11}><CS_{11}|*(b^\\dagger_{OT, 11, 08} + b_{OT, 11, 08}) + g^{OT}_{CS, 08}*|CS_{12}><CS_{12}|*(b^\\dagger_{OT, 12, 08} + b_{OT, 12, 08}) + g^{OT}_{CS, 08}*|CS_{13}><CS_{13}|*(b^\\dagger_{OT, 13, 08} + b_{OT, 13, 08}) + g^{OT}_{LE, 01}*|LE_{01}><LE_{01}|*(b^\\dagger_{OT, 01, 01} + b_{OT, 01, 01}) + g^{OT}_{LE, 01}*|LE_{02}><LE_{02}|*(b^\\dagger_{OT, 02, 01} + b_{OT, 02, 01}) + g^{OT}_{LE, 01}*|LE_{03}><LE_{03}|*(b^\\dagger_{OT, 03, 01} + b_{OT, 03, 01}) + g^{OT}_{LE, 01}*|LE_{04}><LE_{04}|*(b^\\dagger_{OT, 04, 01} + b_{OT, 04, 01}) + g^{OT}_{LE, 01}*|LE_{05}><LE_{05}|*(b^\\dagger_{OT, 05, 01} + b_{OT, 05, 01}) + g^{OT}_{LE, 01}*|LE_{06}><LE_{06}|*(b^\\dagger_{OT, 06, 01} + b_{OT, 06, 01}) + g^{OT}_{LE, 01}*|LE_{07}><LE_{07}|*(b^\\dagger_{OT, 07, 01} + b_{OT, 07, 01}) + g^{OT}_{LE, 01}*|LE_{08}><LE_{08}|*(b^\\dagger_{OT, 08, 01} + b_{OT, 08, 01}) + g^{OT}_{LE, 01}*|LE_{09}><LE_{09}|*(b^\\dagger_{OT, 09, 01} + b_{OT, 09, 01}) + g^{OT}_{LE, 01}*|LE_{10}><LE_{10}|*(b^\\dagger_{OT, 10, 01} + b_{OT, 10, 01}) + g^{OT}_{LE, 01}*|LE_{11}><LE_{11}|*(b^\\dagger_{OT, 11, 01} + b_{OT, 11, 01}) + g^{OT}_{LE, 01}*|LE_{12}><LE_{12}|*(b^\\dagger_{OT, 12, 01} + b_{OT, 12, 01}) + g^{OT}_{LE, 01}*|LE_{13}><LE_{13}|*(b^\\dagger_{OT, 13, 01} + b_{OT, 13, 01}) + g^{OT}_{LE, 02}*|LE_{01}><LE_{01}|*(b^\\dagger_{OT, 01, 02} + b_{OT, 01, 02}) + g^{OT}_{LE, 02}*|LE_{02}><LE_{02}|*(b^\\dagger_{OT, 02, 02} + b_{OT, 02, 02}) + g^{OT}_{LE, 02}*|LE_{03}><LE_{03}|*(b^\\dagger_{OT, 03, 02} + b_{OT, 03, 02}) + g^{OT}_{LE, 02}*|LE_{04}><LE_{04}|*(b^\\dagger_{OT, 04, 02} + b_{OT, 04, 02}) + g^{OT}_{LE, 02}*|LE_{05}><LE_{05}|*(b^\\dagger_{OT, 05, 02} + b_{OT, 05, 02}) + g^{OT}_{LE, 02}*|LE_{06}><LE_{06}|*(b^\\dagger_{OT, 06, 02} + b_{OT, 06, 02}) + g^{OT}_{LE, 02}*|LE_{07}><LE_{07}|*(b^\\dagger_{OT, 07, 02} + b_{OT, 07, 02}) + g^{OT}_{LE, 02}*|LE_{08}><LE_{08}|*(b^\\dagger_{OT, 08, 02} + b_{OT, 08, 02}) + g^{OT}_{LE, 02}*|LE_{09}><LE_{09}|*(b^\\dagger_{OT, 09, 02} + b_{OT, 09, 02}) + g^{OT}_{LE, 02}*|LE_{10}><LE_{10}|*(b^\\dagger_{OT, 10, 02} + b_{OT, 10, 02}) + g^{OT}_{LE, 02}*|LE_{11}><LE_{11}|*(b^\\dagger_{OT, 11, 02} + b_{OT, 11, 02}) + g^{OT}_{LE, 02}*|LE_{12}><LE_{12}|*(b^\\dagger_{OT, 12, 02} + b_{OT, 12, 02}) + g^{OT}_{LE, 02}*|LE_{13}><LE_{13}|*(b^\\dagger_{OT, 13, 02} + b_{OT, 13, 02}) + g^{OT}_{LE, 03}*|LE_{01}><LE_{01}|*(b^\\dagger_{OT, 01, 03} + b_{OT, 01, 03}) + g^{OT}_{LE, 03}*|LE_{02}><LE_{02}|*(b^\\dagger_{OT, 02, 03} + b_{OT, 02, 03}) + g^{OT}_{LE, 03}*|LE_{03}><LE_{03}|*(b^\\dagger_{OT, 03, 03} + b_{OT, 03, 03}) + g^{OT}_{LE, 03}*|LE_{04}><LE_{04}|*(b^\\dagger_{OT, 04, 03} + b_{OT, 04, 03}) + g^{OT}_{LE, 03}*|LE_{05}><LE_{05}|*(b^\\dagger_{OT, 05, 03} + b_{OT, 05, 03}) + g^{OT}_{LE, 03}*|LE_{06}><LE_{06}|*(b^\\dagger_{OT, 06, 03} + b_{OT, 06, 03}) + g^{OT}_{LE, 03}*|LE_{07}><LE_{07}|*(b^\\dagger_{OT, 07, 03} + b_{OT, 07, 03}) + g^{OT}_{LE, 03}*|LE_{08}><LE_{08}|*(b^\\dagger_{OT, 08, 03} + b_{OT, 08, 03}) + g^{OT}_{LE, 03}*|LE_{09}><LE_{09}|*(b^\\dagger_{OT, 09, 03} + b_{OT, 09, 03}) + g^{OT}_{LE, 03}*|LE_{10}><LE_{10}|*(b^\\dagger_{OT, 10, 03} + b_{OT, 10, 03}) + g^{OT}_{LE, 03}*|LE_{11}><LE_{11}|*(b^\\dagger_{OT, 11, 03} + b_{OT, 11, 03}) + g^{OT}_{LE, 03}*|LE_{12}><LE_{12}|*(b^\\dagger_{OT, 12, 03} + b_{OT, 12, 03}) + g^{OT}_{LE, 03}*|LE_{13}><LE_{13}|*(b^\\dagger_{OT, 13, 03} + b_{OT, 13, 03}) + g^{OT}_{LE, 04}*|LE_{01}><LE_{01}|*(b^\\dagger_{OT, 01, 04} + b_{OT, 01, 04}) + g^{OT}_{LE, 04}*|LE_{02}><LE_{02}|*(b^\\dagger_{OT, 02, 04} + b_{OT, 02, 04}) + g^{OT}_{LE, 04}*|LE_{03}><LE_{03}|*(b^\\dagger_{OT, 03, 04} + b_{OT, 03, 04}) + g^{OT}_{LE, 04}*|LE_{04}><LE_{04}|*(b^\\dagger_{OT, 04, 04} + b_{OT, 04, 04}) + g^{OT}_{LE, 04}*|LE_{05}><LE_{05}|*(b^\\dagger_{OT, 05, 04} + b_{OT, 05, 04}) + g^{OT}_{LE, 04}*|LE_{06}><LE_{06}|*(b^\\dagger_{OT, 06, 04} + b_{OT, 06, 04}) + g^{OT}_{LE, 04}*|LE_{07}><LE_{07}|*(b^\\dagger_{OT, 07, 04} + b_{OT, 07, 04}) + g^{OT}_{LE, 04}*|LE_{08}><LE_{08}|*(b^\\dagger_{OT, 08, 04} + b_{OT, 08, 04}) + g^{OT}_{LE, 04}*|LE_{09}><LE_{09}|*(b^\\dagger_{OT, 09, 04} + b_{OT, 09, 04}) + g^{OT}_{LE, 04}*|LE_{10}><LE_{10}|*(b^\\dagger_{OT, 10, 04} + b_{OT, 10, 04}) + g^{OT}_{LE, 04}*|LE_{11}><LE_{11}|*(b^\\dagger_{OT, 11, 04} + b_{OT, 11, 04}) + g^{OT}_{LE, 04}*|LE_{12}><LE_{12}|*(b^\\dagger_{OT, 12, 04} + b_{OT, 12, 04}) + g^{OT}_{LE, 04}*|LE_{13}><LE_{13}|*(b^\\dagger_{OT, 13, 04} + b_{OT, 13, 04}) + g^{OT}_{LE, 05}*|LE_{01}><LE_{01}|*(b^\\dagger_{OT, 01, 05} + b_{OT, 01, 05}) + g^{OT}_{LE, 05}*|LE_{02}><LE_{02}|*(b^\\dagger_{OT, 02, 05} + b_{OT, 02, 05}) + g^{OT}_{LE, 05}*|LE_{03}><LE_{03}|*(b^\\dagger_{OT, 03, 05} + b_{OT, 03, 05}) + g^{OT}_{LE, 05}*|LE_{04}><LE_{04}|*(b^\\dagger_{OT, 04, 05} + b_{OT, 04, 05}) + g^{OT}_{LE, 05}*|LE_{05}><LE_{05}|*(b^\\dagger_{OT, 05, 05} + b_{OT, 05, 05}) + g^{OT}_{LE, 05}*|LE_{06}><LE_{06}|*(b^\\dagger_{OT, 06, 05} + b_{OT, 06, 05}) + g^{OT}_{LE, 05}*|LE_{07}><LE_{07}|*(b^\\dagger_{OT, 07, 05} + b_{OT, 07, 05}) + g^{OT}_{LE, 05}*|LE_{08}><LE_{08}|*(b^\\dagger_{OT, 08, 05} + b_{OT, 08, 05}) + g^{OT}_{LE, 05}*|LE_{09}><LE_{09}|*(b^\\dagger_{OT, 09, 05} + b_{OT, 09, 05}) + g^{OT}_{LE, 05}*|LE_{10}><LE_{10}|*(b^\\dagger_{OT, 10, 05} + b_{OT, 10, 05}) + g^{OT}_{LE, 05}*|LE_{11}><LE_{11}|*(b^\\dagger_{OT, 11, 05} + b_{OT, 11, 05}) + g^{OT}_{LE, 05}*|LE_{12}><LE_{12}|*(b^\\dagger_{OT, 12, 05} + b_{OT, 12, 05}) + g^{OT}_{LE, 05}*|LE_{13}><LE_{13}|*(b^\\dagger_{OT, 13, 05} + b_{OT, 13, 05}) + g^{OT}_{LE, 06}*|LE_{01}><LE_{01}|*(b^\\dagger_{OT, 01, 06} + b_{OT, 01, 06}) + g^{OT}_{LE, 06}*|LE_{02}><LE_{02}|*(b^\\dagger_{OT, 02, 06} + b_{OT, 02, 06}) + g^{OT}_{LE, 06}*|LE_{03}><LE_{03}|*(b^\\dagger_{OT, 03, 06} + b_{OT, 03, 06}) + g^{OT}_{LE, 06}*|LE_{04}><LE_{04}|*(b^\\dagger_{OT, 04, 06} + b_{OT, 04, 06}) + g^{OT}_{LE, 06}*|LE_{05}><LE_{05}|*(b^\\dagger_{OT, 05, 06} + b_{OT, 05, 06}) + g^{OT}_{LE, 06}*|LE_{06}><LE_{06}|*(b^\\dagger_{OT, 06, 06} + b_{OT, 06, 06}) + g^{OT}_{LE, 06}*|LE_{07}><LE_{07}|*(b^\\dagger_{OT, 07, 06} + b_{OT, 07, 06}) + g^{OT}_{LE, 06}*|LE_{08}><LE_{08}|*(b^\\dagger_{OT, 08, 06} + b_{OT, 08, 06}) + g^{OT}_{LE, 06}*|LE_{09}><LE_{09}|*(b^\\dagger_{OT, 09, 06} + b_{OT, 09, 06}) + g^{OT}_{LE, 06}*|LE_{10}><LE_{10}|*(b^\\dagger_{OT, 10, 06} + b_{OT, 10, 06}) + g^{OT}_{LE, 06}*|LE_{11}><LE_{11}|*(b^\\dagger_{OT, 11, 06} + b_{OT, 11, 06}) + g^{OT}_{LE, 06}*|LE_{12}><LE_{12}|*(b^\\dagger_{OT, 12, 06} + b_{OT, 12, 06}) + g^{OT}_{LE, 06}*|LE_{13}><LE_{13}|*(b^\\dagger_{OT, 13, 06} + b_{OT, 13, 06}) + g^{OT}_{LE, 07}*|LE_{01}><LE_{01}|*(b^\\dagger_{OT, 01, 07} + b_{OT, 01, 07}) + g^{OT}_{LE, 07}*|LE_{02}><LE_{02}|*(b^\\dagger_{OT, 02, 07} + b_{OT, 02, 07}) + g^{OT}_{LE, 07}*|LE_{03}><LE_{03}|*(b^\\dagger_{OT, 03, 07} + b_{OT, 03, 07}) + g^{OT}_{LE, 07}*|LE_{04}><LE_{04}|*(b^\\dagger_{OT, 04, 07} + b_{OT, 04, 07}) + g^{OT}_{LE, 07}*|LE_{05}><LE_{05}|*(b^\\dagger_{OT, 05, 07} + b_{OT, 05, 07}) + g^{OT}_{LE, 07}*|LE_{06}><LE_{06}|*(b^\\dagger_{OT, 06, 07} + b_{OT, 06, 07}) + g^{OT}_{LE, 07}*|LE_{07}><LE_{07}|*(b^\\dagger_{OT, 07, 07} + b_{OT, 07, 07}) + g^{OT}_{LE, 07}*|LE_{08}><LE_{08}|*(b^\\dagger_{OT, 08, 07} + b_{OT, 08, 07}) + g^{OT}_{LE, 07}*|LE_{09}><LE_{09}|*(b^\\dagger_{OT, 09, 07} + b_{OT, 09, 07}) + g^{OT}_{LE, 07}*|LE_{10}><LE_{10}|*(b^\\dagger_{OT, 10, 07} + b_{OT, 10, 07}) + g^{OT}_{LE, 07}*|LE_{11}><LE_{11}|*(b^\\dagger_{OT, 11, 07} + b_{OT, 11, 07}) + g^{OT}_{LE, 07}*|LE_{12}><LE_{12}|*(b^\\dagger_{OT, 12, 07} + b_{OT, 12, 07}) + g^{OT}_{LE, 07}*|LE_{13}><LE_{13}|*(b^\\dagger_{OT, 13, 07} + b_{OT, 13, 07}) + g^{OT}_{LE, 08}*|LE_{01}><LE_{01}|*(b^\\dagger_{OT, 01, 08} + b_{OT, 01, 08}) + g^{OT}_{LE, 08}*|LE_{02}><LE_{02}|*(b^\\dagger_{OT, 02, 08} + b_{OT, 02, 08}) + g^{OT}_{LE, 08}*|LE_{03}><LE_{03}|*(b^\\dagger_{OT, 03, 08} + b_{OT, 03, 08}) + g^{OT}_{LE, 08}*|LE_{04}><LE_{04}|*(b^\\dagger_{OT, 04, 08} + b_{OT, 04, 08}) + g^{OT}_{LE, 08}*|LE_{05}><LE_{05}|*(b^\\dagger_{OT, 05, 08} + b_{OT, 05, 08}) + g^{OT}_{LE, 08}*|LE_{06}><LE_{06}|*(b^\\dagger_{OT, 06, 08} + b_{OT, 06, 08}) + g^{OT}_{LE, 08}*|LE_{07}><LE_{07}|*(b^\\dagger_{OT, 07, 08} + b_{OT, 07, 08}) + g^{OT}_{LE, 08}*|LE_{08}><LE_{08}|*(b^\\dagger_{OT, 08, 08} + b_{OT, 08, 08}) + g^{OT}_{LE, 08}*|LE_{09}><LE_{09}|*(b^\\dagger_{OT, 09, 08} + b_{OT, 09, 08}) + g^{OT}_{LE, 08}*|LE_{10}><LE_{10}|*(b^\\dagger_{OT, 10, 08} + b_{OT, 10, 08}) + g^{OT}_{LE, 08}*|LE_{11}><LE_{11}|*(b^\\dagger_{OT, 11, 08} + b_{OT, 11, 08}) + g^{OT}_{LE, 08}*|LE_{12}><LE_{12}|*(b^\\dagger_{OT, 12, 08} + b_{OT, 12, 08}) + g^{OT}_{LE, 08}*|LE_{13}><LE_{13}|*(b^\\dagger_{OT, 13, 08} + b_{OT, 13, 08}) + g_{CS, CS}*|CS_{01}><CS_{01}|*(b^{\\dagger}_R + b_R) + g_{LE, CS}*(<LE|CS> + h.c.)*(b^{\\dagger}_R + b_R) + t*((|CS_{01}><CS_{02}|+h.c.) + (|CS_{02}><CS_{03}|+h.c.) + (|CS_{03}><CS_{04}|+h.c.) + (|CS_{04}><CS_{05}|+h.c.) + (|CS_{05}><CS_{06}|+h.c.) + (|CS_{06}><CS_{07}|+h.c.) + (|CS_{07}><CS_{08}|+h.c.) + (|CS_{08}><CS_{09}|+h.c.) + (|CS_{09}><CS_{10}|+h.c.) + (|CS_{10}><CS_{11}|+h.c.) + (|CS_{11}><CS_{12}|+h.c.) + (|CS_{12}><CS_{13}|+h.c.)) + ε^{LE}*(|LE_{01}><LE_{01}| + |LE_{02}><LE_{02}| + |LE_{03}><LE_{03}| + |LE_{04}><LE_{04}| + |LE_{05}><LE_{05}| + |LE_{06}><LE_{06}| + |LE_{07}><LE_{07}| + |LE_{08}><LE_{08}| + |LE_{09}><LE_{09}| + |LE_{10}><LE_{10}| + |LE_{11}><LE_{11}| + |LE_{12}><LE_{12}| + |LE_{13}><LE_{13}|) + ε^{{CS}}_{01}*|CS_{01}><CS_{01}| + ε^{{CS}}_{02}*|CS_{02}><CS_{02}| + ε^{{CS}}_{03}*|CS_{03}><CS_{03}| + ε^{{CS}}_{04}*|CS_{04}><CS_{04}| + ε^{{CS}}_{05}*|CS_{05}><CS_{05}| + ε^{{CS}}_{06}*|CS_{06}><CS_{06}| + ε^{{CS}}_{07}*|CS_{07}><CS_{07}| + ε^{{CS}}_{08}*|CS_{08}><CS_{08}| + ε^{{CS}}_{09}*|CS_{09}><CS_{09}| + ε^{{CS}}_{10}*|CS_{10}><CS_{10}| + ε^{{CS}}_{11}*|CS_{11}><CS_{11}| + ε^{{CS}}_{12}*|CS_{12}><CS_{12}| + ε^{{CS}}_{13}*|CS_{13}><CS_{13}| + λ*(<LE|CS> + h.c.) + ω*b^{\\dagger}_R*b_R + ω^{F}_1*b_{F, 01}*b^\\dagger_{F, 01} + ω^{F}_2*b_{F, 02}*b^\\dagger_{F, 02} + ω^{F}_3*b_{F, 03}*b^\\dagger_{F, 03} + ω^{F}_4*b_{F, 04}*b^\\dagger_{F, 04} + ω^{F}_5*b_{F, 05}*b^\\dagger_{F, 05} + ω^{F}_6*b_{F, 06}*b^\\dagger_{F, 06} + ω^{F}_7*b_{F, 07}*b^\\dagger_{F, 07} + ω^{F}_8*b_{F, 08}*b^\\dagger_{F, 08} + ω^{OT}_1*b_{OT, 01, 01}*b^\\dagger_{OT, 01, 01} + ω^{OT}_1*b_{OT, 02, 01}*b^\\dagger_{OT, 02, 01} + ω^{OT}_1*b_{OT, 03, 01}*b^\\dagger_{OT, 03, 01} + ω^{OT}_1*b_{OT, 04, 01}*b^\\dagger_{OT, 04, 01} + ω^{OT}_1*b_{OT, 05, 01}*b^\\dagger_{OT, 05, 01} + ω^{OT}_1*b_{OT, 06, 01}*b^\\dagger_{OT, 06, 01} + ω^{OT}_1*b_{OT, 07, 01}*b^\\dagger_{OT, 07, 01} + ω^{OT}_1*b_{OT, 08, 01}*b^\\dagger_{OT, 08, 01} + ω^{OT}_1*b_{OT, 09, 01}*b^\\dagger_{OT, 09, 01} + ω^{OT}_1*b_{OT, 10, 01}*b^\\dagger_{OT, 10, 01} + ω^{OT}_1*b_{OT, 11, 01}*b^\\dagger_{OT, 11, 01} + ω^{OT}_1*b_{OT, 12, 01}*b^\\dagger_{OT, 12, 01} + ω^{OT}_1*b_{OT, 13, 01}*b^\\dagger_{OT, 13, 01} + ω^{OT}_2*b_{OT, 01, 02}*b^\\dagger_{OT, 01, 02} + ω^{OT}_2*b_{OT, 02, 02}*b^\\dagger_{OT, 02, 02} + ω^{OT}_2*b_{OT, 03, 02}*b^\\dagger_{OT, 03, 02} + ω^{OT}_2*b_{OT, 04, 02}*b^\\dagger_{OT, 04, 02} + ω^{OT}_2*b_{OT, 05, 02}*b^\\dagger_{OT, 05, 02} + ω^{OT}_2*b_{OT, 06, 02}*b^\\dagger_{OT, 06, 02} + ω^{OT}_2*b_{OT, 07, 02}*b^\\dagger_{OT, 07, 02} + ω^{OT}_2*b_{OT, 08, 02}*b^\\dagger_{OT, 08, 02} + ω^{OT}_2*b_{OT, 09, 02}*b^\\dagger_{OT, 09, 02} + ω^{OT}_2*b_{OT, 10, 02}*b^\\dagger_{OT, 10, 02} + ω^{OT}_2*b_{OT, 11, 02}*b^\\dagger_{OT, 11, 02} + ω^{OT}_2*b_{OT, 12, 02}*b^\\dagger_{OT, 12, 02} + ω^{OT}_2*b_{OT, 13, 02}*b^\\dagger_{OT, 13, 02} + ω^{OT}_3*b_{OT, 01, 03}*b^\\dagger_{OT, 01, 03} + ω^{OT}_3*b_{OT, 02, 03}*b^\\dagger_{OT, 02, 03} + ω^{OT}_3*b_{OT, 03, 03}*b^\\dagger_{OT, 03, 03} + ω^{OT}_3*b_{OT, 04, 03}*b^\\dagger_{OT, 04, 03} + ω^{OT}_3*b_{OT, 05, 03}*b^\\dagger_{OT, 05, 03} + ω^{OT}_3*b_{OT, 06, 03}*b^\\dagger_{OT, 06, 03} + ω^{OT}_3*b_{OT, 07, 03}*b^\\dagger_{OT, 07, 03} + ω^{OT}_3*b_{OT, 08, 03}*b^\\dagger_{OT, 08, 03} + ω^{OT}_3*b_{OT, 09, 03}*b^\\dagger_{OT, 09, 03} + ω^{OT}_3*b_{OT, 10, 03}*b^\\dagger_{OT, 10, 03} + ω^{OT}_3*b_{OT, 11, 03}*b^\\dagger_{OT, 11, 03} + ω^{OT}_3*b_{OT, 12, 03}*b^\\dagger_{OT, 12, 03} + ω^{OT}_3*b_{OT, 13, 03}*b^\\dagger_{OT, 13, 03} + ω^{OT}_4*b_{OT, 01, 04}*b^\\dagger_{OT, 01, 04} + ω^{OT}_4*b_{OT, 02, 04}*b^\\dagger_{OT, 02, 04} + ω^{OT}_4*b_{OT, 03, 04}*b^\\dagger_{OT, 03, 04} + ω^{OT}_4*b_{OT, 04, 04}*b^\\dagger_{OT, 04, 04} + ω^{OT}_4*b_{OT, 05, 04}*b^\\dagger_{OT, 05, 04} + ω^{OT}_4*b_{OT, 06, 04}*b^\\dagger_{OT, 06, 04} + ω^{OT}_4*b_{OT, 07, 04}*b^\\dagger_{OT, 07, 04} + ω^{OT}_4*b_{OT, 08, 04}*b^\\dagger_{OT, 08, 04} + ω^{OT}_4*b_{OT, 09, 04}*b^\\dagger_{OT, 09, 04} + ω^{OT}_4*b_{OT, 10, 04}*b^\\dagger_{OT, 10, 04} + ω^{OT}_4*b_{OT, 11, 04}*b^\\dagger_{OT, 11, 04} + ω^{OT}_4*b_{OT, 12, 04}*b^\\dagger_{OT, 12, 04} + ω^{OT}_4*b_{OT, 13, 04}*b^\\dagger_{OT, 13, 04} + ω^{OT}_5*b_{OT, 01, 05}*b^\\dagger_{OT, 01, 05} + ω^{OT}_5*b_{OT, 02, 05}*b^\\dagger_{OT, 02, 05} + ω^{OT}_5*b_{OT, 03, 05}*b^\\dagger_{OT, 03, 05} + ω^{OT}_5*b_{OT, 04, 05}*b^\\dagger_{OT, 04, 05} + ω^{OT}_5*b_{OT, 05, 05}*b^\\dagger_{OT, 05, 05} + ω^{OT}_5*b_{OT, 06, 05}*b^\\dagger_{OT, 06, 05} + ω^{OT}_5*b_{OT, 07, 05}*b^\\dagger_{OT, 07, 05} + ω^{OT}_5*b_{OT, 08, 05}*b^\\dagger_{OT, 08, 05} + ω^{OT}_5*b_{OT, 09, 05}*b^\\dagger_{OT, 09, 05} + ω^{OT}_5*b_{OT, 10, 05}*b^\\dagger_{OT, 10, 05} + ω^{OT}_5*b_{OT, 11, 05}*b^\\dagger_{OT, 11, 05} + ω^{OT}_5*b_{OT, 12, 05}*b^\\dagger_{OT, 12, 05} + ω^{OT}_5*b_{OT, 13, 05}*b^\\dagger_{OT, 13, 05} + ω^{OT}_6*b_{OT, 01, 06}*b^\\dagger_{OT, 01, 06} + ω^{OT}_6*b_{OT, 02, 06}*b^\\dagger_{OT, 02, 06} + ω^{OT}_6*b_{OT, 03, 06}*b^\\dagger_{OT, 03, 06} + ω^{OT}_6*b_{OT, 04, 06}*b^\\dagger_{OT, 04, 06} + ω^{OT}_6*b_{OT, 05, 06}*b^\\dagger_{OT, 05, 06} + ω^{OT}_6*b_{OT, 06, 06}*b^\\dagger_{OT, 06, 06} + ω^{OT}_6*b_{OT, 07, 06}*b^\\dagger_{OT, 07, 06} + ω^{OT}_6*b_{OT, 08, 06}*b^\\dagger_{OT, 08, 06} + ω^{OT}_6*b_{OT, 09, 06}*b^\\dagger_{OT, 09, 06} + ω^{OT}_6*b_{OT, 10, 06}*b^\\dagger_{OT, 10, 06} + ω^{OT}_6*b_{OT, 11, 06}*b^\\dagger_{OT, 11, 06} + ω^{OT}_6*b_{OT, 12, 06}*b^\\dagger_{OT, 12, 06} + ω^{OT}_6*b_{OT, 13, 06}*b^\\dagger_{OT, 13, 06} + ω^{OT}_7*b_{OT, 01, 07}*b^\\dagger_{OT, 01, 07} + ω^{OT}_7*b_{OT, 02, 07}*b^\\dagger_{OT, 02, 07} + ω^{OT}_7*b_{OT, 03, 07}*b^\\dagger_{OT, 03, 07} + ω^{OT}_7*b_{OT, 04, 07}*b^\\dagger_{OT, 04, 07} + ω^{OT}_7*b_{OT, 05, 07}*b^\\dagger_{OT, 05, 07} + ω^{OT}_7*b_{OT, 06, 07}*b^\\dagger_{OT, 06, 07} + ω^{OT}_7*b_{OT, 07, 07}*b^\\dagger_{OT, 07, 07} + ω^{OT}_7*b_{OT, 08, 07}*b^\\dagger_{OT, 08, 07} + ω^{OT}_7*b_{OT, 09, 07}*b^\\dagger_{OT, 09, 07} + ω^{OT}_7*b_{OT, 10, 07}*b^\\dagger_{OT, 10, 07} + ω^{OT}_7*b_{OT, 11, 07}*b^\\dagger_{OT, 11, 07} + ω^{OT}_7*b_{OT, 12, 07}*b^\\dagger_{OT, 12, 07} + ω^{OT}_7*b_{OT, 13, 07}*b^\\dagger_{OT, 13, 07} + ω^{OT}_8*b_{OT, 01, 08}*b^\\dagger_{OT, 01, 08} + ω^{OT}_8*b_{OT, 02, 08}*b^\\dagger_{OT, 02, 08} + ω^{OT}_8*b_{OT, 03, 08}*b^\\dagger_{OT, 03, 08} + ω^{OT}_8*b_{OT, 04, 08}*b^\\dagger_{OT, 04, 08} + ω^{OT}_8*b_{OT, 05, 08}*b^\\dagger_{OT, 05, 08} + ω^{OT}_8*b_{OT, 06, 08}*b^\\dagger_{OT, 06, 08} + ω^{OT}_8*b_{OT, 07, 08}*b^\\dagger_{OT, 07, 08} + ω^{OT}_8*b_{OT, 08, 08}*b^\\dagger_{OT, 08, 08} + ω^{OT}_8*b_{OT, 09, 08}*b^\\dagger_{OT, 09, 08} + ω^{OT}_8*b_{OT, 10, 08}*b^\\dagger_{OT, 10, 08} + ω^{OT}_8*b_{OT, 11, 08}*b^\\dagger_{OT, 11, 08} + ω^{OT}_8*b_{OT, 12, 08}*b^\\dagger_{OT, 12, 08} + ω^{OT}_8*b_{OT, 13, 08}*b^\\dagger_{OT, 13, 08}"
      ]
     },
     "execution_count": 6,
     "metadata": {},
     "output_type": "execute_result"
    }
   ],
   "source": [
    "pot_sop = SumOfProducts()\n",
    "\n",
    "pot_sop += bdag_ops[1] * b_ops[1] * omega\n",
    "\n",
    "for i in range(1, 1+N_F):\n",
    "    pot_sop += ω_F_symbols[i] * b_ops[i+1] * bdag_ops[i+1]\n",
    "\n",
    "for i in range(1, 1+N):\n",
    "    for j in range(1, 1+N_OT):\n",
    "        pot_sop += ω_OT_symbols[j] * b_ops[1+N_F+j+N_OT*(i-1)] * bdag_ops[1+N_F+j+N_OT*(i-1)]\n",
    "\n",
    "for i in range(1, 1+N):\n",
    "    pot_sop += epsilon_le * LE_ops[i]\n",
    "    pot_sop += epsilon_symbols[i] * CS_ops[i]\n",
    "\n",
    "for i in range(1, N):\n",
    "    pot_sop += J * LE_LE1_ops[i]\n",
    "    pot_sop += t * CS_CS1_ops[i]\n",
    "\n",
    "pot_sop += λ * LE_CS_op\n",
    "\n",
    "for i in range(1, 1+N_F):\n",
    "    for j in range(1, 1+N):\n",
    "        pot_sop += g_F_symbols[i] * (b_ops[i+1] + bdag_ops[i+1]) * CS_ops[j]\n",
    "\n",
    "for i in range(1, 1+N):\n",
    "    for j in range(1, 1+N_OT):\n",
    "        pot_sop += g_ot_cs_symbols[j] * (b_ops[1+N_F+j+N_OT*(i-1)] + bdag_ops[1+N_F+j+N_OT*(i-1)]) * CS_ops[i]\n",
    "        pot_sop += g_ot_le_symbols[j] * (b_ops[1+N_F+j+N_OT*(i-1)] + bdag_ops[1+N_F+j+N_OT*(i-1)]) * LE_ops[i]\n",
    "\n",
    "pot_sop += g_cs * (b_ops[1] + bdag_ops[1]) * CS_ops[1]\n",
    "pot_sop += g_le * (b_ops[1] + bdag_ops[1]) * LE_CS_op\n",
    "\n",
    "pot_sop = pot_sop.simplify()\n",
    "pot_sop.symbol"
   ]
  },
  {
   "cell_type": "markdown",
   "id": "4fa405f2-048b-4e69-9cbd-c6c7d3bf5b38",
   "metadata": {},
   "source": [
    "### Setup MPO"
   ]
  },
  {
   "cell_type": "code",
   "execution_count": 7,
   "id": "94e62760-af88-43e2-a76b-d0cb9ff1db35",
   "metadata": {
    "scrolled": true
   },
   "outputs": [
    {
     "name": "stderr",
     "output_type": "stream",
     "text": [
      "\u001b[32m2025-04-29 15:53:30.886\u001b[0m | \u001b[1mINFO    \u001b[0m | \u001b[36mpympo.bipartite\u001b[0m:\u001b[36massign\u001b[0m:\u001b[36m286\u001b[0m - \u001b[1massigned 1/114\u001b[0m\n",
      "\u001b[32m2025-04-29 15:53:30.970\u001b[0m | \u001b[1mINFO    \u001b[0m | \u001b[36mpympo.bipartite\u001b[0m:\u001b[36massign\u001b[0m:\u001b[36m286\u001b[0m - \u001b[1massigned 2/114\u001b[0m\n",
      "\u001b[32m2025-04-29 15:53:31.048\u001b[0m | \u001b[1mINFO    \u001b[0m | \u001b[36mpympo.bipartite\u001b[0m:\u001b[36massign\u001b[0m:\u001b[36m286\u001b[0m - \u001b[1massigned 3/114\u001b[0m\n",
      "\u001b[32m2025-04-29 15:53:31.125\u001b[0m | \u001b[1mINFO    \u001b[0m | \u001b[36mpympo.bipartite\u001b[0m:\u001b[36massign\u001b[0m:\u001b[36m286\u001b[0m - \u001b[1massigned 4/114\u001b[0m\n",
      "\u001b[32m2025-04-29 15:53:31.205\u001b[0m | \u001b[1mINFO    \u001b[0m | \u001b[36mpympo.bipartite\u001b[0m:\u001b[36massign\u001b[0m:\u001b[36m286\u001b[0m - \u001b[1massigned 5/114\u001b[0m\n",
      "\u001b[32m2025-04-29 15:53:31.291\u001b[0m | \u001b[1mINFO    \u001b[0m | \u001b[36mpympo.bipartite\u001b[0m:\u001b[36massign\u001b[0m:\u001b[36m286\u001b[0m - \u001b[1massigned 6/114\u001b[0m\n",
      "\u001b[32m2025-04-29 15:53:31.380\u001b[0m | \u001b[1mINFO    \u001b[0m | \u001b[36mpympo.bipartite\u001b[0m:\u001b[36massign\u001b[0m:\u001b[36m286\u001b[0m - \u001b[1massigned 7/114\u001b[0m\n",
      "\u001b[32m2025-04-29 15:53:31.454\u001b[0m | \u001b[1mINFO    \u001b[0m | \u001b[36mpympo.bipartite\u001b[0m:\u001b[36massign\u001b[0m:\u001b[36m286\u001b[0m - \u001b[1massigned 8/114\u001b[0m\n",
      "\u001b[32m2025-04-29 15:53:31.540\u001b[0m | \u001b[1mINFO    \u001b[0m | \u001b[36mpympo.bipartite\u001b[0m:\u001b[36massign\u001b[0m:\u001b[36m286\u001b[0m - \u001b[1massigned 9/114\u001b[0m\n",
      "\u001b[32m2025-04-29 15:53:31.622\u001b[0m | \u001b[1mINFO    \u001b[0m | \u001b[36mpympo.bipartite\u001b[0m:\u001b[36massign\u001b[0m:\u001b[36m286\u001b[0m - \u001b[1massigned 10/114\u001b[0m\n",
      "\u001b[32m2025-04-29 15:53:31.705\u001b[0m | \u001b[1mINFO    \u001b[0m | \u001b[36mpympo.bipartite\u001b[0m:\u001b[36massign\u001b[0m:\u001b[36m286\u001b[0m - \u001b[1massigned 11/114\u001b[0m\n",
      "\u001b[32m2025-04-29 15:53:31.790\u001b[0m | \u001b[1mINFO    \u001b[0m | \u001b[36mpympo.bipartite\u001b[0m:\u001b[36massign\u001b[0m:\u001b[36m286\u001b[0m - \u001b[1massigned 12/114\u001b[0m\n",
      "\u001b[32m2025-04-29 15:53:31.869\u001b[0m | \u001b[1mINFO    \u001b[0m | \u001b[36mpympo.bipartite\u001b[0m:\u001b[36massign\u001b[0m:\u001b[36m286\u001b[0m - \u001b[1massigned 13/114\u001b[0m\n",
      "\u001b[32m2025-04-29 15:53:31.957\u001b[0m | \u001b[1mINFO    \u001b[0m | \u001b[36mpympo.bipartite\u001b[0m:\u001b[36massign\u001b[0m:\u001b[36m286\u001b[0m - \u001b[1massigned 14/114\u001b[0m\n",
      "\u001b[32m2025-04-29 15:53:32.187\u001b[0m | \u001b[1mINFO    \u001b[0m | \u001b[36mpympo.bipartite\u001b[0m:\u001b[36massign\u001b[0m:\u001b[36m286\u001b[0m - \u001b[1massigned 15/114\u001b[0m\n",
      "\u001b[32m2025-04-29 15:53:32.303\u001b[0m | \u001b[1mINFO    \u001b[0m | \u001b[36mpympo.bipartite\u001b[0m:\u001b[36massign\u001b[0m:\u001b[36m286\u001b[0m - \u001b[1massigned 16/114\u001b[0m\n",
      "\u001b[32m2025-04-29 15:53:32.412\u001b[0m | \u001b[1mINFO    \u001b[0m | \u001b[36mpympo.bipartite\u001b[0m:\u001b[36massign\u001b[0m:\u001b[36m286\u001b[0m - \u001b[1massigned 17/114\u001b[0m\n",
      "\u001b[32m2025-04-29 15:53:32.495\u001b[0m | \u001b[1mINFO    \u001b[0m | \u001b[36mpympo.bipartite\u001b[0m:\u001b[36massign\u001b[0m:\u001b[36m286\u001b[0m - \u001b[1massigned 18/114\u001b[0m\n",
      "\u001b[32m2025-04-29 15:53:32.684\u001b[0m | \u001b[1mINFO    \u001b[0m | \u001b[36mpympo.bipartite\u001b[0m:\u001b[36massign\u001b[0m:\u001b[36m286\u001b[0m - \u001b[1massigned 19/114\u001b[0m\n",
      "\u001b[32m2025-04-29 15:53:32.798\u001b[0m | \u001b[1mINFO    \u001b[0m | \u001b[36mpympo.bipartite\u001b[0m:\u001b[36massign\u001b[0m:\u001b[36m286\u001b[0m - \u001b[1massigned 20/114\u001b[0m\n",
      "\u001b[32m2025-04-29 15:53:32.894\u001b[0m | \u001b[1mINFO    \u001b[0m | \u001b[36mpympo.bipartite\u001b[0m:\u001b[36massign\u001b[0m:\u001b[36m286\u001b[0m - \u001b[1massigned 21/114\u001b[0m\n",
      "\u001b[32m2025-04-29 15:53:32.991\u001b[0m | \u001b[1mINFO    \u001b[0m | \u001b[36mpympo.bipartite\u001b[0m:\u001b[36massign\u001b[0m:\u001b[36m286\u001b[0m - \u001b[1massigned 22/114\u001b[0m\n",
      "\u001b[32m2025-04-29 15:53:33.093\u001b[0m | \u001b[1mINFO    \u001b[0m | \u001b[36mpympo.bipartite\u001b[0m:\u001b[36massign\u001b[0m:\u001b[36m286\u001b[0m - \u001b[1massigned 23/114\u001b[0m\n",
      "\u001b[32m2025-04-29 15:53:33.300\u001b[0m | \u001b[1mINFO    \u001b[0m | \u001b[36mpympo.bipartite\u001b[0m:\u001b[36massign\u001b[0m:\u001b[36m286\u001b[0m - \u001b[1massigned 24/114\u001b[0m\n",
      "\u001b[32m2025-04-29 15:53:33.395\u001b[0m | \u001b[1mINFO    \u001b[0m | \u001b[36mpympo.bipartite\u001b[0m:\u001b[36massign\u001b[0m:\u001b[36m286\u001b[0m - \u001b[1massigned 25/114\u001b[0m\n",
      "\u001b[32m2025-04-29 15:53:33.519\u001b[0m | \u001b[1mINFO    \u001b[0m | \u001b[36mpympo.bipartite\u001b[0m:\u001b[36massign\u001b[0m:\u001b[36m286\u001b[0m - \u001b[1massigned 26/114\u001b[0m\n",
      "\u001b[32m2025-04-29 15:53:33.604\u001b[0m | \u001b[1mINFO    \u001b[0m | \u001b[36mpympo.bipartite\u001b[0m:\u001b[36massign\u001b[0m:\u001b[36m286\u001b[0m - \u001b[1massigned 27/114\u001b[0m\n",
      "\u001b[32m2025-04-29 15:53:33.708\u001b[0m | \u001b[1mINFO    \u001b[0m | \u001b[36mpympo.bipartite\u001b[0m:\u001b[36massign\u001b[0m:\u001b[36m286\u001b[0m - \u001b[1massigned 28/114\u001b[0m\n",
      "\u001b[32m2025-04-29 15:53:33.808\u001b[0m | \u001b[1mINFO    \u001b[0m | \u001b[36mpympo.bipartite\u001b[0m:\u001b[36massign\u001b[0m:\u001b[36m286\u001b[0m - \u001b[1massigned 29/114\u001b[0m\n",
      "\u001b[32m2025-04-29 15:53:33.889\u001b[0m | \u001b[1mINFO    \u001b[0m | \u001b[36mpympo.bipartite\u001b[0m:\u001b[36massign\u001b[0m:\u001b[36m286\u001b[0m - \u001b[1massigned 30/114\u001b[0m\n",
      "\u001b[32m2025-04-29 15:53:34.050\u001b[0m | \u001b[1mINFO    \u001b[0m | \u001b[36mpympo.bipartite\u001b[0m:\u001b[36massign\u001b[0m:\u001b[36m286\u001b[0m - \u001b[1massigned 31/114\u001b[0m\n",
      "\u001b[32m2025-04-29 15:53:34.155\u001b[0m | \u001b[1mINFO    \u001b[0m | \u001b[36mpympo.bipartite\u001b[0m:\u001b[36massign\u001b[0m:\u001b[36m286\u001b[0m - \u001b[1massigned 32/114\u001b[0m\n",
      "\u001b[32m2025-04-29 15:53:34.240\u001b[0m | \u001b[1mINFO    \u001b[0m | \u001b[36mpympo.bipartite\u001b[0m:\u001b[36massign\u001b[0m:\u001b[36m286\u001b[0m - \u001b[1massigned 33/114\u001b[0m\n",
      "\u001b[32m2025-04-29 15:53:34.338\u001b[0m | \u001b[1mINFO    \u001b[0m | \u001b[36mpympo.bipartite\u001b[0m:\u001b[36massign\u001b[0m:\u001b[36m286\u001b[0m - \u001b[1massigned 34/114\u001b[0m\n",
      "\u001b[32m2025-04-29 15:53:34.427\u001b[0m | \u001b[1mINFO    \u001b[0m | \u001b[36mpympo.bipartite\u001b[0m:\u001b[36massign\u001b[0m:\u001b[36m286\u001b[0m - \u001b[1massigned 35/114\u001b[0m\n",
      "\u001b[32m2025-04-29 15:53:34.522\u001b[0m | \u001b[1mINFO    \u001b[0m | \u001b[36mpympo.bipartite\u001b[0m:\u001b[36massign\u001b[0m:\u001b[36m286\u001b[0m - \u001b[1massigned 36/114\u001b[0m\n",
      "\u001b[32m2025-04-29 15:53:34.627\u001b[0m | \u001b[1mINFO    \u001b[0m | \u001b[36mpympo.bipartite\u001b[0m:\u001b[36massign\u001b[0m:\u001b[36m286\u001b[0m - \u001b[1massigned 37/114\u001b[0m\n",
      "\u001b[32m2025-04-29 15:53:34.722\u001b[0m | \u001b[1mINFO    \u001b[0m | \u001b[36mpympo.bipartite\u001b[0m:\u001b[36massign\u001b[0m:\u001b[36m286\u001b[0m - \u001b[1massigned 38/114\u001b[0m\n",
      "\u001b[32m2025-04-29 15:53:34.824\u001b[0m | \u001b[1mINFO    \u001b[0m | \u001b[36mpympo.bipartite\u001b[0m:\u001b[36massign\u001b[0m:\u001b[36m286\u001b[0m - \u001b[1massigned 39/114\u001b[0m\n",
      "\u001b[32m2025-04-29 15:53:34.919\u001b[0m | \u001b[1mINFO    \u001b[0m | \u001b[36mpympo.bipartite\u001b[0m:\u001b[36massign\u001b[0m:\u001b[36m286\u001b[0m - \u001b[1massigned 40/114\u001b[0m\n",
      "\u001b[32m2025-04-29 15:53:35.008\u001b[0m | \u001b[1mINFO    \u001b[0m | \u001b[36mpympo.bipartite\u001b[0m:\u001b[36massign\u001b[0m:\u001b[36m286\u001b[0m - \u001b[1massigned 41/114\u001b[0m\n",
      "\u001b[32m2025-04-29 15:53:35.101\u001b[0m | \u001b[1mINFO    \u001b[0m | \u001b[36mpympo.bipartite\u001b[0m:\u001b[36massign\u001b[0m:\u001b[36m286\u001b[0m - \u001b[1massigned 42/114\u001b[0m\n",
      "\u001b[32m2025-04-29 15:53:35.203\u001b[0m | \u001b[1mINFO    \u001b[0m | \u001b[36mpympo.bipartite\u001b[0m:\u001b[36massign\u001b[0m:\u001b[36m286\u001b[0m - \u001b[1massigned 43/114\u001b[0m\n",
      "\u001b[32m2025-04-29 15:53:35.300\u001b[0m | \u001b[1mINFO    \u001b[0m | \u001b[36mpympo.bipartite\u001b[0m:\u001b[36massign\u001b[0m:\u001b[36m286\u001b[0m - \u001b[1massigned 44/114\u001b[0m\n",
      "\u001b[32m2025-04-29 15:53:35.394\u001b[0m | \u001b[1mINFO    \u001b[0m | \u001b[36mpympo.bipartite\u001b[0m:\u001b[36massign\u001b[0m:\u001b[36m286\u001b[0m - \u001b[1massigned 45/114\u001b[0m\n",
      "\u001b[32m2025-04-29 15:53:35.476\u001b[0m | \u001b[1mINFO    \u001b[0m | \u001b[36mpympo.bipartite\u001b[0m:\u001b[36massign\u001b[0m:\u001b[36m286\u001b[0m - \u001b[1massigned 46/114\u001b[0m\n",
      "\u001b[32m2025-04-29 15:53:35.583\u001b[0m | \u001b[1mINFO    \u001b[0m | \u001b[36mpympo.bipartite\u001b[0m:\u001b[36massign\u001b[0m:\u001b[36m286\u001b[0m - \u001b[1massigned 47/114\u001b[0m\n",
      "\u001b[32m2025-04-29 15:53:35.687\u001b[0m | \u001b[1mINFO    \u001b[0m | \u001b[36mpympo.bipartite\u001b[0m:\u001b[36massign\u001b[0m:\u001b[36m286\u001b[0m - \u001b[1massigned 48/114\u001b[0m\n",
      "\u001b[32m2025-04-29 15:53:35.781\u001b[0m | \u001b[1mINFO    \u001b[0m | \u001b[36mpympo.bipartite\u001b[0m:\u001b[36massign\u001b[0m:\u001b[36m286\u001b[0m - \u001b[1massigned 49/114\u001b[0m\n",
      "\u001b[32m2025-04-29 15:53:35.883\u001b[0m | \u001b[1mINFO    \u001b[0m | \u001b[36mpympo.bipartite\u001b[0m:\u001b[36massign\u001b[0m:\u001b[36m286\u001b[0m - \u001b[1massigned 50/114\u001b[0m\n",
      "\u001b[32m2025-04-29 15:53:35.962\u001b[0m | \u001b[1mINFO    \u001b[0m | \u001b[36mpympo.bipartite\u001b[0m:\u001b[36massign\u001b[0m:\u001b[36m286\u001b[0m - \u001b[1massigned 51/114\u001b[0m\n",
      "\u001b[32m2025-04-29 15:53:36.056\u001b[0m | \u001b[1mINFO    \u001b[0m | \u001b[36mpympo.bipartite\u001b[0m:\u001b[36massign\u001b[0m:\u001b[36m286\u001b[0m - \u001b[1massigned 52/114\u001b[0m\n",
      "\u001b[32m2025-04-29 15:53:36.156\u001b[0m | \u001b[1mINFO    \u001b[0m | \u001b[36mpympo.bipartite\u001b[0m:\u001b[36massign\u001b[0m:\u001b[36m286\u001b[0m - \u001b[1massigned 53/114\u001b[0m\n",
      "\u001b[32m2025-04-29 15:53:36.259\u001b[0m | \u001b[1mINFO    \u001b[0m | \u001b[36mpympo.bipartite\u001b[0m:\u001b[36massign\u001b[0m:\u001b[36m286\u001b[0m - \u001b[1massigned 54/114\u001b[0m\n",
      "\u001b[32m2025-04-29 15:53:36.365\u001b[0m | \u001b[1mINFO    \u001b[0m | \u001b[36mpympo.bipartite\u001b[0m:\u001b[36massign\u001b[0m:\u001b[36m286\u001b[0m - \u001b[1massigned 55/114\u001b[0m\n",
      "\u001b[32m2025-04-29 15:53:36.451\u001b[0m | \u001b[1mINFO    \u001b[0m | \u001b[36mpympo.bipartite\u001b[0m:\u001b[36massign\u001b[0m:\u001b[36m286\u001b[0m - \u001b[1massigned 56/114\u001b[0m\n",
      "\u001b[32m2025-04-29 15:53:36.523\u001b[0m | \u001b[1mINFO    \u001b[0m | \u001b[36mpympo.bipartite\u001b[0m:\u001b[36massign\u001b[0m:\u001b[36m286\u001b[0m - \u001b[1massigned 57/114\u001b[0m\n",
      "\u001b[32m2025-04-29 15:53:36.596\u001b[0m | \u001b[1mINFO    \u001b[0m | \u001b[36mpympo.bipartite\u001b[0m:\u001b[36massign\u001b[0m:\u001b[36m286\u001b[0m - \u001b[1massigned 58/114\u001b[0m\n",
      "\u001b[32m2025-04-29 15:53:36.672\u001b[0m | \u001b[1mINFO    \u001b[0m | \u001b[36mpympo.bipartite\u001b[0m:\u001b[36massign\u001b[0m:\u001b[36m286\u001b[0m - \u001b[1massigned 59/114\u001b[0m\n",
      "\u001b[32m2025-04-29 15:53:36.755\u001b[0m | \u001b[1mINFO    \u001b[0m | \u001b[36mpympo.bipartite\u001b[0m:\u001b[36massign\u001b[0m:\u001b[36m286\u001b[0m - \u001b[1massigned 60/114\u001b[0m\n",
      "\u001b[32m2025-04-29 15:53:36.851\u001b[0m | \u001b[1mINFO    \u001b[0m | \u001b[36mpympo.bipartite\u001b[0m:\u001b[36massign\u001b[0m:\u001b[36m286\u001b[0m - \u001b[1massigned 61/114\u001b[0m\n",
      "\u001b[32m2025-04-29 15:53:36.935\u001b[0m | \u001b[1mINFO    \u001b[0m | \u001b[36mpympo.bipartite\u001b[0m:\u001b[36massign\u001b[0m:\u001b[36m286\u001b[0m - \u001b[1massigned 62/114\u001b[0m\n",
      "\u001b[32m2025-04-29 15:53:37.032\u001b[0m | \u001b[1mINFO    \u001b[0m | \u001b[36mpympo.bipartite\u001b[0m:\u001b[36massign\u001b[0m:\u001b[36m286\u001b[0m - \u001b[1massigned 63/114\u001b[0m\n",
      "\u001b[32m2025-04-29 15:53:37.153\u001b[0m | \u001b[1mINFO    \u001b[0m | \u001b[36mpympo.bipartite\u001b[0m:\u001b[36massign\u001b[0m:\u001b[36m286\u001b[0m - \u001b[1massigned 64/114\u001b[0m\n",
      "\u001b[32m2025-04-29 15:53:37.270\u001b[0m | \u001b[1mINFO    \u001b[0m | \u001b[36mpympo.bipartite\u001b[0m:\u001b[36massign\u001b[0m:\u001b[36m286\u001b[0m - \u001b[1massigned 65/114\u001b[0m\n",
      "\u001b[32m2025-04-29 15:53:37.374\u001b[0m | \u001b[1mINFO    \u001b[0m | \u001b[36mpympo.bipartite\u001b[0m:\u001b[36massign\u001b[0m:\u001b[36m286\u001b[0m - \u001b[1massigned 66/114\u001b[0m\n",
      "\u001b[32m2025-04-29 15:53:37.455\u001b[0m | \u001b[1mINFO    \u001b[0m | \u001b[36mpympo.bipartite\u001b[0m:\u001b[36massign\u001b[0m:\u001b[36m286\u001b[0m - \u001b[1massigned 67/114\u001b[0m\n",
      "\u001b[32m2025-04-29 15:53:37.535\u001b[0m | \u001b[1mINFO    \u001b[0m | \u001b[36mpympo.bipartite\u001b[0m:\u001b[36massign\u001b[0m:\u001b[36m286\u001b[0m - \u001b[1massigned 68/114\u001b[0m\n",
      "\u001b[32m2025-04-29 15:53:37.622\u001b[0m | \u001b[1mINFO    \u001b[0m | \u001b[36mpympo.bipartite\u001b[0m:\u001b[36massign\u001b[0m:\u001b[36m286\u001b[0m - \u001b[1massigned 69/114\u001b[0m\n",
      "\u001b[32m2025-04-29 15:53:37.702\u001b[0m | \u001b[1mINFO    \u001b[0m | \u001b[36mpympo.bipartite\u001b[0m:\u001b[36massign\u001b[0m:\u001b[36m286\u001b[0m - \u001b[1massigned 70/114\u001b[0m\n",
      "\u001b[32m2025-04-29 15:53:37.783\u001b[0m | \u001b[1mINFO    \u001b[0m | \u001b[36mpympo.bipartite\u001b[0m:\u001b[36massign\u001b[0m:\u001b[36m286\u001b[0m - \u001b[1massigned 71/114\u001b[0m\n",
      "\u001b[32m2025-04-29 15:53:37.874\u001b[0m | \u001b[1mINFO    \u001b[0m | \u001b[36mpympo.bipartite\u001b[0m:\u001b[36massign\u001b[0m:\u001b[36m286\u001b[0m - \u001b[1massigned 72/114\u001b[0m\n",
      "\u001b[32m2025-04-29 15:53:37.956\u001b[0m | \u001b[1mINFO    \u001b[0m | \u001b[36mpympo.bipartite\u001b[0m:\u001b[36massign\u001b[0m:\u001b[36m286\u001b[0m - \u001b[1massigned 73/114\u001b[0m\n",
      "\u001b[32m2025-04-29 15:53:38.047\u001b[0m | \u001b[1mINFO    \u001b[0m | \u001b[36mpympo.bipartite\u001b[0m:\u001b[36massign\u001b[0m:\u001b[36m286\u001b[0m - \u001b[1massigned 74/114\u001b[0m\n",
      "\u001b[32m2025-04-29 15:53:38.132\u001b[0m | \u001b[1mINFO    \u001b[0m | \u001b[36mpympo.bipartite\u001b[0m:\u001b[36massign\u001b[0m:\u001b[36m286\u001b[0m - \u001b[1massigned 75/114\u001b[0m\n",
      "\u001b[32m2025-04-29 15:53:38.226\u001b[0m | \u001b[1mINFO    \u001b[0m | \u001b[36mpympo.bipartite\u001b[0m:\u001b[36massign\u001b[0m:\u001b[36m286\u001b[0m - \u001b[1massigned 76/114\u001b[0m\n",
      "\u001b[32m2025-04-29 15:53:38.317\u001b[0m | \u001b[1mINFO    \u001b[0m | \u001b[36mpympo.bipartite\u001b[0m:\u001b[36massign\u001b[0m:\u001b[36m286\u001b[0m - \u001b[1massigned 77/114\u001b[0m\n",
      "\u001b[32m2025-04-29 15:53:38.408\u001b[0m | \u001b[1mINFO    \u001b[0m | \u001b[36mpympo.bipartite\u001b[0m:\u001b[36massign\u001b[0m:\u001b[36m286\u001b[0m - \u001b[1massigned 78/114\u001b[0m\n",
      "\u001b[32m2025-04-29 15:53:38.501\u001b[0m | \u001b[1mINFO    \u001b[0m | \u001b[36mpympo.bipartite\u001b[0m:\u001b[36massign\u001b[0m:\u001b[36m286\u001b[0m - \u001b[1massigned 79/114\u001b[0m\n",
      "\u001b[32m2025-04-29 15:53:38.588\u001b[0m | \u001b[1mINFO    \u001b[0m | \u001b[36mpympo.bipartite\u001b[0m:\u001b[36massign\u001b[0m:\u001b[36m286\u001b[0m - \u001b[1massigned 80/114\u001b[0m\n",
      "\u001b[32m2025-04-29 15:53:38.678\u001b[0m | \u001b[1mINFO    \u001b[0m | \u001b[36mpympo.bipartite\u001b[0m:\u001b[36massign\u001b[0m:\u001b[36m286\u001b[0m - \u001b[1massigned 81/114\u001b[0m\n",
      "\u001b[32m2025-04-29 15:53:38.768\u001b[0m | \u001b[1mINFO    \u001b[0m | \u001b[36mpympo.bipartite\u001b[0m:\u001b[36massign\u001b[0m:\u001b[36m286\u001b[0m - \u001b[1massigned 82/114\u001b[0m\n",
      "\u001b[32m2025-04-29 15:53:38.859\u001b[0m | \u001b[1mINFO    \u001b[0m | \u001b[36mpympo.bipartite\u001b[0m:\u001b[36massign\u001b[0m:\u001b[36m286\u001b[0m - \u001b[1massigned 83/114\u001b[0m\n",
      "\u001b[32m2025-04-29 15:53:38.954\u001b[0m | \u001b[1mINFO    \u001b[0m | \u001b[36mpympo.bipartite\u001b[0m:\u001b[36massign\u001b[0m:\u001b[36m286\u001b[0m - \u001b[1massigned 84/114\u001b[0m\n",
      "\u001b[32m2025-04-29 15:53:39.047\u001b[0m | \u001b[1mINFO    \u001b[0m | \u001b[36mpympo.bipartite\u001b[0m:\u001b[36massign\u001b[0m:\u001b[36m286\u001b[0m - \u001b[1massigned 85/114\u001b[0m\n",
      "\u001b[32m2025-04-29 15:53:39.144\u001b[0m | \u001b[1mINFO    \u001b[0m | \u001b[36mpympo.bipartite\u001b[0m:\u001b[36massign\u001b[0m:\u001b[36m286\u001b[0m - \u001b[1massigned 86/114\u001b[0m\n",
      "\u001b[32m2025-04-29 15:53:39.253\u001b[0m | \u001b[1mINFO    \u001b[0m | \u001b[36mpympo.bipartite\u001b[0m:\u001b[36massign\u001b[0m:\u001b[36m286\u001b[0m - \u001b[1massigned 87/114\u001b[0m\n",
      "\u001b[32m2025-04-29 15:53:39.346\u001b[0m | \u001b[1mINFO    \u001b[0m | \u001b[36mpympo.bipartite\u001b[0m:\u001b[36massign\u001b[0m:\u001b[36m286\u001b[0m - \u001b[1massigned 88/114\u001b[0m\n",
      "\u001b[32m2025-04-29 15:53:39.442\u001b[0m | \u001b[1mINFO    \u001b[0m | \u001b[36mpympo.bipartite\u001b[0m:\u001b[36massign\u001b[0m:\u001b[36m286\u001b[0m - \u001b[1massigned 89/114\u001b[0m\n",
      "\u001b[32m2025-04-29 15:53:39.539\u001b[0m | \u001b[1mINFO    \u001b[0m | \u001b[36mpympo.bipartite\u001b[0m:\u001b[36massign\u001b[0m:\u001b[36m286\u001b[0m - \u001b[1massigned 90/114\u001b[0m\n",
      "\u001b[32m2025-04-29 15:53:39.632\u001b[0m | \u001b[1mINFO    \u001b[0m | \u001b[36mpympo.bipartite\u001b[0m:\u001b[36massign\u001b[0m:\u001b[36m286\u001b[0m - \u001b[1massigned 91/114\u001b[0m\n",
      "\u001b[32m2025-04-29 15:53:39.729\u001b[0m | \u001b[1mINFO    \u001b[0m | \u001b[36mpympo.bipartite\u001b[0m:\u001b[36massign\u001b[0m:\u001b[36m286\u001b[0m - \u001b[1massigned 92/114\u001b[0m\n",
      "\u001b[32m2025-04-29 15:53:39.827\u001b[0m | \u001b[1mINFO    \u001b[0m | \u001b[36mpympo.bipartite\u001b[0m:\u001b[36massign\u001b[0m:\u001b[36m286\u001b[0m - \u001b[1massigned 93/114\u001b[0m\n",
      "\u001b[32m2025-04-29 15:53:39.933\u001b[0m | \u001b[1mINFO    \u001b[0m | \u001b[36mpympo.bipartite\u001b[0m:\u001b[36massign\u001b[0m:\u001b[36m286\u001b[0m - \u001b[1massigned 94/114\u001b[0m\n",
      "\u001b[32m2025-04-29 15:53:40.035\u001b[0m | \u001b[1mINFO    \u001b[0m | \u001b[36mpympo.bipartite\u001b[0m:\u001b[36massign\u001b[0m:\u001b[36m286\u001b[0m - \u001b[1massigned 95/114\u001b[0m\n",
      "\u001b[32m2025-04-29 15:53:40.134\u001b[0m | \u001b[1mINFO    \u001b[0m | \u001b[36mpympo.bipartite\u001b[0m:\u001b[36massign\u001b[0m:\u001b[36m286\u001b[0m - \u001b[1massigned 96/114\u001b[0m\n",
      "\u001b[32m2025-04-29 15:53:40.235\u001b[0m | \u001b[1mINFO    \u001b[0m | \u001b[36mpympo.bipartite\u001b[0m:\u001b[36massign\u001b[0m:\u001b[36m286\u001b[0m - \u001b[1massigned 97/114\u001b[0m\n",
      "\u001b[32m2025-04-29 15:53:40.334\u001b[0m | \u001b[1mINFO    \u001b[0m | \u001b[36mpympo.bipartite\u001b[0m:\u001b[36massign\u001b[0m:\u001b[36m286\u001b[0m - \u001b[1massigned 98/114\u001b[0m\n",
      "\u001b[32m2025-04-29 15:53:40.449\u001b[0m | \u001b[1mINFO    \u001b[0m | \u001b[36mpympo.bipartite\u001b[0m:\u001b[36massign\u001b[0m:\u001b[36m286\u001b[0m - \u001b[1massigned 99/114\u001b[0m\n",
      "\u001b[32m2025-04-29 15:53:40.582\u001b[0m | \u001b[1mINFO    \u001b[0m | \u001b[36mpympo.bipartite\u001b[0m:\u001b[36massign\u001b[0m:\u001b[36m286\u001b[0m - \u001b[1massigned 100/114\u001b[0m\n",
      "\u001b[32m2025-04-29 15:53:40.695\u001b[0m | \u001b[1mINFO    \u001b[0m | \u001b[36mpympo.bipartite\u001b[0m:\u001b[36massign\u001b[0m:\u001b[36m286\u001b[0m - \u001b[1massigned 101/114\u001b[0m\n",
      "\u001b[32m2025-04-29 15:53:40.802\u001b[0m | \u001b[1mINFO    \u001b[0m | \u001b[36mpympo.bipartite\u001b[0m:\u001b[36massign\u001b[0m:\u001b[36m286\u001b[0m - \u001b[1massigned 102/114\u001b[0m\n",
      "\u001b[32m2025-04-29 15:53:40.915\u001b[0m | \u001b[1mINFO    \u001b[0m | \u001b[36mpympo.bipartite\u001b[0m:\u001b[36massign\u001b[0m:\u001b[36m286\u001b[0m - \u001b[1massigned 103/114\u001b[0m\n",
      "\u001b[32m2025-04-29 15:53:41.027\u001b[0m | \u001b[1mINFO    \u001b[0m | \u001b[36mpympo.bipartite\u001b[0m:\u001b[36massign\u001b[0m:\u001b[36m286\u001b[0m - \u001b[1massigned 104/114\u001b[0m\n",
      "\u001b[32m2025-04-29 15:53:41.134\u001b[0m | \u001b[1mINFO    \u001b[0m | \u001b[36mpympo.bipartite\u001b[0m:\u001b[36massign\u001b[0m:\u001b[36m286\u001b[0m - \u001b[1massigned 105/114\u001b[0m\n",
      "\u001b[32m2025-04-29 15:53:41.260\u001b[0m | \u001b[1mINFO    \u001b[0m | \u001b[36mpympo.bipartite\u001b[0m:\u001b[36massign\u001b[0m:\u001b[36m286\u001b[0m - \u001b[1massigned 106/114\u001b[0m\n",
      "\u001b[32m2025-04-29 15:53:41.367\u001b[0m | \u001b[1mINFO    \u001b[0m | \u001b[36mpympo.bipartite\u001b[0m:\u001b[36massign\u001b[0m:\u001b[36m286\u001b[0m - \u001b[1massigned 107/114\u001b[0m\n",
      "\u001b[32m2025-04-29 15:53:41.478\u001b[0m | \u001b[1mINFO    \u001b[0m | \u001b[36mpympo.bipartite\u001b[0m:\u001b[36massign\u001b[0m:\u001b[36m286\u001b[0m - \u001b[1massigned 108/114\u001b[0m\n",
      "\u001b[32m2025-04-29 15:53:41.591\u001b[0m | \u001b[1mINFO    \u001b[0m | \u001b[36mpympo.bipartite\u001b[0m:\u001b[36massign\u001b[0m:\u001b[36m286\u001b[0m - \u001b[1massigned 109/114\u001b[0m\n",
      "\u001b[32m2025-04-29 15:53:41.697\u001b[0m | \u001b[1mINFO    \u001b[0m | \u001b[36mpympo.bipartite\u001b[0m:\u001b[36massign\u001b[0m:\u001b[36m286\u001b[0m - \u001b[1massigned 110/114\u001b[0m\n",
      "\u001b[32m2025-04-29 15:53:41.807\u001b[0m | \u001b[1mINFO    \u001b[0m | \u001b[36mpympo.bipartite\u001b[0m:\u001b[36massign\u001b[0m:\u001b[36m286\u001b[0m - \u001b[1massigned 111/114\u001b[0m\n",
      "\u001b[32m2025-04-29 15:53:41.917\u001b[0m | \u001b[1mINFO    \u001b[0m | \u001b[36mpympo.bipartite\u001b[0m:\u001b[36massign\u001b[0m:\u001b[36m286\u001b[0m - \u001b[1massigned 112/114\u001b[0m\n",
      "\u001b[32m2025-04-29 15:53:42.035\u001b[0m | \u001b[1mINFO    \u001b[0m | \u001b[36mpympo.bipartite\u001b[0m:\u001b[36massign\u001b[0m:\u001b[36m286\u001b[0m - \u001b[1massigned 113/114\u001b[0m\n",
      "\u001b[32m2025-04-29 15:53:42.158\u001b[0m | \u001b[1mINFO    \u001b[0m | \u001b[36mpympo.bipartite\u001b[0m:\u001b[36massign\u001b[0m:\u001b[36m286\u001b[0m - \u001b[1massigned 114/114\u001b[0m\n"
     ]
    },
    {
     "data": {
      "text/latex": [
       "$\\displaystyle \\left[\\begin{array}{ccccccccccccccccccccccccccccc}|LE_{12}><LE_{12}| & |CS_{08}><CS_{08}| & |LE_{13}><LE_{13}| & |LE_{02}><LE_{02}| & |LE_{01}><LE_{01}| & |LE_{11}><LE_{11}| & |CS_{03}><CS_{03}| & |LE_{08}><LE_{08}| & |CS_{01}><CS_{01}| & |CS_{09}><CS_{09}| & |CS_{07}><CS_{07}| & |LE_{03}><LE_{03}| & |CS_{02}><CS_{02}| & |CS_{11}><CS_{11}| & |LE_{04}><LE_{04}| & |CS_{13}><CS_{13}| & |LE_{10}><LE_{10}| & |CS_{06}><CS_{06}| & |CS_{12}><CS_{12}| & |CS_{04}><CS_{04}| & |LE_{06}><LE_{06}| & |CS_{10}><CS_{10}| & |LE_{05}><LE_{05}| & (<LE|CS> + h.c.) & 1 & |CS_{05}><CS_{05}| & |LE_{07}><LE_{07}| & |LE_{09}><LE_{09}| & J \\left((|LE_{01}><LE_{02}|+h.c.) + (|LE_{02}><LE_{03}|+h.c.) + (|LE_{03}><LE_{04}|+h.c.) + (|LE_{04}><LE_{05}|+h.c.) + (|LE_{05}><LE_{06}|+h.c.) + (|LE_{06}><LE_{07}|+h.c.) + (|LE_{07}><LE_{08}|+h.c.) + (|LE_{08}><LE_{09}|+h.c.) + (|LE_{09}><LE_{10}|+h.c.) + (|LE_{10}><LE_{11}|+h.c.) + (|LE_{11}><LE_{12}|+h.c.) + (|LE_{12}><LE_{13}|+h.c.)\\right) + t \\left((|CS_{01}><CS_{02}|+h.c.) + (|CS_{02}><CS_{03}|+h.c.) + (|CS_{03}><CS_{04}|+h.c.) + (|CS_{04}><CS_{05}|+h.c.) + (|CS_{05}><CS_{06}|+h.c.) + (|CS_{06}><CS_{07}|+h.c.) + (|CS_{07}><CS_{08}|+h.c.) + (|CS_{08}><CS_{09}|+h.c.) + (|CS_{09}><CS_{10}|+h.c.) + (|CS_{10}><CS_{11}|+h.c.) + (|CS_{11}><CS_{12}|+h.c.) + (|CS_{12}><CS_{13}|+h.c.)\\right) + ε^{LE} \\left(|LE_{01}><LE_{01}| + |LE_{02}><LE_{02}| + |LE_{03}><LE_{03}| + |LE_{04}><LE_{04}| + |LE_{05}><LE_{05}| + |LE_{06}><LE_{06}| + |LE_{07}><LE_{07}| + |LE_{08}><LE_{08}| + |LE_{09}><LE_{09}| + |LE_{10}><LE_{10}| + |LE_{11}><LE_{11}| + |LE_{12}><LE_{12}| + |LE_{13}><LE_{13}|\\right)\\end{array}\\right]$"
      ],
      "text/plain": [
       "Matrix([[|LE_{12}><LE_{12}|, |CS_{08}><CS_{08}|, |LE_{13}><LE_{13}|, |LE_{02}><LE_{02}|, |LE_{01}><LE_{01}|, |LE_{11}><LE_{11}|, |CS_{03}><CS_{03}|, |LE_{08}><LE_{08}|, |CS_{01}><CS_{01}|, |CS_{09}><CS_{09}|, |CS_{07}><CS_{07}|, |LE_{03}><LE_{03}|, |CS_{02}><CS_{02}|, |CS_{11}><CS_{11}|, |LE_{04}><LE_{04}|, |CS_{13}><CS_{13}|, |LE_{10}><LE_{10}|, |CS_{06}><CS_{06}|, |CS_{12}><CS_{12}|, |CS_{04}><CS_{04}|, |LE_{06}><LE_{06}|, |CS_{10}><CS_{10}|, |LE_{05}><LE_{05}|, (<LE|CS> + h.c.), 1, |CS_{05}><CS_{05}|, |LE_{07}><LE_{07}|, |LE_{09}><LE_{09}|, J*((|LE_{01}><LE_{02}|+h.c.) + (|LE_{02}><LE_{03}|+h.c.) + (|LE_{03}><LE_{04}|+h.c.) + (|LE_{04}><LE_{05}|+h.c.) + (|LE_{05}><LE_{06}|+h.c.) + (|LE_{06}><LE_{07}|+h.c.) + (|LE_{07}><LE_{08}|+h.c.) + (|LE_{08}><LE_{09}|+h.c.) + (|LE_{09}><LE_{10}|+h.c.) + (|LE_{10}><LE_{11}|+h.c.) + (|LE_{11}><LE_{12}|+h.c.) + (|LE_{12}><LE_{13}|+h.c.)) + t*((|CS_{01}><CS_{02}|+h.c.) + (|CS_{02}><CS_{03}|+h.c.) + (|CS_{03}><CS_{04}|+h.c.) + (|CS_{04}><CS_{05}|+h.c.) + (|CS_{05}><CS_{06}|+h.c.) + (|CS_{06}><CS_{07}|+h.c.) + (|CS_{07}><CS_{08}|+h.c.) + (|CS_{08}><CS_{09}|+h.c.) + (|CS_{09}><CS_{10}|+h.c.) + (|CS_{10}><CS_{11}|+h.c.) + (|CS_{11}><CS_{12}|+h.c.) + (|CS_{12}><CS_{13}|+h.c.)) + ε^{LE}*(|LE_{01}><LE_{01}| + |LE_{02}><LE_{02}| + |LE_{03}><LE_{03}| + |LE_{04}><LE_{04}| + |LE_{05}><LE_{05}| + |LE_{06}><LE_{06}| + |LE_{07}><LE_{07}| + |LE_{08}><LE_{08}| + |LE_{09}><LE_{09}| + |LE_{10}><LE_{10}| + |LE_{11}><LE_{11}| + |LE_{12}><LE_{12}| + |LE_{13}><LE_{13}|)]])"
      ]
     },
     "metadata": {},
     "output_type": "display_data"
    },
    {
     "data": {
      "text/latex": [
       "$\\displaystyle \\left[\\begin{array}{cccccccccccccccccccccccccccc}0 & 0 & 0 & 0 & 0 & 0 & 0 & 0 & 0 & 0 & 0 & 0 & 0 & 0 & 0 & 0 & 0 & 0 & 1 & 0 & 0 & 0 & 0 & 0 & 0 & 0 & 0 & 0\\\\0 & 0 & 0 & 0 & 0 & 0 & 0 & 0 & 1 & 0 & 0 & 0 & 0 & 0 & 0 & 0 & 0 & 0 & 0 & 0 & 0 & 0 & 0 & 0 & 0 & 0 & 0 & 0\\\\0 & 0 & 0 & 0 & 0 & 0 & 0 & 0 & 0 & 0 & 0 & 0 & 0 & 0 & 0 & 0 & 0 & 0 & 0 & 0 & 0 & 0 & 0 & 0 & 1 & 0 & 0 & 0\\\\0 & 0 & 0 & 0 & 0 & 0 & 0 & 0 & 0 & 0 & 0 & 0 & 0 & 0 & 0 & 0 & 0 & 0 & 0 & 0 & 0 & 0 & 0 & 0 & 0 & 1 & 0 & 0\\\\0 & 0 & 0 & 0 & 0 & 0 & 0 & 0 & 0 & 0 & 0 & 0 & 0 & 0 & 0 & 0 & 1 & 0 & 0 & 0 & 0 & 0 & 0 & 0 & 0 & 0 & 0 & 0\\\\0 & 0 & 0 & 0 & 0 & 0 & 0 & 0 & 0 & 0 & 0 & 0 & 0 & 0 & 0 & 0 & 0 & 0 & 0 & 0 & 0 & 1 & 0 & 0 & 0 & 0 & 0 & 0\\\\0 & 0 & 0 & 0 & 0 & 0 & 0 & 0 & 0 & 0 & 0 & 0 & 1 & 0 & 0 & 0 & 0 & 0 & 0 & 0 & 0 & 0 & 0 & 0 & 0 & 0 & 0 & 0\\\\0 & 0 & 0 & 0 & 1 & 0 & 0 & 0 & 0 & 0 & 0 & 0 & 0 & 0 & 0 & 0 & 0 & 0 & 0 & 0 & 0 & 0 & 0 & 0 & 0 & 0 & 0 & 0\\\\0 & 0 & 0 & 0 & 0 & 0 & 0 & 0 & 0 & 0 & 0 & 0 & 0 & 0 & 0 & 1 & 0 & 0 & 0 & 0 & 0 & 0 & 0 & 0 & 0 & 0 & 0 & g_{CS, CS} \\left(b^{\\dagger}_R + b_{R}\\right)\\\\0 & 0 & 0 & 0 & 0 & 0 & 0 & 1 & 0 & 0 & 0 & 0 & 0 & 0 & 0 & 0 & 0 & 0 & 0 & 0 & 0 & 0 & 0 & 0 & 0 & 0 & 0 & 0\\\\0 & 0 & 0 & 0 & 0 & 0 & 0 & 0 & 0 & 0 & 0 & 0 & 0 & 0 & 0 & 0 & 0 & 0 & 0 & 1 & 0 & 0 & 0 & 0 & 0 & 0 & 0 & 0\\\\0 & 0 & 0 & 0 & 0 & 0 & 0 & 0 & 0 & 0 & 0 & 1 & 0 & 0 & 0 & 0 & 0 & 0 & 0 & 0 & 0 & 0 & 0 & 0 & 0 & 0 & 0 & 0\\\\0 & 0 & 0 & 0 & 0 & 0 & 0 & 0 & 0 & 0 & 0 & 0 & 0 & 0 & 1 & 0 & 0 & 0 & 0 & 0 & 0 & 0 & 0 & 0 & 0 & 0 & 0 & 0\\\\0 & 0 & 0 & 0 & 0 & 0 & 0 & 0 & 0 & 0 & 0 & 0 & 0 & 0 & 0 & 0 & 0 & 0 & 0 & 0 & 1 & 0 & 0 & 0 & 0 & 0 & 0 & 0\\\\0 & 0 & 0 & 0 & 0 & 0 & 0 & 0 & 0 & 0 & 0 & 0 & 0 & 0 & 0 & 0 & 0 & 1 & 0 & 0 & 0 & 0 & 0 & 0 & 0 & 0 & 0 & 0\\\\0 & 1 & 0 & 0 & 0 & 0 & 0 & 0 & 0 & 0 & 0 & 0 & 0 & 0 & 0 & 0 & 0 & 0 & 0 & 0 & 0 & 0 & 0 & 0 & 0 & 0 & 0 & 0\\\\0 & 0 & 0 & 0 & 0 & 0 & 0 & 0 & 0 & 0 & 0 & 0 & 0 & 0 & 0 & 0 & 0 & 0 & 0 & 0 & 0 & 0 & 0 & 0 & 0 & 0 & 1 & 0\\\\0 & 0 & 0 & 0 & 0 & 0 & 0 & 0 & 0 & 0 & 1 & 0 & 0 & 0 & 0 & 0 & 0 & 0 & 0 & 0 & 0 & 0 & 0 & 0 & 0 & 0 & 0 & 0\\\\0 & 0 & 0 & 0 & 0 & 0 & 0 & 0 & 0 & 0 & 0 & 0 & 0 & 0 & 0 & 0 & 0 & 0 & 0 & 0 & 0 & 0 & 0 & 1 & 0 & 0 & 0 & 0\\\\0 & 0 & 0 & 0 & 0 & 0 & 0 & 0 & 0 & 0 & 0 & 0 & 0 & 1 & 0 & 0 & 0 & 0 & 0 & 0 & 0 & 0 & 0 & 0 & 0 & 0 & 0 & 0\\\\0 & 0 & 0 & 0 & 0 & 1 & 0 & 0 & 0 & 0 & 0 & 0 & 0 & 0 & 0 & 0 & 0 & 0 & 0 & 0 & 0 & 0 & 0 & 0 & 0 & 0 & 0 & 0\\\\1 & 0 & 0 & 0 & 0 & 0 & 0 & 0 & 0 & 0 & 0 & 0 & 0 & 0 & 0 & 0 & 0 & 0 & 0 & 0 & 0 & 0 & 0 & 0 & 0 & 0 & 0 & 0\\\\0 & 0 & 1 & 0 & 0 & 0 & 0 & 0 & 0 & 0 & 0 & 0 & 0 & 0 & 0 & 0 & 0 & 0 & 0 & 0 & 0 & 0 & 0 & 0 & 0 & 0 & 0 & 0\\\\0 & 0 & 0 & 0 & 0 & 0 & 0 & 0 & 0 & 0 & 0 & 0 & 0 & 0 & 0 & 0 & 0 & 0 & 0 & 0 & 0 & 0 & 0 & 0 & 0 & 0 & 0 & g_{LE, CS} \\left(b^{\\dagger}_R + b_{R}\\right) + λ\\\\0 & 0 & 0 & 0 & 0 & 0 & 0 & 0 & 0 & 1 & 0 & 0 & 0 & 0 & 0 & 0 & 0 & 0 & 0 & 0 & 0 & 0 & 0 & 0 & 0 & 0 & 0 & ω b^{\\dagger}_R b_{R}\\\\0 & 0 & 0 & 0 & 0 & 0 & 0 & 0 & 0 & 0 & 0 & 0 & 0 & 0 & 0 & 0 & 0 & 0 & 0 & 0 & 0 & 0 & 1 & 0 & 0 & 0 & 0 & 0\\\\0 & 0 & 0 & 0 & 0 & 0 & 1 & 0 & 0 & 0 & 0 & 0 & 0 & 0 & 0 & 0 & 0 & 0 & 0 & 0 & 0 & 0 & 0 & 0 & 0 & 0 & 0 & 0\\\\0 & 0 & 0 & 1 & 0 & 0 & 0 & 0 & 0 & 0 & 0 & 0 & 0 & 0 & 0 & 0 & 0 & 0 & 0 & 0 & 0 & 0 & 0 & 0 & 0 & 0 & 0 & 0\\\\0 & 0 & 0 & 0 & 0 & 0 & 0 & 0 & 0 & 0 & 0 & 0 & 0 & 0 & 0 & 0 & 0 & 0 & 0 & 0 & 0 & 0 & 0 & 0 & 0 & 0 & 0 & 1\\end{array}\\right]$"
      ],
      "text/plain": [
       "Matrix([\n",
       "[0, 0, 0, 0, 0, 0, 0, 0, 0, 0, 0, 0, 0, 0, 0, 0, 0, 0, 1, 0, 0, 0, 0, 0, 0, 0, 0,                                    0],\n",
       "[0, 0, 0, 0, 0, 0, 0, 0, 1, 0, 0, 0, 0, 0, 0, 0, 0, 0, 0, 0, 0, 0, 0, 0, 0, 0, 0,                                    0],\n",
       "[0, 0, 0, 0, 0, 0, 0, 0, 0, 0, 0, 0, 0, 0, 0, 0, 0, 0, 0, 0, 0, 0, 0, 0, 1, 0, 0,                                    0],\n",
       "[0, 0, 0, 0, 0, 0, 0, 0, 0, 0, 0, 0, 0, 0, 0, 0, 0, 0, 0, 0, 0, 0, 0, 0, 0, 1, 0,                                    0],\n",
       "[0, 0, 0, 0, 0, 0, 0, 0, 0, 0, 0, 0, 0, 0, 0, 0, 1, 0, 0, 0, 0, 0, 0, 0, 0, 0, 0,                                    0],\n",
       "[0, 0, 0, 0, 0, 0, 0, 0, 0, 0, 0, 0, 0, 0, 0, 0, 0, 0, 0, 0, 0, 1, 0, 0, 0, 0, 0,                                    0],\n",
       "[0, 0, 0, 0, 0, 0, 0, 0, 0, 0, 0, 0, 1, 0, 0, 0, 0, 0, 0, 0, 0, 0, 0, 0, 0, 0, 0,                                    0],\n",
       "[0, 0, 0, 0, 1, 0, 0, 0, 0, 0, 0, 0, 0, 0, 0, 0, 0, 0, 0, 0, 0, 0, 0, 0, 0, 0, 0,                                    0],\n",
       "[0, 0, 0, 0, 0, 0, 0, 0, 0, 0, 0, 0, 0, 0, 0, 1, 0, 0, 0, 0, 0, 0, 0, 0, 0, 0, 0,     g_{CS, CS}*(b^{\\dagger}_R + b_R)],\n",
       "[0, 0, 0, 0, 0, 0, 0, 1, 0, 0, 0, 0, 0, 0, 0, 0, 0, 0, 0, 0, 0, 0, 0, 0, 0, 0, 0,                                    0],\n",
       "[0, 0, 0, 0, 0, 0, 0, 0, 0, 0, 0, 0, 0, 0, 0, 0, 0, 0, 0, 1, 0, 0, 0, 0, 0, 0, 0,                                    0],\n",
       "[0, 0, 0, 0, 0, 0, 0, 0, 0, 0, 0, 1, 0, 0, 0, 0, 0, 0, 0, 0, 0, 0, 0, 0, 0, 0, 0,                                    0],\n",
       "[0, 0, 0, 0, 0, 0, 0, 0, 0, 0, 0, 0, 0, 0, 1, 0, 0, 0, 0, 0, 0, 0, 0, 0, 0, 0, 0,                                    0],\n",
       "[0, 0, 0, 0, 0, 0, 0, 0, 0, 0, 0, 0, 0, 0, 0, 0, 0, 0, 0, 0, 1, 0, 0, 0, 0, 0, 0,                                    0],\n",
       "[0, 0, 0, 0, 0, 0, 0, 0, 0, 0, 0, 0, 0, 0, 0, 0, 0, 1, 0, 0, 0, 0, 0, 0, 0, 0, 0,                                    0],\n",
       "[0, 1, 0, 0, 0, 0, 0, 0, 0, 0, 0, 0, 0, 0, 0, 0, 0, 0, 0, 0, 0, 0, 0, 0, 0, 0, 0,                                    0],\n",
       "[0, 0, 0, 0, 0, 0, 0, 0, 0, 0, 0, 0, 0, 0, 0, 0, 0, 0, 0, 0, 0, 0, 0, 0, 0, 0, 1,                                    0],\n",
       "[0, 0, 0, 0, 0, 0, 0, 0, 0, 0, 1, 0, 0, 0, 0, 0, 0, 0, 0, 0, 0, 0, 0, 0, 0, 0, 0,                                    0],\n",
       "[0, 0, 0, 0, 0, 0, 0, 0, 0, 0, 0, 0, 0, 0, 0, 0, 0, 0, 0, 0, 0, 0, 0, 1, 0, 0, 0,                                    0],\n",
       "[0, 0, 0, 0, 0, 0, 0, 0, 0, 0, 0, 0, 0, 1, 0, 0, 0, 0, 0, 0, 0, 0, 0, 0, 0, 0, 0,                                    0],\n",
       "[0, 0, 0, 0, 0, 1, 0, 0, 0, 0, 0, 0, 0, 0, 0, 0, 0, 0, 0, 0, 0, 0, 0, 0, 0, 0, 0,                                    0],\n",
       "[1, 0, 0, 0, 0, 0, 0, 0, 0, 0, 0, 0, 0, 0, 0, 0, 0, 0, 0, 0, 0, 0, 0, 0, 0, 0, 0,                                    0],\n",
       "[0, 0, 1, 0, 0, 0, 0, 0, 0, 0, 0, 0, 0, 0, 0, 0, 0, 0, 0, 0, 0, 0, 0, 0, 0, 0, 0,                                    0],\n",
       "[0, 0, 0, 0, 0, 0, 0, 0, 0, 0, 0, 0, 0, 0, 0, 0, 0, 0, 0, 0, 0, 0, 0, 0, 0, 0, 0, g_{LE, CS}*(b^{\\dagger}_R + b_R) + λ],\n",
       "[0, 0, 0, 0, 0, 0, 0, 0, 0, 1, 0, 0, 0, 0, 0, 0, 0, 0, 0, 0, 0, 0, 0, 0, 0, 0, 0,                  ω*b^{\\dagger}_R*b_R],\n",
       "[0, 0, 0, 0, 0, 0, 0, 0, 0, 0, 0, 0, 0, 0, 0, 0, 0, 0, 0, 0, 0, 0, 1, 0, 0, 0, 0,                                    0],\n",
       "[0, 0, 0, 0, 0, 0, 1, 0, 0, 0, 0, 0, 0, 0, 0, 0, 0, 0, 0, 0, 0, 0, 0, 0, 0, 0, 0,                                    0],\n",
       "[0, 0, 0, 1, 0, 0, 0, 0, 0, 0, 0, 0, 0, 0, 0, 0, 0, 0, 0, 0, 0, 0, 0, 0, 0, 0, 0,                                    0],\n",
       "[0, 0, 0, 0, 0, 0, 0, 0, 0, 0, 0, 0, 0, 0, 0, 0, 0, 0, 0, 0, 0, 0, 0, 0, 0, 0, 0,                                    1]])"
      ]
     },
     "metadata": {},
     "output_type": "display_data"
    },
    {
     "data": {
      "text/latex": [
       "$\\displaystyle \\left[\\begin{array}{cccccccccccccccccccccccccccc}0 & 0 & 0 & 0 & 0 & 0 & 0 & 0 & 0 & 0 & 0 & 1 & 0 & 0 & 0 & 0 & 0 & 0 & 0 & 0 & 0 & 0 & 0 & 0 & 0 & 0 & 0 & g^{F}_1 \\left(b^\\dagger_{F, 01} + b_{F, 01}\\right)\\\\0 & 0 & 0 & 0 & 0 & 0 & 0 & 0 & 0 & 0 & 0 & 0 & 0 & 0 & 0 & 0 & 0 & 0 & 0 & 0 & 0 & 1 & 0 & 0 & 0 & 0 & 0 & g^{F}_1 \\left(b^\\dagger_{F, 01} + b_{F, 01}\\right)\\\\0 & 0 & 0 & 1 & 0 & 0 & 0 & 0 & 0 & 0 & 0 & 0 & 0 & 0 & 0 & 0 & 0 & 0 & 0 & 0 & 0 & 0 & 0 & 0 & 0 & 0 & 0 & 0\\\\0 & 0 & 0 & 0 & 0 & 0 & 0 & 0 & 0 & 0 & 0 & 0 & 0 & 0 & 0 & 0 & 0 & 1 & 0 & 0 & 0 & 0 & 0 & 0 & 0 & 0 & 0 & 0\\\\0 & 0 & 0 & 0 & 0 & 0 & 0 & 0 & 0 & 0 & 0 & 0 & 0 & 0 & 1 & 0 & 0 & 0 & 0 & 0 & 0 & 0 & 0 & 0 & 0 & 0 & 0 & 0\\\\0 & 0 & 0 & 0 & 0 & 0 & 0 & 1 & 0 & 0 & 0 & 0 & 0 & 0 & 0 & 0 & 0 & 0 & 0 & 0 & 0 & 0 & 0 & 0 & 0 & 0 & 0 & 0\\\\0 & 0 & 0 & 0 & 0 & 0 & 0 & 0 & 0 & 0 & 0 & 0 & 0 & 0 & 0 & 0 & 0 & 0 & 0 & 0 & 0 & 0 & 0 & 1 & 0 & 0 & 0 & 0\\\\0 & 0 & 0 & 0 & 0 & 0 & 0 & 0 & 0 & 0 & 0 & 0 & 0 & 0 & 0 & 0 & 0 & 0 & 0 & 1 & 0 & 0 & 0 & 0 & 0 & 0 & 0 & g^{F}_1 \\left(b^\\dagger_{F, 01} + b_{F, 01}\\right)\\\\0 & 0 & 0 & 0 & 0 & 0 & 0 & 0 & 0 & 0 & 0 & 0 & 0 & 1 & 0 & 0 & 0 & 0 & 0 & 0 & 0 & 0 & 0 & 0 & 0 & 0 & 0 & g^{F}_1 \\left(b^\\dagger_{F, 01} + b_{F, 01}\\right)\\\\0 & 0 & 0 & 0 & 0 & 0 & 0 & 0 & 0 & 0 & 0 & 0 & 0 & 0 & 0 & 0 & 0 & 0 & 0 & 0 & 0 & 0 & 0 & 0 & 0 & 0 & 1 & ω^{F}_1 b_{F, 01} b^\\dagger_{F, 01}\\\\1 & 0 & 0 & 0 & 0 & 0 & 0 & 0 & 0 & 0 & 0 & 0 & 0 & 0 & 0 & 0 & 0 & 0 & 0 & 0 & 0 & 0 & 0 & 0 & 0 & 0 & 0 & g^{F}_1 \\left(b^\\dagger_{F, 01} + b_{F, 01}\\right)\\\\0 & 0 & 0 & 0 & 0 & 0 & 0 & 0 & 0 & 0 & 0 & 0 & 0 & 0 & 0 & 0 & 0 & 0 & 0 & 0 & 1 & 0 & 0 & 0 & 0 & 0 & 0 & 0\\\\0 & 0 & 0 & 0 & 0 & 0 & 0 & 0 & 0 & 0 & 0 & 0 & 0 & 0 & 0 & 0 & 1 & 0 & 0 & 0 & 0 & 0 & 0 & 0 & 0 & 0 & 0 & g^{F}_1 \\left(b^\\dagger_{F, 01} + b_{F, 01}\\right)\\\\0 & 0 & 0 & 0 & 0 & 0 & 0 & 0 & 0 & 0 & 0 & 0 & 0 & 0 & 0 & 0 & 0 & 0 & 1 & 0 & 0 & 0 & 0 & 0 & 0 & 0 & 0 & g^{F}_1 \\left(b^\\dagger_{F, 01} + b_{F, 01}\\right)\\\\0 & 0 & 0 & 0 & 0 & 0 & 0 & 0 & 0 & 0 & 0 & 0 & 0 & 0 & 0 & 1 & 0 & 0 & 0 & 0 & 0 & 0 & 0 & 0 & 0 & 0 & 0 & g^{F}_1 \\left(b^\\dagger_{F, 01} + b_{F, 01}\\right)\\\\0 & 0 & 0 & 0 & 0 & 0 & 0 & 0 & 1 & 0 & 0 & 0 & 0 & 0 & 0 & 0 & 0 & 0 & 0 & 0 & 0 & 0 & 0 & 0 & 0 & 0 & 0 & g^{F}_1 \\left(b^\\dagger_{F, 01} + b_{F, 01}\\right)\\\\0 & 1 & 0 & 0 & 0 & 0 & 0 & 0 & 0 & 0 & 0 & 0 & 0 & 0 & 0 & 0 & 0 & 0 & 0 & 0 & 0 & 0 & 0 & 0 & 0 & 0 & 0 & 0\\\\0 & 0 & 1 & 0 & 0 & 0 & 0 & 0 & 0 & 0 & 0 & 0 & 0 & 0 & 0 & 0 & 0 & 0 & 0 & 0 & 0 & 0 & 0 & 0 & 0 & 0 & 0 & 0\\\\0 & 0 & 0 & 0 & 0 & 0 & 0 & 0 & 0 & 0 & 0 & 0 & 0 & 0 & 0 & 0 & 0 & 0 & 0 & 0 & 0 & 0 & 0 & 0 & 1 & 0 & 0 & 0\\\\0 & 0 & 0 & 0 & 0 & 1 & 0 & 0 & 0 & 0 & 0 & 0 & 0 & 0 & 0 & 0 & 0 & 0 & 0 & 0 & 0 & 0 & 0 & 0 & 0 & 0 & 0 & g^{F}_1 \\left(b^\\dagger_{F, 01} + b_{F, 01}\\right)\\\\0 & 0 & 0 & 0 & 0 & 0 & 0 & 0 & 0 & 1 & 0 & 0 & 0 & 0 & 0 & 0 & 0 & 0 & 0 & 0 & 0 & 0 & 0 & 0 & 0 & 0 & 0 & g^{F}_1 \\left(b^\\dagger_{F, 01} + b_{F, 01}\\right)\\\\0 & 0 & 0 & 0 & 0 & 0 & 1 & 0 & 0 & 0 & 0 & 0 & 0 & 0 & 0 & 0 & 0 & 0 & 0 & 0 & 0 & 0 & 0 & 0 & 0 & 0 & 0 & 0\\\\0 & 0 & 0 & 0 & 1 & 0 & 0 & 0 & 0 & 0 & 0 & 0 & 0 & 0 & 0 & 0 & 0 & 0 & 0 & 0 & 0 & 0 & 0 & 0 & 0 & 0 & 0 & g^{F}_1 \\left(b^\\dagger_{F, 01} + b_{F, 01}\\right)\\\\0 & 0 & 0 & 0 & 0 & 0 & 0 & 0 & 0 & 0 & 0 & 0 & 0 & 0 & 0 & 0 & 0 & 0 & 0 & 0 & 0 & 0 & 1 & 0 & 0 & 0 & 0 & g^{F}_1 \\left(b^\\dagger_{F, 01} + b_{F, 01}\\right)\\\\0 & 0 & 0 & 0 & 0 & 0 & 0 & 0 & 0 & 0 & 0 & 0 & 1 & 0 & 0 & 0 & 0 & 0 & 0 & 0 & 0 & 0 & 0 & 0 & 0 & 0 & 0 & 0\\\\0 & 0 & 0 & 0 & 0 & 0 & 0 & 0 & 0 & 0 & 1 & 0 & 0 & 0 & 0 & 0 & 0 & 0 & 0 & 0 & 0 & 0 & 0 & 0 & 0 & 0 & 0 & 0\\\\0 & 0 & 0 & 0 & 0 & 0 & 0 & 0 & 0 & 0 & 0 & 0 & 0 & 0 & 0 & 0 & 0 & 0 & 0 & 0 & 0 & 0 & 0 & 0 & 0 & 1 & 0 & 0\\\\0 & 0 & 0 & 0 & 0 & 0 & 0 & 0 & 0 & 0 & 0 & 0 & 0 & 0 & 0 & 0 & 0 & 0 & 0 & 0 & 0 & 0 & 0 & 0 & 0 & 0 & 0 & 1\\end{array}\\right]$"
      ],
      "text/plain": [
       "Matrix([\n",
       "[0, 0, 0, 0, 0, 0, 0, 0, 0, 0, 0, 1, 0, 0, 0, 0, 0, 0, 0, 0, 0, 0, 0, 0, 0, 0, 0, g^{F}_1*(b^\\dagger_{F, 01} + b_{F, 01})],\n",
       "[0, 0, 0, 0, 0, 0, 0, 0, 0, 0, 0, 0, 0, 0, 0, 0, 0, 0, 0, 0, 0, 1, 0, 0, 0, 0, 0, g^{F}_1*(b^\\dagger_{F, 01} + b_{F, 01})],\n",
       "[0, 0, 0, 1, 0, 0, 0, 0, 0, 0, 0, 0, 0, 0, 0, 0, 0, 0, 0, 0, 0, 0, 0, 0, 0, 0, 0,                                       0],\n",
       "[0, 0, 0, 0, 0, 0, 0, 0, 0, 0, 0, 0, 0, 0, 0, 0, 0, 1, 0, 0, 0, 0, 0, 0, 0, 0, 0,                                       0],\n",
       "[0, 0, 0, 0, 0, 0, 0, 0, 0, 0, 0, 0, 0, 0, 1, 0, 0, 0, 0, 0, 0, 0, 0, 0, 0, 0, 0,                                       0],\n",
       "[0, 0, 0, 0, 0, 0, 0, 1, 0, 0, 0, 0, 0, 0, 0, 0, 0, 0, 0, 0, 0, 0, 0, 0, 0, 0, 0,                                       0],\n",
       "[0, 0, 0, 0, 0, 0, 0, 0, 0, 0, 0, 0, 0, 0, 0, 0, 0, 0, 0, 0, 0, 0, 0, 1, 0, 0, 0,                                       0],\n",
       "[0, 0, 0, 0, 0, 0, 0, 0, 0, 0, 0, 0, 0, 0, 0, 0, 0, 0, 0, 1, 0, 0, 0, 0, 0, 0, 0, g^{F}_1*(b^\\dagger_{F, 01} + b_{F, 01})],\n",
       "[0, 0, 0, 0, 0, 0, 0, 0, 0, 0, 0, 0, 0, 1, 0, 0, 0, 0, 0, 0, 0, 0, 0, 0, 0, 0, 0, g^{F}_1*(b^\\dagger_{F, 01} + b_{F, 01})],\n",
       "[0, 0, 0, 0, 0, 0, 0, 0, 0, 0, 0, 0, 0, 0, 0, 0, 0, 0, 0, 0, 0, 0, 0, 0, 0, 0, 1,     ω^{F}_1*b_{F, 01}*b^\\dagger_{F, 01}],\n",
       "[1, 0, 0, 0, 0, 0, 0, 0, 0, 0, 0, 0, 0, 0, 0, 0, 0, 0, 0, 0, 0, 0, 0, 0, 0, 0, 0, g^{F}_1*(b^\\dagger_{F, 01} + b_{F, 01})],\n",
       "[0, 0, 0, 0, 0, 0, 0, 0, 0, 0, 0, 0, 0, 0, 0, 0, 0, 0, 0, 0, 1, 0, 0, 0, 0, 0, 0,                                       0],\n",
       "[0, 0, 0, 0, 0, 0, 0, 0, 0, 0, 0, 0, 0, 0, 0, 0, 1, 0, 0, 0, 0, 0, 0, 0, 0, 0, 0, g^{F}_1*(b^\\dagger_{F, 01} + b_{F, 01})],\n",
       "[0, 0, 0, 0, 0, 0, 0, 0, 0, 0, 0, 0, 0, 0, 0, 0, 0, 0, 1, 0, 0, 0, 0, 0, 0, 0, 0, g^{F}_1*(b^\\dagger_{F, 01} + b_{F, 01})],\n",
       "[0, 0, 0, 0, 0, 0, 0, 0, 0, 0, 0, 0, 0, 0, 0, 1, 0, 0, 0, 0, 0, 0, 0, 0, 0, 0, 0, g^{F}_1*(b^\\dagger_{F, 01} + b_{F, 01})],\n",
       "[0, 0, 0, 0, 0, 0, 0, 0, 1, 0, 0, 0, 0, 0, 0, 0, 0, 0, 0, 0, 0, 0, 0, 0, 0, 0, 0, g^{F}_1*(b^\\dagger_{F, 01} + b_{F, 01})],\n",
       "[0, 1, 0, 0, 0, 0, 0, 0, 0, 0, 0, 0, 0, 0, 0, 0, 0, 0, 0, 0, 0, 0, 0, 0, 0, 0, 0,                                       0],\n",
       "[0, 0, 1, 0, 0, 0, 0, 0, 0, 0, 0, 0, 0, 0, 0, 0, 0, 0, 0, 0, 0, 0, 0, 0, 0, 0, 0,                                       0],\n",
       "[0, 0, 0, 0, 0, 0, 0, 0, 0, 0, 0, 0, 0, 0, 0, 0, 0, 0, 0, 0, 0, 0, 0, 0, 1, 0, 0,                                       0],\n",
       "[0, 0, 0, 0, 0, 1, 0, 0, 0, 0, 0, 0, 0, 0, 0, 0, 0, 0, 0, 0, 0, 0, 0, 0, 0, 0, 0, g^{F}_1*(b^\\dagger_{F, 01} + b_{F, 01})],\n",
       "[0, 0, 0, 0, 0, 0, 0, 0, 0, 1, 0, 0, 0, 0, 0, 0, 0, 0, 0, 0, 0, 0, 0, 0, 0, 0, 0, g^{F}_1*(b^\\dagger_{F, 01} + b_{F, 01})],\n",
       "[0, 0, 0, 0, 0, 0, 1, 0, 0, 0, 0, 0, 0, 0, 0, 0, 0, 0, 0, 0, 0, 0, 0, 0, 0, 0, 0,                                       0],\n",
       "[0, 0, 0, 0, 1, 0, 0, 0, 0, 0, 0, 0, 0, 0, 0, 0, 0, 0, 0, 0, 0, 0, 0, 0, 0, 0, 0, g^{F}_1*(b^\\dagger_{F, 01} + b_{F, 01})],\n",
       "[0, 0, 0, 0, 0, 0, 0, 0, 0, 0, 0, 0, 0, 0, 0, 0, 0, 0, 0, 0, 0, 0, 1, 0, 0, 0, 0, g^{F}_1*(b^\\dagger_{F, 01} + b_{F, 01})],\n",
       "[0, 0, 0, 0, 0, 0, 0, 0, 0, 0, 0, 0, 1, 0, 0, 0, 0, 0, 0, 0, 0, 0, 0, 0, 0, 0, 0,                                       0],\n",
       "[0, 0, 0, 0, 0, 0, 0, 0, 0, 0, 1, 0, 0, 0, 0, 0, 0, 0, 0, 0, 0, 0, 0, 0, 0, 0, 0,                                       0],\n",
       "[0, 0, 0, 0, 0, 0, 0, 0, 0, 0, 0, 0, 0, 0, 0, 0, 0, 0, 0, 0, 0, 0, 0, 0, 0, 1, 0,                                       0],\n",
       "[0, 0, 0, 0, 0, 0, 0, 0, 0, 0, 0, 0, 0, 0, 0, 0, 0, 0, 0, 0, 0, 0, 0, 0, 0, 0, 0,                                       1]])"
      ]
     },
     "metadata": {},
     "output_type": "display_data"
    },
    {
     "data": {
      "text/latex": [
       "$\\displaystyle \\left[\\begin{array}{cccccccccccccccccccccccccccc}0 & 0 & 0 & 0 & 0 & 0 & 0 & 0 & 0 & 0 & 0 & 0 & 0 & 0 & 1 & 0 & 0 & 0 & 0 & 0 & 0 & 0 & 0 & 0 & 0 & 0 & 0 & g^{F}_2 \\left(b^\\dagger_{F, 02} + b_{F, 02}\\right)\\\\0 & 0 & 0 & 0 & 1 & 0 & 0 & 0 & 0 & 0 & 0 & 0 & 0 & 0 & 0 & 0 & 0 & 0 & 0 & 0 & 0 & 0 & 0 & 0 & 0 & 0 & 0 & 0\\\\0 & 0 & 0 & 0 & 0 & 0 & 0 & 1 & 0 & 0 & 0 & 0 & 0 & 0 & 0 & 0 & 0 & 0 & 0 & 0 & 0 & 0 & 0 & 0 & 0 & 0 & 0 & 0\\\\0 & 0 & 0 & 0 & 0 & 0 & 0 & 0 & 0 & 0 & 0 & 0 & 0 & 0 & 0 & 0 & 0 & 0 & 0 & 0 & 0 & 0 & 0 & 0 & 1 & 0 & 0 & 0\\\\0 & 0 & 0 & 0 & 0 & 0 & 0 & 0 & 0 & 0 & 0 & 0 & 0 & 0 & 0 & 0 & 0 & 1 & 0 & 0 & 0 & 0 & 0 & 0 & 0 & 0 & 0 & g^{F}_2 \\left(b^\\dagger_{F, 02} + b_{F, 02}\\right)\\\\0 & 0 & 0 & 0 & 0 & 0 & 1 & 0 & 0 & 0 & 0 & 0 & 0 & 0 & 0 & 0 & 0 & 0 & 0 & 0 & 0 & 0 & 0 & 0 & 0 & 0 & 0 & g^{F}_2 \\left(b^\\dagger_{F, 02} + b_{F, 02}\\right)\\\\0 & 0 & 0 & 0 & 0 & 0 & 0 & 0 & 0 & 0 & 0 & 0 & 0 & 1 & 0 & 0 & 0 & 0 & 0 & 0 & 0 & 0 & 0 & 0 & 0 & 0 & 0 & 0\\\\0 & 0 & 0 & 0 & 0 & 0 & 0 & 0 & 0 & 0 & 0 & 0 & 0 & 0 & 0 & 0 & 0 & 0 & 0 & 0 & 0 & 0 & 0 & 1 & 0 & 0 & 0 & 0\\\\0 & 0 & 0 & 0 & 0 & 0 & 0 & 0 & 0 & 0 & 0 & 0 & 0 & 0 & 0 & 0 & 0 & 0 & 0 & 0 & 0 & 0 & 0 & 0 & 0 & 1 & 0 & g^{F}_2 \\left(b^\\dagger_{F, 02} + b_{F, 02}\\right)\\\\0 & 0 & 0 & 0 & 0 & 0 & 0 & 0 & 1 & 0 & 0 & 0 & 0 & 0 & 0 & 0 & 0 & 0 & 0 & 0 & 0 & 0 & 0 & 0 & 0 & 0 & 0 & g^{F}_2 \\left(b^\\dagger_{F, 02} + b_{F, 02}\\right)\\\\0 & 0 & 0 & 0 & 0 & 0 & 0 & 0 & 0 & 0 & 0 & 1 & 0 & 0 & 0 & 0 & 0 & 0 & 0 & 0 & 0 & 0 & 0 & 0 & 0 & 0 & 0 & 0\\\\0 & 0 & 0 & 0 & 0 & 0 & 0 & 0 & 0 & 1 & 0 & 0 & 0 & 0 & 0 & 0 & 0 & 0 & 0 & 0 & 0 & 0 & 0 & 0 & 0 & 0 & 0 & g^{F}_2 \\left(b^\\dagger_{F, 02} + b_{F, 02}\\right)\\\\0 & 0 & 0 & 0 & 0 & 0 & 0 & 0 & 0 & 0 & 0 & 0 & 0 & 0 & 0 & 0 & 0 & 0 & 0 & 1 & 0 & 0 & 0 & 0 & 0 & 0 & 0 & 0\\\\0 & 0 & 0 & 1 & 0 & 0 & 0 & 0 & 0 & 0 & 0 & 0 & 0 & 0 & 0 & 0 & 0 & 0 & 0 & 0 & 0 & 0 & 0 & 0 & 0 & 0 & 0 & g^{F}_2 \\left(b^\\dagger_{F, 02} + b_{F, 02}\\right)\\\\0 & 0 & 0 & 0 & 0 & 0 & 0 & 0 & 0 & 0 & 0 & 0 & 0 & 0 & 0 & 0 & 0 & 0 & 0 & 0 & 0 & 0 & 0 & 0 & 0 & 0 & 1 & 0\\\\0 & 0 & 0 & 0 & 0 & 0 & 0 & 0 & 0 & 0 & 0 & 0 & 0 & 0 & 0 & 1 & 0 & 0 & 0 & 0 & 0 & 0 & 0 & 0 & 0 & 0 & 0 & g^{F}_2 \\left(b^\\dagger_{F, 02} + b_{F, 02}\\right)\\\\0 & 0 & 0 & 0 & 0 & 0 & 0 & 0 & 0 & 0 & 0 & 0 & 0 & 0 & 0 & 0 & 1 & 0 & 0 & 0 & 0 & 0 & 0 & 0 & 0 & 0 & 0 & g^{F}_2 \\left(b^\\dagger_{F, 02} + b_{F, 02}\\right)\\\\0 & 0 & 0 & 0 & 0 & 0 & 0 & 0 & 0 & 0 & 0 & 0 & 0 & 0 & 0 & 0 & 0 & 0 & 0 & 0 & 0 & 1 & 0 & 0 & 0 & 0 & 0 & 0\\\\0 & 0 & 0 & 0 & 0 & 1 & 0 & 0 & 0 & 0 & 0 & 0 & 0 & 0 & 0 & 0 & 0 & 0 & 0 & 0 & 0 & 0 & 0 & 0 & 0 & 0 & 0 & g^{F}_2 \\left(b^\\dagger_{F, 02} + b_{F, 02}\\right)\\\\0 & 0 & 0 & 0 & 0 & 0 & 0 & 0 & 0 & 0 & 1 & 0 & 0 & 0 & 0 & 0 & 0 & 0 & 0 & 0 & 0 & 0 & 0 & 0 & 0 & 0 & 0 & g^{F}_2 \\left(b^\\dagger_{F, 02} + b_{F, 02}\\right)\\\\0 & 0 & 1 & 0 & 0 & 0 & 0 & 0 & 0 & 0 & 0 & 0 & 0 & 0 & 0 & 0 & 0 & 0 & 0 & 0 & 0 & 0 & 0 & 0 & 0 & 0 & 0 & 0\\\\0 & 0 & 0 & 0 & 0 & 0 & 0 & 0 & 0 & 0 & 0 & 0 & 1 & 0 & 0 & 0 & 0 & 0 & 0 & 0 & 0 & 0 & 0 & 0 & 0 & 0 & 0 & g^{F}_2 \\left(b^\\dagger_{F, 02} + b_{F, 02}\\right)\\\\1 & 0 & 0 & 0 & 0 & 0 & 0 & 0 & 0 & 0 & 0 & 0 & 0 & 0 & 0 & 0 & 0 & 0 & 0 & 0 & 0 & 0 & 0 & 0 & 0 & 0 & 0 & g^{F}_2 \\left(b^\\dagger_{F, 02} + b_{F, 02}\\right)\\\\0 & 1 & 0 & 0 & 0 & 0 & 0 & 0 & 0 & 0 & 0 & 0 & 0 & 0 & 0 & 0 & 0 & 0 & 0 & 0 & 0 & 0 & 0 & 0 & 0 & 0 & 0 & 0\\\\0 & 0 & 0 & 0 & 0 & 0 & 0 & 0 & 0 & 0 & 0 & 0 & 0 & 0 & 0 & 0 & 0 & 0 & 0 & 0 & 1 & 0 & 0 & 0 & 0 & 0 & 0 & 0\\\\0 & 0 & 0 & 0 & 0 & 0 & 0 & 0 & 0 & 0 & 0 & 0 & 0 & 0 & 0 & 0 & 0 & 0 & 0 & 0 & 0 & 0 & 1 & 0 & 0 & 0 & 0 & 0\\\\0 & 0 & 0 & 0 & 0 & 0 & 0 & 0 & 0 & 0 & 0 & 0 & 0 & 0 & 0 & 0 & 0 & 0 & 1 & 0 & 0 & 0 & 0 & 0 & 0 & 0 & 0 & ω^{F}_2 b_{F, 02} b^\\dagger_{F, 02}\\\\0 & 0 & 0 & 0 & 0 & 0 & 0 & 0 & 0 & 0 & 0 & 0 & 0 & 0 & 0 & 0 & 0 & 0 & 0 & 0 & 0 & 0 & 0 & 0 & 0 & 0 & 0 & 1\\end{array}\\right]$"
      ],
      "text/plain": [
       "Matrix([\n",
       "[0, 0, 0, 0, 0, 0, 0, 0, 0, 0, 0, 0, 0, 0, 1, 0, 0, 0, 0, 0, 0, 0, 0, 0, 0, 0, 0, g^{F}_2*(b^\\dagger_{F, 02} + b_{F, 02})],\n",
       "[0, 0, 0, 0, 1, 0, 0, 0, 0, 0, 0, 0, 0, 0, 0, 0, 0, 0, 0, 0, 0, 0, 0, 0, 0, 0, 0,                                       0],\n",
       "[0, 0, 0, 0, 0, 0, 0, 1, 0, 0, 0, 0, 0, 0, 0, 0, 0, 0, 0, 0, 0, 0, 0, 0, 0, 0, 0,                                       0],\n",
       "[0, 0, 0, 0, 0, 0, 0, 0, 0, 0, 0, 0, 0, 0, 0, 0, 0, 0, 0, 0, 0, 0, 0, 0, 1, 0, 0,                                       0],\n",
       "[0, 0, 0, 0, 0, 0, 0, 0, 0, 0, 0, 0, 0, 0, 0, 0, 0, 1, 0, 0, 0, 0, 0, 0, 0, 0, 0, g^{F}_2*(b^\\dagger_{F, 02} + b_{F, 02})],\n",
       "[0, 0, 0, 0, 0, 0, 1, 0, 0, 0, 0, 0, 0, 0, 0, 0, 0, 0, 0, 0, 0, 0, 0, 0, 0, 0, 0, g^{F}_2*(b^\\dagger_{F, 02} + b_{F, 02})],\n",
       "[0, 0, 0, 0, 0, 0, 0, 0, 0, 0, 0, 0, 0, 1, 0, 0, 0, 0, 0, 0, 0, 0, 0, 0, 0, 0, 0,                                       0],\n",
       "[0, 0, 0, 0, 0, 0, 0, 0, 0, 0, 0, 0, 0, 0, 0, 0, 0, 0, 0, 0, 0, 0, 0, 1, 0, 0, 0,                                       0],\n",
       "[0, 0, 0, 0, 0, 0, 0, 0, 0, 0, 0, 0, 0, 0, 0, 0, 0, 0, 0, 0, 0, 0, 0, 0, 0, 1, 0, g^{F}_2*(b^\\dagger_{F, 02} + b_{F, 02})],\n",
       "[0, 0, 0, 0, 0, 0, 0, 0, 1, 0, 0, 0, 0, 0, 0, 0, 0, 0, 0, 0, 0, 0, 0, 0, 0, 0, 0, g^{F}_2*(b^\\dagger_{F, 02} + b_{F, 02})],\n",
       "[0, 0, 0, 0, 0, 0, 0, 0, 0, 0, 0, 1, 0, 0, 0, 0, 0, 0, 0, 0, 0, 0, 0, 0, 0, 0, 0,                                       0],\n",
       "[0, 0, 0, 0, 0, 0, 0, 0, 0, 1, 0, 0, 0, 0, 0, 0, 0, 0, 0, 0, 0, 0, 0, 0, 0, 0, 0, g^{F}_2*(b^\\dagger_{F, 02} + b_{F, 02})],\n",
       "[0, 0, 0, 0, 0, 0, 0, 0, 0, 0, 0, 0, 0, 0, 0, 0, 0, 0, 0, 1, 0, 0, 0, 0, 0, 0, 0,                                       0],\n",
       "[0, 0, 0, 1, 0, 0, 0, 0, 0, 0, 0, 0, 0, 0, 0, 0, 0, 0, 0, 0, 0, 0, 0, 0, 0, 0, 0, g^{F}_2*(b^\\dagger_{F, 02} + b_{F, 02})],\n",
       "[0, 0, 0, 0, 0, 0, 0, 0, 0, 0, 0, 0, 0, 0, 0, 0, 0, 0, 0, 0, 0, 0, 0, 0, 0, 0, 1,                                       0],\n",
       "[0, 0, 0, 0, 0, 0, 0, 0, 0, 0, 0, 0, 0, 0, 0, 1, 0, 0, 0, 0, 0, 0, 0, 0, 0, 0, 0, g^{F}_2*(b^\\dagger_{F, 02} + b_{F, 02})],\n",
       "[0, 0, 0, 0, 0, 0, 0, 0, 0, 0, 0, 0, 0, 0, 0, 0, 1, 0, 0, 0, 0, 0, 0, 0, 0, 0, 0, g^{F}_2*(b^\\dagger_{F, 02} + b_{F, 02})],\n",
       "[0, 0, 0, 0, 0, 0, 0, 0, 0, 0, 0, 0, 0, 0, 0, 0, 0, 0, 0, 0, 0, 1, 0, 0, 0, 0, 0,                                       0],\n",
       "[0, 0, 0, 0, 0, 1, 0, 0, 0, 0, 0, 0, 0, 0, 0, 0, 0, 0, 0, 0, 0, 0, 0, 0, 0, 0, 0, g^{F}_2*(b^\\dagger_{F, 02} + b_{F, 02})],\n",
       "[0, 0, 0, 0, 0, 0, 0, 0, 0, 0, 1, 0, 0, 0, 0, 0, 0, 0, 0, 0, 0, 0, 0, 0, 0, 0, 0, g^{F}_2*(b^\\dagger_{F, 02} + b_{F, 02})],\n",
       "[0, 0, 1, 0, 0, 0, 0, 0, 0, 0, 0, 0, 0, 0, 0, 0, 0, 0, 0, 0, 0, 0, 0, 0, 0, 0, 0,                                       0],\n",
       "[0, 0, 0, 0, 0, 0, 0, 0, 0, 0, 0, 0, 1, 0, 0, 0, 0, 0, 0, 0, 0, 0, 0, 0, 0, 0, 0, g^{F}_2*(b^\\dagger_{F, 02} + b_{F, 02})],\n",
       "[1, 0, 0, 0, 0, 0, 0, 0, 0, 0, 0, 0, 0, 0, 0, 0, 0, 0, 0, 0, 0, 0, 0, 0, 0, 0, 0, g^{F}_2*(b^\\dagger_{F, 02} + b_{F, 02})],\n",
       "[0, 1, 0, 0, 0, 0, 0, 0, 0, 0, 0, 0, 0, 0, 0, 0, 0, 0, 0, 0, 0, 0, 0, 0, 0, 0, 0,                                       0],\n",
       "[0, 0, 0, 0, 0, 0, 0, 0, 0, 0, 0, 0, 0, 0, 0, 0, 0, 0, 0, 0, 1, 0, 0, 0, 0, 0, 0,                                       0],\n",
       "[0, 0, 0, 0, 0, 0, 0, 0, 0, 0, 0, 0, 0, 0, 0, 0, 0, 0, 0, 0, 0, 0, 1, 0, 0, 0, 0,                                       0],\n",
       "[0, 0, 0, 0, 0, 0, 0, 0, 0, 0, 0, 0, 0, 0, 0, 0, 0, 0, 1, 0, 0, 0, 0, 0, 0, 0, 0,     ω^{F}_2*b_{F, 02}*b^\\dagger_{F, 02}],\n",
       "[0, 0, 0, 0, 0, 0, 0, 0, 0, 0, 0, 0, 0, 0, 0, 0, 0, 0, 0, 0, 0, 0, 0, 0, 0, 0, 0,                                       1]])"
      ]
     },
     "metadata": {},
     "output_type": "display_data"
    },
    {
     "data": {
      "text/latex": [
       "$\\displaystyle \\left[\\begin{array}{cccccccccccccccccccccccccccc}0 & 0 & 0 & 0 & 0 & 0 & 0 & 0 & 0 & 0 & 0 & 0 & 0 & 0 & 0 & 0 & 1 & 0 & 0 & 0 & 0 & 0 & 0 & 0 & 0 & 0 & 0 & g^{F}_3 \\left(b^\\dagger_{F, 03} + b_{F, 03}\\right)\\\\1 & 0 & 0 & 0 & 0 & 0 & 0 & 0 & 0 & 0 & 0 & 0 & 0 & 0 & 0 & 0 & 0 & 0 & 0 & 0 & 0 & 0 & 0 & 0 & 0 & 0 & 0 & 0\\\\0 & 0 & 0 & 0 & 0 & 0 & 0 & 0 & 1 & 0 & 0 & 0 & 0 & 0 & 0 & 0 & 0 & 0 & 0 & 0 & 0 & 0 & 0 & 0 & 0 & 0 & 0 & 0\\\\0 & 0 & 0 & 0 & 0 & 0 & 0 & 0 & 0 & 0 & 0 & 0 & 1 & 0 & 0 & 0 & 0 & 0 & 0 & 0 & 0 & 0 & 0 & 0 & 0 & 0 & 0 & g^{F}_3 \\left(b^\\dagger_{F, 03} + b_{F, 03}\\right)\\\\0 & 0 & 0 & 0 & 0 & 0 & 0 & 0 & 0 & 0 & 0 & 0 & 0 & 0 & 0 & 1 & 0 & 0 & 0 & 0 & 0 & 0 & 0 & 0 & 0 & 0 & 0 & 0\\\\0 & 0 & 0 & 0 & 0 & 0 & 0 & 0 & 0 & 0 & 0 & 0 & 0 & 0 & 0 & 0 & 0 & 0 & 0 & 0 & 0 & 1 & 0 & 0 & 0 & 0 & 0 & g^{F}_3 \\left(b^\\dagger_{F, 03} + b_{F, 03}\\right)\\\\0 & 0 & 0 & 0 & 0 & 0 & 0 & 0 & 0 & 0 & 1 & 0 & 0 & 0 & 0 & 0 & 0 & 0 & 0 & 0 & 0 & 0 & 0 & 0 & 0 & 0 & 0 & g^{F}_3 \\left(b^\\dagger_{F, 03} + b_{F, 03}\\right)\\\\0 & 0 & 0 & 0 & 0 & 0 & 0 & 0 & 0 & 0 & 0 & 0 & 0 & 0 & 0 & 0 & 0 & 0 & 0 & 0 & 1 & 0 & 0 & 0 & 0 & 0 & 0 & 0\\\\0 & 0 & 0 & 0 & 0 & 0 & 0 & 0 & 0 & 0 & 0 & 0 & 0 & 0 & 0 & 0 & 0 & 0 & 0 & 0 & 0 & 0 & 0 & 0 & 0 & 1 & 0 & g^{F}_3 \\left(b^\\dagger_{F, 03} + b_{F, 03}\\right)\\\\0 & 0 & 0 & 0 & 0 & 0 & 0 & 1 & 0 & 0 & 0 & 0 & 0 & 0 & 0 & 0 & 0 & 0 & 0 & 0 & 0 & 0 & 0 & 0 & 0 & 0 & 0 & g^{F}_3 \\left(b^\\dagger_{F, 03} + b_{F, 03}\\right)\\\\0 & 0 & 0 & 0 & 0 & 0 & 0 & 0 & 0 & 0 & 0 & 0 & 0 & 0 & 0 & 0 & 0 & 0 & 0 & 0 & 0 & 0 & 1 & 0 & 0 & 0 & 0 & g^{F}_3 \\left(b^\\dagger_{F, 03} + b_{F, 03}\\right)\\\\0 & 0 & 0 & 0 & 1 & 0 & 0 & 0 & 0 & 0 & 0 & 0 & 0 & 0 & 0 & 0 & 0 & 0 & 0 & 0 & 0 & 0 & 0 & 0 & 0 & 0 & 0 & 0\\\\0 & 0 & 0 & 1 & 0 & 0 & 0 & 0 & 0 & 0 & 0 & 0 & 0 & 0 & 0 & 0 & 0 & 0 & 0 & 0 & 0 & 0 & 0 & 0 & 0 & 0 & 0 & g^{F}_3 \\left(b^\\dagger_{F, 03} + b_{F, 03}\\right)\\\\0 & 0 & 0 & 0 & 0 & 1 & 0 & 0 & 0 & 0 & 0 & 0 & 0 & 0 & 0 & 0 & 0 & 0 & 0 & 0 & 0 & 0 & 0 & 0 & 0 & 0 & 0 & 0\\\\0 & 0 & 0 & 0 & 0 & 0 & 0 & 0 & 0 & 0 & 0 & 1 & 0 & 0 & 0 & 0 & 0 & 0 & 0 & 0 & 0 & 0 & 0 & 0 & 0 & 0 & 0 & g^{F}_3 \\left(b^\\dagger_{F, 03} + b_{F, 03}\\right)\\\\0 & 0 & 0 & 0 & 0 & 0 & 0 & 0 & 0 & 0 & 0 & 0 & 0 & 0 & 0 & 0 & 0 & 0 & 0 & 0 & 0 & 0 & 0 & 0 & 0 & 0 & 1 & g^{F}_3 \\left(b^\\dagger_{F, 03} + b_{F, 03}\\right)\\\\0 & 0 & 0 & 0 & 0 & 0 & 0 & 0 & 0 & 0 & 0 & 0 & 0 & 1 & 0 & 0 & 0 & 0 & 0 & 0 & 0 & 0 & 0 & 0 & 0 & 0 & 0 & g^{F}_3 \\left(b^\\dagger_{F, 03} + b_{F, 03}\\right)\\\\0 & 0 & 0 & 0 & 0 & 0 & 0 & 0 & 0 & 0 & 0 & 0 & 0 & 0 & 0 & 0 & 0 & 0 & 1 & 0 & 0 & 0 & 0 & 0 & 0 & 0 & 0 & g^{F}_3 \\left(b^\\dagger_{F, 03} + b_{F, 03}\\right)\\\\0 & 0 & 1 & 0 & 0 & 0 & 0 & 0 & 0 & 0 & 0 & 0 & 0 & 0 & 0 & 0 & 0 & 0 & 0 & 0 & 0 & 0 & 0 & 0 & 0 & 0 & 0 & ω^{F}_3 b_{F, 03} b^\\dagger_{F, 03}\\\\0 & 0 & 0 & 0 & 0 & 0 & 0 & 0 & 0 & 0 & 0 & 0 & 0 & 0 & 0 & 0 & 0 & 0 & 0 & 0 & 0 & 0 & 0 & 0 & 1 & 0 & 0 & 0\\\\0 & 0 & 0 & 0 & 0 & 0 & 1 & 0 & 0 & 0 & 0 & 0 & 0 & 0 & 0 & 0 & 0 & 0 & 0 & 0 & 0 & 0 & 0 & 0 & 0 & 0 & 0 & 0\\\\0 & 0 & 0 & 0 & 0 & 0 & 0 & 0 & 0 & 0 & 0 & 0 & 0 & 0 & 1 & 0 & 0 & 0 & 0 & 0 & 0 & 0 & 0 & 0 & 0 & 0 & 0 & 0\\\\0 & 0 & 0 & 0 & 0 & 0 & 0 & 0 & 0 & 0 & 0 & 0 & 0 & 0 & 0 & 0 & 0 & 1 & 0 & 0 & 0 & 0 & 0 & 0 & 0 & 0 & 0 & 0\\\\0 & 0 & 0 & 0 & 0 & 0 & 0 & 0 & 0 & 0 & 0 & 0 & 0 & 0 & 0 & 0 & 0 & 0 & 0 & 1 & 0 & 0 & 0 & 0 & 0 & 0 & 0 & 0\\\\0 & 0 & 0 & 0 & 0 & 0 & 0 & 0 & 0 & 0 & 0 & 0 & 0 & 0 & 0 & 0 & 0 & 0 & 0 & 0 & 0 & 0 & 0 & 1 & 0 & 0 & 0 & 0\\\\0 & 1 & 0 & 0 & 0 & 0 & 0 & 0 & 0 & 0 & 0 & 0 & 0 & 0 & 0 & 0 & 0 & 0 & 0 & 0 & 0 & 0 & 0 & 0 & 0 & 0 & 0 & g^{F}_3 \\left(b^\\dagger_{F, 03} + b_{F, 03}\\right)\\\\0 & 0 & 0 & 0 & 0 & 0 & 0 & 0 & 0 & 1 & 0 & 0 & 0 & 0 & 0 & 0 & 0 & 0 & 0 & 0 & 0 & 0 & 0 & 0 & 0 & 0 & 0 & 0\\\\0 & 0 & 0 & 0 & 0 & 0 & 0 & 0 & 0 & 0 & 0 & 0 & 0 & 0 & 0 & 0 & 0 & 0 & 0 & 0 & 0 & 0 & 0 & 0 & 0 & 0 & 0 & 1\\end{array}\\right]$"
      ],
      "text/plain": [
       "Matrix([\n",
       "[0, 0, 0, 0, 0, 0, 0, 0, 0, 0, 0, 0, 0, 0, 0, 0, 1, 0, 0, 0, 0, 0, 0, 0, 0, 0, 0, g^{F}_3*(b^\\dagger_{F, 03} + b_{F, 03})],\n",
       "[1, 0, 0, 0, 0, 0, 0, 0, 0, 0, 0, 0, 0, 0, 0, 0, 0, 0, 0, 0, 0, 0, 0, 0, 0, 0, 0,                                       0],\n",
       "[0, 0, 0, 0, 0, 0, 0, 0, 1, 0, 0, 0, 0, 0, 0, 0, 0, 0, 0, 0, 0, 0, 0, 0, 0, 0, 0,                                       0],\n",
       "[0, 0, 0, 0, 0, 0, 0, 0, 0, 0, 0, 0, 1, 0, 0, 0, 0, 0, 0, 0, 0, 0, 0, 0, 0, 0, 0, g^{F}_3*(b^\\dagger_{F, 03} + b_{F, 03})],\n",
       "[0, 0, 0, 0, 0, 0, 0, 0, 0, 0, 0, 0, 0, 0, 0, 1, 0, 0, 0, 0, 0, 0, 0, 0, 0, 0, 0,                                       0],\n",
       "[0, 0, 0, 0, 0, 0, 0, 0, 0, 0, 0, 0, 0, 0, 0, 0, 0, 0, 0, 0, 0, 1, 0, 0, 0, 0, 0, g^{F}_3*(b^\\dagger_{F, 03} + b_{F, 03})],\n",
       "[0, 0, 0, 0, 0, 0, 0, 0, 0, 0, 1, 0, 0, 0, 0, 0, 0, 0, 0, 0, 0, 0, 0, 0, 0, 0, 0, g^{F}_3*(b^\\dagger_{F, 03} + b_{F, 03})],\n",
       "[0, 0, 0, 0, 0, 0, 0, 0, 0, 0, 0, 0, 0, 0, 0, 0, 0, 0, 0, 0, 1, 0, 0, 0, 0, 0, 0,                                       0],\n",
       "[0, 0, 0, 0, 0, 0, 0, 0, 0, 0, 0, 0, 0, 0, 0, 0, 0, 0, 0, 0, 0, 0, 0, 0, 0, 1, 0, g^{F}_3*(b^\\dagger_{F, 03} + b_{F, 03})],\n",
       "[0, 0, 0, 0, 0, 0, 0, 1, 0, 0, 0, 0, 0, 0, 0, 0, 0, 0, 0, 0, 0, 0, 0, 0, 0, 0, 0, g^{F}_3*(b^\\dagger_{F, 03} + b_{F, 03})],\n",
       "[0, 0, 0, 0, 0, 0, 0, 0, 0, 0, 0, 0, 0, 0, 0, 0, 0, 0, 0, 0, 0, 0, 1, 0, 0, 0, 0, g^{F}_3*(b^\\dagger_{F, 03} + b_{F, 03})],\n",
       "[0, 0, 0, 0, 1, 0, 0, 0, 0, 0, 0, 0, 0, 0, 0, 0, 0, 0, 0, 0, 0, 0, 0, 0, 0, 0, 0,                                       0],\n",
       "[0, 0, 0, 1, 0, 0, 0, 0, 0, 0, 0, 0, 0, 0, 0, 0, 0, 0, 0, 0, 0, 0, 0, 0, 0, 0, 0, g^{F}_3*(b^\\dagger_{F, 03} + b_{F, 03})],\n",
       "[0, 0, 0, 0, 0, 1, 0, 0, 0, 0, 0, 0, 0, 0, 0, 0, 0, 0, 0, 0, 0, 0, 0, 0, 0, 0, 0,                                       0],\n",
       "[0, 0, 0, 0, 0, 0, 0, 0, 0, 0, 0, 1, 0, 0, 0, 0, 0, 0, 0, 0, 0, 0, 0, 0, 0, 0, 0, g^{F}_3*(b^\\dagger_{F, 03} + b_{F, 03})],\n",
       "[0, 0, 0, 0, 0, 0, 0, 0, 0, 0, 0, 0, 0, 0, 0, 0, 0, 0, 0, 0, 0, 0, 0, 0, 0, 0, 1, g^{F}_3*(b^\\dagger_{F, 03} + b_{F, 03})],\n",
       "[0, 0, 0, 0, 0, 0, 0, 0, 0, 0, 0, 0, 0, 1, 0, 0, 0, 0, 0, 0, 0, 0, 0, 0, 0, 0, 0, g^{F}_3*(b^\\dagger_{F, 03} + b_{F, 03})],\n",
       "[0, 0, 0, 0, 0, 0, 0, 0, 0, 0, 0, 0, 0, 0, 0, 0, 0, 0, 1, 0, 0, 0, 0, 0, 0, 0, 0, g^{F}_3*(b^\\dagger_{F, 03} + b_{F, 03})],\n",
       "[0, 0, 1, 0, 0, 0, 0, 0, 0, 0, 0, 0, 0, 0, 0, 0, 0, 0, 0, 0, 0, 0, 0, 0, 0, 0, 0,     ω^{F}_3*b_{F, 03}*b^\\dagger_{F, 03}],\n",
       "[0, 0, 0, 0, 0, 0, 0, 0, 0, 0, 0, 0, 0, 0, 0, 0, 0, 0, 0, 0, 0, 0, 0, 0, 1, 0, 0,                                       0],\n",
       "[0, 0, 0, 0, 0, 0, 1, 0, 0, 0, 0, 0, 0, 0, 0, 0, 0, 0, 0, 0, 0, 0, 0, 0, 0, 0, 0,                                       0],\n",
       "[0, 0, 0, 0, 0, 0, 0, 0, 0, 0, 0, 0, 0, 0, 1, 0, 0, 0, 0, 0, 0, 0, 0, 0, 0, 0, 0,                                       0],\n",
       "[0, 0, 0, 0, 0, 0, 0, 0, 0, 0, 0, 0, 0, 0, 0, 0, 0, 1, 0, 0, 0, 0, 0, 0, 0, 0, 0,                                       0],\n",
       "[0, 0, 0, 0, 0, 0, 0, 0, 0, 0, 0, 0, 0, 0, 0, 0, 0, 0, 0, 1, 0, 0, 0, 0, 0, 0, 0,                                       0],\n",
       "[0, 0, 0, 0, 0, 0, 0, 0, 0, 0, 0, 0, 0, 0, 0, 0, 0, 0, 0, 0, 0, 0, 0, 1, 0, 0, 0,                                       0],\n",
       "[0, 1, 0, 0, 0, 0, 0, 0, 0, 0, 0, 0, 0, 0, 0, 0, 0, 0, 0, 0, 0, 0, 0, 0, 0, 0, 0, g^{F}_3*(b^\\dagger_{F, 03} + b_{F, 03})],\n",
       "[0, 0, 0, 0, 0, 0, 0, 0, 0, 1, 0, 0, 0, 0, 0, 0, 0, 0, 0, 0, 0, 0, 0, 0, 0, 0, 0,                                       0],\n",
       "[0, 0, 0, 0, 0, 0, 0, 0, 0, 0, 0, 0, 0, 0, 0, 0, 0, 0, 0, 0, 0, 0, 0, 0, 0, 0, 0,                                       1]])"
      ]
     },
     "metadata": {},
     "output_type": "display_data"
    },
    {
     "data": {
      "text/latex": [
       "$\\displaystyle \\left[\\begin{array}{cccccccccccccccccccccccccccc}0 & 0 & 0 & 0 & 0 & 0 & 0 & 0 & 0 & 0 & 0 & 0 & 0 & 0 & 1 & 0 & 0 & 0 & 0 & 0 & 0 & 0 & 0 & 0 & 0 & 0 & 0 & 0\\\\0 & 0 & 1 & 0 & 0 & 0 & 0 & 0 & 0 & 0 & 0 & 0 & 0 & 0 & 0 & 0 & 0 & 0 & 0 & 0 & 0 & 0 & 0 & 0 & 0 & 0 & 0 & g^{F}_4 \\left(b^\\dagger_{F, 04} + b_{F, 04}\\right)\\\\0 & 0 & 0 & 0 & 0 & 0 & 0 & 1 & 0 & 0 & 0 & 0 & 0 & 0 & 0 & 0 & 0 & 0 & 0 & 0 & 0 & 0 & 0 & 0 & 0 & 0 & 0 & ω^{F}_4 b_{F, 04} b^\\dagger_{F, 04}\\\\0 & 0 & 0 & 0 & 0 & 0 & 0 & 0 & 1 & 0 & 0 & 0 & 0 & 0 & 0 & 0 & 0 & 0 & 0 & 0 & 0 & 0 & 0 & 0 & 0 & 0 & 0 & g^{F}_4 \\left(b^\\dagger_{F, 04} + b_{F, 04}\\right)\\\\1 & 0 & 0 & 0 & 0 & 0 & 0 & 0 & 0 & 0 & 0 & 0 & 0 & 0 & 0 & 0 & 0 & 0 & 0 & 0 & 0 & 0 & 0 & 0 & 0 & 0 & 0 & 0\\\\0 & 0 & 0 & 0 & 0 & 0 & 0 & 0 & 0 & 0 & 0 & 0 & 0 & 0 & 0 & 0 & 0 & 0 & 0 & 0 & 0 & 0 & 0 & 0 & 0 & 1 & 0 & 0\\\\0 & 0 & 0 & 0 & 0 & 0 & 0 & 0 & 0 & 0 & 0 & 0 & 0 & 0 & 0 & 0 & 0 & 0 & 0 & 0 & 0 & 0 & 0 & 1 & 0 & 0 & 0 & 0\\\\0 & 0 & 0 & 0 & 0 & 0 & 0 & 0 & 0 & 0 & 0 & 0 & 0 & 0 & 0 & 0 & 0 & 0 & 1 & 0 & 0 & 0 & 0 & 0 & 0 & 0 & 0 & g^{F}_4 \\left(b^\\dagger_{F, 04} + b_{F, 04}\\right)\\\\0 & 0 & 0 & 0 & 0 & 0 & 0 & 0 & 0 & 0 & 0 & 0 & 0 & 0 & 0 & 1 & 0 & 0 & 0 & 0 & 0 & 0 & 0 & 0 & 0 & 0 & 0 & 0\\\\0 & 0 & 0 & 0 & 0 & 0 & 0 & 0 & 0 & 0 & 1 & 0 & 0 & 0 & 0 & 0 & 0 & 0 & 0 & 0 & 0 & 0 & 0 & 0 & 0 & 0 & 0 & 0\\\\0 & 0 & 0 & 0 & 0 & 0 & 0 & 0 & 0 & 0 & 0 & 0 & 0 & 0 & 0 & 0 & 0 & 0 & 0 & 0 & 0 & 0 & 0 & 0 & 1 & 0 & 0 & g^{F}_4 \\left(b^\\dagger_{F, 04} + b_{F, 04}\\right)\\\\0 & 0 & 0 & 0 & 0 & 1 & 0 & 0 & 0 & 0 & 0 & 0 & 0 & 0 & 0 & 0 & 0 & 0 & 0 & 0 & 0 & 0 & 0 & 0 & 0 & 0 & 0 & g^{F}_4 \\left(b^\\dagger_{F, 04} + b_{F, 04}\\right)\\\\0 & 0 & 0 & 0 & 0 & 0 & 0 & 0 & 0 & 0 & 0 & 0 & 0 & 1 & 0 & 0 & 0 & 0 & 0 & 0 & 0 & 0 & 0 & 0 & 0 & 0 & 0 & g^{F}_4 \\left(b^\\dagger_{F, 04} + b_{F, 04}\\right)\\\\0 & 0 & 0 & 0 & 0 & 0 & 0 & 0 & 0 & 1 & 0 & 0 & 0 & 0 & 0 & 0 & 0 & 0 & 0 & 0 & 0 & 0 & 0 & 0 & 0 & 0 & 0 & g^{F}_4 \\left(b^\\dagger_{F, 04} + b_{F, 04}\\right)\\\\0 & 0 & 0 & 0 & 0 & 0 & 0 & 0 & 0 & 0 & 0 & 0 & 0 & 0 & 0 & 0 & 0 & 0 & 0 & 1 & 0 & 0 & 0 & 0 & 0 & 0 & 0 & 0\\\\0 & 0 & 0 & 0 & 1 & 0 & 0 & 0 & 0 & 0 & 0 & 0 & 0 & 0 & 0 & 0 & 0 & 0 & 0 & 0 & 0 & 0 & 0 & 0 & 0 & 0 & 0 & 0\\\\0 & 0 & 0 & 1 & 0 & 0 & 0 & 0 & 0 & 0 & 0 & 0 & 0 & 0 & 0 & 0 & 0 & 0 & 0 & 0 & 0 & 0 & 0 & 0 & 0 & 0 & 0 & g^{F}_4 \\left(b^\\dagger_{F, 04} + b_{F, 04}\\right)\\\\0 & 0 & 0 & 0 & 0 & 0 & 1 & 0 & 0 & 0 & 0 & 0 & 0 & 0 & 0 & 0 & 0 & 0 & 0 & 0 & 0 & 0 & 0 & 0 & 0 & 0 & 0 & 0\\\\0 & 1 & 0 & 0 & 0 & 0 & 0 & 0 & 0 & 0 & 0 & 0 & 0 & 0 & 0 & 0 & 0 & 0 & 0 & 0 & 0 & 0 & 0 & 0 & 0 & 0 & 0 & g^{F}_4 \\left(b^\\dagger_{F, 04} + b_{F, 04}\\right)\\\\0 & 0 & 0 & 0 & 0 & 0 & 0 & 0 & 0 & 0 & 0 & 0 & 0 & 0 & 0 & 0 & 0 & 0 & 0 & 0 & 1 & 0 & 0 & 0 & 0 & 0 & 0 & 0\\\\0 & 0 & 0 & 0 & 0 & 0 & 0 & 0 & 0 & 0 & 0 & 0 & 0 & 0 & 0 & 0 & 0 & 1 & 0 & 0 & 0 & 0 & 0 & 0 & 0 & 0 & 0 & 0\\\\0 & 0 & 0 & 0 & 0 & 0 & 0 & 0 & 0 & 0 & 0 & 0 & 0 & 0 & 0 & 0 & 0 & 0 & 0 & 0 & 0 & 1 & 0 & 0 & 0 & 0 & 0 & g^{F}_4 \\left(b^\\dagger_{F, 04} + b_{F, 04}\\right)\\\\0 & 0 & 0 & 0 & 0 & 0 & 0 & 0 & 0 & 0 & 0 & 0 & 0 & 0 & 0 & 0 & 1 & 0 & 0 & 0 & 0 & 0 & 0 & 0 & 0 & 0 & 0 & g^{F}_4 \\left(b^\\dagger_{F, 04} + b_{F, 04}\\right)\\\\0 & 0 & 0 & 0 & 0 & 0 & 0 & 0 & 0 & 0 & 0 & 0 & 0 & 0 & 0 & 0 & 0 & 0 & 0 & 0 & 0 & 0 & 1 & 0 & 0 & 0 & 0 & 0\\\\0 & 0 & 0 & 0 & 0 & 0 & 0 & 0 & 0 & 0 & 0 & 0 & 1 & 0 & 0 & 0 & 0 & 0 & 0 & 0 & 0 & 0 & 0 & 0 & 0 & 0 & 0 & 0\\\\0 & 0 & 0 & 0 & 0 & 0 & 0 & 0 & 0 & 0 & 0 & 1 & 0 & 0 & 0 & 0 & 0 & 0 & 0 & 0 & 0 & 0 & 0 & 0 & 0 & 0 & 0 & g^{F}_4 \\left(b^\\dagger_{F, 04} + b_{F, 04}\\right)\\\\0 & 0 & 0 & 0 & 0 & 0 & 0 & 0 & 0 & 0 & 0 & 0 & 0 & 0 & 0 & 0 & 0 & 0 & 0 & 0 & 0 & 0 & 0 & 0 & 0 & 0 & 1 & g^{F}_4 \\left(b^\\dagger_{F, 04} + b_{F, 04}\\right)\\\\0 & 0 & 0 & 0 & 0 & 0 & 0 & 0 & 0 & 0 & 0 & 0 & 0 & 0 & 0 & 0 & 0 & 0 & 0 & 0 & 0 & 0 & 0 & 0 & 0 & 0 & 0 & 1\\end{array}\\right]$"
      ],
      "text/plain": [
       "Matrix([\n",
       "[0, 0, 0, 0, 0, 0, 0, 0, 0, 0, 0, 0, 0, 0, 1, 0, 0, 0, 0, 0, 0, 0, 0, 0, 0, 0, 0,                                       0],\n",
       "[0, 0, 1, 0, 0, 0, 0, 0, 0, 0, 0, 0, 0, 0, 0, 0, 0, 0, 0, 0, 0, 0, 0, 0, 0, 0, 0, g^{F}_4*(b^\\dagger_{F, 04} + b_{F, 04})],\n",
       "[0, 0, 0, 0, 0, 0, 0, 1, 0, 0, 0, 0, 0, 0, 0, 0, 0, 0, 0, 0, 0, 0, 0, 0, 0, 0, 0,     ω^{F}_4*b_{F, 04}*b^\\dagger_{F, 04}],\n",
       "[0, 0, 0, 0, 0, 0, 0, 0, 1, 0, 0, 0, 0, 0, 0, 0, 0, 0, 0, 0, 0, 0, 0, 0, 0, 0, 0, g^{F}_4*(b^\\dagger_{F, 04} + b_{F, 04})],\n",
       "[1, 0, 0, 0, 0, 0, 0, 0, 0, 0, 0, 0, 0, 0, 0, 0, 0, 0, 0, 0, 0, 0, 0, 0, 0, 0, 0,                                       0],\n",
       "[0, 0, 0, 0, 0, 0, 0, 0, 0, 0, 0, 0, 0, 0, 0, 0, 0, 0, 0, 0, 0, 0, 0, 0, 0, 1, 0,                                       0],\n",
       "[0, 0, 0, 0, 0, 0, 0, 0, 0, 0, 0, 0, 0, 0, 0, 0, 0, 0, 0, 0, 0, 0, 0, 1, 0, 0, 0,                                       0],\n",
       "[0, 0, 0, 0, 0, 0, 0, 0, 0, 0, 0, 0, 0, 0, 0, 0, 0, 0, 1, 0, 0, 0, 0, 0, 0, 0, 0, g^{F}_4*(b^\\dagger_{F, 04} + b_{F, 04})],\n",
       "[0, 0, 0, 0, 0, 0, 0, 0, 0, 0, 0, 0, 0, 0, 0, 1, 0, 0, 0, 0, 0, 0, 0, 0, 0, 0, 0,                                       0],\n",
       "[0, 0, 0, 0, 0, 0, 0, 0, 0, 0, 1, 0, 0, 0, 0, 0, 0, 0, 0, 0, 0, 0, 0, 0, 0, 0, 0,                                       0],\n",
       "[0, 0, 0, 0, 0, 0, 0, 0, 0, 0, 0, 0, 0, 0, 0, 0, 0, 0, 0, 0, 0, 0, 0, 0, 1, 0, 0, g^{F}_4*(b^\\dagger_{F, 04} + b_{F, 04})],\n",
       "[0, 0, 0, 0, 0, 1, 0, 0, 0, 0, 0, 0, 0, 0, 0, 0, 0, 0, 0, 0, 0, 0, 0, 0, 0, 0, 0, g^{F}_4*(b^\\dagger_{F, 04} + b_{F, 04})],\n",
       "[0, 0, 0, 0, 0, 0, 0, 0, 0, 0, 0, 0, 0, 1, 0, 0, 0, 0, 0, 0, 0, 0, 0, 0, 0, 0, 0, g^{F}_4*(b^\\dagger_{F, 04} + b_{F, 04})],\n",
       "[0, 0, 0, 0, 0, 0, 0, 0, 0, 1, 0, 0, 0, 0, 0, 0, 0, 0, 0, 0, 0, 0, 0, 0, 0, 0, 0, g^{F}_4*(b^\\dagger_{F, 04} + b_{F, 04})],\n",
       "[0, 0, 0, 0, 0, 0, 0, 0, 0, 0, 0, 0, 0, 0, 0, 0, 0, 0, 0, 1, 0, 0, 0, 0, 0, 0, 0,                                       0],\n",
       "[0, 0, 0, 0, 1, 0, 0, 0, 0, 0, 0, 0, 0, 0, 0, 0, 0, 0, 0, 0, 0, 0, 0, 0, 0, 0, 0,                                       0],\n",
       "[0, 0, 0, 1, 0, 0, 0, 0, 0, 0, 0, 0, 0, 0, 0, 0, 0, 0, 0, 0, 0, 0, 0, 0, 0, 0, 0, g^{F}_4*(b^\\dagger_{F, 04} + b_{F, 04})],\n",
       "[0, 0, 0, 0, 0, 0, 1, 0, 0, 0, 0, 0, 0, 0, 0, 0, 0, 0, 0, 0, 0, 0, 0, 0, 0, 0, 0,                                       0],\n",
       "[0, 1, 0, 0, 0, 0, 0, 0, 0, 0, 0, 0, 0, 0, 0, 0, 0, 0, 0, 0, 0, 0, 0, 0, 0, 0, 0, g^{F}_4*(b^\\dagger_{F, 04} + b_{F, 04})],\n",
       "[0, 0, 0, 0, 0, 0, 0, 0, 0, 0, 0, 0, 0, 0, 0, 0, 0, 0, 0, 0, 1, 0, 0, 0, 0, 0, 0,                                       0],\n",
       "[0, 0, 0, 0, 0, 0, 0, 0, 0, 0, 0, 0, 0, 0, 0, 0, 0, 1, 0, 0, 0, 0, 0, 0, 0, 0, 0,                                       0],\n",
       "[0, 0, 0, 0, 0, 0, 0, 0, 0, 0, 0, 0, 0, 0, 0, 0, 0, 0, 0, 0, 0, 1, 0, 0, 0, 0, 0, g^{F}_4*(b^\\dagger_{F, 04} + b_{F, 04})],\n",
       "[0, 0, 0, 0, 0, 0, 0, 0, 0, 0, 0, 0, 0, 0, 0, 0, 1, 0, 0, 0, 0, 0, 0, 0, 0, 0, 0, g^{F}_4*(b^\\dagger_{F, 04} + b_{F, 04})],\n",
       "[0, 0, 0, 0, 0, 0, 0, 0, 0, 0, 0, 0, 0, 0, 0, 0, 0, 0, 0, 0, 0, 0, 1, 0, 0, 0, 0,                                       0],\n",
       "[0, 0, 0, 0, 0, 0, 0, 0, 0, 0, 0, 0, 1, 0, 0, 0, 0, 0, 0, 0, 0, 0, 0, 0, 0, 0, 0,                                       0],\n",
       "[0, 0, 0, 0, 0, 0, 0, 0, 0, 0, 0, 1, 0, 0, 0, 0, 0, 0, 0, 0, 0, 0, 0, 0, 0, 0, 0, g^{F}_4*(b^\\dagger_{F, 04} + b_{F, 04})],\n",
       "[0, 0, 0, 0, 0, 0, 0, 0, 0, 0, 0, 0, 0, 0, 0, 0, 0, 0, 0, 0, 0, 0, 0, 0, 0, 0, 1, g^{F}_4*(b^\\dagger_{F, 04} + b_{F, 04})],\n",
       "[0, 0, 0, 0, 0, 0, 0, 0, 0, 0, 0, 0, 0, 0, 0, 0, 0, 0, 0, 0, 0, 0, 0, 0, 0, 0, 0,                                       1]])"
      ]
     },
     "metadata": {},
     "output_type": "display_data"
    },
    {
     "data": {
      "text/latex": [
       "$\\displaystyle \\left[\\begin{array}{cccccccccccccccccccccccccccc}0 & 0 & 0 & 0 & 0 & 0 & 0 & 0 & 0 & 0 & 1 & 0 & 0 & 0 & 0 & 0 & 0 & 0 & 0 & 0 & 0 & 0 & 0 & 0 & 0 & 0 & 0 & 0\\\\0 & 0 & 0 & 0 & 0 & 0 & 0 & 0 & 0 & 0 & 0 & 0 & 0 & 0 & 0 & 0 & 0 & 0 & 0 & 1 & 0 & 0 & 0 & 0 & 0 & 0 & 0 & g^{F}_5 \\left(b^\\dagger_{F, 05} + b_{F, 05}\\right)\\\\0 & 0 & 0 & 0 & 0 & 0 & 0 & 0 & 0 & 0 & 0 & 0 & 0 & 0 & 0 & 0 & 0 & 0 & 0 & 0 & 0 & 1 & 0 & 0 & 0 & 0 & 0 & g^{F}_5 \\left(b^\\dagger_{F, 05} + b_{F, 05}\\right)\\\\0 & 0 & 0 & 0 & 0 & 0 & 1 & 0 & 0 & 0 & 0 & 0 & 0 & 0 & 0 & 0 & 0 & 0 & 0 & 0 & 0 & 0 & 0 & 0 & 0 & 0 & 0 & g^{F}_5 \\left(b^\\dagger_{F, 05} + b_{F, 05}\\right)\\\\0 & 0 & 0 & 0 & 1 & 0 & 0 & 0 & 0 & 0 & 0 & 0 & 0 & 0 & 0 & 0 & 0 & 0 & 0 & 0 & 0 & 0 & 0 & 0 & 0 & 0 & 0 & 0\\\\0 & 0 & 0 & 0 & 0 & 1 & 0 & 0 & 0 & 0 & 0 & 0 & 0 & 0 & 0 & 0 & 0 & 0 & 0 & 0 & 0 & 0 & 0 & 0 & 0 & 0 & 0 & g^{F}_5 \\left(b^\\dagger_{F, 05} + b_{F, 05}\\right)\\\\0 & 0 & 0 & 0 & 0 & 0 & 0 & 0 & 0 & 0 & 0 & 0 & 0 & 0 & 0 & 0 & 1 & 0 & 0 & 0 & 0 & 0 & 0 & 0 & 0 & 0 & 0 & 0\\\\0 & 0 & 0 & 0 & 0 & 0 & 0 & 0 & 0 & 0 & 0 & 0 & 1 & 0 & 0 & 0 & 0 & 0 & 0 & 0 & 0 & 0 & 0 & 0 & 0 & 0 & 0 & ω^{F}_5 b_{F, 05} b^\\dagger_{F, 05}\\\\0 & 0 & 0 & 0 & 0 & 0 & 0 & 0 & 0 & 0 & 0 & 0 & 0 & 0 & 1 & 0 & 0 & 0 & 0 & 0 & 0 & 0 & 0 & 0 & 0 & 0 & 0 & g^{F}_5 \\left(b^\\dagger_{F, 05} + b_{F, 05}\\right)\\\\1 & 0 & 0 & 0 & 0 & 0 & 0 & 0 & 0 & 0 & 0 & 0 & 0 & 0 & 0 & 0 & 0 & 0 & 0 & 0 & 0 & 0 & 0 & 0 & 0 & 0 & 0 & g^{F}_5 \\left(b^\\dagger_{F, 05} + b_{F, 05}\\right)\\\\0 & 0 & 0 & 0 & 0 & 0 & 0 & 0 & 0 & 0 & 0 & 0 & 0 & 0 & 0 & 0 & 0 & 0 & 1 & 0 & 0 & 0 & 0 & 0 & 0 & 0 & 0 & 0\\\\0 & 0 & 0 & 0 & 0 & 0 & 0 & 0 & 0 & 0 & 0 & 0 & 0 & 0 & 0 & 1 & 0 & 0 & 0 & 0 & 0 & 0 & 0 & 0 & 0 & 0 & 0 & g^{F}_5 \\left(b^\\dagger_{F, 05} + b_{F, 05}\\right)\\\\0 & 0 & 0 & 0 & 0 & 0 & 0 & 0 & 0 & 0 & 0 & 0 & 0 & 0 & 0 & 0 & 0 & 0 & 0 & 0 & 0 & 0 & 1 & 0 & 0 & 0 & 0 & 0\\\\0 & 0 & 0 & 0 & 0 & 0 & 0 & 0 & 0 & 1 & 0 & 0 & 0 & 0 & 0 & 0 & 0 & 0 & 0 & 0 & 0 & 0 & 0 & 0 & 0 & 0 & 0 & g^{F}_5 \\left(b^\\dagger_{F, 05} + b_{F, 05}\\right)\\\\0 & 0 & 0 & 0 & 0 & 0 & 0 & 0 & 0 & 0 & 0 & 0 & 0 & 0 & 0 & 0 & 0 & 0 & 0 & 0 & 0 & 0 & 0 & 1 & 0 & 0 & 0 & 0\\\\0 & 0 & 0 & 0 & 0 & 0 & 0 & 0 & 1 & 0 & 0 & 0 & 0 & 0 & 0 & 0 & 0 & 0 & 0 & 0 & 0 & 0 & 0 & 0 & 0 & 0 & 0 & 0\\\\0 & 0 & 1 & 0 & 0 & 0 & 0 & 0 & 0 & 0 & 0 & 0 & 0 & 0 & 0 & 0 & 0 & 0 & 0 & 0 & 0 & 0 & 0 & 0 & 0 & 0 & 0 & g^{F}_5 \\left(b^\\dagger_{F, 05} + b_{F, 05}\\right)\\\\0 & 0 & 0 & 0 & 0 & 0 & 0 & 0 & 0 & 0 & 0 & 1 & 0 & 0 & 0 & 0 & 0 & 0 & 0 & 0 & 0 & 0 & 0 & 0 & 0 & 0 & 0 & 0\\\\0 & 1 & 0 & 0 & 0 & 0 & 0 & 0 & 0 & 0 & 0 & 0 & 0 & 0 & 0 & 0 & 0 & 0 & 0 & 0 & 0 & 0 & 0 & 0 & 0 & 0 & 0 & g^{F}_5 \\left(b^\\dagger_{F, 05} + b_{F, 05}\\right)\\\\0 & 0 & 0 & 0 & 0 & 0 & 0 & 0 & 0 & 0 & 0 & 0 & 0 & 0 & 0 & 0 & 0 & 0 & 0 & 0 & 1 & 0 & 0 & 0 & 0 & 0 & 0 & 0\\\\0 & 0 & 0 & 0 & 0 & 0 & 0 & 0 & 0 & 0 & 0 & 0 & 0 & 0 & 0 & 0 & 0 & 1 & 0 & 0 & 0 & 0 & 0 & 0 & 0 & 0 & 0 & 0\\\\0 & 0 & 0 & 1 & 0 & 0 & 0 & 0 & 0 & 0 & 0 & 0 & 0 & 0 & 0 & 0 & 0 & 0 & 0 & 0 & 0 & 0 & 0 & 0 & 0 & 0 & 0 & g^{F}_5 \\left(b^\\dagger_{F, 05} + b_{F, 05}\\right)\\\\0 & 0 & 0 & 0 & 0 & 0 & 0 & 1 & 0 & 0 & 0 & 0 & 0 & 0 & 0 & 0 & 0 & 0 & 0 & 0 & 0 & 0 & 0 & 0 & 0 & 0 & 0 & 0\\\\0 & 0 & 0 & 0 & 0 & 0 & 0 & 0 & 0 & 0 & 0 & 0 & 0 & 1 & 0 & 0 & 0 & 0 & 0 & 0 & 0 & 0 & 0 & 0 & 0 & 0 & 0 & 0\\\\0 & 0 & 0 & 0 & 0 & 0 & 0 & 0 & 0 & 0 & 0 & 0 & 0 & 0 & 0 & 0 & 0 & 0 & 0 & 0 & 0 & 0 & 0 & 0 & 1 & 0 & 0 & g^{F}_5 \\left(b^\\dagger_{F, 05} + b_{F, 05}\\right)\\\\0 & 0 & 0 & 0 & 0 & 0 & 0 & 0 & 0 & 0 & 0 & 0 & 0 & 0 & 0 & 0 & 0 & 0 & 0 & 0 & 0 & 0 & 0 & 0 & 0 & 0 & 1 & 0\\\\0 & 0 & 0 & 0 & 0 & 0 & 0 & 0 & 0 & 0 & 0 & 0 & 0 & 0 & 0 & 0 & 0 & 0 & 0 & 0 & 0 & 0 & 0 & 0 & 0 & 1 & 0 & g^{F}_5 \\left(b^\\dagger_{F, 05} + b_{F, 05}\\right)\\\\0 & 0 & 0 & 0 & 0 & 0 & 0 & 0 & 0 & 0 & 0 & 0 & 0 & 0 & 0 & 0 & 0 & 0 & 0 & 0 & 0 & 0 & 0 & 0 & 0 & 0 & 0 & 1\\end{array}\\right]$"
      ],
      "text/plain": [
       "Matrix([\n",
       "[0, 0, 0, 0, 0, 0, 0, 0, 0, 0, 1, 0, 0, 0, 0, 0, 0, 0, 0, 0, 0, 0, 0, 0, 0, 0, 0,                                       0],\n",
       "[0, 0, 0, 0, 0, 0, 0, 0, 0, 0, 0, 0, 0, 0, 0, 0, 0, 0, 0, 1, 0, 0, 0, 0, 0, 0, 0, g^{F}_5*(b^\\dagger_{F, 05} + b_{F, 05})],\n",
       "[0, 0, 0, 0, 0, 0, 0, 0, 0, 0, 0, 0, 0, 0, 0, 0, 0, 0, 0, 0, 0, 1, 0, 0, 0, 0, 0, g^{F}_5*(b^\\dagger_{F, 05} + b_{F, 05})],\n",
       "[0, 0, 0, 0, 0, 0, 1, 0, 0, 0, 0, 0, 0, 0, 0, 0, 0, 0, 0, 0, 0, 0, 0, 0, 0, 0, 0, g^{F}_5*(b^\\dagger_{F, 05} + b_{F, 05})],\n",
       "[0, 0, 0, 0, 1, 0, 0, 0, 0, 0, 0, 0, 0, 0, 0, 0, 0, 0, 0, 0, 0, 0, 0, 0, 0, 0, 0,                                       0],\n",
       "[0, 0, 0, 0, 0, 1, 0, 0, 0, 0, 0, 0, 0, 0, 0, 0, 0, 0, 0, 0, 0, 0, 0, 0, 0, 0, 0, g^{F}_5*(b^\\dagger_{F, 05} + b_{F, 05})],\n",
       "[0, 0, 0, 0, 0, 0, 0, 0, 0, 0, 0, 0, 0, 0, 0, 0, 1, 0, 0, 0, 0, 0, 0, 0, 0, 0, 0,                                       0],\n",
       "[0, 0, 0, 0, 0, 0, 0, 0, 0, 0, 0, 0, 1, 0, 0, 0, 0, 0, 0, 0, 0, 0, 0, 0, 0, 0, 0,     ω^{F}_5*b_{F, 05}*b^\\dagger_{F, 05}],\n",
       "[0, 0, 0, 0, 0, 0, 0, 0, 0, 0, 0, 0, 0, 0, 1, 0, 0, 0, 0, 0, 0, 0, 0, 0, 0, 0, 0, g^{F}_5*(b^\\dagger_{F, 05} + b_{F, 05})],\n",
       "[1, 0, 0, 0, 0, 0, 0, 0, 0, 0, 0, 0, 0, 0, 0, 0, 0, 0, 0, 0, 0, 0, 0, 0, 0, 0, 0, g^{F}_5*(b^\\dagger_{F, 05} + b_{F, 05})],\n",
       "[0, 0, 0, 0, 0, 0, 0, 0, 0, 0, 0, 0, 0, 0, 0, 0, 0, 0, 1, 0, 0, 0, 0, 0, 0, 0, 0,                                       0],\n",
       "[0, 0, 0, 0, 0, 0, 0, 0, 0, 0, 0, 0, 0, 0, 0, 1, 0, 0, 0, 0, 0, 0, 0, 0, 0, 0, 0, g^{F}_5*(b^\\dagger_{F, 05} + b_{F, 05})],\n",
       "[0, 0, 0, 0, 0, 0, 0, 0, 0, 0, 0, 0, 0, 0, 0, 0, 0, 0, 0, 0, 0, 0, 1, 0, 0, 0, 0,                                       0],\n",
       "[0, 0, 0, 0, 0, 0, 0, 0, 0, 1, 0, 0, 0, 0, 0, 0, 0, 0, 0, 0, 0, 0, 0, 0, 0, 0, 0, g^{F}_5*(b^\\dagger_{F, 05} + b_{F, 05})],\n",
       "[0, 0, 0, 0, 0, 0, 0, 0, 0, 0, 0, 0, 0, 0, 0, 0, 0, 0, 0, 0, 0, 0, 0, 1, 0, 0, 0,                                       0],\n",
       "[0, 0, 0, 0, 0, 0, 0, 0, 1, 0, 0, 0, 0, 0, 0, 0, 0, 0, 0, 0, 0, 0, 0, 0, 0, 0, 0,                                       0],\n",
       "[0, 0, 1, 0, 0, 0, 0, 0, 0, 0, 0, 0, 0, 0, 0, 0, 0, 0, 0, 0, 0, 0, 0, 0, 0, 0, 0, g^{F}_5*(b^\\dagger_{F, 05} + b_{F, 05})],\n",
       "[0, 0, 0, 0, 0, 0, 0, 0, 0, 0, 0, 1, 0, 0, 0, 0, 0, 0, 0, 0, 0, 0, 0, 0, 0, 0, 0,                                       0],\n",
       "[0, 1, 0, 0, 0, 0, 0, 0, 0, 0, 0, 0, 0, 0, 0, 0, 0, 0, 0, 0, 0, 0, 0, 0, 0, 0, 0, g^{F}_5*(b^\\dagger_{F, 05} + b_{F, 05})],\n",
       "[0, 0, 0, 0, 0, 0, 0, 0, 0, 0, 0, 0, 0, 0, 0, 0, 0, 0, 0, 0, 1, 0, 0, 0, 0, 0, 0,                                       0],\n",
       "[0, 0, 0, 0, 0, 0, 0, 0, 0, 0, 0, 0, 0, 0, 0, 0, 0, 1, 0, 0, 0, 0, 0, 0, 0, 0, 0,                                       0],\n",
       "[0, 0, 0, 1, 0, 0, 0, 0, 0, 0, 0, 0, 0, 0, 0, 0, 0, 0, 0, 0, 0, 0, 0, 0, 0, 0, 0, g^{F}_5*(b^\\dagger_{F, 05} + b_{F, 05})],\n",
       "[0, 0, 0, 0, 0, 0, 0, 1, 0, 0, 0, 0, 0, 0, 0, 0, 0, 0, 0, 0, 0, 0, 0, 0, 0, 0, 0,                                       0],\n",
       "[0, 0, 0, 0, 0, 0, 0, 0, 0, 0, 0, 0, 0, 1, 0, 0, 0, 0, 0, 0, 0, 0, 0, 0, 0, 0, 0,                                       0],\n",
       "[0, 0, 0, 0, 0, 0, 0, 0, 0, 0, 0, 0, 0, 0, 0, 0, 0, 0, 0, 0, 0, 0, 0, 0, 1, 0, 0, g^{F}_5*(b^\\dagger_{F, 05} + b_{F, 05})],\n",
       "[0, 0, 0, 0, 0, 0, 0, 0, 0, 0, 0, 0, 0, 0, 0, 0, 0, 0, 0, 0, 0, 0, 0, 0, 0, 0, 1,                                       0],\n",
       "[0, 0, 0, 0, 0, 0, 0, 0, 0, 0, 0, 0, 0, 0, 0, 0, 0, 0, 0, 0, 0, 0, 0, 0, 0, 1, 0, g^{F}_5*(b^\\dagger_{F, 05} + b_{F, 05})],\n",
       "[0, 0, 0, 0, 0, 0, 0, 0, 0, 0, 0, 0, 0, 0, 0, 0, 0, 0, 0, 0, 0, 0, 0, 0, 0, 0, 0,                                       1]])"
      ]
     },
     "metadata": {},
     "output_type": "display_data"
    },
    {
     "data": {
      "text/latex": [
       "$\\displaystyle \\left[\\begin{array}{cccccccccccccccccccccccccccc}0 & 0 & 0 & 0 & 0 & 0 & 0 & 0 & 0 & 0 & 1 & 0 & 0 & 0 & 0 & 0 & 0 & 0 & 0 & 0 & 0 & 0 & 0 & 0 & 0 & 0 & 0 & g^{F}_6 \\left(b^\\dagger_{F, 06} + b_{F, 06}\\right)\\\\0 & 0 & 1 & 0 & 0 & 0 & 0 & 0 & 0 & 0 & 0 & 0 & 0 & 0 & 0 & 0 & 0 & 0 & 0 & 0 & 0 & 0 & 0 & 0 & 0 & 0 & 0 & g^{F}_6 \\left(b^\\dagger_{F, 06} + b_{F, 06}\\right)\\\\1 & 0 & 0 & 0 & 0 & 0 & 0 & 0 & 0 & 0 & 0 & 0 & 0 & 0 & 0 & 0 & 0 & 0 & 0 & 0 & 0 & 0 & 0 & 0 & 0 & 0 & 0 & g^{F}_6 \\left(b^\\dagger_{F, 06} + b_{F, 06}\\right)\\\\0 & 1 & 0 & 0 & 0 & 0 & 0 & 0 & 0 & 0 & 0 & 0 & 0 & 0 & 0 & 0 & 0 & 0 & 0 & 0 & 0 & 0 & 0 & 0 & 0 & 0 & 0 & g^{F}_6 \\left(b^\\dagger_{F, 06} + b_{F, 06}\\right)\\\\0 & 0 & 0 & 0 & 0 & 0 & 0 & 0 & 0 & 1 & 0 & 0 & 0 & 0 & 0 & 0 & 0 & 0 & 0 & 0 & 0 & 0 & 0 & 0 & 0 & 0 & 0 & 0\\\\0 & 0 & 0 & 0 & 0 & 0 & 0 & 0 & 1 & 0 & 0 & 0 & 0 & 0 & 0 & 0 & 0 & 0 & 0 & 0 & 0 & 0 & 0 & 0 & 0 & 0 & 0 & g^{F}_6 \\left(b^\\dagger_{F, 06} + b_{F, 06}\\right)\\\\0 & 0 & 0 & 0 & 0 & 0 & 0 & 0 & 0 & 0 & 0 & 0 & 0 & 1 & 0 & 0 & 0 & 0 & 0 & 0 & 0 & 0 & 0 & 0 & 0 & 0 & 0 & g^{F}_6 \\left(b^\\dagger_{F, 06} + b_{F, 06}\\right)\\\\0 & 0 & 0 & 0 & 0 & 0 & 0 & 1 & 0 & 0 & 0 & 0 & 0 & 0 & 0 & 0 & 0 & 0 & 0 & 0 & 0 & 0 & 0 & 0 & 0 & 0 & 0 & 0\\\\0 & 0 & 0 & 0 & 0 & 0 & 0 & 0 & 0 & 0 & 0 & 0 & 0 & 0 & 0 & 0 & 0 & 0 & 0 & 0 & 0 & 0 & 0 & 0 & 0 & 1 & 0 & 0\\\\0 & 0 & 0 & 0 & 0 & 0 & 0 & 0 & 0 & 0 & 0 & 0 & 0 & 0 & 0 & 0 & 0 & 0 & 0 & 1 & 0 & 0 & 0 & 0 & 0 & 0 & 0 & g^{F}_6 \\left(b^\\dagger_{F, 06} + b_{F, 06}\\right)\\\\0 & 0 & 0 & 0 & 0 & 0 & 0 & 0 & 0 & 0 & 0 & 0 & 0 & 0 & 0 & 0 & 0 & 1 & 0 & 0 & 0 & 0 & 0 & 0 & 0 & 0 & 0 & 0\\\\0 & 0 & 0 & 0 & 0 & 0 & 0 & 0 & 0 & 0 & 0 & 0 & 0 & 0 & 0 & 0 & 0 & 0 & 0 & 0 & 0 & 0 & 0 & 0 & 0 & 0 & 1 & 0\\\\0 & 0 & 0 & 0 & 0 & 0 & 0 & 0 & 0 & 0 & 0 & 0 & 1 & 0 & 0 & 0 & 0 & 0 & 0 & 0 & 0 & 0 & 0 & 0 & 0 & 0 & 0 & ω^{F}_6 b_{F, 06} b^\\dagger_{F, 06}\\\\0 & 0 & 0 & 0 & 0 & 0 & 0 & 0 & 0 & 0 & 0 & 0 & 0 & 0 & 0 & 0 & 0 & 0 & 0 & 0 & 0 & 0 & 0 & 0 & 1 & 0 & 0 & 0\\\\0 & 0 & 0 & 0 & 0 & 0 & 0 & 0 & 0 & 0 & 0 & 0 & 0 & 0 & 0 & 0 & 0 & 0 & 0 & 0 & 0 & 1 & 0 & 0 & 0 & 0 & 0 & g^{F}_6 \\left(b^\\dagger_{F, 06} + b_{F, 06}\\right)\\\\0 & 0 & 0 & 1 & 0 & 0 & 0 & 0 & 0 & 0 & 0 & 0 & 0 & 0 & 0 & 0 & 0 & 0 & 0 & 0 & 0 & 0 & 0 & 0 & 0 & 0 & 0 & g^{F}_6 \\left(b^\\dagger_{F, 06} + b_{F, 06}\\right)\\\\0 & 0 & 0 & 0 & 0 & 1 & 0 & 0 & 0 & 0 & 0 & 0 & 0 & 0 & 0 & 0 & 0 & 0 & 0 & 0 & 0 & 0 & 0 & 0 & 0 & 0 & 0 & 0\\\\0 & 0 & 0 & 0 & 0 & 0 & 0 & 0 & 0 & 0 & 0 & 0 & 0 & 0 & 0 & 0 & 0 & 0 & 1 & 0 & 0 & 0 & 0 & 0 & 0 & 0 & 0 & 0\\\\0 & 0 & 0 & 0 & 0 & 0 & 0 & 0 & 0 & 0 & 0 & 0 & 0 & 0 & 1 & 0 & 0 & 0 & 0 & 0 & 0 & 0 & 0 & 0 & 0 & 0 & 0 & 0\\\\0 & 0 & 0 & 0 & 1 & 0 & 0 & 0 & 0 & 0 & 0 & 0 & 0 & 0 & 0 & 0 & 0 & 0 & 0 & 0 & 0 & 0 & 0 & 0 & 0 & 0 & 0 & g^{F}_6 \\left(b^\\dagger_{F, 06} + b_{F, 06}\\right)\\\\0 & 0 & 0 & 0 & 0 & 0 & 0 & 0 & 0 & 0 & 0 & 0 & 0 & 0 & 0 & 0 & 0 & 0 & 0 & 0 & 1 & 0 & 0 & 0 & 0 & 0 & 0 & 0\\\\0 & 0 & 0 & 0 & 0 & 0 & 0 & 0 & 0 & 0 & 0 & 1 & 0 & 0 & 0 & 0 & 0 & 0 & 0 & 0 & 0 & 0 & 0 & 0 & 0 & 0 & 0 & g^{F}_6 \\left(b^\\dagger_{F, 06} + b_{F, 06}\\right)\\\\0 & 0 & 0 & 0 & 0 & 0 & 0 & 0 & 0 & 0 & 0 & 0 & 0 & 0 & 0 & 0 & 0 & 0 & 0 & 0 & 0 & 0 & 1 & 0 & 0 & 0 & 0 & 0\\\\0 & 0 & 0 & 0 & 0 & 0 & 0 & 0 & 0 & 0 & 0 & 0 & 0 & 0 & 0 & 1 & 0 & 0 & 0 & 0 & 0 & 0 & 0 & 0 & 0 & 0 & 0 & 0\\\\0 & 0 & 0 & 0 & 0 & 0 & 0 & 0 & 0 & 0 & 0 & 0 & 0 & 0 & 0 & 0 & 1 & 0 & 0 & 0 & 0 & 0 & 0 & 0 & 0 & 0 & 0 & g^{F}_6 \\left(b^\\dagger_{F, 06} + b_{F, 06}\\right)\\\\0 & 0 & 0 & 0 & 0 & 0 & 1 & 0 & 0 & 0 & 0 & 0 & 0 & 0 & 0 & 0 & 0 & 0 & 0 & 0 & 0 & 0 & 0 & 0 & 0 & 0 & 0 & g^{F}_6 \\left(b^\\dagger_{F, 06} + b_{F, 06}\\right)\\\\0 & 0 & 0 & 0 & 0 & 0 & 0 & 0 & 0 & 0 & 0 & 0 & 0 & 0 & 0 & 0 & 0 & 0 & 0 & 0 & 0 & 0 & 0 & 1 & 0 & 0 & 0 & 0\\\\0 & 0 & 0 & 0 & 0 & 0 & 0 & 0 & 0 & 0 & 0 & 0 & 0 & 0 & 0 & 0 & 0 & 0 & 0 & 0 & 0 & 0 & 0 & 0 & 0 & 0 & 0 & 1\\end{array}\\right]$"
      ],
      "text/plain": [
       "Matrix([\n",
       "[0, 0, 0, 0, 0, 0, 0, 0, 0, 0, 1, 0, 0, 0, 0, 0, 0, 0, 0, 0, 0, 0, 0, 0, 0, 0, 0, g^{F}_6*(b^\\dagger_{F, 06} + b_{F, 06})],\n",
       "[0, 0, 1, 0, 0, 0, 0, 0, 0, 0, 0, 0, 0, 0, 0, 0, 0, 0, 0, 0, 0, 0, 0, 0, 0, 0, 0, g^{F}_6*(b^\\dagger_{F, 06} + b_{F, 06})],\n",
       "[1, 0, 0, 0, 0, 0, 0, 0, 0, 0, 0, 0, 0, 0, 0, 0, 0, 0, 0, 0, 0, 0, 0, 0, 0, 0, 0, g^{F}_6*(b^\\dagger_{F, 06} + b_{F, 06})],\n",
       "[0, 1, 0, 0, 0, 0, 0, 0, 0, 0, 0, 0, 0, 0, 0, 0, 0, 0, 0, 0, 0, 0, 0, 0, 0, 0, 0, g^{F}_6*(b^\\dagger_{F, 06} + b_{F, 06})],\n",
       "[0, 0, 0, 0, 0, 0, 0, 0, 0, 1, 0, 0, 0, 0, 0, 0, 0, 0, 0, 0, 0, 0, 0, 0, 0, 0, 0,                                       0],\n",
       "[0, 0, 0, 0, 0, 0, 0, 0, 1, 0, 0, 0, 0, 0, 0, 0, 0, 0, 0, 0, 0, 0, 0, 0, 0, 0, 0, g^{F}_6*(b^\\dagger_{F, 06} + b_{F, 06})],\n",
       "[0, 0, 0, 0, 0, 0, 0, 0, 0, 0, 0, 0, 0, 1, 0, 0, 0, 0, 0, 0, 0, 0, 0, 0, 0, 0, 0, g^{F}_6*(b^\\dagger_{F, 06} + b_{F, 06})],\n",
       "[0, 0, 0, 0, 0, 0, 0, 1, 0, 0, 0, 0, 0, 0, 0, 0, 0, 0, 0, 0, 0, 0, 0, 0, 0, 0, 0,                                       0],\n",
       "[0, 0, 0, 0, 0, 0, 0, 0, 0, 0, 0, 0, 0, 0, 0, 0, 0, 0, 0, 0, 0, 0, 0, 0, 0, 1, 0,                                       0],\n",
       "[0, 0, 0, 0, 0, 0, 0, 0, 0, 0, 0, 0, 0, 0, 0, 0, 0, 0, 0, 1, 0, 0, 0, 0, 0, 0, 0, g^{F}_6*(b^\\dagger_{F, 06} + b_{F, 06})],\n",
       "[0, 0, 0, 0, 0, 0, 0, 0, 0, 0, 0, 0, 0, 0, 0, 0, 0, 1, 0, 0, 0, 0, 0, 0, 0, 0, 0,                                       0],\n",
       "[0, 0, 0, 0, 0, 0, 0, 0, 0, 0, 0, 0, 0, 0, 0, 0, 0, 0, 0, 0, 0, 0, 0, 0, 0, 0, 1,                                       0],\n",
       "[0, 0, 0, 0, 0, 0, 0, 0, 0, 0, 0, 0, 1, 0, 0, 0, 0, 0, 0, 0, 0, 0, 0, 0, 0, 0, 0,     ω^{F}_6*b_{F, 06}*b^\\dagger_{F, 06}],\n",
       "[0, 0, 0, 0, 0, 0, 0, 0, 0, 0, 0, 0, 0, 0, 0, 0, 0, 0, 0, 0, 0, 0, 0, 0, 1, 0, 0,                                       0],\n",
       "[0, 0, 0, 0, 0, 0, 0, 0, 0, 0, 0, 0, 0, 0, 0, 0, 0, 0, 0, 0, 0, 1, 0, 0, 0, 0, 0, g^{F}_6*(b^\\dagger_{F, 06} + b_{F, 06})],\n",
       "[0, 0, 0, 1, 0, 0, 0, 0, 0, 0, 0, 0, 0, 0, 0, 0, 0, 0, 0, 0, 0, 0, 0, 0, 0, 0, 0, g^{F}_6*(b^\\dagger_{F, 06} + b_{F, 06})],\n",
       "[0, 0, 0, 0, 0, 1, 0, 0, 0, 0, 0, 0, 0, 0, 0, 0, 0, 0, 0, 0, 0, 0, 0, 0, 0, 0, 0,                                       0],\n",
       "[0, 0, 0, 0, 0, 0, 0, 0, 0, 0, 0, 0, 0, 0, 0, 0, 0, 0, 1, 0, 0, 0, 0, 0, 0, 0, 0,                                       0],\n",
       "[0, 0, 0, 0, 0, 0, 0, 0, 0, 0, 0, 0, 0, 0, 1, 0, 0, 0, 0, 0, 0, 0, 0, 0, 0, 0, 0,                                       0],\n",
       "[0, 0, 0, 0, 1, 0, 0, 0, 0, 0, 0, 0, 0, 0, 0, 0, 0, 0, 0, 0, 0, 0, 0, 0, 0, 0, 0, g^{F}_6*(b^\\dagger_{F, 06} + b_{F, 06})],\n",
       "[0, 0, 0, 0, 0, 0, 0, 0, 0, 0, 0, 0, 0, 0, 0, 0, 0, 0, 0, 0, 1, 0, 0, 0, 0, 0, 0,                                       0],\n",
       "[0, 0, 0, 0, 0, 0, 0, 0, 0, 0, 0, 1, 0, 0, 0, 0, 0, 0, 0, 0, 0, 0, 0, 0, 0, 0, 0, g^{F}_6*(b^\\dagger_{F, 06} + b_{F, 06})],\n",
       "[0, 0, 0, 0, 0, 0, 0, 0, 0, 0, 0, 0, 0, 0, 0, 0, 0, 0, 0, 0, 0, 0, 1, 0, 0, 0, 0,                                       0],\n",
       "[0, 0, 0, 0, 0, 0, 0, 0, 0, 0, 0, 0, 0, 0, 0, 1, 0, 0, 0, 0, 0, 0, 0, 0, 0, 0, 0,                                       0],\n",
       "[0, 0, 0, 0, 0, 0, 0, 0, 0, 0, 0, 0, 0, 0, 0, 0, 1, 0, 0, 0, 0, 0, 0, 0, 0, 0, 0, g^{F}_6*(b^\\dagger_{F, 06} + b_{F, 06})],\n",
       "[0, 0, 0, 0, 0, 0, 1, 0, 0, 0, 0, 0, 0, 0, 0, 0, 0, 0, 0, 0, 0, 0, 0, 0, 0, 0, 0, g^{F}_6*(b^\\dagger_{F, 06} + b_{F, 06})],\n",
       "[0, 0, 0, 0, 0, 0, 0, 0, 0, 0, 0, 0, 0, 0, 0, 0, 0, 0, 0, 0, 0, 0, 0, 1, 0, 0, 0,                                       0],\n",
       "[0, 0, 0, 0, 0, 0, 0, 0, 0, 0, 0, 0, 0, 0, 0, 0, 0, 0, 0, 0, 0, 0, 0, 0, 0, 0, 0,                                       1]])"
      ]
     },
     "metadata": {},
     "output_type": "display_data"
    },
    {
     "data": {
      "text/latex": [
       "$\\displaystyle \\left[\\begin{array}{cccccccccccccccccccccccccccc}0 & 0 & 0 & 0 & 0 & 0 & 0 & 0 & 0 & 0 & 0 & 0 & 0 & 0 & 0 & 0 & 0 & 0 & 0 & 0 & 0 & 0 & 0 & 0 & 1 & 0 & 0 & g^{F}_7 \\left(b^\\dagger_{F, 07} + b_{F, 07}\\right)\\\\0 & 0 & 0 & 0 & 0 & 0 & 0 & 0 & 0 & 0 & 0 & 0 & 0 & 0 & 0 & 0 & 0 & 0 & 0 & 1 & 0 & 0 & 0 & 0 & 0 & 0 & 0 & g^{F}_7 \\left(b^\\dagger_{F, 07} + b_{F, 07}\\right)\\\\1 & 0 & 0 & 0 & 0 & 0 & 0 & 0 & 0 & 0 & 0 & 0 & 0 & 0 & 0 & 0 & 0 & 0 & 0 & 0 & 0 & 0 & 0 & 0 & 0 & 0 & 0 & g^{F}_7 \\left(b^\\dagger_{F, 07} + b_{F, 07}\\right)\\\\0 & 0 & 0 & 0 & 0 & 0 & 0 & 0 & 0 & 0 & 0 & 0 & 0 & 0 & 0 & 0 & 0 & 0 & 0 & 0 & 0 & 0 & 1 & 0 & 0 & 0 & 0 & g^{F}_7 \\left(b^\\dagger_{F, 07} + b_{F, 07}\\right)\\\\0 & 0 & 0 & 0 & 0 & 0 & 0 & 0 & 0 & 0 & 0 & 0 & 0 & 0 & 0 & 0 & 0 & 0 & 0 & 0 & 0 & 0 & 0 & 0 & 0 & 1 & 0 & g^{F}_7 \\left(b^\\dagger_{F, 07} + b_{F, 07}\\right)\\\\0 & 0 & 0 & 1 & 0 & 0 & 0 & 0 & 0 & 0 & 0 & 0 & 0 & 0 & 0 & 0 & 0 & 0 & 0 & 0 & 0 & 0 & 0 & 0 & 0 & 0 & 0 & 0\\\\0 & 0 & 0 & 0 & 0 & 0 & 0 & 0 & 0 & 0 & 0 & 0 & 0 & 0 & 0 & 0 & 0 & 0 & 0 & 0 & 1 & 0 & 0 & 0 & 0 & 0 & 0 & g^{F}_7 \\left(b^\\dagger_{F, 07} + b_{F, 07}\\right)\\\\0 & 0 & 0 & 0 & 0 & 0 & 0 & 0 & 0 & 0 & 0 & 0 & 0 & 0 & 0 & 0 & 0 & 0 & 0 & 0 & 0 & 1 & 0 & 0 & 0 & 0 & 0 & 0\\\\0 & 0 & 0 & 0 & 0 & 0 & 0 & 0 & 0 & 0 & 0 & 0 & 0 & 0 & 0 & 1 & 0 & 0 & 0 & 0 & 0 & 0 & 0 & 0 & 0 & 0 & 0 & g^{F}_7 \\left(b^\\dagger_{F, 07} + b_{F, 07}\\right)\\\\0 & 0 & 0 & 0 & 0 & 0 & 0 & 0 & 0 & 0 & 0 & 0 & 0 & 0 & 0 & 0 & 1 & 0 & 0 & 0 & 0 & 0 & 0 & 0 & 0 & 0 & 0 & 0\\\\0 & 0 & 1 & 0 & 0 & 0 & 0 & 0 & 0 & 0 & 0 & 0 & 0 & 0 & 0 & 0 & 0 & 0 & 0 & 0 & 0 & 0 & 0 & 0 & 0 & 0 & 0 & g^{F}_7 \\left(b^\\dagger_{F, 07} + b_{F, 07}\\right)\\\\0 & 0 & 0 & 0 & 0 & 0 & 0 & 0 & 0 & 0 & 0 & 0 & 1 & 0 & 0 & 0 & 0 & 0 & 0 & 0 & 0 & 0 & 0 & 0 & 0 & 0 & 0 & g^{F}_7 \\left(b^\\dagger_{F, 07} + b_{F, 07}\\right)\\\\0 & 0 & 0 & 0 & 0 & 0 & 0 & 0 & 0 & 0 & 0 & 0 & 0 & 0 & 0 & 0 & 0 & 1 & 0 & 0 & 0 & 0 & 0 & 0 & 0 & 0 & 0 & ω^{F}_7 b_{F, 07} b^\\dagger_{F, 07}\\\\0 & 0 & 0 & 0 & 0 & 0 & 1 & 0 & 0 & 0 & 0 & 0 & 0 & 0 & 0 & 0 & 0 & 0 & 0 & 0 & 0 & 0 & 0 & 0 & 0 & 0 & 0 & g^{F}_7 \\left(b^\\dagger_{F, 07} + b_{F, 07}\\right)\\\\0 & 0 & 0 & 0 & 0 & 0 & 0 & 0 & 0 & 0 & 0 & 0 & 0 & 0 & 0 & 0 & 0 & 0 & 1 & 0 & 0 & 0 & 0 & 0 & 0 & 0 & 0 & 0\\\\0 & 0 & 0 & 0 & 0 & 0 & 0 & 0 & 0 & 0 & 1 & 0 & 0 & 0 & 0 & 0 & 0 & 0 & 0 & 0 & 0 & 0 & 0 & 0 & 0 & 0 & 0 & 0\\\\0 & 1 & 0 & 0 & 0 & 0 & 0 & 0 & 0 & 0 & 0 & 0 & 0 & 0 & 0 & 0 & 0 & 0 & 0 & 0 & 0 & 0 & 0 & 0 & 0 & 0 & 0 & g^{F}_7 \\left(b^\\dagger_{F, 07} + b_{F, 07}\\right)\\\\0 & 0 & 0 & 0 & 0 & 0 & 0 & 0 & 0 & 0 & 0 & 1 & 0 & 0 & 0 & 0 & 0 & 0 & 0 & 0 & 0 & 0 & 0 & 0 & 0 & 0 & 0 & 0\\\\0 & 0 & 0 & 0 & 0 & 0 & 0 & 0 & 0 & 0 & 0 & 0 & 0 & 1 & 0 & 0 & 0 & 0 & 0 & 0 & 0 & 0 & 0 & 0 & 0 & 0 & 0 & 0\\\\0 & 0 & 0 & 0 & 0 & 0 & 0 & 1 & 0 & 0 & 0 & 0 & 0 & 0 & 0 & 0 & 0 & 0 & 0 & 0 & 0 & 0 & 0 & 0 & 0 & 0 & 0 & g^{F}_7 \\left(b^\\dagger_{F, 07} + b_{F, 07}\\right)\\\\0 & 0 & 0 & 0 & 0 & 0 & 0 & 0 & 0 & 0 & 0 & 0 & 0 & 0 & 0 & 0 & 0 & 0 & 0 & 0 & 0 & 0 & 0 & 0 & 0 & 0 & 1 & 0\\\\0 & 0 & 0 & 0 & 0 & 0 & 0 & 0 & 0 & 0 & 0 & 0 & 0 & 0 & 1 & 0 & 0 & 0 & 0 & 0 & 0 & 0 & 0 & 0 & 0 & 0 & 0 & g^{F}_7 \\left(b^\\dagger_{F, 07} + b_{F, 07}\\right)\\\\0 & 0 & 0 & 0 & 0 & 1 & 0 & 0 & 0 & 0 & 0 & 0 & 0 & 0 & 0 & 0 & 0 & 0 & 0 & 0 & 0 & 0 & 0 & 0 & 0 & 0 & 0 & 0\\\\0 & 0 & 0 & 0 & 0 & 0 & 0 & 0 & 0 & 1 & 0 & 0 & 0 & 0 & 0 & 0 & 0 & 0 & 0 & 0 & 0 & 0 & 0 & 0 & 0 & 0 & 0 & 0\\\\0 & 0 & 0 & 0 & 0 & 0 & 0 & 0 & 1 & 0 & 0 & 0 & 0 & 0 & 0 & 0 & 0 & 0 & 0 & 0 & 0 & 0 & 0 & 0 & 0 & 0 & 0 & 0\\\\0 & 0 & 0 & 0 & 1 & 0 & 0 & 0 & 0 & 0 & 0 & 0 & 0 & 0 & 0 & 0 & 0 & 0 & 0 & 0 & 0 & 0 & 0 & 0 & 0 & 0 & 0 & 0\\\\0 & 0 & 0 & 0 & 0 & 0 & 0 & 0 & 0 & 0 & 0 & 0 & 0 & 0 & 0 & 0 & 0 & 0 & 0 & 0 & 0 & 0 & 0 & 1 & 0 & 0 & 0 & 0\\\\0 & 0 & 0 & 0 & 0 & 0 & 0 & 0 & 0 & 0 & 0 & 0 & 0 & 0 & 0 & 0 & 0 & 0 & 0 & 0 & 0 & 0 & 0 & 0 & 0 & 0 & 0 & 1\\end{array}\\right]$"
      ],
      "text/plain": [
       "Matrix([\n",
       "[0, 0, 0, 0, 0, 0, 0, 0, 0, 0, 0, 0, 0, 0, 0, 0, 0, 0, 0, 0, 0, 0, 0, 0, 1, 0, 0, g^{F}_7*(b^\\dagger_{F, 07} + b_{F, 07})],\n",
       "[0, 0, 0, 0, 0, 0, 0, 0, 0, 0, 0, 0, 0, 0, 0, 0, 0, 0, 0, 1, 0, 0, 0, 0, 0, 0, 0, g^{F}_7*(b^\\dagger_{F, 07} + b_{F, 07})],\n",
       "[1, 0, 0, 0, 0, 0, 0, 0, 0, 0, 0, 0, 0, 0, 0, 0, 0, 0, 0, 0, 0, 0, 0, 0, 0, 0, 0, g^{F}_7*(b^\\dagger_{F, 07} + b_{F, 07})],\n",
       "[0, 0, 0, 0, 0, 0, 0, 0, 0, 0, 0, 0, 0, 0, 0, 0, 0, 0, 0, 0, 0, 0, 1, 0, 0, 0, 0, g^{F}_7*(b^\\dagger_{F, 07} + b_{F, 07})],\n",
       "[0, 0, 0, 0, 0, 0, 0, 0, 0, 0, 0, 0, 0, 0, 0, 0, 0, 0, 0, 0, 0, 0, 0, 0, 0, 1, 0, g^{F}_7*(b^\\dagger_{F, 07} + b_{F, 07})],\n",
       "[0, 0, 0, 1, 0, 0, 0, 0, 0, 0, 0, 0, 0, 0, 0, 0, 0, 0, 0, 0, 0, 0, 0, 0, 0, 0, 0,                                       0],\n",
       "[0, 0, 0, 0, 0, 0, 0, 0, 0, 0, 0, 0, 0, 0, 0, 0, 0, 0, 0, 0, 1, 0, 0, 0, 0, 0, 0, g^{F}_7*(b^\\dagger_{F, 07} + b_{F, 07})],\n",
       "[0, 0, 0, 0, 0, 0, 0, 0, 0, 0, 0, 0, 0, 0, 0, 0, 0, 0, 0, 0, 0, 1, 0, 0, 0, 0, 0,                                       0],\n",
       "[0, 0, 0, 0, 0, 0, 0, 0, 0, 0, 0, 0, 0, 0, 0, 1, 0, 0, 0, 0, 0, 0, 0, 0, 0, 0, 0, g^{F}_7*(b^\\dagger_{F, 07} + b_{F, 07})],\n",
       "[0, 0, 0, 0, 0, 0, 0, 0, 0, 0, 0, 0, 0, 0, 0, 0, 1, 0, 0, 0, 0, 0, 0, 0, 0, 0, 0,                                       0],\n",
       "[0, 0, 1, 0, 0, 0, 0, 0, 0, 0, 0, 0, 0, 0, 0, 0, 0, 0, 0, 0, 0, 0, 0, 0, 0, 0, 0, g^{F}_7*(b^\\dagger_{F, 07} + b_{F, 07})],\n",
       "[0, 0, 0, 0, 0, 0, 0, 0, 0, 0, 0, 0, 1, 0, 0, 0, 0, 0, 0, 0, 0, 0, 0, 0, 0, 0, 0, g^{F}_7*(b^\\dagger_{F, 07} + b_{F, 07})],\n",
       "[0, 0, 0, 0, 0, 0, 0, 0, 0, 0, 0, 0, 0, 0, 0, 0, 0, 1, 0, 0, 0, 0, 0, 0, 0, 0, 0,     ω^{F}_7*b_{F, 07}*b^\\dagger_{F, 07}],\n",
       "[0, 0, 0, 0, 0, 0, 1, 0, 0, 0, 0, 0, 0, 0, 0, 0, 0, 0, 0, 0, 0, 0, 0, 0, 0, 0, 0, g^{F}_7*(b^\\dagger_{F, 07} + b_{F, 07})],\n",
       "[0, 0, 0, 0, 0, 0, 0, 0, 0, 0, 0, 0, 0, 0, 0, 0, 0, 0, 1, 0, 0, 0, 0, 0, 0, 0, 0,                                       0],\n",
       "[0, 0, 0, 0, 0, 0, 0, 0, 0, 0, 1, 0, 0, 0, 0, 0, 0, 0, 0, 0, 0, 0, 0, 0, 0, 0, 0,                                       0],\n",
       "[0, 1, 0, 0, 0, 0, 0, 0, 0, 0, 0, 0, 0, 0, 0, 0, 0, 0, 0, 0, 0, 0, 0, 0, 0, 0, 0, g^{F}_7*(b^\\dagger_{F, 07} + b_{F, 07})],\n",
       "[0, 0, 0, 0, 0, 0, 0, 0, 0, 0, 0, 1, 0, 0, 0, 0, 0, 0, 0, 0, 0, 0, 0, 0, 0, 0, 0,                                       0],\n",
       "[0, 0, 0, 0, 0, 0, 0, 0, 0, 0, 0, 0, 0, 1, 0, 0, 0, 0, 0, 0, 0, 0, 0, 0, 0, 0, 0,                                       0],\n",
       "[0, 0, 0, 0, 0, 0, 0, 1, 0, 0, 0, 0, 0, 0, 0, 0, 0, 0, 0, 0, 0, 0, 0, 0, 0, 0, 0, g^{F}_7*(b^\\dagger_{F, 07} + b_{F, 07})],\n",
       "[0, 0, 0, 0, 0, 0, 0, 0, 0, 0, 0, 0, 0, 0, 0, 0, 0, 0, 0, 0, 0, 0, 0, 0, 0, 0, 1,                                       0],\n",
       "[0, 0, 0, 0, 0, 0, 0, 0, 0, 0, 0, 0, 0, 0, 1, 0, 0, 0, 0, 0, 0, 0, 0, 0, 0, 0, 0, g^{F}_7*(b^\\dagger_{F, 07} + b_{F, 07})],\n",
       "[0, 0, 0, 0, 0, 1, 0, 0, 0, 0, 0, 0, 0, 0, 0, 0, 0, 0, 0, 0, 0, 0, 0, 0, 0, 0, 0,                                       0],\n",
       "[0, 0, 0, 0, 0, 0, 0, 0, 0, 1, 0, 0, 0, 0, 0, 0, 0, 0, 0, 0, 0, 0, 0, 0, 0, 0, 0,                                       0],\n",
       "[0, 0, 0, 0, 0, 0, 0, 0, 1, 0, 0, 0, 0, 0, 0, 0, 0, 0, 0, 0, 0, 0, 0, 0, 0, 0, 0,                                       0],\n",
       "[0, 0, 0, 0, 1, 0, 0, 0, 0, 0, 0, 0, 0, 0, 0, 0, 0, 0, 0, 0, 0, 0, 0, 0, 0, 0, 0,                                       0],\n",
       "[0, 0, 0, 0, 0, 0, 0, 0, 0, 0, 0, 0, 0, 0, 0, 0, 0, 0, 0, 0, 0, 0, 0, 1, 0, 0, 0,                                       0],\n",
       "[0, 0, 0, 0, 0, 0, 0, 0, 0, 0, 0, 0, 0, 0, 0, 0, 0, 0, 0, 0, 0, 0, 0, 0, 0, 0, 0,                                       1]])"
      ]
     },
     "metadata": {},
     "output_type": "display_data"
    },
    {
     "data": {
      "text/latex": [
       "$\\displaystyle \\left[\\begin{array}{cccccccccccccccccccccccccccc}0 & 0 & 0 & 0 & 0 & 0 & 0 & 0 & 0 & 0 & 0 & 0 & 0 & 0 & 0 & 1 & 0 & 0 & 0 & 0 & 0 & 0 & 0 & 0 & 0 & 0 & 0 & g^{F}_8 \\left(b^\\dagger_{F, 08} + b_{F, 08}\\right)\\\\0 & 1 & 0 & 0 & 0 & 0 & 0 & 0 & 0 & 0 & 0 & 0 & 0 & 0 & 0 & 0 & 0 & 0 & 0 & 0 & 0 & 0 & 0 & 0 & 0 & 0 & 0 & g^{F}_8 \\left(b^\\dagger_{F, 08} + b_{F, 08}\\right)\\\\1 & 0 & 0 & 0 & 0 & 0 & 0 & 0 & 0 & 0 & 0 & 0 & 0 & 0 & 0 & 0 & 0 & 0 & 0 & 0 & 0 & 0 & 0 & 0 & 0 & 0 & 0 & g^{F}_8 \\left(b^\\dagger_{F, 08} + b_{F, 08}\\right)\\\\0 & 0 & 0 & 0 & 0 & 0 & 0 & 0 & 0 & 0 & 0 & 0 & 0 & 0 & 1 & 0 & 0 & 0 & 0 & 0 & 0 & 0 & 0 & 0 & 0 & 0 & 0 & 0\\\\0 & 0 & 0 & 0 & 0 & 0 & 0 & 0 & 0 & 0 & 0 & 0 & 0 & 0 & 0 & 0 & 0 & 0 & 0 & 0 & 0 & 0 & 0 & 1 & 0 & 0 & 0 & 0\\\\0 & 0 & 0 & 1 & 0 & 0 & 0 & 0 & 0 & 0 & 0 & 0 & 0 & 0 & 0 & 0 & 0 & 0 & 0 & 0 & 0 & 0 & 0 & 0 & 0 & 0 & 0 & 0\\\\0 & 0 & 0 & 0 & 0 & 1 & 0 & 0 & 0 & 0 & 0 & 0 & 0 & 0 & 0 & 0 & 0 & 0 & 0 & 0 & 0 & 0 & 0 & 0 & 0 & 0 & 0 & g^{F}_8 \\left(b^\\dagger_{F, 08} + b_{F, 08}\\right)\\\\0 & 0 & 0 & 0 & 0 & 0 & 1 & 0 & 0 & 0 & 0 & 0 & 0 & 0 & 0 & 0 & 0 & 0 & 0 & 0 & 0 & 0 & 0 & 0 & 0 & 0 & 0 & g^{F}_8 \\left(b^\\dagger_{F, 08} + b_{F, 08}\\right)\\\\0 & 0 & 0 & 0 & 0 & 0 & 0 & 0 & 0 & 0 & 0 & 0 & 0 & 0 & 0 & 0 & 0 & 0 & 0 & 0 & 0 & 0 & 0 & 0 & 0 & 1 & 0 & 0\\\\0 & 0 & 0 & 0 & 0 & 0 & 0 & 0 & 0 & 0 & 0 & 0 & 0 & 0 & 0 & 0 & 0 & 0 & 0 & 0 & 0 & 0 & 0 & 0 & 0 & 0 & 1 & 0\\\\0 & 0 & 0 & 0 & 0 & 0 & 0 & 0 & 0 & 0 & 0 & 0 & 0 & 0 & 0 & 0 & 0 & 0 & 0 & 0 & 1 & 0 & 0 & 0 & 0 & 0 & 0 & 0\\\\0 & 0 & 0 & 0 & 0 & 0 & 0 & 0 & 0 & 0 & 0 & 0 & 0 & 0 & 0 & 0 & 0 & 0 & 1 & 0 & 0 & 0 & 0 & 0 & 0 & 0 & 0 & 0\\\\0 & 0 & 0 & 0 & 1 & 0 & 0 & 0 & 0 & 0 & 0 & 0 & 0 & 0 & 0 & 0 & 0 & 0 & 0 & 0 & 0 & 0 & 0 & 0 & 0 & 0 & 0 & g^{F}_8 \\left(b^\\dagger_{F, 08} + b_{F, 08}\\right)\\\\0 & 0 & 0 & 0 & 0 & 0 & 0 & 0 & 0 & 0 & 0 & 0 & 0 & 1 & 0 & 0 & 0 & 0 & 0 & 0 & 0 & 0 & 0 & 0 & 0 & 0 & 0 & 0\\\\0 & 0 & 0 & 0 & 0 & 0 & 0 & 0 & 0 & 0 & 0 & 0 & 0 & 0 & 0 & 0 & 1 & 0 & 0 & 0 & 0 & 0 & 0 & 0 & 0 & 0 & 0 & g^{F}_8 \\left(b^\\dagger_{F, 08} + b_{F, 08}\\right)\\\\0 & 0 & 0 & 0 & 0 & 0 & 0 & 0 & 0 & 0 & 0 & 0 & 0 & 0 & 0 & 0 & 0 & 0 & 0 & 0 & 0 & 1 & 0 & 0 & 0 & 0 & 0 & g^{F}_8 \\left(b^\\dagger_{F, 08} + b_{F, 08}\\right)\\\\0 & 0 & 0 & 0 & 0 & 0 & 0 & 0 & 0 & 0 & 0 & 1 & 0 & 0 & 0 & 0 & 0 & 0 & 0 & 0 & 0 & 0 & 0 & 0 & 0 & 0 & 0 & 0\\\\0 & 0 & 0 & 0 & 0 & 0 & 0 & 1 & 0 & 0 & 0 & 0 & 0 & 0 & 0 & 0 & 0 & 0 & 0 & 0 & 0 & 0 & 0 & 0 & 0 & 0 & 0 & ω^{F}_8 b_{F, 08} b^\\dagger_{F, 08}\\\\0 & 0 & 0 & 0 & 0 & 0 & 0 & 0 & 0 & 0 & 1 & 0 & 0 & 0 & 0 & 0 & 0 & 0 & 0 & 0 & 0 & 0 & 0 & 0 & 0 & 0 & 0 & 0\\\\0 & 0 & 0 & 0 & 0 & 0 & 0 & 0 & 0 & 0 & 0 & 0 & 0 & 0 & 0 & 0 & 0 & 0 & 0 & 0 & 0 & 0 & 0 & 0 & 1 & 0 & 0 & g^{F}_8 \\left(b^\\dagger_{F, 08} + b_{F, 08}\\right)\\\\0 & 0 & 0 & 0 & 0 & 0 & 0 & 0 & 0 & 0 & 0 & 0 & 0 & 0 & 0 & 0 & 0 & 0 & 0 & 0 & 0 & 0 & 1 & 0 & 0 & 0 & 0 & g^{F}_8 \\left(b^\\dagger_{F, 08} + b_{F, 08}\\right)\\\\0 & 0 & 0 & 0 & 0 & 0 & 0 & 0 & 0 & 0 & 0 & 0 & 0 & 0 & 0 & 0 & 0 & 0 & 0 & 1 & 0 & 0 & 0 & 0 & 0 & 0 & 0 & 0\\\\0 & 0 & 0 & 0 & 0 & 0 & 0 & 0 & 0 & 1 & 0 & 0 & 0 & 0 & 0 & 0 & 0 & 0 & 0 & 0 & 0 & 0 & 0 & 0 & 0 & 0 & 0 & g^{F}_8 \\left(b^\\dagger_{F, 08} + b_{F, 08}\\right)\\\\0 & 0 & 1 & 0 & 0 & 0 & 0 & 0 & 0 & 0 & 0 & 0 & 0 & 0 & 0 & 0 & 0 & 0 & 0 & 0 & 0 & 0 & 0 & 0 & 0 & 0 & 0 & 0\\\\0 & 0 & 0 & 0 & 0 & 0 & 0 & 0 & 1 & 0 & 0 & 0 & 0 & 0 & 0 & 0 & 0 & 0 & 0 & 0 & 0 & 0 & 0 & 0 & 0 & 0 & 0 & g^{F}_8 \\left(b^\\dagger_{F, 08} + b_{F, 08}\\right)\\\\0 & 0 & 0 & 0 & 0 & 0 & 0 & 0 & 0 & 0 & 0 & 0 & 0 & 0 & 0 & 0 & 0 & 1 & 0 & 0 & 0 & 0 & 0 & 0 & 0 & 0 & 0 & g^{F}_8 \\left(b^\\dagger_{F, 08} + b_{F, 08}\\right)\\\\0 & 0 & 0 & 0 & 0 & 0 & 0 & 0 & 0 & 0 & 0 & 0 & 1 & 0 & 0 & 0 & 0 & 0 & 0 & 0 & 0 & 0 & 0 & 0 & 0 & 0 & 0 & 0\\\\0 & 0 & 0 & 0 & 0 & 0 & 0 & 0 & 0 & 0 & 0 & 0 & 0 & 0 & 0 & 0 & 0 & 0 & 0 & 0 & 0 & 0 & 0 & 0 & 0 & 0 & 0 & 1\\end{array}\\right]$"
      ],
      "text/plain": [
       "Matrix([\n",
       "[0, 0, 0, 0, 0, 0, 0, 0, 0, 0, 0, 0, 0, 0, 0, 1, 0, 0, 0, 0, 0, 0, 0, 0, 0, 0, 0, g^{F}_8*(b^\\dagger_{F, 08} + b_{F, 08})],\n",
       "[0, 1, 0, 0, 0, 0, 0, 0, 0, 0, 0, 0, 0, 0, 0, 0, 0, 0, 0, 0, 0, 0, 0, 0, 0, 0, 0, g^{F}_8*(b^\\dagger_{F, 08} + b_{F, 08})],\n",
       "[1, 0, 0, 0, 0, 0, 0, 0, 0, 0, 0, 0, 0, 0, 0, 0, 0, 0, 0, 0, 0, 0, 0, 0, 0, 0, 0, g^{F}_8*(b^\\dagger_{F, 08} + b_{F, 08})],\n",
       "[0, 0, 0, 0, 0, 0, 0, 0, 0, 0, 0, 0, 0, 0, 1, 0, 0, 0, 0, 0, 0, 0, 0, 0, 0, 0, 0,                                       0],\n",
       "[0, 0, 0, 0, 0, 0, 0, 0, 0, 0, 0, 0, 0, 0, 0, 0, 0, 0, 0, 0, 0, 0, 0, 1, 0, 0, 0,                                       0],\n",
       "[0, 0, 0, 1, 0, 0, 0, 0, 0, 0, 0, 0, 0, 0, 0, 0, 0, 0, 0, 0, 0, 0, 0, 0, 0, 0, 0,                                       0],\n",
       "[0, 0, 0, 0, 0, 1, 0, 0, 0, 0, 0, 0, 0, 0, 0, 0, 0, 0, 0, 0, 0, 0, 0, 0, 0, 0, 0, g^{F}_8*(b^\\dagger_{F, 08} + b_{F, 08})],\n",
       "[0, 0, 0, 0, 0, 0, 1, 0, 0, 0, 0, 0, 0, 0, 0, 0, 0, 0, 0, 0, 0, 0, 0, 0, 0, 0, 0, g^{F}_8*(b^\\dagger_{F, 08} + b_{F, 08})],\n",
       "[0, 0, 0, 0, 0, 0, 0, 0, 0, 0, 0, 0, 0, 0, 0, 0, 0, 0, 0, 0, 0, 0, 0, 0, 0, 1, 0,                                       0],\n",
       "[0, 0, 0, 0, 0, 0, 0, 0, 0, 0, 0, 0, 0, 0, 0, 0, 0, 0, 0, 0, 0, 0, 0, 0, 0, 0, 1,                                       0],\n",
       "[0, 0, 0, 0, 0, 0, 0, 0, 0, 0, 0, 0, 0, 0, 0, 0, 0, 0, 0, 0, 1, 0, 0, 0, 0, 0, 0,                                       0],\n",
       "[0, 0, 0, 0, 0, 0, 0, 0, 0, 0, 0, 0, 0, 0, 0, 0, 0, 0, 1, 0, 0, 0, 0, 0, 0, 0, 0,                                       0],\n",
       "[0, 0, 0, 0, 1, 0, 0, 0, 0, 0, 0, 0, 0, 0, 0, 0, 0, 0, 0, 0, 0, 0, 0, 0, 0, 0, 0, g^{F}_8*(b^\\dagger_{F, 08} + b_{F, 08})],\n",
       "[0, 0, 0, 0, 0, 0, 0, 0, 0, 0, 0, 0, 0, 1, 0, 0, 0, 0, 0, 0, 0, 0, 0, 0, 0, 0, 0,                                       0],\n",
       "[0, 0, 0, 0, 0, 0, 0, 0, 0, 0, 0, 0, 0, 0, 0, 0, 1, 0, 0, 0, 0, 0, 0, 0, 0, 0, 0, g^{F}_8*(b^\\dagger_{F, 08} + b_{F, 08})],\n",
       "[0, 0, 0, 0, 0, 0, 0, 0, 0, 0, 0, 0, 0, 0, 0, 0, 0, 0, 0, 0, 0, 1, 0, 0, 0, 0, 0, g^{F}_8*(b^\\dagger_{F, 08} + b_{F, 08})],\n",
       "[0, 0, 0, 0, 0, 0, 0, 0, 0, 0, 0, 1, 0, 0, 0, 0, 0, 0, 0, 0, 0, 0, 0, 0, 0, 0, 0,                                       0],\n",
       "[0, 0, 0, 0, 0, 0, 0, 1, 0, 0, 0, 0, 0, 0, 0, 0, 0, 0, 0, 0, 0, 0, 0, 0, 0, 0, 0,     ω^{F}_8*b_{F, 08}*b^\\dagger_{F, 08}],\n",
       "[0, 0, 0, 0, 0, 0, 0, 0, 0, 0, 1, 0, 0, 0, 0, 0, 0, 0, 0, 0, 0, 0, 0, 0, 0, 0, 0,                                       0],\n",
       "[0, 0, 0, 0, 0, 0, 0, 0, 0, 0, 0, 0, 0, 0, 0, 0, 0, 0, 0, 0, 0, 0, 0, 0, 1, 0, 0, g^{F}_8*(b^\\dagger_{F, 08} + b_{F, 08})],\n",
       "[0, 0, 0, 0, 0, 0, 0, 0, 0, 0, 0, 0, 0, 0, 0, 0, 0, 0, 0, 0, 0, 0, 1, 0, 0, 0, 0, g^{F}_8*(b^\\dagger_{F, 08} + b_{F, 08})],\n",
       "[0, 0, 0, 0, 0, 0, 0, 0, 0, 0, 0, 0, 0, 0, 0, 0, 0, 0, 0, 1, 0, 0, 0, 0, 0, 0, 0,                                       0],\n",
       "[0, 0, 0, 0, 0, 0, 0, 0, 0, 1, 0, 0, 0, 0, 0, 0, 0, 0, 0, 0, 0, 0, 0, 0, 0, 0, 0, g^{F}_8*(b^\\dagger_{F, 08} + b_{F, 08})],\n",
       "[0, 0, 1, 0, 0, 0, 0, 0, 0, 0, 0, 0, 0, 0, 0, 0, 0, 0, 0, 0, 0, 0, 0, 0, 0, 0, 0,                                       0],\n",
       "[0, 0, 0, 0, 0, 0, 0, 0, 1, 0, 0, 0, 0, 0, 0, 0, 0, 0, 0, 0, 0, 0, 0, 0, 0, 0, 0, g^{F}_8*(b^\\dagger_{F, 08} + b_{F, 08})],\n",
       "[0, 0, 0, 0, 0, 0, 0, 0, 0, 0, 0, 0, 0, 0, 0, 0, 0, 1, 0, 0, 0, 0, 0, 0, 0, 0, 0, g^{F}_8*(b^\\dagger_{F, 08} + b_{F, 08})],\n",
       "[0, 0, 0, 0, 0, 0, 0, 0, 0, 0, 0, 0, 1, 0, 0, 0, 0, 0, 0, 0, 0, 0, 0, 0, 0, 0, 0,                                       0],\n",
       "[0, 0, 0, 0, 0, 0, 0, 0, 0, 0, 0, 0, 0, 0, 0, 0, 0, 0, 0, 0, 0, 0, 0, 0, 0, 0, 0,                                       1]])"
      ]
     },
     "metadata": {},
     "output_type": "display_data"
    },
    {
     "data": {
      "text/latex": [
       "$\\displaystyle \\left[\\begin{array}{cccccccccccccccccccccccccccc}0 & 0 & 0 & 0 & 0 & 0 & 0 & 0 & 0 & 0 & 0 & 0 & 0 & 0 & 0 & 0 & 0 & 0 & 0 & 0 & 0 & 0 & 0 & 1 & 0 & 0 & 0 & 0\\\\0 & 0 & 0 & 0 & 0 & 0 & 0 & 0 & 0 & 0 & 0 & 0 & 0 & 0 & 0 & 0 & 0 & 0 & 0 & 0 & 0 & 0 & 0 & 0 & 0 & 1 & 0 & 0\\\\0 & 0 & 0 & 0 & 0 & 0 & 1 & 0 & 0 & 0 & 0 & 0 & 0 & 0 & 0 & 0 & 0 & 0 & 0 & 0 & 0 & 0 & 0 & 0 & 0 & 0 & 0 & 0\\\\0 & 0 & 1 & 0 & 0 & 0 & 0 & 0 & 0 & 0 & 0 & 0 & 0 & 0 & 0 & 0 & 0 & 0 & 0 & 0 & 0 & 0 & 0 & 0 & 0 & 0 & 0 & 0\\\\0 & 0 & 0 & 0 & 0 & 1 & 0 & 0 & 0 & 0 & 0 & 0 & 0 & 0 & 0 & 0 & 0 & 0 & 0 & 0 & 0 & 0 & 0 & 0 & 0 & 0 & 0 & g^{OT}_{CS, 01} \\left(b^\\dagger_{OT, 01, 01} + b_{OT, 01, 01}\\right)\\\\0 & 1 & 0 & 0 & 0 & 0 & 0 & 0 & 0 & 0 & 0 & 0 & 0 & 0 & 0 & 0 & 0 & 0 & 0 & 0 & 0 & 0 & 0 & 0 & 0 & 0 & 0 & 0\\\\0 & 0 & 0 & 0 & 0 & 0 & 0 & 0 & 0 & 0 & 0 & 0 & 0 & 0 & 1 & 0 & 0 & 0 & 0 & 0 & 0 & 0 & 0 & 0 & 0 & 0 & 0 & 0\\\\0 & 0 & 0 & 0 & 0 & 0 & 0 & 0 & 0 & 0 & 0 & 0 & 0 & 0 & 0 & 0 & 1 & 0 & 0 & 0 & 0 & 0 & 0 & 0 & 0 & 0 & 0 & ω^{OT}_1 b_{OT, 01, 01} b^\\dagger_{OT, 01, 01}\\\\0 & 0 & 0 & 0 & 0 & 0 & 0 & 1 & 0 & 0 & 0 & 0 & 0 & 0 & 0 & 0 & 0 & 0 & 0 & 0 & 0 & 0 & 0 & 0 & 0 & 0 & 0 & 0\\\\0 & 0 & 0 & 0 & 0 & 0 & 0 & 0 & 0 & 1 & 0 & 0 & 0 & 0 & 0 & 0 & 0 & 0 & 0 & 0 & 0 & 0 & 0 & 0 & 0 & 0 & 0 & 0\\\\0 & 0 & 0 & 0 & 0 & 0 & 0 & 0 & 0 & 0 & 0 & 0 & 0 & 0 & 0 & 0 & 0 & 0 & 0 & 0 & 0 & 1 & 0 & 0 & 0 & 0 & 0 & 0\\\\0 & 0 & 0 & 0 & 1 & 0 & 0 & 0 & 0 & 0 & 0 & 0 & 0 & 0 & 0 & 0 & 0 & 0 & 0 & 0 & 0 & 0 & 0 & 0 & 0 & 0 & 0 & g^{OT}_{LE, 01} \\left(b^\\dagger_{OT, 01, 01} + b_{OT, 01, 01}\\right)\\\\0 & 0 & 0 & 0 & 0 & 0 & 0 & 0 & 0 & 0 & 0 & 0 & 0 & 0 & 0 & 0 & 0 & 0 & 1 & 0 & 0 & 0 & 0 & 0 & 0 & 0 & 0 & 0\\\\0 & 0 & 0 & 0 & 0 & 0 & 0 & 0 & 0 & 0 & 0 & 0 & 0 & 0 & 0 & 0 & 0 & 0 & 0 & 0 & 1 & 0 & 0 & 0 & 0 & 0 & 0 & 0\\\\0 & 0 & 0 & 0 & 0 & 0 & 0 & 0 & 0 & 0 & 0 & 0 & 0 & 0 & 0 & 0 & 0 & 0 & 0 & 1 & 0 & 0 & 0 & 0 & 0 & 0 & 0 & 0\\\\0 & 0 & 0 & 0 & 0 & 0 & 0 & 0 & 0 & 0 & 0 & 1 & 0 & 0 & 0 & 0 & 0 & 0 & 0 & 0 & 0 & 0 & 0 & 0 & 0 & 0 & 0 & 0\\\\0 & 0 & 0 & 0 & 0 & 0 & 0 & 0 & 0 & 0 & 0 & 0 & 0 & 0 & 0 & 1 & 0 & 0 & 0 & 0 & 0 & 0 & 0 & 0 & 0 & 0 & 0 & 0\\\\1 & 0 & 0 & 0 & 0 & 0 & 0 & 0 & 0 & 0 & 0 & 0 & 0 & 0 & 0 & 0 & 0 & 0 & 0 & 0 & 0 & 0 & 0 & 0 & 0 & 0 & 0 & 0\\\\0 & 0 & 0 & 0 & 0 & 0 & 0 & 0 & 0 & 0 & 0 & 0 & 0 & 0 & 0 & 0 & 0 & 0 & 0 & 0 & 0 & 0 & 0 & 0 & 0 & 0 & 1 & 0\\\\0 & 0 & 0 & 0 & 0 & 0 & 0 & 0 & 0 & 0 & 0 & 0 & 0 & 0 & 0 & 0 & 0 & 0 & 0 & 0 & 0 & 0 & 1 & 0 & 0 & 0 & 0 & 0\\\\0 & 0 & 0 & 0 & 0 & 0 & 0 & 0 & 0 & 0 & 1 & 0 & 0 & 0 & 0 & 0 & 0 & 0 & 0 & 0 & 0 & 0 & 0 & 0 & 0 & 0 & 0 & 0\\\\0 & 0 & 0 & 0 & 0 & 0 & 0 & 0 & 0 & 0 & 0 & 0 & 0 & 1 & 0 & 0 & 0 & 0 & 0 & 0 & 0 & 0 & 0 & 0 & 0 & 0 & 0 & 0\\\\0 & 0 & 0 & 0 & 0 & 0 & 0 & 0 & 1 & 0 & 0 & 0 & 0 & 0 & 0 & 0 & 0 & 0 & 0 & 0 & 0 & 0 & 0 & 0 & 0 & 0 & 0 & 0\\\\0 & 0 & 0 & 0 & 0 & 0 & 0 & 0 & 0 & 0 & 0 & 0 & 0 & 0 & 0 & 0 & 0 & 1 & 0 & 0 & 0 & 0 & 0 & 0 & 0 & 0 & 0 & 0\\\\0 & 0 & 0 & 0 & 0 & 0 & 0 & 0 & 0 & 0 & 0 & 0 & 1 & 0 & 0 & 0 & 0 & 0 & 0 & 0 & 0 & 0 & 0 & 0 & 0 & 0 & 0 & 0\\\\0 & 0 & 0 & 0 & 0 & 0 & 0 & 0 & 0 & 0 & 0 & 0 & 0 & 0 & 0 & 0 & 0 & 0 & 0 & 0 & 0 & 0 & 0 & 0 & 1 & 0 & 0 & 0\\\\0 & 0 & 0 & 1 & 0 & 0 & 0 & 0 & 0 & 0 & 0 & 0 & 0 & 0 & 0 & 0 & 0 & 0 & 0 & 0 & 0 & 0 & 0 & 0 & 0 & 0 & 0 & 0\\\\0 & 0 & 0 & 0 & 0 & 0 & 0 & 0 & 0 & 0 & 0 & 0 & 0 & 0 & 0 & 0 & 0 & 0 & 0 & 0 & 0 & 0 & 0 & 0 & 0 & 0 & 0 & 1\\end{array}\\right]$"
      ],
      "text/plain": [
       "Matrix([\n",
       "[0, 0, 0, 0, 0, 0, 0, 0, 0, 0, 0, 0, 0, 0, 0, 0, 0, 0, 0, 0, 0, 0, 0, 1, 0, 0, 0,                                                         0],\n",
       "[0, 0, 0, 0, 0, 0, 0, 0, 0, 0, 0, 0, 0, 0, 0, 0, 0, 0, 0, 0, 0, 0, 0, 0, 0, 1, 0,                                                         0],\n",
       "[0, 0, 0, 0, 0, 0, 1, 0, 0, 0, 0, 0, 0, 0, 0, 0, 0, 0, 0, 0, 0, 0, 0, 0, 0, 0, 0,                                                         0],\n",
       "[0, 0, 1, 0, 0, 0, 0, 0, 0, 0, 0, 0, 0, 0, 0, 0, 0, 0, 0, 0, 0, 0, 0, 0, 0, 0, 0,                                                         0],\n",
       "[0, 0, 0, 0, 0, 1, 0, 0, 0, 0, 0, 0, 0, 0, 0, 0, 0, 0, 0, 0, 0, 0, 0, 0, 0, 0, 0, g^{OT}_{CS, 01}*(b^\\dagger_{OT, 01, 01} + b_{OT, 01, 01})],\n",
       "[0, 1, 0, 0, 0, 0, 0, 0, 0, 0, 0, 0, 0, 0, 0, 0, 0, 0, 0, 0, 0, 0, 0, 0, 0, 0, 0,                                                         0],\n",
       "[0, 0, 0, 0, 0, 0, 0, 0, 0, 0, 0, 0, 0, 0, 1, 0, 0, 0, 0, 0, 0, 0, 0, 0, 0, 0, 0,                                                         0],\n",
       "[0, 0, 0, 0, 0, 0, 0, 0, 0, 0, 0, 0, 0, 0, 0, 0, 1, 0, 0, 0, 0, 0, 0, 0, 0, 0, 0,            ω^{OT}_1*b_{OT, 01, 01}*b^\\dagger_{OT, 01, 01}],\n",
       "[0, 0, 0, 0, 0, 0, 0, 1, 0, 0, 0, 0, 0, 0, 0, 0, 0, 0, 0, 0, 0, 0, 0, 0, 0, 0, 0,                                                         0],\n",
       "[0, 0, 0, 0, 0, 0, 0, 0, 0, 1, 0, 0, 0, 0, 0, 0, 0, 0, 0, 0, 0, 0, 0, 0, 0, 0, 0,                                                         0],\n",
       "[0, 0, 0, 0, 0, 0, 0, 0, 0, 0, 0, 0, 0, 0, 0, 0, 0, 0, 0, 0, 0, 1, 0, 0, 0, 0, 0,                                                         0],\n",
       "[0, 0, 0, 0, 1, 0, 0, 0, 0, 0, 0, 0, 0, 0, 0, 0, 0, 0, 0, 0, 0, 0, 0, 0, 0, 0, 0, g^{OT}_{LE, 01}*(b^\\dagger_{OT, 01, 01} + b_{OT, 01, 01})],\n",
       "[0, 0, 0, 0, 0, 0, 0, 0, 0, 0, 0, 0, 0, 0, 0, 0, 0, 0, 1, 0, 0, 0, 0, 0, 0, 0, 0,                                                         0],\n",
       "[0, 0, 0, 0, 0, 0, 0, 0, 0, 0, 0, 0, 0, 0, 0, 0, 0, 0, 0, 0, 1, 0, 0, 0, 0, 0, 0,                                                         0],\n",
       "[0, 0, 0, 0, 0, 0, 0, 0, 0, 0, 0, 0, 0, 0, 0, 0, 0, 0, 0, 1, 0, 0, 0, 0, 0, 0, 0,                                                         0],\n",
       "[0, 0, 0, 0, 0, 0, 0, 0, 0, 0, 0, 1, 0, 0, 0, 0, 0, 0, 0, 0, 0, 0, 0, 0, 0, 0, 0,                                                         0],\n",
       "[0, 0, 0, 0, 0, 0, 0, 0, 0, 0, 0, 0, 0, 0, 0, 1, 0, 0, 0, 0, 0, 0, 0, 0, 0, 0, 0,                                                         0],\n",
       "[1, 0, 0, 0, 0, 0, 0, 0, 0, 0, 0, 0, 0, 0, 0, 0, 0, 0, 0, 0, 0, 0, 0, 0, 0, 0, 0,                                                         0],\n",
       "[0, 0, 0, 0, 0, 0, 0, 0, 0, 0, 0, 0, 0, 0, 0, 0, 0, 0, 0, 0, 0, 0, 0, 0, 0, 0, 1,                                                         0],\n",
       "[0, 0, 0, 0, 0, 0, 0, 0, 0, 0, 0, 0, 0, 0, 0, 0, 0, 0, 0, 0, 0, 0, 1, 0, 0, 0, 0,                                                         0],\n",
       "[0, 0, 0, 0, 0, 0, 0, 0, 0, 0, 1, 0, 0, 0, 0, 0, 0, 0, 0, 0, 0, 0, 0, 0, 0, 0, 0,                                                         0],\n",
       "[0, 0, 0, 0, 0, 0, 0, 0, 0, 0, 0, 0, 0, 1, 0, 0, 0, 0, 0, 0, 0, 0, 0, 0, 0, 0, 0,                                                         0],\n",
       "[0, 0, 0, 0, 0, 0, 0, 0, 1, 0, 0, 0, 0, 0, 0, 0, 0, 0, 0, 0, 0, 0, 0, 0, 0, 0, 0,                                                         0],\n",
       "[0, 0, 0, 0, 0, 0, 0, 0, 0, 0, 0, 0, 0, 0, 0, 0, 0, 1, 0, 0, 0, 0, 0, 0, 0, 0, 0,                                                         0],\n",
       "[0, 0, 0, 0, 0, 0, 0, 0, 0, 0, 0, 0, 1, 0, 0, 0, 0, 0, 0, 0, 0, 0, 0, 0, 0, 0, 0,                                                         0],\n",
       "[0, 0, 0, 0, 0, 0, 0, 0, 0, 0, 0, 0, 0, 0, 0, 0, 0, 0, 0, 0, 0, 0, 0, 0, 1, 0, 0,                                                         0],\n",
       "[0, 0, 0, 1, 0, 0, 0, 0, 0, 0, 0, 0, 0, 0, 0, 0, 0, 0, 0, 0, 0, 0, 0, 0, 0, 0, 0,                                                         0],\n",
       "[0, 0, 0, 0, 0, 0, 0, 0, 0, 0, 0, 0, 0, 0, 0, 0, 0, 0, 0, 0, 0, 0, 0, 0, 0, 0, 0,                                                         1]])"
      ]
     },
     "metadata": {},
     "output_type": "display_data"
    },
    {
     "data": {
      "text/latex": [
       "$\\displaystyle \\left[\\begin{array}{cccccccccccccccccccccccccccc}0 & 0 & 0 & 0 & 0 & 0 & 0 & 0 & 0 & 0 & 0 & 0 & 0 & 0 & 0 & 0 & 0 & 0 & 0 & 0 & 0 & 0 & 0 & 1 & 0 & 0 & 0 & 0\\\\0 & 0 & 0 & 0 & 0 & 0 & 0 & 0 & 0 & 1 & 0 & 0 & 0 & 0 & 0 & 0 & 0 & 0 & 0 & 0 & 0 & 0 & 0 & 0 & 0 & 0 & 0 & 0\\\\0 & 0 & 0 & 0 & 0 & 0 & 0 & 0 & 0 & 0 & 0 & 0 & 0 & 1 & 0 & 0 & 0 & 0 & 0 & 0 & 0 & 0 & 0 & 0 & 0 & 0 & 0 & 0\\\\0 & 0 & 0 & 0 & 0 & 0 & 0 & 0 & 0 & 0 & 0 & 0 & 0 & 0 & 1 & 0 & 0 & 0 & 0 & 0 & 0 & 0 & 0 & 0 & 0 & 0 & 0 & 0\\\\0 & 0 & 0 & 0 & 0 & 0 & 0 & 0 & 1 & 0 & 0 & 0 & 0 & 0 & 0 & 0 & 0 & 0 & 0 & 0 & 0 & 0 & 0 & 0 & 0 & 0 & 0 & g^{OT}_{LE, 02} \\left(b^\\dagger_{OT, 01, 02} + b_{OT, 01, 02}\\right)\\\\0 & 0 & 1 & 0 & 0 & 0 & 0 & 0 & 0 & 0 & 0 & 0 & 0 & 0 & 0 & 0 & 0 & 0 & 0 & 0 & 0 & 0 & 0 & 0 & 0 & 0 & 0 & g^{OT}_{CS, 02} \\left(b^\\dagger_{OT, 01, 02} + b_{OT, 01, 02}\\right)\\\\0 & 0 & 0 & 0 & 0 & 0 & 0 & 0 & 0 & 0 & 0 & 1 & 0 & 0 & 0 & 0 & 0 & 0 & 0 & 0 & 0 & 0 & 0 & 0 & 0 & 0 & 0 & 0\\\\0 & 0 & 0 & 0 & 0 & 0 & 0 & 1 & 0 & 0 & 0 & 0 & 0 & 0 & 0 & 0 & 0 & 0 & 0 & 0 & 0 & 0 & 0 & 0 & 0 & 0 & 0 & 0\\\\1 & 0 & 0 & 0 & 0 & 0 & 0 & 0 & 0 & 0 & 0 & 0 & 0 & 0 & 0 & 0 & 0 & 0 & 0 & 0 & 0 & 0 & 0 & 0 & 0 & 0 & 0 & 0\\\\0 & 0 & 0 & 0 & 0 & 0 & 0 & 0 & 0 & 0 & 0 & 0 & 1 & 0 & 0 & 0 & 0 & 0 & 0 & 0 & 0 & 0 & 0 & 0 & 0 & 0 & 0 & 0\\\\0 & 0 & 0 & 0 & 0 & 0 & 1 & 0 & 0 & 0 & 0 & 0 & 0 & 0 & 0 & 0 & 0 & 0 & 0 & 0 & 0 & 0 & 0 & 0 & 0 & 0 & 0 & 0\\\\0 & 0 & 0 & 0 & 0 & 0 & 0 & 0 & 0 & 0 & 1 & 0 & 0 & 0 & 0 & 0 & 0 & 0 & 0 & 0 & 0 & 0 & 0 & 0 & 0 & 0 & 0 & 0\\\\0 & 0 & 0 & 0 & 0 & 0 & 0 & 0 & 0 & 0 & 0 & 0 & 0 & 0 & 0 & 0 & 0 & 0 & 0 & 0 & 1 & 0 & 0 & 0 & 0 & 0 & 0 & 0\\\\0 & 0 & 0 & 0 & 0 & 0 & 0 & 0 & 0 & 0 & 0 & 0 & 0 & 0 & 0 & 0 & 0 & 0 & 0 & 0 & 0 & 0 & 1 & 0 & 0 & 0 & 0 & 0\\\\0 & 0 & 0 & 0 & 0 & 0 & 0 & 0 & 0 & 0 & 0 & 0 & 0 & 0 & 0 & 0 & 0 & 0 & 0 & 0 & 0 & 0 & 0 & 0 & 0 & 0 & 1 & 0\\\\0 & 0 & 0 & 0 & 0 & 0 & 0 & 0 & 0 & 0 & 0 & 0 & 0 & 0 & 0 & 0 & 0 & 0 & 0 & 0 & 0 & 0 & 0 & 0 & 1 & 0 & 0 & 0\\\\0 & 0 & 0 & 0 & 0 & 0 & 0 & 0 & 0 & 0 & 0 & 0 & 0 & 0 & 0 & 0 & 0 & 0 & 0 & 0 & 0 & 1 & 0 & 0 & 0 & 0 & 0 & ω^{OT}_2 b_{OT, 01, 02} b^\\dagger_{OT, 01, 02}\\\\0 & 0 & 0 & 0 & 0 & 0 & 0 & 0 & 0 & 0 & 0 & 0 & 0 & 0 & 0 & 0 & 1 & 0 & 0 & 0 & 0 & 0 & 0 & 0 & 0 & 0 & 0 & 0\\\\0 & 0 & 0 & 0 & 0 & 0 & 0 & 0 & 0 & 0 & 0 & 0 & 0 & 0 & 0 & 0 & 0 & 0 & 1 & 0 & 0 & 0 & 0 & 0 & 0 & 0 & 0 & 0\\\\0 & 0 & 0 & 0 & 0 & 0 & 0 & 0 & 0 & 0 & 0 & 0 & 0 & 0 & 0 & 1 & 0 & 0 & 0 & 0 & 0 & 0 & 0 & 0 & 0 & 0 & 0 & 0\\\\0 & 0 & 0 & 0 & 0 & 0 & 0 & 0 & 0 & 0 & 0 & 0 & 0 & 0 & 0 & 0 & 0 & 0 & 0 & 0 & 0 & 0 & 0 & 0 & 0 & 1 & 0 & 0\\\\0 & 0 & 0 & 0 & 0 & 0 & 0 & 0 & 0 & 0 & 0 & 0 & 0 & 0 & 0 & 0 & 0 & 1 & 0 & 0 & 0 & 0 & 0 & 0 & 0 & 0 & 0 & 0\\\\0 & 0 & 0 & 0 & 1 & 0 & 0 & 0 & 0 & 0 & 0 & 0 & 0 & 0 & 0 & 0 & 0 & 0 & 0 & 0 & 0 & 0 & 0 & 0 & 0 & 0 & 0 & 0\\\\0 & 0 & 0 & 1 & 0 & 0 & 0 & 0 & 0 & 0 & 0 & 0 & 0 & 0 & 0 & 0 & 0 & 0 & 0 & 0 & 0 & 0 & 0 & 0 & 0 & 0 & 0 & 0\\\\0 & 0 & 0 & 0 & 0 & 1 & 0 & 0 & 0 & 0 & 0 & 0 & 0 & 0 & 0 & 0 & 0 & 0 & 0 & 0 & 0 & 0 & 0 & 0 & 0 & 0 & 0 & 0\\\\0 & 1 & 0 & 0 & 0 & 0 & 0 & 0 & 0 & 0 & 0 & 0 & 0 & 0 & 0 & 0 & 0 & 0 & 0 & 0 & 0 & 0 & 0 & 0 & 0 & 0 & 0 & 0\\\\0 & 0 & 0 & 0 & 0 & 0 & 0 & 0 & 0 & 0 & 0 & 0 & 0 & 0 & 0 & 0 & 0 & 0 & 0 & 1 & 0 & 0 & 0 & 0 & 0 & 0 & 0 & 0\\\\0 & 0 & 0 & 0 & 0 & 0 & 0 & 0 & 0 & 0 & 0 & 0 & 0 & 0 & 0 & 0 & 0 & 0 & 0 & 0 & 0 & 0 & 0 & 0 & 0 & 0 & 0 & 1\\end{array}\\right]$"
      ],
      "text/plain": [
       "Matrix([\n",
       "[0, 0, 0, 0, 0, 0, 0, 0, 0, 0, 0, 0, 0, 0, 0, 0, 0, 0, 0, 0, 0, 0, 0, 1, 0, 0, 0,                                                         0],\n",
       "[0, 0, 0, 0, 0, 0, 0, 0, 0, 1, 0, 0, 0, 0, 0, 0, 0, 0, 0, 0, 0, 0, 0, 0, 0, 0, 0,                                                         0],\n",
       "[0, 0, 0, 0, 0, 0, 0, 0, 0, 0, 0, 0, 0, 1, 0, 0, 0, 0, 0, 0, 0, 0, 0, 0, 0, 0, 0,                                                         0],\n",
       "[0, 0, 0, 0, 0, 0, 0, 0, 0, 0, 0, 0, 0, 0, 1, 0, 0, 0, 0, 0, 0, 0, 0, 0, 0, 0, 0,                                                         0],\n",
       "[0, 0, 0, 0, 0, 0, 0, 0, 1, 0, 0, 0, 0, 0, 0, 0, 0, 0, 0, 0, 0, 0, 0, 0, 0, 0, 0, g^{OT}_{LE, 02}*(b^\\dagger_{OT, 01, 02} + b_{OT, 01, 02})],\n",
       "[0, 0, 1, 0, 0, 0, 0, 0, 0, 0, 0, 0, 0, 0, 0, 0, 0, 0, 0, 0, 0, 0, 0, 0, 0, 0, 0, g^{OT}_{CS, 02}*(b^\\dagger_{OT, 01, 02} + b_{OT, 01, 02})],\n",
       "[0, 0, 0, 0, 0, 0, 0, 0, 0, 0, 0, 1, 0, 0, 0, 0, 0, 0, 0, 0, 0, 0, 0, 0, 0, 0, 0,                                                         0],\n",
       "[0, 0, 0, 0, 0, 0, 0, 1, 0, 0, 0, 0, 0, 0, 0, 0, 0, 0, 0, 0, 0, 0, 0, 0, 0, 0, 0,                                                         0],\n",
       "[1, 0, 0, 0, 0, 0, 0, 0, 0, 0, 0, 0, 0, 0, 0, 0, 0, 0, 0, 0, 0, 0, 0, 0, 0, 0, 0,                                                         0],\n",
       "[0, 0, 0, 0, 0, 0, 0, 0, 0, 0, 0, 0, 1, 0, 0, 0, 0, 0, 0, 0, 0, 0, 0, 0, 0, 0, 0,                                                         0],\n",
       "[0, 0, 0, 0, 0, 0, 1, 0, 0, 0, 0, 0, 0, 0, 0, 0, 0, 0, 0, 0, 0, 0, 0, 0, 0, 0, 0,                                                         0],\n",
       "[0, 0, 0, 0, 0, 0, 0, 0, 0, 0, 1, 0, 0, 0, 0, 0, 0, 0, 0, 0, 0, 0, 0, 0, 0, 0, 0,                                                         0],\n",
       "[0, 0, 0, 0, 0, 0, 0, 0, 0, 0, 0, 0, 0, 0, 0, 0, 0, 0, 0, 0, 1, 0, 0, 0, 0, 0, 0,                                                         0],\n",
       "[0, 0, 0, 0, 0, 0, 0, 0, 0, 0, 0, 0, 0, 0, 0, 0, 0, 0, 0, 0, 0, 0, 1, 0, 0, 0, 0,                                                         0],\n",
       "[0, 0, 0, 0, 0, 0, 0, 0, 0, 0, 0, 0, 0, 0, 0, 0, 0, 0, 0, 0, 0, 0, 0, 0, 0, 0, 1,                                                         0],\n",
       "[0, 0, 0, 0, 0, 0, 0, 0, 0, 0, 0, 0, 0, 0, 0, 0, 0, 0, 0, 0, 0, 0, 0, 0, 1, 0, 0,                                                         0],\n",
       "[0, 0, 0, 0, 0, 0, 0, 0, 0, 0, 0, 0, 0, 0, 0, 0, 0, 0, 0, 0, 0, 1, 0, 0, 0, 0, 0,            ω^{OT}_2*b_{OT, 01, 02}*b^\\dagger_{OT, 01, 02}],\n",
       "[0, 0, 0, 0, 0, 0, 0, 0, 0, 0, 0, 0, 0, 0, 0, 0, 1, 0, 0, 0, 0, 0, 0, 0, 0, 0, 0,                                                         0],\n",
       "[0, 0, 0, 0, 0, 0, 0, 0, 0, 0, 0, 0, 0, 0, 0, 0, 0, 0, 1, 0, 0, 0, 0, 0, 0, 0, 0,                                                         0],\n",
       "[0, 0, 0, 0, 0, 0, 0, 0, 0, 0, 0, 0, 0, 0, 0, 1, 0, 0, 0, 0, 0, 0, 0, 0, 0, 0, 0,                                                         0],\n",
       "[0, 0, 0, 0, 0, 0, 0, 0, 0, 0, 0, 0, 0, 0, 0, 0, 0, 0, 0, 0, 0, 0, 0, 0, 0, 1, 0,                                                         0],\n",
       "[0, 0, 0, 0, 0, 0, 0, 0, 0, 0, 0, 0, 0, 0, 0, 0, 0, 1, 0, 0, 0, 0, 0, 0, 0, 0, 0,                                                         0],\n",
       "[0, 0, 0, 0, 1, 0, 0, 0, 0, 0, 0, 0, 0, 0, 0, 0, 0, 0, 0, 0, 0, 0, 0, 0, 0, 0, 0,                                                         0],\n",
       "[0, 0, 0, 1, 0, 0, 0, 0, 0, 0, 0, 0, 0, 0, 0, 0, 0, 0, 0, 0, 0, 0, 0, 0, 0, 0, 0,                                                         0],\n",
       "[0, 0, 0, 0, 0, 1, 0, 0, 0, 0, 0, 0, 0, 0, 0, 0, 0, 0, 0, 0, 0, 0, 0, 0, 0, 0, 0,                                                         0],\n",
       "[0, 1, 0, 0, 0, 0, 0, 0, 0, 0, 0, 0, 0, 0, 0, 0, 0, 0, 0, 0, 0, 0, 0, 0, 0, 0, 0,                                                         0],\n",
       "[0, 0, 0, 0, 0, 0, 0, 0, 0, 0, 0, 0, 0, 0, 0, 0, 0, 0, 0, 1, 0, 0, 0, 0, 0, 0, 0,                                                         0],\n",
       "[0, 0, 0, 0, 0, 0, 0, 0, 0, 0, 0, 0, 0, 0, 0, 0, 0, 0, 0, 0, 0, 0, 0, 0, 0, 0, 0,                                                         1]])"
      ]
     },
     "metadata": {},
     "output_type": "display_data"
    },
    {
     "data": {
      "text/latex": [
       "$\\displaystyle \\left[\\begin{array}{cccccccccccccccccccccccccccc}0 & 0 & 0 & 0 & 1 & 0 & 0 & 0 & 0 & 0 & 0 & 0 & 0 & 0 & 0 & 0 & 0 & 0 & 0 & 0 & 0 & 0 & 0 & 0 & 0 & 0 & 0 & 0\\\\0 & 0 & 0 & 0 & 0 & 0 & 0 & 0 & 0 & 0 & 0 & 0 & 0 & 0 & 0 & 0 & 0 & 0 & 0 & 0 & 0 & 0 & 0 & 0 & 1 & 0 & 0 & 0\\\\0 & 0 & 0 & 0 & 0 & 0 & 0 & 0 & 0 & 0 & 0 & 0 & 0 & 0 & 0 & 0 & 0 & 0 & 0 & 0 & 1 & 0 & 0 & 0 & 0 & 0 & 0 & g^{OT}_{CS, 03} \\left(b^\\dagger_{OT, 01, 03} + b_{OT, 01, 03}\\right)\\\\0 & 0 & 0 & 0 & 0 & 0 & 0 & 0 & 0 & 0 & 0 & 0 & 0 & 0 & 0 & 0 & 0 & 1 & 0 & 0 & 0 & 0 & 0 & 0 & 0 & 0 & 0 & 0\\\\0 & 0 & 0 & 0 & 0 & 0 & 0 & 0 & 0 & 0 & 0 & 0 & 0 & 0 & 0 & 0 & 0 & 0 & 0 & 0 & 0 & 0 & 0 & 0 & 0 & 1 & 0 & 0\\\\0 & 0 & 0 & 0 & 0 & 1 & 0 & 0 & 0 & 0 & 0 & 0 & 0 & 0 & 0 & 0 & 0 & 0 & 0 & 0 & 0 & 0 & 0 & 0 & 0 & 0 & 0 & 0\\\\0 & 0 & 0 & 0 & 0 & 0 & 0 & 0 & 1 & 0 & 0 & 0 & 0 & 0 & 0 & 0 & 0 & 0 & 0 & 0 & 0 & 0 & 0 & 0 & 0 & 0 & 0 & 0\\\\1 & 0 & 0 & 0 & 0 & 0 & 0 & 0 & 0 & 0 & 0 & 0 & 0 & 0 & 0 & 0 & 0 & 0 & 0 & 0 & 0 & 0 & 0 & 0 & 0 & 0 & 0 & 0\\\\0 & 0 & 0 & 0 & 0 & 0 & 0 & 0 & 0 & 0 & 0 & 0 & 0 & 1 & 0 & 0 & 0 & 0 & 0 & 0 & 0 & 0 & 0 & 0 & 0 & 0 & 0 & g^{OT}_{LE, 03} \\left(b^\\dagger_{OT, 01, 03} + b_{OT, 01, 03}\\right)\\\\0 & 0 & 0 & 0 & 0 & 0 & 1 & 0 & 0 & 0 & 0 & 0 & 0 & 0 & 0 & 0 & 0 & 0 & 0 & 0 & 0 & 0 & 0 & 0 & 0 & 0 & 0 & 0\\\\0 & 0 & 0 & 0 & 0 & 0 & 0 & 0 & 0 & 0 & 0 & 0 & 0 & 0 & 0 & 0 & 0 & 0 & 0 & 0 & 0 & 0 & 1 & 0 & 0 & 0 & 0 & 0\\\\0 & 0 & 0 & 0 & 0 & 0 & 0 & 0 & 0 & 0 & 0 & 1 & 0 & 0 & 0 & 0 & 0 & 0 & 0 & 0 & 0 & 0 & 0 & 0 & 0 & 0 & 0 & 0\\\\0 & 0 & 0 & 0 & 0 & 0 & 0 & 0 & 0 & 0 & 1 & 0 & 0 & 0 & 0 & 0 & 0 & 0 & 0 & 0 & 0 & 0 & 0 & 0 & 0 & 0 & 0 & 0\\\\0 & 0 & 1 & 0 & 0 & 0 & 0 & 0 & 0 & 0 & 0 & 0 & 0 & 0 & 0 & 0 & 0 & 0 & 0 & 0 & 0 & 0 & 0 & 0 & 0 & 0 & 0 & 0\\\\0 & 0 & 0 & 0 & 0 & 0 & 0 & 0 & 0 & 0 & 0 & 0 & 0 & 0 & 0 & 0 & 1 & 0 & 0 & 0 & 0 & 0 & 0 & 0 & 0 & 0 & 0 & 0\\\\0 & 0 & 0 & 0 & 0 & 0 & 0 & 0 & 0 & 0 & 0 & 0 & 0 & 0 & 0 & 0 & 0 & 0 & 0 & 1 & 0 & 0 & 0 & 0 & 0 & 0 & 0 & 0\\\\0 & 0 & 0 & 0 & 0 & 0 & 0 & 0 & 0 & 1 & 0 & 0 & 0 & 0 & 0 & 0 & 0 & 0 & 0 & 0 & 0 & 0 & 0 & 0 & 0 & 0 & 0 & 0\\\\0 & 0 & 0 & 0 & 0 & 0 & 0 & 1 & 0 & 0 & 0 & 0 & 0 & 0 & 0 & 0 & 0 & 0 & 0 & 0 & 0 & 0 & 0 & 0 & 0 & 0 & 0 & 0\\\\0 & 0 & 0 & 0 & 0 & 0 & 0 & 0 & 0 & 0 & 0 & 0 & 0 & 0 & 0 & 0 & 0 & 0 & 0 & 0 & 0 & 0 & 0 & 1 & 0 & 0 & 0 & 0\\\\0 & 0 & 0 & 0 & 0 & 0 & 0 & 0 & 0 & 0 & 0 & 0 & 0 & 0 & 0 & 0 & 0 & 0 & 0 & 0 & 0 & 0 & 0 & 0 & 0 & 0 & 1 & 0\\\\0 & 1 & 0 & 0 & 0 & 0 & 0 & 0 & 0 & 0 & 0 & 0 & 0 & 0 & 0 & 0 & 0 & 0 & 0 & 0 & 0 & 0 & 0 & 0 & 0 & 0 & 0 & 0\\\\0 & 0 & 0 & 0 & 0 & 0 & 0 & 0 & 0 & 0 & 0 & 0 & 0 & 0 & 0 & 0 & 0 & 0 & 1 & 0 & 0 & 0 & 0 & 0 & 0 & 0 & 0 & ω^{OT}_3 b_{OT, 01, 03} b^\\dagger_{OT, 01, 03}\\\\0 & 0 & 0 & 0 & 0 & 0 & 0 & 0 & 0 & 0 & 0 & 0 & 1 & 0 & 0 & 0 & 0 & 0 & 0 & 0 & 0 & 0 & 0 & 0 & 0 & 0 & 0 & 0\\\\0 & 0 & 0 & 0 & 0 & 0 & 0 & 0 & 0 & 0 & 0 & 0 & 0 & 0 & 0 & 1 & 0 & 0 & 0 & 0 & 0 & 0 & 0 & 0 & 0 & 0 & 0 & 0\\\\0 & 0 & 0 & 1 & 0 & 0 & 0 & 0 & 0 & 0 & 0 & 0 & 0 & 0 & 0 & 0 & 0 & 0 & 0 & 0 & 0 & 0 & 0 & 0 & 0 & 0 & 0 & 0\\\\0 & 0 & 0 & 0 & 0 & 0 & 0 & 0 & 0 & 0 & 0 & 0 & 0 & 0 & 1 & 0 & 0 & 0 & 0 & 0 & 0 & 0 & 0 & 0 & 0 & 0 & 0 & 0\\\\0 & 0 & 0 & 0 & 0 & 0 & 0 & 0 & 0 & 0 & 0 & 0 & 0 & 0 & 0 & 0 & 0 & 0 & 0 & 0 & 0 & 1 & 0 & 0 & 0 & 0 & 0 & 0\\\\0 & 0 & 0 & 0 & 0 & 0 & 0 & 0 & 0 & 0 & 0 & 0 & 0 & 0 & 0 & 0 & 0 & 0 & 0 & 0 & 0 & 0 & 0 & 0 & 0 & 0 & 0 & 1\\end{array}\\right]$"
      ],
      "text/plain": [
       "Matrix([\n",
       "[0, 0, 0, 0, 1, 0, 0, 0, 0, 0, 0, 0, 0, 0, 0, 0, 0, 0, 0, 0, 0, 0, 0, 0, 0, 0, 0,                                                         0],\n",
       "[0, 0, 0, 0, 0, 0, 0, 0, 0, 0, 0, 0, 0, 0, 0, 0, 0, 0, 0, 0, 0, 0, 0, 0, 1, 0, 0,                                                         0],\n",
       "[0, 0, 0, 0, 0, 0, 0, 0, 0, 0, 0, 0, 0, 0, 0, 0, 0, 0, 0, 0, 1, 0, 0, 0, 0, 0, 0, g^{OT}_{CS, 03}*(b^\\dagger_{OT, 01, 03} + b_{OT, 01, 03})],\n",
       "[0, 0, 0, 0, 0, 0, 0, 0, 0, 0, 0, 0, 0, 0, 0, 0, 0, 1, 0, 0, 0, 0, 0, 0, 0, 0, 0,                                                         0],\n",
       "[0, 0, 0, 0, 0, 0, 0, 0, 0, 0, 0, 0, 0, 0, 0, 0, 0, 0, 0, 0, 0, 0, 0, 0, 0, 1, 0,                                                         0],\n",
       "[0, 0, 0, 0, 0, 1, 0, 0, 0, 0, 0, 0, 0, 0, 0, 0, 0, 0, 0, 0, 0, 0, 0, 0, 0, 0, 0,                                                         0],\n",
       "[0, 0, 0, 0, 0, 0, 0, 0, 1, 0, 0, 0, 0, 0, 0, 0, 0, 0, 0, 0, 0, 0, 0, 0, 0, 0, 0,                                                         0],\n",
       "[1, 0, 0, 0, 0, 0, 0, 0, 0, 0, 0, 0, 0, 0, 0, 0, 0, 0, 0, 0, 0, 0, 0, 0, 0, 0, 0,                                                         0],\n",
       "[0, 0, 0, 0, 0, 0, 0, 0, 0, 0, 0, 0, 0, 1, 0, 0, 0, 0, 0, 0, 0, 0, 0, 0, 0, 0, 0, g^{OT}_{LE, 03}*(b^\\dagger_{OT, 01, 03} + b_{OT, 01, 03})],\n",
       "[0, 0, 0, 0, 0, 0, 1, 0, 0, 0, 0, 0, 0, 0, 0, 0, 0, 0, 0, 0, 0, 0, 0, 0, 0, 0, 0,                                                         0],\n",
       "[0, 0, 0, 0, 0, 0, 0, 0, 0, 0, 0, 0, 0, 0, 0, 0, 0, 0, 0, 0, 0, 0, 1, 0, 0, 0, 0,                                                         0],\n",
       "[0, 0, 0, 0, 0, 0, 0, 0, 0, 0, 0, 1, 0, 0, 0, 0, 0, 0, 0, 0, 0, 0, 0, 0, 0, 0, 0,                                                         0],\n",
       "[0, 0, 0, 0, 0, 0, 0, 0, 0, 0, 1, 0, 0, 0, 0, 0, 0, 0, 0, 0, 0, 0, 0, 0, 0, 0, 0,                                                         0],\n",
       "[0, 0, 1, 0, 0, 0, 0, 0, 0, 0, 0, 0, 0, 0, 0, 0, 0, 0, 0, 0, 0, 0, 0, 0, 0, 0, 0,                                                         0],\n",
       "[0, 0, 0, 0, 0, 0, 0, 0, 0, 0, 0, 0, 0, 0, 0, 0, 1, 0, 0, 0, 0, 0, 0, 0, 0, 0, 0,                                                         0],\n",
       "[0, 0, 0, 0, 0, 0, 0, 0, 0, 0, 0, 0, 0, 0, 0, 0, 0, 0, 0, 1, 0, 0, 0, 0, 0, 0, 0,                                                         0],\n",
       "[0, 0, 0, 0, 0, 0, 0, 0, 0, 1, 0, 0, 0, 0, 0, 0, 0, 0, 0, 0, 0, 0, 0, 0, 0, 0, 0,                                                         0],\n",
       "[0, 0, 0, 0, 0, 0, 0, 1, 0, 0, 0, 0, 0, 0, 0, 0, 0, 0, 0, 0, 0, 0, 0, 0, 0, 0, 0,                                                         0],\n",
       "[0, 0, 0, 0, 0, 0, 0, 0, 0, 0, 0, 0, 0, 0, 0, 0, 0, 0, 0, 0, 0, 0, 0, 1, 0, 0, 0,                                                         0],\n",
       "[0, 0, 0, 0, 0, 0, 0, 0, 0, 0, 0, 0, 0, 0, 0, 0, 0, 0, 0, 0, 0, 0, 0, 0, 0, 0, 1,                                                         0],\n",
       "[0, 1, 0, 0, 0, 0, 0, 0, 0, 0, 0, 0, 0, 0, 0, 0, 0, 0, 0, 0, 0, 0, 0, 0, 0, 0, 0,                                                         0],\n",
       "[0, 0, 0, 0, 0, 0, 0, 0, 0, 0, 0, 0, 0, 0, 0, 0, 0, 0, 1, 0, 0, 0, 0, 0, 0, 0, 0,            ω^{OT}_3*b_{OT, 01, 03}*b^\\dagger_{OT, 01, 03}],\n",
       "[0, 0, 0, 0, 0, 0, 0, 0, 0, 0, 0, 0, 1, 0, 0, 0, 0, 0, 0, 0, 0, 0, 0, 0, 0, 0, 0,                                                         0],\n",
       "[0, 0, 0, 0, 0, 0, 0, 0, 0, 0, 0, 0, 0, 0, 0, 1, 0, 0, 0, 0, 0, 0, 0, 0, 0, 0, 0,                                                         0],\n",
       "[0, 0, 0, 1, 0, 0, 0, 0, 0, 0, 0, 0, 0, 0, 0, 0, 0, 0, 0, 0, 0, 0, 0, 0, 0, 0, 0,                                                         0],\n",
       "[0, 0, 0, 0, 0, 0, 0, 0, 0, 0, 0, 0, 0, 0, 1, 0, 0, 0, 0, 0, 0, 0, 0, 0, 0, 0, 0,                                                         0],\n",
       "[0, 0, 0, 0, 0, 0, 0, 0, 0, 0, 0, 0, 0, 0, 0, 0, 0, 0, 0, 0, 0, 1, 0, 0, 0, 0, 0,                                                         0],\n",
       "[0, 0, 0, 0, 0, 0, 0, 0, 0, 0, 0, 0, 0, 0, 0, 0, 0, 0, 0, 0, 0, 0, 0, 0, 0, 0, 0,                                                         1]])"
      ]
     },
     "metadata": {},
     "output_type": "display_data"
    },
    {
     "data": {
      "text/latex": [
       "$\\displaystyle \\left[\\begin{array}{cccccccccccccccccccccccccccc}0 & 0 & 0 & 1 & 0 & 0 & 0 & 0 & 0 & 0 & 0 & 0 & 0 & 0 & 0 & 0 & 0 & 0 & 0 & 0 & 0 & 0 & 0 & 0 & 0 & 0 & 0 & 0\\\\0 & 0 & 1 & 0 & 0 & 0 & 0 & 0 & 0 & 0 & 0 & 0 & 0 & 0 & 0 & 0 & 0 & 0 & 0 & 0 & 0 & 0 & 0 & 0 & 0 & 0 & 0 & 0\\\\0 & 0 & 0 & 0 & 0 & 0 & 1 & 0 & 0 & 0 & 0 & 0 & 0 & 0 & 0 & 0 & 0 & 0 & 0 & 0 & 0 & 0 & 0 & 0 & 0 & 0 & 0 & 0\\\\0 & 0 & 0 & 0 & 0 & 0 & 0 & 0 & 1 & 0 & 0 & 0 & 0 & 0 & 0 & 0 & 0 & 0 & 0 & 0 & 0 & 0 & 0 & 0 & 0 & 0 & 0 & 0\\\\0 & 0 & 0 & 0 & 0 & 0 & 0 & 0 & 0 & 0 & 0 & 0 & 0 & 0 & 0 & 0 & 0 & 0 & 0 & 0 & 0 & 1 & 0 & 0 & 0 & 0 & 0 & 0\\\\0 & 0 & 0 & 0 & 0 & 0 & 0 & 0 & 0 & 0 & 0 & 0 & 0 & 0 & 0 & 0 & 0 & 0 & 0 & 0 & 0 & 0 & 1 & 0 & 0 & 0 & 0 & 0\\\\0 & 0 & 0 & 0 & 0 & 0 & 0 & 0 & 0 & 0 & 0 & 0 & 0 & 0 & 0 & 0 & 0 & 0 & 0 & 1 & 0 & 0 & 0 & 0 & 0 & 0 & 0 & 0\\\\0 & 1 & 0 & 0 & 0 & 0 & 0 & 0 & 0 & 0 & 0 & 0 & 0 & 0 & 0 & 0 & 0 & 0 & 0 & 0 & 0 & 0 & 0 & 0 & 0 & 0 & 0 & 0\\\\0 & 0 & 0 & 0 & 0 & 0 & 0 & 0 & 0 & 0 & 0 & 0 & 0 & 0 & 0 & 1 & 0 & 0 & 0 & 0 & 0 & 0 & 0 & 0 & 0 & 0 & 0 & 0\\\\0 & 0 & 0 & 0 & 0 & 0 & 0 & 0 & 0 & 1 & 0 & 0 & 0 & 0 & 0 & 0 & 0 & 0 & 0 & 0 & 0 & 0 & 0 & 0 & 0 & 0 & 0 & 0\\\\0 & 0 & 0 & 0 & 0 & 0 & 0 & 0 & 0 & 0 & 0 & 0 & 0 & 0 & 0 & 0 & 0 & 0 & 0 & 0 & 0 & 0 & 0 & 1 & 0 & 0 & 0 & 0\\\\1 & 0 & 0 & 0 & 0 & 0 & 0 & 0 & 0 & 0 & 0 & 0 & 0 & 0 & 0 & 0 & 0 & 0 & 0 & 0 & 0 & 0 & 0 & 0 & 0 & 0 & 0 & 0\\\\0 & 0 & 0 & 0 & 0 & 0 & 0 & 0 & 0 & 0 & 0 & 0 & 0 & 0 & 0 & 0 & 0 & 0 & 0 & 0 & 0 & 0 & 0 & 0 & 0 & 0 & 1 & 0\\\\0 & 0 & 0 & 0 & 0 & 0 & 0 & 0 & 0 & 0 & 0 & 0 & 0 & 0 & 0 & 0 & 0 & 1 & 0 & 0 & 0 & 0 & 0 & 0 & 0 & 0 & 0 & g^{OT}_{LE, 04} \\left(b^\\dagger_{OT, 01, 04} + b_{OT, 01, 04}\\right)\\\\0 & 0 & 0 & 0 & 0 & 1 & 0 & 0 & 0 & 0 & 0 & 0 & 0 & 0 & 0 & 0 & 0 & 0 & 0 & 0 & 0 & 0 & 0 & 0 & 0 & 0 & 0 & 0\\\\0 & 0 & 0 & 0 & 0 & 0 & 0 & 0 & 0 & 0 & 1 & 0 & 0 & 0 & 0 & 0 & 0 & 0 & 0 & 0 & 0 & 0 & 0 & 0 & 0 & 0 & 0 & 0\\\\0 & 0 & 0 & 0 & 0 & 0 & 0 & 1 & 0 & 0 & 0 & 0 & 0 & 0 & 0 & 0 & 0 & 0 & 0 & 0 & 0 & 0 & 0 & 0 & 0 & 0 & 0 & 0\\\\0 & 0 & 0 & 0 & 0 & 0 & 0 & 0 & 0 & 0 & 0 & 0 & 0 & 0 & 0 & 0 & 0 & 0 & 0 & 0 & 0 & 0 & 0 & 0 & 0 & 1 & 0 & 0\\\\0 & 0 & 0 & 0 & 0 & 0 & 0 & 0 & 0 & 0 & 0 & 0 & 0 & 0 & 0 & 0 & 1 & 0 & 0 & 0 & 0 & 0 & 0 & 0 & 0 & 0 & 0 & ω^{OT}_4 b_{OT, 01, 04} b^\\dagger_{OT, 01, 04}\\\\0 & 0 & 0 & 0 & 0 & 0 & 0 & 0 & 0 & 0 & 0 & 0 & 0 & 1 & 0 & 0 & 0 & 0 & 0 & 0 & 0 & 0 & 0 & 0 & 0 & 0 & 0 & 0\\\\0 & 0 & 0 & 0 & 0 & 0 & 0 & 0 & 0 & 0 & 0 & 0 & 0 & 0 & 0 & 0 & 0 & 0 & 0 & 0 & 0 & 0 & 0 & 0 & 1 & 0 & 0 & g^{OT}_{CS, 04} \\left(b^\\dagger_{OT, 01, 04} + b_{OT, 01, 04}\\right)\\\\0 & 0 & 0 & 0 & 0 & 0 & 0 & 0 & 0 & 0 & 0 & 0 & 0 & 0 & 1 & 0 & 0 & 0 & 0 & 0 & 0 & 0 & 0 & 0 & 0 & 0 & 0 & 0\\\\0 & 0 & 0 & 0 & 0 & 0 & 0 & 0 & 0 & 0 & 0 & 0 & 0 & 0 & 0 & 0 & 0 & 0 & 0 & 0 & 1 & 0 & 0 & 0 & 0 & 0 & 0 & 0\\\\0 & 0 & 0 & 0 & 0 & 0 & 0 & 0 & 0 & 0 & 0 & 0 & 0 & 0 & 0 & 0 & 0 & 0 & 1 & 0 & 0 & 0 & 0 & 0 & 0 & 0 & 0 & 0\\\\0 & 0 & 0 & 0 & 1 & 0 & 0 & 0 & 0 & 0 & 0 & 0 & 0 & 0 & 0 & 0 & 0 & 0 & 0 & 0 & 0 & 0 & 0 & 0 & 0 & 0 & 0 & 0\\\\0 & 0 & 0 & 0 & 0 & 0 & 0 & 0 & 0 & 0 & 0 & 0 & 1 & 0 & 0 & 0 & 0 & 0 & 0 & 0 & 0 & 0 & 0 & 0 & 0 & 0 & 0 & 0\\\\0 & 0 & 0 & 0 & 0 & 0 & 0 & 0 & 0 & 0 & 0 & 1 & 0 & 0 & 0 & 0 & 0 & 0 & 0 & 0 & 0 & 0 & 0 & 0 & 0 & 0 & 0 & 0\\\\0 & 0 & 0 & 0 & 0 & 0 & 0 & 0 & 0 & 0 & 0 & 0 & 0 & 0 & 0 & 0 & 0 & 0 & 0 & 0 & 0 & 0 & 0 & 0 & 0 & 0 & 0 & 1\\end{array}\\right]$"
      ],
      "text/plain": [
       "Matrix([\n",
       "[0, 0, 0, 1, 0, 0, 0, 0, 0, 0, 0, 0, 0, 0, 0, 0, 0, 0, 0, 0, 0, 0, 0, 0, 0, 0, 0,                                                         0],\n",
       "[0, 0, 1, 0, 0, 0, 0, 0, 0, 0, 0, 0, 0, 0, 0, 0, 0, 0, 0, 0, 0, 0, 0, 0, 0, 0, 0,                                                         0],\n",
       "[0, 0, 0, 0, 0, 0, 1, 0, 0, 0, 0, 0, 0, 0, 0, 0, 0, 0, 0, 0, 0, 0, 0, 0, 0, 0, 0,                                                         0],\n",
       "[0, 0, 0, 0, 0, 0, 0, 0, 1, 0, 0, 0, 0, 0, 0, 0, 0, 0, 0, 0, 0, 0, 0, 0, 0, 0, 0,                                                         0],\n",
       "[0, 0, 0, 0, 0, 0, 0, 0, 0, 0, 0, 0, 0, 0, 0, 0, 0, 0, 0, 0, 0, 1, 0, 0, 0, 0, 0,                                                         0],\n",
       "[0, 0, 0, 0, 0, 0, 0, 0, 0, 0, 0, 0, 0, 0, 0, 0, 0, 0, 0, 0, 0, 0, 1, 0, 0, 0, 0,                                                         0],\n",
       "[0, 0, 0, 0, 0, 0, 0, 0, 0, 0, 0, 0, 0, 0, 0, 0, 0, 0, 0, 1, 0, 0, 0, 0, 0, 0, 0,                                                         0],\n",
       "[0, 1, 0, 0, 0, 0, 0, 0, 0, 0, 0, 0, 0, 0, 0, 0, 0, 0, 0, 0, 0, 0, 0, 0, 0, 0, 0,                                                         0],\n",
       "[0, 0, 0, 0, 0, 0, 0, 0, 0, 0, 0, 0, 0, 0, 0, 1, 0, 0, 0, 0, 0, 0, 0, 0, 0, 0, 0,                                                         0],\n",
       "[0, 0, 0, 0, 0, 0, 0, 0, 0, 1, 0, 0, 0, 0, 0, 0, 0, 0, 0, 0, 0, 0, 0, 0, 0, 0, 0,                                                         0],\n",
       "[0, 0, 0, 0, 0, 0, 0, 0, 0, 0, 0, 0, 0, 0, 0, 0, 0, 0, 0, 0, 0, 0, 0, 1, 0, 0, 0,                                                         0],\n",
       "[1, 0, 0, 0, 0, 0, 0, 0, 0, 0, 0, 0, 0, 0, 0, 0, 0, 0, 0, 0, 0, 0, 0, 0, 0, 0, 0,                                                         0],\n",
       "[0, 0, 0, 0, 0, 0, 0, 0, 0, 0, 0, 0, 0, 0, 0, 0, 0, 0, 0, 0, 0, 0, 0, 0, 0, 0, 1,                                                         0],\n",
       "[0, 0, 0, 0, 0, 0, 0, 0, 0, 0, 0, 0, 0, 0, 0, 0, 0, 1, 0, 0, 0, 0, 0, 0, 0, 0, 0, g^{OT}_{LE, 04}*(b^\\dagger_{OT, 01, 04} + b_{OT, 01, 04})],\n",
       "[0, 0, 0, 0, 0, 1, 0, 0, 0, 0, 0, 0, 0, 0, 0, 0, 0, 0, 0, 0, 0, 0, 0, 0, 0, 0, 0,                                                         0],\n",
       "[0, 0, 0, 0, 0, 0, 0, 0, 0, 0, 1, 0, 0, 0, 0, 0, 0, 0, 0, 0, 0, 0, 0, 0, 0, 0, 0,                                                         0],\n",
       "[0, 0, 0, 0, 0, 0, 0, 1, 0, 0, 0, 0, 0, 0, 0, 0, 0, 0, 0, 0, 0, 0, 0, 0, 0, 0, 0,                                                         0],\n",
       "[0, 0, 0, 0, 0, 0, 0, 0, 0, 0, 0, 0, 0, 0, 0, 0, 0, 0, 0, 0, 0, 0, 0, 0, 0, 1, 0,                                                         0],\n",
       "[0, 0, 0, 0, 0, 0, 0, 0, 0, 0, 0, 0, 0, 0, 0, 0, 1, 0, 0, 0, 0, 0, 0, 0, 0, 0, 0,            ω^{OT}_4*b_{OT, 01, 04}*b^\\dagger_{OT, 01, 04}],\n",
       "[0, 0, 0, 0, 0, 0, 0, 0, 0, 0, 0, 0, 0, 1, 0, 0, 0, 0, 0, 0, 0, 0, 0, 0, 0, 0, 0,                                                         0],\n",
       "[0, 0, 0, 0, 0, 0, 0, 0, 0, 0, 0, 0, 0, 0, 0, 0, 0, 0, 0, 0, 0, 0, 0, 0, 1, 0, 0, g^{OT}_{CS, 04}*(b^\\dagger_{OT, 01, 04} + b_{OT, 01, 04})],\n",
       "[0, 0, 0, 0, 0, 0, 0, 0, 0, 0, 0, 0, 0, 0, 1, 0, 0, 0, 0, 0, 0, 0, 0, 0, 0, 0, 0,                                                         0],\n",
       "[0, 0, 0, 0, 0, 0, 0, 0, 0, 0, 0, 0, 0, 0, 0, 0, 0, 0, 0, 0, 1, 0, 0, 0, 0, 0, 0,                                                         0],\n",
       "[0, 0, 0, 0, 0, 0, 0, 0, 0, 0, 0, 0, 0, 0, 0, 0, 0, 0, 1, 0, 0, 0, 0, 0, 0, 0, 0,                                                         0],\n",
       "[0, 0, 0, 0, 1, 0, 0, 0, 0, 0, 0, 0, 0, 0, 0, 0, 0, 0, 0, 0, 0, 0, 0, 0, 0, 0, 0,                                                         0],\n",
       "[0, 0, 0, 0, 0, 0, 0, 0, 0, 0, 0, 0, 1, 0, 0, 0, 0, 0, 0, 0, 0, 0, 0, 0, 0, 0, 0,                                                         0],\n",
       "[0, 0, 0, 0, 0, 0, 0, 0, 0, 0, 0, 1, 0, 0, 0, 0, 0, 0, 0, 0, 0, 0, 0, 0, 0, 0, 0,                                                         0],\n",
       "[0, 0, 0, 0, 0, 0, 0, 0, 0, 0, 0, 0, 0, 0, 0, 0, 0, 0, 0, 0, 0, 0, 0, 0, 0, 0, 0,                                                         1]])"
      ]
     },
     "metadata": {},
     "output_type": "display_data"
    },
    {
     "data": {
      "text/latex": [
       "$\\displaystyle \\left[\\begin{array}{cccccccccccccccccccccccccccc}0 & 0 & 0 & 0 & 0 & 0 & 0 & 0 & 0 & 0 & 0 & 0 & 0 & 0 & 0 & 0 & 0 & 0 & 0 & 1 & 0 & 0 & 0 & 0 & 0 & 0 & 0 & 0\\\\0 & 0 & 0 & 0 & 0 & 0 & 0 & 0 & 0 & 0 & 0 & 0 & 0 & 0 & 0 & 0 & 0 & 0 & 0 & 0 & 0 & 0 & 0 & 0 & 1 & 0 & 0 & 0\\\\0 & 0 & 0 & 0 & 0 & 0 & 0 & 0 & 0 & 1 & 0 & 0 & 0 & 0 & 0 & 0 & 0 & 0 & 0 & 0 & 0 & 0 & 0 & 0 & 0 & 0 & 0 & 0\\\\0 & 0 & 0 & 0 & 0 & 0 & 0 & 0 & 0 & 0 & 0 & 1 & 0 & 0 & 0 & 0 & 0 & 0 & 0 & 0 & 0 & 0 & 0 & 0 & 0 & 0 & 0 & 0\\\\0 & 0 & 0 & 0 & 0 & 0 & 0 & 0 & 0 & 0 & 0 & 0 & 0 & 0 & 0 & 0 & 0 & 0 & 0 & 0 & 0 & 0 & 0 & 1 & 0 & 0 & 0 & 0\\\\0 & 0 & 1 & 0 & 0 & 0 & 0 & 0 & 0 & 0 & 0 & 0 & 0 & 0 & 0 & 0 & 0 & 0 & 0 & 0 & 0 & 0 & 0 & 0 & 0 & 0 & 0 & 0\\\\0 & 0 & 0 & 0 & 0 & 0 & 0 & 0 & 0 & 0 & 0 & 0 & 0 & 0 & 0 & 0 & 0 & 0 & 1 & 0 & 0 & 0 & 0 & 0 & 0 & 0 & 0 & 0\\\\0 & 0 & 0 & 0 & 0 & 0 & 0 & 0 & 0 & 0 & 0 & 0 & 0 & 0 & 0 & 0 & 0 & 0 & 0 & 0 & 0 & 0 & 0 & 0 & 0 & 0 & 1 & 0\\\\0 & 0 & 0 & 0 & 0 & 0 & 0 & 1 & 0 & 0 & 0 & 0 & 0 & 0 & 0 & 0 & 0 & 0 & 0 & 0 & 0 & 0 & 0 & 0 & 0 & 0 & 0 & 0\\\\0 & 0 & 0 & 0 & 0 & 0 & 0 & 0 & 1 & 0 & 0 & 0 & 0 & 0 & 0 & 0 & 0 & 0 & 0 & 0 & 0 & 0 & 0 & 0 & 0 & 0 & 0 & 0\\\\0 & 0 & 0 & 0 & 0 & 0 & 0 & 0 & 0 & 0 & 0 & 0 & 0 & 1 & 0 & 0 & 0 & 0 & 0 & 0 & 0 & 0 & 0 & 0 & 0 & 0 & 0 & 0\\\\0 & 0 & 0 & 0 & 0 & 0 & 0 & 0 & 0 & 0 & 0 & 0 & 1 & 0 & 0 & 0 & 0 & 0 & 0 & 0 & 0 & 0 & 0 & 0 & 0 & 0 & 0 & 0\\\\0 & 1 & 0 & 0 & 0 & 0 & 0 & 0 & 0 & 0 & 0 & 0 & 0 & 0 & 0 & 0 & 0 & 0 & 0 & 0 & 0 & 0 & 0 & 0 & 0 & 0 & 0 & 0\\\\0 & 0 & 0 & 1 & 0 & 0 & 0 & 0 & 0 & 0 & 0 & 0 & 0 & 0 & 0 & 0 & 0 & 0 & 0 & 0 & 0 & 0 & 0 & 0 & 0 & 0 & 0 & 0\\\\0 & 0 & 0 & 0 & 0 & 0 & 0 & 0 & 0 & 0 & 0 & 0 & 0 & 0 & 0 & 0 & 0 & 0 & 0 & 0 & 0 & 1 & 0 & 0 & 0 & 0 & 0 & 0\\\\0 & 0 & 0 & 0 & 0 & 0 & 0 & 0 & 0 & 0 & 1 & 0 & 0 & 0 & 0 & 0 & 0 & 0 & 0 & 0 & 0 & 0 & 0 & 0 & 0 & 0 & 0 & 0\\\\0 & 0 & 0 & 0 & 0 & 0 & 0 & 0 & 0 & 0 & 0 & 0 & 0 & 0 & 0 & 0 & 0 & 0 & 0 & 0 & 1 & 0 & 0 & 0 & 0 & 0 & 0 & ω^{OT}_5 b_{OT, 01, 05} b^\\dagger_{OT, 01, 05}\\\\0 & 0 & 0 & 0 & 0 & 0 & 1 & 0 & 0 & 0 & 0 & 0 & 0 & 0 & 0 & 0 & 0 & 0 & 0 & 0 & 0 & 0 & 0 & 0 & 0 & 0 & 0 & g^{OT}_{LE, 05} \\left(b^\\dagger_{OT, 01, 05} + b_{OT, 01, 05}\\right)\\\\1 & 0 & 0 & 0 & 0 & 0 & 0 & 0 & 0 & 0 & 0 & 0 & 0 & 0 & 0 & 0 & 0 & 0 & 0 & 0 & 0 & 0 & 0 & 0 & 0 & 0 & 0 & 0\\\\0 & 0 & 0 & 0 & 0 & 0 & 0 & 0 & 0 & 0 & 0 & 0 & 0 & 0 & 0 & 0 & 0 & 0 & 0 & 0 & 0 & 0 & 1 & 0 & 0 & 0 & 0 & 0\\\\0 & 0 & 0 & 0 & 0 & 0 & 0 & 0 & 0 & 0 & 0 & 0 & 0 & 0 & 0 & 1 & 0 & 0 & 0 & 0 & 0 & 0 & 0 & 0 & 0 & 0 & 0 & 0\\\\0 & 0 & 0 & 0 & 0 & 0 & 0 & 0 & 0 & 0 & 0 & 0 & 0 & 0 & 1 & 0 & 0 & 0 & 0 & 0 & 0 & 0 & 0 & 0 & 0 & 0 & 0 & 0\\\\0 & 0 & 0 & 0 & 1 & 0 & 0 & 0 & 0 & 0 & 0 & 0 & 0 & 0 & 0 & 0 & 0 & 0 & 0 & 0 & 0 & 0 & 0 & 0 & 0 & 0 & 0 & 0\\\\0 & 0 & 0 & 0 & 0 & 0 & 0 & 0 & 0 & 0 & 0 & 0 & 0 & 0 & 0 & 0 & 1 & 0 & 0 & 0 & 0 & 0 & 0 & 0 & 0 & 0 & 0 & 0\\\\0 & 0 & 0 & 0 & 0 & 0 & 0 & 0 & 0 & 0 & 0 & 0 & 0 & 0 & 0 & 0 & 0 & 0 & 0 & 0 & 0 & 0 & 0 & 0 & 0 & 1 & 0 & g^{OT}_{CS, 05} \\left(b^\\dagger_{OT, 01, 05} + b_{OT, 01, 05}\\right)\\\\0 & 0 & 0 & 0 & 0 & 0 & 0 & 0 & 0 & 0 & 0 & 0 & 0 & 0 & 0 & 0 & 0 & 1 & 0 & 0 & 0 & 0 & 0 & 0 & 0 & 0 & 0 & 0\\\\0 & 0 & 0 & 0 & 0 & 1 & 0 & 0 & 0 & 0 & 0 & 0 & 0 & 0 & 0 & 0 & 0 & 0 & 0 & 0 & 0 & 0 & 0 & 0 & 0 & 0 & 0 & 0\\\\0 & 0 & 0 & 0 & 0 & 0 & 0 & 0 & 0 & 0 & 0 & 0 & 0 & 0 & 0 & 0 & 0 & 0 & 0 & 0 & 0 & 0 & 0 & 0 & 0 & 0 & 0 & 1\\end{array}\\right]$"
      ],
      "text/plain": [
       "Matrix([\n",
       "[0, 0, 0, 0, 0, 0, 0, 0, 0, 0, 0, 0, 0, 0, 0, 0, 0, 0, 0, 1, 0, 0, 0, 0, 0, 0, 0,                                                         0],\n",
       "[0, 0, 0, 0, 0, 0, 0, 0, 0, 0, 0, 0, 0, 0, 0, 0, 0, 0, 0, 0, 0, 0, 0, 0, 1, 0, 0,                                                         0],\n",
       "[0, 0, 0, 0, 0, 0, 0, 0, 0, 1, 0, 0, 0, 0, 0, 0, 0, 0, 0, 0, 0, 0, 0, 0, 0, 0, 0,                                                         0],\n",
       "[0, 0, 0, 0, 0, 0, 0, 0, 0, 0, 0, 1, 0, 0, 0, 0, 0, 0, 0, 0, 0, 0, 0, 0, 0, 0, 0,                                                         0],\n",
       "[0, 0, 0, 0, 0, 0, 0, 0, 0, 0, 0, 0, 0, 0, 0, 0, 0, 0, 0, 0, 0, 0, 0, 1, 0, 0, 0,                                                         0],\n",
       "[0, 0, 1, 0, 0, 0, 0, 0, 0, 0, 0, 0, 0, 0, 0, 0, 0, 0, 0, 0, 0, 0, 0, 0, 0, 0, 0,                                                         0],\n",
       "[0, 0, 0, 0, 0, 0, 0, 0, 0, 0, 0, 0, 0, 0, 0, 0, 0, 0, 1, 0, 0, 0, 0, 0, 0, 0, 0,                                                         0],\n",
       "[0, 0, 0, 0, 0, 0, 0, 0, 0, 0, 0, 0, 0, 0, 0, 0, 0, 0, 0, 0, 0, 0, 0, 0, 0, 0, 1,                                                         0],\n",
       "[0, 0, 0, 0, 0, 0, 0, 1, 0, 0, 0, 0, 0, 0, 0, 0, 0, 0, 0, 0, 0, 0, 0, 0, 0, 0, 0,                                                         0],\n",
       "[0, 0, 0, 0, 0, 0, 0, 0, 1, 0, 0, 0, 0, 0, 0, 0, 0, 0, 0, 0, 0, 0, 0, 0, 0, 0, 0,                                                         0],\n",
       "[0, 0, 0, 0, 0, 0, 0, 0, 0, 0, 0, 0, 0, 1, 0, 0, 0, 0, 0, 0, 0, 0, 0, 0, 0, 0, 0,                                                         0],\n",
       "[0, 0, 0, 0, 0, 0, 0, 0, 0, 0, 0, 0, 1, 0, 0, 0, 0, 0, 0, 0, 0, 0, 0, 0, 0, 0, 0,                                                         0],\n",
       "[0, 1, 0, 0, 0, 0, 0, 0, 0, 0, 0, 0, 0, 0, 0, 0, 0, 0, 0, 0, 0, 0, 0, 0, 0, 0, 0,                                                         0],\n",
       "[0, 0, 0, 1, 0, 0, 0, 0, 0, 0, 0, 0, 0, 0, 0, 0, 0, 0, 0, 0, 0, 0, 0, 0, 0, 0, 0,                                                         0],\n",
       "[0, 0, 0, 0, 0, 0, 0, 0, 0, 0, 0, 0, 0, 0, 0, 0, 0, 0, 0, 0, 0, 1, 0, 0, 0, 0, 0,                                                         0],\n",
       "[0, 0, 0, 0, 0, 0, 0, 0, 0, 0, 1, 0, 0, 0, 0, 0, 0, 0, 0, 0, 0, 0, 0, 0, 0, 0, 0,                                                         0],\n",
       "[0, 0, 0, 0, 0, 0, 0, 0, 0, 0, 0, 0, 0, 0, 0, 0, 0, 0, 0, 0, 1, 0, 0, 0, 0, 0, 0,            ω^{OT}_5*b_{OT, 01, 05}*b^\\dagger_{OT, 01, 05}],\n",
       "[0, 0, 0, 0, 0, 0, 1, 0, 0, 0, 0, 0, 0, 0, 0, 0, 0, 0, 0, 0, 0, 0, 0, 0, 0, 0, 0, g^{OT}_{LE, 05}*(b^\\dagger_{OT, 01, 05} + b_{OT, 01, 05})],\n",
       "[1, 0, 0, 0, 0, 0, 0, 0, 0, 0, 0, 0, 0, 0, 0, 0, 0, 0, 0, 0, 0, 0, 0, 0, 0, 0, 0,                                                         0],\n",
       "[0, 0, 0, 0, 0, 0, 0, 0, 0, 0, 0, 0, 0, 0, 0, 0, 0, 0, 0, 0, 0, 0, 1, 0, 0, 0, 0,                                                         0],\n",
       "[0, 0, 0, 0, 0, 0, 0, 0, 0, 0, 0, 0, 0, 0, 0, 1, 0, 0, 0, 0, 0, 0, 0, 0, 0, 0, 0,                                                         0],\n",
       "[0, 0, 0, 0, 0, 0, 0, 0, 0, 0, 0, 0, 0, 0, 1, 0, 0, 0, 0, 0, 0, 0, 0, 0, 0, 0, 0,                                                         0],\n",
       "[0, 0, 0, 0, 1, 0, 0, 0, 0, 0, 0, 0, 0, 0, 0, 0, 0, 0, 0, 0, 0, 0, 0, 0, 0, 0, 0,                                                         0],\n",
       "[0, 0, 0, 0, 0, 0, 0, 0, 0, 0, 0, 0, 0, 0, 0, 0, 1, 0, 0, 0, 0, 0, 0, 0, 0, 0, 0,                                                         0],\n",
       "[0, 0, 0, 0, 0, 0, 0, 0, 0, 0, 0, 0, 0, 0, 0, 0, 0, 0, 0, 0, 0, 0, 0, 0, 0, 1, 0, g^{OT}_{CS, 05}*(b^\\dagger_{OT, 01, 05} + b_{OT, 01, 05})],\n",
       "[0, 0, 0, 0, 0, 0, 0, 0, 0, 0, 0, 0, 0, 0, 0, 0, 0, 1, 0, 0, 0, 0, 0, 0, 0, 0, 0,                                                         0],\n",
       "[0, 0, 0, 0, 0, 1, 0, 0, 0, 0, 0, 0, 0, 0, 0, 0, 0, 0, 0, 0, 0, 0, 0, 0, 0, 0, 0,                                                         0],\n",
       "[0, 0, 0, 0, 0, 0, 0, 0, 0, 0, 0, 0, 0, 0, 0, 0, 0, 0, 0, 0, 0, 0, 0, 0, 0, 0, 0,                                                         1]])"
      ]
     },
     "metadata": {},
     "output_type": "display_data"
    },
    {
     "data": {
      "text/latex": [
       "$\\displaystyle \\left[\\begin{array}{cccccccccccccccccccccccccccc}0 & 0 & 0 & 0 & 0 & 0 & 0 & 0 & 0 & 0 & 0 & 0 & 0 & 0 & 0 & 0 & 0 & 0 & 1 & 0 & 0 & 0 & 0 & 0 & 0 & 0 & 0 & 0\\\\0 & 0 & 0 & 0 & 0 & 1 & 0 & 0 & 0 & 0 & 0 & 0 & 0 & 0 & 0 & 0 & 0 & 0 & 0 & 0 & 0 & 0 & 0 & 0 & 0 & 0 & 0 & 0\\\\0 & 0 & 0 & 0 & 0 & 0 & 0 & 0 & 0 & 0 & 0 & 0 & 0 & 0 & 0 & 0 & 0 & 0 & 0 & 0 & 0 & 0 & 0 & 0 & 0 & 0 & 1 & 0\\\\0 & 0 & 0 & 0 & 0 & 0 & 0 & 0 & 0 & 0 & 0 & 0 & 0 & 0 & 0 & 0 & 1 & 0 & 0 & 0 & 0 & 0 & 0 & 0 & 0 & 0 & 0 & 0\\\\0 & 0 & 0 & 0 & 0 & 0 & 0 & 0 & 0 & 0 & 0 & 0 & 0 & 0 & 1 & 0 & 0 & 0 & 0 & 0 & 0 & 0 & 0 & 0 & 0 & 0 & 0 & 0\\\\0 & 0 & 0 & 0 & 0 & 0 & 0 & 0 & 0 & 0 & 0 & 0 & 0 & 0 & 0 & 0 & 0 & 0 & 0 & 0 & 0 & 0 & 0 & 0 & 1 & 0 & 0 & 0\\\\0 & 0 & 0 & 0 & 0 & 0 & 0 & 0 & 0 & 0 & 0 & 0 & 0 & 0 & 0 & 0 & 0 & 0 & 0 & 0 & 0 & 0 & 0 & 1 & 0 & 0 & 0 & g^{OT}_{LE, 06} \\left(b^\\dagger_{OT, 01, 06} + b_{OT, 01, 06}\\right)\\\\0 & 0 & 0 & 0 & 0 & 0 & 0 & 1 & 0 & 0 & 0 & 0 & 0 & 0 & 0 & 0 & 0 & 0 & 0 & 0 & 0 & 0 & 0 & 0 & 0 & 0 & 0 & 0\\\\0 & 0 & 0 & 0 & 0 & 0 & 0 & 0 & 0 & 0 & 0 & 0 & 0 & 0 & 0 & 1 & 0 & 0 & 0 & 0 & 0 & 0 & 0 & 0 & 0 & 0 & 0 & 0\\\\0 & 0 & 0 & 0 & 0 & 0 & 0 & 0 & 0 & 0 & 1 & 0 & 0 & 0 & 0 & 0 & 0 & 0 & 0 & 0 & 0 & 0 & 0 & 0 & 0 & 0 & 0 & 0\\\\1 & 0 & 0 & 0 & 0 & 0 & 0 & 0 & 0 & 0 & 0 & 0 & 0 & 0 & 0 & 0 & 0 & 0 & 0 & 0 & 0 & 0 & 0 & 0 & 0 & 0 & 0 & 0\\\\0 & 0 & 0 & 0 & 0 & 0 & 0 & 0 & 0 & 0 & 0 & 0 & 0 & 0 & 0 & 0 & 0 & 0 & 0 & 0 & 0 & 0 & 0 & 0 & 0 & 1 & 0 & 0\\\\0 & 0 & 0 & 0 & 0 & 0 & 0 & 0 & 0 & 0 & 0 & 1 & 0 & 0 & 0 & 0 & 0 & 0 & 0 & 0 & 0 & 0 & 0 & 0 & 0 & 0 & 0 & 0\\\\0 & 0 & 0 & 0 & 0 & 0 & 0 & 0 & 0 & 0 & 0 & 0 & 0 & 0 & 0 & 0 & 0 & 0 & 0 & 1 & 0 & 0 & 0 & 0 & 0 & 0 & 0 & 0\\\\0 & 0 & 0 & 0 & 0 & 0 & 0 & 0 & 0 & 0 & 0 & 0 & 1 & 0 & 0 & 0 & 0 & 0 & 0 & 0 & 0 & 0 & 0 & 0 & 0 & 0 & 0 & 0\\\\0 & 0 & 1 & 0 & 0 & 0 & 0 & 0 & 0 & 0 & 0 & 0 & 0 & 0 & 0 & 0 & 0 & 0 & 0 & 0 & 0 & 0 & 0 & 0 & 0 & 0 & 0 & 0\\\\0 & 1 & 0 & 0 & 0 & 0 & 0 & 0 & 0 & 0 & 0 & 0 & 0 & 0 & 0 & 0 & 0 & 0 & 0 & 0 & 0 & 0 & 0 & 0 & 0 & 0 & 0 & 0\\\\0 & 0 & 0 & 0 & 0 & 0 & 0 & 0 & 0 & 0 & 0 & 0 & 0 & 0 & 0 & 0 & 0 & 0 & 0 & 0 & 1 & 0 & 0 & 0 & 0 & 0 & 0 & 0\\\\0 & 0 & 0 & 0 & 0 & 0 & 0 & 0 & 1 & 0 & 0 & 0 & 0 & 0 & 0 & 0 & 0 & 0 & 0 & 0 & 0 & 0 & 0 & 0 & 0 & 0 & 0 & 0\\\\0 & 0 & 0 & 0 & 0 & 0 & 0 & 0 & 0 & 0 & 0 & 0 & 0 & 1 & 0 & 0 & 0 & 0 & 0 & 0 & 0 & 0 & 0 & 0 & 0 & 0 & 0 & 0\\\\0 & 0 & 0 & 0 & 0 & 0 & 0 & 0 & 0 & 1 & 0 & 0 & 0 & 0 & 0 & 0 & 0 & 0 & 0 & 0 & 0 & 0 & 0 & 0 & 0 & 0 & 0 & ω^{OT}_6 b_{OT, 01, 06} b^\\dagger_{OT, 01, 06}\\\\0 & 0 & 0 & 0 & 0 & 0 & 0 & 0 & 0 & 0 & 0 & 0 & 0 & 0 & 0 & 0 & 0 & 1 & 0 & 0 & 0 & 0 & 0 & 0 & 0 & 0 & 0 & 0\\\\0 & 0 & 0 & 1 & 0 & 0 & 0 & 0 & 0 & 0 & 0 & 0 & 0 & 0 & 0 & 0 & 0 & 0 & 0 & 0 & 0 & 0 & 0 & 0 & 0 & 0 & 0 & 0\\\\0 & 0 & 0 & 0 & 0 & 0 & 0 & 0 & 0 & 0 & 0 & 0 & 0 & 0 & 0 & 0 & 0 & 0 & 0 & 0 & 0 & 0 & 1 & 0 & 0 & 0 & 0 & 0\\\\0 & 0 & 0 & 0 & 0 & 0 & 1 & 0 & 0 & 0 & 0 & 0 & 0 & 0 & 0 & 0 & 0 & 0 & 0 & 0 & 0 & 0 & 0 & 0 & 0 & 0 & 0 & 0\\\\0 & 0 & 0 & 0 & 0 & 0 & 0 & 0 & 0 & 0 & 0 & 0 & 0 & 0 & 0 & 0 & 0 & 0 & 0 & 0 & 0 & 1 & 0 & 0 & 0 & 0 & 0 & g^{OT}_{CS, 06} \\left(b^\\dagger_{OT, 01, 06} + b_{OT, 01, 06}\\right)\\\\0 & 0 & 0 & 0 & 1 & 0 & 0 & 0 & 0 & 0 & 0 & 0 & 0 & 0 & 0 & 0 & 0 & 0 & 0 & 0 & 0 & 0 & 0 & 0 & 0 & 0 & 0 & 0\\\\0 & 0 & 0 & 0 & 0 & 0 & 0 & 0 & 0 & 0 & 0 & 0 & 0 & 0 & 0 & 0 & 0 & 0 & 0 & 0 & 0 & 0 & 0 & 0 & 0 & 0 & 0 & 1\\end{array}\\right]$"
      ],
      "text/plain": [
       "Matrix([\n",
       "[0, 0, 0, 0, 0, 0, 0, 0, 0, 0, 0, 0, 0, 0, 0, 0, 0, 0, 1, 0, 0, 0, 0, 0, 0, 0, 0,                                                         0],\n",
       "[0, 0, 0, 0, 0, 1, 0, 0, 0, 0, 0, 0, 0, 0, 0, 0, 0, 0, 0, 0, 0, 0, 0, 0, 0, 0, 0,                                                         0],\n",
       "[0, 0, 0, 0, 0, 0, 0, 0, 0, 0, 0, 0, 0, 0, 0, 0, 0, 0, 0, 0, 0, 0, 0, 0, 0, 0, 1,                                                         0],\n",
       "[0, 0, 0, 0, 0, 0, 0, 0, 0, 0, 0, 0, 0, 0, 0, 0, 1, 0, 0, 0, 0, 0, 0, 0, 0, 0, 0,                                                         0],\n",
       "[0, 0, 0, 0, 0, 0, 0, 0, 0, 0, 0, 0, 0, 0, 1, 0, 0, 0, 0, 0, 0, 0, 0, 0, 0, 0, 0,                                                         0],\n",
       "[0, 0, 0, 0, 0, 0, 0, 0, 0, 0, 0, 0, 0, 0, 0, 0, 0, 0, 0, 0, 0, 0, 0, 0, 1, 0, 0,                                                         0],\n",
       "[0, 0, 0, 0, 0, 0, 0, 0, 0, 0, 0, 0, 0, 0, 0, 0, 0, 0, 0, 0, 0, 0, 0, 1, 0, 0, 0, g^{OT}_{LE, 06}*(b^\\dagger_{OT, 01, 06} + b_{OT, 01, 06})],\n",
       "[0, 0, 0, 0, 0, 0, 0, 1, 0, 0, 0, 0, 0, 0, 0, 0, 0, 0, 0, 0, 0, 0, 0, 0, 0, 0, 0,                                                         0],\n",
       "[0, 0, 0, 0, 0, 0, 0, 0, 0, 0, 0, 0, 0, 0, 0, 1, 0, 0, 0, 0, 0, 0, 0, 0, 0, 0, 0,                                                         0],\n",
       "[0, 0, 0, 0, 0, 0, 0, 0, 0, 0, 1, 0, 0, 0, 0, 0, 0, 0, 0, 0, 0, 0, 0, 0, 0, 0, 0,                                                         0],\n",
       "[1, 0, 0, 0, 0, 0, 0, 0, 0, 0, 0, 0, 0, 0, 0, 0, 0, 0, 0, 0, 0, 0, 0, 0, 0, 0, 0,                                                         0],\n",
       "[0, 0, 0, 0, 0, 0, 0, 0, 0, 0, 0, 0, 0, 0, 0, 0, 0, 0, 0, 0, 0, 0, 0, 0, 0, 1, 0,                                                         0],\n",
       "[0, 0, 0, 0, 0, 0, 0, 0, 0, 0, 0, 1, 0, 0, 0, 0, 0, 0, 0, 0, 0, 0, 0, 0, 0, 0, 0,                                                         0],\n",
       "[0, 0, 0, 0, 0, 0, 0, 0, 0, 0, 0, 0, 0, 0, 0, 0, 0, 0, 0, 1, 0, 0, 0, 0, 0, 0, 0,                                                         0],\n",
       "[0, 0, 0, 0, 0, 0, 0, 0, 0, 0, 0, 0, 1, 0, 0, 0, 0, 0, 0, 0, 0, 0, 0, 0, 0, 0, 0,                                                         0],\n",
       "[0, 0, 1, 0, 0, 0, 0, 0, 0, 0, 0, 0, 0, 0, 0, 0, 0, 0, 0, 0, 0, 0, 0, 0, 0, 0, 0,                                                         0],\n",
       "[0, 1, 0, 0, 0, 0, 0, 0, 0, 0, 0, 0, 0, 0, 0, 0, 0, 0, 0, 0, 0, 0, 0, 0, 0, 0, 0,                                                         0],\n",
       "[0, 0, 0, 0, 0, 0, 0, 0, 0, 0, 0, 0, 0, 0, 0, 0, 0, 0, 0, 0, 1, 0, 0, 0, 0, 0, 0,                                                         0],\n",
       "[0, 0, 0, 0, 0, 0, 0, 0, 1, 0, 0, 0, 0, 0, 0, 0, 0, 0, 0, 0, 0, 0, 0, 0, 0, 0, 0,                                                         0],\n",
       "[0, 0, 0, 0, 0, 0, 0, 0, 0, 0, 0, 0, 0, 1, 0, 0, 0, 0, 0, 0, 0, 0, 0, 0, 0, 0, 0,                                                         0],\n",
       "[0, 0, 0, 0, 0, 0, 0, 0, 0, 1, 0, 0, 0, 0, 0, 0, 0, 0, 0, 0, 0, 0, 0, 0, 0, 0, 0,            ω^{OT}_6*b_{OT, 01, 06}*b^\\dagger_{OT, 01, 06}],\n",
       "[0, 0, 0, 0, 0, 0, 0, 0, 0, 0, 0, 0, 0, 0, 0, 0, 0, 1, 0, 0, 0, 0, 0, 0, 0, 0, 0,                                                         0],\n",
       "[0, 0, 0, 1, 0, 0, 0, 0, 0, 0, 0, 0, 0, 0, 0, 0, 0, 0, 0, 0, 0, 0, 0, 0, 0, 0, 0,                                                         0],\n",
       "[0, 0, 0, 0, 0, 0, 0, 0, 0, 0, 0, 0, 0, 0, 0, 0, 0, 0, 0, 0, 0, 0, 1, 0, 0, 0, 0,                                                         0],\n",
       "[0, 0, 0, 0, 0, 0, 1, 0, 0, 0, 0, 0, 0, 0, 0, 0, 0, 0, 0, 0, 0, 0, 0, 0, 0, 0, 0,                                                         0],\n",
       "[0, 0, 0, 0, 0, 0, 0, 0, 0, 0, 0, 0, 0, 0, 0, 0, 0, 0, 0, 0, 0, 1, 0, 0, 0, 0, 0, g^{OT}_{CS, 06}*(b^\\dagger_{OT, 01, 06} + b_{OT, 01, 06})],\n",
       "[0, 0, 0, 0, 1, 0, 0, 0, 0, 0, 0, 0, 0, 0, 0, 0, 0, 0, 0, 0, 0, 0, 0, 0, 0, 0, 0,                                                         0],\n",
       "[0, 0, 0, 0, 0, 0, 0, 0, 0, 0, 0, 0, 0, 0, 0, 0, 0, 0, 0, 0, 0, 0, 0, 0, 0, 0, 0,                                                         1]])"
      ]
     },
     "metadata": {},
     "output_type": "display_data"
    },
    {
     "data": {
      "text/latex": [
       "$\\displaystyle \\left[\\begin{array}{ccccccccccccccccccccccccccc}1 & 0 & 0 & 0 & 0 & 0 & 0 & 0 & 0 & 0 & 0 & 0 & 0 & 0 & 0 & 0 & 0 & 0 & 0 & 0 & 0 & 0 & 0 & 0 & 0 & 0 & 0\\\\0 & 0 & 0 & 0 & 0 & 0 & 0 & 0 & 0 & 0 & 0 & 0 & 0 & 0 & 0 & 0 & 0 & 0 & 1 & 0 & 0 & 0 & 0 & 0 & 0 & 0 & 0\\\\0 & 0 & 0 & 0 & 0 & 1 & 0 & 0 & 0 & 0 & 0 & 0 & 0 & 0 & 0 & 0 & 0 & 0 & 0 & 0 & 0 & 0 & 0 & 0 & 0 & 0 & 0\\\\0 & 0 & 0 & 0 & 0 & 0 & 0 & 0 & 0 & 0 & 0 & 0 & 0 & 0 & 0 & 0 & 0 & 0 & 0 & 0 & 0 & 0 & 0 & 0 & 1 & 0 & 0\\\\0 & 0 & 0 & 0 & 0 & 0 & 0 & 0 & 0 & 0 & 0 & 0 & 0 & 0 & 1 & 0 & 0 & 0 & 0 & 0 & 0 & 0 & 0 & 0 & 0 & 0 & 0\\\\0 & 0 & 0 & 0 & 0 & 0 & 0 & 0 & 0 & 0 & 0 & 0 & 0 & 0 & 0 & 0 & 0 & 0 & 0 & 0 & 0 & 1 & 0 & 0 & 0 & 0 & 0\\\\0 & 0 & 0 & 0 & 0 & 0 & 0 & 1 & 0 & 0 & 0 & 0 & 0 & 0 & 0 & 0 & 0 & 0 & 0 & 0 & 0 & 0 & 0 & 0 & 0 & 0 & 0\\\\0 & 0 & 0 & 0 & 0 & 0 & 0 & 0 & 0 & 0 & 0 & 0 & 0 & 0 & 0 & 0 & 0 & 0 & 0 & 0 & 1 & 0 & 0 & 0 & 0 & 0 & 0\\\\0 & 0 & 0 & 0 & 0 & 0 & 0 & 0 & 1 & 0 & 0 & 0 & 0 & 0 & 0 & 0 & 0 & 0 & 0 & 0 & 0 & 0 & 0 & 0 & 0 & 0 & 0\\\\0 & 0 & 1 & 0 & 0 & 0 & 0 & 0 & 0 & 0 & 0 & 0 & 0 & 0 & 0 & 0 & 0 & 0 & 0 & 0 & 0 & 0 & 0 & 0 & 0 & 0 & ω^{OT}_7 b_{OT, 01, 07} b^\\dagger_{OT, 01, 07}\\\\0 & 0 & 0 & 0 & 0 & 0 & 0 & 0 & 0 & 0 & 0 & 0 & 0 & 0 & 0 & 0 & 0 & 1 & 0 & 0 & 0 & 0 & 0 & 0 & 0 & 0 & 0\\\\0 & 0 & 0 & 0 & 0 & 0 & 0 & 0 & 0 & 0 & 0 & 0 & 0 & 0 & 0 & 0 & 0 & 0 & 0 & 1 & 0 & 0 & 0 & 0 & 0 & 0 & 0\\\\0 & 0 & 0 & 0 & 0 & 0 & 0 & 0 & 0 & 0 & 0 & 0 & 0 & 0 & 0 & 1 & 0 & 0 & 0 & 0 & 0 & 0 & 0 & 0 & 0 & 0 & 0\\\\0 & 0 & 0 & 0 & 0 & 0 & 0 & 0 & 0 & 0 & 0 & 0 & 1 & 0 & 0 & 0 & 0 & 0 & 0 & 0 & 0 & 0 & 0 & 0 & 0 & 0 & 0\\\\0 & 0 & 0 & 0 & 0 & 0 & 0 & 0 & 0 & 1 & 0 & 0 & 0 & 0 & 0 & 0 & 0 & 0 & 0 & 0 & 0 & 0 & 0 & 0 & 0 & 0 & 0\\\\0 & 0 & 0 & 0 & 0 & 0 & 0 & 0 & 0 & 0 & 0 & 0 & 0 & 0 & 0 & 0 & 0 & 0 & 0 & 0 & 0 & 0 & 1 & 0 & 0 & 0 & 0\\\\0 & 0 & 0 & 0 & 0 & 0 & 0 & 0 & 0 & 0 & 0 & 0 & 0 & 1 & 0 & 0 & 0 & 0 & 0 & 0 & 0 & 0 & 0 & 0 & 0 & 0 & 0\\\\0 & 0 & 0 & 1 & 0 & 0 & 0 & 0 & 0 & 0 & 0 & 0 & 0 & 0 & 0 & 0 & 0 & 0 & 0 & 0 & 0 & 0 & 0 & 0 & 0 & 0 & 0\\\\0 & 0 & 0 & 0 & 0 & 0 & 0 & 0 & 0 & 0 & 0 & 1 & 0 & 0 & 0 & 0 & 0 & 0 & 0 & 0 & 0 & 0 & 0 & 0 & 0 & 0 & 0\\\\0 & 0 & 0 & 0 & 0 & 0 & 0 & 0 & 0 & 0 & 0 & 0 & 0 & 0 & 0 & 0 & 1 & 0 & 0 & 0 & 0 & 0 & 0 & 0 & 0 & 0 & 0\\\\0 & 0 & 0 & 0 & 0 & 0 & 0 & 0 & 0 & 0 & 0 & 0 & 0 & 0 & 0 & 0 & 0 & 0 & 0 & 0 & 0 & 0 & 0 & 1 & 0 & 0 & 0\\\\0 & 0 & 0 & 0 & 0 & 0 & 0 & 0 & 0 & 0 & 0 & 0 & 0 & 0 & 0 & 0 & 0 & 0 & 0 & 0 & 0 & 0 & 0 & 0 & 0 & g^{OT}_{CS, 08} & g^{OT}_{CS, 07} \\left(b^\\dagger_{OT, 01, 07} + b_{OT, 01, 07}\\right) + ε^{{CS}}_{01}\\\\0 & 0 & 0 & 0 & 0 & 0 & 1 & 0 & 0 & 0 & 0 & 0 & 0 & 0 & 0 & 0 & 0 & 0 & 0 & 0 & 0 & 0 & 0 & 0 & 0 & 0 & 0\\\\0 & 0 & 0 & 0 & 0 & 0 & 0 & 0 & 0 & 0 & 0 & 0 & 0 & 0 & 0 & 0 & 0 & 0 & 0 & 0 & 0 & 0 & 0 & 0 & 0 & g^{OT}_{LE, 08} & g^{OT}_{LE, 07} \\left(b^\\dagger_{OT, 01, 07} + b_{OT, 01, 07}\\right)\\\\0 & 0 & 0 & 0 & 0 & 0 & 0 & 0 & 0 & 0 & 1 & 0 & 0 & 0 & 0 & 0 & 0 & 0 & 0 & 0 & 0 & 0 & 0 & 0 & 0 & 0 & 0\\\\0 & 0 & 0 & 0 & 1 & 0 & 0 & 0 & 0 & 0 & 0 & 0 & 0 & 0 & 0 & 0 & 0 & 0 & 0 & 0 & 0 & 0 & 0 & 0 & 0 & 0 & 0\\\\0 & 1 & 0 & 0 & 0 & 0 & 0 & 0 & 0 & 0 & 0 & 0 & 0 & 0 & 0 & 0 & 0 & 0 & 0 & 0 & 0 & 0 & 0 & 0 & 0 & 0 & 0\\\\0 & 0 & 0 & 0 & 0 & 0 & 0 & 0 & 0 & 0 & 0 & 0 & 0 & 0 & 0 & 0 & 0 & 0 & 0 & 0 & 0 & 0 & 0 & 0 & 0 & 0 & 1\\end{array}\\right]$"
      ],
      "text/plain": [
       "Matrix([\n",
       "[1, 0, 0, 0, 0, 0, 0, 0, 0, 0, 0, 0, 0, 0, 0, 0, 0, 0, 0, 0, 0, 0, 0, 0, 0,               0,                                                                         0],\n",
       "[0, 0, 0, 0, 0, 0, 0, 0, 0, 0, 0, 0, 0, 0, 0, 0, 0, 0, 1, 0, 0, 0, 0, 0, 0,               0,                                                                         0],\n",
       "[0, 0, 0, 0, 0, 1, 0, 0, 0, 0, 0, 0, 0, 0, 0, 0, 0, 0, 0, 0, 0, 0, 0, 0, 0,               0,                                                                         0],\n",
       "[0, 0, 0, 0, 0, 0, 0, 0, 0, 0, 0, 0, 0, 0, 0, 0, 0, 0, 0, 0, 0, 0, 0, 0, 1,               0,                                                                         0],\n",
       "[0, 0, 0, 0, 0, 0, 0, 0, 0, 0, 0, 0, 0, 0, 1, 0, 0, 0, 0, 0, 0, 0, 0, 0, 0,               0,                                                                         0],\n",
       "[0, 0, 0, 0, 0, 0, 0, 0, 0, 0, 0, 0, 0, 0, 0, 0, 0, 0, 0, 0, 0, 1, 0, 0, 0,               0,                                                                         0],\n",
       "[0, 0, 0, 0, 0, 0, 0, 1, 0, 0, 0, 0, 0, 0, 0, 0, 0, 0, 0, 0, 0, 0, 0, 0, 0,               0,                                                                         0],\n",
       "[0, 0, 0, 0, 0, 0, 0, 0, 0, 0, 0, 0, 0, 0, 0, 0, 0, 0, 0, 0, 1, 0, 0, 0, 0,               0,                                                                         0],\n",
       "[0, 0, 0, 0, 0, 0, 0, 0, 1, 0, 0, 0, 0, 0, 0, 0, 0, 0, 0, 0, 0, 0, 0, 0, 0,               0,                                                                         0],\n",
       "[0, 0, 1, 0, 0, 0, 0, 0, 0, 0, 0, 0, 0, 0, 0, 0, 0, 0, 0, 0, 0, 0, 0, 0, 0,               0,                            ω^{OT}_7*b_{OT, 01, 07}*b^\\dagger_{OT, 01, 07}],\n",
       "[0, 0, 0, 0, 0, 0, 0, 0, 0, 0, 0, 0, 0, 0, 0, 0, 0, 1, 0, 0, 0, 0, 0, 0, 0,               0,                                                                         0],\n",
       "[0, 0, 0, 0, 0, 0, 0, 0, 0, 0, 0, 0, 0, 0, 0, 0, 0, 0, 0, 1, 0, 0, 0, 0, 0,               0,                                                                         0],\n",
       "[0, 0, 0, 0, 0, 0, 0, 0, 0, 0, 0, 0, 0, 0, 0, 1, 0, 0, 0, 0, 0, 0, 0, 0, 0,               0,                                                                         0],\n",
       "[0, 0, 0, 0, 0, 0, 0, 0, 0, 0, 0, 0, 1, 0, 0, 0, 0, 0, 0, 0, 0, 0, 0, 0, 0,               0,                                                                         0],\n",
       "[0, 0, 0, 0, 0, 0, 0, 0, 0, 1, 0, 0, 0, 0, 0, 0, 0, 0, 0, 0, 0, 0, 0, 0, 0,               0,                                                                         0],\n",
       "[0, 0, 0, 0, 0, 0, 0, 0, 0, 0, 0, 0, 0, 0, 0, 0, 0, 0, 0, 0, 0, 0, 1, 0, 0,               0,                                                                         0],\n",
       "[0, 0, 0, 0, 0, 0, 0, 0, 0, 0, 0, 0, 0, 1, 0, 0, 0, 0, 0, 0, 0, 0, 0, 0, 0,               0,                                                                         0],\n",
       "[0, 0, 0, 1, 0, 0, 0, 0, 0, 0, 0, 0, 0, 0, 0, 0, 0, 0, 0, 0, 0, 0, 0, 0, 0,               0,                                                                         0],\n",
       "[0, 0, 0, 0, 0, 0, 0, 0, 0, 0, 0, 1, 0, 0, 0, 0, 0, 0, 0, 0, 0, 0, 0, 0, 0,               0,                                                                         0],\n",
       "[0, 0, 0, 0, 0, 0, 0, 0, 0, 0, 0, 0, 0, 0, 0, 0, 1, 0, 0, 0, 0, 0, 0, 0, 0,               0,                                                                         0],\n",
       "[0, 0, 0, 0, 0, 0, 0, 0, 0, 0, 0, 0, 0, 0, 0, 0, 0, 0, 0, 0, 0, 0, 0, 1, 0,               0,                                                                         0],\n",
       "[0, 0, 0, 0, 0, 0, 0, 0, 0, 0, 0, 0, 0, 0, 0, 0, 0, 0, 0, 0, 0, 0, 0, 0, 0, g^{OT}_{CS, 08}, g^{OT}_{CS, 07}*(b^\\dagger_{OT, 01, 07} + b_{OT, 01, 07}) + ε^{{CS}}_{01}],\n",
       "[0, 0, 0, 0, 0, 0, 1, 0, 0, 0, 0, 0, 0, 0, 0, 0, 0, 0, 0, 0, 0, 0, 0, 0, 0,               0,                                                                         0],\n",
       "[0, 0, 0, 0, 0, 0, 0, 0, 0, 0, 0, 0, 0, 0, 0, 0, 0, 0, 0, 0, 0, 0, 0, 0, 0, g^{OT}_{LE, 08},                 g^{OT}_{LE, 07}*(b^\\dagger_{OT, 01, 07} + b_{OT, 01, 07})],\n",
       "[0, 0, 0, 0, 0, 0, 0, 0, 0, 0, 1, 0, 0, 0, 0, 0, 0, 0, 0, 0, 0, 0, 0, 0, 0,               0,                                                                         0],\n",
       "[0, 0, 0, 0, 1, 0, 0, 0, 0, 0, 0, 0, 0, 0, 0, 0, 0, 0, 0, 0, 0, 0, 0, 0, 0,               0,                                                                         0],\n",
       "[0, 1, 0, 0, 0, 0, 0, 0, 0, 0, 0, 0, 0, 0, 0, 0, 0, 0, 0, 0, 0, 0, 0, 0, 0,               0,                                                                         0],\n",
       "[0, 0, 0, 0, 0, 0, 0, 0, 0, 0, 0, 0, 0, 0, 0, 0, 0, 0, 0, 0, 0, 0, 0, 0, 0,               0,                                                                         1]])"
      ]
     },
     "metadata": {},
     "output_type": "display_data"
    },
    {
     "data": {
      "text/latex": [
       "$\\displaystyle \\left[\\begin{array}{cccccccccccccccccccccccccc}0 & 0 & 0 & 0 & 0 & 0 & 0 & 0 & 0 & 0 & 0 & 0 & 0 & 1 & 0 & 0 & 0 & 0 & 0 & 0 & 0 & 0 & 0 & 0 & 0 & 0\\\\1 & 0 & 0 & 0 & 0 & 0 & 0 & 0 & 0 & 0 & 0 & 0 & 0 & 0 & 0 & 0 & 0 & 0 & 0 & 0 & 0 & 0 & 0 & 0 & 0 & 0\\\\0 & 0 & 0 & 0 & 0 & 0 & 0 & 0 & 0 & 0 & 0 & 0 & 0 & 0 & 0 & 1 & 0 & 0 & 0 & 0 & 0 & 0 & 0 & 0 & 0 & ω^{OT}_8 b_{OT, 01, 08} b^\\dagger_{OT, 01, 08}\\\\0 & 0 & 0 & 0 & 0 & 0 & 1 & 0 & 0 & 0 & 0 & 0 & 0 & 0 & 0 & 0 & 0 & 0 & 0 & 0 & 0 & 0 & 0 & 0 & 0 & 0\\\\0 & 0 & 1 & 0 & 0 & 0 & 0 & 0 & 0 & 0 & 0 & 0 & 0 & 0 & 0 & 0 & 0 & 0 & 0 & 0 & 0 & 0 & 0 & 0 & 0 & 0\\\\0 & 0 & 0 & 0 & 0 & 0 & 0 & 0 & 0 & 0 & 0 & 1 & 0 & 0 & 0 & 0 & 0 & 0 & 0 & 0 & 0 & 0 & 0 & 0 & 0 & 0\\\\0 & 0 & 0 & 0 & 0 & 0 & 0 & 0 & 0 & 0 & 0 & 0 & 0 & 0 & 1 & 0 & 0 & 0 & 0 & 0 & 0 & 0 & 0 & 0 & 0 & 0\\\\0 & 0 & 0 & 0 & 0 & 0 & 0 & 0 & 0 & 0 & 0 & 0 & 1 & 0 & 0 & 0 & 0 & 0 & 0 & 0 & 0 & 0 & 0 & 0 & 0 & 0\\\\0 & 0 & 0 & 0 & 0 & 0 & 0 & 0 & 0 & 0 & 1 & 0 & 0 & 0 & 0 & 0 & 0 & 0 & 0 & 0 & 0 & 0 & 0 & 0 & 0 & 0\\\\0 & 0 & 0 & 0 & 0 & 0 & 0 & 0 & 0 & 0 & 0 & 0 & 0 & 0 & 0 & 0 & 0 & 0 & 0 & 1 & 0 & 0 & 0 & 0 & 0 & 0\\\\0 & 1 & 0 & 0 & 0 & 0 & 0 & 0 & 0 & 0 & 0 & 0 & 0 & 0 & 0 & 0 & 0 & 0 & 0 & 0 & 0 & 0 & 0 & 0 & 0 & 0\\\\0 & 0 & 0 & 0 & 0 & 0 & 0 & 0 & 0 & 0 & 0 & 0 & 0 & 0 & 0 & 0 & 0 & 0 & 1 & 0 & 0 & 0 & 0 & 0 & 0 & 0\\\\0 & 0 & 0 & 0 & 0 & 0 & 0 & 0 & 0 & 0 & 0 & 0 & 0 & 0 & 0 & 0 & 0 & 1 & 0 & 0 & 0 & 0 & 0 & 0 & 0 & 0\\\\0 & 0 & 0 & 0 & 0 & 0 & 0 & 1 & 0 & 0 & 0 & 0 & 0 & 0 & 0 & 0 & 0 & 0 & 0 & 0 & 0 & 0 & 0 & 0 & 0 & 0\\\\0 & 0 & 0 & 0 & 0 & 0 & 0 & 0 & 1 & 0 & 0 & 0 & 0 & 0 & 0 & 0 & 0 & 0 & 0 & 0 & 0 & 0 & 0 & 0 & 0 & 0\\\\0 & 0 & 0 & 0 & 0 & 0 & 0 & 0 & 0 & 0 & 0 & 0 & 0 & 0 & 0 & 0 & 0 & 0 & 0 & 0 & 0 & 0 & 0 & 1 & 0 & 0\\\\0 & 0 & 0 & 0 & 0 & 0 & 0 & 0 & 0 & 0 & 0 & 0 & 0 & 0 & 0 & 0 & 0 & 0 & 0 & 0 & 0 & 1 & 0 & 0 & 0 & 0\\\\0 & 0 & 0 & 0 & 0 & 0 & 0 & 0 & 0 & 1 & 0 & 0 & 0 & 0 & 0 & 0 & 0 & 0 & 0 & 0 & 0 & 0 & 0 & 0 & 0 & 0\\\\0 & 0 & 0 & 0 & 0 & 0 & 0 & 0 & 0 & 0 & 0 & 0 & 0 & 0 & 0 & 0 & 1 & 0 & 0 & 0 & 0 & 0 & 0 & 0 & 0 & 0\\\\0 & 0 & 0 & 0 & 0 & 1 & 0 & 0 & 0 & 0 & 0 & 0 & 0 & 0 & 0 & 0 & 0 & 0 & 0 & 0 & 0 & 0 & 0 & 0 & 0 & 0\\\\0 & 0 & 0 & 0 & 0 & 0 & 0 & 0 & 0 & 0 & 0 & 0 & 0 & 0 & 0 & 0 & 0 & 0 & 0 & 0 & 0 & 0 & 1 & 0 & 0 & 0\\\\0 & 0 & 0 & 0 & 0 & 0 & 0 & 0 & 0 & 0 & 0 & 0 & 0 & 0 & 0 & 0 & 0 & 0 & 0 & 0 & 0 & 0 & 0 & 0 & 1 & 0\\\\0 & 0 & 0 & 1 & 0 & 0 & 0 & 0 & 0 & 0 & 0 & 0 & 0 & 0 & 0 & 0 & 0 & 0 & 0 & 0 & 0 & 0 & 0 & 0 & 0 & 0\\\\0 & 0 & 0 & 0 & 1 & 0 & 0 & 0 & 0 & 0 & 0 & 0 & 0 & 0 & 0 & 0 & 0 & 0 & 0 & 0 & 0 & 0 & 0 & 0 & 0 & 0\\\\0 & 0 & 0 & 0 & 0 & 0 & 0 & 0 & 0 & 0 & 0 & 0 & 0 & 0 & 0 & 0 & 0 & 0 & 0 & 0 & 1 & 0 & 0 & 0 & 0 & 0\\\\0 & 0 & 0 & 0 & 0 & 0 & 0 & 0 & 0 & 0 & 0 & 0 & 0 & 0 & 0 & 0 & 0 & 0 & 0 & 0 & 0 & 0 & 0 & 0 & 0 & b^\\dagger_{OT, 01, 08} + b_{OT, 01, 08}\\\\0 & 0 & 0 & 0 & 0 & 0 & 0 & 0 & 0 & 0 & 0 & 0 & 0 & 0 & 0 & 0 & 0 & 0 & 0 & 0 & 0 & 0 & 0 & 0 & 0 & 1\\end{array}\\right]$"
      ],
      "text/plain": [
       "Matrix([\n",
       "[0, 0, 0, 0, 0, 0, 0, 0, 0, 0, 0, 0, 0, 1, 0, 0, 0, 0, 0, 0, 0, 0, 0, 0, 0,                                              0],\n",
       "[1, 0, 0, 0, 0, 0, 0, 0, 0, 0, 0, 0, 0, 0, 0, 0, 0, 0, 0, 0, 0, 0, 0, 0, 0,                                              0],\n",
       "[0, 0, 0, 0, 0, 0, 0, 0, 0, 0, 0, 0, 0, 0, 0, 1, 0, 0, 0, 0, 0, 0, 0, 0, 0, ω^{OT}_8*b_{OT, 01, 08}*b^\\dagger_{OT, 01, 08}],\n",
       "[0, 0, 0, 0, 0, 0, 1, 0, 0, 0, 0, 0, 0, 0, 0, 0, 0, 0, 0, 0, 0, 0, 0, 0, 0,                                              0],\n",
       "[0, 0, 1, 0, 0, 0, 0, 0, 0, 0, 0, 0, 0, 0, 0, 0, 0, 0, 0, 0, 0, 0, 0, 0, 0,                                              0],\n",
       "[0, 0, 0, 0, 0, 0, 0, 0, 0, 0, 0, 1, 0, 0, 0, 0, 0, 0, 0, 0, 0, 0, 0, 0, 0,                                              0],\n",
       "[0, 0, 0, 0, 0, 0, 0, 0, 0, 0, 0, 0, 0, 0, 1, 0, 0, 0, 0, 0, 0, 0, 0, 0, 0,                                              0],\n",
       "[0, 0, 0, 0, 0, 0, 0, 0, 0, 0, 0, 0, 1, 0, 0, 0, 0, 0, 0, 0, 0, 0, 0, 0, 0,                                              0],\n",
       "[0, 0, 0, 0, 0, 0, 0, 0, 0, 0, 1, 0, 0, 0, 0, 0, 0, 0, 0, 0, 0, 0, 0, 0, 0,                                              0],\n",
       "[0, 0, 0, 0, 0, 0, 0, 0, 0, 0, 0, 0, 0, 0, 0, 0, 0, 0, 0, 1, 0, 0, 0, 0, 0,                                              0],\n",
       "[0, 1, 0, 0, 0, 0, 0, 0, 0, 0, 0, 0, 0, 0, 0, 0, 0, 0, 0, 0, 0, 0, 0, 0, 0,                                              0],\n",
       "[0, 0, 0, 0, 0, 0, 0, 0, 0, 0, 0, 0, 0, 0, 0, 0, 0, 0, 1, 0, 0, 0, 0, 0, 0,                                              0],\n",
       "[0, 0, 0, 0, 0, 0, 0, 0, 0, 0, 0, 0, 0, 0, 0, 0, 0, 1, 0, 0, 0, 0, 0, 0, 0,                                              0],\n",
       "[0, 0, 0, 0, 0, 0, 0, 1, 0, 0, 0, 0, 0, 0, 0, 0, 0, 0, 0, 0, 0, 0, 0, 0, 0,                                              0],\n",
       "[0, 0, 0, 0, 0, 0, 0, 0, 1, 0, 0, 0, 0, 0, 0, 0, 0, 0, 0, 0, 0, 0, 0, 0, 0,                                              0],\n",
       "[0, 0, 0, 0, 0, 0, 0, 0, 0, 0, 0, 0, 0, 0, 0, 0, 0, 0, 0, 0, 0, 0, 0, 1, 0,                                              0],\n",
       "[0, 0, 0, 0, 0, 0, 0, 0, 0, 0, 0, 0, 0, 0, 0, 0, 0, 0, 0, 0, 0, 1, 0, 0, 0,                                              0],\n",
       "[0, 0, 0, 0, 0, 0, 0, 0, 0, 1, 0, 0, 0, 0, 0, 0, 0, 0, 0, 0, 0, 0, 0, 0, 0,                                              0],\n",
       "[0, 0, 0, 0, 0, 0, 0, 0, 0, 0, 0, 0, 0, 0, 0, 0, 1, 0, 0, 0, 0, 0, 0, 0, 0,                                              0],\n",
       "[0, 0, 0, 0, 0, 1, 0, 0, 0, 0, 0, 0, 0, 0, 0, 0, 0, 0, 0, 0, 0, 0, 0, 0, 0,                                              0],\n",
       "[0, 0, 0, 0, 0, 0, 0, 0, 0, 0, 0, 0, 0, 0, 0, 0, 0, 0, 0, 0, 0, 0, 1, 0, 0,                                              0],\n",
       "[0, 0, 0, 0, 0, 0, 0, 0, 0, 0, 0, 0, 0, 0, 0, 0, 0, 0, 0, 0, 0, 0, 0, 0, 1,                                              0],\n",
       "[0, 0, 0, 1, 0, 0, 0, 0, 0, 0, 0, 0, 0, 0, 0, 0, 0, 0, 0, 0, 0, 0, 0, 0, 0,                                              0],\n",
       "[0, 0, 0, 0, 1, 0, 0, 0, 0, 0, 0, 0, 0, 0, 0, 0, 0, 0, 0, 0, 0, 0, 0, 0, 0,                                              0],\n",
       "[0, 0, 0, 0, 0, 0, 0, 0, 0, 0, 0, 0, 0, 0, 0, 0, 0, 0, 0, 0, 1, 0, 0, 0, 0,                                              0],\n",
       "[0, 0, 0, 0, 0, 0, 0, 0, 0, 0, 0, 0, 0, 0, 0, 0, 0, 0, 0, 0, 0, 0, 0, 0, 0,        b^\\dagger_{OT, 01, 08} + b_{OT, 01, 08}],\n",
       "[0, 0, 0, 0, 0, 0, 0, 0, 0, 0, 0, 0, 0, 0, 0, 0, 0, 0, 0, 0, 0, 0, 0, 0, 0,                                              1]])"
      ]
     },
     "metadata": {},
     "output_type": "display_data"
    },
    {
     "data": {
      "text/latex": [
       "$\\displaystyle \\left[\\begin{array}{cccccccccccccccccccccccccc}0 & 0 & 0 & 0 & 0 & 0 & 0 & 0 & 0 & 0 & 0 & 0 & 0 & 0 & 0 & 0 & 0 & 0 & 1 & 0 & 0 & 0 & 0 & 0 & 0 & 0\\\\1 & 0 & 0 & 0 & 0 & 0 & 0 & 0 & 0 & 0 & 0 & 0 & 0 & 0 & 0 & 0 & 0 & 0 & 0 & 0 & 0 & 0 & 0 & 0 & 0 & 0\\\\0 & 0 & 0 & 0 & 0 & 0 & 0 & 1 & 0 & 0 & 0 & 0 & 0 & 0 & 0 & 0 & 0 & 0 & 0 & 0 & 0 & 0 & 0 & 0 & 0 & 0\\\\0 & 1 & 0 & 0 & 0 & 0 & 0 & 0 & 0 & 0 & 0 & 0 & 0 & 0 & 0 & 0 & 0 & 0 & 0 & 0 & 0 & 0 & 0 & 0 & 0 & 0\\\\0 & 0 & 0 & 0 & 0 & 0 & 1 & 0 & 0 & 0 & 0 & 0 & 0 & 0 & 0 & 0 & 0 & 0 & 0 & 0 & 0 & 0 & 0 & 0 & 0 & 0\\\\0 & 0 & 0 & 0 & 0 & 1 & 0 & 0 & 0 & 0 & 0 & 0 & 0 & 0 & 0 & 0 & 0 & 0 & 0 & 0 & 0 & 0 & 0 & 0 & 0 & g^{OT}_{LE, 01} \\left(b^\\dagger_{OT, 02, 01} + b_{OT, 02, 01}\\right)\\\\0 & 0 & 0 & 0 & 0 & 0 & 0 & 0 & 0 & 0 & 0 & 0 & 0 & 1 & 0 & 0 & 0 & 0 & 0 & 0 & 0 & 0 & 0 & 0 & 0 & 0\\\\0 & 0 & 0 & 0 & 0 & 0 & 0 & 0 & 0 & 0 & 0 & 0 & 0 & 0 & 0 & 1 & 0 & 0 & 0 & 0 & 0 & 0 & 0 & 0 & 0 & 0\\\\0 & 0 & 0 & 0 & 0 & 0 & 0 & 0 & 0 & 0 & 0 & 0 & 0 & 0 & 0 & 0 & 0 & 0 & 0 & 0 & 0 & 0 & 0 & 1 & 0 & 0\\\\0 & 0 & 0 & 0 & 0 & 0 & 0 & 0 & 0 & 0 & 0 & 0 & 0 & 0 & 1 & 0 & 0 & 0 & 0 & 0 & 0 & 0 & 0 & 0 & 0 & 0\\\\0 & 0 & 0 & 0 & 0 & 0 & 0 & 0 & 0 & 1 & 0 & 0 & 0 & 0 & 0 & 0 & 0 & 0 & 0 & 0 & 0 & 0 & 0 & 0 & 0 & 0\\\\0 & 0 & 0 & 0 & 0 & 0 & 0 & 0 & 0 & 0 & 0 & 0 & 0 & 0 & 0 & 0 & 0 & 0 & 0 & 0 & 0 & 0 & 1 & 0 & 0 & 0\\\\0 & 0 & 0 & 1 & 0 & 0 & 0 & 0 & 0 & 0 & 0 & 0 & 0 & 0 & 0 & 0 & 0 & 0 & 0 & 0 & 0 & 0 & 0 & 0 & 0 & 0\\\\0 & 0 & 0 & 0 & 0 & 0 & 0 & 0 & 0 & 0 & 0 & 0 & 0 & 0 & 0 & 0 & 0 & 0 & 0 & 0 & 0 & 0 & 0 & 0 & 1 & 0\\\\0 & 0 & 0 & 0 & 0 & 0 & 0 & 0 & 0 & 0 & 0 & 0 & 0 & 0 & 0 & 0 & 0 & 0 & 0 & 1 & 0 & 0 & 0 & 0 & 0 & 0\\\\0 & 0 & 0 & 0 & 0 & 0 & 0 & 0 & 0 & 0 & 0 & 0 & 0 & 0 & 0 & 0 & 0 & 0 & 0 & 0 & 1 & 0 & 0 & 0 & 0 & ω^{OT}_1 b_{OT, 02, 01} b^\\dagger_{OT, 02, 01}\\\\0 & 0 & 0 & 0 & 0 & 0 & 0 & 0 & 0 & 0 & 0 & 0 & 0 & 0 & 0 & 0 & 0 & 1 & 0 & 0 & 0 & 0 & 0 & 0 & 0 & 0\\\\0 & 0 & 0 & 0 & 0 & 0 & 0 & 0 & 0 & 0 & 0 & 0 & 1 & 0 & 0 & 0 & 0 & 0 & 0 & 0 & 0 & 0 & 0 & 0 & 0 & 0\\\\0 & 0 & 0 & 0 & 0 & 0 & 0 & 0 & 1 & 0 & 0 & 0 & 0 & 0 & 0 & 0 & 0 & 0 & 0 & 0 & 0 & 0 & 0 & 0 & 0 & 0\\\\0 & 0 & 0 & 0 & 0 & 0 & 0 & 0 & 0 & 0 & 0 & 0 & 0 & 0 & 0 & 0 & 0 & 0 & 0 & 0 & 0 & 1 & 0 & 0 & 0 & 0\\\\0 & 0 & 0 & 0 & 0 & 0 & 0 & 0 & 0 & 0 & 1 & 0 & 0 & 0 & 0 & 0 & 0 & 0 & 0 & 0 & 0 & 0 & 0 & 0 & 0 & 0\\\\0 & 0 & 1 & 0 & 0 & 0 & 0 & 0 & 0 & 0 & 0 & 0 & 0 & 0 & 0 & 0 & 0 & 0 & 0 & 0 & 0 & 0 & 0 & 0 & 0 & 0\\\\0 & 0 & 0 & 0 & 0 & 0 & 0 & 0 & 0 & 0 & 0 & 0 & 0 & 0 & 0 & 0 & 1 & 0 & 0 & 0 & 0 & 0 & 0 & 0 & 0 & 0\\\\0 & 0 & 0 & 0 & 0 & 0 & 0 & 0 & 0 & 0 & 0 & 1 & 0 & 0 & 0 & 0 & 0 & 0 & 0 & 0 & 0 & 0 & 0 & 0 & 0 & g^{OT}_{CS, 01} \\left(b^\\dagger_{OT, 02, 01} + b_{OT, 02, 01}\\right)\\\\0 & 0 & 0 & 0 & 1 & 0 & 0 & 0 & 0 & 0 & 0 & 0 & 0 & 0 & 0 & 0 & 0 & 0 & 0 & 0 & 0 & 0 & 0 & 0 & 0 & 0\\\\0 & 0 & 0 & 0 & 0 & 0 & 0 & 0 & 0 & 0 & 0 & 0 & 0 & 0 & 0 & 0 & 0 & 0 & 0 & 0 & 0 & 0 & 0 & 0 & 0 & 1\\end{array}\\right]$"
      ],
      "text/plain": [
       "Matrix([\n",
       "[0, 0, 0, 0, 0, 0, 0, 0, 0, 0, 0, 0, 0, 0, 0, 0, 0, 0, 1, 0, 0, 0, 0, 0, 0,                                                         0],\n",
       "[1, 0, 0, 0, 0, 0, 0, 0, 0, 0, 0, 0, 0, 0, 0, 0, 0, 0, 0, 0, 0, 0, 0, 0, 0,                                                         0],\n",
       "[0, 0, 0, 0, 0, 0, 0, 1, 0, 0, 0, 0, 0, 0, 0, 0, 0, 0, 0, 0, 0, 0, 0, 0, 0,                                                         0],\n",
       "[0, 1, 0, 0, 0, 0, 0, 0, 0, 0, 0, 0, 0, 0, 0, 0, 0, 0, 0, 0, 0, 0, 0, 0, 0,                                                         0],\n",
       "[0, 0, 0, 0, 0, 0, 1, 0, 0, 0, 0, 0, 0, 0, 0, 0, 0, 0, 0, 0, 0, 0, 0, 0, 0,                                                         0],\n",
       "[0, 0, 0, 0, 0, 1, 0, 0, 0, 0, 0, 0, 0, 0, 0, 0, 0, 0, 0, 0, 0, 0, 0, 0, 0, g^{OT}_{LE, 01}*(b^\\dagger_{OT, 02, 01} + b_{OT, 02, 01})],\n",
       "[0, 0, 0, 0, 0, 0, 0, 0, 0, 0, 0, 0, 0, 1, 0, 0, 0, 0, 0, 0, 0, 0, 0, 0, 0,                                                         0],\n",
       "[0, 0, 0, 0, 0, 0, 0, 0, 0, 0, 0, 0, 0, 0, 0, 1, 0, 0, 0, 0, 0, 0, 0, 0, 0,                                                         0],\n",
       "[0, 0, 0, 0, 0, 0, 0, 0, 0, 0, 0, 0, 0, 0, 0, 0, 0, 0, 0, 0, 0, 0, 0, 1, 0,                                                         0],\n",
       "[0, 0, 0, 0, 0, 0, 0, 0, 0, 0, 0, 0, 0, 0, 1, 0, 0, 0, 0, 0, 0, 0, 0, 0, 0,                                                         0],\n",
       "[0, 0, 0, 0, 0, 0, 0, 0, 0, 1, 0, 0, 0, 0, 0, 0, 0, 0, 0, 0, 0, 0, 0, 0, 0,                                                         0],\n",
       "[0, 0, 0, 0, 0, 0, 0, 0, 0, 0, 0, 0, 0, 0, 0, 0, 0, 0, 0, 0, 0, 0, 1, 0, 0,                                                         0],\n",
       "[0, 0, 0, 1, 0, 0, 0, 0, 0, 0, 0, 0, 0, 0, 0, 0, 0, 0, 0, 0, 0, 0, 0, 0, 0,                                                         0],\n",
       "[0, 0, 0, 0, 0, 0, 0, 0, 0, 0, 0, 0, 0, 0, 0, 0, 0, 0, 0, 0, 0, 0, 0, 0, 1,                                                         0],\n",
       "[0, 0, 0, 0, 0, 0, 0, 0, 0, 0, 0, 0, 0, 0, 0, 0, 0, 0, 0, 1, 0, 0, 0, 0, 0,                                                         0],\n",
       "[0, 0, 0, 0, 0, 0, 0, 0, 0, 0, 0, 0, 0, 0, 0, 0, 0, 0, 0, 0, 1, 0, 0, 0, 0,            ω^{OT}_1*b_{OT, 02, 01}*b^\\dagger_{OT, 02, 01}],\n",
       "[0, 0, 0, 0, 0, 0, 0, 0, 0, 0, 0, 0, 0, 0, 0, 0, 0, 1, 0, 0, 0, 0, 0, 0, 0,                                                         0],\n",
       "[0, 0, 0, 0, 0, 0, 0, 0, 0, 0, 0, 0, 1, 0, 0, 0, 0, 0, 0, 0, 0, 0, 0, 0, 0,                                                         0],\n",
       "[0, 0, 0, 0, 0, 0, 0, 0, 1, 0, 0, 0, 0, 0, 0, 0, 0, 0, 0, 0, 0, 0, 0, 0, 0,                                                         0],\n",
       "[0, 0, 0, 0, 0, 0, 0, 0, 0, 0, 0, 0, 0, 0, 0, 0, 0, 0, 0, 0, 0, 1, 0, 0, 0,                                                         0],\n",
       "[0, 0, 0, 0, 0, 0, 0, 0, 0, 0, 1, 0, 0, 0, 0, 0, 0, 0, 0, 0, 0, 0, 0, 0, 0,                                                         0],\n",
       "[0, 0, 1, 0, 0, 0, 0, 0, 0, 0, 0, 0, 0, 0, 0, 0, 0, 0, 0, 0, 0, 0, 0, 0, 0,                                                         0],\n",
       "[0, 0, 0, 0, 0, 0, 0, 0, 0, 0, 0, 0, 0, 0, 0, 0, 1, 0, 0, 0, 0, 0, 0, 0, 0,                                                         0],\n",
       "[0, 0, 0, 0, 0, 0, 0, 0, 0, 0, 0, 1, 0, 0, 0, 0, 0, 0, 0, 0, 0, 0, 0, 0, 0, g^{OT}_{CS, 01}*(b^\\dagger_{OT, 02, 01} + b_{OT, 02, 01})],\n",
       "[0, 0, 0, 0, 1, 0, 0, 0, 0, 0, 0, 0, 0, 0, 0, 0, 0, 0, 0, 0, 0, 0, 0, 0, 0,                                                         0],\n",
       "[0, 0, 0, 0, 0, 0, 0, 0, 0, 0, 0, 0, 0, 0, 0, 0, 0, 0, 0, 0, 0, 0, 0, 0, 0,                                                         1]])"
      ]
     },
     "metadata": {},
     "output_type": "display_data"
    },
    {
     "data": {
      "text/latex": [
       "$\\displaystyle \\left[\\begin{array}{cccccccccccccccccccccccccc}0 & 0 & 1 & 0 & 0 & 0 & 0 & 0 & 0 & 0 & 0 & 0 & 0 & 0 & 0 & 0 & 0 & 0 & 0 & 0 & 0 & 0 & 0 & 0 & 0 & 0\\\\0 & 0 & 0 & 0 & 1 & 0 & 0 & 0 & 0 & 0 & 0 & 0 & 0 & 0 & 0 & 0 & 0 & 0 & 0 & 0 & 0 & 0 & 0 & 0 & 0 & 0\\\\0 & 0 & 0 & 0 & 0 & 0 & 0 & 0 & 0 & 0 & 0 & 0 & 0 & 0 & 0 & 0 & 0 & 0 & 0 & 0 & 0 & 0 & 0 & 0 & 1 & 0\\\\0 & 0 & 0 & 0 & 0 & 0 & 0 & 0 & 0 & 0 & 0 & 1 & 0 & 0 & 0 & 0 & 0 & 0 & 0 & 0 & 0 & 0 & 0 & 0 & 0 & 0\\\\0 & 0 & 0 & 0 & 0 & 0 & 0 & 1 & 0 & 0 & 0 & 0 & 0 & 0 & 0 & 0 & 0 & 0 & 0 & 0 & 0 & 0 & 0 & 0 & 0 & 0\\\\0 & 1 & 0 & 0 & 0 & 0 & 0 & 0 & 0 & 0 & 0 & 0 & 0 & 0 & 0 & 0 & 0 & 0 & 0 & 0 & 0 & 0 & 0 & 0 & 0 & g^{OT}_{LE, 02} \\left(b^\\dagger_{OT, 02, 02} + b_{OT, 02, 02}\\right)\\\\0 & 0 & 0 & 0 & 0 & 1 & 0 & 0 & 0 & 0 & 0 & 0 & 0 & 0 & 0 & 0 & 0 & 0 & 0 & 0 & 0 & 0 & 0 & 0 & 0 & 0\\\\0 & 0 & 0 & 0 & 0 & 0 & 0 & 0 & 0 & 1 & 0 & 0 & 0 & 0 & 0 & 0 & 0 & 0 & 0 & 0 & 0 & 0 & 0 & 0 & 0 & 0\\\\0 & 0 & 0 & 0 & 0 & 0 & 0 & 0 & 1 & 0 & 0 & 0 & 0 & 0 & 0 & 0 & 0 & 0 & 0 & 0 & 0 & 0 & 0 & 0 & 0 & 0\\\\0 & 0 & 0 & 0 & 0 & 0 & 0 & 0 & 0 & 0 & 0 & 0 & 0 & 1 & 0 & 0 & 0 & 0 & 0 & 0 & 0 & 0 & 0 & 0 & 0 & 0\\\\0 & 0 & 0 & 0 & 0 & 0 & 0 & 0 & 0 & 0 & 0 & 0 & 0 & 0 & 1 & 0 & 0 & 0 & 0 & 0 & 0 & 0 & 0 & 0 & 0 & 0\\\\0 & 0 & 0 & 0 & 0 & 0 & 0 & 0 & 0 & 0 & 0 & 0 & 1 & 0 & 0 & 0 & 0 & 0 & 0 & 0 & 0 & 0 & 0 & 0 & 0 & g^{OT}_{CS, 02} \\left(b^\\dagger_{OT, 02, 02} + b_{OT, 02, 02}\\right)\\\\0 & 0 & 0 & 0 & 0 & 0 & 1 & 0 & 0 & 0 & 0 & 0 & 0 & 0 & 0 & 0 & 0 & 0 & 0 & 0 & 0 & 0 & 0 & 0 & 0 & 0\\\\0 & 0 & 0 & 1 & 0 & 0 & 0 & 0 & 0 & 0 & 0 & 0 & 0 & 0 & 0 & 0 & 0 & 0 & 0 & 0 & 0 & 0 & 0 & 0 & 0 & 0\\\\0 & 0 & 0 & 0 & 0 & 0 & 0 & 0 & 0 & 0 & 0 & 0 & 0 & 0 & 0 & 0 & 1 & 0 & 0 & 0 & 0 & 0 & 0 & 0 & 0 & 0\\\\0 & 0 & 0 & 0 & 0 & 0 & 0 & 0 & 0 & 0 & 0 & 0 & 0 & 0 & 0 & 0 & 0 & 0 & 0 & 0 & 0 & 0 & 1 & 0 & 0 & 0\\\\0 & 0 & 0 & 0 & 0 & 0 & 0 & 0 & 0 & 0 & 0 & 0 & 0 & 0 & 0 & 0 & 0 & 0 & 1 & 0 & 0 & 0 & 0 & 0 & 0 & 0\\\\0 & 0 & 0 & 0 & 0 & 0 & 0 & 0 & 0 & 0 & 0 & 0 & 0 & 0 & 0 & 0 & 0 & 0 & 0 & 0 & 0 & 1 & 0 & 0 & 0 & 0\\\\0 & 0 & 0 & 0 & 0 & 0 & 0 & 0 & 0 & 0 & 0 & 0 & 0 & 0 & 0 & 1 & 0 & 0 & 0 & 0 & 0 & 0 & 0 & 0 & 0 & 0\\\\0 & 0 & 0 & 0 & 0 & 0 & 0 & 0 & 0 & 0 & 0 & 0 & 0 & 0 & 0 & 0 & 0 & 0 & 0 & 0 & 1 & 0 & 0 & 0 & 0 & 0\\\\0 & 0 & 0 & 0 & 0 & 0 & 0 & 0 & 0 & 0 & 0 & 0 & 0 & 0 & 0 & 0 & 0 & 0 & 0 & 1 & 0 & 0 & 0 & 0 & 0 & ω^{OT}_2 b_{OT, 02, 02} b^\\dagger_{OT, 02, 02}\\\\0 & 0 & 0 & 0 & 0 & 0 & 0 & 0 & 0 & 0 & 1 & 0 & 0 & 0 & 0 & 0 & 0 & 0 & 0 & 0 & 0 & 0 & 0 & 0 & 0 & 0\\\\0 & 0 & 0 & 0 & 0 & 0 & 0 & 0 & 0 & 0 & 0 & 0 & 0 & 0 & 0 & 0 & 0 & 1 & 0 & 0 & 0 & 0 & 0 & 0 & 0 & 0\\\\0 & 0 & 0 & 0 & 0 & 0 & 0 & 0 & 0 & 0 & 0 & 0 & 0 & 0 & 0 & 0 & 0 & 0 & 0 & 0 & 0 & 0 & 0 & 1 & 0 & 0\\\\1 & 0 & 0 & 0 & 0 & 0 & 0 & 0 & 0 & 0 & 0 & 0 & 0 & 0 & 0 & 0 & 0 & 0 & 0 & 0 & 0 & 0 & 0 & 0 & 0 & 0\\\\0 & 0 & 0 & 0 & 0 & 0 & 0 & 0 & 0 & 0 & 0 & 0 & 0 & 0 & 0 & 0 & 0 & 0 & 0 & 0 & 0 & 0 & 0 & 0 & 0 & 1\\end{array}\\right]$"
      ],
      "text/plain": [
       "Matrix([\n",
       "[0, 0, 1, 0, 0, 0, 0, 0, 0, 0, 0, 0, 0, 0, 0, 0, 0, 0, 0, 0, 0, 0, 0, 0, 0,                                                         0],\n",
       "[0, 0, 0, 0, 1, 0, 0, 0, 0, 0, 0, 0, 0, 0, 0, 0, 0, 0, 0, 0, 0, 0, 0, 0, 0,                                                         0],\n",
       "[0, 0, 0, 0, 0, 0, 0, 0, 0, 0, 0, 0, 0, 0, 0, 0, 0, 0, 0, 0, 0, 0, 0, 0, 1,                                                         0],\n",
       "[0, 0, 0, 0, 0, 0, 0, 0, 0, 0, 0, 1, 0, 0, 0, 0, 0, 0, 0, 0, 0, 0, 0, 0, 0,                                                         0],\n",
       "[0, 0, 0, 0, 0, 0, 0, 1, 0, 0, 0, 0, 0, 0, 0, 0, 0, 0, 0, 0, 0, 0, 0, 0, 0,                                                         0],\n",
       "[0, 1, 0, 0, 0, 0, 0, 0, 0, 0, 0, 0, 0, 0, 0, 0, 0, 0, 0, 0, 0, 0, 0, 0, 0, g^{OT}_{LE, 02}*(b^\\dagger_{OT, 02, 02} + b_{OT, 02, 02})],\n",
       "[0, 0, 0, 0, 0, 1, 0, 0, 0, 0, 0, 0, 0, 0, 0, 0, 0, 0, 0, 0, 0, 0, 0, 0, 0,                                                         0],\n",
       "[0, 0, 0, 0, 0, 0, 0, 0, 0, 1, 0, 0, 0, 0, 0, 0, 0, 0, 0, 0, 0, 0, 0, 0, 0,                                                         0],\n",
       "[0, 0, 0, 0, 0, 0, 0, 0, 1, 0, 0, 0, 0, 0, 0, 0, 0, 0, 0, 0, 0, 0, 0, 0, 0,                                                         0],\n",
       "[0, 0, 0, 0, 0, 0, 0, 0, 0, 0, 0, 0, 0, 1, 0, 0, 0, 0, 0, 0, 0, 0, 0, 0, 0,                                                         0],\n",
       "[0, 0, 0, 0, 0, 0, 0, 0, 0, 0, 0, 0, 0, 0, 1, 0, 0, 0, 0, 0, 0, 0, 0, 0, 0,                                                         0],\n",
       "[0, 0, 0, 0, 0, 0, 0, 0, 0, 0, 0, 0, 1, 0, 0, 0, 0, 0, 0, 0, 0, 0, 0, 0, 0, g^{OT}_{CS, 02}*(b^\\dagger_{OT, 02, 02} + b_{OT, 02, 02})],\n",
       "[0, 0, 0, 0, 0, 0, 1, 0, 0, 0, 0, 0, 0, 0, 0, 0, 0, 0, 0, 0, 0, 0, 0, 0, 0,                                                         0],\n",
       "[0, 0, 0, 1, 0, 0, 0, 0, 0, 0, 0, 0, 0, 0, 0, 0, 0, 0, 0, 0, 0, 0, 0, 0, 0,                                                         0],\n",
       "[0, 0, 0, 0, 0, 0, 0, 0, 0, 0, 0, 0, 0, 0, 0, 0, 1, 0, 0, 0, 0, 0, 0, 0, 0,                                                         0],\n",
       "[0, 0, 0, 0, 0, 0, 0, 0, 0, 0, 0, 0, 0, 0, 0, 0, 0, 0, 0, 0, 0, 0, 1, 0, 0,                                                         0],\n",
       "[0, 0, 0, 0, 0, 0, 0, 0, 0, 0, 0, 0, 0, 0, 0, 0, 0, 0, 1, 0, 0, 0, 0, 0, 0,                                                         0],\n",
       "[0, 0, 0, 0, 0, 0, 0, 0, 0, 0, 0, 0, 0, 0, 0, 0, 0, 0, 0, 0, 0, 1, 0, 0, 0,                                                         0],\n",
       "[0, 0, 0, 0, 0, 0, 0, 0, 0, 0, 0, 0, 0, 0, 0, 1, 0, 0, 0, 0, 0, 0, 0, 0, 0,                                                         0],\n",
       "[0, 0, 0, 0, 0, 0, 0, 0, 0, 0, 0, 0, 0, 0, 0, 0, 0, 0, 0, 0, 1, 0, 0, 0, 0,                                                         0],\n",
       "[0, 0, 0, 0, 0, 0, 0, 0, 0, 0, 0, 0, 0, 0, 0, 0, 0, 0, 0, 1, 0, 0, 0, 0, 0,            ω^{OT}_2*b_{OT, 02, 02}*b^\\dagger_{OT, 02, 02}],\n",
       "[0, 0, 0, 0, 0, 0, 0, 0, 0, 0, 1, 0, 0, 0, 0, 0, 0, 0, 0, 0, 0, 0, 0, 0, 0,                                                         0],\n",
       "[0, 0, 0, 0, 0, 0, 0, 0, 0, 0, 0, 0, 0, 0, 0, 0, 0, 1, 0, 0, 0, 0, 0, 0, 0,                                                         0],\n",
       "[0, 0, 0, 0, 0, 0, 0, 0, 0, 0, 0, 0, 0, 0, 0, 0, 0, 0, 0, 0, 0, 0, 0, 1, 0,                                                         0],\n",
       "[1, 0, 0, 0, 0, 0, 0, 0, 0, 0, 0, 0, 0, 0, 0, 0, 0, 0, 0, 0, 0, 0, 0, 0, 0,                                                         0],\n",
       "[0, 0, 0, 0, 0, 0, 0, 0, 0, 0, 0, 0, 0, 0, 0, 0, 0, 0, 0, 0, 0, 0, 0, 0, 0,                                                         1]])"
      ]
     },
     "metadata": {},
     "output_type": "display_data"
    },
    {
     "data": {
      "text/latex": [
       "$\\displaystyle \\left[\\begin{array}{cccccccccccccccccccccccccc}0 & 0 & 0 & 0 & 0 & 0 & 0 & 0 & 0 & 0 & 0 & 0 & 0 & 0 & 0 & 0 & 0 & 0 & 1 & 0 & 0 & 0 & 0 & 0 & 0 & 0\\\\0 & 0 & 0 & 0 & 0 & 0 & 0 & 0 & 0 & 0 & 0 & 0 & 0 & 0 & 0 & 0 & 0 & 0 & 0 & 0 & 0 & 0 & 0 & 0 & 1 & g^{OT}_{LE, 03} \\left(b^\\dagger_{OT, 02, 03} + b_{OT, 02, 03}\\right)\\\\0 & 0 & 0 & 0 & 0 & 0 & 0 & 0 & 1 & 0 & 0 & 0 & 0 & 0 & 0 & 0 & 0 & 0 & 0 & 0 & 0 & 0 & 0 & 0 & 0 & 0\\\\0 & 0 & 0 & 0 & 0 & 0 & 0 & 0 & 0 & 0 & 0 & 0 & 0 & 0 & 0 & 0 & 0 & 0 & 0 & 0 & 1 & 0 & 0 & 0 & 0 & 0\\\\0 & 0 & 0 & 0 & 0 & 0 & 0 & 0 & 0 & 0 & 0 & 0 & 0 & 0 & 0 & 0 & 0 & 0 & 0 & 0 & 0 & 0 & 1 & 0 & 0 & 0\\\\0 & 0 & 0 & 0 & 0 & 0 & 0 & 0 & 0 & 1 & 0 & 0 & 0 & 0 & 0 & 0 & 0 & 0 & 0 & 0 & 0 & 0 & 0 & 0 & 0 & 0\\\\0 & 0 & 0 & 0 & 0 & 0 & 0 & 0 & 0 & 0 & 0 & 0 & 0 & 0 & 0 & 0 & 0 & 0 & 0 & 0 & 0 & 1 & 0 & 0 & 0 & 0\\\\0 & 0 & 0 & 0 & 0 & 0 & 0 & 0 & 0 & 0 & 0 & 0 & 0 & 1 & 0 & 0 & 0 & 0 & 0 & 0 & 0 & 0 & 0 & 0 & 0 & 0\\\\0 & 0 & 0 & 0 & 0 & 0 & 0 & 0 & 0 & 0 & 1 & 0 & 0 & 0 & 0 & 0 & 0 & 0 & 0 & 0 & 0 & 0 & 0 & 0 & 0 & 0\\\\0 & 0 & 1 & 0 & 0 & 0 & 0 & 0 & 0 & 0 & 0 & 0 & 0 & 0 & 0 & 0 & 0 & 0 & 0 & 0 & 0 & 0 & 0 & 0 & 0 & 0\\\\0 & 0 & 0 & 0 & 0 & 0 & 0 & 0 & 0 & 0 & 0 & 1 & 0 & 0 & 0 & 0 & 0 & 0 & 0 & 0 & 0 & 0 & 0 & 0 & 0 & 0\\\\0 & 0 & 0 & 0 & 0 & 0 & 0 & 0 & 0 & 0 & 0 & 0 & 0 & 0 & 0 & 1 & 0 & 0 & 0 & 0 & 0 & 0 & 0 & 0 & 0 & 0\\\\0 & 0 & 0 & 0 & 0 & 0 & 0 & 0 & 0 & 0 & 0 & 0 & 0 & 0 & 0 & 0 & 0 & 0 & 0 & 0 & 0 & 0 & 0 & 1 & 0 & g^{OT}_{CS, 03} \\left(b^\\dagger_{OT, 02, 03} + b_{OT, 02, 03}\\right)\\\\0 & 0 & 0 & 0 & 1 & 0 & 0 & 0 & 0 & 0 & 0 & 0 & 0 & 0 & 0 & 0 & 0 & 0 & 0 & 0 & 0 & 0 & 0 & 0 & 0 & 0\\\\0 & 1 & 0 & 0 & 0 & 0 & 0 & 0 & 0 & 0 & 0 & 0 & 0 & 0 & 0 & 0 & 0 & 0 & 0 & 0 & 0 & 0 & 0 & 0 & 0 & 0\\\\0 & 0 & 0 & 0 & 0 & 0 & 0 & 0 & 0 & 0 & 0 & 0 & 1 & 0 & 0 & 0 & 0 & 0 & 0 & 0 & 0 & 0 & 0 & 0 & 0 & 0\\\\1 & 0 & 0 & 0 & 0 & 0 & 0 & 0 & 0 & 0 & 0 & 0 & 0 & 0 & 0 & 0 & 0 & 0 & 0 & 0 & 0 & 0 & 0 & 0 & 0 & 0\\\\0 & 0 & 0 & 0 & 0 & 1 & 0 & 0 & 0 & 0 & 0 & 0 & 0 & 0 & 0 & 0 & 0 & 0 & 0 & 0 & 0 & 0 & 0 & 0 & 0 & 0\\\\0 & 0 & 0 & 0 & 0 & 0 & 0 & 0 & 0 & 0 & 0 & 0 & 0 & 0 & 0 & 0 & 0 & 0 & 0 & 1 & 0 & 0 & 0 & 0 & 0 & 0\\\\0 & 0 & 0 & 0 & 0 & 0 & 0 & 1 & 0 & 0 & 0 & 0 & 0 & 0 & 0 & 0 & 0 & 0 & 0 & 0 & 0 & 0 & 0 & 0 & 0 & ω^{OT}_3 b_{OT, 02, 03} b^\\dagger_{OT, 02, 03}\\\\0 & 0 & 0 & 0 & 0 & 0 & 0 & 0 & 0 & 0 & 0 & 0 & 0 & 0 & 1 & 0 & 0 & 0 & 0 & 0 & 0 & 0 & 0 & 0 & 0 & 0\\\\0 & 0 & 0 & 0 & 0 & 0 & 0 & 0 & 0 & 0 & 0 & 0 & 0 & 0 & 0 & 0 & 0 & 1 & 0 & 0 & 0 & 0 & 0 & 0 & 0 & 0\\\\0 & 0 & 0 & 0 & 0 & 0 & 1 & 0 & 0 & 0 & 0 & 0 & 0 & 0 & 0 & 0 & 0 & 0 & 0 & 0 & 0 & 0 & 0 & 0 & 0 & 0\\\\0 & 0 & 0 & 0 & 0 & 0 & 0 & 0 & 0 & 0 & 0 & 0 & 0 & 0 & 0 & 0 & 1 & 0 & 0 & 0 & 0 & 0 & 0 & 0 & 0 & 0\\\\0 & 0 & 0 & 1 & 0 & 0 & 0 & 0 & 0 & 0 & 0 & 0 & 0 & 0 & 0 & 0 & 0 & 0 & 0 & 0 & 0 & 0 & 0 & 0 & 0 & 0\\\\0 & 0 & 0 & 0 & 0 & 0 & 0 & 0 & 0 & 0 & 0 & 0 & 0 & 0 & 0 & 0 & 0 & 0 & 0 & 0 & 0 & 0 & 0 & 0 & 0 & 1\\end{array}\\right]$"
      ],
      "text/plain": [
       "Matrix([\n",
       "[0, 0, 0, 0, 0, 0, 0, 0, 0, 0, 0, 0, 0, 0, 0, 0, 0, 0, 1, 0, 0, 0, 0, 0, 0,                                                         0],\n",
       "[0, 0, 0, 0, 0, 0, 0, 0, 0, 0, 0, 0, 0, 0, 0, 0, 0, 0, 0, 0, 0, 0, 0, 0, 1, g^{OT}_{LE, 03}*(b^\\dagger_{OT, 02, 03} + b_{OT, 02, 03})],\n",
       "[0, 0, 0, 0, 0, 0, 0, 0, 1, 0, 0, 0, 0, 0, 0, 0, 0, 0, 0, 0, 0, 0, 0, 0, 0,                                                         0],\n",
       "[0, 0, 0, 0, 0, 0, 0, 0, 0, 0, 0, 0, 0, 0, 0, 0, 0, 0, 0, 0, 1, 0, 0, 0, 0,                                                         0],\n",
       "[0, 0, 0, 0, 0, 0, 0, 0, 0, 0, 0, 0, 0, 0, 0, 0, 0, 0, 0, 0, 0, 0, 1, 0, 0,                                                         0],\n",
       "[0, 0, 0, 0, 0, 0, 0, 0, 0, 1, 0, 0, 0, 0, 0, 0, 0, 0, 0, 0, 0, 0, 0, 0, 0,                                                         0],\n",
       "[0, 0, 0, 0, 0, 0, 0, 0, 0, 0, 0, 0, 0, 0, 0, 0, 0, 0, 0, 0, 0, 1, 0, 0, 0,                                                         0],\n",
       "[0, 0, 0, 0, 0, 0, 0, 0, 0, 0, 0, 0, 0, 1, 0, 0, 0, 0, 0, 0, 0, 0, 0, 0, 0,                                                         0],\n",
       "[0, 0, 0, 0, 0, 0, 0, 0, 0, 0, 1, 0, 0, 0, 0, 0, 0, 0, 0, 0, 0, 0, 0, 0, 0,                                                         0],\n",
       "[0, 0, 1, 0, 0, 0, 0, 0, 0, 0, 0, 0, 0, 0, 0, 0, 0, 0, 0, 0, 0, 0, 0, 0, 0,                                                         0],\n",
       "[0, 0, 0, 0, 0, 0, 0, 0, 0, 0, 0, 1, 0, 0, 0, 0, 0, 0, 0, 0, 0, 0, 0, 0, 0,                                                         0],\n",
       "[0, 0, 0, 0, 0, 0, 0, 0, 0, 0, 0, 0, 0, 0, 0, 1, 0, 0, 0, 0, 0, 0, 0, 0, 0,                                                         0],\n",
       "[0, 0, 0, 0, 0, 0, 0, 0, 0, 0, 0, 0, 0, 0, 0, 0, 0, 0, 0, 0, 0, 0, 0, 1, 0, g^{OT}_{CS, 03}*(b^\\dagger_{OT, 02, 03} + b_{OT, 02, 03})],\n",
       "[0, 0, 0, 0, 1, 0, 0, 0, 0, 0, 0, 0, 0, 0, 0, 0, 0, 0, 0, 0, 0, 0, 0, 0, 0,                                                         0],\n",
       "[0, 1, 0, 0, 0, 0, 0, 0, 0, 0, 0, 0, 0, 0, 0, 0, 0, 0, 0, 0, 0, 0, 0, 0, 0,                                                         0],\n",
       "[0, 0, 0, 0, 0, 0, 0, 0, 0, 0, 0, 0, 1, 0, 0, 0, 0, 0, 0, 0, 0, 0, 0, 0, 0,                                                         0],\n",
       "[1, 0, 0, 0, 0, 0, 0, 0, 0, 0, 0, 0, 0, 0, 0, 0, 0, 0, 0, 0, 0, 0, 0, 0, 0,                                                         0],\n",
       "[0, 0, 0, 0, 0, 1, 0, 0, 0, 0, 0, 0, 0, 0, 0, 0, 0, 0, 0, 0, 0, 0, 0, 0, 0,                                                         0],\n",
       "[0, 0, 0, 0, 0, 0, 0, 0, 0, 0, 0, 0, 0, 0, 0, 0, 0, 0, 0, 1, 0, 0, 0, 0, 0,                                                         0],\n",
       "[0, 0, 0, 0, 0, 0, 0, 1, 0, 0, 0, 0, 0, 0, 0, 0, 0, 0, 0, 0, 0, 0, 0, 0, 0,            ω^{OT}_3*b_{OT, 02, 03}*b^\\dagger_{OT, 02, 03}],\n",
       "[0, 0, 0, 0, 0, 0, 0, 0, 0, 0, 0, 0, 0, 0, 1, 0, 0, 0, 0, 0, 0, 0, 0, 0, 0,                                                         0],\n",
       "[0, 0, 0, 0, 0, 0, 0, 0, 0, 0, 0, 0, 0, 0, 0, 0, 0, 1, 0, 0, 0, 0, 0, 0, 0,                                                         0],\n",
       "[0, 0, 0, 0, 0, 0, 1, 0, 0, 0, 0, 0, 0, 0, 0, 0, 0, 0, 0, 0, 0, 0, 0, 0, 0,                                                         0],\n",
       "[0, 0, 0, 0, 0, 0, 0, 0, 0, 0, 0, 0, 0, 0, 0, 0, 1, 0, 0, 0, 0, 0, 0, 0, 0,                                                         0],\n",
       "[0, 0, 0, 1, 0, 0, 0, 0, 0, 0, 0, 0, 0, 0, 0, 0, 0, 0, 0, 0, 0, 0, 0, 0, 0,                                                         0],\n",
       "[0, 0, 0, 0, 0, 0, 0, 0, 0, 0, 0, 0, 0, 0, 0, 0, 0, 0, 0, 0, 0, 0, 0, 0, 0,                                                         1]])"
      ]
     },
     "metadata": {},
     "output_type": "display_data"
    },
    {
     "data": {
      "text/latex": [
       "$\\displaystyle \\left[\\begin{array}{cccccccccccccccccccccccccc}0 & 0 & 0 & 0 & 0 & 0 & 0 & 1 & 0 & 0 & 0 & 0 & 0 & 0 & 0 & 0 & 0 & 0 & 0 & 0 & 0 & 0 & 0 & 0 & 0 & 0\\\\0 & 0 & 0 & 0 & 0 & 0 & 0 & 0 & 0 & 0 & 0 & 0 & 0 & 0 & 0 & 0 & 0 & 0 & 1 & 0 & 0 & 0 & 0 & 0 & 0 & 0\\\\0 & 0 & 0 & 0 & 0 & 0 & 0 & 0 & 0 & 0 & 0 & 1 & 0 & 0 & 0 & 0 & 0 & 0 & 0 & 0 & 0 & 0 & 0 & 0 & 0 & 0\\\\1 & 0 & 0 & 0 & 0 & 0 & 0 & 0 & 0 & 0 & 0 & 0 & 0 & 0 & 0 & 0 & 0 & 0 & 0 & 0 & 0 & 0 & 0 & 0 & 0 & 0\\\\0 & 0 & 0 & 0 & 0 & 0 & 0 & 0 & 0 & 0 & 0 & 0 & 0 & 0 & 0 & 0 & 0 & 0 & 0 & 0 & 0 & 1 & 0 & 0 & 0 & 0\\\\0 & 0 & 0 & 0 & 0 & 0 & 0 & 0 & 0 & 0 & 1 & 0 & 0 & 0 & 0 & 0 & 0 & 0 & 0 & 0 & 0 & 0 & 0 & 0 & 0 & 0\\\\0 & 0 & 0 & 1 & 0 & 0 & 0 & 0 & 0 & 0 & 0 & 0 & 0 & 0 & 0 & 0 & 0 & 0 & 0 & 0 & 0 & 0 & 0 & 0 & 0 & 0\\\\0 & 0 & 0 & 0 & 1 & 0 & 0 & 0 & 0 & 0 & 0 & 0 & 0 & 0 & 0 & 0 & 0 & 0 & 0 & 0 & 0 & 0 & 0 & 0 & 0 & ω^{OT}_4 b_{OT, 02, 04} b^\\dagger_{OT, 02, 04}\\\\0 & 0 & 0 & 0 & 0 & 0 & 0 & 0 & 0 & 0 & 0 & 0 & 0 & 1 & 0 & 0 & 0 & 0 & 0 & 0 & 0 & 0 & 0 & 0 & 0 & 0\\\\0 & 0 & 1 & 0 & 0 & 0 & 0 & 0 & 0 & 0 & 0 & 0 & 0 & 0 & 0 & 0 & 0 & 0 & 0 & 0 & 0 & 0 & 0 & 0 & 0 & 0\\\\0 & 0 & 0 & 0 & 0 & 0 & 0 & 0 & 1 & 0 & 0 & 0 & 0 & 0 & 0 & 0 & 0 & 0 & 0 & 0 & 0 & 0 & 0 & 0 & 0 & 0\\\\0 & 0 & 0 & 0 & 0 & 0 & 0 & 0 & 0 & 0 & 0 & 0 & 1 & 0 & 0 & 0 & 0 & 0 & 0 & 0 & 0 & 0 & 0 & 0 & 0 & 0\\\\0 & 0 & 0 & 0 & 0 & 1 & 0 & 0 & 0 & 0 & 0 & 0 & 0 & 0 & 0 & 0 & 0 & 0 & 0 & 0 & 0 & 0 & 0 & 0 & 0 & 0\\\\0 & 1 & 0 & 0 & 0 & 0 & 0 & 0 & 0 & 0 & 0 & 0 & 0 & 0 & 0 & 0 & 0 & 0 & 0 & 0 & 0 & 0 & 0 & 0 & 0 & 0\\\\0 & 0 & 0 & 0 & 0 & 0 & 0 & 0 & 0 & 0 & 0 & 0 & 0 & 0 & 0 & 0 & 0 & 1 & 0 & 0 & 0 & 0 & 0 & 0 & 0 & 0\\\\0 & 0 & 0 & 0 & 0 & 0 & 0 & 0 & 0 & 0 & 0 & 0 & 0 & 0 & 0 & 0 & 0 & 0 & 0 & 0 & 0 & 0 & 0 & 0 & 1 & 0\\\\0 & 0 & 0 & 0 & 0 & 0 & 0 & 0 & 0 & 0 & 0 & 0 & 0 & 0 & 0 & 0 & 0 & 0 & 0 & 0 & 0 & 0 & 0 & 1 & 0 & 0\\\\0 & 0 & 0 & 0 & 0 & 0 & 0 & 0 & 0 & 0 & 0 & 0 & 0 & 0 & 0 & 0 & 0 & 0 & 0 & 0 & 0 & 0 & 1 & 0 & 0 & 0\\\\0 & 0 & 0 & 0 & 0 & 0 & 0 & 0 & 0 & 0 & 0 & 0 & 0 & 0 & 0 & 0 & 1 & 0 & 0 & 0 & 0 & 0 & 0 & 0 & 0 & 0\\\\0 & 0 & 0 & 0 & 0 & 0 & 0 & 0 & 0 & 0 & 0 & 0 & 0 & 0 & 0 & 0 & 0 & 0 & 0 & 0 & 1 & 0 & 0 & 0 & 0 & 0\\\\0 & 0 & 0 & 0 & 0 & 0 & 0 & 0 & 0 & 0 & 0 & 0 & 0 & 0 & 0 & 0 & 0 & 0 & 0 & 1 & 0 & 0 & 0 & 0 & 0 & 0\\\\0 & 0 & 0 & 0 & 0 & 0 & 0 & 0 & 0 & 0 & 0 & 0 & 0 & 0 & 1 & 0 & 0 & 0 & 0 & 0 & 0 & 0 & 0 & 0 & 0 & 0\\\\0 & 0 & 0 & 0 & 0 & 0 & 1 & 0 & 0 & 0 & 0 & 0 & 0 & 0 & 0 & 0 & 0 & 0 & 0 & 0 & 0 & 0 & 0 & 0 & 0 & 0\\\\0 & 0 & 0 & 0 & 0 & 0 & 0 & 0 & 0 & 0 & 0 & 0 & 0 & 0 & 0 & 1 & 0 & 0 & 0 & 0 & 0 & 0 & 0 & 0 & 0 & g^{OT}_{CS, 04} \\left(b^\\dagger_{OT, 02, 04} + b_{OT, 02, 04}\\right)\\\\0 & 0 & 0 & 0 & 0 & 0 & 0 & 0 & 0 & 1 & 0 & 0 & 0 & 0 & 0 & 0 & 0 & 0 & 0 & 0 & 0 & 0 & 0 & 0 & 0 & g^{OT}_{LE, 04} \\left(b^\\dagger_{OT, 02, 04} + b_{OT, 02, 04}\\right)\\\\0 & 0 & 0 & 0 & 0 & 0 & 0 & 0 & 0 & 0 & 0 & 0 & 0 & 0 & 0 & 0 & 0 & 0 & 0 & 0 & 0 & 0 & 0 & 0 & 0 & 1\\end{array}\\right]$"
      ],
      "text/plain": [
       "Matrix([\n",
       "[0, 0, 0, 0, 0, 0, 0, 1, 0, 0, 0, 0, 0, 0, 0, 0, 0, 0, 0, 0, 0, 0, 0, 0, 0,                                                         0],\n",
       "[0, 0, 0, 0, 0, 0, 0, 0, 0, 0, 0, 0, 0, 0, 0, 0, 0, 0, 1, 0, 0, 0, 0, 0, 0,                                                         0],\n",
       "[0, 0, 0, 0, 0, 0, 0, 0, 0, 0, 0, 1, 0, 0, 0, 0, 0, 0, 0, 0, 0, 0, 0, 0, 0,                                                         0],\n",
       "[1, 0, 0, 0, 0, 0, 0, 0, 0, 0, 0, 0, 0, 0, 0, 0, 0, 0, 0, 0, 0, 0, 0, 0, 0,                                                         0],\n",
       "[0, 0, 0, 0, 0, 0, 0, 0, 0, 0, 0, 0, 0, 0, 0, 0, 0, 0, 0, 0, 0, 1, 0, 0, 0,                                                         0],\n",
       "[0, 0, 0, 0, 0, 0, 0, 0, 0, 0, 1, 0, 0, 0, 0, 0, 0, 0, 0, 0, 0, 0, 0, 0, 0,                                                         0],\n",
       "[0, 0, 0, 1, 0, 0, 0, 0, 0, 0, 0, 0, 0, 0, 0, 0, 0, 0, 0, 0, 0, 0, 0, 0, 0,                                                         0],\n",
       "[0, 0, 0, 0, 1, 0, 0, 0, 0, 0, 0, 0, 0, 0, 0, 0, 0, 0, 0, 0, 0, 0, 0, 0, 0,            ω^{OT}_4*b_{OT, 02, 04}*b^\\dagger_{OT, 02, 04}],\n",
       "[0, 0, 0, 0, 0, 0, 0, 0, 0, 0, 0, 0, 0, 1, 0, 0, 0, 0, 0, 0, 0, 0, 0, 0, 0,                                                         0],\n",
       "[0, 0, 1, 0, 0, 0, 0, 0, 0, 0, 0, 0, 0, 0, 0, 0, 0, 0, 0, 0, 0, 0, 0, 0, 0,                                                         0],\n",
       "[0, 0, 0, 0, 0, 0, 0, 0, 1, 0, 0, 0, 0, 0, 0, 0, 0, 0, 0, 0, 0, 0, 0, 0, 0,                                                         0],\n",
       "[0, 0, 0, 0, 0, 0, 0, 0, 0, 0, 0, 0, 1, 0, 0, 0, 0, 0, 0, 0, 0, 0, 0, 0, 0,                                                         0],\n",
       "[0, 0, 0, 0, 0, 1, 0, 0, 0, 0, 0, 0, 0, 0, 0, 0, 0, 0, 0, 0, 0, 0, 0, 0, 0,                                                         0],\n",
       "[0, 1, 0, 0, 0, 0, 0, 0, 0, 0, 0, 0, 0, 0, 0, 0, 0, 0, 0, 0, 0, 0, 0, 0, 0,                                                         0],\n",
       "[0, 0, 0, 0, 0, 0, 0, 0, 0, 0, 0, 0, 0, 0, 0, 0, 0, 1, 0, 0, 0, 0, 0, 0, 0,                                                         0],\n",
       "[0, 0, 0, 0, 0, 0, 0, 0, 0, 0, 0, 0, 0, 0, 0, 0, 0, 0, 0, 0, 0, 0, 0, 0, 1,                                                         0],\n",
       "[0, 0, 0, 0, 0, 0, 0, 0, 0, 0, 0, 0, 0, 0, 0, 0, 0, 0, 0, 0, 0, 0, 0, 1, 0,                                                         0],\n",
       "[0, 0, 0, 0, 0, 0, 0, 0, 0, 0, 0, 0, 0, 0, 0, 0, 0, 0, 0, 0, 0, 0, 1, 0, 0,                                                         0],\n",
       "[0, 0, 0, 0, 0, 0, 0, 0, 0, 0, 0, 0, 0, 0, 0, 0, 1, 0, 0, 0, 0, 0, 0, 0, 0,                                                         0],\n",
       "[0, 0, 0, 0, 0, 0, 0, 0, 0, 0, 0, 0, 0, 0, 0, 0, 0, 0, 0, 0, 1, 0, 0, 0, 0,                                                         0],\n",
       "[0, 0, 0, 0, 0, 0, 0, 0, 0, 0, 0, 0, 0, 0, 0, 0, 0, 0, 0, 1, 0, 0, 0, 0, 0,                                                         0],\n",
       "[0, 0, 0, 0, 0, 0, 0, 0, 0, 0, 0, 0, 0, 0, 1, 0, 0, 0, 0, 0, 0, 0, 0, 0, 0,                                                         0],\n",
       "[0, 0, 0, 0, 0, 0, 1, 0, 0, 0, 0, 0, 0, 0, 0, 0, 0, 0, 0, 0, 0, 0, 0, 0, 0,                                                         0],\n",
       "[0, 0, 0, 0, 0, 0, 0, 0, 0, 0, 0, 0, 0, 0, 0, 1, 0, 0, 0, 0, 0, 0, 0, 0, 0, g^{OT}_{CS, 04}*(b^\\dagger_{OT, 02, 04} + b_{OT, 02, 04})],\n",
       "[0, 0, 0, 0, 0, 0, 0, 0, 0, 1, 0, 0, 0, 0, 0, 0, 0, 0, 0, 0, 0, 0, 0, 0, 0, g^{OT}_{LE, 04}*(b^\\dagger_{OT, 02, 04} + b_{OT, 02, 04})],\n",
       "[0, 0, 0, 0, 0, 0, 0, 0, 0, 0, 0, 0, 0, 0, 0, 0, 0, 0, 0, 0, 0, 0, 0, 0, 0,                                                         1]])"
      ]
     },
     "metadata": {},
     "output_type": "display_data"
    },
    {
     "data": {
      "text/latex": [
       "$\\displaystyle \\left[\\begin{array}{cccccccccccccccccccccccccc}0 & 0 & 0 & 0 & 0 & 0 & 0 & 0 & 0 & 0 & 0 & 0 & 0 & 0 & 0 & 0 & 0 & 0 & 0 & 0 & 0 & 0 & 0 & 1 & 0 & 0\\\\0 & 0 & 0 & 0 & 0 & 0 & 0 & 0 & 0 & 0 & 0 & 0 & 0 & 0 & 0 & 0 & 0 & 0 & 0 & 0 & 1 & 0 & 0 & 0 & 0 & 0\\\\0 & 0 & 1 & 0 & 0 & 0 & 0 & 0 & 0 & 0 & 0 & 0 & 0 & 0 & 0 & 0 & 0 & 0 & 0 & 0 & 0 & 0 & 0 & 0 & 0 & 0\\\\0 & 0 & 0 & 0 & 0 & 0 & 0 & 0 & 0 & 0 & 0 & 0 & 0 & 0 & 0 & 0 & 0 & 0 & 0 & 1 & 0 & 0 & 0 & 0 & 0 & 0\\\\0 & 0 & 0 & 0 & 0 & 0 & 0 & 0 & 0 & 0 & 0 & 0 & 0 & 0 & 1 & 0 & 0 & 0 & 0 & 0 & 0 & 0 & 0 & 0 & 0 & ω^{OT}_5 b_{OT, 02, 05} b^\\dagger_{OT, 02, 05}\\\\0 & 0 & 0 & 0 & 0 & 0 & 0 & 0 & 0 & 0 & 0 & 0 & 0 & 0 & 0 & 0 & 0 & 0 & 1 & 0 & 0 & 0 & 0 & 0 & 0 & 0\\\\0 & 0 & 0 & 0 & 1 & 0 & 0 & 0 & 0 & 0 & 0 & 0 & 0 & 0 & 0 & 0 & 0 & 0 & 0 & 0 & 0 & 0 & 0 & 0 & 0 & 0\\\\0 & 0 & 0 & 0 & 0 & 0 & 0 & 0 & 0 & 0 & 0 & 0 & 0 & 0 & 0 & 0 & 0 & 0 & 0 & 0 & 0 & 0 & 0 & 0 & 1 & 0\\\\0 & 0 & 0 & 0 & 0 & 0 & 0 & 0 & 0 & 1 & 0 & 0 & 0 & 0 & 0 & 0 & 0 & 0 & 0 & 0 & 0 & 0 & 0 & 0 & 0 & 0\\\\0 & 0 & 0 & 0 & 0 & 0 & 0 & 0 & 0 & 0 & 0 & 0 & 0 & 0 & 0 & 1 & 0 & 0 & 0 & 0 & 0 & 0 & 0 & 0 & 0 & g^{OT}_{LE, 05} \\left(b^\\dagger_{OT, 02, 05} + b_{OT, 02, 05}\\right)\\\\0 & 0 & 0 & 0 & 0 & 0 & 0 & 0 & 0 & 0 & 0 & 0 & 1 & 0 & 0 & 0 & 0 & 0 & 0 & 0 & 0 & 0 & 0 & 0 & 0 & 0\\\\0 & 0 & 0 & 0 & 0 & 0 & 0 & 0 & 0 & 0 & 0 & 0 & 0 & 1 & 0 & 0 & 0 & 0 & 0 & 0 & 0 & 0 & 0 & 0 & 0 & 0\\\\0 & 0 & 0 & 0 & 0 & 0 & 0 & 0 & 0 & 0 & 0 & 0 & 0 & 0 & 0 & 0 & 0 & 1 & 0 & 0 & 0 & 0 & 0 & 0 & 0 & 0\\\\0 & 0 & 0 & 0 & 0 & 0 & 0 & 0 & 0 & 0 & 0 & 0 & 0 & 0 & 0 & 0 & 1 & 0 & 0 & 0 & 0 & 0 & 0 & 0 & 0 & 0\\\\0 & 0 & 0 & 0 & 0 & 0 & 0 & 0 & 0 & 0 & 0 & 0 & 0 & 0 & 0 & 0 & 0 & 0 & 0 & 0 & 0 & 0 & 1 & 0 & 0 & 0\\\\0 & 0 & 0 & 0 & 0 & 0 & 0 & 0 & 0 & 0 & 0 & 1 & 0 & 0 & 0 & 0 & 0 & 0 & 0 & 0 & 0 & 0 & 0 & 0 & 0 & g^{OT}_{CS, 05} \\left(b^\\dagger_{OT, 02, 05} + b_{OT, 02, 05}\\right)\\\\1 & 0 & 0 & 0 & 0 & 0 & 0 & 0 & 0 & 0 & 0 & 0 & 0 & 0 & 0 & 0 & 0 & 0 & 0 & 0 & 0 & 0 & 0 & 0 & 0 & 0\\\\0 & 0 & 0 & 0 & 0 & 0 & 0 & 0 & 0 & 0 & 1 & 0 & 0 & 0 & 0 & 0 & 0 & 0 & 0 & 0 & 0 & 0 & 0 & 0 & 0 & 0\\\\0 & 0 & 0 & 1 & 0 & 0 & 0 & 0 & 0 & 0 & 0 & 0 & 0 & 0 & 0 & 0 & 0 & 0 & 0 & 0 & 0 & 0 & 0 & 0 & 0 & 0\\\\0 & 0 & 0 & 0 & 0 & 0 & 1 & 0 & 0 & 0 & 0 & 0 & 0 & 0 & 0 & 0 & 0 & 0 & 0 & 0 & 0 & 0 & 0 & 0 & 0 & 0\\\\0 & 0 & 0 & 0 & 0 & 0 & 0 & 0 & 0 & 0 & 0 & 0 & 0 & 0 & 0 & 0 & 0 & 0 & 0 & 0 & 0 & 1 & 0 & 0 & 0 & 0\\\\0 & 0 & 0 & 0 & 0 & 0 & 0 & 1 & 0 & 0 & 0 & 0 & 0 & 0 & 0 & 0 & 0 & 0 & 0 & 0 & 0 & 0 & 0 & 0 & 0 & 0\\\\0 & 0 & 0 & 0 & 0 & 1 & 0 & 0 & 0 & 0 & 0 & 0 & 0 & 0 & 0 & 0 & 0 & 0 & 0 & 0 & 0 & 0 & 0 & 0 & 0 & 0\\\\0 & 1 & 0 & 0 & 0 & 0 & 0 & 0 & 0 & 0 & 0 & 0 & 0 & 0 & 0 & 0 & 0 & 0 & 0 & 0 & 0 & 0 & 0 & 0 & 0 & 0\\\\0 & 0 & 0 & 0 & 0 & 0 & 0 & 0 & 1 & 0 & 0 & 0 & 0 & 0 & 0 & 0 & 0 & 0 & 0 & 0 & 0 & 0 & 0 & 0 & 0 & 0\\\\0 & 0 & 0 & 0 & 0 & 0 & 0 & 0 & 0 & 0 & 0 & 0 & 0 & 0 & 0 & 0 & 0 & 0 & 0 & 0 & 0 & 0 & 0 & 0 & 0 & 1\\end{array}\\right]$"
      ],
      "text/plain": [
       "Matrix([\n",
       "[0, 0, 0, 0, 0, 0, 0, 0, 0, 0, 0, 0, 0, 0, 0, 0, 0, 0, 0, 0, 0, 0, 0, 1, 0,                                                         0],\n",
       "[0, 0, 0, 0, 0, 0, 0, 0, 0, 0, 0, 0, 0, 0, 0, 0, 0, 0, 0, 0, 1, 0, 0, 0, 0,                                                         0],\n",
       "[0, 0, 1, 0, 0, 0, 0, 0, 0, 0, 0, 0, 0, 0, 0, 0, 0, 0, 0, 0, 0, 0, 0, 0, 0,                                                         0],\n",
       "[0, 0, 0, 0, 0, 0, 0, 0, 0, 0, 0, 0, 0, 0, 0, 0, 0, 0, 0, 1, 0, 0, 0, 0, 0,                                                         0],\n",
       "[0, 0, 0, 0, 0, 0, 0, 0, 0, 0, 0, 0, 0, 0, 1, 0, 0, 0, 0, 0, 0, 0, 0, 0, 0,            ω^{OT}_5*b_{OT, 02, 05}*b^\\dagger_{OT, 02, 05}],\n",
       "[0, 0, 0, 0, 0, 0, 0, 0, 0, 0, 0, 0, 0, 0, 0, 0, 0, 0, 1, 0, 0, 0, 0, 0, 0,                                                         0],\n",
       "[0, 0, 0, 0, 1, 0, 0, 0, 0, 0, 0, 0, 0, 0, 0, 0, 0, 0, 0, 0, 0, 0, 0, 0, 0,                                                         0],\n",
       "[0, 0, 0, 0, 0, 0, 0, 0, 0, 0, 0, 0, 0, 0, 0, 0, 0, 0, 0, 0, 0, 0, 0, 0, 1,                                                         0],\n",
       "[0, 0, 0, 0, 0, 0, 0, 0, 0, 1, 0, 0, 0, 0, 0, 0, 0, 0, 0, 0, 0, 0, 0, 0, 0,                                                         0],\n",
       "[0, 0, 0, 0, 0, 0, 0, 0, 0, 0, 0, 0, 0, 0, 0, 1, 0, 0, 0, 0, 0, 0, 0, 0, 0, g^{OT}_{LE, 05}*(b^\\dagger_{OT, 02, 05} + b_{OT, 02, 05})],\n",
       "[0, 0, 0, 0, 0, 0, 0, 0, 0, 0, 0, 0, 1, 0, 0, 0, 0, 0, 0, 0, 0, 0, 0, 0, 0,                                                         0],\n",
       "[0, 0, 0, 0, 0, 0, 0, 0, 0, 0, 0, 0, 0, 1, 0, 0, 0, 0, 0, 0, 0, 0, 0, 0, 0,                                                         0],\n",
       "[0, 0, 0, 0, 0, 0, 0, 0, 0, 0, 0, 0, 0, 0, 0, 0, 0, 1, 0, 0, 0, 0, 0, 0, 0,                                                         0],\n",
       "[0, 0, 0, 0, 0, 0, 0, 0, 0, 0, 0, 0, 0, 0, 0, 0, 1, 0, 0, 0, 0, 0, 0, 0, 0,                                                         0],\n",
       "[0, 0, 0, 0, 0, 0, 0, 0, 0, 0, 0, 0, 0, 0, 0, 0, 0, 0, 0, 0, 0, 0, 1, 0, 0,                                                         0],\n",
       "[0, 0, 0, 0, 0, 0, 0, 0, 0, 0, 0, 1, 0, 0, 0, 0, 0, 0, 0, 0, 0, 0, 0, 0, 0, g^{OT}_{CS, 05}*(b^\\dagger_{OT, 02, 05} + b_{OT, 02, 05})],\n",
       "[1, 0, 0, 0, 0, 0, 0, 0, 0, 0, 0, 0, 0, 0, 0, 0, 0, 0, 0, 0, 0, 0, 0, 0, 0,                                                         0],\n",
       "[0, 0, 0, 0, 0, 0, 0, 0, 0, 0, 1, 0, 0, 0, 0, 0, 0, 0, 0, 0, 0, 0, 0, 0, 0,                                                         0],\n",
       "[0, 0, 0, 1, 0, 0, 0, 0, 0, 0, 0, 0, 0, 0, 0, 0, 0, 0, 0, 0, 0, 0, 0, 0, 0,                                                         0],\n",
       "[0, 0, 0, 0, 0, 0, 1, 0, 0, 0, 0, 0, 0, 0, 0, 0, 0, 0, 0, 0, 0, 0, 0, 0, 0,                                                         0],\n",
       "[0, 0, 0, 0, 0, 0, 0, 0, 0, 0, 0, 0, 0, 0, 0, 0, 0, 0, 0, 0, 0, 1, 0, 0, 0,                                                         0],\n",
       "[0, 0, 0, 0, 0, 0, 0, 1, 0, 0, 0, 0, 0, 0, 0, 0, 0, 0, 0, 0, 0, 0, 0, 0, 0,                                                         0],\n",
       "[0, 0, 0, 0, 0, 1, 0, 0, 0, 0, 0, 0, 0, 0, 0, 0, 0, 0, 0, 0, 0, 0, 0, 0, 0,                                                         0],\n",
       "[0, 1, 0, 0, 0, 0, 0, 0, 0, 0, 0, 0, 0, 0, 0, 0, 0, 0, 0, 0, 0, 0, 0, 0, 0,                                                         0],\n",
       "[0, 0, 0, 0, 0, 0, 0, 0, 1, 0, 0, 0, 0, 0, 0, 0, 0, 0, 0, 0, 0, 0, 0, 0, 0,                                                         0],\n",
       "[0, 0, 0, 0, 0, 0, 0, 0, 0, 0, 0, 0, 0, 0, 0, 0, 0, 0, 0, 0, 0, 0, 0, 0, 0,                                                         1]])"
      ]
     },
     "metadata": {},
     "output_type": "display_data"
    },
    {
     "data": {
      "text/latex": [
       "$\\displaystyle \\left[\\begin{array}{cccccccccccccccccccccccccc}0 & 0 & 0 & 0 & 0 & 0 & 0 & 0 & 0 & 0 & 0 & 0 & 0 & 0 & 1 & 0 & 0 & 0 & 0 & 0 & 0 & 0 & 0 & 0 & 0 & 0\\\\0 & 0 & 0 & 0 & 0 & 0 & 0 & 0 & 0 & 0 & 1 & 0 & 0 & 0 & 0 & 0 & 0 & 0 & 0 & 0 & 0 & 0 & 0 & 0 & 0 & 0\\\\0 & 0 & 0 & 0 & 0 & 0 & 0 & 0 & 0 & 0 & 0 & 0 & 0 & 0 & 0 & 0 & 1 & 0 & 0 & 0 & 0 & 0 & 0 & 0 & 0 & 0\\\\0 & 0 & 0 & 0 & 0 & 0 & 0 & 0 & 0 & 0 & 0 & 0 & 0 & 0 & 0 & 0 & 0 & 0 & 0 & 0 & 0 & 0 & 1 & 0 & 0 & 0\\\\0 & 0 & 0 & 0 & 0 & 0 & 0 & 0 & 0 & 0 & 0 & 0 & 0 & 0 & 0 & 0 & 0 & 0 & 0 & 0 & 0 & 0 & 0 & 1 & 0 & 0\\\\0 & 0 & 0 & 0 & 0 & 0 & 0 & 0 & 0 & 0 & 0 & 0 & 1 & 0 & 0 & 0 & 0 & 0 & 0 & 0 & 0 & 0 & 0 & 0 & 0 & 0\\\\0 & 0 & 0 & 0 & 0 & 0 & 0 & 0 & 0 & 0 & 0 & 0 & 0 & 0 & 0 & 0 & 0 & 0 & 1 & 0 & 0 & 0 & 0 & 0 & 0 & 0\\\\0 & 0 & 0 & 0 & 0 & 0 & 0 & 0 & 0 & 0 & 0 & 0 & 0 & 1 & 0 & 0 & 0 & 0 & 0 & 0 & 0 & 0 & 0 & 0 & 0 & 0\\\\0 & 0 & 0 & 0 & 0 & 0 & 0 & 1 & 0 & 0 & 0 & 0 & 0 & 0 & 0 & 0 & 0 & 0 & 0 & 0 & 0 & 0 & 0 & 0 & 0 & 0\\\\0 & 0 & 0 & 0 & 1 & 0 & 0 & 0 & 0 & 0 & 0 & 0 & 0 & 0 & 0 & 0 & 0 & 0 & 0 & 0 & 0 & 0 & 0 & 0 & 0 & 0\\\\0 & 0 & 0 & 0 & 0 & 0 & 1 & 0 & 0 & 0 & 0 & 0 & 0 & 0 & 0 & 0 & 0 & 0 & 0 & 0 & 0 & 0 & 0 & 0 & 0 & 0\\\\0 & 0 & 0 & 0 & 0 & 1 & 0 & 0 & 0 & 0 & 0 & 0 & 0 & 0 & 0 & 0 & 0 & 0 & 0 & 0 & 0 & 0 & 0 & 0 & 0 & g^{OT}_{CS, 06} \\left(b^\\dagger_{OT, 02, 06} + b_{OT, 02, 06}\\right)\\\\0 & 0 & 0 & 0 & 0 & 0 & 0 & 0 & 0 & 0 & 0 & 0 & 0 & 0 & 0 & 0 & 0 & 0 & 0 & 0 & 0 & 0 & 0 & 0 & 1 & 0\\\\0 & 0 & 0 & 0 & 0 & 0 & 0 & 0 & 0 & 0 & 0 & 0 & 0 & 0 & 0 & 0 & 0 & 0 & 0 & 0 & 1 & 0 & 0 & 0 & 0 & 0\\\\0 & 0 & 0 & 1 & 0 & 0 & 0 & 0 & 0 & 0 & 0 & 0 & 0 & 0 & 0 & 0 & 0 & 0 & 0 & 0 & 0 & 0 & 0 & 0 & 0 & ω^{OT}_6 b_{OT, 02, 06} b^\\dagger_{OT, 02, 06}\\\\0 & 0 & 0 & 0 & 0 & 0 & 0 & 0 & 0 & 0 & 0 & 0 & 0 & 0 & 0 & 0 & 0 & 0 & 0 & 1 & 0 & 0 & 0 & 0 & 0 & g^{OT}_{LE, 06} \\left(b^\\dagger_{OT, 02, 06} + b_{OT, 02, 06}\\right)\\\\0 & 0 & 0 & 0 & 0 & 0 & 0 & 0 & 1 & 0 & 0 & 0 & 0 & 0 & 0 & 0 & 0 & 0 & 0 & 0 & 0 & 0 & 0 & 0 & 0 & 0\\\\0 & 0 & 0 & 0 & 0 & 0 & 0 & 0 & 0 & 0 & 0 & 0 & 0 & 0 & 0 & 0 & 0 & 0 & 0 & 0 & 0 & 1 & 0 & 0 & 0 & 0\\\\0 & 0 & 0 & 0 & 0 & 0 & 0 & 0 & 0 & 0 & 0 & 1 & 0 & 0 & 0 & 0 & 0 & 0 & 0 & 0 & 0 & 0 & 0 & 0 & 0 & 0\\\\1 & 0 & 0 & 0 & 0 & 0 & 0 & 0 & 0 & 0 & 0 & 0 & 0 & 0 & 0 & 0 & 0 & 0 & 0 & 0 & 0 & 0 & 0 & 0 & 0 & 0\\\\0 & 1 & 0 & 0 & 0 & 0 & 0 & 0 & 0 & 0 & 0 & 0 & 0 & 0 & 0 & 0 & 0 & 0 & 0 & 0 & 0 & 0 & 0 & 0 & 0 & 0\\\\0 & 0 & 1 & 0 & 0 & 0 & 0 & 0 & 0 & 0 & 0 & 0 & 0 & 0 & 0 & 0 & 0 & 0 & 0 & 0 & 0 & 0 & 0 & 0 & 0 & 0\\\\0 & 0 & 0 & 0 & 0 & 0 & 0 & 0 & 0 & 0 & 0 & 0 & 0 & 0 & 0 & 0 & 0 & 1 & 0 & 0 & 0 & 0 & 0 & 0 & 0 & 0\\\\0 & 0 & 0 & 0 & 0 & 0 & 0 & 0 & 0 & 0 & 0 & 0 & 0 & 0 & 0 & 1 & 0 & 0 & 0 & 0 & 0 & 0 & 0 & 0 & 0 & 0\\\\0 & 0 & 0 & 0 & 0 & 0 & 0 & 0 & 0 & 1 & 0 & 0 & 0 & 0 & 0 & 0 & 0 & 0 & 0 & 0 & 0 & 0 & 0 & 0 & 0 & 0\\\\0 & 0 & 0 & 0 & 0 & 0 & 0 & 0 & 0 & 0 & 0 & 0 & 0 & 0 & 0 & 0 & 0 & 0 & 0 & 0 & 0 & 0 & 0 & 0 & 0 & 1\\end{array}\\right]$"
      ],
      "text/plain": [
       "Matrix([\n",
       "[0, 0, 0, 0, 0, 0, 0, 0, 0, 0, 0, 0, 0, 0, 1, 0, 0, 0, 0, 0, 0, 0, 0, 0, 0,                                                         0],\n",
       "[0, 0, 0, 0, 0, 0, 0, 0, 0, 0, 1, 0, 0, 0, 0, 0, 0, 0, 0, 0, 0, 0, 0, 0, 0,                                                         0],\n",
       "[0, 0, 0, 0, 0, 0, 0, 0, 0, 0, 0, 0, 0, 0, 0, 0, 1, 0, 0, 0, 0, 0, 0, 0, 0,                                                         0],\n",
       "[0, 0, 0, 0, 0, 0, 0, 0, 0, 0, 0, 0, 0, 0, 0, 0, 0, 0, 0, 0, 0, 0, 1, 0, 0,                                                         0],\n",
       "[0, 0, 0, 0, 0, 0, 0, 0, 0, 0, 0, 0, 0, 0, 0, 0, 0, 0, 0, 0, 0, 0, 0, 1, 0,                                                         0],\n",
       "[0, 0, 0, 0, 0, 0, 0, 0, 0, 0, 0, 0, 1, 0, 0, 0, 0, 0, 0, 0, 0, 0, 0, 0, 0,                                                         0],\n",
       "[0, 0, 0, 0, 0, 0, 0, 0, 0, 0, 0, 0, 0, 0, 0, 0, 0, 0, 1, 0, 0, 0, 0, 0, 0,                                                         0],\n",
       "[0, 0, 0, 0, 0, 0, 0, 0, 0, 0, 0, 0, 0, 1, 0, 0, 0, 0, 0, 0, 0, 0, 0, 0, 0,                                                         0],\n",
       "[0, 0, 0, 0, 0, 0, 0, 1, 0, 0, 0, 0, 0, 0, 0, 0, 0, 0, 0, 0, 0, 0, 0, 0, 0,                                                         0],\n",
       "[0, 0, 0, 0, 1, 0, 0, 0, 0, 0, 0, 0, 0, 0, 0, 0, 0, 0, 0, 0, 0, 0, 0, 0, 0,                                                         0],\n",
       "[0, 0, 0, 0, 0, 0, 1, 0, 0, 0, 0, 0, 0, 0, 0, 0, 0, 0, 0, 0, 0, 0, 0, 0, 0,                                                         0],\n",
       "[0, 0, 0, 0, 0, 1, 0, 0, 0, 0, 0, 0, 0, 0, 0, 0, 0, 0, 0, 0, 0, 0, 0, 0, 0, g^{OT}_{CS, 06}*(b^\\dagger_{OT, 02, 06} + b_{OT, 02, 06})],\n",
       "[0, 0, 0, 0, 0, 0, 0, 0, 0, 0, 0, 0, 0, 0, 0, 0, 0, 0, 0, 0, 0, 0, 0, 0, 1,                                                         0],\n",
       "[0, 0, 0, 0, 0, 0, 0, 0, 0, 0, 0, 0, 0, 0, 0, 0, 0, 0, 0, 0, 1, 0, 0, 0, 0,                                                         0],\n",
       "[0, 0, 0, 1, 0, 0, 0, 0, 0, 0, 0, 0, 0, 0, 0, 0, 0, 0, 0, 0, 0, 0, 0, 0, 0,            ω^{OT}_6*b_{OT, 02, 06}*b^\\dagger_{OT, 02, 06}],\n",
       "[0, 0, 0, 0, 0, 0, 0, 0, 0, 0, 0, 0, 0, 0, 0, 0, 0, 0, 0, 1, 0, 0, 0, 0, 0, g^{OT}_{LE, 06}*(b^\\dagger_{OT, 02, 06} + b_{OT, 02, 06})],\n",
       "[0, 0, 0, 0, 0, 0, 0, 0, 1, 0, 0, 0, 0, 0, 0, 0, 0, 0, 0, 0, 0, 0, 0, 0, 0,                                                         0],\n",
       "[0, 0, 0, 0, 0, 0, 0, 0, 0, 0, 0, 0, 0, 0, 0, 0, 0, 0, 0, 0, 0, 1, 0, 0, 0,                                                         0],\n",
       "[0, 0, 0, 0, 0, 0, 0, 0, 0, 0, 0, 1, 0, 0, 0, 0, 0, 0, 0, 0, 0, 0, 0, 0, 0,                                                         0],\n",
       "[1, 0, 0, 0, 0, 0, 0, 0, 0, 0, 0, 0, 0, 0, 0, 0, 0, 0, 0, 0, 0, 0, 0, 0, 0,                                                         0],\n",
       "[0, 1, 0, 0, 0, 0, 0, 0, 0, 0, 0, 0, 0, 0, 0, 0, 0, 0, 0, 0, 0, 0, 0, 0, 0,                                                         0],\n",
       "[0, 0, 1, 0, 0, 0, 0, 0, 0, 0, 0, 0, 0, 0, 0, 0, 0, 0, 0, 0, 0, 0, 0, 0, 0,                                                         0],\n",
       "[0, 0, 0, 0, 0, 0, 0, 0, 0, 0, 0, 0, 0, 0, 0, 0, 0, 1, 0, 0, 0, 0, 0, 0, 0,                                                         0],\n",
       "[0, 0, 0, 0, 0, 0, 0, 0, 0, 0, 0, 0, 0, 0, 0, 1, 0, 0, 0, 0, 0, 0, 0, 0, 0,                                                         0],\n",
       "[0, 0, 0, 0, 0, 0, 0, 0, 0, 1, 0, 0, 0, 0, 0, 0, 0, 0, 0, 0, 0, 0, 0, 0, 0,                                                         0],\n",
       "[0, 0, 0, 0, 0, 0, 0, 0, 0, 0, 0, 0, 0, 0, 0, 0, 0, 0, 0, 0, 0, 0, 0, 0, 0,                                                         1]])"
      ]
     },
     "metadata": {},
     "output_type": "display_data"
    },
    {
     "data": {
      "text/latex": [
       "$\\displaystyle \\left[\\begin{array}{ccccccccccccccccccccccccc}0 & 0 & 0 & 0 & 0 & 0 & 0 & 0 & 0 & 0 & 0 & 0 & 0 & 0 & 1 & 0 & 0 & 0 & 0 & 0 & 0 & 0 & 0 & 0 & 0\\\\0 & 0 & 0 & 0 & 0 & 1 & 0 & 0 & 0 & 0 & 0 & 0 & 0 & 0 & 0 & 0 & 0 & 0 & 0 & 0 & 0 & 0 & 0 & 0 & 0\\\\0 & 0 & 0 & 0 & 0 & 0 & 0 & 1 & 0 & 0 & 0 & 0 & 0 & 0 & 0 & 0 & 0 & 0 & 0 & 0 & 0 & 0 & 0 & 0 & 0\\\\0 & 0 & 0 & 0 & 1 & 0 & 0 & 0 & 0 & 0 & 0 & 0 & 0 & 0 & 0 & 0 & 0 & 0 & 0 & 0 & 0 & 0 & 0 & 0 & ω^{OT}_7 b_{OT, 02, 07} b^\\dagger_{OT, 02, 07}\\\\0 & 0 & 0 & 0 & 0 & 0 & 0 & 0 & 0 & 0 & 0 & 0 & 0 & 0 & 0 & 1 & 0 & 0 & 0 & 0 & 0 & 0 & 0 & 0 & 0\\\\0 & 0 & 0 & 0 & 0 & 0 & 0 & 0 & 0 & 0 & 0 & 0 & 0 & 0 & 0 & 0 & 0 & 0 & 0 & 0 & 0 & 0 & 0 & g^{OT}_{CS, 08} & g^{OT}_{CS, 07} \\left(b^\\dagger_{OT, 02, 07} + b_{OT, 02, 07}\\right) + ε^{{CS}}_{02}\\\\0 & 0 & 1 & 0 & 0 & 0 & 0 & 0 & 0 & 0 & 0 & 0 & 0 & 0 & 0 & 0 & 0 & 0 & 0 & 0 & 0 & 0 & 0 & 0 & 0\\\\0 & 0 & 0 & 0 & 0 & 0 & 0 & 0 & 0 & 0 & 0 & 0 & 0 & 0 & 0 & 0 & 0 & 0 & 0 & 1 & 0 & 0 & 0 & 0 & 0\\\\0 & 0 & 0 & 0 & 0 & 0 & 1 & 0 & 0 & 0 & 0 & 0 & 0 & 0 & 0 & 0 & 0 & 0 & 0 & 0 & 0 & 0 & 0 & 0 & 0\\\\0 & 0 & 0 & 0 & 0 & 0 & 0 & 0 & 0 & 0 & 0 & 1 & 0 & 0 & 0 & 0 & 0 & 0 & 0 & 0 & 0 & 0 & 0 & 0 & 0\\\\0 & 0 & 0 & 0 & 0 & 0 & 0 & 0 & 0 & 0 & 0 & 0 & 0 & 0 & 0 & 0 & 0 & 0 & 1 & 0 & 0 & 0 & 0 & 0 & 0\\\\0 & 0 & 0 & 0 & 0 & 0 & 0 & 0 & 0 & 0 & 0 & 0 & 0 & 0 & 0 & 0 & 0 & 0 & 0 & 0 & 0 & 0 & 1 & 0 & 0\\\\0 & 0 & 0 & 0 & 0 & 0 & 0 & 0 & 0 & 0 & 0 & 0 & 0 & 0 & 0 & 0 & 0 & 1 & 0 & 0 & 0 & 0 & 0 & 0 & 0\\\\0 & 0 & 0 & 0 & 0 & 0 & 0 & 0 & 0 & 0 & 1 & 0 & 0 & 0 & 0 & 0 & 0 & 0 & 0 & 0 & 0 & 0 & 0 & 0 & 0\\\\0 & 0 & 0 & 0 & 0 & 0 & 0 & 0 & 0 & 0 & 0 & 0 & 0 & 0 & 0 & 0 & 0 & 0 & 0 & 0 & 0 & 1 & 0 & 0 & 0\\\\0 & 0 & 0 & 0 & 0 & 0 & 0 & 0 & 1 & 0 & 0 & 0 & 0 & 0 & 0 & 0 & 0 & 0 & 0 & 0 & 0 & 0 & 0 & 0 & 0\\\\0 & 0 & 0 & 1 & 0 & 0 & 0 & 0 & 0 & 0 & 0 & 0 & 0 & 0 & 0 & 0 & 0 & 0 & 0 & 0 & 0 & 0 & 0 & 0 & 0\\\\1 & 0 & 0 & 0 & 0 & 0 & 0 & 0 & 0 & 0 & 0 & 0 & 0 & 0 & 0 & 0 & 0 & 0 & 0 & 0 & 0 & 0 & 0 & 0 & 0\\\\0 & 0 & 0 & 0 & 0 & 0 & 0 & 0 & 0 & 1 & 0 & 0 & 0 & 0 & 0 & 0 & 0 & 0 & 0 & 0 & 0 & 0 & 0 & 0 & 0\\\\0 & 0 & 0 & 0 & 0 & 0 & 0 & 0 & 0 & 0 & 0 & 0 & 0 & 0 & 0 & 0 & 0 & 0 & 0 & 0 & 0 & 0 & 0 & g^{OT}_{LE, 08} & g^{OT}_{LE, 07} \\left(b^\\dagger_{OT, 02, 07} + b_{OT, 02, 07}\\right)\\\\0 & 0 & 0 & 0 & 0 & 0 & 0 & 0 & 0 & 0 & 0 & 0 & 0 & 0 & 0 & 0 & 1 & 0 & 0 & 0 & 0 & 0 & 0 & 0 & 0\\\\0 & 0 & 0 & 0 & 0 & 0 & 0 & 0 & 0 & 0 & 0 & 0 & 0 & 1 & 0 & 0 & 0 & 0 & 0 & 0 & 0 & 0 & 0 & 0 & 0\\\\0 & 1 & 0 & 0 & 0 & 0 & 0 & 0 & 0 & 0 & 0 & 0 & 0 & 0 & 0 & 0 & 0 & 0 & 0 & 0 & 0 & 0 & 0 & 0 & 0\\\\0 & 0 & 0 & 0 & 0 & 0 & 0 & 0 & 0 & 0 & 0 & 0 & 0 & 0 & 0 & 0 & 0 & 0 & 0 & 0 & 1 & 0 & 0 & 0 & 0\\\\0 & 0 & 0 & 0 & 0 & 0 & 0 & 0 & 0 & 0 & 0 & 0 & 1 & 0 & 0 & 0 & 0 & 0 & 0 & 0 & 0 & 0 & 0 & 0 & 0\\\\0 & 0 & 0 & 0 & 0 & 0 & 0 & 0 & 0 & 0 & 0 & 0 & 0 & 0 & 0 & 0 & 0 & 0 & 0 & 0 & 0 & 0 & 0 & 0 & 1\\end{array}\\right]$"
      ],
      "text/plain": [
       "Matrix([\n",
       "[0, 0, 0, 0, 0, 0, 0, 0, 0, 0, 0, 0, 0, 0, 1, 0, 0, 0, 0, 0, 0, 0, 0,               0,                                                                         0],\n",
       "[0, 0, 0, 0, 0, 1, 0, 0, 0, 0, 0, 0, 0, 0, 0, 0, 0, 0, 0, 0, 0, 0, 0,               0,                                                                         0],\n",
       "[0, 0, 0, 0, 0, 0, 0, 1, 0, 0, 0, 0, 0, 0, 0, 0, 0, 0, 0, 0, 0, 0, 0,               0,                                                                         0],\n",
       "[0, 0, 0, 0, 1, 0, 0, 0, 0, 0, 0, 0, 0, 0, 0, 0, 0, 0, 0, 0, 0, 0, 0,               0,                            ω^{OT}_7*b_{OT, 02, 07}*b^\\dagger_{OT, 02, 07}],\n",
       "[0, 0, 0, 0, 0, 0, 0, 0, 0, 0, 0, 0, 0, 0, 0, 1, 0, 0, 0, 0, 0, 0, 0,               0,                                                                         0],\n",
       "[0, 0, 0, 0, 0, 0, 0, 0, 0, 0, 0, 0, 0, 0, 0, 0, 0, 0, 0, 0, 0, 0, 0, g^{OT}_{CS, 08}, g^{OT}_{CS, 07}*(b^\\dagger_{OT, 02, 07} + b_{OT, 02, 07}) + ε^{{CS}}_{02}],\n",
       "[0, 0, 1, 0, 0, 0, 0, 0, 0, 0, 0, 0, 0, 0, 0, 0, 0, 0, 0, 0, 0, 0, 0,               0,                                                                         0],\n",
       "[0, 0, 0, 0, 0, 0, 0, 0, 0, 0, 0, 0, 0, 0, 0, 0, 0, 0, 0, 1, 0, 0, 0,               0,                                                                         0],\n",
       "[0, 0, 0, 0, 0, 0, 1, 0, 0, 0, 0, 0, 0, 0, 0, 0, 0, 0, 0, 0, 0, 0, 0,               0,                                                                         0],\n",
       "[0, 0, 0, 0, 0, 0, 0, 0, 0, 0, 0, 1, 0, 0, 0, 0, 0, 0, 0, 0, 0, 0, 0,               0,                                                                         0],\n",
       "[0, 0, 0, 0, 0, 0, 0, 0, 0, 0, 0, 0, 0, 0, 0, 0, 0, 0, 1, 0, 0, 0, 0,               0,                                                                         0],\n",
       "[0, 0, 0, 0, 0, 0, 0, 0, 0, 0, 0, 0, 0, 0, 0, 0, 0, 0, 0, 0, 0, 0, 1,               0,                                                                         0],\n",
       "[0, 0, 0, 0, 0, 0, 0, 0, 0, 0, 0, 0, 0, 0, 0, 0, 0, 1, 0, 0, 0, 0, 0,               0,                                                                         0],\n",
       "[0, 0, 0, 0, 0, 0, 0, 0, 0, 0, 1, 0, 0, 0, 0, 0, 0, 0, 0, 0, 0, 0, 0,               0,                                                                         0],\n",
       "[0, 0, 0, 0, 0, 0, 0, 0, 0, 0, 0, 0, 0, 0, 0, 0, 0, 0, 0, 0, 0, 1, 0,               0,                                                                         0],\n",
       "[0, 0, 0, 0, 0, 0, 0, 0, 1, 0, 0, 0, 0, 0, 0, 0, 0, 0, 0, 0, 0, 0, 0,               0,                                                                         0],\n",
       "[0, 0, 0, 1, 0, 0, 0, 0, 0, 0, 0, 0, 0, 0, 0, 0, 0, 0, 0, 0, 0, 0, 0,               0,                                                                         0],\n",
       "[1, 0, 0, 0, 0, 0, 0, 0, 0, 0, 0, 0, 0, 0, 0, 0, 0, 0, 0, 0, 0, 0, 0,               0,                                                                         0],\n",
       "[0, 0, 0, 0, 0, 0, 0, 0, 0, 1, 0, 0, 0, 0, 0, 0, 0, 0, 0, 0, 0, 0, 0,               0,                                                                         0],\n",
       "[0, 0, 0, 0, 0, 0, 0, 0, 0, 0, 0, 0, 0, 0, 0, 0, 0, 0, 0, 0, 0, 0, 0, g^{OT}_{LE, 08},                 g^{OT}_{LE, 07}*(b^\\dagger_{OT, 02, 07} + b_{OT, 02, 07})],\n",
       "[0, 0, 0, 0, 0, 0, 0, 0, 0, 0, 0, 0, 0, 0, 0, 0, 1, 0, 0, 0, 0, 0, 0,               0,                                                                         0],\n",
       "[0, 0, 0, 0, 0, 0, 0, 0, 0, 0, 0, 0, 0, 1, 0, 0, 0, 0, 0, 0, 0, 0, 0,               0,                                                                         0],\n",
       "[0, 1, 0, 0, 0, 0, 0, 0, 0, 0, 0, 0, 0, 0, 0, 0, 0, 0, 0, 0, 0, 0, 0,               0,                                                                         0],\n",
       "[0, 0, 0, 0, 0, 0, 0, 0, 0, 0, 0, 0, 0, 0, 0, 0, 0, 0, 0, 0, 1, 0, 0,               0,                                                                         0],\n",
       "[0, 0, 0, 0, 0, 0, 0, 0, 0, 0, 0, 0, 1, 0, 0, 0, 0, 0, 0, 0, 0, 0, 0,               0,                                                                         0],\n",
       "[0, 0, 0, 0, 0, 0, 0, 0, 0, 0, 0, 0, 0, 0, 0, 0, 0, 0, 0, 0, 0, 0, 0,               0,                                                                         1]])"
      ]
     },
     "metadata": {},
     "output_type": "display_data"
    },
    {
     "data": {
      "text/latex": [
       "$\\displaystyle \\left[\\begin{array}{cccccccccccccccccccccccc}0 & 0 & 0 & 0 & 0 & 0 & 0 & 0 & 0 & 0 & 0 & 0 & 0 & 0 & 1 & 0 & 0 & 0 & 0 & 0 & 0 & 0 & 0 & 0\\\\0 & 0 & 0 & 0 & 0 & 0 & 0 & 0 & 0 & 0 & 0 & 0 & 0 & 0 & 0 & 0 & 0 & 0 & 0 & 0 & 0 & 0 & 1 & 0\\\\0 & 0 & 0 & 0 & 0 & 0 & 1 & 0 & 0 & 0 & 0 & 0 & 0 & 0 & 0 & 0 & 0 & 0 & 0 & 0 & 0 & 0 & 0 & 0\\\\0 & 0 & 0 & 0 & 0 & 0 & 0 & 0 & 0 & 0 & 0 & 0 & 0 & 0 & 0 & 0 & 0 & 0 & 0 & 0 & 1 & 0 & 0 & 0\\\\0 & 0 & 0 & 1 & 0 & 0 & 0 & 0 & 0 & 0 & 0 & 0 & 0 & 0 & 0 & 0 & 0 & 0 & 0 & 0 & 0 & 0 & 0 & ω^{OT}_8 b_{OT, 02, 08} b^\\dagger_{OT, 02, 08}\\\\0 & 0 & 1 & 0 & 0 & 0 & 0 & 0 & 0 & 0 & 0 & 0 & 0 & 0 & 0 & 0 & 0 & 0 & 0 & 0 & 0 & 0 & 0 & 0\\\\0 & 0 & 0 & 0 & 0 & 0 & 0 & 0 & 0 & 0 & 0 & 0 & 0 & 0 & 0 & 0 & 0 & 0 & 1 & 0 & 0 & 0 & 0 & 0\\\\0 & 0 & 0 & 0 & 0 & 0 & 0 & 0 & 0 & 0 & 0 & 0 & 0 & 0 & 0 & 0 & 0 & 0 & 0 & 1 & 0 & 0 & 0 & 0\\\\0 & 0 & 0 & 0 & 0 & 0 & 0 & 0 & 0 & 0 & 0 & 0 & 0 & 0 & 0 & 1 & 0 & 0 & 0 & 0 & 0 & 0 & 0 & 0\\\\1 & 0 & 0 & 0 & 0 & 0 & 0 & 0 & 0 & 0 & 0 & 0 & 0 & 0 & 0 & 0 & 0 & 0 & 0 & 0 & 0 & 0 & 0 & 0\\\\0 & 0 & 0 & 0 & 1 & 0 & 0 & 0 & 0 & 0 & 0 & 0 & 0 & 0 & 0 & 0 & 0 & 0 & 0 & 0 & 0 & 0 & 0 & 0\\\\0 & 0 & 0 & 0 & 0 & 0 & 0 & 0 & 0 & 1 & 0 & 0 & 0 & 0 & 0 & 0 & 0 & 0 & 0 & 0 & 0 & 0 & 0 & 0\\\\0 & 0 & 0 & 0 & 0 & 0 & 0 & 0 & 0 & 0 & 0 & 0 & 0 & 0 & 0 & 0 & 0 & 0 & 0 & 0 & 0 & 1 & 0 & 0\\\\0 & 0 & 0 & 0 & 0 & 1 & 0 & 0 & 0 & 0 & 0 & 0 & 0 & 0 & 0 & 0 & 0 & 0 & 0 & 0 & 0 & 0 & 0 & 0\\\\0 & 0 & 0 & 0 & 0 & 0 & 0 & 0 & 0 & 0 & 0 & 0 & 1 & 0 & 0 & 0 & 0 & 0 & 0 & 0 & 0 & 0 & 0 & 0\\\\0 & 1 & 0 & 0 & 0 & 0 & 0 & 0 & 0 & 0 & 0 & 0 & 0 & 0 & 0 & 0 & 0 & 0 & 0 & 0 & 0 & 0 & 0 & 0\\\\0 & 0 & 0 & 0 & 0 & 0 & 0 & 0 & 0 & 0 & 1 & 0 & 0 & 0 & 0 & 0 & 0 & 0 & 0 & 0 & 0 & 0 & 0 & 0\\\\0 & 0 & 0 & 0 & 0 & 0 & 0 & 0 & 1 & 0 & 0 & 0 & 0 & 0 & 0 & 0 & 0 & 0 & 0 & 0 & 0 & 0 & 0 & 0\\\\0 & 0 & 0 & 0 & 0 & 0 & 0 & 0 & 0 & 0 & 0 & 0 & 0 & 0 & 0 & 0 & 1 & 0 & 0 & 0 & 0 & 0 & 0 & 0\\\\0 & 0 & 0 & 0 & 0 & 0 & 0 & 0 & 0 & 0 & 0 & 0 & 0 & 0 & 0 & 0 & 0 & 1 & 0 & 0 & 0 & 0 & 0 & 0\\\\0 & 0 & 0 & 0 & 0 & 0 & 0 & 0 & 0 & 0 & 0 & 1 & 0 & 0 & 0 & 0 & 0 & 0 & 0 & 0 & 0 & 0 & 0 & 0\\\\0 & 0 & 0 & 0 & 0 & 0 & 0 & 0 & 0 & 0 & 0 & 0 & 0 & 1 & 0 & 0 & 0 & 0 & 0 & 0 & 0 & 0 & 0 & 0\\\\0 & 0 & 0 & 0 & 0 & 0 & 0 & 1 & 0 & 0 & 0 & 0 & 0 & 0 & 0 & 0 & 0 & 0 & 0 & 0 & 0 & 0 & 0 & 0\\\\0 & 0 & 0 & 0 & 0 & 0 & 0 & 0 & 0 & 0 & 0 & 0 & 0 & 0 & 0 & 0 & 0 & 0 & 0 & 0 & 0 & 0 & 0 & b^\\dagger_{OT, 02, 08} + b_{OT, 02, 08}\\\\0 & 0 & 0 & 0 & 0 & 0 & 0 & 0 & 0 & 0 & 0 & 0 & 0 & 0 & 0 & 0 & 0 & 0 & 0 & 0 & 0 & 0 & 0 & 1\\end{array}\\right]$"
      ],
      "text/plain": [
       "Matrix([\n",
       "[0, 0, 0, 0, 0, 0, 0, 0, 0, 0, 0, 0, 0, 0, 1, 0, 0, 0, 0, 0, 0, 0, 0,                                              0],\n",
       "[0, 0, 0, 0, 0, 0, 0, 0, 0, 0, 0, 0, 0, 0, 0, 0, 0, 0, 0, 0, 0, 0, 1,                                              0],\n",
       "[0, 0, 0, 0, 0, 0, 1, 0, 0, 0, 0, 0, 0, 0, 0, 0, 0, 0, 0, 0, 0, 0, 0,                                              0],\n",
       "[0, 0, 0, 0, 0, 0, 0, 0, 0, 0, 0, 0, 0, 0, 0, 0, 0, 0, 0, 0, 1, 0, 0,                                              0],\n",
       "[0, 0, 0, 1, 0, 0, 0, 0, 0, 0, 0, 0, 0, 0, 0, 0, 0, 0, 0, 0, 0, 0, 0, ω^{OT}_8*b_{OT, 02, 08}*b^\\dagger_{OT, 02, 08}],\n",
       "[0, 0, 1, 0, 0, 0, 0, 0, 0, 0, 0, 0, 0, 0, 0, 0, 0, 0, 0, 0, 0, 0, 0,                                              0],\n",
       "[0, 0, 0, 0, 0, 0, 0, 0, 0, 0, 0, 0, 0, 0, 0, 0, 0, 0, 1, 0, 0, 0, 0,                                              0],\n",
       "[0, 0, 0, 0, 0, 0, 0, 0, 0, 0, 0, 0, 0, 0, 0, 0, 0, 0, 0, 1, 0, 0, 0,                                              0],\n",
       "[0, 0, 0, 0, 0, 0, 0, 0, 0, 0, 0, 0, 0, 0, 0, 1, 0, 0, 0, 0, 0, 0, 0,                                              0],\n",
       "[1, 0, 0, 0, 0, 0, 0, 0, 0, 0, 0, 0, 0, 0, 0, 0, 0, 0, 0, 0, 0, 0, 0,                                              0],\n",
       "[0, 0, 0, 0, 1, 0, 0, 0, 0, 0, 0, 0, 0, 0, 0, 0, 0, 0, 0, 0, 0, 0, 0,                                              0],\n",
       "[0, 0, 0, 0, 0, 0, 0, 0, 0, 1, 0, 0, 0, 0, 0, 0, 0, 0, 0, 0, 0, 0, 0,                                              0],\n",
       "[0, 0, 0, 0, 0, 0, 0, 0, 0, 0, 0, 0, 0, 0, 0, 0, 0, 0, 0, 0, 0, 1, 0,                                              0],\n",
       "[0, 0, 0, 0, 0, 1, 0, 0, 0, 0, 0, 0, 0, 0, 0, 0, 0, 0, 0, 0, 0, 0, 0,                                              0],\n",
       "[0, 0, 0, 0, 0, 0, 0, 0, 0, 0, 0, 0, 1, 0, 0, 0, 0, 0, 0, 0, 0, 0, 0,                                              0],\n",
       "[0, 1, 0, 0, 0, 0, 0, 0, 0, 0, 0, 0, 0, 0, 0, 0, 0, 0, 0, 0, 0, 0, 0,                                              0],\n",
       "[0, 0, 0, 0, 0, 0, 0, 0, 0, 0, 1, 0, 0, 0, 0, 0, 0, 0, 0, 0, 0, 0, 0,                                              0],\n",
       "[0, 0, 0, 0, 0, 0, 0, 0, 1, 0, 0, 0, 0, 0, 0, 0, 0, 0, 0, 0, 0, 0, 0,                                              0],\n",
       "[0, 0, 0, 0, 0, 0, 0, 0, 0, 0, 0, 0, 0, 0, 0, 0, 1, 0, 0, 0, 0, 0, 0,                                              0],\n",
       "[0, 0, 0, 0, 0, 0, 0, 0, 0, 0, 0, 0, 0, 0, 0, 0, 0, 1, 0, 0, 0, 0, 0,                                              0],\n",
       "[0, 0, 0, 0, 0, 0, 0, 0, 0, 0, 0, 1, 0, 0, 0, 0, 0, 0, 0, 0, 0, 0, 0,                                              0],\n",
       "[0, 0, 0, 0, 0, 0, 0, 0, 0, 0, 0, 0, 0, 1, 0, 0, 0, 0, 0, 0, 0, 0, 0,                                              0],\n",
       "[0, 0, 0, 0, 0, 0, 0, 1, 0, 0, 0, 0, 0, 0, 0, 0, 0, 0, 0, 0, 0, 0, 0,                                              0],\n",
       "[0, 0, 0, 0, 0, 0, 0, 0, 0, 0, 0, 0, 0, 0, 0, 0, 0, 0, 0, 0, 0, 0, 0,        b^\\dagger_{OT, 02, 08} + b_{OT, 02, 08}],\n",
       "[0, 0, 0, 0, 0, 0, 0, 0, 0, 0, 0, 0, 0, 0, 0, 0, 0, 0, 0, 0, 0, 0, 0,                                              1]])"
      ]
     },
     "metadata": {},
     "output_type": "display_data"
    },
    {
     "data": {
      "text/latex": [
       "$\\displaystyle \\left[\\begin{array}{cccccccccccccccccccccccc}0 & 0 & 0 & 0 & 0 & 1 & 0 & 0 & 0 & 0 & 0 & 0 & 0 & 0 & 0 & 0 & 0 & 0 & 0 & 0 & 0 & 0 & 0 & 0\\\\0 & 0 & 0 & 0 & 1 & 0 & 0 & 0 & 0 & 0 & 0 & 0 & 0 & 0 & 0 & 0 & 0 & 0 & 0 & 0 & 0 & 0 & 0 & 0\\\\0 & 0 & 0 & 0 & 0 & 0 & 0 & 0 & 0 & 0 & 0 & 0 & 0 & 0 & 0 & 0 & 0 & 0 & 0 & 0 & 1 & 0 & 0 & 0\\\\0 & 0 & 0 & 1 & 0 & 0 & 0 & 0 & 0 & 0 & 0 & 0 & 0 & 0 & 0 & 0 & 0 & 0 & 0 & 0 & 0 & 0 & 0 & ω^{OT}_1 b_{OT, 03, 01} b^\\dagger_{OT, 03, 01}\\\\0 & 0 & 0 & 0 & 0 & 0 & 0 & 0 & 0 & 0 & 0 & 0 & 0 & 0 & 0 & 1 & 0 & 0 & 0 & 0 & 0 & 0 & 0 & 0\\\\0 & 0 & 0 & 0 & 0 & 0 & 0 & 0 & 0 & 0 & 0 & 0 & 0 & 0 & 0 & 0 & 0 & 0 & 0 & 0 & 0 & 0 & 1 & 0\\\\0 & 0 & 0 & 0 & 0 & 0 & 0 & 0 & 0 & 0 & 0 & 0 & 0 & 0 & 0 & 0 & 0 & 0 & 1 & 0 & 0 & 0 & 0 & 0\\\\0 & 0 & 0 & 0 & 0 & 0 & 0 & 0 & 0 & 0 & 0 & 1 & 0 & 0 & 0 & 0 & 0 & 0 & 0 & 0 & 0 & 0 & 0 & 0\\\\0 & 0 & 0 & 0 & 0 & 0 & 0 & 0 & 1 & 0 & 0 & 0 & 0 & 0 & 0 & 0 & 0 & 0 & 0 & 0 & 0 & 0 & 0 & 0\\\\0 & 0 & 0 & 0 & 0 & 0 & 1 & 0 & 0 & 0 & 0 & 0 & 0 & 0 & 0 & 0 & 0 & 0 & 0 & 0 & 0 & 0 & 0 & 0\\\\0 & 0 & 0 & 0 & 0 & 0 & 0 & 0 & 0 & 0 & 0 & 0 & 1 & 0 & 0 & 0 & 0 & 0 & 0 & 0 & 0 & 0 & 0 & 0\\\\0 & 0 & 0 & 0 & 0 & 0 & 0 & 0 & 0 & 0 & 0 & 0 & 0 & 0 & 0 & 0 & 0 & 0 & 0 & 0 & 0 & 1 & 0 & g^{OT}_{LE, 01} \\left(b^\\dagger_{OT, 03, 01} + b_{OT, 03, 01}\\right)\\\\0 & 0 & 0 & 0 & 0 & 0 & 0 & 0 & 0 & 0 & 1 & 0 & 0 & 0 & 0 & 0 & 0 & 0 & 0 & 0 & 0 & 0 & 0 & 0\\\\0 & 0 & 0 & 0 & 0 & 0 & 0 & 0 & 0 & 0 & 0 & 0 & 0 & 0 & 0 & 0 & 0 & 0 & 0 & 1 & 0 & 0 & 0 & 0\\\\0 & 0 & 0 & 0 & 0 & 0 & 0 & 0 & 0 & 1 & 0 & 0 & 0 & 0 & 0 & 0 & 0 & 0 & 0 & 0 & 0 & 0 & 0 & 0\\\\0 & 0 & 0 & 0 & 0 & 0 & 0 & 0 & 0 & 0 & 0 & 0 & 0 & 0 & 0 & 0 & 0 & 1 & 0 & 0 & 0 & 0 & 0 & 0\\\\0 & 0 & 0 & 0 & 0 & 0 & 0 & 0 & 0 & 0 & 0 & 0 & 0 & 1 & 0 & 0 & 0 & 0 & 0 & 0 & 0 & 0 & 0 & 0\\\\0 & 1 & 0 & 0 & 0 & 0 & 0 & 0 & 0 & 0 & 0 & 0 & 0 & 0 & 0 & 0 & 0 & 0 & 0 & 0 & 0 & 0 & 0 & 0\\\\1 & 0 & 0 & 0 & 0 & 0 & 0 & 0 & 0 & 0 & 0 & 0 & 0 & 0 & 0 & 0 & 0 & 0 & 0 & 0 & 0 & 0 & 0 & 0\\\\0 & 0 & 0 & 0 & 0 & 0 & 0 & 0 & 0 & 0 & 0 & 0 & 0 & 0 & 0 & 0 & 1 & 0 & 0 & 0 & 0 & 0 & 0 & 0\\\\0 & 0 & 0 & 0 & 0 & 0 & 0 & 0 & 0 & 0 & 0 & 0 & 0 & 0 & 1 & 0 & 0 & 0 & 0 & 0 & 0 & 0 & 0 & g^{OT}_{CS, 01} \\left(b^\\dagger_{OT, 03, 01} + b_{OT, 03, 01}\\right)\\\\0 & 0 & 1 & 0 & 0 & 0 & 0 & 0 & 0 & 0 & 0 & 0 & 0 & 0 & 0 & 0 & 0 & 0 & 0 & 0 & 0 & 0 & 0 & 0\\\\0 & 0 & 0 & 0 & 0 & 0 & 0 & 1 & 0 & 0 & 0 & 0 & 0 & 0 & 0 & 0 & 0 & 0 & 0 & 0 & 0 & 0 & 0 & 0\\\\0 & 0 & 0 & 0 & 0 & 0 & 0 & 0 & 0 & 0 & 0 & 0 & 0 & 0 & 0 & 0 & 0 & 0 & 0 & 0 & 0 & 0 & 0 & 1\\end{array}\\right]$"
      ],
      "text/plain": [
       "Matrix([\n",
       "[0, 0, 0, 0, 0, 1, 0, 0, 0, 0, 0, 0, 0, 0, 0, 0, 0, 0, 0, 0, 0, 0, 0,                                                         0],\n",
       "[0, 0, 0, 0, 1, 0, 0, 0, 0, 0, 0, 0, 0, 0, 0, 0, 0, 0, 0, 0, 0, 0, 0,                                                         0],\n",
       "[0, 0, 0, 0, 0, 0, 0, 0, 0, 0, 0, 0, 0, 0, 0, 0, 0, 0, 0, 0, 1, 0, 0,                                                         0],\n",
       "[0, 0, 0, 1, 0, 0, 0, 0, 0, 0, 0, 0, 0, 0, 0, 0, 0, 0, 0, 0, 0, 0, 0,            ω^{OT}_1*b_{OT, 03, 01}*b^\\dagger_{OT, 03, 01}],\n",
       "[0, 0, 0, 0, 0, 0, 0, 0, 0, 0, 0, 0, 0, 0, 0, 1, 0, 0, 0, 0, 0, 0, 0,                                                         0],\n",
       "[0, 0, 0, 0, 0, 0, 0, 0, 0, 0, 0, 0, 0, 0, 0, 0, 0, 0, 0, 0, 0, 0, 1,                                                         0],\n",
       "[0, 0, 0, 0, 0, 0, 0, 0, 0, 0, 0, 0, 0, 0, 0, 0, 0, 0, 1, 0, 0, 0, 0,                                                         0],\n",
       "[0, 0, 0, 0, 0, 0, 0, 0, 0, 0, 0, 1, 0, 0, 0, 0, 0, 0, 0, 0, 0, 0, 0,                                                         0],\n",
       "[0, 0, 0, 0, 0, 0, 0, 0, 1, 0, 0, 0, 0, 0, 0, 0, 0, 0, 0, 0, 0, 0, 0,                                                         0],\n",
       "[0, 0, 0, 0, 0, 0, 1, 0, 0, 0, 0, 0, 0, 0, 0, 0, 0, 0, 0, 0, 0, 0, 0,                                                         0],\n",
       "[0, 0, 0, 0, 0, 0, 0, 0, 0, 0, 0, 0, 1, 0, 0, 0, 0, 0, 0, 0, 0, 0, 0,                                                         0],\n",
       "[0, 0, 0, 0, 0, 0, 0, 0, 0, 0, 0, 0, 0, 0, 0, 0, 0, 0, 0, 0, 0, 1, 0, g^{OT}_{LE, 01}*(b^\\dagger_{OT, 03, 01} + b_{OT, 03, 01})],\n",
       "[0, 0, 0, 0, 0, 0, 0, 0, 0, 0, 1, 0, 0, 0, 0, 0, 0, 0, 0, 0, 0, 0, 0,                                                         0],\n",
       "[0, 0, 0, 0, 0, 0, 0, 0, 0, 0, 0, 0, 0, 0, 0, 0, 0, 0, 0, 1, 0, 0, 0,                                                         0],\n",
       "[0, 0, 0, 0, 0, 0, 0, 0, 0, 1, 0, 0, 0, 0, 0, 0, 0, 0, 0, 0, 0, 0, 0,                                                         0],\n",
       "[0, 0, 0, 0, 0, 0, 0, 0, 0, 0, 0, 0, 0, 0, 0, 0, 0, 1, 0, 0, 0, 0, 0,                                                         0],\n",
       "[0, 0, 0, 0, 0, 0, 0, 0, 0, 0, 0, 0, 0, 1, 0, 0, 0, 0, 0, 0, 0, 0, 0,                                                         0],\n",
       "[0, 1, 0, 0, 0, 0, 0, 0, 0, 0, 0, 0, 0, 0, 0, 0, 0, 0, 0, 0, 0, 0, 0,                                                         0],\n",
       "[1, 0, 0, 0, 0, 0, 0, 0, 0, 0, 0, 0, 0, 0, 0, 0, 0, 0, 0, 0, 0, 0, 0,                                                         0],\n",
       "[0, 0, 0, 0, 0, 0, 0, 0, 0, 0, 0, 0, 0, 0, 0, 0, 1, 0, 0, 0, 0, 0, 0,                                                         0],\n",
       "[0, 0, 0, 0, 0, 0, 0, 0, 0, 0, 0, 0, 0, 0, 1, 0, 0, 0, 0, 0, 0, 0, 0, g^{OT}_{CS, 01}*(b^\\dagger_{OT, 03, 01} + b_{OT, 03, 01})],\n",
       "[0, 0, 1, 0, 0, 0, 0, 0, 0, 0, 0, 0, 0, 0, 0, 0, 0, 0, 0, 0, 0, 0, 0,                                                         0],\n",
       "[0, 0, 0, 0, 0, 0, 0, 1, 0, 0, 0, 0, 0, 0, 0, 0, 0, 0, 0, 0, 0, 0, 0,                                                         0],\n",
       "[0, 0, 0, 0, 0, 0, 0, 0, 0, 0, 0, 0, 0, 0, 0, 0, 0, 0, 0, 0, 0, 0, 0,                                                         1]])"
      ]
     },
     "metadata": {},
     "output_type": "display_data"
    },
    {
     "data": {
      "text/latex": [
       "$\\displaystyle \\left[\\begin{array}{cccccccccccccccccccccccc}0 & 0 & 0 & 0 & 1 & 0 & 0 & 0 & 0 & 0 & 0 & 0 & 0 & 0 & 0 & 0 & 0 & 0 & 0 & 0 & 0 & 0 & 0 & 0\\\\0 & 0 & 0 & 0 & 0 & 0 & 0 & 0 & 0 & 0 & 0 & 0 & 0 & 0 & 0 & 0 & 0 & 0 & 0 & 0 & 1 & 0 & 0 & 0\\\\0 & 0 & 0 & 0 & 0 & 0 & 0 & 0 & 0 & 0 & 0 & 0 & 0 & 0 & 0 & 1 & 0 & 0 & 0 & 0 & 0 & 0 & 0 & 0\\\\0 & 0 & 0 & 1 & 0 & 0 & 0 & 0 & 0 & 0 & 0 & 0 & 0 & 0 & 0 & 0 & 0 & 0 & 0 & 0 & 0 & 0 & 0 & ω^{OT}_2 b_{OT, 03, 02} b^\\dagger_{OT, 03, 02}\\\\0 & 0 & 1 & 0 & 0 & 0 & 0 & 0 & 0 & 0 & 0 & 0 & 0 & 0 & 0 & 0 & 0 & 0 & 0 & 0 & 0 & 0 & 0 & 0\\\\0 & 0 & 0 & 0 & 0 & 0 & 0 & 0 & 0 & 0 & 0 & 0 & 0 & 0 & 0 & 0 & 0 & 0 & 0 & 1 & 0 & 0 & 0 & 0\\\\0 & 0 & 0 & 0 & 0 & 0 & 0 & 0 & 0 & 0 & 0 & 0 & 0 & 1 & 0 & 0 & 0 & 0 & 0 & 0 & 0 & 0 & 0 & 0\\\\0 & 0 & 0 & 0 & 0 & 0 & 0 & 0 & 0 & 0 & 0 & 1 & 0 & 0 & 0 & 0 & 0 & 0 & 0 & 0 & 0 & 0 & 0 & 0\\\\0 & 0 & 0 & 0 & 0 & 0 & 0 & 0 & 0 & 0 & 0 & 0 & 1 & 0 & 0 & 0 & 0 & 0 & 0 & 0 & 0 & 0 & 0 & 0\\\\0 & 0 & 0 & 0 & 0 & 0 & 0 & 0 & 0 & 0 & 0 & 0 & 0 & 0 & 0 & 0 & 0 & 1 & 0 & 0 & 0 & 0 & 0 & 0\\\\0 & 1 & 0 & 0 & 0 & 0 & 0 & 0 & 0 & 0 & 0 & 0 & 0 & 0 & 0 & 0 & 0 & 0 & 0 & 0 & 0 & 0 & 0 & 0\\\\0 & 0 & 0 & 0 & 0 & 0 & 0 & 0 & 0 & 0 & 0 & 0 & 0 & 0 & 0 & 0 & 1 & 0 & 0 & 0 & 0 & 0 & 0 & 0\\\\0 & 0 & 0 & 0 & 0 & 1 & 0 & 0 & 0 & 0 & 0 & 0 & 0 & 0 & 0 & 0 & 0 & 0 & 0 & 0 & 0 & 0 & 0 & 0\\\\0 & 0 & 0 & 0 & 0 & 0 & 1 & 0 & 0 & 0 & 0 & 0 & 0 & 0 & 0 & 0 & 0 & 0 & 0 & 0 & 0 & 0 & 0 & 0\\\\0 & 0 & 0 & 0 & 0 & 0 & 0 & 0 & 0 & 1 & 0 & 0 & 0 & 0 & 0 & 0 & 0 & 0 & 0 & 0 & 0 & 0 & 0 & g^{OT}_{CS, 02} \\left(b^\\dagger_{OT, 03, 02} + b_{OT, 03, 02}\\right)\\\\0 & 0 & 0 & 0 & 0 & 0 & 0 & 0 & 1 & 0 & 0 & 0 & 0 & 0 & 0 & 0 & 0 & 0 & 0 & 0 & 0 & 0 & 0 & 0\\\\0 & 0 & 0 & 0 & 0 & 0 & 0 & 0 & 0 & 0 & 0 & 0 & 0 & 0 & 0 & 0 & 0 & 0 & 1 & 0 & 0 & 0 & 0 & 0\\\\1 & 0 & 0 & 0 & 0 & 0 & 0 & 0 & 0 & 0 & 0 & 0 & 0 & 0 & 0 & 0 & 0 & 0 & 0 & 0 & 0 & 0 & 0 & 0\\\\0 & 0 & 0 & 0 & 0 & 0 & 0 & 0 & 0 & 0 & 0 & 0 & 0 & 0 & 1 & 0 & 0 & 0 & 0 & 0 & 0 & 0 & 0 & 0\\\\0 & 0 & 0 & 0 & 0 & 0 & 0 & 0 & 0 & 0 & 1 & 0 & 0 & 0 & 0 & 0 & 0 & 0 & 0 & 0 & 0 & 0 & 0 & 0\\\\0 & 0 & 0 & 0 & 0 & 0 & 0 & 0 & 0 & 0 & 0 & 0 & 0 & 0 & 0 & 0 & 0 & 0 & 0 & 0 & 0 & 0 & 1 & 0\\\\0 & 0 & 0 & 0 & 0 & 0 & 0 & 1 & 0 & 0 & 0 & 0 & 0 & 0 & 0 & 0 & 0 & 0 & 0 & 0 & 0 & 0 & 0 & g^{OT}_{LE, 02} \\left(b^\\dagger_{OT, 03, 02} + b_{OT, 03, 02}\\right)\\\\0 & 0 & 0 & 0 & 0 & 0 & 0 & 0 & 0 & 0 & 0 & 0 & 0 & 0 & 0 & 0 & 0 & 0 & 0 & 0 & 0 & 1 & 0 & 0\\\\0 & 0 & 0 & 0 & 0 & 0 & 0 & 0 & 0 & 0 & 0 & 0 & 0 & 0 & 0 & 0 & 0 & 0 & 0 & 0 & 0 & 0 & 0 & 1\\end{array}\\right]$"
      ],
      "text/plain": [
       "Matrix([\n",
       "[0, 0, 0, 0, 1, 0, 0, 0, 0, 0, 0, 0, 0, 0, 0, 0, 0, 0, 0, 0, 0, 0, 0,                                                         0],\n",
       "[0, 0, 0, 0, 0, 0, 0, 0, 0, 0, 0, 0, 0, 0, 0, 0, 0, 0, 0, 0, 1, 0, 0,                                                         0],\n",
       "[0, 0, 0, 0, 0, 0, 0, 0, 0, 0, 0, 0, 0, 0, 0, 1, 0, 0, 0, 0, 0, 0, 0,                                                         0],\n",
       "[0, 0, 0, 1, 0, 0, 0, 0, 0, 0, 0, 0, 0, 0, 0, 0, 0, 0, 0, 0, 0, 0, 0,            ω^{OT}_2*b_{OT, 03, 02}*b^\\dagger_{OT, 03, 02}],\n",
       "[0, 0, 1, 0, 0, 0, 0, 0, 0, 0, 0, 0, 0, 0, 0, 0, 0, 0, 0, 0, 0, 0, 0,                                                         0],\n",
       "[0, 0, 0, 0, 0, 0, 0, 0, 0, 0, 0, 0, 0, 0, 0, 0, 0, 0, 0, 1, 0, 0, 0,                                                         0],\n",
       "[0, 0, 0, 0, 0, 0, 0, 0, 0, 0, 0, 0, 0, 1, 0, 0, 0, 0, 0, 0, 0, 0, 0,                                                         0],\n",
       "[0, 0, 0, 0, 0, 0, 0, 0, 0, 0, 0, 1, 0, 0, 0, 0, 0, 0, 0, 0, 0, 0, 0,                                                         0],\n",
       "[0, 0, 0, 0, 0, 0, 0, 0, 0, 0, 0, 0, 1, 0, 0, 0, 0, 0, 0, 0, 0, 0, 0,                                                         0],\n",
       "[0, 0, 0, 0, 0, 0, 0, 0, 0, 0, 0, 0, 0, 0, 0, 0, 0, 1, 0, 0, 0, 0, 0,                                                         0],\n",
       "[0, 1, 0, 0, 0, 0, 0, 0, 0, 0, 0, 0, 0, 0, 0, 0, 0, 0, 0, 0, 0, 0, 0,                                                         0],\n",
       "[0, 0, 0, 0, 0, 0, 0, 0, 0, 0, 0, 0, 0, 0, 0, 0, 1, 0, 0, 0, 0, 0, 0,                                                         0],\n",
       "[0, 0, 0, 0, 0, 1, 0, 0, 0, 0, 0, 0, 0, 0, 0, 0, 0, 0, 0, 0, 0, 0, 0,                                                         0],\n",
       "[0, 0, 0, 0, 0, 0, 1, 0, 0, 0, 0, 0, 0, 0, 0, 0, 0, 0, 0, 0, 0, 0, 0,                                                         0],\n",
       "[0, 0, 0, 0, 0, 0, 0, 0, 0, 1, 0, 0, 0, 0, 0, 0, 0, 0, 0, 0, 0, 0, 0, g^{OT}_{CS, 02}*(b^\\dagger_{OT, 03, 02} + b_{OT, 03, 02})],\n",
       "[0, 0, 0, 0, 0, 0, 0, 0, 1, 0, 0, 0, 0, 0, 0, 0, 0, 0, 0, 0, 0, 0, 0,                                                         0],\n",
       "[0, 0, 0, 0, 0, 0, 0, 0, 0, 0, 0, 0, 0, 0, 0, 0, 0, 0, 1, 0, 0, 0, 0,                                                         0],\n",
       "[1, 0, 0, 0, 0, 0, 0, 0, 0, 0, 0, 0, 0, 0, 0, 0, 0, 0, 0, 0, 0, 0, 0,                                                         0],\n",
       "[0, 0, 0, 0, 0, 0, 0, 0, 0, 0, 0, 0, 0, 0, 1, 0, 0, 0, 0, 0, 0, 0, 0,                                                         0],\n",
       "[0, 0, 0, 0, 0, 0, 0, 0, 0, 0, 1, 0, 0, 0, 0, 0, 0, 0, 0, 0, 0, 0, 0,                                                         0],\n",
       "[0, 0, 0, 0, 0, 0, 0, 0, 0, 0, 0, 0, 0, 0, 0, 0, 0, 0, 0, 0, 0, 0, 1,                                                         0],\n",
       "[0, 0, 0, 0, 0, 0, 0, 1, 0, 0, 0, 0, 0, 0, 0, 0, 0, 0, 0, 0, 0, 0, 0, g^{OT}_{LE, 02}*(b^\\dagger_{OT, 03, 02} + b_{OT, 03, 02})],\n",
       "[0, 0, 0, 0, 0, 0, 0, 0, 0, 0, 0, 0, 0, 0, 0, 0, 0, 0, 0, 0, 0, 1, 0,                                                         0],\n",
       "[0, 0, 0, 0, 0, 0, 0, 0, 0, 0, 0, 0, 0, 0, 0, 0, 0, 0, 0, 0, 0, 0, 0,                                                         1]])"
      ]
     },
     "metadata": {},
     "output_type": "display_data"
    },
    {
     "data": {
      "text/latex": [
       "$\\displaystyle \\left[\\begin{array}{cccccccccccccccccccccccc}0 & 0 & 0 & 0 & 0 & 0 & 0 & 0 & 1 & 0 & 0 & 0 & 0 & 0 & 0 & 0 & 0 & 0 & 0 & 0 & 0 & 0 & 0 & 0\\\\0 & 0 & 0 & 0 & 0 & 0 & 0 & 0 & 0 & 0 & 0 & 0 & 0 & 0 & 0 & 0 & 0 & 0 & 1 & 0 & 0 & 0 & 0 & 0\\\\0 & 0 & 1 & 0 & 0 & 0 & 0 & 0 & 0 & 0 & 0 & 0 & 0 & 0 & 0 & 0 & 0 & 0 & 0 & 0 & 0 & 0 & 0 & 0\\\\0 & 0 & 0 & 0 & 0 & 0 & 0 & 0 & 0 & 1 & 0 & 0 & 0 & 0 & 0 & 0 & 0 & 0 & 0 & 0 & 0 & 0 & 0 & ω^{OT}_3 b_{OT, 03, 03} b^\\dagger_{OT, 03, 03}\\\\0 & 0 & 0 & 0 & 1 & 0 & 0 & 0 & 0 & 0 & 0 & 0 & 0 & 0 & 0 & 0 & 0 & 0 & 0 & 0 & 0 & 0 & 0 & 0\\\\1 & 0 & 0 & 0 & 0 & 0 & 0 & 0 & 0 & 0 & 0 & 0 & 0 & 0 & 0 & 0 & 0 & 0 & 0 & 0 & 0 & 0 & 0 & 0\\\\0 & 0 & 0 & 0 & 0 & 1 & 0 & 0 & 0 & 0 & 0 & 0 & 0 & 0 & 0 & 0 & 0 & 0 & 0 & 0 & 0 & 0 & 0 & 0\\\\0 & 0 & 0 & 0 & 0 & 0 & 0 & 0 & 0 & 0 & 0 & 0 & 0 & 0 & 0 & 0 & 0 & 0 & 0 & 0 & 0 & 1 & 0 & g^{OT}_{LE, 03} \\left(b^\\dagger_{OT, 03, 03} + b_{OT, 03, 03}\\right)\\\\0 & 1 & 0 & 0 & 0 & 0 & 0 & 0 & 0 & 0 & 0 & 0 & 0 & 0 & 0 & 0 & 0 & 0 & 0 & 0 & 0 & 0 & 0 & 0\\\\0 & 0 & 0 & 0 & 0 & 0 & 0 & 0 & 0 & 0 & 0 & 0 & 0 & 0 & 0 & 0 & 0 & 0 & 0 & 0 & 1 & 0 & 0 & g^{OT}_{CS, 03} \\left(b^\\dagger_{OT, 03, 03} + b_{OT, 03, 03}\\right)\\\\0 & 0 & 0 & 0 & 0 & 0 & 0 & 0 & 0 & 0 & 0 & 0 & 0 & 0 & 0 & 0 & 1 & 0 & 0 & 0 & 0 & 0 & 0 & 0\\\\0 & 0 & 0 & 0 & 0 & 0 & 0 & 0 & 0 & 0 & 1 & 0 & 0 & 0 & 0 & 0 & 0 & 0 & 0 & 0 & 0 & 0 & 0 & 0\\\\0 & 0 & 0 & 0 & 0 & 0 & 0 & 0 & 0 & 0 & 0 & 0 & 0 & 0 & 0 & 0 & 0 & 1 & 0 & 0 & 0 & 0 & 0 & 0\\\\0 & 0 & 0 & 0 & 0 & 0 & 0 & 0 & 0 & 0 & 0 & 0 & 0 & 0 & 1 & 0 & 0 & 0 & 0 & 0 & 0 & 0 & 0 & 0\\\\0 & 0 & 0 & 0 & 0 & 0 & 0 & 0 & 0 & 0 & 0 & 0 & 0 & 0 & 0 & 0 & 0 & 0 & 0 & 0 & 0 & 0 & 1 & 0\\\\0 & 0 & 0 & 0 & 0 & 0 & 0 & 1 & 0 & 0 & 0 & 0 & 0 & 0 & 0 & 0 & 0 & 0 & 0 & 0 & 0 & 0 & 0 & 0\\\\0 & 0 & 0 & 0 & 0 & 0 & 0 & 0 & 0 & 0 & 0 & 0 & 1 & 0 & 0 & 0 & 0 & 0 & 0 & 0 & 0 & 0 & 0 & 0\\\\0 & 0 & 0 & 0 & 0 & 0 & 0 & 0 & 0 & 0 & 0 & 0 & 0 & 1 & 0 & 0 & 0 & 0 & 0 & 0 & 0 & 0 & 0 & 0\\\\0 & 0 & 0 & 1 & 0 & 0 & 0 & 0 & 0 & 0 & 0 & 0 & 0 & 0 & 0 & 0 & 0 & 0 & 0 & 0 & 0 & 0 & 0 & 0\\\\0 & 0 & 0 & 0 & 0 & 0 & 0 & 0 & 0 & 0 & 0 & 1 & 0 & 0 & 0 & 0 & 0 & 0 & 0 & 0 & 0 & 0 & 0 & 0\\\\0 & 0 & 0 & 0 & 0 & 0 & 1 & 0 & 0 & 0 & 0 & 0 & 0 & 0 & 0 & 0 & 0 & 0 & 0 & 0 & 0 & 0 & 0 & 0\\\\0 & 0 & 0 & 0 & 0 & 0 & 0 & 0 & 0 & 0 & 0 & 0 & 0 & 0 & 0 & 0 & 0 & 0 & 0 & 1 & 0 & 0 & 0 & 0\\\\0 & 0 & 0 & 0 & 0 & 0 & 0 & 0 & 0 & 0 & 0 & 0 & 0 & 0 & 0 & 1 & 0 & 0 & 0 & 0 & 0 & 0 & 0 & 0\\\\0 & 0 & 0 & 0 & 0 & 0 & 0 & 0 & 0 & 0 & 0 & 0 & 0 & 0 & 0 & 0 & 0 & 0 & 0 & 0 & 0 & 0 & 0 & 1\\end{array}\\right]$"
      ],
      "text/plain": [
       "Matrix([\n",
       "[0, 0, 0, 0, 0, 0, 0, 0, 1, 0, 0, 0, 0, 0, 0, 0, 0, 0, 0, 0, 0, 0, 0,                                                         0],\n",
       "[0, 0, 0, 0, 0, 0, 0, 0, 0, 0, 0, 0, 0, 0, 0, 0, 0, 0, 1, 0, 0, 0, 0,                                                         0],\n",
       "[0, 0, 1, 0, 0, 0, 0, 0, 0, 0, 0, 0, 0, 0, 0, 0, 0, 0, 0, 0, 0, 0, 0,                                                         0],\n",
       "[0, 0, 0, 0, 0, 0, 0, 0, 0, 1, 0, 0, 0, 0, 0, 0, 0, 0, 0, 0, 0, 0, 0,            ω^{OT}_3*b_{OT, 03, 03}*b^\\dagger_{OT, 03, 03}],\n",
       "[0, 0, 0, 0, 1, 0, 0, 0, 0, 0, 0, 0, 0, 0, 0, 0, 0, 0, 0, 0, 0, 0, 0,                                                         0],\n",
       "[1, 0, 0, 0, 0, 0, 0, 0, 0, 0, 0, 0, 0, 0, 0, 0, 0, 0, 0, 0, 0, 0, 0,                                                         0],\n",
       "[0, 0, 0, 0, 0, 1, 0, 0, 0, 0, 0, 0, 0, 0, 0, 0, 0, 0, 0, 0, 0, 0, 0,                                                         0],\n",
       "[0, 0, 0, 0, 0, 0, 0, 0, 0, 0, 0, 0, 0, 0, 0, 0, 0, 0, 0, 0, 0, 1, 0, g^{OT}_{LE, 03}*(b^\\dagger_{OT, 03, 03} + b_{OT, 03, 03})],\n",
       "[0, 1, 0, 0, 0, 0, 0, 0, 0, 0, 0, 0, 0, 0, 0, 0, 0, 0, 0, 0, 0, 0, 0,                                                         0],\n",
       "[0, 0, 0, 0, 0, 0, 0, 0, 0, 0, 0, 0, 0, 0, 0, 0, 0, 0, 0, 0, 1, 0, 0, g^{OT}_{CS, 03}*(b^\\dagger_{OT, 03, 03} + b_{OT, 03, 03})],\n",
       "[0, 0, 0, 0, 0, 0, 0, 0, 0, 0, 0, 0, 0, 0, 0, 0, 1, 0, 0, 0, 0, 0, 0,                                                         0],\n",
       "[0, 0, 0, 0, 0, 0, 0, 0, 0, 0, 1, 0, 0, 0, 0, 0, 0, 0, 0, 0, 0, 0, 0,                                                         0],\n",
       "[0, 0, 0, 0, 0, 0, 0, 0, 0, 0, 0, 0, 0, 0, 0, 0, 0, 1, 0, 0, 0, 0, 0,                                                         0],\n",
       "[0, 0, 0, 0, 0, 0, 0, 0, 0, 0, 0, 0, 0, 0, 1, 0, 0, 0, 0, 0, 0, 0, 0,                                                         0],\n",
       "[0, 0, 0, 0, 0, 0, 0, 0, 0, 0, 0, 0, 0, 0, 0, 0, 0, 0, 0, 0, 0, 0, 1,                                                         0],\n",
       "[0, 0, 0, 0, 0, 0, 0, 1, 0, 0, 0, 0, 0, 0, 0, 0, 0, 0, 0, 0, 0, 0, 0,                                                         0],\n",
       "[0, 0, 0, 0, 0, 0, 0, 0, 0, 0, 0, 0, 1, 0, 0, 0, 0, 0, 0, 0, 0, 0, 0,                                                         0],\n",
       "[0, 0, 0, 0, 0, 0, 0, 0, 0, 0, 0, 0, 0, 1, 0, 0, 0, 0, 0, 0, 0, 0, 0,                                                         0],\n",
       "[0, 0, 0, 1, 0, 0, 0, 0, 0, 0, 0, 0, 0, 0, 0, 0, 0, 0, 0, 0, 0, 0, 0,                                                         0],\n",
       "[0, 0, 0, 0, 0, 0, 0, 0, 0, 0, 0, 1, 0, 0, 0, 0, 0, 0, 0, 0, 0, 0, 0,                                                         0],\n",
       "[0, 0, 0, 0, 0, 0, 1, 0, 0, 0, 0, 0, 0, 0, 0, 0, 0, 0, 0, 0, 0, 0, 0,                                                         0],\n",
       "[0, 0, 0, 0, 0, 0, 0, 0, 0, 0, 0, 0, 0, 0, 0, 0, 0, 0, 0, 1, 0, 0, 0,                                                         0],\n",
       "[0, 0, 0, 0, 0, 0, 0, 0, 0, 0, 0, 0, 0, 0, 0, 1, 0, 0, 0, 0, 0, 0, 0,                                                         0],\n",
       "[0, 0, 0, 0, 0, 0, 0, 0, 0, 0, 0, 0, 0, 0, 0, 0, 0, 0, 0, 0, 0, 0, 0,                                                         1]])"
      ]
     },
     "metadata": {},
     "output_type": "display_data"
    },
    {
     "data": {
      "text/latex": [
       "$\\displaystyle \\left[\\begin{array}{cccccccccccccccccccccccc}0 & 0 & 0 & 0 & 0 & 0 & 0 & 0 & 0 & 0 & 0 & 0 & 0 & 0 & 0 & 0 & 0 & 0 & 0 & 0 & 0 & 0 & 1 & 0\\\\0 & 0 & 0 & 0 & 0 & 0 & 0 & 0 & 0 & 0 & 0 & 1 & 0 & 0 & 0 & 0 & 0 & 0 & 0 & 0 & 0 & 0 & 0 & 0\\\\0 & 0 & 0 & 0 & 0 & 0 & 1 & 0 & 0 & 0 & 0 & 0 & 0 & 0 & 0 & 0 & 0 & 0 & 0 & 0 & 0 & 0 & 0 & 0\\\\0 & 0 & 0 & 1 & 0 & 0 & 0 & 0 & 0 & 0 & 0 & 0 & 0 & 0 & 0 & 0 & 0 & 0 & 0 & 0 & 0 & 0 & 0 & 0\\\\0 & 0 & 0 & 0 & 0 & 0 & 0 & 0 & 1 & 0 & 0 & 0 & 0 & 0 & 0 & 0 & 0 & 0 & 0 & 0 & 0 & 0 & 0 & 0\\\\0 & 0 & 0 & 0 & 0 & 0 & 0 & 0 & 0 & 0 & 0 & 0 & 1 & 0 & 0 & 0 & 0 & 0 & 0 & 0 & 0 & 0 & 0 & 0\\\\0 & 1 & 0 & 0 & 0 & 0 & 0 & 0 & 0 & 0 & 0 & 0 & 0 & 0 & 0 & 0 & 0 & 0 & 0 & 0 & 0 & 0 & 0 & 0\\\\0 & 0 & 1 & 0 & 0 & 0 & 0 & 0 & 0 & 0 & 0 & 0 & 0 & 0 & 0 & 0 & 0 & 0 & 0 & 0 & 0 & 0 & 0 & 0\\\\0 & 0 & 0 & 0 & 0 & 0 & 0 & 0 & 0 & 0 & 0 & 0 & 0 & 0 & 0 & 0 & 0 & 0 & 0 & 0 & 0 & 1 & 0 & 0\\\\0 & 0 & 0 & 0 & 0 & 0 & 0 & 0 & 0 & 0 & 1 & 0 & 0 & 0 & 0 & 0 & 0 & 0 & 0 & 0 & 0 & 0 & 0 & ω^{OT}_4 b_{OT, 03, 04} b^\\dagger_{OT, 03, 04}\\\\0 & 0 & 0 & 0 & 0 & 0 & 0 & 0 & 0 & 0 & 0 & 0 & 0 & 0 & 0 & 0 & 0 & 1 & 0 & 0 & 0 & 0 & 0 & 0\\\\0 & 0 & 0 & 0 & 0 & 0 & 0 & 0 & 0 & 0 & 0 & 0 & 0 & 0 & 0 & 1 & 0 & 0 & 0 & 0 & 0 & 0 & 0 & 0\\\\0 & 0 & 0 & 0 & 1 & 0 & 0 & 0 & 0 & 0 & 0 & 0 & 0 & 0 & 0 & 0 & 0 & 0 & 0 & 0 & 0 & 0 & 0 & 0\\\\1 & 0 & 0 & 0 & 0 & 0 & 0 & 0 & 0 & 0 & 0 & 0 & 0 & 0 & 0 & 0 & 0 & 0 & 0 & 0 & 0 & 0 & 0 & 0\\\\0 & 0 & 0 & 0 & 0 & 0 & 0 & 0 & 0 & 0 & 0 & 0 & 0 & 0 & 0 & 0 & 0 & 0 & 0 & 0 & 1 & 0 & 0 & 0\\\\0 & 0 & 0 & 0 & 0 & 1 & 0 & 0 & 0 & 0 & 0 & 0 & 0 & 0 & 0 & 0 & 0 & 0 & 0 & 0 & 0 & 0 & 0 & 0\\\\0 & 0 & 0 & 0 & 0 & 0 & 0 & 0 & 0 & 0 & 0 & 0 & 0 & 0 & 1 & 0 & 0 & 0 & 0 & 0 & 0 & 0 & 0 & 0\\\\0 & 0 & 0 & 0 & 0 & 0 & 0 & 0 & 0 & 0 & 0 & 0 & 0 & 0 & 0 & 0 & 0 & 0 & 1 & 0 & 0 & 0 & 0 & 0\\\\0 & 0 & 0 & 0 & 0 & 0 & 0 & 0 & 0 & 0 & 0 & 0 & 0 & 1 & 0 & 0 & 0 & 0 & 0 & 0 & 0 & 0 & 0 & 0\\\\0 & 0 & 0 & 0 & 0 & 0 & 0 & 0 & 0 & 1 & 0 & 0 & 0 & 0 & 0 & 0 & 0 & 0 & 0 & 0 & 0 & 0 & 0 & 0\\\\0 & 0 & 0 & 0 & 0 & 0 & 0 & 1 & 0 & 0 & 0 & 0 & 0 & 0 & 0 & 0 & 0 & 0 & 0 & 0 & 0 & 0 & 0 & g^{OT}_{CS, 04} \\left(b^\\dagger_{OT, 03, 04} + b_{OT, 03, 04}\\right)\\\\0 & 0 & 0 & 0 & 0 & 0 & 0 & 0 & 0 & 0 & 0 & 0 & 0 & 0 & 0 & 0 & 1 & 0 & 0 & 0 & 0 & 0 & 0 & g^{OT}_{LE, 04} \\left(b^\\dagger_{OT, 03, 04} + b_{OT, 03, 04}\\right)\\\\0 & 0 & 0 & 0 & 0 & 0 & 0 & 0 & 0 & 0 & 0 & 0 & 0 & 0 & 0 & 0 & 0 & 0 & 0 & 1 & 0 & 0 & 0 & 0\\\\0 & 0 & 0 & 0 & 0 & 0 & 0 & 0 & 0 & 0 & 0 & 0 & 0 & 0 & 0 & 0 & 0 & 0 & 0 & 0 & 0 & 0 & 0 & 1\\end{array}\\right]$"
      ],
      "text/plain": [
       "Matrix([\n",
       "[0, 0, 0, 0, 0, 0, 0, 0, 0, 0, 0, 0, 0, 0, 0, 0, 0, 0, 0, 0, 0, 0, 1,                                                         0],\n",
       "[0, 0, 0, 0, 0, 0, 0, 0, 0, 0, 0, 1, 0, 0, 0, 0, 0, 0, 0, 0, 0, 0, 0,                                                         0],\n",
       "[0, 0, 0, 0, 0, 0, 1, 0, 0, 0, 0, 0, 0, 0, 0, 0, 0, 0, 0, 0, 0, 0, 0,                                                         0],\n",
       "[0, 0, 0, 1, 0, 0, 0, 0, 0, 0, 0, 0, 0, 0, 0, 0, 0, 0, 0, 0, 0, 0, 0,                                                         0],\n",
       "[0, 0, 0, 0, 0, 0, 0, 0, 1, 0, 0, 0, 0, 0, 0, 0, 0, 0, 0, 0, 0, 0, 0,                                                         0],\n",
       "[0, 0, 0, 0, 0, 0, 0, 0, 0, 0, 0, 0, 1, 0, 0, 0, 0, 0, 0, 0, 0, 0, 0,                                                         0],\n",
       "[0, 1, 0, 0, 0, 0, 0, 0, 0, 0, 0, 0, 0, 0, 0, 0, 0, 0, 0, 0, 0, 0, 0,                                                         0],\n",
       "[0, 0, 1, 0, 0, 0, 0, 0, 0, 0, 0, 0, 0, 0, 0, 0, 0, 0, 0, 0, 0, 0, 0,                                                         0],\n",
       "[0, 0, 0, 0, 0, 0, 0, 0, 0, 0, 0, 0, 0, 0, 0, 0, 0, 0, 0, 0, 0, 1, 0,                                                         0],\n",
       "[0, 0, 0, 0, 0, 0, 0, 0, 0, 0, 1, 0, 0, 0, 0, 0, 0, 0, 0, 0, 0, 0, 0,            ω^{OT}_4*b_{OT, 03, 04}*b^\\dagger_{OT, 03, 04}],\n",
       "[0, 0, 0, 0, 0, 0, 0, 0, 0, 0, 0, 0, 0, 0, 0, 0, 0, 1, 0, 0, 0, 0, 0,                                                         0],\n",
       "[0, 0, 0, 0, 0, 0, 0, 0, 0, 0, 0, 0, 0, 0, 0, 1, 0, 0, 0, 0, 0, 0, 0,                                                         0],\n",
       "[0, 0, 0, 0, 1, 0, 0, 0, 0, 0, 0, 0, 0, 0, 0, 0, 0, 0, 0, 0, 0, 0, 0,                                                         0],\n",
       "[1, 0, 0, 0, 0, 0, 0, 0, 0, 0, 0, 0, 0, 0, 0, 0, 0, 0, 0, 0, 0, 0, 0,                                                         0],\n",
       "[0, 0, 0, 0, 0, 0, 0, 0, 0, 0, 0, 0, 0, 0, 0, 0, 0, 0, 0, 0, 1, 0, 0,                                                         0],\n",
       "[0, 0, 0, 0, 0, 1, 0, 0, 0, 0, 0, 0, 0, 0, 0, 0, 0, 0, 0, 0, 0, 0, 0,                                                         0],\n",
       "[0, 0, 0, 0, 0, 0, 0, 0, 0, 0, 0, 0, 0, 0, 1, 0, 0, 0, 0, 0, 0, 0, 0,                                                         0],\n",
       "[0, 0, 0, 0, 0, 0, 0, 0, 0, 0, 0, 0, 0, 0, 0, 0, 0, 0, 1, 0, 0, 0, 0,                                                         0],\n",
       "[0, 0, 0, 0, 0, 0, 0, 0, 0, 0, 0, 0, 0, 1, 0, 0, 0, 0, 0, 0, 0, 0, 0,                                                         0],\n",
       "[0, 0, 0, 0, 0, 0, 0, 0, 0, 1, 0, 0, 0, 0, 0, 0, 0, 0, 0, 0, 0, 0, 0,                                                         0],\n",
       "[0, 0, 0, 0, 0, 0, 0, 1, 0, 0, 0, 0, 0, 0, 0, 0, 0, 0, 0, 0, 0, 0, 0, g^{OT}_{CS, 04}*(b^\\dagger_{OT, 03, 04} + b_{OT, 03, 04})],\n",
       "[0, 0, 0, 0, 0, 0, 0, 0, 0, 0, 0, 0, 0, 0, 0, 0, 1, 0, 0, 0, 0, 0, 0, g^{OT}_{LE, 04}*(b^\\dagger_{OT, 03, 04} + b_{OT, 03, 04})],\n",
       "[0, 0, 0, 0, 0, 0, 0, 0, 0, 0, 0, 0, 0, 0, 0, 0, 0, 0, 0, 1, 0, 0, 0,                                                         0],\n",
       "[0, 0, 0, 0, 0, 0, 0, 0, 0, 0, 0, 0, 0, 0, 0, 0, 0, 0, 0, 0, 0, 0, 0,                                                         1]])"
      ]
     },
     "metadata": {},
     "output_type": "display_data"
    },
    {
     "data": {
      "text/latex": [
       "$\\displaystyle \\left[\\begin{array}{cccccccccccccccccccccccc}0 & 0 & 0 & 0 & 0 & 0 & 0 & 0 & 0 & 0 & 0 & 0 & 0 & 0 & 0 & 0 & 0 & 0 & 0 & 0 & 0 & 0 & 1 & 0\\\\0 & 0 & 0 & 0 & 0 & 1 & 0 & 0 & 0 & 0 & 0 & 0 & 0 & 0 & 0 & 0 & 0 & 0 & 0 & 0 & 0 & 0 & 0 & 0\\\\0 & 0 & 0 & 0 & 0 & 0 & 0 & 0 & 0 & 0 & 1 & 0 & 0 & 0 & 0 & 0 & 0 & 0 & 0 & 0 & 0 & 0 & 0 & 0\\\\1 & 0 & 0 & 0 & 0 & 0 & 0 & 0 & 0 & 0 & 0 & 0 & 0 & 0 & 0 & 0 & 0 & 0 & 0 & 0 & 0 & 0 & 0 & 0\\\\0 & 0 & 0 & 0 & 0 & 0 & 0 & 0 & 0 & 0 & 0 & 0 & 0 & 0 & 1 & 0 & 0 & 0 & 0 & 0 & 0 & 0 & 0 & 0\\\\0 & 0 & 0 & 0 & 0 & 0 & 0 & 0 & 0 & 0 & 0 & 0 & 0 & 0 & 0 & 1 & 0 & 0 & 0 & 0 & 0 & 0 & 0 & 0\\\\0 & 0 & 0 & 0 & 0 & 0 & 0 & 0 & 1 & 0 & 0 & 0 & 0 & 0 & 0 & 0 & 0 & 0 & 0 & 0 & 0 & 0 & 0 & 0\\\\0 & 0 & 0 & 0 & 1 & 0 & 0 & 0 & 0 & 0 & 0 & 0 & 0 & 0 & 0 & 0 & 0 & 0 & 0 & 0 & 0 & 0 & 0 & g^{OT}_{CS, 05} \\left(b^\\dagger_{OT, 03, 05} + b_{OT, 03, 05}\\right)\\\\0 & 0 & 0 & 0 & 0 & 0 & 0 & 0 & 0 & 0 & 0 & 0 & 1 & 0 & 0 & 0 & 0 & 0 & 0 & 0 & 0 & 0 & 0 & 0\\\\0 & 0 & 0 & 0 & 0 & 0 & 0 & 0 & 0 & 0 & 0 & 0 & 0 & 0 & 0 & 0 & 0 & 1 & 0 & 0 & 0 & 0 & 0 & 0\\\\0 & 0 & 1 & 0 & 0 & 0 & 0 & 0 & 0 & 0 & 0 & 0 & 0 & 0 & 0 & 0 & 0 & 0 & 0 & 0 & 0 & 0 & 0 & ω^{OT}_5 b_{OT, 03, 05} b^\\dagger_{OT, 03, 05}\\\\0 & 0 & 0 & 0 & 0 & 0 & 0 & 0 & 0 & 0 & 0 & 0 & 0 & 0 & 0 & 0 & 0 & 0 & 0 & 0 & 1 & 0 & 0 & 0\\\\0 & 0 & 0 & 0 & 0 & 0 & 0 & 0 & 0 & 0 & 0 & 1 & 0 & 0 & 0 & 0 & 0 & 0 & 0 & 0 & 0 & 0 & 0 & 0\\\\0 & 0 & 0 & 0 & 0 & 0 & 0 & 1 & 0 & 0 & 0 & 0 & 0 & 0 & 0 & 0 & 0 & 0 & 0 & 0 & 0 & 0 & 0 & 0\\\\0 & 0 & 0 & 0 & 0 & 0 & 0 & 0 & 0 & 1 & 0 & 0 & 0 & 0 & 0 & 0 & 0 & 0 & 0 & 0 & 0 & 0 & 0 & 0\\\\0 & 0 & 0 & 0 & 0 & 0 & 0 & 0 & 0 & 0 & 0 & 0 & 0 & 0 & 0 & 0 & 0 & 0 & 1 & 0 & 0 & 0 & 0 & 0\\\\0 & 0 & 0 & 1 & 0 & 0 & 0 & 0 & 0 & 0 & 0 & 0 & 0 & 0 & 0 & 0 & 0 & 0 & 0 & 0 & 0 & 0 & 0 & g^{OT}_{LE, 05} \\left(b^\\dagger_{OT, 03, 05} + b_{OT, 03, 05}\\right)\\\\0 & 0 & 0 & 0 & 0 & 0 & 1 & 0 & 0 & 0 & 0 & 0 & 0 & 0 & 0 & 0 & 0 & 0 & 0 & 0 & 0 & 0 & 0 & 0\\\\0 & 0 & 0 & 0 & 0 & 0 & 0 & 0 & 0 & 0 & 0 & 0 & 0 & 0 & 0 & 0 & 0 & 0 & 0 & 1 & 0 & 0 & 0 & 0\\\\0 & 0 & 0 & 0 & 0 & 0 & 0 & 0 & 0 & 0 & 0 & 0 & 0 & 0 & 0 & 0 & 0 & 0 & 0 & 0 & 0 & 1 & 0 & 0\\\\0 & 0 & 0 & 0 & 0 & 0 & 0 & 0 & 0 & 0 & 0 & 0 & 0 & 1 & 0 & 0 & 0 & 0 & 0 & 0 & 0 & 0 & 0 & 0\\\\0 & 0 & 0 & 0 & 0 & 0 & 0 & 0 & 0 & 0 & 0 & 0 & 0 & 0 & 0 & 0 & 1 & 0 & 0 & 0 & 0 & 0 & 0 & 0\\\\0 & 1 & 0 & 0 & 0 & 0 & 0 & 0 & 0 & 0 & 0 & 0 & 0 & 0 & 0 & 0 & 0 & 0 & 0 & 0 & 0 & 0 & 0 & 0\\\\0 & 0 & 0 & 0 & 0 & 0 & 0 & 0 & 0 & 0 & 0 & 0 & 0 & 0 & 0 & 0 & 0 & 0 & 0 & 0 & 0 & 0 & 0 & 1\\end{array}\\right]$"
      ],
      "text/plain": [
       "Matrix([\n",
       "[0, 0, 0, 0, 0, 0, 0, 0, 0, 0, 0, 0, 0, 0, 0, 0, 0, 0, 0, 0, 0, 0, 1,                                                         0],\n",
       "[0, 0, 0, 0, 0, 1, 0, 0, 0, 0, 0, 0, 0, 0, 0, 0, 0, 0, 0, 0, 0, 0, 0,                                                         0],\n",
       "[0, 0, 0, 0, 0, 0, 0, 0, 0, 0, 1, 0, 0, 0, 0, 0, 0, 0, 0, 0, 0, 0, 0,                                                         0],\n",
       "[1, 0, 0, 0, 0, 0, 0, 0, 0, 0, 0, 0, 0, 0, 0, 0, 0, 0, 0, 0, 0, 0, 0,                                                         0],\n",
       "[0, 0, 0, 0, 0, 0, 0, 0, 0, 0, 0, 0, 0, 0, 1, 0, 0, 0, 0, 0, 0, 0, 0,                                                         0],\n",
       "[0, 0, 0, 0, 0, 0, 0, 0, 0, 0, 0, 0, 0, 0, 0, 1, 0, 0, 0, 0, 0, 0, 0,                                                         0],\n",
       "[0, 0, 0, 0, 0, 0, 0, 0, 1, 0, 0, 0, 0, 0, 0, 0, 0, 0, 0, 0, 0, 0, 0,                                                         0],\n",
       "[0, 0, 0, 0, 1, 0, 0, 0, 0, 0, 0, 0, 0, 0, 0, 0, 0, 0, 0, 0, 0, 0, 0, g^{OT}_{CS, 05}*(b^\\dagger_{OT, 03, 05} + b_{OT, 03, 05})],\n",
       "[0, 0, 0, 0, 0, 0, 0, 0, 0, 0, 0, 0, 1, 0, 0, 0, 0, 0, 0, 0, 0, 0, 0,                                                         0],\n",
       "[0, 0, 0, 0, 0, 0, 0, 0, 0, 0, 0, 0, 0, 0, 0, 0, 0, 1, 0, 0, 0, 0, 0,                                                         0],\n",
       "[0, 0, 1, 0, 0, 0, 0, 0, 0, 0, 0, 0, 0, 0, 0, 0, 0, 0, 0, 0, 0, 0, 0,            ω^{OT}_5*b_{OT, 03, 05}*b^\\dagger_{OT, 03, 05}],\n",
       "[0, 0, 0, 0, 0, 0, 0, 0, 0, 0, 0, 0, 0, 0, 0, 0, 0, 0, 0, 0, 1, 0, 0,                                                         0],\n",
       "[0, 0, 0, 0, 0, 0, 0, 0, 0, 0, 0, 1, 0, 0, 0, 0, 0, 0, 0, 0, 0, 0, 0,                                                         0],\n",
       "[0, 0, 0, 0, 0, 0, 0, 1, 0, 0, 0, 0, 0, 0, 0, 0, 0, 0, 0, 0, 0, 0, 0,                                                         0],\n",
       "[0, 0, 0, 0, 0, 0, 0, 0, 0, 1, 0, 0, 0, 0, 0, 0, 0, 0, 0, 0, 0, 0, 0,                                                         0],\n",
       "[0, 0, 0, 0, 0, 0, 0, 0, 0, 0, 0, 0, 0, 0, 0, 0, 0, 0, 1, 0, 0, 0, 0,                                                         0],\n",
       "[0, 0, 0, 1, 0, 0, 0, 0, 0, 0, 0, 0, 0, 0, 0, 0, 0, 0, 0, 0, 0, 0, 0, g^{OT}_{LE, 05}*(b^\\dagger_{OT, 03, 05} + b_{OT, 03, 05})],\n",
       "[0, 0, 0, 0, 0, 0, 1, 0, 0, 0, 0, 0, 0, 0, 0, 0, 0, 0, 0, 0, 0, 0, 0,                                                         0],\n",
       "[0, 0, 0, 0, 0, 0, 0, 0, 0, 0, 0, 0, 0, 0, 0, 0, 0, 0, 0, 1, 0, 0, 0,                                                         0],\n",
       "[0, 0, 0, 0, 0, 0, 0, 0, 0, 0, 0, 0, 0, 0, 0, 0, 0, 0, 0, 0, 0, 1, 0,                                                         0],\n",
       "[0, 0, 0, 0, 0, 0, 0, 0, 0, 0, 0, 0, 0, 1, 0, 0, 0, 0, 0, 0, 0, 0, 0,                                                         0],\n",
       "[0, 0, 0, 0, 0, 0, 0, 0, 0, 0, 0, 0, 0, 0, 0, 0, 1, 0, 0, 0, 0, 0, 0,                                                         0],\n",
       "[0, 1, 0, 0, 0, 0, 0, 0, 0, 0, 0, 0, 0, 0, 0, 0, 0, 0, 0, 0, 0, 0, 0,                                                         0],\n",
       "[0, 0, 0, 0, 0, 0, 0, 0, 0, 0, 0, 0, 0, 0, 0, 0, 0, 0, 0, 0, 0, 0, 0,                                                         1]])"
      ]
     },
     "metadata": {},
     "output_type": "display_data"
    },
    {
     "data": {
      "text/latex": [
       "$\\displaystyle \\left[\\begin{array}{cccccccccccccccccccccccc}0 & 0 & 0 & 0 & 0 & 0 & 0 & 1 & 0 & 0 & 0 & 0 & 0 & 0 & 0 & 0 & 0 & 0 & 0 & 0 & 0 & 0 & 0 & 0\\\\0 & 0 & 0 & 0 & 0 & 0 & 0 & 0 & 0 & 0 & 0 & 0 & 0 & 0 & 0 & 0 & 1 & 0 & 0 & 0 & 0 & 0 & 0 & 0\\\\0 & 0 & 0 & 1 & 0 & 0 & 0 & 0 & 0 & 0 & 0 & 0 & 0 & 0 & 0 & 0 & 0 & 0 & 0 & 0 & 0 & 0 & 0 & ω^{OT}_6 b_{OT, 03, 06} b^\\dagger_{OT, 03, 06}\\\\0 & 1 & 0 & 0 & 0 & 0 & 0 & 0 & 0 & 0 & 0 & 0 & 0 & 0 & 0 & 0 & 0 & 0 & 0 & 0 & 0 & 0 & 0 & g^{OT}_{LE, 06} \\left(b^\\dagger_{OT, 03, 06} + b_{OT, 03, 06}\\right)\\\\0 & 0 & 1 & 0 & 0 & 0 & 0 & 0 & 0 & 0 & 0 & 0 & 0 & 0 & 0 & 0 & 0 & 0 & 0 & 0 & 0 & 0 & 0 & g^{OT}_{CS, 06} \\left(b^\\dagger_{OT, 03, 06} + b_{OT, 03, 06}\\right)\\\\0 & 0 & 0 & 0 & 0 & 0 & 0 & 0 & 0 & 0 & 1 & 0 & 0 & 0 & 0 & 0 & 0 & 0 & 0 & 0 & 0 & 0 & 0 & 0\\\\0 & 0 & 0 & 0 & 0 & 0 & 0 & 0 & 0 & 0 & 0 & 0 & 1 & 0 & 0 & 0 & 0 & 0 & 0 & 0 & 0 & 0 & 0 & 0\\\\0 & 0 & 0 & 0 & 0 & 0 & 0 & 0 & 0 & 0 & 0 & 0 & 0 & 0 & 0 & 0 & 0 & 0 & 1 & 0 & 0 & 0 & 0 & 0\\\\1 & 0 & 0 & 0 & 0 & 0 & 0 & 0 & 0 & 0 & 0 & 0 & 0 & 0 & 0 & 0 & 0 & 0 & 0 & 0 & 0 & 0 & 0 & 0\\\\0 & 0 & 0 & 0 & 1 & 0 & 0 & 0 & 0 & 0 & 0 & 0 & 0 & 0 & 0 & 0 & 0 & 0 & 0 & 0 & 0 & 0 & 0 & 0\\\\0 & 0 & 0 & 0 & 0 & 0 & 0 & 0 & 0 & 0 & 0 & 1 & 0 & 0 & 0 & 0 & 0 & 0 & 0 & 0 & 0 & 0 & 0 & 0\\\\0 & 0 & 0 & 0 & 0 & 0 & 0 & 0 & 0 & 0 & 0 & 0 & 0 & 0 & 0 & 0 & 0 & 0 & 0 & 0 & 0 & 1 & 0 & 0\\\\0 & 0 & 0 & 0 & 0 & 1 & 0 & 0 & 0 & 0 & 0 & 0 & 0 & 0 & 0 & 0 & 0 & 0 & 0 & 0 & 0 & 0 & 0 & 0\\\\0 & 0 & 0 & 0 & 0 & 0 & 0 & 0 & 0 & 0 & 0 & 0 & 0 & 0 & 1 & 0 & 0 & 0 & 0 & 0 & 0 & 0 & 0 & 0\\\\0 & 0 & 0 & 0 & 0 & 0 & 0 & 0 & 0 & 0 & 0 & 0 & 0 & 0 & 0 & 1 & 0 & 0 & 0 & 0 & 0 & 0 & 0 & 0\\\\0 & 0 & 0 & 0 & 0 & 0 & 1 & 0 & 0 & 0 & 0 & 0 & 0 & 0 & 0 & 0 & 0 & 0 & 0 & 0 & 0 & 0 & 0 & 0\\\\0 & 0 & 0 & 0 & 0 & 0 & 0 & 0 & 0 & 0 & 0 & 0 & 0 & 0 & 0 & 0 & 0 & 0 & 0 & 0 & 0 & 0 & 1 & 0\\\\0 & 0 & 0 & 0 & 0 & 0 & 0 & 0 & 0 & 0 & 0 & 0 & 0 & 0 & 0 & 0 & 0 & 0 & 0 & 0 & 1 & 0 & 0 & 0\\\\0 & 0 & 0 & 0 & 0 & 0 & 0 & 0 & 1 & 0 & 0 & 0 & 0 & 0 & 0 & 0 & 0 & 0 & 0 & 0 & 0 & 0 & 0 & 0\\\\0 & 0 & 0 & 0 & 0 & 0 & 0 & 0 & 0 & 0 & 0 & 0 & 0 & 0 & 0 & 0 & 0 & 1 & 0 & 0 & 0 & 0 & 0 & 0\\\\0 & 0 & 0 & 0 & 0 & 0 & 0 & 0 & 0 & 0 & 0 & 0 & 0 & 1 & 0 & 0 & 0 & 0 & 0 & 0 & 0 & 0 & 0 & 0\\\\0 & 0 & 0 & 0 & 0 & 0 & 0 & 0 & 0 & 1 & 0 & 0 & 0 & 0 & 0 & 0 & 0 & 0 & 0 & 0 & 0 & 0 & 0 & 0\\\\0 & 0 & 0 & 0 & 0 & 0 & 0 & 0 & 0 & 0 & 0 & 0 & 0 & 0 & 0 & 0 & 0 & 0 & 0 & 1 & 0 & 0 & 0 & 0\\\\0 & 0 & 0 & 0 & 0 & 0 & 0 & 0 & 0 & 0 & 0 & 0 & 0 & 0 & 0 & 0 & 0 & 0 & 0 & 0 & 0 & 0 & 0 & 1\\end{array}\\right]$"
      ],
      "text/plain": [
       "Matrix([\n",
       "[0, 0, 0, 0, 0, 0, 0, 1, 0, 0, 0, 0, 0, 0, 0, 0, 0, 0, 0, 0, 0, 0, 0,                                                         0],\n",
       "[0, 0, 0, 0, 0, 0, 0, 0, 0, 0, 0, 0, 0, 0, 0, 0, 1, 0, 0, 0, 0, 0, 0,                                                         0],\n",
       "[0, 0, 0, 1, 0, 0, 0, 0, 0, 0, 0, 0, 0, 0, 0, 0, 0, 0, 0, 0, 0, 0, 0,            ω^{OT}_6*b_{OT, 03, 06}*b^\\dagger_{OT, 03, 06}],\n",
       "[0, 1, 0, 0, 0, 0, 0, 0, 0, 0, 0, 0, 0, 0, 0, 0, 0, 0, 0, 0, 0, 0, 0, g^{OT}_{LE, 06}*(b^\\dagger_{OT, 03, 06} + b_{OT, 03, 06})],\n",
       "[0, 0, 1, 0, 0, 0, 0, 0, 0, 0, 0, 0, 0, 0, 0, 0, 0, 0, 0, 0, 0, 0, 0, g^{OT}_{CS, 06}*(b^\\dagger_{OT, 03, 06} + b_{OT, 03, 06})],\n",
       "[0, 0, 0, 0, 0, 0, 0, 0, 0, 0, 1, 0, 0, 0, 0, 0, 0, 0, 0, 0, 0, 0, 0,                                                         0],\n",
       "[0, 0, 0, 0, 0, 0, 0, 0, 0, 0, 0, 0, 1, 0, 0, 0, 0, 0, 0, 0, 0, 0, 0,                                                         0],\n",
       "[0, 0, 0, 0, 0, 0, 0, 0, 0, 0, 0, 0, 0, 0, 0, 0, 0, 0, 1, 0, 0, 0, 0,                                                         0],\n",
       "[1, 0, 0, 0, 0, 0, 0, 0, 0, 0, 0, 0, 0, 0, 0, 0, 0, 0, 0, 0, 0, 0, 0,                                                         0],\n",
       "[0, 0, 0, 0, 1, 0, 0, 0, 0, 0, 0, 0, 0, 0, 0, 0, 0, 0, 0, 0, 0, 0, 0,                                                         0],\n",
       "[0, 0, 0, 0, 0, 0, 0, 0, 0, 0, 0, 1, 0, 0, 0, 0, 0, 0, 0, 0, 0, 0, 0,                                                         0],\n",
       "[0, 0, 0, 0, 0, 0, 0, 0, 0, 0, 0, 0, 0, 0, 0, 0, 0, 0, 0, 0, 0, 1, 0,                                                         0],\n",
       "[0, 0, 0, 0, 0, 1, 0, 0, 0, 0, 0, 0, 0, 0, 0, 0, 0, 0, 0, 0, 0, 0, 0,                                                         0],\n",
       "[0, 0, 0, 0, 0, 0, 0, 0, 0, 0, 0, 0, 0, 0, 1, 0, 0, 0, 0, 0, 0, 0, 0,                                                         0],\n",
       "[0, 0, 0, 0, 0, 0, 0, 0, 0, 0, 0, 0, 0, 0, 0, 1, 0, 0, 0, 0, 0, 0, 0,                                                         0],\n",
       "[0, 0, 0, 0, 0, 0, 1, 0, 0, 0, 0, 0, 0, 0, 0, 0, 0, 0, 0, 0, 0, 0, 0,                                                         0],\n",
       "[0, 0, 0, 0, 0, 0, 0, 0, 0, 0, 0, 0, 0, 0, 0, 0, 0, 0, 0, 0, 0, 0, 1,                                                         0],\n",
       "[0, 0, 0, 0, 0, 0, 0, 0, 0, 0, 0, 0, 0, 0, 0, 0, 0, 0, 0, 0, 1, 0, 0,                                                         0],\n",
       "[0, 0, 0, 0, 0, 0, 0, 0, 1, 0, 0, 0, 0, 0, 0, 0, 0, 0, 0, 0, 0, 0, 0,                                                         0],\n",
       "[0, 0, 0, 0, 0, 0, 0, 0, 0, 0, 0, 0, 0, 0, 0, 0, 0, 1, 0, 0, 0, 0, 0,                                                         0],\n",
       "[0, 0, 0, 0, 0, 0, 0, 0, 0, 0, 0, 0, 0, 1, 0, 0, 0, 0, 0, 0, 0, 0, 0,                                                         0],\n",
       "[0, 0, 0, 0, 0, 0, 0, 0, 0, 1, 0, 0, 0, 0, 0, 0, 0, 0, 0, 0, 0, 0, 0,                                                         0],\n",
       "[0, 0, 0, 0, 0, 0, 0, 0, 0, 0, 0, 0, 0, 0, 0, 0, 0, 0, 0, 1, 0, 0, 0,                                                         0],\n",
       "[0, 0, 0, 0, 0, 0, 0, 0, 0, 0, 0, 0, 0, 0, 0, 0, 0, 0, 0, 0, 0, 0, 0,                                                         1]])"
      ]
     },
     "metadata": {},
     "output_type": "display_data"
    },
    {
     "data": {
      "text/latex": [
       "$\\displaystyle \\left[\\begin{array}{ccccccccccccccccccccccc}0 & 0 & 0 & 0 & 0 & 0 & 0 & 0 & 0 & 0 & 0 & 0 & 0 & 0 & 0 & 1 & 0 & 0 & 0 & 0 & 0 & 0 & 0\\\\0 & 0 & 0 & 0 & 0 & 0 & 0 & 0 & 0 & 0 & 0 & 0 & 0 & 0 & 0 & 0 & 0 & 0 & 0 & 0 & 0 & g^{OT}_{LE, 07} \\left(b^\\dagger_{OT, 03, 07} + b_{OT, 03, 07}\\right) & g^{OT}_{LE, 08}\\\\0 & 0 & 0 & 0 & 0 & 0 & 0 & 0 & 0 & 0 & 0 & 0 & 0 & 0 & 0 & 0 & 0 & 0 & 0 & 0 & 0 & g^{OT}_{CS, 07} \\left(b^\\dagger_{OT, 03, 07} + b_{OT, 03, 07}\\right) + ε^{{CS}}_{03} & g^{OT}_{CS, 08}\\\\0 & 0 & 1 & 0 & 0 & 0 & 0 & 0 & 0 & 0 & 0 & 0 & 0 & 0 & 0 & 0 & 0 & 0 & 0 & 0 & 0 & ω^{OT}_7 b_{OT, 03, 07} b^\\dagger_{OT, 03, 07} & 0\\\\0 & 1 & 0 & 0 & 0 & 0 & 0 & 0 & 0 & 0 & 0 & 0 & 0 & 0 & 0 & 0 & 0 & 0 & 0 & 0 & 0 & 0 & 0\\\\1 & 0 & 0 & 0 & 0 & 0 & 0 & 0 & 0 & 0 & 0 & 0 & 0 & 0 & 0 & 0 & 0 & 0 & 0 & 0 & 0 & 0 & 0\\\\0 & 0 & 0 & 0 & 0 & 0 & 0 & 0 & 0 & 0 & 0 & 0 & 0 & 1 & 0 & 0 & 0 & 0 & 0 & 0 & 0 & 0 & 0\\\\0 & 0 & 0 & 0 & 0 & 0 & 0 & 0 & 0 & 0 & 0 & 0 & 0 & 0 & 0 & 0 & 0 & 0 & 0 & 1 & 0 & 0 & 0\\\\0 & 0 & 0 & 0 & 0 & 0 & 0 & 0 & 0 & 0 & 0 & 0 & 1 & 0 & 0 & 0 & 0 & 0 & 0 & 0 & 0 & 0 & 0\\\\0 & 0 & 0 & 0 & 0 & 0 & 0 & 0 & 0 & 0 & 0 & 0 & 0 & 0 & 0 & 0 & 1 & 0 & 0 & 0 & 0 & 0 & 0\\\\0 & 0 & 0 & 0 & 0 & 0 & 1 & 0 & 0 & 0 & 0 & 0 & 0 & 0 & 0 & 0 & 0 & 0 & 0 & 0 & 0 & 0 & 0\\\\0 & 0 & 0 & 0 & 0 & 0 & 0 & 0 & 0 & 0 & 0 & 0 & 0 & 0 & 1 & 0 & 0 & 0 & 0 & 0 & 0 & 0 & 0\\\\0 & 0 & 0 & 0 & 0 & 0 & 0 & 1 & 0 & 0 & 0 & 0 & 0 & 0 & 0 & 0 & 0 & 0 & 0 & 0 & 0 & 0 & 0\\\\0 & 0 & 0 & 0 & 0 & 0 & 0 & 0 & 0 & 0 & 0 & 0 & 0 & 0 & 0 & 0 & 0 & 0 & 1 & 0 & 0 & 0 & 0\\\\0 & 0 & 0 & 0 & 0 & 0 & 0 & 0 & 1 & 0 & 0 & 0 & 0 & 0 & 0 & 0 & 0 & 0 & 0 & 0 & 0 & 0 & 0\\\\0 & 0 & 0 & 1 & 0 & 0 & 0 & 0 & 0 & 0 & 0 & 0 & 0 & 0 & 0 & 0 & 0 & 0 & 0 & 0 & 0 & 0 & 0\\\\0 & 0 & 0 & 0 & 0 & 1 & 0 & 0 & 0 & 0 & 0 & 0 & 0 & 0 & 0 & 0 & 0 & 0 & 0 & 0 & 0 & 0 & 0\\\\0 & 0 & 0 & 0 & 0 & 0 & 0 & 0 & 0 & 0 & 0 & 0 & 0 & 0 & 0 & 0 & 0 & 1 & 0 & 0 & 0 & 0 & 0\\\\0 & 0 & 0 & 0 & 0 & 0 & 0 & 0 & 0 & 0 & 1 & 0 & 0 & 0 & 0 & 0 & 0 & 0 & 0 & 0 & 0 & 0 & 0\\\\0 & 0 & 0 & 0 & 0 & 0 & 0 & 0 & 0 & 0 & 0 & 0 & 0 & 0 & 0 & 0 & 0 & 0 & 0 & 0 & 1 & 0 & 0\\\\0 & 0 & 0 & 0 & 1 & 0 & 0 & 0 & 0 & 0 & 0 & 0 & 0 & 0 & 0 & 0 & 0 & 0 & 0 & 0 & 0 & 0 & 0\\\\0 & 0 & 0 & 0 & 0 & 0 & 0 & 0 & 0 & 0 & 0 & 1 & 0 & 0 & 0 & 0 & 0 & 0 & 0 & 0 & 0 & 0 & 0\\\\0 & 0 & 0 & 0 & 0 & 0 & 0 & 0 & 0 & 1 & 0 & 0 & 0 & 0 & 0 & 0 & 0 & 0 & 0 & 0 & 0 & 0 & 0\\\\0 & 0 & 0 & 0 & 0 & 0 & 0 & 0 & 0 & 0 & 0 & 0 & 0 & 0 & 0 & 0 & 0 & 0 & 0 & 0 & 0 & 1 & 0\\end{array}\\right]$"
      ],
      "text/plain": [
       "Matrix([\n",
       "[0, 0, 0, 0, 0, 0, 0, 0, 0, 0, 0, 0, 0, 0, 0, 1, 0, 0, 0, 0, 0,                                                                         0,               0],\n",
       "[0, 0, 0, 0, 0, 0, 0, 0, 0, 0, 0, 0, 0, 0, 0, 0, 0, 0, 0, 0, 0,                 g^{OT}_{LE, 07}*(b^\\dagger_{OT, 03, 07} + b_{OT, 03, 07}), g^{OT}_{LE, 08}],\n",
       "[0, 0, 0, 0, 0, 0, 0, 0, 0, 0, 0, 0, 0, 0, 0, 0, 0, 0, 0, 0, 0, g^{OT}_{CS, 07}*(b^\\dagger_{OT, 03, 07} + b_{OT, 03, 07}) + ε^{{CS}}_{03}, g^{OT}_{CS, 08}],\n",
       "[0, 0, 1, 0, 0, 0, 0, 0, 0, 0, 0, 0, 0, 0, 0, 0, 0, 0, 0, 0, 0,                            ω^{OT}_7*b_{OT, 03, 07}*b^\\dagger_{OT, 03, 07},               0],\n",
       "[0, 1, 0, 0, 0, 0, 0, 0, 0, 0, 0, 0, 0, 0, 0, 0, 0, 0, 0, 0, 0,                                                                         0,               0],\n",
       "[1, 0, 0, 0, 0, 0, 0, 0, 0, 0, 0, 0, 0, 0, 0, 0, 0, 0, 0, 0, 0,                                                                         0,               0],\n",
       "[0, 0, 0, 0, 0, 0, 0, 0, 0, 0, 0, 0, 0, 1, 0, 0, 0, 0, 0, 0, 0,                                                                         0,               0],\n",
       "[0, 0, 0, 0, 0, 0, 0, 0, 0, 0, 0, 0, 0, 0, 0, 0, 0, 0, 0, 1, 0,                                                                         0,               0],\n",
       "[0, 0, 0, 0, 0, 0, 0, 0, 0, 0, 0, 0, 1, 0, 0, 0, 0, 0, 0, 0, 0,                                                                         0,               0],\n",
       "[0, 0, 0, 0, 0, 0, 0, 0, 0, 0, 0, 0, 0, 0, 0, 0, 1, 0, 0, 0, 0,                                                                         0,               0],\n",
       "[0, 0, 0, 0, 0, 0, 1, 0, 0, 0, 0, 0, 0, 0, 0, 0, 0, 0, 0, 0, 0,                                                                         0,               0],\n",
       "[0, 0, 0, 0, 0, 0, 0, 0, 0, 0, 0, 0, 0, 0, 1, 0, 0, 0, 0, 0, 0,                                                                         0,               0],\n",
       "[0, 0, 0, 0, 0, 0, 0, 1, 0, 0, 0, 0, 0, 0, 0, 0, 0, 0, 0, 0, 0,                                                                         0,               0],\n",
       "[0, 0, 0, 0, 0, 0, 0, 0, 0, 0, 0, 0, 0, 0, 0, 0, 0, 0, 1, 0, 0,                                                                         0,               0],\n",
       "[0, 0, 0, 0, 0, 0, 0, 0, 1, 0, 0, 0, 0, 0, 0, 0, 0, 0, 0, 0, 0,                                                                         0,               0],\n",
       "[0, 0, 0, 1, 0, 0, 0, 0, 0, 0, 0, 0, 0, 0, 0, 0, 0, 0, 0, 0, 0,                                                                         0,               0],\n",
       "[0, 0, 0, 0, 0, 1, 0, 0, 0, 0, 0, 0, 0, 0, 0, 0, 0, 0, 0, 0, 0,                                                                         0,               0],\n",
       "[0, 0, 0, 0, 0, 0, 0, 0, 0, 0, 0, 0, 0, 0, 0, 0, 0, 1, 0, 0, 0,                                                                         0,               0],\n",
       "[0, 0, 0, 0, 0, 0, 0, 0, 0, 0, 1, 0, 0, 0, 0, 0, 0, 0, 0, 0, 0,                                                                         0,               0],\n",
       "[0, 0, 0, 0, 0, 0, 0, 0, 0, 0, 0, 0, 0, 0, 0, 0, 0, 0, 0, 0, 1,                                                                         0,               0],\n",
       "[0, 0, 0, 0, 1, 0, 0, 0, 0, 0, 0, 0, 0, 0, 0, 0, 0, 0, 0, 0, 0,                                                                         0,               0],\n",
       "[0, 0, 0, 0, 0, 0, 0, 0, 0, 0, 0, 1, 0, 0, 0, 0, 0, 0, 0, 0, 0,                                                                         0,               0],\n",
       "[0, 0, 0, 0, 0, 0, 0, 0, 0, 1, 0, 0, 0, 0, 0, 0, 0, 0, 0, 0, 0,                                                                         0,               0],\n",
       "[0, 0, 0, 0, 0, 0, 0, 0, 0, 0, 0, 0, 0, 0, 0, 0, 0, 0, 0, 0, 0,                                                                         1,               0]])"
      ]
     },
     "metadata": {},
     "output_type": "display_data"
    },
    {
     "data": {
      "text/latex": [
       "$\\displaystyle \\left[\\begin{array}{cccccccccccccccccccccc}0 & 1 & 0 & 0 & 0 & 0 & 0 & 0 & 0 & 0 & 0 & 0 & 0 & 0 & 0 & 0 & 0 & 0 & 0 & 0 & 0 & 0\\\\0 & 0 & 0 & 0 & 0 & 0 & 0 & 0 & 0 & 0 & 0 & 0 & 0 & 0 & 1 & 0 & 0 & 0 & 0 & 0 & 0 & 0\\\\0 & 0 & 0 & 0 & 0 & 0 & 0 & 0 & 0 & 0 & 0 & 0 & 0 & 0 & 0 & 1 & 0 & 0 & 0 & 0 & 0 & ω^{OT}_8 b_{OT, 03, 08} b^\\dagger_{OT, 03, 08}\\\\0 & 0 & 0 & 0 & 0 & 1 & 0 & 0 & 0 & 0 & 0 & 0 & 0 & 0 & 0 & 0 & 0 & 0 & 0 & 0 & 0 & 0\\\\0 & 0 & 0 & 1 & 0 & 0 & 0 & 0 & 0 & 0 & 0 & 0 & 0 & 0 & 0 & 0 & 0 & 0 & 0 & 0 & 0 & 0\\\\0 & 0 & 0 & 0 & 0 & 0 & 0 & 0 & 1 & 0 & 0 & 0 & 0 & 0 & 0 & 0 & 0 & 0 & 0 & 0 & 0 & 0\\\\0 & 0 & 0 & 0 & 0 & 0 & 0 & 0 & 0 & 0 & 0 & 0 & 0 & 0 & 0 & 0 & 0 & 1 & 0 & 0 & 0 & 0\\\\0 & 0 & 0 & 0 & 1 & 0 & 0 & 0 & 0 & 0 & 0 & 0 & 0 & 0 & 0 & 0 & 0 & 0 & 0 & 0 & 0 & 0\\\\0 & 0 & 0 & 0 & 0 & 0 & 0 & 1 & 0 & 0 & 0 & 0 & 0 & 0 & 0 & 0 & 0 & 0 & 0 & 0 & 0 & 0\\\\0 & 0 & 0 & 0 & 0 & 0 & 0 & 0 & 0 & 0 & 1 & 0 & 0 & 0 & 0 & 0 & 0 & 0 & 0 & 0 & 0 & 0\\\\0 & 0 & 0 & 0 & 0 & 0 & 0 & 0 & 0 & 0 & 0 & 1 & 0 & 0 & 0 & 0 & 0 & 0 & 0 & 0 & 0 & 0\\\\0 & 0 & 0 & 0 & 0 & 0 & 0 & 0 & 0 & 0 & 0 & 0 & 0 & 0 & 0 & 0 & 0 & 0 & 1 & 0 & 0 & 0\\\\1 & 0 & 0 & 0 & 0 & 0 & 0 & 0 & 0 & 0 & 0 & 0 & 0 & 0 & 0 & 0 & 0 & 0 & 0 & 0 & 0 & 0\\\\0 & 0 & 0 & 0 & 0 & 0 & 0 & 0 & 0 & 0 & 0 & 0 & 0 & 0 & 0 & 0 & 0 & 0 & 0 & 1 & 0 & 0\\\\0 & 0 & 0 & 0 & 0 & 0 & 0 & 0 & 0 & 0 & 0 & 0 & 1 & 0 & 0 & 0 & 0 & 0 & 0 & 0 & 0 & 0\\\\0 & 0 & 1 & 0 & 0 & 0 & 0 & 0 & 0 & 0 & 0 & 0 & 0 & 0 & 0 & 0 & 0 & 0 & 0 & 0 & 0 & 0\\\\0 & 0 & 0 & 0 & 0 & 0 & 1 & 0 & 0 & 0 & 0 & 0 & 0 & 0 & 0 & 0 & 0 & 0 & 0 & 0 & 0 & 0\\\\0 & 0 & 0 & 0 & 0 & 0 & 0 & 0 & 0 & 0 & 0 & 0 & 0 & 0 & 0 & 0 & 1 & 0 & 0 & 0 & 0 & 0\\\\0 & 0 & 0 & 0 & 0 & 0 & 0 & 0 & 0 & 0 & 0 & 0 & 0 & 1 & 0 & 0 & 0 & 0 & 0 & 0 & 0 & 0\\\\0 & 0 & 0 & 0 & 0 & 0 & 0 & 0 & 0 & 1 & 0 & 0 & 0 & 0 & 0 & 0 & 0 & 0 & 0 & 0 & 0 & 0\\\\0 & 0 & 0 & 0 & 0 & 0 & 0 & 0 & 0 & 0 & 0 & 0 & 0 & 0 & 0 & 0 & 0 & 0 & 0 & 0 & 1 & 0\\\\0 & 0 & 0 & 0 & 0 & 0 & 0 & 0 & 0 & 0 & 0 & 0 & 0 & 0 & 0 & 0 & 0 & 0 & 0 & 0 & 0 & 1\\\\0 & 0 & 0 & 0 & 0 & 0 & 0 & 0 & 0 & 0 & 0 & 0 & 0 & 0 & 0 & 0 & 0 & 0 & 0 & 0 & 0 & b^\\dagger_{OT, 03, 08} + b_{OT, 03, 08}\\end{array}\\right]$"
      ],
      "text/plain": [
       "Matrix([\n",
       "[0, 1, 0, 0, 0, 0, 0, 0, 0, 0, 0, 0, 0, 0, 0, 0, 0, 0, 0, 0, 0,                                              0],\n",
       "[0, 0, 0, 0, 0, 0, 0, 0, 0, 0, 0, 0, 0, 0, 1, 0, 0, 0, 0, 0, 0,                                              0],\n",
       "[0, 0, 0, 0, 0, 0, 0, 0, 0, 0, 0, 0, 0, 0, 0, 1, 0, 0, 0, 0, 0, ω^{OT}_8*b_{OT, 03, 08}*b^\\dagger_{OT, 03, 08}],\n",
       "[0, 0, 0, 0, 0, 1, 0, 0, 0, 0, 0, 0, 0, 0, 0, 0, 0, 0, 0, 0, 0,                                              0],\n",
       "[0, 0, 0, 1, 0, 0, 0, 0, 0, 0, 0, 0, 0, 0, 0, 0, 0, 0, 0, 0, 0,                                              0],\n",
       "[0, 0, 0, 0, 0, 0, 0, 0, 1, 0, 0, 0, 0, 0, 0, 0, 0, 0, 0, 0, 0,                                              0],\n",
       "[0, 0, 0, 0, 0, 0, 0, 0, 0, 0, 0, 0, 0, 0, 0, 0, 0, 1, 0, 0, 0,                                              0],\n",
       "[0, 0, 0, 0, 1, 0, 0, 0, 0, 0, 0, 0, 0, 0, 0, 0, 0, 0, 0, 0, 0,                                              0],\n",
       "[0, 0, 0, 0, 0, 0, 0, 1, 0, 0, 0, 0, 0, 0, 0, 0, 0, 0, 0, 0, 0,                                              0],\n",
       "[0, 0, 0, 0, 0, 0, 0, 0, 0, 0, 1, 0, 0, 0, 0, 0, 0, 0, 0, 0, 0,                                              0],\n",
       "[0, 0, 0, 0, 0, 0, 0, 0, 0, 0, 0, 1, 0, 0, 0, 0, 0, 0, 0, 0, 0,                                              0],\n",
       "[0, 0, 0, 0, 0, 0, 0, 0, 0, 0, 0, 0, 0, 0, 0, 0, 0, 0, 1, 0, 0,                                              0],\n",
       "[1, 0, 0, 0, 0, 0, 0, 0, 0, 0, 0, 0, 0, 0, 0, 0, 0, 0, 0, 0, 0,                                              0],\n",
       "[0, 0, 0, 0, 0, 0, 0, 0, 0, 0, 0, 0, 0, 0, 0, 0, 0, 0, 0, 1, 0,                                              0],\n",
       "[0, 0, 0, 0, 0, 0, 0, 0, 0, 0, 0, 0, 1, 0, 0, 0, 0, 0, 0, 0, 0,                                              0],\n",
       "[0, 0, 1, 0, 0, 0, 0, 0, 0, 0, 0, 0, 0, 0, 0, 0, 0, 0, 0, 0, 0,                                              0],\n",
       "[0, 0, 0, 0, 0, 0, 1, 0, 0, 0, 0, 0, 0, 0, 0, 0, 0, 0, 0, 0, 0,                                              0],\n",
       "[0, 0, 0, 0, 0, 0, 0, 0, 0, 0, 0, 0, 0, 0, 0, 0, 1, 0, 0, 0, 0,                                              0],\n",
       "[0, 0, 0, 0, 0, 0, 0, 0, 0, 0, 0, 0, 0, 1, 0, 0, 0, 0, 0, 0, 0,                                              0],\n",
       "[0, 0, 0, 0, 0, 0, 0, 0, 0, 1, 0, 0, 0, 0, 0, 0, 0, 0, 0, 0, 0,                                              0],\n",
       "[0, 0, 0, 0, 0, 0, 0, 0, 0, 0, 0, 0, 0, 0, 0, 0, 0, 0, 0, 0, 1,                                              0],\n",
       "[0, 0, 0, 0, 0, 0, 0, 0, 0, 0, 0, 0, 0, 0, 0, 0, 0, 0, 0, 0, 0,                                              1],\n",
       "[0, 0, 0, 0, 0, 0, 0, 0, 0, 0, 0, 0, 0, 0, 0, 0, 0, 0, 0, 0, 0,        b^\\dagger_{OT, 03, 08} + b_{OT, 03, 08}]])"
      ]
     },
     "metadata": {},
     "output_type": "display_data"
    },
    {
     "data": {
      "text/latex": [
       "$\\displaystyle \\left[\\begin{array}{cccccccccccccccccccccc}0 & 0 & 0 & 0 & 0 & 0 & 0 & 0 & 0 & 0 & 0 & 1 & 0 & 0 & 0 & 0 & 0 & 0 & 0 & 0 & 0 & 0\\\\0 & 0 & 0 & 1 & 0 & 0 & 0 & 0 & 0 & 0 & 0 & 0 & 0 & 0 & 0 & 0 & 0 & 0 & 0 & 0 & 0 & 0\\\\0 & 0 & 0 & 0 & 0 & 0 & 0 & 0 & 0 & 0 & 0 & 0 & 0 & 1 & 0 & 0 & 0 & 0 & 0 & 0 & 0 & 0\\\\0 & 0 & 0 & 0 & 0 & 0 & 0 & 1 & 0 & 0 & 0 & 0 & 0 & 0 & 0 & 0 & 0 & 0 & 0 & 0 & 0 & 0\\\\0 & 1 & 0 & 0 & 0 & 0 & 0 & 0 & 0 & 0 & 0 & 0 & 0 & 0 & 0 & 0 & 0 & 0 & 0 & 0 & 0 & 0\\\\0 & 0 & 0 & 0 & 0 & 0 & 0 & 0 & 0 & 0 & 0 & 0 & 0 & 0 & 0 & 0 & 0 & 0 & 0 & 0 & 1 & 0\\\\0 & 0 & 1 & 0 & 0 & 0 & 0 & 0 & 0 & 0 & 0 & 0 & 0 & 0 & 0 & 0 & 0 & 0 & 0 & 0 & 0 & 0\\\\0 & 0 & 0 & 0 & 0 & 0 & 0 & 0 & 0 & 0 & 0 & 0 & 0 & 0 & 0 & 0 & 0 & 0 & 0 & 1 & 0 & g^{OT}_{CS, 01} \\left(b^\\dagger_{OT, 04, 01} + b_{OT, 04, 01}\\right)\\\\0 & 0 & 0 & 0 & 0 & 0 & 0 & 0 & 1 & 0 & 0 & 0 & 0 & 0 & 0 & 0 & 0 & 0 & 0 & 0 & 0 & 0\\\\0 & 0 & 0 & 0 & 0 & 0 & 1 & 0 & 0 & 0 & 0 & 0 & 0 & 0 & 0 & 0 & 0 & 0 & 0 & 0 & 0 & 0\\\\0 & 0 & 0 & 0 & 0 & 0 & 0 & 0 & 0 & 0 & 0 & 0 & 1 & 0 & 0 & 0 & 0 & 0 & 0 & 0 & 0 & 0\\\\1 & 0 & 0 & 0 & 0 & 0 & 0 & 0 & 0 & 0 & 0 & 0 & 0 & 0 & 0 & 0 & 0 & 0 & 0 & 0 & 0 & 0\\\\0 & 0 & 0 & 0 & 1 & 0 & 0 & 0 & 0 & 0 & 0 & 0 & 0 & 0 & 0 & 0 & 0 & 0 & 0 & 0 & 0 & 0\\\\0 & 0 & 0 & 0 & 0 & 0 & 0 & 0 & 0 & 1 & 0 & 0 & 0 & 0 & 0 & 0 & 0 & 0 & 0 & 0 & 0 & 0\\\\0 & 0 & 0 & 0 & 0 & 0 & 0 & 0 & 0 & 0 & 0 & 0 & 0 & 0 & 0 & 1 & 0 & 0 & 0 & 0 & 0 & 0\\\\0 & 0 & 0 & 0 & 0 & 1 & 0 & 0 & 0 & 0 & 0 & 0 & 0 & 0 & 0 & 0 & 0 & 0 & 0 & 0 & 0 & ω^{OT}_1 b_{OT, 04, 01} b^\\dagger_{OT, 04, 01}\\\\0 & 0 & 0 & 0 & 0 & 0 & 0 & 0 & 0 & 0 & 0 & 0 & 0 & 0 & 1 & 0 & 0 & 0 & 0 & 0 & 0 & 0\\\\0 & 0 & 0 & 0 & 0 & 0 & 0 & 0 & 0 & 0 & 0 & 0 & 0 & 0 & 0 & 0 & 1 & 0 & 0 & 0 & 0 & 0\\\\0 & 0 & 0 & 0 & 0 & 0 & 0 & 0 & 0 & 0 & 0 & 0 & 0 & 0 & 0 & 0 & 0 & 1 & 0 & 0 & 0 & 0\\\\0 & 0 & 0 & 0 & 0 & 0 & 0 & 0 & 0 & 0 & 1 & 0 & 0 & 0 & 0 & 0 & 0 & 0 & 0 & 0 & 0 & 0\\\\0 & 0 & 0 & 0 & 0 & 0 & 0 & 0 & 0 & 0 & 0 & 0 & 0 & 0 & 0 & 0 & 0 & 0 & 1 & 0 & 0 & g^{OT}_{LE, 01} \\left(b^\\dagger_{OT, 04, 01} + b_{OT, 04, 01}\\right)\\\\0 & 0 & 0 & 0 & 0 & 0 & 0 & 0 & 0 & 0 & 0 & 0 & 0 & 0 & 0 & 0 & 0 & 0 & 0 & 0 & 0 & 1\\end{array}\\right]$"
      ],
      "text/plain": [
       "Matrix([\n",
       "[0, 0, 0, 0, 0, 0, 0, 0, 0, 0, 0, 1, 0, 0, 0, 0, 0, 0, 0, 0, 0,                                                         0],\n",
       "[0, 0, 0, 1, 0, 0, 0, 0, 0, 0, 0, 0, 0, 0, 0, 0, 0, 0, 0, 0, 0,                                                         0],\n",
       "[0, 0, 0, 0, 0, 0, 0, 0, 0, 0, 0, 0, 0, 1, 0, 0, 0, 0, 0, 0, 0,                                                         0],\n",
       "[0, 0, 0, 0, 0, 0, 0, 1, 0, 0, 0, 0, 0, 0, 0, 0, 0, 0, 0, 0, 0,                                                         0],\n",
       "[0, 1, 0, 0, 0, 0, 0, 0, 0, 0, 0, 0, 0, 0, 0, 0, 0, 0, 0, 0, 0,                                                         0],\n",
       "[0, 0, 0, 0, 0, 0, 0, 0, 0, 0, 0, 0, 0, 0, 0, 0, 0, 0, 0, 0, 1,                                                         0],\n",
       "[0, 0, 1, 0, 0, 0, 0, 0, 0, 0, 0, 0, 0, 0, 0, 0, 0, 0, 0, 0, 0,                                                         0],\n",
       "[0, 0, 0, 0, 0, 0, 0, 0, 0, 0, 0, 0, 0, 0, 0, 0, 0, 0, 0, 1, 0, g^{OT}_{CS, 01}*(b^\\dagger_{OT, 04, 01} + b_{OT, 04, 01})],\n",
       "[0, 0, 0, 0, 0, 0, 0, 0, 1, 0, 0, 0, 0, 0, 0, 0, 0, 0, 0, 0, 0,                                                         0],\n",
       "[0, 0, 0, 0, 0, 0, 1, 0, 0, 0, 0, 0, 0, 0, 0, 0, 0, 0, 0, 0, 0,                                                         0],\n",
       "[0, 0, 0, 0, 0, 0, 0, 0, 0, 0, 0, 0, 1, 0, 0, 0, 0, 0, 0, 0, 0,                                                         0],\n",
       "[1, 0, 0, 0, 0, 0, 0, 0, 0, 0, 0, 0, 0, 0, 0, 0, 0, 0, 0, 0, 0,                                                         0],\n",
       "[0, 0, 0, 0, 1, 0, 0, 0, 0, 0, 0, 0, 0, 0, 0, 0, 0, 0, 0, 0, 0,                                                         0],\n",
       "[0, 0, 0, 0, 0, 0, 0, 0, 0, 1, 0, 0, 0, 0, 0, 0, 0, 0, 0, 0, 0,                                                         0],\n",
       "[0, 0, 0, 0, 0, 0, 0, 0, 0, 0, 0, 0, 0, 0, 0, 1, 0, 0, 0, 0, 0,                                                         0],\n",
       "[0, 0, 0, 0, 0, 1, 0, 0, 0, 0, 0, 0, 0, 0, 0, 0, 0, 0, 0, 0, 0,            ω^{OT}_1*b_{OT, 04, 01}*b^\\dagger_{OT, 04, 01}],\n",
       "[0, 0, 0, 0, 0, 0, 0, 0, 0, 0, 0, 0, 0, 0, 1, 0, 0, 0, 0, 0, 0,                                                         0],\n",
       "[0, 0, 0, 0, 0, 0, 0, 0, 0, 0, 0, 0, 0, 0, 0, 0, 1, 0, 0, 0, 0,                                                         0],\n",
       "[0, 0, 0, 0, 0, 0, 0, 0, 0, 0, 0, 0, 0, 0, 0, 0, 0, 1, 0, 0, 0,                                                         0],\n",
       "[0, 0, 0, 0, 0, 0, 0, 0, 0, 0, 1, 0, 0, 0, 0, 0, 0, 0, 0, 0, 0,                                                         0],\n",
       "[0, 0, 0, 0, 0, 0, 0, 0, 0, 0, 0, 0, 0, 0, 0, 0, 0, 0, 1, 0, 0, g^{OT}_{LE, 01}*(b^\\dagger_{OT, 04, 01} + b_{OT, 04, 01})],\n",
       "[0, 0, 0, 0, 0, 0, 0, 0, 0, 0, 0, 0, 0, 0, 0, 0, 0, 0, 0, 0, 0,                                                         1]])"
      ]
     },
     "metadata": {},
     "output_type": "display_data"
    },
    {
     "data": {
      "text/latex": [
       "$\\displaystyle \\left[\\begin{array}{cccccccccccccccccccccc}0 & 0 & 0 & 0 & 0 & 0 & 0 & 0 & 1 & 0 & 0 & 0 & 0 & 0 & 0 & 0 & 0 & 0 & 0 & 0 & 0 & 0\\\\0 & 0 & 1 & 0 & 0 & 0 & 0 & 0 & 0 & 0 & 0 & 0 & 0 & 0 & 0 & 0 & 0 & 0 & 0 & 0 & 0 & 0\\\\0 & 0 & 0 & 0 & 0 & 0 & 1 & 0 & 0 & 0 & 0 & 0 & 0 & 0 & 0 & 0 & 0 & 0 & 0 & 0 & 0 & 0\\\\0 & 0 & 0 & 0 & 0 & 0 & 0 & 0 & 0 & 0 & 0 & 0 & 0 & 0 & 0 & 0 & 0 & 0 & 0 & 1 & 0 & 0\\\\0 & 0 & 0 & 0 & 0 & 0 & 0 & 0 & 0 & 0 & 0 & 0 & 0 & 0 & 1 & 0 & 0 & 0 & 0 & 0 & 0 & 0\\\\0 & 1 & 0 & 0 & 0 & 0 & 0 & 0 & 0 & 0 & 0 & 0 & 0 & 0 & 0 & 0 & 0 & 0 & 0 & 0 & 0 & ω^{OT}_2 b_{OT, 04, 02} b^\\dagger_{OT, 04, 02}\\\\0 & 0 & 0 & 1 & 0 & 0 & 0 & 0 & 0 & 0 & 0 & 0 & 0 & 0 & 0 & 0 & 0 & 0 & 0 & 0 & 0 & 0\\\\0 & 0 & 0 & 0 & 0 & 0 & 0 & 0 & 0 & 0 & 0 & 1 & 0 & 0 & 0 & 0 & 0 & 0 & 0 & 0 & 0 & 0\\\\1 & 0 & 0 & 0 & 0 & 0 & 0 & 0 & 0 & 0 & 0 & 0 & 0 & 0 & 0 & 0 & 0 & 0 & 0 & 0 & 0 & 0\\\\0 & 0 & 0 & 0 & 0 & 0 & 0 & 0 & 0 & 1 & 0 & 0 & 0 & 0 & 0 & 0 & 0 & 0 & 0 & 0 & 0 & 0\\\\0 & 0 & 0 & 0 & 0 & 0 & 0 & 1 & 0 & 0 & 0 & 0 & 0 & 0 & 0 & 0 & 0 & 0 & 0 & 0 & 0 & 0\\\\0 & 0 & 0 & 0 & 1 & 0 & 0 & 0 & 0 & 0 & 0 & 0 & 0 & 0 & 0 & 0 & 0 & 0 & 0 & 0 & 0 & 0\\\\0 & 0 & 0 & 0 & 0 & 0 & 0 & 0 & 0 & 0 & 0 & 0 & 0 & 1 & 0 & 0 & 0 & 0 & 0 & 0 & 0 & 0\\\\0 & 0 & 0 & 0 & 0 & 0 & 0 & 0 & 0 & 0 & 0 & 0 & 0 & 0 & 0 & 0 & 0 & 0 & 0 & 0 & 1 & 0\\\\0 & 0 & 0 & 0 & 0 & 0 & 0 & 0 & 0 & 0 & 0 & 0 & 0 & 0 & 0 & 0 & 1 & 0 & 0 & 0 & 0 & 0\\\\0 & 0 & 0 & 0 & 0 & 0 & 0 & 0 & 0 & 0 & 1 & 0 & 0 & 0 & 0 & 0 & 0 & 0 & 0 & 0 & 0 & 0\\\\0 & 0 & 0 & 0 & 0 & 0 & 0 & 0 & 0 & 0 & 0 & 0 & 0 & 0 & 0 & 1 & 0 & 0 & 0 & 0 & 0 & 0\\\\0 & 0 & 0 & 0 & 0 & 0 & 0 & 0 & 0 & 0 & 0 & 0 & 1 & 0 & 0 & 0 & 0 & 0 & 0 & 0 & 0 & 0\\\\0 & 0 & 0 & 0 & 0 & 1 & 0 & 0 & 0 & 0 & 0 & 0 & 0 & 0 & 0 & 0 & 0 & 0 & 0 & 0 & 0 & g^{OT}_{LE, 02} \\left(b^\\dagger_{OT, 04, 02} + b_{OT, 04, 02}\\right)\\\\0 & 0 & 0 & 0 & 0 & 0 & 0 & 0 & 0 & 0 & 0 & 0 & 0 & 0 & 0 & 0 & 0 & 0 & 1 & 0 & 0 & g^{OT}_{CS, 02} \\left(b^\\dagger_{OT, 04, 02} + b_{OT, 04, 02}\\right)\\\\0 & 0 & 0 & 0 & 0 & 0 & 0 & 0 & 0 & 0 & 0 & 0 & 0 & 0 & 0 & 0 & 0 & 1 & 0 & 0 & 0 & 0\\\\0 & 0 & 0 & 0 & 0 & 0 & 0 & 0 & 0 & 0 & 0 & 0 & 0 & 0 & 0 & 0 & 0 & 0 & 0 & 0 & 0 & 1\\end{array}\\right]$"
      ],
      "text/plain": [
       "Matrix([\n",
       "[0, 0, 0, 0, 0, 0, 0, 0, 1, 0, 0, 0, 0, 0, 0, 0, 0, 0, 0, 0, 0,                                                         0],\n",
       "[0, 0, 1, 0, 0, 0, 0, 0, 0, 0, 0, 0, 0, 0, 0, 0, 0, 0, 0, 0, 0,                                                         0],\n",
       "[0, 0, 0, 0, 0, 0, 1, 0, 0, 0, 0, 0, 0, 0, 0, 0, 0, 0, 0, 0, 0,                                                         0],\n",
       "[0, 0, 0, 0, 0, 0, 0, 0, 0, 0, 0, 0, 0, 0, 0, 0, 0, 0, 0, 1, 0,                                                         0],\n",
       "[0, 0, 0, 0, 0, 0, 0, 0, 0, 0, 0, 0, 0, 0, 1, 0, 0, 0, 0, 0, 0,                                                         0],\n",
       "[0, 1, 0, 0, 0, 0, 0, 0, 0, 0, 0, 0, 0, 0, 0, 0, 0, 0, 0, 0, 0,            ω^{OT}_2*b_{OT, 04, 02}*b^\\dagger_{OT, 04, 02}],\n",
       "[0, 0, 0, 1, 0, 0, 0, 0, 0, 0, 0, 0, 0, 0, 0, 0, 0, 0, 0, 0, 0,                                                         0],\n",
       "[0, 0, 0, 0, 0, 0, 0, 0, 0, 0, 0, 1, 0, 0, 0, 0, 0, 0, 0, 0, 0,                                                         0],\n",
       "[1, 0, 0, 0, 0, 0, 0, 0, 0, 0, 0, 0, 0, 0, 0, 0, 0, 0, 0, 0, 0,                                                         0],\n",
       "[0, 0, 0, 0, 0, 0, 0, 0, 0, 1, 0, 0, 0, 0, 0, 0, 0, 0, 0, 0, 0,                                                         0],\n",
       "[0, 0, 0, 0, 0, 0, 0, 1, 0, 0, 0, 0, 0, 0, 0, 0, 0, 0, 0, 0, 0,                                                         0],\n",
       "[0, 0, 0, 0, 1, 0, 0, 0, 0, 0, 0, 0, 0, 0, 0, 0, 0, 0, 0, 0, 0,                                                         0],\n",
       "[0, 0, 0, 0, 0, 0, 0, 0, 0, 0, 0, 0, 0, 1, 0, 0, 0, 0, 0, 0, 0,                                                         0],\n",
       "[0, 0, 0, 0, 0, 0, 0, 0, 0, 0, 0, 0, 0, 0, 0, 0, 0, 0, 0, 0, 1,                                                         0],\n",
       "[0, 0, 0, 0, 0, 0, 0, 0, 0, 0, 0, 0, 0, 0, 0, 0, 1, 0, 0, 0, 0,                                                         0],\n",
       "[0, 0, 0, 0, 0, 0, 0, 0, 0, 0, 1, 0, 0, 0, 0, 0, 0, 0, 0, 0, 0,                                                         0],\n",
       "[0, 0, 0, 0, 0, 0, 0, 0, 0, 0, 0, 0, 0, 0, 0, 1, 0, 0, 0, 0, 0,                                                         0],\n",
       "[0, 0, 0, 0, 0, 0, 0, 0, 0, 0, 0, 0, 1, 0, 0, 0, 0, 0, 0, 0, 0,                                                         0],\n",
       "[0, 0, 0, 0, 0, 1, 0, 0, 0, 0, 0, 0, 0, 0, 0, 0, 0, 0, 0, 0, 0, g^{OT}_{LE, 02}*(b^\\dagger_{OT, 04, 02} + b_{OT, 04, 02})],\n",
       "[0, 0, 0, 0, 0, 0, 0, 0, 0, 0, 0, 0, 0, 0, 0, 0, 0, 0, 1, 0, 0, g^{OT}_{CS, 02}*(b^\\dagger_{OT, 04, 02} + b_{OT, 04, 02})],\n",
       "[0, 0, 0, 0, 0, 0, 0, 0, 0, 0, 0, 0, 0, 0, 0, 0, 0, 1, 0, 0, 0,                                                         0],\n",
       "[0, 0, 0, 0, 0, 0, 0, 0, 0, 0, 0, 0, 0, 0, 0, 0, 0, 0, 0, 0, 0,                                                         1]])"
      ]
     },
     "metadata": {},
     "output_type": "display_data"
    },
    {
     "data": {
      "text/latex": [
       "$\\displaystyle \\left[\\begin{array}{cccccccccccccccccccccc}0 & 0 & 0 & 0 & 0 & 0 & 0 & 0 & 1 & 0 & 0 & 0 & 0 & 0 & 0 & 0 & 0 & 0 & 0 & 0 & 0 & 0\\\\0 & 0 & 0 & 0 & 0 & 1 & 0 & 0 & 0 & 0 & 0 & 0 & 0 & 0 & 0 & 0 & 0 & 0 & 0 & 0 & 0 & ω^{OT}_3 b_{OT, 04, 03} b^\\dagger_{OT, 04, 03}\\\\0 & 0 & 0 & 0 & 0 & 0 & 0 & 0 & 0 & 0 & 0 & 0 & 0 & 0 & 0 & 0 & 0 & 0 & 0 & 1 & 0 & 0\\\\0 & 0 & 0 & 0 & 0 & 0 & 0 & 0 & 0 & 0 & 0 & 0 & 0 & 0 & 0 & 0 & 0 & 0 & 0 & 0 & 1 & 0\\\\0 & 0 & 0 & 0 & 0 & 0 & 0 & 0 & 0 & 1 & 0 & 0 & 0 & 0 & 0 & 0 & 0 & 0 & 0 & 0 & 0 & 0\\\\0 & 0 & 0 & 0 & 0 & 0 & 0 & 0 & 0 & 0 & 0 & 0 & 0 & 0 & 0 & 0 & 1 & 0 & 0 & 0 & 0 & g^{OT}_{LE, 03} \\left(b^\\dagger_{OT, 04, 03} + b_{OT, 04, 03}\\right)\\\\0 & 0 & 0 & 0 & 0 & 0 & 0 & 0 & 0 & 0 & 0 & 0 & 0 & 0 & 0 & 1 & 0 & 0 & 0 & 0 & 0 & 0\\\\0 & 0 & 0 & 0 & 0 & 0 & 0 & 0 & 0 & 0 & 0 & 0 & 0 & 0 & 1 & 0 & 0 & 0 & 0 & 0 & 0 & 0\\\\0 & 0 & 0 & 0 & 0 & 0 & 0 & 0 & 0 & 0 & 0 & 0 & 1 & 0 & 0 & 0 & 0 & 0 & 0 & 0 & 0 & 0\\\\0 & 1 & 0 & 0 & 0 & 0 & 0 & 0 & 0 & 0 & 0 & 0 & 0 & 0 & 0 & 0 & 0 & 0 & 0 & 0 & 0 & 0\\\\0 & 0 & 0 & 0 & 0 & 0 & 0 & 0 & 0 & 0 & 0 & 0 & 0 & 1 & 0 & 0 & 0 & 0 & 0 & 0 & 0 & 0\\\\0 & 0 & 0 & 0 & 0 & 0 & 0 & 0 & 0 & 0 & 1 & 0 & 0 & 0 & 0 & 0 & 0 & 0 & 0 & 0 & 0 & 0\\\\0 & 0 & 0 & 0 & 1 & 0 & 0 & 0 & 0 & 0 & 0 & 0 & 0 & 0 & 0 & 0 & 0 & 0 & 0 & 0 & 0 & 0\\\\0 & 0 & 0 & 0 & 0 & 0 & 0 & 0 & 0 & 0 & 0 & 1 & 0 & 0 & 0 & 0 & 0 & 0 & 0 & 0 & 0 & 0\\\\0 & 0 & 0 & 0 & 0 & 0 & 1 & 0 & 0 & 0 & 0 & 0 & 0 & 0 & 0 & 0 & 0 & 0 & 0 & 0 & 0 & 0\\\\0 & 0 & 0 & 1 & 0 & 0 & 0 & 0 & 0 & 0 & 0 & 0 & 0 & 0 & 0 & 0 & 0 & 0 & 0 & 0 & 0 & 0\\\\0 & 0 & 1 & 0 & 0 & 0 & 0 & 0 & 0 & 0 & 0 & 0 & 0 & 0 & 0 & 0 & 0 & 0 & 0 & 0 & 0 & 0\\\\0 & 0 & 0 & 0 & 0 & 0 & 0 & 0 & 0 & 0 & 0 & 0 & 0 & 0 & 0 & 0 & 0 & 1 & 0 & 0 & 0 & 0\\\\0 & 0 & 0 & 0 & 0 & 0 & 0 & 1 & 0 & 0 & 0 & 0 & 0 & 0 & 0 & 0 & 0 & 0 & 0 & 0 & 0 & g^{OT}_{CS, 03} \\left(b^\\dagger_{OT, 04, 03} + b_{OT, 04, 03}\\right)\\\\0 & 0 & 0 & 0 & 0 & 0 & 0 & 0 & 0 & 0 & 0 & 0 & 0 & 0 & 0 & 0 & 0 & 0 & 1 & 0 & 0 & 0\\\\1 & 0 & 0 & 0 & 0 & 0 & 0 & 0 & 0 & 0 & 0 & 0 & 0 & 0 & 0 & 0 & 0 & 0 & 0 & 0 & 0 & 0\\\\0 & 0 & 0 & 0 & 0 & 0 & 0 & 0 & 0 & 0 & 0 & 0 & 0 & 0 & 0 & 0 & 0 & 0 & 0 & 0 & 0 & 1\\end{array}\\right]$"
      ],
      "text/plain": [
       "Matrix([\n",
       "[0, 0, 0, 0, 0, 0, 0, 0, 1, 0, 0, 0, 0, 0, 0, 0, 0, 0, 0, 0, 0,                                                         0],\n",
       "[0, 0, 0, 0, 0, 1, 0, 0, 0, 0, 0, 0, 0, 0, 0, 0, 0, 0, 0, 0, 0,            ω^{OT}_3*b_{OT, 04, 03}*b^\\dagger_{OT, 04, 03}],\n",
       "[0, 0, 0, 0, 0, 0, 0, 0, 0, 0, 0, 0, 0, 0, 0, 0, 0, 0, 0, 1, 0,                                                         0],\n",
       "[0, 0, 0, 0, 0, 0, 0, 0, 0, 0, 0, 0, 0, 0, 0, 0, 0, 0, 0, 0, 1,                                                         0],\n",
       "[0, 0, 0, 0, 0, 0, 0, 0, 0, 1, 0, 0, 0, 0, 0, 0, 0, 0, 0, 0, 0,                                                         0],\n",
       "[0, 0, 0, 0, 0, 0, 0, 0, 0, 0, 0, 0, 0, 0, 0, 0, 1, 0, 0, 0, 0, g^{OT}_{LE, 03}*(b^\\dagger_{OT, 04, 03} + b_{OT, 04, 03})],\n",
       "[0, 0, 0, 0, 0, 0, 0, 0, 0, 0, 0, 0, 0, 0, 0, 1, 0, 0, 0, 0, 0,                                                         0],\n",
       "[0, 0, 0, 0, 0, 0, 0, 0, 0, 0, 0, 0, 0, 0, 1, 0, 0, 0, 0, 0, 0,                                                         0],\n",
       "[0, 0, 0, 0, 0, 0, 0, 0, 0, 0, 0, 0, 1, 0, 0, 0, 0, 0, 0, 0, 0,                                                         0],\n",
       "[0, 1, 0, 0, 0, 0, 0, 0, 0, 0, 0, 0, 0, 0, 0, 0, 0, 0, 0, 0, 0,                                                         0],\n",
       "[0, 0, 0, 0, 0, 0, 0, 0, 0, 0, 0, 0, 0, 1, 0, 0, 0, 0, 0, 0, 0,                                                         0],\n",
       "[0, 0, 0, 0, 0, 0, 0, 0, 0, 0, 1, 0, 0, 0, 0, 0, 0, 0, 0, 0, 0,                                                         0],\n",
       "[0, 0, 0, 0, 1, 0, 0, 0, 0, 0, 0, 0, 0, 0, 0, 0, 0, 0, 0, 0, 0,                                                         0],\n",
       "[0, 0, 0, 0, 0, 0, 0, 0, 0, 0, 0, 1, 0, 0, 0, 0, 0, 0, 0, 0, 0,                                                         0],\n",
       "[0, 0, 0, 0, 0, 0, 1, 0, 0, 0, 0, 0, 0, 0, 0, 0, 0, 0, 0, 0, 0,                                                         0],\n",
       "[0, 0, 0, 1, 0, 0, 0, 0, 0, 0, 0, 0, 0, 0, 0, 0, 0, 0, 0, 0, 0,                                                         0],\n",
       "[0, 0, 1, 0, 0, 0, 0, 0, 0, 0, 0, 0, 0, 0, 0, 0, 0, 0, 0, 0, 0,                                                         0],\n",
       "[0, 0, 0, 0, 0, 0, 0, 0, 0, 0, 0, 0, 0, 0, 0, 0, 0, 1, 0, 0, 0,                                                         0],\n",
       "[0, 0, 0, 0, 0, 0, 0, 1, 0, 0, 0, 0, 0, 0, 0, 0, 0, 0, 0, 0, 0, g^{OT}_{CS, 03}*(b^\\dagger_{OT, 04, 03} + b_{OT, 04, 03})],\n",
       "[0, 0, 0, 0, 0, 0, 0, 0, 0, 0, 0, 0, 0, 0, 0, 0, 0, 0, 1, 0, 0,                                                         0],\n",
       "[1, 0, 0, 0, 0, 0, 0, 0, 0, 0, 0, 0, 0, 0, 0, 0, 0, 0, 0, 0, 0,                                                         0],\n",
       "[0, 0, 0, 0, 0, 0, 0, 0, 0, 0, 0, 0, 0, 0, 0, 0, 0, 0, 0, 0, 0,                                                         1]])"
      ]
     },
     "metadata": {},
     "output_type": "display_data"
    },
    {
     "data": {
      "text/latex": [
       "$\\displaystyle \\left[\\begin{array}{cccccccccccccccccccccc}0 & 0 & 0 & 0 & 0 & 1 & 0 & 0 & 0 & 0 & 0 & 0 & 0 & 0 & 0 & 0 & 0 & 0 & 0 & 0 & 0 & 0\\\\0 & 0 & 0 & 0 & 0 & 0 & 0 & 0 & 0 & 0 & 1 & 0 & 0 & 0 & 0 & 0 & 0 & 0 & 0 & 0 & 0 & 0\\\\0 & 0 & 0 & 0 & 0 & 0 & 0 & 0 & 0 & 0 & 0 & 0 & 0 & 0 & 0 & 1 & 0 & 0 & 0 & 0 & 0 & 0\\\\0 & 0 & 0 & 0 & 0 & 0 & 0 & 0 & 0 & 0 & 0 & 0 & 0 & 0 & 0 & 0 & 1 & 0 & 0 & 0 & 0 & 0\\\\0 & 0 & 0 & 0 & 0 & 0 & 0 & 0 & 0 & 0 & 0 & 0 & 0 & 0 & 0 & 0 & 0 & 0 & 0 & 0 & 1 & 0\\\\0 & 0 & 0 & 0 & 0 & 0 & 0 & 0 & 1 & 0 & 0 & 0 & 0 & 0 & 0 & 0 & 0 & 0 & 0 & 0 & 0 & ω^{OT}_4 b_{OT, 04, 04} b^\\dagger_{OT, 04, 04}\\\\0 & 0 & 0 & 0 & 0 & 0 & 0 & 0 & 0 & 0 & 0 & 0 & 0 & 0 & 0 & 0 & 0 & 1 & 0 & 0 & 0 & 0\\\\0 & 0 & 0 & 1 & 0 & 0 & 0 & 0 & 0 & 0 & 0 & 0 & 0 & 0 & 0 & 0 & 0 & 0 & 0 & 0 & 0 & g^{OT}_{CS, 04} \\left(b^\\dagger_{OT, 04, 04} + b_{OT, 04, 04}\\right)\\\\0 & 0 & 0 & 0 & 0 & 0 & 0 & 1 & 0 & 0 & 0 & 0 & 0 & 0 & 0 & 0 & 0 & 0 & 0 & 0 & 0 & 0\\\\0 & 0 & 0 & 0 & 0 & 0 & 0 & 0 & 0 & 0 & 0 & 0 & 0 & 1 & 0 & 0 & 0 & 0 & 0 & 0 & 0 & 0\\\\1 & 0 & 0 & 0 & 0 & 0 & 0 & 0 & 0 & 0 & 0 & 0 & 0 & 0 & 0 & 0 & 0 & 0 & 0 & 0 & 0 & 0\\\\0 & 0 & 1 & 0 & 0 & 0 & 0 & 0 & 0 & 0 & 0 & 0 & 0 & 0 & 0 & 0 & 0 & 0 & 0 & 0 & 0 & 0\\\\0 & 0 & 0 & 0 & 0 & 0 & 1 & 0 & 0 & 0 & 0 & 0 & 0 & 0 & 0 & 0 & 0 & 0 & 0 & 0 & 0 & 0\\\\0 & 0 & 0 & 0 & 0 & 0 & 0 & 0 & 0 & 0 & 0 & 1 & 0 & 0 & 0 & 0 & 0 & 0 & 0 & 0 & 0 & 0\\\\0 & 0 & 0 & 0 & 0 & 0 & 0 & 0 & 0 & 1 & 0 & 0 & 0 & 0 & 0 & 0 & 0 & 0 & 0 & 0 & 0 & 0\\\\0 & 0 & 0 & 0 & 1 & 0 & 0 & 0 & 0 & 0 & 0 & 0 & 0 & 0 & 0 & 0 & 0 & 0 & 0 & 0 & 0 & 0\\\\0 & 1 & 0 & 0 & 0 & 0 & 0 & 0 & 0 & 0 & 0 & 0 & 0 & 0 & 0 & 0 & 0 & 0 & 0 & 0 & 0 & g^{OT}_{LE, 04} \\left(b^\\dagger_{OT, 04, 04} + b_{OT, 04, 04}\\right)\\\\0 & 0 & 0 & 0 & 0 & 0 & 0 & 0 & 0 & 0 & 0 & 0 & 0 & 0 & 0 & 0 & 0 & 0 & 1 & 0 & 0 & 0\\\\0 & 0 & 0 & 0 & 0 & 0 & 0 & 0 & 0 & 0 & 0 & 0 & 0 & 0 & 1 & 0 & 0 & 0 & 0 & 0 & 0 & 0\\\\0 & 0 & 0 & 0 & 0 & 0 & 0 & 0 & 0 & 0 & 0 & 0 & 0 & 0 & 0 & 0 & 0 & 0 & 0 & 1 & 0 & 0\\\\0 & 0 & 0 & 0 & 0 & 0 & 0 & 0 & 0 & 0 & 0 & 0 & 1 & 0 & 0 & 0 & 0 & 0 & 0 & 0 & 0 & 0\\\\0 & 0 & 0 & 0 & 0 & 0 & 0 & 0 & 0 & 0 & 0 & 0 & 0 & 0 & 0 & 0 & 0 & 0 & 0 & 0 & 0 & 1\\end{array}\\right]$"
      ],
      "text/plain": [
       "Matrix([\n",
       "[0, 0, 0, 0, 0, 1, 0, 0, 0, 0, 0, 0, 0, 0, 0, 0, 0, 0, 0, 0, 0,                                                         0],\n",
       "[0, 0, 0, 0, 0, 0, 0, 0, 0, 0, 1, 0, 0, 0, 0, 0, 0, 0, 0, 0, 0,                                                         0],\n",
       "[0, 0, 0, 0, 0, 0, 0, 0, 0, 0, 0, 0, 0, 0, 0, 1, 0, 0, 0, 0, 0,                                                         0],\n",
       "[0, 0, 0, 0, 0, 0, 0, 0, 0, 0, 0, 0, 0, 0, 0, 0, 1, 0, 0, 0, 0,                                                         0],\n",
       "[0, 0, 0, 0, 0, 0, 0, 0, 0, 0, 0, 0, 0, 0, 0, 0, 0, 0, 0, 0, 1,                                                         0],\n",
       "[0, 0, 0, 0, 0, 0, 0, 0, 1, 0, 0, 0, 0, 0, 0, 0, 0, 0, 0, 0, 0,            ω^{OT}_4*b_{OT, 04, 04}*b^\\dagger_{OT, 04, 04}],\n",
       "[0, 0, 0, 0, 0, 0, 0, 0, 0, 0, 0, 0, 0, 0, 0, 0, 0, 1, 0, 0, 0,                                                         0],\n",
       "[0, 0, 0, 1, 0, 0, 0, 0, 0, 0, 0, 0, 0, 0, 0, 0, 0, 0, 0, 0, 0, g^{OT}_{CS, 04}*(b^\\dagger_{OT, 04, 04} + b_{OT, 04, 04})],\n",
       "[0, 0, 0, 0, 0, 0, 0, 1, 0, 0, 0, 0, 0, 0, 0, 0, 0, 0, 0, 0, 0,                                                         0],\n",
       "[0, 0, 0, 0, 0, 0, 0, 0, 0, 0, 0, 0, 0, 1, 0, 0, 0, 0, 0, 0, 0,                                                         0],\n",
       "[1, 0, 0, 0, 0, 0, 0, 0, 0, 0, 0, 0, 0, 0, 0, 0, 0, 0, 0, 0, 0,                                                         0],\n",
       "[0, 0, 1, 0, 0, 0, 0, 0, 0, 0, 0, 0, 0, 0, 0, 0, 0, 0, 0, 0, 0,                                                         0],\n",
       "[0, 0, 0, 0, 0, 0, 1, 0, 0, 0, 0, 0, 0, 0, 0, 0, 0, 0, 0, 0, 0,                                                         0],\n",
       "[0, 0, 0, 0, 0, 0, 0, 0, 0, 0, 0, 1, 0, 0, 0, 0, 0, 0, 0, 0, 0,                                                         0],\n",
       "[0, 0, 0, 0, 0, 0, 0, 0, 0, 1, 0, 0, 0, 0, 0, 0, 0, 0, 0, 0, 0,                                                         0],\n",
       "[0, 0, 0, 0, 1, 0, 0, 0, 0, 0, 0, 0, 0, 0, 0, 0, 0, 0, 0, 0, 0,                                                         0],\n",
       "[0, 1, 0, 0, 0, 0, 0, 0, 0, 0, 0, 0, 0, 0, 0, 0, 0, 0, 0, 0, 0, g^{OT}_{LE, 04}*(b^\\dagger_{OT, 04, 04} + b_{OT, 04, 04})],\n",
       "[0, 0, 0, 0, 0, 0, 0, 0, 0, 0, 0, 0, 0, 0, 0, 0, 0, 0, 1, 0, 0,                                                         0],\n",
       "[0, 0, 0, 0, 0, 0, 0, 0, 0, 0, 0, 0, 0, 0, 1, 0, 0, 0, 0, 0, 0,                                                         0],\n",
       "[0, 0, 0, 0, 0, 0, 0, 0, 0, 0, 0, 0, 0, 0, 0, 0, 0, 0, 0, 1, 0,                                                         0],\n",
       "[0, 0, 0, 0, 0, 0, 0, 0, 0, 0, 0, 0, 1, 0, 0, 0, 0, 0, 0, 0, 0,                                                         0],\n",
       "[0, 0, 0, 0, 0, 0, 0, 0, 0, 0, 0, 0, 0, 0, 0, 0, 0, 0, 0, 0, 0,                                                         1]])"
      ]
     },
     "metadata": {},
     "output_type": "display_data"
    },
    {
     "data": {
      "text/latex": [
       "$\\displaystyle \\left[\\begin{array}{cccccccccccccccccccccc}0 & 0 & 0 & 0 & 0 & 0 & 0 & 0 & 0 & 0 & 0 & 0 & 0 & 0 & 1 & 0 & 0 & 0 & 0 & 0 & 0 & 0\\\\0 & 0 & 0 & 0 & 0 & 0 & 0 & 0 & 0 & 0 & 0 & 0 & 0 & 0 & 0 & 0 & 1 & 0 & 0 & 0 & 0 & g^{OT}_{LE, 05} \\left(b^\\dagger_{OT, 04, 05} + b_{OT, 04, 05}\\right)\\\\1 & 0 & 0 & 0 & 0 & 0 & 0 & 0 & 0 & 0 & 0 & 0 & 0 & 0 & 0 & 0 & 0 & 0 & 0 & 0 & 0 & 0\\\\0 & 0 & 0 & 0 & 1 & 0 & 0 & 0 & 0 & 0 & 0 & 0 & 0 & 0 & 0 & 0 & 0 & 0 & 0 & 0 & 0 & g^{OT}_{CS, 05} \\left(b^\\dagger_{OT, 04, 05} + b_{OT, 04, 05}\\right)\\\\0 & 0 & 0 & 0 & 0 & 0 & 1 & 0 & 0 & 0 & 0 & 0 & 0 & 0 & 0 & 0 & 0 & 0 & 0 & 0 & 0 & 0\\\\0 & 0 & 0 & 0 & 0 & 0 & 0 & 0 & 0 & 0 & 1 & 0 & 0 & 0 & 0 & 0 & 0 & 0 & 0 & 0 & 0 & 0\\\\0 & 0 & 0 & 0 & 0 & 0 & 0 & 0 & 0 & 0 & 0 & 0 & 0 & 0 & 0 & 0 & 0 & 0 & 0 & 1 & 0 & 0\\\\0 & 0 & 0 & 0 & 0 & 0 & 0 & 0 & 0 & 0 & 0 & 0 & 0 & 0 & 0 & 0 & 0 & 0 & 1 & 0 & 0 & 0\\\\0 & 0 & 0 & 1 & 0 & 0 & 0 & 0 & 0 & 0 & 0 & 0 & 0 & 0 & 0 & 0 & 0 & 0 & 0 & 0 & 0 & ω^{OT}_5 b_{OT, 04, 05} b^\\dagger_{OT, 04, 05}\\\\0 & 0 & 0 & 0 & 0 & 0 & 0 & 0 & 0 & 0 & 0 & 0 & 0 & 1 & 0 & 0 & 0 & 0 & 0 & 0 & 0 & 0\\\\0 & 0 & 0 & 0 & 0 & 0 & 0 & 0 & 0 & 0 & 0 & 0 & 0 & 0 & 0 & 0 & 0 & 0 & 0 & 0 & 1 & 0\\\\0 & 1 & 0 & 0 & 0 & 0 & 0 & 0 & 0 & 0 & 0 & 0 & 0 & 0 & 0 & 0 & 0 & 0 & 0 & 0 & 0 & 0\\\\0 & 0 & 0 & 0 & 0 & 0 & 0 & 1 & 0 & 0 & 0 & 0 & 0 & 0 & 0 & 0 & 0 & 0 & 0 & 0 & 0 & 0\\\\0 & 0 & 0 & 0 & 0 & 0 & 0 & 0 & 0 & 1 & 0 & 0 & 0 & 0 & 0 & 0 & 0 & 0 & 0 & 0 & 0 & 0\\\\0 & 0 & 1 & 0 & 0 & 0 & 0 & 0 & 0 & 0 & 0 & 0 & 0 & 0 & 0 & 0 & 0 & 0 & 0 & 0 & 0 & 0\\\\0 & 0 & 0 & 0 & 0 & 0 & 0 & 0 & 0 & 0 & 0 & 0 & 1 & 0 & 0 & 0 & 0 & 0 & 0 & 0 & 0 & 0\\\\0 & 0 & 0 & 0 & 0 & 0 & 0 & 0 & 0 & 0 & 0 & 0 & 0 & 0 & 0 & 0 & 0 & 1 & 0 & 0 & 0 & 0\\\\0 & 0 & 0 & 0 & 0 & 0 & 0 & 0 & 1 & 0 & 0 & 0 & 0 & 0 & 0 & 0 & 0 & 0 & 0 & 0 & 0 & 0\\\\0 & 0 & 0 & 0 & 0 & 1 & 0 & 0 & 0 & 0 & 0 & 0 & 0 & 0 & 0 & 0 & 0 & 0 & 0 & 0 & 0 & 0\\\\0 & 0 & 0 & 0 & 0 & 0 & 0 & 0 & 0 & 0 & 0 & 1 & 0 & 0 & 0 & 0 & 0 & 0 & 0 & 0 & 0 & 0\\\\0 & 0 & 0 & 0 & 0 & 0 & 0 & 0 & 0 & 0 & 0 & 0 & 0 & 0 & 0 & 1 & 0 & 0 & 0 & 0 & 0 & 0\\\\0 & 0 & 0 & 0 & 0 & 0 & 0 & 0 & 0 & 0 & 0 & 0 & 0 & 0 & 0 & 0 & 0 & 0 & 0 & 0 & 0 & 1\\end{array}\\right]$"
      ],
      "text/plain": [
       "Matrix([\n",
       "[0, 0, 0, 0, 0, 0, 0, 0, 0, 0, 0, 0, 0, 0, 1, 0, 0, 0, 0, 0, 0,                                                         0],\n",
       "[0, 0, 0, 0, 0, 0, 0, 0, 0, 0, 0, 0, 0, 0, 0, 0, 1, 0, 0, 0, 0, g^{OT}_{LE, 05}*(b^\\dagger_{OT, 04, 05} + b_{OT, 04, 05})],\n",
       "[1, 0, 0, 0, 0, 0, 0, 0, 0, 0, 0, 0, 0, 0, 0, 0, 0, 0, 0, 0, 0,                                                         0],\n",
       "[0, 0, 0, 0, 1, 0, 0, 0, 0, 0, 0, 0, 0, 0, 0, 0, 0, 0, 0, 0, 0, g^{OT}_{CS, 05}*(b^\\dagger_{OT, 04, 05} + b_{OT, 04, 05})],\n",
       "[0, 0, 0, 0, 0, 0, 1, 0, 0, 0, 0, 0, 0, 0, 0, 0, 0, 0, 0, 0, 0,                                                         0],\n",
       "[0, 0, 0, 0, 0, 0, 0, 0, 0, 0, 1, 0, 0, 0, 0, 0, 0, 0, 0, 0, 0,                                                         0],\n",
       "[0, 0, 0, 0, 0, 0, 0, 0, 0, 0, 0, 0, 0, 0, 0, 0, 0, 0, 0, 1, 0,                                                         0],\n",
       "[0, 0, 0, 0, 0, 0, 0, 0, 0, 0, 0, 0, 0, 0, 0, 0, 0, 0, 1, 0, 0,                                                         0],\n",
       "[0, 0, 0, 1, 0, 0, 0, 0, 0, 0, 0, 0, 0, 0, 0, 0, 0, 0, 0, 0, 0,            ω^{OT}_5*b_{OT, 04, 05}*b^\\dagger_{OT, 04, 05}],\n",
       "[0, 0, 0, 0, 0, 0, 0, 0, 0, 0, 0, 0, 0, 1, 0, 0, 0, 0, 0, 0, 0,                                                         0],\n",
       "[0, 0, 0, 0, 0, 0, 0, 0, 0, 0, 0, 0, 0, 0, 0, 0, 0, 0, 0, 0, 1,                                                         0],\n",
       "[0, 1, 0, 0, 0, 0, 0, 0, 0, 0, 0, 0, 0, 0, 0, 0, 0, 0, 0, 0, 0,                                                         0],\n",
       "[0, 0, 0, 0, 0, 0, 0, 1, 0, 0, 0, 0, 0, 0, 0, 0, 0, 0, 0, 0, 0,                                                         0],\n",
       "[0, 0, 0, 0, 0, 0, 0, 0, 0, 1, 0, 0, 0, 0, 0, 0, 0, 0, 0, 0, 0,                                                         0],\n",
       "[0, 0, 1, 0, 0, 0, 0, 0, 0, 0, 0, 0, 0, 0, 0, 0, 0, 0, 0, 0, 0,                                                         0],\n",
       "[0, 0, 0, 0, 0, 0, 0, 0, 0, 0, 0, 0, 1, 0, 0, 0, 0, 0, 0, 0, 0,                                                         0],\n",
       "[0, 0, 0, 0, 0, 0, 0, 0, 0, 0, 0, 0, 0, 0, 0, 0, 0, 1, 0, 0, 0,                                                         0],\n",
       "[0, 0, 0, 0, 0, 0, 0, 0, 1, 0, 0, 0, 0, 0, 0, 0, 0, 0, 0, 0, 0,                                                         0],\n",
       "[0, 0, 0, 0, 0, 1, 0, 0, 0, 0, 0, 0, 0, 0, 0, 0, 0, 0, 0, 0, 0,                                                         0],\n",
       "[0, 0, 0, 0, 0, 0, 0, 0, 0, 0, 0, 1, 0, 0, 0, 0, 0, 0, 0, 0, 0,                                                         0],\n",
       "[0, 0, 0, 0, 0, 0, 0, 0, 0, 0, 0, 0, 0, 0, 0, 1, 0, 0, 0, 0, 0,                                                         0],\n",
       "[0, 0, 0, 0, 0, 0, 0, 0, 0, 0, 0, 0, 0, 0, 0, 0, 0, 0, 0, 0, 0,                                                         1]])"
      ]
     },
     "metadata": {},
     "output_type": "display_data"
    },
    {
     "data": {
      "text/latex": [
       "$\\displaystyle \\left[\\begin{array}{cccccccccccccccccccccc}0 & 0 & 0 & 0 & 0 & 0 & 0 & 0 & 0 & 0 & 0 & 0 & 0 & 1 & 0 & 0 & 0 & 0 & 0 & 0 & 0 & 0\\\\0 & 0 & 0 & 1 & 0 & 0 & 0 & 0 & 0 & 0 & 0 & 0 & 0 & 0 & 0 & 0 & 0 & 0 & 0 & 0 & 0 & 0\\\\0 & 0 & 0 & 0 & 0 & 0 & 0 & 0 & 0 & 0 & 0 & 0 & 0 & 0 & 0 & 0 & 0 & 0 & 1 & 0 & 0 & 0\\\\0 & 0 & 0 & 0 & 0 & 0 & 0 & 0 & 0 & 0 & 0 & 0 & 0 & 0 & 0 & 0 & 0 & 1 & 0 & 0 & 0 & ω^{OT}_6 b_{OT, 04, 06} b^\\dagger_{OT, 04, 06}\\\\0 & 0 & 0 & 0 & 0 & 0 & 0 & 0 & 0 & 0 & 0 & 0 & 0 & 0 & 0 & 0 & 1 & 0 & 0 & 0 & 0 & g^{OT}_{CS, 06} \\left(b^\\dagger_{OT, 04, 06} + b_{OT, 04, 06}\\right)\\\\0 & 0 & 0 & 0 & 0 & 0 & 0 & 0 & 0 & 0 & 0 & 1 & 0 & 0 & 0 & 0 & 0 & 0 & 0 & 0 & 0 & 0\\\\0 & 1 & 0 & 0 & 0 & 0 & 0 & 0 & 0 & 0 & 0 & 0 & 0 & 0 & 0 & 0 & 0 & 0 & 0 & 0 & 0 & 0\\\\0 & 0 & 0 & 0 & 0 & 0 & 0 & 0 & 0 & 0 & 0 & 0 & 0 & 0 & 0 & 0 & 0 & 0 & 0 & 0 & 1 & 0\\\\0 & 0 & 1 & 0 & 0 & 0 & 0 & 0 & 0 & 0 & 0 & 0 & 0 & 0 & 0 & 0 & 0 & 0 & 0 & 0 & 0 & 0\\\\0 & 0 & 0 & 0 & 0 & 0 & 0 & 0 & 0 & 0 & 0 & 0 & 0 & 0 & 0 & 0 & 0 & 0 & 0 & 1 & 0 & 0\\\\0 & 0 & 0 & 0 & 0 & 1 & 0 & 0 & 0 & 0 & 0 & 0 & 0 & 0 & 0 & 0 & 0 & 0 & 0 & 0 & 0 & 0\\\\0 & 0 & 0 & 0 & 0 & 0 & 0 & 0 & 0 & 1 & 0 & 0 & 0 & 0 & 0 & 0 & 0 & 0 & 0 & 0 & 0 & 0\\\\0 & 0 & 0 & 0 & 1 & 0 & 0 & 0 & 0 & 0 & 0 & 0 & 0 & 0 & 0 & 0 & 0 & 0 & 0 & 0 & 0 & 0\\\\1 & 0 & 0 & 0 & 0 & 0 & 0 & 0 & 0 & 0 & 0 & 0 & 0 & 0 & 0 & 0 & 0 & 0 & 0 & 0 & 0 & 0\\\\0 & 0 & 0 & 0 & 0 & 0 & 0 & 0 & 0 & 0 & 0 & 0 & 1 & 0 & 0 & 0 & 0 & 0 & 0 & 0 & 0 & 0\\\\0 & 0 & 0 & 0 & 0 & 0 & 1 & 0 & 0 & 0 & 0 & 0 & 0 & 0 & 0 & 0 & 0 & 0 & 0 & 0 & 0 & 0\\\\0 & 0 & 0 & 0 & 0 & 0 & 0 & 0 & 0 & 0 & 0 & 0 & 0 & 0 & 1 & 0 & 0 & 0 & 0 & 0 & 0 & g^{OT}_{LE, 06} \\left(b^\\dagger_{OT, 04, 06} + b_{OT, 04, 06}\\right)\\\\0 & 0 & 0 & 0 & 0 & 0 & 0 & 0 & 0 & 0 & 1 & 0 & 0 & 0 & 0 & 0 & 0 & 0 & 0 & 0 & 0 & 0\\\\0 & 0 & 0 & 0 & 0 & 0 & 0 & 1 & 0 & 0 & 0 & 0 & 0 & 0 & 0 & 0 & 0 & 0 & 0 & 0 & 0 & 0\\\\0 & 0 & 0 & 0 & 0 & 0 & 0 & 0 & 0 & 0 & 0 & 0 & 0 & 0 & 0 & 1 & 0 & 0 & 0 & 0 & 0 & 0\\\\0 & 0 & 0 & 0 & 0 & 0 & 0 & 0 & 1 & 0 & 0 & 0 & 0 & 0 & 0 & 0 & 0 & 0 & 0 & 0 & 0 & 0\\\\0 & 0 & 0 & 0 & 0 & 0 & 0 & 0 & 0 & 0 & 0 & 0 & 0 & 0 & 0 & 0 & 0 & 0 & 0 & 0 & 0 & 1\\end{array}\\right]$"
      ],
      "text/plain": [
       "Matrix([\n",
       "[0, 0, 0, 0, 0, 0, 0, 0, 0, 0, 0, 0, 0, 1, 0, 0, 0, 0, 0, 0, 0,                                                         0],\n",
       "[0, 0, 0, 1, 0, 0, 0, 0, 0, 0, 0, 0, 0, 0, 0, 0, 0, 0, 0, 0, 0,                                                         0],\n",
       "[0, 0, 0, 0, 0, 0, 0, 0, 0, 0, 0, 0, 0, 0, 0, 0, 0, 0, 1, 0, 0,                                                         0],\n",
       "[0, 0, 0, 0, 0, 0, 0, 0, 0, 0, 0, 0, 0, 0, 0, 0, 0, 1, 0, 0, 0,            ω^{OT}_6*b_{OT, 04, 06}*b^\\dagger_{OT, 04, 06}],\n",
       "[0, 0, 0, 0, 0, 0, 0, 0, 0, 0, 0, 0, 0, 0, 0, 0, 1, 0, 0, 0, 0, g^{OT}_{CS, 06}*(b^\\dagger_{OT, 04, 06} + b_{OT, 04, 06})],\n",
       "[0, 0, 0, 0, 0, 0, 0, 0, 0, 0, 0, 1, 0, 0, 0, 0, 0, 0, 0, 0, 0,                                                         0],\n",
       "[0, 1, 0, 0, 0, 0, 0, 0, 0, 0, 0, 0, 0, 0, 0, 0, 0, 0, 0, 0, 0,                                                         0],\n",
       "[0, 0, 0, 0, 0, 0, 0, 0, 0, 0, 0, 0, 0, 0, 0, 0, 0, 0, 0, 0, 1,                                                         0],\n",
       "[0, 0, 1, 0, 0, 0, 0, 0, 0, 0, 0, 0, 0, 0, 0, 0, 0, 0, 0, 0, 0,                                                         0],\n",
       "[0, 0, 0, 0, 0, 0, 0, 0, 0, 0, 0, 0, 0, 0, 0, 0, 0, 0, 0, 1, 0,                                                         0],\n",
       "[0, 0, 0, 0, 0, 1, 0, 0, 0, 0, 0, 0, 0, 0, 0, 0, 0, 0, 0, 0, 0,                                                         0],\n",
       "[0, 0, 0, 0, 0, 0, 0, 0, 0, 1, 0, 0, 0, 0, 0, 0, 0, 0, 0, 0, 0,                                                         0],\n",
       "[0, 0, 0, 0, 1, 0, 0, 0, 0, 0, 0, 0, 0, 0, 0, 0, 0, 0, 0, 0, 0,                                                         0],\n",
       "[1, 0, 0, 0, 0, 0, 0, 0, 0, 0, 0, 0, 0, 0, 0, 0, 0, 0, 0, 0, 0,                                                         0],\n",
       "[0, 0, 0, 0, 0, 0, 0, 0, 0, 0, 0, 0, 1, 0, 0, 0, 0, 0, 0, 0, 0,                                                         0],\n",
       "[0, 0, 0, 0, 0, 0, 1, 0, 0, 0, 0, 0, 0, 0, 0, 0, 0, 0, 0, 0, 0,                                                         0],\n",
       "[0, 0, 0, 0, 0, 0, 0, 0, 0, 0, 0, 0, 0, 0, 1, 0, 0, 0, 0, 0, 0, g^{OT}_{LE, 06}*(b^\\dagger_{OT, 04, 06} + b_{OT, 04, 06})],\n",
       "[0, 0, 0, 0, 0, 0, 0, 0, 0, 0, 1, 0, 0, 0, 0, 0, 0, 0, 0, 0, 0,                                                         0],\n",
       "[0, 0, 0, 0, 0, 0, 0, 1, 0, 0, 0, 0, 0, 0, 0, 0, 0, 0, 0, 0, 0,                                                         0],\n",
       "[0, 0, 0, 0, 0, 0, 0, 0, 0, 0, 0, 0, 0, 0, 0, 1, 0, 0, 0, 0, 0,                                                         0],\n",
       "[0, 0, 0, 0, 0, 0, 0, 0, 1, 0, 0, 0, 0, 0, 0, 0, 0, 0, 0, 0, 0,                                                         0],\n",
       "[0, 0, 0, 0, 0, 0, 0, 0, 0, 0, 0, 0, 0, 0, 0, 0, 0, 0, 0, 0, 0,                                                         1]])"
      ]
     },
     "metadata": {},
     "output_type": "display_data"
    },
    {
     "data": {
      "text/latex": [
       "$\\displaystyle \\left[\\begin{array}{ccccccccccccccccccccc}0 & 0 & 0 & 0 & 0 & 0 & 0 & 0 & 0 & 0 & 0 & 0 & 0 & 0 & 0 & 1 & 0 & 0 & 0 & 0 & 0\\\\0 & 1 & 0 & 0 & 0 & 0 & 0 & 0 & 0 & 0 & 0 & 0 & 0 & 0 & 0 & 0 & 0 & 0 & 0 & 0 & 0\\\\0 & 0 & 0 & 0 & 0 & 0 & 0 & 1 & 0 & 0 & 0 & 0 & 0 & 0 & 0 & 0 & 0 & 0 & 0 & 0 & 0\\\\0 & 0 & 0 & 0 & 0 & 0 & 0 & 0 & 0 & 0 & 0 & 0 & 0 & 0 & 0 & 0 & 1 & 0 & 0 & 0 & 0\\\\0 & 0 & 0 & 0 & 0 & 0 & 0 & 0 & 0 & 1 & 0 & 0 & 0 & 0 & 0 & 0 & 0 & 0 & 0 & 0 & 0\\\\0 & 0 & 0 & 0 & 0 & 0 & 0 & 0 & 0 & 0 & 0 & 0 & 0 & 0 & 0 & 0 & 0 & 0 & 1 & 0 & 0\\\\0 & 0 & 0 & 0 & 0 & 0 & 0 & 0 & 0 & 0 & 0 & 0 & 1 & 0 & 0 & 0 & 0 & 0 & 0 & 0 & 0\\\\0 & 0 & 0 & 0 & 0 & 0 & 0 & 0 & 0 & 0 & 0 & 0 & 0 & 0 & 1 & 0 & 0 & 0 & 0 & 0 & 0\\\\1 & 0 & 0 & 0 & 0 & 0 & 0 & 0 & 0 & 0 & 0 & 0 & 0 & 0 & 0 & 0 & 0 & 0 & 0 & 0 & 0\\\\0 & 0 & 0 & 0 & 0 & 0 & 0 & 0 & 1 & 0 & 0 & 0 & 0 & 0 & 0 & 0 & 0 & 0 & 0 & 0 & 0\\\\0 & 0 & 0 & 1 & 0 & 0 & 0 & 0 & 0 & 0 & 0 & 0 & 0 & 0 & 0 & 0 & 0 & 0 & 0 & 0 & 0\\\\0 & 0 & 1 & 0 & 0 & 0 & 0 & 0 & 0 & 0 & 0 & 0 & 0 & 0 & 0 & 0 & 0 & 0 & 0 & 0 & 0\\\\0 & 0 & 0 & 0 & 0 & 0 & 0 & 0 & 0 & 0 & 0 & 0 & 0 & 1 & 0 & 0 & 0 & 0 & 0 & 0 & 0\\\\0 & 0 & 0 & 0 & 0 & 0 & 0 & 0 & 0 & 0 & 1 & 0 & 0 & 0 & 0 & 0 & 0 & 0 & 0 & 0 & 0\\\\0 & 0 & 0 & 0 & 0 & 0 & 0 & 0 & 0 & 0 & 0 & 0 & 0 & 0 & 0 & 0 & 0 & 0 & 0 & g^{OT}_{LE, 08} & g^{OT}_{LE, 07} \\left(b^\\dagger_{OT, 04, 07} + b_{OT, 04, 07}\\right)\\\\0 & 0 & 0 & 0 & 0 & 1 & 0 & 0 & 0 & 0 & 0 & 0 & 0 & 0 & 0 & 0 & 0 & 0 & 0 & 0 & 0\\\\0 & 0 & 0 & 0 & 0 & 0 & 0 & 0 & 0 & 0 & 0 & 0 & 0 & 0 & 0 & 0 & 0 & 0 & 0 & g^{OT}_{CS, 08} & g^{OT}_{CS, 07} \\left(b^\\dagger_{OT, 04, 07} + b_{OT, 04, 07}\\right) + ε^{{CS}}_{04}\\\\0 & 0 & 0 & 0 & 1 & 0 & 0 & 0 & 0 & 0 & 0 & 0 & 0 & 0 & 0 & 0 & 0 & 0 & 0 & 0 & ω^{OT}_7 b_{OT, 04, 07} b^\\dagger_{OT, 04, 07}\\\\0 & 0 & 0 & 0 & 0 & 0 & 1 & 0 & 0 & 0 & 0 & 0 & 0 & 0 & 0 & 0 & 0 & 0 & 0 & 0 & 0\\\\0 & 0 & 0 & 0 & 0 & 0 & 0 & 0 & 0 & 0 & 0 & 0 & 0 & 0 & 0 & 0 & 0 & 1 & 0 & 0 & 0\\\\0 & 0 & 0 & 0 & 0 & 0 & 0 & 0 & 0 & 0 & 0 & 1 & 0 & 0 & 0 & 0 & 0 & 0 & 0 & 0 & 0\\\\0 & 0 & 0 & 0 & 0 & 0 & 0 & 0 & 0 & 0 & 0 & 0 & 0 & 0 & 0 & 0 & 0 & 0 & 0 & 0 & 1\\end{array}\\right]$"
      ],
      "text/plain": [
       "Matrix([\n",
       "[0, 0, 0, 0, 0, 0, 0, 0, 0, 0, 0, 0, 0, 0, 0, 1, 0, 0, 0,               0,                                                                         0],\n",
       "[0, 1, 0, 0, 0, 0, 0, 0, 0, 0, 0, 0, 0, 0, 0, 0, 0, 0, 0,               0,                                                                         0],\n",
       "[0, 0, 0, 0, 0, 0, 0, 1, 0, 0, 0, 0, 0, 0, 0, 0, 0, 0, 0,               0,                                                                         0],\n",
       "[0, 0, 0, 0, 0, 0, 0, 0, 0, 0, 0, 0, 0, 0, 0, 0, 1, 0, 0,               0,                                                                         0],\n",
       "[0, 0, 0, 0, 0, 0, 0, 0, 0, 1, 0, 0, 0, 0, 0, 0, 0, 0, 0,               0,                                                                         0],\n",
       "[0, 0, 0, 0, 0, 0, 0, 0, 0, 0, 0, 0, 0, 0, 0, 0, 0, 0, 1,               0,                                                                         0],\n",
       "[0, 0, 0, 0, 0, 0, 0, 0, 0, 0, 0, 0, 1, 0, 0, 0, 0, 0, 0,               0,                                                                         0],\n",
       "[0, 0, 0, 0, 0, 0, 0, 0, 0, 0, 0, 0, 0, 0, 1, 0, 0, 0, 0,               0,                                                                         0],\n",
       "[1, 0, 0, 0, 0, 0, 0, 0, 0, 0, 0, 0, 0, 0, 0, 0, 0, 0, 0,               0,                                                                         0],\n",
       "[0, 0, 0, 0, 0, 0, 0, 0, 1, 0, 0, 0, 0, 0, 0, 0, 0, 0, 0,               0,                                                                         0],\n",
       "[0, 0, 0, 1, 0, 0, 0, 0, 0, 0, 0, 0, 0, 0, 0, 0, 0, 0, 0,               0,                                                                         0],\n",
       "[0, 0, 1, 0, 0, 0, 0, 0, 0, 0, 0, 0, 0, 0, 0, 0, 0, 0, 0,               0,                                                                         0],\n",
       "[0, 0, 0, 0, 0, 0, 0, 0, 0, 0, 0, 0, 0, 1, 0, 0, 0, 0, 0,               0,                                                                         0],\n",
       "[0, 0, 0, 0, 0, 0, 0, 0, 0, 0, 1, 0, 0, 0, 0, 0, 0, 0, 0,               0,                                                                         0],\n",
       "[0, 0, 0, 0, 0, 0, 0, 0, 0, 0, 0, 0, 0, 0, 0, 0, 0, 0, 0, g^{OT}_{LE, 08},                 g^{OT}_{LE, 07}*(b^\\dagger_{OT, 04, 07} + b_{OT, 04, 07})],\n",
       "[0, 0, 0, 0, 0, 1, 0, 0, 0, 0, 0, 0, 0, 0, 0, 0, 0, 0, 0,               0,                                                                         0],\n",
       "[0, 0, 0, 0, 0, 0, 0, 0, 0, 0, 0, 0, 0, 0, 0, 0, 0, 0, 0, g^{OT}_{CS, 08}, g^{OT}_{CS, 07}*(b^\\dagger_{OT, 04, 07} + b_{OT, 04, 07}) + ε^{{CS}}_{04}],\n",
       "[0, 0, 0, 0, 1, 0, 0, 0, 0, 0, 0, 0, 0, 0, 0, 0, 0, 0, 0,               0,                            ω^{OT}_7*b_{OT, 04, 07}*b^\\dagger_{OT, 04, 07}],\n",
       "[0, 0, 0, 0, 0, 0, 1, 0, 0, 0, 0, 0, 0, 0, 0, 0, 0, 0, 0,               0,                                                                         0],\n",
       "[0, 0, 0, 0, 0, 0, 0, 0, 0, 0, 0, 0, 0, 0, 0, 0, 0, 1, 0,               0,                                                                         0],\n",
       "[0, 0, 0, 0, 0, 0, 0, 0, 0, 0, 0, 1, 0, 0, 0, 0, 0, 0, 0,               0,                                                                         0],\n",
       "[0, 0, 0, 0, 0, 0, 0, 0, 0, 0, 0, 0, 0, 0, 0, 0, 0, 0, 0,               0,                                                                         1]])"
      ]
     },
     "metadata": {},
     "output_type": "display_data"
    },
    {
     "data": {
      "text/latex": [
       "$\\displaystyle \\left[\\begin{array}{cccccccccccccccccccc}0 & 0 & 1 & 0 & 0 & 0 & 0 & 0 & 0 & 0 & 0 & 0 & 0 & 0 & 0 & 0 & 0 & 0 & 0 & 0\\\\0 & 0 & 0 & 0 & 0 & 0 & 0 & 0 & 0 & 0 & 0 & 0 & 0 & 0 & 0 & 0 & 0 & 1 & 0 & 0\\\\0 & 0 & 0 & 0 & 0 & 0 & 0 & 0 & 0 & 0 & 0 & 0 & 0 & 0 & 0 & 1 & 0 & 0 & 0 & 0\\\\0 & 0 & 0 & 0 & 0 & 0 & 0 & 0 & 0 & 0 & 0 & 0 & 0 & 0 & 0 & 0 & 1 & 0 & 0 & 0\\\\0 & 0 & 0 & 0 & 0 & 0 & 0 & 0 & 0 & 0 & 0 & 0 & 0 & 0 & 1 & 0 & 0 & 0 & 0 & ω^{OT}_8 b_{OT, 04, 08} b^\\dagger_{OT, 04, 08}\\\\0 & 0 & 0 & 0 & 0 & 0 & 0 & 0 & 0 & 1 & 0 & 0 & 0 & 0 & 0 & 0 & 0 & 0 & 0 & 0\\\\0 & 0 & 0 & 0 & 0 & 0 & 0 & 0 & 0 & 0 & 0 & 0 & 0 & 1 & 0 & 0 & 0 & 0 & 0 & 0\\\\1 & 0 & 0 & 0 & 0 & 0 & 0 & 0 & 0 & 0 & 0 & 0 & 0 & 0 & 0 & 0 & 0 & 0 & 0 & 0\\\\0 & 0 & 0 & 0 & 0 & 0 & 0 & 0 & 0 & 0 & 1 & 0 & 0 & 0 & 0 & 0 & 0 & 0 & 0 & 0\\\\0 & 0 & 0 & 0 & 1 & 0 & 0 & 0 & 0 & 0 & 0 & 0 & 0 & 0 & 0 & 0 & 0 & 0 & 0 & 0\\\\0 & 0 & 0 & 0 & 0 & 0 & 0 & 1 & 0 & 0 & 0 & 0 & 0 & 0 & 0 & 0 & 0 & 0 & 0 & 0\\\\0 & 0 & 0 & 0 & 0 & 0 & 1 & 0 & 0 & 0 & 0 & 0 & 0 & 0 & 0 & 0 & 0 & 0 & 0 & 0\\\\0 & 0 & 0 & 0 & 0 & 0 & 0 & 0 & 0 & 0 & 0 & 1 & 0 & 0 & 0 & 0 & 0 & 0 & 0 & 0\\\\0 & 0 & 0 & 0 & 0 & 0 & 0 & 0 & 0 & 0 & 0 & 0 & 0 & 0 & 0 & 0 & 0 & 0 & 1 & 0\\\\0 & 0 & 0 & 0 & 0 & 0 & 0 & 0 & 0 & 0 & 0 & 0 & 1 & 0 & 0 & 0 & 0 & 0 & 0 & 0\\\\0 & 0 & 0 & 0 & 0 & 0 & 0 & 0 & 1 & 0 & 0 & 0 & 0 & 0 & 0 & 0 & 0 & 0 & 0 & 0\\\\0 & 1 & 0 & 0 & 0 & 0 & 0 & 0 & 0 & 0 & 0 & 0 & 0 & 0 & 0 & 0 & 0 & 0 & 0 & 0\\\\0 & 0 & 0 & 0 & 0 & 1 & 0 & 0 & 0 & 0 & 0 & 0 & 0 & 0 & 0 & 0 & 0 & 0 & 0 & 0\\\\0 & 0 & 0 & 1 & 0 & 0 & 0 & 0 & 0 & 0 & 0 & 0 & 0 & 0 & 0 & 0 & 0 & 0 & 0 & 0\\\\0 & 0 & 0 & 0 & 0 & 0 & 0 & 0 & 0 & 0 & 0 & 0 & 0 & 0 & 0 & 0 & 0 & 0 & 0 & b^\\dagger_{OT, 04, 08} + b_{OT, 04, 08}\\\\0 & 0 & 0 & 0 & 0 & 0 & 0 & 0 & 0 & 0 & 0 & 0 & 0 & 0 & 0 & 0 & 0 & 0 & 0 & 1\\end{array}\\right]$"
      ],
      "text/plain": [
       "Matrix([\n",
       "[0, 0, 1, 0, 0, 0, 0, 0, 0, 0, 0, 0, 0, 0, 0, 0, 0, 0, 0,                                              0],\n",
       "[0, 0, 0, 0, 0, 0, 0, 0, 0, 0, 0, 0, 0, 0, 0, 0, 0, 1, 0,                                              0],\n",
       "[0, 0, 0, 0, 0, 0, 0, 0, 0, 0, 0, 0, 0, 0, 0, 1, 0, 0, 0,                                              0],\n",
       "[0, 0, 0, 0, 0, 0, 0, 0, 0, 0, 0, 0, 0, 0, 0, 0, 1, 0, 0,                                              0],\n",
       "[0, 0, 0, 0, 0, 0, 0, 0, 0, 0, 0, 0, 0, 0, 1, 0, 0, 0, 0, ω^{OT}_8*b_{OT, 04, 08}*b^\\dagger_{OT, 04, 08}],\n",
       "[0, 0, 0, 0, 0, 0, 0, 0, 0, 1, 0, 0, 0, 0, 0, 0, 0, 0, 0,                                              0],\n",
       "[0, 0, 0, 0, 0, 0, 0, 0, 0, 0, 0, 0, 0, 1, 0, 0, 0, 0, 0,                                              0],\n",
       "[1, 0, 0, 0, 0, 0, 0, 0, 0, 0, 0, 0, 0, 0, 0, 0, 0, 0, 0,                                              0],\n",
       "[0, 0, 0, 0, 0, 0, 0, 0, 0, 0, 1, 0, 0, 0, 0, 0, 0, 0, 0,                                              0],\n",
       "[0, 0, 0, 0, 1, 0, 0, 0, 0, 0, 0, 0, 0, 0, 0, 0, 0, 0, 0,                                              0],\n",
       "[0, 0, 0, 0, 0, 0, 0, 1, 0, 0, 0, 0, 0, 0, 0, 0, 0, 0, 0,                                              0],\n",
       "[0, 0, 0, 0, 0, 0, 1, 0, 0, 0, 0, 0, 0, 0, 0, 0, 0, 0, 0,                                              0],\n",
       "[0, 0, 0, 0, 0, 0, 0, 0, 0, 0, 0, 1, 0, 0, 0, 0, 0, 0, 0,                                              0],\n",
       "[0, 0, 0, 0, 0, 0, 0, 0, 0, 0, 0, 0, 0, 0, 0, 0, 0, 0, 1,                                              0],\n",
       "[0, 0, 0, 0, 0, 0, 0, 0, 0, 0, 0, 0, 1, 0, 0, 0, 0, 0, 0,                                              0],\n",
       "[0, 0, 0, 0, 0, 0, 0, 0, 1, 0, 0, 0, 0, 0, 0, 0, 0, 0, 0,                                              0],\n",
       "[0, 1, 0, 0, 0, 0, 0, 0, 0, 0, 0, 0, 0, 0, 0, 0, 0, 0, 0,                                              0],\n",
       "[0, 0, 0, 0, 0, 1, 0, 0, 0, 0, 0, 0, 0, 0, 0, 0, 0, 0, 0,                                              0],\n",
       "[0, 0, 0, 1, 0, 0, 0, 0, 0, 0, 0, 0, 0, 0, 0, 0, 0, 0, 0,                                              0],\n",
       "[0, 0, 0, 0, 0, 0, 0, 0, 0, 0, 0, 0, 0, 0, 0, 0, 0, 0, 0,        b^\\dagger_{OT, 04, 08} + b_{OT, 04, 08}],\n",
       "[0, 0, 0, 0, 0, 0, 0, 0, 0, 0, 0, 0, 0, 0, 0, 0, 0, 0, 0,                                              1]])"
      ]
     },
     "metadata": {},
     "output_type": "display_data"
    },
    {
     "data": {
      "text/latex": [
       "$\\displaystyle \\left[\\begin{array}{cccccccccccccccccccc}0 & 1 & 0 & 0 & 0 & 0 & 0 & 0 & 0 & 0 & 0 & 0 & 0 & 0 & 0 & 0 & 0 & 0 & 0 & 0\\\\0 & 0 & 1 & 0 & 0 & 0 & 0 & 0 & 0 & 0 & 0 & 0 & 0 & 0 & 0 & 0 & 0 & 0 & 0 & 0\\\\0 & 0 & 0 & 0 & 0 & 0 & 0 & 0 & 0 & 0 & 0 & 0 & 1 & 0 & 0 & 0 & 0 & 0 & 0 & 0\\\\0 & 0 & 0 & 0 & 0 & 0 & 0 & 0 & 1 & 0 & 0 & 0 & 0 & 0 & 0 & 0 & 0 & 0 & 0 & 0\\\\0 & 0 & 0 & 0 & 0 & 0 & 0 & 0 & 0 & 0 & 0 & 0 & 0 & 1 & 0 & 0 & 0 & 0 & 0 & 0\\\\0 & 0 & 0 & 0 & 0 & 0 & 0 & 0 & 0 & 0 & 0 & 0 & 0 & 0 & 0 & 0 & 0 & 1 & 0 & 0\\\\0 & 0 & 0 & 0 & 0 & 0 & 0 & 0 & 0 & 0 & 1 & 0 & 0 & 0 & 0 & 0 & 0 & 0 & 0 & 0\\\\0 & 0 & 0 & 0 & 0 & 0 & 0 & 0 & 0 & 0 & 0 & 1 & 0 & 0 & 0 & 0 & 0 & 0 & 0 & g^{OT}_{CS, 01} \\left(b^\\dagger_{OT, 05, 01} + b_{OT, 05, 01}\\right)\\\\0 & 0 & 0 & 0 & 1 & 0 & 0 & 0 & 0 & 0 & 0 & 0 & 0 & 0 & 0 & 0 & 0 & 0 & 0 & g^{OT}_{LE, 01} \\left(b^\\dagger_{OT, 05, 01} + b_{OT, 05, 01}\\right)\\\\0 & 0 & 0 & 0 & 0 & 0 & 0 & 0 & 0 & 0 & 0 & 0 & 0 & 0 & 0 & 0 & 0 & 0 & 1 & 0\\\\0 & 0 & 0 & 0 & 0 & 0 & 0 & 0 & 0 & 0 & 0 & 0 & 0 & 0 & 0 & 0 & 1 & 0 & 0 & 0\\\\0 & 0 & 0 & 1 & 0 & 0 & 0 & 0 & 0 & 0 & 0 & 0 & 0 & 0 & 0 & 0 & 0 & 0 & 0 & 0\\\\0 & 0 & 0 & 0 & 0 & 0 & 0 & 0 & 0 & 0 & 0 & 0 & 0 & 0 & 0 & 1 & 0 & 0 & 0 & 0\\\\0 & 0 & 0 & 0 & 0 & 0 & 0 & 0 & 0 & 0 & 0 & 0 & 0 & 0 & 1 & 0 & 0 & 0 & 0 & 0\\\\0 & 0 & 0 & 0 & 0 & 0 & 0 & 1 & 0 & 0 & 0 & 0 & 0 & 0 & 0 & 0 & 0 & 0 & 0 & ω^{OT}_1 b_{OT, 05, 01} b^\\dagger_{OT, 05, 01}\\\\0 & 0 & 0 & 0 & 0 & 1 & 0 & 0 & 0 & 0 & 0 & 0 & 0 & 0 & 0 & 0 & 0 & 0 & 0 & 0\\\\0 & 0 & 0 & 0 & 0 & 0 & 0 & 0 & 0 & 1 & 0 & 0 & 0 & 0 & 0 & 0 & 0 & 0 & 0 & 0\\\\1 & 0 & 0 & 0 & 0 & 0 & 0 & 0 & 0 & 0 & 0 & 0 & 0 & 0 & 0 & 0 & 0 & 0 & 0 & 0\\\\0 & 0 & 0 & 0 & 0 & 0 & 1 & 0 & 0 & 0 & 0 & 0 & 0 & 0 & 0 & 0 & 0 & 0 & 0 & 0\\\\0 & 0 & 0 & 0 & 0 & 0 & 0 & 0 & 0 & 0 & 0 & 0 & 0 & 0 & 0 & 0 & 0 & 0 & 0 & 1\\end{array}\\right]$"
      ],
      "text/plain": [
       "Matrix([\n",
       "[0, 1, 0, 0, 0, 0, 0, 0, 0, 0, 0, 0, 0, 0, 0, 0, 0, 0, 0,                                                         0],\n",
       "[0, 0, 1, 0, 0, 0, 0, 0, 0, 0, 0, 0, 0, 0, 0, 0, 0, 0, 0,                                                         0],\n",
       "[0, 0, 0, 0, 0, 0, 0, 0, 0, 0, 0, 0, 1, 0, 0, 0, 0, 0, 0,                                                         0],\n",
       "[0, 0, 0, 0, 0, 0, 0, 0, 1, 0, 0, 0, 0, 0, 0, 0, 0, 0, 0,                                                         0],\n",
       "[0, 0, 0, 0, 0, 0, 0, 0, 0, 0, 0, 0, 0, 1, 0, 0, 0, 0, 0,                                                         0],\n",
       "[0, 0, 0, 0, 0, 0, 0, 0, 0, 0, 0, 0, 0, 0, 0, 0, 0, 1, 0,                                                         0],\n",
       "[0, 0, 0, 0, 0, 0, 0, 0, 0, 0, 1, 0, 0, 0, 0, 0, 0, 0, 0,                                                         0],\n",
       "[0, 0, 0, 0, 0, 0, 0, 0, 0, 0, 0, 1, 0, 0, 0, 0, 0, 0, 0, g^{OT}_{CS, 01}*(b^\\dagger_{OT, 05, 01} + b_{OT, 05, 01})],\n",
       "[0, 0, 0, 0, 1, 0, 0, 0, 0, 0, 0, 0, 0, 0, 0, 0, 0, 0, 0, g^{OT}_{LE, 01}*(b^\\dagger_{OT, 05, 01} + b_{OT, 05, 01})],\n",
       "[0, 0, 0, 0, 0, 0, 0, 0, 0, 0, 0, 0, 0, 0, 0, 0, 0, 0, 1,                                                         0],\n",
       "[0, 0, 0, 0, 0, 0, 0, 0, 0, 0, 0, 0, 0, 0, 0, 0, 1, 0, 0,                                                         0],\n",
       "[0, 0, 0, 1, 0, 0, 0, 0, 0, 0, 0, 0, 0, 0, 0, 0, 0, 0, 0,                                                         0],\n",
       "[0, 0, 0, 0, 0, 0, 0, 0, 0, 0, 0, 0, 0, 0, 0, 1, 0, 0, 0,                                                         0],\n",
       "[0, 0, 0, 0, 0, 0, 0, 0, 0, 0, 0, 0, 0, 0, 1, 0, 0, 0, 0,                                                         0],\n",
       "[0, 0, 0, 0, 0, 0, 0, 1, 0, 0, 0, 0, 0, 0, 0, 0, 0, 0, 0,            ω^{OT}_1*b_{OT, 05, 01}*b^\\dagger_{OT, 05, 01}],\n",
       "[0, 0, 0, 0, 0, 1, 0, 0, 0, 0, 0, 0, 0, 0, 0, 0, 0, 0, 0,                                                         0],\n",
       "[0, 0, 0, 0, 0, 0, 0, 0, 0, 1, 0, 0, 0, 0, 0, 0, 0, 0, 0,                                                         0],\n",
       "[1, 0, 0, 0, 0, 0, 0, 0, 0, 0, 0, 0, 0, 0, 0, 0, 0, 0, 0,                                                         0],\n",
       "[0, 0, 0, 0, 0, 0, 1, 0, 0, 0, 0, 0, 0, 0, 0, 0, 0, 0, 0,                                                         0],\n",
       "[0, 0, 0, 0, 0, 0, 0, 0, 0, 0, 0, 0, 0, 0, 0, 0, 0, 0, 0,                                                         1]])"
      ]
     },
     "metadata": {},
     "output_type": "display_data"
    },
    {
     "data": {
      "text/latex": [
       "$\\displaystyle \\left[\\begin{array}{cccccccccccccccccccc}0 & 0 & 0 & 0 & 0 & 0 & 0 & 0 & 0 & 0 & 0 & 0 & 1 & 0 & 0 & 0 & 0 & 0 & 0 & 0\\\\0 & 0 & 0 & 0 & 0 & 0 & 0 & 0 & 0 & 0 & 0 & 0 & 0 & 0 & 0 & 0 & 0 & 1 & 0 & 0\\\\0 & 0 & 1 & 0 & 0 & 0 & 0 & 0 & 0 & 0 & 0 & 0 & 0 & 0 & 0 & 0 & 0 & 0 & 0 & 0\\\\0 & 0 & 0 & 0 & 0 & 1 & 0 & 0 & 0 & 0 & 0 & 0 & 0 & 0 & 0 & 0 & 0 & 0 & 0 & 0\\\\0 & 0 & 0 & 0 & 0 & 0 & 1 & 0 & 0 & 0 & 0 & 0 & 0 & 0 & 0 & 0 & 0 & 0 & 0 & g^{OT}_{LE, 02} \\left(b^\\dagger_{OT, 05, 02} + b_{OT, 05, 02}\\right)\\\\0 & 0 & 0 & 0 & 0 & 0 & 0 & 0 & 0 & 0 & 0 & 0 & 0 & 0 & 0 & 1 & 0 & 0 & 0 & 0\\\\0 & 0 & 0 & 1 & 0 & 0 & 0 & 0 & 0 & 0 & 0 & 0 & 0 & 0 & 0 & 0 & 0 & 0 & 0 & 0\\\\1 & 0 & 0 & 0 & 0 & 0 & 0 & 0 & 0 & 0 & 0 & 0 & 0 & 0 & 0 & 0 & 0 & 0 & 0 & ω^{OT}_2 b_{OT, 05, 02} b^\\dagger_{OT, 05, 02}\\\\0 & 0 & 0 & 0 & 0 & 0 & 0 & 0 & 1 & 0 & 0 & 0 & 0 & 0 & 0 & 0 & 0 & 0 & 0 & 0\\\\0 & 0 & 0 & 0 & 0 & 0 & 0 & 0 & 0 & 0 & 1 & 0 & 0 & 0 & 0 & 0 & 0 & 0 & 0 & 0\\\\0 & 0 & 0 & 0 & 0 & 0 & 0 & 0 & 0 & 0 & 0 & 0 & 0 & 0 & 1 & 0 & 0 & 0 & 0 & 0\\\\0 & 0 & 0 & 0 & 0 & 0 & 0 & 0 & 0 & 0 & 0 & 0 & 0 & 1 & 0 & 0 & 0 & 0 & 0 & g^{OT}_{CS, 02} \\left(b^\\dagger_{OT, 05, 02} + b_{OT, 05, 02}\\right)\\\\0 & 0 & 0 & 0 & 1 & 0 & 0 & 0 & 0 & 0 & 0 & 0 & 0 & 0 & 0 & 0 & 0 & 0 & 0 & 0\\\\0 & 0 & 0 & 0 & 0 & 0 & 0 & 0 & 0 & 0 & 0 & 0 & 0 & 0 & 0 & 0 & 0 & 0 & 1 & 0\\\\0 & 0 & 0 & 0 & 0 & 0 & 0 & 0 & 0 & 0 & 0 & 0 & 0 & 0 & 0 & 0 & 1 & 0 & 0 & 0\\\\0 & 0 & 0 & 0 & 0 & 0 & 0 & 0 & 0 & 0 & 0 & 1 & 0 & 0 & 0 & 0 & 0 & 0 & 0 & 0\\\\0 & 0 & 0 & 0 & 0 & 0 & 0 & 1 & 0 & 0 & 0 & 0 & 0 & 0 & 0 & 0 & 0 & 0 & 0 & 0\\\\0 & 1 & 0 & 0 & 0 & 0 & 0 & 0 & 0 & 0 & 0 & 0 & 0 & 0 & 0 & 0 & 0 & 0 & 0 & 0\\\\0 & 0 & 0 & 0 & 0 & 0 & 0 & 0 & 0 & 1 & 0 & 0 & 0 & 0 & 0 & 0 & 0 & 0 & 0 & 0\\\\0 & 0 & 0 & 0 & 0 & 0 & 0 & 0 & 0 & 0 & 0 & 0 & 0 & 0 & 0 & 0 & 0 & 0 & 0 & 1\\end{array}\\right]$"
      ],
      "text/plain": [
       "Matrix([\n",
       "[0, 0, 0, 0, 0, 0, 0, 0, 0, 0, 0, 0, 1, 0, 0, 0, 0, 0, 0,                                                         0],\n",
       "[0, 0, 0, 0, 0, 0, 0, 0, 0, 0, 0, 0, 0, 0, 0, 0, 0, 1, 0,                                                         0],\n",
       "[0, 0, 1, 0, 0, 0, 0, 0, 0, 0, 0, 0, 0, 0, 0, 0, 0, 0, 0,                                                         0],\n",
       "[0, 0, 0, 0, 0, 1, 0, 0, 0, 0, 0, 0, 0, 0, 0, 0, 0, 0, 0,                                                         0],\n",
       "[0, 0, 0, 0, 0, 0, 1, 0, 0, 0, 0, 0, 0, 0, 0, 0, 0, 0, 0, g^{OT}_{LE, 02}*(b^\\dagger_{OT, 05, 02} + b_{OT, 05, 02})],\n",
       "[0, 0, 0, 0, 0, 0, 0, 0, 0, 0, 0, 0, 0, 0, 0, 1, 0, 0, 0,                                                         0],\n",
       "[0, 0, 0, 1, 0, 0, 0, 0, 0, 0, 0, 0, 0, 0, 0, 0, 0, 0, 0,                                                         0],\n",
       "[1, 0, 0, 0, 0, 0, 0, 0, 0, 0, 0, 0, 0, 0, 0, 0, 0, 0, 0,            ω^{OT}_2*b_{OT, 05, 02}*b^\\dagger_{OT, 05, 02}],\n",
       "[0, 0, 0, 0, 0, 0, 0, 0, 1, 0, 0, 0, 0, 0, 0, 0, 0, 0, 0,                                                         0],\n",
       "[0, 0, 0, 0, 0, 0, 0, 0, 0, 0, 1, 0, 0, 0, 0, 0, 0, 0, 0,                                                         0],\n",
       "[0, 0, 0, 0, 0, 0, 0, 0, 0, 0, 0, 0, 0, 0, 1, 0, 0, 0, 0,                                                         0],\n",
       "[0, 0, 0, 0, 0, 0, 0, 0, 0, 0, 0, 0, 0, 1, 0, 0, 0, 0, 0, g^{OT}_{CS, 02}*(b^\\dagger_{OT, 05, 02} + b_{OT, 05, 02})],\n",
       "[0, 0, 0, 0, 1, 0, 0, 0, 0, 0, 0, 0, 0, 0, 0, 0, 0, 0, 0,                                                         0],\n",
       "[0, 0, 0, 0, 0, 0, 0, 0, 0, 0, 0, 0, 0, 0, 0, 0, 0, 0, 1,                                                         0],\n",
       "[0, 0, 0, 0, 0, 0, 0, 0, 0, 0, 0, 0, 0, 0, 0, 0, 1, 0, 0,                                                         0],\n",
       "[0, 0, 0, 0, 0, 0, 0, 0, 0, 0, 0, 1, 0, 0, 0, 0, 0, 0, 0,                                                         0],\n",
       "[0, 0, 0, 0, 0, 0, 0, 1, 0, 0, 0, 0, 0, 0, 0, 0, 0, 0, 0,                                                         0],\n",
       "[0, 1, 0, 0, 0, 0, 0, 0, 0, 0, 0, 0, 0, 0, 0, 0, 0, 0, 0,                                                         0],\n",
       "[0, 0, 0, 0, 0, 0, 0, 0, 0, 1, 0, 0, 0, 0, 0, 0, 0, 0, 0,                                                         0],\n",
       "[0, 0, 0, 0, 0, 0, 0, 0, 0, 0, 0, 0, 0, 0, 0, 0, 0, 0, 0,                                                         1]])"
      ]
     },
     "metadata": {},
     "output_type": "display_data"
    },
    {
     "data": {
      "text/latex": [
       "$\\displaystyle \\left[\\begin{array}{cccccccccccccccccccc}0 & 0 & 0 & 0 & 0 & 0 & 0 & 0 & 0 & 1 & 0 & 0 & 0 & 0 & 0 & 0 & 0 & 0 & 0 & ω^{OT}_3 b_{OT, 05, 03} b^\\dagger_{OT, 05, 03}\\\\0 & 0 & 0 & 0 & 0 & 0 & 0 & 0 & 0 & 0 & 0 & 0 & 0 & 1 & 0 & 0 & 0 & 0 & 0 & 0\\\\0 & 0 & 0 & 0 & 0 & 0 & 0 & 0 & 1 & 0 & 0 & 0 & 0 & 0 & 0 & 0 & 0 & 0 & 0 & 0\\\\0 & 0 & 0 & 0 & 0 & 0 & 0 & 0 & 0 & 0 & 0 & 0 & 0 & 0 & 0 & 1 & 0 & 0 & 0 & 0\\\\0 & 0 & 0 & 0 & 1 & 0 & 0 & 0 & 0 & 0 & 0 & 0 & 0 & 0 & 0 & 0 & 0 & 0 & 0 & 0\\\\0 & 0 & 0 & 0 & 0 & 0 & 0 & 0 & 0 & 0 & 0 & 0 & 0 & 0 & 0 & 0 & 1 & 0 & 0 & 0\\\\0 & 0 & 0 & 0 & 0 & 0 & 0 & 0 & 0 & 0 & 0 & 0 & 0 & 0 & 1 & 0 & 0 & 0 & 0 & g^{OT}_{LE, 03} \\left(b^\\dagger_{OT, 05, 03} + b_{OT, 05, 03}\\right)\\\\0 & 0 & 0 & 0 & 0 & 0 & 0 & 0 & 0 & 0 & 0 & 0 & 0 & 0 & 0 & 0 & 0 & 0 & 1 & 0\\\\0 & 0 & 0 & 0 & 0 & 0 & 0 & 0 & 0 & 0 & 0 & 0 & 1 & 0 & 0 & 0 & 0 & 0 & 0 & 0\\\\0 & 0 & 0 & 1 & 0 & 0 & 0 & 0 & 0 & 0 & 0 & 0 & 0 & 0 & 0 & 0 & 0 & 0 & 0 & 0\\\\0 & 0 & 0 & 0 & 0 & 0 & 0 & 1 & 0 & 0 & 0 & 0 & 0 & 0 & 0 & 0 & 0 & 0 & 0 & 0\\\\0 & 0 & 0 & 0 & 0 & 0 & 1 & 0 & 0 & 0 & 0 & 0 & 0 & 0 & 0 & 0 & 0 & 0 & 0 & 0\\\\0 & 0 & 1 & 0 & 0 & 0 & 0 & 0 & 0 & 0 & 0 & 0 & 0 & 0 & 0 & 0 & 0 & 0 & 0 & 0\\\\0 & 0 & 0 & 0 & 0 & 1 & 0 & 0 & 0 & 0 & 0 & 0 & 0 & 0 & 0 & 0 & 0 & 0 & 0 & g^{OT}_{CS, 03} \\left(b^\\dagger_{OT, 05, 03} + b_{OT, 05, 03}\\right)\\\\0 & 0 & 0 & 0 & 0 & 0 & 0 & 0 & 0 & 0 & 0 & 1 & 0 & 0 & 0 & 0 & 0 & 0 & 0 & 0\\\\0 & 0 & 0 & 0 & 0 & 0 & 0 & 0 & 0 & 0 & 0 & 0 & 0 & 0 & 0 & 0 & 0 & 1 & 0 & 0\\\\0 & 0 & 0 & 0 & 0 & 0 & 0 & 0 & 0 & 0 & 1 & 0 & 0 & 0 & 0 & 0 & 0 & 0 & 0 & 0\\\\1 & 0 & 0 & 0 & 0 & 0 & 0 & 0 & 0 & 0 & 0 & 0 & 0 & 0 & 0 & 0 & 0 & 0 & 0 & 0\\\\0 & 1 & 0 & 0 & 0 & 0 & 0 & 0 & 0 & 0 & 0 & 0 & 0 & 0 & 0 & 0 & 0 & 0 & 0 & 0\\\\0 & 0 & 0 & 0 & 0 & 0 & 0 & 0 & 0 & 0 & 0 & 0 & 0 & 0 & 0 & 0 & 0 & 0 & 0 & 1\\end{array}\\right]$"
      ],
      "text/plain": [
       "Matrix([\n",
       "[0, 0, 0, 0, 0, 0, 0, 0, 0, 1, 0, 0, 0, 0, 0, 0, 0, 0, 0,            ω^{OT}_3*b_{OT, 05, 03}*b^\\dagger_{OT, 05, 03}],\n",
       "[0, 0, 0, 0, 0, 0, 0, 0, 0, 0, 0, 0, 0, 1, 0, 0, 0, 0, 0,                                                         0],\n",
       "[0, 0, 0, 0, 0, 0, 0, 0, 1, 0, 0, 0, 0, 0, 0, 0, 0, 0, 0,                                                         0],\n",
       "[0, 0, 0, 0, 0, 0, 0, 0, 0, 0, 0, 0, 0, 0, 0, 1, 0, 0, 0,                                                         0],\n",
       "[0, 0, 0, 0, 1, 0, 0, 0, 0, 0, 0, 0, 0, 0, 0, 0, 0, 0, 0,                                                         0],\n",
       "[0, 0, 0, 0, 0, 0, 0, 0, 0, 0, 0, 0, 0, 0, 0, 0, 1, 0, 0,                                                         0],\n",
       "[0, 0, 0, 0, 0, 0, 0, 0, 0, 0, 0, 0, 0, 0, 1, 0, 0, 0, 0, g^{OT}_{LE, 03}*(b^\\dagger_{OT, 05, 03} + b_{OT, 05, 03})],\n",
       "[0, 0, 0, 0, 0, 0, 0, 0, 0, 0, 0, 0, 0, 0, 0, 0, 0, 0, 1,                                                         0],\n",
       "[0, 0, 0, 0, 0, 0, 0, 0, 0, 0, 0, 0, 1, 0, 0, 0, 0, 0, 0,                                                         0],\n",
       "[0, 0, 0, 1, 0, 0, 0, 0, 0, 0, 0, 0, 0, 0, 0, 0, 0, 0, 0,                                                         0],\n",
       "[0, 0, 0, 0, 0, 0, 0, 1, 0, 0, 0, 0, 0, 0, 0, 0, 0, 0, 0,                                                         0],\n",
       "[0, 0, 0, 0, 0, 0, 1, 0, 0, 0, 0, 0, 0, 0, 0, 0, 0, 0, 0,                                                         0],\n",
       "[0, 0, 1, 0, 0, 0, 0, 0, 0, 0, 0, 0, 0, 0, 0, 0, 0, 0, 0,                                                         0],\n",
       "[0, 0, 0, 0, 0, 1, 0, 0, 0, 0, 0, 0, 0, 0, 0, 0, 0, 0, 0, g^{OT}_{CS, 03}*(b^\\dagger_{OT, 05, 03} + b_{OT, 05, 03})],\n",
       "[0, 0, 0, 0, 0, 0, 0, 0, 0, 0, 0, 1, 0, 0, 0, 0, 0, 0, 0,                                                         0],\n",
       "[0, 0, 0, 0, 0, 0, 0, 0, 0, 0, 0, 0, 0, 0, 0, 0, 0, 1, 0,                                                         0],\n",
       "[0, 0, 0, 0, 0, 0, 0, 0, 0, 0, 1, 0, 0, 0, 0, 0, 0, 0, 0,                                                         0],\n",
       "[1, 0, 0, 0, 0, 0, 0, 0, 0, 0, 0, 0, 0, 0, 0, 0, 0, 0, 0,                                                         0],\n",
       "[0, 1, 0, 0, 0, 0, 0, 0, 0, 0, 0, 0, 0, 0, 0, 0, 0, 0, 0,                                                         0],\n",
       "[0, 0, 0, 0, 0, 0, 0, 0, 0, 0, 0, 0, 0, 0, 0, 0, 0, 0, 0,                                                         1]])"
      ]
     },
     "metadata": {},
     "output_type": "display_data"
    },
    {
     "data": {
      "text/latex": [
       "$\\displaystyle \\left[\\begin{array}{cccccccccccccccccccc}0 & 0 & 0 & 0 & 0 & 0 & 0 & 0 & 0 & 0 & 1 & 0 & 0 & 0 & 0 & 0 & 0 & 0 & 0 & 0\\\\0 & 0 & 0 & 0 & 0 & 0 & 1 & 0 & 0 & 0 & 0 & 0 & 0 & 0 & 0 & 0 & 0 & 0 & 0 & 0\\\\1 & 0 & 0 & 0 & 0 & 0 & 0 & 0 & 0 & 0 & 0 & 0 & 0 & 0 & 0 & 0 & 0 & 0 & 0 & 0\\\\0 & 0 & 0 & 0 & 0 & 0 & 0 & 0 & 0 & 0 & 0 & 0 & 0 & 0 & 0 & 1 & 0 & 0 & 0 & 0\\\\0 & 0 & 1 & 0 & 0 & 0 & 0 & 0 & 0 & 0 & 0 & 0 & 0 & 0 & 0 & 0 & 0 & 0 & 0 & 0\\\\0 & 0 & 0 & 0 & 0 & 0 & 0 & 0 & 0 & 0 & 0 & 0 & 0 & 0 & 0 & 0 & 0 & 0 & 1 & g^{OT}_{CS, 04} \\left(b^\\dagger_{OT, 05, 04} + b_{OT, 05, 04}\\right)\\\\0 & 0 & 0 & 0 & 0 & 0 & 0 & 0 & 0 & 0 & 0 & 0 & 1 & 0 & 0 & 0 & 0 & 0 & 0 & 0\\\\0 & 1 & 0 & 0 & 0 & 0 & 0 & 0 & 0 & 0 & 0 & 0 & 0 & 0 & 0 & 0 & 0 & 0 & 0 & 0\\\\0 & 0 & 0 & 0 & 0 & 0 & 0 & 0 & 1 & 0 & 0 & 0 & 0 & 0 & 0 & 0 & 0 & 0 & 0 & 0\\\\0 & 0 & 0 & 0 & 1 & 0 & 0 & 0 & 0 & 0 & 0 & 0 & 0 & 0 & 0 & 0 & 0 & 0 & 0 & ω^{OT}_4 b_{OT, 05, 04} b^\\dagger_{OT, 05, 04}\\\\0 & 0 & 0 & 0 & 0 & 0 & 0 & 0 & 0 & 1 & 0 & 0 & 0 & 0 & 0 & 0 & 0 & 0 & 0 & 0\\\\0 & 0 & 0 & 0 & 0 & 0 & 0 & 0 & 0 & 0 & 0 & 0 & 0 & 0 & 1 & 0 & 0 & 0 & 0 & 0\\\\0 & 0 & 0 & 0 & 0 & 0 & 0 & 0 & 0 & 0 & 0 & 0 & 0 & 0 & 0 & 0 & 1 & 0 & 0 & 0\\\\0 & 0 & 0 & 0 & 0 & 0 & 0 & 1 & 0 & 0 & 0 & 0 & 0 & 0 & 0 & 0 & 0 & 0 & 0 & 0\\\\0 & 0 & 0 & 0 & 0 & 0 & 0 & 0 & 0 & 0 & 0 & 0 & 0 & 1 & 0 & 0 & 0 & 0 & 0 & g^{OT}_{LE, 04} \\left(b^\\dagger_{OT, 05, 04} + b_{OT, 05, 04}\\right)\\\\0 & 0 & 0 & 0 & 0 & 0 & 0 & 0 & 0 & 0 & 0 & 1 & 0 & 0 & 0 & 0 & 0 & 0 & 0 & 0\\\\0 & 0 & 0 & 1 & 0 & 0 & 0 & 0 & 0 & 0 & 0 & 0 & 0 & 0 & 0 & 0 & 0 & 0 & 0 & 0\\\\0 & 0 & 0 & 0 & 0 & 0 & 0 & 0 & 0 & 0 & 0 & 0 & 0 & 0 & 0 & 0 & 0 & 1 & 0 & 0\\\\0 & 0 & 0 & 0 & 0 & 1 & 0 & 0 & 0 & 0 & 0 & 0 & 0 & 0 & 0 & 0 & 0 & 0 & 0 & 0\\\\0 & 0 & 0 & 0 & 0 & 0 & 0 & 0 & 0 & 0 & 0 & 0 & 0 & 0 & 0 & 0 & 0 & 0 & 0 & 1\\end{array}\\right]$"
      ],
      "text/plain": [
       "Matrix([\n",
       "[0, 0, 0, 0, 0, 0, 0, 0, 0, 0, 1, 0, 0, 0, 0, 0, 0, 0, 0,                                                         0],\n",
       "[0, 0, 0, 0, 0, 0, 1, 0, 0, 0, 0, 0, 0, 0, 0, 0, 0, 0, 0,                                                         0],\n",
       "[1, 0, 0, 0, 0, 0, 0, 0, 0, 0, 0, 0, 0, 0, 0, 0, 0, 0, 0,                                                         0],\n",
       "[0, 0, 0, 0, 0, 0, 0, 0, 0, 0, 0, 0, 0, 0, 0, 1, 0, 0, 0,                                                         0],\n",
       "[0, 0, 1, 0, 0, 0, 0, 0, 0, 0, 0, 0, 0, 0, 0, 0, 0, 0, 0,                                                         0],\n",
       "[0, 0, 0, 0, 0, 0, 0, 0, 0, 0, 0, 0, 0, 0, 0, 0, 0, 0, 1, g^{OT}_{CS, 04}*(b^\\dagger_{OT, 05, 04} + b_{OT, 05, 04})],\n",
       "[0, 0, 0, 0, 0, 0, 0, 0, 0, 0, 0, 0, 1, 0, 0, 0, 0, 0, 0,                                                         0],\n",
       "[0, 1, 0, 0, 0, 0, 0, 0, 0, 0, 0, 0, 0, 0, 0, 0, 0, 0, 0,                                                         0],\n",
       "[0, 0, 0, 0, 0, 0, 0, 0, 1, 0, 0, 0, 0, 0, 0, 0, 0, 0, 0,                                                         0],\n",
       "[0, 0, 0, 0, 1, 0, 0, 0, 0, 0, 0, 0, 0, 0, 0, 0, 0, 0, 0,            ω^{OT}_4*b_{OT, 05, 04}*b^\\dagger_{OT, 05, 04}],\n",
       "[0, 0, 0, 0, 0, 0, 0, 0, 0, 1, 0, 0, 0, 0, 0, 0, 0, 0, 0,                                                         0],\n",
       "[0, 0, 0, 0, 0, 0, 0, 0, 0, 0, 0, 0, 0, 0, 1, 0, 0, 0, 0,                                                         0],\n",
       "[0, 0, 0, 0, 0, 0, 0, 0, 0, 0, 0, 0, 0, 0, 0, 0, 1, 0, 0,                                                         0],\n",
       "[0, 0, 0, 0, 0, 0, 0, 1, 0, 0, 0, 0, 0, 0, 0, 0, 0, 0, 0,                                                         0],\n",
       "[0, 0, 0, 0, 0, 0, 0, 0, 0, 0, 0, 0, 0, 1, 0, 0, 0, 0, 0, g^{OT}_{LE, 04}*(b^\\dagger_{OT, 05, 04} + b_{OT, 05, 04})],\n",
       "[0, 0, 0, 0, 0, 0, 0, 0, 0, 0, 0, 1, 0, 0, 0, 0, 0, 0, 0,                                                         0],\n",
       "[0, 0, 0, 1, 0, 0, 0, 0, 0, 0, 0, 0, 0, 0, 0, 0, 0, 0, 0,                                                         0],\n",
       "[0, 0, 0, 0, 0, 0, 0, 0, 0, 0, 0, 0, 0, 0, 0, 0, 0, 1, 0,                                                         0],\n",
       "[0, 0, 0, 0, 0, 1, 0, 0, 0, 0, 0, 0, 0, 0, 0, 0, 0, 0, 0,                                                         0],\n",
       "[0, 0, 0, 0, 0, 0, 0, 0, 0, 0, 0, 0, 0, 0, 0, 0, 0, 0, 0,                                                         1]])"
      ]
     },
     "metadata": {},
     "output_type": "display_data"
    },
    {
     "data": {
      "text/latex": [
       "$\\displaystyle \\left[\\begin{array}{cccccccccccccccccccc}0 & 0 & 0 & 1 & 0 & 0 & 0 & 0 & 0 & 0 & 0 & 0 & 0 & 0 & 0 & 0 & 0 & 0 & 0 & 0\\\\0 & 0 & 0 & 0 & 0 & 0 & 0 & 0 & 0 & 0 & 0 & 0 & 0 & 0 & 0 & 0 & 0 & 1 & 0 & 0\\\\0 & 0 & 0 & 0 & 0 & 0 & 0 & 0 & 0 & 0 & 0 & 0 & 0 & 1 & 0 & 0 & 0 & 0 & 0 & 0\\\\0 & 0 & 0 & 0 & 0 & 0 & 0 & 0 & 0 & 0 & 0 & 0 & 0 & 0 & 1 & 0 & 0 & 0 & 0 & 0\\\\1 & 0 & 0 & 0 & 0 & 0 & 0 & 0 & 0 & 0 & 0 & 0 & 0 & 0 & 0 & 0 & 0 & 0 & 0 & ω^{OT}_5 b_{OT, 05, 05} b^\\dagger_{OT, 05, 05}\\\\0 & 0 & 0 & 0 & 0 & 0 & 0 & 0 & 0 & 0 & 0 & 0 & 0 & 0 & 0 & 1 & 0 & 0 & 0 & 0\\\\0 & 0 & 0 & 0 & 0 & 0 & 0 & 1 & 0 & 0 & 0 & 0 & 0 & 0 & 0 & 0 & 0 & 0 & 0 & 0\\\\0 & 0 & 0 & 0 & 0 & 0 & 0 & 0 & 0 & 1 & 0 & 0 & 0 & 0 & 0 & 0 & 0 & 0 & 0 & 0\\\\0 & 0 & 0 & 0 & 1 & 0 & 0 & 0 & 0 & 0 & 0 & 0 & 0 & 0 & 0 & 0 & 0 & 0 & 0 & 0\\\\0 & 0 & 0 & 0 & 0 & 0 & 1 & 0 & 0 & 0 & 0 & 0 & 0 & 0 & 0 & 0 & 0 & 0 & 0 & 0\\\\0 & 0 & 0 & 0 & 0 & 0 & 0 & 0 & 0 & 0 & 1 & 0 & 0 & 0 & 0 & 0 & 0 & 0 & 0 & 0\\\\0 & 0 & 0 & 0 & 0 & 0 & 0 & 0 & 0 & 0 & 0 & 0 & 0 & 0 & 0 & 0 & 0 & 0 & 1 & 0\\\\0 & 0 & 1 & 0 & 0 & 0 & 0 & 0 & 0 & 0 & 0 & 0 & 0 & 0 & 0 & 0 & 0 & 0 & 0 & 0\\\\0 & 0 & 0 & 0 & 0 & 1 & 0 & 0 & 0 & 0 & 0 & 0 & 0 & 0 & 0 & 0 & 0 & 0 & 0 & g^{OT}_{LE, 05} \\left(b^\\dagger_{OT, 05, 05} + b_{OT, 05, 05}\\right)\\\\0 & 1 & 0 & 0 & 0 & 0 & 0 & 0 & 0 & 0 & 0 & 0 & 0 & 0 & 0 & 0 & 0 & 0 & 0 & 0\\\\0 & 0 & 0 & 0 & 0 & 0 & 0 & 0 & 1 & 0 & 0 & 0 & 0 & 0 & 0 & 0 & 0 & 0 & 0 & 0\\\\0 & 0 & 0 & 0 & 0 & 0 & 0 & 0 & 0 & 0 & 0 & 1 & 0 & 0 & 0 & 0 & 0 & 0 & 0 & 0\\\\0 & 0 & 0 & 0 & 0 & 0 & 0 & 0 & 0 & 0 & 0 & 0 & 1 & 0 & 0 & 0 & 0 & 0 & 0 & 0\\\\0 & 0 & 0 & 0 & 0 & 0 & 0 & 0 & 0 & 0 & 0 & 0 & 0 & 0 & 0 & 0 & 1 & 0 & 0 & g^{OT}_{CS, 05} \\left(b^\\dagger_{OT, 05, 05} + b_{OT, 05, 05}\\right)\\\\0 & 0 & 0 & 0 & 0 & 0 & 0 & 0 & 0 & 0 & 0 & 0 & 0 & 0 & 0 & 0 & 0 & 0 & 0 & 1\\end{array}\\right]$"
      ],
      "text/plain": [
       "Matrix([\n",
       "[0, 0, 0, 1, 0, 0, 0, 0, 0, 0, 0, 0, 0, 0, 0, 0, 0, 0, 0,                                                         0],\n",
       "[0, 0, 0, 0, 0, 0, 0, 0, 0, 0, 0, 0, 0, 0, 0, 0, 0, 1, 0,                                                         0],\n",
       "[0, 0, 0, 0, 0, 0, 0, 0, 0, 0, 0, 0, 0, 1, 0, 0, 0, 0, 0,                                                         0],\n",
       "[0, 0, 0, 0, 0, 0, 0, 0, 0, 0, 0, 0, 0, 0, 1, 0, 0, 0, 0,                                                         0],\n",
       "[1, 0, 0, 0, 0, 0, 0, 0, 0, 0, 0, 0, 0, 0, 0, 0, 0, 0, 0,            ω^{OT}_5*b_{OT, 05, 05}*b^\\dagger_{OT, 05, 05}],\n",
       "[0, 0, 0, 0, 0, 0, 0, 0, 0, 0, 0, 0, 0, 0, 0, 1, 0, 0, 0,                                                         0],\n",
       "[0, 0, 0, 0, 0, 0, 0, 1, 0, 0, 0, 0, 0, 0, 0, 0, 0, 0, 0,                                                         0],\n",
       "[0, 0, 0, 0, 0, 0, 0, 0, 0, 1, 0, 0, 0, 0, 0, 0, 0, 0, 0,                                                         0],\n",
       "[0, 0, 0, 0, 1, 0, 0, 0, 0, 0, 0, 0, 0, 0, 0, 0, 0, 0, 0,                                                         0],\n",
       "[0, 0, 0, 0, 0, 0, 1, 0, 0, 0, 0, 0, 0, 0, 0, 0, 0, 0, 0,                                                         0],\n",
       "[0, 0, 0, 0, 0, 0, 0, 0, 0, 0, 1, 0, 0, 0, 0, 0, 0, 0, 0,                                                         0],\n",
       "[0, 0, 0, 0, 0, 0, 0, 0, 0, 0, 0, 0, 0, 0, 0, 0, 0, 0, 1,                                                         0],\n",
       "[0, 0, 1, 0, 0, 0, 0, 0, 0, 0, 0, 0, 0, 0, 0, 0, 0, 0, 0,                                                         0],\n",
       "[0, 0, 0, 0, 0, 1, 0, 0, 0, 0, 0, 0, 0, 0, 0, 0, 0, 0, 0, g^{OT}_{LE, 05}*(b^\\dagger_{OT, 05, 05} + b_{OT, 05, 05})],\n",
       "[0, 1, 0, 0, 0, 0, 0, 0, 0, 0, 0, 0, 0, 0, 0, 0, 0, 0, 0,                                                         0],\n",
       "[0, 0, 0, 0, 0, 0, 0, 0, 1, 0, 0, 0, 0, 0, 0, 0, 0, 0, 0,                                                         0],\n",
       "[0, 0, 0, 0, 0, 0, 0, 0, 0, 0, 0, 1, 0, 0, 0, 0, 0, 0, 0,                                                         0],\n",
       "[0, 0, 0, 0, 0, 0, 0, 0, 0, 0, 0, 0, 1, 0, 0, 0, 0, 0, 0,                                                         0],\n",
       "[0, 0, 0, 0, 0, 0, 0, 0, 0, 0, 0, 0, 0, 0, 0, 0, 1, 0, 0, g^{OT}_{CS, 05}*(b^\\dagger_{OT, 05, 05} + b_{OT, 05, 05})],\n",
       "[0, 0, 0, 0, 0, 0, 0, 0, 0, 0, 0, 0, 0, 0, 0, 0, 0, 0, 0,                                                         1]])"
      ]
     },
     "metadata": {},
     "output_type": "display_data"
    },
    {
     "data": {
      "text/latex": [
       "$\\displaystyle \\left[\\begin{array}{cccccccccccccccccccc}0 & 0 & 0 & 0 & 0 & 0 & 0 & 1 & 0 & 0 & 0 & 0 & 0 & 0 & 0 & 0 & 0 & 0 & 0 & ω^{OT}_6 b_{OT, 05, 06} b^\\dagger_{OT, 05, 06}\\\\0 & 0 & 0 & 0 & 0 & 0 & 0 & 0 & 0 & 0 & 0 & 0 & 0 & 0 & 0 & 0 & 0 & 1 & 0 & 0\\\\0 & 0 & 0 & 0 & 0 & 0 & 0 & 0 & 0 & 1 & 0 & 0 & 0 & 0 & 0 & 0 & 0 & 0 & 0 & 0\\\\1 & 0 & 0 & 0 & 0 & 0 & 0 & 0 & 0 & 0 & 0 & 0 & 0 & 0 & 0 & 0 & 0 & 0 & 0 & 0\\\\0 & 0 & 0 & 0 & 0 & 0 & 0 & 0 & 0 & 0 & 0 & 0 & 1 & 0 & 0 & 0 & 0 & 0 & 0 & 0\\\\0 & 0 & 1 & 0 & 0 & 0 & 0 & 0 & 0 & 0 & 0 & 0 & 0 & 0 & 0 & 0 & 0 & 0 & 0 & g^{OT}_{LE, 06} \\left(b^\\dagger_{OT, 05, 06} + b_{OT, 05, 06}\\right)\\\\0 & 0 & 0 & 0 & 0 & 0 & 0 & 0 & 0 & 0 & 1 & 0 & 0 & 0 & 0 & 0 & 0 & 0 & 0 & 0\\\\0 & 0 & 0 & 0 & 1 & 0 & 0 & 0 & 0 & 0 & 0 & 0 & 0 & 0 & 0 & 0 & 0 & 0 & 0 & 0\\\\0 & 0 & 0 & 0 & 0 & 0 & 0 & 0 & 0 & 0 & 0 & 1 & 0 & 0 & 0 & 0 & 0 & 0 & 0 & 0\\\\0 & 0 & 0 & 1 & 0 & 0 & 0 & 0 & 0 & 0 & 0 & 0 & 0 & 0 & 0 & 0 & 0 & 0 & 0 & 0\\\\0 & 0 & 0 & 0 & 0 & 0 & 0 & 0 & 0 & 0 & 0 & 0 & 0 & 0 & 1 & 0 & 0 & 0 & 0 & 0\\\\0 & 0 & 0 & 0 & 0 & 0 & 0 & 0 & 0 & 0 & 0 & 0 & 0 & 1 & 0 & 0 & 0 & 0 & 0 & 0\\\\0 & 0 & 0 & 0 & 0 & 0 & 0 & 0 & 0 & 0 & 0 & 0 & 0 & 0 & 0 & 0 & 1 & 0 & 0 & 0\\\\0 & 0 & 0 & 0 & 0 & 0 & 0 & 0 & 1 & 0 & 0 & 0 & 0 & 0 & 0 & 0 & 0 & 0 & 0 & 0\\\\0 & 0 & 0 & 0 & 0 & 0 & 0 & 0 & 0 & 0 & 0 & 0 & 0 & 0 & 0 & 1 & 0 & 0 & 0 & 0\\\\0 & 0 & 0 & 0 & 0 & 0 & 1 & 0 & 0 & 0 & 0 & 0 & 0 & 0 & 0 & 0 & 0 & 0 & 0 & 0\\\\0 & 1 & 0 & 0 & 0 & 0 & 0 & 0 & 0 & 0 & 0 & 0 & 0 & 0 & 0 & 0 & 0 & 0 & 0 & g^{OT}_{CS, 06} \\left(b^\\dagger_{OT, 05, 06} + b_{OT, 05, 06}\\right)\\\\0 & 0 & 0 & 0 & 0 & 1 & 0 & 0 & 0 & 0 & 0 & 0 & 0 & 0 & 0 & 0 & 0 & 0 & 0 & 0\\\\0 & 0 & 0 & 0 & 0 & 0 & 0 & 0 & 0 & 0 & 0 & 0 & 0 & 0 & 0 & 0 & 0 & 0 & 1 & 0\\\\0 & 0 & 0 & 0 & 0 & 0 & 0 & 0 & 0 & 0 & 0 & 0 & 0 & 0 & 0 & 0 & 0 & 0 & 0 & 1\\end{array}\\right]$"
      ],
      "text/plain": [
       "Matrix([\n",
       "[0, 0, 0, 0, 0, 0, 0, 1, 0, 0, 0, 0, 0, 0, 0, 0, 0, 0, 0,            ω^{OT}_6*b_{OT, 05, 06}*b^\\dagger_{OT, 05, 06}],\n",
       "[0, 0, 0, 0, 0, 0, 0, 0, 0, 0, 0, 0, 0, 0, 0, 0, 0, 1, 0,                                                         0],\n",
       "[0, 0, 0, 0, 0, 0, 0, 0, 0, 1, 0, 0, 0, 0, 0, 0, 0, 0, 0,                                                         0],\n",
       "[1, 0, 0, 0, 0, 0, 0, 0, 0, 0, 0, 0, 0, 0, 0, 0, 0, 0, 0,                                                         0],\n",
       "[0, 0, 0, 0, 0, 0, 0, 0, 0, 0, 0, 0, 1, 0, 0, 0, 0, 0, 0,                                                         0],\n",
       "[0, 0, 1, 0, 0, 0, 0, 0, 0, 0, 0, 0, 0, 0, 0, 0, 0, 0, 0, g^{OT}_{LE, 06}*(b^\\dagger_{OT, 05, 06} + b_{OT, 05, 06})],\n",
       "[0, 0, 0, 0, 0, 0, 0, 0, 0, 0, 1, 0, 0, 0, 0, 0, 0, 0, 0,                                                         0],\n",
       "[0, 0, 0, 0, 1, 0, 0, 0, 0, 0, 0, 0, 0, 0, 0, 0, 0, 0, 0,                                                         0],\n",
       "[0, 0, 0, 0, 0, 0, 0, 0, 0, 0, 0, 1, 0, 0, 0, 0, 0, 0, 0,                                                         0],\n",
       "[0, 0, 0, 1, 0, 0, 0, 0, 0, 0, 0, 0, 0, 0, 0, 0, 0, 0, 0,                                                         0],\n",
       "[0, 0, 0, 0, 0, 0, 0, 0, 0, 0, 0, 0, 0, 0, 1, 0, 0, 0, 0,                                                         0],\n",
       "[0, 0, 0, 0, 0, 0, 0, 0, 0, 0, 0, 0, 0, 1, 0, 0, 0, 0, 0,                                                         0],\n",
       "[0, 0, 0, 0, 0, 0, 0, 0, 0, 0, 0, 0, 0, 0, 0, 0, 1, 0, 0,                                                         0],\n",
       "[0, 0, 0, 0, 0, 0, 0, 0, 1, 0, 0, 0, 0, 0, 0, 0, 0, 0, 0,                                                         0],\n",
       "[0, 0, 0, 0, 0, 0, 0, 0, 0, 0, 0, 0, 0, 0, 0, 1, 0, 0, 0,                                                         0],\n",
       "[0, 0, 0, 0, 0, 0, 1, 0, 0, 0, 0, 0, 0, 0, 0, 0, 0, 0, 0,                                                         0],\n",
       "[0, 1, 0, 0, 0, 0, 0, 0, 0, 0, 0, 0, 0, 0, 0, 0, 0, 0, 0, g^{OT}_{CS, 06}*(b^\\dagger_{OT, 05, 06} + b_{OT, 05, 06})],\n",
       "[0, 0, 0, 0, 0, 1, 0, 0, 0, 0, 0, 0, 0, 0, 0, 0, 0, 0, 0,                                                         0],\n",
       "[0, 0, 0, 0, 0, 0, 0, 0, 0, 0, 0, 0, 0, 0, 0, 0, 0, 0, 1,                                                         0],\n",
       "[0, 0, 0, 0, 0, 0, 0, 0, 0, 0, 0, 0, 0, 0, 0, 0, 0, 0, 0,                                                         1]])"
      ]
     },
     "metadata": {},
     "output_type": "display_data"
    },
    {
     "data": {
      "text/latex": [
       "$\\displaystyle \\left[\\begin{array}{ccccccccccccccccccc}0 & 0 & 1 & 0 & 0 & 0 & 0 & 0 & 0 & 0 & 0 & 0 & 0 & 0 & 0 & 0 & 0 & 0 & 0\\\\0 & 0 & 0 & 0 & 0 & 0 & 0 & 0 & 0 & 0 & 0 & 0 & 0 & 0 & 0 & 0 & 0 & g^{OT}_{CS, 07} \\left(b^\\dagger_{OT, 05, 07} + b_{OT, 05, 07}\\right) + ε^{{CS}}_{05} & g^{OT}_{CS, 08}\\\\0 & 0 & 0 & 0 & 0 & 0 & 0 & 0 & 0 & 0 & 0 & 0 & 0 & 0 & 0 & 0 & 0 & g^{OT}_{LE, 07} \\left(b^\\dagger_{OT, 05, 07} + b_{OT, 05, 07}\\right) & g^{OT}_{LE, 08}\\\\0 & 0 & 0 & 0 & 0 & 0 & 1 & 0 & 0 & 0 & 0 & 0 & 0 & 0 & 0 & 0 & 0 & 0 & 0\\\\0 & 0 & 0 & 0 & 0 & 0 & 0 & 0 & 0 & 0 & 0 & 0 & 0 & 0 & 0 & 0 & 1 & 0 & 0\\\\1 & 0 & 0 & 0 & 0 & 0 & 0 & 0 & 0 & 0 & 0 & 0 & 0 & 0 & 0 & 0 & 0 & 0 & 0\\\\0 & 0 & 0 & 0 & 0 & 0 & 0 & 0 & 1 & 0 & 0 & 0 & 0 & 0 & 0 & 0 & 0 & 0 & 0\\\\0 & 0 & 0 & 0 & 0 & 0 & 0 & 0 & 0 & 0 & 0 & 1 & 0 & 0 & 0 & 0 & 0 & ω^{OT}_7 b_{OT, 05, 07} b^\\dagger_{OT, 05, 07} & 0\\\\0 & 0 & 0 & 0 & 0 & 1 & 0 & 0 & 0 & 0 & 0 & 0 & 0 & 0 & 0 & 0 & 0 & 0 & 0\\\\0 & 0 & 0 & 0 & 0 & 0 & 0 & 0 & 0 & 0 & 0 & 0 & 0 & 0 & 0 & 1 & 0 & 0 & 0\\\\0 & 0 & 0 & 0 & 0 & 0 & 0 & 0 & 0 & 0 & 0 & 0 & 0 & 0 & 1 & 0 & 0 & 0 & 0\\\\0 & 0 & 0 & 1 & 0 & 0 & 0 & 0 & 0 & 0 & 0 & 0 & 0 & 0 & 0 & 0 & 0 & 0 & 0\\\\0 & 0 & 0 & 0 & 0 & 0 & 0 & 0 & 0 & 0 & 0 & 0 & 0 & 1 & 0 & 0 & 0 & 0 & 0\\\\0 & 0 & 0 & 0 & 1 & 0 & 0 & 0 & 0 & 0 & 0 & 0 & 0 & 0 & 0 & 0 & 0 & 0 & 0\\\\0 & 0 & 0 & 0 & 0 & 0 & 0 & 0 & 0 & 0 & 0 & 0 & 1 & 0 & 0 & 0 & 0 & 0 & 0\\\\0 & 0 & 0 & 0 & 0 & 0 & 0 & 1 & 0 & 0 & 0 & 0 & 0 & 0 & 0 & 0 & 0 & 0 & 0\\\\0 & 0 & 0 & 0 & 0 & 0 & 0 & 0 & 0 & 1 & 0 & 0 & 0 & 0 & 0 & 0 & 0 & 0 & 0\\\\0 & 1 & 0 & 0 & 0 & 0 & 0 & 0 & 0 & 0 & 0 & 0 & 0 & 0 & 0 & 0 & 0 & 0 & 0\\\\0 & 0 & 0 & 0 & 0 & 0 & 0 & 0 & 0 & 0 & 1 & 0 & 0 & 0 & 0 & 0 & 0 & 0 & 0\\\\0 & 0 & 0 & 0 & 0 & 0 & 0 & 0 & 0 & 0 & 0 & 0 & 0 & 0 & 0 & 0 & 0 & 1 & 0\\end{array}\\right]$"
      ],
      "text/plain": [
       "Matrix([\n",
       "[0, 0, 1, 0, 0, 0, 0, 0, 0, 0, 0, 0, 0, 0, 0, 0, 0,                                                                         0,               0],\n",
       "[0, 0, 0, 0, 0, 0, 0, 0, 0, 0, 0, 0, 0, 0, 0, 0, 0, g^{OT}_{CS, 07}*(b^\\dagger_{OT, 05, 07} + b_{OT, 05, 07}) + ε^{{CS}}_{05}, g^{OT}_{CS, 08}],\n",
       "[0, 0, 0, 0, 0, 0, 0, 0, 0, 0, 0, 0, 0, 0, 0, 0, 0,                 g^{OT}_{LE, 07}*(b^\\dagger_{OT, 05, 07} + b_{OT, 05, 07}), g^{OT}_{LE, 08}],\n",
       "[0, 0, 0, 0, 0, 0, 1, 0, 0, 0, 0, 0, 0, 0, 0, 0, 0,                                                                         0,               0],\n",
       "[0, 0, 0, 0, 0, 0, 0, 0, 0, 0, 0, 0, 0, 0, 0, 0, 1,                                                                         0,               0],\n",
       "[1, 0, 0, 0, 0, 0, 0, 0, 0, 0, 0, 0, 0, 0, 0, 0, 0,                                                                         0,               0],\n",
       "[0, 0, 0, 0, 0, 0, 0, 0, 1, 0, 0, 0, 0, 0, 0, 0, 0,                                                                         0,               0],\n",
       "[0, 0, 0, 0, 0, 0, 0, 0, 0, 0, 0, 1, 0, 0, 0, 0, 0,                            ω^{OT}_7*b_{OT, 05, 07}*b^\\dagger_{OT, 05, 07},               0],\n",
       "[0, 0, 0, 0, 0, 1, 0, 0, 0, 0, 0, 0, 0, 0, 0, 0, 0,                                                                         0,               0],\n",
       "[0, 0, 0, 0, 0, 0, 0, 0, 0, 0, 0, 0, 0, 0, 0, 1, 0,                                                                         0,               0],\n",
       "[0, 0, 0, 0, 0, 0, 0, 0, 0, 0, 0, 0, 0, 0, 1, 0, 0,                                                                         0,               0],\n",
       "[0, 0, 0, 1, 0, 0, 0, 0, 0, 0, 0, 0, 0, 0, 0, 0, 0,                                                                         0,               0],\n",
       "[0, 0, 0, 0, 0, 0, 0, 0, 0, 0, 0, 0, 0, 1, 0, 0, 0,                                                                         0,               0],\n",
       "[0, 0, 0, 0, 1, 0, 0, 0, 0, 0, 0, 0, 0, 0, 0, 0, 0,                                                                         0,               0],\n",
       "[0, 0, 0, 0, 0, 0, 0, 0, 0, 0, 0, 0, 1, 0, 0, 0, 0,                                                                         0,               0],\n",
       "[0, 0, 0, 0, 0, 0, 0, 1, 0, 0, 0, 0, 0, 0, 0, 0, 0,                                                                         0,               0],\n",
       "[0, 0, 0, 0, 0, 0, 0, 0, 0, 1, 0, 0, 0, 0, 0, 0, 0,                                                                         0,               0],\n",
       "[0, 1, 0, 0, 0, 0, 0, 0, 0, 0, 0, 0, 0, 0, 0, 0, 0,                                                                         0,               0],\n",
       "[0, 0, 0, 0, 0, 0, 0, 0, 0, 0, 1, 0, 0, 0, 0, 0, 0,                                                                         0,               0],\n",
       "[0, 0, 0, 0, 0, 0, 0, 0, 0, 0, 0, 0, 0, 0, 0, 0, 0,                                                                         1,               0]])"
      ]
     },
     "metadata": {},
     "output_type": "display_data"
    },
    {
     "data": {
      "text/latex": [
       "$\\displaystyle \\left[\\begin{array}{cccccccccccccccccc}0 & 0 & 0 & 0 & 0 & 0 & 0 & 1 & 0 & 0 & 0 & 0 & 0 & 0 & 0 & 0 & 0 & 0\\\\0 & 0 & 0 & 0 & 0 & 0 & 0 & 0 & 0 & 0 & 0 & 0 & 1 & 0 & 0 & 0 & 0 & 0\\\\0 & 1 & 0 & 0 & 0 & 0 & 0 & 0 & 0 & 0 & 0 & 0 & 0 & 0 & 0 & 0 & 0 & 0\\\\0 & 0 & 0 & 1 & 0 & 0 & 0 & 0 & 0 & 0 & 0 & 0 & 0 & 0 & 0 & 0 & 0 & 0\\\\0 & 0 & 0 & 0 & 1 & 0 & 0 & 0 & 0 & 0 & 0 & 0 & 0 & 0 & 0 & 0 & 0 & 0\\\\0 & 0 & 0 & 0 & 0 & 0 & 0 & 0 & 0 & 0 & 1 & 0 & 0 & 0 & 0 & 0 & 0 & 0\\\\0 & 0 & 0 & 0 & 0 & 0 & 0 & 0 & 0 & 0 & 0 & 0 & 0 & 1 & 0 & 0 & 0 & 0\\\\0 & 0 & 0 & 0 & 0 & 0 & 0 & 0 & 0 & 0 & 0 & 1 & 0 & 0 & 0 & 0 & 0 & 0\\\\0 & 0 & 0 & 0 & 0 & 0 & 0 & 0 & 0 & 1 & 0 & 0 & 0 & 0 & 0 & 0 & 0 & 0\\\\0 & 0 & 1 & 0 & 0 & 0 & 0 & 0 & 0 & 0 & 0 & 0 & 0 & 0 & 0 & 0 & 0 & 0\\\\1 & 0 & 0 & 0 & 0 & 0 & 0 & 0 & 0 & 0 & 0 & 0 & 0 & 0 & 0 & 0 & 0 & 0\\\\0 & 0 & 0 & 0 & 0 & 0 & 0 & 0 & 0 & 0 & 0 & 0 & 0 & 0 & 0 & 0 & 1 & ω^{OT}_8 b_{OT, 05, 08} b^\\dagger_{OT, 05, 08}\\\\0 & 0 & 0 & 0 & 0 & 0 & 0 & 0 & 0 & 0 & 0 & 0 & 0 & 0 & 1 & 0 & 0 & 0\\\\0 & 0 & 0 & 0 & 0 & 0 & 0 & 0 & 0 & 0 & 0 & 0 & 0 & 0 & 0 & 1 & 0 & 0\\\\0 & 0 & 0 & 0 & 0 & 1 & 0 & 0 & 0 & 0 & 0 & 0 & 0 & 0 & 0 & 0 & 0 & 0\\\\0 & 0 & 0 & 0 & 0 & 0 & 1 & 0 & 0 & 0 & 0 & 0 & 0 & 0 & 0 & 0 & 0 & 0\\\\0 & 0 & 0 & 0 & 0 & 0 & 0 & 0 & 1 & 0 & 0 & 0 & 0 & 0 & 0 & 0 & 0 & 0\\\\0 & 0 & 0 & 0 & 0 & 0 & 0 & 0 & 0 & 0 & 0 & 0 & 0 & 0 & 0 & 0 & 0 & 1\\\\0 & 0 & 0 & 0 & 0 & 0 & 0 & 0 & 0 & 0 & 0 & 0 & 0 & 0 & 0 & 0 & 0 & b^\\dagger_{OT, 05, 08} + b_{OT, 05, 08}\\end{array}\\right]$"
      ],
      "text/plain": [
       "Matrix([\n",
       "[0, 0, 0, 0, 0, 0, 0, 1, 0, 0, 0, 0, 0, 0, 0, 0, 0,                                              0],\n",
       "[0, 0, 0, 0, 0, 0, 0, 0, 0, 0, 0, 0, 1, 0, 0, 0, 0,                                              0],\n",
       "[0, 1, 0, 0, 0, 0, 0, 0, 0, 0, 0, 0, 0, 0, 0, 0, 0,                                              0],\n",
       "[0, 0, 0, 1, 0, 0, 0, 0, 0, 0, 0, 0, 0, 0, 0, 0, 0,                                              0],\n",
       "[0, 0, 0, 0, 1, 0, 0, 0, 0, 0, 0, 0, 0, 0, 0, 0, 0,                                              0],\n",
       "[0, 0, 0, 0, 0, 0, 0, 0, 0, 0, 1, 0, 0, 0, 0, 0, 0,                                              0],\n",
       "[0, 0, 0, 0, 0, 0, 0, 0, 0, 0, 0, 0, 0, 1, 0, 0, 0,                                              0],\n",
       "[0, 0, 0, 0, 0, 0, 0, 0, 0, 0, 0, 1, 0, 0, 0, 0, 0,                                              0],\n",
       "[0, 0, 0, 0, 0, 0, 0, 0, 0, 1, 0, 0, 0, 0, 0, 0, 0,                                              0],\n",
       "[0, 0, 1, 0, 0, 0, 0, 0, 0, 0, 0, 0, 0, 0, 0, 0, 0,                                              0],\n",
       "[1, 0, 0, 0, 0, 0, 0, 0, 0, 0, 0, 0, 0, 0, 0, 0, 0,                                              0],\n",
       "[0, 0, 0, 0, 0, 0, 0, 0, 0, 0, 0, 0, 0, 0, 0, 0, 1, ω^{OT}_8*b_{OT, 05, 08}*b^\\dagger_{OT, 05, 08}],\n",
       "[0, 0, 0, 0, 0, 0, 0, 0, 0, 0, 0, 0, 0, 0, 1, 0, 0,                                              0],\n",
       "[0, 0, 0, 0, 0, 0, 0, 0, 0, 0, 0, 0, 0, 0, 0, 1, 0,                                              0],\n",
       "[0, 0, 0, 0, 0, 1, 0, 0, 0, 0, 0, 0, 0, 0, 0, 0, 0,                                              0],\n",
       "[0, 0, 0, 0, 0, 0, 1, 0, 0, 0, 0, 0, 0, 0, 0, 0, 0,                                              0],\n",
       "[0, 0, 0, 0, 0, 0, 0, 0, 1, 0, 0, 0, 0, 0, 0, 0, 0,                                              0],\n",
       "[0, 0, 0, 0, 0, 0, 0, 0, 0, 0, 0, 0, 0, 0, 0, 0, 0,                                              1],\n",
       "[0, 0, 0, 0, 0, 0, 0, 0, 0, 0, 0, 0, 0, 0, 0, 0, 0,        b^\\dagger_{OT, 05, 08} + b_{OT, 05, 08}]])"
      ]
     },
     "metadata": {},
     "output_type": "display_data"
    },
    {
     "data": {
      "text/latex": [
       "$\\displaystyle \\left[\\begin{array}{cccccccccccccccccc}0 & 0 & 0 & 0 & 0 & 0 & 0 & 0 & 0 & 0 & 1 & 0 & 0 & 0 & 0 & 0 & 0 & 0\\\\0 & 0 & 0 & 0 & 0 & 0 & 0 & 0 & 0 & 0 & 0 & 1 & 0 & 0 & 0 & 0 & 0 & 0\\\\0 & 0 & 0 & 0 & 0 & 0 & 0 & 0 & 0 & 0 & 0 & 0 & 1 & 0 & 0 & 0 & 0 & g^{OT}_{LE, 01} \\left(b^\\dagger_{OT, 06, 01} + b_{OT, 06, 01}\\right)\\\\0 & 0 & 0 & 0 & 0 & 0 & 0 & 0 & 0 & 0 & 0 & 0 & 0 & 0 & 0 & 1 & 0 & 0\\\\0 & 0 & 0 & 1 & 0 & 0 & 0 & 0 & 0 & 0 & 0 & 0 & 0 & 0 & 0 & 0 & 0 & 0\\\\0 & 1 & 0 & 0 & 0 & 0 & 0 & 0 & 0 & 0 & 0 & 0 & 0 & 0 & 0 & 0 & 0 & g^{OT}_{CS, 01} \\left(b^\\dagger_{OT, 06, 01} + b_{OT, 06, 01}\\right)\\\\0 & 0 & 0 & 0 & 0 & 0 & 0 & 0 & 0 & 0 & 0 & 0 & 0 & 0 & 0 & 0 & 1 & 0\\\\0 & 0 & 0 & 0 & 0 & 0 & 0 & 0 & 0 & 0 & 0 & 0 & 0 & 1 & 0 & 0 & 0 & 0\\\\0 & 0 & 0 & 0 & 0 & 0 & 0 & 0 & 0 & 0 & 0 & 0 & 0 & 0 & 1 & 0 & 0 & 0\\\\0 & 0 & 0 & 0 & 0 & 1 & 0 & 0 & 0 & 0 & 0 & 0 & 0 & 0 & 0 & 0 & 0 & 0\\\\0 & 0 & 0 & 0 & 0 & 0 & 0 & 1 & 0 & 0 & 0 & 0 & 0 & 0 & 0 & 0 & 0 & 0\\\\0 & 0 & 0 & 0 & 0 & 0 & 1 & 0 & 0 & 0 & 0 & 0 & 0 & 0 & 0 & 0 & 0 & 0\\\\0 & 0 & 1 & 0 & 0 & 0 & 0 & 0 & 0 & 0 & 0 & 0 & 0 & 0 & 0 & 0 & 0 & 0\\\\1 & 0 & 0 & 0 & 0 & 0 & 0 & 0 & 0 & 0 & 0 & 0 & 0 & 0 & 0 & 0 & 0 & 0\\\\0 & 0 & 0 & 0 & 0 & 0 & 0 & 0 & 1 & 0 & 0 & 0 & 0 & 0 & 0 & 0 & 0 & 0\\\\0 & 0 & 0 & 0 & 1 & 0 & 0 & 0 & 0 & 0 & 0 & 0 & 0 & 0 & 0 & 0 & 0 & 0\\\\0 & 0 & 0 & 0 & 0 & 0 & 0 & 0 & 0 & 1 & 0 & 0 & 0 & 0 & 0 & 0 & 0 & ω^{OT}_1 b_{OT, 06, 01} b^\\dagger_{OT, 06, 01}\\\\0 & 0 & 0 & 0 & 0 & 0 & 0 & 0 & 0 & 0 & 0 & 0 & 0 & 0 & 0 & 0 & 0 & 1\\end{array}\\right]$"
      ],
      "text/plain": [
       "Matrix([\n",
       "[0, 0, 0, 0, 0, 0, 0, 0, 0, 0, 1, 0, 0, 0, 0, 0, 0,                                                         0],\n",
       "[0, 0, 0, 0, 0, 0, 0, 0, 0, 0, 0, 1, 0, 0, 0, 0, 0,                                                         0],\n",
       "[0, 0, 0, 0, 0, 0, 0, 0, 0, 0, 0, 0, 1, 0, 0, 0, 0, g^{OT}_{LE, 01}*(b^\\dagger_{OT, 06, 01} + b_{OT, 06, 01})],\n",
       "[0, 0, 0, 0, 0, 0, 0, 0, 0, 0, 0, 0, 0, 0, 0, 1, 0,                                                         0],\n",
       "[0, 0, 0, 1, 0, 0, 0, 0, 0, 0, 0, 0, 0, 0, 0, 0, 0,                                                         0],\n",
       "[0, 1, 0, 0, 0, 0, 0, 0, 0, 0, 0, 0, 0, 0, 0, 0, 0, g^{OT}_{CS, 01}*(b^\\dagger_{OT, 06, 01} + b_{OT, 06, 01})],\n",
       "[0, 0, 0, 0, 0, 0, 0, 0, 0, 0, 0, 0, 0, 0, 0, 0, 1,                                                         0],\n",
       "[0, 0, 0, 0, 0, 0, 0, 0, 0, 0, 0, 0, 0, 1, 0, 0, 0,                                                         0],\n",
       "[0, 0, 0, 0, 0, 0, 0, 0, 0, 0, 0, 0, 0, 0, 1, 0, 0,                                                         0],\n",
       "[0, 0, 0, 0, 0, 1, 0, 0, 0, 0, 0, 0, 0, 0, 0, 0, 0,                                                         0],\n",
       "[0, 0, 0, 0, 0, 0, 0, 1, 0, 0, 0, 0, 0, 0, 0, 0, 0,                                                         0],\n",
       "[0, 0, 0, 0, 0, 0, 1, 0, 0, 0, 0, 0, 0, 0, 0, 0, 0,                                                         0],\n",
       "[0, 0, 1, 0, 0, 0, 0, 0, 0, 0, 0, 0, 0, 0, 0, 0, 0,                                                         0],\n",
       "[1, 0, 0, 0, 0, 0, 0, 0, 0, 0, 0, 0, 0, 0, 0, 0, 0,                                                         0],\n",
       "[0, 0, 0, 0, 0, 0, 0, 0, 1, 0, 0, 0, 0, 0, 0, 0, 0,                                                         0],\n",
       "[0, 0, 0, 0, 1, 0, 0, 0, 0, 0, 0, 0, 0, 0, 0, 0, 0,                                                         0],\n",
       "[0, 0, 0, 0, 0, 0, 0, 0, 0, 1, 0, 0, 0, 0, 0, 0, 0,            ω^{OT}_1*b_{OT, 06, 01}*b^\\dagger_{OT, 06, 01}],\n",
       "[0, 0, 0, 0, 0, 0, 0, 0, 0, 0, 0, 0, 0, 0, 0, 0, 0,                                                         1]])"
      ]
     },
     "metadata": {},
     "output_type": "display_data"
    },
    {
     "data": {
      "text/latex": [
       "$\\displaystyle \\left[\\begin{array}{cccccccccccccccccc}0 & 0 & 0 & 0 & 0 & 0 & 0 & 0 & 0 & 1 & 0 & 0 & 0 & 0 & 0 & 0 & 0 & 0\\\\0 & 0 & 0 & 0 & 0 & 0 & 0 & 0 & 0 & 0 & 0 & 1 & 0 & 0 & 0 & 0 & 0 & g^{OT}_{CS, 02} \\left(b^\\dagger_{OT, 06, 02} + b_{OT, 06, 02}\\right)\\\\0 & 0 & 0 & 0 & 0 & 0 & 0 & 1 & 0 & 0 & 0 & 0 & 0 & 0 & 0 & 0 & 0 & 0\\\\0 & 0 & 0 & 0 & 1 & 0 & 0 & 0 & 0 & 0 & 0 & 0 & 0 & 0 & 0 & 0 & 0 & 0\\\\0 & 0 & 0 & 0 & 0 & 0 & 0 & 0 & 0 & 0 & 0 & 0 & 0 & 0 & 0 & 1 & 0 & 0\\\\1 & 0 & 0 & 0 & 0 & 0 & 0 & 0 & 0 & 0 & 0 & 0 & 0 & 0 & 0 & 0 & 0 & 0\\\\0 & 0 & 0 & 0 & 0 & 0 & 0 & 0 & 0 & 0 & 1 & 0 & 0 & 0 & 0 & 0 & 0 & 0\\\\0 & 0 & 0 & 0 & 0 & 1 & 0 & 0 & 0 & 0 & 0 & 0 & 0 & 0 & 0 & 0 & 0 & 0\\\\0 & 0 & 0 & 0 & 0 & 0 & 0 & 0 & 1 & 0 & 0 & 0 & 0 & 0 & 0 & 0 & 0 & 0\\\\0 & 0 & 0 & 0 & 0 & 0 & 0 & 0 & 0 & 0 & 0 & 0 & 0 & 0 & 0 & 0 & 1 & ω^{OT}_2 b_{OT, 06, 02} b^\\dagger_{OT, 06, 02}\\\\0 & 0 & 0 & 0 & 0 & 0 & 1 & 0 & 0 & 0 & 0 & 0 & 0 & 0 & 0 & 0 & 0 & 0\\\\0 & 0 & 0 & 0 & 0 & 0 & 0 & 0 & 0 & 0 & 0 & 0 & 0 & 1 & 0 & 0 & 0 & 0\\\\0 & 0 & 1 & 0 & 0 & 0 & 0 & 0 & 0 & 0 & 0 & 0 & 0 & 0 & 0 & 0 & 0 & g^{OT}_{LE, 02} \\left(b^\\dagger_{OT, 06, 02} + b_{OT, 06, 02}\\right)\\\\0 & 1 & 0 & 0 & 0 & 0 & 0 & 0 & 0 & 0 & 0 & 0 & 0 & 0 & 0 & 0 & 0 & 0\\\\0 & 0 & 0 & 0 & 0 & 0 & 0 & 0 & 0 & 0 & 0 & 0 & 1 & 0 & 0 & 0 & 0 & 0\\\\0 & 0 & 0 & 0 & 0 & 0 & 0 & 0 & 0 & 0 & 0 & 0 & 0 & 0 & 1 & 0 & 0 & 0\\\\0 & 0 & 0 & 1 & 0 & 0 & 0 & 0 & 0 & 0 & 0 & 0 & 0 & 0 & 0 & 0 & 0 & 0\\\\0 & 0 & 0 & 0 & 0 & 0 & 0 & 0 & 0 & 0 & 0 & 0 & 0 & 0 & 0 & 0 & 0 & 1\\end{array}\\right]$"
      ],
      "text/plain": [
       "Matrix([\n",
       "[0, 0, 0, 0, 0, 0, 0, 0, 0, 1, 0, 0, 0, 0, 0, 0, 0,                                                         0],\n",
       "[0, 0, 0, 0, 0, 0, 0, 0, 0, 0, 0, 1, 0, 0, 0, 0, 0, g^{OT}_{CS, 02}*(b^\\dagger_{OT, 06, 02} + b_{OT, 06, 02})],\n",
       "[0, 0, 0, 0, 0, 0, 0, 1, 0, 0, 0, 0, 0, 0, 0, 0, 0,                                                         0],\n",
       "[0, 0, 0, 0, 1, 0, 0, 0, 0, 0, 0, 0, 0, 0, 0, 0, 0,                                                         0],\n",
       "[0, 0, 0, 0, 0, 0, 0, 0, 0, 0, 0, 0, 0, 0, 0, 1, 0,                                                         0],\n",
       "[1, 0, 0, 0, 0, 0, 0, 0, 0, 0, 0, 0, 0, 0, 0, 0, 0,                                                         0],\n",
       "[0, 0, 0, 0, 0, 0, 0, 0, 0, 0, 1, 0, 0, 0, 0, 0, 0,                                                         0],\n",
       "[0, 0, 0, 0, 0, 1, 0, 0, 0, 0, 0, 0, 0, 0, 0, 0, 0,                                                         0],\n",
       "[0, 0, 0, 0, 0, 0, 0, 0, 1, 0, 0, 0, 0, 0, 0, 0, 0,                                                         0],\n",
       "[0, 0, 0, 0, 0, 0, 0, 0, 0, 0, 0, 0, 0, 0, 0, 0, 1,            ω^{OT}_2*b_{OT, 06, 02}*b^\\dagger_{OT, 06, 02}],\n",
       "[0, 0, 0, 0, 0, 0, 1, 0, 0, 0, 0, 0, 0, 0, 0, 0, 0,                                                         0],\n",
       "[0, 0, 0, 0, 0, 0, 0, 0, 0, 0, 0, 0, 0, 1, 0, 0, 0,                                                         0],\n",
       "[0, 0, 1, 0, 0, 0, 0, 0, 0, 0, 0, 0, 0, 0, 0, 0, 0, g^{OT}_{LE, 02}*(b^\\dagger_{OT, 06, 02} + b_{OT, 06, 02})],\n",
       "[0, 1, 0, 0, 0, 0, 0, 0, 0, 0, 0, 0, 0, 0, 0, 0, 0,                                                         0],\n",
       "[0, 0, 0, 0, 0, 0, 0, 0, 0, 0, 0, 0, 1, 0, 0, 0, 0,                                                         0],\n",
       "[0, 0, 0, 0, 0, 0, 0, 0, 0, 0, 0, 0, 0, 0, 1, 0, 0,                                                         0],\n",
       "[0, 0, 0, 1, 0, 0, 0, 0, 0, 0, 0, 0, 0, 0, 0, 0, 0,                                                         0],\n",
       "[0, 0, 0, 0, 0, 0, 0, 0, 0, 0, 0, 0, 0, 0, 0, 0, 0,                                                         1]])"
      ]
     },
     "metadata": {},
     "output_type": "display_data"
    },
    {
     "data": {
      "text/latex": [
       "$\\displaystyle \\left[\\begin{array}{cccccccccccccccccc}0 & 0 & 0 & 0 & 0 & 0 & 0 & 0 & 0 & 0 & 0 & 0 & 0 & 0 & 0 & 1 & 0 & 0\\\\0 & 0 & 0 & 0 & 0 & 0 & 0 & 0 & 0 & 0 & 0 & 1 & 0 & 0 & 0 & 0 & 0 & 0\\\\0 & 0 & 0 & 0 & 0 & 0 & 0 & 0 & 0 & 0 & 0 & 0 & 0 & 0 & 1 & 0 & 0 & g^{OT}_{LE, 03} \\left(b^\\dagger_{OT, 06, 03} + b_{OT, 06, 03}\\right)\\\\0 & 0 & 0 & 0 & 0 & 0 & 0 & 0 & 0 & 0 & 0 & 0 & 0 & 0 & 0 & 0 & 1 & 0\\\\0 & 0 & 0 & 0 & 0 & 0 & 0 & 1 & 0 & 0 & 0 & 0 & 0 & 0 & 0 & 0 & 0 & 0\\\\0 & 0 & 0 & 0 & 0 & 1 & 0 & 0 & 0 & 0 & 0 & 0 & 0 & 0 & 0 & 0 & 0 & 0\\\\1 & 0 & 0 & 0 & 0 & 0 & 0 & 0 & 0 & 0 & 0 & 0 & 0 & 0 & 0 & 0 & 0 & 0\\\\0 & 0 & 0 & 0 & 0 & 0 & 0 & 0 & 0 & 0 & 0 & 0 & 0 & 1 & 0 & 0 & 0 & 0\\\\0 & 0 & 0 & 1 & 0 & 0 & 0 & 0 & 0 & 0 & 0 & 0 & 0 & 0 & 0 & 0 & 0 & 0\\\\0 & 0 & 0 & 0 & 1 & 0 & 0 & 0 & 0 & 0 & 0 & 0 & 0 & 0 & 0 & 0 & 0 & 0\\\\0 & 0 & 0 & 0 & 0 & 0 & 0 & 0 & 0 & 0 & 0 & 0 & 1 & 0 & 0 & 0 & 0 & 0\\\\0 & 0 & 0 & 0 & 0 & 0 & 1 & 0 & 0 & 0 & 0 & 0 & 0 & 0 & 0 & 0 & 0 & g^{OT}_{CS, 03} \\left(b^\\dagger_{OT, 06, 03} + b_{OT, 06, 03}\\right)\\\\0 & 0 & 0 & 0 & 0 & 0 & 0 & 0 & 0 & 1 & 0 & 0 & 0 & 0 & 0 & 0 & 0 & 0\\\\0 & 0 & 0 & 0 & 0 & 0 & 0 & 0 & 0 & 0 & 1 & 0 & 0 & 0 & 0 & 0 & 0 & 0\\\\0 & 0 & 1 & 0 & 0 & 0 & 0 & 0 & 0 & 0 & 0 & 0 & 0 & 0 & 0 & 0 & 0 & 0\\\\0 & 1 & 0 & 0 & 0 & 0 & 0 & 0 & 0 & 0 & 0 & 0 & 0 & 0 & 0 & 0 & 0 & 0\\\\0 & 0 & 0 & 0 & 0 & 0 & 0 & 0 & 1 & 0 & 0 & 0 & 0 & 0 & 0 & 0 & 0 & ω^{OT}_3 b_{OT, 06, 03} b^\\dagger_{OT, 06, 03}\\\\0 & 0 & 0 & 0 & 0 & 0 & 0 & 0 & 0 & 0 & 0 & 0 & 0 & 0 & 0 & 0 & 0 & 1\\end{array}\\right]$"
      ],
      "text/plain": [
       "Matrix([\n",
       "[0, 0, 0, 0, 0, 0, 0, 0, 0, 0, 0, 0, 0, 0, 0, 1, 0,                                                         0],\n",
       "[0, 0, 0, 0, 0, 0, 0, 0, 0, 0, 0, 1, 0, 0, 0, 0, 0,                                                         0],\n",
       "[0, 0, 0, 0, 0, 0, 0, 0, 0, 0, 0, 0, 0, 0, 1, 0, 0, g^{OT}_{LE, 03}*(b^\\dagger_{OT, 06, 03} + b_{OT, 06, 03})],\n",
       "[0, 0, 0, 0, 0, 0, 0, 0, 0, 0, 0, 0, 0, 0, 0, 0, 1,                                                         0],\n",
       "[0, 0, 0, 0, 0, 0, 0, 1, 0, 0, 0, 0, 0, 0, 0, 0, 0,                                                         0],\n",
       "[0, 0, 0, 0, 0, 1, 0, 0, 0, 0, 0, 0, 0, 0, 0, 0, 0,                                                         0],\n",
       "[1, 0, 0, 0, 0, 0, 0, 0, 0, 0, 0, 0, 0, 0, 0, 0, 0,                                                         0],\n",
       "[0, 0, 0, 0, 0, 0, 0, 0, 0, 0, 0, 0, 0, 1, 0, 0, 0,                                                         0],\n",
       "[0, 0, 0, 1, 0, 0, 0, 0, 0, 0, 0, 0, 0, 0, 0, 0, 0,                                                         0],\n",
       "[0, 0, 0, 0, 1, 0, 0, 0, 0, 0, 0, 0, 0, 0, 0, 0, 0,                                                         0],\n",
       "[0, 0, 0, 0, 0, 0, 0, 0, 0, 0, 0, 0, 1, 0, 0, 0, 0,                                                         0],\n",
       "[0, 0, 0, 0, 0, 0, 1, 0, 0, 0, 0, 0, 0, 0, 0, 0, 0, g^{OT}_{CS, 03}*(b^\\dagger_{OT, 06, 03} + b_{OT, 06, 03})],\n",
       "[0, 0, 0, 0, 0, 0, 0, 0, 0, 1, 0, 0, 0, 0, 0, 0, 0,                                                         0],\n",
       "[0, 0, 0, 0, 0, 0, 0, 0, 0, 0, 1, 0, 0, 0, 0, 0, 0,                                                         0],\n",
       "[0, 0, 1, 0, 0, 0, 0, 0, 0, 0, 0, 0, 0, 0, 0, 0, 0,                                                         0],\n",
       "[0, 1, 0, 0, 0, 0, 0, 0, 0, 0, 0, 0, 0, 0, 0, 0, 0,                                                         0],\n",
       "[0, 0, 0, 0, 0, 0, 0, 0, 1, 0, 0, 0, 0, 0, 0, 0, 0,            ω^{OT}_3*b_{OT, 06, 03}*b^\\dagger_{OT, 06, 03}],\n",
       "[0, 0, 0, 0, 0, 0, 0, 0, 0, 0, 0, 0, 0, 0, 0, 0, 0,                                                         1]])"
      ]
     },
     "metadata": {},
     "output_type": "display_data"
    },
    {
     "data": {
      "text/latex": [
       "$\\displaystyle \\left[\\begin{array}{cccccccccccccccccc}0 & 0 & 0 & 0 & 0 & 0 & 0 & 0 & 0 & 0 & 0 & 0 & 1 & 0 & 0 & 0 & 0 & 0\\\\0 & 0 & 1 & 0 & 0 & 0 & 0 & 0 & 0 & 0 & 0 & 0 & 0 & 0 & 0 & 0 & 0 & 0\\\\0 & 0 & 0 & 0 & 0 & 0 & 1 & 0 & 0 & 0 & 0 & 0 & 0 & 0 & 0 & 0 & 0 & 0\\\\0 & 0 & 0 & 0 & 0 & 1 & 0 & 0 & 0 & 0 & 0 & 0 & 0 & 0 & 0 & 0 & 0 & 0\\\\0 & 0 & 0 & 0 & 0 & 0 & 0 & 0 & 0 & 0 & 0 & 1 & 0 & 0 & 0 & 0 & 0 & 0\\\\0 & 0 & 0 & 0 & 1 & 0 & 0 & 0 & 0 & 0 & 0 & 0 & 0 & 0 & 0 & 0 & 0 & 0\\\\0 & 0 & 0 & 0 & 0 & 0 & 0 & 0 & 0 & 0 & 0 & 0 & 0 & 0 & 0 & 0 & 1 & g^{OT}_{CS, 04} \\left(b^\\dagger_{OT, 06, 04} + b_{OT, 06, 04}\\right)\\\\0 & 0 & 0 & 0 & 0 & 0 & 0 & 0 & 1 & 0 & 0 & 0 & 0 & 0 & 0 & 0 & 0 & 0\\\\0 & 0 & 0 & 0 & 0 & 0 & 0 & 0 & 0 & 0 & 0 & 0 & 0 & 0 & 1 & 0 & 0 & ω^{OT}_4 b_{OT, 06, 04} b^\\dagger_{OT, 06, 04}\\\\0 & 0 & 0 & 0 & 0 & 0 & 0 & 0 & 0 & 1 & 0 & 0 & 0 & 0 & 0 & 0 & 0 & 0\\\\1 & 0 & 0 & 0 & 0 & 0 & 0 & 0 & 0 & 0 & 0 & 0 & 0 & 0 & 0 & 0 & 0 & 0\\\\0 & 0 & 0 & 0 & 0 & 0 & 0 & 0 & 0 & 0 & 0 & 0 & 0 & 1 & 0 & 0 & 0 & 0\\\\0 & 1 & 0 & 0 & 0 & 0 & 0 & 0 & 0 & 0 & 0 & 0 & 0 & 0 & 0 & 0 & 0 & 0\\\\0 & 0 & 0 & 0 & 0 & 0 & 0 & 1 & 0 & 0 & 0 & 0 & 0 & 0 & 0 & 0 & 0 & 0\\\\0 & 0 & 0 & 1 & 0 & 0 & 0 & 0 & 0 & 0 & 0 & 0 & 0 & 0 & 0 & 0 & 0 & g^{OT}_{LE, 04} \\left(b^\\dagger_{OT, 06, 04} + b_{OT, 06, 04}\\right)\\\\0 & 0 & 0 & 0 & 0 & 0 & 0 & 0 & 0 & 0 & 1 & 0 & 0 & 0 & 0 & 0 & 0 & 0\\\\0 & 0 & 0 & 0 & 0 & 0 & 0 & 0 & 0 & 0 & 0 & 0 & 0 & 0 & 0 & 1 & 0 & 0\\\\0 & 0 & 0 & 0 & 0 & 0 & 0 & 0 & 0 & 0 & 0 & 0 & 0 & 0 & 0 & 0 & 0 & 1\\end{array}\\right]$"
      ],
      "text/plain": [
       "Matrix([\n",
       "[0, 0, 0, 0, 0, 0, 0, 0, 0, 0, 0, 0, 1, 0, 0, 0, 0,                                                         0],\n",
       "[0, 0, 1, 0, 0, 0, 0, 0, 0, 0, 0, 0, 0, 0, 0, 0, 0,                                                         0],\n",
       "[0, 0, 0, 0, 0, 0, 1, 0, 0, 0, 0, 0, 0, 0, 0, 0, 0,                                                         0],\n",
       "[0, 0, 0, 0, 0, 1, 0, 0, 0, 0, 0, 0, 0, 0, 0, 0, 0,                                                         0],\n",
       "[0, 0, 0, 0, 0, 0, 0, 0, 0, 0, 0, 1, 0, 0, 0, 0, 0,                                                         0],\n",
       "[0, 0, 0, 0, 1, 0, 0, 0, 0, 0, 0, 0, 0, 0, 0, 0, 0,                                                         0],\n",
       "[0, 0, 0, 0, 0, 0, 0, 0, 0, 0, 0, 0, 0, 0, 0, 0, 1, g^{OT}_{CS, 04}*(b^\\dagger_{OT, 06, 04} + b_{OT, 06, 04})],\n",
       "[0, 0, 0, 0, 0, 0, 0, 0, 1, 0, 0, 0, 0, 0, 0, 0, 0,                                                         0],\n",
       "[0, 0, 0, 0, 0, 0, 0, 0, 0, 0, 0, 0, 0, 0, 1, 0, 0,            ω^{OT}_4*b_{OT, 06, 04}*b^\\dagger_{OT, 06, 04}],\n",
       "[0, 0, 0, 0, 0, 0, 0, 0, 0, 1, 0, 0, 0, 0, 0, 0, 0,                                                         0],\n",
       "[1, 0, 0, 0, 0, 0, 0, 0, 0, 0, 0, 0, 0, 0, 0, 0, 0,                                                         0],\n",
       "[0, 0, 0, 0, 0, 0, 0, 0, 0, 0, 0, 0, 0, 1, 0, 0, 0,                                                         0],\n",
       "[0, 1, 0, 0, 0, 0, 0, 0, 0, 0, 0, 0, 0, 0, 0, 0, 0,                                                         0],\n",
       "[0, 0, 0, 0, 0, 0, 0, 1, 0, 0, 0, 0, 0, 0, 0, 0, 0,                                                         0],\n",
       "[0, 0, 0, 1, 0, 0, 0, 0, 0, 0, 0, 0, 0, 0, 0, 0, 0, g^{OT}_{LE, 04}*(b^\\dagger_{OT, 06, 04} + b_{OT, 06, 04})],\n",
       "[0, 0, 0, 0, 0, 0, 0, 0, 0, 0, 1, 0, 0, 0, 0, 0, 0,                                                         0],\n",
       "[0, 0, 0, 0, 0, 0, 0, 0, 0, 0, 0, 0, 0, 0, 0, 1, 0,                                                         0],\n",
       "[0, 0, 0, 0, 0, 0, 0, 0, 0, 0, 0, 0, 0, 0, 0, 0, 0,                                                         1]])"
      ]
     },
     "metadata": {},
     "output_type": "display_data"
    },
    {
     "data": {
      "text/latex": [
       "$\\displaystyle \\left[\\begin{array}{cccccccccccccccccc}0 & 0 & 0 & 0 & 1 & 0 & 0 & 0 & 0 & 0 & 0 & 0 & 0 & 0 & 0 & 0 & 0 & 0\\\\0 & 0 & 0 & 0 & 0 & 0 & 0 & 0 & 0 & 0 & 0 & 0 & 1 & 0 & 0 & 0 & 0 & 0\\\\0 & 0 & 0 & 0 & 0 & 0 & 0 & 1 & 0 & 0 & 0 & 0 & 0 & 0 & 0 & 0 & 0 & 0\\\\0 & 0 & 0 & 0 & 0 & 0 & 0 & 0 & 0 & 0 & 0 & 0 & 0 & 0 & 1 & 0 & 0 & g^{OT}_{LE, 05} \\left(b^\\dagger_{OT, 06, 05} + b_{OT, 06, 05}\\right)\\\\0 & 0 & 0 & 0 & 0 & 0 & 0 & 0 & 0 & 0 & 0 & 1 & 0 & 0 & 0 & 0 & 0 & 0\\\\0 & 1 & 0 & 0 & 0 & 0 & 0 & 0 & 0 & 0 & 0 & 0 & 0 & 0 & 0 & 0 & 0 & 0\\\\0 & 0 & 0 & 0 & 0 & 0 & 0 & 0 & 1 & 0 & 0 & 0 & 0 & 0 & 0 & 0 & 0 & 0\\\\0 & 0 & 0 & 1 & 0 & 0 & 0 & 0 & 0 & 0 & 0 & 0 & 0 & 0 & 0 & 0 & 0 & 0\\\\0 & 0 & 0 & 0 & 0 & 0 & 0 & 0 & 0 & 0 & 0 & 0 & 0 & 1 & 0 & 0 & 0 & 0\\\\0 & 0 & 1 & 0 & 0 & 0 & 0 & 0 & 0 & 0 & 0 & 0 & 0 & 0 & 0 & 0 & 0 & 0\\\\0 & 0 & 0 & 0 & 0 & 0 & 0 & 0 & 0 & 0 & 0 & 0 & 0 & 0 & 0 & 1 & 0 & 0\\\\0 & 0 & 0 & 0 & 0 & 0 & 0 & 0 & 0 & 1 & 0 & 0 & 0 & 0 & 0 & 0 & 0 & 0\\\\1 & 0 & 0 & 0 & 0 & 0 & 0 & 0 & 0 & 0 & 0 & 0 & 0 & 0 & 0 & 0 & 0 & 0\\\\0 & 0 & 0 & 0 & 0 & 0 & 0 & 0 & 0 & 0 & 1 & 0 & 0 & 0 & 0 & 0 & 0 & 0\\\\0 & 0 & 0 & 0 & 0 & 0 & 1 & 0 & 0 & 0 & 0 & 0 & 0 & 0 & 0 & 0 & 0 & ω^{OT}_5 b_{OT, 06, 05} b^\\dagger_{OT, 06, 05}\\\\0 & 0 & 0 & 0 & 0 & 1 & 0 & 0 & 0 & 0 & 0 & 0 & 0 & 0 & 0 & 0 & 0 & 0\\\\0 & 0 & 0 & 0 & 0 & 0 & 0 & 0 & 0 & 0 & 0 & 0 & 0 & 0 & 0 & 0 & 1 & g^{OT}_{CS, 05} \\left(b^\\dagger_{OT, 06, 05} + b_{OT, 06, 05}\\right)\\\\0 & 0 & 0 & 0 & 0 & 0 & 0 & 0 & 0 & 0 & 0 & 0 & 0 & 0 & 0 & 0 & 0 & 1\\end{array}\\right]$"
      ],
      "text/plain": [
       "Matrix([\n",
       "[0, 0, 0, 0, 1, 0, 0, 0, 0, 0, 0, 0, 0, 0, 0, 0, 0,                                                         0],\n",
       "[0, 0, 0, 0, 0, 0, 0, 0, 0, 0, 0, 0, 1, 0, 0, 0, 0,                                                         0],\n",
       "[0, 0, 0, 0, 0, 0, 0, 1, 0, 0, 0, 0, 0, 0, 0, 0, 0,                                                         0],\n",
       "[0, 0, 0, 0, 0, 0, 0, 0, 0, 0, 0, 0, 0, 0, 1, 0, 0, g^{OT}_{LE, 05}*(b^\\dagger_{OT, 06, 05} + b_{OT, 06, 05})],\n",
       "[0, 0, 0, 0, 0, 0, 0, 0, 0, 0, 0, 1, 0, 0, 0, 0, 0,                                                         0],\n",
       "[0, 1, 0, 0, 0, 0, 0, 0, 0, 0, 0, 0, 0, 0, 0, 0, 0,                                                         0],\n",
       "[0, 0, 0, 0, 0, 0, 0, 0, 1, 0, 0, 0, 0, 0, 0, 0, 0,                                                         0],\n",
       "[0, 0, 0, 1, 0, 0, 0, 0, 0, 0, 0, 0, 0, 0, 0, 0, 0,                                                         0],\n",
       "[0, 0, 0, 0, 0, 0, 0, 0, 0, 0, 0, 0, 0, 1, 0, 0, 0,                                                         0],\n",
       "[0, 0, 1, 0, 0, 0, 0, 0, 0, 0, 0, 0, 0, 0, 0, 0, 0,                                                         0],\n",
       "[0, 0, 0, 0, 0, 0, 0, 0, 0, 0, 0, 0, 0, 0, 0, 1, 0,                                                         0],\n",
       "[0, 0, 0, 0, 0, 0, 0, 0, 0, 1, 0, 0, 0, 0, 0, 0, 0,                                                         0],\n",
       "[1, 0, 0, 0, 0, 0, 0, 0, 0, 0, 0, 0, 0, 0, 0, 0, 0,                                                         0],\n",
       "[0, 0, 0, 0, 0, 0, 0, 0, 0, 0, 1, 0, 0, 0, 0, 0, 0,                                                         0],\n",
       "[0, 0, 0, 0, 0, 0, 1, 0, 0, 0, 0, 0, 0, 0, 0, 0, 0,            ω^{OT}_5*b_{OT, 06, 05}*b^\\dagger_{OT, 06, 05}],\n",
       "[0, 0, 0, 0, 0, 1, 0, 0, 0, 0, 0, 0, 0, 0, 0, 0, 0,                                                         0],\n",
       "[0, 0, 0, 0, 0, 0, 0, 0, 0, 0, 0, 0, 0, 0, 0, 0, 1, g^{OT}_{CS, 05}*(b^\\dagger_{OT, 06, 05} + b_{OT, 06, 05})],\n",
       "[0, 0, 0, 0, 0, 0, 0, 0, 0, 0, 0, 0, 0, 0, 0, 0, 0,                                                         1]])"
      ]
     },
     "metadata": {},
     "output_type": "display_data"
    },
    {
     "data": {
      "text/latex": [
       "$\\displaystyle \\left[\\begin{array}{cccccccccccccccccc}0 & 0 & 0 & 0 & 0 & 0 & 1 & 0 & 0 & 0 & 0 & 0 & 0 & 0 & 0 & 0 & 0 & 0\\\\0 & 0 & 1 & 0 & 0 & 0 & 0 & 0 & 0 & 0 & 0 & 0 & 0 & 0 & 0 & 0 & 0 & 0\\\\1 & 0 & 0 & 0 & 0 & 0 & 0 & 0 & 0 & 0 & 0 & 0 & 0 & 0 & 0 & 0 & 0 & 0\\\\0 & 0 & 0 & 1 & 0 & 0 & 0 & 0 & 0 & 0 & 0 & 0 & 0 & 0 & 0 & 0 & 0 & 0\\\\0 & 0 & 0 & 0 & 0 & 1 & 0 & 0 & 0 & 0 & 0 & 0 & 0 & 0 & 0 & 0 & 0 & 0\\\\0 & 0 & 0 & 0 & 1 & 0 & 0 & 0 & 0 & 0 & 0 & 0 & 0 & 0 & 0 & 0 & 0 & 0\\\\0 & 0 & 0 & 0 & 0 & 0 & 0 & 0 & 0 & 0 & 0 & 0 & 0 & 0 & 0 & 1 & 0 & ω^{OT}_6 b_{OT, 06, 06} b^\\dagger_{OT, 06, 06}\\\\0 & 0 & 0 & 0 & 0 & 0 & 0 & 0 & 0 & 1 & 0 & 0 & 0 & 0 & 0 & 0 & 0 & 0\\\\0 & 0 & 0 & 0 & 0 & 0 & 0 & 0 & 0 & 0 & 0 & 1 & 0 & 0 & 0 & 0 & 0 & 0\\\\0 & 0 & 0 & 0 & 0 & 0 & 0 & 0 & 1 & 0 & 0 & 0 & 0 & 0 & 0 & 0 & 0 & 0\\\\0 & 1 & 0 & 0 & 0 & 0 & 0 & 0 & 0 & 0 & 0 & 0 & 0 & 0 & 0 & 0 & 0 & 0\\\\0 & 0 & 0 & 0 & 0 & 0 & 0 & 0 & 0 & 0 & 0 & 0 & 1 & 0 & 0 & 0 & 0 & 0\\\\0 & 0 & 0 & 0 & 0 & 0 & 0 & 0 & 0 & 0 & 0 & 0 & 0 & 0 & 0 & 0 & 1 & 0\\\\0 & 0 & 0 & 0 & 0 & 0 & 0 & 1 & 0 & 0 & 0 & 0 & 0 & 0 & 0 & 0 & 0 & 0\\\\0 & 0 & 0 & 0 & 0 & 0 & 0 & 0 & 0 & 0 & 0 & 0 & 0 & 1 & 0 & 0 & 0 & g^{OT}_{LE, 06} \\left(b^\\dagger_{OT, 06, 06} + b_{OT, 06, 06}\\right)\\\\0 & 0 & 0 & 0 & 0 & 0 & 0 & 0 & 0 & 0 & 1 & 0 & 0 & 0 & 0 & 0 & 0 & 0\\\\0 & 0 & 0 & 0 & 0 & 0 & 0 & 0 & 0 & 0 & 0 & 0 & 0 & 0 & 1 & 0 & 0 & g^{OT}_{CS, 06} \\left(b^\\dagger_{OT, 06, 06} + b_{OT, 06, 06}\\right)\\\\0 & 0 & 0 & 0 & 0 & 0 & 0 & 0 & 0 & 0 & 0 & 0 & 0 & 0 & 0 & 0 & 0 & 1\\end{array}\\right]$"
      ],
      "text/plain": [
       "Matrix([\n",
       "[0, 0, 0, 0, 0, 0, 1, 0, 0, 0, 0, 0, 0, 0, 0, 0, 0,                                                         0],\n",
       "[0, 0, 1, 0, 0, 0, 0, 0, 0, 0, 0, 0, 0, 0, 0, 0, 0,                                                         0],\n",
       "[1, 0, 0, 0, 0, 0, 0, 0, 0, 0, 0, 0, 0, 0, 0, 0, 0,                                                         0],\n",
       "[0, 0, 0, 1, 0, 0, 0, 0, 0, 0, 0, 0, 0, 0, 0, 0, 0,                                                         0],\n",
       "[0, 0, 0, 0, 0, 1, 0, 0, 0, 0, 0, 0, 0, 0, 0, 0, 0,                                                         0],\n",
       "[0, 0, 0, 0, 1, 0, 0, 0, 0, 0, 0, 0, 0, 0, 0, 0, 0,                                                         0],\n",
       "[0, 0, 0, 0, 0, 0, 0, 0, 0, 0, 0, 0, 0, 0, 0, 1, 0,            ω^{OT}_6*b_{OT, 06, 06}*b^\\dagger_{OT, 06, 06}],\n",
       "[0, 0, 0, 0, 0, 0, 0, 0, 0, 1, 0, 0, 0, 0, 0, 0, 0,                                                         0],\n",
       "[0, 0, 0, 0, 0, 0, 0, 0, 0, 0, 0, 1, 0, 0, 0, 0, 0,                                                         0],\n",
       "[0, 0, 0, 0, 0, 0, 0, 0, 1, 0, 0, 0, 0, 0, 0, 0, 0,                                                         0],\n",
       "[0, 1, 0, 0, 0, 0, 0, 0, 0, 0, 0, 0, 0, 0, 0, 0, 0,                                                         0],\n",
       "[0, 0, 0, 0, 0, 0, 0, 0, 0, 0, 0, 0, 1, 0, 0, 0, 0,                                                         0],\n",
       "[0, 0, 0, 0, 0, 0, 0, 0, 0, 0, 0, 0, 0, 0, 0, 0, 1,                                                         0],\n",
       "[0, 0, 0, 0, 0, 0, 0, 1, 0, 0, 0, 0, 0, 0, 0, 0, 0,                                                         0],\n",
       "[0, 0, 0, 0, 0, 0, 0, 0, 0, 0, 0, 0, 0, 1, 0, 0, 0, g^{OT}_{LE, 06}*(b^\\dagger_{OT, 06, 06} + b_{OT, 06, 06})],\n",
       "[0, 0, 0, 0, 0, 0, 0, 0, 0, 0, 1, 0, 0, 0, 0, 0, 0,                                                         0],\n",
       "[0, 0, 0, 0, 0, 0, 0, 0, 0, 0, 0, 0, 0, 0, 1, 0, 0, g^{OT}_{CS, 06}*(b^\\dagger_{OT, 06, 06} + b_{OT, 06, 06})],\n",
       "[0, 0, 0, 0, 0, 0, 0, 0, 0, 0, 0, 0, 0, 0, 0, 0, 0,                                                         1]])"
      ]
     },
     "metadata": {},
     "output_type": "display_data"
    },
    {
     "data": {
      "text/latex": [
       "$\\displaystyle \\left[\\begin{array}{ccccccccccccccccc}0 & 0 & 1 & 0 & 0 & 0 & 0 & 0 & 0 & 0 & 0 & 0 & 0 & 0 & 0 & 0 & 0\\\\0 & 0 & 0 & 0 & 0 & 0 & 0 & 0 & 0 & 0 & 0 & 0 & 1 & 0 & 0 & 0 & 0\\\\0 & 0 & 0 & 0 & 0 & 0 & 0 & 1 & 0 & 0 & 0 & 0 & 0 & 0 & 0 & 0 & 0\\\\0 & 0 & 0 & 1 & 0 & 0 & 0 & 0 & 0 & 0 & 0 & 0 & 0 & 0 & 0 & 0 & 0\\\\0 & 0 & 0 & 0 & 0 & 0 & 0 & 0 & 0 & 0 & 0 & 1 & 0 & 0 & 0 & 0 & 0\\\\0 & 0 & 0 & 0 & 0 & 0 & 0 & 0 & 0 & 0 & 0 & 0 & 0 & 0 & 1 & 0 & 0\\\\0 & 0 & 0 & 0 & 0 & 1 & 0 & 0 & 0 & 0 & 0 & 0 & 0 & 0 & 0 & 0 & 0\\\\0 & 0 & 0 & 0 & 1 & 0 & 0 & 0 & 0 & 0 & 0 & 0 & 0 & 0 & 0 & 0 & 0\\\\0 & 0 & 0 & 0 & 0 & 0 & 1 & 0 & 0 & 0 & 0 & 0 & 0 & 0 & 0 & 0 & 0\\\\1 & 0 & 0 & 0 & 0 & 0 & 0 & 0 & 0 & 0 & 0 & 0 & 0 & 0 & 0 & 0 & 0\\\\0 & 0 & 0 & 0 & 0 & 0 & 0 & 0 & 0 & 0 & 0 & 0 & 0 & 1 & 0 & 0 & 0\\\\0 & 1 & 0 & 0 & 0 & 0 & 0 & 0 & 0 & 0 & 0 & 0 & 0 & 0 & 0 & 0 & 0\\\\0 & 0 & 0 & 0 & 0 & 0 & 0 & 0 & 0 & 1 & 0 & 0 & 0 & 0 & 0 & 0 & 0\\\\0 & 0 & 0 & 0 & 0 & 0 & 0 & 0 & 0 & 0 & 0 & 0 & 0 & 0 & 0 & g^{OT}_{LE, 08} & g^{OT}_{LE, 07} \\left(b^\\dagger_{OT, 06, 07} + b_{OT, 06, 07}\\right)\\\\0 & 0 & 0 & 0 & 0 & 0 & 0 & 0 & 0 & 0 & 0 & 0 & 0 & 0 & 0 & g^{OT}_{CS, 08} & g^{OT}_{CS, 07} \\left(b^\\dagger_{OT, 06, 07} + b_{OT, 06, 07}\\right) + ε^{{CS}}_{06}\\\\0 & 0 & 0 & 0 & 0 & 0 & 0 & 0 & 0 & 0 & 1 & 0 & 0 & 0 & 0 & 0 & ω^{OT}_7 b_{OT, 06, 07} b^\\dagger_{OT, 06, 07}\\\\0 & 0 & 0 & 0 & 0 & 0 & 0 & 0 & 1 & 0 & 0 & 0 & 0 & 0 & 0 & 0 & 0\\\\0 & 0 & 0 & 0 & 0 & 0 & 0 & 0 & 0 & 0 & 0 & 0 & 0 & 0 & 0 & 0 & 1\\end{array}\\right]$"
      ],
      "text/plain": [
       "Matrix([\n",
       "[0, 0, 1, 0, 0, 0, 0, 0, 0, 0, 0, 0, 0, 0, 0,               0,                                                                         0],\n",
       "[0, 0, 0, 0, 0, 0, 0, 0, 0, 0, 0, 0, 1, 0, 0,               0,                                                                         0],\n",
       "[0, 0, 0, 0, 0, 0, 0, 1, 0, 0, 0, 0, 0, 0, 0,               0,                                                                         0],\n",
       "[0, 0, 0, 1, 0, 0, 0, 0, 0, 0, 0, 0, 0, 0, 0,               0,                                                                         0],\n",
       "[0, 0, 0, 0, 0, 0, 0, 0, 0, 0, 0, 1, 0, 0, 0,               0,                                                                         0],\n",
       "[0, 0, 0, 0, 0, 0, 0, 0, 0, 0, 0, 0, 0, 0, 1,               0,                                                                         0],\n",
       "[0, 0, 0, 0, 0, 1, 0, 0, 0, 0, 0, 0, 0, 0, 0,               0,                                                                         0],\n",
       "[0, 0, 0, 0, 1, 0, 0, 0, 0, 0, 0, 0, 0, 0, 0,               0,                                                                         0],\n",
       "[0, 0, 0, 0, 0, 0, 1, 0, 0, 0, 0, 0, 0, 0, 0,               0,                                                                         0],\n",
       "[1, 0, 0, 0, 0, 0, 0, 0, 0, 0, 0, 0, 0, 0, 0,               0,                                                                         0],\n",
       "[0, 0, 0, 0, 0, 0, 0, 0, 0, 0, 0, 0, 0, 1, 0,               0,                                                                         0],\n",
       "[0, 1, 0, 0, 0, 0, 0, 0, 0, 0, 0, 0, 0, 0, 0,               0,                                                                         0],\n",
       "[0, 0, 0, 0, 0, 0, 0, 0, 0, 1, 0, 0, 0, 0, 0,               0,                                                                         0],\n",
       "[0, 0, 0, 0, 0, 0, 0, 0, 0, 0, 0, 0, 0, 0, 0, g^{OT}_{LE, 08},                 g^{OT}_{LE, 07}*(b^\\dagger_{OT, 06, 07} + b_{OT, 06, 07})],\n",
       "[0, 0, 0, 0, 0, 0, 0, 0, 0, 0, 0, 0, 0, 0, 0, g^{OT}_{CS, 08}, g^{OT}_{CS, 07}*(b^\\dagger_{OT, 06, 07} + b_{OT, 06, 07}) + ε^{{CS}}_{06}],\n",
       "[0, 0, 0, 0, 0, 0, 0, 0, 0, 0, 1, 0, 0, 0, 0,               0,                            ω^{OT}_7*b_{OT, 06, 07}*b^\\dagger_{OT, 06, 07}],\n",
       "[0, 0, 0, 0, 0, 0, 0, 0, 1, 0, 0, 0, 0, 0, 0,               0,                                                                         0],\n",
       "[0, 0, 0, 0, 0, 0, 0, 0, 0, 0, 0, 0, 0, 0, 0,               0,                                                                         1]])"
      ]
     },
     "metadata": {},
     "output_type": "display_data"
    },
    {
     "data": {
      "text/latex": [
       "$\\displaystyle \\left[\\begin{array}{cccccccccccccccc}0 & 0 & 0 & 0 & 0 & 0 & 0 & 0 & 0 & 0 & 0 & 0 & 0 & 0 & 1 & 0\\\\0 & 1 & 0 & 0 & 0 & 0 & 0 & 0 & 0 & 0 & 0 & 0 & 0 & 0 & 0 & 0\\\\0 & 0 & 1 & 0 & 0 & 0 & 0 & 0 & 0 & 0 & 0 & 0 & 0 & 0 & 0 & 0\\\\0 & 0 & 0 & 0 & 0 & 0 & 0 & 0 & 1 & 0 & 0 & 0 & 0 & 0 & 0 & 0\\\\0 & 0 & 0 & 0 & 0 & 0 & 0 & 0 & 0 & 0 & 0 & 1 & 0 & 0 & 0 & 0\\\\0 & 0 & 0 & 0 & 0 & 0 & 0 & 1 & 0 & 0 & 0 & 0 & 0 & 0 & 0 & 0\\\\0 & 0 & 0 & 0 & 0 & 0 & 0 & 0 & 0 & 0 & 0 & 0 & 1 & 0 & 0 & 0\\\\0 & 0 & 0 & 0 & 0 & 0 & 0 & 0 & 0 & 1 & 0 & 0 & 0 & 0 & 0 & 0\\\\0 & 0 & 0 & 0 & 0 & 0 & 0 & 0 & 0 & 0 & 0 & 0 & 0 & 1 & 0 & 0\\\\0 & 0 & 0 & 1 & 0 & 0 & 0 & 0 & 0 & 0 & 0 & 0 & 0 & 0 & 0 & 0\\\\0 & 0 & 0 & 0 & 0 & 0 & 0 & 0 & 0 & 0 & 1 & 0 & 0 & 0 & 0 & ω^{OT}_8 b_{OT, 06, 08} b^\\dagger_{OT, 06, 08}\\\\0 & 0 & 0 & 0 & 0 & 0 & 1 & 0 & 0 & 0 & 0 & 0 & 0 & 0 & 0 & 0\\\\0 & 0 & 0 & 0 & 1 & 0 & 0 & 0 & 0 & 0 & 0 & 0 & 0 & 0 & 0 & 0\\\\0 & 0 & 0 & 0 & 0 & 1 & 0 & 0 & 0 & 0 & 0 & 0 & 0 & 0 & 0 & 0\\\\1 & 0 & 0 & 0 & 0 & 0 & 0 & 0 & 0 & 0 & 0 & 0 & 0 & 0 & 0 & 0\\\\0 & 0 & 0 & 0 & 0 & 0 & 0 & 0 & 0 & 0 & 0 & 0 & 0 & 0 & 0 & b^\\dagger_{OT, 06, 08} + b_{OT, 06, 08}\\\\0 & 0 & 0 & 0 & 0 & 0 & 0 & 0 & 0 & 0 & 0 & 0 & 0 & 0 & 0 & 1\\end{array}\\right]$"
      ],
      "text/plain": [
       "Matrix([\n",
       "[0, 0, 0, 0, 0, 0, 0, 0, 0, 0, 0, 0, 0, 0, 1,                                              0],\n",
       "[0, 1, 0, 0, 0, 0, 0, 0, 0, 0, 0, 0, 0, 0, 0,                                              0],\n",
       "[0, 0, 1, 0, 0, 0, 0, 0, 0, 0, 0, 0, 0, 0, 0,                                              0],\n",
       "[0, 0, 0, 0, 0, 0, 0, 0, 1, 0, 0, 0, 0, 0, 0,                                              0],\n",
       "[0, 0, 0, 0, 0, 0, 0, 0, 0, 0, 0, 1, 0, 0, 0,                                              0],\n",
       "[0, 0, 0, 0, 0, 0, 0, 1, 0, 0, 0, 0, 0, 0, 0,                                              0],\n",
       "[0, 0, 0, 0, 0, 0, 0, 0, 0, 0, 0, 0, 1, 0, 0,                                              0],\n",
       "[0, 0, 0, 0, 0, 0, 0, 0, 0, 1, 0, 0, 0, 0, 0,                                              0],\n",
       "[0, 0, 0, 0, 0, 0, 0, 0, 0, 0, 0, 0, 0, 1, 0,                                              0],\n",
       "[0, 0, 0, 1, 0, 0, 0, 0, 0, 0, 0, 0, 0, 0, 0,                                              0],\n",
       "[0, 0, 0, 0, 0, 0, 0, 0, 0, 0, 1, 0, 0, 0, 0, ω^{OT}_8*b_{OT, 06, 08}*b^\\dagger_{OT, 06, 08}],\n",
       "[0, 0, 0, 0, 0, 0, 1, 0, 0, 0, 0, 0, 0, 0, 0,                                              0],\n",
       "[0, 0, 0, 0, 1, 0, 0, 0, 0, 0, 0, 0, 0, 0, 0,                                              0],\n",
       "[0, 0, 0, 0, 0, 1, 0, 0, 0, 0, 0, 0, 0, 0, 0,                                              0],\n",
       "[1, 0, 0, 0, 0, 0, 0, 0, 0, 0, 0, 0, 0, 0, 0,                                              0],\n",
       "[0, 0, 0, 0, 0, 0, 0, 0, 0, 0, 0, 0, 0, 0, 0,        b^\\dagger_{OT, 06, 08} + b_{OT, 06, 08}],\n",
       "[0, 0, 0, 0, 0, 0, 0, 0, 0, 0, 0, 0, 0, 0, 0,                                              1]])"
      ]
     },
     "metadata": {},
     "output_type": "display_data"
    },
    {
     "data": {
      "text/latex": [
       "$\\displaystyle \\left[\\begin{array}{cccccccccccccccc}0 & 0 & 0 & 0 & 1 & 0 & 0 & 0 & 0 & 0 & 0 & 0 & 0 & 0 & 0 & g^{OT}_{CS, 01} \\left(b^\\dagger_{OT, 07, 01} + b_{OT, 07, 01}\\right)\\\\0 & 0 & 0 & 0 & 0 & 0 & 0 & 0 & 0 & 0 & 0 & 0 & 1 & 0 & 0 & 0\\\\0 & 0 & 0 & 0 & 0 & 0 & 0 & 0 & 0 & 0 & 1 & 0 & 0 & 0 & 0 & 0\\\\0 & 0 & 0 & 0 & 0 & 0 & 0 & 1 & 0 & 0 & 0 & 0 & 0 & 0 & 0 & 0\\\\0 & 0 & 0 & 0 & 0 & 0 & 0 & 0 & 0 & 0 & 0 & 0 & 0 & 1 & 0 & 0\\\\0 & 0 & 0 & 0 & 0 & 0 & 0 & 0 & 1 & 0 & 0 & 0 & 0 & 0 & 0 & 0\\\\0 & 0 & 0 & 0 & 0 & 1 & 0 & 0 & 0 & 0 & 0 & 0 & 0 & 0 & 0 & 0\\\\0 & 0 & 0 & 0 & 0 & 0 & 1 & 0 & 0 & 0 & 0 & 0 & 0 & 0 & 0 & 0\\\\0 & 0 & 0 & 1 & 0 & 0 & 0 & 0 & 0 & 0 & 0 & 0 & 0 & 0 & 0 & 0\\\\0 & 1 & 0 & 0 & 0 & 0 & 0 & 0 & 0 & 0 & 0 & 0 & 0 & 0 & 0 & 0\\\\1 & 0 & 0 & 0 & 0 & 0 & 0 & 0 & 0 & 0 & 0 & 0 & 0 & 0 & 0 & ω^{OT}_1 b_{OT, 07, 01} b^\\dagger_{OT, 07, 01}\\\\0 & 0 & 0 & 0 & 0 & 0 & 0 & 0 & 0 & 0 & 0 & 0 & 0 & 0 & 1 & 0\\\\0 & 0 & 0 & 0 & 0 & 0 & 0 & 0 & 0 & 0 & 0 & 1 & 0 & 0 & 0 & 0\\\\0 & 0 & 1 & 0 & 0 & 0 & 0 & 0 & 0 & 0 & 0 & 0 & 0 & 0 & 0 & 0\\\\0 & 0 & 0 & 0 & 0 & 0 & 0 & 0 & 0 & 1 & 0 & 0 & 0 & 0 & 0 & g^{OT}_{LE, 01} \\left(b^\\dagger_{OT, 07, 01} + b_{OT, 07, 01}\\right)\\\\0 & 0 & 0 & 0 & 0 & 0 & 0 & 0 & 0 & 0 & 0 & 0 & 0 & 0 & 0 & 1\\end{array}\\right]$"
      ],
      "text/plain": [
       "Matrix([\n",
       "[0, 0, 0, 0, 1, 0, 0, 0, 0, 0, 0, 0, 0, 0, 0, g^{OT}_{CS, 01}*(b^\\dagger_{OT, 07, 01} + b_{OT, 07, 01})],\n",
       "[0, 0, 0, 0, 0, 0, 0, 0, 0, 0, 0, 0, 1, 0, 0,                                                         0],\n",
       "[0, 0, 0, 0, 0, 0, 0, 0, 0, 0, 1, 0, 0, 0, 0,                                                         0],\n",
       "[0, 0, 0, 0, 0, 0, 0, 1, 0, 0, 0, 0, 0, 0, 0,                                                         0],\n",
       "[0, 0, 0, 0, 0, 0, 0, 0, 0, 0, 0, 0, 0, 1, 0,                                                         0],\n",
       "[0, 0, 0, 0, 0, 0, 0, 0, 1, 0, 0, 0, 0, 0, 0,                                                         0],\n",
       "[0, 0, 0, 0, 0, 1, 0, 0, 0, 0, 0, 0, 0, 0, 0,                                                         0],\n",
       "[0, 0, 0, 0, 0, 0, 1, 0, 0, 0, 0, 0, 0, 0, 0,                                                         0],\n",
       "[0, 0, 0, 1, 0, 0, 0, 0, 0, 0, 0, 0, 0, 0, 0,                                                         0],\n",
       "[0, 1, 0, 0, 0, 0, 0, 0, 0, 0, 0, 0, 0, 0, 0,                                                         0],\n",
       "[1, 0, 0, 0, 0, 0, 0, 0, 0, 0, 0, 0, 0, 0, 0,            ω^{OT}_1*b_{OT, 07, 01}*b^\\dagger_{OT, 07, 01}],\n",
       "[0, 0, 0, 0, 0, 0, 0, 0, 0, 0, 0, 0, 0, 0, 1,                                                         0],\n",
       "[0, 0, 0, 0, 0, 0, 0, 0, 0, 0, 0, 1, 0, 0, 0,                                                         0],\n",
       "[0, 0, 1, 0, 0, 0, 0, 0, 0, 0, 0, 0, 0, 0, 0,                                                         0],\n",
       "[0, 0, 0, 0, 0, 0, 0, 0, 0, 1, 0, 0, 0, 0, 0, g^{OT}_{LE, 01}*(b^\\dagger_{OT, 07, 01} + b_{OT, 07, 01})],\n",
       "[0, 0, 0, 0, 0, 0, 0, 0, 0, 0, 0, 0, 0, 0, 0,                                                         1]])"
      ]
     },
     "metadata": {},
     "output_type": "display_data"
    },
    {
     "data": {
      "text/latex": [
       "$\\displaystyle \\left[\\begin{array}{cccccccccccccccc}0 & 0 & 0 & 0 & 0 & 0 & 0 & 1 & 0 & 0 & 0 & 0 & 0 & 0 & 0 & ω^{OT}_2 b_{OT, 07, 02} b^\\dagger_{OT, 07, 02}\\\\0 & 0 & 0 & 0 & 0 & 0 & 0 & 0 & 1 & 0 & 0 & 0 & 0 & 0 & 0 & 0\\\\1 & 0 & 0 & 0 & 0 & 0 & 0 & 0 & 0 & 0 & 0 & 0 & 0 & 0 & 0 & 0\\\\0 & 0 & 0 & 1 & 0 & 0 & 0 & 0 & 0 & 0 & 0 & 0 & 0 & 0 & 0 & 0\\\\0 & 0 & 0 & 0 & 0 & 0 & 0 & 0 & 0 & 0 & 0 & 0 & 1 & 0 & 0 & g^{OT}_{CS, 02} \\left(b^\\dagger_{OT, 07, 02} + b_{OT, 07, 02}\\right)\\\\0 & 0 & 0 & 0 & 0 & 0 & 0 & 0 & 0 & 0 & 0 & 0 & 0 & 1 & 0 & 0\\\\0 & 0 & 0 & 0 & 0 & 1 & 0 & 0 & 0 & 0 & 0 & 0 & 0 & 0 & 0 & 0\\\\0 & 0 & 0 & 0 & 0 & 0 & 0 & 0 & 0 & 0 & 0 & 0 & 0 & 0 & 1 & 0\\\\0 & 0 & 0 & 0 & 1 & 0 & 0 & 0 & 0 & 0 & 0 & 0 & 0 & 0 & 0 & 0\\\\0 & 0 & 1 & 0 & 0 & 0 & 0 & 0 & 0 & 0 & 0 & 0 & 0 & 0 & 0 & g^{OT}_{LE, 02} \\left(b^\\dagger_{OT, 07, 02} + b_{OT, 07, 02}\\right)\\\\0 & 0 & 0 & 0 & 0 & 0 & 1 & 0 & 0 & 0 & 0 & 0 & 0 & 0 & 0 & 0\\\\0 & 1 & 0 & 0 & 0 & 0 & 0 & 0 & 0 & 0 & 0 & 0 & 0 & 0 & 0 & 0\\\\0 & 0 & 0 & 0 & 0 & 0 & 0 & 0 & 0 & 0 & 1 & 0 & 0 & 0 & 0 & 0\\\\0 & 0 & 0 & 0 & 0 & 0 & 0 & 0 & 0 & 0 & 0 & 1 & 0 & 0 & 0 & 0\\\\0 & 0 & 0 & 0 & 0 & 0 & 0 & 0 & 0 & 1 & 0 & 0 & 0 & 0 & 0 & 0\\\\0 & 0 & 0 & 0 & 0 & 0 & 0 & 0 & 0 & 0 & 0 & 0 & 0 & 0 & 0 & 1\\end{array}\\right]$"
      ],
      "text/plain": [
       "Matrix([\n",
       "[0, 0, 0, 0, 0, 0, 0, 1, 0, 0, 0, 0, 0, 0, 0,            ω^{OT}_2*b_{OT, 07, 02}*b^\\dagger_{OT, 07, 02}],\n",
       "[0, 0, 0, 0, 0, 0, 0, 0, 1, 0, 0, 0, 0, 0, 0,                                                         0],\n",
       "[1, 0, 0, 0, 0, 0, 0, 0, 0, 0, 0, 0, 0, 0, 0,                                                         0],\n",
       "[0, 0, 0, 1, 0, 0, 0, 0, 0, 0, 0, 0, 0, 0, 0,                                                         0],\n",
       "[0, 0, 0, 0, 0, 0, 0, 0, 0, 0, 0, 0, 1, 0, 0, g^{OT}_{CS, 02}*(b^\\dagger_{OT, 07, 02} + b_{OT, 07, 02})],\n",
       "[0, 0, 0, 0, 0, 0, 0, 0, 0, 0, 0, 0, 0, 1, 0,                                                         0],\n",
       "[0, 0, 0, 0, 0, 1, 0, 0, 0, 0, 0, 0, 0, 0, 0,                                                         0],\n",
       "[0, 0, 0, 0, 0, 0, 0, 0, 0, 0, 0, 0, 0, 0, 1,                                                         0],\n",
       "[0, 0, 0, 0, 1, 0, 0, 0, 0, 0, 0, 0, 0, 0, 0,                                                         0],\n",
       "[0, 0, 1, 0, 0, 0, 0, 0, 0, 0, 0, 0, 0, 0, 0, g^{OT}_{LE, 02}*(b^\\dagger_{OT, 07, 02} + b_{OT, 07, 02})],\n",
       "[0, 0, 0, 0, 0, 0, 1, 0, 0, 0, 0, 0, 0, 0, 0,                                                         0],\n",
       "[0, 1, 0, 0, 0, 0, 0, 0, 0, 0, 0, 0, 0, 0, 0,                                                         0],\n",
       "[0, 0, 0, 0, 0, 0, 0, 0, 0, 0, 1, 0, 0, 0, 0,                                                         0],\n",
       "[0, 0, 0, 0, 0, 0, 0, 0, 0, 0, 0, 1, 0, 0, 0,                                                         0],\n",
       "[0, 0, 0, 0, 0, 0, 0, 0, 0, 1, 0, 0, 0, 0, 0,                                                         0],\n",
       "[0, 0, 0, 0, 0, 0, 0, 0, 0, 0, 0, 0, 0, 0, 0,                                                         1]])"
      ]
     },
     "metadata": {},
     "output_type": "display_data"
    },
    {
     "data": {
      "text/latex": [
       "$\\displaystyle \\left[\\begin{array}{cccccccccccccccc}0 & 0 & 0 & 0 & 1 & 0 & 0 & 0 & 0 & 0 & 0 & 0 & 0 & 0 & 0 & 0\\\\0 & 1 & 0 & 0 & 0 & 0 & 0 & 0 & 0 & 0 & 0 & 0 & 0 & 0 & 0 & 0\\\\0 & 0 & 0 & 0 & 0 & 0 & 0 & 0 & 0 & 0 & 0 & 0 & 1 & 0 & 0 & g^{OT}_{LE, 03} \\left(b^\\dagger_{OT, 07, 03} + b_{OT, 07, 03}\\right)\\\\0 & 0 & 0 & 0 & 0 & 1 & 0 & 0 & 0 & 0 & 0 & 0 & 0 & 0 & 0 & 0\\\\1 & 0 & 0 & 0 & 0 & 0 & 0 & 0 & 0 & 0 & 0 & 0 & 0 & 0 & 0 & 0\\\\0 & 0 & 0 & 0 & 0 & 0 & 0 & 0 & 0 & 0 & 0 & 1 & 0 & 0 & 0 & 0\\\\0 & 0 & 1 & 0 & 0 & 0 & 0 & 0 & 0 & 0 & 0 & 0 & 0 & 0 & 0 & 0\\\\0 & 0 & 0 & 0 & 0 & 0 & 0 & 0 & 0 & 0 & 0 & 0 & 0 & 0 & 1 & ω^{OT}_3 b_{OT, 07, 03} b^\\dagger_{OT, 07, 03}\\\\0 & 0 & 0 & 0 & 0 & 0 & 0 & 0 & 0 & 0 & 1 & 0 & 0 & 0 & 0 & 0\\\\0 & 0 & 0 & 0 & 0 & 0 & 0 & 0 & 0 & 1 & 0 & 0 & 0 & 0 & 0 & 0\\\\0 & 0 & 0 & 0 & 0 & 0 & 0 & 0 & 1 & 0 & 0 & 0 & 0 & 0 & 0 & 0\\\\0 & 0 & 0 & 1 & 0 & 0 & 0 & 0 & 0 & 0 & 0 & 0 & 0 & 0 & 0 & 0\\\\0 & 0 & 0 & 0 & 0 & 0 & 0 & 0 & 0 & 0 & 0 & 0 & 0 & 1 & 0 & g^{OT}_{CS, 03} \\left(b^\\dagger_{OT, 07, 03} + b_{OT, 07, 03}\\right)\\\\0 & 0 & 0 & 0 & 0 & 0 & 1 & 0 & 0 & 0 & 0 & 0 & 0 & 0 & 0 & 0\\\\0 & 0 & 0 & 0 & 0 & 0 & 0 & 1 & 0 & 0 & 0 & 0 & 0 & 0 & 0 & 0\\\\0 & 0 & 0 & 0 & 0 & 0 & 0 & 0 & 0 & 0 & 0 & 0 & 0 & 0 & 0 & 1\\end{array}\\right]$"
      ],
      "text/plain": [
       "Matrix([\n",
       "[0, 0, 0, 0, 1, 0, 0, 0, 0, 0, 0, 0, 0, 0, 0,                                                         0],\n",
       "[0, 1, 0, 0, 0, 0, 0, 0, 0, 0, 0, 0, 0, 0, 0,                                                         0],\n",
       "[0, 0, 0, 0, 0, 0, 0, 0, 0, 0, 0, 0, 1, 0, 0, g^{OT}_{LE, 03}*(b^\\dagger_{OT, 07, 03} + b_{OT, 07, 03})],\n",
       "[0, 0, 0, 0, 0, 1, 0, 0, 0, 0, 0, 0, 0, 0, 0,                                                         0],\n",
       "[1, 0, 0, 0, 0, 0, 0, 0, 0, 0, 0, 0, 0, 0, 0,                                                         0],\n",
       "[0, 0, 0, 0, 0, 0, 0, 0, 0, 0, 0, 1, 0, 0, 0,                                                         0],\n",
       "[0, 0, 1, 0, 0, 0, 0, 0, 0, 0, 0, 0, 0, 0, 0,                                                         0],\n",
       "[0, 0, 0, 0, 0, 0, 0, 0, 0, 0, 0, 0, 0, 0, 1,            ω^{OT}_3*b_{OT, 07, 03}*b^\\dagger_{OT, 07, 03}],\n",
       "[0, 0, 0, 0, 0, 0, 0, 0, 0, 0, 1, 0, 0, 0, 0,                                                         0],\n",
       "[0, 0, 0, 0, 0, 0, 0, 0, 0, 1, 0, 0, 0, 0, 0,                                                         0],\n",
       "[0, 0, 0, 0, 0, 0, 0, 0, 1, 0, 0, 0, 0, 0, 0,                                                         0],\n",
       "[0, 0, 0, 1, 0, 0, 0, 0, 0, 0, 0, 0, 0, 0, 0,                                                         0],\n",
       "[0, 0, 0, 0, 0, 0, 0, 0, 0, 0, 0, 0, 0, 1, 0, g^{OT}_{CS, 03}*(b^\\dagger_{OT, 07, 03} + b_{OT, 07, 03})],\n",
       "[0, 0, 0, 0, 0, 0, 1, 0, 0, 0, 0, 0, 0, 0, 0,                                                         0],\n",
       "[0, 0, 0, 0, 0, 0, 0, 1, 0, 0, 0, 0, 0, 0, 0,                                                         0],\n",
       "[0, 0, 0, 0, 0, 0, 0, 0, 0, 0, 0, 0, 0, 0, 0,                                                         1]])"
      ]
     },
     "metadata": {},
     "output_type": "display_data"
    },
    {
     "data": {
      "text/latex": [
       "$\\displaystyle \\left[\\begin{array}{cccccccccccccccc}0 & 0 & 0 & 1 & 0 & 0 & 0 & 0 & 0 & 0 & 0 & 0 & 0 & 0 & 0 & 0\\\\0 & 0 & 0 & 0 & 0 & 0 & 0 & 0 & 0 & 0 & 0 & 0 & 1 & 0 & 0 & 0\\\\0 & 0 & 0 & 0 & 1 & 0 & 0 & 0 & 0 & 0 & 0 & 0 & 0 & 0 & 0 & 0\\\\0 & 0 & 0 & 0 & 0 & 0 & 0 & 0 & 0 & 0 & 0 & 0 & 0 & 0 & 1 & 0\\\\0 & 0 & 0 & 0 & 0 & 0 & 0 & 0 & 1 & 0 & 0 & 0 & 0 & 0 & 0 & 0\\\\0 & 0 & 1 & 0 & 0 & 0 & 0 & 0 & 0 & 0 & 0 & 0 & 0 & 0 & 0 & 0\\\\0 & 0 & 0 & 0 & 0 & 0 & 0 & 0 & 0 & 0 & 0 & 1 & 0 & 0 & 0 & 0\\\\0 & 0 & 0 & 0 & 0 & 0 & 0 & 1 & 0 & 0 & 0 & 0 & 0 & 0 & 0 & 0\\\\1 & 0 & 0 & 0 & 0 & 0 & 0 & 0 & 0 & 0 & 0 & 0 & 0 & 0 & 0 & 0\\\\0 & 0 & 0 & 0 & 0 & 1 & 0 & 0 & 0 & 0 & 0 & 0 & 0 & 0 & 0 & 0\\\\0 & 0 & 0 & 0 & 0 & 0 & 0 & 0 & 0 & 0 & 1 & 0 & 0 & 0 & 0 & 0\\\\0 & 0 & 0 & 0 & 0 & 0 & 0 & 0 & 0 & 0 & 0 & 0 & 0 & 1 & 0 & 0\\\\0 & 1 & 0 & 0 & 0 & 0 & 0 & 0 & 0 & 0 & 0 & 0 & 0 & 0 & 0 & g^{OT}_{LE, 04} \\left(b^\\dagger_{OT, 07, 04} + b_{OT, 07, 04}\\right)\\\\0 & 0 & 0 & 0 & 0 & 0 & 1 & 0 & 0 & 0 & 0 & 0 & 0 & 0 & 0 & g^{OT}_{CS, 04} \\left(b^\\dagger_{OT, 07, 04} + b_{OT, 07, 04}\\right)\\\\0 & 0 & 0 & 0 & 0 & 0 & 0 & 0 & 0 & 1 & 0 & 0 & 0 & 0 & 0 & ω^{OT}_4 b_{OT, 07, 04} b^\\dagger_{OT, 07, 04}\\\\0 & 0 & 0 & 0 & 0 & 0 & 0 & 0 & 0 & 0 & 0 & 0 & 0 & 0 & 0 & 1\\end{array}\\right]$"
      ],
      "text/plain": [
       "Matrix([\n",
       "[0, 0, 0, 1, 0, 0, 0, 0, 0, 0, 0, 0, 0, 0, 0,                                                         0],\n",
       "[0, 0, 0, 0, 0, 0, 0, 0, 0, 0, 0, 0, 1, 0, 0,                                                         0],\n",
       "[0, 0, 0, 0, 1, 0, 0, 0, 0, 0, 0, 0, 0, 0, 0,                                                         0],\n",
       "[0, 0, 0, 0, 0, 0, 0, 0, 0, 0, 0, 0, 0, 0, 1,                                                         0],\n",
       "[0, 0, 0, 0, 0, 0, 0, 0, 1, 0, 0, 0, 0, 0, 0,                                                         0],\n",
       "[0, 0, 1, 0, 0, 0, 0, 0, 0, 0, 0, 0, 0, 0, 0,                                                         0],\n",
       "[0, 0, 0, 0, 0, 0, 0, 0, 0, 0, 0, 1, 0, 0, 0,                                                         0],\n",
       "[0, 0, 0, 0, 0, 0, 0, 1, 0, 0, 0, 0, 0, 0, 0,                                                         0],\n",
       "[1, 0, 0, 0, 0, 0, 0, 0, 0, 0, 0, 0, 0, 0, 0,                                                         0],\n",
       "[0, 0, 0, 0, 0, 1, 0, 0, 0, 0, 0, 0, 0, 0, 0,                                                         0],\n",
       "[0, 0, 0, 0, 0, 0, 0, 0, 0, 0, 1, 0, 0, 0, 0,                                                         0],\n",
       "[0, 0, 0, 0, 0, 0, 0, 0, 0, 0, 0, 0, 0, 1, 0,                                                         0],\n",
       "[0, 1, 0, 0, 0, 0, 0, 0, 0, 0, 0, 0, 0, 0, 0, g^{OT}_{LE, 04}*(b^\\dagger_{OT, 07, 04} + b_{OT, 07, 04})],\n",
       "[0, 0, 0, 0, 0, 0, 1, 0, 0, 0, 0, 0, 0, 0, 0, g^{OT}_{CS, 04}*(b^\\dagger_{OT, 07, 04} + b_{OT, 07, 04})],\n",
       "[0, 0, 0, 0, 0, 0, 0, 0, 0, 1, 0, 0, 0, 0, 0,            ω^{OT}_4*b_{OT, 07, 04}*b^\\dagger_{OT, 07, 04}],\n",
       "[0, 0, 0, 0, 0, 0, 0, 0, 0, 0, 0, 0, 0, 0, 0,                                                         1]])"
      ]
     },
     "metadata": {},
     "output_type": "display_data"
    },
    {
     "data": {
      "text/latex": [
       "$\\displaystyle \\left[\\begin{array}{cccccccccccccccc}0 & 0 & 1 & 0 & 0 & 0 & 0 & 0 & 0 & 0 & 0 & 0 & 0 & 0 & 0 & 0\\\\0 & 0 & 0 & 0 & 0 & 0 & 1 & 0 & 0 & 0 & 0 & 0 & 0 & 0 & 0 & g^{OT}_{LE, 05} \\left(b^\\dagger_{OT, 07, 05} + b_{OT, 07, 05}\\right)\\\\1 & 0 & 0 & 0 & 0 & 0 & 0 & 0 & 0 & 0 & 0 & 0 & 0 & 0 & 0 & 0\\\\0 & 0 & 0 & 0 & 0 & 0 & 0 & 0 & 1 & 0 & 0 & 0 & 0 & 0 & 0 & 0\\\\0 & 0 & 0 & 0 & 0 & 0 & 0 & 1 & 0 & 0 & 0 & 0 & 0 & 0 & 0 & 0\\\\0 & 0 & 0 & 0 & 0 & 1 & 0 & 0 & 0 & 0 & 0 & 0 & 0 & 0 & 0 & 0\\\\0 & 0 & 0 & 0 & 0 & 0 & 0 & 0 & 0 & 0 & 0 & 0 & 1 & 0 & 0 & g^{OT}_{CS, 05} \\left(b^\\dagger_{OT, 07, 05} + b_{OT, 07, 05}\\right)\\\\0 & 1 & 0 & 0 & 0 & 0 & 0 & 0 & 0 & 0 & 0 & 0 & 0 & 0 & 0 & 0\\\\0 & 0 & 0 & 0 & 0 & 0 & 0 & 0 & 0 & 0 & 1 & 0 & 0 & 0 & 0 & 0\\\\0 & 0 & 0 & 0 & 0 & 0 & 0 & 0 & 0 & 0 & 0 & 0 & 0 & 0 & 1 & ω^{OT}_5 b_{OT, 07, 05} b^\\dagger_{OT, 07, 05}\\\\0 & 0 & 0 & 0 & 0 & 0 & 0 & 0 & 0 & 0 & 0 & 1 & 0 & 0 & 0 & 0\\\\0 & 0 & 0 & 0 & 0 & 0 & 0 & 0 & 0 & 1 & 0 & 0 & 0 & 0 & 0 & 0\\\\0 & 0 & 0 & 0 & 0 & 0 & 0 & 0 & 0 & 0 & 0 & 0 & 0 & 1 & 0 & 0\\\\0 & 0 & 0 & 1 & 0 & 0 & 0 & 0 & 0 & 0 & 0 & 0 & 0 & 0 & 0 & 0\\\\0 & 0 & 0 & 0 & 1 & 0 & 0 & 0 & 0 & 0 & 0 & 0 & 0 & 0 & 0 & 0\\\\0 & 0 & 0 & 0 & 0 & 0 & 0 & 0 & 0 & 0 & 0 & 0 & 0 & 0 & 0 & 1\\end{array}\\right]$"
      ],
      "text/plain": [
       "Matrix([\n",
       "[0, 0, 1, 0, 0, 0, 0, 0, 0, 0, 0, 0, 0, 0, 0,                                                         0],\n",
       "[0, 0, 0, 0, 0, 0, 1, 0, 0, 0, 0, 0, 0, 0, 0, g^{OT}_{LE, 05}*(b^\\dagger_{OT, 07, 05} + b_{OT, 07, 05})],\n",
       "[1, 0, 0, 0, 0, 0, 0, 0, 0, 0, 0, 0, 0, 0, 0,                                                         0],\n",
       "[0, 0, 0, 0, 0, 0, 0, 0, 1, 0, 0, 0, 0, 0, 0,                                                         0],\n",
       "[0, 0, 0, 0, 0, 0, 0, 1, 0, 0, 0, 0, 0, 0, 0,                                                         0],\n",
       "[0, 0, 0, 0, 0, 1, 0, 0, 0, 0, 0, 0, 0, 0, 0,                                                         0],\n",
       "[0, 0, 0, 0, 0, 0, 0, 0, 0, 0, 0, 0, 1, 0, 0, g^{OT}_{CS, 05}*(b^\\dagger_{OT, 07, 05} + b_{OT, 07, 05})],\n",
       "[0, 1, 0, 0, 0, 0, 0, 0, 0, 0, 0, 0, 0, 0, 0,                                                         0],\n",
       "[0, 0, 0, 0, 0, 0, 0, 0, 0, 0, 1, 0, 0, 0, 0,                                                         0],\n",
       "[0, 0, 0, 0, 0, 0, 0, 0, 0, 0, 0, 0, 0, 0, 1,            ω^{OT}_5*b_{OT, 07, 05}*b^\\dagger_{OT, 07, 05}],\n",
       "[0, 0, 0, 0, 0, 0, 0, 0, 0, 0, 0, 1, 0, 0, 0,                                                         0],\n",
       "[0, 0, 0, 0, 0, 0, 0, 0, 0, 1, 0, 0, 0, 0, 0,                                                         0],\n",
       "[0, 0, 0, 0, 0, 0, 0, 0, 0, 0, 0, 0, 0, 1, 0,                                                         0],\n",
       "[0, 0, 0, 1, 0, 0, 0, 0, 0, 0, 0, 0, 0, 0, 0,                                                         0],\n",
       "[0, 0, 0, 0, 1, 0, 0, 0, 0, 0, 0, 0, 0, 0, 0,                                                         0],\n",
       "[0, 0, 0, 0, 0, 0, 0, 0, 0, 0, 0, 0, 0, 0, 0,                                                         1]])"
      ]
     },
     "metadata": {},
     "output_type": "display_data"
    },
    {
     "data": {
      "text/latex": [
       "$\\displaystyle \\left[\\begin{array}{cccccccccccccccc}0 & 0 & 0 & 0 & 0 & 0 & 0 & 1 & 0 & 0 & 0 & 0 & 0 & 0 & 0 & 0\\\\0 & 0 & 0 & 0 & 0 & 0 & 0 & 0 & 0 & 0 & 0 & 0 & 1 & 0 & 0 & 0\\\\0 & 0 & 0 & 0 & 0 & 0 & 1 & 0 & 0 & 0 & 0 & 0 & 0 & 0 & 0 & 0\\\\0 & 0 & 0 & 0 & 0 & 0 & 0 & 0 & 1 & 0 & 0 & 0 & 0 & 0 & 0 & 0\\\\0 & 1 & 0 & 0 & 0 & 0 & 0 & 0 & 0 & 0 & 0 & 0 & 0 & 0 & 0 & 0\\\\0 & 0 & 1 & 0 & 0 & 0 & 0 & 0 & 0 & 0 & 0 & 0 & 0 & 0 & 0 & 0\\\\0 & 0 & 0 & 0 & 0 & 0 & 0 & 0 & 0 & 0 & 0 & 0 & 0 & 1 & 0 & g^{OT}_{LE, 06} \\left(b^\\dagger_{OT, 07, 06} + b_{OT, 07, 06}\\right)\\\\0 & 0 & 0 & 0 & 1 & 0 & 0 & 0 & 0 & 0 & 0 & 0 & 0 & 0 & 0 & 0\\\\0 & 0 & 0 & 0 & 0 & 0 & 0 & 0 & 0 & 0 & 1 & 0 & 0 & 0 & 0 & 0\\\\0 & 0 & 0 & 1 & 0 & 0 & 0 & 0 & 0 & 0 & 0 & 0 & 0 & 0 & 0 & 0\\\\0 & 0 & 0 & 0 & 0 & 0 & 0 & 0 & 0 & 1 & 0 & 0 & 0 & 0 & 0 & 0\\\\0 & 0 & 0 & 0 & 0 & 0 & 0 & 0 & 0 & 0 & 0 & 1 & 0 & 0 & 0 & 0\\\\0 & 0 & 0 & 0 & 0 & 0 & 0 & 0 & 0 & 0 & 0 & 0 & 0 & 0 & 1 & g^{OT}_{CS, 06} \\left(b^\\dagger_{OT, 07, 06} + b_{OT, 07, 06}\\right)\\\\0 & 0 & 0 & 0 & 0 & 1 & 0 & 0 & 0 & 0 & 0 & 0 & 0 & 0 & 0 & 0\\\\1 & 0 & 0 & 0 & 0 & 0 & 0 & 0 & 0 & 0 & 0 & 0 & 0 & 0 & 0 & ω^{OT}_6 b_{OT, 07, 06} b^\\dagger_{OT, 07, 06}\\\\0 & 0 & 0 & 0 & 0 & 0 & 0 & 0 & 0 & 0 & 0 & 0 & 0 & 0 & 0 & 1\\end{array}\\right]$"
      ],
      "text/plain": [
       "Matrix([\n",
       "[0, 0, 0, 0, 0, 0, 0, 1, 0, 0, 0, 0, 0, 0, 0,                                                         0],\n",
       "[0, 0, 0, 0, 0, 0, 0, 0, 0, 0, 0, 0, 1, 0, 0,                                                         0],\n",
       "[0, 0, 0, 0, 0, 0, 1, 0, 0, 0, 0, 0, 0, 0, 0,                                                         0],\n",
       "[0, 0, 0, 0, 0, 0, 0, 0, 1, 0, 0, 0, 0, 0, 0,                                                         0],\n",
       "[0, 1, 0, 0, 0, 0, 0, 0, 0, 0, 0, 0, 0, 0, 0,                                                         0],\n",
       "[0, 0, 1, 0, 0, 0, 0, 0, 0, 0, 0, 0, 0, 0, 0,                                                         0],\n",
       "[0, 0, 0, 0, 0, 0, 0, 0, 0, 0, 0, 0, 0, 1, 0, g^{OT}_{LE, 06}*(b^\\dagger_{OT, 07, 06} + b_{OT, 07, 06})],\n",
       "[0, 0, 0, 0, 1, 0, 0, 0, 0, 0, 0, 0, 0, 0, 0,                                                         0],\n",
       "[0, 0, 0, 0, 0, 0, 0, 0, 0, 0, 1, 0, 0, 0, 0,                                                         0],\n",
       "[0, 0, 0, 1, 0, 0, 0, 0, 0, 0, 0, 0, 0, 0, 0,                                                         0],\n",
       "[0, 0, 0, 0, 0, 0, 0, 0, 0, 1, 0, 0, 0, 0, 0,                                                         0],\n",
       "[0, 0, 0, 0, 0, 0, 0, 0, 0, 0, 0, 1, 0, 0, 0,                                                         0],\n",
       "[0, 0, 0, 0, 0, 0, 0, 0, 0, 0, 0, 0, 0, 0, 1, g^{OT}_{CS, 06}*(b^\\dagger_{OT, 07, 06} + b_{OT, 07, 06})],\n",
       "[0, 0, 0, 0, 0, 1, 0, 0, 0, 0, 0, 0, 0, 0, 0,                                                         0],\n",
       "[1, 0, 0, 0, 0, 0, 0, 0, 0, 0, 0, 0, 0, 0, 0,            ω^{OT}_6*b_{OT, 07, 06}*b^\\dagger_{OT, 07, 06}],\n",
       "[0, 0, 0, 0, 0, 0, 0, 0, 0, 0, 0, 0, 0, 0, 0,                                                         1]])"
      ]
     },
     "metadata": {},
     "output_type": "display_data"
    },
    {
     "data": {
      "text/latex": [
       "$\\displaystyle \\left[\\begin{array}{ccccccccccccccc}0 & 0 & 0 & 0 & 0 & 0 & 0 & 0 & 0 & 0 & 0 & 1 & 0 & ω^{OT}_7 b_{OT, 07, 07} b^\\dagger_{OT, 07, 07} & 0\\\\0 & 0 & 0 & 0 & 0 & 0 & 0 & 0 & 1 & 0 & 0 & 0 & 0 & 0 & 0\\\\0 & 0 & 0 & 1 & 0 & 0 & 0 & 0 & 0 & 0 & 0 & 0 & 0 & 0 & 0\\\\0 & 0 & 0 & 0 & 0 & 0 & 0 & 0 & 0 & 0 & 1 & 0 & 0 & 0 & 0\\\\1 & 0 & 0 & 0 & 0 & 0 & 0 & 0 & 0 & 0 & 0 & 0 & 0 & 0 & 0\\\\0 & 1 & 0 & 0 & 0 & 0 & 0 & 0 & 0 & 0 & 0 & 0 & 0 & 0 & 0\\\\0 & 0 & 0 & 0 & 0 & 0 & 0 & 0 & 0 & 0 & 0 & 0 & 1 & 0 & 0\\\\0 & 0 & 0 & 0 & 0 & 0 & 1 & 0 & 0 & 0 & 0 & 0 & 0 & 0 & 0\\\\0 & 0 & 0 & 0 & 0 & 0 & 0 & 1 & 0 & 0 & 0 & 0 & 0 & 0 & 0\\\\0 & 0 & 0 & 0 & 1 & 0 & 0 & 0 & 0 & 0 & 0 & 0 & 0 & 0 & 0\\\\0 & 0 & 0 & 0 & 0 & 0 & 0 & 0 & 0 & 1 & 0 & 0 & 0 & 0 & 0\\\\0 & 0 & 0 & 0 & 0 & 1 & 0 & 0 & 0 & 0 & 0 & 0 & 0 & 0 & 0\\\\0 & 0 & 1 & 0 & 0 & 0 & 0 & 0 & 0 & 0 & 0 & 0 & 0 & 0 & 0\\\\0 & 0 & 0 & 0 & 0 & 0 & 0 & 0 & 0 & 0 & 0 & 0 & 0 & g^{OT}_{LE, 07} \\left(b^\\dagger_{OT, 07, 07} + b_{OT, 07, 07}\\right) & g^{OT}_{LE, 08}\\\\0 & 0 & 0 & 0 & 0 & 0 & 0 & 0 & 0 & 0 & 0 & 0 & 0 & g^{OT}_{CS, 07} \\left(b^\\dagger_{OT, 07, 07} + b_{OT, 07, 07}\\right) + ε^{{CS}}_{07} & g^{OT}_{CS, 08}\\\\0 & 0 & 0 & 0 & 0 & 0 & 0 & 0 & 0 & 0 & 0 & 0 & 0 & 1 & 0\\end{array}\\right]$"
      ],
      "text/plain": [
       "Matrix([\n",
       "[0, 0, 0, 0, 0, 0, 0, 0, 0, 0, 0, 1, 0,                            ω^{OT}_7*b_{OT, 07, 07}*b^\\dagger_{OT, 07, 07},               0],\n",
       "[0, 0, 0, 0, 0, 0, 0, 0, 1, 0, 0, 0, 0,                                                                         0,               0],\n",
       "[0, 0, 0, 1, 0, 0, 0, 0, 0, 0, 0, 0, 0,                                                                         0,               0],\n",
       "[0, 0, 0, 0, 0, 0, 0, 0, 0, 0, 1, 0, 0,                                                                         0,               0],\n",
       "[1, 0, 0, 0, 0, 0, 0, 0, 0, 0, 0, 0, 0,                                                                         0,               0],\n",
       "[0, 1, 0, 0, 0, 0, 0, 0, 0, 0, 0, 0, 0,                                                                         0,               0],\n",
       "[0, 0, 0, 0, 0, 0, 0, 0, 0, 0, 0, 0, 1,                                                                         0,               0],\n",
       "[0, 0, 0, 0, 0, 0, 1, 0, 0, 0, 0, 0, 0,                                                                         0,               0],\n",
       "[0, 0, 0, 0, 0, 0, 0, 1, 0, 0, 0, 0, 0,                                                                         0,               0],\n",
       "[0, 0, 0, 0, 1, 0, 0, 0, 0, 0, 0, 0, 0,                                                                         0,               0],\n",
       "[0, 0, 0, 0, 0, 0, 0, 0, 0, 1, 0, 0, 0,                                                                         0,               0],\n",
       "[0, 0, 0, 0, 0, 1, 0, 0, 0, 0, 0, 0, 0,                                                                         0,               0],\n",
       "[0, 0, 1, 0, 0, 0, 0, 0, 0, 0, 0, 0, 0,                                                                         0,               0],\n",
       "[0, 0, 0, 0, 0, 0, 0, 0, 0, 0, 0, 0, 0,                 g^{OT}_{LE, 07}*(b^\\dagger_{OT, 07, 07} + b_{OT, 07, 07}), g^{OT}_{LE, 08}],\n",
       "[0, 0, 0, 0, 0, 0, 0, 0, 0, 0, 0, 0, 0, g^{OT}_{CS, 07}*(b^\\dagger_{OT, 07, 07} + b_{OT, 07, 07}) + ε^{{CS}}_{07}, g^{OT}_{CS, 08}],\n",
       "[0, 0, 0, 0, 0, 0, 0, 0, 0, 0, 0, 0, 0,                                                                         1,               0]])"
      ]
     },
     "metadata": {},
     "output_type": "display_data"
    },
    {
     "data": {
      "text/latex": [
       "$\\displaystyle \\left[\\begin{array}{cccccccccccccc}0 & 0 & 1 & 0 & 0 & 0 & 0 & 0 & 0 & 0 & 0 & 0 & 0 & 0\\\\0 & 0 & 0 & 0 & 0 & 0 & 0 & 0 & 1 & 0 & 0 & 0 & 0 & 0\\\\0 & 0 & 0 & 0 & 0 & 0 & 0 & 1 & 0 & 0 & 0 & 0 & 0 & 0\\\\1 & 0 & 0 & 0 & 0 & 0 & 0 & 0 & 0 & 0 & 0 & 0 & 0 & 0\\\\0 & 0 & 0 & 0 & 1 & 0 & 0 & 0 & 0 & 0 & 0 & 0 & 0 & 0\\\\0 & 0 & 0 & 0 & 0 & 0 & 0 & 0 & 0 & 0 & 0 & 0 & 1 & 0\\\\0 & 0 & 0 & 0 & 0 & 1 & 0 & 0 & 0 & 0 & 0 & 0 & 0 & 0\\\\0 & 0 & 0 & 0 & 0 & 0 & 0 & 0 & 0 & 0 & 1 & 0 & 0 & 0\\\\0 & 0 & 0 & 0 & 0 & 0 & 0 & 0 & 0 & 0 & 0 & 1 & 0 & 0\\\\0 & 0 & 0 & 0 & 0 & 0 & 1 & 0 & 0 & 0 & 0 & 0 & 0 & 0\\\\0 & 0 & 0 & 0 & 0 & 0 & 0 & 0 & 0 & 1 & 0 & 0 & 0 & 0\\\\0 & 0 & 0 & 1 & 0 & 0 & 0 & 0 & 0 & 0 & 0 & 0 & 0 & ω^{OT}_8 b_{OT, 07, 08} b^\\dagger_{OT, 07, 08}\\\\0 & 1 & 0 & 0 & 0 & 0 & 0 & 0 & 0 & 0 & 0 & 0 & 0 & 0\\\\0 & 0 & 0 & 0 & 0 & 0 & 0 & 0 & 0 & 0 & 0 & 0 & 0 & 1\\\\0 & 0 & 0 & 0 & 0 & 0 & 0 & 0 & 0 & 0 & 0 & 0 & 0 & b^\\dagger_{OT, 07, 08} + b_{OT, 07, 08}\\end{array}\\right]$"
      ],
      "text/plain": [
       "Matrix([\n",
       "[0, 0, 1, 0, 0, 0, 0, 0, 0, 0, 0, 0, 0,                                              0],\n",
       "[0, 0, 0, 0, 0, 0, 0, 0, 1, 0, 0, 0, 0,                                              0],\n",
       "[0, 0, 0, 0, 0, 0, 0, 1, 0, 0, 0, 0, 0,                                              0],\n",
       "[1, 0, 0, 0, 0, 0, 0, 0, 0, 0, 0, 0, 0,                                              0],\n",
       "[0, 0, 0, 0, 1, 0, 0, 0, 0, 0, 0, 0, 0,                                              0],\n",
       "[0, 0, 0, 0, 0, 0, 0, 0, 0, 0, 0, 0, 1,                                              0],\n",
       "[0, 0, 0, 0, 0, 1, 0, 0, 0, 0, 0, 0, 0,                                              0],\n",
       "[0, 0, 0, 0, 0, 0, 0, 0, 0, 0, 1, 0, 0,                                              0],\n",
       "[0, 0, 0, 0, 0, 0, 0, 0, 0, 0, 0, 1, 0,                                              0],\n",
       "[0, 0, 0, 0, 0, 0, 1, 0, 0, 0, 0, 0, 0,                                              0],\n",
       "[0, 0, 0, 0, 0, 0, 0, 0, 0, 1, 0, 0, 0,                                              0],\n",
       "[0, 0, 0, 1, 0, 0, 0, 0, 0, 0, 0, 0, 0, ω^{OT}_8*b_{OT, 07, 08}*b^\\dagger_{OT, 07, 08}],\n",
       "[0, 1, 0, 0, 0, 0, 0, 0, 0, 0, 0, 0, 0,                                              0],\n",
       "[0, 0, 0, 0, 0, 0, 0, 0, 0, 0, 0, 0, 0,                                              1],\n",
       "[0, 0, 0, 0, 0, 0, 0, 0, 0, 0, 0, 0, 0,        b^\\dagger_{OT, 07, 08} + b_{OT, 07, 08}]])"
      ]
     },
     "metadata": {},
     "output_type": "display_data"
    },
    {
     "data": {
      "text/latex": [
       "$\\displaystyle \\left[\\begin{array}{cccccccccccccc}0 & 1 & 0 & 0 & 0 & 0 & 0 & 0 & 0 & 0 & 0 & 0 & 0 & 0\\\\0 & 0 & 0 & 0 & 0 & 0 & 1 & 0 & 0 & 0 & 0 & 0 & 0 & 0\\\\0 & 0 & 0 & 0 & 0 & 0 & 0 & 0 & 0 & 0 & 0 & 0 & 1 & 0\\\\0 & 0 & 0 & 0 & 0 & 0 & 0 & 1 & 0 & 0 & 0 & 0 & 0 & ω^{OT}_1 b_{OT, 08, 01} b^\\dagger_{OT, 08, 01}\\\\0 & 0 & 0 & 0 & 0 & 0 & 0 & 0 & 1 & 0 & 0 & 0 & 0 & 0\\\\0 & 0 & 0 & 1 & 0 & 0 & 0 & 0 & 0 & 0 & 0 & 0 & 0 & 0\\\\0 & 0 & 0 & 0 & 0 & 0 & 0 & 0 & 0 & 0 & 1 & 0 & 0 & 0\\\\1 & 0 & 0 & 0 & 0 & 0 & 0 & 0 & 0 & 0 & 0 & 0 & 0 & 0\\\\0 & 0 & 0 & 0 & 0 & 0 & 0 & 0 & 0 & 1 & 0 & 0 & 0 & g^{OT}_{CS, 01} \\left(b^\\dagger_{OT, 08, 01} + b_{OT, 08, 01}\\right)\\\\0 & 0 & 1 & 0 & 0 & 0 & 0 & 0 & 0 & 0 & 0 & 0 & 0 & 0\\\\0 & 0 & 0 & 0 & 1 & 0 & 0 & 0 & 0 & 0 & 0 & 0 & 0 & 0\\\\0 & 0 & 0 & 0 & 0 & 1 & 0 & 0 & 0 & 0 & 0 & 0 & 0 & g^{OT}_{LE, 01} \\left(b^\\dagger_{OT, 08, 01} + b_{OT, 08, 01}\\right)\\\\0 & 0 & 0 & 0 & 0 & 0 & 0 & 0 & 0 & 0 & 0 & 1 & 0 & 0\\\\0 & 0 & 0 & 0 & 0 & 0 & 0 & 0 & 0 & 0 & 0 & 0 & 0 & 1\\end{array}\\right]$"
      ],
      "text/plain": [
       "Matrix([\n",
       "[0, 1, 0, 0, 0, 0, 0, 0, 0, 0, 0, 0, 0,                                                         0],\n",
       "[0, 0, 0, 0, 0, 0, 1, 0, 0, 0, 0, 0, 0,                                                         0],\n",
       "[0, 0, 0, 0, 0, 0, 0, 0, 0, 0, 0, 0, 1,                                                         0],\n",
       "[0, 0, 0, 0, 0, 0, 0, 1, 0, 0, 0, 0, 0,            ω^{OT}_1*b_{OT, 08, 01}*b^\\dagger_{OT, 08, 01}],\n",
       "[0, 0, 0, 0, 0, 0, 0, 0, 1, 0, 0, 0, 0,                                                         0],\n",
       "[0, 0, 0, 1, 0, 0, 0, 0, 0, 0, 0, 0, 0,                                                         0],\n",
       "[0, 0, 0, 0, 0, 0, 0, 0, 0, 0, 1, 0, 0,                                                         0],\n",
       "[1, 0, 0, 0, 0, 0, 0, 0, 0, 0, 0, 0, 0,                                                         0],\n",
       "[0, 0, 0, 0, 0, 0, 0, 0, 0, 1, 0, 0, 0, g^{OT}_{CS, 01}*(b^\\dagger_{OT, 08, 01} + b_{OT, 08, 01})],\n",
       "[0, 0, 1, 0, 0, 0, 0, 0, 0, 0, 0, 0, 0,                                                         0],\n",
       "[0, 0, 0, 0, 1, 0, 0, 0, 0, 0, 0, 0, 0,                                                         0],\n",
       "[0, 0, 0, 0, 0, 1, 0, 0, 0, 0, 0, 0, 0, g^{OT}_{LE, 01}*(b^\\dagger_{OT, 08, 01} + b_{OT, 08, 01})],\n",
       "[0, 0, 0, 0, 0, 0, 0, 0, 0, 0, 0, 1, 0,                                                         0],\n",
       "[0, 0, 0, 0, 0, 0, 0, 0, 0, 0, 0, 0, 0,                                                         1]])"
      ]
     },
     "metadata": {},
     "output_type": "display_data"
    },
    {
     "data": {
      "text/latex": [
       "$\\displaystyle \\left[\\begin{array}{cccccccccccccc}0 & 1 & 0 & 0 & 0 & 0 & 0 & 0 & 0 & 0 & 0 & 0 & 0 & 0\\\\0 & 0 & 0 & 0 & 0 & 0 & 0 & 1 & 0 & 0 & 0 & 0 & 0 & 0\\\\1 & 0 & 0 & 0 & 0 & 0 & 0 & 0 & 0 & 0 & 0 & 0 & 0 & 0\\\\0 & 0 & 0 & 0 & 0 & 0 & 0 & 0 & 0 & 0 & 0 & 1 & 0 & 0\\\\0 & 0 & 0 & 0 & 1 & 0 & 0 & 0 & 0 & 0 & 0 & 0 & 0 & 0\\\\0 & 0 & 1 & 0 & 0 & 0 & 0 & 0 & 0 & 0 & 0 & 0 & 0 & g^{OT}_{LE, 02} \\left(b^\\dagger_{OT, 08, 02} + b_{OT, 08, 02}\\right)\\\\0 & 0 & 0 & 0 & 0 & 0 & 0 & 0 & 0 & 0 & 0 & 0 & 1 & 0\\\\0 & 0 & 0 & 0 & 0 & 0 & 0 & 0 & 0 & 0 & 1 & 0 & 0 & ω^{OT}_2 b_{OT, 08, 02} b^\\dagger_{OT, 08, 02}\\\\0 & 0 & 0 & 0 & 0 & 1 & 0 & 0 & 0 & 0 & 0 & 0 & 0 & 0\\\\0 & 0 & 0 & 0 & 0 & 0 & 0 & 0 & 1 & 0 & 0 & 0 & 0 & g^{OT}_{CS, 02} \\left(b^\\dagger_{OT, 08, 02} + b_{OT, 08, 02}\\right)\\\\0 & 0 & 0 & 0 & 0 & 0 & 1 & 0 & 0 & 0 & 0 & 0 & 0 & 0\\\\0 & 0 & 0 & 1 & 0 & 0 & 0 & 0 & 0 & 0 & 0 & 0 & 0 & 0\\\\0 & 0 & 0 & 0 & 0 & 0 & 0 & 0 & 0 & 1 & 0 & 0 & 0 & 0\\\\0 & 0 & 0 & 0 & 0 & 0 & 0 & 0 & 0 & 0 & 0 & 0 & 0 & 1\\end{array}\\right]$"
      ],
      "text/plain": [
       "Matrix([\n",
       "[0, 1, 0, 0, 0, 0, 0, 0, 0, 0, 0, 0, 0,                                                         0],\n",
       "[0, 0, 0, 0, 0, 0, 0, 1, 0, 0, 0, 0, 0,                                                         0],\n",
       "[1, 0, 0, 0, 0, 0, 0, 0, 0, 0, 0, 0, 0,                                                         0],\n",
       "[0, 0, 0, 0, 0, 0, 0, 0, 0, 0, 0, 1, 0,                                                         0],\n",
       "[0, 0, 0, 0, 1, 0, 0, 0, 0, 0, 0, 0, 0,                                                         0],\n",
       "[0, 0, 1, 0, 0, 0, 0, 0, 0, 0, 0, 0, 0, g^{OT}_{LE, 02}*(b^\\dagger_{OT, 08, 02} + b_{OT, 08, 02})],\n",
       "[0, 0, 0, 0, 0, 0, 0, 0, 0, 0, 0, 0, 1,                                                         0],\n",
       "[0, 0, 0, 0, 0, 0, 0, 0, 0, 0, 1, 0, 0,            ω^{OT}_2*b_{OT, 08, 02}*b^\\dagger_{OT, 08, 02}],\n",
       "[0, 0, 0, 0, 0, 1, 0, 0, 0, 0, 0, 0, 0,                                                         0],\n",
       "[0, 0, 0, 0, 0, 0, 0, 0, 1, 0, 0, 0, 0, g^{OT}_{CS, 02}*(b^\\dagger_{OT, 08, 02} + b_{OT, 08, 02})],\n",
       "[0, 0, 0, 0, 0, 0, 1, 0, 0, 0, 0, 0, 0,                                                         0],\n",
       "[0, 0, 0, 1, 0, 0, 0, 0, 0, 0, 0, 0, 0,                                                         0],\n",
       "[0, 0, 0, 0, 0, 0, 0, 0, 0, 1, 0, 0, 0,                                                         0],\n",
       "[0, 0, 0, 0, 0, 0, 0, 0, 0, 0, 0, 0, 0,                                                         1]])"
      ]
     },
     "metadata": {},
     "output_type": "display_data"
    },
    {
     "data": {
      "text/latex": [
       "$\\displaystyle \\left[\\begin{array}{cccccccccccccc}0 & 1 & 0 & 0 & 0 & 0 & 0 & 0 & 0 & 0 & 0 & 0 & 0 & 0\\\\0 & 0 & 1 & 0 & 0 & 0 & 0 & 0 & 0 & 0 & 0 & 0 & 0 & 0\\\\0 & 0 & 0 & 0 & 0 & 0 & 0 & 0 & 0 & 0 & 0 & 0 & 1 & g^{OT}_{LE, 03} \\left(b^\\dagger_{OT, 08, 03} + b_{OT, 08, 03}\\right)\\\\0 & 0 & 0 & 0 & 0 & 0 & 0 & 0 & 0 & 0 & 1 & 0 & 0 & 0\\\\1 & 0 & 0 & 0 & 0 & 0 & 0 & 0 & 0 & 0 & 0 & 0 & 0 & 0\\\\0 & 0 & 0 & 1 & 0 & 0 & 0 & 0 & 0 & 0 & 0 & 0 & 0 & 0\\\\0 & 0 & 0 & 0 & 0 & 0 & 0 & 0 & 1 & 0 & 0 & 0 & 0 & 0\\\\0 & 0 & 0 & 0 & 0 & 0 & 0 & 0 & 0 & 1 & 0 & 0 & 0 & 0\\\\0 & 0 & 0 & 0 & 0 & 0 & 0 & 0 & 0 & 0 & 0 & 1 & 0 & g^{OT}_{CS, 03} \\left(b^\\dagger_{OT, 08, 03} + b_{OT, 08, 03}\\right)\\\\0 & 0 & 0 & 0 & 0 & 0 & 0 & 1 & 0 & 0 & 0 & 0 & 0 & 0\\\\0 & 0 & 0 & 0 & 1 & 0 & 0 & 0 & 0 & 0 & 0 & 0 & 0 & ω^{OT}_3 b_{OT, 08, 03} b^\\dagger_{OT, 08, 03}\\\\0 & 0 & 0 & 0 & 0 & 1 & 0 & 0 & 0 & 0 & 0 & 0 & 0 & 0\\\\0 & 0 & 0 & 0 & 0 & 0 & 1 & 0 & 0 & 0 & 0 & 0 & 0 & 0\\\\0 & 0 & 0 & 0 & 0 & 0 & 0 & 0 & 0 & 0 & 0 & 0 & 0 & 1\\end{array}\\right]$"
      ],
      "text/plain": [
       "Matrix([\n",
       "[0, 1, 0, 0, 0, 0, 0, 0, 0, 0, 0, 0, 0,                                                         0],\n",
       "[0, 0, 1, 0, 0, 0, 0, 0, 0, 0, 0, 0, 0,                                                         0],\n",
       "[0, 0, 0, 0, 0, 0, 0, 0, 0, 0, 0, 0, 1, g^{OT}_{LE, 03}*(b^\\dagger_{OT, 08, 03} + b_{OT, 08, 03})],\n",
       "[0, 0, 0, 0, 0, 0, 0, 0, 0, 0, 1, 0, 0,                                                         0],\n",
       "[1, 0, 0, 0, 0, 0, 0, 0, 0, 0, 0, 0, 0,                                                         0],\n",
       "[0, 0, 0, 1, 0, 0, 0, 0, 0, 0, 0, 0, 0,                                                         0],\n",
       "[0, 0, 0, 0, 0, 0, 0, 0, 1, 0, 0, 0, 0,                                                         0],\n",
       "[0, 0, 0, 0, 0, 0, 0, 0, 0, 1, 0, 0, 0,                                                         0],\n",
       "[0, 0, 0, 0, 0, 0, 0, 0, 0, 0, 0, 1, 0, g^{OT}_{CS, 03}*(b^\\dagger_{OT, 08, 03} + b_{OT, 08, 03})],\n",
       "[0, 0, 0, 0, 0, 0, 0, 1, 0, 0, 0, 0, 0,                                                         0],\n",
       "[0, 0, 0, 0, 1, 0, 0, 0, 0, 0, 0, 0, 0,            ω^{OT}_3*b_{OT, 08, 03}*b^\\dagger_{OT, 08, 03}],\n",
       "[0, 0, 0, 0, 0, 1, 0, 0, 0, 0, 0, 0, 0,                                                         0],\n",
       "[0, 0, 0, 0, 0, 0, 1, 0, 0, 0, 0, 0, 0,                                                         0],\n",
       "[0, 0, 0, 0, 0, 0, 0, 0, 0, 0, 0, 0, 0,                                                         1]])"
      ]
     },
     "metadata": {},
     "output_type": "display_data"
    },
    {
     "data": {
      "text/latex": [
       "$\\displaystyle \\left[\\begin{array}{cccccccccccccc}0 & 0 & 0 & 0 & 0 & 0 & 0 & 0 & 0 & 0 & 1 & 0 & 0 & 0\\\\0 & 0 & 1 & 0 & 0 & 0 & 0 & 0 & 0 & 0 & 0 & 0 & 0 & 0\\\\0 & 0 & 0 & 0 & 0 & 0 & 0 & 0 & 0 & 0 & 0 & 0 & 1 & 0\\\\0 & 0 & 0 & 0 & 0 & 1 & 0 & 0 & 0 & 0 & 0 & 0 & 0 & 0\\\\0 & 1 & 0 & 0 & 0 & 0 & 0 & 0 & 0 & 0 & 0 & 0 & 0 & ω^{OT}_4 b_{OT, 08, 04} b^\\dagger_{OT, 08, 04}\\\\0 & 0 & 0 & 0 & 0 & 0 & 0 & 0 & 0 & 0 & 0 & 1 & 0 & 0\\\\0 & 0 & 0 & 0 & 0 & 0 & 1 & 0 & 0 & 0 & 0 & 0 & 0 & 0\\\\0 & 0 & 0 & 0 & 1 & 0 & 0 & 0 & 0 & 0 & 0 & 0 & 0 & 0\\\\1 & 0 & 0 & 0 & 0 & 0 & 0 & 0 & 0 & 0 & 0 & 0 & 0 & 0\\\\0 & 0 & 0 & 0 & 0 & 0 & 0 & 0 & 0 & 1 & 0 & 0 & 0 & 0\\\\0 & 0 & 0 & 0 & 0 & 0 & 0 & 1 & 0 & 0 & 0 & 0 & 0 & 0\\\\0 & 0 & 0 & 1 & 0 & 0 & 0 & 0 & 0 & 0 & 0 & 0 & 0 & g^{OT}_{CS, 04} \\left(b^\\dagger_{OT, 08, 04} + b_{OT, 08, 04}\\right)\\\\0 & 0 & 0 & 0 & 0 & 0 & 0 & 0 & 1 & 0 & 0 & 0 & 0 & g^{OT}_{LE, 04} \\left(b^\\dagger_{OT, 08, 04} + b_{OT, 08, 04}\\right)\\\\0 & 0 & 0 & 0 & 0 & 0 & 0 & 0 & 0 & 0 & 0 & 0 & 0 & 1\\end{array}\\right]$"
      ],
      "text/plain": [
       "Matrix([\n",
       "[0, 0, 0, 0, 0, 0, 0, 0, 0, 0, 1, 0, 0,                                                         0],\n",
       "[0, 0, 1, 0, 0, 0, 0, 0, 0, 0, 0, 0, 0,                                                         0],\n",
       "[0, 0, 0, 0, 0, 0, 0, 0, 0, 0, 0, 0, 1,                                                         0],\n",
       "[0, 0, 0, 0, 0, 1, 0, 0, 0, 0, 0, 0, 0,                                                         0],\n",
       "[0, 1, 0, 0, 0, 0, 0, 0, 0, 0, 0, 0, 0,            ω^{OT}_4*b_{OT, 08, 04}*b^\\dagger_{OT, 08, 04}],\n",
       "[0, 0, 0, 0, 0, 0, 0, 0, 0, 0, 0, 1, 0,                                                         0],\n",
       "[0, 0, 0, 0, 0, 0, 1, 0, 0, 0, 0, 0, 0,                                                         0],\n",
       "[0, 0, 0, 0, 1, 0, 0, 0, 0, 0, 0, 0, 0,                                                         0],\n",
       "[1, 0, 0, 0, 0, 0, 0, 0, 0, 0, 0, 0, 0,                                                         0],\n",
       "[0, 0, 0, 0, 0, 0, 0, 0, 0, 1, 0, 0, 0,                                                         0],\n",
       "[0, 0, 0, 0, 0, 0, 0, 1, 0, 0, 0, 0, 0,                                                         0],\n",
       "[0, 0, 0, 1, 0, 0, 0, 0, 0, 0, 0, 0, 0, g^{OT}_{CS, 04}*(b^\\dagger_{OT, 08, 04} + b_{OT, 08, 04})],\n",
       "[0, 0, 0, 0, 0, 0, 0, 0, 1, 0, 0, 0, 0, g^{OT}_{LE, 04}*(b^\\dagger_{OT, 08, 04} + b_{OT, 08, 04})],\n",
       "[0, 0, 0, 0, 0, 0, 0, 0, 0, 0, 0, 0, 0,                                                         1]])"
      ]
     },
     "metadata": {},
     "output_type": "display_data"
    },
    {
     "data": {
      "text/latex": [
       "$\\displaystyle \\left[\\begin{array}{cccccccccccccc}0 & 0 & 0 & 0 & 0 & 0 & 0 & 0 & 0 & 0 & 0 & 0 & 1 & 0\\\\0 & 0 & 0 & 0 & 0 & 0 & 0 & 1 & 0 & 0 & 0 & 0 & 0 & ω^{OT}_5 b_{OT, 08, 05} b^\\dagger_{OT, 08, 05}\\\\0 & 0 & 0 & 0 & 0 & 0 & 0 & 0 & 0 & 1 & 0 & 0 & 0 & 0\\\\0 & 0 & 0 & 1 & 0 & 0 & 0 & 0 & 0 & 0 & 0 & 0 & 0 & g^{OT}_{CS, 05} \\left(b^\\dagger_{OT, 08, 05} + b_{OT, 08, 05}\\right)\\\\0 & 0 & 0 & 0 & 0 & 0 & 0 & 0 & 0 & 0 & 0 & 1 & 0 & 0\\\\0 & 0 & 0 & 0 & 0 & 0 & 0 & 0 & 0 & 0 & 1 & 0 & 0 & 0\\\\0 & 0 & 0 & 0 & 1 & 0 & 0 & 0 & 0 & 0 & 0 & 0 & 0 & 0\\\\0 & 0 & 0 & 0 & 0 & 0 & 1 & 0 & 0 & 0 & 0 & 0 & 0 & 0\\\\0 & 0 & 0 & 0 & 0 & 0 & 0 & 0 & 1 & 0 & 0 & 0 & 0 & g^{OT}_{LE, 05} \\left(b^\\dagger_{OT, 08, 05} + b_{OT, 08, 05}\\right)\\\\0 & 1 & 0 & 0 & 0 & 0 & 0 & 0 & 0 & 0 & 0 & 0 & 0 & 0\\\\0 & 0 & 0 & 0 & 0 & 1 & 0 & 0 & 0 & 0 & 0 & 0 & 0 & 0\\\\1 & 0 & 0 & 0 & 0 & 0 & 0 & 0 & 0 & 0 & 0 & 0 & 0 & 0\\\\0 & 0 & 1 & 0 & 0 & 0 & 0 & 0 & 0 & 0 & 0 & 0 & 0 & 0\\\\0 & 0 & 0 & 0 & 0 & 0 & 0 & 0 & 0 & 0 & 0 & 0 & 0 & 1\\end{array}\\right]$"
      ],
      "text/plain": [
       "Matrix([\n",
       "[0, 0, 0, 0, 0, 0, 0, 0, 0, 0, 0, 0, 1,                                                         0],\n",
       "[0, 0, 0, 0, 0, 0, 0, 1, 0, 0, 0, 0, 0,            ω^{OT}_5*b_{OT, 08, 05}*b^\\dagger_{OT, 08, 05}],\n",
       "[0, 0, 0, 0, 0, 0, 0, 0, 0, 1, 0, 0, 0,                                                         0],\n",
       "[0, 0, 0, 1, 0, 0, 0, 0, 0, 0, 0, 0, 0, g^{OT}_{CS, 05}*(b^\\dagger_{OT, 08, 05} + b_{OT, 08, 05})],\n",
       "[0, 0, 0, 0, 0, 0, 0, 0, 0, 0, 0, 1, 0,                                                         0],\n",
       "[0, 0, 0, 0, 0, 0, 0, 0, 0, 0, 1, 0, 0,                                                         0],\n",
       "[0, 0, 0, 0, 1, 0, 0, 0, 0, 0, 0, 0, 0,                                                         0],\n",
       "[0, 0, 0, 0, 0, 0, 1, 0, 0, 0, 0, 0, 0,                                                         0],\n",
       "[0, 0, 0, 0, 0, 0, 0, 0, 1, 0, 0, 0, 0, g^{OT}_{LE, 05}*(b^\\dagger_{OT, 08, 05} + b_{OT, 08, 05})],\n",
       "[0, 1, 0, 0, 0, 0, 0, 0, 0, 0, 0, 0, 0,                                                         0],\n",
       "[0, 0, 0, 0, 0, 1, 0, 0, 0, 0, 0, 0, 0,                                                         0],\n",
       "[1, 0, 0, 0, 0, 0, 0, 0, 0, 0, 0, 0, 0,                                                         0],\n",
       "[0, 0, 1, 0, 0, 0, 0, 0, 0, 0, 0, 0, 0,                                                         0],\n",
       "[0, 0, 0, 0, 0, 0, 0, 0, 0, 0, 0, 0, 0,                                                         1]])"
      ]
     },
     "metadata": {},
     "output_type": "display_data"
    },
    {
     "data": {
      "text/latex": [
       "$\\displaystyle \\left[\\begin{array}{cccccccccccccc}0 & 1 & 0 & 0 & 0 & 0 & 0 & 0 & 0 & 0 & 0 & 0 & 0 & 0\\\\0 & 0 & 0 & 0 & 1 & 0 & 0 & 0 & 0 & 0 & 0 & 0 & 0 & 0\\\\0 & 0 & 1 & 0 & 0 & 0 & 0 & 0 & 0 & 0 & 0 & 0 & 0 & 0\\\\0 & 0 & 0 & 0 & 0 & 0 & 1 & 0 & 0 & 0 & 0 & 0 & 0 & g^{OT}_{CS, 06} \\left(b^\\dagger_{OT, 08, 06} + b_{OT, 08, 06}\\right)\\\\0 & 0 & 0 & 0 & 0 & 1 & 0 & 0 & 0 & 0 & 0 & 0 & 0 & 0\\\\1 & 0 & 0 & 0 & 0 & 0 & 0 & 0 & 0 & 0 & 0 & 0 & 0 & 0\\\\0 & 0 & 0 & 1 & 0 & 0 & 0 & 0 & 0 & 0 & 0 & 0 & 0 & 0\\\\0 & 0 & 0 & 0 & 0 & 0 & 0 & 0 & 0 & 0 & 0 & 0 & 1 & ω^{OT}_6 b_{OT, 08, 06} b^\\dagger_{OT, 08, 06}\\\\0 & 0 & 0 & 0 & 0 & 0 & 0 & 0 & 1 & 0 & 0 & 0 & 0 & g^{OT}_{LE, 06} \\left(b^\\dagger_{OT, 08, 06} + b_{OT, 08, 06}\\right)\\\\0 & 0 & 0 & 0 & 0 & 0 & 0 & 0 & 0 & 1 & 0 & 0 & 0 & 0\\\\0 & 0 & 0 & 0 & 0 & 0 & 0 & 1 & 0 & 0 & 0 & 0 & 0 & 0\\\\0 & 0 & 0 & 0 & 0 & 0 & 0 & 0 & 0 & 0 & 0 & 1 & 0 & 0\\\\0 & 0 & 0 & 0 & 0 & 0 & 0 & 0 & 0 & 0 & 1 & 0 & 0 & 0\\\\0 & 0 & 0 & 0 & 0 & 0 & 0 & 0 & 0 & 0 & 0 & 0 & 0 & 1\\end{array}\\right]$"
      ],
      "text/plain": [
       "Matrix([\n",
       "[0, 1, 0, 0, 0, 0, 0, 0, 0, 0, 0, 0, 0,                                                         0],\n",
       "[0, 0, 0, 0, 1, 0, 0, 0, 0, 0, 0, 0, 0,                                                         0],\n",
       "[0, 0, 1, 0, 0, 0, 0, 0, 0, 0, 0, 0, 0,                                                         0],\n",
       "[0, 0, 0, 0, 0, 0, 1, 0, 0, 0, 0, 0, 0, g^{OT}_{CS, 06}*(b^\\dagger_{OT, 08, 06} + b_{OT, 08, 06})],\n",
       "[0, 0, 0, 0, 0, 1, 0, 0, 0, 0, 0, 0, 0,                                                         0],\n",
       "[1, 0, 0, 0, 0, 0, 0, 0, 0, 0, 0, 0, 0,                                                         0],\n",
       "[0, 0, 0, 1, 0, 0, 0, 0, 0, 0, 0, 0, 0,                                                         0],\n",
       "[0, 0, 0, 0, 0, 0, 0, 0, 0, 0, 0, 0, 1,            ω^{OT}_6*b_{OT, 08, 06}*b^\\dagger_{OT, 08, 06}],\n",
       "[0, 0, 0, 0, 0, 0, 0, 0, 1, 0, 0, 0, 0, g^{OT}_{LE, 06}*(b^\\dagger_{OT, 08, 06} + b_{OT, 08, 06})],\n",
       "[0, 0, 0, 0, 0, 0, 0, 0, 0, 1, 0, 0, 0,                                                         0],\n",
       "[0, 0, 0, 0, 0, 0, 0, 1, 0, 0, 0, 0, 0,                                                         0],\n",
       "[0, 0, 0, 0, 0, 0, 0, 0, 0, 0, 0, 1, 0,                                                         0],\n",
       "[0, 0, 0, 0, 0, 0, 0, 0, 0, 0, 1, 0, 0,                                                         0],\n",
       "[0, 0, 0, 0, 0, 0, 0, 0, 0, 0, 0, 0, 0,                                                         1]])"
      ]
     },
     "metadata": {},
     "output_type": "display_data"
    },
    {
     "data": {
      "text/latex": [
       "$\\displaystyle \\left[\\begin{array}{ccccccccccccc}1 & 0 & 0 & 0 & 0 & 0 & 0 & 0 & 0 & 0 & 0 & 0 & 0\\\\0 & 0 & 0 & 0 & 0 & 1 & 0 & 0 & 0 & 0 & 0 & 0 & 0\\\\0 & 1 & 0 & 0 & 0 & 0 & 0 & 0 & 0 & 0 & 0 & 0 & 0\\\\0 & 0 & 0 & 0 & 0 & 0 & 0 & 0 & 0 & 1 & 0 & 0 & 0\\\\0 & 0 & 0 & 0 & 0 & 0 & 0 & 1 & 0 & 0 & 0 & 0 & 0\\\\0 & 0 & 0 & 0 & 1 & 0 & 0 & 0 & 0 & 0 & 0 & 0 & 0\\\\0 & 0 & 0 & 0 & 0 & 0 & 0 & 0 & 0 & 0 & 0 & g^{OT}_{CS, 07} \\left(b^\\dagger_{OT, 08, 07} + b_{OT, 08, 07}\\right) + ε^{{CS}}_{08} & g^{OT}_{CS, 08}\\\\0 & 0 & 0 & 0 & 0 & 0 & 1 & 0 & 0 & 0 & 0 & 0 & 0\\\\0 & 0 & 0 & 0 & 0 & 0 & 0 & 0 & 0 & 0 & 0 & g^{OT}_{LE, 07} \\left(b^\\dagger_{OT, 08, 07} + b_{OT, 08, 07}\\right) & g^{OT}_{LE, 08}\\\\0 & 0 & 0 & 0 & 0 & 0 & 0 & 0 & 1 & 0 & 0 & 0 & 0\\\\0 & 0 & 0 & 1 & 0 & 0 & 0 & 0 & 0 & 0 & 0 & 0 & 0\\\\0 & 0 & 0 & 0 & 0 & 0 & 0 & 0 & 0 & 0 & 1 & 0 & 0\\\\0 & 0 & 1 & 0 & 0 & 0 & 0 & 0 & 0 & 0 & 0 & ω^{OT}_7 b_{OT, 08, 07} b^\\dagger_{OT, 08, 07} & 0\\\\0 & 0 & 0 & 0 & 0 & 0 & 0 & 0 & 0 & 0 & 0 & 1 & 0\\end{array}\\right]$"
      ],
      "text/plain": [
       "Matrix([\n",
       "[1, 0, 0, 0, 0, 0, 0, 0, 0, 0, 0,                                                                         0,               0],\n",
       "[0, 0, 0, 0, 0, 1, 0, 0, 0, 0, 0,                                                                         0,               0],\n",
       "[0, 1, 0, 0, 0, 0, 0, 0, 0, 0, 0,                                                                         0,               0],\n",
       "[0, 0, 0, 0, 0, 0, 0, 0, 0, 1, 0,                                                                         0,               0],\n",
       "[0, 0, 0, 0, 0, 0, 0, 1, 0, 0, 0,                                                                         0,               0],\n",
       "[0, 0, 0, 0, 1, 0, 0, 0, 0, 0, 0,                                                                         0,               0],\n",
       "[0, 0, 0, 0, 0, 0, 0, 0, 0, 0, 0, g^{OT}_{CS, 07}*(b^\\dagger_{OT, 08, 07} + b_{OT, 08, 07}) + ε^{{CS}}_{08}, g^{OT}_{CS, 08}],\n",
       "[0, 0, 0, 0, 0, 0, 1, 0, 0, 0, 0,                                                                         0,               0],\n",
       "[0, 0, 0, 0, 0, 0, 0, 0, 0, 0, 0,                 g^{OT}_{LE, 07}*(b^\\dagger_{OT, 08, 07} + b_{OT, 08, 07}), g^{OT}_{LE, 08}],\n",
       "[0, 0, 0, 0, 0, 0, 0, 0, 1, 0, 0,                                                                         0,               0],\n",
       "[0, 0, 0, 1, 0, 0, 0, 0, 0, 0, 0,                                                                         0,               0],\n",
       "[0, 0, 0, 0, 0, 0, 0, 0, 0, 0, 1,                                                                         0,               0],\n",
       "[0, 0, 1, 0, 0, 0, 0, 0, 0, 0, 0,                            ω^{OT}_7*b_{OT, 08, 07}*b^\\dagger_{OT, 08, 07},               0],\n",
       "[0, 0, 0, 0, 0, 0, 0, 0, 0, 0, 0,                                                                         1,               0]])"
      ]
     },
     "metadata": {},
     "output_type": "display_data"
    },
    {
     "data": {
      "text/latex": [
       "$\\displaystyle \\left[\\begin{array}{cccccccccccc}1 & 0 & 0 & 0 & 0 & 0 & 0 & 0 & 0 & 0 & 0 & 0\\\\0 & 0 & 0 & 1 & 0 & 0 & 0 & 0 & 0 & 0 & 0 & 0\\\\0 & 0 & 0 & 0 & 0 & 0 & 1 & 0 & 0 & 0 & 0 & ω^{OT}_8 b_{OT, 08, 08} b^\\dagger_{OT, 08, 08}\\\\0 & 0 & 1 & 0 & 0 & 0 & 0 & 0 & 0 & 0 & 0 & 0\\\\0 & 0 & 0 & 0 & 1 & 0 & 0 & 0 & 0 & 0 & 0 & 0\\\\0 & 0 & 0 & 0 & 0 & 1 & 0 & 0 & 0 & 0 & 0 & 0\\\\0 & 0 & 0 & 0 & 0 & 0 & 0 & 0 & 1 & 0 & 0 & 0\\\\0 & 0 & 0 & 0 & 0 & 0 & 0 & 0 & 0 & 0 & 1 & 0\\\\0 & 1 & 0 & 0 & 0 & 0 & 0 & 0 & 0 & 0 & 0 & 0\\\\0 & 0 & 0 & 0 & 0 & 0 & 0 & 0 & 0 & 1 & 0 & 0\\\\0 & 0 & 0 & 0 & 0 & 0 & 0 & 1 & 0 & 0 & 0 & 0\\\\0 & 0 & 0 & 0 & 0 & 0 & 0 & 0 & 0 & 0 & 0 & 1\\\\0 & 0 & 0 & 0 & 0 & 0 & 0 & 0 & 0 & 0 & 0 & b^\\dagger_{OT, 08, 08} + b_{OT, 08, 08}\\end{array}\\right]$"
      ],
      "text/plain": [
       "Matrix([\n",
       "[1, 0, 0, 0, 0, 0, 0, 0, 0, 0, 0,                                              0],\n",
       "[0, 0, 0, 1, 0, 0, 0, 0, 0, 0, 0,                                              0],\n",
       "[0, 0, 0, 0, 0, 0, 1, 0, 0, 0, 0, ω^{OT}_8*b_{OT, 08, 08}*b^\\dagger_{OT, 08, 08}],\n",
       "[0, 0, 1, 0, 0, 0, 0, 0, 0, 0, 0,                                              0],\n",
       "[0, 0, 0, 0, 1, 0, 0, 0, 0, 0, 0,                                              0],\n",
       "[0, 0, 0, 0, 0, 1, 0, 0, 0, 0, 0,                                              0],\n",
       "[0, 0, 0, 0, 0, 0, 0, 0, 1, 0, 0,                                              0],\n",
       "[0, 0, 0, 0, 0, 0, 0, 0, 0, 0, 1,                                              0],\n",
       "[0, 1, 0, 0, 0, 0, 0, 0, 0, 0, 0,                                              0],\n",
       "[0, 0, 0, 0, 0, 0, 0, 0, 0, 1, 0,                                              0],\n",
       "[0, 0, 0, 0, 0, 0, 0, 1, 0, 0, 0,                                              0],\n",
       "[0, 0, 0, 0, 0, 0, 0, 0, 0, 0, 0,                                              1],\n",
       "[0, 0, 0, 0, 0, 0, 0, 0, 0, 0, 0,        b^\\dagger_{OT, 08, 08} + b_{OT, 08, 08}]])"
      ]
     },
     "metadata": {},
     "output_type": "display_data"
    },
    {
     "data": {
      "text/latex": [
       "$\\displaystyle \\left[\\begin{array}{cccccccccccc}0 & 0 & 0 & 0 & 0 & 0 & 0 & 0 & 1 & 0 & 0 & 0\\\\0 & 0 & 0 & 0 & 0 & 0 & 0 & 1 & 0 & 0 & 0 & g^{OT}_{CS, 01} \\left(b^\\dagger_{OT, 09, 01} + b_{OT, 09, 01}\\right)\\\\0 & 0 & 0 & 0 & 0 & 0 & 1 & 0 & 0 & 0 & 0 & 0\\\\0 & 0 & 0 & 1 & 0 & 0 & 0 & 0 & 0 & 0 & 0 & 0\\\\0 & 0 & 0 & 0 & 1 & 0 & 0 & 0 & 0 & 0 & 0 & 0\\\\0 & 0 & 0 & 0 & 0 & 0 & 0 & 0 & 0 & 1 & 0 & 0\\\\0 & 0 & 1 & 0 & 0 & 0 & 0 & 0 & 0 & 0 & 0 & ω^{OT}_1 b_{OT, 09, 01} b^\\dagger_{OT, 09, 01}\\\\0 & 0 & 0 & 0 & 0 & 1 & 0 & 0 & 0 & 0 & 0 & 0\\\\0 & 0 & 0 & 0 & 0 & 0 & 0 & 0 & 0 & 0 & 1 & 0\\\\1 & 0 & 0 & 0 & 0 & 0 & 0 & 0 & 0 & 0 & 0 & 0\\\\0 & 1 & 0 & 0 & 0 & 0 & 0 & 0 & 0 & 0 & 0 & g^{OT}_{LE, 01} \\left(b^\\dagger_{OT, 09, 01} + b_{OT, 09, 01}\\right)\\\\0 & 0 & 0 & 0 & 0 & 0 & 0 & 0 & 0 & 0 & 0 & 1\\end{array}\\right]$"
      ],
      "text/plain": [
       "Matrix([\n",
       "[0, 0, 0, 0, 0, 0, 0, 0, 1, 0, 0,                                                         0],\n",
       "[0, 0, 0, 0, 0, 0, 0, 1, 0, 0, 0, g^{OT}_{CS, 01}*(b^\\dagger_{OT, 09, 01} + b_{OT, 09, 01})],\n",
       "[0, 0, 0, 0, 0, 0, 1, 0, 0, 0, 0,                                                         0],\n",
       "[0, 0, 0, 1, 0, 0, 0, 0, 0, 0, 0,                                                         0],\n",
       "[0, 0, 0, 0, 1, 0, 0, 0, 0, 0, 0,                                                         0],\n",
       "[0, 0, 0, 0, 0, 0, 0, 0, 0, 1, 0,                                                         0],\n",
       "[0, 0, 1, 0, 0, 0, 0, 0, 0, 0, 0,            ω^{OT}_1*b_{OT, 09, 01}*b^\\dagger_{OT, 09, 01}],\n",
       "[0, 0, 0, 0, 0, 1, 0, 0, 0, 0, 0,                                                         0],\n",
       "[0, 0, 0, 0, 0, 0, 0, 0, 0, 0, 1,                                                         0],\n",
       "[1, 0, 0, 0, 0, 0, 0, 0, 0, 0, 0,                                                         0],\n",
       "[0, 1, 0, 0, 0, 0, 0, 0, 0, 0, 0, g^{OT}_{LE, 01}*(b^\\dagger_{OT, 09, 01} + b_{OT, 09, 01})],\n",
       "[0, 0, 0, 0, 0, 0, 0, 0, 0, 0, 0,                                                         1]])"
      ]
     },
     "metadata": {},
     "output_type": "display_data"
    },
    {
     "data": {
      "text/latex": [
       "$\\displaystyle \\left[\\begin{array}{cccccccccccc}0 & 0 & 0 & 0 & 0 & 0 & 0 & 0 & 0 & 0 & 1 & 0\\\\0 & 0 & 0 & 0 & 0 & 0 & 1 & 0 & 0 & 0 & 0 & g^{OT}_{LE, 02} \\left(b^\\dagger_{OT, 09, 02} + b_{OT, 09, 02}\\right)\\\\1 & 0 & 0 & 0 & 0 & 0 & 0 & 0 & 0 & 0 & 0 & ω^{OT}_2 b_{OT, 09, 02} b^\\dagger_{OT, 09, 02}\\\\0 & 0 & 0 & 0 & 0 & 1 & 0 & 0 & 0 & 0 & 0 & 0\\\\0 & 1 & 0 & 0 & 0 & 0 & 0 & 0 & 0 & 0 & 0 & 0\\\\0 & 0 & 1 & 0 & 0 & 0 & 0 & 0 & 0 & 0 & 0 & 0\\\\0 & 0 & 0 & 0 & 0 & 0 & 0 & 0 & 1 & 0 & 0 & 0\\\\0 & 0 & 0 & 0 & 0 & 0 & 0 & 0 & 0 & 1 & 0 & g^{OT}_{CS, 02} \\left(b^\\dagger_{OT, 09, 02} + b_{OT, 09, 02}\\right)\\\\0 & 0 & 0 & 1 & 0 & 0 & 0 & 0 & 0 & 0 & 0 & 0\\\\0 & 0 & 0 & 0 & 0 & 0 & 0 & 1 & 0 & 0 & 0 & 0\\\\0 & 0 & 0 & 0 & 1 & 0 & 0 & 0 & 0 & 0 & 0 & 0\\\\0 & 0 & 0 & 0 & 0 & 0 & 0 & 0 & 0 & 0 & 0 & 1\\end{array}\\right]$"
      ],
      "text/plain": [
       "Matrix([\n",
       "[0, 0, 0, 0, 0, 0, 0, 0, 0, 0, 1,                                                         0],\n",
       "[0, 0, 0, 0, 0, 0, 1, 0, 0, 0, 0, g^{OT}_{LE, 02}*(b^\\dagger_{OT, 09, 02} + b_{OT, 09, 02})],\n",
       "[1, 0, 0, 0, 0, 0, 0, 0, 0, 0, 0,            ω^{OT}_2*b_{OT, 09, 02}*b^\\dagger_{OT, 09, 02}],\n",
       "[0, 0, 0, 0, 0, 1, 0, 0, 0, 0, 0,                                                         0],\n",
       "[0, 1, 0, 0, 0, 0, 0, 0, 0, 0, 0,                                                         0],\n",
       "[0, 0, 1, 0, 0, 0, 0, 0, 0, 0, 0,                                                         0],\n",
       "[0, 0, 0, 0, 0, 0, 0, 0, 1, 0, 0,                                                         0],\n",
       "[0, 0, 0, 0, 0, 0, 0, 0, 0, 1, 0, g^{OT}_{CS, 02}*(b^\\dagger_{OT, 09, 02} + b_{OT, 09, 02})],\n",
       "[0, 0, 0, 1, 0, 0, 0, 0, 0, 0, 0,                                                         0],\n",
       "[0, 0, 0, 0, 0, 0, 0, 1, 0, 0, 0,                                                         0],\n",
       "[0, 0, 0, 0, 1, 0, 0, 0, 0, 0, 0,                                                         0],\n",
       "[0, 0, 0, 0, 0, 0, 0, 0, 0, 0, 0,                                                         1]])"
      ]
     },
     "metadata": {},
     "output_type": "display_data"
    },
    {
     "data": {
      "text/latex": [
       "$\\displaystyle \\left[\\begin{array}{cccccccccccc}0 & 0 & 0 & 0 & 0 & 0 & 0 & 0 & 1 & 0 & 0 & ω^{OT}_3 b_{OT, 09, 03} b^\\dagger_{OT, 09, 03}\\\\0 & 1 & 0 & 0 & 0 & 0 & 0 & 0 & 0 & 0 & 0 & 0\\\\0 & 0 & 0 & 0 & 0 & 1 & 0 & 0 & 0 & 0 & 0 & 0\\\\0 & 0 & 0 & 0 & 1 & 0 & 0 & 0 & 0 & 0 & 0 & 0\\\\0 & 0 & 0 & 1 & 0 & 0 & 0 & 0 & 0 & 0 & 0 & 0\\\\0 & 0 & 1 & 0 & 0 & 0 & 0 & 0 & 0 & 0 & 0 & 0\\\\0 & 0 & 0 & 0 & 0 & 0 & 0 & 0 & 0 & 0 & 1 & g^{OT}_{LE, 03} \\left(b^\\dagger_{OT, 09, 03} + b_{OT, 09, 03}\\right)\\\\0 & 0 & 0 & 0 & 0 & 0 & 1 & 0 & 0 & 0 & 0 & 0\\\\0 & 0 & 0 & 0 & 0 & 0 & 0 & 0 & 0 & 1 & 0 & 0\\\\1 & 0 & 0 & 0 & 0 & 0 & 0 & 0 & 0 & 0 & 0 & g^{OT}_{CS, 03} \\left(b^\\dagger_{OT, 09, 03} + b_{OT, 09, 03}\\right)\\\\0 & 0 & 0 & 0 & 0 & 0 & 0 & 1 & 0 & 0 & 0 & 0\\\\0 & 0 & 0 & 0 & 0 & 0 & 0 & 0 & 0 & 0 & 0 & 1\\end{array}\\right]$"
      ],
      "text/plain": [
       "Matrix([\n",
       "[0, 0, 0, 0, 0, 0, 0, 0, 1, 0, 0,            ω^{OT}_3*b_{OT, 09, 03}*b^\\dagger_{OT, 09, 03}],\n",
       "[0, 1, 0, 0, 0, 0, 0, 0, 0, 0, 0,                                                         0],\n",
       "[0, 0, 0, 0, 0, 1, 0, 0, 0, 0, 0,                                                         0],\n",
       "[0, 0, 0, 0, 1, 0, 0, 0, 0, 0, 0,                                                         0],\n",
       "[0, 0, 0, 1, 0, 0, 0, 0, 0, 0, 0,                                                         0],\n",
       "[0, 0, 1, 0, 0, 0, 0, 0, 0, 0, 0,                                                         0],\n",
       "[0, 0, 0, 0, 0, 0, 0, 0, 0, 0, 1, g^{OT}_{LE, 03}*(b^\\dagger_{OT, 09, 03} + b_{OT, 09, 03})],\n",
       "[0, 0, 0, 0, 0, 0, 1, 0, 0, 0, 0,                                                         0],\n",
       "[0, 0, 0, 0, 0, 0, 0, 0, 0, 1, 0,                                                         0],\n",
       "[1, 0, 0, 0, 0, 0, 0, 0, 0, 0, 0, g^{OT}_{CS, 03}*(b^\\dagger_{OT, 09, 03} + b_{OT, 09, 03})],\n",
       "[0, 0, 0, 0, 0, 0, 0, 1, 0, 0, 0,                                                         0],\n",
       "[0, 0, 0, 0, 0, 0, 0, 0, 0, 0, 0,                                                         1]])"
      ]
     },
     "metadata": {},
     "output_type": "display_data"
    },
    {
     "data": {
      "text/latex": [
       "$\\displaystyle \\left[\\begin{array}{cccccccccccc}0 & 0 & 0 & 0 & 0 & 0 & 0 & 0 & 1 & 0 & 0 & g^{OT}_{CS, 04} \\left(b^\\dagger_{OT, 09, 04} + b_{OT, 09, 04}\\right)\\\\0 & 1 & 0 & 0 & 0 & 0 & 0 & 0 & 0 & 0 & 0 & 0\\\\0 & 0 & 0 & 0 & 0 & 0 & 0 & 1 & 0 & 0 & 0 & 0\\\\0 & 0 & 0 & 0 & 0 & 0 & 0 & 0 & 0 & 0 & 1 & 0\\\\0 & 0 & 0 & 0 & 0 & 0 & 0 & 0 & 0 & 1 & 0 & 0\\\\0 & 0 & 0 & 1 & 0 & 0 & 0 & 0 & 0 & 0 & 0 & 0\\\\0 & 0 & 0 & 0 & 0 & 1 & 0 & 0 & 0 & 0 & 0 & 0\\\\0 & 0 & 0 & 0 & 0 & 0 & 1 & 0 & 0 & 0 & 0 & 0\\\\0 & 0 & 0 & 0 & 1 & 0 & 0 & 0 & 0 & 0 & 0 & ω^{OT}_4 b_{OT, 09, 04} b^\\dagger_{OT, 09, 04}\\\\0 & 0 & 1 & 0 & 0 & 0 & 0 & 0 & 0 & 0 & 0 & 0\\\\1 & 0 & 0 & 0 & 0 & 0 & 0 & 0 & 0 & 0 & 0 & g^{OT}_{LE, 04} \\left(b^\\dagger_{OT, 09, 04} + b_{OT, 09, 04}\\right)\\\\0 & 0 & 0 & 0 & 0 & 0 & 0 & 0 & 0 & 0 & 0 & 1\\end{array}\\right]$"
      ],
      "text/plain": [
       "Matrix([\n",
       "[0, 0, 0, 0, 0, 0, 0, 0, 1, 0, 0, g^{OT}_{CS, 04}*(b^\\dagger_{OT, 09, 04} + b_{OT, 09, 04})],\n",
       "[0, 1, 0, 0, 0, 0, 0, 0, 0, 0, 0,                                                         0],\n",
       "[0, 0, 0, 0, 0, 0, 0, 1, 0, 0, 0,                                                         0],\n",
       "[0, 0, 0, 0, 0, 0, 0, 0, 0, 0, 1,                                                         0],\n",
       "[0, 0, 0, 0, 0, 0, 0, 0, 0, 1, 0,                                                         0],\n",
       "[0, 0, 0, 1, 0, 0, 0, 0, 0, 0, 0,                                                         0],\n",
       "[0, 0, 0, 0, 0, 1, 0, 0, 0, 0, 0,                                                         0],\n",
       "[0, 0, 0, 0, 0, 0, 1, 0, 0, 0, 0,                                                         0],\n",
       "[0, 0, 0, 0, 1, 0, 0, 0, 0, 0, 0,            ω^{OT}_4*b_{OT, 09, 04}*b^\\dagger_{OT, 09, 04}],\n",
       "[0, 0, 1, 0, 0, 0, 0, 0, 0, 0, 0,                                                         0],\n",
       "[1, 0, 0, 0, 0, 0, 0, 0, 0, 0, 0, g^{OT}_{LE, 04}*(b^\\dagger_{OT, 09, 04} + b_{OT, 09, 04})],\n",
       "[0, 0, 0, 0, 0, 0, 0, 0, 0, 0, 0,                                                         1]])"
      ]
     },
     "metadata": {},
     "output_type": "display_data"
    },
    {
     "data": {
      "text/latex": [
       "$\\displaystyle \\left[\\begin{array}{cccccccccccc}0 & 1 & 0 & 0 & 0 & 0 & 0 & 0 & 0 & 0 & 0 & g^{OT}_{LE, 05} \\left(b^\\dagger_{OT, 09, 05} + b_{OT, 09, 05}\\right)\\\\0 & 0 & 0 & 0 & 0 & 0 & 0 & 0 & 1 & 0 & 0 & 0\\\\0 & 0 & 1 & 0 & 0 & 0 & 0 & 0 & 0 & 0 & 0 & 0\\\\0 & 0 & 0 & 0 & 1 & 0 & 0 & 0 & 0 & 0 & 0 & 0\\\\0 & 0 & 0 & 1 & 0 & 0 & 0 & 0 & 0 & 0 & 0 & ω^{OT}_5 b_{OT, 09, 05} b^\\dagger_{OT, 09, 05}\\\\0 & 0 & 0 & 0 & 0 & 0 & 1 & 0 & 0 & 0 & 0 & 0\\\\1 & 0 & 0 & 0 & 0 & 0 & 0 & 0 & 0 & 0 & 0 & 0\\\\0 & 0 & 0 & 0 & 0 & 0 & 0 & 0 & 0 & 1 & 0 & 0\\\\0 & 0 & 0 & 0 & 0 & 1 & 0 & 0 & 0 & 0 & 0 & g^{OT}_{CS, 05} \\left(b^\\dagger_{OT, 09, 05} + b_{OT, 09, 05}\\right)\\\\0 & 0 & 0 & 0 & 0 & 0 & 0 & 1 & 0 & 0 & 0 & 0\\\\0 & 0 & 0 & 0 & 0 & 0 & 0 & 0 & 0 & 0 & 1 & 0\\\\0 & 0 & 0 & 0 & 0 & 0 & 0 & 0 & 0 & 0 & 0 & 1\\end{array}\\right]$"
      ],
      "text/plain": [
       "Matrix([\n",
       "[0, 1, 0, 0, 0, 0, 0, 0, 0, 0, 0, g^{OT}_{LE, 05}*(b^\\dagger_{OT, 09, 05} + b_{OT, 09, 05})],\n",
       "[0, 0, 0, 0, 0, 0, 0, 0, 1, 0, 0,                                                         0],\n",
       "[0, 0, 1, 0, 0, 0, 0, 0, 0, 0, 0,                                                         0],\n",
       "[0, 0, 0, 0, 1, 0, 0, 0, 0, 0, 0,                                                         0],\n",
       "[0, 0, 0, 1, 0, 0, 0, 0, 0, 0, 0,            ω^{OT}_5*b_{OT, 09, 05}*b^\\dagger_{OT, 09, 05}],\n",
       "[0, 0, 0, 0, 0, 0, 1, 0, 0, 0, 0,                                                         0],\n",
       "[1, 0, 0, 0, 0, 0, 0, 0, 0, 0, 0,                                                         0],\n",
       "[0, 0, 0, 0, 0, 0, 0, 0, 0, 1, 0,                                                         0],\n",
       "[0, 0, 0, 0, 0, 1, 0, 0, 0, 0, 0, g^{OT}_{CS, 05}*(b^\\dagger_{OT, 09, 05} + b_{OT, 09, 05})],\n",
       "[0, 0, 0, 0, 0, 0, 0, 1, 0, 0, 0,                                                         0],\n",
       "[0, 0, 0, 0, 0, 0, 0, 0, 0, 0, 1,                                                         0],\n",
       "[0, 0, 0, 0, 0, 0, 0, 0, 0, 0, 0,                                                         1]])"
      ]
     },
     "metadata": {},
     "output_type": "display_data"
    },
    {
     "data": {
      "text/latex": [
       "$\\displaystyle \\left[\\begin{array}{cccccccccccc}0 & 0 & 0 & 0 & 1 & 0 & 0 & 0 & 0 & 0 & 0 & 0\\\\0 & 1 & 0 & 0 & 0 & 0 & 0 & 0 & 0 & 0 & 0 & g^{OT}_{LE, 06} \\left(b^\\dagger_{OT, 09, 06} + b_{OT, 09, 06}\\right)\\\\0 & 0 & 0 & 0 & 0 & 0 & 0 & 0 & 0 & 1 & 0 & 0\\\\0 & 0 & 0 & 0 & 0 & 0 & 0 & 0 & 0 & 0 & 1 & ω^{OT}_6 b_{OT, 09, 06} b^\\dagger_{OT, 09, 06}\\\\0 & 0 & 0 & 1 & 0 & 0 & 0 & 0 & 0 & 0 & 0 & 0\\\\0 & 0 & 0 & 0 & 0 & 0 & 0 & 0 & 1 & 0 & 0 & g^{OT}_{CS, 06} \\left(b^\\dagger_{OT, 09, 06} + b_{OT, 09, 06}\\right)\\\\0 & 0 & 0 & 0 & 0 & 0 & 0 & 1 & 0 & 0 & 0 & 0\\\\1 & 0 & 0 & 0 & 0 & 0 & 0 & 0 & 0 & 0 & 0 & 0\\\\0 & 0 & 1 & 0 & 0 & 0 & 0 & 0 & 0 & 0 & 0 & 0\\\\0 & 0 & 0 & 0 & 0 & 0 & 1 & 0 & 0 & 0 & 0 & 0\\\\0 & 0 & 0 & 0 & 0 & 1 & 0 & 0 & 0 & 0 & 0 & 0\\\\0 & 0 & 0 & 0 & 0 & 0 & 0 & 0 & 0 & 0 & 0 & 1\\end{array}\\right]$"
      ],
      "text/plain": [
       "Matrix([\n",
       "[0, 0, 0, 0, 1, 0, 0, 0, 0, 0, 0,                                                         0],\n",
       "[0, 1, 0, 0, 0, 0, 0, 0, 0, 0, 0, g^{OT}_{LE, 06}*(b^\\dagger_{OT, 09, 06} + b_{OT, 09, 06})],\n",
       "[0, 0, 0, 0, 0, 0, 0, 0, 0, 1, 0,                                                         0],\n",
       "[0, 0, 0, 0, 0, 0, 0, 0, 0, 0, 1,            ω^{OT}_6*b_{OT, 09, 06}*b^\\dagger_{OT, 09, 06}],\n",
       "[0, 0, 0, 1, 0, 0, 0, 0, 0, 0, 0,                                                         0],\n",
       "[0, 0, 0, 0, 0, 0, 0, 0, 1, 0, 0, g^{OT}_{CS, 06}*(b^\\dagger_{OT, 09, 06} + b_{OT, 09, 06})],\n",
       "[0, 0, 0, 0, 0, 0, 0, 1, 0, 0, 0,                                                         0],\n",
       "[1, 0, 0, 0, 0, 0, 0, 0, 0, 0, 0,                                                         0],\n",
       "[0, 0, 1, 0, 0, 0, 0, 0, 0, 0, 0,                                                         0],\n",
       "[0, 0, 0, 0, 0, 0, 1, 0, 0, 0, 0,                                                         0],\n",
       "[0, 0, 0, 0, 0, 1, 0, 0, 0, 0, 0,                                                         0],\n",
       "[0, 0, 0, 0, 0, 0, 0, 0, 0, 0, 0,                                                         1]])"
      ]
     },
     "metadata": {},
     "output_type": "display_data"
    },
    {
     "data": {
      "text/latex": [
       "$\\displaystyle \\left[\\begin{array}{ccccccccccc}0 & 0 & 0 & 0 & 0 & 0 & 1 & 0 & 0 & 0 & 0\\\\0 & 0 & 0 & 0 & 0 & 0 & 0 & 0 & 0 & g^{OT}_{LE, 07} \\left(b^\\dagger_{OT, 09, 07} + b_{OT, 09, 07}\\right) & g^{OT}_{LE, 08}\\\\1 & 0 & 0 & 0 & 0 & 0 & 0 & 0 & 0 & 0 & 0\\\\0 & 0 & 1 & 0 & 0 & 0 & 0 & 0 & 0 & 0 & 0\\\\0 & 0 & 0 & 0 & 0 & 0 & 0 & 0 & 1 & 0 & 0\\\\0 & 0 & 0 & 0 & 0 & 0 & 0 & 1 & 0 & 0 & 0\\\\0 & 0 & 0 & 0 & 0 & 1 & 0 & 0 & 0 & 0 & 0\\\\0 & 0 & 0 & 0 & 1 & 0 & 0 & 0 & 0 & 0 & 0\\\\0 & 0 & 0 & 0 & 0 & 0 & 0 & 0 & 0 & g^{OT}_{CS, 07} \\left(b^\\dagger_{OT, 09, 07} + b_{OT, 09, 07}\\right) + ε^{{CS}}_{09} & g^{OT}_{CS, 08}\\\\0 & 0 & 0 & 1 & 0 & 0 & 0 & 0 & 0 & 0 & 0\\\\0 & 1 & 0 & 0 & 0 & 0 & 0 & 0 & 0 & ω^{OT}_7 b_{OT, 09, 07} b^\\dagger_{OT, 09, 07} & 0\\\\0 & 0 & 0 & 0 & 0 & 0 & 0 & 0 & 0 & 1 & 0\\end{array}\\right]$"
      ],
      "text/plain": [
       "Matrix([\n",
       "[0, 0, 0, 0, 0, 0, 1, 0, 0,                                                                         0,               0],\n",
       "[0, 0, 0, 0, 0, 0, 0, 0, 0,                 g^{OT}_{LE, 07}*(b^\\dagger_{OT, 09, 07} + b_{OT, 09, 07}), g^{OT}_{LE, 08}],\n",
       "[1, 0, 0, 0, 0, 0, 0, 0, 0,                                                                         0,               0],\n",
       "[0, 0, 1, 0, 0, 0, 0, 0, 0,                                                                         0,               0],\n",
       "[0, 0, 0, 0, 0, 0, 0, 0, 1,                                                                         0,               0],\n",
       "[0, 0, 0, 0, 0, 0, 0, 1, 0,                                                                         0,               0],\n",
       "[0, 0, 0, 0, 0, 1, 0, 0, 0,                                                                         0,               0],\n",
       "[0, 0, 0, 0, 1, 0, 0, 0, 0,                                                                         0,               0],\n",
       "[0, 0, 0, 0, 0, 0, 0, 0, 0, g^{OT}_{CS, 07}*(b^\\dagger_{OT, 09, 07} + b_{OT, 09, 07}) + ε^{{CS}}_{09}, g^{OT}_{CS, 08}],\n",
       "[0, 0, 0, 1, 0, 0, 0, 0, 0,                                                                         0,               0],\n",
       "[0, 1, 0, 0, 0, 0, 0, 0, 0,                            ω^{OT}_7*b_{OT, 09, 07}*b^\\dagger_{OT, 09, 07},               0],\n",
       "[0, 0, 0, 0, 0, 0, 0, 0, 0,                                                                         1,               0]])"
      ]
     },
     "metadata": {},
     "output_type": "display_data"
    },
    {
     "data": {
      "text/latex": [
       "$\\displaystyle \\left[\\begin{matrix}0 & 1 & 0 & 0 & 0 & 0 & 0 & 0 & 0 & 0\\\\0 & 0 & 0 & 0 & 0 & 0 & 1 & 0 & 0 & ω^{OT}_8 b_{OT, 09, 08} b^\\dagger_{OT, 09, 08}\\\\0 & 0 & 0 & 0 & 0 & 0 & 0 & 1 & 0 & 0\\\\0 & 0 & 0 & 0 & 0 & 1 & 0 & 0 & 0 & 0\\\\0 & 0 & 1 & 0 & 0 & 0 & 0 & 0 & 0 & 0\\\\0 & 0 & 0 & 0 & 0 & 0 & 0 & 0 & 1 & 0\\\\1 & 0 & 0 & 0 & 0 & 0 & 0 & 0 & 0 & 0\\\\0 & 0 & 0 & 1 & 0 & 0 & 0 & 0 & 0 & 0\\\\0 & 0 & 0 & 0 & 1 & 0 & 0 & 0 & 0 & 0\\\\0 & 0 & 0 & 0 & 0 & 0 & 0 & 0 & 0 & 1\\\\0 & 0 & 0 & 0 & 0 & 0 & 0 & 0 & 0 & b^\\dagger_{OT, 09, 08} + b_{OT, 09, 08}\\end{matrix}\\right]$"
      ],
      "text/plain": [
       "Matrix([\n",
       "[0, 1, 0, 0, 0, 0, 0, 0, 0,                                              0],\n",
       "[0, 0, 0, 0, 0, 0, 1, 0, 0, ω^{OT}_8*b_{OT, 09, 08}*b^\\dagger_{OT, 09, 08}],\n",
       "[0, 0, 0, 0, 0, 0, 0, 1, 0,                                              0],\n",
       "[0, 0, 0, 0, 0, 1, 0, 0, 0,                                              0],\n",
       "[0, 0, 1, 0, 0, 0, 0, 0, 0,                                              0],\n",
       "[0, 0, 0, 0, 0, 0, 0, 0, 1,                                              0],\n",
       "[1, 0, 0, 0, 0, 0, 0, 0, 0,                                              0],\n",
       "[0, 0, 0, 1, 0, 0, 0, 0, 0,                                              0],\n",
       "[0, 0, 0, 0, 1, 0, 0, 0, 0,                                              0],\n",
       "[0, 0, 0, 0, 0, 0, 0, 0, 0,                                              1],\n",
       "[0, 0, 0, 0, 0, 0, 0, 0, 0,        b^\\dagger_{OT, 09, 08} + b_{OT, 09, 08}]])"
      ]
     },
     "metadata": {},
     "output_type": "display_data"
    },
    {
     "data": {
      "text/latex": [
       "$\\displaystyle \\left[\\begin{matrix}0 & 0 & 0 & 1 & 0 & 0 & 0 & 0 & 0 & 0\\\\0 & 0 & 0 & 0 & 0 & 1 & 0 & 0 & 0 & g^{OT}_{LE, 01} \\left(b^\\dagger_{OT, 10, 01} + b_{OT, 10, 01}\\right)\\\\1 & 0 & 0 & 0 & 0 & 0 & 0 & 0 & 0 & 0\\\\0 & 1 & 0 & 0 & 0 & 0 & 0 & 0 & 0 & 0\\\\0 & 0 & 0 & 0 & 0 & 0 & 1 & 0 & 0 & g^{OT}_{CS, 01} \\left(b^\\dagger_{OT, 10, 01} + b_{OT, 10, 01}\\right)\\\\0 & 0 & 0 & 0 & 1 & 0 & 0 & 0 & 0 & 0\\\\0 & 0 & 0 & 0 & 0 & 0 & 0 & 0 & 1 & ω^{OT}_1 b_{OT, 10, 01} b^\\dagger_{OT, 10, 01}\\\\0 & 0 & 1 & 0 & 0 & 0 & 0 & 0 & 0 & 0\\\\0 & 0 & 0 & 0 & 0 & 0 & 0 & 1 & 0 & 0\\\\0 & 0 & 0 & 0 & 0 & 0 & 0 & 0 & 0 & 1\\end{matrix}\\right]$"
      ],
      "text/plain": [
       "Matrix([\n",
       "[0, 0, 0, 1, 0, 0, 0, 0, 0,                                                         0],\n",
       "[0, 0, 0, 0, 0, 1, 0, 0, 0, g^{OT}_{LE, 01}*(b^\\dagger_{OT, 10, 01} + b_{OT, 10, 01})],\n",
       "[1, 0, 0, 0, 0, 0, 0, 0, 0,                                                         0],\n",
       "[0, 1, 0, 0, 0, 0, 0, 0, 0,                                                         0],\n",
       "[0, 0, 0, 0, 0, 0, 1, 0, 0, g^{OT}_{CS, 01}*(b^\\dagger_{OT, 10, 01} + b_{OT, 10, 01})],\n",
       "[0, 0, 0, 0, 1, 0, 0, 0, 0,                                                         0],\n",
       "[0, 0, 0, 0, 0, 0, 0, 0, 1,            ω^{OT}_1*b_{OT, 10, 01}*b^\\dagger_{OT, 10, 01}],\n",
       "[0, 0, 1, 0, 0, 0, 0, 0, 0,                                                         0],\n",
       "[0, 0, 0, 0, 0, 0, 0, 1, 0,                                                         0],\n",
       "[0, 0, 0, 0, 0, 0, 0, 0, 0,                                                         1]])"
      ]
     },
     "metadata": {},
     "output_type": "display_data"
    },
    {
     "data": {
      "text/latex": [
       "$\\displaystyle \\left[\\begin{matrix}0 & 0 & 0 & 0 & 0 & 1 & 0 & 0 & 0 & 0\\\\0 & 0 & 0 & 0 & 0 & 0 & 1 & 0 & 0 & 0\\\\0 & 0 & 1 & 0 & 0 & 0 & 0 & 0 & 0 & 0\\\\0 & 0 & 0 & 0 & 1 & 0 & 0 & 0 & 0 & 0\\\\0 & 0 & 0 & 0 & 0 & 0 & 0 & 0 & 1 & 0\\\\0 & 0 & 0 & 1 & 0 & 0 & 0 & 0 & 0 & g^{OT}_{LE, 02} \\left(b^\\dagger_{OT, 10, 02} + b_{OT, 10, 02}\\right)\\\\1 & 0 & 0 & 0 & 0 & 0 & 0 & 0 & 0 & g^{OT}_{CS, 02} \\left(b^\\dagger_{OT, 10, 02} + b_{OT, 10, 02}\\right)\\\\0 & 1 & 0 & 0 & 0 & 0 & 0 & 0 & 0 & 0\\\\0 & 0 & 0 & 0 & 0 & 0 & 0 & 1 & 0 & ω^{OT}_2 b_{OT, 10, 02} b^\\dagger_{OT, 10, 02}\\\\0 & 0 & 0 & 0 & 0 & 0 & 0 & 0 & 0 & 1\\end{matrix}\\right]$"
      ],
      "text/plain": [
       "Matrix([\n",
       "[0, 0, 0, 0, 0, 1, 0, 0, 0,                                                         0],\n",
       "[0, 0, 0, 0, 0, 0, 1, 0, 0,                                                         0],\n",
       "[0, 0, 1, 0, 0, 0, 0, 0, 0,                                                         0],\n",
       "[0, 0, 0, 0, 1, 0, 0, 0, 0,                                                         0],\n",
       "[0, 0, 0, 0, 0, 0, 0, 0, 1,                                                         0],\n",
       "[0, 0, 0, 1, 0, 0, 0, 0, 0, g^{OT}_{LE, 02}*(b^\\dagger_{OT, 10, 02} + b_{OT, 10, 02})],\n",
       "[1, 0, 0, 0, 0, 0, 0, 0, 0, g^{OT}_{CS, 02}*(b^\\dagger_{OT, 10, 02} + b_{OT, 10, 02})],\n",
       "[0, 1, 0, 0, 0, 0, 0, 0, 0,                                                         0],\n",
       "[0, 0, 0, 0, 0, 0, 0, 1, 0,            ω^{OT}_2*b_{OT, 10, 02}*b^\\dagger_{OT, 10, 02}],\n",
       "[0, 0, 0, 0, 0, 0, 0, 0, 0,                                                         1]])"
      ]
     },
     "metadata": {},
     "output_type": "display_data"
    },
    {
     "data": {
      "text/latex": [
       "$\\displaystyle \\left[\\begin{matrix}0 & 0 & 1 & 0 & 0 & 0 & 0 & 0 & 0 & g^{OT}_{CS, 03} \\left(b^\\dagger_{OT, 10, 03} + b_{OT, 10, 03}\\right)\\\\0 & 1 & 0 & 0 & 0 & 0 & 0 & 0 & 0 & 0\\\\0 & 0 & 0 & 0 & 0 & 0 & 1 & 0 & 0 & 0\\\\0 & 0 & 0 & 0 & 0 & 0 & 0 & 1 & 0 & g^{OT}_{LE, 03} \\left(b^\\dagger_{OT, 10, 03} + b_{OT, 10, 03}\\right)\\\\0 & 0 & 0 & 0 & 0 & 1 & 0 & 0 & 0 & 0\\\\1 & 0 & 0 & 0 & 0 & 0 & 0 & 0 & 0 & 0\\\\0 & 0 & 0 & 0 & 0 & 0 & 0 & 0 & 1 & 0\\\\0 & 0 & 0 & 0 & 1 & 0 & 0 & 0 & 0 & ω^{OT}_3 b_{OT, 10, 03} b^\\dagger_{OT, 10, 03}\\\\0 & 0 & 0 & 1 & 0 & 0 & 0 & 0 & 0 & 0\\\\0 & 0 & 0 & 0 & 0 & 0 & 0 & 0 & 0 & 1\\end{matrix}\\right]$"
      ],
      "text/plain": [
       "Matrix([\n",
       "[0, 0, 1, 0, 0, 0, 0, 0, 0, g^{OT}_{CS, 03}*(b^\\dagger_{OT, 10, 03} + b_{OT, 10, 03})],\n",
       "[0, 1, 0, 0, 0, 0, 0, 0, 0,                                                         0],\n",
       "[0, 0, 0, 0, 0, 0, 1, 0, 0,                                                         0],\n",
       "[0, 0, 0, 0, 0, 0, 0, 1, 0, g^{OT}_{LE, 03}*(b^\\dagger_{OT, 10, 03} + b_{OT, 10, 03})],\n",
       "[0, 0, 0, 0, 0, 1, 0, 0, 0,                                                         0],\n",
       "[1, 0, 0, 0, 0, 0, 0, 0, 0,                                                         0],\n",
       "[0, 0, 0, 0, 0, 0, 0, 0, 1,                                                         0],\n",
       "[0, 0, 0, 0, 1, 0, 0, 0, 0,            ω^{OT}_3*b_{OT, 10, 03}*b^\\dagger_{OT, 10, 03}],\n",
       "[0, 0, 0, 1, 0, 0, 0, 0, 0,                                                         0],\n",
       "[0, 0, 0, 0, 0, 0, 0, 0, 0,                                                         1]])"
      ]
     },
     "metadata": {},
     "output_type": "display_data"
    },
    {
     "data": {
      "text/latex": [
       "$\\displaystyle \\left[\\begin{matrix}0 & 0 & 0 & 0 & 1 & 0 & 0 & 0 & 0 & 0\\\\0 & 0 & 1 & 0 & 0 & 0 & 0 & 0 & 0 & 0\\\\0 & 0 & 0 & 0 & 0 & 1 & 0 & 0 & 0 & g^{OT}_{CS, 04} \\left(b^\\dagger_{OT, 10, 04} + b_{OT, 10, 04}\\right)\\\\0 & 0 & 0 & 0 & 0 & 0 & 0 & 1 & 0 & 0\\\\1 & 0 & 0 & 0 & 0 & 0 & 0 & 0 & 0 & ω^{OT}_4 b_{OT, 10, 04} b^\\dagger_{OT, 10, 04}\\\\0 & 0 & 0 & 0 & 0 & 0 & 1 & 0 & 0 & 0\\\\0 & 0 & 0 & 1 & 0 & 0 & 0 & 0 & 0 & 0\\\\0 & 0 & 0 & 0 & 0 & 0 & 0 & 0 & 1 & g^{OT}_{LE, 04} \\left(b^\\dagger_{OT, 10, 04} + b_{OT, 10, 04}\\right)\\\\0 & 1 & 0 & 0 & 0 & 0 & 0 & 0 & 0 & 0\\\\0 & 0 & 0 & 0 & 0 & 0 & 0 & 0 & 0 & 1\\end{matrix}\\right]$"
      ],
      "text/plain": [
       "Matrix([\n",
       "[0, 0, 0, 0, 1, 0, 0, 0, 0,                                                         0],\n",
       "[0, 0, 1, 0, 0, 0, 0, 0, 0,                                                         0],\n",
       "[0, 0, 0, 0, 0, 1, 0, 0, 0, g^{OT}_{CS, 04}*(b^\\dagger_{OT, 10, 04} + b_{OT, 10, 04})],\n",
       "[0, 0, 0, 0, 0, 0, 0, 1, 0,                                                         0],\n",
       "[1, 0, 0, 0, 0, 0, 0, 0, 0,            ω^{OT}_4*b_{OT, 10, 04}*b^\\dagger_{OT, 10, 04}],\n",
       "[0, 0, 0, 0, 0, 0, 1, 0, 0,                                                         0],\n",
       "[0, 0, 0, 1, 0, 0, 0, 0, 0,                                                         0],\n",
       "[0, 0, 0, 0, 0, 0, 0, 0, 1, g^{OT}_{LE, 04}*(b^\\dagger_{OT, 10, 04} + b_{OT, 10, 04})],\n",
       "[0, 1, 0, 0, 0, 0, 0, 0, 0,                                                         0],\n",
       "[0, 0, 0, 0, 0, 0, 0, 0, 0,                                                         1]])"
      ]
     },
     "metadata": {},
     "output_type": "display_data"
    },
    {
     "data": {
      "text/latex": [
       "$\\displaystyle \\left[\\begin{matrix}0 & 0 & 0 & 1 & 0 & 0 & 0 & 0 & 0 & ω^{OT}_5 b_{OT, 10, 05} b^\\dagger_{OT, 10, 05}\\\\0 & 1 & 0 & 0 & 0 & 0 & 0 & 0 & 0 & 0\\\\0 & 0 & 1 & 0 & 0 & 0 & 0 & 0 & 0 & 0\\\\0 & 0 & 0 & 0 & 0 & 1 & 0 & 0 & 0 & 0\\\\0 & 0 & 0 & 0 & 0 & 0 & 1 & 0 & 0 & 0\\\\0 & 0 & 0 & 0 & 0 & 0 & 0 & 0 & 1 & g^{OT}_{CS, 05} \\left(b^\\dagger_{OT, 10, 05} + b_{OT, 10, 05}\\right)\\\\0 & 0 & 0 & 0 & 0 & 0 & 0 & 1 & 0 & 0\\\\0 & 0 & 0 & 0 & 1 & 0 & 0 & 0 & 0 & 0\\\\1 & 0 & 0 & 0 & 0 & 0 & 0 & 0 & 0 & g^{OT}_{LE, 05} \\left(b^\\dagger_{OT, 10, 05} + b_{OT, 10, 05}\\right)\\\\0 & 0 & 0 & 0 & 0 & 0 & 0 & 0 & 0 & 1\\end{matrix}\\right]$"
      ],
      "text/plain": [
       "Matrix([\n",
       "[0, 0, 0, 1, 0, 0, 0, 0, 0,            ω^{OT}_5*b_{OT, 10, 05}*b^\\dagger_{OT, 10, 05}],\n",
       "[0, 1, 0, 0, 0, 0, 0, 0, 0,                                                         0],\n",
       "[0, 0, 1, 0, 0, 0, 0, 0, 0,                                                         0],\n",
       "[0, 0, 0, 0, 0, 1, 0, 0, 0,                                                         0],\n",
       "[0, 0, 0, 0, 0, 0, 1, 0, 0,                                                         0],\n",
       "[0, 0, 0, 0, 0, 0, 0, 0, 1, g^{OT}_{CS, 05}*(b^\\dagger_{OT, 10, 05} + b_{OT, 10, 05})],\n",
       "[0, 0, 0, 0, 0, 0, 0, 1, 0,                                                         0],\n",
       "[0, 0, 0, 0, 1, 0, 0, 0, 0,                                                         0],\n",
       "[1, 0, 0, 0, 0, 0, 0, 0, 0, g^{OT}_{LE, 05}*(b^\\dagger_{OT, 10, 05} + b_{OT, 10, 05})],\n",
       "[0, 0, 0, 0, 0, 0, 0, 0, 0,                                                         1]])"
      ]
     },
     "metadata": {},
     "output_type": "display_data"
    },
    {
     "data": {
      "text/latex": [
       "$\\displaystyle \\left[\\begin{matrix}1 & 0 & 0 & 0 & 0 & 0 & 0 & 0 & 0 & g^{OT}_{LE, 06} \\left(b^\\dagger_{OT, 10, 06} + b_{OT, 10, 06}\\right)\\\\0 & 0 & 0 & 0 & 0 & 0 & 0 & 0 & 1 & 0\\\\0 & 0 & 1 & 0 & 0 & 0 & 0 & 0 & 0 & 0\\\\0 & 0 & 0 & 0 & 0 & 0 & 1 & 0 & 0 & ω^{OT}_6 b_{OT, 10, 06} b^\\dagger_{OT, 10, 06}\\\\0 & 1 & 0 & 0 & 0 & 0 & 0 & 0 & 0 & 0\\\\0 & 0 & 0 & 0 & 0 & 1 & 0 & 0 & 0 & 0\\\\0 & 0 & 0 & 1 & 0 & 0 & 0 & 0 & 0 & 0\\\\0 & 0 & 0 & 0 & 0 & 0 & 0 & 1 & 0 & 0\\\\0 & 0 & 0 & 0 & 1 & 0 & 0 & 0 & 0 & g^{OT}_{CS, 06} \\left(b^\\dagger_{OT, 10, 06} + b_{OT, 10, 06}\\right)\\\\0 & 0 & 0 & 0 & 0 & 0 & 0 & 0 & 0 & 1\\end{matrix}\\right]$"
      ],
      "text/plain": [
       "Matrix([\n",
       "[1, 0, 0, 0, 0, 0, 0, 0, 0, g^{OT}_{LE, 06}*(b^\\dagger_{OT, 10, 06} + b_{OT, 10, 06})],\n",
       "[0, 0, 0, 0, 0, 0, 0, 0, 1,                                                         0],\n",
       "[0, 0, 1, 0, 0, 0, 0, 0, 0,                                                         0],\n",
       "[0, 0, 0, 0, 0, 0, 1, 0, 0,            ω^{OT}_6*b_{OT, 10, 06}*b^\\dagger_{OT, 10, 06}],\n",
       "[0, 1, 0, 0, 0, 0, 0, 0, 0,                                                         0],\n",
       "[0, 0, 0, 0, 0, 1, 0, 0, 0,                                                         0],\n",
       "[0, 0, 0, 1, 0, 0, 0, 0, 0,                                                         0],\n",
       "[0, 0, 0, 0, 0, 0, 0, 1, 0,                                                         0],\n",
       "[0, 0, 0, 0, 1, 0, 0, 0, 0, g^{OT}_{CS, 06}*(b^\\dagger_{OT, 10, 06} + b_{OT, 10, 06})],\n",
       "[0, 0, 0, 0, 0, 0, 0, 0, 0,                                                         1]])"
      ]
     },
     "metadata": {},
     "output_type": "display_data"
    },
    {
     "data": {
      "text/latex": [
       "$\\displaystyle \\left[\\begin{matrix}0 & 0 & 0 & 0 & 0 & 0 & 0 & g^{OT}_{LE, 08} & g^{OT}_{LE, 07} \\left(b^\\dagger_{OT, 10, 07} + b_{OT, 10, 07}\\right)\\\\0 & 0 & 1 & 0 & 0 & 0 & 0 & 0 & 0\\\\0 & 0 & 0 & 0 & 0 & 1 & 0 & 0 & 0\\\\1 & 0 & 0 & 0 & 0 & 0 & 0 & 0 & 0\\\\0 & 0 & 0 & 0 & 0 & 0 & 0 & g^{OT}_{CS, 08} & g^{OT}_{CS, 07} \\left(b^\\dagger_{OT, 10, 07} + b_{OT, 10, 07}\\right) + ε^{{CS}}_{10}\\\\0 & 0 & 0 & 1 & 0 & 0 & 0 & 0 & 0\\\\0 & 1 & 0 & 0 & 0 & 0 & 0 & 0 & ω^{OT}_7 b_{OT, 10, 07} b^\\dagger_{OT, 10, 07}\\\\0 & 0 & 0 & 0 & 1 & 0 & 0 & 0 & 0\\\\0 & 0 & 0 & 0 & 0 & 0 & 1 & 0 & 0\\\\0 & 0 & 0 & 0 & 0 & 0 & 0 & 0 & 1\\end{matrix}\\right]$"
      ],
      "text/plain": [
       "Matrix([\n",
       "[0, 0, 0, 0, 0, 0, 0, g^{OT}_{LE, 08},                 g^{OT}_{LE, 07}*(b^\\dagger_{OT, 10, 07} + b_{OT, 10, 07})],\n",
       "[0, 0, 1, 0, 0, 0, 0,               0,                                                                         0],\n",
       "[0, 0, 0, 0, 0, 1, 0,               0,                                                                         0],\n",
       "[1, 0, 0, 0, 0, 0, 0,               0,                                                                         0],\n",
       "[0, 0, 0, 0, 0, 0, 0, g^{OT}_{CS, 08}, g^{OT}_{CS, 07}*(b^\\dagger_{OT, 10, 07} + b_{OT, 10, 07}) + ε^{{CS}}_{10}],\n",
       "[0, 0, 0, 1, 0, 0, 0,               0,                                                                         0],\n",
       "[0, 1, 0, 0, 0, 0, 0,               0,                            ω^{OT}_7*b_{OT, 10, 07}*b^\\dagger_{OT, 10, 07}],\n",
       "[0, 0, 0, 0, 1, 0, 0,               0,                                                                         0],\n",
       "[0, 0, 0, 0, 0, 0, 1,               0,                                                                         0],\n",
       "[0, 0, 0, 0, 0, 0, 0,               0,                                                                         1]])"
      ]
     },
     "metadata": {},
     "output_type": "display_data"
    },
    {
     "data": {
      "text/latex": [
       "$\\displaystyle \\left[\\begin{matrix}1 & 0 & 0 & 0 & 0 & 0 & 0 & 0\\\\0 & 0 & 1 & 0 & 0 & 0 & 0 & ω^{OT}_8 b_{OT, 10, 08} b^\\dagger_{OT, 10, 08}\\\\0 & 0 & 0 & 1 & 0 & 0 & 0 & 0\\\\0 & 0 & 0 & 0 & 0 & 0 & 1 & 0\\\\0 & 0 & 0 & 0 & 1 & 0 & 0 & 0\\\\0 & 0 & 0 & 0 & 0 & 1 & 0 & 0\\\\0 & 1 & 0 & 0 & 0 & 0 & 0 & 0\\\\0 & 0 & 0 & 0 & 0 & 0 & 0 & b^\\dagger_{OT, 10, 08} + b_{OT, 10, 08}\\\\0 & 0 & 0 & 0 & 0 & 0 & 0 & 1\\end{matrix}\\right]$"
      ],
      "text/plain": [
       "Matrix([\n",
       "[1, 0, 0, 0, 0, 0, 0,                                              0],\n",
       "[0, 0, 1, 0, 0, 0, 0, ω^{OT}_8*b_{OT, 10, 08}*b^\\dagger_{OT, 10, 08}],\n",
       "[0, 0, 0, 1, 0, 0, 0,                                              0],\n",
       "[0, 0, 0, 0, 0, 0, 1,                                              0],\n",
       "[0, 0, 0, 0, 1, 0, 0,                                              0],\n",
       "[0, 0, 0, 0, 0, 1, 0,                                              0],\n",
       "[0, 1, 0, 0, 0, 0, 0,                                              0],\n",
       "[0, 0, 0, 0, 0, 0, 0,        b^\\dagger_{OT, 10, 08} + b_{OT, 10, 08}],\n",
       "[0, 0, 0, 0, 0, 0, 0,                                              1]])"
      ]
     },
     "metadata": {},
     "output_type": "display_data"
    },
    {
     "data": {
      "text/latex": [
       "$\\displaystyle \\left[\\begin{matrix}0 & 0 & 0 & 0 & 0 & 0 & 1 & 0\\\\0 & 0 & 0 & 1 & 0 & 0 & 0 & g^{OT}_{LE, 01} \\left(b^\\dagger_{OT, 11, 01} + b_{OT, 11, 01}\\right)\\\\1 & 0 & 0 & 0 & 0 & 0 & 0 & ω^{OT}_1 b_{OT, 11, 01} b^\\dagger_{OT, 11, 01}\\\\0 & 0 & 1 & 0 & 0 & 0 & 0 & 0\\\\0 & 0 & 0 & 0 & 0 & 1 & 0 & 0\\\\0 & 0 & 0 & 0 & 1 & 0 & 0 & 0\\\\0 & 1 & 0 & 0 & 0 & 0 & 0 & g^{OT}_{CS, 01} \\left(b^\\dagger_{OT, 11, 01} + b_{OT, 11, 01}\\right)\\\\0 & 0 & 0 & 0 & 0 & 0 & 0 & 1\\end{matrix}\\right]$"
      ],
      "text/plain": [
       "Matrix([\n",
       "[0, 0, 0, 0, 0, 0, 1,                                                         0],\n",
       "[0, 0, 0, 1, 0, 0, 0, g^{OT}_{LE, 01}*(b^\\dagger_{OT, 11, 01} + b_{OT, 11, 01})],\n",
       "[1, 0, 0, 0, 0, 0, 0,            ω^{OT}_1*b_{OT, 11, 01}*b^\\dagger_{OT, 11, 01}],\n",
       "[0, 0, 1, 0, 0, 0, 0,                                                         0],\n",
       "[0, 0, 0, 0, 0, 1, 0,                                                         0],\n",
       "[0, 0, 0, 0, 1, 0, 0,                                                         0],\n",
       "[0, 1, 0, 0, 0, 0, 0, g^{OT}_{CS, 01}*(b^\\dagger_{OT, 11, 01} + b_{OT, 11, 01})],\n",
       "[0, 0, 0, 0, 0, 0, 0,                                                         1]])"
      ]
     },
     "metadata": {},
     "output_type": "display_data"
    },
    {
     "data": {
      "text/latex": [
       "$\\displaystyle \\left[\\begin{matrix}0 & 0 & 0 & 0 & 1 & 0 & 0 & ω^{OT}_2 b_{OT, 11, 02} b^\\dagger_{OT, 11, 02}\\\\0 & 0 & 1 & 0 & 0 & 0 & 0 & g^{OT}_{CS, 02} \\left(b^\\dagger_{OT, 11, 02} + b_{OT, 11, 02}\\right)\\\\0 & 1 & 0 & 0 & 0 & 0 & 0 & 0\\\\1 & 0 & 0 & 0 & 0 & 0 & 0 & g^{OT}_{LE, 02} \\left(b^\\dagger_{OT, 11, 02} + b_{OT, 11, 02}\\right)\\\\0 & 0 & 0 & 0 & 0 & 1 & 0 & 0\\\\0 & 0 & 0 & 1 & 0 & 0 & 0 & 0\\\\0 & 0 & 0 & 0 & 0 & 0 & 1 & 0\\\\0 & 0 & 0 & 0 & 0 & 0 & 0 & 1\\end{matrix}\\right]$"
      ],
      "text/plain": [
       "Matrix([\n",
       "[0, 0, 0, 0, 1, 0, 0,            ω^{OT}_2*b_{OT, 11, 02}*b^\\dagger_{OT, 11, 02}],\n",
       "[0, 0, 1, 0, 0, 0, 0, g^{OT}_{CS, 02}*(b^\\dagger_{OT, 11, 02} + b_{OT, 11, 02})],\n",
       "[0, 1, 0, 0, 0, 0, 0,                                                         0],\n",
       "[1, 0, 0, 0, 0, 0, 0, g^{OT}_{LE, 02}*(b^\\dagger_{OT, 11, 02} + b_{OT, 11, 02})],\n",
       "[0, 0, 0, 0, 0, 1, 0,                                                         0],\n",
       "[0, 0, 0, 1, 0, 0, 0,                                                         0],\n",
       "[0, 0, 0, 0, 0, 0, 1,                                                         0],\n",
       "[0, 0, 0, 0, 0, 0, 0,                                                         1]])"
      ]
     },
     "metadata": {},
     "output_type": "display_data"
    },
    {
     "data": {
      "text/latex": [
       "$\\displaystyle \\left[\\begin{matrix}0 & 0 & 0 & 1 & 0 & 0 & 0 & g^{OT}_{LE, 03} \\left(b^\\dagger_{OT, 11, 03} + b_{OT, 11, 03}\\right)\\\\0 & 0 & 0 & 0 & 0 & 0 & 1 & 0\\\\1 & 0 & 0 & 0 & 0 & 0 & 0 & g^{OT}_{CS, 03} \\left(b^\\dagger_{OT, 11, 03} + b_{OT, 11, 03}\\right)\\\\0 & 0 & 0 & 0 & 1 & 0 & 0 & 0\\\\0 & 0 & 1 & 0 & 0 & 0 & 0 & ω^{OT}_3 b_{OT, 11, 03} b^\\dagger_{OT, 11, 03}\\\\0 & 0 & 0 & 0 & 0 & 1 & 0 & 0\\\\0 & 1 & 0 & 0 & 0 & 0 & 0 & 0\\\\0 & 0 & 0 & 0 & 0 & 0 & 0 & 1\\end{matrix}\\right]$"
      ],
      "text/plain": [
       "Matrix([\n",
       "[0, 0, 0, 1, 0, 0, 0, g^{OT}_{LE, 03}*(b^\\dagger_{OT, 11, 03} + b_{OT, 11, 03})],\n",
       "[0, 0, 0, 0, 0, 0, 1,                                                         0],\n",
       "[1, 0, 0, 0, 0, 0, 0, g^{OT}_{CS, 03}*(b^\\dagger_{OT, 11, 03} + b_{OT, 11, 03})],\n",
       "[0, 0, 0, 0, 1, 0, 0,                                                         0],\n",
       "[0, 0, 1, 0, 0, 0, 0,            ω^{OT}_3*b_{OT, 11, 03}*b^\\dagger_{OT, 11, 03}],\n",
       "[0, 0, 0, 0, 0, 1, 0,                                                         0],\n",
       "[0, 1, 0, 0, 0, 0, 0,                                                         0],\n",
       "[0, 0, 0, 0, 0, 0, 0,                                                         1]])"
      ]
     },
     "metadata": {},
     "output_type": "display_data"
    },
    {
     "data": {
      "text/latex": [
       "$\\displaystyle \\left[\\begin{matrix}0 & 0 & 0 & 0 & 0 & 1 & 0 & g^{OT}_{CS, 04} \\left(b^\\dagger_{OT, 11, 04} + b_{OT, 11, 04}\\right)\\\\0 & 0 & 1 & 0 & 0 & 0 & 0 & 0\\\\1 & 0 & 0 & 0 & 0 & 0 & 0 & ω^{OT}_4 b_{OT, 11, 04} b^\\dagger_{OT, 11, 04}\\\\0 & 0 & 0 & 0 & 1 & 0 & 0 & g^{OT}_{LE, 04} \\left(b^\\dagger_{OT, 11, 04} + b_{OT, 11, 04}\\right)\\\\0 & 0 & 0 & 0 & 0 & 0 & 1 & 0\\\\0 & 0 & 0 & 1 & 0 & 0 & 0 & 0\\\\0 & 1 & 0 & 0 & 0 & 0 & 0 & 0\\\\0 & 0 & 0 & 0 & 0 & 0 & 0 & 1\\end{matrix}\\right]$"
      ],
      "text/plain": [
       "Matrix([\n",
       "[0, 0, 0, 0, 0, 1, 0, g^{OT}_{CS, 04}*(b^\\dagger_{OT, 11, 04} + b_{OT, 11, 04})],\n",
       "[0, 0, 1, 0, 0, 0, 0,                                                         0],\n",
       "[1, 0, 0, 0, 0, 0, 0,            ω^{OT}_4*b_{OT, 11, 04}*b^\\dagger_{OT, 11, 04}],\n",
       "[0, 0, 0, 0, 1, 0, 0, g^{OT}_{LE, 04}*(b^\\dagger_{OT, 11, 04} + b_{OT, 11, 04})],\n",
       "[0, 0, 0, 0, 0, 0, 1,                                                         0],\n",
       "[0, 0, 0, 1, 0, 0, 0,                                                         0],\n",
       "[0, 1, 0, 0, 0, 0, 0,                                                         0],\n",
       "[0, 0, 0, 0, 0, 0, 0,                                                         1]])"
      ]
     },
     "metadata": {},
     "output_type": "display_data"
    },
    {
     "data": {
      "text/latex": [
       "$\\displaystyle \\left[\\begin{matrix}0 & 0 & 0 & 0 & 1 & 0 & 0 & ω^{OT}_5 b_{OT, 11, 05} b^\\dagger_{OT, 11, 05}\\\\0 & 0 & 1 & 0 & 0 & 0 & 0 & 0\\\\0 & 0 & 0 & 0 & 0 & 0 & 1 & 0\\\\0 & 0 & 0 & 1 & 0 & 0 & 0 & 0\\\\1 & 0 & 0 & 0 & 0 & 0 & 0 & g^{OT}_{LE, 05} \\left(b^\\dagger_{OT, 11, 05} + b_{OT, 11, 05}\\right)\\\\0 & 0 & 0 & 0 & 0 & 1 & 0 & g^{OT}_{CS, 05} \\left(b^\\dagger_{OT, 11, 05} + b_{OT, 11, 05}\\right)\\\\0 & 1 & 0 & 0 & 0 & 0 & 0 & 0\\\\0 & 0 & 0 & 0 & 0 & 0 & 0 & 1\\end{matrix}\\right]$"
      ],
      "text/plain": [
       "Matrix([\n",
       "[0, 0, 0, 0, 1, 0, 0,            ω^{OT}_5*b_{OT, 11, 05}*b^\\dagger_{OT, 11, 05}],\n",
       "[0, 0, 1, 0, 0, 0, 0,                                                         0],\n",
       "[0, 0, 0, 0, 0, 0, 1,                                                         0],\n",
       "[0, 0, 0, 1, 0, 0, 0,                                                         0],\n",
       "[1, 0, 0, 0, 0, 0, 0, g^{OT}_{LE, 05}*(b^\\dagger_{OT, 11, 05} + b_{OT, 11, 05})],\n",
       "[0, 0, 0, 0, 0, 1, 0, g^{OT}_{CS, 05}*(b^\\dagger_{OT, 11, 05} + b_{OT, 11, 05})],\n",
       "[0, 1, 0, 0, 0, 0, 0,                                                         0],\n",
       "[0, 0, 0, 0, 0, 0, 0,                                                         1]])"
      ]
     },
     "metadata": {},
     "output_type": "display_data"
    },
    {
     "data": {
      "text/latex": [
       "$\\displaystyle \\left[\\begin{matrix}1 & 0 & 0 & 0 & 0 & 0 & 0 & g^{OT}_{LE, 06} \\left(b^\\dagger_{OT, 11, 06} + b_{OT, 11, 06}\\right)\\\\0 & 0 & 0 & 0 & 1 & 0 & 0 & 0\\\\0 & 0 & 0 & 0 & 0 & 0 & 1 & 0\\\\0 & 0 & 0 & 0 & 0 & 1 & 0 & 0\\\\0 & 0 & 0 & 1 & 0 & 0 & 0 & ω^{OT}_6 b_{OT, 11, 06} b^\\dagger_{OT, 11, 06}\\\\0 & 1 & 0 & 0 & 0 & 0 & 0 & g^{OT}_{CS, 06} \\left(b^\\dagger_{OT, 11, 06} + b_{OT, 11, 06}\\right)\\\\0 & 0 & 1 & 0 & 0 & 0 & 0 & 0\\\\0 & 0 & 0 & 0 & 0 & 0 & 0 & 1\\end{matrix}\\right]$"
      ],
      "text/plain": [
       "Matrix([\n",
       "[1, 0, 0, 0, 0, 0, 0, g^{OT}_{LE, 06}*(b^\\dagger_{OT, 11, 06} + b_{OT, 11, 06})],\n",
       "[0, 0, 0, 0, 1, 0, 0,                                                         0],\n",
       "[0, 0, 0, 0, 0, 0, 1,                                                         0],\n",
       "[0, 0, 0, 0, 0, 1, 0,                                                         0],\n",
       "[0, 0, 0, 1, 0, 0, 0,            ω^{OT}_6*b_{OT, 11, 06}*b^\\dagger_{OT, 11, 06}],\n",
       "[0, 1, 0, 0, 0, 0, 0, g^{OT}_{CS, 06}*(b^\\dagger_{OT, 11, 06} + b_{OT, 11, 06})],\n",
       "[0, 0, 1, 0, 0, 0, 0,                                                         0],\n",
       "[0, 0, 0, 0, 0, 0, 0,                                                         1]])"
      ]
     },
     "metadata": {},
     "output_type": "display_data"
    },
    {
     "data": {
      "text/latex": [
       "$\\displaystyle \\left[\\begin{matrix}0 & 0 & 0 & 0 & 0 & g^{OT}_{LE, 08} & g^{OT}_{LE, 07} \\left(b^\\dagger_{OT, 11, 07} + b_{OT, 11, 07}\\right)\\\\0 & 0 & 0 & 0 & 0 & g^{OT}_{CS, 08} & g^{OT}_{CS, 07} \\left(b^\\dagger_{OT, 11, 07} + b_{OT, 11, 07}\\right) + ε^{{CS}}_{11}\\\\0 & 0 & 1 & 0 & 0 & 0 & 0\\\\0 & 0 & 0 & 0 & 1 & 0 & ω^{OT}_7 b_{OT, 11, 07} b^\\dagger_{OT, 11, 07}\\\\0 & 0 & 0 & 1 & 0 & 0 & 0\\\\0 & 1 & 0 & 0 & 0 & 0 & 0\\\\1 & 0 & 0 & 0 & 0 & 0 & 0\\\\0 & 0 & 0 & 0 & 0 & 0 & 1\\end{matrix}\\right]$"
      ],
      "text/plain": [
       "Matrix([\n",
       "[0, 0, 0, 0, 0, g^{OT}_{LE, 08},                 g^{OT}_{LE, 07}*(b^\\dagger_{OT, 11, 07} + b_{OT, 11, 07})],\n",
       "[0, 0, 0, 0, 0, g^{OT}_{CS, 08}, g^{OT}_{CS, 07}*(b^\\dagger_{OT, 11, 07} + b_{OT, 11, 07}) + ε^{{CS}}_{11}],\n",
       "[0, 0, 1, 0, 0,               0,                                                                         0],\n",
       "[0, 0, 0, 0, 1,               0,                            ω^{OT}_7*b_{OT, 11, 07}*b^\\dagger_{OT, 11, 07}],\n",
       "[0, 0, 0, 1, 0,               0,                                                                         0],\n",
       "[0, 1, 0, 0, 0,               0,                                                                         0],\n",
       "[1, 0, 0, 0, 0,               0,                                                                         0],\n",
       "[0, 0, 0, 0, 0,               0,                                                                         1]])"
      ]
     },
     "metadata": {},
     "output_type": "display_data"
    },
    {
     "data": {
      "text/latex": [
       "$\\displaystyle \\left[\\begin{matrix}0 & 0 & 0 & 0 & 1 & 0\\\\1 & 0 & 0 & 0 & 0 & 0\\\\0 & 1 & 0 & 0 & 0 & 0\\\\0 & 0 & 1 & 0 & 0 & 0\\\\0 & 0 & 0 & 1 & 0 & ω^{OT}_8 b_{OT, 11, 08} b^\\dagger_{OT, 11, 08}\\\\0 & 0 & 0 & 0 & 0 & b^\\dagger_{OT, 11, 08} + b_{OT, 11, 08}\\\\0 & 0 & 0 & 0 & 0 & 1\\end{matrix}\\right]$"
      ],
      "text/plain": [
       "Matrix([\n",
       "[0, 0, 0, 0, 1,                                              0],\n",
       "[1, 0, 0, 0, 0,                                              0],\n",
       "[0, 1, 0, 0, 0,                                              0],\n",
       "[0, 0, 1, 0, 0,                                              0],\n",
       "[0, 0, 0, 1, 0, ω^{OT}_8*b_{OT, 11, 08}*b^\\dagger_{OT, 11, 08}],\n",
       "[0, 0, 0, 0, 0,        b^\\dagger_{OT, 11, 08} + b_{OT, 11, 08}],\n",
       "[0, 0, 0, 0, 0,                                              1]])"
      ]
     },
     "metadata": {},
     "output_type": "display_data"
    },
    {
     "data": {
      "text/latex": [
       "$\\displaystyle \\left[\\begin{matrix}0 & 0 & 1 & 0 & 0 & 0\\\\0 & 0 & 0 & 1 & 0 & 0\\\\0 & 0 & 0 & 0 & 1 & g^{OT}_{LE, 01} \\left(b^\\dagger_{OT, 12, 01} + b_{OT, 12, 01}\\right)\\\\0 & 1 & 0 & 0 & 0 & ω^{OT}_1 b_{OT, 12, 01} b^\\dagger_{OT, 12, 01}\\\\1 & 0 & 0 & 0 & 0 & g^{OT}_{CS, 01} \\left(b^\\dagger_{OT, 12, 01} + b_{OT, 12, 01}\\right)\\\\0 & 0 & 0 & 0 & 0 & 1\\end{matrix}\\right]$"
      ],
      "text/plain": [
       "Matrix([\n",
       "[0, 0, 1, 0, 0,                                                         0],\n",
       "[0, 0, 0, 1, 0,                                                         0],\n",
       "[0, 0, 0, 0, 1, g^{OT}_{LE, 01}*(b^\\dagger_{OT, 12, 01} + b_{OT, 12, 01})],\n",
       "[0, 1, 0, 0, 0,            ω^{OT}_1*b_{OT, 12, 01}*b^\\dagger_{OT, 12, 01}],\n",
       "[1, 0, 0, 0, 0, g^{OT}_{CS, 01}*(b^\\dagger_{OT, 12, 01} + b_{OT, 12, 01})],\n",
       "[0, 0, 0, 0, 0,                                                         1]])"
      ]
     },
     "metadata": {},
     "output_type": "display_data"
    },
    {
     "data": {
      "text/latex": [
       "$\\displaystyle \\left[\\begin{matrix}0 & 0 & 0 & 0 & 1 & g^{OT}_{CS, 02} \\left(b^\\dagger_{OT, 12, 02} + b_{OT, 12, 02}\\right)\\\\0 & 1 & 0 & 0 & 0 & ω^{OT}_2 b_{OT, 12, 02} b^\\dagger_{OT, 12, 02}\\\\0 & 0 & 1 & 0 & 0 & 0\\\\0 & 0 & 0 & 1 & 0 & 0\\\\1 & 0 & 0 & 0 & 0 & g^{OT}_{LE, 02} \\left(b^\\dagger_{OT, 12, 02} + b_{OT, 12, 02}\\right)\\\\0 & 0 & 0 & 0 & 0 & 1\\end{matrix}\\right]$"
      ],
      "text/plain": [
       "Matrix([\n",
       "[0, 0, 0, 0, 1, g^{OT}_{CS, 02}*(b^\\dagger_{OT, 12, 02} + b_{OT, 12, 02})],\n",
       "[0, 1, 0, 0, 0,            ω^{OT}_2*b_{OT, 12, 02}*b^\\dagger_{OT, 12, 02}],\n",
       "[0, 0, 1, 0, 0,                                                         0],\n",
       "[0, 0, 0, 1, 0,                                                         0],\n",
       "[1, 0, 0, 0, 0, g^{OT}_{LE, 02}*(b^\\dagger_{OT, 12, 02} + b_{OT, 12, 02})],\n",
       "[0, 0, 0, 0, 0,                                                         1]])"
      ]
     },
     "metadata": {},
     "output_type": "display_data"
    },
    {
     "data": {
      "text/latex": [
       "$\\displaystyle \\left[\\begin{matrix}0 & 0 & 1 & 0 & 0 & g^{OT}_{LE, 03} \\left(b^\\dagger_{OT, 12, 03} + b_{OT, 12, 03}\\right)\\\\0 & 0 & 0 & 1 & 0 & ω^{OT}_3 b_{OT, 12, 03} b^\\dagger_{OT, 12, 03}\\\\0 & 0 & 0 & 0 & 1 & 0\\\\1 & 0 & 0 & 0 & 0 & 0\\\\0 & 1 & 0 & 0 & 0 & g^{OT}_{CS, 03} \\left(b^\\dagger_{OT, 12, 03} + b_{OT, 12, 03}\\right)\\\\0 & 0 & 0 & 0 & 0 & 1\\end{matrix}\\right]$"
      ],
      "text/plain": [
       "Matrix([\n",
       "[0, 0, 1, 0, 0, g^{OT}_{LE, 03}*(b^\\dagger_{OT, 12, 03} + b_{OT, 12, 03})],\n",
       "[0, 0, 0, 1, 0,            ω^{OT}_3*b_{OT, 12, 03}*b^\\dagger_{OT, 12, 03}],\n",
       "[0, 0, 0, 0, 1,                                                         0],\n",
       "[1, 0, 0, 0, 0,                                                         0],\n",
       "[0, 1, 0, 0, 0, g^{OT}_{CS, 03}*(b^\\dagger_{OT, 12, 03} + b_{OT, 12, 03})],\n",
       "[0, 0, 0, 0, 0,                                                         1]])"
      ]
     },
     "metadata": {},
     "output_type": "display_data"
    },
    {
     "data": {
      "text/latex": [
       "$\\displaystyle \\left[\\begin{matrix}0 & 0 & 0 & 1 & 0 & 0\\\\0 & 0 & 1 & 0 & 0 & g^{OT}_{CS, 04} \\left(b^\\dagger_{OT, 12, 04} + b_{OT, 12, 04}\\right)\\\\1 & 0 & 0 & 0 & 0 & g^{OT}_{LE, 04} \\left(b^\\dagger_{OT, 12, 04} + b_{OT, 12, 04}\\right)\\\\0 & 0 & 0 & 0 & 1 & ω^{OT}_4 b_{OT, 12, 04} b^\\dagger_{OT, 12, 04}\\\\0 & 1 & 0 & 0 & 0 & 0\\\\0 & 0 & 0 & 0 & 0 & 1\\end{matrix}\\right]$"
      ],
      "text/plain": [
       "Matrix([\n",
       "[0, 0, 0, 1, 0,                                                         0],\n",
       "[0, 0, 1, 0, 0, g^{OT}_{CS, 04}*(b^\\dagger_{OT, 12, 04} + b_{OT, 12, 04})],\n",
       "[1, 0, 0, 0, 0, g^{OT}_{LE, 04}*(b^\\dagger_{OT, 12, 04} + b_{OT, 12, 04})],\n",
       "[0, 0, 0, 0, 1,            ω^{OT}_4*b_{OT, 12, 04}*b^\\dagger_{OT, 12, 04}],\n",
       "[0, 1, 0, 0, 0,                                                         0],\n",
       "[0, 0, 0, 0, 0,                                                         1]])"
      ]
     },
     "metadata": {},
     "output_type": "display_data"
    },
    {
     "data": {
      "text/latex": [
       "$\\displaystyle \\left[\\begin{matrix}0 & 1 & 0 & 0 & 0 & g^{OT}_{LE, 05} \\left(b^\\dagger_{OT, 12, 05} + b_{OT, 12, 05}\\right)\\\\0 & 0 & 0 & 1 & 0 & 0\\\\0 & 0 & 1 & 0 & 0 & g^{OT}_{CS, 05} \\left(b^\\dagger_{OT, 12, 05} + b_{OT, 12, 05}\\right)\\\\0 & 0 & 0 & 0 & 1 & 0\\\\1 & 0 & 0 & 0 & 0 & ω^{OT}_5 b_{OT, 12, 05} b^\\dagger_{OT, 12, 05}\\\\0 & 0 & 0 & 0 & 0 & 1\\end{matrix}\\right]$"
      ],
      "text/plain": [
       "Matrix([\n",
       "[0, 1, 0, 0, 0, g^{OT}_{LE, 05}*(b^\\dagger_{OT, 12, 05} + b_{OT, 12, 05})],\n",
       "[0, 0, 0, 1, 0,                                                         0],\n",
       "[0, 0, 1, 0, 0, g^{OT}_{CS, 05}*(b^\\dagger_{OT, 12, 05} + b_{OT, 12, 05})],\n",
       "[0, 0, 0, 0, 1,                                                         0],\n",
       "[1, 0, 0, 0, 0,            ω^{OT}_5*b_{OT, 12, 05}*b^\\dagger_{OT, 12, 05}],\n",
       "[0, 0, 0, 0, 0,                                                         1]])"
      ]
     },
     "metadata": {},
     "output_type": "display_data"
    },
    {
     "data": {
      "text/latex": [
       "$\\displaystyle \\left[\\begin{matrix}0 & 0 & 0 & 1 & 0 & ω^{OT}_6 b_{OT, 12, 06} b^\\dagger_{OT, 12, 06}\\\\0 & 0 & 1 & 0 & 0 & g^{OT}_{LE, 06} \\left(b^\\dagger_{OT, 12, 06} + b_{OT, 12, 06}\\right)\\\\0 & 1 & 0 & 0 & 0 & g^{OT}_{CS, 06} \\left(b^\\dagger_{OT, 12, 06} + b_{OT, 12, 06}\\right)\\\\0 & 0 & 0 & 0 & 1 & 0\\\\1 & 0 & 0 & 0 & 0 & 0\\\\0 & 0 & 0 & 0 & 0 & 1\\end{matrix}\\right]$"
      ],
      "text/plain": [
       "Matrix([\n",
       "[0, 0, 0, 1, 0,            ω^{OT}_6*b_{OT, 12, 06}*b^\\dagger_{OT, 12, 06}],\n",
       "[0, 0, 1, 0, 0, g^{OT}_{LE, 06}*(b^\\dagger_{OT, 12, 06} + b_{OT, 12, 06})],\n",
       "[0, 1, 0, 0, 0, g^{OT}_{CS, 06}*(b^\\dagger_{OT, 12, 06} + b_{OT, 12, 06})],\n",
       "[0, 0, 0, 0, 1,                                                         0],\n",
       "[1, 0, 0, 0, 0,                                                         0],\n",
       "[0, 0, 0, 0, 0,                                                         1]])"
      ]
     },
     "metadata": {},
     "output_type": "display_data"
    },
    {
     "data": {
      "text/latex": [
       "$\\displaystyle \\left[\\begin{matrix}0 & 0 & 1 & 0 & 0\\\\0 & 0 & 0 & g^{OT}_{CS, 07} \\left(b^\\dagger_{OT, 12, 07} + b_{OT, 12, 07}\\right) + ε^{{CS}}_{12} & g^{OT}_{CS, 08}\\\\0 & 0 & 0 & g^{OT}_{LE, 07} \\left(b^\\dagger_{OT, 12, 07} + b_{OT, 12, 07}\\right) & g^{OT}_{LE, 08}\\\\0 & 1 & 0 & ω^{OT}_7 b_{OT, 12, 07} b^\\dagger_{OT, 12, 07} & 0\\\\1 & 0 & 0 & 0 & 0\\\\0 & 0 & 0 & 1 & 0\\end{matrix}\\right]$"
      ],
      "text/plain": [
       "Matrix([\n",
       "[0, 0, 1,                                                                         0,               0],\n",
       "[0, 0, 0, g^{OT}_{CS, 07}*(b^\\dagger_{OT, 12, 07} + b_{OT, 12, 07}) + ε^{{CS}}_{12}, g^{OT}_{CS, 08}],\n",
       "[0, 0, 0,                 g^{OT}_{LE, 07}*(b^\\dagger_{OT, 12, 07} + b_{OT, 12, 07}), g^{OT}_{LE, 08}],\n",
       "[0, 1, 0,                            ω^{OT}_7*b_{OT, 12, 07}*b^\\dagger_{OT, 12, 07},               0],\n",
       "[1, 0, 0,                                                                         0,               0],\n",
       "[0, 0, 0,                                                                         1,               0]])"
      ]
     },
     "metadata": {},
     "output_type": "display_data"
    },
    {
     "data": {
      "text/latex": [
       "$\\displaystyle \\left[\\begin{matrix}1 & 0 & 0 & 0\\\\0 & 0 & 1 & ω^{OT}_8 b_{OT, 12, 08} b^\\dagger_{OT, 12, 08}\\\\0 & 1 & 0 & 0\\\\0 & 0 & 0 & 1\\\\0 & 0 & 0 & b^\\dagger_{OT, 12, 08} + b_{OT, 12, 08}\\end{matrix}\\right]$"
      ],
      "text/plain": [
       "Matrix([\n",
       "[1, 0, 0,                                              0],\n",
       "[0, 0, 1, ω^{OT}_8*b_{OT, 12, 08}*b^\\dagger_{OT, 12, 08}],\n",
       "[0, 1, 0,                                              0],\n",
       "[0, 0, 0,                                              1],\n",
       "[0, 0, 0,        b^\\dagger_{OT, 12, 08} + b_{OT, 12, 08}]])"
      ]
     },
     "metadata": {},
     "output_type": "display_data"
    },
    {
     "data": {
      "text/latex": [
       "$\\displaystyle \\left[\\begin{matrix}0 & 0 & 1 & g^{OT}_{LE, 01} \\left(b^\\dagger_{OT, 13, 01} + b_{OT, 13, 01}\\right)\\\\0 & 1 & 0 & g^{OT}_{CS, 01} \\left(b^\\dagger_{OT, 13, 01} + b_{OT, 13, 01}\\right)\\\\1 & 0 & 0 & ω^{OT}_1 b_{OT, 13, 01} b^\\dagger_{OT, 13, 01}\\\\0 & 0 & 0 & 1\\end{matrix}\\right]$"
      ],
      "text/plain": [
       "Matrix([\n",
       "[0, 0, 1, g^{OT}_{LE, 01}*(b^\\dagger_{OT, 13, 01} + b_{OT, 13, 01})],\n",
       "[0, 1, 0, g^{OT}_{CS, 01}*(b^\\dagger_{OT, 13, 01} + b_{OT, 13, 01})],\n",
       "[1, 0, 0,            ω^{OT}_1*b_{OT, 13, 01}*b^\\dagger_{OT, 13, 01}],\n",
       "[0, 0, 0,                                                         1]])"
      ]
     },
     "metadata": {},
     "output_type": "display_data"
    },
    {
     "data": {
      "text/latex": [
       "$\\displaystyle \\left[\\begin{matrix}0 & 0 & 1 & ω^{OT}_2 b_{OT, 13, 02} b^\\dagger_{OT, 13, 02}\\\\1 & 0 & 0 & g^{OT}_{CS, 02} \\left(b^\\dagger_{OT, 13, 02} + b_{OT, 13, 02}\\right)\\\\0 & 1 & 0 & g^{OT}_{LE, 02} \\left(b^\\dagger_{OT, 13, 02} + b_{OT, 13, 02}\\right)\\\\0 & 0 & 0 & 1\\end{matrix}\\right]$"
      ],
      "text/plain": [
       "Matrix([\n",
       "[0, 0, 1,            ω^{OT}_2*b_{OT, 13, 02}*b^\\dagger_{OT, 13, 02}],\n",
       "[1, 0, 0, g^{OT}_{CS, 02}*(b^\\dagger_{OT, 13, 02} + b_{OT, 13, 02})],\n",
       "[0, 1, 0, g^{OT}_{LE, 02}*(b^\\dagger_{OT, 13, 02} + b_{OT, 13, 02})],\n",
       "[0, 0, 0,                                                         1]])"
      ]
     },
     "metadata": {},
     "output_type": "display_data"
    },
    {
     "data": {
      "text/latex": [
       "$\\displaystyle \\left[\\begin{matrix}0 & 0 & 1 & g^{OT}_{CS, 03} \\left(b^\\dagger_{OT, 13, 03} + b_{OT, 13, 03}\\right)\\\\1 & 0 & 0 & g^{OT}_{LE, 03} \\left(b^\\dagger_{OT, 13, 03} + b_{OT, 13, 03}\\right)\\\\0 & 1 & 0 & ω^{OT}_3 b_{OT, 13, 03} b^\\dagger_{OT, 13, 03}\\\\0 & 0 & 0 & 1\\end{matrix}\\right]$"
      ],
      "text/plain": [
       "Matrix([\n",
       "[0, 0, 1, g^{OT}_{CS, 03}*(b^\\dagger_{OT, 13, 03} + b_{OT, 13, 03})],\n",
       "[1, 0, 0, g^{OT}_{LE, 03}*(b^\\dagger_{OT, 13, 03} + b_{OT, 13, 03})],\n",
       "[0, 1, 0,            ω^{OT}_3*b_{OT, 13, 03}*b^\\dagger_{OT, 13, 03}],\n",
       "[0, 0, 0,                                                         1]])"
      ]
     },
     "metadata": {},
     "output_type": "display_data"
    },
    {
     "data": {
      "text/latex": [
       "$\\displaystyle \\left[\\begin{matrix}0 & 0 & 1 & g^{OT}_{LE, 04} \\left(b^\\dagger_{OT, 13, 04} + b_{OT, 13, 04}\\right)\\\\0 & 1 & 0 & ω^{OT}_4 b_{OT, 13, 04} b^\\dagger_{OT, 13, 04}\\\\1 & 0 & 0 & g^{OT}_{CS, 04} \\left(b^\\dagger_{OT, 13, 04} + b_{OT, 13, 04}\\right)\\\\0 & 0 & 0 & 1\\end{matrix}\\right]$"
      ],
      "text/plain": [
       "Matrix([\n",
       "[0, 0, 1, g^{OT}_{LE, 04}*(b^\\dagger_{OT, 13, 04} + b_{OT, 13, 04})],\n",
       "[0, 1, 0,            ω^{OT}_4*b_{OT, 13, 04}*b^\\dagger_{OT, 13, 04}],\n",
       "[1, 0, 0, g^{OT}_{CS, 04}*(b^\\dagger_{OT, 13, 04} + b_{OT, 13, 04})],\n",
       "[0, 0, 0,                                                         1]])"
      ]
     },
     "metadata": {},
     "output_type": "display_data"
    },
    {
     "data": {
      "text/latex": [
       "$\\displaystyle \\left[\\begin{matrix}0 & 0 & 1 & g^{OT}_{CS, 05} \\left(b^\\dagger_{OT, 13, 05} + b_{OT, 13, 05}\\right)\\\\0 & 1 & 0 & ω^{OT}_5 b_{OT, 13, 05} b^\\dagger_{OT, 13, 05}\\\\1 & 0 & 0 & g^{OT}_{LE, 05} \\left(b^\\dagger_{OT, 13, 05} + b_{OT, 13, 05}\\right)\\\\0 & 0 & 0 & 1\\end{matrix}\\right]$"
      ],
      "text/plain": [
       "Matrix([\n",
       "[0, 0, 1, g^{OT}_{CS, 05}*(b^\\dagger_{OT, 13, 05} + b_{OT, 13, 05})],\n",
       "[0, 1, 0,            ω^{OT}_5*b_{OT, 13, 05}*b^\\dagger_{OT, 13, 05}],\n",
       "[1, 0, 0, g^{OT}_{LE, 05}*(b^\\dagger_{OT, 13, 05} + b_{OT, 13, 05})],\n",
       "[0, 0, 0,                                                         1]])"
      ]
     },
     "metadata": {},
     "output_type": "display_data"
    },
    {
     "data": {
      "text/latex": [
       "$\\displaystyle \\left[\\begin{matrix}1 & 0 & 0 & g^{OT}_{LE, 06} \\left(b^\\dagger_{OT, 13, 06} + b_{OT, 13, 06}\\right)\\\\0 & 0 & 1 & ω^{OT}_6 b_{OT, 13, 06} b^\\dagger_{OT, 13, 06}\\\\0 & 1 & 0 & g^{OT}_{CS, 06} \\left(b^\\dagger_{OT, 13, 06} + b_{OT, 13, 06}\\right)\\\\0 & 0 & 0 & 1\\end{matrix}\\right]$"
      ],
      "text/plain": [
       "Matrix([\n",
       "[1, 0, 0, g^{OT}_{LE, 06}*(b^\\dagger_{OT, 13, 06} + b_{OT, 13, 06})],\n",
       "[0, 0, 1,            ω^{OT}_6*b_{OT, 13, 06}*b^\\dagger_{OT, 13, 06}],\n",
       "[0, 1, 0, g^{OT}_{CS, 06}*(b^\\dagger_{OT, 13, 06} + b_{OT, 13, 06})],\n",
       "[0, 0, 0,                                                         1]])"
      ]
     },
     "metadata": {},
     "output_type": "display_data"
    },
    {
     "data": {
      "text/latex": [
       "$\\displaystyle \\left[\\begin{matrix}g^{OT}_{LE, 08} & g^{OT}_{LE, 07} \\left(b^\\dagger_{OT, 13, 07} + b_{OT, 13, 07}\\right) & 0\\\\g^{OT}_{CS, 08} & g^{OT}_{CS, 07} \\left(b^\\dagger_{OT, 13, 07} + b_{OT, 13, 07}\\right) + ε^{{CS}}_{13} & 0\\\\0 & ω^{OT}_7 b_{OT, 13, 07} b^\\dagger_{OT, 13, 07} & 1\\\\0 & 1 & 0\\end{matrix}\\right]$"
      ],
      "text/plain": [
       "Matrix([\n",
       "[g^{OT}_{LE, 08},                 g^{OT}_{LE, 07}*(b^\\dagger_{OT, 13, 07} + b_{OT, 13, 07}), 0],\n",
       "[g^{OT}_{CS, 08}, g^{OT}_{CS, 07}*(b^\\dagger_{OT, 13, 07} + b_{OT, 13, 07}) + ε^{{CS}}_{13}, 0],\n",
       "[              0,                            ω^{OT}_7*b_{OT, 13, 07}*b^\\dagger_{OT, 13, 07}, 1],\n",
       "[              0,                                                                         1, 0]])"
      ]
     },
     "metadata": {},
     "output_type": "display_data"
    },
    {
     "data": {
      "text/latex": [
       "$\\displaystyle \\left[\\begin{matrix}b^\\dagger_{OT, 13, 08} + b_{OT, 13, 08}\\\\1\\\\ω^{OT}_8 b_{OT, 13, 08} b^\\dagger_{OT, 13, 08}\\end{matrix}\\right]$"
      ],
      "text/plain": [
       "Matrix([\n",
       "[       b^\\dagger_{OT, 13, 08} + b_{OT, 13, 08}],\n",
       "[                                             1],\n",
       "[ω^{OT}_8*b_{OT, 13, 08}*b^\\dagger_{OT, 13, 08}]])"
      ]
     },
     "metadata": {},
     "output_type": "display_data"
    },
    {
     "name": "stdout",
     "output_type": "stream",
     "text": [
      "W0 W1 W2 W3 W4 W5 W6 W7 W8 W9 W10 W11 W12 W13 W14 W15 W16 W17 W18 W19 W20 W21 W22 W23 W24 W25 W26 W27 W28 W29 W30 W31 W32 W33 W34 W35 W36 W37 W38 W39 W40 W41 W42 W43 W44 W45 W46 W47 W48 W49 W50 W51 W52 W53 W54 W55 W56 W57 W58 W59 W60 W61 W62 W63 W64 W65 W66 W67 W68 W69 W70 W71 W72 W73 W74 W75 W76 W77 W78 W79 W80 W81 W82 W83 W84 W85 W86 W87 W88 W89 W90 W91 W92 W93 W94 W95 W96 W97 W98 W99 W100 W101 W102 W103 W104 W105 W106 W107 W108 W109 W110 W111 W112 W113 =\n"
     ]
    },
    {
     "data": {
      "text/latex": [
       "$\\displaystyle J (|LE_{01}><LE_{02}|+h.c.) + J (|LE_{02}><LE_{03}|+h.c.) + J (|LE_{03}><LE_{04}|+h.c.) + J (|LE_{04}><LE_{05}|+h.c.) + J (|LE_{05}><LE_{06}|+h.c.) + J (|LE_{06}><LE_{07}|+h.c.) + J (|LE_{07}><LE_{08}|+h.c.) + J (|LE_{08}><LE_{09}|+h.c.) + J (|LE_{09}><LE_{10}|+h.c.) + J (|LE_{10}><LE_{11}|+h.c.) + J (|LE_{11}><LE_{12}|+h.c.) + J (|LE_{12}><LE_{13}|+h.c.) + g^{F}_1 |CS_{01}><CS_{01}| b^\\dagger_{F, 01} + g^{F}_1 |CS_{01}><CS_{01}| b_{F, 01} + g^{F}_1 |CS_{02}><CS_{02}| b^\\dagger_{F, 01} + g^{F}_1 |CS_{02}><CS_{02}| b_{F, 01} + g^{F}_1 |CS_{03}><CS_{03}| b^\\dagger_{F, 01} + g^{F}_1 |CS_{03}><CS_{03}| b_{F, 01} + g^{F}_1 |CS_{04}><CS_{04}| b^\\dagger_{F, 01} + g^{F}_1 |CS_{04}><CS_{04}| b_{F, 01} + g^{F}_1 |CS_{05}><CS_{05}| b^\\dagger_{F, 01} + g^{F}_1 |CS_{05}><CS_{05}| b_{F, 01} + g^{F}_1 |CS_{06}><CS_{06}| b^\\dagger_{F, 01} + g^{F}_1 |CS_{06}><CS_{06}| b_{F, 01} + g^{F}_1 |CS_{07}><CS_{07}| b^\\dagger_{F, 01} + g^{F}_1 |CS_{07}><CS_{07}| b_{F, 01} + g^{F}_1 |CS_{08}><CS_{08}| b^\\dagger_{F, 01} + g^{F}_1 |CS_{08}><CS_{08}| b_{F, 01} + g^{F}_1 |CS_{09}><CS_{09}| b^\\dagger_{F, 01} + g^{F}_1 |CS_{09}><CS_{09}| b_{F, 01} + g^{F}_1 |CS_{10}><CS_{10}| b^\\dagger_{F, 01} + g^{F}_1 |CS_{10}><CS_{10}| b_{F, 01} + g^{F}_1 |CS_{11}><CS_{11}| b^\\dagger_{F, 01} + g^{F}_1 |CS_{11}><CS_{11}| b_{F, 01} + g^{F}_1 |CS_{12}><CS_{12}| b^\\dagger_{F, 01} + g^{F}_1 |CS_{12}><CS_{12}| b_{F, 01} + g^{F}_1 |CS_{13}><CS_{13}| b^\\dagger_{F, 01} + g^{F}_1 |CS_{13}><CS_{13}| b_{F, 01} + g^{F}_2 |CS_{01}><CS_{01}| b^\\dagger_{F, 02} + g^{F}_2 |CS_{01}><CS_{01}| b_{F, 02} + g^{F}_2 |CS_{02}><CS_{02}| b^\\dagger_{F, 02} + g^{F}_2 |CS_{02}><CS_{02}| b_{F, 02} + g^{F}_2 |CS_{03}><CS_{03}| b^\\dagger_{F, 02} + g^{F}_2 |CS_{03}><CS_{03}| b_{F, 02} + g^{F}_2 |CS_{04}><CS_{04}| b^\\dagger_{F, 02} + g^{F}_2 |CS_{04}><CS_{04}| b_{F, 02} + g^{F}_2 |CS_{05}><CS_{05}| b^\\dagger_{F, 02} + g^{F}_2 |CS_{05}><CS_{05}| b_{F, 02} + g^{F}_2 |CS_{06}><CS_{06}| b^\\dagger_{F, 02} + g^{F}_2 |CS_{06}><CS_{06}| b_{F, 02} + g^{F}_2 |CS_{07}><CS_{07}| b^\\dagger_{F, 02} + g^{F}_2 |CS_{07}><CS_{07}| b_{F, 02} + g^{F}_2 |CS_{08}><CS_{08}| b^\\dagger_{F, 02} + g^{F}_2 |CS_{08}><CS_{08}| b_{F, 02} + g^{F}_2 |CS_{09}><CS_{09}| b^\\dagger_{F, 02} + g^{F}_2 |CS_{09}><CS_{09}| b_{F, 02} + g^{F}_2 |CS_{10}><CS_{10}| b^\\dagger_{F, 02} + g^{F}_2 |CS_{10}><CS_{10}| b_{F, 02} + g^{F}_2 |CS_{11}><CS_{11}| b^\\dagger_{F, 02} + g^{F}_2 |CS_{11}><CS_{11}| b_{F, 02} + g^{F}_2 |CS_{12}><CS_{12}| b^\\dagger_{F, 02} + g^{F}_2 |CS_{12}><CS_{12}| b_{F, 02} + g^{F}_2 |CS_{13}><CS_{13}| b^\\dagger_{F, 02} + g^{F}_2 |CS_{13}><CS_{13}| b_{F, 02} + g^{F}_3 |CS_{01}><CS_{01}| b^\\dagger_{F, 03} + g^{F}_3 |CS_{01}><CS_{01}| b_{F, 03} + g^{F}_3 |CS_{02}><CS_{02}| b^\\dagger_{F, 03} + g^{F}_3 |CS_{02}><CS_{02}| b_{F, 03} + g^{F}_3 |CS_{03}><CS_{03}| b^\\dagger_{F, 03} + g^{F}_3 |CS_{03}><CS_{03}| b_{F, 03} + g^{F}_3 |CS_{04}><CS_{04}| b^\\dagger_{F, 03} + g^{F}_3 |CS_{04}><CS_{04}| b_{F, 03} + g^{F}_3 |CS_{05}><CS_{05}| b^\\dagger_{F, 03} + g^{F}_3 |CS_{05}><CS_{05}| b_{F, 03} + g^{F}_3 |CS_{06}><CS_{06}| b^\\dagger_{F, 03} + g^{F}_3 |CS_{06}><CS_{06}| b_{F, 03} + g^{F}_3 |CS_{07}><CS_{07}| b^\\dagger_{F, 03} + g^{F}_3 |CS_{07}><CS_{07}| b_{F, 03} + g^{F}_3 |CS_{08}><CS_{08}| b^\\dagger_{F, 03} + g^{F}_3 |CS_{08}><CS_{08}| b_{F, 03} + g^{F}_3 |CS_{09}><CS_{09}| b^\\dagger_{F, 03} + g^{F}_3 |CS_{09}><CS_{09}| b_{F, 03} + g^{F}_3 |CS_{10}><CS_{10}| b^\\dagger_{F, 03} + g^{F}_3 |CS_{10}><CS_{10}| b_{F, 03} + g^{F}_3 |CS_{11}><CS_{11}| b^\\dagger_{F, 03} + g^{F}_3 |CS_{11}><CS_{11}| b_{F, 03} + g^{F}_3 |CS_{12}><CS_{12}| b^\\dagger_{F, 03} + g^{F}_3 |CS_{12}><CS_{12}| b_{F, 03} + g^{F}_3 |CS_{13}><CS_{13}| b^\\dagger_{F, 03} + g^{F}_3 |CS_{13}><CS_{13}| b_{F, 03} + g^{F}_4 |CS_{01}><CS_{01}| b^\\dagger_{F, 04} + g^{F}_4 |CS_{01}><CS_{01}| b_{F, 04} + g^{F}_4 |CS_{02}><CS_{02}| b^\\dagger_{F, 04} + g^{F}_4 |CS_{02}><CS_{02}| b_{F, 04} + g^{F}_4 |CS_{03}><CS_{03}| b^\\dagger_{F, 04} + g^{F}_4 |CS_{03}><CS_{03}| b_{F, 04} + g^{F}_4 |CS_{04}><CS_{04}| b^\\dagger_{F, 04} + g^{F}_4 |CS_{04}><CS_{04}| b_{F, 04} + g^{F}_4 |CS_{05}><CS_{05}| b^\\dagger_{F, 04} + g^{F}_4 |CS_{05}><CS_{05}| b_{F, 04} + g^{F}_4 |CS_{06}><CS_{06}| b^\\dagger_{F, 04} + g^{F}_4 |CS_{06}><CS_{06}| b_{F, 04} + g^{F}_4 |CS_{07}><CS_{07}| b^\\dagger_{F, 04} + g^{F}_4 |CS_{07}><CS_{07}| b_{F, 04} + g^{F}_4 |CS_{08}><CS_{08}| b^\\dagger_{F, 04} + g^{F}_4 |CS_{08}><CS_{08}| b_{F, 04} + g^{F}_4 |CS_{09}><CS_{09}| b^\\dagger_{F, 04} + g^{F}_4 |CS_{09}><CS_{09}| b_{F, 04} + g^{F}_4 |CS_{10}><CS_{10}| b^\\dagger_{F, 04} + g^{F}_4 |CS_{10}><CS_{10}| b_{F, 04} + g^{F}_4 |CS_{11}><CS_{11}| b^\\dagger_{F, 04} + g^{F}_4 |CS_{11}><CS_{11}| b_{F, 04} + g^{F}_4 |CS_{12}><CS_{12}| b^\\dagger_{F, 04} + g^{F}_4 |CS_{12}><CS_{12}| b_{F, 04} + g^{F}_4 |CS_{13}><CS_{13}| b^\\dagger_{F, 04} + g^{F}_4 |CS_{13}><CS_{13}| b_{F, 04} + g^{F}_5 |CS_{01}><CS_{01}| b^\\dagger_{F, 05} + g^{F}_5 |CS_{01}><CS_{01}| b_{F, 05} + g^{F}_5 |CS_{02}><CS_{02}| b^\\dagger_{F, 05} + g^{F}_5 |CS_{02}><CS_{02}| b_{F, 05} + g^{F}_5 |CS_{03}><CS_{03}| b^\\dagger_{F, 05} + g^{F}_5 |CS_{03}><CS_{03}| b_{F, 05} + g^{F}_5 |CS_{04}><CS_{04}| b^\\dagger_{F, 05} + g^{F}_5 |CS_{04}><CS_{04}| b_{F, 05} + g^{F}_5 |CS_{05}><CS_{05}| b^\\dagger_{F, 05} + g^{F}_5 |CS_{05}><CS_{05}| b_{F, 05} + g^{F}_5 |CS_{06}><CS_{06}| b^\\dagger_{F, 05} + g^{F}_5 |CS_{06}><CS_{06}| b_{F, 05} + g^{F}_5 |CS_{07}><CS_{07}| b^\\dagger_{F, 05} + g^{F}_5 |CS_{07}><CS_{07}| b_{F, 05} + g^{F}_5 |CS_{08}><CS_{08}| b^\\dagger_{F, 05} + g^{F}_5 |CS_{08}><CS_{08}| b_{F, 05} + g^{F}_5 |CS_{09}><CS_{09}| b^\\dagger_{F, 05} + g^{F}_5 |CS_{09}><CS_{09}| b_{F, 05} + g^{F}_5 |CS_{10}><CS_{10}| b^\\dagger_{F, 05} + g^{F}_5 |CS_{10}><CS_{10}| b_{F, 05} + g^{F}_5 |CS_{11}><CS_{11}| b^\\dagger_{F, 05} + g^{F}_5 |CS_{11}><CS_{11}| b_{F, 05} + g^{F}_5 |CS_{12}><CS_{12}| b^\\dagger_{F, 05} + g^{F}_5 |CS_{12}><CS_{12}| b_{F, 05} + g^{F}_5 |CS_{13}><CS_{13}| b^\\dagger_{F, 05} + g^{F}_5 |CS_{13}><CS_{13}| b_{F, 05} + g^{F}_6 |CS_{01}><CS_{01}| b^\\dagger_{F, 06} + g^{F}_6 |CS_{01}><CS_{01}| b_{F, 06} + g^{F}_6 |CS_{02}><CS_{02}| b^\\dagger_{F, 06} + g^{F}_6 |CS_{02}><CS_{02}| b_{F, 06} + g^{F}_6 |CS_{03}><CS_{03}| b^\\dagger_{F, 06} + g^{F}_6 |CS_{03}><CS_{03}| b_{F, 06} + g^{F}_6 |CS_{04}><CS_{04}| b^\\dagger_{F, 06} + g^{F}_6 |CS_{04}><CS_{04}| b_{F, 06} + g^{F}_6 |CS_{05}><CS_{05}| b^\\dagger_{F, 06} + g^{F}_6 |CS_{05}><CS_{05}| b_{F, 06} + g^{F}_6 |CS_{06}><CS_{06}| b^\\dagger_{F, 06} + g^{F}_6 |CS_{06}><CS_{06}| b_{F, 06} + g^{F}_6 |CS_{07}><CS_{07}| b^\\dagger_{F, 06} + g^{F}_6 |CS_{07}><CS_{07}| b_{F, 06} + g^{F}_6 |CS_{08}><CS_{08}| b^\\dagger_{F, 06} + g^{F}_6 |CS_{08}><CS_{08}| b_{F, 06} + g^{F}_6 |CS_{09}><CS_{09}| b^\\dagger_{F, 06} + g^{F}_6 |CS_{09}><CS_{09}| b_{F, 06} + g^{F}_6 |CS_{10}><CS_{10}| b^\\dagger_{F, 06} + g^{F}_6 |CS_{10}><CS_{10}| b_{F, 06} + g^{F}_6 |CS_{11}><CS_{11}| b^\\dagger_{F, 06} + g^{F}_6 |CS_{11}><CS_{11}| b_{F, 06} + g^{F}_6 |CS_{12}><CS_{12}| b^\\dagger_{F, 06} + g^{F}_6 |CS_{12}><CS_{12}| b_{F, 06} + g^{F}_6 |CS_{13}><CS_{13}| b^\\dagger_{F, 06} + g^{F}_6 |CS_{13}><CS_{13}| b_{F, 06} + g^{F}_7 |CS_{01}><CS_{01}| b^\\dagger_{F, 07} + g^{F}_7 |CS_{01}><CS_{01}| b_{F, 07} + g^{F}_7 |CS_{02}><CS_{02}| b^\\dagger_{F, 07} + g^{F}_7 |CS_{02}><CS_{02}| b_{F, 07} + g^{F}_7 |CS_{03}><CS_{03}| b^\\dagger_{F, 07} + g^{F}_7 |CS_{03}><CS_{03}| b_{F, 07} + g^{F}_7 |CS_{04}><CS_{04}| b^\\dagger_{F, 07} + g^{F}_7 |CS_{04}><CS_{04}| b_{F, 07} + g^{F}_7 |CS_{05}><CS_{05}| b^\\dagger_{F, 07} + g^{F}_7 |CS_{05}><CS_{05}| b_{F, 07} + g^{F}_7 |CS_{06}><CS_{06}| b^\\dagger_{F, 07} + g^{F}_7 |CS_{06}><CS_{06}| b_{F, 07} + g^{F}_7 |CS_{07}><CS_{07}| b^\\dagger_{F, 07} + g^{F}_7 |CS_{07}><CS_{07}| b_{F, 07} + g^{F}_7 |CS_{08}><CS_{08}| b^\\dagger_{F, 07} + g^{F}_7 |CS_{08}><CS_{08}| b_{F, 07} + g^{F}_7 |CS_{09}><CS_{09}| b^\\dagger_{F, 07} + g^{F}_7 |CS_{09}><CS_{09}| b_{F, 07} + g^{F}_7 |CS_{10}><CS_{10}| b^\\dagger_{F, 07} + g^{F}_7 |CS_{10}><CS_{10}| b_{F, 07} + g^{F}_7 |CS_{11}><CS_{11}| b^\\dagger_{F, 07} + g^{F}_7 |CS_{11}><CS_{11}| b_{F, 07} + g^{F}_7 |CS_{12}><CS_{12}| b^\\dagger_{F, 07} + g^{F}_7 |CS_{12}><CS_{12}| b_{F, 07} + g^{F}_7 |CS_{13}><CS_{13}| b^\\dagger_{F, 07} + g^{F}_7 |CS_{13}><CS_{13}| b_{F, 07} + g^{F}_8 |CS_{01}><CS_{01}| b^\\dagger_{F, 08} + g^{F}_8 |CS_{01}><CS_{01}| b_{F, 08} + g^{F}_8 |CS_{02}><CS_{02}| b^\\dagger_{F, 08} + g^{F}_8 |CS_{02}><CS_{02}| b_{F, 08} + g^{F}_8 |CS_{03}><CS_{03}| b^\\dagger_{F, 08} + g^{F}_8 |CS_{03}><CS_{03}| b_{F, 08} + g^{F}_8 |CS_{04}><CS_{04}| b^\\dagger_{F, 08} + g^{F}_8 |CS_{04}><CS_{04}| b_{F, 08} + g^{F}_8 |CS_{05}><CS_{05}| b^\\dagger_{F, 08} + g^{F}_8 |CS_{05}><CS_{05}| b_{F, 08} + g^{F}_8 |CS_{06}><CS_{06}| b^\\dagger_{F, 08} + g^{F}_8 |CS_{06}><CS_{06}| b_{F, 08} + g^{F}_8 |CS_{07}><CS_{07}| b^\\dagger_{F, 08} + g^{F}_8 |CS_{07}><CS_{07}| b_{F, 08} + g^{F}_8 |CS_{08}><CS_{08}| b^\\dagger_{F, 08} + g^{F}_8 |CS_{08}><CS_{08}| b_{F, 08} + g^{F}_8 |CS_{09}><CS_{09}| b^\\dagger_{F, 08} + g^{F}_8 |CS_{09}><CS_{09}| b_{F, 08} + g^{F}_8 |CS_{10}><CS_{10}| b^\\dagger_{F, 08} + g^{F}_8 |CS_{10}><CS_{10}| b_{F, 08} + g^{F}_8 |CS_{11}><CS_{11}| b^\\dagger_{F, 08} + g^{F}_8 |CS_{11}><CS_{11}| b_{F, 08} + g^{F}_8 |CS_{12}><CS_{12}| b^\\dagger_{F, 08} + g^{F}_8 |CS_{12}><CS_{12}| b_{F, 08} + g^{F}_8 |CS_{13}><CS_{13}| b^\\dagger_{F, 08} + g^{F}_8 |CS_{13}><CS_{13}| b_{F, 08} + g^{OT}_{CS, 01} |CS_{01}><CS_{01}| b^\\dagger_{OT, 01, 01} + g^{OT}_{CS, 01} |CS_{01}><CS_{01}| b_{OT, 01, 01} + g^{OT}_{CS, 01} |CS_{02}><CS_{02}| b^\\dagger_{OT, 02, 01} + g^{OT}_{CS, 01} |CS_{02}><CS_{02}| b_{OT, 02, 01} + g^{OT}_{CS, 01} |CS_{03}><CS_{03}| b^\\dagger_{OT, 03, 01} + g^{OT}_{CS, 01} |CS_{03}><CS_{03}| b_{OT, 03, 01} + g^{OT}_{CS, 01} |CS_{04}><CS_{04}| b^\\dagger_{OT, 04, 01} + g^{OT}_{CS, 01} |CS_{04}><CS_{04}| b_{OT, 04, 01} + g^{OT}_{CS, 01} |CS_{05}><CS_{05}| b^\\dagger_{OT, 05, 01} + g^{OT}_{CS, 01} |CS_{05}><CS_{05}| b_{OT, 05, 01} + g^{OT}_{CS, 01} |CS_{06}><CS_{06}| b^\\dagger_{OT, 06, 01} + g^{OT}_{CS, 01} |CS_{06}><CS_{06}| b_{OT, 06, 01} + g^{OT}_{CS, 01} |CS_{07}><CS_{07}| b^\\dagger_{OT, 07, 01} + g^{OT}_{CS, 01} |CS_{07}><CS_{07}| b_{OT, 07, 01} + g^{OT}_{CS, 01} |CS_{08}><CS_{08}| b^\\dagger_{OT, 08, 01} + g^{OT}_{CS, 01} |CS_{08}><CS_{08}| b_{OT, 08, 01} + g^{OT}_{CS, 01} |CS_{09}><CS_{09}| b^\\dagger_{OT, 09, 01} + g^{OT}_{CS, 01} |CS_{09}><CS_{09}| b_{OT, 09, 01} + g^{OT}_{CS, 01} |CS_{10}><CS_{10}| b^\\dagger_{OT, 10, 01} + g^{OT}_{CS, 01} |CS_{10}><CS_{10}| b_{OT, 10, 01} + g^{OT}_{CS, 01} |CS_{11}><CS_{11}| b^\\dagger_{OT, 11, 01} + g^{OT}_{CS, 01} |CS_{11}><CS_{11}| b_{OT, 11, 01} + g^{OT}_{CS, 01} |CS_{12}><CS_{12}| b^\\dagger_{OT, 12, 01} + g^{OT}_{CS, 01} |CS_{12}><CS_{12}| b_{OT, 12, 01} + g^{OT}_{CS, 01} |CS_{13}><CS_{13}| b^\\dagger_{OT, 13, 01} + g^{OT}_{CS, 01} |CS_{13}><CS_{13}| b_{OT, 13, 01} + g^{OT}_{CS, 02} |CS_{01}><CS_{01}| b^\\dagger_{OT, 01, 02} + g^{OT}_{CS, 02} |CS_{01}><CS_{01}| b_{OT, 01, 02} + g^{OT}_{CS, 02} |CS_{02}><CS_{02}| b^\\dagger_{OT, 02, 02} + g^{OT}_{CS, 02} |CS_{02}><CS_{02}| b_{OT, 02, 02} + g^{OT}_{CS, 02} |CS_{03}><CS_{03}| b^\\dagger_{OT, 03, 02} + g^{OT}_{CS, 02} |CS_{03}><CS_{03}| b_{OT, 03, 02} + g^{OT}_{CS, 02} |CS_{04}><CS_{04}| b^\\dagger_{OT, 04, 02} + g^{OT}_{CS, 02} |CS_{04}><CS_{04}| b_{OT, 04, 02} + g^{OT}_{CS, 02} |CS_{05}><CS_{05}| b^\\dagger_{OT, 05, 02} + g^{OT}_{CS, 02} |CS_{05}><CS_{05}| b_{OT, 05, 02} + g^{OT}_{CS, 02} |CS_{06}><CS_{06}| b^\\dagger_{OT, 06, 02} + g^{OT}_{CS, 02} |CS_{06}><CS_{06}| b_{OT, 06, 02} + g^{OT}_{CS, 02} |CS_{07}><CS_{07}| b^\\dagger_{OT, 07, 02} + g^{OT}_{CS, 02} |CS_{07}><CS_{07}| b_{OT, 07, 02} + g^{OT}_{CS, 02} |CS_{08}><CS_{08}| b^\\dagger_{OT, 08, 02} + g^{OT}_{CS, 02} |CS_{08}><CS_{08}| b_{OT, 08, 02} + g^{OT}_{CS, 02} |CS_{09}><CS_{09}| b^\\dagger_{OT, 09, 02} + g^{OT}_{CS, 02} |CS_{09}><CS_{09}| b_{OT, 09, 02} + g^{OT}_{CS, 02} |CS_{10}><CS_{10}| b^\\dagger_{OT, 10, 02} + g^{OT}_{CS, 02} |CS_{10}><CS_{10}| b_{OT, 10, 02} + g^{OT}_{CS, 02} |CS_{11}><CS_{11}| b^\\dagger_{OT, 11, 02} + g^{OT}_{CS, 02} |CS_{11}><CS_{11}| b_{OT, 11, 02} + g^{OT}_{CS, 02} |CS_{12}><CS_{12}| b^\\dagger_{OT, 12, 02} + g^{OT}_{CS, 02} |CS_{12}><CS_{12}| b_{OT, 12, 02} + g^{OT}_{CS, 02} |CS_{13}><CS_{13}| b^\\dagger_{OT, 13, 02} + g^{OT}_{CS, 02} |CS_{13}><CS_{13}| b_{OT, 13, 02} + g^{OT}_{CS, 03} |CS_{01}><CS_{01}| b^\\dagger_{OT, 01, 03} + g^{OT}_{CS, 03} |CS_{01}><CS_{01}| b_{OT, 01, 03} + g^{OT}_{CS, 03} |CS_{02}><CS_{02}| b^\\dagger_{OT, 02, 03} + g^{OT}_{CS, 03} |CS_{02}><CS_{02}| b_{OT, 02, 03} + g^{OT}_{CS, 03} |CS_{03}><CS_{03}| b^\\dagger_{OT, 03, 03} + g^{OT}_{CS, 03} |CS_{03}><CS_{03}| b_{OT, 03, 03} + g^{OT}_{CS, 03} |CS_{04}><CS_{04}| b^\\dagger_{OT, 04, 03} + g^{OT}_{CS, 03} |CS_{04}><CS_{04}| b_{OT, 04, 03} + g^{OT}_{CS, 03} |CS_{05}><CS_{05}| b^\\dagger_{OT, 05, 03} + g^{OT}_{CS, 03} |CS_{05}><CS_{05}| b_{OT, 05, 03} + g^{OT}_{CS, 03} |CS_{06}><CS_{06}| b^\\dagger_{OT, 06, 03} + g^{OT}_{CS, 03} |CS_{06}><CS_{06}| b_{OT, 06, 03} + g^{OT}_{CS, 03} |CS_{07}><CS_{07}| b^\\dagger_{OT, 07, 03} + g^{OT}_{CS, 03} |CS_{07}><CS_{07}| b_{OT, 07, 03} + g^{OT}_{CS, 03} |CS_{08}><CS_{08}| b^\\dagger_{OT, 08, 03} + g^{OT}_{CS, 03} |CS_{08}><CS_{08}| b_{OT, 08, 03} + g^{OT}_{CS, 03} |CS_{09}><CS_{09}| b^\\dagger_{OT, 09, 03} + g^{OT}_{CS, 03} |CS_{09}><CS_{09}| b_{OT, 09, 03} + g^{OT}_{CS, 03} |CS_{10}><CS_{10}| b^\\dagger_{OT, 10, 03} + g^{OT}_{CS, 03} |CS_{10}><CS_{10}| b_{OT, 10, 03} + g^{OT}_{CS, 03} |CS_{11}><CS_{11}| b^\\dagger_{OT, 11, 03} + g^{OT}_{CS, 03} |CS_{11}><CS_{11}| b_{OT, 11, 03} + g^{OT}_{CS, 03} |CS_{12}><CS_{12}| b^\\dagger_{OT, 12, 03} + g^{OT}_{CS, 03} |CS_{12}><CS_{12}| b_{OT, 12, 03} + g^{OT}_{CS, 03} |CS_{13}><CS_{13}| b^\\dagger_{OT, 13, 03} + g^{OT}_{CS, 03} |CS_{13}><CS_{13}| b_{OT, 13, 03} + g^{OT}_{CS, 04} |CS_{01}><CS_{01}| b^\\dagger_{OT, 01, 04} + g^{OT}_{CS, 04} |CS_{01}><CS_{01}| b_{OT, 01, 04} + g^{OT}_{CS, 04} |CS_{02}><CS_{02}| b^\\dagger_{OT, 02, 04} + g^{OT}_{CS, 04} |CS_{02}><CS_{02}| b_{OT, 02, 04} + g^{OT}_{CS, 04} |CS_{03}><CS_{03}| b^\\dagger_{OT, 03, 04} + g^{OT}_{CS, 04} |CS_{03}><CS_{03}| b_{OT, 03, 04} + g^{OT}_{CS, 04} |CS_{04}><CS_{04}| b^\\dagger_{OT, 04, 04} + g^{OT}_{CS, 04} |CS_{04}><CS_{04}| b_{OT, 04, 04} + g^{OT}_{CS, 04} |CS_{05}><CS_{05}| b^\\dagger_{OT, 05, 04} + g^{OT}_{CS, 04} |CS_{05}><CS_{05}| b_{OT, 05, 04} + g^{OT}_{CS, 04} |CS_{06}><CS_{06}| b^\\dagger_{OT, 06, 04} + g^{OT}_{CS, 04} |CS_{06}><CS_{06}| b_{OT, 06, 04} + g^{OT}_{CS, 04} |CS_{07}><CS_{07}| b^\\dagger_{OT, 07, 04} + g^{OT}_{CS, 04} |CS_{07}><CS_{07}| b_{OT, 07, 04} + g^{OT}_{CS, 04} |CS_{08}><CS_{08}| b^\\dagger_{OT, 08, 04} + g^{OT}_{CS, 04} |CS_{08}><CS_{08}| b_{OT, 08, 04} + g^{OT}_{CS, 04} |CS_{09}><CS_{09}| b^\\dagger_{OT, 09, 04} + g^{OT}_{CS, 04} |CS_{09}><CS_{09}| b_{OT, 09, 04} + g^{OT}_{CS, 04} |CS_{10}><CS_{10}| b^\\dagger_{OT, 10, 04} + g^{OT}_{CS, 04} |CS_{10}><CS_{10}| b_{OT, 10, 04} + g^{OT}_{CS, 04} |CS_{11}><CS_{11}| b^\\dagger_{OT, 11, 04} + g^{OT}_{CS, 04} |CS_{11}><CS_{11}| b_{OT, 11, 04} + g^{OT}_{CS, 04} |CS_{12}><CS_{12}| b^\\dagger_{OT, 12, 04} + g^{OT}_{CS, 04} |CS_{12}><CS_{12}| b_{OT, 12, 04} + g^{OT}_{CS, 04} |CS_{13}><CS_{13}| b^\\dagger_{OT, 13, 04} + g^{OT}_{CS, 04} |CS_{13}><CS_{13}| b_{OT, 13, 04} + g^{OT}_{CS, 05} |CS_{01}><CS_{01}| b^\\dagger_{OT, 01, 05} + g^{OT}_{CS, 05} |CS_{01}><CS_{01}| b_{OT, 01, 05} + g^{OT}_{CS, 05} |CS_{02}><CS_{02}| b^\\dagger_{OT, 02, 05} + g^{OT}_{CS, 05} |CS_{02}><CS_{02}| b_{OT, 02, 05} + g^{OT}_{CS, 05} |CS_{03}><CS_{03}| b^\\dagger_{OT, 03, 05} + g^{OT}_{CS, 05} |CS_{03}><CS_{03}| b_{OT, 03, 05} + g^{OT}_{CS, 05} |CS_{04}><CS_{04}| b^\\dagger_{OT, 04, 05} + g^{OT}_{CS, 05} |CS_{04}><CS_{04}| b_{OT, 04, 05} + g^{OT}_{CS, 05} |CS_{05}><CS_{05}| b^\\dagger_{OT, 05, 05} + g^{OT}_{CS, 05} |CS_{05}><CS_{05}| b_{OT, 05, 05} + g^{OT}_{CS, 05} |CS_{06}><CS_{06}| b^\\dagger_{OT, 06, 05} + g^{OT}_{CS, 05} |CS_{06}><CS_{06}| b_{OT, 06, 05} + g^{OT}_{CS, 05} |CS_{07}><CS_{07}| b^\\dagger_{OT, 07, 05} + g^{OT}_{CS, 05} |CS_{07}><CS_{07}| b_{OT, 07, 05} + g^{OT}_{CS, 05} |CS_{08}><CS_{08}| b^\\dagger_{OT, 08, 05} + g^{OT}_{CS, 05} |CS_{08}><CS_{08}| b_{OT, 08, 05} + g^{OT}_{CS, 05} |CS_{09}><CS_{09}| b^\\dagger_{OT, 09, 05} + g^{OT}_{CS, 05} |CS_{09}><CS_{09}| b_{OT, 09, 05} + g^{OT}_{CS, 05} |CS_{10}><CS_{10}| b^\\dagger_{OT, 10, 05} + g^{OT}_{CS, 05} |CS_{10}><CS_{10}| b_{OT, 10, 05} + g^{OT}_{CS, 05} |CS_{11}><CS_{11}| b^\\dagger_{OT, 11, 05} + g^{OT}_{CS, 05} |CS_{11}><CS_{11}| b_{OT, 11, 05} + g^{OT}_{CS, 05} |CS_{12}><CS_{12}| b^\\dagger_{OT, 12, 05} + g^{OT}_{CS, 05} |CS_{12}><CS_{12}| b_{OT, 12, 05} + g^{OT}_{CS, 05} |CS_{13}><CS_{13}| b^\\dagger_{OT, 13, 05} + g^{OT}_{CS, 05} |CS_{13}><CS_{13}| b_{OT, 13, 05} + g^{OT}_{CS, 06} |CS_{01}><CS_{01}| b^\\dagger_{OT, 01, 06} + g^{OT}_{CS, 06} |CS_{01}><CS_{01}| b_{OT, 01, 06} + g^{OT}_{CS, 06} |CS_{02}><CS_{02}| b^\\dagger_{OT, 02, 06} + g^{OT}_{CS, 06} |CS_{02}><CS_{02}| b_{OT, 02, 06} + g^{OT}_{CS, 06} |CS_{03}><CS_{03}| b^\\dagger_{OT, 03, 06} + g^{OT}_{CS, 06} |CS_{03}><CS_{03}| b_{OT, 03, 06} + g^{OT}_{CS, 06} |CS_{04}><CS_{04}| b^\\dagger_{OT, 04, 06} + g^{OT}_{CS, 06} |CS_{04}><CS_{04}| b_{OT, 04, 06} + g^{OT}_{CS, 06} |CS_{05}><CS_{05}| b^\\dagger_{OT, 05, 06} + g^{OT}_{CS, 06} |CS_{05}><CS_{05}| b_{OT, 05, 06} + g^{OT}_{CS, 06} |CS_{06}><CS_{06}| b^\\dagger_{OT, 06, 06} + g^{OT}_{CS, 06} |CS_{06}><CS_{06}| b_{OT, 06, 06} + g^{OT}_{CS, 06} |CS_{07}><CS_{07}| b^\\dagger_{OT, 07, 06} + g^{OT}_{CS, 06} |CS_{07}><CS_{07}| b_{OT, 07, 06} + g^{OT}_{CS, 06} |CS_{08}><CS_{08}| b^\\dagger_{OT, 08, 06} + g^{OT}_{CS, 06} |CS_{08}><CS_{08}| b_{OT, 08, 06} + g^{OT}_{CS, 06} |CS_{09}><CS_{09}| b^\\dagger_{OT, 09, 06} + g^{OT}_{CS, 06} |CS_{09}><CS_{09}| b_{OT, 09, 06} + g^{OT}_{CS, 06} |CS_{10}><CS_{10}| b^\\dagger_{OT, 10, 06} + g^{OT}_{CS, 06} |CS_{10}><CS_{10}| b_{OT, 10, 06} + g^{OT}_{CS, 06} |CS_{11}><CS_{11}| b^\\dagger_{OT, 11, 06} + g^{OT}_{CS, 06} |CS_{11}><CS_{11}| b_{OT, 11, 06} + g^{OT}_{CS, 06} |CS_{12}><CS_{12}| b^\\dagger_{OT, 12, 06} + g^{OT}_{CS, 06} |CS_{12}><CS_{12}| b_{OT, 12, 06} + g^{OT}_{CS, 06} |CS_{13}><CS_{13}| b^\\dagger_{OT, 13, 06} + g^{OT}_{CS, 06} |CS_{13}><CS_{13}| b_{OT, 13, 06} + g^{OT}_{CS, 07} |CS_{01}><CS_{01}| b^\\dagger_{OT, 01, 07} + g^{OT}_{CS, 07} |CS_{01}><CS_{01}| b_{OT, 01, 07} + g^{OT}_{CS, 07} |CS_{02}><CS_{02}| b^\\dagger_{OT, 02, 07} + g^{OT}_{CS, 07} |CS_{02}><CS_{02}| b_{OT, 02, 07} + g^{OT}_{CS, 07} |CS_{03}><CS_{03}| b^\\dagger_{OT, 03, 07} + g^{OT}_{CS, 07} |CS_{03}><CS_{03}| b_{OT, 03, 07} + g^{OT}_{CS, 07} |CS_{04}><CS_{04}| b^\\dagger_{OT, 04, 07} + g^{OT}_{CS, 07} |CS_{04}><CS_{04}| b_{OT, 04, 07} + g^{OT}_{CS, 07} |CS_{05}><CS_{05}| b^\\dagger_{OT, 05, 07} + g^{OT}_{CS, 07} |CS_{05}><CS_{05}| b_{OT, 05, 07} + g^{OT}_{CS, 07} |CS_{06}><CS_{06}| b^\\dagger_{OT, 06, 07} + g^{OT}_{CS, 07} |CS_{06}><CS_{06}| b_{OT, 06, 07} + g^{OT}_{CS, 07} |CS_{07}><CS_{07}| b^\\dagger_{OT, 07, 07} + g^{OT}_{CS, 07} |CS_{07}><CS_{07}| b_{OT, 07, 07} + g^{OT}_{CS, 07} |CS_{08}><CS_{08}| b^\\dagger_{OT, 08, 07} + g^{OT}_{CS, 07} |CS_{08}><CS_{08}| b_{OT, 08, 07} + g^{OT}_{CS, 07} |CS_{09}><CS_{09}| b^\\dagger_{OT, 09, 07} + g^{OT}_{CS, 07} |CS_{09}><CS_{09}| b_{OT, 09, 07} + g^{OT}_{CS, 07} |CS_{10}><CS_{10}| b^\\dagger_{OT, 10, 07} + g^{OT}_{CS, 07} |CS_{10}><CS_{10}| b_{OT, 10, 07} + g^{OT}_{CS, 07} |CS_{11}><CS_{11}| b^\\dagger_{OT, 11, 07} + g^{OT}_{CS, 07} |CS_{11}><CS_{11}| b_{OT, 11, 07} + g^{OT}_{CS, 07} |CS_{12}><CS_{12}| b^\\dagger_{OT, 12, 07} + g^{OT}_{CS, 07} |CS_{12}><CS_{12}| b_{OT, 12, 07} + g^{OT}_{CS, 07} |CS_{13}><CS_{13}| b^\\dagger_{OT, 13, 07} + g^{OT}_{CS, 07} |CS_{13}><CS_{13}| b_{OT, 13, 07} + g^{OT}_{CS, 08} |CS_{01}><CS_{01}| b^\\dagger_{OT, 01, 08} + g^{OT}_{CS, 08} |CS_{01}><CS_{01}| b_{OT, 01, 08} + g^{OT}_{CS, 08} |CS_{02}><CS_{02}| b^\\dagger_{OT, 02, 08} + g^{OT}_{CS, 08} |CS_{02}><CS_{02}| b_{OT, 02, 08} + g^{OT}_{CS, 08} |CS_{03}><CS_{03}| b^\\dagger_{OT, 03, 08} + g^{OT}_{CS, 08} |CS_{03}><CS_{03}| b_{OT, 03, 08} + g^{OT}_{CS, 08} |CS_{04}><CS_{04}| b^\\dagger_{OT, 04, 08} + g^{OT}_{CS, 08} |CS_{04}><CS_{04}| b_{OT, 04, 08} + g^{OT}_{CS, 08} |CS_{05}><CS_{05}| b^\\dagger_{OT, 05, 08} + g^{OT}_{CS, 08} |CS_{05}><CS_{05}| b_{OT, 05, 08} + g^{OT}_{CS, 08} |CS_{06}><CS_{06}| b^\\dagger_{OT, 06, 08} + g^{OT}_{CS, 08} |CS_{06}><CS_{06}| b_{OT, 06, 08} + g^{OT}_{CS, 08} |CS_{07}><CS_{07}| b^\\dagger_{OT, 07, 08} + g^{OT}_{CS, 08} |CS_{07}><CS_{07}| b_{OT, 07, 08} + g^{OT}_{CS, 08} |CS_{08}><CS_{08}| b^\\dagger_{OT, 08, 08} + g^{OT}_{CS, 08} |CS_{08}><CS_{08}| b_{OT, 08, 08} + g^{OT}_{CS, 08} |CS_{09}><CS_{09}| b^\\dagger_{OT, 09, 08} + g^{OT}_{CS, 08} |CS_{09}><CS_{09}| b_{OT, 09, 08} + g^{OT}_{CS, 08} |CS_{10}><CS_{10}| b^\\dagger_{OT, 10, 08} + g^{OT}_{CS, 08} |CS_{10}><CS_{10}| b_{OT, 10, 08} + g^{OT}_{CS, 08} |CS_{11}><CS_{11}| b^\\dagger_{OT, 11, 08} + g^{OT}_{CS, 08} |CS_{11}><CS_{11}| b_{OT, 11, 08} + g^{OT}_{CS, 08} |CS_{12}><CS_{12}| b^\\dagger_{OT, 12, 08} + g^{OT}_{CS, 08} |CS_{12}><CS_{12}| b_{OT, 12, 08} + g^{OT}_{CS, 08} |CS_{13}><CS_{13}| b^\\dagger_{OT, 13, 08} + g^{OT}_{CS, 08} |CS_{13}><CS_{13}| b_{OT, 13, 08} + g^{OT}_{LE, 01} |LE_{01}><LE_{01}| b^\\dagger_{OT, 01, 01} + g^{OT}_{LE, 01} |LE_{01}><LE_{01}| b_{OT, 01, 01} + g^{OT}_{LE, 01} |LE_{02}><LE_{02}| b^\\dagger_{OT, 02, 01} + g^{OT}_{LE, 01} |LE_{02}><LE_{02}| b_{OT, 02, 01} + g^{OT}_{LE, 01} |LE_{03}><LE_{03}| b^\\dagger_{OT, 03, 01} + g^{OT}_{LE, 01} |LE_{03}><LE_{03}| b_{OT, 03, 01} + g^{OT}_{LE, 01} |LE_{04}><LE_{04}| b^\\dagger_{OT, 04, 01} + g^{OT}_{LE, 01} |LE_{04}><LE_{04}| b_{OT, 04, 01} + g^{OT}_{LE, 01} |LE_{05}><LE_{05}| b^\\dagger_{OT, 05, 01} + g^{OT}_{LE, 01} |LE_{05}><LE_{05}| b_{OT, 05, 01} + g^{OT}_{LE, 01} |LE_{06}><LE_{06}| b^\\dagger_{OT, 06, 01} + g^{OT}_{LE, 01} |LE_{06}><LE_{06}| b_{OT, 06, 01} + g^{OT}_{LE, 01} |LE_{07}><LE_{07}| b^\\dagger_{OT, 07, 01} + g^{OT}_{LE, 01} |LE_{07}><LE_{07}| b_{OT, 07, 01} + g^{OT}_{LE, 01} |LE_{08}><LE_{08}| b^\\dagger_{OT, 08, 01} + g^{OT}_{LE, 01} |LE_{08}><LE_{08}| b_{OT, 08, 01} + g^{OT}_{LE, 01} |LE_{09}><LE_{09}| b^\\dagger_{OT, 09, 01} + g^{OT}_{LE, 01} |LE_{09}><LE_{09}| b_{OT, 09, 01} + g^{OT}_{LE, 01} |LE_{10}><LE_{10}| b^\\dagger_{OT, 10, 01} + g^{OT}_{LE, 01} |LE_{10}><LE_{10}| b_{OT, 10, 01} + g^{OT}_{LE, 01} |LE_{11}><LE_{11}| b^\\dagger_{OT, 11, 01} + g^{OT}_{LE, 01} |LE_{11}><LE_{11}| b_{OT, 11, 01} + g^{OT}_{LE, 01} |LE_{12}><LE_{12}| b^\\dagger_{OT, 12, 01} + g^{OT}_{LE, 01} |LE_{12}><LE_{12}| b_{OT, 12, 01} + g^{OT}_{LE, 01} |LE_{13}><LE_{13}| b^\\dagger_{OT, 13, 01} + g^{OT}_{LE, 01} |LE_{13}><LE_{13}| b_{OT, 13, 01} + g^{OT}_{LE, 02} |LE_{01}><LE_{01}| b^\\dagger_{OT, 01, 02} + g^{OT}_{LE, 02} |LE_{01}><LE_{01}| b_{OT, 01, 02} + g^{OT}_{LE, 02} |LE_{02}><LE_{02}| b^\\dagger_{OT, 02, 02} + g^{OT}_{LE, 02} |LE_{02}><LE_{02}| b_{OT, 02, 02} + g^{OT}_{LE, 02} |LE_{03}><LE_{03}| b^\\dagger_{OT, 03, 02} + g^{OT}_{LE, 02} |LE_{03}><LE_{03}| b_{OT, 03, 02} + g^{OT}_{LE, 02} |LE_{04}><LE_{04}| b^\\dagger_{OT, 04, 02} + g^{OT}_{LE, 02} |LE_{04}><LE_{04}| b_{OT, 04, 02} + g^{OT}_{LE, 02} |LE_{05}><LE_{05}| b^\\dagger_{OT, 05, 02} + g^{OT}_{LE, 02} |LE_{05}><LE_{05}| b_{OT, 05, 02} + g^{OT}_{LE, 02} |LE_{06}><LE_{06}| b^\\dagger_{OT, 06, 02} + g^{OT}_{LE, 02} |LE_{06}><LE_{06}| b_{OT, 06, 02} + g^{OT}_{LE, 02} |LE_{07}><LE_{07}| b^\\dagger_{OT, 07, 02} + g^{OT}_{LE, 02} |LE_{07}><LE_{07}| b_{OT, 07, 02} + g^{OT}_{LE, 02} |LE_{08}><LE_{08}| b^\\dagger_{OT, 08, 02} + g^{OT}_{LE, 02} |LE_{08}><LE_{08}| b_{OT, 08, 02} + g^{OT}_{LE, 02} |LE_{09}><LE_{09}| b^\\dagger_{OT, 09, 02} + g^{OT}_{LE, 02} |LE_{09}><LE_{09}| b_{OT, 09, 02} + g^{OT}_{LE, 02} |LE_{10}><LE_{10}| b^\\dagger_{OT, 10, 02} + g^{OT}_{LE, 02} |LE_{10}><LE_{10}| b_{OT, 10, 02} + g^{OT}_{LE, 02} |LE_{11}><LE_{11}| b^\\dagger_{OT, 11, 02} + g^{OT}_{LE, 02} |LE_{11}><LE_{11}| b_{OT, 11, 02} + g^{OT}_{LE, 02} |LE_{12}><LE_{12}| b^\\dagger_{OT, 12, 02} + g^{OT}_{LE, 02} |LE_{12}><LE_{12}| b_{OT, 12, 02} + g^{OT}_{LE, 02} |LE_{13}><LE_{13}| b^\\dagger_{OT, 13, 02} + g^{OT}_{LE, 02} |LE_{13}><LE_{13}| b_{OT, 13, 02} + g^{OT}_{LE, 03} |LE_{01}><LE_{01}| b^\\dagger_{OT, 01, 03} + g^{OT}_{LE, 03} |LE_{01}><LE_{01}| b_{OT, 01, 03} + g^{OT}_{LE, 03} |LE_{02}><LE_{02}| b^\\dagger_{OT, 02, 03} + g^{OT}_{LE, 03} |LE_{02}><LE_{02}| b_{OT, 02, 03} + g^{OT}_{LE, 03} |LE_{03}><LE_{03}| b^\\dagger_{OT, 03, 03} + g^{OT}_{LE, 03} |LE_{03}><LE_{03}| b_{OT, 03, 03} + g^{OT}_{LE, 03} |LE_{04}><LE_{04}| b^\\dagger_{OT, 04, 03} + g^{OT}_{LE, 03} |LE_{04}><LE_{04}| b_{OT, 04, 03} + g^{OT}_{LE, 03} |LE_{05}><LE_{05}| b^\\dagger_{OT, 05, 03} + g^{OT}_{LE, 03} |LE_{05}><LE_{05}| b_{OT, 05, 03} + g^{OT}_{LE, 03} |LE_{06}><LE_{06}| b^\\dagger_{OT, 06, 03} + g^{OT}_{LE, 03} |LE_{06}><LE_{06}| b_{OT, 06, 03} + g^{OT}_{LE, 03} |LE_{07}><LE_{07}| b^\\dagger_{OT, 07, 03} + g^{OT}_{LE, 03} |LE_{07}><LE_{07}| b_{OT, 07, 03} + g^{OT}_{LE, 03} |LE_{08}><LE_{08}| b^\\dagger_{OT, 08, 03} + g^{OT}_{LE, 03} |LE_{08}><LE_{08}| b_{OT, 08, 03} + g^{OT}_{LE, 03} |LE_{09}><LE_{09}| b^\\dagger_{OT, 09, 03} + g^{OT}_{LE, 03} |LE_{09}><LE_{09}| b_{OT, 09, 03} + g^{OT}_{LE, 03} |LE_{10}><LE_{10}| b^\\dagger_{OT, 10, 03} + g^{OT}_{LE, 03} |LE_{10}><LE_{10}| b_{OT, 10, 03} + g^{OT}_{LE, 03} |LE_{11}><LE_{11}| b^\\dagger_{OT, 11, 03} + g^{OT}_{LE, 03} |LE_{11}><LE_{11}| b_{OT, 11, 03} + g^{OT}_{LE, 03} |LE_{12}><LE_{12}| b^\\dagger_{OT, 12, 03} + g^{OT}_{LE, 03} |LE_{12}><LE_{12}| b_{OT, 12, 03} + g^{OT}_{LE, 03} |LE_{13}><LE_{13}| b^\\dagger_{OT, 13, 03} + g^{OT}_{LE, 03} |LE_{13}><LE_{13}| b_{OT, 13, 03} + g^{OT}_{LE, 04} |LE_{01}><LE_{01}| b^\\dagger_{OT, 01, 04} + g^{OT}_{LE, 04} |LE_{01}><LE_{01}| b_{OT, 01, 04} + g^{OT}_{LE, 04} |LE_{02}><LE_{02}| b^\\dagger_{OT, 02, 04} + g^{OT}_{LE, 04} |LE_{02}><LE_{02}| b_{OT, 02, 04} + g^{OT}_{LE, 04} |LE_{03}><LE_{03}| b^\\dagger_{OT, 03, 04} + g^{OT}_{LE, 04} |LE_{03}><LE_{03}| b_{OT, 03, 04} + g^{OT}_{LE, 04} |LE_{04}><LE_{04}| b^\\dagger_{OT, 04, 04} + g^{OT}_{LE, 04} |LE_{04}><LE_{04}| b_{OT, 04, 04} + g^{OT}_{LE, 04} |LE_{05}><LE_{05}| b^\\dagger_{OT, 05, 04} + g^{OT}_{LE, 04} |LE_{05}><LE_{05}| b_{OT, 05, 04} + g^{OT}_{LE, 04} |LE_{06}><LE_{06}| b^\\dagger_{OT, 06, 04} + g^{OT}_{LE, 04} |LE_{06}><LE_{06}| b_{OT, 06, 04} + g^{OT}_{LE, 04} |LE_{07}><LE_{07}| b^\\dagger_{OT, 07, 04} + g^{OT}_{LE, 04} |LE_{07}><LE_{07}| b_{OT, 07, 04} + g^{OT}_{LE, 04} |LE_{08}><LE_{08}| b^\\dagger_{OT, 08, 04} + g^{OT}_{LE, 04} |LE_{08}><LE_{08}| b_{OT, 08, 04} + g^{OT}_{LE, 04} |LE_{09}><LE_{09}| b^\\dagger_{OT, 09, 04} + g^{OT}_{LE, 04} |LE_{09}><LE_{09}| b_{OT, 09, 04} + g^{OT}_{LE, 04} |LE_{10}><LE_{10}| b^\\dagger_{OT, 10, 04} + g^{OT}_{LE, 04} |LE_{10}><LE_{10}| b_{OT, 10, 04} + g^{OT}_{LE, 04} |LE_{11}><LE_{11}| b^\\dagger_{OT, 11, 04} + g^{OT}_{LE, 04} |LE_{11}><LE_{11}| b_{OT, 11, 04} + g^{OT}_{LE, 04} |LE_{12}><LE_{12}| b^\\dagger_{OT, 12, 04} + g^{OT}_{LE, 04} |LE_{12}><LE_{12}| b_{OT, 12, 04} + g^{OT}_{LE, 04} |LE_{13}><LE_{13}| b^\\dagger_{OT, 13, 04} + g^{OT}_{LE, 04} |LE_{13}><LE_{13}| b_{OT, 13, 04} + g^{OT}_{LE, 05} |LE_{01}><LE_{01}| b^\\dagger_{OT, 01, 05} + g^{OT}_{LE, 05} |LE_{01}><LE_{01}| b_{OT, 01, 05} + g^{OT}_{LE, 05} |LE_{02}><LE_{02}| b^\\dagger_{OT, 02, 05} + g^{OT}_{LE, 05} |LE_{02}><LE_{02}| b_{OT, 02, 05} + g^{OT}_{LE, 05} |LE_{03}><LE_{03}| b^\\dagger_{OT, 03, 05} + g^{OT}_{LE, 05} |LE_{03}><LE_{03}| b_{OT, 03, 05} + g^{OT}_{LE, 05} |LE_{04}><LE_{04}| b^\\dagger_{OT, 04, 05} + g^{OT}_{LE, 05} |LE_{04}><LE_{04}| b_{OT, 04, 05} + g^{OT}_{LE, 05} |LE_{05}><LE_{05}| b^\\dagger_{OT, 05, 05} + g^{OT}_{LE, 05} |LE_{05}><LE_{05}| b_{OT, 05, 05} + g^{OT}_{LE, 05} |LE_{06}><LE_{06}| b^\\dagger_{OT, 06, 05} + g^{OT}_{LE, 05} |LE_{06}><LE_{06}| b_{OT, 06, 05} + g^{OT}_{LE, 05} |LE_{07}><LE_{07}| b^\\dagger_{OT, 07, 05} + g^{OT}_{LE, 05} |LE_{07}><LE_{07}| b_{OT, 07, 05} + g^{OT}_{LE, 05} |LE_{08}><LE_{08}| b^\\dagger_{OT, 08, 05} + g^{OT}_{LE, 05} |LE_{08}><LE_{08}| b_{OT, 08, 05} + g^{OT}_{LE, 05} |LE_{09}><LE_{09}| b^\\dagger_{OT, 09, 05} + g^{OT}_{LE, 05} |LE_{09}><LE_{09}| b_{OT, 09, 05} + g^{OT}_{LE, 05} |LE_{10}><LE_{10}| b^\\dagger_{OT, 10, 05} + g^{OT}_{LE, 05} |LE_{10}><LE_{10}| b_{OT, 10, 05} + g^{OT}_{LE, 05} |LE_{11}><LE_{11}| b^\\dagger_{OT, 11, 05} + g^{OT}_{LE, 05} |LE_{11}><LE_{11}| b_{OT, 11, 05} + g^{OT}_{LE, 05} |LE_{12}><LE_{12}| b^\\dagger_{OT, 12, 05} + g^{OT}_{LE, 05} |LE_{12}><LE_{12}| b_{OT, 12, 05} + g^{OT}_{LE, 05} |LE_{13}><LE_{13}| b^\\dagger_{OT, 13, 05} + g^{OT}_{LE, 05} |LE_{13}><LE_{13}| b_{OT, 13, 05} + g^{OT}_{LE, 06} |LE_{01}><LE_{01}| b^\\dagger_{OT, 01, 06} + g^{OT}_{LE, 06} |LE_{01}><LE_{01}| b_{OT, 01, 06} + g^{OT}_{LE, 06} |LE_{02}><LE_{02}| b^\\dagger_{OT, 02, 06} + g^{OT}_{LE, 06} |LE_{02}><LE_{02}| b_{OT, 02, 06} + g^{OT}_{LE, 06} |LE_{03}><LE_{03}| b^\\dagger_{OT, 03, 06} + g^{OT}_{LE, 06} |LE_{03}><LE_{03}| b_{OT, 03, 06} + g^{OT}_{LE, 06} |LE_{04}><LE_{04}| b^\\dagger_{OT, 04, 06} + g^{OT}_{LE, 06} |LE_{04}><LE_{04}| b_{OT, 04, 06} + g^{OT}_{LE, 06} |LE_{05}><LE_{05}| b^\\dagger_{OT, 05, 06} + g^{OT}_{LE, 06} |LE_{05}><LE_{05}| b_{OT, 05, 06} + g^{OT}_{LE, 06} |LE_{06}><LE_{06}| b^\\dagger_{OT, 06, 06} + g^{OT}_{LE, 06} |LE_{06}><LE_{06}| b_{OT, 06, 06} + g^{OT}_{LE, 06} |LE_{07}><LE_{07}| b^\\dagger_{OT, 07, 06} + g^{OT}_{LE, 06} |LE_{07}><LE_{07}| b_{OT, 07, 06} + g^{OT}_{LE, 06} |LE_{08}><LE_{08}| b^\\dagger_{OT, 08, 06} + g^{OT}_{LE, 06} |LE_{08}><LE_{08}| b_{OT, 08, 06} + g^{OT}_{LE, 06} |LE_{09}><LE_{09}| b^\\dagger_{OT, 09, 06} + g^{OT}_{LE, 06} |LE_{09}><LE_{09}| b_{OT, 09, 06} + g^{OT}_{LE, 06} |LE_{10}><LE_{10}| b^\\dagger_{OT, 10, 06} + g^{OT}_{LE, 06} |LE_{10}><LE_{10}| b_{OT, 10, 06} + g^{OT}_{LE, 06} |LE_{11}><LE_{11}| b^\\dagger_{OT, 11, 06} + g^{OT}_{LE, 06} |LE_{11}><LE_{11}| b_{OT, 11, 06} + g^{OT}_{LE, 06} |LE_{12}><LE_{12}| b^\\dagger_{OT, 12, 06} + g^{OT}_{LE, 06} |LE_{12}><LE_{12}| b_{OT, 12, 06} + g^{OT}_{LE, 06} |LE_{13}><LE_{13}| b^\\dagger_{OT, 13, 06} + g^{OT}_{LE, 06} |LE_{13}><LE_{13}| b_{OT, 13, 06} + g^{OT}_{LE, 07} |LE_{01}><LE_{01}| b^\\dagger_{OT, 01, 07} + g^{OT}_{LE, 07} |LE_{01}><LE_{01}| b_{OT, 01, 07} + g^{OT}_{LE, 07} |LE_{02}><LE_{02}| b^\\dagger_{OT, 02, 07} + g^{OT}_{LE, 07} |LE_{02}><LE_{02}| b_{OT, 02, 07} + g^{OT}_{LE, 07} |LE_{03}><LE_{03}| b^\\dagger_{OT, 03, 07} + g^{OT}_{LE, 07} |LE_{03}><LE_{03}| b_{OT, 03, 07} + g^{OT}_{LE, 07} |LE_{04}><LE_{04}| b^\\dagger_{OT, 04, 07} + g^{OT}_{LE, 07} |LE_{04}><LE_{04}| b_{OT, 04, 07} + g^{OT}_{LE, 07} |LE_{05}><LE_{05}| b^\\dagger_{OT, 05, 07} + g^{OT}_{LE, 07} |LE_{05}><LE_{05}| b_{OT, 05, 07} + g^{OT}_{LE, 07} |LE_{06}><LE_{06}| b^\\dagger_{OT, 06, 07} + g^{OT}_{LE, 07} |LE_{06}><LE_{06}| b_{OT, 06, 07} + g^{OT}_{LE, 07} |LE_{07}><LE_{07}| b^\\dagger_{OT, 07, 07} + g^{OT}_{LE, 07} |LE_{07}><LE_{07}| b_{OT, 07, 07} + g^{OT}_{LE, 07} |LE_{08}><LE_{08}| b^\\dagger_{OT, 08, 07} + g^{OT}_{LE, 07} |LE_{08}><LE_{08}| b_{OT, 08, 07} + g^{OT}_{LE, 07} |LE_{09}><LE_{09}| b^\\dagger_{OT, 09, 07} + g^{OT}_{LE, 07} |LE_{09}><LE_{09}| b_{OT, 09, 07} + g^{OT}_{LE, 07} |LE_{10}><LE_{10}| b^\\dagger_{OT, 10, 07} + g^{OT}_{LE, 07} |LE_{10}><LE_{10}| b_{OT, 10, 07} + g^{OT}_{LE, 07} |LE_{11}><LE_{11}| b^\\dagger_{OT, 11, 07} + g^{OT}_{LE, 07} |LE_{11}><LE_{11}| b_{OT, 11, 07} + g^{OT}_{LE, 07} |LE_{12}><LE_{12}| b^\\dagger_{OT, 12, 07} + g^{OT}_{LE, 07} |LE_{12}><LE_{12}| b_{OT, 12, 07} + g^{OT}_{LE, 07} |LE_{13}><LE_{13}| b^\\dagger_{OT, 13, 07} + g^{OT}_{LE, 07} |LE_{13}><LE_{13}| b_{OT, 13, 07} + g^{OT}_{LE, 08} |LE_{01}><LE_{01}| b^\\dagger_{OT, 01, 08} + g^{OT}_{LE, 08} |LE_{01}><LE_{01}| b_{OT, 01, 08} + g^{OT}_{LE, 08} |LE_{02}><LE_{02}| b^\\dagger_{OT, 02, 08} + g^{OT}_{LE, 08} |LE_{02}><LE_{02}| b_{OT, 02, 08} + g^{OT}_{LE, 08} |LE_{03}><LE_{03}| b^\\dagger_{OT, 03, 08} + g^{OT}_{LE, 08} |LE_{03}><LE_{03}| b_{OT, 03, 08} + g^{OT}_{LE, 08} |LE_{04}><LE_{04}| b^\\dagger_{OT, 04, 08} + g^{OT}_{LE, 08} |LE_{04}><LE_{04}| b_{OT, 04, 08} + g^{OT}_{LE, 08} |LE_{05}><LE_{05}| b^\\dagger_{OT, 05, 08} + g^{OT}_{LE, 08} |LE_{05}><LE_{05}| b_{OT, 05, 08} + g^{OT}_{LE, 08} |LE_{06}><LE_{06}| b^\\dagger_{OT, 06, 08} + g^{OT}_{LE, 08} |LE_{06}><LE_{06}| b_{OT, 06, 08} + g^{OT}_{LE, 08} |LE_{07}><LE_{07}| b^\\dagger_{OT, 07, 08} + g^{OT}_{LE, 08} |LE_{07}><LE_{07}| b_{OT, 07, 08} + g^{OT}_{LE, 08} |LE_{08}><LE_{08}| b^\\dagger_{OT, 08, 08} + g^{OT}_{LE, 08} |LE_{08}><LE_{08}| b_{OT, 08, 08} + g^{OT}_{LE, 08} |LE_{09}><LE_{09}| b^\\dagger_{OT, 09, 08} + g^{OT}_{LE, 08} |LE_{09}><LE_{09}| b_{OT, 09, 08} + g^{OT}_{LE, 08} |LE_{10}><LE_{10}| b^\\dagger_{OT, 10, 08} + g^{OT}_{LE, 08} |LE_{10}><LE_{10}| b_{OT, 10, 08} + g^{OT}_{LE, 08} |LE_{11}><LE_{11}| b^\\dagger_{OT, 11, 08} + g^{OT}_{LE, 08} |LE_{11}><LE_{11}| b_{OT, 11, 08} + g^{OT}_{LE, 08} |LE_{12}><LE_{12}| b^\\dagger_{OT, 12, 08} + g^{OT}_{LE, 08} |LE_{12}><LE_{12}| b_{OT, 12, 08} + g^{OT}_{LE, 08} |LE_{13}><LE_{13}| b^\\dagger_{OT, 13, 08} + g^{OT}_{LE, 08} |LE_{13}><LE_{13}| b_{OT, 13, 08} + g_{CS, CS} |CS_{01}><CS_{01}| b^{\\dagger}_R + g_{CS, CS} |CS_{01}><CS_{01}| b_{R} + g_{LE, CS} (<LE|CS> + h.c.) b^{\\dagger}_R + g_{LE, CS} (<LE|CS> + h.c.) b_{R} + t (|CS_{01}><CS_{02}|+h.c.) + t (|CS_{02}><CS_{03}|+h.c.) + t (|CS_{03}><CS_{04}|+h.c.) + t (|CS_{04}><CS_{05}|+h.c.) + t (|CS_{05}><CS_{06}|+h.c.) + t (|CS_{06}><CS_{07}|+h.c.) + t (|CS_{07}><CS_{08}|+h.c.) + t (|CS_{08}><CS_{09}|+h.c.) + t (|CS_{09}><CS_{10}|+h.c.) + t (|CS_{10}><CS_{11}|+h.c.) + t (|CS_{11}><CS_{12}|+h.c.) + t (|CS_{12}><CS_{13}|+h.c.) + ε^{LE} |LE_{01}><LE_{01}| + ε^{LE} |LE_{02}><LE_{02}| + ε^{LE} |LE_{03}><LE_{03}| + ε^{LE} |LE_{04}><LE_{04}| + ε^{LE} |LE_{05}><LE_{05}| + ε^{LE} |LE_{06}><LE_{06}| + ε^{LE} |LE_{07}><LE_{07}| + ε^{LE} |LE_{08}><LE_{08}| + ε^{LE} |LE_{09}><LE_{09}| + ε^{LE} |LE_{10}><LE_{10}| + ε^{LE} |LE_{11}><LE_{11}| + ε^{LE} |LE_{12}><LE_{12}| + ε^{LE} |LE_{13}><LE_{13}| + ε^{{CS}}_{01} |CS_{01}><CS_{01}| + ε^{{CS}}_{02} |CS_{02}><CS_{02}| + ε^{{CS}}_{03} |CS_{03}><CS_{03}| + ε^{{CS}}_{04} |CS_{04}><CS_{04}| + ε^{{CS}}_{05} |CS_{05}><CS_{05}| + ε^{{CS}}_{06} |CS_{06}><CS_{06}| + ε^{{CS}}_{07} |CS_{07}><CS_{07}| + ε^{{CS}}_{08} |CS_{08}><CS_{08}| + ε^{{CS}}_{09} |CS_{09}><CS_{09}| + ε^{{CS}}_{10} |CS_{10}><CS_{10}| + ε^{{CS}}_{11} |CS_{11}><CS_{11}| + ε^{{CS}}_{12} |CS_{12}><CS_{12}| + ε^{{CS}}_{13} |CS_{13}><CS_{13}| + λ (<LE|CS> + h.c.) + ω b^{\\dagger}_R b_{R} + ω^{F}_1 b_{F, 01} b^\\dagger_{F, 01} + ω^{F}_2 b_{F, 02} b^\\dagger_{F, 02} + ω^{F}_3 b_{F, 03} b^\\dagger_{F, 03} + ω^{F}_4 b_{F, 04} b^\\dagger_{F, 04} + ω^{F}_5 b_{F, 05} b^\\dagger_{F, 05} + ω^{F}_6 b_{F, 06} b^\\dagger_{F, 06} + ω^{F}_7 b_{F, 07} b^\\dagger_{F, 07} + ω^{F}_8 b_{F, 08} b^\\dagger_{F, 08} + ω^{OT}_1 b_{OT, 01, 01} b^\\dagger_{OT, 01, 01} + ω^{OT}_1 b_{OT, 02, 01} b^\\dagger_{OT, 02, 01} + ω^{OT}_1 b_{OT, 03, 01} b^\\dagger_{OT, 03, 01} + ω^{OT}_1 b_{OT, 04, 01} b^\\dagger_{OT, 04, 01} + ω^{OT}_1 b_{OT, 05, 01} b^\\dagger_{OT, 05, 01} + ω^{OT}_1 b_{OT, 06, 01} b^\\dagger_{OT, 06, 01} + ω^{OT}_1 b_{OT, 07, 01} b^\\dagger_{OT, 07, 01} + ω^{OT}_1 b_{OT, 08, 01} b^\\dagger_{OT, 08, 01} + ω^{OT}_1 b_{OT, 09, 01} b^\\dagger_{OT, 09, 01} + ω^{OT}_1 b_{OT, 10, 01} b^\\dagger_{OT, 10, 01} + ω^{OT}_1 b_{OT, 11, 01} b^\\dagger_{OT, 11, 01} + ω^{OT}_1 b_{OT, 12, 01} b^\\dagger_{OT, 12, 01} + ω^{OT}_1 b_{OT, 13, 01} b^\\dagger_{OT, 13, 01} + ω^{OT}_2 b_{OT, 01, 02} b^\\dagger_{OT, 01, 02} + ω^{OT}_2 b_{OT, 02, 02} b^\\dagger_{OT, 02, 02} + ω^{OT}_2 b_{OT, 03, 02} b^\\dagger_{OT, 03, 02} + ω^{OT}_2 b_{OT, 04, 02} b^\\dagger_{OT, 04, 02} + ω^{OT}_2 b_{OT, 05, 02} b^\\dagger_{OT, 05, 02} + ω^{OT}_2 b_{OT, 06, 02} b^\\dagger_{OT, 06, 02} + ω^{OT}_2 b_{OT, 07, 02} b^\\dagger_{OT, 07, 02} + ω^{OT}_2 b_{OT, 08, 02} b^\\dagger_{OT, 08, 02} + ω^{OT}_2 b_{OT, 09, 02} b^\\dagger_{OT, 09, 02} + ω^{OT}_2 b_{OT, 10, 02} b^\\dagger_{OT, 10, 02} + ω^{OT}_2 b_{OT, 11, 02} b^\\dagger_{OT, 11, 02} + ω^{OT}_2 b_{OT, 12, 02} b^\\dagger_{OT, 12, 02} + ω^{OT}_2 b_{OT, 13, 02} b^\\dagger_{OT, 13, 02} + ω^{OT}_3 b_{OT, 01, 03} b^\\dagger_{OT, 01, 03} + ω^{OT}_3 b_{OT, 02, 03} b^\\dagger_{OT, 02, 03} + ω^{OT}_3 b_{OT, 03, 03} b^\\dagger_{OT, 03, 03} + ω^{OT}_3 b_{OT, 04, 03} b^\\dagger_{OT, 04, 03} + ω^{OT}_3 b_{OT, 05, 03} b^\\dagger_{OT, 05, 03} + ω^{OT}_3 b_{OT, 06, 03} b^\\dagger_{OT, 06, 03} + ω^{OT}_3 b_{OT, 07, 03} b^\\dagger_{OT, 07, 03} + ω^{OT}_3 b_{OT, 08, 03} b^\\dagger_{OT, 08, 03} + ω^{OT}_3 b_{OT, 09, 03} b^\\dagger_{OT, 09, 03} + ω^{OT}_3 b_{OT, 10, 03} b^\\dagger_{OT, 10, 03} + ω^{OT}_3 b_{OT, 11, 03} b^\\dagger_{OT, 11, 03} + ω^{OT}_3 b_{OT, 12, 03} b^\\dagger_{OT, 12, 03} + ω^{OT}_3 b_{OT, 13, 03} b^\\dagger_{OT, 13, 03} + ω^{OT}_4 b_{OT, 01, 04} b^\\dagger_{OT, 01, 04} + ω^{OT}_4 b_{OT, 02, 04} b^\\dagger_{OT, 02, 04} + ω^{OT}_4 b_{OT, 03, 04} b^\\dagger_{OT, 03, 04} + ω^{OT}_4 b_{OT, 04, 04} b^\\dagger_{OT, 04, 04} + ω^{OT}_4 b_{OT, 05, 04} b^\\dagger_{OT, 05, 04} + ω^{OT}_4 b_{OT, 06, 04} b^\\dagger_{OT, 06, 04} + ω^{OT}_4 b_{OT, 07, 04} b^\\dagger_{OT, 07, 04} + ω^{OT}_4 b_{OT, 08, 04} b^\\dagger_{OT, 08, 04} + ω^{OT}_4 b_{OT, 09, 04} b^\\dagger_{OT, 09, 04} + ω^{OT}_4 b_{OT, 10, 04} b^\\dagger_{OT, 10, 04} + ω^{OT}_4 b_{OT, 11, 04} b^\\dagger_{OT, 11, 04} + ω^{OT}_4 b_{OT, 12, 04} b^\\dagger_{OT, 12, 04} + ω^{OT}_4 b_{OT, 13, 04} b^\\dagger_{OT, 13, 04} + ω^{OT}_5 b_{OT, 01, 05} b^\\dagger_{OT, 01, 05} + ω^{OT}_5 b_{OT, 02, 05} b^\\dagger_{OT, 02, 05} + ω^{OT}_5 b_{OT, 03, 05} b^\\dagger_{OT, 03, 05} + ω^{OT}_5 b_{OT, 04, 05} b^\\dagger_{OT, 04, 05} + ω^{OT}_5 b_{OT, 05, 05} b^\\dagger_{OT, 05, 05} + ω^{OT}_5 b_{OT, 06, 05} b^\\dagger_{OT, 06, 05} + ω^{OT}_5 b_{OT, 07, 05} b^\\dagger_{OT, 07, 05} + ω^{OT}_5 b_{OT, 08, 05} b^\\dagger_{OT, 08, 05} + ω^{OT}_5 b_{OT, 09, 05} b^\\dagger_{OT, 09, 05} + ω^{OT}_5 b_{OT, 10, 05} b^\\dagger_{OT, 10, 05} + ω^{OT}_5 b_{OT, 11, 05} b^\\dagger_{OT, 11, 05} + ω^{OT}_5 b_{OT, 12, 05} b^\\dagger_{OT, 12, 05} + ω^{OT}_5 b_{OT, 13, 05} b^\\dagger_{OT, 13, 05} + ω^{OT}_6 b_{OT, 01, 06} b^\\dagger_{OT, 01, 06} + ω^{OT}_6 b_{OT, 02, 06} b^\\dagger_{OT, 02, 06} + ω^{OT}_6 b_{OT, 03, 06} b^\\dagger_{OT, 03, 06} + ω^{OT}_6 b_{OT, 04, 06} b^\\dagger_{OT, 04, 06} + ω^{OT}_6 b_{OT, 05, 06} b^\\dagger_{OT, 05, 06} + ω^{OT}_6 b_{OT, 06, 06} b^\\dagger_{OT, 06, 06} + ω^{OT}_6 b_{OT, 07, 06} b^\\dagger_{OT, 07, 06} + ω^{OT}_6 b_{OT, 08, 06} b^\\dagger_{OT, 08, 06} + ω^{OT}_6 b_{OT, 09, 06} b^\\dagger_{OT, 09, 06} + ω^{OT}_6 b_{OT, 10, 06} b^\\dagger_{OT, 10, 06} + ω^{OT}_6 b_{OT, 11, 06} b^\\dagger_{OT, 11, 06} + ω^{OT}_6 b_{OT, 12, 06} b^\\dagger_{OT, 12, 06} + ω^{OT}_6 b_{OT, 13, 06} b^\\dagger_{OT, 13, 06} + ω^{OT}_7 b_{OT, 01, 07} b^\\dagger_{OT, 01, 07} + ω^{OT}_7 b_{OT, 02, 07} b^\\dagger_{OT, 02, 07} + ω^{OT}_7 b_{OT, 03, 07} b^\\dagger_{OT, 03, 07} + ω^{OT}_7 b_{OT, 04, 07} b^\\dagger_{OT, 04, 07} + ω^{OT}_7 b_{OT, 05, 07} b^\\dagger_{OT, 05, 07} + ω^{OT}_7 b_{OT, 06, 07} b^\\dagger_{OT, 06, 07} + ω^{OT}_7 b_{OT, 07, 07} b^\\dagger_{OT, 07, 07} + ω^{OT}_7 b_{OT, 08, 07} b^\\dagger_{OT, 08, 07} + ω^{OT}_7 b_{OT, 09, 07} b^\\dagger_{OT, 09, 07} + ω^{OT}_7 b_{OT, 10, 07} b^\\dagger_{OT, 10, 07} + ω^{OT}_7 b_{OT, 11, 07} b^\\dagger_{OT, 11, 07} + ω^{OT}_7 b_{OT, 12, 07} b^\\dagger_{OT, 12, 07} + ω^{OT}_7 b_{OT, 13, 07} b^\\dagger_{OT, 13, 07} + ω^{OT}_8 b_{OT, 01, 08} b^\\dagger_{OT, 01, 08} + ω^{OT}_8 b_{OT, 02, 08} b^\\dagger_{OT, 02, 08} + ω^{OT}_8 b_{OT, 03, 08} b^\\dagger_{OT, 03, 08} + ω^{OT}_8 b_{OT, 04, 08} b^\\dagger_{OT, 04, 08} + ω^{OT}_8 b_{OT, 05, 08} b^\\dagger_{OT, 05, 08} + ω^{OT}_8 b_{OT, 06, 08} b^\\dagger_{OT, 06, 08} + ω^{OT}_8 b_{OT, 07, 08} b^\\dagger_{OT, 07, 08} + ω^{OT}_8 b_{OT, 08, 08} b^\\dagger_{OT, 08, 08} + ω^{OT}_8 b_{OT, 09, 08} b^\\dagger_{OT, 09, 08} + ω^{OT}_8 b_{OT, 10, 08} b^\\dagger_{OT, 10, 08} + ω^{OT}_8 b_{OT, 11, 08} b^\\dagger_{OT, 11, 08} + ω^{OT}_8 b_{OT, 12, 08} b^\\dagger_{OT, 12, 08} + ω^{OT}_8 b_{OT, 13, 08} b^\\dagger_{OT, 13, 08}$"
      ],
      "text/plain": [
       "J*(|LE_{01}><LE_{02}|+h.c.) + J*(|LE_{02}><LE_{03}|+h.c.) + J*(|LE_{03}><LE_{04}|+h.c.) + J*(|LE_{04}><LE_{05}|+h.c.) + J*(|LE_{05}><LE_{06}|+h.c.) + J*(|LE_{06}><LE_{07}|+h.c.) + J*(|LE_{07}><LE_{08}|+h.c.) + J*(|LE_{08}><LE_{09}|+h.c.) + J*(|LE_{09}><LE_{10}|+h.c.) + J*(|LE_{10}><LE_{11}|+h.c.) + J*(|LE_{11}><LE_{12}|+h.c.) + J*(|LE_{12}><LE_{13}|+h.c.) + g^{F}_1*|CS_{01}><CS_{01}|*b^\\dagger_{F, 01} + g^{F}_1*|CS_{01}><CS_{01}|*b_{F, 01} + g^{F}_1*|CS_{02}><CS_{02}|*b^\\dagger_{F, 01} + g^{F}_1*|CS_{02}><CS_{02}|*b_{F, 01} + g^{F}_1*|CS_{03}><CS_{03}|*b^\\dagger_{F, 01} + g^{F}_1*|CS_{03}><CS_{03}|*b_{F, 01} + g^{F}_1*|CS_{04}><CS_{04}|*b^\\dagger_{F, 01} + g^{F}_1*|CS_{04}><CS_{04}|*b_{F, 01} + g^{F}_1*|CS_{05}><CS_{05}|*b^\\dagger_{F, 01} + g^{F}_1*|CS_{05}><CS_{05}|*b_{F, 01} + g^{F}_1*|CS_{06}><CS_{06}|*b^\\dagger_{F, 01} + g^{F}_1*|CS_{06}><CS_{06}|*b_{F, 01} + g^{F}_1*|CS_{07}><CS_{07}|*b^\\dagger_{F, 01} + g^{F}_1*|CS_{07}><CS_{07}|*b_{F, 01} + g^{F}_1*|CS_{08}><CS_{08}|*b^\\dagger_{F, 01} + g^{F}_1*|CS_{08}><CS_{08}|*b_{F, 01} + g^{F}_1*|CS_{09}><CS_{09}|*b^\\dagger_{F, 01} + g^{F}_1*|CS_{09}><CS_{09}|*b_{F, 01} + g^{F}_1*|CS_{10}><CS_{10}|*b^\\dagger_{F, 01} + g^{F}_1*|CS_{10}><CS_{10}|*b_{F, 01} + g^{F}_1*|CS_{11}><CS_{11}|*b^\\dagger_{F, 01} + g^{F}_1*|CS_{11}><CS_{11}|*b_{F, 01} + g^{F}_1*|CS_{12}><CS_{12}|*b^\\dagger_{F, 01} + g^{F}_1*|CS_{12}><CS_{12}|*b_{F, 01} + g^{F}_1*|CS_{13}><CS_{13}|*b^\\dagger_{F, 01} + g^{F}_1*|CS_{13}><CS_{13}|*b_{F, 01} + g^{F}_2*|CS_{01}><CS_{01}|*b^\\dagger_{F, 02} + g^{F}_2*|CS_{01}><CS_{01}|*b_{F, 02} + g^{F}_2*|CS_{02}><CS_{02}|*b^\\dagger_{F, 02} + g^{F}_2*|CS_{02}><CS_{02}|*b_{F, 02} + g^{F}_2*|CS_{03}><CS_{03}|*b^\\dagger_{F, 02} + g^{F}_2*|CS_{03}><CS_{03}|*b_{F, 02} + g^{F}_2*|CS_{04}><CS_{04}|*b^\\dagger_{F, 02} + g^{F}_2*|CS_{04}><CS_{04}|*b_{F, 02} + g^{F}_2*|CS_{05}><CS_{05}|*b^\\dagger_{F, 02} + g^{F}_2*|CS_{05}><CS_{05}|*b_{F, 02} + g^{F}_2*|CS_{06}><CS_{06}|*b^\\dagger_{F, 02} + g^{F}_2*|CS_{06}><CS_{06}|*b_{F, 02} + g^{F}_2*|CS_{07}><CS_{07}|*b^\\dagger_{F, 02} + g^{F}_2*|CS_{07}><CS_{07}|*b_{F, 02} + g^{F}_2*|CS_{08}><CS_{08}|*b^\\dagger_{F, 02} + g^{F}_2*|CS_{08}><CS_{08}|*b_{F, 02} + g^{F}_2*|CS_{09}><CS_{09}|*b^\\dagger_{F, 02} + g^{F}_2*|CS_{09}><CS_{09}|*b_{F, 02} + g^{F}_2*|CS_{10}><CS_{10}|*b^\\dagger_{F, 02} + g^{F}_2*|CS_{10}><CS_{10}|*b_{F, 02} + g^{F}_2*|CS_{11}><CS_{11}|*b^\\dagger_{F, 02} + g^{F}_2*|CS_{11}><CS_{11}|*b_{F, 02} + g^{F}_2*|CS_{12}><CS_{12}|*b^\\dagger_{F, 02} + g^{F}_2*|CS_{12}><CS_{12}|*b_{F, 02} + g^{F}_2*|CS_{13}><CS_{13}|*b^\\dagger_{F, 02} + g^{F}_2*|CS_{13}><CS_{13}|*b_{F, 02} + g^{F}_3*|CS_{01}><CS_{01}|*b^\\dagger_{F, 03} + g^{F}_3*|CS_{01}><CS_{01}|*b_{F, 03} + g^{F}_3*|CS_{02}><CS_{02}|*b^\\dagger_{F, 03} + g^{F}_3*|CS_{02}><CS_{02}|*b_{F, 03} + g^{F}_3*|CS_{03}><CS_{03}|*b^\\dagger_{F, 03} + g^{F}_3*|CS_{03}><CS_{03}|*b_{F, 03} + g^{F}_3*|CS_{04}><CS_{04}|*b^\\dagger_{F, 03} + g^{F}_3*|CS_{04}><CS_{04}|*b_{F, 03} + g^{F}_3*|CS_{05}><CS_{05}|*b^\\dagger_{F, 03} + g^{F}_3*|CS_{05}><CS_{05}|*b_{F, 03} + g^{F}_3*|CS_{06}><CS_{06}|*b^\\dagger_{F, 03} + g^{F}_3*|CS_{06}><CS_{06}|*b_{F, 03} + g^{F}_3*|CS_{07}><CS_{07}|*b^\\dagger_{F, 03} + g^{F}_3*|CS_{07}><CS_{07}|*b_{F, 03} + g^{F}_3*|CS_{08}><CS_{08}|*b^\\dagger_{F, 03} + g^{F}_3*|CS_{08}><CS_{08}|*b_{F, 03} + g^{F}_3*|CS_{09}><CS_{09}|*b^\\dagger_{F, 03} + g^{F}_3*|CS_{09}><CS_{09}|*b_{F, 03} + g^{F}_3*|CS_{10}><CS_{10}|*b^\\dagger_{F, 03} + g^{F}_3*|CS_{10}><CS_{10}|*b_{F, 03} + g^{F}_3*|CS_{11}><CS_{11}|*b^\\dagger_{F, 03} + g^{F}_3*|CS_{11}><CS_{11}|*b_{F, 03} + g^{F}_3*|CS_{12}><CS_{12}|*b^\\dagger_{F, 03} + g^{F}_3*|CS_{12}><CS_{12}|*b_{F, 03} + g^{F}_3*|CS_{13}><CS_{13}|*b^\\dagger_{F, 03} + g^{F}_3*|CS_{13}><CS_{13}|*b_{F, 03} + g^{F}_4*|CS_{01}><CS_{01}|*b^\\dagger_{F, 04} + g^{F}_4*|CS_{01}><CS_{01}|*b_{F, 04} + g^{F}_4*|CS_{02}><CS_{02}|*b^\\dagger_{F, 04} + g^{F}_4*|CS_{02}><CS_{02}|*b_{F, 04} + g^{F}_4*|CS_{03}><CS_{03}|*b^\\dagger_{F, 04} + g^{F}_4*|CS_{03}><CS_{03}|*b_{F, 04} + g^{F}_4*|CS_{04}><CS_{04}|*b^\\dagger_{F, 04} + g^{F}_4*|CS_{04}><CS_{04}|*b_{F, 04} + g^{F}_4*|CS_{05}><CS_{05}|*b^\\dagger_{F, 04} + g^{F}_4*|CS_{05}><CS_{05}|*b_{F, 04} + g^{F}_4*|CS_{06}><CS_{06}|*b^\\dagger_{F, 04} + g^{F}_4*|CS_{06}><CS_{06}|*b_{F, 04} + g^{F}_4*|CS_{07}><CS_{07}|*b^\\dagger_{F, 04} + g^{F}_4*|CS_{07}><CS_{07}|*b_{F, 04} + g^{F}_4*|CS_{08}><CS_{08}|*b^\\dagger_{F, 04} + g^{F}_4*|CS_{08}><CS_{08}|*b_{F, 04} + g^{F}_4*|CS_{09}><CS_{09}|*b^\\dagger_{F, 04} + g^{F}_4*|CS_{09}><CS_{09}|*b_{F, 04} + g^{F}_4*|CS_{10}><CS_{10}|*b^\\dagger_{F, 04} + g^{F}_4*|CS_{10}><CS_{10}|*b_{F, 04} + g^{F}_4*|CS_{11}><CS_{11}|*b^\\dagger_{F, 04} + g^{F}_4*|CS_{11}><CS_{11}|*b_{F, 04} + g^{F}_4*|CS_{12}><CS_{12}|*b^\\dagger_{F, 04} + g^{F}_4*|CS_{12}><CS_{12}|*b_{F, 04} + g^{F}_4*|CS_{13}><CS_{13}|*b^\\dagger_{F, 04} + g^{F}_4*|CS_{13}><CS_{13}|*b_{F, 04} + g^{F}_5*|CS_{01}><CS_{01}|*b^\\dagger_{F, 05} + g^{F}_5*|CS_{01}><CS_{01}|*b_{F, 05} + g^{F}_5*|CS_{02}><CS_{02}|*b^\\dagger_{F, 05} + g^{F}_5*|CS_{02}><CS_{02}|*b_{F, 05} + g^{F}_5*|CS_{03}><CS_{03}|*b^\\dagger_{F, 05} + g^{F}_5*|CS_{03}><CS_{03}|*b_{F, 05} + g^{F}_5*|CS_{04}><CS_{04}|*b^\\dagger_{F, 05} + g^{F}_5*|CS_{04}><CS_{04}|*b_{F, 05} + g^{F}_5*|CS_{05}><CS_{05}|*b^\\dagger_{F, 05} + g^{F}_5*|CS_{05}><CS_{05}|*b_{F, 05} + g^{F}_5*|CS_{06}><CS_{06}|*b^\\dagger_{F, 05} + g^{F}_5*|CS_{06}><CS_{06}|*b_{F, 05} + g^{F}_5*|CS_{07}><CS_{07}|*b^\\dagger_{F, 05} + g^{F}_5*|CS_{07}><CS_{07}|*b_{F, 05} + g^{F}_5*|CS_{08}><CS_{08}|*b^\\dagger_{F, 05} + g^{F}_5*|CS_{08}><CS_{08}|*b_{F, 05} + g^{F}_5*|CS_{09}><CS_{09}|*b^\\dagger_{F, 05} + g^{F}_5*|CS_{09}><CS_{09}|*b_{F, 05} + g^{F}_5*|CS_{10}><CS_{10}|*b^\\dagger_{F, 05} + g^{F}_5*|CS_{10}><CS_{10}|*b_{F, 05} + g^{F}_5*|CS_{11}><CS_{11}|*b^\\dagger_{F, 05} + g^{F}_5*|CS_{11}><CS_{11}|*b_{F, 05} + g^{F}_5*|CS_{12}><CS_{12}|*b^\\dagger_{F, 05} + g^{F}_5*|CS_{12}><CS_{12}|*b_{F, 05} + g^{F}_5*|CS_{13}><CS_{13}|*b^\\dagger_{F, 05} + g^{F}_5*|CS_{13}><CS_{13}|*b_{F, 05} + g^{F}_6*|CS_{01}><CS_{01}|*b^\\dagger_{F, 06} + g^{F}_6*|CS_{01}><CS_{01}|*b_{F, 06} + g^{F}_6*|CS_{02}><CS_{02}|*b^\\dagger_{F, 06} + g^{F}_6*|CS_{02}><CS_{02}|*b_{F, 06} + g^{F}_6*|CS_{03}><CS_{03}|*b^\\dagger_{F, 06} + g^{F}_6*|CS_{03}><CS_{03}|*b_{F, 06} + g^{F}_6*|CS_{04}><CS_{04}|*b^\\dagger_{F, 06} + g^{F}_6*|CS_{04}><CS_{04}|*b_{F, 06} + g^{F}_6*|CS_{05}><CS_{05}|*b^\\dagger_{F, 06} + g^{F}_6*|CS_{05}><CS_{05}|*b_{F, 06} + g^{F}_6*|CS_{06}><CS_{06}|*b^\\dagger_{F, 06} + g^{F}_6*|CS_{06}><CS_{06}|*b_{F, 06} + g^{F}_6*|CS_{07}><CS_{07}|*b^\\dagger_{F, 06} + g^{F}_6*|CS_{07}><CS_{07}|*b_{F, 06} + g^{F}_6*|CS_{08}><CS_{08}|*b^\\dagger_{F, 06} + g^{F}_6*|CS_{08}><CS_{08}|*b_{F, 06} + g^{F}_6*|CS_{09}><CS_{09}|*b^\\dagger_{F, 06} + g^{F}_6*|CS_{09}><CS_{09}|*b_{F, 06} + g^{F}_6*|CS_{10}><CS_{10}|*b^\\dagger_{F, 06} + g^{F}_6*|CS_{10}><CS_{10}|*b_{F, 06} + g^{F}_6*|CS_{11}><CS_{11}|*b^\\dagger_{F, 06} + g^{F}_6*|CS_{11}><CS_{11}|*b_{F, 06} + g^{F}_6*|CS_{12}><CS_{12}|*b^\\dagger_{F, 06} + g^{F}_6*|CS_{12}><CS_{12}|*b_{F, 06} + g^{F}_6*|CS_{13}><CS_{13}|*b^\\dagger_{F, 06} + g^{F}_6*|CS_{13}><CS_{13}|*b_{F, 06} + g^{F}_7*|CS_{01}><CS_{01}|*b^\\dagger_{F, 07} + g^{F}_7*|CS_{01}><CS_{01}|*b_{F, 07} + g^{F}_7*|CS_{02}><CS_{02}|*b^\\dagger_{F, 07} + g^{F}_7*|CS_{02}><CS_{02}|*b_{F, 07} + g^{F}_7*|CS_{03}><CS_{03}|*b^\\dagger_{F, 07} + g^{F}_7*|CS_{03}><CS_{03}|*b_{F, 07} + g^{F}_7*|CS_{04}><CS_{04}|*b^\\dagger_{F, 07} + g^{F}_7*|CS_{04}><CS_{04}|*b_{F, 07} + g^{F}_7*|CS_{05}><CS_{05}|*b^\\dagger_{F, 07} + g^{F}_7*|CS_{05}><CS_{05}|*b_{F, 07} + g^{F}_7*|CS_{06}><CS_{06}|*b^\\dagger_{F, 07} + g^{F}_7*|CS_{06}><CS_{06}|*b_{F, 07} + g^{F}_7*|CS_{07}><CS_{07}|*b^\\dagger_{F, 07} + g^{F}_7*|CS_{07}><CS_{07}|*b_{F, 07} + g^{F}_7*|CS_{08}><CS_{08}|*b^\\dagger_{F, 07} + g^{F}_7*|CS_{08}><CS_{08}|*b_{F, 07} + g^{F}_7*|CS_{09}><CS_{09}|*b^\\dagger_{F, 07} + g^{F}_7*|CS_{09}><CS_{09}|*b_{F, 07} + g^{F}_7*|CS_{10}><CS_{10}|*b^\\dagger_{F, 07} + g^{F}_7*|CS_{10}><CS_{10}|*b_{F, 07} + g^{F}_7*|CS_{11}><CS_{11}|*b^\\dagger_{F, 07} + g^{F}_7*|CS_{11}><CS_{11}|*b_{F, 07} + g^{F}_7*|CS_{12}><CS_{12}|*b^\\dagger_{F, 07} + g^{F}_7*|CS_{12}><CS_{12}|*b_{F, 07} + g^{F}_7*|CS_{13}><CS_{13}|*b^\\dagger_{F, 07} + g^{F}_7*|CS_{13}><CS_{13}|*b_{F, 07} + g^{F}_8*|CS_{01}><CS_{01}|*b^\\dagger_{F, 08} + g^{F}_8*|CS_{01}><CS_{01}|*b_{F, 08} + g^{F}_8*|CS_{02}><CS_{02}|*b^\\dagger_{F, 08} + g^{F}_8*|CS_{02}><CS_{02}|*b_{F, 08} + g^{F}_8*|CS_{03}><CS_{03}|*b^\\dagger_{F, 08} + g^{F}_8*|CS_{03}><CS_{03}|*b_{F, 08} + g^{F}_8*|CS_{04}><CS_{04}|*b^\\dagger_{F, 08} + g^{F}_8*|CS_{04}><CS_{04}|*b_{F, 08} + g^{F}_8*|CS_{05}><CS_{05}|*b^\\dagger_{F, 08} + g^{F}_8*|CS_{05}><CS_{05}|*b_{F, 08} + g^{F}_8*|CS_{06}><CS_{06}|*b^\\dagger_{F, 08} + g^{F}_8*|CS_{06}><CS_{06}|*b_{F, 08} + g^{F}_8*|CS_{07}><CS_{07}|*b^\\dagger_{F, 08} + g^{F}_8*|CS_{07}><CS_{07}|*b_{F, 08} + g^{F}_8*|CS_{08}><CS_{08}|*b^\\dagger_{F, 08} + g^{F}_8*|CS_{08}><CS_{08}|*b_{F, 08} + g^{F}_8*|CS_{09}><CS_{09}|*b^\\dagger_{F, 08} + g^{F}_8*|CS_{09}><CS_{09}|*b_{F, 08} + g^{F}_8*|CS_{10}><CS_{10}|*b^\\dagger_{F, 08} + g^{F}_8*|CS_{10}><CS_{10}|*b_{F, 08} + g^{F}_8*|CS_{11}><CS_{11}|*b^\\dagger_{F, 08} + g^{F}_8*|CS_{11}><CS_{11}|*b_{F, 08} + g^{F}_8*|CS_{12}><CS_{12}|*b^\\dagger_{F, 08} + g^{F}_8*|CS_{12}><CS_{12}|*b_{F, 08} + g^{F}_8*|CS_{13}><CS_{13}|*b^\\dagger_{F, 08} + g^{F}_8*|CS_{13}><CS_{13}|*b_{F, 08} + g^{OT}_{CS, 01}*|CS_{01}><CS_{01}|*b^\\dagger_{OT, 01, 01} + g^{OT}_{CS, 01}*|CS_{01}><CS_{01}|*b_{OT, 01, 01} + g^{OT}_{CS, 01}*|CS_{02}><CS_{02}|*b^\\dagger_{OT, 02, 01} + g^{OT}_{CS, 01}*|CS_{02}><CS_{02}|*b_{OT, 02, 01} + g^{OT}_{CS, 01}*|CS_{03}><CS_{03}|*b^\\dagger_{OT, 03, 01} + g^{OT}_{CS, 01}*|CS_{03}><CS_{03}|*b_{OT, 03, 01} + g^{OT}_{CS, 01}*|CS_{04}><CS_{04}|*b^\\dagger_{OT, 04, 01} + g^{OT}_{CS, 01}*|CS_{04}><CS_{04}|*b_{OT, 04, 01} + g^{OT}_{CS, 01}*|CS_{05}><CS_{05}|*b^\\dagger_{OT, 05, 01} + g^{OT}_{CS, 01}*|CS_{05}><CS_{05}|*b_{OT, 05, 01} + g^{OT}_{CS, 01}*|CS_{06}><CS_{06}|*b^\\dagger_{OT, 06, 01} + g^{OT}_{CS, 01}*|CS_{06}><CS_{06}|*b_{OT, 06, 01} + g^{OT}_{CS, 01}*|CS_{07}><CS_{07}|*b^\\dagger_{OT, 07, 01} + g^{OT}_{CS, 01}*|CS_{07}><CS_{07}|*b_{OT, 07, 01} + g^{OT}_{CS, 01}*|CS_{08}><CS_{08}|*b^\\dagger_{OT, 08, 01} + g^{OT}_{CS, 01}*|CS_{08}><CS_{08}|*b_{OT, 08, 01} + g^{OT}_{CS, 01}*|CS_{09}><CS_{09}|*b^\\dagger_{OT, 09, 01} + g^{OT}_{CS, 01}*|CS_{09}><CS_{09}|*b_{OT, 09, 01} + g^{OT}_{CS, 01}*|CS_{10}><CS_{10}|*b^\\dagger_{OT, 10, 01} + g^{OT}_{CS, 01}*|CS_{10}><CS_{10}|*b_{OT, 10, 01} + g^{OT}_{CS, 01}*|CS_{11}><CS_{11}|*b^\\dagger_{OT, 11, 01} + g^{OT}_{CS, 01}*|CS_{11}><CS_{11}|*b_{OT, 11, 01} + g^{OT}_{CS, 01}*|CS_{12}><CS_{12}|*b^\\dagger_{OT, 12, 01} + g^{OT}_{CS, 01}*|CS_{12}><CS_{12}|*b_{OT, 12, 01} + g^{OT}_{CS, 01}*|CS_{13}><CS_{13}|*b^\\dagger_{OT, 13, 01} + g^{OT}_{CS, 01}*|CS_{13}><CS_{13}|*b_{OT, 13, 01} + g^{OT}_{CS, 02}*|CS_{01}><CS_{01}|*b^\\dagger_{OT, 01, 02} + g^{OT}_{CS, 02}*|CS_{01}><CS_{01}|*b_{OT, 01, 02} + g^{OT}_{CS, 02}*|CS_{02}><CS_{02}|*b^\\dagger_{OT, 02, 02} + g^{OT}_{CS, 02}*|CS_{02}><CS_{02}|*b_{OT, 02, 02} + g^{OT}_{CS, 02}*|CS_{03}><CS_{03}|*b^\\dagger_{OT, 03, 02} + g^{OT}_{CS, 02}*|CS_{03}><CS_{03}|*b_{OT, 03, 02} + g^{OT}_{CS, 02}*|CS_{04}><CS_{04}|*b^\\dagger_{OT, 04, 02} + g^{OT}_{CS, 02}*|CS_{04}><CS_{04}|*b_{OT, 04, 02} + g^{OT}_{CS, 02}*|CS_{05}><CS_{05}|*b^\\dagger_{OT, 05, 02} + g^{OT}_{CS, 02}*|CS_{05}><CS_{05}|*b_{OT, 05, 02} + g^{OT}_{CS, 02}*|CS_{06}><CS_{06}|*b^\\dagger_{OT, 06, 02} + g^{OT}_{CS, 02}*|CS_{06}><CS_{06}|*b_{OT, 06, 02} + g^{OT}_{CS, 02}*|CS_{07}><CS_{07}|*b^\\dagger_{OT, 07, 02} + g^{OT}_{CS, 02}*|CS_{07}><CS_{07}|*b_{OT, 07, 02} + g^{OT}_{CS, 02}*|CS_{08}><CS_{08}|*b^\\dagger_{OT, 08, 02} + g^{OT}_{CS, 02}*|CS_{08}><CS_{08}|*b_{OT, 08, 02} + g^{OT}_{CS, 02}*|CS_{09}><CS_{09}|*b^\\dagger_{OT, 09, 02} + g^{OT}_{CS, 02}*|CS_{09}><CS_{09}|*b_{OT, 09, 02} + g^{OT}_{CS, 02}*|CS_{10}><CS_{10}|*b^\\dagger_{OT, 10, 02} + g^{OT}_{CS, 02}*|CS_{10}><CS_{10}|*b_{OT, 10, 02} + g^{OT}_{CS, 02}*|CS_{11}><CS_{11}|*b^\\dagger_{OT, 11, 02} + g^{OT}_{CS, 02}*|CS_{11}><CS_{11}|*b_{OT, 11, 02} + g^{OT}_{CS, 02}*|CS_{12}><CS_{12}|*b^\\dagger_{OT, 12, 02} + g^{OT}_{CS, 02}*|CS_{12}><CS_{12}|*b_{OT, 12, 02} + g^{OT}_{CS, 02}*|CS_{13}><CS_{13}|*b^\\dagger_{OT, 13, 02} + g^{OT}_{CS, 02}*|CS_{13}><CS_{13}|*b_{OT, 13, 02} + g^{OT}_{CS, 03}*|CS_{01}><CS_{01}|*b^\\dagger_{OT, 01, 03} + g^{OT}_{CS, 03}*|CS_{01}><CS_{01}|*b_{OT, 01, 03} + g^{OT}_{CS, 03}*|CS_{02}><CS_{02}|*b^\\dagger_{OT, 02, 03} + g^{OT}_{CS, 03}*|CS_{02}><CS_{02}|*b_{OT, 02, 03} + g^{OT}_{CS, 03}*|CS_{03}><CS_{03}|*b^\\dagger_{OT, 03, 03} + g^{OT}_{CS, 03}*|CS_{03}><CS_{03}|*b_{OT, 03, 03} + g^{OT}_{CS, 03}*|CS_{04}><CS_{04}|*b^\\dagger_{OT, 04, 03} + g^{OT}_{CS, 03}*|CS_{04}><CS_{04}|*b_{OT, 04, 03} + g^{OT}_{CS, 03}*|CS_{05}><CS_{05}|*b^\\dagger_{OT, 05, 03} + g^{OT}_{CS, 03}*|CS_{05}><CS_{05}|*b_{OT, 05, 03} + g^{OT}_{CS, 03}*|CS_{06}><CS_{06}|*b^\\dagger_{OT, 06, 03} + g^{OT}_{CS, 03}*|CS_{06}><CS_{06}|*b_{OT, 06, 03} + g^{OT}_{CS, 03}*|CS_{07}><CS_{07}|*b^\\dagger_{OT, 07, 03} + g^{OT}_{CS, 03}*|CS_{07}><CS_{07}|*b_{OT, 07, 03} + g^{OT}_{CS, 03}*|CS_{08}><CS_{08}|*b^\\dagger_{OT, 08, 03} + g^{OT}_{CS, 03}*|CS_{08}><CS_{08}|*b_{OT, 08, 03} + g^{OT}_{CS, 03}*|CS_{09}><CS_{09}|*b^\\dagger_{OT, 09, 03} + g^{OT}_{CS, 03}*|CS_{09}><CS_{09}|*b_{OT, 09, 03} + g^{OT}_{CS, 03}*|CS_{10}><CS_{10}|*b^\\dagger_{OT, 10, 03} + g^{OT}_{CS, 03}*|CS_{10}><CS_{10}|*b_{OT, 10, 03} + g^{OT}_{CS, 03}*|CS_{11}><CS_{11}|*b^\\dagger_{OT, 11, 03} + g^{OT}_{CS, 03}*|CS_{11}><CS_{11}|*b_{OT, 11, 03} + g^{OT}_{CS, 03}*|CS_{12}><CS_{12}|*b^\\dagger_{OT, 12, 03} + g^{OT}_{CS, 03}*|CS_{12}><CS_{12}|*b_{OT, 12, 03} + g^{OT}_{CS, 03}*|CS_{13}><CS_{13}|*b^\\dagger_{OT, 13, 03} + g^{OT}_{CS, 03}*|CS_{13}><CS_{13}|*b_{OT, 13, 03} + g^{OT}_{CS, 04}*|CS_{01}><CS_{01}|*b^\\dagger_{OT, 01, 04} + g^{OT}_{CS, 04}*|CS_{01}><CS_{01}|*b_{OT, 01, 04} + g^{OT}_{CS, 04}*|CS_{02}><CS_{02}|*b^\\dagger_{OT, 02, 04} + g^{OT}_{CS, 04}*|CS_{02}><CS_{02}|*b_{OT, 02, 04} + g^{OT}_{CS, 04}*|CS_{03}><CS_{03}|*b^\\dagger_{OT, 03, 04} + g^{OT}_{CS, 04}*|CS_{03}><CS_{03}|*b_{OT, 03, 04} + g^{OT}_{CS, 04}*|CS_{04}><CS_{04}|*b^\\dagger_{OT, 04, 04} + g^{OT}_{CS, 04}*|CS_{04}><CS_{04}|*b_{OT, 04, 04} + g^{OT}_{CS, 04}*|CS_{05}><CS_{05}|*b^\\dagger_{OT, 05, 04} + g^{OT}_{CS, 04}*|CS_{05}><CS_{05}|*b_{OT, 05, 04} + g^{OT}_{CS, 04}*|CS_{06}><CS_{06}|*b^\\dagger_{OT, 06, 04} + g^{OT}_{CS, 04}*|CS_{06}><CS_{06}|*b_{OT, 06, 04} + g^{OT}_{CS, 04}*|CS_{07}><CS_{07}|*b^\\dagger_{OT, 07, 04} + g^{OT}_{CS, 04}*|CS_{07}><CS_{07}|*b_{OT, 07, 04} + g^{OT}_{CS, 04}*|CS_{08}><CS_{08}|*b^\\dagger_{OT, 08, 04} + g^{OT}_{CS, 04}*|CS_{08}><CS_{08}|*b_{OT, 08, 04} + g^{OT}_{CS, 04}*|CS_{09}><CS_{09}|*b^\\dagger_{OT, 09, 04} + g^{OT}_{CS, 04}*|CS_{09}><CS_{09}|*b_{OT, 09, 04} + g^{OT}_{CS, 04}*|CS_{10}><CS_{10}|*b^\\dagger_{OT, 10, 04} + g^{OT}_{CS, 04}*|CS_{10}><CS_{10}|*b_{OT, 10, 04} + g^{OT}_{CS, 04}*|CS_{11}><CS_{11}|*b^\\dagger_{OT, 11, 04} + g^{OT}_{CS, 04}*|CS_{11}><CS_{11}|*b_{OT, 11, 04} + g^{OT}_{CS, 04}*|CS_{12}><CS_{12}|*b^\\dagger_{OT, 12, 04} + g^{OT}_{CS, 04}*|CS_{12}><CS_{12}|*b_{OT, 12, 04} + g^{OT}_{CS, 04}*|CS_{13}><CS_{13}|*b^\\dagger_{OT, 13, 04} + g^{OT}_{CS, 04}*|CS_{13}><CS_{13}|*b_{OT, 13, 04} + g^{OT}_{CS, 05}*|CS_{01}><CS_{01}|*b^\\dagger_{OT, 01, 05} + g^{OT}_{CS, 05}*|CS_{01}><CS_{01}|*b_{OT, 01, 05} + g^{OT}_{CS, 05}*|CS_{02}><CS_{02}|*b^\\dagger_{OT, 02, 05} + g^{OT}_{CS, 05}*|CS_{02}><CS_{02}|*b_{OT, 02, 05} + g^{OT}_{CS, 05}*|CS_{03}><CS_{03}|*b^\\dagger_{OT, 03, 05} + g^{OT}_{CS, 05}*|CS_{03}><CS_{03}|*b_{OT, 03, 05} + g^{OT}_{CS, 05}*|CS_{04}><CS_{04}|*b^\\dagger_{OT, 04, 05} + g^{OT}_{CS, 05}*|CS_{04}><CS_{04}|*b_{OT, 04, 05} + g^{OT}_{CS, 05}*|CS_{05}><CS_{05}|*b^\\dagger_{OT, 05, 05} + g^{OT}_{CS, 05}*|CS_{05}><CS_{05}|*b_{OT, 05, 05} + g^{OT}_{CS, 05}*|CS_{06}><CS_{06}|*b^\\dagger_{OT, 06, 05} + g^{OT}_{CS, 05}*|CS_{06}><CS_{06}|*b_{OT, 06, 05} + g^{OT}_{CS, 05}*|CS_{07}><CS_{07}|*b^\\dagger_{OT, 07, 05} + g^{OT}_{CS, 05}*|CS_{07}><CS_{07}|*b_{OT, 07, 05} + g^{OT}_{CS, 05}*|CS_{08}><CS_{08}|*b^\\dagger_{OT, 08, 05} + g^{OT}_{CS, 05}*|CS_{08}><CS_{08}|*b_{OT, 08, 05} + g^{OT}_{CS, 05}*|CS_{09}><CS_{09}|*b^\\dagger_{OT, 09, 05} + g^{OT}_{CS, 05}*|CS_{09}><CS_{09}|*b_{OT, 09, 05} + g^{OT}_{CS, 05}*|CS_{10}><CS_{10}|*b^\\dagger_{OT, 10, 05} + g^{OT}_{CS, 05}*|CS_{10}><CS_{10}|*b_{OT, 10, 05} + g^{OT}_{CS, 05}*|CS_{11}><CS_{11}|*b^\\dagger_{OT, 11, 05} + g^{OT}_{CS, 05}*|CS_{11}><CS_{11}|*b_{OT, 11, 05} + g^{OT}_{CS, 05}*|CS_{12}><CS_{12}|*b^\\dagger_{OT, 12, 05} + g^{OT}_{CS, 05}*|CS_{12}><CS_{12}|*b_{OT, 12, 05} + g^{OT}_{CS, 05}*|CS_{13}><CS_{13}|*b^\\dagger_{OT, 13, 05} + g^{OT}_{CS, 05}*|CS_{13}><CS_{13}|*b_{OT, 13, 05} + g^{OT}_{CS, 06}*|CS_{01}><CS_{01}|*b^\\dagger_{OT, 01, 06} + g^{OT}_{CS, 06}*|CS_{01}><CS_{01}|*b_{OT, 01, 06} + g^{OT}_{CS, 06}*|CS_{02}><CS_{02}|*b^\\dagger_{OT, 02, 06} + g^{OT}_{CS, 06}*|CS_{02}><CS_{02}|*b_{OT, 02, 06} + g^{OT}_{CS, 06}*|CS_{03}><CS_{03}|*b^\\dagger_{OT, 03, 06} + g^{OT}_{CS, 06}*|CS_{03}><CS_{03}|*b_{OT, 03, 06} + g^{OT}_{CS, 06}*|CS_{04}><CS_{04}|*b^\\dagger_{OT, 04, 06} + g^{OT}_{CS, 06}*|CS_{04}><CS_{04}|*b_{OT, 04, 06} + g^{OT}_{CS, 06}*|CS_{05}><CS_{05}|*b^\\dagger_{OT, 05, 06} + g^{OT}_{CS, 06}*|CS_{05}><CS_{05}|*b_{OT, 05, 06} + g^{OT}_{CS, 06}*|CS_{06}><CS_{06}|*b^\\dagger_{OT, 06, 06} + g^{OT}_{CS, 06}*|CS_{06}><CS_{06}|*b_{OT, 06, 06} + g^{OT}_{CS, 06}*|CS_{07}><CS_{07}|*b^\\dagger_{OT, 07, 06} + g^{OT}_{CS, 06}*|CS_{07}><CS_{07}|*b_{OT, 07, 06} + g^{OT}_{CS, 06}*|CS_{08}><CS_{08}|*b^\\dagger_{OT, 08, 06} + g^{OT}_{CS, 06}*|CS_{08}><CS_{08}|*b_{OT, 08, 06} + g^{OT}_{CS, 06}*|CS_{09}><CS_{09}|*b^\\dagger_{OT, 09, 06} + g^{OT}_{CS, 06}*|CS_{09}><CS_{09}|*b_{OT, 09, 06} + g^{OT}_{CS, 06}*|CS_{10}><CS_{10}|*b^\\dagger_{OT, 10, 06} + g^{OT}_{CS, 06}*|CS_{10}><CS_{10}|*b_{OT, 10, 06} + g^{OT}_{CS, 06}*|CS_{11}><CS_{11}|*b^\\dagger_{OT, 11, 06} + g^{OT}_{CS, 06}*|CS_{11}><CS_{11}|*b_{OT, 11, 06} + g^{OT}_{CS, 06}*|CS_{12}><CS_{12}|*b^\\dagger_{OT, 12, 06} + g^{OT}_{CS, 06}*|CS_{12}><CS_{12}|*b_{OT, 12, 06} + g^{OT}_{CS, 06}*|CS_{13}><CS_{13}|*b^\\dagger_{OT, 13, 06} + g^{OT}_{CS, 06}*|CS_{13}><CS_{13}|*b_{OT, 13, 06} + g^{OT}_{CS, 07}*|CS_{01}><CS_{01}|*b^\\dagger_{OT, 01, 07} + g^{OT}_{CS, 07}*|CS_{01}><CS_{01}|*b_{OT, 01, 07} + g^{OT}_{CS, 07}*|CS_{02}><CS_{02}|*b^\\dagger_{OT, 02, 07} + g^{OT}_{CS, 07}*|CS_{02}><CS_{02}|*b_{OT, 02, 07} + g^{OT}_{CS, 07}*|CS_{03}><CS_{03}|*b^\\dagger_{OT, 03, 07} + g^{OT}_{CS, 07}*|CS_{03}><CS_{03}|*b_{OT, 03, 07} + g^{OT}_{CS, 07}*|CS_{04}><CS_{04}|*b^\\dagger_{OT, 04, 07} + g^{OT}_{CS, 07}*|CS_{04}><CS_{04}|*b_{OT, 04, 07} + g^{OT}_{CS, 07}*|CS_{05}><CS_{05}|*b^\\dagger_{OT, 05, 07} + g^{OT}_{CS, 07}*|CS_{05}><CS_{05}|*b_{OT, 05, 07} + g^{OT}_{CS, 07}*|CS_{06}><CS_{06}|*b^\\dagger_{OT, 06, 07} + g^{OT}_{CS, 07}*|CS_{06}><CS_{06}|*b_{OT, 06, 07} + g^{OT}_{CS, 07}*|CS_{07}><CS_{07}|*b^\\dagger_{OT, 07, 07} + g^{OT}_{CS, 07}*|CS_{07}><CS_{07}|*b_{OT, 07, 07} + g^{OT}_{CS, 07}*|CS_{08}><CS_{08}|*b^\\dagger_{OT, 08, 07} + g^{OT}_{CS, 07}*|CS_{08}><CS_{08}|*b_{OT, 08, 07} + g^{OT}_{CS, 07}*|CS_{09}><CS_{09}|*b^\\dagger_{OT, 09, 07} + g^{OT}_{CS, 07}*|CS_{09}><CS_{09}|*b_{OT, 09, 07} + g^{OT}_{CS, 07}*|CS_{10}><CS_{10}|*b^\\dagger_{OT, 10, 07} + g^{OT}_{CS, 07}*|CS_{10}><CS_{10}|*b_{OT, 10, 07} + g^{OT}_{CS, 07}*|CS_{11}><CS_{11}|*b^\\dagger_{OT, 11, 07} + g^{OT}_{CS, 07}*|CS_{11}><CS_{11}|*b_{OT, 11, 07} + g^{OT}_{CS, 07}*|CS_{12}><CS_{12}|*b^\\dagger_{OT, 12, 07} + g^{OT}_{CS, 07}*|CS_{12}><CS_{12}|*b_{OT, 12, 07} + g^{OT}_{CS, 07}*|CS_{13}><CS_{13}|*b^\\dagger_{OT, 13, 07} + g^{OT}_{CS, 07}*|CS_{13}><CS_{13}|*b_{OT, 13, 07} + g^{OT}_{CS, 08}*|CS_{01}><CS_{01}|*b^\\dagger_{OT, 01, 08} + g^{OT}_{CS, 08}*|CS_{01}><CS_{01}|*b_{OT, 01, 08} + g^{OT}_{CS, 08}*|CS_{02}><CS_{02}|*b^\\dagger_{OT, 02, 08} + g^{OT}_{CS, 08}*|CS_{02}><CS_{02}|*b_{OT, 02, 08} + g^{OT}_{CS, 08}*|CS_{03}><CS_{03}|*b^\\dagger_{OT, 03, 08} + g^{OT}_{CS, 08}*|CS_{03}><CS_{03}|*b_{OT, 03, 08} + g^{OT}_{CS, 08}*|CS_{04}><CS_{04}|*b^\\dagger_{OT, 04, 08} + g^{OT}_{CS, 08}*|CS_{04}><CS_{04}|*b_{OT, 04, 08} + g^{OT}_{CS, 08}*|CS_{05}><CS_{05}|*b^\\dagger_{OT, 05, 08} + g^{OT}_{CS, 08}*|CS_{05}><CS_{05}|*b_{OT, 05, 08} + g^{OT}_{CS, 08}*|CS_{06}><CS_{06}|*b^\\dagger_{OT, 06, 08} + g^{OT}_{CS, 08}*|CS_{06}><CS_{06}|*b_{OT, 06, 08} + g^{OT}_{CS, 08}*|CS_{07}><CS_{07}|*b^\\dagger_{OT, 07, 08} + g^{OT}_{CS, 08}*|CS_{07}><CS_{07}|*b_{OT, 07, 08} + g^{OT}_{CS, 08}*|CS_{08}><CS_{08}|*b^\\dagger_{OT, 08, 08} + g^{OT}_{CS, 08}*|CS_{08}><CS_{08}|*b_{OT, 08, 08} + g^{OT}_{CS, 08}*|CS_{09}><CS_{09}|*b^\\dagger_{OT, 09, 08} + g^{OT}_{CS, 08}*|CS_{09}><CS_{09}|*b_{OT, 09, 08} + g^{OT}_{CS, 08}*|CS_{10}><CS_{10}|*b^\\dagger_{OT, 10, 08} + g^{OT}_{CS, 08}*|CS_{10}><CS_{10}|*b_{OT, 10, 08} + g^{OT}_{CS, 08}*|CS_{11}><CS_{11}|*b^\\dagger_{OT, 11, 08} + g^{OT}_{CS, 08}*|CS_{11}><CS_{11}|*b_{OT, 11, 08} + g^{OT}_{CS, 08}*|CS_{12}><CS_{12}|*b^\\dagger_{OT, 12, 08} + g^{OT}_{CS, 08}*|CS_{12}><CS_{12}|*b_{OT, 12, 08} + g^{OT}_{CS, 08}*|CS_{13}><CS_{13}|*b^\\dagger_{OT, 13, 08} + g^{OT}_{CS, 08}*|CS_{13}><CS_{13}|*b_{OT, 13, 08} + g^{OT}_{LE, 01}*|LE_{01}><LE_{01}|*b^\\dagger_{OT, 01, 01} + g^{OT}_{LE, 01}*|LE_{01}><LE_{01}|*b_{OT, 01, 01} + g^{OT}_{LE, 01}*|LE_{02}><LE_{02}|*b^\\dagger_{OT, 02, 01} + g^{OT}_{LE, 01}*|LE_{02}><LE_{02}|*b_{OT, 02, 01} + g^{OT}_{LE, 01}*|LE_{03}><LE_{03}|*b^\\dagger_{OT, 03, 01} + g^{OT}_{LE, 01}*|LE_{03}><LE_{03}|*b_{OT, 03, 01} + g^{OT}_{LE, 01}*|LE_{04}><LE_{04}|*b^\\dagger_{OT, 04, 01} + g^{OT}_{LE, 01}*|LE_{04}><LE_{04}|*b_{OT, 04, 01} + g^{OT}_{LE, 01}*|LE_{05}><LE_{05}|*b^\\dagger_{OT, 05, 01} + g^{OT}_{LE, 01}*|LE_{05}><LE_{05}|*b_{OT, 05, 01} + g^{OT}_{LE, 01}*|LE_{06}><LE_{06}|*b^\\dagger_{OT, 06, 01} + g^{OT}_{LE, 01}*|LE_{06}><LE_{06}|*b_{OT, 06, 01} + g^{OT}_{LE, 01}*|LE_{07}><LE_{07}|*b^\\dagger_{OT, 07, 01} + g^{OT}_{LE, 01}*|LE_{07}><LE_{07}|*b_{OT, 07, 01} + g^{OT}_{LE, 01}*|LE_{08}><LE_{08}|*b^\\dagger_{OT, 08, 01} + g^{OT}_{LE, 01}*|LE_{08}><LE_{08}|*b_{OT, 08, 01} + g^{OT}_{LE, 01}*|LE_{09}><LE_{09}|*b^\\dagger_{OT, 09, 01} + g^{OT}_{LE, 01}*|LE_{09}><LE_{09}|*b_{OT, 09, 01} + g^{OT}_{LE, 01}*|LE_{10}><LE_{10}|*b^\\dagger_{OT, 10, 01} + g^{OT}_{LE, 01}*|LE_{10}><LE_{10}|*b_{OT, 10, 01} + g^{OT}_{LE, 01}*|LE_{11}><LE_{11}|*b^\\dagger_{OT, 11, 01} + g^{OT}_{LE, 01}*|LE_{11}><LE_{11}|*b_{OT, 11, 01} + g^{OT}_{LE, 01}*|LE_{12}><LE_{12}|*b^\\dagger_{OT, 12, 01} + g^{OT}_{LE, 01}*|LE_{12}><LE_{12}|*b_{OT, 12, 01} + g^{OT}_{LE, 01}*|LE_{13}><LE_{13}|*b^\\dagger_{OT, 13, 01} + g^{OT}_{LE, 01}*|LE_{13}><LE_{13}|*b_{OT, 13, 01} + g^{OT}_{LE, 02}*|LE_{01}><LE_{01}|*b^\\dagger_{OT, 01, 02} + g^{OT}_{LE, 02}*|LE_{01}><LE_{01}|*b_{OT, 01, 02} + g^{OT}_{LE, 02}*|LE_{02}><LE_{02}|*b^\\dagger_{OT, 02, 02} + g^{OT}_{LE, 02}*|LE_{02}><LE_{02}|*b_{OT, 02, 02} + g^{OT}_{LE, 02}*|LE_{03}><LE_{03}|*b^\\dagger_{OT, 03, 02} + g^{OT}_{LE, 02}*|LE_{03}><LE_{03}|*b_{OT, 03, 02} + g^{OT}_{LE, 02}*|LE_{04}><LE_{04}|*b^\\dagger_{OT, 04, 02} + g^{OT}_{LE, 02}*|LE_{04}><LE_{04}|*b_{OT, 04, 02} + g^{OT}_{LE, 02}*|LE_{05}><LE_{05}|*b^\\dagger_{OT, 05, 02} + g^{OT}_{LE, 02}*|LE_{05}><LE_{05}|*b_{OT, 05, 02} + g^{OT}_{LE, 02}*|LE_{06}><LE_{06}|*b^\\dagger_{OT, 06, 02} + g^{OT}_{LE, 02}*|LE_{06}><LE_{06}|*b_{OT, 06, 02} + g^{OT}_{LE, 02}*|LE_{07}><LE_{07}|*b^\\dagger_{OT, 07, 02} + g^{OT}_{LE, 02}*|LE_{07}><LE_{07}|*b_{OT, 07, 02} + g^{OT}_{LE, 02}*|LE_{08}><LE_{08}|*b^\\dagger_{OT, 08, 02} + g^{OT}_{LE, 02}*|LE_{08}><LE_{08}|*b_{OT, 08, 02} + g^{OT}_{LE, 02}*|LE_{09}><LE_{09}|*b^\\dagger_{OT, 09, 02} + g^{OT}_{LE, 02}*|LE_{09}><LE_{09}|*b_{OT, 09, 02} + g^{OT}_{LE, 02}*|LE_{10}><LE_{10}|*b^\\dagger_{OT, 10, 02} + g^{OT}_{LE, 02}*|LE_{10}><LE_{10}|*b_{OT, 10, 02} + g^{OT}_{LE, 02}*|LE_{11}><LE_{11}|*b^\\dagger_{OT, 11, 02} + g^{OT}_{LE, 02}*|LE_{11}><LE_{11}|*b_{OT, 11, 02} + g^{OT}_{LE, 02}*|LE_{12}><LE_{12}|*b^\\dagger_{OT, 12, 02} + g^{OT}_{LE, 02}*|LE_{12}><LE_{12}|*b_{OT, 12, 02} + g^{OT}_{LE, 02}*|LE_{13}><LE_{13}|*b^\\dagger_{OT, 13, 02} + g^{OT}_{LE, 02}*|LE_{13}><LE_{13}|*b_{OT, 13, 02} + g^{OT}_{LE, 03}*|LE_{01}><LE_{01}|*b^\\dagger_{OT, 01, 03} + g^{OT}_{LE, 03}*|LE_{01}><LE_{01}|*b_{OT, 01, 03} + g^{OT}_{LE, 03}*|LE_{02}><LE_{02}|*b^\\dagger_{OT, 02, 03} + g^{OT}_{LE, 03}*|LE_{02}><LE_{02}|*b_{OT, 02, 03} + g^{OT}_{LE, 03}*|LE_{03}><LE_{03}|*b^\\dagger_{OT, 03, 03} + g^{OT}_{LE, 03}*|LE_{03}><LE_{03}|*b_{OT, 03, 03} + g^{OT}_{LE, 03}*|LE_{04}><LE_{04}|*b^\\dagger_{OT, 04, 03} + g^{OT}_{LE, 03}*|LE_{04}><LE_{04}|*b_{OT, 04, 03} + g^{OT}_{LE, 03}*|LE_{05}><LE_{05}|*b^\\dagger_{OT, 05, 03} + g^{OT}_{LE, 03}*|LE_{05}><LE_{05}|*b_{OT, 05, 03} + g^{OT}_{LE, 03}*|LE_{06}><LE_{06}|*b^\\dagger_{OT, 06, 03} + g^{OT}_{LE, 03}*|LE_{06}><LE_{06}|*b_{OT, 06, 03} + g^{OT}_{LE, 03}*|LE_{07}><LE_{07}|*b^\\dagger_{OT, 07, 03} + g^{OT}_{LE, 03}*|LE_{07}><LE_{07}|*b_{OT, 07, 03} + g^{OT}_{LE, 03}*|LE_{08}><LE_{08}|*b^\\dagger_{OT, 08, 03} + g^{OT}_{LE, 03}*|LE_{08}><LE_{08}|*b_{OT, 08, 03} + g^{OT}_{LE, 03}*|LE_{09}><LE_{09}|*b^\\dagger_{OT, 09, 03} + g^{OT}_{LE, 03}*|LE_{09}><LE_{09}|*b_{OT, 09, 03} + g^{OT}_{LE, 03}*|LE_{10}><LE_{10}|*b^\\dagger_{OT, 10, 03} + g^{OT}_{LE, 03}*|LE_{10}><LE_{10}|*b_{OT, 10, 03} + g^{OT}_{LE, 03}*|LE_{11}><LE_{11}|*b^\\dagger_{OT, 11, 03} + g^{OT}_{LE, 03}*|LE_{11}><LE_{11}|*b_{OT, 11, 03} + g^{OT}_{LE, 03}*|LE_{12}><LE_{12}|*b^\\dagger_{OT, 12, 03} + g^{OT}_{LE, 03}*|LE_{12}><LE_{12}|*b_{OT, 12, 03} + g^{OT}_{LE, 03}*|LE_{13}><LE_{13}|*b^\\dagger_{OT, 13, 03} + g^{OT}_{LE, 03}*|LE_{13}><LE_{13}|*b_{OT, 13, 03} + g^{OT}_{LE, 04}*|LE_{01}><LE_{01}|*b^\\dagger_{OT, 01, 04} + g^{OT}_{LE, 04}*|LE_{01}><LE_{01}|*b_{OT, 01, 04} + g^{OT}_{LE, 04}*|LE_{02}><LE_{02}|*b^\\dagger_{OT, 02, 04} + g^{OT}_{LE, 04}*|LE_{02}><LE_{02}|*b_{OT, 02, 04} + g^{OT}_{LE, 04}*|LE_{03}><LE_{03}|*b^\\dagger_{OT, 03, 04} + g^{OT}_{LE, 04}*|LE_{03}><LE_{03}|*b_{OT, 03, 04} + g^{OT}_{LE, 04}*|LE_{04}><LE_{04}|*b^\\dagger_{OT, 04, 04} + g^{OT}_{LE, 04}*|LE_{04}><LE_{04}|*b_{OT, 04, 04} + g^{OT}_{LE, 04}*|LE_{05}><LE_{05}|*b^\\dagger_{OT, 05, 04} + g^{OT}_{LE, 04}*|LE_{05}><LE_{05}|*b_{OT, 05, 04} + g^{OT}_{LE, 04}*|LE_{06}><LE_{06}|*b^\\dagger_{OT, 06, 04} + g^{OT}_{LE, 04}*|LE_{06}><LE_{06}|*b_{OT, 06, 04} + g^{OT}_{LE, 04}*|LE_{07}><LE_{07}|*b^\\dagger_{OT, 07, 04} + g^{OT}_{LE, 04}*|LE_{07}><LE_{07}|*b_{OT, 07, 04} + g^{OT}_{LE, 04}*|LE_{08}><LE_{08}|*b^\\dagger_{OT, 08, 04} + g^{OT}_{LE, 04}*|LE_{08}><LE_{08}|*b_{OT, 08, 04} + g^{OT}_{LE, 04}*|LE_{09}><LE_{09}|*b^\\dagger_{OT, 09, 04} + g^{OT}_{LE, 04}*|LE_{09}><LE_{09}|*b_{OT, 09, 04} + g^{OT}_{LE, 04}*|LE_{10}><LE_{10}|*b^\\dagger_{OT, 10, 04} + g^{OT}_{LE, 04}*|LE_{10}><LE_{10}|*b_{OT, 10, 04} + g^{OT}_{LE, 04}*|LE_{11}><LE_{11}|*b^\\dagger_{OT, 11, 04} + g^{OT}_{LE, 04}*|LE_{11}><LE_{11}|*b_{OT, 11, 04} + g^{OT}_{LE, 04}*|LE_{12}><LE_{12}|*b^\\dagger_{OT, 12, 04} + g^{OT}_{LE, 04}*|LE_{12}><LE_{12}|*b_{OT, 12, 04} + g^{OT}_{LE, 04}*|LE_{13}><LE_{13}|*b^\\dagger_{OT, 13, 04} + g^{OT}_{LE, 04}*|LE_{13}><LE_{13}|*b_{OT, 13, 04} + g^{OT}_{LE, 05}*|LE_{01}><LE_{01}|*b^\\dagger_{OT, 01, 05} + g^{OT}_{LE, 05}*|LE_{01}><LE_{01}|*b_{OT, 01, 05} + g^{OT}_{LE, 05}*|LE_{02}><LE_{02}|*b^\\dagger_{OT, 02, 05} + g^{OT}_{LE, 05}*|LE_{02}><LE_{02}|*b_{OT, 02, 05} + g^{OT}_{LE, 05}*|LE_{03}><LE_{03}|*b^\\dagger_{OT, 03, 05} + g^{OT}_{LE, 05}*|LE_{03}><LE_{03}|*b_{OT, 03, 05} + g^{OT}_{LE, 05}*|LE_{04}><LE_{04}|*b^\\dagger_{OT, 04, 05} + g^{OT}_{LE, 05}*|LE_{04}><LE_{04}|*b_{OT, 04, 05} + g^{OT}_{LE, 05}*|LE_{05}><LE_{05}|*b^\\dagger_{OT, 05, 05} + g^{OT}_{LE, 05}*|LE_{05}><LE_{05}|*b_{OT, 05, 05} + g^{OT}_{LE, 05}*|LE_{06}><LE_{06}|*b^\\dagger_{OT, 06, 05} + g^{OT}_{LE, 05}*|LE_{06}><LE_{06}|*b_{OT, 06, 05} + g^{OT}_{LE, 05}*|LE_{07}><LE_{07}|*b^\\dagger_{OT, 07, 05} + g^{OT}_{LE, 05}*|LE_{07}><LE_{07}|*b_{OT, 07, 05} + g^{OT}_{LE, 05}*|LE_{08}><LE_{08}|*b^\\dagger_{OT, 08, 05} + g^{OT}_{LE, 05}*|LE_{08}><LE_{08}|*b_{OT, 08, 05} + g^{OT}_{LE, 05}*|LE_{09}><LE_{09}|*b^\\dagger_{OT, 09, 05} + g^{OT}_{LE, 05}*|LE_{09}><LE_{09}|*b_{OT, 09, 05} + g^{OT}_{LE, 05}*|LE_{10}><LE_{10}|*b^\\dagger_{OT, 10, 05} + g^{OT}_{LE, 05}*|LE_{10}><LE_{10}|*b_{OT, 10, 05} + g^{OT}_{LE, 05}*|LE_{11}><LE_{11}|*b^\\dagger_{OT, 11, 05} + g^{OT}_{LE, 05}*|LE_{11}><LE_{11}|*b_{OT, 11, 05} + g^{OT}_{LE, 05}*|LE_{12}><LE_{12}|*b^\\dagger_{OT, 12, 05} + g^{OT}_{LE, 05}*|LE_{12}><LE_{12}|*b_{OT, 12, 05} + g^{OT}_{LE, 05}*|LE_{13}><LE_{13}|*b^\\dagger_{OT, 13, 05} + g^{OT}_{LE, 05}*|LE_{13}><LE_{13}|*b_{OT, 13, 05} + g^{OT}_{LE, 06}*|LE_{01}><LE_{01}|*b^\\dagger_{OT, 01, 06} + g^{OT}_{LE, 06}*|LE_{01}><LE_{01}|*b_{OT, 01, 06} + g^{OT}_{LE, 06}*|LE_{02}><LE_{02}|*b^\\dagger_{OT, 02, 06} + g^{OT}_{LE, 06}*|LE_{02}><LE_{02}|*b_{OT, 02, 06} + g^{OT}_{LE, 06}*|LE_{03}><LE_{03}|*b^\\dagger_{OT, 03, 06} + g^{OT}_{LE, 06}*|LE_{03}><LE_{03}|*b_{OT, 03, 06} + g^{OT}_{LE, 06}*|LE_{04}><LE_{04}|*b^\\dagger_{OT, 04, 06} + g^{OT}_{LE, 06}*|LE_{04}><LE_{04}|*b_{OT, 04, 06} + g^{OT}_{LE, 06}*|LE_{05}><LE_{05}|*b^\\dagger_{OT, 05, 06} + g^{OT}_{LE, 06}*|LE_{05}><LE_{05}|*b_{OT, 05, 06} + g^{OT}_{LE, 06}*|LE_{06}><LE_{06}|*b^\\dagger_{OT, 06, 06} + g^{OT}_{LE, 06}*|LE_{06}><LE_{06}|*b_{OT, 06, 06} + g^{OT}_{LE, 06}*|LE_{07}><LE_{07}|*b^\\dagger_{OT, 07, 06} + g^{OT}_{LE, 06}*|LE_{07}><LE_{07}|*b_{OT, 07, 06} + g^{OT}_{LE, 06}*|LE_{08}><LE_{08}|*b^\\dagger_{OT, 08, 06} + g^{OT}_{LE, 06}*|LE_{08}><LE_{08}|*b_{OT, 08, 06} + g^{OT}_{LE, 06}*|LE_{09}><LE_{09}|*b^\\dagger_{OT, 09, 06} + g^{OT}_{LE, 06}*|LE_{09}><LE_{09}|*b_{OT, 09, 06} + g^{OT}_{LE, 06}*|LE_{10}><LE_{10}|*b^\\dagger_{OT, 10, 06} + g^{OT}_{LE, 06}*|LE_{10}><LE_{10}|*b_{OT, 10, 06} + g^{OT}_{LE, 06}*|LE_{11}><LE_{11}|*b^\\dagger_{OT, 11, 06} + g^{OT}_{LE, 06}*|LE_{11}><LE_{11}|*b_{OT, 11, 06} + g^{OT}_{LE, 06}*|LE_{12}><LE_{12}|*b^\\dagger_{OT, 12, 06} + g^{OT}_{LE, 06}*|LE_{12}><LE_{12}|*b_{OT, 12, 06} + g^{OT}_{LE, 06}*|LE_{13}><LE_{13}|*b^\\dagger_{OT, 13, 06} + g^{OT}_{LE, 06}*|LE_{13}><LE_{13}|*b_{OT, 13, 06} + g^{OT}_{LE, 07}*|LE_{01}><LE_{01}|*b^\\dagger_{OT, 01, 07} + g^{OT}_{LE, 07}*|LE_{01}><LE_{01}|*b_{OT, 01, 07} + g^{OT}_{LE, 07}*|LE_{02}><LE_{02}|*b^\\dagger_{OT, 02, 07} + g^{OT}_{LE, 07}*|LE_{02}><LE_{02}|*b_{OT, 02, 07} + g^{OT}_{LE, 07}*|LE_{03}><LE_{03}|*b^\\dagger_{OT, 03, 07} + g^{OT}_{LE, 07}*|LE_{03}><LE_{03}|*b_{OT, 03, 07} + g^{OT}_{LE, 07}*|LE_{04}><LE_{04}|*b^\\dagger_{OT, 04, 07} + g^{OT}_{LE, 07}*|LE_{04}><LE_{04}|*b_{OT, 04, 07} + g^{OT}_{LE, 07}*|LE_{05}><LE_{05}|*b^\\dagger_{OT, 05, 07} + g^{OT}_{LE, 07}*|LE_{05}><LE_{05}|*b_{OT, 05, 07} + g^{OT}_{LE, 07}*|LE_{06}><LE_{06}|*b^\\dagger_{OT, 06, 07} + g^{OT}_{LE, 07}*|LE_{06}><LE_{06}|*b_{OT, 06, 07} + g^{OT}_{LE, 07}*|LE_{07}><LE_{07}|*b^\\dagger_{OT, 07, 07} + g^{OT}_{LE, 07}*|LE_{07}><LE_{07}|*b_{OT, 07, 07} + g^{OT}_{LE, 07}*|LE_{08}><LE_{08}|*b^\\dagger_{OT, 08, 07} + g^{OT}_{LE, 07}*|LE_{08}><LE_{08}|*b_{OT, 08, 07} + g^{OT}_{LE, 07}*|LE_{09}><LE_{09}|*b^\\dagger_{OT, 09, 07} + g^{OT}_{LE, 07}*|LE_{09}><LE_{09}|*b_{OT, 09, 07} + g^{OT}_{LE, 07}*|LE_{10}><LE_{10}|*b^\\dagger_{OT, 10, 07} + g^{OT}_{LE, 07}*|LE_{10}><LE_{10}|*b_{OT, 10, 07} + g^{OT}_{LE, 07}*|LE_{11}><LE_{11}|*b^\\dagger_{OT, 11, 07} + g^{OT}_{LE, 07}*|LE_{11}><LE_{11}|*b_{OT, 11, 07} + g^{OT}_{LE, 07}*|LE_{12}><LE_{12}|*b^\\dagger_{OT, 12, 07} + g^{OT}_{LE, 07}*|LE_{12}><LE_{12}|*b_{OT, 12, 07} + g^{OT}_{LE, 07}*|LE_{13}><LE_{13}|*b^\\dagger_{OT, 13, 07} + g^{OT}_{LE, 07}*|LE_{13}><LE_{13}|*b_{OT, 13, 07} + g^{OT}_{LE, 08}*|LE_{01}><LE_{01}|*b^\\dagger_{OT, 01, 08} + g^{OT}_{LE, 08}*|LE_{01}><LE_{01}|*b_{OT, 01, 08} + g^{OT}_{LE, 08}*|LE_{02}><LE_{02}|*b^\\dagger_{OT, 02, 08} + g^{OT}_{LE, 08}*|LE_{02}><LE_{02}|*b_{OT, 02, 08} + g^{OT}_{LE, 08}*|LE_{03}><LE_{03}|*b^\\dagger_{OT, 03, 08} + g^{OT}_{LE, 08}*|LE_{03}><LE_{03}|*b_{OT, 03, 08} + g^{OT}_{LE, 08}*|LE_{04}><LE_{04}|*b^\\dagger_{OT, 04, 08} + g^{OT}_{LE, 08}*|LE_{04}><LE_{04}|*b_{OT, 04, 08} + g^{OT}_{LE, 08}*|LE_{05}><LE_{05}|*b^\\dagger_{OT, 05, 08} + g^{OT}_{LE, 08}*|LE_{05}><LE_{05}|*b_{OT, 05, 08} + g^{OT}_{LE, 08}*|LE_{06}><LE_{06}|*b^\\dagger_{OT, 06, 08} + g^{OT}_{LE, 08}*|LE_{06}><LE_{06}|*b_{OT, 06, 08} + g^{OT}_{LE, 08}*|LE_{07}><LE_{07}|*b^\\dagger_{OT, 07, 08} + g^{OT}_{LE, 08}*|LE_{07}><LE_{07}|*b_{OT, 07, 08} + g^{OT}_{LE, 08}*|LE_{08}><LE_{08}|*b^\\dagger_{OT, 08, 08} + g^{OT}_{LE, 08}*|LE_{08}><LE_{08}|*b_{OT, 08, 08} + g^{OT}_{LE, 08}*|LE_{09}><LE_{09}|*b^\\dagger_{OT, 09, 08} + g^{OT}_{LE, 08}*|LE_{09}><LE_{09}|*b_{OT, 09, 08} + g^{OT}_{LE, 08}*|LE_{10}><LE_{10}|*b^\\dagger_{OT, 10, 08} + g^{OT}_{LE, 08}*|LE_{10}><LE_{10}|*b_{OT, 10, 08} + g^{OT}_{LE, 08}*|LE_{11}><LE_{11}|*b^\\dagger_{OT, 11, 08} + g^{OT}_{LE, 08}*|LE_{11}><LE_{11}|*b_{OT, 11, 08} + g^{OT}_{LE, 08}*|LE_{12}><LE_{12}|*b^\\dagger_{OT, 12, 08} + g^{OT}_{LE, 08}*|LE_{12}><LE_{12}|*b_{OT, 12, 08} + g^{OT}_{LE, 08}*|LE_{13}><LE_{13}|*b^\\dagger_{OT, 13, 08} + g^{OT}_{LE, 08}*|LE_{13}><LE_{13}|*b_{OT, 13, 08} + g_{CS, CS}*|CS_{01}><CS_{01}|*b^{\\dagger}_R + g_{CS, CS}*|CS_{01}><CS_{01}|*b_R + g_{LE, CS}*(<LE|CS> + h.c.)*b^{\\dagger}_R + g_{LE, CS}*(<LE|CS> + h.c.)*b_R + t*(|CS_{01}><CS_{02}|+h.c.) + t*(|CS_{02}><CS_{03}|+h.c.) + t*(|CS_{03}><CS_{04}|+h.c.) + t*(|CS_{04}><CS_{05}|+h.c.) + t*(|CS_{05}><CS_{06}|+h.c.) + t*(|CS_{06}><CS_{07}|+h.c.) + t*(|CS_{07}><CS_{08}|+h.c.) + t*(|CS_{08}><CS_{09}|+h.c.) + t*(|CS_{09}><CS_{10}|+h.c.) + t*(|CS_{10}><CS_{11}|+h.c.) + t*(|CS_{11}><CS_{12}|+h.c.) + t*(|CS_{12}><CS_{13}|+h.c.) + ε^{LE}*|LE_{01}><LE_{01}| + ε^{LE}*|LE_{02}><LE_{02}| + ε^{LE}*|LE_{03}><LE_{03}| + ε^{LE}*|LE_{04}><LE_{04}| + ε^{LE}*|LE_{05}><LE_{05}| + ε^{LE}*|LE_{06}><LE_{06}| + ε^{LE}*|LE_{07}><LE_{07}| + ε^{LE}*|LE_{08}><LE_{08}| + ε^{LE}*|LE_{09}><LE_{09}| + ε^{LE}*|LE_{10}><LE_{10}| + ε^{LE}*|LE_{11}><LE_{11}| + ε^{LE}*|LE_{12}><LE_{12}| + ε^{LE}*|LE_{13}><LE_{13}| + ε^{{CS}}_{01}*|CS_{01}><CS_{01}| + ε^{{CS}}_{02}*|CS_{02}><CS_{02}| + ε^{{CS}}_{03}*|CS_{03}><CS_{03}| + ε^{{CS}}_{04}*|CS_{04}><CS_{04}| + ε^{{CS}}_{05}*|CS_{05}><CS_{05}| + ε^{{CS}}_{06}*|CS_{06}><CS_{06}| + ε^{{CS}}_{07}*|CS_{07}><CS_{07}| + ε^{{CS}}_{08}*|CS_{08}><CS_{08}| + ε^{{CS}}_{09}*|CS_{09}><CS_{09}| + ε^{{CS}}_{10}*|CS_{10}><CS_{10}| + ε^{{CS}}_{11}*|CS_{11}><CS_{11}| + ε^{{CS}}_{12}*|CS_{12}><CS_{12}| + ε^{{CS}}_{13}*|CS_{13}><CS_{13}| + λ*(<LE|CS> + h.c.) + ω*b^{\\dagger}_R*b_R + ω^{F}_1*b_{F, 01}*b^\\dagger_{F, 01} + ω^{F}_2*b_{F, 02}*b^\\dagger_{F, 02} + ω^{F}_3*b_{F, 03}*b^\\dagger_{F, 03} + ω^{F}_4*b_{F, 04}*b^\\dagger_{F, 04} + ω^{F}_5*b_{F, 05}*b^\\dagger_{F, 05} + ω^{F}_6*b_{F, 06}*b^\\dagger_{F, 06} + ω^{F}_7*b_{F, 07}*b^\\dagger_{F, 07} + ω^{F}_8*b_{F, 08}*b^\\dagger_{F, 08} + ω^{OT}_1*b_{OT, 01, 01}*b^\\dagger_{OT, 01, 01} + ω^{OT}_1*b_{OT, 02, 01}*b^\\dagger_{OT, 02, 01} + ω^{OT}_1*b_{OT, 03, 01}*b^\\dagger_{OT, 03, 01} + ω^{OT}_1*b_{OT, 04, 01}*b^\\dagger_{OT, 04, 01} + ω^{OT}_1*b_{OT, 05, 01}*b^\\dagger_{OT, 05, 01} + ω^{OT}_1*b_{OT, 06, 01}*b^\\dagger_{OT, 06, 01} + ω^{OT}_1*b_{OT, 07, 01}*b^\\dagger_{OT, 07, 01} + ω^{OT}_1*b_{OT, 08, 01}*b^\\dagger_{OT, 08, 01} + ω^{OT}_1*b_{OT, 09, 01}*b^\\dagger_{OT, 09, 01} + ω^{OT}_1*b_{OT, 10, 01}*b^\\dagger_{OT, 10, 01} + ω^{OT}_1*b_{OT, 11, 01}*b^\\dagger_{OT, 11, 01} + ω^{OT}_1*b_{OT, 12, 01}*b^\\dagger_{OT, 12, 01} + ω^{OT}_1*b_{OT, 13, 01}*b^\\dagger_{OT, 13, 01} + ω^{OT}_2*b_{OT, 01, 02}*b^\\dagger_{OT, 01, 02} + ω^{OT}_2*b_{OT, 02, 02}*b^\\dagger_{OT, 02, 02} + ω^{OT}_2*b_{OT, 03, 02}*b^\\dagger_{OT, 03, 02} + ω^{OT}_2*b_{OT, 04, 02}*b^\\dagger_{OT, 04, 02} + ω^{OT}_2*b_{OT, 05, 02}*b^\\dagger_{OT, 05, 02} + ω^{OT}_2*b_{OT, 06, 02}*b^\\dagger_{OT, 06, 02} + ω^{OT}_2*b_{OT, 07, 02}*b^\\dagger_{OT, 07, 02} + ω^{OT}_2*b_{OT, 08, 02}*b^\\dagger_{OT, 08, 02} + ω^{OT}_2*b_{OT, 09, 02}*b^\\dagger_{OT, 09, 02} + ω^{OT}_2*b_{OT, 10, 02}*b^\\dagger_{OT, 10, 02} + ω^{OT}_2*b_{OT, 11, 02}*b^\\dagger_{OT, 11, 02} + ω^{OT}_2*b_{OT, 12, 02}*b^\\dagger_{OT, 12, 02} + ω^{OT}_2*b_{OT, 13, 02}*b^\\dagger_{OT, 13, 02} + ω^{OT}_3*b_{OT, 01, 03}*b^\\dagger_{OT, 01, 03} + ω^{OT}_3*b_{OT, 02, 03}*b^\\dagger_{OT, 02, 03} + ω^{OT}_3*b_{OT, 03, 03}*b^\\dagger_{OT, 03, 03} + ω^{OT}_3*b_{OT, 04, 03}*b^\\dagger_{OT, 04, 03} + ω^{OT}_3*b_{OT, 05, 03}*b^\\dagger_{OT, 05, 03} + ω^{OT}_3*b_{OT, 06, 03}*b^\\dagger_{OT, 06, 03} + ω^{OT}_3*b_{OT, 07, 03}*b^\\dagger_{OT, 07, 03} + ω^{OT}_3*b_{OT, 08, 03}*b^\\dagger_{OT, 08, 03} + ω^{OT}_3*b_{OT, 09, 03}*b^\\dagger_{OT, 09, 03} + ω^{OT}_3*b_{OT, 10, 03}*b^\\dagger_{OT, 10, 03} + ω^{OT}_3*b_{OT, 11, 03}*b^\\dagger_{OT, 11, 03} + ω^{OT}_3*b_{OT, 12, 03}*b^\\dagger_{OT, 12, 03} + ω^{OT}_3*b_{OT, 13, 03}*b^\\dagger_{OT, 13, 03} + ω^{OT}_4*b_{OT, 01, 04}*b^\\dagger_{OT, 01, 04} + ω^{OT}_4*b_{OT, 02, 04}*b^\\dagger_{OT, 02, 04} + ω^{OT}_4*b_{OT, 03, 04}*b^\\dagger_{OT, 03, 04} + ω^{OT}_4*b_{OT, 04, 04}*b^\\dagger_{OT, 04, 04} + ω^{OT}_4*b_{OT, 05, 04}*b^\\dagger_{OT, 05, 04} + ω^{OT}_4*b_{OT, 06, 04}*b^\\dagger_{OT, 06, 04} + ω^{OT}_4*b_{OT, 07, 04}*b^\\dagger_{OT, 07, 04} + ω^{OT}_4*b_{OT, 08, 04}*b^\\dagger_{OT, 08, 04} + ω^{OT}_4*b_{OT, 09, 04}*b^\\dagger_{OT, 09, 04} + ω^{OT}_4*b_{OT, 10, 04}*b^\\dagger_{OT, 10, 04} + ω^{OT}_4*b_{OT, 11, 04}*b^\\dagger_{OT, 11, 04} + ω^{OT}_4*b_{OT, 12, 04}*b^\\dagger_{OT, 12, 04} + ω^{OT}_4*b_{OT, 13, 04}*b^\\dagger_{OT, 13, 04} + ω^{OT}_5*b_{OT, 01, 05}*b^\\dagger_{OT, 01, 05} + ω^{OT}_5*b_{OT, 02, 05}*b^\\dagger_{OT, 02, 05} + ω^{OT}_5*b_{OT, 03, 05}*b^\\dagger_{OT, 03, 05} + ω^{OT}_5*b_{OT, 04, 05}*b^\\dagger_{OT, 04, 05} + ω^{OT}_5*b_{OT, 05, 05}*b^\\dagger_{OT, 05, 05} + ω^{OT}_5*b_{OT, 06, 05}*b^\\dagger_{OT, 06, 05} + ω^{OT}_5*b_{OT, 07, 05}*b^\\dagger_{OT, 07, 05} + ω^{OT}_5*b_{OT, 08, 05}*b^\\dagger_{OT, 08, 05} + ω^{OT}_5*b_{OT, 09, 05}*b^\\dagger_{OT, 09, 05} + ω^{OT}_5*b_{OT, 10, 05}*b^\\dagger_{OT, 10, 05} + ω^{OT}_5*b_{OT, 11, 05}*b^\\dagger_{OT, 11, 05} + ω^{OT}_5*b_{OT, 12, 05}*b^\\dagger_{OT, 12, 05} + ω^{OT}_5*b_{OT, 13, 05}*b^\\dagger_{OT, 13, 05} + ω^{OT}_6*b_{OT, 01, 06}*b^\\dagger_{OT, 01, 06} + ω^{OT}_6*b_{OT, 02, 06}*b^\\dagger_{OT, 02, 06} + ω^{OT}_6*b_{OT, 03, 06}*b^\\dagger_{OT, 03, 06} + ω^{OT}_6*b_{OT, 04, 06}*b^\\dagger_{OT, 04, 06} + ω^{OT}_6*b_{OT, 05, 06}*b^\\dagger_{OT, 05, 06} + ω^{OT}_6*b_{OT, 06, 06}*b^\\dagger_{OT, 06, 06} + ω^{OT}_6*b_{OT, 07, 06}*b^\\dagger_{OT, 07, 06} + ω^{OT}_6*b_{OT, 08, 06}*b^\\dagger_{OT, 08, 06} + ω^{OT}_6*b_{OT, 09, 06}*b^\\dagger_{OT, 09, 06} + ω^{OT}_6*b_{OT, 10, 06}*b^\\dagger_{OT, 10, 06} + ω^{OT}_6*b_{OT, 11, 06}*b^\\dagger_{OT, 11, 06} + ω^{OT}_6*b_{OT, 12, 06}*b^\\dagger_{OT, 12, 06} + ω^{OT}_6*b_{OT, 13, 06}*b^\\dagger_{OT, 13, 06} + ω^{OT}_7*b_{OT, 01, 07}*b^\\dagger_{OT, 01, 07} + ω^{OT}_7*b_{OT, 02, 07}*b^\\dagger_{OT, 02, 07} + ω^{OT}_7*b_{OT, 03, 07}*b^\\dagger_{OT, 03, 07} + ω^{OT}_7*b_{OT, 04, 07}*b^\\dagger_{OT, 04, 07} + ω^{OT}_7*b_{OT, 05, 07}*b^\\dagger_{OT, 05, 07} + ω^{OT}_7*b_{OT, 06, 07}*b^\\dagger_{OT, 06, 07} + ω^{OT}_7*b_{OT, 07, 07}*b^\\dagger_{OT, 07, 07} + ω^{OT}_7*b_{OT, 08, 07}*b^\\dagger_{OT, 08, 07} + ω^{OT}_7*b_{OT, 09, 07}*b^\\dagger_{OT, 09, 07} + ω^{OT}_7*b_{OT, 10, 07}*b^\\dagger_{OT, 10, 07} + ω^{OT}_7*b_{OT, 11, 07}*b^\\dagger_{OT, 11, 07} + ω^{OT}_7*b_{OT, 12, 07}*b^\\dagger_{OT, 12, 07} + ω^{OT}_7*b_{OT, 13, 07}*b^\\dagger_{OT, 13, 07} + ω^{OT}_8*b_{OT, 01, 08}*b^\\dagger_{OT, 01, 08} + ω^{OT}_8*b_{OT, 02, 08}*b^\\dagger_{OT, 02, 08} + ω^{OT}_8*b_{OT, 03, 08}*b^\\dagger_{OT, 03, 08} + ω^{OT}_8*b_{OT, 04, 08}*b^\\dagger_{OT, 04, 08} + ω^{OT}_8*b_{OT, 05, 08}*b^\\dagger_{OT, 05, 08} + ω^{OT}_8*b_{OT, 06, 08}*b^\\dagger_{OT, 06, 08} + ω^{OT}_8*b_{OT, 07, 08}*b^\\dagger_{OT, 07, 08} + ω^{OT}_8*b_{OT, 08, 08}*b^\\dagger_{OT, 08, 08} + ω^{OT}_8*b_{OT, 09, 08}*b^\\dagger_{OT, 09, 08} + ω^{OT}_8*b_{OT, 10, 08}*b^\\dagger_{OT, 10, 08} + ω^{OT}_8*b_{OT, 11, 08}*b^\\dagger_{OT, 11, 08} + ω^{OT}_8*b_{OT, 12, 08}*b^\\dagger_{OT, 12, 08} + ω^{OT}_8*b_{OT, 13, 08}*b^\\dagger_{OT, 13, 08}"
      ]
     },
     "metadata": {},
     "output_type": "display_data"
    }
   ],
   "source": [
    "am_pot = AssignManager(pot_sop)\n",
    "am_pot.assign()\n",
    "display(*am_pot.Wsym)\n",
    "W_prod = sympy.Mul(*am_pot.Wsym)\n",
    "print(*[f\"W{i}\" for i in range(am_pot.ndim)], \"=\")\n",
    "display(W_prod[0].expand())\n",
    "pot_mpo = am_pot.numerical_mpo(subs=subs)"
   ]
  },
  {
   "cell_type": "markdown",
   "id": "a0188b6f-83d8-4e9a-95e0-fd1051cdb7fe",
   "metadata": {},
   "source": [
    "### Setup Hamiltonian"
   ]
  },
  {
   "cell_type": "code",
   "execution_count": 8,
   "id": "d5cbd775-062e-46de-90cc-7330093651d0",
   "metadata": {
    "scrolled": true
   },
   "outputs": [],
   "source": [
    "potential = [\n",
    "    [\n",
    "        {\n",
    "            (tuple((i, i) for i in range(0, ndim))): TensorOperator(\n",
    "                mpo=pot_mpo\n",
    "            )\n",
    "        }\n",
    "    ]\n",
    "]\n",
    "\n",
    "H = TensorHamiltonian(\n",
    "    ndof=len(basis), potential=potential, kinetic=None, backend=backend\n",
    ")\n",
    "\n",
    "operators = {\"hamiltonian\": H}\n",
    "\n",
    "for i in range(0, basis[0].nprim):\n",
    "    core = np.zeros((1, basis[0].nprim, 1))\n",
    "    core[0, i, 0] = 1.0\n",
    "    n = TensorHamiltonian(\n",
    "        ndof=len(basis),\n",
    "        potential=[[{(0,): TensorOperator(mpo=[core], legs=(0,))}]],\n",
    "        kinetic=None,\n",
    "        backend=backend,\n",
    "    )\n",
    "    operators[f\"N{i}\"] = n"
   ]
  },
  {
   "cell_type": "markdown",
   "id": "ffab9fb2-ff36-44e7-ac32-9ce84666e201",
   "metadata": {},
   "source": [
    "### Setup Model (basis, operators, initial states)"
   ]
  },
  {
   "cell_type": "code",
   "execution_count": 9,
   "id": "37b0367c-6a22-472c-b0f0-db76f01c60d0",
   "metadata": {},
   "outputs": [],
   "source": [
    "model = Model(basinfo=basinfo, operators=operators)\n",
    "model.m_aux_max = 20\n",
    "\n",
    "init_exciton = [[0.0] * N　+ [1.0] + [0.0] * (N-1)]\n",
    "init_boson = [[1.0] + [0.0] * (basis[1].nprim - 1)]\n",
    "model.init_HartreeProduct = [init_exciton + init_boson * (ndim - 1)]"
   ]
  },
  {
   "cell_type": "markdown",
   "id": "09bfdf21-2df6-42ac-9f16-d103cd4971ad",
   "metadata": {},
   "source": [
    "### Execution"
   ]
  },
  {
   "cell_type": "code",
   "execution_count": 10,
   "id": "822a0737-74e8-475a-9077-ecd3687578ba",
   "metadata": {},
   "outputs": [
    {
     "name": "stderr",
     "output_type": "stream",
     "text": [
      "2025-04-29 15:53:48,233 - INFO:main.pytdscf._const_cls - \u001b[1m\u001b[35m\n",
      "     ____     __________   .____ ____   _____\n",
      "    / _  |   /__  __/ _ \\ / ___ / _  \\ / ___/\n",
      "   / /_) /_  __/ / / / ||/ /__ / / )_// /__\n",
      "  /  ___/ / / / / / / / |.__  / |  __/ ___/\n",
      " /  /  / /_/ / / / /_/ /___/ /| \\_/ / /\n",
      "/__/   \\__, /_/ /_____/_____/ \\____/_/\n",
      "      /____/\n",
      "\u001b[0m\n",
      "2025-04-29 15:53:48,234 - INFO:main.pytdscf._const_cls - Log file is ./donor-acceptor_model-B_prop/main.log\n",
      "2025-04-29 15:53:48,235 - INFO:main.pytdscf.simulator_cls - Set integral of FBR basis\n",
      "2025-04-29 15:53:48,239 - INFO:main.pytdscf.simulator_cls - Set initial wave function (FBR basis)\n",
      "2025-04-29 15:53:48,240 - INFO:main.pytdscf.simulator_cls - Prepare MPS w.f.\n",
      "2025-04-29 15:53:48,241 - INFO:main.pytdscf._mps_cls - Initial MPS: 0-state with weights 1.0\n",
      "2025-04-29 15:53:48,445 - INFO:main.pytdscf.simulator_cls - Wave function is saved in wf_donor-acceptor_model-B.pkl\n",
      "2025-04-29 15:53:48,455 - INFO:main.pytdscf.simulator_cls - Start initial step    0.000 [fs]\n",
      "2025-04-29 15:55:54,232 - INFO:main.pytdscf.simulator_cls - End     0 step; propagated    0.200 [fs]; AVG Krylov iteration: 9.12\n",
      "2025-04-29 19:35:05,209 - INFO:main.pytdscf.simulator_cls - End   100 step; propagated   20.200 [fs]; AVG Krylov iteration: 9.00\n",
      "2025-04-29 23:18:02,326 - INFO:main.pytdscf.simulator_cls - End   200 step; propagated   40.200 [fs]; AVG Krylov iteration: 8.98\n",
      "2025-04-30 02:43:39,532 - INFO:main.pytdscf.simulator_cls - End   300 step; propagated   60.200 [fs]; AVG Krylov iteration: 8.96\n",
      "2025-04-30 06:10:02,094 - INFO:main.pytdscf.simulator_cls - End   400 step; propagated   80.200 [fs]; AVG Krylov iteration: 8.96\n",
      "2025-04-30 09:32:44,773 - INFO:main.pytdscf.simulator_cls - End   500 step; propagated  100.200 [fs]; AVG Krylov iteration: 8.96\n",
      "2025-04-30 13:27:52,093 - INFO:main.pytdscf.simulator_cls - End   600 step; propagated  120.200 [fs]; AVG Krylov iteration: 8.96\n",
      "2025-05-01 02:14:19,365 - INFO:main.pytdscf.simulator_cls - End   700 step; propagated  140.200 [fs]; AVG Krylov iteration: 8.96\n",
      "2025-05-01 05:42:23,924 - INFO:main.pytdscf.simulator_cls - End   800 step; propagated  160.200 [fs]; AVG Krylov iteration: 8.96\n",
      "2025-05-01 09:14:41,696 - INFO:main.pytdscf.simulator_cls - End   900 step; propagated  180.200 [fs]; AVG Krylov iteration: 8.96\n",
      "2025-05-01 12:36:37,687 - INFO:main.pytdscf.simulator_cls - Saved wavefunction  199.800 [fs]\n",
      "2025-05-01 12:39:22,997 - INFO:main.pytdscf.simulator_cls - End   999 step; propagated  199.800 [fs]; AVG Krylov iteration: 8.96\n",
      "2025-05-01 12:39:23,000 - INFO:main.pytdscf.simulator_cls - End simulation and save wavefunction\n",
      "2025-05-01 12:39:26,157 - INFO:main.pytdscf.simulator_cls - Wave function is saved in wf_donor-acceptor_model-B.pkl\n"
     ]
    },
    {
     "data": {
      "text/plain": [
       "(0.7392150450917818, <pytdscf.wavefunction.WFunc at 0x11e0996a0>)"
      ]
     },
     "execution_count": 10,
     "metadata": {},
     "output_type": "execute_result"
    }
   ],
   "source": [
    "jobname = \"donor-acceptor_model-B\"\n",
    "simulator = Simulator(jobname=jobname, model=model, backend=backend, verbose=2)\n",
    "simulator.propagate(\n",
    "    maxstep=1000,\n",
    "    stepsize=0.2,\n",
    "    reduced_density=(\n",
    "        [(0, 0)],\n",
    "        10,\n",
    "    ),\n",
    "    energy=True,\n",
    "    autocorr=False,\n",
    "    observables=True,\n",
    "    observables_per_step=10,\n",
    ")"
   ]
  },
  {
   "cell_type": "markdown",
   "id": "2fba40cc-12b1-487f-90f0-0898a9fcfeec",
   "metadata": {},
   "source": [
    "### Check results (reduced densities)"
   ]
  },
  {
   "cell_type": "code",
   "execution_count": 11,
   "id": "43180861-3b7e-4f67-b949-7534ef205f73",
   "metadata": {},
   "outputs": [],
   "source": [
    "import netCDF4 as nc\n",
    "\n",
    "with nc.Dataset(f\"{jobname}_prop/reduced_density.nc\", \"r\") as file:\n",
    "    density_data_real = file.variables[\"rho_(0, 0)_0\"][:][\"real\"]\n",
    "    density_data_imag = file.variables[\"rho_(0, 0)_0\"][:][\"imag\"]\n",
    "    time_data = file.variables[\"time\"][:]"
   ]
  },
  {
   "cell_type": "code",
   "execution_count": 12,
   "id": "ab203436-0a47-4e4b-9f70-af4d228fe0e7",
   "metadata": {},
   "outputs": [
    {
     "data": {
      "image/png": "[encoded data removed]",
      "text/plain": [
       "<Figure size 640x480 with 1 Axes>"
      ]
     },
     "metadata": {},
     "output_type": "display_data"
    }
   ],
   "source": [
    "plt.title(f\"# of site = {len(basis)}\")\n",
    "plt.ylabel(\"Population\")\n",
    "plt.xlabel(\"Time [fs]\")\n",
    "plt.plot(time_data, density_data_real[:, 0, 0], label=\"LE1\")\n",
    "plt.legend()\n",
    "plt.show()"
   ]
  },
  {
   "cell_type": "code",
   "execution_count": 14,
   "id": "e48a17be-5579-4a53-bf28-82886d824cf8",
   "metadata": {},
   "outputs": [
    {
     "name": "stdout",
     "output_type": "stream",
     "text": [
      "shape: (100, 28)\n",
      "┌───────┬──────────┬──────────┬──────────┬───┬───────────┬──────────┬──────────┬───────────┐\n",
      "│ time  ┆ N0       ┆ N1       ┆ N2       ┆ … ┆ N23       ┆ N24      ┆ N25      ┆ column_28 │\n",
      "│ ---   ┆ ---      ┆ ---      ┆ ---      ┆   ┆ ---       ┆ ---      ┆ ---      ┆ ---       │\n",
      "│ f64   ┆ f64      ┆ f64      ┆ f64      ┆   ┆ f64       ┆ f64      ┆ f64      ┆ str       │\n",
      "╞═══════╪══════════╪══════════╪══════════╪═══╪═══════════╪══════════╪══════════╪═══════════╡\n",
      "│ 0.0   ┆ 1.0      ┆ 0.0      ┆ 0.0      ┆ … ┆ 0.0       ┆ 0.0      ┆ 0.0      ┆ null      │\n",
      "│ 2.0   ┆ 0.876045 ┆ 0.119821 ┆ 0.004072 ┆ … ┆ 0.0       ┆ 0.0      ┆ 0.0      ┆ null      │\n",
      "│ 4.0   ┆ 0.596038 ┆ 0.349781 ┆ 0.050875 ┆ … ┆ 0.0       ┆ 0.0      ┆ 0.0      ┆ null      │\n",
      "│ 6.0   ┆ 0.341647 ┆ 0.460944 ┆ 0.169318 ┆ … ┆ 0.0       ┆ 0.0      ┆ 0.0      ┆ null      │\n",
      "│ 8.0   ┆ 0.222853 ┆ 0.38094  ┆ 0.291616 ┆ … ┆ 0.0       ┆ 0.0      ┆ 0.0      ┆ null      │\n",
      "│ …     ┆ …        ┆ …        ┆ …        ┆ … ┆ …         ┆ …        ┆ …        ┆ …         │\n",
      "│ 190.0 ┆ 0.005025 ┆ 0.016594 ┆ 0.036427 ┆ … ┆ 0.000977  ┆ 0.000505 ┆ 0.000236 ┆ null      │\n",
      "│ 192.0 ┆ 0.005899 ┆ 0.018142 ┆ 0.032132 ┆ … ┆ 0.000796  ┆ 0.000567 ┆ 0.000277 ┆ null      │\n",
      "│ 194.0 ┆ 0.007644 ┆ 0.018724 ┆ 0.029315 ┆ … ┆ 0.000879  ┆ 0.000564 ┆ 0.000333 ┆ null      │\n",
      "│ 196.0 ┆ 0.009644 ┆ 0.018602 ┆ 0.028352 ┆ … ┆ 0.001011  ┆ 0.000572 ┆ 0.000378 ┆ null      │\n",
      "│ 198.0 ┆ 0.010611 ┆ 0.019607 ┆ 0.028035 ┆ … ┆ 0.0010135 ┆ 0.000669 ┆ 0.000385 ┆ null      │\n",
      "└───────┴──────────┴──────────┴──────────┴───┴───────────┴──────────┴──────────┴───────────┘\n"
     ]
    },
    {
     "data": {
      "image/png": "[encoded data removed]",
      "text/plain": [
       "<Figure size 1000x1000 with 2 Axes>"
      ]
     },
     "metadata": {},
     "output_type": "display_data"
    }
   ],
   "source": [
    "import re\n",
    "\n",
    "import polars as pl\n",
    "\n",
    "path = f\"{jobname}_prop/expectations.dat\"\n",
    "with open(path, \"r\") as f:\n",
    "    header = f.readline().strip()\n",
    "    columns = re.split(r\"\\s+\", header)\n",
    "\n",
    "    columns.pop(2)\n",
    "    \n",
    "    columns = [columns[1]] + columns[2:]\n",
    "\n",
    "    data = f.readlines()\n",
    "\n",
    "df = pl.read_csv(\n",
    "    path,\n",
    "    separator=\"\\t\",\n",
    "    new_columns=columns,\n",
    "    has_header=False,\n",
    "    skip_rows=1,\n",
    "    schema_overrides={col: pl.Float64 for col in columns},\n",
    ")\n",
    "\n",
    "print(df)\n",
    "\n",
    "plt.figure(figsize=(10, 10))\n",
    "plt.xticks([0, 13, 25], [\"CS13\", \"LE1\", \"LE13\"])\n",
    "plt.yticks(np.arange(len(df))[::50], df[\"time\"][::50])\n",
    "plt.imshow(df[columns[1:]], aspect=0.5, vmin=0.0, vmax=0.25)\n",
    "plt.colorbar()\n",
    "plt.ylabel(\"time [fs]\")\n",
    "plt.title(r\"$\\langle \\hat{N}_i \\rangle$\")\n",
    "plt.savefig(\"Model_B.png\")\n",
    "plt.show()"
   ]
  },
  {
   "cell_type": "code",
   "execution_count": null,
   "id": "891de9f4-dffd-41f5-ae34-d6217b2e6c6a",
   "metadata": {},
   "outputs": [],
   "source": []
  }
 ],
 "metadata": {
  "kernelspec": {
   "display_name": "Python 3 (ipykernel)",
   "language": "python",
   "name": "python3"
  },
  "language_info": {
   "codemirror_mode": {
    "name": "ipython",
    "version": 3
   },
   "file_extension": ".py",
   "mimetype": "text/x-python",
   "name": "python",
   "nbconvert_exporter": "python",
   "pygments_lexer": "ipython3",
   "version": "3.13.2"
  }
 },
 "nbformat": 4,
 "nbformat_minor": 5
}
